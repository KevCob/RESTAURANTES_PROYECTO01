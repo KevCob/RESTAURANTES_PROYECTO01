{
 "cells": [
  {
   "cell_type": "code",
   "execution_count": 35,
   "metadata": {},
   "outputs": [],
   "source": [
    "import pandas as pd\n",
    "import seaborn as sns\n",
    "import plotly as pt\n",
    "import plotly.express as px\n",
    "import plotly.graph_objects as go\n",
    "import matplotlib.pyplot as plt\n",
    "import plotly.io as pio\n",
    "import folium as fl\n",
    "import nbformat as nb\n",
    "import ipywidgets as wi\n",
    "from collections import Counter\n",
    "from IPython.display import display\n",
    "import Biblioteca_Proyecto as bp\n",
    "import os\n",
    "import json"
   ]
  },
  {
   "cell_type": "code",
   "execution_count": 36,
   "metadata": {},
   "outputs": [],
   "source": [
    "\n",
    "data_list = []\n",
    "\n",
    "for i in os.listdir(\"C:\\Kevin\\PROYECTO\\Jsons Restaurants\\Jsons listos\\Todos los jsons juntos\"):\n",
    "    if i.endswith(\".json\"):\n",
    "        with open(os.path.join(\"C:\\Kevin\\PROYECTO\\Jsons Restaurants\\Jsons listos\\Todos los jsons juntos\", i), \"r\", encoding=\"utf-8\") as file:\n",
    "            json_loaded = json.load(file)\n",
    "            data_list.append(json_loaded)\n",
    "\n",
    "data = pd.DataFrame(data_list)\n",
    "data2 = pd.json_normalize(data_list)"
   ]
  },
  {
   "cell_type": "markdown",
   "metadata": {},
   "source": [
    "Ya Alejandro lleva 3 anos en los Estados Unidos y sus amigos le aconsejaron que lo mejor opcion para ayudar a su familia en Cuba era poniendoles un negocio, el estaba decidido a invertir en algo que no solo generara ingresos, sino que tambien mejorara la calidad de vida de sus padres en La Habana. Muchos le sugirieron algunas de las opciones mas populares en Cuba, como revender productos Shein, sin embargo el tenia una vision diferente,  su objetivo era establecer un negocio autosuficiente, y sabiendo ya que no habia mujer en La Habana que cocinara mejor que su vieja decidio que abrir un restaurante era la mejor opcion para lograr su objetivo....\n",
    "Su madre Caridad una ama de casa que dedico toda su vida a su esposo, a su hijo y a la cocina casi infarata al escuchar la noticia de que por finnnn le van a empezar a pagar por cocinar algo que llevaba toda la vida haciendo por amor y sin ningun tipo de lucro.\n",
    "\n",
    "Para que todo saliera bien, Alejandro sabia que necesitaba resalizar un analisis exhaustivo de la competencia, por lo que tomo una muestra de los restaurantes de toda La Habana...\n",
    "\n"
   ]
  },
  {
   "cell_type": "code",
   "execution_count": 37,
   "metadata": {},
   "outputs": [
    {
     "data": {
      "application/vnd.plotly.v1+json": {
       "config": {
        "plotlyServerURL": "https://plot.ly"
       },
       "data": [
        {
         "cells": {
          "align": "left",
          "fill": {
           "color": "lavender"
          },
          "values": [
           [
            "plaza de la revolucion",
            "habana vieja",
            "centro habana",
            "habana del este",
            "playa",
            "arroyo naranjo",
            "marianao",
            "cerro",
            "cotorro",
            "la lisa",
            "boyeros",
            "guanabacoa",
            "10 de octubre",
            "san miguel del padro"
           ],
           [
            27,
            26,
            20,
            11,
            11,
            10,
            9,
            9,
            8,
            6,
            6,
            4,
            1,
            1
           ]
          ]
         },
         "header": {
          "align": "left",
          "fill": {
           "color": "paleturquoise"
          },
          "values": [
           "Municipio",
           "Cantidad de Restaurantes"
          ]
         },
         "type": "table"
        }
       ],
       "layout": {
        "template": {
         "data": {
          "bar": [
           {
            "error_x": {
             "color": "#2a3f5f"
            },
            "error_y": {
             "color": "#2a3f5f"
            },
            "marker": {
             "line": {
              "color": "#E5ECF6",
              "width": 0.5
             },
             "pattern": {
              "fillmode": "overlay",
              "size": 10,
              "solidity": 0.2
             }
            },
            "type": "bar"
           }
          ],
          "barpolar": [
           {
            "marker": {
             "line": {
              "color": "#E5ECF6",
              "width": 0.5
             },
             "pattern": {
              "fillmode": "overlay",
              "size": 10,
              "solidity": 0.2
             }
            },
            "type": "barpolar"
           }
          ],
          "carpet": [
           {
            "aaxis": {
             "endlinecolor": "#2a3f5f",
             "gridcolor": "white",
             "linecolor": "white",
             "minorgridcolor": "white",
             "startlinecolor": "#2a3f5f"
            },
            "baxis": {
             "endlinecolor": "#2a3f5f",
             "gridcolor": "white",
             "linecolor": "white",
             "minorgridcolor": "white",
             "startlinecolor": "#2a3f5f"
            },
            "type": "carpet"
           }
          ],
          "choropleth": [
           {
            "colorbar": {
             "outlinewidth": 0,
             "ticks": ""
            },
            "type": "choropleth"
           }
          ],
          "contour": [
           {
            "colorbar": {
             "outlinewidth": 0,
             "ticks": ""
            },
            "colorscale": [
             [
              0,
              "#0d0887"
             ],
             [
              0.1111111111111111,
              "#46039f"
             ],
             [
              0.2222222222222222,
              "#7201a8"
             ],
             [
              0.3333333333333333,
              "#9c179e"
             ],
             [
              0.4444444444444444,
              "#bd3786"
             ],
             [
              0.5555555555555556,
              "#d8576b"
             ],
             [
              0.6666666666666666,
              "#ed7953"
             ],
             [
              0.7777777777777778,
              "#fb9f3a"
             ],
             [
              0.8888888888888888,
              "#fdca26"
             ],
             [
              1,
              "#f0f921"
             ]
            ],
            "type": "contour"
           }
          ],
          "contourcarpet": [
           {
            "colorbar": {
             "outlinewidth": 0,
             "ticks": ""
            },
            "type": "contourcarpet"
           }
          ],
          "heatmap": [
           {
            "colorbar": {
             "outlinewidth": 0,
             "ticks": ""
            },
            "colorscale": [
             [
              0,
              "#0d0887"
             ],
             [
              0.1111111111111111,
              "#46039f"
             ],
             [
              0.2222222222222222,
              "#7201a8"
             ],
             [
              0.3333333333333333,
              "#9c179e"
             ],
             [
              0.4444444444444444,
              "#bd3786"
             ],
             [
              0.5555555555555556,
              "#d8576b"
             ],
             [
              0.6666666666666666,
              "#ed7953"
             ],
             [
              0.7777777777777778,
              "#fb9f3a"
             ],
             [
              0.8888888888888888,
              "#fdca26"
             ],
             [
              1,
              "#f0f921"
             ]
            ],
            "type": "heatmap"
           }
          ],
          "heatmapgl": [
           {
            "colorbar": {
             "outlinewidth": 0,
             "ticks": ""
            },
            "colorscale": [
             [
              0,
              "#0d0887"
             ],
             [
              0.1111111111111111,
              "#46039f"
             ],
             [
              0.2222222222222222,
              "#7201a8"
             ],
             [
              0.3333333333333333,
              "#9c179e"
             ],
             [
              0.4444444444444444,
              "#bd3786"
             ],
             [
              0.5555555555555556,
              "#d8576b"
             ],
             [
              0.6666666666666666,
              "#ed7953"
             ],
             [
              0.7777777777777778,
              "#fb9f3a"
             ],
             [
              0.8888888888888888,
              "#fdca26"
             ],
             [
              1,
              "#f0f921"
             ]
            ],
            "type": "heatmapgl"
           }
          ],
          "histogram": [
           {
            "marker": {
             "pattern": {
              "fillmode": "overlay",
              "size": 10,
              "solidity": 0.2
             }
            },
            "type": "histogram"
           }
          ],
          "histogram2d": [
           {
            "colorbar": {
             "outlinewidth": 0,
             "ticks": ""
            },
            "colorscale": [
             [
              0,
              "#0d0887"
             ],
             [
              0.1111111111111111,
              "#46039f"
             ],
             [
              0.2222222222222222,
              "#7201a8"
             ],
             [
              0.3333333333333333,
              "#9c179e"
             ],
             [
              0.4444444444444444,
              "#bd3786"
             ],
             [
              0.5555555555555556,
              "#d8576b"
             ],
             [
              0.6666666666666666,
              "#ed7953"
             ],
             [
              0.7777777777777778,
              "#fb9f3a"
             ],
             [
              0.8888888888888888,
              "#fdca26"
             ],
             [
              1,
              "#f0f921"
             ]
            ],
            "type": "histogram2d"
           }
          ],
          "histogram2dcontour": [
           {
            "colorbar": {
             "outlinewidth": 0,
             "ticks": ""
            },
            "colorscale": [
             [
              0,
              "#0d0887"
             ],
             [
              0.1111111111111111,
              "#46039f"
             ],
             [
              0.2222222222222222,
              "#7201a8"
             ],
             [
              0.3333333333333333,
              "#9c179e"
             ],
             [
              0.4444444444444444,
              "#bd3786"
             ],
             [
              0.5555555555555556,
              "#d8576b"
             ],
             [
              0.6666666666666666,
              "#ed7953"
             ],
             [
              0.7777777777777778,
              "#fb9f3a"
             ],
             [
              0.8888888888888888,
              "#fdca26"
             ],
             [
              1,
              "#f0f921"
             ]
            ],
            "type": "histogram2dcontour"
           }
          ],
          "mesh3d": [
           {
            "colorbar": {
             "outlinewidth": 0,
             "ticks": ""
            },
            "type": "mesh3d"
           }
          ],
          "parcoords": [
           {
            "line": {
             "colorbar": {
              "outlinewidth": 0,
              "ticks": ""
             }
            },
            "type": "parcoords"
           }
          ],
          "pie": [
           {
            "automargin": true,
            "type": "pie"
           }
          ],
          "scatter": [
           {
            "fillpattern": {
             "fillmode": "overlay",
             "size": 10,
             "solidity": 0.2
            },
            "type": "scatter"
           }
          ],
          "scatter3d": [
           {
            "line": {
             "colorbar": {
              "outlinewidth": 0,
              "ticks": ""
             }
            },
            "marker": {
             "colorbar": {
              "outlinewidth": 0,
              "ticks": ""
             }
            },
            "type": "scatter3d"
           }
          ],
          "scattercarpet": [
           {
            "marker": {
             "colorbar": {
              "outlinewidth": 0,
              "ticks": ""
             }
            },
            "type": "scattercarpet"
           }
          ],
          "scattergeo": [
           {
            "marker": {
             "colorbar": {
              "outlinewidth": 0,
              "ticks": ""
             }
            },
            "type": "scattergeo"
           }
          ],
          "scattergl": [
           {
            "marker": {
             "colorbar": {
              "outlinewidth": 0,
              "ticks": ""
             }
            },
            "type": "scattergl"
           }
          ],
          "scattermapbox": [
           {
            "marker": {
             "colorbar": {
              "outlinewidth": 0,
              "ticks": ""
             }
            },
            "type": "scattermapbox"
           }
          ],
          "scatterpolar": [
           {
            "marker": {
             "colorbar": {
              "outlinewidth": 0,
              "ticks": ""
             }
            },
            "type": "scatterpolar"
           }
          ],
          "scatterpolargl": [
           {
            "marker": {
             "colorbar": {
              "outlinewidth": 0,
              "ticks": ""
             }
            },
            "type": "scatterpolargl"
           }
          ],
          "scatterternary": [
           {
            "marker": {
             "colorbar": {
              "outlinewidth": 0,
              "ticks": ""
             }
            },
            "type": "scatterternary"
           }
          ],
          "surface": [
           {
            "colorbar": {
             "outlinewidth": 0,
             "ticks": ""
            },
            "colorscale": [
             [
              0,
              "#0d0887"
             ],
             [
              0.1111111111111111,
              "#46039f"
             ],
             [
              0.2222222222222222,
              "#7201a8"
             ],
             [
              0.3333333333333333,
              "#9c179e"
             ],
             [
              0.4444444444444444,
              "#bd3786"
             ],
             [
              0.5555555555555556,
              "#d8576b"
             ],
             [
              0.6666666666666666,
              "#ed7953"
             ],
             [
              0.7777777777777778,
              "#fb9f3a"
             ],
             [
              0.8888888888888888,
              "#fdca26"
             ],
             [
              1,
              "#f0f921"
             ]
            ],
            "type": "surface"
           }
          ],
          "table": [
           {
            "cells": {
             "fill": {
              "color": "#EBF0F8"
             },
             "line": {
              "color": "white"
             }
            },
            "header": {
             "fill": {
              "color": "#C8D4E3"
             },
             "line": {
              "color": "white"
             }
            },
            "type": "table"
           }
          ]
         },
         "layout": {
          "annotationdefaults": {
           "arrowcolor": "#2a3f5f",
           "arrowhead": 0,
           "arrowwidth": 1
          },
          "autotypenumbers": "strict",
          "coloraxis": {
           "colorbar": {
            "outlinewidth": 0,
            "ticks": ""
           }
          },
          "colorscale": {
           "diverging": [
            [
             0,
             "#8e0152"
            ],
            [
             0.1,
             "#c51b7d"
            ],
            [
             0.2,
             "#de77ae"
            ],
            [
             0.3,
             "#f1b6da"
            ],
            [
             0.4,
             "#fde0ef"
            ],
            [
             0.5,
             "#f7f7f7"
            ],
            [
             0.6,
             "#e6f5d0"
            ],
            [
             0.7,
             "#b8e186"
            ],
            [
             0.8,
             "#7fbc41"
            ],
            [
             0.9,
             "#4d9221"
            ],
            [
             1,
             "#276419"
            ]
           ],
           "sequential": [
            [
             0,
             "#0d0887"
            ],
            [
             0.1111111111111111,
             "#46039f"
            ],
            [
             0.2222222222222222,
             "#7201a8"
            ],
            [
             0.3333333333333333,
             "#9c179e"
            ],
            [
             0.4444444444444444,
             "#bd3786"
            ],
            [
             0.5555555555555556,
             "#d8576b"
            ],
            [
             0.6666666666666666,
             "#ed7953"
            ],
            [
             0.7777777777777778,
             "#fb9f3a"
            ],
            [
             0.8888888888888888,
             "#fdca26"
            ],
            [
             1,
             "#f0f921"
            ]
           ],
           "sequentialminus": [
            [
             0,
             "#0d0887"
            ],
            [
             0.1111111111111111,
             "#46039f"
            ],
            [
             0.2222222222222222,
             "#7201a8"
            ],
            [
             0.3333333333333333,
             "#9c179e"
            ],
            [
             0.4444444444444444,
             "#bd3786"
            ],
            [
             0.5555555555555556,
             "#d8576b"
            ],
            [
             0.6666666666666666,
             "#ed7953"
            ],
            [
             0.7777777777777778,
             "#fb9f3a"
            ],
            [
             0.8888888888888888,
             "#fdca26"
            ],
            [
             1,
             "#f0f921"
            ]
           ]
          },
          "colorway": [
           "#636efa",
           "#EF553B",
           "#00cc96",
           "#ab63fa",
           "#FFA15A",
           "#19d3f3",
           "#FF6692",
           "#B6E880",
           "#FF97FF",
           "#FECB52"
          ],
          "font": {
           "color": "#2a3f5f"
          },
          "geo": {
           "bgcolor": "white",
           "lakecolor": "white",
           "landcolor": "#E5ECF6",
           "showlakes": true,
           "showland": true,
           "subunitcolor": "white"
          },
          "hoverlabel": {
           "align": "left"
          },
          "hovermode": "closest",
          "mapbox": {
           "style": "light"
          },
          "paper_bgcolor": "white",
          "plot_bgcolor": "#E5ECF6",
          "polar": {
           "angularaxis": {
            "gridcolor": "white",
            "linecolor": "white",
            "ticks": ""
           },
           "bgcolor": "#E5ECF6",
           "radialaxis": {
            "gridcolor": "white",
            "linecolor": "white",
            "ticks": ""
           }
          },
          "scene": {
           "xaxis": {
            "backgroundcolor": "#E5ECF6",
            "gridcolor": "white",
            "gridwidth": 2,
            "linecolor": "white",
            "showbackground": true,
            "ticks": "",
            "zerolinecolor": "white"
           },
           "yaxis": {
            "backgroundcolor": "#E5ECF6",
            "gridcolor": "white",
            "gridwidth": 2,
            "linecolor": "white",
            "showbackground": true,
            "ticks": "",
            "zerolinecolor": "white"
           },
           "zaxis": {
            "backgroundcolor": "#E5ECF6",
            "gridcolor": "white",
            "gridwidth": 2,
            "linecolor": "white",
            "showbackground": true,
            "ticks": "",
            "zerolinecolor": "white"
           }
          },
          "shapedefaults": {
           "line": {
            "color": "#2a3f5f"
           }
          },
          "ternary": {
           "aaxis": {
            "gridcolor": "white",
            "linecolor": "white",
            "ticks": ""
           },
           "baxis": {
            "gridcolor": "white",
            "linecolor": "white",
            "ticks": ""
           },
           "bgcolor": "#E5ECF6",
           "caxis": {
            "gridcolor": "white",
            "linecolor": "white",
            "ticks": ""
           }
          },
          "title": {
           "x": 0.05
          },
          "xaxis": {
           "automargin": true,
           "gridcolor": "white",
           "linecolor": "white",
           "ticks": "",
           "title": {
            "standoff": 15
           },
           "zerolinecolor": "white",
           "zerolinewidth": 2
          },
          "yaxis": {
           "automargin": true,
           "gridcolor": "white",
           "linecolor": "white",
           "ticks": "",
           "title": {
            "standoff": 15
           },
           "zerolinecolor": "white",
           "zerolinewidth": 2
          }
         }
        },
        "title": {
         "text": "Cantidad de Restaurantes por Municipio"
        }
       }
      }
     },
     "metadata": {},
     "output_type": "display_data"
    },
    {
     "name": "stdout",
     "output_type": "stream",
     "text": [
      "Total de Restaurantes:  149\n"
     ]
    }
   ],
   "source": [
    "#Tabla con la cantidad de jsons que hay de cada municipio :)\n",
    "municipio = data2[\"location.municipe\"].str.lower().str.strip()\n",
    "\n",
    "restaurantes_municipio = municipio.value_counts().reset_index()\n",
    "restaurantes_municipio.columns = [\"municipio\", \"cantidad_restaurantes\"]\n",
    "\n",
    "\n",
    "fig = go.Figure(data=[go.Table(\n",
    "    header=dict(values=[\"Municipio\", \"Cantidad de Restaurantes\"],\n",
    "                fill_color=\"paleturquoise\",\n",
    "                align=\"left\"),\n",
    "    cells=dict(values=[restaurantes_municipio[\"municipio\"], restaurantes_municipio[\"cantidad_restaurantes\"]],\n",
    "               fill_color=\"lavender\",\n",
    "               align=\"left\"))\n",
    "])\n",
    "\n",
    "\n",
    "fig.update_layout(title=\"Cantidad de Restaurantes por Municipio\")\n",
    "fig.show()\n",
    "\n",
    "total = restaurantes_municipio['cantidad_restaurantes'].sum()\n",
    "print(\"Total de Restaurantes: \",total)\n"
   ]
  },
  {
   "cell_type": "markdown",
   "metadata": {},
   "source": [
    "Lo primero era estudiar el mercado para conocer los precios de la competencia, el queria que sus precios estuvieran por debajo de una gran parte de los restaurantes de glamur, que como le decia su madre: \"mijo ese lugar es solo para turistas\", porque siempre considero los precios \"locos\" un abuso para el cubano de a pie y queria que su restaurante aunque no tuviera mucho lujo fuera algo absequible al menos para la mayoria."
   ]
  },
  {
   "cell_type": "code",
   "execution_count": 38,
   "metadata": {},
   "outputs": [
    {
     "data": {
      "application/vnd.jupyter.widget-view+json": {
       "model_id": "4ed772edd4f141de8005a697e43c7834",
       "version_major": 2,
       "version_minor": 0
      },
      "text/plain": [
       "interactive(children=(Dropdown(description='Municipio:', options=('Marianao', 'Habana del Este', 'Habana Vieja…"
      ]
     },
     "metadata": {},
     "output_type": "display_data"
    },
    {
     "data": {
      "text/plain": [
       "<function __main__.mostrar_tabla(municipio)>"
      ]
     },
     "execution_count": 38,
     "metadata": {},
     "output_type": "execute_result"
    }
   ],
   "source": [
    "data2[\"menu_price\"] = data2.apply(bp.c_precio_medio, axis=1)\n",
    "\n",
    "data3 = data2.dropna(subset=[\"menu_price\"])\n",
    "\n",
    "data3 = data2.sort_values(by=[\"location.municipe\", \"menu_price\"], ascending=[True, True])\n",
    "\n",
    "municipios = data2[\"location.municipe\"].unique()\n",
    "info_municipio = {municipio: data3[data3[\"location.municipe\"] == municipio] for municipio in municipios}\n",
    "\n",
    "def mostrar_tabla(municipio):\n",
    "    display(info_municipio[municipio][[\"name\", \"menu_price\"]])\n",
    "\n",
    "selector_municipio = wi.Dropdown(options=municipios, description=\"Municipio:\")\n",
    "wi.interact(mostrar_tabla, municipio=selector_municipio)\n",
    "\n"
   ]
  },
  {
   "cell_type": "markdown",
   "metadata": {},
   "source": [
    "Despues que quedo comprobado que la media de los precios de los diferentes citios iban desde los 400 cup en pequenos cafes, o cafeterias estatales, hasta 4000 cup en restaurantes mas refiinados en el corazon del Vedado o en las historicas plasas de la Habana Vieja, decidio dejar que el suyo tendria un media de 1000 cup ya conocia el dato de que el salario medio de los cubanos es de 4.648 pesos cubanos segun la Oficina Nacional de Estadistica e Informacion (ONEI) y dado que el precio medio de su restaurante vendria siendo el 21.51% de del sueldo no le parecia lo mas correcto pero no podia hacer nada mas debido al aumento de los productos que necesitaria para elaborar su menu.\n",
    "\n",
    "\n",
    "\n"
   ]
  },
  {
   "cell_type": "markdown",
   "metadata": {},
   "source": [
    "\n",
    "<img src=\"https://img.freepik.com/vector-premium/conjunto-comida-cubana-plato-tradicional-cubano-ilustracion-vectorial_529344-2087.jpg?w=740\" alt=\"Comida Cubana\" style=\"width: 100%;\">\n"
   ]
  },
  {
   "cell_type": "markdown",
   "metadata": {},
   "source": [
    "Ay!!, mijo lo unico que te va a pedir tu madre es que por favor no me pongas a preparar moderneses tu sabes que mi cocina es a la antigua y compra sazones naturales que para ti no es novedad el odio que le tengo a cocinar con polvitos de esos.\n",
    "Alejandro: Tranquila vieja aqui se cocina lo que tu digas y tu sabes que no hay cosa que nos guste mas a nosotros que los platillos mas comunes, aqui no somos de cabiar, ni de salmon, hasta el restaurante mas glamuroso de La Habana tiene que tener en su menu una oferta de ropa vieja y unas buenas croquetas."
   ]
  },
  {
   "cell_type": "code",
   "execution_count": 39,
   "metadata": {},
   "outputs": [
    {
     "data": {
      "application/vnd.plotly.v1+json": {
       "config": {
        "plotlyServerURL": "https://plot.ly"
       },
       "data": [
        {
         "marker": {
          "color": "red"
         },
         "name": "Entrantes",
         "type": "bar",
         "visible": true,
         "x": [
          "frituras de malanga",
          "papas fritas",
          "croquetas de la casa"
         ],
         "y": [
          29,
          28,
          26
         ]
        },
        {
         "marker": {
          "color": "blue"
         },
         "name": "Principales",
         "type": "bar",
         "visible": false,
         "x": [
          "ropa vieja",
          "bistec de cerdo",
          "fricase de cerdo"
         ],
         "y": [
          31,
          17,
          17
         ]
        },
        {
         "marker": {
          "color": "green"
         },
         "name": "Pizzas",
         "type": "bar",
         "visible": false,
         "x": [
          "pizza napolitana",
          "pizza hawaiana",
          "pizza de jamon"
         ],
         "y": [
          20,
          19,
          15
         ]
        },
        {
         "marker": {
          "color": "orange"
         },
         "name": "Postres",
         "type": "bar",
         "visible": false,
         "x": [
          "flan",
          "copa de helado",
          "copa lolita"
         ],
         "y": [
          16,
          13,
          12
         ]
        },
        {
         "marker": {
          "color": "purple"
         },
         "name": "Cocteles",
         "type": "bar",
         "visible": false,
         "x": [
          "cuba libre",
          "mojito",
          "caipiroska"
         ],
         "y": [
          54,
          51,
          50
         ]
        }
       ],
       "layout": {
        "template": {
         "data": {
          "bar": [
           {
            "error_x": {
             "color": "#2a3f5f"
            },
            "error_y": {
             "color": "#2a3f5f"
            },
            "marker": {
             "line": {
              "color": "#E5ECF6",
              "width": 0.5
             },
             "pattern": {
              "fillmode": "overlay",
              "size": 10,
              "solidity": 0.2
             }
            },
            "type": "bar"
           }
          ],
          "barpolar": [
           {
            "marker": {
             "line": {
              "color": "#E5ECF6",
              "width": 0.5
             },
             "pattern": {
              "fillmode": "overlay",
              "size": 10,
              "solidity": 0.2
             }
            },
            "type": "barpolar"
           }
          ],
          "carpet": [
           {
            "aaxis": {
             "endlinecolor": "#2a3f5f",
             "gridcolor": "white",
             "linecolor": "white",
             "minorgridcolor": "white",
             "startlinecolor": "#2a3f5f"
            },
            "baxis": {
             "endlinecolor": "#2a3f5f",
             "gridcolor": "white",
             "linecolor": "white",
             "minorgridcolor": "white",
             "startlinecolor": "#2a3f5f"
            },
            "type": "carpet"
           }
          ],
          "choropleth": [
           {
            "colorbar": {
             "outlinewidth": 0,
             "ticks": ""
            },
            "type": "choropleth"
           }
          ],
          "contour": [
           {
            "colorbar": {
             "outlinewidth": 0,
             "ticks": ""
            },
            "colorscale": [
             [
              0,
              "#0d0887"
             ],
             [
              0.1111111111111111,
              "#46039f"
             ],
             [
              0.2222222222222222,
              "#7201a8"
             ],
             [
              0.3333333333333333,
              "#9c179e"
             ],
             [
              0.4444444444444444,
              "#bd3786"
             ],
             [
              0.5555555555555556,
              "#d8576b"
             ],
             [
              0.6666666666666666,
              "#ed7953"
             ],
             [
              0.7777777777777778,
              "#fb9f3a"
             ],
             [
              0.8888888888888888,
              "#fdca26"
             ],
             [
              1,
              "#f0f921"
             ]
            ],
            "type": "contour"
           }
          ],
          "contourcarpet": [
           {
            "colorbar": {
             "outlinewidth": 0,
             "ticks": ""
            },
            "type": "contourcarpet"
           }
          ],
          "heatmap": [
           {
            "colorbar": {
             "outlinewidth": 0,
             "ticks": ""
            },
            "colorscale": [
             [
              0,
              "#0d0887"
             ],
             [
              0.1111111111111111,
              "#46039f"
             ],
             [
              0.2222222222222222,
              "#7201a8"
             ],
             [
              0.3333333333333333,
              "#9c179e"
             ],
             [
              0.4444444444444444,
              "#bd3786"
             ],
             [
              0.5555555555555556,
              "#d8576b"
             ],
             [
              0.6666666666666666,
              "#ed7953"
             ],
             [
              0.7777777777777778,
              "#fb9f3a"
             ],
             [
              0.8888888888888888,
              "#fdca26"
             ],
             [
              1,
              "#f0f921"
             ]
            ],
            "type": "heatmap"
           }
          ],
          "heatmapgl": [
           {
            "colorbar": {
             "outlinewidth": 0,
             "ticks": ""
            },
            "colorscale": [
             [
              0,
              "#0d0887"
             ],
             [
              0.1111111111111111,
              "#46039f"
             ],
             [
              0.2222222222222222,
              "#7201a8"
             ],
             [
              0.3333333333333333,
              "#9c179e"
             ],
             [
              0.4444444444444444,
              "#bd3786"
             ],
             [
              0.5555555555555556,
              "#d8576b"
             ],
             [
              0.6666666666666666,
              "#ed7953"
             ],
             [
              0.7777777777777778,
              "#fb9f3a"
             ],
             [
              0.8888888888888888,
              "#fdca26"
             ],
             [
              1,
              "#f0f921"
             ]
            ],
            "type": "heatmapgl"
           }
          ],
          "histogram": [
           {
            "marker": {
             "pattern": {
              "fillmode": "overlay",
              "size": 10,
              "solidity": 0.2
             }
            },
            "type": "histogram"
           }
          ],
          "histogram2d": [
           {
            "colorbar": {
             "outlinewidth": 0,
             "ticks": ""
            },
            "colorscale": [
             [
              0,
              "#0d0887"
             ],
             [
              0.1111111111111111,
              "#46039f"
             ],
             [
              0.2222222222222222,
              "#7201a8"
             ],
             [
              0.3333333333333333,
              "#9c179e"
             ],
             [
              0.4444444444444444,
              "#bd3786"
             ],
             [
              0.5555555555555556,
              "#d8576b"
             ],
             [
              0.6666666666666666,
              "#ed7953"
             ],
             [
              0.7777777777777778,
              "#fb9f3a"
             ],
             [
              0.8888888888888888,
              "#fdca26"
             ],
             [
              1,
              "#f0f921"
             ]
            ],
            "type": "histogram2d"
           }
          ],
          "histogram2dcontour": [
           {
            "colorbar": {
             "outlinewidth": 0,
             "ticks": ""
            },
            "colorscale": [
             [
              0,
              "#0d0887"
             ],
             [
              0.1111111111111111,
              "#46039f"
             ],
             [
              0.2222222222222222,
              "#7201a8"
             ],
             [
              0.3333333333333333,
              "#9c179e"
             ],
             [
              0.4444444444444444,
              "#bd3786"
             ],
             [
              0.5555555555555556,
              "#d8576b"
             ],
             [
              0.6666666666666666,
              "#ed7953"
             ],
             [
              0.7777777777777778,
              "#fb9f3a"
             ],
             [
              0.8888888888888888,
              "#fdca26"
             ],
             [
              1,
              "#f0f921"
             ]
            ],
            "type": "histogram2dcontour"
           }
          ],
          "mesh3d": [
           {
            "colorbar": {
             "outlinewidth": 0,
             "ticks": ""
            },
            "type": "mesh3d"
           }
          ],
          "parcoords": [
           {
            "line": {
             "colorbar": {
              "outlinewidth": 0,
              "ticks": ""
             }
            },
            "type": "parcoords"
           }
          ],
          "pie": [
           {
            "automargin": true,
            "type": "pie"
           }
          ],
          "scatter": [
           {
            "fillpattern": {
             "fillmode": "overlay",
             "size": 10,
             "solidity": 0.2
            },
            "type": "scatter"
           }
          ],
          "scatter3d": [
           {
            "line": {
             "colorbar": {
              "outlinewidth": 0,
              "ticks": ""
             }
            },
            "marker": {
             "colorbar": {
              "outlinewidth": 0,
              "ticks": ""
             }
            },
            "type": "scatter3d"
           }
          ],
          "scattercarpet": [
           {
            "marker": {
             "colorbar": {
              "outlinewidth": 0,
              "ticks": ""
             }
            },
            "type": "scattercarpet"
           }
          ],
          "scattergeo": [
           {
            "marker": {
             "colorbar": {
              "outlinewidth": 0,
              "ticks": ""
             }
            },
            "type": "scattergeo"
           }
          ],
          "scattergl": [
           {
            "marker": {
             "colorbar": {
              "outlinewidth": 0,
              "ticks": ""
             }
            },
            "type": "scattergl"
           }
          ],
          "scattermapbox": [
           {
            "marker": {
             "colorbar": {
              "outlinewidth": 0,
              "ticks": ""
             }
            },
            "type": "scattermapbox"
           }
          ],
          "scatterpolar": [
           {
            "marker": {
             "colorbar": {
              "outlinewidth": 0,
              "ticks": ""
             }
            },
            "type": "scatterpolar"
           }
          ],
          "scatterpolargl": [
           {
            "marker": {
             "colorbar": {
              "outlinewidth": 0,
              "ticks": ""
             }
            },
            "type": "scatterpolargl"
           }
          ],
          "scatterternary": [
           {
            "marker": {
             "colorbar": {
              "outlinewidth": 0,
              "ticks": ""
             }
            },
            "type": "scatterternary"
           }
          ],
          "surface": [
           {
            "colorbar": {
             "outlinewidth": 0,
             "ticks": ""
            },
            "colorscale": [
             [
              0,
              "#0d0887"
             ],
             [
              0.1111111111111111,
              "#46039f"
             ],
             [
              0.2222222222222222,
              "#7201a8"
             ],
             [
              0.3333333333333333,
              "#9c179e"
             ],
             [
              0.4444444444444444,
              "#bd3786"
             ],
             [
              0.5555555555555556,
              "#d8576b"
             ],
             [
              0.6666666666666666,
              "#ed7953"
             ],
             [
              0.7777777777777778,
              "#fb9f3a"
             ],
             [
              0.8888888888888888,
              "#fdca26"
             ],
             [
              1,
              "#f0f921"
             ]
            ],
            "type": "surface"
           }
          ],
          "table": [
           {
            "cells": {
             "fill": {
              "color": "#EBF0F8"
             },
             "line": {
              "color": "white"
             }
            },
            "header": {
             "fill": {
              "color": "#C8D4E3"
             },
             "line": {
              "color": "white"
             }
            },
            "type": "table"
           }
          ]
         },
         "layout": {
          "annotationdefaults": {
           "arrowcolor": "#2a3f5f",
           "arrowhead": 0,
           "arrowwidth": 1
          },
          "autotypenumbers": "strict",
          "coloraxis": {
           "colorbar": {
            "outlinewidth": 0,
            "ticks": ""
           }
          },
          "colorscale": {
           "diverging": [
            [
             0,
             "#8e0152"
            ],
            [
             0.1,
             "#c51b7d"
            ],
            [
             0.2,
             "#de77ae"
            ],
            [
             0.3,
             "#f1b6da"
            ],
            [
             0.4,
             "#fde0ef"
            ],
            [
             0.5,
             "#f7f7f7"
            ],
            [
             0.6,
             "#e6f5d0"
            ],
            [
             0.7,
             "#b8e186"
            ],
            [
             0.8,
             "#7fbc41"
            ],
            [
             0.9,
             "#4d9221"
            ],
            [
             1,
             "#276419"
            ]
           ],
           "sequential": [
            [
             0,
             "#0d0887"
            ],
            [
             0.1111111111111111,
             "#46039f"
            ],
            [
             0.2222222222222222,
             "#7201a8"
            ],
            [
             0.3333333333333333,
             "#9c179e"
            ],
            [
             0.4444444444444444,
             "#bd3786"
            ],
            [
             0.5555555555555556,
             "#d8576b"
            ],
            [
             0.6666666666666666,
             "#ed7953"
            ],
            [
             0.7777777777777778,
             "#fb9f3a"
            ],
            [
             0.8888888888888888,
             "#fdca26"
            ],
            [
             1,
             "#f0f921"
            ]
           ],
           "sequentialminus": [
            [
             0,
             "#0d0887"
            ],
            [
             0.1111111111111111,
             "#46039f"
            ],
            [
             0.2222222222222222,
             "#7201a8"
            ],
            [
             0.3333333333333333,
             "#9c179e"
            ],
            [
             0.4444444444444444,
             "#bd3786"
            ],
            [
             0.5555555555555556,
             "#d8576b"
            ],
            [
             0.6666666666666666,
             "#ed7953"
            ],
            [
             0.7777777777777778,
             "#fb9f3a"
            ],
            [
             0.8888888888888888,
             "#fdca26"
            ],
            [
             1,
             "#f0f921"
            ]
           ]
          },
          "colorway": [
           "#636efa",
           "#EF553B",
           "#00cc96",
           "#ab63fa",
           "#FFA15A",
           "#19d3f3",
           "#FF6692",
           "#B6E880",
           "#FF97FF",
           "#FECB52"
          ],
          "font": {
           "color": "#2a3f5f"
          },
          "geo": {
           "bgcolor": "white",
           "lakecolor": "white",
           "landcolor": "#E5ECF6",
           "showlakes": true,
           "showland": true,
           "subunitcolor": "white"
          },
          "hoverlabel": {
           "align": "left"
          },
          "hovermode": "closest",
          "mapbox": {
           "style": "light"
          },
          "paper_bgcolor": "white",
          "plot_bgcolor": "#E5ECF6",
          "polar": {
           "angularaxis": {
            "gridcolor": "white",
            "linecolor": "white",
            "ticks": ""
           },
           "bgcolor": "#E5ECF6",
           "radialaxis": {
            "gridcolor": "white",
            "linecolor": "white",
            "ticks": ""
           }
          },
          "scene": {
           "xaxis": {
            "backgroundcolor": "#E5ECF6",
            "gridcolor": "white",
            "gridwidth": 2,
            "linecolor": "white",
            "showbackground": true,
            "ticks": "",
            "zerolinecolor": "white"
           },
           "yaxis": {
            "backgroundcolor": "#E5ECF6",
            "gridcolor": "white",
            "gridwidth": 2,
            "linecolor": "white",
            "showbackground": true,
            "ticks": "",
            "zerolinecolor": "white"
           },
           "zaxis": {
            "backgroundcolor": "#E5ECF6",
            "gridcolor": "white",
            "gridwidth": 2,
            "linecolor": "white",
            "showbackground": true,
            "ticks": "",
            "zerolinecolor": "white"
           }
          },
          "shapedefaults": {
           "line": {
            "color": "#2a3f5f"
           }
          },
          "ternary": {
           "aaxis": {
            "gridcolor": "white",
            "linecolor": "white",
            "ticks": ""
           },
           "baxis": {
            "gridcolor": "white",
            "linecolor": "white",
            "ticks": ""
           },
           "bgcolor": "#E5ECF6",
           "caxis": {
            "gridcolor": "white",
            "linecolor": "white",
            "ticks": ""
           }
          },
          "title": {
           "x": 0.05
          },
          "xaxis": {
           "automargin": true,
           "gridcolor": "white",
           "linecolor": "white",
           "ticks": "",
           "title": {
            "standoff": 15
           },
           "zerolinecolor": "white",
           "zerolinewidth": 2
          },
          "yaxis": {
           "automargin": true,
           "gridcolor": "white",
           "linecolor": "white",
           "ticks": "",
           "title": {
            "standoff": 15
           },
           "zerolinecolor": "white",
           "zerolinewidth": 2
          }
         }
        },
        "updatemenus": [
         {
          "buttons": [
           {
            "args": [
             {
              "visible": [
               true,
               false,
               false,
               false,
               false
              ]
             },
             {
              "title": "Entrantes mas comunes"
             }
            ],
            "label": "Entrantes",
            "method": "update"
           },
           {
            "args": [
             {
              "visible": [
               false,
               true,
               false,
               false,
               false
              ]
             },
             {
              "title": "Principales mas comunes"
             }
            ],
            "label": "Principales",
            "method": "update"
           },
           {
            "args": [
             {
              "visible": [
               false,
               false,
               true,
               false,
               false
              ]
             },
             {
              "title": "Pizzas mas comunes"
             }
            ],
            "label": "Pizzas",
            "method": "update"
           },
           {
            "args": [
             {
              "visible": [
               false,
               false,
               false,
               true,
               false
              ]
             },
             {
              "title": "Postres mas comunes"
             }
            ],
            "label": "Postres",
            "method": "update"
           },
           {
            "args": [
             {
              "visible": [
               false,
               false,
               false,
               false,
               true
              ]
             },
             {
              "title": "Cocteles mas comunes"
             }
            ],
            "label": "Cocteles",
            "method": "update"
           }
          ],
          "showactive": true,
          "type": "buttons"
         }
        ]
       }
      }
     },
     "metadata": {},
     "output_type": "display_data"
    }
   ],
   "source": [
    "#Grafico de barras que muestra cuales son los 3 (entrantes,principales,pizzas,postres,cocteles) mas comunes en los menu :)\n",
    "\n",
    "entrantes_nombres = []\n",
    "entrantes_comunes = []\n",
    "\n",
    "for index, row in data.iterrows():\n",
    "    menu = row[\"menu\"]\n",
    "    if isinstance(menu, dict) and \"starters\" in menu:  \n",
    "        for starter in menu[\"starters\"]:\n",
    "            nombre = starter.get(\"item_name\")\n",
    "            if nombre is not None: \n",
    "                nombre_igualado =bp.i_nombre(nombre)\n",
    "                entrantes_nombres.append(nombre_igualado)\n",
    "counter = Counter(entrantes_nombres)\n",
    "tres_mas_comunes = counter.most_common(3)\n",
    "for nombre, frecuencia in tres_mas_comunes:\n",
    "    entrantes_comunes.append((nombre, frecuencia))\n",
    "    \n",
    "\n",
    "principales_nombres = []\n",
    "principales_comunes = []\n",
    "\n",
    "for index, row in data.iterrows():\n",
    "    menu = row[\"menu\"]\n",
    "    if isinstance(menu, dict) and \"mains\" in menu:  \n",
    "        for starter in menu[\"mains\"]:\n",
    "            nombre = starter.get(\"item_name\")\n",
    "            if nombre is not None: \n",
    "                nombre_igualado = bp.i_nombre(nombre)\n",
    "                principales_nombres.append(nombre_igualado)\n",
    "counter = Counter(principales_nombres)\n",
    "tres_mas_comunes = counter.most_common(3)\n",
    "for nombre, frecuencia in tres_mas_comunes:\n",
    "    principales_comunes.append((nombre, frecuencia))\n",
    "\n",
    "pizza_nombres = []\n",
    "pizza_comunes = []\n",
    "\n",
    "for index, row in data.iterrows():\n",
    "    menu = row[\"menu\"]\n",
    "    if isinstance(menu, dict) and \"pizza\" in menu:  \n",
    "        for starter in menu[\"pizza\"]:\n",
    "            nombre = starter.get(\"item_name\")\n",
    "            if nombre is not None: \n",
    "                nombre_igualado = bp.i_nombre(nombre)\n",
    "                pizza_nombres.append(nombre_igualado)\n",
    "counter = Counter(pizza_nombres)\n",
    "tres_mas_comunes = counter.most_common(3)\n",
    "for nombre, frecuencia in tres_mas_comunes:\n",
    "    pizza_comunes.append((nombre, frecuencia))\n",
    "\n",
    "postres_nombres = []\n",
    "postres_comunes = []\n",
    "\n",
    "for index, row in data.iterrows():\n",
    "    menu = row[\"menu\"]\n",
    "    if isinstance(menu, dict) and \"desserts\" in menu:  \n",
    "        for starter in menu[\"desserts\"]:\n",
    "            nombre = starter.get(\"item_name\")\n",
    "            if nombre is not None: \n",
    "                nombre_igualado = bp.i_nombre(nombre)\n",
    "                postres_nombres.append(nombre_igualado)\n",
    "counter = Counter(postres_nombres)\n",
    "tres_mas_comunes = counter.most_common(3)\n",
    "for nombre, frecuencia in tres_mas_comunes:\n",
    "    postres_comunes.append((nombre, frecuencia))\n",
    "\n",
    "\n",
    "cocteles_nombres = []\n",
    "cocteles_comunes = []\n",
    "for index, row in data.iterrows():\n",
    "    menu = row[\"menu\"]\n",
    "    if isinstance(menu, dict) and \"cocktails\" in menu:  \n",
    "        for cocktail in menu[\"cocktails\"]:\n",
    "            nombre = cocktail.get(\"item_name\")\n",
    "            if nombre is not None: \n",
    "                nombre_igualado = bp.i_nombre(nombre)\n",
    "                cocteles_nombres.append(nombre_igualado)\n",
    "counter = Counter(cocteles_nombres)\n",
    "tres_mas_comunes = counter.most_common(3)\n",
    "for nombre, frecuencia in tres_mas_comunes:\n",
    "    cocteles_comunes.append((nombre, frecuencia))\n",
    "\n",
    "starters = entrantes_comunes\n",
    "mains = principales_comunes\n",
    "pizzas = pizza_comunes\n",
    "desserts = postres_comunes\n",
    "cocktails = cocteles_comunes\n",
    "\n",
    "grafico_starters = bp.c_grafico(starters, \"Entrantes\", \"red\")\n",
    "grafico_mains = bp.c_grafico(mains, \"Principales\", \"blue\")\n",
    "grafico_pizzas = bp.c_grafico(pizzas, \"Pizzas\",\"green\")\n",
    "grafico_desserts = bp.c_grafico(desserts, \"Postres\", \"orange\")\n",
    "grafico_cocktails = bp.c_grafico(cocktails, \"Cocteles\", \"purple\")\n",
    "\n",
    "\n",
    "fig = go.Figure()\n",
    "\n",
    "\n",
    "fig.add_traces([grafico_starters, grafico_mains, grafico_pizzas, grafico_desserts, grafico_cocktails])\n",
    "\n",
    "fig.update_traces(visible=False)\n",
    "fig.data[0].visible = True  \n",
    "\n",
    "\n",
    "buttons = [\n",
    "    dict(label=\"Entrantes\", method=\"update\", args=[{\"visible\": [True, False, False, False, False]}, {\"title\": \"Entrantes mas comunes\"}]),\n",
    "    dict(label=\"Principales\", method=\"update\", args=[{\"visible\": [False, True, False, False, False]}, {\"title\": \"Principales mas comunes\"}]),\n",
    "    dict(label=\"Pizzas\", method=\"update\", args=[{\"visible\": [False, False, True, False, False]}, {\"title\": \"Pizzas mas comunes\"}]),\n",
    "    dict(label=\"Postres\", method=\"update\", args=[{\"visible\": [False, False, False, True, False]}, {\"title\": \"Postres mas comunes\"}]),\n",
    "    dict(label=\"Cocteles\", method=\"update\", args=[{\"visible\": [False, False, False, False, True]}, {\"title\": \"Cocteles mas comunes\"}]),]\n",
    "   \n",
    "fig.update_layout(\n",
    "    updatemenus=[\n",
    "        dict(\n",
    "            type=\"buttons\",\n",
    "            showactive=True,\n",
    "            buttons=buttons,\n",
    "        )\n",
    "    ]\n",
    ")\n",
    "\n",
    "\n",
    "pio.show(fig)\n",
    "\n"
   ]
  },
  {
   "cell_type": "markdown",
   "metadata": {},
   "source": []
  },
  {
   "cell_type": "code",
   "execution_count": 40,
   "metadata": {},
   "outputs": [
    {
     "data": {
      "application/vnd.plotly.v1+json": {
       "config": {
        "plotlyServerURL": "https://plot.ly"
       },
       "data": [
        {
         "domain": {
          "x": [
           0,
           1
          ],
          "y": [
           0,
           1
          ]
         },
         "hovertemplate": "label=%{label}<br>value=%{value}<extra></extra>",
         "labels": [
          "habana vieja",
          "la lisa",
          "arroyo naranjo",
          "boyeros",
          "centro habana",
          "cerro",
          "cotorro",
          "guanabacoa",
          "habana del este",
          "habana vieja",
          "habana del este",
          "la lisa",
          "marianao",
          "playa",
          "plaza de la revolucion"
         ],
         "legendgroup": "",
         "name": "",
         "showlegend": true,
         "textinfo": "percent+label",
         "type": "pie",
         "values": [
          3.7037037037037033,
          1.2345679012345678,
          8.641975308641975,
          6.172839506172839,
          9.876543209876543,
          4.938271604938271,
          7.4074074074074066,
          0,
          1.2345679012345678,
          16.049382716049383,
          3.7037037037037033,
          2.4691358024691357,
          8.641975308641975,
          6.172839506172839,
          19.753086419753085
         ]
        }
       ],
       "layout": {
        "legend": {
         "tracegroupgap": 0
        },
        "template": {
         "data": {
          "bar": [
           {
            "error_x": {
             "color": "#2a3f5f"
            },
            "error_y": {
             "color": "#2a3f5f"
            },
            "marker": {
             "line": {
              "color": "#E5ECF6",
              "width": 0.5
             },
             "pattern": {
              "fillmode": "overlay",
              "size": 10,
              "solidity": 0.2
             }
            },
            "type": "bar"
           }
          ],
          "barpolar": [
           {
            "marker": {
             "line": {
              "color": "#E5ECF6",
              "width": 0.5
             },
             "pattern": {
              "fillmode": "overlay",
              "size": 10,
              "solidity": 0.2
             }
            },
            "type": "barpolar"
           }
          ],
          "carpet": [
           {
            "aaxis": {
             "endlinecolor": "#2a3f5f",
             "gridcolor": "white",
             "linecolor": "white",
             "minorgridcolor": "white",
             "startlinecolor": "#2a3f5f"
            },
            "baxis": {
             "endlinecolor": "#2a3f5f",
             "gridcolor": "white",
             "linecolor": "white",
             "minorgridcolor": "white",
             "startlinecolor": "#2a3f5f"
            },
            "type": "carpet"
           }
          ],
          "choropleth": [
           {
            "colorbar": {
             "outlinewidth": 0,
             "ticks": ""
            },
            "type": "choropleth"
           }
          ],
          "contour": [
           {
            "colorbar": {
             "outlinewidth": 0,
             "ticks": ""
            },
            "colorscale": [
             [
              0,
              "#0d0887"
             ],
             [
              0.1111111111111111,
              "#46039f"
             ],
             [
              0.2222222222222222,
              "#7201a8"
             ],
             [
              0.3333333333333333,
              "#9c179e"
             ],
             [
              0.4444444444444444,
              "#bd3786"
             ],
             [
              0.5555555555555556,
              "#d8576b"
             ],
             [
              0.6666666666666666,
              "#ed7953"
             ],
             [
              0.7777777777777778,
              "#fb9f3a"
             ],
             [
              0.8888888888888888,
              "#fdca26"
             ],
             [
              1,
              "#f0f921"
             ]
            ],
            "type": "contour"
           }
          ],
          "contourcarpet": [
           {
            "colorbar": {
             "outlinewidth": 0,
             "ticks": ""
            },
            "type": "contourcarpet"
           }
          ],
          "heatmap": [
           {
            "colorbar": {
             "outlinewidth": 0,
             "ticks": ""
            },
            "colorscale": [
             [
              0,
              "#0d0887"
             ],
             [
              0.1111111111111111,
              "#46039f"
             ],
             [
              0.2222222222222222,
              "#7201a8"
             ],
             [
              0.3333333333333333,
              "#9c179e"
             ],
             [
              0.4444444444444444,
              "#bd3786"
             ],
             [
              0.5555555555555556,
              "#d8576b"
             ],
             [
              0.6666666666666666,
              "#ed7953"
             ],
             [
              0.7777777777777778,
              "#fb9f3a"
             ],
             [
              0.8888888888888888,
              "#fdca26"
             ],
             [
              1,
              "#f0f921"
             ]
            ],
            "type": "heatmap"
           }
          ],
          "heatmapgl": [
           {
            "colorbar": {
             "outlinewidth": 0,
             "ticks": ""
            },
            "colorscale": [
             [
              0,
              "#0d0887"
             ],
             [
              0.1111111111111111,
              "#46039f"
             ],
             [
              0.2222222222222222,
              "#7201a8"
             ],
             [
              0.3333333333333333,
              "#9c179e"
             ],
             [
              0.4444444444444444,
              "#bd3786"
             ],
             [
              0.5555555555555556,
              "#d8576b"
             ],
             [
              0.6666666666666666,
              "#ed7953"
             ],
             [
              0.7777777777777778,
              "#fb9f3a"
             ],
             [
              0.8888888888888888,
              "#fdca26"
             ],
             [
              1,
              "#f0f921"
             ]
            ],
            "type": "heatmapgl"
           }
          ],
          "histogram": [
           {
            "marker": {
             "pattern": {
              "fillmode": "overlay",
              "size": 10,
              "solidity": 0.2
             }
            },
            "type": "histogram"
           }
          ],
          "histogram2d": [
           {
            "colorbar": {
             "outlinewidth": 0,
             "ticks": ""
            },
            "colorscale": [
             [
              0,
              "#0d0887"
             ],
             [
              0.1111111111111111,
              "#46039f"
             ],
             [
              0.2222222222222222,
              "#7201a8"
             ],
             [
              0.3333333333333333,
              "#9c179e"
             ],
             [
              0.4444444444444444,
              "#bd3786"
             ],
             [
              0.5555555555555556,
              "#d8576b"
             ],
             [
              0.6666666666666666,
              "#ed7953"
             ],
             [
              0.7777777777777778,
              "#fb9f3a"
             ],
             [
              0.8888888888888888,
              "#fdca26"
             ],
             [
              1,
              "#f0f921"
             ]
            ],
            "type": "histogram2d"
           }
          ],
          "histogram2dcontour": [
           {
            "colorbar": {
             "outlinewidth": 0,
             "ticks": ""
            },
            "colorscale": [
             [
              0,
              "#0d0887"
             ],
             [
              0.1111111111111111,
              "#46039f"
             ],
             [
              0.2222222222222222,
              "#7201a8"
             ],
             [
              0.3333333333333333,
              "#9c179e"
             ],
             [
              0.4444444444444444,
              "#bd3786"
             ],
             [
              0.5555555555555556,
              "#d8576b"
             ],
             [
              0.6666666666666666,
              "#ed7953"
             ],
             [
              0.7777777777777778,
              "#fb9f3a"
             ],
             [
              0.8888888888888888,
              "#fdca26"
             ],
             [
              1,
              "#f0f921"
             ]
            ],
            "type": "histogram2dcontour"
           }
          ],
          "mesh3d": [
           {
            "colorbar": {
             "outlinewidth": 0,
             "ticks": ""
            },
            "type": "mesh3d"
           }
          ],
          "parcoords": [
           {
            "line": {
             "colorbar": {
              "outlinewidth": 0,
              "ticks": ""
             }
            },
            "type": "parcoords"
           }
          ],
          "pie": [
           {
            "automargin": true,
            "type": "pie"
           }
          ],
          "scatter": [
           {
            "fillpattern": {
             "fillmode": "overlay",
             "size": 10,
             "solidity": 0.2
            },
            "type": "scatter"
           }
          ],
          "scatter3d": [
           {
            "line": {
             "colorbar": {
              "outlinewidth": 0,
              "ticks": ""
             }
            },
            "marker": {
             "colorbar": {
              "outlinewidth": 0,
              "ticks": ""
             }
            },
            "type": "scatter3d"
           }
          ],
          "scattercarpet": [
           {
            "marker": {
             "colorbar": {
              "outlinewidth": 0,
              "ticks": ""
             }
            },
            "type": "scattercarpet"
           }
          ],
          "scattergeo": [
           {
            "marker": {
             "colorbar": {
              "outlinewidth": 0,
              "ticks": ""
             }
            },
            "type": "scattergeo"
           }
          ],
          "scattergl": [
           {
            "marker": {
             "colorbar": {
              "outlinewidth": 0,
              "ticks": ""
             }
            },
            "type": "scattergl"
           }
          ],
          "scattermapbox": [
           {
            "marker": {
             "colorbar": {
              "outlinewidth": 0,
              "ticks": ""
             }
            },
            "type": "scattermapbox"
           }
          ],
          "scatterpolar": [
           {
            "marker": {
             "colorbar": {
              "outlinewidth": 0,
              "ticks": ""
             }
            },
            "type": "scatterpolar"
           }
          ],
          "scatterpolargl": [
           {
            "marker": {
             "colorbar": {
              "outlinewidth": 0,
              "ticks": ""
             }
            },
            "type": "scatterpolargl"
           }
          ],
          "scatterternary": [
           {
            "marker": {
             "colorbar": {
              "outlinewidth": 0,
              "ticks": ""
             }
            },
            "type": "scatterternary"
           }
          ],
          "surface": [
           {
            "colorbar": {
             "outlinewidth": 0,
             "ticks": ""
            },
            "colorscale": [
             [
              0,
              "#0d0887"
             ],
             [
              0.1111111111111111,
              "#46039f"
             ],
             [
              0.2222222222222222,
              "#7201a8"
             ],
             [
              0.3333333333333333,
              "#9c179e"
             ],
             [
              0.4444444444444444,
              "#bd3786"
             ],
             [
              0.5555555555555556,
              "#d8576b"
             ],
             [
              0.6666666666666666,
              "#ed7953"
             ],
             [
              0.7777777777777778,
              "#fb9f3a"
             ],
             [
              0.8888888888888888,
              "#fdca26"
             ],
             [
              1,
              "#f0f921"
             ]
            ],
            "type": "surface"
           }
          ],
          "table": [
           {
            "cells": {
             "fill": {
              "color": "#EBF0F8"
             },
             "line": {
              "color": "white"
             }
            },
            "header": {
             "fill": {
              "color": "#C8D4E3"
             },
             "line": {
              "color": "white"
             }
            },
            "type": "table"
           }
          ]
         },
         "layout": {
          "annotationdefaults": {
           "arrowcolor": "#2a3f5f",
           "arrowhead": 0,
           "arrowwidth": 1
          },
          "autotypenumbers": "strict",
          "coloraxis": {
           "colorbar": {
            "outlinewidth": 0,
            "ticks": ""
           }
          },
          "colorscale": {
           "diverging": [
            [
             0,
             "#8e0152"
            ],
            [
             0.1,
             "#c51b7d"
            ],
            [
             0.2,
             "#de77ae"
            ],
            [
             0.3,
             "#f1b6da"
            ],
            [
             0.4,
             "#fde0ef"
            ],
            [
             0.5,
             "#f7f7f7"
            ],
            [
             0.6,
             "#e6f5d0"
            ],
            [
             0.7,
             "#b8e186"
            ],
            [
             0.8,
             "#7fbc41"
            ],
            [
             0.9,
             "#4d9221"
            ],
            [
             1,
             "#276419"
            ]
           ],
           "sequential": [
            [
             0,
             "#0d0887"
            ],
            [
             0.1111111111111111,
             "#46039f"
            ],
            [
             0.2222222222222222,
             "#7201a8"
            ],
            [
             0.3333333333333333,
             "#9c179e"
            ],
            [
             0.4444444444444444,
             "#bd3786"
            ],
            [
             0.5555555555555556,
             "#d8576b"
            ],
            [
             0.6666666666666666,
             "#ed7953"
            ],
            [
             0.7777777777777778,
             "#fb9f3a"
            ],
            [
             0.8888888888888888,
             "#fdca26"
            ],
            [
             1,
             "#f0f921"
            ]
           ],
           "sequentialminus": [
            [
             0,
             "#0d0887"
            ],
            [
             0.1111111111111111,
             "#46039f"
            ],
            [
             0.2222222222222222,
             "#7201a8"
            ],
            [
             0.3333333333333333,
             "#9c179e"
            ],
            [
             0.4444444444444444,
             "#bd3786"
            ],
            [
             0.5555555555555556,
             "#d8576b"
            ],
            [
             0.6666666666666666,
             "#ed7953"
            ],
            [
             0.7777777777777778,
             "#fb9f3a"
            ],
            [
             0.8888888888888888,
             "#fdca26"
            ],
            [
             1,
             "#f0f921"
            ]
           ]
          },
          "colorway": [
           "#636efa",
           "#EF553B",
           "#00cc96",
           "#ab63fa",
           "#FFA15A",
           "#19d3f3",
           "#FF6692",
           "#B6E880",
           "#FF97FF",
           "#FECB52"
          ],
          "font": {
           "color": "#2a3f5f"
          },
          "geo": {
           "bgcolor": "white",
           "lakecolor": "white",
           "landcolor": "#E5ECF6",
           "showlakes": true,
           "showland": true,
           "subunitcolor": "white"
          },
          "hoverlabel": {
           "align": "left"
          },
          "hovermode": "closest",
          "mapbox": {
           "style": "light"
          },
          "paper_bgcolor": "white",
          "plot_bgcolor": "#E5ECF6",
          "polar": {
           "angularaxis": {
            "gridcolor": "white",
            "linecolor": "white",
            "ticks": ""
           },
           "bgcolor": "#E5ECF6",
           "radialaxis": {
            "gridcolor": "white",
            "linecolor": "white",
            "ticks": ""
           }
          },
          "scene": {
           "xaxis": {
            "backgroundcolor": "#E5ECF6",
            "gridcolor": "white",
            "gridwidth": 2,
            "linecolor": "white",
            "showbackground": true,
            "ticks": "",
            "zerolinecolor": "white"
           },
           "yaxis": {
            "backgroundcolor": "#E5ECF6",
            "gridcolor": "white",
            "gridwidth": 2,
            "linecolor": "white",
            "showbackground": true,
            "ticks": "",
            "zerolinecolor": "white"
           },
           "zaxis": {
            "backgroundcolor": "#E5ECF6",
            "gridcolor": "white",
            "gridwidth": 2,
            "linecolor": "white",
            "showbackground": true,
            "ticks": "",
            "zerolinecolor": "white"
           }
          },
          "shapedefaults": {
           "line": {
            "color": "#2a3f5f"
           }
          },
          "ternary": {
           "aaxis": {
            "gridcolor": "white",
            "linecolor": "white",
            "ticks": ""
           },
           "baxis": {
            "gridcolor": "white",
            "linecolor": "white",
            "ticks": ""
           },
           "bgcolor": "#E5ECF6",
           "caxis": {
            "gridcolor": "white",
            "linecolor": "white",
            "ticks": ""
           }
          },
          "title": {
           "x": 0.05
          },
          "xaxis": {
           "automargin": true,
           "gridcolor": "white",
           "linecolor": "white",
           "ticks": "",
           "title": {
            "standoff": 15
           },
           "zerolinecolor": "white",
           "zerolinewidth": 2
          },
          "yaxis": {
           "automargin": true,
           "gridcolor": "white",
           "linecolor": "white",
           "ticks": "",
           "title": {
            "standoff": 15
           },
           "zerolinecolor": "white",
           "zerolinewidth": 2
          }
         }
        },
        "title": {
         "text": "Porcentaje del Total de Generadores Eléctricos por Municipio"
        }
       }
      }
     },
     "metadata": {},
     "output_type": "display_data"
    }
   ],
   "source": [
    "#Grafico de pastel sobre el porciento de plantas por municipio :)\n",
    "info_plantas = data2[data2[\"electric generator\"].notna()]\n",
    "total_generadores = info_plantas[\"electric generator\"].sum()\n",
    "generadores_por_municipio = info_plantas.groupby(\"location.municipe\")[\"electric generator\"].sum()\n",
    "porcentaje_por_municipio = (generadores_por_municipio / total_generadores * 100).round(2)\n",
    "porcentaje_por_municipio.index = [municipio.strip().lower() for municipio in porcentaje_por_municipio.index]\n",
    "\n",
    "\n",
    "fig = px.pie(\n",
    "    names=porcentaje_por_municipio.index,\n",
    "    values=porcentaje_por_municipio.values,\n",
    "    title=\"Porcentaje del Total de Generadores Eléctricos por Municipio\"\n",
    ")\n",
    "\n",
    "fig.update_traces(textinfo=\"percent+label\")\n",
    "fig.show()"
   ]
  },
  {
   "cell_type": "markdown",
   "metadata": {},
   "source": []
  },
  {
   "cell_type": "code",
   "execution_count": 41,
   "metadata": {},
   "outputs": [
    {
     "data": {
      "application/vnd.plotly.v1+json": {
       "config": {
        "plotlyServerURL": "https://plot.ly"
       },
       "data": [
        {
         "cells": {
          "align": "left",
          "fill": {
           "color": "lavender"
          },
          "values": [
           [
            "arroyo naranjo",
            "habana vieja",
            "guanabacoa",
            "marianao",
            "san miguel del padro",
            "boyeros",
            "plaza de la revolucion",
            "centro habana",
            "playa",
            "cotorro",
            "habana del este",
            "cerro",
            "la lisa",
            "10 de octubre"
           ],
           [
            4.61,
            4.58,
            4.57,
            4.52,
            4.5,
            4.45,
            4.36,
            4.36,
            4.32,
            4.3,
            4.14,
            3.83,
            3.78,
            3.7
           ]
          ]
         },
         "header": {
          "align": "left",
          "fill": {
           "color": "pink"
          },
          "values": [
           "municipio",
           "calificacion promedio"
          ]
         },
         "type": "table"
        }
       ],
       "layout": {
        "template": {
         "data": {
          "bar": [
           {
            "error_x": {
             "color": "#2a3f5f"
            },
            "error_y": {
             "color": "#2a3f5f"
            },
            "marker": {
             "line": {
              "color": "#E5ECF6",
              "width": 0.5
             },
             "pattern": {
              "fillmode": "overlay",
              "size": 10,
              "solidity": 0.2
             }
            },
            "type": "bar"
           }
          ],
          "barpolar": [
           {
            "marker": {
             "line": {
              "color": "#E5ECF6",
              "width": 0.5
             },
             "pattern": {
              "fillmode": "overlay",
              "size": 10,
              "solidity": 0.2
             }
            },
            "type": "barpolar"
           }
          ],
          "carpet": [
           {
            "aaxis": {
             "endlinecolor": "#2a3f5f",
             "gridcolor": "white",
             "linecolor": "white",
             "minorgridcolor": "white",
             "startlinecolor": "#2a3f5f"
            },
            "baxis": {
             "endlinecolor": "#2a3f5f",
             "gridcolor": "white",
             "linecolor": "white",
             "minorgridcolor": "white",
             "startlinecolor": "#2a3f5f"
            },
            "type": "carpet"
           }
          ],
          "choropleth": [
           {
            "colorbar": {
             "outlinewidth": 0,
             "ticks": ""
            },
            "type": "choropleth"
           }
          ],
          "contour": [
           {
            "colorbar": {
             "outlinewidth": 0,
             "ticks": ""
            },
            "colorscale": [
             [
              0,
              "#0d0887"
             ],
             [
              0.1111111111111111,
              "#46039f"
             ],
             [
              0.2222222222222222,
              "#7201a8"
             ],
             [
              0.3333333333333333,
              "#9c179e"
             ],
             [
              0.4444444444444444,
              "#bd3786"
             ],
             [
              0.5555555555555556,
              "#d8576b"
             ],
             [
              0.6666666666666666,
              "#ed7953"
             ],
             [
              0.7777777777777778,
              "#fb9f3a"
             ],
             [
              0.8888888888888888,
              "#fdca26"
             ],
             [
              1,
              "#f0f921"
             ]
            ],
            "type": "contour"
           }
          ],
          "contourcarpet": [
           {
            "colorbar": {
             "outlinewidth": 0,
             "ticks": ""
            },
            "type": "contourcarpet"
           }
          ],
          "heatmap": [
           {
            "colorbar": {
             "outlinewidth": 0,
             "ticks": ""
            },
            "colorscale": [
             [
              0,
              "#0d0887"
             ],
             [
              0.1111111111111111,
              "#46039f"
             ],
             [
              0.2222222222222222,
              "#7201a8"
             ],
             [
              0.3333333333333333,
              "#9c179e"
             ],
             [
              0.4444444444444444,
              "#bd3786"
             ],
             [
              0.5555555555555556,
              "#d8576b"
             ],
             [
              0.6666666666666666,
              "#ed7953"
             ],
             [
              0.7777777777777778,
              "#fb9f3a"
             ],
             [
              0.8888888888888888,
              "#fdca26"
             ],
             [
              1,
              "#f0f921"
             ]
            ],
            "type": "heatmap"
           }
          ],
          "heatmapgl": [
           {
            "colorbar": {
             "outlinewidth": 0,
             "ticks": ""
            },
            "colorscale": [
             [
              0,
              "#0d0887"
             ],
             [
              0.1111111111111111,
              "#46039f"
             ],
             [
              0.2222222222222222,
              "#7201a8"
             ],
             [
              0.3333333333333333,
              "#9c179e"
             ],
             [
              0.4444444444444444,
              "#bd3786"
             ],
             [
              0.5555555555555556,
              "#d8576b"
             ],
             [
              0.6666666666666666,
              "#ed7953"
             ],
             [
              0.7777777777777778,
              "#fb9f3a"
             ],
             [
              0.8888888888888888,
              "#fdca26"
             ],
             [
              1,
              "#f0f921"
             ]
            ],
            "type": "heatmapgl"
           }
          ],
          "histogram": [
           {
            "marker": {
             "pattern": {
              "fillmode": "overlay",
              "size": 10,
              "solidity": 0.2
             }
            },
            "type": "histogram"
           }
          ],
          "histogram2d": [
           {
            "colorbar": {
             "outlinewidth": 0,
             "ticks": ""
            },
            "colorscale": [
             [
              0,
              "#0d0887"
             ],
             [
              0.1111111111111111,
              "#46039f"
             ],
             [
              0.2222222222222222,
              "#7201a8"
             ],
             [
              0.3333333333333333,
              "#9c179e"
             ],
             [
              0.4444444444444444,
              "#bd3786"
             ],
             [
              0.5555555555555556,
              "#d8576b"
             ],
             [
              0.6666666666666666,
              "#ed7953"
             ],
             [
              0.7777777777777778,
              "#fb9f3a"
             ],
             [
              0.8888888888888888,
              "#fdca26"
             ],
             [
              1,
              "#f0f921"
             ]
            ],
            "type": "histogram2d"
           }
          ],
          "histogram2dcontour": [
           {
            "colorbar": {
             "outlinewidth": 0,
             "ticks": ""
            },
            "colorscale": [
             [
              0,
              "#0d0887"
             ],
             [
              0.1111111111111111,
              "#46039f"
             ],
             [
              0.2222222222222222,
              "#7201a8"
             ],
             [
              0.3333333333333333,
              "#9c179e"
             ],
             [
              0.4444444444444444,
              "#bd3786"
             ],
             [
              0.5555555555555556,
              "#d8576b"
             ],
             [
              0.6666666666666666,
              "#ed7953"
             ],
             [
              0.7777777777777778,
              "#fb9f3a"
             ],
             [
              0.8888888888888888,
              "#fdca26"
             ],
             [
              1,
              "#f0f921"
             ]
            ],
            "type": "histogram2dcontour"
           }
          ],
          "mesh3d": [
           {
            "colorbar": {
             "outlinewidth": 0,
             "ticks": ""
            },
            "type": "mesh3d"
           }
          ],
          "parcoords": [
           {
            "line": {
             "colorbar": {
              "outlinewidth": 0,
              "ticks": ""
             }
            },
            "type": "parcoords"
           }
          ],
          "pie": [
           {
            "automargin": true,
            "type": "pie"
           }
          ],
          "scatter": [
           {
            "fillpattern": {
             "fillmode": "overlay",
             "size": 10,
             "solidity": 0.2
            },
            "type": "scatter"
           }
          ],
          "scatter3d": [
           {
            "line": {
             "colorbar": {
              "outlinewidth": 0,
              "ticks": ""
             }
            },
            "marker": {
             "colorbar": {
              "outlinewidth": 0,
              "ticks": ""
             }
            },
            "type": "scatter3d"
           }
          ],
          "scattercarpet": [
           {
            "marker": {
             "colorbar": {
              "outlinewidth": 0,
              "ticks": ""
             }
            },
            "type": "scattercarpet"
           }
          ],
          "scattergeo": [
           {
            "marker": {
             "colorbar": {
              "outlinewidth": 0,
              "ticks": ""
             }
            },
            "type": "scattergeo"
           }
          ],
          "scattergl": [
           {
            "marker": {
             "colorbar": {
              "outlinewidth": 0,
              "ticks": ""
             }
            },
            "type": "scattergl"
           }
          ],
          "scattermapbox": [
           {
            "marker": {
             "colorbar": {
              "outlinewidth": 0,
              "ticks": ""
             }
            },
            "type": "scattermapbox"
           }
          ],
          "scatterpolar": [
           {
            "marker": {
             "colorbar": {
              "outlinewidth": 0,
              "ticks": ""
             }
            },
            "type": "scatterpolar"
           }
          ],
          "scatterpolargl": [
           {
            "marker": {
             "colorbar": {
              "outlinewidth": 0,
              "ticks": ""
             }
            },
            "type": "scatterpolargl"
           }
          ],
          "scatterternary": [
           {
            "marker": {
             "colorbar": {
              "outlinewidth": 0,
              "ticks": ""
             }
            },
            "type": "scatterternary"
           }
          ],
          "surface": [
           {
            "colorbar": {
             "outlinewidth": 0,
             "ticks": ""
            },
            "colorscale": [
             [
              0,
              "#0d0887"
             ],
             [
              0.1111111111111111,
              "#46039f"
             ],
             [
              0.2222222222222222,
              "#7201a8"
             ],
             [
              0.3333333333333333,
              "#9c179e"
             ],
             [
              0.4444444444444444,
              "#bd3786"
             ],
             [
              0.5555555555555556,
              "#d8576b"
             ],
             [
              0.6666666666666666,
              "#ed7953"
             ],
             [
              0.7777777777777778,
              "#fb9f3a"
             ],
             [
              0.8888888888888888,
              "#fdca26"
             ],
             [
              1,
              "#f0f921"
             ]
            ],
            "type": "surface"
           }
          ],
          "table": [
           {
            "cells": {
             "fill": {
              "color": "#EBF0F8"
             },
             "line": {
              "color": "white"
             }
            },
            "header": {
             "fill": {
              "color": "#C8D4E3"
             },
             "line": {
              "color": "white"
             }
            },
            "type": "table"
           }
          ]
         },
         "layout": {
          "annotationdefaults": {
           "arrowcolor": "#2a3f5f",
           "arrowhead": 0,
           "arrowwidth": 1
          },
          "autotypenumbers": "strict",
          "coloraxis": {
           "colorbar": {
            "outlinewidth": 0,
            "ticks": ""
           }
          },
          "colorscale": {
           "diverging": [
            [
             0,
             "#8e0152"
            ],
            [
             0.1,
             "#c51b7d"
            ],
            [
             0.2,
             "#de77ae"
            ],
            [
             0.3,
             "#f1b6da"
            ],
            [
             0.4,
             "#fde0ef"
            ],
            [
             0.5,
             "#f7f7f7"
            ],
            [
             0.6,
             "#e6f5d0"
            ],
            [
             0.7,
             "#b8e186"
            ],
            [
             0.8,
             "#7fbc41"
            ],
            [
             0.9,
             "#4d9221"
            ],
            [
             1,
             "#276419"
            ]
           ],
           "sequential": [
            [
             0,
             "#0d0887"
            ],
            [
             0.1111111111111111,
             "#46039f"
            ],
            [
             0.2222222222222222,
             "#7201a8"
            ],
            [
             0.3333333333333333,
             "#9c179e"
            ],
            [
             0.4444444444444444,
             "#bd3786"
            ],
            [
             0.5555555555555556,
             "#d8576b"
            ],
            [
             0.6666666666666666,
             "#ed7953"
            ],
            [
             0.7777777777777778,
             "#fb9f3a"
            ],
            [
             0.8888888888888888,
             "#fdca26"
            ],
            [
             1,
             "#f0f921"
            ]
           ],
           "sequentialminus": [
            [
             0,
             "#0d0887"
            ],
            [
             0.1111111111111111,
             "#46039f"
            ],
            [
             0.2222222222222222,
             "#7201a8"
            ],
            [
             0.3333333333333333,
             "#9c179e"
            ],
            [
             0.4444444444444444,
             "#bd3786"
            ],
            [
             0.5555555555555556,
             "#d8576b"
            ],
            [
             0.6666666666666666,
             "#ed7953"
            ],
            [
             0.7777777777777778,
             "#fb9f3a"
            ],
            [
             0.8888888888888888,
             "#fdca26"
            ],
            [
             1,
             "#f0f921"
            ]
           ]
          },
          "colorway": [
           "#636efa",
           "#EF553B",
           "#00cc96",
           "#ab63fa",
           "#FFA15A",
           "#19d3f3",
           "#FF6692",
           "#B6E880",
           "#FF97FF",
           "#FECB52"
          ],
          "font": {
           "color": "#2a3f5f"
          },
          "geo": {
           "bgcolor": "white",
           "lakecolor": "white",
           "landcolor": "#E5ECF6",
           "showlakes": true,
           "showland": true,
           "subunitcolor": "white"
          },
          "hoverlabel": {
           "align": "left"
          },
          "hovermode": "closest",
          "mapbox": {
           "style": "light"
          },
          "paper_bgcolor": "white",
          "plot_bgcolor": "#E5ECF6",
          "polar": {
           "angularaxis": {
            "gridcolor": "white",
            "linecolor": "white",
            "ticks": ""
           },
           "bgcolor": "#E5ECF6",
           "radialaxis": {
            "gridcolor": "white",
            "linecolor": "white",
            "ticks": ""
           }
          },
          "scene": {
           "xaxis": {
            "backgroundcolor": "#E5ECF6",
            "gridcolor": "white",
            "gridwidth": 2,
            "linecolor": "white",
            "showbackground": true,
            "ticks": "",
            "zerolinecolor": "white"
           },
           "yaxis": {
            "backgroundcolor": "#E5ECF6",
            "gridcolor": "white",
            "gridwidth": 2,
            "linecolor": "white",
            "showbackground": true,
            "ticks": "",
            "zerolinecolor": "white"
           },
           "zaxis": {
            "backgroundcolor": "#E5ECF6",
            "gridcolor": "white",
            "gridwidth": 2,
            "linecolor": "white",
            "showbackground": true,
            "ticks": "",
            "zerolinecolor": "white"
           }
          },
          "shapedefaults": {
           "line": {
            "color": "#2a3f5f"
           }
          },
          "ternary": {
           "aaxis": {
            "gridcolor": "white",
            "linecolor": "white",
            "ticks": ""
           },
           "baxis": {
            "gridcolor": "white",
            "linecolor": "white",
            "ticks": ""
           },
           "bgcolor": "#E5ECF6",
           "caxis": {
            "gridcolor": "white",
            "linecolor": "white",
            "ticks": ""
           }
          },
          "title": {
           "x": 0.05
          },
          "xaxis": {
           "automargin": true,
           "gridcolor": "white",
           "linecolor": "white",
           "ticks": "",
           "title": {
            "standoff": 15
           },
           "zerolinecolor": "white",
           "zerolinewidth": 2
          },
          "yaxis": {
           "automargin": true,
           "gridcolor": "white",
           "linecolor": "white",
           "ticks": "",
           "title": {
            "standoff": 15
           },
           "zerolinecolor": "white",
           "zerolinewidth": 2
          }
         }
        },
        "title": {
         "text": "Calificación Promedio de Restaurantes por Municipio segun Google"
        }
       }
      }
     },
     "metadata": {},
     "output_type": "display_data"
    }
   ],
   "source": [
    "#Tabla donde da la clasificacion promedio de los restaurantes por municipio :)\n",
    "data2[\"location.municipe\"] = data2[\"location.municipe\"].str.strip().str.lower()\n",
    "\n",
    "calificacion_promedio_por_municipio = data2.groupby(\"location.municipe\")[\"qualification\"].mean().round(2)\n",
    "tabla_calificaciones = calificacion_promedio_por_municipio.reset_index()\n",
    "tabla_calificaciones.columns = [\"municipio\", \"calificacion promedio\"]\n",
    "tabla_calificaciones = tabla_calificaciones.sort_values(by=\"calificacion promedio\", ascending=False)\n",
    "\n",
    "fig = go.Figure(data=[go.Table(\n",
    "    header=dict(values=list(tabla_calificaciones.columns),\n",
    "                fill_color=\"pink\",\n",
    "                align=\"left\"),\n",
    "    cells=dict(values=[tabla_calificaciones.municipio, tabla_calificaciones[\"calificacion promedio\"]],\n",
    "               fill_color=\"lavender\",\n",
    "               align=\"left\"))\n",
    "])\n",
    "\n",
    "fig.update_layout(title=\"Calificación Promedio de Restaurantes por Municipio segun Google\")\n",
    "fig.show()\n",
    "\n",
    "\n"
   ]
  },
  {
   "cell_type": "markdown",
   "metadata": {},
   "source": []
  },
  {
   "cell_type": "code",
   "execution_count": 42,
   "metadata": {},
   "outputs": [
    {
     "data": {
      "application/vnd.jupyter.widget-view+json": {
       "model_id": "617a788dbc8043df8177f74104f7d76d",
       "version_major": 2,
       "version_minor": 0
      },
      "text/plain": [
       "interactive(children=(Dropdown(description='Municipio:', options=('10 de octubre', 'arroyo naranjo', 'boyeros'…"
      ]
     },
     "metadata": {},
     "output_type": "display_data"
    },
    {
     "data": {
      "text/plain": [
       "<function __main__.mostrar_tabla(municipio)>"
      ]
     },
     "execution_count": 42,
     "metadata": {},
     "output_type": "execute_result"
    }
   ],
   "source": [
    "#Tabla que muestra el top 5 de restaurantes de cada municipio segun la clasificacion:)\n",
    "data2 = data2.dropna(subset=[\"qualification\"])\n",
    "ranking = data2.sort_values(by=[\"location.municipe\", \"qualification\"], ascending=[True, False])\n",
    "\n",
    "tabla_ranking = ranking.groupby(\"location.municipe\").head(5).reset_index(drop=True)\n",
    "\n",
    "r_municipios = tabla_ranking[\"location.municipe\"].unique()\n",
    "r_info_municipio = {municipio: tabla_ranking[tabla_ranking[\"location.municipe\"] == municipio] for municipio in r_municipios}\n",
    "\n",
    "def mostrar_tabla(municipio):\n",
    "    display(r_info_municipio[municipio][[\"name\", \"qualification\"]])\n",
    "\n",
    "r_selector_municipio = wi.Dropdown(options=r_municipios, description=\"Municipio:\")\n",
    "wi.interact(mostrar_tabla, municipio=r_selector_municipio)"
   ]
  },
  {
   "cell_type": "markdown",
   "metadata": {},
   "source": []
  },
  {
   "cell_type": "code",
   "execution_count": 43,
   "metadata": {},
   "outputs": [
    {
     "data": {
      "application/vnd.plotly.v1+json": {
       "config": {
        "plotlyServerURL": "https://plot.ly"
       },
       "data": [
        {
         "alignmentgroup": "True",
         "hovertemplate": "Categoría=%{x}<br>Capacidad Promedio=%{y}<br>text=%{text}<extra></extra>",
         "legendgroup": "",
         "marker": {
          "color": "#636efa",
          "pattern": {
           "shape": ""
          }
         },
         "name": "",
         "offsetgroup": "",
         "orientation": "v",
         "showlegend": false,
         "text": [
          "47"
         ],
         "textposition": "outside",
         "type": "bar",
         "x": [
          "Restaurantes con reserva"
         ],
         "xaxis": "x",
         "y": [
          47.463157894736845
         ],
         "yaxis": "y"
        }
       ],
       "layout": {
        "barmode": "relative",
        "legend": {
         "tracegroupgap": 0
        },
        "template": {
         "data": {
          "bar": [
           {
            "error_x": {
             "color": "#2a3f5f"
            },
            "error_y": {
             "color": "#2a3f5f"
            },
            "marker": {
             "line": {
              "color": "#E5ECF6",
              "width": 0.5
             },
             "pattern": {
              "fillmode": "overlay",
              "size": 10,
              "solidity": 0.2
             }
            },
            "type": "bar"
           }
          ],
          "barpolar": [
           {
            "marker": {
             "line": {
              "color": "#E5ECF6",
              "width": 0.5
             },
             "pattern": {
              "fillmode": "overlay",
              "size": 10,
              "solidity": 0.2
             }
            },
            "type": "barpolar"
           }
          ],
          "carpet": [
           {
            "aaxis": {
             "endlinecolor": "#2a3f5f",
             "gridcolor": "white",
             "linecolor": "white",
             "minorgridcolor": "white",
             "startlinecolor": "#2a3f5f"
            },
            "baxis": {
             "endlinecolor": "#2a3f5f",
             "gridcolor": "white",
             "linecolor": "white",
             "minorgridcolor": "white",
             "startlinecolor": "#2a3f5f"
            },
            "type": "carpet"
           }
          ],
          "choropleth": [
           {
            "colorbar": {
             "outlinewidth": 0,
             "ticks": ""
            },
            "type": "choropleth"
           }
          ],
          "contour": [
           {
            "colorbar": {
             "outlinewidth": 0,
             "ticks": ""
            },
            "colorscale": [
             [
              0,
              "#0d0887"
             ],
             [
              0.1111111111111111,
              "#46039f"
             ],
             [
              0.2222222222222222,
              "#7201a8"
             ],
             [
              0.3333333333333333,
              "#9c179e"
             ],
             [
              0.4444444444444444,
              "#bd3786"
             ],
             [
              0.5555555555555556,
              "#d8576b"
             ],
             [
              0.6666666666666666,
              "#ed7953"
             ],
             [
              0.7777777777777778,
              "#fb9f3a"
             ],
             [
              0.8888888888888888,
              "#fdca26"
             ],
             [
              1,
              "#f0f921"
             ]
            ],
            "type": "contour"
           }
          ],
          "contourcarpet": [
           {
            "colorbar": {
             "outlinewidth": 0,
             "ticks": ""
            },
            "type": "contourcarpet"
           }
          ],
          "heatmap": [
           {
            "colorbar": {
             "outlinewidth": 0,
             "ticks": ""
            },
            "colorscale": [
             [
              0,
              "#0d0887"
             ],
             [
              0.1111111111111111,
              "#46039f"
             ],
             [
              0.2222222222222222,
              "#7201a8"
             ],
             [
              0.3333333333333333,
              "#9c179e"
             ],
             [
              0.4444444444444444,
              "#bd3786"
             ],
             [
              0.5555555555555556,
              "#d8576b"
             ],
             [
              0.6666666666666666,
              "#ed7953"
             ],
             [
              0.7777777777777778,
              "#fb9f3a"
             ],
             [
              0.8888888888888888,
              "#fdca26"
             ],
             [
              1,
              "#f0f921"
             ]
            ],
            "type": "heatmap"
           }
          ],
          "heatmapgl": [
           {
            "colorbar": {
             "outlinewidth": 0,
             "ticks": ""
            },
            "colorscale": [
             [
              0,
              "#0d0887"
             ],
             [
              0.1111111111111111,
              "#46039f"
             ],
             [
              0.2222222222222222,
              "#7201a8"
             ],
             [
              0.3333333333333333,
              "#9c179e"
             ],
             [
              0.4444444444444444,
              "#bd3786"
             ],
             [
              0.5555555555555556,
              "#d8576b"
             ],
             [
              0.6666666666666666,
              "#ed7953"
             ],
             [
              0.7777777777777778,
              "#fb9f3a"
             ],
             [
              0.8888888888888888,
              "#fdca26"
             ],
             [
              1,
              "#f0f921"
             ]
            ],
            "type": "heatmapgl"
           }
          ],
          "histogram": [
           {
            "marker": {
             "pattern": {
              "fillmode": "overlay",
              "size": 10,
              "solidity": 0.2
             }
            },
            "type": "histogram"
           }
          ],
          "histogram2d": [
           {
            "colorbar": {
             "outlinewidth": 0,
             "ticks": ""
            },
            "colorscale": [
             [
              0,
              "#0d0887"
             ],
             [
              0.1111111111111111,
              "#46039f"
             ],
             [
              0.2222222222222222,
              "#7201a8"
             ],
             [
              0.3333333333333333,
              "#9c179e"
             ],
             [
              0.4444444444444444,
              "#bd3786"
             ],
             [
              0.5555555555555556,
              "#d8576b"
             ],
             [
              0.6666666666666666,
              "#ed7953"
             ],
             [
              0.7777777777777778,
              "#fb9f3a"
             ],
             [
              0.8888888888888888,
              "#fdca26"
             ],
             [
              1,
              "#f0f921"
             ]
            ],
            "type": "histogram2d"
           }
          ],
          "histogram2dcontour": [
           {
            "colorbar": {
             "outlinewidth": 0,
             "ticks": ""
            },
            "colorscale": [
             [
              0,
              "#0d0887"
             ],
             [
              0.1111111111111111,
              "#46039f"
             ],
             [
              0.2222222222222222,
              "#7201a8"
             ],
             [
              0.3333333333333333,
              "#9c179e"
             ],
             [
              0.4444444444444444,
              "#bd3786"
             ],
             [
              0.5555555555555556,
              "#d8576b"
             ],
             [
              0.6666666666666666,
              "#ed7953"
             ],
             [
              0.7777777777777778,
              "#fb9f3a"
             ],
             [
              0.8888888888888888,
              "#fdca26"
             ],
             [
              1,
              "#f0f921"
             ]
            ],
            "type": "histogram2dcontour"
           }
          ],
          "mesh3d": [
           {
            "colorbar": {
             "outlinewidth": 0,
             "ticks": ""
            },
            "type": "mesh3d"
           }
          ],
          "parcoords": [
           {
            "line": {
             "colorbar": {
              "outlinewidth": 0,
              "ticks": ""
             }
            },
            "type": "parcoords"
           }
          ],
          "pie": [
           {
            "automargin": true,
            "type": "pie"
           }
          ],
          "scatter": [
           {
            "fillpattern": {
             "fillmode": "overlay",
             "size": 10,
             "solidity": 0.2
            },
            "type": "scatter"
           }
          ],
          "scatter3d": [
           {
            "line": {
             "colorbar": {
              "outlinewidth": 0,
              "ticks": ""
             }
            },
            "marker": {
             "colorbar": {
              "outlinewidth": 0,
              "ticks": ""
             }
            },
            "type": "scatter3d"
           }
          ],
          "scattercarpet": [
           {
            "marker": {
             "colorbar": {
              "outlinewidth": 0,
              "ticks": ""
             }
            },
            "type": "scattercarpet"
           }
          ],
          "scattergeo": [
           {
            "marker": {
             "colorbar": {
              "outlinewidth": 0,
              "ticks": ""
             }
            },
            "type": "scattergeo"
           }
          ],
          "scattergl": [
           {
            "marker": {
             "colorbar": {
              "outlinewidth": 0,
              "ticks": ""
             }
            },
            "type": "scattergl"
           }
          ],
          "scattermapbox": [
           {
            "marker": {
             "colorbar": {
              "outlinewidth": 0,
              "ticks": ""
             }
            },
            "type": "scattermapbox"
           }
          ],
          "scatterpolar": [
           {
            "marker": {
             "colorbar": {
              "outlinewidth": 0,
              "ticks": ""
             }
            },
            "type": "scatterpolar"
           }
          ],
          "scatterpolargl": [
           {
            "marker": {
             "colorbar": {
              "outlinewidth": 0,
              "ticks": ""
             }
            },
            "type": "scatterpolargl"
           }
          ],
          "scatterternary": [
           {
            "marker": {
             "colorbar": {
              "outlinewidth": 0,
              "ticks": ""
             }
            },
            "type": "scatterternary"
           }
          ],
          "surface": [
           {
            "colorbar": {
             "outlinewidth": 0,
             "ticks": ""
            },
            "colorscale": [
             [
              0,
              "#0d0887"
             ],
             [
              0.1111111111111111,
              "#46039f"
             ],
             [
              0.2222222222222222,
              "#7201a8"
             ],
             [
              0.3333333333333333,
              "#9c179e"
             ],
             [
              0.4444444444444444,
              "#bd3786"
             ],
             [
              0.5555555555555556,
              "#d8576b"
             ],
             [
              0.6666666666666666,
              "#ed7953"
             ],
             [
              0.7777777777777778,
              "#fb9f3a"
             ],
             [
              0.8888888888888888,
              "#fdca26"
             ],
             [
              1,
              "#f0f921"
             ]
            ],
            "type": "surface"
           }
          ],
          "table": [
           {
            "cells": {
             "fill": {
              "color": "#EBF0F8"
             },
             "line": {
              "color": "white"
             }
            },
            "header": {
             "fill": {
              "color": "#C8D4E3"
             },
             "line": {
              "color": "white"
             }
            },
            "type": "table"
           }
          ]
         },
         "layout": {
          "annotationdefaults": {
           "arrowcolor": "#2a3f5f",
           "arrowhead": 0,
           "arrowwidth": 1
          },
          "autotypenumbers": "strict",
          "coloraxis": {
           "colorbar": {
            "outlinewidth": 0,
            "ticks": ""
           }
          },
          "colorscale": {
           "diverging": [
            [
             0,
             "#8e0152"
            ],
            [
             0.1,
             "#c51b7d"
            ],
            [
             0.2,
             "#de77ae"
            ],
            [
             0.3,
             "#f1b6da"
            ],
            [
             0.4,
             "#fde0ef"
            ],
            [
             0.5,
             "#f7f7f7"
            ],
            [
             0.6,
             "#e6f5d0"
            ],
            [
             0.7,
             "#b8e186"
            ],
            [
             0.8,
             "#7fbc41"
            ],
            [
             0.9,
             "#4d9221"
            ],
            [
             1,
             "#276419"
            ]
           ],
           "sequential": [
            [
             0,
             "#0d0887"
            ],
            [
             0.1111111111111111,
             "#46039f"
            ],
            [
             0.2222222222222222,
             "#7201a8"
            ],
            [
             0.3333333333333333,
             "#9c179e"
            ],
            [
             0.4444444444444444,
             "#bd3786"
            ],
            [
             0.5555555555555556,
             "#d8576b"
            ],
            [
             0.6666666666666666,
             "#ed7953"
            ],
            [
             0.7777777777777778,
             "#fb9f3a"
            ],
            [
             0.8888888888888888,
             "#fdca26"
            ],
            [
             1,
             "#f0f921"
            ]
           ],
           "sequentialminus": [
            [
             0,
             "#0d0887"
            ],
            [
             0.1111111111111111,
             "#46039f"
            ],
            [
             0.2222222222222222,
             "#7201a8"
            ],
            [
             0.3333333333333333,
             "#9c179e"
            ],
            [
             0.4444444444444444,
             "#bd3786"
            ],
            [
             0.5555555555555556,
             "#d8576b"
            ],
            [
             0.6666666666666666,
             "#ed7953"
            ],
            [
             0.7777777777777778,
             "#fb9f3a"
            ],
            [
             0.8888888888888888,
             "#fdca26"
            ],
            [
             1,
             "#f0f921"
            ]
           ]
          },
          "colorway": [
           "#636efa",
           "#EF553B",
           "#00cc96",
           "#ab63fa",
           "#FFA15A",
           "#19d3f3",
           "#FF6692",
           "#B6E880",
           "#FF97FF",
           "#FECB52"
          ],
          "font": {
           "color": "#2a3f5f"
          },
          "geo": {
           "bgcolor": "white",
           "lakecolor": "white",
           "landcolor": "#E5ECF6",
           "showlakes": true,
           "showland": true,
           "subunitcolor": "white"
          },
          "hoverlabel": {
           "align": "left"
          },
          "hovermode": "closest",
          "mapbox": {
           "style": "light"
          },
          "paper_bgcolor": "white",
          "plot_bgcolor": "#E5ECF6",
          "polar": {
           "angularaxis": {
            "gridcolor": "white",
            "linecolor": "white",
            "ticks": ""
           },
           "bgcolor": "#E5ECF6",
           "radialaxis": {
            "gridcolor": "white",
            "linecolor": "white",
            "ticks": ""
           }
          },
          "scene": {
           "xaxis": {
            "backgroundcolor": "#E5ECF6",
            "gridcolor": "white",
            "gridwidth": 2,
            "linecolor": "white",
            "showbackground": true,
            "ticks": "",
            "zerolinecolor": "white"
           },
           "yaxis": {
            "backgroundcolor": "#E5ECF6",
            "gridcolor": "white",
            "gridwidth": 2,
            "linecolor": "white",
            "showbackground": true,
            "ticks": "",
            "zerolinecolor": "white"
           },
           "zaxis": {
            "backgroundcolor": "#E5ECF6",
            "gridcolor": "white",
            "gridwidth": 2,
            "linecolor": "white",
            "showbackground": true,
            "ticks": "",
            "zerolinecolor": "white"
           }
          },
          "shapedefaults": {
           "line": {
            "color": "#2a3f5f"
           }
          },
          "ternary": {
           "aaxis": {
            "gridcolor": "white",
            "linecolor": "white",
            "ticks": ""
           },
           "baxis": {
            "gridcolor": "white",
            "linecolor": "white",
            "ticks": ""
           },
           "bgcolor": "#E5ECF6",
           "caxis": {
            "gridcolor": "white",
            "linecolor": "white",
            "ticks": ""
           }
          },
          "title": {
           "x": 0.05
          },
          "xaxis": {
           "automargin": true,
           "gridcolor": "white",
           "linecolor": "white",
           "ticks": "",
           "title": {
            "standoff": 15
           },
           "zerolinecolor": "white",
           "zerolinewidth": 2
          },
          "yaxis": {
           "automargin": true,
           "gridcolor": "white",
           "linecolor": "white",
           "ticks": "",
           "title": {
            "standoff": 15
           },
           "zerolinecolor": "white",
           "zerolinewidth": 2
          }
         }
        },
        "title": {
         "text": "Capacidad Promedio de Restaurantes que Aceptan Reserva"
        },
        "xaxis": {
         "anchor": "y",
         "domain": [
          0,
          1
         ],
         "title": {
          "text": "Categoría"
         }
        },
        "yaxis": {
         "anchor": "x",
         "domain": [
          0,
          1
         ],
         "title": {
          "text": "Capacidad Promedio"
         }
        }
       }
      }
     },
     "metadata": {},
     "output_type": "display_data"
    }
   ],
   "source": [
    "#Grafica que muestra la capacidad promedio de los restaurantes que aceptan reservacion :)\n",
    "restaurantes_con_reserva = data2[data2[\"reservation\"] == True]\n",
    "capacidad_promedio = restaurantes_con_reserva[\"capacity\"].mean()\n",
    "\n",
    "fig = px.bar(\n",
    "    x=[\"Restaurantes con reserva\"],\n",
    "    y=[capacidad_promedio],\n",
    "    labels={\"x\": \"Categoría\", \"y\": \"Capacidad Promedio\"},\n",
    "    title=\"Capacidad Promedio de Restaurantes que Aceptan Reserva\",\n",
    "    text=[f\"{capacidad_promedio:.0f}\"]\n",
    ")\n",
    "\n",
    "fig.update_traces(textposition=\"outside\")\n",
    "fig.show()\n",
    "\n",
    "\n",
    "\n"
   ]
  },
  {
   "cell_type": "markdown",
   "metadata": {},
   "source": []
  },
  {
   "cell_type": "code",
   "execution_count": null,
   "metadata": {},
   "outputs": [],
   "source": []
  },
  {
   "cell_type": "markdown",
   "metadata": {},
   "source": []
  },
  {
   "cell_type": "code",
   "execution_count": null,
   "metadata": {},
   "outputs": [],
   "source": [
    "\n"
   ]
  },
  {
   "cell_type": "code",
   "execution_count": null,
   "metadata": {},
   "outputs": [],
   "source": []
  },
  {
   "cell_type": "code",
   "execution_count": 45,
   "metadata": {},
   "outputs": [
    {
     "data": {
      "text/html": [
       "<div style=\"width:100%;\"><div style=\"position:relative;width:100%;height:0;padding-bottom:60%;\"><span style=\"color:#565656\">Make this Notebook Trusted to load map: File -> Trust Notebook</span><iframe srcdoc=\"&lt;!DOCTYPE html&gt;\n",
       "&lt;html&gt;\n",
       "&lt;head&gt;\n",
       "    \n",
       "    &lt;meta http-equiv=&quot;content-type&quot; content=&quot;text/html; charset=UTF-8&quot; /&gt;\n",
       "    \n",
       "        &lt;script&gt;\n",
       "            L_NO_TOUCH = false;\n",
       "            L_DISABLE_3D = false;\n",
       "        &lt;/script&gt;\n",
       "    \n",
       "    &lt;style&gt;html, body {width: 100%;height: 100%;margin: 0;padding: 0;}&lt;/style&gt;\n",
       "    &lt;style&gt;#map {position:absolute;top:0;bottom:0;right:0;left:0;}&lt;/style&gt;\n",
       "    &lt;script src=&quot;https://cdn.jsdelivr.net/npm/leaflet@1.9.3/dist/leaflet.js&quot;&gt;&lt;/script&gt;\n",
       "    &lt;script src=&quot;https://code.jquery.com/jquery-3.7.1.min.js&quot;&gt;&lt;/script&gt;\n",
       "    &lt;script src=&quot;https://cdn.jsdelivr.net/npm/bootstrap@5.2.2/dist/js/bootstrap.bundle.min.js&quot;&gt;&lt;/script&gt;\n",
       "    &lt;script src=&quot;https://cdnjs.cloudflare.com/ajax/libs/Leaflet.awesome-markers/2.0.2/leaflet.awesome-markers.js&quot;&gt;&lt;/script&gt;\n",
       "    &lt;link rel=&quot;stylesheet&quot; href=&quot;https://cdn.jsdelivr.net/npm/leaflet@1.9.3/dist/leaflet.css&quot;/&gt;\n",
       "    &lt;link rel=&quot;stylesheet&quot; href=&quot;https://cdn.jsdelivr.net/npm/bootstrap@5.2.2/dist/css/bootstrap.min.css&quot;/&gt;\n",
       "    &lt;link rel=&quot;stylesheet&quot; href=&quot;https://netdna.bootstrapcdn.com/bootstrap/3.0.0/css/bootstrap-glyphicons.css&quot;/&gt;\n",
       "    &lt;link rel=&quot;stylesheet&quot; href=&quot;https://cdn.jsdelivr.net/npm/@fortawesome/fontawesome-free@6.2.0/css/all.min.css&quot;/&gt;\n",
       "    &lt;link rel=&quot;stylesheet&quot; href=&quot;https://cdnjs.cloudflare.com/ajax/libs/Leaflet.awesome-markers/2.0.2/leaflet.awesome-markers.css&quot;/&gt;\n",
       "    &lt;link rel=&quot;stylesheet&quot; href=&quot;https://cdn.jsdelivr.net/gh/python-visualization/folium/folium/templates/leaflet.awesome.rotate.min.css&quot;/&gt;\n",
       "    \n",
       "            &lt;meta name=&quot;viewport&quot; content=&quot;width=device-width,\n",
       "                initial-scale=1.0, maximum-scale=1.0, user-scalable=no&quot; /&gt;\n",
       "            &lt;style&gt;\n",
       "                #map_8e263dfa2d2a3ab73322a420085a56cc {\n",
       "                    position: relative;\n",
       "                    width: 100.0%;\n",
       "                    height: 100.0%;\n",
       "                    left: 0.0%;\n",
       "                    top: 0.0%;\n",
       "                }\n",
       "                .leaflet-container { font-size: 1rem; }\n",
       "            &lt;/style&gt;\n",
       "        \n",
       "&lt;/head&gt;\n",
       "&lt;body&gt;\n",
       "    \n",
       "    \n",
       "            &lt;div class=&quot;folium-map&quot; id=&quot;map_8e263dfa2d2a3ab73322a420085a56cc&quot; &gt;&lt;/div&gt;\n",
       "        \n",
       "&lt;/body&gt;\n",
       "&lt;script&gt;\n",
       "    \n",
       "    \n",
       "            var map_8e263dfa2d2a3ab73322a420085a56cc = L.map(\n",
       "                &quot;map_8e263dfa2d2a3ab73322a420085a56cc&quot;,\n",
       "                {\n",
       "                    center: [23.1, -82.4],\n",
       "                    crs: L.CRS.EPSG3857,\n",
       "                    ...{\n",
       "  &quot;zoom&quot;: 11,\n",
       "  &quot;zoomControl&quot;: true,\n",
       "  &quot;preferCanvas&quot;: false,\n",
       "}\n",
       "\n",
       "                }\n",
       "            );\n",
       "\n",
       "            \n",
       "\n",
       "        \n",
       "    \n",
       "            var tile_layer_a9d59e1bf1caf1ec23137f07c98fc507 = L.tileLayer(\n",
       "                &quot;https://tile.openstreetmap.org/{z}/{x}/{y}.png&quot;,\n",
       "                {\n",
       "  &quot;minZoom&quot;: 0,\n",
       "  &quot;maxZoom&quot;: 19,\n",
       "  &quot;maxNativeZoom&quot;: 19,\n",
       "  &quot;noWrap&quot;: false,\n",
       "  &quot;attribution&quot;: &quot;\\u0026copy; \\u003ca href=\\&quot;https://www.openstreetmap.org/copyright\\&quot;\\u003eOpenStreetMap\\u003c/a\\u003e contributors&quot;,\n",
       "  &quot;subdomains&quot;: &quot;abc&quot;,\n",
       "  &quot;detectRetina&quot;: false,\n",
       "  &quot;tms&quot;: false,\n",
       "  &quot;opacity&quot;: 1,\n",
       "}\n",
       "\n",
       "            );\n",
       "        \n",
       "    \n",
       "            tile_layer_a9d59e1bf1caf1ec23137f07c98fc507.addTo(map_8e263dfa2d2a3ab73322a420085a56cc);\n",
       "        \n",
       "    \n",
       "\n",
       "        function geo_json_94100e263a8b63934312d483afd71e87_onEachFeature(feature, layer) {\n",
       "            layer.on({\n",
       "            });\n",
       "        };\n",
       "        var geo_json_94100e263a8b63934312d483afd71e87 = L.geoJson(null, {\n",
       "                onEachFeature: geo_json_94100e263a8b63934312d483afd71e87_onEachFeature,\n",
       "            \n",
       "            ...{\n",
       "}\n",
       "        });\n",
       "\n",
       "        function geo_json_94100e263a8b63934312d483afd71e87_add (data) {\n",
       "            geo_json_94100e263a8b63934312d483afd71e87\n",
       "                .addData(data);\n",
       "        }\n",
       "            geo_json_94100e263a8b63934312d483afd71e87_add({&quot;features&quot;: [{&quot;geometry&quot;: {&quot;coordinates&quot;: [[[-82.5403, 23.0517], [-82.5289, 23.0628], [-82.5239, 23.0735], [-82.509, 23.0829], [-82.5045, 23.0806], [-82.4981, 23.0844], [-82.5026, 23.0865], [-82.4957, 23.0937], [-82.4911, 23.0937], [-82.4894, 23.0897], [-82.4872, 23.0951], [-82.4835, 23.0947], [-82.4781, 23.0901], [-82.4783, 23.0949], [-82.4606, 23.0936], [-82.4609, 23.0976], [-82.4554, 23.0961], [-82.4535, 23.1017], [-82.4346, 23.1193], [-82.4152, 23.1334], [-82.4121, 23.1339], [-82.4119, 23.1305], [-82.4053, 23.1406], [-82.3912, 23.1478], [-82.3696, 23.1424], [-82.3579, 23.1468], [-82.3522, 23.145], [-82.345, 23.1353], [-82.3478, 23.1286], [-82.3577, 23.122], [-82.351, 23.1205], [-82.3448, 23.1266], [-82.3422, 23.1147], [-82.3343, 23.1123], [-82.3406, 23.1243], [-82.3359, 23.1273], [-82.3374, 23.1347], [-82.328, 23.1303], [-82.3281, 23.1382], [-82.3229, 23.1427], [-82.3446, 23.1424], [-82.3563, 23.1516], [-82.3244, 23.1664], [-82.3026, 23.1715], [-82.2944, 23.1688], [-82.2911, 23.1637], [-82.2892, 23.1702], [-82.2772, 23.1754], [-82.2442, 23.1786], [-82.2402, 23.1732], [-82.2393, 23.1783], [-82.228, 23.1806], [-82.214, 23.1785], [-82.2115, 23.1724], [-82.2121, 23.1785], [-82.2045, 23.1806], [-82.1518, 23.172], [-82.1258, 23.1744], [-82.1225, 23.1684], [-82.1161, 23.1715], [-82.1209, 23.1724], [-82.1185, 23.1737], [-82.098, 23.1729], [-82.0929, 23.1761], [-82.0925, 23.168], [-82.1016, 23.1666], [-82.1025, 23.1598], [-82.082, 23.1487], [-82.0799, 23.1245], [-82.0931, 23.1221], [-82.0861, 23.1055], [-82.1016, 23.0931], [-82.1015, 23.0847], [-82.1087, 23.0806], [-82.1058, 23.0767], [-82.1096, 23.0683], [-82.1011, 23.0555], [-82.1148, 23.0547], [-82.1445, 23.0685], [-82.15, 23.075], [-82.1562, 23.0744], [-82.1764, 23.0576], [-82.2231, 23.064], [-82.2256, 23.0165], [-82.1964, 22.9972], [-82.1979, 22.993], [-82.2115, 22.9944], [-82.2167, 22.9997], [-82.2283, 22.9804], [-82.2618, 22.9734], [-82.2475, 22.9564], [-82.2676, 22.9578], [-82.2798, 22.9519], [-82.2976, 22.9541], [-82.3009, 22.9627], [-82.3056, 22.9648], [-82.3132, 22.9649], [-82.3304, 22.9563], [-82.3648, 22.9667], [-82.3775, 22.9657], [-82.3759, 22.9558], [-82.3658, 22.9405], [-82.3868, 22.9337], [-82.4152, 22.9483], [-82.4287, 22.9466], [-82.4336, 22.9403], [-82.4458, 22.9471], [-82.4436, 22.9814], [-82.4482, 22.9851], [-82.4578, 22.9775], [-82.4661, 22.982], [-82.4672, 22.9783], [-82.4843, 22.9729], [-82.498, 22.9947], [-82.5012, 23.0095], [-82.5081, 23.0153], [-82.5066, 23.0211], [-82.4982, 23.0262], [-82.4949, 23.0323], [-82.4973, 23.0392], [-82.4917, 23.0411], [-82.4889, 23.0523], [-82.4921, 23.0736], [-82.4972, 23.0736], [-82.5021, 23.0687], [-82.5108, 23.0703], [-82.5329, 23.0523], [-82.5403, 23.0517]]], &quot;type&quot;: &quot;Polygon&quot;}, &quot;properties&quot;: {&quot;DPA_province_code&quot;: &quot;23&quot;, &quot;country&quot;: &quot;Cuba&quot;, &quot;country_domain&quot;: &quot;cu&quot;, &quot;province&quot;: &quot;La Habana&quot;, &quot;province_id&quot;: &quot;lha&quot;, &quot;region&quot;: &quot;province&quot;}, &quot;type&quot;: &quot;Feature&quot;}], &quot;type&quot;: &quot;FeatureCollection&quot;});\n",
       "        geo_json_94100e263a8b63934312d483afd71e87.setStyle(function(feature) {return feature.properties.style;});\n",
       "\n",
       "        \n",
       "    \n",
       "            geo_json_94100e263a8b63934312d483afd71e87.addTo(map_8e263dfa2d2a3ab73322a420085a56cc);\n",
       "        \n",
       "    \n",
       "            var marker_143af19147ba284d5417a8e4ee9f3de8 = L.marker(\n",
       "                [23.088058099587446, -82.42179558984083],\n",
       "                {\n",
       "}\n",
       "            ).addTo(map_8e263dfa2d2a3ab73322a420085a56cc);\n",
       "        \n",
       "    \n",
       "            var icon_c235fd2f3017704759607f38da21d53a = L.AwesomeMarkers.icon(\n",
       "                {\n",
       "  &quot;markerColor&quot;: &quot;red&quot;,\n",
       "  &quot;iconColor&quot;: &quot;white&quot;,\n",
       "  &quot;icon&quot;: &quot;cutlery&quot;,\n",
       "  &quot;prefix&quot;: &quot;fa&quot;,\n",
       "  &quot;extraClasses&quot;: &quot;fa-rotate-0&quot;,\n",
       "}\n",
       "            );\n",
       "            marker_143af19147ba284d5417a8e4ee9f3de8.setIcon(icon_c235fd2f3017704759607f38da21d53a);\n",
       "        \n",
       "    \n",
       "        var popup_f6742f94911a80d9947fc771ab6505ab = L.popup({\n",
       "  &quot;maxWidth&quot;: &quot;100%&quot;,\n",
       "});\n",
       "\n",
       "        \n",
       "            \n",
       "                var html_752967634e471568ef2da80cf552722a = $(`&lt;div id=&quot;html_752967634e471568ef2da80cf552722a&quot; style=&quot;width: 100.0%; height: 100.0%;&quot;&gt;(&quot;&lt;b style=&#x27;font-size: 18px; &#x27;&gt;700º&lt;/b&gt;&lt;br&gt;Dirección: avenida 41 esquina 86&quot;,)&lt;/div&gt;`)[0];\n",
       "                popup_f6742f94911a80d9947fc771ab6505ab.setContent(html_752967634e471568ef2da80cf552722a);\n",
       "            \n",
       "        \n",
       "\n",
       "        marker_143af19147ba284d5417a8e4ee9f3de8.bindPopup(popup_f6742f94911a80d9947fc771ab6505ab)\n",
       "        ;\n",
       "\n",
       "        \n",
       "    \n",
       "    \n",
       "            var marker_81c547179885d6ded6aefc8b92be04d3 = L.marker(\n",
       "                [23.161955819683246, -82.29436375935097],\n",
       "                {\n",
       "}\n",
       "            ).addTo(map_8e263dfa2d2a3ab73322a420085a56cc);\n",
       "        \n",
       "    \n",
       "            var icon_b8e5b597f17928869cf3ab930bc50444 = L.AwesomeMarkers.icon(\n",
       "                {\n",
       "  &quot;markerColor&quot;: &quot;red&quot;,\n",
       "  &quot;iconColor&quot;: &quot;white&quot;,\n",
       "  &quot;icon&quot;: &quot;cutlery&quot;,\n",
       "  &quot;prefix&quot;: &quot;fa&quot;,\n",
       "  &quot;extraClasses&quot;: &quot;fa-rotate-0&quot;,\n",
       "}\n",
       "            );\n",
       "            marker_81c547179885d6ded6aefc8b92be04d3.setIcon(icon_b8e5b597f17928869cf3ab930bc50444);\n",
       "        \n",
       "    \n",
       "        var popup_8bb10082530f2827bcb4ad6ecfaac16f = L.popup({\n",
       "  &quot;maxWidth&quot;: &quot;100%&quot;,\n",
       "});\n",
       "\n",
       "        \n",
       "            \n",
       "                var html_58d07678d73d26b571c0121db5aa541e = $(`&lt;div id=&quot;html_58d07678d73d26b571c0121db5aa541e&quot; style=&quot;width: 100.0%; height: 100.0%;&quot;&gt;(&quot;&lt;b style=&#x27;font-size: 18px; &#x27;&gt;Aires de Cojimar&lt;/b&gt;&lt;br&gt;Dirección: Pezuela #3e05 entre RUA y Espartero, Cojimar&quot;,)&lt;/div&gt;`)[0];\n",
       "                popup_8bb10082530f2827bcb4ad6ecfaac16f.setContent(html_58d07678d73d26b571c0121db5aa541e);\n",
       "            \n",
       "        \n",
       "\n",
       "        marker_81c547179885d6ded6aefc8b92be04d3.bindPopup(popup_8bb10082530f2827bcb4ad6ecfaac16f)\n",
       "        ;\n",
       "\n",
       "        \n",
       "    \n",
       "    \n",
       "            var marker_29360ccb5782a594d82e5b6f1bf151af = L.marker(\n",
       "                [23.164158289847958, -82.3080389633564],\n",
       "                {\n",
       "}\n",
       "            ).addTo(map_8e263dfa2d2a3ab73322a420085a56cc);\n",
       "        \n",
       "    \n",
       "            var icon_bb62e6b213f590ba12c9a2989de5d840 = L.AwesomeMarkers.icon(\n",
       "                {\n",
       "  &quot;markerColor&quot;: &quot;red&quot;,\n",
       "  &quot;iconColor&quot;: &quot;white&quot;,\n",
       "  &quot;icon&quot;: &quot;cutlery&quot;,\n",
       "  &quot;prefix&quot;: &quot;fa&quot;,\n",
       "  &quot;extraClasses&quot;: &quot;fa-rotate-0&quot;,\n",
       "}\n",
       "            );\n",
       "            marker_29360ccb5782a594d82e5b6f1bf151af.setIcon(icon_bb62e6b213f590ba12c9a2989de5d840);\n",
       "        \n",
       "    \n",
       "        var popup_e257f3bb3ca62a80d549ff5c37a63dfc = L.popup({\n",
       "  &quot;maxWidth&quot;: &quot;100%&quot;,\n",
       "});\n",
       "\n",
       "        \n",
       "            \n",
       "                var html_9fe880f04fef0d2eae117f1d7d458144 = $(`&lt;div id=&quot;html_9fe880f04fef0d2eae117f1d7d458144&quot; style=&quot;width: 100.0%; height: 100.0%;&quot;&gt;(&quot;&lt;b style=&#x27;font-size: 18px; &#x27;&gt;Allegro&lt;/b&gt;&lt;br&gt;Dirección: Paseo de la Villa, Villa Panamericana&quot;,)&lt;/div&gt;`)[0];\n",
       "                popup_e257f3bb3ca62a80d549ff5c37a63dfc.setContent(html_9fe880f04fef0d2eae117f1d7d458144);\n",
       "            \n",
       "        \n",
       "\n",
       "        marker_29360ccb5782a594d82e5b6f1bf151af.bindPopup(popup_e257f3bb3ca62a80d549ff5c37a63dfc)\n",
       "        ;\n",
       "\n",
       "        \n",
       "    \n",
       "    \n",
       "            var marker_aeb89825f6a6dcaef752e5345ec123d5 = L.marker(\n",
       "                [23.155233076567885, -82.27082914585701],\n",
       "                {\n",
       "}\n",
       "            ).addTo(map_8e263dfa2d2a3ab73322a420085a56cc);\n",
       "        \n",
       "    \n",
       "            var icon_4ff9b3313fe43625cafc790d7d384864 = L.AwesomeMarkers.icon(\n",
       "                {\n",
       "  &quot;markerColor&quot;: &quot;red&quot;,\n",
       "  &quot;iconColor&quot;: &quot;white&quot;,\n",
       "  &quot;icon&quot;: &quot;cutlery&quot;,\n",
       "  &quot;prefix&quot;: &quot;fa&quot;,\n",
       "  &quot;extraClasses&quot;: &quot;fa-rotate-0&quot;,\n",
       "}\n",
       "            );\n",
       "            marker_aeb89825f6a6dcaef752e5345ec123d5.setIcon(icon_4ff9b3313fe43625cafc790d7d384864);\n",
       "        \n",
       "    \n",
       "        var popup_89408bbddb654446b211ddc4946c2001 = L.popup({\n",
       "  &quot;maxWidth&quot;: &quot;100%&quot;,\n",
       "});\n",
       "\n",
       "        \n",
       "            \n",
       "                var html_e0b97964350fa91136db2ad90cf59334 = $(`&lt;div id=&quot;html_e0b97964350fa91136db2ad90cf59334&quot; style=&quot;width: 100.0%; height: 100.0%;&quot;&gt;(&quot;&lt;b style=&#x27;font-size: 18px; &#x27;&gt;Al Campestre&lt;/b&gt;&lt;br&gt;Dirección: El Intermitente, Via  Blanca, Alamar&quot;,)&lt;/div&gt;`)[0];\n",
       "                popup_89408bbddb654446b211ddc4946c2001.setContent(html_e0b97964350fa91136db2ad90cf59334);\n",
       "            \n",
       "        \n",
       "\n",
       "        marker_aeb89825f6a6dcaef752e5345ec123d5.bindPopup(popup_89408bbddb654446b211ddc4946c2001)\n",
       "        ;\n",
       "\n",
       "        \n",
       "    \n",
       "    \n",
       "            var marker_1ed597c3bc32a2aecdd41aab8368a57e = L.marker(\n",
       "                [23.141692369054233, -82.35521570333256],\n",
       "                {\n",
       "}\n",
       "            ).addTo(map_8e263dfa2d2a3ab73322a420085a56cc);\n",
       "        \n",
       "    \n",
       "            var icon_097a1a86522af1bd5314e23067c3c3b3 = L.AwesomeMarkers.icon(\n",
       "                {\n",
       "  &quot;markerColor&quot;: &quot;red&quot;,\n",
       "  &quot;iconColor&quot;: &quot;white&quot;,\n",
       "  &quot;icon&quot;: &quot;cutlery&quot;,\n",
       "  &quot;prefix&quot;: &quot;fa&quot;,\n",
       "  &quot;extraClasses&quot;: &quot;fa-rotate-0&quot;,\n",
       "}\n",
       "            );\n",
       "            marker_1ed597c3bc32a2aecdd41aab8368a57e.setIcon(icon_097a1a86522af1bd5314e23067c3c3b3);\n",
       "        \n",
       "    \n",
       "        var popup_51b9f59700885064c07a9349bd83910e = L.popup({\n",
       "  &quot;maxWidth&quot;: &quot;100%&quot;,\n",
       "});\n",
       "\n",
       "        \n",
       "            \n",
       "                var html_136999230047b9b57dd9d14f6cfbff25 = $(`&lt;div id=&quot;html_136999230047b9b57dd9d14f6cfbff25&quot; style=&quot;width: 100.0%; height: 100.0%;&quot;&gt;(&quot;&lt;b style=&#x27;font-size: 18px; &#x27;&gt;Antojos&lt;/b&gt;&lt;br&gt;Dirección: Callejón Espada entre Cuarteles y Chacon&quot;,)&lt;/div&gt;`)[0];\n",
       "                popup_51b9f59700885064c07a9349bd83910e.setContent(html_136999230047b9b57dd9d14f6cfbff25);\n",
       "            \n",
       "        \n",
       "\n",
       "        marker_1ed597c3bc32a2aecdd41aab8368a57e.bindPopup(popup_51b9f59700885064c07a9349bd83910e)\n",
       "        ;\n",
       "\n",
       "        \n",
       "    \n",
       "    \n",
       "            var marker_4ddf45bdabde5748211098b45b8f770a = L.marker(\n",
       "                [23.128711947642273, -82.39676637467788],\n",
       "                {\n",
       "}\n",
       "            ).addTo(map_8e263dfa2d2a3ab73322a420085a56cc);\n",
       "        \n",
       "    \n",
       "            var icon_84e296d69f78179457c886596195d201 = L.AwesomeMarkers.icon(\n",
       "                {\n",
       "  &quot;markerColor&quot;: &quot;red&quot;,\n",
       "  &quot;iconColor&quot;: &quot;white&quot;,\n",
       "  &quot;icon&quot;: &quot;cutlery&quot;,\n",
       "  &quot;prefix&quot;: &quot;fa&quot;,\n",
       "  &quot;extraClasses&quot;: &quot;fa-rotate-0&quot;,\n",
       "}\n",
       "            );\n",
       "            marker_4ddf45bdabde5748211098b45b8f770a.setIcon(icon_84e296d69f78179457c886596195d201);\n",
       "        \n",
       "    \n",
       "        var popup_9ec23f875fe0a4a3736ee8de2423bc7c = L.popup({\n",
       "  &quot;maxWidth&quot;: &quot;100%&quot;,\n",
       "});\n",
       "\n",
       "        \n",
       "            \n",
       "                var html_a0940e4ddc7623d93ff714fea782a789 = $(`&lt;div id=&quot;html_a0940e4ddc7623d93ff714fea782a789&quot; style=&quot;width: 100.0%; height: 100.0%;&quot;&gt;(&quot;&lt;b style=&#x27;font-size: 18px; &#x27;&gt;Asia Cuba&lt;/b&gt;&lt;br&gt;Dirección:  Calle 6 ##562 entre 23 y 25, Vedado&quot;,)&lt;/div&gt;`)[0];\n",
       "                popup_9ec23f875fe0a4a3736ee8de2423bc7c.setContent(html_a0940e4ddc7623d93ff714fea782a789);\n",
       "            \n",
       "        \n",
       "\n",
       "        marker_4ddf45bdabde5748211098b45b8f770a.bindPopup(popup_9ec23f875fe0a4a3736ee8de2423bc7c)\n",
       "        ;\n",
       "\n",
       "        \n",
       "    \n",
       "    \n",
       "            var marker_dc1816248e1cbf09a9cfe2bfb33679a3 = L.marker(\n",
       "                [23.075224743679176, -82.35820577444514],\n",
       "                {\n",
       "}\n",
       "            ).addTo(map_8e263dfa2d2a3ab73322a420085a56cc);\n",
       "        \n",
       "    \n",
       "            var icon_5ca2012e211861d8c61547b2a82f8710 = L.AwesomeMarkers.icon(\n",
       "                {\n",
       "  &quot;markerColor&quot;: &quot;red&quot;,\n",
       "  &quot;iconColor&quot;: &quot;white&quot;,\n",
       "  &quot;icon&quot;: &quot;cutlery&quot;,\n",
       "  &quot;prefix&quot;: &quot;fa&quot;,\n",
       "  &quot;extraClasses&quot;: &quot;fa-rotate-0&quot;,\n",
       "}\n",
       "            );\n",
       "            marker_dc1816248e1cbf09a9cfe2bfb33679a3.setIcon(icon_5ca2012e211861d8c61547b2a82f8710);\n",
       "        \n",
       "    \n",
       "        var popup_ac80efa6ba7c041be1bc1e2d3b2e7fd1 = L.popup({\n",
       "  &quot;maxWidth&quot;: &quot;100%&quot;,\n",
       "});\n",
       "\n",
       "        \n",
       "            \n",
       "                var html_bf56a14e739e2fa9fa7fe525c8399ba9 = $(`&lt;div id=&quot;html_bf56a14e739e2fa9fa7fe525c8399ba9&quot; style=&quot;width: 100.0%; height: 100.0%;&quot;&gt;(&quot;&lt;b style=&#x27;font-size: 18px; &#x27;&gt;Atlanta&lt;/b&gt;&lt;br&gt;Dirección: Atlanta #9, entre Calzada de Porvenir y Calzada de 10 de octubre, La Palma&quot;,)&lt;/div&gt;`)[0];\n",
       "                popup_ac80efa6ba7c041be1bc1e2d3b2e7fd1.setContent(html_bf56a14e739e2fa9fa7fe525c8399ba9);\n",
       "            \n",
       "        \n",
       "\n",
       "        marker_dc1816248e1cbf09a9cfe2bfb33679a3.bindPopup(popup_ac80efa6ba7c041be1bc1e2d3b2e7fd1)\n",
       "        ;\n",
       "\n",
       "        \n",
       "    \n",
       "    \n",
       "            var marker_3a954643c78dfc73c2fb05bfab8ec313 = L.marker(\n",
       "                [23.140052255362068, -82.37802867469266],\n",
       "                {\n",
       "}\n",
       "            ).addTo(map_8e263dfa2d2a3ab73322a420085a56cc);\n",
       "        \n",
       "    \n",
       "            var icon_9e511dfb778844eb0e78b1e6c98b46cb = L.AwesomeMarkers.icon(\n",
       "                {\n",
       "  &quot;markerColor&quot;: &quot;red&quot;,\n",
       "  &quot;iconColor&quot;: &quot;white&quot;,\n",
       "  &quot;icon&quot;: &quot;cutlery&quot;,\n",
       "  &quot;prefix&quot;: &quot;fa&quot;,\n",
       "  &quot;extraClasses&quot;: &quot;fa-rotate-0&quot;,\n",
       "}\n",
       "            );\n",
       "            marker_3a954643c78dfc73c2fb05bfab8ec313.setIcon(icon_9e511dfb778844eb0e78b1e6c98b46cb);\n",
       "        \n",
       "    \n",
       "        var popup_700d74d2716574a82158168d6e3b6cff = L.popup({\n",
       "  &quot;maxWidth&quot;: &quot;100%&quot;,\n",
       "});\n",
       "\n",
       "        \n",
       "            \n",
       "                var html_5bb86c3d387734fc667f0dfe02c461b8 = $(`&lt;div id=&quot;html_5bb86c3d387734fc667f0dfe02c461b8&quot; style=&quot;width: 100.0%; height: 100.0%;&quot;&gt;(&quot;&lt;b style=&#x27;font-size: 18px; &#x27;&gt;Macarena&lt;/b&gt;&lt;br&gt;Dirección: Calle Vapor No.168 altos entre Espada y San Fransisco&quot;,)&lt;/div&gt;`)[0];\n",
       "                popup_700d74d2716574a82158168d6e3b6cff.setContent(html_5bb86c3d387734fc667f0dfe02c461b8);\n",
       "            \n",
       "        \n",
       "\n",
       "        marker_3a954643c78dfc73c2fb05bfab8ec313.bindPopup(popup_700d74d2716574a82158168d6e3b6cff)\n",
       "        ;\n",
       "\n",
       "        \n",
       "    \n",
       "    \n",
       "            var marker_8345e41d43258390c6310ae6d4e4665f = L.marker(\n",
       "                [23.094616836132214, -82.4191641263218],\n",
       "                {\n",
       "}\n",
       "            ).addTo(map_8e263dfa2d2a3ab73322a420085a56cc);\n",
       "        \n",
       "    \n",
       "            var icon_2f0d9bf918b0f494cb0549dd22d6e57c = L.AwesomeMarkers.icon(\n",
       "                {\n",
       "  &quot;markerColor&quot;: &quot;red&quot;,\n",
       "  &quot;iconColor&quot;: &quot;white&quot;,\n",
       "  &quot;icon&quot;: &quot;cutlery&quot;,\n",
       "  &quot;prefix&quot;: &quot;fa&quot;,\n",
       "  &quot;extraClasses&quot;: &quot;fa-rotate-0&quot;,\n",
       "}\n",
       "            );\n",
       "            marker_8345e41d43258390c6310ae6d4e4665f.setIcon(icon_2f0d9bf918b0f494cb0549dd22d6e57c);\n",
       "        \n",
       "    \n",
       "        var popup_923f907c8ea4df2ee9a37928aa860c66 = L.popup({\n",
       "  &quot;maxWidth&quot;: &quot;100%&quot;,\n",
       "});\n",
       "\n",
       "        \n",
       "            \n",
       "                var html_c414f9bbd748728b855a962f99e5e7ea = $(`&lt;div id=&quot;html_c414f9bbd748728b855a962f99e5e7ea&quot; style=&quot;width: 100.0%; height: 100.0%;&quot;&gt;(&quot;&lt;b style=&#x27;font-size: 18px; &#x27;&gt;Bar Tropicana&lt;/b&gt;&lt;br&gt;Dirección: 72A,Avenida 41&quot;,)&lt;/div&gt;`)[0];\n",
       "                popup_923f907c8ea4df2ee9a37928aa860c66.setContent(html_c414f9bbd748728b855a962f99e5e7ea);\n",
       "            \n",
       "        \n",
       "\n",
       "        marker_8345e41d43258390c6310ae6d4e4665f.bindPopup(popup_923f907c8ea4df2ee9a37928aa860c66)\n",
       "        ;\n",
       "\n",
       "        \n",
       "    \n",
       "    \n",
       "            var marker_53b404ef9daf1b0cfd846837710594dd = L.marker(\n",
       "                [23.14134074581821, -82.40118351396043],\n",
       "                {\n",
       "}\n",
       "            ).addTo(map_8e263dfa2d2a3ab73322a420085a56cc);\n",
       "        \n",
       "    \n",
       "            var icon_a8dacdcaac42db25d8bb361da2a93759 = L.AwesomeMarkers.icon(\n",
       "                {\n",
       "  &quot;markerColor&quot;: &quot;red&quot;,\n",
       "  &quot;iconColor&quot;: &quot;white&quot;,\n",
       "  &quot;icon&quot;: &quot;cutlery&quot;,\n",
       "  &quot;prefix&quot;: &quot;fa&quot;,\n",
       "  &quot;extraClasses&quot;: &quot;fa-rotate-0&quot;,\n",
       "}\n",
       "            );\n",
       "            marker_53b404ef9daf1b0cfd846837710594dd.setIcon(icon_a8dacdcaac42db25d8bb361da2a93759);\n",
       "        \n",
       "    \n",
       "        var popup_0df2afac0b354a8673fb6c69c77b5ed1 = L.popup({\n",
       "  &quot;maxWidth&quot;: &quot;100%&quot;,\n",
       "});\n",
       "\n",
       "        \n",
       "            \n",
       "                var html_4a38ff4a2006692cc21e276302239c3f = $(`&lt;div id=&quot;html_4a38ff4a2006692cc21e276302239c3f&quot; style=&quot;width: 100.0%; height: 100.0%;&quot;&gt;(&quot;&lt;b style=&#x27;font-size: 18px; &#x27;&gt;Beirut&lt;/b&gt;&lt;br&gt;Dirección: Calle 1ra entre A y B, Vedado&quot;,)&lt;/div&gt;`)[0];\n",
       "                popup_0df2afac0b354a8673fb6c69c77b5ed1.setContent(html_4a38ff4a2006692cc21e276302239c3f);\n",
       "            \n",
       "        \n",
       "\n",
       "        marker_53b404ef9daf1b0cfd846837710594dd.bindPopup(popup_0df2afac0b354a8673fb6c69c77b5ed1)\n",
       "        ;\n",
       "\n",
       "        \n",
       "    \n",
       "    \n",
       "            var marker_68b77b6fbcdd19661e9af655eb2fb4ce = L.marker(\n",
       "                [23.122358280018755, -82.40455260333313],\n",
       "                {\n",
       "}\n",
       "            ).addTo(map_8e263dfa2d2a3ab73322a420085a56cc);\n",
       "        \n",
       "    \n",
       "            var icon_dc396ceb91287ce04738a0aeab1cc210 = L.AwesomeMarkers.icon(\n",
       "                {\n",
       "  &quot;markerColor&quot;: &quot;red&quot;,\n",
       "  &quot;iconColor&quot;: &quot;white&quot;,\n",
       "  &quot;icon&quot;: &quot;cutlery&quot;,\n",
       "  &quot;prefix&quot;: &quot;fa&quot;,\n",
       "  &quot;extraClasses&quot;: &quot;fa-rotate-0&quot;,\n",
       "}\n",
       "            );\n",
       "            marker_68b77b6fbcdd19661e9af655eb2fb4ce.setIcon(icon_dc396ceb91287ce04738a0aeab1cc210);\n",
       "        \n",
       "    \n",
       "        var popup_08995e2a093b3c9b5843317323699779 = L.popup({\n",
       "  &quot;maxWidth&quot;: &quot;100%&quot;,\n",
       "});\n",
       "\n",
       "        \n",
       "            \n",
       "                var html_435c114f1f98aa3682f459ed2b41fd84 = $(`&lt;div id=&quot;html_435c114f1f98aa3682f459ed2b41fd84&quot; style=&quot;width: 100.0%; height: 100.0%;&quot;&gt;(&quot;&lt;b style=&#x27;font-size: 18px; &#x27;&gt;Bodegon del Asado&lt;/b&gt;&lt;br&gt;Dirección: Calle 24, No 418, e / 23 y 25, Vedado&quot;,)&lt;/div&gt;`)[0];\n",
       "                popup_08995e2a093b3c9b5843317323699779.setContent(html_435c114f1f98aa3682f459ed2b41fd84);\n",
       "            \n",
       "        \n",
       "\n",
       "        marker_68b77b6fbcdd19661e9af655eb2fb4ce.bindPopup(popup_08995e2a093b3c9b5843317323699779)\n",
       "        ;\n",
       "\n",
       "        \n",
       "    \n",
       "    \n",
       "            var marker_1a9cedaaaa66c972f7818f365255c43d = L.marker(\n",
       "                [23.137509028109648, -82.35967851702206],\n",
       "                {\n",
       "}\n",
       "            ).addTo(map_8e263dfa2d2a3ab73322a420085a56cc);\n",
       "        \n",
       "    \n",
       "            var icon_ea558c148c88a20baf9290481f89f9ed = L.AwesomeMarkers.icon(\n",
       "                {\n",
       "  &quot;markerColor&quot;: &quot;red&quot;,\n",
       "  &quot;iconColor&quot;: &quot;white&quot;,\n",
       "  &quot;icon&quot;: &quot;cutlery&quot;,\n",
       "  &quot;prefix&quot;: &quot;fa&quot;,\n",
       "  &quot;extraClasses&quot;: &quot;fa-rotate-0&quot;,\n",
       "}\n",
       "            );\n",
       "            marker_1a9cedaaaa66c972f7818f365255c43d.setIcon(icon_ea558c148c88a20baf9290481f89f9ed);\n",
       "        \n",
       "    \n",
       "        var popup_9818248af9613af9b51670490dccf5dc = L.popup({\n",
       "  &quot;maxWidth&quot;: &quot;100%&quot;,\n",
       "});\n",
       "\n",
       "        \n",
       "            \n",
       "                var html_6d7b659668d04c72eab4c9ec4ee6a3b0 = $(`&lt;div id=&quot;html_6d7b659668d04c72eab4c9ec4ee6a3b0&quot; style=&quot;width: 100.0%; height: 100.0%;&quot;&gt;(&quot;&lt;b style=&#x27;font-size: 18px; &#x27;&gt;Bone Ma 62&lt;/b&gt;&lt;br&gt;Dirección: Bulevar de San Rafael entre Prado y Consulado&quot;,)&lt;/div&gt;`)[0];\n",
       "                popup_9818248af9613af9b51670490dccf5dc.setContent(html_6d7b659668d04c72eab4c9ec4ee6a3b0);\n",
       "            \n",
       "        \n",
       "\n",
       "        marker_1a9cedaaaa66c972f7818f365255c43d.bindPopup(popup_9818248af9613af9b51670490dccf5dc)\n",
       "        ;\n",
       "\n",
       "        \n",
       "    \n",
       "    \n",
       "            var marker_1eda1fc576980918bb772008e8b15dd9 = L.marker(\n",
       "                [23.120855356364203, -82.37256464585778],\n",
       "                {\n",
       "}\n",
       "            ).addTo(map_8e263dfa2d2a3ab73322a420085a56cc);\n",
       "        \n",
       "    \n",
       "            var icon_253e7eb2fef5ba83979ad4e751424edd = L.AwesomeMarkers.icon(\n",
       "                {\n",
       "  &quot;markerColor&quot;: &quot;red&quot;,\n",
       "  &quot;iconColor&quot;: &quot;white&quot;,\n",
       "  &quot;icon&quot;: &quot;cutlery&quot;,\n",
       "  &quot;prefix&quot;: &quot;fa&quot;,\n",
       "  &quot;extraClasses&quot;: &quot;fa-rotate-0&quot;,\n",
       "}\n",
       "            );\n",
       "            marker_1eda1fc576980918bb772008e8b15dd9.setIcon(icon_253e7eb2fef5ba83979ad4e751424edd);\n",
       "        \n",
       "    \n",
       "        var popup_6f0f5b4d2bdf7d0ed17ad1a8ddb0fbd2 = L.popup({\n",
       "  &quot;maxWidth&quot;: &quot;100%&quot;,\n",
       "});\n",
       "\n",
       "        \n",
       "            \n",
       "                var html_b35d8971a29653c65614ba1c9d616acc = $(`&lt;div id=&quot;html_b35d8971a29653c65614ba1c9d616acc&quot; style=&quot;width: 100.0%; height: 100.0%;&quot;&gt;(&quot;&lt;b style=&#x27;font-size: 18px; &#x27;&gt;Brutal Habana&lt;/b&gt;&lt;br&gt;Dirección: Infanta esquina Calle Universidad&quot;,)&lt;/div&gt;`)[0];\n",
       "                popup_6f0f5b4d2bdf7d0ed17ad1a8ddb0fbd2.setContent(html_b35d8971a29653c65614ba1c9d616acc);\n",
       "            \n",
       "        \n",
       "\n",
       "        marker_1eda1fc576980918bb772008e8b15dd9.bindPopup(popup_6f0f5b4d2bdf7d0ed17ad1a8ddb0fbd2)\n",
       "        ;\n",
       "\n",
       "        \n",
       "    \n",
       "    \n",
       "            var marker_e7f6445ac13ce466cb00cb0936bfa342 = L.marker(\n",
       "                [23.141585728087556, -82.35312284770457],\n",
       "                {\n",
       "}\n",
       "            ).addTo(map_8e263dfa2d2a3ab73322a420085a56cc);\n",
       "        \n",
       "    \n",
       "            var icon_2ea300283719645b418b313b7724623e = L.AwesomeMarkers.icon(\n",
       "                {\n",
       "  &quot;markerColor&quot;: &quot;red&quot;,\n",
       "  &quot;iconColor&quot;: &quot;white&quot;,\n",
       "  &quot;icon&quot;: &quot;cutlery&quot;,\n",
       "  &quot;prefix&quot;: &quot;fa&quot;,\n",
       "  &quot;extraClasses&quot;: &quot;fa-rotate-0&quot;,\n",
       "}\n",
       "            );\n",
       "            marker_e7f6445ac13ce466cb00cb0936bfa342.setIcon(icon_2ea300283719645b418b313b7724623e);\n",
       "        \n",
       "    \n",
       "        var popup_d22de3cbda896b31c55541c148191031 = L.popup({\n",
       "  &quot;maxWidth&quot;: &quot;100%&quot;,\n",
       "});\n",
       "\n",
       "        \n",
       "            \n",
       "                var html_5ca41a4ed29e59d8ae7bc3c1a9b397e1 = $(`&lt;div id=&quot;html_5ca41a4ed29e59d8ae7bc3c1a9b397e1&quot; style=&quot;width: 100.0%; height: 100.0%;&quot;&gt;(&quot;&lt;b style=&#x27;font-size: 18px; &#x27;&gt;Buena Vista Curry Club&lt;/b&gt;&lt;br&gt;Dirección: Tejadillo #24 entre Cuba y San Ignacio&quot;,)&lt;/div&gt;`)[0];\n",
       "                popup_d22de3cbda896b31c55541c148191031.setContent(html_5ca41a4ed29e59d8ae7bc3c1a9b397e1);\n",
       "            \n",
       "        \n",
       "\n",
       "        marker_e7f6445ac13ce466cb00cb0936bfa342.bindPopup(popup_d22de3cbda896b31c55541c148191031)\n",
       "        ;\n",
       "\n",
       "        \n",
       "    \n",
       "    \n",
       "            var marker_d94370e83db386797d63572af0c1c8f6 = L.marker(\n",
       "                [23.052405448223777, -82.4605687],\n",
       "                {\n",
       "}\n",
       "            ).addTo(map_8e263dfa2d2a3ab73322a420085a56cc);\n",
       "        \n",
       "    \n",
       "            var icon_227ccd18ba8ff460b024b2b54885e3d0 = L.AwesomeMarkers.icon(\n",
       "                {\n",
       "  &quot;markerColor&quot;: &quot;red&quot;,\n",
       "  &quot;iconColor&quot;: &quot;white&quot;,\n",
       "  &quot;icon&quot;: &quot;cutlery&quot;,\n",
       "  &quot;prefix&quot;: &quot;fa&quot;,\n",
       "  &quot;extraClasses&quot;: &quot;fa-rotate-0&quot;,\n",
       "}\n",
       "            );\n",
       "            marker_d94370e83db386797d63572af0c1c8f6.setIcon(icon_227ccd18ba8ff460b024b2b54885e3d0);\n",
       "        \n",
       "    \n",
       "        var popup_731cc020e7a34f52bf71a7ba46ad47be = L.popup({\n",
       "  &quot;maxWidth&quot;: &quot;100%&quot;,\n",
       "});\n",
       "\n",
       "        \n",
       "            \n",
       "                var html_77112b9f818b3774532b0828f08c5846 = $(`&lt;div id=&quot;html_77112b9f818b3774532b0828f08c5846&quot; style=&quot;width: 100.0%; height: 100.0%;&quot;&gt;(&quot;&lt;b style=&#x27;font-size: 18px; &#x27;&gt;Cafe Aroma&lt;/b&gt;&lt;br&gt;Dirección: Calle 244 No. 5106 e/ 51 y 61, San Agustín&quot;,)&lt;/div&gt;`)[0];\n",
       "                popup_731cc020e7a34f52bf71a7ba46ad47be.setContent(html_77112b9f818b3774532b0828f08c5846);\n",
       "            \n",
       "        \n",
       "\n",
       "        marker_d94370e83db386797d63572af0c1c8f6.bindPopup(popup_731cc020e7a34f52bf71a7ba46ad47be)\n",
       "        ;\n",
       "\n",
       "        \n",
       "    \n",
       "    \n",
       "            var marker_03e4df6c79f7b1a299211e19f14f302c = L.marker(\n",
       "                [23.136496787602418, -82.36291657498259],\n",
       "                {\n",
       "}\n",
       "            ).addTo(map_8e263dfa2d2a3ab73322a420085a56cc);\n",
       "        \n",
       "    \n",
       "            var icon_86aeaf207cc130fd952c3c565e392a94 = L.AwesomeMarkers.icon(\n",
       "                {\n",
       "  &quot;markerColor&quot;: &quot;red&quot;,\n",
       "  &quot;iconColor&quot;: &quot;white&quot;,\n",
       "  &quot;icon&quot;: &quot;cutlery&quot;,\n",
       "  &quot;prefix&quot;: &quot;fa&quot;,\n",
       "  &quot;extraClasses&quot;: &quot;fa-rotate-0&quot;,\n",
       "}\n",
       "            );\n",
       "            marker_03e4df6c79f7b1a299211e19f14f302c.setIcon(icon_86aeaf207cc130fd952c3c565e392a94);\n",
       "        \n",
       "    \n",
       "        var popup_6f3d207d5c5ee7c814267d9b91c54812 = L.popup({\n",
       "  &quot;maxWidth&quot;: &quot;100%&quot;,\n",
       "});\n",
       "\n",
       "        \n",
       "            \n",
       "                var html_3932d551000103ee0506543fa3bf555c = $(`&lt;div id=&quot;html_3932d551000103ee0506543fa3bf555c&quot; style=&quot;width: 100.0%; height: 100.0%;&quot;&gt;(&quot;&lt;b style=&#x27;font-size: 18px; &#x27;&gt;Cafe Bulevar&lt;/b&gt;&lt;br&gt;Dirección: Blvd de San Rafael entre Aguila y Galeano&quot;,)&lt;/div&gt;`)[0];\n",
       "                popup_6f3d207d5c5ee7c814267d9b91c54812.setContent(html_3932d551000103ee0506543fa3bf555c);\n",
       "            \n",
       "        \n",
       "\n",
       "        marker_03e4df6c79f7b1a299211e19f14f302c.bindPopup(popup_6f3d207d5c5ee7c814267d9b91c54812)\n",
       "        ;\n",
       "\n",
       "        \n",
       "    \n",
       "    \n",
       "            var marker_d07ea1ae87b42d1a70aff25a2a938f3c = L.marker(\n",
       "                [23.142000139754025, -82.35554376702197],\n",
       "                {\n",
       "}\n",
       "            ).addTo(map_8e263dfa2d2a3ab73322a420085a56cc);\n",
       "        \n",
       "    \n",
       "            var icon_76666892f21df067846bc3aa517015e7 = L.AwesomeMarkers.icon(\n",
       "                {\n",
       "  &quot;markerColor&quot;: &quot;red&quot;,\n",
       "  &quot;iconColor&quot;: &quot;white&quot;,\n",
       "  &quot;icon&quot;: &quot;cutlery&quot;,\n",
       "  &quot;prefix&quot;: &quot;fa&quot;,\n",
       "  &quot;extraClasses&quot;: &quot;fa-rotate-0&quot;,\n",
       "}\n",
       "            );\n",
       "            marker_d07ea1ae87b42d1a70aff25a2a938f3c.setIcon(icon_76666892f21df067846bc3aa517015e7);\n",
       "        \n",
       "    \n",
       "        var popup_9dc8b00802b5e11d351b5e2b71905970 = L.popup({\n",
       "  &quot;maxWidth&quot;: &quot;100%&quot;,\n",
       "});\n",
       "\n",
       "        \n",
       "            \n",
       "                var html_e2672e7b51e4d7e7ae8c6508c689aaf4 = $(`&lt;div id=&quot;html_e2672e7b51e4d7e7ae8c6508c689aaf4&quot; style=&quot;width: 100.0%; height: 100.0%;&quot;&gt;(&quot;&lt;b style=&#x27;font-size: 18px; &#x27;&gt;Cafe Del Angel&lt;/b&gt;&lt;br&gt;Dirección: Chacon #201 esquina Compostela&quot;,)&lt;/div&gt;`)[0];\n",
       "                popup_9dc8b00802b5e11d351b5e2b71905970.setContent(html_e2672e7b51e4d7e7ae8c6508c689aaf4);\n",
       "            \n",
       "        \n",
       "\n",
       "        marker_d07ea1ae87b42d1a70aff25a2a938f3c.bindPopup(popup_9dc8b00802b5e11d351b5e2b71905970)\n",
       "        ;\n",
       "\n",
       "        \n",
       "    \n",
       "    \n",
       "            var marker_bd3ca7ef68a330ed01b5816b389074d4 = L.marker(\n",
       "                [23.13903313751219, -82.40074075776106],\n",
       "                {\n",
       "}\n",
       "            ).addTo(map_8e263dfa2d2a3ab73322a420085a56cc);\n",
       "        \n",
       "    \n",
       "            var icon_3eab07c21aa23195fa48b3924173397b = L.AwesomeMarkers.icon(\n",
       "                {\n",
       "  &quot;markerColor&quot;: &quot;red&quot;,\n",
       "  &quot;iconColor&quot;: &quot;white&quot;,\n",
       "  &quot;icon&quot;: &quot;cutlery&quot;,\n",
       "  &quot;prefix&quot;: &quot;fa&quot;,\n",
       "  &quot;extraClasses&quot;: &quot;fa-rotate-0&quot;,\n",
       "}\n",
       "            );\n",
       "            marker_bd3ca7ef68a330ed01b5816b389074d4.setIcon(icon_3eab07c21aa23195fa48b3924173397b);\n",
       "        \n",
       "    \n",
       "        var popup_90240c7ce1ffa499e435bb1ddb6fe1d8 = L.popup({\n",
       "  &quot;maxWidth&quot;: &quot;100%&quot;,\n",
       "});\n",
       "\n",
       "        \n",
       "            \n",
       "                var html_c216d6a7ced1d9937a9d26254860d1de = $(`&lt;div id=&quot;html_c216d6a7ced1d9937a9d26254860d1de&quot; style=&quot;width: 100.0%; height: 100.0%;&quot;&gt;(&quot;&lt;b style=&#x27;font-size: 18px; &#x27;&gt;Cafe D la Esquina&lt;/b&gt;&lt;br&gt;Dirección: Paseo #101, esq. a 5ta., Vedado&quot;,)&lt;/div&gt;`)[0];\n",
       "                popup_90240c7ce1ffa499e435bb1ddb6fe1d8.setContent(html_c216d6a7ced1d9937a9d26254860d1de);\n",
       "            \n",
       "        \n",
       "\n",
       "        marker_bd3ca7ef68a330ed01b5816b389074d4.bindPopup(popup_90240c7ce1ffa499e435bb1ddb6fe1d8)\n",
       "        ;\n",
       "\n",
       "        \n",
       "    \n",
       "    \n",
       "            var marker_9555070f7bfa4c2ca482a70e2132bd4b = L.marker(\n",
       "                [23.142976203835282, -82.35457077116467],\n",
       "                {\n",
       "}\n",
       "            ).addTo(map_8e263dfa2d2a3ab73322a420085a56cc);\n",
       "        \n",
       "    \n",
       "            var icon_9e7057fc3ae12414676aab3328660017 = L.AwesomeMarkers.icon(\n",
       "                {\n",
       "  &quot;markerColor&quot;: &quot;red&quot;,\n",
       "  &quot;iconColor&quot;: &quot;white&quot;,\n",
       "  &quot;icon&quot;: &quot;cutlery&quot;,\n",
       "  &quot;prefix&quot;: &quot;fa&quot;,\n",
       "  &quot;extraClasses&quot;: &quot;fa-rotate-0&quot;,\n",
       "}\n",
       "            );\n",
       "            marker_9555070f7bfa4c2ca482a70e2132bd4b.setIcon(icon_9e7057fc3ae12414676aab3328660017);\n",
       "        \n",
       "    \n",
       "        var popup_d394fea22b3168011a8bf9d6d3bf3aa6 = L.popup({\n",
       "  &quot;maxWidth&quot;: &quot;100%&quot;,\n",
       "});\n",
       "\n",
       "        \n",
       "            \n",
       "                var html_925034034fec566c11e9a472556e2ae2 = $(`&lt;div id=&quot;html_925034034fec566c11e9a472556e2ae2&quot; style=&quot;width: 100.0%; height: 100.0%;&quot;&gt;(&quot;&lt;b style=&#x27;font-size: 18px; &#x27;&gt;Cafe Fortuna Joe&lt;/b&gt;&lt;br&gt;Dirección: Aguiar 64 e/ Peña Pobre y Cuarteles&quot;,)&lt;/div&gt;`)[0];\n",
       "                popup_d394fea22b3168011a8bf9d6d3bf3aa6.setContent(html_925034034fec566c11e9a472556e2ae2);\n",
       "            \n",
       "        \n",
       "\n",
       "        marker_9555070f7bfa4c2ca482a70e2132bd4b.bindPopup(popup_d394fea22b3168011a8bf9d6d3bf3aa6)\n",
       "        ;\n",
       "\n",
       "        \n",
       "    \n",
       "    \n",
       "            var marker_b60f53fde2ed4e3c22202e86e38bcbc4 = L.marker(\n",
       "                [23.030074211657837, -82.40204237654218],\n",
       "                {\n",
       "}\n",
       "            ).addTo(map_8e263dfa2d2a3ab73322a420085a56cc);\n",
       "        \n",
       "    \n",
       "            var icon_dc91dad9f409160ab66bc3ec0b0749d8 = L.AwesomeMarkers.icon(\n",
       "                {\n",
       "  &quot;markerColor&quot;: &quot;red&quot;,\n",
       "  &quot;iconColor&quot;: &quot;white&quot;,\n",
       "  &quot;icon&quot;: &quot;cutlery&quot;,\n",
       "  &quot;prefix&quot;: &quot;fa&quot;,\n",
       "  &quot;extraClasses&quot;: &quot;fa-rotate-0&quot;,\n",
       "}\n",
       "            );\n",
       "            marker_b60f53fde2ed4e3c22202e86e38bcbc4.setIcon(icon_dc91dad9f409160ab66bc3ec0b0749d8);\n",
       "        \n",
       "    \n",
       "        var popup_9a12223986839cb4c1a2576b0d9863dd = L.popup({\n",
       "  &quot;maxWidth&quot;: &quot;100%&quot;,\n",
       "});\n",
       "\n",
       "        \n",
       "            \n",
       "                var html_c30cbcfcff316b93e74f8ea4597dc764 = $(`&lt;div id=&quot;html_c30cbcfcff316b93e74f8ea4597dc764&quot; style=&quot;width: 100.0%; height: 100.0%;&quot;&gt;(&quot;&lt;b style=&#x27;font-size: 18px; &#x27;&gt;Cafe Tilin&lt;/b&gt;&lt;br&gt;Dirección: Avenida Independencia Km 9 1/2, Fontanar&quot;,)&lt;/div&gt;`)[0];\n",
       "                popup_9a12223986839cb4c1a2576b0d9863dd.setContent(html_c30cbcfcff316b93e74f8ea4597dc764);\n",
       "            \n",
       "        \n",
       "\n",
       "        marker_b60f53fde2ed4e3c22202e86e38bcbc4.bindPopup(popup_9a12223986839cb4c1a2576b0d9863dd)\n",
       "        ;\n",
       "\n",
       "        \n",
       "    \n",
       "    \n",
       "            var marker_ca9dbc52e58dc55ce47dcb386aae767b = L.marker(\n",
       "                [23.10865762371607, -82.24742188465748],\n",
       "                {\n",
       "}\n",
       "            ).addTo(map_8e263dfa2d2a3ab73322a420085a56cc);\n",
       "        \n",
       "    \n",
       "            var icon_6babb8717fb01ddddab3d719743bf90c = L.AwesomeMarkers.icon(\n",
       "                {\n",
       "  &quot;markerColor&quot;: &quot;red&quot;,\n",
       "  &quot;iconColor&quot;: &quot;white&quot;,\n",
       "  &quot;icon&quot;: &quot;cutlery&quot;,\n",
       "  &quot;prefix&quot;: &quot;fa&quot;,\n",
       "  &quot;extraClasses&quot;: &quot;fa-rotate-0&quot;,\n",
       "}\n",
       "            );\n",
       "            marker_ca9dbc52e58dc55ce47dcb386aae767b.setIcon(icon_6babb8717fb01ddddab3d719743bf90c);\n",
       "        \n",
       "    \n",
       "        var popup_653ad97edc8b11f21e135ffa2af45771 = L.popup({\n",
       "  &quot;maxWidth&quot;: &quot;100%&quot;,\n",
       "});\n",
       "\n",
       "        \n",
       "            \n",
       "                var html_e4008638036cdc81350ccb0dade06166 = $(`&lt;div id=&quot;html_e4008638036cdc81350ccb0dade06166&quot; style=&quot;width: 100.0%; height: 100.0%;&quot;&gt;(&quot;&lt;b style=&#x27;font-size: 18px; &#x27;&gt;Cafe Versalles&lt;/b&gt;&lt;br&gt;Dirección: Calle Marti No.101 entre Versalles y San Antonio&quot;,)&lt;/div&gt;`)[0];\n",
       "                popup_653ad97edc8b11f21e135ffa2af45771.setContent(html_e4008638036cdc81350ccb0dade06166);\n",
       "            \n",
       "        \n",
       "\n",
       "        marker_ca9dbc52e58dc55ce47dcb386aae767b.bindPopup(popup_653ad97edc8b11f21e135ffa2af45771)\n",
       "        ;\n",
       "\n",
       "        \n",
       "    \n",
       "    \n",
       "            var marker_b55bf6712ac1a7a89d7dc0b5906ad36b = L.marker(\n",
       "                [23.117962514624928, -82.43294891647132],\n",
       "                {\n",
       "}\n",
       "            ).addTo(map_8e263dfa2d2a3ab73322a420085a56cc);\n",
       "        \n",
       "    \n",
       "            var icon_fea27d22c39a38d496fc54f7a8f4a4d9 = L.AwesomeMarkers.icon(\n",
       "                {\n",
       "  &quot;markerColor&quot;: &quot;red&quot;,\n",
       "  &quot;iconColor&quot;: &quot;white&quot;,\n",
       "  &quot;icon&quot;: &quot;cutlery&quot;,\n",
       "  &quot;prefix&quot;: &quot;fa&quot;,\n",
       "  &quot;extraClasses&quot;: &quot;fa-rotate-0&quot;,\n",
       "}\n",
       "            );\n",
       "            marker_b55bf6712ac1a7a89d7dc0b5906ad36b.setIcon(icon_fea27d22c39a38d496fc54f7a8f4a4d9);\n",
       "        \n",
       "    \n",
       "        var popup_a496364550010c0fa38d9c71060a9958 = L.popup({\n",
       "  &quot;maxWidth&quot;: &quot;100%&quot;,\n",
       "});\n",
       "\n",
       "        \n",
       "            \n",
       "                var html_d564c00379f6fc17035da232a8996385 = $(`&lt;div id=&quot;html_d564c00379f6fc17035da232a8996385&quot; style=&quot;width: 100.0%; height: 100.0%;&quot;&gt;(&quot;&lt;b style=&#x27;font-size: 18px; &#x27;&gt;Café Literario La Copa&lt;/b&gt;&lt;br&gt;Dirección:  1ra A entre 42 y 44&quot;,)&lt;/div&gt;`)[0];\n",
       "                popup_a496364550010c0fa38d9c71060a9958.setContent(html_d564c00379f6fc17035da232a8996385);\n",
       "            \n",
       "        \n",
       "\n",
       "        marker_b55bf6712ac1a7a89d7dc0b5906ad36b.bindPopup(popup_a496364550010c0fa38d9c71060a9958)\n",
       "        ;\n",
       "\n",
       "        \n",
       "    \n",
       "    \n",
       "            var marker_3e94f488757c4277c4c437174ea14439 = L.marker(\n",
       "                [23.14287158318666, -82.39913605698585],\n",
       "                {\n",
       "}\n",
       "            ).addTo(map_8e263dfa2d2a3ab73322a420085a56cc);\n",
       "        \n",
       "    \n",
       "            var icon_9c9e4c41d86361111e576b1d3b40b55f = L.AwesomeMarkers.icon(\n",
       "                {\n",
       "  &quot;markerColor&quot;: &quot;red&quot;,\n",
       "  &quot;iconColor&quot;: &quot;white&quot;,\n",
       "  &quot;icon&quot;: &quot;cutlery&quot;,\n",
       "  &quot;prefix&quot;: &quot;fa&quot;,\n",
       "  &quot;extraClasses&quot;: &quot;fa-rotate-0&quot;,\n",
       "}\n",
       "            );\n",
       "            marker_3e94f488757c4277c4c437174ea14439.setIcon(icon_9c9e4c41d86361111e576b1d3b40b55f);\n",
       "        \n",
       "    \n",
       "        var popup_627dd139f77169b53add80f57762a7e9 = L.popup({\n",
       "  &quot;maxWidth&quot;: &quot;100%&quot;,\n",
       "});\n",
       "\n",
       "        \n",
       "            \n",
       "                var html_244b2b9c97f4d819f135184f74921dc3 = $(`&lt;div id=&quot;html_244b2b9c97f4d819f135184f74921dc3&quot; style=&quot;width: 100.0%; height: 100.0%;&quot;&gt;(&quot;&lt;b style=&#x27;font-size: 18px; &#x27;&gt;Casa Mia&lt;/b&gt;&lt;br&gt;Dirección: Calle 1ra, No.103, entre C y D, Vedado&quot;,)&lt;/div&gt;`)[0];\n",
       "                popup_627dd139f77169b53add80f57762a7e9.setContent(html_244b2b9c97f4d819f135184f74921dc3);\n",
       "            \n",
       "        \n",
       "\n",
       "        marker_3e94f488757c4277c4c437174ea14439.bindPopup(popup_627dd139f77169b53add80f57762a7e9)\n",
       "        ;\n",
       "\n",
       "        \n",
       "    \n",
       "    \n",
       "            var marker_8d1ef00b16f88dad5aa4145eddc11023 = L.marker(\n",
       "                [23.140862822677907, -82.35652410537521],\n",
       "                {\n",
       "}\n",
       "            ).addTo(map_8e263dfa2d2a3ab73322a420085a56cc);\n",
       "        \n",
       "    \n",
       "            var icon_32f727a0e733358ff651344da9602959 = L.AwesomeMarkers.icon(\n",
       "                {\n",
       "  &quot;markerColor&quot;: &quot;red&quot;,\n",
       "  &quot;iconColor&quot;: &quot;white&quot;,\n",
       "  &quot;icon&quot;: &quot;cutlery&quot;,\n",
       "  &quot;prefix&quot;: &quot;fa&quot;,\n",
       "  &quot;extraClasses&quot;: &quot;fa-rotate-0&quot;,\n",
       "}\n",
       "            );\n",
       "            marker_8d1ef00b16f88dad5aa4145eddc11023.setIcon(icon_32f727a0e733358ff651344da9602959);\n",
       "        \n",
       "    \n",
       "        var popup_101b7811e7e526fd5250886291e8d242 = L.popup({\n",
       "  &quot;maxWidth&quot;: &quot;100%&quot;,\n",
       "});\n",
       "\n",
       "        \n",
       "            \n",
       "                var html_3802dd3e47d691670915dd776c280161 = $(`&lt;div id=&quot;html_3802dd3e47d691670915dd776c280161&quot; style=&quot;width: 100.0%; height: 100.0%;&quot;&gt;(&quot;&lt;b style=&#x27;font-size: 18px; &#x27;&gt;ChaChaChá&lt;/b&gt;&lt;br&gt;Dirección: Monserrate # 159 e/ Tejadillo y Chacón&quot;,)&lt;/div&gt;`)[0];\n",
       "                popup_101b7811e7e526fd5250886291e8d242.setContent(html_3802dd3e47d691670915dd776c280161);\n",
       "            \n",
       "        \n",
       "\n",
       "        marker_8d1ef00b16f88dad5aa4145eddc11023.bindPopup(popup_101b7811e7e526fd5250886291e8d242)\n",
       "        ;\n",
       "\n",
       "        \n",
       "    \n",
       "    \n",
       "            var marker_890990295a4cb53d1e8f51a480491aca = L.marker(\n",
       "                [23.13713706188433, -82.36148787289606],\n",
       "                {\n",
       "}\n",
       "            ).addTo(map_8e263dfa2d2a3ab73322a420085a56cc);\n",
       "        \n",
       "    \n",
       "            var icon_adbb566faec369210d09d4f82bfc45b4 = L.AwesomeMarkers.icon(\n",
       "                {\n",
       "  &quot;markerColor&quot;: &quot;red&quot;,\n",
       "  &quot;iconColor&quot;: &quot;white&quot;,\n",
       "  &quot;icon&quot;: &quot;cutlery&quot;,\n",
       "  &quot;prefix&quot;: &quot;fa&quot;,\n",
       "  &quot;extraClasses&quot;: &quot;fa-rotate-0&quot;,\n",
       "}\n",
       "            );\n",
       "            marker_890990295a4cb53d1e8f51a480491aca.setIcon(icon_adbb566faec369210d09d4f82bfc45b4);\n",
       "        \n",
       "    \n",
       "        var popup_094221b0e8d0577e62b8fed6bee98145 = L.popup({\n",
       "  &quot;maxWidth&quot;: &quot;100%&quot;,\n",
       "});\n",
       "\n",
       "        \n",
       "            \n",
       "                var html_4c918a6982edc473432d1d5bc9fb1099 = $(`&lt;div id=&quot;html_4c918a6982edc473432d1d5bc9fb1099&quot; style=&quot;width: 100.0%; height: 100.0%;&quot;&gt;(&quot;&lt;b style=&#x27;font-size: 18px; &#x27;&gt;Cohmar Cafe&lt;/b&gt;&lt;br&gt;Dirección: Boulevard de San Rafael, &amp; Amistad&quot;,)&lt;/div&gt;`)[0];\n",
       "                popup_094221b0e8d0577e62b8fed6bee98145.setContent(html_4c918a6982edc473432d1d5bc9fb1099);\n",
       "            \n",
       "        \n",
       "\n",
       "        marker_890990295a4cb53d1e8f51a480491aca.bindPopup(popup_094221b0e8d0577e62b8fed6bee98145)\n",
       "        ;\n",
       "\n",
       "        \n",
       "    \n",
       "    \n",
       "            var marker_ca767d2b2d8cf4e133f5c1cd1f8aa055 = L.marker(\n",
       "                [23.071073169539453, -82.43552727449875],\n",
       "                {\n",
       "}\n",
       "            ).addTo(map_8e263dfa2d2a3ab73322a420085a56cc);\n",
       "        \n",
       "    \n",
       "            var icon_8dc24c3751dea16044e925464d47a835 = L.AwesomeMarkers.icon(\n",
       "                {\n",
       "  &quot;markerColor&quot;: &quot;red&quot;,\n",
       "  &quot;iconColor&quot;: &quot;white&quot;,\n",
       "  &quot;icon&quot;: &quot;cutlery&quot;,\n",
       "  &quot;prefix&quot;: &quot;fa&quot;,\n",
       "  &quot;extraClasses&quot;: &quot;fa-rotate-0&quot;,\n",
       "}\n",
       "            );\n",
       "            marker_ca767d2b2d8cf4e133f5c1cd1f8aa055.setIcon(icon_8dc24c3751dea16044e925464d47a835);\n",
       "        \n",
       "    \n",
       "        var popup_32a1171452a43cd2d3e06832da6e0fec = L.popup({\n",
       "  &quot;maxWidth&quot;: &quot;100%&quot;,\n",
       "});\n",
       "\n",
       "        \n",
       "            \n",
       "                var html_43fa502104867ca7ebe964f3645ae18a = $(`&lt;div id=&quot;html_43fa502104867ca7ebe964f3645ae18a&quot; style=&quot;width: 100.0%; height: 100.0%;&quot;&gt;(&quot;&lt;b style=&#x27;font-size: 18px; &#x27;&gt;Colesterol 5.1&lt;/b&gt;&lt;br&gt;Dirección: Avenida 51 entre 134 y 136&quot;,)&lt;/div&gt;`)[0];\n",
       "                popup_32a1171452a43cd2d3e06832da6e0fec.setContent(html_43fa502104867ca7ebe964f3645ae18a);\n",
       "            \n",
       "        \n",
       "\n",
       "        marker_ca767d2b2d8cf4e133f5c1cd1f8aa055.bindPopup(popup_32a1171452a43cd2d3e06832da6e0fec)\n",
       "        ;\n",
       "\n",
       "        \n",
       "    \n",
       "    \n",
       "            var marker_b6338eaaa989792676166f9940018a47 = L.marker(\n",
       "                [23.13672770195526, -82.39997277634649],\n",
       "                {\n",
       "}\n",
       "            ).addTo(map_8e263dfa2d2a3ab73322a420085a56cc);\n",
       "        \n",
       "    \n",
       "            var icon_c39acddae9f5b3192ceb8ad0f347783f = L.AwesomeMarkers.icon(\n",
       "                {\n",
       "  &quot;markerColor&quot;: &quot;red&quot;,\n",
       "  &quot;iconColor&quot;: &quot;white&quot;,\n",
       "  &quot;icon&quot;: &quot;cutlery&quot;,\n",
       "  &quot;prefix&quot;: &quot;fa&quot;,\n",
       "  &quot;extraClasses&quot;: &quot;fa-rotate-0&quot;,\n",
       "}\n",
       "            );\n",
       "            marker_b6338eaaa989792676166f9940018a47.setIcon(icon_c39acddae9f5b3192ceb8ad0f347783f);\n",
       "        \n",
       "    \n",
       "        var popup_2a07f28bed1b435a1c7cf99c1e94d3ac = L.popup({\n",
       "  &quot;maxWidth&quot;: &quot;100%&quot;,\n",
       "});\n",
       "\n",
       "        \n",
       "            \n",
       "                var html_a40760b3f4757ca0f42b1ed7fcc7bd42 = $(`&lt;div id=&quot;html_a40760b3f4757ca0f42b1ed7fcc7bd42&quot; style=&quot;width: 100.0%; height: 100.0%;&quot;&gt;(&quot;&lt;b style=&#x27;font-size: 18px; &#x27;&gt;Decameron&lt;/b&gt;&lt;br&gt;Dirección: Calle LLnea entre Paseo y 2, Vedado&quot;,)&lt;/div&gt;`)[0];\n",
       "                popup_2a07f28bed1b435a1c7cf99c1e94d3ac.setContent(html_a40760b3f4757ca0f42b1ed7fcc7bd42);\n",
       "            \n",
       "        \n",
       "\n",
       "        marker_b6338eaaa989792676166f9940018a47.bindPopup(popup_2a07f28bed1b435a1c7cf99c1e94d3ac)\n",
       "        ;\n",
       "\n",
       "        \n",
       "    \n",
       "    \n",
       "            var marker_ab92a962ffcf392bbc891671b8d57448 = L.marker(\n",
       "                [23.139889002366708, -82.38110916178115],\n",
       "                {\n",
       "}\n",
       "            ).addTo(map_8e263dfa2d2a3ab73322a420085a56cc);\n",
       "        \n",
       "    \n",
       "            var icon_4dd63a0becdc6a9041744df1a1fe7b75 = L.AwesomeMarkers.icon(\n",
       "                {\n",
       "  &quot;markerColor&quot;: &quot;red&quot;,\n",
       "  &quot;iconColor&quot;: &quot;white&quot;,\n",
       "  &quot;icon&quot;: &quot;cutlery&quot;,\n",
       "  &quot;prefix&quot;: &quot;fa&quot;,\n",
       "  &quot;extraClasses&quot;: &quot;fa-rotate-0&quot;,\n",
       "}\n",
       "            );\n",
       "            marker_ab92a962ffcf392bbc891671b8d57448.setIcon(icon_4dd63a0becdc6a9041744df1a1fe7b75);\n",
       "        \n",
       "    \n",
       "        var popup_ccc5b32e7d0d6ba0cd876416ce4a2cad = L.popup({\n",
       "  &quot;maxWidth&quot;: &quot;100%&quot;,\n",
       "});\n",
       "\n",
       "        \n",
       "            \n",
       "                var html_8e6caf5e10ecbd6f74b84350d876ecd9 = $(`&lt;div id=&quot;html_8e6caf5e10ecbd6f74b84350d876ecd9&quot; style=&quot;width: 100.0%; height: 100.0%;&quot;&gt;(&quot;&lt;b style=&#x27;font-size: 18px; &#x27;&gt;Distrito 25&lt;/b&gt;&lt;br&gt;Dirección: Calle 25 entre M y N, Vedado&quot;,)&lt;/div&gt;`)[0];\n",
       "                popup_ccc5b32e7d0d6ba0cd876416ce4a2cad.setContent(html_8e6caf5e10ecbd6f74b84350d876ecd9);\n",
       "            \n",
       "        \n",
       "\n",
       "        marker_ab92a962ffcf392bbc891671b8d57448.bindPopup(popup_ccc5b32e7d0d6ba0cd876416ce4a2cad)\n",
       "        ;\n",
       "\n",
       "        \n",
       "    \n",
       "    \n",
       "            var marker_30f15789802ca67f9b6d13554749aced = L.marker(\n",
       "                [23.149840788441544, -82.3560208170218],\n",
       "                {\n",
       "}\n",
       "            ).addTo(map_8e263dfa2d2a3ab73322a420085a56cc);\n",
       "        \n",
       "    \n",
       "            var icon_dd21befd604e36144c9fdbd2d6c8be12 = L.AwesomeMarkers.icon(\n",
       "                {\n",
       "  &quot;markerColor&quot;: &quot;red&quot;,\n",
       "  &quot;iconColor&quot;: &quot;white&quot;,\n",
       "  &quot;icon&quot;: &quot;cutlery&quot;,\n",
       "  &quot;prefix&quot;: &quot;fa&quot;,\n",
       "  &quot;extraClasses&quot;: &quot;fa-rotate-0&quot;,\n",
       "}\n",
       "            );\n",
       "            marker_30f15789802ca67f9b6d13554749aced.setIcon(icon_dd21befd604e36144c9fdbd2d6c8be12);\n",
       "        \n",
       "    \n",
       "        var popup_d16aaa3cb5c2ff0155ae56413858a8fa = L.popup({\n",
       "  &quot;maxWidth&quot;: &quot;100%&quot;,\n",
       "});\n",
       "\n",
       "        \n",
       "            \n",
       "                var html_4225bf82fadd96b8ab4a5bb566f461cb = $(`&lt;div id=&quot;html_4225bf82fadd96b8ab4a5bb566f461cb&quot; style=&quot;width: 100.0%; height: 100.0%;&quot;&gt;(&quot;&lt;b style=&#x27;font-size: 18px; &#x27;&gt;Los Doce Apostoles&lt;/b&gt;&lt;br&gt;Dirección: Complejo Morro Cabana,Via Monumental&quot;,)&lt;/div&gt;`)[0];\n",
       "                popup_d16aaa3cb5c2ff0155ae56413858a8fa.setContent(html_4225bf82fadd96b8ab4a5bb566f461cb);\n",
       "            \n",
       "        \n",
       "\n",
       "        marker_30f15789802ca67f9b6d13554749aced.bindPopup(popup_d16aaa3cb5c2ff0155ae56413858a8fa)\n",
       "        ;\n",
       "\n",
       "        \n",
       "    \n",
       "    \n",
       "            var marker_3c3b54df810d7778e3a851bed9201df2 = L.marker(\n",
       "                [23.07542277636338, -82.3589195783884],\n",
       "                {\n",
       "}\n",
       "            ).addTo(map_8e263dfa2d2a3ab73322a420085a56cc);\n",
       "        \n",
       "    \n",
       "            var icon_33c56174ba969f2ed153b2c7b007f713 = L.AwesomeMarkers.icon(\n",
       "                {\n",
       "  &quot;markerColor&quot;: &quot;red&quot;,\n",
       "  &quot;iconColor&quot;: &quot;white&quot;,\n",
       "  &quot;icon&quot;: &quot;cutlery&quot;,\n",
       "  &quot;prefix&quot;: &quot;fa&quot;,\n",
       "  &quot;extraClasses&quot;: &quot;fa-rotate-0&quot;,\n",
       "}\n",
       "            );\n",
       "            marker_3c3b54df810d7778e3a851bed9201df2.setIcon(icon_33c56174ba969f2ed153b2c7b007f713);\n",
       "        \n",
       "    \n",
       "        var popup_8b8988b9b30d6f3db1683a3a066e415a = L.popup({\n",
       "  &quot;maxWidth&quot;: &quot;100%&quot;,\n",
       "});\n",
       "\n",
       "        \n",
       "            \n",
       "                var html_b19d4db147b4f7c3c78f2c2e43fe2424 = $(`&lt;div id=&quot;html_b19d4db147b4f7c3c78f2c2e43fe2424&quot; style=&quot;width: 100.0%; height: 100.0%;&quot;&gt;(&quot;&lt;b style=&#x27;font-size: 18px; &#x27;&gt;Don Burguer&lt;/b&gt;&lt;br&gt;Dirección: Calzada de 10 de Octubre, entre  Aranguren y Santa Isabel, La Palma&quot;,)&lt;/div&gt;`)[0];\n",
       "                popup_8b8988b9b30d6f3db1683a3a066e415a.setContent(html_b19d4db147b4f7c3c78f2c2e43fe2424);\n",
       "            \n",
       "        \n",
       "\n",
       "        marker_3c3b54df810d7778e3a851bed9201df2.bindPopup(popup_8b8988b9b30d6f3db1683a3a066e415a)\n",
       "        ;\n",
       "\n",
       "        \n",
       "    \n",
       "    \n",
       "            var marker_27ccca3f9e9ca280fc46e9116c3c704a = L.marker(\n",
       "                [23.133178519943957, -82.3706256209112],\n",
       "                {\n",
       "}\n",
       "            ).addTo(map_8e263dfa2d2a3ab73322a420085a56cc);\n",
       "        \n",
       "    \n",
       "            var icon_c2e475139435d52978bb424f5bd53ed3 = L.AwesomeMarkers.icon(\n",
       "                {\n",
       "  &quot;markerColor&quot;: &quot;red&quot;,\n",
       "  &quot;iconColor&quot;: &quot;white&quot;,\n",
       "  &quot;icon&quot;: &quot;cutlery&quot;,\n",
       "  &quot;prefix&quot;: &quot;fa&quot;,\n",
       "  &quot;extraClasses&quot;: &quot;fa-rotate-0&quot;,\n",
       "}\n",
       "            );\n",
       "            marker_27ccca3f9e9ca280fc46e9116c3c704a.setIcon(icon_c2e475139435d52978bb424f5bd53ed3);\n",
       "        \n",
       "    \n",
       "        var popup_4a3f2767ee407efba5fcd5a39986228f = L.popup({\n",
       "  &quot;maxWidth&quot;: &quot;100%&quot;,\n",
       "});\n",
       "\n",
       "        \n",
       "            \n",
       "                var html_3442db69c46b9849f7bb2901ac7ba756 = $(`&lt;div id=&quot;html_3442db69c46b9849f7bb2901ac7ba756&quot; style=&quot;width: 100.0%; height: 100.0%;&quot;&gt;(&quot;&lt;b style=&#x27;font-size: 18px; &#x27;&gt;Dona Alicia&lt;/b&gt;&lt;br&gt;Dirección:  Calle Reina esq, Padre Varela&quot;,)&lt;/div&gt;`)[0];\n",
       "                popup_4a3f2767ee407efba5fcd5a39986228f.setContent(html_3442db69c46b9849f7bb2901ac7ba756);\n",
       "            \n",
       "        \n",
       "\n",
       "        marker_27ccca3f9e9ca280fc46e9116c3c704a.bindPopup(popup_4a3f2767ee407efba5fcd5a39986228f)\n",
       "        ;\n",
       "\n",
       "        \n",
       "    \n",
       "    \n",
       "            var marker_66c841756f83e924fa5673a45d36287a = L.marker(\n",
       "                [23.064390060079617, -82.37574330537674],\n",
       "                {\n",
       "}\n",
       "            ).addTo(map_8e263dfa2d2a3ab73322a420085a56cc);\n",
       "        \n",
       "    \n",
       "            var icon_711d47f11c303095645b355b926ceeab = L.AwesomeMarkers.icon(\n",
       "                {\n",
       "  &quot;markerColor&quot;: &quot;red&quot;,\n",
       "  &quot;iconColor&quot;: &quot;white&quot;,\n",
       "  &quot;icon&quot;: &quot;cutlery&quot;,\n",
       "  &quot;prefix&quot;: &quot;fa&quot;,\n",
       "  &quot;extraClasses&quot;: &quot;fa-rotate-0&quot;,\n",
       "}\n",
       "            );\n",
       "            marker_66c841756f83e924fa5673a45d36287a.setIcon(icon_711d47f11c303095645b355b926ceeab);\n",
       "        \n",
       "    \n",
       "        var popup_895d8098f1fcb4b389f475f6d97b7cbc = L.popup({\n",
       "  &quot;maxWidth&quot;: &quot;100%&quot;,\n",
       "});\n",
       "\n",
       "        \n",
       "            \n",
       "                var html_3af85d576da20c37143d510a67d2502e = $(`&lt;div id=&quot;html_3af85d576da20c37143d510a67d2502e&quot; style=&quot;width: 100.0%; height: 100.0%;&quot;&gt;(&quot;&lt;b style=&#x27;font-size: 18px; &#x27;&gt;Dona Almira&lt;/b&gt;&lt;br&gt;Dirección: Calle Finlay No.979 % Avenida de Los Pinos y Fernandez de Castro&quot;,)&lt;/div&gt;`)[0];\n",
       "                popup_895d8098f1fcb4b389f475f6d97b7cbc.setContent(html_3af85d576da20c37143d510a67d2502e);\n",
       "            \n",
       "        \n",
       "\n",
       "        marker_66c841756f83e924fa5673a45d36287a.bindPopup(popup_895d8098f1fcb4b389f475f6d97b7cbc)\n",
       "        ;\n",
       "\n",
       "        \n",
       "    \n",
       "    \n",
       "            var marker_6d29cc9be41cd8ec90888104166c4664 = L.marker(\n",
       "                [23.133855871057047, -82.37691017469287],\n",
       "                {\n",
       "}\n",
       "            ).addTo(map_8e263dfa2d2a3ab73322a420085a56cc);\n",
       "        \n",
       "    \n",
       "            var icon_85de21899e5d450e5df46a63421cf264 = L.AwesomeMarkers.icon(\n",
       "                {\n",
       "  &quot;markerColor&quot;: &quot;red&quot;,\n",
       "  &quot;iconColor&quot;: &quot;white&quot;,\n",
       "  &quot;icon&quot;: &quot;cutlery&quot;,\n",
       "  &quot;prefix&quot;: &quot;fa&quot;,\n",
       "  &quot;extraClasses&quot;: &quot;fa-rotate-0&quot;,\n",
       "}\n",
       "            );\n",
       "            marker_6d29cc9be41cd8ec90888104166c4664.setIcon(icon_85de21899e5d450e5df46a63421cf264);\n",
       "        \n",
       "    \n",
       "        var popup_d41fef3fca64397dd9a44a7e7d94f3f5 = L.popup({\n",
       "  &quot;maxWidth&quot;: &quot;100%&quot;,\n",
       "});\n",
       "\n",
       "        \n",
       "            \n",
       "                var html_2a1010bee8c54e7ad919c36f3627118b = $(`&lt;div id=&quot;html_2a1010bee8c54e7ad919c36f3627118b&quot; style=&quot;width: 100.0%; height: 100.0%;&quot;&gt;(&quot;&lt;b style=&#x27;font-size: 18px; &#x27;&gt;nan&lt;/b&gt;&lt;br&gt;Dirección: Zanja entre San Francisco y Espada&quot;,)&lt;/div&gt;`)[0];\n",
       "                popup_d41fef3fca64397dd9a44a7e7d94f3f5.setContent(html_2a1010bee8c54e7ad919c36f3627118b);\n",
       "            \n",
       "        \n",
       "\n",
       "        marker_6d29cc9be41cd8ec90888104166c4664.bindPopup(popup_d41fef3fca64397dd9a44a7e7d94f3f5)\n",
       "        ;\n",
       "\n",
       "        \n",
       "    \n",
       "    \n",
       "            var marker_02d60eed34f4574960e97cc4393c3c68 = L.marker(\n",
       "                [23.13606132355121, -82.390171562352],\n",
       "                {\n",
       "}\n",
       "            ).addTo(map_8e263dfa2d2a3ab73322a420085a56cc);\n",
       "        \n",
       "    \n",
       "            var icon_9ea09c95a7ba02a1db2bb76dc09ffb82 = L.AwesomeMarkers.icon(\n",
       "                {\n",
       "  &quot;markerColor&quot;: &quot;red&quot;,\n",
       "  &quot;iconColor&quot;: &quot;white&quot;,\n",
       "  &quot;icon&quot;: &quot;cutlery&quot;,\n",
       "  &quot;prefix&quot;: &quot;fa&quot;,\n",
       "  &quot;extraClasses&quot;: &quot;fa-rotate-0&quot;,\n",
       "}\n",
       "            );\n",
       "            marker_02d60eed34f4574960e97cc4393c3c68.setIcon(icon_9ea09c95a7ba02a1db2bb76dc09ffb82);\n",
       "        \n",
       "    \n",
       "        var popup_0cac98e13c3f282b04ab8634b582331b = L.popup({\n",
       "  &quot;maxWidth&quot;: &quot;100%&quot;,\n",
       "});\n",
       "\n",
       "        \n",
       "            \n",
       "                var html_b7195380783f1e04c9bcee8d4a88af1f = $(`&lt;div id=&quot;html_b7195380783f1e04c9bcee8d4a88af1f&quot; style=&quot;width: 100.0%; height: 100.0%;&quot;&gt;(&quot;&lt;b style=&#x27;font-size: 18px; &#x27;&gt;El Balcón de Bruno y Pilar&lt;/b&gt;&lt;br&gt;Dirección: Calle 21 entre E y F, Vedado&quot;,)&lt;/div&gt;`)[0];\n",
       "                popup_0cac98e13c3f282b04ab8634b582331b.setContent(html_b7195380783f1e04c9bcee8d4a88af1f);\n",
       "            \n",
       "        \n",
       "\n",
       "        marker_02d60eed34f4574960e97cc4393c3c68.bindPopup(popup_0cac98e13c3f282b04ab8634b582331b)\n",
       "        ;\n",
       "\n",
       "        \n",
       "    \n",
       "    \n",
       "            var marker_a7dadfe6edaf6b38c4d42e47c35c60fc = L.marker(\n",
       "                [23.13092126125738, -82.4081035552695],\n",
       "                {\n",
       "}\n",
       "            ).addTo(map_8e263dfa2d2a3ab73322a420085a56cc);\n",
       "        \n",
       "    \n",
       "            var icon_09c736cceafcb8b6e5226880e3435936 = L.AwesomeMarkers.icon(\n",
       "                {\n",
       "  &quot;markerColor&quot;: &quot;red&quot;,\n",
       "  &quot;iconColor&quot;: &quot;white&quot;,\n",
       "  &quot;icon&quot;: &quot;cutlery&quot;,\n",
       "  &quot;prefix&quot;: &quot;fa&quot;,\n",
       "  &quot;extraClasses&quot;: &quot;fa-rotate-0&quot;,\n",
       "}\n",
       "            );\n",
       "            marker_a7dadfe6edaf6b38c4d42e47c35c60fc.setIcon(icon_09c736cceafcb8b6e5226880e3435936);\n",
       "        \n",
       "    \n",
       "        var popup_867302f8188a75dc67b827b44f8f8c49 = L.popup({\n",
       "  &quot;maxWidth&quot;: &quot;100%&quot;,\n",
       "});\n",
       "\n",
       "        \n",
       "            \n",
       "                var html_35127a14c8c0441144c95c5f709ef460 = $(`&lt;div id=&quot;html_35127a14c8c0441144c95c5f709ef460&quot; style=&quot;width: 100.0%; height: 100.0%;&quot;&gt;(&quot;&lt;b style=&#x27;font-size: 18px; &#x27;&gt;El bejuco&lt;/b&gt;&lt;br&gt;Dirección: Calle Línea 1206 e/ 18 y 20, Vedado&quot;,)&lt;/div&gt;`)[0];\n",
       "                popup_867302f8188a75dc67b827b44f8f8c49.setContent(html_35127a14c8c0441144c95c5f709ef460);\n",
       "            \n",
       "        \n",
       "\n",
       "        marker_a7dadfe6edaf6b38c4d42e47c35c60fc.bindPopup(popup_867302f8188a75dc67b827b44f8f8c49)\n",
       "        ;\n",
       "\n",
       "        \n",
       "    \n",
       "    \n",
       "            var marker_fa06e14ca2a3d2fa263b75b96ccd99e6 = L.marker(\n",
       "                [23.138186063729933, -82.37857239003395],\n",
       "                {\n",
       "}\n",
       "            ).addTo(map_8e263dfa2d2a3ab73322a420085a56cc);\n",
       "        \n",
       "    \n",
       "            var icon_cc25421f3920713b72e442b0a7d94866 = L.AwesomeMarkers.icon(\n",
       "                {\n",
       "  &quot;markerColor&quot;: &quot;red&quot;,\n",
       "  &quot;iconColor&quot;: &quot;white&quot;,\n",
       "  &quot;icon&quot;: &quot;cutlery&quot;,\n",
       "  &quot;prefix&quot;: &quot;fa&quot;,\n",
       "  &quot;extraClasses&quot;: &quot;fa-rotate-0&quot;,\n",
       "}\n",
       "            );\n",
       "            marker_fa06e14ca2a3d2fa263b75b96ccd99e6.setIcon(icon_cc25421f3920713b72e442b0a7d94866);\n",
       "        \n",
       "    \n",
       "        var popup_a577d4ff75866abaed6f4fd935562065 = L.popup({\n",
       "  &quot;maxWidth&quot;: &quot;100%&quot;,\n",
       "});\n",
       "\n",
       "        \n",
       "            \n",
       "                var html_d6b11b186b53d6b178cc9347d28828c8 = $(`&lt;div id=&quot;html_d6b11b186b53d6b178cc9347d28828c8&quot; style=&quot;width: 100.0%; height: 100.0%;&quot;&gt;(&quot;&lt;b style=&#x27;font-size: 18px; &#x27;&gt;El Biki&lt;/b&gt;&lt;br&gt;Dirección: Infanta entre San Lazaro y Concordia&quot;,)&lt;/div&gt;`)[0];\n",
       "                popup_a577d4ff75866abaed6f4fd935562065.setContent(html_d6b11b186b53d6b178cc9347d28828c8);\n",
       "            \n",
       "        \n",
       "\n",
       "        marker_fa06e14ca2a3d2fa263b75b96ccd99e6.bindPopup(popup_a577d4ff75866abaed6f4fd935562065)\n",
       "        ;\n",
       "\n",
       "        \n",
       "    \n",
       "    \n",
       "            var marker_64ce34c2359bd52b720a1a32cfc66f6b = L.marker(\n",
       "                [23.12735682638094, -82.40996375436582],\n",
       "                {\n",
       "}\n",
       "            ).addTo(map_8e263dfa2d2a3ab73322a420085a56cc);\n",
       "        \n",
       "    \n",
       "            var icon_fe7817e16e330b763b2e548783cd8229 = L.AwesomeMarkers.icon(\n",
       "                {\n",
       "  &quot;markerColor&quot;: &quot;red&quot;,\n",
       "  &quot;iconColor&quot;: &quot;white&quot;,\n",
       "  &quot;icon&quot;: &quot;cutlery&quot;,\n",
       "  &quot;prefix&quot;: &quot;fa&quot;,\n",
       "  &quot;extraClasses&quot;: &quot;fa-rotate-0&quot;,\n",
       "}\n",
       "            );\n",
       "            marker_64ce34c2359bd52b720a1a32cfc66f6b.setIcon(icon_fe7817e16e330b763b2e548783cd8229);\n",
       "        \n",
       "    \n",
       "        var popup_530e2ea93f2a6d01c7402b6d35288b4f = L.popup({\n",
       "  &quot;maxWidth&quot;: &quot;100%&quot;,\n",
       "});\n",
       "\n",
       "        \n",
       "            \n",
       "                var html_bd721158fa4de032c1ea07dd5b9233ba = $(`&lt;div id=&quot;html_bd721158fa4de032c1ea07dd5b9233ba&quot; style=&quot;width: 100.0%; height: 100.0%;&quot;&gt;(&quot;&lt;b style=&#x27;font-size: 18px; &#x27;&gt;El cocinero&lt;/b&gt;&lt;br&gt;Dirección: Calle 26 #57 entre 11 y 13, Vedado&quot;,)&lt;/div&gt;`)[0];\n",
       "                popup_530e2ea93f2a6d01c7402b6d35288b4f.setContent(html_bd721158fa4de032c1ea07dd5b9233ba);\n",
       "            \n",
       "        \n",
       "\n",
       "        marker_64ce34c2359bd52b720a1a32cfc66f6b.bindPopup(popup_530e2ea93f2a6d01c7402b6d35288b4f)\n",
       "        ;\n",
       "\n",
       "        \n",
       "    \n",
       "    \n",
       "            var marker_34fe1a496e65519ea837a26f7d04a510 = L.marker(\n",
       "                [23.044405916184044, -82.24840719111886],\n",
       "                {\n",
       "}\n",
       "            ).addTo(map_8e263dfa2d2a3ab73322a420085a56cc);\n",
       "        \n",
       "    \n",
       "            var icon_eb940ec9ead58456f09e58cb49492d9a = L.AwesomeMarkers.icon(\n",
       "                {\n",
       "  &quot;markerColor&quot;: &quot;red&quot;,\n",
       "  &quot;iconColor&quot;: &quot;white&quot;,\n",
       "  &quot;icon&quot;: &quot;cutlery&quot;,\n",
       "  &quot;prefix&quot;: &quot;fa&quot;,\n",
       "  &quot;extraClasses&quot;: &quot;fa-rotate-0&quot;,\n",
       "}\n",
       "            );\n",
       "            marker_34fe1a496e65519ea837a26f7d04a510.setIcon(icon_eb940ec9ead58456f09e58cb49492d9a);\n",
       "        \n",
       "    \n",
       "        var popup_3e3adb147f4ce480327c03280aa43962 = L.popup({\n",
       "  &quot;maxWidth&quot;: &quot;100%&quot;,\n",
       "});\n",
       "\n",
       "        \n",
       "            \n",
       "                var html_5537bca605491a8db772ab8056c93f39 = $(`&lt;div id=&quot;html_5537bca605491a8db772ab8056c93f39&quot; style=&quot;width: 100.0%; height: 100.0%;&quot;&gt;(&quot;&lt;b style=&#x27;font-size: 18px; &#x27;&gt;El Desafio&lt;/b&gt;&lt;br&gt;Dirección: calle 58 número 6712 % 67 y 69&quot;,)&lt;/div&gt;`)[0];\n",
       "                popup_3e3adb147f4ce480327c03280aa43962.setContent(html_5537bca605491a8db772ab8056c93f39);\n",
       "            \n",
       "        \n",
       "\n",
       "        marker_34fe1a496e65519ea837a26f7d04a510.bindPopup(popup_3e3adb147f4ce480327c03280aa43962)\n",
       "        ;\n",
       "\n",
       "        \n",
       "    \n",
       "    \n",
       "            var marker_8adffc2c83ec44d5e2e5b7673b5732a3 = L.marker(\n",
       "                [23.124197583024838, -82.40414784293249],\n",
       "                {\n",
       "}\n",
       "            ).addTo(map_8e263dfa2d2a3ab73322a420085a56cc);\n",
       "        \n",
       "    \n",
       "            var icon_9f784720d53ecc069e4089c3d6144d0f = L.AwesomeMarkers.icon(\n",
       "                {\n",
       "  &quot;markerColor&quot;: &quot;red&quot;,\n",
       "  &quot;iconColor&quot;: &quot;white&quot;,\n",
       "  &quot;icon&quot;: &quot;cutlery&quot;,\n",
       "  &quot;prefix&quot;: &quot;fa&quot;,\n",
       "  &quot;extraClasses&quot;: &quot;fa-rotate-0&quot;,\n",
       "}\n",
       "            );\n",
       "            marker_8adffc2c83ec44d5e2e5b7673b5732a3.setIcon(icon_9f784720d53ecc069e4089c3d6144d0f);\n",
       "        \n",
       "    \n",
       "        var popup_1f124d0f53532b64de9fd5e563581191 = L.popup({\n",
       "  &quot;maxWidth&quot;: &quot;100%&quot;,\n",
       "});\n",
       "\n",
       "        \n",
       "            \n",
       "                var html_8280f8d437c9c3b4e0e73be72f88e6be = $(`&lt;div id=&quot;html_8280f8d437c9c3b4e0e73be72f88e6be&quot; style=&quot;width: 100.0%; height: 100.0%;&quot;&gt;(&quot;&lt;b style=&#x27;font-size: 18px; &#x27;&gt;El Farallon&lt;/b&gt;&lt;br&gt;Dirección: Calle 22 #361, esq. 23, Vedado&quot;,)&lt;/div&gt;`)[0];\n",
       "                popup_1f124d0f53532b64de9fd5e563581191.setContent(html_8280f8d437c9c3b4e0e73be72f88e6be);\n",
       "            \n",
       "        \n",
       "\n",
       "        marker_8adffc2c83ec44d5e2e5b7673b5732a3.bindPopup(popup_1f124d0f53532b64de9fd5e563581191)\n",
       "        ;\n",
       "\n",
       "        \n",
       "    \n",
       "    \n",
       "            var marker_ae23cf730689abb08d4aa424374a9ed7 = L.marker(\n",
       "                [23.13993930039699, -82.39045883912888],\n",
       "                {\n",
       "}\n",
       "            ).addTo(map_8e263dfa2d2a3ab73322a420085a56cc);\n",
       "        \n",
       "    \n",
       "            var icon_bd90099a2e891451ae28bbe31afe37ed = L.AwesomeMarkers.icon(\n",
       "                {\n",
       "  &quot;markerColor&quot;: &quot;red&quot;,\n",
       "  &quot;iconColor&quot;: &quot;white&quot;,\n",
       "  &quot;icon&quot;: &quot;cutlery&quot;,\n",
       "  &quot;prefix&quot;: &quot;fa&quot;,\n",
       "  &quot;extraClasses&quot;: &quot;fa-rotate-0&quot;,\n",
       "}\n",
       "            );\n",
       "            marker_ae23cf730689abb08d4aa424374a9ed7.setIcon(icon_bd90099a2e891451ae28bbe31afe37ed);\n",
       "        \n",
       "    \n",
       "        var popup_747c1c1a13a205b4b2a9bd862e44ea8c = L.popup({\n",
       "  &quot;maxWidth&quot;: &quot;100%&quot;,\n",
       "});\n",
       "\n",
       "        \n",
       "            \n",
       "                var html_090a9e834a812857b344cfd8c9f56939 = $(`&lt;div id=&quot;html_090a9e834a812857b344cfd8c9f56939&quot; style=&quot;width: 100.0%; height: 100.0%;&quot;&gt;(&quot;&lt;b style=&#x27;font-size: 18px; &#x27;&gt;El Idilio&lt;/b&gt;&lt;br&gt;Dirección: Calle G esquina 15, Vedado&quot;,)&lt;/div&gt;`)[0];\n",
       "                popup_747c1c1a13a205b4b2a9bd862e44ea8c.setContent(html_090a9e834a812857b344cfd8c9f56939);\n",
       "            \n",
       "        \n",
       "\n",
       "        marker_ae23cf730689abb08d4aa424374a9ed7.bindPopup(popup_747c1c1a13a205b4b2a9bd862e44ea8c)\n",
       "        ;\n",
       "\n",
       "        \n",
       "    \n",
       "    \n",
       "            var marker_fdfea329b5e93cebf9acb87d830c736b = L.marker(\n",
       "                [23.08621062775345, -82.46251984696866],\n",
       "                {\n",
       "}\n",
       "            ).addTo(map_8e263dfa2d2a3ab73322a420085a56cc);\n",
       "        \n",
       "    \n",
       "            var icon_534f24d6603aebfbc10b72f666480bf6 = L.AwesomeMarkers.icon(\n",
       "                {\n",
       "  &quot;markerColor&quot;: &quot;red&quot;,\n",
       "  &quot;iconColor&quot;: &quot;white&quot;,\n",
       "  &quot;icon&quot;: &quot;cutlery&quot;,\n",
       "  &quot;prefix&quot;: &quot;fa&quot;,\n",
       "  &quot;extraClasses&quot;: &quot;fa-rotate-0&quot;,\n",
       "}\n",
       "            );\n",
       "            marker_fdfea329b5e93cebf9acb87d830c736b.setIcon(icon_534f24d6603aebfbc10b72f666480bf6);\n",
       "        \n",
       "    \n",
       "        var popup_c6f4a53f0171ccd3d878f62d9f08a7e0 = L.popup({\n",
       "  &quot;maxWidth&quot;: &quot;100%&quot;,\n",
       "});\n",
       "\n",
       "        \n",
       "            \n",
       "                var html_df044a81e8f787c0135fcfa37cc2b7d2 = $(`&lt;div id=&quot;html_df044a81e8f787c0135fcfa37cc2b7d2&quot; style=&quot;width: 100.0%; height: 100.0%;&quot;&gt;(&quot;&lt;b style=&#x27;font-size: 18px; &#x27;&gt;El Palenque&lt;/b&gt;&lt;br&gt;Dirección: Calle 17 esquina a190&quot;,)&lt;/div&gt;`)[0];\n",
       "                popup_c6f4a53f0171ccd3d878f62d9f08a7e0.setContent(html_df044a81e8f787c0135fcfa37cc2b7d2);\n",
       "            \n",
       "        \n",
       "\n",
       "        marker_fdfea329b5e93cebf9acb87d830c736b.bindPopup(popup_c6f4a53f0171ccd3d878f62d9f08a7e0)\n",
       "        ;\n",
       "\n",
       "        \n",
       "    \n",
       "    \n",
       "            var marker_ce447373acce41fb668ceebd079388b3 = L.marker(\n",
       "                [23.16199568264451, -82.29712225037608],\n",
       "                {\n",
       "}\n",
       "            ).addTo(map_8e263dfa2d2a3ab73322a420085a56cc);\n",
       "        \n",
       "    \n",
       "            var icon_53555a0f6ab4b09e727c1bc2b8862e7a = L.AwesomeMarkers.icon(\n",
       "                {\n",
       "  &quot;markerColor&quot;: &quot;red&quot;,\n",
       "  &quot;iconColor&quot;: &quot;white&quot;,\n",
       "  &quot;icon&quot;: &quot;cutlery&quot;,\n",
       "  &quot;prefix&quot;: &quot;fa&quot;,\n",
       "  &quot;extraClasses&quot;: &quot;fa-rotate-0&quot;,\n",
       "}\n",
       "            );\n",
       "            marker_ce447373acce41fb668ceebd079388b3.setIcon(icon_53555a0f6ab4b09e727c1bc2b8862e7a);\n",
       "        \n",
       "    \n",
       "        var popup_21ee5e69bff0927ec930d134d86c8b53 = L.popup({\n",
       "  &quot;maxWidth&quot;: &quot;100%&quot;,\n",
       "});\n",
       "\n",
       "        \n",
       "            \n",
       "                var html_93ffcaf62e04c1889b36976b85d83e8f = $(`&lt;div id=&quot;html_93ffcaf62e04c1889b36976b85d83e8f&quot; style=&quot;width: 100.0%; height: 100.0%;&quot;&gt;(&quot;&lt;b style=&#x27;font-size: 18px; &#x27;&gt;El Ajiaco&lt;/b&gt;&lt;br&gt;Dirección: Esquina de calle Los Pinos y Cuba, Cojimar&quot;,)&lt;/div&gt;`)[0];\n",
       "                popup_21ee5e69bff0927ec930d134d86c8b53.setContent(html_93ffcaf62e04c1889b36976b85d83e8f);\n",
       "            \n",
       "        \n",
       "\n",
       "        marker_ce447373acce41fb668ceebd079388b3.bindPopup(popup_21ee5e69bff0927ec930d134d86c8b53)\n",
       "        ;\n",
       "\n",
       "        \n",
       "    \n",
       "    \n",
       "            var marker_40d45a990d6e9c3e5aabcc2af4653e68 = L.marker(\n",
       "                [23.136615265811344, -82.3550049035281],\n",
       "                {\n",
       "}\n",
       "            ).addTo(map_8e263dfa2d2a3ab73322a420085a56cc);\n",
       "        \n",
       "    \n",
       "            var icon_c550b36a5d332770692302aa8508e7c3 = L.AwesomeMarkers.icon(\n",
       "                {\n",
       "  &quot;markerColor&quot;: &quot;red&quot;,\n",
       "  &quot;iconColor&quot;: &quot;white&quot;,\n",
       "  &quot;icon&quot;: &quot;cutlery&quot;,\n",
       "  &quot;prefix&quot;: &quot;fa&quot;,\n",
       "  &quot;extraClasses&quot;: &quot;fa-rotate-0&quot;,\n",
       "}\n",
       "            );\n",
       "            marker_40d45a990d6e9c3e5aabcc2af4653e68.setIcon(icon_c550b36a5d332770692302aa8508e7c3);\n",
       "        \n",
       "    \n",
       "        var popup_340849113ab1059e7c3cdb3b6e92b2fa = L.popup({\n",
       "  &quot;maxWidth&quot;: &quot;100%&quot;,\n",
       "});\n",
       "\n",
       "        \n",
       "            \n",
       "                var html_e060eb5b878ae5cb7ef70dd332ef6ba2 = $(`&lt;div id=&quot;html_e060eb5b878ae5cb7ef70dd332ef6ba2&quot; style=&quot;width: 100.0%; height: 100.0%;&quot;&gt;(&quot;&lt;b style=&#x27;font-size: 18px; &#x27;&gt;El Cafe&lt;/b&gt;&lt;br&gt;Dirección: #358, Calle La Amargura&quot;,)&lt;/div&gt;`)[0];\n",
       "                popup_340849113ab1059e7c3cdb3b6e92b2fa.setContent(html_e060eb5b878ae5cb7ef70dd332ef6ba2);\n",
       "            \n",
       "        \n",
       "\n",
       "        marker_40d45a990d6e9c3e5aabcc2af4653e68.bindPopup(popup_340849113ab1059e7c3cdb3b6e92b2fa)\n",
       "        ;\n",
       "\n",
       "        \n",
       "    \n",
       "    \n",
       "            var marker_f61f6838d90de9ca3f3739f9cd325d4c = L.marker(\n",
       "                [23.15787610279017, -82.27621448261955],\n",
       "                {\n",
       "}\n",
       "            ).addTo(map_8e263dfa2d2a3ab73322a420085a56cc);\n",
       "        \n",
       "    \n",
       "            var icon_899c56d33382b7c29ed4d297fcdc4a96 = L.AwesomeMarkers.icon(\n",
       "                {\n",
       "  &quot;markerColor&quot;: &quot;red&quot;,\n",
       "  &quot;iconColor&quot;: &quot;white&quot;,\n",
       "  &quot;icon&quot;: &quot;cutlery&quot;,\n",
       "  &quot;prefix&quot;: &quot;fa&quot;,\n",
       "  &quot;extraClasses&quot;: &quot;fa-rotate-0&quot;,\n",
       "}\n",
       "            );\n",
       "            marker_f61f6838d90de9ca3f3739f9cd325d4c.setIcon(icon_899c56d33382b7c29ed4d297fcdc4a96);\n",
       "        \n",
       "    \n",
       "        var popup_3770096c3693fd98582bf5d406d5d067 = L.popup({\n",
       "  &quot;maxWidth&quot;: &quot;100%&quot;,\n",
       "});\n",
       "\n",
       "        \n",
       "            \n",
       "                var html_fc3657729bde129b56c52a8b2f1864ad = $(`&lt;div id=&quot;html_fc3657729bde129b56c52a8b2f1864ad&quot; style=&quot;width: 100.0%; height: 100.0%;&quot;&gt;(&quot;&lt;b style=&#x27;font-size: 18px; &#x27;&gt;El Chanchullero&lt;/b&gt;&lt;br&gt;Dirección: #162D entre Calle 5G y Calle 162, zona 6, Alamar&quot;,)&lt;/div&gt;`)[0];\n",
       "                popup_3770096c3693fd98582bf5d406d5d067.setContent(html_fc3657729bde129b56c52a8b2f1864ad);\n",
       "            \n",
       "        \n",
       "\n",
       "        marker_f61f6838d90de9ca3f3739f9cd325d4c.bindPopup(popup_3770096c3693fd98582bf5d406d5d067)\n",
       "        ;\n",
       "\n",
       "        \n",
       "    \n",
       "    \n",
       "            var marker_5fd588e23c4732ce7f6be74cbca19c0d = L.marker(\n",
       "                [23.047476858961144, -82.25535277368648],\n",
       "                {\n",
       "}\n",
       "            ).addTo(map_8e263dfa2d2a3ab73322a420085a56cc);\n",
       "        \n",
       "    \n",
       "            var icon_66d68ba1e1c923e0c5df27b919f274dd = L.AwesomeMarkers.icon(\n",
       "                {\n",
       "  &quot;markerColor&quot;: &quot;red&quot;,\n",
       "  &quot;iconColor&quot;: &quot;white&quot;,\n",
       "  &quot;icon&quot;: &quot;cutlery&quot;,\n",
       "  &quot;prefix&quot;: &quot;fa&quot;,\n",
       "  &quot;extraClasses&quot;: &quot;fa-rotate-0&quot;,\n",
       "}\n",
       "            );\n",
       "            marker_5fd588e23c4732ce7f6be74cbca19c0d.setIcon(icon_66d68ba1e1c923e0c5df27b919f274dd);\n",
       "        \n",
       "    \n",
       "        var popup_21944e538d90cf3e74c2bf383e12099e = L.popup({\n",
       "  &quot;maxWidth&quot;: &quot;100%&quot;,\n",
       "});\n",
       "\n",
       "        \n",
       "            \n",
       "                var html_f2989a2776bf3af376908c2037d71e2d = $(`&lt;div id=&quot;html_f2989a2776bf3af376908c2037d71e2d&quot; style=&quot;width: 100.0%; height: 100.0%;&quot;&gt;(&quot;&lt;b style=&#x27;font-size: 18px; &#x27;&gt;El Cocal&lt;/b&gt;&lt;br&gt;Dirección: Lindero No 426A entre 38a y 44 roto modelo, Loteria&quot;,)&lt;/div&gt;`)[0];\n",
       "                popup_21944e538d90cf3e74c2bf383e12099e.setContent(html_f2989a2776bf3af376908c2037d71e2d);\n",
       "            \n",
       "        \n",
       "\n",
       "        marker_5fd588e23c4732ce7f6be74cbca19c0d.bindPopup(popup_21944e538d90cf3e74c2bf383e12099e)\n",
       "        ;\n",
       "\n",
       "        \n",
       "    \n",
       "    \n",
       "            var marker_52921021df5e6ca323f19fbed3f4bf43 = L.marker(\n",
       "                [23.126407014136845, -82.30453202678505],\n",
       "                {\n",
       "}\n",
       "            ).addTo(map_8e263dfa2d2a3ab73322a420085a56cc);\n",
       "        \n",
       "    \n",
       "            var icon_fc1067d03b34e8cb09ce44480d0abe66 = L.AwesomeMarkers.icon(\n",
       "                {\n",
       "  &quot;markerColor&quot;: &quot;red&quot;,\n",
       "  &quot;iconColor&quot;: &quot;white&quot;,\n",
       "  &quot;icon&quot;: &quot;cutlery&quot;,\n",
       "  &quot;prefix&quot;: &quot;fa&quot;,\n",
       "  &quot;extraClasses&quot;: &quot;fa-rotate-0&quot;,\n",
       "}\n",
       "            );\n",
       "            marker_52921021df5e6ca323f19fbed3f4bf43.setIcon(icon_fc1067d03b34e8cb09ce44480d0abe66);\n",
       "        \n",
       "    \n",
       "        var popup_c3cdd66cb032130867eb3b81208b9c67 = L.popup({\n",
       "  &quot;maxWidth&quot;: &quot;100%&quot;,\n",
       "});\n",
       "\n",
       "        \n",
       "            \n",
       "                var html_407217c019fefb078f797a428ff8b5f7 = $(`&lt;div id=&quot;html_407217c019fefb078f797a428ff8b5f7&quot; style=&quot;width: 100.0%; height: 100.0%;&quot;&gt;(&quot;&lt;b style=&#x27;font-size: 18px; &#x27;&gt;El Faro&lt;/b&gt;&lt;br&gt;Dirección: Maximo Gomez y Pepe Antonio&quot;,)&lt;/div&gt;`)[0];\n",
       "                popup_c3cdd66cb032130867eb3b81208b9c67.setContent(html_407217c019fefb078f797a428ff8b5f7);\n",
       "            \n",
       "        \n",
       "\n",
       "        marker_52921021df5e6ca323f19fbed3f4bf43.bindPopup(popup_c3cdd66cb032130867eb3b81208b9c67)\n",
       "        ;\n",
       "\n",
       "        \n",
       "    \n",
       "    \n",
       "            var marker_4802b42dcbceae973fb78b94c60a55ca = L.marker(\n",
       "                [23.133855118338467, -82.36151465263812],\n",
       "                {\n",
       "}\n",
       "            ).addTo(map_8e263dfa2d2a3ab73322a420085a56cc);\n",
       "        \n",
       "    \n",
       "            var icon_650c920c82049c8c742ca65e7310563f = L.AwesomeMarkers.icon(\n",
       "                {\n",
       "  &quot;markerColor&quot;: &quot;red&quot;,\n",
       "  &quot;iconColor&quot;: &quot;white&quot;,\n",
       "  &quot;icon&quot;: &quot;cutlery&quot;,\n",
       "  &quot;prefix&quot;: &quot;fa&quot;,\n",
       "  &quot;extraClasses&quot;: &quot;fa-rotate-0&quot;,\n",
       "}\n",
       "            );\n",
       "            marker_4802b42dcbceae973fb78b94c60a55ca.setIcon(icon_650c920c82049c8c742ca65e7310563f);\n",
       "        \n",
       "    \n",
       "        var popup_997698649b5afcb179a9aab6825686c9 = L.popup({\n",
       "  &quot;maxWidth&quot;: &quot;100%&quot;,\n",
       "});\n",
       "\n",
       "        \n",
       "            \n",
       "                var html_5050f85e859935d453fe0eb96fa69063 = $(`&lt;div id=&quot;html_5050f85e859935d453fe0eb96fa69063&quot; style=&quot;width: 100.0%; height: 100.0%;&quot;&gt;(&quot;&lt;b style=&#x27;font-size: 18px; &#x27;&gt;El portico&lt;/b&gt;&lt;br&gt;Dirección: Dragones entre Aguila y C.Amistad&quot;,)&lt;/div&gt;`)[0];\n",
       "                popup_997698649b5afcb179a9aab6825686c9.setContent(html_5050f85e859935d453fe0eb96fa69063);\n",
       "            \n",
       "        \n",
       "\n",
       "        marker_4802b42dcbceae973fb78b94c60a55ca.bindPopup(popup_997698649b5afcb179a9aab6825686c9)\n",
       "        ;\n",
       "\n",
       "        \n",
       "    \n",
       "    \n",
       "            var marker_8b13cf83f340ee286f18b98a2e3dd183 = L.marker(\n",
       "                [22.974102520824335, -82.39241663601986],\n",
       "                {\n",
       "}\n",
       "            ).addTo(map_8e263dfa2d2a3ab73322a420085a56cc);\n",
       "        \n",
       "    \n",
       "            var icon_312fa1eb4aeb35815a602337f24d90c5 = L.AwesomeMarkers.icon(\n",
       "                {\n",
       "  &quot;markerColor&quot;: &quot;red&quot;,\n",
       "  &quot;iconColor&quot;: &quot;white&quot;,\n",
       "  &quot;icon&quot;: &quot;cutlery&quot;,\n",
       "  &quot;prefix&quot;: &quot;fa&quot;,\n",
       "  &quot;extraClasses&quot;: &quot;fa-rotate-0&quot;,\n",
       "}\n",
       "            );\n",
       "            marker_8b13cf83f340ee286f18b98a2e3dd183.setIcon(icon_312fa1eb4aeb35815a602337f24d90c5);\n",
       "        \n",
       "    \n",
       "        var popup_8cc928f57f02f1099fd74aaebb7fa099 = L.popup({\n",
       "  &quot;maxWidth&quot;: &quot;100%&quot;,\n",
       "});\n",
       "\n",
       "        \n",
       "            \n",
       "                var html_05c42259dbe7e540032569d247a0c13b = $(`&lt;div id=&quot;html_05c42259dbe7e540032569d247a0c13b&quot; style=&quot;width: 100.0%; height: 100.0%;&quot;&gt;(&quot;&lt;b style=&#x27;font-size: 18px; &#x27;&gt;Ranchon El Pinareño&lt;/b&gt;&lt;br&gt;Dirección: Calle 16 % Calle 9 &amp; Calle 7, Santiago de las Vegas&quot;,)&lt;/div&gt;`)[0];\n",
       "                popup_8cc928f57f02f1099fd74aaebb7fa099.setContent(html_05c42259dbe7e540032569d247a0c13b);\n",
       "            \n",
       "        \n",
       "\n",
       "        marker_8b13cf83f340ee286f18b98a2e3dd183.bindPopup(popup_8cc928f57f02f1099fd74aaebb7fa099)\n",
       "        ;\n",
       "\n",
       "        \n",
       "    \n",
       "    \n",
       "            var marker_ff00703993988a96acbcdbe6f9d5dbea = L.marker(\n",
       "                [23.137849066647398, -82.355948790034],\n",
       "                {\n",
       "}\n",
       "            ).addTo(map_8e263dfa2d2a3ab73322a420085a56cc);\n",
       "        \n",
       "    \n",
       "            var icon_93fcbea6ba00c28115d0334bacd7033a = L.AwesomeMarkers.icon(\n",
       "                {\n",
       "  &quot;markerColor&quot;: &quot;red&quot;,\n",
       "  &quot;iconColor&quot;: &quot;white&quot;,\n",
       "  &quot;icon&quot;: &quot;cutlery&quot;,\n",
       "  &quot;prefix&quot;: &quot;fa&quot;,\n",
       "  &quot;extraClasses&quot;: &quot;fa-rotate-0&quot;,\n",
       "}\n",
       "            );\n",
       "            marker_ff00703993988a96acbcdbe6f9d5dbea.setIcon(icon_93fcbea6ba00c28115d0334bacd7033a);\n",
       "        \n",
       "    \n",
       "        var popup_736734dafa703c5656473777ce66ad33 = L.popup({\n",
       "  &quot;maxWidth&quot;: &quot;100%&quot;,\n",
       "});\n",
       "\n",
       "        \n",
       "            \n",
       "                var html_883eb2b2c2cfe2f67b5c16615a8105d9 = $(`&lt;div id=&quot;html_883eb2b2c2cfe2f67b5c16615a8105d9&quot; style=&quot;width: 100.0%; height: 100.0%;&quot;&gt;(&quot;&lt;b style=&#x27;font-size: 18px; &#x27;&gt;El Rincon De Las Letras&lt;/b&gt;&lt;br&gt;Dirección: Calle Villegas #206 entre Obispo y Obrapia&quot;,)&lt;/div&gt;`)[0];\n",
       "                popup_736734dafa703c5656473777ce66ad33.setContent(html_883eb2b2c2cfe2f67b5c16615a8105d9);\n",
       "            \n",
       "        \n",
       "\n",
       "        marker_ff00703993988a96acbcdbe6f9d5dbea.bindPopup(popup_736734dafa703c5656473777ce66ad33)\n",
       "        ;\n",
       "\n",
       "        \n",
       "    \n",
       "    \n",
       "            var marker_3003da9d245f2cda5180b258aa15e370 = L.marker(\n",
       "                [22.97148510128245, -82.38594063725743],\n",
       "                {\n",
       "}\n",
       "            ).addTo(map_8e263dfa2d2a3ab73322a420085a56cc);\n",
       "        \n",
       "    \n",
       "            var icon_9be857e66b86c5e9b63c40ee12216ef2 = L.AwesomeMarkers.icon(\n",
       "                {\n",
       "  &quot;markerColor&quot;: &quot;red&quot;,\n",
       "  &quot;iconColor&quot;: &quot;white&quot;,\n",
       "  &quot;icon&quot;: &quot;cutlery&quot;,\n",
       "  &quot;prefix&quot;: &quot;fa&quot;,\n",
       "  &quot;extraClasses&quot;: &quot;fa-rotate-0&quot;,\n",
       "}\n",
       "            );\n",
       "            marker_3003da9d245f2cda5180b258aa15e370.setIcon(icon_9be857e66b86c5e9b63c40ee12216ef2);\n",
       "        \n",
       "    \n",
       "        var popup_fe90747df0106720e3b45386f8dd0723 = L.popup({\n",
       "  &quot;maxWidth&quot;: &quot;100%&quot;,\n",
       "});\n",
       "\n",
       "        \n",
       "            \n",
       "                var html_356770a6144c6543dad15b4bcb431d0b = $(`&lt;div id=&quot;html_356770a6144c6543dad15b4bcb431d0b&quot; style=&quot;width: 100.0%; height: 100.0%;&quot;&gt;(&quot;&lt;b style=&#x27;font-size: 18px; &#x27;&gt;El Sauce&lt;/b&gt;&lt;br&gt;Dirección: Calle 403 % 180 &amp; 184, Santiago de las Vegas&quot;,)&lt;/div&gt;`)[0];\n",
       "                popup_fe90747df0106720e3b45386f8dd0723.setContent(html_356770a6144c6543dad15b4bcb431d0b);\n",
       "            \n",
       "        \n",
       "\n",
       "        marker_3003da9d245f2cda5180b258aa15e370.bindPopup(popup_fe90747df0106720e3b45386f8dd0723)\n",
       "        ;\n",
       "\n",
       "        \n",
       "    \n",
       "    \n",
       "            var marker_2ce173e0bc2902aee01dd444a9ac7fdd = L.marker(\n",
       "                [23.124717648812492, -82.42132107449743],\n",
       "                {\n",
       "}\n",
       "            ).addTo(map_8e263dfa2d2a3ab73322a420085a56cc);\n",
       "        \n",
       "    \n",
       "            var icon_bee7a05e683162704bfa318157cd6f2e = L.AwesomeMarkers.icon(\n",
       "                {\n",
       "  &quot;markerColor&quot;: &quot;red&quot;,\n",
       "  &quot;iconColor&quot;: &quot;white&quot;,\n",
       "  &quot;icon&quot;: &quot;cutlery&quot;,\n",
       "  &quot;prefix&quot;: &quot;fa&quot;,\n",
       "  &quot;extraClasses&quot;: &quot;fa-rotate-0&quot;,\n",
       "}\n",
       "            );\n",
       "            marker_2ce173e0bc2902aee01dd444a9ac7fdd.setIcon(icon_bee7a05e683162704bfa318157cd6f2e);\n",
       "        \n",
       "    \n",
       "        var popup_9bb7b8d968d61dc73c066fc10e030a6f = L.popup({\n",
       "  &quot;maxWidth&quot;: &quot;100%&quot;,\n",
       "});\n",
       "\n",
       "        \n",
       "            \n",
       "                var html_871ee92486490e04a0b9275ea78a1ece = $(`&lt;div id=&quot;html_871ee92486490e04a0b9275ea78a1ece&quot; style=&quot;width: 100.0%; height: 100.0%;&quot;&gt;(&quot;&lt;b style=&#x27;font-size: 18px; &#x27;&gt;El Tocororo&lt;/b&gt;&lt;br&gt;Dirección: Calle 18 entre 3ra y 5ta&quot;,)&lt;/div&gt;`)[0];\n",
       "                popup_9bb7b8d968d61dc73c066fc10e030a6f.setContent(html_871ee92486490e04a0b9275ea78a1ece);\n",
       "            \n",
       "        \n",
       "\n",
       "        marker_2ce173e0bc2902aee01dd444a9ac7fdd.bindPopup(popup_9bb7b8d968d61dc73c066fc10e030a6f)\n",
       "        ;\n",
       "\n",
       "        \n",
       "    \n",
       "    \n",
       "            var marker_0d7e377536aae0f6143f732ca3671783 = L.marker(\n",
       "                [23.074424846570963, -82.3584506328705],\n",
       "                {\n",
       "}\n",
       "            ).addTo(map_8e263dfa2d2a3ab73322a420085a56cc);\n",
       "        \n",
       "    \n",
       "            var icon_b1aff9bd1de597fe10b03c52306d64ae = L.AwesomeMarkers.icon(\n",
       "                {\n",
       "  &quot;markerColor&quot;: &quot;red&quot;,\n",
       "  &quot;iconColor&quot;: &quot;white&quot;,\n",
       "  &quot;icon&quot;: &quot;cutlery&quot;,\n",
       "  &quot;prefix&quot;: &quot;fa&quot;,\n",
       "  &quot;extraClasses&quot;: &quot;fa-rotate-0&quot;,\n",
       "}\n",
       "            );\n",
       "            marker_0d7e377536aae0f6143f732ca3671783.setIcon(icon_b1aff9bd1de597fe10b03c52306d64ae);\n",
       "        \n",
       "    \n",
       "        var popup_b6ddeb4a2d296fa1d75b649960f2c539 = L.popup({\n",
       "  &quot;maxWidth&quot;: &quot;100%&quot;,\n",
       "});\n",
       "\n",
       "        \n",
       "            \n",
       "                var html_363ef6755d6a8339c1d8272192cbec4e = $(`&lt;div id=&quot;html_363ef6755d6a8339c1d8272192cbec4e&quot; style=&quot;width: 100.0%; height: 100.0%;&quot;&gt;(&quot;&lt;b style=&#x27;font-size: 18px; &#x27;&gt;El Triangulo&lt;/b&gt;&lt;br&gt;Dirección: Esquina Calzada de 10 de octubre y Calzada de Porvenir, La Palma&quot;,)&lt;/div&gt;`)[0];\n",
       "                popup_b6ddeb4a2d296fa1d75b649960f2c539.setContent(html_363ef6755d6a8339c1d8272192cbec4e);\n",
       "            \n",
       "        \n",
       "\n",
       "        marker_0d7e377536aae0f6143f732ca3671783.bindPopup(popup_b6ddeb4a2d296fa1d75b649960f2c539)\n",
       "        ;\n",
       "\n",
       "        \n",
       "    \n",
       "    \n",
       "            var marker_83916c9d4b67589791f0d00255d90737 = L.marker(\n",
       "                [23.142395650866476, -82.39855515318168],\n",
       "                {\n",
       "}\n",
       "            ).addTo(map_8e263dfa2d2a3ab73322a420085a56cc);\n",
       "        \n",
       "    \n",
       "            var icon_1c87237ff8beb54eaeb00610e84334dc = L.AwesomeMarkers.icon(\n",
       "                {\n",
       "  &quot;markerColor&quot;: &quot;red&quot;,\n",
       "  &quot;iconColor&quot;: &quot;white&quot;,\n",
       "  &quot;icon&quot;: &quot;cutlery&quot;,\n",
       "  &quot;prefix&quot;: &quot;fa&quot;,\n",
       "  &quot;extraClasses&quot;: &quot;fa-rotate-0&quot;,\n",
       "}\n",
       "            );\n",
       "            marker_83916c9d4b67589791f0d00255d90737.setIcon(icon_1c87237ff8beb54eaeb00610e84334dc);\n",
       "        \n",
       "    \n",
       "        var popup_8672e492bb19b669e9d0b47db25c5aee = L.popup({\n",
       "  &quot;maxWidth&quot;: &quot;100%&quot;,\n",
       "});\n",
       "\n",
       "        \n",
       "            \n",
       "                var html_ffeefe7703e1ffdd31096f04297a3afc = $(`&lt;div id=&quot;html_ffeefe7703e1ffdd31096f04297a3afc&quot; style=&quot;width: 100.0%; height: 100.0%;&quot;&gt;(&quot;&lt;b style=&#x27;font-size: 18px; &#x27;&gt;Esquina D-Fraile &lt;/b&gt;&lt;br&gt;Dirección: Calle D entre 1era y 3era, Vedado.&quot;,)&lt;/div&gt;`)[0];\n",
       "                popup_8672e492bb19b669e9d0b47db25c5aee.setContent(html_ffeefe7703e1ffdd31096f04297a3afc);\n",
       "            \n",
       "        \n",
       "\n",
       "        marker_83916c9d4b67589791f0d00255d90737.bindPopup(popup_8672e492bb19b669e9d0b47db25c5aee)\n",
       "        ;\n",
       "\n",
       "        \n",
       "    \n",
       "    \n",
       "            var marker_8c783a910e2d350a8a3edd7dac7b56f1 = L.marker(\n",
       "                [23.140776125926624, -82.3517849151747],\n",
       "                {\n",
       "}\n",
       "            ).addTo(map_8e263dfa2d2a3ab73322a420085a56cc);\n",
       "        \n",
       "    \n",
       "            var icon_16a50fcddebc2ca89c0c3bb915ccd8ed = L.AwesomeMarkers.icon(\n",
       "                {\n",
       "  &quot;markerColor&quot;: &quot;red&quot;,\n",
       "  &quot;iconColor&quot;: &quot;white&quot;,\n",
       "  &quot;icon&quot;: &quot;cutlery&quot;,\n",
       "  &quot;prefix&quot;: &quot;fa&quot;,\n",
       "  &quot;extraClasses&quot;: &quot;fa-rotate-0&quot;,\n",
       "}\n",
       "            );\n",
       "            marker_8c783a910e2d350a8a3edd7dac7b56f1.setIcon(icon_16a50fcddebc2ca89c0c3bb915ccd8ed);\n",
       "        \n",
       "    \n",
       "        var popup_68234819787992ad1033d1a0c31e6ddb = L.popup({\n",
       "  &quot;maxWidth&quot;: &quot;100%&quot;,\n",
       "});\n",
       "\n",
       "        \n",
       "            \n",
       "                var html_aae7cc2cb212cb3eaeab5f6eb5a7fde4 = $(`&lt;div id=&quot;html_aae7cc2cb212cb3eaeab5f6eb5a7fde4&quot; style=&quot;width: 100.0%; height: 100.0%;&quot;&gt;(&quot;&lt;b style=&#x27;font-size: 18px; &#x27;&gt;Esto No Es Un Cafe&lt;/b&gt;&lt;br&gt;Dirección: Calle Ignacio #58-A entre OReilly y Empedrado, Callejón del Chorro, Plaza de la Catedral&quot;,)&lt;/div&gt;`)[0];\n",
       "                popup_68234819787992ad1033d1a0c31e6ddb.setContent(html_aae7cc2cb212cb3eaeab5f6eb5a7fde4);\n",
       "            \n",
       "        \n",
       "\n",
       "        marker_8c783a910e2d350a8a3edd7dac7b56f1.bindPopup(popup_68234819787992ad1033d1a0c31e6ddb)\n",
       "        ;\n",
       "\n",
       "        \n",
       "    \n",
       "    \n",
       "            var marker_4f55bd210b720319190f40889be4ebcd = L.marker(\n",
       "                [23.11995071306764, -82.41835419828072],\n",
       "                {\n",
       "}\n",
       "            ).addTo(map_8e263dfa2d2a3ab73322a420085a56cc);\n",
       "        \n",
       "    \n",
       "            var icon_07ab68b0395cdeebd31907c71c890920 = L.AwesomeMarkers.icon(\n",
       "                {\n",
       "  &quot;markerColor&quot;: &quot;red&quot;,\n",
       "  &quot;iconColor&quot;: &quot;white&quot;,\n",
       "  &quot;icon&quot;: &quot;cutlery&quot;,\n",
       "  &quot;prefix&quot;: &quot;fa&quot;,\n",
       "  &quot;extraClasses&quot;: &quot;fa-rotate-0&quot;,\n",
       "}\n",
       "            );\n",
       "            marker_4f55bd210b720319190f40889be4ebcd.setIcon(icon_07ab68b0395cdeebd31907c71c890920);\n",
       "        \n",
       "    \n",
       "        var popup_6fc26e6d081954af1f0e2166abd34cd3 = L.popup({\n",
       "  &quot;maxWidth&quot;: &quot;100%&quot;,\n",
       "});\n",
       "\n",
       "        \n",
       "            \n",
       "                var html_629116dcf5b712d44fee17f7759f848b = $(`&lt;div id=&quot;html_629116dcf5b712d44fee17f7759f848b&quot; style=&quot;width: 100.0%; height: 100.0%;&quot;&gt;(&quot;&lt;b style=&#x27;font-size: 18px; &#x27;&gt;Fellini&lt;/b&gt;&lt;br&gt;Dirección: Calle 20 entre 9na y 7ma&quot;,)&lt;/div&gt;`)[0];\n",
       "                popup_6fc26e6d081954af1f0e2166abd34cd3.setContent(html_629116dcf5b712d44fee17f7759f848b);\n",
       "            \n",
       "        \n",
       "\n",
       "        marker_4f55bd210b720319190f40889be4ebcd.bindPopup(popup_6fc26e6d081954af1f0e2166abd34cd3)\n",
       "        ;\n",
       "\n",
       "        \n",
       "    \n",
       "    \n",
       "            var marker_a9c7d939d804f810eb290fab36574039 = L.marker(\n",
       "                [23.04594907869068, -82.37133353203541],\n",
       "                {\n",
       "}\n",
       "            ).addTo(map_8e263dfa2d2a3ab73322a420085a56cc);\n",
       "        \n",
       "    \n",
       "            var icon_8a1519d327437a2fad9cf8f78e448010 = L.AwesomeMarkers.icon(\n",
       "                {\n",
       "  &quot;markerColor&quot;: &quot;red&quot;,\n",
       "  &quot;iconColor&quot;: &quot;white&quot;,\n",
       "  &quot;icon&quot;: &quot;cutlery&quot;,\n",
       "  &quot;prefix&quot;: &quot;fa&quot;,\n",
       "  &quot;extraClasses&quot;: &quot;fa-rotate-0&quot;,\n",
       "}\n",
       "            );\n",
       "            marker_a9c7d939d804f810eb290fab36574039.setIcon(icon_8a1519d327437a2fad9cf8f78e448010);\n",
       "        \n",
       "    \n",
       "        var popup_ab0331477bf27a93cc82cefe59150624 = L.popup({\n",
       "  &quot;maxWidth&quot;: &quot;100%&quot;,\n",
       "});\n",
       "\n",
       "        \n",
       "            \n",
       "                var html_a2a5b24c7926261d21dfdb53e50418de = $(`&lt;div id=&quot;html_a2a5b24c7926261d21dfdb53e50418de&quot; style=&quot;width: 100.0%; height: 100.0%;&quot;&gt;(&quot;&lt;b style=&#x27;font-size: 18px; &#x27;&gt;Fiesta Criolla&lt;/b&gt;&lt;br&gt;Dirección: Calle 100 #1003 (después del puente de calabazar), Arroyo Naranjo&quot;,)&lt;/div&gt;`)[0];\n",
       "                popup_ab0331477bf27a93cc82cefe59150624.setContent(html_a2a5b24c7926261d21dfdb53e50418de);\n",
       "            \n",
       "        \n",
       "\n",
       "        marker_a9c7d939d804f810eb290fab36574039.bindPopup(popup_ab0331477bf27a93cc82cefe59150624)\n",
       "        ;\n",
       "\n",
       "        \n",
       "    \n",
       "    \n",
       "            var marker_8378588118cfef286e240e79d7e8c52d = L.marker(\n",
       "                [23.01940199162402, -82.4892786916919],\n",
       "                {\n",
       "}\n",
       "            ).addTo(map_8e263dfa2d2a3ab73322a420085a56cc);\n",
       "        \n",
       "    \n",
       "            var icon_520c245e54e4dcbea42eecbadfd6013f = L.AwesomeMarkers.icon(\n",
       "                {\n",
       "  &quot;markerColor&quot;: &quot;red&quot;,\n",
       "  &quot;iconColor&quot;: &quot;white&quot;,\n",
       "  &quot;icon&quot;: &quot;cutlery&quot;,\n",
       "  &quot;prefix&quot;: &quot;fa&quot;,\n",
       "  &quot;extraClasses&quot;: &quot;fa-rotate-0&quot;,\n",
       "}\n",
       "            );\n",
       "            marker_8378588118cfef286e240e79d7e8c52d.setIcon(icon_520c245e54e4dcbea42eecbadfd6013f);\n",
       "        \n",
       "    \n",
       "        var popup_4dbbf6934e37cfd5566d86be270e17d0 = L.popup({\n",
       "  &quot;maxWidth&quot;: &quot;100%&quot;,\n",
       "});\n",
       "\n",
       "        \n",
       "            \n",
       "                var html_753f0a5aa9052342d7f5bbfe1a02a579 = $(`&lt;div id=&quot;html_753f0a5aa9052342d7f5bbfe1a02a579&quot; style=&quot;width: 100.0%; height: 100.0%;&quot;&gt;(&quot;&lt;b style=&#x27;font-size: 18px; &#x27;&gt;Finca La Pinta&lt;/b&gt;&lt;br&gt;Dirección:  Avenida 251 N.2409 entre 20 y 28&quot;,)&lt;/div&gt;`)[0];\n",
       "                popup_4dbbf6934e37cfd5566d86be270e17d0.setContent(html_753f0a5aa9052342d7f5bbfe1a02a579);\n",
       "            \n",
       "        \n",
       "\n",
       "        marker_8378588118cfef286e240e79d7e8c52d.bindPopup(popup_4dbbf6934e37cfd5566d86be270e17d0)\n",
       "        ;\n",
       "\n",
       "        \n",
       "    \n",
       "    \n",
       "            var marker_3f5602a469058b511b88e5229edd708e = L.marker(\n",
       "                [23.136041318926157, -82.36214978250345],\n",
       "                {\n",
       "}\n",
       "            ).addTo(map_8e263dfa2d2a3ab73322a420085a56cc);\n",
       "        \n",
       "    \n",
       "            var icon_04c7ba617b63e3d9fea88dff0e35297d = L.AwesomeMarkers.icon(\n",
       "                {\n",
       "  &quot;markerColor&quot;: &quot;red&quot;,\n",
       "  &quot;iconColor&quot;: &quot;white&quot;,\n",
       "  &quot;icon&quot;: &quot;cutlery&quot;,\n",
       "  &quot;prefix&quot;: &quot;fa&quot;,\n",
       "  &quot;extraClasses&quot;: &quot;fa-rotate-0&quot;,\n",
       "}\n",
       "            );\n",
       "            marker_3f5602a469058b511b88e5229edd708e.setIcon(icon_04c7ba617b63e3d9fea88dff0e35297d);\n",
       "        \n",
       "    \n",
       "        var popup_2df7a054350c6e7a4c8473d23f9b1981 = L.popup({\n",
       "  &quot;maxWidth&quot;: &quot;100%&quot;,\n",
       "});\n",
       "\n",
       "        \n",
       "            \n",
       "                var html_82af29d61b824b929c694504bcb6343b = $(`&lt;div id=&quot;html_82af29d61b824b929c694504bcb6343b&quot; style=&quot;width: 100.0%; height: 100.0%;&quot;&gt;(&quot;&lt;b style=&#x27;font-size: 18px; &#x27;&gt;Fin de Siglo&lt;/b&gt;&lt;br&gt;Dirección: Esquina Aguila y San Martin&quot;,)&lt;/div&gt;`)[0];\n",
       "                popup_2df7a054350c6e7a4c8473d23f9b1981.setContent(html_82af29d61b824b929c694504bcb6343b);\n",
       "            \n",
       "        \n",
       "\n",
       "        marker_3f5602a469058b511b88e5229edd708e.bindPopup(popup_2df7a054350c6e7a4c8473d23f9b1981)\n",
       "        ;\n",
       "\n",
       "        \n",
       "    \n",
       "    \n",
       "            var marker_9bb6f9b7d7840a8d5d2efea4be9a4061 = L.marker(\n",
       "                [23.140492623277456, -82.35174687469267],\n",
       "                {\n",
       "}\n",
       "            ).addTo(map_8e263dfa2d2a3ab73322a420085a56cc);\n",
       "        \n",
       "    \n",
       "            var icon_03b92bf9f0cff978ab0305d83f24a83a = L.AwesomeMarkers.icon(\n",
       "                {\n",
       "  &quot;markerColor&quot;: &quot;red&quot;,\n",
       "  &quot;iconColor&quot;: &quot;white&quot;,\n",
       "  &quot;icon&quot;: &quot;cutlery&quot;,\n",
       "  &quot;prefix&quot;: &quot;fa&quot;,\n",
       "  &quot;extraClasses&quot;: &quot;fa-rotate-0&quot;,\n",
       "}\n",
       "            );\n",
       "            marker_9bb6f9b7d7840a8d5d2efea4be9a4061.setIcon(icon_03b92bf9f0cff978ab0305d83f24a83a);\n",
       "        \n",
       "    \n",
       "        var popup_fe722cb546e6890f8043ec4ce737f029 = L.popup({\n",
       "  &quot;maxWidth&quot;: &quot;100%&quot;,\n",
       "});\n",
       "\n",
       "        \n",
       "            \n",
       "                var html_74ff59f497f3c6f97e33862c8f120b76 = $(`&lt;div id=&quot;html_74ff59f497f3c6f97e33862c8f120b76&quot; style=&quot;width: 100.0%; height: 100.0%;&quot;&gt;(&quot;&lt;b style=&#x27;font-size: 18px; &#x27;&gt;Fonda Al Pirata&lt;/b&gt;&lt;br&gt;Dirección: San Ignacio #76 e/ O&#x27;Reilly y Empedrado&quot;,)&lt;/div&gt;`)[0];\n",
       "                popup_fe722cb546e6890f8043ec4ce737f029.setContent(html_74ff59f497f3c6f97e33862c8f120b76);\n",
       "            \n",
       "        \n",
       "\n",
       "        marker_9bb6f9b7d7840a8d5d2efea4be9a4061.bindPopup(popup_fe722cb546e6890f8043ec4ce737f029)\n",
       "        ;\n",
       "\n",
       "        \n",
       "    \n",
       "    \n",
       "            var marker_cb4bf4acae71518a130fe89f60df973e = L.marker(\n",
       "                [23.108876604302726, -82.440550925563],\n",
       "                {\n",
       "}\n",
       "            ).addTo(map_8e263dfa2d2a3ab73322a420085a56cc);\n",
       "        \n",
       "    \n",
       "            var icon_323d749147e3ca9ed5efddfc4cbd92ea = L.AwesomeMarkers.icon(\n",
       "                {\n",
       "  &quot;markerColor&quot;: &quot;red&quot;,\n",
       "  &quot;iconColor&quot;: &quot;white&quot;,\n",
       "  &quot;icon&quot;: &quot;cutlery&quot;,\n",
       "  &quot;prefix&quot;: &quot;fa&quot;,\n",
       "  &quot;extraClasses&quot;: &quot;fa-rotate-0&quot;,\n",
       "}\n",
       "            );\n",
       "            marker_cb4bf4acae71518a130fe89f60df973e.setIcon(icon_323d749147e3ca9ed5efddfc4cbd92ea);\n",
       "        \n",
       "    \n",
       "        var popup_5220eb82d19417846df918c85b65d965 = L.popup({\n",
       "  &quot;maxWidth&quot;: &quot;100%&quot;,\n",
       "});\n",
       "\n",
       "        \n",
       "            \n",
       "                var html_110d9955fd8d860636f7a253872314b4 = $(`&lt;div id=&quot;html_110d9955fd8d860636f7a253872314b4&quot; style=&quot;width: 100.0%; height: 100.0%;&quot;&gt;(&quot;&lt;b style=&#x27;font-size: 18px; &#x27;&gt;FoodTruck Pelegrin&lt;/b&gt;&lt;br&gt;Dirección:  Miramar Trade Center, Centro de Negocios&quot;,)&lt;/div&gt;`)[0];\n",
       "                popup_5220eb82d19417846df918c85b65d965.setContent(html_110d9955fd8d860636f7a253872314b4);\n",
       "            \n",
       "        \n",
       "\n",
       "        marker_cb4bf4acae71518a130fe89f60df973e.bindPopup(popup_5220eb82d19417846df918c85b65d965)\n",
       "        ;\n",
       "\n",
       "        \n",
       "    \n",
       "    \n",
       "            var marker_ea7639c2a18f8708107168e678e55540 = L.marker(\n",
       "                [23.108117348063423, -82.4341893999906],\n",
       "                {\n",
       "}\n",
       "            ).addTo(map_8e263dfa2d2a3ab73322a420085a56cc);\n",
       "        \n",
       "    \n",
       "            var icon_7fb2fdcb1195ad22b7c65e16ed989ac1 = L.AwesomeMarkers.icon(\n",
       "                {\n",
       "  &quot;markerColor&quot;: &quot;red&quot;,\n",
       "  &quot;iconColor&quot;: &quot;white&quot;,\n",
       "  &quot;icon&quot;: &quot;cutlery&quot;,\n",
       "  &quot;prefix&quot;: &quot;fa&quot;,\n",
       "  &quot;extraClasses&quot;: &quot;fa-rotate-0&quot;,\n",
       "}\n",
       "            );\n",
       "            marker_ea7639c2a18f8708107168e678e55540.setIcon(icon_7fb2fdcb1195ad22b7c65e16ed989ac1);\n",
       "        \n",
       "    \n",
       "        var popup_0437f197f6242f338f17233f4ca856dd = L.popup({\n",
       "  &quot;maxWidth&quot;: &quot;100%&quot;,\n",
       "});\n",
       "\n",
       "        \n",
       "            \n",
       "                var html_35b20da2970f9f4de99af97898bbf47b = $(`&lt;div id=&quot;html_35b20da2970f9f4de99af97898bbf47b&quot; style=&quot;width: 100.0%; height: 100.0%;&quot;&gt;(&quot;&lt;b style=&#x27;font-size: 18px; &#x27;&gt;FoodMaster&lt;/b&gt;&lt;br&gt;Dirección: 7 A&quot;,)&lt;/div&gt;`)[0];\n",
       "                popup_0437f197f6242f338f17233f4ca856dd.setContent(html_35b20da2970f9f4de99af97898bbf47b);\n",
       "            \n",
       "        \n",
       "\n",
       "        marker_ea7639c2a18f8708107168e678e55540.bindPopup(popup_0437f197f6242f338f17233f4ca856dd)\n",
       "        ;\n",
       "\n",
       "        \n",
       "    \n",
       "    \n",
       "            var marker_86d9a3fc6f1a2fff4474816971863796 = L.marker(\n",
       "                [23.12209228452483, -82.40512312898908],\n",
       "                {\n",
       "}\n",
       "            ).addTo(map_8e263dfa2d2a3ab73322a420085a56cc);\n",
       "        \n",
       "    \n",
       "            var icon_e30e83ab1747b57f8bd966733d3c196c = L.AwesomeMarkers.icon(\n",
       "                {\n",
       "  &quot;markerColor&quot;: &quot;red&quot;,\n",
       "  &quot;iconColor&quot;: &quot;white&quot;,\n",
       "  &quot;icon&quot;: &quot;cutlery&quot;,\n",
       "  &quot;prefix&quot;: &quot;fa&quot;,\n",
       "  &quot;extraClasses&quot;: &quot;fa-rotate-0&quot;,\n",
       "}\n",
       "            );\n",
       "            marker_86d9a3fc6f1a2fff4474816971863796.setIcon(icon_e30e83ab1747b57f8bd966733d3c196c);\n",
       "        \n",
       "    \n",
       "        var popup_445445ecb173264a9eccc5bff36c3d37 = L.popup({\n",
       "  &quot;maxWidth&quot;: &quot;100%&quot;,\n",
       "});\n",
       "\n",
       "        \n",
       "            \n",
       "                var html_7980230dc07a810a64b4ae6d6d9e09b5 = $(`&lt;div id=&quot;html_7980230dc07a810a64b4ae6d6d9e09b5&quot; style=&quot;width: 100.0%; height: 100.0%;&quot;&gt;(&quot;&lt;b style=&#x27;font-size: 18px; &#x27;&gt;Fumiyaki&lt;/b&gt;&lt;br&gt;Dirección: Ave 26, No 367 ,entre calle 23 y calle 25, Vedado&quot;,)&lt;/div&gt;`)[0];\n",
       "                popup_445445ecb173264a9eccc5bff36c3d37.setContent(html_7980230dc07a810a64b4ae6d6d9e09b5);\n",
       "            \n",
       "        \n",
       "\n",
       "        marker_86d9a3fc6f1a2fff4474816971863796.bindPopup(popup_445445ecb173264a9eccc5bff36c3d37)\n",
       "        ;\n",
       "\n",
       "        \n",
       "    \n",
       "    \n",
       "            var marker_569288ae2fe594252dfe5bbc14b38a8f = L.marker(\n",
       "                [23.135893503982505, -82.36265785250283],\n",
       "                {\n",
       "}\n",
       "            ).addTo(map_8e263dfa2d2a3ab73322a420085a56cc);\n",
       "        \n",
       "    \n",
       "            var icon_91ce91a6b19be39f866ec07599a226f4 = L.AwesomeMarkers.icon(\n",
       "                {\n",
       "  &quot;markerColor&quot;: &quot;red&quot;,\n",
       "  &quot;iconColor&quot;: &quot;white&quot;,\n",
       "  &quot;icon&quot;: &quot;cutlery&quot;,\n",
       "  &quot;prefix&quot;: &quot;fa&quot;,\n",
       "  &quot;extraClasses&quot;: &quot;fa-rotate-0&quot;,\n",
       "}\n",
       "            );\n",
       "            marker_569288ae2fe594252dfe5bbc14b38a8f.setIcon(icon_91ce91a6b19be39f866ec07599a226f4);\n",
       "        \n",
       "    \n",
       "        var popup_0899ea465af658ce1152e77e7d648dc1 = L.popup({\n",
       "  &quot;maxWidth&quot;: &quot;100%&quot;,\n",
       "});\n",
       "\n",
       "        \n",
       "            \n",
       "                var html_aa012b8252baab507a44f7e13d5c8eeb = $(`&lt;div id=&quot;html_aa012b8252baab507a44f7e13d5c8eeb&quot; style=&quot;width: 100.0%; height: 100.0%;&quot;&gt;(&quot;&lt;b style=&#x27;font-size: 18px; &#x27;&gt;Galy Cafe&lt;/b&gt;&lt;br&gt;Dirección: San Martin entre Galeano y Aguila&quot;,)&lt;/div&gt;`)[0];\n",
       "                popup_0899ea465af658ce1152e77e7d648dc1.setContent(html_aa012b8252baab507a44f7e13d5c8eeb);\n",
       "            \n",
       "        \n",
       "\n",
       "        marker_569288ae2fe594252dfe5bbc14b38a8f.bindPopup(popup_0899ea465af658ce1152e77e7d648dc1)\n",
       "        ;\n",
       "\n",
       "        \n",
       "    \n",
       "    \n",
       "            var marker_d7a0afa16695c3a808d2d17f7c886963 = L.marker(\n",
       "                [23.14374457538385, -82.35553752883533],\n",
       "                {\n",
       "}\n",
       "            ).addTo(map_8e263dfa2d2a3ab73322a420085a56cc);\n",
       "        \n",
       "    \n",
       "            var icon_46b536f4ea427c515714a5ff5741fe30 = L.AwesomeMarkers.icon(\n",
       "                {\n",
       "  &quot;markerColor&quot;: &quot;red&quot;,\n",
       "  &quot;iconColor&quot;: &quot;white&quot;,\n",
       "  &quot;icon&quot;: &quot;cutlery&quot;,\n",
       "  &quot;prefix&quot;: &quot;fa&quot;,\n",
       "  &quot;extraClasses&quot;: &quot;fa-rotate-0&quot;,\n",
       "}\n",
       "            );\n",
       "            marker_d7a0afa16695c3a808d2d17f7c886963.setIcon(icon_46b536f4ea427c515714a5ff5741fe30);\n",
       "        \n",
       "    \n",
       "        var popup_3bd4c7359e744f1c67f11b4f03537b56 = L.popup({\n",
       "  &quot;maxWidth&quot;: &quot;100%&quot;,\n",
       "});\n",
       "\n",
       "        \n",
       "            \n",
       "                var html_5566ab4ebf614b4fc07ba2000645b9a1 = $(`&lt;div id=&quot;html_5566ab4ebf614b4fc07ba2000645b9a1&quot; style=&quot;width: 100.0%; height: 100.0%;&quot;&gt;(&quot;&lt;b style=&#x27;font-size: 18px; &#x27;&gt;Habana 5 Rooftop&lt;/b&gt;&lt;br&gt;Dirección: Calle Habana entre Pena Pobre y Av. Belgica&quot;,)&lt;/div&gt;`)[0];\n",
       "                popup_3bd4c7359e744f1c67f11b4f03537b56.setContent(html_5566ab4ebf614b4fc07ba2000645b9a1);\n",
       "            \n",
       "        \n",
       "\n",
       "        marker_d7a0afa16695c3a808d2d17f7c886963.bindPopup(popup_3bd4c7359e744f1c67f11b4f03537b56)\n",
       "        ;\n",
       "\n",
       "        \n",
       "    \n",
       "    \n",
       "            var marker_729263ba8efb65bab955760374658cfe = L.marker(\n",
       "                [23.142484323536937, -82.35509901886921],\n",
       "                {\n",
       "}\n",
       "            ).addTo(map_8e263dfa2d2a3ab73322a420085a56cc);\n",
       "        \n",
       "    \n",
       "            var icon_efa00d6a27209ef1d5820af391083f78 = L.AwesomeMarkers.icon(\n",
       "                {\n",
       "  &quot;markerColor&quot;: &quot;red&quot;,\n",
       "  &quot;iconColor&quot;: &quot;white&quot;,\n",
       "  &quot;icon&quot;: &quot;cutlery&quot;,\n",
       "  &quot;prefix&quot;: &quot;fa&quot;,\n",
       "  &quot;extraClasses&quot;: &quot;fa-rotate-0&quot;,\n",
       "}\n",
       "            );\n",
       "            marker_729263ba8efb65bab955760374658cfe.setIcon(icon_efa00d6a27209ef1d5820af391083f78);\n",
       "        \n",
       "    \n",
       "        var popup_2d9dd3b31696bd35fe911430ce8d4d16 = L.popup({\n",
       "  &quot;maxWidth&quot;: &quot;100%&quot;,\n",
       "});\n",
       "\n",
       "        \n",
       "            \n",
       "                var html_fa02d1d7c869795f4fae9d86379bf76a = $(`&lt;div id=&quot;html_fa02d1d7c869795f4fae9d86379bf76a&quot; style=&quot;width: 100.0%; height: 100.0%;&quot;&gt;(&quot;&lt;b style=&#x27;font-size: 18px; &#x27;&gt;Habana 61&lt;/b&gt;&lt;br&gt;Dirección: Calle Habana #61 entre Peña Pobre y Cuarteles&quot;,)&lt;/div&gt;`)[0];\n",
       "                popup_2d9dd3b31696bd35fe911430ce8d4d16.setContent(html_fa02d1d7c869795f4fae9d86379bf76a);\n",
       "            \n",
       "        \n",
       "\n",
       "        marker_729263ba8efb65bab955760374658cfe.bindPopup(popup_2d9dd3b31696bd35fe911430ce8d4d16)\n",
       "        ;\n",
       "\n",
       "        \n",
       "    \n",
       "    \n",
       "            var marker_de4875f9b6512805c46ce6b00cbee9b8 = L.marker(\n",
       "                [23.13923764561611, -82.3885387467372],\n",
       "                {\n",
       "}\n",
       "            ).addTo(map_8e263dfa2d2a3ab73322a420085a56cc);\n",
       "        \n",
       "    \n",
       "            var icon_47e287e0daba7bffc94bec287c4dc35d = L.AwesomeMarkers.icon(\n",
       "                {\n",
       "  &quot;markerColor&quot;: &quot;red&quot;,\n",
       "  &quot;iconColor&quot;: &quot;white&quot;,\n",
       "  &quot;icon&quot;: &quot;cutlery&quot;,\n",
       "  &quot;prefix&quot;: &quot;fa&quot;,\n",
       "  &quot;extraClasses&quot;: &quot;fa-rotate-0&quot;,\n",
       "}\n",
       "            );\n",
       "            marker_de4875f9b6512805c46ce6b00cbee9b8.setIcon(icon_47e287e0daba7bffc94bec287c4dc35d);\n",
       "        \n",
       "    \n",
       "        var popup_ae2eba29a91d88a3d792a386d03d5a4c = L.popup({\n",
       "  &quot;maxWidth&quot;: &quot;100%&quot;,\n",
       "});\n",
       "\n",
       "        \n",
       "            \n",
       "                var html_bca7ba37cbb4e3f3874923bc0d95723a = $(`&lt;div id=&quot;html_bca7ba37cbb4e3f3874923bc0d95723a&quot; style=&quot;width: 100.0%; height: 100.0%;&quot;&gt;(&quot;&lt;b style=&#x27;font-size: 18px; &#x27;&gt;Habana Blues&lt;/b&gt;&lt;br&gt;Dirección: Calle H no. 405 entre 17 y 19, Vedado&quot;,)&lt;/div&gt;`)[0];\n",
       "                popup_ae2eba29a91d88a3d792a386d03d5a4c.setContent(html_bca7ba37cbb4e3f3874923bc0d95723a);\n",
       "            \n",
       "        \n",
       "\n",
       "        marker_de4875f9b6512805c46ce6b00cbee9b8.bindPopup(popup_ae2eba29a91d88a3d792a386d03d5a4c)\n",
       "        ;\n",
       "\n",
       "        \n",
       "    \n",
       "    \n",
       "            var marker_cb5d4a93e13e67e8a6a15965e94b6ab0 = L.marker(\n",
       "                [23.137436298849373, -82.3563168151748],\n",
       "                {\n",
       "}\n",
       "            ).addTo(map_8e263dfa2d2a3ab73322a420085a56cc);\n",
       "        \n",
       "    \n",
       "            var icon_4fd78adf2fa2e7c6dd66450b9c693167 = L.AwesomeMarkers.icon(\n",
       "                {\n",
       "  &quot;markerColor&quot;: &quot;red&quot;,\n",
       "  &quot;iconColor&quot;: &quot;white&quot;,\n",
       "  &quot;icon&quot;: &quot;cutlery&quot;,\n",
       "  &quot;prefix&quot;: &quot;fa&quot;,\n",
       "  &quot;extraClasses&quot;: &quot;fa-rotate-0&quot;,\n",
       "}\n",
       "            );\n",
       "            marker_cb5d4a93e13e67e8a6a15965e94b6ab0.setIcon(icon_4fd78adf2fa2e7c6dd66450b9c693167);\n",
       "        \n",
       "    \n",
       "        var popup_92217cfde4662eae578d779effd30b59 = L.popup({\n",
       "  &quot;maxWidth&quot;: &quot;100%&quot;,\n",
       "});\n",
       "\n",
       "        \n",
       "            \n",
       "                var html_29f6c525d1de60892e593399ae2c425e = $(`&lt;div id=&quot;html_29f6c525d1de60892e593399ae2c425e&quot; style=&quot;width: 100.0%; height: 100.0%;&quot;&gt;(&quot;&lt;b style=&#x27;font-size: 18px; &#x27;&gt;Habana Tokio&lt;/b&gt;&lt;br&gt;Dirección: Calle Obrapía entre Bernaza y Villegas&quot;,)&lt;/div&gt;`)[0];\n",
       "                popup_92217cfde4662eae578d779effd30b59.setContent(html_29f6c525d1de60892e593399ae2c425e);\n",
       "            \n",
       "        \n",
       "\n",
       "        marker_cb5d4a93e13e67e8a6a15965e94b6ab0.bindPopup(popup_92217cfde4662eae578d779effd30b59)\n",
       "        ;\n",
       "\n",
       "        \n",
       "    \n",
       "    \n",
       "            var marker_2e60b90cdbd8067fbce718ae63f606d8 = L.marker(\n",
       "                [23.131252647235588, -82.37457288968206],\n",
       "                {\n",
       "}\n",
       "            ).addTo(map_8e263dfa2d2a3ab73322a420085a56cc);\n",
       "        \n",
       "    \n",
       "            var icon_dff957e1296c43e23fb14be04163ec82 = L.AwesomeMarkers.icon(\n",
       "                {\n",
       "  &quot;markerColor&quot;: &quot;red&quot;,\n",
       "  &quot;iconColor&quot;: &quot;white&quot;,\n",
       "  &quot;icon&quot;: &quot;cutlery&quot;,\n",
       "  &quot;prefix&quot;: &quot;fa&quot;,\n",
       "  &quot;extraClasses&quot;: &quot;fa-rotate-0&quot;,\n",
       "}\n",
       "            );\n",
       "            marker_2e60b90cdbd8067fbce718ae63f606d8.setIcon(icon_dff957e1296c43e23fb14be04163ec82);\n",
       "        \n",
       "    \n",
       "        var popup_985930d6af77e7160c4c341af4b0a4f5 = L.popup({\n",
       "  &quot;maxWidth&quot;: &quot;100%&quot;,\n",
       "});\n",
       "\n",
       "        \n",
       "            \n",
       "                var html_4c2d552623737240428091dc7f787888 = $(`&lt;div id=&quot;html_4c2d552623737240428091dc7f787888&quot; style=&quot;width: 100.0%; height: 100.0%;&quot;&gt;(&quot;&lt;b style=&#x27;font-size: 18px; &#x27;&gt;Hamburgo&lt;/b&gt;&lt;br&gt;Dirección: Carlos III entre Retiro y Arbol Seco&quot;,)&lt;/div&gt;`)[0];\n",
       "                popup_985930d6af77e7160c4c341af4b0a4f5.setContent(html_4c2d552623737240428091dc7f787888);\n",
       "            \n",
       "        \n",
       "\n",
       "        marker_2e60b90cdbd8067fbce718ae63f606d8.bindPopup(popup_985930d6af77e7160c4c341af4b0a4f5)\n",
       "        ;\n",
       "\n",
       "        \n",
       "    \n",
       "    \n",
       "            var marker_24ae2c2d598d82cd7c19f20b65b54938 = L.marker(\n",
       "                [23.101888417856312, -82.43068882213893],\n",
       "                {\n",
       "}\n",
       "            ).addTo(map_8e263dfa2d2a3ab73322a420085a56cc);\n",
       "        \n",
       "    \n",
       "            var icon_cc13cb8c502e8ae9c3ece1bab1355f21 = L.AwesomeMarkers.icon(\n",
       "                {\n",
       "  &quot;markerColor&quot;: &quot;red&quot;,\n",
       "  &quot;iconColor&quot;: &quot;white&quot;,\n",
       "  &quot;icon&quot;: &quot;cutlery&quot;,\n",
       "  &quot;prefix&quot;: &quot;fa&quot;,\n",
       "  &quot;extraClasses&quot;: &quot;fa-rotate-0&quot;,\n",
       "}\n",
       "            );\n",
       "            marker_24ae2c2d598d82cd7c19f20b65b54938.setIcon(icon_cc13cb8c502e8ae9c3ece1bab1355f21);\n",
       "        \n",
       "    \n",
       "        var popup_3c938213046a831cd8d6924277ffbc37 = L.popup({\n",
       "  &quot;maxWidth&quot;: &quot;100%&quot;,\n",
       "});\n",
       "\n",
       "        \n",
       "            \n",
       "                var html_2ecf9d0ff98c94aa261c4fe9d281729b = $(`&lt;div id=&quot;html_2ecf9d0ff98c94aa261c4fe9d281729b&quot; style=&quot;width: 100.0%; height: 100.0%;&quot;&gt;(&quot;&lt;b style=&#x27;font-size: 18px; &#x27;&gt;Home Deli&lt;/b&gt;&lt;br&gt;Dirección: 19&quot;,)&lt;/div&gt;`)[0];\n",
       "                popup_3c938213046a831cd8d6924277ffbc37.setContent(html_2ecf9d0ff98c94aa261c4fe9d281729b);\n",
       "            \n",
       "        \n",
       "\n",
       "        marker_24ae2c2d598d82cd7c19f20b65b54938.bindPopup(popup_3c938213046a831cd8d6924277ffbc37)\n",
       "        ;\n",
       "\n",
       "        \n",
       "    \n",
       "    \n",
       "            var marker_7451ac735d4b1906ea95cbbb85971541 = L.marker(\n",
       "                [23.166623898573555, -82.27753889194905],\n",
       "                {\n",
       "}\n",
       "            ).addTo(map_8e263dfa2d2a3ab73322a420085a56cc);\n",
       "        \n",
       "    \n",
       "            var icon_f1daec244548c1b4417df563f1aa45ae = L.AwesomeMarkers.icon(\n",
       "                {\n",
       "  &quot;markerColor&quot;: &quot;red&quot;,\n",
       "  &quot;iconColor&quot;: &quot;white&quot;,\n",
       "  &quot;icon&quot;: &quot;cutlery&quot;,\n",
       "  &quot;prefix&quot;: &quot;fa&quot;,\n",
       "  &quot;extraClasses&quot;: &quot;fa-rotate-0&quot;,\n",
       "}\n",
       "            );\n",
       "            marker_7451ac735d4b1906ea95cbbb85971541.setIcon(icon_f1daec244548c1b4417df563f1aa45ae);\n",
       "        \n",
       "    \n",
       "        var popup_fc944d242557d1682a0d579f208ba1b2 = L.popup({\n",
       "  &quot;maxWidth&quot;: &quot;100%&quot;,\n",
       "});\n",
       "\n",
       "        \n",
       "            \n",
       "                var html_b782d36c5e70362c8cd6bd2c9b64cb81 = $(`&lt;div id=&quot;html_b782d36c5e70362c8cd6bd2c9b64cb81&quot; style=&quot;width: 100.0%; height: 100.0%;&quot;&gt;(&quot;&lt;b style=&#x27;font-size: 18px; &#x27;&gt;Jackfe&lt;/b&gt;&lt;br&gt;Dirección: Calle 164B, #3B01, Esquina 3ra B, Mercado de los Rusos, zona 1, Alamar&quot;,)&lt;/div&gt;`)[0];\n",
       "                popup_fc944d242557d1682a0d579f208ba1b2.setContent(html_b782d36c5e70362c8cd6bd2c9b64cb81);\n",
       "            \n",
       "        \n",
       "\n",
       "        marker_7451ac735d4b1906ea95cbbb85971541.bindPopup(popup_fc944d242557d1682a0d579f208ba1b2)\n",
       "        ;\n",
       "\n",
       "        \n",
       "    \n",
       "    \n",
       "            var marker_c3a4023735014d672f1e5c72a01a8cb5 = L.marker(\n",
       "                [23.140066946343797, -82.35321025582338],\n",
       "                {\n",
       "}\n",
       "            ).addTo(map_8e263dfa2d2a3ab73322a420085a56cc);\n",
       "        \n",
       "    \n",
       "            var icon_a838c0412987e877914cf2980cc9c3de = L.AwesomeMarkers.icon(\n",
       "                {\n",
       "  &quot;markerColor&quot;: &quot;red&quot;,\n",
       "  &quot;iconColor&quot;: &quot;white&quot;,\n",
       "  &quot;icon&quot;: &quot;cutlery&quot;,\n",
       "  &quot;prefix&quot;: &quot;fa&quot;,\n",
       "  &quot;extraClasses&quot;: &quot;fa-rotate-0&quot;,\n",
       "}\n",
       "            );\n",
       "            marker_c3a4023735014d672f1e5c72a01a8cb5.setIcon(icon_a838c0412987e877914cf2980cc9c3de);\n",
       "        \n",
       "    \n",
       "        var popup_8cb2e2df63094bb81aeb2d421899483c = L.popup({\n",
       "  &quot;maxWidth&quot;: &quot;100%&quot;,\n",
       "});\n",
       "\n",
       "        \n",
       "            \n",
       "                var html_16e4c87ec2df35ce9b04b9f074d5795b = $(`&lt;div id=&quot;html_16e4c87ec2df35ce9b04b9f074d5795b&quot; style=&quot;width: 100.0%; height: 100.0%;&quot;&gt;(&quot;&lt;b style=&#x27;font-size: 18px; &#x27;&gt;JAMA Asian Food&lt;/b&gt;&lt;br&gt;Dirección: Calle Aguiar No 251 B entre OReilly y Empedrado&quot;,)&lt;/div&gt;`)[0];\n",
       "                popup_8cb2e2df63094bb81aeb2d421899483c.setContent(html_16e4c87ec2df35ce9b04b9f074d5795b);\n",
       "            \n",
       "        \n",
       "\n",
       "        marker_c3a4023735014d672f1e5c72a01a8cb5.bindPopup(popup_8cb2e2df63094bb81aeb2d421899483c)\n",
       "        ;\n",
       "\n",
       "        \n",
       "    \n",
       "    \n",
       "            var marker_f911b995a6f75c03d830ffbf904fe86e = L.marker(\n",
       "                [23.12090996621169, -82.37354001445844],\n",
       "                {\n",
       "}\n",
       "            ).addTo(map_8e263dfa2d2a3ab73322a420085a56cc);\n",
       "        \n",
       "    \n",
       "            var icon_fddca849c72c5b4296cba8423f9f5d36 = L.AwesomeMarkers.icon(\n",
       "                {\n",
       "  &quot;markerColor&quot;: &quot;red&quot;,\n",
       "  &quot;iconColor&quot;: &quot;white&quot;,\n",
       "  &quot;icon&quot;: &quot;cutlery&quot;,\n",
       "  &quot;prefix&quot;: &quot;fa&quot;,\n",
       "  &quot;extraClasses&quot;: &quot;fa-rotate-0&quot;,\n",
       "}\n",
       "            );\n",
       "            marker_f911b995a6f75c03d830ffbf904fe86e.setIcon(icon_fddca849c72c5b4296cba8423f9f5d36);\n",
       "        \n",
       "    \n",
       "        var popup_ce55ca6c584eae4a159b27afebcaad9d = L.popup({\n",
       "  &quot;maxWidth&quot;: &quot;100%&quot;,\n",
       "});\n",
       "\n",
       "        \n",
       "            \n",
       "                var html_a132ee8ba029f3af2494af0611801ab5 = $(`&lt;div id=&quot;html_a132ee8ba029f3af2494af0611801ab5&quot; style=&quot;width: 100.0%; height: 100.0%;&quot;&gt;(&quot;&lt;b style=&#x27;font-size: 18px; &#x27;&gt;Jorgito&#x27;s Pizzas&lt;/b&gt;&lt;br&gt;Dirección: Pedroso entre Infanta y Cruz del Pader&quot;,)&lt;/div&gt;`)[0];\n",
       "                popup_ce55ca6c584eae4a159b27afebcaad9d.setContent(html_a132ee8ba029f3af2494af0611801ab5);\n",
       "            \n",
       "        \n",
       "\n",
       "        marker_f911b995a6f75c03d830ffbf904fe86e.bindPopup(popup_ce55ca6c584eae4a159b27afebcaad9d)\n",
       "        ;\n",
       "\n",
       "        \n",
       "    \n",
       "    \n",
       "            var marker_ced394962c297a76ea9d0194fbded143 = L.marker(\n",
       "                [23.130003976381268, -82.41350459680528],\n",
       "                {\n",
       "}\n",
       "            ).addTo(map_8e263dfa2d2a3ab73322a420085a56cc);\n",
       "        \n",
       "    \n",
       "            var icon_3e4419e48a9160bb487f732ceaef634d = L.AwesomeMarkers.icon(\n",
       "                {\n",
       "  &quot;markerColor&quot;: &quot;red&quot;,\n",
       "  &quot;iconColor&quot;: &quot;white&quot;,\n",
       "  &quot;icon&quot;: &quot;cutlery&quot;,\n",
       "  &quot;prefix&quot;: &quot;fa&quot;,\n",
       "  &quot;extraClasses&quot;: &quot;fa-rotate-0&quot;,\n",
       "}\n",
       "            );\n",
       "            marker_ced394962c297a76ea9d0194fbded143.setIcon(icon_3e4419e48a9160bb487f732ceaef634d);\n",
       "        \n",
       "    \n",
       "        var popup_7b1d6e1fa457e65c7e1a70b51687b942 = L.popup({\n",
       "  &quot;maxWidth&quot;: &quot;100%&quot;,\n",
       "});\n",
       "\n",
       "        \n",
       "            \n",
       "                var html_732cecb12f2803ed78788d45ff02106c = $(`&lt;div id=&quot;html_732cecb12f2803ed78788d45ff02106c&quot; style=&quot;width: 100.0%; height: 100.0%;&quot;&gt;(&quot;&lt;b style=&#x27;font-size: 18px; &#x27;&gt;Jota Jota&lt;/b&gt;&lt;br&gt;Dirección: Calle 0 entre 3ra y 5ta&quot;,)&lt;/div&gt;`)[0];\n",
       "                popup_7b1d6e1fa457e65c7e1a70b51687b942.setContent(html_732cecb12f2803ed78788d45ff02106c);\n",
       "            \n",
       "        \n",
       "\n",
       "        marker_ced394962c297a76ea9d0194fbded143.bindPopup(popup_7b1d6e1fa457e65c7e1a70b51687b942)\n",
       "        ;\n",
       "\n",
       "        \n",
       "    \n",
       "    \n",
       "            var marker_44c6311ebf45b997788eaac92418d750 = L.marker(\n",
       "                [23.07212815069161, -82.46031809008416],\n",
       "                {\n",
       "}\n",
       "            ).addTo(map_8e263dfa2d2a3ab73322a420085a56cc);\n",
       "        \n",
       "    \n",
       "            var icon_be448d2da7b08afc3d2c03cabba4c683 = L.AwesomeMarkers.icon(\n",
       "                {\n",
       "  &quot;markerColor&quot;: &quot;red&quot;,\n",
       "  &quot;iconColor&quot;: &quot;white&quot;,\n",
       "  &quot;icon&quot;: &quot;cutlery&quot;,\n",
       "  &quot;prefix&quot;: &quot;fa&quot;,\n",
       "  &quot;extraClasses&quot;: &quot;fa-rotate-0&quot;,\n",
       "}\n",
       "            );\n",
       "            marker_44c6311ebf45b997788eaac92418d750.setIcon(icon_be448d2da7b08afc3d2c03cabba4c683);\n",
       "        \n",
       "    \n",
       "        var popup_7ae96a96de0e8a1f02b3f61289552454 = L.popup({\n",
       "  &quot;maxWidth&quot;: &quot;100%&quot;,\n",
       "});\n",
       "\n",
       "        \n",
       "            \n",
       "                var html_201689ee0c58e0ddb528f171ef567a25 = $(`&lt;div id=&quot;html_201689ee0c58e0ddb528f171ef567a25&quot; style=&quot;width: 100.0%; height: 100.0%;&quot;&gt;(&quot;&lt;b style=&#x27;font-size: 18px; &#x27;&gt;Juanky&#x27;s Pan&lt;/b&gt;&lt;br&gt;Dirección: 23 A entre 202 y 212 Reparto la Coronela &quot;,)&lt;/div&gt;`)[0];\n",
       "                popup_7ae96a96de0e8a1f02b3f61289552454.setContent(html_201689ee0c58e0ddb528f171ef567a25);\n",
       "            \n",
       "        \n",
       "\n",
       "        marker_44c6311ebf45b997788eaac92418d750.bindPopup(popup_7ae96a96de0e8a1f02b3f61289552454)\n",
       "        ;\n",
       "\n",
       "        \n",
       "    \n",
       "    \n",
       "            var marker_b41b9161dc815e82d2d45f030d514253 = L.marker(\n",
       "                [23.139549087699173, -82.3756494611986],\n",
       "                {\n",
       "}\n",
       "            ).addTo(map_8e263dfa2d2a3ab73322a420085a56cc);\n",
       "        \n",
       "    \n",
       "            var icon_e8fc1c56f7fe59db9a823d29aebccdba = L.AwesomeMarkers.icon(\n",
       "                {\n",
       "  &quot;markerColor&quot;: &quot;red&quot;,\n",
       "  &quot;iconColor&quot;: &quot;white&quot;,\n",
       "  &quot;icon&quot;: &quot;cutlery&quot;,\n",
       "  &quot;prefix&quot;: &quot;fa&quot;,\n",
       "  &quot;extraClasses&quot;: &quot;fa-rotate-0&quot;,\n",
       "}\n",
       "            );\n",
       "            marker_b41b9161dc815e82d2d45f030d514253.setIcon(icon_e8fc1c56f7fe59db9a823d29aebccdba);\n",
       "        \n",
       "    \n",
       "        var popup_108891e9fc4759119971fa8447a287f6 = L.popup({\n",
       "  &quot;maxWidth&quot;: &quot;100%&quot;,\n",
       "});\n",
       "\n",
       "        \n",
       "            \n",
       "                var html_a2900176ad3c62ca0c679570e4d37c59 = $(`&lt;div id=&quot;html_a2900176ad3c62ca0c679570e4d37c59&quot; style=&quot;width: 100.0%; height: 100.0%;&quot;&gt;(&quot;&lt;b style=&#x27;font-size: 18px; &#x27;&gt;Kasa Takos&lt;/b&gt;&lt;br&gt;Dirección: Hospital y Aramburu, 966 entre San Lazaro&quot;,)&lt;/div&gt;`)[0];\n",
       "                popup_108891e9fc4759119971fa8447a287f6.setContent(html_a2900176ad3c62ca0c679570e4d37c59);\n",
       "            \n",
       "        \n",
       "\n",
       "        marker_b41b9161dc815e82d2d45f030d514253.bindPopup(popup_108891e9fc4759119971fa8447a287f6)\n",
       "        ;\n",
       "\n",
       "        \n",
       "    \n",
       "    \n",
       "            var marker_97e2696fc1873fba433828c779315563 = L.marker(\n",
       "                [23.14012116111188, -82.4018177339757],\n",
       "                {\n",
       "}\n",
       "            ).addTo(map_8e263dfa2d2a3ab73322a420085a56cc);\n",
       "        \n",
       "    \n",
       "            var icon_5a4da74c02e7e0c63365fe264d94d43c = L.AwesomeMarkers.icon(\n",
       "                {\n",
       "  &quot;markerColor&quot;: &quot;red&quot;,\n",
       "  &quot;iconColor&quot;: &quot;white&quot;,\n",
       "  &quot;icon&quot;: &quot;cutlery&quot;,\n",
       "  &quot;prefix&quot;: &quot;fa&quot;,\n",
       "  &quot;extraClasses&quot;: &quot;fa-rotate-0&quot;,\n",
       "}\n",
       "            );\n",
       "            marker_97e2696fc1873fba433828c779315563.setIcon(icon_5a4da74c02e7e0c63365fe264d94d43c);\n",
       "        \n",
       "    \n",
       "        var popup_bccdb6e3e3e71c96789d8505c869d2e1 = L.popup({\n",
       "  &quot;maxWidth&quot;: &quot;100%&quot;,\n",
       "});\n",
       "\n",
       "        \n",
       "            \n",
       "                var html_7aa0eb3dfce4d07bedcd85ede98dfba0 = $(`&lt;div id=&quot;html_7aa0eb3dfce4d07bedcd85ede98dfba0&quot; style=&quot;width: 100.0%; height: 100.0%;&quot;&gt;(&quot;&lt;b style=&#x27;font-size: 18px; &#x27;&gt;La Cocinita&lt;/b&gt;&lt;br&gt;Dirección: Paseo entre 1era y 3era, Vedado&quot;,)&lt;/div&gt;`)[0];\n",
       "                popup_bccdb6e3e3e71c96789d8505c869d2e1.setContent(html_7aa0eb3dfce4d07bedcd85ede98dfba0);\n",
       "            \n",
       "        \n",
       "\n",
       "        marker_97e2696fc1873fba433828c779315563.bindPopup(popup_bccdb6e3e3e71c96789d8505c869d2e1)\n",
       "        ;\n",
       "\n",
       "        \n",
       "    \n",
       "    \n",
       "            var marker_10061d469b4c1011f2e95fdea477d56d = L.marker(\n",
       "                [23.04493541439918, -82.26869240537707],\n",
       "                {\n",
       "}\n",
       "            ).addTo(map_8e263dfa2d2a3ab73322a420085a56cc);\n",
       "        \n",
       "    \n",
       "            var icon_a79e3996b876418a1d11e2434b6cdd5c = L.AwesomeMarkers.icon(\n",
       "                {\n",
       "  &quot;markerColor&quot;: &quot;red&quot;,\n",
       "  &quot;iconColor&quot;: &quot;white&quot;,\n",
       "  &quot;icon&quot;: &quot;cutlery&quot;,\n",
       "  &quot;prefix&quot;: &quot;fa&quot;,\n",
       "  &quot;extraClasses&quot;: &quot;fa-rotate-0&quot;,\n",
       "}\n",
       "            );\n",
       "            marker_10061d469b4c1011f2e95fdea477d56d.setIcon(icon_a79e3996b876418a1d11e2434b6cdd5c);\n",
       "        \n",
       "    \n",
       "        var popup_317a34be1977d52ce352963149f71b66 = L.popup({\n",
       "  &quot;maxWidth&quot;: &quot;100%&quot;,\n",
       "});\n",
       "\n",
       "        \n",
       "            \n",
       "                var html_2d953e8e8a62962e1a584ec7130a600c = $(`&lt;div id=&quot;html_2d953e8e8a62962e1a584ec7130a600c&quot; style=&quot;width: 100.0%; height: 100.0%;&quot;&gt;(&quot;&lt;b style=&#x27;font-size: 18px; &#x27;&gt;La esquinita del Cotorro&lt;/b&gt;&lt;br&gt;Dirección: Avenida 71&quot;,)&lt;/div&gt;`)[0];\n",
       "                popup_317a34be1977d52ce352963149f71b66.setContent(html_2d953e8e8a62962e1a584ec7130a600c);\n",
       "            \n",
       "        \n",
       "\n",
       "        marker_10061d469b4c1011f2e95fdea477d56d.bindPopup(popup_317a34be1977d52ce352963149f71b66)\n",
       "        ;\n",
       "\n",
       "        \n",
       "    \n",
       "    \n",
       "            var marker_813dc11f7f98b93f3e7c43bbca726842 = L.marker(\n",
       "                [23.07120986898905, -82.46001932800391],\n",
       "                {\n",
       "}\n",
       "            ).addTo(map_8e263dfa2d2a3ab73322a420085a56cc);\n",
       "        \n",
       "    \n",
       "            var icon_5b8c2f9b462e5a791b2961d70970705e = L.AwesomeMarkers.icon(\n",
       "                {\n",
       "  &quot;markerColor&quot;: &quot;red&quot;,\n",
       "  &quot;iconColor&quot;: &quot;white&quot;,\n",
       "  &quot;icon&quot;: &quot;cutlery&quot;,\n",
       "  &quot;prefix&quot;: &quot;fa&quot;,\n",
       "  &quot;extraClasses&quot;: &quot;fa-rotate-0&quot;,\n",
       "}\n",
       "            );\n",
       "            marker_813dc11f7f98b93f3e7c43bbca726842.setIcon(icon_5b8c2f9b462e5a791b2961d70970705e);\n",
       "        \n",
       "    \n",
       "        var popup_9380134bdf1271bdcdd0f29fb3047fff = L.popup({\n",
       "  &quot;maxWidth&quot;: &quot;100%&quot;,\n",
       "});\n",
       "\n",
       "        \n",
       "            \n",
       "                var html_617eb0f717b5da8ccfa58b4e0da6dd15 = $(`&lt;div id=&quot;html_617eb0f717b5da8ccfa58b4e0da6dd15&quot; style=&quot;width: 100.0%; height: 100.0%;&quot;&gt;(&quot;&lt;b style=&#x27;font-size: 18px; &#x27;&gt;La Mia Pizza&lt;/b&gt;&lt;br&gt;Dirección: 29 y 23A&quot;,)&lt;/div&gt;`)[0];\n",
       "                popup_9380134bdf1271bdcdd0f29fb3047fff.setContent(html_617eb0f717b5da8ccfa58b4e0da6dd15);\n",
       "            \n",
       "        \n",
       "\n",
       "        marker_813dc11f7f98b93f3e7c43bbca726842.bindPopup(popup_9380134bdf1271bdcdd0f29fb3047fff)\n",
       "        ;\n",
       "\n",
       "        \n",
       "    \n",
       "    \n",
       "            var marker_d1b773af8ed05a9d5c3bc1a044809a70 = L.marker(\n",
       "                [23.025265299543545, -82.46372134720235],\n",
       "                {\n",
       "}\n",
       "            ).addTo(map_8e263dfa2d2a3ab73322a420085a56cc);\n",
       "        \n",
       "    \n",
       "            var icon_8d1c7367051b1519933692dcc4facba4 = L.AwesomeMarkers.icon(\n",
       "                {\n",
       "  &quot;markerColor&quot;: &quot;red&quot;,\n",
       "  &quot;iconColor&quot;: &quot;white&quot;,\n",
       "  &quot;icon&quot;: &quot;cutlery&quot;,\n",
       "  &quot;prefix&quot;: &quot;fa&quot;,\n",
       "  &quot;extraClasses&quot;: &quot;fa-rotate-0&quot;,\n",
       "}\n",
       "            );\n",
       "            marker_d1b773af8ed05a9d5c3bc1a044809a70.setIcon(icon_8d1c7367051b1519933692dcc4facba4);\n",
       "        \n",
       "    \n",
       "        var popup_eba25909099ac6686063f58d4701ee24 = L.popup({\n",
       "  &quot;maxWidth&quot;: &quot;100%&quot;,\n",
       "});\n",
       "\n",
       "        \n",
       "            \n",
       "                var html_a1e7dcecc76ce451da3d6c2376365980 = $(`&lt;div id=&quot;html_a1e7dcecc76ce451da3d6c2376365980&quot; style=&quot;width: 100.0%; height: 100.0%;&quot;&gt;(&quot;&lt;b style=&#x27;font-size: 18px; &#x27;&gt; La Novia&lt;/b&gt;&lt;br&gt;Dirección: Calle 51 entre 330 y 332 numero 33013, La novia del mediodia&quot;,)&lt;/div&gt;`)[0];\n",
       "                popup_eba25909099ac6686063f58d4701ee24.setContent(html_a1e7dcecc76ce451da3d6c2376365980);\n",
       "            \n",
       "        \n",
       "\n",
       "        marker_d1b773af8ed05a9d5c3bc1a044809a70.bindPopup(popup_eba25909099ac6686063f58d4701ee24)\n",
       "        ;\n",
       "\n",
       "        \n",
       "    \n",
       "    \n",
       "            var marker_8a0b25d0fe06a76d0e428ab9e0f7b5dd = L.marker(\n",
       "                [23.12193638525617, -82.37392744585779],\n",
       "                {\n",
       "}\n",
       "            ).addTo(map_8e263dfa2d2a3ab73322a420085a56cc);\n",
       "        \n",
       "    \n",
       "            var icon_6dd9e0d16d3514e51960a1cf5eba8a62 = L.AwesomeMarkers.icon(\n",
       "                {\n",
       "  &quot;markerColor&quot;: &quot;red&quot;,\n",
       "  &quot;iconColor&quot;: &quot;white&quot;,\n",
       "  &quot;icon&quot;: &quot;cutlery&quot;,\n",
       "  &quot;prefix&quot;: &quot;fa&quot;,\n",
       "  &quot;extraClasses&quot;: &quot;fa-rotate-0&quot;,\n",
       "}\n",
       "            );\n",
       "            marker_8a0b25d0fe06a76d0e428ab9e0f7b5dd.setIcon(icon_6dd9e0d16d3514e51960a1cf5eba8a62);\n",
       "        \n",
       "    \n",
       "        var popup_ddac60117be2f6f8a00573a4d63afbbc = L.popup({\n",
       "  &quot;maxWidth&quot;: &quot;100%&quot;,\n",
       "});\n",
       "\n",
       "        \n",
       "            \n",
       "                var html_cde90a13cf3d9b721c18f23726bb44ec = $(`&lt;div id=&quot;html_cde90a13cf3d9b721c18f23726bb44ec&quot; style=&quot;width: 100.0%; height: 100.0%;&quot;&gt;(&quot;&lt;b style=&#x27;font-size: 18px; &#x27;&gt;La Barrita Onbazar&lt;/b&gt;&lt;br&gt;Dirección: Amenidad entre Cruz del Pader e Infanta&quot;,)&lt;/div&gt;`)[0];\n",
       "                popup_ddac60117be2f6f8a00573a4d63afbbc.setContent(html_cde90a13cf3d9b721c18f23726bb44ec);\n",
       "            \n",
       "        \n",
       "\n",
       "        marker_8a0b25d0fe06a76d0e428ab9e0f7b5dd.bindPopup(popup_ddac60117be2f6f8a00573a4d63afbbc)\n",
       "        ;\n",
       "\n",
       "        \n",
       "    \n",
       "    \n",
       "            var marker_f2c6c1104d806a3ad90a88b7f5457519 = L.marker(\n",
       "                [23.104975882244233, -82.44258298436951],\n",
       "                {\n",
       "}\n",
       "            ).addTo(map_8e263dfa2d2a3ab73322a420085a56cc);\n",
       "        \n",
       "    \n",
       "            var icon_482c536e98ef8de284818afc5e269fdf = L.AwesomeMarkers.icon(\n",
       "                {\n",
       "  &quot;markerColor&quot;: &quot;red&quot;,\n",
       "  &quot;iconColor&quot;: &quot;white&quot;,\n",
       "  &quot;icon&quot;: &quot;cutlery&quot;,\n",
       "  &quot;prefix&quot;: &quot;fa&quot;,\n",
       "  &quot;extraClasses&quot;: &quot;fa-rotate-0&quot;,\n",
       "}\n",
       "            );\n",
       "            marker_f2c6c1104d806a3ad90a88b7f5457519.setIcon(icon_482c536e98ef8de284818afc5e269fdf);\n",
       "        \n",
       "    \n",
       "        var popup_f8eb0747935594bcc7e9d4a98d843e9f = L.popup({\n",
       "  &quot;maxWidth&quot;: &quot;100%&quot;,\n",
       "});\n",
       "\n",
       "        \n",
       "            \n",
       "                var html_f36761a814fdfa7e8433d4855062740e = $(`&lt;div id=&quot;html_f36761a814fdfa7e8433d4855062740e&quot; style=&quot;width: 100.0%; height: 100.0%;&quot;&gt;(&quot;&lt;b style=&#x27;font-size: 18px; &#x27;&gt;La Catrina&lt;/b&gt;&lt;br&gt;Dirección: 503 84&quot;,)&lt;/div&gt;`)[0];\n",
       "                popup_f8eb0747935594bcc7e9d4a98d843e9f.setContent(html_f36761a814fdfa7e8433d4855062740e);\n",
       "            \n",
       "        \n",
       "\n",
       "        marker_f2c6c1104d806a3ad90a88b7f5457519.bindPopup(popup_f8eb0747935594bcc7e9d4a98d843e9f)\n",
       "        ;\n",
       "\n",
       "        \n",
       "    \n",
       "    \n",
       "            var marker_02caad65fabc0920e9a5005860eb6791 = L.marker(\n",
       "                [23.148019759241123, -82.35245541091525],\n",
       "                {\n",
       "}\n",
       "            ).addTo(map_8e263dfa2d2a3ab73322a420085a56cc);\n",
       "        \n",
       "    \n",
       "            var icon_a47d1c5934f389d82d722de1fb6e8415 = L.AwesomeMarkers.icon(\n",
       "                {\n",
       "  &quot;markerColor&quot;: &quot;red&quot;,\n",
       "  &quot;iconColor&quot;: &quot;white&quot;,\n",
       "  &quot;icon&quot;: &quot;cutlery&quot;,\n",
       "  &quot;prefix&quot;: &quot;fa&quot;,\n",
       "  &quot;extraClasses&quot;: &quot;fa-rotate-0&quot;,\n",
       "}\n",
       "            );\n",
       "            marker_02caad65fabc0920e9a5005860eb6791.setIcon(icon_a47d1c5934f389d82d722de1fb6e8415);\n",
       "        \n",
       "    \n",
       "        var popup_9f68682b69ba8cba45d6c13fd29f7b6f = L.popup({\n",
       "  &quot;maxWidth&quot;: &quot;100%&quot;,\n",
       "});\n",
       "\n",
       "        \n",
       "            \n",
       "                var html_170e6914478e910437fec589bd00cdfe = $(`&lt;div id=&quot;html_170e6914478e910437fec589bd00cdfe&quot; style=&quot;width: 100.0%; height: 100.0%;&quot;&gt;(&quot;&lt;b style=&#x27;font-size: 18px; &#x27;&gt;La Divina Pastora&lt;/b&gt;&lt;br&gt;Dirección: Complejo Morro Cabana, Via Monumental&quot;,)&lt;/div&gt;`)[0];\n",
       "                popup_9f68682b69ba8cba45d6c13fd29f7b6f.setContent(html_170e6914478e910437fec589bd00cdfe);\n",
       "            \n",
       "        \n",
       "\n",
       "        marker_02caad65fabc0920e9a5005860eb6791.bindPopup(popup_9f68682b69ba8cba45d6c13fd29f7b6f)\n",
       "        ;\n",
       "\n",
       "        \n",
       "    \n",
       "    \n",
       "            var marker_a6f9e5914209022819fdf950ab3cef45 = L.marker(\n",
       "                [23.140853253946666, -82.35265198633945],\n",
       "                {\n",
       "}\n",
       "            ).addTo(map_8e263dfa2d2a3ab73322a420085a56cc);\n",
       "        \n",
       "    \n",
       "            var icon_30ea23990744400bbaa6cc292a104e9c = L.AwesomeMarkers.icon(\n",
       "                {\n",
       "  &quot;markerColor&quot;: &quot;red&quot;,\n",
       "  &quot;iconColor&quot;: &quot;white&quot;,\n",
       "  &quot;icon&quot;: &quot;cutlery&quot;,\n",
       "  &quot;prefix&quot;: &quot;fa&quot;,\n",
       "  &quot;extraClasses&quot;: &quot;fa-rotate-0&quot;,\n",
       "}\n",
       "            );\n",
       "            marker_a6f9e5914209022819fdf950ab3cef45.setIcon(icon_30ea23990744400bbaa6cc292a104e9c);\n",
       "        \n",
       "    \n",
       "        var popup_2d75821bb787c82d43308a79de97c538 = L.popup({\n",
       "  &quot;maxWidth&quot;: &quot;100%&quot;,\n",
       "});\n",
       "\n",
       "        \n",
       "            \n",
       "                var html_5e9830b66271bd3390355cf91173d744 = $(`&lt;div id=&quot;html_5e9830b66271bd3390355cf91173d744&quot; style=&quot;width: 100.0%; height: 100.0%;&quot;&gt;(&quot;&lt;b style=&#x27;font-size: 18px; &#x27;&gt;La Esquina de Cuba&lt;/b&gt;&lt;br&gt;Dirección: Esquina de Calle Cuba y Empedrado&quot;,)&lt;/div&gt;`)[0];\n",
       "                popup_2d75821bb787c82d43308a79de97c538.setContent(html_5e9830b66271bd3390355cf91173d744);\n",
       "            \n",
       "        \n",
       "\n",
       "        marker_a6f9e5914209022819fdf950ab3cef45.bindPopup(popup_2d75821bb787c82d43308a79de97c538)\n",
       "        ;\n",
       "\n",
       "        \n",
       "    \n",
       "    \n",
       "            var marker_84dc85ad75d3a40f965e3141e69e3287 = L.marker(\n",
       "                [23.131650837595345, -82.35778799003404],\n",
       "                {\n",
       "}\n",
       "            ).addTo(map_8e263dfa2d2a3ab73322a420085a56cc);\n",
       "        \n",
       "    \n",
       "            var icon_b85c96152212493bfc0f716532d09e4d = L.AwesomeMarkers.icon(\n",
       "                {\n",
       "  &quot;markerColor&quot;: &quot;red&quot;,\n",
       "  &quot;iconColor&quot;: &quot;white&quot;,\n",
       "  &quot;icon&quot;: &quot;cutlery&quot;,\n",
       "  &quot;prefix&quot;: &quot;fa&quot;,\n",
       "  &quot;extraClasses&quot;: &quot;fa-rotate-0&quot;,\n",
       "}\n",
       "            );\n",
       "            marker_84dc85ad75d3a40f965e3141e69e3287.setIcon(icon_b85c96152212493bfc0f716532d09e4d);\n",
       "        \n",
       "    \n",
       "        var popup_6b1235694e87a91024c0ad6cb62bbdb5 = L.popup({\n",
       "  &quot;maxWidth&quot;: &quot;100%&quot;,\n",
       "});\n",
       "\n",
       "        \n",
       "            \n",
       "                var html_a055b6d4c92d2af52d79f77f2feaa437 = $(`&lt;div id=&quot;html_a055b6d4c92d2af52d79f77f2feaa437&quot; style=&quot;width: 100.0%; height: 100.0%;&quot;&gt;(&quot;&lt;b style=&#x27;font-size: 18px; &#x27;&gt;La Hamburguesita&lt;/b&gt;&lt;br&gt;Dirección: Calle Cienfuegos entre Apodaca y Gloria&quot;,)&lt;/div&gt;`)[0];\n",
       "                popup_6b1235694e87a91024c0ad6cb62bbdb5.setContent(html_a055b6d4c92d2af52d79f77f2feaa437);\n",
       "            \n",
       "        \n",
       "\n",
       "        marker_84dc85ad75d3a40f965e3141e69e3287.bindPopup(popup_6b1235694e87a91024c0ad6cb62bbdb5)\n",
       "        ;\n",
       "\n",
       "        \n",
       "    \n",
       "    \n",
       "            var marker_4934cf14a934a275f3cf6a17c5e13fa0 = L.marker(\n",
       "                [23.13558286521522, -82.36431708633963],\n",
       "                {\n",
       "}\n",
       "            ).addTo(map_8e263dfa2d2a3ab73322a420085a56cc);\n",
       "        \n",
       "    \n",
       "            var icon_d2e9411d214bcae65e85cc166b50ffd1 = L.AwesomeMarkers.icon(\n",
       "                {\n",
       "  &quot;markerColor&quot;: &quot;red&quot;,\n",
       "  &quot;iconColor&quot;: &quot;white&quot;,\n",
       "  &quot;icon&quot;: &quot;cutlery&quot;,\n",
       "  &quot;prefix&quot;: &quot;fa&quot;,\n",
       "  &quot;extraClasses&quot;: &quot;fa-rotate-0&quot;,\n",
       "}\n",
       "            );\n",
       "            marker_4934cf14a934a275f3cf6a17c5e13fa0.setIcon(icon_d2e9411d214bcae65e85cc166b50ffd1);\n",
       "        \n",
       "    \n",
       "        var popup_b616c1ba2b450d46de87d3375e0b73d5 = L.popup({\n",
       "  &quot;maxWidth&quot;: &quot;100%&quot;,\n",
       "});\n",
       "\n",
       "        \n",
       "            \n",
       "                var html_6834ba0489355810a07110f12303a48c = $(`&lt;div id=&quot;html_6834ba0489355810a07110f12303a48c&quot; style=&quot;width: 100.0%; height: 100.0%;&quot;&gt;(&quot;&lt;b style=&#x27;font-size: 18px; &#x27;&gt;La Juliana&lt;/b&gt;&lt;br&gt;Dirección: 210 San Nicolas&quot;,)&lt;/div&gt;`)[0];\n",
       "                popup_b616c1ba2b450d46de87d3375e0b73d5.setContent(html_6834ba0489355810a07110f12303a48c);\n",
       "            \n",
       "        \n",
       "\n",
       "        marker_4934cf14a934a275f3cf6a17c5e13fa0.bindPopup(popup_b616c1ba2b450d46de87d3375e0b73d5)\n",
       "        ;\n",
       "\n",
       "        \n",
       "    \n",
       "    \n",
       "            var marker_a5bb03dea7ea8ae23d5187b49d86da2b = L.marker(\n",
       "                [23.121609415980522, -82.38347632186809],\n",
       "                {\n",
       "}\n",
       "            ).addTo(map_8e263dfa2d2a3ab73322a420085a56cc);\n",
       "        \n",
       "    \n",
       "            var icon_43b7c8fa69c4f04bf879dcf25f5f79e4 = L.AwesomeMarkers.icon(\n",
       "                {\n",
       "  &quot;markerColor&quot;: &quot;red&quot;,\n",
       "  &quot;iconColor&quot;: &quot;white&quot;,\n",
       "  &quot;icon&quot;: &quot;cutlery&quot;,\n",
       "  &quot;prefix&quot;: &quot;fa&quot;,\n",
       "  &quot;extraClasses&quot;: &quot;fa-rotate-0&quot;,\n",
       "}\n",
       "            );\n",
       "            marker_a5bb03dea7ea8ae23d5187b49d86da2b.setIcon(icon_43b7c8fa69c4f04bf879dcf25f5f79e4);\n",
       "        \n",
       "    \n",
       "        var popup_b76cbd0d7b7315281455e550a8f177e9 = L.popup({\n",
       "  &quot;maxWidth&quot;: &quot;100%&quot;,\n",
       "});\n",
       "\n",
       "        \n",
       "            \n",
       "                var html_d451b0063810cfe97af6eb3d6704c8d0 = $(`&lt;div id=&quot;html_d451b0063810cfe97af6eb3d6704c8d0&quot; style=&quot;width: 100.0%; height: 100.0%;&quot;&gt;(&quot;&lt;b style=&#x27;font-size: 18px; &#x27;&gt;La Lola&lt;/b&gt;&lt;br&gt;Dirección: Calle Ayestaran entre San Pablo y Pedro Perez&quot;,)&lt;/div&gt;`)[0];\n",
       "                popup_b76cbd0d7b7315281455e550a8f177e9.setContent(html_d451b0063810cfe97af6eb3d6704c8d0);\n",
       "            \n",
       "        \n",
       "\n",
       "        marker_a5bb03dea7ea8ae23d5187b49d86da2b.bindPopup(popup_b76cbd0d7b7315281455e550a8f177e9)\n",
       "        ;\n",
       "\n",
       "        \n",
       "    \n",
       "    \n",
       "            var marker_fa2aec3c1cce87cf8d749b1072e2fd2c = L.marker(\n",
       "                [23.16729576315332, -82.29561634288147],\n",
       "                {\n",
       "}\n",
       "            ).addTo(map_8e263dfa2d2a3ab73322a420085a56cc);\n",
       "        \n",
       "    \n",
       "            var icon_976d92bf6e97ad1722a07c1b90f2d841 = L.AwesomeMarkers.icon(\n",
       "                {\n",
       "  &quot;markerColor&quot;: &quot;red&quot;,\n",
       "  &quot;iconColor&quot;: &quot;white&quot;,\n",
       "  &quot;icon&quot;: &quot;cutlery&quot;,\n",
       "  &quot;prefix&quot;: &quot;fa&quot;,\n",
       "  &quot;extraClasses&quot;: &quot;fa-rotate-0&quot;,\n",
       "}\n",
       "            );\n",
       "            marker_fa2aec3c1cce87cf8d749b1072e2fd2c.setIcon(icon_976d92bf6e97ad1722a07c1b90f2d841);\n",
       "        \n",
       "    \n",
       "        var popup_2fe092102ab41cca3e553b45441a2858 = L.popup({\n",
       "  &quot;maxWidth&quot;: &quot;100%&quot;,\n",
       "});\n",
       "\n",
       "        \n",
       "            \n",
       "                var html_dded77882ef81de499615b2ee1e20f37 = $(`&lt;div id=&quot;html_dded77882ef81de499615b2ee1e20f37&quot; style=&quot;width: 100.0%; height: 100.0%;&quot;&gt;(&quot;&lt;b style=&#x27;font-size: 18px; &#x27;&gt;La ruta de Hemingway&lt;/b&gt;&lt;br&gt;Dirección: Calle Real entre Victoria y Marcos, Cojimar&quot;,)&lt;/div&gt;`)[0];\n",
       "                popup_2fe092102ab41cca3e553b45441a2858.setContent(html_dded77882ef81de499615b2ee1e20f37);\n",
       "            \n",
       "        \n",
       "\n",
       "        marker_fa2aec3c1cce87cf8d749b1072e2fd2c.bindPopup(popup_2fe092102ab41cca3e553b45441a2858)\n",
       "        ;\n",
       "\n",
       "        \n",
       "    \n",
       "    \n",
       "            var marker_51e97d3dc08ee5a54f9f9244167b0203 = L.marker(\n",
       "                [23.139151699462953, -82.35008075935141],\n",
       "                {\n",
       "}\n",
       "            ).addTo(map_8e263dfa2d2a3ab73322a420085a56cc);\n",
       "        \n",
       "    \n",
       "            var icon_126c71454b0517ec968874671e415670 = L.AwesomeMarkers.icon(\n",
       "                {\n",
       "  &quot;markerColor&quot;: &quot;red&quot;,\n",
       "  &quot;iconColor&quot;: &quot;white&quot;,\n",
       "  &quot;icon&quot;: &quot;cutlery&quot;,\n",
       "  &quot;prefix&quot;: &quot;fa&quot;,\n",
       "  &quot;extraClasses&quot;: &quot;fa-rotate-0&quot;,\n",
       "}\n",
       "            );\n",
       "            marker_51e97d3dc08ee5a54f9f9244167b0203.setIcon(icon_126c71454b0517ec968874671e415670);\n",
       "        \n",
       "    \n",
       "        var popup_59c897ac50bc21a1963513180c32e21c = L.popup({\n",
       "  &quot;maxWidth&quot;: &quot;100%&quot;,\n",
       "});\n",
       "\n",
       "        \n",
       "            \n",
       "                var html_af1727ff4f41841de958eff196d34a23 = $(`&lt;div id=&quot;html_af1727ff4f41841de958eff196d34a23&quot; style=&quot;width: 100.0%; height: 100.0%;&quot;&gt;(&quot;&lt;b style=&#x27;font-size: 18px; &#x27;&gt;La Torre De Marfil&lt;/b&gt;&lt;br&gt;Dirección: Calle Mercaderes entre Obispo y Obrapia&quot;,)&lt;/div&gt;`)[0];\n",
       "                popup_59c897ac50bc21a1963513180c32e21c.setContent(html_af1727ff4f41841de958eff196d34a23);\n",
       "            \n",
       "        \n",
       "\n",
       "        marker_51e97d3dc08ee5a54f9f9244167b0203.bindPopup(popup_59c897ac50bc21a1963513180c32e21c)\n",
       "        ;\n",
       "\n",
       "        \n",
       "    \n",
       "    \n",
       "            var marker_ee08ade6944e250c26bdb73aaf98f322 = L.marker(\n",
       "                [23.13552900516459, -82.3502524323634],\n",
       "                {\n",
       "}\n",
       "            ).addTo(map_8e263dfa2d2a3ab73322a420085a56cc);\n",
       "        \n",
       "    \n",
       "            var icon_d643e15ca495a256ddd09c79045fcf00 = L.AwesomeMarkers.icon(\n",
       "                {\n",
       "  &quot;markerColor&quot;: &quot;red&quot;,\n",
       "  &quot;iconColor&quot;: &quot;white&quot;,\n",
       "  &quot;icon&quot;: &quot;cutlery&quot;,\n",
       "  &quot;prefix&quot;: &quot;fa&quot;,\n",
       "  &quot;extraClasses&quot;: &quot;fa-rotate-0&quot;,\n",
       "}\n",
       "            );\n",
       "            marker_ee08ade6944e250c26bdb73aaf98f322.setIcon(icon_d643e15ca495a256ddd09c79045fcf00);\n",
       "        \n",
       "    \n",
       "        var popup_9d3f152b97b7c0e64e62a3fa3bafe661 = L.popup({\n",
       "  &quot;maxWidth&quot;: &quot;100%&quot;,\n",
       "});\n",
       "\n",
       "        \n",
       "            \n",
       "                var html_516960456839a4427759d99b5b42ceb7 = $(`&lt;div id=&quot;html_516960456839a4427759d99b5b42ceb7&quot; style=&quot;width: 100.0%; height: 100.0%;&quot;&gt;(&quot;&lt;b style=&#x27;font-size: 18px; &#x27;&gt;La Vitrola&lt;/b&gt;&lt;br&gt;Dirección: Plaza Vieja entre Muralla y San Ignacio&quot;,)&lt;/div&gt;`)[0];\n",
       "                popup_9d3f152b97b7c0e64e62a3fa3bafe661.setContent(html_516960456839a4427759d99b5b42ceb7);\n",
       "            \n",
       "        \n",
       "\n",
       "        marker_ee08ade6944e250c26bdb73aaf98f322.bindPopup(popup_9d3f152b97b7c0e64e62a3fa3bafe661)\n",
       "        ;\n",
       "\n",
       "        \n",
       "    \n",
       "    \n",
       "            var marker_59a50e9eaf8afc9dafd0c4ba43a3a057 = L.marker(\n",
       "                [23.081201100821605, -82.4216785238977],\n",
       "                {\n",
       "}\n",
       "            ).addTo(map_8e263dfa2d2a3ab73322a420085a56cc);\n",
       "        \n",
       "    \n",
       "            var icon_0bb40fa393c32025554933ef3a066e7f = L.AwesomeMarkers.icon(\n",
       "                {\n",
       "  &quot;markerColor&quot;: &quot;red&quot;,\n",
       "  &quot;iconColor&quot;: &quot;white&quot;,\n",
       "  &quot;icon&quot;: &quot;cutlery&quot;,\n",
       "  &quot;prefix&quot;: &quot;fa&quot;,\n",
       "  &quot;extraClasses&quot;: &quot;fa-rotate-0&quot;,\n",
       "}\n",
       "            );\n",
       "            marker_59a50e9eaf8afc9dafd0c4ba43a3a057.setIcon(icon_0bb40fa393c32025554933ef3a066e7f);\n",
       "        \n",
       "    \n",
       "        var popup_3d61b51204bd714ab45cb197e334aa95 = L.popup({\n",
       "  &quot;maxWidth&quot;: &quot;100%&quot;,\n",
       "});\n",
       "\n",
       "        \n",
       "            \n",
       "                var html_3246fa555828b70f24aa3bb8cffee136 = $(`&lt;div id=&quot;html_3246fa555828b70f24aa3bb8cffee136&quot; style=&quot;width: 100.0%; height: 100.0%;&quot;&gt;(&quot;&lt;b style=&#x27;font-size: 18px; &#x27;&gt;La Yuya&lt;/b&gt;&lt;br&gt;Dirección: 100 Y 51&quot;,)&lt;/div&gt;`)[0];\n",
       "                popup_3d61b51204bd714ab45cb197e334aa95.setContent(html_3246fa555828b70f24aa3bb8cffee136);\n",
       "            \n",
       "        \n",
       "\n",
       "        marker_59a50e9eaf8afc9dafd0c4ba43a3a057.bindPopup(popup_3d61b51204bd714ab45cb197e334aa95)\n",
       "        ;\n",
       "\n",
       "        \n",
       "    \n",
       "    \n",
       "            var marker_01c5c7d30b4d5b8f0cda47f02f318b5d = L.marker(\n",
       "                [23.062581992389248, -82.36383374585894],\n",
       "                {\n",
       "}\n",
       "            ).addTo(map_8e263dfa2d2a3ab73322a420085a56cc);\n",
       "        \n",
       "    \n",
       "            var icon_3d022065da5e8fdfd39e16d5d191a602 = L.AwesomeMarkers.icon(\n",
       "                {\n",
       "  &quot;markerColor&quot;: &quot;red&quot;,\n",
       "  &quot;iconColor&quot;: &quot;white&quot;,\n",
       "  &quot;icon&quot;: &quot;cutlery&quot;,\n",
       "  &quot;prefix&quot;: &quot;fa&quot;,\n",
       "  &quot;extraClasses&quot;: &quot;fa-rotate-0&quot;,\n",
       "}\n",
       "            );\n",
       "            marker_01c5c7d30b4d5b8f0cda47f02f318b5d.setIcon(icon_3d022065da5e8fdfd39e16d5d191a602);\n",
       "        \n",
       "    \n",
       "        var popup_48b766c0cc4e85d52f16fd7e01ef7fd8 = L.popup({\n",
       "  &quot;maxWidth&quot;: &quot;100%&quot;,\n",
       "});\n",
       "\n",
       "        \n",
       "            \n",
       "                var html_0d19a15a14b2178f06bc52d6d744e53d = $(`&lt;div id=&quot;html_0d19a15a14b2178f06bc52d6d744e53d&quot; style=&quot;width: 100.0%; height: 100.0%;&quot;&gt;(&quot;&lt;b style=&#x27;font-size: 18px; &#x27;&gt;Los Atrevidos&lt;/b&gt;&lt;br&gt;Dirección: Calzada de Bejucal # 2639 e/ Estrella y Camilo Sierra&quot;,)&lt;/div&gt;`)[0];\n",
       "                popup_48b766c0cc4e85d52f16fd7e01ef7fd8.setContent(html_0d19a15a14b2178f06bc52d6d744e53d);\n",
       "            \n",
       "        \n",
       "\n",
       "        marker_01c5c7d30b4d5b8f0cda47f02f318b5d.bindPopup(popup_48b766c0cc4e85d52f16fd7e01ef7fd8)\n",
       "        ;\n",
       "\n",
       "        \n",
       "    \n",
       "    \n",
       "            var marker_6c1a00790e072ba22d4b672d0eec6728 = L.marker(\n",
       "                [23.134728671881838, -82.35835687654],\n",
       "                {\n",
       "}\n",
       "            ).addTo(map_8e263dfa2d2a3ab73322a420085a56cc);\n",
       "        \n",
       "    \n",
       "            var icon_56719d41c8ada118fb4ad85570f3b19c = L.AwesomeMarkers.icon(\n",
       "                {\n",
       "  &quot;markerColor&quot;: &quot;red&quot;,\n",
       "  &quot;iconColor&quot;: &quot;white&quot;,\n",
       "  &quot;icon&quot;: &quot;cutlery&quot;,\n",
       "  &quot;prefix&quot;: &quot;fa&quot;,\n",
       "  &quot;extraClasses&quot;: &quot;fa-rotate-0&quot;,\n",
       "}\n",
       "            );\n",
       "            marker_6c1a00790e072ba22d4b672d0eec6728.setIcon(icon_56719d41c8ada118fb4ad85570f3b19c);\n",
       "        \n",
       "    \n",
       "        var popup_f3c6fd11ad08ebb1d9d064efdd21dde0 = L.popup({\n",
       "  &quot;maxWidth&quot;: &quot;100%&quot;,\n",
       "});\n",
       "\n",
       "        \n",
       "            \n",
       "                var html_91a6969b9b7f93ae7fa3f018fc07420d = $(`&lt;div id=&quot;html_91a6969b9b7f93ae7fa3f018fc07420d&quot; style=&quot;width: 100.0%; height: 100.0%;&quot;&gt;(&quot;&lt;b style=&#x27;font-size: 18px; &#x27;&gt;Los Nardos&lt;/b&gt;&lt;br&gt;Dirección: Paseo de Marti, frente al Capitolio&quot;,)&lt;/div&gt;`)[0];\n",
       "                popup_f3c6fd11ad08ebb1d9d064efdd21dde0.setContent(html_91a6969b9b7f93ae7fa3f018fc07420d);\n",
       "            \n",
       "        \n",
       "\n",
       "        marker_6c1a00790e072ba22d4b672d0eec6728.bindPopup(popup_f3c6fd11ad08ebb1d9d064efdd21dde0)\n",
       "        ;\n",
       "\n",
       "        \n",
       "    \n",
       "    \n",
       "            var marker_303cab5fa282d663199f74e8796615a8 = L.marker(\n",
       "                [23.084081730757468, -82.43599343396534],\n",
       "                {\n",
       "}\n",
       "            ).addTo(map_8e263dfa2d2a3ab73322a420085a56cc);\n",
       "        \n",
       "    \n",
       "            var icon_06d251fce50d8cf9898bd8b158dcefb8 = L.AwesomeMarkers.icon(\n",
       "                {\n",
       "  &quot;markerColor&quot;: &quot;red&quot;,\n",
       "  &quot;iconColor&quot;: &quot;white&quot;,\n",
       "  &quot;icon&quot;: &quot;cutlery&quot;,\n",
       "  &quot;prefix&quot;: &quot;fa&quot;,\n",
       "  &quot;extraClasses&quot;: &quot;fa-rotate-0&quot;,\n",
       "}\n",
       "            );\n",
       "            marker_303cab5fa282d663199f74e8796615a8.setIcon(icon_06d251fce50d8cf9898bd8b158dcefb8);\n",
       "        \n",
       "    \n",
       "        var popup_0836d167e994ebd25be1d2c49f8a7b8d = L.popup({\n",
       "  &quot;maxWidth&quot;: &quot;100%&quot;,\n",
       "});\n",
       "\n",
       "        \n",
       "            \n",
       "                var html_9854ab6dbb8c7bc5d760132aa735dfbf = $(`&lt;div id=&quot;html_9854ab6dbb8c7bc5d760132aa735dfbf&quot; style=&quot;width: 100.0%; height: 100.0%;&quot;&gt;(&quot;&lt;b style=&#x27;font-size: 18px; &#x27;&gt;Los taticos&lt;/b&gt;&lt;br&gt;Dirección: 27 y 27A&quot;,)&lt;/div&gt;`)[0];\n",
       "                popup_0836d167e994ebd25be1d2c49f8a7b8d.setContent(html_9854ab6dbb8c7bc5d760132aa735dfbf);\n",
       "            \n",
       "        \n",
       "\n",
       "        marker_303cab5fa282d663199f74e8796615a8.bindPopup(popup_0836d167e994ebd25be1d2c49f8a7b8d)\n",
       "        ;\n",
       "\n",
       "        \n",
       "    \n",
       "    \n",
       "            var marker_7e4de5d85017fa690999fd3828d7124a = L.marker(\n",
       "                [23.141345644414816, -82.3553965539762],\n",
       "                {\n",
       "}\n",
       "            ).addTo(map_8e263dfa2d2a3ab73322a420085a56cc);\n",
       "        \n",
       "    \n",
       "            var icon_863df37815d442cb467592c112173e17 = L.AwesomeMarkers.icon(\n",
       "                {\n",
       "  &quot;markerColor&quot;: &quot;red&quot;,\n",
       "  &quot;iconColor&quot;: &quot;white&quot;,\n",
       "  &quot;icon&quot;: &quot;cutlery&quot;,\n",
       "  &quot;prefix&quot;: &quot;fa&quot;,\n",
       "  &quot;extraClasses&quot;: &quot;fa-rotate-0&quot;,\n",
       "}\n",
       "            );\n",
       "            marker_7e4de5d85017fa690999fd3828d7124a.setIcon(icon_863df37815d442cb467592c112173e17);\n",
       "        \n",
       "    \n",
       "        var popup_36db91275c24e8c0ed5c458968c8746d = L.popup({\n",
       "  &quot;maxWidth&quot;: &quot;100%&quot;,\n",
       "});\n",
       "\n",
       "        \n",
       "            \n",
       "                var html_06242764dd07acb5a136bfa713e217d7 = $(`&lt;div id=&quot;html_06242764dd07acb5a136bfa713e217d7&quot; style=&quot;width: 100.0%; height: 100.0%;&quot;&gt;(&quot;&lt;b style=&#x27;font-size: 18px; &#x27;&gt;Lo de Monik&lt;/b&gt;&lt;br&gt;Dirección: &quot;,)&lt;/div&gt;`)[0];\n",
       "                popup_36db91275c24e8c0ed5c458968c8746d.setContent(html_06242764dd07acb5a136bfa713e217d7);\n",
       "            \n",
       "        \n",
       "\n",
       "        marker_7e4de5d85017fa690999fd3828d7124a.bindPopup(popup_36db91275c24e8c0ed5c458968c8746d)\n",
       "        ;\n",
       "\n",
       "        \n",
       "    \n",
       "    \n",
       "            var marker_3b78ec83d489954d7ddc49f819fc7eef = L.marker(\n",
       "                [23.079340661045265, -82.36204303051731],\n",
       "                {\n",
       "}\n",
       "            ).addTo(map_8e263dfa2d2a3ab73322a420085a56cc);\n",
       "        \n",
       "    \n",
       "            var icon_9a93868a0f230ab072b8e224897ea110 = L.AwesomeMarkers.icon(\n",
       "                {\n",
       "  &quot;markerColor&quot;: &quot;red&quot;,\n",
       "  &quot;iconColor&quot;: &quot;white&quot;,\n",
       "  &quot;icon&quot;: &quot;cutlery&quot;,\n",
       "  &quot;prefix&quot;: &quot;fa&quot;,\n",
       "  &quot;extraClasses&quot;: &quot;fa-rotate-0&quot;,\n",
       "}\n",
       "            );\n",
       "            marker_3b78ec83d489954d7ddc49f819fc7eef.setIcon(icon_9a93868a0f230ab072b8e224897ea110);\n",
       "        \n",
       "    \n",
       "        var popup_233a078800d572c8e7bf257e2a6ae31b = L.popup({\n",
       "  &quot;maxWidth&quot;: &quot;100%&quot;,\n",
       "});\n",
       "\n",
       "        \n",
       "            \n",
       "                var html_19dcc304d2849dee7d55a6ef44f1de6a = $(`&lt;div id=&quot;html_19dcc304d2849dee7d55a6ef44f1de6a&quot; style=&quot;width: 100.0%; height: 100.0%;&quot;&gt;(&quot;&lt;b style=&#x27;font-size: 18px; &#x27;&gt;Magic&#x27;s Cream &amp; Burguer&lt;/b&gt;&lt;br&gt;Dirección: Calzada de 10 de Octubre, % Santa Amalia y Arnao&quot;,)&lt;/div&gt;`)[0];\n",
       "                popup_233a078800d572c8e7bf257e2a6ae31b.setContent(html_19dcc304d2849dee7d55a6ef44f1de6a);\n",
       "            \n",
       "        \n",
       "\n",
       "        marker_3b78ec83d489954d7ddc49f819fc7eef.bindPopup(popup_233a078800d572c8e7bf257e2a6ae31b)\n",
       "        ;\n",
       "\n",
       "        \n",
       "    \n",
       "    \n",
       "            var marker_022ee796987b5537e6bfc128beb6cfa6 = L.marker(\n",
       "                [23.113806624432474, -82.43952352231993],\n",
       "                {\n",
       "}\n",
       "            ).addTo(map_8e263dfa2d2a3ab73322a420085a56cc);\n",
       "        \n",
       "    \n",
       "            var icon_61d7e0fb675d1adba51a6cca41244021 = L.AwesomeMarkers.icon(\n",
       "                {\n",
       "  &quot;markerColor&quot;: &quot;red&quot;,\n",
       "  &quot;iconColor&quot;: &quot;white&quot;,\n",
       "  &quot;icon&quot;: &quot;cutlery&quot;,\n",
       "  &quot;prefix&quot;: &quot;fa&quot;,\n",
       "  &quot;extraClasses&quot;: &quot;fa-rotate-0&quot;,\n",
       "}\n",
       "            );\n",
       "            marker_022ee796987b5537e6bfc128beb6cfa6.setIcon(icon_61d7e0fb675d1adba51a6cca41244021);\n",
       "        \n",
       "    \n",
       "        var popup_3bc612f166c9ae1f8aad79cb4ed885aa = L.popup({\n",
       "  &quot;maxWidth&quot;: &quot;100%&quot;,\n",
       "});\n",
       "\n",
       "        \n",
       "            \n",
       "                var html_6032cc7ae7b60f09ff7055c7ecb0ba17 = $(`&lt;div id=&quot;html_6032cc7ae7b60f09ff7055c7ecb0ba17&quot; style=&quot;width: 100.0%; height: 100.0%;&quot;&gt;(&quot;&lt;b style=&#x27;font-size: 18px; &#x27;&gt;Marina&lt;/b&gt;&lt;br&gt;Dirección: 1ra Avenida entre calle 70 y 68&quot;,)&lt;/div&gt;`)[0];\n",
       "                popup_3bc612f166c9ae1f8aad79cb4ed885aa.setContent(html_6032cc7ae7b60f09ff7055c7ecb0ba17);\n",
       "            \n",
       "        \n",
       "\n",
       "        marker_022ee796987b5537e6bfc128beb6cfa6.bindPopup(popup_3bc612f166c9ae1f8aad79cb4ed885aa)\n",
       "        ;\n",
       "\n",
       "        \n",
       "    \n",
       "    \n",
       "            var marker_1b8473222ae6466938fcd30669efdbd7 = L.marker(\n",
       "                [23.142254422422297, -82.39922933157261],\n",
       "                {\n",
       "}\n",
       "            ).addTo(map_8e263dfa2d2a3ab73322a420085a56cc);\n",
       "        \n",
       "    \n",
       "            var icon_a2733dc4067a6ec11adcdcb76071ccc1 = L.AwesomeMarkers.icon(\n",
       "                {\n",
       "  &quot;markerColor&quot;: &quot;red&quot;,\n",
       "  &quot;iconColor&quot;: &quot;white&quot;,\n",
       "  &quot;icon&quot;: &quot;cutlery&quot;,\n",
       "  &quot;prefix&quot;: &quot;fa&quot;,\n",
       "  &quot;extraClasses&quot;: &quot;fa-rotate-0&quot;,\n",
       "}\n",
       "            );\n",
       "            marker_1b8473222ae6466938fcd30669efdbd7.setIcon(icon_a2733dc4067a6ec11adcdcb76071ccc1);\n",
       "        \n",
       "    \n",
       "        var popup_05c8ecf222218ad546d7ca1460a75a7b = L.popup({\n",
       "  &quot;maxWidth&quot;: &quot;100%&quot;,\n",
       "});\n",
       "\n",
       "        \n",
       "            \n",
       "                var html_7fcffa244baf0a7904626f6138571905 = $(`&lt;div id=&quot;html_7fcffa244baf0a7904626f6138571905&quot; style=&quot;width: 100.0%; height: 100.0%;&quot;&gt;(&quot;&lt;b style=&#x27;font-size: 18px; &#x27;&gt;Mar adentro&lt;/b&gt;&lt;br&gt;Dirección: &quot;,)&lt;/div&gt;`)[0];\n",
       "                popup_05c8ecf222218ad546d7ca1460a75a7b.setContent(html_7fcffa244baf0a7904626f6138571905);\n",
       "            \n",
       "        \n",
       "\n",
       "        marker_1b8473222ae6466938fcd30669efdbd7.bindPopup(popup_05c8ecf222218ad546d7ca1460a75a7b)\n",
       "        ;\n",
       "\n",
       "        \n",
       "    \n",
       "    \n",
       "            var marker_c6cb3b333033467565f28b3b2f04ed62 = L.marker(\n",
       "                [23.051960561329945, -82.2757870610061],\n",
       "                {\n",
       "}\n",
       "            ).addTo(map_8e263dfa2d2a3ab73322a420085a56cc);\n",
       "        \n",
       "    \n",
       "            var icon_786e13cfcc9d78c25c1294abdda5e03b = L.AwesomeMarkers.icon(\n",
       "                {\n",
       "  &quot;markerColor&quot;: &quot;red&quot;,\n",
       "  &quot;iconColor&quot;: &quot;white&quot;,\n",
       "  &quot;icon&quot;: &quot;cutlery&quot;,\n",
       "  &quot;prefix&quot;: &quot;fa&quot;,\n",
       "  &quot;extraClasses&quot;: &quot;fa-rotate-0&quot;,\n",
       "}\n",
       "            );\n",
       "            marker_c6cb3b333033467565f28b3b2f04ed62.setIcon(icon_786e13cfcc9d78c25c1294abdda5e03b);\n",
       "        \n",
       "    \n",
       "        var popup_c7fe793a9ede94dbc2e962d4eeab7ffe = L.popup({\n",
       "  &quot;maxWidth&quot;: &quot;100%&quot;,\n",
       "});\n",
       "\n",
       "        \n",
       "            \n",
       "                var html_fa15659679155d48b1a5a75f74592ab0 = $(`&lt;div id=&quot;html_fa15659679155d48b1a5a75f74592ab0&quot; style=&quot;width: 100.0%; height: 100.0%;&quot;&gt;(&quot;&lt;b style=&#x27;font-size: 18px; &#x27;&gt;Mc.Cesar&lt;/b&gt;&lt;br&gt;Dirección: calle primer entre 220 y 221&quot;,)&lt;/div&gt;`)[0];\n",
       "                popup_c7fe793a9ede94dbc2e962d4eeab7ffe.setContent(html_fa15659679155d48b1a5a75f74592ab0);\n",
       "            \n",
       "        \n",
       "\n",
       "        marker_c6cb3b333033467565f28b3b2f04ed62.bindPopup(popup_c7fe793a9ede94dbc2e962d4eeab7ffe)\n",
       "        ;\n",
       "\n",
       "        \n",
       "    \n",
       "    \n",
       "            var marker_96656842d8fe383d0b487611af6a2e8e = L.marker(\n",
       "                [23.13356833336648, -82.3680681381318],\n",
       "                {\n",
       "}\n",
       "            ).addTo(map_8e263dfa2d2a3ab73322a420085a56cc);\n",
       "        \n",
       "    \n",
       "            var icon_13cd45ea8ce2aae9763b936678e259c8 = L.AwesomeMarkers.icon(\n",
       "                {\n",
       "  &quot;markerColor&quot;: &quot;red&quot;,\n",
       "  &quot;iconColor&quot;: &quot;white&quot;,\n",
       "  &quot;icon&quot;: &quot;cutlery&quot;,\n",
       "  &quot;prefix&quot;: &quot;fa&quot;,\n",
       "  &quot;extraClasses&quot;: &quot;fa-rotate-0&quot;,\n",
       "}\n",
       "            );\n",
       "            marker_96656842d8fe383d0b487611af6a2e8e.setIcon(icon_13cd45ea8ce2aae9763b936678e259c8);\n",
       "        \n",
       "    \n",
       "        var popup_391acdfb337b7bbab58d79c8246b6a35 = L.popup({\n",
       "  &quot;maxWidth&quot;: &quot;100%&quot;,\n",
       "});\n",
       "\n",
       "        \n",
       "            \n",
       "                var html_8f7bad42de1ac5ab23a6598e068659ee = $(`&lt;div id=&quot;html_8f7bad42de1ac5ab23a6598e068659ee&quot; style=&quot;width: 100.0%; height: 100.0%;&quot;&gt;(&quot;&lt;b style=&#x27;font-size: 18px; &#x27;&gt;Mimosa&lt;/b&gt;&lt;br&gt;Dirección: Salud entre C.Cerrada del Paseo y Escobar&quot;,)&lt;/div&gt;`)[0];\n",
       "                popup_391acdfb337b7bbab58d79c8246b6a35.setContent(html_8f7bad42de1ac5ab23a6598e068659ee);\n",
       "            \n",
       "        \n",
       "\n",
       "        marker_96656842d8fe383d0b487611af6a2e8e.bindPopup(popup_391acdfb337b7bbab58d79c8246b6a35)\n",
       "        ;\n",
       "\n",
       "        \n",
       "    \n",
       "    \n",
       "            var marker_81fbee49be83c50a0df0dee126a50d90 = L.marker(\n",
       "                [23.113313570547763, -82.43955638650688],\n",
       "                {\n",
       "}\n",
       "            ).addTo(map_8e263dfa2d2a3ab73322a420085a56cc);\n",
       "        \n",
       "    \n",
       "            var icon_2148e0eddf60ba05795a7c1b6c78b147 = L.AwesomeMarkers.icon(\n",
       "                {\n",
       "  &quot;markerColor&quot;: &quot;red&quot;,\n",
       "  &quot;iconColor&quot;: &quot;white&quot;,\n",
       "  &quot;icon&quot;: &quot;cutlery&quot;,\n",
       "  &quot;prefix&quot;: &quot;fa&quot;,\n",
       "  &quot;extraClasses&quot;: &quot;fa-rotate-0&quot;,\n",
       "}\n",
       "            );\n",
       "            marker_81fbee49be83c50a0df0dee126a50d90.setIcon(icon_2148e0eddf60ba05795a7c1b6c78b147);\n",
       "        \n",
       "    \n",
       "        var popup_7901059b5554c5f5ef9b3c752f86ef4a = L.popup({\n",
       "  &quot;maxWidth&quot;: &quot;100%&quot;,\n",
       "});\n",
       "\n",
       "        \n",
       "            \n",
       "                var html_1ecf73430cfff5c3900b675a9537ede5 = $(`&lt;div id=&quot;html_1ecf73430cfff5c3900b675a9537ede5&quot; style=&quot;width: 100.0%; height: 100.0%;&quot;&gt;(&quot;&lt;b style=&#x27;font-size: 18px; &#x27;&gt;Muelle 70&lt;/b&gt;&lt;br&gt;Dirección: 1ra Avenida entre calle 70 y 68&quot;,)&lt;/div&gt;`)[0];\n",
       "                popup_7901059b5554c5f5ef9b3c752f86ef4a.setContent(html_1ecf73430cfff5c3900b675a9537ede5);\n",
       "            \n",
       "        \n",
       "\n",
       "        marker_81fbee49be83c50a0df0dee126a50d90.bindPopup(popup_7901059b5554c5f5ef9b3c752f86ef4a)\n",
       "        ;\n",
       "\n",
       "        \n",
       "    \n",
       "    \n",
       "            var marker_0cb79aca50046b9627646c20b3dc8846 = L.marker(\n",
       "                [23.138030572262426, -82.36420227071567],\n",
       "                {\n",
       "}\n",
       "            ).addTo(map_8e263dfa2d2a3ab73322a420085a56cc);\n",
       "        \n",
       "    \n",
       "            var icon_8525aec3466b15b74a08dfb55a27f6ec = L.AwesomeMarkers.icon(\n",
       "                {\n",
       "  &quot;markerColor&quot;: &quot;red&quot;,\n",
       "  &quot;iconColor&quot;: &quot;white&quot;,\n",
       "  &quot;icon&quot;: &quot;cutlery&quot;,\n",
       "  &quot;prefix&quot;: &quot;fa&quot;,\n",
       "  &quot;extraClasses&quot;: &quot;fa-rotate-0&quot;,\n",
       "}\n",
       "            );\n",
       "            marker_0cb79aca50046b9627646c20b3dc8846.setIcon(icon_8525aec3466b15b74a08dfb55a27f6ec);\n",
       "        \n",
       "    \n",
       "        var popup_08222bf3fc781f03db24e3f61dfbc5df = L.popup({\n",
       "  &quot;maxWidth&quot;: &quot;100%&quot;,\n",
       "});\n",
       "\n",
       "        \n",
       "            \n",
       "                var html_11bdd35a1736ea397fc7a448c3e60799 = $(`&lt;div id=&quot;html_11bdd35a1736ea397fc7a448c3e60799&quot; style=&quot;width: 100.0%; height: 100.0%;&quot;&gt;(&quot;&lt;b style=&#x27;font-size: 18px; &#x27;&gt;Mundo Pizza&lt;/b&gt;&lt;br&gt;Dirección: C. San Nicolás 309 entre Neptuno y San Miguel&quot;,)&lt;/div&gt;`)[0];\n",
       "                popup_08222bf3fc781f03db24e3f61dfbc5df.setContent(html_11bdd35a1736ea397fc7a448c3e60799);\n",
       "            \n",
       "        \n",
       "\n",
       "        marker_0cb79aca50046b9627646c20b3dc8846.bindPopup(popup_08222bf3fc781f03db24e3f61dfbc5df)\n",
       "        ;\n",
       "\n",
       "        \n",
       "    \n",
       "    \n",
       "            var marker_794ab185c46e9af5220d0173b9f83e82 = L.marker(\n",
       "                [23.140346357851502, -82.35253591702202],\n",
       "                {\n",
       "}\n",
       "            ).addTo(map_8e263dfa2d2a3ab73322a420085a56cc);\n",
       "        \n",
       "    \n",
       "            var icon_5085b5d5b0f8d8c08f065a04f93c71ed = L.AwesomeMarkers.icon(\n",
       "                {\n",
       "  &quot;markerColor&quot;: &quot;red&quot;,\n",
       "  &quot;iconColor&quot;: &quot;white&quot;,\n",
       "  &quot;icon&quot;: &quot;cutlery&quot;,\n",
       "  &quot;prefix&quot;: &quot;fa&quot;,\n",
       "  &quot;extraClasses&quot;: &quot;fa-rotate-0&quot;,\n",
       "}\n",
       "            );\n",
       "            marker_794ab185c46e9af5220d0173b9f83e82.setIcon(icon_5085b5d5b0f8d8c08f065a04f93c71ed);\n",
       "        \n",
       "    \n",
       "        var popup_a3a03770cf243565c91f823871214041 = L.popup({\n",
       "  &quot;maxWidth&quot;: &quot;100%&quot;,\n",
       "});\n",
       "\n",
       "        \n",
       "            \n",
       "                var html_8096c9312d01b10e4cae6b487473afd8 = $(`&lt;div id=&quot;html_8096c9312d01b10e4cae6b487473afd8&quot; style=&quot;width: 100.0%; height: 100.0%;&quot;&gt;(&quot;&lt;b style=&#x27;font-size: 18px; &#x27;&gt;Mythos&lt;/b&gt;&lt;br&gt;Dirección: Calle Cuba No. 211 entre Empedrado y O&#x27;Reilly&quot;,)&lt;/div&gt;`)[0];\n",
       "                popup_a3a03770cf243565c91f823871214041.setContent(html_8096c9312d01b10e4cae6b487473afd8);\n",
       "            \n",
       "        \n",
       "\n",
       "        marker_794ab185c46e9af5220d0173b9f83e82.bindPopup(popup_a3a03770cf243565c91f823871214041)\n",
       "        ;\n",
       "\n",
       "        \n",
       "    \n",
       "    \n",
       "            var marker_762ee7d12278d7b587984c349d739681 = L.marker(\n",
       "                [23.089238381444375, -82.35993723032014],\n",
       "                {\n",
       "}\n",
       "            ).addTo(map_8e263dfa2d2a3ab73322a420085a56cc);\n",
       "        \n",
       "    \n",
       "            var icon_5fa51a0d9659df188ba7ee5203e1b8f0 = L.AwesomeMarkers.icon(\n",
       "                {\n",
       "  &quot;markerColor&quot;: &quot;red&quot;,\n",
       "  &quot;iconColor&quot;: &quot;white&quot;,\n",
       "  &quot;icon&quot;: &quot;cutlery&quot;,\n",
       "  &quot;prefix&quot;: &quot;fa&quot;,\n",
       "  &quot;extraClasses&quot;: &quot;fa-rotate-0&quot;,\n",
       "}\n",
       "            );\n",
       "            marker_762ee7d12278d7b587984c349d739681.setIcon(icon_5fa51a0d9659df188ba7ee5203e1b8f0);\n",
       "        \n",
       "    \n",
       "        var popup_8a39aafdf9185fb5f7172be81eda902a = L.popup({\n",
       "  &quot;maxWidth&quot;: &quot;100%&quot;,\n",
       "});\n",
       "\n",
       "        \n",
       "            \n",
       "                var html_450880a28d566aa247e85076555126a7 = $(`&lt;div id=&quot;html_450880a28d566aa247e85076555126a7&quot; style=&quot;width: 100.0%; height: 100.0%;&quot;&gt;(&quot;&lt;b style=&#x27;font-size: 18px; &#x27;&gt;Nel Paradiso&lt;/b&gt;&lt;br&gt;Dirección: Acosta #303 esquina Armas &quot;,)&lt;/div&gt;`)[0];\n",
       "                popup_8a39aafdf9185fb5f7172be81eda902a.setContent(html_450880a28d566aa247e85076555126a7);\n",
       "            \n",
       "        \n",
       "\n",
       "        marker_762ee7d12278d7b587984c349d739681.bindPopup(popup_8a39aafdf9185fb5f7172be81eda902a)\n",
       "        ;\n",
       "\n",
       "        \n",
       "    \n",
       "    \n",
       "            var marker_a7748b73cff4b9d2c81fcacae26cf6c4 = L.marker(\n",
       "                [23.043747220202967, -82.25328637835823],\n",
       "                {\n",
       "}\n",
       "            ).addTo(map_8e263dfa2d2a3ab73322a420085a56cc);\n",
       "        \n",
       "    \n",
       "            var icon_8da7b7dad7aaa870521f3101e1ca6ac3 = L.AwesomeMarkers.icon(\n",
       "                {\n",
       "  &quot;markerColor&quot;: &quot;red&quot;,\n",
       "  &quot;iconColor&quot;: &quot;white&quot;,\n",
       "  &quot;icon&quot;: &quot;cutlery&quot;,\n",
       "  &quot;prefix&quot;: &quot;fa&quot;,\n",
       "  &quot;extraClasses&quot;: &quot;fa-rotate-0&quot;,\n",
       "}\n",
       "            );\n",
       "            marker_a7748b73cff4b9d2c81fcacae26cf6c4.setIcon(icon_8da7b7dad7aaa870521f3101e1ca6ac3);\n",
       "        \n",
       "    \n",
       "        var popup_5d906cb310089f16437803b3d0b67a19 = L.popup({\n",
       "  &quot;maxWidth&quot;: &quot;100%&quot;,\n",
       "});\n",
       "\n",
       "        \n",
       "            \n",
       "                var html_3fbc0d9a785b0c646f0c7fb7bf52b39c = $(`&lt;div id=&quot;html_3fbc0d9a785b0c646f0c7fb7bf52b39c&quot; style=&quot;width: 100.0%; height: 100.0%;&quot;&gt;(&quot;&lt;b style=&#x27;font-size: 18px; &#x27;&gt;Ole Ole&lt;/b&gt;&lt;br&gt;Dirección: 71 esquina 46 y 48, Loteria&quot;,)&lt;/div&gt;`)[0];\n",
       "                popup_5d906cb310089f16437803b3d0b67a19.setContent(html_3fbc0d9a785b0c646f0c7fb7bf52b39c);\n",
       "            \n",
       "        \n",
       "\n",
       "        marker_a7748b73cff4b9d2c81fcacae26cf6c4.bindPopup(popup_5d906cb310089f16437803b3d0b67a19)\n",
       "        ;\n",
       "\n",
       "        \n",
       "    \n",
       "    \n",
       "            var marker_dd89486624f0641206d19a591306afb7 = L.marker(\n",
       "                [23.13691089950695, -82.36186773236341],\n",
       "                {\n",
       "}\n",
       "            ).addTo(map_8e263dfa2d2a3ab73322a420085a56cc);\n",
       "        \n",
       "    \n",
       "            var icon_1320ecc99de27e6e30bd6297d7ee8e34 = L.AwesomeMarkers.icon(\n",
       "                {\n",
       "  &quot;markerColor&quot;: &quot;red&quot;,\n",
       "  &quot;iconColor&quot;: &quot;white&quot;,\n",
       "  &quot;icon&quot;: &quot;cutlery&quot;,\n",
       "  &quot;prefix&quot;: &quot;fa&quot;,\n",
       "  &quot;extraClasses&quot;: &quot;fa-rotate-0&quot;,\n",
       "}\n",
       "            );\n",
       "            marker_dd89486624f0641206d19a591306afb7.setIcon(icon_1320ecc99de27e6e30bd6297d7ee8e34);\n",
       "        \n",
       "    \n",
       "        var popup_05996d6dede9c6b7805b09faa8e4d9ab = L.popup({\n",
       "  &quot;maxWidth&quot;: &quot;100%&quot;,\n",
       "});\n",
       "\n",
       "        \n",
       "            \n",
       "                var html_ec39e445667ae63dcc8335d7b42a4579 = $(`&lt;div id=&quot;html_ec39e445667ae63dcc8335d7b42a4579&quot; style=&quot;width: 100.0%; height: 100.0%;&quot;&gt;(&quot;&lt;b style=&#x27;font-size: 18px; &#x27;&gt;Pedro&#x27;s Bar&lt;/b&gt;&lt;br&gt;Dirección: 209 Blvd. de San Rafael entre Aguila y Amistad&quot;,)&lt;/div&gt;`)[0];\n",
       "                popup_05996d6dede9c6b7805b09faa8e4d9ab.setContent(html_ec39e445667ae63dcc8335d7b42a4579);\n",
       "            \n",
       "        \n",
       "\n",
       "        marker_dd89486624f0641206d19a591306afb7.bindPopup(popup_05996d6dede9c6b7805b09faa8e4d9ab)\n",
       "        ;\n",
       "\n",
       "        \n",
       "    \n",
       "    \n",
       "            var marker_7e0c37df223dae639982c0b51217eeec = L.marker(\n",
       "                [23.139325457451932, -82.35937998794891],\n",
       "                {\n",
       "}\n",
       "            ).addTo(map_8e263dfa2d2a3ab73322a420085a56cc);\n",
       "        \n",
       "    \n",
       "            var icon_63a75a22e2b5d5629f476fa935213a22 = L.AwesomeMarkers.icon(\n",
       "                {\n",
       "  &quot;markerColor&quot;: &quot;red&quot;,\n",
       "  &quot;iconColor&quot;: &quot;white&quot;,\n",
       "  &quot;icon&quot;: &quot;cutlery&quot;,\n",
       "  &quot;prefix&quot;: &quot;fa&quot;,\n",
       "  &quot;extraClasses&quot;: &quot;fa-rotate-0&quot;,\n",
       "}\n",
       "            );\n",
       "            marker_7e0c37df223dae639982c0b51217eeec.setIcon(icon_63a75a22e2b5d5629f476fa935213a22);\n",
       "        \n",
       "    \n",
       "        var popup_8c47a94f10f6ccd3ff000d9296d83bee = L.popup({\n",
       "  &quot;maxWidth&quot;: &quot;100%&quot;,\n",
       "});\n",
       "\n",
       "        \n",
       "            \n",
       "                var html_2a0eedef642d69e7192e0157f68acf5d = $(`&lt;div id=&quot;html_2a0eedef642d69e7192e0157f68acf5d&quot; style=&quot;width: 100.0%; height: 100.0%;&quot;&gt;(&quot;&lt;b style=&#x27;font-size: 18px; &#x27;&gt;Plan H&lt;/b&gt;&lt;br&gt;Dirección: 308 P de Marti Ánimas y Virtudes&quot;,)&lt;/div&gt;`)[0];\n",
       "                popup_8c47a94f10f6ccd3ff000d9296d83bee.setContent(html_2a0eedef642d69e7192e0157f68acf5d);\n",
       "            \n",
       "        \n",
       "\n",
       "        marker_7e0c37df223dae639982c0b51217eeec.bindPopup(popup_8c47a94f10f6ccd3ff000d9296d83bee)\n",
       "        ;\n",
       "\n",
       "        \n",
       "    \n",
       "    \n",
       "            var marker_2da2a1b0cc0dcfa23749bf93d76cbc3e = L.marker(\n",
       "                [23.122083546215134, -82.30797703533594],\n",
       "                {\n",
       "}\n",
       "            ).addTo(map_8e263dfa2d2a3ab73322a420085a56cc);\n",
       "        \n",
       "    \n",
       "            var icon_91974e84c747e97282709b7dacd3ee10 = L.AwesomeMarkers.icon(\n",
       "                {\n",
       "  &quot;markerColor&quot;: &quot;red&quot;,\n",
       "  &quot;iconColor&quot;: &quot;white&quot;,\n",
       "  &quot;icon&quot;: &quot;cutlery&quot;,\n",
       "  &quot;prefix&quot;: &quot;fa&quot;,\n",
       "  &quot;extraClasses&quot;: &quot;fa-rotate-0&quot;,\n",
       "}\n",
       "            );\n",
       "            marker_2da2a1b0cc0dcfa23749bf93d76cbc3e.setIcon(icon_91974e84c747e97282709b7dacd3ee10);\n",
       "        \n",
       "    \n",
       "        var popup_d82e625b5eabd155d929c9ed626b01ae = L.popup({\n",
       "  &quot;maxWidth&quot;: &quot;100%&quot;,\n",
       "});\n",
       "\n",
       "        \n",
       "            \n",
       "                var html_a83999a2cf301a77cbb21d83faf64853 = $(`&lt;div id=&quot;html_a83999a2cf301a77cbb21d83faf64853&quot; style=&quot;width: 100.0%; height: 100.0%;&quot;&gt;(&quot;&lt;b style=&#x27;font-size: 18px; &#x27;&gt;Polo&lt;/b&gt;&lt;br&gt;Dirección: Calle Cruz Verde entre Independencia Este y Barreto Este&quot;,)&lt;/div&gt;`)[0];\n",
       "                popup_d82e625b5eabd155d929c9ed626b01ae.setContent(html_a83999a2cf301a77cbb21d83faf64853);\n",
       "            \n",
       "        \n",
       "\n",
       "        marker_2da2a1b0cc0dcfa23749bf93d76cbc3e.bindPopup(popup_d82e625b5eabd155d929c9ed626b01ae)\n",
       "        ;\n",
       "\n",
       "        \n",
       "    \n",
       "    \n",
       "            var marker_8f6aad1bdacc59810bfa5b6285aad726 = L.marker(\n",
       "                [23.067659194580123, -82.4512542109271],\n",
       "                {\n",
       "}\n",
       "            ).addTo(map_8e263dfa2d2a3ab73322a420085a56cc);\n",
       "        \n",
       "    \n",
       "            var icon_0931793d29e4d008c3242077e541c72a = L.AwesomeMarkers.icon(\n",
       "                {\n",
       "  &quot;markerColor&quot;: &quot;red&quot;,\n",
       "  &quot;iconColor&quot;: &quot;white&quot;,\n",
       "  &quot;icon&quot;: &quot;cutlery&quot;,\n",
       "  &quot;prefix&quot;: &quot;fa&quot;,\n",
       "  &quot;extraClasses&quot;: &quot;fa-rotate-0&quot;,\n",
       "}\n",
       "            );\n",
       "            marker_8f6aad1bdacc59810bfa5b6285aad726.setIcon(icon_0931793d29e4d008c3242077e541c72a);\n",
       "        \n",
       "    \n",
       "        var popup_8dd2fd1a5c333d76618b036a98f7e7cd = L.popup({\n",
       "  &quot;maxWidth&quot;: &quot;100%&quot;,\n",
       "});\n",
       "\n",
       "        \n",
       "            \n",
       "                var html_5802a887e834a4ab87ecf4b9c26e3b64 = $(`&lt;div id=&quot;html_5802a887e834a4ab87ecf4b9c26e3b64&quot; style=&quot;width: 100.0%; height: 100.0%;&quot;&gt;(&quot;&lt;b style=&#x27;font-size: 18px; &#x27;&gt;Ranchon Don Martin&lt;/b&gt;&lt;br&gt;Dirección: Calle 198 no.3733 entre 37 y 45&quot;,)&lt;/div&gt;`)[0];\n",
       "                popup_8dd2fd1a5c333d76618b036a98f7e7cd.setContent(html_5802a887e834a4ab87ecf4b9c26e3b64);\n",
       "            \n",
       "        \n",
       "\n",
       "        marker_8f6aad1bdacc59810bfa5b6285aad726.bindPopup(popup_8dd2fd1a5c333d76618b036a98f7e7cd)\n",
       "        ;\n",
       "\n",
       "        \n",
       "    \n",
       "    \n",
       "            var marker_6ef40586b1a26d5e38535a2869eae0a1 = L.marker(\n",
       "                [23.1593325543624, -82.28055542260424],\n",
       "                {\n",
       "}\n",
       "            ).addTo(map_8e263dfa2d2a3ab73322a420085a56cc);\n",
       "        \n",
       "    \n",
       "            var icon_c3f0cf8137ad488b0ea871dc5bb2c845 = L.AwesomeMarkers.icon(\n",
       "                {\n",
       "  &quot;markerColor&quot;: &quot;red&quot;,\n",
       "  &quot;iconColor&quot;: &quot;white&quot;,\n",
       "  &quot;icon&quot;: &quot;cutlery&quot;,\n",
       "  &quot;prefix&quot;: &quot;fa&quot;,\n",
       "  &quot;extraClasses&quot;: &quot;fa-rotate-0&quot;,\n",
       "}\n",
       "            );\n",
       "            marker_6ef40586b1a26d5e38535a2869eae0a1.setIcon(icon_c3f0cf8137ad488b0ea871dc5bb2c845);\n",
       "        \n",
       "    \n",
       "        var popup_d47377c56500169ee0baaeec9b32b889 = L.popup({\n",
       "  &quot;maxWidth&quot;: &quot;100%&quot;,\n",
       "});\n",
       "\n",
       "        \n",
       "            \n",
       "                var html_19a971c6da4d125b38af14b9608bb756 = $(`&lt;div id=&quot;html_19a971c6da4d125b38af14b9608bb756&quot; style=&quot;width: 100.0%; height: 100.0%;&quot;&gt;(&quot;&lt;b style=&#x27;font-size: 18px; &#x27;&gt;Ranchon Hanoi&lt;/b&gt;&lt;br&gt;Dirección: Parque Hanoi, zona 6, Alamar&quot;,)&lt;/div&gt;`)[0];\n",
       "                popup_d47377c56500169ee0baaeec9b32b889.setContent(html_19a971c6da4d125b38af14b9608bb756);\n",
       "            \n",
       "        \n",
       "\n",
       "        marker_6ef40586b1a26d5e38535a2869eae0a1.bindPopup(popup_d47377c56500169ee0baaeec9b32b889)\n",
       "        ;\n",
       "\n",
       "        \n",
       "    \n",
       "    \n",
       "            var marker_4b2c83f236536263a460754f0ef7257c = L.marker(\n",
       "                [23.143226340667947, -82.39569107139691],\n",
       "                {\n",
       "}\n",
       "            ).addTo(map_8e263dfa2d2a3ab73322a420085a56cc);\n",
       "        \n",
       "    \n",
       "            var icon_35a02322e0a0249cdc5ecad9d3b3e026 = L.AwesomeMarkers.icon(\n",
       "                {\n",
       "  &quot;markerColor&quot;: &quot;red&quot;,\n",
       "  &quot;iconColor&quot;: &quot;white&quot;,\n",
       "  &quot;icon&quot;: &quot;cutlery&quot;,\n",
       "  &quot;prefix&quot;: &quot;fa&quot;,\n",
       "  &quot;extraClasses&quot;: &quot;fa-rotate-0&quot;,\n",
       "}\n",
       "            );\n",
       "            marker_4b2c83f236536263a460754f0ef7257c.setIcon(icon_35a02322e0a0249cdc5ecad9d3b3e026);\n",
       "        \n",
       "    \n",
       "        var popup_6cb32e419b82fd4487334ce5fd8a9fe4 = L.popup({\n",
       "  &quot;maxWidth&quot;: &quot;100%&quot;,\n",
       "});\n",
       "\n",
       "        \n",
       "            \n",
       "                var html_a03f17daa0b5cc12b1aab382cd1927dc = $(`&lt;div id=&quot;html_a03f17daa0b5cc12b1aab382cd1927dc&quot; style=&quot;width: 100.0%; height: 100.0%;&quot;&gt;(&quot;&lt;b style=&#x27;font-size: 18px; &#x27;&gt;Razones y Motivos&lt;/b&gt;&lt;br&gt;Dirección: Calle F No.63 entre 3era y 5ta, Vedado&quot;,)&lt;/div&gt;`)[0];\n",
       "                popup_6cb32e419b82fd4487334ce5fd8a9fe4.setContent(html_a03f17daa0b5cc12b1aab382cd1927dc);\n",
       "            \n",
       "        \n",
       "\n",
       "        marker_4b2c83f236536263a460754f0ef7257c.bindPopup(popup_6cb32e419b82fd4487334ce5fd8a9fe4)\n",
       "        ;\n",
       "\n",
       "        \n",
       "    \n",
       "    \n",
       "            var marker_cb53180a4aaed87276c85f09eb3741c4 = L.marker(\n",
       "                [23.137547259787535, -82.36095379003397],\n",
       "                {\n",
       "}\n",
       "            ).addTo(map_8e263dfa2d2a3ab73322a420085a56cc);\n",
       "        \n",
       "    \n",
       "            var icon_aae89e548db0c548d6f55a1c3716796e = L.AwesomeMarkers.icon(\n",
       "                {\n",
       "  &quot;markerColor&quot;: &quot;red&quot;,\n",
       "  &quot;iconColor&quot;: &quot;white&quot;,\n",
       "  &quot;icon&quot;: &quot;cutlery&quot;,\n",
       "  &quot;prefix&quot;: &quot;fa&quot;,\n",
       "  &quot;extraClasses&quot;: &quot;fa-rotate-0&quot;,\n",
       "}\n",
       "            );\n",
       "            marker_cb53180a4aaed87276c85f09eb3741c4.setIcon(icon_aae89e548db0c548d6f55a1c3716796e);\n",
       "        \n",
       "    \n",
       "        var popup_8628d72b7c0c9945229361415beb77d5 = L.popup({\n",
       "  &quot;maxWidth&quot;: &quot;100%&quot;,\n",
       "});\n",
       "\n",
       "        \n",
       "            \n",
       "                var html_65a7c80cd09e2566036b187696727539 = $(`&lt;div id=&quot;html_65a7c80cd09e2566036b187696727539&quot; style=&quot;width: 100.0%; height: 100.0%;&quot;&gt;(&quot;&lt;b style=&#x27;font-size: 18px; &#x27;&gt;Ricardon&lt;/b&gt;&lt;br&gt;Dirección: Industria entre San Miguel y Blvd de San Rafael&quot;,)&lt;/div&gt;`)[0];\n",
       "                popup_8628d72b7c0c9945229361415beb77d5.setContent(html_65a7c80cd09e2566036b187696727539);\n",
       "            \n",
       "        \n",
       "\n",
       "        marker_cb53180a4aaed87276c85f09eb3741c4.bindPopup(popup_8628d72b7c0c9945229361415beb77d5)\n",
       "        ;\n",
       "\n",
       "        \n",
       "    \n",
       "    \n",
       "            var marker_3b140abbebd8ae7a2c376e557da1f7cc = L.marker(\n",
       "                [23.126245278270186, -82.38010644455453],\n",
       "                {\n",
       "}\n",
       "            ).addTo(map_8e263dfa2d2a3ab73322a420085a56cc);\n",
       "        \n",
       "    \n",
       "            var icon_d3a606394ac8e743abe0d76bdeda2bfd = L.AwesomeMarkers.icon(\n",
       "                {\n",
       "  &quot;markerColor&quot;: &quot;red&quot;,\n",
       "  &quot;iconColor&quot;: &quot;white&quot;,\n",
       "  &quot;icon&quot;: &quot;cutlery&quot;,\n",
       "  &quot;prefix&quot;: &quot;fa&quot;,\n",
       "  &quot;extraClasses&quot;: &quot;fa-rotate-0&quot;,\n",
       "}\n",
       "            );\n",
       "            marker_3b140abbebd8ae7a2c376e557da1f7cc.setIcon(icon_d3a606394ac8e743abe0d76bdeda2bfd);\n",
       "        \n",
       "    \n",
       "        var popup_13e8c15284a875b6ef48eb1ae42afb14 = L.popup({\n",
       "  &quot;maxWidth&quot;: &quot;100%&quot;,\n",
       "});\n",
       "\n",
       "        \n",
       "            \n",
       "                var html_7d4f8c124f8b2a21c67a5775560d92a1 = $(`&lt;div id=&quot;html_7d4f8c124f8b2a21c67a5775560d92a1&quot; style=&quot;width: 100.0%; height: 100.0%;&quot;&gt;(&quot;&lt;b style=&#x27;font-size: 18px; &#x27;&gt;Rico Rico&lt;/b&gt;&lt;br&gt;Dirección: Calle Ayestarán entre Perfecto Lacoste y Aranguren&quot;,)&lt;/div&gt;`)[0];\n",
       "                popup_13e8c15284a875b6ef48eb1ae42afb14.setContent(html_7d4f8c124f8b2a21c67a5775560d92a1);\n",
       "            \n",
       "        \n",
       "\n",
       "        marker_3b140abbebd8ae7a2c376e557da1f7cc.bindPopup(popup_13e8c15284a875b6ef48eb1ae42afb14)\n",
       "        ;\n",
       "\n",
       "        \n",
       "    \n",
       "    \n",
       "            var marker_28c7c5aa0af2bf89c91eed93e4e6ae80 = L.marker(\n",
       "                [23.094673000199286, -82.41860913032004],\n",
       "                {\n",
       "}\n",
       "            ).addTo(map_8e263dfa2d2a3ab73322a420085a56cc);\n",
       "        \n",
       "    \n",
       "            var icon_9badfb9fa6b1aa67d6ee23531cf6933d = L.AwesomeMarkers.icon(\n",
       "                {\n",
       "  &quot;markerColor&quot;: &quot;red&quot;,\n",
       "  &quot;iconColor&quot;: &quot;white&quot;,\n",
       "  &quot;icon&quot;: &quot;cutlery&quot;,\n",
       "  &quot;prefix&quot;: &quot;fa&quot;,\n",
       "  &quot;extraClasses&quot;: &quot;fa-rotate-0&quot;,\n",
       "}\n",
       "            );\n",
       "            marker_28c7c5aa0af2bf89c91eed93e4e6ae80.setIcon(icon_9badfb9fa6b1aa67d6ee23531cf6933d);\n",
       "        \n",
       "    \n",
       "        var popup_5512699ce2dc0e065ab2df9abe4e6c2c = L.popup({\n",
       "  &quot;maxWidth&quot;: &quot;100%&quot;,\n",
       "});\n",
       "\n",
       "        \n",
       "            \n",
       "                var html_0aac0891bd57fb932eef96417ef18c9d = $(`&lt;div id=&quot;html_0aac0891bd57fb932eef96417ef18c9d&quot; style=&quot;width: 100.0%; height: 100.0%;&quot;&gt;(&quot;&lt;b style=&#x27;font-size: 18px; &#x27;&gt;Restaurante Rodney (Tropicana)&lt;/b&gt;&lt;br&gt;Dirección: 72A,Avenida 41&quot;,)&lt;/div&gt;`)[0];\n",
       "                popup_5512699ce2dc0e065ab2df9abe4e6c2c.setContent(html_0aac0891bd57fb932eef96417ef18c9d);\n",
       "            \n",
       "        \n",
       "\n",
       "        marker_28c7c5aa0af2bf89c91eed93e4e6ae80.bindPopup(popup_5512699ce2dc0e065ab2df9abe4e6c2c)\n",
       "        ;\n",
       "\n",
       "        \n",
       "    \n",
       "    \n",
       "            var marker_b89a4d3c42092a0ca04ce31fd2bfbed7 = L.marker(\n",
       "                [23.13411346121413, -82.37839877964456],\n",
       "                {\n",
       "}\n",
       "            ).addTo(map_8e263dfa2d2a3ab73322a420085a56cc);\n",
       "        \n",
       "    \n",
       "            var icon_a5dadec500a07b19a55df067ff17a408 = L.AwesomeMarkers.icon(\n",
       "                {\n",
       "  &quot;markerColor&quot;: &quot;red&quot;,\n",
       "  &quot;iconColor&quot;: &quot;white&quot;,\n",
       "  &quot;icon&quot;: &quot;cutlery&quot;,\n",
       "  &quot;prefix&quot;: &quot;fa&quot;,\n",
       "  &quot;extraClasses&quot;: &quot;fa-rotate-0&quot;,\n",
       "}\n",
       "            );\n",
       "            marker_b89a4d3c42092a0ca04ce31fd2bfbed7.setIcon(icon_a5dadec500a07b19a55df067ff17a408);\n",
       "        \n",
       "    \n",
       "        var popup_5b2fd27ef11b653f83ae13add7b487ec = L.popup({\n",
       "  &quot;maxWidth&quot;: &quot;100%&quot;,\n",
       "});\n",
       "\n",
       "        \n",
       "            \n",
       "                var html_6de568f654d180f14865c06769b5704c = $(`&lt;div id=&quot;html_6de568f654d180f14865c06769b5704c&quot; style=&quot;width: 100.0%; height: 100.0%;&quot;&gt;(&quot;&lt;b style=&#x27;font-size: 18px; &#x27;&gt;Salchipizza&lt;/b&gt;&lt;br&gt;Dirección: Calle Infanta entre Zanja y Valle&quot;,)&lt;/div&gt;`)[0];\n",
       "                popup_5b2fd27ef11b653f83ae13add7b487ec.setContent(html_6de568f654d180f14865c06769b5704c);\n",
       "            \n",
       "        \n",
       "\n",
       "        marker_b89a4d3c42092a0ca04ce31fd2bfbed7.bindPopup(popup_5b2fd27ef11b653f83ae13add7b487ec)\n",
       "        ;\n",
       "\n",
       "        \n",
       "    \n",
       "    \n",
       "            var marker_ad721e310bc23de17fa92ca8cda93487 = L.marker(\n",
       "                [23.13562239054984, -82.37745889737107],\n",
       "                {\n",
       "}\n",
       "            ).addTo(map_8e263dfa2d2a3ab73322a420085a56cc);\n",
       "        \n",
       "    \n",
       "            var icon_24d19244798de72db12f5d03cf46b6bb = L.AwesomeMarkers.icon(\n",
       "                {\n",
       "  &quot;markerColor&quot;: &quot;red&quot;,\n",
       "  &quot;iconColor&quot;: &quot;white&quot;,\n",
       "  &quot;icon&quot;: &quot;cutlery&quot;,\n",
       "  &quot;prefix&quot;: &quot;fa&quot;,\n",
       "  &quot;extraClasses&quot;: &quot;fa-rotate-0&quot;,\n",
       "}\n",
       "            );\n",
       "            marker_ad721e310bc23de17fa92ca8cda93487.setIcon(icon_24d19244798de72db12f5d03cf46b6bb);\n",
       "        \n",
       "    \n",
       "        var popup_4416c99f054b796e601401d0abb2511a = L.popup({\n",
       "  &quot;maxWidth&quot;: &quot;100%&quot;,\n",
       "});\n",
       "\n",
       "        \n",
       "            \n",
       "                var html_8461f69ab3465cfffb4caaccb5fac546 = $(`&lt;div id=&quot;html_8461f69ab3465cfffb4caaccb5fac546&quot; style=&quot;width: 100.0%; height: 100.0%;&quot;&gt;(&quot;&lt;b style=&#x27;font-size: 18px; &#x27;&gt;San Rafael 1051&lt;/b&gt;&lt;br&gt;Dirección: San Fransico entre San Rafael y San Martin&quot;,)&lt;/div&gt;`)[0];\n",
       "                popup_4416c99f054b796e601401d0abb2511a.setContent(html_8461f69ab3465cfffb4caaccb5fac546);\n",
       "            \n",
       "        \n",
       "\n",
       "        marker_ad721e310bc23de17fa92ca8cda93487.bindPopup(popup_4416c99f054b796e601401d0abb2511a)\n",
       "        ;\n",
       "\n",
       "        \n",
       "    \n",
       "    \n",
       "            var marker_f9636655e21572db6c66a22cf3b47c10 = L.marker(\n",
       "                [23.117449358542444, -82.38458676119917],\n",
       "                {\n",
       "}\n",
       "            ).addTo(map_8e263dfa2d2a3ab73322a420085a56cc);\n",
       "        \n",
       "    \n",
       "            var icon_c66c7194773ebb04b22d2f32ca425bc0 = L.AwesomeMarkers.icon(\n",
       "                {\n",
       "  &quot;markerColor&quot;: &quot;red&quot;,\n",
       "  &quot;iconColor&quot;: &quot;white&quot;,\n",
       "  &quot;icon&quot;: &quot;cutlery&quot;,\n",
       "  &quot;prefix&quot;: &quot;fa&quot;,\n",
       "  &quot;extraClasses&quot;: &quot;fa-rotate-0&quot;,\n",
       "}\n",
       "            );\n",
       "            marker_f9636655e21572db6c66a22cf3b47c10.setIcon(icon_c66c7194773ebb04b22d2f32ca425bc0);\n",
       "        \n",
       "    \n",
       "        var popup_1c5ff5a5e60e9f9ea524380cb549cdf9 = L.popup({\n",
       "  &quot;maxWidth&quot;: &quot;100%&quot;,\n",
       "});\n",
       "\n",
       "        \n",
       "            \n",
       "                var html_4a8362b9442c4996a765a24116415fc9 = $(`&lt;div id=&quot;html_4a8362b9442c4996a765a24116415fc9&quot; style=&quot;width: 100.0%; height: 100.0%;&quot;&gt;(&quot;&lt;b style=&#x27;font-size: 18px; &#x27;&gt;Shapuceros&lt;/b&gt;&lt;br&gt;Dirección: Calzada de Ayestarán entre San Pedro y Ayuntamineto&quot;,)&lt;/div&gt;`)[0];\n",
       "                popup_1c5ff5a5e60e9f9ea524380cb549cdf9.setContent(html_4a8362b9442c4996a765a24116415fc9);\n",
       "            \n",
       "        \n",
       "\n",
       "        marker_f9636655e21572db6c66a22cf3b47c10.bindPopup(popup_1c5ff5a5e60e9f9ea524380cb549cdf9)\n",
       "        ;\n",
       "\n",
       "        \n",
       "    \n",
       "    \n",
       "            var marker_30ad1ca84d440550e156108b82bfce9d = L.marker(\n",
       "                [23.138045288912124, -82.35708342337576],\n",
       "                {\n",
       "}\n",
       "            ).addTo(map_8e263dfa2d2a3ab73322a420085a56cc);\n",
       "        \n",
       "    \n",
       "            var icon_98c6115daf0d86465ef491542873323c = L.AwesomeMarkers.icon(\n",
       "                {\n",
       "  &quot;markerColor&quot;: &quot;red&quot;,\n",
       "  &quot;iconColor&quot;: &quot;white&quot;,\n",
       "  &quot;icon&quot;: &quot;cutlery&quot;,\n",
       "  &quot;prefix&quot;: &quot;fa&quot;,\n",
       "  &quot;extraClasses&quot;: &quot;fa-rotate-0&quot;,\n",
       "}\n",
       "            );\n",
       "            marker_30ad1ca84d440550e156108b82bfce9d.setIcon(icon_98c6115daf0d86465ef491542873323c);\n",
       "        \n",
       "    \n",
       "        var popup_41cce208c6f154c6cf5507cd3906d069 = L.popup({\n",
       "  &quot;maxWidth&quot;: &quot;100%&quot;,\n",
       "});\n",
       "\n",
       "        \n",
       "            \n",
       "                var html_046ce31d06647f9a2f0909ab65854a94 = $(`&lt;div id=&quot;html_046ce31d06647f9a2f0909ab65854a94&quot; style=&quot;width: 100.0%; height: 100.0%;&quot;&gt;(&quot;&lt;b style=&#x27;font-size: 18px; &#x27;&gt;Sibarita&lt;/b&gt;&lt;br&gt;Dirección: O&#x27;Reilly #528 entre Bernaza y Villegas&quot;,)&lt;/div&gt;`)[0];\n",
       "                popup_41cce208c6f154c6cf5507cd3906d069.setContent(html_046ce31d06647f9a2f0909ab65854a94);\n",
       "            \n",
       "        \n",
       "\n",
       "        marker_30ad1ca84d440550e156108b82bfce9d.bindPopup(popup_41cce208c6f154c6cf5507cd3906d069)\n",
       "        ;\n",
       "\n",
       "        \n",
       "    \n",
       "    \n",
       "            var marker_720cda41a5b0c7bfc98769890d4c2de1 = L.marker(\n",
       "                [23.133637707331292, -82.39154731355289],\n",
       "                {\n",
       "}\n",
       "            ).addTo(map_8e263dfa2d2a3ab73322a420085a56cc);\n",
       "        \n",
       "    \n",
       "            var icon_3c0674226c06c3d3e6edaf9cf03a03f5 = L.AwesomeMarkers.icon(\n",
       "                {\n",
       "  &quot;markerColor&quot;: &quot;red&quot;,\n",
       "  &quot;iconColor&quot;: &quot;white&quot;,\n",
       "  &quot;icon&quot;: &quot;cutlery&quot;,\n",
       "  &quot;prefix&quot;: &quot;fa&quot;,\n",
       "  &quot;extraClasses&quot;: &quot;fa-rotate-0&quot;,\n",
       "}\n",
       "            );\n",
       "            marker_720cda41a5b0c7bfc98769890d4c2de1.setIcon(icon_3c0674226c06c3d3e6edaf9cf03a03f5);\n",
       "        \n",
       "    \n",
       "        var popup_0ea3e7ac2adcaab9b2f32346cb7850fb = L.popup({\n",
       "  &quot;maxWidth&quot;: &quot;100%&quot;,\n",
       "});\n",
       "\n",
       "        \n",
       "            \n",
       "                var html_00734ef0b88a6b660eab2e7052722823 = $(`&lt;div id=&quot;html_00734ef0b88a6b660eab2e7052722823&quot; style=&quot;width: 100.0%; height: 100.0%;&quot;&gt;(&quot;&lt;b style=&#x27;font-size: 18px; &#x27;&gt;Sonar contigo&lt;/b&gt;&lt;br&gt;Dirección: Esquina Ave 23 y Calle C&quot;,)&lt;/div&gt;`)[0];\n",
       "                popup_0ea3e7ac2adcaab9b2f32346cb7850fb.setContent(html_00734ef0b88a6b660eab2e7052722823);\n",
       "            \n",
       "        \n",
       "\n",
       "        marker_720cda41a5b0c7bfc98769890d4c2de1.bindPopup(popup_0ea3e7ac2adcaab9b2f32346cb7850fb)\n",
       "        ;\n",
       "\n",
       "        \n",
       "    \n",
       "    \n",
       "            var marker_1c2294ca4ffa11edbf1f8fff3e837eea = L.marker(\n",
       "                [23.127430900373163, -82.3996309593316],\n",
       "                {\n",
       "}\n",
       "            ).addTo(map_8e263dfa2d2a3ab73322a420085a56cc);\n",
       "        \n",
       "    \n",
       "            var icon_3185b451760360ca8307d07df7eba372 = L.AwesomeMarkers.icon(\n",
       "                {\n",
       "  &quot;markerColor&quot;: &quot;red&quot;,\n",
       "  &quot;iconColor&quot;: &quot;white&quot;,\n",
       "  &quot;icon&quot;: &quot;cutlery&quot;,\n",
       "  &quot;prefix&quot;: &quot;fa&quot;,\n",
       "  &quot;extraClasses&quot;: &quot;fa-rotate-0&quot;,\n",
       "}\n",
       "            );\n",
       "            marker_1c2294ca4ffa11edbf1f8fff3e837eea.setIcon(icon_3185b451760360ca8307d07df7eba372);\n",
       "        \n",
       "    \n",
       "        var popup_02fb2416de45b5da496170a7f30bccaa = L.popup({\n",
       "  &quot;maxWidth&quot;: &quot;100%&quot;,\n",
       "});\n",
       "\n",
       "        \n",
       "            \n",
       "                var html_bef9af7db9f216405eb7796c3328b769 = $(`&lt;div id=&quot;html_bef9af7db9f216405eb7796c3328b769&quot; style=&quot;width: 100.0%; height: 100.0%;&quot;&gt;(&quot;&lt;b style=&#x27;font-size: 18px; &#x27;&gt;Spot Bar&lt;/b&gt;&lt;br&gt;Dirección: 23 y 12, Vedado&quot;,)&lt;/div&gt;`)[0];\n",
       "                popup_02fb2416de45b5da496170a7f30bccaa.setContent(html_bef9af7db9f216405eb7796c3328b769);\n",
       "            \n",
       "        \n",
       "\n",
       "        marker_1c2294ca4ffa11edbf1f8fff3e837eea.bindPopup(popup_02fb2416de45b5da496170a7f30bccaa)\n",
       "        ;\n",
       "\n",
       "        \n",
       "    \n",
       "    \n",
       "            var marker_7be3486cd2fe1b4815974d67269e4865 = L.marker(\n",
       "                [23.141094353520803, -82.35193028818678],\n",
       "                {\n",
       "}\n",
       "            ).addTo(map_8e263dfa2d2a3ab73322a420085a56cc);\n",
       "        \n",
       "    \n",
       "            var icon_b1741386834d909a58a7151aae4a5a35 = L.AwesomeMarkers.icon(\n",
       "                {\n",
       "  &quot;markerColor&quot;: &quot;red&quot;,\n",
       "  &quot;iconColor&quot;: &quot;white&quot;,\n",
       "  &quot;icon&quot;: &quot;cutlery&quot;,\n",
       "  &quot;prefix&quot;: &quot;fa&quot;,\n",
       "  &quot;extraClasses&quot;: &quot;fa-rotate-0&quot;,\n",
       "}\n",
       "            );\n",
       "            marker_7be3486cd2fe1b4815974d67269e4865.setIcon(icon_b1741386834d909a58a7151aae4a5a35);\n",
       "        \n",
       "    \n",
       "        var popup_bf328a503d2ead3c1b0d976696da94a1 = L.popup({\n",
       "  &quot;maxWidth&quot;: &quot;100%&quot;,\n",
       "});\n",
       "\n",
       "        \n",
       "            \n",
       "                var html_6d41c16f430dae41826517e19930ae74 = $(`&lt;div id=&quot;html_6d41c16f430dae41826517e19930ae74&quot; style=&quot;width: 100.0%; height: 100.0%;&quot;&gt;(&quot;&lt;b style=&#x27;font-size: 18px; &#x27;&gt;Star Cafe&lt;/b&gt;&lt;br&gt;Dirección: 216 Empedrado&quot;,)&lt;/div&gt;`)[0];\n",
       "                popup_bf328a503d2ead3c1b0d976696da94a1.setContent(html_6d41c16f430dae41826517e19930ae74);\n",
       "            \n",
       "        \n",
       "\n",
       "        marker_7be3486cd2fe1b4815974d67269e4865.bindPopup(popup_bf328a503d2ead3c1b0d976696da94a1)\n",
       "        ;\n",
       "\n",
       "        \n",
       "    \n",
       "    \n",
       "            var marker_49f89fd2a97cca15cc97a79de968f3d3 = L.marker(\n",
       "                [23.142676112791115, -82.39937586429151],\n",
       "                {\n",
       "}\n",
       "            ).addTo(map_8e263dfa2d2a3ab73322a420085a56cc);\n",
       "        \n",
       "    \n",
       "            var icon_75c9c62d6bf87ea47d6137f91f725e2c = L.AwesomeMarkers.icon(\n",
       "                {\n",
       "  &quot;markerColor&quot;: &quot;red&quot;,\n",
       "  &quot;iconColor&quot;: &quot;white&quot;,\n",
       "  &quot;icon&quot;: &quot;cutlery&quot;,\n",
       "  &quot;prefix&quot;: &quot;fa&quot;,\n",
       "  &quot;extraClasses&quot;: &quot;fa-rotate-0&quot;,\n",
       "}\n",
       "            );\n",
       "            marker_49f89fd2a97cca15cc97a79de968f3d3.setIcon(icon_75c9c62d6bf87ea47d6137f91f725e2c);\n",
       "        \n",
       "    \n",
       "        var popup_069caf99ab4111d7c330292c2b1d6594 = L.popup({\n",
       "  &quot;maxWidth&quot;: &quot;100%&quot;,\n",
       "});\n",
       "\n",
       "        \n",
       "            \n",
       "                var html_3b663c6e2166094646fcd178cf80dc1e = $(`&lt;div id=&quot;html_3b663c6e2166094646fcd178cf80dc1e&quot; style=&quot;width: 100.0%; height: 100.0%;&quot;&gt;(&quot;&lt;b style=&#x27;font-size: 18px; &#x27;&gt;Tablazo&lt;/b&gt;&lt;br&gt;Dirección: Calle 1era entre C y D, Vedado.&quot;,)&lt;/div&gt;`)[0];\n",
       "                popup_069caf99ab4111d7c330292c2b1d6594.setContent(html_3b663c6e2166094646fcd178cf80dc1e);\n",
       "            \n",
       "        \n",
       "\n",
       "        marker_49f89fd2a97cca15cc97a79de968f3d3.bindPopup(popup_069caf99ab4111d7c330292c2b1d6594)\n",
       "        ;\n",
       "\n",
       "        \n",
       "    \n",
       "    \n",
       "            var marker_feb6e3eb780ea2a997e90baa5d61aaf1 = L.marker(\n",
       "                [22.971547817920836, -82.3848668593548],\n",
       "                {\n",
       "}\n",
       "            ).addTo(map_8e263dfa2d2a3ab73322a420085a56cc);\n",
       "        \n",
       "    \n",
       "            var icon_a93a51a95d7117e937ce5d7d1b5ef7c5 = L.AwesomeMarkers.icon(\n",
       "                {\n",
       "  &quot;markerColor&quot;: &quot;red&quot;,\n",
       "  &quot;iconColor&quot;: &quot;white&quot;,\n",
       "  &quot;icon&quot;: &quot;cutlery&quot;,\n",
       "  &quot;prefix&quot;: &quot;fa&quot;,\n",
       "  &quot;extraClasses&quot;: &quot;fa-rotate-0&quot;,\n",
       "}\n",
       "            );\n",
       "            marker_feb6e3eb780ea2a997e90baa5d61aaf1.setIcon(icon_a93a51a95d7117e937ce5d7d1b5ef7c5);\n",
       "        \n",
       "    \n",
       "        var popup_fe3b59ec7a95aeaef25b6f0eff4b1afb = L.popup({\n",
       "  &quot;maxWidth&quot;: &quot;100%&quot;,\n",
       "});\n",
       "\n",
       "        \n",
       "            \n",
       "                var html_35b7dcd4c160e5d11bfefed821f32401 = $(`&lt;div id=&quot;html_35b7dcd4c160e5d11bfefed821f32401&quot; style=&quot;width: 100.0%; height: 100.0%;&quot;&gt;(&quot;&lt;b style=&#x27;font-size: 18px; &#x27;&gt;Tanokura&lt;/b&gt;&lt;br&gt;Dirección: Calle 403 %Ave. Rancho Boyeros  Calle B, Santiago de las Vegas&quot;,)&lt;/div&gt;`)[0];\n",
       "                popup_fe3b59ec7a95aeaef25b6f0eff4b1afb.setContent(html_35b7dcd4c160e5d11bfefed821f32401);\n",
       "            \n",
       "        \n",
       "\n",
       "        marker_feb6e3eb780ea2a997e90baa5d61aaf1.bindPopup(popup_fe3b59ec7a95aeaef25b6f0eff4b1afb)\n",
       "        ;\n",
       "\n",
       "        \n",
       "    \n",
       "    \n",
       "            var marker_320f1b18620031af8ce0a1aae7f5d2ef = L.marker(\n",
       "                [23.135937842467282, -82.35497378290009],\n",
       "                {\n",
       "}\n",
       "            ).addTo(map_8e263dfa2d2a3ab73322a420085a56cc);\n",
       "        \n",
       "    \n",
       "            var icon_ca94126f0a722dc4bc99ebef8627e224 = L.AwesomeMarkers.icon(\n",
       "                {\n",
       "  &quot;markerColor&quot;: &quot;red&quot;,\n",
       "  &quot;iconColor&quot;: &quot;white&quot;,\n",
       "  &quot;icon&quot;: &quot;cutlery&quot;,\n",
       "  &quot;prefix&quot;: &quot;fa&quot;,\n",
       "  &quot;extraClasses&quot;: &quot;fa-rotate-0&quot;,\n",
       "}\n",
       "            );\n",
       "            marker_320f1b18620031af8ce0a1aae7f5d2ef.setIcon(icon_ca94126f0a722dc4bc99ebef8627e224);\n",
       "        \n",
       "    \n",
       "        var popup_2f83a882668800bc116ff5ab0039b4df = L.popup({\n",
       "  &quot;maxWidth&quot;: &quot;100%&quot;,\n",
       "});\n",
       "\n",
       "        \n",
       "            \n",
       "                var html_81eb405e344acefacf8d7762029571c9 = $(`&lt;div id=&quot;html_81eb405e344acefacf8d7762029571c9&quot; style=&quot;width: 100.0%; height: 100.0%;&quot;&gt;(&quot;&lt;b style=&#x27;font-size: 18px; &#x27;&gt;Teniente Rey 360&lt;/b&gt;&lt;br&gt;Dirección: Calle Teniente Rey #360 entre Aguacate y Villegas&quot;,)&lt;/div&gt;`)[0];\n",
       "                popup_2f83a882668800bc116ff5ab0039b4df.setContent(html_81eb405e344acefacf8d7762029571c9);\n",
       "            \n",
       "        \n",
       "\n",
       "        marker_320f1b18620031af8ce0a1aae7f5d2ef.bindPopup(popup_2f83a882668800bc116ff5ab0039b4df)\n",
       "        ;\n",
       "\n",
       "        \n",
       "    \n",
       "    \n",
       "            var marker_5b023a865afd11878956221c0a5304d1 = L.marker(\n",
       "                [23.13838390087665, -82.36063540385594],\n",
       "                {\n",
       "}\n",
       "            ).addTo(map_8e263dfa2d2a3ab73322a420085a56cc);\n",
       "        \n",
       "    \n",
       "            var icon_abfb3c414565398fef573980fbb84a68 = L.AwesomeMarkers.icon(\n",
       "                {\n",
       "  &quot;markerColor&quot;: &quot;red&quot;,\n",
       "  &quot;iconColor&quot;: &quot;white&quot;,\n",
       "  &quot;icon&quot;: &quot;cutlery&quot;,\n",
       "  &quot;prefix&quot;: &quot;fa&quot;,\n",
       "  &quot;extraClasses&quot;: &quot;fa-rotate-0&quot;,\n",
       "}\n",
       "            );\n",
       "            marker_5b023a865afd11878956221c0a5304d1.setIcon(icon_abfb3c414565398fef573980fbb84a68);\n",
       "        \n",
       "    \n",
       "        var popup_3f65a3614c55bac573c853458229bd0a = L.popup({\n",
       "  &quot;maxWidth&quot;: &quot;100%&quot;,\n",
       "});\n",
       "\n",
       "        \n",
       "            \n",
       "                var html_78b615e52f69659db09e45935ec55c1b = $(`&lt;div id=&quot;html_78b615e52f69659db09e45935ec55c1b&quot; style=&quot;width: 100.0%; height: 100.0%;&quot;&gt;(&quot;&lt;b style=&#x27;font-size: 18px; &#x27;&gt;Tonyzz Bar&lt;/b&gt;&lt;br&gt;Dirección: Consulado &amp;, San Miguel, La Habana&quot;,)&lt;/div&gt;`)[0];\n",
       "                popup_3f65a3614c55bac573c853458229bd0a.setContent(html_78b615e52f69659db09e45935ec55c1b);\n",
       "            \n",
       "        \n",
       "\n",
       "        marker_5b023a865afd11878956221c0a5304d1.bindPopup(popup_3f65a3614c55bac573c853458229bd0a)\n",
       "        ;\n",
       "\n",
       "        \n",
       "    \n",
       "    \n",
       "            var marker_b13bcf261057e1b8236eccc7967a9431 = L.marker(\n",
       "                [23.135877861692762, -82.40428126252529],\n",
       "                {\n",
       "}\n",
       "            ).addTo(map_8e263dfa2d2a3ab73322a420085a56cc);\n",
       "        \n",
       "    \n",
       "            var icon_9e1e1d9001540b71c5653dfbddd29551 = L.AwesomeMarkers.icon(\n",
       "                {\n",
       "  &quot;markerColor&quot;: &quot;red&quot;,\n",
       "  &quot;iconColor&quot;: &quot;white&quot;,\n",
       "  &quot;icon&quot;: &quot;cutlery&quot;,\n",
       "  &quot;prefix&quot;: &quot;fa&quot;,\n",
       "  &quot;extraClasses&quot;: &quot;fa-rotate-0&quot;,\n",
       "}\n",
       "            );\n",
       "            marker_b13bcf261057e1b8236eccc7967a9431.setIcon(icon_9e1e1d9001540b71c5653dfbddd29551);\n",
       "        \n",
       "    \n",
       "        var popup_f4ce45647d07bf64cc97d8adbd26a3b0 = L.popup({\n",
       "  &quot;maxWidth&quot;: &quot;100%&quot;,\n",
       "});\n",
       "\n",
       "        \n",
       "            \n",
       "                var html_644cf2f9ed59198337d80e75aa4c5ac1 = $(`&lt;div id=&quot;html_644cf2f9ed59198337d80e75aa4c5ac1&quot; style=&quot;width: 100.0%; height: 100.0%;&quot;&gt;(&quot;&lt;b style=&#x27;font-size: 18px; &#x27;&gt;Toto e Pepino&lt;/b&gt;&lt;br&gt;Dirección: Calle 8 entre 5ta y Calzada, Vedado&quot;,)&lt;/div&gt;`)[0];\n",
       "                popup_f4ce45647d07bf64cc97d8adbd26a3b0.setContent(html_644cf2f9ed59198337d80e75aa4c5ac1);\n",
       "            \n",
       "        \n",
       "\n",
       "        marker_b13bcf261057e1b8236eccc7967a9431.bindPopup(popup_f4ce45647d07bf64cc97d8adbd26a3b0)\n",
       "        ;\n",
       "\n",
       "        \n",
       "    \n",
       "    \n",
       "            var marker_4e015510fbc3f47e9b08d415d78a661b = L.marker(\n",
       "                [23.139702313656233, -82.37592887167152],\n",
       "                {\n",
       "}\n",
       "            ).addTo(map_8e263dfa2d2a3ab73322a420085a56cc);\n",
       "        \n",
       "    \n",
       "            var icon_26a4307be1577a4841da753cf94b2300 = L.AwesomeMarkers.icon(\n",
       "                {\n",
       "  &quot;markerColor&quot;: &quot;red&quot;,\n",
       "  &quot;iconColor&quot;: &quot;white&quot;,\n",
       "  &quot;icon&quot;: &quot;cutlery&quot;,\n",
       "  &quot;prefix&quot;: &quot;fa&quot;,\n",
       "  &quot;extraClasses&quot;: &quot;fa-rotate-0&quot;,\n",
       "}\n",
       "            );\n",
       "            marker_4e015510fbc3f47e9b08d415d78a661b.setIcon(icon_26a4307be1577a4841da753cf94b2300);\n",
       "        \n",
       "    \n",
       "        var popup_f2504ccaca8084a1d01661a1d6c0a0c9 = L.popup({\n",
       "  &quot;maxWidth&quot;: &quot;100%&quot;,\n",
       "});\n",
       "\n",
       "        \n",
       "            \n",
       "                var html_fba5a7287da26002d52fe63129cb032c = $(`&lt;div id=&quot;html_fba5a7287da26002d52fe63129cb032c&quot; style=&quot;width: 100.0%; height: 100.0%;&quot;&gt;(&quot;&lt;b style=&#x27;font-size: 18px; &#x27;&gt;Tu Tiempo&lt;/b&gt;&lt;br&gt;Dirección: Calle Hospital entre San Lazaro y Jovellar&quot;,)&lt;/div&gt;`)[0];\n",
       "                popup_f2504ccaca8084a1d01661a1d6c0a0c9.setContent(html_fba5a7287da26002d52fe63129cb032c);\n",
       "            \n",
       "        \n",
       "\n",
       "        marker_4e015510fbc3f47e9b08d415d78a661b.bindPopup(popup_f2504ccaca8084a1d01661a1d6c0a0c9)\n",
       "        ;\n",
       "\n",
       "        \n",
       "    \n",
       "    \n",
       "            var marker_fac729e287c84bb7e1a709c037f8a428 = L.marker(\n",
       "                [23.131006442270195, -82.3984675744632],\n",
       "                {\n",
       "}\n",
       "            ).addTo(map_8e263dfa2d2a3ab73322a420085a56cc);\n",
       "        \n",
       "    \n",
       "            var icon_2f5b9566f2aa81379615bc647d0fb3ac = L.AwesomeMarkers.icon(\n",
       "                {\n",
       "  &quot;markerColor&quot;: &quot;red&quot;,\n",
       "  &quot;iconColor&quot;: &quot;white&quot;,\n",
       "  &quot;icon&quot;: &quot;cutlery&quot;,\n",
       "  &quot;prefix&quot;: &quot;fa&quot;,\n",
       "  &quot;extraClasses&quot;: &quot;fa-rotate-0&quot;,\n",
       "}\n",
       "            );\n",
       "            marker_fac729e287c84bb7e1a709c037f8a428.setIcon(icon_2f5b9566f2aa81379615bc647d0fb3ac);\n",
       "        \n",
       "    \n",
       "        var popup_7e45d6d15874887177ef9db8f118345d = L.popup({\n",
       "  &quot;maxWidth&quot;: &quot;100%&quot;,\n",
       "});\n",
       "\n",
       "        \n",
       "            \n",
       "                var html_40be3f173986d8166ab5d97a00e4ad03 = $(`&lt;div id=&quot;html_40be3f173986d8166ab5d97a00e4ad03&quot; style=&quot;width: 100.0%; height: 100.0%;&quot;&gt;(&quot;&lt;b style=&#x27;font-size: 18px; &#x27;&gt;El Vampirito&lt;/b&gt;&lt;br&gt;Dirección: Calle 6 entre 19 y 21, Vedado&quot;,)&lt;/div&gt;`)[0];\n",
       "                popup_7e45d6d15874887177ef9db8f118345d.setContent(html_40be3f173986d8166ab5d97a00e4ad03);\n",
       "            \n",
       "        \n",
       "\n",
       "        marker_fac729e287c84bb7e1a709c037f8a428.bindPopup(popup_7e45d6d15874887177ef9db8f118345d)\n",
       "        ;\n",
       "\n",
       "        \n",
       "    \n",
       "    \n",
       "            var marker_1ba6f2bd6ba629297f350a947ebbbf42 = L.marker(\n",
       "                [23.135928366721494, -82.35711687469271],\n",
       "                {\n",
       "}\n",
       "            ).addTo(map_8e263dfa2d2a3ab73322a420085a56cc);\n",
       "        \n",
       "    \n",
       "            var icon_5a569cdc40ac2c7cfe6256a4253878a5 = L.AwesomeMarkers.icon(\n",
       "                {\n",
       "  &quot;markerColor&quot;: &quot;red&quot;,\n",
       "  &quot;iconColor&quot;: &quot;white&quot;,\n",
       "  &quot;icon&quot;: &quot;cutlery&quot;,\n",
       "  &quot;prefix&quot;: &quot;fa&quot;,\n",
       "  &quot;extraClasses&quot;: &quot;fa-rotate-0&quot;,\n",
       "}\n",
       "            );\n",
       "            marker_1ba6f2bd6ba629297f350a947ebbbf42.setIcon(icon_5a569cdc40ac2c7cfe6256a4253878a5);\n",
       "        \n",
       "    \n",
       "        var popup_3febbcaae0df32d4af650b152008da08 = L.popup({\n",
       "  &quot;maxWidth&quot;: &quot;100%&quot;,\n",
       "});\n",
       "\n",
       "        \n",
       "            \n",
       "                var html_baa4dacebec112ac0a5bb2638d243bea = $(`&lt;div id=&quot;html_baa4dacebec112ac0a5bb2638d243bea&quot; style=&quot;width: 100.0%; height: 100.0%;&quot;&gt;(&quot;&lt;b style=&#x27;font-size: 18px; &#x27;&gt;Venami&lt;/b&gt;&lt;br&gt;Dirección: Monserrate #435 e/ Teniente Rey y Lamparilla&quot;,)&lt;/div&gt;`)[0];\n",
       "                popup_3febbcaae0df32d4af650b152008da08.setContent(html_baa4dacebec112ac0a5bb2638d243bea);\n",
       "            \n",
       "        \n",
       "\n",
       "        marker_1ba6f2bd6ba629297f350a947ebbbf42.bindPopup(popup_3febbcaae0df32d4af650b152008da08)\n",
       "        ;\n",
       "\n",
       "        \n",
       "    \n",
       "    \n",
       "            var marker_e7caa94515c8d3e55693bf006a7c29c2 = L.marker(\n",
       "                [23.14072849372818, -82.3845988],\n",
       "                {\n",
       "}\n",
       "            ).addTo(map_8e263dfa2d2a3ab73322a420085a56cc);\n",
       "        \n",
       "    \n",
       "            var icon_c631fd932b2a3a57aea52798e87a139c = L.AwesomeMarkers.icon(\n",
       "                {\n",
       "  &quot;markerColor&quot;: &quot;red&quot;,\n",
       "  &quot;iconColor&quot;: &quot;white&quot;,\n",
       "  &quot;icon&quot;: &quot;cutlery&quot;,\n",
       "  &quot;prefix&quot;: &quot;fa&quot;,\n",
       "  &quot;extraClasses&quot;: &quot;fa-rotate-0&quot;,\n",
       "}\n",
       "            );\n",
       "            marker_e7caa94515c8d3e55693bf006a7c29c2.setIcon(icon_c631fd932b2a3a57aea52798e87a139c);\n",
       "        \n",
       "    \n",
       "        var popup_813e53c8aebdd584b5d7b7e19820e807 = L.popup({\n",
       "  &quot;maxWidth&quot;: &quot;100%&quot;,\n",
       "});\n",
       "\n",
       "        \n",
       "            \n",
       "                var html_d346722ba37c8e31e037caf1f13c9376 = $(`&lt;div id=&quot;html_d346722ba37c8e31e037caf1f13c9376&quot; style=&quot;width: 100.0%; height: 100.0%;&quot;&gt;(&quot;&lt;b style=&#x27;font-size: 18px; &#x27;&gt;Vita Nuova&lt;/b&gt;&lt;br&gt;Dirección: Calle L esquina 21, Vedado&quot;,)&lt;/div&gt;`)[0];\n",
       "                popup_813e53c8aebdd584b5d7b7e19820e807.setContent(html_d346722ba37c8e31e037caf1f13c9376);\n",
       "            \n",
       "        \n",
       "\n",
       "        marker_e7caa94515c8d3e55693bf006a7c29c2.bindPopup(popup_813e53c8aebdd584b5d7b7e19820e807)\n",
       "        ;\n",
       "\n",
       "        \n",
       "    \n",
       "    \n",
       "            var marker_03437118a09bb01aba4df8b496d16f4a = L.marker(\n",
       "                [23.12975236724791, -82.35241985161278],\n",
       "                {\n",
       "}\n",
       "            ).addTo(map_8e263dfa2d2a3ab73322a420085a56cc);\n",
       "        \n",
       "    \n",
       "            var icon_e81a8c6dc8947baf986f2b692c38e47a = L.AwesomeMarkers.icon(\n",
       "                {\n",
       "  &quot;markerColor&quot;: &quot;red&quot;,\n",
       "  &quot;iconColor&quot;: &quot;white&quot;,\n",
       "  &quot;icon&quot;: &quot;cutlery&quot;,\n",
       "  &quot;prefix&quot;: &quot;fa&quot;,\n",
       "  &quot;extraClasses&quot;: &quot;fa-rotate-0&quot;,\n",
       "}\n",
       "            );\n",
       "            marker_03437118a09bb01aba4df8b496d16f4a.setIcon(icon_e81a8c6dc8947baf986f2b692c38e47a);\n",
       "        \n",
       "    \n",
       "        var popup_1814796fdc0c811577571c81c1573446 = L.popup({\n",
       "  &quot;maxWidth&quot;: &quot;100%&quot;,\n",
       "});\n",
       "\n",
       "        \n",
       "            \n",
       "                var html_e683e4f467e02f7e5c21410eab8fe6a7 = $(`&lt;div id=&quot;html_e683e4f467e02f7e5c21410eab8fe6a7&quot; style=&quot;width: 100.0%; height: 100.0%;&quot;&gt;(&quot;&lt;b style=&#x27;font-size: 18px; &#x27;&gt;Yarini&lt;/b&gt;&lt;br&gt;Dirección: Calle San Isidro #214 entre Picota y Compostela&quot;,)&lt;/div&gt;`)[0];\n",
       "                popup_1814796fdc0c811577571c81c1573446.setContent(html_e683e4f467e02f7e5c21410eab8fe6a7);\n",
       "            \n",
       "        \n",
       "\n",
       "        marker_03437118a09bb01aba4df8b496d16f4a.bindPopup(popup_1814796fdc0c811577571c81c1573446)\n",
       "        ;\n",
       "\n",
       "        \n",
       "    \n",
       "    \n",
       "            var marker_e6db1161f25a2cb8ef36ef2d40a6c60f = L.marker(\n",
       "                [23.098978185190347, -82.33972403216933],\n",
       "                {\n",
       "}\n",
       "            ).addTo(map_8e263dfa2d2a3ab73322a420085a56cc);\n",
       "        \n",
       "    \n",
       "            var icon_e754ae60d1698a81ef36fe5adaa87a34 = L.AwesomeMarkers.icon(\n",
       "                {\n",
       "  &quot;markerColor&quot;: &quot;red&quot;,\n",
       "  &quot;iconColor&quot;: &quot;white&quot;,\n",
       "  &quot;icon&quot;: &quot;cutlery&quot;,\n",
       "  &quot;prefix&quot;: &quot;fa&quot;,\n",
       "  &quot;extraClasses&quot;: &quot;fa-rotate-0&quot;,\n",
       "}\n",
       "            );\n",
       "            marker_e6db1161f25a2cb8ef36ef2d40a6c60f.setIcon(icon_e754ae60d1698a81ef36fe5adaa87a34);\n",
       "        \n",
       "    \n",
       "        var popup_ea8976d0f8e6f60714ffda06fda4c790 = L.popup({\n",
       "  &quot;maxWidth&quot;: &quot;100%&quot;,\n",
       "});\n",
       "\n",
       "        \n",
       "            \n",
       "                var html_28f41f8dc4139cd75ffa32325861897b = $(`&lt;div id=&quot;html_28f41f8dc4139cd75ffa32325861897b&quot; style=&quot;width: 100.0%; height: 100.0%;&quot;&gt;(&quot;&lt;b style=&#x27;font-size: 18px; &#x27;&gt;Yesterday Havana&lt;/b&gt;&lt;br&gt;Dirección: Rita % Blanchy y Calzada de Guines&quot;,)&lt;/div&gt;`)[0];\n",
       "                popup_ea8976d0f8e6f60714ffda06fda4c790.setContent(html_28f41f8dc4139cd75ffa32325861897b);\n",
       "            \n",
       "        \n",
       "\n",
       "        marker_e6db1161f25a2cb8ef36ef2d40a6c60f.bindPopup(popup_ea8976d0f8e6f60714ffda06fda4c790)\n",
       "        ;\n",
       "\n",
       "        \n",
       "    \n",
       "    \n",
       "            var marker_f234f1f9a38f44111ce7859ad2ccbc2a = L.marker(\n",
       "                [23.14231693189427, -82.39812833852959],\n",
       "                {\n",
       "}\n",
       "            ).addTo(map_8e263dfa2d2a3ab73322a420085a56cc);\n",
       "        \n",
       "    \n",
       "            var icon_26aa5312b6f89f907c221a96967c1ac1 = L.AwesomeMarkers.icon(\n",
       "                {\n",
       "  &quot;markerColor&quot;: &quot;red&quot;,\n",
       "  &quot;iconColor&quot;: &quot;white&quot;,\n",
       "  &quot;icon&quot;: &quot;cutlery&quot;,\n",
       "  &quot;prefix&quot;: &quot;fa&quot;,\n",
       "  &quot;extraClasses&quot;: &quot;fa-rotate-0&quot;,\n",
       "}\n",
       "            );\n",
       "            marker_f234f1f9a38f44111ce7859ad2ccbc2a.setIcon(icon_26aa5312b6f89f907c221a96967c1ac1);\n",
       "        \n",
       "    \n",
       "        var popup_d0a95513f7a7892e319bf236d4d20809 = L.popup({\n",
       "  &quot;maxWidth&quot;: &quot;100%&quot;,\n",
       "});\n",
       "\n",
       "        \n",
       "            \n",
       "                var html_78d1654d096b9d86a1818a923b9feeeb = $(`&lt;div id=&quot;html_78d1654d096b9d86a1818a923b9feeeb&quot; style=&quot;width: 100.0%; height: 100.0%;&quot;&gt;(&quot;&lt;b style=&#x27;font-size: 18px; &#x27;&gt;Yo invito&lt;/b&gt;&lt;br&gt;Dirección: Calle 3era, Esquina D, Vedado&quot;,)&lt;/div&gt;`)[0];\n",
       "                popup_d0a95513f7a7892e319bf236d4d20809.setContent(html_78d1654d096b9d86a1818a923b9feeeb);\n",
       "            \n",
       "        \n",
       "\n",
       "        marker_f234f1f9a38f44111ce7859ad2ccbc2a.bindPopup(popup_d0a95513f7a7892e319bf236d4d20809)\n",
       "        ;\n",
       "\n",
       "        \n",
       "    \n",
       "&lt;/script&gt;\n",
       "&lt;/html&gt;\" style=\"position:absolute;width:100%;height:100%;left:0;top:0;border:none !important;\" allowfullscreen webkitallowfullscreen mozallowfullscreen></iframe></div></div>"
      ],
      "text/plain": [
       "<folium.folium.Map at 0x1ac0efa2c90>"
      ]
     },
     "metadata": {},
     "output_type": "display_data"
    }
   ],
   "source": [
    "\n",
    "#Mapa con los restaurantes ubicado :)\n",
    "mapa = fl.Map(location=[23.1, -82.4], zoom_start=11)\n",
    "\n",
    "lahabanamapa = {\"type\": \"FeatureCollection\", \"features\": [{\"geometry\": {\"type\": \"Polygon\", \"coordinates\": [[[-82.5403, 23.0517], [-82.5289, 23.0628], [-82.5239, 23.0735], [-82.509, 23.0829], [-82.5045, 23.0806], [-82.4981, 23.0844], [-82.5026, 23.0865], [-82.4957, 23.0937], [-82.4911, 23.0937], [-82.4894, 23.0897], [-82.4872, 23.0951], [-82.4835, 23.0947], [-82.4781, 23.0901], [-82.4783, 23.0949], [-82.4606, 23.0936], [-82.4609, 23.0976], [-82.4554, 23.0961], [-82.4535, 23.1017], [-82.4346, 23.1193], [-82.4152, 23.1334], [-82.4121, 23.1339], [-82.4119, 23.1305], [-82.4053, 23.1406], [-82.3912, 23.1478], [-82.3696, 23.1424], [-82.3579, 23.1468], [-82.3522, 23.145], [-82.345, 23.1353], [-82.3478, 23.1286], [-82.3577, 23.122], [-82.351, 23.1205], [-82.3448, 23.1266], [-82.3422, 23.1147], [-82.3343, 23.1123], [-82.3406, 23.1243], [-82.3359, 23.1273], [-82.3374, 23.1347], [-82.328, 23.1303], [-82.3281, 23.1382], [-82.3229, 23.1427], [-82.3446, 23.1424], [-82.3563, 23.1516], [-82.3244, 23.1664], [-82.3026, 23.1715], [-82.2944, 23.1688], [-82.2911, 23.1637], [-82.2892, 23.1702], [-82.2772, 23.1754], [-82.2442, 23.1786], [-82.2402, 23.1732], [-82.2393, 23.1783], [-82.228, 23.1806], [-82.214, 23.1785], [-82.2115, 23.1724], [-82.2121, 23.1785], [-82.2045, 23.1806], [-82.1518, 23.172], [-82.1258, 23.1744], [-82.1225, 23.1684], [-82.1161, 23.1715], [-82.1209, 23.1724], [-82.1185, 23.1737], [-82.098, 23.1729], [-82.0929, 23.1761], [-82.0925, 23.168], [-82.1016, 23.1666], [-82.1025, 23.1598], [-82.082, 23.1487], [-82.0799, 23.1245], [-82.0931, 23.1221], [-82.0861, 23.1055], [-82.1016, 23.0931], [-82.1015, 23.0847], [-82.1087, 23.0806], [-82.1058, 23.0767], [-82.1096, 23.0683], [-82.1011, 23.0555], [-82.1148, 23.0547], [-82.1445, 23.0685], [-82.15, 23.075], [-82.1562, 23.0744], [-82.1764, 23.0576], [-82.2231, 23.064], [-82.2256, 23.0165], [-82.1964, 22.9972], [-82.1979, 22.993], [-82.2115, 22.9944], [-82.2167, 22.9997], [-82.2283, 22.9804], [-82.2618, 22.9734], [-82.2475, 22.9564], [-82.2676, 22.9578], [-82.2798, 22.9519], [-82.2976, 22.9541], [-82.3009, 22.9627], [-82.3056, 22.9648], [-82.3132, 22.9649], [-82.3304, 22.9563], [-82.3648, 22.9667], [-82.3775, 22.9657], [-82.3759, 22.9558], [-82.3658, 22.9405], [-82.3868, 22.9337], [-82.4152, 22.9483], [-82.4287, 22.9466], [-82.4336, 22.9403], [-82.4458, 22.9471], [-82.4436, 22.9814], [-82.4482, 22.9851], [-82.4578, 22.9775], [-82.4661, 22.982], [-82.4672, 22.9783], [-82.4843, 22.9729], [-82.498, 22.9947], [-82.5012, 23.0095], [-82.5081, 23.0153], [-82.5066, 23.0211], [-82.4982, 23.0262], [-82.4949, 23.0323], [-82.4973, 23.0392], [-82.4917, 23.0411], [-82.4889, 23.0523], [-82.4921, 23.0736], [-82.4972, 23.0736], [-82.5021, 23.0687], [-82.5108, 23.0703], [-82.5329, 23.0523], [-82.5403, 23.0517]]]}, \"type\": \"Feature\", \"properties\": {\"province\": \"La Habana\", \"country\": \"Cuba\", \"region\": \"province\", \"country_domain\": \"cu\", \"province_id\": \"lha\", \"DPA_province_code\": \"23\"}}]}\n",
    "fl.GeoJson(lahabanamapa).add_to(mapa)\n",
    "for index, row in data2.iterrows():\n",
    "    coordenadas = [float(coord) for coord in row[\"location.coordinates\"].split(\", \")]\n",
    "    nombre = row[\"name\"]\n",
    "    direccion = row[\"location.address\"]\n",
    "\n",
    "    fl.Marker(\n",
    "        location=coordenadas,\n",
    "        popup=(\n",
    "            f\"<b style='font-size: 18px; '>{nombre}</b><br>\"\n",
    "            f\"Dirección: {direccion}\",\n",
    "          ),\n",
    "          icon=fl.Icon(icon=\"cutlery\", prefix=\"fa\", color=\"red\")\n",
    "    ).add_to(mapa)\n",
    "display(mapa)\n",
    "\n"
   ]
  }
 ],
 "metadata": {
  "kernelspec": {
   "display_name": "Python 3",
   "language": "python",
   "name": "python3"
  },
  "language_info": {
   "codemirror_mode": {
    "name": "ipython",
    "version": 3
   },
   "file_extension": ".py",
   "mimetype": "text/x-python",
   "name": "python",
   "nbconvert_exporter": "python",
   "pygments_lexer": "ipython3",
   "version": "3.11.7"
  }
 },
 "nbformat": 4,
 "nbformat_minor": 2
}
