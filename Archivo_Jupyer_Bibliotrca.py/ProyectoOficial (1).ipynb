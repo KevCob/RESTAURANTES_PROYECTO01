{
 "cells": [
  {
   "cell_type": "code",
   "execution_count": 17,
   "metadata": {},
   "outputs": [],
   "source": [
    "import pandas as pd\n",
    "import plotly as pt\n",
    "import plotly.express as px\n",
    "import plotly.graph_objects as go\n",
    "import plotly.io as pio\n",
    "import folium as fl\n",
    "import ipywidgets as wi\n",
    "from collections import Counter\n",
    "from IPython.display import display\n",
    "import Biblioteca_Proyecto as bp\n",
    "import os\n",
    "import json"
   ]
  },
  {
   "cell_type": "code",
   "execution_count": 18,
   "metadata": {},
   "outputs": [],
   "source": [
    "\n",
    "data_list = []\n",
    "\n",
    "for i in os.listdir(\"C:\\\\Users\\\\User\\\\OneDrive\\\\Escritorio\\\\RESTAURANTES_PROYECTO01\\\\Json_Data\"):\n",
    "    if i.endswith(\".json\"):\n",
    "        with open(os.path.join(\"C:\\\\Users\\\\User\\\\OneDrive\\\\Escritorio\\\\RESTAURANTES_PROYECTO01\\\\Json_Data\", i), \"r\", encoding=\"utf-8\") as file:\n",
    "            json_loaded = json.load(file)\n",
    "            data_list.append(json_loaded)\n",
    "\n",
    "data = pd.DataFrame(data_list)\n",
    "data2 = pd.json_normalize(data_list)"
   ]
  },
  {
   "cell_type": "markdown",
   "metadata": {},
   "source": [
    "![1](Terraza.png)"
   ]
  },
  {
   "cell_type": "markdown",
   "metadata": {},
   "source": [
    "Ya Alejandro lleva 3 años en los Estados Unidos y sus amigos le aconsejaron que lo mejor opción para ayudar a su familia en Cuba era poniéndoles un negocio, él estaba decidido a invertir en algo que no solo generara ingresos, sino que tambíen mejorara la calidad de vida de sus padres en La Habana. Muchos le sugirieron algunas de las opciones mas populares en Cuba, como revender productos Shein, sin embargo el tenía una visión diferente,  su objetivo era establecer un negocio autosuficiente, y sabiendo ya que no habia mujer en La Habana que cocinara mejor que su vieja, decidió que abrir un restaurante era la mejor opción para lograr su objetivo....\n",
    "Su madre Caridad, una ama de casa que dedicó toda su vida a su esposo, a su hijo y a la cocina, casi infarta al escuchar la noticia de que por finnnn le van a empezar a pagar por cocinar algo que llevaba toda la vida haciendo por amor y sin ningún tipo de lucro.\n",
    "\n",
    "Para que todo saliera bien, Alejandro sabía que necesitaba resalizar un análisis exhaustivo de la competencia, por lo que tomó una muestra de los restaurantes de toda La Habana...\n",
    "\n"
   ]
  },
  {
   "cell_type": "code",
   "execution_count": 19,
   "metadata": {},
   "outputs": [
    {
     "data": {
      "application/vnd.plotly.v1+json": {
       "config": {
        "plotlyServerURL": "https://plot.ly"
       },
       "data": [
        {
         "cells": {
          "align": "left",
          "fill": {
           "color": "lavender"
          },
          "values": [
           [
            "plaza de la revolucion",
            "habana vieja",
            "10 de octubre",
            "centro habana",
            "playa",
            "habana del este",
            "boyeros",
            "san miguel del padron",
            "guanabacoa",
            "marianao",
            "arroyo naranjo",
            "la lisa",
            "cerro",
            "cotorro",
            "regla"
           ],
           [
            35,
            30,
            30,
            20,
            11,
            11,
            11,
            10,
            10,
            10,
            10,
            10,
            10,
            10,
            5
           ]
          ]
         },
         "header": {
          "align": "left",
          "fill": {
           "color": "green"
          },
          "values": [
           "Municipio",
           "Cantidad de Restaurantes"
          ]
         },
         "type": "table"
        }
       ],
       "layout": {
        "template": {
         "data": {
          "bar": [
           {
            "error_x": {
             "color": "#2a3f5f"
            },
            "error_y": {
             "color": "#2a3f5f"
            },
            "marker": {
             "line": {
              "color": "#E5ECF6",
              "width": 0.5
             },
             "pattern": {
              "fillmode": "overlay",
              "size": 10,
              "solidity": 0.2
             }
            },
            "type": "bar"
           }
          ],
          "barpolar": [
           {
            "marker": {
             "line": {
              "color": "#E5ECF6",
              "width": 0.5
             },
             "pattern": {
              "fillmode": "overlay",
              "size": 10,
              "solidity": 0.2
             }
            },
            "type": "barpolar"
           }
          ],
          "carpet": [
           {
            "aaxis": {
             "endlinecolor": "#2a3f5f",
             "gridcolor": "white",
             "linecolor": "white",
             "minorgridcolor": "white",
             "startlinecolor": "#2a3f5f"
            },
            "baxis": {
             "endlinecolor": "#2a3f5f",
             "gridcolor": "white",
             "linecolor": "white",
             "minorgridcolor": "white",
             "startlinecolor": "#2a3f5f"
            },
            "type": "carpet"
           }
          ],
          "choropleth": [
           {
            "colorbar": {
             "outlinewidth": 0,
             "ticks": ""
            },
            "type": "choropleth"
           }
          ],
          "contour": [
           {
            "colorbar": {
             "outlinewidth": 0,
             "ticks": ""
            },
            "colorscale": [
             [
              0,
              "#0d0887"
             ],
             [
              0.1111111111111111,
              "#46039f"
             ],
             [
              0.2222222222222222,
              "#7201a8"
             ],
             [
              0.3333333333333333,
              "#9c179e"
             ],
             [
              0.4444444444444444,
              "#bd3786"
             ],
             [
              0.5555555555555556,
              "#d8576b"
             ],
             [
              0.6666666666666666,
              "#ed7953"
             ],
             [
              0.7777777777777778,
              "#fb9f3a"
             ],
             [
              0.8888888888888888,
              "#fdca26"
             ],
             [
              1,
              "#f0f921"
             ]
            ],
            "type": "contour"
           }
          ],
          "contourcarpet": [
           {
            "colorbar": {
             "outlinewidth": 0,
             "ticks": ""
            },
            "type": "contourcarpet"
           }
          ],
          "heatmap": [
           {
            "colorbar": {
             "outlinewidth": 0,
             "ticks": ""
            },
            "colorscale": [
             [
              0,
              "#0d0887"
             ],
             [
              0.1111111111111111,
              "#46039f"
             ],
             [
              0.2222222222222222,
              "#7201a8"
             ],
             [
              0.3333333333333333,
              "#9c179e"
             ],
             [
              0.4444444444444444,
              "#bd3786"
             ],
             [
              0.5555555555555556,
              "#d8576b"
             ],
             [
              0.6666666666666666,
              "#ed7953"
             ],
             [
              0.7777777777777778,
              "#fb9f3a"
             ],
             [
              0.8888888888888888,
              "#fdca26"
             ],
             [
              1,
              "#f0f921"
             ]
            ],
            "type": "heatmap"
           }
          ],
          "heatmapgl": [
           {
            "colorbar": {
             "outlinewidth": 0,
             "ticks": ""
            },
            "colorscale": [
             [
              0,
              "#0d0887"
             ],
             [
              0.1111111111111111,
              "#46039f"
             ],
             [
              0.2222222222222222,
              "#7201a8"
             ],
             [
              0.3333333333333333,
              "#9c179e"
             ],
             [
              0.4444444444444444,
              "#bd3786"
             ],
             [
              0.5555555555555556,
              "#d8576b"
             ],
             [
              0.6666666666666666,
              "#ed7953"
             ],
             [
              0.7777777777777778,
              "#fb9f3a"
             ],
             [
              0.8888888888888888,
              "#fdca26"
             ],
             [
              1,
              "#f0f921"
             ]
            ],
            "type": "heatmapgl"
           }
          ],
          "histogram": [
           {
            "marker": {
             "pattern": {
              "fillmode": "overlay",
              "size": 10,
              "solidity": 0.2
             }
            },
            "type": "histogram"
           }
          ],
          "histogram2d": [
           {
            "colorbar": {
             "outlinewidth": 0,
             "ticks": ""
            },
            "colorscale": [
             [
              0,
              "#0d0887"
             ],
             [
              0.1111111111111111,
              "#46039f"
             ],
             [
              0.2222222222222222,
              "#7201a8"
             ],
             [
              0.3333333333333333,
              "#9c179e"
             ],
             [
              0.4444444444444444,
              "#bd3786"
             ],
             [
              0.5555555555555556,
              "#d8576b"
             ],
             [
              0.6666666666666666,
              "#ed7953"
             ],
             [
              0.7777777777777778,
              "#fb9f3a"
             ],
             [
              0.8888888888888888,
              "#fdca26"
             ],
             [
              1,
              "#f0f921"
             ]
            ],
            "type": "histogram2d"
           }
          ],
          "histogram2dcontour": [
           {
            "colorbar": {
             "outlinewidth": 0,
             "ticks": ""
            },
            "colorscale": [
             [
              0,
              "#0d0887"
             ],
             [
              0.1111111111111111,
              "#46039f"
             ],
             [
              0.2222222222222222,
              "#7201a8"
             ],
             [
              0.3333333333333333,
              "#9c179e"
             ],
             [
              0.4444444444444444,
              "#bd3786"
             ],
             [
              0.5555555555555556,
              "#d8576b"
             ],
             [
              0.6666666666666666,
              "#ed7953"
             ],
             [
              0.7777777777777778,
              "#fb9f3a"
             ],
             [
              0.8888888888888888,
              "#fdca26"
             ],
             [
              1,
              "#f0f921"
             ]
            ],
            "type": "histogram2dcontour"
           }
          ],
          "mesh3d": [
           {
            "colorbar": {
             "outlinewidth": 0,
             "ticks": ""
            },
            "type": "mesh3d"
           }
          ],
          "parcoords": [
           {
            "line": {
             "colorbar": {
              "outlinewidth": 0,
              "ticks": ""
             }
            },
            "type": "parcoords"
           }
          ],
          "pie": [
           {
            "automargin": true,
            "type": "pie"
           }
          ],
          "scatter": [
           {
            "fillpattern": {
             "fillmode": "overlay",
             "size": 10,
             "solidity": 0.2
            },
            "type": "scatter"
           }
          ],
          "scatter3d": [
           {
            "line": {
             "colorbar": {
              "outlinewidth": 0,
              "ticks": ""
             }
            },
            "marker": {
             "colorbar": {
              "outlinewidth": 0,
              "ticks": ""
             }
            },
            "type": "scatter3d"
           }
          ],
          "scattercarpet": [
           {
            "marker": {
             "colorbar": {
              "outlinewidth": 0,
              "ticks": ""
             }
            },
            "type": "scattercarpet"
           }
          ],
          "scattergeo": [
           {
            "marker": {
             "colorbar": {
              "outlinewidth": 0,
              "ticks": ""
             }
            },
            "type": "scattergeo"
           }
          ],
          "scattergl": [
           {
            "marker": {
             "colorbar": {
              "outlinewidth": 0,
              "ticks": ""
             }
            },
            "type": "scattergl"
           }
          ],
          "scattermapbox": [
           {
            "marker": {
             "colorbar": {
              "outlinewidth": 0,
              "ticks": ""
             }
            },
            "type": "scattermapbox"
           }
          ],
          "scatterpolar": [
           {
            "marker": {
             "colorbar": {
              "outlinewidth": 0,
              "ticks": ""
             }
            },
            "type": "scatterpolar"
           }
          ],
          "scatterpolargl": [
           {
            "marker": {
             "colorbar": {
              "outlinewidth": 0,
              "ticks": ""
             }
            },
            "type": "scatterpolargl"
           }
          ],
          "scatterternary": [
           {
            "marker": {
             "colorbar": {
              "outlinewidth": 0,
              "ticks": ""
             }
            },
            "type": "scatterternary"
           }
          ],
          "surface": [
           {
            "colorbar": {
             "outlinewidth": 0,
             "ticks": ""
            },
            "colorscale": [
             [
              0,
              "#0d0887"
             ],
             [
              0.1111111111111111,
              "#46039f"
             ],
             [
              0.2222222222222222,
              "#7201a8"
             ],
             [
              0.3333333333333333,
              "#9c179e"
             ],
             [
              0.4444444444444444,
              "#bd3786"
             ],
             [
              0.5555555555555556,
              "#d8576b"
             ],
             [
              0.6666666666666666,
              "#ed7953"
             ],
             [
              0.7777777777777778,
              "#fb9f3a"
             ],
             [
              0.8888888888888888,
              "#fdca26"
             ],
             [
              1,
              "#f0f921"
             ]
            ],
            "type": "surface"
           }
          ],
          "table": [
           {
            "cells": {
             "fill": {
              "color": "#EBF0F8"
             },
             "line": {
              "color": "white"
             }
            },
            "header": {
             "fill": {
              "color": "#C8D4E3"
             },
             "line": {
              "color": "white"
             }
            },
            "type": "table"
           }
          ]
         },
         "layout": {
          "annotationdefaults": {
           "arrowcolor": "#2a3f5f",
           "arrowhead": 0,
           "arrowwidth": 1
          },
          "autotypenumbers": "strict",
          "coloraxis": {
           "colorbar": {
            "outlinewidth": 0,
            "ticks": ""
           }
          },
          "colorscale": {
           "diverging": [
            [
             0,
             "#8e0152"
            ],
            [
             0.1,
             "#c51b7d"
            ],
            [
             0.2,
             "#de77ae"
            ],
            [
             0.3,
             "#f1b6da"
            ],
            [
             0.4,
             "#fde0ef"
            ],
            [
             0.5,
             "#f7f7f7"
            ],
            [
             0.6,
             "#e6f5d0"
            ],
            [
             0.7,
             "#b8e186"
            ],
            [
             0.8,
             "#7fbc41"
            ],
            [
             0.9,
             "#4d9221"
            ],
            [
             1,
             "#276419"
            ]
           ],
           "sequential": [
            [
             0,
             "#0d0887"
            ],
            [
             0.1111111111111111,
             "#46039f"
            ],
            [
             0.2222222222222222,
             "#7201a8"
            ],
            [
             0.3333333333333333,
             "#9c179e"
            ],
            [
             0.4444444444444444,
             "#bd3786"
            ],
            [
             0.5555555555555556,
             "#d8576b"
            ],
            [
             0.6666666666666666,
             "#ed7953"
            ],
            [
             0.7777777777777778,
             "#fb9f3a"
            ],
            [
             0.8888888888888888,
             "#fdca26"
            ],
            [
             1,
             "#f0f921"
            ]
           ],
           "sequentialminus": [
            [
             0,
             "#0d0887"
            ],
            [
             0.1111111111111111,
             "#46039f"
            ],
            [
             0.2222222222222222,
             "#7201a8"
            ],
            [
             0.3333333333333333,
             "#9c179e"
            ],
            [
             0.4444444444444444,
             "#bd3786"
            ],
            [
             0.5555555555555556,
             "#d8576b"
            ],
            [
             0.6666666666666666,
             "#ed7953"
            ],
            [
             0.7777777777777778,
             "#fb9f3a"
            ],
            [
             0.8888888888888888,
             "#fdca26"
            ],
            [
             1,
             "#f0f921"
            ]
           ]
          },
          "colorway": [
           "#636efa",
           "#EF553B",
           "#00cc96",
           "#ab63fa",
           "#FFA15A",
           "#19d3f3",
           "#FF6692",
           "#B6E880",
           "#FF97FF",
           "#FECB52"
          ],
          "font": {
           "color": "#2a3f5f"
          },
          "geo": {
           "bgcolor": "white",
           "lakecolor": "white",
           "landcolor": "#E5ECF6",
           "showlakes": true,
           "showland": true,
           "subunitcolor": "white"
          },
          "hoverlabel": {
           "align": "left"
          },
          "hovermode": "closest",
          "mapbox": {
           "style": "light"
          },
          "paper_bgcolor": "white",
          "plot_bgcolor": "#E5ECF6",
          "polar": {
           "angularaxis": {
            "gridcolor": "white",
            "linecolor": "white",
            "ticks": ""
           },
           "bgcolor": "#E5ECF6",
           "radialaxis": {
            "gridcolor": "white",
            "linecolor": "white",
            "ticks": ""
           }
          },
          "scene": {
           "xaxis": {
            "backgroundcolor": "#E5ECF6",
            "gridcolor": "white",
            "gridwidth": 2,
            "linecolor": "white",
            "showbackground": true,
            "ticks": "",
            "zerolinecolor": "white"
           },
           "yaxis": {
            "backgroundcolor": "#E5ECF6",
            "gridcolor": "white",
            "gridwidth": 2,
            "linecolor": "white",
            "showbackground": true,
            "ticks": "",
            "zerolinecolor": "white"
           },
           "zaxis": {
            "backgroundcolor": "#E5ECF6",
            "gridcolor": "white",
            "gridwidth": 2,
            "linecolor": "white",
            "showbackground": true,
            "ticks": "",
            "zerolinecolor": "white"
           }
          },
          "shapedefaults": {
           "line": {
            "color": "#2a3f5f"
           }
          },
          "ternary": {
           "aaxis": {
            "gridcolor": "white",
            "linecolor": "white",
            "ticks": ""
           },
           "baxis": {
            "gridcolor": "white",
            "linecolor": "white",
            "ticks": ""
           },
           "bgcolor": "#E5ECF6",
           "caxis": {
            "gridcolor": "white",
            "linecolor": "white",
            "ticks": ""
           }
          },
          "title": {
           "x": 0.05
          },
          "xaxis": {
           "automargin": true,
           "gridcolor": "white",
           "linecolor": "white",
           "ticks": "",
           "title": {
            "standoff": 15
           },
           "zerolinecolor": "white",
           "zerolinewidth": 2
          },
          "yaxis": {
           "automargin": true,
           "gridcolor": "white",
           "linecolor": "white",
           "ticks": "",
           "title": {
            "standoff": 15
           },
           "zerolinecolor": "white",
           "zerolinewidth": 2
          }
         }
        },
        "title": {
         "text": "Cantidad de Restaurantes por Municipio"
        }
       }
      }
     },
     "metadata": {},
     "output_type": "display_data"
    },
    {
     "name": "stdout",
     "output_type": "stream",
     "text": [
      "Total de Restaurantes:  223\n"
     ]
    }
   ],
   "source": [
    "#Tabla con la cantidad de jsons que hay de cada municipio :)\n",
    "municipio = data2[\"location.municipe\"].str.lower().str.strip()\n",
    "restaurantes_municipio = municipio.value_counts().reset_index()\n",
    "restaurantes_municipio.columns = [\"municipio\", \"cantidad_restaurantes\"]\n",
    "\n",
    "\n",
    "fig = go.Figure(data=[go.Table(\n",
    "    header=dict(values=[\"Municipio\", \"Cantidad de Restaurantes\"],\n",
    "                fill_color=\"green\",\n",
    "                align=\"left\"),\n",
    "    cells=dict(values=[restaurantes_municipio[\"municipio\"], restaurantes_municipio[\"cantidad_restaurantes\"]],\n",
    "               fill_color=\"lavender\",\n",
    "               align=\"left\"))\n",
    "])\n",
    "\n",
    "\n",
    "fig.update_layout(title=\"Cantidad de Restaurantes por Municipio\")\n",
    "fig.show()\n",
    "\n",
    "total = restaurantes_municipio['cantidad_restaurantes'].sum()\n",
    "print(\"Total de Restaurantes: \",total)\n"
   ]
  },
  {
   "cell_type": "markdown",
   "metadata": {},
   "source": [
    "Lo primero era estudiar el mercado para conocer los precios de la competencia, él quería que sus precios estuvieran por debajo de una gran parte de los restaurantes de \"glamour\", que como le decía su madre: \"mijo ese lugar es solo para turistas\", porque siempre consideró los precios \"locos\" un abuso para el cubano de a pie y quería que su restaurante, aunque no tuviera mucho lujo, fuera algo absequible al menos para la mayoría."
   ]
  },
  {
   "cell_type": "code",
   "execution_count": 33,
   "metadata": {},
   "outputs": [
    {
     "data": {
      "application/vnd.plotly.v1+json": {
       "config": {
        "plotlyServerURL": "https://plot.ly"
       },
       "data": [
        {
         "cells": {
          "align": "left",
          "fill": {
           "color": "lavender"
          },
          "values": [
           [
            "@2KFE",
            "5ta Billar",
            "Cafe Atardecer",
            "La Nueva Guitarreta",
            "Restaurante Lan"
           ],
           [
            "Tacos Res",
            "LA PARRILLADA",
            "Escalope de cerdo",
            "Arroz Frito Especial",
            "Camarones al ajillo"
           ],
           [
            900,
            4950,
            480,
            1800,
            550
           ],
           [
            "Tacos Vegetariano",
            "TACOS DE CERDO",
            "Pescado empanado",
            "Ración de Arroz Blanco",
            "Filete de malanga con salsa agridulce"
           ],
           [
            400,
            950,
            330,
            150,
            300
           ]
          ]
         },
         "header": {
          "align": "left",
          "fill": {
           "color": "pink"
          },
          "values": [
           "Restaurante",
           "Plato Más Caro",
           "Precio",
           "Plato Más Barato",
           "Precio"
          ]
         },
         "type": "table"
        }
       ],
       "layout": {
        "template": {
         "data": {
          "bar": [
           {
            "error_x": {
             "color": "#2a3f5f"
            },
            "error_y": {
             "color": "#2a3f5f"
            },
            "marker": {
             "line": {
              "color": "#E5ECF6",
              "width": 0.5
             },
             "pattern": {
              "fillmode": "overlay",
              "size": 10,
              "solidity": 0.2
             }
            },
            "type": "bar"
           }
          ],
          "barpolar": [
           {
            "marker": {
             "line": {
              "color": "#E5ECF6",
              "width": 0.5
             },
             "pattern": {
              "fillmode": "overlay",
              "size": 10,
              "solidity": 0.2
             }
            },
            "type": "barpolar"
           }
          ],
          "carpet": [
           {
            "aaxis": {
             "endlinecolor": "#2a3f5f",
             "gridcolor": "white",
             "linecolor": "white",
             "minorgridcolor": "white",
             "startlinecolor": "#2a3f5f"
            },
            "baxis": {
             "endlinecolor": "#2a3f5f",
             "gridcolor": "white",
             "linecolor": "white",
             "minorgridcolor": "white",
             "startlinecolor": "#2a3f5f"
            },
            "type": "carpet"
           }
          ],
          "choropleth": [
           {
            "colorbar": {
             "outlinewidth": 0,
             "ticks": ""
            },
            "type": "choropleth"
           }
          ],
          "contour": [
           {
            "colorbar": {
             "outlinewidth": 0,
             "ticks": ""
            },
            "colorscale": [
             [
              0,
              "#0d0887"
             ],
             [
              0.1111111111111111,
              "#46039f"
             ],
             [
              0.2222222222222222,
              "#7201a8"
             ],
             [
              0.3333333333333333,
              "#9c179e"
             ],
             [
              0.4444444444444444,
              "#bd3786"
             ],
             [
              0.5555555555555556,
              "#d8576b"
             ],
             [
              0.6666666666666666,
              "#ed7953"
             ],
             [
              0.7777777777777778,
              "#fb9f3a"
             ],
             [
              0.8888888888888888,
              "#fdca26"
             ],
             [
              1,
              "#f0f921"
             ]
            ],
            "type": "contour"
           }
          ],
          "contourcarpet": [
           {
            "colorbar": {
             "outlinewidth": 0,
             "ticks": ""
            },
            "type": "contourcarpet"
           }
          ],
          "heatmap": [
           {
            "colorbar": {
             "outlinewidth": 0,
             "ticks": ""
            },
            "colorscale": [
             [
              0,
              "#0d0887"
             ],
             [
              0.1111111111111111,
              "#46039f"
             ],
             [
              0.2222222222222222,
              "#7201a8"
             ],
             [
              0.3333333333333333,
              "#9c179e"
             ],
             [
              0.4444444444444444,
              "#bd3786"
             ],
             [
              0.5555555555555556,
              "#d8576b"
             ],
             [
              0.6666666666666666,
              "#ed7953"
             ],
             [
              0.7777777777777778,
              "#fb9f3a"
             ],
             [
              0.8888888888888888,
              "#fdca26"
             ],
             [
              1,
              "#f0f921"
             ]
            ],
            "type": "heatmap"
           }
          ],
          "heatmapgl": [
           {
            "colorbar": {
             "outlinewidth": 0,
             "ticks": ""
            },
            "colorscale": [
             [
              0,
              "#0d0887"
             ],
             [
              0.1111111111111111,
              "#46039f"
             ],
             [
              0.2222222222222222,
              "#7201a8"
             ],
             [
              0.3333333333333333,
              "#9c179e"
             ],
             [
              0.4444444444444444,
              "#bd3786"
             ],
             [
              0.5555555555555556,
              "#d8576b"
             ],
             [
              0.6666666666666666,
              "#ed7953"
             ],
             [
              0.7777777777777778,
              "#fb9f3a"
             ],
             [
              0.8888888888888888,
              "#fdca26"
             ],
             [
              1,
              "#f0f921"
             ]
            ],
            "type": "heatmapgl"
           }
          ],
          "histogram": [
           {
            "marker": {
             "pattern": {
              "fillmode": "overlay",
              "size": 10,
              "solidity": 0.2
             }
            },
            "type": "histogram"
           }
          ],
          "histogram2d": [
           {
            "colorbar": {
             "outlinewidth": 0,
             "ticks": ""
            },
            "colorscale": [
             [
              0,
              "#0d0887"
             ],
             [
              0.1111111111111111,
              "#46039f"
             ],
             [
              0.2222222222222222,
              "#7201a8"
             ],
             [
              0.3333333333333333,
              "#9c179e"
             ],
             [
              0.4444444444444444,
              "#bd3786"
             ],
             [
              0.5555555555555556,
              "#d8576b"
             ],
             [
              0.6666666666666666,
              "#ed7953"
             ],
             [
              0.7777777777777778,
              "#fb9f3a"
             ],
             [
              0.8888888888888888,
              "#fdca26"
             ],
             [
              1,
              "#f0f921"
             ]
            ],
            "type": "histogram2d"
           }
          ],
          "histogram2dcontour": [
           {
            "colorbar": {
             "outlinewidth": 0,
             "ticks": ""
            },
            "colorscale": [
             [
              0,
              "#0d0887"
             ],
             [
              0.1111111111111111,
              "#46039f"
             ],
             [
              0.2222222222222222,
              "#7201a8"
             ],
             [
              0.3333333333333333,
              "#9c179e"
             ],
             [
              0.4444444444444444,
              "#bd3786"
             ],
             [
              0.5555555555555556,
              "#d8576b"
             ],
             [
              0.6666666666666666,
              "#ed7953"
             ],
             [
              0.7777777777777778,
              "#fb9f3a"
             ],
             [
              0.8888888888888888,
              "#fdca26"
             ],
             [
              1,
              "#f0f921"
             ]
            ],
            "type": "histogram2dcontour"
           }
          ],
          "mesh3d": [
           {
            "colorbar": {
             "outlinewidth": 0,
             "ticks": ""
            },
            "type": "mesh3d"
           }
          ],
          "parcoords": [
           {
            "line": {
             "colorbar": {
              "outlinewidth": 0,
              "ticks": ""
             }
            },
            "type": "parcoords"
           }
          ],
          "pie": [
           {
            "automargin": true,
            "type": "pie"
           }
          ],
          "scatter": [
           {
            "fillpattern": {
             "fillmode": "overlay",
             "size": 10,
             "solidity": 0.2
            },
            "type": "scatter"
           }
          ],
          "scatter3d": [
           {
            "line": {
             "colorbar": {
              "outlinewidth": 0,
              "ticks": ""
             }
            },
            "marker": {
             "colorbar": {
              "outlinewidth": 0,
              "ticks": ""
             }
            },
            "type": "scatter3d"
           }
          ],
          "scattercarpet": [
           {
            "marker": {
             "colorbar": {
              "outlinewidth": 0,
              "ticks": ""
             }
            },
            "type": "scattercarpet"
           }
          ],
          "scattergeo": [
           {
            "marker": {
             "colorbar": {
              "outlinewidth": 0,
              "ticks": ""
             }
            },
            "type": "scattergeo"
           }
          ],
          "scattergl": [
           {
            "marker": {
             "colorbar": {
              "outlinewidth": 0,
              "ticks": ""
             }
            },
            "type": "scattergl"
           }
          ],
          "scattermapbox": [
           {
            "marker": {
             "colorbar": {
              "outlinewidth": 0,
              "ticks": ""
             }
            },
            "type": "scattermapbox"
           }
          ],
          "scatterpolar": [
           {
            "marker": {
             "colorbar": {
              "outlinewidth": 0,
              "ticks": ""
             }
            },
            "type": "scatterpolar"
           }
          ],
          "scatterpolargl": [
           {
            "marker": {
             "colorbar": {
              "outlinewidth": 0,
              "ticks": ""
             }
            },
            "type": "scatterpolargl"
           }
          ],
          "scatterternary": [
           {
            "marker": {
             "colorbar": {
              "outlinewidth": 0,
              "ticks": ""
             }
            },
            "type": "scatterternary"
           }
          ],
          "surface": [
           {
            "colorbar": {
             "outlinewidth": 0,
             "ticks": ""
            },
            "colorscale": [
             [
              0,
              "#0d0887"
             ],
             [
              0.1111111111111111,
              "#46039f"
             ],
             [
              0.2222222222222222,
              "#7201a8"
             ],
             [
              0.3333333333333333,
              "#9c179e"
             ],
             [
              0.4444444444444444,
              "#bd3786"
             ],
             [
              0.5555555555555556,
              "#d8576b"
             ],
             [
              0.6666666666666666,
              "#ed7953"
             ],
             [
              0.7777777777777778,
              "#fb9f3a"
             ],
             [
              0.8888888888888888,
              "#fdca26"
             ],
             [
              1,
              "#f0f921"
             ]
            ],
            "type": "surface"
           }
          ],
          "table": [
           {
            "cells": {
             "fill": {
              "color": "#EBF0F8"
             },
             "line": {
              "color": "white"
             }
            },
            "header": {
             "fill": {
              "color": "#C8D4E3"
             },
             "line": {
              "color": "white"
             }
            },
            "type": "table"
           }
          ]
         },
         "layout": {
          "annotationdefaults": {
           "arrowcolor": "#2a3f5f",
           "arrowhead": 0,
           "arrowwidth": 1
          },
          "autotypenumbers": "strict",
          "coloraxis": {
           "colorbar": {
            "outlinewidth": 0,
            "ticks": ""
           }
          },
          "colorscale": {
           "diverging": [
            [
             0,
             "#8e0152"
            ],
            [
             0.1,
             "#c51b7d"
            ],
            [
             0.2,
             "#de77ae"
            ],
            [
             0.3,
             "#f1b6da"
            ],
            [
             0.4,
             "#fde0ef"
            ],
            [
             0.5,
             "#f7f7f7"
            ],
            [
             0.6,
             "#e6f5d0"
            ],
            [
             0.7,
             "#b8e186"
            ],
            [
             0.8,
             "#7fbc41"
            ],
            [
             0.9,
             "#4d9221"
            ],
            [
             1,
             "#276419"
            ]
           ],
           "sequential": [
            [
             0,
             "#0d0887"
            ],
            [
             0.1111111111111111,
             "#46039f"
            ],
            [
             0.2222222222222222,
             "#7201a8"
            ],
            [
             0.3333333333333333,
             "#9c179e"
            ],
            [
             0.4444444444444444,
             "#bd3786"
            ],
            [
             0.5555555555555556,
             "#d8576b"
            ],
            [
             0.6666666666666666,
             "#ed7953"
            ],
            [
             0.7777777777777778,
             "#fb9f3a"
            ],
            [
             0.8888888888888888,
             "#fdca26"
            ],
            [
             1,
             "#f0f921"
            ]
           ],
           "sequentialminus": [
            [
             0,
             "#0d0887"
            ],
            [
             0.1111111111111111,
             "#46039f"
            ],
            [
             0.2222222222222222,
             "#7201a8"
            ],
            [
             0.3333333333333333,
             "#9c179e"
            ],
            [
             0.4444444444444444,
             "#bd3786"
            ],
            [
             0.5555555555555556,
             "#d8576b"
            ],
            [
             0.6666666666666666,
             "#ed7953"
            ],
            [
             0.7777777777777778,
             "#fb9f3a"
            ],
            [
             0.8888888888888888,
             "#fdca26"
            ],
            [
             1,
             "#f0f921"
            ]
           ]
          },
          "colorway": [
           "#636efa",
           "#EF553B",
           "#00cc96",
           "#ab63fa",
           "#FFA15A",
           "#19d3f3",
           "#FF6692",
           "#B6E880",
           "#FF97FF",
           "#FECB52"
          ],
          "font": {
           "color": "#2a3f5f"
          },
          "geo": {
           "bgcolor": "white",
           "lakecolor": "white",
           "landcolor": "#E5ECF6",
           "showlakes": true,
           "showland": true,
           "subunitcolor": "white"
          },
          "hoverlabel": {
           "align": "left"
          },
          "hovermode": "closest",
          "mapbox": {
           "style": "light"
          },
          "paper_bgcolor": "white",
          "plot_bgcolor": "#E5ECF6",
          "polar": {
           "angularaxis": {
            "gridcolor": "white",
            "linecolor": "white",
            "ticks": ""
           },
           "bgcolor": "#E5ECF6",
           "radialaxis": {
            "gridcolor": "white",
            "linecolor": "white",
            "ticks": ""
           }
          },
          "scene": {
           "xaxis": {
            "backgroundcolor": "#E5ECF6",
            "gridcolor": "white",
            "gridwidth": 2,
            "linecolor": "white",
            "showbackground": true,
            "ticks": "",
            "zerolinecolor": "white"
           },
           "yaxis": {
            "backgroundcolor": "#E5ECF6",
            "gridcolor": "white",
            "gridwidth": 2,
            "linecolor": "white",
            "showbackground": true,
            "ticks": "",
            "zerolinecolor": "white"
           },
           "zaxis": {
            "backgroundcolor": "#E5ECF6",
            "gridcolor": "white",
            "gridwidth": 2,
            "linecolor": "white",
            "showbackground": true,
            "ticks": "",
            "zerolinecolor": "white"
           }
          },
          "shapedefaults": {
           "line": {
            "color": "#2a3f5f"
           }
          },
          "ternary": {
           "aaxis": {
            "gridcolor": "white",
            "linecolor": "white",
            "ticks": ""
           },
           "baxis": {
            "gridcolor": "white",
            "linecolor": "white",
            "ticks": ""
           },
           "bgcolor": "#E5ECF6",
           "caxis": {
            "gridcolor": "white",
            "linecolor": "white",
            "ticks": ""
           }
          },
          "title": {
           "x": 0.05
          },
          "xaxis": {
           "automargin": true,
           "gridcolor": "white",
           "linecolor": "white",
           "ticks": "",
           "title": {
            "standoff": 15
           },
           "zerolinecolor": "white",
           "zerolinewidth": 2
          },
          "yaxis": {
           "automargin": true,
           "gridcolor": "white",
           "linecolor": "white",
           "ticks": "",
           "title": {
            "standoff": 15
           },
           "zerolinecolor": "white",
           "zerolinewidth": 2
          }
         }
        },
        "title": {
         "text": "Platos Más Caros y Más Baratos por Restaurante"
        }
       }
      }
     },
     "metadata": {},
     "output_type": "display_data"
    }
   ],
   "source": [
    "resultados_municipios = bp.obtener_restaurantes_por_municipio(data, 'regla')\n",
    "\n",
    "fig = go.Figure(data=[go.Table(\n",
    "    header=dict(values=[\"Restaurante\", \"Plato Más Caro\", \"Precio\", \"Plato Más Barato\", \"Precio\"],\n",
    "                fill_color=\"pink\",\n",
    "                align=\"left\"),\n",
    "    cells=dict(values=[resultados_municipios['nombre_restaurante'], \n",
    "                       resultados_municipios['plato_mas_caro'],\n",
    "                       resultados_municipios['precio_mas_caro'],\n",
    "                       resultados_municipios['plato_mas_barato'],\n",
    "                       resultados_municipios['precio_mas_barato']],\n",
    "               fill_color=\"lavender\",\n",
    "               align=\"left\"))\n",
    "])\n",
    "\n",
    "fig.update_layout(title=\"Platos Más Caros y Más Baratos por Restaurante\")\n",
    "\n",
    "fig.show()\n"
   ]
  },
  {
   "cell_type": "markdown",
   "metadata": {},
   "source": [
    "Después que quedó comprobado que los precios de los diferentes citios iban desde los 400 cup en pequeños cafés, o cafeterias estatales, hasta 10000 cup en restaurantes más refiinados en el corazón del Vedado o en las históricas plazas de la Habana Vieja, decidió que el suyo tendría un media de 1000 cup ya conocía el dato de que el salario medio de los cubanos es de 4.648 cup según la Oficina Nacional de Estadística e Información (ONEI) y dado que el precio medio de su restaurante vendría siendo el 21.51% de del sueldo, no le parecía lo más correcto, pero no podía hacer nada más debido al aumento de los precios de los productos que necesitaría para elaborar su menú.\n",
    "\n",
    "\n",
    "\n"
   ]
  },
  {
   "cell_type": "markdown",
   "metadata": {},
   "source": [
    "\n",
    "![2](Plato.png)\n"
   ]
  },
  {
   "cell_type": "markdown",
   "metadata": {},
   "source": [
    "Ay!!, mijo lo único que te va a pedir tu madre es que por favor no me pongas a preparar moderneses tu sabes que mi cocina es a la antigua y compra sazones naturales que para tí no es novedad el odio que le tengo a cocinar con polvitos de esos.\n",
    "\n",
    "-Alejandro: Tranquila vieja, aquí se cocina lo que tú digas y sabes que no hay cosa que nos guste más a nosotros que los platillos comunes, aqui no somos de caviar, ni de salmón, hasta el restaurante mas glamuroso de La Habana tiene que tener en su menú una oferta de ropa vieja y unas buenas croquetas."
   ]
  },
  {
   "cell_type": "code",
   "execution_count": 22,
   "metadata": {},
   "outputs": [
    {
     "data": {
      "application/vnd.plotly.v1+json": {
       "config": {
        "plotlyServerURL": "https://plot.ly"
       },
       "data": [
        {
         "marker": {
          "color": "red"
         },
         "name": "Entrantes",
         "type": "bar",
         "visible": true,
         "x": [
          "croquetas",
          "frituras de malanga",
          "papas fritas"
         ],
         "y": [
          43,
          43,
          37
         ]
        },
        {
         "marker": {
          "color": "blue"
         },
         "name": "Principales",
         "type": "bar",
         "visible": false,
         "x": [
          "ropa vieja",
          "bistec de cerdo",
          "vaca frita"
         ],
         "y": [
          47,
          30,
          29
         ]
        },
        {
         "marker": {
          "color": "green"
         },
         "name": "Pizzas",
         "type": "bar",
         "visible": false,
         "x": [
          "pizza napolitana",
          "pizza hawaiana",
          "pizza de jamon"
         ],
         "y": [
          38,
          30,
          19
         ]
        },
        {
         "marker": {
          "color": "orange"
         },
         "name": "Postres",
         "type": "bar",
         "visible": false,
         "x": [
          "flan",
          "copa de helado",
          "copa lolita"
         ],
         "y": [
          19,
          17,
          15
         ]
        },
        {
         "marker": {
          "color": "purple"
         },
         "name": "Cocteles",
         "type": "bar",
         "visible": false,
         "x": [
          "cuba libre",
          "mojito",
          "caipiroska"
         ],
         "y": [
          69,
          65,
          61
         ]
        }
       ],
       "layout": {
        "template": {
         "data": {
          "bar": [
           {
            "error_x": {
             "color": "#2a3f5f"
            },
            "error_y": {
             "color": "#2a3f5f"
            },
            "marker": {
             "line": {
              "color": "#E5ECF6",
              "width": 0.5
             },
             "pattern": {
              "fillmode": "overlay",
              "size": 10,
              "solidity": 0.2
             }
            },
            "type": "bar"
           }
          ],
          "barpolar": [
           {
            "marker": {
             "line": {
              "color": "#E5ECF6",
              "width": 0.5
             },
             "pattern": {
              "fillmode": "overlay",
              "size": 10,
              "solidity": 0.2
             }
            },
            "type": "barpolar"
           }
          ],
          "carpet": [
           {
            "aaxis": {
             "endlinecolor": "#2a3f5f",
             "gridcolor": "white",
             "linecolor": "white",
             "minorgridcolor": "white",
             "startlinecolor": "#2a3f5f"
            },
            "baxis": {
             "endlinecolor": "#2a3f5f",
             "gridcolor": "white",
             "linecolor": "white",
             "minorgridcolor": "white",
             "startlinecolor": "#2a3f5f"
            },
            "type": "carpet"
           }
          ],
          "choropleth": [
           {
            "colorbar": {
             "outlinewidth": 0,
             "ticks": ""
            },
            "type": "choropleth"
           }
          ],
          "contour": [
           {
            "colorbar": {
             "outlinewidth": 0,
             "ticks": ""
            },
            "colorscale": [
             [
              0,
              "#0d0887"
             ],
             [
              0.1111111111111111,
              "#46039f"
             ],
             [
              0.2222222222222222,
              "#7201a8"
             ],
             [
              0.3333333333333333,
              "#9c179e"
             ],
             [
              0.4444444444444444,
              "#bd3786"
             ],
             [
              0.5555555555555556,
              "#d8576b"
             ],
             [
              0.6666666666666666,
              "#ed7953"
             ],
             [
              0.7777777777777778,
              "#fb9f3a"
             ],
             [
              0.8888888888888888,
              "#fdca26"
             ],
             [
              1,
              "#f0f921"
             ]
            ],
            "type": "contour"
           }
          ],
          "contourcarpet": [
           {
            "colorbar": {
             "outlinewidth": 0,
             "ticks": ""
            },
            "type": "contourcarpet"
           }
          ],
          "heatmap": [
           {
            "colorbar": {
             "outlinewidth": 0,
             "ticks": ""
            },
            "colorscale": [
             [
              0,
              "#0d0887"
             ],
             [
              0.1111111111111111,
              "#46039f"
             ],
             [
              0.2222222222222222,
              "#7201a8"
             ],
             [
              0.3333333333333333,
              "#9c179e"
             ],
             [
              0.4444444444444444,
              "#bd3786"
             ],
             [
              0.5555555555555556,
              "#d8576b"
             ],
             [
              0.6666666666666666,
              "#ed7953"
             ],
             [
              0.7777777777777778,
              "#fb9f3a"
             ],
             [
              0.8888888888888888,
              "#fdca26"
             ],
             [
              1,
              "#f0f921"
             ]
            ],
            "type": "heatmap"
           }
          ],
          "heatmapgl": [
           {
            "colorbar": {
             "outlinewidth": 0,
             "ticks": ""
            },
            "colorscale": [
             [
              0,
              "#0d0887"
             ],
             [
              0.1111111111111111,
              "#46039f"
             ],
             [
              0.2222222222222222,
              "#7201a8"
             ],
             [
              0.3333333333333333,
              "#9c179e"
             ],
             [
              0.4444444444444444,
              "#bd3786"
             ],
             [
              0.5555555555555556,
              "#d8576b"
             ],
             [
              0.6666666666666666,
              "#ed7953"
             ],
             [
              0.7777777777777778,
              "#fb9f3a"
             ],
             [
              0.8888888888888888,
              "#fdca26"
             ],
             [
              1,
              "#f0f921"
             ]
            ],
            "type": "heatmapgl"
           }
          ],
          "histogram": [
           {
            "marker": {
             "pattern": {
              "fillmode": "overlay",
              "size": 10,
              "solidity": 0.2
             }
            },
            "type": "histogram"
           }
          ],
          "histogram2d": [
           {
            "colorbar": {
             "outlinewidth": 0,
             "ticks": ""
            },
            "colorscale": [
             [
              0,
              "#0d0887"
             ],
             [
              0.1111111111111111,
              "#46039f"
             ],
             [
              0.2222222222222222,
              "#7201a8"
             ],
             [
              0.3333333333333333,
              "#9c179e"
             ],
             [
              0.4444444444444444,
              "#bd3786"
             ],
             [
              0.5555555555555556,
              "#d8576b"
             ],
             [
              0.6666666666666666,
              "#ed7953"
             ],
             [
              0.7777777777777778,
              "#fb9f3a"
             ],
             [
              0.8888888888888888,
              "#fdca26"
             ],
             [
              1,
              "#f0f921"
             ]
            ],
            "type": "histogram2d"
           }
          ],
          "histogram2dcontour": [
           {
            "colorbar": {
             "outlinewidth": 0,
             "ticks": ""
            },
            "colorscale": [
             [
              0,
              "#0d0887"
             ],
             [
              0.1111111111111111,
              "#46039f"
             ],
             [
              0.2222222222222222,
              "#7201a8"
             ],
             [
              0.3333333333333333,
              "#9c179e"
             ],
             [
              0.4444444444444444,
              "#bd3786"
             ],
             [
              0.5555555555555556,
              "#d8576b"
             ],
             [
              0.6666666666666666,
              "#ed7953"
             ],
             [
              0.7777777777777778,
              "#fb9f3a"
             ],
             [
              0.8888888888888888,
              "#fdca26"
             ],
             [
              1,
              "#f0f921"
             ]
            ],
            "type": "histogram2dcontour"
           }
          ],
          "mesh3d": [
           {
            "colorbar": {
             "outlinewidth": 0,
             "ticks": ""
            },
            "type": "mesh3d"
           }
          ],
          "parcoords": [
           {
            "line": {
             "colorbar": {
              "outlinewidth": 0,
              "ticks": ""
             }
            },
            "type": "parcoords"
           }
          ],
          "pie": [
           {
            "automargin": true,
            "type": "pie"
           }
          ],
          "scatter": [
           {
            "fillpattern": {
             "fillmode": "overlay",
             "size": 10,
             "solidity": 0.2
            },
            "type": "scatter"
           }
          ],
          "scatter3d": [
           {
            "line": {
             "colorbar": {
              "outlinewidth": 0,
              "ticks": ""
             }
            },
            "marker": {
             "colorbar": {
              "outlinewidth": 0,
              "ticks": ""
             }
            },
            "type": "scatter3d"
           }
          ],
          "scattercarpet": [
           {
            "marker": {
             "colorbar": {
              "outlinewidth": 0,
              "ticks": ""
             }
            },
            "type": "scattercarpet"
           }
          ],
          "scattergeo": [
           {
            "marker": {
             "colorbar": {
              "outlinewidth": 0,
              "ticks": ""
             }
            },
            "type": "scattergeo"
           }
          ],
          "scattergl": [
           {
            "marker": {
             "colorbar": {
              "outlinewidth": 0,
              "ticks": ""
             }
            },
            "type": "scattergl"
           }
          ],
          "scattermapbox": [
           {
            "marker": {
             "colorbar": {
              "outlinewidth": 0,
              "ticks": ""
             }
            },
            "type": "scattermapbox"
           }
          ],
          "scatterpolar": [
           {
            "marker": {
             "colorbar": {
              "outlinewidth": 0,
              "ticks": ""
             }
            },
            "type": "scatterpolar"
           }
          ],
          "scatterpolargl": [
           {
            "marker": {
             "colorbar": {
              "outlinewidth": 0,
              "ticks": ""
             }
            },
            "type": "scatterpolargl"
           }
          ],
          "scatterternary": [
           {
            "marker": {
             "colorbar": {
              "outlinewidth": 0,
              "ticks": ""
             }
            },
            "type": "scatterternary"
           }
          ],
          "surface": [
           {
            "colorbar": {
             "outlinewidth": 0,
             "ticks": ""
            },
            "colorscale": [
             [
              0,
              "#0d0887"
             ],
             [
              0.1111111111111111,
              "#46039f"
             ],
             [
              0.2222222222222222,
              "#7201a8"
             ],
             [
              0.3333333333333333,
              "#9c179e"
             ],
             [
              0.4444444444444444,
              "#bd3786"
             ],
             [
              0.5555555555555556,
              "#d8576b"
             ],
             [
              0.6666666666666666,
              "#ed7953"
             ],
             [
              0.7777777777777778,
              "#fb9f3a"
             ],
             [
              0.8888888888888888,
              "#fdca26"
             ],
             [
              1,
              "#f0f921"
             ]
            ],
            "type": "surface"
           }
          ],
          "table": [
           {
            "cells": {
             "fill": {
              "color": "#EBF0F8"
             },
             "line": {
              "color": "white"
             }
            },
            "header": {
             "fill": {
              "color": "#C8D4E3"
             },
             "line": {
              "color": "white"
             }
            },
            "type": "table"
           }
          ]
         },
         "layout": {
          "annotationdefaults": {
           "arrowcolor": "#2a3f5f",
           "arrowhead": 0,
           "arrowwidth": 1
          },
          "autotypenumbers": "strict",
          "coloraxis": {
           "colorbar": {
            "outlinewidth": 0,
            "ticks": ""
           }
          },
          "colorscale": {
           "diverging": [
            [
             0,
             "#8e0152"
            ],
            [
             0.1,
             "#c51b7d"
            ],
            [
             0.2,
             "#de77ae"
            ],
            [
             0.3,
             "#f1b6da"
            ],
            [
             0.4,
             "#fde0ef"
            ],
            [
             0.5,
             "#f7f7f7"
            ],
            [
             0.6,
             "#e6f5d0"
            ],
            [
             0.7,
             "#b8e186"
            ],
            [
             0.8,
             "#7fbc41"
            ],
            [
             0.9,
             "#4d9221"
            ],
            [
             1,
             "#276419"
            ]
           ],
           "sequential": [
            [
             0,
             "#0d0887"
            ],
            [
             0.1111111111111111,
             "#46039f"
            ],
            [
             0.2222222222222222,
             "#7201a8"
            ],
            [
             0.3333333333333333,
             "#9c179e"
            ],
            [
             0.4444444444444444,
             "#bd3786"
            ],
            [
             0.5555555555555556,
             "#d8576b"
            ],
            [
             0.6666666666666666,
             "#ed7953"
            ],
            [
             0.7777777777777778,
             "#fb9f3a"
            ],
            [
             0.8888888888888888,
             "#fdca26"
            ],
            [
             1,
             "#f0f921"
            ]
           ],
           "sequentialminus": [
            [
             0,
             "#0d0887"
            ],
            [
             0.1111111111111111,
             "#46039f"
            ],
            [
             0.2222222222222222,
             "#7201a8"
            ],
            [
             0.3333333333333333,
             "#9c179e"
            ],
            [
             0.4444444444444444,
             "#bd3786"
            ],
            [
             0.5555555555555556,
             "#d8576b"
            ],
            [
             0.6666666666666666,
             "#ed7953"
            ],
            [
             0.7777777777777778,
             "#fb9f3a"
            ],
            [
             0.8888888888888888,
             "#fdca26"
            ],
            [
             1,
             "#f0f921"
            ]
           ]
          },
          "colorway": [
           "#636efa",
           "#EF553B",
           "#00cc96",
           "#ab63fa",
           "#FFA15A",
           "#19d3f3",
           "#FF6692",
           "#B6E880",
           "#FF97FF",
           "#FECB52"
          ],
          "font": {
           "color": "#2a3f5f"
          },
          "geo": {
           "bgcolor": "white",
           "lakecolor": "white",
           "landcolor": "#E5ECF6",
           "showlakes": true,
           "showland": true,
           "subunitcolor": "white"
          },
          "hoverlabel": {
           "align": "left"
          },
          "hovermode": "closest",
          "mapbox": {
           "style": "light"
          },
          "paper_bgcolor": "white",
          "plot_bgcolor": "#E5ECF6",
          "polar": {
           "angularaxis": {
            "gridcolor": "white",
            "linecolor": "white",
            "ticks": ""
           },
           "bgcolor": "#E5ECF6",
           "radialaxis": {
            "gridcolor": "white",
            "linecolor": "white",
            "ticks": ""
           }
          },
          "scene": {
           "xaxis": {
            "backgroundcolor": "#E5ECF6",
            "gridcolor": "white",
            "gridwidth": 2,
            "linecolor": "white",
            "showbackground": true,
            "ticks": "",
            "zerolinecolor": "white"
           },
           "yaxis": {
            "backgroundcolor": "#E5ECF6",
            "gridcolor": "white",
            "gridwidth": 2,
            "linecolor": "white",
            "showbackground": true,
            "ticks": "",
            "zerolinecolor": "white"
           },
           "zaxis": {
            "backgroundcolor": "#E5ECF6",
            "gridcolor": "white",
            "gridwidth": 2,
            "linecolor": "white",
            "showbackground": true,
            "ticks": "",
            "zerolinecolor": "white"
           }
          },
          "shapedefaults": {
           "line": {
            "color": "#2a3f5f"
           }
          },
          "ternary": {
           "aaxis": {
            "gridcolor": "white",
            "linecolor": "white",
            "ticks": ""
           },
           "baxis": {
            "gridcolor": "white",
            "linecolor": "white",
            "ticks": ""
           },
           "bgcolor": "#E5ECF6",
           "caxis": {
            "gridcolor": "white",
            "linecolor": "white",
            "ticks": ""
           }
          },
          "title": {
           "x": 0.05
          },
          "xaxis": {
           "automargin": true,
           "gridcolor": "white",
           "linecolor": "white",
           "ticks": "",
           "title": {
            "standoff": 15
           },
           "zerolinecolor": "white",
           "zerolinewidth": 2
          },
          "yaxis": {
           "automargin": true,
           "gridcolor": "white",
           "linecolor": "white",
           "ticks": "",
           "title": {
            "standoff": 15
           },
           "zerolinecolor": "white",
           "zerolinewidth": 2
          }
         }
        },
        "updatemenus": [
         {
          "buttons": [
           {
            "args": [
             {
              "visible": [
               true,
               false,
               false,
               false,
               false
              ]
             },
             {
              "title": "Entrantes mas comunes"
             }
            ],
            "label": "Entrantes",
            "method": "update"
           },
           {
            "args": [
             {
              "visible": [
               false,
               true,
               false,
               false,
               false
              ]
             },
             {
              "title": "Principales mas comunes"
             }
            ],
            "label": "Principales",
            "method": "update"
           },
           {
            "args": [
             {
              "visible": [
               false,
               false,
               true,
               false,
               false
              ]
             },
             {
              "title": "Pizzas mas comunes"
             }
            ],
            "label": "Pizzas",
            "method": "update"
           },
           {
            "args": [
             {
              "visible": [
               false,
               false,
               false,
               true,
               false
              ]
             },
             {
              "title": "Postres mas comunes"
             }
            ],
            "label": "Postres",
            "method": "update"
           },
           {
            "args": [
             {
              "visible": [
               false,
               false,
               false,
               false,
               true
              ]
             },
             {
              "title": "Cocteles mas comunes"
             }
            ],
            "label": "Cocteles",
            "method": "update"
           }
          ],
          "showactive": true,
          "type": "buttons"
         }
        ]
       }
      }
     },
     "metadata": {},
     "output_type": "display_data"
    }
   ],
   "source": [
    "#Grafico de barras que muestra cuales son los 3 (entrantes,principales,pizzas,postres,cocteles) mas comunes en los menus :)\n",
    "\n",
    "starters = bp.encontrar_comunes(data, \"starters\")\n",
    "mains = bp.encontrar_comunes(data, \"mains\")\n",
    "pizzas = bp.encontrar_comunes(data, \"pizza\")\n",
    "desserts = bp.encontrar_comunes(data, \"desserts\")\n",
    "cocktails = bp.encontrar_comunes(data, \"cocktails\")\n",
    "\n",
    "grafico_starters = bp.c_grafico(starters, \"Entrantes\", \"red\")\n",
    "grafico_mains = bp.c_grafico(mains, \"Principales\", \"blue\")\n",
    "grafico_pizzas = bp.c_grafico(pizzas, \"Pizzas\",\"green\")\n",
    "grafico_desserts = bp.c_grafico(desserts, \"Postres\", \"orange\")\n",
    "grafico_cocktails = bp.c_grafico(cocktails, \"Cocteles\", \"purple\")\n",
    "\n",
    "\n",
    "fig = go.Figure()\n",
    "\n",
    "\n",
    "fig.add_traces([grafico_starters, grafico_mains, grafico_pizzas, grafico_desserts, grafico_cocktails])\n",
    "\n",
    "fig.update_traces(visible=False)\n",
    "fig.data[0].visible = True  \n",
    "\n",
    "\n",
    "buttons = [\n",
    "    dict(label=\"Entrantes\", method=\"update\", args=[{\"visible\": [True, False, False, False, False]}, {\"title\": \"Entrantes mas comunes\"}]),\n",
    "    dict(label=\"Principales\", method=\"update\", args=[{\"visible\": [False, True, False, False, False]}, {\"title\": \"Principales mas comunes\"}]),\n",
    "    dict(label=\"Pizzas\", method=\"update\", args=[{\"visible\": [False, False, True, False, False]}, {\"title\": \"Pizzas mas comunes\"}]),\n",
    "    dict(label=\"Postres\", method=\"update\", args=[{\"visible\": [False, False, False, True, False]}, {\"title\": \"Postres mas comunes\"}]),\n",
    "    dict(label=\"Cocteles\", method=\"update\", args=[{\"visible\": [False, False, False, False, True]}, {\"title\": \"Cocteles mas comunes\"}]),]\n",
    "   \n",
    "fig.update_layout(\n",
    "    updatemenus=[\n",
    "        dict(\n",
    "            type=\"buttons\",\n",
    "            showactive=True,\n",
    "            buttons=buttons,\n",
    "        )\n",
    "    ]\n",
    ")\n",
    "\n",
    "pio.show(fig)"
   ]
  },
  {
   "cell_type": "markdown",
   "metadata": {},
   "source": [
    "Necesitaría saber cuales son los productos más caros que tendría que comprar para ir haciéndome una idea de cual tendría que ser la inversion en materia prima.\n",
    "\n",
    "-Caridad: Hay alejandro ni que fueras bobo, aqui todos sabemos que los más caros es la carne\n",
    "\n",
    "Pero para que las cosas salgan bien todo conlleva una investigación."
   ]
  },
  {
   "cell_type": "code",
   "execution_count": 24,
   "metadata": {},
   "outputs": [
    {
     "data": {
      "application/vnd.plotly.v1+json": {
       "config": {
        "plotlyServerURL": "https://plot.ly"
       },
       "data": [
        {
         "alignmentgroup": "True",
         "hovertemplate": "Nombre del Plato=%{x}<br>Precio ($)=%{y}<extra></extra>",
         "legendgroup": "",
         "marker": {
          "color": "#636efa",
          "pattern": {
           "shape": ""
          }
         },
         "name": "",
         "offsetgroup": "",
         "orientation": "v",
         "showlegend": false,
         "textposition": "auto",
         "type": "bar",
         "x": [
          "Tomahawk Steak",
          "Mar y tierra",
          "tomahawk",
          "1kg cerdo asado",
          "Barbacoa para dos"
         ],
         "xaxis": "x",
         "y": [
          19200,
          19000,
          16500,
          15000,
          14000
         ],
         "yaxis": "y"
        }
       ],
       "layout": {
        "barmode": "relative",
        "legend": {
         "tracegroupgap": 0
        },
        "template": {
         "data": {
          "bar": [
           {
            "error_x": {
             "color": "#2a3f5f"
            },
            "error_y": {
             "color": "#2a3f5f"
            },
            "marker": {
             "line": {
              "color": "#E5ECF6",
              "width": 0.5
             },
             "pattern": {
              "fillmode": "overlay",
              "size": 10,
              "solidity": 0.2
             }
            },
            "type": "bar"
           }
          ],
          "barpolar": [
           {
            "marker": {
             "line": {
              "color": "#E5ECF6",
              "width": 0.5
             },
             "pattern": {
              "fillmode": "overlay",
              "size": 10,
              "solidity": 0.2
             }
            },
            "type": "barpolar"
           }
          ],
          "carpet": [
           {
            "aaxis": {
             "endlinecolor": "#2a3f5f",
             "gridcolor": "white",
             "linecolor": "white",
             "minorgridcolor": "white",
             "startlinecolor": "#2a3f5f"
            },
            "baxis": {
             "endlinecolor": "#2a3f5f",
             "gridcolor": "white",
             "linecolor": "white",
             "minorgridcolor": "white",
             "startlinecolor": "#2a3f5f"
            },
            "type": "carpet"
           }
          ],
          "choropleth": [
           {
            "colorbar": {
             "outlinewidth": 0,
             "ticks": ""
            },
            "type": "choropleth"
           }
          ],
          "contour": [
           {
            "colorbar": {
             "outlinewidth": 0,
             "ticks": ""
            },
            "colorscale": [
             [
              0,
              "#0d0887"
             ],
             [
              0.1111111111111111,
              "#46039f"
             ],
             [
              0.2222222222222222,
              "#7201a8"
             ],
             [
              0.3333333333333333,
              "#9c179e"
             ],
             [
              0.4444444444444444,
              "#bd3786"
             ],
             [
              0.5555555555555556,
              "#d8576b"
             ],
             [
              0.6666666666666666,
              "#ed7953"
             ],
             [
              0.7777777777777778,
              "#fb9f3a"
             ],
             [
              0.8888888888888888,
              "#fdca26"
             ],
             [
              1,
              "#f0f921"
             ]
            ],
            "type": "contour"
           }
          ],
          "contourcarpet": [
           {
            "colorbar": {
             "outlinewidth": 0,
             "ticks": ""
            },
            "type": "contourcarpet"
           }
          ],
          "heatmap": [
           {
            "colorbar": {
             "outlinewidth": 0,
             "ticks": ""
            },
            "colorscale": [
             [
              0,
              "#0d0887"
             ],
             [
              0.1111111111111111,
              "#46039f"
             ],
             [
              0.2222222222222222,
              "#7201a8"
             ],
             [
              0.3333333333333333,
              "#9c179e"
             ],
             [
              0.4444444444444444,
              "#bd3786"
             ],
             [
              0.5555555555555556,
              "#d8576b"
             ],
             [
              0.6666666666666666,
              "#ed7953"
             ],
             [
              0.7777777777777778,
              "#fb9f3a"
             ],
             [
              0.8888888888888888,
              "#fdca26"
             ],
             [
              1,
              "#f0f921"
             ]
            ],
            "type": "heatmap"
           }
          ],
          "heatmapgl": [
           {
            "colorbar": {
             "outlinewidth": 0,
             "ticks": ""
            },
            "colorscale": [
             [
              0,
              "#0d0887"
             ],
             [
              0.1111111111111111,
              "#46039f"
             ],
             [
              0.2222222222222222,
              "#7201a8"
             ],
             [
              0.3333333333333333,
              "#9c179e"
             ],
             [
              0.4444444444444444,
              "#bd3786"
             ],
             [
              0.5555555555555556,
              "#d8576b"
             ],
             [
              0.6666666666666666,
              "#ed7953"
             ],
             [
              0.7777777777777778,
              "#fb9f3a"
             ],
             [
              0.8888888888888888,
              "#fdca26"
             ],
             [
              1,
              "#f0f921"
             ]
            ],
            "type": "heatmapgl"
           }
          ],
          "histogram": [
           {
            "marker": {
             "pattern": {
              "fillmode": "overlay",
              "size": 10,
              "solidity": 0.2
             }
            },
            "type": "histogram"
           }
          ],
          "histogram2d": [
           {
            "colorbar": {
             "outlinewidth": 0,
             "ticks": ""
            },
            "colorscale": [
             [
              0,
              "#0d0887"
             ],
             [
              0.1111111111111111,
              "#46039f"
             ],
             [
              0.2222222222222222,
              "#7201a8"
             ],
             [
              0.3333333333333333,
              "#9c179e"
             ],
             [
              0.4444444444444444,
              "#bd3786"
             ],
             [
              0.5555555555555556,
              "#d8576b"
             ],
             [
              0.6666666666666666,
              "#ed7953"
             ],
             [
              0.7777777777777778,
              "#fb9f3a"
             ],
             [
              0.8888888888888888,
              "#fdca26"
             ],
             [
              1,
              "#f0f921"
             ]
            ],
            "type": "histogram2d"
           }
          ],
          "histogram2dcontour": [
           {
            "colorbar": {
             "outlinewidth": 0,
             "ticks": ""
            },
            "colorscale": [
             [
              0,
              "#0d0887"
             ],
             [
              0.1111111111111111,
              "#46039f"
             ],
             [
              0.2222222222222222,
              "#7201a8"
             ],
             [
              0.3333333333333333,
              "#9c179e"
             ],
             [
              0.4444444444444444,
              "#bd3786"
             ],
             [
              0.5555555555555556,
              "#d8576b"
             ],
             [
              0.6666666666666666,
              "#ed7953"
             ],
             [
              0.7777777777777778,
              "#fb9f3a"
             ],
             [
              0.8888888888888888,
              "#fdca26"
             ],
             [
              1,
              "#f0f921"
             ]
            ],
            "type": "histogram2dcontour"
           }
          ],
          "mesh3d": [
           {
            "colorbar": {
             "outlinewidth": 0,
             "ticks": ""
            },
            "type": "mesh3d"
           }
          ],
          "parcoords": [
           {
            "line": {
             "colorbar": {
              "outlinewidth": 0,
              "ticks": ""
             }
            },
            "type": "parcoords"
           }
          ],
          "pie": [
           {
            "automargin": true,
            "type": "pie"
           }
          ],
          "scatter": [
           {
            "fillpattern": {
             "fillmode": "overlay",
             "size": 10,
             "solidity": 0.2
            },
            "type": "scatter"
           }
          ],
          "scatter3d": [
           {
            "line": {
             "colorbar": {
              "outlinewidth": 0,
              "ticks": ""
             }
            },
            "marker": {
             "colorbar": {
              "outlinewidth": 0,
              "ticks": ""
             }
            },
            "type": "scatter3d"
           }
          ],
          "scattercarpet": [
           {
            "marker": {
             "colorbar": {
              "outlinewidth": 0,
              "ticks": ""
             }
            },
            "type": "scattercarpet"
           }
          ],
          "scattergeo": [
           {
            "marker": {
             "colorbar": {
              "outlinewidth": 0,
              "ticks": ""
             }
            },
            "type": "scattergeo"
           }
          ],
          "scattergl": [
           {
            "marker": {
             "colorbar": {
              "outlinewidth": 0,
              "ticks": ""
             }
            },
            "type": "scattergl"
           }
          ],
          "scattermapbox": [
           {
            "marker": {
             "colorbar": {
              "outlinewidth": 0,
              "ticks": ""
             }
            },
            "type": "scattermapbox"
           }
          ],
          "scatterpolar": [
           {
            "marker": {
             "colorbar": {
              "outlinewidth": 0,
              "ticks": ""
             }
            },
            "type": "scatterpolar"
           }
          ],
          "scatterpolargl": [
           {
            "marker": {
             "colorbar": {
              "outlinewidth": 0,
              "ticks": ""
             }
            },
            "type": "scatterpolargl"
           }
          ],
          "scatterternary": [
           {
            "marker": {
             "colorbar": {
              "outlinewidth": 0,
              "ticks": ""
             }
            },
            "type": "scatterternary"
           }
          ],
          "surface": [
           {
            "colorbar": {
             "outlinewidth": 0,
             "ticks": ""
            },
            "colorscale": [
             [
              0,
              "#0d0887"
             ],
             [
              0.1111111111111111,
              "#46039f"
             ],
             [
              0.2222222222222222,
              "#7201a8"
             ],
             [
              0.3333333333333333,
              "#9c179e"
             ],
             [
              0.4444444444444444,
              "#bd3786"
             ],
             [
              0.5555555555555556,
              "#d8576b"
             ],
             [
              0.6666666666666666,
              "#ed7953"
             ],
             [
              0.7777777777777778,
              "#fb9f3a"
             ],
             [
              0.8888888888888888,
              "#fdca26"
             ],
             [
              1,
              "#f0f921"
             ]
            ],
            "type": "surface"
           }
          ],
          "table": [
           {
            "cells": {
             "fill": {
              "color": "#EBF0F8"
             },
             "line": {
              "color": "white"
             }
            },
            "header": {
             "fill": {
              "color": "#C8D4E3"
             },
             "line": {
              "color": "white"
             }
            },
            "type": "table"
           }
          ]
         },
         "layout": {
          "annotationdefaults": {
           "arrowcolor": "#2a3f5f",
           "arrowhead": 0,
           "arrowwidth": 1
          },
          "autotypenumbers": "strict",
          "coloraxis": {
           "colorbar": {
            "outlinewidth": 0,
            "ticks": ""
           }
          },
          "colorscale": {
           "diverging": [
            [
             0,
             "#8e0152"
            ],
            [
             0.1,
             "#c51b7d"
            ],
            [
             0.2,
             "#de77ae"
            ],
            [
             0.3,
             "#f1b6da"
            ],
            [
             0.4,
             "#fde0ef"
            ],
            [
             0.5,
             "#f7f7f7"
            ],
            [
             0.6,
             "#e6f5d0"
            ],
            [
             0.7,
             "#b8e186"
            ],
            [
             0.8,
             "#7fbc41"
            ],
            [
             0.9,
             "#4d9221"
            ],
            [
             1,
             "#276419"
            ]
           ],
           "sequential": [
            [
             0,
             "#0d0887"
            ],
            [
             0.1111111111111111,
             "#46039f"
            ],
            [
             0.2222222222222222,
             "#7201a8"
            ],
            [
             0.3333333333333333,
             "#9c179e"
            ],
            [
             0.4444444444444444,
             "#bd3786"
            ],
            [
             0.5555555555555556,
             "#d8576b"
            ],
            [
             0.6666666666666666,
             "#ed7953"
            ],
            [
             0.7777777777777778,
             "#fb9f3a"
            ],
            [
             0.8888888888888888,
             "#fdca26"
            ],
            [
             1,
             "#f0f921"
            ]
           ],
           "sequentialminus": [
            [
             0,
             "#0d0887"
            ],
            [
             0.1111111111111111,
             "#46039f"
            ],
            [
             0.2222222222222222,
             "#7201a8"
            ],
            [
             0.3333333333333333,
             "#9c179e"
            ],
            [
             0.4444444444444444,
             "#bd3786"
            ],
            [
             0.5555555555555556,
             "#d8576b"
            ],
            [
             0.6666666666666666,
             "#ed7953"
            ],
            [
             0.7777777777777778,
             "#fb9f3a"
            ],
            [
             0.8888888888888888,
             "#fdca26"
            ],
            [
             1,
             "#f0f921"
            ]
           ]
          },
          "colorway": [
           "#636efa",
           "#EF553B",
           "#00cc96",
           "#ab63fa",
           "#FFA15A",
           "#19d3f3",
           "#FF6692",
           "#B6E880",
           "#FF97FF",
           "#FECB52"
          ],
          "font": {
           "color": "#2a3f5f"
          },
          "geo": {
           "bgcolor": "white",
           "lakecolor": "white",
           "landcolor": "#E5ECF6",
           "showlakes": true,
           "showland": true,
           "subunitcolor": "white"
          },
          "hoverlabel": {
           "align": "left"
          },
          "hovermode": "closest",
          "mapbox": {
           "style": "light"
          },
          "paper_bgcolor": "white",
          "plot_bgcolor": "#E5ECF6",
          "polar": {
           "angularaxis": {
            "gridcolor": "white",
            "linecolor": "white",
            "ticks": ""
           },
           "bgcolor": "#E5ECF6",
           "radialaxis": {
            "gridcolor": "white",
            "linecolor": "white",
            "ticks": ""
           }
          },
          "scene": {
           "xaxis": {
            "backgroundcolor": "#E5ECF6",
            "gridcolor": "white",
            "gridwidth": 2,
            "linecolor": "white",
            "showbackground": true,
            "ticks": "",
            "zerolinecolor": "white"
           },
           "yaxis": {
            "backgroundcolor": "#E5ECF6",
            "gridcolor": "white",
            "gridwidth": 2,
            "linecolor": "white",
            "showbackground": true,
            "ticks": "",
            "zerolinecolor": "white"
           },
           "zaxis": {
            "backgroundcolor": "#E5ECF6",
            "gridcolor": "white",
            "gridwidth": 2,
            "linecolor": "white",
            "showbackground": true,
            "ticks": "",
            "zerolinecolor": "white"
           }
          },
          "shapedefaults": {
           "line": {
            "color": "#2a3f5f"
           }
          },
          "ternary": {
           "aaxis": {
            "gridcolor": "white",
            "linecolor": "white",
            "ticks": ""
           },
           "baxis": {
            "gridcolor": "white",
            "linecolor": "white",
            "ticks": ""
           },
           "bgcolor": "#E5ECF6",
           "caxis": {
            "gridcolor": "white",
            "linecolor": "white",
            "ticks": ""
           }
          },
          "title": {
           "x": 0.05
          },
          "xaxis": {
           "automargin": true,
           "gridcolor": "white",
           "linecolor": "white",
           "ticks": "",
           "title": {
            "standoff": 15
           },
           "zerolinecolor": "white",
           "zerolinewidth": 2
          },
          "yaxis": {
           "automargin": true,
           "gridcolor": "white",
           "linecolor": "white",
           "ticks": "",
           "title": {
            "standoff": 15
           },
           "zerolinecolor": "white",
           "zerolinewidth": 2
          }
         }
        },
        "title": {
         "text": "Cinco Platos Más Caros"
        },
        "xaxis": {
         "anchor": "y",
         "domain": [
          0,
          1
         ],
         "title": {
          "text": "Nombre del Plato"
         }
        },
        "yaxis": {
         "anchor": "x",
         "domain": [
          0,
          1
         ],
         "title": {
          "text": "Precio ($)"
         }
        }
       }
      }
     },
     "metadata": {},
     "output_type": "display_data"
    }
   ],
   "source": [
    "#Grafico de barras que muestra los 5 platos mas carros\n",
    "nombres, precios = bp.obtener_cinco_platos_mas_caros(data2)\n",
    "\n",
    "fig = px.bar(\n",
    "    x=nombres, \n",
    "    y=precios, \n",
    "    title=\"Cinco Platos Más Caros\", \n",
    "    labels={'x': 'Nombre del Plato', \n",
    "            'y': 'Precio ($)'}\n",
    ")\n",
    "fig.show()\n"
   ]
  },
  {
   "cell_type": "markdown",
   "metadata": {},
   "source": [
    "Oye mami y el tema de los apagones como anda?\n",
    "\n",
    "-Caridad: Bueno mijo hasta ahora vamos por 2 caídas del SEN y a cada rato la quitan lo que poco tiempo\n",
    "\n",
    "Tú crees que valga la pena invertir dinero en una planta?"
   ]
  },
  {
   "cell_type": "markdown",
   "metadata": {},
   "source": [
    "Después de realizar la tarea observó que el 50.7% de los restaurantes que se encontraban en la muestra que había tomado para realizar la investigación poseían un generador eléctrico o al menos una alternativa para poder continuar con el trabajo en caso de cortes en el fluido eléctrico, por lo que determinó que invertir en una planta sería un buen respaldo para que el negocio no se viera afectado en caso de algún incoveniente con la electricidad "
   ]
  },
  {
   "cell_type": "code",
   "execution_count": 25,
   "metadata": {},
   "outputs": [
    {
     "data": {
      "application/vnd.plotly.v1+json": {
       "config": {
        "plotlyServerURL": "https://plot.ly"
       },
       "data": [
        {
         "domain": {
          "x": [
           0,
           1
          ],
          "y": [
           0,
           1
          ]
         },
         "hovertemplate": "label=%{label}<br>value=%{value}<extra></extra>",
         "labels": [
          "Con Generador",
          "Sin Generador"
         ],
         "legendgroup": "",
         "name": "",
         "showlegend": true,
         "type": "pie",
         "values": [
          50.67,
          49.33
         ]
        }
       ],
       "layout": {
        "legend": {
         "tracegroupgap": 0
        },
        "template": {
         "data": {
          "bar": [
           {
            "error_x": {
             "color": "#2a3f5f"
            },
            "error_y": {
             "color": "#2a3f5f"
            },
            "marker": {
             "line": {
              "color": "#E5ECF6",
              "width": 0.5
             },
             "pattern": {
              "fillmode": "overlay",
              "size": 10,
              "solidity": 0.2
             }
            },
            "type": "bar"
           }
          ],
          "barpolar": [
           {
            "marker": {
             "line": {
              "color": "#E5ECF6",
              "width": 0.5
             },
             "pattern": {
              "fillmode": "overlay",
              "size": 10,
              "solidity": 0.2
             }
            },
            "type": "barpolar"
           }
          ],
          "carpet": [
           {
            "aaxis": {
             "endlinecolor": "#2a3f5f",
             "gridcolor": "white",
             "linecolor": "white",
             "minorgridcolor": "white",
             "startlinecolor": "#2a3f5f"
            },
            "baxis": {
             "endlinecolor": "#2a3f5f",
             "gridcolor": "white",
             "linecolor": "white",
             "minorgridcolor": "white",
             "startlinecolor": "#2a3f5f"
            },
            "type": "carpet"
           }
          ],
          "choropleth": [
           {
            "colorbar": {
             "outlinewidth": 0,
             "ticks": ""
            },
            "type": "choropleth"
           }
          ],
          "contour": [
           {
            "colorbar": {
             "outlinewidth": 0,
             "ticks": ""
            },
            "colorscale": [
             [
              0,
              "#0d0887"
             ],
             [
              0.1111111111111111,
              "#46039f"
             ],
             [
              0.2222222222222222,
              "#7201a8"
             ],
             [
              0.3333333333333333,
              "#9c179e"
             ],
             [
              0.4444444444444444,
              "#bd3786"
             ],
             [
              0.5555555555555556,
              "#d8576b"
             ],
             [
              0.6666666666666666,
              "#ed7953"
             ],
             [
              0.7777777777777778,
              "#fb9f3a"
             ],
             [
              0.8888888888888888,
              "#fdca26"
             ],
             [
              1,
              "#f0f921"
             ]
            ],
            "type": "contour"
           }
          ],
          "contourcarpet": [
           {
            "colorbar": {
             "outlinewidth": 0,
             "ticks": ""
            },
            "type": "contourcarpet"
           }
          ],
          "heatmap": [
           {
            "colorbar": {
             "outlinewidth": 0,
             "ticks": ""
            },
            "colorscale": [
             [
              0,
              "#0d0887"
             ],
             [
              0.1111111111111111,
              "#46039f"
             ],
             [
              0.2222222222222222,
              "#7201a8"
             ],
             [
              0.3333333333333333,
              "#9c179e"
             ],
             [
              0.4444444444444444,
              "#bd3786"
             ],
             [
              0.5555555555555556,
              "#d8576b"
             ],
             [
              0.6666666666666666,
              "#ed7953"
             ],
             [
              0.7777777777777778,
              "#fb9f3a"
             ],
             [
              0.8888888888888888,
              "#fdca26"
             ],
             [
              1,
              "#f0f921"
             ]
            ],
            "type": "heatmap"
           }
          ],
          "heatmapgl": [
           {
            "colorbar": {
             "outlinewidth": 0,
             "ticks": ""
            },
            "colorscale": [
             [
              0,
              "#0d0887"
             ],
             [
              0.1111111111111111,
              "#46039f"
             ],
             [
              0.2222222222222222,
              "#7201a8"
             ],
             [
              0.3333333333333333,
              "#9c179e"
             ],
             [
              0.4444444444444444,
              "#bd3786"
             ],
             [
              0.5555555555555556,
              "#d8576b"
             ],
             [
              0.6666666666666666,
              "#ed7953"
             ],
             [
              0.7777777777777778,
              "#fb9f3a"
             ],
             [
              0.8888888888888888,
              "#fdca26"
             ],
             [
              1,
              "#f0f921"
             ]
            ],
            "type": "heatmapgl"
           }
          ],
          "histogram": [
           {
            "marker": {
             "pattern": {
              "fillmode": "overlay",
              "size": 10,
              "solidity": 0.2
             }
            },
            "type": "histogram"
           }
          ],
          "histogram2d": [
           {
            "colorbar": {
             "outlinewidth": 0,
             "ticks": ""
            },
            "colorscale": [
             [
              0,
              "#0d0887"
             ],
             [
              0.1111111111111111,
              "#46039f"
             ],
             [
              0.2222222222222222,
              "#7201a8"
             ],
             [
              0.3333333333333333,
              "#9c179e"
             ],
             [
              0.4444444444444444,
              "#bd3786"
             ],
             [
              0.5555555555555556,
              "#d8576b"
             ],
             [
              0.6666666666666666,
              "#ed7953"
             ],
             [
              0.7777777777777778,
              "#fb9f3a"
             ],
             [
              0.8888888888888888,
              "#fdca26"
             ],
             [
              1,
              "#f0f921"
             ]
            ],
            "type": "histogram2d"
           }
          ],
          "histogram2dcontour": [
           {
            "colorbar": {
             "outlinewidth": 0,
             "ticks": ""
            },
            "colorscale": [
             [
              0,
              "#0d0887"
             ],
             [
              0.1111111111111111,
              "#46039f"
             ],
             [
              0.2222222222222222,
              "#7201a8"
             ],
             [
              0.3333333333333333,
              "#9c179e"
             ],
             [
              0.4444444444444444,
              "#bd3786"
             ],
             [
              0.5555555555555556,
              "#d8576b"
             ],
             [
              0.6666666666666666,
              "#ed7953"
             ],
             [
              0.7777777777777778,
              "#fb9f3a"
             ],
             [
              0.8888888888888888,
              "#fdca26"
             ],
             [
              1,
              "#f0f921"
             ]
            ],
            "type": "histogram2dcontour"
           }
          ],
          "mesh3d": [
           {
            "colorbar": {
             "outlinewidth": 0,
             "ticks": ""
            },
            "type": "mesh3d"
           }
          ],
          "parcoords": [
           {
            "line": {
             "colorbar": {
              "outlinewidth": 0,
              "ticks": ""
             }
            },
            "type": "parcoords"
           }
          ],
          "pie": [
           {
            "automargin": true,
            "type": "pie"
           }
          ],
          "scatter": [
           {
            "fillpattern": {
             "fillmode": "overlay",
             "size": 10,
             "solidity": 0.2
            },
            "type": "scatter"
           }
          ],
          "scatter3d": [
           {
            "line": {
             "colorbar": {
              "outlinewidth": 0,
              "ticks": ""
             }
            },
            "marker": {
             "colorbar": {
              "outlinewidth": 0,
              "ticks": ""
             }
            },
            "type": "scatter3d"
           }
          ],
          "scattercarpet": [
           {
            "marker": {
             "colorbar": {
              "outlinewidth": 0,
              "ticks": ""
             }
            },
            "type": "scattercarpet"
           }
          ],
          "scattergeo": [
           {
            "marker": {
             "colorbar": {
              "outlinewidth": 0,
              "ticks": ""
             }
            },
            "type": "scattergeo"
           }
          ],
          "scattergl": [
           {
            "marker": {
             "colorbar": {
              "outlinewidth": 0,
              "ticks": ""
             }
            },
            "type": "scattergl"
           }
          ],
          "scattermapbox": [
           {
            "marker": {
             "colorbar": {
              "outlinewidth": 0,
              "ticks": ""
             }
            },
            "type": "scattermapbox"
           }
          ],
          "scatterpolar": [
           {
            "marker": {
             "colorbar": {
              "outlinewidth": 0,
              "ticks": ""
             }
            },
            "type": "scatterpolar"
           }
          ],
          "scatterpolargl": [
           {
            "marker": {
             "colorbar": {
              "outlinewidth": 0,
              "ticks": ""
             }
            },
            "type": "scatterpolargl"
           }
          ],
          "scatterternary": [
           {
            "marker": {
             "colorbar": {
              "outlinewidth": 0,
              "ticks": ""
             }
            },
            "type": "scatterternary"
           }
          ],
          "surface": [
           {
            "colorbar": {
             "outlinewidth": 0,
             "ticks": ""
            },
            "colorscale": [
             [
              0,
              "#0d0887"
             ],
             [
              0.1111111111111111,
              "#46039f"
             ],
             [
              0.2222222222222222,
              "#7201a8"
             ],
             [
              0.3333333333333333,
              "#9c179e"
             ],
             [
              0.4444444444444444,
              "#bd3786"
             ],
             [
              0.5555555555555556,
              "#d8576b"
             ],
             [
              0.6666666666666666,
              "#ed7953"
             ],
             [
              0.7777777777777778,
              "#fb9f3a"
             ],
             [
              0.8888888888888888,
              "#fdca26"
             ],
             [
              1,
              "#f0f921"
             ]
            ],
            "type": "surface"
           }
          ],
          "table": [
           {
            "cells": {
             "fill": {
              "color": "#EBF0F8"
             },
             "line": {
              "color": "white"
             }
            },
            "header": {
             "fill": {
              "color": "#C8D4E3"
             },
             "line": {
              "color": "white"
             }
            },
            "type": "table"
           }
          ]
         },
         "layout": {
          "annotationdefaults": {
           "arrowcolor": "#2a3f5f",
           "arrowhead": 0,
           "arrowwidth": 1
          },
          "autotypenumbers": "strict",
          "coloraxis": {
           "colorbar": {
            "outlinewidth": 0,
            "ticks": ""
           }
          },
          "colorscale": {
           "diverging": [
            [
             0,
             "#8e0152"
            ],
            [
             0.1,
             "#c51b7d"
            ],
            [
             0.2,
             "#de77ae"
            ],
            [
             0.3,
             "#f1b6da"
            ],
            [
             0.4,
             "#fde0ef"
            ],
            [
             0.5,
             "#f7f7f7"
            ],
            [
             0.6,
             "#e6f5d0"
            ],
            [
             0.7,
             "#b8e186"
            ],
            [
             0.8,
             "#7fbc41"
            ],
            [
             0.9,
             "#4d9221"
            ],
            [
             1,
             "#276419"
            ]
           ],
           "sequential": [
            [
             0,
             "#0d0887"
            ],
            [
             0.1111111111111111,
             "#46039f"
            ],
            [
             0.2222222222222222,
             "#7201a8"
            ],
            [
             0.3333333333333333,
             "#9c179e"
            ],
            [
             0.4444444444444444,
             "#bd3786"
            ],
            [
             0.5555555555555556,
             "#d8576b"
            ],
            [
             0.6666666666666666,
             "#ed7953"
            ],
            [
             0.7777777777777778,
             "#fb9f3a"
            ],
            [
             0.8888888888888888,
             "#fdca26"
            ],
            [
             1,
             "#f0f921"
            ]
           ],
           "sequentialminus": [
            [
             0,
             "#0d0887"
            ],
            [
             0.1111111111111111,
             "#46039f"
            ],
            [
             0.2222222222222222,
             "#7201a8"
            ],
            [
             0.3333333333333333,
             "#9c179e"
            ],
            [
             0.4444444444444444,
             "#bd3786"
            ],
            [
             0.5555555555555556,
             "#d8576b"
            ],
            [
             0.6666666666666666,
             "#ed7953"
            ],
            [
             0.7777777777777778,
             "#fb9f3a"
            ],
            [
             0.8888888888888888,
             "#fdca26"
            ],
            [
             1,
             "#f0f921"
            ]
           ]
          },
          "colorway": [
           "#636efa",
           "#EF553B",
           "#00cc96",
           "#ab63fa",
           "#FFA15A",
           "#19d3f3",
           "#FF6692",
           "#B6E880",
           "#FF97FF",
           "#FECB52"
          ],
          "font": {
           "color": "#2a3f5f"
          },
          "geo": {
           "bgcolor": "white",
           "lakecolor": "white",
           "landcolor": "#E5ECF6",
           "showlakes": true,
           "showland": true,
           "subunitcolor": "white"
          },
          "hoverlabel": {
           "align": "left"
          },
          "hovermode": "closest",
          "mapbox": {
           "style": "light"
          },
          "paper_bgcolor": "white",
          "plot_bgcolor": "#E5ECF6",
          "polar": {
           "angularaxis": {
            "gridcolor": "white",
            "linecolor": "white",
            "ticks": ""
           },
           "bgcolor": "#E5ECF6",
           "radialaxis": {
            "gridcolor": "white",
            "linecolor": "white",
            "ticks": ""
           }
          },
          "scene": {
           "xaxis": {
            "backgroundcolor": "#E5ECF6",
            "gridcolor": "white",
            "gridwidth": 2,
            "linecolor": "white",
            "showbackground": true,
            "ticks": "",
            "zerolinecolor": "white"
           },
           "yaxis": {
            "backgroundcolor": "#E5ECF6",
            "gridcolor": "white",
            "gridwidth": 2,
            "linecolor": "white",
            "showbackground": true,
            "ticks": "",
            "zerolinecolor": "white"
           },
           "zaxis": {
            "backgroundcolor": "#E5ECF6",
            "gridcolor": "white",
            "gridwidth": 2,
            "linecolor": "white",
            "showbackground": true,
            "ticks": "",
            "zerolinecolor": "white"
           }
          },
          "shapedefaults": {
           "line": {
            "color": "#2a3f5f"
           }
          },
          "ternary": {
           "aaxis": {
            "gridcolor": "white",
            "linecolor": "white",
            "ticks": ""
           },
           "baxis": {
            "gridcolor": "white",
            "linecolor": "white",
            "ticks": ""
           },
           "bgcolor": "#E5ECF6",
           "caxis": {
            "gridcolor": "white",
            "linecolor": "white",
            "ticks": ""
           }
          },
          "title": {
           "x": 0.05
          },
          "xaxis": {
           "automargin": true,
           "gridcolor": "white",
           "linecolor": "white",
           "ticks": "",
           "title": {
            "standoff": 15
           },
           "zerolinecolor": "white",
           "zerolinewidth": 2
          },
          "yaxis": {
           "automargin": true,
           "gridcolor": "white",
           "linecolor": "white",
           "ticks": "",
           "title": {
            "standoff": 15
           },
           "zerolinecolor": "white",
           "zerolinewidth": 2
          }
         }
        },
        "title": {
         "text": "Distribucion de Restaurantes con Generador Electrico"
        }
       }
      }
     },
     "metadata": {},
     "output_type": "display_data"
    }
   ],
   "source": [
    "#Grafico Pastel donde se muestra el porciento de restaurantes de la Habana que poseen P\n",
    "total_restaurantes = len(data2)\n",
    "total_plantas = data2[\"electric generator\"].sum()\n",
    "porciento_restaurantes_planta = round(bp.c_porciento(total_plantas, total_restaurantes),2)\n",
    "porciento_restaurantes_sin_planta = round(100 - porciento_restaurantes_planta, 2)\n",
    "\n",
    "fig = px.pie ( names=(\"Con Generador\", \"Sin Generador\"), \n",
    "              values=(porciento_restaurantes_planta, porciento_restaurantes_sin_planta),\n",
    "              title= \"Distribucion de Restaurantes con Generador Electrico\"\n",
    "\n",
    ")\n",
    "fig.show()\n"
   ]
  },
  {
   "cell_type": "markdown",
   "metadata": {},
   "source": [
    "En el año 2024, La Habana experimentó un aumento significativo en la inversión en hoteles y restaurantes según la Oficina Nacional de Estadística e Información (ONEI) de la Republica  de Cuba, la inversión en este sector aumentó en un 112% anual, no es secreto para nadie porque se puede ver a simple vista que cada vez más en la Ciudad de La Habana, se inaguran nuevos establecimientos gastronómicos ya sean cafés o restaurantes, tanto privadas como estales, aumentando así la competencia entre los diferentes locales"
   ]
  },
  {
   "cell_type": "markdown",
   "metadata": {},
   "source": [
    "![3](Terraza2.png)"
   ]
  },
  {
   "cell_type": "markdown",
   "metadata": {},
   "source": [
    "Después de leer esas cifras Alejandro preocupado decidió investigar en que municipio de La Habana los restaurantes tenían peor reseña en Google para asi determinar donde le convendria rentar el local, pensando que montar su negocio en un lugar donde la calificacion de los restaurantes no fuera la mejor, tendría menos competencia y llamaría la atención de los pobladores."
   ]
  },
  {
   "cell_type": "code",
   "execution_count": 26,
   "metadata": {},
   "outputs": [
    {
     "data": {
      "application/vnd.plotly.v1+json": {
       "config": {
        "plotlyServerURL": "https://plot.ly"
       },
       "data": [
        {
         "cells": {
          "align": "left",
          "fill": {
           "color": "lavender"
          },
          "values": [
           [
            "regla",
            "arroyo naranjo",
            "marianao",
            "habana vieja",
            "guanabacoa",
            "centro habana",
            "playa",
            "cotorro",
            "plaza de la revolucion",
            "10 de octubre",
            "habana del este",
            "cerro",
            "boyeros",
            "la lisa",
            "san miguel del padron"
           ],
           [
            4.95,
            4.61,
            4.52,
            4.51,
            4.45,
            4.36,
            4.32,
            4.28,
            4.26,
            4.14,
            4.14,
            3.94,
            3.7,
            3.49,
            3.25
           ]
          ]
         },
         "header": {
          "align": "left",
          "fill": {
           "color": "pink"
          },
          "values": [
           "municipio",
           "calificacion promedio"
          ]
         },
         "type": "table"
        }
       ],
       "layout": {
        "template": {
         "data": {
          "bar": [
           {
            "error_x": {
             "color": "#2a3f5f"
            },
            "error_y": {
             "color": "#2a3f5f"
            },
            "marker": {
             "line": {
              "color": "#E5ECF6",
              "width": 0.5
             },
             "pattern": {
              "fillmode": "overlay",
              "size": 10,
              "solidity": 0.2
             }
            },
            "type": "bar"
           }
          ],
          "barpolar": [
           {
            "marker": {
             "line": {
              "color": "#E5ECF6",
              "width": 0.5
             },
             "pattern": {
              "fillmode": "overlay",
              "size": 10,
              "solidity": 0.2
             }
            },
            "type": "barpolar"
           }
          ],
          "carpet": [
           {
            "aaxis": {
             "endlinecolor": "#2a3f5f",
             "gridcolor": "white",
             "linecolor": "white",
             "minorgridcolor": "white",
             "startlinecolor": "#2a3f5f"
            },
            "baxis": {
             "endlinecolor": "#2a3f5f",
             "gridcolor": "white",
             "linecolor": "white",
             "minorgridcolor": "white",
             "startlinecolor": "#2a3f5f"
            },
            "type": "carpet"
           }
          ],
          "choropleth": [
           {
            "colorbar": {
             "outlinewidth": 0,
             "ticks": ""
            },
            "type": "choropleth"
           }
          ],
          "contour": [
           {
            "colorbar": {
             "outlinewidth": 0,
             "ticks": ""
            },
            "colorscale": [
             [
              0,
              "#0d0887"
             ],
             [
              0.1111111111111111,
              "#46039f"
             ],
             [
              0.2222222222222222,
              "#7201a8"
             ],
             [
              0.3333333333333333,
              "#9c179e"
             ],
             [
              0.4444444444444444,
              "#bd3786"
             ],
             [
              0.5555555555555556,
              "#d8576b"
             ],
             [
              0.6666666666666666,
              "#ed7953"
             ],
             [
              0.7777777777777778,
              "#fb9f3a"
             ],
             [
              0.8888888888888888,
              "#fdca26"
             ],
             [
              1,
              "#f0f921"
             ]
            ],
            "type": "contour"
           }
          ],
          "contourcarpet": [
           {
            "colorbar": {
             "outlinewidth": 0,
             "ticks": ""
            },
            "type": "contourcarpet"
           }
          ],
          "heatmap": [
           {
            "colorbar": {
             "outlinewidth": 0,
             "ticks": ""
            },
            "colorscale": [
             [
              0,
              "#0d0887"
             ],
             [
              0.1111111111111111,
              "#46039f"
             ],
             [
              0.2222222222222222,
              "#7201a8"
             ],
             [
              0.3333333333333333,
              "#9c179e"
             ],
             [
              0.4444444444444444,
              "#bd3786"
             ],
             [
              0.5555555555555556,
              "#d8576b"
             ],
             [
              0.6666666666666666,
              "#ed7953"
             ],
             [
              0.7777777777777778,
              "#fb9f3a"
             ],
             [
              0.8888888888888888,
              "#fdca26"
             ],
             [
              1,
              "#f0f921"
             ]
            ],
            "type": "heatmap"
           }
          ],
          "heatmapgl": [
           {
            "colorbar": {
             "outlinewidth": 0,
             "ticks": ""
            },
            "colorscale": [
             [
              0,
              "#0d0887"
             ],
             [
              0.1111111111111111,
              "#46039f"
             ],
             [
              0.2222222222222222,
              "#7201a8"
             ],
             [
              0.3333333333333333,
              "#9c179e"
             ],
             [
              0.4444444444444444,
              "#bd3786"
             ],
             [
              0.5555555555555556,
              "#d8576b"
             ],
             [
              0.6666666666666666,
              "#ed7953"
             ],
             [
              0.7777777777777778,
              "#fb9f3a"
             ],
             [
              0.8888888888888888,
              "#fdca26"
             ],
             [
              1,
              "#f0f921"
             ]
            ],
            "type": "heatmapgl"
           }
          ],
          "histogram": [
           {
            "marker": {
             "pattern": {
              "fillmode": "overlay",
              "size": 10,
              "solidity": 0.2
             }
            },
            "type": "histogram"
           }
          ],
          "histogram2d": [
           {
            "colorbar": {
             "outlinewidth": 0,
             "ticks": ""
            },
            "colorscale": [
             [
              0,
              "#0d0887"
             ],
             [
              0.1111111111111111,
              "#46039f"
             ],
             [
              0.2222222222222222,
              "#7201a8"
             ],
             [
              0.3333333333333333,
              "#9c179e"
             ],
             [
              0.4444444444444444,
              "#bd3786"
             ],
             [
              0.5555555555555556,
              "#d8576b"
             ],
             [
              0.6666666666666666,
              "#ed7953"
             ],
             [
              0.7777777777777778,
              "#fb9f3a"
             ],
             [
              0.8888888888888888,
              "#fdca26"
             ],
             [
              1,
              "#f0f921"
             ]
            ],
            "type": "histogram2d"
           }
          ],
          "histogram2dcontour": [
           {
            "colorbar": {
             "outlinewidth": 0,
             "ticks": ""
            },
            "colorscale": [
             [
              0,
              "#0d0887"
             ],
             [
              0.1111111111111111,
              "#46039f"
             ],
             [
              0.2222222222222222,
              "#7201a8"
             ],
             [
              0.3333333333333333,
              "#9c179e"
             ],
             [
              0.4444444444444444,
              "#bd3786"
             ],
             [
              0.5555555555555556,
              "#d8576b"
             ],
             [
              0.6666666666666666,
              "#ed7953"
             ],
             [
              0.7777777777777778,
              "#fb9f3a"
             ],
             [
              0.8888888888888888,
              "#fdca26"
             ],
             [
              1,
              "#f0f921"
             ]
            ],
            "type": "histogram2dcontour"
           }
          ],
          "mesh3d": [
           {
            "colorbar": {
             "outlinewidth": 0,
             "ticks": ""
            },
            "type": "mesh3d"
           }
          ],
          "parcoords": [
           {
            "line": {
             "colorbar": {
              "outlinewidth": 0,
              "ticks": ""
             }
            },
            "type": "parcoords"
           }
          ],
          "pie": [
           {
            "automargin": true,
            "type": "pie"
           }
          ],
          "scatter": [
           {
            "fillpattern": {
             "fillmode": "overlay",
             "size": 10,
             "solidity": 0.2
            },
            "type": "scatter"
           }
          ],
          "scatter3d": [
           {
            "line": {
             "colorbar": {
              "outlinewidth": 0,
              "ticks": ""
             }
            },
            "marker": {
             "colorbar": {
              "outlinewidth": 0,
              "ticks": ""
             }
            },
            "type": "scatter3d"
           }
          ],
          "scattercarpet": [
           {
            "marker": {
             "colorbar": {
              "outlinewidth": 0,
              "ticks": ""
             }
            },
            "type": "scattercarpet"
           }
          ],
          "scattergeo": [
           {
            "marker": {
             "colorbar": {
              "outlinewidth": 0,
              "ticks": ""
             }
            },
            "type": "scattergeo"
           }
          ],
          "scattergl": [
           {
            "marker": {
             "colorbar": {
              "outlinewidth": 0,
              "ticks": ""
             }
            },
            "type": "scattergl"
           }
          ],
          "scattermapbox": [
           {
            "marker": {
             "colorbar": {
              "outlinewidth": 0,
              "ticks": ""
             }
            },
            "type": "scattermapbox"
           }
          ],
          "scatterpolar": [
           {
            "marker": {
             "colorbar": {
              "outlinewidth": 0,
              "ticks": ""
             }
            },
            "type": "scatterpolar"
           }
          ],
          "scatterpolargl": [
           {
            "marker": {
             "colorbar": {
              "outlinewidth": 0,
              "ticks": ""
             }
            },
            "type": "scatterpolargl"
           }
          ],
          "scatterternary": [
           {
            "marker": {
             "colorbar": {
              "outlinewidth": 0,
              "ticks": ""
             }
            },
            "type": "scatterternary"
           }
          ],
          "surface": [
           {
            "colorbar": {
             "outlinewidth": 0,
             "ticks": ""
            },
            "colorscale": [
             [
              0,
              "#0d0887"
             ],
             [
              0.1111111111111111,
              "#46039f"
             ],
             [
              0.2222222222222222,
              "#7201a8"
             ],
             [
              0.3333333333333333,
              "#9c179e"
             ],
             [
              0.4444444444444444,
              "#bd3786"
             ],
             [
              0.5555555555555556,
              "#d8576b"
             ],
             [
              0.6666666666666666,
              "#ed7953"
             ],
             [
              0.7777777777777778,
              "#fb9f3a"
             ],
             [
              0.8888888888888888,
              "#fdca26"
             ],
             [
              1,
              "#f0f921"
             ]
            ],
            "type": "surface"
           }
          ],
          "table": [
           {
            "cells": {
             "fill": {
              "color": "#EBF0F8"
             },
             "line": {
              "color": "white"
             }
            },
            "header": {
             "fill": {
              "color": "#C8D4E3"
             },
             "line": {
              "color": "white"
             }
            },
            "type": "table"
           }
          ]
         },
         "layout": {
          "annotationdefaults": {
           "arrowcolor": "#2a3f5f",
           "arrowhead": 0,
           "arrowwidth": 1
          },
          "autotypenumbers": "strict",
          "coloraxis": {
           "colorbar": {
            "outlinewidth": 0,
            "ticks": ""
           }
          },
          "colorscale": {
           "diverging": [
            [
             0,
             "#8e0152"
            ],
            [
             0.1,
             "#c51b7d"
            ],
            [
             0.2,
             "#de77ae"
            ],
            [
             0.3,
             "#f1b6da"
            ],
            [
             0.4,
             "#fde0ef"
            ],
            [
             0.5,
             "#f7f7f7"
            ],
            [
             0.6,
             "#e6f5d0"
            ],
            [
             0.7,
             "#b8e186"
            ],
            [
             0.8,
             "#7fbc41"
            ],
            [
             0.9,
             "#4d9221"
            ],
            [
             1,
             "#276419"
            ]
           ],
           "sequential": [
            [
             0,
             "#0d0887"
            ],
            [
             0.1111111111111111,
             "#46039f"
            ],
            [
             0.2222222222222222,
             "#7201a8"
            ],
            [
             0.3333333333333333,
             "#9c179e"
            ],
            [
             0.4444444444444444,
             "#bd3786"
            ],
            [
             0.5555555555555556,
             "#d8576b"
            ],
            [
             0.6666666666666666,
             "#ed7953"
            ],
            [
             0.7777777777777778,
             "#fb9f3a"
            ],
            [
             0.8888888888888888,
             "#fdca26"
            ],
            [
             1,
             "#f0f921"
            ]
           ],
           "sequentialminus": [
            [
             0,
             "#0d0887"
            ],
            [
             0.1111111111111111,
             "#46039f"
            ],
            [
             0.2222222222222222,
             "#7201a8"
            ],
            [
             0.3333333333333333,
             "#9c179e"
            ],
            [
             0.4444444444444444,
             "#bd3786"
            ],
            [
             0.5555555555555556,
             "#d8576b"
            ],
            [
             0.6666666666666666,
             "#ed7953"
            ],
            [
             0.7777777777777778,
             "#fb9f3a"
            ],
            [
             0.8888888888888888,
             "#fdca26"
            ],
            [
             1,
             "#f0f921"
            ]
           ]
          },
          "colorway": [
           "#636efa",
           "#EF553B",
           "#00cc96",
           "#ab63fa",
           "#FFA15A",
           "#19d3f3",
           "#FF6692",
           "#B6E880",
           "#FF97FF",
           "#FECB52"
          ],
          "font": {
           "color": "#2a3f5f"
          },
          "geo": {
           "bgcolor": "white",
           "lakecolor": "white",
           "landcolor": "#E5ECF6",
           "showlakes": true,
           "showland": true,
           "subunitcolor": "white"
          },
          "hoverlabel": {
           "align": "left"
          },
          "hovermode": "closest",
          "mapbox": {
           "style": "light"
          },
          "paper_bgcolor": "white",
          "plot_bgcolor": "#E5ECF6",
          "polar": {
           "angularaxis": {
            "gridcolor": "white",
            "linecolor": "white",
            "ticks": ""
           },
           "bgcolor": "#E5ECF6",
           "radialaxis": {
            "gridcolor": "white",
            "linecolor": "white",
            "ticks": ""
           }
          },
          "scene": {
           "xaxis": {
            "backgroundcolor": "#E5ECF6",
            "gridcolor": "white",
            "gridwidth": 2,
            "linecolor": "white",
            "showbackground": true,
            "ticks": "",
            "zerolinecolor": "white"
           },
           "yaxis": {
            "backgroundcolor": "#E5ECF6",
            "gridcolor": "white",
            "gridwidth": 2,
            "linecolor": "white",
            "showbackground": true,
            "ticks": "",
            "zerolinecolor": "white"
           },
           "zaxis": {
            "backgroundcolor": "#E5ECF6",
            "gridcolor": "white",
            "gridwidth": 2,
            "linecolor": "white",
            "showbackground": true,
            "ticks": "",
            "zerolinecolor": "white"
           }
          },
          "shapedefaults": {
           "line": {
            "color": "#2a3f5f"
           }
          },
          "ternary": {
           "aaxis": {
            "gridcolor": "white",
            "linecolor": "white",
            "ticks": ""
           },
           "baxis": {
            "gridcolor": "white",
            "linecolor": "white",
            "ticks": ""
           },
           "bgcolor": "#E5ECF6",
           "caxis": {
            "gridcolor": "white",
            "linecolor": "white",
            "ticks": ""
           }
          },
          "title": {
           "x": 0.05
          },
          "xaxis": {
           "automargin": true,
           "gridcolor": "white",
           "linecolor": "white",
           "ticks": "",
           "title": {
            "standoff": 15
           },
           "zerolinecolor": "white",
           "zerolinewidth": 2
          },
          "yaxis": {
           "automargin": true,
           "gridcolor": "white",
           "linecolor": "white",
           "ticks": "",
           "title": {
            "standoff": 15
           },
           "zerolinecolor": "white",
           "zerolinewidth": 2
          }
         }
        },
        "title": {
         "text": "Calificacion Promedio de Restaurantes por Municipio segun Google"
        }
       }
      }
     },
     "metadata": {},
     "output_type": "display_data"
    }
   ],
   "source": [
    "#Tabla donde da la clasificacion promedio de los restaurantes por municipio :)\n",
    "data2[\"location.municipe\"] = data2[\"location.municipe\"].str.strip().str.lower()\n",
    "\n",
    "calificacion_promedio_por_municipio = data2.groupby(\"location.municipe\")[\"qualification\"].mean().round(2)\n",
    "tabla_calificaciones = calificacion_promedio_por_municipio.reset_index()\n",
    "tabla_calificaciones.columns = [\"municipio\", \"calificacion promedio\"]\n",
    "tabla_calificaciones = tabla_calificaciones.sort_values(by=\"calificacion promedio\", ascending=False)\n",
    "\n",
    "fig = go.Figure(data=[go.Table(\n",
    "    header=dict(values=list(tabla_calificaciones.columns),\n",
    "                fill_color=\"pink\",\n",
    "                align=\"left\"),\n",
    "    cells=dict(values=[tabla_calificaciones.municipio, tabla_calificaciones[\"calificacion promedio\"]],\n",
    "               fill_color=\"lavender\",\n",
    "               align=\"left\"))\n",
    "])\n",
    "\n",
    "fig.update_layout(title=\"Calificacion Promedio de Restaurantes por Municipio segun Google\")\n",
    "fig.show()"
   ]
  },
  {
   "cell_type": "markdown",
   "metadata": {},
   "source": [
    "Alejandro, ayer me llamó tu primo para saber como estaba y le comenté lo que estabamos planeando\n",
    "\n",
    "-Mami!! las cosas que se cuentan nunca salen\n",
    "\n",
    "Hay chico tú no crees que si todo sale bien le podamos ofrecer un trabajito, él ahora se compró una moto eléctrica y pudiera hacer la mensajería del restaurante y esta sería otra entrada de ganacias además el dinero se queda en la familia\n",
    "\n",
    "-Bueno dejame calcular que tan común es tener el servicio de delivery en el municipio donde voy a montar el local no vaya a ser que no sea algo rentable y tenga más pérdida que ganancia\n"
   ]
  },
  {
   "cell_type": "code",
   "execution_count": 27,
   "metadata": {},
   "outputs": [
    {
     "data": {
      "application/vnd.plotly.v1+json": {
       "config": {
        "plotlyServerURL": "https://plot.ly"
       },
       "data": [
        {
         "domain": {
          "x": [
           0,
           1
          ],
          "y": [
           0,
           1
          ]
         },
         "hovertemplate": "label=%{label}<br>value=%{value}<extra></extra>",
         "labels": [
          "10 de octubre",
          "arroyo naranjo",
          "boyeros",
          "centro habana",
          "cerro",
          "cotorro",
          "guanabacoa",
          "habana del este",
          "habana vieja",
          "la lisa",
          "marianao",
          "playa",
          "plaza de la revolucion",
          "regla",
          "san miguel del padron"
         ],
         "legendgroup": "",
         "name": "",
         "showlegend": true,
         "textinfo": "percent+label",
         "type": "pie",
         "values": [
          20.224719101123593,
          2.247191011235955,
          7.865168539325842,
          7.865168539325842,
          5.617977528089887,
          5.617977528089887,
          4.49438202247191,
          5.617977528089887,
          13.48314606741573,
          3.3707865168539324,
          2.247191011235955,
          4.49438202247191,
          11.235955056179774,
          1.1235955056179776,
          4.49438202247191
         ]
        }
       ],
       "layout": {
        "legend": {
         "tracegroupgap": 0
        },
        "template": {
         "data": {
          "bar": [
           {
            "error_x": {
             "color": "#2a3f5f"
            },
            "error_y": {
             "color": "#2a3f5f"
            },
            "marker": {
             "line": {
              "color": "#E5ECF6",
              "width": 0.5
             },
             "pattern": {
              "fillmode": "overlay",
              "size": 10,
              "solidity": 0.2
             }
            },
            "type": "bar"
           }
          ],
          "barpolar": [
           {
            "marker": {
             "line": {
              "color": "#E5ECF6",
              "width": 0.5
             },
             "pattern": {
              "fillmode": "overlay",
              "size": 10,
              "solidity": 0.2
             }
            },
            "type": "barpolar"
           }
          ],
          "carpet": [
           {
            "aaxis": {
             "endlinecolor": "#2a3f5f",
             "gridcolor": "white",
             "linecolor": "white",
             "minorgridcolor": "white",
             "startlinecolor": "#2a3f5f"
            },
            "baxis": {
             "endlinecolor": "#2a3f5f",
             "gridcolor": "white",
             "linecolor": "white",
             "minorgridcolor": "white",
             "startlinecolor": "#2a3f5f"
            },
            "type": "carpet"
           }
          ],
          "choropleth": [
           {
            "colorbar": {
             "outlinewidth": 0,
             "ticks": ""
            },
            "type": "choropleth"
           }
          ],
          "contour": [
           {
            "colorbar": {
             "outlinewidth": 0,
             "ticks": ""
            },
            "colorscale": [
             [
              0,
              "#0d0887"
             ],
             [
              0.1111111111111111,
              "#46039f"
             ],
             [
              0.2222222222222222,
              "#7201a8"
             ],
             [
              0.3333333333333333,
              "#9c179e"
             ],
             [
              0.4444444444444444,
              "#bd3786"
             ],
             [
              0.5555555555555556,
              "#d8576b"
             ],
             [
              0.6666666666666666,
              "#ed7953"
             ],
             [
              0.7777777777777778,
              "#fb9f3a"
             ],
             [
              0.8888888888888888,
              "#fdca26"
             ],
             [
              1,
              "#f0f921"
             ]
            ],
            "type": "contour"
           }
          ],
          "contourcarpet": [
           {
            "colorbar": {
             "outlinewidth": 0,
             "ticks": ""
            },
            "type": "contourcarpet"
           }
          ],
          "heatmap": [
           {
            "colorbar": {
             "outlinewidth": 0,
             "ticks": ""
            },
            "colorscale": [
             [
              0,
              "#0d0887"
             ],
             [
              0.1111111111111111,
              "#46039f"
             ],
             [
              0.2222222222222222,
              "#7201a8"
             ],
             [
              0.3333333333333333,
              "#9c179e"
             ],
             [
              0.4444444444444444,
              "#bd3786"
             ],
             [
              0.5555555555555556,
              "#d8576b"
             ],
             [
              0.6666666666666666,
              "#ed7953"
             ],
             [
              0.7777777777777778,
              "#fb9f3a"
             ],
             [
              0.8888888888888888,
              "#fdca26"
             ],
             [
              1,
              "#f0f921"
             ]
            ],
            "type": "heatmap"
           }
          ],
          "heatmapgl": [
           {
            "colorbar": {
             "outlinewidth": 0,
             "ticks": ""
            },
            "colorscale": [
             [
              0,
              "#0d0887"
             ],
             [
              0.1111111111111111,
              "#46039f"
             ],
             [
              0.2222222222222222,
              "#7201a8"
             ],
             [
              0.3333333333333333,
              "#9c179e"
             ],
             [
              0.4444444444444444,
              "#bd3786"
             ],
             [
              0.5555555555555556,
              "#d8576b"
             ],
             [
              0.6666666666666666,
              "#ed7953"
             ],
             [
              0.7777777777777778,
              "#fb9f3a"
             ],
             [
              0.8888888888888888,
              "#fdca26"
             ],
             [
              1,
              "#f0f921"
             ]
            ],
            "type": "heatmapgl"
           }
          ],
          "histogram": [
           {
            "marker": {
             "pattern": {
              "fillmode": "overlay",
              "size": 10,
              "solidity": 0.2
             }
            },
            "type": "histogram"
           }
          ],
          "histogram2d": [
           {
            "colorbar": {
             "outlinewidth": 0,
             "ticks": ""
            },
            "colorscale": [
             [
              0,
              "#0d0887"
             ],
             [
              0.1111111111111111,
              "#46039f"
             ],
             [
              0.2222222222222222,
              "#7201a8"
             ],
             [
              0.3333333333333333,
              "#9c179e"
             ],
             [
              0.4444444444444444,
              "#bd3786"
             ],
             [
              0.5555555555555556,
              "#d8576b"
             ],
             [
              0.6666666666666666,
              "#ed7953"
             ],
             [
              0.7777777777777778,
              "#fb9f3a"
             ],
             [
              0.8888888888888888,
              "#fdca26"
             ],
             [
              1,
              "#f0f921"
             ]
            ],
            "type": "histogram2d"
           }
          ],
          "histogram2dcontour": [
           {
            "colorbar": {
             "outlinewidth": 0,
             "ticks": ""
            },
            "colorscale": [
             [
              0,
              "#0d0887"
             ],
             [
              0.1111111111111111,
              "#46039f"
             ],
             [
              0.2222222222222222,
              "#7201a8"
             ],
             [
              0.3333333333333333,
              "#9c179e"
             ],
             [
              0.4444444444444444,
              "#bd3786"
             ],
             [
              0.5555555555555556,
              "#d8576b"
             ],
             [
              0.6666666666666666,
              "#ed7953"
             ],
             [
              0.7777777777777778,
              "#fb9f3a"
             ],
             [
              0.8888888888888888,
              "#fdca26"
             ],
             [
              1,
              "#f0f921"
             ]
            ],
            "type": "histogram2dcontour"
           }
          ],
          "mesh3d": [
           {
            "colorbar": {
             "outlinewidth": 0,
             "ticks": ""
            },
            "type": "mesh3d"
           }
          ],
          "parcoords": [
           {
            "line": {
             "colorbar": {
              "outlinewidth": 0,
              "ticks": ""
             }
            },
            "type": "parcoords"
           }
          ],
          "pie": [
           {
            "automargin": true,
            "type": "pie"
           }
          ],
          "scatter": [
           {
            "fillpattern": {
             "fillmode": "overlay",
             "size": 10,
             "solidity": 0.2
            },
            "type": "scatter"
           }
          ],
          "scatter3d": [
           {
            "line": {
             "colorbar": {
              "outlinewidth": 0,
              "ticks": ""
             }
            },
            "marker": {
             "colorbar": {
              "outlinewidth": 0,
              "ticks": ""
             }
            },
            "type": "scatter3d"
           }
          ],
          "scattercarpet": [
           {
            "marker": {
             "colorbar": {
              "outlinewidth": 0,
              "ticks": ""
             }
            },
            "type": "scattercarpet"
           }
          ],
          "scattergeo": [
           {
            "marker": {
             "colorbar": {
              "outlinewidth": 0,
              "ticks": ""
             }
            },
            "type": "scattergeo"
           }
          ],
          "scattergl": [
           {
            "marker": {
             "colorbar": {
              "outlinewidth": 0,
              "ticks": ""
             }
            },
            "type": "scattergl"
           }
          ],
          "scattermapbox": [
           {
            "marker": {
             "colorbar": {
              "outlinewidth": 0,
              "ticks": ""
             }
            },
            "type": "scattermapbox"
           }
          ],
          "scatterpolar": [
           {
            "marker": {
             "colorbar": {
              "outlinewidth": 0,
              "ticks": ""
             }
            },
            "type": "scatterpolar"
           }
          ],
          "scatterpolargl": [
           {
            "marker": {
             "colorbar": {
              "outlinewidth": 0,
              "ticks": ""
             }
            },
            "type": "scatterpolargl"
           }
          ],
          "scatterternary": [
           {
            "marker": {
             "colorbar": {
              "outlinewidth": 0,
              "ticks": ""
             }
            },
            "type": "scatterternary"
           }
          ],
          "surface": [
           {
            "colorbar": {
             "outlinewidth": 0,
             "ticks": ""
            },
            "colorscale": [
             [
              0,
              "#0d0887"
             ],
             [
              0.1111111111111111,
              "#46039f"
             ],
             [
              0.2222222222222222,
              "#7201a8"
             ],
             [
              0.3333333333333333,
              "#9c179e"
             ],
             [
              0.4444444444444444,
              "#bd3786"
             ],
             [
              0.5555555555555556,
              "#d8576b"
             ],
             [
              0.6666666666666666,
              "#ed7953"
             ],
             [
              0.7777777777777778,
              "#fb9f3a"
             ],
             [
              0.8888888888888888,
              "#fdca26"
             ],
             [
              1,
              "#f0f921"
             ]
            ],
            "type": "surface"
           }
          ],
          "table": [
           {
            "cells": {
             "fill": {
              "color": "#EBF0F8"
             },
             "line": {
              "color": "white"
             }
            },
            "header": {
             "fill": {
              "color": "#C8D4E3"
             },
             "line": {
              "color": "white"
             }
            },
            "type": "table"
           }
          ]
         },
         "layout": {
          "annotationdefaults": {
           "arrowcolor": "#2a3f5f",
           "arrowhead": 0,
           "arrowwidth": 1
          },
          "autotypenumbers": "strict",
          "coloraxis": {
           "colorbar": {
            "outlinewidth": 0,
            "ticks": ""
           }
          },
          "colorscale": {
           "diverging": [
            [
             0,
             "#8e0152"
            ],
            [
             0.1,
             "#c51b7d"
            ],
            [
             0.2,
             "#de77ae"
            ],
            [
             0.3,
             "#f1b6da"
            ],
            [
             0.4,
             "#fde0ef"
            ],
            [
             0.5,
             "#f7f7f7"
            ],
            [
             0.6,
             "#e6f5d0"
            ],
            [
             0.7,
             "#b8e186"
            ],
            [
             0.8,
             "#7fbc41"
            ],
            [
             0.9,
             "#4d9221"
            ],
            [
             1,
             "#276419"
            ]
           ],
           "sequential": [
            [
             0,
             "#0d0887"
            ],
            [
             0.1111111111111111,
             "#46039f"
            ],
            [
             0.2222222222222222,
             "#7201a8"
            ],
            [
             0.3333333333333333,
             "#9c179e"
            ],
            [
             0.4444444444444444,
             "#bd3786"
            ],
            [
             0.5555555555555556,
             "#d8576b"
            ],
            [
             0.6666666666666666,
             "#ed7953"
            ],
            [
             0.7777777777777778,
             "#fb9f3a"
            ],
            [
             0.8888888888888888,
             "#fdca26"
            ],
            [
             1,
             "#f0f921"
            ]
           ],
           "sequentialminus": [
            [
             0,
             "#0d0887"
            ],
            [
             0.1111111111111111,
             "#46039f"
            ],
            [
             0.2222222222222222,
             "#7201a8"
            ],
            [
             0.3333333333333333,
             "#9c179e"
            ],
            [
             0.4444444444444444,
             "#bd3786"
            ],
            [
             0.5555555555555556,
             "#d8576b"
            ],
            [
             0.6666666666666666,
             "#ed7953"
            ],
            [
             0.7777777777777778,
             "#fb9f3a"
            ],
            [
             0.8888888888888888,
             "#fdca26"
            ],
            [
             1,
             "#f0f921"
            ]
           ]
          },
          "colorway": [
           "#636efa",
           "#EF553B",
           "#00cc96",
           "#ab63fa",
           "#FFA15A",
           "#19d3f3",
           "#FF6692",
           "#B6E880",
           "#FF97FF",
           "#FECB52"
          ],
          "font": {
           "color": "#2a3f5f"
          },
          "geo": {
           "bgcolor": "white",
           "lakecolor": "white",
           "landcolor": "#E5ECF6",
           "showlakes": true,
           "showland": true,
           "subunitcolor": "white"
          },
          "hoverlabel": {
           "align": "left"
          },
          "hovermode": "closest",
          "mapbox": {
           "style": "light"
          },
          "paper_bgcolor": "white",
          "plot_bgcolor": "#E5ECF6",
          "polar": {
           "angularaxis": {
            "gridcolor": "white",
            "linecolor": "white",
            "ticks": ""
           },
           "bgcolor": "#E5ECF6",
           "radialaxis": {
            "gridcolor": "white",
            "linecolor": "white",
            "ticks": ""
           }
          },
          "scene": {
           "xaxis": {
            "backgroundcolor": "#E5ECF6",
            "gridcolor": "white",
            "gridwidth": 2,
            "linecolor": "white",
            "showbackground": true,
            "ticks": "",
            "zerolinecolor": "white"
           },
           "yaxis": {
            "backgroundcolor": "#E5ECF6",
            "gridcolor": "white",
            "gridwidth": 2,
            "linecolor": "white",
            "showbackground": true,
            "ticks": "",
            "zerolinecolor": "white"
           },
           "zaxis": {
            "backgroundcolor": "#E5ECF6",
            "gridcolor": "white",
            "gridwidth": 2,
            "linecolor": "white",
            "showbackground": true,
            "ticks": "",
            "zerolinecolor": "white"
           }
          },
          "shapedefaults": {
           "line": {
            "color": "#2a3f5f"
           }
          },
          "ternary": {
           "aaxis": {
            "gridcolor": "white",
            "linecolor": "white",
            "ticks": ""
           },
           "baxis": {
            "gridcolor": "white",
            "linecolor": "white",
            "ticks": ""
           },
           "bgcolor": "#E5ECF6",
           "caxis": {
            "gridcolor": "white",
            "linecolor": "white",
            "ticks": ""
           }
          },
          "title": {
           "x": 0.05
          },
          "xaxis": {
           "automargin": true,
           "gridcolor": "white",
           "linecolor": "white",
           "ticks": "",
           "title": {
            "standoff": 15
           },
           "zerolinecolor": "white",
           "zerolinewidth": 2
          },
          "yaxis": {
           "automargin": true,
           "gridcolor": "white",
           "linecolor": "white",
           "ticks": "",
           "title": {
            "standoff": 15
           },
           "zerolinecolor": "white",
           "zerolinewidth": 2
          }
         }
        },
        "title": {
         "text": "Porcentaje del Total de mensajeria por Municipio"
        }
       }
      }
     },
     "metadata": {},
     "output_type": "display_data"
    }
   ],
   "source": [
    "#Grafico de pastel sobre el porciento de mensajeria por municipio :)\n",
    "info_mensajeria = data2[data2[\"delivery\"].notna()]\n",
    "total_mensajeria = info_mensajeria[\"delivery\"].sum()\n",
    "mensajeria_por_municipio = info_mensajeria.groupby(\"location.municipe\")[\"delivery\"].sum()\n",
    "porciento_restaurantes_mensajeria = round(bp.c_porciento(mensajeria_por_municipio, total_mensajeria),2)\n",
    "\n",
    "mensajeria_info = []\n",
    "for i in porciento_restaurantes_mensajeria.index:\n",
    "    i = bp.i_nombre(i)\n",
    "    mensajeria_info.append(i)\n",
    "\n",
    "fig = px.pie(\n",
    "    names=porciento_restaurantes_mensajeria.index,\n",
    "    values=porciento_restaurantes_mensajeria.values,\n",
    "    title=\"Porcentaje del Total de mensajeria por Municipio\"\n",
    ")\n",
    "\n",
    "fig.update_traces(textinfo=\"percent+label\")\n",
    "fig.show()\n",
    "\n"
   ]
  },
  {
   "cell_type": "markdown",
   "metadata": {},
   "source": [
    "Tener un local que pueda rentar para la organización de eventos además de ser un restaurante puede ser una fuente luctrativa de ingresos por ello Alejandro antes de encontrar el lugar donde iba a poner su restaurante decidió investigar que capacidad media tienen los restaurantes que ofertan este servicio para buscar un local que cumpla con esas condiciones de espacios."
   ]
  },
  {
   "cell_type": "code",
   "execution_count": 28,
   "metadata": {},
   "outputs": [
    {
     "data": {
      "application/vnd.plotly.v1+json": {
       "config": {
        "plotlyServerURL": "https://plot.ly"
       },
       "data": [
        {
         "alignmentgroup": "True",
         "boxpoints": "all",
         "hovertemplate": "Capacidad Mediana de los Restaurantes=%{y}<extra></extra>",
         "legendgroup": "",
         "marker": {
          "color": "#636efa"
         },
         "name": "",
         "notched": false,
         "offsetgroup": "",
         "orientation": "v",
         "showlegend": false,
         "type": "box",
         "x0": " ",
         "xaxis": "x",
         "y": [
          30,
          80,
          28,
          36,
          70,
          60,
          30,
          40,
          40,
          12,
          200,
          25,
          40,
          60,
          50,
          70,
          50,
          20,
          50,
          30,
          20,
          45,
          50,
          35,
          40,
          50,
          28,
          60,
          50,
          70,
          36,
          60,
          38,
          60,
          50,
          50,
          20,
          60,
          30,
          65,
          20,
          50,
          30,
          12,
          30,
          50,
          20,
          93,
          120,
          50,
          50,
          70,
          30,
          40,
          50,
          20,
          16,
          20,
          30,
          20,
          45,
          30,
          38,
          36,
          50,
          50,
          60,
          150,
          35,
          50,
          180,
          80,
          24,
          32,
          40,
          30,
          54,
          60,
          20,
          40,
          40,
          55,
          24,
          70,
          50,
          70,
          40,
          40,
          28,
          36,
          34,
          55,
          100,
          20,
          35,
          null,
          40,
          40,
          60,
          30,
          120,
          30,
          30,
          60,
          70,
          35,
          60,
          20,
          40,
          40,
          80,
          null,
          40,
          40,
          50,
          42,
          30,
          40,
          100,
          12,
          50,
          30,
          50,
          40,
          null,
          40,
          28,
          50,
          45,
          25,
          50,
          30,
          25,
          35,
          40,
          44,
          40,
          60,
          30,
          60,
          50,
          36,
          20,
          40,
          50,
          40,
          70,
          45,
          40,
          35
         ],
         "y0": " ",
         "yaxis": "y"
        }
       ],
       "layout": {
        "boxmode": "group",
        "legend": {
         "tracegroupgap": 0
        },
        "template": {
         "data": {
          "bar": [
           {
            "error_x": {
             "color": "#2a3f5f"
            },
            "error_y": {
             "color": "#2a3f5f"
            },
            "marker": {
             "line": {
              "color": "#E5ECF6",
              "width": 0.5
             },
             "pattern": {
              "fillmode": "overlay",
              "size": 10,
              "solidity": 0.2
             }
            },
            "type": "bar"
           }
          ],
          "barpolar": [
           {
            "marker": {
             "line": {
              "color": "#E5ECF6",
              "width": 0.5
             },
             "pattern": {
              "fillmode": "overlay",
              "size": 10,
              "solidity": 0.2
             }
            },
            "type": "barpolar"
           }
          ],
          "carpet": [
           {
            "aaxis": {
             "endlinecolor": "#2a3f5f",
             "gridcolor": "white",
             "linecolor": "white",
             "minorgridcolor": "white",
             "startlinecolor": "#2a3f5f"
            },
            "baxis": {
             "endlinecolor": "#2a3f5f",
             "gridcolor": "white",
             "linecolor": "white",
             "minorgridcolor": "white",
             "startlinecolor": "#2a3f5f"
            },
            "type": "carpet"
           }
          ],
          "choropleth": [
           {
            "colorbar": {
             "outlinewidth": 0,
             "ticks": ""
            },
            "type": "choropleth"
           }
          ],
          "contour": [
           {
            "colorbar": {
             "outlinewidth": 0,
             "ticks": ""
            },
            "colorscale": [
             [
              0,
              "#0d0887"
             ],
             [
              0.1111111111111111,
              "#46039f"
             ],
             [
              0.2222222222222222,
              "#7201a8"
             ],
             [
              0.3333333333333333,
              "#9c179e"
             ],
             [
              0.4444444444444444,
              "#bd3786"
             ],
             [
              0.5555555555555556,
              "#d8576b"
             ],
             [
              0.6666666666666666,
              "#ed7953"
             ],
             [
              0.7777777777777778,
              "#fb9f3a"
             ],
             [
              0.8888888888888888,
              "#fdca26"
             ],
             [
              1,
              "#f0f921"
             ]
            ],
            "type": "contour"
           }
          ],
          "contourcarpet": [
           {
            "colorbar": {
             "outlinewidth": 0,
             "ticks": ""
            },
            "type": "contourcarpet"
           }
          ],
          "heatmap": [
           {
            "colorbar": {
             "outlinewidth": 0,
             "ticks": ""
            },
            "colorscale": [
             [
              0,
              "#0d0887"
             ],
             [
              0.1111111111111111,
              "#46039f"
             ],
             [
              0.2222222222222222,
              "#7201a8"
             ],
             [
              0.3333333333333333,
              "#9c179e"
             ],
             [
              0.4444444444444444,
              "#bd3786"
             ],
             [
              0.5555555555555556,
              "#d8576b"
             ],
             [
              0.6666666666666666,
              "#ed7953"
             ],
             [
              0.7777777777777778,
              "#fb9f3a"
             ],
             [
              0.8888888888888888,
              "#fdca26"
             ],
             [
              1,
              "#f0f921"
             ]
            ],
            "type": "heatmap"
           }
          ],
          "heatmapgl": [
           {
            "colorbar": {
             "outlinewidth": 0,
             "ticks": ""
            },
            "colorscale": [
             [
              0,
              "#0d0887"
             ],
             [
              0.1111111111111111,
              "#46039f"
             ],
             [
              0.2222222222222222,
              "#7201a8"
             ],
             [
              0.3333333333333333,
              "#9c179e"
             ],
             [
              0.4444444444444444,
              "#bd3786"
             ],
             [
              0.5555555555555556,
              "#d8576b"
             ],
             [
              0.6666666666666666,
              "#ed7953"
             ],
             [
              0.7777777777777778,
              "#fb9f3a"
             ],
             [
              0.8888888888888888,
              "#fdca26"
             ],
             [
              1,
              "#f0f921"
             ]
            ],
            "type": "heatmapgl"
           }
          ],
          "histogram": [
           {
            "marker": {
             "pattern": {
              "fillmode": "overlay",
              "size": 10,
              "solidity": 0.2
             }
            },
            "type": "histogram"
           }
          ],
          "histogram2d": [
           {
            "colorbar": {
             "outlinewidth": 0,
             "ticks": ""
            },
            "colorscale": [
             [
              0,
              "#0d0887"
             ],
             [
              0.1111111111111111,
              "#46039f"
             ],
             [
              0.2222222222222222,
              "#7201a8"
             ],
             [
              0.3333333333333333,
              "#9c179e"
             ],
             [
              0.4444444444444444,
              "#bd3786"
             ],
             [
              0.5555555555555556,
              "#d8576b"
             ],
             [
              0.6666666666666666,
              "#ed7953"
             ],
             [
              0.7777777777777778,
              "#fb9f3a"
             ],
             [
              0.8888888888888888,
              "#fdca26"
             ],
             [
              1,
              "#f0f921"
             ]
            ],
            "type": "histogram2d"
           }
          ],
          "histogram2dcontour": [
           {
            "colorbar": {
             "outlinewidth": 0,
             "ticks": ""
            },
            "colorscale": [
             [
              0,
              "#0d0887"
             ],
             [
              0.1111111111111111,
              "#46039f"
             ],
             [
              0.2222222222222222,
              "#7201a8"
             ],
             [
              0.3333333333333333,
              "#9c179e"
             ],
             [
              0.4444444444444444,
              "#bd3786"
             ],
             [
              0.5555555555555556,
              "#d8576b"
             ],
             [
              0.6666666666666666,
              "#ed7953"
             ],
             [
              0.7777777777777778,
              "#fb9f3a"
             ],
             [
              0.8888888888888888,
              "#fdca26"
             ],
             [
              1,
              "#f0f921"
             ]
            ],
            "type": "histogram2dcontour"
           }
          ],
          "mesh3d": [
           {
            "colorbar": {
             "outlinewidth": 0,
             "ticks": ""
            },
            "type": "mesh3d"
           }
          ],
          "parcoords": [
           {
            "line": {
             "colorbar": {
              "outlinewidth": 0,
              "ticks": ""
             }
            },
            "type": "parcoords"
           }
          ],
          "pie": [
           {
            "automargin": true,
            "type": "pie"
           }
          ],
          "scatter": [
           {
            "fillpattern": {
             "fillmode": "overlay",
             "size": 10,
             "solidity": 0.2
            },
            "type": "scatter"
           }
          ],
          "scatter3d": [
           {
            "line": {
             "colorbar": {
              "outlinewidth": 0,
              "ticks": ""
             }
            },
            "marker": {
             "colorbar": {
              "outlinewidth": 0,
              "ticks": ""
             }
            },
            "type": "scatter3d"
           }
          ],
          "scattercarpet": [
           {
            "marker": {
             "colorbar": {
              "outlinewidth": 0,
              "ticks": ""
             }
            },
            "type": "scattercarpet"
           }
          ],
          "scattergeo": [
           {
            "marker": {
             "colorbar": {
              "outlinewidth": 0,
              "ticks": ""
             }
            },
            "type": "scattergeo"
           }
          ],
          "scattergl": [
           {
            "marker": {
             "colorbar": {
              "outlinewidth": 0,
              "ticks": ""
             }
            },
            "type": "scattergl"
           }
          ],
          "scattermapbox": [
           {
            "marker": {
             "colorbar": {
              "outlinewidth": 0,
              "ticks": ""
             }
            },
            "type": "scattermapbox"
           }
          ],
          "scatterpolar": [
           {
            "marker": {
             "colorbar": {
              "outlinewidth": 0,
              "ticks": ""
             }
            },
            "type": "scatterpolar"
           }
          ],
          "scatterpolargl": [
           {
            "marker": {
             "colorbar": {
              "outlinewidth": 0,
              "ticks": ""
             }
            },
            "type": "scatterpolargl"
           }
          ],
          "scatterternary": [
           {
            "marker": {
             "colorbar": {
              "outlinewidth": 0,
              "ticks": ""
             }
            },
            "type": "scatterternary"
           }
          ],
          "surface": [
           {
            "colorbar": {
             "outlinewidth": 0,
             "ticks": ""
            },
            "colorscale": [
             [
              0,
              "#0d0887"
             ],
             [
              0.1111111111111111,
              "#46039f"
             ],
             [
              0.2222222222222222,
              "#7201a8"
             ],
             [
              0.3333333333333333,
              "#9c179e"
             ],
             [
              0.4444444444444444,
              "#bd3786"
             ],
             [
              0.5555555555555556,
              "#d8576b"
             ],
             [
              0.6666666666666666,
              "#ed7953"
             ],
             [
              0.7777777777777778,
              "#fb9f3a"
             ],
             [
              0.8888888888888888,
              "#fdca26"
             ],
             [
              1,
              "#f0f921"
             ]
            ],
            "type": "surface"
           }
          ],
          "table": [
           {
            "cells": {
             "fill": {
              "color": "#EBF0F8"
             },
             "line": {
              "color": "white"
             }
            },
            "header": {
             "fill": {
              "color": "#C8D4E3"
             },
             "line": {
              "color": "white"
             }
            },
            "type": "table"
           }
          ]
         },
         "layout": {
          "annotationdefaults": {
           "arrowcolor": "#2a3f5f",
           "arrowhead": 0,
           "arrowwidth": 1
          },
          "autotypenumbers": "strict",
          "coloraxis": {
           "colorbar": {
            "outlinewidth": 0,
            "ticks": ""
           }
          },
          "colorscale": {
           "diverging": [
            [
             0,
             "#8e0152"
            ],
            [
             0.1,
             "#c51b7d"
            ],
            [
             0.2,
             "#de77ae"
            ],
            [
             0.3,
             "#f1b6da"
            ],
            [
             0.4,
             "#fde0ef"
            ],
            [
             0.5,
             "#f7f7f7"
            ],
            [
             0.6,
             "#e6f5d0"
            ],
            [
             0.7,
             "#b8e186"
            ],
            [
             0.8,
             "#7fbc41"
            ],
            [
             0.9,
             "#4d9221"
            ],
            [
             1,
             "#276419"
            ]
           ],
           "sequential": [
            [
             0,
             "#0d0887"
            ],
            [
             0.1111111111111111,
             "#46039f"
            ],
            [
             0.2222222222222222,
             "#7201a8"
            ],
            [
             0.3333333333333333,
             "#9c179e"
            ],
            [
             0.4444444444444444,
             "#bd3786"
            ],
            [
             0.5555555555555556,
             "#d8576b"
            ],
            [
             0.6666666666666666,
             "#ed7953"
            ],
            [
             0.7777777777777778,
             "#fb9f3a"
            ],
            [
             0.8888888888888888,
             "#fdca26"
            ],
            [
             1,
             "#f0f921"
            ]
           ],
           "sequentialminus": [
            [
             0,
             "#0d0887"
            ],
            [
             0.1111111111111111,
             "#46039f"
            ],
            [
             0.2222222222222222,
             "#7201a8"
            ],
            [
             0.3333333333333333,
             "#9c179e"
            ],
            [
             0.4444444444444444,
             "#bd3786"
            ],
            [
             0.5555555555555556,
             "#d8576b"
            ],
            [
             0.6666666666666666,
             "#ed7953"
            ],
            [
             0.7777777777777778,
             "#fb9f3a"
            ],
            [
             0.8888888888888888,
             "#fdca26"
            ],
            [
             1,
             "#f0f921"
            ]
           ]
          },
          "colorway": [
           "#636efa",
           "#EF553B",
           "#00cc96",
           "#ab63fa",
           "#FFA15A",
           "#19d3f3",
           "#FF6692",
           "#B6E880",
           "#FF97FF",
           "#FECB52"
          ],
          "font": {
           "color": "#2a3f5f"
          },
          "geo": {
           "bgcolor": "white",
           "lakecolor": "white",
           "landcolor": "#E5ECF6",
           "showlakes": true,
           "showland": true,
           "subunitcolor": "white"
          },
          "hoverlabel": {
           "align": "left"
          },
          "hovermode": "closest",
          "mapbox": {
           "style": "light"
          },
          "paper_bgcolor": "white",
          "plot_bgcolor": "#E5ECF6",
          "polar": {
           "angularaxis": {
            "gridcolor": "white",
            "linecolor": "white",
            "ticks": ""
           },
           "bgcolor": "#E5ECF6",
           "radialaxis": {
            "gridcolor": "white",
            "linecolor": "white",
            "ticks": ""
           }
          },
          "scene": {
           "xaxis": {
            "backgroundcolor": "#E5ECF6",
            "gridcolor": "white",
            "gridwidth": 2,
            "linecolor": "white",
            "showbackground": true,
            "ticks": "",
            "zerolinecolor": "white"
           },
           "yaxis": {
            "backgroundcolor": "#E5ECF6",
            "gridcolor": "white",
            "gridwidth": 2,
            "linecolor": "white",
            "showbackground": true,
            "ticks": "",
            "zerolinecolor": "white"
           },
           "zaxis": {
            "backgroundcolor": "#E5ECF6",
            "gridcolor": "white",
            "gridwidth": 2,
            "linecolor": "white",
            "showbackground": true,
            "ticks": "",
            "zerolinecolor": "white"
           }
          },
          "shapedefaults": {
           "line": {
            "color": "#2a3f5f"
           }
          },
          "ternary": {
           "aaxis": {
            "gridcolor": "white",
            "linecolor": "white",
            "ticks": ""
           },
           "baxis": {
            "gridcolor": "white",
            "linecolor": "white",
            "ticks": ""
           },
           "bgcolor": "#E5ECF6",
           "caxis": {
            "gridcolor": "white",
            "linecolor": "white",
            "ticks": ""
           }
          },
          "title": {
           "x": 0.05
          },
          "xaxis": {
           "automargin": true,
           "gridcolor": "white",
           "linecolor": "white",
           "ticks": "",
           "title": {
            "standoff": 15
           },
           "zerolinecolor": "white",
           "zerolinewidth": 2
          },
          "yaxis": {
           "automargin": true,
           "gridcolor": "white",
           "linecolor": "white",
           "ticks": "",
           "title": {
            "standoff": 15
           },
           "zerolinecolor": "white",
           "zerolinewidth": 2
          }
         }
        },
        "title": {
         "text": "Distribución de la Capacidad de los Restaurantes con Reserva"
        },
        "xaxis": {
         "anchor": "y",
         "domain": [
          0,
          1
         ]
        },
        "yaxis": {
         "anchor": "x",
         "domain": [
          0,
          1
         ],
         "title": {
          "text": "Capacidad Mediana de los Restaurantes"
         }
        }
       }
      }
     },
     "metadata": {},
     "output_type": "display_data"
    }
   ],
   "source": [
    "#Grafica que muestra la capacidad mediana de los restaurantes que aceptan reservacion :)\n",
    "\n",
    "restaurantes_con_reserva = data2[data2[\"reservation\"] == True]\n",
    "capacidad_reserva= restaurantes_con_reserva[\"capacity\"]\n",
    "mediana_capacidad = round(bp.c_mediana(capacidad_reserva))\n",
    "\n",
    "\n",
    "fig = px.box(\n",
    "    restaurantes_con_reserva,\n",
    "    y='capacity',\n",
    "    title='Distribución de la Capacidad de los Restaurantes con Reserva',\n",
    "    labels={'capacity': 'Capacidad Mediana de los Restaurantes'},\n",
    "    points=\"all\"\n",
    "    \n",
    ")\n",
    "\n",
    "fig.show()\n"
   ]
  },
  {
   "cell_type": "markdown",
   "metadata": {},
   "source": [
    "Tendríamos que analizar si sería una buena inversión incluir un bar dentro del local para llamar la atención de personas que buscan un lugar para compartir y relajarse un rato "
   ]
  },
  {
   "cell_type": "markdown",
   "metadata": {},
   "source": [
    "![4](coctel.jpg)"
   ]
  },
  {
   "cell_type": "markdown",
   "metadata": {},
   "source": [
    "Quedó comprobado que el 65.02 porciento de locales analizados incluyen el servicio bar, así que Alejandro concluyó que sin duda su futuro negocio debía contar con uno, quizás no con una gran carta pero al menos ofreciendo los cócteles mas comunes."
   ]
  },
  {
   "cell_type": "code",
   "execution_count": 29,
   "metadata": {},
   "outputs": [
    {
     "data": {
      "application/vnd.plotly.v1+json": {
       "config": {
        "plotlyServerURL": "https://plot.ly"
       },
       "data": [
        {
         "alignmentgroup": "True",
         "hovertemplate": "x=%{x}<br>y=%{y}<extra></extra>",
         "legendgroup": "",
         "marker": {
          "color": "purple",
          "pattern": {
           "shape": ""
          }
         },
         "name": "",
         "offsetgroup": "",
         "orientation": "v",
         "showlegend": false,
         "textposition": "auto",
         "type": "bar",
         "x": [
          "Con Bar",
          "Sin Bar"
         ],
         "xaxis": "x",
         "y": [
          65.02,
          34.980000000000004
         ],
         "yaxis": "y"
        }
       ],
       "layout": {
        "barmode": "relative",
        "legend": {
         "tracegroupgap": 0
        },
        "template": {
         "data": {
          "bar": [
           {
            "error_x": {
             "color": "#2a3f5f"
            },
            "error_y": {
             "color": "#2a3f5f"
            },
            "marker": {
             "line": {
              "color": "#E5ECF6",
              "width": 0.5
             },
             "pattern": {
              "fillmode": "overlay",
              "size": 10,
              "solidity": 0.2
             }
            },
            "type": "bar"
           }
          ],
          "barpolar": [
           {
            "marker": {
             "line": {
              "color": "#E5ECF6",
              "width": 0.5
             },
             "pattern": {
              "fillmode": "overlay",
              "size": 10,
              "solidity": 0.2
             }
            },
            "type": "barpolar"
           }
          ],
          "carpet": [
           {
            "aaxis": {
             "endlinecolor": "#2a3f5f",
             "gridcolor": "white",
             "linecolor": "white",
             "minorgridcolor": "white",
             "startlinecolor": "#2a3f5f"
            },
            "baxis": {
             "endlinecolor": "#2a3f5f",
             "gridcolor": "white",
             "linecolor": "white",
             "minorgridcolor": "white",
             "startlinecolor": "#2a3f5f"
            },
            "type": "carpet"
           }
          ],
          "choropleth": [
           {
            "colorbar": {
             "outlinewidth": 0,
             "ticks": ""
            },
            "type": "choropleth"
           }
          ],
          "contour": [
           {
            "colorbar": {
             "outlinewidth": 0,
             "ticks": ""
            },
            "colorscale": [
             [
              0,
              "#0d0887"
             ],
             [
              0.1111111111111111,
              "#46039f"
             ],
             [
              0.2222222222222222,
              "#7201a8"
             ],
             [
              0.3333333333333333,
              "#9c179e"
             ],
             [
              0.4444444444444444,
              "#bd3786"
             ],
             [
              0.5555555555555556,
              "#d8576b"
             ],
             [
              0.6666666666666666,
              "#ed7953"
             ],
             [
              0.7777777777777778,
              "#fb9f3a"
             ],
             [
              0.8888888888888888,
              "#fdca26"
             ],
             [
              1,
              "#f0f921"
             ]
            ],
            "type": "contour"
           }
          ],
          "contourcarpet": [
           {
            "colorbar": {
             "outlinewidth": 0,
             "ticks": ""
            },
            "type": "contourcarpet"
           }
          ],
          "heatmap": [
           {
            "colorbar": {
             "outlinewidth": 0,
             "ticks": ""
            },
            "colorscale": [
             [
              0,
              "#0d0887"
             ],
             [
              0.1111111111111111,
              "#46039f"
             ],
             [
              0.2222222222222222,
              "#7201a8"
             ],
             [
              0.3333333333333333,
              "#9c179e"
             ],
             [
              0.4444444444444444,
              "#bd3786"
             ],
             [
              0.5555555555555556,
              "#d8576b"
             ],
             [
              0.6666666666666666,
              "#ed7953"
             ],
             [
              0.7777777777777778,
              "#fb9f3a"
             ],
             [
              0.8888888888888888,
              "#fdca26"
             ],
             [
              1,
              "#f0f921"
             ]
            ],
            "type": "heatmap"
           }
          ],
          "heatmapgl": [
           {
            "colorbar": {
             "outlinewidth": 0,
             "ticks": ""
            },
            "colorscale": [
             [
              0,
              "#0d0887"
             ],
             [
              0.1111111111111111,
              "#46039f"
             ],
             [
              0.2222222222222222,
              "#7201a8"
             ],
             [
              0.3333333333333333,
              "#9c179e"
             ],
             [
              0.4444444444444444,
              "#bd3786"
             ],
             [
              0.5555555555555556,
              "#d8576b"
             ],
             [
              0.6666666666666666,
              "#ed7953"
             ],
             [
              0.7777777777777778,
              "#fb9f3a"
             ],
             [
              0.8888888888888888,
              "#fdca26"
             ],
             [
              1,
              "#f0f921"
             ]
            ],
            "type": "heatmapgl"
           }
          ],
          "histogram": [
           {
            "marker": {
             "pattern": {
              "fillmode": "overlay",
              "size": 10,
              "solidity": 0.2
             }
            },
            "type": "histogram"
           }
          ],
          "histogram2d": [
           {
            "colorbar": {
             "outlinewidth": 0,
             "ticks": ""
            },
            "colorscale": [
             [
              0,
              "#0d0887"
             ],
             [
              0.1111111111111111,
              "#46039f"
             ],
             [
              0.2222222222222222,
              "#7201a8"
             ],
             [
              0.3333333333333333,
              "#9c179e"
             ],
             [
              0.4444444444444444,
              "#bd3786"
             ],
             [
              0.5555555555555556,
              "#d8576b"
             ],
             [
              0.6666666666666666,
              "#ed7953"
             ],
             [
              0.7777777777777778,
              "#fb9f3a"
             ],
             [
              0.8888888888888888,
              "#fdca26"
             ],
             [
              1,
              "#f0f921"
             ]
            ],
            "type": "histogram2d"
           }
          ],
          "histogram2dcontour": [
           {
            "colorbar": {
             "outlinewidth": 0,
             "ticks": ""
            },
            "colorscale": [
             [
              0,
              "#0d0887"
             ],
             [
              0.1111111111111111,
              "#46039f"
             ],
             [
              0.2222222222222222,
              "#7201a8"
             ],
             [
              0.3333333333333333,
              "#9c179e"
             ],
             [
              0.4444444444444444,
              "#bd3786"
             ],
             [
              0.5555555555555556,
              "#d8576b"
             ],
             [
              0.6666666666666666,
              "#ed7953"
             ],
             [
              0.7777777777777778,
              "#fb9f3a"
             ],
             [
              0.8888888888888888,
              "#fdca26"
             ],
             [
              1,
              "#f0f921"
             ]
            ],
            "type": "histogram2dcontour"
           }
          ],
          "mesh3d": [
           {
            "colorbar": {
             "outlinewidth": 0,
             "ticks": ""
            },
            "type": "mesh3d"
           }
          ],
          "parcoords": [
           {
            "line": {
             "colorbar": {
              "outlinewidth": 0,
              "ticks": ""
             }
            },
            "type": "parcoords"
           }
          ],
          "pie": [
           {
            "automargin": true,
            "type": "pie"
           }
          ],
          "scatter": [
           {
            "fillpattern": {
             "fillmode": "overlay",
             "size": 10,
             "solidity": 0.2
            },
            "type": "scatter"
           }
          ],
          "scatter3d": [
           {
            "line": {
             "colorbar": {
              "outlinewidth": 0,
              "ticks": ""
             }
            },
            "marker": {
             "colorbar": {
              "outlinewidth": 0,
              "ticks": ""
             }
            },
            "type": "scatter3d"
           }
          ],
          "scattercarpet": [
           {
            "marker": {
             "colorbar": {
              "outlinewidth": 0,
              "ticks": ""
             }
            },
            "type": "scattercarpet"
           }
          ],
          "scattergeo": [
           {
            "marker": {
             "colorbar": {
              "outlinewidth": 0,
              "ticks": ""
             }
            },
            "type": "scattergeo"
           }
          ],
          "scattergl": [
           {
            "marker": {
             "colorbar": {
              "outlinewidth": 0,
              "ticks": ""
             }
            },
            "type": "scattergl"
           }
          ],
          "scattermapbox": [
           {
            "marker": {
             "colorbar": {
              "outlinewidth": 0,
              "ticks": ""
             }
            },
            "type": "scattermapbox"
           }
          ],
          "scatterpolar": [
           {
            "marker": {
             "colorbar": {
              "outlinewidth": 0,
              "ticks": ""
             }
            },
            "type": "scatterpolar"
           }
          ],
          "scatterpolargl": [
           {
            "marker": {
             "colorbar": {
              "outlinewidth": 0,
              "ticks": ""
             }
            },
            "type": "scatterpolargl"
           }
          ],
          "scatterternary": [
           {
            "marker": {
             "colorbar": {
              "outlinewidth": 0,
              "ticks": ""
             }
            },
            "type": "scatterternary"
           }
          ],
          "surface": [
           {
            "colorbar": {
             "outlinewidth": 0,
             "ticks": ""
            },
            "colorscale": [
             [
              0,
              "#0d0887"
             ],
             [
              0.1111111111111111,
              "#46039f"
             ],
             [
              0.2222222222222222,
              "#7201a8"
             ],
             [
              0.3333333333333333,
              "#9c179e"
             ],
             [
              0.4444444444444444,
              "#bd3786"
             ],
             [
              0.5555555555555556,
              "#d8576b"
             ],
             [
              0.6666666666666666,
              "#ed7953"
             ],
             [
              0.7777777777777778,
              "#fb9f3a"
             ],
             [
              0.8888888888888888,
              "#fdca26"
             ],
             [
              1,
              "#f0f921"
             ]
            ],
            "type": "surface"
           }
          ],
          "table": [
           {
            "cells": {
             "fill": {
              "color": "#EBF0F8"
             },
             "line": {
              "color": "white"
             }
            },
            "header": {
             "fill": {
              "color": "#C8D4E3"
             },
             "line": {
              "color": "white"
             }
            },
            "type": "table"
           }
          ]
         },
         "layout": {
          "annotationdefaults": {
           "arrowcolor": "#2a3f5f",
           "arrowhead": 0,
           "arrowwidth": 1
          },
          "autotypenumbers": "strict",
          "coloraxis": {
           "colorbar": {
            "outlinewidth": 0,
            "ticks": ""
           }
          },
          "colorscale": {
           "diverging": [
            [
             0,
             "#8e0152"
            ],
            [
             0.1,
             "#c51b7d"
            ],
            [
             0.2,
             "#de77ae"
            ],
            [
             0.3,
             "#f1b6da"
            ],
            [
             0.4,
             "#fde0ef"
            ],
            [
             0.5,
             "#f7f7f7"
            ],
            [
             0.6,
             "#e6f5d0"
            ],
            [
             0.7,
             "#b8e186"
            ],
            [
             0.8,
             "#7fbc41"
            ],
            [
             0.9,
             "#4d9221"
            ],
            [
             1,
             "#276419"
            ]
           ],
           "sequential": [
            [
             0,
             "#0d0887"
            ],
            [
             0.1111111111111111,
             "#46039f"
            ],
            [
             0.2222222222222222,
             "#7201a8"
            ],
            [
             0.3333333333333333,
             "#9c179e"
            ],
            [
             0.4444444444444444,
             "#bd3786"
            ],
            [
             0.5555555555555556,
             "#d8576b"
            ],
            [
             0.6666666666666666,
             "#ed7953"
            ],
            [
             0.7777777777777778,
             "#fb9f3a"
            ],
            [
             0.8888888888888888,
             "#fdca26"
            ],
            [
             1,
             "#f0f921"
            ]
           ],
           "sequentialminus": [
            [
             0,
             "#0d0887"
            ],
            [
             0.1111111111111111,
             "#46039f"
            ],
            [
             0.2222222222222222,
             "#7201a8"
            ],
            [
             0.3333333333333333,
             "#9c179e"
            ],
            [
             0.4444444444444444,
             "#bd3786"
            ],
            [
             0.5555555555555556,
             "#d8576b"
            ],
            [
             0.6666666666666666,
             "#ed7953"
            ],
            [
             0.7777777777777778,
             "#fb9f3a"
            ],
            [
             0.8888888888888888,
             "#fdca26"
            ],
            [
             1,
             "#f0f921"
            ]
           ]
          },
          "colorway": [
           "#636efa",
           "#EF553B",
           "#00cc96",
           "#ab63fa",
           "#FFA15A",
           "#19d3f3",
           "#FF6692",
           "#B6E880",
           "#FF97FF",
           "#FECB52"
          ],
          "font": {
           "color": "#2a3f5f"
          },
          "geo": {
           "bgcolor": "white",
           "lakecolor": "white",
           "landcolor": "#E5ECF6",
           "showlakes": true,
           "showland": true,
           "subunitcolor": "white"
          },
          "hoverlabel": {
           "align": "left"
          },
          "hovermode": "closest",
          "mapbox": {
           "style": "light"
          },
          "paper_bgcolor": "white",
          "plot_bgcolor": "#E5ECF6",
          "polar": {
           "angularaxis": {
            "gridcolor": "white",
            "linecolor": "white",
            "ticks": ""
           },
           "bgcolor": "#E5ECF6",
           "radialaxis": {
            "gridcolor": "white",
            "linecolor": "white",
            "ticks": ""
           }
          },
          "scene": {
           "xaxis": {
            "backgroundcolor": "#E5ECF6",
            "gridcolor": "white",
            "gridwidth": 2,
            "linecolor": "white",
            "showbackground": true,
            "ticks": "",
            "zerolinecolor": "white"
           },
           "yaxis": {
            "backgroundcolor": "#E5ECF6",
            "gridcolor": "white",
            "gridwidth": 2,
            "linecolor": "white",
            "showbackground": true,
            "ticks": "",
            "zerolinecolor": "white"
           },
           "zaxis": {
            "backgroundcolor": "#E5ECF6",
            "gridcolor": "white",
            "gridwidth": 2,
            "linecolor": "white",
            "showbackground": true,
            "ticks": "",
            "zerolinecolor": "white"
           }
          },
          "shapedefaults": {
           "line": {
            "color": "#2a3f5f"
           }
          },
          "ternary": {
           "aaxis": {
            "gridcolor": "white",
            "linecolor": "white",
            "ticks": ""
           },
           "baxis": {
            "gridcolor": "white",
            "linecolor": "white",
            "ticks": ""
           },
           "bgcolor": "#E5ECF6",
           "caxis": {
            "gridcolor": "white",
            "linecolor": "white",
            "ticks": ""
           }
          },
          "title": {
           "x": 0.05
          },
          "xaxis": {
           "automargin": true,
           "gridcolor": "white",
           "linecolor": "white",
           "ticks": "",
           "title": {
            "standoff": 15
           },
           "zerolinecolor": "white",
           "zerolinewidth": 2
          },
          "yaxis": {
           "automargin": true,
           "gridcolor": "white",
           "linecolor": "white",
           "ticks": "",
           "title": {
            "standoff": 15
           },
           "zerolinecolor": "white",
           "zerolinewidth": 2
          }
         }
        },
        "title": {
         "text": "Porciento de Locales con Bar Incluido"
        },
        "xaxis": {
         "anchor": "y",
         "domain": [
          0,
          1
         ],
         "title": {
          "text": "x"
         }
        },
        "yaxis": {
         "anchor": "x",
         "domain": [
          0,
          1
         ],
         "title": {
          "text": "y"
         }
        }
       }
      }
     },
     "metadata": {},
     "output_type": "display_data"
    }
   ],
   "source": [
    "#Grafico que muestra el porciento de locales que tiene la opcion de bar\n",
    "total_tipo = len(data2)\n",
    "tipo = data2[\"type\"]\n",
    "tipo_bar = []\n",
    "for i in tipo:\n",
    "    if i == \"Bar\" or i == \"Bar-Restaurante\" or i == \"Bar-Restaurante-Cafeteria\":\n",
    "        tipo_bar.append(i)\n",
    "cant_bar = len(tipo_bar)\n",
    "porciento_bares = round(bp.c_porciento(cant_bar, total_tipo), 2)\n",
    "porciento_sin_bares =  100 - porciento_bares\n",
    "\n",
    "fig= px.bar(\n",
    "    x=(\"Con Bar\",\"Sin Bar\"),\n",
    "    y=(porciento_bares, porciento_sin_bares),\n",
    "    title=\"Porciento de Locales con Bar Incluido\",\n",
    "    labels=(\"Categorias\",\"Porcentaje\"),\n",
    "    color_discrete_sequence=[\"purple\"]\n",
    "\n",
    "\n",
    ")\n",
    "fig.show()"
   ]
  },
  {
   "cell_type": "markdown",
   "metadata": {},
   "source": [
    "Después de terminada la investigación general, a Alejandro le llamoron la atención 3 municipios: Habana Vieja, Plaza de la Revolución y Diez de Octubre, pro lo que decidió realizar una comparación entre este último y los dos primeros mencionados ya que estos son de mayor atracción para los turistas. Según la Guia Turística de Cuba, Habana Vieja , Plaza de la Revolucion, Centro Habana, Playa y Habana del Este son los municipios habaneros por los que mas transitan los turistas que visitan la capital.\n"
   ]
  },
  {
   "cell_type": "markdown",
   "metadata": {},
   "source": [
    "![5](terraza%20malecon.jpg)"
   ]
  },
  {
   "cell_type": "markdown",
   "metadata": {},
   "source": [
    "Lo primero que investigó debido a que su restaurante se iba a especializar en la comida cubana, era que tan comun era esta especialidad, pensó que en las zonas de mayor turismo iba a ser mayor la cantidad de restaurantes que se dedicaran a preparar este tipo de comida, ya que muchos turistas vienen en busca de los sabores típicos de nuestro país, pero al finalizar el analisis se dio cuenta que de la muestra de restaurantes que había tomado en La Habana vieja que es el municipio número uno cuando de turismo se habla solo un 36.66 % de los restaurantes se dedicaban a esta especialidad."
   ]
  },
  {
   "cell_type": "code",
   "execution_count": 35,
   "metadata": {},
   "outputs": [
    {
     "data": {
      "application/vnd.plotly.v1+json": {
       "config": {
        "plotlyServerURL": "https://plot.ly"
       },
       "data": [
        {
         "marker": {
          "color": "skyblue"
         },
         "name": "Porcentaje de Restaurantes",
         "type": "bar",
         "x": [
          "habana vieja",
          "plaza de la revolucion",
          "10 de octubre"
         ],
         "y": [
          36.666666666666664,
          62.857142857142854,
          43.333333333333336
         ]
        }
       ],
       "layout": {
        "template": {
         "data": {
          "bar": [
           {
            "error_x": {
             "color": "#2a3f5f"
            },
            "error_y": {
             "color": "#2a3f5f"
            },
            "marker": {
             "line": {
              "color": "#E5ECF6",
              "width": 0.5
             },
             "pattern": {
              "fillmode": "overlay",
              "size": 10,
              "solidity": 0.2
             }
            },
            "type": "bar"
           }
          ],
          "barpolar": [
           {
            "marker": {
             "line": {
              "color": "#E5ECF6",
              "width": 0.5
             },
             "pattern": {
              "fillmode": "overlay",
              "size": 10,
              "solidity": 0.2
             }
            },
            "type": "barpolar"
           }
          ],
          "carpet": [
           {
            "aaxis": {
             "endlinecolor": "#2a3f5f",
             "gridcolor": "white",
             "linecolor": "white",
             "minorgridcolor": "white",
             "startlinecolor": "#2a3f5f"
            },
            "baxis": {
             "endlinecolor": "#2a3f5f",
             "gridcolor": "white",
             "linecolor": "white",
             "minorgridcolor": "white",
             "startlinecolor": "#2a3f5f"
            },
            "type": "carpet"
           }
          ],
          "choropleth": [
           {
            "colorbar": {
             "outlinewidth": 0,
             "ticks": ""
            },
            "type": "choropleth"
           }
          ],
          "contour": [
           {
            "colorbar": {
             "outlinewidth": 0,
             "ticks": ""
            },
            "colorscale": [
             [
              0,
              "#0d0887"
             ],
             [
              0.1111111111111111,
              "#46039f"
             ],
             [
              0.2222222222222222,
              "#7201a8"
             ],
             [
              0.3333333333333333,
              "#9c179e"
             ],
             [
              0.4444444444444444,
              "#bd3786"
             ],
             [
              0.5555555555555556,
              "#d8576b"
             ],
             [
              0.6666666666666666,
              "#ed7953"
             ],
             [
              0.7777777777777778,
              "#fb9f3a"
             ],
             [
              0.8888888888888888,
              "#fdca26"
             ],
             [
              1,
              "#f0f921"
             ]
            ],
            "type": "contour"
           }
          ],
          "contourcarpet": [
           {
            "colorbar": {
             "outlinewidth": 0,
             "ticks": ""
            },
            "type": "contourcarpet"
           }
          ],
          "heatmap": [
           {
            "colorbar": {
             "outlinewidth": 0,
             "ticks": ""
            },
            "colorscale": [
             [
              0,
              "#0d0887"
             ],
             [
              0.1111111111111111,
              "#46039f"
             ],
             [
              0.2222222222222222,
              "#7201a8"
             ],
             [
              0.3333333333333333,
              "#9c179e"
             ],
             [
              0.4444444444444444,
              "#bd3786"
             ],
             [
              0.5555555555555556,
              "#d8576b"
             ],
             [
              0.6666666666666666,
              "#ed7953"
             ],
             [
              0.7777777777777778,
              "#fb9f3a"
             ],
             [
              0.8888888888888888,
              "#fdca26"
             ],
             [
              1,
              "#f0f921"
             ]
            ],
            "type": "heatmap"
           }
          ],
          "heatmapgl": [
           {
            "colorbar": {
             "outlinewidth": 0,
             "ticks": ""
            },
            "colorscale": [
             [
              0,
              "#0d0887"
             ],
             [
              0.1111111111111111,
              "#46039f"
             ],
             [
              0.2222222222222222,
              "#7201a8"
             ],
             [
              0.3333333333333333,
              "#9c179e"
             ],
             [
              0.4444444444444444,
              "#bd3786"
             ],
             [
              0.5555555555555556,
              "#d8576b"
             ],
             [
              0.6666666666666666,
              "#ed7953"
             ],
             [
              0.7777777777777778,
              "#fb9f3a"
             ],
             [
              0.8888888888888888,
              "#fdca26"
             ],
             [
              1,
              "#f0f921"
             ]
            ],
            "type": "heatmapgl"
           }
          ],
          "histogram": [
           {
            "marker": {
             "pattern": {
              "fillmode": "overlay",
              "size": 10,
              "solidity": 0.2
             }
            },
            "type": "histogram"
           }
          ],
          "histogram2d": [
           {
            "colorbar": {
             "outlinewidth": 0,
             "ticks": ""
            },
            "colorscale": [
             [
              0,
              "#0d0887"
             ],
             [
              0.1111111111111111,
              "#46039f"
             ],
             [
              0.2222222222222222,
              "#7201a8"
             ],
             [
              0.3333333333333333,
              "#9c179e"
             ],
             [
              0.4444444444444444,
              "#bd3786"
             ],
             [
              0.5555555555555556,
              "#d8576b"
             ],
             [
              0.6666666666666666,
              "#ed7953"
             ],
             [
              0.7777777777777778,
              "#fb9f3a"
             ],
             [
              0.8888888888888888,
              "#fdca26"
             ],
             [
              1,
              "#f0f921"
             ]
            ],
            "type": "histogram2d"
           }
          ],
          "histogram2dcontour": [
           {
            "colorbar": {
             "outlinewidth": 0,
             "ticks": ""
            },
            "colorscale": [
             [
              0,
              "#0d0887"
             ],
             [
              0.1111111111111111,
              "#46039f"
             ],
             [
              0.2222222222222222,
              "#7201a8"
             ],
             [
              0.3333333333333333,
              "#9c179e"
             ],
             [
              0.4444444444444444,
              "#bd3786"
             ],
             [
              0.5555555555555556,
              "#d8576b"
             ],
             [
              0.6666666666666666,
              "#ed7953"
             ],
             [
              0.7777777777777778,
              "#fb9f3a"
             ],
             [
              0.8888888888888888,
              "#fdca26"
             ],
             [
              1,
              "#f0f921"
             ]
            ],
            "type": "histogram2dcontour"
           }
          ],
          "mesh3d": [
           {
            "colorbar": {
             "outlinewidth": 0,
             "ticks": ""
            },
            "type": "mesh3d"
           }
          ],
          "parcoords": [
           {
            "line": {
             "colorbar": {
              "outlinewidth": 0,
              "ticks": ""
             }
            },
            "type": "parcoords"
           }
          ],
          "pie": [
           {
            "automargin": true,
            "type": "pie"
           }
          ],
          "scatter": [
           {
            "fillpattern": {
             "fillmode": "overlay",
             "size": 10,
             "solidity": 0.2
            },
            "type": "scatter"
           }
          ],
          "scatter3d": [
           {
            "line": {
             "colorbar": {
              "outlinewidth": 0,
              "ticks": ""
             }
            },
            "marker": {
             "colorbar": {
              "outlinewidth": 0,
              "ticks": ""
             }
            },
            "type": "scatter3d"
           }
          ],
          "scattercarpet": [
           {
            "marker": {
             "colorbar": {
              "outlinewidth": 0,
              "ticks": ""
             }
            },
            "type": "scattercarpet"
           }
          ],
          "scattergeo": [
           {
            "marker": {
             "colorbar": {
              "outlinewidth": 0,
              "ticks": ""
             }
            },
            "type": "scattergeo"
           }
          ],
          "scattergl": [
           {
            "marker": {
             "colorbar": {
              "outlinewidth": 0,
              "ticks": ""
             }
            },
            "type": "scattergl"
           }
          ],
          "scattermapbox": [
           {
            "marker": {
             "colorbar": {
              "outlinewidth": 0,
              "ticks": ""
             }
            },
            "type": "scattermapbox"
           }
          ],
          "scatterpolar": [
           {
            "marker": {
             "colorbar": {
              "outlinewidth": 0,
              "ticks": ""
             }
            },
            "type": "scatterpolar"
           }
          ],
          "scatterpolargl": [
           {
            "marker": {
             "colorbar": {
              "outlinewidth": 0,
              "ticks": ""
             }
            },
            "type": "scatterpolargl"
           }
          ],
          "scatterternary": [
           {
            "marker": {
             "colorbar": {
              "outlinewidth": 0,
              "ticks": ""
             }
            },
            "type": "scatterternary"
           }
          ],
          "surface": [
           {
            "colorbar": {
             "outlinewidth": 0,
             "ticks": ""
            },
            "colorscale": [
             [
              0,
              "#0d0887"
             ],
             [
              0.1111111111111111,
              "#46039f"
             ],
             [
              0.2222222222222222,
              "#7201a8"
             ],
             [
              0.3333333333333333,
              "#9c179e"
             ],
             [
              0.4444444444444444,
              "#bd3786"
             ],
             [
              0.5555555555555556,
              "#d8576b"
             ],
             [
              0.6666666666666666,
              "#ed7953"
             ],
             [
              0.7777777777777778,
              "#fb9f3a"
             ],
             [
              0.8888888888888888,
              "#fdca26"
             ],
             [
              1,
              "#f0f921"
             ]
            ],
            "type": "surface"
           }
          ],
          "table": [
           {
            "cells": {
             "fill": {
              "color": "#EBF0F8"
             },
             "line": {
              "color": "white"
             }
            },
            "header": {
             "fill": {
              "color": "#C8D4E3"
             },
             "line": {
              "color": "white"
             }
            },
            "type": "table"
           }
          ]
         },
         "layout": {
          "annotationdefaults": {
           "arrowcolor": "#2a3f5f",
           "arrowhead": 0,
           "arrowwidth": 1
          },
          "autotypenumbers": "strict",
          "coloraxis": {
           "colorbar": {
            "outlinewidth": 0,
            "ticks": ""
           }
          },
          "colorscale": {
           "diverging": [
            [
             0,
             "#8e0152"
            ],
            [
             0.1,
             "#c51b7d"
            ],
            [
             0.2,
             "#de77ae"
            ],
            [
             0.3,
             "#f1b6da"
            ],
            [
             0.4,
             "#fde0ef"
            ],
            [
             0.5,
             "#f7f7f7"
            ],
            [
             0.6,
             "#e6f5d0"
            ],
            [
             0.7,
             "#b8e186"
            ],
            [
             0.8,
             "#7fbc41"
            ],
            [
             0.9,
             "#4d9221"
            ],
            [
             1,
             "#276419"
            ]
           ],
           "sequential": [
            [
             0,
             "#0d0887"
            ],
            [
             0.1111111111111111,
             "#46039f"
            ],
            [
             0.2222222222222222,
             "#7201a8"
            ],
            [
             0.3333333333333333,
             "#9c179e"
            ],
            [
             0.4444444444444444,
             "#bd3786"
            ],
            [
             0.5555555555555556,
             "#d8576b"
            ],
            [
             0.6666666666666666,
             "#ed7953"
            ],
            [
             0.7777777777777778,
             "#fb9f3a"
            ],
            [
             0.8888888888888888,
             "#fdca26"
            ],
            [
             1,
             "#f0f921"
            ]
           ],
           "sequentialminus": [
            [
             0,
             "#0d0887"
            ],
            [
             0.1111111111111111,
             "#46039f"
            ],
            [
             0.2222222222222222,
             "#7201a8"
            ],
            [
             0.3333333333333333,
             "#9c179e"
            ],
            [
             0.4444444444444444,
             "#bd3786"
            ],
            [
             0.5555555555555556,
             "#d8576b"
            ],
            [
             0.6666666666666666,
             "#ed7953"
            ],
            [
             0.7777777777777778,
             "#fb9f3a"
            ],
            [
             0.8888888888888888,
             "#fdca26"
            ],
            [
             1,
             "#f0f921"
            ]
           ]
          },
          "colorway": [
           "#636efa",
           "#EF553B",
           "#00cc96",
           "#ab63fa",
           "#FFA15A",
           "#19d3f3",
           "#FF6692",
           "#B6E880",
           "#FF97FF",
           "#FECB52"
          ],
          "font": {
           "color": "#2a3f5f"
          },
          "geo": {
           "bgcolor": "white",
           "lakecolor": "white",
           "landcolor": "#E5ECF6",
           "showlakes": true,
           "showland": true,
           "subunitcolor": "white"
          },
          "hoverlabel": {
           "align": "left"
          },
          "hovermode": "closest",
          "mapbox": {
           "style": "light"
          },
          "paper_bgcolor": "white",
          "plot_bgcolor": "#E5ECF6",
          "polar": {
           "angularaxis": {
            "gridcolor": "white",
            "linecolor": "white",
            "ticks": ""
           },
           "bgcolor": "#E5ECF6",
           "radialaxis": {
            "gridcolor": "white",
            "linecolor": "white",
            "ticks": ""
           }
          },
          "scene": {
           "xaxis": {
            "backgroundcolor": "#E5ECF6",
            "gridcolor": "white",
            "gridwidth": 2,
            "linecolor": "white",
            "showbackground": true,
            "ticks": "",
            "zerolinecolor": "white"
           },
           "yaxis": {
            "backgroundcolor": "#E5ECF6",
            "gridcolor": "white",
            "gridwidth": 2,
            "linecolor": "white",
            "showbackground": true,
            "ticks": "",
            "zerolinecolor": "white"
           },
           "zaxis": {
            "backgroundcolor": "#E5ECF6",
            "gridcolor": "white",
            "gridwidth": 2,
            "linecolor": "white",
            "showbackground": true,
            "ticks": "",
            "zerolinecolor": "white"
           }
          },
          "shapedefaults": {
           "line": {
            "color": "#2a3f5f"
           }
          },
          "ternary": {
           "aaxis": {
            "gridcolor": "white",
            "linecolor": "white",
            "ticks": ""
           },
           "baxis": {
            "gridcolor": "white",
            "linecolor": "white",
            "ticks": ""
           },
           "bgcolor": "#E5ECF6",
           "caxis": {
            "gridcolor": "white",
            "linecolor": "white",
            "ticks": ""
           }
          },
          "title": {
           "x": 0.05
          },
          "xaxis": {
           "automargin": true,
           "gridcolor": "white",
           "linecolor": "white",
           "ticks": "",
           "title": {
            "standoff": 15
           },
           "zerolinecolor": "white",
           "zerolinewidth": 2
          },
          "yaxis": {
           "automargin": true,
           "gridcolor": "white",
           "linecolor": "white",
           "ticks": "",
           "title": {
            "standoff": 15
           },
           "zerolinecolor": "white",
           "zerolinewidth": 2
          }
         }
        },
        "title": {
         "text": "Porcentaje de Restaurantes con Comida Cubana por Municipio"
        },
        "xaxis": {
         "title": {
          "text": "Municipio"
         }
        },
        "yaxis": {
         "title": {
          "text": "Porcentaje de Restaurantes con Comida Cubana"
         }
        }
       }
      }
     },
     "metadata": {},
     "output_type": "display_data"
    }
   ],
   "source": [
    "\n",
    "municipios_interes = [\"habana vieja\", \"plaza de la revolucion\", \"10 de octubre\"]\n",
    "porcentaje_resultado = bp.calcular_porcentaje_restaurantes_cubanos(data2, municipios_interes)\n",
    "\n",
    "municipios = list(porcentaje_resultado.keys())\n",
    "valores = list(porcentaje_resultado.values())\n",
    "\n",
    "fig = go.Figure(data=[\n",
    "    go.Bar(name='Porcentaje de Restaurantes', \n",
    "           x=municipios, \n",
    "           y=valores, \n",
    "           marker_color='skyblue')\n",
    "])\n",
    "\n",
    "fig.update_layout(\n",
    "    title='Porcentaje de Restaurantes con Comida Cubana por Municipio',\n",
    "    xaxis_title='Municipio',\n",
    "    yaxis_title='Porcentaje de Restaurantes con Comida Cubana'\n",
    ")\n",
    "\n",
    "fig.show()\n"
   ]
  },
  {
   "cell_type": "markdown",
   "metadata": {},
   "source": [
    "Luego realizó un analisis de los paltos principales para saber el precio medio de los restaurantes de este municipio y pudo apreciar que el municipio de Habana Vieja toma el número uno cuando de lugares caros se habla, seguido por el municipio Plaza de la Revolución, ambos citios frecuentasdos por el mayor número de turistas "
   ]
  },
  {
   "cell_type": "code",
   "execution_count": 34,
   "metadata": {},
   "outputs": [
    {
     "data": {
      "application/vnd.plotly.v1+json": {
       "config": {
        "plotlyServerURL": "https://plot.ly"
       },
       "data": [
        {
         "marker": {
          "color": "green"
         },
         "type": "bar",
         "x": [
          "plaza de la revolucion",
          "habana vieja",
          "10 de octubre"
         ],
         "y": [
          3040.210622710623,
          3255.569306930693,
          2760.9452631578947
         ]
        }
       ],
       "layout": {
        "bargap": 0.2,
        "template": {
         "data": {
          "bar": [
           {
            "error_x": {
             "color": "#2a3f5f"
            },
            "error_y": {
             "color": "#2a3f5f"
            },
            "marker": {
             "line": {
              "color": "#E5ECF6",
              "width": 0.5
             },
             "pattern": {
              "fillmode": "overlay",
              "size": 10,
              "solidity": 0.2
             }
            },
            "type": "bar"
           }
          ],
          "barpolar": [
           {
            "marker": {
             "line": {
              "color": "#E5ECF6",
              "width": 0.5
             },
             "pattern": {
              "fillmode": "overlay",
              "size": 10,
              "solidity": 0.2
             }
            },
            "type": "barpolar"
           }
          ],
          "carpet": [
           {
            "aaxis": {
             "endlinecolor": "#2a3f5f",
             "gridcolor": "white",
             "linecolor": "white",
             "minorgridcolor": "white",
             "startlinecolor": "#2a3f5f"
            },
            "baxis": {
             "endlinecolor": "#2a3f5f",
             "gridcolor": "white",
             "linecolor": "white",
             "minorgridcolor": "white",
             "startlinecolor": "#2a3f5f"
            },
            "type": "carpet"
           }
          ],
          "choropleth": [
           {
            "colorbar": {
             "outlinewidth": 0,
             "ticks": ""
            },
            "type": "choropleth"
           }
          ],
          "contour": [
           {
            "colorbar": {
             "outlinewidth": 0,
             "ticks": ""
            },
            "colorscale": [
             [
              0,
              "#0d0887"
             ],
             [
              0.1111111111111111,
              "#46039f"
             ],
             [
              0.2222222222222222,
              "#7201a8"
             ],
             [
              0.3333333333333333,
              "#9c179e"
             ],
             [
              0.4444444444444444,
              "#bd3786"
             ],
             [
              0.5555555555555556,
              "#d8576b"
             ],
             [
              0.6666666666666666,
              "#ed7953"
             ],
             [
              0.7777777777777778,
              "#fb9f3a"
             ],
             [
              0.8888888888888888,
              "#fdca26"
             ],
             [
              1,
              "#f0f921"
             ]
            ],
            "type": "contour"
           }
          ],
          "contourcarpet": [
           {
            "colorbar": {
             "outlinewidth": 0,
             "ticks": ""
            },
            "type": "contourcarpet"
           }
          ],
          "heatmap": [
           {
            "colorbar": {
             "outlinewidth": 0,
             "ticks": ""
            },
            "colorscale": [
             [
              0,
              "#0d0887"
             ],
             [
              0.1111111111111111,
              "#46039f"
             ],
             [
              0.2222222222222222,
              "#7201a8"
             ],
             [
              0.3333333333333333,
              "#9c179e"
             ],
             [
              0.4444444444444444,
              "#bd3786"
             ],
             [
              0.5555555555555556,
              "#d8576b"
             ],
             [
              0.6666666666666666,
              "#ed7953"
             ],
             [
              0.7777777777777778,
              "#fb9f3a"
             ],
             [
              0.8888888888888888,
              "#fdca26"
             ],
             [
              1,
              "#f0f921"
             ]
            ],
            "type": "heatmap"
           }
          ],
          "heatmapgl": [
           {
            "colorbar": {
             "outlinewidth": 0,
             "ticks": ""
            },
            "colorscale": [
             [
              0,
              "#0d0887"
             ],
             [
              0.1111111111111111,
              "#46039f"
             ],
             [
              0.2222222222222222,
              "#7201a8"
             ],
             [
              0.3333333333333333,
              "#9c179e"
             ],
             [
              0.4444444444444444,
              "#bd3786"
             ],
             [
              0.5555555555555556,
              "#d8576b"
             ],
             [
              0.6666666666666666,
              "#ed7953"
             ],
             [
              0.7777777777777778,
              "#fb9f3a"
             ],
             [
              0.8888888888888888,
              "#fdca26"
             ],
             [
              1,
              "#f0f921"
             ]
            ],
            "type": "heatmapgl"
           }
          ],
          "histogram": [
           {
            "marker": {
             "pattern": {
              "fillmode": "overlay",
              "size": 10,
              "solidity": 0.2
             }
            },
            "type": "histogram"
           }
          ],
          "histogram2d": [
           {
            "colorbar": {
             "outlinewidth": 0,
             "ticks": ""
            },
            "colorscale": [
             [
              0,
              "#0d0887"
             ],
             [
              0.1111111111111111,
              "#46039f"
             ],
             [
              0.2222222222222222,
              "#7201a8"
             ],
             [
              0.3333333333333333,
              "#9c179e"
             ],
             [
              0.4444444444444444,
              "#bd3786"
             ],
             [
              0.5555555555555556,
              "#d8576b"
             ],
             [
              0.6666666666666666,
              "#ed7953"
             ],
             [
              0.7777777777777778,
              "#fb9f3a"
             ],
             [
              0.8888888888888888,
              "#fdca26"
             ],
             [
              1,
              "#f0f921"
             ]
            ],
            "type": "histogram2d"
           }
          ],
          "histogram2dcontour": [
           {
            "colorbar": {
             "outlinewidth": 0,
             "ticks": ""
            },
            "colorscale": [
             [
              0,
              "#0d0887"
             ],
             [
              0.1111111111111111,
              "#46039f"
             ],
             [
              0.2222222222222222,
              "#7201a8"
             ],
             [
              0.3333333333333333,
              "#9c179e"
             ],
             [
              0.4444444444444444,
              "#bd3786"
             ],
             [
              0.5555555555555556,
              "#d8576b"
             ],
             [
              0.6666666666666666,
              "#ed7953"
             ],
             [
              0.7777777777777778,
              "#fb9f3a"
             ],
             [
              0.8888888888888888,
              "#fdca26"
             ],
             [
              1,
              "#f0f921"
             ]
            ],
            "type": "histogram2dcontour"
           }
          ],
          "mesh3d": [
           {
            "colorbar": {
             "outlinewidth": 0,
             "ticks": ""
            },
            "type": "mesh3d"
           }
          ],
          "parcoords": [
           {
            "line": {
             "colorbar": {
              "outlinewidth": 0,
              "ticks": ""
             }
            },
            "type": "parcoords"
           }
          ],
          "pie": [
           {
            "automargin": true,
            "type": "pie"
           }
          ],
          "scatter": [
           {
            "fillpattern": {
             "fillmode": "overlay",
             "size": 10,
             "solidity": 0.2
            },
            "type": "scatter"
           }
          ],
          "scatter3d": [
           {
            "line": {
             "colorbar": {
              "outlinewidth": 0,
              "ticks": ""
             }
            },
            "marker": {
             "colorbar": {
              "outlinewidth": 0,
              "ticks": ""
             }
            },
            "type": "scatter3d"
           }
          ],
          "scattercarpet": [
           {
            "marker": {
             "colorbar": {
              "outlinewidth": 0,
              "ticks": ""
             }
            },
            "type": "scattercarpet"
           }
          ],
          "scattergeo": [
           {
            "marker": {
             "colorbar": {
              "outlinewidth": 0,
              "ticks": ""
             }
            },
            "type": "scattergeo"
           }
          ],
          "scattergl": [
           {
            "marker": {
             "colorbar": {
              "outlinewidth": 0,
              "ticks": ""
             }
            },
            "type": "scattergl"
           }
          ],
          "scattermapbox": [
           {
            "marker": {
             "colorbar": {
              "outlinewidth": 0,
              "ticks": ""
             }
            },
            "type": "scattermapbox"
           }
          ],
          "scatterpolar": [
           {
            "marker": {
             "colorbar": {
              "outlinewidth": 0,
              "ticks": ""
             }
            },
            "type": "scatterpolar"
           }
          ],
          "scatterpolargl": [
           {
            "marker": {
             "colorbar": {
              "outlinewidth": 0,
              "ticks": ""
             }
            },
            "type": "scatterpolargl"
           }
          ],
          "scatterternary": [
           {
            "marker": {
             "colorbar": {
              "outlinewidth": 0,
              "ticks": ""
             }
            },
            "type": "scatterternary"
           }
          ],
          "surface": [
           {
            "colorbar": {
             "outlinewidth": 0,
             "ticks": ""
            },
            "colorscale": [
             [
              0,
              "#0d0887"
             ],
             [
              0.1111111111111111,
              "#46039f"
             ],
             [
              0.2222222222222222,
              "#7201a8"
             ],
             [
              0.3333333333333333,
              "#9c179e"
             ],
             [
              0.4444444444444444,
              "#bd3786"
             ],
             [
              0.5555555555555556,
              "#d8576b"
             ],
             [
              0.6666666666666666,
              "#ed7953"
             ],
             [
              0.7777777777777778,
              "#fb9f3a"
             ],
             [
              0.8888888888888888,
              "#fdca26"
             ],
             [
              1,
              "#f0f921"
             ]
            ],
            "type": "surface"
           }
          ],
          "table": [
           {
            "cells": {
             "fill": {
              "color": "#EBF0F8"
             },
             "line": {
              "color": "white"
             }
            },
            "header": {
             "fill": {
              "color": "#C8D4E3"
             },
             "line": {
              "color": "white"
             }
            },
            "type": "table"
           }
          ]
         },
         "layout": {
          "annotationdefaults": {
           "arrowcolor": "#2a3f5f",
           "arrowhead": 0,
           "arrowwidth": 1
          },
          "autotypenumbers": "strict",
          "coloraxis": {
           "colorbar": {
            "outlinewidth": 0,
            "ticks": ""
           }
          },
          "colorscale": {
           "diverging": [
            [
             0,
             "#8e0152"
            ],
            [
             0.1,
             "#c51b7d"
            ],
            [
             0.2,
             "#de77ae"
            ],
            [
             0.3,
             "#f1b6da"
            ],
            [
             0.4,
             "#fde0ef"
            ],
            [
             0.5,
             "#f7f7f7"
            ],
            [
             0.6,
             "#e6f5d0"
            ],
            [
             0.7,
             "#b8e186"
            ],
            [
             0.8,
             "#7fbc41"
            ],
            [
             0.9,
             "#4d9221"
            ],
            [
             1,
             "#276419"
            ]
           ],
           "sequential": [
            [
             0,
             "#0d0887"
            ],
            [
             0.1111111111111111,
             "#46039f"
            ],
            [
             0.2222222222222222,
             "#7201a8"
            ],
            [
             0.3333333333333333,
             "#9c179e"
            ],
            [
             0.4444444444444444,
             "#bd3786"
            ],
            [
             0.5555555555555556,
             "#d8576b"
            ],
            [
             0.6666666666666666,
             "#ed7953"
            ],
            [
             0.7777777777777778,
             "#fb9f3a"
            ],
            [
             0.8888888888888888,
             "#fdca26"
            ],
            [
             1,
             "#f0f921"
            ]
           ],
           "sequentialminus": [
            [
             0,
             "#0d0887"
            ],
            [
             0.1111111111111111,
             "#46039f"
            ],
            [
             0.2222222222222222,
             "#7201a8"
            ],
            [
             0.3333333333333333,
             "#9c179e"
            ],
            [
             0.4444444444444444,
             "#bd3786"
            ],
            [
             0.5555555555555556,
             "#d8576b"
            ],
            [
             0.6666666666666666,
             "#ed7953"
            ],
            [
             0.7777777777777778,
             "#fb9f3a"
            ],
            [
             0.8888888888888888,
             "#fdca26"
            ],
            [
             1,
             "#f0f921"
            ]
           ]
          },
          "colorway": [
           "#636efa",
           "#EF553B",
           "#00cc96",
           "#ab63fa",
           "#FFA15A",
           "#19d3f3",
           "#FF6692",
           "#B6E880",
           "#FF97FF",
           "#FECB52"
          ],
          "font": {
           "color": "#2a3f5f"
          },
          "geo": {
           "bgcolor": "white",
           "lakecolor": "white",
           "landcolor": "#E5ECF6",
           "showlakes": true,
           "showland": true,
           "subunitcolor": "white"
          },
          "hoverlabel": {
           "align": "left"
          },
          "hovermode": "closest",
          "mapbox": {
           "style": "light"
          },
          "paper_bgcolor": "white",
          "plot_bgcolor": "#E5ECF6",
          "polar": {
           "angularaxis": {
            "gridcolor": "white",
            "linecolor": "white",
            "ticks": ""
           },
           "bgcolor": "#E5ECF6",
           "radialaxis": {
            "gridcolor": "white",
            "linecolor": "white",
            "ticks": ""
           }
          },
          "scene": {
           "xaxis": {
            "backgroundcolor": "#E5ECF6",
            "gridcolor": "white",
            "gridwidth": 2,
            "linecolor": "white",
            "showbackground": true,
            "ticks": "",
            "zerolinecolor": "white"
           },
           "yaxis": {
            "backgroundcolor": "#E5ECF6",
            "gridcolor": "white",
            "gridwidth": 2,
            "linecolor": "white",
            "showbackground": true,
            "ticks": "",
            "zerolinecolor": "white"
           },
           "zaxis": {
            "backgroundcolor": "#E5ECF6",
            "gridcolor": "white",
            "gridwidth": 2,
            "linecolor": "white",
            "showbackground": true,
            "ticks": "",
            "zerolinecolor": "white"
           }
          },
          "shapedefaults": {
           "line": {
            "color": "#2a3f5f"
           }
          },
          "ternary": {
           "aaxis": {
            "gridcolor": "white",
            "linecolor": "white",
            "ticks": ""
           },
           "baxis": {
            "gridcolor": "white",
            "linecolor": "white",
            "ticks": ""
           },
           "bgcolor": "#E5ECF6",
           "caxis": {
            "gridcolor": "white",
            "linecolor": "white",
            "ticks": ""
           }
          },
          "title": {
           "x": 0.05
          },
          "xaxis": {
           "automargin": true,
           "gridcolor": "white",
           "linecolor": "white",
           "ticks": "",
           "title": {
            "standoff": 15
           },
           "zerolinecolor": "white",
           "zerolinewidth": 2
          },
          "yaxis": {
           "automargin": true,
           "gridcolor": "white",
           "linecolor": "white",
           "ticks": "",
           "title": {
            "standoff": 15
           },
           "zerolinecolor": "white",
           "zerolinewidth": 2
          }
         }
        },
        "title": {
         "text": "Promedio de Precios de los Platos Principales por Municipio"
        },
        "xaxis": {
         "title": {
          "text": "Municipio"
         }
        },
        "yaxis": {
         "title": {
          "text": "Promedio de Precios"
         }
        }
       }
      }
     },
     "metadata": {},
     "output_type": "display_data"
    }
   ],
   "source": [
    "\n",
    "municipios = ['plaza de la revolucion', 'habana vieja', '10 de octubre']\n",
    "\n",
    "precios_municipios = bp.obtener_precios_platos_principales(data2, municipios)\n",
    "\n",
    "promedios_precios = bp.c_media_diccionario(precios_municipios)\n",
    "\n",
    "fig = go.Figure()\n",
    "\n",
    "fig.add_trace(go.Bar(\n",
    "    x=list(promedios_precios.keys()),  \n",
    "    y=list(promedios_precios.values()),  \n",
    "    marker_color='green'\n",
    "))\n",
    "\n",
    "fig.update_layout(\n",
    "    title='Promedio de Precios por Municipio',\n",
    "    xaxis_title='Municipio',\n",
    "    yaxis_title='Promedio de Precios',\n",
    "    bargap=0.2\n",
    ")\n",
    "\n",
    "fig.show()\n"
   ]
  },
  {
   "cell_type": "markdown",
   "metadata": {},
   "source": [
    "Para finalizar quería saber que tan común es en estos días ofertar el servicio de cafetería, algo que se ha vuelto muy común el La Habana, ya que cada vez más, turistas, estudiantes, artistas buscan lugares tranquilos para disfrutar de las vistas, de la musica o simplemente para leer un libro. De los tres municipios analizados casi el 50 % de  los restaurantes ofertan este servicio"
   ]
  },
  {
   "cell_type": "code",
   "execution_count": 30,
   "metadata": {},
   "outputs": [
    {
     "data": {
      "application/vnd.plotly.v1+json": {
       "config": {
        "plotlyServerURL": "https://plot.ly"
       },
       "data": [
        {
         "domain": {
          "x": [
           0,
           1
          ],
          "y": [
           0,
           1
          ]
         },
         "hovertemplate": "label=%{label}<br>value=%{value}<extra></extra>",
         "labels": [
          "Plaza",
          "10 de Octubre",
          "La Habana Vieja"
         ],
         "legendgroup": "",
         "name": "",
         "showlegend": true,
         "type": "pie",
         "values": [
          15,
          14,
          14
         ]
        }
       ],
       "layout": {
        "legend": {
         "tracegroupgap": 0
        },
        "template": {
         "data": {
          "bar": [
           {
            "error_x": {
             "color": "#2a3f5f"
            },
            "error_y": {
             "color": "#2a3f5f"
            },
            "marker": {
             "line": {
              "color": "#E5ECF6",
              "width": 0.5
             },
             "pattern": {
              "fillmode": "overlay",
              "size": 10,
              "solidity": 0.2
             }
            },
            "type": "bar"
           }
          ],
          "barpolar": [
           {
            "marker": {
             "line": {
              "color": "#E5ECF6",
              "width": 0.5
             },
             "pattern": {
              "fillmode": "overlay",
              "size": 10,
              "solidity": 0.2
             }
            },
            "type": "barpolar"
           }
          ],
          "carpet": [
           {
            "aaxis": {
             "endlinecolor": "#2a3f5f",
             "gridcolor": "white",
             "linecolor": "white",
             "minorgridcolor": "white",
             "startlinecolor": "#2a3f5f"
            },
            "baxis": {
             "endlinecolor": "#2a3f5f",
             "gridcolor": "white",
             "linecolor": "white",
             "minorgridcolor": "white",
             "startlinecolor": "#2a3f5f"
            },
            "type": "carpet"
           }
          ],
          "choropleth": [
           {
            "colorbar": {
             "outlinewidth": 0,
             "ticks": ""
            },
            "type": "choropleth"
           }
          ],
          "contour": [
           {
            "colorbar": {
             "outlinewidth": 0,
             "ticks": ""
            },
            "colorscale": [
             [
              0,
              "#0d0887"
             ],
             [
              0.1111111111111111,
              "#46039f"
             ],
             [
              0.2222222222222222,
              "#7201a8"
             ],
             [
              0.3333333333333333,
              "#9c179e"
             ],
             [
              0.4444444444444444,
              "#bd3786"
             ],
             [
              0.5555555555555556,
              "#d8576b"
             ],
             [
              0.6666666666666666,
              "#ed7953"
             ],
             [
              0.7777777777777778,
              "#fb9f3a"
             ],
             [
              0.8888888888888888,
              "#fdca26"
             ],
             [
              1,
              "#f0f921"
             ]
            ],
            "type": "contour"
           }
          ],
          "contourcarpet": [
           {
            "colorbar": {
             "outlinewidth": 0,
             "ticks": ""
            },
            "type": "contourcarpet"
           }
          ],
          "heatmap": [
           {
            "colorbar": {
             "outlinewidth": 0,
             "ticks": ""
            },
            "colorscale": [
             [
              0,
              "#0d0887"
             ],
             [
              0.1111111111111111,
              "#46039f"
             ],
             [
              0.2222222222222222,
              "#7201a8"
             ],
             [
              0.3333333333333333,
              "#9c179e"
             ],
             [
              0.4444444444444444,
              "#bd3786"
             ],
             [
              0.5555555555555556,
              "#d8576b"
             ],
             [
              0.6666666666666666,
              "#ed7953"
             ],
             [
              0.7777777777777778,
              "#fb9f3a"
             ],
             [
              0.8888888888888888,
              "#fdca26"
             ],
             [
              1,
              "#f0f921"
             ]
            ],
            "type": "heatmap"
           }
          ],
          "heatmapgl": [
           {
            "colorbar": {
             "outlinewidth": 0,
             "ticks": ""
            },
            "colorscale": [
             [
              0,
              "#0d0887"
             ],
             [
              0.1111111111111111,
              "#46039f"
             ],
             [
              0.2222222222222222,
              "#7201a8"
             ],
             [
              0.3333333333333333,
              "#9c179e"
             ],
             [
              0.4444444444444444,
              "#bd3786"
             ],
             [
              0.5555555555555556,
              "#d8576b"
             ],
             [
              0.6666666666666666,
              "#ed7953"
             ],
             [
              0.7777777777777778,
              "#fb9f3a"
             ],
             [
              0.8888888888888888,
              "#fdca26"
             ],
             [
              1,
              "#f0f921"
             ]
            ],
            "type": "heatmapgl"
           }
          ],
          "histogram": [
           {
            "marker": {
             "pattern": {
              "fillmode": "overlay",
              "size": 10,
              "solidity": 0.2
             }
            },
            "type": "histogram"
           }
          ],
          "histogram2d": [
           {
            "colorbar": {
             "outlinewidth": 0,
             "ticks": ""
            },
            "colorscale": [
             [
              0,
              "#0d0887"
             ],
             [
              0.1111111111111111,
              "#46039f"
             ],
             [
              0.2222222222222222,
              "#7201a8"
             ],
             [
              0.3333333333333333,
              "#9c179e"
             ],
             [
              0.4444444444444444,
              "#bd3786"
             ],
             [
              0.5555555555555556,
              "#d8576b"
             ],
             [
              0.6666666666666666,
              "#ed7953"
             ],
             [
              0.7777777777777778,
              "#fb9f3a"
             ],
             [
              0.8888888888888888,
              "#fdca26"
             ],
             [
              1,
              "#f0f921"
             ]
            ],
            "type": "histogram2d"
           }
          ],
          "histogram2dcontour": [
           {
            "colorbar": {
             "outlinewidth": 0,
             "ticks": ""
            },
            "colorscale": [
             [
              0,
              "#0d0887"
             ],
             [
              0.1111111111111111,
              "#46039f"
             ],
             [
              0.2222222222222222,
              "#7201a8"
             ],
             [
              0.3333333333333333,
              "#9c179e"
             ],
             [
              0.4444444444444444,
              "#bd3786"
             ],
             [
              0.5555555555555556,
              "#d8576b"
             ],
             [
              0.6666666666666666,
              "#ed7953"
             ],
             [
              0.7777777777777778,
              "#fb9f3a"
             ],
             [
              0.8888888888888888,
              "#fdca26"
             ],
             [
              1,
              "#f0f921"
             ]
            ],
            "type": "histogram2dcontour"
           }
          ],
          "mesh3d": [
           {
            "colorbar": {
             "outlinewidth": 0,
             "ticks": ""
            },
            "type": "mesh3d"
           }
          ],
          "parcoords": [
           {
            "line": {
             "colorbar": {
              "outlinewidth": 0,
              "ticks": ""
             }
            },
            "type": "parcoords"
           }
          ],
          "pie": [
           {
            "automargin": true,
            "type": "pie"
           }
          ],
          "scatter": [
           {
            "fillpattern": {
             "fillmode": "overlay",
             "size": 10,
             "solidity": 0.2
            },
            "type": "scatter"
           }
          ],
          "scatter3d": [
           {
            "line": {
             "colorbar": {
              "outlinewidth": 0,
              "ticks": ""
             }
            },
            "marker": {
             "colorbar": {
              "outlinewidth": 0,
              "ticks": ""
             }
            },
            "type": "scatter3d"
           }
          ],
          "scattercarpet": [
           {
            "marker": {
             "colorbar": {
              "outlinewidth": 0,
              "ticks": ""
             }
            },
            "type": "scattercarpet"
           }
          ],
          "scattergeo": [
           {
            "marker": {
             "colorbar": {
              "outlinewidth": 0,
              "ticks": ""
             }
            },
            "type": "scattergeo"
           }
          ],
          "scattergl": [
           {
            "marker": {
             "colorbar": {
              "outlinewidth": 0,
              "ticks": ""
             }
            },
            "type": "scattergl"
           }
          ],
          "scattermapbox": [
           {
            "marker": {
             "colorbar": {
              "outlinewidth": 0,
              "ticks": ""
             }
            },
            "type": "scattermapbox"
           }
          ],
          "scatterpolar": [
           {
            "marker": {
             "colorbar": {
              "outlinewidth": 0,
              "ticks": ""
             }
            },
            "type": "scatterpolar"
           }
          ],
          "scatterpolargl": [
           {
            "marker": {
             "colorbar": {
              "outlinewidth": 0,
              "ticks": ""
             }
            },
            "type": "scatterpolargl"
           }
          ],
          "scatterternary": [
           {
            "marker": {
             "colorbar": {
              "outlinewidth": 0,
              "ticks": ""
             }
            },
            "type": "scatterternary"
           }
          ],
          "surface": [
           {
            "colorbar": {
             "outlinewidth": 0,
             "ticks": ""
            },
            "colorscale": [
             [
              0,
              "#0d0887"
             ],
             [
              0.1111111111111111,
              "#46039f"
             ],
             [
              0.2222222222222222,
              "#7201a8"
             ],
             [
              0.3333333333333333,
              "#9c179e"
             ],
             [
              0.4444444444444444,
              "#bd3786"
             ],
             [
              0.5555555555555556,
              "#d8576b"
             ],
             [
              0.6666666666666666,
              "#ed7953"
             ],
             [
              0.7777777777777778,
              "#fb9f3a"
             ],
             [
              0.8888888888888888,
              "#fdca26"
             ],
             [
              1,
              "#f0f921"
             ]
            ],
            "type": "surface"
           }
          ],
          "table": [
           {
            "cells": {
             "fill": {
              "color": "#EBF0F8"
             },
             "line": {
              "color": "white"
             }
            },
            "header": {
             "fill": {
              "color": "#C8D4E3"
             },
             "line": {
              "color": "white"
             }
            },
            "type": "table"
           }
          ]
         },
         "layout": {
          "annotationdefaults": {
           "arrowcolor": "#2a3f5f",
           "arrowhead": 0,
           "arrowwidth": 1
          },
          "autotypenumbers": "strict",
          "coloraxis": {
           "colorbar": {
            "outlinewidth": 0,
            "ticks": ""
           }
          },
          "colorscale": {
           "diverging": [
            [
             0,
             "#8e0152"
            ],
            [
             0.1,
             "#c51b7d"
            ],
            [
             0.2,
             "#de77ae"
            ],
            [
             0.3,
             "#f1b6da"
            ],
            [
             0.4,
             "#fde0ef"
            ],
            [
             0.5,
             "#f7f7f7"
            ],
            [
             0.6,
             "#e6f5d0"
            ],
            [
             0.7,
             "#b8e186"
            ],
            [
             0.8,
             "#7fbc41"
            ],
            [
             0.9,
             "#4d9221"
            ],
            [
             1,
             "#276419"
            ]
           ],
           "sequential": [
            [
             0,
             "#0d0887"
            ],
            [
             0.1111111111111111,
             "#46039f"
            ],
            [
             0.2222222222222222,
             "#7201a8"
            ],
            [
             0.3333333333333333,
             "#9c179e"
            ],
            [
             0.4444444444444444,
             "#bd3786"
            ],
            [
             0.5555555555555556,
             "#d8576b"
            ],
            [
             0.6666666666666666,
             "#ed7953"
            ],
            [
             0.7777777777777778,
             "#fb9f3a"
            ],
            [
             0.8888888888888888,
             "#fdca26"
            ],
            [
             1,
             "#f0f921"
            ]
           ],
           "sequentialminus": [
            [
             0,
             "#0d0887"
            ],
            [
             0.1111111111111111,
             "#46039f"
            ],
            [
             0.2222222222222222,
             "#7201a8"
            ],
            [
             0.3333333333333333,
             "#9c179e"
            ],
            [
             0.4444444444444444,
             "#bd3786"
            ],
            [
             0.5555555555555556,
             "#d8576b"
            ],
            [
             0.6666666666666666,
             "#ed7953"
            ],
            [
             0.7777777777777778,
             "#fb9f3a"
            ],
            [
             0.8888888888888888,
             "#fdca26"
            ],
            [
             1,
             "#f0f921"
            ]
           ]
          },
          "colorway": [
           "#636efa",
           "#EF553B",
           "#00cc96",
           "#ab63fa",
           "#FFA15A",
           "#19d3f3",
           "#FF6692",
           "#B6E880",
           "#FF97FF",
           "#FECB52"
          ],
          "font": {
           "color": "#2a3f5f"
          },
          "geo": {
           "bgcolor": "white",
           "lakecolor": "white",
           "landcolor": "#E5ECF6",
           "showlakes": true,
           "showland": true,
           "subunitcolor": "white"
          },
          "hoverlabel": {
           "align": "left"
          },
          "hovermode": "closest",
          "mapbox": {
           "style": "light"
          },
          "paper_bgcolor": "white",
          "plot_bgcolor": "#E5ECF6",
          "polar": {
           "angularaxis": {
            "gridcolor": "white",
            "linecolor": "white",
            "ticks": ""
           },
           "bgcolor": "#E5ECF6",
           "radialaxis": {
            "gridcolor": "white",
            "linecolor": "white",
            "ticks": ""
           }
          },
          "scene": {
           "xaxis": {
            "backgroundcolor": "#E5ECF6",
            "gridcolor": "white",
            "gridwidth": 2,
            "linecolor": "white",
            "showbackground": true,
            "ticks": "",
            "zerolinecolor": "white"
           },
           "yaxis": {
            "backgroundcolor": "#E5ECF6",
            "gridcolor": "white",
            "gridwidth": 2,
            "linecolor": "white",
            "showbackground": true,
            "ticks": "",
            "zerolinecolor": "white"
           },
           "zaxis": {
            "backgroundcolor": "#E5ECF6",
            "gridcolor": "white",
            "gridwidth": 2,
            "linecolor": "white",
            "showbackground": true,
            "ticks": "",
            "zerolinecolor": "white"
           }
          },
          "shapedefaults": {
           "line": {
            "color": "#2a3f5f"
           }
          },
          "ternary": {
           "aaxis": {
            "gridcolor": "white",
            "linecolor": "white",
            "ticks": ""
           },
           "baxis": {
            "gridcolor": "white",
            "linecolor": "white",
            "ticks": ""
           },
           "bgcolor": "#E5ECF6",
           "caxis": {
            "gridcolor": "white",
            "linecolor": "white",
            "ticks": ""
           }
          },
          "title": {
           "x": 0.05
          },
          "xaxis": {
           "automargin": true,
           "gridcolor": "white",
           "linecolor": "white",
           "ticks": "",
           "title": {
            "standoff": 15
           },
           "zerolinecolor": "white",
           "zerolinewidth": 2
          },
          "yaxis": {
           "automargin": true,
           "gridcolor": "white",
           "linecolor": "white",
           "ticks": "",
           "title": {
            "standoff": 15
           },
           "zerolinecolor": "white",
           "zerolinewidth": 2
          }
         }
        },
        "title": {
         "text": "Distribución de Establecimientos"
        }
       }
      }
     },
     "metadata": {},
     "output_type": "display_data"
    }
   ],
   "source": [
    "resultados = bp.contar_establecimientos(data2)\n",
    "\n",
    "fig = px.pie(\n",
    "    values=resultados.values(),\n",
    "    names=resultados.keys(),     \n",
    "    title=\"Distribución de Establecimientos\"\n",
    ")\n",
    "\n",
    "fig.show()\n"
   ]
  },
  {
   "cell_type": "markdown",
   "metadata": {},
   "source": [
    "Necesitariamos agregar nuestra localización a un mapa en línea para facilitarle la úbicacion a todos los interesados y creo que teniendo garantizado todo lo anterior estarían creadas las condiciones básicas para iniciar nuestro negocio y después ir creciendo poco a poco hasta lograr ser uno de los mejores restaurantes de la Ciudad de La Habana\n",
    "\n",
    "-Caridad: Hay mijo cuantos sueños tienes y cuantas cosas hay que analizar para el restaurante, no crees que sea mejor que me pongas un negocito de Shein?\n"
   ]
  },
  {
   "cell_type": "code",
   "execution_count": 31,
   "metadata": {},
   "outputs": [
    {
     "data": {
      "text/html": [
       "<div style=\"width:100%;\"><div style=\"position:relative;width:100%;height:0;padding-bottom:60%;\"><span style=\"color:#565656\">Make this Notebook Trusted to load map: File -> Trust Notebook</span><iframe srcdoc=\"&lt;!DOCTYPE html&gt;\n",
       "&lt;html&gt;\n",
       "&lt;head&gt;\n",
       "    \n",
       "    &lt;meta http-equiv=&quot;content-type&quot; content=&quot;text/html; charset=UTF-8&quot; /&gt;\n",
       "    \n",
       "        &lt;script&gt;\n",
       "            L_NO_TOUCH = false;\n",
       "            L_DISABLE_3D = false;\n",
       "        &lt;/script&gt;\n",
       "    \n",
       "    &lt;style&gt;html, body {width: 100%;height: 100%;margin: 0;padding: 0;}&lt;/style&gt;\n",
       "    &lt;style&gt;#map {position:absolute;top:0;bottom:0;right:0;left:0;}&lt;/style&gt;\n",
       "    &lt;script src=&quot;https://cdn.jsdelivr.net/npm/leaflet@1.9.3/dist/leaflet.js&quot;&gt;&lt;/script&gt;\n",
       "    &lt;script src=&quot;https://code.jquery.com/jquery-3.7.1.min.js&quot;&gt;&lt;/script&gt;\n",
       "    &lt;script src=&quot;https://cdn.jsdelivr.net/npm/bootstrap@5.2.2/dist/js/bootstrap.bundle.min.js&quot;&gt;&lt;/script&gt;\n",
       "    &lt;script src=&quot;https://cdnjs.cloudflare.com/ajax/libs/Leaflet.awesome-markers/2.0.2/leaflet.awesome-markers.js&quot;&gt;&lt;/script&gt;\n",
       "    &lt;link rel=&quot;stylesheet&quot; href=&quot;https://cdn.jsdelivr.net/npm/leaflet@1.9.3/dist/leaflet.css&quot;/&gt;\n",
       "    &lt;link rel=&quot;stylesheet&quot; href=&quot;https://cdn.jsdelivr.net/npm/bootstrap@5.2.2/dist/css/bootstrap.min.css&quot;/&gt;\n",
       "    &lt;link rel=&quot;stylesheet&quot; href=&quot;https://netdna.bootstrapcdn.com/bootstrap/3.0.0/css/bootstrap-glyphicons.css&quot;/&gt;\n",
       "    &lt;link rel=&quot;stylesheet&quot; href=&quot;https://cdn.jsdelivr.net/npm/@fortawesome/fontawesome-free@6.2.0/css/all.min.css&quot;/&gt;\n",
       "    &lt;link rel=&quot;stylesheet&quot; href=&quot;https://cdnjs.cloudflare.com/ajax/libs/Leaflet.awesome-markers/2.0.2/leaflet.awesome-markers.css&quot;/&gt;\n",
       "    &lt;link rel=&quot;stylesheet&quot; href=&quot;https://cdn.jsdelivr.net/gh/python-visualization/folium/folium/templates/leaflet.awesome.rotate.min.css&quot;/&gt;\n",
       "    \n",
       "            &lt;meta name=&quot;viewport&quot; content=&quot;width=device-width,\n",
       "                initial-scale=1.0, maximum-scale=1.0, user-scalable=no&quot; /&gt;\n",
       "            &lt;style&gt;\n",
       "                #map_925613df095e17c33a5b049f8b266fd0 {\n",
       "                    position: relative;\n",
       "                    width: 100.0%;\n",
       "                    height: 100.0%;\n",
       "                    left: 0.0%;\n",
       "                    top: 0.0%;\n",
       "                }\n",
       "                .leaflet-container { font-size: 1rem; }\n",
       "            &lt;/style&gt;\n",
       "        \n",
       "&lt;/head&gt;\n",
       "&lt;body&gt;\n",
       "    \n",
       "    \n",
       "            &lt;div class=&quot;folium-map&quot; id=&quot;map_925613df095e17c33a5b049f8b266fd0&quot; &gt;&lt;/div&gt;\n",
       "        \n",
       "&lt;/body&gt;\n",
       "&lt;script&gt;\n",
       "    \n",
       "    \n",
       "            var map_925613df095e17c33a5b049f8b266fd0 = L.map(\n",
       "                &quot;map_925613df095e17c33a5b049f8b266fd0&quot;,\n",
       "                {\n",
       "                    center: [23.1, -82.4],\n",
       "                    crs: L.CRS.EPSG3857,\n",
       "                    ...{\n",
       "  &quot;zoom&quot;: 11,\n",
       "  &quot;zoomControl&quot;: true,\n",
       "  &quot;preferCanvas&quot;: false,\n",
       "}\n",
       "\n",
       "                }\n",
       "            );\n",
       "\n",
       "            \n",
       "\n",
       "        \n",
       "    \n",
       "            var tile_layer_e18fb25fcda333b3df768edb31bdef26 = L.tileLayer(\n",
       "                &quot;https://tile.openstreetmap.org/{z}/{x}/{y}.png&quot;,\n",
       "                {\n",
       "  &quot;minZoom&quot;: 0,\n",
       "  &quot;maxZoom&quot;: 19,\n",
       "  &quot;maxNativeZoom&quot;: 19,\n",
       "  &quot;noWrap&quot;: false,\n",
       "  &quot;attribution&quot;: &quot;\\u0026copy; \\u003ca href=\\&quot;https://www.openstreetmap.org/copyright\\&quot;\\u003eOpenStreetMap\\u003c/a\\u003e contributors&quot;,\n",
       "  &quot;subdomains&quot;: &quot;abc&quot;,\n",
       "  &quot;detectRetina&quot;: false,\n",
       "  &quot;tms&quot;: false,\n",
       "  &quot;opacity&quot;: 1,\n",
       "}\n",
       "\n",
       "            );\n",
       "        \n",
       "    \n",
       "            tile_layer_e18fb25fcda333b3df768edb31bdef26.addTo(map_925613df095e17c33a5b049f8b266fd0);\n",
       "        \n",
       "    \n",
       "\n",
       "        function geo_json_e55b2ce7f054861133f652e2bf8f2582_onEachFeature(feature, layer) {\n",
       "            layer.on({\n",
       "            });\n",
       "        };\n",
       "        var geo_json_e55b2ce7f054861133f652e2bf8f2582 = L.geoJson(null, {\n",
       "                onEachFeature: geo_json_e55b2ce7f054861133f652e2bf8f2582_onEachFeature,\n",
       "            \n",
       "            ...{\n",
       "}\n",
       "        });\n",
       "\n",
       "        function geo_json_e55b2ce7f054861133f652e2bf8f2582_add (data) {\n",
       "            geo_json_e55b2ce7f054861133f652e2bf8f2582\n",
       "                .addData(data);\n",
       "        }\n",
       "            geo_json_e55b2ce7f054861133f652e2bf8f2582_add({&quot;features&quot;: [{&quot;geometry&quot;: {&quot;coordinates&quot;: [[[-82.5403, 23.0517], [-82.5289, 23.0628], [-82.5239, 23.0735], [-82.509, 23.0829], [-82.5045, 23.0806], [-82.4981, 23.0844], [-82.5026, 23.0865], [-82.4957, 23.0937], [-82.4911, 23.0937], [-82.4894, 23.0897], [-82.4872, 23.0951], [-82.4835, 23.0947], [-82.4781, 23.0901], [-82.4783, 23.0949], [-82.4606, 23.0936], [-82.4609, 23.0976], [-82.4554, 23.0961], [-82.4535, 23.1017], [-82.4346, 23.1193], [-82.4152, 23.1334], [-82.4121, 23.1339], [-82.4119, 23.1305], [-82.4053, 23.1406], [-82.3912, 23.1478], [-82.3696, 23.1424], [-82.3579, 23.1468], [-82.3522, 23.145], [-82.345, 23.1353], [-82.3478, 23.1286], [-82.3577, 23.122], [-82.351, 23.1205], [-82.3448, 23.1266], [-82.3422, 23.1147], [-82.3343, 23.1123], [-82.3406, 23.1243], [-82.3359, 23.1273], [-82.3374, 23.1347], [-82.328, 23.1303], [-82.3281, 23.1382], [-82.3229, 23.1427], [-82.3446, 23.1424], [-82.3563, 23.1516], [-82.3244, 23.1664], [-82.3026, 23.1715], [-82.2944, 23.1688], [-82.2911, 23.1637], [-82.2892, 23.1702], [-82.2772, 23.1754], [-82.2442, 23.1786], [-82.2402, 23.1732], [-82.2393, 23.1783], [-82.228, 23.1806], [-82.214, 23.1785], [-82.2115, 23.1724], [-82.2121, 23.1785], [-82.2045, 23.1806], [-82.1518, 23.172], [-82.1258, 23.1744], [-82.1225, 23.1684], [-82.1161, 23.1715], [-82.1209, 23.1724], [-82.1185, 23.1737], [-82.098, 23.1729], [-82.0929, 23.1761], [-82.0925, 23.168], [-82.1016, 23.1666], [-82.1025, 23.1598], [-82.082, 23.1487], [-82.0799, 23.1245], [-82.0931, 23.1221], [-82.0861, 23.1055], [-82.1016, 23.0931], [-82.1015, 23.0847], [-82.1087, 23.0806], [-82.1058, 23.0767], [-82.1096, 23.0683], [-82.1011, 23.0555], [-82.1148, 23.0547], [-82.1445, 23.0685], [-82.15, 23.075], [-82.1562, 23.0744], [-82.1764, 23.0576], [-82.2231, 23.064], [-82.2256, 23.0165], [-82.1964, 22.9972], [-82.1979, 22.993], [-82.2115, 22.9944], [-82.2167, 22.9997], [-82.2283, 22.9804], [-82.2618, 22.9734], [-82.2475, 22.9564], [-82.2676, 22.9578], [-82.2798, 22.9519], [-82.2976, 22.9541], [-82.3009, 22.9627], [-82.3056, 22.9648], [-82.3132, 22.9649], [-82.3304, 22.9563], [-82.3648, 22.9667], [-82.3775, 22.9657], [-82.3759, 22.9558], [-82.3658, 22.9405], [-82.3868, 22.9337], [-82.4152, 22.9483], [-82.4287, 22.9466], [-82.4336, 22.9403], [-82.4458, 22.9471], [-82.4436, 22.9814], [-82.4482, 22.9851], [-82.4578, 22.9775], [-82.4661, 22.982], [-82.4672, 22.9783], [-82.4843, 22.9729], [-82.498, 22.9947], [-82.5012, 23.0095], [-82.5081, 23.0153], [-82.5066, 23.0211], [-82.4982, 23.0262], [-82.4949, 23.0323], [-82.4973, 23.0392], [-82.4917, 23.0411], [-82.4889, 23.0523], [-82.4921, 23.0736], [-82.4972, 23.0736], [-82.5021, 23.0687], [-82.5108, 23.0703], [-82.5329, 23.0523], [-82.5403, 23.0517]]], &quot;type&quot;: &quot;Polygon&quot;}, &quot;properties&quot;: {&quot;DPA_province_code&quot;: &quot;23&quot;, &quot;country&quot;: &quot;Cuba&quot;, &quot;country_domain&quot;: &quot;cu&quot;, &quot;province&quot;: &quot;La Habana&quot;, &quot;province_id&quot;: &quot;lha&quot;, &quot;region&quot;: &quot;province&quot;}, &quot;type&quot;: &quot;Feature&quot;}], &quot;type&quot;: &quot;FeatureCollection&quot;});\n",
       "        geo_json_e55b2ce7f054861133f652e2bf8f2582.setStyle(function(feature) {return feature.properties.style;});\n",
       "\n",
       "        \n",
       "    \n",
       "            geo_json_e55b2ce7f054861133f652e2bf8f2582.addTo(map_925613df095e17c33a5b049f8b266fd0);\n",
       "        \n",
       "    \n",
       "            var marker_f829f6b53915dbe2d19e9915c4f36763 = L.marker(\n",
       "                [23.127994303036843, -82.33433402886767],\n",
       "                {\n",
       "}\n",
       "            ).addTo(map_925613df095e17c33a5b049f8b266fd0);\n",
       "        \n",
       "    \n",
       "            var icon_6efc46b3b3fd8f56403b4a378d307b34 = L.AwesomeMarkers.icon(\n",
       "                {\n",
       "  &quot;markerColor&quot;: &quot;red&quot;,\n",
       "  &quot;iconColor&quot;: &quot;white&quot;,\n",
       "  &quot;icon&quot;: &quot;cutlery&quot;,\n",
       "  &quot;prefix&quot;: &quot;fa&quot;,\n",
       "  &quot;extraClasses&quot;: &quot;fa-rotate-0&quot;,\n",
       "}\n",
       "            );\n",
       "            marker_f829f6b53915dbe2d19e9915c4f36763.setIcon(icon_6efc46b3b3fd8f56403b4a378d307b34);\n",
       "        \n",
       "    \n",
       "        var popup_2de709d35cff3271f85672fb688cc53a = L.popup({\n",
       "  &quot;maxWidth&quot;: &quot;100%&quot;,\n",
       "});\n",
       "\n",
       "        \n",
       "            \n",
       "                var html_f27c7f6ac1f0a25783286c6cd022a24b = $(`&lt;div id=&quot;html_f27c7f6ac1f0a25783286c6cd022a24b&quot; style=&quot;width: 100.0%; height: 100.0%;&quot;&gt;(&quot;&lt;b style=&#x27;font-size: 18px; &#x27;&gt;@2KFE&lt;/b&gt;&lt;br&gt;Direccion:  entre Martí y Maceo, Pereira&quot;, &quot;Especialidades: [&#x27;Internacional&#x27;, &#x27;Criolla&#x27;]&quot;)&lt;/div&gt;`)[0];\n",
       "                popup_2de709d35cff3271f85672fb688cc53a.setContent(html_f27c7f6ac1f0a25783286c6cd022a24b);\n",
       "            \n",
       "        \n",
       "\n",
       "        marker_f829f6b53915dbe2d19e9915c4f36763.bindPopup(popup_2de709d35cff3271f85672fb688cc53a)\n",
       "        ;\n",
       "\n",
       "        \n",
       "    \n",
       "    \n",
       "            var marker_000df507ff55e3a960cf3191ec27cfff = L.marker(\n",
       "                [23.123441938216946, -82.32315460160667],\n",
       "                {\n",
       "}\n",
       "            ).addTo(map_925613df095e17c33a5b049f8b266fd0);\n",
       "        \n",
       "    \n",
       "            var icon_4b4773c46c806be24cf236e75cf36f68 = L.AwesomeMarkers.icon(\n",
       "                {\n",
       "  &quot;markerColor&quot;: &quot;red&quot;,\n",
       "  &quot;iconColor&quot;: &quot;white&quot;,\n",
       "  &quot;icon&quot;: &quot;cutlery&quot;,\n",
       "  &quot;prefix&quot;: &quot;fa&quot;,\n",
       "  &quot;extraClasses&quot;: &quot;fa-rotate-0&quot;,\n",
       "}\n",
       "            );\n",
       "            marker_000df507ff55e3a960cf3191ec27cfff.setIcon(icon_4b4773c46c806be24cf236e75cf36f68);\n",
       "        \n",
       "    \n",
       "        var popup_b128d35102f702b27518dbf9ec45d9d7 = L.popup({\n",
       "  &quot;maxWidth&quot;: &quot;100%&quot;,\n",
       "});\n",
       "\n",
       "        \n",
       "            \n",
       "                var html_e4fd6196b39e2569b2a1b950960c234a = $(`&lt;div id=&quot;html_e4fd6196b39e2569b2a1b950960c234a&quot; style=&quot;width: 100.0%; height: 100.0%;&quot;&gt;(&quot;&lt;b style=&#x27;font-size: 18px; &#x27;&gt;5ta Billar&lt;/b&gt;&lt;br&gt;Direccion: Av. Rotoria entre enlace y A&quot;, &quot;Especialidades: [&#x27;Internacional&#x27;]&quot;)&lt;/div&gt;`)[0];\n",
       "                popup_b128d35102f702b27518dbf9ec45d9d7.setContent(html_e4fd6196b39e2569b2a1b950960c234a);\n",
       "            \n",
       "        \n",
       "\n",
       "        marker_000df507ff55e3a960cf3191ec27cfff.bindPopup(popup_b128d35102f702b27518dbf9ec45d9d7)\n",
       "        ;\n",
       "\n",
       "        \n",
       "    \n",
       "    \n",
       "            var marker_b8bea9a3133abdbc1888f58d5f2c533c = L.marker(\n",
       "                [23.088058099587446, -82.42179558984083],\n",
       "                {\n",
       "}\n",
       "            ).addTo(map_925613df095e17c33a5b049f8b266fd0);\n",
       "        \n",
       "    \n",
       "            var icon_8dce9881e20cf80cb3b81a883ff935e7 = L.AwesomeMarkers.icon(\n",
       "                {\n",
       "  &quot;markerColor&quot;: &quot;red&quot;,\n",
       "  &quot;iconColor&quot;: &quot;white&quot;,\n",
       "  &quot;icon&quot;: &quot;cutlery&quot;,\n",
       "  &quot;prefix&quot;: &quot;fa&quot;,\n",
       "  &quot;extraClasses&quot;: &quot;fa-rotate-0&quot;,\n",
       "}\n",
       "            );\n",
       "            marker_b8bea9a3133abdbc1888f58d5f2c533c.setIcon(icon_8dce9881e20cf80cb3b81a883ff935e7);\n",
       "        \n",
       "    \n",
       "        var popup_d33a948dcffc4b299011c2ece313b89e = L.popup({\n",
       "  &quot;maxWidth&quot;: &quot;100%&quot;,\n",
       "});\n",
       "\n",
       "        \n",
       "            \n",
       "                var html_2435bb58009be900fd730ca715f5722c = $(`&lt;div id=&quot;html_2435bb58009be900fd730ca715f5722c&quot; style=&quot;width: 100.0%; height: 100.0%;&quot;&gt;(&quot;&lt;b style=&#x27;font-size: 18px; &#x27;&gt;700º&lt;/b&gt;&lt;br&gt;Direccion: avenida 41 esquina 86&quot;, &quot;Especialidades: [&#x27;Comida Mixta&#x27;]&quot;)&lt;/div&gt;`)[0];\n",
       "                popup_d33a948dcffc4b299011c2ece313b89e.setContent(html_2435bb58009be900fd730ca715f5722c);\n",
       "            \n",
       "        \n",
       "\n",
       "        marker_b8bea9a3133abdbc1888f58d5f2c533c.bindPopup(popup_d33a948dcffc4b299011c2ece313b89e)\n",
       "        ;\n",
       "\n",
       "        \n",
       "    \n",
       "    \n",
       "            var marker_fee876b744fade4540ec697d714b3dd6 = L.marker(\n",
       "                [23.05774000743355, -82.38292623217035],\n",
       "                {\n",
       "}\n",
       "            ).addTo(map_925613df095e17c33a5b049f8b266fd0);\n",
       "        \n",
       "    \n",
       "            var icon_8e695a21d05598f8d0d98fcefd6934d2 = L.AwesomeMarkers.icon(\n",
       "                {\n",
       "  &quot;markerColor&quot;: &quot;red&quot;,\n",
       "  &quot;iconColor&quot;: &quot;white&quot;,\n",
       "  &quot;icon&quot;: &quot;cutlery&quot;,\n",
       "  &quot;prefix&quot;: &quot;fa&quot;,\n",
       "  &quot;extraClasses&quot;: &quot;fa-rotate-0&quot;,\n",
       "}\n",
       "            );\n",
       "            marker_fee876b744fade4540ec697d714b3dd6.setIcon(icon_8e695a21d05598f8d0d98fcefd6934d2);\n",
       "        \n",
       "    \n",
       "        var popup_376737b28d04a4e10a426dda0438710e = L.popup({\n",
       "  &quot;maxWidth&quot;: &quot;100%&quot;,\n",
       "});\n",
       "\n",
       "        \n",
       "            \n",
       "                var html_1f2e6159dd23d613d773e5c6116c6e9b = $(`&lt;div id=&quot;html_1f2e6159dd23d613d773e5c6116c6e9b&quot; style=&quot;width: 100.0%; height: 100.0%;&quot;&gt;(&quot;&lt;b style=&#x27;font-size: 18px; &#x27;&gt;Abuelo D&#x27;Oro&lt;/b&gt;&lt;br&gt;Direccion: Calzada Aldabo % 12 y 13, Aldabo&quot;, &quot;Especialidades: [&#x27;Cubana&#x27;, &#x27;Internacional&#x27;, &#x27;Italiana&#x27;]&quot;)&lt;/div&gt;`)[0];\n",
       "                popup_376737b28d04a4e10a426dda0438710e.setContent(html_1f2e6159dd23d613d773e5c6116c6e9b);\n",
       "            \n",
       "        \n",
       "\n",
       "        marker_fee876b744fade4540ec697d714b3dd6.bindPopup(popup_376737b28d04a4e10a426dda0438710e)\n",
       "        ;\n",
       "\n",
       "        \n",
       "    \n",
       "    \n",
       "            var marker_e316b63c7ff31f87b0a1a381dad0c2dc = L.marker(\n",
       "                [23.161955819683246, -82.29436375935097],\n",
       "                {\n",
       "}\n",
       "            ).addTo(map_925613df095e17c33a5b049f8b266fd0);\n",
       "        \n",
       "    \n",
       "            var icon_275ef38f70112a52d88ac5aaaba2e641 = L.AwesomeMarkers.icon(\n",
       "                {\n",
       "  &quot;markerColor&quot;: &quot;red&quot;,\n",
       "  &quot;iconColor&quot;: &quot;white&quot;,\n",
       "  &quot;icon&quot;: &quot;cutlery&quot;,\n",
       "  &quot;prefix&quot;: &quot;fa&quot;,\n",
       "  &quot;extraClasses&quot;: &quot;fa-rotate-0&quot;,\n",
       "}\n",
       "            );\n",
       "            marker_e316b63c7ff31f87b0a1a381dad0c2dc.setIcon(icon_275ef38f70112a52d88ac5aaaba2e641);\n",
       "        \n",
       "    \n",
       "        var popup_ded79cf73cf7ce71db5c127b9ca58fa5 = L.popup({\n",
       "  &quot;maxWidth&quot;: &quot;100%&quot;,\n",
       "});\n",
       "\n",
       "        \n",
       "            \n",
       "                var html_b16afef19f21134a5d0f1604a4cf6886 = $(`&lt;div id=&quot;html_b16afef19f21134a5d0f1604a4cf6886&quot; style=&quot;width: 100.0%; height: 100.0%;&quot;&gt;(&quot;&lt;b style=&#x27;font-size: 18px; &#x27;&gt;Aires de Cojimar&lt;/b&gt;&lt;br&gt;Direccion: Pezuela #3e05 entre RUA y Espartero, Cojimar&quot;, &quot;Especialidades: [&#x27;Comida mixta&#x27;]&quot;)&lt;/div&gt;`)[0];\n",
       "                popup_ded79cf73cf7ce71db5c127b9ca58fa5.setContent(html_b16afef19f21134a5d0f1604a4cf6886);\n",
       "            \n",
       "        \n",
       "\n",
       "        marker_e316b63c7ff31f87b0a1a381dad0c2dc.bindPopup(popup_ded79cf73cf7ce71db5c127b9ca58fa5)\n",
       "        ;\n",
       "\n",
       "        \n",
       "    \n",
       "    \n",
       "            var marker_4e4d13c1b08995c281a8b8d49a517a85 = L.marker(\n",
       "                [23.164158289847958, -82.3080389633564],\n",
       "                {\n",
       "}\n",
       "            ).addTo(map_925613df095e17c33a5b049f8b266fd0);\n",
       "        \n",
       "    \n",
       "            var icon_1b89444f8a806a4decc5deed7dd6b999 = L.AwesomeMarkers.icon(\n",
       "                {\n",
       "  &quot;markerColor&quot;: &quot;red&quot;,\n",
       "  &quot;iconColor&quot;: &quot;white&quot;,\n",
       "  &quot;icon&quot;: &quot;cutlery&quot;,\n",
       "  &quot;prefix&quot;: &quot;fa&quot;,\n",
       "  &quot;extraClasses&quot;: &quot;fa-rotate-0&quot;,\n",
       "}\n",
       "            );\n",
       "            marker_4e4d13c1b08995c281a8b8d49a517a85.setIcon(icon_1b89444f8a806a4decc5deed7dd6b999);\n",
       "        \n",
       "    \n",
       "        var popup_e9b452c3ad7a00283851de519da736e4 = L.popup({\n",
       "  &quot;maxWidth&quot;: &quot;100%&quot;,\n",
       "});\n",
       "\n",
       "        \n",
       "            \n",
       "                var html_b116c907a72fc63a1b2e21119ff6231e = $(`&lt;div id=&quot;html_b116c907a72fc63a1b2e21119ff6231e&quot; style=&quot;width: 100.0%; height: 100.0%;&quot;&gt;(&quot;&lt;b style=&#x27;font-size: 18px; &#x27;&gt;Allegro&lt;/b&gt;&lt;br&gt;Direccion: Paseo de la Villa, Villa Panamericana&quot;, &quot;Especialidades: [&#x27;Comida italiana&#x27;]&quot;)&lt;/div&gt;`)[0];\n",
       "                popup_e9b452c3ad7a00283851de519da736e4.setContent(html_b116c907a72fc63a1b2e21119ff6231e);\n",
       "            \n",
       "        \n",
       "\n",
       "        marker_4e4d13c1b08995c281a8b8d49a517a85.bindPopup(popup_e9b452c3ad7a00283851de519da736e4)\n",
       "        ;\n",
       "\n",
       "        \n",
       "    \n",
       "    \n",
       "            var marker_b8c65aa7b2da87cbf4895f79ac3f116e = L.marker(\n",
       "                [23.155233076567885, -82.27082914585701],\n",
       "                {\n",
       "}\n",
       "            ).addTo(map_925613df095e17c33a5b049f8b266fd0);\n",
       "        \n",
       "    \n",
       "            var icon_7c58410c7839490b5d9c1f750be4d3df = L.AwesomeMarkers.icon(\n",
       "                {\n",
       "  &quot;markerColor&quot;: &quot;red&quot;,\n",
       "  &quot;iconColor&quot;: &quot;white&quot;,\n",
       "  &quot;icon&quot;: &quot;cutlery&quot;,\n",
       "  &quot;prefix&quot;: &quot;fa&quot;,\n",
       "  &quot;extraClasses&quot;: &quot;fa-rotate-0&quot;,\n",
       "}\n",
       "            );\n",
       "            marker_b8c65aa7b2da87cbf4895f79ac3f116e.setIcon(icon_7c58410c7839490b5d9c1f750be4d3df);\n",
       "        \n",
       "    \n",
       "        var popup_94b2996d76323013fc299b2a9bd47dc6 = L.popup({\n",
       "  &quot;maxWidth&quot;: &quot;100%&quot;,\n",
       "});\n",
       "\n",
       "        \n",
       "            \n",
       "                var html_533ad03d5096be92104bf6c26bd01e08 = $(`&lt;div id=&quot;html_533ad03d5096be92104bf6c26bd01e08&quot; style=&quot;width: 100.0%; height: 100.0%;&quot;&gt;(&quot;&lt;b style=&#x27;font-size: 18px; &#x27;&gt;Al Campestre&lt;/b&gt;&lt;br&gt;Direccion: El Intermitente, Via  Blanca, Alamar&quot;, &quot;Especialidades: [&#x27;Comida mixta&#x27;]&quot;)&lt;/div&gt;`)[0];\n",
       "                popup_94b2996d76323013fc299b2a9bd47dc6.setContent(html_533ad03d5096be92104bf6c26bd01e08);\n",
       "            \n",
       "        \n",
       "\n",
       "        marker_b8c65aa7b2da87cbf4895f79ac3f116e.bindPopup(popup_94b2996d76323013fc299b2a9bd47dc6)\n",
       "        ;\n",
       "\n",
       "        \n",
       "    \n",
       "    \n",
       "            var marker_ec74633918d2ced454ace014674cad61 = L.marker(\n",
       "                [23.098029367090493, -82.26549627264866],\n",
       "                {\n",
       "}\n",
       "            ).addTo(map_925613df095e17c33a5b049f8b266fd0);\n",
       "        \n",
       "    \n",
       "            var icon_f3a65efefa860107329b73f9cf773b0e = L.AwesomeMarkers.icon(\n",
       "                {\n",
       "  &quot;markerColor&quot;: &quot;red&quot;,\n",
       "  &quot;iconColor&quot;: &quot;white&quot;,\n",
       "  &quot;icon&quot;: &quot;cutlery&quot;,\n",
       "  &quot;prefix&quot;: &quot;fa&quot;,\n",
       "  &quot;extraClasses&quot;: &quot;fa-rotate-0&quot;,\n",
       "}\n",
       "            );\n",
       "            marker_ec74633918d2ced454ace014674cad61.setIcon(icon_f3a65efefa860107329b73f9cf773b0e);\n",
       "        \n",
       "    \n",
       "        var popup_cc3da8cabcf1415b2a1a367964ad60d9 = L.popup({\n",
       "  &quot;maxWidth&quot;: &quot;100%&quot;,\n",
       "});\n",
       "\n",
       "        \n",
       "            \n",
       "                var html_36fa2d37b7cbb1388ccb67eaab9302f8 = $(`&lt;div id=&quot;html_36fa2d37b7cbb1388ccb67eaab9302f8&quot; style=&quot;width: 100.0%; height: 100.0%;&quot;&gt;(&quot;&lt;b style=&#x27;font-size: 18px; &#x27;&gt;Anillo Habanero&lt;/b&gt;&lt;br&gt;Direccion: Primer Anillo de La Habana&quot;, &quot;Especialidades: [&#x27;criolla&#x27;, &#x27;pizzas&#x27;, &#x27;cócteles&#x27;, &#x27;pastas&#x27;]&quot;)&lt;/div&gt;`)[0];\n",
       "                popup_cc3da8cabcf1415b2a1a367964ad60d9.setContent(html_36fa2d37b7cbb1388ccb67eaab9302f8);\n",
       "            \n",
       "        \n",
       "\n",
       "        marker_ec74633918d2ced454ace014674cad61.bindPopup(popup_cc3da8cabcf1415b2a1a367964ad60d9)\n",
       "        ;\n",
       "\n",
       "        \n",
       "    \n",
       "    \n",
       "            var marker_ef1be2b8a3a93aec73cf8926914f6479 = L.marker(\n",
       "                [23.141692369054233, -82.35521570333256],\n",
       "                {\n",
       "}\n",
       "            ).addTo(map_925613df095e17c33a5b049f8b266fd0);\n",
       "        \n",
       "    \n",
       "            var icon_222f9d67f806c4a66ce5ff7905bf2497 = L.AwesomeMarkers.icon(\n",
       "                {\n",
       "  &quot;markerColor&quot;: &quot;red&quot;,\n",
       "  &quot;iconColor&quot;: &quot;white&quot;,\n",
       "  &quot;icon&quot;: &quot;cutlery&quot;,\n",
       "  &quot;prefix&quot;: &quot;fa&quot;,\n",
       "  &quot;extraClasses&quot;: &quot;fa-rotate-0&quot;,\n",
       "}\n",
       "            );\n",
       "            marker_ef1be2b8a3a93aec73cf8926914f6479.setIcon(icon_222f9d67f806c4a66ce5ff7905bf2497);\n",
       "        \n",
       "    \n",
       "        var popup_d0ef29de19e1b81298a49b04753a4d42 = L.popup({\n",
       "  &quot;maxWidth&quot;: &quot;100%&quot;,\n",
       "});\n",
       "\n",
       "        \n",
       "            \n",
       "                var html_9246b0761e17290ec7a9fb550415fbdd = $(`&lt;div id=&quot;html_9246b0761e17290ec7a9fb550415fbdd&quot; style=&quot;width: 100.0%; height: 100.0%;&quot;&gt;(&quot;&lt;b style=&#x27;font-size: 18px; &#x27;&gt;Antojos&lt;/b&gt;&lt;br&gt;Direccion: Callejón Espada entre Cuarteles y Chacon&quot;, &quot;Especialidades: [&#x27;Caribeña, Latina, Cubana, Centroamericana&#x27;]&quot;)&lt;/div&gt;`)[0];\n",
       "                popup_d0ef29de19e1b81298a49b04753a4d42.setContent(html_9246b0761e17290ec7a9fb550415fbdd);\n",
       "            \n",
       "        \n",
       "\n",
       "        marker_ef1be2b8a3a93aec73cf8926914f6479.bindPopup(popup_d0ef29de19e1b81298a49b04753a4d42)\n",
       "        ;\n",
       "\n",
       "        \n",
       "    \n",
       "    \n",
       "            var marker_fb1be4259cf9cf6723443ab46e1eba81 = L.marker(\n",
       "                [23.128711947642273, -82.39676637467788],\n",
       "                {\n",
       "}\n",
       "            ).addTo(map_925613df095e17c33a5b049f8b266fd0);\n",
       "        \n",
       "    \n",
       "            var icon_020f725451f8280269311e583a7f9ec5 = L.AwesomeMarkers.icon(\n",
       "                {\n",
       "  &quot;markerColor&quot;: &quot;red&quot;,\n",
       "  &quot;iconColor&quot;: &quot;white&quot;,\n",
       "  &quot;icon&quot;: &quot;cutlery&quot;,\n",
       "  &quot;prefix&quot;: &quot;fa&quot;,\n",
       "  &quot;extraClasses&quot;: &quot;fa-rotate-0&quot;,\n",
       "}\n",
       "            );\n",
       "            marker_fb1be4259cf9cf6723443ab46e1eba81.setIcon(icon_020f725451f8280269311e583a7f9ec5);\n",
       "        \n",
       "    \n",
       "        var popup_ae17d5c930686f0aea7f1de8a735049e = L.popup({\n",
       "  &quot;maxWidth&quot;: &quot;100%&quot;,\n",
       "});\n",
       "\n",
       "        \n",
       "            \n",
       "                var html_a32a4eca3c1d911ad49c2cff8d16d958 = $(`&lt;div id=&quot;html_a32a4eca3c1d911ad49c2cff8d16d958&quot; style=&quot;width: 100.0%; height: 100.0%;&quot;&gt;(&quot;&lt;b style=&#x27;font-size: 18px; &#x27;&gt;Asia Cuba&lt;/b&gt;&lt;br&gt;Direccion:  Calle 6 ##562 entre 23 y 25, Vedado&quot;, &quot;Especialidades: [&#x27;Comida asiática&#x27;]&quot;)&lt;/div&gt;`)[0];\n",
       "                popup_ae17d5c930686f0aea7f1de8a735049e.setContent(html_a32a4eca3c1d911ad49c2cff8d16d958);\n",
       "            \n",
       "        \n",
       "\n",
       "        marker_fb1be4259cf9cf6723443ab46e1eba81.bindPopup(popup_ae17d5c930686f0aea7f1de8a735049e)\n",
       "        ;\n",
       "\n",
       "        \n",
       "    \n",
       "    \n",
       "            var marker_f02ab794fa50180701fd33c390d0161e = L.marker(\n",
       "                [23.075224743679176, -82.35820577444514],\n",
       "                {\n",
       "}\n",
       "            ).addTo(map_925613df095e17c33a5b049f8b266fd0);\n",
       "        \n",
       "    \n",
       "            var icon_9732f62aa7b9b0f47d0463fcb9a89b58 = L.AwesomeMarkers.icon(\n",
       "                {\n",
       "  &quot;markerColor&quot;: &quot;red&quot;,\n",
       "  &quot;iconColor&quot;: &quot;white&quot;,\n",
       "  &quot;icon&quot;: &quot;cutlery&quot;,\n",
       "  &quot;prefix&quot;: &quot;fa&quot;,\n",
       "  &quot;extraClasses&quot;: &quot;fa-rotate-0&quot;,\n",
       "}\n",
       "            );\n",
       "            marker_f02ab794fa50180701fd33c390d0161e.setIcon(icon_9732f62aa7b9b0f47d0463fcb9a89b58);\n",
       "        \n",
       "    \n",
       "        var popup_535d6684d2abe19b93c65b36f6b94250 = L.popup({\n",
       "  &quot;maxWidth&quot;: &quot;100%&quot;,\n",
       "});\n",
       "\n",
       "        \n",
       "            \n",
       "                var html_42c474ed39911d460a4d98c8a6aa80cc = $(`&lt;div id=&quot;html_42c474ed39911d460a4d98c8a6aa80cc&quot; style=&quot;width: 100.0%; height: 100.0%;&quot;&gt;(&quot;&lt;b style=&#x27;font-size: 18px; &#x27;&gt;Atlanta&lt;/b&gt;&lt;br&gt;Direccion: Atlanta #9, entre Calzada de Porvenir y Calzada de 10 de octubre, La Palma&quot;, &quot;Especialidades: [&#x27;cubana&#x27;, &#x27;variada&#x27;]&quot;)&lt;/div&gt;`)[0];\n",
       "                popup_535d6684d2abe19b93c65b36f6b94250.setContent(html_42c474ed39911d460a4d98c8a6aa80cc);\n",
       "            \n",
       "        \n",
       "\n",
       "        marker_f02ab794fa50180701fd33c390d0161e.bindPopup(popup_535d6684d2abe19b93c65b36f6b94250)\n",
       "        ;\n",
       "\n",
       "        \n",
       "    \n",
       "    \n",
       "            var marker_60b123c3e53e347323e52fe6693e9024 = L.marker(\n",
       "                [23.088464573775177, -82.36604223216956],\n",
       "                {\n",
       "}\n",
       "            ).addTo(map_925613df095e17c33a5b049f8b266fd0);\n",
       "        \n",
       "    \n",
       "            var icon_3939ba3e29deff972ff84f666f5fec3b = L.AwesomeMarkers.icon(\n",
       "                {\n",
       "  &quot;markerColor&quot;: &quot;red&quot;,\n",
       "  &quot;iconColor&quot;: &quot;white&quot;,\n",
       "  &quot;icon&quot;: &quot;cutlery&quot;,\n",
       "  &quot;prefix&quot;: &quot;fa&quot;,\n",
       "  &quot;extraClasses&quot;: &quot;fa-rotate-0&quot;,\n",
       "}\n",
       "            );\n",
       "            marker_60b123c3e53e347323e52fe6693e9024.setIcon(icon_3939ba3e29deff972ff84f666f5fec3b);\n",
       "        \n",
       "    \n",
       "        var popup_648242ed6e6e8c9c58183af11c40eef5 = L.popup({\n",
       "  &quot;maxWidth&quot;: &quot;100%&quot;,\n",
       "});\n",
       "\n",
       "        \n",
       "            \n",
       "                var html_b8de1fb7e2c120244cd671be06880f42 = $(`&lt;div id=&quot;html_b8de1fb7e2c120244cd671be06880f42&quot; style=&quot;width: 100.0%; height: 100.0%;&quot;&gt;(&quot;&lt;b style=&#x27;font-size: 18px; &#x27;&gt;Atraccion&lt;/b&gt;&lt;br&gt;Direccion: Calzada de Diez de Octubre % Acosta y O&#x27;Farril&quot;, &quot;Especialidades: [&#x27;internacional&#x27;, &#x27;cubana&#x27;]&quot;)&lt;/div&gt;`)[0];\n",
       "                popup_648242ed6e6e8c9c58183af11c40eef5.setContent(html_b8de1fb7e2c120244cd671be06880f42);\n",
       "            \n",
       "        \n",
       "\n",
       "        marker_60b123c3e53e347323e52fe6693e9024.bindPopup(popup_648242ed6e6e8c9c58183af11c40eef5)\n",
       "        ;\n",
       "\n",
       "        \n",
       "    \n",
       "    \n",
       "            var marker_8a447c46638b9b97007294f7d1f52cf5 = L.marker(\n",
       "                [23.10839233920283, -82.36557643771737],\n",
       "                {\n",
       "}\n",
       "            ).addTo(map_925613df095e17c33a5b049f8b266fd0);\n",
       "        \n",
       "    \n",
       "            var icon_b62b1a6fe436ccec6f53395318551d3a = L.AwesomeMarkers.icon(\n",
       "                {\n",
       "  &quot;markerColor&quot;: &quot;red&quot;,\n",
       "  &quot;iconColor&quot;: &quot;white&quot;,\n",
       "  &quot;icon&quot;: &quot;cutlery&quot;,\n",
       "  &quot;prefix&quot;: &quot;fa&quot;,\n",
       "  &quot;extraClasses&quot;: &quot;fa-rotate-0&quot;,\n",
       "}\n",
       "            );\n",
       "            marker_8a447c46638b9b97007294f7d1f52cf5.setIcon(icon_b62b1a6fe436ccec6f53395318551d3a);\n",
       "        \n",
       "    \n",
       "        var popup_69cd1b9ead34916425c9347c18d3ed58 = L.popup({\n",
       "  &quot;maxWidth&quot;: &quot;100%&quot;,\n",
       "});\n",
       "\n",
       "        \n",
       "            \n",
       "                var html_fa63dbdf11dd11e22444a197bbe87f47 = $(`&lt;div id=&quot;html_fa63dbdf11dd11e22444a197bbe87f47&quot; style=&quot;width: 100.0%; height: 100.0%;&quot;&gt;(&quot;&lt;b style=&#x27;font-size: 18px; &#x27;&gt;Bar Pacto Secreto&lt;/b&gt;&lt;br&gt;Direccion: Calzada de 10 de Octubre #417 entre Calzada de Luyano y San Nicolas&quot;, &quot;Especialidades: [&#x27;cubana&#x27;, &#x27;comida rapida&#x27;]&quot;)&lt;/div&gt;`)[0];\n",
       "                popup_69cd1b9ead34916425c9347c18d3ed58.setContent(html_fa63dbdf11dd11e22444a197bbe87f47);\n",
       "            \n",
       "        \n",
       "\n",
       "        marker_8a447c46638b9b97007294f7d1f52cf5.bindPopup(popup_69cd1b9ead34916425c9347c18d3ed58)\n",
       "        ;\n",
       "\n",
       "        \n",
       "    \n",
       "    \n",
       "            var marker_46cfba1bead2d15355333b540139ff28 = L.marker(\n",
       "                [23.09621726454522, -82.37460170946824],\n",
       "                {\n",
       "}\n",
       "            ).addTo(map_925613df095e17c33a5b049f8b266fd0);\n",
       "        \n",
       "    \n",
       "            var icon_3c15db5fa1ed946040015d195d20cebd = L.AwesomeMarkers.icon(\n",
       "                {\n",
       "  &quot;markerColor&quot;: &quot;red&quot;,\n",
       "  &quot;iconColor&quot;: &quot;white&quot;,\n",
       "  &quot;icon&quot;: &quot;cutlery&quot;,\n",
       "  &quot;prefix&quot;: &quot;fa&quot;,\n",
       "  &quot;extraClasses&quot;: &quot;fa-rotate-0&quot;,\n",
       "}\n",
       "            );\n",
       "            marker_46cfba1bead2d15355333b540139ff28.setIcon(icon_3c15db5fa1ed946040015d195d20cebd);\n",
       "        \n",
       "    \n",
       "        var popup_4954eabdb5e74ca2da638f3e3d9b6dd4 = L.popup({\n",
       "  &quot;maxWidth&quot;: &quot;100%&quot;,\n",
       "});\n",
       "\n",
       "        \n",
       "            \n",
       "                var html_2b74cb1d30073abace00be11c9da0559 = $(`&lt;div id=&quot;html_2b74cb1d30073abace00be11c9da0559&quot; style=&quot;width: 100.0%; height: 100.0%;&quot;&gt;(&quot;&lt;b style=&#x27;font-size: 18px; &#x27;&gt;Bar Secret Garden&lt;/b&gt;&lt;br&gt;Direccion: Boutique VOYA Habana, #255, Calle Juan Delgado entre Santa Catalina y Milagros, Santos Suarez&quot;, &quot;Especialidades: [&#x27;Cocina mixta&#x27;]&quot;)&lt;/div&gt;`)[0];\n",
       "                popup_4954eabdb5e74ca2da638f3e3d9b6dd4.setContent(html_2b74cb1d30073abace00be11c9da0559);\n",
       "            \n",
       "        \n",
       "\n",
       "        marker_46cfba1bead2d15355333b540139ff28.bindPopup(popup_4954eabdb5e74ca2da638f3e3d9b6dd4)\n",
       "        ;\n",
       "\n",
       "        \n",
       "    \n",
       "    \n",
       "            var marker_1e7971ed605e87ae9931d08c7dbb967b = L.marker(\n",
       "                [23.08127313197817, -82.32409134565678],\n",
       "                {\n",
       "}\n",
       "            ).addTo(map_925613df095e17c33a5b049f8b266fd0);\n",
       "        \n",
       "    \n",
       "            var icon_365bcf57a85f31a3dc9129013836a401 = L.AwesomeMarkers.icon(\n",
       "                {\n",
       "  &quot;markerColor&quot;: &quot;red&quot;,\n",
       "  &quot;iconColor&quot;: &quot;white&quot;,\n",
       "  &quot;icon&quot;: &quot;cutlery&quot;,\n",
       "  &quot;prefix&quot;: &quot;fa&quot;,\n",
       "  &quot;extraClasses&quot;: &quot;fa-rotate-0&quot;,\n",
       "}\n",
       "            );\n",
       "            marker_1e7971ed605e87ae9931d08c7dbb967b.setIcon(icon_365bcf57a85f31a3dc9129013836a401);\n",
       "        \n",
       "    \n",
       "        var popup_3f14cd0f3d9eb613fa16f91d13a139d4 = L.popup({\n",
       "  &quot;maxWidth&quot;: &quot;100%&quot;,\n",
       "});\n",
       "\n",
       "        \n",
       "            \n",
       "                var html_1ad79443993f70dc8169029203f7951d = $(`&lt;div id=&quot;html_1ad79443993f70dc8169029203f7951d&quot; style=&quot;width: 100.0%; height: 100.0%;&quot;&gt;(&quot;&lt;b style=&#x27;font-size: 18px; &#x27;&gt;Bar Colina&lt;/b&gt;&lt;br&gt;Direccion: esquina b y calzada de guines reparto merceditas&quot;, &quot;Especialidades: [&#x27;italiana&#x27;]&quot;)&lt;/div&gt;`)[0];\n",
       "                popup_3f14cd0f3d9eb613fa16f91d13a139d4.setContent(html_1ad79443993f70dc8169029203f7951d);\n",
       "            \n",
       "        \n",
       "\n",
       "        marker_1e7971ed605e87ae9931d08c7dbb967b.bindPopup(popup_3f14cd0f3d9eb613fa16f91d13a139d4)\n",
       "        ;\n",
       "\n",
       "        \n",
       "    \n",
       "    \n",
       "            var marker_61765769154e98aff2bf35e13abf8fb4 = L.marker(\n",
       "                [23.140052255362068, -82.37802867469266],\n",
       "                {\n",
       "}\n",
       "            ).addTo(map_925613df095e17c33a5b049f8b266fd0);\n",
       "        \n",
       "    \n",
       "            var icon_e7268c03964bb3b959b8fd94ee87a783 = L.AwesomeMarkers.icon(\n",
       "                {\n",
       "  &quot;markerColor&quot;: &quot;red&quot;,\n",
       "  &quot;iconColor&quot;: &quot;white&quot;,\n",
       "  &quot;icon&quot;: &quot;cutlery&quot;,\n",
       "  &quot;prefix&quot;: &quot;fa&quot;,\n",
       "  &quot;extraClasses&quot;: &quot;fa-rotate-0&quot;,\n",
       "}\n",
       "            );\n",
       "            marker_61765769154e98aff2bf35e13abf8fb4.setIcon(icon_e7268c03964bb3b959b8fd94ee87a783);\n",
       "        \n",
       "    \n",
       "        var popup_f4c733f0f4924b0029dabb5173ffe28b = L.popup({\n",
       "  &quot;maxWidth&quot;: &quot;100%&quot;,\n",
       "});\n",
       "\n",
       "        \n",
       "            \n",
       "                var html_d59449fcaec744e2fc8bb0e834de571f = $(`&lt;div id=&quot;html_d59449fcaec744e2fc8bb0e834de571f&quot; style=&quot;width: 100.0%; height: 100.0%;&quot;&gt;(&quot;&lt;b style=&#x27;font-size: 18px; &#x27;&gt;Macarena&lt;/b&gt;&lt;br&gt;Direccion: Calle Vapor No.168 altos entre Espada y San Fransisco&quot;, &quot;Especialidades: [&#x27;Entrantes&#x27;, &#x27;Cockteles&#x27;]&quot;)&lt;/div&gt;`)[0];\n",
       "                popup_f4c733f0f4924b0029dabb5173ffe28b.setContent(html_d59449fcaec744e2fc8bb0e834de571f);\n",
       "            \n",
       "        \n",
       "\n",
       "        marker_61765769154e98aff2bf35e13abf8fb4.bindPopup(popup_f4c733f0f4924b0029dabb5173ffe28b)\n",
       "        ;\n",
       "\n",
       "        \n",
       "    \n",
       "    \n",
       "            var marker_1baf4bdfd52bef182e91ab038cf7d840 = L.marker(\n",
       "                [23.094616836132214, -82.4191641263218],\n",
       "                {\n",
       "}\n",
       "            ).addTo(map_925613df095e17c33a5b049f8b266fd0);\n",
       "        \n",
       "    \n",
       "            var icon_2649f122bb9305f6d685d2a2da5390ec = L.AwesomeMarkers.icon(\n",
       "                {\n",
       "  &quot;markerColor&quot;: &quot;red&quot;,\n",
       "  &quot;iconColor&quot;: &quot;white&quot;,\n",
       "  &quot;icon&quot;: &quot;cutlery&quot;,\n",
       "  &quot;prefix&quot;: &quot;fa&quot;,\n",
       "  &quot;extraClasses&quot;: &quot;fa-rotate-0&quot;,\n",
       "}\n",
       "            );\n",
       "            marker_1baf4bdfd52bef182e91ab038cf7d840.setIcon(icon_2649f122bb9305f6d685d2a2da5390ec);\n",
       "        \n",
       "    \n",
       "        var popup_85d2ad1bca562f362b28ee75af2da91f = L.popup({\n",
       "  &quot;maxWidth&quot;: &quot;100%&quot;,\n",
       "});\n",
       "\n",
       "        \n",
       "            \n",
       "                var html_80025c6c7591f69dba9254715b4153b2 = $(`&lt;div id=&quot;html_80025c6c7591f69dba9254715b4153b2&quot; style=&quot;width: 100.0%; height: 100.0%;&quot;&gt;(&quot;&lt;b style=&#x27;font-size: 18px; &#x27;&gt;Bar Tropicana&lt;/b&gt;&lt;br&gt;Direccion: 72A,Avenida 41&quot;, &#x27;Especialidades: [None]&#x27;)&lt;/div&gt;`)[0];\n",
       "                popup_85d2ad1bca562f362b28ee75af2da91f.setContent(html_80025c6c7591f69dba9254715b4153b2);\n",
       "            \n",
       "        \n",
       "\n",
       "        marker_1baf4bdfd52bef182e91ab038cf7d840.bindPopup(popup_85d2ad1bca562f362b28ee75af2da91f)\n",
       "        ;\n",
       "\n",
       "        \n",
       "    \n",
       "    \n",
       "            var marker_a5cc5b057e66f4a508c4430f21933208 = L.marker(\n",
       "                [23.165980531256245, -82.28267095911482],\n",
       "                {\n",
       "}\n",
       "            ).addTo(map_925613df095e17c33a5b049f8b266fd0);\n",
       "        \n",
       "    \n",
       "            var icon_f5d2fc16e99a5c7b6147ad6c22bcd15e = L.AwesomeMarkers.icon(\n",
       "                {\n",
       "  &quot;markerColor&quot;: &quot;red&quot;,\n",
       "  &quot;iconColor&quot;: &quot;white&quot;,\n",
       "  &quot;icon&quot;: &quot;cutlery&quot;,\n",
       "  &quot;prefix&quot;: &quot;fa&quot;,\n",
       "  &quot;extraClasses&quot;: &quot;fa-rotate-0&quot;,\n",
       "}\n",
       "            );\n",
       "            marker_a5cc5b057e66f4a508c4430f21933208.setIcon(icon_f5d2fc16e99a5c7b6147ad6c22bcd15e);\n",
       "        \n",
       "    \n",
       "        var popup_cab25b4cb5f259b4f0ec7963e19bb6fa = L.popup({\n",
       "  &quot;maxWidth&quot;: &quot;100%&quot;,\n",
       "});\n",
       "\n",
       "        \n",
       "            \n",
       "                var html_855c8ef618dd2c7958fcbe3bde779f82 = $(`&lt;div id=&quot;html_855c8ef618dd2c7958fcbe3bde779f82&quot; style=&quot;width: 100.0%; height: 100.0%;&quot;&gt;(&quot;&lt;b style=&#x27;font-size: 18px; &#x27;&gt;Beer para creer&lt;/b&gt;&lt;br&gt;Direccion: Centro comercial Falcon, Alamar&quot;, &quot;Especialidades: [&#x27;Comida mixta&#x27;]&quot;)&lt;/div&gt;`)[0];\n",
       "                popup_cab25b4cb5f259b4f0ec7963e19bb6fa.setContent(html_855c8ef618dd2c7958fcbe3bde779f82);\n",
       "            \n",
       "        \n",
       "\n",
       "        marker_a5cc5b057e66f4a508c4430f21933208.bindPopup(popup_cab25b4cb5f259b4f0ec7963e19bb6fa)\n",
       "        ;\n",
       "\n",
       "        \n",
       "    \n",
       "    \n",
       "            var marker_25f30f3be65c7e5152a0e151e1cd3533 = L.marker(\n",
       "                [23.14134074581821, -82.40118351396043],\n",
       "                {\n",
       "}\n",
       "            ).addTo(map_925613df095e17c33a5b049f8b266fd0);\n",
       "        \n",
       "    \n",
       "            var icon_9db533cab23ee9a6d3323f0129e6e9f7 = L.AwesomeMarkers.icon(\n",
       "                {\n",
       "  &quot;markerColor&quot;: &quot;red&quot;,\n",
       "  &quot;iconColor&quot;: &quot;white&quot;,\n",
       "  &quot;icon&quot;: &quot;cutlery&quot;,\n",
       "  &quot;prefix&quot;: &quot;fa&quot;,\n",
       "  &quot;extraClasses&quot;: &quot;fa-rotate-0&quot;,\n",
       "}\n",
       "            );\n",
       "            marker_25f30f3be65c7e5152a0e151e1cd3533.setIcon(icon_9db533cab23ee9a6d3323f0129e6e9f7);\n",
       "        \n",
       "    \n",
       "        var popup_f9d0c3ebdebb615b7f07c773da241b51 = L.popup({\n",
       "  &quot;maxWidth&quot;: &quot;100%&quot;,\n",
       "});\n",
       "\n",
       "        \n",
       "            \n",
       "                var html_ec4c7f957e9516782f4975eb6b56fd7b = $(`&lt;div id=&quot;html_ec4c7f957e9516782f4975eb6b56fd7b&quot; style=&quot;width: 100.0%; height: 100.0%;&quot;&gt;(&quot;&lt;b style=&#x27;font-size: 18px; &#x27;&gt;Beirut&lt;/b&gt;&lt;br&gt;Direccion: Calle 1ra entre A y B, Vedado&quot;, &quot;Especialidades: [&#x27;Comida libanesa&#x27;, &#x27;de oriente medio&#x27;]&quot;)&lt;/div&gt;`)[0];\n",
       "                popup_f9d0c3ebdebb615b7f07c773da241b51.setContent(html_ec4c7f957e9516782f4975eb6b56fd7b);\n",
       "            \n",
       "        \n",
       "\n",
       "        marker_25f30f3be65c7e5152a0e151e1cd3533.bindPopup(popup_f9d0c3ebdebb615b7f07c773da241b51)\n",
       "        ;\n",
       "\n",
       "        \n",
       "    \n",
       "    \n",
       "            var marker_81dc8d2457c44dce7d1a4096afa1ccb0 = L.marker(\n",
       "                [23.122358280018755, -82.40455260333313],\n",
       "                {\n",
       "}\n",
       "            ).addTo(map_925613df095e17c33a5b049f8b266fd0);\n",
       "        \n",
       "    \n",
       "            var icon_6acfdf430db3d74dbe16fd73a4077a5a = L.AwesomeMarkers.icon(\n",
       "                {\n",
       "  &quot;markerColor&quot;: &quot;red&quot;,\n",
       "  &quot;iconColor&quot;: &quot;white&quot;,\n",
       "  &quot;icon&quot;: &quot;cutlery&quot;,\n",
       "  &quot;prefix&quot;: &quot;fa&quot;,\n",
       "  &quot;extraClasses&quot;: &quot;fa-rotate-0&quot;,\n",
       "}\n",
       "            );\n",
       "            marker_81dc8d2457c44dce7d1a4096afa1ccb0.setIcon(icon_6acfdf430db3d74dbe16fd73a4077a5a);\n",
       "        \n",
       "    \n",
       "        var popup_d9d206cdf3b3ca5f7f51f01ddec22529 = L.popup({\n",
       "  &quot;maxWidth&quot;: &quot;100%&quot;,\n",
       "});\n",
       "\n",
       "        \n",
       "            \n",
       "                var html_a7d46e82a5716bcf7f31a71c558964ee = $(`&lt;div id=&quot;html_a7d46e82a5716bcf7f31a71c558964ee&quot; style=&quot;width: 100.0%; height: 100.0%;&quot;&gt;(&quot;&lt;b style=&#x27;font-size: 18px; &#x27;&gt;Bodegon del Asado&lt;/b&gt;&lt;br&gt;Direccion: Calle 24, No 418, e / 23 y 25, Vedado&quot;, &quot;Especialidades: [&#x27;Comida cubana&#x27;, &#x27;criolla&#x27;, &#x27;italiana&#x27;]&quot;)&lt;/div&gt;`)[0];\n",
       "                popup_d9d206cdf3b3ca5f7f51f01ddec22529.setContent(html_a7d46e82a5716bcf7f31a71c558964ee);\n",
       "            \n",
       "        \n",
       "\n",
       "        marker_81dc8d2457c44dce7d1a4096afa1ccb0.bindPopup(popup_d9d206cdf3b3ca5f7f51f01ddec22529)\n",
       "        ;\n",
       "\n",
       "        \n",
       "    \n",
       "    \n",
       "            var marker_a600073e2db5ad1b00099bdb789f61fe = L.marker(\n",
       "                [23.13336490258953, -82.39873911512949],\n",
       "                {\n",
       "}\n",
       "            ).addTo(map_925613df095e17c33a5b049f8b266fd0);\n",
       "        \n",
       "    \n",
       "            var icon_1f5566abc2f12e60293a24ed364d4bbd = L.AwesomeMarkers.icon(\n",
       "                {\n",
       "  &quot;markerColor&quot;: &quot;red&quot;,\n",
       "  &quot;iconColor&quot;: &quot;white&quot;,\n",
       "  &quot;icon&quot;: &quot;cutlery&quot;,\n",
       "  &quot;prefix&quot;: &quot;fa&quot;,\n",
       "  &quot;extraClasses&quot;: &quot;fa-rotate-0&quot;,\n",
       "}\n",
       "            );\n",
       "            marker_a600073e2db5ad1b00099bdb789f61fe.setIcon(icon_1f5566abc2f12e60293a24ed364d4bbd);\n",
       "        \n",
       "    \n",
       "        var popup_144cfdb86fe19d8bd3a3fd85737bd37e = L.popup({\n",
       "  &quot;maxWidth&quot;: &quot;100%&quot;,\n",
       "});\n",
       "\n",
       "        \n",
       "            \n",
       "                var html_8005dab7c5a47ba54ae673fcd733b121 = $(`&lt;div id=&quot;html_8005dab7c5a47ba54ae673fcd733b121&quot; style=&quot;width: 100.0%; height: 100.0%;&quot;&gt;(&quot;&lt;b style=&#x27;font-size: 18px; &#x27;&gt;Bohio Mercadito&lt;/b&gt;&lt;br&gt;Direccion: calle 19 entre 12 y 10, Vedado&quot;, &quot;Especialidades: [&#x27;Bar&#x27;, &#x27;Americana&#x27;]&quot;)&lt;/div&gt;`)[0];\n",
       "                popup_144cfdb86fe19d8bd3a3fd85737bd37e.setContent(html_8005dab7c5a47ba54ae673fcd733b121);\n",
       "            \n",
       "        \n",
       "\n",
       "        marker_a600073e2db5ad1b00099bdb789f61fe.bindPopup(popup_144cfdb86fe19d8bd3a3fd85737bd37e)\n",
       "        ;\n",
       "\n",
       "        \n",
       "    \n",
       "    \n",
       "            var marker_b016d2bc92863bcb2b5e2975d0e571e0 = L.marker(\n",
       "                [23.137509028109648, -82.35967851702206],\n",
       "                {\n",
       "}\n",
       "            ).addTo(map_925613df095e17c33a5b049f8b266fd0);\n",
       "        \n",
       "    \n",
       "            var icon_11461d1e7cd0ff77757c7714db7dea70 = L.AwesomeMarkers.icon(\n",
       "                {\n",
       "  &quot;markerColor&quot;: &quot;red&quot;,\n",
       "  &quot;iconColor&quot;: &quot;white&quot;,\n",
       "  &quot;icon&quot;: &quot;cutlery&quot;,\n",
       "  &quot;prefix&quot;: &quot;fa&quot;,\n",
       "  &quot;extraClasses&quot;: &quot;fa-rotate-0&quot;,\n",
       "}\n",
       "            );\n",
       "            marker_b016d2bc92863bcb2b5e2975d0e571e0.setIcon(icon_11461d1e7cd0ff77757c7714db7dea70);\n",
       "        \n",
       "    \n",
       "        var popup_38654f5d4aca34ef1c68681b3605b2a3 = L.popup({\n",
       "  &quot;maxWidth&quot;: &quot;100%&quot;,\n",
       "});\n",
       "\n",
       "        \n",
       "            \n",
       "                var html_7621dd3db6deefc0c3965191eb6bac7d = $(`&lt;div id=&quot;html_7621dd3db6deefc0c3965191eb6bac7d&quot; style=&quot;width: 100.0%; height: 100.0%;&quot;&gt;(&quot;&lt;b style=&#x27;font-size: 18px; &#x27;&gt;Bone Ma 62&lt;/b&gt;&lt;br&gt;Direccion: Bulevar de San Rafael entre Prado y Consulado&quot;, &quot;Especialidades: [&#x27;Comida Cubana&#x27;]&quot;)&lt;/div&gt;`)[0];\n",
       "                popup_38654f5d4aca34ef1c68681b3605b2a3.setContent(html_7621dd3db6deefc0c3965191eb6bac7d);\n",
       "            \n",
       "        \n",
       "\n",
       "        marker_b016d2bc92863bcb2b5e2975d0e571e0.bindPopup(popup_38654f5d4aca34ef1c68681b3605b2a3)\n",
       "        ;\n",
       "\n",
       "        \n",
       "    \n",
       "    \n",
       "            var marker_4b7160dfb2f1528f393698a869a09a55 = L.marker(\n",
       "                [23.09615689834022, -82.37467472817552],\n",
       "                {\n",
       "}\n",
       "            ).addTo(map_925613df095e17c33a5b049f8b266fd0);\n",
       "        \n",
       "    \n",
       "            var icon_17e75c029e8758811bf28e1a73947cbe = L.AwesomeMarkers.icon(\n",
       "                {\n",
       "  &quot;markerColor&quot;: &quot;red&quot;,\n",
       "  &quot;iconColor&quot;: &quot;white&quot;,\n",
       "  &quot;icon&quot;: &quot;cutlery&quot;,\n",
       "  &quot;prefix&quot;: &quot;fa&quot;,\n",
       "  &quot;extraClasses&quot;: &quot;fa-rotate-0&quot;,\n",
       "}\n",
       "            );\n",
       "            marker_4b7160dfb2f1528f393698a869a09a55.setIcon(icon_17e75c029e8758811bf28e1a73947cbe);\n",
       "        \n",
       "    \n",
       "        var popup_baffbba76ab362b1775c302ecd634ecc = L.popup({\n",
       "  &quot;maxWidth&quot;: &quot;100%&quot;,\n",
       "});\n",
       "\n",
       "        \n",
       "            \n",
       "                var html_c7fa0e5bf05c7dbb22b7b7e74107f683 = $(`&lt;div id=&quot;html_c7fa0e5bf05c7dbb22b7b7e74107f683&quot; style=&quot;width: 100.0%; height: 100.0%;&quot;&gt;(&quot;&lt;b style=&#x27;font-size: 18px; &#x27;&gt;Brasserie 255&lt;/b&gt;&lt;br&gt;Direccion: Calle Juan Delgado #255 entre Santa Catalina y Milagros, Santos Suárez&quot;, &quot;Especialidades: [&#x27;cubana&#x27;, &#x27;francesa&#x27;, &#x27;internacional&#x27;]&quot;)&lt;/div&gt;`)[0];\n",
       "                popup_baffbba76ab362b1775c302ecd634ecc.setContent(html_c7fa0e5bf05c7dbb22b7b7e74107f683);\n",
       "            \n",
       "        \n",
       "\n",
       "        marker_4b7160dfb2f1528f393698a869a09a55.bindPopup(popup_baffbba76ab362b1775c302ecd634ecc)\n",
       "        ;\n",
       "\n",
       "        \n",
       "    \n",
       "    \n",
       "            var marker_27630da15ab0affe2ddc989b71191424 = L.marker(\n",
       "                [23.120855356364203, -82.37256464585778],\n",
       "                {\n",
       "}\n",
       "            ).addTo(map_925613df095e17c33a5b049f8b266fd0);\n",
       "        \n",
       "    \n",
       "            var icon_65bd0a4ff6f7e4feb0b49b7c1175f327 = L.AwesomeMarkers.icon(\n",
       "                {\n",
       "  &quot;markerColor&quot;: &quot;red&quot;,\n",
       "  &quot;iconColor&quot;: &quot;white&quot;,\n",
       "  &quot;icon&quot;: &quot;cutlery&quot;,\n",
       "  &quot;prefix&quot;: &quot;fa&quot;,\n",
       "  &quot;extraClasses&quot;: &quot;fa-rotate-0&quot;,\n",
       "}\n",
       "            );\n",
       "            marker_27630da15ab0affe2ddc989b71191424.setIcon(icon_65bd0a4ff6f7e4feb0b49b7c1175f327);\n",
       "        \n",
       "    \n",
       "        var popup_9e093812bfac84c2e3a6089ce6cf4fec = L.popup({\n",
       "  &quot;maxWidth&quot;: &quot;100%&quot;,\n",
       "});\n",
       "\n",
       "        \n",
       "            \n",
       "                var html_701d700be76f580cfa70d35f4fc69a84 = $(`&lt;div id=&quot;html_701d700be76f580cfa70d35f4fc69a84&quot; style=&quot;width: 100.0%; height: 100.0%;&quot;&gt;(&quot;&lt;b style=&#x27;font-size: 18px; &#x27;&gt;Brutal Habana&lt;/b&gt;&lt;br&gt;Direccion: Infanta esquina Calle Universidad&quot;, &quot;Especialidades: [&#x27;Comida Americana&#x27;]&quot;)&lt;/div&gt;`)[0];\n",
       "                popup_9e093812bfac84c2e3a6089ce6cf4fec.setContent(html_701d700be76f580cfa70d35f4fc69a84);\n",
       "            \n",
       "        \n",
       "\n",
       "        marker_27630da15ab0affe2ddc989b71191424.bindPopup(popup_9e093812bfac84c2e3a6089ce6cf4fec)\n",
       "        ;\n",
       "\n",
       "        \n",
       "    \n",
       "    \n",
       "            var marker_d23049e235cb5fb5d28e0a6095da34ee = L.marker(\n",
       "                [23.099237749002498, -82.33237415355453],\n",
       "                {\n",
       "}\n",
       "            ).addTo(map_925613df095e17c33a5b049f8b266fd0);\n",
       "        \n",
       "    \n",
       "            var icon_a9ca9aabf4bb321c549e65dc8c4d5202 = L.AwesomeMarkers.icon(\n",
       "                {\n",
       "  &quot;markerColor&quot;: &quot;red&quot;,\n",
       "  &quot;iconColor&quot;: &quot;white&quot;,\n",
       "  &quot;icon&quot;: &quot;cutlery&quot;,\n",
       "  &quot;prefix&quot;: &quot;fa&quot;,\n",
       "  &quot;extraClasses&quot;: &quot;fa-rotate-0&quot;,\n",
       "}\n",
       "            );\n",
       "            marker_d23049e235cb5fb5d28e0a6095da34ee.setIcon(icon_a9ca9aabf4bb321c549e65dc8c4d5202);\n",
       "        \n",
       "    \n",
       "        var popup_35663f1f4b2c437f464f681d93955df1 = L.popup({\n",
       "  &quot;maxWidth&quot;: &quot;100%&quot;,\n",
       "});\n",
       "\n",
       "        \n",
       "            \n",
       "                var html_9a0c5b3345ebf5055913c2314f936036 = $(`&lt;div id=&quot;html_9a0c5b3345ebf5055913c2314f936036&quot; style=&quot;width: 100.0%; height: 100.0%;&quot;&gt;(&quot;&lt;b style=&#x27;font-size: 18px; &#x27;&gt;Buena Vibra&lt;/b&gt;&lt;br&gt;Direccion: Esquina Beltran y Vista Hermosa&quot;, &quot;Especialidades: [&#x27;internacional&#x27;, &#x27;criolla&#x27;, &#x27;italiana&#x27;]&quot;)&lt;/div&gt;`)[0];\n",
       "                popup_35663f1f4b2c437f464f681d93955df1.setContent(html_9a0c5b3345ebf5055913c2314f936036);\n",
       "            \n",
       "        \n",
       "\n",
       "        marker_d23049e235cb5fb5d28e0a6095da34ee.bindPopup(popup_35663f1f4b2c437f464f681d93955df1)\n",
       "        ;\n",
       "\n",
       "        \n",
       "    \n",
       "    \n",
       "            var marker_747a72636f6d33ef80615e34d822a804 = L.marker(\n",
       "                [23.141585728087556, -82.35312284770457],\n",
       "                {\n",
       "}\n",
       "            ).addTo(map_925613df095e17c33a5b049f8b266fd0);\n",
       "        \n",
       "    \n",
       "            var icon_49697e4af0da85a75f8844a5a5701d8a = L.AwesomeMarkers.icon(\n",
       "                {\n",
       "  &quot;markerColor&quot;: &quot;red&quot;,\n",
       "  &quot;iconColor&quot;: &quot;white&quot;,\n",
       "  &quot;icon&quot;: &quot;cutlery&quot;,\n",
       "  &quot;prefix&quot;: &quot;fa&quot;,\n",
       "  &quot;extraClasses&quot;: &quot;fa-rotate-0&quot;,\n",
       "}\n",
       "            );\n",
       "            marker_747a72636f6d33ef80615e34d822a804.setIcon(icon_49697e4af0da85a75f8844a5a5701d8a);\n",
       "        \n",
       "    \n",
       "        var popup_a0a0cd930ed3d7c8563fea7fc653c2bd = L.popup({\n",
       "  &quot;maxWidth&quot;: &quot;100%&quot;,\n",
       "});\n",
       "\n",
       "        \n",
       "            \n",
       "                var html_d3334a7c98e2a1d40bf33c5ea9569786 = $(`&lt;div id=&quot;html_d3334a7c98e2a1d40bf33c5ea9569786&quot; style=&quot;width: 100.0%; height: 100.0%;&quot;&gt;(&quot;&lt;b style=&#x27;font-size: 18px; &#x27;&gt;Buena Vista Curry Club&lt;/b&gt;&lt;br&gt;Direccion: Tejadillo #24 entre Cuba y San Ignacio&quot;, &quot;Especialidades: [&#x27;Indio&#x27;]&quot;)&lt;/div&gt;`)[0];\n",
       "                popup_a0a0cd930ed3d7c8563fea7fc653c2bd.setContent(html_d3334a7c98e2a1d40bf33c5ea9569786);\n",
       "            \n",
       "        \n",
       "\n",
       "        marker_747a72636f6d33ef80615e34d822a804.bindPopup(popup_a0a0cd930ed3d7c8563fea7fc653c2bd)\n",
       "        ;\n",
       "\n",
       "        \n",
       "    \n",
       "    \n",
       "            var marker_0575af542dbde7409f080497ee5e0ef5 = L.marker(\n",
       "                [23.125370946899892, -82.33090928614111],\n",
       "                {\n",
       "}\n",
       "            ).addTo(map_925613df095e17c33a5b049f8b266fd0);\n",
       "        \n",
       "    \n",
       "            var icon_e0008bcd80700f400fae7e4895eacbca = L.AwesomeMarkers.icon(\n",
       "                {\n",
       "  &quot;markerColor&quot;: &quot;red&quot;,\n",
       "  &quot;iconColor&quot;: &quot;white&quot;,\n",
       "  &quot;icon&quot;: &quot;cutlery&quot;,\n",
       "  &quot;prefix&quot;: &quot;fa&quot;,\n",
       "  &quot;extraClasses&quot;: &quot;fa-rotate-0&quot;,\n",
       "}\n",
       "            );\n",
       "            marker_0575af542dbde7409f080497ee5e0ef5.setIcon(icon_e0008bcd80700f400fae7e4895eacbca);\n",
       "        \n",
       "    \n",
       "        var popup_d3a18e3c3317e551f3d3b889f3f828c2 = L.popup({\n",
       "  &quot;maxWidth&quot;: &quot;100%&quot;,\n",
       "});\n",
       "\n",
       "        \n",
       "            \n",
       "                var html_bb7df02e56756b64ac7f22ef27c3b626 = $(`&lt;div id=&quot;html_bb7df02e56756b64ac7f22ef27c3b626&quot; style=&quot;width: 100.0%; height: 100.0%;&quot;&gt;(&quot;&lt;b style=&#x27;font-size: 18px; &#x27;&gt;Cafe Atardecer&lt;/b&gt;&lt;br&gt;Direccion: Marti entre Perdomo y Albuquerque&quot;, &quot;Especialidades: [&#x27;criolla&#x27;]&quot;)&lt;/div&gt;`)[0];\n",
       "                popup_d3a18e3c3317e551f3d3b889f3f828c2.setContent(html_bb7df02e56756b64ac7f22ef27c3b626);\n",
       "            \n",
       "        \n",
       "\n",
       "        marker_0575af542dbde7409f080497ee5e0ef5.bindPopup(popup_d3a18e3c3317e551f3d3b889f3f828c2)\n",
       "        ;\n",
       "\n",
       "        \n",
       "    \n",
       "    \n",
       "            var marker_66281f2eb4bdecb92104033588845d29 = L.marker(\n",
       "                [23.086090107291625, -82.42853148002152],\n",
       "                {\n",
       "}\n",
       "            ).addTo(map_925613df095e17c33a5b049f8b266fd0);\n",
       "        \n",
       "    \n",
       "            var icon_bbb7290d272a4e5d4d21e2836e7eda5d = L.AwesomeMarkers.icon(\n",
       "                {\n",
       "  &quot;markerColor&quot;: &quot;red&quot;,\n",
       "  &quot;iconColor&quot;: &quot;white&quot;,\n",
       "  &quot;icon&quot;: &quot;cutlery&quot;,\n",
       "  &quot;prefix&quot;: &quot;fa&quot;,\n",
       "  &quot;extraClasses&quot;: &quot;fa-rotate-0&quot;,\n",
       "}\n",
       "            );\n",
       "            marker_66281f2eb4bdecb92104033588845d29.setIcon(icon_bbb7290d272a4e5d4d21e2836e7eda5d);\n",
       "        \n",
       "    \n",
       "        var popup_4f207bcd7cbeaf46ae28371052a3c85d = L.popup({\n",
       "  &quot;maxWidth&quot;: &quot;100%&quot;,\n",
       "});\n",
       "\n",
       "        \n",
       "            \n",
       "                var html_dca0b24281008d22da393c450298a272 = $(`&lt;div id=&quot;html_dca0b24281008d22da393c450298a272&quot; style=&quot;width: 100.0%; height: 100.0%;&quot;&gt;(&quot;&lt;b style=&#x27;font-size: 18px; &#x27;&gt;Cafeteria obelisco&lt;/b&gt;&lt;br&gt;Direccion: Avenida 31&quot;, &quot;Especialidades: [&#x27;mixta&#x27;]&quot;)&lt;/div&gt;`)[0];\n",
       "                popup_4f207bcd7cbeaf46ae28371052a3c85d.setContent(html_dca0b24281008d22da393c450298a272);\n",
       "            \n",
       "        \n",
       "\n",
       "        marker_66281f2eb4bdecb92104033588845d29.bindPopup(popup_4f207bcd7cbeaf46ae28371052a3c85d)\n",
       "        ;\n",
       "\n",
       "        \n",
       "    \n",
       "    \n",
       "            var marker_0a74fccf887c739494c1eeb7f5a4a716 = L.marker(\n",
       "                [23.052405448223777, -82.4605687],\n",
       "                {\n",
       "}\n",
       "            ).addTo(map_925613df095e17c33a5b049f8b266fd0);\n",
       "        \n",
       "    \n",
       "            var icon_a06f09a673083c9137acd7f84e7cfc0c = L.AwesomeMarkers.icon(\n",
       "                {\n",
       "  &quot;markerColor&quot;: &quot;red&quot;,\n",
       "  &quot;iconColor&quot;: &quot;white&quot;,\n",
       "  &quot;icon&quot;: &quot;cutlery&quot;,\n",
       "  &quot;prefix&quot;: &quot;fa&quot;,\n",
       "  &quot;extraClasses&quot;: &quot;fa-rotate-0&quot;,\n",
       "}\n",
       "            );\n",
       "            marker_0a74fccf887c739494c1eeb7f5a4a716.setIcon(icon_a06f09a673083c9137acd7f84e7cfc0c);\n",
       "        \n",
       "    \n",
       "        var popup_54921e92047805c1683e510f9465d641 = L.popup({\n",
       "  &quot;maxWidth&quot;: &quot;100%&quot;,\n",
       "});\n",
       "\n",
       "        \n",
       "            \n",
       "                var html_bdaa24eeb8387d6b75819d4ac77e8dbe = $(`&lt;div id=&quot;html_bdaa24eeb8387d6b75819d4ac77e8dbe&quot; style=&quot;width: 100.0%; height: 100.0%;&quot;&gt;(&quot;&lt;b style=&#x27;font-size: 18px; &#x27;&gt;Cafe Aroma&lt;/b&gt;&lt;br&gt;Direccion: Calle 244 No. 5106 e/ 51 y 61, San Agustín&quot;, &quot;Especialidades: [&#x27;Mixta&#x27;, &#x27;Cafes&#x27;]&quot;)&lt;/div&gt;`)[0];\n",
       "                popup_54921e92047805c1683e510f9465d641.setContent(html_bdaa24eeb8387d6b75819d4ac77e8dbe);\n",
       "            \n",
       "        \n",
       "\n",
       "        marker_0a74fccf887c739494c1eeb7f5a4a716.bindPopup(popup_54921e92047805c1683e510f9465d641)\n",
       "        ;\n",
       "\n",
       "        \n",
       "    \n",
       "    \n",
       "            var marker_a1624bdadc04ee913f28ada5341e10bd = L.marker(\n",
       "                [23.136496787602418, -82.36291657498259],\n",
       "                {\n",
       "}\n",
       "            ).addTo(map_925613df095e17c33a5b049f8b266fd0);\n",
       "        \n",
       "    \n",
       "            var icon_0289f551835b61d7e101991e34222854 = L.AwesomeMarkers.icon(\n",
       "                {\n",
       "  &quot;markerColor&quot;: &quot;red&quot;,\n",
       "  &quot;iconColor&quot;: &quot;white&quot;,\n",
       "  &quot;icon&quot;: &quot;cutlery&quot;,\n",
       "  &quot;prefix&quot;: &quot;fa&quot;,\n",
       "  &quot;extraClasses&quot;: &quot;fa-rotate-0&quot;,\n",
       "}\n",
       "            );\n",
       "            marker_a1624bdadc04ee913f28ada5341e10bd.setIcon(icon_0289f551835b61d7e101991e34222854);\n",
       "        \n",
       "    \n",
       "        var popup_3ac8900b930cfe8aefbf4d4643e5cd2a = L.popup({\n",
       "  &quot;maxWidth&quot;: &quot;100%&quot;,\n",
       "});\n",
       "\n",
       "        \n",
       "            \n",
       "                var html_baa675071f7bf6eb7fe63777f10002cc = $(`&lt;div id=&quot;html_baa675071f7bf6eb7fe63777f10002cc&quot; style=&quot;width: 100.0%; height: 100.0%;&quot;&gt;(&quot;&lt;b style=&#x27;font-size: 18px; &#x27;&gt;Cafe Bulevar&lt;/b&gt;&lt;br&gt;Direccion: Blvd de San Rafael entre Aguila y Galeano&quot;, &quot;Especialidades: [&#x27;cubana&#x27;]&quot;)&lt;/div&gt;`)[0];\n",
       "                popup_3ac8900b930cfe8aefbf4d4643e5cd2a.setContent(html_baa675071f7bf6eb7fe63777f10002cc);\n",
       "            \n",
       "        \n",
       "\n",
       "        marker_a1624bdadc04ee913f28ada5341e10bd.bindPopup(popup_3ac8900b930cfe8aefbf4d4643e5cd2a)\n",
       "        ;\n",
       "\n",
       "        \n",
       "    \n",
       "    \n",
       "            var marker_6e4b9717e685fd5f89d1e9013710b72d = L.marker(\n",
       "                [23.142000139754025, -82.35554376702197],\n",
       "                {\n",
       "}\n",
       "            ).addTo(map_925613df095e17c33a5b049f8b266fd0);\n",
       "        \n",
       "    \n",
       "            var icon_558bc38befedf1be014d69b41cdf52e5 = L.AwesomeMarkers.icon(\n",
       "                {\n",
       "  &quot;markerColor&quot;: &quot;red&quot;,\n",
       "  &quot;iconColor&quot;: &quot;white&quot;,\n",
       "  &quot;icon&quot;: &quot;cutlery&quot;,\n",
       "  &quot;prefix&quot;: &quot;fa&quot;,\n",
       "  &quot;extraClasses&quot;: &quot;fa-rotate-0&quot;,\n",
       "}\n",
       "            );\n",
       "            marker_6e4b9717e685fd5f89d1e9013710b72d.setIcon(icon_558bc38befedf1be014d69b41cdf52e5);\n",
       "        \n",
       "    \n",
       "        var popup_57e927ebca17ca88fe07171217c300e4 = L.popup({\n",
       "  &quot;maxWidth&quot;: &quot;100%&quot;,\n",
       "});\n",
       "\n",
       "        \n",
       "            \n",
       "                var html_6d6e25476c4ec116757335aa1f015326 = $(`&lt;div id=&quot;html_6d6e25476c4ec116757335aa1f015326&quot; style=&quot;width: 100.0%; height: 100.0%;&quot;&gt;(&quot;&lt;b style=&#x27;font-size: 18px; &#x27;&gt;Cafe Del Angel&lt;/b&gt;&lt;br&gt;Direccion: Chacon #201 esquina Compostela&quot;, &quot;Especialidades: [&#x27;Cubana&#x27;, &#x27;internacional&#x27;, &#x27;italiana&#x27;]&quot;)&lt;/div&gt;`)[0];\n",
       "                popup_57e927ebca17ca88fe07171217c300e4.setContent(html_6d6e25476c4ec116757335aa1f015326);\n",
       "            \n",
       "        \n",
       "\n",
       "        marker_6e4b9717e685fd5f89d1e9013710b72d.bindPopup(popup_57e927ebca17ca88fe07171217c300e4)\n",
       "        ;\n",
       "\n",
       "        \n",
       "    \n",
       "    \n",
       "            var marker_de32eb519485597e816d11575e36b059 = L.marker(\n",
       "                [23.13903313751219, -82.40074075776106],\n",
       "                {\n",
       "}\n",
       "            ).addTo(map_925613df095e17c33a5b049f8b266fd0);\n",
       "        \n",
       "    \n",
       "            var icon_51c5d26c3362e3a97740185a48f08419 = L.AwesomeMarkers.icon(\n",
       "                {\n",
       "  &quot;markerColor&quot;: &quot;red&quot;,\n",
       "  &quot;iconColor&quot;: &quot;white&quot;,\n",
       "  &quot;icon&quot;: &quot;cutlery&quot;,\n",
       "  &quot;prefix&quot;: &quot;fa&quot;,\n",
       "  &quot;extraClasses&quot;: &quot;fa-rotate-0&quot;,\n",
       "}\n",
       "            );\n",
       "            marker_de32eb519485597e816d11575e36b059.setIcon(icon_51c5d26c3362e3a97740185a48f08419);\n",
       "        \n",
       "    \n",
       "        var popup_485d61acedec8ab2abc5420bdd782eb1 = L.popup({\n",
       "  &quot;maxWidth&quot;: &quot;100%&quot;,\n",
       "});\n",
       "\n",
       "        \n",
       "            \n",
       "                var html_ef0ab6271bd4f90508c2d2b8e7fac3a3 = $(`&lt;div id=&quot;html_ef0ab6271bd4f90508c2d2b8e7fac3a3&quot; style=&quot;width: 100.0%; height: 100.0%;&quot;&gt;(&quot;&lt;b style=&#x27;font-size: 18px; &#x27;&gt;Cafe D la Esquina&lt;/b&gt;&lt;br&gt;Direccion: Paseo #101, esq. a 5ta., Vedado&quot;, &quot;Especialidades: [&#x27;Comida cubana&#x27;, &#x27;caribeña&#x27;, &#x27;americana&#x27;]&quot;)&lt;/div&gt;`)[0];\n",
       "                popup_485d61acedec8ab2abc5420bdd782eb1.setContent(html_ef0ab6271bd4f90508c2d2b8e7fac3a3);\n",
       "            \n",
       "        \n",
       "\n",
       "        marker_de32eb519485597e816d11575e36b059.bindPopup(popup_485d61acedec8ab2abc5420bdd782eb1)\n",
       "        ;\n",
       "\n",
       "        \n",
       "    \n",
       "    \n",
       "            var marker_16bca3ddbb7b547ac8f0819bb6a758f7 = L.marker(\n",
       "                [23.142976203835282, -82.35457077116467],\n",
       "                {\n",
       "}\n",
       "            ).addTo(map_925613df095e17c33a5b049f8b266fd0);\n",
       "        \n",
       "    \n",
       "            var icon_201e1ce9ab6afe2f1a72a2d0bdc55b50 = L.AwesomeMarkers.icon(\n",
       "                {\n",
       "  &quot;markerColor&quot;: &quot;red&quot;,\n",
       "  &quot;iconColor&quot;: &quot;white&quot;,\n",
       "  &quot;icon&quot;: &quot;cutlery&quot;,\n",
       "  &quot;prefix&quot;: &quot;fa&quot;,\n",
       "  &quot;extraClasses&quot;: &quot;fa-rotate-0&quot;,\n",
       "}\n",
       "            );\n",
       "            marker_16bca3ddbb7b547ac8f0819bb6a758f7.setIcon(icon_201e1ce9ab6afe2f1a72a2d0bdc55b50);\n",
       "        \n",
       "    \n",
       "        var popup_b17c580c794122da16078375f3832503 = L.popup({\n",
       "  &quot;maxWidth&quot;: &quot;100%&quot;,\n",
       "});\n",
       "\n",
       "        \n",
       "            \n",
       "                var html_ab369f7ecd30eef5fc47d07550b9c1d6 = $(`&lt;div id=&quot;html_ab369f7ecd30eef5fc47d07550b9c1d6&quot; style=&quot;width: 100.0%; height: 100.0%;&quot;&gt;(&quot;&lt;b style=&#x27;font-size: 18px; &#x27;&gt;Cafe Fortuna Joe&lt;/b&gt;&lt;br&gt;Direccion: Aguiar 64 e/ Peña Pobre y Cuarteles&quot;, &quot;Especialidades: [&#x27;Internacional&#x27;, &#x27;Cubana&#x27;]&quot;)&lt;/div&gt;`)[0];\n",
       "                popup_b17c580c794122da16078375f3832503.setContent(html_ab369f7ecd30eef5fc47d07550b9c1d6);\n",
       "            \n",
       "        \n",
       "\n",
       "        marker_16bca3ddbb7b547ac8f0819bb6a758f7.bindPopup(popup_b17c580c794122da16078375f3832503)\n",
       "        ;\n",
       "\n",
       "        \n",
       "    \n",
       "    \n",
       "            var marker_0dec8d7d967d84e668187cf7b6df7695 = L.marker(\n",
       "                [23.030074211657837, -82.40204237654218],\n",
       "                {\n",
       "}\n",
       "            ).addTo(map_925613df095e17c33a5b049f8b266fd0);\n",
       "        \n",
       "    \n",
       "            var icon_f6ec4a1bd814115ebf1c858881847e56 = L.AwesomeMarkers.icon(\n",
       "                {\n",
       "  &quot;markerColor&quot;: &quot;red&quot;,\n",
       "  &quot;iconColor&quot;: &quot;white&quot;,\n",
       "  &quot;icon&quot;: &quot;cutlery&quot;,\n",
       "  &quot;prefix&quot;: &quot;fa&quot;,\n",
       "  &quot;extraClasses&quot;: &quot;fa-rotate-0&quot;,\n",
       "}\n",
       "            );\n",
       "            marker_0dec8d7d967d84e668187cf7b6df7695.setIcon(icon_f6ec4a1bd814115ebf1c858881847e56);\n",
       "        \n",
       "    \n",
       "        var popup_8d2288dd787aaa8edc1c5fe53306e644 = L.popup({\n",
       "  &quot;maxWidth&quot;: &quot;100%&quot;,\n",
       "});\n",
       "\n",
       "        \n",
       "            \n",
       "                var html_994f7430eca570279aecd165284fa948 = $(`&lt;div id=&quot;html_994f7430eca570279aecd165284fa948&quot; style=&quot;width: 100.0%; height: 100.0%;&quot;&gt;(&quot;&lt;b style=&#x27;font-size: 18px; &#x27;&gt;Cafe Tilin&lt;/b&gt;&lt;br&gt;Direccion: Avenida Independencia Km 9 1/2, Fontanar&quot;, &quot;Especialidades: [&#x27;Comida cubana&#x27;, &#x27;internacional&#x27;]&quot;)&lt;/div&gt;`)[0];\n",
       "                popup_8d2288dd787aaa8edc1c5fe53306e644.setContent(html_994f7430eca570279aecd165284fa948);\n",
       "            \n",
       "        \n",
       "\n",
       "        marker_0dec8d7d967d84e668187cf7b6df7695.bindPopup(popup_8d2288dd787aaa8edc1c5fe53306e644)\n",
       "        ;\n",
       "\n",
       "        \n",
       "    \n",
       "    \n",
       "            var marker_6378edd5938c67ca1e4efe2cbe9f6093 = L.marker(\n",
       "                [23.0717312546624, -82.3077958289789],\n",
       "                {\n",
       "}\n",
       "            ).addTo(map_925613df095e17c33a5b049f8b266fd0);\n",
       "        \n",
       "    \n",
       "            var icon_b064fcded4f143a0fea7370ae9a86549 = L.AwesomeMarkers.icon(\n",
       "                {\n",
       "  &quot;markerColor&quot;: &quot;red&quot;,\n",
       "  &quot;iconColor&quot;: &quot;white&quot;,\n",
       "  &quot;icon&quot;: &quot;cutlery&quot;,\n",
       "  &quot;prefix&quot;: &quot;fa&quot;,\n",
       "  &quot;extraClasses&quot;: &quot;fa-rotate-0&quot;,\n",
       "}\n",
       "            );\n",
       "            marker_6378edd5938c67ca1e4efe2cbe9f6093.setIcon(icon_b064fcded4f143a0fea7370ae9a86549);\n",
       "        \n",
       "    \n",
       "        var popup_ed20ba8cba8c208e03f03c18664b022a = L.popup({\n",
       "  &quot;maxWidth&quot;: &quot;100%&quot;,\n",
       "});\n",
       "\n",
       "        \n",
       "            \n",
       "                var html_2b73b586e0125b0615eb01defd68b904 = $(`&lt;div id=&quot;html_2b73b586e0125b0615eb01defd68b904&quot; style=&quot;width: 100.0%; height: 100.0%;&quot;&gt;(&quot;&lt;b style=&#x27;font-size: 18px; &#x27;&gt;Café Toscano&lt;/b&gt;&lt;br&gt;Direccion: Calzada de Guines&quot;, &quot;Especialidades: [&#x27;criolla&#x27;, &#x27;italiana&#x27;]&quot;)&lt;/div&gt;`)[0];\n",
       "                popup_ed20ba8cba8c208e03f03c18664b022a.setContent(html_2b73b586e0125b0615eb01defd68b904);\n",
       "            \n",
       "        \n",
       "\n",
       "        marker_6378edd5938c67ca1e4efe2cbe9f6093.bindPopup(popup_ed20ba8cba8c208e03f03c18664b022a)\n",
       "        ;\n",
       "\n",
       "        \n",
       "    \n",
       "    \n",
       "            var marker_6b4c61c0a7c188adfb8d57e9c5ae9908 = L.marker(\n",
       "                [23.10865762371607, -82.24742188465748],\n",
       "                {\n",
       "}\n",
       "            ).addTo(map_925613df095e17c33a5b049f8b266fd0);\n",
       "        \n",
       "    \n",
       "            var icon_3429b13150c3801454a7741b993cc5a2 = L.AwesomeMarkers.icon(\n",
       "                {\n",
       "  &quot;markerColor&quot;: &quot;red&quot;,\n",
       "  &quot;iconColor&quot;: &quot;white&quot;,\n",
       "  &quot;icon&quot;: &quot;cutlery&quot;,\n",
       "  &quot;prefix&quot;: &quot;fa&quot;,\n",
       "  &quot;extraClasses&quot;: &quot;fa-rotate-0&quot;,\n",
       "}\n",
       "            );\n",
       "            marker_6b4c61c0a7c188adfb8d57e9c5ae9908.setIcon(icon_3429b13150c3801454a7741b993cc5a2);\n",
       "        \n",
       "    \n",
       "        var popup_c963d86e7476fc517f228cc63c2cbd26 = L.popup({\n",
       "  &quot;maxWidth&quot;: &quot;100%&quot;,\n",
       "});\n",
       "\n",
       "        \n",
       "            \n",
       "                var html_0a8c2dc54b2947be6a495893df7f62e0 = $(`&lt;div id=&quot;html_0a8c2dc54b2947be6a495893df7f62e0&quot; style=&quot;width: 100.0%; height: 100.0%;&quot;&gt;(&quot;&lt;b style=&#x27;font-size: 18px; &#x27;&gt;Cafe Versalles&lt;/b&gt;&lt;br&gt;Direccion: Calle Marti No.101 entre Versalles y San Antonio&quot;, &quot;Especialidades: [&#x27;Comida Criolla&#x27;]&quot;)&lt;/div&gt;`)[0];\n",
       "                popup_c963d86e7476fc517f228cc63c2cbd26.setContent(html_0a8c2dc54b2947be6a495893df7f62e0);\n",
       "            \n",
       "        \n",
       "\n",
       "        marker_6b4c61c0a7c188adfb8d57e9c5ae9908.bindPopup(popup_c963d86e7476fc517f228cc63c2cbd26)\n",
       "        ;\n",
       "\n",
       "        \n",
       "    \n",
       "    \n",
       "            var marker_0a63ba8d92df61232e2cccdb673200c9 = L.marker(\n",
       "                [23.117962514624928, -82.43294891647132],\n",
       "                {\n",
       "}\n",
       "            ).addTo(map_925613df095e17c33a5b049f8b266fd0);\n",
       "        \n",
       "    \n",
       "            var icon_d6ecededfe7cb76fe7df6ad5066b533e = L.AwesomeMarkers.icon(\n",
       "                {\n",
       "  &quot;markerColor&quot;: &quot;red&quot;,\n",
       "  &quot;iconColor&quot;: &quot;white&quot;,\n",
       "  &quot;icon&quot;: &quot;cutlery&quot;,\n",
       "  &quot;prefix&quot;: &quot;fa&quot;,\n",
       "  &quot;extraClasses&quot;: &quot;fa-rotate-0&quot;,\n",
       "}\n",
       "            );\n",
       "            marker_0a63ba8d92df61232e2cccdb673200c9.setIcon(icon_d6ecededfe7cb76fe7df6ad5066b533e);\n",
       "        \n",
       "    \n",
       "        var popup_5da2ec4b4bc597cddf05db1eb679f9a9 = L.popup({\n",
       "  &quot;maxWidth&quot;: &quot;100%&quot;,\n",
       "});\n",
       "\n",
       "        \n",
       "            \n",
       "                var html_e21714b74a1e53c4aa8f1036a97fe00a = $(`&lt;div id=&quot;html_e21714b74a1e53c4aa8f1036a97fe00a&quot; style=&quot;width: 100.0%; height: 100.0%;&quot;&gt;(&quot;&lt;b style=&#x27;font-size: 18px; &#x27;&gt;Café Literario La Copa&lt;/b&gt;&lt;br&gt;Direccion:  1ra A entre 42 y 44&quot;, &quot;Especialidades: [&#x27;mixta&#x27;]&quot;)&lt;/div&gt;`)[0];\n",
       "                popup_5da2ec4b4bc597cddf05db1eb679f9a9.setContent(html_e21714b74a1e53c4aa8f1036a97fe00a);\n",
       "            \n",
       "        \n",
       "\n",
       "        marker_0a63ba8d92df61232e2cccdb673200c9.bindPopup(popup_5da2ec4b4bc597cddf05db1eb679f9a9)\n",
       "        ;\n",
       "\n",
       "        \n",
       "    \n",
       "    \n",
       "            var marker_db3b84482eac0540e1601de94d81b286 = L.marker(\n",
       "                [23.07258141652537, -82.3570826358098],\n",
       "                {\n",
       "}\n",
       "            ).addTo(map_925613df095e17c33a5b049f8b266fd0);\n",
       "        \n",
       "    \n",
       "            var icon_26bf2dd8d824a231f0aedb9ed413ab96 = L.AwesomeMarkers.icon(\n",
       "                {\n",
       "  &quot;markerColor&quot;: &quot;red&quot;,\n",
       "  &quot;iconColor&quot;: &quot;white&quot;,\n",
       "  &quot;icon&quot;: &quot;cutlery&quot;,\n",
       "  &quot;prefix&quot;: &quot;fa&quot;,\n",
       "  &quot;extraClasses&quot;: &quot;fa-rotate-0&quot;,\n",
       "}\n",
       "            );\n",
       "            marker_db3b84482eac0540e1601de94d81b286.setIcon(icon_26bf2dd8d824a231f0aedb9ed413ab96);\n",
       "        \n",
       "    \n",
       "        var popup_73315d83d0d6bfe0b591cf6be01fe3d6 = L.popup({\n",
       "  &quot;maxWidth&quot;: &quot;100%&quot;,\n",
       "});\n",
       "\n",
       "        \n",
       "            \n",
       "                var html_f313a860e8dada649877ca6d38fd0c70 = $(`&lt;div id=&quot;html_f313a860e8dada649877ca6d38fd0c70&quot; style=&quot;width: 100.0%; height: 100.0%;&quot;&gt;(&quot;&lt;b style=&#x27;font-size: 18px; &#x27;&gt;Casa del Maiz&lt;/b&gt;&lt;br&gt;Direccion:  Calzada de Managua y San Agustin, Arroyo Naranjo&quot;, &quot;Especialidades: [&#x27;cubana&#x27;]&quot;)&lt;/div&gt;`)[0];\n",
       "                popup_73315d83d0d6bfe0b591cf6be01fe3d6.setContent(html_f313a860e8dada649877ca6d38fd0c70);\n",
       "            \n",
       "        \n",
       "\n",
       "        marker_db3b84482eac0540e1601de94d81b286.bindPopup(popup_73315d83d0d6bfe0b591cf6be01fe3d6)\n",
       "        ;\n",
       "\n",
       "        \n",
       "    \n",
       "    \n",
       "            var marker_6cf8bf405f6f233bf6fd8aeb18cff072 = L.marker(\n",
       "                [23.094140100551975, -82.37774190333381],\n",
       "                {\n",
       "}\n",
       "            ).addTo(map_925613df095e17c33a5b049f8b266fd0);\n",
       "        \n",
       "    \n",
       "            var icon_152c496c5a4785d558c4dfe2c5e6b9c3 = L.AwesomeMarkers.icon(\n",
       "                {\n",
       "  &quot;markerColor&quot;: &quot;red&quot;,\n",
       "  &quot;iconColor&quot;: &quot;white&quot;,\n",
       "  &quot;icon&quot;: &quot;cutlery&quot;,\n",
       "  &quot;prefix&quot;: &quot;fa&quot;,\n",
       "  &quot;extraClasses&quot;: &quot;fa-rotate-0&quot;,\n",
       "}\n",
       "            );\n",
       "            marker_6cf8bf405f6f233bf6fd8aeb18cff072.setIcon(icon_152c496c5a4785d558c4dfe2c5e6b9c3);\n",
       "        \n",
       "    \n",
       "        var popup_6cc09ccf1e6b9dab2e11a85dd9043e09 = L.popup({\n",
       "  &quot;maxWidth&quot;: &quot;100%&quot;,\n",
       "});\n",
       "\n",
       "        \n",
       "            \n",
       "                var html_e404b6d0ea25eadea77b8795287d303a = $(`&lt;div id=&quot;html_e404b6d0ea25eadea77b8795287d303a&quot; style=&quot;width: 100.0%; height: 100.0%;&quot;&gt;(&quot;&lt;b style=&#x27;font-size: 18px; &#x27;&gt;Casa Godo&lt;/b&gt;&lt;br&gt;Direccion: Ave. Mayia Rodriguez # 358 e/ San Mariano y Vista Alegre, El Monaco&quot;, &quot;Especialidades: [&#x27;cubana&#x27;, &#x27;internacional&#x27;]&quot;)&lt;/div&gt;`)[0];\n",
       "                popup_6cc09ccf1e6b9dab2e11a85dd9043e09.setContent(html_e404b6d0ea25eadea77b8795287d303a);\n",
       "            \n",
       "        \n",
       "\n",
       "        marker_6cf8bf405f6f233bf6fd8aeb18cff072.bindPopup(popup_6cc09ccf1e6b9dab2e11a85dd9043e09)\n",
       "        ;\n",
       "\n",
       "        \n",
       "    \n",
       "    \n",
       "            var marker_bd103ba029100345089b7156d35cd32b = L.marker(\n",
       "                [23.14057504472214, -82.35175624751082],\n",
       "                {\n",
       "}\n",
       "            ).addTo(map_925613df095e17c33a5b049f8b266fd0);\n",
       "        \n",
       "    \n",
       "            var icon_607e6eaff7f159e3827853ab99ef93cf = L.AwesomeMarkers.icon(\n",
       "                {\n",
       "  &quot;markerColor&quot;: &quot;red&quot;,\n",
       "  &quot;iconColor&quot;: &quot;white&quot;,\n",
       "  &quot;icon&quot;: &quot;cutlery&quot;,\n",
       "  &quot;prefix&quot;: &quot;fa&quot;,\n",
       "  &quot;extraClasses&quot;: &quot;fa-rotate-0&quot;,\n",
       "}\n",
       "            );\n",
       "            marker_bd103ba029100345089b7156d35cd32b.setIcon(icon_607e6eaff7f159e3827853ab99ef93cf);\n",
       "        \n",
       "    \n",
       "        var popup_15958c0f9fe082a36da6505439d46a20 = L.popup({\n",
       "  &quot;maxWidth&quot;: &quot;100%&quot;,\n",
       "});\n",
       "\n",
       "        \n",
       "            \n",
       "                var html_c5bb16e497d5075f88376b9288c678d4 = $(`&lt;div id=&quot;html_c5bb16e497d5075f88376b9288c678d4&quot; style=&quot;width: 100.0%; height: 100.0%;&quot;&gt;(&quot;&lt;b style=&#x27;font-size: 18px; &#x27;&gt;Casa Roma 1860&lt;/b&gt;&lt;br&gt;Direccion: San Ignacio No 68 / O Reilly y Empedrado.Callejon del chorro&quot;, &quot;Especialidades: [&#x27;Criolla&#x27;]&quot;)&lt;/div&gt;`)[0];\n",
       "                popup_15958c0f9fe082a36da6505439d46a20.setContent(html_c5bb16e497d5075f88376b9288c678d4);\n",
       "            \n",
       "        \n",
       "\n",
       "        marker_bd103ba029100345089b7156d35cd32b.bindPopup(popup_15958c0f9fe082a36da6505439d46a20)\n",
       "        ;\n",
       "\n",
       "        \n",
       "    \n",
       "    \n",
       "            var marker_f84786bb54cf36b9490d3fa35e0411f8 = L.marker(\n",
       "                [23.14287158318666, -82.39913605698585],\n",
       "                {\n",
       "}\n",
       "            ).addTo(map_925613df095e17c33a5b049f8b266fd0);\n",
       "        \n",
       "    \n",
       "            var icon_165d92ace0ac66bb858c41b73f83d605 = L.AwesomeMarkers.icon(\n",
       "                {\n",
       "  &quot;markerColor&quot;: &quot;red&quot;,\n",
       "  &quot;iconColor&quot;: &quot;white&quot;,\n",
       "  &quot;icon&quot;: &quot;cutlery&quot;,\n",
       "  &quot;prefix&quot;: &quot;fa&quot;,\n",
       "  &quot;extraClasses&quot;: &quot;fa-rotate-0&quot;,\n",
       "}\n",
       "            );\n",
       "            marker_f84786bb54cf36b9490d3fa35e0411f8.setIcon(icon_165d92ace0ac66bb858c41b73f83d605);\n",
       "        \n",
       "    \n",
       "        var popup_65416605f52efeb884a5ba4af99c6934 = L.popup({\n",
       "  &quot;maxWidth&quot;: &quot;100%&quot;,\n",
       "});\n",
       "\n",
       "        \n",
       "            \n",
       "                var html_a3dd6366224ab8146532243421073681 = $(`&lt;div id=&quot;html_a3dd6366224ab8146532243421073681&quot; style=&quot;width: 100.0%; height: 100.0%;&quot;&gt;(&quot;&lt;b style=&#x27;font-size: 18px; &#x27;&gt;Casa Mia&lt;/b&gt;&lt;br&gt;Direccion: Calle 1ra, No.103, entre C y D, Vedado&quot;, &quot;Especialidades: [&#x27;Comida Caribeña&#x27;, &#x27;latina&#x27;, &#x27;saludable&#x27;, &#x27;cubana&#x27;, &#x27;internacional&#x27;, &#x27;mariscos&#x27;]&quot;)&lt;/div&gt;`)[0];\n",
       "                popup_65416605f52efeb884a5ba4af99c6934.setContent(html_a3dd6366224ab8146532243421073681);\n",
       "            \n",
       "        \n",
       "\n",
       "        marker_f84786bb54cf36b9490d3fa35e0411f8.bindPopup(popup_65416605f52efeb884a5ba4af99c6934)\n",
       "        ;\n",
       "\n",
       "        \n",
       "    \n",
       "    \n",
       "            var marker_6950408d31148b08995cde6b309069d4 = L.marker(\n",
       "                [23.140862822677907, -82.35652410537521],\n",
       "                {\n",
       "}\n",
       "            ).addTo(map_925613df095e17c33a5b049f8b266fd0);\n",
       "        \n",
       "    \n",
       "            var icon_6a4b9cea3872830f6372c1625f0f0715 = L.AwesomeMarkers.icon(\n",
       "                {\n",
       "  &quot;markerColor&quot;: &quot;red&quot;,\n",
       "  &quot;iconColor&quot;: &quot;white&quot;,\n",
       "  &quot;icon&quot;: &quot;cutlery&quot;,\n",
       "  &quot;prefix&quot;: &quot;fa&quot;,\n",
       "  &quot;extraClasses&quot;: &quot;fa-rotate-0&quot;,\n",
       "}\n",
       "            );\n",
       "            marker_6950408d31148b08995cde6b309069d4.setIcon(icon_6a4b9cea3872830f6372c1625f0f0715);\n",
       "        \n",
       "    \n",
       "        var popup_55fdef463bd1e0d8438f5068b441b9b6 = L.popup({\n",
       "  &quot;maxWidth&quot;: &quot;100%&quot;,\n",
       "});\n",
       "\n",
       "        \n",
       "            \n",
       "                var html_602ea1d321b6164992c6b7b0d0682249 = $(`&lt;div id=&quot;html_602ea1d321b6164992c6b7b0d0682249&quot; style=&quot;width: 100.0%; height: 100.0%;&quot;&gt;(&quot;&lt;b style=&#x27;font-size: 18px; &#x27;&gt;ChaChaChá&lt;/b&gt;&lt;br&gt;Direccion: Monserrate # 159 e/ Tejadillo y Chacón&quot;, &quot;Especialidades: [&#x27;Comida Internacional&#x27;, &#x27;Fusión&#x27;, &#x27;Cubana&#x27;]&quot;)&lt;/div&gt;`)[0];\n",
       "                popup_55fdef463bd1e0d8438f5068b441b9b6.setContent(html_602ea1d321b6164992c6b7b0d0682249);\n",
       "            \n",
       "        \n",
       "\n",
       "        marker_6950408d31148b08995cde6b309069d4.bindPopup(popup_55fdef463bd1e0d8438f5068b441b9b6)\n",
       "        ;\n",
       "\n",
       "        \n",
       "    \n",
       "    \n",
       "            var marker_16d8c4f1bf10ed45eeeecbaa6b9417ec = L.marker(\n",
       "                [23.1310792818174, -82.4048009798343],\n",
       "                {\n",
       "}\n",
       "            ).addTo(map_925613df095e17c33a5b049f8b266fd0);\n",
       "        \n",
       "    \n",
       "            var icon_e45559ab5cbdd6d5f05f002c99e48341 = L.AwesomeMarkers.icon(\n",
       "                {\n",
       "  &quot;markerColor&quot;: &quot;red&quot;,\n",
       "  &quot;iconColor&quot;: &quot;white&quot;,\n",
       "  &quot;icon&quot;: &quot;cutlery&quot;,\n",
       "  &quot;prefix&quot;: &quot;fa&quot;,\n",
       "  &quot;extraClasses&quot;: &quot;fa-rotate-0&quot;,\n",
       "}\n",
       "            );\n",
       "            marker_16d8c4f1bf10ed45eeeecbaa6b9417ec.setIcon(icon_e45559ab5cbdd6d5f05f002c99e48341);\n",
       "        \n",
       "    \n",
       "        var popup_6f9d632d9e2924fbc6f0605300c049c4 = L.popup({\n",
       "  &quot;maxWidth&quot;: &quot;100%&quot;,\n",
       "});\n",
       "\n",
       "        \n",
       "            \n",
       "                var html_83efee74f4c40c0f1d262557bdbffa20 = $(`&lt;div id=&quot;html_83efee74f4c40c0f1d262557bdbffa20&quot; style=&quot;width: 100.0%; height: 100.0%;&quot;&gt;(&quot;&lt;b style=&#x27;font-size: 18px; &#x27;&gt;Coco Blue&lt;/b&gt;&lt;br&gt;Direccion: entre 11 y 13 Vedado, 112 Calle 14&quot;, &quot;Especialidades: [&#x27;Caribeña&#x27;, &#x27;Bar&#x27;, &#x27;Café&#x27;, &#x27;Pub&#x27;, &#x27;Cubana&#x27;]&quot;)&lt;/div&gt;`)[0];\n",
       "                popup_6f9d632d9e2924fbc6f0605300c049c4.setContent(html_83efee74f4c40c0f1d262557bdbffa20);\n",
       "            \n",
       "        \n",
       "\n",
       "        marker_16d8c4f1bf10ed45eeeecbaa6b9417ec.bindPopup(popup_6f9d632d9e2924fbc6f0605300c049c4)\n",
       "        ;\n",
       "\n",
       "        \n",
       "    \n",
       "    \n",
       "            var marker_cec2a0c0828a163677da9da2e2e3ff35 = L.marker(\n",
       "                [23.13713706188433, -82.36148787289606],\n",
       "                {\n",
       "}\n",
       "            ).addTo(map_925613df095e17c33a5b049f8b266fd0);\n",
       "        \n",
       "    \n",
       "            var icon_b514407ab59656ffa5195921ea090340 = L.AwesomeMarkers.icon(\n",
       "                {\n",
       "  &quot;markerColor&quot;: &quot;red&quot;,\n",
       "  &quot;iconColor&quot;: &quot;white&quot;,\n",
       "  &quot;icon&quot;: &quot;cutlery&quot;,\n",
       "  &quot;prefix&quot;: &quot;fa&quot;,\n",
       "  &quot;extraClasses&quot;: &quot;fa-rotate-0&quot;,\n",
       "}\n",
       "            );\n",
       "            marker_cec2a0c0828a163677da9da2e2e3ff35.setIcon(icon_b514407ab59656ffa5195921ea090340);\n",
       "        \n",
       "    \n",
       "        var popup_23b26970529ac5ccf9e46056ffec5ed3 = L.popup({\n",
       "  &quot;maxWidth&quot;: &quot;100%&quot;,\n",
       "});\n",
       "\n",
       "        \n",
       "            \n",
       "                var html_3a77ecd21716df32397594923687d3dc = $(`&lt;div id=&quot;html_3a77ecd21716df32397594923687d3dc&quot; style=&quot;width: 100.0%; height: 100.0%;&quot;&gt;(&quot;&lt;b style=&#x27;font-size: 18px; &#x27;&gt;Cohmar Cafe&lt;/b&gt;&lt;br&gt;Direccion: Boulevard de San Rafael, &amp; Amistad&quot;, &quot;Especialidades: [&#x27;criolla&#x27;, &#x27;internacional&#x27;, &#x27;cubana&#x27;]&quot;)&lt;/div&gt;`)[0];\n",
       "                popup_23b26970529ac5ccf9e46056ffec5ed3.setContent(html_3a77ecd21716df32397594923687d3dc);\n",
       "            \n",
       "        \n",
       "\n",
       "        marker_cec2a0c0828a163677da9da2e2e3ff35.bindPopup(popup_23b26970529ac5ccf9e46056ffec5ed3)\n",
       "        ;\n",
       "\n",
       "        \n",
       "    \n",
       "    \n",
       "            var marker_af52990b8afc7cedcbaa82f6f2255667 = L.marker(\n",
       "                [23.071073169539453, -82.43552727449875],\n",
       "                {\n",
       "}\n",
       "            ).addTo(map_925613df095e17c33a5b049f8b266fd0);\n",
       "        \n",
       "    \n",
       "            var icon_fefecb038542bd77d217fc211ebc69ee = L.AwesomeMarkers.icon(\n",
       "                {\n",
       "  &quot;markerColor&quot;: &quot;red&quot;,\n",
       "  &quot;iconColor&quot;: &quot;white&quot;,\n",
       "  &quot;icon&quot;: &quot;cutlery&quot;,\n",
       "  &quot;prefix&quot;: &quot;fa&quot;,\n",
       "  &quot;extraClasses&quot;: &quot;fa-rotate-0&quot;,\n",
       "}\n",
       "            );\n",
       "            marker_af52990b8afc7cedcbaa82f6f2255667.setIcon(icon_fefecb038542bd77d217fc211ebc69ee);\n",
       "        \n",
       "    \n",
       "        var popup_8e92ba7c8c501725a479b7fda3a41b27 = L.popup({\n",
       "  &quot;maxWidth&quot;: &quot;100%&quot;,\n",
       "});\n",
       "\n",
       "        \n",
       "            \n",
       "                var html_8279681c015b210ccbc684b6527adf2c = $(`&lt;div id=&quot;html_8279681c015b210ccbc684b6527adf2c&quot; style=&quot;width: 100.0%; height: 100.0%;&quot;&gt;(&quot;&lt;b style=&#x27;font-size: 18px; &#x27;&gt;Colesterol 5.1&lt;/b&gt;&lt;br&gt;Direccion: Avenida 51 entre 134 y 136&quot;, &quot;Especialidades: [&#x27;cubana&#x27;, &#x27;italiana&#x27;, &#x27;internacional&#x27;]&quot;)&lt;/div&gt;`)[0];\n",
       "                popup_8e92ba7c8c501725a479b7fda3a41b27.setContent(html_8279681c015b210ccbc684b6527adf2c);\n",
       "            \n",
       "        \n",
       "\n",
       "        marker_af52990b8afc7cedcbaa82f6f2255667.bindPopup(popup_8e92ba7c8c501725a479b7fda3a41b27)\n",
       "        ;\n",
       "\n",
       "        \n",
       "    \n",
       "    \n",
       "            var marker_82ec29184219271ecc1095e556e4b1f6 = L.marker(\n",
       "                [23.05213364329506, -82.33209177284725],\n",
       "                {\n",
       "}\n",
       "            ).addTo(map_925613df095e17c33a5b049f8b266fd0);\n",
       "        \n",
       "    \n",
       "            var icon_d379459f11ad00be113c409ff0f41e9f = L.AwesomeMarkers.icon(\n",
       "                {\n",
       "  &quot;markerColor&quot;: &quot;red&quot;,\n",
       "  &quot;iconColor&quot;: &quot;white&quot;,\n",
       "  &quot;icon&quot;: &quot;cutlery&quot;,\n",
       "  &quot;prefix&quot;: &quot;fa&quot;,\n",
       "  &quot;extraClasses&quot;: &quot;fa-rotate-0&quot;,\n",
       "}\n",
       "            );\n",
       "            marker_82ec29184219271ecc1095e556e4b1f6.setIcon(icon_d379459f11ad00be113c409ff0f41e9f);\n",
       "        \n",
       "    \n",
       "        var popup_d2e13e67af18acb85d3450230851acdc = L.popup({\n",
       "  &quot;maxWidth&quot;: &quot;100%&quot;,\n",
       "});\n",
       "\n",
       "        \n",
       "            \n",
       "                var html_af117a4833eb7215c68565fe72ef9e95 = $(`&lt;div id=&quot;html_af117a4833eb7215c68565fe72ef9e95&quot; style=&quot;width: 100.0%; height: 100.0%;&quot;&gt;(&quot;&lt;b style=&#x27;font-size: 18px; &#x27;&gt;Comida Criolla Ocho Vías&lt;/b&gt;&lt;br&gt;Direccion: Avenida 1er Anillo 3km despues de San Agustin&quot;, &quot;Especialidades: [&#x27;cubana&#x27;]&quot;)&lt;/div&gt;`)[0];\n",
       "                popup_d2e13e67af18acb85d3450230851acdc.setContent(html_af117a4833eb7215c68565fe72ef9e95);\n",
       "            \n",
       "        \n",
       "\n",
       "        marker_82ec29184219271ecc1095e556e4b1f6.bindPopup(popup_d2e13e67af18acb85d3450230851acdc)\n",
       "        ;\n",
       "\n",
       "        \n",
       "    \n",
       "    \n",
       "            var marker_c7e5d92f2d3ab2a9bf9989ae51f39a95 = L.marker(\n",
       "                [23.08919134492609, -82.37611427712088],\n",
       "                {\n",
       "}\n",
       "            ).addTo(map_925613df095e17c33a5b049f8b266fd0);\n",
       "        \n",
       "    \n",
       "            var icon_4bc0a565c22645cec4dff69ba5f1d395 = L.AwesomeMarkers.icon(\n",
       "                {\n",
       "  &quot;markerColor&quot;: &quot;red&quot;,\n",
       "  &quot;iconColor&quot;: &quot;white&quot;,\n",
       "  &quot;icon&quot;: &quot;cutlery&quot;,\n",
       "  &quot;prefix&quot;: &quot;fa&quot;,\n",
       "  &quot;extraClasses&quot;: &quot;fa-rotate-0&quot;,\n",
       "}\n",
       "            );\n",
       "            marker_c7e5d92f2d3ab2a9bf9989ae51f39a95.setIcon(icon_4bc0a565c22645cec4dff69ba5f1d395);\n",
       "        \n",
       "    \n",
       "        var popup_1ac3780a44a2047fbf09bdef940addc4 = L.popup({\n",
       "  &quot;maxWidth&quot;: &quot;100%&quot;,\n",
       "});\n",
       "\n",
       "        \n",
       "            \n",
       "                var html_31496105049ddc736f28f6a352fd78e1 = $(`&lt;div id=&quot;html_31496105049ddc736f28f6a352fd78e1&quot; style=&quot;width: 100.0%; height: 100.0%;&quot;&gt;(&quot;&lt;b style=&#x27;font-size: 18px; &#x27;&gt;Crispy Chicken&lt;/b&gt;&lt;br&gt;Direccion: Avenida de Acosta y Juan Delgado, Víbora&quot;, &quot;Especialidades: [&#x27;criolla&#x27;, &#x27;cubana&#x27;, &#x27;internacional&#x27;]&quot;)&lt;/div&gt;`)[0];\n",
       "                popup_1ac3780a44a2047fbf09bdef940addc4.setContent(html_31496105049ddc736f28f6a352fd78e1);\n",
       "            \n",
       "        \n",
       "\n",
       "        marker_c7e5d92f2d3ab2a9bf9989ae51f39a95.bindPopup(popup_1ac3780a44a2047fbf09bdef940addc4)\n",
       "        ;\n",
       "\n",
       "        \n",
       "    \n",
       "    \n",
       "            var marker_5e3db2201dedf1844fbfcbcc3b8c2cea = L.marker(\n",
       "                [23.046144807035024, -82.27016561299135],\n",
       "                {\n",
       "}\n",
       "            ).addTo(map_925613df095e17c33a5b049f8b266fd0);\n",
       "        \n",
       "    \n",
       "            var icon_cc09e0356382f2923e1eac4023120506 = L.AwesomeMarkers.icon(\n",
       "                {\n",
       "  &quot;markerColor&quot;: &quot;red&quot;,\n",
       "  &quot;iconColor&quot;: &quot;white&quot;,\n",
       "  &quot;icon&quot;: &quot;cutlery&quot;,\n",
       "  &quot;prefix&quot;: &quot;fa&quot;,\n",
       "  &quot;extraClasses&quot;: &quot;fa-rotate-0&quot;,\n",
       "}\n",
       "            );\n",
       "            marker_5e3db2201dedf1844fbfcbcc3b8c2cea.setIcon(icon_cc09e0356382f2923e1eac4023120506);\n",
       "        \n",
       "    \n",
       "        var popup_5cfd574327db9648b9d85ec5049c0837 = L.popup({\n",
       "  &quot;maxWidth&quot;: &quot;100%&quot;,\n",
       "});\n",
       "\n",
       "        \n",
       "            \n",
       "                var html_75b9d59b2ec3057562b51903626c240e = $(`&lt;div id=&quot;html_75b9d59b2ec3057562b51903626c240e&quot; style=&quot;width: 100.0%; height: 100.0%;&quot;&gt;(&quot;&lt;b style=&#x27;font-size: 18px; &#x27;&gt;Crystal&lt;/b&gt;&lt;br&gt;Direccion: Avenida 101 entre 18 y 20 centro cotorro&quot;, &quot;Especialidades: [&#x27;Mixta, criolla&#x27;]&quot;)&lt;/div&gt;`)[0];\n",
       "                popup_5cfd574327db9648b9d85ec5049c0837.setContent(html_75b9d59b2ec3057562b51903626c240e);\n",
       "            \n",
       "        \n",
       "\n",
       "        marker_5e3db2201dedf1844fbfcbcc3b8c2cea.bindPopup(popup_5cfd574327db9648b9d85ec5049c0837)\n",
       "        ;\n",
       "\n",
       "        \n",
       "    \n",
       "    \n",
       "            var marker_d3df68cc4e27929f5db418e38f033389 = L.marker(\n",
       "                [23.13672770195526, -82.39997277634649],\n",
       "                {\n",
       "}\n",
       "            ).addTo(map_925613df095e17c33a5b049f8b266fd0);\n",
       "        \n",
       "    \n",
       "            var icon_055d5ce76cd6eaf83f632f91261eadde = L.AwesomeMarkers.icon(\n",
       "                {\n",
       "  &quot;markerColor&quot;: &quot;red&quot;,\n",
       "  &quot;iconColor&quot;: &quot;white&quot;,\n",
       "  &quot;icon&quot;: &quot;cutlery&quot;,\n",
       "  &quot;prefix&quot;: &quot;fa&quot;,\n",
       "  &quot;extraClasses&quot;: &quot;fa-rotate-0&quot;,\n",
       "}\n",
       "            );\n",
       "            marker_d3df68cc4e27929f5db418e38f033389.setIcon(icon_055d5ce76cd6eaf83f632f91261eadde);\n",
       "        \n",
       "    \n",
       "        var popup_8980dd8d4f6c8d1f4b1c3eabc98e67b9 = L.popup({\n",
       "  &quot;maxWidth&quot;: &quot;100%&quot;,\n",
       "});\n",
       "\n",
       "        \n",
       "            \n",
       "                var html_13584be88db86ecea7cc1ad27275768e = $(`&lt;div id=&quot;html_13584be88db86ecea7cc1ad27275768e&quot; style=&quot;width: 100.0%; height: 100.0%;&quot;&gt;(&quot;&lt;b style=&#x27;font-size: 18px; &#x27;&gt;Decameron&lt;/b&gt;&lt;br&gt;Direccion: Calle LLnea entre Paseo y 2, Vedado&quot;, &quot;Especialidades: [&#x27;Comida caribeña&#x27;, &#x27;cubana&#x27;, &#x27;saludable&#x27;, &#x27;fusion&#x27;]&quot;)&lt;/div&gt;`)[0];\n",
       "                popup_8980dd8d4f6c8d1f4b1c3eabc98e67b9.setContent(html_13584be88db86ecea7cc1ad27275768e);\n",
       "            \n",
       "        \n",
       "\n",
       "        marker_d3df68cc4e27929f5db418e38f033389.bindPopup(popup_8980dd8d4f6c8d1f4b1c3eabc98e67b9)\n",
       "        ;\n",
       "\n",
       "        \n",
       "    \n",
       "    \n",
       "            var marker_3acfc957a1c4006ad0d7ddbb5db04dd1 = L.marker(\n",
       "                [23.139889002366708, -82.38110916178115],\n",
       "                {\n",
       "}\n",
       "            ).addTo(map_925613df095e17c33a5b049f8b266fd0);\n",
       "        \n",
       "    \n",
       "            var icon_746123d461af8f6c098358a28ddcc271 = L.AwesomeMarkers.icon(\n",
       "                {\n",
       "  &quot;markerColor&quot;: &quot;red&quot;,\n",
       "  &quot;iconColor&quot;: &quot;white&quot;,\n",
       "  &quot;icon&quot;: &quot;cutlery&quot;,\n",
       "  &quot;prefix&quot;: &quot;fa&quot;,\n",
       "  &quot;extraClasses&quot;: &quot;fa-rotate-0&quot;,\n",
       "}\n",
       "            );\n",
       "            marker_3acfc957a1c4006ad0d7ddbb5db04dd1.setIcon(icon_746123d461af8f6c098358a28ddcc271);\n",
       "        \n",
       "    \n",
       "        var popup_dce71b0d8ac800b13003b15c172f60d0 = L.popup({\n",
       "  &quot;maxWidth&quot;: &quot;100%&quot;,\n",
       "});\n",
       "\n",
       "        \n",
       "            \n",
       "                var html_c0cf41cb962395cbee16a11f1695390c = $(`&lt;div id=&quot;html_c0cf41cb962395cbee16a11f1695390c&quot; style=&quot;width: 100.0%; height: 100.0%;&quot;&gt;(&quot;&lt;b style=&#x27;font-size: 18px; &#x27;&gt;Distrito 25&lt;/b&gt;&lt;br&gt;Direccion: Calle 25 entre M y N, Vedado&quot;, &quot;Especialidades: [&#x27;Comida mexicana&#x27;]&quot;)&lt;/div&gt;`)[0];\n",
       "                popup_dce71b0d8ac800b13003b15c172f60d0.setContent(html_c0cf41cb962395cbee16a11f1695390c);\n",
       "            \n",
       "        \n",
       "\n",
       "        marker_3acfc957a1c4006ad0d7ddbb5db04dd1.bindPopup(popup_dce71b0d8ac800b13003b15c172f60d0)\n",
       "        ;\n",
       "\n",
       "        \n",
       "    \n",
       "    \n",
       "            var marker_ea6affcca6d7d0fd49783476866cd58b = L.marker(\n",
       "                [23.098641623513977, -82.36221985109562],\n",
       "                {\n",
       "}\n",
       "            ).addTo(map_925613df095e17c33a5b049f8b266fd0);\n",
       "        \n",
       "    \n",
       "            var icon_3abe826bfc0ee6ebf90adef61070e773 = L.AwesomeMarkers.icon(\n",
       "                {\n",
       "  &quot;markerColor&quot;: &quot;red&quot;,\n",
       "  &quot;iconColor&quot;: &quot;white&quot;,\n",
       "  &quot;icon&quot;: &quot;cutlery&quot;,\n",
       "  &quot;prefix&quot;: &quot;fa&quot;,\n",
       "  &quot;extraClasses&quot;: &quot;fa-rotate-0&quot;,\n",
       "}\n",
       "            );\n",
       "            marker_ea6affcca6d7d0fd49783476866cd58b.setIcon(icon_3abe826bfc0ee6ebf90adef61070e773);\n",
       "        \n",
       "    \n",
       "        var popup_a31cd2183f19ede92c2734f191225cf5 = L.popup({\n",
       "  &quot;maxWidth&quot;: &quot;100%&quot;,\n",
       "});\n",
       "\n",
       "        \n",
       "            \n",
       "                var html_7ef50366c6160f9e15e646431710b63b = $(`&lt;div id=&quot;html_7ef50366c6160f9e15e646431710b63b&quot; style=&quot;width: 100.0%; height: 100.0%;&quot;&gt;(&quot;&lt;b style=&#x27;font-size: 18px; &#x27;&gt;Diverxo&lt;/b&gt;&lt;br&gt;Direccion: Calzada de 10 de octubre #904 entre Luz Oeste y Lacret&quot;, &quot;Especialidades: [&#x27;cubana&#x27;]&quot;)&lt;/div&gt;`)[0];\n",
       "                popup_a31cd2183f19ede92c2734f191225cf5.setContent(html_7ef50366c6160f9e15e646431710b63b);\n",
       "            \n",
       "        \n",
       "\n",
       "        marker_ea6affcca6d7d0fd49783476866cd58b.bindPopup(popup_a31cd2183f19ede92c2734f191225cf5)\n",
       "        ;\n",
       "\n",
       "        \n",
       "    \n",
       "    \n",
       "            var marker_2b66ce338cca197dfb26f9e784bb98d0 = L.marker(\n",
       "                [23.149840788441544, -82.3560208170218],\n",
       "                {\n",
       "}\n",
       "            ).addTo(map_925613df095e17c33a5b049f8b266fd0);\n",
       "        \n",
       "    \n",
       "            var icon_70c04d2978d329bfa353b95aafd7b7b0 = L.AwesomeMarkers.icon(\n",
       "                {\n",
       "  &quot;markerColor&quot;: &quot;red&quot;,\n",
       "  &quot;iconColor&quot;: &quot;white&quot;,\n",
       "  &quot;icon&quot;: &quot;cutlery&quot;,\n",
       "  &quot;prefix&quot;: &quot;fa&quot;,\n",
       "  &quot;extraClasses&quot;: &quot;fa-rotate-0&quot;,\n",
       "}\n",
       "            );\n",
       "            marker_2b66ce338cca197dfb26f9e784bb98d0.setIcon(icon_70c04d2978d329bfa353b95aafd7b7b0);\n",
       "        \n",
       "    \n",
       "        var popup_3141bcc7f8014ff26e2218e74ce851b8 = L.popup({\n",
       "  &quot;maxWidth&quot;: &quot;100%&quot;,\n",
       "});\n",
       "\n",
       "        \n",
       "            \n",
       "                var html_fdece90649444981b62f47bb09089ece = $(`&lt;div id=&quot;html_fdece90649444981b62f47bb09089ece&quot; style=&quot;width: 100.0%; height: 100.0%;&quot;&gt;(&quot;&lt;b style=&#x27;font-size: 18px; &#x27;&gt;Los Doce Apostoles&lt;/b&gt;&lt;br&gt;Direccion: Complejo Morro Cabana,Via Monumental&quot;, &#x27;Especialidades: []&#x27;)&lt;/div&gt;`)[0];\n",
       "                popup_3141bcc7f8014ff26e2218e74ce851b8.setContent(html_fdece90649444981b62f47bb09089ece);\n",
       "            \n",
       "        \n",
       "\n",
       "        marker_2b66ce338cca197dfb26f9e784bb98d0.bindPopup(popup_3141bcc7f8014ff26e2218e74ce851b8)\n",
       "        ;\n",
       "\n",
       "        \n",
       "    \n",
       "    \n",
       "            var marker_6e7b1b02ee8d8df063314de6e9066b8f = L.marker(\n",
       "                [23.07542277636338, -82.3589195783884],\n",
       "                {\n",
       "}\n",
       "            ).addTo(map_925613df095e17c33a5b049f8b266fd0);\n",
       "        \n",
       "    \n",
       "            var icon_f960ad8e0e7a54165228a91ee4764ad6 = L.AwesomeMarkers.icon(\n",
       "                {\n",
       "  &quot;markerColor&quot;: &quot;red&quot;,\n",
       "  &quot;iconColor&quot;: &quot;white&quot;,\n",
       "  &quot;icon&quot;: &quot;cutlery&quot;,\n",
       "  &quot;prefix&quot;: &quot;fa&quot;,\n",
       "  &quot;extraClasses&quot;: &quot;fa-rotate-0&quot;,\n",
       "}\n",
       "            );\n",
       "            marker_6e7b1b02ee8d8df063314de6e9066b8f.setIcon(icon_f960ad8e0e7a54165228a91ee4764ad6);\n",
       "        \n",
       "    \n",
       "        var popup_6913ccb65a57ce4b0bd8db7f327f34e4 = L.popup({\n",
       "  &quot;maxWidth&quot;: &quot;100%&quot;,\n",
       "});\n",
       "\n",
       "        \n",
       "            \n",
       "                var html_165a3d2fce231dba6e53ca84b394458e = $(`&lt;div id=&quot;html_165a3d2fce231dba6e53ca84b394458e&quot; style=&quot;width: 100.0%; height: 100.0%;&quot;&gt;(&quot;&lt;b style=&#x27;font-size: 18px; &#x27;&gt;Don Burguer&lt;/b&gt;&lt;br&gt;Direccion: Calzada de 10 de Octubre, entre  Aranguren y Santa Isabel, La Palma&quot;, &quot;Especialidades: [&#x27;cubana&#x27;]&quot;)&lt;/div&gt;`)[0];\n",
       "                popup_6913ccb65a57ce4b0bd8db7f327f34e4.setContent(html_165a3d2fce231dba6e53ca84b394458e);\n",
       "            \n",
       "        \n",
       "\n",
       "        marker_6e7b1b02ee8d8df063314de6e9066b8f.bindPopup(popup_6913ccb65a57ce4b0bd8db7f327f34e4)\n",
       "        ;\n",
       "\n",
       "        \n",
       "    \n",
       "    \n",
       "            var marker_13d2ac2c71016de19c3877dea67aa3c6 = L.marker(\n",
       "                [23.077891178709717, -82.31931897477418],\n",
       "                {\n",
       "}\n",
       "            ).addTo(map_925613df095e17c33a5b049f8b266fd0);\n",
       "        \n",
       "    \n",
       "            var icon_fa00a89c8e67ec75b4d59dbf48a11899 = L.AwesomeMarkers.icon(\n",
       "                {\n",
       "  &quot;markerColor&quot;: &quot;red&quot;,\n",
       "  &quot;iconColor&quot;: &quot;white&quot;,\n",
       "  &quot;icon&quot;: &quot;cutlery&quot;,\n",
       "  &quot;prefix&quot;: &quot;fa&quot;,\n",
       "  &quot;extraClasses&quot;: &quot;fa-rotate-0&quot;,\n",
       "}\n",
       "            );\n",
       "            marker_13d2ac2c71016de19c3877dea67aa3c6.setIcon(icon_fa00a89c8e67ec75b4d59dbf48a11899);\n",
       "        \n",
       "    \n",
       "        var popup_4d19c8bd54ce7a04412dbb27856257b0 = L.popup({\n",
       "  &quot;maxWidth&quot;: &quot;100%&quot;,\n",
       "});\n",
       "\n",
       "        \n",
       "            \n",
       "                var html_5c3d125a47a692c59c85afbd439aadd6 = $(`&lt;div id=&quot;html_5c3d125a47a692c59c85afbd439aadd6&quot; style=&quot;width: 100.0%; height: 100.0%;&quot;&gt;(&quot;&lt;b style=&#x27;font-size: 18px; &#x27;&gt;Don Timbon&lt;/b&gt;&lt;br&gt;Direccion: cerca cjon. La Flora&quot;, &quot;Especialidades: [&#x27;italiana&#x27;]&quot;)&lt;/div&gt;`)[0];\n",
       "                popup_4d19c8bd54ce7a04412dbb27856257b0.setContent(html_5c3d125a47a692c59c85afbd439aadd6);\n",
       "            \n",
       "        \n",
       "\n",
       "        marker_13d2ac2c71016de19c3877dea67aa3c6.bindPopup(popup_4d19c8bd54ce7a04412dbb27856257b0)\n",
       "        ;\n",
       "\n",
       "        \n",
       "    \n",
       "    \n",
       "            var marker_eaf6a935f1819ba00d10e1fb37796fbd = L.marker(\n",
       "                [23.133178519943957, -82.3706256209112],\n",
       "                {\n",
       "}\n",
       "            ).addTo(map_925613df095e17c33a5b049f8b266fd0);\n",
       "        \n",
       "    \n",
       "            var icon_4cf23af1c12774fbd223d0006c0f8a53 = L.AwesomeMarkers.icon(\n",
       "                {\n",
       "  &quot;markerColor&quot;: &quot;red&quot;,\n",
       "  &quot;iconColor&quot;: &quot;white&quot;,\n",
       "  &quot;icon&quot;: &quot;cutlery&quot;,\n",
       "  &quot;prefix&quot;: &quot;fa&quot;,\n",
       "  &quot;extraClasses&quot;: &quot;fa-rotate-0&quot;,\n",
       "}\n",
       "            );\n",
       "            marker_eaf6a935f1819ba00d10e1fb37796fbd.setIcon(icon_4cf23af1c12774fbd223d0006c0f8a53);\n",
       "        \n",
       "    \n",
       "        var popup_c11317eec26115135646d9793d63e672 = L.popup({\n",
       "  &quot;maxWidth&quot;: &quot;100%&quot;,\n",
       "});\n",
       "\n",
       "        \n",
       "            \n",
       "                var html_0624927d6ab4314f38a1c31d7418f5e5 = $(`&lt;div id=&quot;html_0624927d6ab4314f38a1c31d7418f5e5&quot; style=&quot;width: 100.0%; height: 100.0%;&quot;&gt;(&quot;&lt;b style=&#x27;font-size: 18px; &#x27;&gt;Dona Alicia&lt;/b&gt;&lt;br&gt;Direccion:  Calle Reina esq, Padre Varela&quot;, &quot;Especialidades: [&#x27;Criolla&#x27;, &#x27;cubana&#x27;, &#x27;internacional&#x27;, &#x27;italiana&#x27;]&quot;)&lt;/div&gt;`)[0];\n",
       "                popup_c11317eec26115135646d9793d63e672.setContent(html_0624927d6ab4314f38a1c31d7418f5e5);\n",
       "            \n",
       "        \n",
       "\n",
       "        marker_eaf6a935f1819ba00d10e1fb37796fbd.bindPopup(popup_c11317eec26115135646d9793d63e672)\n",
       "        ;\n",
       "\n",
       "        \n",
       "    \n",
       "    \n",
       "            var marker_388b8e28e6653bc135a829386a8ef0f0 = L.marker(\n",
       "                [23.064390060079617, -82.37574330537674],\n",
       "                {\n",
       "}\n",
       "            ).addTo(map_925613df095e17c33a5b049f8b266fd0);\n",
       "        \n",
       "    \n",
       "            var icon_80ad51255a6eb1d1727e63c219d471ce = L.AwesomeMarkers.icon(\n",
       "                {\n",
       "  &quot;markerColor&quot;: &quot;red&quot;,\n",
       "  &quot;iconColor&quot;: &quot;white&quot;,\n",
       "  &quot;icon&quot;: &quot;cutlery&quot;,\n",
       "  &quot;prefix&quot;: &quot;fa&quot;,\n",
       "  &quot;extraClasses&quot;: &quot;fa-rotate-0&quot;,\n",
       "}\n",
       "            );\n",
       "            marker_388b8e28e6653bc135a829386a8ef0f0.setIcon(icon_80ad51255a6eb1d1727e63c219d471ce);\n",
       "        \n",
       "    \n",
       "        var popup_09bac05ec87e14804cd3b964c10dc0a2 = L.popup({\n",
       "  &quot;maxWidth&quot;: &quot;100%&quot;,\n",
       "});\n",
       "\n",
       "        \n",
       "            \n",
       "                var html_82492a9329494de092d9a25892ef5276 = $(`&lt;div id=&quot;html_82492a9329494de092d9a25892ef5276&quot; style=&quot;width: 100.0%; height: 100.0%;&quot;&gt;(&quot;&lt;b style=&#x27;font-size: 18px; &#x27;&gt;Dona Almira&lt;/b&gt;&lt;br&gt;Direccion: Calle Finlay No.979 % Avenida de Los Pinos y Fernandez de Castro&quot;, &quot;Especialidades: [&#x27;cubana&#x27;]&quot;)&lt;/div&gt;`)[0];\n",
       "                popup_09bac05ec87e14804cd3b964c10dc0a2.setContent(html_82492a9329494de092d9a25892ef5276);\n",
       "            \n",
       "        \n",
       "\n",
       "        marker_388b8e28e6653bc135a829386a8ef0f0.bindPopup(popup_09bac05ec87e14804cd3b964c10dc0a2)\n",
       "        ;\n",
       "\n",
       "        \n",
       "    \n",
       "    \n",
       "            var marker_27dfe12fa321c8c9ca409809044edf34 = L.marker(\n",
       "                [23.13720238720189, -82.37935390623745],\n",
       "                {\n",
       "}\n",
       "            ).addTo(map_925613df095e17c33a5b049f8b266fd0);\n",
       "        \n",
       "    \n",
       "            var icon_4219d619abfb1d4b8d2660174e86b2f7 = L.AwesomeMarkers.icon(\n",
       "                {\n",
       "  &quot;markerColor&quot;: &quot;red&quot;,\n",
       "  &quot;iconColor&quot;: &quot;white&quot;,\n",
       "  &quot;icon&quot;: &quot;cutlery&quot;,\n",
       "  &quot;prefix&quot;: &quot;fa&quot;,\n",
       "  &quot;extraClasses&quot;: &quot;fa-rotate-0&quot;,\n",
       "}\n",
       "            );\n",
       "            marker_27dfe12fa321c8c9ca409809044edf34.setIcon(icon_4219d619abfb1d4b8d2660174e86b2f7);\n",
       "        \n",
       "    \n",
       "        var popup_74702636a04f8679a9403f68cacfe496 = L.popup({\n",
       "  &quot;maxWidth&quot;: &quot;100%&quot;,\n",
       "});\n",
       "\n",
       "        \n",
       "            \n",
       "                var html_18ec4a8349d0c0d22168da4bbbbb2a54 = $(`&lt;div id=&quot;html_18ec4a8349d0c0d22168da4bbbbb2a54&quot; style=&quot;width: 100.0%; height: 100.0%;&quot;&gt;(&quot;&lt;b style=&#x27;font-size: 18px; &#x27;&gt;Doña Lis Pizza&lt;/b&gt;&lt;br&gt;Direccion: 1169 A Neptuno&quot;, &quot;Especialidades: [&#x27;Pizzas&#x27;]&quot;)&lt;/div&gt;`)[0];\n",
       "                popup_74702636a04f8679a9403f68cacfe496.setContent(html_18ec4a8349d0c0d22168da4bbbbb2a54);\n",
       "            \n",
       "        \n",
       "\n",
       "        marker_27dfe12fa321c8c9ca409809044edf34.bindPopup(popup_74702636a04f8679a9403f68cacfe496)\n",
       "        ;\n",
       "\n",
       "        \n",
       "    \n",
       "    \n",
       "            var marker_fcb1b4cc68cc5c6e2d7abd53aba256cc = L.marker(\n",
       "                [23.1026716054629, -82.34026837449797],\n",
       "                {\n",
       "}\n",
       "            ).addTo(map_925613df095e17c33a5b049f8b266fd0);\n",
       "        \n",
       "    \n",
       "            var icon_990a7fc504b7bbec3730869e0c5ad22c = L.AwesomeMarkers.icon(\n",
       "                {\n",
       "  &quot;markerColor&quot;: &quot;red&quot;,\n",
       "  &quot;iconColor&quot;: &quot;white&quot;,\n",
       "  &quot;icon&quot;: &quot;cutlery&quot;,\n",
       "  &quot;prefix&quot;: &quot;fa&quot;,\n",
       "  &quot;extraClasses&quot;: &quot;fa-rotate-0&quot;,\n",
       "}\n",
       "            );\n",
       "            marker_fcb1b4cc68cc5c6e2d7abd53aba256cc.setIcon(icon_990a7fc504b7bbec3730869e0c5ad22c);\n",
       "        \n",
       "    \n",
       "        var popup_07a4c0f186c1a7bcc72f0e492de7e4c4 = L.popup({\n",
       "  &quot;maxWidth&quot;: &quot;100%&quot;,\n",
       "});\n",
       "\n",
       "        \n",
       "            \n",
       "                var html_81402b0984f1a0848411e2277aca0a6a = $(`&lt;div id=&quot;html_81402b0984f1a0848411e2277aca0a6a&quot; style=&quot;width: 100.0%; height: 100.0%;&quot;&gt;(&quot;&lt;b style=&#x27;font-size: 18px; &#x27;&gt;Don Balbino s&lt;/b&gt;&lt;br&gt;Direccion: Calzada San Miguel del Padrón entre 8va y B&quot;, &quot;Especialidades: [&#x27;criolla&#x27;, &#x27;tapas&#x27;]&quot;)&lt;/div&gt;`)[0];\n",
       "                popup_07a4c0f186c1a7bcc72f0e492de7e4c4.setContent(html_81402b0984f1a0848411e2277aca0a6a);\n",
       "            \n",
       "        \n",
       "\n",
       "        marker_fcb1b4cc68cc5c6e2d7abd53aba256cc.bindPopup(popup_07a4c0f186c1a7bcc72f0e492de7e4c4)\n",
       "        ;\n",
       "\n",
       "        \n",
       "    \n",
       "    \n",
       "            var marker_2826a61f18c0771f570947f86fa7fea0 = L.marker(\n",
       "                [23.101766474956417, -82.37161130333365],\n",
       "                {\n",
       "}\n",
       "            ).addTo(map_925613df095e17c33a5b049f8b266fd0);\n",
       "        \n",
       "    \n",
       "            var icon_134aa61e99e436340fa7f5ddb494668e = L.AwesomeMarkers.icon(\n",
       "                {\n",
       "  &quot;markerColor&quot;: &quot;red&quot;,\n",
       "  &quot;iconColor&quot;: &quot;white&quot;,\n",
       "  &quot;icon&quot;: &quot;cutlery&quot;,\n",
       "  &quot;prefix&quot;: &quot;fa&quot;,\n",
       "  &quot;extraClasses&quot;: &quot;fa-rotate-0&quot;,\n",
       "}\n",
       "            );\n",
       "            marker_2826a61f18c0771f570947f86fa7fea0.setIcon(icon_134aa61e99e436340fa7f5ddb494668e);\n",
       "        \n",
       "    \n",
       "        var popup_0f538d424bbdd7c2d1d2cd72e075b072 = L.popup({\n",
       "  &quot;maxWidth&quot;: &quot;100%&quot;,\n",
       "});\n",
       "\n",
       "        \n",
       "            \n",
       "                var html_1d72176bdc48d2b5f5f2837336f2f96c = $(`&lt;div id=&quot;html_1d72176bdc48d2b5f5f2837336f2f96c&quot; style=&quot;width: 100.0%; height: 100.0%;&quot;&gt;(&quot;&lt;b style=&#x27;font-size: 18px; &#x27;&gt;Don Cuenca&lt;/b&gt;&lt;br&gt;Direccion: General Lee entre Destrampre y Figueroa, Santo Suarez&quot;, &quot;Especialidades: [&#x27;internacional&#x27;, &#x27;criolla&#x27;]&quot;)&lt;/div&gt;`)[0];\n",
       "                popup_0f538d424bbdd7c2d1d2cd72e075b072.setContent(html_1d72176bdc48d2b5f5f2837336f2f96c);\n",
       "            \n",
       "        \n",
       "\n",
       "        marker_2826a61f18c0771f570947f86fa7fea0.bindPopup(popup_0f538d424bbdd7c2d1d2cd72e075b072)\n",
       "        ;\n",
       "\n",
       "        \n",
       "    \n",
       "    \n",
       "            var marker_889b13ff23bb9dc76eca8c6fca5fe6b2 = L.marker(\n",
       "                [23.133855871057047, -82.37691017469287],\n",
       "                {\n",
       "}\n",
       "            ).addTo(map_925613df095e17c33a5b049f8b266fd0);\n",
       "        \n",
       "    \n",
       "            var icon_b993403251f8c7a54c3e1726b402103f = L.AwesomeMarkers.icon(\n",
       "                {\n",
       "  &quot;markerColor&quot;: &quot;red&quot;,\n",
       "  &quot;iconColor&quot;: &quot;white&quot;,\n",
       "  &quot;icon&quot;: &quot;cutlery&quot;,\n",
       "  &quot;prefix&quot;: &quot;fa&quot;,\n",
       "  &quot;extraClasses&quot;: &quot;fa-rotate-0&quot;,\n",
       "}\n",
       "            );\n",
       "            marker_889b13ff23bb9dc76eca8c6fca5fe6b2.setIcon(icon_b993403251f8c7a54c3e1726b402103f);\n",
       "        \n",
       "    \n",
       "        var popup_aeaba925a1b74c715d6e504cec18d0cc = L.popup({\n",
       "  &quot;maxWidth&quot;: &quot;100%&quot;,\n",
       "});\n",
       "\n",
       "        \n",
       "            \n",
       "                var html_4bc11809928c0ceede5b922e297d06f4 = $(`&lt;div id=&quot;html_4bc11809928c0ceede5b922e297d06f4&quot; style=&quot;width: 100.0%; height: 100.0%;&quot;&gt;(&quot;&lt;b style=&#x27;font-size: 18px; &#x27;&gt;nan&lt;/b&gt;&lt;br&gt;Direccion: Zanja entre San Francisco y Espada&quot;, &quot;Especialidades: [&#x27;italiana&#x27;]&quot;)&lt;/div&gt;`)[0];\n",
       "                popup_aeaba925a1b74c715d6e504cec18d0cc.setContent(html_4bc11809928c0ceede5b922e297d06f4);\n",
       "            \n",
       "        \n",
       "\n",
       "        marker_889b13ff23bb9dc76eca8c6fca5fe6b2.bindPopup(popup_aeaba925a1b74c715d6e504cec18d0cc)\n",
       "        ;\n",
       "\n",
       "        \n",
       "    \n",
       "    \n",
       "            var marker_f41a5d5e3d627bcf4865eda34a308d12 = L.marker(\n",
       "                [23.086352376882374, -82.36493068982392],\n",
       "                {\n",
       "}\n",
       "            ).addTo(map_925613df095e17c33a5b049f8b266fd0);\n",
       "        \n",
       "    \n",
       "            var icon_81d6becb4925510ffe6aa7550b557b2a = L.AwesomeMarkers.icon(\n",
       "                {\n",
       "  &quot;markerColor&quot;: &quot;red&quot;,\n",
       "  &quot;iconColor&quot;: &quot;white&quot;,\n",
       "  &quot;icon&quot;: &quot;cutlery&quot;,\n",
       "  &quot;prefix&quot;: &quot;fa&quot;,\n",
       "  &quot;extraClasses&quot;: &quot;fa-rotate-0&quot;,\n",
       "}\n",
       "            );\n",
       "            marker_f41a5d5e3d627bcf4865eda34a308d12.setIcon(icon_81d6becb4925510ffe6aa7550b557b2a);\n",
       "        \n",
       "    \n",
       "        var popup_0aa3113a91f8915335457a602581f7c3 = L.popup({\n",
       "  &quot;maxWidth&quot;: &quot;100%&quot;,\n",
       "});\n",
       "\n",
       "        \n",
       "            \n",
       "                var html_5bf8765ddf0d968f9b962a4b876adfc8 = $(`&lt;div id=&quot;html_5bf8765ddf0d968f9b962a4b876adfc8&quot; style=&quot;width: 100.0%; height: 100.0%;&quot;&gt;(&quot;&lt;b style=&#x27;font-size: 18px; &#x27;&gt;D&#x27;Mitu&lt;/b&gt;&lt;br&gt;Direccion: Calle 1ra #64 Altos entre Gertrudis y Lagueruela, La Víbora&quot;, &#x27;Especialidades: nan&#x27;)&lt;/div&gt;`)[0];\n",
       "                popup_0aa3113a91f8915335457a602581f7c3.setContent(html_5bf8765ddf0d968f9b962a4b876adfc8);\n",
       "            \n",
       "        \n",
       "\n",
       "        marker_f41a5d5e3d627bcf4865eda34a308d12.bindPopup(popup_0aa3113a91f8915335457a602581f7c3)\n",
       "        ;\n",
       "\n",
       "        \n",
       "    \n",
       "    \n",
       "            var marker_b4f3e662eb95f3a1f09aafd22bf29d46 = L.marker(\n",
       "                [23.043056190451246, -82.26299304585932],\n",
       "                {\n",
       "}\n",
       "            ).addTo(map_925613df095e17c33a5b049f8b266fd0);\n",
       "        \n",
       "    \n",
       "            var icon_f2d6495e58bb6a719a69cfbe94baaf29 = L.AwesomeMarkers.icon(\n",
       "                {\n",
       "  &quot;markerColor&quot;: &quot;red&quot;,\n",
       "  &quot;iconColor&quot;: &quot;white&quot;,\n",
       "  &quot;icon&quot;: &quot;cutlery&quot;,\n",
       "  &quot;prefix&quot;: &quot;fa&quot;,\n",
       "  &quot;extraClasses&quot;: &quot;fa-rotate-0&quot;,\n",
       "}\n",
       "            );\n",
       "            marker_b4f3e662eb95f3a1f09aafd22bf29d46.setIcon(icon_f2d6495e58bb6a719a69cfbe94baaf29);\n",
       "        \n",
       "    \n",
       "        var popup_5d70a7598a21e02d4a5bdf622e8817eb = L.popup({\n",
       "  &quot;maxWidth&quot;: &quot;100%&quot;,\n",
       "});\n",
       "\n",
       "        \n",
       "            \n",
       "                var html_f928be2d381cb6c84ccc5d98b4bce810 = $(`&lt;div id=&quot;html_f928be2d381cb6c84ccc5d98b4bce810&quot; style=&quot;width: 100.0%; height: 100.0%;&quot;&gt;(&quot;&lt;b style=&#x27;font-size: 18px; &#x27;&gt;El Bache&lt;/b&gt;&lt;br&gt;Direccion: Calle 30 entre 95 y 97,Las Brisas&quot;, &quot;Especialidades: [&#x27;italiana&#x27;]&quot;)&lt;/div&gt;`)[0];\n",
       "                popup_5d70a7598a21e02d4a5bdf622e8817eb.setContent(html_f928be2d381cb6c84ccc5d98b4bce810);\n",
       "            \n",
       "        \n",
       "\n",
       "        marker_b4f3e662eb95f3a1f09aafd22bf29d46.bindPopup(popup_5d70a7598a21e02d4a5bdf622e8817eb)\n",
       "        ;\n",
       "\n",
       "        \n",
       "    \n",
       "    \n",
       "            var marker_5ebf2a74d5ec7c804de58b067193dd5c = L.marker(\n",
       "                [23.13606132355121, -82.390171562352],\n",
       "                {\n",
       "}\n",
       "            ).addTo(map_925613df095e17c33a5b049f8b266fd0);\n",
       "        \n",
       "    \n",
       "            var icon_a1a959b2fb07f373697582119662262b = L.AwesomeMarkers.icon(\n",
       "                {\n",
       "  &quot;markerColor&quot;: &quot;red&quot;,\n",
       "  &quot;iconColor&quot;: &quot;white&quot;,\n",
       "  &quot;icon&quot;: &quot;cutlery&quot;,\n",
       "  &quot;prefix&quot;: &quot;fa&quot;,\n",
       "  &quot;extraClasses&quot;: &quot;fa-rotate-0&quot;,\n",
       "}\n",
       "            );\n",
       "            marker_5ebf2a74d5ec7c804de58b067193dd5c.setIcon(icon_a1a959b2fb07f373697582119662262b);\n",
       "        \n",
       "    \n",
       "        var popup_9b9045383530e60d02c348aba091384a = L.popup({\n",
       "  &quot;maxWidth&quot;: &quot;100%&quot;,\n",
       "});\n",
       "\n",
       "        \n",
       "            \n",
       "                var html_9eec222bec22b49a3dd5860b7047fc95 = $(`&lt;div id=&quot;html_9eec222bec22b49a3dd5860b7047fc95&quot; style=&quot;width: 100.0%; height: 100.0%;&quot;&gt;(&quot;&lt;b style=&#x27;font-size: 18px; &#x27;&gt;El Balcón de Bruno y Pilar&lt;/b&gt;&lt;br&gt;Direccion: Calle 21 entre E y F, Vedado&quot;, &quot;Especialidades: [&#x27;comida cubana&#x27;, &#x27;latina&#x27;, &#x27;caribeña&#x27;]&quot;)&lt;/div&gt;`)[0];\n",
       "                popup_9b9045383530e60d02c348aba091384a.setContent(html_9eec222bec22b49a3dd5860b7047fc95);\n",
       "            \n",
       "        \n",
       "\n",
       "        marker_5ebf2a74d5ec7c804de58b067193dd5c.bindPopup(popup_9b9045383530e60d02c348aba091384a)\n",
       "        ;\n",
       "\n",
       "        \n",
       "    \n",
       "    \n",
       "            var marker_bdcc808074928c4a9b8068a3de88af70 = L.marker(\n",
       "                [23.13092126125738, -82.4081035552695],\n",
       "                {\n",
       "}\n",
       "            ).addTo(map_925613df095e17c33a5b049f8b266fd0);\n",
       "        \n",
       "    \n",
       "            var icon_fe60f4663759e9170128df8f9c107a24 = L.AwesomeMarkers.icon(\n",
       "                {\n",
       "  &quot;markerColor&quot;: &quot;red&quot;,\n",
       "  &quot;iconColor&quot;: &quot;white&quot;,\n",
       "  &quot;icon&quot;: &quot;cutlery&quot;,\n",
       "  &quot;prefix&quot;: &quot;fa&quot;,\n",
       "  &quot;extraClasses&quot;: &quot;fa-rotate-0&quot;,\n",
       "}\n",
       "            );\n",
       "            marker_bdcc808074928c4a9b8068a3de88af70.setIcon(icon_fe60f4663759e9170128df8f9c107a24);\n",
       "        \n",
       "    \n",
       "        var popup_0dcc4be7bcfe3118d517a73e5a9d92d9 = L.popup({\n",
       "  &quot;maxWidth&quot;: &quot;100%&quot;,\n",
       "});\n",
       "\n",
       "        \n",
       "            \n",
       "                var html_3095e98ad196efdc297d4aa46d4e944f = $(`&lt;div id=&quot;html_3095e98ad196efdc297d4aa46d4e944f&quot; style=&quot;width: 100.0%; height: 100.0%;&quot;&gt;(&quot;&lt;b style=&#x27;font-size: 18px; &#x27;&gt;El bejuco&lt;/b&gt;&lt;br&gt;Direccion: Calle Línea 1206 e/ 18 y 20, Vedado&quot;, &quot;Especialidades: [&#x27;Entrantes&#x27;]&quot;)&lt;/div&gt;`)[0];\n",
       "                popup_0dcc4be7bcfe3118d517a73e5a9d92d9.setContent(html_3095e98ad196efdc297d4aa46d4e944f);\n",
       "            \n",
       "        \n",
       "\n",
       "        marker_bdcc808074928c4a9b8068a3de88af70.bindPopup(popup_0dcc4be7bcfe3118d517a73e5a9d92d9)\n",
       "        ;\n",
       "\n",
       "        \n",
       "    \n",
       "    \n",
       "            var marker_b2ae426a3eb8293268139b12226c8b0b = L.marker(\n",
       "                [23.138186063729933, -82.37857239003395],\n",
       "                {\n",
       "}\n",
       "            ).addTo(map_925613df095e17c33a5b049f8b266fd0);\n",
       "        \n",
       "    \n",
       "            var icon_21ef340d2bdb38764d0305bbf2cb3bde = L.AwesomeMarkers.icon(\n",
       "                {\n",
       "  &quot;markerColor&quot;: &quot;red&quot;,\n",
       "  &quot;iconColor&quot;: &quot;white&quot;,\n",
       "  &quot;icon&quot;: &quot;cutlery&quot;,\n",
       "  &quot;prefix&quot;: &quot;fa&quot;,\n",
       "  &quot;extraClasses&quot;: &quot;fa-rotate-0&quot;,\n",
       "}\n",
       "            );\n",
       "            marker_b2ae426a3eb8293268139b12226c8b0b.setIcon(icon_21ef340d2bdb38764d0305bbf2cb3bde);\n",
       "        \n",
       "    \n",
       "        var popup_22924436ba2e6ae988c64919119301a8 = L.popup({\n",
       "  &quot;maxWidth&quot;: &quot;100%&quot;,\n",
       "});\n",
       "\n",
       "        \n",
       "            \n",
       "                var html_77553ff95af7d7a98c877ff49547292b = $(`&lt;div id=&quot;html_77553ff95af7d7a98c877ff49547292b&quot; style=&quot;width: 100.0%; height: 100.0%;&quot;&gt;(&quot;&lt;b style=&#x27;font-size: 18px; &#x27;&gt;El Biki&lt;/b&gt;&lt;br&gt;Direccion: Infanta entre San Lazaro y Concordia&quot;, &quot;Especialidades: [&#x27;Cubana&#x27;, &#x27;Mixta&#x27;]&quot;)&lt;/div&gt;`)[0];\n",
       "                popup_22924436ba2e6ae988c64919119301a8.setContent(html_77553ff95af7d7a98c877ff49547292b);\n",
       "            \n",
       "        \n",
       "\n",
       "        marker_b2ae426a3eb8293268139b12226c8b0b.bindPopup(popup_22924436ba2e6ae988c64919119301a8)\n",
       "        ;\n",
       "\n",
       "        \n",
       "    \n",
       "    \n",
       "            var marker_4c67e72fc85e9c8cff888cadde1401ad = L.marker(\n",
       "                [23.12735682638094, -82.40996375436582],\n",
       "                {\n",
       "}\n",
       "            ).addTo(map_925613df095e17c33a5b049f8b266fd0);\n",
       "        \n",
       "    \n",
       "            var icon_854b2bce45f51070074877c54cb5fa75 = L.AwesomeMarkers.icon(\n",
       "                {\n",
       "  &quot;markerColor&quot;: &quot;red&quot;,\n",
       "  &quot;iconColor&quot;: &quot;white&quot;,\n",
       "  &quot;icon&quot;: &quot;cutlery&quot;,\n",
       "  &quot;prefix&quot;: &quot;fa&quot;,\n",
       "  &quot;extraClasses&quot;: &quot;fa-rotate-0&quot;,\n",
       "}\n",
       "            );\n",
       "            marker_4c67e72fc85e9c8cff888cadde1401ad.setIcon(icon_854b2bce45f51070074877c54cb5fa75);\n",
       "        \n",
       "    \n",
       "        var popup_de07873e82be8496bb64d17240ea7426 = L.popup({\n",
       "  &quot;maxWidth&quot;: &quot;100%&quot;,\n",
       "});\n",
       "\n",
       "        \n",
       "            \n",
       "                var html_e6f12b2788d75a96ee7cdcd54588cf70 = $(`&lt;div id=&quot;html_e6f12b2788d75a96ee7cdcd54588cf70&quot; style=&quot;width: 100.0%; height: 100.0%;&quot;&gt;(&quot;&lt;b style=&#x27;font-size: 18px; &#x27;&gt;El cocinero&lt;/b&gt;&lt;br&gt;Direccion: Calle 26 #57 entre 11 y 13, Vedado&quot;, &quot;Especialidades: [&#x27;comida caribeña&#x27;, &#x27;latina&#x27;, &#x27;cubana&#x27;]&quot;)&lt;/div&gt;`)[0];\n",
       "                popup_de07873e82be8496bb64d17240ea7426.setContent(html_e6f12b2788d75a96ee7cdcd54588cf70);\n",
       "            \n",
       "        \n",
       "\n",
       "        marker_4c67e72fc85e9c8cff888cadde1401ad.bindPopup(popup_de07873e82be8496bb64d17240ea7426)\n",
       "        ;\n",
       "\n",
       "        \n",
       "    \n",
       "    \n",
       "            var marker_b7a772b42b003e1ad425d3bea7d7804d = L.marker(\n",
       "                [23.044405916184044, -82.24840719111886],\n",
       "                {\n",
       "}\n",
       "            ).addTo(map_925613df095e17c33a5b049f8b266fd0);\n",
       "        \n",
       "    \n",
       "            var icon_76959f78ab6d512c3d97c4bfb8714f19 = L.AwesomeMarkers.icon(\n",
       "                {\n",
       "  &quot;markerColor&quot;: &quot;red&quot;,\n",
       "  &quot;iconColor&quot;: &quot;white&quot;,\n",
       "  &quot;icon&quot;: &quot;cutlery&quot;,\n",
       "  &quot;prefix&quot;: &quot;fa&quot;,\n",
       "  &quot;extraClasses&quot;: &quot;fa-rotate-0&quot;,\n",
       "}\n",
       "            );\n",
       "            marker_b7a772b42b003e1ad425d3bea7d7804d.setIcon(icon_76959f78ab6d512c3d97c4bfb8714f19);\n",
       "        \n",
       "    \n",
       "        var popup_33ae33e07dc5e2ace54b219de704724d = L.popup({\n",
       "  &quot;maxWidth&quot;: &quot;100%&quot;,\n",
       "});\n",
       "\n",
       "        \n",
       "            \n",
       "                var html_0e23d49de3d5df083f6a59fef212fc52 = $(`&lt;div id=&quot;html_0e23d49de3d5df083f6a59fef212fc52&quot; style=&quot;width: 100.0%; height: 100.0%;&quot;&gt;(&quot;&lt;b style=&#x27;font-size: 18px; &#x27;&gt;El Desafio&lt;/b&gt;&lt;br&gt;Direccion: calle 58 número 6712 % 67 y 69&quot;, &quot;Especialidades: [&#x27;cubana&#x27;]&quot;)&lt;/div&gt;`)[0];\n",
       "                popup_33ae33e07dc5e2ace54b219de704724d.setContent(html_0e23d49de3d5df083f6a59fef212fc52);\n",
       "            \n",
       "        \n",
       "\n",
       "        marker_b7a772b42b003e1ad425d3bea7d7804d.bindPopup(popup_33ae33e07dc5e2ace54b219de704724d)\n",
       "        ;\n",
       "\n",
       "        \n",
       "    \n",
       "    \n",
       "            var marker_c426460394da02fda4bd88b4b3374390 = L.marker(\n",
       "                [23.124197583024838, -82.40414784293249],\n",
       "                {\n",
       "}\n",
       "            ).addTo(map_925613df095e17c33a5b049f8b266fd0);\n",
       "        \n",
       "    \n",
       "            var icon_dd6167d24ee06c95cc70646b11d7d067 = L.AwesomeMarkers.icon(\n",
       "                {\n",
       "  &quot;markerColor&quot;: &quot;red&quot;,\n",
       "  &quot;iconColor&quot;: &quot;white&quot;,\n",
       "  &quot;icon&quot;: &quot;cutlery&quot;,\n",
       "  &quot;prefix&quot;: &quot;fa&quot;,\n",
       "  &quot;extraClasses&quot;: &quot;fa-rotate-0&quot;,\n",
       "}\n",
       "            );\n",
       "            marker_c426460394da02fda4bd88b4b3374390.setIcon(icon_dd6167d24ee06c95cc70646b11d7d067);\n",
       "        \n",
       "    \n",
       "        var popup_b93d4ba6e3818fefd58596937a24af81 = L.popup({\n",
       "  &quot;maxWidth&quot;: &quot;100%&quot;,\n",
       "});\n",
       "\n",
       "        \n",
       "            \n",
       "                var html_c3fc91d5a8fea915649ac27595469553 = $(`&lt;div id=&quot;html_c3fc91d5a8fea915649ac27595469553&quot; style=&quot;width: 100.0%; height: 100.0%;&quot;&gt;(&quot;&lt;b style=&#x27;font-size: 18px; &#x27;&gt;El Farallon&lt;/b&gt;&lt;br&gt;Direccion: Calle 22 #361, esq. 23, Vedado&quot;, &quot;Especialidades: [&#x27;comida cubana&#x27;, &#x27;caribeña&#x27;, &#x27;latina&#x27;, &#x27;italiana&#x27;]&quot;)&lt;/div&gt;`)[0];\n",
       "                popup_b93d4ba6e3818fefd58596937a24af81.setContent(html_c3fc91d5a8fea915649ac27595469553);\n",
       "            \n",
       "        \n",
       "\n",
       "        marker_c426460394da02fda4bd88b4b3374390.bindPopup(popup_b93d4ba6e3818fefd58596937a24af81)\n",
       "        ;\n",
       "\n",
       "        \n",
       "    \n",
       "    \n",
       "            var marker_f070c89957cd91e729a309a9f0ba9917 = L.marker(\n",
       "                [23.13993930039699, -82.39045883912888],\n",
       "                {\n",
       "}\n",
       "            ).addTo(map_925613df095e17c33a5b049f8b266fd0);\n",
       "        \n",
       "    \n",
       "            var icon_01939b3764b608736fd6be92e311b13c = L.AwesomeMarkers.icon(\n",
       "                {\n",
       "  &quot;markerColor&quot;: &quot;red&quot;,\n",
       "  &quot;iconColor&quot;: &quot;white&quot;,\n",
       "  &quot;icon&quot;: &quot;cutlery&quot;,\n",
       "  &quot;prefix&quot;: &quot;fa&quot;,\n",
       "  &quot;extraClasses&quot;: &quot;fa-rotate-0&quot;,\n",
       "}\n",
       "            );\n",
       "            marker_f070c89957cd91e729a309a9f0ba9917.setIcon(icon_01939b3764b608736fd6be92e311b13c);\n",
       "        \n",
       "    \n",
       "        var popup_d55145f644159c2ff0036d6a123f4b0a = L.popup({\n",
       "  &quot;maxWidth&quot;: &quot;100%&quot;,\n",
       "});\n",
       "\n",
       "        \n",
       "            \n",
       "                var html_13352e0d1e22f2a2b2f77771384e339d = $(`&lt;div id=&quot;html_13352e0d1e22f2a2b2f77771384e339d&quot; style=&quot;width: 100.0%; height: 100.0%;&quot;&gt;(&quot;&lt;b style=&#x27;font-size: 18px; &#x27;&gt;El Idilio&lt;/b&gt;&lt;br&gt;Direccion: Calle G esquina 15, Vedado&quot;, &quot;Especialidades: [&#x27;comida cubana&#x27;, &#x27;mariscos&#x27;]&quot;)&lt;/div&gt;`)[0];\n",
       "                popup_d55145f644159c2ff0036d6a123f4b0a.setContent(html_13352e0d1e22f2a2b2f77771384e339d);\n",
       "            \n",
       "        \n",
       "\n",
       "        marker_f070c89957cd91e729a309a9f0ba9917.bindPopup(popup_d55145f644159c2ff0036d6a123f4b0a)\n",
       "        ;\n",
       "\n",
       "        \n",
       "    \n",
       "    \n",
       "            var marker_dab01cce9013c4a1ac91f6b182cfe186 = L.marker(\n",
       "                [23.13577030941659, -82.35714206462553],\n",
       "                {\n",
       "}\n",
       "            ).addTo(map_925613df095e17c33a5b049f8b266fd0);\n",
       "        \n",
       "    \n",
       "            var icon_6f4f4610db77c6ba700fd14e08b5b9d2 = L.AwesomeMarkers.icon(\n",
       "                {\n",
       "  &quot;markerColor&quot;: &quot;red&quot;,\n",
       "  &quot;iconColor&quot;: &quot;white&quot;,\n",
       "  &quot;icon&quot;: &quot;cutlery&quot;,\n",
       "  &quot;prefix&quot;: &quot;fa&quot;,\n",
       "  &quot;extraClasses&quot;: &quot;fa-rotate-0&quot;,\n",
       "}\n",
       "            );\n",
       "            marker_dab01cce9013c4a1ac91f6b182cfe186.setIcon(icon_6f4f4610db77c6ba700fd14e08b5b9d2);\n",
       "        \n",
       "    \n",
       "        var popup_eaf4bf2afc5cb4f29c590907ce5087d7 = L.popup({\n",
       "  &quot;maxWidth&quot;: &quot;100%&quot;,\n",
       "});\n",
       "\n",
       "        \n",
       "            \n",
       "                var html_bf18f339642d4339279d10ea42dfe5d5 = $(`&lt;div id=&quot;html_bf18f339642d4339279d10ea42dfe5d5&quot; style=&quot;width: 100.0%; height: 100.0%;&quot;&gt;(&quot;&lt;b style=&#x27;font-size: 18px; &#x27;&gt;El_Kilometro_Zero&lt;/b&gt;&lt;br&gt;Direccion: Monserrate #437 Esq Teniente Rey&quot;, &quot;Especialidades: [&#x27;criolla&#x27;]&quot;)&lt;/div&gt;`)[0];\n",
       "                popup_eaf4bf2afc5cb4f29c590907ce5087d7.setContent(html_bf18f339642d4339279d10ea42dfe5d5);\n",
       "            \n",
       "        \n",
       "\n",
       "        marker_dab01cce9013c4a1ac91f6b182cfe186.bindPopup(popup_eaf4bf2afc5cb4f29c590907ce5087d7)\n",
       "        ;\n",
       "\n",
       "        \n",
       "    \n",
       "    \n",
       "            var marker_37f8752017904b9996850ddd758b4f3c = L.marker(\n",
       "                [23.130866904291352, -82.30698134006616],\n",
       "                {\n",
       "}\n",
       "            ).addTo(map_925613df095e17c33a5b049f8b266fd0);\n",
       "        \n",
       "    \n",
       "            var icon_0e096790910b7ef87c2e9411592df482 = L.AwesomeMarkers.icon(\n",
       "                {\n",
       "  &quot;markerColor&quot;: &quot;red&quot;,\n",
       "  &quot;iconColor&quot;: &quot;white&quot;,\n",
       "  &quot;icon&quot;: &quot;cutlery&quot;,\n",
       "  &quot;prefix&quot;: &quot;fa&quot;,\n",
       "  &quot;extraClasses&quot;: &quot;fa-rotate-0&quot;,\n",
       "}\n",
       "            );\n",
       "            marker_37f8752017904b9996850ddd758b4f3c.setIcon(icon_0e096790910b7ef87c2e9411592df482);\n",
       "        \n",
       "    \n",
       "        var popup_7ec9ae94af6533ce4bdffa488dfd04d0 = L.popup({\n",
       "  &quot;maxWidth&quot;: &quot;100%&quot;,\n",
       "});\n",
       "\n",
       "        \n",
       "            \n",
       "                var html_bbb89ae45ca325567d542cb1e30966f4 = $(`&lt;div id=&quot;html_bbb89ae45ca325567d542cb1e30966f4&quot; style=&quot;width: 100.0%; height: 100.0%;&quot;&gt;(&quot;&lt;b style=&#x27;font-size: 18px; &#x27;&gt;El Mexicano&lt;/b&gt;&lt;br&gt;Direccion: Avenida Quinta&quot;, &quot;Especialidades: [&#x27;pizzas&#x27;, &#x27;pastas&#x27;]&quot;)&lt;/div&gt;`)[0];\n",
       "                popup_7ec9ae94af6533ce4bdffa488dfd04d0.setContent(html_bbb89ae45ca325567d542cb1e30966f4);\n",
       "            \n",
       "        \n",
       "\n",
       "        marker_37f8752017904b9996850ddd758b4f3c.bindPopup(popup_7ec9ae94af6533ce4bdffa488dfd04d0)\n",
       "        ;\n",
       "\n",
       "        \n",
       "    \n",
       "    \n",
       "            var marker_d7a8d68eb39f4b40aee4dfc39638c0f1 = L.marker(\n",
       "                [23.090152188614443, -82.37829626100522],\n",
       "                {\n",
       "}\n",
       "            ).addTo(map_925613df095e17c33a5b049f8b266fd0);\n",
       "        \n",
       "    \n",
       "            var icon_e8476cd901d2da1ca9d07b93b852f15c = L.AwesomeMarkers.icon(\n",
       "                {\n",
       "  &quot;markerColor&quot;: &quot;red&quot;,\n",
       "  &quot;iconColor&quot;: &quot;white&quot;,\n",
       "  &quot;icon&quot;: &quot;cutlery&quot;,\n",
       "  &quot;prefix&quot;: &quot;fa&quot;,\n",
       "  &quot;extraClasses&quot;: &quot;fa-rotate-0&quot;,\n",
       "}\n",
       "            );\n",
       "            marker_d7a8d68eb39f4b40aee4dfc39638c0f1.setIcon(icon_e8476cd901d2da1ca9d07b93b852f15c);\n",
       "        \n",
       "    \n",
       "        var popup_b414c3cc8739380e8bf58ccd3ed40d88 = L.popup({\n",
       "  &quot;maxWidth&quot;: &quot;100%&quot;,\n",
       "});\n",
       "\n",
       "        \n",
       "            \n",
       "                var html_05fb11a3b157289217e252b9c116abce = $(`&lt;div id=&quot;html_05fb11a3b157289217e252b9c116abce&quot; style=&quot;width: 100.0%; height: 100.0%;&quot;&gt;(&quot;&lt;b style=&#x27;font-size: 18px; &#x27;&gt;El Monakeno&lt;/b&gt;&lt;br&gt;Direccion: Avenida Mayia Rodriguez entre Acosta y O&#x27;Farril&quot;, &quot;Especialidades: [&#x27;internacional&#x27;]&quot;)&lt;/div&gt;`)[0];\n",
       "                popup_b414c3cc8739380e8bf58ccd3ed40d88.setContent(html_05fb11a3b157289217e252b9c116abce);\n",
       "            \n",
       "        \n",
       "\n",
       "        marker_d7a8d68eb39f4b40aee4dfc39638c0f1.bindPopup(popup_b414c3cc8739380e8bf58ccd3ed40d88)\n",
       "        ;\n",
       "\n",
       "        \n",
       "    \n",
       "    \n",
       "            var marker_a82b2cb20a7ba054b2c4bc5888d41f04 = L.marker(\n",
       "                [23.08621062775345, -82.46251984696866],\n",
       "                {\n",
       "}\n",
       "            ).addTo(map_925613df095e17c33a5b049f8b266fd0);\n",
       "        \n",
       "    \n",
       "            var icon_f0008dc05e84993af6af47c5c9558076 = L.AwesomeMarkers.icon(\n",
       "                {\n",
       "  &quot;markerColor&quot;: &quot;red&quot;,\n",
       "  &quot;iconColor&quot;: &quot;white&quot;,\n",
       "  &quot;icon&quot;: &quot;cutlery&quot;,\n",
       "  &quot;prefix&quot;: &quot;fa&quot;,\n",
       "  &quot;extraClasses&quot;: &quot;fa-rotate-0&quot;,\n",
       "}\n",
       "            );\n",
       "            marker_a82b2cb20a7ba054b2c4bc5888d41f04.setIcon(icon_f0008dc05e84993af6af47c5c9558076);\n",
       "        \n",
       "    \n",
       "        var popup_75134eef03dd38eeebaa667b9e5f6865 = L.popup({\n",
       "  &quot;maxWidth&quot;: &quot;100%&quot;,\n",
       "});\n",
       "\n",
       "        \n",
       "            \n",
       "                var html_b0d9576c70939d3a52960d1b48124a06 = $(`&lt;div id=&quot;html_b0d9576c70939d3a52960d1b48124a06&quot; style=&quot;width: 100.0%; height: 100.0%;&quot;&gt;(&quot;&lt;b style=&#x27;font-size: 18px; &#x27;&gt;El Palenque&lt;/b&gt;&lt;br&gt;Direccion: Calle 17 esquina a190&quot;, &quot;Especialidades: [&#x27;caribena&#x27;, &#x27;latina&#x27;, &#x27;internacional&#x27;, &#x27;cubana&#x27;]&quot;)&lt;/div&gt;`)[0];\n",
       "                popup_75134eef03dd38eeebaa667b9e5f6865.setContent(html_b0d9576c70939d3a52960d1b48124a06);\n",
       "            \n",
       "        \n",
       "\n",
       "        marker_a82b2cb20a7ba054b2c4bc5888d41f04.bindPopup(popup_75134eef03dd38eeebaa667b9e5f6865)\n",
       "        ;\n",
       "\n",
       "        \n",
       "    \n",
       "    \n",
       "            var marker_7ed9d31c69e6ce9bd94a0f096ab4c6e2 = L.marker(\n",
       "                [23.101843184677417, -82.34140821329014],\n",
       "                {\n",
       "}\n",
       "            ).addTo(map_925613df095e17c33a5b049f8b266fd0);\n",
       "        \n",
       "    \n",
       "            var icon_3cc2b83a663d3f76eec1126367afe049 = L.AwesomeMarkers.icon(\n",
       "                {\n",
       "  &quot;markerColor&quot;: &quot;red&quot;,\n",
       "  &quot;iconColor&quot;: &quot;white&quot;,\n",
       "  &quot;icon&quot;: &quot;cutlery&quot;,\n",
       "  &quot;prefix&quot;: &quot;fa&quot;,\n",
       "  &quot;extraClasses&quot;: &quot;fa-rotate-0&quot;,\n",
       "}\n",
       "            );\n",
       "            marker_7ed9d31c69e6ce9bd94a0f096ab4c6e2.setIcon(icon_3cc2b83a663d3f76eec1126367afe049);\n",
       "        \n",
       "    \n",
       "        var popup_d608a6853c905691cb52315e0de40d78 = L.popup({\n",
       "  &quot;maxWidth&quot;: &quot;100%&quot;,\n",
       "});\n",
       "\n",
       "        \n",
       "            \n",
       "                var html_fab1ba6b204a135ee90890340c77c06a = $(`&lt;div id=&quot;html_fab1ba6b204a135ee90890340c77c06a&quot; style=&quot;width: 100.0%; height: 100.0%;&quot;&gt;(&quot;&lt;b style=&#x27;font-size: 18px; &#x27;&gt;El Pecado&lt;/b&gt;&lt;br&gt;Direccion: Matos frente al parque de los Chivos&quot;, &quot;Especialidades: [&#x27;mixta&#x27;, &#x27;cuabana&#x27;]&quot;)&lt;/div&gt;`)[0];\n",
       "                popup_d608a6853c905691cb52315e0de40d78.setContent(html_fab1ba6b204a135ee90890340c77c06a);\n",
       "            \n",
       "        \n",
       "\n",
       "        marker_7ed9d31c69e6ce9bd94a0f096ab4c6e2.bindPopup(popup_d608a6853c905691cb52315e0de40d78)\n",
       "        ;\n",
       "\n",
       "        \n",
       "    \n",
       "    \n",
       "            var marker_95e7263272359bc2dfc16cd302d695d5 = L.marker(\n",
       "                [23.05809340873481, -82.22647413651553],\n",
       "                {\n",
       "}\n",
       "            ).addTo(map_925613df095e17c33a5b049f8b266fd0);\n",
       "        \n",
       "    \n",
       "            var icon_ebc9278f95a9e51505932995f97142d0 = L.AwesomeMarkers.icon(\n",
       "                {\n",
       "  &quot;markerColor&quot;: &quot;red&quot;,\n",
       "  &quot;iconColor&quot;: &quot;white&quot;,\n",
       "  &quot;icon&quot;: &quot;cutlery&quot;,\n",
       "  &quot;prefix&quot;: &quot;fa&quot;,\n",
       "  &quot;extraClasses&quot;: &quot;fa-rotate-0&quot;,\n",
       "}\n",
       "            );\n",
       "            marker_95e7263272359bc2dfc16cd302d695d5.setIcon(icon_ebc9278f95a9e51505932995f97142d0);\n",
       "        \n",
       "    \n",
       "        var popup_f22917e444b8e4e25a2ac6542e380c33 = L.popup({\n",
       "  &quot;maxWidth&quot;: &quot;100%&quot;,\n",
       "});\n",
       "\n",
       "        \n",
       "            \n",
       "                var html_1513a1459aac1c37fca9dd151f52922b = $(`&lt;div id=&quot;html_1513a1459aac1c37fca9dd151f52922b&quot; style=&quot;width: 100.0%; height: 100.0%;&quot;&gt;(&quot;&lt;b style=&#x27;font-size: 18px; &#x27;&gt;El Pellizco&lt;/b&gt;&lt;br&gt;Direccion: Desconocida&quot;, &quot;Especialidades: [&#x27;criolla&#x27;]&quot;)&lt;/div&gt;`)[0];\n",
       "                popup_f22917e444b8e4e25a2ac6542e380c33.setContent(html_1513a1459aac1c37fca9dd151f52922b);\n",
       "            \n",
       "        \n",
       "\n",
       "        marker_95e7263272359bc2dfc16cd302d695d5.bindPopup(popup_f22917e444b8e4e25a2ac6542e380c33)\n",
       "        ;\n",
       "\n",
       "        \n",
       "    \n",
       "    \n",
       "            var marker_e6f97fa7661441d4b9db3211ff411a3f = L.marker(\n",
       "                [23.16199568264451, -82.29712225037608],\n",
       "                {\n",
       "}\n",
       "            ).addTo(map_925613df095e17c33a5b049f8b266fd0);\n",
       "        \n",
       "    \n",
       "            var icon_6471d104c2b6c4077c6c3f802ef9a82a = L.AwesomeMarkers.icon(\n",
       "                {\n",
       "  &quot;markerColor&quot;: &quot;red&quot;,\n",
       "  &quot;iconColor&quot;: &quot;white&quot;,\n",
       "  &quot;icon&quot;: &quot;cutlery&quot;,\n",
       "  &quot;prefix&quot;: &quot;fa&quot;,\n",
       "  &quot;extraClasses&quot;: &quot;fa-rotate-0&quot;,\n",
       "}\n",
       "            );\n",
       "            marker_e6f97fa7661441d4b9db3211ff411a3f.setIcon(icon_6471d104c2b6c4077c6c3f802ef9a82a);\n",
       "        \n",
       "    \n",
       "        var popup_138e156b6918e49ced11674202e412dc = L.popup({\n",
       "  &quot;maxWidth&quot;: &quot;100%&quot;,\n",
       "});\n",
       "\n",
       "        \n",
       "            \n",
       "                var html_7a63d25a695171142ba3656f3c49dd70 = $(`&lt;div id=&quot;html_7a63d25a695171142ba3656f3c49dd70&quot; style=&quot;width: 100.0%; height: 100.0%;&quot;&gt;(&quot;&lt;b style=&#x27;font-size: 18px; &#x27;&gt;El Ajiaco&lt;/b&gt;&lt;br&gt;Direccion: Esquina de calle Los Pinos y Cuba, Cojimar&quot;, &quot;Especialidades: [&#x27;Criolla&#x27;]&quot;)&lt;/div&gt;`)[0];\n",
       "                popup_138e156b6918e49ced11674202e412dc.setContent(html_7a63d25a695171142ba3656f3c49dd70);\n",
       "            \n",
       "        \n",
       "\n",
       "        marker_e6f97fa7661441d4b9db3211ff411a3f.bindPopup(popup_138e156b6918e49ced11674202e412dc)\n",
       "        ;\n",
       "\n",
       "        \n",
       "    \n",
       "    \n",
       "            var marker_110ec3e96c2937ab9e30b8afad1c7589 = L.marker(\n",
       "                [23.105902940435307, -82.38894680785327],\n",
       "                {\n",
       "}\n",
       "            ).addTo(map_925613df095e17c33a5b049f8b266fd0);\n",
       "        \n",
       "    \n",
       "            var icon_4c0fce8515173d08bc107af0dce8a61a = L.AwesomeMarkers.icon(\n",
       "                {\n",
       "  &quot;markerColor&quot;: &quot;red&quot;,\n",
       "  &quot;iconColor&quot;: &quot;white&quot;,\n",
       "  &quot;icon&quot;: &quot;cutlery&quot;,\n",
       "  &quot;prefix&quot;: &quot;fa&quot;,\n",
       "  &quot;extraClasses&quot;: &quot;fa-rotate-0&quot;,\n",
       "}\n",
       "            );\n",
       "            marker_110ec3e96c2937ab9e30b8afad1c7589.setIcon(icon_4c0fce8515173d08bc107af0dce8a61a);\n",
       "        \n",
       "    \n",
       "        var popup_d2c963d7c2a2217a5c7c4ecb258d573b = L.popup({\n",
       "  &quot;maxWidth&quot;: &quot;100%&quot;,\n",
       "});\n",
       "\n",
       "        \n",
       "            \n",
       "                var html_1cea10ba1015ea356ca06fa8fb4c6f99 = $(`&lt;div id=&quot;html_1cea10ba1015ea356ca06fa8fb4c6f99&quot; style=&quot;width: 100.0%; height: 100.0%;&quot;&gt;(&quot;&lt;b style=&#x27;font-size: 18px; &#x27;&gt;El Batazo&lt;/b&gt;&lt;br&gt;Direccion: Primelles entre Santa Teresa y Daolz&quot;, &quot;Especialidades: [&#x27;italiana&#x27;]&quot;)&lt;/div&gt;`)[0];\n",
       "                popup_d2c963d7c2a2217a5c7c4ecb258d573b.setContent(html_1cea10ba1015ea356ca06fa8fb4c6f99);\n",
       "            \n",
       "        \n",
       "\n",
       "        marker_110ec3e96c2937ab9e30b8afad1c7589.bindPopup(popup_d2c963d7c2a2217a5c7c4ecb258d573b)\n",
       "        ;\n",
       "\n",
       "        \n",
       "    \n",
       "    \n",
       "            var marker_160a36b60bf9c450b4fcfdb285ac2a10 = L.marker(\n",
       "                [23.14135090318694, -82.37416801831066],\n",
       "                {\n",
       "}\n",
       "            ).addTo(map_925613df095e17c33a5b049f8b266fd0);\n",
       "        \n",
       "    \n",
       "            var icon_80a636ad4986c476e1ffe28450e7420d = L.AwesomeMarkers.icon(\n",
       "                {\n",
       "  &quot;markerColor&quot;: &quot;red&quot;,\n",
       "  &quot;iconColor&quot;: &quot;white&quot;,\n",
       "  &quot;icon&quot;: &quot;cutlery&quot;,\n",
       "  &quot;prefix&quot;: &quot;fa&quot;,\n",
       "  &quot;extraClasses&quot;: &quot;fa-rotate-0&quot;,\n",
       "}\n",
       "            );\n",
       "            marker_160a36b60bf9c450b4fcfdb285ac2a10.setIcon(icon_80a636ad4986c476e1ffe28450e7420d);\n",
       "        \n",
       "    \n",
       "        var popup_c7824aded1f705a09cfa9dbaf4afc788 = L.popup({\n",
       "  &quot;maxWidth&quot;: &quot;100%&quot;,\n",
       "});\n",
       "\n",
       "        \n",
       "            \n",
       "                var html_a6902170f5243add1140fe26571b822c = $(`&lt;div id=&quot;html_a6902170f5243add1140fe26571b822c&quot; style=&quot;width: 100.0%; height: 100.0%;&quot;&gt;(&quot;&lt;b style=&#x27;font-size: 18px; &#x27;&gt;El Bleko&lt;/b&gt;&lt;br&gt;Direccion: Vapor y Hornos, 63 e Marina, La Habana&quot;, &quot;Especialidades: [&#x27;caribeña&#x27;, &#x27;italiana&#x27;, &#x27;criolla&#x27;]&quot;)&lt;/div&gt;`)[0];\n",
       "                popup_c7824aded1f705a09cfa9dbaf4afc788.setContent(html_a6902170f5243add1140fe26571b822c);\n",
       "            \n",
       "        \n",
       "\n",
       "        marker_160a36b60bf9c450b4fcfdb285ac2a10.bindPopup(popup_c7824aded1f705a09cfa9dbaf4afc788)\n",
       "        ;\n",
       "\n",
       "        \n",
       "    \n",
       "    \n",
       "            var marker_03c7d40a104b887c2390b928da7dd198 = L.marker(\n",
       "                [23.136615265811344, -82.3550049035281],\n",
       "                {\n",
       "}\n",
       "            ).addTo(map_925613df095e17c33a5b049f8b266fd0);\n",
       "        \n",
       "    \n",
       "            var icon_9c046edfc6e353faf2f53a2ec9c50c73 = L.AwesomeMarkers.icon(\n",
       "                {\n",
       "  &quot;markerColor&quot;: &quot;red&quot;,\n",
       "  &quot;iconColor&quot;: &quot;white&quot;,\n",
       "  &quot;icon&quot;: &quot;cutlery&quot;,\n",
       "  &quot;prefix&quot;: &quot;fa&quot;,\n",
       "  &quot;extraClasses&quot;: &quot;fa-rotate-0&quot;,\n",
       "}\n",
       "            );\n",
       "            marker_03c7d40a104b887c2390b928da7dd198.setIcon(icon_9c046edfc6e353faf2f53a2ec9c50c73);\n",
       "        \n",
       "    \n",
       "        var popup_dd1de50fadf9454b05379a2bd18d3a69 = L.popup({\n",
       "  &quot;maxWidth&quot;: &quot;100%&quot;,\n",
       "});\n",
       "\n",
       "        \n",
       "            \n",
       "                var html_1f5fe95c8324465567b3f3dd1810cd82 = $(`&lt;div id=&quot;html_1f5fe95c8324465567b3f3dd1810cd82&quot; style=&quot;width: 100.0%; height: 100.0%;&quot;&gt;(&quot;&lt;b style=&#x27;font-size: 18px; &#x27;&gt;El Cafe&lt;/b&gt;&lt;br&gt;Direccion: #358, Calle La Amargura&quot;, &quot;Especialidades: [&#x27;Comida mixta&#x27;]&quot;)&lt;/div&gt;`)[0];\n",
       "                popup_dd1de50fadf9454b05379a2bd18d3a69.setContent(html_1f5fe95c8324465567b3f3dd1810cd82);\n",
       "            \n",
       "        \n",
       "\n",
       "        marker_03c7d40a104b887c2390b928da7dd198.bindPopup(popup_dd1de50fadf9454b05379a2bd18d3a69)\n",
       "        ;\n",
       "\n",
       "        \n",
       "    \n",
       "    \n",
       "            var marker_2a1e360f3fcab2e2152c249ab7bbac9a = L.marker(\n",
       "                [23.15787610279017, -82.27621448261955],\n",
       "                {\n",
       "}\n",
       "            ).addTo(map_925613df095e17c33a5b049f8b266fd0);\n",
       "        \n",
       "    \n",
       "            var icon_81b8065fd16d541428467e7987f37fb9 = L.AwesomeMarkers.icon(\n",
       "                {\n",
       "  &quot;markerColor&quot;: &quot;red&quot;,\n",
       "  &quot;iconColor&quot;: &quot;white&quot;,\n",
       "  &quot;icon&quot;: &quot;cutlery&quot;,\n",
       "  &quot;prefix&quot;: &quot;fa&quot;,\n",
       "  &quot;extraClasses&quot;: &quot;fa-rotate-0&quot;,\n",
       "}\n",
       "            );\n",
       "            marker_2a1e360f3fcab2e2152c249ab7bbac9a.setIcon(icon_81b8065fd16d541428467e7987f37fb9);\n",
       "        \n",
       "    \n",
       "        var popup_e1cf21f286fa4a4db750a9e9f32e026b = L.popup({\n",
       "  &quot;maxWidth&quot;: &quot;100%&quot;,\n",
       "});\n",
       "\n",
       "        \n",
       "            \n",
       "                var html_1b313805cef64c365ffc337f5fc3cfe8 = $(`&lt;div id=&quot;html_1b313805cef64c365ffc337f5fc3cfe8&quot; style=&quot;width: 100.0%; height: 100.0%;&quot;&gt;(&quot;&lt;b style=&#x27;font-size: 18px; &#x27;&gt;El Chanchullero&lt;/b&gt;&lt;br&gt;Direccion: #162D entre Calle 5G y Calle 162, zona 6, Alamar&quot;, &quot;Especialidades: [&#x27;Comida criolla&#x27;]&quot;)&lt;/div&gt;`)[0];\n",
       "                popup_e1cf21f286fa4a4db750a9e9f32e026b.setContent(html_1b313805cef64c365ffc337f5fc3cfe8);\n",
       "            \n",
       "        \n",
       "\n",
       "        marker_2a1e360f3fcab2e2152c249ab7bbac9a.bindPopup(popup_e1cf21f286fa4a4db750a9e9f32e026b)\n",
       "        ;\n",
       "\n",
       "        \n",
       "    \n",
       "    \n",
       "            var marker_0d22d972c91995bce01f0b2ff7a5c6d5 = L.marker(\n",
       "                [23.047476858961144, -82.25535277368648],\n",
       "                {\n",
       "}\n",
       "            ).addTo(map_925613df095e17c33a5b049f8b266fd0);\n",
       "        \n",
       "    \n",
       "            var icon_980084c896728b2d05c1b84826684fff = L.AwesomeMarkers.icon(\n",
       "                {\n",
       "  &quot;markerColor&quot;: &quot;red&quot;,\n",
       "  &quot;iconColor&quot;: &quot;white&quot;,\n",
       "  &quot;icon&quot;: &quot;cutlery&quot;,\n",
       "  &quot;prefix&quot;: &quot;fa&quot;,\n",
       "  &quot;extraClasses&quot;: &quot;fa-rotate-0&quot;,\n",
       "}\n",
       "            );\n",
       "            marker_0d22d972c91995bce01f0b2ff7a5c6d5.setIcon(icon_980084c896728b2d05c1b84826684fff);\n",
       "        \n",
       "    \n",
       "        var popup_cee6fd25038c617968d0e55d21adc853 = L.popup({\n",
       "  &quot;maxWidth&quot;: &quot;100%&quot;,\n",
       "});\n",
       "\n",
       "        \n",
       "            \n",
       "                var html_063c1c3654913d43f3ef2968b4ac6afb = $(`&lt;div id=&quot;html_063c1c3654913d43f3ef2968b4ac6afb&quot; style=&quot;width: 100.0%; height: 100.0%;&quot;&gt;(&quot;&lt;b style=&#x27;font-size: 18px; &#x27;&gt;El Cocal&lt;/b&gt;&lt;br&gt;Direccion: Lindero No 426A entre 38a y 44 roto modelo, Loteria&quot;, &quot;Especialidades: [&#x27;cubana&#x27;]&quot;)&lt;/div&gt;`)[0];\n",
       "                popup_cee6fd25038c617968d0e55d21adc853.setContent(html_063c1c3654913d43f3ef2968b4ac6afb);\n",
       "            \n",
       "        \n",
       "\n",
       "        marker_0d22d972c91995bce01f0b2ff7a5c6d5.bindPopup(popup_cee6fd25038c617968d0e55d21adc853)\n",
       "        ;\n",
       "\n",
       "        \n",
       "    \n",
       "    \n",
       "            var marker_5218b5f350790cde19e750fc65fc5fd0 = L.marker(\n",
       "                [23.126407014136845, -82.30453202678505],\n",
       "                {\n",
       "}\n",
       "            ).addTo(map_925613df095e17c33a5b049f8b266fd0);\n",
       "        \n",
       "    \n",
       "            var icon_b8f310c5f4fa54f9576dcd639e1585ef = L.AwesomeMarkers.icon(\n",
       "                {\n",
       "  &quot;markerColor&quot;: &quot;red&quot;,\n",
       "  &quot;iconColor&quot;: &quot;white&quot;,\n",
       "  &quot;icon&quot;: &quot;cutlery&quot;,\n",
       "  &quot;prefix&quot;: &quot;fa&quot;,\n",
       "  &quot;extraClasses&quot;: &quot;fa-rotate-0&quot;,\n",
       "}\n",
       "            );\n",
       "            marker_5218b5f350790cde19e750fc65fc5fd0.setIcon(icon_b8f310c5f4fa54f9576dcd639e1585ef);\n",
       "        \n",
       "    \n",
       "        var popup_222ac6317087165abde1409a5fd2cbb6 = L.popup({\n",
       "  &quot;maxWidth&quot;: &quot;100%&quot;,\n",
       "});\n",
       "\n",
       "        \n",
       "            \n",
       "                var html_04839593889f603d6dc4b35577992b89 = $(`&lt;div id=&quot;html_04839593889f603d6dc4b35577992b89&quot; style=&quot;width: 100.0%; height: 100.0%;&quot;&gt;(&quot;&lt;b style=&#x27;font-size: 18px; &#x27;&gt;El Faro&lt;/b&gt;&lt;br&gt;Direccion: Maximo Gomez y Pepe Antonio&quot;, &quot;Especialidades: [&#x27;Criolla&#x27;, &#x27;Pizzas&#x27;]&quot;)&lt;/div&gt;`)[0];\n",
       "                popup_222ac6317087165abde1409a5fd2cbb6.setContent(html_04839593889f603d6dc4b35577992b89);\n",
       "            \n",
       "        \n",
       "\n",
       "        marker_5218b5f350790cde19e750fc65fc5fd0.bindPopup(popup_222ac6317087165abde1409a5fd2cbb6)\n",
       "        ;\n",
       "\n",
       "        \n",
       "    \n",
       "    \n",
       "            var marker_94b60b643e9af0ec9418586123f5f2f1 = L.marker(\n",
       "                [23.124602415605764, -82.31935775223077],\n",
       "                {\n",
       "}\n",
       "            ).addTo(map_925613df095e17c33a5b049f8b266fd0);\n",
       "        \n",
       "    \n",
       "            var icon_9ea13d1ee4fdd6ce900a1e121255a07c = L.AwesomeMarkers.icon(\n",
       "                {\n",
       "  &quot;markerColor&quot;: &quot;red&quot;,\n",
       "  &quot;iconColor&quot;: &quot;white&quot;,\n",
       "  &quot;icon&quot;: &quot;cutlery&quot;,\n",
       "  &quot;prefix&quot;: &quot;fa&quot;,\n",
       "  &quot;extraClasses&quot;: &quot;fa-rotate-0&quot;,\n",
       "}\n",
       "            );\n",
       "            marker_94b60b643e9af0ec9418586123f5f2f1.setIcon(icon_9ea13d1ee4fdd6ce900a1e121255a07c);\n",
       "        \n",
       "    \n",
       "        var popup_f5c7003324b4be9747bdd3ab0de01264 = L.popup({\n",
       "  &quot;maxWidth&quot;: &quot;100%&quot;,\n",
       "});\n",
       "\n",
       "        \n",
       "            \n",
       "                var html_6d3cd0b0ae5aadd9be61ede42bd57116 = $(`&lt;div id=&quot;html_6d3cd0b0ae5aadd9be61ede42bd57116&quot; style=&quot;width: 100.0%; height: 100.0%;&quot;&gt;(&quot;&lt;b style=&#x27;font-size: 18px; &#x27;&gt;El Pavo&lt;/b&gt;&lt;br&gt;Direccion: Esquina San Luis y Via Blanca&quot;, &quot;Especialidades: [&#x27;criolla&#x27;, &#x27;internacional&#x27;, &#x27;italiana&#x27;]&quot;)&lt;/div&gt;`)[0];\n",
       "                popup_f5c7003324b4be9747bdd3ab0de01264.setContent(html_6d3cd0b0ae5aadd9be61ede42bd57116);\n",
       "            \n",
       "        \n",
       "\n",
       "        marker_94b60b643e9af0ec9418586123f5f2f1.bindPopup(popup_f5c7003324b4be9747bdd3ab0de01264)\n",
       "        ;\n",
       "\n",
       "        \n",
       "    \n",
       "    \n",
       "            var marker_7c1557c68720de4551774fe90721d7c6 = L.marker(\n",
       "                [23.110676821769864, -82.39737767449778],\n",
       "                {\n",
       "}\n",
       "            ).addTo(map_925613df095e17c33a5b049f8b266fd0);\n",
       "        \n",
       "    \n",
       "            var icon_1b790243d6b88043095407773b2d2f8a = L.AwesomeMarkers.icon(\n",
       "                {\n",
       "  &quot;markerColor&quot;: &quot;red&quot;,\n",
       "  &quot;iconColor&quot;: &quot;white&quot;,\n",
       "  &quot;icon&quot;: &quot;cutlery&quot;,\n",
       "  &quot;prefix&quot;: &quot;fa&quot;,\n",
       "  &quot;extraClasses&quot;: &quot;fa-rotate-0&quot;,\n",
       "}\n",
       "            );\n",
       "            marker_7c1557c68720de4551774fe90721d7c6.setIcon(icon_1b790243d6b88043095407773b2d2f8a);\n",
       "        \n",
       "    \n",
       "        var popup_640e7fba523b1078dcf67f3fcad4eb23 = L.popup({\n",
       "  &quot;maxWidth&quot;: &quot;100%&quot;,\n",
       "});\n",
       "\n",
       "        \n",
       "            \n",
       "                var html_b8088f9dc494e0cbab8bb55f63b1b3b7 = $(`&lt;div id=&quot;html_b8088f9dc494e0cbab8bb55f63b1b3b7&quot; style=&quot;width: 100.0%; height: 100.0%;&quot;&gt;(&quot;&lt;b style=&#x27;font-size: 18px; &#x27;&gt;El Pelicano&lt;/b&gt;&lt;br&gt;Direccion: &quot;, &quot;Especialidades: [&#x27;cubana&#x27;]&quot;)&lt;/div&gt;`)[0];\n",
       "                popup_640e7fba523b1078dcf67f3fcad4eb23.setContent(html_b8088f9dc494e0cbab8bb55f63b1b3b7);\n",
       "            \n",
       "        \n",
       "\n",
       "        marker_7c1557c68720de4551774fe90721d7c6.bindPopup(popup_640e7fba523b1078dcf67f3fcad4eb23)\n",
       "        ;\n",
       "\n",
       "        \n",
       "    \n",
       "    \n",
       "            var marker_738333edd669d652fc3533baf264f4ac = L.marker(\n",
       "                [23.133855118338467, -82.36151465263812],\n",
       "                {\n",
       "}\n",
       "            ).addTo(map_925613df095e17c33a5b049f8b266fd0);\n",
       "        \n",
       "    \n",
       "            var icon_91507ab7e2cc6a74bb3539011306af12 = L.AwesomeMarkers.icon(\n",
       "                {\n",
       "  &quot;markerColor&quot;: &quot;red&quot;,\n",
       "  &quot;iconColor&quot;: &quot;white&quot;,\n",
       "  &quot;icon&quot;: &quot;cutlery&quot;,\n",
       "  &quot;prefix&quot;: &quot;fa&quot;,\n",
       "  &quot;extraClasses&quot;: &quot;fa-rotate-0&quot;,\n",
       "}\n",
       "            );\n",
       "            marker_738333edd669d652fc3533baf264f4ac.setIcon(icon_91507ab7e2cc6a74bb3539011306af12);\n",
       "        \n",
       "    \n",
       "        var popup_296ed92a489406f5947561ac4a20da97 = L.popup({\n",
       "  &quot;maxWidth&quot;: &quot;100%&quot;,\n",
       "});\n",
       "\n",
       "        \n",
       "            \n",
       "                var html_5fef5da22e3da0611c8f34b6551933c8 = $(`&lt;div id=&quot;html_5fef5da22e3da0611c8f34b6551933c8&quot; style=&quot;width: 100.0%; height: 100.0%;&quot;&gt;(&quot;&lt;b style=&#x27;font-size: 18px; &#x27;&gt;El portico&lt;/b&gt;&lt;br&gt;Direccion: Dragones entre Aguila y C.Amistad&quot;, &quot;Especialidades: [&#x27;cubana&#x27;]&quot;)&lt;/div&gt;`)[0];\n",
       "                popup_296ed92a489406f5947561ac4a20da97.setContent(html_5fef5da22e3da0611c8f34b6551933c8);\n",
       "            \n",
       "        \n",
       "\n",
       "        marker_738333edd669d652fc3533baf264f4ac.bindPopup(popup_296ed92a489406f5947561ac4a20da97)\n",
       "        ;\n",
       "\n",
       "        \n",
       "    \n",
       "    \n",
       "            var marker_06fa319aa4014ce29a4e63a5ba14bba6 = L.marker(\n",
       "                [22.974102520824335, -82.39241663601986],\n",
       "                {\n",
       "}\n",
       "            ).addTo(map_925613df095e17c33a5b049f8b266fd0);\n",
       "        \n",
       "    \n",
       "            var icon_d88be46afee88509d6a58838177e8deb = L.AwesomeMarkers.icon(\n",
       "                {\n",
       "  &quot;markerColor&quot;: &quot;red&quot;,\n",
       "  &quot;iconColor&quot;: &quot;white&quot;,\n",
       "  &quot;icon&quot;: &quot;cutlery&quot;,\n",
       "  &quot;prefix&quot;: &quot;fa&quot;,\n",
       "  &quot;extraClasses&quot;: &quot;fa-rotate-0&quot;,\n",
       "}\n",
       "            );\n",
       "            marker_06fa319aa4014ce29a4e63a5ba14bba6.setIcon(icon_d88be46afee88509d6a58838177e8deb);\n",
       "        \n",
       "    \n",
       "        var popup_af2d4b419c30eab21cda32b172a7818d = L.popup({\n",
       "  &quot;maxWidth&quot;: &quot;100%&quot;,\n",
       "});\n",
       "\n",
       "        \n",
       "            \n",
       "                var html_18266c3664143d6cadf43e7f3cf018bb = $(`&lt;div id=&quot;html_18266c3664143d6cadf43e7f3cf018bb&quot; style=&quot;width: 100.0%; height: 100.0%;&quot;&gt;(&quot;&lt;b style=&#x27;font-size: 18px; &#x27;&gt;Ranchon El Pinareño&lt;/b&gt;&lt;br&gt;Direccion: Calle 16 % Calle 9 &amp; Calle 7, Santiago de las Vegas&quot;, &quot;Especialidades: [&#x27;criollo&#x27;, &#x27;grille&#x27;]&quot;)&lt;/div&gt;`)[0];\n",
       "                popup_af2d4b419c30eab21cda32b172a7818d.setContent(html_18266c3664143d6cadf43e7f3cf018bb);\n",
       "            \n",
       "        \n",
       "\n",
       "        marker_06fa319aa4014ce29a4e63a5ba14bba6.bindPopup(popup_af2d4b419c30eab21cda32b172a7818d)\n",
       "        ;\n",
       "\n",
       "        \n",
       "    \n",
       "    \n",
       "            var marker_efb910c70ca1b1c2ccfd125dce327577 = L.marker(\n",
       "                [23.121214170655744, -82.37433227456654],\n",
       "                {\n",
       "}\n",
       "            ).addTo(map_925613df095e17c33a5b049f8b266fd0);\n",
       "        \n",
       "    \n",
       "            var icon_e0e61d9604579a47544a7c5db6bb0d93 = L.AwesomeMarkers.icon(\n",
       "                {\n",
       "  &quot;markerColor&quot;: &quot;red&quot;,\n",
       "  &quot;iconColor&quot;: &quot;white&quot;,\n",
       "  &quot;icon&quot;: &quot;cutlery&quot;,\n",
       "  &quot;prefix&quot;: &quot;fa&quot;,\n",
       "  &quot;extraClasses&quot;: &quot;fa-rotate-0&quot;,\n",
       "}\n",
       "            );\n",
       "            marker_efb910c70ca1b1c2ccfd125dce327577.setIcon(icon_e0e61d9604579a47544a7c5db6bb0d93);\n",
       "        \n",
       "    \n",
       "        var popup_3d813f8cf61d41a8f86ad1b543e4a122 = L.popup({\n",
       "  &quot;maxWidth&quot;: &quot;100%&quot;,\n",
       "});\n",
       "\n",
       "        \n",
       "            \n",
       "                var html_fa7a21bb855b13136c06070ee6cdc4f4 = $(`&lt;div id=&quot;html_fa7a21bb855b13136c06070ee6cdc4f4&quot; style=&quot;width: 100.0%; height: 100.0%;&quot;&gt;(&quot;&lt;b style=&#x27;font-size: 18px; &#x27;&gt;El Rapido&lt;/b&gt;&lt;br&gt;Direccion: Cruz del Pader entre Pedrosa y Amenidad&quot;, &quot;Especialidades: [&#x27;italiano&#x27;, &#x27;sandwich&#x27;]&quot;)&lt;/div&gt;`)[0];\n",
       "                popup_3d813f8cf61d41a8f86ad1b543e4a122.setContent(html_fa7a21bb855b13136c06070ee6cdc4f4);\n",
       "            \n",
       "        \n",
       "\n",
       "        marker_efb910c70ca1b1c2ccfd125dce327577.bindPopup(popup_3d813f8cf61d41a8f86ad1b543e4a122)\n",
       "        ;\n",
       "\n",
       "        \n",
       "    \n",
       "    \n",
       "            var marker_a6319f1f20d6f09181cae6e39f2bb532 = L.marker(\n",
       "                [23.137849066647398, -82.355948790034],\n",
       "                {\n",
       "}\n",
       "            ).addTo(map_925613df095e17c33a5b049f8b266fd0);\n",
       "        \n",
       "    \n",
       "            var icon_3b766838e936ea180b843aed07e94064 = L.AwesomeMarkers.icon(\n",
       "                {\n",
       "  &quot;markerColor&quot;: &quot;red&quot;,\n",
       "  &quot;iconColor&quot;: &quot;white&quot;,\n",
       "  &quot;icon&quot;: &quot;cutlery&quot;,\n",
       "  &quot;prefix&quot;: &quot;fa&quot;,\n",
       "  &quot;extraClasses&quot;: &quot;fa-rotate-0&quot;,\n",
       "}\n",
       "            );\n",
       "            marker_a6319f1f20d6f09181cae6e39f2bb532.setIcon(icon_3b766838e936ea180b843aed07e94064);\n",
       "        \n",
       "    \n",
       "        var popup_2a292ee3142c6d9b9ad6bab482155f80 = L.popup({\n",
       "  &quot;maxWidth&quot;: &quot;100%&quot;,\n",
       "});\n",
       "\n",
       "        \n",
       "            \n",
       "                var html_02282e41444f5cf58d74c006795dd93a = $(`&lt;div id=&quot;html_02282e41444f5cf58d74c006795dd93a&quot; style=&quot;width: 100.0%; height: 100.0%;&quot;&gt;(&quot;&lt;b style=&#x27;font-size: 18px; &#x27;&gt;El Rincon De Las Letras&lt;/b&gt;&lt;br&gt;Direccion: Calle Villegas #206 entre Obispo y Obrapia&quot;, &quot;Especialidades: [&#x27;Caribena&#x27;, &#x27;Cubana&#x27;]&quot;)&lt;/div&gt;`)[0];\n",
       "                popup_2a292ee3142c6d9b9ad6bab482155f80.setContent(html_02282e41444f5cf58d74c006795dd93a);\n",
       "            \n",
       "        \n",
       "\n",
       "        marker_a6319f1f20d6f09181cae6e39f2bb532.bindPopup(popup_2a292ee3142c6d9b9ad6bab482155f80)\n",
       "        ;\n",
       "\n",
       "        \n",
       "    \n",
       "    \n",
       "            var marker_2ddb6b40cea85de8b9693daa81e47d7f = L.marker(\n",
       "                [22.97148510128245, -82.38594063725743],\n",
       "                {\n",
       "}\n",
       "            ).addTo(map_925613df095e17c33a5b049f8b266fd0);\n",
       "        \n",
       "    \n",
       "            var icon_452a4ace7e60ade7d01f74fcc18159fb = L.AwesomeMarkers.icon(\n",
       "                {\n",
       "  &quot;markerColor&quot;: &quot;red&quot;,\n",
       "  &quot;iconColor&quot;: &quot;white&quot;,\n",
       "  &quot;icon&quot;: &quot;cutlery&quot;,\n",
       "  &quot;prefix&quot;: &quot;fa&quot;,\n",
       "  &quot;extraClasses&quot;: &quot;fa-rotate-0&quot;,\n",
       "}\n",
       "            );\n",
       "            marker_2ddb6b40cea85de8b9693daa81e47d7f.setIcon(icon_452a4ace7e60ade7d01f74fcc18159fb);\n",
       "        \n",
       "    \n",
       "        var popup_157fb72c31b5bdfa732b6282c7337902 = L.popup({\n",
       "  &quot;maxWidth&quot;: &quot;100%&quot;,\n",
       "});\n",
       "\n",
       "        \n",
       "            \n",
       "                var html_fe4b487b5543a48f80597c262589177b = $(`&lt;div id=&quot;html_fe4b487b5543a48f80597c262589177b&quot; style=&quot;width: 100.0%; height: 100.0%;&quot;&gt;(&quot;&lt;b style=&#x27;font-size: 18px; &#x27;&gt;El Sauce&lt;/b&gt;&lt;br&gt;Direccion: Calle 403 % 180 &amp; 184, Santiago de las Vegas&quot;, &quot;Especialidades: [&#x27;Pizza&#x27;]&quot;)&lt;/div&gt;`)[0];\n",
       "                popup_157fb72c31b5bdfa732b6282c7337902.setContent(html_fe4b487b5543a48f80597c262589177b);\n",
       "            \n",
       "        \n",
       "\n",
       "        marker_2ddb6b40cea85de8b9693daa81e47d7f.bindPopup(popup_157fb72c31b5bdfa732b6282c7337902)\n",
       "        ;\n",
       "\n",
       "        \n",
       "    \n",
       "    \n",
       "            var marker_5cc6c677f4e6f1f5c8bac7fb922f4655 = L.marker(\n",
       "                [23.124717648812492, -82.42132107449743],\n",
       "                {\n",
       "}\n",
       "            ).addTo(map_925613df095e17c33a5b049f8b266fd0);\n",
       "        \n",
       "    \n",
       "            var icon_1913ef3f331f4e5dc32f3258f98f903b = L.AwesomeMarkers.icon(\n",
       "                {\n",
       "  &quot;markerColor&quot;: &quot;red&quot;,\n",
       "  &quot;iconColor&quot;: &quot;white&quot;,\n",
       "  &quot;icon&quot;: &quot;cutlery&quot;,\n",
       "  &quot;prefix&quot;: &quot;fa&quot;,\n",
       "  &quot;extraClasses&quot;: &quot;fa-rotate-0&quot;,\n",
       "}\n",
       "            );\n",
       "            marker_5cc6c677f4e6f1f5c8bac7fb922f4655.setIcon(icon_1913ef3f331f4e5dc32f3258f98f903b);\n",
       "        \n",
       "    \n",
       "        var popup_d821ee752f995a79b513fcdb98dc5316 = L.popup({\n",
       "  &quot;maxWidth&quot;: &quot;100%&quot;,\n",
       "});\n",
       "\n",
       "        \n",
       "            \n",
       "                var html_805317c38af6c6a30acbda3c22714292 = $(`&lt;div id=&quot;html_805317c38af6c6a30acbda3c22714292&quot; style=&quot;width: 100.0%; height: 100.0%;&quot;&gt;(&quot;&lt;b style=&#x27;font-size: 18px; &#x27;&gt;El Tocororo&lt;/b&gt;&lt;br&gt;Direccion: Calle 18 entre 3ra y 5ta&quot;, &quot;Especialidades: [&#x27;criolla&#x27;, &#x27;caribena&#x27;, &#x27;latina&#x27;]&quot;)&lt;/div&gt;`)[0];\n",
       "                popup_d821ee752f995a79b513fcdb98dc5316.setContent(html_805317c38af6c6a30acbda3c22714292);\n",
       "            \n",
       "        \n",
       "\n",
       "        marker_5cc6c677f4e6f1f5c8bac7fb922f4655.bindPopup(popup_d821ee752f995a79b513fcdb98dc5316)\n",
       "        ;\n",
       "\n",
       "        \n",
       "    \n",
       "    \n",
       "            var marker_34c9ac0ef7302e5937ce03e8d91fb313 = L.marker(\n",
       "                [23.08014437636423, -82.32075326489488],\n",
       "                {\n",
       "}\n",
       "            ).addTo(map_925613df095e17c33a5b049f8b266fd0);\n",
       "        \n",
       "    \n",
       "            var icon_26aced6c8f9946555186284e03712c76 = L.AwesomeMarkers.icon(\n",
       "                {\n",
       "  &quot;markerColor&quot;: &quot;red&quot;,\n",
       "  &quot;iconColor&quot;: &quot;white&quot;,\n",
       "  &quot;icon&quot;: &quot;cutlery&quot;,\n",
       "  &quot;prefix&quot;: &quot;fa&quot;,\n",
       "  &quot;extraClasses&quot;: &quot;fa-rotate-0&quot;,\n",
       "}\n",
       "            );\n",
       "            marker_34c9ac0ef7302e5937ce03e8d91fb313.setIcon(icon_26aced6c8f9946555186284e03712c76);\n",
       "        \n",
       "    \n",
       "        var popup_349a9400ded088499d82fa827c2e20e3 = L.popup({\n",
       "  &quot;maxWidth&quot;: &quot;100%&quot;,\n",
       "});\n",
       "\n",
       "        \n",
       "            \n",
       "                var html_99af14c8ae718e415b9e25b3fa54c192 = $(`&lt;div id=&quot;html_99af14c8ae718e415b9e25b3fa54c192&quot; style=&quot;width: 100.0%; height: 100.0%;&quot;&gt;(&quot;&lt;b style=&#x27;font-size: 18px; &#x27;&gt;El Tráfico&lt;/b&gt;&lt;br&gt;Direccion: Calzada de Guines entre 90 y 94&quot;, &quot;Especialidades: [&#x27;italiana&#x27;, &#x27;criolla&#x27;]&quot;)&lt;/div&gt;`)[0];\n",
       "                popup_349a9400ded088499d82fa827c2e20e3.setContent(html_99af14c8ae718e415b9e25b3fa54c192);\n",
       "            \n",
       "        \n",
       "\n",
       "        marker_34c9ac0ef7302e5937ce03e8d91fb313.bindPopup(popup_349a9400ded088499d82fa827c2e20e3)\n",
       "        ;\n",
       "\n",
       "        \n",
       "    \n",
       "    \n",
       "            var marker_eb9c46fac0c77791df6b821f7076802d = L.marker(\n",
       "                [23.074424846570963, -82.3584506328705],\n",
       "                {\n",
       "}\n",
       "            ).addTo(map_925613df095e17c33a5b049f8b266fd0);\n",
       "        \n",
       "    \n",
       "            var icon_2803adfc1b892e5c5b2a48082dbbc6b6 = L.AwesomeMarkers.icon(\n",
       "                {\n",
       "  &quot;markerColor&quot;: &quot;red&quot;,\n",
       "  &quot;iconColor&quot;: &quot;white&quot;,\n",
       "  &quot;icon&quot;: &quot;cutlery&quot;,\n",
       "  &quot;prefix&quot;: &quot;fa&quot;,\n",
       "  &quot;extraClasses&quot;: &quot;fa-rotate-0&quot;,\n",
       "}\n",
       "            );\n",
       "            marker_eb9c46fac0c77791df6b821f7076802d.setIcon(icon_2803adfc1b892e5c5b2a48082dbbc6b6);\n",
       "        \n",
       "    \n",
       "        var popup_b23f0a9e90d47f3ae242c6082eca6150 = L.popup({\n",
       "  &quot;maxWidth&quot;: &quot;100%&quot;,\n",
       "});\n",
       "\n",
       "        \n",
       "            \n",
       "                var html_1b24e85ec1242be698a8ed1ff4784030 = $(`&lt;div id=&quot;html_1b24e85ec1242be698a8ed1ff4784030&quot; style=&quot;width: 100.0%; height: 100.0%;&quot;&gt;(&quot;&lt;b style=&#x27;font-size: 18px; &#x27;&gt;El Triangulo&lt;/b&gt;&lt;br&gt;Direccion: Esquina Calzada de 10 de octubre y Calzada de Porvenir, La Palma&quot;, &quot;Especialidades: [&#x27;cubana&#x27;]&quot;)&lt;/div&gt;`)[0];\n",
       "                popup_b23f0a9e90d47f3ae242c6082eca6150.setContent(html_1b24e85ec1242be698a8ed1ff4784030);\n",
       "            \n",
       "        \n",
       "\n",
       "        marker_eb9c46fac0c77791df6b821f7076802d.bindPopup(popup_b23f0a9e90d47f3ae242c6082eca6150)\n",
       "        ;\n",
       "\n",
       "        \n",
       "    \n",
       "    \n",
       "            var marker_aa4535070d69912dea49266bf44c862c = L.marker(\n",
       "                [23.00372199549759, -82.39586954958467],\n",
       "                {\n",
       "}\n",
       "            ).addTo(map_925613df095e17c33a5b049f8b266fd0);\n",
       "        \n",
       "    \n",
       "            var icon_04d5802371cbd5af6115f10352211816 = L.AwesomeMarkers.icon(\n",
       "                {\n",
       "  &quot;markerColor&quot;: &quot;red&quot;,\n",
       "  &quot;iconColor&quot;: &quot;white&quot;,\n",
       "  &quot;icon&quot;: &quot;cutlery&quot;,\n",
       "  &quot;prefix&quot;: &quot;fa&quot;,\n",
       "  &quot;extraClasses&quot;: &quot;fa-rotate-0&quot;,\n",
       "}\n",
       "            );\n",
       "            marker_aa4535070d69912dea49266bf44c862c.setIcon(icon_04d5802371cbd5af6115f10352211816);\n",
       "        \n",
       "    \n",
       "        var popup_dafb05db5be8c0112d888c1ed6038d8e = L.popup({\n",
       "  &quot;maxWidth&quot;: &quot;100%&quot;,\n",
       "});\n",
       "\n",
       "        \n",
       "            \n",
       "                var html_3677d56d7c7a84df0a05ff6321e50d3b = $(`&lt;div id=&quot;html_3677d56d7c7a84df0a05ff6321e50d3b&quot; style=&quot;width: 100.0%; height: 100.0%;&quot;&gt;(&quot;&lt;b style=&#x27;font-size: 18px; &#x27;&gt;Entabla2&lt;/b&gt;&lt;br&gt;Direccion: Carretera Terminal 2, Aeropuerto Internacional J. Marti, Calixto Sanchez&quot;, &quot;Especialidades: [&#x27;criolla&#x27;]&quot;)&lt;/div&gt;`)[0];\n",
       "                popup_dafb05db5be8c0112d888c1ed6038d8e.setContent(html_3677d56d7c7a84df0a05ff6321e50d3b);\n",
       "            \n",
       "        \n",
       "\n",
       "        marker_aa4535070d69912dea49266bf44c862c.bindPopup(popup_dafb05db5be8c0112d888c1ed6038d8e)\n",
       "        ;\n",
       "\n",
       "        \n",
       "    \n",
       "    \n",
       "            var marker_edfbf417ec2ed36d5b59e2cf7035aba8 = L.marker(\n",
       "                [23.142395650866476, -82.39855515318168],\n",
       "                {\n",
       "}\n",
       "            ).addTo(map_925613df095e17c33a5b049f8b266fd0);\n",
       "        \n",
       "    \n",
       "            var icon_914227f71fe0f68d7cb0e1a71fef2734 = L.AwesomeMarkers.icon(\n",
       "                {\n",
       "  &quot;markerColor&quot;: &quot;red&quot;,\n",
       "  &quot;iconColor&quot;: &quot;white&quot;,\n",
       "  &quot;icon&quot;: &quot;cutlery&quot;,\n",
       "  &quot;prefix&quot;: &quot;fa&quot;,\n",
       "  &quot;extraClasses&quot;: &quot;fa-rotate-0&quot;,\n",
       "}\n",
       "            );\n",
       "            marker_edfbf417ec2ed36d5b59e2cf7035aba8.setIcon(icon_914227f71fe0f68d7cb0e1a71fef2734);\n",
       "        \n",
       "    \n",
       "        var popup_155c54a40ab9b917de08f66b4ef1fa4a = L.popup({\n",
       "  &quot;maxWidth&quot;: &quot;100%&quot;,\n",
       "});\n",
       "\n",
       "        \n",
       "            \n",
       "                var html_8818a9bac6f59b98963486dfd6ca37fe = $(`&lt;div id=&quot;html_8818a9bac6f59b98963486dfd6ca37fe&quot; style=&quot;width: 100.0%; height: 100.0%;&quot;&gt;(&quot;&lt;b style=&#x27;font-size: 18px; &#x27;&gt;Esquina D-Fraile &lt;/b&gt;&lt;br&gt;Direccion: Calle D entre 1era y 3era, Vedado.&quot;, &quot;Especialidades: [&#x27;Comida Americana&#x27;, &#x27;caribeña&#x27;, &#x27;latina&#x27;, &#x27;criolla&#x27;, &#x27;internacional&#x27;]&quot;)&lt;/div&gt;`)[0];\n",
       "                popup_155c54a40ab9b917de08f66b4ef1fa4a.setContent(html_8818a9bac6f59b98963486dfd6ca37fe);\n",
       "            \n",
       "        \n",
       "\n",
       "        marker_edfbf417ec2ed36d5b59e2cf7035aba8.bindPopup(popup_155c54a40ab9b917de08f66b4ef1fa4a)\n",
       "        ;\n",
       "\n",
       "        \n",
       "    \n",
       "    \n",
       "            var marker_bed7aa9693aac2d6b7b7c6edafb45815 = L.marker(\n",
       "                [23.140776125926624, -82.3517849151747],\n",
       "                {\n",
       "}\n",
       "            ).addTo(map_925613df095e17c33a5b049f8b266fd0);\n",
       "        \n",
       "    \n",
       "            var icon_fed352caefecce9fc0cc8d86dbf0b5e6 = L.AwesomeMarkers.icon(\n",
       "                {\n",
       "  &quot;markerColor&quot;: &quot;red&quot;,\n",
       "  &quot;iconColor&quot;: &quot;white&quot;,\n",
       "  &quot;icon&quot;: &quot;cutlery&quot;,\n",
       "  &quot;prefix&quot;: &quot;fa&quot;,\n",
       "  &quot;extraClasses&quot;: &quot;fa-rotate-0&quot;,\n",
       "}\n",
       "            );\n",
       "            marker_bed7aa9693aac2d6b7b7c6edafb45815.setIcon(icon_fed352caefecce9fc0cc8d86dbf0b5e6);\n",
       "        \n",
       "    \n",
       "        var popup_3349a376b22ff64688ab0cda74ba17f8 = L.popup({\n",
       "  &quot;maxWidth&quot;: &quot;100%&quot;,\n",
       "});\n",
       "\n",
       "        \n",
       "            \n",
       "                var html_d6b0db640c0c41c20470283537546179 = $(`&lt;div id=&quot;html_d6b0db640c0c41c20470283537546179&quot; style=&quot;width: 100.0%; height: 100.0%;&quot;&gt;(&quot;&lt;b style=&#x27;font-size: 18px; &#x27;&gt;Esto No Es Un Cafe&lt;/b&gt;&lt;br&gt;Direccion: Calle Ignacio #58-A entre OReilly y Empedrado, Callejón del Chorro, Plaza de la Catedral&quot;, &quot;Especialidades: [&#x27;Mixta&#x27;]&quot;)&lt;/div&gt;`)[0];\n",
       "                popup_3349a376b22ff64688ab0cda74ba17f8.setContent(html_d6b0db640c0c41c20470283537546179);\n",
       "            \n",
       "        \n",
       "\n",
       "        marker_bed7aa9693aac2d6b7b7c6edafb45815.bindPopup(popup_3349a376b22ff64688ab0cda74ba17f8)\n",
       "        ;\n",
       "\n",
       "        \n",
       "    \n",
       "    \n",
       "            var marker_0f9574fa65dcbce07dcc65cfce7f16ad = L.marker(\n",
       "                [23.11995071306764, -82.41835419828072],\n",
       "                {\n",
       "}\n",
       "            ).addTo(map_925613df095e17c33a5b049f8b266fd0);\n",
       "        \n",
       "    \n",
       "            var icon_f65ffee915332ba1302f514e4476a769 = L.AwesomeMarkers.icon(\n",
       "                {\n",
       "  &quot;markerColor&quot;: &quot;red&quot;,\n",
       "  &quot;iconColor&quot;: &quot;white&quot;,\n",
       "  &quot;icon&quot;: &quot;cutlery&quot;,\n",
       "  &quot;prefix&quot;: &quot;fa&quot;,\n",
       "  &quot;extraClasses&quot;: &quot;fa-rotate-0&quot;,\n",
       "}\n",
       "            );\n",
       "            marker_0f9574fa65dcbce07dcc65cfce7f16ad.setIcon(icon_f65ffee915332ba1302f514e4476a769);\n",
       "        \n",
       "    \n",
       "        var popup_9a8d5bc4e5439e62797d5476e173446b = L.popup({\n",
       "  &quot;maxWidth&quot;: &quot;100%&quot;,\n",
       "});\n",
       "\n",
       "        \n",
       "            \n",
       "                var html_03e45edd18780d20b9f4475d6d06e84f = $(`&lt;div id=&quot;html_03e45edd18780d20b9f4475d6d06e84f&quot; style=&quot;width: 100.0%; height: 100.0%;&quot;&gt;(&quot;&lt;b style=&#x27;font-size: 18px; &#x27;&gt;Fellini&lt;/b&gt;&lt;br&gt;Direccion: Calle 20 entre 9na y 7ma&quot;, &quot;Especialidades: [&#x27;cubana&#x27;, &#x27;internacional&#x27;]&quot;)&lt;/div&gt;`)[0];\n",
       "                popup_9a8d5bc4e5439e62797d5476e173446b.setContent(html_03e45edd18780d20b9f4475d6d06e84f);\n",
       "            \n",
       "        \n",
       "\n",
       "        marker_0f9574fa65dcbce07dcc65cfce7f16ad.bindPopup(popup_9a8d5bc4e5439e62797d5476e173446b)\n",
       "        ;\n",
       "\n",
       "        \n",
       "    \n",
       "    \n",
       "            var marker_5c1ee7d1756f7f3e8acc85977e303275 = L.marker(\n",
       "                [23.04594907869068, -82.37133353203541],\n",
       "                {\n",
       "}\n",
       "            ).addTo(map_925613df095e17c33a5b049f8b266fd0);\n",
       "        \n",
       "    \n",
       "            var icon_d81fc0314784a9965b7c891a550657e3 = L.AwesomeMarkers.icon(\n",
       "                {\n",
       "  &quot;markerColor&quot;: &quot;red&quot;,\n",
       "  &quot;iconColor&quot;: &quot;white&quot;,\n",
       "  &quot;icon&quot;: &quot;cutlery&quot;,\n",
       "  &quot;prefix&quot;: &quot;fa&quot;,\n",
       "  &quot;extraClasses&quot;: &quot;fa-rotate-0&quot;,\n",
       "}\n",
       "            );\n",
       "            marker_5c1ee7d1756f7f3e8acc85977e303275.setIcon(icon_d81fc0314784a9965b7c891a550657e3);\n",
       "        \n",
       "    \n",
       "        var popup_ce016c4c2f9ba05b1f65c1a5bc0218c8 = L.popup({\n",
       "  &quot;maxWidth&quot;: &quot;100%&quot;,\n",
       "});\n",
       "\n",
       "        \n",
       "            \n",
       "                var html_ad4f26f1fa334862b44b5da8e9e554fe = $(`&lt;div id=&quot;html_ad4f26f1fa334862b44b5da8e9e554fe&quot; style=&quot;width: 100.0%; height: 100.0%;&quot;&gt;(&quot;&lt;b style=&#x27;font-size: 18px; &#x27;&gt;Fiesta Criolla&lt;/b&gt;&lt;br&gt;Direccion: Calle 100 #1003 (después del puente de calabazar), Arroyo Naranjo&quot;, &quot;Especialidades: [&#x27;cubana&#x27;]&quot;)&lt;/div&gt;`)[0];\n",
       "                popup_ce016c4c2f9ba05b1f65c1a5bc0218c8.setContent(html_ad4f26f1fa334862b44b5da8e9e554fe);\n",
       "            \n",
       "        \n",
       "\n",
       "        marker_5c1ee7d1756f7f3e8acc85977e303275.bindPopup(popup_ce016c4c2f9ba05b1f65c1a5bc0218c8)\n",
       "        ;\n",
       "\n",
       "        \n",
       "    \n",
       "    \n",
       "            var marker_5064297a2c802344282be519ab4bde68 = L.marker(\n",
       "                [23.01940199162402, -82.4892786916919],\n",
       "                {\n",
       "}\n",
       "            ).addTo(map_925613df095e17c33a5b049f8b266fd0);\n",
       "        \n",
       "    \n",
       "            var icon_9d71cda2c89538056f1fcc147d55e200 = L.AwesomeMarkers.icon(\n",
       "                {\n",
       "  &quot;markerColor&quot;: &quot;red&quot;,\n",
       "  &quot;iconColor&quot;: &quot;white&quot;,\n",
       "  &quot;icon&quot;: &quot;cutlery&quot;,\n",
       "  &quot;prefix&quot;: &quot;fa&quot;,\n",
       "  &quot;extraClasses&quot;: &quot;fa-rotate-0&quot;,\n",
       "}\n",
       "            );\n",
       "            marker_5064297a2c802344282be519ab4bde68.setIcon(icon_9d71cda2c89538056f1fcc147d55e200);\n",
       "        \n",
       "    \n",
       "        var popup_6a72bba16dddef3cb0c365a7ec141a93 = L.popup({\n",
       "  &quot;maxWidth&quot;: &quot;100%&quot;,\n",
       "});\n",
       "\n",
       "        \n",
       "            \n",
       "                var html_a5dd8ed4af218ff8f99a43b33eb94756 = $(`&lt;div id=&quot;html_a5dd8ed4af218ff8f99a43b33eb94756&quot; style=&quot;width: 100.0%; height: 100.0%;&quot;&gt;(&quot;&lt;b style=&#x27;font-size: 18px; &#x27;&gt;Finca La Pinta&lt;/b&gt;&lt;br&gt;Direccion:  Avenida 251 N.2409 entre 20 y 28&quot;, &quot;Especialidades: [&#x27;internacional&#x27;, &#x27;cubana&#x27;, &#x27;caribena&#x27;, &#x27;italiana&#x27;, &#x27;latina&#x27;]&quot;)&lt;/div&gt;`)[0];\n",
       "                popup_6a72bba16dddef3cb0c365a7ec141a93.setContent(html_a5dd8ed4af218ff8f99a43b33eb94756);\n",
       "            \n",
       "        \n",
       "\n",
       "        marker_5064297a2c802344282be519ab4bde68.bindPopup(popup_6a72bba16dddef3cb0c365a7ec141a93)\n",
       "        ;\n",
       "\n",
       "        \n",
       "    \n",
       "    \n",
       "            var marker_ff943622b7d00c4318c9735d23bf3d6a = L.marker(\n",
       "                [23.136041318926157, -82.36214978250345],\n",
       "                {\n",
       "}\n",
       "            ).addTo(map_925613df095e17c33a5b049f8b266fd0);\n",
       "        \n",
       "    \n",
       "            var icon_379ab204c2c7e26a936c327a949eb0f7 = L.AwesomeMarkers.icon(\n",
       "                {\n",
       "  &quot;markerColor&quot;: &quot;red&quot;,\n",
       "  &quot;iconColor&quot;: &quot;white&quot;,\n",
       "  &quot;icon&quot;: &quot;cutlery&quot;,\n",
       "  &quot;prefix&quot;: &quot;fa&quot;,\n",
       "  &quot;extraClasses&quot;: &quot;fa-rotate-0&quot;,\n",
       "}\n",
       "            );\n",
       "            marker_ff943622b7d00c4318c9735d23bf3d6a.setIcon(icon_379ab204c2c7e26a936c327a949eb0f7);\n",
       "        \n",
       "    \n",
       "        var popup_cbb0b54a82aba0060267e8fb70579e1a = L.popup({\n",
       "  &quot;maxWidth&quot;: &quot;100%&quot;,\n",
       "});\n",
       "\n",
       "        \n",
       "            \n",
       "                var html_3427899658fa2c31fc82be7f6058a4ab = $(`&lt;div id=&quot;html_3427899658fa2c31fc82be7f6058a4ab&quot; style=&quot;width: 100.0%; height: 100.0%;&quot;&gt;(&quot;&lt;b style=&#x27;font-size: 18px; &#x27;&gt;Fin de Siglo&lt;/b&gt;&lt;br&gt;Direccion: Esquina Aguila y San Martin&quot;, &quot;Especialidades: [&#x27;Cubana&#x27;, &#x27;Italiana&#x27;]&quot;)&lt;/div&gt;`)[0];\n",
       "                popup_cbb0b54a82aba0060267e8fb70579e1a.setContent(html_3427899658fa2c31fc82be7f6058a4ab);\n",
       "            \n",
       "        \n",
       "\n",
       "        marker_ff943622b7d00c4318c9735d23bf3d6a.bindPopup(popup_cbb0b54a82aba0060267e8fb70579e1a)\n",
       "        ;\n",
       "\n",
       "        \n",
       "    \n",
       "    \n",
       "            var marker_07dc0157c1968af29024a60e813ccdd4 = L.marker(\n",
       "                [23.137505971829647, -82.35738137449714],\n",
       "                {\n",
       "}\n",
       "            ).addTo(map_925613df095e17c33a5b049f8b266fd0);\n",
       "        \n",
       "    \n",
       "            var icon_a95adbddc480f78970eec1a1f9c02f40 = L.AwesomeMarkers.icon(\n",
       "                {\n",
       "  &quot;markerColor&quot;: &quot;red&quot;,\n",
       "  &quot;iconColor&quot;: &quot;white&quot;,\n",
       "  &quot;icon&quot;: &quot;cutlery&quot;,\n",
       "  &quot;prefix&quot;: &quot;fa&quot;,\n",
       "  &quot;extraClasses&quot;: &quot;fa-rotate-0&quot;,\n",
       "}\n",
       "            );\n",
       "            marker_07dc0157c1968af29024a60e813ccdd4.setIcon(icon_a95adbddc480f78970eec1a1f9c02f40);\n",
       "        \n",
       "    \n",
       "        var popup_df175f1c0eea47b0adb9dcf2f080fa58 = L.popup({\n",
       "  &quot;maxWidth&quot;: &quot;100%&quot;,\n",
       "});\n",
       "\n",
       "        \n",
       "            \n",
       "                var html_4f4afa31e97d59b6546a08eb17f5cd8b = $(`&lt;div id=&quot;html_4f4afa31e97d59b6546a08eb17f5cd8b&quot; style=&quot;width: 100.0%; height: 100.0%;&quot;&gt;(&quot;&lt;b style=&#x27;font-size: 18px; &#x27;&gt;Floridita&lt;/b&gt;&lt;br&gt;Direccion: Obispo No 557 esquina Monserrate&quot;, &quot;Especialidades: [&#x27;Mariscos&#x27;]&quot;)&lt;/div&gt;`)[0];\n",
       "                popup_df175f1c0eea47b0adb9dcf2f080fa58.setContent(html_4f4afa31e97d59b6546a08eb17f5cd8b);\n",
       "            \n",
       "        \n",
       "\n",
       "        marker_07dc0157c1968af29024a60e813ccdd4.bindPopup(popup_df175f1c0eea47b0adb9dcf2f080fa58)\n",
       "        ;\n",
       "\n",
       "        \n",
       "    \n",
       "    \n",
       "            var marker_d5faffaadb3c4edc39b31e321984d17b = L.marker(\n",
       "                [23.140492623277456, -82.35174687469267],\n",
       "                {\n",
       "}\n",
       "            ).addTo(map_925613df095e17c33a5b049f8b266fd0);\n",
       "        \n",
       "    \n",
       "            var icon_bcb6fac943bd068221fcd2798e3f98ae = L.AwesomeMarkers.icon(\n",
       "                {\n",
       "  &quot;markerColor&quot;: &quot;red&quot;,\n",
       "  &quot;iconColor&quot;: &quot;white&quot;,\n",
       "  &quot;icon&quot;: &quot;cutlery&quot;,\n",
       "  &quot;prefix&quot;: &quot;fa&quot;,\n",
       "  &quot;extraClasses&quot;: &quot;fa-rotate-0&quot;,\n",
       "}\n",
       "            );\n",
       "            marker_d5faffaadb3c4edc39b31e321984d17b.setIcon(icon_bcb6fac943bd068221fcd2798e3f98ae);\n",
       "        \n",
       "    \n",
       "        var popup_a23dad64a7a535c903270c0f5e17b699 = L.popup({\n",
       "  &quot;maxWidth&quot;: &quot;100%&quot;,\n",
       "});\n",
       "\n",
       "        \n",
       "            \n",
       "                var html_40058f30e6fbe4c9bed11e4db1eb10f6 = $(`&lt;div id=&quot;html_40058f30e6fbe4c9bed11e4db1eb10f6&quot; style=&quot;width: 100.0%; height: 100.0%;&quot;&gt;(&quot;&lt;b style=&#x27;font-size: 18px; &#x27;&gt;Fonda Al Pirata&lt;/b&gt;&lt;br&gt;Direccion: San Ignacio #76 e/ O&#x27;Reilly y Empedrado&quot;, &quot;Especialidades: [&#x27;Caribena&#x27;, &#x27;Cubana&#x27;]&quot;)&lt;/div&gt;`)[0];\n",
       "                popup_a23dad64a7a535c903270c0f5e17b699.setContent(html_40058f30e6fbe4c9bed11e4db1eb10f6);\n",
       "            \n",
       "        \n",
       "\n",
       "        marker_d5faffaadb3c4edc39b31e321984d17b.bindPopup(popup_a23dad64a7a535c903270c0f5e17b699)\n",
       "        ;\n",
       "\n",
       "        \n",
       "    \n",
       "    \n",
       "            var marker_829d5c97d76480f3431c65446d7893f1 = L.marker(\n",
       "                [23.108876604302726, -82.440550925563],\n",
       "                {\n",
       "}\n",
       "            ).addTo(map_925613df095e17c33a5b049f8b266fd0);\n",
       "        \n",
       "    \n",
       "            var icon_d7286a974a4dec871628e37d8e914609 = L.AwesomeMarkers.icon(\n",
       "                {\n",
       "  &quot;markerColor&quot;: &quot;red&quot;,\n",
       "  &quot;iconColor&quot;: &quot;white&quot;,\n",
       "  &quot;icon&quot;: &quot;cutlery&quot;,\n",
       "  &quot;prefix&quot;: &quot;fa&quot;,\n",
       "  &quot;extraClasses&quot;: &quot;fa-rotate-0&quot;,\n",
       "}\n",
       "            );\n",
       "            marker_829d5c97d76480f3431c65446d7893f1.setIcon(icon_d7286a974a4dec871628e37d8e914609);\n",
       "        \n",
       "    \n",
       "        var popup_527f8168f6dc125e72b5b51cc24d0830 = L.popup({\n",
       "  &quot;maxWidth&quot;: &quot;100%&quot;,\n",
       "});\n",
       "\n",
       "        \n",
       "            \n",
       "                var html_9a74613f6191db429e453638d5ab7c7b = $(`&lt;div id=&quot;html_9a74613f6191db429e453638d5ab7c7b&quot; style=&quot;width: 100.0%; height: 100.0%;&quot;&gt;(&quot;&lt;b style=&#x27;font-size: 18px; &#x27;&gt;FoodTruck Pelegrin&lt;/b&gt;&lt;br&gt;Direccion:  Miramar Trade Center, Centro de Negocios&quot;, &quot;Especialidades: [&#x27;cubana&#x27;, &#x27;internacional&#x27;]&quot;)&lt;/div&gt;`)[0];\n",
       "                popup_527f8168f6dc125e72b5b51cc24d0830.setContent(html_9a74613f6191db429e453638d5ab7c7b);\n",
       "            \n",
       "        \n",
       "\n",
       "        marker_829d5c97d76480f3431c65446d7893f1.bindPopup(popup_527f8168f6dc125e72b5b51cc24d0830)\n",
       "        ;\n",
       "\n",
       "        \n",
       "    \n",
       "    \n",
       "            var marker_e0abd88abe7fd55470935a0a87d6bd5d = L.marker(\n",
       "                [23.108117348063423, -82.4341893999906],\n",
       "                {\n",
       "}\n",
       "            ).addTo(map_925613df095e17c33a5b049f8b266fd0);\n",
       "        \n",
       "    \n",
       "            var icon_c54b5134ecff72ba5fa132626cedf50e = L.AwesomeMarkers.icon(\n",
       "                {\n",
       "  &quot;markerColor&quot;: &quot;red&quot;,\n",
       "  &quot;iconColor&quot;: &quot;white&quot;,\n",
       "  &quot;icon&quot;: &quot;cutlery&quot;,\n",
       "  &quot;prefix&quot;: &quot;fa&quot;,\n",
       "  &quot;extraClasses&quot;: &quot;fa-rotate-0&quot;,\n",
       "}\n",
       "            );\n",
       "            marker_e0abd88abe7fd55470935a0a87d6bd5d.setIcon(icon_c54b5134ecff72ba5fa132626cedf50e);\n",
       "        \n",
       "    \n",
       "        var popup_01fc0788d19e11374eb37db0ae833d4c = L.popup({\n",
       "  &quot;maxWidth&quot;: &quot;100%&quot;,\n",
       "});\n",
       "\n",
       "        \n",
       "            \n",
       "                var html_07713d537575128880263d0c3ed58d8f = $(`&lt;div id=&quot;html_07713d537575128880263d0c3ed58d8f&quot; style=&quot;width: 100.0%; height: 100.0%;&quot;&gt;(&quot;&lt;b style=&#x27;font-size: 18px; &#x27;&gt;FoodMaster&lt;/b&gt;&lt;br&gt;Direccion: 7 A&quot;, &quot;Especialidades: [&#x27;Mexicana&#x27;, &#x27;Americana&#x27;, &#x27;Café&#x27;, &#x27;Internacional&#x27;, &#x27;Pizzas&#x27;]&quot;)&lt;/div&gt;`)[0];\n",
       "                popup_01fc0788d19e11374eb37db0ae833d4c.setContent(html_07713d537575128880263d0c3ed58d8f);\n",
       "            \n",
       "        \n",
       "\n",
       "        marker_e0abd88abe7fd55470935a0a87d6bd5d.bindPopup(popup_01fc0788d19e11374eb37db0ae833d4c)\n",
       "        ;\n",
       "\n",
       "        \n",
       "    \n",
       "    \n",
       "            var marker_d2687252ad727dc34ffb3f96682c6ee2 = L.marker(\n",
       "                [23.12209228452483, -82.40512312898908],\n",
       "                {\n",
       "}\n",
       "            ).addTo(map_925613df095e17c33a5b049f8b266fd0);\n",
       "        \n",
       "    \n",
       "            var icon_890943f97a51c0f48e7c2b4ed1ffeb88 = L.AwesomeMarkers.icon(\n",
       "                {\n",
       "  &quot;markerColor&quot;: &quot;red&quot;,\n",
       "  &quot;iconColor&quot;: &quot;white&quot;,\n",
       "  &quot;icon&quot;: &quot;cutlery&quot;,\n",
       "  &quot;prefix&quot;: &quot;fa&quot;,\n",
       "  &quot;extraClasses&quot;: &quot;fa-rotate-0&quot;,\n",
       "}\n",
       "            );\n",
       "            marker_d2687252ad727dc34ffb3f96682c6ee2.setIcon(icon_890943f97a51c0f48e7c2b4ed1ffeb88);\n",
       "        \n",
       "    \n",
       "        var popup_83f9a0e0d97b10ef349d5937c309bdf7 = L.popup({\n",
       "  &quot;maxWidth&quot;: &quot;100%&quot;,\n",
       "});\n",
       "\n",
       "        \n",
       "            \n",
       "                var html_fc4b58255f10dd0a1dee9deedb067dfc = $(`&lt;div id=&quot;html_fc4b58255f10dd0a1dee9deedb067dfc&quot; style=&quot;width: 100.0%; height: 100.0%;&quot;&gt;(&quot;&lt;b style=&#x27;font-size: 18px; &#x27;&gt;Fumiyaki&lt;/b&gt;&lt;br&gt;Direccion: Ave 26, No 367 ,entre calle 23 y calle 25, Vedado&quot;, &quot;Especialidades: [&#x27;Comida japonesa&#x27;, &#x27;asiatica&#x27;, &#x27;sushi&#x27;, &#x27;cubana&#x27;]&quot;)&lt;/div&gt;`)[0];\n",
       "                popup_83f9a0e0d97b10ef349d5937c309bdf7.setContent(html_fc4b58255f10dd0a1dee9deedb067dfc);\n",
       "            \n",
       "        \n",
       "\n",
       "        marker_d2687252ad727dc34ffb3f96682c6ee2.bindPopup(popup_83f9a0e0d97b10ef349d5937c309bdf7)\n",
       "        ;\n",
       "\n",
       "        \n",
       "    \n",
       "    \n",
       "            var marker_75279c20615eb2551fb5fe1759567222 = L.marker(\n",
       "                [23.135893503982505, -82.36265785250283],\n",
       "                {\n",
       "}\n",
       "            ).addTo(map_925613df095e17c33a5b049f8b266fd0);\n",
       "        \n",
       "    \n",
       "            var icon_6155b459367bb79ec7f084842082b466 = L.AwesomeMarkers.icon(\n",
       "                {\n",
       "  &quot;markerColor&quot;: &quot;red&quot;,\n",
       "  &quot;iconColor&quot;: &quot;white&quot;,\n",
       "  &quot;icon&quot;: &quot;cutlery&quot;,\n",
       "  &quot;prefix&quot;: &quot;fa&quot;,\n",
       "  &quot;extraClasses&quot;: &quot;fa-rotate-0&quot;,\n",
       "}\n",
       "            );\n",
       "            marker_75279c20615eb2551fb5fe1759567222.setIcon(icon_6155b459367bb79ec7f084842082b466);\n",
       "        \n",
       "    \n",
       "        var popup_317c83a36a4c4994f17f7c17c97b8704 = L.popup({\n",
       "  &quot;maxWidth&quot;: &quot;100%&quot;,\n",
       "});\n",
       "\n",
       "        \n",
       "            \n",
       "                var html_6de23f785adc48f2e246b851e6f30af9 = $(`&lt;div id=&quot;html_6de23f785adc48f2e246b851e6f30af9&quot; style=&quot;width: 100.0%; height: 100.0%;&quot;&gt;(&quot;&lt;b style=&#x27;font-size: 18px; &#x27;&gt;Galy Cafe&lt;/b&gt;&lt;br&gt;Direccion: San Martin entre Galeano y Aguila&quot;, &quot;Especialidades: [&#x27;caribeña&#x27;, &#x27;latina&#x27;, &#x27;internacional&#x27;, &#x27;cubana&#x27;]&quot;)&lt;/div&gt;`)[0];\n",
       "                popup_317c83a36a4c4994f17f7c17c97b8704.setContent(html_6de23f785adc48f2e246b851e6f30af9);\n",
       "            \n",
       "        \n",
       "\n",
       "        marker_75279c20615eb2551fb5fe1759567222.bindPopup(popup_317c83a36a4c4994f17f7c17c97b8704)\n",
       "        ;\n",
       "\n",
       "        \n",
       "    \n",
       "    \n",
       "            var marker_ef658c317623fd829b13de488801d49a = L.marker(\n",
       "                [23.14374457538385, -82.35553752883533],\n",
       "                {\n",
       "}\n",
       "            ).addTo(map_925613df095e17c33a5b049f8b266fd0);\n",
       "        \n",
       "    \n",
       "            var icon_1c377cdadaad0bc00fe84f8f22d14b20 = L.AwesomeMarkers.icon(\n",
       "                {\n",
       "  &quot;markerColor&quot;: &quot;red&quot;,\n",
       "  &quot;iconColor&quot;: &quot;white&quot;,\n",
       "  &quot;icon&quot;: &quot;cutlery&quot;,\n",
       "  &quot;prefix&quot;: &quot;fa&quot;,\n",
       "  &quot;extraClasses&quot;: &quot;fa-rotate-0&quot;,\n",
       "}\n",
       "            );\n",
       "            marker_ef658c317623fd829b13de488801d49a.setIcon(icon_1c377cdadaad0bc00fe84f8f22d14b20);\n",
       "        \n",
       "    \n",
       "        var popup_c99271afcb603b83411a2a2a2d9333ca = L.popup({\n",
       "  &quot;maxWidth&quot;: &quot;100%&quot;,\n",
       "});\n",
       "\n",
       "        \n",
       "            \n",
       "                var html_cc375e50bdd534d44f25da4c90c32499 = $(`&lt;div id=&quot;html_cc375e50bdd534d44f25da4c90c32499&quot; style=&quot;width: 100.0%; height: 100.0%;&quot;&gt;(&quot;&lt;b style=&#x27;font-size: 18px; &#x27;&gt;Habana 5 Rooftop&lt;/b&gt;&lt;br&gt;Direccion: Calle Habana entre Pena Pobre y Av. Belgica&quot;, &quot;Especialidades: [&#x27;Internacional&#x27;, &#x27;cubana&#x27;]&quot;)&lt;/div&gt;`)[0];\n",
       "                popup_c99271afcb603b83411a2a2a2d9333ca.setContent(html_cc375e50bdd534d44f25da4c90c32499);\n",
       "            \n",
       "        \n",
       "\n",
       "        marker_ef658c317623fd829b13de488801d49a.bindPopup(popup_c99271afcb603b83411a2a2a2d9333ca)\n",
       "        ;\n",
       "\n",
       "        \n",
       "    \n",
       "    \n",
       "            var marker_4ae2968a2e405808418a261976737733 = L.marker(\n",
       "                [23.142484323536937, -82.35509901886921],\n",
       "                {\n",
       "}\n",
       "            ).addTo(map_925613df095e17c33a5b049f8b266fd0);\n",
       "        \n",
       "    \n",
       "            var icon_ab3f3d19205e9d9d1792d5022200e396 = L.AwesomeMarkers.icon(\n",
       "                {\n",
       "  &quot;markerColor&quot;: &quot;red&quot;,\n",
       "  &quot;iconColor&quot;: &quot;white&quot;,\n",
       "  &quot;icon&quot;: &quot;cutlery&quot;,\n",
       "  &quot;prefix&quot;: &quot;fa&quot;,\n",
       "  &quot;extraClasses&quot;: &quot;fa-rotate-0&quot;,\n",
       "}\n",
       "            );\n",
       "            marker_4ae2968a2e405808418a261976737733.setIcon(icon_ab3f3d19205e9d9d1792d5022200e396);\n",
       "        \n",
       "    \n",
       "        var popup_108af6288b0d879cb6d1e9385c07e948 = L.popup({\n",
       "  &quot;maxWidth&quot;: &quot;100%&quot;,\n",
       "});\n",
       "\n",
       "        \n",
       "            \n",
       "                var html_f32c88b8a8e66141683e870f9dda74e8 = $(`&lt;div id=&quot;html_f32c88b8a8e66141683e870f9dda74e8&quot; style=&quot;width: 100.0%; height: 100.0%;&quot;&gt;(&quot;&lt;b style=&#x27;font-size: 18px; &#x27;&gt;Habana 61&lt;/b&gt;&lt;br&gt;Direccion: Calle Habana #61 entre Peña Pobre y Cuarteles&quot;, &quot;Especialidades: [&#x27;Mixta&#x27;]&quot;)&lt;/div&gt;`)[0];\n",
       "                popup_108af6288b0d879cb6d1e9385c07e948.setContent(html_f32c88b8a8e66141683e870f9dda74e8);\n",
       "            \n",
       "        \n",
       "\n",
       "        marker_4ae2968a2e405808418a261976737733.bindPopup(popup_108af6288b0d879cb6d1e9385c07e948)\n",
       "        ;\n",
       "\n",
       "        \n",
       "    \n",
       "    \n",
       "            var marker_df262d15e1bf1b644b48f1f5583f65a4 = L.marker(\n",
       "                [23.13923764561611, -82.3885387467372],\n",
       "                {\n",
       "}\n",
       "            ).addTo(map_925613df095e17c33a5b049f8b266fd0);\n",
       "        \n",
       "    \n",
       "            var icon_04a5c94995c21ead997be2079b34b261 = L.AwesomeMarkers.icon(\n",
       "                {\n",
       "  &quot;markerColor&quot;: &quot;red&quot;,\n",
       "  &quot;iconColor&quot;: &quot;white&quot;,\n",
       "  &quot;icon&quot;: &quot;cutlery&quot;,\n",
       "  &quot;prefix&quot;: &quot;fa&quot;,\n",
       "  &quot;extraClasses&quot;: &quot;fa-rotate-0&quot;,\n",
       "}\n",
       "            );\n",
       "            marker_df262d15e1bf1b644b48f1f5583f65a4.setIcon(icon_04a5c94995c21ead997be2079b34b261);\n",
       "        \n",
       "    \n",
       "        var popup_f2cc90e49b5e2c5b3718b561f606c996 = L.popup({\n",
       "  &quot;maxWidth&quot;: &quot;100%&quot;,\n",
       "});\n",
       "\n",
       "        \n",
       "            \n",
       "                var html_b96b9330e08c10d249b62d176ac06b63 = $(`&lt;div id=&quot;html_b96b9330e08c10d249b62d176ac06b63&quot; style=&quot;width: 100.0%; height: 100.0%;&quot;&gt;(&quot;&lt;b style=&#x27;font-size: 18px; &#x27;&gt;Habana Blues&lt;/b&gt;&lt;br&gt;Direccion: Calle H no. 405 entre 17 y 19, Vedado&quot;, &quot;Especialidades: [&#x27;Comida caribeña&#x27;, &#x27;latina&#x27;, &#x27;criolla&#x27;, &#x27;cubana&#x27;]&quot;)&lt;/div&gt;`)[0];\n",
       "                popup_f2cc90e49b5e2c5b3718b561f606c996.setContent(html_b96b9330e08c10d249b62d176ac06b63);\n",
       "            \n",
       "        \n",
       "\n",
       "        marker_df262d15e1bf1b644b48f1f5583f65a4.bindPopup(popup_f2cc90e49b5e2c5b3718b561f606c996)\n",
       "        ;\n",
       "\n",
       "        \n",
       "    \n",
       "    \n",
       "            var marker_cf4b16c61254669bbfb64ee6510766d6 = L.marker(\n",
       "                [23.137436298849373, -82.3563168151748],\n",
       "                {\n",
       "}\n",
       "            ).addTo(map_925613df095e17c33a5b049f8b266fd0);\n",
       "        \n",
       "    \n",
       "            var icon_20264403cb62cb93025804266459aa02 = L.AwesomeMarkers.icon(\n",
       "                {\n",
       "  &quot;markerColor&quot;: &quot;red&quot;,\n",
       "  &quot;iconColor&quot;: &quot;white&quot;,\n",
       "  &quot;icon&quot;: &quot;cutlery&quot;,\n",
       "  &quot;prefix&quot;: &quot;fa&quot;,\n",
       "  &quot;extraClasses&quot;: &quot;fa-rotate-0&quot;,\n",
       "}\n",
       "            );\n",
       "            marker_cf4b16c61254669bbfb64ee6510766d6.setIcon(icon_20264403cb62cb93025804266459aa02);\n",
       "        \n",
       "    \n",
       "        var popup_823f832cb3063aa51bca1165825bdbf0 = L.popup({\n",
       "  &quot;maxWidth&quot;: &quot;100%&quot;,\n",
       "});\n",
       "\n",
       "        \n",
       "            \n",
       "                var html_7e651cbfaacabbe868540eff117194f3 = $(`&lt;div id=&quot;html_7e651cbfaacabbe868540eff117194f3&quot; style=&quot;width: 100.0%; height: 100.0%;&quot;&gt;(&quot;&lt;b style=&#x27;font-size: 18px; &#x27;&gt;Habana Tokio&lt;/b&gt;&lt;br&gt;Direccion: Calle Obrapía entre Bernaza y Villegas&quot;, &quot;Especialidades: [&#x27;Japonesa&#x27;]&quot;)&lt;/div&gt;`)[0];\n",
       "                popup_823f832cb3063aa51bca1165825bdbf0.setContent(html_7e651cbfaacabbe868540eff117194f3);\n",
       "            \n",
       "        \n",
       "\n",
       "        marker_cf4b16c61254669bbfb64ee6510766d6.bindPopup(popup_823f832cb3063aa51bca1165825bdbf0)\n",
       "        ;\n",
       "\n",
       "        \n",
       "    \n",
       "    \n",
       "            var marker_912bfd6e6ec5e7bc2a50698f4dd43f97 = L.marker(\n",
       "                [23.131252647235588, -82.37457288968206],\n",
       "                {\n",
       "}\n",
       "            ).addTo(map_925613df095e17c33a5b049f8b266fd0);\n",
       "        \n",
       "    \n",
       "            var icon_6da914725f9433295c3fdad5a506c0fa = L.AwesomeMarkers.icon(\n",
       "                {\n",
       "  &quot;markerColor&quot;: &quot;red&quot;,\n",
       "  &quot;iconColor&quot;: &quot;white&quot;,\n",
       "  &quot;icon&quot;: &quot;cutlery&quot;,\n",
       "  &quot;prefix&quot;: &quot;fa&quot;,\n",
       "  &quot;extraClasses&quot;: &quot;fa-rotate-0&quot;,\n",
       "}\n",
       "            );\n",
       "            marker_912bfd6e6ec5e7bc2a50698f4dd43f97.setIcon(icon_6da914725f9433295c3fdad5a506c0fa);\n",
       "        \n",
       "    \n",
       "        var popup_c049746b244387be84c21903bd57a2e7 = L.popup({\n",
       "  &quot;maxWidth&quot;: &quot;100%&quot;,\n",
       "});\n",
       "\n",
       "        \n",
       "            \n",
       "                var html_cd8ecbaf34faaa281dbec4cb6c0df2bb = $(`&lt;div id=&quot;html_cd8ecbaf34faaa281dbec4cb6c0df2bb&quot; style=&quot;width: 100.0%; height: 100.0%;&quot;&gt;(&quot;&lt;b style=&#x27;font-size: 18px; &#x27;&gt;Hamburgo&lt;/b&gt;&lt;br&gt;Direccion: Carlos III entre Retiro y Arbol Seco&quot;, &quot;Especialidades: [&#x27;americana&#x27;]&quot;)&lt;/div&gt;`)[0];\n",
       "                popup_c049746b244387be84c21903bd57a2e7.setContent(html_cd8ecbaf34faaa281dbec4cb6c0df2bb);\n",
       "            \n",
       "        \n",
       "\n",
       "        marker_912bfd6e6ec5e7bc2a50698f4dd43f97.bindPopup(popup_c049746b244387be84c21903bd57a2e7)\n",
       "        ;\n",
       "\n",
       "        \n",
       "    \n",
       "    \n",
       "            var marker_b4bd8902c3bf9f2f137fb31fad2b545f = L.marker(\n",
       "                [23.0881096622714, -82.36848083672511],\n",
       "                {\n",
       "}\n",
       "            ).addTo(map_925613df095e17c33a5b049f8b266fd0);\n",
       "        \n",
       "    \n",
       "            var icon_82f48a5c8a4e9bba545627cf0fceb299 = L.AwesomeMarkers.icon(\n",
       "                {\n",
       "  &quot;markerColor&quot;: &quot;red&quot;,\n",
       "  &quot;iconColor&quot;: &quot;white&quot;,\n",
       "  &quot;icon&quot;: &quot;cutlery&quot;,\n",
       "  &quot;prefix&quot;: &quot;fa&quot;,\n",
       "  &quot;extraClasses&quot;: &quot;fa-rotate-0&quot;,\n",
       "}\n",
       "            );\n",
       "            marker_b4bd8902c3bf9f2f137fb31fad2b545f.setIcon(icon_82f48a5c8a4e9bba545627cf0fceb299);\n",
       "        \n",
       "    \n",
       "        var popup_d2ed1f5242d7d36c140667198b5bd0c0 = L.popup({\n",
       "  &quot;maxWidth&quot;: &quot;100%&quot;,\n",
       "});\n",
       "\n",
       "        \n",
       "            \n",
       "                var html_05464d9c3344a401ad1377ddbd2b8668 = $(`&lt;div id=&quot;html_05464d9c3344a401ad1377ddbd2b8668&quot; style=&quot;width: 100.0%; height: 100.0%;&quot;&gt;(&quot;&lt;b style=&#x27;font-size: 18px; &#x27;&gt;Heredia&lt;/b&gt;&lt;br&gt;Direccion: Calle Heredia % Avenida Acosta y O&#x27;Farril&quot;, &#x27;Especialidades: []&#x27;)&lt;/div&gt;`)[0];\n",
       "                popup_d2ed1f5242d7d36c140667198b5bd0c0.setContent(html_05464d9c3344a401ad1377ddbd2b8668);\n",
       "            \n",
       "        \n",
       "\n",
       "        marker_b4bd8902c3bf9f2f137fb31fad2b545f.bindPopup(popup_d2ed1f5242d7d36c140667198b5bd0c0)\n",
       "        ;\n",
       "\n",
       "        \n",
       "    \n",
       "    \n",
       "            var marker_cb8d7613d7dd1f1935666098a83e0643 = L.marker(\n",
       "                [23.101888417856312, -82.43068882213893],\n",
       "                {\n",
       "}\n",
       "            ).addTo(map_925613df095e17c33a5b049f8b266fd0);\n",
       "        \n",
       "    \n",
       "            var icon_db20725c622620a4b31dee51236494b4 = L.AwesomeMarkers.icon(\n",
       "                {\n",
       "  &quot;markerColor&quot;: &quot;red&quot;,\n",
       "  &quot;iconColor&quot;: &quot;white&quot;,\n",
       "  &quot;icon&quot;: &quot;cutlery&quot;,\n",
       "  &quot;prefix&quot;: &quot;fa&quot;,\n",
       "  &quot;extraClasses&quot;: &quot;fa-rotate-0&quot;,\n",
       "}\n",
       "            );\n",
       "            marker_cb8d7613d7dd1f1935666098a83e0643.setIcon(icon_db20725c622620a4b31dee51236494b4);\n",
       "        \n",
       "    \n",
       "        var popup_374ce7edc37cdc85f68757617abd876f = L.popup({\n",
       "  &quot;maxWidth&quot;: &quot;100%&quot;,\n",
       "});\n",
       "\n",
       "        \n",
       "            \n",
       "                var html_ff00b51a9d237a9d179ee305596f39a0 = $(`&lt;div id=&quot;html_ff00b51a9d237a9d179ee305596f39a0&quot; style=&quot;width: 100.0%; height: 100.0%;&quot;&gt;(&quot;&lt;b style=&#x27;font-size: 18px; &#x27;&gt;Home Deli&lt;/b&gt;&lt;br&gt;Direccion: 19&quot;, &quot;Especialidades: [&#x27;italiana&#x27;]&quot;)&lt;/div&gt;`)[0];\n",
       "                popup_374ce7edc37cdc85f68757617abd876f.setContent(html_ff00b51a9d237a9d179ee305596f39a0);\n",
       "            \n",
       "        \n",
       "\n",
       "        marker_cb8d7613d7dd1f1935666098a83e0643.bindPopup(popup_374ce7edc37cdc85f68757617abd876f)\n",
       "        ;\n",
       "\n",
       "        \n",
       "    \n",
       "    \n",
       "            var marker_66a52e08b6b148f3f2efe21a193d0c5d = L.marker(\n",
       "                [23.13499567642231, -82.37838807795364],\n",
       "                {\n",
       "}\n",
       "            ).addTo(map_925613df095e17c33a5b049f8b266fd0);\n",
       "        \n",
       "    \n",
       "            var icon_8cbaaafe98f6b23878586b4f16aaee34 = L.AwesomeMarkers.icon(\n",
       "                {\n",
       "  &quot;markerColor&quot;: &quot;red&quot;,\n",
       "  &quot;iconColor&quot;: &quot;white&quot;,\n",
       "  &quot;icon&quot;: &quot;cutlery&quot;,\n",
       "  &quot;prefix&quot;: &quot;fa&quot;,\n",
       "  &quot;extraClasses&quot;: &quot;fa-rotate-0&quot;,\n",
       "}\n",
       "            );\n",
       "            marker_66a52e08b6b148f3f2efe21a193d0c5d.setIcon(icon_8cbaaafe98f6b23878586b4f16aaee34);\n",
       "        \n",
       "    \n",
       "        var popup_d2135c973aebf1db1d4667155979f3b6 = L.popup({\n",
       "  &quot;maxWidth&quot;: &quot;100%&quot;,\n",
       "});\n",
       "\n",
       "        \n",
       "            \n",
       "                var html_457a4deaec429a35c3b7591b618557ee = $(`&lt;div id=&quot;html_457a4deaec429a35c3b7591b618557ee&quot; style=&quot;width: 100.0%; height: 100.0%;&quot;&gt;(&quot;&lt;b style=&#x27;font-size: 18px; &#x27;&gt;&lt;/b&gt;&lt;br&gt;Direccion: Infanta 560&quot;, &quot;Especialidades: [&#x27;italiana&#x27;]&quot;)&lt;/div&gt;`)[0];\n",
       "                popup_d2135c973aebf1db1d4667155979f3b6.setContent(html_457a4deaec429a35c3b7591b618557ee);\n",
       "            \n",
       "        \n",
       "\n",
       "        marker_66a52e08b6b148f3f2efe21a193d0c5d.bindPopup(popup_d2135c973aebf1db1d4667155979f3b6)\n",
       "        ;\n",
       "\n",
       "        \n",
       "    \n",
       "    \n",
       "            var marker_dae2db1df8038e44d3aec494d7c49fb4 = L.marker(\n",
       "                [23.166623898573555, -82.27753889194905],\n",
       "                {\n",
       "}\n",
       "            ).addTo(map_925613df095e17c33a5b049f8b266fd0);\n",
       "        \n",
       "    \n",
       "            var icon_b83949c2cca01efa00f8a5eb686225f2 = L.AwesomeMarkers.icon(\n",
       "                {\n",
       "  &quot;markerColor&quot;: &quot;red&quot;,\n",
       "  &quot;iconColor&quot;: &quot;white&quot;,\n",
       "  &quot;icon&quot;: &quot;cutlery&quot;,\n",
       "  &quot;prefix&quot;: &quot;fa&quot;,\n",
       "  &quot;extraClasses&quot;: &quot;fa-rotate-0&quot;,\n",
       "}\n",
       "            );\n",
       "            marker_dae2db1df8038e44d3aec494d7c49fb4.setIcon(icon_b83949c2cca01efa00f8a5eb686225f2);\n",
       "        \n",
       "    \n",
       "        var popup_137c65af768b1736d564b822c138cbc2 = L.popup({\n",
       "  &quot;maxWidth&quot;: &quot;100%&quot;,\n",
       "});\n",
       "\n",
       "        \n",
       "            \n",
       "                var html_65e959955184df7ea5fa109d298dd1b3 = $(`&lt;div id=&quot;html_65e959955184df7ea5fa109d298dd1b3&quot; style=&quot;width: 100.0%; height: 100.0%;&quot;&gt;(&quot;&lt;b style=&#x27;font-size: 18px; &#x27;&gt;Jackfe&lt;/b&gt;&lt;br&gt;Direccion: Calle 164B, #3B01, Esquina 3ra B, Mercado de los Rusos, zona 1, Alamar&quot;, &quot;Especialidades: [&#x27;Comida mixta&#x27;]&quot;)&lt;/div&gt;`)[0];\n",
       "                popup_137c65af768b1736d564b822c138cbc2.setContent(html_65e959955184df7ea5fa109d298dd1b3);\n",
       "            \n",
       "        \n",
       "\n",
       "        marker_dae2db1df8038e44d3aec494d7c49fb4.bindPopup(popup_137c65af768b1736d564b822c138cbc2)\n",
       "        ;\n",
       "\n",
       "        \n",
       "    \n",
       "    \n",
       "            var marker_695e98457eed6009627776e004b39d49 = L.marker(\n",
       "                [23.140066946343797, -82.35321025582338],\n",
       "                {\n",
       "}\n",
       "            ).addTo(map_925613df095e17c33a5b049f8b266fd0);\n",
       "        \n",
       "    \n",
       "            var icon_3a5410bd7c9685671426fcffae383876 = L.AwesomeMarkers.icon(\n",
       "                {\n",
       "  &quot;markerColor&quot;: &quot;red&quot;,\n",
       "  &quot;iconColor&quot;: &quot;white&quot;,\n",
       "  &quot;icon&quot;: &quot;cutlery&quot;,\n",
       "  &quot;prefix&quot;: &quot;fa&quot;,\n",
       "  &quot;extraClasses&quot;: &quot;fa-rotate-0&quot;,\n",
       "}\n",
       "            );\n",
       "            marker_695e98457eed6009627776e004b39d49.setIcon(icon_3a5410bd7c9685671426fcffae383876);\n",
       "        \n",
       "    \n",
       "        var popup_244ac3273aec9f6874321aa52afc17ac = L.popup({\n",
       "  &quot;maxWidth&quot;: &quot;100%&quot;,\n",
       "});\n",
       "\n",
       "        \n",
       "            \n",
       "                var html_285b8463e146e7b803f08a6c98cb023d = $(`&lt;div id=&quot;html_285b8463e146e7b803f08a6c98cb023d&quot; style=&quot;width: 100.0%; height: 100.0%;&quot;&gt;(&quot;&lt;b style=&#x27;font-size: 18px; &#x27;&gt;JAMA Asian Food&lt;/b&gt;&lt;br&gt;Direccion: Calle Aguiar No 251 B entre OReilly y Empedrado&quot;, &quot;Especialidades: [&#x27;Comida Japonesa&#x27;, &#x27;Sushi&#x27;, &#x27;Asiática&#x27;]&quot;)&lt;/div&gt;`)[0];\n",
       "                popup_244ac3273aec9f6874321aa52afc17ac.setContent(html_285b8463e146e7b803f08a6c98cb023d);\n",
       "            \n",
       "        \n",
       "\n",
       "        marker_695e98457eed6009627776e004b39d49.bindPopup(popup_244ac3273aec9f6874321aa52afc17ac)\n",
       "        ;\n",
       "\n",
       "        \n",
       "    \n",
       "    \n",
       "            var marker_230f7059ba1d0f60674e727d89d91428 = L.marker(\n",
       "                [23.088147890970745, -82.37788683401902],\n",
       "                {\n",
       "}\n",
       "            ).addTo(map_925613df095e17c33a5b049f8b266fd0);\n",
       "        \n",
       "    \n",
       "            var icon_7e7ec6acf5068cd83ad328aab71a32d5 = L.AwesomeMarkers.icon(\n",
       "                {\n",
       "  &quot;markerColor&quot;: &quot;red&quot;,\n",
       "  &quot;iconColor&quot;: &quot;white&quot;,\n",
       "  &quot;icon&quot;: &quot;cutlery&quot;,\n",
       "  &quot;prefix&quot;: &quot;fa&quot;,\n",
       "  &quot;extraClasses&quot;: &quot;fa-rotate-0&quot;,\n",
       "}\n",
       "            );\n",
       "            marker_230f7059ba1d0f60674e727d89d91428.setIcon(icon_7e7ec6acf5068cd83ad328aab71a32d5);\n",
       "        \n",
       "    \n",
       "        var popup_9599473434908c7f87fa17c0894ec318 = L.popup({\n",
       "  &quot;maxWidth&quot;: &quot;100%&quot;,\n",
       "});\n",
       "\n",
       "        \n",
       "            \n",
       "                var html_7713e8e32327391eeaf0243cff664f06 = $(`&lt;div id=&quot;html_7713e8e32327391eeaf0243cff664f06&quot; style=&quot;width: 100.0%; height: 100.0%;&quot;&gt;(&quot;&lt;b style=&#x27;font-size: 18px; &#x27;&gt;Joe&#x27;s Burguer&lt;/b&gt;&lt;br&gt;Direccion: Esquina Mayia Rodriguez y Aranguren&quot;, &quot;Especialidades: [&#x27;americana&#x27;, &#x27;internacional&#x27;]&quot;)&lt;/div&gt;`)[0];\n",
       "                popup_9599473434908c7f87fa17c0894ec318.setContent(html_7713e8e32327391eeaf0243cff664f06);\n",
       "            \n",
       "        \n",
       "\n",
       "        marker_230f7059ba1d0f60674e727d89d91428.bindPopup(popup_9599473434908c7f87fa17c0894ec318)\n",
       "        ;\n",
       "\n",
       "        \n",
       "    \n",
       "    \n",
       "            var marker_7a5d8a21b74edb10f4b2f7bada5ecbd0 = L.marker(\n",
       "                [23.12090996621169, -82.37354001445844],\n",
       "                {\n",
       "}\n",
       "            ).addTo(map_925613df095e17c33a5b049f8b266fd0);\n",
       "        \n",
       "    \n",
       "            var icon_c3a0035c2899b715bbac2a6679851112 = L.AwesomeMarkers.icon(\n",
       "                {\n",
       "  &quot;markerColor&quot;: &quot;red&quot;,\n",
       "  &quot;iconColor&quot;: &quot;white&quot;,\n",
       "  &quot;icon&quot;: &quot;cutlery&quot;,\n",
       "  &quot;prefix&quot;: &quot;fa&quot;,\n",
       "  &quot;extraClasses&quot;: &quot;fa-rotate-0&quot;,\n",
       "}\n",
       "            );\n",
       "            marker_7a5d8a21b74edb10f4b2f7bada5ecbd0.setIcon(icon_c3a0035c2899b715bbac2a6679851112);\n",
       "        \n",
       "    \n",
       "        var popup_48883f5ead33030efbe549c8f0f471bc = L.popup({\n",
       "  &quot;maxWidth&quot;: &quot;100%&quot;,\n",
       "});\n",
       "\n",
       "        \n",
       "            \n",
       "                var html_7365714e5e08fde617f5dba1797f1cdc = $(`&lt;div id=&quot;html_7365714e5e08fde617f5dba1797f1cdc&quot; style=&quot;width: 100.0%; height: 100.0%;&quot;&gt;(&quot;&lt;b style=&#x27;font-size: 18px; &#x27;&gt;Jorgito&#x27;s Pizzas&lt;/b&gt;&lt;br&gt;Direccion: Pedroso entre Infanta y Cruz del Pader&quot;, &quot;Especialidades: [&#x27;italiana&#x27;]&quot;)&lt;/div&gt;`)[0];\n",
       "                popup_48883f5ead33030efbe549c8f0f471bc.setContent(html_7365714e5e08fde617f5dba1797f1cdc);\n",
       "            \n",
       "        \n",
       "\n",
       "        marker_7a5d8a21b74edb10f4b2f7bada5ecbd0.bindPopup(popup_48883f5ead33030efbe549c8f0f471bc)\n",
       "        ;\n",
       "\n",
       "        \n",
       "    \n",
       "    \n",
       "            var marker_d012d866a1019826ebe79d2ceeaaba7e = L.marker(\n",
       "                [23.130003976381268, -82.41350459680528],\n",
       "                {\n",
       "}\n",
       "            ).addTo(map_925613df095e17c33a5b049f8b266fd0);\n",
       "        \n",
       "    \n",
       "            var icon_72cb5000662bd4566e8a6e1c4c267791 = L.AwesomeMarkers.icon(\n",
       "                {\n",
       "  &quot;markerColor&quot;: &quot;red&quot;,\n",
       "  &quot;iconColor&quot;: &quot;white&quot;,\n",
       "  &quot;icon&quot;: &quot;cutlery&quot;,\n",
       "  &quot;prefix&quot;: &quot;fa&quot;,\n",
       "  &quot;extraClasses&quot;: &quot;fa-rotate-0&quot;,\n",
       "}\n",
       "            );\n",
       "            marker_d012d866a1019826ebe79d2ceeaaba7e.setIcon(icon_72cb5000662bd4566e8a6e1c4c267791);\n",
       "        \n",
       "    \n",
       "        var popup_785277ed721bd08494727742428a4315 = L.popup({\n",
       "  &quot;maxWidth&quot;: &quot;100%&quot;,\n",
       "});\n",
       "\n",
       "        \n",
       "            \n",
       "                var html_3364cda0a817d6293b7d84f50fa377f9 = $(`&lt;div id=&quot;html_3364cda0a817d6293b7d84f50fa377f9&quot; style=&quot;width: 100.0%; height: 100.0%;&quot;&gt;(&quot;&lt;b style=&#x27;font-size: 18px; &#x27;&gt;Jota Jota&lt;/b&gt;&lt;br&gt;Direccion: Calle 0 entre 3ra y 5ta&quot;, &quot;Especialidades: [&#x27;italiana&#x27;]&quot;)&lt;/div&gt;`)[0];\n",
       "                popup_785277ed721bd08494727742428a4315.setContent(html_3364cda0a817d6293b7d84f50fa377f9);\n",
       "            \n",
       "        \n",
       "\n",
       "        marker_d012d866a1019826ebe79d2ceeaaba7e.bindPopup(popup_785277ed721bd08494727742428a4315)\n",
       "        ;\n",
       "\n",
       "        \n",
       "    \n",
       "    \n",
       "            var marker_8ee5c98dd5303fcc3493c4c6c3fce400 = L.marker(\n",
       "                [23.07212815069161, -82.46031809008416],\n",
       "                {\n",
       "}\n",
       "            ).addTo(map_925613df095e17c33a5b049f8b266fd0);\n",
       "        \n",
       "    \n",
       "            var icon_65f6149a5fa31061b403b070dd8e5284 = L.AwesomeMarkers.icon(\n",
       "                {\n",
       "  &quot;markerColor&quot;: &quot;red&quot;,\n",
       "  &quot;iconColor&quot;: &quot;white&quot;,\n",
       "  &quot;icon&quot;: &quot;cutlery&quot;,\n",
       "  &quot;prefix&quot;: &quot;fa&quot;,\n",
       "  &quot;extraClasses&quot;: &quot;fa-rotate-0&quot;,\n",
       "}\n",
       "            );\n",
       "            marker_8ee5c98dd5303fcc3493c4c6c3fce400.setIcon(icon_65f6149a5fa31061b403b070dd8e5284);\n",
       "        \n",
       "    \n",
       "        var popup_c02633be3918aa860e2453a72949a439 = L.popup({\n",
       "  &quot;maxWidth&quot;: &quot;100%&quot;,\n",
       "});\n",
       "\n",
       "        \n",
       "            \n",
       "                var html_3ee13f27b8bfd5d2d99263194a536372 = $(`&lt;div id=&quot;html_3ee13f27b8bfd5d2d99263194a536372&quot; style=&quot;width: 100.0%; height: 100.0%;&quot;&gt;(&quot;&lt;b style=&#x27;font-size: 18px; &#x27;&gt;Juanky&#x27;s Pan&lt;/b&gt;&lt;br&gt;Direccion: 23 A entre 202 y 212 Reparto la Coronela &quot;, &quot;Especialidades: [&#x27;sandwich&#x27;]&quot;)&lt;/div&gt;`)[0];\n",
       "                popup_c02633be3918aa860e2453a72949a439.setContent(html_3ee13f27b8bfd5d2d99263194a536372);\n",
       "            \n",
       "        \n",
       "\n",
       "        marker_8ee5c98dd5303fcc3493c4c6c3fce400.bindPopup(popup_c02633be3918aa860e2453a72949a439)\n",
       "        ;\n",
       "\n",
       "        \n",
       "    \n",
       "    \n",
       "            var marker_4feb05026cb401d93cc33a17b3f03029 = L.marker(\n",
       "                [23.095284182284068, -82.36305903151953],\n",
       "                {\n",
       "}\n",
       "            ).addTo(map_925613df095e17c33a5b049f8b266fd0);\n",
       "        \n",
       "    \n",
       "            var icon_0958877c49bec17fc49f02a642c94d37 = L.AwesomeMarkers.icon(\n",
       "                {\n",
       "  &quot;markerColor&quot;: &quot;red&quot;,\n",
       "  &quot;iconColor&quot;: &quot;white&quot;,\n",
       "  &quot;icon&quot;: &quot;cutlery&quot;,\n",
       "  &quot;prefix&quot;: &quot;fa&quot;,\n",
       "  &quot;extraClasses&quot;: &quot;fa-rotate-0&quot;,\n",
       "}\n",
       "            );\n",
       "            marker_4feb05026cb401d93cc33a17b3f03029.setIcon(icon_0958877c49bec17fc49f02a642c94d37);\n",
       "        \n",
       "    \n",
       "        var popup_f41786ac7ac80f86eb123a62049a296e = L.popup({\n",
       "  &quot;maxWidth&quot;: &quot;100%&quot;,\n",
       "});\n",
       "\n",
       "        \n",
       "            \n",
       "                var html_0184216005dfaeab2a2162ff25a45a5f = $(`&lt;div id=&quot;html_0184216005dfaeab2a2162ff25a45a5f&quot; style=&quot;width: 100.0%; height: 100.0%;&quot;&gt;(&quot;&lt;b style=&#x27;font-size: 18px; &#x27;&gt;Kafe DVD&lt;/b&gt;&lt;br&gt;Direccion: San Francisco entre 10 de Octubre y Delicias&quot;, &quot;Especialidades: [&#x27;criolla&#x27;]&quot;)&lt;/div&gt;`)[0];\n",
       "                popup_f41786ac7ac80f86eb123a62049a296e.setContent(html_0184216005dfaeab2a2162ff25a45a5f);\n",
       "            \n",
       "        \n",
       "\n",
       "        marker_4feb05026cb401d93cc33a17b3f03029.bindPopup(popup_f41786ac7ac80f86eb123a62049a296e)\n",
       "        ;\n",
       "\n",
       "        \n",
       "    \n",
       "    \n",
       "            var marker_da0e0c43f3fefb6ae507dad56ff4f413 = L.marker(\n",
       "                [23.139549087699173, -82.3756494611986],\n",
       "                {\n",
       "}\n",
       "            ).addTo(map_925613df095e17c33a5b049f8b266fd0);\n",
       "        \n",
       "    \n",
       "            var icon_89646ea7f86ff8ec3d8d4d157eed9e42 = L.AwesomeMarkers.icon(\n",
       "                {\n",
       "  &quot;markerColor&quot;: &quot;red&quot;,\n",
       "  &quot;iconColor&quot;: &quot;white&quot;,\n",
       "  &quot;icon&quot;: &quot;cutlery&quot;,\n",
       "  &quot;prefix&quot;: &quot;fa&quot;,\n",
       "  &quot;extraClasses&quot;: &quot;fa-rotate-0&quot;,\n",
       "}\n",
       "            );\n",
       "            marker_da0e0c43f3fefb6ae507dad56ff4f413.setIcon(icon_89646ea7f86ff8ec3d8d4d157eed9e42);\n",
       "        \n",
       "    \n",
       "        var popup_2bb28e8319d361776d75f5cb1150c0b0 = L.popup({\n",
       "  &quot;maxWidth&quot;: &quot;100%&quot;,\n",
       "});\n",
       "\n",
       "        \n",
       "            \n",
       "                var html_3c19342303222498fe25073ee10d23dd = $(`&lt;div id=&quot;html_3c19342303222498fe25073ee10d23dd&quot; style=&quot;width: 100.0%; height: 100.0%;&quot;&gt;(&quot;&lt;b style=&#x27;font-size: 18px; &#x27;&gt;Kasa Takos&lt;/b&gt;&lt;br&gt;Direccion: Hospital y Aramburu, 966 entre San Lazaro&quot;, &quot;Especialidades: [&#x27;Comida caribeña&#x27;, &#x27;mexicana&#x27;, &#x27;cubana&#x27;]&quot;)&lt;/div&gt;`)[0];\n",
       "                popup_2bb28e8319d361776d75f5cb1150c0b0.setContent(html_3c19342303222498fe25073ee10d23dd);\n",
       "            \n",
       "        \n",
       "\n",
       "        marker_da0e0c43f3fefb6ae507dad56ff4f413.bindPopup(popup_2bb28e8319d361776d75f5cb1150c0b0)\n",
       "        ;\n",
       "\n",
       "        \n",
       "    \n",
       "    \n",
       "            var marker_c420c37b693b654cc58a3d859a5363b5 = L.marker(\n",
       "                [23.100196337428876, -82.36994932052565],\n",
       "                {\n",
       "}\n",
       "            ).addTo(map_925613df095e17c33a5b049f8b266fd0);\n",
       "        \n",
       "    \n",
       "            var icon_be7332d183f715d813ac9f3fd76ba8d3 = L.AwesomeMarkers.icon(\n",
       "                {\n",
       "  &quot;markerColor&quot;: &quot;red&quot;,\n",
       "  &quot;iconColor&quot;: &quot;white&quot;,\n",
       "  &quot;icon&quot;: &quot;cutlery&quot;,\n",
       "  &quot;prefix&quot;: &quot;fa&quot;,\n",
       "  &quot;extraClasses&quot;: &quot;fa-rotate-0&quot;,\n",
       "}\n",
       "            );\n",
       "            marker_c420c37b693b654cc58a3d859a5363b5.setIcon(icon_be7332d183f715d813ac9f3fd76ba8d3);\n",
       "        \n",
       "    \n",
       "        var popup_5b82054420eebab7d0b7c0f2ff640a1f = L.popup({\n",
       "  &quot;maxWidth&quot;: &quot;100%&quot;,\n",
       "});\n",
       "\n",
       "        \n",
       "            \n",
       "                var html_c8afaf738043a421977fef8c851868c4 = $(`&lt;div id=&quot;html_c8afaf738043a421977fef8c851868c4&quot; style=&quot;width: 100.0%; height: 100.0%;&quot;&gt;(&quot;&lt;b style=&#x27;font-size: 18px; &#x27;&gt;Kimera&lt;/b&gt;&lt;br&gt;Direccion: #311, Calle Lacret entre Juan Bruno Zallas y Cortina, Santos Suarez&quot;, &quot;Especialidades: [&#x27;internaciona&#x27;, &#x27;cubana&#x27;, &#x27;italiana&#x27;]&quot;)&lt;/div&gt;`)[0];\n",
       "                popup_5b82054420eebab7d0b7c0f2ff640a1f.setContent(html_c8afaf738043a421977fef8c851868c4);\n",
       "            \n",
       "        \n",
       "\n",
       "        marker_c420c37b693b654cc58a3d859a5363b5.bindPopup(popup_5b82054420eebab7d0b7c0f2ff640a1f)\n",
       "        ;\n",
       "\n",
       "        \n",
       "    \n",
       "    \n",
       "            var marker_f03973be2996c6721b9f5ebb0049cf28 = L.marker(\n",
       "                [23.07982261108124, -82.32043410333418],\n",
       "                {\n",
       "}\n",
       "            ).addTo(map_925613df095e17c33a5b049f8b266fd0);\n",
       "        \n",
       "    \n",
       "            var icon_3b02f0d53c1f84276ea971e95d61c5d2 = L.AwesomeMarkers.icon(\n",
       "                {\n",
       "  &quot;markerColor&quot;: &quot;red&quot;,\n",
       "  &quot;iconColor&quot;: &quot;white&quot;,\n",
       "  &quot;icon&quot;: &quot;cutlery&quot;,\n",
       "  &quot;prefix&quot;: &quot;fa&quot;,\n",
       "  &quot;extraClasses&quot;: &quot;fa-rotate-0&quot;,\n",
       "}\n",
       "            );\n",
       "            marker_f03973be2996c6721b9f5ebb0049cf28.setIcon(icon_3b02f0d53c1f84276ea971e95d61c5d2);\n",
       "        \n",
       "    \n",
       "        var popup_d45aeb2e253c7d7868b1d33276e1f824 = L.popup({\n",
       "  &quot;maxWidth&quot;: &quot;100%&quot;,\n",
       "});\n",
       "\n",
       "        \n",
       "            \n",
       "                var html_2dde9f1863ac621eeabd5f75c3b98f1d = $(`&lt;div id=&quot;html_2dde9f1863ac621eeabd5f75c3b98f1d&quot; style=&quot;width: 100.0%; height: 100.0%;&quot;&gt;(&quot;&lt;b style=&#x27;font-size: 18px; &#x27;&gt;KY-13&lt;/b&gt;&lt;br&gt;Direccion: Calzada de guines #45 e/ 13 y 23 AMP. San Matias&quot;, &quot;Especialidades: [&#x27;criolla&#x27;, &#x27;italiana&#x27;]&quot;)&lt;/div&gt;`)[0];\n",
       "                popup_d45aeb2e253c7d7868b1d33276e1f824.setContent(html_2dde9f1863ac621eeabd5f75c3b98f1d);\n",
       "            \n",
       "        \n",
       "\n",
       "        marker_f03973be2996c6721b9f5ebb0049cf28.bindPopup(popup_d45aeb2e253c7d7868b1d33276e1f824)\n",
       "        ;\n",
       "\n",
       "        \n",
       "    \n",
       "    \n",
       "            var marker_2fab3af48e7e6d0aeba0dea33dbc2fe2 = L.marker(\n",
       "                [23.06738029017932, -82.46823262236785],\n",
       "                {\n",
       "}\n",
       "            ).addTo(map_925613df095e17c33a5b049f8b266fd0);\n",
       "        \n",
       "    \n",
       "            var icon_bfd6c22223957c09d82adf05f89f40a9 = L.AwesomeMarkers.icon(\n",
       "                {\n",
       "  &quot;markerColor&quot;: &quot;red&quot;,\n",
       "  &quot;iconColor&quot;: &quot;white&quot;,\n",
       "  &quot;icon&quot;: &quot;cutlery&quot;,\n",
       "  &quot;prefix&quot;: &quot;fa&quot;,\n",
       "  &quot;extraClasses&quot;: &quot;fa-rotate-0&quot;,\n",
       "}\n",
       "            );\n",
       "            marker_2fab3af48e7e6d0aeba0dea33dbc2fe2.setIcon(icon_bfd6c22223957c09d82adf05f89f40a9);\n",
       "        \n",
       "    \n",
       "        var popup_96ae501f26d9f9fc9bad3850e8c900cb = L.popup({\n",
       "  &quot;maxWidth&quot;: &quot;100%&quot;,\n",
       "});\n",
       "\n",
       "        \n",
       "            \n",
       "                var html_9e9587b26dbc67042e189f9002eea111 = $(`&lt;div id=&quot;html_9e9587b26dbc67042e189f9002eea111&quot; style=&quot;width: 100.0%; height: 100.0%;&quot;&gt;(&quot;&lt;b style=&#x27;font-size: 18px; &#x27;&gt;La Baliza&lt;/b&gt;&lt;br&gt;Direccion: Entre avenida 23 y 23 A&quot;, &quot;Especialidades: [&#x27;americana&#x27;, &#x27;italiana&#x27;]&quot;)&lt;/div&gt;`)[0];\n",
       "                popup_96ae501f26d9f9fc9bad3850e8c900cb.setContent(html_9e9587b26dbc67042e189f9002eea111);\n",
       "            \n",
       "        \n",
       "\n",
       "        marker_2fab3af48e7e6d0aeba0dea33dbc2fe2.bindPopup(popup_96ae501f26d9f9fc9bad3850e8c900cb)\n",
       "        ;\n",
       "\n",
       "        \n",
       "    \n",
       "    \n",
       "            var marker_4a4b85d3315d6286f72951b552accc24 = L.marker(\n",
       "                [23.14013425278987, -82.3482903668532],\n",
       "                {\n",
       "}\n",
       "            ).addTo(map_925613df095e17c33a5b049f8b266fd0);\n",
       "        \n",
       "    \n",
       "            var icon_38f56668ffa7366e3a6b81230eafd9d1 = L.AwesomeMarkers.icon(\n",
       "                {\n",
       "  &quot;markerColor&quot;: &quot;red&quot;,\n",
       "  &quot;iconColor&quot;: &quot;white&quot;,\n",
       "  &quot;icon&quot;: &quot;cutlery&quot;,\n",
       "  &quot;prefix&quot;: &quot;fa&quot;,\n",
       "  &quot;extraClasses&quot;: &quot;fa-rotate-0&quot;,\n",
       "}\n",
       "            );\n",
       "            marker_4a4b85d3315d6286f72951b552accc24.setIcon(icon_38f56668ffa7366e3a6b81230eafd9d1);\n",
       "        \n",
       "    \n",
       "        var popup_ed255ae64022683e3bf35da86ae2a784 = L.popup({\n",
       "  &quot;maxWidth&quot;: &quot;100%&quot;,\n",
       "});\n",
       "\n",
       "        \n",
       "            \n",
       "                var html_6254505ccdec0063b8f30a99837be0ed = $(`&lt;div id=&quot;html_6254505ccdec0063b8f30a99837be0ed&quot; style=&quot;width: 100.0%; height: 100.0%;&quot;&gt;(&quot;&lt;b style=&#x27;font-size: 18px; &#x27;&gt;La Barca&lt;/b&gt;&lt;br&gt;Direccion: Avenida del Puerto, esquina Obispo&quot;, &quot;Especialidades: [&#x27;Criolla&#x27;]&quot;)&lt;/div&gt;`)[0];\n",
       "                popup_ed255ae64022683e3bf35da86ae2a784.setContent(html_6254505ccdec0063b8f30a99837be0ed);\n",
       "            \n",
       "        \n",
       "\n",
       "        marker_4a4b85d3315d6286f72951b552accc24.bindPopup(popup_ed255ae64022683e3bf35da86ae2a784)\n",
       "        ;\n",
       "\n",
       "        \n",
       "    \n",
       "    \n",
       "            var marker_8dc31e49e2b2cb03bd5146a2c25bdf64 = L.marker(\n",
       "                [23.01984142812014, -82.48766936323709],\n",
       "                {\n",
       "}\n",
       "            ).addTo(map_925613df095e17c33a5b049f8b266fd0);\n",
       "        \n",
       "    \n",
       "            var icon_a2db56a4933d57dfb7634d4deb8984dc = L.AwesomeMarkers.icon(\n",
       "                {\n",
       "  &quot;markerColor&quot;: &quot;red&quot;,\n",
       "  &quot;iconColor&quot;: &quot;white&quot;,\n",
       "  &quot;icon&quot;: &quot;cutlery&quot;,\n",
       "  &quot;prefix&quot;: &quot;fa&quot;,\n",
       "  &quot;extraClasses&quot;: &quot;fa-rotate-0&quot;,\n",
       "}\n",
       "            );\n",
       "            marker_8dc31e49e2b2cb03bd5146a2c25bdf64.setIcon(icon_a2db56a4933d57dfb7634d4deb8984dc);\n",
       "        \n",
       "    \n",
       "        var popup_bf93a8c74ce87d8bebdcfd1564fcbb51 = L.popup({\n",
       "  &quot;maxWidth&quot;: &quot;100%&quot;,\n",
       "});\n",
       "\n",
       "        \n",
       "            \n",
       "                var html_cc3e0280c519e195595488f9dbd81cc9 = $(`&lt;div id=&quot;html_cc3e0280c519e195595488f9dbd81cc9&quot; style=&quot;width: 100.0%; height: 100.0%;&quot;&gt;(&quot;&lt;b style=&#x27;font-size: 18px; &#x27;&gt;La casa del campesino&lt;/b&gt;&lt;br&gt;Direccion: Desconocida&quot;, &quot;Especialidades: [&#x27;cubana&#x27;]&quot;)&lt;/div&gt;`)[0];\n",
       "                popup_bf93a8c74ce87d8bebdcfd1564fcbb51.setContent(html_cc3e0280c519e195595488f9dbd81cc9);\n",
       "            \n",
       "        \n",
       "\n",
       "        marker_8dc31e49e2b2cb03bd5146a2c25bdf64.bindPopup(popup_bf93a8c74ce87d8bebdcfd1564fcbb51)\n",
       "        ;\n",
       "\n",
       "        \n",
       "    \n",
       "    \n",
       "            var marker_767f5708fff6e84a3834ae6b30d12e26 = L.marker(\n",
       "                [23.14012116111188, -82.4018177339757],\n",
       "                {\n",
       "}\n",
       "            ).addTo(map_925613df095e17c33a5b049f8b266fd0);\n",
       "        \n",
       "    \n",
       "            var icon_1a17818243d4f55c2056a6520befe302 = L.AwesomeMarkers.icon(\n",
       "                {\n",
       "  &quot;markerColor&quot;: &quot;red&quot;,\n",
       "  &quot;iconColor&quot;: &quot;white&quot;,\n",
       "  &quot;icon&quot;: &quot;cutlery&quot;,\n",
       "  &quot;prefix&quot;: &quot;fa&quot;,\n",
       "  &quot;extraClasses&quot;: &quot;fa-rotate-0&quot;,\n",
       "}\n",
       "            );\n",
       "            marker_767f5708fff6e84a3834ae6b30d12e26.setIcon(icon_1a17818243d4f55c2056a6520befe302);\n",
       "        \n",
       "    \n",
       "        var popup_37907953650959dcb6a476a78a0218de = L.popup({\n",
       "  &quot;maxWidth&quot;: &quot;100%&quot;,\n",
       "});\n",
       "\n",
       "        \n",
       "            \n",
       "                var html_5a84805913a4c6f5848427579c3980d6 = $(`&lt;div id=&quot;html_5a84805913a4c6f5848427579c3980d6&quot; style=&quot;width: 100.0%; height: 100.0%;&quot;&gt;(&quot;&lt;b style=&#x27;font-size: 18px; &#x27;&gt;La Cocinita&lt;/b&gt;&lt;br&gt;Direccion: Paseo entre 1era y 3era, Vedado&quot;, &quot;Especialidades: [&#x27;Comida cubana&#x27;, &#x27;caribeña&#x27;, &#x27;latina&#x27;, &#x27;criolla&#x27;]&quot;)&lt;/div&gt;`)[0];\n",
       "                popup_37907953650959dcb6a476a78a0218de.setContent(html_5a84805913a4c6f5848427579c3980d6);\n",
       "            \n",
       "        \n",
       "\n",
       "        marker_767f5708fff6e84a3834ae6b30d12e26.bindPopup(popup_37907953650959dcb6a476a78a0218de)\n",
       "        ;\n",
       "\n",
       "        \n",
       "    \n",
       "    \n",
       "            var marker_3b24ac2c9a2e6897c97e3e7795b2c131 = L.marker(\n",
       "                [23.04493541439918, -82.26869240537707],\n",
       "                {\n",
       "}\n",
       "            ).addTo(map_925613df095e17c33a5b049f8b266fd0);\n",
       "        \n",
       "    \n",
       "            var icon_dd10e3d8a02069d9c1772369190b0a51 = L.AwesomeMarkers.icon(\n",
       "                {\n",
       "  &quot;markerColor&quot;: &quot;red&quot;,\n",
       "  &quot;iconColor&quot;: &quot;white&quot;,\n",
       "  &quot;icon&quot;: &quot;cutlery&quot;,\n",
       "  &quot;prefix&quot;: &quot;fa&quot;,\n",
       "  &quot;extraClasses&quot;: &quot;fa-rotate-0&quot;,\n",
       "}\n",
       "            );\n",
       "            marker_3b24ac2c9a2e6897c97e3e7795b2c131.setIcon(icon_dd10e3d8a02069d9c1772369190b0a51);\n",
       "        \n",
       "    \n",
       "        var popup_6b915c88b337d1dce57beaea4b206e9f = L.popup({\n",
       "  &quot;maxWidth&quot;: &quot;100%&quot;,\n",
       "});\n",
       "\n",
       "        \n",
       "            \n",
       "                var html_515056a553d475d21d1a3a0073269100 = $(`&lt;div id=&quot;html_515056a553d475d21d1a3a0073269100&quot; style=&quot;width: 100.0%; height: 100.0%;&quot;&gt;(&quot;&lt;b style=&#x27;font-size: 18px; &#x27;&gt;La esquinita del Cotorro&lt;/b&gt;&lt;br&gt;Direccion: Avenida 71&quot;, &quot;Especialidades: [&#x27;hamburguesas&#x27;]&quot;)&lt;/div&gt;`)[0];\n",
       "                popup_6b915c88b337d1dce57beaea4b206e9f.setContent(html_515056a553d475d21d1a3a0073269100);\n",
       "            \n",
       "        \n",
       "\n",
       "        marker_3b24ac2c9a2e6897c97e3e7795b2c131.bindPopup(popup_6b915c88b337d1dce57beaea4b206e9f)\n",
       "        ;\n",
       "\n",
       "        \n",
       "    \n",
       "    \n",
       "            var marker_3a340609e89392175ff9b9173e1e3577 = L.marker(\n",
       "                [23.105239302631222, -82.35788567449791],\n",
       "                {\n",
       "}\n",
       "            ).addTo(map_925613df095e17c33a5b049f8b266fd0);\n",
       "        \n",
       "    \n",
       "            var icon_54cb00a6097d0681e25ca883967ae9f1 = L.AwesomeMarkers.icon(\n",
       "                {\n",
       "  &quot;markerColor&quot;: &quot;red&quot;,\n",
       "  &quot;iconColor&quot;: &quot;white&quot;,\n",
       "  &quot;icon&quot;: &quot;cutlery&quot;,\n",
       "  &quot;prefix&quot;: &quot;fa&quot;,\n",
       "  &quot;extraClasses&quot;: &quot;fa-rotate-0&quot;,\n",
       "}\n",
       "            );\n",
       "            marker_3a340609e89392175ff9b9173e1e3577.setIcon(icon_54cb00a6097d0681e25ca883967ae9f1);\n",
       "        \n",
       "    \n",
       "        var popup_d672e580523927aa4fef06c8c453dfc4 = L.popup({\n",
       "  &quot;maxWidth&quot;: &quot;100%&quot;,\n",
       "});\n",
       "\n",
       "        \n",
       "            \n",
       "                var html_32f5ff9031a6b5be8dcff9d0c4449d43 = $(`&lt;div id=&quot;html_32f5ff9031a6b5be8dcff9d0c4449d43&quot; style=&quot;width: 100.0%; height: 100.0%;&quot;&gt;(&quot;&lt;b style=&#x27;font-size: 18px; &#x27;&gt;La Fela&lt;/b&gt;&lt;br&gt;Direccion: #4, Nuestra Senora de Regla entre Remedios y Calzada de Luyano&quot;, &quot;Especialidades: [&#x27;cubana&#x27;, &#x27;italiana&#x27;]&quot;)&lt;/div&gt;`)[0];\n",
       "                popup_d672e580523927aa4fef06c8c453dfc4.setContent(html_32f5ff9031a6b5be8dcff9d0c4449d43);\n",
       "            \n",
       "        \n",
       "\n",
       "        marker_3a340609e89392175ff9b9173e1e3577.bindPopup(popup_d672e580523927aa4fef06c8c453dfc4)\n",
       "        ;\n",
       "\n",
       "        \n",
       "    \n",
       "    \n",
       "            var marker_6b06b0ec4525e5c3fa309eefecaa3cf7 = L.marker(\n",
       "                [23.088796529399392, -82.36067214699546],\n",
       "                {\n",
       "}\n",
       "            ).addTo(map_925613df095e17c33a5b049f8b266fd0);\n",
       "        \n",
       "    \n",
       "            var icon_e12141acfaf38fcd5b6fc9d40454fc9f = L.AwesomeMarkers.icon(\n",
       "                {\n",
       "  &quot;markerColor&quot;: &quot;red&quot;,\n",
       "  &quot;iconColor&quot;: &quot;white&quot;,\n",
       "  &quot;icon&quot;: &quot;cutlery&quot;,\n",
       "  &quot;prefix&quot;: &quot;fa&quot;,\n",
       "  &quot;extraClasses&quot;: &quot;fa-rotate-0&quot;,\n",
       "}\n",
       "            );\n",
       "            marker_6b06b0ec4525e5c3fa309eefecaa3cf7.setIcon(icon_e12141acfaf38fcd5b6fc9d40454fc9f);\n",
       "        \n",
       "    \n",
       "        var popup_1ace39ff5ed7ef37454418da94b0c5b3 = L.popup({\n",
       "  &quot;maxWidth&quot;: &quot;100%&quot;,\n",
       "});\n",
       "\n",
       "        \n",
       "            \n",
       "                var html_c46dc8dc1386913cb82011c8e9d977c0 = $(`&lt;div id=&quot;html_c46dc8dc1386913cb82011c8e9d977c0&quot; style=&quot;width: 100.0%; height: 100.0%;&quot;&gt;(&quot;&lt;b style=&#x27;font-size: 18px; &#x27;&gt;La Fuente&lt;/b&gt;&lt;br&gt;Direccion: Calle Acosta e/ 5ta y 6ta. Vista Alegre, Víbora&quot;, &quot;Especialidades: [&#x27;cubana&#x27;, &#x27;internacional&#x27;]&quot;)&lt;/div&gt;`)[0];\n",
       "                popup_1ace39ff5ed7ef37454418da94b0c5b3.setContent(html_c46dc8dc1386913cb82011c8e9d977c0);\n",
       "            \n",
       "        \n",
       "\n",
       "        marker_6b06b0ec4525e5c3fa309eefecaa3cf7.bindPopup(popup_1ace39ff5ed7ef37454418da94b0c5b3)\n",
       "        ;\n",
       "\n",
       "        \n",
       "    \n",
       "    \n",
       "            var marker_aacf66dee5098e4a83895ca88ba058d0 = L.marker(\n",
       "                [23.07120986898905, -82.46001932800391],\n",
       "                {\n",
       "}\n",
       "            ).addTo(map_925613df095e17c33a5b049f8b266fd0);\n",
       "        \n",
       "    \n",
       "            var icon_1ad02e0dd244742de03465d288749c6e = L.AwesomeMarkers.icon(\n",
       "                {\n",
       "  &quot;markerColor&quot;: &quot;red&quot;,\n",
       "  &quot;iconColor&quot;: &quot;white&quot;,\n",
       "  &quot;icon&quot;: &quot;cutlery&quot;,\n",
       "  &quot;prefix&quot;: &quot;fa&quot;,\n",
       "  &quot;extraClasses&quot;: &quot;fa-rotate-0&quot;,\n",
       "}\n",
       "            );\n",
       "            marker_aacf66dee5098e4a83895ca88ba058d0.setIcon(icon_1ad02e0dd244742de03465d288749c6e);\n",
       "        \n",
       "    \n",
       "        var popup_02199e8562c1e7955f7698ee98acb9b6 = L.popup({\n",
       "  &quot;maxWidth&quot;: &quot;100%&quot;,\n",
       "});\n",
       "\n",
       "        \n",
       "            \n",
       "                var html_dc6f23ef7ac5e1edca1853227d71e73e = $(`&lt;div id=&quot;html_dc6f23ef7ac5e1edca1853227d71e73e&quot; style=&quot;width: 100.0%; height: 100.0%;&quot;&gt;(&quot;&lt;b style=&#x27;font-size: 18px; &#x27;&gt;La Mia Pizza&lt;/b&gt;&lt;br&gt;Direccion: 29 y 23A&quot;, &quot;Especialidades: [&#x27;italiana&#x27;]&quot;)&lt;/div&gt;`)[0];\n",
       "                popup_02199e8562c1e7955f7698ee98acb9b6.setContent(html_dc6f23ef7ac5e1edca1853227d71e73e);\n",
       "            \n",
       "        \n",
       "\n",
       "        marker_aacf66dee5098e4a83895ca88ba058d0.bindPopup(popup_02199e8562c1e7955f7698ee98acb9b6)\n",
       "        ;\n",
       "\n",
       "        \n",
       "    \n",
       "    \n",
       "            var marker_672392a4db4eeefc6d7f46888563029f = L.marker(\n",
       "                [23.025265299543545, -82.46372134720235],\n",
       "                {\n",
       "}\n",
       "            ).addTo(map_925613df095e17c33a5b049f8b266fd0);\n",
       "        \n",
       "    \n",
       "            var icon_4c3d695f0e4c2da22490b6390be427c2 = L.AwesomeMarkers.icon(\n",
       "                {\n",
       "  &quot;markerColor&quot;: &quot;red&quot;,\n",
       "  &quot;iconColor&quot;: &quot;white&quot;,\n",
       "  &quot;icon&quot;: &quot;cutlery&quot;,\n",
       "  &quot;prefix&quot;: &quot;fa&quot;,\n",
       "  &quot;extraClasses&quot;: &quot;fa-rotate-0&quot;,\n",
       "}\n",
       "            );\n",
       "            marker_672392a4db4eeefc6d7f46888563029f.setIcon(icon_4c3d695f0e4c2da22490b6390be427c2);\n",
       "        \n",
       "    \n",
       "        var popup_f3068b4fb4bbbaab534c02337a8b15b2 = L.popup({\n",
       "  &quot;maxWidth&quot;: &quot;100%&quot;,\n",
       "});\n",
       "\n",
       "        \n",
       "            \n",
       "                var html_f6e7de011a520f8d2601fb5c5f7a7821 = $(`&lt;div id=&quot;html_f6e7de011a520f8d2601fb5c5f7a7821&quot; style=&quot;width: 100.0%; height: 100.0%;&quot;&gt;(&quot;&lt;b style=&#x27;font-size: 18px; &#x27;&gt; La Novia&lt;/b&gt;&lt;br&gt;Direccion: Calle 51 entre 330 y 332 numero 33013, La novia del mediodia&quot;, &quot;Especialidades: [&#x27;Cubana&#x27;, &#x27;Italiana&#x27;, &#x27;criolla&#x27;]&quot;)&lt;/div&gt;`)[0];\n",
       "                popup_f3068b4fb4bbbaab534c02337a8b15b2.setContent(html_f6e7de011a520f8d2601fb5c5f7a7821);\n",
       "            \n",
       "        \n",
       "\n",
       "        marker_672392a4db4eeefc6d7f46888563029f.bindPopup(popup_f3068b4fb4bbbaab534c02337a8b15b2)\n",
       "        ;\n",
       "\n",
       "        \n",
       "    \n",
       "    \n",
       "            var marker_fcb74cdf9a076498994391697ff4f431 = L.marker(\n",
       "                [23.090481747498764, -82.37664454717603],\n",
       "                {\n",
       "}\n",
       "            ).addTo(map_925613df095e17c33a5b049f8b266fd0);\n",
       "        \n",
       "    \n",
       "            var icon_375d878a8d7b069b32a475ed4e869fe2 = L.AwesomeMarkers.icon(\n",
       "                {\n",
       "  &quot;markerColor&quot;: &quot;red&quot;,\n",
       "  &quot;iconColor&quot;: &quot;white&quot;,\n",
       "  &quot;icon&quot;: &quot;cutlery&quot;,\n",
       "  &quot;prefix&quot;: &quot;fa&quot;,\n",
       "  &quot;extraClasses&quot;: &quot;fa-rotate-0&quot;,\n",
       "}\n",
       "            );\n",
       "            marker_fcb74cdf9a076498994391697ff4f431.setIcon(icon_375d878a8d7b069b32a475ed4e869fe2);\n",
       "        \n",
       "    \n",
       "        var popup_eec232d01ada1f7b1c8dc3c047fdacc4 = L.popup({\n",
       "  &quot;maxWidth&quot;: &quot;100%&quot;,\n",
       "});\n",
       "\n",
       "        \n",
       "            \n",
       "                var html_85df0fcdc710a5f44d392882a2e905f7 = $(`&lt;div id=&quot;html_85df0fcdc710a5f44d392882a2e905f7&quot; style=&quot;width: 100.0%; height: 100.0%;&quot;&gt;(&quot;&lt;b style=&#x27;font-size: 18px; &#x27;&gt;La Patrona&lt;/b&gt;&lt;br&gt;Direccion: Calzada de Guines en San Francisco de Paula&quot;, &quot;Especialidades: [&#x27;misxta&#x27;]&quot;)&lt;/div&gt;`)[0];\n",
       "                popup_eec232d01ada1f7b1c8dc3c047fdacc4.setContent(html_85df0fcdc710a5f44d392882a2e905f7);\n",
       "            \n",
       "        \n",
       "\n",
       "        marker_fcb74cdf9a076498994391697ff4f431.bindPopup(popup_eec232d01ada1f7b1c8dc3c047fdacc4)\n",
       "        ;\n",
       "\n",
       "        \n",
       "    \n",
       "    \n",
       "            var marker_8b4abb513a103818188b98f2e5100285 = L.marker(\n",
       "                [23.10168916405231, -82.3749154033336],\n",
       "                {\n",
       "}\n",
       "            ).addTo(map_925613df095e17c33a5b049f8b266fd0);\n",
       "        \n",
       "    \n",
       "            var icon_fb91c73c2b90501442d4da41cc3c493e = L.AwesomeMarkers.icon(\n",
       "                {\n",
       "  &quot;markerColor&quot;: &quot;red&quot;,\n",
       "  &quot;iconColor&quot;: &quot;white&quot;,\n",
       "  &quot;icon&quot;: &quot;cutlery&quot;,\n",
       "  &quot;prefix&quot;: &quot;fa&quot;,\n",
       "  &quot;extraClasses&quot;: &quot;fa-rotate-0&quot;,\n",
       "}\n",
       "            );\n",
       "            marker_8b4abb513a103818188b98f2e5100285.setIcon(icon_fb91c73c2b90501442d4da41cc3c493e);\n",
       "        \n",
       "    \n",
       "        var popup_7eb4b0ba3d8eff4f2d09c2ae521b224f = L.popup({\n",
       "  &quot;maxWidth&quot;: &quot;100%&quot;,\n",
       "});\n",
       "\n",
       "        \n",
       "            \n",
       "                var html_ca231fafe3f5816b588eeab9b4d975f5 = $(`&lt;div id=&quot;html_ca231fafe3f5816b588eeab9b4d975f5&quot; style=&quot;width: 100.0%; height: 100.0%;&quot;&gt;(&quot;&lt;b style=&#x27;font-size: 18px; &#x27;&gt;Lacret 559&lt;/b&gt;&lt;br&gt;Direccion: Gral. Lacret entre Avenida Mayia Rodriguez y Goicuria&quot;, &quot;Especialidades: [&#x27;mixta&#x27;]&quot;)&lt;/div&gt;`)[0];\n",
       "                popup_7eb4b0ba3d8eff4f2d09c2ae521b224f.setContent(html_ca231fafe3f5816b588eeab9b4d975f5);\n",
       "            \n",
       "        \n",
       "\n",
       "        marker_8b4abb513a103818188b98f2e5100285.bindPopup(popup_7eb4b0ba3d8eff4f2d09c2ae521b224f)\n",
       "        ;\n",
       "\n",
       "        \n",
       "    \n",
       "    \n",
       "            var marker_e98c737ace9d488e57d11bf7719d0d4f = L.marker(\n",
       "                [23.089446250644617, -82.37695227313037],\n",
       "                {\n",
       "}\n",
       "            ).addTo(map_925613df095e17c33a5b049f8b266fd0);\n",
       "        \n",
       "    \n",
       "            var icon_d6839eca8c25c27d63eee3229fea4f0b = L.AwesomeMarkers.icon(\n",
       "                {\n",
       "  &quot;markerColor&quot;: &quot;red&quot;,\n",
       "  &quot;iconColor&quot;: &quot;white&quot;,\n",
       "  &quot;icon&quot;: &quot;cutlery&quot;,\n",
       "  &quot;prefix&quot;: &quot;fa&quot;,\n",
       "  &quot;extraClasses&quot;: &quot;fa-rotate-0&quot;,\n",
       "}\n",
       "            );\n",
       "            marker_e98c737ace9d488e57d11bf7719d0d4f.setIcon(icon_d6839eca8c25c27d63eee3229fea4f0b);\n",
       "        \n",
       "    \n",
       "        var popup_d4c04cef71a0337836b8b8e648bd779f = L.popup({\n",
       "  &quot;maxWidth&quot;: &quot;100%&quot;,\n",
       "});\n",
       "\n",
       "        \n",
       "            \n",
       "                var html_5d2884d7f8971adf5aaada4abe151d00 = $(`&lt;div id=&quot;html_5d2884d7f8971adf5aaada4abe151d00&quot; style=&quot;width: 100.0%; height: 100.0%;&quot;&gt;(&quot;&lt;b style=&#x27;font-size: 18px; &#x27;&gt;Lateral&lt;/b&gt;&lt;br&gt;Direccion: Ave. Acosta #467, esq. Goicuría, Víbora&quot;, &quot;Especialidades: [&#x27;internacional&#x27;]&quot;)&lt;/div&gt;`)[0];\n",
       "                popup_d4c04cef71a0337836b8b8e648bd779f.setContent(html_5d2884d7f8971adf5aaada4abe151d00);\n",
       "            \n",
       "        \n",
       "\n",
       "        marker_e98c737ace9d488e57d11bf7719d0d4f.bindPopup(popup_d4c04cef71a0337836b8b8e648bd779f)\n",
       "        ;\n",
       "\n",
       "        \n",
       "    \n",
       "    \n",
       "            var marker_91023f6b07a8ae312183b87ee4409052 = L.marker(\n",
       "                [23.12193638525617, -82.37392744585779],\n",
       "                {\n",
       "}\n",
       "            ).addTo(map_925613df095e17c33a5b049f8b266fd0);\n",
       "        \n",
       "    \n",
       "            var icon_bf67df627cf8c6b5131110b74d7b839e = L.AwesomeMarkers.icon(\n",
       "                {\n",
       "  &quot;markerColor&quot;: &quot;red&quot;,\n",
       "  &quot;iconColor&quot;: &quot;white&quot;,\n",
       "  &quot;icon&quot;: &quot;cutlery&quot;,\n",
       "  &quot;prefix&quot;: &quot;fa&quot;,\n",
       "  &quot;extraClasses&quot;: &quot;fa-rotate-0&quot;,\n",
       "}\n",
       "            );\n",
       "            marker_91023f6b07a8ae312183b87ee4409052.setIcon(icon_bf67df627cf8c6b5131110b74d7b839e);\n",
       "        \n",
       "    \n",
       "        var popup_2f6cb1b3276e571cf05fad0b6f6e1ea6 = L.popup({\n",
       "  &quot;maxWidth&quot;: &quot;100%&quot;,\n",
       "});\n",
       "\n",
       "        \n",
       "            \n",
       "                var html_a77bc7623b7ef45ac2c998ee8d2d2f7c = $(`&lt;div id=&quot;html_a77bc7623b7ef45ac2c998ee8d2d2f7c&quot; style=&quot;width: 100.0%; height: 100.0%;&quot;&gt;(&quot;&lt;b style=&#x27;font-size: 18px; &#x27;&gt;La Barrita Onbazar&lt;/b&gt;&lt;br&gt;Direccion: Amenidad entre Cruz del Pader e Infanta&quot;, &quot;Especialidades: [&#x27;italiana&#x27;]&quot;)&lt;/div&gt;`)[0];\n",
       "                popup_2f6cb1b3276e571cf05fad0b6f6e1ea6.setContent(html_a77bc7623b7ef45ac2c998ee8d2d2f7c);\n",
       "            \n",
       "        \n",
       "\n",
       "        marker_91023f6b07a8ae312183b87ee4409052.bindPopup(popup_2f6cb1b3276e571cf05fad0b6f6e1ea6)\n",
       "        ;\n",
       "\n",
       "        \n",
       "    \n",
       "    \n",
       "            var marker_f113248f4fc9b1990d7ebcea3f7495de = L.marker(\n",
       "                [23.109190666229015, -82.38277310352859],\n",
       "                {\n",
       "}\n",
       "            ).addTo(map_925613df095e17c33a5b049f8b266fd0);\n",
       "        \n",
       "    \n",
       "            var icon_2bd37a283f51c28142c886ca04fa86ad = L.AwesomeMarkers.icon(\n",
       "                {\n",
       "  &quot;markerColor&quot;: &quot;red&quot;,\n",
       "  &quot;iconColor&quot;: &quot;white&quot;,\n",
       "  &quot;icon&quot;: &quot;cutlery&quot;,\n",
       "  &quot;prefix&quot;: &quot;fa&quot;,\n",
       "  &quot;extraClasses&quot;: &quot;fa-rotate-0&quot;,\n",
       "}\n",
       "            );\n",
       "            marker_f113248f4fc9b1990d7ebcea3f7495de.setIcon(icon_2bd37a283f51c28142c886ca04fa86ad);\n",
       "        \n",
       "    \n",
       "        var popup_aa4128799099fa7b59ac6c53ece79bea = L.popup({\n",
       "  &quot;maxWidth&quot;: &quot;100%&quot;,\n",
       "});\n",
       "\n",
       "        \n",
       "            \n",
       "                var html_afba307929d668c5f174ace514cb7fe7 = $(`&lt;div id=&quot;html_afba307929d668c5f174ace514cb7fe7&quot; style=&quot;width: 100.0%; height: 100.0%;&quot;&gt;(&quot;&lt;b style=&#x27;font-size: 18px; &#x27;&gt;La Casona del Cerro&lt;/b&gt;&lt;br&gt;Direccion: Calzada del Cerro entre Alzobispo y Penon&quot;, &quot;Especialidades: [&#x27;Comida Criolla&#x27;]&quot;)&lt;/div&gt;`)[0];\n",
       "                popup_aa4128799099fa7b59ac6c53ece79bea.setContent(html_afba307929d668c5f174ace514cb7fe7);\n",
       "            \n",
       "        \n",
       "\n",
       "        marker_f113248f4fc9b1990d7ebcea3f7495de.bindPopup(popup_aa4128799099fa7b59ac6c53ece79bea)\n",
       "        ;\n",
       "\n",
       "        \n",
       "    \n",
       "    \n",
       "            var marker_588b8dbb1f0acfb466131c18d8168b3f = L.marker(\n",
       "                [23.104975882244233, -82.44258298436951],\n",
       "                {\n",
       "}\n",
       "            ).addTo(map_925613df095e17c33a5b049f8b266fd0);\n",
       "        \n",
       "    \n",
       "            var icon_def24c4658d1059c64e0275a8f2c62c5 = L.AwesomeMarkers.icon(\n",
       "                {\n",
       "  &quot;markerColor&quot;: &quot;red&quot;,\n",
       "  &quot;iconColor&quot;: &quot;white&quot;,\n",
       "  &quot;icon&quot;: &quot;cutlery&quot;,\n",
       "  &quot;prefix&quot;: &quot;fa&quot;,\n",
       "  &quot;extraClasses&quot;: &quot;fa-rotate-0&quot;,\n",
       "}\n",
       "            );\n",
       "            marker_588b8dbb1f0acfb466131c18d8168b3f.setIcon(icon_def24c4658d1059c64e0275a8f2c62c5);\n",
       "        \n",
       "    \n",
       "        var popup_94b5229204527182c9abf99f4dd66d11 = L.popup({\n",
       "  &quot;maxWidth&quot;: &quot;100%&quot;,\n",
       "});\n",
       "\n",
       "        \n",
       "            \n",
       "                var html_6a17e24a36c0899334fe2e42eee4e8ff = $(`&lt;div id=&quot;html_6a17e24a36c0899334fe2e42eee4e8ff&quot; style=&quot;width: 100.0%; height: 100.0%;&quot;&gt;(&quot;&lt;b style=&#x27;font-size: 18px; &#x27;&gt;La Catrina&lt;/b&gt;&lt;br&gt;Direccion: 503 84&quot;, &quot;Especialidades: [&#x27;mexicana&#x27;]&quot;)&lt;/div&gt;`)[0];\n",
       "                popup_94b5229204527182c9abf99f4dd66d11.setContent(html_6a17e24a36c0899334fe2e42eee4e8ff);\n",
       "            \n",
       "        \n",
       "\n",
       "        marker_588b8dbb1f0acfb466131c18d8168b3f.bindPopup(popup_94b5229204527182c9abf99f4dd66d11)\n",
       "        ;\n",
       "\n",
       "        \n",
       "    \n",
       "    \n",
       "            var marker_3213d1406d8b36c9186e7c974ee5d5cb = L.marker(\n",
       "                [23.148019759241123, -82.35245541091525],\n",
       "                {\n",
       "}\n",
       "            ).addTo(map_925613df095e17c33a5b049f8b266fd0);\n",
       "        \n",
       "    \n",
       "            var icon_0920d712236071ace9826b714795783a = L.AwesomeMarkers.icon(\n",
       "                {\n",
       "  &quot;markerColor&quot;: &quot;red&quot;,\n",
       "  &quot;iconColor&quot;: &quot;white&quot;,\n",
       "  &quot;icon&quot;: &quot;cutlery&quot;,\n",
       "  &quot;prefix&quot;: &quot;fa&quot;,\n",
       "  &quot;extraClasses&quot;: &quot;fa-rotate-0&quot;,\n",
       "}\n",
       "            );\n",
       "            marker_3213d1406d8b36c9186e7c974ee5d5cb.setIcon(icon_0920d712236071ace9826b714795783a);\n",
       "        \n",
       "    \n",
       "        var popup_06c5b28c4c774e3c9c18c19a454905d9 = L.popup({\n",
       "  &quot;maxWidth&quot;: &quot;100%&quot;,\n",
       "});\n",
       "\n",
       "        \n",
       "            \n",
       "                var html_4c99f7b131aee7ed078ca02e350abdff = $(`&lt;div id=&quot;html_4c99f7b131aee7ed078ca02e350abdff&quot; style=&quot;width: 100.0%; height: 100.0%;&quot;&gt;(&quot;&lt;b style=&#x27;font-size: 18px; &#x27;&gt;La Divina Pastora&lt;/b&gt;&lt;br&gt;Direccion: Complejo Morro Cabana, Via Monumental&quot;, &quot;Especialidades: [&#x27;Cubana&#x27;, &#x27;criolla&#x27;]&quot;)&lt;/div&gt;`)[0];\n",
       "                popup_06c5b28c4c774e3c9c18c19a454905d9.setContent(html_4c99f7b131aee7ed078ca02e350abdff);\n",
       "            \n",
       "        \n",
       "\n",
       "        marker_3213d1406d8b36c9186e7c974ee5d5cb.bindPopup(popup_06c5b28c4c774e3c9c18c19a454905d9)\n",
       "        ;\n",
       "\n",
       "        \n",
       "    \n",
       "    \n",
       "            var marker_ce483b0ca44d112845453f15daf90ad9 = L.marker(\n",
       "                [23.140853253946666, -82.35265198633945],\n",
       "                {\n",
       "}\n",
       "            ).addTo(map_925613df095e17c33a5b049f8b266fd0);\n",
       "        \n",
       "    \n",
       "            var icon_781bf636b791f325edd6902578ae772d = L.AwesomeMarkers.icon(\n",
       "                {\n",
       "  &quot;markerColor&quot;: &quot;red&quot;,\n",
       "  &quot;iconColor&quot;: &quot;white&quot;,\n",
       "  &quot;icon&quot;: &quot;cutlery&quot;,\n",
       "  &quot;prefix&quot;: &quot;fa&quot;,\n",
       "  &quot;extraClasses&quot;: &quot;fa-rotate-0&quot;,\n",
       "}\n",
       "            );\n",
       "            marker_ce483b0ca44d112845453f15daf90ad9.setIcon(icon_781bf636b791f325edd6902578ae772d);\n",
       "        \n",
       "    \n",
       "        var popup_dc4997b209bd5e681b9a9cf022c59bfe = L.popup({\n",
       "  &quot;maxWidth&quot;: &quot;100%&quot;,\n",
       "});\n",
       "\n",
       "        \n",
       "            \n",
       "                var html_64a117d8f13771e7ea49a5081d473a63 = $(`&lt;div id=&quot;html_64a117d8f13771e7ea49a5081d473a63&quot; style=&quot;width: 100.0%; height: 100.0%;&quot;&gt;(&quot;&lt;b style=&#x27;font-size: 18px; &#x27;&gt;La Esquina de Cuba&lt;/b&gt;&lt;br&gt;Direccion: Esquina de Calle Cuba y Empedrado&quot;, &quot;Especialidades: [&#x27;Comida mixta&#x27;]&quot;)&lt;/div&gt;`)[0];\n",
       "                popup_dc4997b209bd5e681b9a9cf022c59bfe.setContent(html_64a117d8f13771e7ea49a5081d473a63);\n",
       "            \n",
       "        \n",
       "\n",
       "        marker_ce483b0ca44d112845453f15daf90ad9.bindPopup(popup_dc4997b209bd5e681b9a9cf022c59bfe)\n",
       "        ;\n",
       "\n",
       "        \n",
       "    \n",
       "    \n",
       "            var marker_ccb38098557f43e36c2c3539acd400f1 = L.marker(\n",
       "                [23.099899183973307, -82.37926905264563],\n",
       "                {\n",
       "}\n",
       "            ).addTo(map_925613df095e17c33a5b049f8b266fd0);\n",
       "        \n",
       "    \n",
       "            var icon_4d847c7f402860f5f48c4544b11033f5 = L.AwesomeMarkers.icon(\n",
       "                {\n",
       "  &quot;markerColor&quot;: &quot;red&quot;,\n",
       "  &quot;iconColor&quot;: &quot;white&quot;,\n",
       "  &quot;icon&quot;: &quot;cutlery&quot;,\n",
       "  &quot;prefix&quot;: &quot;fa&quot;,\n",
       "  &quot;extraClasses&quot;: &quot;fa-rotate-0&quot;,\n",
       "}\n",
       "            );\n",
       "            marker_ccb38098557f43e36c2c3539acd400f1.setIcon(icon_4d847c7f402860f5f48c4544b11033f5);\n",
       "        \n",
       "    \n",
       "        var popup_a6549b36bbbc0503989309ab65296653 = L.popup({\n",
       "  &quot;maxWidth&quot;: &quot;100%&quot;,\n",
       "});\n",
       "\n",
       "        \n",
       "            \n",
       "                var html_44fc331fbfb35b57c2fd9856494185fc = $(`&lt;div id=&quot;html_44fc331fbfb35b57c2fd9856494185fc&quot; style=&quot;width: 100.0%; height: 100.0%;&quot;&gt;(&quot;&lt;b style=&#x27;font-size: 18px; &#x27;&gt;La Esquinita&lt;/b&gt;&lt;br&gt;Direccion: Juan Lefont entre Libertad y Johnson, Santos Suárez&quot;, &quot;Especialidades: [&#x27;criolla&#x27;, &#x27;cubana&#x27;, &#x27;italiana&#x27;]&quot;)&lt;/div&gt;`)[0];\n",
       "                popup_a6549b36bbbc0503989309ab65296653.setContent(html_44fc331fbfb35b57c2fd9856494185fc);\n",
       "            \n",
       "        \n",
       "\n",
       "        marker_ccb38098557f43e36c2c3539acd400f1.bindPopup(popup_a6549b36bbbc0503989309ab65296653)\n",
       "        ;\n",
       "\n",
       "        \n",
       "    \n",
       "    \n",
       "            var marker_9fdf4353ccdc37d312808a21667370cb = L.marker(\n",
       "                [23.131650837595345, -82.35778799003404],\n",
       "                {\n",
       "}\n",
       "            ).addTo(map_925613df095e17c33a5b049f8b266fd0);\n",
       "        \n",
       "    \n",
       "            var icon_39f0efed567ea5c37a7ba4b06c3a09e3 = L.AwesomeMarkers.icon(\n",
       "                {\n",
       "  &quot;markerColor&quot;: &quot;red&quot;,\n",
       "  &quot;iconColor&quot;: &quot;white&quot;,\n",
       "  &quot;icon&quot;: &quot;cutlery&quot;,\n",
       "  &quot;prefix&quot;: &quot;fa&quot;,\n",
       "  &quot;extraClasses&quot;: &quot;fa-rotate-0&quot;,\n",
       "}\n",
       "            );\n",
       "            marker_9fdf4353ccdc37d312808a21667370cb.setIcon(icon_39f0efed567ea5c37a7ba4b06c3a09e3);\n",
       "        \n",
       "    \n",
       "        var popup_2794145581c88eb18a99b75394f05eb0 = L.popup({\n",
       "  &quot;maxWidth&quot;: &quot;100%&quot;,\n",
       "});\n",
       "\n",
       "        \n",
       "            \n",
       "                var html_5f2f8811c2184c99cba363f1ed509658 = $(`&lt;div id=&quot;html_5f2f8811c2184c99cba363f1ed509658&quot; style=&quot;width: 100.0%; height: 100.0%;&quot;&gt;(&quot;&lt;b style=&#x27;font-size: 18px; &#x27;&gt;La Hamburguesita&lt;/b&gt;&lt;br&gt;Direccion: Calle Cienfuegos entre Apodaca y Gloria&quot;, &quot;Especialidades: [&#x27;Americana&#x27;]&quot;)&lt;/div&gt;`)[0];\n",
       "                popup_2794145581c88eb18a99b75394f05eb0.setContent(html_5f2f8811c2184c99cba363f1ed509658);\n",
       "            \n",
       "        \n",
       "\n",
       "        marker_9fdf4353ccdc37d312808a21667370cb.bindPopup(popup_2794145581c88eb18a99b75394f05eb0)\n",
       "        ;\n",
       "\n",
       "        \n",
       "    \n",
       "    \n",
       "            var marker_17b237db09c22b1538a93ed514a850a6 = L.marker(\n",
       "                [23.13558286521522, -82.36431708633963],\n",
       "                {\n",
       "}\n",
       "            ).addTo(map_925613df095e17c33a5b049f8b266fd0);\n",
       "        \n",
       "    \n",
       "            var icon_daf58d23683a6064c078edd5b8f2b18b = L.AwesomeMarkers.icon(\n",
       "                {\n",
       "  &quot;markerColor&quot;: &quot;red&quot;,\n",
       "  &quot;iconColor&quot;: &quot;white&quot;,\n",
       "  &quot;icon&quot;: &quot;cutlery&quot;,\n",
       "  &quot;prefix&quot;: &quot;fa&quot;,\n",
       "  &quot;extraClasses&quot;: &quot;fa-rotate-0&quot;,\n",
       "}\n",
       "            );\n",
       "            marker_17b237db09c22b1538a93ed514a850a6.setIcon(icon_daf58d23683a6064c078edd5b8f2b18b);\n",
       "        \n",
       "    \n",
       "        var popup_51066e42318b71f32fbe8347909dd910 = L.popup({\n",
       "  &quot;maxWidth&quot;: &quot;100%&quot;,\n",
       "});\n",
       "\n",
       "        \n",
       "            \n",
       "                var html_0d3e7910c3593fa9ede32b12bf39983b = $(`&lt;div id=&quot;html_0d3e7910c3593fa9ede32b12bf39983b&quot; style=&quot;width: 100.0%; height: 100.0%;&quot;&gt;(&quot;&lt;b style=&#x27;font-size: 18px; &#x27;&gt;La Juliana&lt;/b&gt;&lt;br&gt;Direccion: 210 San Nicolas&quot;, &quot;Especialidades: [&#x27;Comida caribeña&#x27;, &#x27;latina&#x27;, &#x27;cubana&#x27;]&quot;)&lt;/div&gt;`)[0];\n",
       "                popup_51066e42318b71f32fbe8347909dd910.setContent(html_0d3e7910c3593fa9ede32b12bf39983b);\n",
       "            \n",
       "        \n",
       "\n",
       "        marker_17b237db09c22b1538a93ed514a850a6.bindPopup(popup_51066e42318b71f32fbe8347909dd910)\n",
       "        ;\n",
       "\n",
       "        \n",
       "    \n",
       "    \n",
       "            var marker_c302210fe0906fc125a068497f4e1639 = L.marker(\n",
       "                [23.121609415980522, -82.38347632186809],\n",
       "                {\n",
       "}\n",
       "            ).addTo(map_925613df095e17c33a5b049f8b266fd0);\n",
       "        \n",
       "    \n",
       "            var icon_9b8b16c3b75d53a7e5cc07ad5ca4bc76 = L.AwesomeMarkers.icon(\n",
       "                {\n",
       "  &quot;markerColor&quot;: &quot;red&quot;,\n",
       "  &quot;iconColor&quot;: &quot;white&quot;,\n",
       "  &quot;icon&quot;: &quot;cutlery&quot;,\n",
       "  &quot;prefix&quot;: &quot;fa&quot;,\n",
       "  &quot;extraClasses&quot;: &quot;fa-rotate-0&quot;,\n",
       "}\n",
       "            );\n",
       "            marker_c302210fe0906fc125a068497f4e1639.setIcon(icon_9b8b16c3b75d53a7e5cc07ad5ca4bc76);\n",
       "        \n",
       "    \n",
       "        var popup_be6f946633086e4da5b9b0e0d2551b7f = L.popup({\n",
       "  &quot;maxWidth&quot;: &quot;100%&quot;,\n",
       "});\n",
       "\n",
       "        \n",
       "            \n",
       "                var html_8c80cf011458cbd171574b9ec927ec20 = $(`&lt;div id=&quot;html_8c80cf011458cbd171574b9ec927ec20&quot; style=&quot;width: 100.0%; height: 100.0%;&quot;&gt;(&quot;&lt;b style=&#x27;font-size: 18px; &#x27;&gt;La Lola&lt;/b&gt;&lt;br&gt;Direccion: Calle Ayestaran entre San Pablo y Pedro Perez&quot;, &quot;Especialidades: [&#x27;italiana&#x27;]&quot;)&lt;/div&gt;`)[0];\n",
       "                popup_be6f946633086e4da5b9b0e0d2551b7f.setContent(html_8c80cf011458cbd171574b9ec927ec20);\n",
       "            \n",
       "        \n",
       "\n",
       "        marker_c302210fe0906fc125a068497f4e1639.bindPopup(popup_be6f946633086e4da5b9b0e0d2551b7f)\n",
       "        ;\n",
       "\n",
       "        \n",
       "    \n",
       "    \n",
       "            var marker_8e2674f762ddfe1dee3634ffde6a673d = L.marker(\n",
       "                [23.124444713197114, -82.3275978168261],\n",
       "                {\n",
       "}\n",
       "            ).addTo(map_925613df095e17c33a5b049f8b266fd0);\n",
       "        \n",
       "    \n",
       "            var icon_3049ec751be6e6e0e22794040207f4ea = L.AwesomeMarkers.icon(\n",
       "                {\n",
       "  &quot;markerColor&quot;: &quot;red&quot;,\n",
       "  &quot;iconColor&quot;: &quot;white&quot;,\n",
       "  &quot;icon&quot;: &quot;cutlery&quot;,\n",
       "  &quot;prefix&quot;: &quot;fa&quot;,\n",
       "  &quot;extraClasses&quot;: &quot;fa-rotate-0&quot;,\n",
       "}\n",
       "            );\n",
       "            marker_8e2674f762ddfe1dee3634ffde6a673d.setIcon(icon_3049ec751be6e6e0e22794040207f4ea);\n",
       "        \n",
       "    \n",
       "        var popup_bb68f9aa545dd7e32d440b7b311aad6f = L.popup({\n",
       "  &quot;maxWidth&quot;: &quot;100%&quot;,\n",
       "});\n",
       "\n",
       "        \n",
       "            \n",
       "                var html_dd9fd0569df16d1aee3154e2d1ce59a8 = $(`&lt;div id=&quot;html_dd9fd0569df16d1aee3154e2d1ce59a8&quot; style=&quot;width: 100.0%; height: 100.0%;&quot;&gt;(&quot;&lt;b style=&#x27;font-size: 18px; &#x27;&gt;La Nueva Guitarreta&lt;/b&gt;&lt;br&gt;Direccion: Loredo y 24 de febrero&quot;, &quot;Especialidades: [&#x27;internacional&#x27;]&quot;)&lt;/div&gt;`)[0];\n",
       "                popup_bb68f9aa545dd7e32d440b7b311aad6f.setContent(html_dd9fd0569df16d1aee3154e2d1ce59a8);\n",
       "            \n",
       "        \n",
       "\n",
       "        marker_8e2674f762ddfe1dee3634ffde6a673d.bindPopup(popup_bb68f9aa545dd7e32d440b7b311aad6f)\n",
       "        ;\n",
       "\n",
       "        \n",
       "    \n",
       "    \n",
       "            var marker_7c397ae7bc260bac2a65c074a08d4963 = L.marker(\n",
       "                [23.127100478844387, -82.39964090333302],\n",
       "                {\n",
       "}\n",
       "            ).addTo(map_925613df095e17c33a5b049f8b266fd0);\n",
       "        \n",
       "    \n",
       "            var icon_2a3dc7c6f5970226f6761b75a5ae2425 = L.AwesomeMarkers.icon(\n",
       "                {\n",
       "  &quot;markerColor&quot;: &quot;red&quot;,\n",
       "  &quot;iconColor&quot;: &quot;white&quot;,\n",
       "  &quot;icon&quot;: &quot;cutlery&quot;,\n",
       "  &quot;prefix&quot;: &quot;fa&quot;,\n",
       "  &quot;extraClasses&quot;: &quot;fa-rotate-0&quot;,\n",
       "}\n",
       "            );\n",
       "            marker_7c397ae7bc260bac2a65c074a08d4963.setIcon(icon_2a3dc7c6f5970226f6761b75a5ae2425);\n",
       "        \n",
       "    \n",
       "        var popup_b6fbf30bfd83f212723efcc37e08debc = L.popup({\n",
       "  &quot;maxWidth&quot;: &quot;100%&quot;,\n",
       "});\n",
       "\n",
       "        \n",
       "            \n",
       "                var html_43ee8453098b8e7801bf8d787c25c1f3 = $(`&lt;div id=&quot;html_43ee8453098b8e7801bf8d787c25c1f3&quot; style=&quot;width: 100.0%; height: 100.0%;&quot;&gt;(&quot;&lt;b style=&#x27;font-size: 18px; &#x27;&gt;La Pelota&lt;/b&gt;&lt;br&gt;Direccion: Esquina 23 y 12, Vedado&quot;, &quot;Especialidades: [&#x27;criolla&#x27;, &#x27;cubana&#x27;]&quot;)&lt;/div&gt;`)[0];\n",
       "                popup_b6fbf30bfd83f212723efcc37e08debc.setContent(html_43ee8453098b8e7801bf8d787c25c1f3);\n",
       "            \n",
       "        \n",
       "\n",
       "        marker_7c397ae7bc260bac2a65c074a08d4963.bindPopup(popup_b6fbf30bfd83f212723efcc37e08debc)\n",
       "        ;\n",
       "\n",
       "        \n",
       "    \n",
       "    \n",
       "            var marker_5fb34f6afb25e39327daff46473f060e = L.marker(\n",
       "                [23.105445368647896, -82.35839531190437],\n",
       "                {\n",
       "}\n",
       "            ).addTo(map_925613df095e17c33a5b049f8b266fd0);\n",
       "        \n",
       "    \n",
       "            var icon_29d1f6b6114ac999ab837ba6ac90f0bd = L.AwesomeMarkers.icon(\n",
       "                {\n",
       "  &quot;markerColor&quot;: &quot;red&quot;,\n",
       "  &quot;iconColor&quot;: &quot;white&quot;,\n",
       "  &quot;icon&quot;: &quot;cutlery&quot;,\n",
       "  &quot;prefix&quot;: &quot;fa&quot;,\n",
       "  &quot;extraClasses&quot;: &quot;fa-rotate-0&quot;,\n",
       "}\n",
       "            );\n",
       "            marker_5fb34f6afb25e39327daff46473f060e.setIcon(icon_29d1f6b6114ac999ab837ba6ac90f0bd);\n",
       "        \n",
       "    \n",
       "        var popup_162e87c75069200d6f0ac6cff80f5cba = L.popup({\n",
       "  &quot;maxWidth&quot;: &quot;100%&quot;,\n",
       "});\n",
       "\n",
       "        \n",
       "            \n",
       "                var html_650768ac6578bb6122248a24b7f1c0e4 = $(`&lt;div id=&quot;html_650768ac6578bb6122248a24b7f1c0e4&quot; style=&quot;width: 100.0%; height: 100.0%;&quot;&gt;(&quot;&lt;b style=&#x27;font-size: 18px; &#x27;&gt;La Ronda&lt;/b&gt;&lt;br&gt;Direccion: Callé Guasabacoa esquina Calzada de Luyanó&quot;, &quot;Especialidades: [&#x27;mixta&#x27;]&quot;)&lt;/div&gt;`)[0];\n",
       "                popup_162e87c75069200d6f0ac6cff80f5cba.setContent(html_650768ac6578bb6122248a24b7f1c0e4);\n",
       "            \n",
       "        \n",
       "\n",
       "        marker_5fb34f6afb25e39327daff46473f060e.bindPopup(popup_162e87c75069200d6f0ac6cff80f5cba)\n",
       "        ;\n",
       "\n",
       "        \n",
       "    \n",
       "    \n",
       "            var marker_6ddb03fe5cf4052ede6a7523e1799bba = L.marker(\n",
       "                [23.090815898809876, -82.37152132357363],\n",
       "                {\n",
       "}\n",
       "            ).addTo(map_925613df095e17c33a5b049f8b266fd0);\n",
       "        \n",
       "    \n",
       "            var icon_db02a6373f0cfa86a19f0f8e07484ecf = L.AwesomeMarkers.icon(\n",
       "                {\n",
       "  &quot;markerColor&quot;: &quot;red&quot;,\n",
       "  &quot;iconColor&quot;: &quot;white&quot;,\n",
       "  &quot;icon&quot;: &quot;cutlery&quot;,\n",
       "  &quot;prefix&quot;: &quot;fa&quot;,\n",
       "  &quot;extraClasses&quot;: &quot;fa-rotate-0&quot;,\n",
       "}\n",
       "            );\n",
       "            marker_6ddb03fe5cf4052ede6a7523e1799bba.setIcon(icon_db02a6373f0cfa86a19f0f8e07484ecf);\n",
       "        \n",
       "    \n",
       "        var popup_53d79c8362e66a0f143b545b30968b85 = L.popup({\n",
       "  &quot;maxWidth&quot;: &quot;100%&quot;,\n",
       "});\n",
       "\n",
       "        \n",
       "            \n",
       "                var html_e8b413a55b788d219325be3474a5efcc = $(`&lt;div id=&quot;html_e8b413a55b788d219325be3474a5efcc&quot; style=&quot;width: 100.0%; height: 100.0%;&quot;&gt;(&quot;&lt;b style=&#x27;font-size: 18px; &#x27;&gt;La Rosa De Ortega&lt;/b&gt;&lt;br&gt;Direccion: Patrocinio #252 esq. a Juan Bruno Zayas&quot;, &quot;Especialidades: [&#x27;cubana&#x27;, &#x27;criolla&#x27;, &#x27;internacional&#x27;, &#x27;italiana&#x27;]&quot;)&lt;/div&gt;`)[0];\n",
       "                popup_53d79c8362e66a0f143b545b30968b85.setContent(html_e8b413a55b788d219325be3474a5efcc);\n",
       "            \n",
       "        \n",
       "\n",
       "        marker_6ddb03fe5cf4052ede6a7523e1799bba.bindPopup(popup_53d79c8362e66a0f143b545b30968b85)\n",
       "        ;\n",
       "\n",
       "        \n",
       "    \n",
       "    \n",
       "            var marker_16224738d45927ded5e8433762dbc31f = L.marker(\n",
       "                [23.16729576315332, -82.29561634288147],\n",
       "                {\n",
       "}\n",
       "            ).addTo(map_925613df095e17c33a5b049f8b266fd0);\n",
       "        \n",
       "    \n",
       "            var icon_c659a9e4ead6e5bbcbaf67192e19fd03 = L.AwesomeMarkers.icon(\n",
       "                {\n",
       "  &quot;markerColor&quot;: &quot;red&quot;,\n",
       "  &quot;iconColor&quot;: &quot;white&quot;,\n",
       "  &quot;icon&quot;: &quot;cutlery&quot;,\n",
       "  &quot;prefix&quot;: &quot;fa&quot;,\n",
       "  &quot;extraClasses&quot;: &quot;fa-rotate-0&quot;,\n",
       "}\n",
       "            );\n",
       "            marker_16224738d45927ded5e8433762dbc31f.setIcon(icon_c659a9e4ead6e5bbcbaf67192e19fd03);\n",
       "        \n",
       "    \n",
       "        var popup_7670c1c1f5fe19f83cc44ee7bc59a397 = L.popup({\n",
       "  &quot;maxWidth&quot;: &quot;100%&quot;,\n",
       "});\n",
       "\n",
       "        \n",
       "            \n",
       "                var html_c3033466ecb6c43ad3c3618454f5b32b = $(`&lt;div id=&quot;html_c3033466ecb6c43ad3c3618454f5b32b&quot; style=&quot;width: 100.0%; height: 100.0%;&quot;&gt;(&quot;&lt;b style=&#x27;font-size: 18px; &#x27;&gt;La ruta de Hemingway&lt;/b&gt;&lt;br&gt;Direccion: Calle Real entre Victoria y Marcos, Cojimar&quot;, &#x27;Especialidades: []&#x27;)&lt;/div&gt;`)[0];\n",
       "                popup_7670c1c1f5fe19f83cc44ee7bc59a397.setContent(html_c3033466ecb6c43ad3c3618454f5b32b);\n",
       "            \n",
       "        \n",
       "\n",
       "        marker_16224738d45927ded5e8433762dbc31f.bindPopup(popup_7670c1c1f5fe19f83cc44ee7bc59a397)\n",
       "        ;\n",
       "\n",
       "        \n",
       "    \n",
       "    \n",
       "            var marker_a6b509b833156a16c778646739c655f9 = L.marker(\n",
       "                [23.139151699462953, -82.35008075935141],\n",
       "                {\n",
       "}\n",
       "            ).addTo(map_925613df095e17c33a5b049f8b266fd0);\n",
       "        \n",
       "    \n",
       "            var icon_c293feeee0fdbabe355fc09cb7aa34e9 = L.AwesomeMarkers.icon(\n",
       "                {\n",
       "  &quot;markerColor&quot;: &quot;red&quot;,\n",
       "  &quot;iconColor&quot;: &quot;white&quot;,\n",
       "  &quot;icon&quot;: &quot;cutlery&quot;,\n",
       "  &quot;prefix&quot;: &quot;fa&quot;,\n",
       "  &quot;extraClasses&quot;: &quot;fa-rotate-0&quot;,\n",
       "}\n",
       "            );\n",
       "            marker_a6b509b833156a16c778646739c655f9.setIcon(icon_c293feeee0fdbabe355fc09cb7aa34e9);\n",
       "        \n",
       "    \n",
       "        var popup_5607efc43d256c1c849a5850a8210689 = L.popup({\n",
       "  &quot;maxWidth&quot;: &quot;100%&quot;,\n",
       "});\n",
       "\n",
       "        \n",
       "            \n",
       "                var html_2921e904e5bafdfd2a30eaaabd0f8b31 = $(`&lt;div id=&quot;html_2921e904e5bafdfd2a30eaaabd0f8b31&quot; style=&quot;width: 100.0%; height: 100.0%;&quot;&gt;(&quot;&lt;b style=&#x27;font-size: 18px; &#x27;&gt;La Torre De Marfil&lt;/b&gt;&lt;br&gt;Direccion: Calle Mercaderes entre Obispo y Obrapia&quot;, &quot;Especialidades: [&#x27;China&#x27;, &#x27;Caribeña&#x27;, &#x27;Mediterránea&#x27;, &#x27;Cubana&#x27;]&quot;)&lt;/div&gt;`)[0];\n",
       "                popup_5607efc43d256c1c849a5850a8210689.setContent(html_2921e904e5bafdfd2a30eaaabd0f8b31);\n",
       "            \n",
       "        \n",
       "\n",
       "        marker_a6b509b833156a16c778646739c655f9.bindPopup(popup_5607efc43d256c1c849a5850a8210689)\n",
       "        ;\n",
       "\n",
       "        \n",
       "    \n",
       "    \n",
       "            var marker_baac432a85166db158576d1eab49413b = L.marker(\n",
       "                [23.13552900516459, -82.3502524323634],\n",
       "                {\n",
       "}\n",
       "            ).addTo(map_925613df095e17c33a5b049f8b266fd0);\n",
       "        \n",
       "    \n",
       "            var icon_f339675f530884dfa4f196f3c6aa495a = L.AwesomeMarkers.icon(\n",
       "                {\n",
       "  &quot;markerColor&quot;: &quot;red&quot;,\n",
       "  &quot;iconColor&quot;: &quot;white&quot;,\n",
       "  &quot;icon&quot;: &quot;cutlery&quot;,\n",
       "  &quot;prefix&quot;: &quot;fa&quot;,\n",
       "  &quot;extraClasses&quot;: &quot;fa-rotate-0&quot;,\n",
       "}\n",
       "            );\n",
       "            marker_baac432a85166db158576d1eab49413b.setIcon(icon_f339675f530884dfa4f196f3c6aa495a);\n",
       "        \n",
       "    \n",
       "        var popup_5202fcb09d3b7f05654a1663f63d5711 = L.popup({\n",
       "  &quot;maxWidth&quot;: &quot;100%&quot;,\n",
       "});\n",
       "\n",
       "        \n",
       "            \n",
       "                var html_080e79bdf0b209d8704fd0ef41e9eb7d = $(`&lt;div id=&quot;html_080e79bdf0b209d8704fd0ef41e9eb7d&quot; style=&quot;width: 100.0%; height: 100.0%;&quot;&gt;(&quot;&lt;b style=&#x27;font-size: 18px; &#x27;&gt;La Vitrola&lt;/b&gt;&lt;br&gt;Direccion: Plaza Vieja entre Muralla y San Ignacio&quot;, &quot;Especialidades: [&#x27;Comida mixta&#x27;]&quot;)&lt;/div&gt;`)[0];\n",
       "                popup_5202fcb09d3b7f05654a1663f63d5711.setContent(html_080e79bdf0b209d8704fd0ef41e9eb7d);\n",
       "            \n",
       "        \n",
       "\n",
       "        marker_baac432a85166db158576d1eab49413b.bindPopup(popup_5202fcb09d3b7f05654a1663f63d5711)\n",
       "        ;\n",
       "\n",
       "        \n",
       "    \n",
       "    \n",
       "            var marker_b87038d0f60387bddce2124c18769c94 = L.marker(\n",
       "                [23.081201100821605, -82.4216785238977],\n",
       "                {\n",
       "}\n",
       "            ).addTo(map_925613df095e17c33a5b049f8b266fd0);\n",
       "        \n",
       "    \n",
       "            var icon_d4bf5a0d13f6a8dfca262c82dafa78b7 = L.AwesomeMarkers.icon(\n",
       "                {\n",
       "  &quot;markerColor&quot;: &quot;red&quot;,\n",
       "  &quot;iconColor&quot;: &quot;white&quot;,\n",
       "  &quot;icon&quot;: &quot;cutlery&quot;,\n",
       "  &quot;prefix&quot;: &quot;fa&quot;,\n",
       "  &quot;extraClasses&quot;: &quot;fa-rotate-0&quot;,\n",
       "}\n",
       "            );\n",
       "            marker_b87038d0f60387bddce2124c18769c94.setIcon(icon_d4bf5a0d13f6a8dfca262c82dafa78b7);\n",
       "        \n",
       "    \n",
       "        var popup_50ad06aa4e2f8723c28d27b559b61e5a = L.popup({\n",
       "  &quot;maxWidth&quot;: &quot;100%&quot;,\n",
       "});\n",
       "\n",
       "        \n",
       "            \n",
       "                var html_4281555752c4cd58f9631ca1e6dc91e1 = $(`&lt;div id=&quot;html_4281555752c4cd58f9631ca1e6dc91e1&quot; style=&quot;width: 100.0%; height: 100.0%;&quot;&gt;(&quot;&lt;b style=&#x27;font-size: 18px; &#x27;&gt;La Yuya&lt;/b&gt;&lt;br&gt;Direccion: 100 Y 51&quot;, &quot;Especialidades: [&#x27;mixta&#x27;]&quot;)&lt;/div&gt;`)[0];\n",
       "                popup_50ad06aa4e2f8723c28d27b559b61e5a.setContent(html_4281555752c4cd58f9631ca1e6dc91e1);\n",
       "            \n",
       "        \n",
       "\n",
       "        marker_b87038d0f60387bddce2124c18769c94.bindPopup(popup_50ad06aa4e2f8723c28d27b559b61e5a)\n",
       "        ;\n",
       "\n",
       "        \n",
       "    \n",
       "    \n",
       "            var marker_933be2befa42417d1ef9e241c266e162 = L.marker(\n",
       "                [23.119269806423606, -82.3720336019368],\n",
       "                {\n",
       "}\n",
       "            ).addTo(map_925613df095e17c33a5b049f8b266fd0);\n",
       "        \n",
       "    \n",
       "            var icon_27da714bf60c6d3f70decd722351aec1 = L.AwesomeMarkers.icon(\n",
       "                {\n",
       "  &quot;markerColor&quot;: &quot;red&quot;,\n",
       "  &quot;iconColor&quot;: &quot;white&quot;,\n",
       "  &quot;icon&quot;: &quot;cutlery&quot;,\n",
       "  &quot;prefix&quot;: &quot;fa&quot;,\n",
       "  &quot;extraClasses&quot;: &quot;fa-rotate-0&quot;,\n",
       "}\n",
       "            );\n",
       "            marker_933be2befa42417d1ef9e241c266e162.setIcon(icon_27da714bf60c6d3f70decd722351aec1);\n",
       "        \n",
       "    \n",
       "        var popup_f88fbe919e0b3c63c22992747a9fe5ed = L.popup({\n",
       "  &quot;maxWidth&quot;: &quot;100%&quot;,\n",
       "});\n",
       "\n",
       "        \n",
       "            \n",
       "                var html_5d6de332fec76689221fe1ecf4796645 = $(`&lt;div id=&quot;html_5d6de332fec76689221fe1ecf4796645&quot; style=&quot;width: 100.0%; height: 100.0%;&quot;&gt;(&quot;&lt;b style=&#x27;font-size: 18px; &#x27;&gt;Leyendhabana&lt;/b&gt;&lt;br&gt;Direccion: Calle Santa Rosa No. 217 e/ Infanta y Cruz del Padre&quot;, &quot;Especialidades: [&#x27;Comida Caribena&#x27;]&quot;)&lt;/div&gt;`)[0];\n",
       "                popup_f88fbe919e0b3c63c22992747a9fe5ed.setContent(html_5d6de332fec76689221fe1ecf4796645);\n",
       "            \n",
       "        \n",
       "\n",
       "        marker_933be2befa42417d1ef9e241c266e162.bindPopup(popup_f88fbe919e0b3c63c22992747a9fe5ed)\n",
       "        ;\n",
       "\n",
       "        \n",
       "    \n",
       "    \n",
       "            var marker_9347fc222c27939bf133e658c9e8e7f5 = L.marker(\n",
       "                [23.070410939396403, -82.45756089679794],\n",
       "                {\n",
       "}\n",
       "            ).addTo(map_925613df095e17c33a5b049f8b266fd0);\n",
       "        \n",
       "    \n",
       "            var icon_7c0fe122999ad8805893443b492f1350 = L.AwesomeMarkers.icon(\n",
       "                {\n",
       "  &quot;markerColor&quot;: &quot;red&quot;,\n",
       "  &quot;iconColor&quot;: &quot;white&quot;,\n",
       "  &quot;icon&quot;: &quot;cutlery&quot;,\n",
       "  &quot;prefix&quot;: &quot;fa&quot;,\n",
       "  &quot;extraClasses&quot;: &quot;fa-rotate-0&quot;,\n",
       "}\n",
       "            );\n",
       "            marker_9347fc222c27939bf133e658c9e8e7f5.setIcon(icon_7c0fe122999ad8805893443b492f1350);\n",
       "        \n",
       "    \n",
       "        var popup_7825a751bb0786c04ae5240f1eedd5f2 = L.popup({\n",
       "  &quot;maxWidth&quot;: &quot;100%&quot;,\n",
       "});\n",
       "\n",
       "        \n",
       "            \n",
       "                var html_4237182f06d1b181dd422d8a25c8d683 = $(`&lt;div id=&quot;html_4237182f06d1b181dd422d8a25c8d683&quot; style=&quot;width: 100.0%; height: 100.0%;&quot;&gt;(&quot;&lt;b style=&#x27;font-size: 18px; &#x27;&gt;LKG&lt;/b&gt;&lt;br&gt;Direccion: Desconocida&quot;, &quot;Especialidades: [&#x27;caribeña&#x27;]&quot;)&lt;/div&gt;`)[0];\n",
       "                popup_7825a751bb0786c04ae5240f1eedd5f2.setContent(html_4237182f06d1b181dd422d8a25c8d683);\n",
       "            \n",
       "        \n",
       "\n",
       "        marker_9347fc222c27939bf133e658c9e8e7f5.bindPopup(popup_7825a751bb0786c04ae5240f1eedd5f2)\n",
       "        ;\n",
       "\n",
       "        \n",
       "    \n",
       "    \n",
       "            var marker_2c675a8e64c90da3d00ce84f8145f5f0 = L.marker(\n",
       "                [23.062581992389248, -82.36383374585894],\n",
       "                {\n",
       "}\n",
       "            ).addTo(map_925613df095e17c33a5b049f8b266fd0);\n",
       "        \n",
       "    \n",
       "            var icon_516b90e1e01c6da1ba09e5246bbb15af = L.AwesomeMarkers.icon(\n",
       "                {\n",
       "  &quot;markerColor&quot;: &quot;red&quot;,\n",
       "  &quot;iconColor&quot;: &quot;white&quot;,\n",
       "  &quot;icon&quot;: &quot;cutlery&quot;,\n",
       "  &quot;prefix&quot;: &quot;fa&quot;,\n",
       "  &quot;extraClasses&quot;: &quot;fa-rotate-0&quot;,\n",
       "}\n",
       "            );\n",
       "            marker_2c675a8e64c90da3d00ce84f8145f5f0.setIcon(icon_516b90e1e01c6da1ba09e5246bbb15af);\n",
       "        \n",
       "    \n",
       "        var popup_2342b7a4ea1cc4fd6270bb5c73ee6b3f = L.popup({\n",
       "  &quot;maxWidth&quot;: &quot;100%&quot;,\n",
       "});\n",
       "\n",
       "        \n",
       "            \n",
       "                var html_ca40df1497128f6c9e4d899e979c71c8 = $(`&lt;div id=&quot;html_ca40df1497128f6c9e4d899e979c71c8&quot; style=&quot;width: 100.0%; height: 100.0%;&quot;&gt;(&quot;&lt;b style=&#x27;font-size: 18px; &#x27;&gt;Los Atrevidos&lt;/b&gt;&lt;br&gt;Direccion: Calzada de Bejucal # 2639 e/ Estrella y Camilo Sierra&quot;, &quot;Especialidades: [&#x27;Italiana&#x27;]&quot;)&lt;/div&gt;`)[0];\n",
       "                popup_2342b7a4ea1cc4fd6270bb5c73ee6b3f.setContent(html_ca40df1497128f6c9e4d899e979c71c8);\n",
       "            \n",
       "        \n",
       "\n",
       "        marker_2c675a8e64c90da3d00ce84f8145f5f0.bindPopup(popup_2342b7a4ea1cc4fd6270bb5c73ee6b3f)\n",
       "        ;\n",
       "\n",
       "        \n",
       "    \n",
       "    \n",
       "            var marker_32a30ff0aa1c3b24698d5c7a7ba45e0b = L.marker(\n",
       "                [23.055831349044627, -82.33552695732365],\n",
       "                {\n",
       "}\n",
       "            ).addTo(map_925613df095e17c33a5b049f8b266fd0);\n",
       "        \n",
       "    \n",
       "            var icon_a8c97be1c6168c7a8193b733b23ff2ed = L.AwesomeMarkers.icon(\n",
       "                {\n",
       "  &quot;markerColor&quot;: &quot;red&quot;,\n",
       "  &quot;iconColor&quot;: &quot;white&quot;,\n",
       "  &quot;icon&quot;: &quot;cutlery&quot;,\n",
       "  &quot;prefix&quot;: &quot;fa&quot;,\n",
       "  &quot;extraClasses&quot;: &quot;fa-rotate-0&quot;,\n",
       "}\n",
       "            );\n",
       "            marker_32a30ff0aa1c3b24698d5c7a7ba45e0b.setIcon(icon_a8c97be1c6168c7a8193b733b23ff2ed);\n",
       "        \n",
       "    \n",
       "        var popup_fa94fc7c80f8f66f386cb80effdb0587 = L.popup({\n",
       "  &quot;maxWidth&quot;: &quot;100%&quot;,\n",
       "});\n",
       "\n",
       "        \n",
       "            \n",
       "                var html_98f96c2bb113bfd1762e91cc0e17924c = $(`&lt;div id=&quot;html_98f96c2bb113bfd1762e91cc0e17924c&quot; style=&quot;width: 100.0%; height: 100.0%;&quot;&gt;(&quot;&lt;b style=&#x27;font-size: 18px; &#x27;&gt;Los caneyes&lt;/b&gt;&lt;br&gt;Direccion: Calle Martí y Gutierrez, Reparto Electrico&quot;, &quot;Especialidades: [&#x27;cubana&#x27;]&quot;)&lt;/div&gt;`)[0];\n",
       "                popup_fa94fc7c80f8f66f386cb80effdb0587.setContent(html_98f96c2bb113bfd1762e91cc0e17924c);\n",
       "            \n",
       "        \n",
       "\n",
       "        marker_32a30ff0aa1c3b24698d5c7a7ba45e0b.bindPopup(popup_fa94fc7c80f8f66f386cb80effdb0587)\n",
       "        ;\n",
       "\n",
       "        \n",
       "    \n",
       "    \n",
       "            var marker_590f54f1833b7b0251e8da9429fe3402 = L.marker(\n",
       "                [23.134728671881838, -82.35835687654],\n",
       "                {\n",
       "}\n",
       "            ).addTo(map_925613df095e17c33a5b049f8b266fd0);\n",
       "        \n",
       "    \n",
       "            var icon_d4282986ad72bfc0ad8e5021948a2f97 = L.AwesomeMarkers.icon(\n",
       "                {\n",
       "  &quot;markerColor&quot;: &quot;red&quot;,\n",
       "  &quot;iconColor&quot;: &quot;white&quot;,\n",
       "  &quot;icon&quot;: &quot;cutlery&quot;,\n",
       "  &quot;prefix&quot;: &quot;fa&quot;,\n",
       "  &quot;extraClasses&quot;: &quot;fa-rotate-0&quot;,\n",
       "}\n",
       "            );\n",
       "            marker_590f54f1833b7b0251e8da9429fe3402.setIcon(icon_d4282986ad72bfc0ad8e5021948a2f97);\n",
       "        \n",
       "    \n",
       "        var popup_39705280d706cc04f76ca836eb635458 = L.popup({\n",
       "  &quot;maxWidth&quot;: &quot;100%&quot;,\n",
       "});\n",
       "\n",
       "        \n",
       "            \n",
       "                var html_2c4e30e786c701dbe8864fe10bbbcbc6 = $(`&lt;div id=&quot;html_2c4e30e786c701dbe8864fe10bbbcbc6&quot; style=&quot;width: 100.0%; height: 100.0%;&quot;&gt;(&quot;&lt;b style=&#x27;font-size: 18px; &#x27;&gt;Los Nardos&lt;/b&gt;&lt;br&gt;Direccion: Paseo de Marti, frente al Capitolio&quot;, &quot;Especialidades: [&#x27;Comida mixta&#x27;]&quot;)&lt;/div&gt;`)[0];\n",
       "                popup_39705280d706cc04f76ca836eb635458.setContent(html_2c4e30e786c701dbe8864fe10bbbcbc6);\n",
       "            \n",
       "        \n",
       "\n",
       "        marker_590f54f1833b7b0251e8da9429fe3402.bindPopup(popup_39705280d706cc04f76ca836eb635458)\n",
       "        ;\n",
       "\n",
       "        \n",
       "    \n",
       "    \n",
       "            var marker_26805ee2144b3983aeec462382f922a6 = L.marker(\n",
       "                [23.084081730757468, -82.43599343396534],\n",
       "                {\n",
       "}\n",
       "            ).addTo(map_925613df095e17c33a5b049f8b266fd0);\n",
       "        \n",
       "    \n",
       "            var icon_d7c5679396e34f72bf6f90be8effb4fe = L.AwesomeMarkers.icon(\n",
       "                {\n",
       "  &quot;markerColor&quot;: &quot;red&quot;,\n",
       "  &quot;iconColor&quot;: &quot;white&quot;,\n",
       "  &quot;icon&quot;: &quot;cutlery&quot;,\n",
       "  &quot;prefix&quot;: &quot;fa&quot;,\n",
       "  &quot;extraClasses&quot;: &quot;fa-rotate-0&quot;,\n",
       "}\n",
       "            );\n",
       "            marker_26805ee2144b3983aeec462382f922a6.setIcon(icon_d7c5679396e34f72bf6f90be8effb4fe);\n",
       "        \n",
       "    \n",
       "        var popup_8b17c6ff5ffff9694390b317e2351714 = L.popup({\n",
       "  &quot;maxWidth&quot;: &quot;100%&quot;,\n",
       "});\n",
       "\n",
       "        \n",
       "            \n",
       "                var html_0e8a0ce6fbf49e442d89d6d5b7cfaf08 = $(`&lt;div id=&quot;html_0e8a0ce6fbf49e442d89d6d5b7cfaf08&quot; style=&quot;width: 100.0%; height: 100.0%;&quot;&gt;(&quot;&lt;b style=&#x27;font-size: 18px; &#x27;&gt;Los taticos&lt;/b&gt;&lt;br&gt;Direccion: 27 y 27A&quot;, &quot;Especialidades: [&#x27;mixta&#x27;]&quot;)&lt;/div&gt;`)[0];\n",
       "                popup_8b17c6ff5ffff9694390b317e2351714.setContent(html_0e8a0ce6fbf49e442d89d6d5b7cfaf08);\n",
       "            \n",
       "        \n",
       "\n",
       "        marker_26805ee2144b3983aeec462382f922a6.bindPopup(popup_8b17c6ff5ffff9694390b317e2351714)\n",
       "        ;\n",
       "\n",
       "        \n",
       "    \n",
       "    \n",
       "            var marker_5a18141c276d5d747434f00fb7dc07af = L.marker(\n",
       "                [23.141345644414816, -82.3553965539762],\n",
       "                {\n",
       "}\n",
       "            ).addTo(map_925613df095e17c33a5b049f8b266fd0);\n",
       "        \n",
       "    \n",
       "            var icon_fe1612ddf12c19d71debba00633b5537 = L.AwesomeMarkers.icon(\n",
       "                {\n",
       "  &quot;markerColor&quot;: &quot;red&quot;,\n",
       "  &quot;iconColor&quot;: &quot;white&quot;,\n",
       "  &quot;icon&quot;: &quot;cutlery&quot;,\n",
       "  &quot;prefix&quot;: &quot;fa&quot;,\n",
       "  &quot;extraClasses&quot;: &quot;fa-rotate-0&quot;,\n",
       "}\n",
       "            );\n",
       "            marker_5a18141c276d5d747434f00fb7dc07af.setIcon(icon_fe1612ddf12c19d71debba00633b5537);\n",
       "        \n",
       "    \n",
       "        var popup_64f6f0e7aeaa9134af20bbc8c53efbaa = L.popup({\n",
       "  &quot;maxWidth&quot;: &quot;100%&quot;,\n",
       "});\n",
       "\n",
       "        \n",
       "            \n",
       "                var html_42faeb4a9dd29899fba53d1dc70f9995 = $(`&lt;div id=&quot;html_42faeb4a9dd29899fba53d1dc70f9995&quot; style=&quot;width: 100.0%; height: 100.0%;&quot;&gt;(&quot;&lt;b style=&#x27;font-size: 18px; &#x27;&gt;Lo de Monik&lt;/b&gt;&lt;br&gt;Direccion: &quot;, &quot;Especialidades: [&#x27;Internacional&#x27;, &#x27;cubana&#x27;]&quot;)&lt;/div&gt;`)[0];\n",
       "                popup_64f6f0e7aeaa9134af20bbc8c53efbaa.setContent(html_42faeb4a9dd29899fba53d1dc70f9995);\n",
       "            \n",
       "        \n",
       "\n",
       "        marker_5a18141c276d5d747434f00fb7dc07af.bindPopup(popup_64f6f0e7aeaa9134af20bbc8c53efbaa)\n",
       "        ;\n",
       "\n",
       "        \n",
       "    \n",
       "    \n",
       "            var marker_1762df365c54d4c115608c3bbff803cf = L.marker(\n",
       "                [23.093303995429743, -82.36446379545066],\n",
       "                {\n",
       "}\n",
       "            ).addTo(map_925613df095e17c33a5b049f8b266fd0);\n",
       "        \n",
       "    \n",
       "            var icon_9914d8ae1434d45ef40e17ee84fabd58 = L.AwesomeMarkers.icon(\n",
       "                {\n",
       "  &quot;markerColor&quot;: &quot;red&quot;,\n",
       "  &quot;iconColor&quot;: &quot;white&quot;,\n",
       "  &quot;icon&quot;: &quot;cutlery&quot;,\n",
       "  &quot;prefix&quot;: &quot;fa&quot;,\n",
       "  &quot;extraClasses&quot;: &quot;fa-rotate-0&quot;,\n",
       "}\n",
       "            );\n",
       "            marker_1762df365c54d4c115608c3bbff803cf.setIcon(icon_9914d8ae1434d45ef40e17ee84fabd58);\n",
       "        \n",
       "    \n",
       "        var popup_735a72985e3282cae31a3151a17bdc77 = L.popup({\n",
       "  &quot;maxWidth&quot;: &quot;100%&quot;,\n",
       "});\n",
       "\n",
       "        \n",
       "            \n",
       "                var html_f27788db9b499be5259607d136c1c3da = $(`&lt;div id=&quot;html_f27788db9b499be5259607d136c1c3da&quot; style=&quot;width: 100.0%; height: 100.0%;&quot;&gt;(&quot;&lt;b style=&#x27;font-size: 18px; &#x27;&gt;Luly Hamburguesas&lt;/b&gt;&lt;br&gt;Direccion: Calzada de Santa Catalina entre Calzada de Diez de Octubre y Parraga, Víbora&quot;, &quot;Especialidades: [&#x27;americana&#x27;]&quot;)&lt;/div&gt;`)[0];\n",
       "                popup_735a72985e3282cae31a3151a17bdc77.setContent(html_f27788db9b499be5259607d136c1c3da);\n",
       "            \n",
       "        \n",
       "\n",
       "        marker_1762df365c54d4c115608c3bbff803cf.bindPopup(popup_735a72985e3282cae31a3151a17bdc77)\n",
       "        ;\n",
       "\n",
       "        \n",
       "    \n",
       "    \n",
       "            var marker_8bf76ac74782d972882c384491bd66a0 = L.marker(\n",
       "                [23.079340661045265, -82.36204303051731],\n",
       "                {\n",
       "}\n",
       "            ).addTo(map_925613df095e17c33a5b049f8b266fd0);\n",
       "        \n",
       "    \n",
       "            var icon_c6023dae185b70ffec4c52b84e34fb83 = L.AwesomeMarkers.icon(\n",
       "                {\n",
       "  &quot;markerColor&quot;: &quot;red&quot;,\n",
       "  &quot;iconColor&quot;: &quot;white&quot;,\n",
       "  &quot;icon&quot;: &quot;cutlery&quot;,\n",
       "  &quot;prefix&quot;: &quot;fa&quot;,\n",
       "  &quot;extraClasses&quot;: &quot;fa-rotate-0&quot;,\n",
       "}\n",
       "            );\n",
       "            marker_8bf76ac74782d972882c384491bd66a0.setIcon(icon_c6023dae185b70ffec4c52b84e34fb83);\n",
       "        \n",
       "    \n",
       "        var popup_5da1f0cacc748876af0e7fde9b71875c = L.popup({\n",
       "  &quot;maxWidth&quot;: &quot;100%&quot;,\n",
       "});\n",
       "\n",
       "        \n",
       "            \n",
       "                var html_de8ea2e2124f9e1b0ce50e6b63c6eb6c = $(`&lt;div id=&quot;html_de8ea2e2124f9e1b0ce50e6b63c6eb6c&quot; style=&quot;width: 100.0%; height: 100.0%;&quot;&gt;(&quot;&lt;b style=&#x27;font-size: 18px; &#x27;&gt;Magic&#x27;s Cream &amp; Burguer&lt;/b&gt;&lt;br&gt;Direccion: Calzada de 10 de Octubre, % Santa Amalia y Arnao&quot;, &quot;Especialidades: [&#x27;comida rapida&#x27;]&quot;)&lt;/div&gt;`)[0];\n",
       "                popup_5da1f0cacc748876af0e7fde9b71875c.setContent(html_de8ea2e2124f9e1b0ce50e6b63c6eb6c);\n",
       "            \n",
       "        \n",
       "\n",
       "        marker_8bf76ac74782d972882c384491bd66a0.bindPopup(popup_5da1f0cacc748876af0e7fde9b71875c)\n",
       "        ;\n",
       "\n",
       "        \n",
       "    \n",
       "    \n",
       "            var marker_366d8373ecf5147f45712a0d714a4ba2 = L.marker(\n",
       "                [23.113806624432474, -82.43952352231993],\n",
       "                {\n",
       "}\n",
       "            ).addTo(map_925613df095e17c33a5b049f8b266fd0);\n",
       "        \n",
       "    \n",
       "            var icon_823dc4f0a4e01da70b7004b2cdd27667 = L.AwesomeMarkers.icon(\n",
       "                {\n",
       "  &quot;markerColor&quot;: &quot;red&quot;,\n",
       "  &quot;iconColor&quot;: &quot;white&quot;,\n",
       "  &quot;icon&quot;: &quot;cutlery&quot;,\n",
       "  &quot;prefix&quot;: &quot;fa&quot;,\n",
       "  &quot;extraClasses&quot;: &quot;fa-rotate-0&quot;,\n",
       "}\n",
       "            );\n",
       "            marker_366d8373ecf5147f45712a0d714a4ba2.setIcon(icon_823dc4f0a4e01da70b7004b2cdd27667);\n",
       "        \n",
       "    \n",
       "        var popup_662352ce9af1a81dccb840255e29abed = L.popup({\n",
       "  &quot;maxWidth&quot;: &quot;100%&quot;,\n",
       "});\n",
       "\n",
       "        \n",
       "            \n",
       "                var html_872c9d69014a453782faca1c4b33306f = $(`&lt;div id=&quot;html_872c9d69014a453782faca1c4b33306f&quot; style=&quot;width: 100.0%; height: 100.0%;&quot;&gt;(&quot;&lt;b style=&#x27;font-size: 18px; &#x27;&gt;Marina&lt;/b&gt;&lt;br&gt;Direccion: 1ra Avenida entre calle 70 y 68&quot;, &quot;Especialidades: [&#x27;cubana&#x27;, &#x27;internacional&#x27;]&quot;)&lt;/div&gt;`)[0];\n",
       "                popup_662352ce9af1a81dccb840255e29abed.setContent(html_872c9d69014a453782faca1c4b33306f);\n",
       "            \n",
       "        \n",
       "\n",
       "        marker_366d8373ecf5147f45712a0d714a4ba2.bindPopup(popup_662352ce9af1a81dccb840255e29abed)\n",
       "        ;\n",
       "\n",
       "        \n",
       "    \n",
       "    \n",
       "            var marker_947427768cdfc5c920b6526393b3e91f = L.marker(\n",
       "                [23.04788673152548, -82.26844826765596],\n",
       "                {\n",
       "}\n",
       "            ).addTo(map_925613df095e17c33a5b049f8b266fd0);\n",
       "        \n",
       "    \n",
       "            var icon_78f86867424cd9a52566b4b27a115ad7 = L.AwesomeMarkers.icon(\n",
       "                {\n",
       "  &quot;markerColor&quot;: &quot;red&quot;,\n",
       "  &quot;iconColor&quot;: &quot;white&quot;,\n",
       "  &quot;icon&quot;: &quot;cutlery&quot;,\n",
       "  &quot;prefix&quot;: &quot;fa&quot;,\n",
       "  &quot;extraClasses&quot;: &quot;fa-rotate-0&quot;,\n",
       "}\n",
       "            );\n",
       "            marker_947427768cdfc5c920b6526393b3e91f.setIcon(icon_78f86867424cd9a52566b4b27a115ad7);\n",
       "        \n",
       "    \n",
       "        var popup_80d9d5b4332d7a878128af1b1e9eabc4 = L.popup({\n",
       "  &quot;maxWidth&quot;: &quot;100%&quot;,\n",
       "});\n",
       "\n",
       "        \n",
       "            \n",
       "                var html_759d35cc1f293266e5b13837dfe952a0 = $(`&lt;div id=&quot;html_759d35cc1f293266e5b13837dfe952a0&quot; style=&quot;width: 100.0%; height: 100.0%;&quot;&gt;(&quot;&lt;b style=&#x27;font-size: 18px; &#x27;&gt;Martínez Club&lt;/b&gt;&lt;br&gt;Direccion: En la otra cuadra de la funeraria del cotorro&quot;, &quot;Especialidades: [&#x27;Italiana&#x27;]&quot;)&lt;/div&gt;`)[0];\n",
       "                popup_80d9d5b4332d7a878128af1b1e9eabc4.setContent(html_759d35cc1f293266e5b13837dfe952a0);\n",
       "            \n",
       "        \n",
       "\n",
       "        marker_947427768cdfc5c920b6526393b3e91f.bindPopup(popup_80d9d5b4332d7a878128af1b1e9eabc4)\n",
       "        ;\n",
       "\n",
       "        \n",
       "    \n",
       "    \n",
       "            var marker_3e8c1e9e73fe7279a9a98e36feee38d4 = L.marker(\n",
       "                [23.142254422422297, -82.39922933157261],\n",
       "                {\n",
       "}\n",
       "            ).addTo(map_925613df095e17c33a5b049f8b266fd0);\n",
       "        \n",
       "    \n",
       "            var icon_be182fed8ce1b2ade80f3a29557dba06 = L.AwesomeMarkers.icon(\n",
       "                {\n",
       "  &quot;markerColor&quot;: &quot;red&quot;,\n",
       "  &quot;iconColor&quot;: &quot;white&quot;,\n",
       "  &quot;icon&quot;: &quot;cutlery&quot;,\n",
       "  &quot;prefix&quot;: &quot;fa&quot;,\n",
       "  &quot;extraClasses&quot;: &quot;fa-rotate-0&quot;,\n",
       "}\n",
       "            );\n",
       "            marker_3e8c1e9e73fe7279a9a98e36feee38d4.setIcon(icon_be182fed8ce1b2ade80f3a29557dba06);\n",
       "        \n",
       "    \n",
       "        var popup_b5e4b3ee5d02b2ca2ed1adda7a25d3e5 = L.popup({\n",
       "  &quot;maxWidth&quot;: &quot;100%&quot;,\n",
       "});\n",
       "\n",
       "        \n",
       "            \n",
       "                var html_a608ca0f520c0e3e840b269298c70a36 = $(`&lt;div id=&quot;html_a608ca0f520c0e3e840b269298c70a36&quot; style=&quot;width: 100.0%; height: 100.0%;&quot;&gt;(&quot;&lt;b style=&#x27;font-size: 18px; &#x27;&gt;Mar adentro&lt;/b&gt;&lt;br&gt;Direccion: &quot;, &quot;Especialidades: [&#x27;Comida Mediterranea&#x27;, &#x27;fusion&#x27;, &#x27;cubana&#x27;]&quot;)&lt;/div&gt;`)[0];\n",
       "                popup_b5e4b3ee5d02b2ca2ed1adda7a25d3e5.setContent(html_a608ca0f520c0e3e840b269298c70a36);\n",
       "            \n",
       "        \n",
       "\n",
       "        marker_3e8c1e9e73fe7279a9a98e36feee38d4.bindPopup(popup_b5e4b3ee5d02b2ca2ed1adda7a25d3e5)\n",
       "        ;\n",
       "\n",
       "        \n",
       "    \n",
       "    \n",
       "            var marker_9dd271e6bfb653d443a72d9e3143aeb8 = L.marker(\n",
       "                [23.051960561329945, -82.2757870610061],\n",
       "                {\n",
       "}\n",
       "            ).addTo(map_925613df095e17c33a5b049f8b266fd0);\n",
       "        \n",
       "    \n",
       "            var icon_355d5f50c54bec7adc0ca7d1ee230aeb = L.AwesomeMarkers.icon(\n",
       "                {\n",
       "  &quot;markerColor&quot;: &quot;red&quot;,\n",
       "  &quot;iconColor&quot;: &quot;white&quot;,\n",
       "  &quot;icon&quot;: &quot;cutlery&quot;,\n",
       "  &quot;prefix&quot;: &quot;fa&quot;,\n",
       "  &quot;extraClasses&quot;: &quot;fa-rotate-0&quot;,\n",
       "}\n",
       "            );\n",
       "            marker_9dd271e6bfb653d443a72d9e3143aeb8.setIcon(icon_355d5f50c54bec7adc0ca7d1ee230aeb);\n",
       "        \n",
       "    \n",
       "        var popup_bc55ae361ea6e596d642c2e83b9f98c4 = L.popup({\n",
       "  &quot;maxWidth&quot;: &quot;100%&quot;,\n",
       "});\n",
       "\n",
       "        \n",
       "            \n",
       "                var html_a0b3f9bdaca73496bba36eddd14e0178 = $(`&lt;div id=&quot;html_a0b3f9bdaca73496bba36eddd14e0178&quot; style=&quot;width: 100.0%; height: 100.0%;&quot;&gt;(&quot;&lt;b style=&#x27;font-size: 18px; &#x27;&gt;Mc.Cesar&lt;/b&gt;&lt;br&gt;Direccion: calle primer entre 220 y 221&quot;, &quot;Especialidades: [&#x27;cubana&#x27;]&quot;)&lt;/div&gt;`)[0];\n",
       "                popup_bc55ae361ea6e596d642c2e83b9f98c4.setContent(html_a0b3f9bdaca73496bba36eddd14e0178);\n",
       "            \n",
       "        \n",
       "\n",
       "        marker_9dd271e6bfb653d443a72d9e3143aeb8.bindPopup(popup_bc55ae361ea6e596d642c2e83b9f98c4)\n",
       "        ;\n",
       "\n",
       "        \n",
       "    \n",
       "    \n",
       "            var marker_16c21686847557b81c14856cf45319f9 = L.marker(\n",
       "                [23.097475154324474, -82.3758757186763],\n",
       "                {\n",
       "}\n",
       "            ).addTo(map_925613df095e17c33a5b049f8b266fd0);\n",
       "        \n",
       "    \n",
       "            var icon_b6f43467b82be32d0a443c8e0c2c0600 = L.AwesomeMarkers.icon(\n",
       "                {\n",
       "  &quot;markerColor&quot;: &quot;red&quot;,\n",
       "  &quot;iconColor&quot;: &quot;white&quot;,\n",
       "  &quot;icon&quot;: &quot;cutlery&quot;,\n",
       "  &quot;prefix&quot;: &quot;fa&quot;,\n",
       "  &quot;extraClasses&quot;: &quot;fa-rotate-0&quot;,\n",
       "}\n",
       "            );\n",
       "            marker_16c21686847557b81c14856cf45319f9.setIcon(icon_b6f43467b82be32d0a443c8e0c2c0600);\n",
       "        \n",
       "    \n",
       "        var popup_221e72a8223d5897031fdeb2b9cf9c3e = L.popup({\n",
       "  &quot;maxWidth&quot;: &quot;100%&quot;,\n",
       "});\n",
       "\n",
       "        \n",
       "            \n",
       "                var html_a6b33bef5a6baf678f78417dc32a9653 = $(`&lt;div id=&quot;html_a6b33bef5a6baf678f78417dc32a9653&quot; style=&quot;width: 100.0%; height: 100.0%;&quot;&gt;(&quot;&lt;b style=&#x27;font-size: 18px; &#x27;&gt;Melao&#x27;s&lt;/b&gt;&lt;br&gt;Direccion: Goicuría 229 e/ Milagros y Libertad. Santo Suárez&quot;, &#x27;Especialidades: []&#x27;)&lt;/div&gt;`)[0];\n",
       "                popup_221e72a8223d5897031fdeb2b9cf9c3e.setContent(html_a6b33bef5a6baf678f78417dc32a9653);\n",
       "            \n",
       "        \n",
       "\n",
       "        marker_16c21686847557b81c14856cf45319f9.bindPopup(popup_221e72a8223d5897031fdeb2b9cf9c3e)\n",
       "        ;\n",
       "\n",
       "        \n",
       "    \n",
       "    \n",
       "            var marker_9933165d3f77fadf6dab350510b15cea = L.marker(\n",
       "                [23.13356833336648, -82.3680681381318],\n",
       "                {\n",
       "}\n",
       "            ).addTo(map_925613df095e17c33a5b049f8b266fd0);\n",
       "        \n",
       "    \n",
       "            var icon_cca4a9394087ed88c72d4f6cd58b40b0 = L.AwesomeMarkers.icon(\n",
       "                {\n",
       "  &quot;markerColor&quot;: &quot;red&quot;,\n",
       "  &quot;iconColor&quot;: &quot;white&quot;,\n",
       "  &quot;icon&quot;: &quot;cutlery&quot;,\n",
       "  &quot;prefix&quot;: &quot;fa&quot;,\n",
       "  &quot;extraClasses&quot;: &quot;fa-rotate-0&quot;,\n",
       "}\n",
       "            );\n",
       "            marker_9933165d3f77fadf6dab350510b15cea.setIcon(icon_cca4a9394087ed88c72d4f6cd58b40b0);\n",
       "        \n",
       "    \n",
       "        var popup_291d9ae78b67dde359f18c481506c7b7 = L.popup({\n",
       "  &quot;maxWidth&quot;: &quot;100%&quot;,\n",
       "});\n",
       "\n",
       "        \n",
       "            \n",
       "                var html_dab37d39fdae750f71253371f8962680 = $(`&lt;div id=&quot;html_dab37d39fdae750f71253371f8962680&quot; style=&quot;width: 100.0%; height: 100.0%;&quot;&gt;(&quot;&lt;b style=&#x27;font-size: 18px; &#x27;&gt;Mimosa&lt;/b&gt;&lt;br&gt;Direccion: Salud entre C.Cerrada del Paseo y Escobar&quot;, &quot;Especialidades: [&#x27;internacional&#x27;, &#x27;Italiana&#x27;, &#x27;Cubana&#x27;]&quot;)&lt;/div&gt;`)[0];\n",
       "                popup_291d9ae78b67dde359f18c481506c7b7.setContent(html_dab37d39fdae750f71253371f8962680);\n",
       "            \n",
       "        \n",
       "\n",
       "        marker_9933165d3f77fadf6dab350510b15cea.bindPopup(popup_291d9ae78b67dde359f18c481506c7b7)\n",
       "        ;\n",
       "\n",
       "        \n",
       "    \n",
       "    \n",
       "            var marker_d3c59d33bb7415059083bf68a785a879 = L.marker(\n",
       "                [23.14556061167238, -82.35844252514089],\n",
       "                {\n",
       "}\n",
       "            ).addTo(map_925613df095e17c33a5b049f8b266fd0);\n",
       "        \n",
       "    \n",
       "            var icon_06076c620c467e87b8263dbffcd7d031 = L.AwesomeMarkers.icon(\n",
       "                {\n",
       "  &quot;markerColor&quot;: &quot;red&quot;,\n",
       "  &quot;iconColor&quot;: &quot;white&quot;,\n",
       "  &quot;icon&quot;: &quot;cutlery&quot;,\n",
       "  &quot;prefix&quot;: &quot;fa&quot;,\n",
       "  &quot;extraClasses&quot;: &quot;fa-rotate-0&quot;,\n",
       "}\n",
       "            );\n",
       "            marker_d3c59d33bb7415059083bf68a785a879.setIcon(icon_06076c620c467e87b8263dbffcd7d031);\n",
       "        \n",
       "    \n",
       "        var popup_1b9c8a2b018dcc69cbd1092d8dec7f23 = L.popup({\n",
       "  &quot;maxWidth&quot;: &quot;100%&quot;,\n",
       "});\n",
       "\n",
       "        \n",
       "            \n",
       "                var html_23908178575ed5cbd359626673c7519b = $(`&lt;div id=&quot;html_23908178575ed5cbd359626673c7519b&quot; style=&quot;width: 100.0%; height: 100.0%;&quot;&gt;(&quot;&lt;b style=&#x27;font-size: 18px; &#x27;&gt;Mini Bar (Hotel Royalton Paseo Del Prado)&lt;/b&gt;&lt;br&gt;Direccion: Prado y Malecón&quot;, &quot;Especialidades: [&#x27;bar&#x27;]&quot;)&lt;/div&gt;`)[0];\n",
       "                popup_1b9c8a2b018dcc69cbd1092d8dec7f23.setContent(html_23908178575ed5cbd359626673c7519b);\n",
       "            \n",
       "        \n",
       "\n",
       "        marker_d3c59d33bb7415059083bf68a785a879.bindPopup(popup_1b9c8a2b018dcc69cbd1092d8dec7f23)\n",
       "        ;\n",
       "\n",
       "        \n",
       "    \n",
       "    \n",
       "            var marker_e8ade5ba3295459a1f9c789598477d23 = L.marker(\n",
       "                [23.08902142289598, -82.36049771816977],\n",
       "                {\n",
       "}\n",
       "            ).addTo(map_925613df095e17c33a5b049f8b266fd0);\n",
       "        \n",
       "    \n",
       "            var icon_ff26040f62d11055c2bff2af6cc748ae = L.AwesomeMarkers.icon(\n",
       "                {\n",
       "  &quot;markerColor&quot;: &quot;red&quot;,\n",
       "  &quot;iconColor&quot;: &quot;white&quot;,\n",
       "  &quot;icon&quot;: &quot;cutlery&quot;,\n",
       "  &quot;prefix&quot;: &quot;fa&quot;,\n",
       "  &quot;extraClasses&quot;: &quot;fa-rotate-0&quot;,\n",
       "}\n",
       "            );\n",
       "            marker_e8ade5ba3295459a1f9c789598477d23.setIcon(icon_ff26040f62d11055c2bff2af6cc748ae);\n",
       "        \n",
       "    \n",
       "        var popup_37aef584c670d94c5f21f39ca5187ced = L.popup({\n",
       "  &quot;maxWidth&quot;: &quot;100%&quot;,\n",
       "});\n",
       "\n",
       "        \n",
       "            \n",
       "                var html_faf806158cc5e9c4d82631dd0885acc5 = $(`&lt;div id=&quot;html_faf806158cc5e9c4d82631dd0885acc5&quot; style=&quot;width: 100.0%; height: 100.0%;&quot;&gt;(&quot;&lt;b style=&#x27;font-size: 18px; &#x27;&gt;Mirador de Acosta&lt;/b&gt;&lt;br&gt;Direccion: Esquina Vista Alegre Este y Avenida Acosta&quot;, &quot;Especialidades: [&#x27;latina&#x27;, &#x27;criolla&#x27;]&quot;)&lt;/div&gt;`)[0];\n",
       "                popup_37aef584c670d94c5f21f39ca5187ced.setContent(html_faf806158cc5e9c4d82631dd0885acc5);\n",
       "            \n",
       "        \n",
       "\n",
       "        marker_e8ade5ba3295459a1f9c789598477d23.bindPopup(popup_37aef584c670d94c5f21f39ca5187ced)\n",
       "        ;\n",
       "\n",
       "        \n",
       "    \n",
       "    \n",
       "            var marker_037b72f6e542c25b77b12759d3ac929b = L.marker(\n",
       "                [23.044193754619403, -82.2662082394822],\n",
       "                {\n",
       "}\n",
       "            ).addTo(map_925613df095e17c33a5b049f8b266fd0);\n",
       "        \n",
       "    \n",
       "            var icon_8249a6f306166d63dc249de0d91f3ecd = L.AwesomeMarkers.icon(\n",
       "                {\n",
       "  &quot;markerColor&quot;: &quot;red&quot;,\n",
       "  &quot;iconColor&quot;: &quot;white&quot;,\n",
       "  &quot;icon&quot;: &quot;cutlery&quot;,\n",
       "  &quot;prefix&quot;: &quot;fa&quot;,\n",
       "  &quot;extraClasses&quot;: &quot;fa-rotate-0&quot;,\n",
       "}\n",
       "            );\n",
       "            marker_037b72f6e542c25b77b12759d3ac929b.setIcon(icon_8249a6f306166d63dc249de0d91f3ecd);\n",
       "        \n",
       "    \n",
       "        var popup_68fb1ebe7b99157351b6492296010de8 = L.popup({\n",
       "  &quot;maxWidth&quot;: &quot;100%&quot;,\n",
       "});\n",
       "\n",
       "        \n",
       "            \n",
       "                var html_5b10f397b8a8d051d9a1bfdc937b8707 = $(`&lt;div id=&quot;html_5b10f397b8a8d051d9a1bfdc937b8707&quot; style=&quot;width: 100.0%; height: 100.0%;&quot;&gt;(&quot;&lt;b style=&#x27;font-size: 18px; &#x27;&gt;Mi terraza&lt;/b&gt;&lt;br&gt;Direccion: Calle 71 % 24 y 26, Las Brisas&quot;, &quot;Especialidades: [&#x27;Italiana&#x27;]&quot;)&lt;/div&gt;`)[0];\n",
       "                popup_68fb1ebe7b99157351b6492296010de8.setContent(html_5b10f397b8a8d051d9a1bfdc937b8707);\n",
       "            \n",
       "        \n",
       "\n",
       "        marker_037b72f6e542c25b77b12759d3ac929b.bindPopup(popup_68fb1ebe7b99157351b6492296010de8)\n",
       "        ;\n",
       "\n",
       "        \n",
       "    \n",
       "    \n",
       "            var marker_fbd2c34321257980986e03eafc517161 = L.marker(\n",
       "                [23.089659137079668, -82.4212900861762],\n",
       "                {\n",
       "}\n",
       "            ).addTo(map_925613df095e17c33a5b049f8b266fd0);\n",
       "        \n",
       "    \n",
       "            var icon_f8cf1c7828bbdae62fd24c060ae042b2 = L.AwesomeMarkers.icon(\n",
       "                {\n",
       "  &quot;markerColor&quot;: &quot;red&quot;,\n",
       "  &quot;iconColor&quot;: &quot;white&quot;,\n",
       "  &quot;icon&quot;: &quot;cutlery&quot;,\n",
       "  &quot;prefix&quot;: &quot;fa&quot;,\n",
       "  &quot;extraClasses&quot;: &quot;fa-rotate-0&quot;,\n",
       "}\n",
       "            );\n",
       "            marker_fbd2c34321257980986e03eafc517161.setIcon(icon_f8cf1c7828bbdae62fd24c060ae042b2);\n",
       "        \n",
       "    \n",
       "        var popup_eb1069ec7913841782fd98e404ebcd2d = L.popup({\n",
       "  &quot;maxWidth&quot;: &quot;100%&quot;,\n",
       "});\n",
       "\n",
       "        \n",
       "            \n",
       "                var html_1b03ed0a5610c812578388b5d1a6f8f9 = $(`&lt;div id=&quot;html_1b03ed0a5610c812578388b5d1a6f8f9&quot; style=&quot;width: 100.0%; height: 100.0%;&quot;&gt;(&quot;&lt;b style=&#x27;font-size: 18px; &#x27;&gt;MM-Cafeteria&lt;/b&gt;&lt;br&gt;Direccion: Avenida 41 entre 82 y 84&quot;, &quot;Especialidades: [&#x27;cubana&#x27;, &#x27;italiana&#x27;]&quot;)&lt;/div&gt;`)[0];\n",
       "                popup_eb1069ec7913841782fd98e404ebcd2d.setContent(html_1b03ed0a5610c812578388b5d1a6f8f9);\n",
       "            \n",
       "        \n",
       "\n",
       "        marker_fbd2c34321257980986e03eafc517161.bindPopup(popup_eb1069ec7913841782fd98e404ebcd2d)\n",
       "        ;\n",
       "\n",
       "        \n",
       "    \n",
       "    \n",
       "            var marker_a8668222df11b0b35088d0b99f71baf2 = L.marker(\n",
       "                [23.113313570547763, -82.43955638650688],\n",
       "                {\n",
       "}\n",
       "            ).addTo(map_925613df095e17c33a5b049f8b266fd0);\n",
       "        \n",
       "    \n",
       "            var icon_e0386056b3ad7193886065596067c257 = L.AwesomeMarkers.icon(\n",
       "                {\n",
       "  &quot;markerColor&quot;: &quot;red&quot;,\n",
       "  &quot;iconColor&quot;: &quot;white&quot;,\n",
       "  &quot;icon&quot;: &quot;cutlery&quot;,\n",
       "  &quot;prefix&quot;: &quot;fa&quot;,\n",
       "  &quot;extraClasses&quot;: &quot;fa-rotate-0&quot;,\n",
       "}\n",
       "            );\n",
       "            marker_a8668222df11b0b35088d0b99f71baf2.setIcon(icon_e0386056b3ad7193886065596067c257);\n",
       "        \n",
       "    \n",
       "        var popup_40418b06a377664271890b26cc74840c = L.popup({\n",
       "  &quot;maxWidth&quot;: &quot;100%&quot;,\n",
       "});\n",
       "\n",
       "        \n",
       "            \n",
       "                var html_955b5216469ee5fa96cf484bc3212a59 = $(`&lt;div id=&quot;html_955b5216469ee5fa96cf484bc3212a59&quot; style=&quot;width: 100.0%; height: 100.0%;&quot;&gt;(&quot;&lt;b style=&#x27;font-size: 18px; &#x27;&gt;Muelle 70&lt;/b&gt;&lt;br&gt;Direccion: 1ra Avenida entre calle 70 y 68&quot;, &quot;Especialidades: [&#x27;cubana&#x27;, &#x27;internacional&#x27;, &#x27;italiana&#x27;, &#x27;criolla&#x27;]&quot;)&lt;/div&gt;`)[0];\n",
       "                popup_40418b06a377664271890b26cc74840c.setContent(html_955b5216469ee5fa96cf484bc3212a59);\n",
       "            \n",
       "        \n",
       "\n",
       "        marker_a8668222df11b0b35088d0b99f71baf2.bindPopup(popup_40418b06a377664271890b26cc74840c)\n",
       "        ;\n",
       "\n",
       "        \n",
       "    \n",
       "    \n",
       "            var marker_cdcdf376d34126e3ff4c388aecf2c243 = L.marker(\n",
       "                [23.138030572262426, -82.36420227071567],\n",
       "                {\n",
       "}\n",
       "            ).addTo(map_925613df095e17c33a5b049f8b266fd0);\n",
       "        \n",
       "    \n",
       "            var icon_ce8eda9eafee44f75bab6410085296b5 = L.AwesomeMarkers.icon(\n",
       "                {\n",
       "  &quot;markerColor&quot;: &quot;red&quot;,\n",
       "  &quot;iconColor&quot;: &quot;white&quot;,\n",
       "  &quot;icon&quot;: &quot;cutlery&quot;,\n",
       "  &quot;prefix&quot;: &quot;fa&quot;,\n",
       "  &quot;extraClasses&quot;: &quot;fa-rotate-0&quot;,\n",
       "}\n",
       "            );\n",
       "            marker_cdcdf376d34126e3ff4c388aecf2c243.setIcon(icon_ce8eda9eafee44f75bab6410085296b5);\n",
       "        \n",
       "    \n",
       "        var popup_1b20ff862cf77e5feffd1fef6033f41b = L.popup({\n",
       "  &quot;maxWidth&quot;: &quot;100%&quot;,\n",
       "});\n",
       "\n",
       "        \n",
       "            \n",
       "                var html_59a01372494ab26063a466d4f81be62b = $(`&lt;div id=&quot;html_59a01372494ab26063a466d4f81be62b&quot; style=&quot;width: 100.0%; height: 100.0%;&quot;&gt;(&quot;&lt;b style=&#x27;font-size: 18px; &#x27;&gt;Mundo Pizza&lt;/b&gt;&lt;br&gt;Direccion: C. San Nicolás 309 entre Neptuno y San Miguel&quot;, &quot;Especialidades: [&#x27;Internacional&#x27;, &#x27;Pizzas&#x27;]&quot;)&lt;/div&gt;`)[0];\n",
       "                popup_1b20ff862cf77e5feffd1fef6033f41b.setContent(html_59a01372494ab26063a466d4f81be62b);\n",
       "            \n",
       "        \n",
       "\n",
       "        marker_cdcdf376d34126e3ff4c388aecf2c243.bindPopup(popup_1b20ff862cf77e5feffd1fef6033f41b)\n",
       "        ;\n",
       "\n",
       "        \n",
       "    \n",
       "    \n",
       "            var marker_2ebb96f1ac5f9884e5109325dd8c4998 = L.marker(\n",
       "                [23.140346357851502, -82.35253591702202],\n",
       "                {\n",
       "}\n",
       "            ).addTo(map_925613df095e17c33a5b049f8b266fd0);\n",
       "        \n",
       "    \n",
       "            var icon_41f142df976c2271a3f8470c9dbee5cb = L.AwesomeMarkers.icon(\n",
       "                {\n",
       "  &quot;markerColor&quot;: &quot;red&quot;,\n",
       "  &quot;iconColor&quot;: &quot;white&quot;,\n",
       "  &quot;icon&quot;: &quot;cutlery&quot;,\n",
       "  &quot;prefix&quot;: &quot;fa&quot;,\n",
       "  &quot;extraClasses&quot;: &quot;fa-rotate-0&quot;,\n",
       "}\n",
       "            );\n",
       "            marker_2ebb96f1ac5f9884e5109325dd8c4998.setIcon(icon_41f142df976c2271a3f8470c9dbee5cb);\n",
       "        \n",
       "    \n",
       "        var popup_c81c04574563bf95f02fd66578de2191 = L.popup({\n",
       "  &quot;maxWidth&quot;: &quot;100%&quot;,\n",
       "});\n",
       "\n",
       "        \n",
       "            \n",
       "                var html_92a721963b7042b91af6d76932403499 = $(`&lt;div id=&quot;html_92a721963b7042b91af6d76932403499&quot; style=&quot;width: 100.0%; height: 100.0%;&quot;&gt;(&quot;&lt;b style=&#x27;font-size: 18px; &#x27;&gt;Mythos&lt;/b&gt;&lt;br&gt;Direccion: Calle Cuba No. 211 entre Empedrado y O&#x27;Reilly&quot;, &quot;Especialidades: [&#x27;Griega&#x27;]&quot;)&lt;/div&gt;`)[0];\n",
       "                popup_c81c04574563bf95f02fd66578de2191.setContent(html_92a721963b7042b91af6d76932403499);\n",
       "            \n",
       "        \n",
       "\n",
       "        marker_2ebb96f1ac5f9884e5109325dd8c4998.bindPopup(popup_c81c04574563bf95f02fd66578de2191)\n",
       "        ;\n",
       "\n",
       "        \n",
       "    \n",
       "    \n",
       "            var marker_018eef1d3c22a2f3982e25b8f106873d = L.marker(\n",
       "                [22.9752725188445, -82.38492436527059],\n",
       "                {\n",
       "}\n",
       "            ).addTo(map_925613df095e17c33a5b049f8b266fd0);\n",
       "        \n",
       "    \n",
       "            var icon_dc9186d0db6aa9c3064815175adf3336 = L.AwesomeMarkers.icon(\n",
       "                {\n",
       "  &quot;markerColor&quot;: &quot;red&quot;,\n",
       "  &quot;iconColor&quot;: &quot;white&quot;,\n",
       "  &quot;icon&quot;: &quot;cutlery&quot;,\n",
       "  &quot;prefix&quot;: &quot;fa&quot;,\n",
       "  &quot;extraClasses&quot;: &quot;fa-rotate-0&quot;,\n",
       "}\n",
       "            );\n",
       "            marker_018eef1d3c22a2f3982e25b8f106873d.setIcon(icon_dc9186d0db6aa9c3064815175adf3336);\n",
       "        \n",
       "    \n",
       "        var popup_4a74bc42274547702d1763d6f532624b = L.popup({\n",
       "  &quot;maxWidth&quot;: &quot;100%&quot;,\n",
       "});\n",
       "\n",
       "        \n",
       "            \n",
       "                var html_e314795e9d7d9ce40c950f7ef43471af = $(`&lt;div id=&quot;html_e314795e9d7d9ce40c950f7ef43471af&quot; style=&quot;width: 100.0%; height: 100.0%;&quot;&gt;(&quot;&lt;b style=&#x27;font-size: 18px; &#x27;&gt;Nameless&lt;/b&gt;&lt;br&gt;Direccion: Avenida Rancho Boyeros % 407A &amp; 409, Santiago de las Vegas&quot;, &quot;Especialidades: [&#x27;italiana&#x27;, &#x27;criolla&#x27;, &#x27;cubana&#x27;]&quot;)&lt;/div&gt;`)[0];\n",
       "                popup_4a74bc42274547702d1763d6f532624b.setContent(html_e314795e9d7d9ce40c950f7ef43471af);\n",
       "            \n",
       "        \n",
       "\n",
       "        marker_018eef1d3c22a2f3982e25b8f106873d.bindPopup(popup_4a74bc42274547702d1763d6f532624b)\n",
       "        ;\n",
       "\n",
       "        \n",
       "    \n",
       "    \n",
       "            var marker_fce5fda3d2c733800a0724a75b0c5928 = L.marker(\n",
       "                [23.089238381444375, -82.35993723032014],\n",
       "                {\n",
       "}\n",
       "            ).addTo(map_925613df095e17c33a5b049f8b266fd0);\n",
       "        \n",
       "    \n",
       "            var icon_67c4f20e3a4a53d381f7cb436b741c8d = L.AwesomeMarkers.icon(\n",
       "                {\n",
       "  &quot;markerColor&quot;: &quot;red&quot;,\n",
       "  &quot;iconColor&quot;: &quot;white&quot;,\n",
       "  &quot;icon&quot;: &quot;cutlery&quot;,\n",
       "  &quot;prefix&quot;: &quot;fa&quot;,\n",
       "  &quot;extraClasses&quot;: &quot;fa-rotate-0&quot;,\n",
       "}\n",
       "            );\n",
       "            marker_fce5fda3d2c733800a0724a75b0c5928.setIcon(icon_67c4f20e3a4a53d381f7cb436b741c8d);\n",
       "        \n",
       "    \n",
       "        var popup_1907593606ba321589d95e30f7c8dc6e = L.popup({\n",
       "  &quot;maxWidth&quot;: &quot;100%&quot;,\n",
       "});\n",
       "\n",
       "        \n",
       "            \n",
       "                var html_4fb134d7dcda07ba01f3b5b86d34e19b = $(`&lt;div id=&quot;html_4fb134d7dcda07ba01f3b5b86d34e19b&quot; style=&quot;width: 100.0%; height: 100.0%;&quot;&gt;(&quot;&lt;b style=&#x27;font-size: 18px; &#x27;&gt;Nel Paradiso&lt;/b&gt;&lt;br&gt;Direccion: Acosta #303 esquina Armas &quot;, &quot;Especialidades: [&#x27;Comida cubana&#x27;, &#x27;criolla&#x27;, &#x27;internacional&#x27;, &#x27;mariscos&#x27;]&quot;)&lt;/div&gt;`)[0];\n",
       "                popup_1907593606ba321589d95e30f7c8dc6e.setContent(html_4fb134d7dcda07ba01f3b5b86d34e19b);\n",
       "            \n",
       "        \n",
       "\n",
       "        marker_fce5fda3d2c733800a0724a75b0c5928.bindPopup(popup_1907593606ba321589d95e30f7c8dc6e)\n",
       "        ;\n",
       "\n",
       "        \n",
       "    \n",
       "    \n",
       "            var marker_0d4f93e9074381dc6ffd3134b4abb7e0 = L.marker(\n",
       "                [23.043747220202967, -82.25328637835823],\n",
       "                {\n",
       "}\n",
       "            ).addTo(map_925613df095e17c33a5b049f8b266fd0);\n",
       "        \n",
       "    \n",
       "            var icon_4b29a52888b0a3f8ef82a2fa7266121a = L.AwesomeMarkers.icon(\n",
       "                {\n",
       "  &quot;markerColor&quot;: &quot;red&quot;,\n",
       "  &quot;iconColor&quot;: &quot;white&quot;,\n",
       "  &quot;icon&quot;: &quot;cutlery&quot;,\n",
       "  &quot;prefix&quot;: &quot;fa&quot;,\n",
       "  &quot;extraClasses&quot;: &quot;fa-rotate-0&quot;,\n",
       "}\n",
       "            );\n",
       "            marker_0d4f93e9074381dc6ffd3134b4abb7e0.setIcon(icon_4b29a52888b0a3f8ef82a2fa7266121a);\n",
       "        \n",
       "    \n",
       "        var popup_aaeb119d68a21d5282d2ee9c6d58d3d8 = L.popup({\n",
       "  &quot;maxWidth&quot;: &quot;100%&quot;,\n",
       "});\n",
       "\n",
       "        \n",
       "            \n",
       "                var html_edeb6f7533212625d857667292799be4 = $(`&lt;div id=&quot;html_edeb6f7533212625d857667292799be4&quot; style=&quot;width: 100.0%; height: 100.0%;&quot;&gt;(&quot;&lt;b style=&#x27;font-size: 18px; &#x27;&gt;Ole Ole&lt;/b&gt;&lt;br&gt;Direccion: 71 esquina 46 y 48, Loteria&quot;, &quot;Especialidades: [&#x27;Cubana&#x27;, &#x27;Italiana&#x27;, &#x27;Criolla&#x27;, &#x27;internacional&#x27;]&quot;)&lt;/div&gt;`)[0];\n",
       "                popup_aaeb119d68a21d5282d2ee9c6d58d3d8.setContent(html_edeb6f7533212625d857667292799be4);\n",
       "            \n",
       "        \n",
       "\n",
       "        marker_0d4f93e9074381dc6ffd3134b4abb7e0.bindPopup(popup_aaeb119d68a21d5282d2ee9c6d58d3d8)\n",
       "        ;\n",
       "\n",
       "        \n",
       "    \n",
       "    \n",
       "            var marker_6dd0a86e20a0e862c5f2c6ef09cf6ae7 = L.marker(\n",
       "                [23.066165087925306, -82.45070559198918],\n",
       "                {\n",
       "}\n",
       "            ).addTo(map_925613df095e17c33a5b049f8b266fd0);\n",
       "        \n",
       "    \n",
       "            var icon_d32cc5c70568bcc43836afe90d34ba76 = L.AwesomeMarkers.icon(\n",
       "                {\n",
       "  &quot;markerColor&quot;: &quot;red&quot;,\n",
       "  &quot;iconColor&quot;: &quot;white&quot;,\n",
       "  &quot;icon&quot;: &quot;cutlery&quot;,\n",
       "  &quot;prefix&quot;: &quot;fa&quot;,\n",
       "  &quot;extraClasses&quot;: &quot;fa-rotate-0&quot;,\n",
       "}\n",
       "            );\n",
       "            marker_6dd0a86e20a0e862c5f2c6ef09cf6ae7.setIcon(icon_d32cc5c70568bcc43836afe90d34ba76);\n",
       "        \n",
       "    \n",
       "        var popup_325e7a36c2df83021360222dfffaaddf = L.popup({\n",
       "  &quot;maxWidth&quot;: &quot;100%&quot;,\n",
       "});\n",
       "\n",
       "        \n",
       "            \n",
       "                var html_689ed4784248fe5170e3c7df7e233803 = $(`&lt;div id=&quot;html_689ed4784248fe5170e3c7df7e233803&quot; style=&quot;width: 100.0%; height: 100.0%;&quot;&gt;(&quot;&lt;b style=&#x27;font-size: 18px; &#x27;&gt;Pacomeralgo&lt;/b&gt;&lt;br&gt;Direccion: Desconocida&quot;, &quot;Especialidades: [&#x27;italiana&#x27;]&quot;)&lt;/div&gt;`)[0];\n",
       "                popup_325e7a36c2df83021360222dfffaaddf.setContent(html_689ed4784248fe5170e3c7df7e233803);\n",
       "            \n",
       "        \n",
       "\n",
       "        marker_6dd0a86e20a0e862c5f2c6ef09cf6ae7.bindPopup(popup_325e7a36c2df83021360222dfffaaddf)\n",
       "        ;\n",
       "\n",
       "        \n",
       "    \n",
       "    \n",
       "            var marker_7ca96f4d03a0775d209f358b36d97696 = L.marker(\n",
       "                [23.045754014037833, -82.27038368811118],\n",
       "                {\n",
       "}\n",
       "            ).addTo(map_925613df095e17c33a5b049f8b266fd0);\n",
       "        \n",
       "    \n",
       "            var icon_2125180d91fcc94eeedb7ff2a42058ee = L.AwesomeMarkers.icon(\n",
       "                {\n",
       "  &quot;markerColor&quot;: &quot;red&quot;,\n",
       "  &quot;iconColor&quot;: &quot;white&quot;,\n",
       "  &quot;icon&quot;: &quot;cutlery&quot;,\n",
       "  &quot;prefix&quot;: &quot;fa&quot;,\n",
       "  &quot;extraClasses&quot;: &quot;fa-rotate-0&quot;,\n",
       "}\n",
       "            );\n",
       "            marker_7ca96f4d03a0775d209f358b36d97696.setIcon(icon_2125180d91fcc94eeedb7ff2a42058ee);\n",
       "        \n",
       "    \n",
       "        var popup_cd4dd5f8deb7094e7d1f062cb8f4c023 = L.popup({\n",
       "  &quot;maxWidth&quot;: &quot;100%&quot;,\n",
       "});\n",
       "\n",
       "        \n",
       "            \n",
       "                var html_46788d25448a1455acb4b1a8f9fe2f60 = $(`&lt;div id=&quot;html_46788d25448a1455acb4b1a8f9fe2f60&quot; style=&quot;width: 100.0%; height: 100.0%;&quot;&gt;(&quot;&lt;b style=&#x27;font-size: 18px; &#x27;&gt;Pal&#x27;Karajo&lt;/b&gt;&lt;br&gt;Direccion: Avenida 101 Esquina 16 Centro&quot;, &quot;Especialidades: [&#x27;sandwich&#x27;]&quot;)&lt;/div&gt;`)[0];\n",
       "                popup_cd4dd5f8deb7094e7d1f062cb8f4c023.setContent(html_46788d25448a1455acb4b1a8f9fe2f60);\n",
       "            \n",
       "        \n",
       "\n",
       "        marker_7ca96f4d03a0775d209f358b36d97696.bindPopup(popup_cd4dd5f8deb7094e7d1f062cb8f4c023)\n",
       "        ;\n",
       "\n",
       "        \n",
       "    \n",
       "    \n",
       "            var marker_d1ba1389e667a11c2f7b330475118e17 = L.marker(\n",
       "                [23.089981911375197, -82.37383881867649],\n",
       "                {\n",
       "}\n",
       "            ).addTo(map_925613df095e17c33a5b049f8b266fd0);\n",
       "        \n",
       "    \n",
       "            var icon_e3d899dc6611668e294d522b75dde7ea = L.AwesomeMarkers.icon(\n",
       "                {\n",
       "  &quot;markerColor&quot;: &quot;red&quot;,\n",
       "  &quot;iconColor&quot;: &quot;white&quot;,\n",
       "  &quot;icon&quot;: &quot;cutlery&quot;,\n",
       "  &quot;prefix&quot;: &quot;fa&quot;,\n",
       "  &quot;extraClasses&quot;: &quot;fa-rotate-0&quot;,\n",
       "}\n",
       "            );\n",
       "            marker_d1ba1389e667a11c2f7b330475118e17.setIcon(icon_e3d899dc6611668e294d522b75dde7ea);\n",
       "        \n",
       "    \n",
       "        var popup_a65cf71e2d5e87d09c22bc3967f2e0f6 = L.popup({\n",
       "  &quot;maxWidth&quot;: &quot;100%&quot;,\n",
       "});\n",
       "\n",
       "        \n",
       "            \n",
       "                var html_c1d191246aed09dfe22de3e8700a8347 = $(`&lt;div id=&quot;html_c1d191246aed09dfe22de3e8700a8347&quot; style=&quot;width: 100.0%; height: 100.0%;&quot;&gt;(&quot;&lt;b style=&#x27;font-size: 18px; &#x27;&gt;Parrandas Grill Bar&lt;/b&gt;&lt;br&gt;Direccion: #366, Calle O&#x27;Farril entre Destrampes y Figueroa&quot;, &quot;Especialidades: [&#x27;mixta&#x27;]&quot;)&lt;/div&gt;`)[0];\n",
       "                popup_a65cf71e2d5e87d09c22bc3967f2e0f6.setContent(html_c1d191246aed09dfe22de3e8700a8347);\n",
       "            \n",
       "        \n",
       "\n",
       "        marker_d1ba1389e667a11c2f7b330475118e17.bindPopup(popup_a65cf71e2d5e87d09c22bc3967f2e0f6)\n",
       "        ;\n",
       "\n",
       "        \n",
       "    \n",
       "    \n",
       "            var marker_0cd0ca843ba47181931ffa627ede62cc = L.marker(\n",
       "                [23.10461483018299, -82.37587401682666],\n",
       "                {\n",
       "}\n",
       "            ).addTo(map_925613df095e17c33a5b049f8b266fd0);\n",
       "        \n",
       "    \n",
       "            var icon_f527040ec15fcd0e55496618984b56d4 = L.AwesomeMarkers.icon(\n",
       "                {\n",
       "  &quot;markerColor&quot;: &quot;red&quot;,\n",
       "  &quot;iconColor&quot;: &quot;white&quot;,\n",
       "  &quot;icon&quot;: &quot;cutlery&quot;,\n",
       "  &quot;prefix&quot;: &quot;fa&quot;,\n",
       "  &quot;extraClasses&quot;: &quot;fa-rotate-0&quot;,\n",
       "}\n",
       "            );\n",
       "            marker_0cd0ca843ba47181931ffa627ede62cc.setIcon(icon_f527040ec15fcd0e55496618984b56d4);\n",
       "        \n",
       "    \n",
       "        var popup_df9a25155eae6eac89ebd68c89ddb651 = L.popup({\n",
       "  &quot;maxWidth&quot;: &quot;100%&quot;,\n",
       "});\n",
       "\n",
       "        \n",
       "            \n",
       "                var html_810963fd16214ce8c6402eb9e6a271d6 = $(`&lt;div id=&quot;html_810963fd16214ce8c6402eb9e6a271d6&quot; style=&quot;width: 100.0%; height: 100.0%;&quot;&gt;(&quot;&lt;b style=&#x27;font-size: 18px; &#x27;&gt;Pasos Habaneros&lt;/b&gt;&lt;br&gt;Direccion: Calle Santos Suárez 464 e/ Gómez y Mendoza. Santos Suárez&quot;, &quot;Especialidades: [&#x27;internacional&#x27;, &#x27;helados&#x27;]&quot;)&lt;/div&gt;`)[0];\n",
       "                popup_df9a25155eae6eac89ebd68c89ddb651.setContent(html_810963fd16214ce8c6402eb9e6a271d6);\n",
       "            \n",
       "        \n",
       "\n",
       "        marker_0cd0ca843ba47181931ffa627ede62cc.bindPopup(popup_df9a25155eae6eac89ebd68c89ddb651)\n",
       "        ;\n",
       "\n",
       "        \n",
       "    \n",
       "    \n",
       "            var marker_1081e40332c263f5b113cac920a01622 = L.marker(\n",
       "                [23.13691089950695, -82.36186773236341],\n",
       "                {\n",
       "}\n",
       "            ).addTo(map_925613df095e17c33a5b049f8b266fd0);\n",
       "        \n",
       "    \n",
       "            var icon_7fc82a60b493538a3565e01263c2a204 = L.AwesomeMarkers.icon(\n",
       "                {\n",
       "  &quot;markerColor&quot;: &quot;red&quot;,\n",
       "  &quot;iconColor&quot;: &quot;white&quot;,\n",
       "  &quot;icon&quot;: &quot;cutlery&quot;,\n",
       "  &quot;prefix&quot;: &quot;fa&quot;,\n",
       "  &quot;extraClasses&quot;: &quot;fa-rotate-0&quot;,\n",
       "}\n",
       "            );\n",
       "            marker_1081e40332c263f5b113cac920a01622.setIcon(icon_7fc82a60b493538a3565e01263c2a204);\n",
       "        \n",
       "    \n",
       "        var popup_98e913ec27c85437204e234d1d2c9a49 = L.popup({\n",
       "  &quot;maxWidth&quot;: &quot;100%&quot;,\n",
       "});\n",
       "\n",
       "        \n",
       "            \n",
       "                var html_1c8f951ea8d9312143e0b5447e88f7cd = $(`&lt;div id=&quot;html_1c8f951ea8d9312143e0b5447e88f7cd&quot; style=&quot;width: 100.0%; height: 100.0%;&quot;&gt;(&quot;&lt;b style=&#x27;font-size: 18px; &#x27;&gt;Pedro&#x27;s Bar&lt;/b&gt;&lt;br&gt;Direccion: 209 Blvd. de San Rafael entre Aguila y Amistad&quot;, &quot;Especialidades: [&#x27;italiana&#x27;]&quot;)&lt;/div&gt;`)[0];\n",
       "                popup_98e913ec27c85437204e234d1d2c9a49.setContent(html_1c8f951ea8d9312143e0b5447e88f7cd);\n",
       "            \n",
       "        \n",
       "\n",
       "        marker_1081e40332c263f5b113cac920a01622.bindPopup(popup_98e913ec27c85437204e234d1d2c9a49)\n",
       "        ;\n",
       "\n",
       "        \n",
       "    \n",
       "    \n",
       "            var marker_9f8913cacfe76820b9b9b110c9133fb9 = L.marker(\n",
       "                [23.08152839668274, -82.34264074494948],\n",
       "                {\n",
       "}\n",
       "            ).addTo(map_925613df095e17c33a5b049f8b266fd0);\n",
       "        \n",
       "    \n",
       "            var icon_b43be940a7909e4d691021d40a83fe72 = L.AwesomeMarkers.icon(\n",
       "                {\n",
       "  &quot;markerColor&quot;: &quot;red&quot;,\n",
       "  &quot;iconColor&quot;: &quot;white&quot;,\n",
       "  &quot;icon&quot;: &quot;cutlery&quot;,\n",
       "  &quot;prefix&quot;: &quot;fa&quot;,\n",
       "  &quot;extraClasses&quot;: &quot;fa-rotate-0&quot;,\n",
       "}\n",
       "            );\n",
       "            marker_9f8913cacfe76820b9b9b110c9133fb9.setIcon(icon_b43be940a7909e4d691021d40a83fe72);\n",
       "        \n",
       "    \n",
       "        var popup_b2bdf2a488f502ddb22c46db9a1c51ff = L.popup({\n",
       "  &quot;maxWidth&quot;: &quot;100%&quot;,\n",
       "});\n",
       "\n",
       "        \n",
       "            \n",
       "                var html_27feff349d074844c2d751030778a9ad = $(`&lt;div id=&quot;html_27feff349d074844c2d751030778a9ad&quot; style=&quot;width: 100.0%; height: 100.0%;&quot;&gt;(&quot;&lt;b style=&#x27;font-size: 18px; &#x27;&gt;Perla Negra&lt;/b&gt;&lt;br&gt;Direccion: Milagros 114 e/ Heredia y Poey, Santos Suárez&quot;, &quot;Especialidades: [&#x27;cubana&#x27;, &#x27;italiana&#x27;]&quot;)&lt;/div&gt;`)[0];\n",
       "                popup_b2bdf2a488f502ddb22c46db9a1c51ff.setContent(html_27feff349d074844c2d751030778a9ad);\n",
       "            \n",
       "        \n",
       "\n",
       "        marker_9f8913cacfe76820b9b9b110c9133fb9.bindPopup(popup_b2bdf2a488f502ddb22c46db9a1c51ff)\n",
       "        ;\n",
       "\n",
       "        \n",
       "    \n",
       "    \n",
       "            var marker_9c7329a4ed4f2c50dffba72d4d497e35 = L.marker(\n",
       "                [23.12356261631935, -82.30423505951029],\n",
       "                {\n",
       "}\n",
       "            ).addTo(map_925613df095e17c33a5b049f8b266fd0);\n",
       "        \n",
       "    \n",
       "            var icon_ca2bdb50688415324b2737251894037c = L.AwesomeMarkers.icon(\n",
       "                {\n",
       "  &quot;markerColor&quot;: &quot;red&quot;,\n",
       "  &quot;iconColor&quot;: &quot;white&quot;,\n",
       "  &quot;icon&quot;: &quot;cutlery&quot;,\n",
       "  &quot;prefix&quot;: &quot;fa&quot;,\n",
       "  &quot;extraClasses&quot;: &quot;fa-rotate-0&quot;,\n",
       "}\n",
       "            );\n",
       "            marker_9c7329a4ed4f2c50dffba72d4d497e35.setIcon(icon_ca2bdb50688415324b2737251894037c);\n",
       "        \n",
       "    \n",
       "        var popup_56cf6866d8d3b3269e860a8b4e04e332 = L.popup({\n",
       "  &quot;maxWidth&quot;: &quot;100%&quot;,\n",
       "});\n",
       "\n",
       "        \n",
       "            \n",
       "                var html_5dbbb71637f7372fae3e19e99f568b8f = $(`&lt;div id=&quot;html_5dbbb71637f7372fae3e19e99f568b8f&quot; style=&quot;width: 100.0%; height: 100.0%;&quot;&gt;(&quot;&lt;b style=&#x27;font-size: 18px; &#x27;&gt;Pizzas Vip&lt;/b&gt;&lt;br&gt;Direccion: E Guiral entre Luz y Maceo&quot;, &quot;Especialidades: [&#x27;Pizzas&#x27;, &#x27;Pastas&#x27;]&quot;)&lt;/div&gt;`)[0];\n",
       "                popup_56cf6866d8d3b3269e860a8b4e04e332.setContent(html_5dbbb71637f7372fae3e19e99f568b8f);\n",
       "            \n",
       "        \n",
       "\n",
       "        marker_9c7329a4ed4f2c50dffba72d4d497e35.bindPopup(popup_56cf6866d8d3b3269e860a8b4e04e332)\n",
       "        ;\n",
       "\n",
       "        \n",
       "    \n",
       "    \n",
       "            var marker_3ab2c72362f121c782ae8ac397bbf11a = L.marker(\n",
       "                [23.139325457451932, -82.35937998794891],\n",
       "                {\n",
       "}\n",
       "            ).addTo(map_925613df095e17c33a5b049f8b266fd0);\n",
       "        \n",
       "    \n",
       "            var icon_6713c1ed1b0d6b6743adbae3184cf708 = L.AwesomeMarkers.icon(\n",
       "                {\n",
       "  &quot;markerColor&quot;: &quot;red&quot;,\n",
       "  &quot;iconColor&quot;: &quot;white&quot;,\n",
       "  &quot;icon&quot;: &quot;cutlery&quot;,\n",
       "  &quot;prefix&quot;: &quot;fa&quot;,\n",
       "  &quot;extraClasses&quot;: &quot;fa-rotate-0&quot;,\n",
       "}\n",
       "            );\n",
       "            marker_3ab2c72362f121c782ae8ac397bbf11a.setIcon(icon_6713c1ed1b0d6b6743adbae3184cf708);\n",
       "        \n",
       "    \n",
       "        var popup_7e21c404235f38510435013dd46d026e = L.popup({\n",
       "  &quot;maxWidth&quot;: &quot;100%&quot;,\n",
       "});\n",
       "\n",
       "        \n",
       "            \n",
       "                var html_15e06ee1b8233c828f5fb1e3b64ea53f = $(`&lt;div id=&quot;html_15e06ee1b8233c828f5fb1e3b64ea53f&quot; style=&quot;width: 100.0%; height: 100.0%;&quot;&gt;(&quot;&lt;b style=&#x27;font-size: 18px; &#x27;&gt;Plan H&lt;/b&gt;&lt;br&gt;Direccion: 308 P de Marti Ánimas y Virtudes&quot;, &quot;Especialidades: [&#x27;Comida Asiática&#x27;, &#x27;Internacional&#x27;, &#x27;Tailandesa&#x27;]&quot;)&lt;/div&gt;`)[0];\n",
       "                popup_7e21c404235f38510435013dd46d026e.setContent(html_15e06ee1b8233c828f5fb1e3b64ea53f);\n",
       "            \n",
       "        \n",
       "\n",
       "        marker_3ab2c72362f121c782ae8ac397bbf11a.bindPopup(popup_7e21c404235f38510435013dd46d026e)\n",
       "        ;\n",
       "\n",
       "        \n",
       "    \n",
       "    \n",
       "            var marker_4de8b3e35dc9da6e3062b8e5840fcd2e = L.marker(\n",
       "                [23.122083546215134, -82.30797703533594],\n",
       "                {\n",
       "}\n",
       "            ).addTo(map_925613df095e17c33a5b049f8b266fd0);\n",
       "        \n",
       "    \n",
       "            var icon_c10dc15fbfa5fc67af95e6761a954cb2 = L.AwesomeMarkers.icon(\n",
       "                {\n",
       "  &quot;markerColor&quot;: &quot;red&quot;,\n",
       "  &quot;iconColor&quot;: &quot;white&quot;,\n",
       "  &quot;icon&quot;: &quot;cutlery&quot;,\n",
       "  &quot;prefix&quot;: &quot;fa&quot;,\n",
       "  &quot;extraClasses&quot;: &quot;fa-rotate-0&quot;,\n",
       "}\n",
       "            );\n",
       "            marker_4de8b3e35dc9da6e3062b8e5840fcd2e.setIcon(icon_c10dc15fbfa5fc67af95e6761a954cb2);\n",
       "        \n",
       "    \n",
       "        var popup_eb6354ec5a4fd3e004ebc65433381fcf = L.popup({\n",
       "  &quot;maxWidth&quot;: &quot;100%&quot;,\n",
       "});\n",
       "\n",
       "        \n",
       "            \n",
       "                var html_df9072690db43122a08f2bd8a0effeca = $(`&lt;div id=&quot;html_df9072690db43122a08f2bd8a0effeca&quot; style=&quot;width: 100.0%; height: 100.0%;&quot;&gt;(&quot;&lt;b style=&#x27;font-size: 18px; &#x27;&gt;Polo&lt;/b&gt;&lt;br&gt;Direccion: Calle Cruz Verde entre Independencia Este y Barreto Este&quot;, &quot;Especialidades: [&#x27;Comida Internacional&#x27;]&quot;)&lt;/div&gt;`)[0];\n",
       "                popup_eb6354ec5a4fd3e004ebc65433381fcf.setContent(html_df9072690db43122a08f2bd8a0effeca);\n",
       "            \n",
       "        \n",
       "\n",
       "        marker_4de8b3e35dc9da6e3062b8e5840fcd2e.bindPopup(popup_eb6354ec5a4fd3e004ebc65433381fcf)\n",
       "        ;\n",
       "\n",
       "        \n",
       "    \n",
       "    \n",
       "            var marker_2db658ca38279d855470acc949041405 = L.marker(\n",
       "                [23.067659194580123, -82.4512542109271],\n",
       "                {\n",
       "}\n",
       "            ).addTo(map_925613df095e17c33a5b049f8b266fd0);\n",
       "        \n",
       "    \n",
       "            var icon_7caca223698f4a7d0e7300654f5a7b41 = L.AwesomeMarkers.icon(\n",
       "                {\n",
       "  &quot;markerColor&quot;: &quot;red&quot;,\n",
       "  &quot;iconColor&quot;: &quot;white&quot;,\n",
       "  &quot;icon&quot;: &quot;cutlery&quot;,\n",
       "  &quot;prefix&quot;: &quot;fa&quot;,\n",
       "  &quot;extraClasses&quot;: &quot;fa-rotate-0&quot;,\n",
       "}\n",
       "            );\n",
       "            marker_2db658ca38279d855470acc949041405.setIcon(icon_7caca223698f4a7d0e7300654f5a7b41);\n",
       "        \n",
       "    \n",
       "        var popup_d6a2acd11b626fc07adc3770fcd61b93 = L.popup({\n",
       "  &quot;maxWidth&quot;: &quot;100%&quot;,\n",
       "});\n",
       "\n",
       "        \n",
       "            \n",
       "                var html_bff542e3c0c637cc9be07416b504fd3b = $(`&lt;div id=&quot;html_bff542e3c0c637cc9be07416b504fd3b&quot; style=&quot;width: 100.0%; height: 100.0%;&quot;&gt;(&quot;&lt;b style=&#x27;font-size: 18px; &#x27;&gt;Ranchon Don Martin&lt;/b&gt;&lt;br&gt;Direccion: Calle 198 no.3733 entre 37 y 45&quot;, &quot;Especialidades: [&#x27;cubana&#x27;, &#x27;criolla&#x27;, &#x27;asado&#x27;]&quot;)&lt;/div&gt;`)[0];\n",
       "                popup_d6a2acd11b626fc07adc3770fcd61b93.setContent(html_bff542e3c0c637cc9be07416b504fd3b);\n",
       "            \n",
       "        \n",
       "\n",
       "        marker_2db658ca38279d855470acc949041405.bindPopup(popup_d6a2acd11b626fc07adc3770fcd61b93)\n",
       "        ;\n",
       "\n",
       "        \n",
       "    \n",
       "    \n",
       "            var marker_7338d58a29ee51c4399e386eddd19f53 = L.marker(\n",
       "                [23.08973578096908, -82.42166351867644],\n",
       "                {\n",
       "}\n",
       "            ).addTo(map_925613df095e17c33a5b049f8b266fd0);\n",
       "        \n",
       "    \n",
       "            var icon_419bbf16339bf1da66e81cededfb1810 = L.AwesomeMarkers.icon(\n",
       "                {\n",
       "  &quot;markerColor&quot;: &quot;red&quot;,\n",
       "  &quot;iconColor&quot;: &quot;white&quot;,\n",
       "  &quot;icon&quot;: &quot;cutlery&quot;,\n",
       "  &quot;prefix&quot;: &quot;fa&quot;,\n",
       "  &quot;extraClasses&quot;: &quot;fa-rotate-0&quot;,\n",
       "}\n",
       "            );\n",
       "            marker_7338d58a29ee51c4399e386eddd19f53.setIcon(icon_419bbf16339bf1da66e81cededfb1810);\n",
       "        \n",
       "    \n",
       "        var popup_93fcffd790e7aaf24a4c9f214a155d99 = L.popup({\n",
       "  &quot;maxWidth&quot;: &quot;100%&quot;,\n",
       "});\n",
       "\n",
       "        \n",
       "            \n",
       "                var html_7f140e2cdeb497cb383288922028fd78 = $(`&lt;div id=&quot;html_7f140e2cdeb497cb383288922028fd78&quot; style=&quot;width: 100.0%; height: 100.0%;&quot;&gt;(&quot;&lt;b style=&#x27;font-size: 18px; &#x27;&gt;Ranchon de 41&lt;/b&gt;&lt;br&gt;Direccion: Avenida 41 y 84&quot;, &quot;Especialidades: [&#x27;mixta&#x27;]&quot;)&lt;/div&gt;`)[0];\n",
       "                popup_93fcffd790e7aaf24a4c9f214a155d99.setContent(html_7f140e2cdeb497cb383288922028fd78);\n",
       "            \n",
       "        \n",
       "\n",
       "        marker_7338d58a29ee51c4399e386eddd19f53.bindPopup(popup_93fcffd790e7aaf24a4c9f214a155d99)\n",
       "        ;\n",
       "\n",
       "        \n",
       "    \n",
       "    \n",
       "            var marker_4ff14f955ffb76f1465645de2160b5a4 = L.marker(\n",
       "                [23.1593325543624, -82.28055542260424],\n",
       "                {\n",
       "}\n",
       "            ).addTo(map_925613df095e17c33a5b049f8b266fd0);\n",
       "        \n",
       "    \n",
       "            var icon_36b353a5dfb9616fa36211188d665dab = L.AwesomeMarkers.icon(\n",
       "                {\n",
       "  &quot;markerColor&quot;: &quot;red&quot;,\n",
       "  &quot;iconColor&quot;: &quot;white&quot;,\n",
       "  &quot;icon&quot;: &quot;cutlery&quot;,\n",
       "  &quot;prefix&quot;: &quot;fa&quot;,\n",
       "  &quot;extraClasses&quot;: &quot;fa-rotate-0&quot;,\n",
       "}\n",
       "            );\n",
       "            marker_4ff14f955ffb76f1465645de2160b5a4.setIcon(icon_36b353a5dfb9616fa36211188d665dab);\n",
       "        \n",
       "    \n",
       "        var popup_792ade1f649fb6115ad884f8be66d9f4 = L.popup({\n",
       "  &quot;maxWidth&quot;: &quot;100%&quot;,\n",
       "});\n",
       "\n",
       "        \n",
       "            \n",
       "                var html_28ecca647bbbceff44b96d432d8ef53f = $(`&lt;div id=&quot;html_28ecca647bbbceff44b96d432d8ef53f&quot; style=&quot;width: 100.0%; height: 100.0%;&quot;&gt;(&quot;&lt;b style=&#x27;font-size: 18px; &#x27;&gt;Ranchon Hanoi&lt;/b&gt;&lt;br&gt;Direccion: Parque Hanoi, zona 6, Alamar&quot;, &quot;Especialidades: [&#x27;Comida mixta&#x27;]&quot;)&lt;/div&gt;`)[0];\n",
       "                popup_792ade1f649fb6115ad884f8be66d9f4.setContent(html_28ecca647bbbceff44b96d432d8ef53f);\n",
       "            \n",
       "        \n",
       "\n",
       "        marker_4ff14f955ffb76f1465645de2160b5a4.bindPopup(popup_792ade1f649fb6115ad884f8be66d9f4)\n",
       "        ;\n",
       "\n",
       "        \n",
       "    \n",
       "    \n",
       "            var marker_26f78ba6c3fa55e79fc0958ddacf627b = L.marker(\n",
       "                [22.975899692812543, -82.3846842092052],\n",
       "                {\n",
       "}\n",
       "            ).addTo(map_925613df095e17c33a5b049f8b266fd0);\n",
       "        \n",
       "    \n",
       "            var icon_ee2c9a994a7f7e9624a3789385060ec6 = L.AwesomeMarkers.icon(\n",
       "                {\n",
       "  &quot;markerColor&quot;: &quot;red&quot;,\n",
       "  &quot;iconColor&quot;: &quot;white&quot;,\n",
       "  &quot;icon&quot;: &quot;cutlery&quot;,\n",
       "  &quot;prefix&quot;: &quot;fa&quot;,\n",
       "  &quot;extraClasses&quot;: &quot;fa-rotate-0&quot;,\n",
       "}\n",
       "            );\n",
       "            marker_26f78ba6c3fa55e79fc0958ddacf627b.setIcon(icon_ee2c9a994a7f7e9624a3789385060ec6);\n",
       "        \n",
       "    \n",
       "        var popup_50467d7d6c2998d1f4e75b2dcc2fbaa2 = L.popup({\n",
       "  &quot;maxWidth&quot;: &quot;100%&quot;,\n",
       "});\n",
       "\n",
       "        \n",
       "            \n",
       "                var html_d7e144acb047e09c0c311e8ca3684d8e = $(`&lt;div id=&quot;html_d7e144acb047e09c0c311e8ca3684d8e&quot; style=&quot;width: 100.0%; height: 100.0%;&quot;&gt;(&quot;&lt;b style=&#x27;font-size: 18px; &#x27;&gt;Ranchon Las Vegas&lt;/b&gt;&lt;br&gt;Direccion: Calle 409 % 182 &amp; Avenida Independencia, Santiago de las Vegas &quot;, &quot;Especialidades: [&#x27;Cubana&#x27;, &#x27;criolla&#x27;, &#x27;internacional&#x27;]&quot;)&lt;/div&gt;`)[0];\n",
       "                popup_50467d7d6c2998d1f4e75b2dcc2fbaa2.setContent(html_d7e144acb047e09c0c311e8ca3684d8e);\n",
       "            \n",
       "        \n",
       "\n",
       "        marker_26f78ba6c3fa55e79fc0958ddacf627b.bindPopup(popup_50467d7d6c2998d1f4e75b2dcc2fbaa2)\n",
       "        ;\n",
       "\n",
       "        \n",
       "    \n",
       "    \n",
       "            var marker_fc59d5a723602d3c6f0af953acdd8aed = L.marker(\n",
       "                [23.143226340667947, -82.39569107139691],\n",
       "                {\n",
       "}\n",
       "            ).addTo(map_925613df095e17c33a5b049f8b266fd0);\n",
       "        \n",
       "    \n",
       "            var icon_848ccad6062a5a0c915d3cda9fa8a6fc = L.AwesomeMarkers.icon(\n",
       "                {\n",
       "  &quot;markerColor&quot;: &quot;red&quot;,\n",
       "  &quot;iconColor&quot;: &quot;white&quot;,\n",
       "  &quot;icon&quot;: &quot;cutlery&quot;,\n",
       "  &quot;prefix&quot;: &quot;fa&quot;,\n",
       "  &quot;extraClasses&quot;: &quot;fa-rotate-0&quot;,\n",
       "}\n",
       "            );\n",
       "            marker_fc59d5a723602d3c6f0af953acdd8aed.setIcon(icon_848ccad6062a5a0c915d3cda9fa8a6fc);\n",
       "        \n",
       "    \n",
       "        var popup_f68bc8f0ca24648334b51d899f5fc836 = L.popup({\n",
       "  &quot;maxWidth&quot;: &quot;100%&quot;,\n",
       "});\n",
       "\n",
       "        \n",
       "            \n",
       "                var html_10d3c865718cb0aade3f1774a9a6d010 = $(`&lt;div id=&quot;html_10d3c865718cb0aade3f1774a9a6d010&quot; style=&quot;width: 100.0%; height: 100.0%;&quot;&gt;(&quot;&lt;b style=&#x27;font-size: 18px; &#x27;&gt;Razones y Motivos&lt;/b&gt;&lt;br&gt;Direccion: Calle F No.63 entre 3era y 5ta, Vedado&quot;, &quot;Especialidades: [&#x27;Comida Caribeña&#x27;, &#x27;Latina&#x27;, &#x27;Cubana&#x27;, &#x27;criolla&#x27;, &#x27;Sudamericana&#x27;, &#x27;Centroamericana&#x27;]&quot;)&lt;/div&gt;`)[0];\n",
       "                popup_f68bc8f0ca24648334b51d899f5fc836.setContent(html_10d3c865718cb0aade3f1774a9a6d010);\n",
       "            \n",
       "        \n",
       "\n",
       "        marker_fc59d5a723602d3c6f0af953acdd8aed.bindPopup(popup_f68bc8f0ca24648334b51d899f5fc836)\n",
       "        ;\n",
       "\n",
       "        \n",
       "    \n",
       "    \n",
       "            var marker_a13f31ea60cf86f46f83e87f0fd7ec60 = L.marker(\n",
       "                [23.12552270613754, -82.33261449654044],\n",
       "                {\n",
       "}\n",
       "            ).addTo(map_925613df095e17c33a5b049f8b266fd0);\n",
       "        \n",
       "    \n",
       "            var icon_b91b9de41b50c15a8078a71bb08a4610 = L.AwesomeMarkers.icon(\n",
       "                {\n",
       "  &quot;markerColor&quot;: &quot;red&quot;,\n",
       "  &quot;iconColor&quot;: &quot;white&quot;,\n",
       "  &quot;icon&quot;: &quot;cutlery&quot;,\n",
       "  &quot;prefix&quot;: &quot;fa&quot;,\n",
       "  &quot;extraClasses&quot;: &quot;fa-rotate-0&quot;,\n",
       "}\n",
       "            );\n",
       "            marker_a13f31ea60cf86f46f83e87f0fd7ec60.setIcon(icon_b91b9de41b50c15a8078a71bb08a4610);\n",
       "        \n",
       "    \n",
       "        var popup_6e8e11a4ae8ac3d41e825a126f369b23 = L.popup({\n",
       "  &quot;maxWidth&quot;: &quot;100%&quot;,\n",
       "});\n",
       "\n",
       "        \n",
       "            \n",
       "                var html_88e70d7bd89769364adacec7a6328901 = $(`&lt;div id=&quot;html_88e70d7bd89769364adacec7a6328901&quot; style=&quot;width: 100.0%; height: 100.0%;&quot;&gt;(&quot;&lt;b style=&#x27;font-size: 18px; &#x27;&gt;Restaurante Lan&lt;/b&gt;&lt;br&gt;Direccion: Maceo entre Fresneda y Agramonte&quot;, &quot;Especialidades: [&#x27;criolla&#x27;, &#x27;italiana&#x27;]&quot;)&lt;/div&gt;`)[0];\n",
       "                popup_6e8e11a4ae8ac3d41e825a126f369b23.setContent(html_88e70d7bd89769364adacec7a6328901);\n",
       "            \n",
       "        \n",
       "\n",
       "        marker_a13f31ea60cf86f46f83e87f0fd7ec60.bindPopup(popup_6e8e11a4ae8ac3d41e825a126f369b23)\n",
       "        ;\n",
       "\n",
       "        \n",
       "    \n",
       "    \n",
       "            var marker_c1f4d933fa39bdc05556052b2257c173 = L.marker(\n",
       "                [23.137547259787535, -82.36095379003397],\n",
       "                {\n",
       "}\n",
       "            ).addTo(map_925613df095e17c33a5b049f8b266fd0);\n",
       "        \n",
       "    \n",
       "            var icon_0ab99ae0470a5adf441910729c0cd153 = L.AwesomeMarkers.icon(\n",
       "                {\n",
       "  &quot;markerColor&quot;: &quot;red&quot;,\n",
       "  &quot;iconColor&quot;: &quot;white&quot;,\n",
       "  &quot;icon&quot;: &quot;cutlery&quot;,\n",
       "  &quot;prefix&quot;: &quot;fa&quot;,\n",
       "  &quot;extraClasses&quot;: &quot;fa-rotate-0&quot;,\n",
       "}\n",
       "            );\n",
       "            marker_c1f4d933fa39bdc05556052b2257c173.setIcon(icon_0ab99ae0470a5adf441910729c0cd153);\n",
       "        \n",
       "    \n",
       "        var popup_2c03ccc915f9edaa846f6b597d65dd09 = L.popup({\n",
       "  &quot;maxWidth&quot;: &quot;100%&quot;,\n",
       "});\n",
       "\n",
       "        \n",
       "            \n",
       "                var html_9f1906c5af08d2635f2fd08baa993327 = $(`&lt;div id=&quot;html_9f1906c5af08d2635f2fd08baa993327&quot; style=&quot;width: 100.0%; height: 100.0%;&quot;&gt;(&quot;&lt;b style=&#x27;font-size: 18px; &#x27;&gt;Ricardon&lt;/b&gt;&lt;br&gt;Direccion: Industria entre San Miguel y Blvd de San Rafael&quot;, &quot;Especialidades: [&#x27;caribeña&#x27;, &#x27;latina&#x27;, &#x27;mediterránea&#x27;, &#x27;cubana&#x27;]&quot;)&lt;/div&gt;`)[0];\n",
       "                popup_2c03ccc915f9edaa846f6b597d65dd09.setContent(html_9f1906c5af08d2635f2fd08baa993327);\n",
       "            \n",
       "        \n",
       "\n",
       "        marker_c1f4d933fa39bdc05556052b2257c173.bindPopup(popup_2c03ccc915f9edaa846f6b597d65dd09)\n",
       "        ;\n",
       "\n",
       "        \n",
       "    \n",
       "    \n",
       "            var marker_9200f4ae45a7929017af3b6f1e25c1f4 = L.marker(\n",
       "                [23.126245278270186, -82.38010644455453],\n",
       "                {\n",
       "}\n",
       "            ).addTo(map_925613df095e17c33a5b049f8b266fd0);\n",
       "        \n",
       "    \n",
       "            var icon_5fae3ce2c13ae99d0d7db687418cf811 = L.AwesomeMarkers.icon(\n",
       "                {\n",
       "  &quot;markerColor&quot;: &quot;red&quot;,\n",
       "  &quot;iconColor&quot;: &quot;white&quot;,\n",
       "  &quot;icon&quot;: &quot;cutlery&quot;,\n",
       "  &quot;prefix&quot;: &quot;fa&quot;,\n",
       "  &quot;extraClasses&quot;: &quot;fa-rotate-0&quot;,\n",
       "}\n",
       "            );\n",
       "            marker_9200f4ae45a7929017af3b6f1e25c1f4.setIcon(icon_5fae3ce2c13ae99d0d7db687418cf811);\n",
       "        \n",
       "    \n",
       "        var popup_2e786bb3b06e1ec3815f1cabbc5f8e61 = L.popup({\n",
       "  &quot;maxWidth&quot;: &quot;100%&quot;,\n",
       "});\n",
       "\n",
       "        \n",
       "            \n",
       "                var html_4648aa64fe2ac8d0faf4a0d53227f363 = $(`&lt;div id=&quot;html_4648aa64fe2ac8d0faf4a0d53227f363&quot; style=&quot;width: 100.0%; height: 100.0%;&quot;&gt;(&quot;&lt;b style=&#x27;font-size: 18px; &#x27;&gt;Rico Rico&lt;/b&gt;&lt;br&gt;Direccion: Calle Ayestarán entre Perfecto Lacoste y Aranguren&quot;, &quot;Especialidades: [&#x27;italiana&#x27;]&quot;)&lt;/div&gt;`)[0];\n",
       "                popup_2e786bb3b06e1ec3815f1cabbc5f8e61.setContent(html_4648aa64fe2ac8d0faf4a0d53227f363);\n",
       "            \n",
       "        \n",
       "\n",
       "        marker_9200f4ae45a7929017af3b6f1e25c1f4.bindPopup(popup_2e786bb3b06e1ec3815f1cabbc5f8e61)\n",
       "        ;\n",
       "\n",
       "        \n",
       "    \n",
       "    \n",
       "            var marker_6d2fda06f1d7368a6d43cd6758e50134 = L.marker(\n",
       "                [23.094673000199286, -82.41860913032004],\n",
       "                {\n",
       "}\n",
       "            ).addTo(map_925613df095e17c33a5b049f8b266fd0);\n",
       "        \n",
       "    \n",
       "            var icon_b0a9361c6803e374e5cf2ec7564d9c6f = L.AwesomeMarkers.icon(\n",
       "                {\n",
       "  &quot;markerColor&quot;: &quot;red&quot;,\n",
       "  &quot;iconColor&quot;: &quot;white&quot;,\n",
       "  &quot;icon&quot;: &quot;cutlery&quot;,\n",
       "  &quot;prefix&quot;: &quot;fa&quot;,\n",
       "  &quot;extraClasses&quot;: &quot;fa-rotate-0&quot;,\n",
       "}\n",
       "            );\n",
       "            marker_6d2fda06f1d7368a6d43cd6758e50134.setIcon(icon_b0a9361c6803e374e5cf2ec7564d9c6f);\n",
       "        \n",
       "    \n",
       "        var popup_34977a20b6c54ea58a51336019160de5 = L.popup({\n",
       "  &quot;maxWidth&quot;: &quot;100%&quot;,\n",
       "});\n",
       "\n",
       "        \n",
       "            \n",
       "                var html_94504d99692e1d8aa0e3ddba0ce3caaf = $(`&lt;div id=&quot;html_94504d99692e1d8aa0e3ddba0ce3caaf&quot; style=&quot;width: 100.0%; height: 100.0%;&quot;&gt;(&quot;&lt;b style=&#x27;font-size: 18px; &#x27;&gt;Restaurante Rodney (Tropicana)&lt;/b&gt;&lt;br&gt;Direccion: 72A,Avenida 41&quot;, &quot;Especialidades: [&#x27;cubana&#x27;, &#x27;internacional&#x27;, &#x27;criolla&#x27;]&quot;)&lt;/div&gt;`)[0];\n",
       "                popup_34977a20b6c54ea58a51336019160de5.setContent(html_94504d99692e1d8aa0e3ddba0ce3caaf);\n",
       "            \n",
       "        \n",
       "\n",
       "        marker_6d2fda06f1d7368a6d43cd6758e50134.bindPopup(popup_34977a20b6c54ea58a51336019160de5)\n",
       "        ;\n",
       "\n",
       "        \n",
       "    \n",
       "    \n",
       "            var marker_9c24b23bdf8874afddecf0b963f4e8ef = L.marker(\n",
       "                [23.093622177255977, -82.3641803168269],\n",
       "                {\n",
       "}\n",
       "            ).addTo(map_925613df095e17c33a5b049f8b266fd0);\n",
       "        \n",
       "    \n",
       "            var icon_a3b463ba28ca9cecac693ae8110fa575 = L.AwesomeMarkers.icon(\n",
       "                {\n",
       "  &quot;markerColor&quot;: &quot;red&quot;,\n",
       "  &quot;iconColor&quot;: &quot;white&quot;,\n",
       "  &quot;icon&quot;: &quot;cutlery&quot;,\n",
       "  &quot;prefix&quot;: &quot;fa&quot;,\n",
       "  &quot;extraClasses&quot;: &quot;fa-rotate-0&quot;,\n",
       "}\n",
       "            );\n",
       "            marker_9c24b23bdf8874afddecf0b963f4e8ef.setIcon(icon_a3b463ba28ca9cecac693ae8110fa575);\n",
       "        \n",
       "    \n",
       "        var popup_6a5cc77ca7f63bb2273c4d1690534254 = L.popup({\n",
       "  &quot;maxWidth&quot;: &quot;100%&quot;,\n",
       "});\n",
       "\n",
       "        \n",
       "            \n",
       "                var html_39f65849d195ccd94f94f44429b5b84e = $(`&lt;div id=&quot;html_39f65849d195ccd94f94f44429b5b84e&quot; style=&quot;width: 100.0%; height: 100.0%;&quot;&gt;(&quot;&lt;b style=&#x27;font-size: 18px; &#x27;&gt;Roxinanda&lt;/b&gt;&lt;br&gt;Direccion: esquina de Santa Catalina y calzada de 10 de Octubre&quot;, &quot;Especialidades: [&#x27;Hamburguesa&#x27;]&quot;)&lt;/div&gt;`)[0];\n",
       "                popup_6a5cc77ca7f63bb2273c4d1690534254.setContent(html_39f65849d195ccd94f94f44429b5b84e);\n",
       "            \n",
       "        \n",
       "\n",
       "        marker_9c24b23bdf8874afddecf0b963f4e8ef.bindPopup(popup_6a5cc77ca7f63bb2273c4d1690534254)\n",
       "        ;\n",
       "\n",
       "        \n",
       "    \n",
       "    \n",
       "            var marker_a4b88c6ca1b9d44590f1fa5b6aa4f221 = L.marker(\n",
       "                [23.134819322053957, -82.30638711918262],\n",
       "                {\n",
       "}\n",
       "            ).addTo(map_925613df095e17c33a5b049f8b266fd0);\n",
       "        \n",
       "    \n",
       "            var icon_7908fb9ec4cdb037edbbb61941cecad6 = L.AwesomeMarkers.icon(\n",
       "                {\n",
       "  &quot;markerColor&quot;: &quot;red&quot;,\n",
       "  &quot;iconColor&quot;: &quot;white&quot;,\n",
       "  &quot;icon&quot;: &quot;cutlery&quot;,\n",
       "  &quot;prefix&quot;: &quot;fa&quot;,\n",
       "  &quot;extraClasses&quot;: &quot;fa-rotate-0&quot;,\n",
       "}\n",
       "            );\n",
       "            marker_a4b88c6ca1b9d44590f1fa5b6aa4f221.setIcon(icon_7908fb9ec4cdb037edbbb61941cecad6);\n",
       "        \n",
       "    \n",
       "        var popup_afbbb6a4fffdfa1e5b82e1bc4d94bbea = L.popup({\n",
       "  &quot;maxWidth&quot;: &quot;100%&quot;,\n",
       "});\n",
       "\n",
       "        \n",
       "            \n",
       "                var html_2af4e0a02d62640e2c241afbbafbd2ae = $(`&lt;div id=&quot;html_2af4e0a02d62640e2c241afbbafbd2ae&quot; style=&quot;width: 100.0%; height: 100.0%;&quot;&gt;(&quot;&lt;b style=&#x27;font-size: 18px; &#x27;&gt;Ruta 66&lt;/b&gt;&lt;br&gt;Direccion: Entre tercera y primera&quot;, &quot;Especialidades: [&#x27;criolla&#x27;, &#x27;hamburguesas&#x27;, &#x27;pizzas&#x27;, &#x27;pastas&#x27;]&quot;)&lt;/div&gt;`)[0];\n",
       "                popup_afbbb6a4fffdfa1e5b82e1bc4d94bbea.setContent(html_2af4e0a02d62640e2c241afbbafbd2ae);\n",
       "            \n",
       "        \n",
       "\n",
       "        marker_a4b88c6ca1b9d44590f1fa5b6aa4f221.bindPopup(popup_afbbb6a4fffdfa1e5b82e1bc4d94bbea)\n",
       "        ;\n",
       "\n",
       "        \n",
       "    \n",
       "    \n",
       "            var marker_00d8245ad03d304b1c9def4bbaab64d8 = L.marker(\n",
       "                [23.13411346121413, -82.37839877964456],\n",
       "                {\n",
       "}\n",
       "            ).addTo(map_925613df095e17c33a5b049f8b266fd0);\n",
       "        \n",
       "    \n",
       "            var icon_91298d226d8e79a2b11a7347617acb3c = L.AwesomeMarkers.icon(\n",
       "                {\n",
       "  &quot;markerColor&quot;: &quot;red&quot;,\n",
       "  &quot;iconColor&quot;: &quot;white&quot;,\n",
       "  &quot;icon&quot;: &quot;cutlery&quot;,\n",
       "  &quot;prefix&quot;: &quot;fa&quot;,\n",
       "  &quot;extraClasses&quot;: &quot;fa-rotate-0&quot;,\n",
       "}\n",
       "            );\n",
       "            marker_00d8245ad03d304b1c9def4bbaab64d8.setIcon(icon_91298d226d8e79a2b11a7347617acb3c);\n",
       "        \n",
       "    \n",
       "        var popup_05b243f81f0ed2c7cfdb1236ce1357a7 = L.popup({\n",
       "  &quot;maxWidth&quot;: &quot;100%&quot;,\n",
       "});\n",
       "\n",
       "        \n",
       "            \n",
       "                var html_5cdfb58153bc22f6e5bc5c6231eba454 = $(`&lt;div id=&quot;html_5cdfb58153bc22f6e5bc5c6231eba454&quot; style=&quot;width: 100.0%; height: 100.0%;&quot;&gt;(&quot;&lt;b style=&#x27;font-size: 18px; &#x27;&gt;Salchipizza&lt;/b&gt;&lt;br&gt;Direccion: Calle Infanta entre Zanja y Valle&quot;, &quot;Especialidades: [&#x27;cubana&#x27;]&quot;)&lt;/div&gt;`)[0];\n",
       "                popup_05b243f81f0ed2c7cfdb1236ce1357a7.setContent(html_5cdfb58153bc22f6e5bc5c6231eba454);\n",
       "            \n",
       "        \n",
       "\n",
       "        marker_00d8245ad03d304b1c9def4bbaab64d8.bindPopup(popup_05b243f81f0ed2c7cfdb1236ce1357a7)\n",
       "        ;\n",
       "\n",
       "        \n",
       "    \n",
       "    \n",
       "            var marker_73887458584caa8e7fbe8d102c33a328 = L.marker(\n",
       "                [23.13562239054984, -82.37745889737107],\n",
       "                {\n",
       "}\n",
       "            ).addTo(map_925613df095e17c33a5b049f8b266fd0);\n",
       "        \n",
       "    \n",
       "            var icon_ce5c0439f0d9b4285dd2a9768d4d478f = L.AwesomeMarkers.icon(\n",
       "                {\n",
       "  &quot;markerColor&quot;: &quot;red&quot;,\n",
       "  &quot;iconColor&quot;: &quot;white&quot;,\n",
       "  &quot;icon&quot;: &quot;cutlery&quot;,\n",
       "  &quot;prefix&quot;: &quot;fa&quot;,\n",
       "  &quot;extraClasses&quot;: &quot;fa-rotate-0&quot;,\n",
       "}\n",
       "            );\n",
       "            marker_73887458584caa8e7fbe8d102c33a328.setIcon(icon_ce5c0439f0d9b4285dd2a9768d4d478f);\n",
       "        \n",
       "    \n",
       "        var popup_4bc200dcd375749243651a90fb1bfcee = L.popup({\n",
       "  &quot;maxWidth&quot;: &quot;100%&quot;,\n",
       "});\n",
       "\n",
       "        \n",
       "            \n",
       "                var html_89cfb16f9849673772a18734d79e79b9 = $(`&lt;div id=&quot;html_89cfb16f9849673772a18734d79e79b9&quot; style=&quot;width: 100.0%; height: 100.0%;&quot;&gt;(&quot;&lt;b style=&#x27;font-size: 18px; &#x27;&gt;San Rafael 1051&lt;/b&gt;&lt;br&gt;Direccion: San Fransico entre San Rafael y San Martin&quot;, &quot;Especialidades: [&#x27;americana&#x27;, &#x27;internacional&#x27;]&quot;)&lt;/div&gt;`)[0];\n",
       "                popup_4bc200dcd375749243651a90fb1bfcee.setContent(html_89cfb16f9849673772a18734d79e79b9);\n",
       "            \n",
       "        \n",
       "\n",
       "        marker_73887458584caa8e7fbe8d102c33a328.bindPopup(popup_4bc200dcd375749243651a90fb1bfcee)\n",
       "        ;\n",
       "\n",
       "        \n",
       "    \n",
       "    \n",
       "            var marker_1a9c466a8d49eb6b8d41a1381ae0423c = L.marker(\n",
       "                [23.117449358542444, -82.38458676119917],\n",
       "                {\n",
       "}\n",
       "            ).addTo(map_925613df095e17c33a5b049f8b266fd0);\n",
       "        \n",
       "    \n",
       "            var icon_74511907c83a408c10c5b3f73d70a159 = L.AwesomeMarkers.icon(\n",
       "                {\n",
       "  &quot;markerColor&quot;: &quot;red&quot;,\n",
       "  &quot;iconColor&quot;: &quot;white&quot;,\n",
       "  &quot;icon&quot;: &quot;cutlery&quot;,\n",
       "  &quot;prefix&quot;: &quot;fa&quot;,\n",
       "  &quot;extraClasses&quot;: &quot;fa-rotate-0&quot;,\n",
       "}\n",
       "            );\n",
       "            marker_1a9c466a8d49eb6b8d41a1381ae0423c.setIcon(icon_74511907c83a408c10c5b3f73d70a159);\n",
       "        \n",
       "    \n",
       "        var popup_899a4b056106fbfcaf57db817a17f6f1 = L.popup({\n",
       "  &quot;maxWidth&quot;: &quot;100%&quot;,\n",
       "});\n",
       "\n",
       "        \n",
       "            \n",
       "                var html_efdabcec3034f5cfa311d9bcf0f6fe9c = $(`&lt;div id=&quot;html_efdabcec3034f5cfa311d9bcf0f6fe9c&quot; style=&quot;width: 100.0%; height: 100.0%;&quot;&gt;(&quot;&lt;b style=&#x27;font-size: 18px; &#x27;&gt;Shapuceros&lt;/b&gt;&lt;br&gt;Direccion: Calzada de Ayestarán entre San Pedro y Ayuntamineto&quot;, &quot;Especialidades: [&#x27;Hamburgusera&#x27;]&quot;)&lt;/div&gt;`)[0];\n",
       "                popup_899a4b056106fbfcaf57db817a17f6f1.setContent(html_efdabcec3034f5cfa311d9bcf0f6fe9c);\n",
       "            \n",
       "        \n",
       "\n",
       "        marker_1a9c466a8d49eb6b8d41a1381ae0423c.bindPopup(popup_899a4b056106fbfcaf57db817a17f6f1)\n",
       "        ;\n",
       "\n",
       "        \n",
       "    \n",
       "    \n",
       "            var marker_efd53e94e637f0ba7f685d959fea7a22 = L.marker(\n",
       "                [23.138045288912124, -82.35708342337576],\n",
       "                {\n",
       "}\n",
       "            ).addTo(map_925613df095e17c33a5b049f8b266fd0);\n",
       "        \n",
       "    \n",
       "            var icon_90d2c3e4962575e6b6d70fd03019160f = L.AwesomeMarkers.icon(\n",
       "                {\n",
       "  &quot;markerColor&quot;: &quot;red&quot;,\n",
       "  &quot;iconColor&quot;: &quot;white&quot;,\n",
       "  &quot;icon&quot;: &quot;cutlery&quot;,\n",
       "  &quot;prefix&quot;: &quot;fa&quot;,\n",
       "  &quot;extraClasses&quot;: &quot;fa-rotate-0&quot;,\n",
       "}\n",
       "            );\n",
       "            marker_efd53e94e637f0ba7f685d959fea7a22.setIcon(icon_90d2c3e4962575e6b6d70fd03019160f);\n",
       "        \n",
       "    \n",
       "        var popup_eb16ef52d6f85f2d11de28c46d3bebfd = L.popup({\n",
       "  &quot;maxWidth&quot;: &quot;100%&quot;,\n",
       "});\n",
       "\n",
       "        \n",
       "            \n",
       "                var html_c77a34aad832147e0e4295d2483d15c0 = $(`&lt;div id=&quot;html_c77a34aad832147e0e4295d2483d15c0&quot; style=&quot;width: 100.0%; height: 100.0%;&quot;&gt;(&quot;&lt;b style=&#x27;font-size: 18px; &#x27;&gt;Sibarita&lt;/b&gt;&lt;br&gt;Direccion: O&#x27;Reilly #528 entre Bernaza y Villegas&quot;, &quot;Especialidades: [&#x27;Comida Caribeña&#x27;, &#x27;Latina&#x27;, &#x27;Internacional&#x27;, &#x27;Mediterránea&#x27;, &#x27;Cubana&#x27;, &#x27;Centroamericana&#x27;]&quot;)&lt;/div&gt;`)[0];\n",
       "                popup_eb16ef52d6f85f2d11de28c46d3bebfd.setContent(html_c77a34aad832147e0e4295d2483d15c0);\n",
       "            \n",
       "        \n",
       "\n",
       "        marker_efd53e94e637f0ba7f685d959fea7a22.bindPopup(popup_eb16ef52d6f85f2d11de28c46d3bebfd)\n",
       "        ;\n",
       "\n",
       "        \n",
       "    \n",
       "    \n",
       "            var marker_69d53a7da282e969a61da759b25150a6 = L.marker(\n",
       "                [23.133637707331292, -82.39154731355289],\n",
       "                {\n",
       "}\n",
       "            ).addTo(map_925613df095e17c33a5b049f8b266fd0);\n",
       "        \n",
       "    \n",
       "            var icon_a5be36cc755e3f0ffdb248dfb4a523a5 = L.AwesomeMarkers.icon(\n",
       "                {\n",
       "  &quot;markerColor&quot;: &quot;red&quot;,\n",
       "  &quot;iconColor&quot;: &quot;white&quot;,\n",
       "  &quot;icon&quot;: &quot;cutlery&quot;,\n",
       "  &quot;prefix&quot;: &quot;fa&quot;,\n",
       "  &quot;extraClasses&quot;: &quot;fa-rotate-0&quot;,\n",
       "}\n",
       "            );\n",
       "            marker_69d53a7da282e969a61da759b25150a6.setIcon(icon_a5be36cc755e3f0ffdb248dfb4a523a5);\n",
       "        \n",
       "    \n",
       "        var popup_a8aef2889c0585b2c72065b42bf7ac79 = L.popup({\n",
       "  &quot;maxWidth&quot;: &quot;100%&quot;,\n",
       "});\n",
       "\n",
       "        \n",
       "            \n",
       "                var html_f375998ac1f072bdb8f47cb05aaf5006 = $(`&lt;div id=&quot;html_f375998ac1f072bdb8f47cb05aaf5006&quot; style=&quot;width: 100.0%; height: 100.0%;&quot;&gt;(&quot;&lt;b style=&#x27;font-size: 18px; &#x27;&gt;Sonar contigo&lt;/b&gt;&lt;br&gt;Direccion: Esquina Ave 23 y Calle C&quot;, &quot;Especialidades: [&#x27;Desayunos&#x27;, &#x27;Cafes&#x27;]&quot;)&lt;/div&gt;`)[0];\n",
       "                popup_a8aef2889c0585b2c72065b42bf7ac79.setContent(html_f375998ac1f072bdb8f47cb05aaf5006);\n",
       "            \n",
       "        \n",
       "\n",
       "        marker_69d53a7da282e969a61da759b25150a6.bindPopup(popup_a8aef2889c0585b2c72065b42bf7ac79)\n",
       "        ;\n",
       "\n",
       "        \n",
       "    \n",
       "    \n",
       "            var marker_3380d7619fdcafab194bd1a6f8b3cd62 = L.marker(\n",
       "                [23.127430900373163, -82.3996309593316],\n",
       "                {\n",
       "}\n",
       "            ).addTo(map_925613df095e17c33a5b049f8b266fd0);\n",
       "        \n",
       "    \n",
       "            var icon_b1de26b39b21898b26f57504d4d5603b = L.AwesomeMarkers.icon(\n",
       "                {\n",
       "  &quot;markerColor&quot;: &quot;red&quot;,\n",
       "  &quot;iconColor&quot;: &quot;white&quot;,\n",
       "  &quot;icon&quot;: &quot;cutlery&quot;,\n",
       "  &quot;prefix&quot;: &quot;fa&quot;,\n",
       "  &quot;extraClasses&quot;: &quot;fa-rotate-0&quot;,\n",
       "}\n",
       "            );\n",
       "            marker_3380d7619fdcafab194bd1a6f8b3cd62.setIcon(icon_b1de26b39b21898b26f57504d4d5603b);\n",
       "        \n",
       "    \n",
       "        var popup_69373988113b852b60ef41f1b1b03959 = L.popup({\n",
       "  &quot;maxWidth&quot;: &quot;100%&quot;,\n",
       "});\n",
       "\n",
       "        \n",
       "            \n",
       "                var html_54d6d741a40cdfae8ba058e967d61f09 = $(`&lt;div id=&quot;html_54d6d741a40cdfae8ba058e967d61f09&quot; style=&quot;width: 100.0%; height: 100.0%;&quot;&gt;(&quot;&lt;b style=&#x27;font-size: 18px; &#x27;&gt;Spot Bar&lt;/b&gt;&lt;br&gt;Direccion: 23 y 12, Vedado&quot;, &quot;Especialidades: [&#x27;Comida Mixta&#x27;]&quot;)&lt;/div&gt;`)[0];\n",
       "                popup_69373988113b852b60ef41f1b1b03959.setContent(html_54d6d741a40cdfae8ba058e967d61f09);\n",
       "            \n",
       "        \n",
       "\n",
       "        marker_3380d7619fdcafab194bd1a6f8b3cd62.bindPopup(popup_69373988113b852b60ef41f1b1b03959)\n",
       "        ;\n",
       "\n",
       "        \n",
       "    \n",
       "    \n",
       "            var marker_7bcc3c5b5b82ceb85f04a87c5285e201 = L.marker(\n",
       "                [23.141094353520803, -82.35193028818678],\n",
       "                {\n",
       "}\n",
       "            ).addTo(map_925613df095e17c33a5b049f8b266fd0);\n",
       "        \n",
       "    \n",
       "            var icon_06dafa559eaaef6abd157be67969fa37 = L.AwesomeMarkers.icon(\n",
       "                {\n",
       "  &quot;markerColor&quot;: &quot;red&quot;,\n",
       "  &quot;iconColor&quot;: &quot;white&quot;,\n",
       "  &quot;icon&quot;: &quot;cutlery&quot;,\n",
       "  &quot;prefix&quot;: &quot;fa&quot;,\n",
       "  &quot;extraClasses&quot;: &quot;fa-rotate-0&quot;,\n",
       "}\n",
       "            );\n",
       "            marker_7bcc3c5b5b82ceb85f04a87c5285e201.setIcon(icon_06dafa559eaaef6abd157be67969fa37);\n",
       "        \n",
       "    \n",
       "        var popup_5751b6859ece5d62ee1c9b1fc9b8c396 = L.popup({\n",
       "  &quot;maxWidth&quot;: &quot;100%&quot;,\n",
       "});\n",
       "\n",
       "        \n",
       "            \n",
       "                var html_1af0ddd00206a82d1e66e987d0d0b3b0 = $(`&lt;div id=&quot;html_1af0ddd00206a82d1e66e987d0d0b3b0&quot; style=&quot;width: 100.0%; height: 100.0%;&quot;&gt;(&quot;&lt;b style=&#x27;font-size: 18px; &#x27;&gt;Star Cafe&lt;/b&gt;&lt;br&gt;Direccion: 216 Empedrado&quot;, &quot;Especialidades: [&#x27;Pizza&#x27;, &#x27;Internacional&#x27;, &#x27;Cubana&#x27;]&quot;)&lt;/div&gt;`)[0];\n",
       "                popup_5751b6859ece5d62ee1c9b1fc9b8c396.setContent(html_1af0ddd00206a82d1e66e987d0d0b3b0);\n",
       "            \n",
       "        \n",
       "\n",
       "        marker_7bcc3c5b5b82ceb85f04a87c5285e201.bindPopup(popup_5751b6859ece5d62ee1c9b1fc9b8c396)\n",
       "        ;\n",
       "\n",
       "        \n",
       "    \n",
       "    \n",
       "            var marker_2b30cff0c3695b6961bcbd39b750dca6 = L.marker(\n",
       "                [23.142676112791115, -82.39937586429151],\n",
       "                {\n",
       "}\n",
       "            ).addTo(map_925613df095e17c33a5b049f8b266fd0);\n",
       "        \n",
       "    \n",
       "            var icon_6e815db6cbc14373d93c162cf34ce96c = L.AwesomeMarkers.icon(\n",
       "                {\n",
       "  &quot;markerColor&quot;: &quot;red&quot;,\n",
       "  &quot;iconColor&quot;: &quot;white&quot;,\n",
       "  &quot;icon&quot;: &quot;cutlery&quot;,\n",
       "  &quot;prefix&quot;: &quot;fa&quot;,\n",
       "  &quot;extraClasses&quot;: &quot;fa-rotate-0&quot;,\n",
       "}\n",
       "            );\n",
       "            marker_2b30cff0c3695b6961bcbd39b750dca6.setIcon(icon_6e815db6cbc14373d93c162cf34ce96c);\n",
       "        \n",
       "    \n",
       "        var popup_cc5b696a8160059e1d6ab309e2013fa3 = L.popup({\n",
       "  &quot;maxWidth&quot;: &quot;100%&quot;,\n",
       "});\n",
       "\n",
       "        \n",
       "            \n",
       "                var html_a4c762e6bfaf67c62145e63fdef6efa6 = $(`&lt;div id=&quot;html_a4c762e6bfaf67c62145e63fdef6efa6&quot; style=&quot;width: 100.0%; height: 100.0%;&quot;&gt;(&quot;&lt;b style=&#x27;font-size: 18px; &#x27;&gt;Tablazo&lt;/b&gt;&lt;br&gt;Direccion: Calle 1era entre C y D, Vedado.&quot;, &quot;Especialidades: [&#x27;Italiana&#x27;, &#x27;caribeña&#x27;, &#x27;latina&#x27;, &#x27;internacional&#x27;, &#x27;cubana&#x27;]&quot;)&lt;/div&gt;`)[0];\n",
       "                popup_cc5b696a8160059e1d6ab309e2013fa3.setContent(html_a4c762e6bfaf67c62145e63fdef6efa6);\n",
       "            \n",
       "        \n",
       "\n",
       "        marker_2b30cff0c3695b6961bcbd39b750dca6.bindPopup(popup_cc5b696a8160059e1d6ab309e2013fa3)\n",
       "        ;\n",
       "\n",
       "        \n",
       "    \n",
       "    \n",
       "            var marker_a46a8721da57fcc0cc4bc11af4c635b8 = L.marker(\n",
       "                [22.971547817920836, -82.3848668593548],\n",
       "                {\n",
       "}\n",
       "            ).addTo(map_925613df095e17c33a5b049f8b266fd0);\n",
       "        \n",
       "    \n",
       "            var icon_bb50a66f97e99650cd1dad53c0077f7d = L.AwesomeMarkers.icon(\n",
       "                {\n",
       "  &quot;markerColor&quot;: &quot;red&quot;,\n",
       "  &quot;iconColor&quot;: &quot;white&quot;,\n",
       "  &quot;icon&quot;: &quot;cutlery&quot;,\n",
       "  &quot;prefix&quot;: &quot;fa&quot;,\n",
       "  &quot;extraClasses&quot;: &quot;fa-rotate-0&quot;,\n",
       "}\n",
       "            );\n",
       "            marker_a46a8721da57fcc0cc4bc11af4c635b8.setIcon(icon_bb50a66f97e99650cd1dad53c0077f7d);\n",
       "        \n",
       "    \n",
       "        var popup_9de6b15d9fdbbb8b0254afebf9cb266b = L.popup({\n",
       "  &quot;maxWidth&quot;: &quot;100%&quot;,\n",
       "});\n",
       "\n",
       "        \n",
       "            \n",
       "                var html_102e3ac90de099becf77967a0eae386e = $(`&lt;div id=&quot;html_102e3ac90de099becf77967a0eae386e&quot; style=&quot;width: 100.0%; height: 100.0%;&quot;&gt;(&quot;&lt;b style=&#x27;font-size: 18px; &#x27;&gt;Tanokura&lt;/b&gt;&lt;br&gt;Direccion: Calle 403 %Ave. Rancho Boyeros  Calle B, Santiago de las Vegas&quot;, &quot;Especialidades: [&#x27;Italiana&#x27;, &#x27;criolla&#x27;, &#x27;internacional&#x27;]&quot;)&lt;/div&gt;`)[0];\n",
       "                popup_9de6b15d9fdbbb8b0254afebf9cb266b.setContent(html_102e3ac90de099becf77967a0eae386e);\n",
       "            \n",
       "        \n",
       "\n",
       "        marker_a46a8721da57fcc0cc4bc11af4c635b8.bindPopup(popup_9de6b15d9fdbbb8b0254afebf9cb266b)\n",
       "        ;\n",
       "\n",
       "        \n",
       "    \n",
       "    \n",
       "            var marker_a333a5a5cccb0edd365cddc26f339db5 = L.marker(\n",
       "                [23.135937842467282, -82.35497378290009],\n",
       "                {\n",
       "}\n",
       "            ).addTo(map_925613df095e17c33a5b049f8b266fd0);\n",
       "        \n",
       "    \n",
       "            var icon_cef58b3c8403ae687e25b445cfe31e9d = L.AwesomeMarkers.icon(\n",
       "                {\n",
       "  &quot;markerColor&quot;: &quot;red&quot;,\n",
       "  &quot;iconColor&quot;: &quot;white&quot;,\n",
       "  &quot;icon&quot;: &quot;cutlery&quot;,\n",
       "  &quot;prefix&quot;: &quot;fa&quot;,\n",
       "  &quot;extraClasses&quot;: &quot;fa-rotate-0&quot;,\n",
       "}\n",
       "            );\n",
       "            marker_a333a5a5cccb0edd365cddc26f339db5.setIcon(icon_cef58b3c8403ae687e25b445cfe31e9d);\n",
       "        \n",
       "    \n",
       "        var popup_c440cebdd9563e49d0c7f7b8f7161133 = L.popup({\n",
       "  &quot;maxWidth&quot;: &quot;100%&quot;,\n",
       "});\n",
       "\n",
       "        \n",
       "            \n",
       "                var html_9fa5a4815cafdb297890255fa3178aa4 = $(`&lt;div id=&quot;html_9fa5a4815cafdb297890255fa3178aa4&quot; style=&quot;width: 100.0%; height: 100.0%;&quot;&gt;(&quot;&lt;b style=&#x27;font-size: 18px; &#x27;&gt;Teniente Rey 360&lt;/b&gt;&lt;br&gt;Direccion: Calle Teniente Rey #360 entre Aguacate y Villegas&quot;, &quot;Especialidades: [&#x27;Comida Caribeña&#x27;, &#x27;Latina&#x27;, &#x27;Marisco&#x27;, &#x27;Cubana&#x27;, &#x27;Sudamericana&#x27;, &#x27;Centroamericana&#x27;]&quot;)&lt;/div&gt;`)[0];\n",
       "                popup_c440cebdd9563e49d0c7f7b8f7161133.setContent(html_9fa5a4815cafdb297890255fa3178aa4);\n",
       "            \n",
       "        \n",
       "\n",
       "        marker_a333a5a5cccb0edd365cddc26f339db5.bindPopup(popup_c440cebdd9563e49d0c7f7b8f7161133)\n",
       "        ;\n",
       "\n",
       "        \n",
       "    \n",
       "    \n",
       "            var marker_95317108e6d2b855207bdfa516d021e7 = L.marker(\n",
       "                [23.052187090195876, -82.38259188107308],\n",
       "                {\n",
       "}\n",
       "            ).addTo(map_925613df095e17c33a5b049f8b266fd0);\n",
       "        \n",
       "    \n",
       "            var icon_494bdf6a934b2e624f62a9afe97d0021 = L.AwesomeMarkers.icon(\n",
       "                {\n",
       "  &quot;markerColor&quot;: &quot;red&quot;,\n",
       "  &quot;iconColor&quot;: &quot;white&quot;,\n",
       "  &quot;icon&quot;: &quot;cutlery&quot;,\n",
       "  &quot;prefix&quot;: &quot;fa&quot;,\n",
       "  &quot;extraClasses&quot;: &quot;fa-rotate-0&quot;,\n",
       "}\n",
       "            );\n",
       "            marker_95317108e6d2b855207bdfa516d021e7.setIcon(icon_494bdf6a934b2e624f62a9afe97d0021);\n",
       "        \n",
       "    \n",
       "        var popup_0d483dbca72e2db1ee656b179c6eef8e = L.popup({\n",
       "  &quot;maxWidth&quot;: &quot;100%&quot;,\n",
       "});\n",
       "\n",
       "        \n",
       "            \n",
       "                var html_5ba91162ae3d79ebec9fbe2af3494916 = $(`&lt;div id=&quot;html_5ba91162ae3d79ebec9fbe2af3494916&quot; style=&quot;width: 100.0%; height: 100.0%;&quot;&gt;(&quot;&lt;b style=&#x27;font-size: 18px; &#x27;&gt;The Place&lt;/b&gt;&lt;br&gt;Direccion: calle 100, pasando Aldabo&quot;, &quot;Especialidades: [&#x27;mixta&#x27;]&quot;)&lt;/div&gt;`)[0];\n",
       "                popup_0d483dbca72e2db1ee656b179c6eef8e.setContent(html_5ba91162ae3d79ebec9fbe2af3494916);\n",
       "            \n",
       "        \n",
       "\n",
       "        marker_95317108e6d2b855207bdfa516d021e7.bindPopup(popup_0d483dbca72e2db1ee656b179c6eef8e)\n",
       "        ;\n",
       "\n",
       "        \n",
       "    \n",
       "    \n",
       "            var marker_147b7ed0122588639cb9288fdefaa2ee = L.marker(\n",
       "                [23.13838390087665, -82.36063540385594],\n",
       "                {\n",
       "}\n",
       "            ).addTo(map_925613df095e17c33a5b049f8b266fd0);\n",
       "        \n",
       "    \n",
       "            var icon_cc00bb7ea825d9680030ab0f8e9784be = L.AwesomeMarkers.icon(\n",
       "                {\n",
       "  &quot;markerColor&quot;: &quot;red&quot;,\n",
       "  &quot;iconColor&quot;: &quot;white&quot;,\n",
       "  &quot;icon&quot;: &quot;cutlery&quot;,\n",
       "  &quot;prefix&quot;: &quot;fa&quot;,\n",
       "  &quot;extraClasses&quot;: &quot;fa-rotate-0&quot;,\n",
       "}\n",
       "            );\n",
       "            marker_147b7ed0122588639cb9288fdefaa2ee.setIcon(icon_cc00bb7ea825d9680030ab0f8e9784be);\n",
       "        \n",
       "    \n",
       "        var popup_5ea1f3e014627d4c50b8f1ce9a563b59 = L.popup({\n",
       "  &quot;maxWidth&quot;: &quot;100%&quot;,\n",
       "});\n",
       "\n",
       "        \n",
       "            \n",
       "                var html_2e35c4f3b963ac994f23763f8110c0f0 = $(`&lt;div id=&quot;html_2e35c4f3b963ac994f23763f8110c0f0&quot; style=&quot;width: 100.0%; height: 100.0%;&quot;&gt;(&quot;&lt;b style=&#x27;font-size: 18px; &#x27;&gt;Tonyzz Bar&lt;/b&gt;&lt;br&gt;Direccion: Consulado &amp;, San Miguel, La Habana&quot;, &quot;Especialidades: [&#x27;italiana&#x27;, &#x27;americana&#x27;, &#x27;india&#x27;, &#x27;caribeña&#x27;, &#x27;asiática&#x27;, &#x27;cubana&#x27;, &#x27;ceilanesa&#x27;]&quot;)&lt;/div&gt;`)[0];\n",
       "                popup_5ea1f3e014627d4c50b8f1ce9a563b59.setContent(html_2e35c4f3b963ac994f23763f8110c0f0);\n",
       "            \n",
       "        \n",
       "\n",
       "        marker_147b7ed0122588639cb9288fdefaa2ee.bindPopup(popup_5ea1f3e014627d4c50b8f1ce9a563b59)\n",
       "        ;\n",
       "\n",
       "        \n",
       "    \n",
       "    \n",
       "            var marker_6f8a17a424e677c4259e3d56258058ea = L.marker(\n",
       "                [23.135877861692762, -82.40428126252529],\n",
       "                {\n",
       "}\n",
       "            ).addTo(map_925613df095e17c33a5b049f8b266fd0);\n",
       "        \n",
       "    \n",
       "            var icon_72c7de71a484645f2a34b270e917b9c2 = L.AwesomeMarkers.icon(\n",
       "                {\n",
       "  &quot;markerColor&quot;: &quot;red&quot;,\n",
       "  &quot;iconColor&quot;: &quot;white&quot;,\n",
       "  &quot;icon&quot;: &quot;cutlery&quot;,\n",
       "  &quot;prefix&quot;: &quot;fa&quot;,\n",
       "  &quot;extraClasses&quot;: &quot;fa-rotate-0&quot;,\n",
       "}\n",
       "            );\n",
       "            marker_6f8a17a424e677c4259e3d56258058ea.setIcon(icon_72c7de71a484645f2a34b270e917b9c2);\n",
       "        \n",
       "    \n",
       "        var popup_0d47989e40331d09e101b69a0bb96206 = L.popup({\n",
       "  &quot;maxWidth&quot;: &quot;100%&quot;,\n",
       "});\n",
       "\n",
       "        \n",
       "            \n",
       "                var html_e7d571d51477019781932873160fd212 = $(`&lt;div id=&quot;html_e7d571d51477019781932873160fd212&quot; style=&quot;width: 100.0%; height: 100.0%;&quot;&gt;(&quot;&lt;b style=&#x27;font-size: 18px; &#x27;&gt;Toto e Pepino&lt;/b&gt;&lt;br&gt;Direccion: Calle 8 entre 5ta y Calzada, Vedado&quot;, &quot;Especialidades: [&#x27;Comida Italiana&#x27;, &#x27;Campania&#x27;]&quot;)&lt;/div&gt;`)[0];\n",
       "                popup_0d47989e40331d09e101b69a0bb96206.setContent(html_e7d571d51477019781932873160fd212);\n",
       "            \n",
       "        \n",
       "\n",
       "        marker_6f8a17a424e677c4259e3d56258058ea.bindPopup(popup_0d47989e40331d09e101b69a0bb96206)\n",
       "        ;\n",
       "\n",
       "        \n",
       "    \n",
       "    \n",
       "            var marker_617a6ed3ed695e2e9eb7eecd4a6ac4c4 = L.marker(\n",
       "                [23.09472547391585, -82.42049115872929],\n",
       "                {\n",
       "}\n",
       "            ).addTo(map_925613df095e17c33a5b049f8b266fd0);\n",
       "        \n",
       "    \n",
       "            var icon_3c1383b21045eaa7436052d7f4bd2c9d = L.AwesomeMarkers.icon(\n",
       "                {\n",
       "  &quot;markerColor&quot;: &quot;red&quot;,\n",
       "  &quot;iconColor&quot;: &quot;white&quot;,\n",
       "  &quot;icon&quot;: &quot;cutlery&quot;,\n",
       "  &quot;prefix&quot;: &quot;fa&quot;,\n",
       "  &quot;extraClasses&quot;: &quot;fa-rotate-0&quot;,\n",
       "}\n",
       "            );\n",
       "            marker_617a6ed3ed695e2e9eb7eecd4a6ac4c4.setIcon(icon_3c1383b21045eaa7436052d7f4bd2c9d);\n",
       "        \n",
       "    \n",
       "        var popup_b596676c45e42937e3a8ed2e935e33f5 = L.popup({\n",
       "  &quot;maxWidth&quot;: &quot;100%&quot;,\n",
       "});\n",
       "\n",
       "        \n",
       "            \n",
       "                var html_6d8292847f00e8f4cea19afedda41df7 = $(`&lt;div id=&quot;html_6d8292847f00e8f4cea19afedda41df7&quot; style=&quot;width: 100.0%; height: 100.0%;&quot;&gt;(&quot;&lt;b style=&#x27;font-size: 18px; &#x27;&gt;Tropikana&lt;/b&gt;&lt;br&gt;Direccion: Avenida 41, calle 72&quot;, &quot;Especialidades: [&#x27;internacional&#x27;, &#x27;italiana&#x27;, &#x27;cubana&#x27;]&quot;)&lt;/div&gt;`)[0];\n",
       "                popup_b596676c45e42937e3a8ed2e935e33f5.setContent(html_6d8292847f00e8f4cea19afedda41df7);\n",
       "            \n",
       "        \n",
       "\n",
       "        marker_617a6ed3ed695e2e9eb7eecd4a6ac4c4.bindPopup(popup_b596676c45e42937e3a8ed2e935e33f5)\n",
       "        ;\n",
       "\n",
       "        \n",
       "    \n",
       "    \n",
       "            var marker_de2f75c709eeb14a0cba25f6eba11277 = L.marker(\n",
       "                [23.139702313656233, -82.37592887167152],\n",
       "                {\n",
       "}\n",
       "            ).addTo(map_925613df095e17c33a5b049f8b266fd0);\n",
       "        \n",
       "    \n",
       "            var icon_ff83c319187b1191a86edf5da7ad6b7d = L.AwesomeMarkers.icon(\n",
       "                {\n",
       "  &quot;markerColor&quot;: &quot;red&quot;,\n",
       "  &quot;iconColor&quot;: &quot;white&quot;,\n",
       "  &quot;icon&quot;: &quot;cutlery&quot;,\n",
       "  &quot;prefix&quot;: &quot;fa&quot;,\n",
       "  &quot;extraClasses&quot;: &quot;fa-rotate-0&quot;,\n",
       "}\n",
       "            );\n",
       "            marker_de2f75c709eeb14a0cba25f6eba11277.setIcon(icon_ff83c319187b1191a86edf5da7ad6b7d);\n",
       "        \n",
       "    \n",
       "        var popup_d39d3a96f7ca51aed538d7635fa25718 = L.popup({\n",
       "  &quot;maxWidth&quot;: &quot;100%&quot;,\n",
       "});\n",
       "\n",
       "        \n",
       "            \n",
       "                var html_5ea2c981f0db0914dea1630e62cf040b = $(`&lt;div id=&quot;html_5ea2c981f0db0914dea1630e62cf040b&quot; style=&quot;width: 100.0%; height: 100.0%;&quot;&gt;(&quot;&lt;b style=&#x27;font-size: 18px; &#x27;&gt;Tu Tiempo&lt;/b&gt;&lt;br&gt;Direccion: Calle Hospital entre San Lazaro y Jovellar&quot;, &quot;Especialidades: [&#x27;mixta&#x27;]&quot;)&lt;/div&gt;`)[0];\n",
       "                popup_d39d3a96f7ca51aed538d7635fa25718.setContent(html_5ea2c981f0db0914dea1630e62cf040b);\n",
       "            \n",
       "        \n",
       "\n",
       "        marker_de2f75c709eeb14a0cba25f6eba11277.bindPopup(popup_d39d3a96f7ca51aed538d7635fa25718)\n",
       "        ;\n",
       "\n",
       "        \n",
       "    \n",
       "    \n",
       "            var marker_b23547034a0f052c1ac1d06f3e60f242 = L.marker(\n",
       "                [23.121664387894754, -82.29610398447532],\n",
       "                {\n",
       "}\n",
       "            ).addTo(map_925613df095e17c33a5b049f8b266fd0);\n",
       "        \n",
       "    \n",
       "            var icon_7da992aadc7bf1675defdc9ec0379959 = L.AwesomeMarkers.icon(\n",
       "                {\n",
       "  &quot;markerColor&quot;: &quot;red&quot;,\n",
       "  &quot;iconColor&quot;: &quot;white&quot;,\n",
       "  &quot;icon&quot;: &quot;cutlery&quot;,\n",
       "  &quot;prefix&quot;: &quot;fa&quot;,\n",
       "  &quot;extraClasses&quot;: &quot;fa-rotate-0&quot;,\n",
       "}\n",
       "            );\n",
       "            marker_b23547034a0f052c1ac1d06f3e60f242.setIcon(icon_7da992aadc7bf1675defdc9ec0379959);\n",
       "        \n",
       "    \n",
       "        var popup_2a34ce52b75354cc51b1344ab282a448 = L.popup({\n",
       "  &quot;maxWidth&quot;: &quot;100%&quot;,\n",
       "});\n",
       "\n",
       "        \n",
       "            \n",
       "                var html_b4637783307d30c894deca33671f81f4 = $(`&lt;div id=&quot;html_b4637783307d30c894deca33671f81f4&quot; style=&quot;width: 100.0%; height: 100.0%;&quot;&gt;(&quot;&lt;b style=&#x27;font-size: 18px; &#x27;&gt;Vale &amp; Vane&lt;/b&gt;&lt;br&gt;Direccion: San Martin entre Corrales y Aparicion&quot;, &quot;Especialidades: [&#x27;italiana&#x27;, &#x27;criolla&#x27;]&quot;)&lt;/div&gt;`)[0];\n",
       "                popup_2a34ce52b75354cc51b1344ab282a448.setContent(html_b4637783307d30c894deca33671f81f4);\n",
       "            \n",
       "        \n",
       "\n",
       "        marker_b23547034a0f052c1ac1d06f3e60f242.bindPopup(popup_2a34ce52b75354cc51b1344ab282a448)\n",
       "        ;\n",
       "\n",
       "        \n",
       "    \n",
       "    \n",
       "            var marker_6ab47cae59b359e5c547bd86e059eecf = L.marker(\n",
       "                [23.131006442270195, -82.3984675744632],\n",
       "                {\n",
       "}\n",
       "            ).addTo(map_925613df095e17c33a5b049f8b266fd0);\n",
       "        \n",
       "    \n",
       "            var icon_1f5029232ab5168b8cfee5916117eb70 = L.AwesomeMarkers.icon(\n",
       "                {\n",
       "  &quot;markerColor&quot;: &quot;red&quot;,\n",
       "  &quot;iconColor&quot;: &quot;white&quot;,\n",
       "  &quot;icon&quot;: &quot;cutlery&quot;,\n",
       "  &quot;prefix&quot;: &quot;fa&quot;,\n",
       "  &quot;extraClasses&quot;: &quot;fa-rotate-0&quot;,\n",
       "}\n",
       "            );\n",
       "            marker_6ab47cae59b359e5c547bd86e059eecf.setIcon(icon_1f5029232ab5168b8cfee5916117eb70);\n",
       "        \n",
       "    \n",
       "        var popup_a9cba96cc13e86e322a7a30254296a3f = L.popup({\n",
       "  &quot;maxWidth&quot;: &quot;100%&quot;,\n",
       "});\n",
       "\n",
       "        \n",
       "            \n",
       "                var html_03299a59e871cfe613c953a746d68367 = $(`&lt;div id=&quot;html_03299a59e871cfe613c953a746d68367&quot; style=&quot;width: 100.0%; height: 100.0%;&quot;&gt;(&quot;&lt;b style=&#x27;font-size: 18px; &#x27;&gt;El Vampirito&lt;/b&gt;&lt;br&gt;Direccion: Calle 6 entre 19 y 21, Vedado&quot;, &quot;Especialidades: [&#x27;Pizza&#x27;, &#x27;Comida italiana&#x27;, &#x27;Sandwiches&#x27;]&quot;)&lt;/div&gt;`)[0];\n",
       "                popup_a9cba96cc13e86e322a7a30254296a3f.setContent(html_03299a59e871cfe613c953a746d68367);\n",
       "            \n",
       "        \n",
       "\n",
       "        marker_6ab47cae59b359e5c547bd86e059eecf.bindPopup(popup_a9cba96cc13e86e322a7a30254296a3f)\n",
       "        ;\n",
       "\n",
       "        \n",
       "    \n",
       "    \n",
       "            var marker_e71e6d34aa822944828048ce5d8c5492 = L.marker(\n",
       "                [23.135928366721494, -82.35711687469271],\n",
       "                {\n",
       "}\n",
       "            ).addTo(map_925613df095e17c33a5b049f8b266fd0);\n",
       "        \n",
       "    \n",
       "            var icon_d54eb3daf93cd04cc6e03b7f4ac697eb = L.AwesomeMarkers.icon(\n",
       "                {\n",
       "  &quot;markerColor&quot;: &quot;red&quot;,\n",
       "  &quot;iconColor&quot;: &quot;white&quot;,\n",
       "  &quot;icon&quot;: &quot;cutlery&quot;,\n",
       "  &quot;prefix&quot;: &quot;fa&quot;,\n",
       "  &quot;extraClasses&quot;: &quot;fa-rotate-0&quot;,\n",
       "}\n",
       "            );\n",
       "            marker_e71e6d34aa822944828048ce5d8c5492.setIcon(icon_d54eb3daf93cd04cc6e03b7f4ac697eb);\n",
       "        \n",
       "    \n",
       "        var popup_f9719443d2fbc484dc8dbc1a28b42edc = L.popup({\n",
       "  &quot;maxWidth&quot;: &quot;100%&quot;,\n",
       "});\n",
       "\n",
       "        \n",
       "            \n",
       "                var html_346b0bca680822531553c0afa9d7e4e9 = $(`&lt;div id=&quot;html_346b0bca680822531553c0afa9d7e4e9&quot; style=&quot;width: 100.0%; height: 100.0%;&quot;&gt;(&quot;&lt;b style=&#x27;font-size: 18px; &#x27;&gt;Venami&lt;/b&gt;&lt;br&gt;Direccion: Monserrate #435 e/ Teniente Rey y Lamparilla&quot;, &quot;Especialidades: [&#x27;Italiana&#x27;, &#x27;Pizza&#x27;, &#x27;Mediterranea&#x27;, &#x27;Europea&#x27;]&quot;)&lt;/div&gt;`)[0];\n",
       "                popup_f9719443d2fbc484dc8dbc1a28b42edc.setContent(html_346b0bca680822531553c0afa9d7e4e9);\n",
       "            \n",
       "        \n",
       "\n",
       "        marker_e71e6d34aa822944828048ce5d8c5492.bindPopup(popup_f9719443d2fbc484dc8dbc1a28b42edc)\n",
       "        ;\n",
       "\n",
       "        \n",
       "    \n",
       "    \n",
       "            var marker_71e8e752872d910c975ac7d0b81f5a5c = L.marker(\n",
       "                [23.06514033812983, -82.39795431500336],\n",
       "                {\n",
       "}\n",
       "            ).addTo(map_925613df095e17c33a5b049f8b266fd0);\n",
       "        \n",
       "    \n",
       "            var icon_82933f90564c934d2bb1a5e742bfed9e = L.AwesomeMarkers.icon(\n",
       "                {\n",
       "  &quot;markerColor&quot;: &quot;red&quot;,\n",
       "  &quot;iconColor&quot;: &quot;white&quot;,\n",
       "  &quot;icon&quot;: &quot;cutlery&quot;,\n",
       "  &quot;prefix&quot;: &quot;fa&quot;,\n",
       "  &quot;extraClasses&quot;: &quot;fa-rotate-0&quot;,\n",
       "}\n",
       "            );\n",
       "            marker_71e8e752872d910c975ac7d0b81f5a5c.setIcon(icon_82933f90564c934d2bb1a5e742bfed9e);\n",
       "        \n",
       "    \n",
       "        var popup_7d6e6c82969d65567ae78a0243e12b1d = L.popup({\n",
       "  &quot;maxWidth&quot;: &quot;100%&quot;,\n",
       "});\n",
       "\n",
       "        \n",
       "            \n",
       "                var html_b85c529c6026e8b2c961b14dc5d33209 = $(`&lt;div id=&quot;html_b85c529c6026e8b2c961b14dc5d33209&quot; style=&quot;width: 100.0%; height: 100.0%;&quot;&gt;(&quot;&lt;b style=&#x27;font-size: 18px; &#x27;&gt;VenaVento&lt;/b&gt;&lt;br&gt;Direccion: Calle 10, esq. Vento&quot;, &quot;Especialidades: [&#x27;cubana&#x27;, &#x27;internacional&#x27;]&quot;)&lt;/div&gt;`)[0];\n",
       "                popup_7d6e6c82969d65567ae78a0243e12b1d.setContent(html_b85c529c6026e8b2c961b14dc5d33209);\n",
       "            \n",
       "        \n",
       "\n",
       "        marker_71e8e752872d910c975ac7d0b81f5a5c.bindPopup(popup_7d6e6c82969d65567ae78a0243e12b1d)\n",
       "        ;\n",
       "\n",
       "        \n",
       "    \n",
       "    \n",
       "            var marker_6b58d7889d9a0b99fe39f9896f3b056c = L.marker(\n",
       "                [22.973895524970906, -82.38392775915848],\n",
       "                {\n",
       "}\n",
       "            ).addTo(map_925613df095e17c33a5b049f8b266fd0);\n",
       "        \n",
       "    \n",
       "            var icon_970e0f72c606b8a0c1a591bb0237924b = L.AwesomeMarkers.icon(\n",
       "                {\n",
       "  &quot;markerColor&quot;: &quot;red&quot;,\n",
       "  &quot;iconColor&quot;: &quot;white&quot;,\n",
       "  &quot;icon&quot;: &quot;cutlery&quot;,\n",
       "  &quot;prefix&quot;: &quot;fa&quot;,\n",
       "  &quot;extraClasses&quot;: &quot;fa-rotate-0&quot;,\n",
       "}\n",
       "            );\n",
       "            marker_6b58d7889d9a0b99fe39f9896f3b056c.setIcon(icon_970e0f72c606b8a0c1a591bb0237924b);\n",
       "        \n",
       "    \n",
       "        var popup_7dd640171ce41b28732ff65dc8317d0a = L.popup({\n",
       "  &quot;maxWidth&quot;: &quot;100%&quot;,\n",
       "});\n",
       "\n",
       "        \n",
       "            \n",
       "                var html_0617824e529dc6e4e8073bc63d8e7905 = $(`&lt;div id=&quot;html_0617824e529dc6e4e8073bc63d8e7905&quot; style=&quot;width: 100.0%; height: 100.0%;&quot;&gt;(&quot;&lt;b style=&#x27;font-size: 18px; &#x27;&gt;Villanueva&lt;/b&gt;&lt;br&gt;Direccion: 182 # 39 511 e/ 395 y 397, Santiago de las Vegas&quot;, &quot;Especialidades: [&#x27;cubana&#x27;, &#x27;internacional&#x27;]&quot;)&lt;/div&gt;`)[0];\n",
       "                popup_7dd640171ce41b28732ff65dc8317d0a.setContent(html_0617824e529dc6e4e8073bc63d8e7905);\n",
       "            \n",
       "        \n",
       "\n",
       "        marker_6b58d7889d9a0b99fe39f9896f3b056c.bindPopup(popup_7dd640171ce41b28732ff65dc8317d0a)\n",
       "        ;\n",
       "\n",
       "        \n",
       "    \n",
       "    \n",
       "            var marker_7eb7f6c0e37d786162dfd8d6688ed512 = L.marker(\n",
       "                [23.087246052907982, -82.3690334591559],\n",
       "                {\n",
       "}\n",
       "            ).addTo(map_925613df095e17c33a5b049f8b266fd0);\n",
       "        \n",
       "    \n",
       "            var icon_b464e9f32a1aa61b52babad0fcc76873 = L.AwesomeMarkers.icon(\n",
       "                {\n",
       "  &quot;markerColor&quot;: &quot;red&quot;,\n",
       "  &quot;iconColor&quot;: &quot;white&quot;,\n",
       "  &quot;icon&quot;: &quot;cutlery&quot;,\n",
       "  &quot;prefix&quot;: &quot;fa&quot;,\n",
       "  &quot;extraClasses&quot;: &quot;fa-rotate-0&quot;,\n",
       "}\n",
       "            );\n",
       "            marker_7eb7f6c0e37d786162dfd8d6688ed512.setIcon(icon_b464e9f32a1aa61b52babad0fcc76873);\n",
       "        \n",
       "    \n",
       "        var popup_e00f34e3b3b44e357b330921f4fad5ab = L.popup({\n",
       "  &quot;maxWidth&quot;: &quot;100%&quot;,\n",
       "});\n",
       "\n",
       "        \n",
       "            \n",
       "                var html_c4653225e48343338e2a40d95a82a561 = $(`&lt;div id=&quot;html_c4653225e48343338e2a40d95a82a561&quot; style=&quot;width: 100.0%; height: 100.0%;&quot;&gt;(&quot;&lt;b style=&#x27;font-size: 18px; &#x27;&gt;Villa Hernandez&lt;/b&gt;&lt;br&gt;Direccion: Calle San Miguel, # 112 e/ Revolución y Gelabert, Sevillano&quot;, &quot;Especialidades: [&#x27;internacional&#x27;, &#x27;criolla&#x27;]&quot;)&lt;/div&gt;`)[0];\n",
       "                popup_e00f34e3b3b44e357b330921f4fad5ab.setContent(html_c4653225e48343338e2a40d95a82a561);\n",
       "            \n",
       "        \n",
       "\n",
       "        marker_7eb7f6c0e37d786162dfd8d6688ed512.bindPopup(popup_e00f34e3b3b44e357b330921f4fad5ab)\n",
       "        ;\n",
       "\n",
       "        \n",
       "    \n",
       "    \n",
       "            var marker_4206e27f25e99c5883bead7ccc5ab198 = L.marker(\n",
       "                [23.14072849372818, -82.3845988],\n",
       "                {\n",
       "}\n",
       "            ).addTo(map_925613df095e17c33a5b049f8b266fd0);\n",
       "        \n",
       "    \n",
       "            var icon_662556dd3ab5a6e217cdff805d8a7fd6 = L.AwesomeMarkers.icon(\n",
       "                {\n",
       "  &quot;markerColor&quot;: &quot;red&quot;,\n",
       "  &quot;iconColor&quot;: &quot;white&quot;,\n",
       "  &quot;icon&quot;: &quot;cutlery&quot;,\n",
       "  &quot;prefix&quot;: &quot;fa&quot;,\n",
       "  &quot;extraClasses&quot;: &quot;fa-rotate-0&quot;,\n",
       "}\n",
       "            );\n",
       "            marker_4206e27f25e99c5883bead7ccc5ab198.setIcon(icon_662556dd3ab5a6e217cdff805d8a7fd6);\n",
       "        \n",
       "    \n",
       "        var popup_28ff11b613773491a7ce908f703bddf6 = L.popup({\n",
       "  &quot;maxWidth&quot;: &quot;100%&quot;,\n",
       "});\n",
       "\n",
       "        \n",
       "            \n",
       "                var html_a4999589443159a3c16c4e054ee8e64e = $(`&lt;div id=&quot;html_a4999589443159a3c16c4e054ee8e64e&quot; style=&quot;width: 100.0%; height: 100.0%;&quot;&gt;(&quot;&lt;b style=&#x27;font-size: 18px; &#x27;&gt;Vita Nuova&lt;/b&gt;&lt;br&gt;Direccion: Calle L esquina 21, Vedado&quot;, &quot;Especialidades: [&#x27;Comida Italiana&#x27;, &#x27;caribeña&#x27;, &#x27;internacional&#x27;, &#x27;cubana&#x27;]&quot;)&lt;/div&gt;`)[0];\n",
       "                popup_28ff11b613773491a7ce908f703bddf6.setContent(html_a4999589443159a3c16c4e054ee8e64e);\n",
       "            \n",
       "        \n",
       "\n",
       "        marker_4206e27f25e99c5883bead7ccc5ab198.bindPopup(popup_28ff11b613773491a7ce908f703bddf6)\n",
       "        ;\n",
       "\n",
       "        \n",
       "    \n",
       "    \n",
       "            var marker_1bb7b7209698c372abf54510adf0b4e9 = L.marker(\n",
       "                [23.13336490258953, -82.39873911512949],\n",
       "                {\n",
       "}\n",
       "            ).addTo(map_925613df095e17c33a5b049f8b266fd0);\n",
       "        \n",
       "    \n",
       "            var icon_b865ef55225b9d583ee06d2bd6b797ed = L.AwesomeMarkers.icon(\n",
       "                {\n",
       "  &quot;markerColor&quot;: &quot;red&quot;,\n",
       "  &quot;iconColor&quot;: &quot;white&quot;,\n",
       "  &quot;icon&quot;: &quot;cutlery&quot;,\n",
       "  &quot;prefix&quot;: &quot;fa&quot;,\n",
       "  &quot;extraClasses&quot;: &quot;fa-rotate-0&quot;,\n",
       "}\n",
       "            );\n",
       "            marker_1bb7b7209698c372abf54510adf0b4e9.setIcon(icon_b865ef55225b9d583ee06d2bd6b797ed);\n",
       "        \n",
       "    \n",
       "        var popup_4e4bc7d9626eeb020c1ccd6d78a0d375 = L.popup({\n",
       "  &quot;maxWidth&quot;: &quot;100%&quot;,\n",
       "});\n",
       "\n",
       "        \n",
       "            \n",
       "                var html_57ac75862155d0454d26caf2af94cde9 = $(`&lt;div id=&quot;html_57ac75862155d0454d26caf2af94cde9&quot; style=&quot;width: 100.0%; height: 100.0%;&quot;&gt;(&quot;&lt;b style=&#x27;font-size: 18px; &#x27;&gt;Wapa&lt;/b&gt;&lt;br&gt;Direccion: Calle 4 entre 15 y 17, Vedado&quot;, &quot;Especialidades: [&#x27;Cubana&#x27;, &#x27;Centroamericana&#x27;]&quot;)&lt;/div&gt;`)[0];\n",
       "                popup_4e4bc7d9626eeb020c1ccd6d78a0d375.setContent(html_57ac75862155d0454d26caf2af94cde9);\n",
       "            \n",
       "        \n",
       "\n",
       "        marker_1bb7b7209698c372abf54510adf0b4e9.bindPopup(popup_4e4bc7d9626eeb020c1ccd6d78a0d375)\n",
       "        ;\n",
       "\n",
       "        \n",
       "    \n",
       "    \n",
       "            var marker_2bb2d4ba472bace164a7fa620209ebc4 = L.marker(\n",
       "                [23.12975236724791, -82.35241985161278],\n",
       "                {\n",
       "}\n",
       "            ).addTo(map_925613df095e17c33a5b049f8b266fd0);\n",
       "        \n",
       "    \n",
       "            var icon_4d4d73772809bc97e8530caca171ce5d = L.AwesomeMarkers.icon(\n",
       "                {\n",
       "  &quot;markerColor&quot;: &quot;red&quot;,\n",
       "  &quot;iconColor&quot;: &quot;white&quot;,\n",
       "  &quot;icon&quot;: &quot;cutlery&quot;,\n",
       "  &quot;prefix&quot;: &quot;fa&quot;,\n",
       "  &quot;extraClasses&quot;: &quot;fa-rotate-0&quot;,\n",
       "}\n",
       "            );\n",
       "            marker_2bb2d4ba472bace164a7fa620209ebc4.setIcon(icon_4d4d73772809bc97e8530caca171ce5d);\n",
       "        \n",
       "    \n",
       "        var popup_7e4ba0c799b0878bc7ae2c62f4b3a9d3 = L.popup({\n",
       "  &quot;maxWidth&quot;: &quot;100%&quot;,\n",
       "});\n",
       "\n",
       "        \n",
       "            \n",
       "                var html_3a8986260c318b663c35b7dc5050c9a7 = $(`&lt;div id=&quot;html_3a8986260c318b663c35b7dc5050c9a7&quot; style=&quot;width: 100.0%; height: 100.0%;&quot;&gt;(&quot;&lt;b style=&#x27;font-size: 18px; &#x27;&gt;Yarini&lt;/b&gt;&lt;br&gt;Direccion: Calle San Isidro #214 entre Picota y Compostela&quot;, &quot;Especialidades: [&#x27;Comida Internacional&#x27;, &#x27;Cubana&#x27;]&quot;)&lt;/div&gt;`)[0];\n",
       "                popup_7e4ba0c799b0878bc7ae2c62f4b3a9d3.setContent(html_3a8986260c318b663c35b7dc5050c9a7);\n",
       "            \n",
       "        \n",
       "\n",
       "        marker_2bb2d4ba472bace164a7fa620209ebc4.bindPopup(popup_7e4ba0c799b0878bc7ae2c62f4b3a9d3)\n",
       "        ;\n",
       "\n",
       "        \n",
       "    \n",
       "    \n",
       "            var marker_1ce7619e1ef6d2357c974e2b3608739c = L.marker(\n",
       "                [23.098978185190347, -82.33972403216933],\n",
       "                {\n",
       "}\n",
       "            ).addTo(map_925613df095e17c33a5b049f8b266fd0);\n",
       "        \n",
       "    \n",
       "            var icon_e49e9bfb0808b9d6127ee5e24113e42b = L.AwesomeMarkers.icon(\n",
       "                {\n",
       "  &quot;markerColor&quot;: &quot;red&quot;,\n",
       "  &quot;iconColor&quot;: &quot;white&quot;,\n",
       "  &quot;icon&quot;: &quot;cutlery&quot;,\n",
       "  &quot;prefix&quot;: &quot;fa&quot;,\n",
       "  &quot;extraClasses&quot;: &quot;fa-rotate-0&quot;,\n",
       "}\n",
       "            );\n",
       "            marker_1ce7619e1ef6d2357c974e2b3608739c.setIcon(icon_e49e9bfb0808b9d6127ee5e24113e42b);\n",
       "        \n",
       "    \n",
       "        var popup_bfcbd78bbf6c94611eeefa4b64d8104b = L.popup({\n",
       "  &quot;maxWidth&quot;: &quot;100%&quot;,\n",
       "});\n",
       "\n",
       "        \n",
       "            \n",
       "                var html_069afdf43104c80dd02dcc8135e19c67 = $(`&lt;div id=&quot;html_069afdf43104c80dd02dcc8135e19c67&quot; style=&quot;width: 100.0%; height: 100.0%;&quot;&gt;(&quot;&lt;b style=&#x27;font-size: 18px; &#x27;&gt;Yesterday Havana&lt;/b&gt;&lt;br&gt;Direccion: Rita % Blanchy y Calzada de Guines&quot;, &quot;Especialidades: [&#x27;Comida Mixta&#x27;]&quot;)&lt;/div&gt;`)[0];\n",
       "                popup_bfcbd78bbf6c94611eeefa4b64d8104b.setContent(html_069afdf43104c80dd02dcc8135e19c67);\n",
       "            \n",
       "        \n",
       "\n",
       "        marker_1ce7619e1ef6d2357c974e2b3608739c.bindPopup(popup_bfcbd78bbf6c94611eeefa4b64d8104b)\n",
       "        ;\n",
       "\n",
       "        \n",
       "    \n",
       "    \n",
       "            var marker_4ac6f122ce60a3b258767a092f4374dd = L.marker(\n",
       "                [23.14231693189427, -82.39812833852959],\n",
       "                {\n",
       "}\n",
       "            ).addTo(map_925613df095e17c33a5b049f8b266fd0);\n",
       "        \n",
       "    \n",
       "            var icon_f8834e9c4173817e709beebf39af1e44 = L.AwesomeMarkers.icon(\n",
       "                {\n",
       "  &quot;markerColor&quot;: &quot;red&quot;,\n",
       "  &quot;iconColor&quot;: &quot;white&quot;,\n",
       "  &quot;icon&quot;: &quot;cutlery&quot;,\n",
       "  &quot;prefix&quot;: &quot;fa&quot;,\n",
       "  &quot;extraClasses&quot;: &quot;fa-rotate-0&quot;,\n",
       "}\n",
       "            );\n",
       "            marker_4ac6f122ce60a3b258767a092f4374dd.setIcon(icon_f8834e9c4173817e709beebf39af1e44);\n",
       "        \n",
       "    \n",
       "        var popup_a23f1aae0dc1e1360cf33d3a3fb58815 = L.popup({\n",
       "  &quot;maxWidth&quot;: &quot;100%&quot;,\n",
       "});\n",
       "\n",
       "        \n",
       "            \n",
       "                var html_d5f0be8804422196d18f8a8311466152 = $(`&lt;div id=&quot;html_d5f0be8804422196d18f8a8311466152&quot; style=&quot;width: 100.0%; height: 100.0%;&quot;&gt;(&quot;&lt;b style=&#x27;font-size: 18px; &#x27;&gt;Yo invito&lt;/b&gt;&lt;br&gt;Direccion: Calle 3era, Esquina D, Vedado&quot;, &quot;Especialidades: [&#x27;Comida Cubana&#x27;, &#x27;criolla&#x27;]&quot;)&lt;/div&gt;`)[0];\n",
       "                popup_a23f1aae0dc1e1360cf33d3a3fb58815.setContent(html_d5f0be8804422196d18f8a8311466152);\n",
       "            \n",
       "        \n",
       "\n",
       "        marker_4ac6f122ce60a3b258767a092f4374dd.bindPopup(popup_a23f1aae0dc1e1360cf33d3a3fb58815)\n",
       "        ;\n",
       "\n",
       "        \n",
       "    \n",
       "&lt;/script&gt;\n",
       "&lt;/html&gt;\" style=\"position:absolute;width:100%;height:100%;left:0;top:0;border:none !important;\" allowfullscreen webkitallowfullscreen mozallowfullscreen></iframe></div></div>"
      ],
      "text/plain": [
       "<folium.folium.Map at 0x2ba52b3bcd0>"
      ]
     },
     "metadata": {},
     "output_type": "display_data"
    }
   ],
   "source": [
    "\n",
    "#Mapa con los restaurantes ubicado :)\n",
    "mapa = fl.Map(location=[23.1, -82.4], zoom_start=11)\n",
    "\n",
    "lahabanamapa = {\"type\": \"FeatureCollection\", \"features\": [{\"geometry\": {\"type\": \"Polygon\", \"coordinates\": [[[-82.5403, 23.0517], [-82.5289, 23.0628], [-82.5239, 23.0735], [-82.509, 23.0829], [-82.5045, 23.0806], [-82.4981, 23.0844], [-82.5026, 23.0865], [-82.4957, 23.0937], [-82.4911, 23.0937], [-82.4894, 23.0897], [-82.4872, 23.0951], [-82.4835, 23.0947], [-82.4781, 23.0901], [-82.4783, 23.0949], [-82.4606, 23.0936], [-82.4609, 23.0976], [-82.4554, 23.0961], [-82.4535, 23.1017], [-82.4346, 23.1193], [-82.4152, 23.1334], [-82.4121, 23.1339], [-82.4119, 23.1305], [-82.4053, 23.1406], [-82.3912, 23.1478], [-82.3696, 23.1424], [-82.3579, 23.1468], [-82.3522, 23.145], [-82.345, 23.1353], [-82.3478, 23.1286], [-82.3577, 23.122], [-82.351, 23.1205], [-82.3448, 23.1266], [-82.3422, 23.1147], [-82.3343, 23.1123], [-82.3406, 23.1243], [-82.3359, 23.1273], [-82.3374, 23.1347], [-82.328, 23.1303], [-82.3281, 23.1382], [-82.3229, 23.1427], [-82.3446, 23.1424], [-82.3563, 23.1516], [-82.3244, 23.1664], [-82.3026, 23.1715], [-82.2944, 23.1688], [-82.2911, 23.1637], [-82.2892, 23.1702], [-82.2772, 23.1754], [-82.2442, 23.1786], [-82.2402, 23.1732], [-82.2393, 23.1783], [-82.228, 23.1806], [-82.214, 23.1785], [-82.2115, 23.1724], [-82.2121, 23.1785], [-82.2045, 23.1806], [-82.1518, 23.172], [-82.1258, 23.1744], [-82.1225, 23.1684], [-82.1161, 23.1715], [-82.1209, 23.1724], [-82.1185, 23.1737], [-82.098, 23.1729], [-82.0929, 23.1761], [-82.0925, 23.168], [-82.1016, 23.1666], [-82.1025, 23.1598], [-82.082, 23.1487], [-82.0799, 23.1245], [-82.0931, 23.1221], [-82.0861, 23.1055], [-82.1016, 23.0931], [-82.1015, 23.0847], [-82.1087, 23.0806], [-82.1058, 23.0767], [-82.1096, 23.0683], [-82.1011, 23.0555], [-82.1148, 23.0547], [-82.1445, 23.0685], [-82.15, 23.075], [-82.1562, 23.0744], [-82.1764, 23.0576], [-82.2231, 23.064], [-82.2256, 23.0165], [-82.1964, 22.9972], [-82.1979, 22.993], [-82.2115, 22.9944], [-82.2167, 22.9997], [-82.2283, 22.9804], [-82.2618, 22.9734], [-82.2475, 22.9564], [-82.2676, 22.9578], [-82.2798, 22.9519], [-82.2976, 22.9541], [-82.3009, 22.9627], [-82.3056, 22.9648], [-82.3132, 22.9649], [-82.3304, 22.9563], [-82.3648, 22.9667], [-82.3775, 22.9657], [-82.3759, 22.9558], [-82.3658, 22.9405], [-82.3868, 22.9337], [-82.4152, 22.9483], [-82.4287, 22.9466], [-82.4336, 22.9403], [-82.4458, 22.9471], [-82.4436, 22.9814], [-82.4482, 22.9851], [-82.4578, 22.9775], [-82.4661, 22.982], [-82.4672, 22.9783], [-82.4843, 22.9729], [-82.498, 22.9947], [-82.5012, 23.0095], [-82.5081, 23.0153], [-82.5066, 23.0211], [-82.4982, 23.0262], [-82.4949, 23.0323], [-82.4973, 23.0392], [-82.4917, 23.0411], [-82.4889, 23.0523], [-82.4921, 23.0736], [-82.4972, 23.0736], [-82.5021, 23.0687], [-82.5108, 23.0703], [-82.5329, 23.0523], [-82.5403, 23.0517]]]}, \"type\": \"Feature\", \"properties\": {\"province\": \"La Habana\", \"country\": \"Cuba\", \"region\": \"province\", \"country_domain\": \"cu\", \"province_id\": \"lha\", \"DPA_province_code\": \"23\"}}]}\n",
    "fl.GeoJson(lahabanamapa).add_to(mapa)\n",
    "for i, row in data2.iterrows():\n",
    "    coordenadas = [float(coord) for coord in row[\"location.coordinates\"].split(\", \")]\n",
    "    nombre = row[\"name\"]\n",
    "    direccion = row[\"location.address\"]\n",
    "    especializacion = row[\"specialized_food\"]\n",
    "   \n",
    "\n",
    "    fl.Marker(\n",
    "        location=coordenadas,\n",
    "        popup=(\n",
    "            f\"<b style='font-size: 18px; '>{nombre}</b><br>\"\n",
    "            f\"Direccion: {direccion}\",\n",
    "            f\"Especialidades: {especializacion}\",\n",
    "          ),\n",
    "          icon=fl.Icon(icon=\"cutlery\", prefix=\"fa\", color=\"red\")\n",
    "    ).add_to(mapa)\n",
    "display(mapa)\n",
    "\n",
    "#Fin... "
   ]
  },
  {
   "cell_type": "markdown",
   "metadata": {},
   "source": []
  }
 ],
 "metadata": {
  "kernelspec": {
   "display_name": "Python 3",
   "language": "python",
   "name": "python3"
  },
  "language_info": {
   "codemirror_mode": {
    "name": "ipython",
    "version": 3
   },
   "file_extension": ".py",
   "mimetype": "text/x-python",
   "name": "python",
   "nbconvert_exporter": "python",
   "pygments_lexer": "ipython3",
   "version": "3.11.7"
  }
 },
 "nbformat": 4,
 "nbformat_minor": 2
}
