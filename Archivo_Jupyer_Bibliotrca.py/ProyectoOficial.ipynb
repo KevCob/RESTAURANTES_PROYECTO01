{
 "cells": [
  {
   "cell_type": "code",
   "execution_count": 51,
   "metadata": {},
   "outputs": [],
   "source": [
    "import pandas as pd\n",
    "import plotly as pt\n",
    "import plotly.express as px\n",
    "import plotly.graph_objects as go\n",
    "import plotly.io as pio\n",
    "import folium as fl\n",
    "import ipywidgets as wi\n",
    "from collections import Counter\n",
    "from IPython.display import display\n",
    "import Biblioteca_Proyecto as bp\n",
    "import os\n",
    "import json"
   ]
  },
  {
   "cell_type": "code",
   "execution_count": 52,
   "metadata": {},
   "outputs": [],
   "source": [
    "\n",
    "data_list = []\n",
    "\n",
    "for i in os.listdir(\"C:\\\\Users\\\\User\\\\OneDrive\\\\Escritorio\\\\RESTAURANTES_PROYECTO01\\\\Json_Data\"):\n",
    "    if i.endswith(\".json\"):\n",
    "        with open(os.path.join(\"C:\\\\Users\\\\User\\\\OneDrive\\\\Escritorio\\\\RESTAURANTES_PROYECTO01\\\\Json_Data\", i), \"r\", encoding=\"utf-8\") as file:\n",
    "            json_loaded = json.load(file)\n",
    "            data_list.append(json_loaded)\n",
    "\n",
    "data = pd.DataFrame(data_list)\n",
    "data2 = pd.json_normalize(data_list)"
   ]
  },
  {
   "cell_type": "markdown",
   "metadata": {},
   "source": [
    "![1](Terraza.png)"
   ]
  },
  {
   "cell_type": "markdown",
   "metadata": {},
   "source": [
    "Ya Alejandro lleva 3 años en los Estados Unidos y sus amigos le aconsejaron que lo mejor opción para ayudar a su familia en Cuba era poniéndoles un negocio, él estaba decidido a invertir en algo que no solo generara ingresos, sino que tambíen mejorara la calidad de vida de sus padres en La Habana. Muchos le sugirieron algunas de las opciones mas populares en Cuba, como revender productos Shein, sin embargo el tenía una visión diferente,  su objetivo era establecer un negocio autosuficiente, y sabiendo ya que no habia mujer en La Habana que cocinara mejor que su vieja, decidió que abrir un restaurante era la mejor opción para lograr su objetivo....\n",
    "Su madre Caridad, una ama de casa que dedicó toda su vida a su esposo, a su hijo y a la cocina, casi infarta al escuchar la noticia de que por finnnn le van a empezar a pagar por cocinar algo que llevaba toda la vida haciendo por amor y sin ningún tipo de lucro.\n",
    "\n",
    "Para que todo saliera bien, Alejandro sabía que necesitaba resalizar un análisis exhaustivo de la competencia, por lo que tomó una muestra de los restaurantes de toda La Habana...\n",
    "\n"
   ]
  },
  {
   "cell_type": "code",
   "execution_count": 53,
   "metadata": {},
   "outputs": [
    {
     "data": {
      "application/vnd.plotly.v1+json": {
       "config": {
        "plotlyServerURL": "https://plot.ly"
       },
       "data": [
        {
         "cells": {
          "align": "left",
          "fill": {
           "color": "lavender"
          },
          "values": [
           [
            "plaza de la revolucion",
            "habana vieja",
            "10 de octubre",
            "centro habana",
            "playa",
            "habana del este",
            "boyeros",
            "san miguel del padron",
            "guanabacoa",
            "marianao",
            "arroyo naranjo",
            "la lisa",
            "cerro",
            "cotorro",
            "regla"
           ],
           [
            35,
            30,
            30,
            20,
            11,
            11,
            11,
            10,
            10,
            10,
            10,
            10,
            10,
            10,
            5
           ]
          ]
         },
         "header": {
          "align": "left",
          "fill": {
           "color": "green"
          },
          "values": [
           "Municipio",
           "Cantidad de Restaurantes"
          ]
         },
         "type": "table"
        }
       ],
       "layout": {
        "template": {
         "data": {
          "bar": [
           {
            "error_x": {
             "color": "#2a3f5f"
            },
            "error_y": {
             "color": "#2a3f5f"
            },
            "marker": {
             "line": {
              "color": "#E5ECF6",
              "width": 0.5
             },
             "pattern": {
              "fillmode": "overlay",
              "size": 10,
              "solidity": 0.2
             }
            },
            "type": "bar"
           }
          ],
          "barpolar": [
           {
            "marker": {
             "line": {
              "color": "#E5ECF6",
              "width": 0.5
             },
             "pattern": {
              "fillmode": "overlay",
              "size": 10,
              "solidity": 0.2
             }
            },
            "type": "barpolar"
           }
          ],
          "carpet": [
           {
            "aaxis": {
             "endlinecolor": "#2a3f5f",
             "gridcolor": "white",
             "linecolor": "white",
             "minorgridcolor": "white",
             "startlinecolor": "#2a3f5f"
            },
            "baxis": {
             "endlinecolor": "#2a3f5f",
             "gridcolor": "white",
             "linecolor": "white",
             "minorgridcolor": "white",
             "startlinecolor": "#2a3f5f"
            },
            "type": "carpet"
           }
          ],
          "choropleth": [
           {
            "colorbar": {
             "outlinewidth": 0,
             "ticks": ""
            },
            "type": "choropleth"
           }
          ],
          "contour": [
           {
            "colorbar": {
             "outlinewidth": 0,
             "ticks": ""
            },
            "colorscale": [
             [
              0,
              "#0d0887"
             ],
             [
              0.1111111111111111,
              "#46039f"
             ],
             [
              0.2222222222222222,
              "#7201a8"
             ],
             [
              0.3333333333333333,
              "#9c179e"
             ],
             [
              0.4444444444444444,
              "#bd3786"
             ],
             [
              0.5555555555555556,
              "#d8576b"
             ],
             [
              0.6666666666666666,
              "#ed7953"
             ],
             [
              0.7777777777777778,
              "#fb9f3a"
             ],
             [
              0.8888888888888888,
              "#fdca26"
             ],
             [
              1,
              "#f0f921"
             ]
            ],
            "type": "contour"
           }
          ],
          "contourcarpet": [
           {
            "colorbar": {
             "outlinewidth": 0,
             "ticks": ""
            },
            "type": "contourcarpet"
           }
          ],
          "heatmap": [
           {
            "colorbar": {
             "outlinewidth": 0,
             "ticks": ""
            },
            "colorscale": [
             [
              0,
              "#0d0887"
             ],
             [
              0.1111111111111111,
              "#46039f"
             ],
             [
              0.2222222222222222,
              "#7201a8"
             ],
             [
              0.3333333333333333,
              "#9c179e"
             ],
             [
              0.4444444444444444,
              "#bd3786"
             ],
             [
              0.5555555555555556,
              "#d8576b"
             ],
             [
              0.6666666666666666,
              "#ed7953"
             ],
             [
              0.7777777777777778,
              "#fb9f3a"
             ],
             [
              0.8888888888888888,
              "#fdca26"
             ],
             [
              1,
              "#f0f921"
             ]
            ],
            "type": "heatmap"
           }
          ],
          "heatmapgl": [
           {
            "colorbar": {
             "outlinewidth": 0,
             "ticks": ""
            },
            "colorscale": [
             [
              0,
              "#0d0887"
             ],
             [
              0.1111111111111111,
              "#46039f"
             ],
             [
              0.2222222222222222,
              "#7201a8"
             ],
             [
              0.3333333333333333,
              "#9c179e"
             ],
             [
              0.4444444444444444,
              "#bd3786"
             ],
             [
              0.5555555555555556,
              "#d8576b"
             ],
             [
              0.6666666666666666,
              "#ed7953"
             ],
             [
              0.7777777777777778,
              "#fb9f3a"
             ],
             [
              0.8888888888888888,
              "#fdca26"
             ],
             [
              1,
              "#f0f921"
             ]
            ],
            "type": "heatmapgl"
           }
          ],
          "histogram": [
           {
            "marker": {
             "pattern": {
              "fillmode": "overlay",
              "size": 10,
              "solidity": 0.2
             }
            },
            "type": "histogram"
           }
          ],
          "histogram2d": [
           {
            "colorbar": {
             "outlinewidth": 0,
             "ticks": ""
            },
            "colorscale": [
             [
              0,
              "#0d0887"
             ],
             [
              0.1111111111111111,
              "#46039f"
             ],
             [
              0.2222222222222222,
              "#7201a8"
             ],
             [
              0.3333333333333333,
              "#9c179e"
             ],
             [
              0.4444444444444444,
              "#bd3786"
             ],
             [
              0.5555555555555556,
              "#d8576b"
             ],
             [
              0.6666666666666666,
              "#ed7953"
             ],
             [
              0.7777777777777778,
              "#fb9f3a"
             ],
             [
              0.8888888888888888,
              "#fdca26"
             ],
             [
              1,
              "#f0f921"
             ]
            ],
            "type": "histogram2d"
           }
          ],
          "histogram2dcontour": [
           {
            "colorbar": {
             "outlinewidth": 0,
             "ticks": ""
            },
            "colorscale": [
             [
              0,
              "#0d0887"
             ],
             [
              0.1111111111111111,
              "#46039f"
             ],
             [
              0.2222222222222222,
              "#7201a8"
             ],
             [
              0.3333333333333333,
              "#9c179e"
             ],
             [
              0.4444444444444444,
              "#bd3786"
             ],
             [
              0.5555555555555556,
              "#d8576b"
             ],
             [
              0.6666666666666666,
              "#ed7953"
             ],
             [
              0.7777777777777778,
              "#fb9f3a"
             ],
             [
              0.8888888888888888,
              "#fdca26"
             ],
             [
              1,
              "#f0f921"
             ]
            ],
            "type": "histogram2dcontour"
           }
          ],
          "mesh3d": [
           {
            "colorbar": {
             "outlinewidth": 0,
             "ticks": ""
            },
            "type": "mesh3d"
           }
          ],
          "parcoords": [
           {
            "line": {
             "colorbar": {
              "outlinewidth": 0,
              "ticks": ""
             }
            },
            "type": "parcoords"
           }
          ],
          "pie": [
           {
            "automargin": true,
            "type": "pie"
           }
          ],
          "scatter": [
           {
            "fillpattern": {
             "fillmode": "overlay",
             "size": 10,
             "solidity": 0.2
            },
            "type": "scatter"
           }
          ],
          "scatter3d": [
           {
            "line": {
             "colorbar": {
              "outlinewidth": 0,
              "ticks": ""
             }
            },
            "marker": {
             "colorbar": {
              "outlinewidth": 0,
              "ticks": ""
             }
            },
            "type": "scatter3d"
           }
          ],
          "scattercarpet": [
           {
            "marker": {
             "colorbar": {
              "outlinewidth": 0,
              "ticks": ""
             }
            },
            "type": "scattercarpet"
           }
          ],
          "scattergeo": [
           {
            "marker": {
             "colorbar": {
              "outlinewidth": 0,
              "ticks": ""
             }
            },
            "type": "scattergeo"
           }
          ],
          "scattergl": [
           {
            "marker": {
             "colorbar": {
              "outlinewidth": 0,
              "ticks": ""
             }
            },
            "type": "scattergl"
           }
          ],
          "scattermapbox": [
           {
            "marker": {
             "colorbar": {
              "outlinewidth": 0,
              "ticks": ""
             }
            },
            "type": "scattermapbox"
           }
          ],
          "scatterpolar": [
           {
            "marker": {
             "colorbar": {
              "outlinewidth": 0,
              "ticks": ""
             }
            },
            "type": "scatterpolar"
           }
          ],
          "scatterpolargl": [
           {
            "marker": {
             "colorbar": {
              "outlinewidth": 0,
              "ticks": ""
             }
            },
            "type": "scatterpolargl"
           }
          ],
          "scatterternary": [
           {
            "marker": {
             "colorbar": {
              "outlinewidth": 0,
              "ticks": ""
             }
            },
            "type": "scatterternary"
           }
          ],
          "surface": [
           {
            "colorbar": {
             "outlinewidth": 0,
             "ticks": ""
            },
            "colorscale": [
             [
              0,
              "#0d0887"
             ],
             [
              0.1111111111111111,
              "#46039f"
             ],
             [
              0.2222222222222222,
              "#7201a8"
             ],
             [
              0.3333333333333333,
              "#9c179e"
             ],
             [
              0.4444444444444444,
              "#bd3786"
             ],
             [
              0.5555555555555556,
              "#d8576b"
             ],
             [
              0.6666666666666666,
              "#ed7953"
             ],
             [
              0.7777777777777778,
              "#fb9f3a"
             ],
             [
              0.8888888888888888,
              "#fdca26"
             ],
             [
              1,
              "#f0f921"
             ]
            ],
            "type": "surface"
           }
          ],
          "table": [
           {
            "cells": {
             "fill": {
              "color": "#EBF0F8"
             },
             "line": {
              "color": "white"
             }
            },
            "header": {
             "fill": {
              "color": "#C8D4E3"
             },
             "line": {
              "color": "white"
             }
            },
            "type": "table"
           }
          ]
         },
         "layout": {
          "annotationdefaults": {
           "arrowcolor": "#2a3f5f",
           "arrowhead": 0,
           "arrowwidth": 1
          },
          "autotypenumbers": "strict",
          "coloraxis": {
           "colorbar": {
            "outlinewidth": 0,
            "ticks": ""
           }
          },
          "colorscale": {
           "diverging": [
            [
             0,
             "#8e0152"
            ],
            [
             0.1,
             "#c51b7d"
            ],
            [
             0.2,
             "#de77ae"
            ],
            [
             0.3,
             "#f1b6da"
            ],
            [
             0.4,
             "#fde0ef"
            ],
            [
             0.5,
             "#f7f7f7"
            ],
            [
             0.6,
             "#e6f5d0"
            ],
            [
             0.7,
             "#b8e186"
            ],
            [
             0.8,
             "#7fbc41"
            ],
            [
             0.9,
             "#4d9221"
            ],
            [
             1,
             "#276419"
            ]
           ],
           "sequential": [
            [
             0,
             "#0d0887"
            ],
            [
             0.1111111111111111,
             "#46039f"
            ],
            [
             0.2222222222222222,
             "#7201a8"
            ],
            [
             0.3333333333333333,
             "#9c179e"
            ],
            [
             0.4444444444444444,
             "#bd3786"
            ],
            [
             0.5555555555555556,
             "#d8576b"
            ],
            [
             0.6666666666666666,
             "#ed7953"
            ],
            [
             0.7777777777777778,
             "#fb9f3a"
            ],
            [
             0.8888888888888888,
             "#fdca26"
            ],
            [
             1,
             "#f0f921"
            ]
           ],
           "sequentialminus": [
            [
             0,
             "#0d0887"
            ],
            [
             0.1111111111111111,
             "#46039f"
            ],
            [
             0.2222222222222222,
             "#7201a8"
            ],
            [
             0.3333333333333333,
             "#9c179e"
            ],
            [
             0.4444444444444444,
             "#bd3786"
            ],
            [
             0.5555555555555556,
             "#d8576b"
            ],
            [
             0.6666666666666666,
             "#ed7953"
            ],
            [
             0.7777777777777778,
             "#fb9f3a"
            ],
            [
             0.8888888888888888,
             "#fdca26"
            ],
            [
             1,
             "#f0f921"
            ]
           ]
          },
          "colorway": [
           "#636efa",
           "#EF553B",
           "#00cc96",
           "#ab63fa",
           "#FFA15A",
           "#19d3f3",
           "#FF6692",
           "#B6E880",
           "#FF97FF",
           "#FECB52"
          ],
          "font": {
           "color": "#2a3f5f"
          },
          "geo": {
           "bgcolor": "white",
           "lakecolor": "white",
           "landcolor": "#E5ECF6",
           "showlakes": true,
           "showland": true,
           "subunitcolor": "white"
          },
          "hoverlabel": {
           "align": "left"
          },
          "hovermode": "closest",
          "mapbox": {
           "style": "light"
          },
          "paper_bgcolor": "white",
          "plot_bgcolor": "#E5ECF6",
          "polar": {
           "angularaxis": {
            "gridcolor": "white",
            "linecolor": "white",
            "ticks": ""
           },
           "bgcolor": "#E5ECF6",
           "radialaxis": {
            "gridcolor": "white",
            "linecolor": "white",
            "ticks": ""
           }
          },
          "scene": {
           "xaxis": {
            "backgroundcolor": "#E5ECF6",
            "gridcolor": "white",
            "gridwidth": 2,
            "linecolor": "white",
            "showbackground": true,
            "ticks": "",
            "zerolinecolor": "white"
           },
           "yaxis": {
            "backgroundcolor": "#E5ECF6",
            "gridcolor": "white",
            "gridwidth": 2,
            "linecolor": "white",
            "showbackground": true,
            "ticks": "",
            "zerolinecolor": "white"
           },
           "zaxis": {
            "backgroundcolor": "#E5ECF6",
            "gridcolor": "white",
            "gridwidth": 2,
            "linecolor": "white",
            "showbackground": true,
            "ticks": "",
            "zerolinecolor": "white"
           }
          },
          "shapedefaults": {
           "line": {
            "color": "#2a3f5f"
           }
          },
          "ternary": {
           "aaxis": {
            "gridcolor": "white",
            "linecolor": "white",
            "ticks": ""
           },
           "baxis": {
            "gridcolor": "white",
            "linecolor": "white",
            "ticks": ""
           },
           "bgcolor": "#E5ECF6",
           "caxis": {
            "gridcolor": "white",
            "linecolor": "white",
            "ticks": ""
           }
          },
          "title": {
           "x": 0.05
          },
          "xaxis": {
           "automargin": true,
           "gridcolor": "white",
           "linecolor": "white",
           "ticks": "",
           "title": {
            "standoff": 15
           },
           "zerolinecolor": "white",
           "zerolinewidth": 2
          },
          "yaxis": {
           "automargin": true,
           "gridcolor": "white",
           "linecolor": "white",
           "ticks": "",
           "title": {
            "standoff": 15
           },
           "zerolinecolor": "white",
           "zerolinewidth": 2
          }
         }
        },
        "title": {
         "text": "Cantidad de Restaurantes por Municipio"
        }
       }
      }
     },
     "metadata": {},
     "output_type": "display_data"
    },
    {
     "name": "stdout",
     "output_type": "stream",
     "text": [
      "Total de Restaurantes:  223\n"
     ]
    }
   ],
   "source": [
    "#Tabla con la cantidad de jsons que hay de cada municipio :)\n",
    "municipio = data2[\"location.municipe\"].str.lower().str.strip()\n",
    "\n",
    "restaurantes_municipio = municipio.value_counts().reset_index()\n",
    "restaurantes_municipio.columns = [\"municipio\", \"cantidad_restaurantes\"]\n",
    "\n",
    "\n",
    "fig = go.Figure(data=[go.Table(\n",
    "    header=dict(values=[\"Municipio\", \"Cantidad de Restaurantes\"],\n",
    "                fill_color=\"green\",\n",
    "                align=\"left\"),\n",
    "    cells=dict(values=[restaurantes_municipio[\"municipio\"], restaurantes_municipio[\"cantidad_restaurantes\"]],\n",
    "               fill_color=\"lavender\",\n",
    "               align=\"left\"))\n",
    "])\n",
    "\n",
    "\n",
    "fig.update_layout(title=\"Cantidad de Restaurantes por Municipio\")\n",
    "fig.show()\n",
    "\n",
    "total = restaurantes_municipio['cantidad_restaurantes'].sum()\n",
    "print(\"Total de Restaurantes: \",total)\n"
   ]
  },
  {
   "cell_type": "markdown",
   "metadata": {},
   "source": [
    "Lo primero era estudiar el mercado para conocer los precios de la competencia, él quería que sus precios estuvieran por debajo de una gran parte de los restaurantes de \"glamour\", que como le decía su madre: \"mijo ese lugar es solo para turistas\", porque siempre consideró los precios \"locos\" un abuso para el cubano de a pie y quería que su restaurante, aunque no tuviera mucho lujo, fuera algo absequible al menos para la mayoría."
   ]
  },
  {
   "cell_type": "code",
   "execution_count": 63,
   "metadata": {},
   "outputs": [
    {
     "data": {
      "application/vnd.jupyter.widget-view+json": {
       "model_id": "e7ea6593af914755ad3ce65954530760",
       "version_major": 2,
       "version_minor": 0
      },
      "text/plain": [
       "interactive(children=(Dropdown(description='Municipio:', options=('regla', 'marianao', 'boyeros', 'habana del …"
      ]
     },
     "metadata": {},
     "output_type": "display_data"
    },
    {
     "data": {
      "text/plain": [
       "<function __main__.mostrar_tabla(i)>"
      ]
     },
     "execution_count": 63,
     "metadata": {},
     "output_type": "execute_result"
    }
   ],
   "source": [
    "#Tabla interactiva que muestra el promedio de los precios de los diferentes menus :)\n",
    "\n",
    "data2[\"menu_price\"] = data2.apply(bp.c_precio_medio, axis=1)\n",
    "\n",
    "data3 = data2.dropna(subset=[\"menu_price\"])\n",
    "\n",
    "data3 = data2.sort_values(by=[\"location.municipe\", \"menu_price\"], ascending=[True, True])\n",
    "\n",
    "municipios = data2[\"location.municipe\"].unique()\n",
    "municipios_arreglados = [municipio.lower().strip() for municipio in municipios]\n",
    "info_municipio = {}\n",
    "for i in municipios_arreglados:\n",
    "    info_municipio[i] = data3[data3[\"location.municipe\"] == i ]\n",
    "\n",
    "def mostrar_tabla(i):\n",
    "    display(info_municipio[i][[\"name\", \"menu_price\"]])\n",
    "\n",
    "selector_municipio = wi.Dropdown(options=municipios_arreglados, description=\"Municipio:\")\n",
    "wi.interact(mostrar_tabla, i=selector_municipio)\n",
    "\n"
   ]
  },
  {
   "cell_type": "markdown",
   "metadata": {},
   "source": [
    "Después que quedó comprobado que la media de los precios de los diferentes citios iban desde los 400 cup en pequeños cafés, o cafeterias estatales, hasta 4000 cup en restaurantes más refiinados en el corazón del Vedado o en las históricas plazas de la Habana Vieja, decidió que el suyo tendría un media de 1000 cup ya conocía el dato de que el salario medio de los cubanos es de 4.648 cup según la Oficina Nacional de Estadística e Información (ONEI) y dado que el precio medio de su restaurante vendría siendo el 21.51% de del sueldo, no le parecía lo más correcto, pero no podía hacer nada más debido al aumento de los precios de los productos que necesitaría para elaborar su menú.\n",
    "\n",
    "\n",
    "\n"
   ]
  },
  {
   "cell_type": "markdown",
   "metadata": {},
   "source": [
    "\n",
    "![2](Plato.png)\n"
   ]
  },
  {
   "cell_type": "markdown",
   "metadata": {},
   "source": [
    "Ay!!, mijo lo único que te va a pedir tu madre es que por favor no me pongas a preparar moderneses tu sabes que mi cocina es a la antigua y compra sazones naturales que para tí no es novedad el odio que le tengo a cocinar con polvitos de esos.\n",
    "\n",
    "-Alejandro: Tranquila vieja, aquí se cocina lo que tú digas y sabes que no hay cosa que nos guste más a nosotros que los platillos comunes, aqui no somos de caviar, ni de salmón, hasta el restaurante mas glamuroso de La Habana tiene que tener en su menú una oferta de ropa vieja y unas buenas croquetas."
   ]
  },
  {
   "cell_type": "code",
   "execution_count": 55,
   "metadata": {},
   "outputs": [
    {
     "data": {
      "application/vnd.plotly.v1+json": {
       "config": {
        "plotlyServerURL": "https://plot.ly"
       },
       "data": [
        {
         "marker": {
          "color": "red"
         },
         "name": "Entrantes",
         "type": "bar",
         "visible": true,
         "x": [
          "croquetas",
          "frituras de malanga",
          "papas fritas"
         ],
         "y": [
          43,
          43,
          37
         ]
        },
        {
         "marker": {
          "color": "blue"
         },
         "name": "Principales",
         "type": "bar",
         "visible": false,
         "x": [
          "ropa vieja",
          "bistec de cerdo",
          "vaca frita"
         ],
         "y": [
          47,
          30,
          29
         ]
        },
        {
         "marker": {
          "color": "green"
         },
         "name": "Pizzas",
         "type": "bar",
         "visible": false,
         "x": [
          "pizza napolitana",
          "pizza hawaiana",
          "pizza de jamon"
         ],
         "y": [
          38,
          30,
          19
         ]
        },
        {
         "marker": {
          "color": "orange"
         },
         "name": "Postres",
         "type": "bar",
         "visible": false,
         "x": [
          "flan",
          "copa de helado",
          "copa lolita"
         ],
         "y": [
          19,
          17,
          15
         ]
        },
        {
         "marker": {
          "color": "purple"
         },
         "name": "Cocteles",
         "type": "bar",
         "visible": false,
         "x": [
          "cuba libre",
          "mojito",
          "caipiroska"
         ],
         "y": [
          69,
          65,
          61
         ]
        }
       ],
       "layout": {
        "template": {
         "data": {
          "bar": [
           {
            "error_x": {
             "color": "#2a3f5f"
            },
            "error_y": {
             "color": "#2a3f5f"
            },
            "marker": {
             "line": {
              "color": "#E5ECF6",
              "width": 0.5
             },
             "pattern": {
              "fillmode": "overlay",
              "size": 10,
              "solidity": 0.2
             }
            },
            "type": "bar"
           }
          ],
          "barpolar": [
           {
            "marker": {
             "line": {
              "color": "#E5ECF6",
              "width": 0.5
             },
             "pattern": {
              "fillmode": "overlay",
              "size": 10,
              "solidity": 0.2
             }
            },
            "type": "barpolar"
           }
          ],
          "carpet": [
           {
            "aaxis": {
             "endlinecolor": "#2a3f5f",
             "gridcolor": "white",
             "linecolor": "white",
             "minorgridcolor": "white",
             "startlinecolor": "#2a3f5f"
            },
            "baxis": {
             "endlinecolor": "#2a3f5f",
             "gridcolor": "white",
             "linecolor": "white",
             "minorgridcolor": "white",
             "startlinecolor": "#2a3f5f"
            },
            "type": "carpet"
           }
          ],
          "choropleth": [
           {
            "colorbar": {
             "outlinewidth": 0,
             "ticks": ""
            },
            "type": "choropleth"
           }
          ],
          "contour": [
           {
            "colorbar": {
             "outlinewidth": 0,
             "ticks": ""
            },
            "colorscale": [
             [
              0,
              "#0d0887"
             ],
             [
              0.1111111111111111,
              "#46039f"
             ],
             [
              0.2222222222222222,
              "#7201a8"
             ],
             [
              0.3333333333333333,
              "#9c179e"
             ],
             [
              0.4444444444444444,
              "#bd3786"
             ],
             [
              0.5555555555555556,
              "#d8576b"
             ],
             [
              0.6666666666666666,
              "#ed7953"
             ],
             [
              0.7777777777777778,
              "#fb9f3a"
             ],
             [
              0.8888888888888888,
              "#fdca26"
             ],
             [
              1,
              "#f0f921"
             ]
            ],
            "type": "contour"
           }
          ],
          "contourcarpet": [
           {
            "colorbar": {
             "outlinewidth": 0,
             "ticks": ""
            },
            "type": "contourcarpet"
           }
          ],
          "heatmap": [
           {
            "colorbar": {
             "outlinewidth": 0,
             "ticks": ""
            },
            "colorscale": [
             [
              0,
              "#0d0887"
             ],
             [
              0.1111111111111111,
              "#46039f"
             ],
             [
              0.2222222222222222,
              "#7201a8"
             ],
             [
              0.3333333333333333,
              "#9c179e"
             ],
             [
              0.4444444444444444,
              "#bd3786"
             ],
             [
              0.5555555555555556,
              "#d8576b"
             ],
             [
              0.6666666666666666,
              "#ed7953"
             ],
             [
              0.7777777777777778,
              "#fb9f3a"
             ],
             [
              0.8888888888888888,
              "#fdca26"
             ],
             [
              1,
              "#f0f921"
             ]
            ],
            "type": "heatmap"
           }
          ],
          "heatmapgl": [
           {
            "colorbar": {
             "outlinewidth": 0,
             "ticks": ""
            },
            "colorscale": [
             [
              0,
              "#0d0887"
             ],
             [
              0.1111111111111111,
              "#46039f"
             ],
             [
              0.2222222222222222,
              "#7201a8"
             ],
             [
              0.3333333333333333,
              "#9c179e"
             ],
             [
              0.4444444444444444,
              "#bd3786"
             ],
             [
              0.5555555555555556,
              "#d8576b"
             ],
             [
              0.6666666666666666,
              "#ed7953"
             ],
             [
              0.7777777777777778,
              "#fb9f3a"
             ],
             [
              0.8888888888888888,
              "#fdca26"
             ],
             [
              1,
              "#f0f921"
             ]
            ],
            "type": "heatmapgl"
           }
          ],
          "histogram": [
           {
            "marker": {
             "pattern": {
              "fillmode": "overlay",
              "size": 10,
              "solidity": 0.2
             }
            },
            "type": "histogram"
           }
          ],
          "histogram2d": [
           {
            "colorbar": {
             "outlinewidth": 0,
             "ticks": ""
            },
            "colorscale": [
             [
              0,
              "#0d0887"
             ],
             [
              0.1111111111111111,
              "#46039f"
             ],
             [
              0.2222222222222222,
              "#7201a8"
             ],
             [
              0.3333333333333333,
              "#9c179e"
             ],
             [
              0.4444444444444444,
              "#bd3786"
             ],
             [
              0.5555555555555556,
              "#d8576b"
             ],
             [
              0.6666666666666666,
              "#ed7953"
             ],
             [
              0.7777777777777778,
              "#fb9f3a"
             ],
             [
              0.8888888888888888,
              "#fdca26"
             ],
             [
              1,
              "#f0f921"
             ]
            ],
            "type": "histogram2d"
           }
          ],
          "histogram2dcontour": [
           {
            "colorbar": {
             "outlinewidth": 0,
             "ticks": ""
            },
            "colorscale": [
             [
              0,
              "#0d0887"
             ],
             [
              0.1111111111111111,
              "#46039f"
             ],
             [
              0.2222222222222222,
              "#7201a8"
             ],
             [
              0.3333333333333333,
              "#9c179e"
             ],
             [
              0.4444444444444444,
              "#bd3786"
             ],
             [
              0.5555555555555556,
              "#d8576b"
             ],
             [
              0.6666666666666666,
              "#ed7953"
             ],
             [
              0.7777777777777778,
              "#fb9f3a"
             ],
             [
              0.8888888888888888,
              "#fdca26"
             ],
             [
              1,
              "#f0f921"
             ]
            ],
            "type": "histogram2dcontour"
           }
          ],
          "mesh3d": [
           {
            "colorbar": {
             "outlinewidth": 0,
             "ticks": ""
            },
            "type": "mesh3d"
           }
          ],
          "parcoords": [
           {
            "line": {
             "colorbar": {
              "outlinewidth": 0,
              "ticks": ""
             }
            },
            "type": "parcoords"
           }
          ],
          "pie": [
           {
            "automargin": true,
            "type": "pie"
           }
          ],
          "scatter": [
           {
            "fillpattern": {
             "fillmode": "overlay",
             "size": 10,
             "solidity": 0.2
            },
            "type": "scatter"
           }
          ],
          "scatter3d": [
           {
            "line": {
             "colorbar": {
              "outlinewidth": 0,
              "ticks": ""
             }
            },
            "marker": {
             "colorbar": {
              "outlinewidth": 0,
              "ticks": ""
             }
            },
            "type": "scatter3d"
           }
          ],
          "scattercarpet": [
           {
            "marker": {
             "colorbar": {
              "outlinewidth": 0,
              "ticks": ""
             }
            },
            "type": "scattercarpet"
           }
          ],
          "scattergeo": [
           {
            "marker": {
             "colorbar": {
              "outlinewidth": 0,
              "ticks": ""
             }
            },
            "type": "scattergeo"
           }
          ],
          "scattergl": [
           {
            "marker": {
             "colorbar": {
              "outlinewidth": 0,
              "ticks": ""
             }
            },
            "type": "scattergl"
           }
          ],
          "scattermapbox": [
           {
            "marker": {
             "colorbar": {
              "outlinewidth": 0,
              "ticks": ""
             }
            },
            "type": "scattermapbox"
           }
          ],
          "scatterpolar": [
           {
            "marker": {
             "colorbar": {
              "outlinewidth": 0,
              "ticks": ""
             }
            },
            "type": "scatterpolar"
           }
          ],
          "scatterpolargl": [
           {
            "marker": {
             "colorbar": {
              "outlinewidth": 0,
              "ticks": ""
             }
            },
            "type": "scatterpolargl"
           }
          ],
          "scatterternary": [
           {
            "marker": {
             "colorbar": {
              "outlinewidth": 0,
              "ticks": ""
             }
            },
            "type": "scatterternary"
           }
          ],
          "surface": [
           {
            "colorbar": {
             "outlinewidth": 0,
             "ticks": ""
            },
            "colorscale": [
             [
              0,
              "#0d0887"
             ],
             [
              0.1111111111111111,
              "#46039f"
             ],
             [
              0.2222222222222222,
              "#7201a8"
             ],
             [
              0.3333333333333333,
              "#9c179e"
             ],
             [
              0.4444444444444444,
              "#bd3786"
             ],
             [
              0.5555555555555556,
              "#d8576b"
             ],
             [
              0.6666666666666666,
              "#ed7953"
             ],
             [
              0.7777777777777778,
              "#fb9f3a"
             ],
             [
              0.8888888888888888,
              "#fdca26"
             ],
             [
              1,
              "#f0f921"
             ]
            ],
            "type": "surface"
           }
          ],
          "table": [
           {
            "cells": {
             "fill": {
              "color": "#EBF0F8"
             },
             "line": {
              "color": "white"
             }
            },
            "header": {
             "fill": {
              "color": "#C8D4E3"
             },
             "line": {
              "color": "white"
             }
            },
            "type": "table"
           }
          ]
         },
         "layout": {
          "annotationdefaults": {
           "arrowcolor": "#2a3f5f",
           "arrowhead": 0,
           "arrowwidth": 1
          },
          "autotypenumbers": "strict",
          "coloraxis": {
           "colorbar": {
            "outlinewidth": 0,
            "ticks": ""
           }
          },
          "colorscale": {
           "diverging": [
            [
             0,
             "#8e0152"
            ],
            [
             0.1,
             "#c51b7d"
            ],
            [
             0.2,
             "#de77ae"
            ],
            [
             0.3,
             "#f1b6da"
            ],
            [
             0.4,
             "#fde0ef"
            ],
            [
             0.5,
             "#f7f7f7"
            ],
            [
             0.6,
             "#e6f5d0"
            ],
            [
             0.7,
             "#b8e186"
            ],
            [
             0.8,
             "#7fbc41"
            ],
            [
             0.9,
             "#4d9221"
            ],
            [
             1,
             "#276419"
            ]
           ],
           "sequential": [
            [
             0,
             "#0d0887"
            ],
            [
             0.1111111111111111,
             "#46039f"
            ],
            [
             0.2222222222222222,
             "#7201a8"
            ],
            [
             0.3333333333333333,
             "#9c179e"
            ],
            [
             0.4444444444444444,
             "#bd3786"
            ],
            [
             0.5555555555555556,
             "#d8576b"
            ],
            [
             0.6666666666666666,
             "#ed7953"
            ],
            [
             0.7777777777777778,
             "#fb9f3a"
            ],
            [
             0.8888888888888888,
             "#fdca26"
            ],
            [
             1,
             "#f0f921"
            ]
           ],
           "sequentialminus": [
            [
             0,
             "#0d0887"
            ],
            [
             0.1111111111111111,
             "#46039f"
            ],
            [
             0.2222222222222222,
             "#7201a8"
            ],
            [
             0.3333333333333333,
             "#9c179e"
            ],
            [
             0.4444444444444444,
             "#bd3786"
            ],
            [
             0.5555555555555556,
             "#d8576b"
            ],
            [
             0.6666666666666666,
             "#ed7953"
            ],
            [
             0.7777777777777778,
             "#fb9f3a"
            ],
            [
             0.8888888888888888,
             "#fdca26"
            ],
            [
             1,
             "#f0f921"
            ]
           ]
          },
          "colorway": [
           "#636efa",
           "#EF553B",
           "#00cc96",
           "#ab63fa",
           "#FFA15A",
           "#19d3f3",
           "#FF6692",
           "#B6E880",
           "#FF97FF",
           "#FECB52"
          ],
          "font": {
           "color": "#2a3f5f"
          },
          "geo": {
           "bgcolor": "white",
           "lakecolor": "white",
           "landcolor": "#E5ECF6",
           "showlakes": true,
           "showland": true,
           "subunitcolor": "white"
          },
          "hoverlabel": {
           "align": "left"
          },
          "hovermode": "closest",
          "mapbox": {
           "style": "light"
          },
          "paper_bgcolor": "white",
          "plot_bgcolor": "#E5ECF6",
          "polar": {
           "angularaxis": {
            "gridcolor": "white",
            "linecolor": "white",
            "ticks": ""
           },
           "bgcolor": "#E5ECF6",
           "radialaxis": {
            "gridcolor": "white",
            "linecolor": "white",
            "ticks": ""
           }
          },
          "scene": {
           "xaxis": {
            "backgroundcolor": "#E5ECF6",
            "gridcolor": "white",
            "gridwidth": 2,
            "linecolor": "white",
            "showbackground": true,
            "ticks": "",
            "zerolinecolor": "white"
           },
           "yaxis": {
            "backgroundcolor": "#E5ECF6",
            "gridcolor": "white",
            "gridwidth": 2,
            "linecolor": "white",
            "showbackground": true,
            "ticks": "",
            "zerolinecolor": "white"
           },
           "zaxis": {
            "backgroundcolor": "#E5ECF6",
            "gridcolor": "white",
            "gridwidth": 2,
            "linecolor": "white",
            "showbackground": true,
            "ticks": "",
            "zerolinecolor": "white"
           }
          },
          "shapedefaults": {
           "line": {
            "color": "#2a3f5f"
           }
          },
          "ternary": {
           "aaxis": {
            "gridcolor": "white",
            "linecolor": "white",
            "ticks": ""
           },
           "baxis": {
            "gridcolor": "white",
            "linecolor": "white",
            "ticks": ""
           },
           "bgcolor": "#E5ECF6",
           "caxis": {
            "gridcolor": "white",
            "linecolor": "white",
            "ticks": ""
           }
          },
          "title": {
           "x": 0.05
          },
          "xaxis": {
           "automargin": true,
           "gridcolor": "white",
           "linecolor": "white",
           "ticks": "",
           "title": {
            "standoff": 15
           },
           "zerolinecolor": "white",
           "zerolinewidth": 2
          },
          "yaxis": {
           "automargin": true,
           "gridcolor": "white",
           "linecolor": "white",
           "ticks": "",
           "title": {
            "standoff": 15
           },
           "zerolinecolor": "white",
           "zerolinewidth": 2
          }
         }
        },
        "updatemenus": [
         {
          "buttons": [
           {
            "args": [
             {
              "visible": [
               true,
               false,
               false,
               false,
               false
              ]
             },
             {
              "title": "Entrantes mas comunes"
             }
            ],
            "label": "Entrantes",
            "method": "update"
           },
           {
            "args": [
             {
              "visible": [
               false,
               true,
               false,
               false,
               false
              ]
             },
             {
              "title": "Principales mas comunes"
             }
            ],
            "label": "Principales",
            "method": "update"
           },
           {
            "args": [
             {
              "visible": [
               false,
               false,
               true,
               false,
               false
              ]
             },
             {
              "title": "Pizzas mas comunes"
             }
            ],
            "label": "Pizzas",
            "method": "update"
           },
           {
            "args": [
             {
              "visible": [
               false,
               false,
               false,
               true,
               false
              ]
             },
             {
              "title": "Postres mas comunes"
             }
            ],
            "label": "Postres",
            "method": "update"
           },
           {
            "args": [
             {
              "visible": [
               false,
               false,
               false,
               false,
               true
              ]
             },
             {
              "title": "Cocteles mas comunes"
             }
            ],
            "label": "Cocteles",
            "method": "update"
           }
          ],
          "showactive": true,
          "type": "buttons"
         }
        ]
       }
      }
     },
     "metadata": {},
     "output_type": "display_data"
    }
   ],
   "source": [
    "#Grafico de barras que muestra cuales son los 3 (entrantes,principales,pizzas,postres,cocteles) mas comunes en los menus :)\n",
    "\n",
    "entrantes_nombres = []\n",
    "entrantes_comunes = []\n",
    "\n",
    "for i, row in data.iterrows():\n",
    "    menus = row[\"menu\"]\n",
    "    if isinstance(menus, dict) and \"starters\" in menus:  \n",
    "        for starter in menus[\"starters\"]:\n",
    "            nombre = starter.get(\"item_name\")\n",
    "            if nombre is not None: \n",
    "                nombre_igualado =bp.i_nombre(nombre)\n",
    "                entrantes_nombres.append(nombre_igualado)\n",
    "counter = Counter(entrantes_nombres)\n",
    "tres_mas_comunes = counter.most_common(3)\n",
    "for nombre, frecuencia in tres_mas_comunes:\n",
    "    entrantes_comunes.append((nombre, frecuencia))\n",
    "    \n",
    "\n",
    "principales_nombres = []\n",
    "principales_comunes = []\n",
    "\n",
    "for i, row in data.iterrows():\n",
    "    menus = row[\"menu\"]\n",
    "    if isinstance(menus, dict) and \"mains\" in menus:  \n",
    "        for starter in menus[\"mains\"]:\n",
    "            nombre = starter.get(\"item_name\")\n",
    "            if nombre is not None: \n",
    "                nombre_igualado = bp.i_nombre(nombre)\n",
    "                principales_nombres.append(nombre_igualado)\n",
    "counter = Counter(principales_nombres)\n",
    "tres_mas_comunes = counter.most_common(3)\n",
    "for nombre, frecuencia in tres_mas_comunes:\n",
    "    principales_comunes.append((nombre, frecuencia))\n",
    "\n",
    "pizza_nombres = []\n",
    "pizza_comunes = []\n",
    "\n",
    "for i, row in data.iterrows():\n",
    "    menus = row[\"menu\"]\n",
    "    if isinstance(menus, dict) and \"pizza\" in menus:  \n",
    "        for starter in menus[\"pizza\"]:\n",
    "            nombre = starter.get(\"item_name\")\n",
    "            if nombre is not None: \n",
    "                nombre_igualado = bp.i_nombre(nombre)\n",
    "                pizza_nombres.append(nombre_igualado)\n",
    "counter = Counter(pizza_nombres)\n",
    "tres_mas_comunes = counter.most_common(3)\n",
    "for nombre, frecuencia in tres_mas_comunes:\n",
    "    pizza_comunes.append((nombre, frecuencia))\n",
    "\n",
    "postres_nombres = []\n",
    "postres_comunes = []\n",
    "\n",
    "for i, row in data.iterrows():\n",
    "    menus = row[\"menu\"]\n",
    "    if isinstance(menus, dict) and \"desserts\" in menus:  \n",
    "        for starter in menus[\"desserts\"]:\n",
    "            nombre = starter.get(\"item_name\")\n",
    "            if nombre is not None: \n",
    "                nombre_igualado = bp.i_nombre(nombre)\n",
    "                postres_nombres.append(nombre_igualado)\n",
    "counter = Counter(postres_nombres)\n",
    "tres_mas_comunes = counter.most_common(3)\n",
    "for nombre, frecuencia in tres_mas_comunes:\n",
    "    postres_comunes.append((nombre, frecuencia))\n",
    "\n",
    "\n",
    "cocteles_nombres = []\n",
    "cocteles_comunes = []\n",
    "for i, row in data.iterrows():\n",
    "    menus = row[\"menu\"]\n",
    "    if isinstance(menus, dict) and \"cocktails\" in menus:  \n",
    "        for cocktail in menus[\"cocktails\"]:\n",
    "            nombre = cocktail.get(\"item_name\")\n",
    "            if nombre is not None: \n",
    "                nombre_igualado = bp.i_nombre(nombre)\n",
    "                cocteles_nombres.append(nombre_igualado)\n",
    "counter = Counter(cocteles_nombres)\n",
    "tres_mas_comunes = counter.most_common(3)\n",
    "for nombre, frecuencia in tres_mas_comunes:\n",
    "    cocteles_comunes.append((nombre, frecuencia))\n",
    "\n",
    "starters = entrantes_comunes\n",
    "mains = principales_comunes\n",
    "pizzas = pizza_comunes\n",
    "desserts = postres_comunes\n",
    "cocktails = cocteles_comunes\n",
    "\n",
    "grafico_starters = bp.c_grafico(starters, \"Entrantes\", \"red\")\n",
    "grafico_mains = bp.c_grafico(mains, \"Principales\", \"blue\")\n",
    "grafico_pizzas = bp.c_grafico(pizzas, \"Pizzas\",\"green\")\n",
    "grafico_desserts = bp.c_grafico(desserts, \"Postres\", \"orange\")\n",
    "grafico_cocktails = bp.c_grafico(cocktails, \"Cocteles\", \"purple\")\n",
    "\n",
    "\n",
    "fig = go.Figure()\n",
    "\n",
    "\n",
    "fig.add_traces([grafico_starters, grafico_mains, grafico_pizzas, grafico_desserts, grafico_cocktails])\n",
    "\n",
    "fig.update_traces(visible=False)\n",
    "fig.data[0].visible = True  \n",
    "\n",
    "\n",
    "buttons = [\n",
    "    dict(label=\"Entrantes\", method=\"update\", args=[{\"visible\": [True, False, False, False, False]}, {\"title\": \"Entrantes mas comunes\"}]),\n",
    "    dict(label=\"Principales\", method=\"update\", args=[{\"visible\": [False, True, False, False, False]}, {\"title\": \"Principales mas comunes\"}]),\n",
    "    dict(label=\"Pizzas\", method=\"update\", args=[{\"visible\": [False, False, True, False, False]}, {\"title\": \"Pizzas mas comunes\"}]),\n",
    "    dict(label=\"Postres\", method=\"update\", args=[{\"visible\": [False, False, False, True, False]}, {\"title\": \"Postres mas comunes\"}]),\n",
    "    dict(label=\"Cocteles\", method=\"update\", args=[{\"visible\": [False, False, False, False, True]}, {\"title\": \"Cocteles mas comunes\"}]),]\n",
    "   \n",
    "fig.update_layout(\n",
    "    updatemenus=[\n",
    "        dict(\n",
    "            type=\"buttons\",\n",
    "            showactive=True,\n",
    "            buttons=buttons,\n",
    "        )\n",
    "    ]\n",
    ")\n",
    "\n",
    "pio.show(fig)"
   ]
  },
  {
   "cell_type": "markdown",
   "metadata": {},
   "source": [
    "Necesitaría saber cuales son los productos más caros que tendría que comprar para ir haciéndome una idea de cual tendría que ser la inversion en materia prima.\n",
    "\n",
    "-Caridad: Hay alejandro ni que fueras bobo, aqui todos sabemos que los más caros es la carne\n",
    "\n",
    "Pero para que las cosas salgan bien todo conlleva una investigación."
   ]
  },
  {
   "cell_type": "code",
   "execution_count": 64,
   "metadata": {},
   "outputs": [
    {
     "data": {
      "application/vnd.plotly.v1+json": {
       "config": {
        "plotlyServerURL": "https://plot.ly"
       },
       "data": [
        {
         "alignmentgroup": "True",
         "hovertemplate": "Nombre del Plato=%{x}<br>Precio ($)=%{y}<extra></extra>",
         "legendgroup": "",
         "marker": {
          "color": "#636efa",
          "pattern": {
           "shape": ""
          }
         },
         "name": "",
         "offsetgroup": "",
         "orientation": "v",
         "showlegend": false,
         "textposition": "auto",
         "type": "bar",
         "x": [
          "Tomahawk Steak",
          "Mar y tierra",
          "tomahawk",
          "1kg cerdo asado",
          "Barbacoa para dos"
         ],
         "xaxis": "x",
         "y": [
          19200,
          19000,
          16500,
          15000,
          14000
         ],
         "yaxis": "y"
        }
       ],
       "layout": {
        "barmode": "relative",
        "legend": {
         "tracegroupgap": 0
        },
        "template": {
         "data": {
          "bar": [
           {
            "error_x": {
             "color": "#2a3f5f"
            },
            "error_y": {
             "color": "#2a3f5f"
            },
            "marker": {
             "line": {
              "color": "#E5ECF6",
              "width": 0.5
             },
             "pattern": {
              "fillmode": "overlay",
              "size": 10,
              "solidity": 0.2
             }
            },
            "type": "bar"
           }
          ],
          "barpolar": [
           {
            "marker": {
             "line": {
              "color": "#E5ECF6",
              "width": 0.5
             },
             "pattern": {
              "fillmode": "overlay",
              "size": 10,
              "solidity": 0.2
             }
            },
            "type": "barpolar"
           }
          ],
          "carpet": [
           {
            "aaxis": {
             "endlinecolor": "#2a3f5f",
             "gridcolor": "white",
             "linecolor": "white",
             "minorgridcolor": "white",
             "startlinecolor": "#2a3f5f"
            },
            "baxis": {
             "endlinecolor": "#2a3f5f",
             "gridcolor": "white",
             "linecolor": "white",
             "minorgridcolor": "white",
             "startlinecolor": "#2a3f5f"
            },
            "type": "carpet"
           }
          ],
          "choropleth": [
           {
            "colorbar": {
             "outlinewidth": 0,
             "ticks": ""
            },
            "type": "choropleth"
           }
          ],
          "contour": [
           {
            "colorbar": {
             "outlinewidth": 0,
             "ticks": ""
            },
            "colorscale": [
             [
              0,
              "#0d0887"
             ],
             [
              0.1111111111111111,
              "#46039f"
             ],
             [
              0.2222222222222222,
              "#7201a8"
             ],
             [
              0.3333333333333333,
              "#9c179e"
             ],
             [
              0.4444444444444444,
              "#bd3786"
             ],
             [
              0.5555555555555556,
              "#d8576b"
             ],
             [
              0.6666666666666666,
              "#ed7953"
             ],
             [
              0.7777777777777778,
              "#fb9f3a"
             ],
             [
              0.8888888888888888,
              "#fdca26"
             ],
             [
              1,
              "#f0f921"
             ]
            ],
            "type": "contour"
           }
          ],
          "contourcarpet": [
           {
            "colorbar": {
             "outlinewidth": 0,
             "ticks": ""
            },
            "type": "contourcarpet"
           }
          ],
          "heatmap": [
           {
            "colorbar": {
             "outlinewidth": 0,
             "ticks": ""
            },
            "colorscale": [
             [
              0,
              "#0d0887"
             ],
             [
              0.1111111111111111,
              "#46039f"
             ],
             [
              0.2222222222222222,
              "#7201a8"
             ],
             [
              0.3333333333333333,
              "#9c179e"
             ],
             [
              0.4444444444444444,
              "#bd3786"
             ],
             [
              0.5555555555555556,
              "#d8576b"
             ],
             [
              0.6666666666666666,
              "#ed7953"
             ],
             [
              0.7777777777777778,
              "#fb9f3a"
             ],
             [
              0.8888888888888888,
              "#fdca26"
             ],
             [
              1,
              "#f0f921"
             ]
            ],
            "type": "heatmap"
           }
          ],
          "heatmapgl": [
           {
            "colorbar": {
             "outlinewidth": 0,
             "ticks": ""
            },
            "colorscale": [
             [
              0,
              "#0d0887"
             ],
             [
              0.1111111111111111,
              "#46039f"
             ],
             [
              0.2222222222222222,
              "#7201a8"
             ],
             [
              0.3333333333333333,
              "#9c179e"
             ],
             [
              0.4444444444444444,
              "#bd3786"
             ],
             [
              0.5555555555555556,
              "#d8576b"
             ],
             [
              0.6666666666666666,
              "#ed7953"
             ],
             [
              0.7777777777777778,
              "#fb9f3a"
             ],
             [
              0.8888888888888888,
              "#fdca26"
             ],
             [
              1,
              "#f0f921"
             ]
            ],
            "type": "heatmapgl"
           }
          ],
          "histogram": [
           {
            "marker": {
             "pattern": {
              "fillmode": "overlay",
              "size": 10,
              "solidity": 0.2
             }
            },
            "type": "histogram"
           }
          ],
          "histogram2d": [
           {
            "colorbar": {
             "outlinewidth": 0,
             "ticks": ""
            },
            "colorscale": [
             [
              0,
              "#0d0887"
             ],
             [
              0.1111111111111111,
              "#46039f"
             ],
             [
              0.2222222222222222,
              "#7201a8"
             ],
             [
              0.3333333333333333,
              "#9c179e"
             ],
             [
              0.4444444444444444,
              "#bd3786"
             ],
             [
              0.5555555555555556,
              "#d8576b"
             ],
             [
              0.6666666666666666,
              "#ed7953"
             ],
             [
              0.7777777777777778,
              "#fb9f3a"
             ],
             [
              0.8888888888888888,
              "#fdca26"
             ],
             [
              1,
              "#f0f921"
             ]
            ],
            "type": "histogram2d"
           }
          ],
          "histogram2dcontour": [
           {
            "colorbar": {
             "outlinewidth": 0,
             "ticks": ""
            },
            "colorscale": [
             [
              0,
              "#0d0887"
             ],
             [
              0.1111111111111111,
              "#46039f"
             ],
             [
              0.2222222222222222,
              "#7201a8"
             ],
             [
              0.3333333333333333,
              "#9c179e"
             ],
             [
              0.4444444444444444,
              "#bd3786"
             ],
             [
              0.5555555555555556,
              "#d8576b"
             ],
             [
              0.6666666666666666,
              "#ed7953"
             ],
             [
              0.7777777777777778,
              "#fb9f3a"
             ],
             [
              0.8888888888888888,
              "#fdca26"
             ],
             [
              1,
              "#f0f921"
             ]
            ],
            "type": "histogram2dcontour"
           }
          ],
          "mesh3d": [
           {
            "colorbar": {
             "outlinewidth": 0,
             "ticks": ""
            },
            "type": "mesh3d"
           }
          ],
          "parcoords": [
           {
            "line": {
             "colorbar": {
              "outlinewidth": 0,
              "ticks": ""
             }
            },
            "type": "parcoords"
           }
          ],
          "pie": [
           {
            "automargin": true,
            "type": "pie"
           }
          ],
          "scatter": [
           {
            "fillpattern": {
             "fillmode": "overlay",
             "size": 10,
             "solidity": 0.2
            },
            "type": "scatter"
           }
          ],
          "scatter3d": [
           {
            "line": {
             "colorbar": {
              "outlinewidth": 0,
              "ticks": ""
             }
            },
            "marker": {
             "colorbar": {
              "outlinewidth": 0,
              "ticks": ""
             }
            },
            "type": "scatter3d"
           }
          ],
          "scattercarpet": [
           {
            "marker": {
             "colorbar": {
              "outlinewidth": 0,
              "ticks": ""
             }
            },
            "type": "scattercarpet"
           }
          ],
          "scattergeo": [
           {
            "marker": {
             "colorbar": {
              "outlinewidth": 0,
              "ticks": ""
             }
            },
            "type": "scattergeo"
           }
          ],
          "scattergl": [
           {
            "marker": {
             "colorbar": {
              "outlinewidth": 0,
              "ticks": ""
             }
            },
            "type": "scattergl"
           }
          ],
          "scattermapbox": [
           {
            "marker": {
             "colorbar": {
              "outlinewidth": 0,
              "ticks": ""
             }
            },
            "type": "scattermapbox"
           }
          ],
          "scatterpolar": [
           {
            "marker": {
             "colorbar": {
              "outlinewidth": 0,
              "ticks": ""
             }
            },
            "type": "scatterpolar"
           }
          ],
          "scatterpolargl": [
           {
            "marker": {
             "colorbar": {
              "outlinewidth": 0,
              "ticks": ""
             }
            },
            "type": "scatterpolargl"
           }
          ],
          "scatterternary": [
           {
            "marker": {
             "colorbar": {
              "outlinewidth": 0,
              "ticks": ""
             }
            },
            "type": "scatterternary"
           }
          ],
          "surface": [
           {
            "colorbar": {
             "outlinewidth": 0,
             "ticks": ""
            },
            "colorscale": [
             [
              0,
              "#0d0887"
             ],
             [
              0.1111111111111111,
              "#46039f"
             ],
             [
              0.2222222222222222,
              "#7201a8"
             ],
             [
              0.3333333333333333,
              "#9c179e"
             ],
             [
              0.4444444444444444,
              "#bd3786"
             ],
             [
              0.5555555555555556,
              "#d8576b"
             ],
             [
              0.6666666666666666,
              "#ed7953"
             ],
             [
              0.7777777777777778,
              "#fb9f3a"
             ],
             [
              0.8888888888888888,
              "#fdca26"
             ],
             [
              1,
              "#f0f921"
             ]
            ],
            "type": "surface"
           }
          ],
          "table": [
           {
            "cells": {
             "fill": {
              "color": "#EBF0F8"
             },
             "line": {
              "color": "white"
             }
            },
            "header": {
             "fill": {
              "color": "#C8D4E3"
             },
             "line": {
              "color": "white"
             }
            },
            "type": "table"
           }
          ]
         },
         "layout": {
          "annotationdefaults": {
           "arrowcolor": "#2a3f5f",
           "arrowhead": 0,
           "arrowwidth": 1
          },
          "autotypenumbers": "strict",
          "coloraxis": {
           "colorbar": {
            "outlinewidth": 0,
            "ticks": ""
           }
          },
          "colorscale": {
           "diverging": [
            [
             0,
             "#8e0152"
            ],
            [
             0.1,
             "#c51b7d"
            ],
            [
             0.2,
             "#de77ae"
            ],
            [
             0.3,
             "#f1b6da"
            ],
            [
             0.4,
             "#fde0ef"
            ],
            [
             0.5,
             "#f7f7f7"
            ],
            [
             0.6,
             "#e6f5d0"
            ],
            [
             0.7,
             "#b8e186"
            ],
            [
             0.8,
             "#7fbc41"
            ],
            [
             0.9,
             "#4d9221"
            ],
            [
             1,
             "#276419"
            ]
           ],
           "sequential": [
            [
             0,
             "#0d0887"
            ],
            [
             0.1111111111111111,
             "#46039f"
            ],
            [
             0.2222222222222222,
             "#7201a8"
            ],
            [
             0.3333333333333333,
             "#9c179e"
            ],
            [
             0.4444444444444444,
             "#bd3786"
            ],
            [
             0.5555555555555556,
             "#d8576b"
            ],
            [
             0.6666666666666666,
             "#ed7953"
            ],
            [
             0.7777777777777778,
             "#fb9f3a"
            ],
            [
             0.8888888888888888,
             "#fdca26"
            ],
            [
             1,
             "#f0f921"
            ]
           ],
           "sequentialminus": [
            [
             0,
             "#0d0887"
            ],
            [
             0.1111111111111111,
             "#46039f"
            ],
            [
             0.2222222222222222,
             "#7201a8"
            ],
            [
             0.3333333333333333,
             "#9c179e"
            ],
            [
             0.4444444444444444,
             "#bd3786"
            ],
            [
             0.5555555555555556,
             "#d8576b"
            ],
            [
             0.6666666666666666,
             "#ed7953"
            ],
            [
             0.7777777777777778,
             "#fb9f3a"
            ],
            [
             0.8888888888888888,
             "#fdca26"
            ],
            [
             1,
             "#f0f921"
            ]
           ]
          },
          "colorway": [
           "#636efa",
           "#EF553B",
           "#00cc96",
           "#ab63fa",
           "#FFA15A",
           "#19d3f3",
           "#FF6692",
           "#B6E880",
           "#FF97FF",
           "#FECB52"
          ],
          "font": {
           "color": "#2a3f5f"
          },
          "geo": {
           "bgcolor": "white",
           "lakecolor": "white",
           "landcolor": "#E5ECF6",
           "showlakes": true,
           "showland": true,
           "subunitcolor": "white"
          },
          "hoverlabel": {
           "align": "left"
          },
          "hovermode": "closest",
          "mapbox": {
           "style": "light"
          },
          "paper_bgcolor": "white",
          "plot_bgcolor": "#E5ECF6",
          "polar": {
           "angularaxis": {
            "gridcolor": "white",
            "linecolor": "white",
            "ticks": ""
           },
           "bgcolor": "#E5ECF6",
           "radialaxis": {
            "gridcolor": "white",
            "linecolor": "white",
            "ticks": ""
           }
          },
          "scene": {
           "xaxis": {
            "backgroundcolor": "#E5ECF6",
            "gridcolor": "white",
            "gridwidth": 2,
            "linecolor": "white",
            "showbackground": true,
            "ticks": "",
            "zerolinecolor": "white"
           },
           "yaxis": {
            "backgroundcolor": "#E5ECF6",
            "gridcolor": "white",
            "gridwidth": 2,
            "linecolor": "white",
            "showbackground": true,
            "ticks": "",
            "zerolinecolor": "white"
           },
           "zaxis": {
            "backgroundcolor": "#E5ECF6",
            "gridcolor": "white",
            "gridwidth": 2,
            "linecolor": "white",
            "showbackground": true,
            "ticks": "",
            "zerolinecolor": "white"
           }
          },
          "shapedefaults": {
           "line": {
            "color": "#2a3f5f"
           }
          },
          "ternary": {
           "aaxis": {
            "gridcolor": "white",
            "linecolor": "white",
            "ticks": ""
           },
           "baxis": {
            "gridcolor": "white",
            "linecolor": "white",
            "ticks": ""
           },
           "bgcolor": "#E5ECF6",
           "caxis": {
            "gridcolor": "white",
            "linecolor": "white",
            "ticks": ""
           }
          },
          "title": {
           "x": 0.05
          },
          "xaxis": {
           "automargin": true,
           "gridcolor": "white",
           "linecolor": "white",
           "ticks": "",
           "title": {
            "standoff": 15
           },
           "zerolinecolor": "white",
           "zerolinewidth": 2
          },
          "yaxis": {
           "automargin": true,
           "gridcolor": "white",
           "linecolor": "white",
           "ticks": "",
           "title": {
            "standoff": 15
           },
           "zerolinecolor": "white",
           "zerolinewidth": 2
          }
         }
        },
        "title": {
         "text": "Cinco Platos Más Caros"
        },
        "xaxis": {
         "anchor": "y",
         "domain": [
          0,
          1
         ],
         "title": {
          "text": "Nombre del Plato"
         }
        },
        "yaxis": {
         "anchor": "x",
         "domain": [
          0,
          1
         ],
         "title": {
          "text": "Precio ($)"
         }
        }
       }
      }
     },
     "metadata": {},
     "output_type": "display_data"
    }
   ],
   "source": [
    "#Grafico de barras que muestra los 5 platos mas carros\n",
    "def obtener_precio(plato):\n",
    "    return plato.get(\"price\")  \n",
    "\n",
    "platos_principales = data2.get(\"menu.mains\")\n",
    "\n",
    "todos_platos = []\n",
    "for lista_platos in platos_principales:\n",
    "    if isinstance(lista_platos, list):\n",
    "        todos_platos.extend(lista_platos)\n",
    "\n",
    "\n",
    "platos_sin_null = []\n",
    " \n",
    "for plato in todos_platos: \n",
    "   if \"price\" in plato and plato[\"price\"] is not None:\n",
    "       platos_sin_null.append(plato)\n",
    "\n",
    "platos_principales_ordenados = sorted(platos_sin_null, key=obtener_precio, reverse=True)\n",
    "cinco_platos_caros = platos_principales_ordenados[:5]\n",
    "\n",
    "nombres = []\n",
    "precios = []\n",
    "\n",
    "for plato in cinco_platos_caros:\n",
    "    nombres.append(plato.get(\"item_name\", \"Desconocido\")) \n",
    "    precios.append(plato.get(\"price\", 0))\n",
    "\n",
    "fig = px.bar(\n",
    "    x=nombres, \n",
    "    y=precios, \n",
    "    title=\"Cinco Platos Más Caros\", \n",
    "    labels={'x': 'Nombre del Plato', \n",
    "            'y': 'Precio ($)'}\n",
    ")\n",
    "fig.show()\n"
   ]
  },
  {
   "cell_type": "markdown",
   "metadata": {},
   "source": [
    "Oye mami y el tema de los apagones como anda?\n",
    "\n",
    "-Caridad: Bueno mijo hasta ahora vamos por 2 caídas del SEN y a cada rato la quitan lo que poco tiempo\n",
    "\n",
    "Tú crees que valga la pena invertir dinero en una planta?"
   ]
  },
  {
   "cell_type": "markdown",
   "metadata": {},
   "source": [
    "Después de realizar la tarea observó que el 50.7% de los restaurantes que se encontraban en la muestra que había tomado para realizar la investigación poseían un generador eléctrico o al menos una alternativa para poder continuar con el trabajo en caso de cortes en el fluido eléctrico, por lo que determinó que invertir en una planta sería un buen respaldo para que el negocio no se viera afectado en caso de algún incoveniente con la electricidad "
   ]
  },
  {
   "cell_type": "code",
   "execution_count": 66,
   "metadata": {},
   "outputs": [
    {
     "data": {
      "application/vnd.plotly.v1+json": {
       "config": {
        "plotlyServerURL": "https://plot.ly"
       },
       "data": [
        {
         "domain": {
          "x": [
           0,
           1
          ],
          "y": [
           0,
           1
          ]
         },
         "hovertemplate": "label=%{label}<br>value=%{value}<extra></extra>",
         "labels": [
          "Con Generador",
          "Sin Generador"
         ],
         "legendgroup": "",
         "name": "",
         "showlegend": true,
         "type": "pie",
         "values": [
          50.67,
          49.33
         ]
        }
       ],
       "layout": {
        "legend": {
         "tracegroupgap": 0
        },
        "template": {
         "data": {
          "bar": [
           {
            "error_x": {
             "color": "#2a3f5f"
            },
            "error_y": {
             "color": "#2a3f5f"
            },
            "marker": {
             "line": {
              "color": "#E5ECF6",
              "width": 0.5
             },
             "pattern": {
              "fillmode": "overlay",
              "size": 10,
              "solidity": 0.2
             }
            },
            "type": "bar"
           }
          ],
          "barpolar": [
           {
            "marker": {
             "line": {
              "color": "#E5ECF6",
              "width": 0.5
             },
             "pattern": {
              "fillmode": "overlay",
              "size": 10,
              "solidity": 0.2
             }
            },
            "type": "barpolar"
           }
          ],
          "carpet": [
           {
            "aaxis": {
             "endlinecolor": "#2a3f5f",
             "gridcolor": "white",
             "linecolor": "white",
             "minorgridcolor": "white",
             "startlinecolor": "#2a3f5f"
            },
            "baxis": {
             "endlinecolor": "#2a3f5f",
             "gridcolor": "white",
             "linecolor": "white",
             "minorgridcolor": "white",
             "startlinecolor": "#2a3f5f"
            },
            "type": "carpet"
           }
          ],
          "choropleth": [
           {
            "colorbar": {
             "outlinewidth": 0,
             "ticks": ""
            },
            "type": "choropleth"
           }
          ],
          "contour": [
           {
            "colorbar": {
             "outlinewidth": 0,
             "ticks": ""
            },
            "colorscale": [
             [
              0,
              "#0d0887"
             ],
             [
              0.1111111111111111,
              "#46039f"
             ],
             [
              0.2222222222222222,
              "#7201a8"
             ],
             [
              0.3333333333333333,
              "#9c179e"
             ],
             [
              0.4444444444444444,
              "#bd3786"
             ],
             [
              0.5555555555555556,
              "#d8576b"
             ],
             [
              0.6666666666666666,
              "#ed7953"
             ],
             [
              0.7777777777777778,
              "#fb9f3a"
             ],
             [
              0.8888888888888888,
              "#fdca26"
             ],
             [
              1,
              "#f0f921"
             ]
            ],
            "type": "contour"
           }
          ],
          "contourcarpet": [
           {
            "colorbar": {
             "outlinewidth": 0,
             "ticks": ""
            },
            "type": "contourcarpet"
           }
          ],
          "heatmap": [
           {
            "colorbar": {
             "outlinewidth": 0,
             "ticks": ""
            },
            "colorscale": [
             [
              0,
              "#0d0887"
             ],
             [
              0.1111111111111111,
              "#46039f"
             ],
             [
              0.2222222222222222,
              "#7201a8"
             ],
             [
              0.3333333333333333,
              "#9c179e"
             ],
             [
              0.4444444444444444,
              "#bd3786"
             ],
             [
              0.5555555555555556,
              "#d8576b"
             ],
             [
              0.6666666666666666,
              "#ed7953"
             ],
             [
              0.7777777777777778,
              "#fb9f3a"
             ],
             [
              0.8888888888888888,
              "#fdca26"
             ],
             [
              1,
              "#f0f921"
             ]
            ],
            "type": "heatmap"
           }
          ],
          "heatmapgl": [
           {
            "colorbar": {
             "outlinewidth": 0,
             "ticks": ""
            },
            "colorscale": [
             [
              0,
              "#0d0887"
             ],
             [
              0.1111111111111111,
              "#46039f"
             ],
             [
              0.2222222222222222,
              "#7201a8"
             ],
             [
              0.3333333333333333,
              "#9c179e"
             ],
             [
              0.4444444444444444,
              "#bd3786"
             ],
             [
              0.5555555555555556,
              "#d8576b"
             ],
             [
              0.6666666666666666,
              "#ed7953"
             ],
             [
              0.7777777777777778,
              "#fb9f3a"
             ],
             [
              0.8888888888888888,
              "#fdca26"
             ],
             [
              1,
              "#f0f921"
             ]
            ],
            "type": "heatmapgl"
           }
          ],
          "histogram": [
           {
            "marker": {
             "pattern": {
              "fillmode": "overlay",
              "size": 10,
              "solidity": 0.2
             }
            },
            "type": "histogram"
           }
          ],
          "histogram2d": [
           {
            "colorbar": {
             "outlinewidth": 0,
             "ticks": ""
            },
            "colorscale": [
             [
              0,
              "#0d0887"
             ],
             [
              0.1111111111111111,
              "#46039f"
             ],
             [
              0.2222222222222222,
              "#7201a8"
             ],
             [
              0.3333333333333333,
              "#9c179e"
             ],
             [
              0.4444444444444444,
              "#bd3786"
             ],
             [
              0.5555555555555556,
              "#d8576b"
             ],
             [
              0.6666666666666666,
              "#ed7953"
             ],
             [
              0.7777777777777778,
              "#fb9f3a"
             ],
             [
              0.8888888888888888,
              "#fdca26"
             ],
             [
              1,
              "#f0f921"
             ]
            ],
            "type": "histogram2d"
           }
          ],
          "histogram2dcontour": [
           {
            "colorbar": {
             "outlinewidth": 0,
             "ticks": ""
            },
            "colorscale": [
             [
              0,
              "#0d0887"
             ],
             [
              0.1111111111111111,
              "#46039f"
             ],
             [
              0.2222222222222222,
              "#7201a8"
             ],
             [
              0.3333333333333333,
              "#9c179e"
             ],
             [
              0.4444444444444444,
              "#bd3786"
             ],
             [
              0.5555555555555556,
              "#d8576b"
             ],
             [
              0.6666666666666666,
              "#ed7953"
             ],
             [
              0.7777777777777778,
              "#fb9f3a"
             ],
             [
              0.8888888888888888,
              "#fdca26"
             ],
             [
              1,
              "#f0f921"
             ]
            ],
            "type": "histogram2dcontour"
           }
          ],
          "mesh3d": [
           {
            "colorbar": {
             "outlinewidth": 0,
             "ticks": ""
            },
            "type": "mesh3d"
           }
          ],
          "parcoords": [
           {
            "line": {
             "colorbar": {
              "outlinewidth": 0,
              "ticks": ""
             }
            },
            "type": "parcoords"
           }
          ],
          "pie": [
           {
            "automargin": true,
            "type": "pie"
           }
          ],
          "scatter": [
           {
            "fillpattern": {
             "fillmode": "overlay",
             "size": 10,
             "solidity": 0.2
            },
            "type": "scatter"
           }
          ],
          "scatter3d": [
           {
            "line": {
             "colorbar": {
              "outlinewidth": 0,
              "ticks": ""
             }
            },
            "marker": {
             "colorbar": {
              "outlinewidth": 0,
              "ticks": ""
             }
            },
            "type": "scatter3d"
           }
          ],
          "scattercarpet": [
           {
            "marker": {
             "colorbar": {
              "outlinewidth": 0,
              "ticks": ""
             }
            },
            "type": "scattercarpet"
           }
          ],
          "scattergeo": [
           {
            "marker": {
             "colorbar": {
              "outlinewidth": 0,
              "ticks": ""
             }
            },
            "type": "scattergeo"
           }
          ],
          "scattergl": [
           {
            "marker": {
             "colorbar": {
              "outlinewidth": 0,
              "ticks": ""
             }
            },
            "type": "scattergl"
           }
          ],
          "scattermapbox": [
           {
            "marker": {
             "colorbar": {
              "outlinewidth": 0,
              "ticks": ""
             }
            },
            "type": "scattermapbox"
           }
          ],
          "scatterpolar": [
           {
            "marker": {
             "colorbar": {
              "outlinewidth": 0,
              "ticks": ""
             }
            },
            "type": "scatterpolar"
           }
          ],
          "scatterpolargl": [
           {
            "marker": {
             "colorbar": {
              "outlinewidth": 0,
              "ticks": ""
             }
            },
            "type": "scatterpolargl"
           }
          ],
          "scatterternary": [
           {
            "marker": {
             "colorbar": {
              "outlinewidth": 0,
              "ticks": ""
             }
            },
            "type": "scatterternary"
           }
          ],
          "surface": [
           {
            "colorbar": {
             "outlinewidth": 0,
             "ticks": ""
            },
            "colorscale": [
             [
              0,
              "#0d0887"
             ],
             [
              0.1111111111111111,
              "#46039f"
             ],
             [
              0.2222222222222222,
              "#7201a8"
             ],
             [
              0.3333333333333333,
              "#9c179e"
             ],
             [
              0.4444444444444444,
              "#bd3786"
             ],
             [
              0.5555555555555556,
              "#d8576b"
             ],
             [
              0.6666666666666666,
              "#ed7953"
             ],
             [
              0.7777777777777778,
              "#fb9f3a"
             ],
             [
              0.8888888888888888,
              "#fdca26"
             ],
             [
              1,
              "#f0f921"
             ]
            ],
            "type": "surface"
           }
          ],
          "table": [
           {
            "cells": {
             "fill": {
              "color": "#EBF0F8"
             },
             "line": {
              "color": "white"
             }
            },
            "header": {
             "fill": {
              "color": "#C8D4E3"
             },
             "line": {
              "color": "white"
             }
            },
            "type": "table"
           }
          ]
         },
         "layout": {
          "annotationdefaults": {
           "arrowcolor": "#2a3f5f",
           "arrowhead": 0,
           "arrowwidth": 1
          },
          "autotypenumbers": "strict",
          "coloraxis": {
           "colorbar": {
            "outlinewidth": 0,
            "ticks": ""
           }
          },
          "colorscale": {
           "diverging": [
            [
             0,
             "#8e0152"
            ],
            [
             0.1,
             "#c51b7d"
            ],
            [
             0.2,
             "#de77ae"
            ],
            [
             0.3,
             "#f1b6da"
            ],
            [
             0.4,
             "#fde0ef"
            ],
            [
             0.5,
             "#f7f7f7"
            ],
            [
             0.6,
             "#e6f5d0"
            ],
            [
             0.7,
             "#b8e186"
            ],
            [
             0.8,
             "#7fbc41"
            ],
            [
             0.9,
             "#4d9221"
            ],
            [
             1,
             "#276419"
            ]
           ],
           "sequential": [
            [
             0,
             "#0d0887"
            ],
            [
             0.1111111111111111,
             "#46039f"
            ],
            [
             0.2222222222222222,
             "#7201a8"
            ],
            [
             0.3333333333333333,
             "#9c179e"
            ],
            [
             0.4444444444444444,
             "#bd3786"
            ],
            [
             0.5555555555555556,
             "#d8576b"
            ],
            [
             0.6666666666666666,
             "#ed7953"
            ],
            [
             0.7777777777777778,
             "#fb9f3a"
            ],
            [
             0.8888888888888888,
             "#fdca26"
            ],
            [
             1,
             "#f0f921"
            ]
           ],
           "sequentialminus": [
            [
             0,
             "#0d0887"
            ],
            [
             0.1111111111111111,
             "#46039f"
            ],
            [
             0.2222222222222222,
             "#7201a8"
            ],
            [
             0.3333333333333333,
             "#9c179e"
            ],
            [
             0.4444444444444444,
             "#bd3786"
            ],
            [
             0.5555555555555556,
             "#d8576b"
            ],
            [
             0.6666666666666666,
             "#ed7953"
            ],
            [
             0.7777777777777778,
             "#fb9f3a"
            ],
            [
             0.8888888888888888,
             "#fdca26"
            ],
            [
             1,
             "#f0f921"
            ]
           ]
          },
          "colorway": [
           "#636efa",
           "#EF553B",
           "#00cc96",
           "#ab63fa",
           "#FFA15A",
           "#19d3f3",
           "#FF6692",
           "#B6E880",
           "#FF97FF",
           "#FECB52"
          ],
          "font": {
           "color": "#2a3f5f"
          },
          "geo": {
           "bgcolor": "white",
           "lakecolor": "white",
           "landcolor": "#E5ECF6",
           "showlakes": true,
           "showland": true,
           "subunitcolor": "white"
          },
          "hoverlabel": {
           "align": "left"
          },
          "hovermode": "closest",
          "mapbox": {
           "style": "light"
          },
          "paper_bgcolor": "white",
          "plot_bgcolor": "#E5ECF6",
          "polar": {
           "angularaxis": {
            "gridcolor": "white",
            "linecolor": "white",
            "ticks": ""
           },
           "bgcolor": "#E5ECF6",
           "radialaxis": {
            "gridcolor": "white",
            "linecolor": "white",
            "ticks": ""
           }
          },
          "scene": {
           "xaxis": {
            "backgroundcolor": "#E5ECF6",
            "gridcolor": "white",
            "gridwidth": 2,
            "linecolor": "white",
            "showbackground": true,
            "ticks": "",
            "zerolinecolor": "white"
           },
           "yaxis": {
            "backgroundcolor": "#E5ECF6",
            "gridcolor": "white",
            "gridwidth": 2,
            "linecolor": "white",
            "showbackground": true,
            "ticks": "",
            "zerolinecolor": "white"
           },
           "zaxis": {
            "backgroundcolor": "#E5ECF6",
            "gridcolor": "white",
            "gridwidth": 2,
            "linecolor": "white",
            "showbackground": true,
            "ticks": "",
            "zerolinecolor": "white"
           }
          },
          "shapedefaults": {
           "line": {
            "color": "#2a3f5f"
           }
          },
          "ternary": {
           "aaxis": {
            "gridcolor": "white",
            "linecolor": "white",
            "ticks": ""
           },
           "baxis": {
            "gridcolor": "white",
            "linecolor": "white",
            "ticks": ""
           },
           "bgcolor": "#E5ECF6",
           "caxis": {
            "gridcolor": "white",
            "linecolor": "white",
            "ticks": ""
           }
          },
          "title": {
           "x": 0.05
          },
          "xaxis": {
           "automargin": true,
           "gridcolor": "white",
           "linecolor": "white",
           "ticks": "",
           "title": {
            "standoff": 15
           },
           "zerolinecolor": "white",
           "zerolinewidth": 2
          },
          "yaxis": {
           "automargin": true,
           "gridcolor": "white",
           "linecolor": "white",
           "ticks": "",
           "title": {
            "standoff": 15
           },
           "zerolinecolor": "white",
           "zerolinewidth": 2
          }
         }
        },
        "title": {
         "text": "Distribucion de Restaurantes con Generador Electrico"
        }
       }
      }
     },
     "metadata": {},
     "output_type": "display_data"
    }
   ],
   "source": [
    "#Grafico Pastel donde se muestra el porciento de restaurantes de la Habana que poseen P\n",
    "total_restaurantes = len(data2)\n",
    "total_plantas = data2[\"electric generator\"].sum()\n",
    "porciento_restaurantes_planta = round(bp.c_porciento(total_plantas, total_restaurantes),2)\n",
    "porciento_restaurantes_sin_planta = round(100 - porciento_restaurantes_planta, 2)\n",
    "\n",
    "fig = px.pie ( names=(\"Con Generador\", \"Sin Generador\"), \n",
    "              values=(porciento_restaurantes_planta, porciento_restaurantes_sin_planta),\n",
    "              title= \"Distribucion de Restaurantes con Generador Electrico\"\n",
    "\n",
    ")\n",
    "fig.show()\n"
   ]
  },
  {
   "cell_type": "markdown",
   "metadata": {},
   "source": [
    "En el año 2024, La Habana experimentó un aumento significativo en la inversión en hoteles y restaurantes según la Oficina Nacional de Estadística e Información (ONEI) de la Republica  de Cuba, la inversión en este sector aumentó en un 112% anual, no es secreto para nadie porque se puede ver a simple vista que cada vez más en la Ciudad de La Habana, se inaguran nuevos establecimientos gastronómicos ya sean cafés o restaurantes, tanto privadas como estales, aumentando así la competencia entre los diferentes locales"
   ]
  },
  {
   "cell_type": "markdown",
   "metadata": {},
   "source": [
    "![3](Terraza2.png)"
   ]
  },
  {
   "cell_type": "markdown",
   "metadata": {},
   "source": [
    "Después de leer esas cifras Alejandro preocupado decidió investigar en que municipio de La Habana los restaurantes tenían peor reseña en Google para asi determinar donde le convendria rentar el local, pensando que montar su negocio en un lugar donde la calificacion de los restaurantes no fuera la mejor, tendría menos competencia y llamaría la atención de los pobladores."
   ]
  },
  {
   "cell_type": "code",
   "execution_count": 58,
   "metadata": {},
   "outputs": [
    {
     "data": {
      "application/vnd.plotly.v1+json": {
       "config": {
        "plotlyServerURL": "https://plot.ly"
       },
       "data": [
        {
         "cells": {
          "align": "left",
          "fill": {
           "color": "lavender"
          },
          "values": [
           [
            "regla",
            "arroyo naranjo",
            "marianao",
            "habana vieja",
            "guanabacoa",
            "centro habana",
            "playa",
            "cotorro",
            "plaza de la revolucion",
            "10 de octubre",
            "habana del este",
            "cerro",
            "boyeros",
            "la lisa",
            "san miguel del padron"
           ],
           [
            4.95,
            4.61,
            4.52,
            4.51,
            4.45,
            4.36,
            4.32,
            4.28,
            4.26,
            4.14,
            4.14,
            3.94,
            3.7,
            3.49,
            3.25
           ]
          ]
         },
         "header": {
          "align": "left",
          "fill": {
           "color": "pink"
          },
          "values": [
           "municipio",
           "calificacion promedio"
          ]
         },
         "type": "table"
        }
       ],
       "layout": {
        "template": {
         "data": {
          "bar": [
           {
            "error_x": {
             "color": "#2a3f5f"
            },
            "error_y": {
             "color": "#2a3f5f"
            },
            "marker": {
             "line": {
              "color": "#E5ECF6",
              "width": 0.5
             },
             "pattern": {
              "fillmode": "overlay",
              "size": 10,
              "solidity": 0.2
             }
            },
            "type": "bar"
           }
          ],
          "barpolar": [
           {
            "marker": {
             "line": {
              "color": "#E5ECF6",
              "width": 0.5
             },
             "pattern": {
              "fillmode": "overlay",
              "size": 10,
              "solidity": 0.2
             }
            },
            "type": "barpolar"
           }
          ],
          "carpet": [
           {
            "aaxis": {
             "endlinecolor": "#2a3f5f",
             "gridcolor": "white",
             "linecolor": "white",
             "minorgridcolor": "white",
             "startlinecolor": "#2a3f5f"
            },
            "baxis": {
             "endlinecolor": "#2a3f5f",
             "gridcolor": "white",
             "linecolor": "white",
             "minorgridcolor": "white",
             "startlinecolor": "#2a3f5f"
            },
            "type": "carpet"
           }
          ],
          "choropleth": [
           {
            "colorbar": {
             "outlinewidth": 0,
             "ticks": ""
            },
            "type": "choropleth"
           }
          ],
          "contour": [
           {
            "colorbar": {
             "outlinewidth": 0,
             "ticks": ""
            },
            "colorscale": [
             [
              0,
              "#0d0887"
             ],
             [
              0.1111111111111111,
              "#46039f"
             ],
             [
              0.2222222222222222,
              "#7201a8"
             ],
             [
              0.3333333333333333,
              "#9c179e"
             ],
             [
              0.4444444444444444,
              "#bd3786"
             ],
             [
              0.5555555555555556,
              "#d8576b"
             ],
             [
              0.6666666666666666,
              "#ed7953"
             ],
             [
              0.7777777777777778,
              "#fb9f3a"
             ],
             [
              0.8888888888888888,
              "#fdca26"
             ],
             [
              1,
              "#f0f921"
             ]
            ],
            "type": "contour"
           }
          ],
          "contourcarpet": [
           {
            "colorbar": {
             "outlinewidth": 0,
             "ticks": ""
            },
            "type": "contourcarpet"
           }
          ],
          "heatmap": [
           {
            "colorbar": {
             "outlinewidth": 0,
             "ticks": ""
            },
            "colorscale": [
             [
              0,
              "#0d0887"
             ],
             [
              0.1111111111111111,
              "#46039f"
             ],
             [
              0.2222222222222222,
              "#7201a8"
             ],
             [
              0.3333333333333333,
              "#9c179e"
             ],
             [
              0.4444444444444444,
              "#bd3786"
             ],
             [
              0.5555555555555556,
              "#d8576b"
             ],
             [
              0.6666666666666666,
              "#ed7953"
             ],
             [
              0.7777777777777778,
              "#fb9f3a"
             ],
             [
              0.8888888888888888,
              "#fdca26"
             ],
             [
              1,
              "#f0f921"
             ]
            ],
            "type": "heatmap"
           }
          ],
          "heatmapgl": [
           {
            "colorbar": {
             "outlinewidth": 0,
             "ticks": ""
            },
            "colorscale": [
             [
              0,
              "#0d0887"
             ],
             [
              0.1111111111111111,
              "#46039f"
             ],
             [
              0.2222222222222222,
              "#7201a8"
             ],
             [
              0.3333333333333333,
              "#9c179e"
             ],
             [
              0.4444444444444444,
              "#bd3786"
             ],
             [
              0.5555555555555556,
              "#d8576b"
             ],
             [
              0.6666666666666666,
              "#ed7953"
             ],
             [
              0.7777777777777778,
              "#fb9f3a"
             ],
             [
              0.8888888888888888,
              "#fdca26"
             ],
             [
              1,
              "#f0f921"
             ]
            ],
            "type": "heatmapgl"
           }
          ],
          "histogram": [
           {
            "marker": {
             "pattern": {
              "fillmode": "overlay",
              "size": 10,
              "solidity": 0.2
             }
            },
            "type": "histogram"
           }
          ],
          "histogram2d": [
           {
            "colorbar": {
             "outlinewidth": 0,
             "ticks": ""
            },
            "colorscale": [
             [
              0,
              "#0d0887"
             ],
             [
              0.1111111111111111,
              "#46039f"
             ],
             [
              0.2222222222222222,
              "#7201a8"
             ],
             [
              0.3333333333333333,
              "#9c179e"
             ],
             [
              0.4444444444444444,
              "#bd3786"
             ],
             [
              0.5555555555555556,
              "#d8576b"
             ],
             [
              0.6666666666666666,
              "#ed7953"
             ],
             [
              0.7777777777777778,
              "#fb9f3a"
             ],
             [
              0.8888888888888888,
              "#fdca26"
             ],
             [
              1,
              "#f0f921"
             ]
            ],
            "type": "histogram2d"
           }
          ],
          "histogram2dcontour": [
           {
            "colorbar": {
             "outlinewidth": 0,
             "ticks": ""
            },
            "colorscale": [
             [
              0,
              "#0d0887"
             ],
             [
              0.1111111111111111,
              "#46039f"
             ],
             [
              0.2222222222222222,
              "#7201a8"
             ],
             [
              0.3333333333333333,
              "#9c179e"
             ],
             [
              0.4444444444444444,
              "#bd3786"
             ],
             [
              0.5555555555555556,
              "#d8576b"
             ],
             [
              0.6666666666666666,
              "#ed7953"
             ],
             [
              0.7777777777777778,
              "#fb9f3a"
             ],
             [
              0.8888888888888888,
              "#fdca26"
             ],
             [
              1,
              "#f0f921"
             ]
            ],
            "type": "histogram2dcontour"
           }
          ],
          "mesh3d": [
           {
            "colorbar": {
             "outlinewidth": 0,
             "ticks": ""
            },
            "type": "mesh3d"
           }
          ],
          "parcoords": [
           {
            "line": {
             "colorbar": {
              "outlinewidth": 0,
              "ticks": ""
             }
            },
            "type": "parcoords"
           }
          ],
          "pie": [
           {
            "automargin": true,
            "type": "pie"
           }
          ],
          "scatter": [
           {
            "fillpattern": {
             "fillmode": "overlay",
             "size": 10,
             "solidity": 0.2
            },
            "type": "scatter"
           }
          ],
          "scatter3d": [
           {
            "line": {
             "colorbar": {
              "outlinewidth": 0,
              "ticks": ""
             }
            },
            "marker": {
             "colorbar": {
              "outlinewidth": 0,
              "ticks": ""
             }
            },
            "type": "scatter3d"
           }
          ],
          "scattercarpet": [
           {
            "marker": {
             "colorbar": {
              "outlinewidth": 0,
              "ticks": ""
             }
            },
            "type": "scattercarpet"
           }
          ],
          "scattergeo": [
           {
            "marker": {
             "colorbar": {
              "outlinewidth": 0,
              "ticks": ""
             }
            },
            "type": "scattergeo"
           }
          ],
          "scattergl": [
           {
            "marker": {
             "colorbar": {
              "outlinewidth": 0,
              "ticks": ""
             }
            },
            "type": "scattergl"
           }
          ],
          "scattermapbox": [
           {
            "marker": {
             "colorbar": {
              "outlinewidth": 0,
              "ticks": ""
             }
            },
            "type": "scattermapbox"
           }
          ],
          "scatterpolar": [
           {
            "marker": {
             "colorbar": {
              "outlinewidth": 0,
              "ticks": ""
             }
            },
            "type": "scatterpolar"
           }
          ],
          "scatterpolargl": [
           {
            "marker": {
             "colorbar": {
              "outlinewidth": 0,
              "ticks": ""
             }
            },
            "type": "scatterpolargl"
           }
          ],
          "scatterternary": [
           {
            "marker": {
             "colorbar": {
              "outlinewidth": 0,
              "ticks": ""
             }
            },
            "type": "scatterternary"
           }
          ],
          "surface": [
           {
            "colorbar": {
             "outlinewidth": 0,
             "ticks": ""
            },
            "colorscale": [
             [
              0,
              "#0d0887"
             ],
             [
              0.1111111111111111,
              "#46039f"
             ],
             [
              0.2222222222222222,
              "#7201a8"
             ],
             [
              0.3333333333333333,
              "#9c179e"
             ],
             [
              0.4444444444444444,
              "#bd3786"
             ],
             [
              0.5555555555555556,
              "#d8576b"
             ],
             [
              0.6666666666666666,
              "#ed7953"
             ],
             [
              0.7777777777777778,
              "#fb9f3a"
             ],
             [
              0.8888888888888888,
              "#fdca26"
             ],
             [
              1,
              "#f0f921"
             ]
            ],
            "type": "surface"
           }
          ],
          "table": [
           {
            "cells": {
             "fill": {
              "color": "#EBF0F8"
             },
             "line": {
              "color": "white"
             }
            },
            "header": {
             "fill": {
              "color": "#C8D4E3"
             },
             "line": {
              "color": "white"
             }
            },
            "type": "table"
           }
          ]
         },
         "layout": {
          "annotationdefaults": {
           "arrowcolor": "#2a3f5f",
           "arrowhead": 0,
           "arrowwidth": 1
          },
          "autotypenumbers": "strict",
          "coloraxis": {
           "colorbar": {
            "outlinewidth": 0,
            "ticks": ""
           }
          },
          "colorscale": {
           "diverging": [
            [
             0,
             "#8e0152"
            ],
            [
             0.1,
             "#c51b7d"
            ],
            [
             0.2,
             "#de77ae"
            ],
            [
             0.3,
             "#f1b6da"
            ],
            [
             0.4,
             "#fde0ef"
            ],
            [
             0.5,
             "#f7f7f7"
            ],
            [
             0.6,
             "#e6f5d0"
            ],
            [
             0.7,
             "#b8e186"
            ],
            [
             0.8,
             "#7fbc41"
            ],
            [
             0.9,
             "#4d9221"
            ],
            [
             1,
             "#276419"
            ]
           ],
           "sequential": [
            [
             0,
             "#0d0887"
            ],
            [
             0.1111111111111111,
             "#46039f"
            ],
            [
             0.2222222222222222,
             "#7201a8"
            ],
            [
             0.3333333333333333,
             "#9c179e"
            ],
            [
             0.4444444444444444,
             "#bd3786"
            ],
            [
             0.5555555555555556,
             "#d8576b"
            ],
            [
             0.6666666666666666,
             "#ed7953"
            ],
            [
             0.7777777777777778,
             "#fb9f3a"
            ],
            [
             0.8888888888888888,
             "#fdca26"
            ],
            [
             1,
             "#f0f921"
            ]
           ],
           "sequentialminus": [
            [
             0,
             "#0d0887"
            ],
            [
             0.1111111111111111,
             "#46039f"
            ],
            [
             0.2222222222222222,
             "#7201a8"
            ],
            [
             0.3333333333333333,
             "#9c179e"
            ],
            [
             0.4444444444444444,
             "#bd3786"
            ],
            [
             0.5555555555555556,
             "#d8576b"
            ],
            [
             0.6666666666666666,
             "#ed7953"
            ],
            [
             0.7777777777777778,
             "#fb9f3a"
            ],
            [
             0.8888888888888888,
             "#fdca26"
            ],
            [
             1,
             "#f0f921"
            ]
           ]
          },
          "colorway": [
           "#636efa",
           "#EF553B",
           "#00cc96",
           "#ab63fa",
           "#FFA15A",
           "#19d3f3",
           "#FF6692",
           "#B6E880",
           "#FF97FF",
           "#FECB52"
          ],
          "font": {
           "color": "#2a3f5f"
          },
          "geo": {
           "bgcolor": "white",
           "lakecolor": "white",
           "landcolor": "#E5ECF6",
           "showlakes": true,
           "showland": true,
           "subunitcolor": "white"
          },
          "hoverlabel": {
           "align": "left"
          },
          "hovermode": "closest",
          "mapbox": {
           "style": "light"
          },
          "paper_bgcolor": "white",
          "plot_bgcolor": "#E5ECF6",
          "polar": {
           "angularaxis": {
            "gridcolor": "white",
            "linecolor": "white",
            "ticks": ""
           },
           "bgcolor": "#E5ECF6",
           "radialaxis": {
            "gridcolor": "white",
            "linecolor": "white",
            "ticks": ""
           }
          },
          "scene": {
           "xaxis": {
            "backgroundcolor": "#E5ECF6",
            "gridcolor": "white",
            "gridwidth": 2,
            "linecolor": "white",
            "showbackground": true,
            "ticks": "",
            "zerolinecolor": "white"
           },
           "yaxis": {
            "backgroundcolor": "#E5ECF6",
            "gridcolor": "white",
            "gridwidth": 2,
            "linecolor": "white",
            "showbackground": true,
            "ticks": "",
            "zerolinecolor": "white"
           },
           "zaxis": {
            "backgroundcolor": "#E5ECF6",
            "gridcolor": "white",
            "gridwidth": 2,
            "linecolor": "white",
            "showbackground": true,
            "ticks": "",
            "zerolinecolor": "white"
           }
          },
          "shapedefaults": {
           "line": {
            "color": "#2a3f5f"
           }
          },
          "ternary": {
           "aaxis": {
            "gridcolor": "white",
            "linecolor": "white",
            "ticks": ""
           },
           "baxis": {
            "gridcolor": "white",
            "linecolor": "white",
            "ticks": ""
           },
           "bgcolor": "#E5ECF6",
           "caxis": {
            "gridcolor": "white",
            "linecolor": "white",
            "ticks": ""
           }
          },
          "title": {
           "x": 0.05
          },
          "xaxis": {
           "automargin": true,
           "gridcolor": "white",
           "linecolor": "white",
           "ticks": "",
           "title": {
            "standoff": 15
           },
           "zerolinecolor": "white",
           "zerolinewidth": 2
          },
          "yaxis": {
           "automargin": true,
           "gridcolor": "white",
           "linecolor": "white",
           "ticks": "",
           "title": {
            "standoff": 15
           },
           "zerolinecolor": "white",
           "zerolinewidth": 2
          }
         }
        },
        "title": {
         "text": "Calificacion Promedio de Restaurantes por Municipio segun Google"
        }
       }
      }
     },
     "metadata": {},
     "output_type": "display_data"
    }
   ],
   "source": [
    "#Tabla donde da la clasificacion promedio de los restaurantes por municipio :)\n",
    "data2[\"location.municipe\"] = data2[\"location.municipe\"].str.strip().str.lower()\n",
    "\n",
    "calificacion_promedio_por_municipio = data2.groupby(\"location.municipe\")[\"qualification\"].mean().round(2)\n",
    "tabla_calificaciones = calificacion_promedio_por_municipio.reset_index()\n",
    "tabla_calificaciones.columns = [\"municipio\", \"calificacion promedio\"]\n",
    "tabla_calificaciones = tabla_calificaciones.sort_values(by=\"calificacion promedio\", ascending=False)\n",
    "\n",
    "fig = go.Figure(data=[go.Table(\n",
    "    header=dict(values=list(tabla_calificaciones.columns),\n",
    "                fill_color=\"pink\",\n",
    "                align=\"left\"),\n",
    "    cells=dict(values=[tabla_calificaciones.municipio, tabla_calificaciones[\"calificacion promedio\"]],\n",
    "               fill_color=\"lavender\",\n",
    "               align=\"left\"))\n",
    "])\n",
    "\n",
    "fig.update_layout(title=\"Calificacion Promedio de Restaurantes por Municipio segun Google\")\n",
    "fig.show()"
   ]
  },
  {
   "cell_type": "markdown",
   "metadata": {},
   "source": [
    "Alejandro, ayer me llamó tu primo para saber como estaba y le comenté lo que estabamos planeando\n",
    "\n",
    "-Mami!! las cosas que se cuentan nunca salen\n",
    "\n",
    "Hay chico tú no crees que si todo sale bien le podamos ofrecer un trabajito, él ahora se compró una moto eléctrica y pudiera hacer la mensajería del restaurante y esta sería otra entrada de ganacias además el dinero se queda en la familia\n",
    "\n",
    "-Bueno dejame calcular que tan común es tener el servicio de delivery en el municipio donde voy a montar el local no vaya a ser que no sea algo rentable y tenga más pérdida que ganancia\n"
   ]
  },
  {
   "cell_type": "code",
   "execution_count": 59,
   "metadata": {},
   "outputs": [
    {
     "data": {
      "application/vnd.plotly.v1+json": {
       "config": {
        "plotlyServerURL": "https://plot.ly"
       },
       "data": [
        {
         "domain": {
          "x": [
           0,
           1
          ],
          "y": [
           0,
           1
          ]
         },
         "hovertemplate": "label=%{label}<br>value=%{value}<extra></extra>",
         "labels": [
          "10 de octubre",
          "arroyo naranjo",
          "boyeros",
          "centro habana",
          "cerro",
          "cotorro",
          "guanabacoa",
          "habana del este",
          "habana vieja",
          "la lisa",
          "marianao",
          "playa",
          "plaza de la revolucion",
          "regla",
          "san miguel del padron"
         ],
         "legendgroup": "",
         "name": "",
         "showlegend": true,
         "textinfo": "percent+label",
         "type": "pie",
         "values": [
          20.224719101123593,
          2.247191011235955,
          7.865168539325842,
          7.865168539325842,
          5.617977528089887,
          5.617977528089887,
          4.49438202247191,
          5.617977528089887,
          13.48314606741573,
          3.3707865168539324,
          2.247191011235955,
          4.49438202247191,
          11.235955056179774,
          1.1235955056179776,
          4.49438202247191
         ]
        }
       ],
       "layout": {
        "legend": {
         "tracegroupgap": 0
        },
        "template": {
         "data": {
          "bar": [
           {
            "error_x": {
             "color": "#2a3f5f"
            },
            "error_y": {
             "color": "#2a3f5f"
            },
            "marker": {
             "line": {
              "color": "#E5ECF6",
              "width": 0.5
             },
             "pattern": {
              "fillmode": "overlay",
              "size": 10,
              "solidity": 0.2
             }
            },
            "type": "bar"
           }
          ],
          "barpolar": [
           {
            "marker": {
             "line": {
              "color": "#E5ECF6",
              "width": 0.5
             },
             "pattern": {
              "fillmode": "overlay",
              "size": 10,
              "solidity": 0.2
             }
            },
            "type": "barpolar"
           }
          ],
          "carpet": [
           {
            "aaxis": {
             "endlinecolor": "#2a3f5f",
             "gridcolor": "white",
             "linecolor": "white",
             "minorgridcolor": "white",
             "startlinecolor": "#2a3f5f"
            },
            "baxis": {
             "endlinecolor": "#2a3f5f",
             "gridcolor": "white",
             "linecolor": "white",
             "minorgridcolor": "white",
             "startlinecolor": "#2a3f5f"
            },
            "type": "carpet"
           }
          ],
          "choropleth": [
           {
            "colorbar": {
             "outlinewidth": 0,
             "ticks": ""
            },
            "type": "choropleth"
           }
          ],
          "contour": [
           {
            "colorbar": {
             "outlinewidth": 0,
             "ticks": ""
            },
            "colorscale": [
             [
              0,
              "#0d0887"
             ],
             [
              0.1111111111111111,
              "#46039f"
             ],
             [
              0.2222222222222222,
              "#7201a8"
             ],
             [
              0.3333333333333333,
              "#9c179e"
             ],
             [
              0.4444444444444444,
              "#bd3786"
             ],
             [
              0.5555555555555556,
              "#d8576b"
             ],
             [
              0.6666666666666666,
              "#ed7953"
             ],
             [
              0.7777777777777778,
              "#fb9f3a"
             ],
             [
              0.8888888888888888,
              "#fdca26"
             ],
             [
              1,
              "#f0f921"
             ]
            ],
            "type": "contour"
           }
          ],
          "contourcarpet": [
           {
            "colorbar": {
             "outlinewidth": 0,
             "ticks": ""
            },
            "type": "contourcarpet"
           }
          ],
          "heatmap": [
           {
            "colorbar": {
             "outlinewidth": 0,
             "ticks": ""
            },
            "colorscale": [
             [
              0,
              "#0d0887"
             ],
             [
              0.1111111111111111,
              "#46039f"
             ],
             [
              0.2222222222222222,
              "#7201a8"
             ],
             [
              0.3333333333333333,
              "#9c179e"
             ],
             [
              0.4444444444444444,
              "#bd3786"
             ],
             [
              0.5555555555555556,
              "#d8576b"
             ],
             [
              0.6666666666666666,
              "#ed7953"
             ],
             [
              0.7777777777777778,
              "#fb9f3a"
             ],
             [
              0.8888888888888888,
              "#fdca26"
             ],
             [
              1,
              "#f0f921"
             ]
            ],
            "type": "heatmap"
           }
          ],
          "heatmapgl": [
           {
            "colorbar": {
             "outlinewidth": 0,
             "ticks": ""
            },
            "colorscale": [
             [
              0,
              "#0d0887"
             ],
             [
              0.1111111111111111,
              "#46039f"
             ],
             [
              0.2222222222222222,
              "#7201a8"
             ],
             [
              0.3333333333333333,
              "#9c179e"
             ],
             [
              0.4444444444444444,
              "#bd3786"
             ],
             [
              0.5555555555555556,
              "#d8576b"
             ],
             [
              0.6666666666666666,
              "#ed7953"
             ],
             [
              0.7777777777777778,
              "#fb9f3a"
             ],
             [
              0.8888888888888888,
              "#fdca26"
             ],
             [
              1,
              "#f0f921"
             ]
            ],
            "type": "heatmapgl"
           }
          ],
          "histogram": [
           {
            "marker": {
             "pattern": {
              "fillmode": "overlay",
              "size": 10,
              "solidity": 0.2
             }
            },
            "type": "histogram"
           }
          ],
          "histogram2d": [
           {
            "colorbar": {
             "outlinewidth": 0,
             "ticks": ""
            },
            "colorscale": [
             [
              0,
              "#0d0887"
             ],
             [
              0.1111111111111111,
              "#46039f"
             ],
             [
              0.2222222222222222,
              "#7201a8"
             ],
             [
              0.3333333333333333,
              "#9c179e"
             ],
             [
              0.4444444444444444,
              "#bd3786"
             ],
             [
              0.5555555555555556,
              "#d8576b"
             ],
             [
              0.6666666666666666,
              "#ed7953"
             ],
             [
              0.7777777777777778,
              "#fb9f3a"
             ],
             [
              0.8888888888888888,
              "#fdca26"
             ],
             [
              1,
              "#f0f921"
             ]
            ],
            "type": "histogram2d"
           }
          ],
          "histogram2dcontour": [
           {
            "colorbar": {
             "outlinewidth": 0,
             "ticks": ""
            },
            "colorscale": [
             [
              0,
              "#0d0887"
             ],
             [
              0.1111111111111111,
              "#46039f"
             ],
             [
              0.2222222222222222,
              "#7201a8"
             ],
             [
              0.3333333333333333,
              "#9c179e"
             ],
             [
              0.4444444444444444,
              "#bd3786"
             ],
             [
              0.5555555555555556,
              "#d8576b"
             ],
             [
              0.6666666666666666,
              "#ed7953"
             ],
             [
              0.7777777777777778,
              "#fb9f3a"
             ],
             [
              0.8888888888888888,
              "#fdca26"
             ],
             [
              1,
              "#f0f921"
             ]
            ],
            "type": "histogram2dcontour"
           }
          ],
          "mesh3d": [
           {
            "colorbar": {
             "outlinewidth": 0,
             "ticks": ""
            },
            "type": "mesh3d"
           }
          ],
          "parcoords": [
           {
            "line": {
             "colorbar": {
              "outlinewidth": 0,
              "ticks": ""
             }
            },
            "type": "parcoords"
           }
          ],
          "pie": [
           {
            "automargin": true,
            "type": "pie"
           }
          ],
          "scatter": [
           {
            "fillpattern": {
             "fillmode": "overlay",
             "size": 10,
             "solidity": 0.2
            },
            "type": "scatter"
           }
          ],
          "scatter3d": [
           {
            "line": {
             "colorbar": {
              "outlinewidth": 0,
              "ticks": ""
             }
            },
            "marker": {
             "colorbar": {
              "outlinewidth": 0,
              "ticks": ""
             }
            },
            "type": "scatter3d"
           }
          ],
          "scattercarpet": [
           {
            "marker": {
             "colorbar": {
              "outlinewidth": 0,
              "ticks": ""
             }
            },
            "type": "scattercarpet"
           }
          ],
          "scattergeo": [
           {
            "marker": {
             "colorbar": {
              "outlinewidth": 0,
              "ticks": ""
             }
            },
            "type": "scattergeo"
           }
          ],
          "scattergl": [
           {
            "marker": {
             "colorbar": {
              "outlinewidth": 0,
              "ticks": ""
             }
            },
            "type": "scattergl"
           }
          ],
          "scattermapbox": [
           {
            "marker": {
             "colorbar": {
              "outlinewidth": 0,
              "ticks": ""
             }
            },
            "type": "scattermapbox"
           }
          ],
          "scatterpolar": [
           {
            "marker": {
             "colorbar": {
              "outlinewidth": 0,
              "ticks": ""
             }
            },
            "type": "scatterpolar"
           }
          ],
          "scatterpolargl": [
           {
            "marker": {
             "colorbar": {
              "outlinewidth": 0,
              "ticks": ""
             }
            },
            "type": "scatterpolargl"
           }
          ],
          "scatterternary": [
           {
            "marker": {
             "colorbar": {
              "outlinewidth": 0,
              "ticks": ""
             }
            },
            "type": "scatterternary"
           }
          ],
          "surface": [
           {
            "colorbar": {
             "outlinewidth": 0,
             "ticks": ""
            },
            "colorscale": [
             [
              0,
              "#0d0887"
             ],
             [
              0.1111111111111111,
              "#46039f"
             ],
             [
              0.2222222222222222,
              "#7201a8"
             ],
             [
              0.3333333333333333,
              "#9c179e"
             ],
             [
              0.4444444444444444,
              "#bd3786"
             ],
             [
              0.5555555555555556,
              "#d8576b"
             ],
             [
              0.6666666666666666,
              "#ed7953"
             ],
             [
              0.7777777777777778,
              "#fb9f3a"
             ],
             [
              0.8888888888888888,
              "#fdca26"
             ],
             [
              1,
              "#f0f921"
             ]
            ],
            "type": "surface"
           }
          ],
          "table": [
           {
            "cells": {
             "fill": {
              "color": "#EBF0F8"
             },
             "line": {
              "color": "white"
             }
            },
            "header": {
             "fill": {
              "color": "#C8D4E3"
             },
             "line": {
              "color": "white"
             }
            },
            "type": "table"
           }
          ]
         },
         "layout": {
          "annotationdefaults": {
           "arrowcolor": "#2a3f5f",
           "arrowhead": 0,
           "arrowwidth": 1
          },
          "autotypenumbers": "strict",
          "coloraxis": {
           "colorbar": {
            "outlinewidth": 0,
            "ticks": ""
           }
          },
          "colorscale": {
           "diverging": [
            [
             0,
             "#8e0152"
            ],
            [
             0.1,
             "#c51b7d"
            ],
            [
             0.2,
             "#de77ae"
            ],
            [
             0.3,
             "#f1b6da"
            ],
            [
             0.4,
             "#fde0ef"
            ],
            [
             0.5,
             "#f7f7f7"
            ],
            [
             0.6,
             "#e6f5d0"
            ],
            [
             0.7,
             "#b8e186"
            ],
            [
             0.8,
             "#7fbc41"
            ],
            [
             0.9,
             "#4d9221"
            ],
            [
             1,
             "#276419"
            ]
           ],
           "sequential": [
            [
             0,
             "#0d0887"
            ],
            [
             0.1111111111111111,
             "#46039f"
            ],
            [
             0.2222222222222222,
             "#7201a8"
            ],
            [
             0.3333333333333333,
             "#9c179e"
            ],
            [
             0.4444444444444444,
             "#bd3786"
            ],
            [
             0.5555555555555556,
             "#d8576b"
            ],
            [
             0.6666666666666666,
             "#ed7953"
            ],
            [
             0.7777777777777778,
             "#fb9f3a"
            ],
            [
             0.8888888888888888,
             "#fdca26"
            ],
            [
             1,
             "#f0f921"
            ]
           ],
           "sequentialminus": [
            [
             0,
             "#0d0887"
            ],
            [
             0.1111111111111111,
             "#46039f"
            ],
            [
             0.2222222222222222,
             "#7201a8"
            ],
            [
             0.3333333333333333,
             "#9c179e"
            ],
            [
             0.4444444444444444,
             "#bd3786"
            ],
            [
             0.5555555555555556,
             "#d8576b"
            ],
            [
             0.6666666666666666,
             "#ed7953"
            ],
            [
             0.7777777777777778,
             "#fb9f3a"
            ],
            [
             0.8888888888888888,
             "#fdca26"
            ],
            [
             1,
             "#f0f921"
            ]
           ]
          },
          "colorway": [
           "#636efa",
           "#EF553B",
           "#00cc96",
           "#ab63fa",
           "#FFA15A",
           "#19d3f3",
           "#FF6692",
           "#B6E880",
           "#FF97FF",
           "#FECB52"
          ],
          "font": {
           "color": "#2a3f5f"
          },
          "geo": {
           "bgcolor": "white",
           "lakecolor": "white",
           "landcolor": "#E5ECF6",
           "showlakes": true,
           "showland": true,
           "subunitcolor": "white"
          },
          "hoverlabel": {
           "align": "left"
          },
          "hovermode": "closest",
          "mapbox": {
           "style": "light"
          },
          "paper_bgcolor": "white",
          "plot_bgcolor": "#E5ECF6",
          "polar": {
           "angularaxis": {
            "gridcolor": "white",
            "linecolor": "white",
            "ticks": ""
           },
           "bgcolor": "#E5ECF6",
           "radialaxis": {
            "gridcolor": "white",
            "linecolor": "white",
            "ticks": ""
           }
          },
          "scene": {
           "xaxis": {
            "backgroundcolor": "#E5ECF6",
            "gridcolor": "white",
            "gridwidth": 2,
            "linecolor": "white",
            "showbackground": true,
            "ticks": "",
            "zerolinecolor": "white"
           },
           "yaxis": {
            "backgroundcolor": "#E5ECF6",
            "gridcolor": "white",
            "gridwidth": 2,
            "linecolor": "white",
            "showbackground": true,
            "ticks": "",
            "zerolinecolor": "white"
           },
           "zaxis": {
            "backgroundcolor": "#E5ECF6",
            "gridcolor": "white",
            "gridwidth": 2,
            "linecolor": "white",
            "showbackground": true,
            "ticks": "",
            "zerolinecolor": "white"
           }
          },
          "shapedefaults": {
           "line": {
            "color": "#2a3f5f"
           }
          },
          "ternary": {
           "aaxis": {
            "gridcolor": "white",
            "linecolor": "white",
            "ticks": ""
           },
           "baxis": {
            "gridcolor": "white",
            "linecolor": "white",
            "ticks": ""
           },
           "bgcolor": "#E5ECF6",
           "caxis": {
            "gridcolor": "white",
            "linecolor": "white",
            "ticks": ""
           }
          },
          "title": {
           "x": 0.05
          },
          "xaxis": {
           "automargin": true,
           "gridcolor": "white",
           "linecolor": "white",
           "ticks": "",
           "title": {
            "standoff": 15
           },
           "zerolinecolor": "white",
           "zerolinewidth": 2
          },
          "yaxis": {
           "automargin": true,
           "gridcolor": "white",
           "linecolor": "white",
           "ticks": "",
           "title": {
            "standoff": 15
           },
           "zerolinecolor": "white",
           "zerolinewidth": 2
          }
         }
        },
        "title": {
         "text": "Porcentaje del Total de mensajeria por Municipio"
        }
       }
      }
     },
     "metadata": {},
     "output_type": "display_data"
    }
   ],
   "source": [
    "#Grafico de pastel sobre el porciento de mensajeria por municipio :)\n",
    "info_mensajeria = data2[data2[\"delivery\"].notna()]\n",
    "total_mensajeria = info_mensajeria[\"delivery\"].sum()\n",
    "mensajeria_por_municipio = info_mensajeria.groupby(\"location.municipe\")[\"delivery\"].sum()\n",
    "porciento_restaurantes_mensajeria = round(bp.c_porciento(mensajeria_por_municipio, total_mensajeria),2)\n",
    "\n",
    "mensajeria_info = []\n",
    "for i in porciento_restaurantes_mensajeria.index:\n",
    "    i = bp.i_nombre(i)\n",
    "    mensajeria_info.append(i)\n",
    "\n",
    "fig = px.pie(\n",
    "    names=porciento_restaurantes_mensajeria.index,\n",
    "    values=porciento_restaurantes_mensajeria.values,\n",
    "    title=\"Porcentaje del Total de mensajeria por Municipio\"\n",
    ")\n",
    "\n",
    "fig.update_traces(textinfo=\"percent+label\")\n",
    "fig.show()\n",
    "\n"
   ]
  },
  {
   "cell_type": "markdown",
   "metadata": {},
   "source": [
    "Tener un local que pueda rentar para la organización de eventos además de ser un restaurante puede ser una fuente luctrativa de ingresos por ello Alejandro antes de encontrar el lugar donde iba a poner su restaurante decidió investigar que capacidad media tienen los restaurantes que ofertan este servicio para buscar un local que cumpla con esas condiciones de espacios."
   ]
  },
  {
   "cell_type": "code",
   "execution_count": 67,
   "metadata": {},
   "outputs": [
    {
     "name": "stdout",
     "output_type": "stream",
     "text": [
      "50\n"
     ]
    },
    {
     "data": {
      "application/vnd.plotly.v1+json": {
       "config": {
        "plotlyServerURL": "https://plot.ly"
       },
       "data": [
        {
         "alignmentgroup": "True",
         "boxpoints": "all",
         "hovertemplate": "Capacidad Mediana de los Restaurantes=%{y}<extra></extra>",
         "legendgroup": "",
         "marker": {
          "color": "#636efa"
         },
         "name": "",
         "notched": false,
         "offsetgroup": "",
         "orientation": "v",
         "showlegend": false,
         "type": "box",
         "x0": " ",
         "xaxis": "x",
         "y": [
          30,
          80,
          28,
          36,
          70,
          60,
          30,
          40,
          40,
          12,
          200,
          25,
          40,
          60,
          50,
          70,
          50,
          20,
          50,
          30,
          20,
          45,
          50,
          35,
          40,
          50,
          28,
          60,
          50,
          70,
          36,
          60,
          38,
          60,
          50,
          50,
          20,
          60,
          30,
          65,
          20,
          50,
          30,
          12,
          30,
          50,
          20,
          93,
          120,
          50,
          50,
          70,
          30,
          40,
          50,
          20,
          16,
          20,
          30,
          20,
          45,
          30,
          38,
          36,
          50,
          50,
          60,
          150,
          35,
          50,
          180,
          80,
          24,
          32,
          40,
          30,
          54,
          60,
          20,
          40,
          40,
          55,
          24,
          70,
          50,
          70,
          40,
          40,
          28,
          36,
          34,
          55,
          100,
          20,
          35,
          null,
          40,
          40,
          60,
          30,
          120,
          30,
          30,
          60,
          70,
          35,
          60,
          20,
          40,
          40,
          80,
          null,
          40,
          40,
          50,
          42,
          30,
          40,
          100,
          12,
          50,
          30,
          50,
          40,
          null,
          40,
          28,
          50,
          45,
          25,
          50,
          30,
          25,
          35,
          40,
          44,
          40,
          60,
          30,
          60,
          50,
          36,
          20,
          40,
          50,
          40,
          70,
          45,
          40,
          35
         ],
         "y0": " ",
         "yaxis": "y"
        }
       ],
       "layout": {
        "boxmode": "group",
        "legend": {
         "tracegroupgap": 0
        },
        "template": {
         "data": {
          "bar": [
           {
            "error_x": {
             "color": "#2a3f5f"
            },
            "error_y": {
             "color": "#2a3f5f"
            },
            "marker": {
             "line": {
              "color": "#E5ECF6",
              "width": 0.5
             },
             "pattern": {
              "fillmode": "overlay",
              "size": 10,
              "solidity": 0.2
             }
            },
            "type": "bar"
           }
          ],
          "barpolar": [
           {
            "marker": {
             "line": {
              "color": "#E5ECF6",
              "width": 0.5
             },
             "pattern": {
              "fillmode": "overlay",
              "size": 10,
              "solidity": 0.2
             }
            },
            "type": "barpolar"
           }
          ],
          "carpet": [
           {
            "aaxis": {
             "endlinecolor": "#2a3f5f",
             "gridcolor": "white",
             "linecolor": "white",
             "minorgridcolor": "white",
             "startlinecolor": "#2a3f5f"
            },
            "baxis": {
             "endlinecolor": "#2a3f5f",
             "gridcolor": "white",
             "linecolor": "white",
             "minorgridcolor": "white",
             "startlinecolor": "#2a3f5f"
            },
            "type": "carpet"
           }
          ],
          "choropleth": [
           {
            "colorbar": {
             "outlinewidth": 0,
             "ticks": ""
            },
            "type": "choropleth"
           }
          ],
          "contour": [
           {
            "colorbar": {
             "outlinewidth": 0,
             "ticks": ""
            },
            "colorscale": [
             [
              0,
              "#0d0887"
             ],
             [
              0.1111111111111111,
              "#46039f"
             ],
             [
              0.2222222222222222,
              "#7201a8"
             ],
             [
              0.3333333333333333,
              "#9c179e"
             ],
             [
              0.4444444444444444,
              "#bd3786"
             ],
             [
              0.5555555555555556,
              "#d8576b"
             ],
             [
              0.6666666666666666,
              "#ed7953"
             ],
             [
              0.7777777777777778,
              "#fb9f3a"
             ],
             [
              0.8888888888888888,
              "#fdca26"
             ],
             [
              1,
              "#f0f921"
             ]
            ],
            "type": "contour"
           }
          ],
          "contourcarpet": [
           {
            "colorbar": {
             "outlinewidth": 0,
             "ticks": ""
            },
            "type": "contourcarpet"
           }
          ],
          "heatmap": [
           {
            "colorbar": {
             "outlinewidth": 0,
             "ticks": ""
            },
            "colorscale": [
             [
              0,
              "#0d0887"
             ],
             [
              0.1111111111111111,
              "#46039f"
             ],
             [
              0.2222222222222222,
              "#7201a8"
             ],
             [
              0.3333333333333333,
              "#9c179e"
             ],
             [
              0.4444444444444444,
              "#bd3786"
             ],
             [
              0.5555555555555556,
              "#d8576b"
             ],
             [
              0.6666666666666666,
              "#ed7953"
             ],
             [
              0.7777777777777778,
              "#fb9f3a"
             ],
             [
              0.8888888888888888,
              "#fdca26"
             ],
             [
              1,
              "#f0f921"
             ]
            ],
            "type": "heatmap"
           }
          ],
          "heatmapgl": [
           {
            "colorbar": {
             "outlinewidth": 0,
             "ticks": ""
            },
            "colorscale": [
             [
              0,
              "#0d0887"
             ],
             [
              0.1111111111111111,
              "#46039f"
             ],
             [
              0.2222222222222222,
              "#7201a8"
             ],
             [
              0.3333333333333333,
              "#9c179e"
             ],
             [
              0.4444444444444444,
              "#bd3786"
             ],
             [
              0.5555555555555556,
              "#d8576b"
             ],
             [
              0.6666666666666666,
              "#ed7953"
             ],
             [
              0.7777777777777778,
              "#fb9f3a"
             ],
             [
              0.8888888888888888,
              "#fdca26"
             ],
             [
              1,
              "#f0f921"
             ]
            ],
            "type": "heatmapgl"
           }
          ],
          "histogram": [
           {
            "marker": {
             "pattern": {
              "fillmode": "overlay",
              "size": 10,
              "solidity": 0.2
             }
            },
            "type": "histogram"
           }
          ],
          "histogram2d": [
           {
            "colorbar": {
             "outlinewidth": 0,
             "ticks": ""
            },
            "colorscale": [
             [
              0,
              "#0d0887"
             ],
             [
              0.1111111111111111,
              "#46039f"
             ],
             [
              0.2222222222222222,
              "#7201a8"
             ],
             [
              0.3333333333333333,
              "#9c179e"
             ],
             [
              0.4444444444444444,
              "#bd3786"
             ],
             [
              0.5555555555555556,
              "#d8576b"
             ],
             [
              0.6666666666666666,
              "#ed7953"
             ],
             [
              0.7777777777777778,
              "#fb9f3a"
             ],
             [
              0.8888888888888888,
              "#fdca26"
             ],
             [
              1,
              "#f0f921"
             ]
            ],
            "type": "histogram2d"
           }
          ],
          "histogram2dcontour": [
           {
            "colorbar": {
             "outlinewidth": 0,
             "ticks": ""
            },
            "colorscale": [
             [
              0,
              "#0d0887"
             ],
             [
              0.1111111111111111,
              "#46039f"
             ],
             [
              0.2222222222222222,
              "#7201a8"
             ],
             [
              0.3333333333333333,
              "#9c179e"
             ],
             [
              0.4444444444444444,
              "#bd3786"
             ],
             [
              0.5555555555555556,
              "#d8576b"
             ],
             [
              0.6666666666666666,
              "#ed7953"
             ],
             [
              0.7777777777777778,
              "#fb9f3a"
             ],
             [
              0.8888888888888888,
              "#fdca26"
             ],
             [
              1,
              "#f0f921"
             ]
            ],
            "type": "histogram2dcontour"
           }
          ],
          "mesh3d": [
           {
            "colorbar": {
             "outlinewidth": 0,
             "ticks": ""
            },
            "type": "mesh3d"
           }
          ],
          "parcoords": [
           {
            "line": {
             "colorbar": {
              "outlinewidth": 0,
              "ticks": ""
             }
            },
            "type": "parcoords"
           }
          ],
          "pie": [
           {
            "automargin": true,
            "type": "pie"
           }
          ],
          "scatter": [
           {
            "fillpattern": {
             "fillmode": "overlay",
             "size": 10,
             "solidity": 0.2
            },
            "type": "scatter"
           }
          ],
          "scatter3d": [
           {
            "line": {
             "colorbar": {
              "outlinewidth": 0,
              "ticks": ""
             }
            },
            "marker": {
             "colorbar": {
              "outlinewidth": 0,
              "ticks": ""
             }
            },
            "type": "scatter3d"
           }
          ],
          "scattercarpet": [
           {
            "marker": {
             "colorbar": {
              "outlinewidth": 0,
              "ticks": ""
             }
            },
            "type": "scattercarpet"
           }
          ],
          "scattergeo": [
           {
            "marker": {
             "colorbar": {
              "outlinewidth": 0,
              "ticks": ""
             }
            },
            "type": "scattergeo"
           }
          ],
          "scattergl": [
           {
            "marker": {
             "colorbar": {
              "outlinewidth": 0,
              "ticks": ""
             }
            },
            "type": "scattergl"
           }
          ],
          "scattermapbox": [
           {
            "marker": {
             "colorbar": {
              "outlinewidth": 0,
              "ticks": ""
             }
            },
            "type": "scattermapbox"
           }
          ],
          "scatterpolar": [
           {
            "marker": {
             "colorbar": {
              "outlinewidth": 0,
              "ticks": ""
             }
            },
            "type": "scatterpolar"
           }
          ],
          "scatterpolargl": [
           {
            "marker": {
             "colorbar": {
              "outlinewidth": 0,
              "ticks": ""
             }
            },
            "type": "scatterpolargl"
           }
          ],
          "scatterternary": [
           {
            "marker": {
             "colorbar": {
              "outlinewidth": 0,
              "ticks": ""
             }
            },
            "type": "scatterternary"
           }
          ],
          "surface": [
           {
            "colorbar": {
             "outlinewidth": 0,
             "ticks": ""
            },
            "colorscale": [
             [
              0,
              "#0d0887"
             ],
             [
              0.1111111111111111,
              "#46039f"
             ],
             [
              0.2222222222222222,
              "#7201a8"
             ],
             [
              0.3333333333333333,
              "#9c179e"
             ],
             [
              0.4444444444444444,
              "#bd3786"
             ],
             [
              0.5555555555555556,
              "#d8576b"
             ],
             [
              0.6666666666666666,
              "#ed7953"
             ],
             [
              0.7777777777777778,
              "#fb9f3a"
             ],
             [
              0.8888888888888888,
              "#fdca26"
             ],
             [
              1,
              "#f0f921"
             ]
            ],
            "type": "surface"
           }
          ],
          "table": [
           {
            "cells": {
             "fill": {
              "color": "#EBF0F8"
             },
             "line": {
              "color": "white"
             }
            },
            "header": {
             "fill": {
              "color": "#C8D4E3"
             },
             "line": {
              "color": "white"
             }
            },
            "type": "table"
           }
          ]
         },
         "layout": {
          "annotationdefaults": {
           "arrowcolor": "#2a3f5f",
           "arrowhead": 0,
           "arrowwidth": 1
          },
          "autotypenumbers": "strict",
          "coloraxis": {
           "colorbar": {
            "outlinewidth": 0,
            "ticks": ""
           }
          },
          "colorscale": {
           "diverging": [
            [
             0,
             "#8e0152"
            ],
            [
             0.1,
             "#c51b7d"
            ],
            [
             0.2,
             "#de77ae"
            ],
            [
             0.3,
             "#f1b6da"
            ],
            [
             0.4,
             "#fde0ef"
            ],
            [
             0.5,
             "#f7f7f7"
            ],
            [
             0.6,
             "#e6f5d0"
            ],
            [
             0.7,
             "#b8e186"
            ],
            [
             0.8,
             "#7fbc41"
            ],
            [
             0.9,
             "#4d9221"
            ],
            [
             1,
             "#276419"
            ]
           ],
           "sequential": [
            [
             0,
             "#0d0887"
            ],
            [
             0.1111111111111111,
             "#46039f"
            ],
            [
             0.2222222222222222,
             "#7201a8"
            ],
            [
             0.3333333333333333,
             "#9c179e"
            ],
            [
             0.4444444444444444,
             "#bd3786"
            ],
            [
             0.5555555555555556,
             "#d8576b"
            ],
            [
             0.6666666666666666,
             "#ed7953"
            ],
            [
             0.7777777777777778,
             "#fb9f3a"
            ],
            [
             0.8888888888888888,
             "#fdca26"
            ],
            [
             1,
             "#f0f921"
            ]
           ],
           "sequentialminus": [
            [
             0,
             "#0d0887"
            ],
            [
             0.1111111111111111,
             "#46039f"
            ],
            [
             0.2222222222222222,
             "#7201a8"
            ],
            [
             0.3333333333333333,
             "#9c179e"
            ],
            [
             0.4444444444444444,
             "#bd3786"
            ],
            [
             0.5555555555555556,
             "#d8576b"
            ],
            [
             0.6666666666666666,
             "#ed7953"
            ],
            [
             0.7777777777777778,
             "#fb9f3a"
            ],
            [
             0.8888888888888888,
             "#fdca26"
            ],
            [
             1,
             "#f0f921"
            ]
           ]
          },
          "colorway": [
           "#636efa",
           "#EF553B",
           "#00cc96",
           "#ab63fa",
           "#FFA15A",
           "#19d3f3",
           "#FF6692",
           "#B6E880",
           "#FF97FF",
           "#FECB52"
          ],
          "font": {
           "color": "#2a3f5f"
          },
          "geo": {
           "bgcolor": "white",
           "lakecolor": "white",
           "landcolor": "#E5ECF6",
           "showlakes": true,
           "showland": true,
           "subunitcolor": "white"
          },
          "hoverlabel": {
           "align": "left"
          },
          "hovermode": "closest",
          "mapbox": {
           "style": "light"
          },
          "paper_bgcolor": "white",
          "plot_bgcolor": "#E5ECF6",
          "polar": {
           "angularaxis": {
            "gridcolor": "white",
            "linecolor": "white",
            "ticks": ""
           },
           "bgcolor": "#E5ECF6",
           "radialaxis": {
            "gridcolor": "white",
            "linecolor": "white",
            "ticks": ""
           }
          },
          "scene": {
           "xaxis": {
            "backgroundcolor": "#E5ECF6",
            "gridcolor": "white",
            "gridwidth": 2,
            "linecolor": "white",
            "showbackground": true,
            "ticks": "",
            "zerolinecolor": "white"
           },
           "yaxis": {
            "backgroundcolor": "#E5ECF6",
            "gridcolor": "white",
            "gridwidth": 2,
            "linecolor": "white",
            "showbackground": true,
            "ticks": "",
            "zerolinecolor": "white"
           },
           "zaxis": {
            "backgroundcolor": "#E5ECF6",
            "gridcolor": "white",
            "gridwidth": 2,
            "linecolor": "white",
            "showbackground": true,
            "ticks": "",
            "zerolinecolor": "white"
           }
          },
          "shapedefaults": {
           "line": {
            "color": "#2a3f5f"
           }
          },
          "ternary": {
           "aaxis": {
            "gridcolor": "white",
            "linecolor": "white",
            "ticks": ""
           },
           "baxis": {
            "gridcolor": "white",
            "linecolor": "white",
            "ticks": ""
           },
           "bgcolor": "#E5ECF6",
           "caxis": {
            "gridcolor": "white",
            "linecolor": "white",
            "ticks": ""
           }
          },
          "title": {
           "x": 0.05
          },
          "xaxis": {
           "automargin": true,
           "gridcolor": "white",
           "linecolor": "white",
           "ticks": "",
           "title": {
            "standoff": 15
           },
           "zerolinecolor": "white",
           "zerolinewidth": 2
          },
          "yaxis": {
           "automargin": true,
           "gridcolor": "white",
           "linecolor": "white",
           "ticks": "",
           "title": {
            "standoff": 15
           },
           "zerolinecolor": "white",
           "zerolinewidth": 2
          }
         }
        },
        "title": {
         "text": "Distribución de la Capacidad de los Restaurantes con Reserva"
        },
        "xaxis": {
         "anchor": "y",
         "domain": [
          0,
          1
         ]
        },
        "yaxis": {
         "anchor": "x",
         "domain": [
          0,
          1
         ],
         "title": {
          "text": "Capacidad Mediana de los Restaurantes"
         }
        }
       }
      }
     },
     "metadata": {},
     "output_type": "display_data"
    }
   ],
   "source": [
    "#Grafica que muestra la capacidad mediana de los restaurantes que aceptan reservacion :)\n",
    "\n",
    "restaurantes_con_reserva = data2[data2[\"reservation\"] == True]\n",
    "capacidad_reserva= restaurantes_con_reserva[\"capacity\"]\n",
    "mediana_capacidad = round(bp.c_mediana(capacidad_reserva))\n",
    "print(mediana_capacidad)\n",
    "\n",
    "fig = px.box(\n",
    "    restaurantes_con_reserva,\n",
    "    y='capacity',\n",
    "    title='Distribución de la Capacidad de los Restaurantes con Reserva',\n",
    "    labels={'capacity': 'Capacidad Mediana de los Restaurantes'},\n",
    "    points=\"all\"\n",
    "    \n",
    ")\n",
    "\n",
    "fig.show()\n"
   ]
  },
  {
   "cell_type": "markdown",
   "metadata": {},
   "source": [
    "Tendríamos que analizar si sería una buena inversión incluir un bar dentro del local para llamar la atención de personas que buscan un lugar para compartir y relajarse un rato "
   ]
  },
  {
   "cell_type": "markdown",
   "metadata": {},
   "source": [
    "![4](coctel.jpg)"
   ]
  },
  {
   "cell_type": "markdown",
   "metadata": {},
   "source": [
    "Quedó comprobado que el 65.02 porciento de locales analizados incluyen el servicio bar, así que Alejandro concluyó que sin duda su futuro negocio debía contar con uno, quizás no con una gran carta pero al menos ofreciendo los cócteles mas comunes."
   ]
  },
  {
   "cell_type": "code",
   "execution_count": 68,
   "metadata": {},
   "outputs": [
    {
     "data": {
      "application/vnd.plotly.v1+json": {
       "config": {
        "plotlyServerURL": "https://plot.ly"
       },
       "data": [
        {
         "alignmentgroup": "True",
         "hovertemplate": "x=%{x}<br>y=%{y}<extra></extra>",
         "legendgroup": "",
         "marker": {
          "color": "#636efa",
          "pattern": {
           "shape": ""
          }
         },
         "name": "",
         "offsetgroup": "",
         "orientation": "v",
         "showlegend": false,
         "textposition": "auto",
         "type": "bar",
         "x": [
          "Con Bar",
          "Sin Bar"
         ],
         "xaxis": "x",
         "y": [
          65.02,
          34.980000000000004
         ],
         "yaxis": "y"
        }
       ],
       "layout": {
        "barmode": "relative",
        "legend": {
         "tracegroupgap": 0
        },
        "template": {
         "data": {
          "bar": [
           {
            "error_x": {
             "color": "#2a3f5f"
            },
            "error_y": {
             "color": "#2a3f5f"
            },
            "marker": {
             "line": {
              "color": "#E5ECF6",
              "width": 0.5
             },
             "pattern": {
              "fillmode": "overlay",
              "size": 10,
              "solidity": 0.2
             }
            },
            "type": "bar"
           }
          ],
          "barpolar": [
           {
            "marker": {
             "line": {
              "color": "#E5ECF6",
              "width": 0.5
             },
             "pattern": {
              "fillmode": "overlay",
              "size": 10,
              "solidity": 0.2
             }
            },
            "type": "barpolar"
           }
          ],
          "carpet": [
           {
            "aaxis": {
             "endlinecolor": "#2a3f5f",
             "gridcolor": "white",
             "linecolor": "white",
             "minorgridcolor": "white",
             "startlinecolor": "#2a3f5f"
            },
            "baxis": {
             "endlinecolor": "#2a3f5f",
             "gridcolor": "white",
             "linecolor": "white",
             "minorgridcolor": "white",
             "startlinecolor": "#2a3f5f"
            },
            "type": "carpet"
           }
          ],
          "choropleth": [
           {
            "colorbar": {
             "outlinewidth": 0,
             "ticks": ""
            },
            "type": "choropleth"
           }
          ],
          "contour": [
           {
            "colorbar": {
             "outlinewidth": 0,
             "ticks": ""
            },
            "colorscale": [
             [
              0,
              "#0d0887"
             ],
             [
              0.1111111111111111,
              "#46039f"
             ],
             [
              0.2222222222222222,
              "#7201a8"
             ],
             [
              0.3333333333333333,
              "#9c179e"
             ],
             [
              0.4444444444444444,
              "#bd3786"
             ],
             [
              0.5555555555555556,
              "#d8576b"
             ],
             [
              0.6666666666666666,
              "#ed7953"
             ],
             [
              0.7777777777777778,
              "#fb9f3a"
             ],
             [
              0.8888888888888888,
              "#fdca26"
             ],
             [
              1,
              "#f0f921"
             ]
            ],
            "type": "contour"
           }
          ],
          "contourcarpet": [
           {
            "colorbar": {
             "outlinewidth": 0,
             "ticks": ""
            },
            "type": "contourcarpet"
           }
          ],
          "heatmap": [
           {
            "colorbar": {
             "outlinewidth": 0,
             "ticks": ""
            },
            "colorscale": [
             [
              0,
              "#0d0887"
             ],
             [
              0.1111111111111111,
              "#46039f"
             ],
             [
              0.2222222222222222,
              "#7201a8"
             ],
             [
              0.3333333333333333,
              "#9c179e"
             ],
             [
              0.4444444444444444,
              "#bd3786"
             ],
             [
              0.5555555555555556,
              "#d8576b"
             ],
             [
              0.6666666666666666,
              "#ed7953"
             ],
             [
              0.7777777777777778,
              "#fb9f3a"
             ],
             [
              0.8888888888888888,
              "#fdca26"
             ],
             [
              1,
              "#f0f921"
             ]
            ],
            "type": "heatmap"
           }
          ],
          "heatmapgl": [
           {
            "colorbar": {
             "outlinewidth": 0,
             "ticks": ""
            },
            "colorscale": [
             [
              0,
              "#0d0887"
             ],
             [
              0.1111111111111111,
              "#46039f"
             ],
             [
              0.2222222222222222,
              "#7201a8"
             ],
             [
              0.3333333333333333,
              "#9c179e"
             ],
             [
              0.4444444444444444,
              "#bd3786"
             ],
             [
              0.5555555555555556,
              "#d8576b"
             ],
             [
              0.6666666666666666,
              "#ed7953"
             ],
             [
              0.7777777777777778,
              "#fb9f3a"
             ],
             [
              0.8888888888888888,
              "#fdca26"
             ],
             [
              1,
              "#f0f921"
             ]
            ],
            "type": "heatmapgl"
           }
          ],
          "histogram": [
           {
            "marker": {
             "pattern": {
              "fillmode": "overlay",
              "size": 10,
              "solidity": 0.2
             }
            },
            "type": "histogram"
           }
          ],
          "histogram2d": [
           {
            "colorbar": {
             "outlinewidth": 0,
             "ticks": ""
            },
            "colorscale": [
             [
              0,
              "#0d0887"
             ],
             [
              0.1111111111111111,
              "#46039f"
             ],
             [
              0.2222222222222222,
              "#7201a8"
             ],
             [
              0.3333333333333333,
              "#9c179e"
             ],
             [
              0.4444444444444444,
              "#bd3786"
             ],
             [
              0.5555555555555556,
              "#d8576b"
             ],
             [
              0.6666666666666666,
              "#ed7953"
             ],
             [
              0.7777777777777778,
              "#fb9f3a"
             ],
             [
              0.8888888888888888,
              "#fdca26"
             ],
             [
              1,
              "#f0f921"
             ]
            ],
            "type": "histogram2d"
           }
          ],
          "histogram2dcontour": [
           {
            "colorbar": {
             "outlinewidth": 0,
             "ticks": ""
            },
            "colorscale": [
             [
              0,
              "#0d0887"
             ],
             [
              0.1111111111111111,
              "#46039f"
             ],
             [
              0.2222222222222222,
              "#7201a8"
             ],
             [
              0.3333333333333333,
              "#9c179e"
             ],
             [
              0.4444444444444444,
              "#bd3786"
             ],
             [
              0.5555555555555556,
              "#d8576b"
             ],
             [
              0.6666666666666666,
              "#ed7953"
             ],
             [
              0.7777777777777778,
              "#fb9f3a"
             ],
             [
              0.8888888888888888,
              "#fdca26"
             ],
             [
              1,
              "#f0f921"
             ]
            ],
            "type": "histogram2dcontour"
           }
          ],
          "mesh3d": [
           {
            "colorbar": {
             "outlinewidth": 0,
             "ticks": ""
            },
            "type": "mesh3d"
           }
          ],
          "parcoords": [
           {
            "line": {
             "colorbar": {
              "outlinewidth": 0,
              "ticks": ""
             }
            },
            "type": "parcoords"
           }
          ],
          "pie": [
           {
            "automargin": true,
            "type": "pie"
           }
          ],
          "scatter": [
           {
            "fillpattern": {
             "fillmode": "overlay",
             "size": 10,
             "solidity": 0.2
            },
            "type": "scatter"
           }
          ],
          "scatter3d": [
           {
            "line": {
             "colorbar": {
              "outlinewidth": 0,
              "ticks": ""
             }
            },
            "marker": {
             "colorbar": {
              "outlinewidth": 0,
              "ticks": ""
             }
            },
            "type": "scatter3d"
           }
          ],
          "scattercarpet": [
           {
            "marker": {
             "colorbar": {
              "outlinewidth": 0,
              "ticks": ""
             }
            },
            "type": "scattercarpet"
           }
          ],
          "scattergeo": [
           {
            "marker": {
             "colorbar": {
              "outlinewidth": 0,
              "ticks": ""
             }
            },
            "type": "scattergeo"
           }
          ],
          "scattergl": [
           {
            "marker": {
             "colorbar": {
              "outlinewidth": 0,
              "ticks": ""
             }
            },
            "type": "scattergl"
           }
          ],
          "scattermapbox": [
           {
            "marker": {
             "colorbar": {
              "outlinewidth": 0,
              "ticks": ""
             }
            },
            "type": "scattermapbox"
           }
          ],
          "scatterpolar": [
           {
            "marker": {
             "colorbar": {
              "outlinewidth": 0,
              "ticks": ""
             }
            },
            "type": "scatterpolar"
           }
          ],
          "scatterpolargl": [
           {
            "marker": {
             "colorbar": {
              "outlinewidth": 0,
              "ticks": ""
             }
            },
            "type": "scatterpolargl"
           }
          ],
          "scatterternary": [
           {
            "marker": {
             "colorbar": {
              "outlinewidth": 0,
              "ticks": ""
             }
            },
            "type": "scatterternary"
           }
          ],
          "surface": [
           {
            "colorbar": {
             "outlinewidth": 0,
             "ticks": ""
            },
            "colorscale": [
             [
              0,
              "#0d0887"
             ],
             [
              0.1111111111111111,
              "#46039f"
             ],
             [
              0.2222222222222222,
              "#7201a8"
             ],
             [
              0.3333333333333333,
              "#9c179e"
             ],
             [
              0.4444444444444444,
              "#bd3786"
             ],
             [
              0.5555555555555556,
              "#d8576b"
             ],
             [
              0.6666666666666666,
              "#ed7953"
             ],
             [
              0.7777777777777778,
              "#fb9f3a"
             ],
             [
              0.8888888888888888,
              "#fdca26"
             ],
             [
              1,
              "#f0f921"
             ]
            ],
            "type": "surface"
           }
          ],
          "table": [
           {
            "cells": {
             "fill": {
              "color": "#EBF0F8"
             },
             "line": {
              "color": "white"
             }
            },
            "header": {
             "fill": {
              "color": "#C8D4E3"
             },
             "line": {
              "color": "white"
             }
            },
            "type": "table"
           }
          ]
         },
         "layout": {
          "annotationdefaults": {
           "arrowcolor": "#2a3f5f",
           "arrowhead": 0,
           "arrowwidth": 1
          },
          "autotypenumbers": "strict",
          "coloraxis": {
           "colorbar": {
            "outlinewidth": 0,
            "ticks": ""
           }
          },
          "colorscale": {
           "diverging": [
            [
             0,
             "#8e0152"
            ],
            [
             0.1,
             "#c51b7d"
            ],
            [
             0.2,
             "#de77ae"
            ],
            [
             0.3,
             "#f1b6da"
            ],
            [
             0.4,
             "#fde0ef"
            ],
            [
             0.5,
             "#f7f7f7"
            ],
            [
             0.6,
             "#e6f5d0"
            ],
            [
             0.7,
             "#b8e186"
            ],
            [
             0.8,
             "#7fbc41"
            ],
            [
             0.9,
             "#4d9221"
            ],
            [
             1,
             "#276419"
            ]
           ],
           "sequential": [
            [
             0,
             "#0d0887"
            ],
            [
             0.1111111111111111,
             "#46039f"
            ],
            [
             0.2222222222222222,
             "#7201a8"
            ],
            [
             0.3333333333333333,
             "#9c179e"
            ],
            [
             0.4444444444444444,
             "#bd3786"
            ],
            [
             0.5555555555555556,
             "#d8576b"
            ],
            [
             0.6666666666666666,
             "#ed7953"
            ],
            [
             0.7777777777777778,
             "#fb9f3a"
            ],
            [
             0.8888888888888888,
             "#fdca26"
            ],
            [
             1,
             "#f0f921"
            ]
           ],
           "sequentialminus": [
            [
             0,
             "#0d0887"
            ],
            [
             0.1111111111111111,
             "#46039f"
            ],
            [
             0.2222222222222222,
             "#7201a8"
            ],
            [
             0.3333333333333333,
             "#9c179e"
            ],
            [
             0.4444444444444444,
             "#bd3786"
            ],
            [
             0.5555555555555556,
             "#d8576b"
            ],
            [
             0.6666666666666666,
             "#ed7953"
            ],
            [
             0.7777777777777778,
             "#fb9f3a"
            ],
            [
             0.8888888888888888,
             "#fdca26"
            ],
            [
             1,
             "#f0f921"
            ]
           ]
          },
          "colorway": [
           "#636efa",
           "#EF553B",
           "#00cc96",
           "#ab63fa",
           "#FFA15A",
           "#19d3f3",
           "#FF6692",
           "#B6E880",
           "#FF97FF",
           "#FECB52"
          ],
          "font": {
           "color": "#2a3f5f"
          },
          "geo": {
           "bgcolor": "white",
           "lakecolor": "white",
           "landcolor": "#E5ECF6",
           "showlakes": true,
           "showland": true,
           "subunitcolor": "white"
          },
          "hoverlabel": {
           "align": "left"
          },
          "hovermode": "closest",
          "mapbox": {
           "style": "light"
          },
          "paper_bgcolor": "white",
          "plot_bgcolor": "#E5ECF6",
          "polar": {
           "angularaxis": {
            "gridcolor": "white",
            "linecolor": "white",
            "ticks": ""
           },
           "bgcolor": "#E5ECF6",
           "radialaxis": {
            "gridcolor": "white",
            "linecolor": "white",
            "ticks": ""
           }
          },
          "scene": {
           "xaxis": {
            "backgroundcolor": "#E5ECF6",
            "gridcolor": "white",
            "gridwidth": 2,
            "linecolor": "white",
            "showbackground": true,
            "ticks": "",
            "zerolinecolor": "white"
           },
           "yaxis": {
            "backgroundcolor": "#E5ECF6",
            "gridcolor": "white",
            "gridwidth": 2,
            "linecolor": "white",
            "showbackground": true,
            "ticks": "",
            "zerolinecolor": "white"
           },
           "zaxis": {
            "backgroundcolor": "#E5ECF6",
            "gridcolor": "white",
            "gridwidth": 2,
            "linecolor": "white",
            "showbackground": true,
            "ticks": "",
            "zerolinecolor": "white"
           }
          },
          "shapedefaults": {
           "line": {
            "color": "#2a3f5f"
           }
          },
          "ternary": {
           "aaxis": {
            "gridcolor": "white",
            "linecolor": "white",
            "ticks": ""
           },
           "baxis": {
            "gridcolor": "white",
            "linecolor": "white",
            "ticks": ""
           },
           "bgcolor": "#E5ECF6",
           "caxis": {
            "gridcolor": "white",
            "linecolor": "white",
            "ticks": ""
           }
          },
          "title": {
           "x": 0.05
          },
          "xaxis": {
           "automargin": true,
           "gridcolor": "white",
           "linecolor": "white",
           "ticks": "",
           "title": {
            "standoff": 15
           },
           "zerolinecolor": "white",
           "zerolinewidth": 2
          },
          "yaxis": {
           "automargin": true,
           "gridcolor": "white",
           "linecolor": "white",
           "ticks": "",
           "title": {
            "standoff": 15
           },
           "zerolinecolor": "white",
           "zerolinewidth": 2
          }
         }
        },
        "title": {
         "text": "Porciento de Locales con Bar Incluido"
        },
        "xaxis": {
         "anchor": "y",
         "domain": [
          0,
          1
         ],
         "title": {
          "text": "x"
         }
        },
        "yaxis": {
         "anchor": "x",
         "domain": [
          0,
          1
         ],
         "title": {
          "text": "y"
         }
        }
       }
      }
     },
     "metadata": {},
     "output_type": "display_data"
    }
   ],
   "source": [
    "#Grafico que muestra el porciento de locales que tiene la opcion de bar\n",
    "total_tipo = len(data2)\n",
    "tipo = data2[\"type\"]\n",
    "tipo_bar = []\n",
    "for i in tipo:\n",
    "    if i == \"Bar\" or i == \"Bar-Restaurante\" or i == \"Bar-Restaurante-Cafeteria\":\n",
    "        tipo_bar.append(i)\n",
    "cant_bar = len(tipo_bar)\n",
    "porciento_bares = round(bp.c_porciento(cant_bar, total_tipo), 2)\n",
    "porciento_sin_bares =  100 - porciento_bares\n",
    "\n",
    "fig= px.bar(\n",
    "    x=(\"Con Bar\",\"Sin Bar\"),\n",
    "    y=(porciento_bares, porciento_sin_bares),\n",
    "    title=\"Porciento de Locales con Bar Incluido\",\n",
    "    labels=(\"Categorias\",\"Porcentaje\")\n",
    "\n",
    "\n",
    ")\n",
    "fig.show()"
   ]
  },
  {
   "cell_type": "markdown",
   "metadata": {},
   "source": [
    "Necesitariamos agregar nuestra localización a un mapa en línea para facilitarle la úbicacion a todos los interesados y creo que teniendo garantizado todo lo anterior están garantizadas las condiciones basicas para iniciar nuestro negocio y después ir creciendo poco a poco hasta lograr ser uno de los mejores restaurantes de la Ciudad de La Habana\n",
    "\n",
    "-Caridad: Hay mijo cuantos sueños tienes y cuantas cosas hay que analizar para el restaurante, no crees que sea mejor que me pongas un negocito de Shein?"
   ]
  },
  {
   "cell_type": "code",
   "execution_count": 69,
   "metadata": {},
   "outputs": [
    {
     "data": {
      "text/html": [
       "<div style=\"width:100%;\"><div style=\"position:relative;width:100%;height:0;padding-bottom:60%;\"><span style=\"color:#565656\">Make this Notebook Trusted to load map: File -> Trust Notebook</span><iframe srcdoc=\"&lt;!DOCTYPE html&gt;\n",
       "&lt;html&gt;\n",
       "&lt;head&gt;\n",
       "    \n",
       "    &lt;meta http-equiv=&quot;content-type&quot; content=&quot;text/html; charset=UTF-8&quot; /&gt;\n",
       "    \n",
       "        &lt;script&gt;\n",
       "            L_NO_TOUCH = false;\n",
       "            L_DISABLE_3D = false;\n",
       "        &lt;/script&gt;\n",
       "    \n",
       "    &lt;style&gt;html, body {width: 100%;height: 100%;margin: 0;padding: 0;}&lt;/style&gt;\n",
       "    &lt;style&gt;#map {position:absolute;top:0;bottom:0;right:0;left:0;}&lt;/style&gt;\n",
       "    &lt;script src=&quot;https://cdn.jsdelivr.net/npm/leaflet@1.9.3/dist/leaflet.js&quot;&gt;&lt;/script&gt;\n",
       "    &lt;script src=&quot;https://code.jquery.com/jquery-3.7.1.min.js&quot;&gt;&lt;/script&gt;\n",
       "    &lt;script src=&quot;https://cdn.jsdelivr.net/npm/bootstrap@5.2.2/dist/js/bootstrap.bundle.min.js&quot;&gt;&lt;/script&gt;\n",
       "    &lt;script src=&quot;https://cdnjs.cloudflare.com/ajax/libs/Leaflet.awesome-markers/2.0.2/leaflet.awesome-markers.js&quot;&gt;&lt;/script&gt;\n",
       "    &lt;link rel=&quot;stylesheet&quot; href=&quot;https://cdn.jsdelivr.net/npm/leaflet@1.9.3/dist/leaflet.css&quot;/&gt;\n",
       "    &lt;link rel=&quot;stylesheet&quot; href=&quot;https://cdn.jsdelivr.net/npm/bootstrap@5.2.2/dist/css/bootstrap.min.css&quot;/&gt;\n",
       "    &lt;link rel=&quot;stylesheet&quot; href=&quot;https://netdna.bootstrapcdn.com/bootstrap/3.0.0/css/bootstrap-glyphicons.css&quot;/&gt;\n",
       "    &lt;link rel=&quot;stylesheet&quot; href=&quot;https://cdn.jsdelivr.net/npm/@fortawesome/fontawesome-free@6.2.0/css/all.min.css&quot;/&gt;\n",
       "    &lt;link rel=&quot;stylesheet&quot; href=&quot;https://cdnjs.cloudflare.com/ajax/libs/Leaflet.awesome-markers/2.0.2/leaflet.awesome-markers.css&quot;/&gt;\n",
       "    &lt;link rel=&quot;stylesheet&quot; href=&quot;https://cdn.jsdelivr.net/gh/python-visualization/folium/folium/templates/leaflet.awesome.rotate.min.css&quot;/&gt;\n",
       "    \n",
       "            &lt;meta name=&quot;viewport&quot; content=&quot;width=device-width,\n",
       "                initial-scale=1.0, maximum-scale=1.0, user-scalable=no&quot; /&gt;\n",
       "            &lt;style&gt;\n",
       "                #map_7f5ed2f3d7f5669ce524652a5c024be3 {\n",
       "                    position: relative;\n",
       "                    width: 100.0%;\n",
       "                    height: 100.0%;\n",
       "                    left: 0.0%;\n",
       "                    top: 0.0%;\n",
       "                }\n",
       "                .leaflet-container { font-size: 1rem; }\n",
       "            &lt;/style&gt;\n",
       "        \n",
       "&lt;/head&gt;\n",
       "&lt;body&gt;\n",
       "    \n",
       "    \n",
       "            &lt;div class=&quot;folium-map&quot; id=&quot;map_7f5ed2f3d7f5669ce524652a5c024be3&quot; &gt;&lt;/div&gt;\n",
       "        \n",
       "&lt;/body&gt;\n",
       "&lt;script&gt;\n",
       "    \n",
       "    \n",
       "            var map_7f5ed2f3d7f5669ce524652a5c024be3 = L.map(\n",
       "                &quot;map_7f5ed2f3d7f5669ce524652a5c024be3&quot;,\n",
       "                {\n",
       "                    center: [23.1, -82.4],\n",
       "                    crs: L.CRS.EPSG3857,\n",
       "                    ...{\n",
       "  &quot;zoom&quot;: 11,\n",
       "  &quot;zoomControl&quot;: true,\n",
       "  &quot;preferCanvas&quot;: false,\n",
       "}\n",
       "\n",
       "                }\n",
       "            );\n",
       "\n",
       "            \n",
       "\n",
       "        \n",
       "    \n",
       "            var tile_layer_74587b732a4165851ce2987a55f7ccf5 = L.tileLayer(\n",
       "                &quot;https://tile.openstreetmap.org/{z}/{x}/{y}.png&quot;,\n",
       "                {\n",
       "  &quot;minZoom&quot;: 0,\n",
       "  &quot;maxZoom&quot;: 19,\n",
       "  &quot;maxNativeZoom&quot;: 19,\n",
       "  &quot;noWrap&quot;: false,\n",
       "  &quot;attribution&quot;: &quot;\\u0026copy; \\u003ca href=\\&quot;https://www.openstreetmap.org/copyright\\&quot;\\u003eOpenStreetMap\\u003c/a\\u003e contributors&quot;,\n",
       "  &quot;subdomains&quot;: &quot;abc&quot;,\n",
       "  &quot;detectRetina&quot;: false,\n",
       "  &quot;tms&quot;: false,\n",
       "  &quot;opacity&quot;: 1,\n",
       "}\n",
       "\n",
       "            );\n",
       "        \n",
       "    \n",
       "            tile_layer_74587b732a4165851ce2987a55f7ccf5.addTo(map_7f5ed2f3d7f5669ce524652a5c024be3);\n",
       "        \n",
       "    \n",
       "\n",
       "        function geo_json_c37c96f782df3455648039548e71c61b_onEachFeature(feature, layer) {\n",
       "            layer.on({\n",
       "            });\n",
       "        };\n",
       "        var geo_json_c37c96f782df3455648039548e71c61b = L.geoJson(null, {\n",
       "                onEachFeature: geo_json_c37c96f782df3455648039548e71c61b_onEachFeature,\n",
       "            \n",
       "            ...{\n",
       "}\n",
       "        });\n",
       "\n",
       "        function geo_json_c37c96f782df3455648039548e71c61b_add (data) {\n",
       "            geo_json_c37c96f782df3455648039548e71c61b\n",
       "                .addData(data);\n",
       "        }\n",
       "            geo_json_c37c96f782df3455648039548e71c61b_add({&quot;features&quot;: [{&quot;geometry&quot;: {&quot;coordinates&quot;: [[[-82.5403, 23.0517], [-82.5289, 23.0628], [-82.5239, 23.0735], [-82.509, 23.0829], [-82.5045, 23.0806], [-82.4981, 23.0844], [-82.5026, 23.0865], [-82.4957, 23.0937], [-82.4911, 23.0937], [-82.4894, 23.0897], [-82.4872, 23.0951], [-82.4835, 23.0947], [-82.4781, 23.0901], [-82.4783, 23.0949], [-82.4606, 23.0936], [-82.4609, 23.0976], [-82.4554, 23.0961], [-82.4535, 23.1017], [-82.4346, 23.1193], [-82.4152, 23.1334], [-82.4121, 23.1339], [-82.4119, 23.1305], [-82.4053, 23.1406], [-82.3912, 23.1478], [-82.3696, 23.1424], [-82.3579, 23.1468], [-82.3522, 23.145], [-82.345, 23.1353], [-82.3478, 23.1286], [-82.3577, 23.122], [-82.351, 23.1205], [-82.3448, 23.1266], [-82.3422, 23.1147], [-82.3343, 23.1123], [-82.3406, 23.1243], [-82.3359, 23.1273], [-82.3374, 23.1347], [-82.328, 23.1303], [-82.3281, 23.1382], [-82.3229, 23.1427], [-82.3446, 23.1424], [-82.3563, 23.1516], [-82.3244, 23.1664], [-82.3026, 23.1715], [-82.2944, 23.1688], [-82.2911, 23.1637], [-82.2892, 23.1702], [-82.2772, 23.1754], [-82.2442, 23.1786], [-82.2402, 23.1732], [-82.2393, 23.1783], [-82.228, 23.1806], [-82.214, 23.1785], [-82.2115, 23.1724], [-82.2121, 23.1785], [-82.2045, 23.1806], [-82.1518, 23.172], [-82.1258, 23.1744], [-82.1225, 23.1684], [-82.1161, 23.1715], [-82.1209, 23.1724], [-82.1185, 23.1737], [-82.098, 23.1729], [-82.0929, 23.1761], [-82.0925, 23.168], [-82.1016, 23.1666], [-82.1025, 23.1598], [-82.082, 23.1487], [-82.0799, 23.1245], [-82.0931, 23.1221], [-82.0861, 23.1055], [-82.1016, 23.0931], [-82.1015, 23.0847], [-82.1087, 23.0806], [-82.1058, 23.0767], [-82.1096, 23.0683], [-82.1011, 23.0555], [-82.1148, 23.0547], [-82.1445, 23.0685], [-82.15, 23.075], [-82.1562, 23.0744], [-82.1764, 23.0576], [-82.2231, 23.064], [-82.2256, 23.0165], [-82.1964, 22.9972], [-82.1979, 22.993], [-82.2115, 22.9944], [-82.2167, 22.9997], [-82.2283, 22.9804], [-82.2618, 22.9734], [-82.2475, 22.9564], [-82.2676, 22.9578], [-82.2798, 22.9519], [-82.2976, 22.9541], [-82.3009, 22.9627], [-82.3056, 22.9648], [-82.3132, 22.9649], [-82.3304, 22.9563], [-82.3648, 22.9667], [-82.3775, 22.9657], [-82.3759, 22.9558], [-82.3658, 22.9405], [-82.3868, 22.9337], [-82.4152, 22.9483], [-82.4287, 22.9466], [-82.4336, 22.9403], [-82.4458, 22.9471], [-82.4436, 22.9814], [-82.4482, 22.9851], [-82.4578, 22.9775], [-82.4661, 22.982], [-82.4672, 22.9783], [-82.4843, 22.9729], [-82.498, 22.9947], [-82.5012, 23.0095], [-82.5081, 23.0153], [-82.5066, 23.0211], [-82.4982, 23.0262], [-82.4949, 23.0323], [-82.4973, 23.0392], [-82.4917, 23.0411], [-82.4889, 23.0523], [-82.4921, 23.0736], [-82.4972, 23.0736], [-82.5021, 23.0687], [-82.5108, 23.0703], [-82.5329, 23.0523], [-82.5403, 23.0517]]], &quot;type&quot;: &quot;Polygon&quot;}, &quot;properties&quot;: {&quot;DPA_province_code&quot;: &quot;23&quot;, &quot;country&quot;: &quot;Cuba&quot;, &quot;country_domain&quot;: &quot;cu&quot;, &quot;province&quot;: &quot;La Habana&quot;, &quot;province_id&quot;: &quot;lha&quot;, &quot;region&quot;: &quot;province&quot;}, &quot;type&quot;: &quot;Feature&quot;}], &quot;type&quot;: &quot;FeatureCollection&quot;});\n",
       "        geo_json_c37c96f782df3455648039548e71c61b.setStyle(function(feature) {return feature.properties.style;});\n",
       "\n",
       "        \n",
       "    \n",
       "            geo_json_c37c96f782df3455648039548e71c61b.addTo(map_7f5ed2f3d7f5669ce524652a5c024be3);\n",
       "        \n",
       "    \n",
       "            var marker_df03e65a8e8c6a48560e5151dd4c13db = L.marker(\n",
       "                [23.127994303036843, -82.33433402886767],\n",
       "                {\n",
       "}\n",
       "            ).addTo(map_7f5ed2f3d7f5669ce524652a5c024be3);\n",
       "        \n",
       "    \n",
       "            var icon_f1c084430fc6741fb001cbcd7b8dd67c = L.AwesomeMarkers.icon(\n",
       "                {\n",
       "  &quot;markerColor&quot;: &quot;red&quot;,\n",
       "  &quot;iconColor&quot;: &quot;white&quot;,\n",
       "  &quot;icon&quot;: &quot;cutlery&quot;,\n",
       "  &quot;prefix&quot;: &quot;fa&quot;,\n",
       "  &quot;extraClasses&quot;: &quot;fa-rotate-0&quot;,\n",
       "}\n",
       "            );\n",
       "            marker_df03e65a8e8c6a48560e5151dd4c13db.setIcon(icon_f1c084430fc6741fb001cbcd7b8dd67c);\n",
       "        \n",
       "    \n",
       "        var popup_e390bb9106ca0a7f5ae69f00b57f01b5 = L.popup({\n",
       "  &quot;maxWidth&quot;: &quot;100%&quot;,\n",
       "});\n",
       "\n",
       "        \n",
       "            \n",
       "                var html_7ec18fd967c34d1a72d3754d77ab0aa3 = $(`&lt;div id=&quot;html_7ec18fd967c34d1a72d3754d77ab0aa3&quot; style=&quot;width: 100.0%; height: 100.0%;&quot;&gt;(&quot;&lt;b style=&#x27;font-size: 18px; &#x27;&gt;@2KFE&lt;/b&gt;&lt;br&gt;Direccion:  entre Martí y Maceo, Pereira&quot;, &quot;Especialidades: [&#x27;Internacional&#x27;, &#x27;Criolla&#x27;]&quot;)&lt;/div&gt;`)[0];\n",
       "                popup_e390bb9106ca0a7f5ae69f00b57f01b5.setContent(html_7ec18fd967c34d1a72d3754d77ab0aa3);\n",
       "            \n",
       "        \n",
       "\n",
       "        marker_df03e65a8e8c6a48560e5151dd4c13db.bindPopup(popup_e390bb9106ca0a7f5ae69f00b57f01b5)\n",
       "        ;\n",
       "\n",
       "        \n",
       "    \n",
       "    \n",
       "            var marker_d86410da38d23ed6aa651d4a1ca68461 = L.marker(\n",
       "                [23.123441938216946, -82.32315460160667],\n",
       "                {\n",
       "}\n",
       "            ).addTo(map_7f5ed2f3d7f5669ce524652a5c024be3);\n",
       "        \n",
       "    \n",
       "            var icon_9feff0391db4fecc04cdacbb4627197e = L.AwesomeMarkers.icon(\n",
       "                {\n",
       "  &quot;markerColor&quot;: &quot;red&quot;,\n",
       "  &quot;iconColor&quot;: &quot;white&quot;,\n",
       "  &quot;icon&quot;: &quot;cutlery&quot;,\n",
       "  &quot;prefix&quot;: &quot;fa&quot;,\n",
       "  &quot;extraClasses&quot;: &quot;fa-rotate-0&quot;,\n",
       "}\n",
       "            );\n",
       "            marker_d86410da38d23ed6aa651d4a1ca68461.setIcon(icon_9feff0391db4fecc04cdacbb4627197e);\n",
       "        \n",
       "    \n",
       "        var popup_fd1cf57c7a84c0f294d4f6b6b2352475 = L.popup({\n",
       "  &quot;maxWidth&quot;: &quot;100%&quot;,\n",
       "});\n",
       "\n",
       "        \n",
       "            \n",
       "                var html_3037f9c963a263eb22d0f4d7c43e3887 = $(`&lt;div id=&quot;html_3037f9c963a263eb22d0f4d7c43e3887&quot; style=&quot;width: 100.0%; height: 100.0%;&quot;&gt;(&quot;&lt;b style=&#x27;font-size: 18px; &#x27;&gt;5ta Billar&lt;/b&gt;&lt;br&gt;Direccion: Av. Rotoria entre enlace y A&quot;, &quot;Especialidades: [&#x27;Internacional&#x27;]&quot;)&lt;/div&gt;`)[0];\n",
       "                popup_fd1cf57c7a84c0f294d4f6b6b2352475.setContent(html_3037f9c963a263eb22d0f4d7c43e3887);\n",
       "            \n",
       "        \n",
       "\n",
       "        marker_d86410da38d23ed6aa651d4a1ca68461.bindPopup(popup_fd1cf57c7a84c0f294d4f6b6b2352475)\n",
       "        ;\n",
       "\n",
       "        \n",
       "    \n",
       "    \n",
       "            var marker_05cc080f39b3a7336746676a03e7db31 = L.marker(\n",
       "                [23.088058099587446, -82.42179558984083],\n",
       "                {\n",
       "}\n",
       "            ).addTo(map_7f5ed2f3d7f5669ce524652a5c024be3);\n",
       "        \n",
       "    \n",
       "            var icon_3ced8f6f338b70463ce45ababf9ed946 = L.AwesomeMarkers.icon(\n",
       "                {\n",
       "  &quot;markerColor&quot;: &quot;red&quot;,\n",
       "  &quot;iconColor&quot;: &quot;white&quot;,\n",
       "  &quot;icon&quot;: &quot;cutlery&quot;,\n",
       "  &quot;prefix&quot;: &quot;fa&quot;,\n",
       "  &quot;extraClasses&quot;: &quot;fa-rotate-0&quot;,\n",
       "}\n",
       "            );\n",
       "            marker_05cc080f39b3a7336746676a03e7db31.setIcon(icon_3ced8f6f338b70463ce45ababf9ed946);\n",
       "        \n",
       "    \n",
       "        var popup_6e523a83168daff4c0801904a67e7ecb = L.popup({\n",
       "  &quot;maxWidth&quot;: &quot;100%&quot;,\n",
       "});\n",
       "\n",
       "        \n",
       "            \n",
       "                var html_9b793dd8a9f1b1ffbb46f7133a8b1e6b = $(`&lt;div id=&quot;html_9b793dd8a9f1b1ffbb46f7133a8b1e6b&quot; style=&quot;width: 100.0%; height: 100.0%;&quot;&gt;(&quot;&lt;b style=&#x27;font-size: 18px; &#x27;&gt;700º&lt;/b&gt;&lt;br&gt;Direccion: avenida 41 esquina 86&quot;, &quot;Especialidades: [&#x27;Comida Mixta&#x27;]&quot;)&lt;/div&gt;`)[0];\n",
       "                popup_6e523a83168daff4c0801904a67e7ecb.setContent(html_9b793dd8a9f1b1ffbb46f7133a8b1e6b);\n",
       "            \n",
       "        \n",
       "\n",
       "        marker_05cc080f39b3a7336746676a03e7db31.bindPopup(popup_6e523a83168daff4c0801904a67e7ecb)\n",
       "        ;\n",
       "\n",
       "        \n",
       "    \n",
       "    \n",
       "            var marker_ee88ab30d0cf4cfdb58dd5e32cd9f7d6 = L.marker(\n",
       "                [23.05774000743355, -82.38292623217035],\n",
       "                {\n",
       "}\n",
       "            ).addTo(map_7f5ed2f3d7f5669ce524652a5c024be3);\n",
       "        \n",
       "    \n",
       "            var icon_3b334bfd46297b8ca97b5a219eb5f95d = L.AwesomeMarkers.icon(\n",
       "                {\n",
       "  &quot;markerColor&quot;: &quot;red&quot;,\n",
       "  &quot;iconColor&quot;: &quot;white&quot;,\n",
       "  &quot;icon&quot;: &quot;cutlery&quot;,\n",
       "  &quot;prefix&quot;: &quot;fa&quot;,\n",
       "  &quot;extraClasses&quot;: &quot;fa-rotate-0&quot;,\n",
       "}\n",
       "            );\n",
       "            marker_ee88ab30d0cf4cfdb58dd5e32cd9f7d6.setIcon(icon_3b334bfd46297b8ca97b5a219eb5f95d);\n",
       "        \n",
       "    \n",
       "        var popup_b8eb08da38ab93da936652409d5644f1 = L.popup({\n",
       "  &quot;maxWidth&quot;: &quot;100%&quot;,\n",
       "});\n",
       "\n",
       "        \n",
       "            \n",
       "                var html_2d3ebed73c2d685f218fc172e2e56228 = $(`&lt;div id=&quot;html_2d3ebed73c2d685f218fc172e2e56228&quot; style=&quot;width: 100.0%; height: 100.0%;&quot;&gt;(&quot;&lt;b style=&#x27;font-size: 18px; &#x27;&gt;Abuelo D&#x27;Oro&lt;/b&gt;&lt;br&gt;Direccion: Calzada Aldabo % 12 y 13, Aldabo&quot;, &quot;Especialidades: [&#x27;Cubana&#x27;, &#x27;Internacional&#x27;, &#x27;Italiana&#x27;]&quot;)&lt;/div&gt;`)[0];\n",
       "                popup_b8eb08da38ab93da936652409d5644f1.setContent(html_2d3ebed73c2d685f218fc172e2e56228);\n",
       "            \n",
       "        \n",
       "\n",
       "        marker_ee88ab30d0cf4cfdb58dd5e32cd9f7d6.bindPopup(popup_b8eb08da38ab93da936652409d5644f1)\n",
       "        ;\n",
       "\n",
       "        \n",
       "    \n",
       "    \n",
       "            var marker_8ce35893e2169389ccf83ae417dce88e = L.marker(\n",
       "                [23.161955819683246, -82.29436375935097],\n",
       "                {\n",
       "}\n",
       "            ).addTo(map_7f5ed2f3d7f5669ce524652a5c024be3);\n",
       "        \n",
       "    \n",
       "            var icon_467d7c834dac5d10bc6297faef78b911 = L.AwesomeMarkers.icon(\n",
       "                {\n",
       "  &quot;markerColor&quot;: &quot;red&quot;,\n",
       "  &quot;iconColor&quot;: &quot;white&quot;,\n",
       "  &quot;icon&quot;: &quot;cutlery&quot;,\n",
       "  &quot;prefix&quot;: &quot;fa&quot;,\n",
       "  &quot;extraClasses&quot;: &quot;fa-rotate-0&quot;,\n",
       "}\n",
       "            );\n",
       "            marker_8ce35893e2169389ccf83ae417dce88e.setIcon(icon_467d7c834dac5d10bc6297faef78b911);\n",
       "        \n",
       "    \n",
       "        var popup_4966b5a6873b41489709ea6ddb9647f5 = L.popup({\n",
       "  &quot;maxWidth&quot;: &quot;100%&quot;,\n",
       "});\n",
       "\n",
       "        \n",
       "            \n",
       "                var html_47f9957b950a290ba626810126c095df = $(`&lt;div id=&quot;html_47f9957b950a290ba626810126c095df&quot; style=&quot;width: 100.0%; height: 100.0%;&quot;&gt;(&quot;&lt;b style=&#x27;font-size: 18px; &#x27;&gt;Aires de Cojimar&lt;/b&gt;&lt;br&gt;Direccion: Pezuela #3e05 entre RUA y Espartero, Cojimar&quot;, &quot;Especialidades: [&#x27;Comida mixta&#x27;]&quot;)&lt;/div&gt;`)[0];\n",
       "                popup_4966b5a6873b41489709ea6ddb9647f5.setContent(html_47f9957b950a290ba626810126c095df);\n",
       "            \n",
       "        \n",
       "\n",
       "        marker_8ce35893e2169389ccf83ae417dce88e.bindPopup(popup_4966b5a6873b41489709ea6ddb9647f5)\n",
       "        ;\n",
       "\n",
       "        \n",
       "    \n",
       "    \n",
       "            var marker_99136c478e8695e208af88d8592c06bb = L.marker(\n",
       "                [23.164158289847958, -82.3080389633564],\n",
       "                {\n",
       "}\n",
       "            ).addTo(map_7f5ed2f3d7f5669ce524652a5c024be3);\n",
       "        \n",
       "    \n",
       "            var icon_07eb0756ba4c3cc6148f372d2f64ca6d = L.AwesomeMarkers.icon(\n",
       "                {\n",
       "  &quot;markerColor&quot;: &quot;red&quot;,\n",
       "  &quot;iconColor&quot;: &quot;white&quot;,\n",
       "  &quot;icon&quot;: &quot;cutlery&quot;,\n",
       "  &quot;prefix&quot;: &quot;fa&quot;,\n",
       "  &quot;extraClasses&quot;: &quot;fa-rotate-0&quot;,\n",
       "}\n",
       "            );\n",
       "            marker_99136c478e8695e208af88d8592c06bb.setIcon(icon_07eb0756ba4c3cc6148f372d2f64ca6d);\n",
       "        \n",
       "    \n",
       "        var popup_1e5cd943a39b4c2ee504759803971dd7 = L.popup({\n",
       "  &quot;maxWidth&quot;: &quot;100%&quot;,\n",
       "});\n",
       "\n",
       "        \n",
       "            \n",
       "                var html_51d70cb8162f315cd81d27b506d1006f = $(`&lt;div id=&quot;html_51d70cb8162f315cd81d27b506d1006f&quot; style=&quot;width: 100.0%; height: 100.0%;&quot;&gt;(&quot;&lt;b style=&#x27;font-size: 18px; &#x27;&gt;Allegro&lt;/b&gt;&lt;br&gt;Direccion: Paseo de la Villa, Villa Panamericana&quot;, &quot;Especialidades: [&#x27;Comida italiana&#x27;]&quot;)&lt;/div&gt;`)[0];\n",
       "                popup_1e5cd943a39b4c2ee504759803971dd7.setContent(html_51d70cb8162f315cd81d27b506d1006f);\n",
       "            \n",
       "        \n",
       "\n",
       "        marker_99136c478e8695e208af88d8592c06bb.bindPopup(popup_1e5cd943a39b4c2ee504759803971dd7)\n",
       "        ;\n",
       "\n",
       "        \n",
       "    \n",
       "    \n",
       "            var marker_c854e5259da718e1b38187eaa80f3dcd = L.marker(\n",
       "                [23.155233076567885, -82.27082914585701],\n",
       "                {\n",
       "}\n",
       "            ).addTo(map_7f5ed2f3d7f5669ce524652a5c024be3);\n",
       "        \n",
       "    \n",
       "            var icon_f2f6ff4b6552745ffc0cd45124630ddd = L.AwesomeMarkers.icon(\n",
       "                {\n",
       "  &quot;markerColor&quot;: &quot;red&quot;,\n",
       "  &quot;iconColor&quot;: &quot;white&quot;,\n",
       "  &quot;icon&quot;: &quot;cutlery&quot;,\n",
       "  &quot;prefix&quot;: &quot;fa&quot;,\n",
       "  &quot;extraClasses&quot;: &quot;fa-rotate-0&quot;,\n",
       "}\n",
       "            );\n",
       "            marker_c854e5259da718e1b38187eaa80f3dcd.setIcon(icon_f2f6ff4b6552745ffc0cd45124630ddd);\n",
       "        \n",
       "    \n",
       "        var popup_03f403f1997aa0c3daa078517dbbbc4c = L.popup({\n",
       "  &quot;maxWidth&quot;: &quot;100%&quot;,\n",
       "});\n",
       "\n",
       "        \n",
       "            \n",
       "                var html_3551d2a6da8f20d22a270bf20745383c = $(`&lt;div id=&quot;html_3551d2a6da8f20d22a270bf20745383c&quot; style=&quot;width: 100.0%; height: 100.0%;&quot;&gt;(&quot;&lt;b style=&#x27;font-size: 18px; &#x27;&gt;Al Campestre&lt;/b&gt;&lt;br&gt;Direccion: El Intermitente, Via  Blanca, Alamar&quot;, &quot;Especialidades: [&#x27;Comida mixta&#x27;]&quot;)&lt;/div&gt;`)[0];\n",
       "                popup_03f403f1997aa0c3daa078517dbbbc4c.setContent(html_3551d2a6da8f20d22a270bf20745383c);\n",
       "            \n",
       "        \n",
       "\n",
       "        marker_c854e5259da718e1b38187eaa80f3dcd.bindPopup(popup_03f403f1997aa0c3daa078517dbbbc4c)\n",
       "        ;\n",
       "\n",
       "        \n",
       "    \n",
       "    \n",
       "            var marker_989db16b20c5c3b78b9cbe60513d4f58 = L.marker(\n",
       "                [23.098029367090493, -82.26549627264866],\n",
       "                {\n",
       "}\n",
       "            ).addTo(map_7f5ed2f3d7f5669ce524652a5c024be3);\n",
       "        \n",
       "    \n",
       "            var icon_1b7ebd24556a5be816fd819d2df9044c = L.AwesomeMarkers.icon(\n",
       "                {\n",
       "  &quot;markerColor&quot;: &quot;red&quot;,\n",
       "  &quot;iconColor&quot;: &quot;white&quot;,\n",
       "  &quot;icon&quot;: &quot;cutlery&quot;,\n",
       "  &quot;prefix&quot;: &quot;fa&quot;,\n",
       "  &quot;extraClasses&quot;: &quot;fa-rotate-0&quot;,\n",
       "}\n",
       "            );\n",
       "            marker_989db16b20c5c3b78b9cbe60513d4f58.setIcon(icon_1b7ebd24556a5be816fd819d2df9044c);\n",
       "        \n",
       "    \n",
       "        var popup_0b9939d365f9b39a9b4ef56de8b91620 = L.popup({\n",
       "  &quot;maxWidth&quot;: &quot;100%&quot;,\n",
       "});\n",
       "\n",
       "        \n",
       "            \n",
       "                var html_20a4571e8e565c5d67b07fc0fffa6d1a = $(`&lt;div id=&quot;html_20a4571e8e565c5d67b07fc0fffa6d1a&quot; style=&quot;width: 100.0%; height: 100.0%;&quot;&gt;(&quot;&lt;b style=&#x27;font-size: 18px; &#x27;&gt;Anillo Habanero&lt;/b&gt;&lt;br&gt;Direccion: Primer Anillo de La Habana&quot;, &quot;Especialidades: [&#x27;criolla&#x27;, &#x27;pizzas&#x27;, &#x27;cócteles&#x27;, &#x27;pastas&#x27;]&quot;)&lt;/div&gt;`)[0];\n",
       "                popup_0b9939d365f9b39a9b4ef56de8b91620.setContent(html_20a4571e8e565c5d67b07fc0fffa6d1a);\n",
       "            \n",
       "        \n",
       "\n",
       "        marker_989db16b20c5c3b78b9cbe60513d4f58.bindPopup(popup_0b9939d365f9b39a9b4ef56de8b91620)\n",
       "        ;\n",
       "\n",
       "        \n",
       "    \n",
       "    \n",
       "            var marker_d2fec03850cf03d586e89031ec4d04b0 = L.marker(\n",
       "                [23.141692369054233, -82.35521570333256],\n",
       "                {\n",
       "}\n",
       "            ).addTo(map_7f5ed2f3d7f5669ce524652a5c024be3);\n",
       "        \n",
       "    \n",
       "            var icon_f5269709aa6af1719ce9f0137f1f11b1 = L.AwesomeMarkers.icon(\n",
       "                {\n",
       "  &quot;markerColor&quot;: &quot;red&quot;,\n",
       "  &quot;iconColor&quot;: &quot;white&quot;,\n",
       "  &quot;icon&quot;: &quot;cutlery&quot;,\n",
       "  &quot;prefix&quot;: &quot;fa&quot;,\n",
       "  &quot;extraClasses&quot;: &quot;fa-rotate-0&quot;,\n",
       "}\n",
       "            );\n",
       "            marker_d2fec03850cf03d586e89031ec4d04b0.setIcon(icon_f5269709aa6af1719ce9f0137f1f11b1);\n",
       "        \n",
       "    \n",
       "        var popup_0edc49e4251f090388766fd910a9b213 = L.popup({\n",
       "  &quot;maxWidth&quot;: &quot;100%&quot;,\n",
       "});\n",
       "\n",
       "        \n",
       "            \n",
       "                var html_b0afa0e8ce769425fa2c15b2f2529d75 = $(`&lt;div id=&quot;html_b0afa0e8ce769425fa2c15b2f2529d75&quot; style=&quot;width: 100.0%; height: 100.0%;&quot;&gt;(&quot;&lt;b style=&#x27;font-size: 18px; &#x27;&gt;Antojos&lt;/b&gt;&lt;br&gt;Direccion: Callejón Espada entre Cuarteles y Chacon&quot;, &quot;Especialidades: [&#x27;Caribeña, Latina, Cubana, Centroamericana&#x27;]&quot;)&lt;/div&gt;`)[0];\n",
       "                popup_0edc49e4251f090388766fd910a9b213.setContent(html_b0afa0e8ce769425fa2c15b2f2529d75);\n",
       "            \n",
       "        \n",
       "\n",
       "        marker_d2fec03850cf03d586e89031ec4d04b0.bindPopup(popup_0edc49e4251f090388766fd910a9b213)\n",
       "        ;\n",
       "\n",
       "        \n",
       "    \n",
       "    \n",
       "            var marker_6b849eeac1adb341682015a46471df22 = L.marker(\n",
       "                [23.128711947642273, -82.39676637467788],\n",
       "                {\n",
       "}\n",
       "            ).addTo(map_7f5ed2f3d7f5669ce524652a5c024be3);\n",
       "        \n",
       "    \n",
       "            var icon_afc84c914da973b3d88d412de02378cc = L.AwesomeMarkers.icon(\n",
       "                {\n",
       "  &quot;markerColor&quot;: &quot;red&quot;,\n",
       "  &quot;iconColor&quot;: &quot;white&quot;,\n",
       "  &quot;icon&quot;: &quot;cutlery&quot;,\n",
       "  &quot;prefix&quot;: &quot;fa&quot;,\n",
       "  &quot;extraClasses&quot;: &quot;fa-rotate-0&quot;,\n",
       "}\n",
       "            );\n",
       "            marker_6b849eeac1adb341682015a46471df22.setIcon(icon_afc84c914da973b3d88d412de02378cc);\n",
       "        \n",
       "    \n",
       "        var popup_cb9150377c40b275b558f9f41ba9fd12 = L.popup({\n",
       "  &quot;maxWidth&quot;: &quot;100%&quot;,\n",
       "});\n",
       "\n",
       "        \n",
       "            \n",
       "                var html_a4c980fd6f0d1dac0781851d48369068 = $(`&lt;div id=&quot;html_a4c980fd6f0d1dac0781851d48369068&quot; style=&quot;width: 100.0%; height: 100.0%;&quot;&gt;(&quot;&lt;b style=&#x27;font-size: 18px; &#x27;&gt;Asia Cuba&lt;/b&gt;&lt;br&gt;Direccion:  Calle 6 ##562 entre 23 y 25, Vedado&quot;, &quot;Especialidades: [&#x27;Comida asiática&#x27;]&quot;)&lt;/div&gt;`)[0];\n",
       "                popup_cb9150377c40b275b558f9f41ba9fd12.setContent(html_a4c980fd6f0d1dac0781851d48369068);\n",
       "            \n",
       "        \n",
       "\n",
       "        marker_6b849eeac1adb341682015a46471df22.bindPopup(popup_cb9150377c40b275b558f9f41ba9fd12)\n",
       "        ;\n",
       "\n",
       "        \n",
       "    \n",
       "    \n",
       "            var marker_f491744d60b90ae882f7268bfbda4612 = L.marker(\n",
       "                [23.075224743679176, -82.35820577444514],\n",
       "                {\n",
       "}\n",
       "            ).addTo(map_7f5ed2f3d7f5669ce524652a5c024be3);\n",
       "        \n",
       "    \n",
       "            var icon_71b82ba1709442b0ba8054fb2f0f79d4 = L.AwesomeMarkers.icon(\n",
       "                {\n",
       "  &quot;markerColor&quot;: &quot;red&quot;,\n",
       "  &quot;iconColor&quot;: &quot;white&quot;,\n",
       "  &quot;icon&quot;: &quot;cutlery&quot;,\n",
       "  &quot;prefix&quot;: &quot;fa&quot;,\n",
       "  &quot;extraClasses&quot;: &quot;fa-rotate-0&quot;,\n",
       "}\n",
       "            );\n",
       "            marker_f491744d60b90ae882f7268bfbda4612.setIcon(icon_71b82ba1709442b0ba8054fb2f0f79d4);\n",
       "        \n",
       "    \n",
       "        var popup_cefe65c092ab48aeec55052a5d1e3059 = L.popup({\n",
       "  &quot;maxWidth&quot;: &quot;100%&quot;,\n",
       "});\n",
       "\n",
       "        \n",
       "            \n",
       "                var html_406f5a84100b04d1efa9a001648808c3 = $(`&lt;div id=&quot;html_406f5a84100b04d1efa9a001648808c3&quot; style=&quot;width: 100.0%; height: 100.0%;&quot;&gt;(&quot;&lt;b style=&#x27;font-size: 18px; &#x27;&gt;Atlanta&lt;/b&gt;&lt;br&gt;Direccion: Atlanta #9, entre Calzada de Porvenir y Calzada de 10 de octubre, La Palma&quot;, &quot;Especialidades: [&#x27;cubana&#x27;, &#x27;variada&#x27;]&quot;)&lt;/div&gt;`)[0];\n",
       "                popup_cefe65c092ab48aeec55052a5d1e3059.setContent(html_406f5a84100b04d1efa9a001648808c3);\n",
       "            \n",
       "        \n",
       "\n",
       "        marker_f491744d60b90ae882f7268bfbda4612.bindPopup(popup_cefe65c092ab48aeec55052a5d1e3059)\n",
       "        ;\n",
       "\n",
       "        \n",
       "    \n",
       "    \n",
       "            var marker_1bad4fc20ecccf87f3a6a1684281404a = L.marker(\n",
       "                [23.088464573775177, -82.36604223216956],\n",
       "                {\n",
       "}\n",
       "            ).addTo(map_7f5ed2f3d7f5669ce524652a5c024be3);\n",
       "        \n",
       "    \n",
       "            var icon_449ba74897eef32ccf3a64320e25affd = L.AwesomeMarkers.icon(\n",
       "                {\n",
       "  &quot;markerColor&quot;: &quot;red&quot;,\n",
       "  &quot;iconColor&quot;: &quot;white&quot;,\n",
       "  &quot;icon&quot;: &quot;cutlery&quot;,\n",
       "  &quot;prefix&quot;: &quot;fa&quot;,\n",
       "  &quot;extraClasses&quot;: &quot;fa-rotate-0&quot;,\n",
       "}\n",
       "            );\n",
       "            marker_1bad4fc20ecccf87f3a6a1684281404a.setIcon(icon_449ba74897eef32ccf3a64320e25affd);\n",
       "        \n",
       "    \n",
       "        var popup_03b02d6c9ef9eef46a87c09b03536830 = L.popup({\n",
       "  &quot;maxWidth&quot;: &quot;100%&quot;,\n",
       "});\n",
       "\n",
       "        \n",
       "            \n",
       "                var html_44f65f806dae7eb73962e57458dde6a6 = $(`&lt;div id=&quot;html_44f65f806dae7eb73962e57458dde6a6&quot; style=&quot;width: 100.0%; height: 100.0%;&quot;&gt;(&quot;&lt;b style=&#x27;font-size: 18px; &#x27;&gt;Atraccion&lt;/b&gt;&lt;br&gt;Direccion: Calzada de Diez de Octubre % Acosta y O&#x27;Farril&quot;, &quot;Especialidades: [&#x27;internacional&#x27;, &#x27;cubana&#x27;]&quot;)&lt;/div&gt;`)[0];\n",
       "                popup_03b02d6c9ef9eef46a87c09b03536830.setContent(html_44f65f806dae7eb73962e57458dde6a6);\n",
       "            \n",
       "        \n",
       "\n",
       "        marker_1bad4fc20ecccf87f3a6a1684281404a.bindPopup(popup_03b02d6c9ef9eef46a87c09b03536830)\n",
       "        ;\n",
       "\n",
       "        \n",
       "    \n",
       "    \n",
       "            var marker_3b8e438d03d3a8807428a97faeec4c8c = L.marker(\n",
       "                [23.10839233920283, -82.36557643771737],\n",
       "                {\n",
       "}\n",
       "            ).addTo(map_7f5ed2f3d7f5669ce524652a5c024be3);\n",
       "        \n",
       "    \n",
       "            var icon_30dc8573767cde803520bfab8f01b6a0 = L.AwesomeMarkers.icon(\n",
       "                {\n",
       "  &quot;markerColor&quot;: &quot;red&quot;,\n",
       "  &quot;iconColor&quot;: &quot;white&quot;,\n",
       "  &quot;icon&quot;: &quot;cutlery&quot;,\n",
       "  &quot;prefix&quot;: &quot;fa&quot;,\n",
       "  &quot;extraClasses&quot;: &quot;fa-rotate-0&quot;,\n",
       "}\n",
       "            );\n",
       "            marker_3b8e438d03d3a8807428a97faeec4c8c.setIcon(icon_30dc8573767cde803520bfab8f01b6a0);\n",
       "        \n",
       "    \n",
       "        var popup_419244716b8c449dc2ee8d6bfc01f623 = L.popup({\n",
       "  &quot;maxWidth&quot;: &quot;100%&quot;,\n",
       "});\n",
       "\n",
       "        \n",
       "            \n",
       "                var html_3c8651726b72b41239d821f9a5dc69c5 = $(`&lt;div id=&quot;html_3c8651726b72b41239d821f9a5dc69c5&quot; style=&quot;width: 100.0%; height: 100.0%;&quot;&gt;(&quot;&lt;b style=&#x27;font-size: 18px; &#x27;&gt;Bar Pacto Secreto&lt;/b&gt;&lt;br&gt;Direccion: Calzada de 10 de Octubre #417 entre Calzada de Luyano y San Nicolas&quot;, &quot;Especialidades: [&#x27;cubana&#x27;, &#x27;comida rapida&#x27;]&quot;)&lt;/div&gt;`)[0];\n",
       "                popup_419244716b8c449dc2ee8d6bfc01f623.setContent(html_3c8651726b72b41239d821f9a5dc69c5);\n",
       "            \n",
       "        \n",
       "\n",
       "        marker_3b8e438d03d3a8807428a97faeec4c8c.bindPopup(popup_419244716b8c449dc2ee8d6bfc01f623)\n",
       "        ;\n",
       "\n",
       "        \n",
       "    \n",
       "    \n",
       "            var marker_05d6c750e09db35259efa46795e3cda4 = L.marker(\n",
       "                [23.09621726454522, -82.37460170946824],\n",
       "                {\n",
       "}\n",
       "            ).addTo(map_7f5ed2f3d7f5669ce524652a5c024be3);\n",
       "        \n",
       "    \n",
       "            var icon_7e8515f41985979d5570d41ca2f936ab = L.AwesomeMarkers.icon(\n",
       "                {\n",
       "  &quot;markerColor&quot;: &quot;red&quot;,\n",
       "  &quot;iconColor&quot;: &quot;white&quot;,\n",
       "  &quot;icon&quot;: &quot;cutlery&quot;,\n",
       "  &quot;prefix&quot;: &quot;fa&quot;,\n",
       "  &quot;extraClasses&quot;: &quot;fa-rotate-0&quot;,\n",
       "}\n",
       "            );\n",
       "            marker_05d6c750e09db35259efa46795e3cda4.setIcon(icon_7e8515f41985979d5570d41ca2f936ab);\n",
       "        \n",
       "    \n",
       "        var popup_42c8f015ed737a6d544767a8ba6b0813 = L.popup({\n",
       "  &quot;maxWidth&quot;: &quot;100%&quot;,\n",
       "});\n",
       "\n",
       "        \n",
       "            \n",
       "                var html_58ab93d2d2b1d0e47c2a714a31d80bb1 = $(`&lt;div id=&quot;html_58ab93d2d2b1d0e47c2a714a31d80bb1&quot; style=&quot;width: 100.0%; height: 100.0%;&quot;&gt;(&quot;&lt;b style=&#x27;font-size: 18px; &#x27;&gt;Bar Secret Garden&lt;/b&gt;&lt;br&gt;Direccion: Boutique VOYA Habana, #255, Calle Juan Delgado entre Santa Catalina y Milagros, Santos Suarez&quot;, &quot;Especialidades: [&#x27;Cocina mixta&#x27;]&quot;)&lt;/div&gt;`)[0];\n",
       "                popup_42c8f015ed737a6d544767a8ba6b0813.setContent(html_58ab93d2d2b1d0e47c2a714a31d80bb1);\n",
       "            \n",
       "        \n",
       "\n",
       "        marker_05d6c750e09db35259efa46795e3cda4.bindPopup(popup_42c8f015ed737a6d544767a8ba6b0813)\n",
       "        ;\n",
       "\n",
       "        \n",
       "    \n",
       "    \n",
       "            var marker_17dd617f1d945d325ef4f5a421988a53 = L.marker(\n",
       "                [23.08127313197817, -82.32409134565678],\n",
       "                {\n",
       "}\n",
       "            ).addTo(map_7f5ed2f3d7f5669ce524652a5c024be3);\n",
       "        \n",
       "    \n",
       "            var icon_ae5dca1cdff70eb0c4ae0a4e931ccdc2 = L.AwesomeMarkers.icon(\n",
       "                {\n",
       "  &quot;markerColor&quot;: &quot;red&quot;,\n",
       "  &quot;iconColor&quot;: &quot;white&quot;,\n",
       "  &quot;icon&quot;: &quot;cutlery&quot;,\n",
       "  &quot;prefix&quot;: &quot;fa&quot;,\n",
       "  &quot;extraClasses&quot;: &quot;fa-rotate-0&quot;,\n",
       "}\n",
       "            );\n",
       "            marker_17dd617f1d945d325ef4f5a421988a53.setIcon(icon_ae5dca1cdff70eb0c4ae0a4e931ccdc2);\n",
       "        \n",
       "    \n",
       "        var popup_9adfeff40327d424f1b41bf47e238121 = L.popup({\n",
       "  &quot;maxWidth&quot;: &quot;100%&quot;,\n",
       "});\n",
       "\n",
       "        \n",
       "            \n",
       "                var html_4aca7f1db11749e132ed8cb9555a92ff = $(`&lt;div id=&quot;html_4aca7f1db11749e132ed8cb9555a92ff&quot; style=&quot;width: 100.0%; height: 100.0%;&quot;&gt;(&quot;&lt;b style=&#x27;font-size: 18px; &#x27;&gt;Bar Colina&lt;/b&gt;&lt;br&gt;Direccion: esquina b y calzada de guines reparto merceditas&quot;, &quot;Especialidades: [&#x27;italiana&#x27;]&quot;)&lt;/div&gt;`)[0];\n",
       "                popup_9adfeff40327d424f1b41bf47e238121.setContent(html_4aca7f1db11749e132ed8cb9555a92ff);\n",
       "            \n",
       "        \n",
       "\n",
       "        marker_17dd617f1d945d325ef4f5a421988a53.bindPopup(popup_9adfeff40327d424f1b41bf47e238121)\n",
       "        ;\n",
       "\n",
       "        \n",
       "    \n",
       "    \n",
       "            var marker_65d474ff92a815b89ee841cb8e127225 = L.marker(\n",
       "                [23.140052255362068, -82.37802867469266],\n",
       "                {\n",
       "}\n",
       "            ).addTo(map_7f5ed2f3d7f5669ce524652a5c024be3);\n",
       "        \n",
       "    \n",
       "            var icon_a9f757f851b202c5efd7df88820f3f49 = L.AwesomeMarkers.icon(\n",
       "                {\n",
       "  &quot;markerColor&quot;: &quot;red&quot;,\n",
       "  &quot;iconColor&quot;: &quot;white&quot;,\n",
       "  &quot;icon&quot;: &quot;cutlery&quot;,\n",
       "  &quot;prefix&quot;: &quot;fa&quot;,\n",
       "  &quot;extraClasses&quot;: &quot;fa-rotate-0&quot;,\n",
       "}\n",
       "            );\n",
       "            marker_65d474ff92a815b89ee841cb8e127225.setIcon(icon_a9f757f851b202c5efd7df88820f3f49);\n",
       "        \n",
       "    \n",
       "        var popup_bd8e1565f9a60efbd01e8221934e35ad = L.popup({\n",
       "  &quot;maxWidth&quot;: &quot;100%&quot;,\n",
       "});\n",
       "\n",
       "        \n",
       "            \n",
       "                var html_22677a03fb339b6a26b194bb9707b0ca = $(`&lt;div id=&quot;html_22677a03fb339b6a26b194bb9707b0ca&quot; style=&quot;width: 100.0%; height: 100.0%;&quot;&gt;(&quot;&lt;b style=&#x27;font-size: 18px; &#x27;&gt;Macarena&lt;/b&gt;&lt;br&gt;Direccion: Calle Vapor No.168 altos entre Espada y San Fransisco&quot;, &quot;Especialidades: [&#x27;Entrantes&#x27;, &#x27;Cockteles&#x27;]&quot;)&lt;/div&gt;`)[0];\n",
       "                popup_bd8e1565f9a60efbd01e8221934e35ad.setContent(html_22677a03fb339b6a26b194bb9707b0ca);\n",
       "            \n",
       "        \n",
       "\n",
       "        marker_65d474ff92a815b89ee841cb8e127225.bindPopup(popup_bd8e1565f9a60efbd01e8221934e35ad)\n",
       "        ;\n",
       "\n",
       "        \n",
       "    \n",
       "    \n",
       "            var marker_469a11a0eb2a4723a29143c85d081c46 = L.marker(\n",
       "                [23.094616836132214, -82.4191641263218],\n",
       "                {\n",
       "}\n",
       "            ).addTo(map_7f5ed2f3d7f5669ce524652a5c024be3);\n",
       "        \n",
       "    \n",
       "            var icon_f3a442cb5e55102f403ee9a6bcf39fe8 = L.AwesomeMarkers.icon(\n",
       "                {\n",
       "  &quot;markerColor&quot;: &quot;red&quot;,\n",
       "  &quot;iconColor&quot;: &quot;white&quot;,\n",
       "  &quot;icon&quot;: &quot;cutlery&quot;,\n",
       "  &quot;prefix&quot;: &quot;fa&quot;,\n",
       "  &quot;extraClasses&quot;: &quot;fa-rotate-0&quot;,\n",
       "}\n",
       "            );\n",
       "            marker_469a11a0eb2a4723a29143c85d081c46.setIcon(icon_f3a442cb5e55102f403ee9a6bcf39fe8);\n",
       "        \n",
       "    \n",
       "        var popup_4c962b2ce7cbcda50221fcc1e17c0ca1 = L.popup({\n",
       "  &quot;maxWidth&quot;: &quot;100%&quot;,\n",
       "});\n",
       "\n",
       "        \n",
       "            \n",
       "                var html_3b4561dfbcb37bd0713d5668a8757919 = $(`&lt;div id=&quot;html_3b4561dfbcb37bd0713d5668a8757919&quot; style=&quot;width: 100.0%; height: 100.0%;&quot;&gt;(&quot;&lt;b style=&#x27;font-size: 18px; &#x27;&gt;Bar Tropicana&lt;/b&gt;&lt;br&gt;Direccion: 72A,Avenida 41&quot;, &#x27;Especialidades: [None]&#x27;)&lt;/div&gt;`)[0];\n",
       "                popup_4c962b2ce7cbcda50221fcc1e17c0ca1.setContent(html_3b4561dfbcb37bd0713d5668a8757919);\n",
       "            \n",
       "        \n",
       "\n",
       "        marker_469a11a0eb2a4723a29143c85d081c46.bindPopup(popup_4c962b2ce7cbcda50221fcc1e17c0ca1)\n",
       "        ;\n",
       "\n",
       "        \n",
       "    \n",
       "    \n",
       "            var marker_8b3ad3f926514eb4adbb118a987318f1 = L.marker(\n",
       "                [23.165980531256245, -82.28267095911482],\n",
       "                {\n",
       "}\n",
       "            ).addTo(map_7f5ed2f3d7f5669ce524652a5c024be3);\n",
       "        \n",
       "    \n",
       "            var icon_58940daf72fc3e06e4ba0188dff5d20f = L.AwesomeMarkers.icon(\n",
       "                {\n",
       "  &quot;markerColor&quot;: &quot;red&quot;,\n",
       "  &quot;iconColor&quot;: &quot;white&quot;,\n",
       "  &quot;icon&quot;: &quot;cutlery&quot;,\n",
       "  &quot;prefix&quot;: &quot;fa&quot;,\n",
       "  &quot;extraClasses&quot;: &quot;fa-rotate-0&quot;,\n",
       "}\n",
       "            );\n",
       "            marker_8b3ad3f926514eb4adbb118a987318f1.setIcon(icon_58940daf72fc3e06e4ba0188dff5d20f);\n",
       "        \n",
       "    \n",
       "        var popup_c5c2552ddb30d813e8ca1b3739fc82c1 = L.popup({\n",
       "  &quot;maxWidth&quot;: &quot;100%&quot;,\n",
       "});\n",
       "\n",
       "        \n",
       "            \n",
       "                var html_9cd1ba9dc0e82d9868666d79429decda = $(`&lt;div id=&quot;html_9cd1ba9dc0e82d9868666d79429decda&quot; style=&quot;width: 100.0%; height: 100.0%;&quot;&gt;(&quot;&lt;b style=&#x27;font-size: 18px; &#x27;&gt;Beer para creer&lt;/b&gt;&lt;br&gt;Direccion: Centro comercial Falcon, Alamar&quot;, &quot;Especialidades: [&#x27;Comida mixta&#x27;]&quot;)&lt;/div&gt;`)[0];\n",
       "                popup_c5c2552ddb30d813e8ca1b3739fc82c1.setContent(html_9cd1ba9dc0e82d9868666d79429decda);\n",
       "            \n",
       "        \n",
       "\n",
       "        marker_8b3ad3f926514eb4adbb118a987318f1.bindPopup(popup_c5c2552ddb30d813e8ca1b3739fc82c1)\n",
       "        ;\n",
       "\n",
       "        \n",
       "    \n",
       "    \n",
       "            var marker_9ceb4b7938a0b6cca863d861de70bd4a = L.marker(\n",
       "                [23.14134074581821, -82.40118351396043],\n",
       "                {\n",
       "}\n",
       "            ).addTo(map_7f5ed2f3d7f5669ce524652a5c024be3);\n",
       "        \n",
       "    \n",
       "            var icon_245fbc24d0e98d868b6d966f10c8470b = L.AwesomeMarkers.icon(\n",
       "                {\n",
       "  &quot;markerColor&quot;: &quot;red&quot;,\n",
       "  &quot;iconColor&quot;: &quot;white&quot;,\n",
       "  &quot;icon&quot;: &quot;cutlery&quot;,\n",
       "  &quot;prefix&quot;: &quot;fa&quot;,\n",
       "  &quot;extraClasses&quot;: &quot;fa-rotate-0&quot;,\n",
       "}\n",
       "            );\n",
       "            marker_9ceb4b7938a0b6cca863d861de70bd4a.setIcon(icon_245fbc24d0e98d868b6d966f10c8470b);\n",
       "        \n",
       "    \n",
       "        var popup_db7ccf1bddf3ee7f622b03bf2b1b97b4 = L.popup({\n",
       "  &quot;maxWidth&quot;: &quot;100%&quot;,\n",
       "});\n",
       "\n",
       "        \n",
       "            \n",
       "                var html_8c4e20499b2fc7b5898d0611ab12f50a = $(`&lt;div id=&quot;html_8c4e20499b2fc7b5898d0611ab12f50a&quot; style=&quot;width: 100.0%; height: 100.0%;&quot;&gt;(&quot;&lt;b style=&#x27;font-size: 18px; &#x27;&gt;Beirut&lt;/b&gt;&lt;br&gt;Direccion: Calle 1ra entre A y B, Vedado&quot;, &quot;Especialidades: [&#x27;Comida libanesa&#x27;, &#x27;de oriente medio&#x27;]&quot;)&lt;/div&gt;`)[0];\n",
       "                popup_db7ccf1bddf3ee7f622b03bf2b1b97b4.setContent(html_8c4e20499b2fc7b5898d0611ab12f50a);\n",
       "            \n",
       "        \n",
       "\n",
       "        marker_9ceb4b7938a0b6cca863d861de70bd4a.bindPopup(popup_db7ccf1bddf3ee7f622b03bf2b1b97b4)\n",
       "        ;\n",
       "\n",
       "        \n",
       "    \n",
       "    \n",
       "            var marker_3c315c7550eb38e5c66b94233da44692 = L.marker(\n",
       "                [23.122358280018755, -82.40455260333313],\n",
       "                {\n",
       "}\n",
       "            ).addTo(map_7f5ed2f3d7f5669ce524652a5c024be3);\n",
       "        \n",
       "    \n",
       "            var icon_756cc2927d0c8b12bc7ae5e13f3f7d71 = L.AwesomeMarkers.icon(\n",
       "                {\n",
       "  &quot;markerColor&quot;: &quot;red&quot;,\n",
       "  &quot;iconColor&quot;: &quot;white&quot;,\n",
       "  &quot;icon&quot;: &quot;cutlery&quot;,\n",
       "  &quot;prefix&quot;: &quot;fa&quot;,\n",
       "  &quot;extraClasses&quot;: &quot;fa-rotate-0&quot;,\n",
       "}\n",
       "            );\n",
       "            marker_3c315c7550eb38e5c66b94233da44692.setIcon(icon_756cc2927d0c8b12bc7ae5e13f3f7d71);\n",
       "        \n",
       "    \n",
       "        var popup_45775357ac5afe22678398539236f8b5 = L.popup({\n",
       "  &quot;maxWidth&quot;: &quot;100%&quot;,\n",
       "});\n",
       "\n",
       "        \n",
       "            \n",
       "                var html_31ef2975541f7396ac436a3ffcd6c7a8 = $(`&lt;div id=&quot;html_31ef2975541f7396ac436a3ffcd6c7a8&quot; style=&quot;width: 100.0%; height: 100.0%;&quot;&gt;(&quot;&lt;b style=&#x27;font-size: 18px; &#x27;&gt;Bodegon del Asado&lt;/b&gt;&lt;br&gt;Direccion: Calle 24, No 418, e / 23 y 25, Vedado&quot;, &quot;Especialidades: [&#x27;Comida cubana&#x27;, &#x27;criolla&#x27;, &#x27;italiana&#x27;]&quot;)&lt;/div&gt;`)[0];\n",
       "                popup_45775357ac5afe22678398539236f8b5.setContent(html_31ef2975541f7396ac436a3ffcd6c7a8);\n",
       "            \n",
       "        \n",
       "\n",
       "        marker_3c315c7550eb38e5c66b94233da44692.bindPopup(popup_45775357ac5afe22678398539236f8b5)\n",
       "        ;\n",
       "\n",
       "        \n",
       "    \n",
       "    \n",
       "            var marker_38e7866890a9f053f679783a4711af5a = L.marker(\n",
       "                [23.13336490258953, -82.39873911512949],\n",
       "                {\n",
       "}\n",
       "            ).addTo(map_7f5ed2f3d7f5669ce524652a5c024be3);\n",
       "        \n",
       "    \n",
       "            var icon_20f14c35be99c3734fc8a6377e3df316 = L.AwesomeMarkers.icon(\n",
       "                {\n",
       "  &quot;markerColor&quot;: &quot;red&quot;,\n",
       "  &quot;iconColor&quot;: &quot;white&quot;,\n",
       "  &quot;icon&quot;: &quot;cutlery&quot;,\n",
       "  &quot;prefix&quot;: &quot;fa&quot;,\n",
       "  &quot;extraClasses&quot;: &quot;fa-rotate-0&quot;,\n",
       "}\n",
       "            );\n",
       "            marker_38e7866890a9f053f679783a4711af5a.setIcon(icon_20f14c35be99c3734fc8a6377e3df316);\n",
       "        \n",
       "    \n",
       "        var popup_5f19b0e36ade13311c5558a8f41f84c3 = L.popup({\n",
       "  &quot;maxWidth&quot;: &quot;100%&quot;,\n",
       "});\n",
       "\n",
       "        \n",
       "            \n",
       "                var html_64fb3a25d5a56417c35fbb859887c278 = $(`&lt;div id=&quot;html_64fb3a25d5a56417c35fbb859887c278&quot; style=&quot;width: 100.0%; height: 100.0%;&quot;&gt;(&quot;&lt;b style=&#x27;font-size: 18px; &#x27;&gt;Bohio Mercadito&lt;/b&gt;&lt;br&gt;Direccion: calle 19 entre 12 y 10, Vedado&quot;, &quot;Especialidades: [&#x27;Bar&#x27;, &#x27;Americana&#x27;]&quot;)&lt;/div&gt;`)[0];\n",
       "                popup_5f19b0e36ade13311c5558a8f41f84c3.setContent(html_64fb3a25d5a56417c35fbb859887c278);\n",
       "            \n",
       "        \n",
       "\n",
       "        marker_38e7866890a9f053f679783a4711af5a.bindPopup(popup_5f19b0e36ade13311c5558a8f41f84c3)\n",
       "        ;\n",
       "\n",
       "        \n",
       "    \n",
       "    \n",
       "            var marker_08fde1a72834f77cbeb6054215cde691 = L.marker(\n",
       "                [23.137509028109648, -82.35967851702206],\n",
       "                {\n",
       "}\n",
       "            ).addTo(map_7f5ed2f3d7f5669ce524652a5c024be3);\n",
       "        \n",
       "    \n",
       "            var icon_c496528fa7869166fc875d4831cb27f0 = L.AwesomeMarkers.icon(\n",
       "                {\n",
       "  &quot;markerColor&quot;: &quot;red&quot;,\n",
       "  &quot;iconColor&quot;: &quot;white&quot;,\n",
       "  &quot;icon&quot;: &quot;cutlery&quot;,\n",
       "  &quot;prefix&quot;: &quot;fa&quot;,\n",
       "  &quot;extraClasses&quot;: &quot;fa-rotate-0&quot;,\n",
       "}\n",
       "            );\n",
       "            marker_08fde1a72834f77cbeb6054215cde691.setIcon(icon_c496528fa7869166fc875d4831cb27f0);\n",
       "        \n",
       "    \n",
       "        var popup_57dc6d513558768121dd3dec4d6b99dd = L.popup({\n",
       "  &quot;maxWidth&quot;: &quot;100%&quot;,\n",
       "});\n",
       "\n",
       "        \n",
       "            \n",
       "                var html_fae332ab1023880deb4cffb42f4213f8 = $(`&lt;div id=&quot;html_fae332ab1023880deb4cffb42f4213f8&quot; style=&quot;width: 100.0%; height: 100.0%;&quot;&gt;(&quot;&lt;b style=&#x27;font-size: 18px; &#x27;&gt;Bone Ma 62&lt;/b&gt;&lt;br&gt;Direccion: Bulevar de San Rafael entre Prado y Consulado&quot;, &quot;Especialidades: [&#x27;Comida Cubana&#x27;]&quot;)&lt;/div&gt;`)[0];\n",
       "                popup_57dc6d513558768121dd3dec4d6b99dd.setContent(html_fae332ab1023880deb4cffb42f4213f8);\n",
       "            \n",
       "        \n",
       "\n",
       "        marker_08fde1a72834f77cbeb6054215cde691.bindPopup(popup_57dc6d513558768121dd3dec4d6b99dd)\n",
       "        ;\n",
       "\n",
       "        \n",
       "    \n",
       "    \n",
       "            var marker_40bb0b02f4ee928381bc16e70a284bae = L.marker(\n",
       "                [23.09615689834022, -82.37467472817552],\n",
       "                {\n",
       "}\n",
       "            ).addTo(map_7f5ed2f3d7f5669ce524652a5c024be3);\n",
       "        \n",
       "    \n",
       "            var icon_92b876c59c605a31ee80c01886882227 = L.AwesomeMarkers.icon(\n",
       "                {\n",
       "  &quot;markerColor&quot;: &quot;red&quot;,\n",
       "  &quot;iconColor&quot;: &quot;white&quot;,\n",
       "  &quot;icon&quot;: &quot;cutlery&quot;,\n",
       "  &quot;prefix&quot;: &quot;fa&quot;,\n",
       "  &quot;extraClasses&quot;: &quot;fa-rotate-0&quot;,\n",
       "}\n",
       "            );\n",
       "            marker_40bb0b02f4ee928381bc16e70a284bae.setIcon(icon_92b876c59c605a31ee80c01886882227);\n",
       "        \n",
       "    \n",
       "        var popup_65ea3df517f8924fdaafff1f88ce3206 = L.popup({\n",
       "  &quot;maxWidth&quot;: &quot;100%&quot;,\n",
       "});\n",
       "\n",
       "        \n",
       "            \n",
       "                var html_0ff32c7bca7779cac1f8889bca09eb8a = $(`&lt;div id=&quot;html_0ff32c7bca7779cac1f8889bca09eb8a&quot; style=&quot;width: 100.0%; height: 100.0%;&quot;&gt;(&quot;&lt;b style=&#x27;font-size: 18px; &#x27;&gt;Brasserie 255&lt;/b&gt;&lt;br&gt;Direccion: Calle Juan Delgado #255 entre Santa Catalina y Milagros, Santos Suárez&quot;, &quot;Especialidades: [&#x27;cubana&#x27;, &#x27;francesa&#x27;, &#x27;internacional&#x27;]&quot;)&lt;/div&gt;`)[0];\n",
       "                popup_65ea3df517f8924fdaafff1f88ce3206.setContent(html_0ff32c7bca7779cac1f8889bca09eb8a);\n",
       "            \n",
       "        \n",
       "\n",
       "        marker_40bb0b02f4ee928381bc16e70a284bae.bindPopup(popup_65ea3df517f8924fdaafff1f88ce3206)\n",
       "        ;\n",
       "\n",
       "        \n",
       "    \n",
       "    \n",
       "            var marker_bbc4233c738b0e741a6ac04708eea07e = L.marker(\n",
       "                [23.120855356364203, -82.37256464585778],\n",
       "                {\n",
       "}\n",
       "            ).addTo(map_7f5ed2f3d7f5669ce524652a5c024be3);\n",
       "        \n",
       "    \n",
       "            var icon_272413d4c92a1c84b5a910f56db9aba5 = L.AwesomeMarkers.icon(\n",
       "                {\n",
       "  &quot;markerColor&quot;: &quot;red&quot;,\n",
       "  &quot;iconColor&quot;: &quot;white&quot;,\n",
       "  &quot;icon&quot;: &quot;cutlery&quot;,\n",
       "  &quot;prefix&quot;: &quot;fa&quot;,\n",
       "  &quot;extraClasses&quot;: &quot;fa-rotate-0&quot;,\n",
       "}\n",
       "            );\n",
       "            marker_bbc4233c738b0e741a6ac04708eea07e.setIcon(icon_272413d4c92a1c84b5a910f56db9aba5);\n",
       "        \n",
       "    \n",
       "        var popup_c17fe9edaa68725e96a984a1f1e63a0f = L.popup({\n",
       "  &quot;maxWidth&quot;: &quot;100%&quot;,\n",
       "});\n",
       "\n",
       "        \n",
       "            \n",
       "                var html_a8f96e6c0bc0c999a684dbaa13662773 = $(`&lt;div id=&quot;html_a8f96e6c0bc0c999a684dbaa13662773&quot; style=&quot;width: 100.0%; height: 100.0%;&quot;&gt;(&quot;&lt;b style=&#x27;font-size: 18px; &#x27;&gt;Brutal Habana&lt;/b&gt;&lt;br&gt;Direccion: Infanta esquina Calle Universidad&quot;, &quot;Especialidades: [&#x27;Comida Americana&#x27;]&quot;)&lt;/div&gt;`)[0];\n",
       "                popup_c17fe9edaa68725e96a984a1f1e63a0f.setContent(html_a8f96e6c0bc0c999a684dbaa13662773);\n",
       "            \n",
       "        \n",
       "\n",
       "        marker_bbc4233c738b0e741a6ac04708eea07e.bindPopup(popup_c17fe9edaa68725e96a984a1f1e63a0f)\n",
       "        ;\n",
       "\n",
       "        \n",
       "    \n",
       "    \n",
       "            var marker_b61534cec517427b63e59c254ba64f3c = L.marker(\n",
       "                [23.099237749002498, -82.33237415355453],\n",
       "                {\n",
       "}\n",
       "            ).addTo(map_7f5ed2f3d7f5669ce524652a5c024be3);\n",
       "        \n",
       "    \n",
       "            var icon_a003ccb9353940e5eb008a1917f3c5a5 = L.AwesomeMarkers.icon(\n",
       "                {\n",
       "  &quot;markerColor&quot;: &quot;red&quot;,\n",
       "  &quot;iconColor&quot;: &quot;white&quot;,\n",
       "  &quot;icon&quot;: &quot;cutlery&quot;,\n",
       "  &quot;prefix&quot;: &quot;fa&quot;,\n",
       "  &quot;extraClasses&quot;: &quot;fa-rotate-0&quot;,\n",
       "}\n",
       "            );\n",
       "            marker_b61534cec517427b63e59c254ba64f3c.setIcon(icon_a003ccb9353940e5eb008a1917f3c5a5);\n",
       "        \n",
       "    \n",
       "        var popup_cdc89601ab560220c4718ab5c04315ff = L.popup({\n",
       "  &quot;maxWidth&quot;: &quot;100%&quot;,\n",
       "});\n",
       "\n",
       "        \n",
       "            \n",
       "                var html_122305493e70ee9170d67e553088e6bf = $(`&lt;div id=&quot;html_122305493e70ee9170d67e553088e6bf&quot; style=&quot;width: 100.0%; height: 100.0%;&quot;&gt;(&quot;&lt;b style=&#x27;font-size: 18px; &#x27;&gt;Buena Vibra&lt;/b&gt;&lt;br&gt;Direccion: Esquina Beltran y Vista Hermosa&quot;, &quot;Especialidades: [&#x27;internacional&#x27;, &#x27;criolla&#x27;, &#x27;italiana&#x27;]&quot;)&lt;/div&gt;`)[0];\n",
       "                popup_cdc89601ab560220c4718ab5c04315ff.setContent(html_122305493e70ee9170d67e553088e6bf);\n",
       "            \n",
       "        \n",
       "\n",
       "        marker_b61534cec517427b63e59c254ba64f3c.bindPopup(popup_cdc89601ab560220c4718ab5c04315ff)\n",
       "        ;\n",
       "\n",
       "        \n",
       "    \n",
       "    \n",
       "            var marker_3383d1f8e04f3936d95d52c1c69ae3d7 = L.marker(\n",
       "                [23.141585728087556, -82.35312284770457],\n",
       "                {\n",
       "}\n",
       "            ).addTo(map_7f5ed2f3d7f5669ce524652a5c024be3);\n",
       "        \n",
       "    \n",
       "            var icon_25a1b529d356ca5380596526addc6427 = L.AwesomeMarkers.icon(\n",
       "                {\n",
       "  &quot;markerColor&quot;: &quot;red&quot;,\n",
       "  &quot;iconColor&quot;: &quot;white&quot;,\n",
       "  &quot;icon&quot;: &quot;cutlery&quot;,\n",
       "  &quot;prefix&quot;: &quot;fa&quot;,\n",
       "  &quot;extraClasses&quot;: &quot;fa-rotate-0&quot;,\n",
       "}\n",
       "            );\n",
       "            marker_3383d1f8e04f3936d95d52c1c69ae3d7.setIcon(icon_25a1b529d356ca5380596526addc6427);\n",
       "        \n",
       "    \n",
       "        var popup_e7822d1ab32d2389edd1cb320646721f = L.popup({\n",
       "  &quot;maxWidth&quot;: &quot;100%&quot;,\n",
       "});\n",
       "\n",
       "        \n",
       "            \n",
       "                var html_6c0fd7d612eadc71545052b6b6601c7d = $(`&lt;div id=&quot;html_6c0fd7d612eadc71545052b6b6601c7d&quot; style=&quot;width: 100.0%; height: 100.0%;&quot;&gt;(&quot;&lt;b style=&#x27;font-size: 18px; &#x27;&gt;Buena Vista Curry Club&lt;/b&gt;&lt;br&gt;Direccion: Tejadillo #24 entre Cuba y San Ignacio&quot;, &quot;Especialidades: [&#x27;Indio&#x27;]&quot;)&lt;/div&gt;`)[0];\n",
       "                popup_e7822d1ab32d2389edd1cb320646721f.setContent(html_6c0fd7d612eadc71545052b6b6601c7d);\n",
       "            \n",
       "        \n",
       "\n",
       "        marker_3383d1f8e04f3936d95d52c1c69ae3d7.bindPopup(popup_e7822d1ab32d2389edd1cb320646721f)\n",
       "        ;\n",
       "\n",
       "        \n",
       "    \n",
       "    \n",
       "            var marker_307471913c5ae47c6c9f3c8aab0f7eb8 = L.marker(\n",
       "                [23.125370946899892, -82.33090928614111],\n",
       "                {\n",
       "}\n",
       "            ).addTo(map_7f5ed2f3d7f5669ce524652a5c024be3);\n",
       "        \n",
       "    \n",
       "            var icon_e4a6922ce0a7bf90b20c8e26f69bc6c5 = L.AwesomeMarkers.icon(\n",
       "                {\n",
       "  &quot;markerColor&quot;: &quot;red&quot;,\n",
       "  &quot;iconColor&quot;: &quot;white&quot;,\n",
       "  &quot;icon&quot;: &quot;cutlery&quot;,\n",
       "  &quot;prefix&quot;: &quot;fa&quot;,\n",
       "  &quot;extraClasses&quot;: &quot;fa-rotate-0&quot;,\n",
       "}\n",
       "            );\n",
       "            marker_307471913c5ae47c6c9f3c8aab0f7eb8.setIcon(icon_e4a6922ce0a7bf90b20c8e26f69bc6c5);\n",
       "        \n",
       "    \n",
       "        var popup_2f8ce67d3d63dc079a840175d6b0e52c = L.popup({\n",
       "  &quot;maxWidth&quot;: &quot;100%&quot;,\n",
       "});\n",
       "\n",
       "        \n",
       "            \n",
       "                var html_9c502971009c9d49b1f5095014bcc961 = $(`&lt;div id=&quot;html_9c502971009c9d49b1f5095014bcc961&quot; style=&quot;width: 100.0%; height: 100.0%;&quot;&gt;(&quot;&lt;b style=&#x27;font-size: 18px; &#x27;&gt;Cafe Atardecer&lt;/b&gt;&lt;br&gt;Direccion: Marti entre Perdomo y Albuquerque&quot;, &quot;Especialidades: [&#x27;criolla&#x27;]&quot;)&lt;/div&gt;`)[0];\n",
       "                popup_2f8ce67d3d63dc079a840175d6b0e52c.setContent(html_9c502971009c9d49b1f5095014bcc961);\n",
       "            \n",
       "        \n",
       "\n",
       "        marker_307471913c5ae47c6c9f3c8aab0f7eb8.bindPopup(popup_2f8ce67d3d63dc079a840175d6b0e52c)\n",
       "        ;\n",
       "\n",
       "        \n",
       "    \n",
       "    \n",
       "            var marker_624d1bb686fff8a2e0fd82c0c1b3328d = L.marker(\n",
       "                [23.086090107291625, -82.42853148002152],\n",
       "                {\n",
       "}\n",
       "            ).addTo(map_7f5ed2f3d7f5669ce524652a5c024be3);\n",
       "        \n",
       "    \n",
       "            var icon_8a9de1103f56e361d0916486f9bae98e = L.AwesomeMarkers.icon(\n",
       "                {\n",
       "  &quot;markerColor&quot;: &quot;red&quot;,\n",
       "  &quot;iconColor&quot;: &quot;white&quot;,\n",
       "  &quot;icon&quot;: &quot;cutlery&quot;,\n",
       "  &quot;prefix&quot;: &quot;fa&quot;,\n",
       "  &quot;extraClasses&quot;: &quot;fa-rotate-0&quot;,\n",
       "}\n",
       "            );\n",
       "            marker_624d1bb686fff8a2e0fd82c0c1b3328d.setIcon(icon_8a9de1103f56e361d0916486f9bae98e);\n",
       "        \n",
       "    \n",
       "        var popup_f78129d426f01dfb983401ca4fd5fed3 = L.popup({\n",
       "  &quot;maxWidth&quot;: &quot;100%&quot;,\n",
       "});\n",
       "\n",
       "        \n",
       "            \n",
       "                var html_00ab6b5c71ae8e549355f2f06531becd = $(`&lt;div id=&quot;html_00ab6b5c71ae8e549355f2f06531becd&quot; style=&quot;width: 100.0%; height: 100.0%;&quot;&gt;(&quot;&lt;b style=&#x27;font-size: 18px; &#x27;&gt;Cafeteria obelisco&lt;/b&gt;&lt;br&gt;Direccion: Avenida 31&quot;, &quot;Especialidades: [&#x27;mixta&#x27;]&quot;)&lt;/div&gt;`)[0];\n",
       "                popup_f78129d426f01dfb983401ca4fd5fed3.setContent(html_00ab6b5c71ae8e549355f2f06531becd);\n",
       "            \n",
       "        \n",
       "\n",
       "        marker_624d1bb686fff8a2e0fd82c0c1b3328d.bindPopup(popup_f78129d426f01dfb983401ca4fd5fed3)\n",
       "        ;\n",
       "\n",
       "        \n",
       "    \n",
       "    \n",
       "            var marker_ae453741b8685de374ccec4c33847474 = L.marker(\n",
       "                [23.052405448223777, -82.4605687],\n",
       "                {\n",
       "}\n",
       "            ).addTo(map_7f5ed2f3d7f5669ce524652a5c024be3);\n",
       "        \n",
       "    \n",
       "            var icon_83501ddfcb833b4763ebfce4351ccb6d = L.AwesomeMarkers.icon(\n",
       "                {\n",
       "  &quot;markerColor&quot;: &quot;red&quot;,\n",
       "  &quot;iconColor&quot;: &quot;white&quot;,\n",
       "  &quot;icon&quot;: &quot;cutlery&quot;,\n",
       "  &quot;prefix&quot;: &quot;fa&quot;,\n",
       "  &quot;extraClasses&quot;: &quot;fa-rotate-0&quot;,\n",
       "}\n",
       "            );\n",
       "            marker_ae453741b8685de374ccec4c33847474.setIcon(icon_83501ddfcb833b4763ebfce4351ccb6d);\n",
       "        \n",
       "    \n",
       "        var popup_4ae35e4faa4f0c3c0caa763da441487f = L.popup({\n",
       "  &quot;maxWidth&quot;: &quot;100%&quot;,\n",
       "});\n",
       "\n",
       "        \n",
       "            \n",
       "                var html_fedc6a36b064d54f2365644baba34338 = $(`&lt;div id=&quot;html_fedc6a36b064d54f2365644baba34338&quot; style=&quot;width: 100.0%; height: 100.0%;&quot;&gt;(&quot;&lt;b style=&#x27;font-size: 18px; &#x27;&gt;Cafe Aroma&lt;/b&gt;&lt;br&gt;Direccion: Calle 244 No. 5106 e/ 51 y 61, San Agustín&quot;, &quot;Especialidades: [&#x27;Mixta&#x27;, &#x27;Cafes&#x27;]&quot;)&lt;/div&gt;`)[0];\n",
       "                popup_4ae35e4faa4f0c3c0caa763da441487f.setContent(html_fedc6a36b064d54f2365644baba34338);\n",
       "            \n",
       "        \n",
       "\n",
       "        marker_ae453741b8685de374ccec4c33847474.bindPopup(popup_4ae35e4faa4f0c3c0caa763da441487f)\n",
       "        ;\n",
       "\n",
       "        \n",
       "    \n",
       "    \n",
       "            var marker_a6d1663d6916199c32b74b6c3941bcf6 = L.marker(\n",
       "                [23.136496787602418, -82.36291657498259],\n",
       "                {\n",
       "}\n",
       "            ).addTo(map_7f5ed2f3d7f5669ce524652a5c024be3);\n",
       "        \n",
       "    \n",
       "            var icon_22f4ade0dd634155b06892a5acac2bde = L.AwesomeMarkers.icon(\n",
       "                {\n",
       "  &quot;markerColor&quot;: &quot;red&quot;,\n",
       "  &quot;iconColor&quot;: &quot;white&quot;,\n",
       "  &quot;icon&quot;: &quot;cutlery&quot;,\n",
       "  &quot;prefix&quot;: &quot;fa&quot;,\n",
       "  &quot;extraClasses&quot;: &quot;fa-rotate-0&quot;,\n",
       "}\n",
       "            );\n",
       "            marker_a6d1663d6916199c32b74b6c3941bcf6.setIcon(icon_22f4ade0dd634155b06892a5acac2bde);\n",
       "        \n",
       "    \n",
       "        var popup_6c9681f6d9f63e3d9b4eadfaf9e1a9d2 = L.popup({\n",
       "  &quot;maxWidth&quot;: &quot;100%&quot;,\n",
       "});\n",
       "\n",
       "        \n",
       "            \n",
       "                var html_e6e00ac14a1f4b7849c0ebfbcb75fca2 = $(`&lt;div id=&quot;html_e6e00ac14a1f4b7849c0ebfbcb75fca2&quot; style=&quot;width: 100.0%; height: 100.0%;&quot;&gt;(&quot;&lt;b style=&#x27;font-size: 18px; &#x27;&gt;Cafe Bulevar&lt;/b&gt;&lt;br&gt;Direccion: Blvd de San Rafael entre Aguila y Galeano&quot;, &quot;Especialidades: [&#x27;cubana&#x27;]&quot;)&lt;/div&gt;`)[0];\n",
       "                popup_6c9681f6d9f63e3d9b4eadfaf9e1a9d2.setContent(html_e6e00ac14a1f4b7849c0ebfbcb75fca2);\n",
       "            \n",
       "        \n",
       "\n",
       "        marker_a6d1663d6916199c32b74b6c3941bcf6.bindPopup(popup_6c9681f6d9f63e3d9b4eadfaf9e1a9d2)\n",
       "        ;\n",
       "\n",
       "        \n",
       "    \n",
       "    \n",
       "            var marker_cec1edc5b9533b1c27c0140019449256 = L.marker(\n",
       "                [23.142000139754025, -82.35554376702197],\n",
       "                {\n",
       "}\n",
       "            ).addTo(map_7f5ed2f3d7f5669ce524652a5c024be3);\n",
       "        \n",
       "    \n",
       "            var icon_5ad5f1670480f1ae9b18da529dac4f24 = L.AwesomeMarkers.icon(\n",
       "                {\n",
       "  &quot;markerColor&quot;: &quot;red&quot;,\n",
       "  &quot;iconColor&quot;: &quot;white&quot;,\n",
       "  &quot;icon&quot;: &quot;cutlery&quot;,\n",
       "  &quot;prefix&quot;: &quot;fa&quot;,\n",
       "  &quot;extraClasses&quot;: &quot;fa-rotate-0&quot;,\n",
       "}\n",
       "            );\n",
       "            marker_cec1edc5b9533b1c27c0140019449256.setIcon(icon_5ad5f1670480f1ae9b18da529dac4f24);\n",
       "        \n",
       "    \n",
       "        var popup_9ef1e40753759bedb94505fadc2e54b3 = L.popup({\n",
       "  &quot;maxWidth&quot;: &quot;100%&quot;,\n",
       "});\n",
       "\n",
       "        \n",
       "            \n",
       "                var html_3a2775f62a52c60d310f829bdd61b632 = $(`&lt;div id=&quot;html_3a2775f62a52c60d310f829bdd61b632&quot; style=&quot;width: 100.0%; height: 100.0%;&quot;&gt;(&quot;&lt;b style=&#x27;font-size: 18px; &#x27;&gt;Cafe Del Angel&lt;/b&gt;&lt;br&gt;Direccion: Chacon #201 esquina Compostela&quot;, &quot;Especialidades: [&#x27;Cubana&#x27;, &#x27;internacional&#x27;, &#x27;italiana&#x27;]&quot;)&lt;/div&gt;`)[0];\n",
       "                popup_9ef1e40753759bedb94505fadc2e54b3.setContent(html_3a2775f62a52c60d310f829bdd61b632);\n",
       "            \n",
       "        \n",
       "\n",
       "        marker_cec1edc5b9533b1c27c0140019449256.bindPopup(popup_9ef1e40753759bedb94505fadc2e54b3)\n",
       "        ;\n",
       "\n",
       "        \n",
       "    \n",
       "    \n",
       "            var marker_0fa0997ec6b2c160be04e016413b34c3 = L.marker(\n",
       "                [23.13903313751219, -82.40074075776106],\n",
       "                {\n",
       "}\n",
       "            ).addTo(map_7f5ed2f3d7f5669ce524652a5c024be3);\n",
       "        \n",
       "    \n",
       "            var icon_a55635458653fc26fa366bb953305ded = L.AwesomeMarkers.icon(\n",
       "                {\n",
       "  &quot;markerColor&quot;: &quot;red&quot;,\n",
       "  &quot;iconColor&quot;: &quot;white&quot;,\n",
       "  &quot;icon&quot;: &quot;cutlery&quot;,\n",
       "  &quot;prefix&quot;: &quot;fa&quot;,\n",
       "  &quot;extraClasses&quot;: &quot;fa-rotate-0&quot;,\n",
       "}\n",
       "            );\n",
       "            marker_0fa0997ec6b2c160be04e016413b34c3.setIcon(icon_a55635458653fc26fa366bb953305ded);\n",
       "        \n",
       "    \n",
       "        var popup_eb67f423799b59e92249e2fafacd82a2 = L.popup({\n",
       "  &quot;maxWidth&quot;: &quot;100%&quot;,\n",
       "});\n",
       "\n",
       "        \n",
       "            \n",
       "                var html_0f10080927b0b2197f537b3110546d52 = $(`&lt;div id=&quot;html_0f10080927b0b2197f537b3110546d52&quot; style=&quot;width: 100.0%; height: 100.0%;&quot;&gt;(&quot;&lt;b style=&#x27;font-size: 18px; &#x27;&gt;Cafe D la Esquina&lt;/b&gt;&lt;br&gt;Direccion: Paseo #101, esq. a 5ta., Vedado&quot;, &quot;Especialidades: [&#x27;Comida cubana&#x27;, &#x27;caribeña&#x27;, &#x27;americana&#x27;]&quot;)&lt;/div&gt;`)[0];\n",
       "                popup_eb67f423799b59e92249e2fafacd82a2.setContent(html_0f10080927b0b2197f537b3110546d52);\n",
       "            \n",
       "        \n",
       "\n",
       "        marker_0fa0997ec6b2c160be04e016413b34c3.bindPopup(popup_eb67f423799b59e92249e2fafacd82a2)\n",
       "        ;\n",
       "\n",
       "        \n",
       "    \n",
       "    \n",
       "            var marker_278733074af5f79e5d8eef25a0a4882e = L.marker(\n",
       "                [23.142976203835282, -82.35457077116467],\n",
       "                {\n",
       "}\n",
       "            ).addTo(map_7f5ed2f3d7f5669ce524652a5c024be3);\n",
       "        \n",
       "    \n",
       "            var icon_2fe2eae4420d44c607c493caf239f02c = L.AwesomeMarkers.icon(\n",
       "                {\n",
       "  &quot;markerColor&quot;: &quot;red&quot;,\n",
       "  &quot;iconColor&quot;: &quot;white&quot;,\n",
       "  &quot;icon&quot;: &quot;cutlery&quot;,\n",
       "  &quot;prefix&quot;: &quot;fa&quot;,\n",
       "  &quot;extraClasses&quot;: &quot;fa-rotate-0&quot;,\n",
       "}\n",
       "            );\n",
       "            marker_278733074af5f79e5d8eef25a0a4882e.setIcon(icon_2fe2eae4420d44c607c493caf239f02c);\n",
       "        \n",
       "    \n",
       "        var popup_5e4a9b8b1836628ac47b74016612639e = L.popup({\n",
       "  &quot;maxWidth&quot;: &quot;100%&quot;,\n",
       "});\n",
       "\n",
       "        \n",
       "            \n",
       "                var html_9778610c54d48f30223d058694296a19 = $(`&lt;div id=&quot;html_9778610c54d48f30223d058694296a19&quot; style=&quot;width: 100.0%; height: 100.0%;&quot;&gt;(&quot;&lt;b style=&#x27;font-size: 18px; &#x27;&gt;Cafe Fortuna Joe&lt;/b&gt;&lt;br&gt;Direccion: Aguiar 64 e/ Peña Pobre y Cuarteles&quot;, &quot;Especialidades: [&#x27;Internacional&#x27;, &#x27;Cubana&#x27;]&quot;)&lt;/div&gt;`)[0];\n",
       "                popup_5e4a9b8b1836628ac47b74016612639e.setContent(html_9778610c54d48f30223d058694296a19);\n",
       "            \n",
       "        \n",
       "\n",
       "        marker_278733074af5f79e5d8eef25a0a4882e.bindPopup(popup_5e4a9b8b1836628ac47b74016612639e)\n",
       "        ;\n",
       "\n",
       "        \n",
       "    \n",
       "    \n",
       "            var marker_5c8bcf93395b85c116f5126af68eebd6 = L.marker(\n",
       "                [23.030074211657837, -82.40204237654218],\n",
       "                {\n",
       "}\n",
       "            ).addTo(map_7f5ed2f3d7f5669ce524652a5c024be3);\n",
       "        \n",
       "    \n",
       "            var icon_ec9076903bbb2871ddae75f867c12076 = L.AwesomeMarkers.icon(\n",
       "                {\n",
       "  &quot;markerColor&quot;: &quot;red&quot;,\n",
       "  &quot;iconColor&quot;: &quot;white&quot;,\n",
       "  &quot;icon&quot;: &quot;cutlery&quot;,\n",
       "  &quot;prefix&quot;: &quot;fa&quot;,\n",
       "  &quot;extraClasses&quot;: &quot;fa-rotate-0&quot;,\n",
       "}\n",
       "            );\n",
       "            marker_5c8bcf93395b85c116f5126af68eebd6.setIcon(icon_ec9076903bbb2871ddae75f867c12076);\n",
       "        \n",
       "    \n",
       "        var popup_5fb8b21557bd5b8573bd84fb0d4f93e8 = L.popup({\n",
       "  &quot;maxWidth&quot;: &quot;100%&quot;,\n",
       "});\n",
       "\n",
       "        \n",
       "            \n",
       "                var html_2be44078ee1da01fa7b05bd759f0f48d = $(`&lt;div id=&quot;html_2be44078ee1da01fa7b05bd759f0f48d&quot; style=&quot;width: 100.0%; height: 100.0%;&quot;&gt;(&quot;&lt;b style=&#x27;font-size: 18px; &#x27;&gt;Cafe Tilin&lt;/b&gt;&lt;br&gt;Direccion: Avenida Independencia Km 9 1/2, Fontanar&quot;, &quot;Especialidades: [&#x27;Comida cubana&#x27;, &#x27;internacional&#x27;]&quot;)&lt;/div&gt;`)[0];\n",
       "                popup_5fb8b21557bd5b8573bd84fb0d4f93e8.setContent(html_2be44078ee1da01fa7b05bd759f0f48d);\n",
       "            \n",
       "        \n",
       "\n",
       "        marker_5c8bcf93395b85c116f5126af68eebd6.bindPopup(popup_5fb8b21557bd5b8573bd84fb0d4f93e8)\n",
       "        ;\n",
       "\n",
       "        \n",
       "    \n",
       "    \n",
       "            var marker_6272a837bbbdab81cad1b42734bb75bc = L.marker(\n",
       "                [23.0717312546624, -82.3077958289789],\n",
       "                {\n",
       "}\n",
       "            ).addTo(map_7f5ed2f3d7f5669ce524652a5c024be3);\n",
       "        \n",
       "    \n",
       "            var icon_8af9fa0202f8588c38fa304698eb708e = L.AwesomeMarkers.icon(\n",
       "                {\n",
       "  &quot;markerColor&quot;: &quot;red&quot;,\n",
       "  &quot;iconColor&quot;: &quot;white&quot;,\n",
       "  &quot;icon&quot;: &quot;cutlery&quot;,\n",
       "  &quot;prefix&quot;: &quot;fa&quot;,\n",
       "  &quot;extraClasses&quot;: &quot;fa-rotate-0&quot;,\n",
       "}\n",
       "            );\n",
       "            marker_6272a837bbbdab81cad1b42734bb75bc.setIcon(icon_8af9fa0202f8588c38fa304698eb708e);\n",
       "        \n",
       "    \n",
       "        var popup_8619842014e40b8bc5c05cfc0226fd87 = L.popup({\n",
       "  &quot;maxWidth&quot;: &quot;100%&quot;,\n",
       "});\n",
       "\n",
       "        \n",
       "            \n",
       "                var html_47004e6b1833ef7b146b0294fbb5e55d = $(`&lt;div id=&quot;html_47004e6b1833ef7b146b0294fbb5e55d&quot; style=&quot;width: 100.0%; height: 100.0%;&quot;&gt;(&quot;&lt;b style=&#x27;font-size: 18px; &#x27;&gt;Café Toscano&lt;/b&gt;&lt;br&gt;Direccion: Calzada de Guines&quot;, &quot;Especialidades: [&#x27;criolla&#x27;, &#x27;italiana&#x27;]&quot;)&lt;/div&gt;`)[0];\n",
       "                popup_8619842014e40b8bc5c05cfc0226fd87.setContent(html_47004e6b1833ef7b146b0294fbb5e55d);\n",
       "            \n",
       "        \n",
       "\n",
       "        marker_6272a837bbbdab81cad1b42734bb75bc.bindPopup(popup_8619842014e40b8bc5c05cfc0226fd87)\n",
       "        ;\n",
       "\n",
       "        \n",
       "    \n",
       "    \n",
       "            var marker_01c03bc90f3d1cdc0b72b60ff3828232 = L.marker(\n",
       "                [23.10865762371607, -82.24742188465748],\n",
       "                {\n",
       "}\n",
       "            ).addTo(map_7f5ed2f3d7f5669ce524652a5c024be3);\n",
       "        \n",
       "    \n",
       "            var icon_14a6b7bbca484841f7e4c1fc5be0cd38 = L.AwesomeMarkers.icon(\n",
       "                {\n",
       "  &quot;markerColor&quot;: &quot;red&quot;,\n",
       "  &quot;iconColor&quot;: &quot;white&quot;,\n",
       "  &quot;icon&quot;: &quot;cutlery&quot;,\n",
       "  &quot;prefix&quot;: &quot;fa&quot;,\n",
       "  &quot;extraClasses&quot;: &quot;fa-rotate-0&quot;,\n",
       "}\n",
       "            );\n",
       "            marker_01c03bc90f3d1cdc0b72b60ff3828232.setIcon(icon_14a6b7bbca484841f7e4c1fc5be0cd38);\n",
       "        \n",
       "    \n",
       "        var popup_6d98abbc3705f5c287c8061a36ec1a41 = L.popup({\n",
       "  &quot;maxWidth&quot;: &quot;100%&quot;,\n",
       "});\n",
       "\n",
       "        \n",
       "            \n",
       "                var html_103bd3a1d944a3500201e9e1bc907eb8 = $(`&lt;div id=&quot;html_103bd3a1d944a3500201e9e1bc907eb8&quot; style=&quot;width: 100.0%; height: 100.0%;&quot;&gt;(&quot;&lt;b style=&#x27;font-size: 18px; &#x27;&gt;Cafe Versalles&lt;/b&gt;&lt;br&gt;Direccion: Calle Marti No.101 entre Versalles y San Antonio&quot;, &quot;Especialidades: [&#x27;Comida Criolla&#x27;]&quot;)&lt;/div&gt;`)[0];\n",
       "                popup_6d98abbc3705f5c287c8061a36ec1a41.setContent(html_103bd3a1d944a3500201e9e1bc907eb8);\n",
       "            \n",
       "        \n",
       "\n",
       "        marker_01c03bc90f3d1cdc0b72b60ff3828232.bindPopup(popup_6d98abbc3705f5c287c8061a36ec1a41)\n",
       "        ;\n",
       "\n",
       "        \n",
       "    \n",
       "    \n",
       "            var marker_f3912efd904fd5deb963107582dae7b3 = L.marker(\n",
       "                [23.117962514624928, -82.43294891647132],\n",
       "                {\n",
       "}\n",
       "            ).addTo(map_7f5ed2f3d7f5669ce524652a5c024be3);\n",
       "        \n",
       "    \n",
       "            var icon_577bc966b3cdef91632c3e729a7f64c5 = L.AwesomeMarkers.icon(\n",
       "                {\n",
       "  &quot;markerColor&quot;: &quot;red&quot;,\n",
       "  &quot;iconColor&quot;: &quot;white&quot;,\n",
       "  &quot;icon&quot;: &quot;cutlery&quot;,\n",
       "  &quot;prefix&quot;: &quot;fa&quot;,\n",
       "  &quot;extraClasses&quot;: &quot;fa-rotate-0&quot;,\n",
       "}\n",
       "            );\n",
       "            marker_f3912efd904fd5deb963107582dae7b3.setIcon(icon_577bc966b3cdef91632c3e729a7f64c5);\n",
       "        \n",
       "    \n",
       "        var popup_ad1c2b9dbc15d4d9b21042b182a0e931 = L.popup({\n",
       "  &quot;maxWidth&quot;: &quot;100%&quot;,\n",
       "});\n",
       "\n",
       "        \n",
       "            \n",
       "                var html_41e2a8a3ce88aed0d621d94e205180c5 = $(`&lt;div id=&quot;html_41e2a8a3ce88aed0d621d94e205180c5&quot; style=&quot;width: 100.0%; height: 100.0%;&quot;&gt;(&quot;&lt;b style=&#x27;font-size: 18px; &#x27;&gt;Café Literario La Copa&lt;/b&gt;&lt;br&gt;Direccion:  1ra A entre 42 y 44&quot;, &quot;Especialidades: [&#x27;mixta&#x27;]&quot;)&lt;/div&gt;`)[0];\n",
       "                popup_ad1c2b9dbc15d4d9b21042b182a0e931.setContent(html_41e2a8a3ce88aed0d621d94e205180c5);\n",
       "            \n",
       "        \n",
       "\n",
       "        marker_f3912efd904fd5deb963107582dae7b3.bindPopup(popup_ad1c2b9dbc15d4d9b21042b182a0e931)\n",
       "        ;\n",
       "\n",
       "        \n",
       "    \n",
       "    \n",
       "            var marker_484b594ceabe6cbfdda3758533354e8c = L.marker(\n",
       "                [23.07258141652537, -82.3570826358098],\n",
       "                {\n",
       "}\n",
       "            ).addTo(map_7f5ed2f3d7f5669ce524652a5c024be3);\n",
       "        \n",
       "    \n",
       "            var icon_b6eb08b9e1f9f98676b04d3afa79a411 = L.AwesomeMarkers.icon(\n",
       "                {\n",
       "  &quot;markerColor&quot;: &quot;red&quot;,\n",
       "  &quot;iconColor&quot;: &quot;white&quot;,\n",
       "  &quot;icon&quot;: &quot;cutlery&quot;,\n",
       "  &quot;prefix&quot;: &quot;fa&quot;,\n",
       "  &quot;extraClasses&quot;: &quot;fa-rotate-0&quot;,\n",
       "}\n",
       "            );\n",
       "            marker_484b594ceabe6cbfdda3758533354e8c.setIcon(icon_b6eb08b9e1f9f98676b04d3afa79a411);\n",
       "        \n",
       "    \n",
       "        var popup_25d8c1a0ba318f6a9ceb9fc3fc43ef4d = L.popup({\n",
       "  &quot;maxWidth&quot;: &quot;100%&quot;,\n",
       "});\n",
       "\n",
       "        \n",
       "            \n",
       "                var html_d1c2931c2718d12505c0b36fd8878943 = $(`&lt;div id=&quot;html_d1c2931c2718d12505c0b36fd8878943&quot; style=&quot;width: 100.0%; height: 100.0%;&quot;&gt;(&quot;&lt;b style=&#x27;font-size: 18px; &#x27;&gt;Casa del Maiz&lt;/b&gt;&lt;br&gt;Direccion:  Calzada de Managua y San Agustin, Arroyo Naranjo&quot;, &quot;Especialidades: [&#x27;cubana&#x27;]&quot;)&lt;/div&gt;`)[0];\n",
       "                popup_25d8c1a0ba318f6a9ceb9fc3fc43ef4d.setContent(html_d1c2931c2718d12505c0b36fd8878943);\n",
       "            \n",
       "        \n",
       "\n",
       "        marker_484b594ceabe6cbfdda3758533354e8c.bindPopup(popup_25d8c1a0ba318f6a9ceb9fc3fc43ef4d)\n",
       "        ;\n",
       "\n",
       "        \n",
       "    \n",
       "    \n",
       "            var marker_d0b09879b61f945ad9480398d9e1f77f = L.marker(\n",
       "                [23.094140100551975, -82.37774190333381],\n",
       "                {\n",
       "}\n",
       "            ).addTo(map_7f5ed2f3d7f5669ce524652a5c024be3);\n",
       "        \n",
       "    \n",
       "            var icon_a081e1b65436c4497050576731451008 = L.AwesomeMarkers.icon(\n",
       "                {\n",
       "  &quot;markerColor&quot;: &quot;red&quot;,\n",
       "  &quot;iconColor&quot;: &quot;white&quot;,\n",
       "  &quot;icon&quot;: &quot;cutlery&quot;,\n",
       "  &quot;prefix&quot;: &quot;fa&quot;,\n",
       "  &quot;extraClasses&quot;: &quot;fa-rotate-0&quot;,\n",
       "}\n",
       "            );\n",
       "            marker_d0b09879b61f945ad9480398d9e1f77f.setIcon(icon_a081e1b65436c4497050576731451008);\n",
       "        \n",
       "    \n",
       "        var popup_640190c2426f0a1809e774e7faa788cb = L.popup({\n",
       "  &quot;maxWidth&quot;: &quot;100%&quot;,\n",
       "});\n",
       "\n",
       "        \n",
       "            \n",
       "                var html_70f563abbdde48f86580c510be58c151 = $(`&lt;div id=&quot;html_70f563abbdde48f86580c510be58c151&quot; style=&quot;width: 100.0%; height: 100.0%;&quot;&gt;(&quot;&lt;b style=&#x27;font-size: 18px; &#x27;&gt;Casa Godo&lt;/b&gt;&lt;br&gt;Direccion: Ave. Mayia Rodriguez # 358 e/ San Mariano y Vista Alegre, El Monaco&quot;, &quot;Especialidades: [&#x27;cubana&#x27;, &#x27;internacional&#x27;]&quot;)&lt;/div&gt;`)[0];\n",
       "                popup_640190c2426f0a1809e774e7faa788cb.setContent(html_70f563abbdde48f86580c510be58c151);\n",
       "            \n",
       "        \n",
       "\n",
       "        marker_d0b09879b61f945ad9480398d9e1f77f.bindPopup(popup_640190c2426f0a1809e774e7faa788cb)\n",
       "        ;\n",
       "\n",
       "        \n",
       "    \n",
       "    \n",
       "            var marker_10181125e19f1042ced1dbdbf535dfdb = L.marker(\n",
       "                [23.14057504472214, -82.35175624751082],\n",
       "                {\n",
       "}\n",
       "            ).addTo(map_7f5ed2f3d7f5669ce524652a5c024be3);\n",
       "        \n",
       "    \n",
       "            var icon_ecf56ae185e4b7c9ffcbc58b13ee7310 = L.AwesomeMarkers.icon(\n",
       "                {\n",
       "  &quot;markerColor&quot;: &quot;red&quot;,\n",
       "  &quot;iconColor&quot;: &quot;white&quot;,\n",
       "  &quot;icon&quot;: &quot;cutlery&quot;,\n",
       "  &quot;prefix&quot;: &quot;fa&quot;,\n",
       "  &quot;extraClasses&quot;: &quot;fa-rotate-0&quot;,\n",
       "}\n",
       "            );\n",
       "            marker_10181125e19f1042ced1dbdbf535dfdb.setIcon(icon_ecf56ae185e4b7c9ffcbc58b13ee7310);\n",
       "        \n",
       "    \n",
       "        var popup_f32894a0a2ed40a545c239b927505c61 = L.popup({\n",
       "  &quot;maxWidth&quot;: &quot;100%&quot;,\n",
       "});\n",
       "\n",
       "        \n",
       "            \n",
       "                var html_e315597cfe632a77502082da6c8faa71 = $(`&lt;div id=&quot;html_e315597cfe632a77502082da6c8faa71&quot; style=&quot;width: 100.0%; height: 100.0%;&quot;&gt;(&quot;&lt;b style=&#x27;font-size: 18px; &#x27;&gt;Casa Roma 1860&lt;/b&gt;&lt;br&gt;Direccion: San Ignacio No 68 / O Reilly y Empedrado.Callejon del chorro&quot;, &quot;Especialidades: [&#x27;Criolla&#x27;]&quot;)&lt;/div&gt;`)[0];\n",
       "                popup_f32894a0a2ed40a545c239b927505c61.setContent(html_e315597cfe632a77502082da6c8faa71);\n",
       "            \n",
       "        \n",
       "\n",
       "        marker_10181125e19f1042ced1dbdbf535dfdb.bindPopup(popup_f32894a0a2ed40a545c239b927505c61)\n",
       "        ;\n",
       "\n",
       "        \n",
       "    \n",
       "    \n",
       "            var marker_9c414b591329af59fe132afa6e4ca928 = L.marker(\n",
       "                [23.14287158318666, -82.39913605698585],\n",
       "                {\n",
       "}\n",
       "            ).addTo(map_7f5ed2f3d7f5669ce524652a5c024be3);\n",
       "        \n",
       "    \n",
       "            var icon_7bddb582ba3793c61caa84294887f095 = L.AwesomeMarkers.icon(\n",
       "                {\n",
       "  &quot;markerColor&quot;: &quot;red&quot;,\n",
       "  &quot;iconColor&quot;: &quot;white&quot;,\n",
       "  &quot;icon&quot;: &quot;cutlery&quot;,\n",
       "  &quot;prefix&quot;: &quot;fa&quot;,\n",
       "  &quot;extraClasses&quot;: &quot;fa-rotate-0&quot;,\n",
       "}\n",
       "            );\n",
       "            marker_9c414b591329af59fe132afa6e4ca928.setIcon(icon_7bddb582ba3793c61caa84294887f095);\n",
       "        \n",
       "    \n",
       "        var popup_cc2ba698627b3b768d7c6651b73164c4 = L.popup({\n",
       "  &quot;maxWidth&quot;: &quot;100%&quot;,\n",
       "});\n",
       "\n",
       "        \n",
       "            \n",
       "                var html_26dcc53f5cbb793982dec2890219de34 = $(`&lt;div id=&quot;html_26dcc53f5cbb793982dec2890219de34&quot; style=&quot;width: 100.0%; height: 100.0%;&quot;&gt;(&quot;&lt;b style=&#x27;font-size: 18px; &#x27;&gt;Casa Mia&lt;/b&gt;&lt;br&gt;Direccion: Calle 1ra, No.103, entre C y D, Vedado&quot;, &quot;Especialidades: [&#x27;Comida Caribeña&#x27;, &#x27;latina&#x27;, &#x27;saludable&#x27;, &#x27;cubana&#x27;, &#x27;internacional&#x27;, &#x27;mariscos&#x27;]&quot;)&lt;/div&gt;`)[0];\n",
       "                popup_cc2ba698627b3b768d7c6651b73164c4.setContent(html_26dcc53f5cbb793982dec2890219de34);\n",
       "            \n",
       "        \n",
       "\n",
       "        marker_9c414b591329af59fe132afa6e4ca928.bindPopup(popup_cc2ba698627b3b768d7c6651b73164c4)\n",
       "        ;\n",
       "\n",
       "        \n",
       "    \n",
       "    \n",
       "            var marker_d301a07da4afd88b1d30d6015696b710 = L.marker(\n",
       "                [23.140862822677907, -82.35652410537521],\n",
       "                {\n",
       "}\n",
       "            ).addTo(map_7f5ed2f3d7f5669ce524652a5c024be3);\n",
       "        \n",
       "    \n",
       "            var icon_7712b561dae829eec166e47dab914319 = L.AwesomeMarkers.icon(\n",
       "                {\n",
       "  &quot;markerColor&quot;: &quot;red&quot;,\n",
       "  &quot;iconColor&quot;: &quot;white&quot;,\n",
       "  &quot;icon&quot;: &quot;cutlery&quot;,\n",
       "  &quot;prefix&quot;: &quot;fa&quot;,\n",
       "  &quot;extraClasses&quot;: &quot;fa-rotate-0&quot;,\n",
       "}\n",
       "            );\n",
       "            marker_d301a07da4afd88b1d30d6015696b710.setIcon(icon_7712b561dae829eec166e47dab914319);\n",
       "        \n",
       "    \n",
       "        var popup_c22ab6003e7fcec0ee11ce5c688d3b70 = L.popup({\n",
       "  &quot;maxWidth&quot;: &quot;100%&quot;,\n",
       "});\n",
       "\n",
       "        \n",
       "            \n",
       "                var html_749c8564558af3271257df207684ede7 = $(`&lt;div id=&quot;html_749c8564558af3271257df207684ede7&quot; style=&quot;width: 100.0%; height: 100.0%;&quot;&gt;(&quot;&lt;b style=&#x27;font-size: 18px; &#x27;&gt;ChaChaChá&lt;/b&gt;&lt;br&gt;Direccion: Monserrate # 159 e/ Tejadillo y Chacón&quot;, &quot;Especialidades: [&#x27;Comida Internacional&#x27;, &#x27;Fusión&#x27;, &#x27;Cubana&#x27;]&quot;)&lt;/div&gt;`)[0];\n",
       "                popup_c22ab6003e7fcec0ee11ce5c688d3b70.setContent(html_749c8564558af3271257df207684ede7);\n",
       "            \n",
       "        \n",
       "\n",
       "        marker_d301a07da4afd88b1d30d6015696b710.bindPopup(popup_c22ab6003e7fcec0ee11ce5c688d3b70)\n",
       "        ;\n",
       "\n",
       "        \n",
       "    \n",
       "    \n",
       "            var marker_941bd95503861feaa0bc95923b3d98ee = L.marker(\n",
       "                [23.1310792818174, -82.4048009798343],\n",
       "                {\n",
       "}\n",
       "            ).addTo(map_7f5ed2f3d7f5669ce524652a5c024be3);\n",
       "        \n",
       "    \n",
       "            var icon_75efdda5a9c2529179f85ae2a1f84b26 = L.AwesomeMarkers.icon(\n",
       "                {\n",
       "  &quot;markerColor&quot;: &quot;red&quot;,\n",
       "  &quot;iconColor&quot;: &quot;white&quot;,\n",
       "  &quot;icon&quot;: &quot;cutlery&quot;,\n",
       "  &quot;prefix&quot;: &quot;fa&quot;,\n",
       "  &quot;extraClasses&quot;: &quot;fa-rotate-0&quot;,\n",
       "}\n",
       "            );\n",
       "            marker_941bd95503861feaa0bc95923b3d98ee.setIcon(icon_75efdda5a9c2529179f85ae2a1f84b26);\n",
       "        \n",
       "    \n",
       "        var popup_06e9cd28b29ec1423438e6b5e49c9cc3 = L.popup({\n",
       "  &quot;maxWidth&quot;: &quot;100%&quot;,\n",
       "});\n",
       "\n",
       "        \n",
       "            \n",
       "                var html_c419d24eeac87a623a4b67bce45358ce = $(`&lt;div id=&quot;html_c419d24eeac87a623a4b67bce45358ce&quot; style=&quot;width: 100.0%; height: 100.0%;&quot;&gt;(&quot;&lt;b style=&#x27;font-size: 18px; &#x27;&gt;Coco Blue&lt;/b&gt;&lt;br&gt;Direccion: entre 11 y 13 Vedado, 112 Calle 14&quot;, &quot;Especialidades: [&#x27;Caribeña&#x27;, &#x27;Bar&#x27;, &#x27;Café&#x27;, &#x27;Pub&#x27;, &#x27;Cubana&#x27;]&quot;)&lt;/div&gt;`)[0];\n",
       "                popup_06e9cd28b29ec1423438e6b5e49c9cc3.setContent(html_c419d24eeac87a623a4b67bce45358ce);\n",
       "            \n",
       "        \n",
       "\n",
       "        marker_941bd95503861feaa0bc95923b3d98ee.bindPopup(popup_06e9cd28b29ec1423438e6b5e49c9cc3)\n",
       "        ;\n",
       "\n",
       "        \n",
       "    \n",
       "    \n",
       "            var marker_aadf6287d95eea392ab5f692cd8e2fbb = L.marker(\n",
       "                [23.13713706188433, -82.36148787289606],\n",
       "                {\n",
       "}\n",
       "            ).addTo(map_7f5ed2f3d7f5669ce524652a5c024be3);\n",
       "        \n",
       "    \n",
       "            var icon_a73dee4800b0bbb581f5c062062e2e9a = L.AwesomeMarkers.icon(\n",
       "                {\n",
       "  &quot;markerColor&quot;: &quot;red&quot;,\n",
       "  &quot;iconColor&quot;: &quot;white&quot;,\n",
       "  &quot;icon&quot;: &quot;cutlery&quot;,\n",
       "  &quot;prefix&quot;: &quot;fa&quot;,\n",
       "  &quot;extraClasses&quot;: &quot;fa-rotate-0&quot;,\n",
       "}\n",
       "            );\n",
       "            marker_aadf6287d95eea392ab5f692cd8e2fbb.setIcon(icon_a73dee4800b0bbb581f5c062062e2e9a);\n",
       "        \n",
       "    \n",
       "        var popup_12b5334a5b7862ba5ee96f85876a5b67 = L.popup({\n",
       "  &quot;maxWidth&quot;: &quot;100%&quot;,\n",
       "});\n",
       "\n",
       "        \n",
       "            \n",
       "                var html_88b8e934ab43489252a4175628b314f3 = $(`&lt;div id=&quot;html_88b8e934ab43489252a4175628b314f3&quot; style=&quot;width: 100.0%; height: 100.0%;&quot;&gt;(&quot;&lt;b style=&#x27;font-size: 18px; &#x27;&gt;Cohmar Cafe&lt;/b&gt;&lt;br&gt;Direccion: Boulevard de San Rafael, &amp; Amistad&quot;, &quot;Especialidades: [&#x27;criolla&#x27;, &#x27;internacional&#x27;, &#x27;cubana&#x27;]&quot;)&lt;/div&gt;`)[0];\n",
       "                popup_12b5334a5b7862ba5ee96f85876a5b67.setContent(html_88b8e934ab43489252a4175628b314f3);\n",
       "            \n",
       "        \n",
       "\n",
       "        marker_aadf6287d95eea392ab5f692cd8e2fbb.bindPopup(popup_12b5334a5b7862ba5ee96f85876a5b67)\n",
       "        ;\n",
       "\n",
       "        \n",
       "    \n",
       "    \n",
       "            var marker_a6c68372fcccb02b3194c6cdf17f7243 = L.marker(\n",
       "                [23.071073169539453, -82.43552727449875],\n",
       "                {\n",
       "}\n",
       "            ).addTo(map_7f5ed2f3d7f5669ce524652a5c024be3);\n",
       "        \n",
       "    \n",
       "            var icon_c89124521bfe534cd268dcad5b0ca915 = L.AwesomeMarkers.icon(\n",
       "                {\n",
       "  &quot;markerColor&quot;: &quot;red&quot;,\n",
       "  &quot;iconColor&quot;: &quot;white&quot;,\n",
       "  &quot;icon&quot;: &quot;cutlery&quot;,\n",
       "  &quot;prefix&quot;: &quot;fa&quot;,\n",
       "  &quot;extraClasses&quot;: &quot;fa-rotate-0&quot;,\n",
       "}\n",
       "            );\n",
       "            marker_a6c68372fcccb02b3194c6cdf17f7243.setIcon(icon_c89124521bfe534cd268dcad5b0ca915);\n",
       "        \n",
       "    \n",
       "        var popup_f15c2b6838cce7b38b7d4724de9ad214 = L.popup({\n",
       "  &quot;maxWidth&quot;: &quot;100%&quot;,\n",
       "});\n",
       "\n",
       "        \n",
       "            \n",
       "                var html_a04223b8af6efe18672391df70ac95f3 = $(`&lt;div id=&quot;html_a04223b8af6efe18672391df70ac95f3&quot; style=&quot;width: 100.0%; height: 100.0%;&quot;&gt;(&quot;&lt;b style=&#x27;font-size: 18px; &#x27;&gt;Colesterol 5.1&lt;/b&gt;&lt;br&gt;Direccion: Avenida 51 entre 134 y 136&quot;, &quot;Especialidades: [&#x27;cubana&#x27;, &#x27;italiana&#x27;, &#x27;internacional&#x27;]&quot;)&lt;/div&gt;`)[0];\n",
       "                popup_f15c2b6838cce7b38b7d4724de9ad214.setContent(html_a04223b8af6efe18672391df70ac95f3);\n",
       "            \n",
       "        \n",
       "\n",
       "        marker_a6c68372fcccb02b3194c6cdf17f7243.bindPopup(popup_f15c2b6838cce7b38b7d4724de9ad214)\n",
       "        ;\n",
       "\n",
       "        \n",
       "    \n",
       "    \n",
       "            var marker_7f2c3d6c2e004f7ad89749cb9ed5a205 = L.marker(\n",
       "                [23.05213364329506, -82.33209177284725],\n",
       "                {\n",
       "}\n",
       "            ).addTo(map_7f5ed2f3d7f5669ce524652a5c024be3);\n",
       "        \n",
       "    \n",
       "            var icon_08b3f34cba1e5ab3b56f5669f3bcfa19 = L.AwesomeMarkers.icon(\n",
       "                {\n",
       "  &quot;markerColor&quot;: &quot;red&quot;,\n",
       "  &quot;iconColor&quot;: &quot;white&quot;,\n",
       "  &quot;icon&quot;: &quot;cutlery&quot;,\n",
       "  &quot;prefix&quot;: &quot;fa&quot;,\n",
       "  &quot;extraClasses&quot;: &quot;fa-rotate-0&quot;,\n",
       "}\n",
       "            );\n",
       "            marker_7f2c3d6c2e004f7ad89749cb9ed5a205.setIcon(icon_08b3f34cba1e5ab3b56f5669f3bcfa19);\n",
       "        \n",
       "    \n",
       "        var popup_d69fca56f08d5086a60533c923d76cee = L.popup({\n",
       "  &quot;maxWidth&quot;: &quot;100%&quot;,\n",
       "});\n",
       "\n",
       "        \n",
       "            \n",
       "                var html_2a0b8c89a12cb83694c1a3259b536f10 = $(`&lt;div id=&quot;html_2a0b8c89a12cb83694c1a3259b536f10&quot; style=&quot;width: 100.0%; height: 100.0%;&quot;&gt;(&quot;&lt;b style=&#x27;font-size: 18px; &#x27;&gt;Comida Criolla Ocho Vías&lt;/b&gt;&lt;br&gt;Direccion: Avenida 1er Anillo 3km despues de San Agustin&quot;, &quot;Especialidades: [&#x27;cubana&#x27;]&quot;)&lt;/div&gt;`)[0];\n",
       "                popup_d69fca56f08d5086a60533c923d76cee.setContent(html_2a0b8c89a12cb83694c1a3259b536f10);\n",
       "            \n",
       "        \n",
       "\n",
       "        marker_7f2c3d6c2e004f7ad89749cb9ed5a205.bindPopup(popup_d69fca56f08d5086a60533c923d76cee)\n",
       "        ;\n",
       "\n",
       "        \n",
       "    \n",
       "    \n",
       "            var marker_bb44dddc8e3b4841de6a9aef75caa3a1 = L.marker(\n",
       "                [23.08919134492609, -82.37611427712088],\n",
       "                {\n",
       "}\n",
       "            ).addTo(map_7f5ed2f3d7f5669ce524652a5c024be3);\n",
       "        \n",
       "    \n",
       "            var icon_d44b484878fbaa2105986b4f44e1b0e3 = L.AwesomeMarkers.icon(\n",
       "                {\n",
       "  &quot;markerColor&quot;: &quot;red&quot;,\n",
       "  &quot;iconColor&quot;: &quot;white&quot;,\n",
       "  &quot;icon&quot;: &quot;cutlery&quot;,\n",
       "  &quot;prefix&quot;: &quot;fa&quot;,\n",
       "  &quot;extraClasses&quot;: &quot;fa-rotate-0&quot;,\n",
       "}\n",
       "            );\n",
       "            marker_bb44dddc8e3b4841de6a9aef75caa3a1.setIcon(icon_d44b484878fbaa2105986b4f44e1b0e3);\n",
       "        \n",
       "    \n",
       "        var popup_e1f57d7e49002fdede305e57e13b9488 = L.popup({\n",
       "  &quot;maxWidth&quot;: &quot;100%&quot;,\n",
       "});\n",
       "\n",
       "        \n",
       "            \n",
       "                var html_4da2f9d3bbad466d4a31e131fcf9626e = $(`&lt;div id=&quot;html_4da2f9d3bbad466d4a31e131fcf9626e&quot; style=&quot;width: 100.0%; height: 100.0%;&quot;&gt;(&quot;&lt;b style=&#x27;font-size: 18px; &#x27;&gt;Crispy Chicken&lt;/b&gt;&lt;br&gt;Direccion: Avenida de Acosta y Juan Delgado, Víbora&quot;, &quot;Especialidades: [&#x27;criolla&#x27;, &#x27;cubana&#x27;, &#x27;internacional&#x27;]&quot;)&lt;/div&gt;`)[0];\n",
       "                popup_e1f57d7e49002fdede305e57e13b9488.setContent(html_4da2f9d3bbad466d4a31e131fcf9626e);\n",
       "            \n",
       "        \n",
       "\n",
       "        marker_bb44dddc8e3b4841de6a9aef75caa3a1.bindPopup(popup_e1f57d7e49002fdede305e57e13b9488)\n",
       "        ;\n",
       "\n",
       "        \n",
       "    \n",
       "    \n",
       "            var marker_48473df7034b88b41c2435deb77fd160 = L.marker(\n",
       "                [23.046144807035024, -82.27016561299135],\n",
       "                {\n",
       "}\n",
       "            ).addTo(map_7f5ed2f3d7f5669ce524652a5c024be3);\n",
       "        \n",
       "    \n",
       "            var icon_608a6dc790b61dd36cce9b917ddbd0b2 = L.AwesomeMarkers.icon(\n",
       "                {\n",
       "  &quot;markerColor&quot;: &quot;red&quot;,\n",
       "  &quot;iconColor&quot;: &quot;white&quot;,\n",
       "  &quot;icon&quot;: &quot;cutlery&quot;,\n",
       "  &quot;prefix&quot;: &quot;fa&quot;,\n",
       "  &quot;extraClasses&quot;: &quot;fa-rotate-0&quot;,\n",
       "}\n",
       "            );\n",
       "            marker_48473df7034b88b41c2435deb77fd160.setIcon(icon_608a6dc790b61dd36cce9b917ddbd0b2);\n",
       "        \n",
       "    \n",
       "        var popup_02620e4c22bdf81547ffefa3c8b95818 = L.popup({\n",
       "  &quot;maxWidth&quot;: &quot;100%&quot;,\n",
       "});\n",
       "\n",
       "        \n",
       "            \n",
       "                var html_e0ee58dca967db73f71ce01cf26eba8b = $(`&lt;div id=&quot;html_e0ee58dca967db73f71ce01cf26eba8b&quot; style=&quot;width: 100.0%; height: 100.0%;&quot;&gt;(&quot;&lt;b style=&#x27;font-size: 18px; &#x27;&gt;Crystal&lt;/b&gt;&lt;br&gt;Direccion: Avenida 101 entre 18 y 20 centro cotorro&quot;, &quot;Especialidades: [&#x27;Mixta, criolla&#x27;]&quot;)&lt;/div&gt;`)[0];\n",
       "                popup_02620e4c22bdf81547ffefa3c8b95818.setContent(html_e0ee58dca967db73f71ce01cf26eba8b);\n",
       "            \n",
       "        \n",
       "\n",
       "        marker_48473df7034b88b41c2435deb77fd160.bindPopup(popup_02620e4c22bdf81547ffefa3c8b95818)\n",
       "        ;\n",
       "\n",
       "        \n",
       "    \n",
       "    \n",
       "            var marker_557cbcf52d190752dcee4c12daf01235 = L.marker(\n",
       "                [23.13672770195526, -82.39997277634649],\n",
       "                {\n",
       "}\n",
       "            ).addTo(map_7f5ed2f3d7f5669ce524652a5c024be3);\n",
       "        \n",
       "    \n",
       "            var icon_4ae0bb737b5bdf026b02a521fbb8259b = L.AwesomeMarkers.icon(\n",
       "                {\n",
       "  &quot;markerColor&quot;: &quot;red&quot;,\n",
       "  &quot;iconColor&quot;: &quot;white&quot;,\n",
       "  &quot;icon&quot;: &quot;cutlery&quot;,\n",
       "  &quot;prefix&quot;: &quot;fa&quot;,\n",
       "  &quot;extraClasses&quot;: &quot;fa-rotate-0&quot;,\n",
       "}\n",
       "            );\n",
       "            marker_557cbcf52d190752dcee4c12daf01235.setIcon(icon_4ae0bb737b5bdf026b02a521fbb8259b);\n",
       "        \n",
       "    \n",
       "        var popup_6cd637538f9a923bbefa27bb072a892c = L.popup({\n",
       "  &quot;maxWidth&quot;: &quot;100%&quot;,\n",
       "});\n",
       "\n",
       "        \n",
       "            \n",
       "                var html_2dbf5f2ec192374e39fd64c75e8d04aa = $(`&lt;div id=&quot;html_2dbf5f2ec192374e39fd64c75e8d04aa&quot; style=&quot;width: 100.0%; height: 100.0%;&quot;&gt;(&quot;&lt;b style=&#x27;font-size: 18px; &#x27;&gt;Decameron&lt;/b&gt;&lt;br&gt;Direccion: Calle LLnea entre Paseo y 2, Vedado&quot;, &quot;Especialidades: [&#x27;Comida caribeña&#x27;, &#x27;cubana&#x27;, &#x27;saludable&#x27;, &#x27;fusion&#x27;]&quot;)&lt;/div&gt;`)[0];\n",
       "                popup_6cd637538f9a923bbefa27bb072a892c.setContent(html_2dbf5f2ec192374e39fd64c75e8d04aa);\n",
       "            \n",
       "        \n",
       "\n",
       "        marker_557cbcf52d190752dcee4c12daf01235.bindPopup(popup_6cd637538f9a923bbefa27bb072a892c)\n",
       "        ;\n",
       "\n",
       "        \n",
       "    \n",
       "    \n",
       "            var marker_a2b8c6ba15a4ee61bbf1a117841eb509 = L.marker(\n",
       "                [23.139889002366708, -82.38110916178115],\n",
       "                {\n",
       "}\n",
       "            ).addTo(map_7f5ed2f3d7f5669ce524652a5c024be3);\n",
       "        \n",
       "    \n",
       "            var icon_8311527399fa1c154313f20f225debdb = L.AwesomeMarkers.icon(\n",
       "                {\n",
       "  &quot;markerColor&quot;: &quot;red&quot;,\n",
       "  &quot;iconColor&quot;: &quot;white&quot;,\n",
       "  &quot;icon&quot;: &quot;cutlery&quot;,\n",
       "  &quot;prefix&quot;: &quot;fa&quot;,\n",
       "  &quot;extraClasses&quot;: &quot;fa-rotate-0&quot;,\n",
       "}\n",
       "            );\n",
       "            marker_a2b8c6ba15a4ee61bbf1a117841eb509.setIcon(icon_8311527399fa1c154313f20f225debdb);\n",
       "        \n",
       "    \n",
       "        var popup_73fdd8e838175e72c5033f84b6194c1c = L.popup({\n",
       "  &quot;maxWidth&quot;: &quot;100%&quot;,\n",
       "});\n",
       "\n",
       "        \n",
       "            \n",
       "                var html_4be53aee24ed10ffab21adf26ab79da1 = $(`&lt;div id=&quot;html_4be53aee24ed10ffab21adf26ab79da1&quot; style=&quot;width: 100.0%; height: 100.0%;&quot;&gt;(&quot;&lt;b style=&#x27;font-size: 18px; &#x27;&gt;Distrito 25&lt;/b&gt;&lt;br&gt;Direccion: Calle 25 entre M y N, Vedado&quot;, &quot;Especialidades: [&#x27;Comida mexicana&#x27;]&quot;)&lt;/div&gt;`)[0];\n",
       "                popup_73fdd8e838175e72c5033f84b6194c1c.setContent(html_4be53aee24ed10ffab21adf26ab79da1);\n",
       "            \n",
       "        \n",
       "\n",
       "        marker_a2b8c6ba15a4ee61bbf1a117841eb509.bindPopup(popup_73fdd8e838175e72c5033f84b6194c1c)\n",
       "        ;\n",
       "\n",
       "        \n",
       "    \n",
       "    \n",
       "            var marker_810b2ff9f6a1de82a3ce5d34c5a80ce3 = L.marker(\n",
       "                [23.098641623513977, -82.36221985109562],\n",
       "                {\n",
       "}\n",
       "            ).addTo(map_7f5ed2f3d7f5669ce524652a5c024be3);\n",
       "        \n",
       "    \n",
       "            var icon_d659966b5db076bb6a4c23847ef9e40d = L.AwesomeMarkers.icon(\n",
       "                {\n",
       "  &quot;markerColor&quot;: &quot;red&quot;,\n",
       "  &quot;iconColor&quot;: &quot;white&quot;,\n",
       "  &quot;icon&quot;: &quot;cutlery&quot;,\n",
       "  &quot;prefix&quot;: &quot;fa&quot;,\n",
       "  &quot;extraClasses&quot;: &quot;fa-rotate-0&quot;,\n",
       "}\n",
       "            );\n",
       "            marker_810b2ff9f6a1de82a3ce5d34c5a80ce3.setIcon(icon_d659966b5db076bb6a4c23847ef9e40d);\n",
       "        \n",
       "    \n",
       "        var popup_eb89cb1fa9c0a64ce3b2ddc0ff0e1c48 = L.popup({\n",
       "  &quot;maxWidth&quot;: &quot;100%&quot;,\n",
       "});\n",
       "\n",
       "        \n",
       "            \n",
       "                var html_7a0ae860baa43fd678789c99fccbc48c = $(`&lt;div id=&quot;html_7a0ae860baa43fd678789c99fccbc48c&quot; style=&quot;width: 100.0%; height: 100.0%;&quot;&gt;(&quot;&lt;b style=&#x27;font-size: 18px; &#x27;&gt;Diverxo&lt;/b&gt;&lt;br&gt;Direccion: Calzada de 10 de octubre #904 entre Luz Oeste y Lacret&quot;, &quot;Especialidades: [&#x27;cubana&#x27;]&quot;)&lt;/div&gt;`)[0];\n",
       "                popup_eb89cb1fa9c0a64ce3b2ddc0ff0e1c48.setContent(html_7a0ae860baa43fd678789c99fccbc48c);\n",
       "            \n",
       "        \n",
       "\n",
       "        marker_810b2ff9f6a1de82a3ce5d34c5a80ce3.bindPopup(popup_eb89cb1fa9c0a64ce3b2ddc0ff0e1c48)\n",
       "        ;\n",
       "\n",
       "        \n",
       "    \n",
       "    \n",
       "            var marker_d00acf8ea200387a7309330619be2234 = L.marker(\n",
       "                [23.149840788441544, -82.3560208170218],\n",
       "                {\n",
       "}\n",
       "            ).addTo(map_7f5ed2f3d7f5669ce524652a5c024be3);\n",
       "        \n",
       "    \n",
       "            var icon_5088123cbbc0a054c5205e623034a52e = L.AwesomeMarkers.icon(\n",
       "                {\n",
       "  &quot;markerColor&quot;: &quot;red&quot;,\n",
       "  &quot;iconColor&quot;: &quot;white&quot;,\n",
       "  &quot;icon&quot;: &quot;cutlery&quot;,\n",
       "  &quot;prefix&quot;: &quot;fa&quot;,\n",
       "  &quot;extraClasses&quot;: &quot;fa-rotate-0&quot;,\n",
       "}\n",
       "            );\n",
       "            marker_d00acf8ea200387a7309330619be2234.setIcon(icon_5088123cbbc0a054c5205e623034a52e);\n",
       "        \n",
       "    \n",
       "        var popup_ab93cf35554a1fb6b60009d21e702d7f = L.popup({\n",
       "  &quot;maxWidth&quot;: &quot;100%&quot;,\n",
       "});\n",
       "\n",
       "        \n",
       "            \n",
       "                var html_9d91f55b85f254040fe371a88010eb6e = $(`&lt;div id=&quot;html_9d91f55b85f254040fe371a88010eb6e&quot; style=&quot;width: 100.0%; height: 100.0%;&quot;&gt;(&quot;&lt;b style=&#x27;font-size: 18px; &#x27;&gt;Los Doce Apostoles&lt;/b&gt;&lt;br&gt;Direccion: Complejo Morro Cabana,Via Monumental&quot;, &#x27;Especialidades: []&#x27;)&lt;/div&gt;`)[0];\n",
       "                popup_ab93cf35554a1fb6b60009d21e702d7f.setContent(html_9d91f55b85f254040fe371a88010eb6e);\n",
       "            \n",
       "        \n",
       "\n",
       "        marker_d00acf8ea200387a7309330619be2234.bindPopup(popup_ab93cf35554a1fb6b60009d21e702d7f)\n",
       "        ;\n",
       "\n",
       "        \n",
       "    \n",
       "    \n",
       "            var marker_b41797fa551ecb7bbaf683312c936a95 = L.marker(\n",
       "                [23.07542277636338, -82.3589195783884],\n",
       "                {\n",
       "}\n",
       "            ).addTo(map_7f5ed2f3d7f5669ce524652a5c024be3);\n",
       "        \n",
       "    \n",
       "            var icon_9f9fe2c8ab78f8b58f74a23184517dbd = L.AwesomeMarkers.icon(\n",
       "                {\n",
       "  &quot;markerColor&quot;: &quot;red&quot;,\n",
       "  &quot;iconColor&quot;: &quot;white&quot;,\n",
       "  &quot;icon&quot;: &quot;cutlery&quot;,\n",
       "  &quot;prefix&quot;: &quot;fa&quot;,\n",
       "  &quot;extraClasses&quot;: &quot;fa-rotate-0&quot;,\n",
       "}\n",
       "            );\n",
       "            marker_b41797fa551ecb7bbaf683312c936a95.setIcon(icon_9f9fe2c8ab78f8b58f74a23184517dbd);\n",
       "        \n",
       "    \n",
       "        var popup_45320ea2c5172f9649ef2f3cf4483566 = L.popup({\n",
       "  &quot;maxWidth&quot;: &quot;100%&quot;,\n",
       "});\n",
       "\n",
       "        \n",
       "            \n",
       "                var html_c67ea1faf356c4887f9fa7823b4c9023 = $(`&lt;div id=&quot;html_c67ea1faf356c4887f9fa7823b4c9023&quot; style=&quot;width: 100.0%; height: 100.0%;&quot;&gt;(&quot;&lt;b style=&#x27;font-size: 18px; &#x27;&gt;Don Burguer&lt;/b&gt;&lt;br&gt;Direccion: Calzada de 10 de Octubre, entre  Aranguren y Santa Isabel, La Palma&quot;, &quot;Especialidades: [&#x27;cubana&#x27;]&quot;)&lt;/div&gt;`)[0];\n",
       "                popup_45320ea2c5172f9649ef2f3cf4483566.setContent(html_c67ea1faf356c4887f9fa7823b4c9023);\n",
       "            \n",
       "        \n",
       "\n",
       "        marker_b41797fa551ecb7bbaf683312c936a95.bindPopup(popup_45320ea2c5172f9649ef2f3cf4483566)\n",
       "        ;\n",
       "\n",
       "        \n",
       "    \n",
       "    \n",
       "            var marker_1b842fd7b729b4c55f159ef997ee782c = L.marker(\n",
       "                [23.077891178709717, -82.31931897477418],\n",
       "                {\n",
       "}\n",
       "            ).addTo(map_7f5ed2f3d7f5669ce524652a5c024be3);\n",
       "        \n",
       "    \n",
       "            var icon_7c6c841e7aedbebfdd5f48965c5f892f = L.AwesomeMarkers.icon(\n",
       "                {\n",
       "  &quot;markerColor&quot;: &quot;red&quot;,\n",
       "  &quot;iconColor&quot;: &quot;white&quot;,\n",
       "  &quot;icon&quot;: &quot;cutlery&quot;,\n",
       "  &quot;prefix&quot;: &quot;fa&quot;,\n",
       "  &quot;extraClasses&quot;: &quot;fa-rotate-0&quot;,\n",
       "}\n",
       "            );\n",
       "            marker_1b842fd7b729b4c55f159ef997ee782c.setIcon(icon_7c6c841e7aedbebfdd5f48965c5f892f);\n",
       "        \n",
       "    \n",
       "        var popup_4882f1d8ee759c9149dbbf11f3a6dcb2 = L.popup({\n",
       "  &quot;maxWidth&quot;: &quot;100%&quot;,\n",
       "});\n",
       "\n",
       "        \n",
       "            \n",
       "                var html_5dac8ad082a1d2e8ca27a747dd427e77 = $(`&lt;div id=&quot;html_5dac8ad082a1d2e8ca27a747dd427e77&quot; style=&quot;width: 100.0%; height: 100.0%;&quot;&gt;(&quot;&lt;b style=&#x27;font-size: 18px; &#x27;&gt;Don Timbon&lt;/b&gt;&lt;br&gt;Direccion: cerca cjon. La Flora&quot;, &quot;Especialidades: [&#x27;italiana&#x27;]&quot;)&lt;/div&gt;`)[0];\n",
       "                popup_4882f1d8ee759c9149dbbf11f3a6dcb2.setContent(html_5dac8ad082a1d2e8ca27a747dd427e77);\n",
       "            \n",
       "        \n",
       "\n",
       "        marker_1b842fd7b729b4c55f159ef997ee782c.bindPopup(popup_4882f1d8ee759c9149dbbf11f3a6dcb2)\n",
       "        ;\n",
       "\n",
       "        \n",
       "    \n",
       "    \n",
       "            var marker_880819907e5388daefd7214ec22368c8 = L.marker(\n",
       "                [23.133178519943957, -82.3706256209112],\n",
       "                {\n",
       "}\n",
       "            ).addTo(map_7f5ed2f3d7f5669ce524652a5c024be3);\n",
       "        \n",
       "    \n",
       "            var icon_fe6013181741daf817a16fc70b762462 = L.AwesomeMarkers.icon(\n",
       "                {\n",
       "  &quot;markerColor&quot;: &quot;red&quot;,\n",
       "  &quot;iconColor&quot;: &quot;white&quot;,\n",
       "  &quot;icon&quot;: &quot;cutlery&quot;,\n",
       "  &quot;prefix&quot;: &quot;fa&quot;,\n",
       "  &quot;extraClasses&quot;: &quot;fa-rotate-0&quot;,\n",
       "}\n",
       "            );\n",
       "            marker_880819907e5388daefd7214ec22368c8.setIcon(icon_fe6013181741daf817a16fc70b762462);\n",
       "        \n",
       "    \n",
       "        var popup_e0fa70d5a52c3bcbbdfb9ea879ba96e1 = L.popup({\n",
       "  &quot;maxWidth&quot;: &quot;100%&quot;,\n",
       "});\n",
       "\n",
       "        \n",
       "            \n",
       "                var html_50c969d5ca7e01064e2f3a38e43e879e = $(`&lt;div id=&quot;html_50c969d5ca7e01064e2f3a38e43e879e&quot; style=&quot;width: 100.0%; height: 100.0%;&quot;&gt;(&quot;&lt;b style=&#x27;font-size: 18px; &#x27;&gt;Dona Alicia&lt;/b&gt;&lt;br&gt;Direccion:  Calle Reina esq, Padre Varela&quot;, &quot;Especialidades: [&#x27;Criolla&#x27;, &#x27;cubana&#x27;, &#x27;internacional&#x27;, &#x27;italiana&#x27;]&quot;)&lt;/div&gt;`)[0];\n",
       "                popup_e0fa70d5a52c3bcbbdfb9ea879ba96e1.setContent(html_50c969d5ca7e01064e2f3a38e43e879e);\n",
       "            \n",
       "        \n",
       "\n",
       "        marker_880819907e5388daefd7214ec22368c8.bindPopup(popup_e0fa70d5a52c3bcbbdfb9ea879ba96e1)\n",
       "        ;\n",
       "\n",
       "        \n",
       "    \n",
       "    \n",
       "            var marker_db49ac7953465fdedb48d41c4e359775 = L.marker(\n",
       "                [23.064390060079617, -82.37574330537674],\n",
       "                {\n",
       "}\n",
       "            ).addTo(map_7f5ed2f3d7f5669ce524652a5c024be3);\n",
       "        \n",
       "    \n",
       "            var icon_9cd9fb58f7d52cd5586b3bf409b7478e = L.AwesomeMarkers.icon(\n",
       "                {\n",
       "  &quot;markerColor&quot;: &quot;red&quot;,\n",
       "  &quot;iconColor&quot;: &quot;white&quot;,\n",
       "  &quot;icon&quot;: &quot;cutlery&quot;,\n",
       "  &quot;prefix&quot;: &quot;fa&quot;,\n",
       "  &quot;extraClasses&quot;: &quot;fa-rotate-0&quot;,\n",
       "}\n",
       "            );\n",
       "            marker_db49ac7953465fdedb48d41c4e359775.setIcon(icon_9cd9fb58f7d52cd5586b3bf409b7478e);\n",
       "        \n",
       "    \n",
       "        var popup_5dd1694df01d9eafe3dfb03e1c79a944 = L.popup({\n",
       "  &quot;maxWidth&quot;: &quot;100%&quot;,\n",
       "});\n",
       "\n",
       "        \n",
       "            \n",
       "                var html_cfbc695ae365d24eaf620a1eb60aab07 = $(`&lt;div id=&quot;html_cfbc695ae365d24eaf620a1eb60aab07&quot; style=&quot;width: 100.0%; height: 100.0%;&quot;&gt;(&quot;&lt;b style=&#x27;font-size: 18px; &#x27;&gt;Dona Almira&lt;/b&gt;&lt;br&gt;Direccion: Calle Finlay No.979 % Avenida de Los Pinos y Fernandez de Castro&quot;, &quot;Especialidades: [&#x27;cubana&#x27;]&quot;)&lt;/div&gt;`)[0];\n",
       "                popup_5dd1694df01d9eafe3dfb03e1c79a944.setContent(html_cfbc695ae365d24eaf620a1eb60aab07);\n",
       "            \n",
       "        \n",
       "\n",
       "        marker_db49ac7953465fdedb48d41c4e359775.bindPopup(popup_5dd1694df01d9eafe3dfb03e1c79a944)\n",
       "        ;\n",
       "\n",
       "        \n",
       "    \n",
       "    \n",
       "            var marker_24c33b37e636e232cab8de4e5739d41c = L.marker(\n",
       "                [23.13720238720189, -82.37935390623745],\n",
       "                {\n",
       "}\n",
       "            ).addTo(map_7f5ed2f3d7f5669ce524652a5c024be3);\n",
       "        \n",
       "    \n",
       "            var icon_8fed873aad2490cab5342eff5c196b9b = L.AwesomeMarkers.icon(\n",
       "                {\n",
       "  &quot;markerColor&quot;: &quot;red&quot;,\n",
       "  &quot;iconColor&quot;: &quot;white&quot;,\n",
       "  &quot;icon&quot;: &quot;cutlery&quot;,\n",
       "  &quot;prefix&quot;: &quot;fa&quot;,\n",
       "  &quot;extraClasses&quot;: &quot;fa-rotate-0&quot;,\n",
       "}\n",
       "            );\n",
       "            marker_24c33b37e636e232cab8de4e5739d41c.setIcon(icon_8fed873aad2490cab5342eff5c196b9b);\n",
       "        \n",
       "    \n",
       "        var popup_95f54d38e900c1f6ce33e01e1cefc6b4 = L.popup({\n",
       "  &quot;maxWidth&quot;: &quot;100%&quot;,\n",
       "});\n",
       "\n",
       "        \n",
       "            \n",
       "                var html_6324601e5e6aa223e6de30e173ca7481 = $(`&lt;div id=&quot;html_6324601e5e6aa223e6de30e173ca7481&quot; style=&quot;width: 100.0%; height: 100.0%;&quot;&gt;(&quot;&lt;b style=&#x27;font-size: 18px; &#x27;&gt;Doña Lis Pizza&lt;/b&gt;&lt;br&gt;Direccion: 1169 A Neptuno&quot;, &quot;Especialidades: [&#x27;Pizzas&#x27;]&quot;)&lt;/div&gt;`)[0];\n",
       "                popup_95f54d38e900c1f6ce33e01e1cefc6b4.setContent(html_6324601e5e6aa223e6de30e173ca7481);\n",
       "            \n",
       "        \n",
       "\n",
       "        marker_24c33b37e636e232cab8de4e5739d41c.bindPopup(popup_95f54d38e900c1f6ce33e01e1cefc6b4)\n",
       "        ;\n",
       "\n",
       "        \n",
       "    \n",
       "    \n",
       "            var marker_24a02cf590affb65bf6e70285ca1ca12 = L.marker(\n",
       "                [23.1026716054629, -82.34026837449797],\n",
       "                {\n",
       "}\n",
       "            ).addTo(map_7f5ed2f3d7f5669ce524652a5c024be3);\n",
       "        \n",
       "    \n",
       "            var icon_29db002261f5e8583e22503c254234cd = L.AwesomeMarkers.icon(\n",
       "                {\n",
       "  &quot;markerColor&quot;: &quot;red&quot;,\n",
       "  &quot;iconColor&quot;: &quot;white&quot;,\n",
       "  &quot;icon&quot;: &quot;cutlery&quot;,\n",
       "  &quot;prefix&quot;: &quot;fa&quot;,\n",
       "  &quot;extraClasses&quot;: &quot;fa-rotate-0&quot;,\n",
       "}\n",
       "            );\n",
       "            marker_24a02cf590affb65bf6e70285ca1ca12.setIcon(icon_29db002261f5e8583e22503c254234cd);\n",
       "        \n",
       "    \n",
       "        var popup_89c64a3951df04fccc2d3d102315bdf4 = L.popup({\n",
       "  &quot;maxWidth&quot;: &quot;100%&quot;,\n",
       "});\n",
       "\n",
       "        \n",
       "            \n",
       "                var html_60e7d9d89a7f9ffc797bda81eeb377e6 = $(`&lt;div id=&quot;html_60e7d9d89a7f9ffc797bda81eeb377e6&quot; style=&quot;width: 100.0%; height: 100.0%;&quot;&gt;(&quot;&lt;b style=&#x27;font-size: 18px; &#x27;&gt;Don Balbino s&lt;/b&gt;&lt;br&gt;Direccion: Calzada San Miguel del Padrón entre 8va y B&quot;, &quot;Especialidades: [&#x27;criolla&#x27;, &#x27;tapas&#x27;]&quot;)&lt;/div&gt;`)[0];\n",
       "                popup_89c64a3951df04fccc2d3d102315bdf4.setContent(html_60e7d9d89a7f9ffc797bda81eeb377e6);\n",
       "            \n",
       "        \n",
       "\n",
       "        marker_24a02cf590affb65bf6e70285ca1ca12.bindPopup(popup_89c64a3951df04fccc2d3d102315bdf4)\n",
       "        ;\n",
       "\n",
       "        \n",
       "    \n",
       "    \n",
       "            var marker_34ed5451d5799aad6b464c41ee936246 = L.marker(\n",
       "                [23.101766474956417, -82.37161130333365],\n",
       "                {\n",
       "}\n",
       "            ).addTo(map_7f5ed2f3d7f5669ce524652a5c024be3);\n",
       "        \n",
       "    \n",
       "            var icon_9044397e097aa5c28b606dc7d3abc80e = L.AwesomeMarkers.icon(\n",
       "                {\n",
       "  &quot;markerColor&quot;: &quot;red&quot;,\n",
       "  &quot;iconColor&quot;: &quot;white&quot;,\n",
       "  &quot;icon&quot;: &quot;cutlery&quot;,\n",
       "  &quot;prefix&quot;: &quot;fa&quot;,\n",
       "  &quot;extraClasses&quot;: &quot;fa-rotate-0&quot;,\n",
       "}\n",
       "            );\n",
       "            marker_34ed5451d5799aad6b464c41ee936246.setIcon(icon_9044397e097aa5c28b606dc7d3abc80e);\n",
       "        \n",
       "    \n",
       "        var popup_e07ccfd2448fb84227f38eda115cd888 = L.popup({\n",
       "  &quot;maxWidth&quot;: &quot;100%&quot;,\n",
       "});\n",
       "\n",
       "        \n",
       "            \n",
       "                var html_d6ea428ff666db611e478d90b88904a2 = $(`&lt;div id=&quot;html_d6ea428ff666db611e478d90b88904a2&quot; style=&quot;width: 100.0%; height: 100.0%;&quot;&gt;(&quot;&lt;b style=&#x27;font-size: 18px; &#x27;&gt;Don Cuenca&lt;/b&gt;&lt;br&gt;Direccion: General Lee entre Destrampre y Figueroa, Santo Suarez&quot;, &quot;Especialidades: [&#x27;internacional&#x27;, &#x27;criolla&#x27;]&quot;)&lt;/div&gt;`)[0];\n",
       "                popup_e07ccfd2448fb84227f38eda115cd888.setContent(html_d6ea428ff666db611e478d90b88904a2);\n",
       "            \n",
       "        \n",
       "\n",
       "        marker_34ed5451d5799aad6b464c41ee936246.bindPopup(popup_e07ccfd2448fb84227f38eda115cd888)\n",
       "        ;\n",
       "\n",
       "        \n",
       "    \n",
       "    \n",
       "            var marker_ffd812d53d9041b38ceb5b8d6967fa48 = L.marker(\n",
       "                [23.133855871057047, -82.37691017469287],\n",
       "                {\n",
       "}\n",
       "            ).addTo(map_7f5ed2f3d7f5669ce524652a5c024be3);\n",
       "        \n",
       "    \n",
       "            var icon_6d22df8b7ecad7fd5a3e5547060393e8 = L.AwesomeMarkers.icon(\n",
       "                {\n",
       "  &quot;markerColor&quot;: &quot;red&quot;,\n",
       "  &quot;iconColor&quot;: &quot;white&quot;,\n",
       "  &quot;icon&quot;: &quot;cutlery&quot;,\n",
       "  &quot;prefix&quot;: &quot;fa&quot;,\n",
       "  &quot;extraClasses&quot;: &quot;fa-rotate-0&quot;,\n",
       "}\n",
       "            );\n",
       "            marker_ffd812d53d9041b38ceb5b8d6967fa48.setIcon(icon_6d22df8b7ecad7fd5a3e5547060393e8);\n",
       "        \n",
       "    \n",
       "        var popup_ac978f3729e5fdc10f0d687ed0923dbb = L.popup({\n",
       "  &quot;maxWidth&quot;: &quot;100%&quot;,\n",
       "});\n",
       "\n",
       "        \n",
       "            \n",
       "                var html_e648ff70a8f50b052055102fce4bf8ba = $(`&lt;div id=&quot;html_e648ff70a8f50b052055102fce4bf8ba&quot; style=&quot;width: 100.0%; height: 100.0%;&quot;&gt;(&quot;&lt;b style=&#x27;font-size: 18px; &#x27;&gt;nan&lt;/b&gt;&lt;br&gt;Direccion: Zanja entre San Francisco y Espada&quot;, &quot;Especialidades: [&#x27;italiana&#x27;]&quot;)&lt;/div&gt;`)[0];\n",
       "                popup_ac978f3729e5fdc10f0d687ed0923dbb.setContent(html_e648ff70a8f50b052055102fce4bf8ba);\n",
       "            \n",
       "        \n",
       "\n",
       "        marker_ffd812d53d9041b38ceb5b8d6967fa48.bindPopup(popup_ac978f3729e5fdc10f0d687ed0923dbb)\n",
       "        ;\n",
       "\n",
       "        \n",
       "    \n",
       "    \n",
       "            var marker_3d012bc826867acbab0662eae0403890 = L.marker(\n",
       "                [23.086352376882374, -82.36493068982392],\n",
       "                {\n",
       "}\n",
       "            ).addTo(map_7f5ed2f3d7f5669ce524652a5c024be3);\n",
       "        \n",
       "    \n",
       "            var icon_9c4998b2786abc70d239379ef2a8f18b = L.AwesomeMarkers.icon(\n",
       "                {\n",
       "  &quot;markerColor&quot;: &quot;red&quot;,\n",
       "  &quot;iconColor&quot;: &quot;white&quot;,\n",
       "  &quot;icon&quot;: &quot;cutlery&quot;,\n",
       "  &quot;prefix&quot;: &quot;fa&quot;,\n",
       "  &quot;extraClasses&quot;: &quot;fa-rotate-0&quot;,\n",
       "}\n",
       "            );\n",
       "            marker_3d012bc826867acbab0662eae0403890.setIcon(icon_9c4998b2786abc70d239379ef2a8f18b);\n",
       "        \n",
       "    \n",
       "        var popup_d6061df10f59a926dda357b88b0278f2 = L.popup({\n",
       "  &quot;maxWidth&quot;: &quot;100%&quot;,\n",
       "});\n",
       "\n",
       "        \n",
       "            \n",
       "                var html_4d848ea9d9cf8bfac960be321721dd39 = $(`&lt;div id=&quot;html_4d848ea9d9cf8bfac960be321721dd39&quot; style=&quot;width: 100.0%; height: 100.0%;&quot;&gt;(&quot;&lt;b style=&#x27;font-size: 18px; &#x27;&gt;D&#x27;Mitu&lt;/b&gt;&lt;br&gt;Direccion: Calle 1ra #64 Altos entre Gertrudis y Lagueruela, La Víbora&quot;, &#x27;Especialidades: nan&#x27;)&lt;/div&gt;`)[0];\n",
       "                popup_d6061df10f59a926dda357b88b0278f2.setContent(html_4d848ea9d9cf8bfac960be321721dd39);\n",
       "            \n",
       "        \n",
       "\n",
       "        marker_3d012bc826867acbab0662eae0403890.bindPopup(popup_d6061df10f59a926dda357b88b0278f2)\n",
       "        ;\n",
       "\n",
       "        \n",
       "    \n",
       "    \n",
       "            var marker_43a9f6aac156a8455d98b1291dbbe238 = L.marker(\n",
       "                [23.043056190451246, -82.26299304585932],\n",
       "                {\n",
       "}\n",
       "            ).addTo(map_7f5ed2f3d7f5669ce524652a5c024be3);\n",
       "        \n",
       "    \n",
       "            var icon_0624c98f84120b69e0dbd706b1ef6d94 = L.AwesomeMarkers.icon(\n",
       "                {\n",
       "  &quot;markerColor&quot;: &quot;red&quot;,\n",
       "  &quot;iconColor&quot;: &quot;white&quot;,\n",
       "  &quot;icon&quot;: &quot;cutlery&quot;,\n",
       "  &quot;prefix&quot;: &quot;fa&quot;,\n",
       "  &quot;extraClasses&quot;: &quot;fa-rotate-0&quot;,\n",
       "}\n",
       "            );\n",
       "            marker_43a9f6aac156a8455d98b1291dbbe238.setIcon(icon_0624c98f84120b69e0dbd706b1ef6d94);\n",
       "        \n",
       "    \n",
       "        var popup_057e3a1501deb99c04f8a44eca0b5e55 = L.popup({\n",
       "  &quot;maxWidth&quot;: &quot;100%&quot;,\n",
       "});\n",
       "\n",
       "        \n",
       "            \n",
       "                var html_8b06ffbd7a702f238fd2c811b7c72b18 = $(`&lt;div id=&quot;html_8b06ffbd7a702f238fd2c811b7c72b18&quot; style=&quot;width: 100.0%; height: 100.0%;&quot;&gt;(&quot;&lt;b style=&#x27;font-size: 18px; &#x27;&gt;El Bache&lt;/b&gt;&lt;br&gt;Direccion: Calle 30 entre 95 y 97,Las Brisas&quot;, &quot;Especialidades: [&#x27;italiana&#x27;]&quot;)&lt;/div&gt;`)[0];\n",
       "                popup_057e3a1501deb99c04f8a44eca0b5e55.setContent(html_8b06ffbd7a702f238fd2c811b7c72b18);\n",
       "            \n",
       "        \n",
       "\n",
       "        marker_43a9f6aac156a8455d98b1291dbbe238.bindPopup(popup_057e3a1501deb99c04f8a44eca0b5e55)\n",
       "        ;\n",
       "\n",
       "        \n",
       "    \n",
       "    \n",
       "            var marker_9e9b6619dfb69254bd7621c8fb5031c6 = L.marker(\n",
       "                [23.13606132355121, -82.390171562352],\n",
       "                {\n",
       "}\n",
       "            ).addTo(map_7f5ed2f3d7f5669ce524652a5c024be3);\n",
       "        \n",
       "    \n",
       "            var icon_b1e9f2a176957e8983597424f205f109 = L.AwesomeMarkers.icon(\n",
       "                {\n",
       "  &quot;markerColor&quot;: &quot;red&quot;,\n",
       "  &quot;iconColor&quot;: &quot;white&quot;,\n",
       "  &quot;icon&quot;: &quot;cutlery&quot;,\n",
       "  &quot;prefix&quot;: &quot;fa&quot;,\n",
       "  &quot;extraClasses&quot;: &quot;fa-rotate-0&quot;,\n",
       "}\n",
       "            );\n",
       "            marker_9e9b6619dfb69254bd7621c8fb5031c6.setIcon(icon_b1e9f2a176957e8983597424f205f109);\n",
       "        \n",
       "    \n",
       "        var popup_d4170244a665b3885df5672ad69d491b = L.popup({\n",
       "  &quot;maxWidth&quot;: &quot;100%&quot;,\n",
       "});\n",
       "\n",
       "        \n",
       "            \n",
       "                var html_bbac2b2c03cad439cb456eb30b3ac1dc = $(`&lt;div id=&quot;html_bbac2b2c03cad439cb456eb30b3ac1dc&quot; style=&quot;width: 100.0%; height: 100.0%;&quot;&gt;(&quot;&lt;b style=&#x27;font-size: 18px; &#x27;&gt;El Balcón de Bruno y Pilar&lt;/b&gt;&lt;br&gt;Direccion: Calle 21 entre E y F, Vedado&quot;, &quot;Especialidades: [&#x27;comida cubana&#x27;, &#x27;latina&#x27;, &#x27;caribeña&#x27;]&quot;)&lt;/div&gt;`)[0];\n",
       "                popup_d4170244a665b3885df5672ad69d491b.setContent(html_bbac2b2c03cad439cb456eb30b3ac1dc);\n",
       "            \n",
       "        \n",
       "\n",
       "        marker_9e9b6619dfb69254bd7621c8fb5031c6.bindPopup(popup_d4170244a665b3885df5672ad69d491b)\n",
       "        ;\n",
       "\n",
       "        \n",
       "    \n",
       "    \n",
       "            var marker_d715d20adc24ccadc9aed46f158517e1 = L.marker(\n",
       "                [23.13092126125738, -82.4081035552695],\n",
       "                {\n",
       "}\n",
       "            ).addTo(map_7f5ed2f3d7f5669ce524652a5c024be3);\n",
       "        \n",
       "    \n",
       "            var icon_5a5362344531df1ade794d80b5717ed2 = L.AwesomeMarkers.icon(\n",
       "                {\n",
       "  &quot;markerColor&quot;: &quot;red&quot;,\n",
       "  &quot;iconColor&quot;: &quot;white&quot;,\n",
       "  &quot;icon&quot;: &quot;cutlery&quot;,\n",
       "  &quot;prefix&quot;: &quot;fa&quot;,\n",
       "  &quot;extraClasses&quot;: &quot;fa-rotate-0&quot;,\n",
       "}\n",
       "            );\n",
       "            marker_d715d20adc24ccadc9aed46f158517e1.setIcon(icon_5a5362344531df1ade794d80b5717ed2);\n",
       "        \n",
       "    \n",
       "        var popup_a07a769c4173a45f657833b96c112ca9 = L.popup({\n",
       "  &quot;maxWidth&quot;: &quot;100%&quot;,\n",
       "});\n",
       "\n",
       "        \n",
       "            \n",
       "                var html_2e3598e2c17cbded0ab69e9b64d67a64 = $(`&lt;div id=&quot;html_2e3598e2c17cbded0ab69e9b64d67a64&quot; style=&quot;width: 100.0%; height: 100.0%;&quot;&gt;(&quot;&lt;b style=&#x27;font-size: 18px; &#x27;&gt;El bejuco&lt;/b&gt;&lt;br&gt;Direccion: Calle Línea 1206 e/ 18 y 20, Vedado&quot;, &quot;Especialidades: [&#x27;Entrantes&#x27;]&quot;)&lt;/div&gt;`)[0];\n",
       "                popup_a07a769c4173a45f657833b96c112ca9.setContent(html_2e3598e2c17cbded0ab69e9b64d67a64);\n",
       "            \n",
       "        \n",
       "\n",
       "        marker_d715d20adc24ccadc9aed46f158517e1.bindPopup(popup_a07a769c4173a45f657833b96c112ca9)\n",
       "        ;\n",
       "\n",
       "        \n",
       "    \n",
       "    \n",
       "            var marker_408d62e88bf3e5eaf707b0d312d37ce2 = L.marker(\n",
       "                [23.138186063729933, -82.37857239003395],\n",
       "                {\n",
       "}\n",
       "            ).addTo(map_7f5ed2f3d7f5669ce524652a5c024be3);\n",
       "        \n",
       "    \n",
       "            var icon_52104da4af6edcddfa1781e14c9ebe5f = L.AwesomeMarkers.icon(\n",
       "                {\n",
       "  &quot;markerColor&quot;: &quot;red&quot;,\n",
       "  &quot;iconColor&quot;: &quot;white&quot;,\n",
       "  &quot;icon&quot;: &quot;cutlery&quot;,\n",
       "  &quot;prefix&quot;: &quot;fa&quot;,\n",
       "  &quot;extraClasses&quot;: &quot;fa-rotate-0&quot;,\n",
       "}\n",
       "            );\n",
       "            marker_408d62e88bf3e5eaf707b0d312d37ce2.setIcon(icon_52104da4af6edcddfa1781e14c9ebe5f);\n",
       "        \n",
       "    \n",
       "        var popup_66e3dc87d2562dcee3dd3ed4baf1f229 = L.popup({\n",
       "  &quot;maxWidth&quot;: &quot;100%&quot;,\n",
       "});\n",
       "\n",
       "        \n",
       "            \n",
       "                var html_c6f493c1fd28bb59e0f0df9eff9b6027 = $(`&lt;div id=&quot;html_c6f493c1fd28bb59e0f0df9eff9b6027&quot; style=&quot;width: 100.0%; height: 100.0%;&quot;&gt;(&quot;&lt;b style=&#x27;font-size: 18px; &#x27;&gt;El Biki&lt;/b&gt;&lt;br&gt;Direccion: Infanta entre San Lazaro y Concordia&quot;, &quot;Especialidades: [&#x27;Cubana&#x27;, &#x27;Mixta&#x27;]&quot;)&lt;/div&gt;`)[0];\n",
       "                popup_66e3dc87d2562dcee3dd3ed4baf1f229.setContent(html_c6f493c1fd28bb59e0f0df9eff9b6027);\n",
       "            \n",
       "        \n",
       "\n",
       "        marker_408d62e88bf3e5eaf707b0d312d37ce2.bindPopup(popup_66e3dc87d2562dcee3dd3ed4baf1f229)\n",
       "        ;\n",
       "\n",
       "        \n",
       "    \n",
       "    \n",
       "            var marker_fd20f02e68d612d3fa365c4b53505571 = L.marker(\n",
       "                [23.12735682638094, -82.40996375436582],\n",
       "                {\n",
       "}\n",
       "            ).addTo(map_7f5ed2f3d7f5669ce524652a5c024be3);\n",
       "        \n",
       "    \n",
       "            var icon_10bdc806a7b1d214b56817fcb6352a43 = L.AwesomeMarkers.icon(\n",
       "                {\n",
       "  &quot;markerColor&quot;: &quot;red&quot;,\n",
       "  &quot;iconColor&quot;: &quot;white&quot;,\n",
       "  &quot;icon&quot;: &quot;cutlery&quot;,\n",
       "  &quot;prefix&quot;: &quot;fa&quot;,\n",
       "  &quot;extraClasses&quot;: &quot;fa-rotate-0&quot;,\n",
       "}\n",
       "            );\n",
       "            marker_fd20f02e68d612d3fa365c4b53505571.setIcon(icon_10bdc806a7b1d214b56817fcb6352a43);\n",
       "        \n",
       "    \n",
       "        var popup_527ce7c20e3f4c93d4b3340cacd25e6f = L.popup({\n",
       "  &quot;maxWidth&quot;: &quot;100%&quot;,\n",
       "});\n",
       "\n",
       "        \n",
       "            \n",
       "                var html_edbad5f10880d2ee3a187afb06ac5408 = $(`&lt;div id=&quot;html_edbad5f10880d2ee3a187afb06ac5408&quot; style=&quot;width: 100.0%; height: 100.0%;&quot;&gt;(&quot;&lt;b style=&#x27;font-size: 18px; &#x27;&gt;El cocinero&lt;/b&gt;&lt;br&gt;Direccion: Calle 26 #57 entre 11 y 13, Vedado&quot;, &quot;Especialidades: [&#x27;comida caribeña&#x27;, &#x27;latina&#x27;, &#x27;cubana&#x27;]&quot;)&lt;/div&gt;`)[0];\n",
       "                popup_527ce7c20e3f4c93d4b3340cacd25e6f.setContent(html_edbad5f10880d2ee3a187afb06ac5408);\n",
       "            \n",
       "        \n",
       "\n",
       "        marker_fd20f02e68d612d3fa365c4b53505571.bindPopup(popup_527ce7c20e3f4c93d4b3340cacd25e6f)\n",
       "        ;\n",
       "\n",
       "        \n",
       "    \n",
       "    \n",
       "            var marker_8f3a7d3eb25b299bd2e4d93aaa68cb2d = L.marker(\n",
       "                [23.044405916184044, -82.24840719111886],\n",
       "                {\n",
       "}\n",
       "            ).addTo(map_7f5ed2f3d7f5669ce524652a5c024be3);\n",
       "        \n",
       "    \n",
       "            var icon_75eee9471f1416d3d4eb57d59a122658 = L.AwesomeMarkers.icon(\n",
       "                {\n",
       "  &quot;markerColor&quot;: &quot;red&quot;,\n",
       "  &quot;iconColor&quot;: &quot;white&quot;,\n",
       "  &quot;icon&quot;: &quot;cutlery&quot;,\n",
       "  &quot;prefix&quot;: &quot;fa&quot;,\n",
       "  &quot;extraClasses&quot;: &quot;fa-rotate-0&quot;,\n",
       "}\n",
       "            );\n",
       "            marker_8f3a7d3eb25b299bd2e4d93aaa68cb2d.setIcon(icon_75eee9471f1416d3d4eb57d59a122658);\n",
       "        \n",
       "    \n",
       "        var popup_73ba480ff3b815f3c683b7f65b30619e = L.popup({\n",
       "  &quot;maxWidth&quot;: &quot;100%&quot;,\n",
       "});\n",
       "\n",
       "        \n",
       "            \n",
       "                var html_8d8e3175e25388d7f91b4a590416e1d6 = $(`&lt;div id=&quot;html_8d8e3175e25388d7f91b4a590416e1d6&quot; style=&quot;width: 100.0%; height: 100.0%;&quot;&gt;(&quot;&lt;b style=&#x27;font-size: 18px; &#x27;&gt;El Desafio&lt;/b&gt;&lt;br&gt;Direccion: calle 58 número 6712 % 67 y 69&quot;, &quot;Especialidades: [&#x27;cubana&#x27;]&quot;)&lt;/div&gt;`)[0];\n",
       "                popup_73ba480ff3b815f3c683b7f65b30619e.setContent(html_8d8e3175e25388d7f91b4a590416e1d6);\n",
       "            \n",
       "        \n",
       "\n",
       "        marker_8f3a7d3eb25b299bd2e4d93aaa68cb2d.bindPopup(popup_73ba480ff3b815f3c683b7f65b30619e)\n",
       "        ;\n",
       "\n",
       "        \n",
       "    \n",
       "    \n",
       "            var marker_c0dc52ed23f0a88c41bf71f4f7734b17 = L.marker(\n",
       "                [23.124197583024838, -82.40414784293249],\n",
       "                {\n",
       "}\n",
       "            ).addTo(map_7f5ed2f3d7f5669ce524652a5c024be3);\n",
       "        \n",
       "    \n",
       "            var icon_cd795773e268304863b9ed87a455fc04 = L.AwesomeMarkers.icon(\n",
       "                {\n",
       "  &quot;markerColor&quot;: &quot;red&quot;,\n",
       "  &quot;iconColor&quot;: &quot;white&quot;,\n",
       "  &quot;icon&quot;: &quot;cutlery&quot;,\n",
       "  &quot;prefix&quot;: &quot;fa&quot;,\n",
       "  &quot;extraClasses&quot;: &quot;fa-rotate-0&quot;,\n",
       "}\n",
       "            );\n",
       "            marker_c0dc52ed23f0a88c41bf71f4f7734b17.setIcon(icon_cd795773e268304863b9ed87a455fc04);\n",
       "        \n",
       "    \n",
       "        var popup_c761dc1f6acb0ee8466a847183ba4302 = L.popup({\n",
       "  &quot;maxWidth&quot;: &quot;100%&quot;,\n",
       "});\n",
       "\n",
       "        \n",
       "            \n",
       "                var html_874fe144c0182cf514d467838921d128 = $(`&lt;div id=&quot;html_874fe144c0182cf514d467838921d128&quot; style=&quot;width: 100.0%; height: 100.0%;&quot;&gt;(&quot;&lt;b style=&#x27;font-size: 18px; &#x27;&gt;El Farallon&lt;/b&gt;&lt;br&gt;Direccion: Calle 22 #361, esq. 23, Vedado&quot;, &quot;Especialidades: [&#x27;comida cubana&#x27;, &#x27;caribeña&#x27;, &#x27;latina&#x27;, &#x27;italiana&#x27;]&quot;)&lt;/div&gt;`)[0];\n",
       "                popup_c761dc1f6acb0ee8466a847183ba4302.setContent(html_874fe144c0182cf514d467838921d128);\n",
       "            \n",
       "        \n",
       "\n",
       "        marker_c0dc52ed23f0a88c41bf71f4f7734b17.bindPopup(popup_c761dc1f6acb0ee8466a847183ba4302)\n",
       "        ;\n",
       "\n",
       "        \n",
       "    \n",
       "    \n",
       "            var marker_63bcd1d6d2fe22e7867c66eabce42dd0 = L.marker(\n",
       "                [23.13993930039699, -82.39045883912888],\n",
       "                {\n",
       "}\n",
       "            ).addTo(map_7f5ed2f3d7f5669ce524652a5c024be3);\n",
       "        \n",
       "    \n",
       "            var icon_8973554fdff0948bb987fc9e01612ef5 = L.AwesomeMarkers.icon(\n",
       "                {\n",
       "  &quot;markerColor&quot;: &quot;red&quot;,\n",
       "  &quot;iconColor&quot;: &quot;white&quot;,\n",
       "  &quot;icon&quot;: &quot;cutlery&quot;,\n",
       "  &quot;prefix&quot;: &quot;fa&quot;,\n",
       "  &quot;extraClasses&quot;: &quot;fa-rotate-0&quot;,\n",
       "}\n",
       "            );\n",
       "            marker_63bcd1d6d2fe22e7867c66eabce42dd0.setIcon(icon_8973554fdff0948bb987fc9e01612ef5);\n",
       "        \n",
       "    \n",
       "        var popup_312071d1f0ee810227b80d02805d6111 = L.popup({\n",
       "  &quot;maxWidth&quot;: &quot;100%&quot;,\n",
       "});\n",
       "\n",
       "        \n",
       "            \n",
       "                var html_91267e91f9c1e1156ea7d5d815f3a50b = $(`&lt;div id=&quot;html_91267e91f9c1e1156ea7d5d815f3a50b&quot; style=&quot;width: 100.0%; height: 100.0%;&quot;&gt;(&quot;&lt;b style=&#x27;font-size: 18px; &#x27;&gt;El Idilio&lt;/b&gt;&lt;br&gt;Direccion: Calle G esquina 15, Vedado&quot;, &quot;Especialidades: [&#x27;comida cubana&#x27;, &#x27;mariscos&#x27;]&quot;)&lt;/div&gt;`)[0];\n",
       "                popup_312071d1f0ee810227b80d02805d6111.setContent(html_91267e91f9c1e1156ea7d5d815f3a50b);\n",
       "            \n",
       "        \n",
       "\n",
       "        marker_63bcd1d6d2fe22e7867c66eabce42dd0.bindPopup(popup_312071d1f0ee810227b80d02805d6111)\n",
       "        ;\n",
       "\n",
       "        \n",
       "    \n",
       "    \n",
       "            var marker_bab3c9565cca9433e35134e4ad00e27b = L.marker(\n",
       "                [23.13577030941659, -82.35714206462553],\n",
       "                {\n",
       "}\n",
       "            ).addTo(map_7f5ed2f3d7f5669ce524652a5c024be3);\n",
       "        \n",
       "    \n",
       "            var icon_c47102f0e4d5b70dd09b41c24495c5b6 = L.AwesomeMarkers.icon(\n",
       "                {\n",
       "  &quot;markerColor&quot;: &quot;red&quot;,\n",
       "  &quot;iconColor&quot;: &quot;white&quot;,\n",
       "  &quot;icon&quot;: &quot;cutlery&quot;,\n",
       "  &quot;prefix&quot;: &quot;fa&quot;,\n",
       "  &quot;extraClasses&quot;: &quot;fa-rotate-0&quot;,\n",
       "}\n",
       "            );\n",
       "            marker_bab3c9565cca9433e35134e4ad00e27b.setIcon(icon_c47102f0e4d5b70dd09b41c24495c5b6);\n",
       "        \n",
       "    \n",
       "        var popup_490044e34ba44f4e7261920220e94901 = L.popup({\n",
       "  &quot;maxWidth&quot;: &quot;100%&quot;,\n",
       "});\n",
       "\n",
       "        \n",
       "            \n",
       "                var html_3e404f7abb391db0c42c309b08764c61 = $(`&lt;div id=&quot;html_3e404f7abb391db0c42c309b08764c61&quot; style=&quot;width: 100.0%; height: 100.0%;&quot;&gt;(&quot;&lt;b style=&#x27;font-size: 18px; &#x27;&gt;El_Kilometro_Zero&lt;/b&gt;&lt;br&gt;Direccion: Monserrate #437 Esq Teniente Rey&quot;, &quot;Especialidades: [&#x27;criolla&#x27;]&quot;)&lt;/div&gt;`)[0];\n",
       "                popup_490044e34ba44f4e7261920220e94901.setContent(html_3e404f7abb391db0c42c309b08764c61);\n",
       "            \n",
       "        \n",
       "\n",
       "        marker_bab3c9565cca9433e35134e4ad00e27b.bindPopup(popup_490044e34ba44f4e7261920220e94901)\n",
       "        ;\n",
       "\n",
       "        \n",
       "    \n",
       "    \n",
       "            var marker_76900d878fa6afe9c3fccf410b0a4c2e = L.marker(\n",
       "                [23.130866904291352, -82.30698134006616],\n",
       "                {\n",
       "}\n",
       "            ).addTo(map_7f5ed2f3d7f5669ce524652a5c024be3);\n",
       "        \n",
       "    \n",
       "            var icon_b29cbeefc2246c690d121fcf0fe63c91 = L.AwesomeMarkers.icon(\n",
       "                {\n",
       "  &quot;markerColor&quot;: &quot;red&quot;,\n",
       "  &quot;iconColor&quot;: &quot;white&quot;,\n",
       "  &quot;icon&quot;: &quot;cutlery&quot;,\n",
       "  &quot;prefix&quot;: &quot;fa&quot;,\n",
       "  &quot;extraClasses&quot;: &quot;fa-rotate-0&quot;,\n",
       "}\n",
       "            );\n",
       "            marker_76900d878fa6afe9c3fccf410b0a4c2e.setIcon(icon_b29cbeefc2246c690d121fcf0fe63c91);\n",
       "        \n",
       "    \n",
       "        var popup_e9fb13d4a78549ecbbc9ad9f10e908be = L.popup({\n",
       "  &quot;maxWidth&quot;: &quot;100%&quot;,\n",
       "});\n",
       "\n",
       "        \n",
       "            \n",
       "                var html_3d69255db42855408ff72275ec23fd0b = $(`&lt;div id=&quot;html_3d69255db42855408ff72275ec23fd0b&quot; style=&quot;width: 100.0%; height: 100.0%;&quot;&gt;(&quot;&lt;b style=&#x27;font-size: 18px; &#x27;&gt;El Mexicano&lt;/b&gt;&lt;br&gt;Direccion: Avenida Quinta&quot;, &quot;Especialidades: [&#x27;pizzas&#x27;, &#x27;pastas&#x27;]&quot;)&lt;/div&gt;`)[0];\n",
       "                popup_e9fb13d4a78549ecbbc9ad9f10e908be.setContent(html_3d69255db42855408ff72275ec23fd0b);\n",
       "            \n",
       "        \n",
       "\n",
       "        marker_76900d878fa6afe9c3fccf410b0a4c2e.bindPopup(popup_e9fb13d4a78549ecbbc9ad9f10e908be)\n",
       "        ;\n",
       "\n",
       "        \n",
       "    \n",
       "    \n",
       "            var marker_960e543bef4bb326d6fccaf76c7473b0 = L.marker(\n",
       "                [23.090152188614443, -82.37829626100522],\n",
       "                {\n",
       "}\n",
       "            ).addTo(map_7f5ed2f3d7f5669ce524652a5c024be3);\n",
       "        \n",
       "    \n",
       "            var icon_5f5aacc15c47659b616a73833f0741c0 = L.AwesomeMarkers.icon(\n",
       "                {\n",
       "  &quot;markerColor&quot;: &quot;red&quot;,\n",
       "  &quot;iconColor&quot;: &quot;white&quot;,\n",
       "  &quot;icon&quot;: &quot;cutlery&quot;,\n",
       "  &quot;prefix&quot;: &quot;fa&quot;,\n",
       "  &quot;extraClasses&quot;: &quot;fa-rotate-0&quot;,\n",
       "}\n",
       "            );\n",
       "            marker_960e543bef4bb326d6fccaf76c7473b0.setIcon(icon_5f5aacc15c47659b616a73833f0741c0);\n",
       "        \n",
       "    \n",
       "        var popup_ce29423b9aab186874d307e886876000 = L.popup({\n",
       "  &quot;maxWidth&quot;: &quot;100%&quot;,\n",
       "});\n",
       "\n",
       "        \n",
       "            \n",
       "                var html_48123aeae158d786da0fa94cb2997b13 = $(`&lt;div id=&quot;html_48123aeae158d786da0fa94cb2997b13&quot; style=&quot;width: 100.0%; height: 100.0%;&quot;&gt;(&quot;&lt;b style=&#x27;font-size: 18px; &#x27;&gt;El Monakeno&lt;/b&gt;&lt;br&gt;Direccion: Avenida Mayia Rodriguez entre Acosta y O&#x27;Farril&quot;, &quot;Especialidades: [&#x27;internacional&#x27;]&quot;)&lt;/div&gt;`)[0];\n",
       "                popup_ce29423b9aab186874d307e886876000.setContent(html_48123aeae158d786da0fa94cb2997b13);\n",
       "            \n",
       "        \n",
       "\n",
       "        marker_960e543bef4bb326d6fccaf76c7473b0.bindPopup(popup_ce29423b9aab186874d307e886876000)\n",
       "        ;\n",
       "\n",
       "        \n",
       "    \n",
       "    \n",
       "            var marker_76df7916c738669331af6946ed598fd2 = L.marker(\n",
       "                [23.08621062775345, -82.46251984696866],\n",
       "                {\n",
       "}\n",
       "            ).addTo(map_7f5ed2f3d7f5669ce524652a5c024be3);\n",
       "        \n",
       "    \n",
       "            var icon_4d6f55f1cf3f9c2cb47fcb8ef6935ea6 = L.AwesomeMarkers.icon(\n",
       "                {\n",
       "  &quot;markerColor&quot;: &quot;red&quot;,\n",
       "  &quot;iconColor&quot;: &quot;white&quot;,\n",
       "  &quot;icon&quot;: &quot;cutlery&quot;,\n",
       "  &quot;prefix&quot;: &quot;fa&quot;,\n",
       "  &quot;extraClasses&quot;: &quot;fa-rotate-0&quot;,\n",
       "}\n",
       "            );\n",
       "            marker_76df7916c738669331af6946ed598fd2.setIcon(icon_4d6f55f1cf3f9c2cb47fcb8ef6935ea6);\n",
       "        \n",
       "    \n",
       "        var popup_632367bdff8e0cd91bae609c5852cc6f = L.popup({\n",
       "  &quot;maxWidth&quot;: &quot;100%&quot;,\n",
       "});\n",
       "\n",
       "        \n",
       "            \n",
       "                var html_d690c0998c451ee8288ca06ccb49e686 = $(`&lt;div id=&quot;html_d690c0998c451ee8288ca06ccb49e686&quot; style=&quot;width: 100.0%; height: 100.0%;&quot;&gt;(&quot;&lt;b style=&#x27;font-size: 18px; &#x27;&gt;El Palenque&lt;/b&gt;&lt;br&gt;Direccion: Calle 17 esquina a190&quot;, &quot;Especialidades: [&#x27;caribena&#x27;, &#x27;latina&#x27;, &#x27;internacional&#x27;, &#x27;cubana&#x27;]&quot;)&lt;/div&gt;`)[0];\n",
       "                popup_632367bdff8e0cd91bae609c5852cc6f.setContent(html_d690c0998c451ee8288ca06ccb49e686);\n",
       "            \n",
       "        \n",
       "\n",
       "        marker_76df7916c738669331af6946ed598fd2.bindPopup(popup_632367bdff8e0cd91bae609c5852cc6f)\n",
       "        ;\n",
       "\n",
       "        \n",
       "    \n",
       "    \n",
       "            var marker_f683c71298495fa29d1c21a731995bdd = L.marker(\n",
       "                [23.101843184677417, -82.34140821329014],\n",
       "                {\n",
       "}\n",
       "            ).addTo(map_7f5ed2f3d7f5669ce524652a5c024be3);\n",
       "        \n",
       "    \n",
       "            var icon_cf34e62dc69519f4e9ef1c9c85d5c235 = L.AwesomeMarkers.icon(\n",
       "                {\n",
       "  &quot;markerColor&quot;: &quot;red&quot;,\n",
       "  &quot;iconColor&quot;: &quot;white&quot;,\n",
       "  &quot;icon&quot;: &quot;cutlery&quot;,\n",
       "  &quot;prefix&quot;: &quot;fa&quot;,\n",
       "  &quot;extraClasses&quot;: &quot;fa-rotate-0&quot;,\n",
       "}\n",
       "            );\n",
       "            marker_f683c71298495fa29d1c21a731995bdd.setIcon(icon_cf34e62dc69519f4e9ef1c9c85d5c235);\n",
       "        \n",
       "    \n",
       "        var popup_7be2ac17d2728f323cbe0f5576b54412 = L.popup({\n",
       "  &quot;maxWidth&quot;: &quot;100%&quot;,\n",
       "});\n",
       "\n",
       "        \n",
       "            \n",
       "                var html_1a3f66bf4082d593ec2af34fae8e6e92 = $(`&lt;div id=&quot;html_1a3f66bf4082d593ec2af34fae8e6e92&quot; style=&quot;width: 100.0%; height: 100.0%;&quot;&gt;(&quot;&lt;b style=&#x27;font-size: 18px; &#x27;&gt;El Pecado&lt;/b&gt;&lt;br&gt;Direccion: Matos frente al parque de los Chivos&quot;, &quot;Especialidades: [&#x27;mixta&#x27;, &#x27;cuabana&#x27;]&quot;)&lt;/div&gt;`)[0];\n",
       "                popup_7be2ac17d2728f323cbe0f5576b54412.setContent(html_1a3f66bf4082d593ec2af34fae8e6e92);\n",
       "            \n",
       "        \n",
       "\n",
       "        marker_f683c71298495fa29d1c21a731995bdd.bindPopup(popup_7be2ac17d2728f323cbe0f5576b54412)\n",
       "        ;\n",
       "\n",
       "        \n",
       "    \n",
       "    \n",
       "            var marker_6c51d0d12984b3bd08c66a71a26c6224 = L.marker(\n",
       "                [23.05809340873481, -82.22647413651553],\n",
       "                {\n",
       "}\n",
       "            ).addTo(map_7f5ed2f3d7f5669ce524652a5c024be3);\n",
       "        \n",
       "    \n",
       "            var icon_ce75c7629a292019d036ca7a1d6aedea = L.AwesomeMarkers.icon(\n",
       "                {\n",
       "  &quot;markerColor&quot;: &quot;red&quot;,\n",
       "  &quot;iconColor&quot;: &quot;white&quot;,\n",
       "  &quot;icon&quot;: &quot;cutlery&quot;,\n",
       "  &quot;prefix&quot;: &quot;fa&quot;,\n",
       "  &quot;extraClasses&quot;: &quot;fa-rotate-0&quot;,\n",
       "}\n",
       "            );\n",
       "            marker_6c51d0d12984b3bd08c66a71a26c6224.setIcon(icon_ce75c7629a292019d036ca7a1d6aedea);\n",
       "        \n",
       "    \n",
       "        var popup_5da0754c544d913e967f5a72ffc83b3d = L.popup({\n",
       "  &quot;maxWidth&quot;: &quot;100%&quot;,\n",
       "});\n",
       "\n",
       "        \n",
       "            \n",
       "                var html_335a1170d4462db91239ac047d2aed91 = $(`&lt;div id=&quot;html_335a1170d4462db91239ac047d2aed91&quot; style=&quot;width: 100.0%; height: 100.0%;&quot;&gt;(&quot;&lt;b style=&#x27;font-size: 18px; &#x27;&gt;El Pellizco&lt;/b&gt;&lt;br&gt;Direccion: Desconocida&quot;, &quot;Especialidades: [&#x27;criolla&#x27;]&quot;)&lt;/div&gt;`)[0];\n",
       "                popup_5da0754c544d913e967f5a72ffc83b3d.setContent(html_335a1170d4462db91239ac047d2aed91);\n",
       "            \n",
       "        \n",
       "\n",
       "        marker_6c51d0d12984b3bd08c66a71a26c6224.bindPopup(popup_5da0754c544d913e967f5a72ffc83b3d)\n",
       "        ;\n",
       "\n",
       "        \n",
       "    \n",
       "    \n",
       "            var marker_2f2e0f3e2212d23883403ee6f024a692 = L.marker(\n",
       "                [23.16199568264451, -82.29712225037608],\n",
       "                {\n",
       "}\n",
       "            ).addTo(map_7f5ed2f3d7f5669ce524652a5c024be3);\n",
       "        \n",
       "    \n",
       "            var icon_3907d6b6399978334ca8c9845052a288 = L.AwesomeMarkers.icon(\n",
       "                {\n",
       "  &quot;markerColor&quot;: &quot;red&quot;,\n",
       "  &quot;iconColor&quot;: &quot;white&quot;,\n",
       "  &quot;icon&quot;: &quot;cutlery&quot;,\n",
       "  &quot;prefix&quot;: &quot;fa&quot;,\n",
       "  &quot;extraClasses&quot;: &quot;fa-rotate-0&quot;,\n",
       "}\n",
       "            );\n",
       "            marker_2f2e0f3e2212d23883403ee6f024a692.setIcon(icon_3907d6b6399978334ca8c9845052a288);\n",
       "        \n",
       "    \n",
       "        var popup_637eadd8cbfa057d68dd8dbda2d3af2d = L.popup({\n",
       "  &quot;maxWidth&quot;: &quot;100%&quot;,\n",
       "});\n",
       "\n",
       "        \n",
       "            \n",
       "                var html_ad3f778e8f835091f98ca71381cb283b = $(`&lt;div id=&quot;html_ad3f778e8f835091f98ca71381cb283b&quot; style=&quot;width: 100.0%; height: 100.0%;&quot;&gt;(&quot;&lt;b style=&#x27;font-size: 18px; &#x27;&gt;El Ajiaco&lt;/b&gt;&lt;br&gt;Direccion: Esquina de calle Los Pinos y Cuba, Cojimar&quot;, &quot;Especialidades: [&#x27;Criolla&#x27;]&quot;)&lt;/div&gt;`)[0];\n",
       "                popup_637eadd8cbfa057d68dd8dbda2d3af2d.setContent(html_ad3f778e8f835091f98ca71381cb283b);\n",
       "            \n",
       "        \n",
       "\n",
       "        marker_2f2e0f3e2212d23883403ee6f024a692.bindPopup(popup_637eadd8cbfa057d68dd8dbda2d3af2d)\n",
       "        ;\n",
       "\n",
       "        \n",
       "    \n",
       "    \n",
       "            var marker_ccb4182e7ddb02ad82857808f1413acc = L.marker(\n",
       "                [23.105902940435307, -82.38894680785327],\n",
       "                {\n",
       "}\n",
       "            ).addTo(map_7f5ed2f3d7f5669ce524652a5c024be3);\n",
       "        \n",
       "    \n",
       "            var icon_073ff5d528629d724b5d194fdc6f2a03 = L.AwesomeMarkers.icon(\n",
       "                {\n",
       "  &quot;markerColor&quot;: &quot;red&quot;,\n",
       "  &quot;iconColor&quot;: &quot;white&quot;,\n",
       "  &quot;icon&quot;: &quot;cutlery&quot;,\n",
       "  &quot;prefix&quot;: &quot;fa&quot;,\n",
       "  &quot;extraClasses&quot;: &quot;fa-rotate-0&quot;,\n",
       "}\n",
       "            );\n",
       "            marker_ccb4182e7ddb02ad82857808f1413acc.setIcon(icon_073ff5d528629d724b5d194fdc6f2a03);\n",
       "        \n",
       "    \n",
       "        var popup_57b9cdc72cf5341daf27104b968e10b4 = L.popup({\n",
       "  &quot;maxWidth&quot;: &quot;100%&quot;,\n",
       "});\n",
       "\n",
       "        \n",
       "            \n",
       "                var html_d4f7db4a07f09c2d11efccf5e735d74f = $(`&lt;div id=&quot;html_d4f7db4a07f09c2d11efccf5e735d74f&quot; style=&quot;width: 100.0%; height: 100.0%;&quot;&gt;(&quot;&lt;b style=&#x27;font-size: 18px; &#x27;&gt;El Batazo&lt;/b&gt;&lt;br&gt;Direccion: Primelles entre Santa Teresa y Daolz&quot;, &quot;Especialidades: [&#x27;italiana&#x27;]&quot;)&lt;/div&gt;`)[0];\n",
       "                popup_57b9cdc72cf5341daf27104b968e10b4.setContent(html_d4f7db4a07f09c2d11efccf5e735d74f);\n",
       "            \n",
       "        \n",
       "\n",
       "        marker_ccb4182e7ddb02ad82857808f1413acc.bindPopup(popup_57b9cdc72cf5341daf27104b968e10b4)\n",
       "        ;\n",
       "\n",
       "        \n",
       "    \n",
       "    \n",
       "            var marker_00145789dd24d44ce16587e3b30cdead = L.marker(\n",
       "                [23.14135090318694, -82.37416801831066],\n",
       "                {\n",
       "}\n",
       "            ).addTo(map_7f5ed2f3d7f5669ce524652a5c024be3);\n",
       "        \n",
       "    \n",
       "            var icon_a70fad7f34f9375ae7b0091da6540eba = L.AwesomeMarkers.icon(\n",
       "                {\n",
       "  &quot;markerColor&quot;: &quot;red&quot;,\n",
       "  &quot;iconColor&quot;: &quot;white&quot;,\n",
       "  &quot;icon&quot;: &quot;cutlery&quot;,\n",
       "  &quot;prefix&quot;: &quot;fa&quot;,\n",
       "  &quot;extraClasses&quot;: &quot;fa-rotate-0&quot;,\n",
       "}\n",
       "            );\n",
       "            marker_00145789dd24d44ce16587e3b30cdead.setIcon(icon_a70fad7f34f9375ae7b0091da6540eba);\n",
       "        \n",
       "    \n",
       "        var popup_09cfda3a1ef674e20f5c77af1611c99d = L.popup({\n",
       "  &quot;maxWidth&quot;: &quot;100%&quot;,\n",
       "});\n",
       "\n",
       "        \n",
       "            \n",
       "                var html_21c626165217f562d318c5192fb28575 = $(`&lt;div id=&quot;html_21c626165217f562d318c5192fb28575&quot; style=&quot;width: 100.0%; height: 100.0%;&quot;&gt;(&quot;&lt;b style=&#x27;font-size: 18px; &#x27;&gt;El Bleko&lt;/b&gt;&lt;br&gt;Direccion: Vapor y Hornos, 63 e Marina, La Habana&quot;, &quot;Especialidades: [&#x27;caribeña&#x27;, &#x27;italiana&#x27;, &#x27;criolla&#x27;]&quot;)&lt;/div&gt;`)[0];\n",
       "                popup_09cfda3a1ef674e20f5c77af1611c99d.setContent(html_21c626165217f562d318c5192fb28575);\n",
       "            \n",
       "        \n",
       "\n",
       "        marker_00145789dd24d44ce16587e3b30cdead.bindPopup(popup_09cfda3a1ef674e20f5c77af1611c99d)\n",
       "        ;\n",
       "\n",
       "        \n",
       "    \n",
       "    \n",
       "            var marker_945b46983d753d1d944f7d28c2ab865a = L.marker(\n",
       "                [23.136615265811344, -82.3550049035281],\n",
       "                {\n",
       "}\n",
       "            ).addTo(map_7f5ed2f3d7f5669ce524652a5c024be3);\n",
       "        \n",
       "    \n",
       "            var icon_9f8d6d9b3f1f7ddb368b300fbfb48108 = L.AwesomeMarkers.icon(\n",
       "                {\n",
       "  &quot;markerColor&quot;: &quot;red&quot;,\n",
       "  &quot;iconColor&quot;: &quot;white&quot;,\n",
       "  &quot;icon&quot;: &quot;cutlery&quot;,\n",
       "  &quot;prefix&quot;: &quot;fa&quot;,\n",
       "  &quot;extraClasses&quot;: &quot;fa-rotate-0&quot;,\n",
       "}\n",
       "            );\n",
       "            marker_945b46983d753d1d944f7d28c2ab865a.setIcon(icon_9f8d6d9b3f1f7ddb368b300fbfb48108);\n",
       "        \n",
       "    \n",
       "        var popup_3ab13a60a07e5ca5f8bbd1af239bbe6f = L.popup({\n",
       "  &quot;maxWidth&quot;: &quot;100%&quot;,\n",
       "});\n",
       "\n",
       "        \n",
       "            \n",
       "                var html_bce62d80192b942e4ef33ef2f0cf5281 = $(`&lt;div id=&quot;html_bce62d80192b942e4ef33ef2f0cf5281&quot; style=&quot;width: 100.0%; height: 100.0%;&quot;&gt;(&quot;&lt;b style=&#x27;font-size: 18px; &#x27;&gt;El Cafe&lt;/b&gt;&lt;br&gt;Direccion: #358, Calle La Amargura&quot;, &quot;Especialidades: [&#x27;Comida mixta&#x27;]&quot;)&lt;/div&gt;`)[0];\n",
       "                popup_3ab13a60a07e5ca5f8bbd1af239bbe6f.setContent(html_bce62d80192b942e4ef33ef2f0cf5281);\n",
       "            \n",
       "        \n",
       "\n",
       "        marker_945b46983d753d1d944f7d28c2ab865a.bindPopup(popup_3ab13a60a07e5ca5f8bbd1af239bbe6f)\n",
       "        ;\n",
       "\n",
       "        \n",
       "    \n",
       "    \n",
       "            var marker_8ba0e13d19890914ff0e7caf4d3479b8 = L.marker(\n",
       "                [23.15787610279017, -82.27621448261955],\n",
       "                {\n",
       "}\n",
       "            ).addTo(map_7f5ed2f3d7f5669ce524652a5c024be3);\n",
       "        \n",
       "    \n",
       "            var icon_e914987bac69bcc915ef3d4b1ba56a5e = L.AwesomeMarkers.icon(\n",
       "                {\n",
       "  &quot;markerColor&quot;: &quot;red&quot;,\n",
       "  &quot;iconColor&quot;: &quot;white&quot;,\n",
       "  &quot;icon&quot;: &quot;cutlery&quot;,\n",
       "  &quot;prefix&quot;: &quot;fa&quot;,\n",
       "  &quot;extraClasses&quot;: &quot;fa-rotate-0&quot;,\n",
       "}\n",
       "            );\n",
       "            marker_8ba0e13d19890914ff0e7caf4d3479b8.setIcon(icon_e914987bac69bcc915ef3d4b1ba56a5e);\n",
       "        \n",
       "    \n",
       "        var popup_74cc751361536748950c88eb1569ee7b = L.popup({\n",
       "  &quot;maxWidth&quot;: &quot;100%&quot;,\n",
       "});\n",
       "\n",
       "        \n",
       "            \n",
       "                var html_10bf1b591f7c5a3b012788e59b975888 = $(`&lt;div id=&quot;html_10bf1b591f7c5a3b012788e59b975888&quot; style=&quot;width: 100.0%; height: 100.0%;&quot;&gt;(&quot;&lt;b style=&#x27;font-size: 18px; &#x27;&gt;El Chanchullero&lt;/b&gt;&lt;br&gt;Direccion: #162D entre Calle 5G y Calle 162, zona 6, Alamar&quot;, &quot;Especialidades: [&#x27;Comida criolla&#x27;]&quot;)&lt;/div&gt;`)[0];\n",
       "                popup_74cc751361536748950c88eb1569ee7b.setContent(html_10bf1b591f7c5a3b012788e59b975888);\n",
       "            \n",
       "        \n",
       "\n",
       "        marker_8ba0e13d19890914ff0e7caf4d3479b8.bindPopup(popup_74cc751361536748950c88eb1569ee7b)\n",
       "        ;\n",
       "\n",
       "        \n",
       "    \n",
       "    \n",
       "            var marker_ee22b35272fbd611e3a711e2e8be7c59 = L.marker(\n",
       "                [23.047476858961144, -82.25535277368648],\n",
       "                {\n",
       "}\n",
       "            ).addTo(map_7f5ed2f3d7f5669ce524652a5c024be3);\n",
       "        \n",
       "    \n",
       "            var icon_8b88050a77ac838dbfeae75af6230766 = L.AwesomeMarkers.icon(\n",
       "                {\n",
       "  &quot;markerColor&quot;: &quot;red&quot;,\n",
       "  &quot;iconColor&quot;: &quot;white&quot;,\n",
       "  &quot;icon&quot;: &quot;cutlery&quot;,\n",
       "  &quot;prefix&quot;: &quot;fa&quot;,\n",
       "  &quot;extraClasses&quot;: &quot;fa-rotate-0&quot;,\n",
       "}\n",
       "            );\n",
       "            marker_ee22b35272fbd611e3a711e2e8be7c59.setIcon(icon_8b88050a77ac838dbfeae75af6230766);\n",
       "        \n",
       "    \n",
       "        var popup_260e2ce54aab3702a0b47d07b760b572 = L.popup({\n",
       "  &quot;maxWidth&quot;: &quot;100%&quot;,\n",
       "});\n",
       "\n",
       "        \n",
       "            \n",
       "                var html_5a239b4daf3617f9c614327ff06e3bd1 = $(`&lt;div id=&quot;html_5a239b4daf3617f9c614327ff06e3bd1&quot; style=&quot;width: 100.0%; height: 100.0%;&quot;&gt;(&quot;&lt;b style=&#x27;font-size: 18px; &#x27;&gt;El Cocal&lt;/b&gt;&lt;br&gt;Direccion: Lindero No 426A entre 38a y 44 roto modelo, Loteria&quot;, &quot;Especialidades: [&#x27;cubana&#x27;]&quot;)&lt;/div&gt;`)[0];\n",
       "                popup_260e2ce54aab3702a0b47d07b760b572.setContent(html_5a239b4daf3617f9c614327ff06e3bd1);\n",
       "            \n",
       "        \n",
       "\n",
       "        marker_ee22b35272fbd611e3a711e2e8be7c59.bindPopup(popup_260e2ce54aab3702a0b47d07b760b572)\n",
       "        ;\n",
       "\n",
       "        \n",
       "    \n",
       "    \n",
       "            var marker_357c1ab26203ef1d1bc86a0876199cf7 = L.marker(\n",
       "                [23.126407014136845, -82.30453202678505],\n",
       "                {\n",
       "}\n",
       "            ).addTo(map_7f5ed2f3d7f5669ce524652a5c024be3);\n",
       "        \n",
       "    \n",
       "            var icon_2c77c357baa6de2c87bd3e8d2ac0cca2 = L.AwesomeMarkers.icon(\n",
       "                {\n",
       "  &quot;markerColor&quot;: &quot;red&quot;,\n",
       "  &quot;iconColor&quot;: &quot;white&quot;,\n",
       "  &quot;icon&quot;: &quot;cutlery&quot;,\n",
       "  &quot;prefix&quot;: &quot;fa&quot;,\n",
       "  &quot;extraClasses&quot;: &quot;fa-rotate-0&quot;,\n",
       "}\n",
       "            );\n",
       "            marker_357c1ab26203ef1d1bc86a0876199cf7.setIcon(icon_2c77c357baa6de2c87bd3e8d2ac0cca2);\n",
       "        \n",
       "    \n",
       "        var popup_43ea9900a62cdefdf748bc5c9a1f1d9c = L.popup({\n",
       "  &quot;maxWidth&quot;: &quot;100%&quot;,\n",
       "});\n",
       "\n",
       "        \n",
       "            \n",
       "                var html_d0043241aed0355a2d8fdcb003e1df4a = $(`&lt;div id=&quot;html_d0043241aed0355a2d8fdcb003e1df4a&quot; style=&quot;width: 100.0%; height: 100.0%;&quot;&gt;(&quot;&lt;b style=&#x27;font-size: 18px; &#x27;&gt;El Faro&lt;/b&gt;&lt;br&gt;Direccion: Maximo Gomez y Pepe Antonio&quot;, &quot;Especialidades: [&#x27;Criolla&#x27;, &#x27;Pizzas&#x27;]&quot;)&lt;/div&gt;`)[0];\n",
       "                popup_43ea9900a62cdefdf748bc5c9a1f1d9c.setContent(html_d0043241aed0355a2d8fdcb003e1df4a);\n",
       "            \n",
       "        \n",
       "\n",
       "        marker_357c1ab26203ef1d1bc86a0876199cf7.bindPopup(popup_43ea9900a62cdefdf748bc5c9a1f1d9c)\n",
       "        ;\n",
       "\n",
       "        \n",
       "    \n",
       "    \n",
       "            var marker_1cf2d446c9d6523e9b3950aedcb2a869 = L.marker(\n",
       "                [23.124602415605764, -82.31935775223077],\n",
       "                {\n",
       "}\n",
       "            ).addTo(map_7f5ed2f3d7f5669ce524652a5c024be3);\n",
       "        \n",
       "    \n",
       "            var icon_2b6d1a2709a2b5deab69472f89ee0fe0 = L.AwesomeMarkers.icon(\n",
       "                {\n",
       "  &quot;markerColor&quot;: &quot;red&quot;,\n",
       "  &quot;iconColor&quot;: &quot;white&quot;,\n",
       "  &quot;icon&quot;: &quot;cutlery&quot;,\n",
       "  &quot;prefix&quot;: &quot;fa&quot;,\n",
       "  &quot;extraClasses&quot;: &quot;fa-rotate-0&quot;,\n",
       "}\n",
       "            );\n",
       "            marker_1cf2d446c9d6523e9b3950aedcb2a869.setIcon(icon_2b6d1a2709a2b5deab69472f89ee0fe0);\n",
       "        \n",
       "    \n",
       "        var popup_68f88d9a5b447e0e7e078ae65c5e0094 = L.popup({\n",
       "  &quot;maxWidth&quot;: &quot;100%&quot;,\n",
       "});\n",
       "\n",
       "        \n",
       "            \n",
       "                var html_fafdb587389f157d10279d53e846b8e1 = $(`&lt;div id=&quot;html_fafdb587389f157d10279d53e846b8e1&quot; style=&quot;width: 100.0%; height: 100.0%;&quot;&gt;(&quot;&lt;b style=&#x27;font-size: 18px; &#x27;&gt;El Pavo&lt;/b&gt;&lt;br&gt;Direccion: Esquina San Luis y Via Blanca&quot;, &quot;Especialidades: [&#x27;criolla&#x27;, &#x27;internacional&#x27;, &#x27;italiana&#x27;]&quot;)&lt;/div&gt;`)[0];\n",
       "                popup_68f88d9a5b447e0e7e078ae65c5e0094.setContent(html_fafdb587389f157d10279d53e846b8e1);\n",
       "            \n",
       "        \n",
       "\n",
       "        marker_1cf2d446c9d6523e9b3950aedcb2a869.bindPopup(popup_68f88d9a5b447e0e7e078ae65c5e0094)\n",
       "        ;\n",
       "\n",
       "        \n",
       "    \n",
       "    \n",
       "            var marker_a1cf20cdf2552543106cf9c515fbe700 = L.marker(\n",
       "                [23.110676821769864, -82.39737767449778],\n",
       "                {\n",
       "}\n",
       "            ).addTo(map_7f5ed2f3d7f5669ce524652a5c024be3);\n",
       "        \n",
       "    \n",
       "            var icon_0a410aa456d6d2ae8897c9f511427e45 = L.AwesomeMarkers.icon(\n",
       "                {\n",
       "  &quot;markerColor&quot;: &quot;red&quot;,\n",
       "  &quot;iconColor&quot;: &quot;white&quot;,\n",
       "  &quot;icon&quot;: &quot;cutlery&quot;,\n",
       "  &quot;prefix&quot;: &quot;fa&quot;,\n",
       "  &quot;extraClasses&quot;: &quot;fa-rotate-0&quot;,\n",
       "}\n",
       "            );\n",
       "            marker_a1cf20cdf2552543106cf9c515fbe700.setIcon(icon_0a410aa456d6d2ae8897c9f511427e45);\n",
       "        \n",
       "    \n",
       "        var popup_16ed41b551dc2eeeaed6913ff2eddc80 = L.popup({\n",
       "  &quot;maxWidth&quot;: &quot;100%&quot;,\n",
       "});\n",
       "\n",
       "        \n",
       "            \n",
       "                var html_32d2361e094fdb435841a673a9bfce67 = $(`&lt;div id=&quot;html_32d2361e094fdb435841a673a9bfce67&quot; style=&quot;width: 100.0%; height: 100.0%;&quot;&gt;(&quot;&lt;b style=&#x27;font-size: 18px; &#x27;&gt;El Pelicano&lt;/b&gt;&lt;br&gt;Direccion: &quot;, &quot;Especialidades: [&#x27;cubana&#x27;]&quot;)&lt;/div&gt;`)[0];\n",
       "                popup_16ed41b551dc2eeeaed6913ff2eddc80.setContent(html_32d2361e094fdb435841a673a9bfce67);\n",
       "            \n",
       "        \n",
       "\n",
       "        marker_a1cf20cdf2552543106cf9c515fbe700.bindPopup(popup_16ed41b551dc2eeeaed6913ff2eddc80)\n",
       "        ;\n",
       "\n",
       "        \n",
       "    \n",
       "    \n",
       "            var marker_cafd215890c37f2ac499c854d04ef4ab = L.marker(\n",
       "                [23.133855118338467, -82.36151465263812],\n",
       "                {\n",
       "}\n",
       "            ).addTo(map_7f5ed2f3d7f5669ce524652a5c024be3);\n",
       "        \n",
       "    \n",
       "            var icon_ab5e75135dabcee7e289def595c1970d = L.AwesomeMarkers.icon(\n",
       "                {\n",
       "  &quot;markerColor&quot;: &quot;red&quot;,\n",
       "  &quot;iconColor&quot;: &quot;white&quot;,\n",
       "  &quot;icon&quot;: &quot;cutlery&quot;,\n",
       "  &quot;prefix&quot;: &quot;fa&quot;,\n",
       "  &quot;extraClasses&quot;: &quot;fa-rotate-0&quot;,\n",
       "}\n",
       "            );\n",
       "            marker_cafd215890c37f2ac499c854d04ef4ab.setIcon(icon_ab5e75135dabcee7e289def595c1970d);\n",
       "        \n",
       "    \n",
       "        var popup_abef68337f2355e61570d8dc25802190 = L.popup({\n",
       "  &quot;maxWidth&quot;: &quot;100%&quot;,\n",
       "});\n",
       "\n",
       "        \n",
       "            \n",
       "                var html_038f17bf74840cd4f6356d4502f2807a = $(`&lt;div id=&quot;html_038f17bf74840cd4f6356d4502f2807a&quot; style=&quot;width: 100.0%; height: 100.0%;&quot;&gt;(&quot;&lt;b style=&#x27;font-size: 18px; &#x27;&gt;El portico&lt;/b&gt;&lt;br&gt;Direccion: Dragones entre Aguila y C.Amistad&quot;, &quot;Especialidades: [&#x27;cubana&#x27;]&quot;)&lt;/div&gt;`)[0];\n",
       "                popup_abef68337f2355e61570d8dc25802190.setContent(html_038f17bf74840cd4f6356d4502f2807a);\n",
       "            \n",
       "        \n",
       "\n",
       "        marker_cafd215890c37f2ac499c854d04ef4ab.bindPopup(popup_abef68337f2355e61570d8dc25802190)\n",
       "        ;\n",
       "\n",
       "        \n",
       "    \n",
       "    \n",
       "            var marker_ab524d6a6d05ee82722d7cbc14d0c300 = L.marker(\n",
       "                [22.974102520824335, -82.39241663601986],\n",
       "                {\n",
       "}\n",
       "            ).addTo(map_7f5ed2f3d7f5669ce524652a5c024be3);\n",
       "        \n",
       "    \n",
       "            var icon_7e1ec7d31e87a5cc410d42a83631c722 = L.AwesomeMarkers.icon(\n",
       "                {\n",
       "  &quot;markerColor&quot;: &quot;red&quot;,\n",
       "  &quot;iconColor&quot;: &quot;white&quot;,\n",
       "  &quot;icon&quot;: &quot;cutlery&quot;,\n",
       "  &quot;prefix&quot;: &quot;fa&quot;,\n",
       "  &quot;extraClasses&quot;: &quot;fa-rotate-0&quot;,\n",
       "}\n",
       "            );\n",
       "            marker_ab524d6a6d05ee82722d7cbc14d0c300.setIcon(icon_7e1ec7d31e87a5cc410d42a83631c722);\n",
       "        \n",
       "    \n",
       "        var popup_be026a1911ff99a927465a55c103df16 = L.popup({\n",
       "  &quot;maxWidth&quot;: &quot;100%&quot;,\n",
       "});\n",
       "\n",
       "        \n",
       "            \n",
       "                var html_d32b28c2c2cca5403e790c651ef311ae = $(`&lt;div id=&quot;html_d32b28c2c2cca5403e790c651ef311ae&quot; style=&quot;width: 100.0%; height: 100.0%;&quot;&gt;(&quot;&lt;b style=&#x27;font-size: 18px; &#x27;&gt;Ranchon El Pinareño&lt;/b&gt;&lt;br&gt;Direccion: Calle 16 % Calle 9 &amp; Calle 7, Santiago de las Vegas&quot;, &quot;Especialidades: [&#x27;criollo&#x27;, &#x27;grille&#x27;]&quot;)&lt;/div&gt;`)[0];\n",
       "                popup_be026a1911ff99a927465a55c103df16.setContent(html_d32b28c2c2cca5403e790c651ef311ae);\n",
       "            \n",
       "        \n",
       "\n",
       "        marker_ab524d6a6d05ee82722d7cbc14d0c300.bindPopup(popup_be026a1911ff99a927465a55c103df16)\n",
       "        ;\n",
       "\n",
       "        \n",
       "    \n",
       "    \n",
       "            var marker_940c33f16f4a3fce4797e12a60082568 = L.marker(\n",
       "                [23.121214170655744, -82.37433227456654],\n",
       "                {\n",
       "}\n",
       "            ).addTo(map_7f5ed2f3d7f5669ce524652a5c024be3);\n",
       "        \n",
       "    \n",
       "            var icon_d4e9d839cf4a3321598440c581f0d136 = L.AwesomeMarkers.icon(\n",
       "                {\n",
       "  &quot;markerColor&quot;: &quot;red&quot;,\n",
       "  &quot;iconColor&quot;: &quot;white&quot;,\n",
       "  &quot;icon&quot;: &quot;cutlery&quot;,\n",
       "  &quot;prefix&quot;: &quot;fa&quot;,\n",
       "  &quot;extraClasses&quot;: &quot;fa-rotate-0&quot;,\n",
       "}\n",
       "            );\n",
       "            marker_940c33f16f4a3fce4797e12a60082568.setIcon(icon_d4e9d839cf4a3321598440c581f0d136);\n",
       "        \n",
       "    \n",
       "        var popup_a6da492372d1c74948dccf8590c0cefe = L.popup({\n",
       "  &quot;maxWidth&quot;: &quot;100%&quot;,\n",
       "});\n",
       "\n",
       "        \n",
       "            \n",
       "                var html_2ff7e3fa73e2263465fa9224dc14f915 = $(`&lt;div id=&quot;html_2ff7e3fa73e2263465fa9224dc14f915&quot; style=&quot;width: 100.0%; height: 100.0%;&quot;&gt;(&quot;&lt;b style=&#x27;font-size: 18px; &#x27;&gt;El Rapido&lt;/b&gt;&lt;br&gt;Direccion: Cruz del Pader entre Pedrosa y Amenidad&quot;, &quot;Especialidades: [&#x27;italiano&#x27;, &#x27;sandwich&#x27;]&quot;)&lt;/div&gt;`)[0];\n",
       "                popup_a6da492372d1c74948dccf8590c0cefe.setContent(html_2ff7e3fa73e2263465fa9224dc14f915);\n",
       "            \n",
       "        \n",
       "\n",
       "        marker_940c33f16f4a3fce4797e12a60082568.bindPopup(popup_a6da492372d1c74948dccf8590c0cefe)\n",
       "        ;\n",
       "\n",
       "        \n",
       "    \n",
       "    \n",
       "            var marker_0ed4debe7da9678cf9cf417925ab4a27 = L.marker(\n",
       "                [23.137849066647398, -82.355948790034],\n",
       "                {\n",
       "}\n",
       "            ).addTo(map_7f5ed2f3d7f5669ce524652a5c024be3);\n",
       "        \n",
       "    \n",
       "            var icon_633e7c9c9d290fafbd39fddae2006da4 = L.AwesomeMarkers.icon(\n",
       "                {\n",
       "  &quot;markerColor&quot;: &quot;red&quot;,\n",
       "  &quot;iconColor&quot;: &quot;white&quot;,\n",
       "  &quot;icon&quot;: &quot;cutlery&quot;,\n",
       "  &quot;prefix&quot;: &quot;fa&quot;,\n",
       "  &quot;extraClasses&quot;: &quot;fa-rotate-0&quot;,\n",
       "}\n",
       "            );\n",
       "            marker_0ed4debe7da9678cf9cf417925ab4a27.setIcon(icon_633e7c9c9d290fafbd39fddae2006da4);\n",
       "        \n",
       "    \n",
       "        var popup_26610847d71de5a7339a2af38a4ec42d = L.popup({\n",
       "  &quot;maxWidth&quot;: &quot;100%&quot;,\n",
       "});\n",
       "\n",
       "        \n",
       "            \n",
       "                var html_dcd45b51b237434fea47e7f7ec7c27ef = $(`&lt;div id=&quot;html_dcd45b51b237434fea47e7f7ec7c27ef&quot; style=&quot;width: 100.0%; height: 100.0%;&quot;&gt;(&quot;&lt;b style=&#x27;font-size: 18px; &#x27;&gt;El Rincon De Las Letras&lt;/b&gt;&lt;br&gt;Direccion: Calle Villegas #206 entre Obispo y Obrapia&quot;, &quot;Especialidades: [&#x27;Caribena&#x27;, &#x27;Cubana&#x27;]&quot;)&lt;/div&gt;`)[0];\n",
       "                popup_26610847d71de5a7339a2af38a4ec42d.setContent(html_dcd45b51b237434fea47e7f7ec7c27ef);\n",
       "            \n",
       "        \n",
       "\n",
       "        marker_0ed4debe7da9678cf9cf417925ab4a27.bindPopup(popup_26610847d71de5a7339a2af38a4ec42d)\n",
       "        ;\n",
       "\n",
       "        \n",
       "    \n",
       "    \n",
       "            var marker_2d3d8531d2c7534a568c33440097c2b9 = L.marker(\n",
       "                [22.97148510128245, -82.38594063725743],\n",
       "                {\n",
       "}\n",
       "            ).addTo(map_7f5ed2f3d7f5669ce524652a5c024be3);\n",
       "        \n",
       "    \n",
       "            var icon_60f2e1a794364a0d0d404bc94a27a89e = L.AwesomeMarkers.icon(\n",
       "                {\n",
       "  &quot;markerColor&quot;: &quot;red&quot;,\n",
       "  &quot;iconColor&quot;: &quot;white&quot;,\n",
       "  &quot;icon&quot;: &quot;cutlery&quot;,\n",
       "  &quot;prefix&quot;: &quot;fa&quot;,\n",
       "  &quot;extraClasses&quot;: &quot;fa-rotate-0&quot;,\n",
       "}\n",
       "            );\n",
       "            marker_2d3d8531d2c7534a568c33440097c2b9.setIcon(icon_60f2e1a794364a0d0d404bc94a27a89e);\n",
       "        \n",
       "    \n",
       "        var popup_26b7b5ad79218ba3076d273a03af248d = L.popup({\n",
       "  &quot;maxWidth&quot;: &quot;100%&quot;,\n",
       "});\n",
       "\n",
       "        \n",
       "            \n",
       "                var html_79b632292e480c9bc344818100b7ed15 = $(`&lt;div id=&quot;html_79b632292e480c9bc344818100b7ed15&quot; style=&quot;width: 100.0%; height: 100.0%;&quot;&gt;(&quot;&lt;b style=&#x27;font-size: 18px; &#x27;&gt;El Sauce&lt;/b&gt;&lt;br&gt;Direccion: Calle 403 % 180 &amp; 184, Santiago de las Vegas&quot;, &quot;Especialidades: [&#x27;Pizza&#x27;]&quot;)&lt;/div&gt;`)[0];\n",
       "                popup_26b7b5ad79218ba3076d273a03af248d.setContent(html_79b632292e480c9bc344818100b7ed15);\n",
       "            \n",
       "        \n",
       "\n",
       "        marker_2d3d8531d2c7534a568c33440097c2b9.bindPopup(popup_26b7b5ad79218ba3076d273a03af248d)\n",
       "        ;\n",
       "\n",
       "        \n",
       "    \n",
       "    \n",
       "            var marker_2f199f2106bfda489cfc9720e687b0c6 = L.marker(\n",
       "                [23.124717648812492, -82.42132107449743],\n",
       "                {\n",
       "}\n",
       "            ).addTo(map_7f5ed2f3d7f5669ce524652a5c024be3);\n",
       "        \n",
       "    \n",
       "            var icon_48dc342712f29895c3d78cdee486acfc = L.AwesomeMarkers.icon(\n",
       "                {\n",
       "  &quot;markerColor&quot;: &quot;red&quot;,\n",
       "  &quot;iconColor&quot;: &quot;white&quot;,\n",
       "  &quot;icon&quot;: &quot;cutlery&quot;,\n",
       "  &quot;prefix&quot;: &quot;fa&quot;,\n",
       "  &quot;extraClasses&quot;: &quot;fa-rotate-0&quot;,\n",
       "}\n",
       "            );\n",
       "            marker_2f199f2106bfda489cfc9720e687b0c6.setIcon(icon_48dc342712f29895c3d78cdee486acfc);\n",
       "        \n",
       "    \n",
       "        var popup_8791077da7d397a57e88382632254f00 = L.popup({\n",
       "  &quot;maxWidth&quot;: &quot;100%&quot;,\n",
       "});\n",
       "\n",
       "        \n",
       "            \n",
       "                var html_9191206c46f066d2f435e53597d49996 = $(`&lt;div id=&quot;html_9191206c46f066d2f435e53597d49996&quot; style=&quot;width: 100.0%; height: 100.0%;&quot;&gt;(&quot;&lt;b style=&#x27;font-size: 18px; &#x27;&gt;El Tocororo&lt;/b&gt;&lt;br&gt;Direccion: Calle 18 entre 3ra y 5ta&quot;, &quot;Especialidades: [&#x27;criolla&#x27;, &#x27;caribena&#x27;, &#x27;latina&#x27;]&quot;)&lt;/div&gt;`)[0];\n",
       "                popup_8791077da7d397a57e88382632254f00.setContent(html_9191206c46f066d2f435e53597d49996);\n",
       "            \n",
       "        \n",
       "\n",
       "        marker_2f199f2106bfda489cfc9720e687b0c6.bindPopup(popup_8791077da7d397a57e88382632254f00)\n",
       "        ;\n",
       "\n",
       "        \n",
       "    \n",
       "    \n",
       "            var marker_346bef61cc6cb1f528ab002c9022e029 = L.marker(\n",
       "                [23.08014437636423, -82.32075326489488],\n",
       "                {\n",
       "}\n",
       "            ).addTo(map_7f5ed2f3d7f5669ce524652a5c024be3);\n",
       "        \n",
       "    \n",
       "            var icon_6feeee3b6901884f7a219fa163288ff8 = L.AwesomeMarkers.icon(\n",
       "                {\n",
       "  &quot;markerColor&quot;: &quot;red&quot;,\n",
       "  &quot;iconColor&quot;: &quot;white&quot;,\n",
       "  &quot;icon&quot;: &quot;cutlery&quot;,\n",
       "  &quot;prefix&quot;: &quot;fa&quot;,\n",
       "  &quot;extraClasses&quot;: &quot;fa-rotate-0&quot;,\n",
       "}\n",
       "            );\n",
       "            marker_346bef61cc6cb1f528ab002c9022e029.setIcon(icon_6feeee3b6901884f7a219fa163288ff8);\n",
       "        \n",
       "    \n",
       "        var popup_3dcab53801b05108ebf46f6293d5fa29 = L.popup({\n",
       "  &quot;maxWidth&quot;: &quot;100%&quot;,\n",
       "});\n",
       "\n",
       "        \n",
       "            \n",
       "                var html_d472fbdc2e12cf8840fa6cd4698cec21 = $(`&lt;div id=&quot;html_d472fbdc2e12cf8840fa6cd4698cec21&quot; style=&quot;width: 100.0%; height: 100.0%;&quot;&gt;(&quot;&lt;b style=&#x27;font-size: 18px; &#x27;&gt;El Tráfico&lt;/b&gt;&lt;br&gt;Direccion: Calzada de Guines entre 90 y 94&quot;, &quot;Especialidades: [&#x27;italiana&#x27;, &#x27;criolla&#x27;]&quot;)&lt;/div&gt;`)[0];\n",
       "                popup_3dcab53801b05108ebf46f6293d5fa29.setContent(html_d472fbdc2e12cf8840fa6cd4698cec21);\n",
       "            \n",
       "        \n",
       "\n",
       "        marker_346bef61cc6cb1f528ab002c9022e029.bindPopup(popup_3dcab53801b05108ebf46f6293d5fa29)\n",
       "        ;\n",
       "\n",
       "        \n",
       "    \n",
       "    \n",
       "            var marker_91d140dcddeb9052a101442f8440e4c2 = L.marker(\n",
       "                [23.074424846570963, -82.3584506328705],\n",
       "                {\n",
       "}\n",
       "            ).addTo(map_7f5ed2f3d7f5669ce524652a5c024be3);\n",
       "        \n",
       "    \n",
       "            var icon_350bd942d70a9419f4abd454e44ba7c5 = L.AwesomeMarkers.icon(\n",
       "                {\n",
       "  &quot;markerColor&quot;: &quot;red&quot;,\n",
       "  &quot;iconColor&quot;: &quot;white&quot;,\n",
       "  &quot;icon&quot;: &quot;cutlery&quot;,\n",
       "  &quot;prefix&quot;: &quot;fa&quot;,\n",
       "  &quot;extraClasses&quot;: &quot;fa-rotate-0&quot;,\n",
       "}\n",
       "            );\n",
       "            marker_91d140dcddeb9052a101442f8440e4c2.setIcon(icon_350bd942d70a9419f4abd454e44ba7c5);\n",
       "        \n",
       "    \n",
       "        var popup_64662ca9a96e9b2861eac00bc1d1baf7 = L.popup({\n",
       "  &quot;maxWidth&quot;: &quot;100%&quot;,\n",
       "});\n",
       "\n",
       "        \n",
       "            \n",
       "                var html_2ccff026cf895059acd6f72a50edff25 = $(`&lt;div id=&quot;html_2ccff026cf895059acd6f72a50edff25&quot; style=&quot;width: 100.0%; height: 100.0%;&quot;&gt;(&quot;&lt;b style=&#x27;font-size: 18px; &#x27;&gt;El Triangulo&lt;/b&gt;&lt;br&gt;Direccion: Esquina Calzada de 10 de octubre y Calzada de Porvenir, La Palma&quot;, &quot;Especialidades: [&#x27;cubana&#x27;]&quot;)&lt;/div&gt;`)[0];\n",
       "                popup_64662ca9a96e9b2861eac00bc1d1baf7.setContent(html_2ccff026cf895059acd6f72a50edff25);\n",
       "            \n",
       "        \n",
       "\n",
       "        marker_91d140dcddeb9052a101442f8440e4c2.bindPopup(popup_64662ca9a96e9b2861eac00bc1d1baf7)\n",
       "        ;\n",
       "\n",
       "        \n",
       "    \n",
       "    \n",
       "            var marker_2353e5576084385b111566fc52e20972 = L.marker(\n",
       "                [23.00372199549759, -82.39586954958467],\n",
       "                {\n",
       "}\n",
       "            ).addTo(map_7f5ed2f3d7f5669ce524652a5c024be3);\n",
       "        \n",
       "    \n",
       "            var icon_32960253b6ed1dff6e2acb53a49142a5 = L.AwesomeMarkers.icon(\n",
       "                {\n",
       "  &quot;markerColor&quot;: &quot;red&quot;,\n",
       "  &quot;iconColor&quot;: &quot;white&quot;,\n",
       "  &quot;icon&quot;: &quot;cutlery&quot;,\n",
       "  &quot;prefix&quot;: &quot;fa&quot;,\n",
       "  &quot;extraClasses&quot;: &quot;fa-rotate-0&quot;,\n",
       "}\n",
       "            );\n",
       "            marker_2353e5576084385b111566fc52e20972.setIcon(icon_32960253b6ed1dff6e2acb53a49142a5);\n",
       "        \n",
       "    \n",
       "        var popup_56152ad6a1bc0e9106dd1aa66eb94018 = L.popup({\n",
       "  &quot;maxWidth&quot;: &quot;100%&quot;,\n",
       "});\n",
       "\n",
       "        \n",
       "            \n",
       "                var html_b2d32b6a5cc7eae256839c010616e1aa = $(`&lt;div id=&quot;html_b2d32b6a5cc7eae256839c010616e1aa&quot; style=&quot;width: 100.0%; height: 100.0%;&quot;&gt;(&quot;&lt;b style=&#x27;font-size: 18px; &#x27;&gt;Entabla2&lt;/b&gt;&lt;br&gt;Direccion: Carretera Terminal 2, Aeropuerto Internacional J. Marti, Calixto Sanchez&quot;, &quot;Especialidades: [&#x27;criolla&#x27;]&quot;)&lt;/div&gt;`)[0];\n",
       "                popup_56152ad6a1bc0e9106dd1aa66eb94018.setContent(html_b2d32b6a5cc7eae256839c010616e1aa);\n",
       "            \n",
       "        \n",
       "\n",
       "        marker_2353e5576084385b111566fc52e20972.bindPopup(popup_56152ad6a1bc0e9106dd1aa66eb94018)\n",
       "        ;\n",
       "\n",
       "        \n",
       "    \n",
       "    \n",
       "            var marker_5350369502d8a188826f0c8ebbb985ed = L.marker(\n",
       "                [23.142395650866476, -82.39855515318168],\n",
       "                {\n",
       "}\n",
       "            ).addTo(map_7f5ed2f3d7f5669ce524652a5c024be3);\n",
       "        \n",
       "    \n",
       "            var icon_783565463988bb74999698772c88f158 = L.AwesomeMarkers.icon(\n",
       "                {\n",
       "  &quot;markerColor&quot;: &quot;red&quot;,\n",
       "  &quot;iconColor&quot;: &quot;white&quot;,\n",
       "  &quot;icon&quot;: &quot;cutlery&quot;,\n",
       "  &quot;prefix&quot;: &quot;fa&quot;,\n",
       "  &quot;extraClasses&quot;: &quot;fa-rotate-0&quot;,\n",
       "}\n",
       "            );\n",
       "            marker_5350369502d8a188826f0c8ebbb985ed.setIcon(icon_783565463988bb74999698772c88f158);\n",
       "        \n",
       "    \n",
       "        var popup_c59dd2d15c125e24945f64a25eed1d03 = L.popup({\n",
       "  &quot;maxWidth&quot;: &quot;100%&quot;,\n",
       "});\n",
       "\n",
       "        \n",
       "            \n",
       "                var html_d820f26b11093240284c24c7d675f2f2 = $(`&lt;div id=&quot;html_d820f26b11093240284c24c7d675f2f2&quot; style=&quot;width: 100.0%; height: 100.0%;&quot;&gt;(&quot;&lt;b style=&#x27;font-size: 18px; &#x27;&gt;Esquina D-Fraile &lt;/b&gt;&lt;br&gt;Direccion: Calle D entre 1era y 3era, Vedado.&quot;, &quot;Especialidades: [&#x27;Comida Americana&#x27;, &#x27;caribeña&#x27;, &#x27;latina&#x27;, &#x27;criolla&#x27;, &#x27;internacional&#x27;]&quot;)&lt;/div&gt;`)[0];\n",
       "                popup_c59dd2d15c125e24945f64a25eed1d03.setContent(html_d820f26b11093240284c24c7d675f2f2);\n",
       "            \n",
       "        \n",
       "\n",
       "        marker_5350369502d8a188826f0c8ebbb985ed.bindPopup(popup_c59dd2d15c125e24945f64a25eed1d03)\n",
       "        ;\n",
       "\n",
       "        \n",
       "    \n",
       "    \n",
       "            var marker_b1382fb20cfd7523373f6eaa01b411cc = L.marker(\n",
       "                [23.140776125926624, -82.3517849151747],\n",
       "                {\n",
       "}\n",
       "            ).addTo(map_7f5ed2f3d7f5669ce524652a5c024be3);\n",
       "        \n",
       "    \n",
       "            var icon_4b7b42767e9a403b4a096a3cbc1cd42a = L.AwesomeMarkers.icon(\n",
       "                {\n",
       "  &quot;markerColor&quot;: &quot;red&quot;,\n",
       "  &quot;iconColor&quot;: &quot;white&quot;,\n",
       "  &quot;icon&quot;: &quot;cutlery&quot;,\n",
       "  &quot;prefix&quot;: &quot;fa&quot;,\n",
       "  &quot;extraClasses&quot;: &quot;fa-rotate-0&quot;,\n",
       "}\n",
       "            );\n",
       "            marker_b1382fb20cfd7523373f6eaa01b411cc.setIcon(icon_4b7b42767e9a403b4a096a3cbc1cd42a);\n",
       "        \n",
       "    \n",
       "        var popup_8f137e491890f2a4e59387546807d7b9 = L.popup({\n",
       "  &quot;maxWidth&quot;: &quot;100%&quot;,\n",
       "});\n",
       "\n",
       "        \n",
       "            \n",
       "                var html_5e89075e2202116533197deed98c0fdd = $(`&lt;div id=&quot;html_5e89075e2202116533197deed98c0fdd&quot; style=&quot;width: 100.0%; height: 100.0%;&quot;&gt;(&quot;&lt;b style=&#x27;font-size: 18px; &#x27;&gt;Esto No Es Un Cafe&lt;/b&gt;&lt;br&gt;Direccion: Calle Ignacio #58-A entre OReilly y Empedrado, Callejón del Chorro, Plaza de la Catedral&quot;, &quot;Especialidades: [&#x27;Mixta&#x27;]&quot;)&lt;/div&gt;`)[0];\n",
       "                popup_8f137e491890f2a4e59387546807d7b9.setContent(html_5e89075e2202116533197deed98c0fdd);\n",
       "            \n",
       "        \n",
       "\n",
       "        marker_b1382fb20cfd7523373f6eaa01b411cc.bindPopup(popup_8f137e491890f2a4e59387546807d7b9)\n",
       "        ;\n",
       "\n",
       "        \n",
       "    \n",
       "    \n",
       "            var marker_f559932cdfeff7a73a359c2dc27b1fff = L.marker(\n",
       "                [23.11995071306764, -82.41835419828072],\n",
       "                {\n",
       "}\n",
       "            ).addTo(map_7f5ed2f3d7f5669ce524652a5c024be3);\n",
       "        \n",
       "    \n",
       "            var icon_1d7378ed9d6158b22966522dfb4a5dae = L.AwesomeMarkers.icon(\n",
       "                {\n",
       "  &quot;markerColor&quot;: &quot;red&quot;,\n",
       "  &quot;iconColor&quot;: &quot;white&quot;,\n",
       "  &quot;icon&quot;: &quot;cutlery&quot;,\n",
       "  &quot;prefix&quot;: &quot;fa&quot;,\n",
       "  &quot;extraClasses&quot;: &quot;fa-rotate-0&quot;,\n",
       "}\n",
       "            );\n",
       "            marker_f559932cdfeff7a73a359c2dc27b1fff.setIcon(icon_1d7378ed9d6158b22966522dfb4a5dae);\n",
       "        \n",
       "    \n",
       "        var popup_9eab224f64d22af9781928ea31c6c21b = L.popup({\n",
       "  &quot;maxWidth&quot;: &quot;100%&quot;,\n",
       "});\n",
       "\n",
       "        \n",
       "            \n",
       "                var html_c199c763330a13286f0722852e5f02e2 = $(`&lt;div id=&quot;html_c199c763330a13286f0722852e5f02e2&quot; style=&quot;width: 100.0%; height: 100.0%;&quot;&gt;(&quot;&lt;b style=&#x27;font-size: 18px; &#x27;&gt;Fellini&lt;/b&gt;&lt;br&gt;Direccion: Calle 20 entre 9na y 7ma&quot;, &quot;Especialidades: [&#x27;cubana&#x27;, &#x27;internacional&#x27;]&quot;)&lt;/div&gt;`)[0];\n",
       "                popup_9eab224f64d22af9781928ea31c6c21b.setContent(html_c199c763330a13286f0722852e5f02e2);\n",
       "            \n",
       "        \n",
       "\n",
       "        marker_f559932cdfeff7a73a359c2dc27b1fff.bindPopup(popup_9eab224f64d22af9781928ea31c6c21b)\n",
       "        ;\n",
       "\n",
       "        \n",
       "    \n",
       "    \n",
       "            var marker_47d754304c7d2888831dbeec061afa63 = L.marker(\n",
       "                [23.04594907869068, -82.37133353203541],\n",
       "                {\n",
       "}\n",
       "            ).addTo(map_7f5ed2f3d7f5669ce524652a5c024be3);\n",
       "        \n",
       "    \n",
       "            var icon_94b4eeb41d581412e083e19cbdae62e7 = L.AwesomeMarkers.icon(\n",
       "                {\n",
       "  &quot;markerColor&quot;: &quot;red&quot;,\n",
       "  &quot;iconColor&quot;: &quot;white&quot;,\n",
       "  &quot;icon&quot;: &quot;cutlery&quot;,\n",
       "  &quot;prefix&quot;: &quot;fa&quot;,\n",
       "  &quot;extraClasses&quot;: &quot;fa-rotate-0&quot;,\n",
       "}\n",
       "            );\n",
       "            marker_47d754304c7d2888831dbeec061afa63.setIcon(icon_94b4eeb41d581412e083e19cbdae62e7);\n",
       "        \n",
       "    \n",
       "        var popup_31d45ed4343d4933871590fc7d062a1d = L.popup({\n",
       "  &quot;maxWidth&quot;: &quot;100%&quot;,\n",
       "});\n",
       "\n",
       "        \n",
       "            \n",
       "                var html_77d2839c7a32f741fbe74e0e417eea54 = $(`&lt;div id=&quot;html_77d2839c7a32f741fbe74e0e417eea54&quot; style=&quot;width: 100.0%; height: 100.0%;&quot;&gt;(&quot;&lt;b style=&#x27;font-size: 18px; &#x27;&gt;Fiesta Criolla&lt;/b&gt;&lt;br&gt;Direccion: Calle 100 #1003 (después del puente de calabazar), Arroyo Naranjo&quot;, &quot;Especialidades: [&#x27;cubana&#x27;]&quot;)&lt;/div&gt;`)[0];\n",
       "                popup_31d45ed4343d4933871590fc7d062a1d.setContent(html_77d2839c7a32f741fbe74e0e417eea54);\n",
       "            \n",
       "        \n",
       "\n",
       "        marker_47d754304c7d2888831dbeec061afa63.bindPopup(popup_31d45ed4343d4933871590fc7d062a1d)\n",
       "        ;\n",
       "\n",
       "        \n",
       "    \n",
       "    \n",
       "            var marker_fb7cfc94ef74df5e81934f5dce06c745 = L.marker(\n",
       "                [23.01940199162402, -82.4892786916919],\n",
       "                {\n",
       "}\n",
       "            ).addTo(map_7f5ed2f3d7f5669ce524652a5c024be3);\n",
       "        \n",
       "    \n",
       "            var icon_34f146bd8413adc0493b07769cb01992 = L.AwesomeMarkers.icon(\n",
       "                {\n",
       "  &quot;markerColor&quot;: &quot;red&quot;,\n",
       "  &quot;iconColor&quot;: &quot;white&quot;,\n",
       "  &quot;icon&quot;: &quot;cutlery&quot;,\n",
       "  &quot;prefix&quot;: &quot;fa&quot;,\n",
       "  &quot;extraClasses&quot;: &quot;fa-rotate-0&quot;,\n",
       "}\n",
       "            );\n",
       "            marker_fb7cfc94ef74df5e81934f5dce06c745.setIcon(icon_34f146bd8413adc0493b07769cb01992);\n",
       "        \n",
       "    \n",
       "        var popup_70a6613487fd06d36b75a22eaa676421 = L.popup({\n",
       "  &quot;maxWidth&quot;: &quot;100%&quot;,\n",
       "});\n",
       "\n",
       "        \n",
       "            \n",
       "                var html_3539e2ff8c765f107fdb2a654795a08a = $(`&lt;div id=&quot;html_3539e2ff8c765f107fdb2a654795a08a&quot; style=&quot;width: 100.0%; height: 100.0%;&quot;&gt;(&quot;&lt;b style=&#x27;font-size: 18px; &#x27;&gt;Finca La Pinta&lt;/b&gt;&lt;br&gt;Direccion:  Avenida 251 N.2409 entre 20 y 28&quot;, &quot;Especialidades: [&#x27;internacional&#x27;, &#x27;cubana&#x27;, &#x27;caribena&#x27;, &#x27;italiana&#x27;, &#x27;latina&#x27;]&quot;)&lt;/div&gt;`)[0];\n",
       "                popup_70a6613487fd06d36b75a22eaa676421.setContent(html_3539e2ff8c765f107fdb2a654795a08a);\n",
       "            \n",
       "        \n",
       "\n",
       "        marker_fb7cfc94ef74df5e81934f5dce06c745.bindPopup(popup_70a6613487fd06d36b75a22eaa676421)\n",
       "        ;\n",
       "\n",
       "        \n",
       "    \n",
       "    \n",
       "            var marker_ca4a73c26c05f5e80541efce23a376cf = L.marker(\n",
       "                [23.136041318926157, -82.36214978250345],\n",
       "                {\n",
       "}\n",
       "            ).addTo(map_7f5ed2f3d7f5669ce524652a5c024be3);\n",
       "        \n",
       "    \n",
       "            var icon_6f3a8a889075958dd53fc0e4819dcfd8 = L.AwesomeMarkers.icon(\n",
       "                {\n",
       "  &quot;markerColor&quot;: &quot;red&quot;,\n",
       "  &quot;iconColor&quot;: &quot;white&quot;,\n",
       "  &quot;icon&quot;: &quot;cutlery&quot;,\n",
       "  &quot;prefix&quot;: &quot;fa&quot;,\n",
       "  &quot;extraClasses&quot;: &quot;fa-rotate-0&quot;,\n",
       "}\n",
       "            );\n",
       "            marker_ca4a73c26c05f5e80541efce23a376cf.setIcon(icon_6f3a8a889075958dd53fc0e4819dcfd8);\n",
       "        \n",
       "    \n",
       "        var popup_af8f86f68cf33e481f4b55d268f23ad8 = L.popup({\n",
       "  &quot;maxWidth&quot;: &quot;100%&quot;,\n",
       "});\n",
       "\n",
       "        \n",
       "            \n",
       "                var html_0921b4d7617c1e0291923cfc0f8fa63c = $(`&lt;div id=&quot;html_0921b4d7617c1e0291923cfc0f8fa63c&quot; style=&quot;width: 100.0%; height: 100.0%;&quot;&gt;(&quot;&lt;b style=&#x27;font-size: 18px; &#x27;&gt;Fin de Siglo&lt;/b&gt;&lt;br&gt;Direccion: Esquina Aguila y San Martin&quot;, &quot;Especialidades: [&#x27;Cubana&#x27;, &#x27;Italiana&#x27;]&quot;)&lt;/div&gt;`)[0];\n",
       "                popup_af8f86f68cf33e481f4b55d268f23ad8.setContent(html_0921b4d7617c1e0291923cfc0f8fa63c);\n",
       "            \n",
       "        \n",
       "\n",
       "        marker_ca4a73c26c05f5e80541efce23a376cf.bindPopup(popup_af8f86f68cf33e481f4b55d268f23ad8)\n",
       "        ;\n",
       "\n",
       "        \n",
       "    \n",
       "    \n",
       "            var marker_5ef32a07fc903fdf792109d3d2ab6386 = L.marker(\n",
       "                [23.137505971829647, -82.35738137449714],\n",
       "                {\n",
       "}\n",
       "            ).addTo(map_7f5ed2f3d7f5669ce524652a5c024be3);\n",
       "        \n",
       "    \n",
       "            var icon_337d1d6097604ce5ca1cac24848b2eaf = L.AwesomeMarkers.icon(\n",
       "                {\n",
       "  &quot;markerColor&quot;: &quot;red&quot;,\n",
       "  &quot;iconColor&quot;: &quot;white&quot;,\n",
       "  &quot;icon&quot;: &quot;cutlery&quot;,\n",
       "  &quot;prefix&quot;: &quot;fa&quot;,\n",
       "  &quot;extraClasses&quot;: &quot;fa-rotate-0&quot;,\n",
       "}\n",
       "            );\n",
       "            marker_5ef32a07fc903fdf792109d3d2ab6386.setIcon(icon_337d1d6097604ce5ca1cac24848b2eaf);\n",
       "        \n",
       "    \n",
       "        var popup_b7757be165667cdafaaa1b11412bce52 = L.popup({\n",
       "  &quot;maxWidth&quot;: &quot;100%&quot;,\n",
       "});\n",
       "\n",
       "        \n",
       "            \n",
       "                var html_f0476dbd307c07466a10e9d853115df3 = $(`&lt;div id=&quot;html_f0476dbd307c07466a10e9d853115df3&quot; style=&quot;width: 100.0%; height: 100.0%;&quot;&gt;(&quot;&lt;b style=&#x27;font-size: 18px; &#x27;&gt;Floridita&lt;/b&gt;&lt;br&gt;Direccion: Obispo No 557 esquina Monserrate&quot;, &quot;Especialidades: [&#x27;Mariscos&#x27;]&quot;)&lt;/div&gt;`)[0];\n",
       "                popup_b7757be165667cdafaaa1b11412bce52.setContent(html_f0476dbd307c07466a10e9d853115df3);\n",
       "            \n",
       "        \n",
       "\n",
       "        marker_5ef32a07fc903fdf792109d3d2ab6386.bindPopup(popup_b7757be165667cdafaaa1b11412bce52)\n",
       "        ;\n",
       "\n",
       "        \n",
       "    \n",
       "    \n",
       "            var marker_93ff2907805c9a8177ca1594d54e7309 = L.marker(\n",
       "                [23.140492623277456, -82.35174687469267],\n",
       "                {\n",
       "}\n",
       "            ).addTo(map_7f5ed2f3d7f5669ce524652a5c024be3);\n",
       "        \n",
       "    \n",
       "            var icon_ec84f5e02b6db2fb0f5d43fcd3020992 = L.AwesomeMarkers.icon(\n",
       "                {\n",
       "  &quot;markerColor&quot;: &quot;red&quot;,\n",
       "  &quot;iconColor&quot;: &quot;white&quot;,\n",
       "  &quot;icon&quot;: &quot;cutlery&quot;,\n",
       "  &quot;prefix&quot;: &quot;fa&quot;,\n",
       "  &quot;extraClasses&quot;: &quot;fa-rotate-0&quot;,\n",
       "}\n",
       "            );\n",
       "            marker_93ff2907805c9a8177ca1594d54e7309.setIcon(icon_ec84f5e02b6db2fb0f5d43fcd3020992);\n",
       "        \n",
       "    \n",
       "        var popup_426ce29b2c3c7378cbc86e3cc0468b2a = L.popup({\n",
       "  &quot;maxWidth&quot;: &quot;100%&quot;,\n",
       "});\n",
       "\n",
       "        \n",
       "            \n",
       "                var html_9d93293b9d0c6c6710ce479449c2b3ed = $(`&lt;div id=&quot;html_9d93293b9d0c6c6710ce479449c2b3ed&quot; style=&quot;width: 100.0%; height: 100.0%;&quot;&gt;(&quot;&lt;b style=&#x27;font-size: 18px; &#x27;&gt;Fonda Al Pirata&lt;/b&gt;&lt;br&gt;Direccion: San Ignacio #76 e/ O&#x27;Reilly y Empedrado&quot;, &quot;Especialidades: [&#x27;Caribena&#x27;, &#x27;Cubana&#x27;]&quot;)&lt;/div&gt;`)[0];\n",
       "                popup_426ce29b2c3c7378cbc86e3cc0468b2a.setContent(html_9d93293b9d0c6c6710ce479449c2b3ed);\n",
       "            \n",
       "        \n",
       "\n",
       "        marker_93ff2907805c9a8177ca1594d54e7309.bindPopup(popup_426ce29b2c3c7378cbc86e3cc0468b2a)\n",
       "        ;\n",
       "\n",
       "        \n",
       "    \n",
       "    \n",
       "            var marker_d3cb86cfefec381b53cefffcdc5eafaf = L.marker(\n",
       "                [23.108876604302726, -82.440550925563],\n",
       "                {\n",
       "}\n",
       "            ).addTo(map_7f5ed2f3d7f5669ce524652a5c024be3);\n",
       "        \n",
       "    \n",
       "            var icon_52707ce12182798b18380efc75924f85 = L.AwesomeMarkers.icon(\n",
       "                {\n",
       "  &quot;markerColor&quot;: &quot;red&quot;,\n",
       "  &quot;iconColor&quot;: &quot;white&quot;,\n",
       "  &quot;icon&quot;: &quot;cutlery&quot;,\n",
       "  &quot;prefix&quot;: &quot;fa&quot;,\n",
       "  &quot;extraClasses&quot;: &quot;fa-rotate-0&quot;,\n",
       "}\n",
       "            );\n",
       "            marker_d3cb86cfefec381b53cefffcdc5eafaf.setIcon(icon_52707ce12182798b18380efc75924f85);\n",
       "        \n",
       "    \n",
       "        var popup_44a1b503a5acc7a8a89cb49c6a15aaf8 = L.popup({\n",
       "  &quot;maxWidth&quot;: &quot;100%&quot;,\n",
       "});\n",
       "\n",
       "        \n",
       "            \n",
       "                var html_38a929b1ec23ca17acb59ed481a0d709 = $(`&lt;div id=&quot;html_38a929b1ec23ca17acb59ed481a0d709&quot; style=&quot;width: 100.0%; height: 100.0%;&quot;&gt;(&quot;&lt;b style=&#x27;font-size: 18px; &#x27;&gt;FoodTruck Pelegrin&lt;/b&gt;&lt;br&gt;Direccion:  Miramar Trade Center, Centro de Negocios&quot;, &quot;Especialidades: [&#x27;cubana&#x27;, &#x27;internacional&#x27;]&quot;)&lt;/div&gt;`)[0];\n",
       "                popup_44a1b503a5acc7a8a89cb49c6a15aaf8.setContent(html_38a929b1ec23ca17acb59ed481a0d709);\n",
       "            \n",
       "        \n",
       "\n",
       "        marker_d3cb86cfefec381b53cefffcdc5eafaf.bindPopup(popup_44a1b503a5acc7a8a89cb49c6a15aaf8)\n",
       "        ;\n",
       "\n",
       "        \n",
       "    \n",
       "    \n",
       "            var marker_e8394024fc641a73c10d13bc396d07b6 = L.marker(\n",
       "                [23.108117348063423, -82.4341893999906],\n",
       "                {\n",
       "}\n",
       "            ).addTo(map_7f5ed2f3d7f5669ce524652a5c024be3);\n",
       "        \n",
       "    \n",
       "            var icon_533c0875c454cca6d097db95e65c7d6d = L.AwesomeMarkers.icon(\n",
       "                {\n",
       "  &quot;markerColor&quot;: &quot;red&quot;,\n",
       "  &quot;iconColor&quot;: &quot;white&quot;,\n",
       "  &quot;icon&quot;: &quot;cutlery&quot;,\n",
       "  &quot;prefix&quot;: &quot;fa&quot;,\n",
       "  &quot;extraClasses&quot;: &quot;fa-rotate-0&quot;,\n",
       "}\n",
       "            );\n",
       "            marker_e8394024fc641a73c10d13bc396d07b6.setIcon(icon_533c0875c454cca6d097db95e65c7d6d);\n",
       "        \n",
       "    \n",
       "        var popup_347a867453c567d5933607ffa2bd5f60 = L.popup({\n",
       "  &quot;maxWidth&quot;: &quot;100%&quot;,\n",
       "});\n",
       "\n",
       "        \n",
       "            \n",
       "                var html_4c9b67ef0caff8aead7375af1a11d841 = $(`&lt;div id=&quot;html_4c9b67ef0caff8aead7375af1a11d841&quot; style=&quot;width: 100.0%; height: 100.0%;&quot;&gt;(&quot;&lt;b style=&#x27;font-size: 18px; &#x27;&gt;FoodMaster&lt;/b&gt;&lt;br&gt;Direccion: 7 A&quot;, &quot;Especialidades: [&#x27;Mexicana&#x27;, &#x27;Americana&#x27;, &#x27;Café&#x27;, &#x27;Internacional&#x27;, &#x27;Pizzas&#x27;]&quot;)&lt;/div&gt;`)[0];\n",
       "                popup_347a867453c567d5933607ffa2bd5f60.setContent(html_4c9b67ef0caff8aead7375af1a11d841);\n",
       "            \n",
       "        \n",
       "\n",
       "        marker_e8394024fc641a73c10d13bc396d07b6.bindPopup(popup_347a867453c567d5933607ffa2bd5f60)\n",
       "        ;\n",
       "\n",
       "        \n",
       "    \n",
       "    \n",
       "            var marker_7cb89121609cdc2d5e145457e6877bbb = L.marker(\n",
       "                [23.12209228452483, -82.40512312898908],\n",
       "                {\n",
       "}\n",
       "            ).addTo(map_7f5ed2f3d7f5669ce524652a5c024be3);\n",
       "        \n",
       "    \n",
       "            var icon_b89b6c754232f6111309a86657b27005 = L.AwesomeMarkers.icon(\n",
       "                {\n",
       "  &quot;markerColor&quot;: &quot;red&quot;,\n",
       "  &quot;iconColor&quot;: &quot;white&quot;,\n",
       "  &quot;icon&quot;: &quot;cutlery&quot;,\n",
       "  &quot;prefix&quot;: &quot;fa&quot;,\n",
       "  &quot;extraClasses&quot;: &quot;fa-rotate-0&quot;,\n",
       "}\n",
       "            );\n",
       "            marker_7cb89121609cdc2d5e145457e6877bbb.setIcon(icon_b89b6c754232f6111309a86657b27005);\n",
       "        \n",
       "    \n",
       "        var popup_b28192d800d79e703c48412baa85b428 = L.popup({\n",
       "  &quot;maxWidth&quot;: &quot;100%&quot;,\n",
       "});\n",
       "\n",
       "        \n",
       "            \n",
       "                var html_be5842f603a69ed24bba83b4a7862d91 = $(`&lt;div id=&quot;html_be5842f603a69ed24bba83b4a7862d91&quot; style=&quot;width: 100.0%; height: 100.0%;&quot;&gt;(&quot;&lt;b style=&#x27;font-size: 18px; &#x27;&gt;Fumiyaki&lt;/b&gt;&lt;br&gt;Direccion: Ave 26, No 367 ,entre calle 23 y calle 25, Vedado&quot;, &quot;Especialidades: [&#x27;Comida japonesa&#x27;, &#x27;asiatica&#x27;, &#x27;sushi&#x27;, &#x27;cubana&#x27;]&quot;)&lt;/div&gt;`)[0];\n",
       "                popup_b28192d800d79e703c48412baa85b428.setContent(html_be5842f603a69ed24bba83b4a7862d91);\n",
       "            \n",
       "        \n",
       "\n",
       "        marker_7cb89121609cdc2d5e145457e6877bbb.bindPopup(popup_b28192d800d79e703c48412baa85b428)\n",
       "        ;\n",
       "\n",
       "        \n",
       "    \n",
       "    \n",
       "            var marker_1b8c754770a25b4d683e72602e672e55 = L.marker(\n",
       "                [23.135893503982505, -82.36265785250283],\n",
       "                {\n",
       "}\n",
       "            ).addTo(map_7f5ed2f3d7f5669ce524652a5c024be3);\n",
       "        \n",
       "    \n",
       "            var icon_578644797d251652cdc2df48a4b505d0 = L.AwesomeMarkers.icon(\n",
       "                {\n",
       "  &quot;markerColor&quot;: &quot;red&quot;,\n",
       "  &quot;iconColor&quot;: &quot;white&quot;,\n",
       "  &quot;icon&quot;: &quot;cutlery&quot;,\n",
       "  &quot;prefix&quot;: &quot;fa&quot;,\n",
       "  &quot;extraClasses&quot;: &quot;fa-rotate-0&quot;,\n",
       "}\n",
       "            );\n",
       "            marker_1b8c754770a25b4d683e72602e672e55.setIcon(icon_578644797d251652cdc2df48a4b505d0);\n",
       "        \n",
       "    \n",
       "        var popup_f29e4ad19193b9032e2ec3e34534e86b = L.popup({\n",
       "  &quot;maxWidth&quot;: &quot;100%&quot;,\n",
       "});\n",
       "\n",
       "        \n",
       "            \n",
       "                var html_d1cbbdf1326f7610a8f51e17a3ed3eda = $(`&lt;div id=&quot;html_d1cbbdf1326f7610a8f51e17a3ed3eda&quot; style=&quot;width: 100.0%; height: 100.0%;&quot;&gt;(&quot;&lt;b style=&#x27;font-size: 18px; &#x27;&gt;Galy Cafe&lt;/b&gt;&lt;br&gt;Direccion: San Martin entre Galeano y Aguila&quot;, &quot;Especialidades: [&#x27;caribeña&#x27;, &#x27;latina&#x27;, &#x27;internacional&#x27;, &#x27;cubana&#x27;]&quot;)&lt;/div&gt;`)[0];\n",
       "                popup_f29e4ad19193b9032e2ec3e34534e86b.setContent(html_d1cbbdf1326f7610a8f51e17a3ed3eda);\n",
       "            \n",
       "        \n",
       "\n",
       "        marker_1b8c754770a25b4d683e72602e672e55.bindPopup(popup_f29e4ad19193b9032e2ec3e34534e86b)\n",
       "        ;\n",
       "\n",
       "        \n",
       "    \n",
       "    \n",
       "            var marker_d77d6eff8eae805cd4cd7abc0dd11404 = L.marker(\n",
       "                [23.14374457538385, -82.35553752883533],\n",
       "                {\n",
       "}\n",
       "            ).addTo(map_7f5ed2f3d7f5669ce524652a5c024be3);\n",
       "        \n",
       "    \n",
       "            var icon_2baae2ca32d7571b0ac909bc9d5e39fa = L.AwesomeMarkers.icon(\n",
       "                {\n",
       "  &quot;markerColor&quot;: &quot;red&quot;,\n",
       "  &quot;iconColor&quot;: &quot;white&quot;,\n",
       "  &quot;icon&quot;: &quot;cutlery&quot;,\n",
       "  &quot;prefix&quot;: &quot;fa&quot;,\n",
       "  &quot;extraClasses&quot;: &quot;fa-rotate-0&quot;,\n",
       "}\n",
       "            );\n",
       "            marker_d77d6eff8eae805cd4cd7abc0dd11404.setIcon(icon_2baae2ca32d7571b0ac909bc9d5e39fa);\n",
       "        \n",
       "    \n",
       "        var popup_0a69f0422402990720488e9be5b54e2a = L.popup({\n",
       "  &quot;maxWidth&quot;: &quot;100%&quot;,\n",
       "});\n",
       "\n",
       "        \n",
       "            \n",
       "                var html_8aa1dc331a8ee47cf56ddbb6535e9179 = $(`&lt;div id=&quot;html_8aa1dc331a8ee47cf56ddbb6535e9179&quot; style=&quot;width: 100.0%; height: 100.0%;&quot;&gt;(&quot;&lt;b style=&#x27;font-size: 18px; &#x27;&gt;Habana 5 Rooftop&lt;/b&gt;&lt;br&gt;Direccion: Calle Habana entre Pena Pobre y Av. Belgica&quot;, &quot;Especialidades: [&#x27;Internacional&#x27;, &#x27;cubana&#x27;]&quot;)&lt;/div&gt;`)[0];\n",
       "                popup_0a69f0422402990720488e9be5b54e2a.setContent(html_8aa1dc331a8ee47cf56ddbb6535e9179);\n",
       "            \n",
       "        \n",
       "\n",
       "        marker_d77d6eff8eae805cd4cd7abc0dd11404.bindPopup(popup_0a69f0422402990720488e9be5b54e2a)\n",
       "        ;\n",
       "\n",
       "        \n",
       "    \n",
       "    \n",
       "            var marker_ad67a3fcd83ef0f7316454657f0a93bf = L.marker(\n",
       "                [23.142484323536937, -82.35509901886921],\n",
       "                {\n",
       "}\n",
       "            ).addTo(map_7f5ed2f3d7f5669ce524652a5c024be3);\n",
       "        \n",
       "    \n",
       "            var icon_888b4bb54a1be811f4bcd1ddcf9e300c = L.AwesomeMarkers.icon(\n",
       "                {\n",
       "  &quot;markerColor&quot;: &quot;red&quot;,\n",
       "  &quot;iconColor&quot;: &quot;white&quot;,\n",
       "  &quot;icon&quot;: &quot;cutlery&quot;,\n",
       "  &quot;prefix&quot;: &quot;fa&quot;,\n",
       "  &quot;extraClasses&quot;: &quot;fa-rotate-0&quot;,\n",
       "}\n",
       "            );\n",
       "            marker_ad67a3fcd83ef0f7316454657f0a93bf.setIcon(icon_888b4bb54a1be811f4bcd1ddcf9e300c);\n",
       "        \n",
       "    \n",
       "        var popup_9d222de5a354facbb1d0e0b0ed21128d = L.popup({\n",
       "  &quot;maxWidth&quot;: &quot;100%&quot;,\n",
       "});\n",
       "\n",
       "        \n",
       "            \n",
       "                var html_186bb85aae75ecf92930d95fa4de09b6 = $(`&lt;div id=&quot;html_186bb85aae75ecf92930d95fa4de09b6&quot; style=&quot;width: 100.0%; height: 100.0%;&quot;&gt;(&quot;&lt;b style=&#x27;font-size: 18px; &#x27;&gt;Habana 61&lt;/b&gt;&lt;br&gt;Direccion: Calle Habana #61 entre Peña Pobre y Cuarteles&quot;, &quot;Especialidades: [&#x27;Mixta&#x27;]&quot;)&lt;/div&gt;`)[0];\n",
       "                popup_9d222de5a354facbb1d0e0b0ed21128d.setContent(html_186bb85aae75ecf92930d95fa4de09b6);\n",
       "            \n",
       "        \n",
       "\n",
       "        marker_ad67a3fcd83ef0f7316454657f0a93bf.bindPopup(popup_9d222de5a354facbb1d0e0b0ed21128d)\n",
       "        ;\n",
       "\n",
       "        \n",
       "    \n",
       "    \n",
       "            var marker_127edc45b8b6d7301a2b09736019588d = L.marker(\n",
       "                [23.13923764561611, -82.3885387467372],\n",
       "                {\n",
       "}\n",
       "            ).addTo(map_7f5ed2f3d7f5669ce524652a5c024be3);\n",
       "        \n",
       "    \n",
       "            var icon_dc09078f60866e4d6bf6d67ea5cf0989 = L.AwesomeMarkers.icon(\n",
       "                {\n",
       "  &quot;markerColor&quot;: &quot;red&quot;,\n",
       "  &quot;iconColor&quot;: &quot;white&quot;,\n",
       "  &quot;icon&quot;: &quot;cutlery&quot;,\n",
       "  &quot;prefix&quot;: &quot;fa&quot;,\n",
       "  &quot;extraClasses&quot;: &quot;fa-rotate-0&quot;,\n",
       "}\n",
       "            );\n",
       "            marker_127edc45b8b6d7301a2b09736019588d.setIcon(icon_dc09078f60866e4d6bf6d67ea5cf0989);\n",
       "        \n",
       "    \n",
       "        var popup_55d6f5174c1b70011a5d29f912cb7259 = L.popup({\n",
       "  &quot;maxWidth&quot;: &quot;100%&quot;,\n",
       "});\n",
       "\n",
       "        \n",
       "            \n",
       "                var html_1ad9cc97f47367ac061bd35b0bc1f5bd = $(`&lt;div id=&quot;html_1ad9cc97f47367ac061bd35b0bc1f5bd&quot; style=&quot;width: 100.0%; height: 100.0%;&quot;&gt;(&quot;&lt;b style=&#x27;font-size: 18px; &#x27;&gt;Habana Blues&lt;/b&gt;&lt;br&gt;Direccion: Calle H no. 405 entre 17 y 19, Vedado&quot;, &quot;Especialidades: [&#x27;Comida caribeña&#x27;, &#x27;latina&#x27;, &#x27;criolla&#x27;, &#x27;cubana&#x27;]&quot;)&lt;/div&gt;`)[0];\n",
       "                popup_55d6f5174c1b70011a5d29f912cb7259.setContent(html_1ad9cc97f47367ac061bd35b0bc1f5bd);\n",
       "            \n",
       "        \n",
       "\n",
       "        marker_127edc45b8b6d7301a2b09736019588d.bindPopup(popup_55d6f5174c1b70011a5d29f912cb7259)\n",
       "        ;\n",
       "\n",
       "        \n",
       "    \n",
       "    \n",
       "            var marker_1619710634c9eeb6ff24eb3e963e894f = L.marker(\n",
       "                [23.137436298849373, -82.3563168151748],\n",
       "                {\n",
       "}\n",
       "            ).addTo(map_7f5ed2f3d7f5669ce524652a5c024be3);\n",
       "        \n",
       "    \n",
       "            var icon_e735208a5e422d0df89b653a77cd1b39 = L.AwesomeMarkers.icon(\n",
       "                {\n",
       "  &quot;markerColor&quot;: &quot;red&quot;,\n",
       "  &quot;iconColor&quot;: &quot;white&quot;,\n",
       "  &quot;icon&quot;: &quot;cutlery&quot;,\n",
       "  &quot;prefix&quot;: &quot;fa&quot;,\n",
       "  &quot;extraClasses&quot;: &quot;fa-rotate-0&quot;,\n",
       "}\n",
       "            );\n",
       "            marker_1619710634c9eeb6ff24eb3e963e894f.setIcon(icon_e735208a5e422d0df89b653a77cd1b39);\n",
       "        \n",
       "    \n",
       "        var popup_11b6b95402d4fb550496b73ccc30fdb3 = L.popup({\n",
       "  &quot;maxWidth&quot;: &quot;100%&quot;,\n",
       "});\n",
       "\n",
       "        \n",
       "            \n",
       "                var html_4516820d6b4c06168934a504360007d0 = $(`&lt;div id=&quot;html_4516820d6b4c06168934a504360007d0&quot; style=&quot;width: 100.0%; height: 100.0%;&quot;&gt;(&quot;&lt;b style=&#x27;font-size: 18px; &#x27;&gt;Habana Tokio&lt;/b&gt;&lt;br&gt;Direccion: Calle Obrapía entre Bernaza y Villegas&quot;, &quot;Especialidades: [&#x27;Japonesa&#x27;]&quot;)&lt;/div&gt;`)[0];\n",
       "                popup_11b6b95402d4fb550496b73ccc30fdb3.setContent(html_4516820d6b4c06168934a504360007d0);\n",
       "            \n",
       "        \n",
       "\n",
       "        marker_1619710634c9eeb6ff24eb3e963e894f.bindPopup(popup_11b6b95402d4fb550496b73ccc30fdb3)\n",
       "        ;\n",
       "\n",
       "        \n",
       "    \n",
       "    \n",
       "            var marker_584afde8928e2990ce490c267c56c232 = L.marker(\n",
       "                [23.131252647235588, -82.37457288968206],\n",
       "                {\n",
       "}\n",
       "            ).addTo(map_7f5ed2f3d7f5669ce524652a5c024be3);\n",
       "        \n",
       "    \n",
       "            var icon_64f4820566d91250aecb18015f775c9b = L.AwesomeMarkers.icon(\n",
       "                {\n",
       "  &quot;markerColor&quot;: &quot;red&quot;,\n",
       "  &quot;iconColor&quot;: &quot;white&quot;,\n",
       "  &quot;icon&quot;: &quot;cutlery&quot;,\n",
       "  &quot;prefix&quot;: &quot;fa&quot;,\n",
       "  &quot;extraClasses&quot;: &quot;fa-rotate-0&quot;,\n",
       "}\n",
       "            );\n",
       "            marker_584afde8928e2990ce490c267c56c232.setIcon(icon_64f4820566d91250aecb18015f775c9b);\n",
       "        \n",
       "    \n",
       "        var popup_96b5ac1df2f0dcda1b9e87a054c01a90 = L.popup({\n",
       "  &quot;maxWidth&quot;: &quot;100%&quot;,\n",
       "});\n",
       "\n",
       "        \n",
       "            \n",
       "                var html_a5f726d42f6cf0a5775b3db9de0a9b11 = $(`&lt;div id=&quot;html_a5f726d42f6cf0a5775b3db9de0a9b11&quot; style=&quot;width: 100.0%; height: 100.0%;&quot;&gt;(&quot;&lt;b style=&#x27;font-size: 18px; &#x27;&gt;Hamburgo&lt;/b&gt;&lt;br&gt;Direccion: Carlos III entre Retiro y Arbol Seco&quot;, &quot;Especialidades: [&#x27;americana&#x27;]&quot;)&lt;/div&gt;`)[0];\n",
       "                popup_96b5ac1df2f0dcda1b9e87a054c01a90.setContent(html_a5f726d42f6cf0a5775b3db9de0a9b11);\n",
       "            \n",
       "        \n",
       "\n",
       "        marker_584afde8928e2990ce490c267c56c232.bindPopup(popup_96b5ac1df2f0dcda1b9e87a054c01a90)\n",
       "        ;\n",
       "\n",
       "        \n",
       "    \n",
       "    \n",
       "            var marker_49cc9f8b10940cdbddd511092a639e97 = L.marker(\n",
       "                [23.0881096622714, -82.36848083672511],\n",
       "                {\n",
       "}\n",
       "            ).addTo(map_7f5ed2f3d7f5669ce524652a5c024be3);\n",
       "        \n",
       "    \n",
       "            var icon_b42f64a394eb2b9f7188994a806dab73 = L.AwesomeMarkers.icon(\n",
       "                {\n",
       "  &quot;markerColor&quot;: &quot;red&quot;,\n",
       "  &quot;iconColor&quot;: &quot;white&quot;,\n",
       "  &quot;icon&quot;: &quot;cutlery&quot;,\n",
       "  &quot;prefix&quot;: &quot;fa&quot;,\n",
       "  &quot;extraClasses&quot;: &quot;fa-rotate-0&quot;,\n",
       "}\n",
       "            );\n",
       "            marker_49cc9f8b10940cdbddd511092a639e97.setIcon(icon_b42f64a394eb2b9f7188994a806dab73);\n",
       "        \n",
       "    \n",
       "        var popup_7eaa8e09e0604d3457d67ec82731e8c7 = L.popup({\n",
       "  &quot;maxWidth&quot;: &quot;100%&quot;,\n",
       "});\n",
       "\n",
       "        \n",
       "            \n",
       "                var html_228e1e03ba43be815557f06374bf7b80 = $(`&lt;div id=&quot;html_228e1e03ba43be815557f06374bf7b80&quot; style=&quot;width: 100.0%; height: 100.0%;&quot;&gt;(&quot;&lt;b style=&#x27;font-size: 18px; &#x27;&gt;Heredia&lt;/b&gt;&lt;br&gt;Direccion: Calle Heredia % Avenida Acosta y O&#x27;Farril&quot;, &#x27;Especialidades: []&#x27;)&lt;/div&gt;`)[0];\n",
       "                popup_7eaa8e09e0604d3457d67ec82731e8c7.setContent(html_228e1e03ba43be815557f06374bf7b80);\n",
       "            \n",
       "        \n",
       "\n",
       "        marker_49cc9f8b10940cdbddd511092a639e97.bindPopup(popup_7eaa8e09e0604d3457d67ec82731e8c7)\n",
       "        ;\n",
       "\n",
       "        \n",
       "    \n",
       "    \n",
       "            var marker_1140d78f7ff52c7d79fe74e61346ed54 = L.marker(\n",
       "                [23.101888417856312, -82.43068882213893],\n",
       "                {\n",
       "}\n",
       "            ).addTo(map_7f5ed2f3d7f5669ce524652a5c024be3);\n",
       "        \n",
       "    \n",
       "            var icon_3d013916a4f0b66b9ca1570bef3de35a = L.AwesomeMarkers.icon(\n",
       "                {\n",
       "  &quot;markerColor&quot;: &quot;red&quot;,\n",
       "  &quot;iconColor&quot;: &quot;white&quot;,\n",
       "  &quot;icon&quot;: &quot;cutlery&quot;,\n",
       "  &quot;prefix&quot;: &quot;fa&quot;,\n",
       "  &quot;extraClasses&quot;: &quot;fa-rotate-0&quot;,\n",
       "}\n",
       "            );\n",
       "            marker_1140d78f7ff52c7d79fe74e61346ed54.setIcon(icon_3d013916a4f0b66b9ca1570bef3de35a);\n",
       "        \n",
       "    \n",
       "        var popup_67811bc37a2d5cca3e363d6ed44a40fa = L.popup({\n",
       "  &quot;maxWidth&quot;: &quot;100%&quot;,\n",
       "});\n",
       "\n",
       "        \n",
       "            \n",
       "                var html_263b2f6cfe569799337aec5540b5afba = $(`&lt;div id=&quot;html_263b2f6cfe569799337aec5540b5afba&quot; style=&quot;width: 100.0%; height: 100.0%;&quot;&gt;(&quot;&lt;b style=&#x27;font-size: 18px; &#x27;&gt;Home Deli&lt;/b&gt;&lt;br&gt;Direccion: 19&quot;, &quot;Especialidades: [&#x27;italiana&#x27;]&quot;)&lt;/div&gt;`)[0];\n",
       "                popup_67811bc37a2d5cca3e363d6ed44a40fa.setContent(html_263b2f6cfe569799337aec5540b5afba);\n",
       "            \n",
       "        \n",
       "\n",
       "        marker_1140d78f7ff52c7d79fe74e61346ed54.bindPopup(popup_67811bc37a2d5cca3e363d6ed44a40fa)\n",
       "        ;\n",
       "\n",
       "        \n",
       "    \n",
       "    \n",
       "            var marker_04cfd62ba3957f5e669a3788004118cc = L.marker(\n",
       "                [23.13499567642231, -82.37838807795364],\n",
       "                {\n",
       "}\n",
       "            ).addTo(map_7f5ed2f3d7f5669ce524652a5c024be3);\n",
       "        \n",
       "    \n",
       "            var icon_61f887f7eb6cd6f77cdee6dd0064a06e = L.AwesomeMarkers.icon(\n",
       "                {\n",
       "  &quot;markerColor&quot;: &quot;red&quot;,\n",
       "  &quot;iconColor&quot;: &quot;white&quot;,\n",
       "  &quot;icon&quot;: &quot;cutlery&quot;,\n",
       "  &quot;prefix&quot;: &quot;fa&quot;,\n",
       "  &quot;extraClasses&quot;: &quot;fa-rotate-0&quot;,\n",
       "}\n",
       "            );\n",
       "            marker_04cfd62ba3957f5e669a3788004118cc.setIcon(icon_61f887f7eb6cd6f77cdee6dd0064a06e);\n",
       "        \n",
       "    \n",
       "        var popup_256452f4c213e7056c25738d0c63808a = L.popup({\n",
       "  &quot;maxWidth&quot;: &quot;100%&quot;,\n",
       "});\n",
       "\n",
       "        \n",
       "            \n",
       "                var html_20e8910765cf0b18329502e89c8aee56 = $(`&lt;div id=&quot;html_20e8910765cf0b18329502e89c8aee56&quot; style=&quot;width: 100.0%; height: 100.0%;&quot;&gt;(&quot;&lt;b style=&#x27;font-size: 18px; &#x27;&gt;&lt;/b&gt;&lt;br&gt;Direccion: Infanta 560&quot;, &quot;Especialidades: [&#x27;italiana&#x27;]&quot;)&lt;/div&gt;`)[0];\n",
       "                popup_256452f4c213e7056c25738d0c63808a.setContent(html_20e8910765cf0b18329502e89c8aee56);\n",
       "            \n",
       "        \n",
       "\n",
       "        marker_04cfd62ba3957f5e669a3788004118cc.bindPopup(popup_256452f4c213e7056c25738d0c63808a)\n",
       "        ;\n",
       "\n",
       "        \n",
       "    \n",
       "    \n",
       "            var marker_286466152163f2c8d9f6c25499620d62 = L.marker(\n",
       "                [23.166623898573555, -82.27753889194905],\n",
       "                {\n",
       "}\n",
       "            ).addTo(map_7f5ed2f3d7f5669ce524652a5c024be3);\n",
       "        \n",
       "    \n",
       "            var icon_fcb42ae180d64345242622175e29cfb4 = L.AwesomeMarkers.icon(\n",
       "                {\n",
       "  &quot;markerColor&quot;: &quot;red&quot;,\n",
       "  &quot;iconColor&quot;: &quot;white&quot;,\n",
       "  &quot;icon&quot;: &quot;cutlery&quot;,\n",
       "  &quot;prefix&quot;: &quot;fa&quot;,\n",
       "  &quot;extraClasses&quot;: &quot;fa-rotate-0&quot;,\n",
       "}\n",
       "            );\n",
       "            marker_286466152163f2c8d9f6c25499620d62.setIcon(icon_fcb42ae180d64345242622175e29cfb4);\n",
       "        \n",
       "    \n",
       "        var popup_ef3ad097c172cd2ccacc6f77de7d5f5a = L.popup({\n",
       "  &quot;maxWidth&quot;: &quot;100%&quot;,\n",
       "});\n",
       "\n",
       "        \n",
       "            \n",
       "                var html_91cce94279e1e7c1d18f9f31e25c6d8d = $(`&lt;div id=&quot;html_91cce94279e1e7c1d18f9f31e25c6d8d&quot; style=&quot;width: 100.0%; height: 100.0%;&quot;&gt;(&quot;&lt;b style=&#x27;font-size: 18px; &#x27;&gt;Jackfe&lt;/b&gt;&lt;br&gt;Direccion: Calle 164B, #3B01, Esquina 3ra B, Mercado de los Rusos, zona 1, Alamar&quot;, &quot;Especialidades: [&#x27;Comida mixta&#x27;]&quot;)&lt;/div&gt;`)[0];\n",
       "                popup_ef3ad097c172cd2ccacc6f77de7d5f5a.setContent(html_91cce94279e1e7c1d18f9f31e25c6d8d);\n",
       "            \n",
       "        \n",
       "\n",
       "        marker_286466152163f2c8d9f6c25499620d62.bindPopup(popup_ef3ad097c172cd2ccacc6f77de7d5f5a)\n",
       "        ;\n",
       "\n",
       "        \n",
       "    \n",
       "    \n",
       "            var marker_98fe58ba190f7fbf022aee6ccf00979d = L.marker(\n",
       "                [23.140066946343797, -82.35321025582338],\n",
       "                {\n",
       "}\n",
       "            ).addTo(map_7f5ed2f3d7f5669ce524652a5c024be3);\n",
       "        \n",
       "    \n",
       "            var icon_0c78cabf654ab46284f225540951fa7a = L.AwesomeMarkers.icon(\n",
       "                {\n",
       "  &quot;markerColor&quot;: &quot;red&quot;,\n",
       "  &quot;iconColor&quot;: &quot;white&quot;,\n",
       "  &quot;icon&quot;: &quot;cutlery&quot;,\n",
       "  &quot;prefix&quot;: &quot;fa&quot;,\n",
       "  &quot;extraClasses&quot;: &quot;fa-rotate-0&quot;,\n",
       "}\n",
       "            );\n",
       "            marker_98fe58ba190f7fbf022aee6ccf00979d.setIcon(icon_0c78cabf654ab46284f225540951fa7a);\n",
       "        \n",
       "    \n",
       "        var popup_26d0974ad0ba296674f9111d05b18f69 = L.popup({\n",
       "  &quot;maxWidth&quot;: &quot;100%&quot;,\n",
       "});\n",
       "\n",
       "        \n",
       "            \n",
       "                var html_2342b6f6fc3e71809f3c1dc6fdc1dad3 = $(`&lt;div id=&quot;html_2342b6f6fc3e71809f3c1dc6fdc1dad3&quot; style=&quot;width: 100.0%; height: 100.0%;&quot;&gt;(&quot;&lt;b style=&#x27;font-size: 18px; &#x27;&gt;JAMA Asian Food&lt;/b&gt;&lt;br&gt;Direccion: Calle Aguiar No 251 B entre OReilly y Empedrado&quot;, &quot;Especialidades: [&#x27;Comida Japonesa&#x27;, &#x27;Sushi&#x27;, &#x27;Asiática&#x27;]&quot;)&lt;/div&gt;`)[0];\n",
       "                popup_26d0974ad0ba296674f9111d05b18f69.setContent(html_2342b6f6fc3e71809f3c1dc6fdc1dad3);\n",
       "            \n",
       "        \n",
       "\n",
       "        marker_98fe58ba190f7fbf022aee6ccf00979d.bindPopup(popup_26d0974ad0ba296674f9111d05b18f69)\n",
       "        ;\n",
       "\n",
       "        \n",
       "    \n",
       "    \n",
       "            var marker_4470d88f9c68fa0a2f0e59155040e0e2 = L.marker(\n",
       "                [23.088147890970745, -82.37788683401902],\n",
       "                {\n",
       "}\n",
       "            ).addTo(map_7f5ed2f3d7f5669ce524652a5c024be3);\n",
       "        \n",
       "    \n",
       "            var icon_dd51c9bb3700999e23972cd11f6c5aca = L.AwesomeMarkers.icon(\n",
       "                {\n",
       "  &quot;markerColor&quot;: &quot;red&quot;,\n",
       "  &quot;iconColor&quot;: &quot;white&quot;,\n",
       "  &quot;icon&quot;: &quot;cutlery&quot;,\n",
       "  &quot;prefix&quot;: &quot;fa&quot;,\n",
       "  &quot;extraClasses&quot;: &quot;fa-rotate-0&quot;,\n",
       "}\n",
       "            );\n",
       "            marker_4470d88f9c68fa0a2f0e59155040e0e2.setIcon(icon_dd51c9bb3700999e23972cd11f6c5aca);\n",
       "        \n",
       "    \n",
       "        var popup_b70531745df18ef60cc4afd402e07150 = L.popup({\n",
       "  &quot;maxWidth&quot;: &quot;100%&quot;,\n",
       "});\n",
       "\n",
       "        \n",
       "            \n",
       "                var html_83421a9b3a16f963e1117f9a369953f5 = $(`&lt;div id=&quot;html_83421a9b3a16f963e1117f9a369953f5&quot; style=&quot;width: 100.0%; height: 100.0%;&quot;&gt;(&quot;&lt;b style=&#x27;font-size: 18px; &#x27;&gt;Joe&#x27;s Burguer&lt;/b&gt;&lt;br&gt;Direccion: Esquina Mayia Rodriguez y Aranguren&quot;, &quot;Especialidades: [&#x27;americana&#x27;, &#x27;internacional&#x27;]&quot;)&lt;/div&gt;`)[0];\n",
       "                popup_b70531745df18ef60cc4afd402e07150.setContent(html_83421a9b3a16f963e1117f9a369953f5);\n",
       "            \n",
       "        \n",
       "\n",
       "        marker_4470d88f9c68fa0a2f0e59155040e0e2.bindPopup(popup_b70531745df18ef60cc4afd402e07150)\n",
       "        ;\n",
       "\n",
       "        \n",
       "    \n",
       "    \n",
       "            var marker_47630ac7d233ef44d2f340cea0f883f6 = L.marker(\n",
       "                [23.12090996621169, -82.37354001445844],\n",
       "                {\n",
       "}\n",
       "            ).addTo(map_7f5ed2f3d7f5669ce524652a5c024be3);\n",
       "        \n",
       "    \n",
       "            var icon_cc5b8ad2530bbf2e60f406eaf99f52b4 = L.AwesomeMarkers.icon(\n",
       "                {\n",
       "  &quot;markerColor&quot;: &quot;red&quot;,\n",
       "  &quot;iconColor&quot;: &quot;white&quot;,\n",
       "  &quot;icon&quot;: &quot;cutlery&quot;,\n",
       "  &quot;prefix&quot;: &quot;fa&quot;,\n",
       "  &quot;extraClasses&quot;: &quot;fa-rotate-0&quot;,\n",
       "}\n",
       "            );\n",
       "            marker_47630ac7d233ef44d2f340cea0f883f6.setIcon(icon_cc5b8ad2530bbf2e60f406eaf99f52b4);\n",
       "        \n",
       "    \n",
       "        var popup_ccc0ef9b951625539697a61e5c1f7772 = L.popup({\n",
       "  &quot;maxWidth&quot;: &quot;100%&quot;,\n",
       "});\n",
       "\n",
       "        \n",
       "            \n",
       "                var html_32ee2b78d6e4263877e09a56de44250e = $(`&lt;div id=&quot;html_32ee2b78d6e4263877e09a56de44250e&quot; style=&quot;width: 100.0%; height: 100.0%;&quot;&gt;(&quot;&lt;b style=&#x27;font-size: 18px; &#x27;&gt;Jorgito&#x27;s Pizzas&lt;/b&gt;&lt;br&gt;Direccion: Pedroso entre Infanta y Cruz del Pader&quot;, &quot;Especialidades: [&#x27;italiana&#x27;]&quot;)&lt;/div&gt;`)[0];\n",
       "                popup_ccc0ef9b951625539697a61e5c1f7772.setContent(html_32ee2b78d6e4263877e09a56de44250e);\n",
       "            \n",
       "        \n",
       "\n",
       "        marker_47630ac7d233ef44d2f340cea0f883f6.bindPopup(popup_ccc0ef9b951625539697a61e5c1f7772)\n",
       "        ;\n",
       "\n",
       "        \n",
       "    \n",
       "    \n",
       "            var marker_f3a4df23695a47789754ce02186ae041 = L.marker(\n",
       "                [23.130003976381268, -82.41350459680528],\n",
       "                {\n",
       "}\n",
       "            ).addTo(map_7f5ed2f3d7f5669ce524652a5c024be3);\n",
       "        \n",
       "    \n",
       "            var icon_6e81257ae83a41bd146c8dd3474e8a2b = L.AwesomeMarkers.icon(\n",
       "                {\n",
       "  &quot;markerColor&quot;: &quot;red&quot;,\n",
       "  &quot;iconColor&quot;: &quot;white&quot;,\n",
       "  &quot;icon&quot;: &quot;cutlery&quot;,\n",
       "  &quot;prefix&quot;: &quot;fa&quot;,\n",
       "  &quot;extraClasses&quot;: &quot;fa-rotate-0&quot;,\n",
       "}\n",
       "            );\n",
       "            marker_f3a4df23695a47789754ce02186ae041.setIcon(icon_6e81257ae83a41bd146c8dd3474e8a2b);\n",
       "        \n",
       "    \n",
       "        var popup_2ce4751885d4be79a25e2be6600379da = L.popup({\n",
       "  &quot;maxWidth&quot;: &quot;100%&quot;,\n",
       "});\n",
       "\n",
       "        \n",
       "            \n",
       "                var html_5bf03b6ec2b6de858866398b8ce8b171 = $(`&lt;div id=&quot;html_5bf03b6ec2b6de858866398b8ce8b171&quot; style=&quot;width: 100.0%; height: 100.0%;&quot;&gt;(&quot;&lt;b style=&#x27;font-size: 18px; &#x27;&gt;Jota Jota&lt;/b&gt;&lt;br&gt;Direccion: Calle 0 entre 3ra y 5ta&quot;, &quot;Especialidades: [&#x27;italiana&#x27;]&quot;)&lt;/div&gt;`)[0];\n",
       "                popup_2ce4751885d4be79a25e2be6600379da.setContent(html_5bf03b6ec2b6de858866398b8ce8b171);\n",
       "            \n",
       "        \n",
       "\n",
       "        marker_f3a4df23695a47789754ce02186ae041.bindPopup(popup_2ce4751885d4be79a25e2be6600379da)\n",
       "        ;\n",
       "\n",
       "        \n",
       "    \n",
       "    \n",
       "            var marker_691d0a6dd83953328496d0878b4e7b4d = L.marker(\n",
       "                [23.07212815069161, -82.46031809008416],\n",
       "                {\n",
       "}\n",
       "            ).addTo(map_7f5ed2f3d7f5669ce524652a5c024be3);\n",
       "        \n",
       "    \n",
       "            var icon_9168581d91b9b0f85d7544441a0f08aa = L.AwesomeMarkers.icon(\n",
       "                {\n",
       "  &quot;markerColor&quot;: &quot;red&quot;,\n",
       "  &quot;iconColor&quot;: &quot;white&quot;,\n",
       "  &quot;icon&quot;: &quot;cutlery&quot;,\n",
       "  &quot;prefix&quot;: &quot;fa&quot;,\n",
       "  &quot;extraClasses&quot;: &quot;fa-rotate-0&quot;,\n",
       "}\n",
       "            );\n",
       "            marker_691d0a6dd83953328496d0878b4e7b4d.setIcon(icon_9168581d91b9b0f85d7544441a0f08aa);\n",
       "        \n",
       "    \n",
       "        var popup_ffd279171cf3d135c5dac1719fbca493 = L.popup({\n",
       "  &quot;maxWidth&quot;: &quot;100%&quot;,\n",
       "});\n",
       "\n",
       "        \n",
       "            \n",
       "                var html_30f446c2f6cada7b8442b564c7b44c7d = $(`&lt;div id=&quot;html_30f446c2f6cada7b8442b564c7b44c7d&quot; style=&quot;width: 100.0%; height: 100.0%;&quot;&gt;(&quot;&lt;b style=&#x27;font-size: 18px; &#x27;&gt;Juanky&#x27;s Pan&lt;/b&gt;&lt;br&gt;Direccion: 23 A entre 202 y 212 Reparto la Coronela &quot;, &quot;Especialidades: [&#x27;sandwich&#x27;]&quot;)&lt;/div&gt;`)[0];\n",
       "                popup_ffd279171cf3d135c5dac1719fbca493.setContent(html_30f446c2f6cada7b8442b564c7b44c7d);\n",
       "            \n",
       "        \n",
       "\n",
       "        marker_691d0a6dd83953328496d0878b4e7b4d.bindPopup(popup_ffd279171cf3d135c5dac1719fbca493)\n",
       "        ;\n",
       "\n",
       "        \n",
       "    \n",
       "    \n",
       "            var marker_3c0720d1b6db30949200bfdcfb546f48 = L.marker(\n",
       "                [23.095284182284068, -82.36305903151953],\n",
       "                {\n",
       "}\n",
       "            ).addTo(map_7f5ed2f3d7f5669ce524652a5c024be3);\n",
       "        \n",
       "    \n",
       "            var icon_cec8e591b6d2d7dfdc7dbe789772e583 = L.AwesomeMarkers.icon(\n",
       "                {\n",
       "  &quot;markerColor&quot;: &quot;red&quot;,\n",
       "  &quot;iconColor&quot;: &quot;white&quot;,\n",
       "  &quot;icon&quot;: &quot;cutlery&quot;,\n",
       "  &quot;prefix&quot;: &quot;fa&quot;,\n",
       "  &quot;extraClasses&quot;: &quot;fa-rotate-0&quot;,\n",
       "}\n",
       "            );\n",
       "            marker_3c0720d1b6db30949200bfdcfb546f48.setIcon(icon_cec8e591b6d2d7dfdc7dbe789772e583);\n",
       "        \n",
       "    \n",
       "        var popup_d911ca753720b0420484c280997cb624 = L.popup({\n",
       "  &quot;maxWidth&quot;: &quot;100%&quot;,\n",
       "});\n",
       "\n",
       "        \n",
       "            \n",
       "                var html_a2e0867cdca18759ee0b3cb92dee59df = $(`&lt;div id=&quot;html_a2e0867cdca18759ee0b3cb92dee59df&quot; style=&quot;width: 100.0%; height: 100.0%;&quot;&gt;(&quot;&lt;b style=&#x27;font-size: 18px; &#x27;&gt;Kafe DVD&lt;/b&gt;&lt;br&gt;Direccion: San Francisco entre 10 de Octubre y Delicias&quot;, &quot;Especialidades: [&#x27;criolla&#x27;]&quot;)&lt;/div&gt;`)[0];\n",
       "                popup_d911ca753720b0420484c280997cb624.setContent(html_a2e0867cdca18759ee0b3cb92dee59df);\n",
       "            \n",
       "        \n",
       "\n",
       "        marker_3c0720d1b6db30949200bfdcfb546f48.bindPopup(popup_d911ca753720b0420484c280997cb624)\n",
       "        ;\n",
       "\n",
       "        \n",
       "    \n",
       "    \n",
       "            var marker_6279cd6e3c6521ba646fda235cb6f786 = L.marker(\n",
       "                [23.139549087699173, -82.3756494611986],\n",
       "                {\n",
       "}\n",
       "            ).addTo(map_7f5ed2f3d7f5669ce524652a5c024be3);\n",
       "        \n",
       "    \n",
       "            var icon_51924cd34bbd8443ef946b38399e9275 = L.AwesomeMarkers.icon(\n",
       "                {\n",
       "  &quot;markerColor&quot;: &quot;red&quot;,\n",
       "  &quot;iconColor&quot;: &quot;white&quot;,\n",
       "  &quot;icon&quot;: &quot;cutlery&quot;,\n",
       "  &quot;prefix&quot;: &quot;fa&quot;,\n",
       "  &quot;extraClasses&quot;: &quot;fa-rotate-0&quot;,\n",
       "}\n",
       "            );\n",
       "            marker_6279cd6e3c6521ba646fda235cb6f786.setIcon(icon_51924cd34bbd8443ef946b38399e9275);\n",
       "        \n",
       "    \n",
       "        var popup_21b70ce191a757792be3ec31d27d84ef = L.popup({\n",
       "  &quot;maxWidth&quot;: &quot;100%&quot;,\n",
       "});\n",
       "\n",
       "        \n",
       "            \n",
       "                var html_78d84225878cc93b980d7f82f5c7f173 = $(`&lt;div id=&quot;html_78d84225878cc93b980d7f82f5c7f173&quot; style=&quot;width: 100.0%; height: 100.0%;&quot;&gt;(&quot;&lt;b style=&#x27;font-size: 18px; &#x27;&gt;Kasa Takos&lt;/b&gt;&lt;br&gt;Direccion: Hospital y Aramburu, 966 entre San Lazaro&quot;, &quot;Especialidades: [&#x27;Comida caribeña&#x27;, &#x27;mexicana&#x27;, &#x27;cubana&#x27;]&quot;)&lt;/div&gt;`)[0];\n",
       "                popup_21b70ce191a757792be3ec31d27d84ef.setContent(html_78d84225878cc93b980d7f82f5c7f173);\n",
       "            \n",
       "        \n",
       "\n",
       "        marker_6279cd6e3c6521ba646fda235cb6f786.bindPopup(popup_21b70ce191a757792be3ec31d27d84ef)\n",
       "        ;\n",
       "\n",
       "        \n",
       "    \n",
       "    \n",
       "            var marker_6b4b784f9eb586787efa99cf01d1209d = L.marker(\n",
       "                [23.100196337428876, -82.36994932052565],\n",
       "                {\n",
       "}\n",
       "            ).addTo(map_7f5ed2f3d7f5669ce524652a5c024be3);\n",
       "        \n",
       "    \n",
       "            var icon_21c4020bc54ead3b57e2bbb7ce5cc895 = L.AwesomeMarkers.icon(\n",
       "                {\n",
       "  &quot;markerColor&quot;: &quot;red&quot;,\n",
       "  &quot;iconColor&quot;: &quot;white&quot;,\n",
       "  &quot;icon&quot;: &quot;cutlery&quot;,\n",
       "  &quot;prefix&quot;: &quot;fa&quot;,\n",
       "  &quot;extraClasses&quot;: &quot;fa-rotate-0&quot;,\n",
       "}\n",
       "            );\n",
       "            marker_6b4b784f9eb586787efa99cf01d1209d.setIcon(icon_21c4020bc54ead3b57e2bbb7ce5cc895);\n",
       "        \n",
       "    \n",
       "        var popup_8882db4c760825bf419138744bc512c2 = L.popup({\n",
       "  &quot;maxWidth&quot;: &quot;100%&quot;,\n",
       "});\n",
       "\n",
       "        \n",
       "            \n",
       "                var html_e6e443e81337a28e537f763ccd0cd2c7 = $(`&lt;div id=&quot;html_e6e443e81337a28e537f763ccd0cd2c7&quot; style=&quot;width: 100.0%; height: 100.0%;&quot;&gt;(&quot;&lt;b style=&#x27;font-size: 18px; &#x27;&gt;Kimera&lt;/b&gt;&lt;br&gt;Direccion: #311, Calle Lacret entre Juan Bruno Zallas y Cortina, Santos Suarez&quot;, &quot;Especialidades: [&#x27;internaciona&#x27;, &#x27;cubana&#x27;, &#x27;italiana&#x27;]&quot;)&lt;/div&gt;`)[0];\n",
       "                popup_8882db4c760825bf419138744bc512c2.setContent(html_e6e443e81337a28e537f763ccd0cd2c7);\n",
       "            \n",
       "        \n",
       "\n",
       "        marker_6b4b784f9eb586787efa99cf01d1209d.bindPopup(popup_8882db4c760825bf419138744bc512c2)\n",
       "        ;\n",
       "\n",
       "        \n",
       "    \n",
       "    \n",
       "            var marker_f3651cdb3f3b8b7d78f87f7156916cdd = L.marker(\n",
       "                [23.07982261108124, -82.32043410333418],\n",
       "                {\n",
       "}\n",
       "            ).addTo(map_7f5ed2f3d7f5669ce524652a5c024be3);\n",
       "        \n",
       "    \n",
       "            var icon_36aaf6989c944130073937f0829644de = L.AwesomeMarkers.icon(\n",
       "                {\n",
       "  &quot;markerColor&quot;: &quot;red&quot;,\n",
       "  &quot;iconColor&quot;: &quot;white&quot;,\n",
       "  &quot;icon&quot;: &quot;cutlery&quot;,\n",
       "  &quot;prefix&quot;: &quot;fa&quot;,\n",
       "  &quot;extraClasses&quot;: &quot;fa-rotate-0&quot;,\n",
       "}\n",
       "            );\n",
       "            marker_f3651cdb3f3b8b7d78f87f7156916cdd.setIcon(icon_36aaf6989c944130073937f0829644de);\n",
       "        \n",
       "    \n",
       "        var popup_d569e2e7b1493e8f1852088768802e68 = L.popup({\n",
       "  &quot;maxWidth&quot;: &quot;100%&quot;,\n",
       "});\n",
       "\n",
       "        \n",
       "            \n",
       "                var html_75280075d2a62db0263a699618d9e862 = $(`&lt;div id=&quot;html_75280075d2a62db0263a699618d9e862&quot; style=&quot;width: 100.0%; height: 100.0%;&quot;&gt;(&quot;&lt;b style=&#x27;font-size: 18px; &#x27;&gt;KY-13&lt;/b&gt;&lt;br&gt;Direccion: Calzada de guines #45 e/ 13 y 23 AMP. San Matias&quot;, &quot;Especialidades: [&#x27;criolla&#x27;, &#x27;italiana&#x27;]&quot;)&lt;/div&gt;`)[0];\n",
       "                popup_d569e2e7b1493e8f1852088768802e68.setContent(html_75280075d2a62db0263a699618d9e862);\n",
       "            \n",
       "        \n",
       "\n",
       "        marker_f3651cdb3f3b8b7d78f87f7156916cdd.bindPopup(popup_d569e2e7b1493e8f1852088768802e68)\n",
       "        ;\n",
       "\n",
       "        \n",
       "    \n",
       "    \n",
       "            var marker_55a3d9ec28275cc5d25dfeb6ba41eb7c = L.marker(\n",
       "                [23.06738029017932, -82.46823262236785],\n",
       "                {\n",
       "}\n",
       "            ).addTo(map_7f5ed2f3d7f5669ce524652a5c024be3);\n",
       "        \n",
       "    \n",
       "            var icon_4c920615765a5b607377c73571e8be00 = L.AwesomeMarkers.icon(\n",
       "                {\n",
       "  &quot;markerColor&quot;: &quot;red&quot;,\n",
       "  &quot;iconColor&quot;: &quot;white&quot;,\n",
       "  &quot;icon&quot;: &quot;cutlery&quot;,\n",
       "  &quot;prefix&quot;: &quot;fa&quot;,\n",
       "  &quot;extraClasses&quot;: &quot;fa-rotate-0&quot;,\n",
       "}\n",
       "            );\n",
       "            marker_55a3d9ec28275cc5d25dfeb6ba41eb7c.setIcon(icon_4c920615765a5b607377c73571e8be00);\n",
       "        \n",
       "    \n",
       "        var popup_ff50b948b9a2f26779f07bde47e98f43 = L.popup({\n",
       "  &quot;maxWidth&quot;: &quot;100%&quot;,\n",
       "});\n",
       "\n",
       "        \n",
       "            \n",
       "                var html_eaeebdb69012238dc262c8086141c55b = $(`&lt;div id=&quot;html_eaeebdb69012238dc262c8086141c55b&quot; style=&quot;width: 100.0%; height: 100.0%;&quot;&gt;(&quot;&lt;b style=&#x27;font-size: 18px; &#x27;&gt;La Baliza&lt;/b&gt;&lt;br&gt;Direccion: Entre avenida 23 y 23 A&quot;, &quot;Especialidades: [&#x27;americana&#x27;, &#x27;italiana&#x27;]&quot;)&lt;/div&gt;`)[0];\n",
       "                popup_ff50b948b9a2f26779f07bde47e98f43.setContent(html_eaeebdb69012238dc262c8086141c55b);\n",
       "            \n",
       "        \n",
       "\n",
       "        marker_55a3d9ec28275cc5d25dfeb6ba41eb7c.bindPopup(popup_ff50b948b9a2f26779f07bde47e98f43)\n",
       "        ;\n",
       "\n",
       "        \n",
       "    \n",
       "    \n",
       "            var marker_d61573d6357a383c9d1891b71ebb38d6 = L.marker(\n",
       "                [23.14013425278987, -82.3482903668532],\n",
       "                {\n",
       "}\n",
       "            ).addTo(map_7f5ed2f3d7f5669ce524652a5c024be3);\n",
       "        \n",
       "    \n",
       "            var icon_6f99793298de9398fcfd3786a6132cff = L.AwesomeMarkers.icon(\n",
       "                {\n",
       "  &quot;markerColor&quot;: &quot;red&quot;,\n",
       "  &quot;iconColor&quot;: &quot;white&quot;,\n",
       "  &quot;icon&quot;: &quot;cutlery&quot;,\n",
       "  &quot;prefix&quot;: &quot;fa&quot;,\n",
       "  &quot;extraClasses&quot;: &quot;fa-rotate-0&quot;,\n",
       "}\n",
       "            );\n",
       "            marker_d61573d6357a383c9d1891b71ebb38d6.setIcon(icon_6f99793298de9398fcfd3786a6132cff);\n",
       "        \n",
       "    \n",
       "        var popup_d451ba224c352faa94c498c56109f153 = L.popup({\n",
       "  &quot;maxWidth&quot;: &quot;100%&quot;,\n",
       "});\n",
       "\n",
       "        \n",
       "            \n",
       "                var html_ee50aa22fed3973f915fa6901161e83e = $(`&lt;div id=&quot;html_ee50aa22fed3973f915fa6901161e83e&quot; style=&quot;width: 100.0%; height: 100.0%;&quot;&gt;(&quot;&lt;b style=&#x27;font-size: 18px; &#x27;&gt;La Barca&lt;/b&gt;&lt;br&gt;Direccion: Avenida del Puerto, esquina Obispo&quot;, &quot;Especialidades: [&#x27;Criolla&#x27;]&quot;)&lt;/div&gt;`)[0];\n",
       "                popup_d451ba224c352faa94c498c56109f153.setContent(html_ee50aa22fed3973f915fa6901161e83e);\n",
       "            \n",
       "        \n",
       "\n",
       "        marker_d61573d6357a383c9d1891b71ebb38d6.bindPopup(popup_d451ba224c352faa94c498c56109f153)\n",
       "        ;\n",
       "\n",
       "        \n",
       "    \n",
       "    \n",
       "            var marker_6fdc44fee2a744eb60149335fe619ae4 = L.marker(\n",
       "                [23.01984142812014, -82.48766936323709],\n",
       "                {\n",
       "}\n",
       "            ).addTo(map_7f5ed2f3d7f5669ce524652a5c024be3);\n",
       "        \n",
       "    \n",
       "            var icon_10735d51555f9d9091837d2dac4ec564 = L.AwesomeMarkers.icon(\n",
       "                {\n",
       "  &quot;markerColor&quot;: &quot;red&quot;,\n",
       "  &quot;iconColor&quot;: &quot;white&quot;,\n",
       "  &quot;icon&quot;: &quot;cutlery&quot;,\n",
       "  &quot;prefix&quot;: &quot;fa&quot;,\n",
       "  &quot;extraClasses&quot;: &quot;fa-rotate-0&quot;,\n",
       "}\n",
       "            );\n",
       "            marker_6fdc44fee2a744eb60149335fe619ae4.setIcon(icon_10735d51555f9d9091837d2dac4ec564);\n",
       "        \n",
       "    \n",
       "        var popup_3afce42ee5668d654583dd572b1fcb4c = L.popup({\n",
       "  &quot;maxWidth&quot;: &quot;100%&quot;,\n",
       "});\n",
       "\n",
       "        \n",
       "            \n",
       "                var html_a657f35e192d8e00a55841a24c75a74c = $(`&lt;div id=&quot;html_a657f35e192d8e00a55841a24c75a74c&quot; style=&quot;width: 100.0%; height: 100.0%;&quot;&gt;(&quot;&lt;b style=&#x27;font-size: 18px; &#x27;&gt;La casa del campesino&lt;/b&gt;&lt;br&gt;Direccion: Desconocida&quot;, &quot;Especialidades: [&#x27;cubana&#x27;]&quot;)&lt;/div&gt;`)[0];\n",
       "                popup_3afce42ee5668d654583dd572b1fcb4c.setContent(html_a657f35e192d8e00a55841a24c75a74c);\n",
       "            \n",
       "        \n",
       "\n",
       "        marker_6fdc44fee2a744eb60149335fe619ae4.bindPopup(popup_3afce42ee5668d654583dd572b1fcb4c)\n",
       "        ;\n",
       "\n",
       "        \n",
       "    \n",
       "    \n",
       "            var marker_2f1cea02de922f96702a896ed26fb122 = L.marker(\n",
       "                [23.14012116111188, -82.4018177339757],\n",
       "                {\n",
       "}\n",
       "            ).addTo(map_7f5ed2f3d7f5669ce524652a5c024be3);\n",
       "        \n",
       "    \n",
       "            var icon_93f9e76ab03803817b20f72d568e522b = L.AwesomeMarkers.icon(\n",
       "                {\n",
       "  &quot;markerColor&quot;: &quot;red&quot;,\n",
       "  &quot;iconColor&quot;: &quot;white&quot;,\n",
       "  &quot;icon&quot;: &quot;cutlery&quot;,\n",
       "  &quot;prefix&quot;: &quot;fa&quot;,\n",
       "  &quot;extraClasses&quot;: &quot;fa-rotate-0&quot;,\n",
       "}\n",
       "            );\n",
       "            marker_2f1cea02de922f96702a896ed26fb122.setIcon(icon_93f9e76ab03803817b20f72d568e522b);\n",
       "        \n",
       "    \n",
       "        var popup_7e125608ae59fbe42b127665b8777aab = L.popup({\n",
       "  &quot;maxWidth&quot;: &quot;100%&quot;,\n",
       "});\n",
       "\n",
       "        \n",
       "            \n",
       "                var html_5c0dead5a9ada40292b5c42804f1505a = $(`&lt;div id=&quot;html_5c0dead5a9ada40292b5c42804f1505a&quot; style=&quot;width: 100.0%; height: 100.0%;&quot;&gt;(&quot;&lt;b style=&#x27;font-size: 18px; &#x27;&gt;La Cocinita&lt;/b&gt;&lt;br&gt;Direccion: Paseo entre 1era y 3era, Vedado&quot;, &quot;Especialidades: [&#x27;Comida cubana&#x27;, &#x27;caribeña&#x27;, &#x27;latina&#x27;, &#x27;criolla&#x27;]&quot;)&lt;/div&gt;`)[0];\n",
       "                popup_7e125608ae59fbe42b127665b8777aab.setContent(html_5c0dead5a9ada40292b5c42804f1505a);\n",
       "            \n",
       "        \n",
       "\n",
       "        marker_2f1cea02de922f96702a896ed26fb122.bindPopup(popup_7e125608ae59fbe42b127665b8777aab)\n",
       "        ;\n",
       "\n",
       "        \n",
       "    \n",
       "    \n",
       "            var marker_430c0ac915f03f1ea86f4548ab867894 = L.marker(\n",
       "                [23.04493541439918, -82.26869240537707],\n",
       "                {\n",
       "}\n",
       "            ).addTo(map_7f5ed2f3d7f5669ce524652a5c024be3);\n",
       "        \n",
       "    \n",
       "            var icon_0ee96592215782d8dd8b38e20d468b24 = L.AwesomeMarkers.icon(\n",
       "                {\n",
       "  &quot;markerColor&quot;: &quot;red&quot;,\n",
       "  &quot;iconColor&quot;: &quot;white&quot;,\n",
       "  &quot;icon&quot;: &quot;cutlery&quot;,\n",
       "  &quot;prefix&quot;: &quot;fa&quot;,\n",
       "  &quot;extraClasses&quot;: &quot;fa-rotate-0&quot;,\n",
       "}\n",
       "            );\n",
       "            marker_430c0ac915f03f1ea86f4548ab867894.setIcon(icon_0ee96592215782d8dd8b38e20d468b24);\n",
       "        \n",
       "    \n",
       "        var popup_571eac5a60776d4a6e4c361ee63f9e82 = L.popup({\n",
       "  &quot;maxWidth&quot;: &quot;100%&quot;,\n",
       "});\n",
       "\n",
       "        \n",
       "            \n",
       "                var html_97b5609c58204decda8de8a8d7b92ee4 = $(`&lt;div id=&quot;html_97b5609c58204decda8de8a8d7b92ee4&quot; style=&quot;width: 100.0%; height: 100.0%;&quot;&gt;(&quot;&lt;b style=&#x27;font-size: 18px; &#x27;&gt;La esquinita del Cotorro&lt;/b&gt;&lt;br&gt;Direccion: Avenida 71&quot;, &quot;Especialidades: [&#x27;hamburguesas&#x27;]&quot;)&lt;/div&gt;`)[0];\n",
       "                popup_571eac5a60776d4a6e4c361ee63f9e82.setContent(html_97b5609c58204decda8de8a8d7b92ee4);\n",
       "            \n",
       "        \n",
       "\n",
       "        marker_430c0ac915f03f1ea86f4548ab867894.bindPopup(popup_571eac5a60776d4a6e4c361ee63f9e82)\n",
       "        ;\n",
       "\n",
       "        \n",
       "    \n",
       "    \n",
       "            var marker_073f66d78f0fab3774b34a94728cad2a = L.marker(\n",
       "                [23.105239302631222, -82.35788567449791],\n",
       "                {\n",
       "}\n",
       "            ).addTo(map_7f5ed2f3d7f5669ce524652a5c024be3);\n",
       "        \n",
       "    \n",
       "            var icon_41ea31e18e1b16f1ff7446dd3a90ea2c = L.AwesomeMarkers.icon(\n",
       "                {\n",
       "  &quot;markerColor&quot;: &quot;red&quot;,\n",
       "  &quot;iconColor&quot;: &quot;white&quot;,\n",
       "  &quot;icon&quot;: &quot;cutlery&quot;,\n",
       "  &quot;prefix&quot;: &quot;fa&quot;,\n",
       "  &quot;extraClasses&quot;: &quot;fa-rotate-0&quot;,\n",
       "}\n",
       "            );\n",
       "            marker_073f66d78f0fab3774b34a94728cad2a.setIcon(icon_41ea31e18e1b16f1ff7446dd3a90ea2c);\n",
       "        \n",
       "    \n",
       "        var popup_dced93a81d47308b3d8c427b99aa37ba = L.popup({\n",
       "  &quot;maxWidth&quot;: &quot;100%&quot;,\n",
       "});\n",
       "\n",
       "        \n",
       "            \n",
       "                var html_ba912904b105c687c08bfc19d59e8ecd = $(`&lt;div id=&quot;html_ba912904b105c687c08bfc19d59e8ecd&quot; style=&quot;width: 100.0%; height: 100.0%;&quot;&gt;(&quot;&lt;b style=&#x27;font-size: 18px; &#x27;&gt;La Fela&lt;/b&gt;&lt;br&gt;Direccion: #4, Nuestra Senora de Regla entre Remedios y Calzada de Luyano&quot;, &quot;Especialidades: [&#x27;cubana&#x27;, &#x27;italiana&#x27;]&quot;)&lt;/div&gt;`)[0];\n",
       "                popup_dced93a81d47308b3d8c427b99aa37ba.setContent(html_ba912904b105c687c08bfc19d59e8ecd);\n",
       "            \n",
       "        \n",
       "\n",
       "        marker_073f66d78f0fab3774b34a94728cad2a.bindPopup(popup_dced93a81d47308b3d8c427b99aa37ba)\n",
       "        ;\n",
       "\n",
       "        \n",
       "    \n",
       "    \n",
       "            var marker_66b8b9dc8f42cfbae0e7ccb86044dd7a = L.marker(\n",
       "                [23.088796529399392, -82.36067214699546],\n",
       "                {\n",
       "}\n",
       "            ).addTo(map_7f5ed2f3d7f5669ce524652a5c024be3);\n",
       "        \n",
       "    \n",
       "            var icon_698e029ece88741b48fc6d9ca1839b1f = L.AwesomeMarkers.icon(\n",
       "                {\n",
       "  &quot;markerColor&quot;: &quot;red&quot;,\n",
       "  &quot;iconColor&quot;: &quot;white&quot;,\n",
       "  &quot;icon&quot;: &quot;cutlery&quot;,\n",
       "  &quot;prefix&quot;: &quot;fa&quot;,\n",
       "  &quot;extraClasses&quot;: &quot;fa-rotate-0&quot;,\n",
       "}\n",
       "            );\n",
       "            marker_66b8b9dc8f42cfbae0e7ccb86044dd7a.setIcon(icon_698e029ece88741b48fc6d9ca1839b1f);\n",
       "        \n",
       "    \n",
       "        var popup_49685e90d00158776fcd532c0f11b371 = L.popup({\n",
       "  &quot;maxWidth&quot;: &quot;100%&quot;,\n",
       "});\n",
       "\n",
       "        \n",
       "            \n",
       "                var html_9266f2b997351db202e10af7ecabf45e = $(`&lt;div id=&quot;html_9266f2b997351db202e10af7ecabf45e&quot; style=&quot;width: 100.0%; height: 100.0%;&quot;&gt;(&quot;&lt;b style=&#x27;font-size: 18px; &#x27;&gt;La Fuente&lt;/b&gt;&lt;br&gt;Direccion: Calle Acosta e/ 5ta y 6ta. Vista Alegre, Víbora&quot;, &quot;Especialidades: [&#x27;cubana&#x27;, &#x27;internacional&#x27;]&quot;)&lt;/div&gt;`)[0];\n",
       "                popup_49685e90d00158776fcd532c0f11b371.setContent(html_9266f2b997351db202e10af7ecabf45e);\n",
       "            \n",
       "        \n",
       "\n",
       "        marker_66b8b9dc8f42cfbae0e7ccb86044dd7a.bindPopup(popup_49685e90d00158776fcd532c0f11b371)\n",
       "        ;\n",
       "\n",
       "        \n",
       "    \n",
       "    \n",
       "            var marker_8d4e1dee18276b8289e831e6824a6673 = L.marker(\n",
       "                [23.07120986898905, -82.46001932800391],\n",
       "                {\n",
       "}\n",
       "            ).addTo(map_7f5ed2f3d7f5669ce524652a5c024be3);\n",
       "        \n",
       "    \n",
       "            var icon_dbf682b5388e0ff185a9fe87bac7d3db = L.AwesomeMarkers.icon(\n",
       "                {\n",
       "  &quot;markerColor&quot;: &quot;red&quot;,\n",
       "  &quot;iconColor&quot;: &quot;white&quot;,\n",
       "  &quot;icon&quot;: &quot;cutlery&quot;,\n",
       "  &quot;prefix&quot;: &quot;fa&quot;,\n",
       "  &quot;extraClasses&quot;: &quot;fa-rotate-0&quot;,\n",
       "}\n",
       "            );\n",
       "            marker_8d4e1dee18276b8289e831e6824a6673.setIcon(icon_dbf682b5388e0ff185a9fe87bac7d3db);\n",
       "        \n",
       "    \n",
       "        var popup_7db8bf3a7f9d7b52180c7df2ce8ea72c = L.popup({\n",
       "  &quot;maxWidth&quot;: &quot;100%&quot;,\n",
       "});\n",
       "\n",
       "        \n",
       "            \n",
       "                var html_825c4c6ef152ef2dff9e95c7bc87d331 = $(`&lt;div id=&quot;html_825c4c6ef152ef2dff9e95c7bc87d331&quot; style=&quot;width: 100.0%; height: 100.0%;&quot;&gt;(&quot;&lt;b style=&#x27;font-size: 18px; &#x27;&gt;La Mia Pizza&lt;/b&gt;&lt;br&gt;Direccion: 29 y 23A&quot;, &quot;Especialidades: [&#x27;italiana&#x27;]&quot;)&lt;/div&gt;`)[0];\n",
       "                popup_7db8bf3a7f9d7b52180c7df2ce8ea72c.setContent(html_825c4c6ef152ef2dff9e95c7bc87d331);\n",
       "            \n",
       "        \n",
       "\n",
       "        marker_8d4e1dee18276b8289e831e6824a6673.bindPopup(popup_7db8bf3a7f9d7b52180c7df2ce8ea72c)\n",
       "        ;\n",
       "\n",
       "        \n",
       "    \n",
       "    \n",
       "            var marker_f92fd5bba454b3bf10e34d9afe3f5b23 = L.marker(\n",
       "                [23.025265299543545, -82.46372134720235],\n",
       "                {\n",
       "}\n",
       "            ).addTo(map_7f5ed2f3d7f5669ce524652a5c024be3);\n",
       "        \n",
       "    \n",
       "            var icon_fb28f0ab28ef5ae34e5870ef15f17987 = L.AwesomeMarkers.icon(\n",
       "                {\n",
       "  &quot;markerColor&quot;: &quot;red&quot;,\n",
       "  &quot;iconColor&quot;: &quot;white&quot;,\n",
       "  &quot;icon&quot;: &quot;cutlery&quot;,\n",
       "  &quot;prefix&quot;: &quot;fa&quot;,\n",
       "  &quot;extraClasses&quot;: &quot;fa-rotate-0&quot;,\n",
       "}\n",
       "            );\n",
       "            marker_f92fd5bba454b3bf10e34d9afe3f5b23.setIcon(icon_fb28f0ab28ef5ae34e5870ef15f17987);\n",
       "        \n",
       "    \n",
       "        var popup_f475e3387ac3f93a4ec05fe7faa56b87 = L.popup({\n",
       "  &quot;maxWidth&quot;: &quot;100%&quot;,\n",
       "});\n",
       "\n",
       "        \n",
       "            \n",
       "                var html_c0e55dcf0dac21e9af51ff6159cd1b40 = $(`&lt;div id=&quot;html_c0e55dcf0dac21e9af51ff6159cd1b40&quot; style=&quot;width: 100.0%; height: 100.0%;&quot;&gt;(&quot;&lt;b style=&#x27;font-size: 18px; &#x27;&gt; La Novia&lt;/b&gt;&lt;br&gt;Direccion: Calle 51 entre 330 y 332 numero 33013, La novia del mediodia&quot;, &quot;Especialidades: [&#x27;Cubana&#x27;, &#x27;Italiana&#x27;, &#x27;criolla&#x27;]&quot;)&lt;/div&gt;`)[0];\n",
       "                popup_f475e3387ac3f93a4ec05fe7faa56b87.setContent(html_c0e55dcf0dac21e9af51ff6159cd1b40);\n",
       "            \n",
       "        \n",
       "\n",
       "        marker_f92fd5bba454b3bf10e34d9afe3f5b23.bindPopup(popup_f475e3387ac3f93a4ec05fe7faa56b87)\n",
       "        ;\n",
       "\n",
       "        \n",
       "    \n",
       "    \n",
       "            var marker_bf70c85a7312bea63267dd104fd7abaa = L.marker(\n",
       "                [23.090481747498764, -82.37664454717603],\n",
       "                {\n",
       "}\n",
       "            ).addTo(map_7f5ed2f3d7f5669ce524652a5c024be3);\n",
       "        \n",
       "    \n",
       "            var icon_bf5b492c7273784897a21b7964ecbc39 = L.AwesomeMarkers.icon(\n",
       "                {\n",
       "  &quot;markerColor&quot;: &quot;red&quot;,\n",
       "  &quot;iconColor&quot;: &quot;white&quot;,\n",
       "  &quot;icon&quot;: &quot;cutlery&quot;,\n",
       "  &quot;prefix&quot;: &quot;fa&quot;,\n",
       "  &quot;extraClasses&quot;: &quot;fa-rotate-0&quot;,\n",
       "}\n",
       "            );\n",
       "            marker_bf70c85a7312bea63267dd104fd7abaa.setIcon(icon_bf5b492c7273784897a21b7964ecbc39);\n",
       "        \n",
       "    \n",
       "        var popup_35c82f0133d8f11837aded59e4542863 = L.popup({\n",
       "  &quot;maxWidth&quot;: &quot;100%&quot;,\n",
       "});\n",
       "\n",
       "        \n",
       "            \n",
       "                var html_90db026af0ad41faf369ff516999d4af = $(`&lt;div id=&quot;html_90db026af0ad41faf369ff516999d4af&quot; style=&quot;width: 100.0%; height: 100.0%;&quot;&gt;(&quot;&lt;b style=&#x27;font-size: 18px; &#x27;&gt;La Patrona&lt;/b&gt;&lt;br&gt;Direccion: Calzada de Guines en San Francisco de Paula&quot;, &quot;Especialidades: [&#x27;misxta&#x27;]&quot;)&lt;/div&gt;`)[0];\n",
       "                popup_35c82f0133d8f11837aded59e4542863.setContent(html_90db026af0ad41faf369ff516999d4af);\n",
       "            \n",
       "        \n",
       "\n",
       "        marker_bf70c85a7312bea63267dd104fd7abaa.bindPopup(popup_35c82f0133d8f11837aded59e4542863)\n",
       "        ;\n",
       "\n",
       "        \n",
       "    \n",
       "    \n",
       "            var marker_e5b260c2cc58aa532732d1a4f76d467f = L.marker(\n",
       "                [23.10168916405231, -82.3749154033336],\n",
       "                {\n",
       "}\n",
       "            ).addTo(map_7f5ed2f3d7f5669ce524652a5c024be3);\n",
       "        \n",
       "    \n",
       "            var icon_81e13ab98b0ddbe57fa8690f38d5bb96 = L.AwesomeMarkers.icon(\n",
       "                {\n",
       "  &quot;markerColor&quot;: &quot;red&quot;,\n",
       "  &quot;iconColor&quot;: &quot;white&quot;,\n",
       "  &quot;icon&quot;: &quot;cutlery&quot;,\n",
       "  &quot;prefix&quot;: &quot;fa&quot;,\n",
       "  &quot;extraClasses&quot;: &quot;fa-rotate-0&quot;,\n",
       "}\n",
       "            );\n",
       "            marker_e5b260c2cc58aa532732d1a4f76d467f.setIcon(icon_81e13ab98b0ddbe57fa8690f38d5bb96);\n",
       "        \n",
       "    \n",
       "        var popup_1fd71119db59507504e67cb676f92c21 = L.popup({\n",
       "  &quot;maxWidth&quot;: &quot;100%&quot;,\n",
       "});\n",
       "\n",
       "        \n",
       "            \n",
       "                var html_57b8668094416455258287f2c2b819d2 = $(`&lt;div id=&quot;html_57b8668094416455258287f2c2b819d2&quot; style=&quot;width: 100.0%; height: 100.0%;&quot;&gt;(&quot;&lt;b style=&#x27;font-size: 18px; &#x27;&gt;Lacret 559&lt;/b&gt;&lt;br&gt;Direccion: Gral. Lacret entre Avenida Mayia Rodriguez y Goicuria&quot;, &quot;Especialidades: [&#x27;mixta&#x27;]&quot;)&lt;/div&gt;`)[0];\n",
       "                popup_1fd71119db59507504e67cb676f92c21.setContent(html_57b8668094416455258287f2c2b819d2);\n",
       "            \n",
       "        \n",
       "\n",
       "        marker_e5b260c2cc58aa532732d1a4f76d467f.bindPopup(popup_1fd71119db59507504e67cb676f92c21)\n",
       "        ;\n",
       "\n",
       "        \n",
       "    \n",
       "    \n",
       "            var marker_dd4ba73c9630f25b009d6abe29d67de3 = L.marker(\n",
       "                [23.089446250644617, -82.37695227313037],\n",
       "                {\n",
       "}\n",
       "            ).addTo(map_7f5ed2f3d7f5669ce524652a5c024be3);\n",
       "        \n",
       "    \n",
       "            var icon_8663d4f6c66e874fdc4735645fce4545 = L.AwesomeMarkers.icon(\n",
       "                {\n",
       "  &quot;markerColor&quot;: &quot;red&quot;,\n",
       "  &quot;iconColor&quot;: &quot;white&quot;,\n",
       "  &quot;icon&quot;: &quot;cutlery&quot;,\n",
       "  &quot;prefix&quot;: &quot;fa&quot;,\n",
       "  &quot;extraClasses&quot;: &quot;fa-rotate-0&quot;,\n",
       "}\n",
       "            );\n",
       "            marker_dd4ba73c9630f25b009d6abe29d67de3.setIcon(icon_8663d4f6c66e874fdc4735645fce4545);\n",
       "        \n",
       "    \n",
       "        var popup_6a5c6f3d94b50fa74ebb417735ce7ca7 = L.popup({\n",
       "  &quot;maxWidth&quot;: &quot;100%&quot;,\n",
       "});\n",
       "\n",
       "        \n",
       "            \n",
       "                var html_30e98b3a8ba3d7e936638a1a0099953a = $(`&lt;div id=&quot;html_30e98b3a8ba3d7e936638a1a0099953a&quot; style=&quot;width: 100.0%; height: 100.0%;&quot;&gt;(&quot;&lt;b style=&#x27;font-size: 18px; &#x27;&gt;Lateral&lt;/b&gt;&lt;br&gt;Direccion: Ave. Acosta #467, esq. Goicuría, Víbora&quot;, &quot;Especialidades: [&#x27;internacional&#x27;]&quot;)&lt;/div&gt;`)[0];\n",
       "                popup_6a5c6f3d94b50fa74ebb417735ce7ca7.setContent(html_30e98b3a8ba3d7e936638a1a0099953a);\n",
       "            \n",
       "        \n",
       "\n",
       "        marker_dd4ba73c9630f25b009d6abe29d67de3.bindPopup(popup_6a5c6f3d94b50fa74ebb417735ce7ca7)\n",
       "        ;\n",
       "\n",
       "        \n",
       "    \n",
       "    \n",
       "            var marker_cdb55e10ffe36511c47721e86d9e125e = L.marker(\n",
       "                [23.12193638525617, -82.37392744585779],\n",
       "                {\n",
       "}\n",
       "            ).addTo(map_7f5ed2f3d7f5669ce524652a5c024be3);\n",
       "        \n",
       "    \n",
       "            var icon_eba5c5fde57999d1038d9dab383c3eca = L.AwesomeMarkers.icon(\n",
       "                {\n",
       "  &quot;markerColor&quot;: &quot;red&quot;,\n",
       "  &quot;iconColor&quot;: &quot;white&quot;,\n",
       "  &quot;icon&quot;: &quot;cutlery&quot;,\n",
       "  &quot;prefix&quot;: &quot;fa&quot;,\n",
       "  &quot;extraClasses&quot;: &quot;fa-rotate-0&quot;,\n",
       "}\n",
       "            );\n",
       "            marker_cdb55e10ffe36511c47721e86d9e125e.setIcon(icon_eba5c5fde57999d1038d9dab383c3eca);\n",
       "        \n",
       "    \n",
       "        var popup_bdd13b991a444387c4e1612eb1bb4275 = L.popup({\n",
       "  &quot;maxWidth&quot;: &quot;100%&quot;,\n",
       "});\n",
       "\n",
       "        \n",
       "            \n",
       "                var html_af88507f4bdb1abf555358225eaafd66 = $(`&lt;div id=&quot;html_af88507f4bdb1abf555358225eaafd66&quot; style=&quot;width: 100.0%; height: 100.0%;&quot;&gt;(&quot;&lt;b style=&#x27;font-size: 18px; &#x27;&gt;La Barrita Onbazar&lt;/b&gt;&lt;br&gt;Direccion: Amenidad entre Cruz del Pader e Infanta&quot;, &quot;Especialidades: [&#x27;italiana&#x27;]&quot;)&lt;/div&gt;`)[0];\n",
       "                popup_bdd13b991a444387c4e1612eb1bb4275.setContent(html_af88507f4bdb1abf555358225eaafd66);\n",
       "            \n",
       "        \n",
       "\n",
       "        marker_cdb55e10ffe36511c47721e86d9e125e.bindPopup(popup_bdd13b991a444387c4e1612eb1bb4275)\n",
       "        ;\n",
       "\n",
       "        \n",
       "    \n",
       "    \n",
       "            var marker_c5d053d6ffda5a08da3dff04f303e69f = L.marker(\n",
       "                [23.109190666229015, -82.38277310352859],\n",
       "                {\n",
       "}\n",
       "            ).addTo(map_7f5ed2f3d7f5669ce524652a5c024be3);\n",
       "        \n",
       "    \n",
       "            var icon_744d1fc1aa4615fdec2a6986eabd989e = L.AwesomeMarkers.icon(\n",
       "                {\n",
       "  &quot;markerColor&quot;: &quot;red&quot;,\n",
       "  &quot;iconColor&quot;: &quot;white&quot;,\n",
       "  &quot;icon&quot;: &quot;cutlery&quot;,\n",
       "  &quot;prefix&quot;: &quot;fa&quot;,\n",
       "  &quot;extraClasses&quot;: &quot;fa-rotate-0&quot;,\n",
       "}\n",
       "            );\n",
       "            marker_c5d053d6ffda5a08da3dff04f303e69f.setIcon(icon_744d1fc1aa4615fdec2a6986eabd989e);\n",
       "        \n",
       "    \n",
       "        var popup_c40fcfe4583d8039a1c2d102a5c94c9b = L.popup({\n",
       "  &quot;maxWidth&quot;: &quot;100%&quot;,\n",
       "});\n",
       "\n",
       "        \n",
       "            \n",
       "                var html_2306c03f3c89b97546c01a0f024df8d2 = $(`&lt;div id=&quot;html_2306c03f3c89b97546c01a0f024df8d2&quot; style=&quot;width: 100.0%; height: 100.0%;&quot;&gt;(&quot;&lt;b style=&#x27;font-size: 18px; &#x27;&gt;La Casona del Cerro&lt;/b&gt;&lt;br&gt;Direccion: Calzada del Cerro entre Alzobispo y Penon&quot;, &quot;Especialidades: [&#x27;Comida Criolla&#x27;]&quot;)&lt;/div&gt;`)[0];\n",
       "                popup_c40fcfe4583d8039a1c2d102a5c94c9b.setContent(html_2306c03f3c89b97546c01a0f024df8d2);\n",
       "            \n",
       "        \n",
       "\n",
       "        marker_c5d053d6ffda5a08da3dff04f303e69f.bindPopup(popup_c40fcfe4583d8039a1c2d102a5c94c9b)\n",
       "        ;\n",
       "\n",
       "        \n",
       "    \n",
       "    \n",
       "            var marker_b5ed372d7595dbc3c9a2c260d9a134a1 = L.marker(\n",
       "                [23.104975882244233, -82.44258298436951],\n",
       "                {\n",
       "}\n",
       "            ).addTo(map_7f5ed2f3d7f5669ce524652a5c024be3);\n",
       "        \n",
       "    \n",
       "            var icon_8fe35a887c9441421979642ec8bd4c19 = L.AwesomeMarkers.icon(\n",
       "                {\n",
       "  &quot;markerColor&quot;: &quot;red&quot;,\n",
       "  &quot;iconColor&quot;: &quot;white&quot;,\n",
       "  &quot;icon&quot;: &quot;cutlery&quot;,\n",
       "  &quot;prefix&quot;: &quot;fa&quot;,\n",
       "  &quot;extraClasses&quot;: &quot;fa-rotate-0&quot;,\n",
       "}\n",
       "            );\n",
       "            marker_b5ed372d7595dbc3c9a2c260d9a134a1.setIcon(icon_8fe35a887c9441421979642ec8bd4c19);\n",
       "        \n",
       "    \n",
       "        var popup_9bf1eea7c8a1bde01566b8920cfd265e = L.popup({\n",
       "  &quot;maxWidth&quot;: &quot;100%&quot;,\n",
       "});\n",
       "\n",
       "        \n",
       "            \n",
       "                var html_352fd553b9713ba32a3710fa1eb82bfb = $(`&lt;div id=&quot;html_352fd553b9713ba32a3710fa1eb82bfb&quot; style=&quot;width: 100.0%; height: 100.0%;&quot;&gt;(&quot;&lt;b style=&#x27;font-size: 18px; &#x27;&gt;La Catrina&lt;/b&gt;&lt;br&gt;Direccion: 503 84&quot;, &quot;Especialidades: [&#x27;mexicana&#x27;]&quot;)&lt;/div&gt;`)[0];\n",
       "                popup_9bf1eea7c8a1bde01566b8920cfd265e.setContent(html_352fd553b9713ba32a3710fa1eb82bfb);\n",
       "            \n",
       "        \n",
       "\n",
       "        marker_b5ed372d7595dbc3c9a2c260d9a134a1.bindPopup(popup_9bf1eea7c8a1bde01566b8920cfd265e)\n",
       "        ;\n",
       "\n",
       "        \n",
       "    \n",
       "    \n",
       "            var marker_77edc792b0c536991a368a8a46e1e29c = L.marker(\n",
       "                [23.148019759241123, -82.35245541091525],\n",
       "                {\n",
       "}\n",
       "            ).addTo(map_7f5ed2f3d7f5669ce524652a5c024be3);\n",
       "        \n",
       "    \n",
       "            var icon_0e156d18cafad96f39da1a103747cfea = L.AwesomeMarkers.icon(\n",
       "                {\n",
       "  &quot;markerColor&quot;: &quot;red&quot;,\n",
       "  &quot;iconColor&quot;: &quot;white&quot;,\n",
       "  &quot;icon&quot;: &quot;cutlery&quot;,\n",
       "  &quot;prefix&quot;: &quot;fa&quot;,\n",
       "  &quot;extraClasses&quot;: &quot;fa-rotate-0&quot;,\n",
       "}\n",
       "            );\n",
       "            marker_77edc792b0c536991a368a8a46e1e29c.setIcon(icon_0e156d18cafad96f39da1a103747cfea);\n",
       "        \n",
       "    \n",
       "        var popup_3f5818c35372ec1fba020c8a15191a22 = L.popup({\n",
       "  &quot;maxWidth&quot;: &quot;100%&quot;,\n",
       "});\n",
       "\n",
       "        \n",
       "            \n",
       "                var html_d008ec55b9cb41f739163c62d00959c6 = $(`&lt;div id=&quot;html_d008ec55b9cb41f739163c62d00959c6&quot; style=&quot;width: 100.0%; height: 100.0%;&quot;&gt;(&quot;&lt;b style=&#x27;font-size: 18px; &#x27;&gt;La Divina Pastora&lt;/b&gt;&lt;br&gt;Direccion: Complejo Morro Cabana, Via Monumental&quot;, &quot;Especialidades: [&#x27;Cubana&#x27;, &#x27;criolla&#x27;]&quot;)&lt;/div&gt;`)[0];\n",
       "                popup_3f5818c35372ec1fba020c8a15191a22.setContent(html_d008ec55b9cb41f739163c62d00959c6);\n",
       "            \n",
       "        \n",
       "\n",
       "        marker_77edc792b0c536991a368a8a46e1e29c.bindPopup(popup_3f5818c35372ec1fba020c8a15191a22)\n",
       "        ;\n",
       "\n",
       "        \n",
       "    \n",
       "    \n",
       "            var marker_137086ce3ba3ee29c7cb7d29c0bfdca8 = L.marker(\n",
       "                [23.140853253946666, -82.35265198633945],\n",
       "                {\n",
       "}\n",
       "            ).addTo(map_7f5ed2f3d7f5669ce524652a5c024be3);\n",
       "        \n",
       "    \n",
       "            var icon_3302e7538ab219a943675f53975c2d3c = L.AwesomeMarkers.icon(\n",
       "                {\n",
       "  &quot;markerColor&quot;: &quot;red&quot;,\n",
       "  &quot;iconColor&quot;: &quot;white&quot;,\n",
       "  &quot;icon&quot;: &quot;cutlery&quot;,\n",
       "  &quot;prefix&quot;: &quot;fa&quot;,\n",
       "  &quot;extraClasses&quot;: &quot;fa-rotate-0&quot;,\n",
       "}\n",
       "            );\n",
       "            marker_137086ce3ba3ee29c7cb7d29c0bfdca8.setIcon(icon_3302e7538ab219a943675f53975c2d3c);\n",
       "        \n",
       "    \n",
       "        var popup_f09137f3a237dcafa1f0b1c2248f6e82 = L.popup({\n",
       "  &quot;maxWidth&quot;: &quot;100%&quot;,\n",
       "});\n",
       "\n",
       "        \n",
       "            \n",
       "                var html_e093b186db4fd7b06ddc31fb2361ddd6 = $(`&lt;div id=&quot;html_e093b186db4fd7b06ddc31fb2361ddd6&quot; style=&quot;width: 100.0%; height: 100.0%;&quot;&gt;(&quot;&lt;b style=&#x27;font-size: 18px; &#x27;&gt;La Esquina de Cuba&lt;/b&gt;&lt;br&gt;Direccion: Esquina de Calle Cuba y Empedrado&quot;, &quot;Especialidades: [&#x27;Comida mixta&#x27;]&quot;)&lt;/div&gt;`)[0];\n",
       "                popup_f09137f3a237dcafa1f0b1c2248f6e82.setContent(html_e093b186db4fd7b06ddc31fb2361ddd6);\n",
       "            \n",
       "        \n",
       "\n",
       "        marker_137086ce3ba3ee29c7cb7d29c0bfdca8.bindPopup(popup_f09137f3a237dcafa1f0b1c2248f6e82)\n",
       "        ;\n",
       "\n",
       "        \n",
       "    \n",
       "    \n",
       "            var marker_9310b9e07bedfd4c709afe9277260ed5 = L.marker(\n",
       "                [23.099899183973307, -82.37926905264563],\n",
       "                {\n",
       "}\n",
       "            ).addTo(map_7f5ed2f3d7f5669ce524652a5c024be3);\n",
       "        \n",
       "    \n",
       "            var icon_e2d0b4d05d0f7dd823dc6d0fe97936ce = L.AwesomeMarkers.icon(\n",
       "                {\n",
       "  &quot;markerColor&quot;: &quot;red&quot;,\n",
       "  &quot;iconColor&quot;: &quot;white&quot;,\n",
       "  &quot;icon&quot;: &quot;cutlery&quot;,\n",
       "  &quot;prefix&quot;: &quot;fa&quot;,\n",
       "  &quot;extraClasses&quot;: &quot;fa-rotate-0&quot;,\n",
       "}\n",
       "            );\n",
       "            marker_9310b9e07bedfd4c709afe9277260ed5.setIcon(icon_e2d0b4d05d0f7dd823dc6d0fe97936ce);\n",
       "        \n",
       "    \n",
       "        var popup_7bbebd6e2d45ab167cc585fad50e804e = L.popup({\n",
       "  &quot;maxWidth&quot;: &quot;100%&quot;,\n",
       "});\n",
       "\n",
       "        \n",
       "            \n",
       "                var html_b34c6fb104921343eccb253c1c2d53bf = $(`&lt;div id=&quot;html_b34c6fb104921343eccb253c1c2d53bf&quot; style=&quot;width: 100.0%; height: 100.0%;&quot;&gt;(&quot;&lt;b style=&#x27;font-size: 18px; &#x27;&gt;La Esquinita&lt;/b&gt;&lt;br&gt;Direccion: Juan Lefont entre Libertad y Johnson, Santos Suárez&quot;, &quot;Especialidades: [&#x27;criolla&#x27;, &#x27;cubana&#x27;, &#x27;italiana&#x27;]&quot;)&lt;/div&gt;`)[0];\n",
       "                popup_7bbebd6e2d45ab167cc585fad50e804e.setContent(html_b34c6fb104921343eccb253c1c2d53bf);\n",
       "            \n",
       "        \n",
       "\n",
       "        marker_9310b9e07bedfd4c709afe9277260ed5.bindPopup(popup_7bbebd6e2d45ab167cc585fad50e804e)\n",
       "        ;\n",
       "\n",
       "        \n",
       "    \n",
       "    \n",
       "            var marker_be10789bcd776379909fa18b22483060 = L.marker(\n",
       "                [23.131650837595345, -82.35778799003404],\n",
       "                {\n",
       "}\n",
       "            ).addTo(map_7f5ed2f3d7f5669ce524652a5c024be3);\n",
       "        \n",
       "    \n",
       "            var icon_754675caac9e27d34b868957fda2c0fe = L.AwesomeMarkers.icon(\n",
       "                {\n",
       "  &quot;markerColor&quot;: &quot;red&quot;,\n",
       "  &quot;iconColor&quot;: &quot;white&quot;,\n",
       "  &quot;icon&quot;: &quot;cutlery&quot;,\n",
       "  &quot;prefix&quot;: &quot;fa&quot;,\n",
       "  &quot;extraClasses&quot;: &quot;fa-rotate-0&quot;,\n",
       "}\n",
       "            );\n",
       "            marker_be10789bcd776379909fa18b22483060.setIcon(icon_754675caac9e27d34b868957fda2c0fe);\n",
       "        \n",
       "    \n",
       "        var popup_27e837062a79de4f3bc91315c3c4784e = L.popup({\n",
       "  &quot;maxWidth&quot;: &quot;100%&quot;,\n",
       "});\n",
       "\n",
       "        \n",
       "            \n",
       "                var html_716f63d280fe1f8b30e55eff8a3c2e1d = $(`&lt;div id=&quot;html_716f63d280fe1f8b30e55eff8a3c2e1d&quot; style=&quot;width: 100.0%; height: 100.0%;&quot;&gt;(&quot;&lt;b style=&#x27;font-size: 18px; &#x27;&gt;La Hamburguesita&lt;/b&gt;&lt;br&gt;Direccion: Calle Cienfuegos entre Apodaca y Gloria&quot;, &quot;Especialidades: [&#x27;Americana&#x27;]&quot;)&lt;/div&gt;`)[0];\n",
       "                popup_27e837062a79de4f3bc91315c3c4784e.setContent(html_716f63d280fe1f8b30e55eff8a3c2e1d);\n",
       "            \n",
       "        \n",
       "\n",
       "        marker_be10789bcd776379909fa18b22483060.bindPopup(popup_27e837062a79de4f3bc91315c3c4784e)\n",
       "        ;\n",
       "\n",
       "        \n",
       "    \n",
       "    \n",
       "            var marker_0f9b412df2744fbf1e72baa1928e849b = L.marker(\n",
       "                [23.13558286521522, -82.36431708633963],\n",
       "                {\n",
       "}\n",
       "            ).addTo(map_7f5ed2f3d7f5669ce524652a5c024be3);\n",
       "        \n",
       "    \n",
       "            var icon_09b7ff45e75aa32d5f1c97874d3235c7 = L.AwesomeMarkers.icon(\n",
       "                {\n",
       "  &quot;markerColor&quot;: &quot;red&quot;,\n",
       "  &quot;iconColor&quot;: &quot;white&quot;,\n",
       "  &quot;icon&quot;: &quot;cutlery&quot;,\n",
       "  &quot;prefix&quot;: &quot;fa&quot;,\n",
       "  &quot;extraClasses&quot;: &quot;fa-rotate-0&quot;,\n",
       "}\n",
       "            );\n",
       "            marker_0f9b412df2744fbf1e72baa1928e849b.setIcon(icon_09b7ff45e75aa32d5f1c97874d3235c7);\n",
       "        \n",
       "    \n",
       "        var popup_697c76a92f5b5eee77fc3de890bffa15 = L.popup({\n",
       "  &quot;maxWidth&quot;: &quot;100%&quot;,\n",
       "});\n",
       "\n",
       "        \n",
       "            \n",
       "                var html_c432c49ea218510ca92e3e84c9cd5a62 = $(`&lt;div id=&quot;html_c432c49ea218510ca92e3e84c9cd5a62&quot; style=&quot;width: 100.0%; height: 100.0%;&quot;&gt;(&quot;&lt;b style=&#x27;font-size: 18px; &#x27;&gt;La Juliana&lt;/b&gt;&lt;br&gt;Direccion: 210 San Nicolas&quot;, &quot;Especialidades: [&#x27;Comida caribeña&#x27;, &#x27;latina&#x27;, &#x27;cubana&#x27;]&quot;)&lt;/div&gt;`)[0];\n",
       "                popup_697c76a92f5b5eee77fc3de890bffa15.setContent(html_c432c49ea218510ca92e3e84c9cd5a62);\n",
       "            \n",
       "        \n",
       "\n",
       "        marker_0f9b412df2744fbf1e72baa1928e849b.bindPopup(popup_697c76a92f5b5eee77fc3de890bffa15)\n",
       "        ;\n",
       "\n",
       "        \n",
       "    \n",
       "    \n",
       "            var marker_7c0da3f997044b8cf67370e92dd29db8 = L.marker(\n",
       "                [23.121609415980522, -82.38347632186809],\n",
       "                {\n",
       "}\n",
       "            ).addTo(map_7f5ed2f3d7f5669ce524652a5c024be3);\n",
       "        \n",
       "    \n",
       "            var icon_558dce1d9f99f0c1fab338b968a41217 = L.AwesomeMarkers.icon(\n",
       "                {\n",
       "  &quot;markerColor&quot;: &quot;red&quot;,\n",
       "  &quot;iconColor&quot;: &quot;white&quot;,\n",
       "  &quot;icon&quot;: &quot;cutlery&quot;,\n",
       "  &quot;prefix&quot;: &quot;fa&quot;,\n",
       "  &quot;extraClasses&quot;: &quot;fa-rotate-0&quot;,\n",
       "}\n",
       "            );\n",
       "            marker_7c0da3f997044b8cf67370e92dd29db8.setIcon(icon_558dce1d9f99f0c1fab338b968a41217);\n",
       "        \n",
       "    \n",
       "        var popup_0a2153f5735a9e78075efdfc04255d81 = L.popup({\n",
       "  &quot;maxWidth&quot;: &quot;100%&quot;,\n",
       "});\n",
       "\n",
       "        \n",
       "            \n",
       "                var html_5141444f540816b0e839ba2eccf83c79 = $(`&lt;div id=&quot;html_5141444f540816b0e839ba2eccf83c79&quot; style=&quot;width: 100.0%; height: 100.0%;&quot;&gt;(&quot;&lt;b style=&#x27;font-size: 18px; &#x27;&gt;La Lola&lt;/b&gt;&lt;br&gt;Direccion: Calle Ayestaran entre San Pablo y Pedro Perez&quot;, &quot;Especialidades: [&#x27;italiana&#x27;]&quot;)&lt;/div&gt;`)[0];\n",
       "                popup_0a2153f5735a9e78075efdfc04255d81.setContent(html_5141444f540816b0e839ba2eccf83c79);\n",
       "            \n",
       "        \n",
       "\n",
       "        marker_7c0da3f997044b8cf67370e92dd29db8.bindPopup(popup_0a2153f5735a9e78075efdfc04255d81)\n",
       "        ;\n",
       "\n",
       "        \n",
       "    \n",
       "    \n",
       "            var marker_c211e059e1c509d7882507242674dcab = L.marker(\n",
       "                [23.124444713197114, -82.3275978168261],\n",
       "                {\n",
       "}\n",
       "            ).addTo(map_7f5ed2f3d7f5669ce524652a5c024be3);\n",
       "        \n",
       "    \n",
       "            var icon_b250ee5e1c6c4289e6387756588f53ba = L.AwesomeMarkers.icon(\n",
       "                {\n",
       "  &quot;markerColor&quot;: &quot;red&quot;,\n",
       "  &quot;iconColor&quot;: &quot;white&quot;,\n",
       "  &quot;icon&quot;: &quot;cutlery&quot;,\n",
       "  &quot;prefix&quot;: &quot;fa&quot;,\n",
       "  &quot;extraClasses&quot;: &quot;fa-rotate-0&quot;,\n",
       "}\n",
       "            );\n",
       "            marker_c211e059e1c509d7882507242674dcab.setIcon(icon_b250ee5e1c6c4289e6387756588f53ba);\n",
       "        \n",
       "    \n",
       "        var popup_b88d67b1e3c4debc944b83d47d3797a3 = L.popup({\n",
       "  &quot;maxWidth&quot;: &quot;100%&quot;,\n",
       "});\n",
       "\n",
       "        \n",
       "            \n",
       "                var html_4fcdb68b5e2bfa9a0ce2f58dfb76d54c = $(`&lt;div id=&quot;html_4fcdb68b5e2bfa9a0ce2f58dfb76d54c&quot; style=&quot;width: 100.0%; height: 100.0%;&quot;&gt;(&quot;&lt;b style=&#x27;font-size: 18px; &#x27;&gt;La Nueva Guitarreta&lt;/b&gt;&lt;br&gt;Direccion: Loredo y 24 de febrero&quot;, &quot;Especialidades: [&#x27;internacional&#x27;]&quot;)&lt;/div&gt;`)[0];\n",
       "                popup_b88d67b1e3c4debc944b83d47d3797a3.setContent(html_4fcdb68b5e2bfa9a0ce2f58dfb76d54c);\n",
       "            \n",
       "        \n",
       "\n",
       "        marker_c211e059e1c509d7882507242674dcab.bindPopup(popup_b88d67b1e3c4debc944b83d47d3797a3)\n",
       "        ;\n",
       "\n",
       "        \n",
       "    \n",
       "    \n",
       "            var marker_e1d83ab48e763c448e05e32321dbabe9 = L.marker(\n",
       "                [23.127100478844387, -82.39964090333302],\n",
       "                {\n",
       "}\n",
       "            ).addTo(map_7f5ed2f3d7f5669ce524652a5c024be3);\n",
       "        \n",
       "    \n",
       "            var icon_32f6adacc40777a67d0e5757b6a268a1 = L.AwesomeMarkers.icon(\n",
       "                {\n",
       "  &quot;markerColor&quot;: &quot;red&quot;,\n",
       "  &quot;iconColor&quot;: &quot;white&quot;,\n",
       "  &quot;icon&quot;: &quot;cutlery&quot;,\n",
       "  &quot;prefix&quot;: &quot;fa&quot;,\n",
       "  &quot;extraClasses&quot;: &quot;fa-rotate-0&quot;,\n",
       "}\n",
       "            );\n",
       "            marker_e1d83ab48e763c448e05e32321dbabe9.setIcon(icon_32f6adacc40777a67d0e5757b6a268a1);\n",
       "        \n",
       "    \n",
       "        var popup_cd6227c24dccc67b9f2dbd5d49a77152 = L.popup({\n",
       "  &quot;maxWidth&quot;: &quot;100%&quot;,\n",
       "});\n",
       "\n",
       "        \n",
       "            \n",
       "                var html_9394e15955fd936343dc2ff4dfe28f1a = $(`&lt;div id=&quot;html_9394e15955fd936343dc2ff4dfe28f1a&quot; style=&quot;width: 100.0%; height: 100.0%;&quot;&gt;(&quot;&lt;b style=&#x27;font-size: 18px; &#x27;&gt;La Pelota&lt;/b&gt;&lt;br&gt;Direccion: Esquina 23 y 12, Vedado&quot;, &quot;Especialidades: [&#x27;criolla&#x27;, &#x27;cubana&#x27;]&quot;)&lt;/div&gt;`)[0];\n",
       "                popup_cd6227c24dccc67b9f2dbd5d49a77152.setContent(html_9394e15955fd936343dc2ff4dfe28f1a);\n",
       "            \n",
       "        \n",
       "\n",
       "        marker_e1d83ab48e763c448e05e32321dbabe9.bindPopup(popup_cd6227c24dccc67b9f2dbd5d49a77152)\n",
       "        ;\n",
       "\n",
       "        \n",
       "    \n",
       "    \n",
       "            var marker_99eca83aecfc3bee39c2253e8f2aab0a = L.marker(\n",
       "                [23.105445368647896, -82.35839531190437],\n",
       "                {\n",
       "}\n",
       "            ).addTo(map_7f5ed2f3d7f5669ce524652a5c024be3);\n",
       "        \n",
       "    \n",
       "            var icon_f210ca4abbaa25f687d584bf7051a0df = L.AwesomeMarkers.icon(\n",
       "                {\n",
       "  &quot;markerColor&quot;: &quot;red&quot;,\n",
       "  &quot;iconColor&quot;: &quot;white&quot;,\n",
       "  &quot;icon&quot;: &quot;cutlery&quot;,\n",
       "  &quot;prefix&quot;: &quot;fa&quot;,\n",
       "  &quot;extraClasses&quot;: &quot;fa-rotate-0&quot;,\n",
       "}\n",
       "            );\n",
       "            marker_99eca83aecfc3bee39c2253e8f2aab0a.setIcon(icon_f210ca4abbaa25f687d584bf7051a0df);\n",
       "        \n",
       "    \n",
       "        var popup_2291e7d68baeeeea2d19e4cb146a1cc3 = L.popup({\n",
       "  &quot;maxWidth&quot;: &quot;100%&quot;,\n",
       "});\n",
       "\n",
       "        \n",
       "            \n",
       "                var html_31feca53a1e5d029e63810fa43929158 = $(`&lt;div id=&quot;html_31feca53a1e5d029e63810fa43929158&quot; style=&quot;width: 100.0%; height: 100.0%;&quot;&gt;(&quot;&lt;b style=&#x27;font-size: 18px; &#x27;&gt;La Ronda&lt;/b&gt;&lt;br&gt;Direccion: Callé Guasabacoa esquina Calzada de Luyanó&quot;, &quot;Especialidades: [&#x27;mixta&#x27;]&quot;)&lt;/div&gt;`)[0];\n",
       "                popup_2291e7d68baeeeea2d19e4cb146a1cc3.setContent(html_31feca53a1e5d029e63810fa43929158);\n",
       "            \n",
       "        \n",
       "\n",
       "        marker_99eca83aecfc3bee39c2253e8f2aab0a.bindPopup(popup_2291e7d68baeeeea2d19e4cb146a1cc3)\n",
       "        ;\n",
       "\n",
       "        \n",
       "    \n",
       "    \n",
       "            var marker_620c627b78ae563662ad6a142e99862f = L.marker(\n",
       "                [23.090815898809876, -82.37152132357363],\n",
       "                {\n",
       "}\n",
       "            ).addTo(map_7f5ed2f3d7f5669ce524652a5c024be3);\n",
       "        \n",
       "    \n",
       "            var icon_332ba5190e5b233b53e4d2d0c71c7174 = L.AwesomeMarkers.icon(\n",
       "                {\n",
       "  &quot;markerColor&quot;: &quot;red&quot;,\n",
       "  &quot;iconColor&quot;: &quot;white&quot;,\n",
       "  &quot;icon&quot;: &quot;cutlery&quot;,\n",
       "  &quot;prefix&quot;: &quot;fa&quot;,\n",
       "  &quot;extraClasses&quot;: &quot;fa-rotate-0&quot;,\n",
       "}\n",
       "            );\n",
       "            marker_620c627b78ae563662ad6a142e99862f.setIcon(icon_332ba5190e5b233b53e4d2d0c71c7174);\n",
       "        \n",
       "    \n",
       "        var popup_5f0c9148872cd360fa7c27118cd2155d = L.popup({\n",
       "  &quot;maxWidth&quot;: &quot;100%&quot;,\n",
       "});\n",
       "\n",
       "        \n",
       "            \n",
       "                var html_f7aa30351413063b1ec08cd532641c6f = $(`&lt;div id=&quot;html_f7aa30351413063b1ec08cd532641c6f&quot; style=&quot;width: 100.0%; height: 100.0%;&quot;&gt;(&quot;&lt;b style=&#x27;font-size: 18px; &#x27;&gt;La Rosa De Ortega&lt;/b&gt;&lt;br&gt;Direccion: Patrocinio #252 esq. a Juan Bruno Zayas&quot;, &quot;Especialidades: [&#x27;cubana&#x27;, &#x27;criolla&#x27;, &#x27;internacional&#x27;, &#x27;italiana&#x27;]&quot;)&lt;/div&gt;`)[0];\n",
       "                popup_5f0c9148872cd360fa7c27118cd2155d.setContent(html_f7aa30351413063b1ec08cd532641c6f);\n",
       "            \n",
       "        \n",
       "\n",
       "        marker_620c627b78ae563662ad6a142e99862f.bindPopup(popup_5f0c9148872cd360fa7c27118cd2155d)\n",
       "        ;\n",
       "\n",
       "        \n",
       "    \n",
       "    \n",
       "            var marker_86e315d524304aab24b5f084cfca3521 = L.marker(\n",
       "                [23.16729576315332, -82.29561634288147],\n",
       "                {\n",
       "}\n",
       "            ).addTo(map_7f5ed2f3d7f5669ce524652a5c024be3);\n",
       "        \n",
       "    \n",
       "            var icon_217c3c56e45edb3c69fcb8086dd7fa65 = L.AwesomeMarkers.icon(\n",
       "                {\n",
       "  &quot;markerColor&quot;: &quot;red&quot;,\n",
       "  &quot;iconColor&quot;: &quot;white&quot;,\n",
       "  &quot;icon&quot;: &quot;cutlery&quot;,\n",
       "  &quot;prefix&quot;: &quot;fa&quot;,\n",
       "  &quot;extraClasses&quot;: &quot;fa-rotate-0&quot;,\n",
       "}\n",
       "            );\n",
       "            marker_86e315d524304aab24b5f084cfca3521.setIcon(icon_217c3c56e45edb3c69fcb8086dd7fa65);\n",
       "        \n",
       "    \n",
       "        var popup_76be573d462f491531c97802eca8bb43 = L.popup({\n",
       "  &quot;maxWidth&quot;: &quot;100%&quot;,\n",
       "});\n",
       "\n",
       "        \n",
       "            \n",
       "                var html_298bc6061e5383889d59cb489459cf69 = $(`&lt;div id=&quot;html_298bc6061e5383889d59cb489459cf69&quot; style=&quot;width: 100.0%; height: 100.0%;&quot;&gt;(&quot;&lt;b style=&#x27;font-size: 18px; &#x27;&gt;La ruta de Hemingway&lt;/b&gt;&lt;br&gt;Direccion: Calle Real entre Victoria y Marcos, Cojimar&quot;, &#x27;Especialidades: []&#x27;)&lt;/div&gt;`)[0];\n",
       "                popup_76be573d462f491531c97802eca8bb43.setContent(html_298bc6061e5383889d59cb489459cf69);\n",
       "            \n",
       "        \n",
       "\n",
       "        marker_86e315d524304aab24b5f084cfca3521.bindPopup(popup_76be573d462f491531c97802eca8bb43)\n",
       "        ;\n",
       "\n",
       "        \n",
       "    \n",
       "    \n",
       "            var marker_fcdaaeb99a8b42808e4274f440bf7408 = L.marker(\n",
       "                [23.139151699462953, -82.35008075935141],\n",
       "                {\n",
       "}\n",
       "            ).addTo(map_7f5ed2f3d7f5669ce524652a5c024be3);\n",
       "        \n",
       "    \n",
       "            var icon_44dfc1a56122b7bf4ea668f26e5f838b = L.AwesomeMarkers.icon(\n",
       "                {\n",
       "  &quot;markerColor&quot;: &quot;red&quot;,\n",
       "  &quot;iconColor&quot;: &quot;white&quot;,\n",
       "  &quot;icon&quot;: &quot;cutlery&quot;,\n",
       "  &quot;prefix&quot;: &quot;fa&quot;,\n",
       "  &quot;extraClasses&quot;: &quot;fa-rotate-0&quot;,\n",
       "}\n",
       "            );\n",
       "            marker_fcdaaeb99a8b42808e4274f440bf7408.setIcon(icon_44dfc1a56122b7bf4ea668f26e5f838b);\n",
       "        \n",
       "    \n",
       "        var popup_167c1aab51a0f9e8621ffe73074f9c7f = L.popup({\n",
       "  &quot;maxWidth&quot;: &quot;100%&quot;,\n",
       "});\n",
       "\n",
       "        \n",
       "            \n",
       "                var html_a46b6cfe807c08d47dfa3f509e2ef1df = $(`&lt;div id=&quot;html_a46b6cfe807c08d47dfa3f509e2ef1df&quot; style=&quot;width: 100.0%; height: 100.0%;&quot;&gt;(&quot;&lt;b style=&#x27;font-size: 18px; &#x27;&gt;La Torre De Marfil&lt;/b&gt;&lt;br&gt;Direccion: Calle Mercaderes entre Obispo y Obrapia&quot;, &quot;Especialidades: [&#x27;China&#x27;, &#x27;Caribeña&#x27;, &#x27;Mediterránea&#x27;, &#x27;Cubana&#x27;]&quot;)&lt;/div&gt;`)[0];\n",
       "                popup_167c1aab51a0f9e8621ffe73074f9c7f.setContent(html_a46b6cfe807c08d47dfa3f509e2ef1df);\n",
       "            \n",
       "        \n",
       "\n",
       "        marker_fcdaaeb99a8b42808e4274f440bf7408.bindPopup(popup_167c1aab51a0f9e8621ffe73074f9c7f)\n",
       "        ;\n",
       "\n",
       "        \n",
       "    \n",
       "    \n",
       "            var marker_91d04e44005d8a81440d66512f3f287c = L.marker(\n",
       "                [23.13552900516459, -82.3502524323634],\n",
       "                {\n",
       "}\n",
       "            ).addTo(map_7f5ed2f3d7f5669ce524652a5c024be3);\n",
       "        \n",
       "    \n",
       "            var icon_39a21787dee9e96c93b29462d5bd1363 = L.AwesomeMarkers.icon(\n",
       "                {\n",
       "  &quot;markerColor&quot;: &quot;red&quot;,\n",
       "  &quot;iconColor&quot;: &quot;white&quot;,\n",
       "  &quot;icon&quot;: &quot;cutlery&quot;,\n",
       "  &quot;prefix&quot;: &quot;fa&quot;,\n",
       "  &quot;extraClasses&quot;: &quot;fa-rotate-0&quot;,\n",
       "}\n",
       "            );\n",
       "            marker_91d04e44005d8a81440d66512f3f287c.setIcon(icon_39a21787dee9e96c93b29462d5bd1363);\n",
       "        \n",
       "    \n",
       "        var popup_60cdecf99451bc8ddb6849c8824496c5 = L.popup({\n",
       "  &quot;maxWidth&quot;: &quot;100%&quot;,\n",
       "});\n",
       "\n",
       "        \n",
       "            \n",
       "                var html_68d08410d73679e046eec3a95ba93553 = $(`&lt;div id=&quot;html_68d08410d73679e046eec3a95ba93553&quot; style=&quot;width: 100.0%; height: 100.0%;&quot;&gt;(&quot;&lt;b style=&#x27;font-size: 18px; &#x27;&gt;La Vitrola&lt;/b&gt;&lt;br&gt;Direccion: Plaza Vieja entre Muralla y San Ignacio&quot;, &quot;Especialidades: [&#x27;Comida mixta&#x27;]&quot;)&lt;/div&gt;`)[0];\n",
       "                popup_60cdecf99451bc8ddb6849c8824496c5.setContent(html_68d08410d73679e046eec3a95ba93553);\n",
       "            \n",
       "        \n",
       "\n",
       "        marker_91d04e44005d8a81440d66512f3f287c.bindPopup(popup_60cdecf99451bc8ddb6849c8824496c5)\n",
       "        ;\n",
       "\n",
       "        \n",
       "    \n",
       "    \n",
       "            var marker_7dd00ee9cd288ca9904d729fbeac1d2d = L.marker(\n",
       "                [23.081201100821605, -82.4216785238977],\n",
       "                {\n",
       "}\n",
       "            ).addTo(map_7f5ed2f3d7f5669ce524652a5c024be3);\n",
       "        \n",
       "    \n",
       "            var icon_b081f9aadc9edea88c48d4e5013af5fe = L.AwesomeMarkers.icon(\n",
       "                {\n",
       "  &quot;markerColor&quot;: &quot;red&quot;,\n",
       "  &quot;iconColor&quot;: &quot;white&quot;,\n",
       "  &quot;icon&quot;: &quot;cutlery&quot;,\n",
       "  &quot;prefix&quot;: &quot;fa&quot;,\n",
       "  &quot;extraClasses&quot;: &quot;fa-rotate-0&quot;,\n",
       "}\n",
       "            );\n",
       "            marker_7dd00ee9cd288ca9904d729fbeac1d2d.setIcon(icon_b081f9aadc9edea88c48d4e5013af5fe);\n",
       "        \n",
       "    \n",
       "        var popup_3634c5d232e0d2a46871c600be21d272 = L.popup({\n",
       "  &quot;maxWidth&quot;: &quot;100%&quot;,\n",
       "});\n",
       "\n",
       "        \n",
       "            \n",
       "                var html_1375a02a288d8169a22eb67d918ccb0a = $(`&lt;div id=&quot;html_1375a02a288d8169a22eb67d918ccb0a&quot; style=&quot;width: 100.0%; height: 100.0%;&quot;&gt;(&quot;&lt;b style=&#x27;font-size: 18px; &#x27;&gt;La Yuya&lt;/b&gt;&lt;br&gt;Direccion: 100 Y 51&quot;, &quot;Especialidades: [&#x27;mixta&#x27;]&quot;)&lt;/div&gt;`)[0];\n",
       "                popup_3634c5d232e0d2a46871c600be21d272.setContent(html_1375a02a288d8169a22eb67d918ccb0a);\n",
       "            \n",
       "        \n",
       "\n",
       "        marker_7dd00ee9cd288ca9904d729fbeac1d2d.bindPopup(popup_3634c5d232e0d2a46871c600be21d272)\n",
       "        ;\n",
       "\n",
       "        \n",
       "    \n",
       "    \n",
       "            var marker_e01918fa115d443b6dd1ee46d1026f70 = L.marker(\n",
       "                [23.119269806423606, -82.3720336019368],\n",
       "                {\n",
       "}\n",
       "            ).addTo(map_7f5ed2f3d7f5669ce524652a5c024be3);\n",
       "        \n",
       "    \n",
       "            var icon_bb6fa89dd525ed665548b1f27d4ba3e6 = L.AwesomeMarkers.icon(\n",
       "                {\n",
       "  &quot;markerColor&quot;: &quot;red&quot;,\n",
       "  &quot;iconColor&quot;: &quot;white&quot;,\n",
       "  &quot;icon&quot;: &quot;cutlery&quot;,\n",
       "  &quot;prefix&quot;: &quot;fa&quot;,\n",
       "  &quot;extraClasses&quot;: &quot;fa-rotate-0&quot;,\n",
       "}\n",
       "            );\n",
       "            marker_e01918fa115d443b6dd1ee46d1026f70.setIcon(icon_bb6fa89dd525ed665548b1f27d4ba3e6);\n",
       "        \n",
       "    \n",
       "        var popup_1a3c473961ab364bb66034b93b91a2c6 = L.popup({\n",
       "  &quot;maxWidth&quot;: &quot;100%&quot;,\n",
       "});\n",
       "\n",
       "        \n",
       "            \n",
       "                var html_bc3239887e1340a134c10e3c61bc9441 = $(`&lt;div id=&quot;html_bc3239887e1340a134c10e3c61bc9441&quot; style=&quot;width: 100.0%; height: 100.0%;&quot;&gt;(&quot;&lt;b style=&#x27;font-size: 18px; &#x27;&gt;Leyendhabana&lt;/b&gt;&lt;br&gt;Direccion: Calle Santa Rosa No. 217 e/ Infanta y Cruz del Padre&quot;, &quot;Especialidades: [&#x27;Comida Caribena&#x27;]&quot;)&lt;/div&gt;`)[0];\n",
       "                popup_1a3c473961ab364bb66034b93b91a2c6.setContent(html_bc3239887e1340a134c10e3c61bc9441);\n",
       "            \n",
       "        \n",
       "\n",
       "        marker_e01918fa115d443b6dd1ee46d1026f70.bindPopup(popup_1a3c473961ab364bb66034b93b91a2c6)\n",
       "        ;\n",
       "\n",
       "        \n",
       "    \n",
       "    \n",
       "            var marker_7b35c4390d7a89e024831d3245e3b54f = L.marker(\n",
       "                [23.070410939396403, -82.45756089679794],\n",
       "                {\n",
       "}\n",
       "            ).addTo(map_7f5ed2f3d7f5669ce524652a5c024be3);\n",
       "        \n",
       "    \n",
       "            var icon_a9d558f4d052cfa7c8559540777c14af = L.AwesomeMarkers.icon(\n",
       "                {\n",
       "  &quot;markerColor&quot;: &quot;red&quot;,\n",
       "  &quot;iconColor&quot;: &quot;white&quot;,\n",
       "  &quot;icon&quot;: &quot;cutlery&quot;,\n",
       "  &quot;prefix&quot;: &quot;fa&quot;,\n",
       "  &quot;extraClasses&quot;: &quot;fa-rotate-0&quot;,\n",
       "}\n",
       "            );\n",
       "            marker_7b35c4390d7a89e024831d3245e3b54f.setIcon(icon_a9d558f4d052cfa7c8559540777c14af);\n",
       "        \n",
       "    \n",
       "        var popup_dc2ecf6ff2a7a2d161fa87b1187bbc27 = L.popup({\n",
       "  &quot;maxWidth&quot;: &quot;100%&quot;,\n",
       "});\n",
       "\n",
       "        \n",
       "            \n",
       "                var html_d21d9f69ef4fc1694ae0ff41a5d6bd2c = $(`&lt;div id=&quot;html_d21d9f69ef4fc1694ae0ff41a5d6bd2c&quot; style=&quot;width: 100.0%; height: 100.0%;&quot;&gt;(&quot;&lt;b style=&#x27;font-size: 18px; &#x27;&gt;LKG&lt;/b&gt;&lt;br&gt;Direccion: Desconocida&quot;, &quot;Especialidades: [&#x27;caribeña&#x27;]&quot;)&lt;/div&gt;`)[0];\n",
       "                popup_dc2ecf6ff2a7a2d161fa87b1187bbc27.setContent(html_d21d9f69ef4fc1694ae0ff41a5d6bd2c);\n",
       "            \n",
       "        \n",
       "\n",
       "        marker_7b35c4390d7a89e024831d3245e3b54f.bindPopup(popup_dc2ecf6ff2a7a2d161fa87b1187bbc27)\n",
       "        ;\n",
       "\n",
       "        \n",
       "    \n",
       "    \n",
       "            var marker_b89b100786f727c89e4ed56907e7388a = L.marker(\n",
       "                [23.062581992389248, -82.36383374585894],\n",
       "                {\n",
       "}\n",
       "            ).addTo(map_7f5ed2f3d7f5669ce524652a5c024be3);\n",
       "        \n",
       "    \n",
       "            var icon_114b392ffab4396603f8956439a88558 = L.AwesomeMarkers.icon(\n",
       "                {\n",
       "  &quot;markerColor&quot;: &quot;red&quot;,\n",
       "  &quot;iconColor&quot;: &quot;white&quot;,\n",
       "  &quot;icon&quot;: &quot;cutlery&quot;,\n",
       "  &quot;prefix&quot;: &quot;fa&quot;,\n",
       "  &quot;extraClasses&quot;: &quot;fa-rotate-0&quot;,\n",
       "}\n",
       "            );\n",
       "            marker_b89b100786f727c89e4ed56907e7388a.setIcon(icon_114b392ffab4396603f8956439a88558);\n",
       "        \n",
       "    \n",
       "        var popup_e3089c03edd58200755cf68a907bf45c = L.popup({\n",
       "  &quot;maxWidth&quot;: &quot;100%&quot;,\n",
       "});\n",
       "\n",
       "        \n",
       "            \n",
       "                var html_e61c940deda3e930b078814170341fe1 = $(`&lt;div id=&quot;html_e61c940deda3e930b078814170341fe1&quot; style=&quot;width: 100.0%; height: 100.0%;&quot;&gt;(&quot;&lt;b style=&#x27;font-size: 18px; &#x27;&gt;Los Atrevidos&lt;/b&gt;&lt;br&gt;Direccion: Calzada de Bejucal # 2639 e/ Estrella y Camilo Sierra&quot;, &quot;Especialidades: [&#x27;Italiana&#x27;]&quot;)&lt;/div&gt;`)[0];\n",
       "                popup_e3089c03edd58200755cf68a907bf45c.setContent(html_e61c940deda3e930b078814170341fe1);\n",
       "            \n",
       "        \n",
       "\n",
       "        marker_b89b100786f727c89e4ed56907e7388a.bindPopup(popup_e3089c03edd58200755cf68a907bf45c)\n",
       "        ;\n",
       "\n",
       "        \n",
       "    \n",
       "    \n",
       "            var marker_db1c48ceaff49abe76e5a772e0c94975 = L.marker(\n",
       "                [23.055831349044627, -82.33552695732365],\n",
       "                {\n",
       "}\n",
       "            ).addTo(map_7f5ed2f3d7f5669ce524652a5c024be3);\n",
       "        \n",
       "    \n",
       "            var icon_187f5ce84f37dc9c76182618f65cdb85 = L.AwesomeMarkers.icon(\n",
       "                {\n",
       "  &quot;markerColor&quot;: &quot;red&quot;,\n",
       "  &quot;iconColor&quot;: &quot;white&quot;,\n",
       "  &quot;icon&quot;: &quot;cutlery&quot;,\n",
       "  &quot;prefix&quot;: &quot;fa&quot;,\n",
       "  &quot;extraClasses&quot;: &quot;fa-rotate-0&quot;,\n",
       "}\n",
       "            );\n",
       "            marker_db1c48ceaff49abe76e5a772e0c94975.setIcon(icon_187f5ce84f37dc9c76182618f65cdb85);\n",
       "        \n",
       "    \n",
       "        var popup_7272a2e855358c5f5aacd460db07f1ad = L.popup({\n",
       "  &quot;maxWidth&quot;: &quot;100%&quot;,\n",
       "});\n",
       "\n",
       "        \n",
       "            \n",
       "                var html_b1e48282d438c1c40017f1613be21958 = $(`&lt;div id=&quot;html_b1e48282d438c1c40017f1613be21958&quot; style=&quot;width: 100.0%; height: 100.0%;&quot;&gt;(&quot;&lt;b style=&#x27;font-size: 18px; &#x27;&gt;Los caneyes&lt;/b&gt;&lt;br&gt;Direccion: Calle Martí y Gutierrez, Reparto Electrico&quot;, &quot;Especialidades: [&#x27;cubana&#x27;]&quot;)&lt;/div&gt;`)[0];\n",
       "                popup_7272a2e855358c5f5aacd460db07f1ad.setContent(html_b1e48282d438c1c40017f1613be21958);\n",
       "            \n",
       "        \n",
       "\n",
       "        marker_db1c48ceaff49abe76e5a772e0c94975.bindPopup(popup_7272a2e855358c5f5aacd460db07f1ad)\n",
       "        ;\n",
       "\n",
       "        \n",
       "    \n",
       "    \n",
       "            var marker_0355139918cbac6e804fce64207d7131 = L.marker(\n",
       "                [23.134728671881838, -82.35835687654],\n",
       "                {\n",
       "}\n",
       "            ).addTo(map_7f5ed2f3d7f5669ce524652a5c024be3);\n",
       "        \n",
       "    \n",
       "            var icon_0acd64b6932e4669bad81a4a10f6412b = L.AwesomeMarkers.icon(\n",
       "                {\n",
       "  &quot;markerColor&quot;: &quot;red&quot;,\n",
       "  &quot;iconColor&quot;: &quot;white&quot;,\n",
       "  &quot;icon&quot;: &quot;cutlery&quot;,\n",
       "  &quot;prefix&quot;: &quot;fa&quot;,\n",
       "  &quot;extraClasses&quot;: &quot;fa-rotate-0&quot;,\n",
       "}\n",
       "            );\n",
       "            marker_0355139918cbac6e804fce64207d7131.setIcon(icon_0acd64b6932e4669bad81a4a10f6412b);\n",
       "        \n",
       "    \n",
       "        var popup_565bac70842a121400d0be1a23379c42 = L.popup({\n",
       "  &quot;maxWidth&quot;: &quot;100%&quot;,\n",
       "});\n",
       "\n",
       "        \n",
       "            \n",
       "                var html_226179e726a7cc70906bc60d088280b9 = $(`&lt;div id=&quot;html_226179e726a7cc70906bc60d088280b9&quot; style=&quot;width: 100.0%; height: 100.0%;&quot;&gt;(&quot;&lt;b style=&#x27;font-size: 18px; &#x27;&gt;Los Nardos&lt;/b&gt;&lt;br&gt;Direccion: Paseo de Marti, frente al Capitolio&quot;, &quot;Especialidades: [&#x27;Comida mixta&#x27;]&quot;)&lt;/div&gt;`)[0];\n",
       "                popup_565bac70842a121400d0be1a23379c42.setContent(html_226179e726a7cc70906bc60d088280b9);\n",
       "            \n",
       "        \n",
       "\n",
       "        marker_0355139918cbac6e804fce64207d7131.bindPopup(popup_565bac70842a121400d0be1a23379c42)\n",
       "        ;\n",
       "\n",
       "        \n",
       "    \n",
       "    \n",
       "            var marker_4da72381702d332537ceacf089f90e5c = L.marker(\n",
       "                [23.084081730757468, -82.43599343396534],\n",
       "                {\n",
       "}\n",
       "            ).addTo(map_7f5ed2f3d7f5669ce524652a5c024be3);\n",
       "        \n",
       "    \n",
       "            var icon_3704b066b5c555f43f58db4ca3a0f4c8 = L.AwesomeMarkers.icon(\n",
       "                {\n",
       "  &quot;markerColor&quot;: &quot;red&quot;,\n",
       "  &quot;iconColor&quot;: &quot;white&quot;,\n",
       "  &quot;icon&quot;: &quot;cutlery&quot;,\n",
       "  &quot;prefix&quot;: &quot;fa&quot;,\n",
       "  &quot;extraClasses&quot;: &quot;fa-rotate-0&quot;,\n",
       "}\n",
       "            );\n",
       "            marker_4da72381702d332537ceacf089f90e5c.setIcon(icon_3704b066b5c555f43f58db4ca3a0f4c8);\n",
       "        \n",
       "    \n",
       "        var popup_60c9cb5875c3755cbc6517edd1be4721 = L.popup({\n",
       "  &quot;maxWidth&quot;: &quot;100%&quot;,\n",
       "});\n",
       "\n",
       "        \n",
       "            \n",
       "                var html_a0b14cc7d452ebcedd2033c1e56bc957 = $(`&lt;div id=&quot;html_a0b14cc7d452ebcedd2033c1e56bc957&quot; style=&quot;width: 100.0%; height: 100.0%;&quot;&gt;(&quot;&lt;b style=&#x27;font-size: 18px; &#x27;&gt;Los taticos&lt;/b&gt;&lt;br&gt;Direccion: 27 y 27A&quot;, &quot;Especialidades: [&#x27;mixta&#x27;]&quot;)&lt;/div&gt;`)[0];\n",
       "                popup_60c9cb5875c3755cbc6517edd1be4721.setContent(html_a0b14cc7d452ebcedd2033c1e56bc957);\n",
       "            \n",
       "        \n",
       "\n",
       "        marker_4da72381702d332537ceacf089f90e5c.bindPopup(popup_60c9cb5875c3755cbc6517edd1be4721)\n",
       "        ;\n",
       "\n",
       "        \n",
       "    \n",
       "    \n",
       "            var marker_c7598c6ccec61ba01292027f47dcbae6 = L.marker(\n",
       "                [23.141345644414816, -82.3553965539762],\n",
       "                {\n",
       "}\n",
       "            ).addTo(map_7f5ed2f3d7f5669ce524652a5c024be3);\n",
       "        \n",
       "    \n",
       "            var icon_4202aed492ad45188d2effad5e28ddbd = L.AwesomeMarkers.icon(\n",
       "                {\n",
       "  &quot;markerColor&quot;: &quot;red&quot;,\n",
       "  &quot;iconColor&quot;: &quot;white&quot;,\n",
       "  &quot;icon&quot;: &quot;cutlery&quot;,\n",
       "  &quot;prefix&quot;: &quot;fa&quot;,\n",
       "  &quot;extraClasses&quot;: &quot;fa-rotate-0&quot;,\n",
       "}\n",
       "            );\n",
       "            marker_c7598c6ccec61ba01292027f47dcbae6.setIcon(icon_4202aed492ad45188d2effad5e28ddbd);\n",
       "        \n",
       "    \n",
       "        var popup_e5fe8be3b88a149788dbb777857f5430 = L.popup({\n",
       "  &quot;maxWidth&quot;: &quot;100%&quot;,\n",
       "});\n",
       "\n",
       "        \n",
       "            \n",
       "                var html_d29ab9a4d6793632ce15e3313fef9dfd = $(`&lt;div id=&quot;html_d29ab9a4d6793632ce15e3313fef9dfd&quot; style=&quot;width: 100.0%; height: 100.0%;&quot;&gt;(&quot;&lt;b style=&#x27;font-size: 18px; &#x27;&gt;Lo de Monik&lt;/b&gt;&lt;br&gt;Direccion: &quot;, &quot;Especialidades: [&#x27;Internacional&#x27;, &#x27;cubana&#x27;]&quot;)&lt;/div&gt;`)[0];\n",
       "                popup_e5fe8be3b88a149788dbb777857f5430.setContent(html_d29ab9a4d6793632ce15e3313fef9dfd);\n",
       "            \n",
       "        \n",
       "\n",
       "        marker_c7598c6ccec61ba01292027f47dcbae6.bindPopup(popup_e5fe8be3b88a149788dbb777857f5430)\n",
       "        ;\n",
       "\n",
       "        \n",
       "    \n",
       "    \n",
       "            var marker_46ba96e4979efadb93c5a8bb017b5e83 = L.marker(\n",
       "                [23.093303995429743, -82.36446379545066],\n",
       "                {\n",
       "}\n",
       "            ).addTo(map_7f5ed2f3d7f5669ce524652a5c024be3);\n",
       "        \n",
       "    \n",
       "            var icon_98da2c7510506267f2ddbb080c4c7689 = L.AwesomeMarkers.icon(\n",
       "                {\n",
       "  &quot;markerColor&quot;: &quot;red&quot;,\n",
       "  &quot;iconColor&quot;: &quot;white&quot;,\n",
       "  &quot;icon&quot;: &quot;cutlery&quot;,\n",
       "  &quot;prefix&quot;: &quot;fa&quot;,\n",
       "  &quot;extraClasses&quot;: &quot;fa-rotate-0&quot;,\n",
       "}\n",
       "            );\n",
       "            marker_46ba96e4979efadb93c5a8bb017b5e83.setIcon(icon_98da2c7510506267f2ddbb080c4c7689);\n",
       "        \n",
       "    \n",
       "        var popup_a5616820f393353dd8eb57105b117f8e = L.popup({\n",
       "  &quot;maxWidth&quot;: &quot;100%&quot;,\n",
       "});\n",
       "\n",
       "        \n",
       "            \n",
       "                var html_bd0a0ad33da45aeab524aea5e69c6f5c = $(`&lt;div id=&quot;html_bd0a0ad33da45aeab524aea5e69c6f5c&quot; style=&quot;width: 100.0%; height: 100.0%;&quot;&gt;(&quot;&lt;b style=&#x27;font-size: 18px; &#x27;&gt;Luly Hamburguesas&lt;/b&gt;&lt;br&gt;Direccion: Calzada de Santa Catalina entre Calzada de Diez de Octubre y Parraga, Víbora&quot;, &quot;Especialidades: [&#x27;americana&#x27;]&quot;)&lt;/div&gt;`)[0];\n",
       "                popup_a5616820f393353dd8eb57105b117f8e.setContent(html_bd0a0ad33da45aeab524aea5e69c6f5c);\n",
       "            \n",
       "        \n",
       "\n",
       "        marker_46ba96e4979efadb93c5a8bb017b5e83.bindPopup(popup_a5616820f393353dd8eb57105b117f8e)\n",
       "        ;\n",
       "\n",
       "        \n",
       "    \n",
       "    \n",
       "            var marker_5a7312e46711f1bbf35b7e8eca3a04b8 = L.marker(\n",
       "                [23.079340661045265, -82.36204303051731],\n",
       "                {\n",
       "}\n",
       "            ).addTo(map_7f5ed2f3d7f5669ce524652a5c024be3);\n",
       "        \n",
       "    \n",
       "            var icon_2823f00e1db803719f9ca3e4257e86ed = L.AwesomeMarkers.icon(\n",
       "                {\n",
       "  &quot;markerColor&quot;: &quot;red&quot;,\n",
       "  &quot;iconColor&quot;: &quot;white&quot;,\n",
       "  &quot;icon&quot;: &quot;cutlery&quot;,\n",
       "  &quot;prefix&quot;: &quot;fa&quot;,\n",
       "  &quot;extraClasses&quot;: &quot;fa-rotate-0&quot;,\n",
       "}\n",
       "            );\n",
       "            marker_5a7312e46711f1bbf35b7e8eca3a04b8.setIcon(icon_2823f00e1db803719f9ca3e4257e86ed);\n",
       "        \n",
       "    \n",
       "        var popup_54aa7cd35399fc14b9b9868a5cb20791 = L.popup({\n",
       "  &quot;maxWidth&quot;: &quot;100%&quot;,\n",
       "});\n",
       "\n",
       "        \n",
       "            \n",
       "                var html_7d67c2fc26137c41ebfb801d112d4c2c = $(`&lt;div id=&quot;html_7d67c2fc26137c41ebfb801d112d4c2c&quot; style=&quot;width: 100.0%; height: 100.0%;&quot;&gt;(&quot;&lt;b style=&#x27;font-size: 18px; &#x27;&gt;Magic&#x27;s Cream &amp; Burguer&lt;/b&gt;&lt;br&gt;Direccion: Calzada de 10 de Octubre, % Santa Amalia y Arnao&quot;, &quot;Especialidades: [&#x27;comida rapida&#x27;]&quot;)&lt;/div&gt;`)[0];\n",
       "                popup_54aa7cd35399fc14b9b9868a5cb20791.setContent(html_7d67c2fc26137c41ebfb801d112d4c2c);\n",
       "            \n",
       "        \n",
       "\n",
       "        marker_5a7312e46711f1bbf35b7e8eca3a04b8.bindPopup(popup_54aa7cd35399fc14b9b9868a5cb20791)\n",
       "        ;\n",
       "\n",
       "        \n",
       "    \n",
       "    \n",
       "            var marker_f4f875642c60c3d6d2c84838be8487d5 = L.marker(\n",
       "                [23.113806624432474, -82.43952352231993],\n",
       "                {\n",
       "}\n",
       "            ).addTo(map_7f5ed2f3d7f5669ce524652a5c024be3);\n",
       "        \n",
       "    \n",
       "            var icon_62651565d70e457508cd1b35403692af = L.AwesomeMarkers.icon(\n",
       "                {\n",
       "  &quot;markerColor&quot;: &quot;red&quot;,\n",
       "  &quot;iconColor&quot;: &quot;white&quot;,\n",
       "  &quot;icon&quot;: &quot;cutlery&quot;,\n",
       "  &quot;prefix&quot;: &quot;fa&quot;,\n",
       "  &quot;extraClasses&quot;: &quot;fa-rotate-0&quot;,\n",
       "}\n",
       "            );\n",
       "            marker_f4f875642c60c3d6d2c84838be8487d5.setIcon(icon_62651565d70e457508cd1b35403692af);\n",
       "        \n",
       "    \n",
       "        var popup_379f9ceffab700b36de4e3dadd6dcbaa = L.popup({\n",
       "  &quot;maxWidth&quot;: &quot;100%&quot;,\n",
       "});\n",
       "\n",
       "        \n",
       "            \n",
       "                var html_e0dda5ea7101611ad27f3d2e25d751bb = $(`&lt;div id=&quot;html_e0dda5ea7101611ad27f3d2e25d751bb&quot; style=&quot;width: 100.0%; height: 100.0%;&quot;&gt;(&quot;&lt;b style=&#x27;font-size: 18px; &#x27;&gt;Marina&lt;/b&gt;&lt;br&gt;Direccion: 1ra Avenida entre calle 70 y 68&quot;, &quot;Especialidades: [&#x27;cubana&#x27;, &#x27;internacional&#x27;]&quot;)&lt;/div&gt;`)[0];\n",
       "                popup_379f9ceffab700b36de4e3dadd6dcbaa.setContent(html_e0dda5ea7101611ad27f3d2e25d751bb);\n",
       "            \n",
       "        \n",
       "\n",
       "        marker_f4f875642c60c3d6d2c84838be8487d5.bindPopup(popup_379f9ceffab700b36de4e3dadd6dcbaa)\n",
       "        ;\n",
       "\n",
       "        \n",
       "    \n",
       "    \n",
       "            var marker_9d436c817022d488d2f1e3037723f8d9 = L.marker(\n",
       "                [23.04788673152548, -82.26844826765596],\n",
       "                {\n",
       "}\n",
       "            ).addTo(map_7f5ed2f3d7f5669ce524652a5c024be3);\n",
       "        \n",
       "    \n",
       "            var icon_355b5a9a938fb7d3a6cf03fcfdf484d3 = L.AwesomeMarkers.icon(\n",
       "                {\n",
       "  &quot;markerColor&quot;: &quot;red&quot;,\n",
       "  &quot;iconColor&quot;: &quot;white&quot;,\n",
       "  &quot;icon&quot;: &quot;cutlery&quot;,\n",
       "  &quot;prefix&quot;: &quot;fa&quot;,\n",
       "  &quot;extraClasses&quot;: &quot;fa-rotate-0&quot;,\n",
       "}\n",
       "            );\n",
       "            marker_9d436c817022d488d2f1e3037723f8d9.setIcon(icon_355b5a9a938fb7d3a6cf03fcfdf484d3);\n",
       "        \n",
       "    \n",
       "        var popup_da68d358d512e41c06b4083f002d9809 = L.popup({\n",
       "  &quot;maxWidth&quot;: &quot;100%&quot;,\n",
       "});\n",
       "\n",
       "        \n",
       "            \n",
       "                var html_b5e3eb02e455a25c4320a1d73e63aeff = $(`&lt;div id=&quot;html_b5e3eb02e455a25c4320a1d73e63aeff&quot; style=&quot;width: 100.0%; height: 100.0%;&quot;&gt;(&quot;&lt;b style=&#x27;font-size: 18px; &#x27;&gt;Martínez Club&lt;/b&gt;&lt;br&gt;Direccion: En la otra cuadra de la funeraria del cotorro&quot;, &quot;Especialidades: [&#x27;Italiana&#x27;]&quot;)&lt;/div&gt;`)[0];\n",
       "                popup_da68d358d512e41c06b4083f002d9809.setContent(html_b5e3eb02e455a25c4320a1d73e63aeff);\n",
       "            \n",
       "        \n",
       "\n",
       "        marker_9d436c817022d488d2f1e3037723f8d9.bindPopup(popup_da68d358d512e41c06b4083f002d9809)\n",
       "        ;\n",
       "\n",
       "        \n",
       "    \n",
       "    \n",
       "            var marker_1e6270038e57ff5580db4259b4de938a = L.marker(\n",
       "                [23.142254422422297, -82.39922933157261],\n",
       "                {\n",
       "}\n",
       "            ).addTo(map_7f5ed2f3d7f5669ce524652a5c024be3);\n",
       "        \n",
       "    \n",
       "            var icon_10c1b9790dc249285cb40901f27b6a4e = L.AwesomeMarkers.icon(\n",
       "                {\n",
       "  &quot;markerColor&quot;: &quot;red&quot;,\n",
       "  &quot;iconColor&quot;: &quot;white&quot;,\n",
       "  &quot;icon&quot;: &quot;cutlery&quot;,\n",
       "  &quot;prefix&quot;: &quot;fa&quot;,\n",
       "  &quot;extraClasses&quot;: &quot;fa-rotate-0&quot;,\n",
       "}\n",
       "            );\n",
       "            marker_1e6270038e57ff5580db4259b4de938a.setIcon(icon_10c1b9790dc249285cb40901f27b6a4e);\n",
       "        \n",
       "    \n",
       "        var popup_b0f7a6441358ee4d2f5f9b0d9cce2d6b = L.popup({\n",
       "  &quot;maxWidth&quot;: &quot;100%&quot;,\n",
       "});\n",
       "\n",
       "        \n",
       "            \n",
       "                var html_1baf0970e072f67068146272bfd58296 = $(`&lt;div id=&quot;html_1baf0970e072f67068146272bfd58296&quot; style=&quot;width: 100.0%; height: 100.0%;&quot;&gt;(&quot;&lt;b style=&#x27;font-size: 18px; &#x27;&gt;Mar adentro&lt;/b&gt;&lt;br&gt;Direccion: &quot;, &quot;Especialidades: [&#x27;Comida Mediterranea&#x27;, &#x27;fusion&#x27;, &#x27;cubana&#x27;]&quot;)&lt;/div&gt;`)[0];\n",
       "                popup_b0f7a6441358ee4d2f5f9b0d9cce2d6b.setContent(html_1baf0970e072f67068146272bfd58296);\n",
       "            \n",
       "        \n",
       "\n",
       "        marker_1e6270038e57ff5580db4259b4de938a.bindPopup(popup_b0f7a6441358ee4d2f5f9b0d9cce2d6b)\n",
       "        ;\n",
       "\n",
       "        \n",
       "    \n",
       "    \n",
       "            var marker_b7b2c6f8169e45f39f258dc5c020d641 = L.marker(\n",
       "                [23.051960561329945, -82.2757870610061],\n",
       "                {\n",
       "}\n",
       "            ).addTo(map_7f5ed2f3d7f5669ce524652a5c024be3);\n",
       "        \n",
       "    \n",
       "            var icon_c997601fd9a77c35d8887a54dddea93d = L.AwesomeMarkers.icon(\n",
       "                {\n",
       "  &quot;markerColor&quot;: &quot;red&quot;,\n",
       "  &quot;iconColor&quot;: &quot;white&quot;,\n",
       "  &quot;icon&quot;: &quot;cutlery&quot;,\n",
       "  &quot;prefix&quot;: &quot;fa&quot;,\n",
       "  &quot;extraClasses&quot;: &quot;fa-rotate-0&quot;,\n",
       "}\n",
       "            );\n",
       "            marker_b7b2c6f8169e45f39f258dc5c020d641.setIcon(icon_c997601fd9a77c35d8887a54dddea93d);\n",
       "        \n",
       "    \n",
       "        var popup_46c65d65f1140b88ee4733ec4125c913 = L.popup({\n",
       "  &quot;maxWidth&quot;: &quot;100%&quot;,\n",
       "});\n",
       "\n",
       "        \n",
       "            \n",
       "                var html_52dc2661d3659e7312eef7f6535c8a62 = $(`&lt;div id=&quot;html_52dc2661d3659e7312eef7f6535c8a62&quot; style=&quot;width: 100.0%; height: 100.0%;&quot;&gt;(&quot;&lt;b style=&#x27;font-size: 18px; &#x27;&gt;Mc.Cesar&lt;/b&gt;&lt;br&gt;Direccion: calle primer entre 220 y 221&quot;, &quot;Especialidades: [&#x27;cubana&#x27;]&quot;)&lt;/div&gt;`)[0];\n",
       "                popup_46c65d65f1140b88ee4733ec4125c913.setContent(html_52dc2661d3659e7312eef7f6535c8a62);\n",
       "            \n",
       "        \n",
       "\n",
       "        marker_b7b2c6f8169e45f39f258dc5c020d641.bindPopup(popup_46c65d65f1140b88ee4733ec4125c913)\n",
       "        ;\n",
       "\n",
       "        \n",
       "    \n",
       "    \n",
       "            var marker_c3e0d711b1544eab43fd34b73e9dcb5c = L.marker(\n",
       "                [23.097475154324474, -82.3758757186763],\n",
       "                {\n",
       "}\n",
       "            ).addTo(map_7f5ed2f3d7f5669ce524652a5c024be3);\n",
       "        \n",
       "    \n",
       "            var icon_13a691a4de88238bfc96373c1d412bb3 = L.AwesomeMarkers.icon(\n",
       "                {\n",
       "  &quot;markerColor&quot;: &quot;red&quot;,\n",
       "  &quot;iconColor&quot;: &quot;white&quot;,\n",
       "  &quot;icon&quot;: &quot;cutlery&quot;,\n",
       "  &quot;prefix&quot;: &quot;fa&quot;,\n",
       "  &quot;extraClasses&quot;: &quot;fa-rotate-0&quot;,\n",
       "}\n",
       "            );\n",
       "            marker_c3e0d711b1544eab43fd34b73e9dcb5c.setIcon(icon_13a691a4de88238bfc96373c1d412bb3);\n",
       "        \n",
       "    \n",
       "        var popup_0cb3767f8e96bf5f102aff937d059079 = L.popup({\n",
       "  &quot;maxWidth&quot;: &quot;100%&quot;,\n",
       "});\n",
       "\n",
       "        \n",
       "            \n",
       "                var html_401d39af55890af349c72b7caf14e6bf = $(`&lt;div id=&quot;html_401d39af55890af349c72b7caf14e6bf&quot; style=&quot;width: 100.0%; height: 100.0%;&quot;&gt;(&quot;&lt;b style=&#x27;font-size: 18px; &#x27;&gt;Melao&#x27;s&lt;/b&gt;&lt;br&gt;Direccion: Goicuría 229 e/ Milagros y Libertad. Santo Suárez&quot;, &#x27;Especialidades: []&#x27;)&lt;/div&gt;`)[0];\n",
       "                popup_0cb3767f8e96bf5f102aff937d059079.setContent(html_401d39af55890af349c72b7caf14e6bf);\n",
       "            \n",
       "        \n",
       "\n",
       "        marker_c3e0d711b1544eab43fd34b73e9dcb5c.bindPopup(popup_0cb3767f8e96bf5f102aff937d059079)\n",
       "        ;\n",
       "\n",
       "        \n",
       "    \n",
       "    \n",
       "            var marker_04c41bef391a0bb308dae45fac3a699d = L.marker(\n",
       "                [23.13356833336648, -82.3680681381318],\n",
       "                {\n",
       "}\n",
       "            ).addTo(map_7f5ed2f3d7f5669ce524652a5c024be3);\n",
       "        \n",
       "    \n",
       "            var icon_73bf74c9a68747359cd28c819145a171 = L.AwesomeMarkers.icon(\n",
       "                {\n",
       "  &quot;markerColor&quot;: &quot;red&quot;,\n",
       "  &quot;iconColor&quot;: &quot;white&quot;,\n",
       "  &quot;icon&quot;: &quot;cutlery&quot;,\n",
       "  &quot;prefix&quot;: &quot;fa&quot;,\n",
       "  &quot;extraClasses&quot;: &quot;fa-rotate-0&quot;,\n",
       "}\n",
       "            );\n",
       "            marker_04c41bef391a0bb308dae45fac3a699d.setIcon(icon_73bf74c9a68747359cd28c819145a171);\n",
       "        \n",
       "    \n",
       "        var popup_e94e81347ab88850612617d92d069f71 = L.popup({\n",
       "  &quot;maxWidth&quot;: &quot;100%&quot;,\n",
       "});\n",
       "\n",
       "        \n",
       "            \n",
       "                var html_9a0e099177349ffac0eec4ac9550b69d = $(`&lt;div id=&quot;html_9a0e099177349ffac0eec4ac9550b69d&quot; style=&quot;width: 100.0%; height: 100.0%;&quot;&gt;(&quot;&lt;b style=&#x27;font-size: 18px; &#x27;&gt;Mimosa&lt;/b&gt;&lt;br&gt;Direccion: Salud entre C.Cerrada del Paseo y Escobar&quot;, &quot;Especialidades: [&#x27;internacional&#x27;, &#x27;Italiana&#x27;, &#x27;Cubana&#x27;]&quot;)&lt;/div&gt;`)[0];\n",
       "                popup_e94e81347ab88850612617d92d069f71.setContent(html_9a0e099177349ffac0eec4ac9550b69d);\n",
       "            \n",
       "        \n",
       "\n",
       "        marker_04c41bef391a0bb308dae45fac3a699d.bindPopup(popup_e94e81347ab88850612617d92d069f71)\n",
       "        ;\n",
       "\n",
       "        \n",
       "    \n",
       "    \n",
       "            var marker_fcfeb349a99e16eca3916e97690c9721 = L.marker(\n",
       "                [23.14556061167238, -82.35844252514089],\n",
       "                {\n",
       "}\n",
       "            ).addTo(map_7f5ed2f3d7f5669ce524652a5c024be3);\n",
       "        \n",
       "    \n",
       "            var icon_15397a12953c00f69a2c166d48dffa2b = L.AwesomeMarkers.icon(\n",
       "                {\n",
       "  &quot;markerColor&quot;: &quot;red&quot;,\n",
       "  &quot;iconColor&quot;: &quot;white&quot;,\n",
       "  &quot;icon&quot;: &quot;cutlery&quot;,\n",
       "  &quot;prefix&quot;: &quot;fa&quot;,\n",
       "  &quot;extraClasses&quot;: &quot;fa-rotate-0&quot;,\n",
       "}\n",
       "            );\n",
       "            marker_fcfeb349a99e16eca3916e97690c9721.setIcon(icon_15397a12953c00f69a2c166d48dffa2b);\n",
       "        \n",
       "    \n",
       "        var popup_f23d4ff743200cf453d4f0ec7cccc209 = L.popup({\n",
       "  &quot;maxWidth&quot;: &quot;100%&quot;,\n",
       "});\n",
       "\n",
       "        \n",
       "            \n",
       "                var html_404c828583370e05129d8fb7114805f4 = $(`&lt;div id=&quot;html_404c828583370e05129d8fb7114805f4&quot; style=&quot;width: 100.0%; height: 100.0%;&quot;&gt;(&quot;&lt;b style=&#x27;font-size: 18px; &#x27;&gt;Mini Bar (Hotel Royalton Paseo Del Prado)&lt;/b&gt;&lt;br&gt;Direccion: Prado y Malecón&quot;, &quot;Especialidades: [&#x27;bar&#x27;]&quot;)&lt;/div&gt;`)[0];\n",
       "                popup_f23d4ff743200cf453d4f0ec7cccc209.setContent(html_404c828583370e05129d8fb7114805f4);\n",
       "            \n",
       "        \n",
       "\n",
       "        marker_fcfeb349a99e16eca3916e97690c9721.bindPopup(popup_f23d4ff743200cf453d4f0ec7cccc209)\n",
       "        ;\n",
       "\n",
       "        \n",
       "    \n",
       "    \n",
       "            var marker_323edf96b3d98f6e73852245c9b1d99a = L.marker(\n",
       "                [23.08902142289598, -82.36049771816977],\n",
       "                {\n",
       "}\n",
       "            ).addTo(map_7f5ed2f3d7f5669ce524652a5c024be3);\n",
       "        \n",
       "    \n",
       "            var icon_4226e85928f9ff26ff0b822fc419051b = L.AwesomeMarkers.icon(\n",
       "                {\n",
       "  &quot;markerColor&quot;: &quot;red&quot;,\n",
       "  &quot;iconColor&quot;: &quot;white&quot;,\n",
       "  &quot;icon&quot;: &quot;cutlery&quot;,\n",
       "  &quot;prefix&quot;: &quot;fa&quot;,\n",
       "  &quot;extraClasses&quot;: &quot;fa-rotate-0&quot;,\n",
       "}\n",
       "            );\n",
       "            marker_323edf96b3d98f6e73852245c9b1d99a.setIcon(icon_4226e85928f9ff26ff0b822fc419051b);\n",
       "        \n",
       "    \n",
       "        var popup_b420f410e16851e6a5892d22139041d2 = L.popup({\n",
       "  &quot;maxWidth&quot;: &quot;100%&quot;,\n",
       "});\n",
       "\n",
       "        \n",
       "            \n",
       "                var html_964f9376ac930b611c40a4ae88b537d5 = $(`&lt;div id=&quot;html_964f9376ac930b611c40a4ae88b537d5&quot; style=&quot;width: 100.0%; height: 100.0%;&quot;&gt;(&quot;&lt;b style=&#x27;font-size: 18px; &#x27;&gt;Mirador de Acosta&lt;/b&gt;&lt;br&gt;Direccion: Esquina Vista Alegre Este y Avenida Acosta&quot;, &quot;Especialidades: [&#x27;latina&#x27;, &#x27;criolla&#x27;]&quot;)&lt;/div&gt;`)[0];\n",
       "                popup_b420f410e16851e6a5892d22139041d2.setContent(html_964f9376ac930b611c40a4ae88b537d5);\n",
       "            \n",
       "        \n",
       "\n",
       "        marker_323edf96b3d98f6e73852245c9b1d99a.bindPopup(popup_b420f410e16851e6a5892d22139041d2)\n",
       "        ;\n",
       "\n",
       "        \n",
       "    \n",
       "    \n",
       "            var marker_f36bd71d20671228ffa1aa1efed7c045 = L.marker(\n",
       "                [23.044193754619403, -82.2662082394822],\n",
       "                {\n",
       "}\n",
       "            ).addTo(map_7f5ed2f3d7f5669ce524652a5c024be3);\n",
       "        \n",
       "    \n",
       "            var icon_8d520e083cbaca9c8527560e3488434a = L.AwesomeMarkers.icon(\n",
       "                {\n",
       "  &quot;markerColor&quot;: &quot;red&quot;,\n",
       "  &quot;iconColor&quot;: &quot;white&quot;,\n",
       "  &quot;icon&quot;: &quot;cutlery&quot;,\n",
       "  &quot;prefix&quot;: &quot;fa&quot;,\n",
       "  &quot;extraClasses&quot;: &quot;fa-rotate-0&quot;,\n",
       "}\n",
       "            );\n",
       "            marker_f36bd71d20671228ffa1aa1efed7c045.setIcon(icon_8d520e083cbaca9c8527560e3488434a);\n",
       "        \n",
       "    \n",
       "        var popup_7ccffa815c645b8630418e069ad3f690 = L.popup({\n",
       "  &quot;maxWidth&quot;: &quot;100%&quot;,\n",
       "});\n",
       "\n",
       "        \n",
       "            \n",
       "                var html_d01656aaa97b31c8d70dcbbd68d331ca = $(`&lt;div id=&quot;html_d01656aaa97b31c8d70dcbbd68d331ca&quot; style=&quot;width: 100.0%; height: 100.0%;&quot;&gt;(&quot;&lt;b style=&#x27;font-size: 18px; &#x27;&gt;Mi terraza&lt;/b&gt;&lt;br&gt;Direccion: Calle 71 % 24 y 26, Las Brisas&quot;, &quot;Especialidades: [&#x27;Italiana&#x27;]&quot;)&lt;/div&gt;`)[0];\n",
       "                popup_7ccffa815c645b8630418e069ad3f690.setContent(html_d01656aaa97b31c8d70dcbbd68d331ca);\n",
       "            \n",
       "        \n",
       "\n",
       "        marker_f36bd71d20671228ffa1aa1efed7c045.bindPopup(popup_7ccffa815c645b8630418e069ad3f690)\n",
       "        ;\n",
       "\n",
       "        \n",
       "    \n",
       "    \n",
       "            var marker_993edc1644d8983d731d2da648580a19 = L.marker(\n",
       "                [23.089659137079668, -82.4212900861762],\n",
       "                {\n",
       "}\n",
       "            ).addTo(map_7f5ed2f3d7f5669ce524652a5c024be3);\n",
       "        \n",
       "    \n",
       "            var icon_75f53a5774c2cdac51f9f4990c510fae = L.AwesomeMarkers.icon(\n",
       "                {\n",
       "  &quot;markerColor&quot;: &quot;red&quot;,\n",
       "  &quot;iconColor&quot;: &quot;white&quot;,\n",
       "  &quot;icon&quot;: &quot;cutlery&quot;,\n",
       "  &quot;prefix&quot;: &quot;fa&quot;,\n",
       "  &quot;extraClasses&quot;: &quot;fa-rotate-0&quot;,\n",
       "}\n",
       "            );\n",
       "            marker_993edc1644d8983d731d2da648580a19.setIcon(icon_75f53a5774c2cdac51f9f4990c510fae);\n",
       "        \n",
       "    \n",
       "        var popup_03bc5cfda3cfda6c598b1226a360ccdf = L.popup({\n",
       "  &quot;maxWidth&quot;: &quot;100%&quot;,\n",
       "});\n",
       "\n",
       "        \n",
       "            \n",
       "                var html_fae1efe55e63a33ecc83ca5eccb197d1 = $(`&lt;div id=&quot;html_fae1efe55e63a33ecc83ca5eccb197d1&quot; style=&quot;width: 100.0%; height: 100.0%;&quot;&gt;(&quot;&lt;b style=&#x27;font-size: 18px; &#x27;&gt;MM-Cafeteria&lt;/b&gt;&lt;br&gt;Direccion: Avenida 41 entre 82 y 84&quot;, &quot;Especialidades: [&#x27;cubana&#x27;, &#x27;italiana&#x27;]&quot;)&lt;/div&gt;`)[0];\n",
       "                popup_03bc5cfda3cfda6c598b1226a360ccdf.setContent(html_fae1efe55e63a33ecc83ca5eccb197d1);\n",
       "            \n",
       "        \n",
       "\n",
       "        marker_993edc1644d8983d731d2da648580a19.bindPopup(popup_03bc5cfda3cfda6c598b1226a360ccdf)\n",
       "        ;\n",
       "\n",
       "        \n",
       "    \n",
       "    \n",
       "            var marker_96bd1856e91cbbaef90f355a681755b8 = L.marker(\n",
       "                [23.113313570547763, -82.43955638650688],\n",
       "                {\n",
       "}\n",
       "            ).addTo(map_7f5ed2f3d7f5669ce524652a5c024be3);\n",
       "        \n",
       "    \n",
       "            var icon_7754a39cec7d8ce7b7520b73d1b5fe73 = L.AwesomeMarkers.icon(\n",
       "                {\n",
       "  &quot;markerColor&quot;: &quot;red&quot;,\n",
       "  &quot;iconColor&quot;: &quot;white&quot;,\n",
       "  &quot;icon&quot;: &quot;cutlery&quot;,\n",
       "  &quot;prefix&quot;: &quot;fa&quot;,\n",
       "  &quot;extraClasses&quot;: &quot;fa-rotate-0&quot;,\n",
       "}\n",
       "            );\n",
       "            marker_96bd1856e91cbbaef90f355a681755b8.setIcon(icon_7754a39cec7d8ce7b7520b73d1b5fe73);\n",
       "        \n",
       "    \n",
       "        var popup_2e95bf17da5459f9aa8f67d4a91d5db2 = L.popup({\n",
       "  &quot;maxWidth&quot;: &quot;100%&quot;,\n",
       "});\n",
       "\n",
       "        \n",
       "            \n",
       "                var html_bc1a722acdcb9c81bb44e6c4cb79bd56 = $(`&lt;div id=&quot;html_bc1a722acdcb9c81bb44e6c4cb79bd56&quot; style=&quot;width: 100.0%; height: 100.0%;&quot;&gt;(&quot;&lt;b style=&#x27;font-size: 18px; &#x27;&gt;Muelle 70&lt;/b&gt;&lt;br&gt;Direccion: 1ra Avenida entre calle 70 y 68&quot;, &quot;Especialidades: [&#x27;cubana&#x27;, &#x27;internacional&#x27;, &#x27;italiana&#x27;, &#x27;criolla&#x27;]&quot;)&lt;/div&gt;`)[0];\n",
       "                popup_2e95bf17da5459f9aa8f67d4a91d5db2.setContent(html_bc1a722acdcb9c81bb44e6c4cb79bd56);\n",
       "            \n",
       "        \n",
       "\n",
       "        marker_96bd1856e91cbbaef90f355a681755b8.bindPopup(popup_2e95bf17da5459f9aa8f67d4a91d5db2)\n",
       "        ;\n",
       "\n",
       "        \n",
       "    \n",
       "    \n",
       "            var marker_535ec967ec7e13e5c533c1b60a45ddb1 = L.marker(\n",
       "                [23.138030572262426, -82.36420227071567],\n",
       "                {\n",
       "}\n",
       "            ).addTo(map_7f5ed2f3d7f5669ce524652a5c024be3);\n",
       "        \n",
       "    \n",
       "            var icon_34e2a67081e956c711b9a6a0bc3c3ec0 = L.AwesomeMarkers.icon(\n",
       "                {\n",
       "  &quot;markerColor&quot;: &quot;red&quot;,\n",
       "  &quot;iconColor&quot;: &quot;white&quot;,\n",
       "  &quot;icon&quot;: &quot;cutlery&quot;,\n",
       "  &quot;prefix&quot;: &quot;fa&quot;,\n",
       "  &quot;extraClasses&quot;: &quot;fa-rotate-0&quot;,\n",
       "}\n",
       "            );\n",
       "            marker_535ec967ec7e13e5c533c1b60a45ddb1.setIcon(icon_34e2a67081e956c711b9a6a0bc3c3ec0);\n",
       "        \n",
       "    \n",
       "        var popup_b7d1f4a6f1b6a7c5ec2c0c46aa6f7431 = L.popup({\n",
       "  &quot;maxWidth&quot;: &quot;100%&quot;,\n",
       "});\n",
       "\n",
       "        \n",
       "            \n",
       "                var html_04442f9ce59c78f0ec656cfa73621388 = $(`&lt;div id=&quot;html_04442f9ce59c78f0ec656cfa73621388&quot; style=&quot;width: 100.0%; height: 100.0%;&quot;&gt;(&quot;&lt;b style=&#x27;font-size: 18px; &#x27;&gt;Mundo Pizza&lt;/b&gt;&lt;br&gt;Direccion: C. San Nicolás 309 entre Neptuno y San Miguel&quot;, &quot;Especialidades: [&#x27;Internacional&#x27;, &#x27;Pizzas&#x27;]&quot;)&lt;/div&gt;`)[0];\n",
       "                popup_b7d1f4a6f1b6a7c5ec2c0c46aa6f7431.setContent(html_04442f9ce59c78f0ec656cfa73621388);\n",
       "            \n",
       "        \n",
       "\n",
       "        marker_535ec967ec7e13e5c533c1b60a45ddb1.bindPopup(popup_b7d1f4a6f1b6a7c5ec2c0c46aa6f7431)\n",
       "        ;\n",
       "\n",
       "        \n",
       "    \n",
       "    \n",
       "            var marker_47c82ce151441507935c204acf723ca3 = L.marker(\n",
       "                [23.140346357851502, -82.35253591702202],\n",
       "                {\n",
       "}\n",
       "            ).addTo(map_7f5ed2f3d7f5669ce524652a5c024be3);\n",
       "        \n",
       "    \n",
       "            var icon_a75fb27549dfef0ee7a25af96536b6e0 = L.AwesomeMarkers.icon(\n",
       "                {\n",
       "  &quot;markerColor&quot;: &quot;red&quot;,\n",
       "  &quot;iconColor&quot;: &quot;white&quot;,\n",
       "  &quot;icon&quot;: &quot;cutlery&quot;,\n",
       "  &quot;prefix&quot;: &quot;fa&quot;,\n",
       "  &quot;extraClasses&quot;: &quot;fa-rotate-0&quot;,\n",
       "}\n",
       "            );\n",
       "            marker_47c82ce151441507935c204acf723ca3.setIcon(icon_a75fb27549dfef0ee7a25af96536b6e0);\n",
       "        \n",
       "    \n",
       "        var popup_e53ad98c99559e78ca24069e0590861d = L.popup({\n",
       "  &quot;maxWidth&quot;: &quot;100%&quot;,\n",
       "});\n",
       "\n",
       "        \n",
       "            \n",
       "                var html_a9e3a6738a8a7d5a59a9a6d76c131b19 = $(`&lt;div id=&quot;html_a9e3a6738a8a7d5a59a9a6d76c131b19&quot; style=&quot;width: 100.0%; height: 100.0%;&quot;&gt;(&quot;&lt;b style=&#x27;font-size: 18px; &#x27;&gt;Mythos&lt;/b&gt;&lt;br&gt;Direccion: Calle Cuba No. 211 entre Empedrado y O&#x27;Reilly&quot;, &quot;Especialidades: [&#x27;Griega&#x27;]&quot;)&lt;/div&gt;`)[0];\n",
       "                popup_e53ad98c99559e78ca24069e0590861d.setContent(html_a9e3a6738a8a7d5a59a9a6d76c131b19);\n",
       "            \n",
       "        \n",
       "\n",
       "        marker_47c82ce151441507935c204acf723ca3.bindPopup(popup_e53ad98c99559e78ca24069e0590861d)\n",
       "        ;\n",
       "\n",
       "        \n",
       "    \n",
       "    \n",
       "            var marker_5e9a175df925d1e594a2b8053c1cfe4a = L.marker(\n",
       "                [22.9752725188445, -82.38492436527059],\n",
       "                {\n",
       "}\n",
       "            ).addTo(map_7f5ed2f3d7f5669ce524652a5c024be3);\n",
       "        \n",
       "    \n",
       "            var icon_e8bc0410a117ddb7f5d704433154a190 = L.AwesomeMarkers.icon(\n",
       "                {\n",
       "  &quot;markerColor&quot;: &quot;red&quot;,\n",
       "  &quot;iconColor&quot;: &quot;white&quot;,\n",
       "  &quot;icon&quot;: &quot;cutlery&quot;,\n",
       "  &quot;prefix&quot;: &quot;fa&quot;,\n",
       "  &quot;extraClasses&quot;: &quot;fa-rotate-0&quot;,\n",
       "}\n",
       "            );\n",
       "            marker_5e9a175df925d1e594a2b8053c1cfe4a.setIcon(icon_e8bc0410a117ddb7f5d704433154a190);\n",
       "        \n",
       "    \n",
       "        var popup_f389f09687d5e530ff3ba6294e5924bf = L.popup({\n",
       "  &quot;maxWidth&quot;: &quot;100%&quot;,\n",
       "});\n",
       "\n",
       "        \n",
       "            \n",
       "                var html_fbd23ce8731fd45f76cb51bae1a32801 = $(`&lt;div id=&quot;html_fbd23ce8731fd45f76cb51bae1a32801&quot; style=&quot;width: 100.0%; height: 100.0%;&quot;&gt;(&quot;&lt;b style=&#x27;font-size: 18px; &#x27;&gt;Nameless&lt;/b&gt;&lt;br&gt;Direccion: Avenida Rancho Boyeros % 407A &amp; 409, Santiago de las Vegas&quot;, &quot;Especialidades: [&#x27;italiana&#x27;, &#x27;criolla&#x27;, &#x27;cubana&#x27;]&quot;)&lt;/div&gt;`)[0];\n",
       "                popup_f389f09687d5e530ff3ba6294e5924bf.setContent(html_fbd23ce8731fd45f76cb51bae1a32801);\n",
       "            \n",
       "        \n",
       "\n",
       "        marker_5e9a175df925d1e594a2b8053c1cfe4a.bindPopup(popup_f389f09687d5e530ff3ba6294e5924bf)\n",
       "        ;\n",
       "\n",
       "        \n",
       "    \n",
       "    \n",
       "            var marker_fff7a3a3cbd3a6bcc5ff7a8ee1ee3a9b = L.marker(\n",
       "                [23.089238381444375, -82.35993723032014],\n",
       "                {\n",
       "}\n",
       "            ).addTo(map_7f5ed2f3d7f5669ce524652a5c024be3);\n",
       "        \n",
       "    \n",
       "            var icon_3694658bad0f4b914561ceff905f1944 = L.AwesomeMarkers.icon(\n",
       "                {\n",
       "  &quot;markerColor&quot;: &quot;red&quot;,\n",
       "  &quot;iconColor&quot;: &quot;white&quot;,\n",
       "  &quot;icon&quot;: &quot;cutlery&quot;,\n",
       "  &quot;prefix&quot;: &quot;fa&quot;,\n",
       "  &quot;extraClasses&quot;: &quot;fa-rotate-0&quot;,\n",
       "}\n",
       "            );\n",
       "            marker_fff7a3a3cbd3a6bcc5ff7a8ee1ee3a9b.setIcon(icon_3694658bad0f4b914561ceff905f1944);\n",
       "        \n",
       "    \n",
       "        var popup_f1f0ffc54aa7b7d8afe81cb73adebfe5 = L.popup({\n",
       "  &quot;maxWidth&quot;: &quot;100%&quot;,\n",
       "});\n",
       "\n",
       "        \n",
       "            \n",
       "                var html_c5fd8491898f8a3dfcb6f031b770c514 = $(`&lt;div id=&quot;html_c5fd8491898f8a3dfcb6f031b770c514&quot; style=&quot;width: 100.0%; height: 100.0%;&quot;&gt;(&quot;&lt;b style=&#x27;font-size: 18px; &#x27;&gt;Nel Paradiso&lt;/b&gt;&lt;br&gt;Direccion: Acosta #303 esquina Armas &quot;, &quot;Especialidades: [&#x27;Comida cubana&#x27;, &#x27;criolla&#x27;, &#x27;internacional&#x27;, &#x27;mariscos&#x27;]&quot;)&lt;/div&gt;`)[0];\n",
       "                popup_f1f0ffc54aa7b7d8afe81cb73adebfe5.setContent(html_c5fd8491898f8a3dfcb6f031b770c514);\n",
       "            \n",
       "        \n",
       "\n",
       "        marker_fff7a3a3cbd3a6bcc5ff7a8ee1ee3a9b.bindPopup(popup_f1f0ffc54aa7b7d8afe81cb73adebfe5)\n",
       "        ;\n",
       "\n",
       "        \n",
       "    \n",
       "    \n",
       "            var marker_ec589846da08143b2eae6a81fde919a7 = L.marker(\n",
       "                [23.043747220202967, -82.25328637835823],\n",
       "                {\n",
       "}\n",
       "            ).addTo(map_7f5ed2f3d7f5669ce524652a5c024be3);\n",
       "        \n",
       "    \n",
       "            var icon_6ad93f93292f184bca247f98f64aae74 = L.AwesomeMarkers.icon(\n",
       "                {\n",
       "  &quot;markerColor&quot;: &quot;red&quot;,\n",
       "  &quot;iconColor&quot;: &quot;white&quot;,\n",
       "  &quot;icon&quot;: &quot;cutlery&quot;,\n",
       "  &quot;prefix&quot;: &quot;fa&quot;,\n",
       "  &quot;extraClasses&quot;: &quot;fa-rotate-0&quot;,\n",
       "}\n",
       "            );\n",
       "            marker_ec589846da08143b2eae6a81fde919a7.setIcon(icon_6ad93f93292f184bca247f98f64aae74);\n",
       "        \n",
       "    \n",
       "        var popup_9f9c46b09b43c43e879cb9faf21c865b = L.popup({\n",
       "  &quot;maxWidth&quot;: &quot;100%&quot;,\n",
       "});\n",
       "\n",
       "        \n",
       "            \n",
       "                var html_0d1f1e21bbae6f8db22dda691fe66745 = $(`&lt;div id=&quot;html_0d1f1e21bbae6f8db22dda691fe66745&quot; style=&quot;width: 100.0%; height: 100.0%;&quot;&gt;(&quot;&lt;b style=&#x27;font-size: 18px; &#x27;&gt;Ole Ole&lt;/b&gt;&lt;br&gt;Direccion: 71 esquina 46 y 48, Loteria&quot;, &quot;Especialidades: [&#x27;Cubana&#x27;, &#x27;Italiana&#x27;, &#x27;Criolla&#x27;, &#x27;internacional&#x27;]&quot;)&lt;/div&gt;`)[0];\n",
       "                popup_9f9c46b09b43c43e879cb9faf21c865b.setContent(html_0d1f1e21bbae6f8db22dda691fe66745);\n",
       "            \n",
       "        \n",
       "\n",
       "        marker_ec589846da08143b2eae6a81fde919a7.bindPopup(popup_9f9c46b09b43c43e879cb9faf21c865b)\n",
       "        ;\n",
       "\n",
       "        \n",
       "    \n",
       "    \n",
       "            var marker_28f25a07e33cc13aca8d66bcd8ffc679 = L.marker(\n",
       "                [23.066165087925306, -82.45070559198918],\n",
       "                {\n",
       "}\n",
       "            ).addTo(map_7f5ed2f3d7f5669ce524652a5c024be3);\n",
       "        \n",
       "    \n",
       "            var icon_33bb6e06f3d128a11b777149bdfdd56f = L.AwesomeMarkers.icon(\n",
       "                {\n",
       "  &quot;markerColor&quot;: &quot;red&quot;,\n",
       "  &quot;iconColor&quot;: &quot;white&quot;,\n",
       "  &quot;icon&quot;: &quot;cutlery&quot;,\n",
       "  &quot;prefix&quot;: &quot;fa&quot;,\n",
       "  &quot;extraClasses&quot;: &quot;fa-rotate-0&quot;,\n",
       "}\n",
       "            );\n",
       "            marker_28f25a07e33cc13aca8d66bcd8ffc679.setIcon(icon_33bb6e06f3d128a11b777149bdfdd56f);\n",
       "        \n",
       "    \n",
       "        var popup_9a7022c64e3ea9d19a5a17c06be706aa = L.popup({\n",
       "  &quot;maxWidth&quot;: &quot;100%&quot;,\n",
       "});\n",
       "\n",
       "        \n",
       "            \n",
       "                var html_98e91e8ca7face934390c2c155940dd8 = $(`&lt;div id=&quot;html_98e91e8ca7face934390c2c155940dd8&quot; style=&quot;width: 100.0%; height: 100.0%;&quot;&gt;(&quot;&lt;b style=&#x27;font-size: 18px; &#x27;&gt;Pacomeralgo&lt;/b&gt;&lt;br&gt;Direccion: Desconocida&quot;, &quot;Especialidades: [&#x27;italiana&#x27;]&quot;)&lt;/div&gt;`)[0];\n",
       "                popup_9a7022c64e3ea9d19a5a17c06be706aa.setContent(html_98e91e8ca7face934390c2c155940dd8);\n",
       "            \n",
       "        \n",
       "\n",
       "        marker_28f25a07e33cc13aca8d66bcd8ffc679.bindPopup(popup_9a7022c64e3ea9d19a5a17c06be706aa)\n",
       "        ;\n",
       "\n",
       "        \n",
       "    \n",
       "    \n",
       "            var marker_b31bb7ecd40a527938d7955ccc97f049 = L.marker(\n",
       "                [23.045754014037833, -82.27038368811118],\n",
       "                {\n",
       "}\n",
       "            ).addTo(map_7f5ed2f3d7f5669ce524652a5c024be3);\n",
       "        \n",
       "    \n",
       "            var icon_aed26063760670245132283aa45dfd97 = L.AwesomeMarkers.icon(\n",
       "                {\n",
       "  &quot;markerColor&quot;: &quot;red&quot;,\n",
       "  &quot;iconColor&quot;: &quot;white&quot;,\n",
       "  &quot;icon&quot;: &quot;cutlery&quot;,\n",
       "  &quot;prefix&quot;: &quot;fa&quot;,\n",
       "  &quot;extraClasses&quot;: &quot;fa-rotate-0&quot;,\n",
       "}\n",
       "            );\n",
       "            marker_b31bb7ecd40a527938d7955ccc97f049.setIcon(icon_aed26063760670245132283aa45dfd97);\n",
       "        \n",
       "    \n",
       "        var popup_a5431a79841e39c49736dd5951efad9c = L.popup({\n",
       "  &quot;maxWidth&quot;: &quot;100%&quot;,\n",
       "});\n",
       "\n",
       "        \n",
       "            \n",
       "                var html_5d23e297783f0bf19112340345aaf15b = $(`&lt;div id=&quot;html_5d23e297783f0bf19112340345aaf15b&quot; style=&quot;width: 100.0%; height: 100.0%;&quot;&gt;(&quot;&lt;b style=&#x27;font-size: 18px; &#x27;&gt;Pal&#x27;Karajo&lt;/b&gt;&lt;br&gt;Direccion: Avenida 101 Esquina 16 Centro&quot;, &quot;Especialidades: [&#x27;sandwich&#x27;]&quot;)&lt;/div&gt;`)[0];\n",
       "                popup_a5431a79841e39c49736dd5951efad9c.setContent(html_5d23e297783f0bf19112340345aaf15b);\n",
       "            \n",
       "        \n",
       "\n",
       "        marker_b31bb7ecd40a527938d7955ccc97f049.bindPopup(popup_a5431a79841e39c49736dd5951efad9c)\n",
       "        ;\n",
       "\n",
       "        \n",
       "    \n",
       "    \n",
       "            var marker_b80f1eff9b04ff467c50937165221de2 = L.marker(\n",
       "                [23.089981911375197, -82.37383881867649],\n",
       "                {\n",
       "}\n",
       "            ).addTo(map_7f5ed2f3d7f5669ce524652a5c024be3);\n",
       "        \n",
       "    \n",
       "            var icon_8a2230367c417fc9e04afc1393cde101 = L.AwesomeMarkers.icon(\n",
       "                {\n",
       "  &quot;markerColor&quot;: &quot;red&quot;,\n",
       "  &quot;iconColor&quot;: &quot;white&quot;,\n",
       "  &quot;icon&quot;: &quot;cutlery&quot;,\n",
       "  &quot;prefix&quot;: &quot;fa&quot;,\n",
       "  &quot;extraClasses&quot;: &quot;fa-rotate-0&quot;,\n",
       "}\n",
       "            );\n",
       "            marker_b80f1eff9b04ff467c50937165221de2.setIcon(icon_8a2230367c417fc9e04afc1393cde101);\n",
       "        \n",
       "    \n",
       "        var popup_ab35453998b1453ebfb5393a3e4c201f = L.popup({\n",
       "  &quot;maxWidth&quot;: &quot;100%&quot;,\n",
       "});\n",
       "\n",
       "        \n",
       "            \n",
       "                var html_105daa9f5c678055fe787b78e52047b3 = $(`&lt;div id=&quot;html_105daa9f5c678055fe787b78e52047b3&quot; style=&quot;width: 100.0%; height: 100.0%;&quot;&gt;(&quot;&lt;b style=&#x27;font-size: 18px; &#x27;&gt;Parrandas Grill Bar&lt;/b&gt;&lt;br&gt;Direccion: #366, Calle O&#x27;Farril entre Destrampes y Figueroa&quot;, &quot;Especialidades: [&#x27;mixta&#x27;]&quot;)&lt;/div&gt;`)[0];\n",
       "                popup_ab35453998b1453ebfb5393a3e4c201f.setContent(html_105daa9f5c678055fe787b78e52047b3);\n",
       "            \n",
       "        \n",
       "\n",
       "        marker_b80f1eff9b04ff467c50937165221de2.bindPopup(popup_ab35453998b1453ebfb5393a3e4c201f)\n",
       "        ;\n",
       "\n",
       "        \n",
       "    \n",
       "    \n",
       "            var marker_cacd5efc089972e4581fa4a9eb83975a = L.marker(\n",
       "                [23.10461483018299, -82.37587401682666],\n",
       "                {\n",
       "}\n",
       "            ).addTo(map_7f5ed2f3d7f5669ce524652a5c024be3);\n",
       "        \n",
       "    \n",
       "            var icon_55ea4496d15b01e59b5a97b4229591c6 = L.AwesomeMarkers.icon(\n",
       "                {\n",
       "  &quot;markerColor&quot;: &quot;red&quot;,\n",
       "  &quot;iconColor&quot;: &quot;white&quot;,\n",
       "  &quot;icon&quot;: &quot;cutlery&quot;,\n",
       "  &quot;prefix&quot;: &quot;fa&quot;,\n",
       "  &quot;extraClasses&quot;: &quot;fa-rotate-0&quot;,\n",
       "}\n",
       "            );\n",
       "            marker_cacd5efc089972e4581fa4a9eb83975a.setIcon(icon_55ea4496d15b01e59b5a97b4229591c6);\n",
       "        \n",
       "    \n",
       "        var popup_781dfa3d03c8a242d2fbba1eebf4caa9 = L.popup({\n",
       "  &quot;maxWidth&quot;: &quot;100%&quot;,\n",
       "});\n",
       "\n",
       "        \n",
       "            \n",
       "                var html_4e0ca6f5ec882cfd413d48cd107ec285 = $(`&lt;div id=&quot;html_4e0ca6f5ec882cfd413d48cd107ec285&quot; style=&quot;width: 100.0%; height: 100.0%;&quot;&gt;(&quot;&lt;b style=&#x27;font-size: 18px; &#x27;&gt;Pasos Habaneros&lt;/b&gt;&lt;br&gt;Direccion: Calle Santos Suárez 464 e/ Gómez y Mendoza. Santos Suárez&quot;, &quot;Especialidades: [&#x27;internacional&#x27;, &#x27;helados&#x27;]&quot;)&lt;/div&gt;`)[0];\n",
       "                popup_781dfa3d03c8a242d2fbba1eebf4caa9.setContent(html_4e0ca6f5ec882cfd413d48cd107ec285);\n",
       "            \n",
       "        \n",
       "\n",
       "        marker_cacd5efc089972e4581fa4a9eb83975a.bindPopup(popup_781dfa3d03c8a242d2fbba1eebf4caa9)\n",
       "        ;\n",
       "\n",
       "        \n",
       "    \n",
       "    \n",
       "            var marker_6006cbfff4db0bf114af477027ea0ac8 = L.marker(\n",
       "                [23.13691089950695, -82.36186773236341],\n",
       "                {\n",
       "}\n",
       "            ).addTo(map_7f5ed2f3d7f5669ce524652a5c024be3);\n",
       "        \n",
       "    \n",
       "            var icon_4db2b0f089261d1a0075d2be82cb2257 = L.AwesomeMarkers.icon(\n",
       "                {\n",
       "  &quot;markerColor&quot;: &quot;red&quot;,\n",
       "  &quot;iconColor&quot;: &quot;white&quot;,\n",
       "  &quot;icon&quot;: &quot;cutlery&quot;,\n",
       "  &quot;prefix&quot;: &quot;fa&quot;,\n",
       "  &quot;extraClasses&quot;: &quot;fa-rotate-0&quot;,\n",
       "}\n",
       "            );\n",
       "            marker_6006cbfff4db0bf114af477027ea0ac8.setIcon(icon_4db2b0f089261d1a0075d2be82cb2257);\n",
       "        \n",
       "    \n",
       "        var popup_6756ec02fbfffaf7ba254e4c5881c0a2 = L.popup({\n",
       "  &quot;maxWidth&quot;: &quot;100%&quot;,\n",
       "});\n",
       "\n",
       "        \n",
       "            \n",
       "                var html_0ece295850692655522e0c5a65e7143b = $(`&lt;div id=&quot;html_0ece295850692655522e0c5a65e7143b&quot; style=&quot;width: 100.0%; height: 100.0%;&quot;&gt;(&quot;&lt;b style=&#x27;font-size: 18px; &#x27;&gt;Pedro&#x27;s Bar&lt;/b&gt;&lt;br&gt;Direccion: 209 Blvd. de San Rafael entre Aguila y Amistad&quot;, &quot;Especialidades: [&#x27;italiana&#x27;]&quot;)&lt;/div&gt;`)[0];\n",
       "                popup_6756ec02fbfffaf7ba254e4c5881c0a2.setContent(html_0ece295850692655522e0c5a65e7143b);\n",
       "            \n",
       "        \n",
       "\n",
       "        marker_6006cbfff4db0bf114af477027ea0ac8.bindPopup(popup_6756ec02fbfffaf7ba254e4c5881c0a2)\n",
       "        ;\n",
       "\n",
       "        \n",
       "    \n",
       "    \n",
       "            var marker_780bd19d29ac08254b36f66667cd59f3 = L.marker(\n",
       "                [23.08152839668274, -82.34264074494948],\n",
       "                {\n",
       "}\n",
       "            ).addTo(map_7f5ed2f3d7f5669ce524652a5c024be3);\n",
       "        \n",
       "    \n",
       "            var icon_facf630719fa514746931d98bfe7a8b8 = L.AwesomeMarkers.icon(\n",
       "                {\n",
       "  &quot;markerColor&quot;: &quot;red&quot;,\n",
       "  &quot;iconColor&quot;: &quot;white&quot;,\n",
       "  &quot;icon&quot;: &quot;cutlery&quot;,\n",
       "  &quot;prefix&quot;: &quot;fa&quot;,\n",
       "  &quot;extraClasses&quot;: &quot;fa-rotate-0&quot;,\n",
       "}\n",
       "            );\n",
       "            marker_780bd19d29ac08254b36f66667cd59f3.setIcon(icon_facf630719fa514746931d98bfe7a8b8);\n",
       "        \n",
       "    \n",
       "        var popup_272445a7efb98195cefcf0eecdb3c2f3 = L.popup({\n",
       "  &quot;maxWidth&quot;: &quot;100%&quot;,\n",
       "});\n",
       "\n",
       "        \n",
       "            \n",
       "                var html_ff871f290a1ac7ab9e0977b2cf5e8814 = $(`&lt;div id=&quot;html_ff871f290a1ac7ab9e0977b2cf5e8814&quot; style=&quot;width: 100.0%; height: 100.0%;&quot;&gt;(&quot;&lt;b style=&#x27;font-size: 18px; &#x27;&gt;Perla Negra&lt;/b&gt;&lt;br&gt;Direccion: Milagros 114 e/ Heredia y Poey, Santos Suárez&quot;, &quot;Especialidades: [&#x27;cubana&#x27;, &#x27;italiana&#x27;]&quot;)&lt;/div&gt;`)[0];\n",
       "                popup_272445a7efb98195cefcf0eecdb3c2f3.setContent(html_ff871f290a1ac7ab9e0977b2cf5e8814);\n",
       "            \n",
       "        \n",
       "\n",
       "        marker_780bd19d29ac08254b36f66667cd59f3.bindPopup(popup_272445a7efb98195cefcf0eecdb3c2f3)\n",
       "        ;\n",
       "\n",
       "        \n",
       "    \n",
       "    \n",
       "            var marker_c2982967bcf25eff68943457a19f68a3 = L.marker(\n",
       "                [23.12356261631935, -82.30423505951029],\n",
       "                {\n",
       "}\n",
       "            ).addTo(map_7f5ed2f3d7f5669ce524652a5c024be3);\n",
       "        \n",
       "    \n",
       "            var icon_87b5f6d3b2d969bfb0cad47a8890c2d9 = L.AwesomeMarkers.icon(\n",
       "                {\n",
       "  &quot;markerColor&quot;: &quot;red&quot;,\n",
       "  &quot;iconColor&quot;: &quot;white&quot;,\n",
       "  &quot;icon&quot;: &quot;cutlery&quot;,\n",
       "  &quot;prefix&quot;: &quot;fa&quot;,\n",
       "  &quot;extraClasses&quot;: &quot;fa-rotate-0&quot;,\n",
       "}\n",
       "            );\n",
       "            marker_c2982967bcf25eff68943457a19f68a3.setIcon(icon_87b5f6d3b2d969bfb0cad47a8890c2d9);\n",
       "        \n",
       "    \n",
       "        var popup_5dda082fa6ddb6e55153e285c337cafc = L.popup({\n",
       "  &quot;maxWidth&quot;: &quot;100%&quot;,\n",
       "});\n",
       "\n",
       "        \n",
       "            \n",
       "                var html_326def2a589683b98ad04de6f977e579 = $(`&lt;div id=&quot;html_326def2a589683b98ad04de6f977e579&quot; style=&quot;width: 100.0%; height: 100.0%;&quot;&gt;(&quot;&lt;b style=&#x27;font-size: 18px; &#x27;&gt;Pizzas Vip&lt;/b&gt;&lt;br&gt;Direccion: E Guiral entre Luz y Maceo&quot;, &quot;Especialidades: [&#x27;Pizzas&#x27;, &#x27;Pastas&#x27;]&quot;)&lt;/div&gt;`)[0];\n",
       "                popup_5dda082fa6ddb6e55153e285c337cafc.setContent(html_326def2a589683b98ad04de6f977e579);\n",
       "            \n",
       "        \n",
       "\n",
       "        marker_c2982967bcf25eff68943457a19f68a3.bindPopup(popup_5dda082fa6ddb6e55153e285c337cafc)\n",
       "        ;\n",
       "\n",
       "        \n",
       "    \n",
       "    \n",
       "            var marker_3d64dda15c1d7b4a69a005ad7e8ebb1a = L.marker(\n",
       "                [23.139325457451932, -82.35937998794891],\n",
       "                {\n",
       "}\n",
       "            ).addTo(map_7f5ed2f3d7f5669ce524652a5c024be3);\n",
       "        \n",
       "    \n",
       "            var icon_a0e218a6261c6930309e4f21d1c7dcca = L.AwesomeMarkers.icon(\n",
       "                {\n",
       "  &quot;markerColor&quot;: &quot;red&quot;,\n",
       "  &quot;iconColor&quot;: &quot;white&quot;,\n",
       "  &quot;icon&quot;: &quot;cutlery&quot;,\n",
       "  &quot;prefix&quot;: &quot;fa&quot;,\n",
       "  &quot;extraClasses&quot;: &quot;fa-rotate-0&quot;,\n",
       "}\n",
       "            );\n",
       "            marker_3d64dda15c1d7b4a69a005ad7e8ebb1a.setIcon(icon_a0e218a6261c6930309e4f21d1c7dcca);\n",
       "        \n",
       "    \n",
       "        var popup_c1de5e4ab663b65014d285ece70fb5a3 = L.popup({\n",
       "  &quot;maxWidth&quot;: &quot;100%&quot;,\n",
       "});\n",
       "\n",
       "        \n",
       "            \n",
       "                var html_11cfaff587d9dd1605e1f5ab5d3f4970 = $(`&lt;div id=&quot;html_11cfaff587d9dd1605e1f5ab5d3f4970&quot; style=&quot;width: 100.0%; height: 100.0%;&quot;&gt;(&quot;&lt;b style=&#x27;font-size: 18px; &#x27;&gt;Plan H&lt;/b&gt;&lt;br&gt;Direccion: 308 P de Marti Ánimas y Virtudes&quot;, &quot;Especialidades: [&#x27;Comida Asiática&#x27;, &#x27;Internacional&#x27;, &#x27;Tailandesa&#x27;]&quot;)&lt;/div&gt;`)[0];\n",
       "                popup_c1de5e4ab663b65014d285ece70fb5a3.setContent(html_11cfaff587d9dd1605e1f5ab5d3f4970);\n",
       "            \n",
       "        \n",
       "\n",
       "        marker_3d64dda15c1d7b4a69a005ad7e8ebb1a.bindPopup(popup_c1de5e4ab663b65014d285ece70fb5a3)\n",
       "        ;\n",
       "\n",
       "        \n",
       "    \n",
       "    \n",
       "            var marker_95eaa23ba4d77820c6e9ae82f83638be = L.marker(\n",
       "                [23.122083546215134, -82.30797703533594],\n",
       "                {\n",
       "}\n",
       "            ).addTo(map_7f5ed2f3d7f5669ce524652a5c024be3);\n",
       "        \n",
       "    \n",
       "            var icon_e5d81b452095ee7c411c133faa8eda34 = L.AwesomeMarkers.icon(\n",
       "                {\n",
       "  &quot;markerColor&quot;: &quot;red&quot;,\n",
       "  &quot;iconColor&quot;: &quot;white&quot;,\n",
       "  &quot;icon&quot;: &quot;cutlery&quot;,\n",
       "  &quot;prefix&quot;: &quot;fa&quot;,\n",
       "  &quot;extraClasses&quot;: &quot;fa-rotate-0&quot;,\n",
       "}\n",
       "            );\n",
       "            marker_95eaa23ba4d77820c6e9ae82f83638be.setIcon(icon_e5d81b452095ee7c411c133faa8eda34);\n",
       "        \n",
       "    \n",
       "        var popup_fbe7a1900adcd4d4d098662d03044883 = L.popup({\n",
       "  &quot;maxWidth&quot;: &quot;100%&quot;,\n",
       "});\n",
       "\n",
       "        \n",
       "            \n",
       "                var html_f8afb4b5d5342db2eb21bdf39dde945b = $(`&lt;div id=&quot;html_f8afb4b5d5342db2eb21bdf39dde945b&quot; style=&quot;width: 100.0%; height: 100.0%;&quot;&gt;(&quot;&lt;b style=&#x27;font-size: 18px; &#x27;&gt;Polo&lt;/b&gt;&lt;br&gt;Direccion: Calle Cruz Verde entre Independencia Este y Barreto Este&quot;, &quot;Especialidades: [&#x27;Comida Internacional&#x27;]&quot;)&lt;/div&gt;`)[0];\n",
       "                popup_fbe7a1900adcd4d4d098662d03044883.setContent(html_f8afb4b5d5342db2eb21bdf39dde945b);\n",
       "            \n",
       "        \n",
       "\n",
       "        marker_95eaa23ba4d77820c6e9ae82f83638be.bindPopup(popup_fbe7a1900adcd4d4d098662d03044883)\n",
       "        ;\n",
       "\n",
       "        \n",
       "    \n",
       "    \n",
       "            var marker_7b456e1c763b2b175688e00b383eae1a = L.marker(\n",
       "                [23.067659194580123, -82.4512542109271],\n",
       "                {\n",
       "}\n",
       "            ).addTo(map_7f5ed2f3d7f5669ce524652a5c024be3);\n",
       "        \n",
       "    \n",
       "            var icon_9080476954d99240ecfcca108e4824cc = L.AwesomeMarkers.icon(\n",
       "                {\n",
       "  &quot;markerColor&quot;: &quot;red&quot;,\n",
       "  &quot;iconColor&quot;: &quot;white&quot;,\n",
       "  &quot;icon&quot;: &quot;cutlery&quot;,\n",
       "  &quot;prefix&quot;: &quot;fa&quot;,\n",
       "  &quot;extraClasses&quot;: &quot;fa-rotate-0&quot;,\n",
       "}\n",
       "            );\n",
       "            marker_7b456e1c763b2b175688e00b383eae1a.setIcon(icon_9080476954d99240ecfcca108e4824cc);\n",
       "        \n",
       "    \n",
       "        var popup_4466be782b1cafa98dba394037d070ca = L.popup({\n",
       "  &quot;maxWidth&quot;: &quot;100%&quot;,\n",
       "});\n",
       "\n",
       "        \n",
       "            \n",
       "                var html_9fdce15feb6137a30f39d842847f78b3 = $(`&lt;div id=&quot;html_9fdce15feb6137a30f39d842847f78b3&quot; style=&quot;width: 100.0%; height: 100.0%;&quot;&gt;(&quot;&lt;b style=&#x27;font-size: 18px; &#x27;&gt;Ranchon Don Martin&lt;/b&gt;&lt;br&gt;Direccion: Calle 198 no.3733 entre 37 y 45&quot;, &quot;Especialidades: [&#x27;cubana&#x27;, &#x27;criolla&#x27;, &#x27;asado&#x27;]&quot;)&lt;/div&gt;`)[0];\n",
       "                popup_4466be782b1cafa98dba394037d070ca.setContent(html_9fdce15feb6137a30f39d842847f78b3);\n",
       "            \n",
       "        \n",
       "\n",
       "        marker_7b456e1c763b2b175688e00b383eae1a.bindPopup(popup_4466be782b1cafa98dba394037d070ca)\n",
       "        ;\n",
       "\n",
       "        \n",
       "    \n",
       "    \n",
       "            var marker_a353d80103ef51b5b8a11d67f615bf63 = L.marker(\n",
       "                [23.08973578096908, -82.42166351867644],\n",
       "                {\n",
       "}\n",
       "            ).addTo(map_7f5ed2f3d7f5669ce524652a5c024be3);\n",
       "        \n",
       "    \n",
       "            var icon_5d66d65239fac8012689cb86cfc1d75c = L.AwesomeMarkers.icon(\n",
       "                {\n",
       "  &quot;markerColor&quot;: &quot;red&quot;,\n",
       "  &quot;iconColor&quot;: &quot;white&quot;,\n",
       "  &quot;icon&quot;: &quot;cutlery&quot;,\n",
       "  &quot;prefix&quot;: &quot;fa&quot;,\n",
       "  &quot;extraClasses&quot;: &quot;fa-rotate-0&quot;,\n",
       "}\n",
       "            );\n",
       "            marker_a353d80103ef51b5b8a11d67f615bf63.setIcon(icon_5d66d65239fac8012689cb86cfc1d75c);\n",
       "        \n",
       "    \n",
       "        var popup_903317f2e08e24dac40c16055cb6e0ab = L.popup({\n",
       "  &quot;maxWidth&quot;: &quot;100%&quot;,\n",
       "});\n",
       "\n",
       "        \n",
       "            \n",
       "                var html_c2a610ac1b2dbd96e39abba721e7b214 = $(`&lt;div id=&quot;html_c2a610ac1b2dbd96e39abba721e7b214&quot; style=&quot;width: 100.0%; height: 100.0%;&quot;&gt;(&quot;&lt;b style=&#x27;font-size: 18px; &#x27;&gt;Ranchon de 41&lt;/b&gt;&lt;br&gt;Direccion: Avenida 41 y 84&quot;, &quot;Especialidades: [&#x27;mixta&#x27;]&quot;)&lt;/div&gt;`)[0];\n",
       "                popup_903317f2e08e24dac40c16055cb6e0ab.setContent(html_c2a610ac1b2dbd96e39abba721e7b214);\n",
       "            \n",
       "        \n",
       "\n",
       "        marker_a353d80103ef51b5b8a11d67f615bf63.bindPopup(popup_903317f2e08e24dac40c16055cb6e0ab)\n",
       "        ;\n",
       "\n",
       "        \n",
       "    \n",
       "    \n",
       "            var marker_8be41933fe1eeb8506ab0c6cfa72e80c = L.marker(\n",
       "                [23.1593325543624, -82.28055542260424],\n",
       "                {\n",
       "}\n",
       "            ).addTo(map_7f5ed2f3d7f5669ce524652a5c024be3);\n",
       "        \n",
       "    \n",
       "            var icon_d486be785206aa249133c7e47466ff7c = L.AwesomeMarkers.icon(\n",
       "                {\n",
       "  &quot;markerColor&quot;: &quot;red&quot;,\n",
       "  &quot;iconColor&quot;: &quot;white&quot;,\n",
       "  &quot;icon&quot;: &quot;cutlery&quot;,\n",
       "  &quot;prefix&quot;: &quot;fa&quot;,\n",
       "  &quot;extraClasses&quot;: &quot;fa-rotate-0&quot;,\n",
       "}\n",
       "            );\n",
       "            marker_8be41933fe1eeb8506ab0c6cfa72e80c.setIcon(icon_d486be785206aa249133c7e47466ff7c);\n",
       "        \n",
       "    \n",
       "        var popup_9b7a45629bff8f9e4f699841e021682b = L.popup({\n",
       "  &quot;maxWidth&quot;: &quot;100%&quot;,\n",
       "});\n",
       "\n",
       "        \n",
       "            \n",
       "                var html_6aa9f771105f0fe678585cd40c52d671 = $(`&lt;div id=&quot;html_6aa9f771105f0fe678585cd40c52d671&quot; style=&quot;width: 100.0%; height: 100.0%;&quot;&gt;(&quot;&lt;b style=&#x27;font-size: 18px; &#x27;&gt;Ranchon Hanoi&lt;/b&gt;&lt;br&gt;Direccion: Parque Hanoi, zona 6, Alamar&quot;, &quot;Especialidades: [&#x27;Comida mixta&#x27;]&quot;)&lt;/div&gt;`)[0];\n",
       "                popup_9b7a45629bff8f9e4f699841e021682b.setContent(html_6aa9f771105f0fe678585cd40c52d671);\n",
       "            \n",
       "        \n",
       "\n",
       "        marker_8be41933fe1eeb8506ab0c6cfa72e80c.bindPopup(popup_9b7a45629bff8f9e4f699841e021682b)\n",
       "        ;\n",
       "\n",
       "        \n",
       "    \n",
       "    \n",
       "            var marker_c34268e69facb3e149d402d1a4596ac5 = L.marker(\n",
       "                [22.975899692812543, -82.3846842092052],\n",
       "                {\n",
       "}\n",
       "            ).addTo(map_7f5ed2f3d7f5669ce524652a5c024be3);\n",
       "        \n",
       "    \n",
       "            var icon_cf98e9b3d64fb126a049c9da501a9538 = L.AwesomeMarkers.icon(\n",
       "                {\n",
       "  &quot;markerColor&quot;: &quot;red&quot;,\n",
       "  &quot;iconColor&quot;: &quot;white&quot;,\n",
       "  &quot;icon&quot;: &quot;cutlery&quot;,\n",
       "  &quot;prefix&quot;: &quot;fa&quot;,\n",
       "  &quot;extraClasses&quot;: &quot;fa-rotate-0&quot;,\n",
       "}\n",
       "            );\n",
       "            marker_c34268e69facb3e149d402d1a4596ac5.setIcon(icon_cf98e9b3d64fb126a049c9da501a9538);\n",
       "        \n",
       "    \n",
       "        var popup_3c0440a3368248e7cc1417c40dd9b386 = L.popup({\n",
       "  &quot;maxWidth&quot;: &quot;100%&quot;,\n",
       "});\n",
       "\n",
       "        \n",
       "            \n",
       "                var html_39210f87e812f17601a71f2446266991 = $(`&lt;div id=&quot;html_39210f87e812f17601a71f2446266991&quot; style=&quot;width: 100.0%; height: 100.0%;&quot;&gt;(&quot;&lt;b style=&#x27;font-size: 18px; &#x27;&gt;Ranchon Las Vegas&lt;/b&gt;&lt;br&gt;Direccion: Calle 409 % 182 &amp; Avenida Independencia, Santiago de las Vegas &quot;, &quot;Especialidades: [&#x27;Cubana&#x27;, &#x27;criolla&#x27;, &#x27;internacional&#x27;]&quot;)&lt;/div&gt;`)[0];\n",
       "                popup_3c0440a3368248e7cc1417c40dd9b386.setContent(html_39210f87e812f17601a71f2446266991);\n",
       "            \n",
       "        \n",
       "\n",
       "        marker_c34268e69facb3e149d402d1a4596ac5.bindPopup(popup_3c0440a3368248e7cc1417c40dd9b386)\n",
       "        ;\n",
       "\n",
       "        \n",
       "    \n",
       "    \n",
       "            var marker_9d093cb30db587852606d25aa5756a09 = L.marker(\n",
       "                [23.143226340667947, -82.39569107139691],\n",
       "                {\n",
       "}\n",
       "            ).addTo(map_7f5ed2f3d7f5669ce524652a5c024be3);\n",
       "        \n",
       "    \n",
       "            var icon_aa5cd05a20aa6b8d740019cbd66c310f = L.AwesomeMarkers.icon(\n",
       "                {\n",
       "  &quot;markerColor&quot;: &quot;red&quot;,\n",
       "  &quot;iconColor&quot;: &quot;white&quot;,\n",
       "  &quot;icon&quot;: &quot;cutlery&quot;,\n",
       "  &quot;prefix&quot;: &quot;fa&quot;,\n",
       "  &quot;extraClasses&quot;: &quot;fa-rotate-0&quot;,\n",
       "}\n",
       "            );\n",
       "            marker_9d093cb30db587852606d25aa5756a09.setIcon(icon_aa5cd05a20aa6b8d740019cbd66c310f);\n",
       "        \n",
       "    \n",
       "        var popup_0da769b9d6917dd7856771cbb715a506 = L.popup({\n",
       "  &quot;maxWidth&quot;: &quot;100%&quot;,\n",
       "});\n",
       "\n",
       "        \n",
       "            \n",
       "                var html_21eca7b26d5d53f26a0b25f401aa32f3 = $(`&lt;div id=&quot;html_21eca7b26d5d53f26a0b25f401aa32f3&quot; style=&quot;width: 100.0%; height: 100.0%;&quot;&gt;(&quot;&lt;b style=&#x27;font-size: 18px; &#x27;&gt;Razones y Motivos&lt;/b&gt;&lt;br&gt;Direccion: Calle F No.63 entre 3era y 5ta, Vedado&quot;, &quot;Especialidades: [&#x27;Comida Caribeña&#x27;, &#x27;Latina&#x27;, &#x27;Cubana&#x27;, &#x27;criolla&#x27;, &#x27;Sudamericana&#x27;, &#x27;Centroamericana&#x27;]&quot;)&lt;/div&gt;`)[0];\n",
       "                popup_0da769b9d6917dd7856771cbb715a506.setContent(html_21eca7b26d5d53f26a0b25f401aa32f3);\n",
       "            \n",
       "        \n",
       "\n",
       "        marker_9d093cb30db587852606d25aa5756a09.bindPopup(popup_0da769b9d6917dd7856771cbb715a506)\n",
       "        ;\n",
       "\n",
       "        \n",
       "    \n",
       "    \n",
       "            var marker_232fb479c9f7c2d181317fd1f72c6846 = L.marker(\n",
       "                [23.12552270613754, -82.33261449654044],\n",
       "                {\n",
       "}\n",
       "            ).addTo(map_7f5ed2f3d7f5669ce524652a5c024be3);\n",
       "        \n",
       "    \n",
       "            var icon_d2b4c04449a5e83022d81d3b526f1dd0 = L.AwesomeMarkers.icon(\n",
       "                {\n",
       "  &quot;markerColor&quot;: &quot;red&quot;,\n",
       "  &quot;iconColor&quot;: &quot;white&quot;,\n",
       "  &quot;icon&quot;: &quot;cutlery&quot;,\n",
       "  &quot;prefix&quot;: &quot;fa&quot;,\n",
       "  &quot;extraClasses&quot;: &quot;fa-rotate-0&quot;,\n",
       "}\n",
       "            );\n",
       "            marker_232fb479c9f7c2d181317fd1f72c6846.setIcon(icon_d2b4c04449a5e83022d81d3b526f1dd0);\n",
       "        \n",
       "    \n",
       "        var popup_3643cd5a9d89ee7f7d1c74a689ef7ec4 = L.popup({\n",
       "  &quot;maxWidth&quot;: &quot;100%&quot;,\n",
       "});\n",
       "\n",
       "        \n",
       "            \n",
       "                var html_11cea5a3a5ad6ec5190e6f8ec232b0e4 = $(`&lt;div id=&quot;html_11cea5a3a5ad6ec5190e6f8ec232b0e4&quot; style=&quot;width: 100.0%; height: 100.0%;&quot;&gt;(&quot;&lt;b style=&#x27;font-size: 18px; &#x27;&gt;Restaurante Lan&lt;/b&gt;&lt;br&gt;Direccion: Maceo entre Fresneda y Agramonte&quot;, &quot;Especialidades: [&#x27;criolla&#x27;, &#x27;italiana&#x27;]&quot;)&lt;/div&gt;`)[0];\n",
       "                popup_3643cd5a9d89ee7f7d1c74a689ef7ec4.setContent(html_11cea5a3a5ad6ec5190e6f8ec232b0e4);\n",
       "            \n",
       "        \n",
       "\n",
       "        marker_232fb479c9f7c2d181317fd1f72c6846.bindPopup(popup_3643cd5a9d89ee7f7d1c74a689ef7ec4)\n",
       "        ;\n",
       "\n",
       "        \n",
       "    \n",
       "    \n",
       "            var marker_4614bdb102db82ae6786fa47d69d3326 = L.marker(\n",
       "                [23.137547259787535, -82.36095379003397],\n",
       "                {\n",
       "}\n",
       "            ).addTo(map_7f5ed2f3d7f5669ce524652a5c024be3);\n",
       "        \n",
       "    \n",
       "            var icon_a9ff8f4639224a3d3d4ade19af04c9ec = L.AwesomeMarkers.icon(\n",
       "                {\n",
       "  &quot;markerColor&quot;: &quot;red&quot;,\n",
       "  &quot;iconColor&quot;: &quot;white&quot;,\n",
       "  &quot;icon&quot;: &quot;cutlery&quot;,\n",
       "  &quot;prefix&quot;: &quot;fa&quot;,\n",
       "  &quot;extraClasses&quot;: &quot;fa-rotate-0&quot;,\n",
       "}\n",
       "            );\n",
       "            marker_4614bdb102db82ae6786fa47d69d3326.setIcon(icon_a9ff8f4639224a3d3d4ade19af04c9ec);\n",
       "        \n",
       "    \n",
       "        var popup_80b878de88b6a6bc02ad9863faaca64e = L.popup({\n",
       "  &quot;maxWidth&quot;: &quot;100%&quot;,\n",
       "});\n",
       "\n",
       "        \n",
       "            \n",
       "                var html_ac0222f7fcadbecc1faf37f0a0a8443b = $(`&lt;div id=&quot;html_ac0222f7fcadbecc1faf37f0a0a8443b&quot; style=&quot;width: 100.0%; height: 100.0%;&quot;&gt;(&quot;&lt;b style=&#x27;font-size: 18px; &#x27;&gt;Ricardon&lt;/b&gt;&lt;br&gt;Direccion: Industria entre San Miguel y Blvd de San Rafael&quot;, &quot;Especialidades: [&#x27;caribeña&#x27;, &#x27;latina&#x27;, &#x27;mediterránea&#x27;, &#x27;cubana&#x27;]&quot;)&lt;/div&gt;`)[0];\n",
       "                popup_80b878de88b6a6bc02ad9863faaca64e.setContent(html_ac0222f7fcadbecc1faf37f0a0a8443b);\n",
       "            \n",
       "        \n",
       "\n",
       "        marker_4614bdb102db82ae6786fa47d69d3326.bindPopup(popup_80b878de88b6a6bc02ad9863faaca64e)\n",
       "        ;\n",
       "\n",
       "        \n",
       "    \n",
       "    \n",
       "            var marker_1d971d39deb97ca3813a8c7d72ba9c13 = L.marker(\n",
       "                [23.126245278270186, -82.38010644455453],\n",
       "                {\n",
       "}\n",
       "            ).addTo(map_7f5ed2f3d7f5669ce524652a5c024be3);\n",
       "        \n",
       "    \n",
       "            var icon_e772a315071d5d95c7e4a1d49e5e3d2f = L.AwesomeMarkers.icon(\n",
       "                {\n",
       "  &quot;markerColor&quot;: &quot;red&quot;,\n",
       "  &quot;iconColor&quot;: &quot;white&quot;,\n",
       "  &quot;icon&quot;: &quot;cutlery&quot;,\n",
       "  &quot;prefix&quot;: &quot;fa&quot;,\n",
       "  &quot;extraClasses&quot;: &quot;fa-rotate-0&quot;,\n",
       "}\n",
       "            );\n",
       "            marker_1d971d39deb97ca3813a8c7d72ba9c13.setIcon(icon_e772a315071d5d95c7e4a1d49e5e3d2f);\n",
       "        \n",
       "    \n",
       "        var popup_1301cd1f4c4952362d5d5703ed397d21 = L.popup({\n",
       "  &quot;maxWidth&quot;: &quot;100%&quot;,\n",
       "});\n",
       "\n",
       "        \n",
       "            \n",
       "                var html_4ab19088060149084ba3d34aad055a14 = $(`&lt;div id=&quot;html_4ab19088060149084ba3d34aad055a14&quot; style=&quot;width: 100.0%; height: 100.0%;&quot;&gt;(&quot;&lt;b style=&#x27;font-size: 18px; &#x27;&gt;Rico Rico&lt;/b&gt;&lt;br&gt;Direccion: Calle Ayestarán entre Perfecto Lacoste y Aranguren&quot;, &quot;Especialidades: [&#x27;italiana&#x27;]&quot;)&lt;/div&gt;`)[0];\n",
       "                popup_1301cd1f4c4952362d5d5703ed397d21.setContent(html_4ab19088060149084ba3d34aad055a14);\n",
       "            \n",
       "        \n",
       "\n",
       "        marker_1d971d39deb97ca3813a8c7d72ba9c13.bindPopup(popup_1301cd1f4c4952362d5d5703ed397d21)\n",
       "        ;\n",
       "\n",
       "        \n",
       "    \n",
       "    \n",
       "            var marker_2481fc2897777997fbc2658ae616d9ee = L.marker(\n",
       "                [23.094673000199286, -82.41860913032004],\n",
       "                {\n",
       "}\n",
       "            ).addTo(map_7f5ed2f3d7f5669ce524652a5c024be3);\n",
       "        \n",
       "    \n",
       "            var icon_4408739486454944f405e8159db5d69f = L.AwesomeMarkers.icon(\n",
       "                {\n",
       "  &quot;markerColor&quot;: &quot;red&quot;,\n",
       "  &quot;iconColor&quot;: &quot;white&quot;,\n",
       "  &quot;icon&quot;: &quot;cutlery&quot;,\n",
       "  &quot;prefix&quot;: &quot;fa&quot;,\n",
       "  &quot;extraClasses&quot;: &quot;fa-rotate-0&quot;,\n",
       "}\n",
       "            );\n",
       "            marker_2481fc2897777997fbc2658ae616d9ee.setIcon(icon_4408739486454944f405e8159db5d69f);\n",
       "        \n",
       "    \n",
       "        var popup_e820d222ab9364b24558f77826fad4b0 = L.popup({\n",
       "  &quot;maxWidth&quot;: &quot;100%&quot;,\n",
       "});\n",
       "\n",
       "        \n",
       "            \n",
       "                var html_22965baba0c0a216f7c7c563290f4297 = $(`&lt;div id=&quot;html_22965baba0c0a216f7c7c563290f4297&quot; style=&quot;width: 100.0%; height: 100.0%;&quot;&gt;(&quot;&lt;b style=&#x27;font-size: 18px; &#x27;&gt;Restaurante Rodney (Tropicana)&lt;/b&gt;&lt;br&gt;Direccion: 72A,Avenida 41&quot;, &quot;Especialidades: [&#x27;cubana&#x27;, &#x27;internacional&#x27;, &#x27;criolla&#x27;]&quot;)&lt;/div&gt;`)[0];\n",
       "                popup_e820d222ab9364b24558f77826fad4b0.setContent(html_22965baba0c0a216f7c7c563290f4297);\n",
       "            \n",
       "        \n",
       "\n",
       "        marker_2481fc2897777997fbc2658ae616d9ee.bindPopup(popup_e820d222ab9364b24558f77826fad4b0)\n",
       "        ;\n",
       "\n",
       "        \n",
       "    \n",
       "    \n",
       "            var marker_be9930a78681e925adcb147dffb2eb62 = L.marker(\n",
       "                [23.093622177255977, -82.3641803168269],\n",
       "                {\n",
       "}\n",
       "            ).addTo(map_7f5ed2f3d7f5669ce524652a5c024be3);\n",
       "        \n",
       "    \n",
       "            var icon_35269b46186f527abe96b4336989bb3d = L.AwesomeMarkers.icon(\n",
       "                {\n",
       "  &quot;markerColor&quot;: &quot;red&quot;,\n",
       "  &quot;iconColor&quot;: &quot;white&quot;,\n",
       "  &quot;icon&quot;: &quot;cutlery&quot;,\n",
       "  &quot;prefix&quot;: &quot;fa&quot;,\n",
       "  &quot;extraClasses&quot;: &quot;fa-rotate-0&quot;,\n",
       "}\n",
       "            );\n",
       "            marker_be9930a78681e925adcb147dffb2eb62.setIcon(icon_35269b46186f527abe96b4336989bb3d);\n",
       "        \n",
       "    \n",
       "        var popup_13fc27fef8b08d7db881a6b9831b52bb = L.popup({\n",
       "  &quot;maxWidth&quot;: &quot;100%&quot;,\n",
       "});\n",
       "\n",
       "        \n",
       "            \n",
       "                var html_46990851efdd32c8f2c5d183980e4201 = $(`&lt;div id=&quot;html_46990851efdd32c8f2c5d183980e4201&quot; style=&quot;width: 100.0%; height: 100.0%;&quot;&gt;(&quot;&lt;b style=&#x27;font-size: 18px; &#x27;&gt;Roxinanda&lt;/b&gt;&lt;br&gt;Direccion: esquina de Santa Catalina y calzada de 10 de Octubre&quot;, &quot;Especialidades: [&#x27;Hamburguesa&#x27;]&quot;)&lt;/div&gt;`)[0];\n",
       "                popup_13fc27fef8b08d7db881a6b9831b52bb.setContent(html_46990851efdd32c8f2c5d183980e4201);\n",
       "            \n",
       "        \n",
       "\n",
       "        marker_be9930a78681e925adcb147dffb2eb62.bindPopup(popup_13fc27fef8b08d7db881a6b9831b52bb)\n",
       "        ;\n",
       "\n",
       "        \n",
       "    \n",
       "    \n",
       "            var marker_951c809964efa966346ecc159af48b15 = L.marker(\n",
       "                [23.134819322053957, -82.30638711918262],\n",
       "                {\n",
       "}\n",
       "            ).addTo(map_7f5ed2f3d7f5669ce524652a5c024be3);\n",
       "        \n",
       "    \n",
       "            var icon_641b1fcce74cd5de877237ff0cd23830 = L.AwesomeMarkers.icon(\n",
       "                {\n",
       "  &quot;markerColor&quot;: &quot;red&quot;,\n",
       "  &quot;iconColor&quot;: &quot;white&quot;,\n",
       "  &quot;icon&quot;: &quot;cutlery&quot;,\n",
       "  &quot;prefix&quot;: &quot;fa&quot;,\n",
       "  &quot;extraClasses&quot;: &quot;fa-rotate-0&quot;,\n",
       "}\n",
       "            );\n",
       "            marker_951c809964efa966346ecc159af48b15.setIcon(icon_641b1fcce74cd5de877237ff0cd23830);\n",
       "        \n",
       "    \n",
       "        var popup_271d7376dc866520fc766f20d0596c68 = L.popup({\n",
       "  &quot;maxWidth&quot;: &quot;100%&quot;,\n",
       "});\n",
       "\n",
       "        \n",
       "            \n",
       "                var html_2315b4c3d43085b3c3654a339e3d9c75 = $(`&lt;div id=&quot;html_2315b4c3d43085b3c3654a339e3d9c75&quot; style=&quot;width: 100.0%; height: 100.0%;&quot;&gt;(&quot;&lt;b style=&#x27;font-size: 18px; &#x27;&gt;Ruta 66&lt;/b&gt;&lt;br&gt;Direccion: Entre tercera y primera&quot;, &quot;Especialidades: [&#x27;criolla&#x27;, &#x27;hamburguesas&#x27;, &#x27;pizzas&#x27;, &#x27;pastas&#x27;]&quot;)&lt;/div&gt;`)[0];\n",
       "                popup_271d7376dc866520fc766f20d0596c68.setContent(html_2315b4c3d43085b3c3654a339e3d9c75);\n",
       "            \n",
       "        \n",
       "\n",
       "        marker_951c809964efa966346ecc159af48b15.bindPopup(popup_271d7376dc866520fc766f20d0596c68)\n",
       "        ;\n",
       "\n",
       "        \n",
       "    \n",
       "    \n",
       "            var marker_53adbc2d963783792b0f71cb255f9e4b = L.marker(\n",
       "                [23.13411346121413, -82.37839877964456],\n",
       "                {\n",
       "}\n",
       "            ).addTo(map_7f5ed2f3d7f5669ce524652a5c024be3);\n",
       "        \n",
       "    \n",
       "            var icon_5b61554e1cd4d2da55829fb35d63907e = L.AwesomeMarkers.icon(\n",
       "                {\n",
       "  &quot;markerColor&quot;: &quot;red&quot;,\n",
       "  &quot;iconColor&quot;: &quot;white&quot;,\n",
       "  &quot;icon&quot;: &quot;cutlery&quot;,\n",
       "  &quot;prefix&quot;: &quot;fa&quot;,\n",
       "  &quot;extraClasses&quot;: &quot;fa-rotate-0&quot;,\n",
       "}\n",
       "            );\n",
       "            marker_53adbc2d963783792b0f71cb255f9e4b.setIcon(icon_5b61554e1cd4d2da55829fb35d63907e);\n",
       "        \n",
       "    \n",
       "        var popup_fffd8cd897870b575fb51d4cc88066eb = L.popup({\n",
       "  &quot;maxWidth&quot;: &quot;100%&quot;,\n",
       "});\n",
       "\n",
       "        \n",
       "            \n",
       "                var html_7eedc6dcc96aa70af4494874393687f2 = $(`&lt;div id=&quot;html_7eedc6dcc96aa70af4494874393687f2&quot; style=&quot;width: 100.0%; height: 100.0%;&quot;&gt;(&quot;&lt;b style=&#x27;font-size: 18px; &#x27;&gt;Salchipizza&lt;/b&gt;&lt;br&gt;Direccion: Calle Infanta entre Zanja y Valle&quot;, &quot;Especialidades: [&#x27;cubana&#x27;]&quot;)&lt;/div&gt;`)[0];\n",
       "                popup_fffd8cd897870b575fb51d4cc88066eb.setContent(html_7eedc6dcc96aa70af4494874393687f2);\n",
       "            \n",
       "        \n",
       "\n",
       "        marker_53adbc2d963783792b0f71cb255f9e4b.bindPopup(popup_fffd8cd897870b575fb51d4cc88066eb)\n",
       "        ;\n",
       "\n",
       "        \n",
       "    \n",
       "    \n",
       "            var marker_66e55fc988aec215c3c8aecb70836e9e = L.marker(\n",
       "                [23.13562239054984, -82.37745889737107],\n",
       "                {\n",
       "}\n",
       "            ).addTo(map_7f5ed2f3d7f5669ce524652a5c024be3);\n",
       "        \n",
       "    \n",
       "            var icon_171a1edcac6e77e43692dd43ed086a7c = L.AwesomeMarkers.icon(\n",
       "                {\n",
       "  &quot;markerColor&quot;: &quot;red&quot;,\n",
       "  &quot;iconColor&quot;: &quot;white&quot;,\n",
       "  &quot;icon&quot;: &quot;cutlery&quot;,\n",
       "  &quot;prefix&quot;: &quot;fa&quot;,\n",
       "  &quot;extraClasses&quot;: &quot;fa-rotate-0&quot;,\n",
       "}\n",
       "            );\n",
       "            marker_66e55fc988aec215c3c8aecb70836e9e.setIcon(icon_171a1edcac6e77e43692dd43ed086a7c);\n",
       "        \n",
       "    \n",
       "        var popup_b6c5794f6d40b7247380267ac4b13c4e = L.popup({\n",
       "  &quot;maxWidth&quot;: &quot;100%&quot;,\n",
       "});\n",
       "\n",
       "        \n",
       "            \n",
       "                var html_ca2be4cfd9001f9742141609151d0fad = $(`&lt;div id=&quot;html_ca2be4cfd9001f9742141609151d0fad&quot; style=&quot;width: 100.0%; height: 100.0%;&quot;&gt;(&quot;&lt;b style=&#x27;font-size: 18px; &#x27;&gt;San Rafael 1051&lt;/b&gt;&lt;br&gt;Direccion: San Fransico entre San Rafael y San Martin&quot;, &quot;Especialidades: [&#x27;americana&#x27;, &#x27;internacional&#x27;]&quot;)&lt;/div&gt;`)[0];\n",
       "                popup_b6c5794f6d40b7247380267ac4b13c4e.setContent(html_ca2be4cfd9001f9742141609151d0fad);\n",
       "            \n",
       "        \n",
       "\n",
       "        marker_66e55fc988aec215c3c8aecb70836e9e.bindPopup(popup_b6c5794f6d40b7247380267ac4b13c4e)\n",
       "        ;\n",
       "\n",
       "        \n",
       "    \n",
       "    \n",
       "            var marker_64d5651df17063b0a31fdec5fc2196a0 = L.marker(\n",
       "                [23.117449358542444, -82.38458676119917],\n",
       "                {\n",
       "}\n",
       "            ).addTo(map_7f5ed2f3d7f5669ce524652a5c024be3);\n",
       "        \n",
       "    \n",
       "            var icon_9aa8bade14ab74f25151a71871765f76 = L.AwesomeMarkers.icon(\n",
       "                {\n",
       "  &quot;markerColor&quot;: &quot;red&quot;,\n",
       "  &quot;iconColor&quot;: &quot;white&quot;,\n",
       "  &quot;icon&quot;: &quot;cutlery&quot;,\n",
       "  &quot;prefix&quot;: &quot;fa&quot;,\n",
       "  &quot;extraClasses&quot;: &quot;fa-rotate-0&quot;,\n",
       "}\n",
       "            );\n",
       "            marker_64d5651df17063b0a31fdec5fc2196a0.setIcon(icon_9aa8bade14ab74f25151a71871765f76);\n",
       "        \n",
       "    \n",
       "        var popup_8d3a3f588ed45dc124be5c0c883822f5 = L.popup({\n",
       "  &quot;maxWidth&quot;: &quot;100%&quot;,\n",
       "});\n",
       "\n",
       "        \n",
       "            \n",
       "                var html_df4fd12ba3ef6efff91e0b0a9a94469f = $(`&lt;div id=&quot;html_df4fd12ba3ef6efff91e0b0a9a94469f&quot; style=&quot;width: 100.0%; height: 100.0%;&quot;&gt;(&quot;&lt;b style=&#x27;font-size: 18px; &#x27;&gt;Shapuceros&lt;/b&gt;&lt;br&gt;Direccion: Calzada de Ayestarán entre San Pedro y Ayuntamineto&quot;, &quot;Especialidades: [&#x27;Hamburgusera&#x27;]&quot;)&lt;/div&gt;`)[0];\n",
       "                popup_8d3a3f588ed45dc124be5c0c883822f5.setContent(html_df4fd12ba3ef6efff91e0b0a9a94469f);\n",
       "            \n",
       "        \n",
       "\n",
       "        marker_64d5651df17063b0a31fdec5fc2196a0.bindPopup(popup_8d3a3f588ed45dc124be5c0c883822f5)\n",
       "        ;\n",
       "\n",
       "        \n",
       "    \n",
       "    \n",
       "            var marker_f54793033cb4400f327600193780017c = L.marker(\n",
       "                [23.138045288912124, -82.35708342337576],\n",
       "                {\n",
       "}\n",
       "            ).addTo(map_7f5ed2f3d7f5669ce524652a5c024be3);\n",
       "        \n",
       "    \n",
       "            var icon_bd6579a5629a1e1166656e6d0ff8270a = L.AwesomeMarkers.icon(\n",
       "                {\n",
       "  &quot;markerColor&quot;: &quot;red&quot;,\n",
       "  &quot;iconColor&quot;: &quot;white&quot;,\n",
       "  &quot;icon&quot;: &quot;cutlery&quot;,\n",
       "  &quot;prefix&quot;: &quot;fa&quot;,\n",
       "  &quot;extraClasses&quot;: &quot;fa-rotate-0&quot;,\n",
       "}\n",
       "            );\n",
       "            marker_f54793033cb4400f327600193780017c.setIcon(icon_bd6579a5629a1e1166656e6d0ff8270a);\n",
       "        \n",
       "    \n",
       "        var popup_9d7a8363fa13a09fb9a7abe995cbae71 = L.popup({\n",
       "  &quot;maxWidth&quot;: &quot;100%&quot;,\n",
       "});\n",
       "\n",
       "        \n",
       "            \n",
       "                var html_288f8d1819101bffb6a144b663867651 = $(`&lt;div id=&quot;html_288f8d1819101bffb6a144b663867651&quot; style=&quot;width: 100.0%; height: 100.0%;&quot;&gt;(&quot;&lt;b style=&#x27;font-size: 18px; &#x27;&gt;Sibarita&lt;/b&gt;&lt;br&gt;Direccion: O&#x27;Reilly #528 entre Bernaza y Villegas&quot;, &quot;Especialidades: [&#x27;Comida Caribeña&#x27;, &#x27;Latina&#x27;, &#x27;Internacional&#x27;, &#x27;Mediterránea&#x27;, &#x27;Cubana&#x27;, &#x27;Centroamericana&#x27;]&quot;)&lt;/div&gt;`)[0];\n",
       "                popup_9d7a8363fa13a09fb9a7abe995cbae71.setContent(html_288f8d1819101bffb6a144b663867651);\n",
       "            \n",
       "        \n",
       "\n",
       "        marker_f54793033cb4400f327600193780017c.bindPopup(popup_9d7a8363fa13a09fb9a7abe995cbae71)\n",
       "        ;\n",
       "\n",
       "        \n",
       "    \n",
       "    \n",
       "            var marker_5fe5c50fa8159ec0aa160d9327fdec4f = L.marker(\n",
       "                [23.133637707331292, -82.39154731355289],\n",
       "                {\n",
       "}\n",
       "            ).addTo(map_7f5ed2f3d7f5669ce524652a5c024be3);\n",
       "        \n",
       "    \n",
       "            var icon_8a6fe0bff1923d1949cdb4866e40073c = L.AwesomeMarkers.icon(\n",
       "                {\n",
       "  &quot;markerColor&quot;: &quot;red&quot;,\n",
       "  &quot;iconColor&quot;: &quot;white&quot;,\n",
       "  &quot;icon&quot;: &quot;cutlery&quot;,\n",
       "  &quot;prefix&quot;: &quot;fa&quot;,\n",
       "  &quot;extraClasses&quot;: &quot;fa-rotate-0&quot;,\n",
       "}\n",
       "            );\n",
       "            marker_5fe5c50fa8159ec0aa160d9327fdec4f.setIcon(icon_8a6fe0bff1923d1949cdb4866e40073c);\n",
       "        \n",
       "    \n",
       "        var popup_110b94353d5845851d2722f6e95d8c3b = L.popup({\n",
       "  &quot;maxWidth&quot;: &quot;100%&quot;,\n",
       "});\n",
       "\n",
       "        \n",
       "            \n",
       "                var html_b1486e5927d7c5e38ded345eb4544136 = $(`&lt;div id=&quot;html_b1486e5927d7c5e38ded345eb4544136&quot; style=&quot;width: 100.0%; height: 100.0%;&quot;&gt;(&quot;&lt;b style=&#x27;font-size: 18px; &#x27;&gt;Sonar contigo&lt;/b&gt;&lt;br&gt;Direccion: Esquina Ave 23 y Calle C&quot;, &quot;Especialidades: [&#x27;Desayunos&#x27;, &#x27;Cafes&#x27;]&quot;)&lt;/div&gt;`)[0];\n",
       "                popup_110b94353d5845851d2722f6e95d8c3b.setContent(html_b1486e5927d7c5e38ded345eb4544136);\n",
       "            \n",
       "        \n",
       "\n",
       "        marker_5fe5c50fa8159ec0aa160d9327fdec4f.bindPopup(popup_110b94353d5845851d2722f6e95d8c3b)\n",
       "        ;\n",
       "\n",
       "        \n",
       "    \n",
       "    \n",
       "            var marker_946fc9ac9a864f00b887a468c64b93da = L.marker(\n",
       "                [23.127430900373163, -82.3996309593316],\n",
       "                {\n",
       "}\n",
       "            ).addTo(map_7f5ed2f3d7f5669ce524652a5c024be3);\n",
       "        \n",
       "    \n",
       "            var icon_d9b234f94f2ec00e637a8c0bc48b337e = L.AwesomeMarkers.icon(\n",
       "                {\n",
       "  &quot;markerColor&quot;: &quot;red&quot;,\n",
       "  &quot;iconColor&quot;: &quot;white&quot;,\n",
       "  &quot;icon&quot;: &quot;cutlery&quot;,\n",
       "  &quot;prefix&quot;: &quot;fa&quot;,\n",
       "  &quot;extraClasses&quot;: &quot;fa-rotate-0&quot;,\n",
       "}\n",
       "            );\n",
       "            marker_946fc9ac9a864f00b887a468c64b93da.setIcon(icon_d9b234f94f2ec00e637a8c0bc48b337e);\n",
       "        \n",
       "    \n",
       "        var popup_2863b5bbce4eac1ec27477610bd9ff37 = L.popup({\n",
       "  &quot;maxWidth&quot;: &quot;100%&quot;,\n",
       "});\n",
       "\n",
       "        \n",
       "            \n",
       "                var html_ef47d6c38272631ea8ab3ddc959dd06e = $(`&lt;div id=&quot;html_ef47d6c38272631ea8ab3ddc959dd06e&quot; style=&quot;width: 100.0%; height: 100.0%;&quot;&gt;(&quot;&lt;b style=&#x27;font-size: 18px; &#x27;&gt;Spot Bar&lt;/b&gt;&lt;br&gt;Direccion: 23 y 12, Vedado&quot;, &quot;Especialidades: [&#x27;Comida Mixta&#x27;]&quot;)&lt;/div&gt;`)[0];\n",
       "                popup_2863b5bbce4eac1ec27477610bd9ff37.setContent(html_ef47d6c38272631ea8ab3ddc959dd06e);\n",
       "            \n",
       "        \n",
       "\n",
       "        marker_946fc9ac9a864f00b887a468c64b93da.bindPopup(popup_2863b5bbce4eac1ec27477610bd9ff37)\n",
       "        ;\n",
       "\n",
       "        \n",
       "    \n",
       "    \n",
       "            var marker_f87f7fa717eb213829d771ad67ca8450 = L.marker(\n",
       "                [23.141094353520803, -82.35193028818678],\n",
       "                {\n",
       "}\n",
       "            ).addTo(map_7f5ed2f3d7f5669ce524652a5c024be3);\n",
       "        \n",
       "    \n",
       "            var icon_32934ac3d55aa2c0dad45ecb27abb818 = L.AwesomeMarkers.icon(\n",
       "                {\n",
       "  &quot;markerColor&quot;: &quot;red&quot;,\n",
       "  &quot;iconColor&quot;: &quot;white&quot;,\n",
       "  &quot;icon&quot;: &quot;cutlery&quot;,\n",
       "  &quot;prefix&quot;: &quot;fa&quot;,\n",
       "  &quot;extraClasses&quot;: &quot;fa-rotate-0&quot;,\n",
       "}\n",
       "            );\n",
       "            marker_f87f7fa717eb213829d771ad67ca8450.setIcon(icon_32934ac3d55aa2c0dad45ecb27abb818);\n",
       "        \n",
       "    \n",
       "        var popup_617f3c17eb1c2d57c86011a3e3b5ac3e = L.popup({\n",
       "  &quot;maxWidth&quot;: &quot;100%&quot;,\n",
       "});\n",
       "\n",
       "        \n",
       "            \n",
       "                var html_6dff00936979a505e8d56ed8ed813367 = $(`&lt;div id=&quot;html_6dff00936979a505e8d56ed8ed813367&quot; style=&quot;width: 100.0%; height: 100.0%;&quot;&gt;(&quot;&lt;b style=&#x27;font-size: 18px; &#x27;&gt;Star Cafe&lt;/b&gt;&lt;br&gt;Direccion: 216 Empedrado&quot;, &quot;Especialidades: [&#x27;Pizza&#x27;, &#x27;Internacional&#x27;, &#x27;Cubana&#x27;]&quot;)&lt;/div&gt;`)[0];\n",
       "                popup_617f3c17eb1c2d57c86011a3e3b5ac3e.setContent(html_6dff00936979a505e8d56ed8ed813367);\n",
       "            \n",
       "        \n",
       "\n",
       "        marker_f87f7fa717eb213829d771ad67ca8450.bindPopup(popup_617f3c17eb1c2d57c86011a3e3b5ac3e)\n",
       "        ;\n",
       "\n",
       "        \n",
       "    \n",
       "    \n",
       "            var marker_d91716ecb2f7680dcdc1f0449992fc10 = L.marker(\n",
       "                [23.142676112791115, -82.39937586429151],\n",
       "                {\n",
       "}\n",
       "            ).addTo(map_7f5ed2f3d7f5669ce524652a5c024be3);\n",
       "        \n",
       "    \n",
       "            var icon_ddde03043c9ff11bfb7e5b5dc248c9ce = L.AwesomeMarkers.icon(\n",
       "                {\n",
       "  &quot;markerColor&quot;: &quot;red&quot;,\n",
       "  &quot;iconColor&quot;: &quot;white&quot;,\n",
       "  &quot;icon&quot;: &quot;cutlery&quot;,\n",
       "  &quot;prefix&quot;: &quot;fa&quot;,\n",
       "  &quot;extraClasses&quot;: &quot;fa-rotate-0&quot;,\n",
       "}\n",
       "            );\n",
       "            marker_d91716ecb2f7680dcdc1f0449992fc10.setIcon(icon_ddde03043c9ff11bfb7e5b5dc248c9ce);\n",
       "        \n",
       "    \n",
       "        var popup_4c19169a0ae38e7a3652ff762e614fae = L.popup({\n",
       "  &quot;maxWidth&quot;: &quot;100%&quot;,\n",
       "});\n",
       "\n",
       "        \n",
       "            \n",
       "                var html_9f554bfa69696762546cecc612625b7e = $(`&lt;div id=&quot;html_9f554bfa69696762546cecc612625b7e&quot; style=&quot;width: 100.0%; height: 100.0%;&quot;&gt;(&quot;&lt;b style=&#x27;font-size: 18px; &#x27;&gt;Tablazo&lt;/b&gt;&lt;br&gt;Direccion: Calle 1era entre C y D, Vedado.&quot;, &quot;Especialidades: [&#x27;Italiana&#x27;, &#x27;caribeña&#x27;, &#x27;latina&#x27;, &#x27;internacional&#x27;, &#x27;cubana&#x27;]&quot;)&lt;/div&gt;`)[0];\n",
       "                popup_4c19169a0ae38e7a3652ff762e614fae.setContent(html_9f554bfa69696762546cecc612625b7e);\n",
       "            \n",
       "        \n",
       "\n",
       "        marker_d91716ecb2f7680dcdc1f0449992fc10.bindPopup(popup_4c19169a0ae38e7a3652ff762e614fae)\n",
       "        ;\n",
       "\n",
       "        \n",
       "    \n",
       "    \n",
       "            var marker_11fe01313b7ff009fc12c922d98421e0 = L.marker(\n",
       "                [22.971547817920836, -82.3848668593548],\n",
       "                {\n",
       "}\n",
       "            ).addTo(map_7f5ed2f3d7f5669ce524652a5c024be3);\n",
       "        \n",
       "    \n",
       "            var icon_19271815e458231f2f09c1ac39f257f3 = L.AwesomeMarkers.icon(\n",
       "                {\n",
       "  &quot;markerColor&quot;: &quot;red&quot;,\n",
       "  &quot;iconColor&quot;: &quot;white&quot;,\n",
       "  &quot;icon&quot;: &quot;cutlery&quot;,\n",
       "  &quot;prefix&quot;: &quot;fa&quot;,\n",
       "  &quot;extraClasses&quot;: &quot;fa-rotate-0&quot;,\n",
       "}\n",
       "            );\n",
       "            marker_11fe01313b7ff009fc12c922d98421e0.setIcon(icon_19271815e458231f2f09c1ac39f257f3);\n",
       "        \n",
       "    \n",
       "        var popup_625344c76ca9e87f3e27d6e4bc922918 = L.popup({\n",
       "  &quot;maxWidth&quot;: &quot;100%&quot;,\n",
       "});\n",
       "\n",
       "        \n",
       "            \n",
       "                var html_ca98aed5281bb3b085d5fe2e02f84de1 = $(`&lt;div id=&quot;html_ca98aed5281bb3b085d5fe2e02f84de1&quot; style=&quot;width: 100.0%; height: 100.0%;&quot;&gt;(&quot;&lt;b style=&#x27;font-size: 18px; &#x27;&gt;Tanokura&lt;/b&gt;&lt;br&gt;Direccion: Calle 403 %Ave. Rancho Boyeros  Calle B, Santiago de las Vegas&quot;, &quot;Especialidades: [&#x27;Italiana&#x27;, &#x27;criolla&#x27;, &#x27;internacional&#x27;]&quot;)&lt;/div&gt;`)[0];\n",
       "                popup_625344c76ca9e87f3e27d6e4bc922918.setContent(html_ca98aed5281bb3b085d5fe2e02f84de1);\n",
       "            \n",
       "        \n",
       "\n",
       "        marker_11fe01313b7ff009fc12c922d98421e0.bindPopup(popup_625344c76ca9e87f3e27d6e4bc922918)\n",
       "        ;\n",
       "\n",
       "        \n",
       "    \n",
       "    \n",
       "            var marker_1f7d9734d202efca3a32f00cf9b54ea8 = L.marker(\n",
       "                [23.135937842467282, -82.35497378290009],\n",
       "                {\n",
       "}\n",
       "            ).addTo(map_7f5ed2f3d7f5669ce524652a5c024be3);\n",
       "        \n",
       "    \n",
       "            var icon_8ceab41b2f9a22c1f63184f288a6925c = L.AwesomeMarkers.icon(\n",
       "                {\n",
       "  &quot;markerColor&quot;: &quot;red&quot;,\n",
       "  &quot;iconColor&quot;: &quot;white&quot;,\n",
       "  &quot;icon&quot;: &quot;cutlery&quot;,\n",
       "  &quot;prefix&quot;: &quot;fa&quot;,\n",
       "  &quot;extraClasses&quot;: &quot;fa-rotate-0&quot;,\n",
       "}\n",
       "            );\n",
       "            marker_1f7d9734d202efca3a32f00cf9b54ea8.setIcon(icon_8ceab41b2f9a22c1f63184f288a6925c);\n",
       "        \n",
       "    \n",
       "        var popup_67c4f19496abf28582441ee8687698a9 = L.popup({\n",
       "  &quot;maxWidth&quot;: &quot;100%&quot;,\n",
       "});\n",
       "\n",
       "        \n",
       "            \n",
       "                var html_822a455c8369aa3884139f71a7e4a6df = $(`&lt;div id=&quot;html_822a455c8369aa3884139f71a7e4a6df&quot; style=&quot;width: 100.0%; height: 100.0%;&quot;&gt;(&quot;&lt;b style=&#x27;font-size: 18px; &#x27;&gt;Teniente Rey 360&lt;/b&gt;&lt;br&gt;Direccion: Calle Teniente Rey #360 entre Aguacate y Villegas&quot;, &quot;Especialidades: [&#x27;Comida Caribeña&#x27;, &#x27;Latina&#x27;, &#x27;Marisco&#x27;, &#x27;Cubana&#x27;, &#x27;Sudamericana&#x27;, &#x27;Centroamericana&#x27;]&quot;)&lt;/div&gt;`)[0];\n",
       "                popup_67c4f19496abf28582441ee8687698a9.setContent(html_822a455c8369aa3884139f71a7e4a6df);\n",
       "            \n",
       "        \n",
       "\n",
       "        marker_1f7d9734d202efca3a32f00cf9b54ea8.bindPopup(popup_67c4f19496abf28582441ee8687698a9)\n",
       "        ;\n",
       "\n",
       "        \n",
       "    \n",
       "    \n",
       "            var marker_a020d99321c6bc970d412be508c05940 = L.marker(\n",
       "                [23.052187090195876, -82.38259188107308],\n",
       "                {\n",
       "}\n",
       "            ).addTo(map_7f5ed2f3d7f5669ce524652a5c024be3);\n",
       "        \n",
       "    \n",
       "            var icon_2f64e6b7d6a295ced4f1da6f0463bcd9 = L.AwesomeMarkers.icon(\n",
       "                {\n",
       "  &quot;markerColor&quot;: &quot;red&quot;,\n",
       "  &quot;iconColor&quot;: &quot;white&quot;,\n",
       "  &quot;icon&quot;: &quot;cutlery&quot;,\n",
       "  &quot;prefix&quot;: &quot;fa&quot;,\n",
       "  &quot;extraClasses&quot;: &quot;fa-rotate-0&quot;,\n",
       "}\n",
       "            );\n",
       "            marker_a020d99321c6bc970d412be508c05940.setIcon(icon_2f64e6b7d6a295ced4f1da6f0463bcd9);\n",
       "        \n",
       "    \n",
       "        var popup_b3b1cc22510be05cb637590abc1671ee = L.popup({\n",
       "  &quot;maxWidth&quot;: &quot;100%&quot;,\n",
       "});\n",
       "\n",
       "        \n",
       "            \n",
       "                var html_0a888b7a24f469653f34fd6e4a2a8f66 = $(`&lt;div id=&quot;html_0a888b7a24f469653f34fd6e4a2a8f66&quot; style=&quot;width: 100.0%; height: 100.0%;&quot;&gt;(&quot;&lt;b style=&#x27;font-size: 18px; &#x27;&gt;The Place&lt;/b&gt;&lt;br&gt;Direccion: calle 100, pasando Aldabo&quot;, &quot;Especialidades: [&#x27;mixta&#x27;]&quot;)&lt;/div&gt;`)[0];\n",
       "                popup_b3b1cc22510be05cb637590abc1671ee.setContent(html_0a888b7a24f469653f34fd6e4a2a8f66);\n",
       "            \n",
       "        \n",
       "\n",
       "        marker_a020d99321c6bc970d412be508c05940.bindPopup(popup_b3b1cc22510be05cb637590abc1671ee)\n",
       "        ;\n",
       "\n",
       "        \n",
       "    \n",
       "    \n",
       "            var marker_8422315a91e36c4ec9b2654e717b9bc6 = L.marker(\n",
       "                [23.13838390087665, -82.36063540385594],\n",
       "                {\n",
       "}\n",
       "            ).addTo(map_7f5ed2f3d7f5669ce524652a5c024be3);\n",
       "        \n",
       "    \n",
       "            var icon_68baf6ef68ededc580f9c67ddda6976a = L.AwesomeMarkers.icon(\n",
       "                {\n",
       "  &quot;markerColor&quot;: &quot;red&quot;,\n",
       "  &quot;iconColor&quot;: &quot;white&quot;,\n",
       "  &quot;icon&quot;: &quot;cutlery&quot;,\n",
       "  &quot;prefix&quot;: &quot;fa&quot;,\n",
       "  &quot;extraClasses&quot;: &quot;fa-rotate-0&quot;,\n",
       "}\n",
       "            );\n",
       "            marker_8422315a91e36c4ec9b2654e717b9bc6.setIcon(icon_68baf6ef68ededc580f9c67ddda6976a);\n",
       "        \n",
       "    \n",
       "        var popup_ebc833e1a03cffadcc7596ee5b883a65 = L.popup({\n",
       "  &quot;maxWidth&quot;: &quot;100%&quot;,\n",
       "});\n",
       "\n",
       "        \n",
       "            \n",
       "                var html_5ffe0811e751135266d354763f8be15a = $(`&lt;div id=&quot;html_5ffe0811e751135266d354763f8be15a&quot; style=&quot;width: 100.0%; height: 100.0%;&quot;&gt;(&quot;&lt;b style=&#x27;font-size: 18px; &#x27;&gt;Tonyzz Bar&lt;/b&gt;&lt;br&gt;Direccion: Consulado &amp;, San Miguel, La Habana&quot;, &quot;Especialidades: [&#x27;italiana&#x27;, &#x27;americana&#x27;, &#x27;india&#x27;, &#x27;caribeña&#x27;, &#x27;asiática&#x27;, &#x27;cubana&#x27;, &#x27;ceilanesa&#x27;]&quot;)&lt;/div&gt;`)[0];\n",
       "                popup_ebc833e1a03cffadcc7596ee5b883a65.setContent(html_5ffe0811e751135266d354763f8be15a);\n",
       "            \n",
       "        \n",
       "\n",
       "        marker_8422315a91e36c4ec9b2654e717b9bc6.bindPopup(popup_ebc833e1a03cffadcc7596ee5b883a65)\n",
       "        ;\n",
       "\n",
       "        \n",
       "    \n",
       "    \n",
       "            var marker_cac8a063262f9cb78a4f19ed9385fa09 = L.marker(\n",
       "                [23.135877861692762, -82.40428126252529],\n",
       "                {\n",
       "}\n",
       "            ).addTo(map_7f5ed2f3d7f5669ce524652a5c024be3);\n",
       "        \n",
       "    \n",
       "            var icon_6465e992e79d177edc2a0391debe3fe3 = L.AwesomeMarkers.icon(\n",
       "                {\n",
       "  &quot;markerColor&quot;: &quot;red&quot;,\n",
       "  &quot;iconColor&quot;: &quot;white&quot;,\n",
       "  &quot;icon&quot;: &quot;cutlery&quot;,\n",
       "  &quot;prefix&quot;: &quot;fa&quot;,\n",
       "  &quot;extraClasses&quot;: &quot;fa-rotate-0&quot;,\n",
       "}\n",
       "            );\n",
       "            marker_cac8a063262f9cb78a4f19ed9385fa09.setIcon(icon_6465e992e79d177edc2a0391debe3fe3);\n",
       "        \n",
       "    \n",
       "        var popup_4d11adfe8ad4d8b4c94cd1289f84a1bb = L.popup({\n",
       "  &quot;maxWidth&quot;: &quot;100%&quot;,\n",
       "});\n",
       "\n",
       "        \n",
       "            \n",
       "                var html_21cfcebebbf5cdceea111b27f2b58739 = $(`&lt;div id=&quot;html_21cfcebebbf5cdceea111b27f2b58739&quot; style=&quot;width: 100.0%; height: 100.0%;&quot;&gt;(&quot;&lt;b style=&#x27;font-size: 18px; &#x27;&gt;Toto e Pepino&lt;/b&gt;&lt;br&gt;Direccion: Calle 8 entre 5ta y Calzada, Vedado&quot;, &quot;Especialidades: [&#x27;Comida Italiana&#x27;, &#x27;Campania&#x27;]&quot;)&lt;/div&gt;`)[0];\n",
       "                popup_4d11adfe8ad4d8b4c94cd1289f84a1bb.setContent(html_21cfcebebbf5cdceea111b27f2b58739);\n",
       "            \n",
       "        \n",
       "\n",
       "        marker_cac8a063262f9cb78a4f19ed9385fa09.bindPopup(popup_4d11adfe8ad4d8b4c94cd1289f84a1bb)\n",
       "        ;\n",
       "\n",
       "        \n",
       "    \n",
       "    \n",
       "            var marker_3e179d5b30feb1310dd37b903da696c0 = L.marker(\n",
       "                [23.09472547391585, -82.42049115872929],\n",
       "                {\n",
       "}\n",
       "            ).addTo(map_7f5ed2f3d7f5669ce524652a5c024be3);\n",
       "        \n",
       "    \n",
       "            var icon_019a33f0218f177b6196ef03c984675b = L.AwesomeMarkers.icon(\n",
       "                {\n",
       "  &quot;markerColor&quot;: &quot;red&quot;,\n",
       "  &quot;iconColor&quot;: &quot;white&quot;,\n",
       "  &quot;icon&quot;: &quot;cutlery&quot;,\n",
       "  &quot;prefix&quot;: &quot;fa&quot;,\n",
       "  &quot;extraClasses&quot;: &quot;fa-rotate-0&quot;,\n",
       "}\n",
       "            );\n",
       "            marker_3e179d5b30feb1310dd37b903da696c0.setIcon(icon_019a33f0218f177b6196ef03c984675b);\n",
       "        \n",
       "    \n",
       "        var popup_0e2f0d5dec69a22c6828570413c866f7 = L.popup({\n",
       "  &quot;maxWidth&quot;: &quot;100%&quot;,\n",
       "});\n",
       "\n",
       "        \n",
       "            \n",
       "                var html_2d35979dd9ace2dd2794fd436ffc3db0 = $(`&lt;div id=&quot;html_2d35979dd9ace2dd2794fd436ffc3db0&quot; style=&quot;width: 100.0%; height: 100.0%;&quot;&gt;(&quot;&lt;b style=&#x27;font-size: 18px; &#x27;&gt;Tropikana&lt;/b&gt;&lt;br&gt;Direccion: Avenida 41, calle 72&quot;, &quot;Especialidades: [&#x27;internacional&#x27;, &#x27;italiana&#x27;, &#x27;cubana&#x27;]&quot;)&lt;/div&gt;`)[0];\n",
       "                popup_0e2f0d5dec69a22c6828570413c866f7.setContent(html_2d35979dd9ace2dd2794fd436ffc3db0);\n",
       "            \n",
       "        \n",
       "\n",
       "        marker_3e179d5b30feb1310dd37b903da696c0.bindPopup(popup_0e2f0d5dec69a22c6828570413c866f7)\n",
       "        ;\n",
       "\n",
       "        \n",
       "    \n",
       "    \n",
       "            var marker_0b6651a3246c56cb6778e422115cc72e = L.marker(\n",
       "                [23.139702313656233, -82.37592887167152],\n",
       "                {\n",
       "}\n",
       "            ).addTo(map_7f5ed2f3d7f5669ce524652a5c024be3);\n",
       "        \n",
       "    \n",
       "            var icon_64a1b9ef2b29cccfb5b6c2b683b08ccb = L.AwesomeMarkers.icon(\n",
       "                {\n",
       "  &quot;markerColor&quot;: &quot;red&quot;,\n",
       "  &quot;iconColor&quot;: &quot;white&quot;,\n",
       "  &quot;icon&quot;: &quot;cutlery&quot;,\n",
       "  &quot;prefix&quot;: &quot;fa&quot;,\n",
       "  &quot;extraClasses&quot;: &quot;fa-rotate-0&quot;,\n",
       "}\n",
       "            );\n",
       "            marker_0b6651a3246c56cb6778e422115cc72e.setIcon(icon_64a1b9ef2b29cccfb5b6c2b683b08ccb);\n",
       "        \n",
       "    \n",
       "        var popup_979048fb4ab7ad3c27749f3fe8629ef5 = L.popup({\n",
       "  &quot;maxWidth&quot;: &quot;100%&quot;,\n",
       "});\n",
       "\n",
       "        \n",
       "            \n",
       "                var html_37384ba830329a215306f2a907548bcf = $(`&lt;div id=&quot;html_37384ba830329a215306f2a907548bcf&quot; style=&quot;width: 100.0%; height: 100.0%;&quot;&gt;(&quot;&lt;b style=&#x27;font-size: 18px; &#x27;&gt;Tu Tiempo&lt;/b&gt;&lt;br&gt;Direccion: Calle Hospital entre San Lazaro y Jovellar&quot;, &quot;Especialidades: [&#x27;mixta&#x27;]&quot;)&lt;/div&gt;`)[0];\n",
       "                popup_979048fb4ab7ad3c27749f3fe8629ef5.setContent(html_37384ba830329a215306f2a907548bcf);\n",
       "            \n",
       "        \n",
       "\n",
       "        marker_0b6651a3246c56cb6778e422115cc72e.bindPopup(popup_979048fb4ab7ad3c27749f3fe8629ef5)\n",
       "        ;\n",
       "\n",
       "        \n",
       "    \n",
       "    \n",
       "            var marker_cac6e2dc817ce27a44496be8173028e9 = L.marker(\n",
       "                [23.121664387894754, -82.29610398447532],\n",
       "                {\n",
       "}\n",
       "            ).addTo(map_7f5ed2f3d7f5669ce524652a5c024be3);\n",
       "        \n",
       "    \n",
       "            var icon_852f17ec939b54b4578a0c9d7c57004e = L.AwesomeMarkers.icon(\n",
       "                {\n",
       "  &quot;markerColor&quot;: &quot;red&quot;,\n",
       "  &quot;iconColor&quot;: &quot;white&quot;,\n",
       "  &quot;icon&quot;: &quot;cutlery&quot;,\n",
       "  &quot;prefix&quot;: &quot;fa&quot;,\n",
       "  &quot;extraClasses&quot;: &quot;fa-rotate-0&quot;,\n",
       "}\n",
       "            );\n",
       "            marker_cac6e2dc817ce27a44496be8173028e9.setIcon(icon_852f17ec939b54b4578a0c9d7c57004e);\n",
       "        \n",
       "    \n",
       "        var popup_6cca338ffb68c72949eb5eda0813432a = L.popup({\n",
       "  &quot;maxWidth&quot;: &quot;100%&quot;,\n",
       "});\n",
       "\n",
       "        \n",
       "            \n",
       "                var html_8e703a634f687c16b69bb530220bf74f = $(`&lt;div id=&quot;html_8e703a634f687c16b69bb530220bf74f&quot; style=&quot;width: 100.0%; height: 100.0%;&quot;&gt;(&quot;&lt;b style=&#x27;font-size: 18px; &#x27;&gt;Vale &amp; Vane&lt;/b&gt;&lt;br&gt;Direccion: San Martin entre Corrales y Aparicion&quot;, &quot;Especialidades: [&#x27;italiana&#x27;, &#x27;criolla&#x27;]&quot;)&lt;/div&gt;`)[0];\n",
       "                popup_6cca338ffb68c72949eb5eda0813432a.setContent(html_8e703a634f687c16b69bb530220bf74f);\n",
       "            \n",
       "        \n",
       "\n",
       "        marker_cac6e2dc817ce27a44496be8173028e9.bindPopup(popup_6cca338ffb68c72949eb5eda0813432a)\n",
       "        ;\n",
       "\n",
       "        \n",
       "    \n",
       "    \n",
       "            var marker_49a334dc3dcca9a99ea1c435e88607d8 = L.marker(\n",
       "                [23.131006442270195, -82.3984675744632],\n",
       "                {\n",
       "}\n",
       "            ).addTo(map_7f5ed2f3d7f5669ce524652a5c024be3);\n",
       "        \n",
       "    \n",
       "            var icon_bb5d27e6a9aa0511a6f582d2b5bc7574 = L.AwesomeMarkers.icon(\n",
       "                {\n",
       "  &quot;markerColor&quot;: &quot;red&quot;,\n",
       "  &quot;iconColor&quot;: &quot;white&quot;,\n",
       "  &quot;icon&quot;: &quot;cutlery&quot;,\n",
       "  &quot;prefix&quot;: &quot;fa&quot;,\n",
       "  &quot;extraClasses&quot;: &quot;fa-rotate-0&quot;,\n",
       "}\n",
       "            );\n",
       "            marker_49a334dc3dcca9a99ea1c435e88607d8.setIcon(icon_bb5d27e6a9aa0511a6f582d2b5bc7574);\n",
       "        \n",
       "    \n",
       "        var popup_8a78240f247e80c06002b65b9166f51b = L.popup({\n",
       "  &quot;maxWidth&quot;: &quot;100%&quot;,\n",
       "});\n",
       "\n",
       "        \n",
       "            \n",
       "                var html_519daa206da9822804cb25de14040a17 = $(`&lt;div id=&quot;html_519daa206da9822804cb25de14040a17&quot; style=&quot;width: 100.0%; height: 100.0%;&quot;&gt;(&quot;&lt;b style=&#x27;font-size: 18px; &#x27;&gt;El Vampirito&lt;/b&gt;&lt;br&gt;Direccion: Calle 6 entre 19 y 21, Vedado&quot;, &quot;Especialidades: [&#x27;Pizza&#x27;, &#x27;Comida italiana&#x27;, &#x27;Sandwiches&#x27;]&quot;)&lt;/div&gt;`)[0];\n",
       "                popup_8a78240f247e80c06002b65b9166f51b.setContent(html_519daa206da9822804cb25de14040a17);\n",
       "            \n",
       "        \n",
       "\n",
       "        marker_49a334dc3dcca9a99ea1c435e88607d8.bindPopup(popup_8a78240f247e80c06002b65b9166f51b)\n",
       "        ;\n",
       "\n",
       "        \n",
       "    \n",
       "    \n",
       "            var marker_edb88777d2b4d63f8e537041b99dc754 = L.marker(\n",
       "                [23.135928366721494, -82.35711687469271],\n",
       "                {\n",
       "}\n",
       "            ).addTo(map_7f5ed2f3d7f5669ce524652a5c024be3);\n",
       "        \n",
       "    \n",
       "            var icon_3ca9a307fd283a3d2663a65e19fb40c0 = L.AwesomeMarkers.icon(\n",
       "                {\n",
       "  &quot;markerColor&quot;: &quot;red&quot;,\n",
       "  &quot;iconColor&quot;: &quot;white&quot;,\n",
       "  &quot;icon&quot;: &quot;cutlery&quot;,\n",
       "  &quot;prefix&quot;: &quot;fa&quot;,\n",
       "  &quot;extraClasses&quot;: &quot;fa-rotate-0&quot;,\n",
       "}\n",
       "            );\n",
       "            marker_edb88777d2b4d63f8e537041b99dc754.setIcon(icon_3ca9a307fd283a3d2663a65e19fb40c0);\n",
       "        \n",
       "    \n",
       "        var popup_0575a17dfe858a1585bed3a9148bc4af = L.popup({\n",
       "  &quot;maxWidth&quot;: &quot;100%&quot;,\n",
       "});\n",
       "\n",
       "        \n",
       "            \n",
       "                var html_10457f992096251ad6ea843fd4c2b9e0 = $(`&lt;div id=&quot;html_10457f992096251ad6ea843fd4c2b9e0&quot; style=&quot;width: 100.0%; height: 100.0%;&quot;&gt;(&quot;&lt;b style=&#x27;font-size: 18px; &#x27;&gt;Venami&lt;/b&gt;&lt;br&gt;Direccion: Monserrate #435 e/ Teniente Rey y Lamparilla&quot;, &quot;Especialidades: [&#x27;Italiana&#x27;, &#x27;Pizza&#x27;, &#x27;Mediterranea&#x27;, &#x27;Europea&#x27;]&quot;)&lt;/div&gt;`)[0];\n",
       "                popup_0575a17dfe858a1585bed3a9148bc4af.setContent(html_10457f992096251ad6ea843fd4c2b9e0);\n",
       "            \n",
       "        \n",
       "\n",
       "        marker_edb88777d2b4d63f8e537041b99dc754.bindPopup(popup_0575a17dfe858a1585bed3a9148bc4af)\n",
       "        ;\n",
       "\n",
       "        \n",
       "    \n",
       "    \n",
       "            var marker_1524c3a6b4fbc89d897bef9987751130 = L.marker(\n",
       "                [23.06514033812983, -82.39795431500336],\n",
       "                {\n",
       "}\n",
       "            ).addTo(map_7f5ed2f3d7f5669ce524652a5c024be3);\n",
       "        \n",
       "    \n",
       "            var icon_f52cae9fd03f400238f7365ed04ee6a3 = L.AwesomeMarkers.icon(\n",
       "                {\n",
       "  &quot;markerColor&quot;: &quot;red&quot;,\n",
       "  &quot;iconColor&quot;: &quot;white&quot;,\n",
       "  &quot;icon&quot;: &quot;cutlery&quot;,\n",
       "  &quot;prefix&quot;: &quot;fa&quot;,\n",
       "  &quot;extraClasses&quot;: &quot;fa-rotate-0&quot;,\n",
       "}\n",
       "            );\n",
       "            marker_1524c3a6b4fbc89d897bef9987751130.setIcon(icon_f52cae9fd03f400238f7365ed04ee6a3);\n",
       "        \n",
       "    \n",
       "        var popup_d7d49efd3c68fd908c66814bfa991890 = L.popup({\n",
       "  &quot;maxWidth&quot;: &quot;100%&quot;,\n",
       "});\n",
       "\n",
       "        \n",
       "            \n",
       "                var html_40234c680ba6fda9f59cca154c5ef388 = $(`&lt;div id=&quot;html_40234c680ba6fda9f59cca154c5ef388&quot; style=&quot;width: 100.0%; height: 100.0%;&quot;&gt;(&quot;&lt;b style=&#x27;font-size: 18px; &#x27;&gt;VenaVento&lt;/b&gt;&lt;br&gt;Direccion: Calle 10, esq. Vento&quot;, &quot;Especialidades: [&#x27;cubana&#x27;, &#x27;internacional&#x27;]&quot;)&lt;/div&gt;`)[0];\n",
       "                popup_d7d49efd3c68fd908c66814bfa991890.setContent(html_40234c680ba6fda9f59cca154c5ef388);\n",
       "            \n",
       "        \n",
       "\n",
       "        marker_1524c3a6b4fbc89d897bef9987751130.bindPopup(popup_d7d49efd3c68fd908c66814bfa991890)\n",
       "        ;\n",
       "\n",
       "        \n",
       "    \n",
       "    \n",
       "            var marker_c9b510fe369cc05bfd0cd41693d477ba = L.marker(\n",
       "                [22.973895524970906, -82.38392775915848],\n",
       "                {\n",
       "}\n",
       "            ).addTo(map_7f5ed2f3d7f5669ce524652a5c024be3);\n",
       "        \n",
       "    \n",
       "            var icon_fdc6354a97bdcd11523dcfa2a90c2ce1 = L.AwesomeMarkers.icon(\n",
       "                {\n",
       "  &quot;markerColor&quot;: &quot;red&quot;,\n",
       "  &quot;iconColor&quot;: &quot;white&quot;,\n",
       "  &quot;icon&quot;: &quot;cutlery&quot;,\n",
       "  &quot;prefix&quot;: &quot;fa&quot;,\n",
       "  &quot;extraClasses&quot;: &quot;fa-rotate-0&quot;,\n",
       "}\n",
       "            );\n",
       "            marker_c9b510fe369cc05bfd0cd41693d477ba.setIcon(icon_fdc6354a97bdcd11523dcfa2a90c2ce1);\n",
       "        \n",
       "    \n",
       "        var popup_300cfab417f3549506612fa450e4f6e1 = L.popup({\n",
       "  &quot;maxWidth&quot;: &quot;100%&quot;,\n",
       "});\n",
       "\n",
       "        \n",
       "            \n",
       "                var html_005f15e93b74ffa27c63de8ecff6c9fb = $(`&lt;div id=&quot;html_005f15e93b74ffa27c63de8ecff6c9fb&quot; style=&quot;width: 100.0%; height: 100.0%;&quot;&gt;(&quot;&lt;b style=&#x27;font-size: 18px; &#x27;&gt;Villanueva&lt;/b&gt;&lt;br&gt;Direccion: 182 # 39 511 e/ 395 y 397, Santiago de las Vegas&quot;, &quot;Especialidades: [&#x27;cubana&#x27;, &#x27;internacional&#x27;]&quot;)&lt;/div&gt;`)[0];\n",
       "                popup_300cfab417f3549506612fa450e4f6e1.setContent(html_005f15e93b74ffa27c63de8ecff6c9fb);\n",
       "            \n",
       "        \n",
       "\n",
       "        marker_c9b510fe369cc05bfd0cd41693d477ba.bindPopup(popup_300cfab417f3549506612fa450e4f6e1)\n",
       "        ;\n",
       "\n",
       "        \n",
       "    \n",
       "    \n",
       "            var marker_404942849bfccdbfe73aebc2ba65fd95 = L.marker(\n",
       "                [23.087246052907982, -82.3690334591559],\n",
       "                {\n",
       "}\n",
       "            ).addTo(map_7f5ed2f3d7f5669ce524652a5c024be3);\n",
       "        \n",
       "    \n",
       "            var icon_9c0539163d658a876d38b5cfcfddb9a5 = L.AwesomeMarkers.icon(\n",
       "                {\n",
       "  &quot;markerColor&quot;: &quot;red&quot;,\n",
       "  &quot;iconColor&quot;: &quot;white&quot;,\n",
       "  &quot;icon&quot;: &quot;cutlery&quot;,\n",
       "  &quot;prefix&quot;: &quot;fa&quot;,\n",
       "  &quot;extraClasses&quot;: &quot;fa-rotate-0&quot;,\n",
       "}\n",
       "            );\n",
       "            marker_404942849bfccdbfe73aebc2ba65fd95.setIcon(icon_9c0539163d658a876d38b5cfcfddb9a5);\n",
       "        \n",
       "    \n",
       "        var popup_cd8c705dc823da696a7653c6c340f786 = L.popup({\n",
       "  &quot;maxWidth&quot;: &quot;100%&quot;,\n",
       "});\n",
       "\n",
       "        \n",
       "            \n",
       "                var html_d23a3db865cf9f541f14a800b4c36cdf = $(`&lt;div id=&quot;html_d23a3db865cf9f541f14a800b4c36cdf&quot; style=&quot;width: 100.0%; height: 100.0%;&quot;&gt;(&quot;&lt;b style=&#x27;font-size: 18px; &#x27;&gt;Villa Hernandez&lt;/b&gt;&lt;br&gt;Direccion: Calle San Miguel, # 112 e/ Revolución y Gelabert, Sevillano&quot;, &quot;Especialidades: [&#x27;internacional&#x27;, &#x27;criolla&#x27;]&quot;)&lt;/div&gt;`)[0];\n",
       "                popup_cd8c705dc823da696a7653c6c340f786.setContent(html_d23a3db865cf9f541f14a800b4c36cdf);\n",
       "            \n",
       "        \n",
       "\n",
       "        marker_404942849bfccdbfe73aebc2ba65fd95.bindPopup(popup_cd8c705dc823da696a7653c6c340f786)\n",
       "        ;\n",
       "\n",
       "        \n",
       "    \n",
       "    \n",
       "            var marker_08b9716e5c7473260ea97662e8722bcd = L.marker(\n",
       "                [23.14072849372818, -82.3845988],\n",
       "                {\n",
       "}\n",
       "            ).addTo(map_7f5ed2f3d7f5669ce524652a5c024be3);\n",
       "        \n",
       "    \n",
       "            var icon_f28c34b73762a3c6ca509e084857e3a9 = L.AwesomeMarkers.icon(\n",
       "                {\n",
       "  &quot;markerColor&quot;: &quot;red&quot;,\n",
       "  &quot;iconColor&quot;: &quot;white&quot;,\n",
       "  &quot;icon&quot;: &quot;cutlery&quot;,\n",
       "  &quot;prefix&quot;: &quot;fa&quot;,\n",
       "  &quot;extraClasses&quot;: &quot;fa-rotate-0&quot;,\n",
       "}\n",
       "            );\n",
       "            marker_08b9716e5c7473260ea97662e8722bcd.setIcon(icon_f28c34b73762a3c6ca509e084857e3a9);\n",
       "        \n",
       "    \n",
       "        var popup_ba533eebf0b29b6717538a31092e21d5 = L.popup({\n",
       "  &quot;maxWidth&quot;: &quot;100%&quot;,\n",
       "});\n",
       "\n",
       "        \n",
       "            \n",
       "                var html_8df39c27d4daaffa6cc81eb02f5b9145 = $(`&lt;div id=&quot;html_8df39c27d4daaffa6cc81eb02f5b9145&quot; style=&quot;width: 100.0%; height: 100.0%;&quot;&gt;(&quot;&lt;b style=&#x27;font-size: 18px; &#x27;&gt;Vita Nuova&lt;/b&gt;&lt;br&gt;Direccion: Calle L esquina 21, Vedado&quot;, &quot;Especialidades: [&#x27;Comida Italiana&#x27;, &#x27;caribeña&#x27;, &#x27;internacional&#x27;, &#x27;cubana&#x27;]&quot;)&lt;/div&gt;`)[0];\n",
       "                popup_ba533eebf0b29b6717538a31092e21d5.setContent(html_8df39c27d4daaffa6cc81eb02f5b9145);\n",
       "            \n",
       "        \n",
       "\n",
       "        marker_08b9716e5c7473260ea97662e8722bcd.bindPopup(popup_ba533eebf0b29b6717538a31092e21d5)\n",
       "        ;\n",
       "\n",
       "        \n",
       "    \n",
       "    \n",
       "            var marker_670cc772da681859ddceefb6087d4911 = L.marker(\n",
       "                [23.13336490258953, -82.39873911512949],\n",
       "                {\n",
       "}\n",
       "            ).addTo(map_7f5ed2f3d7f5669ce524652a5c024be3);\n",
       "        \n",
       "    \n",
       "            var icon_5a3d40734fa093338c1c6f6aac7f674a = L.AwesomeMarkers.icon(\n",
       "                {\n",
       "  &quot;markerColor&quot;: &quot;red&quot;,\n",
       "  &quot;iconColor&quot;: &quot;white&quot;,\n",
       "  &quot;icon&quot;: &quot;cutlery&quot;,\n",
       "  &quot;prefix&quot;: &quot;fa&quot;,\n",
       "  &quot;extraClasses&quot;: &quot;fa-rotate-0&quot;,\n",
       "}\n",
       "            );\n",
       "            marker_670cc772da681859ddceefb6087d4911.setIcon(icon_5a3d40734fa093338c1c6f6aac7f674a);\n",
       "        \n",
       "    \n",
       "        var popup_30155bb485dba2a15bb720c778de9b13 = L.popup({\n",
       "  &quot;maxWidth&quot;: &quot;100%&quot;,\n",
       "});\n",
       "\n",
       "        \n",
       "            \n",
       "                var html_e2698f256dfd9cef7a01aa3bb3657dd9 = $(`&lt;div id=&quot;html_e2698f256dfd9cef7a01aa3bb3657dd9&quot; style=&quot;width: 100.0%; height: 100.0%;&quot;&gt;(&quot;&lt;b style=&#x27;font-size: 18px; &#x27;&gt;Wapa&lt;/b&gt;&lt;br&gt;Direccion: Calle 4 entre 15 y 17, Vedado&quot;, &quot;Especialidades: [&#x27;Cubana&#x27;, &#x27;Centroamericana&#x27;]&quot;)&lt;/div&gt;`)[0];\n",
       "                popup_30155bb485dba2a15bb720c778de9b13.setContent(html_e2698f256dfd9cef7a01aa3bb3657dd9);\n",
       "            \n",
       "        \n",
       "\n",
       "        marker_670cc772da681859ddceefb6087d4911.bindPopup(popup_30155bb485dba2a15bb720c778de9b13)\n",
       "        ;\n",
       "\n",
       "        \n",
       "    \n",
       "    \n",
       "            var marker_d720d95e27e9b9497b25d178450b5ae8 = L.marker(\n",
       "                [23.12975236724791, -82.35241985161278],\n",
       "                {\n",
       "}\n",
       "            ).addTo(map_7f5ed2f3d7f5669ce524652a5c024be3);\n",
       "        \n",
       "    \n",
       "            var icon_d413f4e539b7b915bf66e384c74f607b = L.AwesomeMarkers.icon(\n",
       "                {\n",
       "  &quot;markerColor&quot;: &quot;red&quot;,\n",
       "  &quot;iconColor&quot;: &quot;white&quot;,\n",
       "  &quot;icon&quot;: &quot;cutlery&quot;,\n",
       "  &quot;prefix&quot;: &quot;fa&quot;,\n",
       "  &quot;extraClasses&quot;: &quot;fa-rotate-0&quot;,\n",
       "}\n",
       "            );\n",
       "            marker_d720d95e27e9b9497b25d178450b5ae8.setIcon(icon_d413f4e539b7b915bf66e384c74f607b);\n",
       "        \n",
       "    \n",
       "        var popup_4e4509ee05fa0458f2858af9521d6fcb = L.popup({\n",
       "  &quot;maxWidth&quot;: &quot;100%&quot;,\n",
       "});\n",
       "\n",
       "        \n",
       "            \n",
       "                var html_4805dc66634b97d7c394ae237a174bb6 = $(`&lt;div id=&quot;html_4805dc66634b97d7c394ae237a174bb6&quot; style=&quot;width: 100.0%; height: 100.0%;&quot;&gt;(&quot;&lt;b style=&#x27;font-size: 18px; &#x27;&gt;Yarini&lt;/b&gt;&lt;br&gt;Direccion: Calle San Isidro #214 entre Picota y Compostela&quot;, &quot;Especialidades: [&#x27;Comida Internacional&#x27;, &#x27;Cubana&#x27;]&quot;)&lt;/div&gt;`)[0];\n",
       "                popup_4e4509ee05fa0458f2858af9521d6fcb.setContent(html_4805dc66634b97d7c394ae237a174bb6);\n",
       "            \n",
       "        \n",
       "\n",
       "        marker_d720d95e27e9b9497b25d178450b5ae8.bindPopup(popup_4e4509ee05fa0458f2858af9521d6fcb)\n",
       "        ;\n",
       "\n",
       "        \n",
       "    \n",
       "    \n",
       "            var marker_df2083e7a1d45038f4c90d1e8154292b = L.marker(\n",
       "                [23.098978185190347, -82.33972403216933],\n",
       "                {\n",
       "}\n",
       "            ).addTo(map_7f5ed2f3d7f5669ce524652a5c024be3);\n",
       "        \n",
       "    \n",
       "            var icon_83898c9b9c7b9f5088ab5f4bd2d1e736 = L.AwesomeMarkers.icon(\n",
       "                {\n",
       "  &quot;markerColor&quot;: &quot;red&quot;,\n",
       "  &quot;iconColor&quot;: &quot;white&quot;,\n",
       "  &quot;icon&quot;: &quot;cutlery&quot;,\n",
       "  &quot;prefix&quot;: &quot;fa&quot;,\n",
       "  &quot;extraClasses&quot;: &quot;fa-rotate-0&quot;,\n",
       "}\n",
       "            );\n",
       "            marker_df2083e7a1d45038f4c90d1e8154292b.setIcon(icon_83898c9b9c7b9f5088ab5f4bd2d1e736);\n",
       "        \n",
       "    \n",
       "        var popup_f7f7f7368c12168608da674b1984c45d = L.popup({\n",
       "  &quot;maxWidth&quot;: &quot;100%&quot;,\n",
       "});\n",
       "\n",
       "        \n",
       "            \n",
       "                var html_7a5c864e54539ed4dd38c8272dd1ee52 = $(`&lt;div id=&quot;html_7a5c864e54539ed4dd38c8272dd1ee52&quot; style=&quot;width: 100.0%; height: 100.0%;&quot;&gt;(&quot;&lt;b style=&#x27;font-size: 18px; &#x27;&gt;Yesterday Havana&lt;/b&gt;&lt;br&gt;Direccion: Rita % Blanchy y Calzada de Guines&quot;, &quot;Especialidades: [&#x27;Comida Mixta&#x27;]&quot;)&lt;/div&gt;`)[0];\n",
       "                popup_f7f7f7368c12168608da674b1984c45d.setContent(html_7a5c864e54539ed4dd38c8272dd1ee52);\n",
       "            \n",
       "        \n",
       "\n",
       "        marker_df2083e7a1d45038f4c90d1e8154292b.bindPopup(popup_f7f7f7368c12168608da674b1984c45d)\n",
       "        ;\n",
       "\n",
       "        \n",
       "    \n",
       "    \n",
       "            var marker_f81caff6e07f2eee06229b747cd78759 = L.marker(\n",
       "                [23.14231693189427, -82.39812833852959],\n",
       "                {\n",
       "}\n",
       "            ).addTo(map_7f5ed2f3d7f5669ce524652a5c024be3);\n",
       "        \n",
       "    \n",
       "            var icon_4288bc4e918f2bc1be5f86a8c4672d15 = L.AwesomeMarkers.icon(\n",
       "                {\n",
       "  &quot;markerColor&quot;: &quot;red&quot;,\n",
       "  &quot;iconColor&quot;: &quot;white&quot;,\n",
       "  &quot;icon&quot;: &quot;cutlery&quot;,\n",
       "  &quot;prefix&quot;: &quot;fa&quot;,\n",
       "  &quot;extraClasses&quot;: &quot;fa-rotate-0&quot;,\n",
       "}\n",
       "            );\n",
       "            marker_f81caff6e07f2eee06229b747cd78759.setIcon(icon_4288bc4e918f2bc1be5f86a8c4672d15);\n",
       "        \n",
       "    \n",
       "        var popup_a0968d8601e5a439fcfd423bd4ca993e = L.popup({\n",
       "  &quot;maxWidth&quot;: &quot;100%&quot;,\n",
       "});\n",
       "\n",
       "        \n",
       "            \n",
       "                var html_5f3a37830dd849533f1add83f240f9c4 = $(`&lt;div id=&quot;html_5f3a37830dd849533f1add83f240f9c4&quot; style=&quot;width: 100.0%; height: 100.0%;&quot;&gt;(&quot;&lt;b style=&#x27;font-size: 18px; &#x27;&gt;Yo invito&lt;/b&gt;&lt;br&gt;Direccion: Calle 3era, Esquina D, Vedado&quot;, &quot;Especialidades: [&#x27;Comida Cubana&#x27;, &#x27;criolla&#x27;]&quot;)&lt;/div&gt;`)[0];\n",
       "                popup_a0968d8601e5a439fcfd423bd4ca993e.setContent(html_5f3a37830dd849533f1add83f240f9c4);\n",
       "            \n",
       "        \n",
       "\n",
       "        marker_f81caff6e07f2eee06229b747cd78759.bindPopup(popup_a0968d8601e5a439fcfd423bd4ca993e)\n",
       "        ;\n",
       "\n",
       "        \n",
       "    \n",
       "&lt;/script&gt;\n",
       "&lt;/html&gt;\" style=\"position:absolute;width:100%;height:100%;left:0;top:0;border:none !important;\" allowfullscreen webkitallowfullscreen mozallowfullscreen></iframe></div></div>"
      ],
      "text/plain": [
       "<folium.folium.Map at 0x252bb297710>"
      ]
     },
     "metadata": {},
     "output_type": "display_data"
    }
   ],
   "source": [
    "\n",
    "#Mapa con los restaurantes ubicado :)\n",
    "mapa = fl.Map(location=[23.1, -82.4], zoom_start=11)\n",
    "\n",
    "lahabanamapa = {\"type\": \"FeatureCollection\", \"features\": [{\"geometry\": {\"type\": \"Polygon\", \"coordinates\": [[[-82.5403, 23.0517], [-82.5289, 23.0628], [-82.5239, 23.0735], [-82.509, 23.0829], [-82.5045, 23.0806], [-82.4981, 23.0844], [-82.5026, 23.0865], [-82.4957, 23.0937], [-82.4911, 23.0937], [-82.4894, 23.0897], [-82.4872, 23.0951], [-82.4835, 23.0947], [-82.4781, 23.0901], [-82.4783, 23.0949], [-82.4606, 23.0936], [-82.4609, 23.0976], [-82.4554, 23.0961], [-82.4535, 23.1017], [-82.4346, 23.1193], [-82.4152, 23.1334], [-82.4121, 23.1339], [-82.4119, 23.1305], [-82.4053, 23.1406], [-82.3912, 23.1478], [-82.3696, 23.1424], [-82.3579, 23.1468], [-82.3522, 23.145], [-82.345, 23.1353], [-82.3478, 23.1286], [-82.3577, 23.122], [-82.351, 23.1205], [-82.3448, 23.1266], [-82.3422, 23.1147], [-82.3343, 23.1123], [-82.3406, 23.1243], [-82.3359, 23.1273], [-82.3374, 23.1347], [-82.328, 23.1303], [-82.3281, 23.1382], [-82.3229, 23.1427], [-82.3446, 23.1424], [-82.3563, 23.1516], [-82.3244, 23.1664], [-82.3026, 23.1715], [-82.2944, 23.1688], [-82.2911, 23.1637], [-82.2892, 23.1702], [-82.2772, 23.1754], [-82.2442, 23.1786], [-82.2402, 23.1732], [-82.2393, 23.1783], [-82.228, 23.1806], [-82.214, 23.1785], [-82.2115, 23.1724], [-82.2121, 23.1785], [-82.2045, 23.1806], [-82.1518, 23.172], [-82.1258, 23.1744], [-82.1225, 23.1684], [-82.1161, 23.1715], [-82.1209, 23.1724], [-82.1185, 23.1737], [-82.098, 23.1729], [-82.0929, 23.1761], [-82.0925, 23.168], [-82.1016, 23.1666], [-82.1025, 23.1598], [-82.082, 23.1487], [-82.0799, 23.1245], [-82.0931, 23.1221], [-82.0861, 23.1055], [-82.1016, 23.0931], [-82.1015, 23.0847], [-82.1087, 23.0806], [-82.1058, 23.0767], [-82.1096, 23.0683], [-82.1011, 23.0555], [-82.1148, 23.0547], [-82.1445, 23.0685], [-82.15, 23.075], [-82.1562, 23.0744], [-82.1764, 23.0576], [-82.2231, 23.064], [-82.2256, 23.0165], [-82.1964, 22.9972], [-82.1979, 22.993], [-82.2115, 22.9944], [-82.2167, 22.9997], [-82.2283, 22.9804], [-82.2618, 22.9734], [-82.2475, 22.9564], [-82.2676, 22.9578], [-82.2798, 22.9519], [-82.2976, 22.9541], [-82.3009, 22.9627], [-82.3056, 22.9648], [-82.3132, 22.9649], [-82.3304, 22.9563], [-82.3648, 22.9667], [-82.3775, 22.9657], [-82.3759, 22.9558], [-82.3658, 22.9405], [-82.3868, 22.9337], [-82.4152, 22.9483], [-82.4287, 22.9466], [-82.4336, 22.9403], [-82.4458, 22.9471], [-82.4436, 22.9814], [-82.4482, 22.9851], [-82.4578, 22.9775], [-82.4661, 22.982], [-82.4672, 22.9783], [-82.4843, 22.9729], [-82.498, 22.9947], [-82.5012, 23.0095], [-82.5081, 23.0153], [-82.5066, 23.0211], [-82.4982, 23.0262], [-82.4949, 23.0323], [-82.4973, 23.0392], [-82.4917, 23.0411], [-82.4889, 23.0523], [-82.4921, 23.0736], [-82.4972, 23.0736], [-82.5021, 23.0687], [-82.5108, 23.0703], [-82.5329, 23.0523], [-82.5403, 23.0517]]]}, \"type\": \"Feature\", \"properties\": {\"province\": \"La Habana\", \"country\": \"Cuba\", \"region\": \"province\", \"country_domain\": \"cu\", \"province_id\": \"lha\", \"DPA_province_code\": \"23\"}}]}\n",
    "fl.GeoJson(lahabanamapa).add_to(mapa)\n",
    "for i, row in data2.iterrows():\n",
    "    coordenadas = [float(coord) for coord in row[\"location.coordinates\"].split(\", \")]\n",
    "    nombre = row[\"name\"]\n",
    "    direccion = row[\"location.address\"]\n",
    "    especializacion = row[\"specialized_food\"]\n",
    "   \n",
    "\n",
    "    fl.Marker(\n",
    "        location=coordenadas,\n",
    "        popup=(\n",
    "            f\"<b style='font-size: 18px; '>{nombre}</b><br>\"\n",
    "            f\"Direccion: {direccion}\",\n",
    "            f\"Especialidades: {especializacion}\",\n",
    "          ),\n",
    "          icon=fl.Icon(icon=\"cutlery\", prefix=\"fa\", color=\"red\")\n",
    "    ).add_to(mapa)\n",
    "display(mapa)\n",
    "\n",
    "#Fin... "
   ]
  },
  {
   "cell_type": "markdown",
   "metadata": {},
   "source": [
    "![5](terraza%20malecon.jpg)"
   ]
  }
 ],
 "metadata": {
  "kernelspec": {
   "display_name": "Python 3",
   "language": "python",
   "name": "python3"
  },
  "language_info": {
   "codemirror_mode": {
    "name": "ipython",
    "version": 3
   },
   "file_extension": ".py",
   "mimetype": "text/x-python",
   "name": "python",
   "nbconvert_exporter": "python",
   "pygments_lexer": "ipython3",
   "version": "3.11.7"
  }
 },
 "nbformat": 4,
 "nbformat_minor": 2
}
