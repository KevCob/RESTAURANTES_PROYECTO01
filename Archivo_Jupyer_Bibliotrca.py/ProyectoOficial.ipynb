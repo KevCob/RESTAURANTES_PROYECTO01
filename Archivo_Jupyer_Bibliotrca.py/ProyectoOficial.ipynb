{
 "cells": [
  {
   "cell_type": "code",
   "execution_count": 1,
   "metadata": {},
   "outputs": [],
   "source": [
    "import pandas as pd\n",
    "import plotly as pt\n",
    "import plotly.express as px\n",
    "import plotly.graph_objects as go\n",
    "import plotly.io as pio\n",
    "import folium as fl\n",
    "import ipywidgets as wi\n",
    "from collections import Counter\n",
    "from IPython.display import display\n",
    "import Biblioteca_Proyecto as bp\n",
    "import os\n",
    "import json"
   ]
  },
  {
   "cell_type": "code",
   "execution_count": 2,
   "metadata": {},
   "outputs": [],
   "source": [
    "\n",
    "data_list = []\n",
    "\n",
    "for i in os.listdir(\"C:\\\\Users\\\\User\\\\OneDrive\\\\Escritorio\\\\RESTAURANTES_PROYECTO01\\\\Json_Data\"):\n",
    "    if i.endswith(\".json\"):\n",
    "        with open(os.path.join(\"C:\\\\Users\\\\User\\\\OneDrive\\\\Escritorio\\\\RESTAURANTES_PROYECTO01\\\\Json_Data\", i), \"r\", encoding=\"utf-8\") as file:\n",
    "            json_loaded = json.load(file)\n",
    "            data_list.append(json_loaded)\n",
    "\n",
    "data = pd.DataFrame(data_list)\n",
    "data2 = pd.json_normalize(data_list)"
   ]
  },
  {
   "cell_type": "markdown",
   "metadata": {},
   "source": [
    "![1](Terraza.png)"
   ]
  },
  {
   "cell_type": "markdown",
   "metadata": {},
   "source": [
    "Ya Alejandro lleva 3 años en los Estados Unidos y sus amigos le aconsejaron que lo mejor opción para ayudar a su familia en Cuba era poniéndoles un negocio, él estaba decidido a invertir en algo que no solo generara ingresos, sino que tambíen mejorara la calidad de vida de sus padres en La Habana. Muchos le sugirieron algunas de las opciones mas populares en Cuba, como revender productos Shein, sin embargo el tenía una visión diferente,  su objetivo era establecer un negocio autosuficiente, y sabiendo ya que no habia mujer en La Habana que cocinara mejor que su vieja, decidió que abrir un restaurante era la mejor opción para lograr su objetivo....\n",
    "Su madre Caridad, una ama de casa que dedicó toda su vida a su esposo, a su hijo y a la cocina, casi infarta al escuchar la noticia de que por finnnn le van a empezar a pagar por cocinar algo que llevaba toda la vida haciendo por amor y sin ningún tipo de lucro.\n",
    "\n",
    "Para que todo saliera bien, Alejandro sabía que necesitaba resalizar un análisis exhaustivo de la competencia, por lo que tomó una muestra de los restaurantes de toda La Habana...\n",
    "\n"
   ]
  },
  {
   "cell_type": "code",
   "execution_count": 3,
   "metadata": {},
   "outputs": [
    {
     "data": {
      "application/vnd.plotly.v1+json": {
       "config": {
        "plotlyServerURL": "https://plot.ly"
       },
       "data": [
        {
         "cells": {
          "align": "left",
          "fill": {
           "color": "lavender"
          },
          "values": [
           [
            "plaza de la revolucion",
            "habana vieja",
            "10 de octubre",
            "centro habana",
            "playa",
            "habana del este",
            "boyeros",
            "san miguel del padron",
            "guanabacoa",
            "marianao",
            "arroyo naranjo",
            "la lisa",
            "cerro",
            "cotorro",
            "regla"
           ],
           [
            35,
            30,
            30,
            20,
            11,
            11,
            11,
            10,
            10,
            10,
            10,
            10,
            10,
            10,
            5
           ]
          ]
         },
         "header": {
          "align": "left",
          "fill": {
           "color": "green"
          },
          "values": [
           "Municipio",
           "Cantidad de Restaurantes"
          ]
         },
         "type": "table"
        }
       ],
       "layout": {
        "template": {
         "data": {
          "bar": [
           {
            "error_x": {
             "color": "#2a3f5f"
            },
            "error_y": {
             "color": "#2a3f5f"
            },
            "marker": {
             "line": {
              "color": "#E5ECF6",
              "width": 0.5
             },
             "pattern": {
              "fillmode": "overlay",
              "size": 10,
              "solidity": 0.2
             }
            },
            "type": "bar"
           }
          ],
          "barpolar": [
           {
            "marker": {
             "line": {
              "color": "#E5ECF6",
              "width": 0.5
             },
             "pattern": {
              "fillmode": "overlay",
              "size": 10,
              "solidity": 0.2
             }
            },
            "type": "barpolar"
           }
          ],
          "carpet": [
           {
            "aaxis": {
             "endlinecolor": "#2a3f5f",
             "gridcolor": "white",
             "linecolor": "white",
             "minorgridcolor": "white",
             "startlinecolor": "#2a3f5f"
            },
            "baxis": {
             "endlinecolor": "#2a3f5f",
             "gridcolor": "white",
             "linecolor": "white",
             "minorgridcolor": "white",
             "startlinecolor": "#2a3f5f"
            },
            "type": "carpet"
           }
          ],
          "choropleth": [
           {
            "colorbar": {
             "outlinewidth": 0,
             "ticks": ""
            },
            "type": "choropleth"
           }
          ],
          "contour": [
           {
            "colorbar": {
             "outlinewidth": 0,
             "ticks": ""
            },
            "colorscale": [
             [
              0,
              "#0d0887"
             ],
             [
              0.1111111111111111,
              "#46039f"
             ],
             [
              0.2222222222222222,
              "#7201a8"
             ],
             [
              0.3333333333333333,
              "#9c179e"
             ],
             [
              0.4444444444444444,
              "#bd3786"
             ],
             [
              0.5555555555555556,
              "#d8576b"
             ],
             [
              0.6666666666666666,
              "#ed7953"
             ],
             [
              0.7777777777777778,
              "#fb9f3a"
             ],
             [
              0.8888888888888888,
              "#fdca26"
             ],
             [
              1,
              "#f0f921"
             ]
            ],
            "type": "contour"
           }
          ],
          "contourcarpet": [
           {
            "colorbar": {
             "outlinewidth": 0,
             "ticks": ""
            },
            "type": "contourcarpet"
           }
          ],
          "heatmap": [
           {
            "colorbar": {
             "outlinewidth": 0,
             "ticks": ""
            },
            "colorscale": [
             [
              0,
              "#0d0887"
             ],
             [
              0.1111111111111111,
              "#46039f"
             ],
             [
              0.2222222222222222,
              "#7201a8"
             ],
             [
              0.3333333333333333,
              "#9c179e"
             ],
             [
              0.4444444444444444,
              "#bd3786"
             ],
             [
              0.5555555555555556,
              "#d8576b"
             ],
             [
              0.6666666666666666,
              "#ed7953"
             ],
             [
              0.7777777777777778,
              "#fb9f3a"
             ],
             [
              0.8888888888888888,
              "#fdca26"
             ],
             [
              1,
              "#f0f921"
             ]
            ],
            "type": "heatmap"
           }
          ],
          "heatmapgl": [
           {
            "colorbar": {
             "outlinewidth": 0,
             "ticks": ""
            },
            "colorscale": [
             [
              0,
              "#0d0887"
             ],
             [
              0.1111111111111111,
              "#46039f"
             ],
             [
              0.2222222222222222,
              "#7201a8"
             ],
             [
              0.3333333333333333,
              "#9c179e"
             ],
             [
              0.4444444444444444,
              "#bd3786"
             ],
             [
              0.5555555555555556,
              "#d8576b"
             ],
             [
              0.6666666666666666,
              "#ed7953"
             ],
             [
              0.7777777777777778,
              "#fb9f3a"
             ],
             [
              0.8888888888888888,
              "#fdca26"
             ],
             [
              1,
              "#f0f921"
             ]
            ],
            "type": "heatmapgl"
           }
          ],
          "histogram": [
           {
            "marker": {
             "pattern": {
              "fillmode": "overlay",
              "size": 10,
              "solidity": 0.2
             }
            },
            "type": "histogram"
           }
          ],
          "histogram2d": [
           {
            "colorbar": {
             "outlinewidth": 0,
             "ticks": ""
            },
            "colorscale": [
             [
              0,
              "#0d0887"
             ],
             [
              0.1111111111111111,
              "#46039f"
             ],
             [
              0.2222222222222222,
              "#7201a8"
             ],
             [
              0.3333333333333333,
              "#9c179e"
             ],
             [
              0.4444444444444444,
              "#bd3786"
             ],
             [
              0.5555555555555556,
              "#d8576b"
             ],
             [
              0.6666666666666666,
              "#ed7953"
             ],
             [
              0.7777777777777778,
              "#fb9f3a"
             ],
             [
              0.8888888888888888,
              "#fdca26"
             ],
             [
              1,
              "#f0f921"
             ]
            ],
            "type": "histogram2d"
           }
          ],
          "histogram2dcontour": [
           {
            "colorbar": {
             "outlinewidth": 0,
             "ticks": ""
            },
            "colorscale": [
             [
              0,
              "#0d0887"
             ],
             [
              0.1111111111111111,
              "#46039f"
             ],
             [
              0.2222222222222222,
              "#7201a8"
             ],
             [
              0.3333333333333333,
              "#9c179e"
             ],
             [
              0.4444444444444444,
              "#bd3786"
             ],
             [
              0.5555555555555556,
              "#d8576b"
             ],
             [
              0.6666666666666666,
              "#ed7953"
             ],
             [
              0.7777777777777778,
              "#fb9f3a"
             ],
             [
              0.8888888888888888,
              "#fdca26"
             ],
             [
              1,
              "#f0f921"
             ]
            ],
            "type": "histogram2dcontour"
           }
          ],
          "mesh3d": [
           {
            "colorbar": {
             "outlinewidth": 0,
             "ticks": ""
            },
            "type": "mesh3d"
           }
          ],
          "parcoords": [
           {
            "line": {
             "colorbar": {
              "outlinewidth": 0,
              "ticks": ""
             }
            },
            "type": "parcoords"
           }
          ],
          "pie": [
           {
            "automargin": true,
            "type": "pie"
           }
          ],
          "scatter": [
           {
            "fillpattern": {
             "fillmode": "overlay",
             "size": 10,
             "solidity": 0.2
            },
            "type": "scatter"
           }
          ],
          "scatter3d": [
           {
            "line": {
             "colorbar": {
              "outlinewidth": 0,
              "ticks": ""
             }
            },
            "marker": {
             "colorbar": {
              "outlinewidth": 0,
              "ticks": ""
             }
            },
            "type": "scatter3d"
           }
          ],
          "scattercarpet": [
           {
            "marker": {
             "colorbar": {
              "outlinewidth": 0,
              "ticks": ""
             }
            },
            "type": "scattercarpet"
           }
          ],
          "scattergeo": [
           {
            "marker": {
             "colorbar": {
              "outlinewidth": 0,
              "ticks": ""
             }
            },
            "type": "scattergeo"
           }
          ],
          "scattergl": [
           {
            "marker": {
             "colorbar": {
              "outlinewidth": 0,
              "ticks": ""
             }
            },
            "type": "scattergl"
           }
          ],
          "scattermapbox": [
           {
            "marker": {
             "colorbar": {
              "outlinewidth": 0,
              "ticks": ""
             }
            },
            "type": "scattermapbox"
           }
          ],
          "scatterpolar": [
           {
            "marker": {
             "colorbar": {
              "outlinewidth": 0,
              "ticks": ""
             }
            },
            "type": "scatterpolar"
           }
          ],
          "scatterpolargl": [
           {
            "marker": {
             "colorbar": {
              "outlinewidth": 0,
              "ticks": ""
             }
            },
            "type": "scatterpolargl"
           }
          ],
          "scatterternary": [
           {
            "marker": {
             "colorbar": {
              "outlinewidth": 0,
              "ticks": ""
             }
            },
            "type": "scatterternary"
           }
          ],
          "surface": [
           {
            "colorbar": {
             "outlinewidth": 0,
             "ticks": ""
            },
            "colorscale": [
             [
              0,
              "#0d0887"
             ],
             [
              0.1111111111111111,
              "#46039f"
             ],
             [
              0.2222222222222222,
              "#7201a8"
             ],
             [
              0.3333333333333333,
              "#9c179e"
             ],
             [
              0.4444444444444444,
              "#bd3786"
             ],
             [
              0.5555555555555556,
              "#d8576b"
             ],
             [
              0.6666666666666666,
              "#ed7953"
             ],
             [
              0.7777777777777778,
              "#fb9f3a"
             ],
             [
              0.8888888888888888,
              "#fdca26"
             ],
             [
              1,
              "#f0f921"
             ]
            ],
            "type": "surface"
           }
          ],
          "table": [
           {
            "cells": {
             "fill": {
              "color": "#EBF0F8"
             },
             "line": {
              "color": "white"
             }
            },
            "header": {
             "fill": {
              "color": "#C8D4E3"
             },
             "line": {
              "color": "white"
             }
            },
            "type": "table"
           }
          ]
         },
         "layout": {
          "annotationdefaults": {
           "arrowcolor": "#2a3f5f",
           "arrowhead": 0,
           "arrowwidth": 1
          },
          "autotypenumbers": "strict",
          "coloraxis": {
           "colorbar": {
            "outlinewidth": 0,
            "ticks": ""
           }
          },
          "colorscale": {
           "diverging": [
            [
             0,
             "#8e0152"
            ],
            [
             0.1,
             "#c51b7d"
            ],
            [
             0.2,
             "#de77ae"
            ],
            [
             0.3,
             "#f1b6da"
            ],
            [
             0.4,
             "#fde0ef"
            ],
            [
             0.5,
             "#f7f7f7"
            ],
            [
             0.6,
             "#e6f5d0"
            ],
            [
             0.7,
             "#b8e186"
            ],
            [
             0.8,
             "#7fbc41"
            ],
            [
             0.9,
             "#4d9221"
            ],
            [
             1,
             "#276419"
            ]
           ],
           "sequential": [
            [
             0,
             "#0d0887"
            ],
            [
             0.1111111111111111,
             "#46039f"
            ],
            [
             0.2222222222222222,
             "#7201a8"
            ],
            [
             0.3333333333333333,
             "#9c179e"
            ],
            [
             0.4444444444444444,
             "#bd3786"
            ],
            [
             0.5555555555555556,
             "#d8576b"
            ],
            [
             0.6666666666666666,
             "#ed7953"
            ],
            [
             0.7777777777777778,
             "#fb9f3a"
            ],
            [
             0.8888888888888888,
             "#fdca26"
            ],
            [
             1,
             "#f0f921"
            ]
           ],
           "sequentialminus": [
            [
             0,
             "#0d0887"
            ],
            [
             0.1111111111111111,
             "#46039f"
            ],
            [
             0.2222222222222222,
             "#7201a8"
            ],
            [
             0.3333333333333333,
             "#9c179e"
            ],
            [
             0.4444444444444444,
             "#bd3786"
            ],
            [
             0.5555555555555556,
             "#d8576b"
            ],
            [
             0.6666666666666666,
             "#ed7953"
            ],
            [
             0.7777777777777778,
             "#fb9f3a"
            ],
            [
             0.8888888888888888,
             "#fdca26"
            ],
            [
             1,
             "#f0f921"
            ]
           ]
          },
          "colorway": [
           "#636efa",
           "#EF553B",
           "#00cc96",
           "#ab63fa",
           "#FFA15A",
           "#19d3f3",
           "#FF6692",
           "#B6E880",
           "#FF97FF",
           "#FECB52"
          ],
          "font": {
           "color": "#2a3f5f"
          },
          "geo": {
           "bgcolor": "white",
           "lakecolor": "white",
           "landcolor": "#E5ECF6",
           "showlakes": true,
           "showland": true,
           "subunitcolor": "white"
          },
          "hoverlabel": {
           "align": "left"
          },
          "hovermode": "closest",
          "mapbox": {
           "style": "light"
          },
          "paper_bgcolor": "white",
          "plot_bgcolor": "#E5ECF6",
          "polar": {
           "angularaxis": {
            "gridcolor": "white",
            "linecolor": "white",
            "ticks": ""
           },
           "bgcolor": "#E5ECF6",
           "radialaxis": {
            "gridcolor": "white",
            "linecolor": "white",
            "ticks": ""
           }
          },
          "scene": {
           "xaxis": {
            "backgroundcolor": "#E5ECF6",
            "gridcolor": "white",
            "gridwidth": 2,
            "linecolor": "white",
            "showbackground": true,
            "ticks": "",
            "zerolinecolor": "white"
           },
           "yaxis": {
            "backgroundcolor": "#E5ECF6",
            "gridcolor": "white",
            "gridwidth": 2,
            "linecolor": "white",
            "showbackground": true,
            "ticks": "",
            "zerolinecolor": "white"
           },
           "zaxis": {
            "backgroundcolor": "#E5ECF6",
            "gridcolor": "white",
            "gridwidth": 2,
            "linecolor": "white",
            "showbackground": true,
            "ticks": "",
            "zerolinecolor": "white"
           }
          },
          "shapedefaults": {
           "line": {
            "color": "#2a3f5f"
           }
          },
          "ternary": {
           "aaxis": {
            "gridcolor": "white",
            "linecolor": "white",
            "ticks": ""
           },
           "baxis": {
            "gridcolor": "white",
            "linecolor": "white",
            "ticks": ""
           },
           "bgcolor": "#E5ECF6",
           "caxis": {
            "gridcolor": "white",
            "linecolor": "white",
            "ticks": ""
           }
          },
          "title": {
           "x": 0.05
          },
          "xaxis": {
           "automargin": true,
           "gridcolor": "white",
           "linecolor": "white",
           "ticks": "",
           "title": {
            "standoff": 15
           },
           "zerolinecolor": "white",
           "zerolinewidth": 2
          },
          "yaxis": {
           "automargin": true,
           "gridcolor": "white",
           "linecolor": "white",
           "ticks": "",
           "title": {
            "standoff": 15
           },
           "zerolinecolor": "white",
           "zerolinewidth": 2
          }
         }
        },
        "title": {
         "text": "Cantidad de Restaurantes por Municipio"
        }
       }
      }
     },
     "metadata": {},
     "output_type": "display_data"
    },
    {
     "name": "stdout",
     "output_type": "stream",
     "text": [
      "Total de Restaurantes:  223\n"
     ]
    }
   ],
   "source": [
    "#Tabla con la cantidad de jsons que hay de cada municipio :)\n",
    "municipio = data2[\"location.municipe\"].str.lower().str.strip()\n",
    "\n",
    "restaurantes_municipio = municipio.value_counts().reset_index()\n",
    "restaurantes_municipio.columns = [\"municipio\", \"cantidad_restaurantes\"]\n",
    "\n",
    "\n",
    "fig = go.Figure(data=[go.Table(\n",
    "    header=dict(values=[\"Municipio\", \"Cantidad de Restaurantes\"],\n",
    "                fill_color=\"green\",\n",
    "                align=\"left\"),\n",
    "    cells=dict(values=[restaurantes_municipio[\"municipio\"], restaurantes_municipio[\"cantidad_restaurantes\"]],\n",
    "               fill_color=\"lavender\",\n",
    "               align=\"left\"))\n",
    "])\n",
    "\n",
    "\n",
    "fig.update_layout(title=\"Cantidad de Restaurantes por Municipio\")\n",
    "fig.show()\n",
    "\n",
    "total = restaurantes_municipio['cantidad_restaurantes'].sum()\n",
    "print(\"Total de Restaurantes: \",total)\n"
   ]
  },
  {
   "cell_type": "markdown",
   "metadata": {},
   "source": [
    "Lo primero era estudiar el mercado para conocer los precios de la competencia, él quería que sus precios estuvieran por debajo de una gran parte de los restaurantes de \"glamour\", que como le decía su madre: \"mijo ese lugar es solo para turistas\", porque siempre consideró los precios \"locos\" un abuso para el cubano de a pie y quería que su restaurante, aunque no tuviera mucho lujo, fuera algo absequible al menos para la mayoría."
   ]
  },
  {
   "cell_type": "code",
   "execution_count": 13,
   "metadata": {},
   "outputs": [
    {
     "data": {
      "application/vnd.jupyter.widget-view+json": {
       "model_id": "e94b17a2667d4e51b9b235e3dd2abdaa",
       "version_major": 2,
       "version_minor": 0
      },
      "text/plain": [
       "interactive(children=(Dropdown(description='Municipio:', options=('regla', 'marianao', 'boyeros', 'habana del …"
      ]
     },
     "metadata": {},
     "output_type": "display_data"
    },
    {
     "data": {
      "text/plain": [
       "<function __main__.mostrar_tabla(i)>"
      ]
     },
     "execution_count": 13,
     "metadata": {},
     "output_type": "execute_result"
    }
   ],
   "source": [
    "#Tabla interactiva que muestra el promedio de los precios de los diferentes menus :)\n",
    "\n",
    "data2[\"menu_price\"] = data2.apply(bp.c_precio_medio, axis=1)\n",
    "\n",
    "data3 = data2.dropna(subset=[\"menu_price\"])\n",
    "\n",
    "data3 = data2.sort_values(by=[\"location.municipe\", \"menu_price\"], ascending=[True, True])\n",
    "\n",
    "municipios = data2[\"location.municipe\"].unique()\n",
    "municipios_arreglados = [municipio.lower().strip() for municipio in municipios]\n",
    "info_municipio = {}\n",
    "for i in municipios_arreglados:\n",
    "    info_municipio[i] = data3[data3[\"location.municipe\"] == i ]\n",
    "\n",
    "def mostrar_tabla(i):\n",
    "    display(info_municipio[i][[\"name\", \"menu_price\"]])\n",
    "\n",
    "selector_municipio = wi.Dropdown(options=municipios_arreglados, description=\"Municipio:\")\n",
    "wi.interact(mostrar_tabla, i=selector_municipio)\n",
    "\n"
   ]
  },
  {
   "cell_type": "markdown",
   "metadata": {},
   "source": [
    "Después que quedó comprobado que la media de los precios de los diferentes citios iban desde los 400 cup en pequeños cafés, o cafeterias estatales, hasta 4000 cup en restaurantes más refiinados en el corazón del Vedado o en las históricas plazas de la Habana Vieja, decidió que el suyo tendría un media de 1000 cup ya conocía el dato de que el salario medio de los cubanos es de 4.648 cup según la Oficina Nacional de Estadística e Información (ONEI) y dado que el precio medio de su restaurante vendría siendo el 21.51% de del sueldo, no le parecía lo más correcto, pero no podía hacer nada más debido al aumento de los precios de los productos que necesitaría para elaborar su menú.\n",
    "\n",
    "\n",
    "\n"
   ]
  },
  {
   "cell_type": "markdown",
   "metadata": {},
   "source": [
    "\n",
    "![2](Plato.png)\n"
   ]
  },
  {
   "cell_type": "markdown",
   "metadata": {},
   "source": [
    "Ay!!, mijo lo único que te va a pedir tu madre es que por favor no me pongas a preparar moderneses tu sabes que mi cocina es a la antigua y compra sazones naturales que para tí no es novedad el odio que le tengo a cocinar con polvitos de esos.\n",
    "\n",
    "-Alejandro: Tranquila vieja, aquí se cocina lo que tú digas y sabes que no hay cosa que nos guste más a nosotros que los platillos comunes, aqui no somos de caviar, ni de salmón, hasta el restaurante mas glamuroso de La Habana tiene que tener en su menú una oferta de ropa vieja y unas buenas croquetas."
   ]
  },
  {
   "cell_type": "code",
   "execution_count": 5,
   "metadata": {},
   "outputs": [
    {
     "data": {
      "application/vnd.plotly.v1+json": {
       "config": {
        "plotlyServerURL": "https://plot.ly"
       },
       "data": [
        {
         "marker": {
          "color": "red"
         },
         "name": "Entrantes",
         "type": "bar",
         "visible": true,
         "x": [
          "croquetas",
          "frituras de malanga",
          "papas fritas"
         ],
         "y": [
          43,
          43,
          37
         ]
        },
        {
         "marker": {
          "color": "blue"
         },
         "name": "Principales",
         "type": "bar",
         "visible": false,
         "x": [
          "ropa vieja",
          "bistec de cerdo",
          "vaca frita"
         ],
         "y": [
          47,
          30,
          29
         ]
        },
        {
         "marker": {
          "color": "green"
         },
         "name": "Pizzas",
         "type": "bar",
         "visible": false,
         "x": [
          "pizza napolitana",
          "pizza hawaiana",
          "pizza de jamon"
         ],
         "y": [
          38,
          30,
          19
         ]
        },
        {
         "marker": {
          "color": "orange"
         },
         "name": "Postres",
         "type": "bar",
         "visible": false,
         "x": [
          "flan",
          "copa de helado",
          "copa lolita"
         ],
         "y": [
          19,
          17,
          15
         ]
        },
        {
         "marker": {
          "color": "purple"
         },
         "name": "Cocteles",
         "type": "bar",
         "visible": false,
         "x": [
          "cuba libre",
          "mojito",
          "caipiroska"
         ],
         "y": [
          69,
          65,
          61
         ]
        }
       ],
       "layout": {
        "template": {
         "data": {
          "bar": [
           {
            "error_x": {
             "color": "#2a3f5f"
            },
            "error_y": {
             "color": "#2a3f5f"
            },
            "marker": {
             "line": {
              "color": "#E5ECF6",
              "width": 0.5
             },
             "pattern": {
              "fillmode": "overlay",
              "size": 10,
              "solidity": 0.2
             }
            },
            "type": "bar"
           }
          ],
          "barpolar": [
           {
            "marker": {
             "line": {
              "color": "#E5ECF6",
              "width": 0.5
             },
             "pattern": {
              "fillmode": "overlay",
              "size": 10,
              "solidity": 0.2
             }
            },
            "type": "barpolar"
           }
          ],
          "carpet": [
           {
            "aaxis": {
             "endlinecolor": "#2a3f5f",
             "gridcolor": "white",
             "linecolor": "white",
             "minorgridcolor": "white",
             "startlinecolor": "#2a3f5f"
            },
            "baxis": {
             "endlinecolor": "#2a3f5f",
             "gridcolor": "white",
             "linecolor": "white",
             "minorgridcolor": "white",
             "startlinecolor": "#2a3f5f"
            },
            "type": "carpet"
           }
          ],
          "choropleth": [
           {
            "colorbar": {
             "outlinewidth": 0,
             "ticks": ""
            },
            "type": "choropleth"
           }
          ],
          "contour": [
           {
            "colorbar": {
             "outlinewidth": 0,
             "ticks": ""
            },
            "colorscale": [
             [
              0,
              "#0d0887"
             ],
             [
              0.1111111111111111,
              "#46039f"
             ],
             [
              0.2222222222222222,
              "#7201a8"
             ],
             [
              0.3333333333333333,
              "#9c179e"
             ],
             [
              0.4444444444444444,
              "#bd3786"
             ],
             [
              0.5555555555555556,
              "#d8576b"
             ],
             [
              0.6666666666666666,
              "#ed7953"
             ],
             [
              0.7777777777777778,
              "#fb9f3a"
             ],
             [
              0.8888888888888888,
              "#fdca26"
             ],
             [
              1,
              "#f0f921"
             ]
            ],
            "type": "contour"
           }
          ],
          "contourcarpet": [
           {
            "colorbar": {
             "outlinewidth": 0,
             "ticks": ""
            },
            "type": "contourcarpet"
           }
          ],
          "heatmap": [
           {
            "colorbar": {
             "outlinewidth": 0,
             "ticks": ""
            },
            "colorscale": [
             [
              0,
              "#0d0887"
             ],
             [
              0.1111111111111111,
              "#46039f"
             ],
             [
              0.2222222222222222,
              "#7201a8"
             ],
             [
              0.3333333333333333,
              "#9c179e"
             ],
             [
              0.4444444444444444,
              "#bd3786"
             ],
             [
              0.5555555555555556,
              "#d8576b"
             ],
             [
              0.6666666666666666,
              "#ed7953"
             ],
             [
              0.7777777777777778,
              "#fb9f3a"
             ],
             [
              0.8888888888888888,
              "#fdca26"
             ],
             [
              1,
              "#f0f921"
             ]
            ],
            "type": "heatmap"
           }
          ],
          "heatmapgl": [
           {
            "colorbar": {
             "outlinewidth": 0,
             "ticks": ""
            },
            "colorscale": [
             [
              0,
              "#0d0887"
             ],
             [
              0.1111111111111111,
              "#46039f"
             ],
             [
              0.2222222222222222,
              "#7201a8"
             ],
             [
              0.3333333333333333,
              "#9c179e"
             ],
             [
              0.4444444444444444,
              "#bd3786"
             ],
             [
              0.5555555555555556,
              "#d8576b"
             ],
             [
              0.6666666666666666,
              "#ed7953"
             ],
             [
              0.7777777777777778,
              "#fb9f3a"
             ],
             [
              0.8888888888888888,
              "#fdca26"
             ],
             [
              1,
              "#f0f921"
             ]
            ],
            "type": "heatmapgl"
           }
          ],
          "histogram": [
           {
            "marker": {
             "pattern": {
              "fillmode": "overlay",
              "size": 10,
              "solidity": 0.2
             }
            },
            "type": "histogram"
           }
          ],
          "histogram2d": [
           {
            "colorbar": {
             "outlinewidth": 0,
             "ticks": ""
            },
            "colorscale": [
             [
              0,
              "#0d0887"
             ],
             [
              0.1111111111111111,
              "#46039f"
             ],
             [
              0.2222222222222222,
              "#7201a8"
             ],
             [
              0.3333333333333333,
              "#9c179e"
             ],
             [
              0.4444444444444444,
              "#bd3786"
             ],
             [
              0.5555555555555556,
              "#d8576b"
             ],
             [
              0.6666666666666666,
              "#ed7953"
             ],
             [
              0.7777777777777778,
              "#fb9f3a"
             ],
             [
              0.8888888888888888,
              "#fdca26"
             ],
             [
              1,
              "#f0f921"
             ]
            ],
            "type": "histogram2d"
           }
          ],
          "histogram2dcontour": [
           {
            "colorbar": {
             "outlinewidth": 0,
             "ticks": ""
            },
            "colorscale": [
             [
              0,
              "#0d0887"
             ],
             [
              0.1111111111111111,
              "#46039f"
             ],
             [
              0.2222222222222222,
              "#7201a8"
             ],
             [
              0.3333333333333333,
              "#9c179e"
             ],
             [
              0.4444444444444444,
              "#bd3786"
             ],
             [
              0.5555555555555556,
              "#d8576b"
             ],
             [
              0.6666666666666666,
              "#ed7953"
             ],
             [
              0.7777777777777778,
              "#fb9f3a"
             ],
             [
              0.8888888888888888,
              "#fdca26"
             ],
             [
              1,
              "#f0f921"
             ]
            ],
            "type": "histogram2dcontour"
           }
          ],
          "mesh3d": [
           {
            "colorbar": {
             "outlinewidth": 0,
             "ticks": ""
            },
            "type": "mesh3d"
           }
          ],
          "parcoords": [
           {
            "line": {
             "colorbar": {
              "outlinewidth": 0,
              "ticks": ""
             }
            },
            "type": "parcoords"
           }
          ],
          "pie": [
           {
            "automargin": true,
            "type": "pie"
           }
          ],
          "scatter": [
           {
            "fillpattern": {
             "fillmode": "overlay",
             "size": 10,
             "solidity": 0.2
            },
            "type": "scatter"
           }
          ],
          "scatter3d": [
           {
            "line": {
             "colorbar": {
              "outlinewidth": 0,
              "ticks": ""
             }
            },
            "marker": {
             "colorbar": {
              "outlinewidth": 0,
              "ticks": ""
             }
            },
            "type": "scatter3d"
           }
          ],
          "scattercarpet": [
           {
            "marker": {
             "colorbar": {
              "outlinewidth": 0,
              "ticks": ""
             }
            },
            "type": "scattercarpet"
           }
          ],
          "scattergeo": [
           {
            "marker": {
             "colorbar": {
              "outlinewidth": 0,
              "ticks": ""
             }
            },
            "type": "scattergeo"
           }
          ],
          "scattergl": [
           {
            "marker": {
             "colorbar": {
              "outlinewidth": 0,
              "ticks": ""
             }
            },
            "type": "scattergl"
           }
          ],
          "scattermapbox": [
           {
            "marker": {
             "colorbar": {
              "outlinewidth": 0,
              "ticks": ""
             }
            },
            "type": "scattermapbox"
           }
          ],
          "scatterpolar": [
           {
            "marker": {
             "colorbar": {
              "outlinewidth": 0,
              "ticks": ""
             }
            },
            "type": "scatterpolar"
           }
          ],
          "scatterpolargl": [
           {
            "marker": {
             "colorbar": {
              "outlinewidth": 0,
              "ticks": ""
             }
            },
            "type": "scatterpolargl"
           }
          ],
          "scatterternary": [
           {
            "marker": {
             "colorbar": {
              "outlinewidth": 0,
              "ticks": ""
             }
            },
            "type": "scatterternary"
           }
          ],
          "surface": [
           {
            "colorbar": {
             "outlinewidth": 0,
             "ticks": ""
            },
            "colorscale": [
             [
              0,
              "#0d0887"
             ],
             [
              0.1111111111111111,
              "#46039f"
             ],
             [
              0.2222222222222222,
              "#7201a8"
             ],
             [
              0.3333333333333333,
              "#9c179e"
             ],
             [
              0.4444444444444444,
              "#bd3786"
             ],
             [
              0.5555555555555556,
              "#d8576b"
             ],
             [
              0.6666666666666666,
              "#ed7953"
             ],
             [
              0.7777777777777778,
              "#fb9f3a"
             ],
             [
              0.8888888888888888,
              "#fdca26"
             ],
             [
              1,
              "#f0f921"
             ]
            ],
            "type": "surface"
           }
          ],
          "table": [
           {
            "cells": {
             "fill": {
              "color": "#EBF0F8"
             },
             "line": {
              "color": "white"
             }
            },
            "header": {
             "fill": {
              "color": "#C8D4E3"
             },
             "line": {
              "color": "white"
             }
            },
            "type": "table"
           }
          ]
         },
         "layout": {
          "annotationdefaults": {
           "arrowcolor": "#2a3f5f",
           "arrowhead": 0,
           "arrowwidth": 1
          },
          "autotypenumbers": "strict",
          "coloraxis": {
           "colorbar": {
            "outlinewidth": 0,
            "ticks": ""
           }
          },
          "colorscale": {
           "diverging": [
            [
             0,
             "#8e0152"
            ],
            [
             0.1,
             "#c51b7d"
            ],
            [
             0.2,
             "#de77ae"
            ],
            [
             0.3,
             "#f1b6da"
            ],
            [
             0.4,
             "#fde0ef"
            ],
            [
             0.5,
             "#f7f7f7"
            ],
            [
             0.6,
             "#e6f5d0"
            ],
            [
             0.7,
             "#b8e186"
            ],
            [
             0.8,
             "#7fbc41"
            ],
            [
             0.9,
             "#4d9221"
            ],
            [
             1,
             "#276419"
            ]
           ],
           "sequential": [
            [
             0,
             "#0d0887"
            ],
            [
             0.1111111111111111,
             "#46039f"
            ],
            [
             0.2222222222222222,
             "#7201a8"
            ],
            [
             0.3333333333333333,
             "#9c179e"
            ],
            [
             0.4444444444444444,
             "#bd3786"
            ],
            [
             0.5555555555555556,
             "#d8576b"
            ],
            [
             0.6666666666666666,
             "#ed7953"
            ],
            [
             0.7777777777777778,
             "#fb9f3a"
            ],
            [
             0.8888888888888888,
             "#fdca26"
            ],
            [
             1,
             "#f0f921"
            ]
           ],
           "sequentialminus": [
            [
             0,
             "#0d0887"
            ],
            [
             0.1111111111111111,
             "#46039f"
            ],
            [
             0.2222222222222222,
             "#7201a8"
            ],
            [
             0.3333333333333333,
             "#9c179e"
            ],
            [
             0.4444444444444444,
             "#bd3786"
            ],
            [
             0.5555555555555556,
             "#d8576b"
            ],
            [
             0.6666666666666666,
             "#ed7953"
            ],
            [
             0.7777777777777778,
             "#fb9f3a"
            ],
            [
             0.8888888888888888,
             "#fdca26"
            ],
            [
             1,
             "#f0f921"
            ]
           ]
          },
          "colorway": [
           "#636efa",
           "#EF553B",
           "#00cc96",
           "#ab63fa",
           "#FFA15A",
           "#19d3f3",
           "#FF6692",
           "#B6E880",
           "#FF97FF",
           "#FECB52"
          ],
          "font": {
           "color": "#2a3f5f"
          },
          "geo": {
           "bgcolor": "white",
           "lakecolor": "white",
           "landcolor": "#E5ECF6",
           "showlakes": true,
           "showland": true,
           "subunitcolor": "white"
          },
          "hoverlabel": {
           "align": "left"
          },
          "hovermode": "closest",
          "mapbox": {
           "style": "light"
          },
          "paper_bgcolor": "white",
          "plot_bgcolor": "#E5ECF6",
          "polar": {
           "angularaxis": {
            "gridcolor": "white",
            "linecolor": "white",
            "ticks": ""
           },
           "bgcolor": "#E5ECF6",
           "radialaxis": {
            "gridcolor": "white",
            "linecolor": "white",
            "ticks": ""
           }
          },
          "scene": {
           "xaxis": {
            "backgroundcolor": "#E5ECF6",
            "gridcolor": "white",
            "gridwidth": 2,
            "linecolor": "white",
            "showbackground": true,
            "ticks": "",
            "zerolinecolor": "white"
           },
           "yaxis": {
            "backgroundcolor": "#E5ECF6",
            "gridcolor": "white",
            "gridwidth": 2,
            "linecolor": "white",
            "showbackground": true,
            "ticks": "",
            "zerolinecolor": "white"
           },
           "zaxis": {
            "backgroundcolor": "#E5ECF6",
            "gridcolor": "white",
            "gridwidth": 2,
            "linecolor": "white",
            "showbackground": true,
            "ticks": "",
            "zerolinecolor": "white"
           }
          },
          "shapedefaults": {
           "line": {
            "color": "#2a3f5f"
           }
          },
          "ternary": {
           "aaxis": {
            "gridcolor": "white",
            "linecolor": "white",
            "ticks": ""
           },
           "baxis": {
            "gridcolor": "white",
            "linecolor": "white",
            "ticks": ""
           },
           "bgcolor": "#E5ECF6",
           "caxis": {
            "gridcolor": "white",
            "linecolor": "white",
            "ticks": ""
           }
          },
          "title": {
           "x": 0.05
          },
          "xaxis": {
           "automargin": true,
           "gridcolor": "white",
           "linecolor": "white",
           "ticks": "",
           "title": {
            "standoff": 15
           },
           "zerolinecolor": "white",
           "zerolinewidth": 2
          },
          "yaxis": {
           "automargin": true,
           "gridcolor": "white",
           "linecolor": "white",
           "ticks": "",
           "title": {
            "standoff": 15
           },
           "zerolinecolor": "white",
           "zerolinewidth": 2
          }
         }
        },
        "updatemenus": [
         {
          "buttons": [
           {
            "args": [
             {
              "visible": [
               true,
               false,
               false,
               false,
               false
              ]
             },
             {
              "title": "Entrantes mas comunes"
             }
            ],
            "label": "Entrantes",
            "method": "update"
           },
           {
            "args": [
             {
              "visible": [
               false,
               true,
               false,
               false,
               false
              ]
             },
             {
              "title": "Principales mas comunes"
             }
            ],
            "label": "Principales",
            "method": "update"
           },
           {
            "args": [
             {
              "visible": [
               false,
               false,
               true,
               false,
               false
              ]
             },
             {
              "title": "Pizzas mas comunes"
             }
            ],
            "label": "Pizzas",
            "method": "update"
           },
           {
            "args": [
             {
              "visible": [
               false,
               false,
               false,
               true,
               false
              ]
             },
             {
              "title": "Postres mas comunes"
             }
            ],
            "label": "Postres",
            "method": "update"
           },
           {
            "args": [
             {
              "visible": [
               false,
               false,
               false,
               false,
               true
              ]
             },
             {
              "title": "Cocteles mas comunes"
             }
            ],
            "label": "Cocteles",
            "method": "update"
           }
          ],
          "showactive": true,
          "type": "buttons"
         }
        ]
       }
      }
     },
     "metadata": {},
     "output_type": "display_data"
    }
   ],
   "source": [
    "#Grafico de barras que muestra cuales son los 3 (entrantes,principales,pizzas,postres,cocteles) mas comunes en los menus :)\n",
    "\n",
    "entrantes_nombres = []\n",
    "entrantes_comunes = []\n",
    "\n",
    "for i, row in data.iterrows():\n",
    "    menus = row[\"menu\"]\n",
    "    if isinstance(menus, dict) and \"starters\" in menus:  \n",
    "        for starter in menus[\"starters\"]:\n",
    "            nombre = starter.get(\"item_name\")\n",
    "            if nombre is not None: \n",
    "                nombre_igualado =bp.i_nombre(nombre)\n",
    "                entrantes_nombres.append(nombre_igualado)\n",
    "counter = Counter(entrantes_nombres)\n",
    "tres_mas_comunes = counter.most_common(3)\n",
    "for nombre, frecuencia in tres_mas_comunes:\n",
    "    entrantes_comunes.append((nombre, frecuencia))\n",
    "    \n",
    "\n",
    "principales_nombres = []\n",
    "principales_comunes = []\n",
    "\n",
    "for i, row in data.iterrows():\n",
    "    menus = row[\"menu\"]\n",
    "    if isinstance(menus, dict) and \"mains\" in menus:  \n",
    "        for starter in menus[\"mains\"]:\n",
    "            nombre = starter.get(\"item_name\")\n",
    "            if nombre is not None: \n",
    "                nombre_igualado = bp.i_nombre(nombre)\n",
    "                principales_nombres.append(nombre_igualado)\n",
    "counter = Counter(principales_nombres)\n",
    "tres_mas_comunes = counter.most_common(3)\n",
    "for nombre, frecuencia in tres_mas_comunes:\n",
    "    principales_comunes.append((nombre, frecuencia))\n",
    "\n",
    "pizza_nombres = []\n",
    "pizza_comunes = []\n",
    "\n",
    "for i, row in data.iterrows():\n",
    "    menus = row[\"menu\"]\n",
    "    if isinstance(menus, dict) and \"pizza\" in menus:  \n",
    "        for starter in menus[\"pizza\"]:\n",
    "            nombre = starter.get(\"item_name\")\n",
    "            if nombre is not None: \n",
    "                nombre_igualado = bp.i_nombre(nombre)\n",
    "                pizza_nombres.append(nombre_igualado)\n",
    "counter = Counter(pizza_nombres)\n",
    "tres_mas_comunes = counter.most_common(3)\n",
    "for nombre, frecuencia in tres_mas_comunes:\n",
    "    pizza_comunes.append((nombre, frecuencia))\n",
    "\n",
    "postres_nombres = []\n",
    "postres_comunes = []\n",
    "\n",
    "for i, row in data.iterrows():\n",
    "    menus = row[\"menu\"]\n",
    "    if isinstance(menus, dict) and \"desserts\" in menus:  \n",
    "        for starter in menus[\"desserts\"]:\n",
    "            nombre = starter.get(\"item_name\")\n",
    "            if nombre is not None: \n",
    "                nombre_igualado = bp.i_nombre(nombre)\n",
    "                postres_nombres.append(nombre_igualado)\n",
    "counter = Counter(postres_nombres)\n",
    "tres_mas_comunes = counter.most_common(3)\n",
    "for nombre, frecuencia in tres_mas_comunes:\n",
    "    postres_comunes.append((nombre, frecuencia))\n",
    "\n",
    "\n",
    "cocteles_nombres = []\n",
    "cocteles_comunes = []\n",
    "for i, row in data.iterrows():\n",
    "    menus = row[\"menu\"]\n",
    "    if isinstance(menus, dict) and \"cocktails\" in menus:  \n",
    "        for cocktail in menus[\"cocktails\"]:\n",
    "            nombre = cocktail.get(\"item_name\")\n",
    "            if nombre is not None: \n",
    "                nombre_igualado = bp.i_nombre(nombre)\n",
    "                cocteles_nombres.append(nombre_igualado)\n",
    "counter = Counter(cocteles_nombres)\n",
    "tres_mas_comunes = counter.most_common(3)\n",
    "for nombre, frecuencia in tres_mas_comunes:\n",
    "    cocteles_comunes.append((nombre, frecuencia))\n",
    "\n",
    "starters = entrantes_comunes\n",
    "mains = principales_comunes\n",
    "pizzas = pizza_comunes\n",
    "desserts = postres_comunes\n",
    "cocktails = cocteles_comunes\n",
    "\n",
    "grafico_starters = bp.c_grafico(starters, \"Entrantes\", \"red\")\n",
    "grafico_mains = bp.c_grafico(mains, \"Principales\", \"blue\")\n",
    "grafico_pizzas = bp.c_grafico(pizzas, \"Pizzas\",\"green\")\n",
    "grafico_desserts = bp.c_grafico(desserts, \"Postres\", \"orange\")\n",
    "grafico_cocktails = bp.c_grafico(cocktails, \"Cocteles\", \"purple\")\n",
    "\n",
    "\n",
    "fig = go.Figure()\n",
    "\n",
    "\n",
    "fig.add_traces([grafico_starters, grafico_mains, grafico_pizzas, grafico_desserts, grafico_cocktails])\n",
    "\n",
    "fig.update_traces(visible=False)\n",
    "fig.data[0].visible = True  \n",
    "\n",
    "\n",
    "buttons = [\n",
    "    dict(label=\"Entrantes\", method=\"update\", args=[{\"visible\": [True, False, False, False, False]}, {\"title\": \"Entrantes mas comunes\"}]),\n",
    "    dict(label=\"Principales\", method=\"update\", args=[{\"visible\": [False, True, False, False, False]}, {\"title\": \"Principales mas comunes\"}]),\n",
    "    dict(label=\"Pizzas\", method=\"update\", args=[{\"visible\": [False, False, True, False, False]}, {\"title\": \"Pizzas mas comunes\"}]),\n",
    "    dict(label=\"Postres\", method=\"update\", args=[{\"visible\": [False, False, False, True, False]}, {\"title\": \"Postres mas comunes\"}]),\n",
    "    dict(label=\"Cocteles\", method=\"update\", args=[{\"visible\": [False, False, False, False, True]}, {\"title\": \"Cocteles mas comunes\"}]),]\n",
    "   \n",
    "fig.update_layout(\n",
    "    updatemenus=[\n",
    "        dict(\n",
    "            type=\"buttons\",\n",
    "            showactive=True,\n",
    "            buttons=buttons,\n",
    "        )\n",
    "    ]\n",
    ")\n",
    "\n",
    "pio.show(fig)"
   ]
  },
  {
   "cell_type": "markdown",
   "metadata": {},
   "source": [
    "Necesitaría saber cuales son los productos más caros que tendría que comprar para ir haciéndome una idea de cual tendría que ser la inversion en materia prima.\n",
    "\n",
    "-Caridad: Hay alejandro ni que fueras bobo, aqui todos sabemos que los más caros es la carne\n",
    "\n",
    "Pero para que las cosas salgan bien todo conlleva una investigación."
   ]
  },
  {
   "cell_type": "code",
   "execution_count": 6,
   "metadata": {},
   "outputs": [
    {
     "data": {
      "application/vnd.plotly.v1+json": {
       "config": {
        "plotlyServerURL": "https://plot.ly"
       },
       "data": [
        {
         "alignmentgroup": "True",
         "hovertemplate": "Nombre del Plato=%{x}<br>Precio ($)=%{y}<extra></extra>",
         "legendgroup": "",
         "marker": {
          "color": "#636efa",
          "pattern": {
           "shape": ""
          }
         },
         "name": "",
         "offsetgroup": "",
         "orientation": "v",
         "showlegend": false,
         "textposition": "auto",
         "type": "bar",
         "x": [
          "Tomahawk Steak",
          "Mar y tierra",
          "tomahawk",
          "1kg cerdo asado",
          "Barbacoa para dos"
         ],
         "xaxis": "x",
         "y": [
          19200,
          19000,
          16500,
          15000,
          14000
         ],
         "yaxis": "y"
        }
       ],
       "layout": {
        "barmode": "relative",
        "legend": {
         "tracegroupgap": 0
        },
        "template": {
         "data": {
          "bar": [
           {
            "error_x": {
             "color": "#2a3f5f"
            },
            "error_y": {
             "color": "#2a3f5f"
            },
            "marker": {
             "line": {
              "color": "#E5ECF6",
              "width": 0.5
             },
             "pattern": {
              "fillmode": "overlay",
              "size": 10,
              "solidity": 0.2
             }
            },
            "type": "bar"
           }
          ],
          "barpolar": [
           {
            "marker": {
             "line": {
              "color": "#E5ECF6",
              "width": 0.5
             },
             "pattern": {
              "fillmode": "overlay",
              "size": 10,
              "solidity": 0.2
             }
            },
            "type": "barpolar"
           }
          ],
          "carpet": [
           {
            "aaxis": {
             "endlinecolor": "#2a3f5f",
             "gridcolor": "white",
             "linecolor": "white",
             "minorgridcolor": "white",
             "startlinecolor": "#2a3f5f"
            },
            "baxis": {
             "endlinecolor": "#2a3f5f",
             "gridcolor": "white",
             "linecolor": "white",
             "minorgridcolor": "white",
             "startlinecolor": "#2a3f5f"
            },
            "type": "carpet"
           }
          ],
          "choropleth": [
           {
            "colorbar": {
             "outlinewidth": 0,
             "ticks": ""
            },
            "type": "choropleth"
           }
          ],
          "contour": [
           {
            "colorbar": {
             "outlinewidth": 0,
             "ticks": ""
            },
            "colorscale": [
             [
              0,
              "#0d0887"
             ],
             [
              0.1111111111111111,
              "#46039f"
             ],
             [
              0.2222222222222222,
              "#7201a8"
             ],
             [
              0.3333333333333333,
              "#9c179e"
             ],
             [
              0.4444444444444444,
              "#bd3786"
             ],
             [
              0.5555555555555556,
              "#d8576b"
             ],
             [
              0.6666666666666666,
              "#ed7953"
             ],
             [
              0.7777777777777778,
              "#fb9f3a"
             ],
             [
              0.8888888888888888,
              "#fdca26"
             ],
             [
              1,
              "#f0f921"
             ]
            ],
            "type": "contour"
           }
          ],
          "contourcarpet": [
           {
            "colorbar": {
             "outlinewidth": 0,
             "ticks": ""
            },
            "type": "contourcarpet"
           }
          ],
          "heatmap": [
           {
            "colorbar": {
             "outlinewidth": 0,
             "ticks": ""
            },
            "colorscale": [
             [
              0,
              "#0d0887"
             ],
             [
              0.1111111111111111,
              "#46039f"
             ],
             [
              0.2222222222222222,
              "#7201a8"
             ],
             [
              0.3333333333333333,
              "#9c179e"
             ],
             [
              0.4444444444444444,
              "#bd3786"
             ],
             [
              0.5555555555555556,
              "#d8576b"
             ],
             [
              0.6666666666666666,
              "#ed7953"
             ],
             [
              0.7777777777777778,
              "#fb9f3a"
             ],
             [
              0.8888888888888888,
              "#fdca26"
             ],
             [
              1,
              "#f0f921"
             ]
            ],
            "type": "heatmap"
           }
          ],
          "heatmapgl": [
           {
            "colorbar": {
             "outlinewidth": 0,
             "ticks": ""
            },
            "colorscale": [
             [
              0,
              "#0d0887"
             ],
             [
              0.1111111111111111,
              "#46039f"
             ],
             [
              0.2222222222222222,
              "#7201a8"
             ],
             [
              0.3333333333333333,
              "#9c179e"
             ],
             [
              0.4444444444444444,
              "#bd3786"
             ],
             [
              0.5555555555555556,
              "#d8576b"
             ],
             [
              0.6666666666666666,
              "#ed7953"
             ],
             [
              0.7777777777777778,
              "#fb9f3a"
             ],
             [
              0.8888888888888888,
              "#fdca26"
             ],
             [
              1,
              "#f0f921"
             ]
            ],
            "type": "heatmapgl"
           }
          ],
          "histogram": [
           {
            "marker": {
             "pattern": {
              "fillmode": "overlay",
              "size": 10,
              "solidity": 0.2
             }
            },
            "type": "histogram"
           }
          ],
          "histogram2d": [
           {
            "colorbar": {
             "outlinewidth": 0,
             "ticks": ""
            },
            "colorscale": [
             [
              0,
              "#0d0887"
             ],
             [
              0.1111111111111111,
              "#46039f"
             ],
             [
              0.2222222222222222,
              "#7201a8"
             ],
             [
              0.3333333333333333,
              "#9c179e"
             ],
             [
              0.4444444444444444,
              "#bd3786"
             ],
             [
              0.5555555555555556,
              "#d8576b"
             ],
             [
              0.6666666666666666,
              "#ed7953"
             ],
             [
              0.7777777777777778,
              "#fb9f3a"
             ],
             [
              0.8888888888888888,
              "#fdca26"
             ],
             [
              1,
              "#f0f921"
             ]
            ],
            "type": "histogram2d"
           }
          ],
          "histogram2dcontour": [
           {
            "colorbar": {
             "outlinewidth": 0,
             "ticks": ""
            },
            "colorscale": [
             [
              0,
              "#0d0887"
             ],
             [
              0.1111111111111111,
              "#46039f"
             ],
             [
              0.2222222222222222,
              "#7201a8"
             ],
             [
              0.3333333333333333,
              "#9c179e"
             ],
             [
              0.4444444444444444,
              "#bd3786"
             ],
             [
              0.5555555555555556,
              "#d8576b"
             ],
             [
              0.6666666666666666,
              "#ed7953"
             ],
             [
              0.7777777777777778,
              "#fb9f3a"
             ],
             [
              0.8888888888888888,
              "#fdca26"
             ],
             [
              1,
              "#f0f921"
             ]
            ],
            "type": "histogram2dcontour"
           }
          ],
          "mesh3d": [
           {
            "colorbar": {
             "outlinewidth": 0,
             "ticks": ""
            },
            "type": "mesh3d"
           }
          ],
          "parcoords": [
           {
            "line": {
             "colorbar": {
              "outlinewidth": 0,
              "ticks": ""
             }
            },
            "type": "parcoords"
           }
          ],
          "pie": [
           {
            "automargin": true,
            "type": "pie"
           }
          ],
          "scatter": [
           {
            "fillpattern": {
             "fillmode": "overlay",
             "size": 10,
             "solidity": 0.2
            },
            "type": "scatter"
           }
          ],
          "scatter3d": [
           {
            "line": {
             "colorbar": {
              "outlinewidth": 0,
              "ticks": ""
             }
            },
            "marker": {
             "colorbar": {
              "outlinewidth": 0,
              "ticks": ""
             }
            },
            "type": "scatter3d"
           }
          ],
          "scattercarpet": [
           {
            "marker": {
             "colorbar": {
              "outlinewidth": 0,
              "ticks": ""
             }
            },
            "type": "scattercarpet"
           }
          ],
          "scattergeo": [
           {
            "marker": {
             "colorbar": {
              "outlinewidth": 0,
              "ticks": ""
             }
            },
            "type": "scattergeo"
           }
          ],
          "scattergl": [
           {
            "marker": {
             "colorbar": {
              "outlinewidth": 0,
              "ticks": ""
             }
            },
            "type": "scattergl"
           }
          ],
          "scattermapbox": [
           {
            "marker": {
             "colorbar": {
              "outlinewidth": 0,
              "ticks": ""
             }
            },
            "type": "scattermapbox"
           }
          ],
          "scatterpolar": [
           {
            "marker": {
             "colorbar": {
              "outlinewidth": 0,
              "ticks": ""
             }
            },
            "type": "scatterpolar"
           }
          ],
          "scatterpolargl": [
           {
            "marker": {
             "colorbar": {
              "outlinewidth": 0,
              "ticks": ""
             }
            },
            "type": "scatterpolargl"
           }
          ],
          "scatterternary": [
           {
            "marker": {
             "colorbar": {
              "outlinewidth": 0,
              "ticks": ""
             }
            },
            "type": "scatterternary"
           }
          ],
          "surface": [
           {
            "colorbar": {
             "outlinewidth": 0,
             "ticks": ""
            },
            "colorscale": [
             [
              0,
              "#0d0887"
             ],
             [
              0.1111111111111111,
              "#46039f"
             ],
             [
              0.2222222222222222,
              "#7201a8"
             ],
             [
              0.3333333333333333,
              "#9c179e"
             ],
             [
              0.4444444444444444,
              "#bd3786"
             ],
             [
              0.5555555555555556,
              "#d8576b"
             ],
             [
              0.6666666666666666,
              "#ed7953"
             ],
             [
              0.7777777777777778,
              "#fb9f3a"
             ],
             [
              0.8888888888888888,
              "#fdca26"
             ],
             [
              1,
              "#f0f921"
             ]
            ],
            "type": "surface"
           }
          ],
          "table": [
           {
            "cells": {
             "fill": {
              "color": "#EBF0F8"
             },
             "line": {
              "color": "white"
             }
            },
            "header": {
             "fill": {
              "color": "#C8D4E3"
             },
             "line": {
              "color": "white"
             }
            },
            "type": "table"
           }
          ]
         },
         "layout": {
          "annotationdefaults": {
           "arrowcolor": "#2a3f5f",
           "arrowhead": 0,
           "arrowwidth": 1
          },
          "autotypenumbers": "strict",
          "coloraxis": {
           "colorbar": {
            "outlinewidth": 0,
            "ticks": ""
           }
          },
          "colorscale": {
           "diverging": [
            [
             0,
             "#8e0152"
            ],
            [
             0.1,
             "#c51b7d"
            ],
            [
             0.2,
             "#de77ae"
            ],
            [
             0.3,
             "#f1b6da"
            ],
            [
             0.4,
             "#fde0ef"
            ],
            [
             0.5,
             "#f7f7f7"
            ],
            [
             0.6,
             "#e6f5d0"
            ],
            [
             0.7,
             "#b8e186"
            ],
            [
             0.8,
             "#7fbc41"
            ],
            [
             0.9,
             "#4d9221"
            ],
            [
             1,
             "#276419"
            ]
           ],
           "sequential": [
            [
             0,
             "#0d0887"
            ],
            [
             0.1111111111111111,
             "#46039f"
            ],
            [
             0.2222222222222222,
             "#7201a8"
            ],
            [
             0.3333333333333333,
             "#9c179e"
            ],
            [
             0.4444444444444444,
             "#bd3786"
            ],
            [
             0.5555555555555556,
             "#d8576b"
            ],
            [
             0.6666666666666666,
             "#ed7953"
            ],
            [
             0.7777777777777778,
             "#fb9f3a"
            ],
            [
             0.8888888888888888,
             "#fdca26"
            ],
            [
             1,
             "#f0f921"
            ]
           ],
           "sequentialminus": [
            [
             0,
             "#0d0887"
            ],
            [
             0.1111111111111111,
             "#46039f"
            ],
            [
             0.2222222222222222,
             "#7201a8"
            ],
            [
             0.3333333333333333,
             "#9c179e"
            ],
            [
             0.4444444444444444,
             "#bd3786"
            ],
            [
             0.5555555555555556,
             "#d8576b"
            ],
            [
             0.6666666666666666,
             "#ed7953"
            ],
            [
             0.7777777777777778,
             "#fb9f3a"
            ],
            [
             0.8888888888888888,
             "#fdca26"
            ],
            [
             1,
             "#f0f921"
            ]
           ]
          },
          "colorway": [
           "#636efa",
           "#EF553B",
           "#00cc96",
           "#ab63fa",
           "#FFA15A",
           "#19d3f3",
           "#FF6692",
           "#B6E880",
           "#FF97FF",
           "#FECB52"
          ],
          "font": {
           "color": "#2a3f5f"
          },
          "geo": {
           "bgcolor": "white",
           "lakecolor": "white",
           "landcolor": "#E5ECF6",
           "showlakes": true,
           "showland": true,
           "subunitcolor": "white"
          },
          "hoverlabel": {
           "align": "left"
          },
          "hovermode": "closest",
          "mapbox": {
           "style": "light"
          },
          "paper_bgcolor": "white",
          "plot_bgcolor": "#E5ECF6",
          "polar": {
           "angularaxis": {
            "gridcolor": "white",
            "linecolor": "white",
            "ticks": ""
           },
           "bgcolor": "#E5ECF6",
           "radialaxis": {
            "gridcolor": "white",
            "linecolor": "white",
            "ticks": ""
           }
          },
          "scene": {
           "xaxis": {
            "backgroundcolor": "#E5ECF6",
            "gridcolor": "white",
            "gridwidth": 2,
            "linecolor": "white",
            "showbackground": true,
            "ticks": "",
            "zerolinecolor": "white"
           },
           "yaxis": {
            "backgroundcolor": "#E5ECF6",
            "gridcolor": "white",
            "gridwidth": 2,
            "linecolor": "white",
            "showbackground": true,
            "ticks": "",
            "zerolinecolor": "white"
           },
           "zaxis": {
            "backgroundcolor": "#E5ECF6",
            "gridcolor": "white",
            "gridwidth": 2,
            "linecolor": "white",
            "showbackground": true,
            "ticks": "",
            "zerolinecolor": "white"
           }
          },
          "shapedefaults": {
           "line": {
            "color": "#2a3f5f"
           }
          },
          "ternary": {
           "aaxis": {
            "gridcolor": "white",
            "linecolor": "white",
            "ticks": ""
           },
           "baxis": {
            "gridcolor": "white",
            "linecolor": "white",
            "ticks": ""
           },
           "bgcolor": "#E5ECF6",
           "caxis": {
            "gridcolor": "white",
            "linecolor": "white",
            "ticks": ""
           }
          },
          "title": {
           "x": 0.05
          },
          "xaxis": {
           "automargin": true,
           "gridcolor": "white",
           "linecolor": "white",
           "ticks": "",
           "title": {
            "standoff": 15
           },
           "zerolinecolor": "white",
           "zerolinewidth": 2
          },
          "yaxis": {
           "automargin": true,
           "gridcolor": "white",
           "linecolor": "white",
           "ticks": "",
           "title": {
            "standoff": 15
           },
           "zerolinecolor": "white",
           "zerolinewidth": 2
          }
         }
        },
        "title": {
         "text": "Cinco Platos Más Caros"
        },
        "xaxis": {
         "anchor": "y",
         "domain": [
          0,
          1
         ],
         "title": {
          "text": "Nombre del Plato"
         }
        },
        "yaxis": {
         "anchor": "x",
         "domain": [
          0,
          1
         ],
         "title": {
          "text": "Precio ($)"
         }
        }
       }
      }
     },
     "metadata": {},
     "output_type": "display_data"
    }
   ],
   "source": [
    "#Grafico de barras que muestra los 5 platos mas carros\n",
    "def obtener_precio(plato):\n",
    "    return plato.get(\"price\")  \n",
    "\n",
    "platos_principales = data2.get(\"menu.mains\")\n",
    "\n",
    "todos_platos = []\n",
    "for lista_platos in platos_principales:\n",
    "    if isinstance(lista_platos, list):\n",
    "        todos_platos.extend(lista_platos)\n",
    "\n",
    "\n",
    "platos_sin_null = []\n",
    " \n",
    "for plato in todos_platos: \n",
    "   if \"price\" in plato and plato[\"price\"] is not None:\n",
    "       platos_sin_null.append(plato)\n",
    "\n",
    "platos_principales_ordenados = sorted(platos_sin_null, key=obtener_precio, reverse=True)\n",
    "cinco_platos_caros = platos_principales_ordenados[:5]\n",
    "\n",
    "nombres = []\n",
    "precios = []\n",
    "\n",
    "for plato in cinco_platos_caros:\n",
    "    nombres.append(plato.get(\"item_name\", \"Desconocido\")) \n",
    "    precios.append(plato.get(\"price\", 0))\n",
    "\n",
    "fig = px.bar(\n",
    "    x=nombres, \n",
    "    y=precios, \n",
    "    title=\"Cinco Platos Más Caros\", \n",
    "    labels={'x': 'Nombre del Plato', \n",
    "            'y': 'Precio ($)'}\n",
    ")\n",
    "fig.show()\n"
   ]
  },
  {
   "cell_type": "markdown",
   "metadata": {},
   "source": [
    "Oye mami y el tema de los apagones como anda?\n",
    "\n",
    "-Caridad: Bueno mijo hasta ahora vamos por 2 caídas del SEN y a cada rato la quitan lo que poco tiempo\n",
    "\n",
    "Tú crees que valga la pena invertir dinero en una planta?"
   ]
  },
  {
   "cell_type": "markdown",
   "metadata": {},
   "source": [
    "Después de realizar la tarea observó que el 50.7% de los restaurantes que se encontraban en la muestra que había tomado para realizar la investigación poseían un generador eléctrico o al menos una alternativa para poder continuar con el trabajo en caso de cortes en el fluido eléctrico, por lo que determinó que invertir en una planta sería un buen respaldo para que el negocio no se viera afectado en caso de algún incoveniente con la electricidad "
   ]
  },
  {
   "cell_type": "code",
   "execution_count": 7,
   "metadata": {},
   "outputs": [
    {
     "data": {
      "application/vnd.plotly.v1+json": {
       "config": {
        "plotlyServerURL": "https://plot.ly"
       },
       "data": [
        {
         "domain": {
          "x": [
           0,
           1
          ],
          "y": [
           0,
           1
          ]
         },
         "hovertemplate": "label=%{label}<br>value=%{value}<extra></extra>",
         "labels": [
          "Con Generador",
          "Sin Generador"
         ],
         "legendgroup": "",
         "name": "",
         "showlegend": true,
         "type": "pie",
         "values": [
          50.67,
          49.33
         ]
        }
       ],
       "layout": {
        "legend": {
         "tracegroupgap": 0
        },
        "template": {
         "data": {
          "bar": [
           {
            "error_x": {
             "color": "#2a3f5f"
            },
            "error_y": {
             "color": "#2a3f5f"
            },
            "marker": {
             "line": {
              "color": "#E5ECF6",
              "width": 0.5
             },
             "pattern": {
              "fillmode": "overlay",
              "size": 10,
              "solidity": 0.2
             }
            },
            "type": "bar"
           }
          ],
          "barpolar": [
           {
            "marker": {
             "line": {
              "color": "#E5ECF6",
              "width": 0.5
             },
             "pattern": {
              "fillmode": "overlay",
              "size": 10,
              "solidity": 0.2
             }
            },
            "type": "barpolar"
           }
          ],
          "carpet": [
           {
            "aaxis": {
             "endlinecolor": "#2a3f5f",
             "gridcolor": "white",
             "linecolor": "white",
             "minorgridcolor": "white",
             "startlinecolor": "#2a3f5f"
            },
            "baxis": {
             "endlinecolor": "#2a3f5f",
             "gridcolor": "white",
             "linecolor": "white",
             "minorgridcolor": "white",
             "startlinecolor": "#2a3f5f"
            },
            "type": "carpet"
           }
          ],
          "choropleth": [
           {
            "colorbar": {
             "outlinewidth": 0,
             "ticks": ""
            },
            "type": "choropleth"
           }
          ],
          "contour": [
           {
            "colorbar": {
             "outlinewidth": 0,
             "ticks": ""
            },
            "colorscale": [
             [
              0,
              "#0d0887"
             ],
             [
              0.1111111111111111,
              "#46039f"
             ],
             [
              0.2222222222222222,
              "#7201a8"
             ],
             [
              0.3333333333333333,
              "#9c179e"
             ],
             [
              0.4444444444444444,
              "#bd3786"
             ],
             [
              0.5555555555555556,
              "#d8576b"
             ],
             [
              0.6666666666666666,
              "#ed7953"
             ],
             [
              0.7777777777777778,
              "#fb9f3a"
             ],
             [
              0.8888888888888888,
              "#fdca26"
             ],
             [
              1,
              "#f0f921"
             ]
            ],
            "type": "contour"
           }
          ],
          "contourcarpet": [
           {
            "colorbar": {
             "outlinewidth": 0,
             "ticks": ""
            },
            "type": "contourcarpet"
           }
          ],
          "heatmap": [
           {
            "colorbar": {
             "outlinewidth": 0,
             "ticks": ""
            },
            "colorscale": [
             [
              0,
              "#0d0887"
             ],
             [
              0.1111111111111111,
              "#46039f"
             ],
             [
              0.2222222222222222,
              "#7201a8"
             ],
             [
              0.3333333333333333,
              "#9c179e"
             ],
             [
              0.4444444444444444,
              "#bd3786"
             ],
             [
              0.5555555555555556,
              "#d8576b"
             ],
             [
              0.6666666666666666,
              "#ed7953"
             ],
             [
              0.7777777777777778,
              "#fb9f3a"
             ],
             [
              0.8888888888888888,
              "#fdca26"
             ],
             [
              1,
              "#f0f921"
             ]
            ],
            "type": "heatmap"
           }
          ],
          "heatmapgl": [
           {
            "colorbar": {
             "outlinewidth": 0,
             "ticks": ""
            },
            "colorscale": [
             [
              0,
              "#0d0887"
             ],
             [
              0.1111111111111111,
              "#46039f"
             ],
             [
              0.2222222222222222,
              "#7201a8"
             ],
             [
              0.3333333333333333,
              "#9c179e"
             ],
             [
              0.4444444444444444,
              "#bd3786"
             ],
             [
              0.5555555555555556,
              "#d8576b"
             ],
             [
              0.6666666666666666,
              "#ed7953"
             ],
             [
              0.7777777777777778,
              "#fb9f3a"
             ],
             [
              0.8888888888888888,
              "#fdca26"
             ],
             [
              1,
              "#f0f921"
             ]
            ],
            "type": "heatmapgl"
           }
          ],
          "histogram": [
           {
            "marker": {
             "pattern": {
              "fillmode": "overlay",
              "size": 10,
              "solidity": 0.2
             }
            },
            "type": "histogram"
           }
          ],
          "histogram2d": [
           {
            "colorbar": {
             "outlinewidth": 0,
             "ticks": ""
            },
            "colorscale": [
             [
              0,
              "#0d0887"
             ],
             [
              0.1111111111111111,
              "#46039f"
             ],
             [
              0.2222222222222222,
              "#7201a8"
             ],
             [
              0.3333333333333333,
              "#9c179e"
             ],
             [
              0.4444444444444444,
              "#bd3786"
             ],
             [
              0.5555555555555556,
              "#d8576b"
             ],
             [
              0.6666666666666666,
              "#ed7953"
             ],
             [
              0.7777777777777778,
              "#fb9f3a"
             ],
             [
              0.8888888888888888,
              "#fdca26"
             ],
             [
              1,
              "#f0f921"
             ]
            ],
            "type": "histogram2d"
           }
          ],
          "histogram2dcontour": [
           {
            "colorbar": {
             "outlinewidth": 0,
             "ticks": ""
            },
            "colorscale": [
             [
              0,
              "#0d0887"
             ],
             [
              0.1111111111111111,
              "#46039f"
             ],
             [
              0.2222222222222222,
              "#7201a8"
             ],
             [
              0.3333333333333333,
              "#9c179e"
             ],
             [
              0.4444444444444444,
              "#bd3786"
             ],
             [
              0.5555555555555556,
              "#d8576b"
             ],
             [
              0.6666666666666666,
              "#ed7953"
             ],
             [
              0.7777777777777778,
              "#fb9f3a"
             ],
             [
              0.8888888888888888,
              "#fdca26"
             ],
             [
              1,
              "#f0f921"
             ]
            ],
            "type": "histogram2dcontour"
           }
          ],
          "mesh3d": [
           {
            "colorbar": {
             "outlinewidth": 0,
             "ticks": ""
            },
            "type": "mesh3d"
           }
          ],
          "parcoords": [
           {
            "line": {
             "colorbar": {
              "outlinewidth": 0,
              "ticks": ""
             }
            },
            "type": "parcoords"
           }
          ],
          "pie": [
           {
            "automargin": true,
            "type": "pie"
           }
          ],
          "scatter": [
           {
            "fillpattern": {
             "fillmode": "overlay",
             "size": 10,
             "solidity": 0.2
            },
            "type": "scatter"
           }
          ],
          "scatter3d": [
           {
            "line": {
             "colorbar": {
              "outlinewidth": 0,
              "ticks": ""
             }
            },
            "marker": {
             "colorbar": {
              "outlinewidth": 0,
              "ticks": ""
             }
            },
            "type": "scatter3d"
           }
          ],
          "scattercarpet": [
           {
            "marker": {
             "colorbar": {
              "outlinewidth": 0,
              "ticks": ""
             }
            },
            "type": "scattercarpet"
           }
          ],
          "scattergeo": [
           {
            "marker": {
             "colorbar": {
              "outlinewidth": 0,
              "ticks": ""
             }
            },
            "type": "scattergeo"
           }
          ],
          "scattergl": [
           {
            "marker": {
             "colorbar": {
              "outlinewidth": 0,
              "ticks": ""
             }
            },
            "type": "scattergl"
           }
          ],
          "scattermapbox": [
           {
            "marker": {
             "colorbar": {
              "outlinewidth": 0,
              "ticks": ""
             }
            },
            "type": "scattermapbox"
           }
          ],
          "scatterpolar": [
           {
            "marker": {
             "colorbar": {
              "outlinewidth": 0,
              "ticks": ""
             }
            },
            "type": "scatterpolar"
           }
          ],
          "scatterpolargl": [
           {
            "marker": {
             "colorbar": {
              "outlinewidth": 0,
              "ticks": ""
             }
            },
            "type": "scatterpolargl"
           }
          ],
          "scatterternary": [
           {
            "marker": {
             "colorbar": {
              "outlinewidth": 0,
              "ticks": ""
             }
            },
            "type": "scatterternary"
           }
          ],
          "surface": [
           {
            "colorbar": {
             "outlinewidth": 0,
             "ticks": ""
            },
            "colorscale": [
             [
              0,
              "#0d0887"
             ],
             [
              0.1111111111111111,
              "#46039f"
             ],
             [
              0.2222222222222222,
              "#7201a8"
             ],
             [
              0.3333333333333333,
              "#9c179e"
             ],
             [
              0.4444444444444444,
              "#bd3786"
             ],
             [
              0.5555555555555556,
              "#d8576b"
             ],
             [
              0.6666666666666666,
              "#ed7953"
             ],
             [
              0.7777777777777778,
              "#fb9f3a"
             ],
             [
              0.8888888888888888,
              "#fdca26"
             ],
             [
              1,
              "#f0f921"
             ]
            ],
            "type": "surface"
           }
          ],
          "table": [
           {
            "cells": {
             "fill": {
              "color": "#EBF0F8"
             },
             "line": {
              "color": "white"
             }
            },
            "header": {
             "fill": {
              "color": "#C8D4E3"
             },
             "line": {
              "color": "white"
             }
            },
            "type": "table"
           }
          ]
         },
         "layout": {
          "annotationdefaults": {
           "arrowcolor": "#2a3f5f",
           "arrowhead": 0,
           "arrowwidth": 1
          },
          "autotypenumbers": "strict",
          "coloraxis": {
           "colorbar": {
            "outlinewidth": 0,
            "ticks": ""
           }
          },
          "colorscale": {
           "diverging": [
            [
             0,
             "#8e0152"
            ],
            [
             0.1,
             "#c51b7d"
            ],
            [
             0.2,
             "#de77ae"
            ],
            [
             0.3,
             "#f1b6da"
            ],
            [
             0.4,
             "#fde0ef"
            ],
            [
             0.5,
             "#f7f7f7"
            ],
            [
             0.6,
             "#e6f5d0"
            ],
            [
             0.7,
             "#b8e186"
            ],
            [
             0.8,
             "#7fbc41"
            ],
            [
             0.9,
             "#4d9221"
            ],
            [
             1,
             "#276419"
            ]
           ],
           "sequential": [
            [
             0,
             "#0d0887"
            ],
            [
             0.1111111111111111,
             "#46039f"
            ],
            [
             0.2222222222222222,
             "#7201a8"
            ],
            [
             0.3333333333333333,
             "#9c179e"
            ],
            [
             0.4444444444444444,
             "#bd3786"
            ],
            [
             0.5555555555555556,
             "#d8576b"
            ],
            [
             0.6666666666666666,
             "#ed7953"
            ],
            [
             0.7777777777777778,
             "#fb9f3a"
            ],
            [
             0.8888888888888888,
             "#fdca26"
            ],
            [
             1,
             "#f0f921"
            ]
           ],
           "sequentialminus": [
            [
             0,
             "#0d0887"
            ],
            [
             0.1111111111111111,
             "#46039f"
            ],
            [
             0.2222222222222222,
             "#7201a8"
            ],
            [
             0.3333333333333333,
             "#9c179e"
            ],
            [
             0.4444444444444444,
             "#bd3786"
            ],
            [
             0.5555555555555556,
             "#d8576b"
            ],
            [
             0.6666666666666666,
             "#ed7953"
            ],
            [
             0.7777777777777778,
             "#fb9f3a"
            ],
            [
             0.8888888888888888,
             "#fdca26"
            ],
            [
             1,
             "#f0f921"
            ]
           ]
          },
          "colorway": [
           "#636efa",
           "#EF553B",
           "#00cc96",
           "#ab63fa",
           "#FFA15A",
           "#19d3f3",
           "#FF6692",
           "#B6E880",
           "#FF97FF",
           "#FECB52"
          ],
          "font": {
           "color": "#2a3f5f"
          },
          "geo": {
           "bgcolor": "white",
           "lakecolor": "white",
           "landcolor": "#E5ECF6",
           "showlakes": true,
           "showland": true,
           "subunitcolor": "white"
          },
          "hoverlabel": {
           "align": "left"
          },
          "hovermode": "closest",
          "mapbox": {
           "style": "light"
          },
          "paper_bgcolor": "white",
          "plot_bgcolor": "#E5ECF6",
          "polar": {
           "angularaxis": {
            "gridcolor": "white",
            "linecolor": "white",
            "ticks": ""
           },
           "bgcolor": "#E5ECF6",
           "radialaxis": {
            "gridcolor": "white",
            "linecolor": "white",
            "ticks": ""
           }
          },
          "scene": {
           "xaxis": {
            "backgroundcolor": "#E5ECF6",
            "gridcolor": "white",
            "gridwidth": 2,
            "linecolor": "white",
            "showbackground": true,
            "ticks": "",
            "zerolinecolor": "white"
           },
           "yaxis": {
            "backgroundcolor": "#E5ECF6",
            "gridcolor": "white",
            "gridwidth": 2,
            "linecolor": "white",
            "showbackground": true,
            "ticks": "",
            "zerolinecolor": "white"
           },
           "zaxis": {
            "backgroundcolor": "#E5ECF6",
            "gridcolor": "white",
            "gridwidth": 2,
            "linecolor": "white",
            "showbackground": true,
            "ticks": "",
            "zerolinecolor": "white"
           }
          },
          "shapedefaults": {
           "line": {
            "color": "#2a3f5f"
           }
          },
          "ternary": {
           "aaxis": {
            "gridcolor": "white",
            "linecolor": "white",
            "ticks": ""
           },
           "baxis": {
            "gridcolor": "white",
            "linecolor": "white",
            "ticks": ""
           },
           "bgcolor": "#E5ECF6",
           "caxis": {
            "gridcolor": "white",
            "linecolor": "white",
            "ticks": ""
           }
          },
          "title": {
           "x": 0.05
          },
          "xaxis": {
           "automargin": true,
           "gridcolor": "white",
           "linecolor": "white",
           "ticks": "",
           "title": {
            "standoff": 15
           },
           "zerolinecolor": "white",
           "zerolinewidth": 2
          },
          "yaxis": {
           "automargin": true,
           "gridcolor": "white",
           "linecolor": "white",
           "ticks": "",
           "title": {
            "standoff": 15
           },
           "zerolinecolor": "white",
           "zerolinewidth": 2
          }
         }
        },
        "title": {
         "text": "Distribucion de Restaurantes con Generador Electrico"
        }
       }
      }
     },
     "metadata": {},
     "output_type": "display_data"
    }
   ],
   "source": [
    "#Grafico Pastel donde se muestra el porciento de restaurantes de la Habana que poseen P\n",
    "total_restaurantes = len(data2)\n",
    "total_plantas = data2[\"electric generator\"].sum()\n",
    "porciento_restaurantes_planta = round(bp.c_porciento(total_plantas, total_restaurantes),2)\n",
    "porciento_restaurantes_sin_planta = round(100 - porciento_restaurantes_planta, 2)\n",
    "\n",
    "fig = px.pie ( names=(\"Con Generador\", \"Sin Generador\"), \n",
    "              values=(porciento_restaurantes_planta, porciento_restaurantes_sin_planta),\n",
    "              title= \"Distribucion de Restaurantes con Generador Electrico\"\n",
    "\n",
    ")\n",
    "fig.show()\n"
   ]
  },
  {
   "cell_type": "markdown",
   "metadata": {},
   "source": [
    "En el año 2024, La Habana experimentó un aumento significativo en la inversión en hoteles y restaurantes según la Oficina Nacional de Estadística e Información (ONEI) de la Republica  de Cuba, la inversión en este sector aumentó en un 112% anual, no es secreto para nadie porque se puede ver a simple vista que cada vez más en la Ciudad de La Habana, se inaguran nuevos establecimientos gastronómicos ya sean cafés o restaurantes, tanto privadas como estales, aumentando así la competencia entre los diferentes locales"
   ]
  },
  {
   "cell_type": "markdown",
   "metadata": {},
   "source": [
    "![3](Terraza2.png)"
   ]
  },
  {
   "cell_type": "markdown",
   "metadata": {},
   "source": [
    "Después de leer esas cifras Alejandro preocupado decidió investigar en que municipio de La Habana los restaurantes tenían peor reseña en Google para asi determinar donde le convendria rentar el local, pensando que montar su negocio en un lugar donde la calificacion de los restaurantes no fuera la mejor, tendría menos competencia y llamaría la atención de los pobladores."
   ]
  },
  {
   "cell_type": "code",
   "execution_count": 8,
   "metadata": {},
   "outputs": [
    {
     "data": {
      "application/vnd.plotly.v1+json": {
       "config": {
        "plotlyServerURL": "https://plot.ly"
       },
       "data": [
        {
         "cells": {
          "align": "left",
          "fill": {
           "color": "lavender"
          },
          "values": [
           [
            "regla",
            "arroyo naranjo",
            "marianao",
            "habana vieja",
            "guanabacoa",
            "centro habana",
            "playa",
            "cotorro",
            "plaza de la revolucion",
            "10 de octubre",
            "habana del este",
            "cerro",
            "boyeros",
            "la lisa",
            "san miguel del padron"
           ],
           [
            4.95,
            4.61,
            4.52,
            4.51,
            4.45,
            4.36,
            4.32,
            4.28,
            4.26,
            4.14,
            4.14,
            3.94,
            3.7,
            3.49,
            3.25
           ]
          ]
         },
         "header": {
          "align": "left",
          "fill": {
           "color": "pink"
          },
          "values": [
           "municipio",
           "calificacion promedio"
          ]
         },
         "type": "table"
        }
       ],
       "layout": {
        "template": {
         "data": {
          "bar": [
           {
            "error_x": {
             "color": "#2a3f5f"
            },
            "error_y": {
             "color": "#2a3f5f"
            },
            "marker": {
             "line": {
              "color": "#E5ECF6",
              "width": 0.5
             },
             "pattern": {
              "fillmode": "overlay",
              "size": 10,
              "solidity": 0.2
             }
            },
            "type": "bar"
           }
          ],
          "barpolar": [
           {
            "marker": {
             "line": {
              "color": "#E5ECF6",
              "width": 0.5
             },
             "pattern": {
              "fillmode": "overlay",
              "size": 10,
              "solidity": 0.2
             }
            },
            "type": "barpolar"
           }
          ],
          "carpet": [
           {
            "aaxis": {
             "endlinecolor": "#2a3f5f",
             "gridcolor": "white",
             "linecolor": "white",
             "minorgridcolor": "white",
             "startlinecolor": "#2a3f5f"
            },
            "baxis": {
             "endlinecolor": "#2a3f5f",
             "gridcolor": "white",
             "linecolor": "white",
             "minorgridcolor": "white",
             "startlinecolor": "#2a3f5f"
            },
            "type": "carpet"
           }
          ],
          "choropleth": [
           {
            "colorbar": {
             "outlinewidth": 0,
             "ticks": ""
            },
            "type": "choropleth"
           }
          ],
          "contour": [
           {
            "colorbar": {
             "outlinewidth": 0,
             "ticks": ""
            },
            "colorscale": [
             [
              0,
              "#0d0887"
             ],
             [
              0.1111111111111111,
              "#46039f"
             ],
             [
              0.2222222222222222,
              "#7201a8"
             ],
             [
              0.3333333333333333,
              "#9c179e"
             ],
             [
              0.4444444444444444,
              "#bd3786"
             ],
             [
              0.5555555555555556,
              "#d8576b"
             ],
             [
              0.6666666666666666,
              "#ed7953"
             ],
             [
              0.7777777777777778,
              "#fb9f3a"
             ],
             [
              0.8888888888888888,
              "#fdca26"
             ],
             [
              1,
              "#f0f921"
             ]
            ],
            "type": "contour"
           }
          ],
          "contourcarpet": [
           {
            "colorbar": {
             "outlinewidth": 0,
             "ticks": ""
            },
            "type": "contourcarpet"
           }
          ],
          "heatmap": [
           {
            "colorbar": {
             "outlinewidth": 0,
             "ticks": ""
            },
            "colorscale": [
             [
              0,
              "#0d0887"
             ],
             [
              0.1111111111111111,
              "#46039f"
             ],
             [
              0.2222222222222222,
              "#7201a8"
             ],
             [
              0.3333333333333333,
              "#9c179e"
             ],
             [
              0.4444444444444444,
              "#bd3786"
             ],
             [
              0.5555555555555556,
              "#d8576b"
             ],
             [
              0.6666666666666666,
              "#ed7953"
             ],
             [
              0.7777777777777778,
              "#fb9f3a"
             ],
             [
              0.8888888888888888,
              "#fdca26"
             ],
             [
              1,
              "#f0f921"
             ]
            ],
            "type": "heatmap"
           }
          ],
          "heatmapgl": [
           {
            "colorbar": {
             "outlinewidth": 0,
             "ticks": ""
            },
            "colorscale": [
             [
              0,
              "#0d0887"
             ],
             [
              0.1111111111111111,
              "#46039f"
             ],
             [
              0.2222222222222222,
              "#7201a8"
             ],
             [
              0.3333333333333333,
              "#9c179e"
             ],
             [
              0.4444444444444444,
              "#bd3786"
             ],
             [
              0.5555555555555556,
              "#d8576b"
             ],
             [
              0.6666666666666666,
              "#ed7953"
             ],
             [
              0.7777777777777778,
              "#fb9f3a"
             ],
             [
              0.8888888888888888,
              "#fdca26"
             ],
             [
              1,
              "#f0f921"
             ]
            ],
            "type": "heatmapgl"
           }
          ],
          "histogram": [
           {
            "marker": {
             "pattern": {
              "fillmode": "overlay",
              "size": 10,
              "solidity": 0.2
             }
            },
            "type": "histogram"
           }
          ],
          "histogram2d": [
           {
            "colorbar": {
             "outlinewidth": 0,
             "ticks": ""
            },
            "colorscale": [
             [
              0,
              "#0d0887"
             ],
             [
              0.1111111111111111,
              "#46039f"
             ],
             [
              0.2222222222222222,
              "#7201a8"
             ],
             [
              0.3333333333333333,
              "#9c179e"
             ],
             [
              0.4444444444444444,
              "#bd3786"
             ],
             [
              0.5555555555555556,
              "#d8576b"
             ],
             [
              0.6666666666666666,
              "#ed7953"
             ],
             [
              0.7777777777777778,
              "#fb9f3a"
             ],
             [
              0.8888888888888888,
              "#fdca26"
             ],
             [
              1,
              "#f0f921"
             ]
            ],
            "type": "histogram2d"
           }
          ],
          "histogram2dcontour": [
           {
            "colorbar": {
             "outlinewidth": 0,
             "ticks": ""
            },
            "colorscale": [
             [
              0,
              "#0d0887"
             ],
             [
              0.1111111111111111,
              "#46039f"
             ],
             [
              0.2222222222222222,
              "#7201a8"
             ],
             [
              0.3333333333333333,
              "#9c179e"
             ],
             [
              0.4444444444444444,
              "#bd3786"
             ],
             [
              0.5555555555555556,
              "#d8576b"
             ],
             [
              0.6666666666666666,
              "#ed7953"
             ],
             [
              0.7777777777777778,
              "#fb9f3a"
             ],
             [
              0.8888888888888888,
              "#fdca26"
             ],
             [
              1,
              "#f0f921"
             ]
            ],
            "type": "histogram2dcontour"
           }
          ],
          "mesh3d": [
           {
            "colorbar": {
             "outlinewidth": 0,
             "ticks": ""
            },
            "type": "mesh3d"
           }
          ],
          "parcoords": [
           {
            "line": {
             "colorbar": {
              "outlinewidth": 0,
              "ticks": ""
             }
            },
            "type": "parcoords"
           }
          ],
          "pie": [
           {
            "automargin": true,
            "type": "pie"
           }
          ],
          "scatter": [
           {
            "fillpattern": {
             "fillmode": "overlay",
             "size": 10,
             "solidity": 0.2
            },
            "type": "scatter"
           }
          ],
          "scatter3d": [
           {
            "line": {
             "colorbar": {
              "outlinewidth": 0,
              "ticks": ""
             }
            },
            "marker": {
             "colorbar": {
              "outlinewidth": 0,
              "ticks": ""
             }
            },
            "type": "scatter3d"
           }
          ],
          "scattercarpet": [
           {
            "marker": {
             "colorbar": {
              "outlinewidth": 0,
              "ticks": ""
             }
            },
            "type": "scattercarpet"
           }
          ],
          "scattergeo": [
           {
            "marker": {
             "colorbar": {
              "outlinewidth": 0,
              "ticks": ""
             }
            },
            "type": "scattergeo"
           }
          ],
          "scattergl": [
           {
            "marker": {
             "colorbar": {
              "outlinewidth": 0,
              "ticks": ""
             }
            },
            "type": "scattergl"
           }
          ],
          "scattermapbox": [
           {
            "marker": {
             "colorbar": {
              "outlinewidth": 0,
              "ticks": ""
             }
            },
            "type": "scattermapbox"
           }
          ],
          "scatterpolar": [
           {
            "marker": {
             "colorbar": {
              "outlinewidth": 0,
              "ticks": ""
             }
            },
            "type": "scatterpolar"
           }
          ],
          "scatterpolargl": [
           {
            "marker": {
             "colorbar": {
              "outlinewidth": 0,
              "ticks": ""
             }
            },
            "type": "scatterpolargl"
           }
          ],
          "scatterternary": [
           {
            "marker": {
             "colorbar": {
              "outlinewidth": 0,
              "ticks": ""
             }
            },
            "type": "scatterternary"
           }
          ],
          "surface": [
           {
            "colorbar": {
             "outlinewidth": 0,
             "ticks": ""
            },
            "colorscale": [
             [
              0,
              "#0d0887"
             ],
             [
              0.1111111111111111,
              "#46039f"
             ],
             [
              0.2222222222222222,
              "#7201a8"
             ],
             [
              0.3333333333333333,
              "#9c179e"
             ],
             [
              0.4444444444444444,
              "#bd3786"
             ],
             [
              0.5555555555555556,
              "#d8576b"
             ],
             [
              0.6666666666666666,
              "#ed7953"
             ],
             [
              0.7777777777777778,
              "#fb9f3a"
             ],
             [
              0.8888888888888888,
              "#fdca26"
             ],
             [
              1,
              "#f0f921"
             ]
            ],
            "type": "surface"
           }
          ],
          "table": [
           {
            "cells": {
             "fill": {
              "color": "#EBF0F8"
             },
             "line": {
              "color": "white"
             }
            },
            "header": {
             "fill": {
              "color": "#C8D4E3"
             },
             "line": {
              "color": "white"
             }
            },
            "type": "table"
           }
          ]
         },
         "layout": {
          "annotationdefaults": {
           "arrowcolor": "#2a3f5f",
           "arrowhead": 0,
           "arrowwidth": 1
          },
          "autotypenumbers": "strict",
          "coloraxis": {
           "colorbar": {
            "outlinewidth": 0,
            "ticks": ""
           }
          },
          "colorscale": {
           "diverging": [
            [
             0,
             "#8e0152"
            ],
            [
             0.1,
             "#c51b7d"
            ],
            [
             0.2,
             "#de77ae"
            ],
            [
             0.3,
             "#f1b6da"
            ],
            [
             0.4,
             "#fde0ef"
            ],
            [
             0.5,
             "#f7f7f7"
            ],
            [
             0.6,
             "#e6f5d0"
            ],
            [
             0.7,
             "#b8e186"
            ],
            [
             0.8,
             "#7fbc41"
            ],
            [
             0.9,
             "#4d9221"
            ],
            [
             1,
             "#276419"
            ]
           ],
           "sequential": [
            [
             0,
             "#0d0887"
            ],
            [
             0.1111111111111111,
             "#46039f"
            ],
            [
             0.2222222222222222,
             "#7201a8"
            ],
            [
             0.3333333333333333,
             "#9c179e"
            ],
            [
             0.4444444444444444,
             "#bd3786"
            ],
            [
             0.5555555555555556,
             "#d8576b"
            ],
            [
             0.6666666666666666,
             "#ed7953"
            ],
            [
             0.7777777777777778,
             "#fb9f3a"
            ],
            [
             0.8888888888888888,
             "#fdca26"
            ],
            [
             1,
             "#f0f921"
            ]
           ],
           "sequentialminus": [
            [
             0,
             "#0d0887"
            ],
            [
             0.1111111111111111,
             "#46039f"
            ],
            [
             0.2222222222222222,
             "#7201a8"
            ],
            [
             0.3333333333333333,
             "#9c179e"
            ],
            [
             0.4444444444444444,
             "#bd3786"
            ],
            [
             0.5555555555555556,
             "#d8576b"
            ],
            [
             0.6666666666666666,
             "#ed7953"
            ],
            [
             0.7777777777777778,
             "#fb9f3a"
            ],
            [
             0.8888888888888888,
             "#fdca26"
            ],
            [
             1,
             "#f0f921"
            ]
           ]
          },
          "colorway": [
           "#636efa",
           "#EF553B",
           "#00cc96",
           "#ab63fa",
           "#FFA15A",
           "#19d3f3",
           "#FF6692",
           "#B6E880",
           "#FF97FF",
           "#FECB52"
          ],
          "font": {
           "color": "#2a3f5f"
          },
          "geo": {
           "bgcolor": "white",
           "lakecolor": "white",
           "landcolor": "#E5ECF6",
           "showlakes": true,
           "showland": true,
           "subunitcolor": "white"
          },
          "hoverlabel": {
           "align": "left"
          },
          "hovermode": "closest",
          "mapbox": {
           "style": "light"
          },
          "paper_bgcolor": "white",
          "plot_bgcolor": "#E5ECF6",
          "polar": {
           "angularaxis": {
            "gridcolor": "white",
            "linecolor": "white",
            "ticks": ""
           },
           "bgcolor": "#E5ECF6",
           "radialaxis": {
            "gridcolor": "white",
            "linecolor": "white",
            "ticks": ""
           }
          },
          "scene": {
           "xaxis": {
            "backgroundcolor": "#E5ECF6",
            "gridcolor": "white",
            "gridwidth": 2,
            "linecolor": "white",
            "showbackground": true,
            "ticks": "",
            "zerolinecolor": "white"
           },
           "yaxis": {
            "backgroundcolor": "#E5ECF6",
            "gridcolor": "white",
            "gridwidth": 2,
            "linecolor": "white",
            "showbackground": true,
            "ticks": "",
            "zerolinecolor": "white"
           },
           "zaxis": {
            "backgroundcolor": "#E5ECF6",
            "gridcolor": "white",
            "gridwidth": 2,
            "linecolor": "white",
            "showbackground": true,
            "ticks": "",
            "zerolinecolor": "white"
           }
          },
          "shapedefaults": {
           "line": {
            "color": "#2a3f5f"
           }
          },
          "ternary": {
           "aaxis": {
            "gridcolor": "white",
            "linecolor": "white",
            "ticks": ""
           },
           "baxis": {
            "gridcolor": "white",
            "linecolor": "white",
            "ticks": ""
           },
           "bgcolor": "#E5ECF6",
           "caxis": {
            "gridcolor": "white",
            "linecolor": "white",
            "ticks": ""
           }
          },
          "title": {
           "x": 0.05
          },
          "xaxis": {
           "automargin": true,
           "gridcolor": "white",
           "linecolor": "white",
           "ticks": "",
           "title": {
            "standoff": 15
           },
           "zerolinecolor": "white",
           "zerolinewidth": 2
          },
          "yaxis": {
           "automargin": true,
           "gridcolor": "white",
           "linecolor": "white",
           "ticks": "",
           "title": {
            "standoff": 15
           },
           "zerolinecolor": "white",
           "zerolinewidth": 2
          }
         }
        },
        "title": {
         "text": "Calificacion Promedio de Restaurantes por Municipio segun Google"
        }
       }
      }
     },
     "metadata": {},
     "output_type": "display_data"
    }
   ],
   "source": [
    "#Tabla donde da la clasificacion promedio de los restaurantes por municipio :)\n",
    "data2[\"location.municipe\"] = data2[\"location.municipe\"].str.strip().str.lower()\n",
    "\n",
    "calificacion_promedio_por_municipio = data2.groupby(\"location.municipe\")[\"qualification\"].mean().round(2)\n",
    "tabla_calificaciones = calificacion_promedio_por_municipio.reset_index()\n",
    "tabla_calificaciones.columns = [\"municipio\", \"calificacion promedio\"]\n",
    "tabla_calificaciones = tabla_calificaciones.sort_values(by=\"calificacion promedio\", ascending=False)\n",
    "\n",
    "fig = go.Figure(data=[go.Table(\n",
    "    header=dict(values=list(tabla_calificaciones.columns),\n",
    "                fill_color=\"pink\",\n",
    "                align=\"left\"),\n",
    "    cells=dict(values=[tabla_calificaciones.municipio, tabla_calificaciones[\"calificacion promedio\"]],\n",
    "               fill_color=\"lavender\",\n",
    "               align=\"left\"))\n",
    "])\n",
    "\n",
    "fig.update_layout(title=\"Calificacion Promedio de Restaurantes por Municipio segun Google\")\n",
    "fig.show()"
   ]
  },
  {
   "cell_type": "markdown",
   "metadata": {},
   "source": [
    "Alejandro, ayer me llamó tu primo para saber como estaba y le comenté lo que estabamos planeando\n",
    "\n",
    "-Mami!! las cosas que se cuentan nunca salen\n",
    "\n",
    "Hay chico tú no crees que si todo sale bien le podamos ofrecer un trabajito, él ahora se compró una moto eléctrica y pudiera hacer la mensajería del restaurante y esta sería otra entrada de ganacias además el dinero se queda en la familia\n",
    "\n",
    "-Bueno dejame calcular que tan común es tener el servicio de delivery en el municipio donde voy a montar el local no vaya a ser que no sea algo rentable y tenga más pérdida que ganancia\n"
   ]
  },
  {
   "cell_type": "code",
   "execution_count": 9,
   "metadata": {},
   "outputs": [
    {
     "data": {
      "application/vnd.plotly.v1+json": {
       "config": {
        "plotlyServerURL": "https://plot.ly"
       },
       "data": [
        {
         "domain": {
          "x": [
           0,
           1
          ],
          "y": [
           0,
           1
          ]
         },
         "hovertemplate": "label=%{label}<br>value=%{value}<extra></extra>",
         "labels": [
          "10 de octubre",
          "arroyo naranjo",
          "boyeros",
          "centro habana",
          "cerro",
          "cotorro",
          "guanabacoa",
          "habana del este",
          "habana vieja",
          "la lisa",
          "marianao",
          "playa",
          "plaza de la revolucion",
          "regla",
          "san miguel del padron"
         ],
         "legendgroup": "",
         "name": "",
         "showlegend": true,
         "textinfo": "percent+label",
         "type": "pie",
         "values": [
          20.224719101123593,
          2.247191011235955,
          7.865168539325842,
          7.865168539325842,
          5.617977528089887,
          5.617977528089887,
          4.49438202247191,
          5.617977528089887,
          13.48314606741573,
          3.3707865168539324,
          2.247191011235955,
          4.49438202247191,
          11.235955056179774,
          1.1235955056179776,
          4.49438202247191
         ]
        }
       ],
       "layout": {
        "legend": {
         "tracegroupgap": 0
        },
        "template": {
         "data": {
          "bar": [
           {
            "error_x": {
             "color": "#2a3f5f"
            },
            "error_y": {
             "color": "#2a3f5f"
            },
            "marker": {
             "line": {
              "color": "#E5ECF6",
              "width": 0.5
             },
             "pattern": {
              "fillmode": "overlay",
              "size": 10,
              "solidity": 0.2
             }
            },
            "type": "bar"
           }
          ],
          "barpolar": [
           {
            "marker": {
             "line": {
              "color": "#E5ECF6",
              "width": 0.5
             },
             "pattern": {
              "fillmode": "overlay",
              "size": 10,
              "solidity": 0.2
             }
            },
            "type": "barpolar"
           }
          ],
          "carpet": [
           {
            "aaxis": {
             "endlinecolor": "#2a3f5f",
             "gridcolor": "white",
             "linecolor": "white",
             "minorgridcolor": "white",
             "startlinecolor": "#2a3f5f"
            },
            "baxis": {
             "endlinecolor": "#2a3f5f",
             "gridcolor": "white",
             "linecolor": "white",
             "minorgridcolor": "white",
             "startlinecolor": "#2a3f5f"
            },
            "type": "carpet"
           }
          ],
          "choropleth": [
           {
            "colorbar": {
             "outlinewidth": 0,
             "ticks": ""
            },
            "type": "choropleth"
           }
          ],
          "contour": [
           {
            "colorbar": {
             "outlinewidth": 0,
             "ticks": ""
            },
            "colorscale": [
             [
              0,
              "#0d0887"
             ],
             [
              0.1111111111111111,
              "#46039f"
             ],
             [
              0.2222222222222222,
              "#7201a8"
             ],
             [
              0.3333333333333333,
              "#9c179e"
             ],
             [
              0.4444444444444444,
              "#bd3786"
             ],
             [
              0.5555555555555556,
              "#d8576b"
             ],
             [
              0.6666666666666666,
              "#ed7953"
             ],
             [
              0.7777777777777778,
              "#fb9f3a"
             ],
             [
              0.8888888888888888,
              "#fdca26"
             ],
             [
              1,
              "#f0f921"
             ]
            ],
            "type": "contour"
           }
          ],
          "contourcarpet": [
           {
            "colorbar": {
             "outlinewidth": 0,
             "ticks": ""
            },
            "type": "contourcarpet"
           }
          ],
          "heatmap": [
           {
            "colorbar": {
             "outlinewidth": 0,
             "ticks": ""
            },
            "colorscale": [
             [
              0,
              "#0d0887"
             ],
             [
              0.1111111111111111,
              "#46039f"
             ],
             [
              0.2222222222222222,
              "#7201a8"
             ],
             [
              0.3333333333333333,
              "#9c179e"
             ],
             [
              0.4444444444444444,
              "#bd3786"
             ],
             [
              0.5555555555555556,
              "#d8576b"
             ],
             [
              0.6666666666666666,
              "#ed7953"
             ],
             [
              0.7777777777777778,
              "#fb9f3a"
             ],
             [
              0.8888888888888888,
              "#fdca26"
             ],
             [
              1,
              "#f0f921"
             ]
            ],
            "type": "heatmap"
           }
          ],
          "heatmapgl": [
           {
            "colorbar": {
             "outlinewidth": 0,
             "ticks": ""
            },
            "colorscale": [
             [
              0,
              "#0d0887"
             ],
             [
              0.1111111111111111,
              "#46039f"
             ],
             [
              0.2222222222222222,
              "#7201a8"
             ],
             [
              0.3333333333333333,
              "#9c179e"
             ],
             [
              0.4444444444444444,
              "#bd3786"
             ],
             [
              0.5555555555555556,
              "#d8576b"
             ],
             [
              0.6666666666666666,
              "#ed7953"
             ],
             [
              0.7777777777777778,
              "#fb9f3a"
             ],
             [
              0.8888888888888888,
              "#fdca26"
             ],
             [
              1,
              "#f0f921"
             ]
            ],
            "type": "heatmapgl"
           }
          ],
          "histogram": [
           {
            "marker": {
             "pattern": {
              "fillmode": "overlay",
              "size": 10,
              "solidity": 0.2
             }
            },
            "type": "histogram"
           }
          ],
          "histogram2d": [
           {
            "colorbar": {
             "outlinewidth": 0,
             "ticks": ""
            },
            "colorscale": [
             [
              0,
              "#0d0887"
             ],
             [
              0.1111111111111111,
              "#46039f"
             ],
             [
              0.2222222222222222,
              "#7201a8"
             ],
             [
              0.3333333333333333,
              "#9c179e"
             ],
             [
              0.4444444444444444,
              "#bd3786"
             ],
             [
              0.5555555555555556,
              "#d8576b"
             ],
             [
              0.6666666666666666,
              "#ed7953"
             ],
             [
              0.7777777777777778,
              "#fb9f3a"
             ],
             [
              0.8888888888888888,
              "#fdca26"
             ],
             [
              1,
              "#f0f921"
             ]
            ],
            "type": "histogram2d"
           }
          ],
          "histogram2dcontour": [
           {
            "colorbar": {
             "outlinewidth": 0,
             "ticks": ""
            },
            "colorscale": [
             [
              0,
              "#0d0887"
             ],
             [
              0.1111111111111111,
              "#46039f"
             ],
             [
              0.2222222222222222,
              "#7201a8"
             ],
             [
              0.3333333333333333,
              "#9c179e"
             ],
             [
              0.4444444444444444,
              "#bd3786"
             ],
             [
              0.5555555555555556,
              "#d8576b"
             ],
             [
              0.6666666666666666,
              "#ed7953"
             ],
             [
              0.7777777777777778,
              "#fb9f3a"
             ],
             [
              0.8888888888888888,
              "#fdca26"
             ],
             [
              1,
              "#f0f921"
             ]
            ],
            "type": "histogram2dcontour"
           }
          ],
          "mesh3d": [
           {
            "colorbar": {
             "outlinewidth": 0,
             "ticks": ""
            },
            "type": "mesh3d"
           }
          ],
          "parcoords": [
           {
            "line": {
             "colorbar": {
              "outlinewidth": 0,
              "ticks": ""
             }
            },
            "type": "parcoords"
           }
          ],
          "pie": [
           {
            "automargin": true,
            "type": "pie"
           }
          ],
          "scatter": [
           {
            "fillpattern": {
             "fillmode": "overlay",
             "size": 10,
             "solidity": 0.2
            },
            "type": "scatter"
           }
          ],
          "scatter3d": [
           {
            "line": {
             "colorbar": {
              "outlinewidth": 0,
              "ticks": ""
             }
            },
            "marker": {
             "colorbar": {
              "outlinewidth": 0,
              "ticks": ""
             }
            },
            "type": "scatter3d"
           }
          ],
          "scattercarpet": [
           {
            "marker": {
             "colorbar": {
              "outlinewidth": 0,
              "ticks": ""
             }
            },
            "type": "scattercarpet"
           }
          ],
          "scattergeo": [
           {
            "marker": {
             "colorbar": {
              "outlinewidth": 0,
              "ticks": ""
             }
            },
            "type": "scattergeo"
           }
          ],
          "scattergl": [
           {
            "marker": {
             "colorbar": {
              "outlinewidth": 0,
              "ticks": ""
             }
            },
            "type": "scattergl"
           }
          ],
          "scattermapbox": [
           {
            "marker": {
             "colorbar": {
              "outlinewidth": 0,
              "ticks": ""
             }
            },
            "type": "scattermapbox"
           }
          ],
          "scatterpolar": [
           {
            "marker": {
             "colorbar": {
              "outlinewidth": 0,
              "ticks": ""
             }
            },
            "type": "scatterpolar"
           }
          ],
          "scatterpolargl": [
           {
            "marker": {
             "colorbar": {
              "outlinewidth": 0,
              "ticks": ""
             }
            },
            "type": "scatterpolargl"
           }
          ],
          "scatterternary": [
           {
            "marker": {
             "colorbar": {
              "outlinewidth": 0,
              "ticks": ""
             }
            },
            "type": "scatterternary"
           }
          ],
          "surface": [
           {
            "colorbar": {
             "outlinewidth": 0,
             "ticks": ""
            },
            "colorscale": [
             [
              0,
              "#0d0887"
             ],
             [
              0.1111111111111111,
              "#46039f"
             ],
             [
              0.2222222222222222,
              "#7201a8"
             ],
             [
              0.3333333333333333,
              "#9c179e"
             ],
             [
              0.4444444444444444,
              "#bd3786"
             ],
             [
              0.5555555555555556,
              "#d8576b"
             ],
             [
              0.6666666666666666,
              "#ed7953"
             ],
             [
              0.7777777777777778,
              "#fb9f3a"
             ],
             [
              0.8888888888888888,
              "#fdca26"
             ],
             [
              1,
              "#f0f921"
             ]
            ],
            "type": "surface"
           }
          ],
          "table": [
           {
            "cells": {
             "fill": {
              "color": "#EBF0F8"
             },
             "line": {
              "color": "white"
             }
            },
            "header": {
             "fill": {
              "color": "#C8D4E3"
             },
             "line": {
              "color": "white"
             }
            },
            "type": "table"
           }
          ]
         },
         "layout": {
          "annotationdefaults": {
           "arrowcolor": "#2a3f5f",
           "arrowhead": 0,
           "arrowwidth": 1
          },
          "autotypenumbers": "strict",
          "coloraxis": {
           "colorbar": {
            "outlinewidth": 0,
            "ticks": ""
           }
          },
          "colorscale": {
           "diverging": [
            [
             0,
             "#8e0152"
            ],
            [
             0.1,
             "#c51b7d"
            ],
            [
             0.2,
             "#de77ae"
            ],
            [
             0.3,
             "#f1b6da"
            ],
            [
             0.4,
             "#fde0ef"
            ],
            [
             0.5,
             "#f7f7f7"
            ],
            [
             0.6,
             "#e6f5d0"
            ],
            [
             0.7,
             "#b8e186"
            ],
            [
             0.8,
             "#7fbc41"
            ],
            [
             0.9,
             "#4d9221"
            ],
            [
             1,
             "#276419"
            ]
           ],
           "sequential": [
            [
             0,
             "#0d0887"
            ],
            [
             0.1111111111111111,
             "#46039f"
            ],
            [
             0.2222222222222222,
             "#7201a8"
            ],
            [
             0.3333333333333333,
             "#9c179e"
            ],
            [
             0.4444444444444444,
             "#bd3786"
            ],
            [
             0.5555555555555556,
             "#d8576b"
            ],
            [
             0.6666666666666666,
             "#ed7953"
            ],
            [
             0.7777777777777778,
             "#fb9f3a"
            ],
            [
             0.8888888888888888,
             "#fdca26"
            ],
            [
             1,
             "#f0f921"
            ]
           ],
           "sequentialminus": [
            [
             0,
             "#0d0887"
            ],
            [
             0.1111111111111111,
             "#46039f"
            ],
            [
             0.2222222222222222,
             "#7201a8"
            ],
            [
             0.3333333333333333,
             "#9c179e"
            ],
            [
             0.4444444444444444,
             "#bd3786"
            ],
            [
             0.5555555555555556,
             "#d8576b"
            ],
            [
             0.6666666666666666,
             "#ed7953"
            ],
            [
             0.7777777777777778,
             "#fb9f3a"
            ],
            [
             0.8888888888888888,
             "#fdca26"
            ],
            [
             1,
             "#f0f921"
            ]
           ]
          },
          "colorway": [
           "#636efa",
           "#EF553B",
           "#00cc96",
           "#ab63fa",
           "#FFA15A",
           "#19d3f3",
           "#FF6692",
           "#B6E880",
           "#FF97FF",
           "#FECB52"
          ],
          "font": {
           "color": "#2a3f5f"
          },
          "geo": {
           "bgcolor": "white",
           "lakecolor": "white",
           "landcolor": "#E5ECF6",
           "showlakes": true,
           "showland": true,
           "subunitcolor": "white"
          },
          "hoverlabel": {
           "align": "left"
          },
          "hovermode": "closest",
          "mapbox": {
           "style": "light"
          },
          "paper_bgcolor": "white",
          "plot_bgcolor": "#E5ECF6",
          "polar": {
           "angularaxis": {
            "gridcolor": "white",
            "linecolor": "white",
            "ticks": ""
           },
           "bgcolor": "#E5ECF6",
           "radialaxis": {
            "gridcolor": "white",
            "linecolor": "white",
            "ticks": ""
           }
          },
          "scene": {
           "xaxis": {
            "backgroundcolor": "#E5ECF6",
            "gridcolor": "white",
            "gridwidth": 2,
            "linecolor": "white",
            "showbackground": true,
            "ticks": "",
            "zerolinecolor": "white"
           },
           "yaxis": {
            "backgroundcolor": "#E5ECF6",
            "gridcolor": "white",
            "gridwidth": 2,
            "linecolor": "white",
            "showbackground": true,
            "ticks": "",
            "zerolinecolor": "white"
           },
           "zaxis": {
            "backgroundcolor": "#E5ECF6",
            "gridcolor": "white",
            "gridwidth": 2,
            "linecolor": "white",
            "showbackground": true,
            "ticks": "",
            "zerolinecolor": "white"
           }
          },
          "shapedefaults": {
           "line": {
            "color": "#2a3f5f"
           }
          },
          "ternary": {
           "aaxis": {
            "gridcolor": "white",
            "linecolor": "white",
            "ticks": ""
           },
           "baxis": {
            "gridcolor": "white",
            "linecolor": "white",
            "ticks": ""
           },
           "bgcolor": "#E5ECF6",
           "caxis": {
            "gridcolor": "white",
            "linecolor": "white",
            "ticks": ""
           }
          },
          "title": {
           "x": 0.05
          },
          "xaxis": {
           "automargin": true,
           "gridcolor": "white",
           "linecolor": "white",
           "ticks": "",
           "title": {
            "standoff": 15
           },
           "zerolinecolor": "white",
           "zerolinewidth": 2
          },
          "yaxis": {
           "automargin": true,
           "gridcolor": "white",
           "linecolor": "white",
           "ticks": "",
           "title": {
            "standoff": 15
           },
           "zerolinecolor": "white",
           "zerolinewidth": 2
          }
         }
        },
        "title": {
         "text": "Porcentaje del Total de mensajeria por Municipio"
        }
       }
      }
     },
     "metadata": {},
     "output_type": "display_data"
    }
   ],
   "source": [
    "#Grafico de pastel sobre el porciento de mensajeria por municipio :)\n",
    "info_mensajeria = data2[data2[\"delivery\"].notna()]\n",
    "total_mensajeria = info_mensajeria[\"delivery\"].sum()\n",
    "mensajeria_por_municipio = info_mensajeria.groupby(\"location.municipe\")[\"delivery\"].sum()\n",
    "porciento_restaurantes_mensajeria = round(bp.c_porciento(mensajeria_por_municipio, total_mensajeria),2)\n",
    "\n",
    "mensajeria_info = []\n",
    "for i in porciento_restaurantes_mensajeria.index:\n",
    "    i = bp.i_nombre(i)\n",
    "    mensajeria_info.append(i)\n",
    "\n",
    "fig = px.pie(\n",
    "    names=porciento_restaurantes_mensajeria.index,\n",
    "    values=porciento_restaurantes_mensajeria.values,\n",
    "    title=\"Porcentaje del Total de mensajeria por Municipio\"\n",
    ")\n",
    "\n",
    "fig.update_traces(textinfo=\"percent+label\")\n",
    "fig.show()\n",
    "\n"
   ]
  },
  {
   "cell_type": "markdown",
   "metadata": {},
   "source": [
    "Tener un local que pueda rentar para la organización de eventos además de ser un restaurante puede ser una fuente luctrativa de ingresos por ello Alejandro antes de encontrar el lugar donde iba a poner su restaurante decidió investigar que capacidad media tienen los restaurantes que ofertan este servicio para buscar un local que cumpla con esas condiciones de espacios."
   ]
  },
  {
   "cell_type": "code",
   "execution_count": 14,
   "metadata": {},
   "outputs": [
    {
     "data": {
      "application/vnd.plotly.v1+json": {
       "config": {
        "plotlyServerURL": "https://plot.ly"
       },
       "data": [
        {
         "alignmentgroup": "True",
         "boxpoints": "all",
         "hovertemplate": "Capacidad Mediana de los Restaurantes=%{y}<extra></extra>",
         "legendgroup": "",
         "marker": {
          "color": "#636efa"
         },
         "name": "",
         "notched": false,
         "offsetgroup": "",
         "orientation": "v",
         "showlegend": false,
         "type": "box",
         "x0": " ",
         "xaxis": "x",
         "y": [
          30,
          80,
          28,
          36,
          70,
          60,
          30,
          40,
          40,
          12,
          200,
          25,
          40,
          60,
          50,
          70,
          50,
          20,
          50,
          30,
          20,
          45,
          50,
          35,
          40,
          50,
          28,
          60,
          50,
          70,
          36,
          60,
          38,
          60,
          50,
          50,
          20,
          60,
          30,
          65,
          20,
          50,
          30,
          12,
          30,
          50,
          20,
          93,
          120,
          50,
          50,
          70,
          30,
          40,
          50,
          20,
          16,
          20,
          30,
          20,
          45,
          30,
          38,
          36,
          50,
          50,
          60,
          150,
          35,
          50,
          180,
          80,
          24,
          32,
          40,
          30,
          54,
          60,
          20,
          40,
          40,
          55,
          24,
          70,
          50,
          70,
          40,
          40,
          28,
          36,
          34,
          55,
          100,
          20,
          35,
          null,
          40,
          40,
          60,
          30,
          120,
          30,
          30,
          60,
          70,
          35,
          60,
          20,
          40,
          40,
          80,
          null,
          40,
          40,
          50,
          42,
          30,
          40,
          100,
          12,
          50,
          30,
          50,
          40,
          null,
          40,
          28,
          50,
          45,
          25,
          50,
          30,
          25,
          35,
          40,
          44,
          40,
          60,
          30,
          60,
          50,
          36,
          20,
          40,
          50,
          40,
          70,
          45,
          40,
          35
         ],
         "y0": " ",
         "yaxis": "y"
        }
       ],
       "layout": {
        "boxmode": "group",
        "legend": {
         "tracegroupgap": 0
        },
        "template": {
         "data": {
          "bar": [
           {
            "error_x": {
             "color": "#2a3f5f"
            },
            "error_y": {
             "color": "#2a3f5f"
            },
            "marker": {
             "line": {
              "color": "#E5ECF6",
              "width": 0.5
             },
             "pattern": {
              "fillmode": "overlay",
              "size": 10,
              "solidity": 0.2
             }
            },
            "type": "bar"
           }
          ],
          "barpolar": [
           {
            "marker": {
             "line": {
              "color": "#E5ECF6",
              "width": 0.5
             },
             "pattern": {
              "fillmode": "overlay",
              "size": 10,
              "solidity": 0.2
             }
            },
            "type": "barpolar"
           }
          ],
          "carpet": [
           {
            "aaxis": {
             "endlinecolor": "#2a3f5f",
             "gridcolor": "white",
             "linecolor": "white",
             "minorgridcolor": "white",
             "startlinecolor": "#2a3f5f"
            },
            "baxis": {
             "endlinecolor": "#2a3f5f",
             "gridcolor": "white",
             "linecolor": "white",
             "minorgridcolor": "white",
             "startlinecolor": "#2a3f5f"
            },
            "type": "carpet"
           }
          ],
          "choropleth": [
           {
            "colorbar": {
             "outlinewidth": 0,
             "ticks": ""
            },
            "type": "choropleth"
           }
          ],
          "contour": [
           {
            "colorbar": {
             "outlinewidth": 0,
             "ticks": ""
            },
            "colorscale": [
             [
              0,
              "#0d0887"
             ],
             [
              0.1111111111111111,
              "#46039f"
             ],
             [
              0.2222222222222222,
              "#7201a8"
             ],
             [
              0.3333333333333333,
              "#9c179e"
             ],
             [
              0.4444444444444444,
              "#bd3786"
             ],
             [
              0.5555555555555556,
              "#d8576b"
             ],
             [
              0.6666666666666666,
              "#ed7953"
             ],
             [
              0.7777777777777778,
              "#fb9f3a"
             ],
             [
              0.8888888888888888,
              "#fdca26"
             ],
             [
              1,
              "#f0f921"
             ]
            ],
            "type": "contour"
           }
          ],
          "contourcarpet": [
           {
            "colorbar": {
             "outlinewidth": 0,
             "ticks": ""
            },
            "type": "contourcarpet"
           }
          ],
          "heatmap": [
           {
            "colorbar": {
             "outlinewidth": 0,
             "ticks": ""
            },
            "colorscale": [
             [
              0,
              "#0d0887"
             ],
             [
              0.1111111111111111,
              "#46039f"
             ],
             [
              0.2222222222222222,
              "#7201a8"
             ],
             [
              0.3333333333333333,
              "#9c179e"
             ],
             [
              0.4444444444444444,
              "#bd3786"
             ],
             [
              0.5555555555555556,
              "#d8576b"
             ],
             [
              0.6666666666666666,
              "#ed7953"
             ],
             [
              0.7777777777777778,
              "#fb9f3a"
             ],
             [
              0.8888888888888888,
              "#fdca26"
             ],
             [
              1,
              "#f0f921"
             ]
            ],
            "type": "heatmap"
           }
          ],
          "heatmapgl": [
           {
            "colorbar": {
             "outlinewidth": 0,
             "ticks": ""
            },
            "colorscale": [
             [
              0,
              "#0d0887"
             ],
             [
              0.1111111111111111,
              "#46039f"
             ],
             [
              0.2222222222222222,
              "#7201a8"
             ],
             [
              0.3333333333333333,
              "#9c179e"
             ],
             [
              0.4444444444444444,
              "#bd3786"
             ],
             [
              0.5555555555555556,
              "#d8576b"
             ],
             [
              0.6666666666666666,
              "#ed7953"
             ],
             [
              0.7777777777777778,
              "#fb9f3a"
             ],
             [
              0.8888888888888888,
              "#fdca26"
             ],
             [
              1,
              "#f0f921"
             ]
            ],
            "type": "heatmapgl"
           }
          ],
          "histogram": [
           {
            "marker": {
             "pattern": {
              "fillmode": "overlay",
              "size": 10,
              "solidity": 0.2
             }
            },
            "type": "histogram"
           }
          ],
          "histogram2d": [
           {
            "colorbar": {
             "outlinewidth": 0,
             "ticks": ""
            },
            "colorscale": [
             [
              0,
              "#0d0887"
             ],
             [
              0.1111111111111111,
              "#46039f"
             ],
             [
              0.2222222222222222,
              "#7201a8"
             ],
             [
              0.3333333333333333,
              "#9c179e"
             ],
             [
              0.4444444444444444,
              "#bd3786"
             ],
             [
              0.5555555555555556,
              "#d8576b"
             ],
             [
              0.6666666666666666,
              "#ed7953"
             ],
             [
              0.7777777777777778,
              "#fb9f3a"
             ],
             [
              0.8888888888888888,
              "#fdca26"
             ],
             [
              1,
              "#f0f921"
             ]
            ],
            "type": "histogram2d"
           }
          ],
          "histogram2dcontour": [
           {
            "colorbar": {
             "outlinewidth": 0,
             "ticks": ""
            },
            "colorscale": [
             [
              0,
              "#0d0887"
             ],
             [
              0.1111111111111111,
              "#46039f"
             ],
             [
              0.2222222222222222,
              "#7201a8"
             ],
             [
              0.3333333333333333,
              "#9c179e"
             ],
             [
              0.4444444444444444,
              "#bd3786"
             ],
             [
              0.5555555555555556,
              "#d8576b"
             ],
             [
              0.6666666666666666,
              "#ed7953"
             ],
             [
              0.7777777777777778,
              "#fb9f3a"
             ],
             [
              0.8888888888888888,
              "#fdca26"
             ],
             [
              1,
              "#f0f921"
             ]
            ],
            "type": "histogram2dcontour"
           }
          ],
          "mesh3d": [
           {
            "colorbar": {
             "outlinewidth": 0,
             "ticks": ""
            },
            "type": "mesh3d"
           }
          ],
          "parcoords": [
           {
            "line": {
             "colorbar": {
              "outlinewidth": 0,
              "ticks": ""
             }
            },
            "type": "parcoords"
           }
          ],
          "pie": [
           {
            "automargin": true,
            "type": "pie"
           }
          ],
          "scatter": [
           {
            "fillpattern": {
             "fillmode": "overlay",
             "size": 10,
             "solidity": 0.2
            },
            "type": "scatter"
           }
          ],
          "scatter3d": [
           {
            "line": {
             "colorbar": {
              "outlinewidth": 0,
              "ticks": ""
             }
            },
            "marker": {
             "colorbar": {
              "outlinewidth": 0,
              "ticks": ""
             }
            },
            "type": "scatter3d"
           }
          ],
          "scattercarpet": [
           {
            "marker": {
             "colorbar": {
              "outlinewidth": 0,
              "ticks": ""
             }
            },
            "type": "scattercarpet"
           }
          ],
          "scattergeo": [
           {
            "marker": {
             "colorbar": {
              "outlinewidth": 0,
              "ticks": ""
             }
            },
            "type": "scattergeo"
           }
          ],
          "scattergl": [
           {
            "marker": {
             "colorbar": {
              "outlinewidth": 0,
              "ticks": ""
             }
            },
            "type": "scattergl"
           }
          ],
          "scattermapbox": [
           {
            "marker": {
             "colorbar": {
              "outlinewidth": 0,
              "ticks": ""
             }
            },
            "type": "scattermapbox"
           }
          ],
          "scatterpolar": [
           {
            "marker": {
             "colorbar": {
              "outlinewidth": 0,
              "ticks": ""
             }
            },
            "type": "scatterpolar"
           }
          ],
          "scatterpolargl": [
           {
            "marker": {
             "colorbar": {
              "outlinewidth": 0,
              "ticks": ""
             }
            },
            "type": "scatterpolargl"
           }
          ],
          "scatterternary": [
           {
            "marker": {
             "colorbar": {
              "outlinewidth": 0,
              "ticks": ""
             }
            },
            "type": "scatterternary"
           }
          ],
          "surface": [
           {
            "colorbar": {
             "outlinewidth": 0,
             "ticks": ""
            },
            "colorscale": [
             [
              0,
              "#0d0887"
             ],
             [
              0.1111111111111111,
              "#46039f"
             ],
             [
              0.2222222222222222,
              "#7201a8"
             ],
             [
              0.3333333333333333,
              "#9c179e"
             ],
             [
              0.4444444444444444,
              "#bd3786"
             ],
             [
              0.5555555555555556,
              "#d8576b"
             ],
             [
              0.6666666666666666,
              "#ed7953"
             ],
             [
              0.7777777777777778,
              "#fb9f3a"
             ],
             [
              0.8888888888888888,
              "#fdca26"
             ],
             [
              1,
              "#f0f921"
             ]
            ],
            "type": "surface"
           }
          ],
          "table": [
           {
            "cells": {
             "fill": {
              "color": "#EBF0F8"
             },
             "line": {
              "color": "white"
             }
            },
            "header": {
             "fill": {
              "color": "#C8D4E3"
             },
             "line": {
              "color": "white"
             }
            },
            "type": "table"
           }
          ]
         },
         "layout": {
          "annotationdefaults": {
           "arrowcolor": "#2a3f5f",
           "arrowhead": 0,
           "arrowwidth": 1
          },
          "autotypenumbers": "strict",
          "coloraxis": {
           "colorbar": {
            "outlinewidth": 0,
            "ticks": ""
           }
          },
          "colorscale": {
           "diverging": [
            [
             0,
             "#8e0152"
            ],
            [
             0.1,
             "#c51b7d"
            ],
            [
             0.2,
             "#de77ae"
            ],
            [
             0.3,
             "#f1b6da"
            ],
            [
             0.4,
             "#fde0ef"
            ],
            [
             0.5,
             "#f7f7f7"
            ],
            [
             0.6,
             "#e6f5d0"
            ],
            [
             0.7,
             "#b8e186"
            ],
            [
             0.8,
             "#7fbc41"
            ],
            [
             0.9,
             "#4d9221"
            ],
            [
             1,
             "#276419"
            ]
           ],
           "sequential": [
            [
             0,
             "#0d0887"
            ],
            [
             0.1111111111111111,
             "#46039f"
            ],
            [
             0.2222222222222222,
             "#7201a8"
            ],
            [
             0.3333333333333333,
             "#9c179e"
            ],
            [
             0.4444444444444444,
             "#bd3786"
            ],
            [
             0.5555555555555556,
             "#d8576b"
            ],
            [
             0.6666666666666666,
             "#ed7953"
            ],
            [
             0.7777777777777778,
             "#fb9f3a"
            ],
            [
             0.8888888888888888,
             "#fdca26"
            ],
            [
             1,
             "#f0f921"
            ]
           ],
           "sequentialminus": [
            [
             0,
             "#0d0887"
            ],
            [
             0.1111111111111111,
             "#46039f"
            ],
            [
             0.2222222222222222,
             "#7201a8"
            ],
            [
             0.3333333333333333,
             "#9c179e"
            ],
            [
             0.4444444444444444,
             "#bd3786"
            ],
            [
             0.5555555555555556,
             "#d8576b"
            ],
            [
             0.6666666666666666,
             "#ed7953"
            ],
            [
             0.7777777777777778,
             "#fb9f3a"
            ],
            [
             0.8888888888888888,
             "#fdca26"
            ],
            [
             1,
             "#f0f921"
            ]
           ]
          },
          "colorway": [
           "#636efa",
           "#EF553B",
           "#00cc96",
           "#ab63fa",
           "#FFA15A",
           "#19d3f3",
           "#FF6692",
           "#B6E880",
           "#FF97FF",
           "#FECB52"
          ],
          "font": {
           "color": "#2a3f5f"
          },
          "geo": {
           "bgcolor": "white",
           "lakecolor": "white",
           "landcolor": "#E5ECF6",
           "showlakes": true,
           "showland": true,
           "subunitcolor": "white"
          },
          "hoverlabel": {
           "align": "left"
          },
          "hovermode": "closest",
          "mapbox": {
           "style": "light"
          },
          "paper_bgcolor": "white",
          "plot_bgcolor": "#E5ECF6",
          "polar": {
           "angularaxis": {
            "gridcolor": "white",
            "linecolor": "white",
            "ticks": ""
           },
           "bgcolor": "#E5ECF6",
           "radialaxis": {
            "gridcolor": "white",
            "linecolor": "white",
            "ticks": ""
           }
          },
          "scene": {
           "xaxis": {
            "backgroundcolor": "#E5ECF6",
            "gridcolor": "white",
            "gridwidth": 2,
            "linecolor": "white",
            "showbackground": true,
            "ticks": "",
            "zerolinecolor": "white"
           },
           "yaxis": {
            "backgroundcolor": "#E5ECF6",
            "gridcolor": "white",
            "gridwidth": 2,
            "linecolor": "white",
            "showbackground": true,
            "ticks": "",
            "zerolinecolor": "white"
           },
           "zaxis": {
            "backgroundcolor": "#E5ECF6",
            "gridcolor": "white",
            "gridwidth": 2,
            "linecolor": "white",
            "showbackground": true,
            "ticks": "",
            "zerolinecolor": "white"
           }
          },
          "shapedefaults": {
           "line": {
            "color": "#2a3f5f"
           }
          },
          "ternary": {
           "aaxis": {
            "gridcolor": "white",
            "linecolor": "white",
            "ticks": ""
           },
           "baxis": {
            "gridcolor": "white",
            "linecolor": "white",
            "ticks": ""
           },
           "bgcolor": "#E5ECF6",
           "caxis": {
            "gridcolor": "white",
            "linecolor": "white",
            "ticks": ""
           }
          },
          "title": {
           "x": 0.05
          },
          "xaxis": {
           "automargin": true,
           "gridcolor": "white",
           "linecolor": "white",
           "ticks": "",
           "title": {
            "standoff": 15
           },
           "zerolinecolor": "white",
           "zerolinewidth": 2
          },
          "yaxis": {
           "automargin": true,
           "gridcolor": "white",
           "linecolor": "white",
           "ticks": "",
           "title": {
            "standoff": 15
           },
           "zerolinecolor": "white",
           "zerolinewidth": 2
          }
         }
        },
        "title": {
         "text": "Distribución de la Capacidad de los Restaurantes con Reserva"
        },
        "xaxis": {
         "anchor": "y",
         "domain": [
          0,
          1
         ]
        },
        "yaxis": {
         "anchor": "x",
         "domain": [
          0,
          1
         ],
         "title": {
          "text": "Capacidad Mediana de los Restaurantes"
         }
        }
       }
      }
     },
     "metadata": {},
     "output_type": "display_data"
    }
   ],
   "source": [
    "#Grafica que muestra la capacidad mediana de los restaurantes que aceptan reservacion :)\n",
    "\n",
    "restaurantes_con_reserva = data2[data2[\"reservation\"] == True]\n",
    "capacidad_reserva= restaurantes_con_reserva[\"capacity\"]\n",
    "mediana_capacidad = round(bp.c_mediana(capacidad_reserva))\n",
    "\n",
    "\n",
    "fig = px.box(\n",
    "    restaurantes_con_reserva,\n",
    "    y='capacity',\n",
    "    title='Distribución de la Capacidad de los Restaurantes con Reserva',\n",
    "    labels={'capacity': 'Capacidad Mediana de los Restaurantes'},\n",
    "    points=\"all\"\n",
    "    \n",
    ")\n",
    "\n",
    "fig.show()\n"
   ]
  },
  {
   "cell_type": "markdown",
   "metadata": {},
   "source": [
    "Tendríamos que analizar si sería una buena inversión incluir un bar dentro del local para llamar la atención de personas que buscan un lugar para compartir y relajarse un rato "
   ]
  },
  {
   "cell_type": "markdown",
   "metadata": {},
   "source": [
    "![4](coctel.jpg)"
   ]
  },
  {
   "cell_type": "markdown",
   "metadata": {},
   "source": [
    "Quedó comprobado que el 65.02 porciento de locales analizados incluyen el servicio bar, así que Alejandro concluyó que sin duda su futuro negocio debía contar con uno, quizás no con una gran carta pero al menos ofreciendo los cócteles mas comunes."
   ]
  },
  {
   "cell_type": "code",
   "execution_count": 11,
   "metadata": {},
   "outputs": [
    {
     "data": {
      "application/vnd.plotly.v1+json": {
       "config": {
        "plotlyServerURL": "https://plot.ly"
       },
       "data": [
        {
         "alignmentgroup": "True",
         "hovertemplate": "x=%{x}<br>y=%{y}<extra></extra>",
         "legendgroup": "",
         "marker": {
          "color": "#636efa",
          "pattern": {
           "shape": ""
          }
         },
         "name": "",
         "offsetgroup": "",
         "orientation": "v",
         "showlegend": false,
         "textposition": "auto",
         "type": "bar",
         "x": [
          "Con Bar",
          "Sin Bar"
         ],
         "xaxis": "x",
         "y": [
          65.02,
          34.980000000000004
         ],
         "yaxis": "y"
        }
       ],
       "layout": {
        "barmode": "relative",
        "legend": {
         "tracegroupgap": 0
        },
        "template": {
         "data": {
          "bar": [
           {
            "error_x": {
             "color": "#2a3f5f"
            },
            "error_y": {
             "color": "#2a3f5f"
            },
            "marker": {
             "line": {
              "color": "#E5ECF6",
              "width": 0.5
             },
             "pattern": {
              "fillmode": "overlay",
              "size": 10,
              "solidity": 0.2
             }
            },
            "type": "bar"
           }
          ],
          "barpolar": [
           {
            "marker": {
             "line": {
              "color": "#E5ECF6",
              "width": 0.5
             },
             "pattern": {
              "fillmode": "overlay",
              "size": 10,
              "solidity": 0.2
             }
            },
            "type": "barpolar"
           }
          ],
          "carpet": [
           {
            "aaxis": {
             "endlinecolor": "#2a3f5f",
             "gridcolor": "white",
             "linecolor": "white",
             "minorgridcolor": "white",
             "startlinecolor": "#2a3f5f"
            },
            "baxis": {
             "endlinecolor": "#2a3f5f",
             "gridcolor": "white",
             "linecolor": "white",
             "minorgridcolor": "white",
             "startlinecolor": "#2a3f5f"
            },
            "type": "carpet"
           }
          ],
          "choropleth": [
           {
            "colorbar": {
             "outlinewidth": 0,
             "ticks": ""
            },
            "type": "choropleth"
           }
          ],
          "contour": [
           {
            "colorbar": {
             "outlinewidth": 0,
             "ticks": ""
            },
            "colorscale": [
             [
              0,
              "#0d0887"
             ],
             [
              0.1111111111111111,
              "#46039f"
             ],
             [
              0.2222222222222222,
              "#7201a8"
             ],
             [
              0.3333333333333333,
              "#9c179e"
             ],
             [
              0.4444444444444444,
              "#bd3786"
             ],
             [
              0.5555555555555556,
              "#d8576b"
             ],
             [
              0.6666666666666666,
              "#ed7953"
             ],
             [
              0.7777777777777778,
              "#fb9f3a"
             ],
             [
              0.8888888888888888,
              "#fdca26"
             ],
             [
              1,
              "#f0f921"
             ]
            ],
            "type": "contour"
           }
          ],
          "contourcarpet": [
           {
            "colorbar": {
             "outlinewidth": 0,
             "ticks": ""
            },
            "type": "contourcarpet"
           }
          ],
          "heatmap": [
           {
            "colorbar": {
             "outlinewidth": 0,
             "ticks": ""
            },
            "colorscale": [
             [
              0,
              "#0d0887"
             ],
             [
              0.1111111111111111,
              "#46039f"
             ],
             [
              0.2222222222222222,
              "#7201a8"
             ],
             [
              0.3333333333333333,
              "#9c179e"
             ],
             [
              0.4444444444444444,
              "#bd3786"
             ],
             [
              0.5555555555555556,
              "#d8576b"
             ],
             [
              0.6666666666666666,
              "#ed7953"
             ],
             [
              0.7777777777777778,
              "#fb9f3a"
             ],
             [
              0.8888888888888888,
              "#fdca26"
             ],
             [
              1,
              "#f0f921"
             ]
            ],
            "type": "heatmap"
           }
          ],
          "heatmapgl": [
           {
            "colorbar": {
             "outlinewidth": 0,
             "ticks": ""
            },
            "colorscale": [
             [
              0,
              "#0d0887"
             ],
             [
              0.1111111111111111,
              "#46039f"
             ],
             [
              0.2222222222222222,
              "#7201a8"
             ],
             [
              0.3333333333333333,
              "#9c179e"
             ],
             [
              0.4444444444444444,
              "#bd3786"
             ],
             [
              0.5555555555555556,
              "#d8576b"
             ],
             [
              0.6666666666666666,
              "#ed7953"
             ],
             [
              0.7777777777777778,
              "#fb9f3a"
             ],
             [
              0.8888888888888888,
              "#fdca26"
             ],
             [
              1,
              "#f0f921"
             ]
            ],
            "type": "heatmapgl"
           }
          ],
          "histogram": [
           {
            "marker": {
             "pattern": {
              "fillmode": "overlay",
              "size": 10,
              "solidity": 0.2
             }
            },
            "type": "histogram"
           }
          ],
          "histogram2d": [
           {
            "colorbar": {
             "outlinewidth": 0,
             "ticks": ""
            },
            "colorscale": [
             [
              0,
              "#0d0887"
             ],
             [
              0.1111111111111111,
              "#46039f"
             ],
             [
              0.2222222222222222,
              "#7201a8"
             ],
             [
              0.3333333333333333,
              "#9c179e"
             ],
             [
              0.4444444444444444,
              "#bd3786"
             ],
             [
              0.5555555555555556,
              "#d8576b"
             ],
             [
              0.6666666666666666,
              "#ed7953"
             ],
             [
              0.7777777777777778,
              "#fb9f3a"
             ],
             [
              0.8888888888888888,
              "#fdca26"
             ],
             [
              1,
              "#f0f921"
             ]
            ],
            "type": "histogram2d"
           }
          ],
          "histogram2dcontour": [
           {
            "colorbar": {
             "outlinewidth": 0,
             "ticks": ""
            },
            "colorscale": [
             [
              0,
              "#0d0887"
             ],
             [
              0.1111111111111111,
              "#46039f"
             ],
             [
              0.2222222222222222,
              "#7201a8"
             ],
             [
              0.3333333333333333,
              "#9c179e"
             ],
             [
              0.4444444444444444,
              "#bd3786"
             ],
             [
              0.5555555555555556,
              "#d8576b"
             ],
             [
              0.6666666666666666,
              "#ed7953"
             ],
             [
              0.7777777777777778,
              "#fb9f3a"
             ],
             [
              0.8888888888888888,
              "#fdca26"
             ],
             [
              1,
              "#f0f921"
             ]
            ],
            "type": "histogram2dcontour"
           }
          ],
          "mesh3d": [
           {
            "colorbar": {
             "outlinewidth": 0,
             "ticks": ""
            },
            "type": "mesh3d"
           }
          ],
          "parcoords": [
           {
            "line": {
             "colorbar": {
              "outlinewidth": 0,
              "ticks": ""
             }
            },
            "type": "parcoords"
           }
          ],
          "pie": [
           {
            "automargin": true,
            "type": "pie"
           }
          ],
          "scatter": [
           {
            "fillpattern": {
             "fillmode": "overlay",
             "size": 10,
             "solidity": 0.2
            },
            "type": "scatter"
           }
          ],
          "scatter3d": [
           {
            "line": {
             "colorbar": {
              "outlinewidth": 0,
              "ticks": ""
             }
            },
            "marker": {
             "colorbar": {
              "outlinewidth": 0,
              "ticks": ""
             }
            },
            "type": "scatter3d"
           }
          ],
          "scattercarpet": [
           {
            "marker": {
             "colorbar": {
              "outlinewidth": 0,
              "ticks": ""
             }
            },
            "type": "scattercarpet"
           }
          ],
          "scattergeo": [
           {
            "marker": {
             "colorbar": {
              "outlinewidth": 0,
              "ticks": ""
             }
            },
            "type": "scattergeo"
           }
          ],
          "scattergl": [
           {
            "marker": {
             "colorbar": {
              "outlinewidth": 0,
              "ticks": ""
             }
            },
            "type": "scattergl"
           }
          ],
          "scattermapbox": [
           {
            "marker": {
             "colorbar": {
              "outlinewidth": 0,
              "ticks": ""
             }
            },
            "type": "scattermapbox"
           }
          ],
          "scatterpolar": [
           {
            "marker": {
             "colorbar": {
              "outlinewidth": 0,
              "ticks": ""
             }
            },
            "type": "scatterpolar"
           }
          ],
          "scatterpolargl": [
           {
            "marker": {
             "colorbar": {
              "outlinewidth": 0,
              "ticks": ""
             }
            },
            "type": "scatterpolargl"
           }
          ],
          "scatterternary": [
           {
            "marker": {
             "colorbar": {
              "outlinewidth": 0,
              "ticks": ""
             }
            },
            "type": "scatterternary"
           }
          ],
          "surface": [
           {
            "colorbar": {
             "outlinewidth": 0,
             "ticks": ""
            },
            "colorscale": [
             [
              0,
              "#0d0887"
             ],
             [
              0.1111111111111111,
              "#46039f"
             ],
             [
              0.2222222222222222,
              "#7201a8"
             ],
             [
              0.3333333333333333,
              "#9c179e"
             ],
             [
              0.4444444444444444,
              "#bd3786"
             ],
             [
              0.5555555555555556,
              "#d8576b"
             ],
             [
              0.6666666666666666,
              "#ed7953"
             ],
             [
              0.7777777777777778,
              "#fb9f3a"
             ],
             [
              0.8888888888888888,
              "#fdca26"
             ],
             [
              1,
              "#f0f921"
             ]
            ],
            "type": "surface"
           }
          ],
          "table": [
           {
            "cells": {
             "fill": {
              "color": "#EBF0F8"
             },
             "line": {
              "color": "white"
             }
            },
            "header": {
             "fill": {
              "color": "#C8D4E3"
             },
             "line": {
              "color": "white"
             }
            },
            "type": "table"
           }
          ]
         },
         "layout": {
          "annotationdefaults": {
           "arrowcolor": "#2a3f5f",
           "arrowhead": 0,
           "arrowwidth": 1
          },
          "autotypenumbers": "strict",
          "coloraxis": {
           "colorbar": {
            "outlinewidth": 0,
            "ticks": ""
           }
          },
          "colorscale": {
           "diverging": [
            [
             0,
             "#8e0152"
            ],
            [
             0.1,
             "#c51b7d"
            ],
            [
             0.2,
             "#de77ae"
            ],
            [
             0.3,
             "#f1b6da"
            ],
            [
             0.4,
             "#fde0ef"
            ],
            [
             0.5,
             "#f7f7f7"
            ],
            [
             0.6,
             "#e6f5d0"
            ],
            [
             0.7,
             "#b8e186"
            ],
            [
             0.8,
             "#7fbc41"
            ],
            [
             0.9,
             "#4d9221"
            ],
            [
             1,
             "#276419"
            ]
           ],
           "sequential": [
            [
             0,
             "#0d0887"
            ],
            [
             0.1111111111111111,
             "#46039f"
            ],
            [
             0.2222222222222222,
             "#7201a8"
            ],
            [
             0.3333333333333333,
             "#9c179e"
            ],
            [
             0.4444444444444444,
             "#bd3786"
            ],
            [
             0.5555555555555556,
             "#d8576b"
            ],
            [
             0.6666666666666666,
             "#ed7953"
            ],
            [
             0.7777777777777778,
             "#fb9f3a"
            ],
            [
             0.8888888888888888,
             "#fdca26"
            ],
            [
             1,
             "#f0f921"
            ]
           ],
           "sequentialminus": [
            [
             0,
             "#0d0887"
            ],
            [
             0.1111111111111111,
             "#46039f"
            ],
            [
             0.2222222222222222,
             "#7201a8"
            ],
            [
             0.3333333333333333,
             "#9c179e"
            ],
            [
             0.4444444444444444,
             "#bd3786"
            ],
            [
             0.5555555555555556,
             "#d8576b"
            ],
            [
             0.6666666666666666,
             "#ed7953"
            ],
            [
             0.7777777777777778,
             "#fb9f3a"
            ],
            [
             0.8888888888888888,
             "#fdca26"
            ],
            [
             1,
             "#f0f921"
            ]
           ]
          },
          "colorway": [
           "#636efa",
           "#EF553B",
           "#00cc96",
           "#ab63fa",
           "#FFA15A",
           "#19d3f3",
           "#FF6692",
           "#B6E880",
           "#FF97FF",
           "#FECB52"
          ],
          "font": {
           "color": "#2a3f5f"
          },
          "geo": {
           "bgcolor": "white",
           "lakecolor": "white",
           "landcolor": "#E5ECF6",
           "showlakes": true,
           "showland": true,
           "subunitcolor": "white"
          },
          "hoverlabel": {
           "align": "left"
          },
          "hovermode": "closest",
          "mapbox": {
           "style": "light"
          },
          "paper_bgcolor": "white",
          "plot_bgcolor": "#E5ECF6",
          "polar": {
           "angularaxis": {
            "gridcolor": "white",
            "linecolor": "white",
            "ticks": ""
           },
           "bgcolor": "#E5ECF6",
           "radialaxis": {
            "gridcolor": "white",
            "linecolor": "white",
            "ticks": ""
           }
          },
          "scene": {
           "xaxis": {
            "backgroundcolor": "#E5ECF6",
            "gridcolor": "white",
            "gridwidth": 2,
            "linecolor": "white",
            "showbackground": true,
            "ticks": "",
            "zerolinecolor": "white"
           },
           "yaxis": {
            "backgroundcolor": "#E5ECF6",
            "gridcolor": "white",
            "gridwidth": 2,
            "linecolor": "white",
            "showbackground": true,
            "ticks": "",
            "zerolinecolor": "white"
           },
           "zaxis": {
            "backgroundcolor": "#E5ECF6",
            "gridcolor": "white",
            "gridwidth": 2,
            "linecolor": "white",
            "showbackground": true,
            "ticks": "",
            "zerolinecolor": "white"
           }
          },
          "shapedefaults": {
           "line": {
            "color": "#2a3f5f"
           }
          },
          "ternary": {
           "aaxis": {
            "gridcolor": "white",
            "linecolor": "white",
            "ticks": ""
           },
           "baxis": {
            "gridcolor": "white",
            "linecolor": "white",
            "ticks": ""
           },
           "bgcolor": "#E5ECF6",
           "caxis": {
            "gridcolor": "white",
            "linecolor": "white",
            "ticks": ""
           }
          },
          "title": {
           "x": 0.05
          },
          "xaxis": {
           "automargin": true,
           "gridcolor": "white",
           "linecolor": "white",
           "ticks": "",
           "title": {
            "standoff": 15
           },
           "zerolinecolor": "white",
           "zerolinewidth": 2
          },
          "yaxis": {
           "automargin": true,
           "gridcolor": "white",
           "linecolor": "white",
           "ticks": "",
           "title": {
            "standoff": 15
           },
           "zerolinecolor": "white",
           "zerolinewidth": 2
          }
         }
        },
        "title": {
         "text": "Porciento de Locales con Bar Incluido"
        },
        "xaxis": {
         "anchor": "y",
         "domain": [
          0,
          1
         ],
         "title": {
          "text": "x"
         }
        },
        "yaxis": {
         "anchor": "x",
         "domain": [
          0,
          1
         ],
         "title": {
          "text": "y"
         }
        }
       }
      }
     },
     "metadata": {},
     "output_type": "display_data"
    }
   ],
   "source": [
    "#Grafico que muestra el porciento de locales que tiene la opcion de bar\n",
    "total_tipo = len(data2)\n",
    "tipo = data2[\"type\"]\n",
    "tipo_bar = []\n",
    "for i in tipo:\n",
    "    if i == \"Bar\" or i == \"Bar-Restaurante\" or i == \"Bar-Restaurante-Cafeteria\":\n",
    "        tipo_bar.append(i)\n",
    "cant_bar = len(tipo_bar)\n",
    "porciento_bares = round(bp.c_porciento(cant_bar, total_tipo), 2)\n",
    "porciento_sin_bares =  100 - porciento_bares\n",
    "\n",
    "fig= px.bar(\n",
    "    x=(\"Con Bar\",\"Sin Bar\"),\n",
    "    y=(porciento_bares, porciento_sin_bares),\n",
    "    title=\"Porciento de Locales con Bar Incluido\",\n",
    "    labels=(\"Categorias\",\"Porcentaje\")\n",
    "\n",
    "\n",
    ")\n",
    "fig.show()"
   ]
  },
  {
   "cell_type": "markdown",
   "metadata": {},
   "source": [
    "Necesitariamos agregar nuestra localización a un mapa en línea para facilitarle la úbicacion a todos los interesados y creo que teniendo garantizado todo lo anterior estarían creadas las condiciones básicas para iniciar nuestro negocio y después ir creciendo poco a poco hasta lograr ser uno de los mejores restaurantes de la Ciudad de La Habana\n",
    "\n",
    "-Caridad: Hay mijo cuantos sueños tienes y cuantas cosas hay que analizar para el restaurante, no crees que sea mejor que me pongas un negocito de Shein?"
   ]
  },
  {
   "cell_type": "code",
   "execution_count": 12,
   "metadata": {},
   "outputs": [
    {
     "data": {
      "text/html": [
       "<div style=\"width:100%;\"><div style=\"position:relative;width:100%;height:0;padding-bottom:60%;\"><span style=\"color:#565656\">Make this Notebook Trusted to load map: File -> Trust Notebook</span><iframe srcdoc=\"&lt;!DOCTYPE html&gt;\n",
       "&lt;html&gt;\n",
       "&lt;head&gt;\n",
       "    \n",
       "    &lt;meta http-equiv=&quot;content-type&quot; content=&quot;text/html; charset=UTF-8&quot; /&gt;\n",
       "    \n",
       "        &lt;script&gt;\n",
       "            L_NO_TOUCH = false;\n",
       "            L_DISABLE_3D = false;\n",
       "        &lt;/script&gt;\n",
       "    \n",
       "    &lt;style&gt;html, body {width: 100%;height: 100%;margin: 0;padding: 0;}&lt;/style&gt;\n",
       "    &lt;style&gt;#map {position:absolute;top:0;bottom:0;right:0;left:0;}&lt;/style&gt;\n",
       "    &lt;script src=&quot;https://cdn.jsdelivr.net/npm/leaflet@1.9.3/dist/leaflet.js&quot;&gt;&lt;/script&gt;\n",
       "    &lt;script src=&quot;https://code.jquery.com/jquery-3.7.1.min.js&quot;&gt;&lt;/script&gt;\n",
       "    &lt;script src=&quot;https://cdn.jsdelivr.net/npm/bootstrap@5.2.2/dist/js/bootstrap.bundle.min.js&quot;&gt;&lt;/script&gt;\n",
       "    &lt;script src=&quot;https://cdnjs.cloudflare.com/ajax/libs/Leaflet.awesome-markers/2.0.2/leaflet.awesome-markers.js&quot;&gt;&lt;/script&gt;\n",
       "    &lt;link rel=&quot;stylesheet&quot; href=&quot;https://cdn.jsdelivr.net/npm/leaflet@1.9.3/dist/leaflet.css&quot;/&gt;\n",
       "    &lt;link rel=&quot;stylesheet&quot; href=&quot;https://cdn.jsdelivr.net/npm/bootstrap@5.2.2/dist/css/bootstrap.min.css&quot;/&gt;\n",
       "    &lt;link rel=&quot;stylesheet&quot; href=&quot;https://netdna.bootstrapcdn.com/bootstrap/3.0.0/css/bootstrap-glyphicons.css&quot;/&gt;\n",
       "    &lt;link rel=&quot;stylesheet&quot; href=&quot;https://cdn.jsdelivr.net/npm/@fortawesome/fontawesome-free@6.2.0/css/all.min.css&quot;/&gt;\n",
       "    &lt;link rel=&quot;stylesheet&quot; href=&quot;https://cdnjs.cloudflare.com/ajax/libs/Leaflet.awesome-markers/2.0.2/leaflet.awesome-markers.css&quot;/&gt;\n",
       "    &lt;link rel=&quot;stylesheet&quot; href=&quot;https://cdn.jsdelivr.net/gh/python-visualization/folium/folium/templates/leaflet.awesome.rotate.min.css&quot;/&gt;\n",
       "    \n",
       "            &lt;meta name=&quot;viewport&quot; content=&quot;width=device-width,\n",
       "                initial-scale=1.0, maximum-scale=1.0, user-scalable=no&quot; /&gt;\n",
       "            &lt;style&gt;\n",
       "                #map_c1bd0692b3c890e2cab86875cb676aa0 {\n",
       "                    position: relative;\n",
       "                    width: 100.0%;\n",
       "                    height: 100.0%;\n",
       "                    left: 0.0%;\n",
       "                    top: 0.0%;\n",
       "                }\n",
       "                .leaflet-container { font-size: 1rem; }\n",
       "            &lt;/style&gt;\n",
       "        \n",
       "&lt;/head&gt;\n",
       "&lt;body&gt;\n",
       "    \n",
       "    \n",
       "            &lt;div class=&quot;folium-map&quot; id=&quot;map_c1bd0692b3c890e2cab86875cb676aa0&quot; &gt;&lt;/div&gt;\n",
       "        \n",
       "&lt;/body&gt;\n",
       "&lt;script&gt;\n",
       "    \n",
       "    \n",
       "            var map_c1bd0692b3c890e2cab86875cb676aa0 = L.map(\n",
       "                &quot;map_c1bd0692b3c890e2cab86875cb676aa0&quot;,\n",
       "                {\n",
       "                    center: [23.1, -82.4],\n",
       "                    crs: L.CRS.EPSG3857,\n",
       "                    ...{\n",
       "  &quot;zoom&quot;: 11,\n",
       "  &quot;zoomControl&quot;: true,\n",
       "  &quot;preferCanvas&quot;: false,\n",
       "}\n",
       "\n",
       "                }\n",
       "            );\n",
       "\n",
       "            \n",
       "\n",
       "        \n",
       "    \n",
       "            var tile_layer_c145e1ccb82e384fba4261026cf0499c = L.tileLayer(\n",
       "                &quot;https://tile.openstreetmap.org/{z}/{x}/{y}.png&quot;,\n",
       "                {\n",
       "  &quot;minZoom&quot;: 0,\n",
       "  &quot;maxZoom&quot;: 19,\n",
       "  &quot;maxNativeZoom&quot;: 19,\n",
       "  &quot;noWrap&quot;: false,\n",
       "  &quot;attribution&quot;: &quot;\\u0026copy; \\u003ca href=\\&quot;https://www.openstreetmap.org/copyright\\&quot;\\u003eOpenStreetMap\\u003c/a\\u003e contributors&quot;,\n",
       "  &quot;subdomains&quot;: &quot;abc&quot;,\n",
       "  &quot;detectRetina&quot;: false,\n",
       "  &quot;tms&quot;: false,\n",
       "  &quot;opacity&quot;: 1,\n",
       "}\n",
       "\n",
       "            );\n",
       "        \n",
       "    \n",
       "            tile_layer_c145e1ccb82e384fba4261026cf0499c.addTo(map_c1bd0692b3c890e2cab86875cb676aa0);\n",
       "        \n",
       "    \n",
       "\n",
       "        function geo_json_a8a7bef3d19f43bbd6e977afaf4d385f_onEachFeature(feature, layer) {\n",
       "            layer.on({\n",
       "            });\n",
       "        };\n",
       "        var geo_json_a8a7bef3d19f43bbd6e977afaf4d385f = L.geoJson(null, {\n",
       "                onEachFeature: geo_json_a8a7bef3d19f43bbd6e977afaf4d385f_onEachFeature,\n",
       "            \n",
       "            ...{\n",
       "}\n",
       "        });\n",
       "\n",
       "        function geo_json_a8a7bef3d19f43bbd6e977afaf4d385f_add (data) {\n",
       "            geo_json_a8a7bef3d19f43bbd6e977afaf4d385f\n",
       "                .addData(data);\n",
       "        }\n",
       "            geo_json_a8a7bef3d19f43bbd6e977afaf4d385f_add({&quot;features&quot;: [{&quot;geometry&quot;: {&quot;coordinates&quot;: [[[-82.5403, 23.0517], [-82.5289, 23.0628], [-82.5239, 23.0735], [-82.509, 23.0829], [-82.5045, 23.0806], [-82.4981, 23.0844], [-82.5026, 23.0865], [-82.4957, 23.0937], [-82.4911, 23.0937], [-82.4894, 23.0897], [-82.4872, 23.0951], [-82.4835, 23.0947], [-82.4781, 23.0901], [-82.4783, 23.0949], [-82.4606, 23.0936], [-82.4609, 23.0976], [-82.4554, 23.0961], [-82.4535, 23.1017], [-82.4346, 23.1193], [-82.4152, 23.1334], [-82.4121, 23.1339], [-82.4119, 23.1305], [-82.4053, 23.1406], [-82.3912, 23.1478], [-82.3696, 23.1424], [-82.3579, 23.1468], [-82.3522, 23.145], [-82.345, 23.1353], [-82.3478, 23.1286], [-82.3577, 23.122], [-82.351, 23.1205], [-82.3448, 23.1266], [-82.3422, 23.1147], [-82.3343, 23.1123], [-82.3406, 23.1243], [-82.3359, 23.1273], [-82.3374, 23.1347], [-82.328, 23.1303], [-82.3281, 23.1382], [-82.3229, 23.1427], [-82.3446, 23.1424], [-82.3563, 23.1516], [-82.3244, 23.1664], [-82.3026, 23.1715], [-82.2944, 23.1688], [-82.2911, 23.1637], [-82.2892, 23.1702], [-82.2772, 23.1754], [-82.2442, 23.1786], [-82.2402, 23.1732], [-82.2393, 23.1783], [-82.228, 23.1806], [-82.214, 23.1785], [-82.2115, 23.1724], [-82.2121, 23.1785], [-82.2045, 23.1806], [-82.1518, 23.172], [-82.1258, 23.1744], [-82.1225, 23.1684], [-82.1161, 23.1715], [-82.1209, 23.1724], [-82.1185, 23.1737], [-82.098, 23.1729], [-82.0929, 23.1761], [-82.0925, 23.168], [-82.1016, 23.1666], [-82.1025, 23.1598], [-82.082, 23.1487], [-82.0799, 23.1245], [-82.0931, 23.1221], [-82.0861, 23.1055], [-82.1016, 23.0931], [-82.1015, 23.0847], [-82.1087, 23.0806], [-82.1058, 23.0767], [-82.1096, 23.0683], [-82.1011, 23.0555], [-82.1148, 23.0547], [-82.1445, 23.0685], [-82.15, 23.075], [-82.1562, 23.0744], [-82.1764, 23.0576], [-82.2231, 23.064], [-82.2256, 23.0165], [-82.1964, 22.9972], [-82.1979, 22.993], [-82.2115, 22.9944], [-82.2167, 22.9997], [-82.2283, 22.9804], [-82.2618, 22.9734], [-82.2475, 22.9564], [-82.2676, 22.9578], [-82.2798, 22.9519], [-82.2976, 22.9541], [-82.3009, 22.9627], [-82.3056, 22.9648], [-82.3132, 22.9649], [-82.3304, 22.9563], [-82.3648, 22.9667], [-82.3775, 22.9657], [-82.3759, 22.9558], [-82.3658, 22.9405], [-82.3868, 22.9337], [-82.4152, 22.9483], [-82.4287, 22.9466], [-82.4336, 22.9403], [-82.4458, 22.9471], [-82.4436, 22.9814], [-82.4482, 22.9851], [-82.4578, 22.9775], [-82.4661, 22.982], [-82.4672, 22.9783], [-82.4843, 22.9729], [-82.498, 22.9947], [-82.5012, 23.0095], [-82.5081, 23.0153], [-82.5066, 23.0211], [-82.4982, 23.0262], [-82.4949, 23.0323], [-82.4973, 23.0392], [-82.4917, 23.0411], [-82.4889, 23.0523], [-82.4921, 23.0736], [-82.4972, 23.0736], [-82.5021, 23.0687], [-82.5108, 23.0703], [-82.5329, 23.0523], [-82.5403, 23.0517]]], &quot;type&quot;: &quot;Polygon&quot;}, &quot;properties&quot;: {&quot;DPA_province_code&quot;: &quot;23&quot;, &quot;country&quot;: &quot;Cuba&quot;, &quot;country_domain&quot;: &quot;cu&quot;, &quot;province&quot;: &quot;La Habana&quot;, &quot;province_id&quot;: &quot;lha&quot;, &quot;region&quot;: &quot;province&quot;}, &quot;type&quot;: &quot;Feature&quot;}], &quot;type&quot;: &quot;FeatureCollection&quot;});\n",
       "        geo_json_a8a7bef3d19f43bbd6e977afaf4d385f.setStyle(function(feature) {return feature.properties.style;});\n",
       "\n",
       "        \n",
       "    \n",
       "            geo_json_a8a7bef3d19f43bbd6e977afaf4d385f.addTo(map_c1bd0692b3c890e2cab86875cb676aa0);\n",
       "        \n",
       "    \n",
       "            var marker_3a312f5bec2d89ea5d9b768eed3dc2a4 = L.marker(\n",
       "                [23.127994303036843, -82.33433402886767],\n",
       "                {\n",
       "}\n",
       "            ).addTo(map_c1bd0692b3c890e2cab86875cb676aa0);\n",
       "        \n",
       "    \n",
       "            var icon_df2b6cf9e4ffc0685e305f7cdefc0110 = L.AwesomeMarkers.icon(\n",
       "                {\n",
       "  &quot;markerColor&quot;: &quot;red&quot;,\n",
       "  &quot;iconColor&quot;: &quot;white&quot;,\n",
       "  &quot;icon&quot;: &quot;cutlery&quot;,\n",
       "  &quot;prefix&quot;: &quot;fa&quot;,\n",
       "  &quot;extraClasses&quot;: &quot;fa-rotate-0&quot;,\n",
       "}\n",
       "            );\n",
       "            marker_3a312f5bec2d89ea5d9b768eed3dc2a4.setIcon(icon_df2b6cf9e4ffc0685e305f7cdefc0110);\n",
       "        \n",
       "    \n",
       "        var popup_ca8e87340384b2775bfe73e2a580c673 = L.popup({\n",
       "  &quot;maxWidth&quot;: &quot;100%&quot;,\n",
       "});\n",
       "\n",
       "        \n",
       "            \n",
       "                var html_9a2a767b1ed999e6612fe5016ac9205f = $(`&lt;div id=&quot;html_9a2a767b1ed999e6612fe5016ac9205f&quot; style=&quot;width: 100.0%; height: 100.0%;&quot;&gt;(&quot;&lt;b style=&#x27;font-size: 18px; &#x27;&gt;@2KFE&lt;/b&gt;&lt;br&gt;Direccion:  entre Martí y Maceo, Pereira&quot;, &quot;Especialidades: [&#x27;Internacional&#x27;, &#x27;Criolla&#x27;]&quot;)&lt;/div&gt;`)[0];\n",
       "                popup_ca8e87340384b2775bfe73e2a580c673.setContent(html_9a2a767b1ed999e6612fe5016ac9205f);\n",
       "            \n",
       "        \n",
       "\n",
       "        marker_3a312f5bec2d89ea5d9b768eed3dc2a4.bindPopup(popup_ca8e87340384b2775bfe73e2a580c673)\n",
       "        ;\n",
       "\n",
       "        \n",
       "    \n",
       "    \n",
       "            var marker_29731e53df15028c68b775d71f4fd6ee = L.marker(\n",
       "                [23.123441938216946, -82.32315460160667],\n",
       "                {\n",
       "}\n",
       "            ).addTo(map_c1bd0692b3c890e2cab86875cb676aa0);\n",
       "        \n",
       "    \n",
       "            var icon_f510c9f0f6f86c5818530ebbe7d639b0 = L.AwesomeMarkers.icon(\n",
       "                {\n",
       "  &quot;markerColor&quot;: &quot;red&quot;,\n",
       "  &quot;iconColor&quot;: &quot;white&quot;,\n",
       "  &quot;icon&quot;: &quot;cutlery&quot;,\n",
       "  &quot;prefix&quot;: &quot;fa&quot;,\n",
       "  &quot;extraClasses&quot;: &quot;fa-rotate-0&quot;,\n",
       "}\n",
       "            );\n",
       "            marker_29731e53df15028c68b775d71f4fd6ee.setIcon(icon_f510c9f0f6f86c5818530ebbe7d639b0);\n",
       "        \n",
       "    \n",
       "        var popup_8408f5614b66a42674ee78888d8dba9f = L.popup({\n",
       "  &quot;maxWidth&quot;: &quot;100%&quot;,\n",
       "});\n",
       "\n",
       "        \n",
       "            \n",
       "                var html_19638ef8ad4f8b881e13699ee20baa81 = $(`&lt;div id=&quot;html_19638ef8ad4f8b881e13699ee20baa81&quot; style=&quot;width: 100.0%; height: 100.0%;&quot;&gt;(&quot;&lt;b style=&#x27;font-size: 18px; &#x27;&gt;5ta Billar&lt;/b&gt;&lt;br&gt;Direccion: Av. Rotoria entre enlace y A&quot;, &quot;Especialidades: [&#x27;Internacional&#x27;]&quot;)&lt;/div&gt;`)[0];\n",
       "                popup_8408f5614b66a42674ee78888d8dba9f.setContent(html_19638ef8ad4f8b881e13699ee20baa81);\n",
       "            \n",
       "        \n",
       "\n",
       "        marker_29731e53df15028c68b775d71f4fd6ee.bindPopup(popup_8408f5614b66a42674ee78888d8dba9f)\n",
       "        ;\n",
       "\n",
       "        \n",
       "    \n",
       "    \n",
       "            var marker_2abfbbb57944c3289c514a323e4fca54 = L.marker(\n",
       "                [23.088058099587446, -82.42179558984083],\n",
       "                {\n",
       "}\n",
       "            ).addTo(map_c1bd0692b3c890e2cab86875cb676aa0);\n",
       "        \n",
       "    \n",
       "            var icon_33ad6b7b58540eb06ad1a1438dce7215 = L.AwesomeMarkers.icon(\n",
       "                {\n",
       "  &quot;markerColor&quot;: &quot;red&quot;,\n",
       "  &quot;iconColor&quot;: &quot;white&quot;,\n",
       "  &quot;icon&quot;: &quot;cutlery&quot;,\n",
       "  &quot;prefix&quot;: &quot;fa&quot;,\n",
       "  &quot;extraClasses&quot;: &quot;fa-rotate-0&quot;,\n",
       "}\n",
       "            );\n",
       "            marker_2abfbbb57944c3289c514a323e4fca54.setIcon(icon_33ad6b7b58540eb06ad1a1438dce7215);\n",
       "        \n",
       "    \n",
       "        var popup_3ff5ccff05c68d23a01d63e9ebd25333 = L.popup({\n",
       "  &quot;maxWidth&quot;: &quot;100%&quot;,\n",
       "});\n",
       "\n",
       "        \n",
       "            \n",
       "                var html_941b95f66a0321a46cccac8858d54386 = $(`&lt;div id=&quot;html_941b95f66a0321a46cccac8858d54386&quot; style=&quot;width: 100.0%; height: 100.0%;&quot;&gt;(&quot;&lt;b style=&#x27;font-size: 18px; &#x27;&gt;700º&lt;/b&gt;&lt;br&gt;Direccion: avenida 41 esquina 86&quot;, &quot;Especialidades: [&#x27;Comida Mixta&#x27;]&quot;)&lt;/div&gt;`)[0];\n",
       "                popup_3ff5ccff05c68d23a01d63e9ebd25333.setContent(html_941b95f66a0321a46cccac8858d54386);\n",
       "            \n",
       "        \n",
       "\n",
       "        marker_2abfbbb57944c3289c514a323e4fca54.bindPopup(popup_3ff5ccff05c68d23a01d63e9ebd25333)\n",
       "        ;\n",
       "\n",
       "        \n",
       "    \n",
       "    \n",
       "            var marker_1a9f9ea38e81751ffb28e3493027ab0f = L.marker(\n",
       "                [23.05774000743355, -82.38292623217035],\n",
       "                {\n",
       "}\n",
       "            ).addTo(map_c1bd0692b3c890e2cab86875cb676aa0);\n",
       "        \n",
       "    \n",
       "            var icon_7f83ccd3e56e59ce416e1176858060bd = L.AwesomeMarkers.icon(\n",
       "                {\n",
       "  &quot;markerColor&quot;: &quot;red&quot;,\n",
       "  &quot;iconColor&quot;: &quot;white&quot;,\n",
       "  &quot;icon&quot;: &quot;cutlery&quot;,\n",
       "  &quot;prefix&quot;: &quot;fa&quot;,\n",
       "  &quot;extraClasses&quot;: &quot;fa-rotate-0&quot;,\n",
       "}\n",
       "            );\n",
       "            marker_1a9f9ea38e81751ffb28e3493027ab0f.setIcon(icon_7f83ccd3e56e59ce416e1176858060bd);\n",
       "        \n",
       "    \n",
       "        var popup_64e95113eeec609cd97596069c5c05ba = L.popup({\n",
       "  &quot;maxWidth&quot;: &quot;100%&quot;,\n",
       "});\n",
       "\n",
       "        \n",
       "            \n",
       "                var html_52457d01dce7656c4be5967b857ec7a4 = $(`&lt;div id=&quot;html_52457d01dce7656c4be5967b857ec7a4&quot; style=&quot;width: 100.0%; height: 100.0%;&quot;&gt;(&quot;&lt;b style=&#x27;font-size: 18px; &#x27;&gt;Abuelo D&#x27;Oro&lt;/b&gt;&lt;br&gt;Direccion: Calzada Aldabo % 12 y 13, Aldabo&quot;, &quot;Especialidades: [&#x27;Cubana&#x27;, &#x27;Internacional&#x27;, &#x27;Italiana&#x27;]&quot;)&lt;/div&gt;`)[0];\n",
       "                popup_64e95113eeec609cd97596069c5c05ba.setContent(html_52457d01dce7656c4be5967b857ec7a4);\n",
       "            \n",
       "        \n",
       "\n",
       "        marker_1a9f9ea38e81751ffb28e3493027ab0f.bindPopup(popup_64e95113eeec609cd97596069c5c05ba)\n",
       "        ;\n",
       "\n",
       "        \n",
       "    \n",
       "    \n",
       "            var marker_419afb827f409a1f0fa95d1d50910f80 = L.marker(\n",
       "                [23.161955819683246, -82.29436375935097],\n",
       "                {\n",
       "}\n",
       "            ).addTo(map_c1bd0692b3c890e2cab86875cb676aa0);\n",
       "        \n",
       "    \n",
       "            var icon_d6708254ca67720b59f68c026b828ccd = L.AwesomeMarkers.icon(\n",
       "                {\n",
       "  &quot;markerColor&quot;: &quot;red&quot;,\n",
       "  &quot;iconColor&quot;: &quot;white&quot;,\n",
       "  &quot;icon&quot;: &quot;cutlery&quot;,\n",
       "  &quot;prefix&quot;: &quot;fa&quot;,\n",
       "  &quot;extraClasses&quot;: &quot;fa-rotate-0&quot;,\n",
       "}\n",
       "            );\n",
       "            marker_419afb827f409a1f0fa95d1d50910f80.setIcon(icon_d6708254ca67720b59f68c026b828ccd);\n",
       "        \n",
       "    \n",
       "        var popup_d0a50f1bb30bc25a1c409d84e6b14b46 = L.popup({\n",
       "  &quot;maxWidth&quot;: &quot;100%&quot;,\n",
       "});\n",
       "\n",
       "        \n",
       "            \n",
       "                var html_dd92db00762847b4f65c208182dcf1f2 = $(`&lt;div id=&quot;html_dd92db00762847b4f65c208182dcf1f2&quot; style=&quot;width: 100.0%; height: 100.0%;&quot;&gt;(&quot;&lt;b style=&#x27;font-size: 18px; &#x27;&gt;Aires de Cojimar&lt;/b&gt;&lt;br&gt;Direccion: Pezuela #3e05 entre RUA y Espartero, Cojimar&quot;, &quot;Especialidades: [&#x27;Comida mixta&#x27;]&quot;)&lt;/div&gt;`)[0];\n",
       "                popup_d0a50f1bb30bc25a1c409d84e6b14b46.setContent(html_dd92db00762847b4f65c208182dcf1f2);\n",
       "            \n",
       "        \n",
       "\n",
       "        marker_419afb827f409a1f0fa95d1d50910f80.bindPopup(popup_d0a50f1bb30bc25a1c409d84e6b14b46)\n",
       "        ;\n",
       "\n",
       "        \n",
       "    \n",
       "    \n",
       "            var marker_e8f98a3f54527f8dc39beca042ec9f58 = L.marker(\n",
       "                [23.164158289847958, -82.3080389633564],\n",
       "                {\n",
       "}\n",
       "            ).addTo(map_c1bd0692b3c890e2cab86875cb676aa0);\n",
       "        \n",
       "    \n",
       "            var icon_9ec68cf7ad43b5f307c7501bb639a9ce = L.AwesomeMarkers.icon(\n",
       "                {\n",
       "  &quot;markerColor&quot;: &quot;red&quot;,\n",
       "  &quot;iconColor&quot;: &quot;white&quot;,\n",
       "  &quot;icon&quot;: &quot;cutlery&quot;,\n",
       "  &quot;prefix&quot;: &quot;fa&quot;,\n",
       "  &quot;extraClasses&quot;: &quot;fa-rotate-0&quot;,\n",
       "}\n",
       "            );\n",
       "            marker_e8f98a3f54527f8dc39beca042ec9f58.setIcon(icon_9ec68cf7ad43b5f307c7501bb639a9ce);\n",
       "        \n",
       "    \n",
       "        var popup_29142bb383e6cdb843cda7b9a1ae944c = L.popup({\n",
       "  &quot;maxWidth&quot;: &quot;100%&quot;,\n",
       "});\n",
       "\n",
       "        \n",
       "            \n",
       "                var html_c36dd03307c87cce1eb1bd58a24370e3 = $(`&lt;div id=&quot;html_c36dd03307c87cce1eb1bd58a24370e3&quot; style=&quot;width: 100.0%; height: 100.0%;&quot;&gt;(&quot;&lt;b style=&#x27;font-size: 18px; &#x27;&gt;Allegro&lt;/b&gt;&lt;br&gt;Direccion: Paseo de la Villa, Villa Panamericana&quot;, &quot;Especialidades: [&#x27;Comida italiana&#x27;]&quot;)&lt;/div&gt;`)[0];\n",
       "                popup_29142bb383e6cdb843cda7b9a1ae944c.setContent(html_c36dd03307c87cce1eb1bd58a24370e3);\n",
       "            \n",
       "        \n",
       "\n",
       "        marker_e8f98a3f54527f8dc39beca042ec9f58.bindPopup(popup_29142bb383e6cdb843cda7b9a1ae944c)\n",
       "        ;\n",
       "\n",
       "        \n",
       "    \n",
       "    \n",
       "            var marker_377455f46fb32b21f989c91926196437 = L.marker(\n",
       "                [23.155233076567885, -82.27082914585701],\n",
       "                {\n",
       "}\n",
       "            ).addTo(map_c1bd0692b3c890e2cab86875cb676aa0);\n",
       "        \n",
       "    \n",
       "            var icon_0b98372332d459a804f6bb7eb9952924 = L.AwesomeMarkers.icon(\n",
       "                {\n",
       "  &quot;markerColor&quot;: &quot;red&quot;,\n",
       "  &quot;iconColor&quot;: &quot;white&quot;,\n",
       "  &quot;icon&quot;: &quot;cutlery&quot;,\n",
       "  &quot;prefix&quot;: &quot;fa&quot;,\n",
       "  &quot;extraClasses&quot;: &quot;fa-rotate-0&quot;,\n",
       "}\n",
       "            );\n",
       "            marker_377455f46fb32b21f989c91926196437.setIcon(icon_0b98372332d459a804f6bb7eb9952924);\n",
       "        \n",
       "    \n",
       "        var popup_8a92b90fbce97a00a1427fd43b50e83d = L.popup({\n",
       "  &quot;maxWidth&quot;: &quot;100%&quot;,\n",
       "});\n",
       "\n",
       "        \n",
       "            \n",
       "                var html_9b719f71f68eb7b9c7dab907c633b5c8 = $(`&lt;div id=&quot;html_9b719f71f68eb7b9c7dab907c633b5c8&quot; style=&quot;width: 100.0%; height: 100.0%;&quot;&gt;(&quot;&lt;b style=&#x27;font-size: 18px; &#x27;&gt;Al Campestre&lt;/b&gt;&lt;br&gt;Direccion: El Intermitente, Via  Blanca, Alamar&quot;, &quot;Especialidades: [&#x27;Comida mixta&#x27;]&quot;)&lt;/div&gt;`)[0];\n",
       "                popup_8a92b90fbce97a00a1427fd43b50e83d.setContent(html_9b719f71f68eb7b9c7dab907c633b5c8);\n",
       "            \n",
       "        \n",
       "\n",
       "        marker_377455f46fb32b21f989c91926196437.bindPopup(popup_8a92b90fbce97a00a1427fd43b50e83d)\n",
       "        ;\n",
       "\n",
       "        \n",
       "    \n",
       "    \n",
       "            var marker_9375df9c55a6d9feb8c10aaeba3656d6 = L.marker(\n",
       "                [23.098029367090493, -82.26549627264866],\n",
       "                {\n",
       "}\n",
       "            ).addTo(map_c1bd0692b3c890e2cab86875cb676aa0);\n",
       "        \n",
       "    \n",
       "            var icon_20b3ec120b351cedbe6d4449d89e50e3 = L.AwesomeMarkers.icon(\n",
       "                {\n",
       "  &quot;markerColor&quot;: &quot;red&quot;,\n",
       "  &quot;iconColor&quot;: &quot;white&quot;,\n",
       "  &quot;icon&quot;: &quot;cutlery&quot;,\n",
       "  &quot;prefix&quot;: &quot;fa&quot;,\n",
       "  &quot;extraClasses&quot;: &quot;fa-rotate-0&quot;,\n",
       "}\n",
       "            );\n",
       "            marker_9375df9c55a6d9feb8c10aaeba3656d6.setIcon(icon_20b3ec120b351cedbe6d4449d89e50e3);\n",
       "        \n",
       "    \n",
       "        var popup_deb0c09cfde7ba0ab7f7d8a425328192 = L.popup({\n",
       "  &quot;maxWidth&quot;: &quot;100%&quot;,\n",
       "});\n",
       "\n",
       "        \n",
       "            \n",
       "                var html_b6b7ff4b8e5a59e51c60748d748e8a98 = $(`&lt;div id=&quot;html_b6b7ff4b8e5a59e51c60748d748e8a98&quot; style=&quot;width: 100.0%; height: 100.0%;&quot;&gt;(&quot;&lt;b style=&#x27;font-size: 18px; &#x27;&gt;Anillo Habanero&lt;/b&gt;&lt;br&gt;Direccion: Primer Anillo de La Habana&quot;, &quot;Especialidades: [&#x27;criolla&#x27;, &#x27;pizzas&#x27;, &#x27;cócteles&#x27;, &#x27;pastas&#x27;]&quot;)&lt;/div&gt;`)[0];\n",
       "                popup_deb0c09cfde7ba0ab7f7d8a425328192.setContent(html_b6b7ff4b8e5a59e51c60748d748e8a98);\n",
       "            \n",
       "        \n",
       "\n",
       "        marker_9375df9c55a6d9feb8c10aaeba3656d6.bindPopup(popup_deb0c09cfde7ba0ab7f7d8a425328192)\n",
       "        ;\n",
       "\n",
       "        \n",
       "    \n",
       "    \n",
       "            var marker_671eb61a34fa6fe6cdf4cba6e443613e = L.marker(\n",
       "                [23.141692369054233, -82.35521570333256],\n",
       "                {\n",
       "}\n",
       "            ).addTo(map_c1bd0692b3c890e2cab86875cb676aa0);\n",
       "        \n",
       "    \n",
       "            var icon_ad640721a3aaf800052871041fd830b2 = L.AwesomeMarkers.icon(\n",
       "                {\n",
       "  &quot;markerColor&quot;: &quot;red&quot;,\n",
       "  &quot;iconColor&quot;: &quot;white&quot;,\n",
       "  &quot;icon&quot;: &quot;cutlery&quot;,\n",
       "  &quot;prefix&quot;: &quot;fa&quot;,\n",
       "  &quot;extraClasses&quot;: &quot;fa-rotate-0&quot;,\n",
       "}\n",
       "            );\n",
       "            marker_671eb61a34fa6fe6cdf4cba6e443613e.setIcon(icon_ad640721a3aaf800052871041fd830b2);\n",
       "        \n",
       "    \n",
       "        var popup_fefdaf92cd7a2cc5d2bb9e6dbcb46bfb = L.popup({\n",
       "  &quot;maxWidth&quot;: &quot;100%&quot;,\n",
       "});\n",
       "\n",
       "        \n",
       "            \n",
       "                var html_b4544b6989b9d0fa5a93ce6261b3c717 = $(`&lt;div id=&quot;html_b4544b6989b9d0fa5a93ce6261b3c717&quot; style=&quot;width: 100.0%; height: 100.0%;&quot;&gt;(&quot;&lt;b style=&#x27;font-size: 18px; &#x27;&gt;Antojos&lt;/b&gt;&lt;br&gt;Direccion: Callejón Espada entre Cuarteles y Chacon&quot;, &quot;Especialidades: [&#x27;Caribeña, Latina, Cubana, Centroamericana&#x27;]&quot;)&lt;/div&gt;`)[0];\n",
       "                popup_fefdaf92cd7a2cc5d2bb9e6dbcb46bfb.setContent(html_b4544b6989b9d0fa5a93ce6261b3c717);\n",
       "            \n",
       "        \n",
       "\n",
       "        marker_671eb61a34fa6fe6cdf4cba6e443613e.bindPopup(popup_fefdaf92cd7a2cc5d2bb9e6dbcb46bfb)\n",
       "        ;\n",
       "\n",
       "        \n",
       "    \n",
       "    \n",
       "            var marker_bee1adbaaf4405c5ab7e47812e0d85ff = L.marker(\n",
       "                [23.128711947642273, -82.39676637467788],\n",
       "                {\n",
       "}\n",
       "            ).addTo(map_c1bd0692b3c890e2cab86875cb676aa0);\n",
       "        \n",
       "    \n",
       "            var icon_6613f2344155e675d6e6e44b27099995 = L.AwesomeMarkers.icon(\n",
       "                {\n",
       "  &quot;markerColor&quot;: &quot;red&quot;,\n",
       "  &quot;iconColor&quot;: &quot;white&quot;,\n",
       "  &quot;icon&quot;: &quot;cutlery&quot;,\n",
       "  &quot;prefix&quot;: &quot;fa&quot;,\n",
       "  &quot;extraClasses&quot;: &quot;fa-rotate-0&quot;,\n",
       "}\n",
       "            );\n",
       "            marker_bee1adbaaf4405c5ab7e47812e0d85ff.setIcon(icon_6613f2344155e675d6e6e44b27099995);\n",
       "        \n",
       "    \n",
       "        var popup_9b37220ac3c1bf3262af9c88a259b317 = L.popup({\n",
       "  &quot;maxWidth&quot;: &quot;100%&quot;,\n",
       "});\n",
       "\n",
       "        \n",
       "            \n",
       "                var html_2ba6ce7271d7a97bf5d33b955afb6a86 = $(`&lt;div id=&quot;html_2ba6ce7271d7a97bf5d33b955afb6a86&quot; style=&quot;width: 100.0%; height: 100.0%;&quot;&gt;(&quot;&lt;b style=&#x27;font-size: 18px; &#x27;&gt;Asia Cuba&lt;/b&gt;&lt;br&gt;Direccion:  Calle 6 ##562 entre 23 y 25, Vedado&quot;, &quot;Especialidades: [&#x27;Comida asiática&#x27;]&quot;)&lt;/div&gt;`)[0];\n",
       "                popup_9b37220ac3c1bf3262af9c88a259b317.setContent(html_2ba6ce7271d7a97bf5d33b955afb6a86);\n",
       "            \n",
       "        \n",
       "\n",
       "        marker_bee1adbaaf4405c5ab7e47812e0d85ff.bindPopup(popup_9b37220ac3c1bf3262af9c88a259b317)\n",
       "        ;\n",
       "\n",
       "        \n",
       "    \n",
       "    \n",
       "            var marker_292de91bd764bac1290cd19e3a352f50 = L.marker(\n",
       "                [23.075224743679176, -82.35820577444514],\n",
       "                {\n",
       "}\n",
       "            ).addTo(map_c1bd0692b3c890e2cab86875cb676aa0);\n",
       "        \n",
       "    \n",
       "            var icon_905138def71f928663e1aade59e17883 = L.AwesomeMarkers.icon(\n",
       "                {\n",
       "  &quot;markerColor&quot;: &quot;red&quot;,\n",
       "  &quot;iconColor&quot;: &quot;white&quot;,\n",
       "  &quot;icon&quot;: &quot;cutlery&quot;,\n",
       "  &quot;prefix&quot;: &quot;fa&quot;,\n",
       "  &quot;extraClasses&quot;: &quot;fa-rotate-0&quot;,\n",
       "}\n",
       "            );\n",
       "            marker_292de91bd764bac1290cd19e3a352f50.setIcon(icon_905138def71f928663e1aade59e17883);\n",
       "        \n",
       "    \n",
       "        var popup_0274d38d2439f53c9ea09711f4db4f41 = L.popup({\n",
       "  &quot;maxWidth&quot;: &quot;100%&quot;,\n",
       "});\n",
       "\n",
       "        \n",
       "            \n",
       "                var html_0fcd65b897f1562458d4311c5687901b = $(`&lt;div id=&quot;html_0fcd65b897f1562458d4311c5687901b&quot; style=&quot;width: 100.0%; height: 100.0%;&quot;&gt;(&quot;&lt;b style=&#x27;font-size: 18px; &#x27;&gt;Atlanta&lt;/b&gt;&lt;br&gt;Direccion: Atlanta #9, entre Calzada de Porvenir y Calzada de 10 de octubre, La Palma&quot;, &quot;Especialidades: [&#x27;cubana&#x27;, &#x27;variada&#x27;]&quot;)&lt;/div&gt;`)[0];\n",
       "                popup_0274d38d2439f53c9ea09711f4db4f41.setContent(html_0fcd65b897f1562458d4311c5687901b);\n",
       "            \n",
       "        \n",
       "\n",
       "        marker_292de91bd764bac1290cd19e3a352f50.bindPopup(popup_0274d38d2439f53c9ea09711f4db4f41)\n",
       "        ;\n",
       "\n",
       "        \n",
       "    \n",
       "    \n",
       "            var marker_6dc69e85a0136c82a1a69c3d2d9ab6f4 = L.marker(\n",
       "                [23.088464573775177, -82.36604223216956],\n",
       "                {\n",
       "}\n",
       "            ).addTo(map_c1bd0692b3c890e2cab86875cb676aa0);\n",
       "        \n",
       "    \n",
       "            var icon_d1e9e154c2c782ca0d5886ff9ade62eb = L.AwesomeMarkers.icon(\n",
       "                {\n",
       "  &quot;markerColor&quot;: &quot;red&quot;,\n",
       "  &quot;iconColor&quot;: &quot;white&quot;,\n",
       "  &quot;icon&quot;: &quot;cutlery&quot;,\n",
       "  &quot;prefix&quot;: &quot;fa&quot;,\n",
       "  &quot;extraClasses&quot;: &quot;fa-rotate-0&quot;,\n",
       "}\n",
       "            );\n",
       "            marker_6dc69e85a0136c82a1a69c3d2d9ab6f4.setIcon(icon_d1e9e154c2c782ca0d5886ff9ade62eb);\n",
       "        \n",
       "    \n",
       "        var popup_bbb876bd2098261723e8b4d46903ea9e = L.popup({\n",
       "  &quot;maxWidth&quot;: &quot;100%&quot;,\n",
       "});\n",
       "\n",
       "        \n",
       "            \n",
       "                var html_80a28ad3d3caf9206b3054cb2b31c800 = $(`&lt;div id=&quot;html_80a28ad3d3caf9206b3054cb2b31c800&quot; style=&quot;width: 100.0%; height: 100.0%;&quot;&gt;(&quot;&lt;b style=&#x27;font-size: 18px; &#x27;&gt;Atraccion&lt;/b&gt;&lt;br&gt;Direccion: Calzada de Diez de Octubre % Acosta y O&#x27;Farril&quot;, &quot;Especialidades: [&#x27;internacional&#x27;, &#x27;cubana&#x27;]&quot;)&lt;/div&gt;`)[0];\n",
       "                popup_bbb876bd2098261723e8b4d46903ea9e.setContent(html_80a28ad3d3caf9206b3054cb2b31c800);\n",
       "            \n",
       "        \n",
       "\n",
       "        marker_6dc69e85a0136c82a1a69c3d2d9ab6f4.bindPopup(popup_bbb876bd2098261723e8b4d46903ea9e)\n",
       "        ;\n",
       "\n",
       "        \n",
       "    \n",
       "    \n",
       "            var marker_515324be8c0bd646e3f2e3a382217353 = L.marker(\n",
       "                [23.10839233920283, -82.36557643771737],\n",
       "                {\n",
       "}\n",
       "            ).addTo(map_c1bd0692b3c890e2cab86875cb676aa0);\n",
       "        \n",
       "    \n",
       "            var icon_c4a811644f8376e05210f761e264fa87 = L.AwesomeMarkers.icon(\n",
       "                {\n",
       "  &quot;markerColor&quot;: &quot;red&quot;,\n",
       "  &quot;iconColor&quot;: &quot;white&quot;,\n",
       "  &quot;icon&quot;: &quot;cutlery&quot;,\n",
       "  &quot;prefix&quot;: &quot;fa&quot;,\n",
       "  &quot;extraClasses&quot;: &quot;fa-rotate-0&quot;,\n",
       "}\n",
       "            );\n",
       "            marker_515324be8c0bd646e3f2e3a382217353.setIcon(icon_c4a811644f8376e05210f761e264fa87);\n",
       "        \n",
       "    \n",
       "        var popup_154fb54d3366e8d6ee3c215eeedb6d1c = L.popup({\n",
       "  &quot;maxWidth&quot;: &quot;100%&quot;,\n",
       "});\n",
       "\n",
       "        \n",
       "            \n",
       "                var html_43b69d7dfc29f617174d2cb68d53dee0 = $(`&lt;div id=&quot;html_43b69d7dfc29f617174d2cb68d53dee0&quot; style=&quot;width: 100.0%; height: 100.0%;&quot;&gt;(&quot;&lt;b style=&#x27;font-size: 18px; &#x27;&gt;Bar Pacto Secreto&lt;/b&gt;&lt;br&gt;Direccion: Calzada de 10 de Octubre #417 entre Calzada de Luyano y San Nicolas&quot;, &quot;Especialidades: [&#x27;cubana&#x27;, &#x27;comida rapida&#x27;]&quot;)&lt;/div&gt;`)[0];\n",
       "                popup_154fb54d3366e8d6ee3c215eeedb6d1c.setContent(html_43b69d7dfc29f617174d2cb68d53dee0);\n",
       "            \n",
       "        \n",
       "\n",
       "        marker_515324be8c0bd646e3f2e3a382217353.bindPopup(popup_154fb54d3366e8d6ee3c215eeedb6d1c)\n",
       "        ;\n",
       "\n",
       "        \n",
       "    \n",
       "    \n",
       "            var marker_36e97d3f283844dce2835b0443515d93 = L.marker(\n",
       "                [23.09621726454522, -82.37460170946824],\n",
       "                {\n",
       "}\n",
       "            ).addTo(map_c1bd0692b3c890e2cab86875cb676aa0);\n",
       "        \n",
       "    \n",
       "            var icon_2ae2db7d3c4ab0f4df8d6ec0e46cc0e4 = L.AwesomeMarkers.icon(\n",
       "                {\n",
       "  &quot;markerColor&quot;: &quot;red&quot;,\n",
       "  &quot;iconColor&quot;: &quot;white&quot;,\n",
       "  &quot;icon&quot;: &quot;cutlery&quot;,\n",
       "  &quot;prefix&quot;: &quot;fa&quot;,\n",
       "  &quot;extraClasses&quot;: &quot;fa-rotate-0&quot;,\n",
       "}\n",
       "            );\n",
       "            marker_36e97d3f283844dce2835b0443515d93.setIcon(icon_2ae2db7d3c4ab0f4df8d6ec0e46cc0e4);\n",
       "        \n",
       "    \n",
       "        var popup_dd1c16be0e170fac336e4017b180d273 = L.popup({\n",
       "  &quot;maxWidth&quot;: &quot;100%&quot;,\n",
       "});\n",
       "\n",
       "        \n",
       "            \n",
       "                var html_5d7263537d7bd1f136860c3d63877e67 = $(`&lt;div id=&quot;html_5d7263537d7bd1f136860c3d63877e67&quot; style=&quot;width: 100.0%; height: 100.0%;&quot;&gt;(&quot;&lt;b style=&#x27;font-size: 18px; &#x27;&gt;Bar Secret Garden&lt;/b&gt;&lt;br&gt;Direccion: Boutique VOYA Habana, #255, Calle Juan Delgado entre Santa Catalina y Milagros, Santos Suarez&quot;, &quot;Especialidades: [&#x27;Cocina mixta&#x27;]&quot;)&lt;/div&gt;`)[0];\n",
       "                popup_dd1c16be0e170fac336e4017b180d273.setContent(html_5d7263537d7bd1f136860c3d63877e67);\n",
       "            \n",
       "        \n",
       "\n",
       "        marker_36e97d3f283844dce2835b0443515d93.bindPopup(popup_dd1c16be0e170fac336e4017b180d273)\n",
       "        ;\n",
       "\n",
       "        \n",
       "    \n",
       "    \n",
       "            var marker_8c7eb5e51273e48b93d5ac32726f970c = L.marker(\n",
       "                [23.08127313197817, -82.32409134565678],\n",
       "                {\n",
       "}\n",
       "            ).addTo(map_c1bd0692b3c890e2cab86875cb676aa0);\n",
       "        \n",
       "    \n",
       "            var icon_bc2224a2fff25fd8f44ca468322b3f6b = L.AwesomeMarkers.icon(\n",
       "                {\n",
       "  &quot;markerColor&quot;: &quot;red&quot;,\n",
       "  &quot;iconColor&quot;: &quot;white&quot;,\n",
       "  &quot;icon&quot;: &quot;cutlery&quot;,\n",
       "  &quot;prefix&quot;: &quot;fa&quot;,\n",
       "  &quot;extraClasses&quot;: &quot;fa-rotate-0&quot;,\n",
       "}\n",
       "            );\n",
       "            marker_8c7eb5e51273e48b93d5ac32726f970c.setIcon(icon_bc2224a2fff25fd8f44ca468322b3f6b);\n",
       "        \n",
       "    \n",
       "        var popup_6133148de9af6f6390aa7378021b22f8 = L.popup({\n",
       "  &quot;maxWidth&quot;: &quot;100%&quot;,\n",
       "});\n",
       "\n",
       "        \n",
       "            \n",
       "                var html_de0ccc1d2c8138065840eb3188f607de = $(`&lt;div id=&quot;html_de0ccc1d2c8138065840eb3188f607de&quot; style=&quot;width: 100.0%; height: 100.0%;&quot;&gt;(&quot;&lt;b style=&#x27;font-size: 18px; &#x27;&gt;Bar Colina&lt;/b&gt;&lt;br&gt;Direccion: esquina b y calzada de guines reparto merceditas&quot;, &quot;Especialidades: [&#x27;italiana&#x27;]&quot;)&lt;/div&gt;`)[0];\n",
       "                popup_6133148de9af6f6390aa7378021b22f8.setContent(html_de0ccc1d2c8138065840eb3188f607de);\n",
       "            \n",
       "        \n",
       "\n",
       "        marker_8c7eb5e51273e48b93d5ac32726f970c.bindPopup(popup_6133148de9af6f6390aa7378021b22f8)\n",
       "        ;\n",
       "\n",
       "        \n",
       "    \n",
       "    \n",
       "            var marker_6130f8fbe8f765d98126d944338b9c99 = L.marker(\n",
       "                [23.140052255362068, -82.37802867469266],\n",
       "                {\n",
       "}\n",
       "            ).addTo(map_c1bd0692b3c890e2cab86875cb676aa0);\n",
       "        \n",
       "    \n",
       "            var icon_d753effa4721ed0ec0b9dc17178f3e01 = L.AwesomeMarkers.icon(\n",
       "                {\n",
       "  &quot;markerColor&quot;: &quot;red&quot;,\n",
       "  &quot;iconColor&quot;: &quot;white&quot;,\n",
       "  &quot;icon&quot;: &quot;cutlery&quot;,\n",
       "  &quot;prefix&quot;: &quot;fa&quot;,\n",
       "  &quot;extraClasses&quot;: &quot;fa-rotate-0&quot;,\n",
       "}\n",
       "            );\n",
       "            marker_6130f8fbe8f765d98126d944338b9c99.setIcon(icon_d753effa4721ed0ec0b9dc17178f3e01);\n",
       "        \n",
       "    \n",
       "        var popup_4b2bff7e1294b16fe7d98f3308ec5758 = L.popup({\n",
       "  &quot;maxWidth&quot;: &quot;100%&quot;,\n",
       "});\n",
       "\n",
       "        \n",
       "            \n",
       "                var html_e3b9fe6b44128853ad378df5b07a5092 = $(`&lt;div id=&quot;html_e3b9fe6b44128853ad378df5b07a5092&quot; style=&quot;width: 100.0%; height: 100.0%;&quot;&gt;(&quot;&lt;b style=&#x27;font-size: 18px; &#x27;&gt;Macarena&lt;/b&gt;&lt;br&gt;Direccion: Calle Vapor No.168 altos entre Espada y San Fransisco&quot;, &quot;Especialidades: [&#x27;Entrantes&#x27;, &#x27;Cockteles&#x27;]&quot;)&lt;/div&gt;`)[0];\n",
       "                popup_4b2bff7e1294b16fe7d98f3308ec5758.setContent(html_e3b9fe6b44128853ad378df5b07a5092);\n",
       "            \n",
       "        \n",
       "\n",
       "        marker_6130f8fbe8f765d98126d944338b9c99.bindPopup(popup_4b2bff7e1294b16fe7d98f3308ec5758)\n",
       "        ;\n",
       "\n",
       "        \n",
       "    \n",
       "    \n",
       "            var marker_ba6d8115fcb5727e4943ec64b0d450ce = L.marker(\n",
       "                [23.094616836132214, -82.4191641263218],\n",
       "                {\n",
       "}\n",
       "            ).addTo(map_c1bd0692b3c890e2cab86875cb676aa0);\n",
       "        \n",
       "    \n",
       "            var icon_4139eb0a003074b9bcec3d3ecaa34543 = L.AwesomeMarkers.icon(\n",
       "                {\n",
       "  &quot;markerColor&quot;: &quot;red&quot;,\n",
       "  &quot;iconColor&quot;: &quot;white&quot;,\n",
       "  &quot;icon&quot;: &quot;cutlery&quot;,\n",
       "  &quot;prefix&quot;: &quot;fa&quot;,\n",
       "  &quot;extraClasses&quot;: &quot;fa-rotate-0&quot;,\n",
       "}\n",
       "            );\n",
       "            marker_ba6d8115fcb5727e4943ec64b0d450ce.setIcon(icon_4139eb0a003074b9bcec3d3ecaa34543);\n",
       "        \n",
       "    \n",
       "        var popup_b7ff8396dff0b14604a6d5b59abd58d5 = L.popup({\n",
       "  &quot;maxWidth&quot;: &quot;100%&quot;,\n",
       "});\n",
       "\n",
       "        \n",
       "            \n",
       "                var html_0d127ee4dab4cec7e712452444c61a97 = $(`&lt;div id=&quot;html_0d127ee4dab4cec7e712452444c61a97&quot; style=&quot;width: 100.0%; height: 100.0%;&quot;&gt;(&quot;&lt;b style=&#x27;font-size: 18px; &#x27;&gt;Bar Tropicana&lt;/b&gt;&lt;br&gt;Direccion: 72A,Avenida 41&quot;, &#x27;Especialidades: [None]&#x27;)&lt;/div&gt;`)[0];\n",
       "                popup_b7ff8396dff0b14604a6d5b59abd58d5.setContent(html_0d127ee4dab4cec7e712452444c61a97);\n",
       "            \n",
       "        \n",
       "\n",
       "        marker_ba6d8115fcb5727e4943ec64b0d450ce.bindPopup(popup_b7ff8396dff0b14604a6d5b59abd58d5)\n",
       "        ;\n",
       "\n",
       "        \n",
       "    \n",
       "    \n",
       "            var marker_3744eb999c39dcedf31645ae1a0bed24 = L.marker(\n",
       "                [23.165980531256245, -82.28267095911482],\n",
       "                {\n",
       "}\n",
       "            ).addTo(map_c1bd0692b3c890e2cab86875cb676aa0);\n",
       "        \n",
       "    \n",
       "            var icon_ee8ece6b653f2876201c1a7a1778d2f6 = L.AwesomeMarkers.icon(\n",
       "                {\n",
       "  &quot;markerColor&quot;: &quot;red&quot;,\n",
       "  &quot;iconColor&quot;: &quot;white&quot;,\n",
       "  &quot;icon&quot;: &quot;cutlery&quot;,\n",
       "  &quot;prefix&quot;: &quot;fa&quot;,\n",
       "  &quot;extraClasses&quot;: &quot;fa-rotate-0&quot;,\n",
       "}\n",
       "            );\n",
       "            marker_3744eb999c39dcedf31645ae1a0bed24.setIcon(icon_ee8ece6b653f2876201c1a7a1778d2f6);\n",
       "        \n",
       "    \n",
       "        var popup_94485cc88dbd4291077a236980407bc6 = L.popup({\n",
       "  &quot;maxWidth&quot;: &quot;100%&quot;,\n",
       "});\n",
       "\n",
       "        \n",
       "            \n",
       "                var html_6c6af96d2e6b43b65a32ea155baa2b74 = $(`&lt;div id=&quot;html_6c6af96d2e6b43b65a32ea155baa2b74&quot; style=&quot;width: 100.0%; height: 100.0%;&quot;&gt;(&quot;&lt;b style=&#x27;font-size: 18px; &#x27;&gt;Beer para creer&lt;/b&gt;&lt;br&gt;Direccion: Centro comercial Falcon, Alamar&quot;, &quot;Especialidades: [&#x27;Comida mixta&#x27;]&quot;)&lt;/div&gt;`)[0];\n",
       "                popup_94485cc88dbd4291077a236980407bc6.setContent(html_6c6af96d2e6b43b65a32ea155baa2b74);\n",
       "            \n",
       "        \n",
       "\n",
       "        marker_3744eb999c39dcedf31645ae1a0bed24.bindPopup(popup_94485cc88dbd4291077a236980407bc6)\n",
       "        ;\n",
       "\n",
       "        \n",
       "    \n",
       "    \n",
       "            var marker_89662b3458ad31155aa7362e3255a6ed = L.marker(\n",
       "                [23.14134074581821, -82.40118351396043],\n",
       "                {\n",
       "}\n",
       "            ).addTo(map_c1bd0692b3c890e2cab86875cb676aa0);\n",
       "        \n",
       "    \n",
       "            var icon_dae63c98a51717e5872ba7d6face22ef = L.AwesomeMarkers.icon(\n",
       "                {\n",
       "  &quot;markerColor&quot;: &quot;red&quot;,\n",
       "  &quot;iconColor&quot;: &quot;white&quot;,\n",
       "  &quot;icon&quot;: &quot;cutlery&quot;,\n",
       "  &quot;prefix&quot;: &quot;fa&quot;,\n",
       "  &quot;extraClasses&quot;: &quot;fa-rotate-0&quot;,\n",
       "}\n",
       "            );\n",
       "            marker_89662b3458ad31155aa7362e3255a6ed.setIcon(icon_dae63c98a51717e5872ba7d6face22ef);\n",
       "        \n",
       "    \n",
       "        var popup_85b12151c43aa1664280be5cc2a8d62c = L.popup({\n",
       "  &quot;maxWidth&quot;: &quot;100%&quot;,\n",
       "});\n",
       "\n",
       "        \n",
       "            \n",
       "                var html_e824ecf32dd279b13866fcbf487dd39c = $(`&lt;div id=&quot;html_e824ecf32dd279b13866fcbf487dd39c&quot; style=&quot;width: 100.0%; height: 100.0%;&quot;&gt;(&quot;&lt;b style=&#x27;font-size: 18px; &#x27;&gt;Beirut&lt;/b&gt;&lt;br&gt;Direccion: Calle 1ra entre A y B, Vedado&quot;, &quot;Especialidades: [&#x27;Comida libanesa&#x27;, &#x27;de oriente medio&#x27;]&quot;)&lt;/div&gt;`)[0];\n",
       "                popup_85b12151c43aa1664280be5cc2a8d62c.setContent(html_e824ecf32dd279b13866fcbf487dd39c);\n",
       "            \n",
       "        \n",
       "\n",
       "        marker_89662b3458ad31155aa7362e3255a6ed.bindPopup(popup_85b12151c43aa1664280be5cc2a8d62c)\n",
       "        ;\n",
       "\n",
       "        \n",
       "    \n",
       "    \n",
       "            var marker_17f11e2b70c8ff09c380e1d575376f0f = L.marker(\n",
       "                [23.122358280018755, -82.40455260333313],\n",
       "                {\n",
       "}\n",
       "            ).addTo(map_c1bd0692b3c890e2cab86875cb676aa0);\n",
       "        \n",
       "    \n",
       "            var icon_59a412e588602c539bfe907079613049 = L.AwesomeMarkers.icon(\n",
       "                {\n",
       "  &quot;markerColor&quot;: &quot;red&quot;,\n",
       "  &quot;iconColor&quot;: &quot;white&quot;,\n",
       "  &quot;icon&quot;: &quot;cutlery&quot;,\n",
       "  &quot;prefix&quot;: &quot;fa&quot;,\n",
       "  &quot;extraClasses&quot;: &quot;fa-rotate-0&quot;,\n",
       "}\n",
       "            );\n",
       "            marker_17f11e2b70c8ff09c380e1d575376f0f.setIcon(icon_59a412e588602c539bfe907079613049);\n",
       "        \n",
       "    \n",
       "        var popup_c3a76bfd9bd8e089e7df00eb43ccc282 = L.popup({\n",
       "  &quot;maxWidth&quot;: &quot;100%&quot;,\n",
       "});\n",
       "\n",
       "        \n",
       "            \n",
       "                var html_26e07e4d9b2e425673391bd138f4f672 = $(`&lt;div id=&quot;html_26e07e4d9b2e425673391bd138f4f672&quot; style=&quot;width: 100.0%; height: 100.0%;&quot;&gt;(&quot;&lt;b style=&#x27;font-size: 18px; &#x27;&gt;Bodegon del Asado&lt;/b&gt;&lt;br&gt;Direccion: Calle 24, No 418, e / 23 y 25, Vedado&quot;, &quot;Especialidades: [&#x27;Comida cubana&#x27;, &#x27;criolla&#x27;, &#x27;italiana&#x27;]&quot;)&lt;/div&gt;`)[0];\n",
       "                popup_c3a76bfd9bd8e089e7df00eb43ccc282.setContent(html_26e07e4d9b2e425673391bd138f4f672);\n",
       "            \n",
       "        \n",
       "\n",
       "        marker_17f11e2b70c8ff09c380e1d575376f0f.bindPopup(popup_c3a76bfd9bd8e089e7df00eb43ccc282)\n",
       "        ;\n",
       "\n",
       "        \n",
       "    \n",
       "    \n",
       "            var marker_b7f36704dc6588dd72895e2538c3e273 = L.marker(\n",
       "                [23.13336490258953, -82.39873911512949],\n",
       "                {\n",
       "}\n",
       "            ).addTo(map_c1bd0692b3c890e2cab86875cb676aa0);\n",
       "        \n",
       "    \n",
       "            var icon_a78c972d5418fba736c7ed4cc4d08963 = L.AwesomeMarkers.icon(\n",
       "                {\n",
       "  &quot;markerColor&quot;: &quot;red&quot;,\n",
       "  &quot;iconColor&quot;: &quot;white&quot;,\n",
       "  &quot;icon&quot;: &quot;cutlery&quot;,\n",
       "  &quot;prefix&quot;: &quot;fa&quot;,\n",
       "  &quot;extraClasses&quot;: &quot;fa-rotate-0&quot;,\n",
       "}\n",
       "            );\n",
       "            marker_b7f36704dc6588dd72895e2538c3e273.setIcon(icon_a78c972d5418fba736c7ed4cc4d08963);\n",
       "        \n",
       "    \n",
       "        var popup_53987fd987233f058762745a0a1b1147 = L.popup({\n",
       "  &quot;maxWidth&quot;: &quot;100%&quot;,\n",
       "});\n",
       "\n",
       "        \n",
       "            \n",
       "                var html_5a9705c1e056119517f6c4a6fb68dfd3 = $(`&lt;div id=&quot;html_5a9705c1e056119517f6c4a6fb68dfd3&quot; style=&quot;width: 100.0%; height: 100.0%;&quot;&gt;(&quot;&lt;b style=&#x27;font-size: 18px; &#x27;&gt;Bohio Mercadito&lt;/b&gt;&lt;br&gt;Direccion: calle 19 entre 12 y 10, Vedado&quot;, &quot;Especialidades: [&#x27;Bar&#x27;, &#x27;Americana&#x27;]&quot;)&lt;/div&gt;`)[0];\n",
       "                popup_53987fd987233f058762745a0a1b1147.setContent(html_5a9705c1e056119517f6c4a6fb68dfd3);\n",
       "            \n",
       "        \n",
       "\n",
       "        marker_b7f36704dc6588dd72895e2538c3e273.bindPopup(popup_53987fd987233f058762745a0a1b1147)\n",
       "        ;\n",
       "\n",
       "        \n",
       "    \n",
       "    \n",
       "            var marker_2bc0d3e4dc431afd1952f3191e2f56e8 = L.marker(\n",
       "                [23.137509028109648, -82.35967851702206],\n",
       "                {\n",
       "}\n",
       "            ).addTo(map_c1bd0692b3c890e2cab86875cb676aa0);\n",
       "        \n",
       "    \n",
       "            var icon_3cf33bb5abbe0c67664aa8d5824760ee = L.AwesomeMarkers.icon(\n",
       "                {\n",
       "  &quot;markerColor&quot;: &quot;red&quot;,\n",
       "  &quot;iconColor&quot;: &quot;white&quot;,\n",
       "  &quot;icon&quot;: &quot;cutlery&quot;,\n",
       "  &quot;prefix&quot;: &quot;fa&quot;,\n",
       "  &quot;extraClasses&quot;: &quot;fa-rotate-0&quot;,\n",
       "}\n",
       "            );\n",
       "            marker_2bc0d3e4dc431afd1952f3191e2f56e8.setIcon(icon_3cf33bb5abbe0c67664aa8d5824760ee);\n",
       "        \n",
       "    \n",
       "        var popup_935f9c7b14a4c2b7bad6be4d28fc4f44 = L.popup({\n",
       "  &quot;maxWidth&quot;: &quot;100%&quot;,\n",
       "});\n",
       "\n",
       "        \n",
       "            \n",
       "                var html_383b8dfcab2dc40357c6291758fa27cc = $(`&lt;div id=&quot;html_383b8dfcab2dc40357c6291758fa27cc&quot; style=&quot;width: 100.0%; height: 100.0%;&quot;&gt;(&quot;&lt;b style=&#x27;font-size: 18px; &#x27;&gt;Bone Ma 62&lt;/b&gt;&lt;br&gt;Direccion: Bulevar de San Rafael entre Prado y Consulado&quot;, &quot;Especialidades: [&#x27;Comida Cubana&#x27;]&quot;)&lt;/div&gt;`)[0];\n",
       "                popup_935f9c7b14a4c2b7bad6be4d28fc4f44.setContent(html_383b8dfcab2dc40357c6291758fa27cc);\n",
       "            \n",
       "        \n",
       "\n",
       "        marker_2bc0d3e4dc431afd1952f3191e2f56e8.bindPopup(popup_935f9c7b14a4c2b7bad6be4d28fc4f44)\n",
       "        ;\n",
       "\n",
       "        \n",
       "    \n",
       "    \n",
       "            var marker_c853e1eb6efc961e6cfe75f0a7dcebd3 = L.marker(\n",
       "                [23.09615689834022, -82.37467472817552],\n",
       "                {\n",
       "}\n",
       "            ).addTo(map_c1bd0692b3c890e2cab86875cb676aa0);\n",
       "        \n",
       "    \n",
       "            var icon_4d897ac9e6999101ebc39465ca9e5002 = L.AwesomeMarkers.icon(\n",
       "                {\n",
       "  &quot;markerColor&quot;: &quot;red&quot;,\n",
       "  &quot;iconColor&quot;: &quot;white&quot;,\n",
       "  &quot;icon&quot;: &quot;cutlery&quot;,\n",
       "  &quot;prefix&quot;: &quot;fa&quot;,\n",
       "  &quot;extraClasses&quot;: &quot;fa-rotate-0&quot;,\n",
       "}\n",
       "            );\n",
       "            marker_c853e1eb6efc961e6cfe75f0a7dcebd3.setIcon(icon_4d897ac9e6999101ebc39465ca9e5002);\n",
       "        \n",
       "    \n",
       "        var popup_d8dd4b3f1f2aac6658c5defe9dd758c1 = L.popup({\n",
       "  &quot;maxWidth&quot;: &quot;100%&quot;,\n",
       "});\n",
       "\n",
       "        \n",
       "            \n",
       "                var html_60080f3da5140701b3a244c2a59bd7b5 = $(`&lt;div id=&quot;html_60080f3da5140701b3a244c2a59bd7b5&quot; style=&quot;width: 100.0%; height: 100.0%;&quot;&gt;(&quot;&lt;b style=&#x27;font-size: 18px; &#x27;&gt;Brasserie 255&lt;/b&gt;&lt;br&gt;Direccion: Calle Juan Delgado #255 entre Santa Catalina y Milagros, Santos Suárez&quot;, &quot;Especialidades: [&#x27;cubana&#x27;, &#x27;francesa&#x27;, &#x27;internacional&#x27;]&quot;)&lt;/div&gt;`)[0];\n",
       "                popup_d8dd4b3f1f2aac6658c5defe9dd758c1.setContent(html_60080f3da5140701b3a244c2a59bd7b5);\n",
       "            \n",
       "        \n",
       "\n",
       "        marker_c853e1eb6efc961e6cfe75f0a7dcebd3.bindPopup(popup_d8dd4b3f1f2aac6658c5defe9dd758c1)\n",
       "        ;\n",
       "\n",
       "        \n",
       "    \n",
       "    \n",
       "            var marker_158189fcb849177b207df9656668bd67 = L.marker(\n",
       "                [23.120855356364203, -82.37256464585778],\n",
       "                {\n",
       "}\n",
       "            ).addTo(map_c1bd0692b3c890e2cab86875cb676aa0);\n",
       "        \n",
       "    \n",
       "            var icon_8ca279d1602e8f31a68a50072c8d127a = L.AwesomeMarkers.icon(\n",
       "                {\n",
       "  &quot;markerColor&quot;: &quot;red&quot;,\n",
       "  &quot;iconColor&quot;: &quot;white&quot;,\n",
       "  &quot;icon&quot;: &quot;cutlery&quot;,\n",
       "  &quot;prefix&quot;: &quot;fa&quot;,\n",
       "  &quot;extraClasses&quot;: &quot;fa-rotate-0&quot;,\n",
       "}\n",
       "            );\n",
       "            marker_158189fcb849177b207df9656668bd67.setIcon(icon_8ca279d1602e8f31a68a50072c8d127a);\n",
       "        \n",
       "    \n",
       "        var popup_cddab6929086d129bea62e3de85fdd6f = L.popup({\n",
       "  &quot;maxWidth&quot;: &quot;100%&quot;,\n",
       "});\n",
       "\n",
       "        \n",
       "            \n",
       "                var html_8b4026d9a6082e7f2605ea5c45e2faa6 = $(`&lt;div id=&quot;html_8b4026d9a6082e7f2605ea5c45e2faa6&quot; style=&quot;width: 100.0%; height: 100.0%;&quot;&gt;(&quot;&lt;b style=&#x27;font-size: 18px; &#x27;&gt;Brutal Habana&lt;/b&gt;&lt;br&gt;Direccion: Infanta esquina Calle Universidad&quot;, &quot;Especialidades: [&#x27;Comida Americana&#x27;]&quot;)&lt;/div&gt;`)[0];\n",
       "                popup_cddab6929086d129bea62e3de85fdd6f.setContent(html_8b4026d9a6082e7f2605ea5c45e2faa6);\n",
       "            \n",
       "        \n",
       "\n",
       "        marker_158189fcb849177b207df9656668bd67.bindPopup(popup_cddab6929086d129bea62e3de85fdd6f)\n",
       "        ;\n",
       "\n",
       "        \n",
       "    \n",
       "    \n",
       "            var marker_cf35c22c12a5096db0b81de641c44291 = L.marker(\n",
       "                [23.099237749002498, -82.33237415355453],\n",
       "                {\n",
       "}\n",
       "            ).addTo(map_c1bd0692b3c890e2cab86875cb676aa0);\n",
       "        \n",
       "    \n",
       "            var icon_aaa27ce96ac29dca80e29537e07aa8e0 = L.AwesomeMarkers.icon(\n",
       "                {\n",
       "  &quot;markerColor&quot;: &quot;red&quot;,\n",
       "  &quot;iconColor&quot;: &quot;white&quot;,\n",
       "  &quot;icon&quot;: &quot;cutlery&quot;,\n",
       "  &quot;prefix&quot;: &quot;fa&quot;,\n",
       "  &quot;extraClasses&quot;: &quot;fa-rotate-0&quot;,\n",
       "}\n",
       "            );\n",
       "            marker_cf35c22c12a5096db0b81de641c44291.setIcon(icon_aaa27ce96ac29dca80e29537e07aa8e0);\n",
       "        \n",
       "    \n",
       "        var popup_443b75cab0803677bfa7dc8b7bfc9261 = L.popup({\n",
       "  &quot;maxWidth&quot;: &quot;100%&quot;,\n",
       "});\n",
       "\n",
       "        \n",
       "            \n",
       "                var html_57970b9dc48bc53972c3ee4a51f08b4a = $(`&lt;div id=&quot;html_57970b9dc48bc53972c3ee4a51f08b4a&quot; style=&quot;width: 100.0%; height: 100.0%;&quot;&gt;(&quot;&lt;b style=&#x27;font-size: 18px; &#x27;&gt;Buena Vibra&lt;/b&gt;&lt;br&gt;Direccion: Esquina Beltran y Vista Hermosa&quot;, &quot;Especialidades: [&#x27;internacional&#x27;, &#x27;criolla&#x27;, &#x27;italiana&#x27;]&quot;)&lt;/div&gt;`)[0];\n",
       "                popup_443b75cab0803677bfa7dc8b7bfc9261.setContent(html_57970b9dc48bc53972c3ee4a51f08b4a);\n",
       "            \n",
       "        \n",
       "\n",
       "        marker_cf35c22c12a5096db0b81de641c44291.bindPopup(popup_443b75cab0803677bfa7dc8b7bfc9261)\n",
       "        ;\n",
       "\n",
       "        \n",
       "    \n",
       "    \n",
       "            var marker_95493c864d99c10d46f77bf84b1d6b24 = L.marker(\n",
       "                [23.141585728087556, -82.35312284770457],\n",
       "                {\n",
       "}\n",
       "            ).addTo(map_c1bd0692b3c890e2cab86875cb676aa0);\n",
       "        \n",
       "    \n",
       "            var icon_148f3fb25ca1a40be74f74bcc0990643 = L.AwesomeMarkers.icon(\n",
       "                {\n",
       "  &quot;markerColor&quot;: &quot;red&quot;,\n",
       "  &quot;iconColor&quot;: &quot;white&quot;,\n",
       "  &quot;icon&quot;: &quot;cutlery&quot;,\n",
       "  &quot;prefix&quot;: &quot;fa&quot;,\n",
       "  &quot;extraClasses&quot;: &quot;fa-rotate-0&quot;,\n",
       "}\n",
       "            );\n",
       "            marker_95493c864d99c10d46f77bf84b1d6b24.setIcon(icon_148f3fb25ca1a40be74f74bcc0990643);\n",
       "        \n",
       "    \n",
       "        var popup_50088264a2505a71bd806e1b8b9f2b6f = L.popup({\n",
       "  &quot;maxWidth&quot;: &quot;100%&quot;,\n",
       "});\n",
       "\n",
       "        \n",
       "            \n",
       "                var html_462e56adcc03292ccc99ec6484197c5c = $(`&lt;div id=&quot;html_462e56adcc03292ccc99ec6484197c5c&quot; style=&quot;width: 100.0%; height: 100.0%;&quot;&gt;(&quot;&lt;b style=&#x27;font-size: 18px; &#x27;&gt;Buena Vista Curry Club&lt;/b&gt;&lt;br&gt;Direccion: Tejadillo #24 entre Cuba y San Ignacio&quot;, &quot;Especialidades: [&#x27;Indio&#x27;]&quot;)&lt;/div&gt;`)[0];\n",
       "                popup_50088264a2505a71bd806e1b8b9f2b6f.setContent(html_462e56adcc03292ccc99ec6484197c5c);\n",
       "            \n",
       "        \n",
       "\n",
       "        marker_95493c864d99c10d46f77bf84b1d6b24.bindPopup(popup_50088264a2505a71bd806e1b8b9f2b6f)\n",
       "        ;\n",
       "\n",
       "        \n",
       "    \n",
       "    \n",
       "            var marker_d7b8c9fc6ed8413a997cd2ee5af32dd7 = L.marker(\n",
       "                [23.125370946899892, -82.33090928614111],\n",
       "                {\n",
       "}\n",
       "            ).addTo(map_c1bd0692b3c890e2cab86875cb676aa0);\n",
       "        \n",
       "    \n",
       "            var icon_d67eaa787314c54f2f8ee15db4ffa284 = L.AwesomeMarkers.icon(\n",
       "                {\n",
       "  &quot;markerColor&quot;: &quot;red&quot;,\n",
       "  &quot;iconColor&quot;: &quot;white&quot;,\n",
       "  &quot;icon&quot;: &quot;cutlery&quot;,\n",
       "  &quot;prefix&quot;: &quot;fa&quot;,\n",
       "  &quot;extraClasses&quot;: &quot;fa-rotate-0&quot;,\n",
       "}\n",
       "            );\n",
       "            marker_d7b8c9fc6ed8413a997cd2ee5af32dd7.setIcon(icon_d67eaa787314c54f2f8ee15db4ffa284);\n",
       "        \n",
       "    \n",
       "        var popup_3d4999098ed242ada59b62789c935408 = L.popup({\n",
       "  &quot;maxWidth&quot;: &quot;100%&quot;,\n",
       "});\n",
       "\n",
       "        \n",
       "            \n",
       "                var html_42fca9568a8df2f8af43b41f5404a130 = $(`&lt;div id=&quot;html_42fca9568a8df2f8af43b41f5404a130&quot; style=&quot;width: 100.0%; height: 100.0%;&quot;&gt;(&quot;&lt;b style=&#x27;font-size: 18px; &#x27;&gt;Cafe Atardecer&lt;/b&gt;&lt;br&gt;Direccion: Marti entre Perdomo y Albuquerque&quot;, &quot;Especialidades: [&#x27;criolla&#x27;]&quot;)&lt;/div&gt;`)[0];\n",
       "                popup_3d4999098ed242ada59b62789c935408.setContent(html_42fca9568a8df2f8af43b41f5404a130);\n",
       "            \n",
       "        \n",
       "\n",
       "        marker_d7b8c9fc6ed8413a997cd2ee5af32dd7.bindPopup(popup_3d4999098ed242ada59b62789c935408)\n",
       "        ;\n",
       "\n",
       "        \n",
       "    \n",
       "    \n",
       "            var marker_905f75de0178f9a7f374d963277b1f55 = L.marker(\n",
       "                [23.086090107291625, -82.42853148002152],\n",
       "                {\n",
       "}\n",
       "            ).addTo(map_c1bd0692b3c890e2cab86875cb676aa0);\n",
       "        \n",
       "    \n",
       "            var icon_f21274756c363d9debfbc43e529e7e3a = L.AwesomeMarkers.icon(\n",
       "                {\n",
       "  &quot;markerColor&quot;: &quot;red&quot;,\n",
       "  &quot;iconColor&quot;: &quot;white&quot;,\n",
       "  &quot;icon&quot;: &quot;cutlery&quot;,\n",
       "  &quot;prefix&quot;: &quot;fa&quot;,\n",
       "  &quot;extraClasses&quot;: &quot;fa-rotate-0&quot;,\n",
       "}\n",
       "            );\n",
       "            marker_905f75de0178f9a7f374d963277b1f55.setIcon(icon_f21274756c363d9debfbc43e529e7e3a);\n",
       "        \n",
       "    \n",
       "        var popup_d41f24118698d14d12040d585c2cd49f = L.popup({\n",
       "  &quot;maxWidth&quot;: &quot;100%&quot;,\n",
       "});\n",
       "\n",
       "        \n",
       "            \n",
       "                var html_0f66f0d88e88b13f89cd2d99f20a384f = $(`&lt;div id=&quot;html_0f66f0d88e88b13f89cd2d99f20a384f&quot; style=&quot;width: 100.0%; height: 100.0%;&quot;&gt;(&quot;&lt;b style=&#x27;font-size: 18px; &#x27;&gt;Cafeteria obelisco&lt;/b&gt;&lt;br&gt;Direccion: Avenida 31&quot;, &quot;Especialidades: [&#x27;mixta&#x27;]&quot;)&lt;/div&gt;`)[0];\n",
       "                popup_d41f24118698d14d12040d585c2cd49f.setContent(html_0f66f0d88e88b13f89cd2d99f20a384f);\n",
       "            \n",
       "        \n",
       "\n",
       "        marker_905f75de0178f9a7f374d963277b1f55.bindPopup(popup_d41f24118698d14d12040d585c2cd49f)\n",
       "        ;\n",
       "\n",
       "        \n",
       "    \n",
       "    \n",
       "            var marker_b8c5daa9ccf959354f810f2a90bbb100 = L.marker(\n",
       "                [23.052405448223777, -82.4605687],\n",
       "                {\n",
       "}\n",
       "            ).addTo(map_c1bd0692b3c890e2cab86875cb676aa0);\n",
       "        \n",
       "    \n",
       "            var icon_47dce2f20db2f2544da31d436bd9fc9c = L.AwesomeMarkers.icon(\n",
       "                {\n",
       "  &quot;markerColor&quot;: &quot;red&quot;,\n",
       "  &quot;iconColor&quot;: &quot;white&quot;,\n",
       "  &quot;icon&quot;: &quot;cutlery&quot;,\n",
       "  &quot;prefix&quot;: &quot;fa&quot;,\n",
       "  &quot;extraClasses&quot;: &quot;fa-rotate-0&quot;,\n",
       "}\n",
       "            );\n",
       "            marker_b8c5daa9ccf959354f810f2a90bbb100.setIcon(icon_47dce2f20db2f2544da31d436bd9fc9c);\n",
       "        \n",
       "    \n",
       "        var popup_5cbee0bc1b8c939e67ddced1435c4b80 = L.popup({\n",
       "  &quot;maxWidth&quot;: &quot;100%&quot;,\n",
       "});\n",
       "\n",
       "        \n",
       "            \n",
       "                var html_9da77d703c596dfdbe71be14b3be47cc = $(`&lt;div id=&quot;html_9da77d703c596dfdbe71be14b3be47cc&quot; style=&quot;width: 100.0%; height: 100.0%;&quot;&gt;(&quot;&lt;b style=&#x27;font-size: 18px; &#x27;&gt;Cafe Aroma&lt;/b&gt;&lt;br&gt;Direccion: Calle 244 No. 5106 e/ 51 y 61, San Agustín&quot;, &quot;Especialidades: [&#x27;Mixta&#x27;, &#x27;Cafes&#x27;]&quot;)&lt;/div&gt;`)[0];\n",
       "                popup_5cbee0bc1b8c939e67ddced1435c4b80.setContent(html_9da77d703c596dfdbe71be14b3be47cc);\n",
       "            \n",
       "        \n",
       "\n",
       "        marker_b8c5daa9ccf959354f810f2a90bbb100.bindPopup(popup_5cbee0bc1b8c939e67ddced1435c4b80)\n",
       "        ;\n",
       "\n",
       "        \n",
       "    \n",
       "    \n",
       "            var marker_c71b2e1861f10f02639c64c9afa08445 = L.marker(\n",
       "                [23.136496787602418, -82.36291657498259],\n",
       "                {\n",
       "}\n",
       "            ).addTo(map_c1bd0692b3c890e2cab86875cb676aa0);\n",
       "        \n",
       "    \n",
       "            var icon_040dd338d8445ceb3a78aaf4c922b9c9 = L.AwesomeMarkers.icon(\n",
       "                {\n",
       "  &quot;markerColor&quot;: &quot;red&quot;,\n",
       "  &quot;iconColor&quot;: &quot;white&quot;,\n",
       "  &quot;icon&quot;: &quot;cutlery&quot;,\n",
       "  &quot;prefix&quot;: &quot;fa&quot;,\n",
       "  &quot;extraClasses&quot;: &quot;fa-rotate-0&quot;,\n",
       "}\n",
       "            );\n",
       "            marker_c71b2e1861f10f02639c64c9afa08445.setIcon(icon_040dd338d8445ceb3a78aaf4c922b9c9);\n",
       "        \n",
       "    \n",
       "        var popup_c4de84e11cfa1faa9bede9f24c6b8386 = L.popup({\n",
       "  &quot;maxWidth&quot;: &quot;100%&quot;,\n",
       "});\n",
       "\n",
       "        \n",
       "            \n",
       "                var html_518a1d7d20b4e0aa9c693f93fb48fc5c = $(`&lt;div id=&quot;html_518a1d7d20b4e0aa9c693f93fb48fc5c&quot; style=&quot;width: 100.0%; height: 100.0%;&quot;&gt;(&quot;&lt;b style=&#x27;font-size: 18px; &#x27;&gt;Cafe Bulevar&lt;/b&gt;&lt;br&gt;Direccion: Blvd de San Rafael entre Aguila y Galeano&quot;, &quot;Especialidades: [&#x27;cubana&#x27;]&quot;)&lt;/div&gt;`)[0];\n",
       "                popup_c4de84e11cfa1faa9bede9f24c6b8386.setContent(html_518a1d7d20b4e0aa9c693f93fb48fc5c);\n",
       "            \n",
       "        \n",
       "\n",
       "        marker_c71b2e1861f10f02639c64c9afa08445.bindPopup(popup_c4de84e11cfa1faa9bede9f24c6b8386)\n",
       "        ;\n",
       "\n",
       "        \n",
       "    \n",
       "    \n",
       "            var marker_cee37109c886ab7c85a0004902997730 = L.marker(\n",
       "                [23.142000139754025, -82.35554376702197],\n",
       "                {\n",
       "}\n",
       "            ).addTo(map_c1bd0692b3c890e2cab86875cb676aa0);\n",
       "        \n",
       "    \n",
       "            var icon_7cf6bac5652e0a0c2ec00eb03ea2f661 = L.AwesomeMarkers.icon(\n",
       "                {\n",
       "  &quot;markerColor&quot;: &quot;red&quot;,\n",
       "  &quot;iconColor&quot;: &quot;white&quot;,\n",
       "  &quot;icon&quot;: &quot;cutlery&quot;,\n",
       "  &quot;prefix&quot;: &quot;fa&quot;,\n",
       "  &quot;extraClasses&quot;: &quot;fa-rotate-0&quot;,\n",
       "}\n",
       "            );\n",
       "            marker_cee37109c886ab7c85a0004902997730.setIcon(icon_7cf6bac5652e0a0c2ec00eb03ea2f661);\n",
       "        \n",
       "    \n",
       "        var popup_e88e4d114b1c11c33881cb05dd2376bd = L.popup({\n",
       "  &quot;maxWidth&quot;: &quot;100%&quot;,\n",
       "});\n",
       "\n",
       "        \n",
       "            \n",
       "                var html_f0ba4ed011e4d977b0b11d3a40ecf287 = $(`&lt;div id=&quot;html_f0ba4ed011e4d977b0b11d3a40ecf287&quot; style=&quot;width: 100.0%; height: 100.0%;&quot;&gt;(&quot;&lt;b style=&#x27;font-size: 18px; &#x27;&gt;Cafe Del Angel&lt;/b&gt;&lt;br&gt;Direccion: Chacon #201 esquina Compostela&quot;, &quot;Especialidades: [&#x27;Cubana&#x27;, &#x27;internacional&#x27;, &#x27;italiana&#x27;]&quot;)&lt;/div&gt;`)[0];\n",
       "                popup_e88e4d114b1c11c33881cb05dd2376bd.setContent(html_f0ba4ed011e4d977b0b11d3a40ecf287);\n",
       "            \n",
       "        \n",
       "\n",
       "        marker_cee37109c886ab7c85a0004902997730.bindPopup(popup_e88e4d114b1c11c33881cb05dd2376bd)\n",
       "        ;\n",
       "\n",
       "        \n",
       "    \n",
       "    \n",
       "            var marker_e67cb310417630fed5db5b02b1f9e2e6 = L.marker(\n",
       "                [23.13903313751219, -82.40074075776106],\n",
       "                {\n",
       "}\n",
       "            ).addTo(map_c1bd0692b3c890e2cab86875cb676aa0);\n",
       "        \n",
       "    \n",
       "            var icon_4d55c9ceeeff8bedd52c7c6bb3541eaf = L.AwesomeMarkers.icon(\n",
       "                {\n",
       "  &quot;markerColor&quot;: &quot;red&quot;,\n",
       "  &quot;iconColor&quot;: &quot;white&quot;,\n",
       "  &quot;icon&quot;: &quot;cutlery&quot;,\n",
       "  &quot;prefix&quot;: &quot;fa&quot;,\n",
       "  &quot;extraClasses&quot;: &quot;fa-rotate-0&quot;,\n",
       "}\n",
       "            );\n",
       "            marker_e67cb310417630fed5db5b02b1f9e2e6.setIcon(icon_4d55c9ceeeff8bedd52c7c6bb3541eaf);\n",
       "        \n",
       "    \n",
       "        var popup_a8c5add8271cacc065abb3d620e09222 = L.popup({\n",
       "  &quot;maxWidth&quot;: &quot;100%&quot;,\n",
       "});\n",
       "\n",
       "        \n",
       "            \n",
       "                var html_1cd1f57be041c3e4c912afed35a4d9e4 = $(`&lt;div id=&quot;html_1cd1f57be041c3e4c912afed35a4d9e4&quot; style=&quot;width: 100.0%; height: 100.0%;&quot;&gt;(&quot;&lt;b style=&#x27;font-size: 18px; &#x27;&gt;Cafe D la Esquina&lt;/b&gt;&lt;br&gt;Direccion: Paseo #101, esq. a 5ta., Vedado&quot;, &quot;Especialidades: [&#x27;Comida cubana&#x27;, &#x27;caribeña&#x27;, &#x27;americana&#x27;]&quot;)&lt;/div&gt;`)[0];\n",
       "                popup_a8c5add8271cacc065abb3d620e09222.setContent(html_1cd1f57be041c3e4c912afed35a4d9e4);\n",
       "            \n",
       "        \n",
       "\n",
       "        marker_e67cb310417630fed5db5b02b1f9e2e6.bindPopup(popup_a8c5add8271cacc065abb3d620e09222)\n",
       "        ;\n",
       "\n",
       "        \n",
       "    \n",
       "    \n",
       "            var marker_2d9b7bf3882bfce81c4255e6b09b68d5 = L.marker(\n",
       "                [23.142976203835282, -82.35457077116467],\n",
       "                {\n",
       "}\n",
       "            ).addTo(map_c1bd0692b3c890e2cab86875cb676aa0);\n",
       "        \n",
       "    \n",
       "            var icon_ecdd16622fc2c90986cce6713eb96333 = L.AwesomeMarkers.icon(\n",
       "                {\n",
       "  &quot;markerColor&quot;: &quot;red&quot;,\n",
       "  &quot;iconColor&quot;: &quot;white&quot;,\n",
       "  &quot;icon&quot;: &quot;cutlery&quot;,\n",
       "  &quot;prefix&quot;: &quot;fa&quot;,\n",
       "  &quot;extraClasses&quot;: &quot;fa-rotate-0&quot;,\n",
       "}\n",
       "            );\n",
       "            marker_2d9b7bf3882bfce81c4255e6b09b68d5.setIcon(icon_ecdd16622fc2c90986cce6713eb96333);\n",
       "        \n",
       "    \n",
       "        var popup_a9232ea29b51e78fa91e77ca5de3d15a = L.popup({\n",
       "  &quot;maxWidth&quot;: &quot;100%&quot;,\n",
       "});\n",
       "\n",
       "        \n",
       "            \n",
       "                var html_7c6cfbfe3434137882f8a93ea2e5ee11 = $(`&lt;div id=&quot;html_7c6cfbfe3434137882f8a93ea2e5ee11&quot; style=&quot;width: 100.0%; height: 100.0%;&quot;&gt;(&quot;&lt;b style=&#x27;font-size: 18px; &#x27;&gt;Cafe Fortuna Joe&lt;/b&gt;&lt;br&gt;Direccion: Aguiar 64 e/ Peña Pobre y Cuarteles&quot;, &quot;Especialidades: [&#x27;Internacional&#x27;, &#x27;Cubana&#x27;]&quot;)&lt;/div&gt;`)[0];\n",
       "                popup_a9232ea29b51e78fa91e77ca5de3d15a.setContent(html_7c6cfbfe3434137882f8a93ea2e5ee11);\n",
       "            \n",
       "        \n",
       "\n",
       "        marker_2d9b7bf3882bfce81c4255e6b09b68d5.bindPopup(popup_a9232ea29b51e78fa91e77ca5de3d15a)\n",
       "        ;\n",
       "\n",
       "        \n",
       "    \n",
       "    \n",
       "            var marker_2445bc4108d02d8ffc39caf5db0aa267 = L.marker(\n",
       "                [23.030074211657837, -82.40204237654218],\n",
       "                {\n",
       "}\n",
       "            ).addTo(map_c1bd0692b3c890e2cab86875cb676aa0);\n",
       "        \n",
       "    \n",
       "            var icon_91f6a62bd7ca4cca9faeffb00804634c = L.AwesomeMarkers.icon(\n",
       "                {\n",
       "  &quot;markerColor&quot;: &quot;red&quot;,\n",
       "  &quot;iconColor&quot;: &quot;white&quot;,\n",
       "  &quot;icon&quot;: &quot;cutlery&quot;,\n",
       "  &quot;prefix&quot;: &quot;fa&quot;,\n",
       "  &quot;extraClasses&quot;: &quot;fa-rotate-0&quot;,\n",
       "}\n",
       "            );\n",
       "            marker_2445bc4108d02d8ffc39caf5db0aa267.setIcon(icon_91f6a62bd7ca4cca9faeffb00804634c);\n",
       "        \n",
       "    \n",
       "        var popup_6a21a53c860fb6db917ac5c88c52afcc = L.popup({\n",
       "  &quot;maxWidth&quot;: &quot;100%&quot;,\n",
       "});\n",
       "\n",
       "        \n",
       "            \n",
       "                var html_e0cdaefb766a9082791a41550e7e16e9 = $(`&lt;div id=&quot;html_e0cdaefb766a9082791a41550e7e16e9&quot; style=&quot;width: 100.0%; height: 100.0%;&quot;&gt;(&quot;&lt;b style=&#x27;font-size: 18px; &#x27;&gt;Cafe Tilin&lt;/b&gt;&lt;br&gt;Direccion: Avenida Independencia Km 9 1/2, Fontanar&quot;, &quot;Especialidades: [&#x27;Comida cubana&#x27;, &#x27;internacional&#x27;]&quot;)&lt;/div&gt;`)[0];\n",
       "                popup_6a21a53c860fb6db917ac5c88c52afcc.setContent(html_e0cdaefb766a9082791a41550e7e16e9);\n",
       "            \n",
       "        \n",
       "\n",
       "        marker_2445bc4108d02d8ffc39caf5db0aa267.bindPopup(popup_6a21a53c860fb6db917ac5c88c52afcc)\n",
       "        ;\n",
       "\n",
       "        \n",
       "    \n",
       "    \n",
       "            var marker_73b52dc3bb9138432bd512960b6ce72b = L.marker(\n",
       "                [23.0717312546624, -82.3077958289789],\n",
       "                {\n",
       "}\n",
       "            ).addTo(map_c1bd0692b3c890e2cab86875cb676aa0);\n",
       "        \n",
       "    \n",
       "            var icon_e9e3d30e50f9970c4a2ceaa2ec490b28 = L.AwesomeMarkers.icon(\n",
       "                {\n",
       "  &quot;markerColor&quot;: &quot;red&quot;,\n",
       "  &quot;iconColor&quot;: &quot;white&quot;,\n",
       "  &quot;icon&quot;: &quot;cutlery&quot;,\n",
       "  &quot;prefix&quot;: &quot;fa&quot;,\n",
       "  &quot;extraClasses&quot;: &quot;fa-rotate-0&quot;,\n",
       "}\n",
       "            );\n",
       "            marker_73b52dc3bb9138432bd512960b6ce72b.setIcon(icon_e9e3d30e50f9970c4a2ceaa2ec490b28);\n",
       "        \n",
       "    \n",
       "        var popup_8e96f796c5c648059c435ea6b7983398 = L.popup({\n",
       "  &quot;maxWidth&quot;: &quot;100%&quot;,\n",
       "});\n",
       "\n",
       "        \n",
       "            \n",
       "                var html_31b628f5c83855016660142ecbd8c69c = $(`&lt;div id=&quot;html_31b628f5c83855016660142ecbd8c69c&quot; style=&quot;width: 100.0%; height: 100.0%;&quot;&gt;(&quot;&lt;b style=&#x27;font-size: 18px; &#x27;&gt;Café Toscano&lt;/b&gt;&lt;br&gt;Direccion: Calzada de Guines&quot;, &quot;Especialidades: [&#x27;criolla&#x27;, &#x27;italiana&#x27;]&quot;)&lt;/div&gt;`)[0];\n",
       "                popup_8e96f796c5c648059c435ea6b7983398.setContent(html_31b628f5c83855016660142ecbd8c69c);\n",
       "            \n",
       "        \n",
       "\n",
       "        marker_73b52dc3bb9138432bd512960b6ce72b.bindPopup(popup_8e96f796c5c648059c435ea6b7983398)\n",
       "        ;\n",
       "\n",
       "        \n",
       "    \n",
       "    \n",
       "            var marker_7fea3c48cb2432d7a2436b6fc7029d53 = L.marker(\n",
       "                [23.10865762371607, -82.24742188465748],\n",
       "                {\n",
       "}\n",
       "            ).addTo(map_c1bd0692b3c890e2cab86875cb676aa0);\n",
       "        \n",
       "    \n",
       "            var icon_44f900c2ae50e9362a958748478f38b6 = L.AwesomeMarkers.icon(\n",
       "                {\n",
       "  &quot;markerColor&quot;: &quot;red&quot;,\n",
       "  &quot;iconColor&quot;: &quot;white&quot;,\n",
       "  &quot;icon&quot;: &quot;cutlery&quot;,\n",
       "  &quot;prefix&quot;: &quot;fa&quot;,\n",
       "  &quot;extraClasses&quot;: &quot;fa-rotate-0&quot;,\n",
       "}\n",
       "            );\n",
       "            marker_7fea3c48cb2432d7a2436b6fc7029d53.setIcon(icon_44f900c2ae50e9362a958748478f38b6);\n",
       "        \n",
       "    \n",
       "        var popup_1ceed0dd86d4b2ebc6b6775e1dff1782 = L.popup({\n",
       "  &quot;maxWidth&quot;: &quot;100%&quot;,\n",
       "});\n",
       "\n",
       "        \n",
       "            \n",
       "                var html_9ca2f07c377c8847847f2765c684c602 = $(`&lt;div id=&quot;html_9ca2f07c377c8847847f2765c684c602&quot; style=&quot;width: 100.0%; height: 100.0%;&quot;&gt;(&quot;&lt;b style=&#x27;font-size: 18px; &#x27;&gt;Cafe Versalles&lt;/b&gt;&lt;br&gt;Direccion: Calle Marti No.101 entre Versalles y San Antonio&quot;, &quot;Especialidades: [&#x27;Comida Criolla&#x27;]&quot;)&lt;/div&gt;`)[0];\n",
       "                popup_1ceed0dd86d4b2ebc6b6775e1dff1782.setContent(html_9ca2f07c377c8847847f2765c684c602);\n",
       "            \n",
       "        \n",
       "\n",
       "        marker_7fea3c48cb2432d7a2436b6fc7029d53.bindPopup(popup_1ceed0dd86d4b2ebc6b6775e1dff1782)\n",
       "        ;\n",
       "\n",
       "        \n",
       "    \n",
       "    \n",
       "            var marker_95acbc425ea121210ab7c59b1371e640 = L.marker(\n",
       "                [23.117962514624928, -82.43294891647132],\n",
       "                {\n",
       "}\n",
       "            ).addTo(map_c1bd0692b3c890e2cab86875cb676aa0);\n",
       "        \n",
       "    \n",
       "            var icon_c75c4a39dbed0637fa950e1033033c87 = L.AwesomeMarkers.icon(\n",
       "                {\n",
       "  &quot;markerColor&quot;: &quot;red&quot;,\n",
       "  &quot;iconColor&quot;: &quot;white&quot;,\n",
       "  &quot;icon&quot;: &quot;cutlery&quot;,\n",
       "  &quot;prefix&quot;: &quot;fa&quot;,\n",
       "  &quot;extraClasses&quot;: &quot;fa-rotate-0&quot;,\n",
       "}\n",
       "            );\n",
       "            marker_95acbc425ea121210ab7c59b1371e640.setIcon(icon_c75c4a39dbed0637fa950e1033033c87);\n",
       "        \n",
       "    \n",
       "        var popup_81f55260e41910e74d520b45f383a08d = L.popup({\n",
       "  &quot;maxWidth&quot;: &quot;100%&quot;,\n",
       "});\n",
       "\n",
       "        \n",
       "            \n",
       "                var html_d8f0b75dbf14b08bb3a6a3f735be1026 = $(`&lt;div id=&quot;html_d8f0b75dbf14b08bb3a6a3f735be1026&quot; style=&quot;width: 100.0%; height: 100.0%;&quot;&gt;(&quot;&lt;b style=&#x27;font-size: 18px; &#x27;&gt;Café Literario La Copa&lt;/b&gt;&lt;br&gt;Direccion:  1ra A entre 42 y 44&quot;, &quot;Especialidades: [&#x27;mixta&#x27;]&quot;)&lt;/div&gt;`)[0];\n",
       "                popup_81f55260e41910e74d520b45f383a08d.setContent(html_d8f0b75dbf14b08bb3a6a3f735be1026);\n",
       "            \n",
       "        \n",
       "\n",
       "        marker_95acbc425ea121210ab7c59b1371e640.bindPopup(popup_81f55260e41910e74d520b45f383a08d)\n",
       "        ;\n",
       "\n",
       "        \n",
       "    \n",
       "    \n",
       "            var marker_20fac5caa68a7f82040ad9fd4a426c89 = L.marker(\n",
       "                [23.07258141652537, -82.3570826358098],\n",
       "                {\n",
       "}\n",
       "            ).addTo(map_c1bd0692b3c890e2cab86875cb676aa0);\n",
       "        \n",
       "    \n",
       "            var icon_ff04f8a4ea91bc8106daf7f1838e1c45 = L.AwesomeMarkers.icon(\n",
       "                {\n",
       "  &quot;markerColor&quot;: &quot;red&quot;,\n",
       "  &quot;iconColor&quot;: &quot;white&quot;,\n",
       "  &quot;icon&quot;: &quot;cutlery&quot;,\n",
       "  &quot;prefix&quot;: &quot;fa&quot;,\n",
       "  &quot;extraClasses&quot;: &quot;fa-rotate-0&quot;,\n",
       "}\n",
       "            );\n",
       "            marker_20fac5caa68a7f82040ad9fd4a426c89.setIcon(icon_ff04f8a4ea91bc8106daf7f1838e1c45);\n",
       "        \n",
       "    \n",
       "        var popup_0208a9c4ba32e91ad3a7385c0c1ec899 = L.popup({\n",
       "  &quot;maxWidth&quot;: &quot;100%&quot;,\n",
       "});\n",
       "\n",
       "        \n",
       "            \n",
       "                var html_5bf719a7679f1339c919043b7ff3c80f = $(`&lt;div id=&quot;html_5bf719a7679f1339c919043b7ff3c80f&quot; style=&quot;width: 100.0%; height: 100.0%;&quot;&gt;(&quot;&lt;b style=&#x27;font-size: 18px; &#x27;&gt;Casa del Maiz&lt;/b&gt;&lt;br&gt;Direccion:  Calzada de Managua y San Agustin, Arroyo Naranjo&quot;, &quot;Especialidades: [&#x27;cubana&#x27;]&quot;)&lt;/div&gt;`)[0];\n",
       "                popup_0208a9c4ba32e91ad3a7385c0c1ec899.setContent(html_5bf719a7679f1339c919043b7ff3c80f);\n",
       "            \n",
       "        \n",
       "\n",
       "        marker_20fac5caa68a7f82040ad9fd4a426c89.bindPopup(popup_0208a9c4ba32e91ad3a7385c0c1ec899)\n",
       "        ;\n",
       "\n",
       "        \n",
       "    \n",
       "    \n",
       "            var marker_f634619d3ef30762758d9b442444566d = L.marker(\n",
       "                [23.094140100551975, -82.37774190333381],\n",
       "                {\n",
       "}\n",
       "            ).addTo(map_c1bd0692b3c890e2cab86875cb676aa0);\n",
       "        \n",
       "    \n",
       "            var icon_26a8f3a87c81d7b92307482f6ccf996c = L.AwesomeMarkers.icon(\n",
       "                {\n",
       "  &quot;markerColor&quot;: &quot;red&quot;,\n",
       "  &quot;iconColor&quot;: &quot;white&quot;,\n",
       "  &quot;icon&quot;: &quot;cutlery&quot;,\n",
       "  &quot;prefix&quot;: &quot;fa&quot;,\n",
       "  &quot;extraClasses&quot;: &quot;fa-rotate-0&quot;,\n",
       "}\n",
       "            );\n",
       "            marker_f634619d3ef30762758d9b442444566d.setIcon(icon_26a8f3a87c81d7b92307482f6ccf996c);\n",
       "        \n",
       "    \n",
       "        var popup_9ef01209159aca9c9c6eea062203e0f9 = L.popup({\n",
       "  &quot;maxWidth&quot;: &quot;100%&quot;,\n",
       "});\n",
       "\n",
       "        \n",
       "            \n",
       "                var html_5fb0aecaf777d6e377e4d4cfc7c0d955 = $(`&lt;div id=&quot;html_5fb0aecaf777d6e377e4d4cfc7c0d955&quot; style=&quot;width: 100.0%; height: 100.0%;&quot;&gt;(&quot;&lt;b style=&#x27;font-size: 18px; &#x27;&gt;Casa Godo&lt;/b&gt;&lt;br&gt;Direccion: Ave. Mayia Rodriguez # 358 e/ San Mariano y Vista Alegre, El Monaco&quot;, &quot;Especialidades: [&#x27;cubana&#x27;, &#x27;internacional&#x27;]&quot;)&lt;/div&gt;`)[0];\n",
       "                popup_9ef01209159aca9c9c6eea062203e0f9.setContent(html_5fb0aecaf777d6e377e4d4cfc7c0d955);\n",
       "            \n",
       "        \n",
       "\n",
       "        marker_f634619d3ef30762758d9b442444566d.bindPopup(popup_9ef01209159aca9c9c6eea062203e0f9)\n",
       "        ;\n",
       "\n",
       "        \n",
       "    \n",
       "    \n",
       "            var marker_f7cc5e8f9bf04480a29b84566b1afa85 = L.marker(\n",
       "                [23.14057504472214, -82.35175624751082],\n",
       "                {\n",
       "}\n",
       "            ).addTo(map_c1bd0692b3c890e2cab86875cb676aa0);\n",
       "        \n",
       "    \n",
       "            var icon_ee0ea8b94b721a7da75bd085b8c06361 = L.AwesomeMarkers.icon(\n",
       "                {\n",
       "  &quot;markerColor&quot;: &quot;red&quot;,\n",
       "  &quot;iconColor&quot;: &quot;white&quot;,\n",
       "  &quot;icon&quot;: &quot;cutlery&quot;,\n",
       "  &quot;prefix&quot;: &quot;fa&quot;,\n",
       "  &quot;extraClasses&quot;: &quot;fa-rotate-0&quot;,\n",
       "}\n",
       "            );\n",
       "            marker_f7cc5e8f9bf04480a29b84566b1afa85.setIcon(icon_ee0ea8b94b721a7da75bd085b8c06361);\n",
       "        \n",
       "    \n",
       "        var popup_78a201f5d94e137aedea5fe06e4e460a = L.popup({\n",
       "  &quot;maxWidth&quot;: &quot;100%&quot;,\n",
       "});\n",
       "\n",
       "        \n",
       "            \n",
       "                var html_e5b78f199f594db4c551c03051064a9a = $(`&lt;div id=&quot;html_e5b78f199f594db4c551c03051064a9a&quot; style=&quot;width: 100.0%; height: 100.0%;&quot;&gt;(&quot;&lt;b style=&#x27;font-size: 18px; &#x27;&gt;Casa Roma 1860&lt;/b&gt;&lt;br&gt;Direccion: San Ignacio No 68 / O Reilly y Empedrado.Callejon del chorro&quot;, &quot;Especialidades: [&#x27;Criolla&#x27;]&quot;)&lt;/div&gt;`)[0];\n",
       "                popup_78a201f5d94e137aedea5fe06e4e460a.setContent(html_e5b78f199f594db4c551c03051064a9a);\n",
       "            \n",
       "        \n",
       "\n",
       "        marker_f7cc5e8f9bf04480a29b84566b1afa85.bindPopup(popup_78a201f5d94e137aedea5fe06e4e460a)\n",
       "        ;\n",
       "\n",
       "        \n",
       "    \n",
       "    \n",
       "            var marker_be82448fa25af474f799cc58e755baa3 = L.marker(\n",
       "                [23.14287158318666, -82.39913605698585],\n",
       "                {\n",
       "}\n",
       "            ).addTo(map_c1bd0692b3c890e2cab86875cb676aa0);\n",
       "        \n",
       "    \n",
       "            var icon_78ac33f0781c793bb668f237d1a4a486 = L.AwesomeMarkers.icon(\n",
       "                {\n",
       "  &quot;markerColor&quot;: &quot;red&quot;,\n",
       "  &quot;iconColor&quot;: &quot;white&quot;,\n",
       "  &quot;icon&quot;: &quot;cutlery&quot;,\n",
       "  &quot;prefix&quot;: &quot;fa&quot;,\n",
       "  &quot;extraClasses&quot;: &quot;fa-rotate-0&quot;,\n",
       "}\n",
       "            );\n",
       "            marker_be82448fa25af474f799cc58e755baa3.setIcon(icon_78ac33f0781c793bb668f237d1a4a486);\n",
       "        \n",
       "    \n",
       "        var popup_944d1e23c4988ffe453af836546dc0c9 = L.popup({\n",
       "  &quot;maxWidth&quot;: &quot;100%&quot;,\n",
       "});\n",
       "\n",
       "        \n",
       "            \n",
       "                var html_58c343007b816318855098730a312003 = $(`&lt;div id=&quot;html_58c343007b816318855098730a312003&quot; style=&quot;width: 100.0%; height: 100.0%;&quot;&gt;(&quot;&lt;b style=&#x27;font-size: 18px; &#x27;&gt;Casa Mia&lt;/b&gt;&lt;br&gt;Direccion: Calle 1ra, No.103, entre C y D, Vedado&quot;, &quot;Especialidades: [&#x27;Comida Caribeña&#x27;, &#x27;latina&#x27;, &#x27;saludable&#x27;, &#x27;cubana&#x27;, &#x27;internacional&#x27;, &#x27;mariscos&#x27;]&quot;)&lt;/div&gt;`)[0];\n",
       "                popup_944d1e23c4988ffe453af836546dc0c9.setContent(html_58c343007b816318855098730a312003);\n",
       "            \n",
       "        \n",
       "\n",
       "        marker_be82448fa25af474f799cc58e755baa3.bindPopup(popup_944d1e23c4988ffe453af836546dc0c9)\n",
       "        ;\n",
       "\n",
       "        \n",
       "    \n",
       "    \n",
       "            var marker_ee3416c47ba3efacffc30b00eb88ebd8 = L.marker(\n",
       "                [23.140862822677907, -82.35652410537521],\n",
       "                {\n",
       "}\n",
       "            ).addTo(map_c1bd0692b3c890e2cab86875cb676aa0);\n",
       "        \n",
       "    \n",
       "            var icon_2f7a2eaed814fa8d6e98c0bad3c2155c = L.AwesomeMarkers.icon(\n",
       "                {\n",
       "  &quot;markerColor&quot;: &quot;red&quot;,\n",
       "  &quot;iconColor&quot;: &quot;white&quot;,\n",
       "  &quot;icon&quot;: &quot;cutlery&quot;,\n",
       "  &quot;prefix&quot;: &quot;fa&quot;,\n",
       "  &quot;extraClasses&quot;: &quot;fa-rotate-0&quot;,\n",
       "}\n",
       "            );\n",
       "            marker_ee3416c47ba3efacffc30b00eb88ebd8.setIcon(icon_2f7a2eaed814fa8d6e98c0bad3c2155c);\n",
       "        \n",
       "    \n",
       "        var popup_5752fc4c353e5b65e8fc3ef348dab482 = L.popup({\n",
       "  &quot;maxWidth&quot;: &quot;100%&quot;,\n",
       "});\n",
       "\n",
       "        \n",
       "            \n",
       "                var html_bfc9e68a3c1cc8515338ab792ddd7a96 = $(`&lt;div id=&quot;html_bfc9e68a3c1cc8515338ab792ddd7a96&quot; style=&quot;width: 100.0%; height: 100.0%;&quot;&gt;(&quot;&lt;b style=&#x27;font-size: 18px; &#x27;&gt;ChaChaChá&lt;/b&gt;&lt;br&gt;Direccion: Monserrate # 159 e/ Tejadillo y Chacón&quot;, &quot;Especialidades: [&#x27;Comida Internacional&#x27;, &#x27;Fusión&#x27;, &#x27;Cubana&#x27;]&quot;)&lt;/div&gt;`)[0];\n",
       "                popup_5752fc4c353e5b65e8fc3ef348dab482.setContent(html_bfc9e68a3c1cc8515338ab792ddd7a96);\n",
       "            \n",
       "        \n",
       "\n",
       "        marker_ee3416c47ba3efacffc30b00eb88ebd8.bindPopup(popup_5752fc4c353e5b65e8fc3ef348dab482)\n",
       "        ;\n",
       "\n",
       "        \n",
       "    \n",
       "    \n",
       "            var marker_125482ab7682f459eb0d44f6bc566635 = L.marker(\n",
       "                [23.1310792818174, -82.4048009798343],\n",
       "                {\n",
       "}\n",
       "            ).addTo(map_c1bd0692b3c890e2cab86875cb676aa0);\n",
       "        \n",
       "    \n",
       "            var icon_6b99db5d4f74f33e021ca7239be4238e = L.AwesomeMarkers.icon(\n",
       "                {\n",
       "  &quot;markerColor&quot;: &quot;red&quot;,\n",
       "  &quot;iconColor&quot;: &quot;white&quot;,\n",
       "  &quot;icon&quot;: &quot;cutlery&quot;,\n",
       "  &quot;prefix&quot;: &quot;fa&quot;,\n",
       "  &quot;extraClasses&quot;: &quot;fa-rotate-0&quot;,\n",
       "}\n",
       "            );\n",
       "            marker_125482ab7682f459eb0d44f6bc566635.setIcon(icon_6b99db5d4f74f33e021ca7239be4238e);\n",
       "        \n",
       "    \n",
       "        var popup_874af403efd762258d50035804aaea54 = L.popup({\n",
       "  &quot;maxWidth&quot;: &quot;100%&quot;,\n",
       "});\n",
       "\n",
       "        \n",
       "            \n",
       "                var html_72755d9ce5de0c09f638e28e706d83d0 = $(`&lt;div id=&quot;html_72755d9ce5de0c09f638e28e706d83d0&quot; style=&quot;width: 100.0%; height: 100.0%;&quot;&gt;(&quot;&lt;b style=&#x27;font-size: 18px; &#x27;&gt;Coco Blue&lt;/b&gt;&lt;br&gt;Direccion: entre 11 y 13 Vedado, 112 Calle 14&quot;, &quot;Especialidades: [&#x27;Caribeña&#x27;, &#x27;Bar&#x27;, &#x27;Café&#x27;, &#x27;Pub&#x27;, &#x27;Cubana&#x27;]&quot;)&lt;/div&gt;`)[0];\n",
       "                popup_874af403efd762258d50035804aaea54.setContent(html_72755d9ce5de0c09f638e28e706d83d0);\n",
       "            \n",
       "        \n",
       "\n",
       "        marker_125482ab7682f459eb0d44f6bc566635.bindPopup(popup_874af403efd762258d50035804aaea54)\n",
       "        ;\n",
       "\n",
       "        \n",
       "    \n",
       "    \n",
       "            var marker_774d5c853315ee49695642b9c5486a0f = L.marker(\n",
       "                [23.13713706188433, -82.36148787289606],\n",
       "                {\n",
       "}\n",
       "            ).addTo(map_c1bd0692b3c890e2cab86875cb676aa0);\n",
       "        \n",
       "    \n",
       "            var icon_d5e7ebdfb60354693e4a38dac8037596 = L.AwesomeMarkers.icon(\n",
       "                {\n",
       "  &quot;markerColor&quot;: &quot;red&quot;,\n",
       "  &quot;iconColor&quot;: &quot;white&quot;,\n",
       "  &quot;icon&quot;: &quot;cutlery&quot;,\n",
       "  &quot;prefix&quot;: &quot;fa&quot;,\n",
       "  &quot;extraClasses&quot;: &quot;fa-rotate-0&quot;,\n",
       "}\n",
       "            );\n",
       "            marker_774d5c853315ee49695642b9c5486a0f.setIcon(icon_d5e7ebdfb60354693e4a38dac8037596);\n",
       "        \n",
       "    \n",
       "        var popup_32b37e9d489c70c8a225f882bc56747f = L.popup({\n",
       "  &quot;maxWidth&quot;: &quot;100%&quot;,\n",
       "});\n",
       "\n",
       "        \n",
       "            \n",
       "                var html_68555eaf7cc55c76982039d56d4ac4c0 = $(`&lt;div id=&quot;html_68555eaf7cc55c76982039d56d4ac4c0&quot; style=&quot;width: 100.0%; height: 100.0%;&quot;&gt;(&quot;&lt;b style=&#x27;font-size: 18px; &#x27;&gt;Cohmar Cafe&lt;/b&gt;&lt;br&gt;Direccion: Boulevard de San Rafael, &amp; Amistad&quot;, &quot;Especialidades: [&#x27;criolla&#x27;, &#x27;internacional&#x27;, &#x27;cubana&#x27;]&quot;)&lt;/div&gt;`)[0];\n",
       "                popup_32b37e9d489c70c8a225f882bc56747f.setContent(html_68555eaf7cc55c76982039d56d4ac4c0);\n",
       "            \n",
       "        \n",
       "\n",
       "        marker_774d5c853315ee49695642b9c5486a0f.bindPopup(popup_32b37e9d489c70c8a225f882bc56747f)\n",
       "        ;\n",
       "\n",
       "        \n",
       "    \n",
       "    \n",
       "            var marker_dd13c32ed94a3d799d45d81743ca7528 = L.marker(\n",
       "                [23.071073169539453, -82.43552727449875],\n",
       "                {\n",
       "}\n",
       "            ).addTo(map_c1bd0692b3c890e2cab86875cb676aa0);\n",
       "        \n",
       "    \n",
       "            var icon_ff65166359d5c92643ba2ec633acd8ca = L.AwesomeMarkers.icon(\n",
       "                {\n",
       "  &quot;markerColor&quot;: &quot;red&quot;,\n",
       "  &quot;iconColor&quot;: &quot;white&quot;,\n",
       "  &quot;icon&quot;: &quot;cutlery&quot;,\n",
       "  &quot;prefix&quot;: &quot;fa&quot;,\n",
       "  &quot;extraClasses&quot;: &quot;fa-rotate-0&quot;,\n",
       "}\n",
       "            );\n",
       "            marker_dd13c32ed94a3d799d45d81743ca7528.setIcon(icon_ff65166359d5c92643ba2ec633acd8ca);\n",
       "        \n",
       "    \n",
       "        var popup_5d5fec5445dc024e84d48ad3ebf23d74 = L.popup({\n",
       "  &quot;maxWidth&quot;: &quot;100%&quot;,\n",
       "});\n",
       "\n",
       "        \n",
       "            \n",
       "                var html_06137d5e18f8b1bfee9f50b5456096cb = $(`&lt;div id=&quot;html_06137d5e18f8b1bfee9f50b5456096cb&quot; style=&quot;width: 100.0%; height: 100.0%;&quot;&gt;(&quot;&lt;b style=&#x27;font-size: 18px; &#x27;&gt;Colesterol 5.1&lt;/b&gt;&lt;br&gt;Direccion: Avenida 51 entre 134 y 136&quot;, &quot;Especialidades: [&#x27;cubana&#x27;, &#x27;italiana&#x27;, &#x27;internacional&#x27;]&quot;)&lt;/div&gt;`)[0];\n",
       "                popup_5d5fec5445dc024e84d48ad3ebf23d74.setContent(html_06137d5e18f8b1bfee9f50b5456096cb);\n",
       "            \n",
       "        \n",
       "\n",
       "        marker_dd13c32ed94a3d799d45d81743ca7528.bindPopup(popup_5d5fec5445dc024e84d48ad3ebf23d74)\n",
       "        ;\n",
       "\n",
       "        \n",
       "    \n",
       "    \n",
       "            var marker_4558ccdd4f418e28ae228bb31af2a967 = L.marker(\n",
       "                [23.05213364329506, -82.33209177284725],\n",
       "                {\n",
       "}\n",
       "            ).addTo(map_c1bd0692b3c890e2cab86875cb676aa0);\n",
       "        \n",
       "    \n",
       "            var icon_f2b34d45b8a1d33ff6476cfdbae9db54 = L.AwesomeMarkers.icon(\n",
       "                {\n",
       "  &quot;markerColor&quot;: &quot;red&quot;,\n",
       "  &quot;iconColor&quot;: &quot;white&quot;,\n",
       "  &quot;icon&quot;: &quot;cutlery&quot;,\n",
       "  &quot;prefix&quot;: &quot;fa&quot;,\n",
       "  &quot;extraClasses&quot;: &quot;fa-rotate-0&quot;,\n",
       "}\n",
       "            );\n",
       "            marker_4558ccdd4f418e28ae228bb31af2a967.setIcon(icon_f2b34d45b8a1d33ff6476cfdbae9db54);\n",
       "        \n",
       "    \n",
       "        var popup_e144cc410dc0d916a141e2692029e508 = L.popup({\n",
       "  &quot;maxWidth&quot;: &quot;100%&quot;,\n",
       "});\n",
       "\n",
       "        \n",
       "            \n",
       "                var html_7bba09d060595f8778d68adb027a9ecc = $(`&lt;div id=&quot;html_7bba09d060595f8778d68adb027a9ecc&quot; style=&quot;width: 100.0%; height: 100.0%;&quot;&gt;(&quot;&lt;b style=&#x27;font-size: 18px; &#x27;&gt;Comida Criolla Ocho Vías&lt;/b&gt;&lt;br&gt;Direccion: Avenida 1er Anillo 3km despues de San Agustin&quot;, &quot;Especialidades: [&#x27;cubana&#x27;]&quot;)&lt;/div&gt;`)[0];\n",
       "                popup_e144cc410dc0d916a141e2692029e508.setContent(html_7bba09d060595f8778d68adb027a9ecc);\n",
       "            \n",
       "        \n",
       "\n",
       "        marker_4558ccdd4f418e28ae228bb31af2a967.bindPopup(popup_e144cc410dc0d916a141e2692029e508)\n",
       "        ;\n",
       "\n",
       "        \n",
       "    \n",
       "    \n",
       "            var marker_16d19936ef7f1e6cd66c4cbfab11ab3f = L.marker(\n",
       "                [23.08919134492609, -82.37611427712088],\n",
       "                {\n",
       "}\n",
       "            ).addTo(map_c1bd0692b3c890e2cab86875cb676aa0);\n",
       "        \n",
       "    \n",
       "            var icon_f802201887f23d4e0c3d71da12c5d774 = L.AwesomeMarkers.icon(\n",
       "                {\n",
       "  &quot;markerColor&quot;: &quot;red&quot;,\n",
       "  &quot;iconColor&quot;: &quot;white&quot;,\n",
       "  &quot;icon&quot;: &quot;cutlery&quot;,\n",
       "  &quot;prefix&quot;: &quot;fa&quot;,\n",
       "  &quot;extraClasses&quot;: &quot;fa-rotate-0&quot;,\n",
       "}\n",
       "            );\n",
       "            marker_16d19936ef7f1e6cd66c4cbfab11ab3f.setIcon(icon_f802201887f23d4e0c3d71da12c5d774);\n",
       "        \n",
       "    \n",
       "        var popup_e83b55b077a7f9817db895d3871a6596 = L.popup({\n",
       "  &quot;maxWidth&quot;: &quot;100%&quot;,\n",
       "});\n",
       "\n",
       "        \n",
       "            \n",
       "                var html_d0e4904b8438d059fd24e3ae11d5cd8a = $(`&lt;div id=&quot;html_d0e4904b8438d059fd24e3ae11d5cd8a&quot; style=&quot;width: 100.0%; height: 100.0%;&quot;&gt;(&quot;&lt;b style=&#x27;font-size: 18px; &#x27;&gt;Crispy Chicken&lt;/b&gt;&lt;br&gt;Direccion: Avenida de Acosta y Juan Delgado, Víbora&quot;, &quot;Especialidades: [&#x27;criolla&#x27;, &#x27;cubana&#x27;, &#x27;internacional&#x27;]&quot;)&lt;/div&gt;`)[0];\n",
       "                popup_e83b55b077a7f9817db895d3871a6596.setContent(html_d0e4904b8438d059fd24e3ae11d5cd8a);\n",
       "            \n",
       "        \n",
       "\n",
       "        marker_16d19936ef7f1e6cd66c4cbfab11ab3f.bindPopup(popup_e83b55b077a7f9817db895d3871a6596)\n",
       "        ;\n",
       "\n",
       "        \n",
       "    \n",
       "    \n",
       "            var marker_305bb7e711e5fcc83d1abe04d9a63b97 = L.marker(\n",
       "                [23.046144807035024, -82.27016561299135],\n",
       "                {\n",
       "}\n",
       "            ).addTo(map_c1bd0692b3c890e2cab86875cb676aa0);\n",
       "        \n",
       "    \n",
       "            var icon_34e4e0cbe562650a76faa4d43890eadb = L.AwesomeMarkers.icon(\n",
       "                {\n",
       "  &quot;markerColor&quot;: &quot;red&quot;,\n",
       "  &quot;iconColor&quot;: &quot;white&quot;,\n",
       "  &quot;icon&quot;: &quot;cutlery&quot;,\n",
       "  &quot;prefix&quot;: &quot;fa&quot;,\n",
       "  &quot;extraClasses&quot;: &quot;fa-rotate-0&quot;,\n",
       "}\n",
       "            );\n",
       "            marker_305bb7e711e5fcc83d1abe04d9a63b97.setIcon(icon_34e4e0cbe562650a76faa4d43890eadb);\n",
       "        \n",
       "    \n",
       "        var popup_366a73e119205de864208e65024aca69 = L.popup({\n",
       "  &quot;maxWidth&quot;: &quot;100%&quot;,\n",
       "});\n",
       "\n",
       "        \n",
       "            \n",
       "                var html_566b19815f53fd0a57c583248496d316 = $(`&lt;div id=&quot;html_566b19815f53fd0a57c583248496d316&quot; style=&quot;width: 100.0%; height: 100.0%;&quot;&gt;(&quot;&lt;b style=&#x27;font-size: 18px; &#x27;&gt;Crystal&lt;/b&gt;&lt;br&gt;Direccion: Avenida 101 entre 18 y 20 centro cotorro&quot;, &quot;Especialidades: [&#x27;Mixta, criolla&#x27;]&quot;)&lt;/div&gt;`)[0];\n",
       "                popup_366a73e119205de864208e65024aca69.setContent(html_566b19815f53fd0a57c583248496d316);\n",
       "            \n",
       "        \n",
       "\n",
       "        marker_305bb7e711e5fcc83d1abe04d9a63b97.bindPopup(popup_366a73e119205de864208e65024aca69)\n",
       "        ;\n",
       "\n",
       "        \n",
       "    \n",
       "    \n",
       "            var marker_9c6d116914a70804ecc707e15df41733 = L.marker(\n",
       "                [23.13672770195526, -82.39997277634649],\n",
       "                {\n",
       "}\n",
       "            ).addTo(map_c1bd0692b3c890e2cab86875cb676aa0);\n",
       "        \n",
       "    \n",
       "            var icon_65edbaa27e87548dd0a59e9833c99632 = L.AwesomeMarkers.icon(\n",
       "                {\n",
       "  &quot;markerColor&quot;: &quot;red&quot;,\n",
       "  &quot;iconColor&quot;: &quot;white&quot;,\n",
       "  &quot;icon&quot;: &quot;cutlery&quot;,\n",
       "  &quot;prefix&quot;: &quot;fa&quot;,\n",
       "  &quot;extraClasses&quot;: &quot;fa-rotate-0&quot;,\n",
       "}\n",
       "            );\n",
       "            marker_9c6d116914a70804ecc707e15df41733.setIcon(icon_65edbaa27e87548dd0a59e9833c99632);\n",
       "        \n",
       "    \n",
       "        var popup_f392b6941a3170253427638abbc9423f = L.popup({\n",
       "  &quot;maxWidth&quot;: &quot;100%&quot;,\n",
       "});\n",
       "\n",
       "        \n",
       "            \n",
       "                var html_72953854b06fc57f0dafc33e19fdc2ef = $(`&lt;div id=&quot;html_72953854b06fc57f0dafc33e19fdc2ef&quot; style=&quot;width: 100.0%; height: 100.0%;&quot;&gt;(&quot;&lt;b style=&#x27;font-size: 18px; &#x27;&gt;Decameron&lt;/b&gt;&lt;br&gt;Direccion: Calle LLnea entre Paseo y 2, Vedado&quot;, &quot;Especialidades: [&#x27;Comida caribeña&#x27;, &#x27;cubana&#x27;, &#x27;saludable&#x27;, &#x27;fusion&#x27;]&quot;)&lt;/div&gt;`)[0];\n",
       "                popup_f392b6941a3170253427638abbc9423f.setContent(html_72953854b06fc57f0dafc33e19fdc2ef);\n",
       "            \n",
       "        \n",
       "\n",
       "        marker_9c6d116914a70804ecc707e15df41733.bindPopup(popup_f392b6941a3170253427638abbc9423f)\n",
       "        ;\n",
       "\n",
       "        \n",
       "    \n",
       "    \n",
       "            var marker_1990d7b7f3893e1a7fabccb467ec6a78 = L.marker(\n",
       "                [23.139889002366708, -82.38110916178115],\n",
       "                {\n",
       "}\n",
       "            ).addTo(map_c1bd0692b3c890e2cab86875cb676aa0);\n",
       "        \n",
       "    \n",
       "            var icon_bee4d432911a1bfe7c444524ab3d526e = L.AwesomeMarkers.icon(\n",
       "                {\n",
       "  &quot;markerColor&quot;: &quot;red&quot;,\n",
       "  &quot;iconColor&quot;: &quot;white&quot;,\n",
       "  &quot;icon&quot;: &quot;cutlery&quot;,\n",
       "  &quot;prefix&quot;: &quot;fa&quot;,\n",
       "  &quot;extraClasses&quot;: &quot;fa-rotate-0&quot;,\n",
       "}\n",
       "            );\n",
       "            marker_1990d7b7f3893e1a7fabccb467ec6a78.setIcon(icon_bee4d432911a1bfe7c444524ab3d526e);\n",
       "        \n",
       "    \n",
       "        var popup_a5467d21e9c4a781eb3a2ce9554367fb = L.popup({\n",
       "  &quot;maxWidth&quot;: &quot;100%&quot;,\n",
       "});\n",
       "\n",
       "        \n",
       "            \n",
       "                var html_c982b4ace5af99b24b76c428bcc31f9f = $(`&lt;div id=&quot;html_c982b4ace5af99b24b76c428bcc31f9f&quot; style=&quot;width: 100.0%; height: 100.0%;&quot;&gt;(&quot;&lt;b style=&#x27;font-size: 18px; &#x27;&gt;Distrito 25&lt;/b&gt;&lt;br&gt;Direccion: Calle 25 entre M y N, Vedado&quot;, &quot;Especialidades: [&#x27;Comida mexicana&#x27;]&quot;)&lt;/div&gt;`)[0];\n",
       "                popup_a5467d21e9c4a781eb3a2ce9554367fb.setContent(html_c982b4ace5af99b24b76c428bcc31f9f);\n",
       "            \n",
       "        \n",
       "\n",
       "        marker_1990d7b7f3893e1a7fabccb467ec6a78.bindPopup(popup_a5467d21e9c4a781eb3a2ce9554367fb)\n",
       "        ;\n",
       "\n",
       "        \n",
       "    \n",
       "    \n",
       "            var marker_920f7efc852a1be29a58541056eeb054 = L.marker(\n",
       "                [23.098641623513977, -82.36221985109562],\n",
       "                {\n",
       "}\n",
       "            ).addTo(map_c1bd0692b3c890e2cab86875cb676aa0);\n",
       "        \n",
       "    \n",
       "            var icon_1517e131aecc2de65377d0e94f75bcae = L.AwesomeMarkers.icon(\n",
       "                {\n",
       "  &quot;markerColor&quot;: &quot;red&quot;,\n",
       "  &quot;iconColor&quot;: &quot;white&quot;,\n",
       "  &quot;icon&quot;: &quot;cutlery&quot;,\n",
       "  &quot;prefix&quot;: &quot;fa&quot;,\n",
       "  &quot;extraClasses&quot;: &quot;fa-rotate-0&quot;,\n",
       "}\n",
       "            );\n",
       "            marker_920f7efc852a1be29a58541056eeb054.setIcon(icon_1517e131aecc2de65377d0e94f75bcae);\n",
       "        \n",
       "    \n",
       "        var popup_1d8c99d9c70d7d04f154cbe546440271 = L.popup({\n",
       "  &quot;maxWidth&quot;: &quot;100%&quot;,\n",
       "});\n",
       "\n",
       "        \n",
       "            \n",
       "                var html_4a9dac8c5a0c042ce233b36e6252a106 = $(`&lt;div id=&quot;html_4a9dac8c5a0c042ce233b36e6252a106&quot; style=&quot;width: 100.0%; height: 100.0%;&quot;&gt;(&quot;&lt;b style=&#x27;font-size: 18px; &#x27;&gt;Diverxo&lt;/b&gt;&lt;br&gt;Direccion: Calzada de 10 de octubre #904 entre Luz Oeste y Lacret&quot;, &quot;Especialidades: [&#x27;cubana&#x27;]&quot;)&lt;/div&gt;`)[0];\n",
       "                popup_1d8c99d9c70d7d04f154cbe546440271.setContent(html_4a9dac8c5a0c042ce233b36e6252a106);\n",
       "            \n",
       "        \n",
       "\n",
       "        marker_920f7efc852a1be29a58541056eeb054.bindPopup(popup_1d8c99d9c70d7d04f154cbe546440271)\n",
       "        ;\n",
       "\n",
       "        \n",
       "    \n",
       "    \n",
       "            var marker_3314405cf48c3cc3c0bf156feb01e7ad = L.marker(\n",
       "                [23.149840788441544, -82.3560208170218],\n",
       "                {\n",
       "}\n",
       "            ).addTo(map_c1bd0692b3c890e2cab86875cb676aa0);\n",
       "        \n",
       "    \n",
       "            var icon_8d73801bd16450e9fd6d492f4a5fbc70 = L.AwesomeMarkers.icon(\n",
       "                {\n",
       "  &quot;markerColor&quot;: &quot;red&quot;,\n",
       "  &quot;iconColor&quot;: &quot;white&quot;,\n",
       "  &quot;icon&quot;: &quot;cutlery&quot;,\n",
       "  &quot;prefix&quot;: &quot;fa&quot;,\n",
       "  &quot;extraClasses&quot;: &quot;fa-rotate-0&quot;,\n",
       "}\n",
       "            );\n",
       "            marker_3314405cf48c3cc3c0bf156feb01e7ad.setIcon(icon_8d73801bd16450e9fd6d492f4a5fbc70);\n",
       "        \n",
       "    \n",
       "        var popup_8056041f3aed393ef6aa7b2e9794f7fc = L.popup({\n",
       "  &quot;maxWidth&quot;: &quot;100%&quot;,\n",
       "});\n",
       "\n",
       "        \n",
       "            \n",
       "                var html_bebcac35db011645ede4aa71e27d7dbe = $(`&lt;div id=&quot;html_bebcac35db011645ede4aa71e27d7dbe&quot; style=&quot;width: 100.0%; height: 100.0%;&quot;&gt;(&quot;&lt;b style=&#x27;font-size: 18px; &#x27;&gt;Los Doce Apostoles&lt;/b&gt;&lt;br&gt;Direccion: Complejo Morro Cabana,Via Monumental&quot;, &#x27;Especialidades: []&#x27;)&lt;/div&gt;`)[0];\n",
       "                popup_8056041f3aed393ef6aa7b2e9794f7fc.setContent(html_bebcac35db011645ede4aa71e27d7dbe);\n",
       "            \n",
       "        \n",
       "\n",
       "        marker_3314405cf48c3cc3c0bf156feb01e7ad.bindPopup(popup_8056041f3aed393ef6aa7b2e9794f7fc)\n",
       "        ;\n",
       "\n",
       "        \n",
       "    \n",
       "    \n",
       "            var marker_7d3fff206aed4ec64cee06b5236991f7 = L.marker(\n",
       "                [23.07542277636338, -82.3589195783884],\n",
       "                {\n",
       "}\n",
       "            ).addTo(map_c1bd0692b3c890e2cab86875cb676aa0);\n",
       "        \n",
       "    \n",
       "            var icon_9f91bceda620cd4264efae847912a9c6 = L.AwesomeMarkers.icon(\n",
       "                {\n",
       "  &quot;markerColor&quot;: &quot;red&quot;,\n",
       "  &quot;iconColor&quot;: &quot;white&quot;,\n",
       "  &quot;icon&quot;: &quot;cutlery&quot;,\n",
       "  &quot;prefix&quot;: &quot;fa&quot;,\n",
       "  &quot;extraClasses&quot;: &quot;fa-rotate-0&quot;,\n",
       "}\n",
       "            );\n",
       "            marker_7d3fff206aed4ec64cee06b5236991f7.setIcon(icon_9f91bceda620cd4264efae847912a9c6);\n",
       "        \n",
       "    \n",
       "        var popup_821e2a34bccd386a20b18c3e94be0683 = L.popup({\n",
       "  &quot;maxWidth&quot;: &quot;100%&quot;,\n",
       "});\n",
       "\n",
       "        \n",
       "            \n",
       "                var html_9f42f206b3cdbbcf6be7e408e38d0ae7 = $(`&lt;div id=&quot;html_9f42f206b3cdbbcf6be7e408e38d0ae7&quot; style=&quot;width: 100.0%; height: 100.0%;&quot;&gt;(&quot;&lt;b style=&#x27;font-size: 18px; &#x27;&gt;Don Burguer&lt;/b&gt;&lt;br&gt;Direccion: Calzada de 10 de Octubre, entre  Aranguren y Santa Isabel, La Palma&quot;, &quot;Especialidades: [&#x27;cubana&#x27;]&quot;)&lt;/div&gt;`)[0];\n",
       "                popup_821e2a34bccd386a20b18c3e94be0683.setContent(html_9f42f206b3cdbbcf6be7e408e38d0ae7);\n",
       "            \n",
       "        \n",
       "\n",
       "        marker_7d3fff206aed4ec64cee06b5236991f7.bindPopup(popup_821e2a34bccd386a20b18c3e94be0683)\n",
       "        ;\n",
       "\n",
       "        \n",
       "    \n",
       "    \n",
       "            var marker_1d324b8c8a975b5c01f4c538cf5b0f4a = L.marker(\n",
       "                [23.077891178709717, -82.31931897477418],\n",
       "                {\n",
       "}\n",
       "            ).addTo(map_c1bd0692b3c890e2cab86875cb676aa0);\n",
       "        \n",
       "    \n",
       "            var icon_699e0efc7bc3608d343c086363fab098 = L.AwesomeMarkers.icon(\n",
       "                {\n",
       "  &quot;markerColor&quot;: &quot;red&quot;,\n",
       "  &quot;iconColor&quot;: &quot;white&quot;,\n",
       "  &quot;icon&quot;: &quot;cutlery&quot;,\n",
       "  &quot;prefix&quot;: &quot;fa&quot;,\n",
       "  &quot;extraClasses&quot;: &quot;fa-rotate-0&quot;,\n",
       "}\n",
       "            );\n",
       "            marker_1d324b8c8a975b5c01f4c538cf5b0f4a.setIcon(icon_699e0efc7bc3608d343c086363fab098);\n",
       "        \n",
       "    \n",
       "        var popup_37df574661852808091e777bea6741d2 = L.popup({\n",
       "  &quot;maxWidth&quot;: &quot;100%&quot;,\n",
       "});\n",
       "\n",
       "        \n",
       "            \n",
       "                var html_a5f13dea0b62b7ba41e85d0db76d2aab = $(`&lt;div id=&quot;html_a5f13dea0b62b7ba41e85d0db76d2aab&quot; style=&quot;width: 100.0%; height: 100.0%;&quot;&gt;(&quot;&lt;b style=&#x27;font-size: 18px; &#x27;&gt;Don Timbon&lt;/b&gt;&lt;br&gt;Direccion: cerca cjon. La Flora&quot;, &quot;Especialidades: [&#x27;italiana&#x27;]&quot;)&lt;/div&gt;`)[0];\n",
       "                popup_37df574661852808091e777bea6741d2.setContent(html_a5f13dea0b62b7ba41e85d0db76d2aab);\n",
       "            \n",
       "        \n",
       "\n",
       "        marker_1d324b8c8a975b5c01f4c538cf5b0f4a.bindPopup(popup_37df574661852808091e777bea6741d2)\n",
       "        ;\n",
       "\n",
       "        \n",
       "    \n",
       "    \n",
       "            var marker_ec60eb09997914107f9474f83771de4b = L.marker(\n",
       "                [23.133178519943957, -82.3706256209112],\n",
       "                {\n",
       "}\n",
       "            ).addTo(map_c1bd0692b3c890e2cab86875cb676aa0);\n",
       "        \n",
       "    \n",
       "            var icon_5236fff187e4a0b6ae4a6659d03b525d = L.AwesomeMarkers.icon(\n",
       "                {\n",
       "  &quot;markerColor&quot;: &quot;red&quot;,\n",
       "  &quot;iconColor&quot;: &quot;white&quot;,\n",
       "  &quot;icon&quot;: &quot;cutlery&quot;,\n",
       "  &quot;prefix&quot;: &quot;fa&quot;,\n",
       "  &quot;extraClasses&quot;: &quot;fa-rotate-0&quot;,\n",
       "}\n",
       "            );\n",
       "            marker_ec60eb09997914107f9474f83771de4b.setIcon(icon_5236fff187e4a0b6ae4a6659d03b525d);\n",
       "        \n",
       "    \n",
       "        var popup_a5fc7a9298cb3ad05c4f75bdf3136c7c = L.popup({\n",
       "  &quot;maxWidth&quot;: &quot;100%&quot;,\n",
       "});\n",
       "\n",
       "        \n",
       "            \n",
       "                var html_ee4cfc6e3905f3aaa0057e01dc44e7b9 = $(`&lt;div id=&quot;html_ee4cfc6e3905f3aaa0057e01dc44e7b9&quot; style=&quot;width: 100.0%; height: 100.0%;&quot;&gt;(&quot;&lt;b style=&#x27;font-size: 18px; &#x27;&gt;Dona Alicia&lt;/b&gt;&lt;br&gt;Direccion:  Calle Reina esq, Padre Varela&quot;, &quot;Especialidades: [&#x27;Criolla&#x27;, &#x27;cubana&#x27;, &#x27;internacional&#x27;, &#x27;italiana&#x27;]&quot;)&lt;/div&gt;`)[0];\n",
       "                popup_a5fc7a9298cb3ad05c4f75bdf3136c7c.setContent(html_ee4cfc6e3905f3aaa0057e01dc44e7b9);\n",
       "            \n",
       "        \n",
       "\n",
       "        marker_ec60eb09997914107f9474f83771de4b.bindPopup(popup_a5fc7a9298cb3ad05c4f75bdf3136c7c)\n",
       "        ;\n",
       "\n",
       "        \n",
       "    \n",
       "    \n",
       "            var marker_09de717e15d82d9ac212916a78a810ed = L.marker(\n",
       "                [23.064390060079617, -82.37574330537674],\n",
       "                {\n",
       "}\n",
       "            ).addTo(map_c1bd0692b3c890e2cab86875cb676aa0);\n",
       "        \n",
       "    \n",
       "            var icon_684fd29efbc40df95e76867e3a520a50 = L.AwesomeMarkers.icon(\n",
       "                {\n",
       "  &quot;markerColor&quot;: &quot;red&quot;,\n",
       "  &quot;iconColor&quot;: &quot;white&quot;,\n",
       "  &quot;icon&quot;: &quot;cutlery&quot;,\n",
       "  &quot;prefix&quot;: &quot;fa&quot;,\n",
       "  &quot;extraClasses&quot;: &quot;fa-rotate-0&quot;,\n",
       "}\n",
       "            );\n",
       "            marker_09de717e15d82d9ac212916a78a810ed.setIcon(icon_684fd29efbc40df95e76867e3a520a50);\n",
       "        \n",
       "    \n",
       "        var popup_d86cd4f6a519ca335b90df1cd623cdee = L.popup({\n",
       "  &quot;maxWidth&quot;: &quot;100%&quot;,\n",
       "});\n",
       "\n",
       "        \n",
       "            \n",
       "                var html_938738dedfce9129b60e4b9791063961 = $(`&lt;div id=&quot;html_938738dedfce9129b60e4b9791063961&quot; style=&quot;width: 100.0%; height: 100.0%;&quot;&gt;(&quot;&lt;b style=&#x27;font-size: 18px; &#x27;&gt;Dona Almira&lt;/b&gt;&lt;br&gt;Direccion: Calle Finlay No.979 % Avenida de Los Pinos y Fernandez de Castro&quot;, &quot;Especialidades: [&#x27;cubana&#x27;]&quot;)&lt;/div&gt;`)[0];\n",
       "                popup_d86cd4f6a519ca335b90df1cd623cdee.setContent(html_938738dedfce9129b60e4b9791063961);\n",
       "            \n",
       "        \n",
       "\n",
       "        marker_09de717e15d82d9ac212916a78a810ed.bindPopup(popup_d86cd4f6a519ca335b90df1cd623cdee)\n",
       "        ;\n",
       "\n",
       "        \n",
       "    \n",
       "    \n",
       "            var marker_293cbf7496ccfa96a154a20f185a43c5 = L.marker(\n",
       "                [23.13720238720189, -82.37935390623745],\n",
       "                {\n",
       "}\n",
       "            ).addTo(map_c1bd0692b3c890e2cab86875cb676aa0);\n",
       "        \n",
       "    \n",
       "            var icon_1e252c3186685e33290c72361492b95f = L.AwesomeMarkers.icon(\n",
       "                {\n",
       "  &quot;markerColor&quot;: &quot;red&quot;,\n",
       "  &quot;iconColor&quot;: &quot;white&quot;,\n",
       "  &quot;icon&quot;: &quot;cutlery&quot;,\n",
       "  &quot;prefix&quot;: &quot;fa&quot;,\n",
       "  &quot;extraClasses&quot;: &quot;fa-rotate-0&quot;,\n",
       "}\n",
       "            );\n",
       "            marker_293cbf7496ccfa96a154a20f185a43c5.setIcon(icon_1e252c3186685e33290c72361492b95f);\n",
       "        \n",
       "    \n",
       "        var popup_7df9f4632c51fbc7f70f41d1486a73a2 = L.popup({\n",
       "  &quot;maxWidth&quot;: &quot;100%&quot;,\n",
       "});\n",
       "\n",
       "        \n",
       "            \n",
       "                var html_5d45936c3f9a0c1f41e7914ff104e264 = $(`&lt;div id=&quot;html_5d45936c3f9a0c1f41e7914ff104e264&quot; style=&quot;width: 100.0%; height: 100.0%;&quot;&gt;(&quot;&lt;b style=&#x27;font-size: 18px; &#x27;&gt;Doña Lis Pizza&lt;/b&gt;&lt;br&gt;Direccion: 1169 A Neptuno&quot;, &quot;Especialidades: [&#x27;Pizzas&#x27;]&quot;)&lt;/div&gt;`)[0];\n",
       "                popup_7df9f4632c51fbc7f70f41d1486a73a2.setContent(html_5d45936c3f9a0c1f41e7914ff104e264);\n",
       "            \n",
       "        \n",
       "\n",
       "        marker_293cbf7496ccfa96a154a20f185a43c5.bindPopup(popup_7df9f4632c51fbc7f70f41d1486a73a2)\n",
       "        ;\n",
       "\n",
       "        \n",
       "    \n",
       "    \n",
       "            var marker_cceb1a199545abc3b60591ed9350047a = L.marker(\n",
       "                [23.1026716054629, -82.34026837449797],\n",
       "                {\n",
       "}\n",
       "            ).addTo(map_c1bd0692b3c890e2cab86875cb676aa0);\n",
       "        \n",
       "    \n",
       "            var icon_598665782ee882138c74a8accf6ca66f = L.AwesomeMarkers.icon(\n",
       "                {\n",
       "  &quot;markerColor&quot;: &quot;red&quot;,\n",
       "  &quot;iconColor&quot;: &quot;white&quot;,\n",
       "  &quot;icon&quot;: &quot;cutlery&quot;,\n",
       "  &quot;prefix&quot;: &quot;fa&quot;,\n",
       "  &quot;extraClasses&quot;: &quot;fa-rotate-0&quot;,\n",
       "}\n",
       "            );\n",
       "            marker_cceb1a199545abc3b60591ed9350047a.setIcon(icon_598665782ee882138c74a8accf6ca66f);\n",
       "        \n",
       "    \n",
       "        var popup_ef3016614c062225305d7a5d1a162ab9 = L.popup({\n",
       "  &quot;maxWidth&quot;: &quot;100%&quot;,\n",
       "});\n",
       "\n",
       "        \n",
       "            \n",
       "                var html_d4a39a75a63cb3188e54043ba44b6054 = $(`&lt;div id=&quot;html_d4a39a75a63cb3188e54043ba44b6054&quot; style=&quot;width: 100.0%; height: 100.0%;&quot;&gt;(&quot;&lt;b style=&#x27;font-size: 18px; &#x27;&gt;Don Balbino s&lt;/b&gt;&lt;br&gt;Direccion: Calzada San Miguel del Padrón entre 8va y B&quot;, &quot;Especialidades: [&#x27;criolla&#x27;, &#x27;tapas&#x27;]&quot;)&lt;/div&gt;`)[0];\n",
       "                popup_ef3016614c062225305d7a5d1a162ab9.setContent(html_d4a39a75a63cb3188e54043ba44b6054);\n",
       "            \n",
       "        \n",
       "\n",
       "        marker_cceb1a199545abc3b60591ed9350047a.bindPopup(popup_ef3016614c062225305d7a5d1a162ab9)\n",
       "        ;\n",
       "\n",
       "        \n",
       "    \n",
       "    \n",
       "            var marker_c4629366bccae4da938591a92f9487bb = L.marker(\n",
       "                [23.101766474956417, -82.37161130333365],\n",
       "                {\n",
       "}\n",
       "            ).addTo(map_c1bd0692b3c890e2cab86875cb676aa0);\n",
       "        \n",
       "    \n",
       "            var icon_cbf23858046595187f411a82bc9ebe82 = L.AwesomeMarkers.icon(\n",
       "                {\n",
       "  &quot;markerColor&quot;: &quot;red&quot;,\n",
       "  &quot;iconColor&quot;: &quot;white&quot;,\n",
       "  &quot;icon&quot;: &quot;cutlery&quot;,\n",
       "  &quot;prefix&quot;: &quot;fa&quot;,\n",
       "  &quot;extraClasses&quot;: &quot;fa-rotate-0&quot;,\n",
       "}\n",
       "            );\n",
       "            marker_c4629366bccae4da938591a92f9487bb.setIcon(icon_cbf23858046595187f411a82bc9ebe82);\n",
       "        \n",
       "    \n",
       "        var popup_143b5d81b9aed578fa08d73661d50f65 = L.popup({\n",
       "  &quot;maxWidth&quot;: &quot;100%&quot;,\n",
       "});\n",
       "\n",
       "        \n",
       "            \n",
       "                var html_6f85436f07d19e530c25a0f6d4b27887 = $(`&lt;div id=&quot;html_6f85436f07d19e530c25a0f6d4b27887&quot; style=&quot;width: 100.0%; height: 100.0%;&quot;&gt;(&quot;&lt;b style=&#x27;font-size: 18px; &#x27;&gt;Don Cuenca&lt;/b&gt;&lt;br&gt;Direccion: General Lee entre Destrampre y Figueroa, Santo Suarez&quot;, &quot;Especialidades: [&#x27;internacional&#x27;, &#x27;criolla&#x27;]&quot;)&lt;/div&gt;`)[0];\n",
       "                popup_143b5d81b9aed578fa08d73661d50f65.setContent(html_6f85436f07d19e530c25a0f6d4b27887);\n",
       "            \n",
       "        \n",
       "\n",
       "        marker_c4629366bccae4da938591a92f9487bb.bindPopup(popup_143b5d81b9aed578fa08d73661d50f65)\n",
       "        ;\n",
       "\n",
       "        \n",
       "    \n",
       "    \n",
       "            var marker_6fdfff05702d86a3a8bf12a39aed43d4 = L.marker(\n",
       "                [23.133855871057047, -82.37691017469287],\n",
       "                {\n",
       "}\n",
       "            ).addTo(map_c1bd0692b3c890e2cab86875cb676aa0);\n",
       "        \n",
       "    \n",
       "            var icon_44528817c6d416a378cd678b7437ad53 = L.AwesomeMarkers.icon(\n",
       "                {\n",
       "  &quot;markerColor&quot;: &quot;red&quot;,\n",
       "  &quot;iconColor&quot;: &quot;white&quot;,\n",
       "  &quot;icon&quot;: &quot;cutlery&quot;,\n",
       "  &quot;prefix&quot;: &quot;fa&quot;,\n",
       "  &quot;extraClasses&quot;: &quot;fa-rotate-0&quot;,\n",
       "}\n",
       "            );\n",
       "            marker_6fdfff05702d86a3a8bf12a39aed43d4.setIcon(icon_44528817c6d416a378cd678b7437ad53);\n",
       "        \n",
       "    \n",
       "        var popup_223eafec42361a45471cbb454b67fafb = L.popup({\n",
       "  &quot;maxWidth&quot;: &quot;100%&quot;,\n",
       "});\n",
       "\n",
       "        \n",
       "            \n",
       "                var html_9e4ebf847e6ea18ad77a545d826a04fc = $(`&lt;div id=&quot;html_9e4ebf847e6ea18ad77a545d826a04fc&quot; style=&quot;width: 100.0%; height: 100.0%;&quot;&gt;(&quot;&lt;b style=&#x27;font-size: 18px; &#x27;&gt;nan&lt;/b&gt;&lt;br&gt;Direccion: Zanja entre San Francisco y Espada&quot;, &quot;Especialidades: [&#x27;italiana&#x27;]&quot;)&lt;/div&gt;`)[0];\n",
       "                popup_223eafec42361a45471cbb454b67fafb.setContent(html_9e4ebf847e6ea18ad77a545d826a04fc);\n",
       "            \n",
       "        \n",
       "\n",
       "        marker_6fdfff05702d86a3a8bf12a39aed43d4.bindPopup(popup_223eafec42361a45471cbb454b67fafb)\n",
       "        ;\n",
       "\n",
       "        \n",
       "    \n",
       "    \n",
       "            var marker_755240f7c0f636b7632f03f66cd14b34 = L.marker(\n",
       "                [23.086352376882374, -82.36493068982392],\n",
       "                {\n",
       "}\n",
       "            ).addTo(map_c1bd0692b3c890e2cab86875cb676aa0);\n",
       "        \n",
       "    \n",
       "            var icon_9013a8c076ee1be8cb3ff516ad6a918d = L.AwesomeMarkers.icon(\n",
       "                {\n",
       "  &quot;markerColor&quot;: &quot;red&quot;,\n",
       "  &quot;iconColor&quot;: &quot;white&quot;,\n",
       "  &quot;icon&quot;: &quot;cutlery&quot;,\n",
       "  &quot;prefix&quot;: &quot;fa&quot;,\n",
       "  &quot;extraClasses&quot;: &quot;fa-rotate-0&quot;,\n",
       "}\n",
       "            );\n",
       "            marker_755240f7c0f636b7632f03f66cd14b34.setIcon(icon_9013a8c076ee1be8cb3ff516ad6a918d);\n",
       "        \n",
       "    \n",
       "        var popup_38e2b35099dfd5a5d2cbad7468768b45 = L.popup({\n",
       "  &quot;maxWidth&quot;: &quot;100%&quot;,\n",
       "});\n",
       "\n",
       "        \n",
       "            \n",
       "                var html_eadb4aa1b152b675d04f4e31e7db22f5 = $(`&lt;div id=&quot;html_eadb4aa1b152b675d04f4e31e7db22f5&quot; style=&quot;width: 100.0%; height: 100.0%;&quot;&gt;(&quot;&lt;b style=&#x27;font-size: 18px; &#x27;&gt;D&#x27;Mitu&lt;/b&gt;&lt;br&gt;Direccion: Calle 1ra #64 Altos entre Gertrudis y Lagueruela, La Víbora&quot;, &#x27;Especialidades: nan&#x27;)&lt;/div&gt;`)[0];\n",
       "                popup_38e2b35099dfd5a5d2cbad7468768b45.setContent(html_eadb4aa1b152b675d04f4e31e7db22f5);\n",
       "            \n",
       "        \n",
       "\n",
       "        marker_755240f7c0f636b7632f03f66cd14b34.bindPopup(popup_38e2b35099dfd5a5d2cbad7468768b45)\n",
       "        ;\n",
       "\n",
       "        \n",
       "    \n",
       "    \n",
       "            var marker_054cea65b91694bbf8f79025e8438aca = L.marker(\n",
       "                [23.043056190451246, -82.26299304585932],\n",
       "                {\n",
       "}\n",
       "            ).addTo(map_c1bd0692b3c890e2cab86875cb676aa0);\n",
       "        \n",
       "    \n",
       "            var icon_d097691f95d544de7859091a18cd1b06 = L.AwesomeMarkers.icon(\n",
       "                {\n",
       "  &quot;markerColor&quot;: &quot;red&quot;,\n",
       "  &quot;iconColor&quot;: &quot;white&quot;,\n",
       "  &quot;icon&quot;: &quot;cutlery&quot;,\n",
       "  &quot;prefix&quot;: &quot;fa&quot;,\n",
       "  &quot;extraClasses&quot;: &quot;fa-rotate-0&quot;,\n",
       "}\n",
       "            );\n",
       "            marker_054cea65b91694bbf8f79025e8438aca.setIcon(icon_d097691f95d544de7859091a18cd1b06);\n",
       "        \n",
       "    \n",
       "        var popup_6024426649f3cec803c463b15568c81d = L.popup({\n",
       "  &quot;maxWidth&quot;: &quot;100%&quot;,\n",
       "});\n",
       "\n",
       "        \n",
       "            \n",
       "                var html_3e8a9c77fa75353bad563f54ecc95112 = $(`&lt;div id=&quot;html_3e8a9c77fa75353bad563f54ecc95112&quot; style=&quot;width: 100.0%; height: 100.0%;&quot;&gt;(&quot;&lt;b style=&#x27;font-size: 18px; &#x27;&gt;El Bache&lt;/b&gt;&lt;br&gt;Direccion: Calle 30 entre 95 y 97,Las Brisas&quot;, &quot;Especialidades: [&#x27;italiana&#x27;]&quot;)&lt;/div&gt;`)[0];\n",
       "                popup_6024426649f3cec803c463b15568c81d.setContent(html_3e8a9c77fa75353bad563f54ecc95112);\n",
       "            \n",
       "        \n",
       "\n",
       "        marker_054cea65b91694bbf8f79025e8438aca.bindPopup(popup_6024426649f3cec803c463b15568c81d)\n",
       "        ;\n",
       "\n",
       "        \n",
       "    \n",
       "    \n",
       "            var marker_234c65f3881a5b2a856be8a6451151c7 = L.marker(\n",
       "                [23.13606132355121, -82.390171562352],\n",
       "                {\n",
       "}\n",
       "            ).addTo(map_c1bd0692b3c890e2cab86875cb676aa0);\n",
       "        \n",
       "    \n",
       "            var icon_ffe93e2131466cb44ff87e0458862dc8 = L.AwesomeMarkers.icon(\n",
       "                {\n",
       "  &quot;markerColor&quot;: &quot;red&quot;,\n",
       "  &quot;iconColor&quot;: &quot;white&quot;,\n",
       "  &quot;icon&quot;: &quot;cutlery&quot;,\n",
       "  &quot;prefix&quot;: &quot;fa&quot;,\n",
       "  &quot;extraClasses&quot;: &quot;fa-rotate-0&quot;,\n",
       "}\n",
       "            );\n",
       "            marker_234c65f3881a5b2a856be8a6451151c7.setIcon(icon_ffe93e2131466cb44ff87e0458862dc8);\n",
       "        \n",
       "    \n",
       "        var popup_ad611d29a42e5db585d4315b3d1dae58 = L.popup({\n",
       "  &quot;maxWidth&quot;: &quot;100%&quot;,\n",
       "});\n",
       "\n",
       "        \n",
       "            \n",
       "                var html_bb93e8b769c392bcd544dc6930dd81e7 = $(`&lt;div id=&quot;html_bb93e8b769c392bcd544dc6930dd81e7&quot; style=&quot;width: 100.0%; height: 100.0%;&quot;&gt;(&quot;&lt;b style=&#x27;font-size: 18px; &#x27;&gt;El Balcón de Bruno y Pilar&lt;/b&gt;&lt;br&gt;Direccion: Calle 21 entre E y F, Vedado&quot;, &quot;Especialidades: [&#x27;comida cubana&#x27;, &#x27;latina&#x27;, &#x27;caribeña&#x27;]&quot;)&lt;/div&gt;`)[0];\n",
       "                popup_ad611d29a42e5db585d4315b3d1dae58.setContent(html_bb93e8b769c392bcd544dc6930dd81e7);\n",
       "            \n",
       "        \n",
       "\n",
       "        marker_234c65f3881a5b2a856be8a6451151c7.bindPopup(popup_ad611d29a42e5db585d4315b3d1dae58)\n",
       "        ;\n",
       "\n",
       "        \n",
       "    \n",
       "    \n",
       "            var marker_6cf0b2fe5ed32a9a959df88229e24312 = L.marker(\n",
       "                [23.13092126125738, -82.4081035552695],\n",
       "                {\n",
       "}\n",
       "            ).addTo(map_c1bd0692b3c890e2cab86875cb676aa0);\n",
       "        \n",
       "    \n",
       "            var icon_02df3a9998e4ef8d2f34163716299dfe = L.AwesomeMarkers.icon(\n",
       "                {\n",
       "  &quot;markerColor&quot;: &quot;red&quot;,\n",
       "  &quot;iconColor&quot;: &quot;white&quot;,\n",
       "  &quot;icon&quot;: &quot;cutlery&quot;,\n",
       "  &quot;prefix&quot;: &quot;fa&quot;,\n",
       "  &quot;extraClasses&quot;: &quot;fa-rotate-0&quot;,\n",
       "}\n",
       "            );\n",
       "            marker_6cf0b2fe5ed32a9a959df88229e24312.setIcon(icon_02df3a9998e4ef8d2f34163716299dfe);\n",
       "        \n",
       "    \n",
       "        var popup_29ac1675c042ff89e4e4cfd1791cba73 = L.popup({\n",
       "  &quot;maxWidth&quot;: &quot;100%&quot;,\n",
       "});\n",
       "\n",
       "        \n",
       "            \n",
       "                var html_1e7c5e4080bf08531b3342bf2198782f = $(`&lt;div id=&quot;html_1e7c5e4080bf08531b3342bf2198782f&quot; style=&quot;width: 100.0%; height: 100.0%;&quot;&gt;(&quot;&lt;b style=&#x27;font-size: 18px; &#x27;&gt;El bejuco&lt;/b&gt;&lt;br&gt;Direccion: Calle Línea 1206 e/ 18 y 20, Vedado&quot;, &quot;Especialidades: [&#x27;Entrantes&#x27;]&quot;)&lt;/div&gt;`)[0];\n",
       "                popup_29ac1675c042ff89e4e4cfd1791cba73.setContent(html_1e7c5e4080bf08531b3342bf2198782f);\n",
       "            \n",
       "        \n",
       "\n",
       "        marker_6cf0b2fe5ed32a9a959df88229e24312.bindPopup(popup_29ac1675c042ff89e4e4cfd1791cba73)\n",
       "        ;\n",
       "\n",
       "        \n",
       "    \n",
       "    \n",
       "            var marker_430d4087a3f35125be954f7510bc1077 = L.marker(\n",
       "                [23.138186063729933, -82.37857239003395],\n",
       "                {\n",
       "}\n",
       "            ).addTo(map_c1bd0692b3c890e2cab86875cb676aa0);\n",
       "        \n",
       "    \n",
       "            var icon_8be8998e983528b06538bb193a8617bf = L.AwesomeMarkers.icon(\n",
       "                {\n",
       "  &quot;markerColor&quot;: &quot;red&quot;,\n",
       "  &quot;iconColor&quot;: &quot;white&quot;,\n",
       "  &quot;icon&quot;: &quot;cutlery&quot;,\n",
       "  &quot;prefix&quot;: &quot;fa&quot;,\n",
       "  &quot;extraClasses&quot;: &quot;fa-rotate-0&quot;,\n",
       "}\n",
       "            );\n",
       "            marker_430d4087a3f35125be954f7510bc1077.setIcon(icon_8be8998e983528b06538bb193a8617bf);\n",
       "        \n",
       "    \n",
       "        var popup_960270f588662867f1aaa3780bcc6fce = L.popup({\n",
       "  &quot;maxWidth&quot;: &quot;100%&quot;,\n",
       "});\n",
       "\n",
       "        \n",
       "            \n",
       "                var html_e0923f9cc353d42525ae09ffe5542335 = $(`&lt;div id=&quot;html_e0923f9cc353d42525ae09ffe5542335&quot; style=&quot;width: 100.0%; height: 100.0%;&quot;&gt;(&quot;&lt;b style=&#x27;font-size: 18px; &#x27;&gt;El Biki&lt;/b&gt;&lt;br&gt;Direccion: Infanta entre San Lazaro y Concordia&quot;, &quot;Especialidades: [&#x27;Cubana&#x27;, &#x27;Mixta&#x27;]&quot;)&lt;/div&gt;`)[0];\n",
       "                popup_960270f588662867f1aaa3780bcc6fce.setContent(html_e0923f9cc353d42525ae09ffe5542335);\n",
       "            \n",
       "        \n",
       "\n",
       "        marker_430d4087a3f35125be954f7510bc1077.bindPopup(popup_960270f588662867f1aaa3780bcc6fce)\n",
       "        ;\n",
       "\n",
       "        \n",
       "    \n",
       "    \n",
       "            var marker_d8274806620a8ad41e7452d3db72d457 = L.marker(\n",
       "                [23.12735682638094, -82.40996375436582],\n",
       "                {\n",
       "}\n",
       "            ).addTo(map_c1bd0692b3c890e2cab86875cb676aa0);\n",
       "        \n",
       "    \n",
       "            var icon_c3b519a3387174258fc03fdec06e0ede = L.AwesomeMarkers.icon(\n",
       "                {\n",
       "  &quot;markerColor&quot;: &quot;red&quot;,\n",
       "  &quot;iconColor&quot;: &quot;white&quot;,\n",
       "  &quot;icon&quot;: &quot;cutlery&quot;,\n",
       "  &quot;prefix&quot;: &quot;fa&quot;,\n",
       "  &quot;extraClasses&quot;: &quot;fa-rotate-0&quot;,\n",
       "}\n",
       "            );\n",
       "            marker_d8274806620a8ad41e7452d3db72d457.setIcon(icon_c3b519a3387174258fc03fdec06e0ede);\n",
       "        \n",
       "    \n",
       "        var popup_2f4255f7d3d47ef7074b47e8940500f8 = L.popup({\n",
       "  &quot;maxWidth&quot;: &quot;100%&quot;,\n",
       "});\n",
       "\n",
       "        \n",
       "            \n",
       "                var html_f9d4066b4b8e00dfc25c2ff23c8b442c = $(`&lt;div id=&quot;html_f9d4066b4b8e00dfc25c2ff23c8b442c&quot; style=&quot;width: 100.0%; height: 100.0%;&quot;&gt;(&quot;&lt;b style=&#x27;font-size: 18px; &#x27;&gt;El cocinero&lt;/b&gt;&lt;br&gt;Direccion: Calle 26 #57 entre 11 y 13, Vedado&quot;, &quot;Especialidades: [&#x27;comida caribeña&#x27;, &#x27;latina&#x27;, &#x27;cubana&#x27;]&quot;)&lt;/div&gt;`)[0];\n",
       "                popup_2f4255f7d3d47ef7074b47e8940500f8.setContent(html_f9d4066b4b8e00dfc25c2ff23c8b442c);\n",
       "            \n",
       "        \n",
       "\n",
       "        marker_d8274806620a8ad41e7452d3db72d457.bindPopup(popup_2f4255f7d3d47ef7074b47e8940500f8)\n",
       "        ;\n",
       "\n",
       "        \n",
       "    \n",
       "    \n",
       "            var marker_b1b674e7abd1c1c2720f956a40f3332e = L.marker(\n",
       "                [23.044405916184044, -82.24840719111886],\n",
       "                {\n",
       "}\n",
       "            ).addTo(map_c1bd0692b3c890e2cab86875cb676aa0);\n",
       "        \n",
       "    \n",
       "            var icon_e70f6dca016b42290996d48a6c32f6b6 = L.AwesomeMarkers.icon(\n",
       "                {\n",
       "  &quot;markerColor&quot;: &quot;red&quot;,\n",
       "  &quot;iconColor&quot;: &quot;white&quot;,\n",
       "  &quot;icon&quot;: &quot;cutlery&quot;,\n",
       "  &quot;prefix&quot;: &quot;fa&quot;,\n",
       "  &quot;extraClasses&quot;: &quot;fa-rotate-0&quot;,\n",
       "}\n",
       "            );\n",
       "            marker_b1b674e7abd1c1c2720f956a40f3332e.setIcon(icon_e70f6dca016b42290996d48a6c32f6b6);\n",
       "        \n",
       "    \n",
       "        var popup_8897017593de30390b1178c4d11ca8df = L.popup({\n",
       "  &quot;maxWidth&quot;: &quot;100%&quot;,\n",
       "});\n",
       "\n",
       "        \n",
       "            \n",
       "                var html_c41624a6311e14937a268c6363cb0862 = $(`&lt;div id=&quot;html_c41624a6311e14937a268c6363cb0862&quot; style=&quot;width: 100.0%; height: 100.0%;&quot;&gt;(&quot;&lt;b style=&#x27;font-size: 18px; &#x27;&gt;El Desafio&lt;/b&gt;&lt;br&gt;Direccion: calle 58 número 6712 % 67 y 69&quot;, &quot;Especialidades: [&#x27;cubana&#x27;]&quot;)&lt;/div&gt;`)[0];\n",
       "                popup_8897017593de30390b1178c4d11ca8df.setContent(html_c41624a6311e14937a268c6363cb0862);\n",
       "            \n",
       "        \n",
       "\n",
       "        marker_b1b674e7abd1c1c2720f956a40f3332e.bindPopup(popup_8897017593de30390b1178c4d11ca8df)\n",
       "        ;\n",
       "\n",
       "        \n",
       "    \n",
       "    \n",
       "            var marker_19d350bab57052acfc258cc8563f5d06 = L.marker(\n",
       "                [23.124197583024838, -82.40414784293249],\n",
       "                {\n",
       "}\n",
       "            ).addTo(map_c1bd0692b3c890e2cab86875cb676aa0);\n",
       "        \n",
       "    \n",
       "            var icon_507e0cb41f6e1dfc446016d1e1e59b32 = L.AwesomeMarkers.icon(\n",
       "                {\n",
       "  &quot;markerColor&quot;: &quot;red&quot;,\n",
       "  &quot;iconColor&quot;: &quot;white&quot;,\n",
       "  &quot;icon&quot;: &quot;cutlery&quot;,\n",
       "  &quot;prefix&quot;: &quot;fa&quot;,\n",
       "  &quot;extraClasses&quot;: &quot;fa-rotate-0&quot;,\n",
       "}\n",
       "            );\n",
       "            marker_19d350bab57052acfc258cc8563f5d06.setIcon(icon_507e0cb41f6e1dfc446016d1e1e59b32);\n",
       "        \n",
       "    \n",
       "        var popup_de6f39f029ffea5c400d45bf88f5392f = L.popup({\n",
       "  &quot;maxWidth&quot;: &quot;100%&quot;,\n",
       "});\n",
       "\n",
       "        \n",
       "            \n",
       "                var html_81c4bd1af2ba003d750f1989de9a95eb = $(`&lt;div id=&quot;html_81c4bd1af2ba003d750f1989de9a95eb&quot; style=&quot;width: 100.0%; height: 100.0%;&quot;&gt;(&quot;&lt;b style=&#x27;font-size: 18px; &#x27;&gt;El Farallon&lt;/b&gt;&lt;br&gt;Direccion: Calle 22 #361, esq. 23, Vedado&quot;, &quot;Especialidades: [&#x27;comida cubana&#x27;, &#x27;caribeña&#x27;, &#x27;latina&#x27;, &#x27;italiana&#x27;]&quot;)&lt;/div&gt;`)[0];\n",
       "                popup_de6f39f029ffea5c400d45bf88f5392f.setContent(html_81c4bd1af2ba003d750f1989de9a95eb);\n",
       "            \n",
       "        \n",
       "\n",
       "        marker_19d350bab57052acfc258cc8563f5d06.bindPopup(popup_de6f39f029ffea5c400d45bf88f5392f)\n",
       "        ;\n",
       "\n",
       "        \n",
       "    \n",
       "    \n",
       "            var marker_f7e1eeefd3afbf88a15d32912a89269c = L.marker(\n",
       "                [23.13993930039699, -82.39045883912888],\n",
       "                {\n",
       "}\n",
       "            ).addTo(map_c1bd0692b3c890e2cab86875cb676aa0);\n",
       "        \n",
       "    \n",
       "            var icon_d69bc86bab86063ab8fba8fe109a43c7 = L.AwesomeMarkers.icon(\n",
       "                {\n",
       "  &quot;markerColor&quot;: &quot;red&quot;,\n",
       "  &quot;iconColor&quot;: &quot;white&quot;,\n",
       "  &quot;icon&quot;: &quot;cutlery&quot;,\n",
       "  &quot;prefix&quot;: &quot;fa&quot;,\n",
       "  &quot;extraClasses&quot;: &quot;fa-rotate-0&quot;,\n",
       "}\n",
       "            );\n",
       "            marker_f7e1eeefd3afbf88a15d32912a89269c.setIcon(icon_d69bc86bab86063ab8fba8fe109a43c7);\n",
       "        \n",
       "    \n",
       "        var popup_82a53b466b836cfec1af1a1c9573373f = L.popup({\n",
       "  &quot;maxWidth&quot;: &quot;100%&quot;,\n",
       "});\n",
       "\n",
       "        \n",
       "            \n",
       "                var html_3c17a1c460045bc51e9f294f1f90ab3f = $(`&lt;div id=&quot;html_3c17a1c460045bc51e9f294f1f90ab3f&quot; style=&quot;width: 100.0%; height: 100.0%;&quot;&gt;(&quot;&lt;b style=&#x27;font-size: 18px; &#x27;&gt;El Idilio&lt;/b&gt;&lt;br&gt;Direccion: Calle G esquina 15, Vedado&quot;, &quot;Especialidades: [&#x27;comida cubana&#x27;, &#x27;mariscos&#x27;]&quot;)&lt;/div&gt;`)[0];\n",
       "                popup_82a53b466b836cfec1af1a1c9573373f.setContent(html_3c17a1c460045bc51e9f294f1f90ab3f);\n",
       "            \n",
       "        \n",
       "\n",
       "        marker_f7e1eeefd3afbf88a15d32912a89269c.bindPopup(popup_82a53b466b836cfec1af1a1c9573373f)\n",
       "        ;\n",
       "\n",
       "        \n",
       "    \n",
       "    \n",
       "            var marker_e5398193eb8b220fa1630f7ed28b0f40 = L.marker(\n",
       "                [23.13577030941659, -82.35714206462553],\n",
       "                {\n",
       "}\n",
       "            ).addTo(map_c1bd0692b3c890e2cab86875cb676aa0);\n",
       "        \n",
       "    \n",
       "            var icon_0c93580b812e43b82570fbfde97ecaed = L.AwesomeMarkers.icon(\n",
       "                {\n",
       "  &quot;markerColor&quot;: &quot;red&quot;,\n",
       "  &quot;iconColor&quot;: &quot;white&quot;,\n",
       "  &quot;icon&quot;: &quot;cutlery&quot;,\n",
       "  &quot;prefix&quot;: &quot;fa&quot;,\n",
       "  &quot;extraClasses&quot;: &quot;fa-rotate-0&quot;,\n",
       "}\n",
       "            );\n",
       "            marker_e5398193eb8b220fa1630f7ed28b0f40.setIcon(icon_0c93580b812e43b82570fbfde97ecaed);\n",
       "        \n",
       "    \n",
       "        var popup_76bb53f766f0a2c78a4c383fb44d5f40 = L.popup({\n",
       "  &quot;maxWidth&quot;: &quot;100%&quot;,\n",
       "});\n",
       "\n",
       "        \n",
       "            \n",
       "                var html_8cf4ef8e78c39d8c1c409fc22ff02721 = $(`&lt;div id=&quot;html_8cf4ef8e78c39d8c1c409fc22ff02721&quot; style=&quot;width: 100.0%; height: 100.0%;&quot;&gt;(&quot;&lt;b style=&#x27;font-size: 18px; &#x27;&gt;El_Kilometro_Zero&lt;/b&gt;&lt;br&gt;Direccion: Monserrate #437 Esq Teniente Rey&quot;, &quot;Especialidades: [&#x27;criolla&#x27;]&quot;)&lt;/div&gt;`)[0];\n",
       "                popup_76bb53f766f0a2c78a4c383fb44d5f40.setContent(html_8cf4ef8e78c39d8c1c409fc22ff02721);\n",
       "            \n",
       "        \n",
       "\n",
       "        marker_e5398193eb8b220fa1630f7ed28b0f40.bindPopup(popup_76bb53f766f0a2c78a4c383fb44d5f40)\n",
       "        ;\n",
       "\n",
       "        \n",
       "    \n",
       "    \n",
       "            var marker_0207efe5434d37070f7dfd74c2a12ccc = L.marker(\n",
       "                [23.130866904291352, -82.30698134006616],\n",
       "                {\n",
       "}\n",
       "            ).addTo(map_c1bd0692b3c890e2cab86875cb676aa0);\n",
       "        \n",
       "    \n",
       "            var icon_0cb2eac18cb72d6c48388a3e0d1cbc02 = L.AwesomeMarkers.icon(\n",
       "                {\n",
       "  &quot;markerColor&quot;: &quot;red&quot;,\n",
       "  &quot;iconColor&quot;: &quot;white&quot;,\n",
       "  &quot;icon&quot;: &quot;cutlery&quot;,\n",
       "  &quot;prefix&quot;: &quot;fa&quot;,\n",
       "  &quot;extraClasses&quot;: &quot;fa-rotate-0&quot;,\n",
       "}\n",
       "            );\n",
       "            marker_0207efe5434d37070f7dfd74c2a12ccc.setIcon(icon_0cb2eac18cb72d6c48388a3e0d1cbc02);\n",
       "        \n",
       "    \n",
       "        var popup_391861f4ff34e2df4c7461f8c09ca6a3 = L.popup({\n",
       "  &quot;maxWidth&quot;: &quot;100%&quot;,\n",
       "});\n",
       "\n",
       "        \n",
       "            \n",
       "                var html_98d95fd9bb234a1b64eb254ae15a7ef8 = $(`&lt;div id=&quot;html_98d95fd9bb234a1b64eb254ae15a7ef8&quot; style=&quot;width: 100.0%; height: 100.0%;&quot;&gt;(&quot;&lt;b style=&#x27;font-size: 18px; &#x27;&gt;El Mexicano&lt;/b&gt;&lt;br&gt;Direccion: Avenida Quinta&quot;, &quot;Especialidades: [&#x27;pizzas&#x27;, &#x27;pastas&#x27;]&quot;)&lt;/div&gt;`)[0];\n",
       "                popup_391861f4ff34e2df4c7461f8c09ca6a3.setContent(html_98d95fd9bb234a1b64eb254ae15a7ef8);\n",
       "            \n",
       "        \n",
       "\n",
       "        marker_0207efe5434d37070f7dfd74c2a12ccc.bindPopup(popup_391861f4ff34e2df4c7461f8c09ca6a3)\n",
       "        ;\n",
       "\n",
       "        \n",
       "    \n",
       "    \n",
       "            var marker_40e1729098831b28ec07391ff89d0d6b = L.marker(\n",
       "                [23.090152188614443, -82.37829626100522],\n",
       "                {\n",
       "}\n",
       "            ).addTo(map_c1bd0692b3c890e2cab86875cb676aa0);\n",
       "        \n",
       "    \n",
       "            var icon_a0d0344053de4e25c5167f8a7f9478f5 = L.AwesomeMarkers.icon(\n",
       "                {\n",
       "  &quot;markerColor&quot;: &quot;red&quot;,\n",
       "  &quot;iconColor&quot;: &quot;white&quot;,\n",
       "  &quot;icon&quot;: &quot;cutlery&quot;,\n",
       "  &quot;prefix&quot;: &quot;fa&quot;,\n",
       "  &quot;extraClasses&quot;: &quot;fa-rotate-0&quot;,\n",
       "}\n",
       "            );\n",
       "            marker_40e1729098831b28ec07391ff89d0d6b.setIcon(icon_a0d0344053de4e25c5167f8a7f9478f5);\n",
       "        \n",
       "    \n",
       "        var popup_ed5e469f493d75deac5d4e32c92cc5bc = L.popup({\n",
       "  &quot;maxWidth&quot;: &quot;100%&quot;,\n",
       "});\n",
       "\n",
       "        \n",
       "            \n",
       "                var html_162c39bf70a0884eba27d9a547bc0421 = $(`&lt;div id=&quot;html_162c39bf70a0884eba27d9a547bc0421&quot; style=&quot;width: 100.0%; height: 100.0%;&quot;&gt;(&quot;&lt;b style=&#x27;font-size: 18px; &#x27;&gt;El Monakeno&lt;/b&gt;&lt;br&gt;Direccion: Avenida Mayia Rodriguez entre Acosta y O&#x27;Farril&quot;, &quot;Especialidades: [&#x27;internacional&#x27;]&quot;)&lt;/div&gt;`)[0];\n",
       "                popup_ed5e469f493d75deac5d4e32c92cc5bc.setContent(html_162c39bf70a0884eba27d9a547bc0421);\n",
       "            \n",
       "        \n",
       "\n",
       "        marker_40e1729098831b28ec07391ff89d0d6b.bindPopup(popup_ed5e469f493d75deac5d4e32c92cc5bc)\n",
       "        ;\n",
       "\n",
       "        \n",
       "    \n",
       "    \n",
       "            var marker_3bfccd1b6304ea59a3bb66e4439090c8 = L.marker(\n",
       "                [23.08621062775345, -82.46251984696866],\n",
       "                {\n",
       "}\n",
       "            ).addTo(map_c1bd0692b3c890e2cab86875cb676aa0);\n",
       "        \n",
       "    \n",
       "            var icon_91293e83960b4fa294d3a0173fdbeba1 = L.AwesomeMarkers.icon(\n",
       "                {\n",
       "  &quot;markerColor&quot;: &quot;red&quot;,\n",
       "  &quot;iconColor&quot;: &quot;white&quot;,\n",
       "  &quot;icon&quot;: &quot;cutlery&quot;,\n",
       "  &quot;prefix&quot;: &quot;fa&quot;,\n",
       "  &quot;extraClasses&quot;: &quot;fa-rotate-0&quot;,\n",
       "}\n",
       "            );\n",
       "            marker_3bfccd1b6304ea59a3bb66e4439090c8.setIcon(icon_91293e83960b4fa294d3a0173fdbeba1);\n",
       "        \n",
       "    \n",
       "        var popup_bf7f1fe4dd8f8199db5e230b4405a64a = L.popup({\n",
       "  &quot;maxWidth&quot;: &quot;100%&quot;,\n",
       "});\n",
       "\n",
       "        \n",
       "            \n",
       "                var html_8ddf9bbbaaf172a5c0b5d8502b807438 = $(`&lt;div id=&quot;html_8ddf9bbbaaf172a5c0b5d8502b807438&quot; style=&quot;width: 100.0%; height: 100.0%;&quot;&gt;(&quot;&lt;b style=&#x27;font-size: 18px; &#x27;&gt;El Palenque&lt;/b&gt;&lt;br&gt;Direccion: Calle 17 esquina a190&quot;, &quot;Especialidades: [&#x27;caribena&#x27;, &#x27;latina&#x27;, &#x27;internacional&#x27;, &#x27;cubana&#x27;]&quot;)&lt;/div&gt;`)[0];\n",
       "                popup_bf7f1fe4dd8f8199db5e230b4405a64a.setContent(html_8ddf9bbbaaf172a5c0b5d8502b807438);\n",
       "            \n",
       "        \n",
       "\n",
       "        marker_3bfccd1b6304ea59a3bb66e4439090c8.bindPopup(popup_bf7f1fe4dd8f8199db5e230b4405a64a)\n",
       "        ;\n",
       "\n",
       "        \n",
       "    \n",
       "    \n",
       "            var marker_b1c55f942c3ed1a5b3c8422edc2910e0 = L.marker(\n",
       "                [23.101843184677417, -82.34140821329014],\n",
       "                {\n",
       "}\n",
       "            ).addTo(map_c1bd0692b3c890e2cab86875cb676aa0);\n",
       "        \n",
       "    \n",
       "            var icon_260c7a0f55954a2ad14c3479979c273a = L.AwesomeMarkers.icon(\n",
       "                {\n",
       "  &quot;markerColor&quot;: &quot;red&quot;,\n",
       "  &quot;iconColor&quot;: &quot;white&quot;,\n",
       "  &quot;icon&quot;: &quot;cutlery&quot;,\n",
       "  &quot;prefix&quot;: &quot;fa&quot;,\n",
       "  &quot;extraClasses&quot;: &quot;fa-rotate-0&quot;,\n",
       "}\n",
       "            );\n",
       "            marker_b1c55f942c3ed1a5b3c8422edc2910e0.setIcon(icon_260c7a0f55954a2ad14c3479979c273a);\n",
       "        \n",
       "    \n",
       "        var popup_1a3f939b43f380a22ab858c238f2537f = L.popup({\n",
       "  &quot;maxWidth&quot;: &quot;100%&quot;,\n",
       "});\n",
       "\n",
       "        \n",
       "            \n",
       "                var html_f193ba5d5abc3e62158bd4c7c3e292e3 = $(`&lt;div id=&quot;html_f193ba5d5abc3e62158bd4c7c3e292e3&quot; style=&quot;width: 100.0%; height: 100.0%;&quot;&gt;(&quot;&lt;b style=&#x27;font-size: 18px; &#x27;&gt;El Pecado&lt;/b&gt;&lt;br&gt;Direccion: Matos frente al parque de los Chivos&quot;, &quot;Especialidades: [&#x27;mixta&#x27;, &#x27;cuabana&#x27;]&quot;)&lt;/div&gt;`)[0];\n",
       "                popup_1a3f939b43f380a22ab858c238f2537f.setContent(html_f193ba5d5abc3e62158bd4c7c3e292e3);\n",
       "            \n",
       "        \n",
       "\n",
       "        marker_b1c55f942c3ed1a5b3c8422edc2910e0.bindPopup(popup_1a3f939b43f380a22ab858c238f2537f)\n",
       "        ;\n",
       "\n",
       "        \n",
       "    \n",
       "    \n",
       "            var marker_76a7ee0868bd5fff7bbdcc826cdadf3b = L.marker(\n",
       "                [23.05809340873481, -82.22647413651553],\n",
       "                {\n",
       "}\n",
       "            ).addTo(map_c1bd0692b3c890e2cab86875cb676aa0);\n",
       "        \n",
       "    \n",
       "            var icon_366997e5f7dcd84cbcbbf0417a13b315 = L.AwesomeMarkers.icon(\n",
       "                {\n",
       "  &quot;markerColor&quot;: &quot;red&quot;,\n",
       "  &quot;iconColor&quot;: &quot;white&quot;,\n",
       "  &quot;icon&quot;: &quot;cutlery&quot;,\n",
       "  &quot;prefix&quot;: &quot;fa&quot;,\n",
       "  &quot;extraClasses&quot;: &quot;fa-rotate-0&quot;,\n",
       "}\n",
       "            );\n",
       "            marker_76a7ee0868bd5fff7bbdcc826cdadf3b.setIcon(icon_366997e5f7dcd84cbcbbf0417a13b315);\n",
       "        \n",
       "    \n",
       "        var popup_88adbb5fee7447faba29b0dfb8979e97 = L.popup({\n",
       "  &quot;maxWidth&quot;: &quot;100%&quot;,\n",
       "});\n",
       "\n",
       "        \n",
       "            \n",
       "                var html_7ea2c417ad15ca3285adcaed6aaf6d99 = $(`&lt;div id=&quot;html_7ea2c417ad15ca3285adcaed6aaf6d99&quot; style=&quot;width: 100.0%; height: 100.0%;&quot;&gt;(&quot;&lt;b style=&#x27;font-size: 18px; &#x27;&gt;El Pellizco&lt;/b&gt;&lt;br&gt;Direccion: Desconocida&quot;, &quot;Especialidades: [&#x27;criolla&#x27;]&quot;)&lt;/div&gt;`)[0];\n",
       "                popup_88adbb5fee7447faba29b0dfb8979e97.setContent(html_7ea2c417ad15ca3285adcaed6aaf6d99);\n",
       "            \n",
       "        \n",
       "\n",
       "        marker_76a7ee0868bd5fff7bbdcc826cdadf3b.bindPopup(popup_88adbb5fee7447faba29b0dfb8979e97)\n",
       "        ;\n",
       "\n",
       "        \n",
       "    \n",
       "    \n",
       "            var marker_77ecf7acf7d0be40c9c9b6975ed9b77f = L.marker(\n",
       "                [23.16199568264451, -82.29712225037608],\n",
       "                {\n",
       "}\n",
       "            ).addTo(map_c1bd0692b3c890e2cab86875cb676aa0);\n",
       "        \n",
       "    \n",
       "            var icon_17aec8b176ebf9432720994a7f131c28 = L.AwesomeMarkers.icon(\n",
       "                {\n",
       "  &quot;markerColor&quot;: &quot;red&quot;,\n",
       "  &quot;iconColor&quot;: &quot;white&quot;,\n",
       "  &quot;icon&quot;: &quot;cutlery&quot;,\n",
       "  &quot;prefix&quot;: &quot;fa&quot;,\n",
       "  &quot;extraClasses&quot;: &quot;fa-rotate-0&quot;,\n",
       "}\n",
       "            );\n",
       "            marker_77ecf7acf7d0be40c9c9b6975ed9b77f.setIcon(icon_17aec8b176ebf9432720994a7f131c28);\n",
       "        \n",
       "    \n",
       "        var popup_c7b865f50644e3b7258c2ccf6e08dc4d = L.popup({\n",
       "  &quot;maxWidth&quot;: &quot;100%&quot;,\n",
       "});\n",
       "\n",
       "        \n",
       "            \n",
       "                var html_7c7d3a5c13cffb6f2cef2625eae2d514 = $(`&lt;div id=&quot;html_7c7d3a5c13cffb6f2cef2625eae2d514&quot; style=&quot;width: 100.0%; height: 100.0%;&quot;&gt;(&quot;&lt;b style=&#x27;font-size: 18px; &#x27;&gt;El Ajiaco&lt;/b&gt;&lt;br&gt;Direccion: Esquina de calle Los Pinos y Cuba, Cojimar&quot;, &quot;Especialidades: [&#x27;Criolla&#x27;]&quot;)&lt;/div&gt;`)[0];\n",
       "                popup_c7b865f50644e3b7258c2ccf6e08dc4d.setContent(html_7c7d3a5c13cffb6f2cef2625eae2d514);\n",
       "            \n",
       "        \n",
       "\n",
       "        marker_77ecf7acf7d0be40c9c9b6975ed9b77f.bindPopup(popup_c7b865f50644e3b7258c2ccf6e08dc4d)\n",
       "        ;\n",
       "\n",
       "        \n",
       "    \n",
       "    \n",
       "            var marker_d716fde07a1fdb94114c76d39b184e1c = L.marker(\n",
       "                [23.105902940435307, -82.38894680785327],\n",
       "                {\n",
       "}\n",
       "            ).addTo(map_c1bd0692b3c890e2cab86875cb676aa0);\n",
       "        \n",
       "    \n",
       "            var icon_9f8bfe27581204b92ea2b2963310c0ed = L.AwesomeMarkers.icon(\n",
       "                {\n",
       "  &quot;markerColor&quot;: &quot;red&quot;,\n",
       "  &quot;iconColor&quot;: &quot;white&quot;,\n",
       "  &quot;icon&quot;: &quot;cutlery&quot;,\n",
       "  &quot;prefix&quot;: &quot;fa&quot;,\n",
       "  &quot;extraClasses&quot;: &quot;fa-rotate-0&quot;,\n",
       "}\n",
       "            );\n",
       "            marker_d716fde07a1fdb94114c76d39b184e1c.setIcon(icon_9f8bfe27581204b92ea2b2963310c0ed);\n",
       "        \n",
       "    \n",
       "        var popup_5b39954b736827b62536efcb3b1a6cbb = L.popup({\n",
       "  &quot;maxWidth&quot;: &quot;100%&quot;,\n",
       "});\n",
       "\n",
       "        \n",
       "            \n",
       "                var html_b503f5dba1d50b765dca960e1bb3f716 = $(`&lt;div id=&quot;html_b503f5dba1d50b765dca960e1bb3f716&quot; style=&quot;width: 100.0%; height: 100.0%;&quot;&gt;(&quot;&lt;b style=&#x27;font-size: 18px; &#x27;&gt;El Batazo&lt;/b&gt;&lt;br&gt;Direccion: Primelles entre Santa Teresa y Daolz&quot;, &quot;Especialidades: [&#x27;italiana&#x27;]&quot;)&lt;/div&gt;`)[0];\n",
       "                popup_5b39954b736827b62536efcb3b1a6cbb.setContent(html_b503f5dba1d50b765dca960e1bb3f716);\n",
       "            \n",
       "        \n",
       "\n",
       "        marker_d716fde07a1fdb94114c76d39b184e1c.bindPopup(popup_5b39954b736827b62536efcb3b1a6cbb)\n",
       "        ;\n",
       "\n",
       "        \n",
       "    \n",
       "    \n",
       "            var marker_ed2ae7ff3d5b4f1763f5cee75885ccdf = L.marker(\n",
       "                [23.14135090318694, -82.37416801831066],\n",
       "                {\n",
       "}\n",
       "            ).addTo(map_c1bd0692b3c890e2cab86875cb676aa0);\n",
       "        \n",
       "    \n",
       "            var icon_086a98d0b140ea13ddcd4ae20a04fdf2 = L.AwesomeMarkers.icon(\n",
       "                {\n",
       "  &quot;markerColor&quot;: &quot;red&quot;,\n",
       "  &quot;iconColor&quot;: &quot;white&quot;,\n",
       "  &quot;icon&quot;: &quot;cutlery&quot;,\n",
       "  &quot;prefix&quot;: &quot;fa&quot;,\n",
       "  &quot;extraClasses&quot;: &quot;fa-rotate-0&quot;,\n",
       "}\n",
       "            );\n",
       "            marker_ed2ae7ff3d5b4f1763f5cee75885ccdf.setIcon(icon_086a98d0b140ea13ddcd4ae20a04fdf2);\n",
       "        \n",
       "    \n",
       "        var popup_a214e7df1d7c3eb46fb779004d1344d4 = L.popup({\n",
       "  &quot;maxWidth&quot;: &quot;100%&quot;,\n",
       "});\n",
       "\n",
       "        \n",
       "            \n",
       "                var html_231a32e552f6369e2f79cb64fd856be6 = $(`&lt;div id=&quot;html_231a32e552f6369e2f79cb64fd856be6&quot; style=&quot;width: 100.0%; height: 100.0%;&quot;&gt;(&quot;&lt;b style=&#x27;font-size: 18px; &#x27;&gt;El Bleko&lt;/b&gt;&lt;br&gt;Direccion: Vapor y Hornos, 63 e Marina, La Habana&quot;, &quot;Especialidades: [&#x27;caribeña&#x27;, &#x27;italiana&#x27;, &#x27;criolla&#x27;]&quot;)&lt;/div&gt;`)[0];\n",
       "                popup_a214e7df1d7c3eb46fb779004d1344d4.setContent(html_231a32e552f6369e2f79cb64fd856be6);\n",
       "            \n",
       "        \n",
       "\n",
       "        marker_ed2ae7ff3d5b4f1763f5cee75885ccdf.bindPopup(popup_a214e7df1d7c3eb46fb779004d1344d4)\n",
       "        ;\n",
       "\n",
       "        \n",
       "    \n",
       "    \n",
       "            var marker_13d264e821c6b54fc2486608b99aecd9 = L.marker(\n",
       "                [23.136615265811344, -82.3550049035281],\n",
       "                {\n",
       "}\n",
       "            ).addTo(map_c1bd0692b3c890e2cab86875cb676aa0);\n",
       "        \n",
       "    \n",
       "            var icon_f0b2ab2e45351f2dd97a4be3e37e2e79 = L.AwesomeMarkers.icon(\n",
       "                {\n",
       "  &quot;markerColor&quot;: &quot;red&quot;,\n",
       "  &quot;iconColor&quot;: &quot;white&quot;,\n",
       "  &quot;icon&quot;: &quot;cutlery&quot;,\n",
       "  &quot;prefix&quot;: &quot;fa&quot;,\n",
       "  &quot;extraClasses&quot;: &quot;fa-rotate-0&quot;,\n",
       "}\n",
       "            );\n",
       "            marker_13d264e821c6b54fc2486608b99aecd9.setIcon(icon_f0b2ab2e45351f2dd97a4be3e37e2e79);\n",
       "        \n",
       "    \n",
       "        var popup_37ae856f80be3ae38b9d035a03805b2f = L.popup({\n",
       "  &quot;maxWidth&quot;: &quot;100%&quot;,\n",
       "});\n",
       "\n",
       "        \n",
       "            \n",
       "                var html_c82fee853f83b35f4fcb2c2310d1bcd4 = $(`&lt;div id=&quot;html_c82fee853f83b35f4fcb2c2310d1bcd4&quot; style=&quot;width: 100.0%; height: 100.0%;&quot;&gt;(&quot;&lt;b style=&#x27;font-size: 18px; &#x27;&gt;El Cafe&lt;/b&gt;&lt;br&gt;Direccion: #358, Calle La Amargura&quot;, &quot;Especialidades: [&#x27;Comida mixta&#x27;]&quot;)&lt;/div&gt;`)[0];\n",
       "                popup_37ae856f80be3ae38b9d035a03805b2f.setContent(html_c82fee853f83b35f4fcb2c2310d1bcd4);\n",
       "            \n",
       "        \n",
       "\n",
       "        marker_13d264e821c6b54fc2486608b99aecd9.bindPopup(popup_37ae856f80be3ae38b9d035a03805b2f)\n",
       "        ;\n",
       "\n",
       "        \n",
       "    \n",
       "    \n",
       "            var marker_62304df6c84dfc803343e384d28dd3aa = L.marker(\n",
       "                [23.15787610279017, -82.27621448261955],\n",
       "                {\n",
       "}\n",
       "            ).addTo(map_c1bd0692b3c890e2cab86875cb676aa0);\n",
       "        \n",
       "    \n",
       "            var icon_4f4d325ac6d5131c4aae7e3354c3285f = L.AwesomeMarkers.icon(\n",
       "                {\n",
       "  &quot;markerColor&quot;: &quot;red&quot;,\n",
       "  &quot;iconColor&quot;: &quot;white&quot;,\n",
       "  &quot;icon&quot;: &quot;cutlery&quot;,\n",
       "  &quot;prefix&quot;: &quot;fa&quot;,\n",
       "  &quot;extraClasses&quot;: &quot;fa-rotate-0&quot;,\n",
       "}\n",
       "            );\n",
       "            marker_62304df6c84dfc803343e384d28dd3aa.setIcon(icon_4f4d325ac6d5131c4aae7e3354c3285f);\n",
       "        \n",
       "    \n",
       "        var popup_4194301c9eccd2364311beac5bba7252 = L.popup({\n",
       "  &quot;maxWidth&quot;: &quot;100%&quot;,\n",
       "});\n",
       "\n",
       "        \n",
       "            \n",
       "                var html_85a1521e9b0d2e4413d9a1f3ae1c52a4 = $(`&lt;div id=&quot;html_85a1521e9b0d2e4413d9a1f3ae1c52a4&quot; style=&quot;width: 100.0%; height: 100.0%;&quot;&gt;(&quot;&lt;b style=&#x27;font-size: 18px; &#x27;&gt;El Chanchullero&lt;/b&gt;&lt;br&gt;Direccion: #162D entre Calle 5G y Calle 162, zona 6, Alamar&quot;, &quot;Especialidades: [&#x27;Comida criolla&#x27;]&quot;)&lt;/div&gt;`)[0];\n",
       "                popup_4194301c9eccd2364311beac5bba7252.setContent(html_85a1521e9b0d2e4413d9a1f3ae1c52a4);\n",
       "            \n",
       "        \n",
       "\n",
       "        marker_62304df6c84dfc803343e384d28dd3aa.bindPopup(popup_4194301c9eccd2364311beac5bba7252)\n",
       "        ;\n",
       "\n",
       "        \n",
       "    \n",
       "    \n",
       "            var marker_c5a14a4511af5f90ef89b41f6accd197 = L.marker(\n",
       "                [23.047476858961144, -82.25535277368648],\n",
       "                {\n",
       "}\n",
       "            ).addTo(map_c1bd0692b3c890e2cab86875cb676aa0);\n",
       "        \n",
       "    \n",
       "            var icon_896bad1b81e389064e3c01866b8f25c1 = L.AwesomeMarkers.icon(\n",
       "                {\n",
       "  &quot;markerColor&quot;: &quot;red&quot;,\n",
       "  &quot;iconColor&quot;: &quot;white&quot;,\n",
       "  &quot;icon&quot;: &quot;cutlery&quot;,\n",
       "  &quot;prefix&quot;: &quot;fa&quot;,\n",
       "  &quot;extraClasses&quot;: &quot;fa-rotate-0&quot;,\n",
       "}\n",
       "            );\n",
       "            marker_c5a14a4511af5f90ef89b41f6accd197.setIcon(icon_896bad1b81e389064e3c01866b8f25c1);\n",
       "        \n",
       "    \n",
       "        var popup_050f6a355819dca3ae27a945253ec6c0 = L.popup({\n",
       "  &quot;maxWidth&quot;: &quot;100%&quot;,\n",
       "});\n",
       "\n",
       "        \n",
       "            \n",
       "                var html_c2556a43e6b3a5f9cb4f3c6f4a295d78 = $(`&lt;div id=&quot;html_c2556a43e6b3a5f9cb4f3c6f4a295d78&quot; style=&quot;width: 100.0%; height: 100.0%;&quot;&gt;(&quot;&lt;b style=&#x27;font-size: 18px; &#x27;&gt;El Cocal&lt;/b&gt;&lt;br&gt;Direccion: Lindero No 426A entre 38a y 44 roto modelo, Loteria&quot;, &quot;Especialidades: [&#x27;cubana&#x27;]&quot;)&lt;/div&gt;`)[0];\n",
       "                popup_050f6a355819dca3ae27a945253ec6c0.setContent(html_c2556a43e6b3a5f9cb4f3c6f4a295d78);\n",
       "            \n",
       "        \n",
       "\n",
       "        marker_c5a14a4511af5f90ef89b41f6accd197.bindPopup(popup_050f6a355819dca3ae27a945253ec6c0)\n",
       "        ;\n",
       "\n",
       "        \n",
       "    \n",
       "    \n",
       "            var marker_88b265745e842f411eedbe30987c90b8 = L.marker(\n",
       "                [23.126407014136845, -82.30453202678505],\n",
       "                {\n",
       "}\n",
       "            ).addTo(map_c1bd0692b3c890e2cab86875cb676aa0);\n",
       "        \n",
       "    \n",
       "            var icon_38788488f80c124e78403b16d5c27624 = L.AwesomeMarkers.icon(\n",
       "                {\n",
       "  &quot;markerColor&quot;: &quot;red&quot;,\n",
       "  &quot;iconColor&quot;: &quot;white&quot;,\n",
       "  &quot;icon&quot;: &quot;cutlery&quot;,\n",
       "  &quot;prefix&quot;: &quot;fa&quot;,\n",
       "  &quot;extraClasses&quot;: &quot;fa-rotate-0&quot;,\n",
       "}\n",
       "            );\n",
       "            marker_88b265745e842f411eedbe30987c90b8.setIcon(icon_38788488f80c124e78403b16d5c27624);\n",
       "        \n",
       "    \n",
       "        var popup_cd95f6307003f07c0d7e2a9b79b9ddc6 = L.popup({\n",
       "  &quot;maxWidth&quot;: &quot;100%&quot;,\n",
       "});\n",
       "\n",
       "        \n",
       "            \n",
       "                var html_4ab9bd58afdb5ece94cdb7b87dc9f8c4 = $(`&lt;div id=&quot;html_4ab9bd58afdb5ece94cdb7b87dc9f8c4&quot; style=&quot;width: 100.0%; height: 100.0%;&quot;&gt;(&quot;&lt;b style=&#x27;font-size: 18px; &#x27;&gt;El Faro&lt;/b&gt;&lt;br&gt;Direccion: Maximo Gomez y Pepe Antonio&quot;, &quot;Especialidades: [&#x27;Criolla&#x27;, &#x27;Pizzas&#x27;]&quot;)&lt;/div&gt;`)[0];\n",
       "                popup_cd95f6307003f07c0d7e2a9b79b9ddc6.setContent(html_4ab9bd58afdb5ece94cdb7b87dc9f8c4);\n",
       "            \n",
       "        \n",
       "\n",
       "        marker_88b265745e842f411eedbe30987c90b8.bindPopup(popup_cd95f6307003f07c0d7e2a9b79b9ddc6)\n",
       "        ;\n",
       "\n",
       "        \n",
       "    \n",
       "    \n",
       "            var marker_879a52dfde04bebf0479587308a95449 = L.marker(\n",
       "                [23.124602415605764, -82.31935775223077],\n",
       "                {\n",
       "}\n",
       "            ).addTo(map_c1bd0692b3c890e2cab86875cb676aa0);\n",
       "        \n",
       "    \n",
       "            var icon_d813eb3b83417711a17a2c1b1ded5523 = L.AwesomeMarkers.icon(\n",
       "                {\n",
       "  &quot;markerColor&quot;: &quot;red&quot;,\n",
       "  &quot;iconColor&quot;: &quot;white&quot;,\n",
       "  &quot;icon&quot;: &quot;cutlery&quot;,\n",
       "  &quot;prefix&quot;: &quot;fa&quot;,\n",
       "  &quot;extraClasses&quot;: &quot;fa-rotate-0&quot;,\n",
       "}\n",
       "            );\n",
       "            marker_879a52dfde04bebf0479587308a95449.setIcon(icon_d813eb3b83417711a17a2c1b1ded5523);\n",
       "        \n",
       "    \n",
       "        var popup_7962b147fd453fa326415a001b95c6b6 = L.popup({\n",
       "  &quot;maxWidth&quot;: &quot;100%&quot;,\n",
       "});\n",
       "\n",
       "        \n",
       "            \n",
       "                var html_935b3a96190b8c5729a88a65b14c98dd = $(`&lt;div id=&quot;html_935b3a96190b8c5729a88a65b14c98dd&quot; style=&quot;width: 100.0%; height: 100.0%;&quot;&gt;(&quot;&lt;b style=&#x27;font-size: 18px; &#x27;&gt;El Pavo&lt;/b&gt;&lt;br&gt;Direccion: Esquina San Luis y Via Blanca&quot;, &quot;Especialidades: [&#x27;criolla&#x27;, &#x27;internacional&#x27;, &#x27;italiana&#x27;]&quot;)&lt;/div&gt;`)[0];\n",
       "                popup_7962b147fd453fa326415a001b95c6b6.setContent(html_935b3a96190b8c5729a88a65b14c98dd);\n",
       "            \n",
       "        \n",
       "\n",
       "        marker_879a52dfde04bebf0479587308a95449.bindPopup(popup_7962b147fd453fa326415a001b95c6b6)\n",
       "        ;\n",
       "\n",
       "        \n",
       "    \n",
       "    \n",
       "            var marker_f3395e4d30114df1aa5fb3c5f7b41ff3 = L.marker(\n",
       "                [23.110676821769864, -82.39737767449778],\n",
       "                {\n",
       "}\n",
       "            ).addTo(map_c1bd0692b3c890e2cab86875cb676aa0);\n",
       "        \n",
       "    \n",
       "            var icon_544a922afc900b210f1360bf01aa282c = L.AwesomeMarkers.icon(\n",
       "                {\n",
       "  &quot;markerColor&quot;: &quot;red&quot;,\n",
       "  &quot;iconColor&quot;: &quot;white&quot;,\n",
       "  &quot;icon&quot;: &quot;cutlery&quot;,\n",
       "  &quot;prefix&quot;: &quot;fa&quot;,\n",
       "  &quot;extraClasses&quot;: &quot;fa-rotate-0&quot;,\n",
       "}\n",
       "            );\n",
       "            marker_f3395e4d30114df1aa5fb3c5f7b41ff3.setIcon(icon_544a922afc900b210f1360bf01aa282c);\n",
       "        \n",
       "    \n",
       "        var popup_33cedc6e1d8223ffb2dc49708a2495f7 = L.popup({\n",
       "  &quot;maxWidth&quot;: &quot;100%&quot;,\n",
       "});\n",
       "\n",
       "        \n",
       "            \n",
       "                var html_4198fc339f2e79e0c7e738dfc34ec2a9 = $(`&lt;div id=&quot;html_4198fc339f2e79e0c7e738dfc34ec2a9&quot; style=&quot;width: 100.0%; height: 100.0%;&quot;&gt;(&quot;&lt;b style=&#x27;font-size: 18px; &#x27;&gt;El Pelicano&lt;/b&gt;&lt;br&gt;Direccion: &quot;, &quot;Especialidades: [&#x27;cubana&#x27;]&quot;)&lt;/div&gt;`)[0];\n",
       "                popup_33cedc6e1d8223ffb2dc49708a2495f7.setContent(html_4198fc339f2e79e0c7e738dfc34ec2a9);\n",
       "            \n",
       "        \n",
       "\n",
       "        marker_f3395e4d30114df1aa5fb3c5f7b41ff3.bindPopup(popup_33cedc6e1d8223ffb2dc49708a2495f7)\n",
       "        ;\n",
       "\n",
       "        \n",
       "    \n",
       "    \n",
       "            var marker_5a76901ed7045aff451ed41370522b36 = L.marker(\n",
       "                [23.133855118338467, -82.36151465263812],\n",
       "                {\n",
       "}\n",
       "            ).addTo(map_c1bd0692b3c890e2cab86875cb676aa0);\n",
       "        \n",
       "    \n",
       "            var icon_eca7a57a9976b76e6a9d1744fa4c4153 = L.AwesomeMarkers.icon(\n",
       "                {\n",
       "  &quot;markerColor&quot;: &quot;red&quot;,\n",
       "  &quot;iconColor&quot;: &quot;white&quot;,\n",
       "  &quot;icon&quot;: &quot;cutlery&quot;,\n",
       "  &quot;prefix&quot;: &quot;fa&quot;,\n",
       "  &quot;extraClasses&quot;: &quot;fa-rotate-0&quot;,\n",
       "}\n",
       "            );\n",
       "            marker_5a76901ed7045aff451ed41370522b36.setIcon(icon_eca7a57a9976b76e6a9d1744fa4c4153);\n",
       "        \n",
       "    \n",
       "        var popup_056f6b2e20f30d0a99198fac64114087 = L.popup({\n",
       "  &quot;maxWidth&quot;: &quot;100%&quot;,\n",
       "});\n",
       "\n",
       "        \n",
       "            \n",
       "                var html_81935321a9f8f0449409a497b2a39916 = $(`&lt;div id=&quot;html_81935321a9f8f0449409a497b2a39916&quot; style=&quot;width: 100.0%; height: 100.0%;&quot;&gt;(&quot;&lt;b style=&#x27;font-size: 18px; &#x27;&gt;El portico&lt;/b&gt;&lt;br&gt;Direccion: Dragones entre Aguila y C.Amistad&quot;, &quot;Especialidades: [&#x27;cubana&#x27;]&quot;)&lt;/div&gt;`)[0];\n",
       "                popup_056f6b2e20f30d0a99198fac64114087.setContent(html_81935321a9f8f0449409a497b2a39916);\n",
       "            \n",
       "        \n",
       "\n",
       "        marker_5a76901ed7045aff451ed41370522b36.bindPopup(popup_056f6b2e20f30d0a99198fac64114087)\n",
       "        ;\n",
       "\n",
       "        \n",
       "    \n",
       "    \n",
       "            var marker_0044637a2b45f0c2814efec109e3fa37 = L.marker(\n",
       "                [22.974102520824335, -82.39241663601986],\n",
       "                {\n",
       "}\n",
       "            ).addTo(map_c1bd0692b3c890e2cab86875cb676aa0);\n",
       "        \n",
       "    \n",
       "            var icon_1122317a2a64c7ab855865a0b3264994 = L.AwesomeMarkers.icon(\n",
       "                {\n",
       "  &quot;markerColor&quot;: &quot;red&quot;,\n",
       "  &quot;iconColor&quot;: &quot;white&quot;,\n",
       "  &quot;icon&quot;: &quot;cutlery&quot;,\n",
       "  &quot;prefix&quot;: &quot;fa&quot;,\n",
       "  &quot;extraClasses&quot;: &quot;fa-rotate-0&quot;,\n",
       "}\n",
       "            );\n",
       "            marker_0044637a2b45f0c2814efec109e3fa37.setIcon(icon_1122317a2a64c7ab855865a0b3264994);\n",
       "        \n",
       "    \n",
       "        var popup_2566f7053697374be09d0246c3783428 = L.popup({\n",
       "  &quot;maxWidth&quot;: &quot;100%&quot;,\n",
       "});\n",
       "\n",
       "        \n",
       "            \n",
       "                var html_3cb166ff949265fe85bad0dd3aa87bf4 = $(`&lt;div id=&quot;html_3cb166ff949265fe85bad0dd3aa87bf4&quot; style=&quot;width: 100.0%; height: 100.0%;&quot;&gt;(&quot;&lt;b style=&#x27;font-size: 18px; &#x27;&gt;Ranchon El Pinareño&lt;/b&gt;&lt;br&gt;Direccion: Calle 16 % Calle 9 &amp; Calle 7, Santiago de las Vegas&quot;, &quot;Especialidades: [&#x27;criollo&#x27;, &#x27;grille&#x27;]&quot;)&lt;/div&gt;`)[0];\n",
       "                popup_2566f7053697374be09d0246c3783428.setContent(html_3cb166ff949265fe85bad0dd3aa87bf4);\n",
       "            \n",
       "        \n",
       "\n",
       "        marker_0044637a2b45f0c2814efec109e3fa37.bindPopup(popup_2566f7053697374be09d0246c3783428)\n",
       "        ;\n",
       "\n",
       "        \n",
       "    \n",
       "    \n",
       "            var marker_6dcaf6b8546f322718d345ce929ccfaf = L.marker(\n",
       "                [23.121214170655744, -82.37433227456654],\n",
       "                {\n",
       "}\n",
       "            ).addTo(map_c1bd0692b3c890e2cab86875cb676aa0);\n",
       "        \n",
       "    \n",
       "            var icon_12883a1e7118a85845411ec03e5bb8d6 = L.AwesomeMarkers.icon(\n",
       "                {\n",
       "  &quot;markerColor&quot;: &quot;red&quot;,\n",
       "  &quot;iconColor&quot;: &quot;white&quot;,\n",
       "  &quot;icon&quot;: &quot;cutlery&quot;,\n",
       "  &quot;prefix&quot;: &quot;fa&quot;,\n",
       "  &quot;extraClasses&quot;: &quot;fa-rotate-0&quot;,\n",
       "}\n",
       "            );\n",
       "            marker_6dcaf6b8546f322718d345ce929ccfaf.setIcon(icon_12883a1e7118a85845411ec03e5bb8d6);\n",
       "        \n",
       "    \n",
       "        var popup_16cfe0a31487de7f7e034b7945ff7c7e = L.popup({\n",
       "  &quot;maxWidth&quot;: &quot;100%&quot;,\n",
       "});\n",
       "\n",
       "        \n",
       "            \n",
       "                var html_f9f9d7087bd7b9cde30413f84849e0ff = $(`&lt;div id=&quot;html_f9f9d7087bd7b9cde30413f84849e0ff&quot; style=&quot;width: 100.0%; height: 100.0%;&quot;&gt;(&quot;&lt;b style=&#x27;font-size: 18px; &#x27;&gt;El Rapido&lt;/b&gt;&lt;br&gt;Direccion: Cruz del Pader entre Pedrosa y Amenidad&quot;, &quot;Especialidades: [&#x27;italiano&#x27;, &#x27;sandwich&#x27;]&quot;)&lt;/div&gt;`)[0];\n",
       "                popup_16cfe0a31487de7f7e034b7945ff7c7e.setContent(html_f9f9d7087bd7b9cde30413f84849e0ff);\n",
       "            \n",
       "        \n",
       "\n",
       "        marker_6dcaf6b8546f322718d345ce929ccfaf.bindPopup(popup_16cfe0a31487de7f7e034b7945ff7c7e)\n",
       "        ;\n",
       "\n",
       "        \n",
       "    \n",
       "    \n",
       "            var marker_2f956addeef6bbbde0b7fe2ed41ffe9d = L.marker(\n",
       "                [23.137849066647398, -82.355948790034],\n",
       "                {\n",
       "}\n",
       "            ).addTo(map_c1bd0692b3c890e2cab86875cb676aa0);\n",
       "        \n",
       "    \n",
       "            var icon_08bea09494fc7c5b009503eb3209a681 = L.AwesomeMarkers.icon(\n",
       "                {\n",
       "  &quot;markerColor&quot;: &quot;red&quot;,\n",
       "  &quot;iconColor&quot;: &quot;white&quot;,\n",
       "  &quot;icon&quot;: &quot;cutlery&quot;,\n",
       "  &quot;prefix&quot;: &quot;fa&quot;,\n",
       "  &quot;extraClasses&quot;: &quot;fa-rotate-0&quot;,\n",
       "}\n",
       "            );\n",
       "            marker_2f956addeef6bbbde0b7fe2ed41ffe9d.setIcon(icon_08bea09494fc7c5b009503eb3209a681);\n",
       "        \n",
       "    \n",
       "        var popup_ec532d0e14d16d39981e9fd6d0145802 = L.popup({\n",
       "  &quot;maxWidth&quot;: &quot;100%&quot;,\n",
       "});\n",
       "\n",
       "        \n",
       "            \n",
       "                var html_a6b2405e0a9ede94694b9eb061bcb9dc = $(`&lt;div id=&quot;html_a6b2405e0a9ede94694b9eb061bcb9dc&quot; style=&quot;width: 100.0%; height: 100.0%;&quot;&gt;(&quot;&lt;b style=&#x27;font-size: 18px; &#x27;&gt;El Rincon De Las Letras&lt;/b&gt;&lt;br&gt;Direccion: Calle Villegas #206 entre Obispo y Obrapia&quot;, &quot;Especialidades: [&#x27;Caribena&#x27;, &#x27;Cubana&#x27;]&quot;)&lt;/div&gt;`)[0];\n",
       "                popup_ec532d0e14d16d39981e9fd6d0145802.setContent(html_a6b2405e0a9ede94694b9eb061bcb9dc);\n",
       "            \n",
       "        \n",
       "\n",
       "        marker_2f956addeef6bbbde0b7fe2ed41ffe9d.bindPopup(popup_ec532d0e14d16d39981e9fd6d0145802)\n",
       "        ;\n",
       "\n",
       "        \n",
       "    \n",
       "    \n",
       "            var marker_459a5076e2f65a9a54fe6f3f8577d733 = L.marker(\n",
       "                [22.97148510128245, -82.38594063725743],\n",
       "                {\n",
       "}\n",
       "            ).addTo(map_c1bd0692b3c890e2cab86875cb676aa0);\n",
       "        \n",
       "    \n",
       "            var icon_96f5d5d032d8d20a4afea5f043a3e16b = L.AwesomeMarkers.icon(\n",
       "                {\n",
       "  &quot;markerColor&quot;: &quot;red&quot;,\n",
       "  &quot;iconColor&quot;: &quot;white&quot;,\n",
       "  &quot;icon&quot;: &quot;cutlery&quot;,\n",
       "  &quot;prefix&quot;: &quot;fa&quot;,\n",
       "  &quot;extraClasses&quot;: &quot;fa-rotate-0&quot;,\n",
       "}\n",
       "            );\n",
       "            marker_459a5076e2f65a9a54fe6f3f8577d733.setIcon(icon_96f5d5d032d8d20a4afea5f043a3e16b);\n",
       "        \n",
       "    \n",
       "        var popup_196ba8f34ca860a1a0c0dd69660cc31b = L.popup({\n",
       "  &quot;maxWidth&quot;: &quot;100%&quot;,\n",
       "});\n",
       "\n",
       "        \n",
       "            \n",
       "                var html_ac71acdda600f8fbb7484b157c2e3985 = $(`&lt;div id=&quot;html_ac71acdda600f8fbb7484b157c2e3985&quot; style=&quot;width: 100.0%; height: 100.0%;&quot;&gt;(&quot;&lt;b style=&#x27;font-size: 18px; &#x27;&gt;El Sauce&lt;/b&gt;&lt;br&gt;Direccion: Calle 403 % 180 &amp; 184, Santiago de las Vegas&quot;, &quot;Especialidades: [&#x27;Pizza&#x27;]&quot;)&lt;/div&gt;`)[0];\n",
       "                popup_196ba8f34ca860a1a0c0dd69660cc31b.setContent(html_ac71acdda600f8fbb7484b157c2e3985);\n",
       "            \n",
       "        \n",
       "\n",
       "        marker_459a5076e2f65a9a54fe6f3f8577d733.bindPopup(popup_196ba8f34ca860a1a0c0dd69660cc31b)\n",
       "        ;\n",
       "\n",
       "        \n",
       "    \n",
       "    \n",
       "            var marker_5c33fdff01b2f6e258e525e0ab023122 = L.marker(\n",
       "                [23.124717648812492, -82.42132107449743],\n",
       "                {\n",
       "}\n",
       "            ).addTo(map_c1bd0692b3c890e2cab86875cb676aa0);\n",
       "        \n",
       "    \n",
       "            var icon_14a150f7b314fd3837f32d6bed8267f8 = L.AwesomeMarkers.icon(\n",
       "                {\n",
       "  &quot;markerColor&quot;: &quot;red&quot;,\n",
       "  &quot;iconColor&quot;: &quot;white&quot;,\n",
       "  &quot;icon&quot;: &quot;cutlery&quot;,\n",
       "  &quot;prefix&quot;: &quot;fa&quot;,\n",
       "  &quot;extraClasses&quot;: &quot;fa-rotate-0&quot;,\n",
       "}\n",
       "            );\n",
       "            marker_5c33fdff01b2f6e258e525e0ab023122.setIcon(icon_14a150f7b314fd3837f32d6bed8267f8);\n",
       "        \n",
       "    \n",
       "        var popup_47eda0ad40c38f5f796ea760ebea54fc = L.popup({\n",
       "  &quot;maxWidth&quot;: &quot;100%&quot;,\n",
       "});\n",
       "\n",
       "        \n",
       "            \n",
       "                var html_bddbd52f5105d10e25c1de5d2d0d1f39 = $(`&lt;div id=&quot;html_bddbd52f5105d10e25c1de5d2d0d1f39&quot; style=&quot;width: 100.0%; height: 100.0%;&quot;&gt;(&quot;&lt;b style=&#x27;font-size: 18px; &#x27;&gt;El Tocororo&lt;/b&gt;&lt;br&gt;Direccion: Calle 18 entre 3ra y 5ta&quot;, &quot;Especialidades: [&#x27;criolla&#x27;, &#x27;caribena&#x27;, &#x27;latina&#x27;]&quot;)&lt;/div&gt;`)[0];\n",
       "                popup_47eda0ad40c38f5f796ea760ebea54fc.setContent(html_bddbd52f5105d10e25c1de5d2d0d1f39);\n",
       "            \n",
       "        \n",
       "\n",
       "        marker_5c33fdff01b2f6e258e525e0ab023122.bindPopup(popup_47eda0ad40c38f5f796ea760ebea54fc)\n",
       "        ;\n",
       "\n",
       "        \n",
       "    \n",
       "    \n",
       "            var marker_c95e09813f80b8cbb40d6d05db5923b7 = L.marker(\n",
       "                [23.08014437636423, -82.32075326489488],\n",
       "                {\n",
       "}\n",
       "            ).addTo(map_c1bd0692b3c890e2cab86875cb676aa0);\n",
       "        \n",
       "    \n",
       "            var icon_6fe6b77b99c9b11ba3d3e0699e977efe = L.AwesomeMarkers.icon(\n",
       "                {\n",
       "  &quot;markerColor&quot;: &quot;red&quot;,\n",
       "  &quot;iconColor&quot;: &quot;white&quot;,\n",
       "  &quot;icon&quot;: &quot;cutlery&quot;,\n",
       "  &quot;prefix&quot;: &quot;fa&quot;,\n",
       "  &quot;extraClasses&quot;: &quot;fa-rotate-0&quot;,\n",
       "}\n",
       "            );\n",
       "            marker_c95e09813f80b8cbb40d6d05db5923b7.setIcon(icon_6fe6b77b99c9b11ba3d3e0699e977efe);\n",
       "        \n",
       "    \n",
       "        var popup_ac9882ad404f274d5ea6e7d564cdb71d = L.popup({\n",
       "  &quot;maxWidth&quot;: &quot;100%&quot;,\n",
       "});\n",
       "\n",
       "        \n",
       "            \n",
       "                var html_0b06dd5695ee555f88e4206023aae63c = $(`&lt;div id=&quot;html_0b06dd5695ee555f88e4206023aae63c&quot; style=&quot;width: 100.0%; height: 100.0%;&quot;&gt;(&quot;&lt;b style=&#x27;font-size: 18px; &#x27;&gt;El Tráfico&lt;/b&gt;&lt;br&gt;Direccion: Calzada de Guines entre 90 y 94&quot;, &quot;Especialidades: [&#x27;italiana&#x27;, &#x27;criolla&#x27;]&quot;)&lt;/div&gt;`)[0];\n",
       "                popup_ac9882ad404f274d5ea6e7d564cdb71d.setContent(html_0b06dd5695ee555f88e4206023aae63c);\n",
       "            \n",
       "        \n",
       "\n",
       "        marker_c95e09813f80b8cbb40d6d05db5923b7.bindPopup(popup_ac9882ad404f274d5ea6e7d564cdb71d)\n",
       "        ;\n",
       "\n",
       "        \n",
       "    \n",
       "    \n",
       "            var marker_21bfaf7fd7e0cb0dc0b438d93ea1c622 = L.marker(\n",
       "                [23.074424846570963, -82.3584506328705],\n",
       "                {\n",
       "}\n",
       "            ).addTo(map_c1bd0692b3c890e2cab86875cb676aa0);\n",
       "        \n",
       "    \n",
       "            var icon_392f4bd1e3e8c38f10d43c665aa8dca4 = L.AwesomeMarkers.icon(\n",
       "                {\n",
       "  &quot;markerColor&quot;: &quot;red&quot;,\n",
       "  &quot;iconColor&quot;: &quot;white&quot;,\n",
       "  &quot;icon&quot;: &quot;cutlery&quot;,\n",
       "  &quot;prefix&quot;: &quot;fa&quot;,\n",
       "  &quot;extraClasses&quot;: &quot;fa-rotate-0&quot;,\n",
       "}\n",
       "            );\n",
       "            marker_21bfaf7fd7e0cb0dc0b438d93ea1c622.setIcon(icon_392f4bd1e3e8c38f10d43c665aa8dca4);\n",
       "        \n",
       "    \n",
       "        var popup_5cf8f00b5dd624ea8e0ab3061479090d = L.popup({\n",
       "  &quot;maxWidth&quot;: &quot;100%&quot;,\n",
       "});\n",
       "\n",
       "        \n",
       "            \n",
       "                var html_5d3d043905f0ec058c142f3be7dc0562 = $(`&lt;div id=&quot;html_5d3d043905f0ec058c142f3be7dc0562&quot; style=&quot;width: 100.0%; height: 100.0%;&quot;&gt;(&quot;&lt;b style=&#x27;font-size: 18px; &#x27;&gt;El Triangulo&lt;/b&gt;&lt;br&gt;Direccion: Esquina Calzada de 10 de octubre y Calzada de Porvenir, La Palma&quot;, &quot;Especialidades: [&#x27;cubana&#x27;]&quot;)&lt;/div&gt;`)[0];\n",
       "                popup_5cf8f00b5dd624ea8e0ab3061479090d.setContent(html_5d3d043905f0ec058c142f3be7dc0562);\n",
       "            \n",
       "        \n",
       "\n",
       "        marker_21bfaf7fd7e0cb0dc0b438d93ea1c622.bindPopup(popup_5cf8f00b5dd624ea8e0ab3061479090d)\n",
       "        ;\n",
       "\n",
       "        \n",
       "    \n",
       "    \n",
       "            var marker_8a9fe909cc76f543f468414f89e74622 = L.marker(\n",
       "                [23.00372199549759, -82.39586954958467],\n",
       "                {\n",
       "}\n",
       "            ).addTo(map_c1bd0692b3c890e2cab86875cb676aa0);\n",
       "        \n",
       "    \n",
       "            var icon_84d5750065aea8e390255120d090213d = L.AwesomeMarkers.icon(\n",
       "                {\n",
       "  &quot;markerColor&quot;: &quot;red&quot;,\n",
       "  &quot;iconColor&quot;: &quot;white&quot;,\n",
       "  &quot;icon&quot;: &quot;cutlery&quot;,\n",
       "  &quot;prefix&quot;: &quot;fa&quot;,\n",
       "  &quot;extraClasses&quot;: &quot;fa-rotate-0&quot;,\n",
       "}\n",
       "            );\n",
       "            marker_8a9fe909cc76f543f468414f89e74622.setIcon(icon_84d5750065aea8e390255120d090213d);\n",
       "        \n",
       "    \n",
       "        var popup_7d9536c6aacf443e17d508a90f5eeada = L.popup({\n",
       "  &quot;maxWidth&quot;: &quot;100%&quot;,\n",
       "});\n",
       "\n",
       "        \n",
       "            \n",
       "                var html_66e1391e8c649025f857fa510d9e0860 = $(`&lt;div id=&quot;html_66e1391e8c649025f857fa510d9e0860&quot; style=&quot;width: 100.0%; height: 100.0%;&quot;&gt;(&quot;&lt;b style=&#x27;font-size: 18px; &#x27;&gt;Entabla2&lt;/b&gt;&lt;br&gt;Direccion: Carretera Terminal 2, Aeropuerto Internacional J. Marti, Calixto Sanchez&quot;, &quot;Especialidades: [&#x27;criolla&#x27;]&quot;)&lt;/div&gt;`)[0];\n",
       "                popup_7d9536c6aacf443e17d508a90f5eeada.setContent(html_66e1391e8c649025f857fa510d9e0860);\n",
       "            \n",
       "        \n",
       "\n",
       "        marker_8a9fe909cc76f543f468414f89e74622.bindPopup(popup_7d9536c6aacf443e17d508a90f5eeada)\n",
       "        ;\n",
       "\n",
       "        \n",
       "    \n",
       "    \n",
       "            var marker_b00deca8ccf5b72d005791574f41b126 = L.marker(\n",
       "                [23.142395650866476, -82.39855515318168],\n",
       "                {\n",
       "}\n",
       "            ).addTo(map_c1bd0692b3c890e2cab86875cb676aa0);\n",
       "        \n",
       "    \n",
       "            var icon_b6a907fdf0b68c536e58aaa20705415c = L.AwesomeMarkers.icon(\n",
       "                {\n",
       "  &quot;markerColor&quot;: &quot;red&quot;,\n",
       "  &quot;iconColor&quot;: &quot;white&quot;,\n",
       "  &quot;icon&quot;: &quot;cutlery&quot;,\n",
       "  &quot;prefix&quot;: &quot;fa&quot;,\n",
       "  &quot;extraClasses&quot;: &quot;fa-rotate-0&quot;,\n",
       "}\n",
       "            );\n",
       "            marker_b00deca8ccf5b72d005791574f41b126.setIcon(icon_b6a907fdf0b68c536e58aaa20705415c);\n",
       "        \n",
       "    \n",
       "        var popup_24545b18370a2a2d165fc5fdb4df75cf = L.popup({\n",
       "  &quot;maxWidth&quot;: &quot;100%&quot;,\n",
       "});\n",
       "\n",
       "        \n",
       "            \n",
       "                var html_6dd319257fb5e14b1cce5c2b46dc3c94 = $(`&lt;div id=&quot;html_6dd319257fb5e14b1cce5c2b46dc3c94&quot; style=&quot;width: 100.0%; height: 100.0%;&quot;&gt;(&quot;&lt;b style=&#x27;font-size: 18px; &#x27;&gt;Esquina D-Fraile &lt;/b&gt;&lt;br&gt;Direccion: Calle D entre 1era y 3era, Vedado.&quot;, &quot;Especialidades: [&#x27;Comida Americana&#x27;, &#x27;caribeña&#x27;, &#x27;latina&#x27;, &#x27;criolla&#x27;, &#x27;internacional&#x27;]&quot;)&lt;/div&gt;`)[0];\n",
       "                popup_24545b18370a2a2d165fc5fdb4df75cf.setContent(html_6dd319257fb5e14b1cce5c2b46dc3c94);\n",
       "            \n",
       "        \n",
       "\n",
       "        marker_b00deca8ccf5b72d005791574f41b126.bindPopup(popup_24545b18370a2a2d165fc5fdb4df75cf)\n",
       "        ;\n",
       "\n",
       "        \n",
       "    \n",
       "    \n",
       "            var marker_1fafb865878428d0cb6386ceb0c39cdc = L.marker(\n",
       "                [23.140776125926624, -82.3517849151747],\n",
       "                {\n",
       "}\n",
       "            ).addTo(map_c1bd0692b3c890e2cab86875cb676aa0);\n",
       "        \n",
       "    \n",
       "            var icon_8e3e9def5ca1105d1326df794b939505 = L.AwesomeMarkers.icon(\n",
       "                {\n",
       "  &quot;markerColor&quot;: &quot;red&quot;,\n",
       "  &quot;iconColor&quot;: &quot;white&quot;,\n",
       "  &quot;icon&quot;: &quot;cutlery&quot;,\n",
       "  &quot;prefix&quot;: &quot;fa&quot;,\n",
       "  &quot;extraClasses&quot;: &quot;fa-rotate-0&quot;,\n",
       "}\n",
       "            );\n",
       "            marker_1fafb865878428d0cb6386ceb0c39cdc.setIcon(icon_8e3e9def5ca1105d1326df794b939505);\n",
       "        \n",
       "    \n",
       "        var popup_b4d9aa6eac9307372aa4447052392c16 = L.popup({\n",
       "  &quot;maxWidth&quot;: &quot;100%&quot;,\n",
       "});\n",
       "\n",
       "        \n",
       "            \n",
       "                var html_fb826fc601e7d37282a41516169bec68 = $(`&lt;div id=&quot;html_fb826fc601e7d37282a41516169bec68&quot; style=&quot;width: 100.0%; height: 100.0%;&quot;&gt;(&quot;&lt;b style=&#x27;font-size: 18px; &#x27;&gt;Esto No Es Un Cafe&lt;/b&gt;&lt;br&gt;Direccion: Calle Ignacio #58-A entre OReilly y Empedrado, Callejón del Chorro, Plaza de la Catedral&quot;, &quot;Especialidades: [&#x27;Mixta&#x27;]&quot;)&lt;/div&gt;`)[0];\n",
       "                popup_b4d9aa6eac9307372aa4447052392c16.setContent(html_fb826fc601e7d37282a41516169bec68);\n",
       "            \n",
       "        \n",
       "\n",
       "        marker_1fafb865878428d0cb6386ceb0c39cdc.bindPopup(popup_b4d9aa6eac9307372aa4447052392c16)\n",
       "        ;\n",
       "\n",
       "        \n",
       "    \n",
       "    \n",
       "            var marker_bc55152d56ad385ec10d618106554db4 = L.marker(\n",
       "                [23.11995071306764, -82.41835419828072],\n",
       "                {\n",
       "}\n",
       "            ).addTo(map_c1bd0692b3c890e2cab86875cb676aa0);\n",
       "        \n",
       "    \n",
       "            var icon_0c4cc7bae5daeaca1e9102f4961f92a6 = L.AwesomeMarkers.icon(\n",
       "                {\n",
       "  &quot;markerColor&quot;: &quot;red&quot;,\n",
       "  &quot;iconColor&quot;: &quot;white&quot;,\n",
       "  &quot;icon&quot;: &quot;cutlery&quot;,\n",
       "  &quot;prefix&quot;: &quot;fa&quot;,\n",
       "  &quot;extraClasses&quot;: &quot;fa-rotate-0&quot;,\n",
       "}\n",
       "            );\n",
       "            marker_bc55152d56ad385ec10d618106554db4.setIcon(icon_0c4cc7bae5daeaca1e9102f4961f92a6);\n",
       "        \n",
       "    \n",
       "        var popup_827943b11493fa5d9fc9c5dbfd4e51c6 = L.popup({\n",
       "  &quot;maxWidth&quot;: &quot;100%&quot;,\n",
       "});\n",
       "\n",
       "        \n",
       "            \n",
       "                var html_286412ee887adfd48ad564380f8cf44e = $(`&lt;div id=&quot;html_286412ee887adfd48ad564380f8cf44e&quot; style=&quot;width: 100.0%; height: 100.0%;&quot;&gt;(&quot;&lt;b style=&#x27;font-size: 18px; &#x27;&gt;Fellini&lt;/b&gt;&lt;br&gt;Direccion: Calle 20 entre 9na y 7ma&quot;, &quot;Especialidades: [&#x27;cubana&#x27;, &#x27;internacional&#x27;]&quot;)&lt;/div&gt;`)[0];\n",
       "                popup_827943b11493fa5d9fc9c5dbfd4e51c6.setContent(html_286412ee887adfd48ad564380f8cf44e);\n",
       "            \n",
       "        \n",
       "\n",
       "        marker_bc55152d56ad385ec10d618106554db4.bindPopup(popup_827943b11493fa5d9fc9c5dbfd4e51c6)\n",
       "        ;\n",
       "\n",
       "        \n",
       "    \n",
       "    \n",
       "            var marker_bbab0338eff85623df777a10a5820658 = L.marker(\n",
       "                [23.04594907869068, -82.37133353203541],\n",
       "                {\n",
       "}\n",
       "            ).addTo(map_c1bd0692b3c890e2cab86875cb676aa0);\n",
       "        \n",
       "    \n",
       "            var icon_2aea551b5bf73afb61cfc603aee0673c = L.AwesomeMarkers.icon(\n",
       "                {\n",
       "  &quot;markerColor&quot;: &quot;red&quot;,\n",
       "  &quot;iconColor&quot;: &quot;white&quot;,\n",
       "  &quot;icon&quot;: &quot;cutlery&quot;,\n",
       "  &quot;prefix&quot;: &quot;fa&quot;,\n",
       "  &quot;extraClasses&quot;: &quot;fa-rotate-0&quot;,\n",
       "}\n",
       "            );\n",
       "            marker_bbab0338eff85623df777a10a5820658.setIcon(icon_2aea551b5bf73afb61cfc603aee0673c);\n",
       "        \n",
       "    \n",
       "        var popup_c31f7ab140ee3afed81ea1e6178d108e = L.popup({\n",
       "  &quot;maxWidth&quot;: &quot;100%&quot;,\n",
       "});\n",
       "\n",
       "        \n",
       "            \n",
       "                var html_74966e87ae1c411033ebcc6d0c9194b5 = $(`&lt;div id=&quot;html_74966e87ae1c411033ebcc6d0c9194b5&quot; style=&quot;width: 100.0%; height: 100.0%;&quot;&gt;(&quot;&lt;b style=&#x27;font-size: 18px; &#x27;&gt;Fiesta Criolla&lt;/b&gt;&lt;br&gt;Direccion: Calle 100 #1003 (después del puente de calabazar), Arroyo Naranjo&quot;, &quot;Especialidades: [&#x27;cubana&#x27;]&quot;)&lt;/div&gt;`)[0];\n",
       "                popup_c31f7ab140ee3afed81ea1e6178d108e.setContent(html_74966e87ae1c411033ebcc6d0c9194b5);\n",
       "            \n",
       "        \n",
       "\n",
       "        marker_bbab0338eff85623df777a10a5820658.bindPopup(popup_c31f7ab140ee3afed81ea1e6178d108e)\n",
       "        ;\n",
       "\n",
       "        \n",
       "    \n",
       "    \n",
       "            var marker_51862cb840739e730614ca71b2acbbd3 = L.marker(\n",
       "                [23.01940199162402, -82.4892786916919],\n",
       "                {\n",
       "}\n",
       "            ).addTo(map_c1bd0692b3c890e2cab86875cb676aa0);\n",
       "        \n",
       "    \n",
       "            var icon_6f5f0fd68aa0865079cf00e334c1c5a0 = L.AwesomeMarkers.icon(\n",
       "                {\n",
       "  &quot;markerColor&quot;: &quot;red&quot;,\n",
       "  &quot;iconColor&quot;: &quot;white&quot;,\n",
       "  &quot;icon&quot;: &quot;cutlery&quot;,\n",
       "  &quot;prefix&quot;: &quot;fa&quot;,\n",
       "  &quot;extraClasses&quot;: &quot;fa-rotate-0&quot;,\n",
       "}\n",
       "            );\n",
       "            marker_51862cb840739e730614ca71b2acbbd3.setIcon(icon_6f5f0fd68aa0865079cf00e334c1c5a0);\n",
       "        \n",
       "    \n",
       "        var popup_601ba43e2810ce7faf72fbd3496126fb = L.popup({\n",
       "  &quot;maxWidth&quot;: &quot;100%&quot;,\n",
       "});\n",
       "\n",
       "        \n",
       "            \n",
       "                var html_b737d45e15563fe5b06dd6ad269a2ef5 = $(`&lt;div id=&quot;html_b737d45e15563fe5b06dd6ad269a2ef5&quot; style=&quot;width: 100.0%; height: 100.0%;&quot;&gt;(&quot;&lt;b style=&#x27;font-size: 18px; &#x27;&gt;Finca La Pinta&lt;/b&gt;&lt;br&gt;Direccion:  Avenida 251 N.2409 entre 20 y 28&quot;, &quot;Especialidades: [&#x27;internacional&#x27;, &#x27;cubana&#x27;, &#x27;caribena&#x27;, &#x27;italiana&#x27;, &#x27;latina&#x27;]&quot;)&lt;/div&gt;`)[0];\n",
       "                popup_601ba43e2810ce7faf72fbd3496126fb.setContent(html_b737d45e15563fe5b06dd6ad269a2ef5);\n",
       "            \n",
       "        \n",
       "\n",
       "        marker_51862cb840739e730614ca71b2acbbd3.bindPopup(popup_601ba43e2810ce7faf72fbd3496126fb)\n",
       "        ;\n",
       "\n",
       "        \n",
       "    \n",
       "    \n",
       "            var marker_f7879f430e5dda90db6c5c4dbac9825d = L.marker(\n",
       "                [23.136041318926157, -82.36214978250345],\n",
       "                {\n",
       "}\n",
       "            ).addTo(map_c1bd0692b3c890e2cab86875cb676aa0);\n",
       "        \n",
       "    \n",
       "            var icon_2c70b77e7ab023146c72868a47725d35 = L.AwesomeMarkers.icon(\n",
       "                {\n",
       "  &quot;markerColor&quot;: &quot;red&quot;,\n",
       "  &quot;iconColor&quot;: &quot;white&quot;,\n",
       "  &quot;icon&quot;: &quot;cutlery&quot;,\n",
       "  &quot;prefix&quot;: &quot;fa&quot;,\n",
       "  &quot;extraClasses&quot;: &quot;fa-rotate-0&quot;,\n",
       "}\n",
       "            );\n",
       "            marker_f7879f430e5dda90db6c5c4dbac9825d.setIcon(icon_2c70b77e7ab023146c72868a47725d35);\n",
       "        \n",
       "    \n",
       "        var popup_fc76b0d1835c22249ca2ead67e9f3463 = L.popup({\n",
       "  &quot;maxWidth&quot;: &quot;100%&quot;,\n",
       "});\n",
       "\n",
       "        \n",
       "            \n",
       "                var html_e674031213d6cca6cba57d36f0e535fe = $(`&lt;div id=&quot;html_e674031213d6cca6cba57d36f0e535fe&quot; style=&quot;width: 100.0%; height: 100.0%;&quot;&gt;(&quot;&lt;b style=&#x27;font-size: 18px; &#x27;&gt;Fin de Siglo&lt;/b&gt;&lt;br&gt;Direccion: Esquina Aguila y San Martin&quot;, &quot;Especialidades: [&#x27;Cubana&#x27;, &#x27;Italiana&#x27;]&quot;)&lt;/div&gt;`)[0];\n",
       "                popup_fc76b0d1835c22249ca2ead67e9f3463.setContent(html_e674031213d6cca6cba57d36f0e535fe);\n",
       "            \n",
       "        \n",
       "\n",
       "        marker_f7879f430e5dda90db6c5c4dbac9825d.bindPopup(popup_fc76b0d1835c22249ca2ead67e9f3463)\n",
       "        ;\n",
       "\n",
       "        \n",
       "    \n",
       "    \n",
       "            var marker_d4657ec5f25fc568091b703c11049821 = L.marker(\n",
       "                [23.137505971829647, -82.35738137449714],\n",
       "                {\n",
       "}\n",
       "            ).addTo(map_c1bd0692b3c890e2cab86875cb676aa0);\n",
       "        \n",
       "    \n",
       "            var icon_0f0d2c497b3618ba21f03082aa3ec813 = L.AwesomeMarkers.icon(\n",
       "                {\n",
       "  &quot;markerColor&quot;: &quot;red&quot;,\n",
       "  &quot;iconColor&quot;: &quot;white&quot;,\n",
       "  &quot;icon&quot;: &quot;cutlery&quot;,\n",
       "  &quot;prefix&quot;: &quot;fa&quot;,\n",
       "  &quot;extraClasses&quot;: &quot;fa-rotate-0&quot;,\n",
       "}\n",
       "            );\n",
       "            marker_d4657ec5f25fc568091b703c11049821.setIcon(icon_0f0d2c497b3618ba21f03082aa3ec813);\n",
       "        \n",
       "    \n",
       "        var popup_6971e61f54b54d88f9bebb00753c3f65 = L.popup({\n",
       "  &quot;maxWidth&quot;: &quot;100%&quot;,\n",
       "});\n",
       "\n",
       "        \n",
       "            \n",
       "                var html_8e7f09f46f64088263e17f396565102a = $(`&lt;div id=&quot;html_8e7f09f46f64088263e17f396565102a&quot; style=&quot;width: 100.0%; height: 100.0%;&quot;&gt;(&quot;&lt;b style=&#x27;font-size: 18px; &#x27;&gt;Floridita&lt;/b&gt;&lt;br&gt;Direccion: Obispo No 557 esquina Monserrate&quot;, &quot;Especialidades: [&#x27;Mariscos&#x27;]&quot;)&lt;/div&gt;`)[0];\n",
       "                popup_6971e61f54b54d88f9bebb00753c3f65.setContent(html_8e7f09f46f64088263e17f396565102a);\n",
       "            \n",
       "        \n",
       "\n",
       "        marker_d4657ec5f25fc568091b703c11049821.bindPopup(popup_6971e61f54b54d88f9bebb00753c3f65)\n",
       "        ;\n",
       "\n",
       "        \n",
       "    \n",
       "    \n",
       "            var marker_50a54114f6d358e598be3dab451c5e74 = L.marker(\n",
       "                [23.140492623277456, -82.35174687469267],\n",
       "                {\n",
       "}\n",
       "            ).addTo(map_c1bd0692b3c890e2cab86875cb676aa0);\n",
       "        \n",
       "    \n",
       "            var icon_dccac2204c2b6a1d2f4e7197f332b325 = L.AwesomeMarkers.icon(\n",
       "                {\n",
       "  &quot;markerColor&quot;: &quot;red&quot;,\n",
       "  &quot;iconColor&quot;: &quot;white&quot;,\n",
       "  &quot;icon&quot;: &quot;cutlery&quot;,\n",
       "  &quot;prefix&quot;: &quot;fa&quot;,\n",
       "  &quot;extraClasses&quot;: &quot;fa-rotate-0&quot;,\n",
       "}\n",
       "            );\n",
       "            marker_50a54114f6d358e598be3dab451c5e74.setIcon(icon_dccac2204c2b6a1d2f4e7197f332b325);\n",
       "        \n",
       "    \n",
       "        var popup_76de3e3d0ed7523dad307bbe4743924d = L.popup({\n",
       "  &quot;maxWidth&quot;: &quot;100%&quot;,\n",
       "});\n",
       "\n",
       "        \n",
       "            \n",
       "                var html_1905bdf8faf17492d988cc168c8ecec2 = $(`&lt;div id=&quot;html_1905bdf8faf17492d988cc168c8ecec2&quot; style=&quot;width: 100.0%; height: 100.0%;&quot;&gt;(&quot;&lt;b style=&#x27;font-size: 18px; &#x27;&gt;Fonda Al Pirata&lt;/b&gt;&lt;br&gt;Direccion: San Ignacio #76 e/ O&#x27;Reilly y Empedrado&quot;, &quot;Especialidades: [&#x27;Caribena&#x27;, &#x27;Cubana&#x27;]&quot;)&lt;/div&gt;`)[0];\n",
       "                popup_76de3e3d0ed7523dad307bbe4743924d.setContent(html_1905bdf8faf17492d988cc168c8ecec2);\n",
       "            \n",
       "        \n",
       "\n",
       "        marker_50a54114f6d358e598be3dab451c5e74.bindPopup(popup_76de3e3d0ed7523dad307bbe4743924d)\n",
       "        ;\n",
       "\n",
       "        \n",
       "    \n",
       "    \n",
       "            var marker_5a6df209a03480688e7da1980fd68545 = L.marker(\n",
       "                [23.108876604302726, -82.440550925563],\n",
       "                {\n",
       "}\n",
       "            ).addTo(map_c1bd0692b3c890e2cab86875cb676aa0);\n",
       "        \n",
       "    \n",
       "            var icon_567dd301b55dbeea77c84cc4aee92f1e = L.AwesomeMarkers.icon(\n",
       "                {\n",
       "  &quot;markerColor&quot;: &quot;red&quot;,\n",
       "  &quot;iconColor&quot;: &quot;white&quot;,\n",
       "  &quot;icon&quot;: &quot;cutlery&quot;,\n",
       "  &quot;prefix&quot;: &quot;fa&quot;,\n",
       "  &quot;extraClasses&quot;: &quot;fa-rotate-0&quot;,\n",
       "}\n",
       "            );\n",
       "            marker_5a6df209a03480688e7da1980fd68545.setIcon(icon_567dd301b55dbeea77c84cc4aee92f1e);\n",
       "        \n",
       "    \n",
       "        var popup_e086441a277f4d29412dd4f9ef3e08d0 = L.popup({\n",
       "  &quot;maxWidth&quot;: &quot;100%&quot;,\n",
       "});\n",
       "\n",
       "        \n",
       "            \n",
       "                var html_dd2bd115da96e4c8c31f1770202598c0 = $(`&lt;div id=&quot;html_dd2bd115da96e4c8c31f1770202598c0&quot; style=&quot;width: 100.0%; height: 100.0%;&quot;&gt;(&quot;&lt;b style=&#x27;font-size: 18px; &#x27;&gt;FoodTruck Pelegrin&lt;/b&gt;&lt;br&gt;Direccion:  Miramar Trade Center, Centro de Negocios&quot;, &quot;Especialidades: [&#x27;cubana&#x27;, &#x27;internacional&#x27;]&quot;)&lt;/div&gt;`)[0];\n",
       "                popup_e086441a277f4d29412dd4f9ef3e08d0.setContent(html_dd2bd115da96e4c8c31f1770202598c0);\n",
       "            \n",
       "        \n",
       "\n",
       "        marker_5a6df209a03480688e7da1980fd68545.bindPopup(popup_e086441a277f4d29412dd4f9ef3e08d0)\n",
       "        ;\n",
       "\n",
       "        \n",
       "    \n",
       "    \n",
       "            var marker_3d72c58927f364a6d654d9111a31ebfd = L.marker(\n",
       "                [23.108117348063423, -82.4341893999906],\n",
       "                {\n",
       "}\n",
       "            ).addTo(map_c1bd0692b3c890e2cab86875cb676aa0);\n",
       "        \n",
       "    \n",
       "            var icon_f8b51c04c8fdb237d51833d52412a587 = L.AwesomeMarkers.icon(\n",
       "                {\n",
       "  &quot;markerColor&quot;: &quot;red&quot;,\n",
       "  &quot;iconColor&quot;: &quot;white&quot;,\n",
       "  &quot;icon&quot;: &quot;cutlery&quot;,\n",
       "  &quot;prefix&quot;: &quot;fa&quot;,\n",
       "  &quot;extraClasses&quot;: &quot;fa-rotate-0&quot;,\n",
       "}\n",
       "            );\n",
       "            marker_3d72c58927f364a6d654d9111a31ebfd.setIcon(icon_f8b51c04c8fdb237d51833d52412a587);\n",
       "        \n",
       "    \n",
       "        var popup_cab83678c75cff211197fcb1ff1e5e2d = L.popup({\n",
       "  &quot;maxWidth&quot;: &quot;100%&quot;,\n",
       "});\n",
       "\n",
       "        \n",
       "            \n",
       "                var html_a9d7e3470da19c6077143e99d828c4aa = $(`&lt;div id=&quot;html_a9d7e3470da19c6077143e99d828c4aa&quot; style=&quot;width: 100.0%; height: 100.0%;&quot;&gt;(&quot;&lt;b style=&#x27;font-size: 18px; &#x27;&gt;FoodMaster&lt;/b&gt;&lt;br&gt;Direccion: 7 A&quot;, &quot;Especialidades: [&#x27;Mexicana&#x27;, &#x27;Americana&#x27;, &#x27;Café&#x27;, &#x27;Internacional&#x27;, &#x27;Pizzas&#x27;]&quot;)&lt;/div&gt;`)[0];\n",
       "                popup_cab83678c75cff211197fcb1ff1e5e2d.setContent(html_a9d7e3470da19c6077143e99d828c4aa);\n",
       "            \n",
       "        \n",
       "\n",
       "        marker_3d72c58927f364a6d654d9111a31ebfd.bindPopup(popup_cab83678c75cff211197fcb1ff1e5e2d)\n",
       "        ;\n",
       "\n",
       "        \n",
       "    \n",
       "    \n",
       "            var marker_2da6691141fe52e93b977829a446efa0 = L.marker(\n",
       "                [23.12209228452483, -82.40512312898908],\n",
       "                {\n",
       "}\n",
       "            ).addTo(map_c1bd0692b3c890e2cab86875cb676aa0);\n",
       "        \n",
       "    \n",
       "            var icon_fee778145ffa50686707cff8f7db20ba = L.AwesomeMarkers.icon(\n",
       "                {\n",
       "  &quot;markerColor&quot;: &quot;red&quot;,\n",
       "  &quot;iconColor&quot;: &quot;white&quot;,\n",
       "  &quot;icon&quot;: &quot;cutlery&quot;,\n",
       "  &quot;prefix&quot;: &quot;fa&quot;,\n",
       "  &quot;extraClasses&quot;: &quot;fa-rotate-0&quot;,\n",
       "}\n",
       "            );\n",
       "            marker_2da6691141fe52e93b977829a446efa0.setIcon(icon_fee778145ffa50686707cff8f7db20ba);\n",
       "        \n",
       "    \n",
       "        var popup_d6ec5897c02808aa65b91e3268880750 = L.popup({\n",
       "  &quot;maxWidth&quot;: &quot;100%&quot;,\n",
       "});\n",
       "\n",
       "        \n",
       "            \n",
       "                var html_3fffff94a6abc850dbec574f1341d689 = $(`&lt;div id=&quot;html_3fffff94a6abc850dbec574f1341d689&quot; style=&quot;width: 100.0%; height: 100.0%;&quot;&gt;(&quot;&lt;b style=&#x27;font-size: 18px; &#x27;&gt;Fumiyaki&lt;/b&gt;&lt;br&gt;Direccion: Ave 26, No 367 ,entre calle 23 y calle 25, Vedado&quot;, &quot;Especialidades: [&#x27;Comida japonesa&#x27;, &#x27;asiatica&#x27;, &#x27;sushi&#x27;, &#x27;cubana&#x27;]&quot;)&lt;/div&gt;`)[0];\n",
       "                popup_d6ec5897c02808aa65b91e3268880750.setContent(html_3fffff94a6abc850dbec574f1341d689);\n",
       "            \n",
       "        \n",
       "\n",
       "        marker_2da6691141fe52e93b977829a446efa0.bindPopup(popup_d6ec5897c02808aa65b91e3268880750)\n",
       "        ;\n",
       "\n",
       "        \n",
       "    \n",
       "    \n",
       "            var marker_61c5a21d304693d12c0947a7546b4b9c = L.marker(\n",
       "                [23.135893503982505, -82.36265785250283],\n",
       "                {\n",
       "}\n",
       "            ).addTo(map_c1bd0692b3c890e2cab86875cb676aa0);\n",
       "        \n",
       "    \n",
       "            var icon_ec91885a6087543b56890729ab43056e = L.AwesomeMarkers.icon(\n",
       "                {\n",
       "  &quot;markerColor&quot;: &quot;red&quot;,\n",
       "  &quot;iconColor&quot;: &quot;white&quot;,\n",
       "  &quot;icon&quot;: &quot;cutlery&quot;,\n",
       "  &quot;prefix&quot;: &quot;fa&quot;,\n",
       "  &quot;extraClasses&quot;: &quot;fa-rotate-0&quot;,\n",
       "}\n",
       "            );\n",
       "            marker_61c5a21d304693d12c0947a7546b4b9c.setIcon(icon_ec91885a6087543b56890729ab43056e);\n",
       "        \n",
       "    \n",
       "        var popup_7f78f00d9ef1802718aed5f6e967012c = L.popup({\n",
       "  &quot;maxWidth&quot;: &quot;100%&quot;,\n",
       "});\n",
       "\n",
       "        \n",
       "            \n",
       "                var html_ed0df8296c4191322618042119c7ea64 = $(`&lt;div id=&quot;html_ed0df8296c4191322618042119c7ea64&quot; style=&quot;width: 100.0%; height: 100.0%;&quot;&gt;(&quot;&lt;b style=&#x27;font-size: 18px; &#x27;&gt;Galy Cafe&lt;/b&gt;&lt;br&gt;Direccion: San Martin entre Galeano y Aguila&quot;, &quot;Especialidades: [&#x27;caribeña&#x27;, &#x27;latina&#x27;, &#x27;internacional&#x27;, &#x27;cubana&#x27;]&quot;)&lt;/div&gt;`)[0];\n",
       "                popup_7f78f00d9ef1802718aed5f6e967012c.setContent(html_ed0df8296c4191322618042119c7ea64);\n",
       "            \n",
       "        \n",
       "\n",
       "        marker_61c5a21d304693d12c0947a7546b4b9c.bindPopup(popup_7f78f00d9ef1802718aed5f6e967012c)\n",
       "        ;\n",
       "\n",
       "        \n",
       "    \n",
       "    \n",
       "            var marker_8470fee0cf6e49d725fccfed0632cb61 = L.marker(\n",
       "                [23.14374457538385, -82.35553752883533],\n",
       "                {\n",
       "}\n",
       "            ).addTo(map_c1bd0692b3c890e2cab86875cb676aa0);\n",
       "        \n",
       "    \n",
       "            var icon_78d505398c397134e8003fa3207d9afd = L.AwesomeMarkers.icon(\n",
       "                {\n",
       "  &quot;markerColor&quot;: &quot;red&quot;,\n",
       "  &quot;iconColor&quot;: &quot;white&quot;,\n",
       "  &quot;icon&quot;: &quot;cutlery&quot;,\n",
       "  &quot;prefix&quot;: &quot;fa&quot;,\n",
       "  &quot;extraClasses&quot;: &quot;fa-rotate-0&quot;,\n",
       "}\n",
       "            );\n",
       "            marker_8470fee0cf6e49d725fccfed0632cb61.setIcon(icon_78d505398c397134e8003fa3207d9afd);\n",
       "        \n",
       "    \n",
       "        var popup_d30e0ae0d62bdead53e4ae79a117eef1 = L.popup({\n",
       "  &quot;maxWidth&quot;: &quot;100%&quot;,\n",
       "});\n",
       "\n",
       "        \n",
       "            \n",
       "                var html_3c8f56fe45fdd8c0cdca672ee1e7bb2d = $(`&lt;div id=&quot;html_3c8f56fe45fdd8c0cdca672ee1e7bb2d&quot; style=&quot;width: 100.0%; height: 100.0%;&quot;&gt;(&quot;&lt;b style=&#x27;font-size: 18px; &#x27;&gt;Habana 5 Rooftop&lt;/b&gt;&lt;br&gt;Direccion: Calle Habana entre Pena Pobre y Av. Belgica&quot;, &quot;Especialidades: [&#x27;Internacional&#x27;, &#x27;cubana&#x27;]&quot;)&lt;/div&gt;`)[0];\n",
       "                popup_d30e0ae0d62bdead53e4ae79a117eef1.setContent(html_3c8f56fe45fdd8c0cdca672ee1e7bb2d);\n",
       "            \n",
       "        \n",
       "\n",
       "        marker_8470fee0cf6e49d725fccfed0632cb61.bindPopup(popup_d30e0ae0d62bdead53e4ae79a117eef1)\n",
       "        ;\n",
       "\n",
       "        \n",
       "    \n",
       "    \n",
       "            var marker_3e5169ff572b9dbeb6ee37cbd36edcd7 = L.marker(\n",
       "                [23.142484323536937, -82.35509901886921],\n",
       "                {\n",
       "}\n",
       "            ).addTo(map_c1bd0692b3c890e2cab86875cb676aa0);\n",
       "        \n",
       "    \n",
       "            var icon_3b341c68f15433441813de78000cd959 = L.AwesomeMarkers.icon(\n",
       "                {\n",
       "  &quot;markerColor&quot;: &quot;red&quot;,\n",
       "  &quot;iconColor&quot;: &quot;white&quot;,\n",
       "  &quot;icon&quot;: &quot;cutlery&quot;,\n",
       "  &quot;prefix&quot;: &quot;fa&quot;,\n",
       "  &quot;extraClasses&quot;: &quot;fa-rotate-0&quot;,\n",
       "}\n",
       "            );\n",
       "            marker_3e5169ff572b9dbeb6ee37cbd36edcd7.setIcon(icon_3b341c68f15433441813de78000cd959);\n",
       "        \n",
       "    \n",
       "        var popup_fc2d6aca0de617e7cb7a70fdd557e793 = L.popup({\n",
       "  &quot;maxWidth&quot;: &quot;100%&quot;,\n",
       "});\n",
       "\n",
       "        \n",
       "            \n",
       "                var html_c1df58e874c2b2c22e6ea06702689bd5 = $(`&lt;div id=&quot;html_c1df58e874c2b2c22e6ea06702689bd5&quot; style=&quot;width: 100.0%; height: 100.0%;&quot;&gt;(&quot;&lt;b style=&#x27;font-size: 18px; &#x27;&gt;Habana 61&lt;/b&gt;&lt;br&gt;Direccion: Calle Habana #61 entre Peña Pobre y Cuarteles&quot;, &quot;Especialidades: [&#x27;Mixta&#x27;]&quot;)&lt;/div&gt;`)[0];\n",
       "                popup_fc2d6aca0de617e7cb7a70fdd557e793.setContent(html_c1df58e874c2b2c22e6ea06702689bd5);\n",
       "            \n",
       "        \n",
       "\n",
       "        marker_3e5169ff572b9dbeb6ee37cbd36edcd7.bindPopup(popup_fc2d6aca0de617e7cb7a70fdd557e793)\n",
       "        ;\n",
       "\n",
       "        \n",
       "    \n",
       "    \n",
       "            var marker_33530a5ee28b795b76695196636987c9 = L.marker(\n",
       "                [23.13923764561611, -82.3885387467372],\n",
       "                {\n",
       "}\n",
       "            ).addTo(map_c1bd0692b3c890e2cab86875cb676aa0);\n",
       "        \n",
       "    \n",
       "            var icon_a7371a28988d1290f3c3f0766fdb7ab2 = L.AwesomeMarkers.icon(\n",
       "                {\n",
       "  &quot;markerColor&quot;: &quot;red&quot;,\n",
       "  &quot;iconColor&quot;: &quot;white&quot;,\n",
       "  &quot;icon&quot;: &quot;cutlery&quot;,\n",
       "  &quot;prefix&quot;: &quot;fa&quot;,\n",
       "  &quot;extraClasses&quot;: &quot;fa-rotate-0&quot;,\n",
       "}\n",
       "            );\n",
       "            marker_33530a5ee28b795b76695196636987c9.setIcon(icon_a7371a28988d1290f3c3f0766fdb7ab2);\n",
       "        \n",
       "    \n",
       "        var popup_6f195bffed1477532c34d8d66c26f831 = L.popup({\n",
       "  &quot;maxWidth&quot;: &quot;100%&quot;,\n",
       "});\n",
       "\n",
       "        \n",
       "            \n",
       "                var html_f50f7c3ba5cd81e9522e4499bd8c002c = $(`&lt;div id=&quot;html_f50f7c3ba5cd81e9522e4499bd8c002c&quot; style=&quot;width: 100.0%; height: 100.0%;&quot;&gt;(&quot;&lt;b style=&#x27;font-size: 18px; &#x27;&gt;Habana Blues&lt;/b&gt;&lt;br&gt;Direccion: Calle H no. 405 entre 17 y 19, Vedado&quot;, &quot;Especialidades: [&#x27;Comida caribeña&#x27;, &#x27;latina&#x27;, &#x27;criolla&#x27;, &#x27;cubana&#x27;]&quot;)&lt;/div&gt;`)[0];\n",
       "                popup_6f195bffed1477532c34d8d66c26f831.setContent(html_f50f7c3ba5cd81e9522e4499bd8c002c);\n",
       "            \n",
       "        \n",
       "\n",
       "        marker_33530a5ee28b795b76695196636987c9.bindPopup(popup_6f195bffed1477532c34d8d66c26f831)\n",
       "        ;\n",
       "\n",
       "        \n",
       "    \n",
       "    \n",
       "            var marker_a1d8e9286c6a4f1ff6156e2bde751ad7 = L.marker(\n",
       "                [23.137436298849373, -82.3563168151748],\n",
       "                {\n",
       "}\n",
       "            ).addTo(map_c1bd0692b3c890e2cab86875cb676aa0);\n",
       "        \n",
       "    \n",
       "            var icon_9bd09719971582e03b83e7d920145f8c = L.AwesomeMarkers.icon(\n",
       "                {\n",
       "  &quot;markerColor&quot;: &quot;red&quot;,\n",
       "  &quot;iconColor&quot;: &quot;white&quot;,\n",
       "  &quot;icon&quot;: &quot;cutlery&quot;,\n",
       "  &quot;prefix&quot;: &quot;fa&quot;,\n",
       "  &quot;extraClasses&quot;: &quot;fa-rotate-0&quot;,\n",
       "}\n",
       "            );\n",
       "            marker_a1d8e9286c6a4f1ff6156e2bde751ad7.setIcon(icon_9bd09719971582e03b83e7d920145f8c);\n",
       "        \n",
       "    \n",
       "        var popup_43195396f34b59c2809661b7ef2911fc = L.popup({\n",
       "  &quot;maxWidth&quot;: &quot;100%&quot;,\n",
       "});\n",
       "\n",
       "        \n",
       "            \n",
       "                var html_c4eafaf461efdccb54d002635f10b272 = $(`&lt;div id=&quot;html_c4eafaf461efdccb54d002635f10b272&quot; style=&quot;width: 100.0%; height: 100.0%;&quot;&gt;(&quot;&lt;b style=&#x27;font-size: 18px; &#x27;&gt;Habana Tokio&lt;/b&gt;&lt;br&gt;Direccion: Calle Obrapía entre Bernaza y Villegas&quot;, &quot;Especialidades: [&#x27;Japonesa&#x27;]&quot;)&lt;/div&gt;`)[0];\n",
       "                popup_43195396f34b59c2809661b7ef2911fc.setContent(html_c4eafaf461efdccb54d002635f10b272);\n",
       "            \n",
       "        \n",
       "\n",
       "        marker_a1d8e9286c6a4f1ff6156e2bde751ad7.bindPopup(popup_43195396f34b59c2809661b7ef2911fc)\n",
       "        ;\n",
       "\n",
       "        \n",
       "    \n",
       "    \n",
       "            var marker_d1be79b4f2f2b35432b06f5893e03729 = L.marker(\n",
       "                [23.131252647235588, -82.37457288968206],\n",
       "                {\n",
       "}\n",
       "            ).addTo(map_c1bd0692b3c890e2cab86875cb676aa0);\n",
       "        \n",
       "    \n",
       "            var icon_1537832a7895a94bca9e067b7838c431 = L.AwesomeMarkers.icon(\n",
       "                {\n",
       "  &quot;markerColor&quot;: &quot;red&quot;,\n",
       "  &quot;iconColor&quot;: &quot;white&quot;,\n",
       "  &quot;icon&quot;: &quot;cutlery&quot;,\n",
       "  &quot;prefix&quot;: &quot;fa&quot;,\n",
       "  &quot;extraClasses&quot;: &quot;fa-rotate-0&quot;,\n",
       "}\n",
       "            );\n",
       "            marker_d1be79b4f2f2b35432b06f5893e03729.setIcon(icon_1537832a7895a94bca9e067b7838c431);\n",
       "        \n",
       "    \n",
       "        var popup_414c724a9ced2afe54f2b9b221b6b793 = L.popup({\n",
       "  &quot;maxWidth&quot;: &quot;100%&quot;,\n",
       "});\n",
       "\n",
       "        \n",
       "            \n",
       "                var html_dd1547d985e3febafbe1f02167c02b11 = $(`&lt;div id=&quot;html_dd1547d985e3febafbe1f02167c02b11&quot; style=&quot;width: 100.0%; height: 100.0%;&quot;&gt;(&quot;&lt;b style=&#x27;font-size: 18px; &#x27;&gt;Hamburgo&lt;/b&gt;&lt;br&gt;Direccion: Carlos III entre Retiro y Arbol Seco&quot;, &quot;Especialidades: [&#x27;americana&#x27;]&quot;)&lt;/div&gt;`)[0];\n",
       "                popup_414c724a9ced2afe54f2b9b221b6b793.setContent(html_dd1547d985e3febafbe1f02167c02b11);\n",
       "            \n",
       "        \n",
       "\n",
       "        marker_d1be79b4f2f2b35432b06f5893e03729.bindPopup(popup_414c724a9ced2afe54f2b9b221b6b793)\n",
       "        ;\n",
       "\n",
       "        \n",
       "    \n",
       "    \n",
       "            var marker_de9ecdc5f5d0f8dcc81e118b98c62d54 = L.marker(\n",
       "                [23.0881096622714, -82.36848083672511],\n",
       "                {\n",
       "}\n",
       "            ).addTo(map_c1bd0692b3c890e2cab86875cb676aa0);\n",
       "        \n",
       "    \n",
       "            var icon_dd69408c4779f3df2a9026ec48257913 = L.AwesomeMarkers.icon(\n",
       "                {\n",
       "  &quot;markerColor&quot;: &quot;red&quot;,\n",
       "  &quot;iconColor&quot;: &quot;white&quot;,\n",
       "  &quot;icon&quot;: &quot;cutlery&quot;,\n",
       "  &quot;prefix&quot;: &quot;fa&quot;,\n",
       "  &quot;extraClasses&quot;: &quot;fa-rotate-0&quot;,\n",
       "}\n",
       "            );\n",
       "            marker_de9ecdc5f5d0f8dcc81e118b98c62d54.setIcon(icon_dd69408c4779f3df2a9026ec48257913);\n",
       "        \n",
       "    \n",
       "        var popup_279a1c749d1d016c6f863c17d6c66fa2 = L.popup({\n",
       "  &quot;maxWidth&quot;: &quot;100%&quot;,\n",
       "});\n",
       "\n",
       "        \n",
       "            \n",
       "                var html_e009a23ec6ee37ceb6a2508df9e4895c = $(`&lt;div id=&quot;html_e009a23ec6ee37ceb6a2508df9e4895c&quot; style=&quot;width: 100.0%; height: 100.0%;&quot;&gt;(&quot;&lt;b style=&#x27;font-size: 18px; &#x27;&gt;Heredia&lt;/b&gt;&lt;br&gt;Direccion: Calle Heredia % Avenida Acosta y O&#x27;Farril&quot;, &#x27;Especialidades: []&#x27;)&lt;/div&gt;`)[0];\n",
       "                popup_279a1c749d1d016c6f863c17d6c66fa2.setContent(html_e009a23ec6ee37ceb6a2508df9e4895c);\n",
       "            \n",
       "        \n",
       "\n",
       "        marker_de9ecdc5f5d0f8dcc81e118b98c62d54.bindPopup(popup_279a1c749d1d016c6f863c17d6c66fa2)\n",
       "        ;\n",
       "\n",
       "        \n",
       "    \n",
       "    \n",
       "            var marker_0887c373261668b6044bfa6e6c4e2547 = L.marker(\n",
       "                [23.101888417856312, -82.43068882213893],\n",
       "                {\n",
       "}\n",
       "            ).addTo(map_c1bd0692b3c890e2cab86875cb676aa0);\n",
       "        \n",
       "    \n",
       "            var icon_e3be0fb96d669451bab6012b3730c073 = L.AwesomeMarkers.icon(\n",
       "                {\n",
       "  &quot;markerColor&quot;: &quot;red&quot;,\n",
       "  &quot;iconColor&quot;: &quot;white&quot;,\n",
       "  &quot;icon&quot;: &quot;cutlery&quot;,\n",
       "  &quot;prefix&quot;: &quot;fa&quot;,\n",
       "  &quot;extraClasses&quot;: &quot;fa-rotate-0&quot;,\n",
       "}\n",
       "            );\n",
       "            marker_0887c373261668b6044bfa6e6c4e2547.setIcon(icon_e3be0fb96d669451bab6012b3730c073);\n",
       "        \n",
       "    \n",
       "        var popup_fd8be8e1ad81722e9bf9efbbd9e8515e = L.popup({\n",
       "  &quot;maxWidth&quot;: &quot;100%&quot;,\n",
       "});\n",
       "\n",
       "        \n",
       "            \n",
       "                var html_4cc2a8dd992050550e9c62f0b316280a = $(`&lt;div id=&quot;html_4cc2a8dd992050550e9c62f0b316280a&quot; style=&quot;width: 100.0%; height: 100.0%;&quot;&gt;(&quot;&lt;b style=&#x27;font-size: 18px; &#x27;&gt;Home Deli&lt;/b&gt;&lt;br&gt;Direccion: 19&quot;, &quot;Especialidades: [&#x27;italiana&#x27;]&quot;)&lt;/div&gt;`)[0];\n",
       "                popup_fd8be8e1ad81722e9bf9efbbd9e8515e.setContent(html_4cc2a8dd992050550e9c62f0b316280a);\n",
       "            \n",
       "        \n",
       "\n",
       "        marker_0887c373261668b6044bfa6e6c4e2547.bindPopup(popup_fd8be8e1ad81722e9bf9efbbd9e8515e)\n",
       "        ;\n",
       "\n",
       "        \n",
       "    \n",
       "    \n",
       "            var marker_cd50c18b772365349f8178c16d8479f5 = L.marker(\n",
       "                [23.13499567642231, -82.37838807795364],\n",
       "                {\n",
       "}\n",
       "            ).addTo(map_c1bd0692b3c890e2cab86875cb676aa0);\n",
       "        \n",
       "    \n",
       "            var icon_e51d1049e51dc57bdba6c9acb2299d2d = L.AwesomeMarkers.icon(\n",
       "                {\n",
       "  &quot;markerColor&quot;: &quot;red&quot;,\n",
       "  &quot;iconColor&quot;: &quot;white&quot;,\n",
       "  &quot;icon&quot;: &quot;cutlery&quot;,\n",
       "  &quot;prefix&quot;: &quot;fa&quot;,\n",
       "  &quot;extraClasses&quot;: &quot;fa-rotate-0&quot;,\n",
       "}\n",
       "            );\n",
       "            marker_cd50c18b772365349f8178c16d8479f5.setIcon(icon_e51d1049e51dc57bdba6c9acb2299d2d);\n",
       "        \n",
       "    \n",
       "        var popup_be4a2e846a7bc51b2d3c121a082deff6 = L.popup({\n",
       "  &quot;maxWidth&quot;: &quot;100%&quot;,\n",
       "});\n",
       "\n",
       "        \n",
       "            \n",
       "                var html_6469533062e62f32127a2c82ac23916c = $(`&lt;div id=&quot;html_6469533062e62f32127a2c82ac23916c&quot; style=&quot;width: 100.0%; height: 100.0%;&quot;&gt;(&quot;&lt;b style=&#x27;font-size: 18px; &#x27;&gt;&lt;/b&gt;&lt;br&gt;Direccion: Infanta 560&quot;, &quot;Especialidades: [&#x27;italiana&#x27;]&quot;)&lt;/div&gt;`)[0];\n",
       "                popup_be4a2e846a7bc51b2d3c121a082deff6.setContent(html_6469533062e62f32127a2c82ac23916c);\n",
       "            \n",
       "        \n",
       "\n",
       "        marker_cd50c18b772365349f8178c16d8479f5.bindPopup(popup_be4a2e846a7bc51b2d3c121a082deff6)\n",
       "        ;\n",
       "\n",
       "        \n",
       "    \n",
       "    \n",
       "            var marker_02f6e98499eaa0c920ac34845ff0f03c = L.marker(\n",
       "                [23.166623898573555, -82.27753889194905],\n",
       "                {\n",
       "}\n",
       "            ).addTo(map_c1bd0692b3c890e2cab86875cb676aa0);\n",
       "        \n",
       "    \n",
       "            var icon_c1e86eb44db2cac45eb3b26d1240e882 = L.AwesomeMarkers.icon(\n",
       "                {\n",
       "  &quot;markerColor&quot;: &quot;red&quot;,\n",
       "  &quot;iconColor&quot;: &quot;white&quot;,\n",
       "  &quot;icon&quot;: &quot;cutlery&quot;,\n",
       "  &quot;prefix&quot;: &quot;fa&quot;,\n",
       "  &quot;extraClasses&quot;: &quot;fa-rotate-0&quot;,\n",
       "}\n",
       "            );\n",
       "            marker_02f6e98499eaa0c920ac34845ff0f03c.setIcon(icon_c1e86eb44db2cac45eb3b26d1240e882);\n",
       "        \n",
       "    \n",
       "        var popup_54c902d8d282760ec1bcc65604d195cb = L.popup({\n",
       "  &quot;maxWidth&quot;: &quot;100%&quot;,\n",
       "});\n",
       "\n",
       "        \n",
       "            \n",
       "                var html_26ac2a616bf51480ad39fa17ecb717ed = $(`&lt;div id=&quot;html_26ac2a616bf51480ad39fa17ecb717ed&quot; style=&quot;width: 100.0%; height: 100.0%;&quot;&gt;(&quot;&lt;b style=&#x27;font-size: 18px; &#x27;&gt;Jackfe&lt;/b&gt;&lt;br&gt;Direccion: Calle 164B, #3B01, Esquina 3ra B, Mercado de los Rusos, zona 1, Alamar&quot;, &quot;Especialidades: [&#x27;Comida mixta&#x27;]&quot;)&lt;/div&gt;`)[0];\n",
       "                popup_54c902d8d282760ec1bcc65604d195cb.setContent(html_26ac2a616bf51480ad39fa17ecb717ed);\n",
       "            \n",
       "        \n",
       "\n",
       "        marker_02f6e98499eaa0c920ac34845ff0f03c.bindPopup(popup_54c902d8d282760ec1bcc65604d195cb)\n",
       "        ;\n",
       "\n",
       "        \n",
       "    \n",
       "    \n",
       "            var marker_4c317a40f85ae57a35dc152b11e6faf1 = L.marker(\n",
       "                [23.140066946343797, -82.35321025582338],\n",
       "                {\n",
       "}\n",
       "            ).addTo(map_c1bd0692b3c890e2cab86875cb676aa0);\n",
       "        \n",
       "    \n",
       "            var icon_90facbe21b248ff7d115697e3db9c425 = L.AwesomeMarkers.icon(\n",
       "                {\n",
       "  &quot;markerColor&quot;: &quot;red&quot;,\n",
       "  &quot;iconColor&quot;: &quot;white&quot;,\n",
       "  &quot;icon&quot;: &quot;cutlery&quot;,\n",
       "  &quot;prefix&quot;: &quot;fa&quot;,\n",
       "  &quot;extraClasses&quot;: &quot;fa-rotate-0&quot;,\n",
       "}\n",
       "            );\n",
       "            marker_4c317a40f85ae57a35dc152b11e6faf1.setIcon(icon_90facbe21b248ff7d115697e3db9c425);\n",
       "        \n",
       "    \n",
       "        var popup_d365d481bcd98234f52d4c86afb8e86d = L.popup({\n",
       "  &quot;maxWidth&quot;: &quot;100%&quot;,\n",
       "});\n",
       "\n",
       "        \n",
       "            \n",
       "                var html_ed0b89dd16c0b42236205b03e3d51918 = $(`&lt;div id=&quot;html_ed0b89dd16c0b42236205b03e3d51918&quot; style=&quot;width: 100.0%; height: 100.0%;&quot;&gt;(&quot;&lt;b style=&#x27;font-size: 18px; &#x27;&gt;JAMA Asian Food&lt;/b&gt;&lt;br&gt;Direccion: Calle Aguiar No 251 B entre OReilly y Empedrado&quot;, &quot;Especialidades: [&#x27;Comida Japonesa&#x27;, &#x27;Sushi&#x27;, &#x27;Asiática&#x27;]&quot;)&lt;/div&gt;`)[0];\n",
       "                popup_d365d481bcd98234f52d4c86afb8e86d.setContent(html_ed0b89dd16c0b42236205b03e3d51918);\n",
       "            \n",
       "        \n",
       "\n",
       "        marker_4c317a40f85ae57a35dc152b11e6faf1.bindPopup(popup_d365d481bcd98234f52d4c86afb8e86d)\n",
       "        ;\n",
       "\n",
       "        \n",
       "    \n",
       "    \n",
       "            var marker_406ea208f32a0bddf69ebff9928a2f51 = L.marker(\n",
       "                [23.088147890970745, -82.37788683401902],\n",
       "                {\n",
       "}\n",
       "            ).addTo(map_c1bd0692b3c890e2cab86875cb676aa0);\n",
       "        \n",
       "    \n",
       "            var icon_05d3376857c4dbfa3c372043ace45e87 = L.AwesomeMarkers.icon(\n",
       "                {\n",
       "  &quot;markerColor&quot;: &quot;red&quot;,\n",
       "  &quot;iconColor&quot;: &quot;white&quot;,\n",
       "  &quot;icon&quot;: &quot;cutlery&quot;,\n",
       "  &quot;prefix&quot;: &quot;fa&quot;,\n",
       "  &quot;extraClasses&quot;: &quot;fa-rotate-0&quot;,\n",
       "}\n",
       "            );\n",
       "            marker_406ea208f32a0bddf69ebff9928a2f51.setIcon(icon_05d3376857c4dbfa3c372043ace45e87);\n",
       "        \n",
       "    \n",
       "        var popup_b6e9792a7078dad685c750237e80d220 = L.popup({\n",
       "  &quot;maxWidth&quot;: &quot;100%&quot;,\n",
       "});\n",
       "\n",
       "        \n",
       "            \n",
       "                var html_3a362cedd3ad480509ba7fb5e12050e8 = $(`&lt;div id=&quot;html_3a362cedd3ad480509ba7fb5e12050e8&quot; style=&quot;width: 100.0%; height: 100.0%;&quot;&gt;(&quot;&lt;b style=&#x27;font-size: 18px; &#x27;&gt;Joe&#x27;s Burguer&lt;/b&gt;&lt;br&gt;Direccion: Esquina Mayia Rodriguez y Aranguren&quot;, &quot;Especialidades: [&#x27;americana&#x27;, &#x27;internacional&#x27;]&quot;)&lt;/div&gt;`)[0];\n",
       "                popup_b6e9792a7078dad685c750237e80d220.setContent(html_3a362cedd3ad480509ba7fb5e12050e8);\n",
       "            \n",
       "        \n",
       "\n",
       "        marker_406ea208f32a0bddf69ebff9928a2f51.bindPopup(popup_b6e9792a7078dad685c750237e80d220)\n",
       "        ;\n",
       "\n",
       "        \n",
       "    \n",
       "    \n",
       "            var marker_51589476f3a8cf21d07217bd9d44d200 = L.marker(\n",
       "                [23.12090996621169, -82.37354001445844],\n",
       "                {\n",
       "}\n",
       "            ).addTo(map_c1bd0692b3c890e2cab86875cb676aa0);\n",
       "        \n",
       "    \n",
       "            var icon_2bf0f23d37f518336b0aa9793c340668 = L.AwesomeMarkers.icon(\n",
       "                {\n",
       "  &quot;markerColor&quot;: &quot;red&quot;,\n",
       "  &quot;iconColor&quot;: &quot;white&quot;,\n",
       "  &quot;icon&quot;: &quot;cutlery&quot;,\n",
       "  &quot;prefix&quot;: &quot;fa&quot;,\n",
       "  &quot;extraClasses&quot;: &quot;fa-rotate-0&quot;,\n",
       "}\n",
       "            );\n",
       "            marker_51589476f3a8cf21d07217bd9d44d200.setIcon(icon_2bf0f23d37f518336b0aa9793c340668);\n",
       "        \n",
       "    \n",
       "        var popup_7474e62c772a51d95d642105bca98c89 = L.popup({\n",
       "  &quot;maxWidth&quot;: &quot;100%&quot;,\n",
       "});\n",
       "\n",
       "        \n",
       "            \n",
       "                var html_6a9572d542080f57a06e85ecb20b7903 = $(`&lt;div id=&quot;html_6a9572d542080f57a06e85ecb20b7903&quot; style=&quot;width: 100.0%; height: 100.0%;&quot;&gt;(&quot;&lt;b style=&#x27;font-size: 18px; &#x27;&gt;Jorgito&#x27;s Pizzas&lt;/b&gt;&lt;br&gt;Direccion: Pedroso entre Infanta y Cruz del Pader&quot;, &quot;Especialidades: [&#x27;italiana&#x27;]&quot;)&lt;/div&gt;`)[0];\n",
       "                popup_7474e62c772a51d95d642105bca98c89.setContent(html_6a9572d542080f57a06e85ecb20b7903);\n",
       "            \n",
       "        \n",
       "\n",
       "        marker_51589476f3a8cf21d07217bd9d44d200.bindPopup(popup_7474e62c772a51d95d642105bca98c89)\n",
       "        ;\n",
       "\n",
       "        \n",
       "    \n",
       "    \n",
       "            var marker_8a11cb02c9db51235b3598b483f5de8c = L.marker(\n",
       "                [23.130003976381268, -82.41350459680528],\n",
       "                {\n",
       "}\n",
       "            ).addTo(map_c1bd0692b3c890e2cab86875cb676aa0);\n",
       "        \n",
       "    \n",
       "            var icon_91a92b36253ee5021fbdbe853372026c = L.AwesomeMarkers.icon(\n",
       "                {\n",
       "  &quot;markerColor&quot;: &quot;red&quot;,\n",
       "  &quot;iconColor&quot;: &quot;white&quot;,\n",
       "  &quot;icon&quot;: &quot;cutlery&quot;,\n",
       "  &quot;prefix&quot;: &quot;fa&quot;,\n",
       "  &quot;extraClasses&quot;: &quot;fa-rotate-0&quot;,\n",
       "}\n",
       "            );\n",
       "            marker_8a11cb02c9db51235b3598b483f5de8c.setIcon(icon_91a92b36253ee5021fbdbe853372026c);\n",
       "        \n",
       "    \n",
       "        var popup_6f899f0096ceca337c101e318e1e028c = L.popup({\n",
       "  &quot;maxWidth&quot;: &quot;100%&quot;,\n",
       "});\n",
       "\n",
       "        \n",
       "            \n",
       "                var html_3e33ecc0baa43acec9ba9027d91afce4 = $(`&lt;div id=&quot;html_3e33ecc0baa43acec9ba9027d91afce4&quot; style=&quot;width: 100.0%; height: 100.0%;&quot;&gt;(&quot;&lt;b style=&#x27;font-size: 18px; &#x27;&gt;Jota Jota&lt;/b&gt;&lt;br&gt;Direccion: Calle 0 entre 3ra y 5ta&quot;, &quot;Especialidades: [&#x27;italiana&#x27;]&quot;)&lt;/div&gt;`)[0];\n",
       "                popup_6f899f0096ceca337c101e318e1e028c.setContent(html_3e33ecc0baa43acec9ba9027d91afce4);\n",
       "            \n",
       "        \n",
       "\n",
       "        marker_8a11cb02c9db51235b3598b483f5de8c.bindPopup(popup_6f899f0096ceca337c101e318e1e028c)\n",
       "        ;\n",
       "\n",
       "        \n",
       "    \n",
       "    \n",
       "            var marker_0c07c239e0bb7b7f674143f89fa4c09d = L.marker(\n",
       "                [23.07212815069161, -82.46031809008416],\n",
       "                {\n",
       "}\n",
       "            ).addTo(map_c1bd0692b3c890e2cab86875cb676aa0);\n",
       "        \n",
       "    \n",
       "            var icon_6e4ac846312bca3ae577e7054ad7deb7 = L.AwesomeMarkers.icon(\n",
       "                {\n",
       "  &quot;markerColor&quot;: &quot;red&quot;,\n",
       "  &quot;iconColor&quot;: &quot;white&quot;,\n",
       "  &quot;icon&quot;: &quot;cutlery&quot;,\n",
       "  &quot;prefix&quot;: &quot;fa&quot;,\n",
       "  &quot;extraClasses&quot;: &quot;fa-rotate-0&quot;,\n",
       "}\n",
       "            );\n",
       "            marker_0c07c239e0bb7b7f674143f89fa4c09d.setIcon(icon_6e4ac846312bca3ae577e7054ad7deb7);\n",
       "        \n",
       "    \n",
       "        var popup_105c2bb88e1073587da39a7ae9e49053 = L.popup({\n",
       "  &quot;maxWidth&quot;: &quot;100%&quot;,\n",
       "});\n",
       "\n",
       "        \n",
       "            \n",
       "                var html_3d3415ec63412c834bff0520a2844aa8 = $(`&lt;div id=&quot;html_3d3415ec63412c834bff0520a2844aa8&quot; style=&quot;width: 100.0%; height: 100.0%;&quot;&gt;(&quot;&lt;b style=&#x27;font-size: 18px; &#x27;&gt;Juanky&#x27;s Pan&lt;/b&gt;&lt;br&gt;Direccion: 23 A entre 202 y 212 Reparto la Coronela &quot;, &quot;Especialidades: [&#x27;sandwich&#x27;]&quot;)&lt;/div&gt;`)[0];\n",
       "                popup_105c2bb88e1073587da39a7ae9e49053.setContent(html_3d3415ec63412c834bff0520a2844aa8);\n",
       "            \n",
       "        \n",
       "\n",
       "        marker_0c07c239e0bb7b7f674143f89fa4c09d.bindPopup(popup_105c2bb88e1073587da39a7ae9e49053)\n",
       "        ;\n",
       "\n",
       "        \n",
       "    \n",
       "    \n",
       "            var marker_0f4862c75a057e58ebe2ebc0ab50246e = L.marker(\n",
       "                [23.095284182284068, -82.36305903151953],\n",
       "                {\n",
       "}\n",
       "            ).addTo(map_c1bd0692b3c890e2cab86875cb676aa0);\n",
       "        \n",
       "    \n",
       "            var icon_87444d2b3c0cf0598cb73f7d7c7c0336 = L.AwesomeMarkers.icon(\n",
       "                {\n",
       "  &quot;markerColor&quot;: &quot;red&quot;,\n",
       "  &quot;iconColor&quot;: &quot;white&quot;,\n",
       "  &quot;icon&quot;: &quot;cutlery&quot;,\n",
       "  &quot;prefix&quot;: &quot;fa&quot;,\n",
       "  &quot;extraClasses&quot;: &quot;fa-rotate-0&quot;,\n",
       "}\n",
       "            );\n",
       "            marker_0f4862c75a057e58ebe2ebc0ab50246e.setIcon(icon_87444d2b3c0cf0598cb73f7d7c7c0336);\n",
       "        \n",
       "    \n",
       "        var popup_061a1c2775d57c7924f80a5a7d664efa = L.popup({\n",
       "  &quot;maxWidth&quot;: &quot;100%&quot;,\n",
       "});\n",
       "\n",
       "        \n",
       "            \n",
       "                var html_2163a55fada18d92faf0eb2249e5955a = $(`&lt;div id=&quot;html_2163a55fada18d92faf0eb2249e5955a&quot; style=&quot;width: 100.0%; height: 100.0%;&quot;&gt;(&quot;&lt;b style=&#x27;font-size: 18px; &#x27;&gt;Kafe DVD&lt;/b&gt;&lt;br&gt;Direccion: San Francisco entre 10 de Octubre y Delicias&quot;, &quot;Especialidades: [&#x27;criolla&#x27;]&quot;)&lt;/div&gt;`)[0];\n",
       "                popup_061a1c2775d57c7924f80a5a7d664efa.setContent(html_2163a55fada18d92faf0eb2249e5955a);\n",
       "            \n",
       "        \n",
       "\n",
       "        marker_0f4862c75a057e58ebe2ebc0ab50246e.bindPopup(popup_061a1c2775d57c7924f80a5a7d664efa)\n",
       "        ;\n",
       "\n",
       "        \n",
       "    \n",
       "    \n",
       "            var marker_354cdddcf5c0b2c81fa7ffbed59a9883 = L.marker(\n",
       "                [23.139549087699173, -82.3756494611986],\n",
       "                {\n",
       "}\n",
       "            ).addTo(map_c1bd0692b3c890e2cab86875cb676aa0);\n",
       "        \n",
       "    \n",
       "            var icon_bdb8368e581d87b0ec52b8e0f89d1172 = L.AwesomeMarkers.icon(\n",
       "                {\n",
       "  &quot;markerColor&quot;: &quot;red&quot;,\n",
       "  &quot;iconColor&quot;: &quot;white&quot;,\n",
       "  &quot;icon&quot;: &quot;cutlery&quot;,\n",
       "  &quot;prefix&quot;: &quot;fa&quot;,\n",
       "  &quot;extraClasses&quot;: &quot;fa-rotate-0&quot;,\n",
       "}\n",
       "            );\n",
       "            marker_354cdddcf5c0b2c81fa7ffbed59a9883.setIcon(icon_bdb8368e581d87b0ec52b8e0f89d1172);\n",
       "        \n",
       "    \n",
       "        var popup_47ede6df582b87179a27a001ed4de823 = L.popup({\n",
       "  &quot;maxWidth&quot;: &quot;100%&quot;,\n",
       "});\n",
       "\n",
       "        \n",
       "            \n",
       "                var html_1bd638725488eb1b60197c0961a70919 = $(`&lt;div id=&quot;html_1bd638725488eb1b60197c0961a70919&quot; style=&quot;width: 100.0%; height: 100.0%;&quot;&gt;(&quot;&lt;b style=&#x27;font-size: 18px; &#x27;&gt;Kasa Takos&lt;/b&gt;&lt;br&gt;Direccion: Hospital y Aramburu, 966 entre San Lazaro&quot;, &quot;Especialidades: [&#x27;Comida caribeña&#x27;, &#x27;mexicana&#x27;, &#x27;cubana&#x27;]&quot;)&lt;/div&gt;`)[0];\n",
       "                popup_47ede6df582b87179a27a001ed4de823.setContent(html_1bd638725488eb1b60197c0961a70919);\n",
       "            \n",
       "        \n",
       "\n",
       "        marker_354cdddcf5c0b2c81fa7ffbed59a9883.bindPopup(popup_47ede6df582b87179a27a001ed4de823)\n",
       "        ;\n",
       "\n",
       "        \n",
       "    \n",
       "    \n",
       "            var marker_f97a14aad5749c65f67ddbbf11d98525 = L.marker(\n",
       "                [23.100196337428876, -82.36994932052565],\n",
       "                {\n",
       "}\n",
       "            ).addTo(map_c1bd0692b3c890e2cab86875cb676aa0);\n",
       "        \n",
       "    \n",
       "            var icon_f88efab763acec13021ca3c4d328f3d8 = L.AwesomeMarkers.icon(\n",
       "                {\n",
       "  &quot;markerColor&quot;: &quot;red&quot;,\n",
       "  &quot;iconColor&quot;: &quot;white&quot;,\n",
       "  &quot;icon&quot;: &quot;cutlery&quot;,\n",
       "  &quot;prefix&quot;: &quot;fa&quot;,\n",
       "  &quot;extraClasses&quot;: &quot;fa-rotate-0&quot;,\n",
       "}\n",
       "            );\n",
       "            marker_f97a14aad5749c65f67ddbbf11d98525.setIcon(icon_f88efab763acec13021ca3c4d328f3d8);\n",
       "        \n",
       "    \n",
       "        var popup_03961a8a26a2404be0970f47e131ac88 = L.popup({\n",
       "  &quot;maxWidth&quot;: &quot;100%&quot;,\n",
       "});\n",
       "\n",
       "        \n",
       "            \n",
       "                var html_89eaa05446b6017c7096ea6c22b5181a = $(`&lt;div id=&quot;html_89eaa05446b6017c7096ea6c22b5181a&quot; style=&quot;width: 100.0%; height: 100.0%;&quot;&gt;(&quot;&lt;b style=&#x27;font-size: 18px; &#x27;&gt;Kimera&lt;/b&gt;&lt;br&gt;Direccion: #311, Calle Lacret entre Juan Bruno Zallas y Cortina, Santos Suarez&quot;, &quot;Especialidades: [&#x27;internaciona&#x27;, &#x27;cubana&#x27;, &#x27;italiana&#x27;]&quot;)&lt;/div&gt;`)[0];\n",
       "                popup_03961a8a26a2404be0970f47e131ac88.setContent(html_89eaa05446b6017c7096ea6c22b5181a);\n",
       "            \n",
       "        \n",
       "\n",
       "        marker_f97a14aad5749c65f67ddbbf11d98525.bindPopup(popup_03961a8a26a2404be0970f47e131ac88)\n",
       "        ;\n",
       "\n",
       "        \n",
       "    \n",
       "    \n",
       "            var marker_0d47cd6b5b93d36d0734b5c4d5032758 = L.marker(\n",
       "                [23.07982261108124, -82.32043410333418],\n",
       "                {\n",
       "}\n",
       "            ).addTo(map_c1bd0692b3c890e2cab86875cb676aa0);\n",
       "        \n",
       "    \n",
       "            var icon_b6f49797082ae3896fcb3c6352772485 = L.AwesomeMarkers.icon(\n",
       "                {\n",
       "  &quot;markerColor&quot;: &quot;red&quot;,\n",
       "  &quot;iconColor&quot;: &quot;white&quot;,\n",
       "  &quot;icon&quot;: &quot;cutlery&quot;,\n",
       "  &quot;prefix&quot;: &quot;fa&quot;,\n",
       "  &quot;extraClasses&quot;: &quot;fa-rotate-0&quot;,\n",
       "}\n",
       "            );\n",
       "            marker_0d47cd6b5b93d36d0734b5c4d5032758.setIcon(icon_b6f49797082ae3896fcb3c6352772485);\n",
       "        \n",
       "    \n",
       "        var popup_6cea160d9adc4ea3b1d5fbe7f54b7557 = L.popup({\n",
       "  &quot;maxWidth&quot;: &quot;100%&quot;,\n",
       "});\n",
       "\n",
       "        \n",
       "            \n",
       "                var html_7bfc71a5a05e7aed85a06d16f8fe089e = $(`&lt;div id=&quot;html_7bfc71a5a05e7aed85a06d16f8fe089e&quot; style=&quot;width: 100.0%; height: 100.0%;&quot;&gt;(&quot;&lt;b style=&#x27;font-size: 18px; &#x27;&gt;KY-13&lt;/b&gt;&lt;br&gt;Direccion: Calzada de guines #45 e/ 13 y 23 AMP. San Matias&quot;, &quot;Especialidades: [&#x27;criolla&#x27;, &#x27;italiana&#x27;]&quot;)&lt;/div&gt;`)[0];\n",
       "                popup_6cea160d9adc4ea3b1d5fbe7f54b7557.setContent(html_7bfc71a5a05e7aed85a06d16f8fe089e);\n",
       "            \n",
       "        \n",
       "\n",
       "        marker_0d47cd6b5b93d36d0734b5c4d5032758.bindPopup(popup_6cea160d9adc4ea3b1d5fbe7f54b7557)\n",
       "        ;\n",
       "\n",
       "        \n",
       "    \n",
       "    \n",
       "            var marker_1363b8ce2755f5e97a0d7fd4bc6f7162 = L.marker(\n",
       "                [23.06738029017932, -82.46823262236785],\n",
       "                {\n",
       "}\n",
       "            ).addTo(map_c1bd0692b3c890e2cab86875cb676aa0);\n",
       "        \n",
       "    \n",
       "            var icon_0cbad401346128075f01848135fe1336 = L.AwesomeMarkers.icon(\n",
       "                {\n",
       "  &quot;markerColor&quot;: &quot;red&quot;,\n",
       "  &quot;iconColor&quot;: &quot;white&quot;,\n",
       "  &quot;icon&quot;: &quot;cutlery&quot;,\n",
       "  &quot;prefix&quot;: &quot;fa&quot;,\n",
       "  &quot;extraClasses&quot;: &quot;fa-rotate-0&quot;,\n",
       "}\n",
       "            );\n",
       "            marker_1363b8ce2755f5e97a0d7fd4bc6f7162.setIcon(icon_0cbad401346128075f01848135fe1336);\n",
       "        \n",
       "    \n",
       "        var popup_e37368c050be5db55866e52c9d511e97 = L.popup({\n",
       "  &quot;maxWidth&quot;: &quot;100%&quot;,\n",
       "});\n",
       "\n",
       "        \n",
       "            \n",
       "                var html_de87f7323663855c3c0cde4c2c51365b = $(`&lt;div id=&quot;html_de87f7323663855c3c0cde4c2c51365b&quot; style=&quot;width: 100.0%; height: 100.0%;&quot;&gt;(&quot;&lt;b style=&#x27;font-size: 18px; &#x27;&gt;La Baliza&lt;/b&gt;&lt;br&gt;Direccion: Entre avenida 23 y 23 A&quot;, &quot;Especialidades: [&#x27;americana&#x27;, &#x27;italiana&#x27;]&quot;)&lt;/div&gt;`)[0];\n",
       "                popup_e37368c050be5db55866e52c9d511e97.setContent(html_de87f7323663855c3c0cde4c2c51365b);\n",
       "            \n",
       "        \n",
       "\n",
       "        marker_1363b8ce2755f5e97a0d7fd4bc6f7162.bindPopup(popup_e37368c050be5db55866e52c9d511e97)\n",
       "        ;\n",
       "\n",
       "        \n",
       "    \n",
       "    \n",
       "            var marker_c02c896c841aad3c0f109751eb03f55f = L.marker(\n",
       "                [23.14013425278987, -82.3482903668532],\n",
       "                {\n",
       "}\n",
       "            ).addTo(map_c1bd0692b3c890e2cab86875cb676aa0);\n",
       "        \n",
       "    \n",
       "            var icon_c1775a3317c87963b437fe8e6e0a8f93 = L.AwesomeMarkers.icon(\n",
       "                {\n",
       "  &quot;markerColor&quot;: &quot;red&quot;,\n",
       "  &quot;iconColor&quot;: &quot;white&quot;,\n",
       "  &quot;icon&quot;: &quot;cutlery&quot;,\n",
       "  &quot;prefix&quot;: &quot;fa&quot;,\n",
       "  &quot;extraClasses&quot;: &quot;fa-rotate-0&quot;,\n",
       "}\n",
       "            );\n",
       "            marker_c02c896c841aad3c0f109751eb03f55f.setIcon(icon_c1775a3317c87963b437fe8e6e0a8f93);\n",
       "        \n",
       "    \n",
       "        var popup_fd8c4cc48d8ddd873abf0e80cbb6afac = L.popup({\n",
       "  &quot;maxWidth&quot;: &quot;100%&quot;,\n",
       "});\n",
       "\n",
       "        \n",
       "            \n",
       "                var html_daeab29a515dd2749adecabdb2fac63a = $(`&lt;div id=&quot;html_daeab29a515dd2749adecabdb2fac63a&quot; style=&quot;width: 100.0%; height: 100.0%;&quot;&gt;(&quot;&lt;b style=&#x27;font-size: 18px; &#x27;&gt;La Barca&lt;/b&gt;&lt;br&gt;Direccion: Avenida del Puerto, esquina Obispo&quot;, &quot;Especialidades: [&#x27;Criolla&#x27;]&quot;)&lt;/div&gt;`)[0];\n",
       "                popup_fd8c4cc48d8ddd873abf0e80cbb6afac.setContent(html_daeab29a515dd2749adecabdb2fac63a);\n",
       "            \n",
       "        \n",
       "\n",
       "        marker_c02c896c841aad3c0f109751eb03f55f.bindPopup(popup_fd8c4cc48d8ddd873abf0e80cbb6afac)\n",
       "        ;\n",
       "\n",
       "        \n",
       "    \n",
       "    \n",
       "            var marker_c258c01842dd3c0f4bd732ed03e85be0 = L.marker(\n",
       "                [23.01984142812014, -82.48766936323709],\n",
       "                {\n",
       "}\n",
       "            ).addTo(map_c1bd0692b3c890e2cab86875cb676aa0);\n",
       "        \n",
       "    \n",
       "            var icon_a1b6353e8bd6afcd353a1dae2ebac1c0 = L.AwesomeMarkers.icon(\n",
       "                {\n",
       "  &quot;markerColor&quot;: &quot;red&quot;,\n",
       "  &quot;iconColor&quot;: &quot;white&quot;,\n",
       "  &quot;icon&quot;: &quot;cutlery&quot;,\n",
       "  &quot;prefix&quot;: &quot;fa&quot;,\n",
       "  &quot;extraClasses&quot;: &quot;fa-rotate-0&quot;,\n",
       "}\n",
       "            );\n",
       "            marker_c258c01842dd3c0f4bd732ed03e85be0.setIcon(icon_a1b6353e8bd6afcd353a1dae2ebac1c0);\n",
       "        \n",
       "    \n",
       "        var popup_92f195e0daaa4d09932df0a907393feb = L.popup({\n",
       "  &quot;maxWidth&quot;: &quot;100%&quot;,\n",
       "});\n",
       "\n",
       "        \n",
       "            \n",
       "                var html_d9f2c1ebbc4714ce8e4428f01b16843e = $(`&lt;div id=&quot;html_d9f2c1ebbc4714ce8e4428f01b16843e&quot; style=&quot;width: 100.0%; height: 100.0%;&quot;&gt;(&quot;&lt;b style=&#x27;font-size: 18px; &#x27;&gt;La casa del campesino&lt;/b&gt;&lt;br&gt;Direccion: Desconocida&quot;, &quot;Especialidades: [&#x27;cubana&#x27;]&quot;)&lt;/div&gt;`)[0];\n",
       "                popup_92f195e0daaa4d09932df0a907393feb.setContent(html_d9f2c1ebbc4714ce8e4428f01b16843e);\n",
       "            \n",
       "        \n",
       "\n",
       "        marker_c258c01842dd3c0f4bd732ed03e85be0.bindPopup(popup_92f195e0daaa4d09932df0a907393feb)\n",
       "        ;\n",
       "\n",
       "        \n",
       "    \n",
       "    \n",
       "            var marker_42df6a7d62243bb17afa8a8442d404fd = L.marker(\n",
       "                [23.14012116111188, -82.4018177339757],\n",
       "                {\n",
       "}\n",
       "            ).addTo(map_c1bd0692b3c890e2cab86875cb676aa0);\n",
       "        \n",
       "    \n",
       "            var icon_f7d57ed9db198f40a3e7ac88806b311a = L.AwesomeMarkers.icon(\n",
       "                {\n",
       "  &quot;markerColor&quot;: &quot;red&quot;,\n",
       "  &quot;iconColor&quot;: &quot;white&quot;,\n",
       "  &quot;icon&quot;: &quot;cutlery&quot;,\n",
       "  &quot;prefix&quot;: &quot;fa&quot;,\n",
       "  &quot;extraClasses&quot;: &quot;fa-rotate-0&quot;,\n",
       "}\n",
       "            );\n",
       "            marker_42df6a7d62243bb17afa8a8442d404fd.setIcon(icon_f7d57ed9db198f40a3e7ac88806b311a);\n",
       "        \n",
       "    \n",
       "        var popup_9b980c4f2b1aee9ab80b905a59ecf37c = L.popup({\n",
       "  &quot;maxWidth&quot;: &quot;100%&quot;,\n",
       "});\n",
       "\n",
       "        \n",
       "            \n",
       "                var html_4c648b5845b3c26564e218e8f34559d2 = $(`&lt;div id=&quot;html_4c648b5845b3c26564e218e8f34559d2&quot; style=&quot;width: 100.0%; height: 100.0%;&quot;&gt;(&quot;&lt;b style=&#x27;font-size: 18px; &#x27;&gt;La Cocinita&lt;/b&gt;&lt;br&gt;Direccion: Paseo entre 1era y 3era, Vedado&quot;, &quot;Especialidades: [&#x27;Comida cubana&#x27;, &#x27;caribeña&#x27;, &#x27;latina&#x27;, &#x27;criolla&#x27;]&quot;)&lt;/div&gt;`)[0];\n",
       "                popup_9b980c4f2b1aee9ab80b905a59ecf37c.setContent(html_4c648b5845b3c26564e218e8f34559d2);\n",
       "            \n",
       "        \n",
       "\n",
       "        marker_42df6a7d62243bb17afa8a8442d404fd.bindPopup(popup_9b980c4f2b1aee9ab80b905a59ecf37c)\n",
       "        ;\n",
       "\n",
       "        \n",
       "    \n",
       "    \n",
       "            var marker_8cdfd67198dddb18ab5e0f624737fbe8 = L.marker(\n",
       "                [23.04493541439918, -82.26869240537707],\n",
       "                {\n",
       "}\n",
       "            ).addTo(map_c1bd0692b3c890e2cab86875cb676aa0);\n",
       "        \n",
       "    \n",
       "            var icon_8f8c9a7ca8d3eb43b0c8b56e7d1d357c = L.AwesomeMarkers.icon(\n",
       "                {\n",
       "  &quot;markerColor&quot;: &quot;red&quot;,\n",
       "  &quot;iconColor&quot;: &quot;white&quot;,\n",
       "  &quot;icon&quot;: &quot;cutlery&quot;,\n",
       "  &quot;prefix&quot;: &quot;fa&quot;,\n",
       "  &quot;extraClasses&quot;: &quot;fa-rotate-0&quot;,\n",
       "}\n",
       "            );\n",
       "            marker_8cdfd67198dddb18ab5e0f624737fbe8.setIcon(icon_8f8c9a7ca8d3eb43b0c8b56e7d1d357c);\n",
       "        \n",
       "    \n",
       "        var popup_2726de6478e26c0d8a51641d563c9124 = L.popup({\n",
       "  &quot;maxWidth&quot;: &quot;100%&quot;,\n",
       "});\n",
       "\n",
       "        \n",
       "            \n",
       "                var html_f05d6ddb39aa6740258a2c11a825f5fb = $(`&lt;div id=&quot;html_f05d6ddb39aa6740258a2c11a825f5fb&quot; style=&quot;width: 100.0%; height: 100.0%;&quot;&gt;(&quot;&lt;b style=&#x27;font-size: 18px; &#x27;&gt;La esquinita del Cotorro&lt;/b&gt;&lt;br&gt;Direccion: Avenida 71&quot;, &quot;Especialidades: [&#x27;hamburguesas&#x27;]&quot;)&lt;/div&gt;`)[0];\n",
       "                popup_2726de6478e26c0d8a51641d563c9124.setContent(html_f05d6ddb39aa6740258a2c11a825f5fb);\n",
       "            \n",
       "        \n",
       "\n",
       "        marker_8cdfd67198dddb18ab5e0f624737fbe8.bindPopup(popup_2726de6478e26c0d8a51641d563c9124)\n",
       "        ;\n",
       "\n",
       "        \n",
       "    \n",
       "    \n",
       "            var marker_873cba7c98c4ea11af1e0e877dd4538b = L.marker(\n",
       "                [23.105239302631222, -82.35788567449791],\n",
       "                {\n",
       "}\n",
       "            ).addTo(map_c1bd0692b3c890e2cab86875cb676aa0);\n",
       "        \n",
       "    \n",
       "            var icon_52fb028807a121e0f2d0b312fc6a1a83 = L.AwesomeMarkers.icon(\n",
       "                {\n",
       "  &quot;markerColor&quot;: &quot;red&quot;,\n",
       "  &quot;iconColor&quot;: &quot;white&quot;,\n",
       "  &quot;icon&quot;: &quot;cutlery&quot;,\n",
       "  &quot;prefix&quot;: &quot;fa&quot;,\n",
       "  &quot;extraClasses&quot;: &quot;fa-rotate-0&quot;,\n",
       "}\n",
       "            );\n",
       "            marker_873cba7c98c4ea11af1e0e877dd4538b.setIcon(icon_52fb028807a121e0f2d0b312fc6a1a83);\n",
       "        \n",
       "    \n",
       "        var popup_6bd32ae9496aba6714792e1a093c74fb = L.popup({\n",
       "  &quot;maxWidth&quot;: &quot;100%&quot;,\n",
       "});\n",
       "\n",
       "        \n",
       "            \n",
       "                var html_84123bb67d16fe11c844a96b10c60784 = $(`&lt;div id=&quot;html_84123bb67d16fe11c844a96b10c60784&quot; style=&quot;width: 100.0%; height: 100.0%;&quot;&gt;(&quot;&lt;b style=&#x27;font-size: 18px; &#x27;&gt;La Fela&lt;/b&gt;&lt;br&gt;Direccion: #4, Nuestra Senora de Regla entre Remedios y Calzada de Luyano&quot;, &quot;Especialidades: [&#x27;cubana&#x27;, &#x27;italiana&#x27;]&quot;)&lt;/div&gt;`)[0];\n",
       "                popup_6bd32ae9496aba6714792e1a093c74fb.setContent(html_84123bb67d16fe11c844a96b10c60784);\n",
       "            \n",
       "        \n",
       "\n",
       "        marker_873cba7c98c4ea11af1e0e877dd4538b.bindPopup(popup_6bd32ae9496aba6714792e1a093c74fb)\n",
       "        ;\n",
       "\n",
       "        \n",
       "    \n",
       "    \n",
       "            var marker_86801c0baa707da4ae9b937cbb891da6 = L.marker(\n",
       "                [23.088796529399392, -82.36067214699546],\n",
       "                {\n",
       "}\n",
       "            ).addTo(map_c1bd0692b3c890e2cab86875cb676aa0);\n",
       "        \n",
       "    \n",
       "            var icon_eeb5581f01ccd5ae64eff3d3d282e5e1 = L.AwesomeMarkers.icon(\n",
       "                {\n",
       "  &quot;markerColor&quot;: &quot;red&quot;,\n",
       "  &quot;iconColor&quot;: &quot;white&quot;,\n",
       "  &quot;icon&quot;: &quot;cutlery&quot;,\n",
       "  &quot;prefix&quot;: &quot;fa&quot;,\n",
       "  &quot;extraClasses&quot;: &quot;fa-rotate-0&quot;,\n",
       "}\n",
       "            );\n",
       "            marker_86801c0baa707da4ae9b937cbb891da6.setIcon(icon_eeb5581f01ccd5ae64eff3d3d282e5e1);\n",
       "        \n",
       "    \n",
       "        var popup_da0f9c82d075e91f9cfea7183c9fbf2a = L.popup({\n",
       "  &quot;maxWidth&quot;: &quot;100%&quot;,\n",
       "});\n",
       "\n",
       "        \n",
       "            \n",
       "                var html_fac8ecd7bf182692fd54f2554b5c215e = $(`&lt;div id=&quot;html_fac8ecd7bf182692fd54f2554b5c215e&quot; style=&quot;width: 100.0%; height: 100.0%;&quot;&gt;(&quot;&lt;b style=&#x27;font-size: 18px; &#x27;&gt;La Fuente&lt;/b&gt;&lt;br&gt;Direccion: Calle Acosta e/ 5ta y 6ta. Vista Alegre, Víbora&quot;, &quot;Especialidades: [&#x27;cubana&#x27;, &#x27;internacional&#x27;]&quot;)&lt;/div&gt;`)[0];\n",
       "                popup_da0f9c82d075e91f9cfea7183c9fbf2a.setContent(html_fac8ecd7bf182692fd54f2554b5c215e);\n",
       "            \n",
       "        \n",
       "\n",
       "        marker_86801c0baa707da4ae9b937cbb891da6.bindPopup(popup_da0f9c82d075e91f9cfea7183c9fbf2a)\n",
       "        ;\n",
       "\n",
       "        \n",
       "    \n",
       "    \n",
       "            var marker_87d36d3caaa279bf9a99d41b0a1c21a3 = L.marker(\n",
       "                [23.07120986898905, -82.46001932800391],\n",
       "                {\n",
       "}\n",
       "            ).addTo(map_c1bd0692b3c890e2cab86875cb676aa0);\n",
       "        \n",
       "    \n",
       "            var icon_5ab2ce64d023b289b272b6007de08b4e = L.AwesomeMarkers.icon(\n",
       "                {\n",
       "  &quot;markerColor&quot;: &quot;red&quot;,\n",
       "  &quot;iconColor&quot;: &quot;white&quot;,\n",
       "  &quot;icon&quot;: &quot;cutlery&quot;,\n",
       "  &quot;prefix&quot;: &quot;fa&quot;,\n",
       "  &quot;extraClasses&quot;: &quot;fa-rotate-0&quot;,\n",
       "}\n",
       "            );\n",
       "            marker_87d36d3caaa279bf9a99d41b0a1c21a3.setIcon(icon_5ab2ce64d023b289b272b6007de08b4e);\n",
       "        \n",
       "    \n",
       "        var popup_8c66e647b57cb71a7574d83b0f42a00f = L.popup({\n",
       "  &quot;maxWidth&quot;: &quot;100%&quot;,\n",
       "});\n",
       "\n",
       "        \n",
       "            \n",
       "                var html_02373465b5a7a3d721134898c4ed5c43 = $(`&lt;div id=&quot;html_02373465b5a7a3d721134898c4ed5c43&quot; style=&quot;width: 100.0%; height: 100.0%;&quot;&gt;(&quot;&lt;b style=&#x27;font-size: 18px; &#x27;&gt;La Mia Pizza&lt;/b&gt;&lt;br&gt;Direccion: 29 y 23A&quot;, &quot;Especialidades: [&#x27;italiana&#x27;]&quot;)&lt;/div&gt;`)[0];\n",
       "                popup_8c66e647b57cb71a7574d83b0f42a00f.setContent(html_02373465b5a7a3d721134898c4ed5c43);\n",
       "            \n",
       "        \n",
       "\n",
       "        marker_87d36d3caaa279bf9a99d41b0a1c21a3.bindPopup(popup_8c66e647b57cb71a7574d83b0f42a00f)\n",
       "        ;\n",
       "\n",
       "        \n",
       "    \n",
       "    \n",
       "            var marker_6c33f89e478326c4fad6befe52c4a8d5 = L.marker(\n",
       "                [23.025265299543545, -82.46372134720235],\n",
       "                {\n",
       "}\n",
       "            ).addTo(map_c1bd0692b3c890e2cab86875cb676aa0);\n",
       "        \n",
       "    \n",
       "            var icon_2f9b2f34daf72999c36bbd2fbb252698 = L.AwesomeMarkers.icon(\n",
       "                {\n",
       "  &quot;markerColor&quot;: &quot;red&quot;,\n",
       "  &quot;iconColor&quot;: &quot;white&quot;,\n",
       "  &quot;icon&quot;: &quot;cutlery&quot;,\n",
       "  &quot;prefix&quot;: &quot;fa&quot;,\n",
       "  &quot;extraClasses&quot;: &quot;fa-rotate-0&quot;,\n",
       "}\n",
       "            );\n",
       "            marker_6c33f89e478326c4fad6befe52c4a8d5.setIcon(icon_2f9b2f34daf72999c36bbd2fbb252698);\n",
       "        \n",
       "    \n",
       "        var popup_46a11d7c9e077714074c0b293d23ab42 = L.popup({\n",
       "  &quot;maxWidth&quot;: &quot;100%&quot;,\n",
       "});\n",
       "\n",
       "        \n",
       "            \n",
       "                var html_aebaa014f08395701fd4e3b3b8c4c85b = $(`&lt;div id=&quot;html_aebaa014f08395701fd4e3b3b8c4c85b&quot; style=&quot;width: 100.0%; height: 100.0%;&quot;&gt;(&quot;&lt;b style=&#x27;font-size: 18px; &#x27;&gt; La Novia&lt;/b&gt;&lt;br&gt;Direccion: Calle 51 entre 330 y 332 numero 33013, La novia del mediodia&quot;, &quot;Especialidades: [&#x27;Cubana&#x27;, &#x27;Italiana&#x27;, &#x27;criolla&#x27;]&quot;)&lt;/div&gt;`)[0];\n",
       "                popup_46a11d7c9e077714074c0b293d23ab42.setContent(html_aebaa014f08395701fd4e3b3b8c4c85b);\n",
       "            \n",
       "        \n",
       "\n",
       "        marker_6c33f89e478326c4fad6befe52c4a8d5.bindPopup(popup_46a11d7c9e077714074c0b293d23ab42)\n",
       "        ;\n",
       "\n",
       "        \n",
       "    \n",
       "    \n",
       "            var marker_5010a911b7407eb14c4352ad091a4a12 = L.marker(\n",
       "                [23.090481747498764, -82.37664454717603],\n",
       "                {\n",
       "}\n",
       "            ).addTo(map_c1bd0692b3c890e2cab86875cb676aa0);\n",
       "        \n",
       "    \n",
       "            var icon_d206cc0691c0e6506bd6d0de90965074 = L.AwesomeMarkers.icon(\n",
       "                {\n",
       "  &quot;markerColor&quot;: &quot;red&quot;,\n",
       "  &quot;iconColor&quot;: &quot;white&quot;,\n",
       "  &quot;icon&quot;: &quot;cutlery&quot;,\n",
       "  &quot;prefix&quot;: &quot;fa&quot;,\n",
       "  &quot;extraClasses&quot;: &quot;fa-rotate-0&quot;,\n",
       "}\n",
       "            );\n",
       "            marker_5010a911b7407eb14c4352ad091a4a12.setIcon(icon_d206cc0691c0e6506bd6d0de90965074);\n",
       "        \n",
       "    \n",
       "        var popup_a24b6944b2924e4863f92eaa76d7d511 = L.popup({\n",
       "  &quot;maxWidth&quot;: &quot;100%&quot;,\n",
       "});\n",
       "\n",
       "        \n",
       "            \n",
       "                var html_aee691226887fcfffa7e9cabad504990 = $(`&lt;div id=&quot;html_aee691226887fcfffa7e9cabad504990&quot; style=&quot;width: 100.0%; height: 100.0%;&quot;&gt;(&quot;&lt;b style=&#x27;font-size: 18px; &#x27;&gt;La Patrona&lt;/b&gt;&lt;br&gt;Direccion: Calzada de Guines en San Francisco de Paula&quot;, &quot;Especialidades: [&#x27;misxta&#x27;]&quot;)&lt;/div&gt;`)[0];\n",
       "                popup_a24b6944b2924e4863f92eaa76d7d511.setContent(html_aee691226887fcfffa7e9cabad504990);\n",
       "            \n",
       "        \n",
       "\n",
       "        marker_5010a911b7407eb14c4352ad091a4a12.bindPopup(popup_a24b6944b2924e4863f92eaa76d7d511)\n",
       "        ;\n",
       "\n",
       "        \n",
       "    \n",
       "    \n",
       "            var marker_421aaa9eebeedcdf9f918863820dbf84 = L.marker(\n",
       "                [23.10168916405231, -82.3749154033336],\n",
       "                {\n",
       "}\n",
       "            ).addTo(map_c1bd0692b3c890e2cab86875cb676aa0);\n",
       "        \n",
       "    \n",
       "            var icon_309f86b9e26c523ef999539607e1219d = L.AwesomeMarkers.icon(\n",
       "                {\n",
       "  &quot;markerColor&quot;: &quot;red&quot;,\n",
       "  &quot;iconColor&quot;: &quot;white&quot;,\n",
       "  &quot;icon&quot;: &quot;cutlery&quot;,\n",
       "  &quot;prefix&quot;: &quot;fa&quot;,\n",
       "  &quot;extraClasses&quot;: &quot;fa-rotate-0&quot;,\n",
       "}\n",
       "            );\n",
       "            marker_421aaa9eebeedcdf9f918863820dbf84.setIcon(icon_309f86b9e26c523ef999539607e1219d);\n",
       "        \n",
       "    \n",
       "        var popup_e76709a374315b2e475bb96075ce0484 = L.popup({\n",
       "  &quot;maxWidth&quot;: &quot;100%&quot;,\n",
       "});\n",
       "\n",
       "        \n",
       "            \n",
       "                var html_850c133488fbab852bb77ffa03e9d778 = $(`&lt;div id=&quot;html_850c133488fbab852bb77ffa03e9d778&quot; style=&quot;width: 100.0%; height: 100.0%;&quot;&gt;(&quot;&lt;b style=&#x27;font-size: 18px; &#x27;&gt;Lacret 559&lt;/b&gt;&lt;br&gt;Direccion: Gral. Lacret entre Avenida Mayia Rodriguez y Goicuria&quot;, &quot;Especialidades: [&#x27;mixta&#x27;]&quot;)&lt;/div&gt;`)[0];\n",
       "                popup_e76709a374315b2e475bb96075ce0484.setContent(html_850c133488fbab852bb77ffa03e9d778);\n",
       "            \n",
       "        \n",
       "\n",
       "        marker_421aaa9eebeedcdf9f918863820dbf84.bindPopup(popup_e76709a374315b2e475bb96075ce0484)\n",
       "        ;\n",
       "\n",
       "        \n",
       "    \n",
       "    \n",
       "            var marker_7d9499c8f7b16bf663483f146db86e40 = L.marker(\n",
       "                [23.089446250644617, -82.37695227313037],\n",
       "                {\n",
       "}\n",
       "            ).addTo(map_c1bd0692b3c890e2cab86875cb676aa0);\n",
       "        \n",
       "    \n",
       "            var icon_8b49fc7f1a664f92dcdaab0887ed3614 = L.AwesomeMarkers.icon(\n",
       "                {\n",
       "  &quot;markerColor&quot;: &quot;red&quot;,\n",
       "  &quot;iconColor&quot;: &quot;white&quot;,\n",
       "  &quot;icon&quot;: &quot;cutlery&quot;,\n",
       "  &quot;prefix&quot;: &quot;fa&quot;,\n",
       "  &quot;extraClasses&quot;: &quot;fa-rotate-0&quot;,\n",
       "}\n",
       "            );\n",
       "            marker_7d9499c8f7b16bf663483f146db86e40.setIcon(icon_8b49fc7f1a664f92dcdaab0887ed3614);\n",
       "        \n",
       "    \n",
       "        var popup_aba9ad364e288a3b4a55c5bee182ed5e = L.popup({\n",
       "  &quot;maxWidth&quot;: &quot;100%&quot;,\n",
       "});\n",
       "\n",
       "        \n",
       "            \n",
       "                var html_e39eb2bf8edf2d672cdebb3968bb284b = $(`&lt;div id=&quot;html_e39eb2bf8edf2d672cdebb3968bb284b&quot; style=&quot;width: 100.0%; height: 100.0%;&quot;&gt;(&quot;&lt;b style=&#x27;font-size: 18px; &#x27;&gt;Lateral&lt;/b&gt;&lt;br&gt;Direccion: Ave. Acosta #467, esq. Goicuría, Víbora&quot;, &quot;Especialidades: [&#x27;internacional&#x27;]&quot;)&lt;/div&gt;`)[0];\n",
       "                popup_aba9ad364e288a3b4a55c5bee182ed5e.setContent(html_e39eb2bf8edf2d672cdebb3968bb284b);\n",
       "            \n",
       "        \n",
       "\n",
       "        marker_7d9499c8f7b16bf663483f146db86e40.bindPopup(popup_aba9ad364e288a3b4a55c5bee182ed5e)\n",
       "        ;\n",
       "\n",
       "        \n",
       "    \n",
       "    \n",
       "            var marker_9b076114647e9f040d23817eb1b1a5ea = L.marker(\n",
       "                [23.12193638525617, -82.37392744585779],\n",
       "                {\n",
       "}\n",
       "            ).addTo(map_c1bd0692b3c890e2cab86875cb676aa0);\n",
       "        \n",
       "    \n",
       "            var icon_deaf4c1cafaee9e77cf2f900b8432974 = L.AwesomeMarkers.icon(\n",
       "                {\n",
       "  &quot;markerColor&quot;: &quot;red&quot;,\n",
       "  &quot;iconColor&quot;: &quot;white&quot;,\n",
       "  &quot;icon&quot;: &quot;cutlery&quot;,\n",
       "  &quot;prefix&quot;: &quot;fa&quot;,\n",
       "  &quot;extraClasses&quot;: &quot;fa-rotate-0&quot;,\n",
       "}\n",
       "            );\n",
       "            marker_9b076114647e9f040d23817eb1b1a5ea.setIcon(icon_deaf4c1cafaee9e77cf2f900b8432974);\n",
       "        \n",
       "    \n",
       "        var popup_b41800e301e10031c22f364474abd071 = L.popup({\n",
       "  &quot;maxWidth&quot;: &quot;100%&quot;,\n",
       "});\n",
       "\n",
       "        \n",
       "            \n",
       "                var html_ba2b4e8a122157974db96c132830dc08 = $(`&lt;div id=&quot;html_ba2b4e8a122157974db96c132830dc08&quot; style=&quot;width: 100.0%; height: 100.0%;&quot;&gt;(&quot;&lt;b style=&#x27;font-size: 18px; &#x27;&gt;La Barrita Onbazar&lt;/b&gt;&lt;br&gt;Direccion: Amenidad entre Cruz del Pader e Infanta&quot;, &quot;Especialidades: [&#x27;italiana&#x27;]&quot;)&lt;/div&gt;`)[0];\n",
       "                popup_b41800e301e10031c22f364474abd071.setContent(html_ba2b4e8a122157974db96c132830dc08);\n",
       "            \n",
       "        \n",
       "\n",
       "        marker_9b076114647e9f040d23817eb1b1a5ea.bindPopup(popup_b41800e301e10031c22f364474abd071)\n",
       "        ;\n",
       "\n",
       "        \n",
       "    \n",
       "    \n",
       "            var marker_97c491892c5a4abe9248db405606a016 = L.marker(\n",
       "                [23.109190666229015, -82.38277310352859],\n",
       "                {\n",
       "}\n",
       "            ).addTo(map_c1bd0692b3c890e2cab86875cb676aa0);\n",
       "        \n",
       "    \n",
       "            var icon_b5ea22d0757662fa059cfd0e8fb85cde = L.AwesomeMarkers.icon(\n",
       "                {\n",
       "  &quot;markerColor&quot;: &quot;red&quot;,\n",
       "  &quot;iconColor&quot;: &quot;white&quot;,\n",
       "  &quot;icon&quot;: &quot;cutlery&quot;,\n",
       "  &quot;prefix&quot;: &quot;fa&quot;,\n",
       "  &quot;extraClasses&quot;: &quot;fa-rotate-0&quot;,\n",
       "}\n",
       "            );\n",
       "            marker_97c491892c5a4abe9248db405606a016.setIcon(icon_b5ea22d0757662fa059cfd0e8fb85cde);\n",
       "        \n",
       "    \n",
       "        var popup_29c51735ac41e52133679751cce98d47 = L.popup({\n",
       "  &quot;maxWidth&quot;: &quot;100%&quot;,\n",
       "});\n",
       "\n",
       "        \n",
       "            \n",
       "                var html_583d0a731cd084f1c5cf3f7cda0ad4b4 = $(`&lt;div id=&quot;html_583d0a731cd084f1c5cf3f7cda0ad4b4&quot; style=&quot;width: 100.0%; height: 100.0%;&quot;&gt;(&quot;&lt;b style=&#x27;font-size: 18px; &#x27;&gt;La Casona del Cerro&lt;/b&gt;&lt;br&gt;Direccion: Calzada del Cerro entre Alzobispo y Penon&quot;, &quot;Especialidades: [&#x27;Comida Criolla&#x27;]&quot;)&lt;/div&gt;`)[0];\n",
       "                popup_29c51735ac41e52133679751cce98d47.setContent(html_583d0a731cd084f1c5cf3f7cda0ad4b4);\n",
       "            \n",
       "        \n",
       "\n",
       "        marker_97c491892c5a4abe9248db405606a016.bindPopup(popup_29c51735ac41e52133679751cce98d47)\n",
       "        ;\n",
       "\n",
       "        \n",
       "    \n",
       "    \n",
       "            var marker_e098edc1a00d4ca9ad59bb424e291dda = L.marker(\n",
       "                [23.104975882244233, -82.44258298436951],\n",
       "                {\n",
       "}\n",
       "            ).addTo(map_c1bd0692b3c890e2cab86875cb676aa0);\n",
       "        \n",
       "    \n",
       "            var icon_3595046f2d7ef7202028281bd2975b5c = L.AwesomeMarkers.icon(\n",
       "                {\n",
       "  &quot;markerColor&quot;: &quot;red&quot;,\n",
       "  &quot;iconColor&quot;: &quot;white&quot;,\n",
       "  &quot;icon&quot;: &quot;cutlery&quot;,\n",
       "  &quot;prefix&quot;: &quot;fa&quot;,\n",
       "  &quot;extraClasses&quot;: &quot;fa-rotate-0&quot;,\n",
       "}\n",
       "            );\n",
       "            marker_e098edc1a00d4ca9ad59bb424e291dda.setIcon(icon_3595046f2d7ef7202028281bd2975b5c);\n",
       "        \n",
       "    \n",
       "        var popup_9a9a22d6cd3057923d024de3ec2dca1d = L.popup({\n",
       "  &quot;maxWidth&quot;: &quot;100%&quot;,\n",
       "});\n",
       "\n",
       "        \n",
       "            \n",
       "                var html_a87f780fb1cc0077a4f063affc783dc3 = $(`&lt;div id=&quot;html_a87f780fb1cc0077a4f063affc783dc3&quot; style=&quot;width: 100.0%; height: 100.0%;&quot;&gt;(&quot;&lt;b style=&#x27;font-size: 18px; &#x27;&gt;La Catrina&lt;/b&gt;&lt;br&gt;Direccion: 503 84&quot;, &quot;Especialidades: [&#x27;mexicana&#x27;]&quot;)&lt;/div&gt;`)[0];\n",
       "                popup_9a9a22d6cd3057923d024de3ec2dca1d.setContent(html_a87f780fb1cc0077a4f063affc783dc3);\n",
       "            \n",
       "        \n",
       "\n",
       "        marker_e098edc1a00d4ca9ad59bb424e291dda.bindPopup(popup_9a9a22d6cd3057923d024de3ec2dca1d)\n",
       "        ;\n",
       "\n",
       "        \n",
       "    \n",
       "    \n",
       "            var marker_2235db8de3686932437a7b8318059fd9 = L.marker(\n",
       "                [23.148019759241123, -82.35245541091525],\n",
       "                {\n",
       "}\n",
       "            ).addTo(map_c1bd0692b3c890e2cab86875cb676aa0);\n",
       "        \n",
       "    \n",
       "            var icon_6a0f7a4f4455310950c4d41cb7369cdb = L.AwesomeMarkers.icon(\n",
       "                {\n",
       "  &quot;markerColor&quot;: &quot;red&quot;,\n",
       "  &quot;iconColor&quot;: &quot;white&quot;,\n",
       "  &quot;icon&quot;: &quot;cutlery&quot;,\n",
       "  &quot;prefix&quot;: &quot;fa&quot;,\n",
       "  &quot;extraClasses&quot;: &quot;fa-rotate-0&quot;,\n",
       "}\n",
       "            );\n",
       "            marker_2235db8de3686932437a7b8318059fd9.setIcon(icon_6a0f7a4f4455310950c4d41cb7369cdb);\n",
       "        \n",
       "    \n",
       "        var popup_1ffc895e1acb815d47c1c9e259e824f4 = L.popup({\n",
       "  &quot;maxWidth&quot;: &quot;100%&quot;,\n",
       "});\n",
       "\n",
       "        \n",
       "            \n",
       "                var html_86a6f41720e447bdfcf4cc0205b8c1e5 = $(`&lt;div id=&quot;html_86a6f41720e447bdfcf4cc0205b8c1e5&quot; style=&quot;width: 100.0%; height: 100.0%;&quot;&gt;(&quot;&lt;b style=&#x27;font-size: 18px; &#x27;&gt;La Divina Pastora&lt;/b&gt;&lt;br&gt;Direccion: Complejo Morro Cabana, Via Monumental&quot;, &quot;Especialidades: [&#x27;Cubana&#x27;, &#x27;criolla&#x27;]&quot;)&lt;/div&gt;`)[0];\n",
       "                popup_1ffc895e1acb815d47c1c9e259e824f4.setContent(html_86a6f41720e447bdfcf4cc0205b8c1e5);\n",
       "            \n",
       "        \n",
       "\n",
       "        marker_2235db8de3686932437a7b8318059fd9.bindPopup(popup_1ffc895e1acb815d47c1c9e259e824f4)\n",
       "        ;\n",
       "\n",
       "        \n",
       "    \n",
       "    \n",
       "            var marker_b297aebc4c10f6280fea281e5fc1c2ed = L.marker(\n",
       "                [23.140853253946666, -82.35265198633945],\n",
       "                {\n",
       "}\n",
       "            ).addTo(map_c1bd0692b3c890e2cab86875cb676aa0);\n",
       "        \n",
       "    \n",
       "            var icon_da5478ea8273464addc4ade49705f9eb = L.AwesomeMarkers.icon(\n",
       "                {\n",
       "  &quot;markerColor&quot;: &quot;red&quot;,\n",
       "  &quot;iconColor&quot;: &quot;white&quot;,\n",
       "  &quot;icon&quot;: &quot;cutlery&quot;,\n",
       "  &quot;prefix&quot;: &quot;fa&quot;,\n",
       "  &quot;extraClasses&quot;: &quot;fa-rotate-0&quot;,\n",
       "}\n",
       "            );\n",
       "            marker_b297aebc4c10f6280fea281e5fc1c2ed.setIcon(icon_da5478ea8273464addc4ade49705f9eb);\n",
       "        \n",
       "    \n",
       "        var popup_0568c18c8cf1b4f53137edd9ae752050 = L.popup({\n",
       "  &quot;maxWidth&quot;: &quot;100%&quot;,\n",
       "});\n",
       "\n",
       "        \n",
       "            \n",
       "                var html_691ab6946282834cecab44eb438cceb1 = $(`&lt;div id=&quot;html_691ab6946282834cecab44eb438cceb1&quot; style=&quot;width: 100.0%; height: 100.0%;&quot;&gt;(&quot;&lt;b style=&#x27;font-size: 18px; &#x27;&gt;La Esquina de Cuba&lt;/b&gt;&lt;br&gt;Direccion: Esquina de Calle Cuba y Empedrado&quot;, &quot;Especialidades: [&#x27;Comida mixta&#x27;]&quot;)&lt;/div&gt;`)[0];\n",
       "                popup_0568c18c8cf1b4f53137edd9ae752050.setContent(html_691ab6946282834cecab44eb438cceb1);\n",
       "            \n",
       "        \n",
       "\n",
       "        marker_b297aebc4c10f6280fea281e5fc1c2ed.bindPopup(popup_0568c18c8cf1b4f53137edd9ae752050)\n",
       "        ;\n",
       "\n",
       "        \n",
       "    \n",
       "    \n",
       "            var marker_d40df21961e84b219dea327656fbee91 = L.marker(\n",
       "                [23.099899183973307, -82.37926905264563],\n",
       "                {\n",
       "}\n",
       "            ).addTo(map_c1bd0692b3c890e2cab86875cb676aa0);\n",
       "        \n",
       "    \n",
       "            var icon_a35b18074ee7a5ff4e2ce2a0fe4bfb79 = L.AwesomeMarkers.icon(\n",
       "                {\n",
       "  &quot;markerColor&quot;: &quot;red&quot;,\n",
       "  &quot;iconColor&quot;: &quot;white&quot;,\n",
       "  &quot;icon&quot;: &quot;cutlery&quot;,\n",
       "  &quot;prefix&quot;: &quot;fa&quot;,\n",
       "  &quot;extraClasses&quot;: &quot;fa-rotate-0&quot;,\n",
       "}\n",
       "            );\n",
       "            marker_d40df21961e84b219dea327656fbee91.setIcon(icon_a35b18074ee7a5ff4e2ce2a0fe4bfb79);\n",
       "        \n",
       "    \n",
       "        var popup_3d29efcea56b81f40822930ae6d07f96 = L.popup({\n",
       "  &quot;maxWidth&quot;: &quot;100%&quot;,\n",
       "});\n",
       "\n",
       "        \n",
       "            \n",
       "                var html_f8cdaa9f3dbd12fc1faa056e47ee98e5 = $(`&lt;div id=&quot;html_f8cdaa9f3dbd12fc1faa056e47ee98e5&quot; style=&quot;width: 100.0%; height: 100.0%;&quot;&gt;(&quot;&lt;b style=&#x27;font-size: 18px; &#x27;&gt;La Esquinita&lt;/b&gt;&lt;br&gt;Direccion: Juan Lefont entre Libertad y Johnson, Santos Suárez&quot;, &quot;Especialidades: [&#x27;criolla&#x27;, &#x27;cubana&#x27;, &#x27;italiana&#x27;]&quot;)&lt;/div&gt;`)[0];\n",
       "                popup_3d29efcea56b81f40822930ae6d07f96.setContent(html_f8cdaa9f3dbd12fc1faa056e47ee98e5);\n",
       "            \n",
       "        \n",
       "\n",
       "        marker_d40df21961e84b219dea327656fbee91.bindPopup(popup_3d29efcea56b81f40822930ae6d07f96)\n",
       "        ;\n",
       "\n",
       "        \n",
       "    \n",
       "    \n",
       "            var marker_ab9a9300c4b1349a045ed653d9de10da = L.marker(\n",
       "                [23.131650837595345, -82.35778799003404],\n",
       "                {\n",
       "}\n",
       "            ).addTo(map_c1bd0692b3c890e2cab86875cb676aa0);\n",
       "        \n",
       "    \n",
       "            var icon_c3e820f46a3f5d324b51124376d4d208 = L.AwesomeMarkers.icon(\n",
       "                {\n",
       "  &quot;markerColor&quot;: &quot;red&quot;,\n",
       "  &quot;iconColor&quot;: &quot;white&quot;,\n",
       "  &quot;icon&quot;: &quot;cutlery&quot;,\n",
       "  &quot;prefix&quot;: &quot;fa&quot;,\n",
       "  &quot;extraClasses&quot;: &quot;fa-rotate-0&quot;,\n",
       "}\n",
       "            );\n",
       "            marker_ab9a9300c4b1349a045ed653d9de10da.setIcon(icon_c3e820f46a3f5d324b51124376d4d208);\n",
       "        \n",
       "    \n",
       "        var popup_b3b1599ea229227335d4178455266453 = L.popup({\n",
       "  &quot;maxWidth&quot;: &quot;100%&quot;,\n",
       "});\n",
       "\n",
       "        \n",
       "            \n",
       "                var html_0c3b5fcaf8bc7aa77ab95687080cf756 = $(`&lt;div id=&quot;html_0c3b5fcaf8bc7aa77ab95687080cf756&quot; style=&quot;width: 100.0%; height: 100.0%;&quot;&gt;(&quot;&lt;b style=&#x27;font-size: 18px; &#x27;&gt;La Hamburguesita&lt;/b&gt;&lt;br&gt;Direccion: Calle Cienfuegos entre Apodaca y Gloria&quot;, &quot;Especialidades: [&#x27;Americana&#x27;]&quot;)&lt;/div&gt;`)[0];\n",
       "                popup_b3b1599ea229227335d4178455266453.setContent(html_0c3b5fcaf8bc7aa77ab95687080cf756);\n",
       "            \n",
       "        \n",
       "\n",
       "        marker_ab9a9300c4b1349a045ed653d9de10da.bindPopup(popup_b3b1599ea229227335d4178455266453)\n",
       "        ;\n",
       "\n",
       "        \n",
       "    \n",
       "    \n",
       "            var marker_1e4752b409143358bdeb06845421b015 = L.marker(\n",
       "                [23.13558286521522, -82.36431708633963],\n",
       "                {\n",
       "}\n",
       "            ).addTo(map_c1bd0692b3c890e2cab86875cb676aa0);\n",
       "        \n",
       "    \n",
       "            var icon_c62ca71b5872e7c8ef0d2be8d985100c = L.AwesomeMarkers.icon(\n",
       "                {\n",
       "  &quot;markerColor&quot;: &quot;red&quot;,\n",
       "  &quot;iconColor&quot;: &quot;white&quot;,\n",
       "  &quot;icon&quot;: &quot;cutlery&quot;,\n",
       "  &quot;prefix&quot;: &quot;fa&quot;,\n",
       "  &quot;extraClasses&quot;: &quot;fa-rotate-0&quot;,\n",
       "}\n",
       "            );\n",
       "            marker_1e4752b409143358bdeb06845421b015.setIcon(icon_c62ca71b5872e7c8ef0d2be8d985100c);\n",
       "        \n",
       "    \n",
       "        var popup_b442add01e6b291882db328a186968d1 = L.popup({\n",
       "  &quot;maxWidth&quot;: &quot;100%&quot;,\n",
       "});\n",
       "\n",
       "        \n",
       "            \n",
       "                var html_1b7eb9314869dc39f35c76b71c3f0858 = $(`&lt;div id=&quot;html_1b7eb9314869dc39f35c76b71c3f0858&quot; style=&quot;width: 100.0%; height: 100.0%;&quot;&gt;(&quot;&lt;b style=&#x27;font-size: 18px; &#x27;&gt;La Juliana&lt;/b&gt;&lt;br&gt;Direccion: 210 San Nicolas&quot;, &quot;Especialidades: [&#x27;Comida caribeña&#x27;, &#x27;latina&#x27;, &#x27;cubana&#x27;]&quot;)&lt;/div&gt;`)[0];\n",
       "                popup_b442add01e6b291882db328a186968d1.setContent(html_1b7eb9314869dc39f35c76b71c3f0858);\n",
       "            \n",
       "        \n",
       "\n",
       "        marker_1e4752b409143358bdeb06845421b015.bindPopup(popup_b442add01e6b291882db328a186968d1)\n",
       "        ;\n",
       "\n",
       "        \n",
       "    \n",
       "    \n",
       "            var marker_f489bc630ab48cd3e1512c8ead68cd87 = L.marker(\n",
       "                [23.121609415980522, -82.38347632186809],\n",
       "                {\n",
       "}\n",
       "            ).addTo(map_c1bd0692b3c890e2cab86875cb676aa0);\n",
       "        \n",
       "    \n",
       "            var icon_6ff918d2092bc34aa1b69e5b988aa9fe = L.AwesomeMarkers.icon(\n",
       "                {\n",
       "  &quot;markerColor&quot;: &quot;red&quot;,\n",
       "  &quot;iconColor&quot;: &quot;white&quot;,\n",
       "  &quot;icon&quot;: &quot;cutlery&quot;,\n",
       "  &quot;prefix&quot;: &quot;fa&quot;,\n",
       "  &quot;extraClasses&quot;: &quot;fa-rotate-0&quot;,\n",
       "}\n",
       "            );\n",
       "            marker_f489bc630ab48cd3e1512c8ead68cd87.setIcon(icon_6ff918d2092bc34aa1b69e5b988aa9fe);\n",
       "        \n",
       "    \n",
       "        var popup_61b03d4f4b298c69068532a793221a46 = L.popup({\n",
       "  &quot;maxWidth&quot;: &quot;100%&quot;,\n",
       "});\n",
       "\n",
       "        \n",
       "            \n",
       "                var html_340c5ea8525b21ace7876931e5d5f1b5 = $(`&lt;div id=&quot;html_340c5ea8525b21ace7876931e5d5f1b5&quot; style=&quot;width: 100.0%; height: 100.0%;&quot;&gt;(&quot;&lt;b style=&#x27;font-size: 18px; &#x27;&gt;La Lola&lt;/b&gt;&lt;br&gt;Direccion: Calle Ayestaran entre San Pablo y Pedro Perez&quot;, &quot;Especialidades: [&#x27;italiana&#x27;]&quot;)&lt;/div&gt;`)[0];\n",
       "                popup_61b03d4f4b298c69068532a793221a46.setContent(html_340c5ea8525b21ace7876931e5d5f1b5);\n",
       "            \n",
       "        \n",
       "\n",
       "        marker_f489bc630ab48cd3e1512c8ead68cd87.bindPopup(popup_61b03d4f4b298c69068532a793221a46)\n",
       "        ;\n",
       "\n",
       "        \n",
       "    \n",
       "    \n",
       "            var marker_f7a756d67569aab81ea777e1bcfe35a4 = L.marker(\n",
       "                [23.124444713197114, -82.3275978168261],\n",
       "                {\n",
       "}\n",
       "            ).addTo(map_c1bd0692b3c890e2cab86875cb676aa0);\n",
       "        \n",
       "    \n",
       "            var icon_9a4222d6b8aa8ff91900fee01b0ba47a = L.AwesomeMarkers.icon(\n",
       "                {\n",
       "  &quot;markerColor&quot;: &quot;red&quot;,\n",
       "  &quot;iconColor&quot;: &quot;white&quot;,\n",
       "  &quot;icon&quot;: &quot;cutlery&quot;,\n",
       "  &quot;prefix&quot;: &quot;fa&quot;,\n",
       "  &quot;extraClasses&quot;: &quot;fa-rotate-0&quot;,\n",
       "}\n",
       "            );\n",
       "            marker_f7a756d67569aab81ea777e1bcfe35a4.setIcon(icon_9a4222d6b8aa8ff91900fee01b0ba47a);\n",
       "        \n",
       "    \n",
       "        var popup_dd8356bcf780bd6135cd192ec2b6203b = L.popup({\n",
       "  &quot;maxWidth&quot;: &quot;100%&quot;,\n",
       "});\n",
       "\n",
       "        \n",
       "            \n",
       "                var html_880f021c9be9af5a006ae58524b20f7d = $(`&lt;div id=&quot;html_880f021c9be9af5a006ae58524b20f7d&quot; style=&quot;width: 100.0%; height: 100.0%;&quot;&gt;(&quot;&lt;b style=&#x27;font-size: 18px; &#x27;&gt;La Nueva Guitarreta&lt;/b&gt;&lt;br&gt;Direccion: Loredo y 24 de febrero&quot;, &quot;Especialidades: [&#x27;internacional&#x27;]&quot;)&lt;/div&gt;`)[0];\n",
       "                popup_dd8356bcf780bd6135cd192ec2b6203b.setContent(html_880f021c9be9af5a006ae58524b20f7d);\n",
       "            \n",
       "        \n",
       "\n",
       "        marker_f7a756d67569aab81ea777e1bcfe35a4.bindPopup(popup_dd8356bcf780bd6135cd192ec2b6203b)\n",
       "        ;\n",
       "\n",
       "        \n",
       "    \n",
       "    \n",
       "            var marker_563bb97cb1313c453e2773d8ed49168f = L.marker(\n",
       "                [23.127100478844387, -82.39964090333302],\n",
       "                {\n",
       "}\n",
       "            ).addTo(map_c1bd0692b3c890e2cab86875cb676aa0);\n",
       "        \n",
       "    \n",
       "            var icon_83e0bf4b5f9ca39587280815e89a3717 = L.AwesomeMarkers.icon(\n",
       "                {\n",
       "  &quot;markerColor&quot;: &quot;red&quot;,\n",
       "  &quot;iconColor&quot;: &quot;white&quot;,\n",
       "  &quot;icon&quot;: &quot;cutlery&quot;,\n",
       "  &quot;prefix&quot;: &quot;fa&quot;,\n",
       "  &quot;extraClasses&quot;: &quot;fa-rotate-0&quot;,\n",
       "}\n",
       "            );\n",
       "            marker_563bb97cb1313c453e2773d8ed49168f.setIcon(icon_83e0bf4b5f9ca39587280815e89a3717);\n",
       "        \n",
       "    \n",
       "        var popup_cc09801310f2e75430a607a87e99767a = L.popup({\n",
       "  &quot;maxWidth&quot;: &quot;100%&quot;,\n",
       "});\n",
       "\n",
       "        \n",
       "            \n",
       "                var html_a9d0c776ffe1368b9ee8141246b91c4f = $(`&lt;div id=&quot;html_a9d0c776ffe1368b9ee8141246b91c4f&quot; style=&quot;width: 100.0%; height: 100.0%;&quot;&gt;(&quot;&lt;b style=&#x27;font-size: 18px; &#x27;&gt;La Pelota&lt;/b&gt;&lt;br&gt;Direccion: Esquina 23 y 12, Vedado&quot;, &quot;Especialidades: [&#x27;criolla&#x27;, &#x27;cubana&#x27;]&quot;)&lt;/div&gt;`)[0];\n",
       "                popup_cc09801310f2e75430a607a87e99767a.setContent(html_a9d0c776ffe1368b9ee8141246b91c4f);\n",
       "            \n",
       "        \n",
       "\n",
       "        marker_563bb97cb1313c453e2773d8ed49168f.bindPopup(popup_cc09801310f2e75430a607a87e99767a)\n",
       "        ;\n",
       "\n",
       "        \n",
       "    \n",
       "    \n",
       "            var marker_0fa4e7fb1b9aa36dc8b329652ac8c91d = L.marker(\n",
       "                [23.105445368647896, -82.35839531190437],\n",
       "                {\n",
       "}\n",
       "            ).addTo(map_c1bd0692b3c890e2cab86875cb676aa0);\n",
       "        \n",
       "    \n",
       "            var icon_1804b6cd712245f750665e4e768445e9 = L.AwesomeMarkers.icon(\n",
       "                {\n",
       "  &quot;markerColor&quot;: &quot;red&quot;,\n",
       "  &quot;iconColor&quot;: &quot;white&quot;,\n",
       "  &quot;icon&quot;: &quot;cutlery&quot;,\n",
       "  &quot;prefix&quot;: &quot;fa&quot;,\n",
       "  &quot;extraClasses&quot;: &quot;fa-rotate-0&quot;,\n",
       "}\n",
       "            );\n",
       "            marker_0fa4e7fb1b9aa36dc8b329652ac8c91d.setIcon(icon_1804b6cd712245f750665e4e768445e9);\n",
       "        \n",
       "    \n",
       "        var popup_dd36ec8c687b9c6a9de5964de978c0de = L.popup({\n",
       "  &quot;maxWidth&quot;: &quot;100%&quot;,\n",
       "});\n",
       "\n",
       "        \n",
       "            \n",
       "                var html_9a13501839d8081d92f3104c6793c340 = $(`&lt;div id=&quot;html_9a13501839d8081d92f3104c6793c340&quot; style=&quot;width: 100.0%; height: 100.0%;&quot;&gt;(&quot;&lt;b style=&#x27;font-size: 18px; &#x27;&gt;La Ronda&lt;/b&gt;&lt;br&gt;Direccion: Callé Guasabacoa esquina Calzada de Luyanó&quot;, &quot;Especialidades: [&#x27;mixta&#x27;]&quot;)&lt;/div&gt;`)[0];\n",
       "                popup_dd36ec8c687b9c6a9de5964de978c0de.setContent(html_9a13501839d8081d92f3104c6793c340);\n",
       "            \n",
       "        \n",
       "\n",
       "        marker_0fa4e7fb1b9aa36dc8b329652ac8c91d.bindPopup(popup_dd36ec8c687b9c6a9de5964de978c0de)\n",
       "        ;\n",
       "\n",
       "        \n",
       "    \n",
       "    \n",
       "            var marker_fd66fd458846dcafe5ef386194961b3e = L.marker(\n",
       "                [23.090815898809876, -82.37152132357363],\n",
       "                {\n",
       "}\n",
       "            ).addTo(map_c1bd0692b3c890e2cab86875cb676aa0);\n",
       "        \n",
       "    \n",
       "            var icon_9c0ad5bb69ac39c9b475f09b63569dcf = L.AwesomeMarkers.icon(\n",
       "                {\n",
       "  &quot;markerColor&quot;: &quot;red&quot;,\n",
       "  &quot;iconColor&quot;: &quot;white&quot;,\n",
       "  &quot;icon&quot;: &quot;cutlery&quot;,\n",
       "  &quot;prefix&quot;: &quot;fa&quot;,\n",
       "  &quot;extraClasses&quot;: &quot;fa-rotate-0&quot;,\n",
       "}\n",
       "            );\n",
       "            marker_fd66fd458846dcafe5ef386194961b3e.setIcon(icon_9c0ad5bb69ac39c9b475f09b63569dcf);\n",
       "        \n",
       "    \n",
       "        var popup_550262a8967e810305f0fc099d528e19 = L.popup({\n",
       "  &quot;maxWidth&quot;: &quot;100%&quot;,\n",
       "});\n",
       "\n",
       "        \n",
       "            \n",
       "                var html_c3199b6f242dd72342d285ac2fa29bee = $(`&lt;div id=&quot;html_c3199b6f242dd72342d285ac2fa29bee&quot; style=&quot;width: 100.0%; height: 100.0%;&quot;&gt;(&quot;&lt;b style=&#x27;font-size: 18px; &#x27;&gt;La Rosa De Ortega&lt;/b&gt;&lt;br&gt;Direccion: Patrocinio #252 esq. a Juan Bruno Zayas&quot;, &quot;Especialidades: [&#x27;cubana&#x27;, &#x27;criolla&#x27;, &#x27;internacional&#x27;, &#x27;italiana&#x27;]&quot;)&lt;/div&gt;`)[0];\n",
       "                popup_550262a8967e810305f0fc099d528e19.setContent(html_c3199b6f242dd72342d285ac2fa29bee);\n",
       "            \n",
       "        \n",
       "\n",
       "        marker_fd66fd458846dcafe5ef386194961b3e.bindPopup(popup_550262a8967e810305f0fc099d528e19)\n",
       "        ;\n",
       "\n",
       "        \n",
       "    \n",
       "    \n",
       "            var marker_e361bcbc0b00065970f5649c08a75678 = L.marker(\n",
       "                [23.16729576315332, -82.29561634288147],\n",
       "                {\n",
       "}\n",
       "            ).addTo(map_c1bd0692b3c890e2cab86875cb676aa0);\n",
       "        \n",
       "    \n",
       "            var icon_00ba22513923600a32274bb11335e8cf = L.AwesomeMarkers.icon(\n",
       "                {\n",
       "  &quot;markerColor&quot;: &quot;red&quot;,\n",
       "  &quot;iconColor&quot;: &quot;white&quot;,\n",
       "  &quot;icon&quot;: &quot;cutlery&quot;,\n",
       "  &quot;prefix&quot;: &quot;fa&quot;,\n",
       "  &quot;extraClasses&quot;: &quot;fa-rotate-0&quot;,\n",
       "}\n",
       "            );\n",
       "            marker_e361bcbc0b00065970f5649c08a75678.setIcon(icon_00ba22513923600a32274bb11335e8cf);\n",
       "        \n",
       "    \n",
       "        var popup_088b8007d016f1c6ed84e20d2a8d111d = L.popup({\n",
       "  &quot;maxWidth&quot;: &quot;100%&quot;,\n",
       "});\n",
       "\n",
       "        \n",
       "            \n",
       "                var html_a53191cec59861b9a715a4516107e2f6 = $(`&lt;div id=&quot;html_a53191cec59861b9a715a4516107e2f6&quot; style=&quot;width: 100.0%; height: 100.0%;&quot;&gt;(&quot;&lt;b style=&#x27;font-size: 18px; &#x27;&gt;La ruta de Hemingway&lt;/b&gt;&lt;br&gt;Direccion: Calle Real entre Victoria y Marcos, Cojimar&quot;, &#x27;Especialidades: []&#x27;)&lt;/div&gt;`)[0];\n",
       "                popup_088b8007d016f1c6ed84e20d2a8d111d.setContent(html_a53191cec59861b9a715a4516107e2f6);\n",
       "            \n",
       "        \n",
       "\n",
       "        marker_e361bcbc0b00065970f5649c08a75678.bindPopup(popup_088b8007d016f1c6ed84e20d2a8d111d)\n",
       "        ;\n",
       "\n",
       "        \n",
       "    \n",
       "    \n",
       "            var marker_bffb26287fa553695099312aab671ee9 = L.marker(\n",
       "                [23.139151699462953, -82.35008075935141],\n",
       "                {\n",
       "}\n",
       "            ).addTo(map_c1bd0692b3c890e2cab86875cb676aa0);\n",
       "        \n",
       "    \n",
       "            var icon_7933944a70d0644a40a7f744903d0f56 = L.AwesomeMarkers.icon(\n",
       "                {\n",
       "  &quot;markerColor&quot;: &quot;red&quot;,\n",
       "  &quot;iconColor&quot;: &quot;white&quot;,\n",
       "  &quot;icon&quot;: &quot;cutlery&quot;,\n",
       "  &quot;prefix&quot;: &quot;fa&quot;,\n",
       "  &quot;extraClasses&quot;: &quot;fa-rotate-0&quot;,\n",
       "}\n",
       "            );\n",
       "            marker_bffb26287fa553695099312aab671ee9.setIcon(icon_7933944a70d0644a40a7f744903d0f56);\n",
       "        \n",
       "    \n",
       "        var popup_7fd6001395fdc0a030b4cf247ec2f1f1 = L.popup({\n",
       "  &quot;maxWidth&quot;: &quot;100%&quot;,\n",
       "});\n",
       "\n",
       "        \n",
       "            \n",
       "                var html_a0dcbab5364bd00bf619711929bc4ff8 = $(`&lt;div id=&quot;html_a0dcbab5364bd00bf619711929bc4ff8&quot; style=&quot;width: 100.0%; height: 100.0%;&quot;&gt;(&quot;&lt;b style=&#x27;font-size: 18px; &#x27;&gt;La Torre De Marfil&lt;/b&gt;&lt;br&gt;Direccion: Calle Mercaderes entre Obispo y Obrapia&quot;, &quot;Especialidades: [&#x27;China&#x27;, &#x27;Caribeña&#x27;, &#x27;Mediterránea&#x27;, &#x27;Cubana&#x27;]&quot;)&lt;/div&gt;`)[0];\n",
       "                popup_7fd6001395fdc0a030b4cf247ec2f1f1.setContent(html_a0dcbab5364bd00bf619711929bc4ff8);\n",
       "            \n",
       "        \n",
       "\n",
       "        marker_bffb26287fa553695099312aab671ee9.bindPopup(popup_7fd6001395fdc0a030b4cf247ec2f1f1)\n",
       "        ;\n",
       "\n",
       "        \n",
       "    \n",
       "    \n",
       "            var marker_3a1be7236a99019a98193d0d0f788305 = L.marker(\n",
       "                [23.13552900516459, -82.3502524323634],\n",
       "                {\n",
       "}\n",
       "            ).addTo(map_c1bd0692b3c890e2cab86875cb676aa0);\n",
       "        \n",
       "    \n",
       "            var icon_1ab4023ad429822e362813779b6c712d = L.AwesomeMarkers.icon(\n",
       "                {\n",
       "  &quot;markerColor&quot;: &quot;red&quot;,\n",
       "  &quot;iconColor&quot;: &quot;white&quot;,\n",
       "  &quot;icon&quot;: &quot;cutlery&quot;,\n",
       "  &quot;prefix&quot;: &quot;fa&quot;,\n",
       "  &quot;extraClasses&quot;: &quot;fa-rotate-0&quot;,\n",
       "}\n",
       "            );\n",
       "            marker_3a1be7236a99019a98193d0d0f788305.setIcon(icon_1ab4023ad429822e362813779b6c712d);\n",
       "        \n",
       "    \n",
       "        var popup_cb1f0cc5879e5dea45495b4f05da1594 = L.popup({\n",
       "  &quot;maxWidth&quot;: &quot;100%&quot;,\n",
       "});\n",
       "\n",
       "        \n",
       "            \n",
       "                var html_64c1abde7605117dbf4d96d0e8fcb1e8 = $(`&lt;div id=&quot;html_64c1abde7605117dbf4d96d0e8fcb1e8&quot; style=&quot;width: 100.0%; height: 100.0%;&quot;&gt;(&quot;&lt;b style=&#x27;font-size: 18px; &#x27;&gt;La Vitrola&lt;/b&gt;&lt;br&gt;Direccion: Plaza Vieja entre Muralla y San Ignacio&quot;, &quot;Especialidades: [&#x27;Comida mixta&#x27;]&quot;)&lt;/div&gt;`)[0];\n",
       "                popup_cb1f0cc5879e5dea45495b4f05da1594.setContent(html_64c1abde7605117dbf4d96d0e8fcb1e8);\n",
       "            \n",
       "        \n",
       "\n",
       "        marker_3a1be7236a99019a98193d0d0f788305.bindPopup(popup_cb1f0cc5879e5dea45495b4f05da1594)\n",
       "        ;\n",
       "\n",
       "        \n",
       "    \n",
       "    \n",
       "            var marker_494d6c8dd17b86aac97d9bee5b405bf2 = L.marker(\n",
       "                [23.081201100821605, -82.4216785238977],\n",
       "                {\n",
       "}\n",
       "            ).addTo(map_c1bd0692b3c890e2cab86875cb676aa0);\n",
       "        \n",
       "    \n",
       "            var icon_1a331ac0c87b4511800de5f0602d9fe1 = L.AwesomeMarkers.icon(\n",
       "                {\n",
       "  &quot;markerColor&quot;: &quot;red&quot;,\n",
       "  &quot;iconColor&quot;: &quot;white&quot;,\n",
       "  &quot;icon&quot;: &quot;cutlery&quot;,\n",
       "  &quot;prefix&quot;: &quot;fa&quot;,\n",
       "  &quot;extraClasses&quot;: &quot;fa-rotate-0&quot;,\n",
       "}\n",
       "            );\n",
       "            marker_494d6c8dd17b86aac97d9bee5b405bf2.setIcon(icon_1a331ac0c87b4511800de5f0602d9fe1);\n",
       "        \n",
       "    \n",
       "        var popup_98a04a2f70dcd4e8a364100c4b980ac3 = L.popup({\n",
       "  &quot;maxWidth&quot;: &quot;100%&quot;,\n",
       "});\n",
       "\n",
       "        \n",
       "            \n",
       "                var html_f79534152302e6d017c10ed38c088e89 = $(`&lt;div id=&quot;html_f79534152302e6d017c10ed38c088e89&quot; style=&quot;width: 100.0%; height: 100.0%;&quot;&gt;(&quot;&lt;b style=&#x27;font-size: 18px; &#x27;&gt;La Yuya&lt;/b&gt;&lt;br&gt;Direccion: 100 Y 51&quot;, &quot;Especialidades: [&#x27;mixta&#x27;]&quot;)&lt;/div&gt;`)[0];\n",
       "                popup_98a04a2f70dcd4e8a364100c4b980ac3.setContent(html_f79534152302e6d017c10ed38c088e89);\n",
       "            \n",
       "        \n",
       "\n",
       "        marker_494d6c8dd17b86aac97d9bee5b405bf2.bindPopup(popup_98a04a2f70dcd4e8a364100c4b980ac3)\n",
       "        ;\n",
       "\n",
       "        \n",
       "    \n",
       "    \n",
       "            var marker_c9bf544c8ed1b94d43d76ea7aec1558e = L.marker(\n",
       "                [23.119269806423606, -82.3720336019368],\n",
       "                {\n",
       "}\n",
       "            ).addTo(map_c1bd0692b3c890e2cab86875cb676aa0);\n",
       "        \n",
       "    \n",
       "            var icon_b9c3a4d76c5a152c7cae98c488c74ae4 = L.AwesomeMarkers.icon(\n",
       "                {\n",
       "  &quot;markerColor&quot;: &quot;red&quot;,\n",
       "  &quot;iconColor&quot;: &quot;white&quot;,\n",
       "  &quot;icon&quot;: &quot;cutlery&quot;,\n",
       "  &quot;prefix&quot;: &quot;fa&quot;,\n",
       "  &quot;extraClasses&quot;: &quot;fa-rotate-0&quot;,\n",
       "}\n",
       "            );\n",
       "            marker_c9bf544c8ed1b94d43d76ea7aec1558e.setIcon(icon_b9c3a4d76c5a152c7cae98c488c74ae4);\n",
       "        \n",
       "    \n",
       "        var popup_6d451ea30282480a807188308c275952 = L.popup({\n",
       "  &quot;maxWidth&quot;: &quot;100%&quot;,\n",
       "});\n",
       "\n",
       "        \n",
       "            \n",
       "                var html_1895d65df02456f6d3fadaa2aa4163ab = $(`&lt;div id=&quot;html_1895d65df02456f6d3fadaa2aa4163ab&quot; style=&quot;width: 100.0%; height: 100.0%;&quot;&gt;(&quot;&lt;b style=&#x27;font-size: 18px; &#x27;&gt;Leyendhabana&lt;/b&gt;&lt;br&gt;Direccion: Calle Santa Rosa No. 217 e/ Infanta y Cruz del Padre&quot;, &quot;Especialidades: [&#x27;Comida Caribena&#x27;]&quot;)&lt;/div&gt;`)[0];\n",
       "                popup_6d451ea30282480a807188308c275952.setContent(html_1895d65df02456f6d3fadaa2aa4163ab);\n",
       "            \n",
       "        \n",
       "\n",
       "        marker_c9bf544c8ed1b94d43d76ea7aec1558e.bindPopup(popup_6d451ea30282480a807188308c275952)\n",
       "        ;\n",
       "\n",
       "        \n",
       "    \n",
       "    \n",
       "            var marker_9cbe9d4745a4acd3b1d71f7146d78275 = L.marker(\n",
       "                [23.070410939396403, -82.45756089679794],\n",
       "                {\n",
       "}\n",
       "            ).addTo(map_c1bd0692b3c890e2cab86875cb676aa0);\n",
       "        \n",
       "    \n",
       "            var icon_39ac90cfc1ffc4aa1a8a7df5e3619ce1 = L.AwesomeMarkers.icon(\n",
       "                {\n",
       "  &quot;markerColor&quot;: &quot;red&quot;,\n",
       "  &quot;iconColor&quot;: &quot;white&quot;,\n",
       "  &quot;icon&quot;: &quot;cutlery&quot;,\n",
       "  &quot;prefix&quot;: &quot;fa&quot;,\n",
       "  &quot;extraClasses&quot;: &quot;fa-rotate-0&quot;,\n",
       "}\n",
       "            );\n",
       "            marker_9cbe9d4745a4acd3b1d71f7146d78275.setIcon(icon_39ac90cfc1ffc4aa1a8a7df5e3619ce1);\n",
       "        \n",
       "    \n",
       "        var popup_647f0441020a719ba6ce9637ce0a3350 = L.popup({\n",
       "  &quot;maxWidth&quot;: &quot;100%&quot;,\n",
       "});\n",
       "\n",
       "        \n",
       "            \n",
       "                var html_d771109ea592613b23b0818d01f530c4 = $(`&lt;div id=&quot;html_d771109ea592613b23b0818d01f530c4&quot; style=&quot;width: 100.0%; height: 100.0%;&quot;&gt;(&quot;&lt;b style=&#x27;font-size: 18px; &#x27;&gt;LKG&lt;/b&gt;&lt;br&gt;Direccion: Desconocida&quot;, &quot;Especialidades: [&#x27;caribeña&#x27;]&quot;)&lt;/div&gt;`)[0];\n",
       "                popup_647f0441020a719ba6ce9637ce0a3350.setContent(html_d771109ea592613b23b0818d01f530c4);\n",
       "            \n",
       "        \n",
       "\n",
       "        marker_9cbe9d4745a4acd3b1d71f7146d78275.bindPopup(popup_647f0441020a719ba6ce9637ce0a3350)\n",
       "        ;\n",
       "\n",
       "        \n",
       "    \n",
       "    \n",
       "            var marker_3bcf2101df4eb245f0e3e42f91cf2af4 = L.marker(\n",
       "                [23.062581992389248, -82.36383374585894],\n",
       "                {\n",
       "}\n",
       "            ).addTo(map_c1bd0692b3c890e2cab86875cb676aa0);\n",
       "        \n",
       "    \n",
       "            var icon_00e6c8d7ac5c4b45e64027a26a5bf6ab = L.AwesomeMarkers.icon(\n",
       "                {\n",
       "  &quot;markerColor&quot;: &quot;red&quot;,\n",
       "  &quot;iconColor&quot;: &quot;white&quot;,\n",
       "  &quot;icon&quot;: &quot;cutlery&quot;,\n",
       "  &quot;prefix&quot;: &quot;fa&quot;,\n",
       "  &quot;extraClasses&quot;: &quot;fa-rotate-0&quot;,\n",
       "}\n",
       "            );\n",
       "            marker_3bcf2101df4eb245f0e3e42f91cf2af4.setIcon(icon_00e6c8d7ac5c4b45e64027a26a5bf6ab);\n",
       "        \n",
       "    \n",
       "        var popup_2d0c336538b24826776f4e1a56c0774d = L.popup({\n",
       "  &quot;maxWidth&quot;: &quot;100%&quot;,\n",
       "});\n",
       "\n",
       "        \n",
       "            \n",
       "                var html_018e3b0ffad7f83a4584a24bf8fe0098 = $(`&lt;div id=&quot;html_018e3b0ffad7f83a4584a24bf8fe0098&quot; style=&quot;width: 100.0%; height: 100.0%;&quot;&gt;(&quot;&lt;b style=&#x27;font-size: 18px; &#x27;&gt;Los Atrevidos&lt;/b&gt;&lt;br&gt;Direccion: Calzada de Bejucal # 2639 e/ Estrella y Camilo Sierra&quot;, &quot;Especialidades: [&#x27;Italiana&#x27;]&quot;)&lt;/div&gt;`)[0];\n",
       "                popup_2d0c336538b24826776f4e1a56c0774d.setContent(html_018e3b0ffad7f83a4584a24bf8fe0098);\n",
       "            \n",
       "        \n",
       "\n",
       "        marker_3bcf2101df4eb245f0e3e42f91cf2af4.bindPopup(popup_2d0c336538b24826776f4e1a56c0774d)\n",
       "        ;\n",
       "\n",
       "        \n",
       "    \n",
       "    \n",
       "            var marker_629a90a5578a86f9a3f8c131a902d696 = L.marker(\n",
       "                [23.055831349044627, -82.33552695732365],\n",
       "                {\n",
       "}\n",
       "            ).addTo(map_c1bd0692b3c890e2cab86875cb676aa0);\n",
       "        \n",
       "    \n",
       "            var icon_0747f7b8ce5d5a4091821987f97d032a = L.AwesomeMarkers.icon(\n",
       "                {\n",
       "  &quot;markerColor&quot;: &quot;red&quot;,\n",
       "  &quot;iconColor&quot;: &quot;white&quot;,\n",
       "  &quot;icon&quot;: &quot;cutlery&quot;,\n",
       "  &quot;prefix&quot;: &quot;fa&quot;,\n",
       "  &quot;extraClasses&quot;: &quot;fa-rotate-0&quot;,\n",
       "}\n",
       "            );\n",
       "            marker_629a90a5578a86f9a3f8c131a902d696.setIcon(icon_0747f7b8ce5d5a4091821987f97d032a);\n",
       "        \n",
       "    \n",
       "        var popup_97afe0a215fb632b6bce7e742de52745 = L.popup({\n",
       "  &quot;maxWidth&quot;: &quot;100%&quot;,\n",
       "});\n",
       "\n",
       "        \n",
       "            \n",
       "                var html_6763072fedd2a837053496c008186150 = $(`&lt;div id=&quot;html_6763072fedd2a837053496c008186150&quot; style=&quot;width: 100.0%; height: 100.0%;&quot;&gt;(&quot;&lt;b style=&#x27;font-size: 18px; &#x27;&gt;Los caneyes&lt;/b&gt;&lt;br&gt;Direccion: Calle Martí y Gutierrez, Reparto Electrico&quot;, &quot;Especialidades: [&#x27;cubana&#x27;]&quot;)&lt;/div&gt;`)[0];\n",
       "                popup_97afe0a215fb632b6bce7e742de52745.setContent(html_6763072fedd2a837053496c008186150);\n",
       "            \n",
       "        \n",
       "\n",
       "        marker_629a90a5578a86f9a3f8c131a902d696.bindPopup(popup_97afe0a215fb632b6bce7e742de52745)\n",
       "        ;\n",
       "\n",
       "        \n",
       "    \n",
       "    \n",
       "            var marker_26c99a91f1170c01bdcc91450085366c = L.marker(\n",
       "                [23.134728671881838, -82.35835687654],\n",
       "                {\n",
       "}\n",
       "            ).addTo(map_c1bd0692b3c890e2cab86875cb676aa0);\n",
       "        \n",
       "    \n",
       "            var icon_c63f0ced89ef7e95455728758219b539 = L.AwesomeMarkers.icon(\n",
       "                {\n",
       "  &quot;markerColor&quot;: &quot;red&quot;,\n",
       "  &quot;iconColor&quot;: &quot;white&quot;,\n",
       "  &quot;icon&quot;: &quot;cutlery&quot;,\n",
       "  &quot;prefix&quot;: &quot;fa&quot;,\n",
       "  &quot;extraClasses&quot;: &quot;fa-rotate-0&quot;,\n",
       "}\n",
       "            );\n",
       "            marker_26c99a91f1170c01bdcc91450085366c.setIcon(icon_c63f0ced89ef7e95455728758219b539);\n",
       "        \n",
       "    \n",
       "        var popup_1c1d5c97b4982c3f4d8696c981f9fa46 = L.popup({\n",
       "  &quot;maxWidth&quot;: &quot;100%&quot;,\n",
       "});\n",
       "\n",
       "        \n",
       "            \n",
       "                var html_08809b4d13b3b4b6eaf6e5a2ff283055 = $(`&lt;div id=&quot;html_08809b4d13b3b4b6eaf6e5a2ff283055&quot; style=&quot;width: 100.0%; height: 100.0%;&quot;&gt;(&quot;&lt;b style=&#x27;font-size: 18px; &#x27;&gt;Los Nardos&lt;/b&gt;&lt;br&gt;Direccion: Paseo de Marti, frente al Capitolio&quot;, &quot;Especialidades: [&#x27;Comida mixta&#x27;]&quot;)&lt;/div&gt;`)[0];\n",
       "                popup_1c1d5c97b4982c3f4d8696c981f9fa46.setContent(html_08809b4d13b3b4b6eaf6e5a2ff283055);\n",
       "            \n",
       "        \n",
       "\n",
       "        marker_26c99a91f1170c01bdcc91450085366c.bindPopup(popup_1c1d5c97b4982c3f4d8696c981f9fa46)\n",
       "        ;\n",
       "\n",
       "        \n",
       "    \n",
       "    \n",
       "            var marker_3d11255f05914b5feff66ee873c1b39b = L.marker(\n",
       "                [23.084081730757468, -82.43599343396534],\n",
       "                {\n",
       "}\n",
       "            ).addTo(map_c1bd0692b3c890e2cab86875cb676aa0);\n",
       "        \n",
       "    \n",
       "            var icon_0f0b623cd6258ebed812b9804fef3417 = L.AwesomeMarkers.icon(\n",
       "                {\n",
       "  &quot;markerColor&quot;: &quot;red&quot;,\n",
       "  &quot;iconColor&quot;: &quot;white&quot;,\n",
       "  &quot;icon&quot;: &quot;cutlery&quot;,\n",
       "  &quot;prefix&quot;: &quot;fa&quot;,\n",
       "  &quot;extraClasses&quot;: &quot;fa-rotate-0&quot;,\n",
       "}\n",
       "            );\n",
       "            marker_3d11255f05914b5feff66ee873c1b39b.setIcon(icon_0f0b623cd6258ebed812b9804fef3417);\n",
       "        \n",
       "    \n",
       "        var popup_081aa67d98f1d6070b5695b4ee35e46b = L.popup({\n",
       "  &quot;maxWidth&quot;: &quot;100%&quot;,\n",
       "});\n",
       "\n",
       "        \n",
       "            \n",
       "                var html_3e3ff829ae873c86ad23242fa09d8f59 = $(`&lt;div id=&quot;html_3e3ff829ae873c86ad23242fa09d8f59&quot; style=&quot;width: 100.0%; height: 100.0%;&quot;&gt;(&quot;&lt;b style=&#x27;font-size: 18px; &#x27;&gt;Los taticos&lt;/b&gt;&lt;br&gt;Direccion: 27 y 27A&quot;, &quot;Especialidades: [&#x27;mixta&#x27;]&quot;)&lt;/div&gt;`)[0];\n",
       "                popup_081aa67d98f1d6070b5695b4ee35e46b.setContent(html_3e3ff829ae873c86ad23242fa09d8f59);\n",
       "            \n",
       "        \n",
       "\n",
       "        marker_3d11255f05914b5feff66ee873c1b39b.bindPopup(popup_081aa67d98f1d6070b5695b4ee35e46b)\n",
       "        ;\n",
       "\n",
       "        \n",
       "    \n",
       "    \n",
       "            var marker_4787f451f72e6a1b6d51e371912cb682 = L.marker(\n",
       "                [23.141345644414816, -82.3553965539762],\n",
       "                {\n",
       "}\n",
       "            ).addTo(map_c1bd0692b3c890e2cab86875cb676aa0);\n",
       "        \n",
       "    \n",
       "            var icon_5ff22b576c3acd4f6e03a7e01f687bb2 = L.AwesomeMarkers.icon(\n",
       "                {\n",
       "  &quot;markerColor&quot;: &quot;red&quot;,\n",
       "  &quot;iconColor&quot;: &quot;white&quot;,\n",
       "  &quot;icon&quot;: &quot;cutlery&quot;,\n",
       "  &quot;prefix&quot;: &quot;fa&quot;,\n",
       "  &quot;extraClasses&quot;: &quot;fa-rotate-0&quot;,\n",
       "}\n",
       "            );\n",
       "            marker_4787f451f72e6a1b6d51e371912cb682.setIcon(icon_5ff22b576c3acd4f6e03a7e01f687bb2);\n",
       "        \n",
       "    \n",
       "        var popup_5355cac1b760a44ccfa8f2dca937e75d = L.popup({\n",
       "  &quot;maxWidth&quot;: &quot;100%&quot;,\n",
       "});\n",
       "\n",
       "        \n",
       "            \n",
       "                var html_fdab4890563be69a520e2606ee46d5ff = $(`&lt;div id=&quot;html_fdab4890563be69a520e2606ee46d5ff&quot; style=&quot;width: 100.0%; height: 100.0%;&quot;&gt;(&quot;&lt;b style=&#x27;font-size: 18px; &#x27;&gt;Lo de Monik&lt;/b&gt;&lt;br&gt;Direccion: &quot;, &quot;Especialidades: [&#x27;Internacional&#x27;, &#x27;cubana&#x27;]&quot;)&lt;/div&gt;`)[0];\n",
       "                popup_5355cac1b760a44ccfa8f2dca937e75d.setContent(html_fdab4890563be69a520e2606ee46d5ff);\n",
       "            \n",
       "        \n",
       "\n",
       "        marker_4787f451f72e6a1b6d51e371912cb682.bindPopup(popup_5355cac1b760a44ccfa8f2dca937e75d)\n",
       "        ;\n",
       "\n",
       "        \n",
       "    \n",
       "    \n",
       "            var marker_a233a01d471608ab634d009b74a295e9 = L.marker(\n",
       "                [23.093303995429743, -82.36446379545066],\n",
       "                {\n",
       "}\n",
       "            ).addTo(map_c1bd0692b3c890e2cab86875cb676aa0);\n",
       "        \n",
       "    \n",
       "            var icon_f03e8b322c54e66c0c25f303ecf8b2f5 = L.AwesomeMarkers.icon(\n",
       "                {\n",
       "  &quot;markerColor&quot;: &quot;red&quot;,\n",
       "  &quot;iconColor&quot;: &quot;white&quot;,\n",
       "  &quot;icon&quot;: &quot;cutlery&quot;,\n",
       "  &quot;prefix&quot;: &quot;fa&quot;,\n",
       "  &quot;extraClasses&quot;: &quot;fa-rotate-0&quot;,\n",
       "}\n",
       "            );\n",
       "            marker_a233a01d471608ab634d009b74a295e9.setIcon(icon_f03e8b322c54e66c0c25f303ecf8b2f5);\n",
       "        \n",
       "    \n",
       "        var popup_c59c03c1deb94c067b79aabdc0e585be = L.popup({\n",
       "  &quot;maxWidth&quot;: &quot;100%&quot;,\n",
       "});\n",
       "\n",
       "        \n",
       "            \n",
       "                var html_fc847c34f7fc42c1d4400c176b17a05b = $(`&lt;div id=&quot;html_fc847c34f7fc42c1d4400c176b17a05b&quot; style=&quot;width: 100.0%; height: 100.0%;&quot;&gt;(&quot;&lt;b style=&#x27;font-size: 18px; &#x27;&gt;Luly Hamburguesas&lt;/b&gt;&lt;br&gt;Direccion: Calzada de Santa Catalina entre Calzada de Diez de Octubre y Parraga, Víbora&quot;, &quot;Especialidades: [&#x27;americana&#x27;]&quot;)&lt;/div&gt;`)[0];\n",
       "                popup_c59c03c1deb94c067b79aabdc0e585be.setContent(html_fc847c34f7fc42c1d4400c176b17a05b);\n",
       "            \n",
       "        \n",
       "\n",
       "        marker_a233a01d471608ab634d009b74a295e9.bindPopup(popup_c59c03c1deb94c067b79aabdc0e585be)\n",
       "        ;\n",
       "\n",
       "        \n",
       "    \n",
       "    \n",
       "            var marker_781aadfedbd68ea10b2b56af0adea6ef = L.marker(\n",
       "                [23.079340661045265, -82.36204303051731],\n",
       "                {\n",
       "}\n",
       "            ).addTo(map_c1bd0692b3c890e2cab86875cb676aa0);\n",
       "        \n",
       "    \n",
       "            var icon_e9aa68255dbe086073726293981e86ef = L.AwesomeMarkers.icon(\n",
       "                {\n",
       "  &quot;markerColor&quot;: &quot;red&quot;,\n",
       "  &quot;iconColor&quot;: &quot;white&quot;,\n",
       "  &quot;icon&quot;: &quot;cutlery&quot;,\n",
       "  &quot;prefix&quot;: &quot;fa&quot;,\n",
       "  &quot;extraClasses&quot;: &quot;fa-rotate-0&quot;,\n",
       "}\n",
       "            );\n",
       "            marker_781aadfedbd68ea10b2b56af0adea6ef.setIcon(icon_e9aa68255dbe086073726293981e86ef);\n",
       "        \n",
       "    \n",
       "        var popup_ca5efebe5e3fbf1eeb0429ee4dc35750 = L.popup({\n",
       "  &quot;maxWidth&quot;: &quot;100%&quot;,\n",
       "});\n",
       "\n",
       "        \n",
       "            \n",
       "                var html_3d226cc5899d933f918be1c085c1a16d = $(`&lt;div id=&quot;html_3d226cc5899d933f918be1c085c1a16d&quot; style=&quot;width: 100.0%; height: 100.0%;&quot;&gt;(&quot;&lt;b style=&#x27;font-size: 18px; &#x27;&gt;Magic&#x27;s Cream &amp; Burguer&lt;/b&gt;&lt;br&gt;Direccion: Calzada de 10 de Octubre, % Santa Amalia y Arnao&quot;, &quot;Especialidades: [&#x27;comida rapida&#x27;]&quot;)&lt;/div&gt;`)[0];\n",
       "                popup_ca5efebe5e3fbf1eeb0429ee4dc35750.setContent(html_3d226cc5899d933f918be1c085c1a16d);\n",
       "            \n",
       "        \n",
       "\n",
       "        marker_781aadfedbd68ea10b2b56af0adea6ef.bindPopup(popup_ca5efebe5e3fbf1eeb0429ee4dc35750)\n",
       "        ;\n",
       "\n",
       "        \n",
       "    \n",
       "    \n",
       "            var marker_da3a4b84107975f673f429d992568a9f = L.marker(\n",
       "                [23.113806624432474, -82.43952352231993],\n",
       "                {\n",
       "}\n",
       "            ).addTo(map_c1bd0692b3c890e2cab86875cb676aa0);\n",
       "        \n",
       "    \n",
       "            var icon_6a9a4a00a31da7a98beb05ff1f0d8e15 = L.AwesomeMarkers.icon(\n",
       "                {\n",
       "  &quot;markerColor&quot;: &quot;red&quot;,\n",
       "  &quot;iconColor&quot;: &quot;white&quot;,\n",
       "  &quot;icon&quot;: &quot;cutlery&quot;,\n",
       "  &quot;prefix&quot;: &quot;fa&quot;,\n",
       "  &quot;extraClasses&quot;: &quot;fa-rotate-0&quot;,\n",
       "}\n",
       "            );\n",
       "            marker_da3a4b84107975f673f429d992568a9f.setIcon(icon_6a9a4a00a31da7a98beb05ff1f0d8e15);\n",
       "        \n",
       "    \n",
       "        var popup_82a1b745e95717551f1f3d9654504803 = L.popup({\n",
       "  &quot;maxWidth&quot;: &quot;100%&quot;,\n",
       "});\n",
       "\n",
       "        \n",
       "            \n",
       "                var html_1970f0425062913dccc893cda2e29563 = $(`&lt;div id=&quot;html_1970f0425062913dccc893cda2e29563&quot; style=&quot;width: 100.0%; height: 100.0%;&quot;&gt;(&quot;&lt;b style=&#x27;font-size: 18px; &#x27;&gt;Marina&lt;/b&gt;&lt;br&gt;Direccion: 1ra Avenida entre calle 70 y 68&quot;, &quot;Especialidades: [&#x27;cubana&#x27;, &#x27;internacional&#x27;]&quot;)&lt;/div&gt;`)[0];\n",
       "                popup_82a1b745e95717551f1f3d9654504803.setContent(html_1970f0425062913dccc893cda2e29563);\n",
       "            \n",
       "        \n",
       "\n",
       "        marker_da3a4b84107975f673f429d992568a9f.bindPopup(popup_82a1b745e95717551f1f3d9654504803)\n",
       "        ;\n",
       "\n",
       "        \n",
       "    \n",
       "    \n",
       "            var marker_df7652ce904e0e9738084c646b5776fb = L.marker(\n",
       "                [23.04788673152548, -82.26844826765596],\n",
       "                {\n",
       "}\n",
       "            ).addTo(map_c1bd0692b3c890e2cab86875cb676aa0);\n",
       "        \n",
       "    \n",
       "            var icon_864146696f4512a574f10ae67be7bc65 = L.AwesomeMarkers.icon(\n",
       "                {\n",
       "  &quot;markerColor&quot;: &quot;red&quot;,\n",
       "  &quot;iconColor&quot;: &quot;white&quot;,\n",
       "  &quot;icon&quot;: &quot;cutlery&quot;,\n",
       "  &quot;prefix&quot;: &quot;fa&quot;,\n",
       "  &quot;extraClasses&quot;: &quot;fa-rotate-0&quot;,\n",
       "}\n",
       "            );\n",
       "            marker_df7652ce904e0e9738084c646b5776fb.setIcon(icon_864146696f4512a574f10ae67be7bc65);\n",
       "        \n",
       "    \n",
       "        var popup_13820e060273bdd164d4feebeca1c45f = L.popup({\n",
       "  &quot;maxWidth&quot;: &quot;100%&quot;,\n",
       "});\n",
       "\n",
       "        \n",
       "            \n",
       "                var html_2ed0b22be4440bc27bbd0c48a952f928 = $(`&lt;div id=&quot;html_2ed0b22be4440bc27bbd0c48a952f928&quot; style=&quot;width: 100.0%; height: 100.0%;&quot;&gt;(&quot;&lt;b style=&#x27;font-size: 18px; &#x27;&gt;Martínez Club&lt;/b&gt;&lt;br&gt;Direccion: En la otra cuadra de la funeraria del cotorro&quot;, &quot;Especialidades: [&#x27;Italiana&#x27;]&quot;)&lt;/div&gt;`)[0];\n",
       "                popup_13820e060273bdd164d4feebeca1c45f.setContent(html_2ed0b22be4440bc27bbd0c48a952f928);\n",
       "            \n",
       "        \n",
       "\n",
       "        marker_df7652ce904e0e9738084c646b5776fb.bindPopup(popup_13820e060273bdd164d4feebeca1c45f)\n",
       "        ;\n",
       "\n",
       "        \n",
       "    \n",
       "    \n",
       "            var marker_651b06827030c7dd25fc378f1bf32d6c = L.marker(\n",
       "                [23.142254422422297, -82.39922933157261],\n",
       "                {\n",
       "}\n",
       "            ).addTo(map_c1bd0692b3c890e2cab86875cb676aa0);\n",
       "        \n",
       "    \n",
       "            var icon_dbdbc0d119c98728564198b888078a33 = L.AwesomeMarkers.icon(\n",
       "                {\n",
       "  &quot;markerColor&quot;: &quot;red&quot;,\n",
       "  &quot;iconColor&quot;: &quot;white&quot;,\n",
       "  &quot;icon&quot;: &quot;cutlery&quot;,\n",
       "  &quot;prefix&quot;: &quot;fa&quot;,\n",
       "  &quot;extraClasses&quot;: &quot;fa-rotate-0&quot;,\n",
       "}\n",
       "            );\n",
       "            marker_651b06827030c7dd25fc378f1bf32d6c.setIcon(icon_dbdbc0d119c98728564198b888078a33);\n",
       "        \n",
       "    \n",
       "        var popup_31d251cc5cdf5c9ae4d4a66986debf36 = L.popup({\n",
       "  &quot;maxWidth&quot;: &quot;100%&quot;,\n",
       "});\n",
       "\n",
       "        \n",
       "            \n",
       "                var html_f33a2c01a97d53cc35604b544ea71ed6 = $(`&lt;div id=&quot;html_f33a2c01a97d53cc35604b544ea71ed6&quot; style=&quot;width: 100.0%; height: 100.0%;&quot;&gt;(&quot;&lt;b style=&#x27;font-size: 18px; &#x27;&gt;Mar adentro&lt;/b&gt;&lt;br&gt;Direccion: &quot;, &quot;Especialidades: [&#x27;Comida Mediterranea&#x27;, &#x27;fusion&#x27;, &#x27;cubana&#x27;]&quot;)&lt;/div&gt;`)[0];\n",
       "                popup_31d251cc5cdf5c9ae4d4a66986debf36.setContent(html_f33a2c01a97d53cc35604b544ea71ed6);\n",
       "            \n",
       "        \n",
       "\n",
       "        marker_651b06827030c7dd25fc378f1bf32d6c.bindPopup(popup_31d251cc5cdf5c9ae4d4a66986debf36)\n",
       "        ;\n",
       "\n",
       "        \n",
       "    \n",
       "    \n",
       "            var marker_e6b15bcadf4c93d58e9f7398e5ab0366 = L.marker(\n",
       "                [23.051960561329945, -82.2757870610061],\n",
       "                {\n",
       "}\n",
       "            ).addTo(map_c1bd0692b3c890e2cab86875cb676aa0);\n",
       "        \n",
       "    \n",
       "            var icon_2a7786b726955b395c24fe7a51f5eb5b = L.AwesomeMarkers.icon(\n",
       "                {\n",
       "  &quot;markerColor&quot;: &quot;red&quot;,\n",
       "  &quot;iconColor&quot;: &quot;white&quot;,\n",
       "  &quot;icon&quot;: &quot;cutlery&quot;,\n",
       "  &quot;prefix&quot;: &quot;fa&quot;,\n",
       "  &quot;extraClasses&quot;: &quot;fa-rotate-0&quot;,\n",
       "}\n",
       "            );\n",
       "            marker_e6b15bcadf4c93d58e9f7398e5ab0366.setIcon(icon_2a7786b726955b395c24fe7a51f5eb5b);\n",
       "        \n",
       "    \n",
       "        var popup_d555d957aad2a6491bb9ac92cb0811ca = L.popup({\n",
       "  &quot;maxWidth&quot;: &quot;100%&quot;,\n",
       "});\n",
       "\n",
       "        \n",
       "            \n",
       "                var html_515fbe266feeda4c0da06183e922ec42 = $(`&lt;div id=&quot;html_515fbe266feeda4c0da06183e922ec42&quot; style=&quot;width: 100.0%; height: 100.0%;&quot;&gt;(&quot;&lt;b style=&#x27;font-size: 18px; &#x27;&gt;Mc.Cesar&lt;/b&gt;&lt;br&gt;Direccion: calle primer entre 220 y 221&quot;, &quot;Especialidades: [&#x27;cubana&#x27;]&quot;)&lt;/div&gt;`)[0];\n",
       "                popup_d555d957aad2a6491bb9ac92cb0811ca.setContent(html_515fbe266feeda4c0da06183e922ec42);\n",
       "            \n",
       "        \n",
       "\n",
       "        marker_e6b15bcadf4c93d58e9f7398e5ab0366.bindPopup(popup_d555d957aad2a6491bb9ac92cb0811ca)\n",
       "        ;\n",
       "\n",
       "        \n",
       "    \n",
       "    \n",
       "            var marker_b2b2a38c8be7320ab79a2b12fc1c0fe7 = L.marker(\n",
       "                [23.097475154324474, -82.3758757186763],\n",
       "                {\n",
       "}\n",
       "            ).addTo(map_c1bd0692b3c890e2cab86875cb676aa0);\n",
       "        \n",
       "    \n",
       "            var icon_dc8e8db3676dfa4807e3aba38c5c4b76 = L.AwesomeMarkers.icon(\n",
       "                {\n",
       "  &quot;markerColor&quot;: &quot;red&quot;,\n",
       "  &quot;iconColor&quot;: &quot;white&quot;,\n",
       "  &quot;icon&quot;: &quot;cutlery&quot;,\n",
       "  &quot;prefix&quot;: &quot;fa&quot;,\n",
       "  &quot;extraClasses&quot;: &quot;fa-rotate-0&quot;,\n",
       "}\n",
       "            );\n",
       "            marker_b2b2a38c8be7320ab79a2b12fc1c0fe7.setIcon(icon_dc8e8db3676dfa4807e3aba38c5c4b76);\n",
       "        \n",
       "    \n",
       "        var popup_b356ee1a41210eb47fa4b0880e1522f6 = L.popup({\n",
       "  &quot;maxWidth&quot;: &quot;100%&quot;,\n",
       "});\n",
       "\n",
       "        \n",
       "            \n",
       "                var html_08c20cc497d1d266df579554bdb88cea = $(`&lt;div id=&quot;html_08c20cc497d1d266df579554bdb88cea&quot; style=&quot;width: 100.0%; height: 100.0%;&quot;&gt;(&quot;&lt;b style=&#x27;font-size: 18px; &#x27;&gt;Melao&#x27;s&lt;/b&gt;&lt;br&gt;Direccion: Goicuría 229 e/ Milagros y Libertad. Santo Suárez&quot;, &#x27;Especialidades: []&#x27;)&lt;/div&gt;`)[0];\n",
       "                popup_b356ee1a41210eb47fa4b0880e1522f6.setContent(html_08c20cc497d1d266df579554bdb88cea);\n",
       "            \n",
       "        \n",
       "\n",
       "        marker_b2b2a38c8be7320ab79a2b12fc1c0fe7.bindPopup(popup_b356ee1a41210eb47fa4b0880e1522f6)\n",
       "        ;\n",
       "\n",
       "        \n",
       "    \n",
       "    \n",
       "            var marker_96cdac5cf8297f71240ee2831548f313 = L.marker(\n",
       "                [23.13356833336648, -82.3680681381318],\n",
       "                {\n",
       "}\n",
       "            ).addTo(map_c1bd0692b3c890e2cab86875cb676aa0);\n",
       "        \n",
       "    \n",
       "            var icon_01bb9ec937da12b04c9d5364ef4941c1 = L.AwesomeMarkers.icon(\n",
       "                {\n",
       "  &quot;markerColor&quot;: &quot;red&quot;,\n",
       "  &quot;iconColor&quot;: &quot;white&quot;,\n",
       "  &quot;icon&quot;: &quot;cutlery&quot;,\n",
       "  &quot;prefix&quot;: &quot;fa&quot;,\n",
       "  &quot;extraClasses&quot;: &quot;fa-rotate-0&quot;,\n",
       "}\n",
       "            );\n",
       "            marker_96cdac5cf8297f71240ee2831548f313.setIcon(icon_01bb9ec937da12b04c9d5364ef4941c1);\n",
       "        \n",
       "    \n",
       "        var popup_b2024ea29a5b80537f739bd8f89310fd = L.popup({\n",
       "  &quot;maxWidth&quot;: &quot;100%&quot;,\n",
       "});\n",
       "\n",
       "        \n",
       "            \n",
       "                var html_3c2b8efe47ad97450d3d516ac01f79dc = $(`&lt;div id=&quot;html_3c2b8efe47ad97450d3d516ac01f79dc&quot; style=&quot;width: 100.0%; height: 100.0%;&quot;&gt;(&quot;&lt;b style=&#x27;font-size: 18px; &#x27;&gt;Mimosa&lt;/b&gt;&lt;br&gt;Direccion: Salud entre C.Cerrada del Paseo y Escobar&quot;, &quot;Especialidades: [&#x27;internacional&#x27;, &#x27;Italiana&#x27;, &#x27;Cubana&#x27;]&quot;)&lt;/div&gt;`)[0];\n",
       "                popup_b2024ea29a5b80537f739bd8f89310fd.setContent(html_3c2b8efe47ad97450d3d516ac01f79dc);\n",
       "            \n",
       "        \n",
       "\n",
       "        marker_96cdac5cf8297f71240ee2831548f313.bindPopup(popup_b2024ea29a5b80537f739bd8f89310fd)\n",
       "        ;\n",
       "\n",
       "        \n",
       "    \n",
       "    \n",
       "            var marker_6a05409b4a59c7eb1f8eed1f4b4fe579 = L.marker(\n",
       "                [23.14556061167238, -82.35844252514089],\n",
       "                {\n",
       "}\n",
       "            ).addTo(map_c1bd0692b3c890e2cab86875cb676aa0);\n",
       "        \n",
       "    \n",
       "            var icon_fc148f3f2ee9dd8fe9f469a4756deded = L.AwesomeMarkers.icon(\n",
       "                {\n",
       "  &quot;markerColor&quot;: &quot;red&quot;,\n",
       "  &quot;iconColor&quot;: &quot;white&quot;,\n",
       "  &quot;icon&quot;: &quot;cutlery&quot;,\n",
       "  &quot;prefix&quot;: &quot;fa&quot;,\n",
       "  &quot;extraClasses&quot;: &quot;fa-rotate-0&quot;,\n",
       "}\n",
       "            );\n",
       "            marker_6a05409b4a59c7eb1f8eed1f4b4fe579.setIcon(icon_fc148f3f2ee9dd8fe9f469a4756deded);\n",
       "        \n",
       "    \n",
       "        var popup_c46a5dc6b9abc45dee119b544db3fa8f = L.popup({\n",
       "  &quot;maxWidth&quot;: &quot;100%&quot;,\n",
       "});\n",
       "\n",
       "        \n",
       "            \n",
       "                var html_fd5bb75d1372e1fc5277054ea4eae4e4 = $(`&lt;div id=&quot;html_fd5bb75d1372e1fc5277054ea4eae4e4&quot; style=&quot;width: 100.0%; height: 100.0%;&quot;&gt;(&quot;&lt;b style=&#x27;font-size: 18px; &#x27;&gt;Mini Bar (Hotel Royalton Paseo Del Prado)&lt;/b&gt;&lt;br&gt;Direccion: Prado y Malecón&quot;, &quot;Especialidades: [&#x27;bar&#x27;]&quot;)&lt;/div&gt;`)[0];\n",
       "                popup_c46a5dc6b9abc45dee119b544db3fa8f.setContent(html_fd5bb75d1372e1fc5277054ea4eae4e4);\n",
       "            \n",
       "        \n",
       "\n",
       "        marker_6a05409b4a59c7eb1f8eed1f4b4fe579.bindPopup(popup_c46a5dc6b9abc45dee119b544db3fa8f)\n",
       "        ;\n",
       "\n",
       "        \n",
       "    \n",
       "    \n",
       "            var marker_23ab5118b73c0724383ac2693d3bcc95 = L.marker(\n",
       "                [23.08902142289598, -82.36049771816977],\n",
       "                {\n",
       "}\n",
       "            ).addTo(map_c1bd0692b3c890e2cab86875cb676aa0);\n",
       "        \n",
       "    \n",
       "            var icon_61acf0da21b6c8ab6daaf3ecdc251b5d = L.AwesomeMarkers.icon(\n",
       "                {\n",
       "  &quot;markerColor&quot;: &quot;red&quot;,\n",
       "  &quot;iconColor&quot;: &quot;white&quot;,\n",
       "  &quot;icon&quot;: &quot;cutlery&quot;,\n",
       "  &quot;prefix&quot;: &quot;fa&quot;,\n",
       "  &quot;extraClasses&quot;: &quot;fa-rotate-0&quot;,\n",
       "}\n",
       "            );\n",
       "            marker_23ab5118b73c0724383ac2693d3bcc95.setIcon(icon_61acf0da21b6c8ab6daaf3ecdc251b5d);\n",
       "        \n",
       "    \n",
       "        var popup_d6ebbd2bb3a01c7808307ea8ffe8fb0c = L.popup({\n",
       "  &quot;maxWidth&quot;: &quot;100%&quot;,\n",
       "});\n",
       "\n",
       "        \n",
       "            \n",
       "                var html_453793ce9185d9e5b970ac70d9be8cd4 = $(`&lt;div id=&quot;html_453793ce9185d9e5b970ac70d9be8cd4&quot; style=&quot;width: 100.0%; height: 100.0%;&quot;&gt;(&quot;&lt;b style=&#x27;font-size: 18px; &#x27;&gt;Mirador de Acosta&lt;/b&gt;&lt;br&gt;Direccion: Esquina Vista Alegre Este y Avenida Acosta&quot;, &quot;Especialidades: [&#x27;latina&#x27;, &#x27;criolla&#x27;]&quot;)&lt;/div&gt;`)[0];\n",
       "                popup_d6ebbd2bb3a01c7808307ea8ffe8fb0c.setContent(html_453793ce9185d9e5b970ac70d9be8cd4);\n",
       "            \n",
       "        \n",
       "\n",
       "        marker_23ab5118b73c0724383ac2693d3bcc95.bindPopup(popup_d6ebbd2bb3a01c7808307ea8ffe8fb0c)\n",
       "        ;\n",
       "\n",
       "        \n",
       "    \n",
       "    \n",
       "            var marker_563619710eea13437643e601b1a42c8d = L.marker(\n",
       "                [23.044193754619403, -82.2662082394822],\n",
       "                {\n",
       "}\n",
       "            ).addTo(map_c1bd0692b3c890e2cab86875cb676aa0);\n",
       "        \n",
       "    \n",
       "            var icon_ae4bbf1d586237da3d8553f120394f4d = L.AwesomeMarkers.icon(\n",
       "                {\n",
       "  &quot;markerColor&quot;: &quot;red&quot;,\n",
       "  &quot;iconColor&quot;: &quot;white&quot;,\n",
       "  &quot;icon&quot;: &quot;cutlery&quot;,\n",
       "  &quot;prefix&quot;: &quot;fa&quot;,\n",
       "  &quot;extraClasses&quot;: &quot;fa-rotate-0&quot;,\n",
       "}\n",
       "            );\n",
       "            marker_563619710eea13437643e601b1a42c8d.setIcon(icon_ae4bbf1d586237da3d8553f120394f4d);\n",
       "        \n",
       "    \n",
       "        var popup_aad13ae71b7658f6c6754d566707e5c7 = L.popup({\n",
       "  &quot;maxWidth&quot;: &quot;100%&quot;,\n",
       "});\n",
       "\n",
       "        \n",
       "            \n",
       "                var html_5a213f73b09df956cba326d63c223a01 = $(`&lt;div id=&quot;html_5a213f73b09df956cba326d63c223a01&quot; style=&quot;width: 100.0%; height: 100.0%;&quot;&gt;(&quot;&lt;b style=&#x27;font-size: 18px; &#x27;&gt;Mi terraza&lt;/b&gt;&lt;br&gt;Direccion: Calle 71 % 24 y 26, Las Brisas&quot;, &quot;Especialidades: [&#x27;Italiana&#x27;]&quot;)&lt;/div&gt;`)[0];\n",
       "                popup_aad13ae71b7658f6c6754d566707e5c7.setContent(html_5a213f73b09df956cba326d63c223a01);\n",
       "            \n",
       "        \n",
       "\n",
       "        marker_563619710eea13437643e601b1a42c8d.bindPopup(popup_aad13ae71b7658f6c6754d566707e5c7)\n",
       "        ;\n",
       "\n",
       "        \n",
       "    \n",
       "    \n",
       "            var marker_74ec9602bb5c74c4732a3fca9d7b5745 = L.marker(\n",
       "                [23.089659137079668, -82.4212900861762],\n",
       "                {\n",
       "}\n",
       "            ).addTo(map_c1bd0692b3c890e2cab86875cb676aa0);\n",
       "        \n",
       "    \n",
       "            var icon_d0f83f1918e794bf035728a2d4244e31 = L.AwesomeMarkers.icon(\n",
       "                {\n",
       "  &quot;markerColor&quot;: &quot;red&quot;,\n",
       "  &quot;iconColor&quot;: &quot;white&quot;,\n",
       "  &quot;icon&quot;: &quot;cutlery&quot;,\n",
       "  &quot;prefix&quot;: &quot;fa&quot;,\n",
       "  &quot;extraClasses&quot;: &quot;fa-rotate-0&quot;,\n",
       "}\n",
       "            );\n",
       "            marker_74ec9602bb5c74c4732a3fca9d7b5745.setIcon(icon_d0f83f1918e794bf035728a2d4244e31);\n",
       "        \n",
       "    \n",
       "        var popup_e650a25c43237010a7423259a539c095 = L.popup({\n",
       "  &quot;maxWidth&quot;: &quot;100%&quot;,\n",
       "});\n",
       "\n",
       "        \n",
       "            \n",
       "                var html_31663c7e987d6e043ee720dab35e20e3 = $(`&lt;div id=&quot;html_31663c7e987d6e043ee720dab35e20e3&quot; style=&quot;width: 100.0%; height: 100.0%;&quot;&gt;(&quot;&lt;b style=&#x27;font-size: 18px; &#x27;&gt;MM-Cafeteria&lt;/b&gt;&lt;br&gt;Direccion: Avenida 41 entre 82 y 84&quot;, &quot;Especialidades: [&#x27;cubana&#x27;, &#x27;italiana&#x27;]&quot;)&lt;/div&gt;`)[0];\n",
       "                popup_e650a25c43237010a7423259a539c095.setContent(html_31663c7e987d6e043ee720dab35e20e3);\n",
       "            \n",
       "        \n",
       "\n",
       "        marker_74ec9602bb5c74c4732a3fca9d7b5745.bindPopup(popup_e650a25c43237010a7423259a539c095)\n",
       "        ;\n",
       "\n",
       "        \n",
       "    \n",
       "    \n",
       "            var marker_f10af854350bac1bfde2c8229ede068a = L.marker(\n",
       "                [23.113313570547763, -82.43955638650688],\n",
       "                {\n",
       "}\n",
       "            ).addTo(map_c1bd0692b3c890e2cab86875cb676aa0);\n",
       "        \n",
       "    \n",
       "            var icon_c7003049d630f122d44af4280e497bd7 = L.AwesomeMarkers.icon(\n",
       "                {\n",
       "  &quot;markerColor&quot;: &quot;red&quot;,\n",
       "  &quot;iconColor&quot;: &quot;white&quot;,\n",
       "  &quot;icon&quot;: &quot;cutlery&quot;,\n",
       "  &quot;prefix&quot;: &quot;fa&quot;,\n",
       "  &quot;extraClasses&quot;: &quot;fa-rotate-0&quot;,\n",
       "}\n",
       "            );\n",
       "            marker_f10af854350bac1bfde2c8229ede068a.setIcon(icon_c7003049d630f122d44af4280e497bd7);\n",
       "        \n",
       "    \n",
       "        var popup_69c1a162bd1dbd15e3eabbaa35583913 = L.popup({\n",
       "  &quot;maxWidth&quot;: &quot;100%&quot;,\n",
       "});\n",
       "\n",
       "        \n",
       "            \n",
       "                var html_6e10857f46a2bd3665c868923d39bd8b = $(`&lt;div id=&quot;html_6e10857f46a2bd3665c868923d39bd8b&quot; style=&quot;width: 100.0%; height: 100.0%;&quot;&gt;(&quot;&lt;b style=&#x27;font-size: 18px; &#x27;&gt;Muelle 70&lt;/b&gt;&lt;br&gt;Direccion: 1ra Avenida entre calle 70 y 68&quot;, &quot;Especialidades: [&#x27;cubana&#x27;, &#x27;internacional&#x27;, &#x27;italiana&#x27;, &#x27;criolla&#x27;]&quot;)&lt;/div&gt;`)[0];\n",
       "                popup_69c1a162bd1dbd15e3eabbaa35583913.setContent(html_6e10857f46a2bd3665c868923d39bd8b);\n",
       "            \n",
       "        \n",
       "\n",
       "        marker_f10af854350bac1bfde2c8229ede068a.bindPopup(popup_69c1a162bd1dbd15e3eabbaa35583913)\n",
       "        ;\n",
       "\n",
       "        \n",
       "    \n",
       "    \n",
       "            var marker_4fdafbd490b41a55dc0beaa0a7abe488 = L.marker(\n",
       "                [23.138030572262426, -82.36420227071567],\n",
       "                {\n",
       "}\n",
       "            ).addTo(map_c1bd0692b3c890e2cab86875cb676aa0);\n",
       "        \n",
       "    \n",
       "            var icon_bdc21e22c5689ee00da11e791442a44e = L.AwesomeMarkers.icon(\n",
       "                {\n",
       "  &quot;markerColor&quot;: &quot;red&quot;,\n",
       "  &quot;iconColor&quot;: &quot;white&quot;,\n",
       "  &quot;icon&quot;: &quot;cutlery&quot;,\n",
       "  &quot;prefix&quot;: &quot;fa&quot;,\n",
       "  &quot;extraClasses&quot;: &quot;fa-rotate-0&quot;,\n",
       "}\n",
       "            );\n",
       "            marker_4fdafbd490b41a55dc0beaa0a7abe488.setIcon(icon_bdc21e22c5689ee00da11e791442a44e);\n",
       "        \n",
       "    \n",
       "        var popup_3b148d0b0c4ad99655bad3efc5678aa6 = L.popup({\n",
       "  &quot;maxWidth&quot;: &quot;100%&quot;,\n",
       "});\n",
       "\n",
       "        \n",
       "            \n",
       "                var html_16290da1bb7ea69e0960122a3597bfd7 = $(`&lt;div id=&quot;html_16290da1bb7ea69e0960122a3597bfd7&quot; style=&quot;width: 100.0%; height: 100.0%;&quot;&gt;(&quot;&lt;b style=&#x27;font-size: 18px; &#x27;&gt;Mundo Pizza&lt;/b&gt;&lt;br&gt;Direccion: C. San Nicolás 309 entre Neptuno y San Miguel&quot;, &quot;Especialidades: [&#x27;Internacional&#x27;, &#x27;Pizzas&#x27;]&quot;)&lt;/div&gt;`)[0];\n",
       "                popup_3b148d0b0c4ad99655bad3efc5678aa6.setContent(html_16290da1bb7ea69e0960122a3597bfd7);\n",
       "            \n",
       "        \n",
       "\n",
       "        marker_4fdafbd490b41a55dc0beaa0a7abe488.bindPopup(popup_3b148d0b0c4ad99655bad3efc5678aa6)\n",
       "        ;\n",
       "\n",
       "        \n",
       "    \n",
       "    \n",
       "            var marker_f194f8d212074f2c53d11b4da85060fe = L.marker(\n",
       "                [23.140346357851502, -82.35253591702202],\n",
       "                {\n",
       "}\n",
       "            ).addTo(map_c1bd0692b3c890e2cab86875cb676aa0);\n",
       "        \n",
       "    \n",
       "            var icon_f88d3f5be45ef3e0d2d7e6c063dc9c13 = L.AwesomeMarkers.icon(\n",
       "                {\n",
       "  &quot;markerColor&quot;: &quot;red&quot;,\n",
       "  &quot;iconColor&quot;: &quot;white&quot;,\n",
       "  &quot;icon&quot;: &quot;cutlery&quot;,\n",
       "  &quot;prefix&quot;: &quot;fa&quot;,\n",
       "  &quot;extraClasses&quot;: &quot;fa-rotate-0&quot;,\n",
       "}\n",
       "            );\n",
       "            marker_f194f8d212074f2c53d11b4da85060fe.setIcon(icon_f88d3f5be45ef3e0d2d7e6c063dc9c13);\n",
       "        \n",
       "    \n",
       "        var popup_ccd39c4a9515383acf6c6c2b4b6f9215 = L.popup({\n",
       "  &quot;maxWidth&quot;: &quot;100%&quot;,\n",
       "});\n",
       "\n",
       "        \n",
       "            \n",
       "                var html_d44a02a311a4f6c834808876336eebdc = $(`&lt;div id=&quot;html_d44a02a311a4f6c834808876336eebdc&quot; style=&quot;width: 100.0%; height: 100.0%;&quot;&gt;(&quot;&lt;b style=&#x27;font-size: 18px; &#x27;&gt;Mythos&lt;/b&gt;&lt;br&gt;Direccion: Calle Cuba No. 211 entre Empedrado y O&#x27;Reilly&quot;, &quot;Especialidades: [&#x27;Griega&#x27;]&quot;)&lt;/div&gt;`)[0];\n",
       "                popup_ccd39c4a9515383acf6c6c2b4b6f9215.setContent(html_d44a02a311a4f6c834808876336eebdc);\n",
       "            \n",
       "        \n",
       "\n",
       "        marker_f194f8d212074f2c53d11b4da85060fe.bindPopup(popup_ccd39c4a9515383acf6c6c2b4b6f9215)\n",
       "        ;\n",
       "\n",
       "        \n",
       "    \n",
       "    \n",
       "            var marker_7ed0affc4db087db3408fc5b3fcb7fb6 = L.marker(\n",
       "                [22.9752725188445, -82.38492436527059],\n",
       "                {\n",
       "}\n",
       "            ).addTo(map_c1bd0692b3c890e2cab86875cb676aa0);\n",
       "        \n",
       "    \n",
       "            var icon_d7c88a0a03f1cf0d3effd76002d3d88f = L.AwesomeMarkers.icon(\n",
       "                {\n",
       "  &quot;markerColor&quot;: &quot;red&quot;,\n",
       "  &quot;iconColor&quot;: &quot;white&quot;,\n",
       "  &quot;icon&quot;: &quot;cutlery&quot;,\n",
       "  &quot;prefix&quot;: &quot;fa&quot;,\n",
       "  &quot;extraClasses&quot;: &quot;fa-rotate-0&quot;,\n",
       "}\n",
       "            );\n",
       "            marker_7ed0affc4db087db3408fc5b3fcb7fb6.setIcon(icon_d7c88a0a03f1cf0d3effd76002d3d88f);\n",
       "        \n",
       "    \n",
       "        var popup_b82eafd3287f7a5d5e8b19b7aff65d00 = L.popup({\n",
       "  &quot;maxWidth&quot;: &quot;100%&quot;,\n",
       "});\n",
       "\n",
       "        \n",
       "            \n",
       "                var html_c05b193e3c124931c95e78791d284b30 = $(`&lt;div id=&quot;html_c05b193e3c124931c95e78791d284b30&quot; style=&quot;width: 100.0%; height: 100.0%;&quot;&gt;(&quot;&lt;b style=&#x27;font-size: 18px; &#x27;&gt;Nameless&lt;/b&gt;&lt;br&gt;Direccion: Avenida Rancho Boyeros % 407A &amp; 409, Santiago de las Vegas&quot;, &quot;Especialidades: [&#x27;italiana&#x27;, &#x27;criolla&#x27;, &#x27;cubana&#x27;]&quot;)&lt;/div&gt;`)[0];\n",
       "                popup_b82eafd3287f7a5d5e8b19b7aff65d00.setContent(html_c05b193e3c124931c95e78791d284b30);\n",
       "            \n",
       "        \n",
       "\n",
       "        marker_7ed0affc4db087db3408fc5b3fcb7fb6.bindPopup(popup_b82eafd3287f7a5d5e8b19b7aff65d00)\n",
       "        ;\n",
       "\n",
       "        \n",
       "    \n",
       "    \n",
       "            var marker_2b3cb0c51bc1b16ae1f681674f774965 = L.marker(\n",
       "                [23.089238381444375, -82.35993723032014],\n",
       "                {\n",
       "}\n",
       "            ).addTo(map_c1bd0692b3c890e2cab86875cb676aa0);\n",
       "        \n",
       "    \n",
       "            var icon_b0d0d4be11c33c4996d4c4934724928c = L.AwesomeMarkers.icon(\n",
       "                {\n",
       "  &quot;markerColor&quot;: &quot;red&quot;,\n",
       "  &quot;iconColor&quot;: &quot;white&quot;,\n",
       "  &quot;icon&quot;: &quot;cutlery&quot;,\n",
       "  &quot;prefix&quot;: &quot;fa&quot;,\n",
       "  &quot;extraClasses&quot;: &quot;fa-rotate-0&quot;,\n",
       "}\n",
       "            );\n",
       "            marker_2b3cb0c51bc1b16ae1f681674f774965.setIcon(icon_b0d0d4be11c33c4996d4c4934724928c);\n",
       "        \n",
       "    \n",
       "        var popup_6e1fc73f0838405c7d2633480ae5c39f = L.popup({\n",
       "  &quot;maxWidth&quot;: &quot;100%&quot;,\n",
       "});\n",
       "\n",
       "        \n",
       "            \n",
       "                var html_3571dbf9b764fb9af340ca26f25b5fd1 = $(`&lt;div id=&quot;html_3571dbf9b764fb9af340ca26f25b5fd1&quot; style=&quot;width: 100.0%; height: 100.0%;&quot;&gt;(&quot;&lt;b style=&#x27;font-size: 18px; &#x27;&gt;Nel Paradiso&lt;/b&gt;&lt;br&gt;Direccion: Acosta #303 esquina Armas &quot;, &quot;Especialidades: [&#x27;Comida cubana&#x27;, &#x27;criolla&#x27;, &#x27;internacional&#x27;, &#x27;mariscos&#x27;]&quot;)&lt;/div&gt;`)[0];\n",
       "                popup_6e1fc73f0838405c7d2633480ae5c39f.setContent(html_3571dbf9b764fb9af340ca26f25b5fd1);\n",
       "            \n",
       "        \n",
       "\n",
       "        marker_2b3cb0c51bc1b16ae1f681674f774965.bindPopup(popup_6e1fc73f0838405c7d2633480ae5c39f)\n",
       "        ;\n",
       "\n",
       "        \n",
       "    \n",
       "    \n",
       "            var marker_1b58efe4a79593592e45cba0765339a7 = L.marker(\n",
       "                [23.043747220202967, -82.25328637835823],\n",
       "                {\n",
       "}\n",
       "            ).addTo(map_c1bd0692b3c890e2cab86875cb676aa0);\n",
       "        \n",
       "    \n",
       "            var icon_2d7d480dc3da1c3013d56c5c0e582953 = L.AwesomeMarkers.icon(\n",
       "                {\n",
       "  &quot;markerColor&quot;: &quot;red&quot;,\n",
       "  &quot;iconColor&quot;: &quot;white&quot;,\n",
       "  &quot;icon&quot;: &quot;cutlery&quot;,\n",
       "  &quot;prefix&quot;: &quot;fa&quot;,\n",
       "  &quot;extraClasses&quot;: &quot;fa-rotate-0&quot;,\n",
       "}\n",
       "            );\n",
       "            marker_1b58efe4a79593592e45cba0765339a7.setIcon(icon_2d7d480dc3da1c3013d56c5c0e582953);\n",
       "        \n",
       "    \n",
       "        var popup_f7e408c6e57df664b8e1978b96f74024 = L.popup({\n",
       "  &quot;maxWidth&quot;: &quot;100%&quot;,\n",
       "});\n",
       "\n",
       "        \n",
       "            \n",
       "                var html_0228e33e678866f7f528c8f7bae9e44b = $(`&lt;div id=&quot;html_0228e33e678866f7f528c8f7bae9e44b&quot; style=&quot;width: 100.0%; height: 100.0%;&quot;&gt;(&quot;&lt;b style=&#x27;font-size: 18px; &#x27;&gt;Ole Ole&lt;/b&gt;&lt;br&gt;Direccion: 71 esquina 46 y 48, Loteria&quot;, &quot;Especialidades: [&#x27;Cubana&#x27;, &#x27;Italiana&#x27;, &#x27;Criolla&#x27;, &#x27;internacional&#x27;]&quot;)&lt;/div&gt;`)[0];\n",
       "                popup_f7e408c6e57df664b8e1978b96f74024.setContent(html_0228e33e678866f7f528c8f7bae9e44b);\n",
       "            \n",
       "        \n",
       "\n",
       "        marker_1b58efe4a79593592e45cba0765339a7.bindPopup(popup_f7e408c6e57df664b8e1978b96f74024)\n",
       "        ;\n",
       "\n",
       "        \n",
       "    \n",
       "    \n",
       "            var marker_a3b7052d2a5cc3b202d607674cf1fa67 = L.marker(\n",
       "                [23.066165087925306, -82.45070559198918],\n",
       "                {\n",
       "}\n",
       "            ).addTo(map_c1bd0692b3c890e2cab86875cb676aa0);\n",
       "        \n",
       "    \n",
       "            var icon_8de9e441271fd5b454504ab98fea3c21 = L.AwesomeMarkers.icon(\n",
       "                {\n",
       "  &quot;markerColor&quot;: &quot;red&quot;,\n",
       "  &quot;iconColor&quot;: &quot;white&quot;,\n",
       "  &quot;icon&quot;: &quot;cutlery&quot;,\n",
       "  &quot;prefix&quot;: &quot;fa&quot;,\n",
       "  &quot;extraClasses&quot;: &quot;fa-rotate-0&quot;,\n",
       "}\n",
       "            );\n",
       "            marker_a3b7052d2a5cc3b202d607674cf1fa67.setIcon(icon_8de9e441271fd5b454504ab98fea3c21);\n",
       "        \n",
       "    \n",
       "        var popup_92cacc4dc8c55ef4fdc1f13017b25484 = L.popup({\n",
       "  &quot;maxWidth&quot;: &quot;100%&quot;,\n",
       "});\n",
       "\n",
       "        \n",
       "            \n",
       "                var html_d0351d01e4da81eff6cd2ff868e3102e = $(`&lt;div id=&quot;html_d0351d01e4da81eff6cd2ff868e3102e&quot; style=&quot;width: 100.0%; height: 100.0%;&quot;&gt;(&quot;&lt;b style=&#x27;font-size: 18px; &#x27;&gt;Pacomeralgo&lt;/b&gt;&lt;br&gt;Direccion: Desconocida&quot;, &quot;Especialidades: [&#x27;italiana&#x27;]&quot;)&lt;/div&gt;`)[0];\n",
       "                popup_92cacc4dc8c55ef4fdc1f13017b25484.setContent(html_d0351d01e4da81eff6cd2ff868e3102e);\n",
       "            \n",
       "        \n",
       "\n",
       "        marker_a3b7052d2a5cc3b202d607674cf1fa67.bindPopup(popup_92cacc4dc8c55ef4fdc1f13017b25484)\n",
       "        ;\n",
       "\n",
       "        \n",
       "    \n",
       "    \n",
       "            var marker_e01e37a96aad89e53afd4b6527f43cfc = L.marker(\n",
       "                [23.045754014037833, -82.27038368811118],\n",
       "                {\n",
       "}\n",
       "            ).addTo(map_c1bd0692b3c890e2cab86875cb676aa0);\n",
       "        \n",
       "    \n",
       "            var icon_4c11cfd87c8ede7ce05453fd061e2d81 = L.AwesomeMarkers.icon(\n",
       "                {\n",
       "  &quot;markerColor&quot;: &quot;red&quot;,\n",
       "  &quot;iconColor&quot;: &quot;white&quot;,\n",
       "  &quot;icon&quot;: &quot;cutlery&quot;,\n",
       "  &quot;prefix&quot;: &quot;fa&quot;,\n",
       "  &quot;extraClasses&quot;: &quot;fa-rotate-0&quot;,\n",
       "}\n",
       "            );\n",
       "            marker_e01e37a96aad89e53afd4b6527f43cfc.setIcon(icon_4c11cfd87c8ede7ce05453fd061e2d81);\n",
       "        \n",
       "    \n",
       "        var popup_893ebaafda93141d97cda9649221bb3d = L.popup({\n",
       "  &quot;maxWidth&quot;: &quot;100%&quot;,\n",
       "});\n",
       "\n",
       "        \n",
       "            \n",
       "                var html_de743b6a64474ba6efeafe8afac73182 = $(`&lt;div id=&quot;html_de743b6a64474ba6efeafe8afac73182&quot; style=&quot;width: 100.0%; height: 100.0%;&quot;&gt;(&quot;&lt;b style=&#x27;font-size: 18px; &#x27;&gt;Pal&#x27;Karajo&lt;/b&gt;&lt;br&gt;Direccion: Avenida 101 Esquina 16 Centro&quot;, &quot;Especialidades: [&#x27;sandwich&#x27;]&quot;)&lt;/div&gt;`)[0];\n",
       "                popup_893ebaafda93141d97cda9649221bb3d.setContent(html_de743b6a64474ba6efeafe8afac73182);\n",
       "            \n",
       "        \n",
       "\n",
       "        marker_e01e37a96aad89e53afd4b6527f43cfc.bindPopup(popup_893ebaafda93141d97cda9649221bb3d)\n",
       "        ;\n",
       "\n",
       "        \n",
       "    \n",
       "    \n",
       "            var marker_04ce39d5624620c87b40b0e91766524e = L.marker(\n",
       "                [23.089981911375197, -82.37383881867649],\n",
       "                {\n",
       "}\n",
       "            ).addTo(map_c1bd0692b3c890e2cab86875cb676aa0);\n",
       "        \n",
       "    \n",
       "            var icon_b09bfef8c068ff06e3a35eb4e0b384c4 = L.AwesomeMarkers.icon(\n",
       "                {\n",
       "  &quot;markerColor&quot;: &quot;red&quot;,\n",
       "  &quot;iconColor&quot;: &quot;white&quot;,\n",
       "  &quot;icon&quot;: &quot;cutlery&quot;,\n",
       "  &quot;prefix&quot;: &quot;fa&quot;,\n",
       "  &quot;extraClasses&quot;: &quot;fa-rotate-0&quot;,\n",
       "}\n",
       "            );\n",
       "            marker_04ce39d5624620c87b40b0e91766524e.setIcon(icon_b09bfef8c068ff06e3a35eb4e0b384c4);\n",
       "        \n",
       "    \n",
       "        var popup_ca46f77ba9525b12bb6b27bb412ca101 = L.popup({\n",
       "  &quot;maxWidth&quot;: &quot;100%&quot;,\n",
       "});\n",
       "\n",
       "        \n",
       "            \n",
       "                var html_e2c679b2c3bcc5f3ba87db6ff7890414 = $(`&lt;div id=&quot;html_e2c679b2c3bcc5f3ba87db6ff7890414&quot; style=&quot;width: 100.0%; height: 100.0%;&quot;&gt;(&quot;&lt;b style=&#x27;font-size: 18px; &#x27;&gt;Parrandas Grill Bar&lt;/b&gt;&lt;br&gt;Direccion: #366, Calle O&#x27;Farril entre Destrampes y Figueroa&quot;, &quot;Especialidades: [&#x27;mixta&#x27;]&quot;)&lt;/div&gt;`)[0];\n",
       "                popup_ca46f77ba9525b12bb6b27bb412ca101.setContent(html_e2c679b2c3bcc5f3ba87db6ff7890414);\n",
       "            \n",
       "        \n",
       "\n",
       "        marker_04ce39d5624620c87b40b0e91766524e.bindPopup(popup_ca46f77ba9525b12bb6b27bb412ca101)\n",
       "        ;\n",
       "\n",
       "        \n",
       "    \n",
       "    \n",
       "            var marker_7826f18fcebe84131474c63b87042707 = L.marker(\n",
       "                [23.10461483018299, -82.37587401682666],\n",
       "                {\n",
       "}\n",
       "            ).addTo(map_c1bd0692b3c890e2cab86875cb676aa0);\n",
       "        \n",
       "    \n",
       "            var icon_7f3575ae6ff6b1f8e3c84fd6278449d5 = L.AwesomeMarkers.icon(\n",
       "                {\n",
       "  &quot;markerColor&quot;: &quot;red&quot;,\n",
       "  &quot;iconColor&quot;: &quot;white&quot;,\n",
       "  &quot;icon&quot;: &quot;cutlery&quot;,\n",
       "  &quot;prefix&quot;: &quot;fa&quot;,\n",
       "  &quot;extraClasses&quot;: &quot;fa-rotate-0&quot;,\n",
       "}\n",
       "            );\n",
       "            marker_7826f18fcebe84131474c63b87042707.setIcon(icon_7f3575ae6ff6b1f8e3c84fd6278449d5);\n",
       "        \n",
       "    \n",
       "        var popup_d5418bf0a834e2836d3a0b5549c5d00e = L.popup({\n",
       "  &quot;maxWidth&quot;: &quot;100%&quot;,\n",
       "});\n",
       "\n",
       "        \n",
       "            \n",
       "                var html_dbdddc10a0aa71f5d81815be8baa9460 = $(`&lt;div id=&quot;html_dbdddc10a0aa71f5d81815be8baa9460&quot; style=&quot;width: 100.0%; height: 100.0%;&quot;&gt;(&quot;&lt;b style=&#x27;font-size: 18px; &#x27;&gt;Pasos Habaneros&lt;/b&gt;&lt;br&gt;Direccion: Calle Santos Suárez 464 e/ Gómez y Mendoza. Santos Suárez&quot;, &quot;Especialidades: [&#x27;internacional&#x27;, &#x27;helados&#x27;]&quot;)&lt;/div&gt;`)[0];\n",
       "                popup_d5418bf0a834e2836d3a0b5549c5d00e.setContent(html_dbdddc10a0aa71f5d81815be8baa9460);\n",
       "            \n",
       "        \n",
       "\n",
       "        marker_7826f18fcebe84131474c63b87042707.bindPopup(popup_d5418bf0a834e2836d3a0b5549c5d00e)\n",
       "        ;\n",
       "\n",
       "        \n",
       "    \n",
       "    \n",
       "            var marker_7d327ea9f4662cd07f2bf3345a927d64 = L.marker(\n",
       "                [23.13691089950695, -82.36186773236341],\n",
       "                {\n",
       "}\n",
       "            ).addTo(map_c1bd0692b3c890e2cab86875cb676aa0);\n",
       "        \n",
       "    \n",
       "            var icon_d248c120d70c10b42daab95d82e793d7 = L.AwesomeMarkers.icon(\n",
       "                {\n",
       "  &quot;markerColor&quot;: &quot;red&quot;,\n",
       "  &quot;iconColor&quot;: &quot;white&quot;,\n",
       "  &quot;icon&quot;: &quot;cutlery&quot;,\n",
       "  &quot;prefix&quot;: &quot;fa&quot;,\n",
       "  &quot;extraClasses&quot;: &quot;fa-rotate-0&quot;,\n",
       "}\n",
       "            );\n",
       "            marker_7d327ea9f4662cd07f2bf3345a927d64.setIcon(icon_d248c120d70c10b42daab95d82e793d7);\n",
       "        \n",
       "    \n",
       "        var popup_209513124682302c83b019edeb09b36e = L.popup({\n",
       "  &quot;maxWidth&quot;: &quot;100%&quot;,\n",
       "});\n",
       "\n",
       "        \n",
       "            \n",
       "                var html_5457998e61ad73bf56e649709511acdc = $(`&lt;div id=&quot;html_5457998e61ad73bf56e649709511acdc&quot; style=&quot;width: 100.0%; height: 100.0%;&quot;&gt;(&quot;&lt;b style=&#x27;font-size: 18px; &#x27;&gt;Pedro&#x27;s Bar&lt;/b&gt;&lt;br&gt;Direccion: 209 Blvd. de San Rafael entre Aguila y Amistad&quot;, &quot;Especialidades: [&#x27;italiana&#x27;]&quot;)&lt;/div&gt;`)[0];\n",
       "                popup_209513124682302c83b019edeb09b36e.setContent(html_5457998e61ad73bf56e649709511acdc);\n",
       "            \n",
       "        \n",
       "\n",
       "        marker_7d327ea9f4662cd07f2bf3345a927d64.bindPopup(popup_209513124682302c83b019edeb09b36e)\n",
       "        ;\n",
       "\n",
       "        \n",
       "    \n",
       "    \n",
       "            var marker_6099cb23bfda1ffdef533209d59491d6 = L.marker(\n",
       "                [23.08152839668274, -82.34264074494948],\n",
       "                {\n",
       "}\n",
       "            ).addTo(map_c1bd0692b3c890e2cab86875cb676aa0);\n",
       "        \n",
       "    \n",
       "            var icon_a63a79d6d8a44868cf13b5f4ae6a2852 = L.AwesomeMarkers.icon(\n",
       "                {\n",
       "  &quot;markerColor&quot;: &quot;red&quot;,\n",
       "  &quot;iconColor&quot;: &quot;white&quot;,\n",
       "  &quot;icon&quot;: &quot;cutlery&quot;,\n",
       "  &quot;prefix&quot;: &quot;fa&quot;,\n",
       "  &quot;extraClasses&quot;: &quot;fa-rotate-0&quot;,\n",
       "}\n",
       "            );\n",
       "            marker_6099cb23bfda1ffdef533209d59491d6.setIcon(icon_a63a79d6d8a44868cf13b5f4ae6a2852);\n",
       "        \n",
       "    \n",
       "        var popup_1a6ed57d26888521507235c384eb6578 = L.popup({\n",
       "  &quot;maxWidth&quot;: &quot;100%&quot;,\n",
       "});\n",
       "\n",
       "        \n",
       "            \n",
       "                var html_5f8d078323ae4a4fc56eaea1229a9fd6 = $(`&lt;div id=&quot;html_5f8d078323ae4a4fc56eaea1229a9fd6&quot; style=&quot;width: 100.0%; height: 100.0%;&quot;&gt;(&quot;&lt;b style=&#x27;font-size: 18px; &#x27;&gt;Perla Negra&lt;/b&gt;&lt;br&gt;Direccion: Milagros 114 e/ Heredia y Poey, Santos Suárez&quot;, &quot;Especialidades: [&#x27;cubana&#x27;, &#x27;italiana&#x27;]&quot;)&lt;/div&gt;`)[0];\n",
       "                popup_1a6ed57d26888521507235c384eb6578.setContent(html_5f8d078323ae4a4fc56eaea1229a9fd6);\n",
       "            \n",
       "        \n",
       "\n",
       "        marker_6099cb23bfda1ffdef533209d59491d6.bindPopup(popup_1a6ed57d26888521507235c384eb6578)\n",
       "        ;\n",
       "\n",
       "        \n",
       "    \n",
       "    \n",
       "            var marker_baf7f6d52de0490d1c8ac048962d6b0e = L.marker(\n",
       "                [23.12356261631935, -82.30423505951029],\n",
       "                {\n",
       "}\n",
       "            ).addTo(map_c1bd0692b3c890e2cab86875cb676aa0);\n",
       "        \n",
       "    \n",
       "            var icon_5cd184d31c9b4e96679e97dc4f7dc801 = L.AwesomeMarkers.icon(\n",
       "                {\n",
       "  &quot;markerColor&quot;: &quot;red&quot;,\n",
       "  &quot;iconColor&quot;: &quot;white&quot;,\n",
       "  &quot;icon&quot;: &quot;cutlery&quot;,\n",
       "  &quot;prefix&quot;: &quot;fa&quot;,\n",
       "  &quot;extraClasses&quot;: &quot;fa-rotate-0&quot;,\n",
       "}\n",
       "            );\n",
       "            marker_baf7f6d52de0490d1c8ac048962d6b0e.setIcon(icon_5cd184d31c9b4e96679e97dc4f7dc801);\n",
       "        \n",
       "    \n",
       "        var popup_652199cd507b42f8436ac0f3077e9612 = L.popup({\n",
       "  &quot;maxWidth&quot;: &quot;100%&quot;,\n",
       "});\n",
       "\n",
       "        \n",
       "            \n",
       "                var html_af9ae2ffc8dea901fa7f0f5d6d2db47b = $(`&lt;div id=&quot;html_af9ae2ffc8dea901fa7f0f5d6d2db47b&quot; style=&quot;width: 100.0%; height: 100.0%;&quot;&gt;(&quot;&lt;b style=&#x27;font-size: 18px; &#x27;&gt;Pizzas Vip&lt;/b&gt;&lt;br&gt;Direccion: E Guiral entre Luz y Maceo&quot;, &quot;Especialidades: [&#x27;Pizzas&#x27;, &#x27;Pastas&#x27;]&quot;)&lt;/div&gt;`)[0];\n",
       "                popup_652199cd507b42f8436ac0f3077e9612.setContent(html_af9ae2ffc8dea901fa7f0f5d6d2db47b);\n",
       "            \n",
       "        \n",
       "\n",
       "        marker_baf7f6d52de0490d1c8ac048962d6b0e.bindPopup(popup_652199cd507b42f8436ac0f3077e9612)\n",
       "        ;\n",
       "\n",
       "        \n",
       "    \n",
       "    \n",
       "            var marker_8a9d1deedbc1ba49322ff222a2d0dca2 = L.marker(\n",
       "                [23.139325457451932, -82.35937998794891],\n",
       "                {\n",
       "}\n",
       "            ).addTo(map_c1bd0692b3c890e2cab86875cb676aa0);\n",
       "        \n",
       "    \n",
       "            var icon_1670c1b0dae62ba7f7dd361b5cff0c18 = L.AwesomeMarkers.icon(\n",
       "                {\n",
       "  &quot;markerColor&quot;: &quot;red&quot;,\n",
       "  &quot;iconColor&quot;: &quot;white&quot;,\n",
       "  &quot;icon&quot;: &quot;cutlery&quot;,\n",
       "  &quot;prefix&quot;: &quot;fa&quot;,\n",
       "  &quot;extraClasses&quot;: &quot;fa-rotate-0&quot;,\n",
       "}\n",
       "            );\n",
       "            marker_8a9d1deedbc1ba49322ff222a2d0dca2.setIcon(icon_1670c1b0dae62ba7f7dd361b5cff0c18);\n",
       "        \n",
       "    \n",
       "        var popup_7b05097500629dbac821873fac4289c6 = L.popup({\n",
       "  &quot;maxWidth&quot;: &quot;100%&quot;,\n",
       "});\n",
       "\n",
       "        \n",
       "            \n",
       "                var html_2f48a15f3e23eb81f665c2353532ee30 = $(`&lt;div id=&quot;html_2f48a15f3e23eb81f665c2353532ee30&quot; style=&quot;width: 100.0%; height: 100.0%;&quot;&gt;(&quot;&lt;b style=&#x27;font-size: 18px; &#x27;&gt;Plan H&lt;/b&gt;&lt;br&gt;Direccion: 308 P de Marti Ánimas y Virtudes&quot;, &quot;Especialidades: [&#x27;Comida Asiática&#x27;, &#x27;Internacional&#x27;, &#x27;Tailandesa&#x27;]&quot;)&lt;/div&gt;`)[0];\n",
       "                popup_7b05097500629dbac821873fac4289c6.setContent(html_2f48a15f3e23eb81f665c2353532ee30);\n",
       "            \n",
       "        \n",
       "\n",
       "        marker_8a9d1deedbc1ba49322ff222a2d0dca2.bindPopup(popup_7b05097500629dbac821873fac4289c6)\n",
       "        ;\n",
       "\n",
       "        \n",
       "    \n",
       "    \n",
       "            var marker_30385ad16dac6521cf52fe6d0caf3cb6 = L.marker(\n",
       "                [23.122083546215134, -82.30797703533594],\n",
       "                {\n",
       "}\n",
       "            ).addTo(map_c1bd0692b3c890e2cab86875cb676aa0);\n",
       "        \n",
       "    \n",
       "            var icon_acaa99dc88802a03f48943c5d3487c4d = L.AwesomeMarkers.icon(\n",
       "                {\n",
       "  &quot;markerColor&quot;: &quot;red&quot;,\n",
       "  &quot;iconColor&quot;: &quot;white&quot;,\n",
       "  &quot;icon&quot;: &quot;cutlery&quot;,\n",
       "  &quot;prefix&quot;: &quot;fa&quot;,\n",
       "  &quot;extraClasses&quot;: &quot;fa-rotate-0&quot;,\n",
       "}\n",
       "            );\n",
       "            marker_30385ad16dac6521cf52fe6d0caf3cb6.setIcon(icon_acaa99dc88802a03f48943c5d3487c4d);\n",
       "        \n",
       "    \n",
       "        var popup_f6455fb2b474bc92744775c3a62a1768 = L.popup({\n",
       "  &quot;maxWidth&quot;: &quot;100%&quot;,\n",
       "});\n",
       "\n",
       "        \n",
       "            \n",
       "                var html_4b81a1cc34425a91202fa0daf9f05f80 = $(`&lt;div id=&quot;html_4b81a1cc34425a91202fa0daf9f05f80&quot; style=&quot;width: 100.0%; height: 100.0%;&quot;&gt;(&quot;&lt;b style=&#x27;font-size: 18px; &#x27;&gt;Polo&lt;/b&gt;&lt;br&gt;Direccion: Calle Cruz Verde entre Independencia Este y Barreto Este&quot;, &quot;Especialidades: [&#x27;Comida Internacional&#x27;]&quot;)&lt;/div&gt;`)[0];\n",
       "                popup_f6455fb2b474bc92744775c3a62a1768.setContent(html_4b81a1cc34425a91202fa0daf9f05f80);\n",
       "            \n",
       "        \n",
       "\n",
       "        marker_30385ad16dac6521cf52fe6d0caf3cb6.bindPopup(popup_f6455fb2b474bc92744775c3a62a1768)\n",
       "        ;\n",
       "\n",
       "        \n",
       "    \n",
       "    \n",
       "            var marker_9e33cc4ea07de430b6bc1d5e70608eef = L.marker(\n",
       "                [23.067659194580123, -82.4512542109271],\n",
       "                {\n",
       "}\n",
       "            ).addTo(map_c1bd0692b3c890e2cab86875cb676aa0);\n",
       "        \n",
       "    \n",
       "            var icon_6574f675a09706b72b4690222f25fce0 = L.AwesomeMarkers.icon(\n",
       "                {\n",
       "  &quot;markerColor&quot;: &quot;red&quot;,\n",
       "  &quot;iconColor&quot;: &quot;white&quot;,\n",
       "  &quot;icon&quot;: &quot;cutlery&quot;,\n",
       "  &quot;prefix&quot;: &quot;fa&quot;,\n",
       "  &quot;extraClasses&quot;: &quot;fa-rotate-0&quot;,\n",
       "}\n",
       "            );\n",
       "            marker_9e33cc4ea07de430b6bc1d5e70608eef.setIcon(icon_6574f675a09706b72b4690222f25fce0);\n",
       "        \n",
       "    \n",
       "        var popup_9e6e54c3aaf489b25c209a251f4fb636 = L.popup({\n",
       "  &quot;maxWidth&quot;: &quot;100%&quot;,\n",
       "});\n",
       "\n",
       "        \n",
       "            \n",
       "                var html_6c6bbd56ff2aec8340ea6270faa5452b = $(`&lt;div id=&quot;html_6c6bbd56ff2aec8340ea6270faa5452b&quot; style=&quot;width: 100.0%; height: 100.0%;&quot;&gt;(&quot;&lt;b style=&#x27;font-size: 18px; &#x27;&gt;Ranchon Don Martin&lt;/b&gt;&lt;br&gt;Direccion: Calle 198 no.3733 entre 37 y 45&quot;, &quot;Especialidades: [&#x27;cubana&#x27;, &#x27;criolla&#x27;, &#x27;asado&#x27;]&quot;)&lt;/div&gt;`)[0];\n",
       "                popup_9e6e54c3aaf489b25c209a251f4fb636.setContent(html_6c6bbd56ff2aec8340ea6270faa5452b);\n",
       "            \n",
       "        \n",
       "\n",
       "        marker_9e33cc4ea07de430b6bc1d5e70608eef.bindPopup(popup_9e6e54c3aaf489b25c209a251f4fb636)\n",
       "        ;\n",
       "\n",
       "        \n",
       "    \n",
       "    \n",
       "            var marker_ec9165afc6d5b1158d62f6b43d5d0c15 = L.marker(\n",
       "                [23.08973578096908, -82.42166351867644],\n",
       "                {\n",
       "}\n",
       "            ).addTo(map_c1bd0692b3c890e2cab86875cb676aa0);\n",
       "        \n",
       "    \n",
       "            var icon_c16644cb927ee3c2cb41a0024ca6cc3f = L.AwesomeMarkers.icon(\n",
       "                {\n",
       "  &quot;markerColor&quot;: &quot;red&quot;,\n",
       "  &quot;iconColor&quot;: &quot;white&quot;,\n",
       "  &quot;icon&quot;: &quot;cutlery&quot;,\n",
       "  &quot;prefix&quot;: &quot;fa&quot;,\n",
       "  &quot;extraClasses&quot;: &quot;fa-rotate-0&quot;,\n",
       "}\n",
       "            );\n",
       "            marker_ec9165afc6d5b1158d62f6b43d5d0c15.setIcon(icon_c16644cb927ee3c2cb41a0024ca6cc3f);\n",
       "        \n",
       "    \n",
       "        var popup_ee0bc3a7d016170f44d0191b391f7904 = L.popup({\n",
       "  &quot;maxWidth&quot;: &quot;100%&quot;,\n",
       "});\n",
       "\n",
       "        \n",
       "            \n",
       "                var html_cce566639a7be74dcad3400f4d0f0633 = $(`&lt;div id=&quot;html_cce566639a7be74dcad3400f4d0f0633&quot; style=&quot;width: 100.0%; height: 100.0%;&quot;&gt;(&quot;&lt;b style=&#x27;font-size: 18px; &#x27;&gt;Ranchon de 41&lt;/b&gt;&lt;br&gt;Direccion: Avenida 41 y 84&quot;, &quot;Especialidades: [&#x27;mixta&#x27;]&quot;)&lt;/div&gt;`)[0];\n",
       "                popup_ee0bc3a7d016170f44d0191b391f7904.setContent(html_cce566639a7be74dcad3400f4d0f0633);\n",
       "            \n",
       "        \n",
       "\n",
       "        marker_ec9165afc6d5b1158d62f6b43d5d0c15.bindPopup(popup_ee0bc3a7d016170f44d0191b391f7904)\n",
       "        ;\n",
       "\n",
       "        \n",
       "    \n",
       "    \n",
       "            var marker_6e9ad055d1ad70839fbc357be3e64aec = L.marker(\n",
       "                [23.1593325543624, -82.28055542260424],\n",
       "                {\n",
       "}\n",
       "            ).addTo(map_c1bd0692b3c890e2cab86875cb676aa0);\n",
       "        \n",
       "    \n",
       "            var icon_aec3e6aaa8552ba3514c4d9b96de8829 = L.AwesomeMarkers.icon(\n",
       "                {\n",
       "  &quot;markerColor&quot;: &quot;red&quot;,\n",
       "  &quot;iconColor&quot;: &quot;white&quot;,\n",
       "  &quot;icon&quot;: &quot;cutlery&quot;,\n",
       "  &quot;prefix&quot;: &quot;fa&quot;,\n",
       "  &quot;extraClasses&quot;: &quot;fa-rotate-0&quot;,\n",
       "}\n",
       "            );\n",
       "            marker_6e9ad055d1ad70839fbc357be3e64aec.setIcon(icon_aec3e6aaa8552ba3514c4d9b96de8829);\n",
       "        \n",
       "    \n",
       "        var popup_a0f7c7ef98c15ff9a2619d55cc5bae39 = L.popup({\n",
       "  &quot;maxWidth&quot;: &quot;100%&quot;,\n",
       "});\n",
       "\n",
       "        \n",
       "            \n",
       "                var html_466b7bc73b2007a4f3306a9aeb559bb8 = $(`&lt;div id=&quot;html_466b7bc73b2007a4f3306a9aeb559bb8&quot; style=&quot;width: 100.0%; height: 100.0%;&quot;&gt;(&quot;&lt;b style=&#x27;font-size: 18px; &#x27;&gt;Ranchon Hanoi&lt;/b&gt;&lt;br&gt;Direccion: Parque Hanoi, zona 6, Alamar&quot;, &quot;Especialidades: [&#x27;Comida mixta&#x27;]&quot;)&lt;/div&gt;`)[0];\n",
       "                popup_a0f7c7ef98c15ff9a2619d55cc5bae39.setContent(html_466b7bc73b2007a4f3306a9aeb559bb8);\n",
       "            \n",
       "        \n",
       "\n",
       "        marker_6e9ad055d1ad70839fbc357be3e64aec.bindPopup(popup_a0f7c7ef98c15ff9a2619d55cc5bae39)\n",
       "        ;\n",
       "\n",
       "        \n",
       "    \n",
       "    \n",
       "            var marker_07eba94d361b9636b26dfc93d10d0c10 = L.marker(\n",
       "                [22.975899692812543, -82.3846842092052],\n",
       "                {\n",
       "}\n",
       "            ).addTo(map_c1bd0692b3c890e2cab86875cb676aa0);\n",
       "        \n",
       "    \n",
       "            var icon_70185b9a14e8fdd2a85d772e255d1ac5 = L.AwesomeMarkers.icon(\n",
       "                {\n",
       "  &quot;markerColor&quot;: &quot;red&quot;,\n",
       "  &quot;iconColor&quot;: &quot;white&quot;,\n",
       "  &quot;icon&quot;: &quot;cutlery&quot;,\n",
       "  &quot;prefix&quot;: &quot;fa&quot;,\n",
       "  &quot;extraClasses&quot;: &quot;fa-rotate-0&quot;,\n",
       "}\n",
       "            );\n",
       "            marker_07eba94d361b9636b26dfc93d10d0c10.setIcon(icon_70185b9a14e8fdd2a85d772e255d1ac5);\n",
       "        \n",
       "    \n",
       "        var popup_376e07fbefff538916703123f1fa9707 = L.popup({\n",
       "  &quot;maxWidth&quot;: &quot;100%&quot;,\n",
       "});\n",
       "\n",
       "        \n",
       "            \n",
       "                var html_ad32ae81c7c42db1562bd83a3869ae43 = $(`&lt;div id=&quot;html_ad32ae81c7c42db1562bd83a3869ae43&quot; style=&quot;width: 100.0%; height: 100.0%;&quot;&gt;(&quot;&lt;b style=&#x27;font-size: 18px; &#x27;&gt;Ranchon Las Vegas&lt;/b&gt;&lt;br&gt;Direccion: Calle 409 % 182 &amp; Avenida Independencia, Santiago de las Vegas &quot;, &quot;Especialidades: [&#x27;Cubana&#x27;, &#x27;criolla&#x27;, &#x27;internacional&#x27;]&quot;)&lt;/div&gt;`)[0];\n",
       "                popup_376e07fbefff538916703123f1fa9707.setContent(html_ad32ae81c7c42db1562bd83a3869ae43);\n",
       "            \n",
       "        \n",
       "\n",
       "        marker_07eba94d361b9636b26dfc93d10d0c10.bindPopup(popup_376e07fbefff538916703123f1fa9707)\n",
       "        ;\n",
       "\n",
       "        \n",
       "    \n",
       "    \n",
       "            var marker_4d20b3b2395ca3cede3ac8797382b0a2 = L.marker(\n",
       "                [23.143226340667947, -82.39569107139691],\n",
       "                {\n",
       "}\n",
       "            ).addTo(map_c1bd0692b3c890e2cab86875cb676aa0);\n",
       "        \n",
       "    \n",
       "            var icon_7a9fb5a5c7e527d6e4fafaba2c2dd954 = L.AwesomeMarkers.icon(\n",
       "                {\n",
       "  &quot;markerColor&quot;: &quot;red&quot;,\n",
       "  &quot;iconColor&quot;: &quot;white&quot;,\n",
       "  &quot;icon&quot;: &quot;cutlery&quot;,\n",
       "  &quot;prefix&quot;: &quot;fa&quot;,\n",
       "  &quot;extraClasses&quot;: &quot;fa-rotate-0&quot;,\n",
       "}\n",
       "            );\n",
       "            marker_4d20b3b2395ca3cede3ac8797382b0a2.setIcon(icon_7a9fb5a5c7e527d6e4fafaba2c2dd954);\n",
       "        \n",
       "    \n",
       "        var popup_8801ac1764e9e0e5e72006ec0571c2fe = L.popup({\n",
       "  &quot;maxWidth&quot;: &quot;100%&quot;,\n",
       "});\n",
       "\n",
       "        \n",
       "            \n",
       "                var html_112ba6b5947f95bd289aa3b8ca065c09 = $(`&lt;div id=&quot;html_112ba6b5947f95bd289aa3b8ca065c09&quot; style=&quot;width: 100.0%; height: 100.0%;&quot;&gt;(&quot;&lt;b style=&#x27;font-size: 18px; &#x27;&gt;Razones y Motivos&lt;/b&gt;&lt;br&gt;Direccion: Calle F No.63 entre 3era y 5ta, Vedado&quot;, &quot;Especialidades: [&#x27;Comida Caribeña&#x27;, &#x27;Latina&#x27;, &#x27;Cubana&#x27;, &#x27;criolla&#x27;, &#x27;Sudamericana&#x27;, &#x27;Centroamericana&#x27;]&quot;)&lt;/div&gt;`)[0];\n",
       "                popup_8801ac1764e9e0e5e72006ec0571c2fe.setContent(html_112ba6b5947f95bd289aa3b8ca065c09);\n",
       "            \n",
       "        \n",
       "\n",
       "        marker_4d20b3b2395ca3cede3ac8797382b0a2.bindPopup(popup_8801ac1764e9e0e5e72006ec0571c2fe)\n",
       "        ;\n",
       "\n",
       "        \n",
       "    \n",
       "    \n",
       "            var marker_f8e395a5b37e3d147acd41c2ff68b927 = L.marker(\n",
       "                [23.12552270613754, -82.33261449654044],\n",
       "                {\n",
       "}\n",
       "            ).addTo(map_c1bd0692b3c890e2cab86875cb676aa0);\n",
       "        \n",
       "    \n",
       "            var icon_4621b03c26683dedf33ee1350e4e486e = L.AwesomeMarkers.icon(\n",
       "                {\n",
       "  &quot;markerColor&quot;: &quot;red&quot;,\n",
       "  &quot;iconColor&quot;: &quot;white&quot;,\n",
       "  &quot;icon&quot;: &quot;cutlery&quot;,\n",
       "  &quot;prefix&quot;: &quot;fa&quot;,\n",
       "  &quot;extraClasses&quot;: &quot;fa-rotate-0&quot;,\n",
       "}\n",
       "            );\n",
       "            marker_f8e395a5b37e3d147acd41c2ff68b927.setIcon(icon_4621b03c26683dedf33ee1350e4e486e);\n",
       "        \n",
       "    \n",
       "        var popup_33e56e9d8a4a6f525503da7c0dfcca9a = L.popup({\n",
       "  &quot;maxWidth&quot;: &quot;100%&quot;,\n",
       "});\n",
       "\n",
       "        \n",
       "            \n",
       "                var html_7ed80f121122df47bdcb9275f7323f5f = $(`&lt;div id=&quot;html_7ed80f121122df47bdcb9275f7323f5f&quot; style=&quot;width: 100.0%; height: 100.0%;&quot;&gt;(&quot;&lt;b style=&#x27;font-size: 18px; &#x27;&gt;Restaurante Lan&lt;/b&gt;&lt;br&gt;Direccion: Maceo entre Fresneda y Agramonte&quot;, &quot;Especialidades: [&#x27;criolla&#x27;, &#x27;italiana&#x27;]&quot;)&lt;/div&gt;`)[0];\n",
       "                popup_33e56e9d8a4a6f525503da7c0dfcca9a.setContent(html_7ed80f121122df47bdcb9275f7323f5f);\n",
       "            \n",
       "        \n",
       "\n",
       "        marker_f8e395a5b37e3d147acd41c2ff68b927.bindPopup(popup_33e56e9d8a4a6f525503da7c0dfcca9a)\n",
       "        ;\n",
       "\n",
       "        \n",
       "    \n",
       "    \n",
       "            var marker_a52a7ea8aad83865cb1e0dfa36e81421 = L.marker(\n",
       "                [23.137547259787535, -82.36095379003397],\n",
       "                {\n",
       "}\n",
       "            ).addTo(map_c1bd0692b3c890e2cab86875cb676aa0);\n",
       "        \n",
       "    \n",
       "            var icon_92dfa9feac4a7d0658e3fdf575749773 = L.AwesomeMarkers.icon(\n",
       "                {\n",
       "  &quot;markerColor&quot;: &quot;red&quot;,\n",
       "  &quot;iconColor&quot;: &quot;white&quot;,\n",
       "  &quot;icon&quot;: &quot;cutlery&quot;,\n",
       "  &quot;prefix&quot;: &quot;fa&quot;,\n",
       "  &quot;extraClasses&quot;: &quot;fa-rotate-0&quot;,\n",
       "}\n",
       "            );\n",
       "            marker_a52a7ea8aad83865cb1e0dfa36e81421.setIcon(icon_92dfa9feac4a7d0658e3fdf575749773);\n",
       "        \n",
       "    \n",
       "        var popup_06e986e4d029f5eaaefa5cf2582c681e = L.popup({\n",
       "  &quot;maxWidth&quot;: &quot;100%&quot;,\n",
       "});\n",
       "\n",
       "        \n",
       "            \n",
       "                var html_da221c6ab5b720fd197dccf8b0b41a6c = $(`&lt;div id=&quot;html_da221c6ab5b720fd197dccf8b0b41a6c&quot; style=&quot;width: 100.0%; height: 100.0%;&quot;&gt;(&quot;&lt;b style=&#x27;font-size: 18px; &#x27;&gt;Ricardon&lt;/b&gt;&lt;br&gt;Direccion: Industria entre San Miguel y Blvd de San Rafael&quot;, &quot;Especialidades: [&#x27;caribeña&#x27;, &#x27;latina&#x27;, &#x27;mediterránea&#x27;, &#x27;cubana&#x27;]&quot;)&lt;/div&gt;`)[0];\n",
       "                popup_06e986e4d029f5eaaefa5cf2582c681e.setContent(html_da221c6ab5b720fd197dccf8b0b41a6c);\n",
       "            \n",
       "        \n",
       "\n",
       "        marker_a52a7ea8aad83865cb1e0dfa36e81421.bindPopup(popup_06e986e4d029f5eaaefa5cf2582c681e)\n",
       "        ;\n",
       "\n",
       "        \n",
       "    \n",
       "    \n",
       "            var marker_376079b30112a53403a6d02cec5b51f0 = L.marker(\n",
       "                [23.126245278270186, -82.38010644455453],\n",
       "                {\n",
       "}\n",
       "            ).addTo(map_c1bd0692b3c890e2cab86875cb676aa0);\n",
       "        \n",
       "    \n",
       "            var icon_d996fd6ee5d284f93a6bea41c1877815 = L.AwesomeMarkers.icon(\n",
       "                {\n",
       "  &quot;markerColor&quot;: &quot;red&quot;,\n",
       "  &quot;iconColor&quot;: &quot;white&quot;,\n",
       "  &quot;icon&quot;: &quot;cutlery&quot;,\n",
       "  &quot;prefix&quot;: &quot;fa&quot;,\n",
       "  &quot;extraClasses&quot;: &quot;fa-rotate-0&quot;,\n",
       "}\n",
       "            );\n",
       "            marker_376079b30112a53403a6d02cec5b51f0.setIcon(icon_d996fd6ee5d284f93a6bea41c1877815);\n",
       "        \n",
       "    \n",
       "        var popup_dd55d167df80917126177e878d3edcea = L.popup({\n",
       "  &quot;maxWidth&quot;: &quot;100%&quot;,\n",
       "});\n",
       "\n",
       "        \n",
       "            \n",
       "                var html_10f8268bb7f2c7316bad338b11d52065 = $(`&lt;div id=&quot;html_10f8268bb7f2c7316bad338b11d52065&quot; style=&quot;width: 100.0%; height: 100.0%;&quot;&gt;(&quot;&lt;b style=&#x27;font-size: 18px; &#x27;&gt;Rico Rico&lt;/b&gt;&lt;br&gt;Direccion: Calle Ayestarán entre Perfecto Lacoste y Aranguren&quot;, &quot;Especialidades: [&#x27;italiana&#x27;]&quot;)&lt;/div&gt;`)[0];\n",
       "                popup_dd55d167df80917126177e878d3edcea.setContent(html_10f8268bb7f2c7316bad338b11d52065);\n",
       "            \n",
       "        \n",
       "\n",
       "        marker_376079b30112a53403a6d02cec5b51f0.bindPopup(popup_dd55d167df80917126177e878d3edcea)\n",
       "        ;\n",
       "\n",
       "        \n",
       "    \n",
       "    \n",
       "            var marker_3919739daeb4df161c38b10cbb7548ba = L.marker(\n",
       "                [23.094673000199286, -82.41860913032004],\n",
       "                {\n",
       "}\n",
       "            ).addTo(map_c1bd0692b3c890e2cab86875cb676aa0);\n",
       "        \n",
       "    \n",
       "            var icon_676f7662582ff3c093a3263f5b6f80e7 = L.AwesomeMarkers.icon(\n",
       "                {\n",
       "  &quot;markerColor&quot;: &quot;red&quot;,\n",
       "  &quot;iconColor&quot;: &quot;white&quot;,\n",
       "  &quot;icon&quot;: &quot;cutlery&quot;,\n",
       "  &quot;prefix&quot;: &quot;fa&quot;,\n",
       "  &quot;extraClasses&quot;: &quot;fa-rotate-0&quot;,\n",
       "}\n",
       "            );\n",
       "            marker_3919739daeb4df161c38b10cbb7548ba.setIcon(icon_676f7662582ff3c093a3263f5b6f80e7);\n",
       "        \n",
       "    \n",
       "        var popup_253d321fdaf95ba9b289fee9586fc62d = L.popup({\n",
       "  &quot;maxWidth&quot;: &quot;100%&quot;,\n",
       "});\n",
       "\n",
       "        \n",
       "            \n",
       "                var html_cfa2cfbb0e8a2d9f90141cb32d828cba = $(`&lt;div id=&quot;html_cfa2cfbb0e8a2d9f90141cb32d828cba&quot; style=&quot;width: 100.0%; height: 100.0%;&quot;&gt;(&quot;&lt;b style=&#x27;font-size: 18px; &#x27;&gt;Restaurante Rodney (Tropicana)&lt;/b&gt;&lt;br&gt;Direccion: 72A,Avenida 41&quot;, &quot;Especialidades: [&#x27;cubana&#x27;, &#x27;internacional&#x27;, &#x27;criolla&#x27;]&quot;)&lt;/div&gt;`)[0];\n",
       "                popup_253d321fdaf95ba9b289fee9586fc62d.setContent(html_cfa2cfbb0e8a2d9f90141cb32d828cba);\n",
       "            \n",
       "        \n",
       "\n",
       "        marker_3919739daeb4df161c38b10cbb7548ba.bindPopup(popup_253d321fdaf95ba9b289fee9586fc62d)\n",
       "        ;\n",
       "\n",
       "        \n",
       "    \n",
       "    \n",
       "            var marker_70286fc3a0b38a969fafc027d8f45597 = L.marker(\n",
       "                [23.093622177255977, -82.3641803168269],\n",
       "                {\n",
       "}\n",
       "            ).addTo(map_c1bd0692b3c890e2cab86875cb676aa0);\n",
       "        \n",
       "    \n",
       "            var icon_7d13948a3d57301b5b288d93c080ffe5 = L.AwesomeMarkers.icon(\n",
       "                {\n",
       "  &quot;markerColor&quot;: &quot;red&quot;,\n",
       "  &quot;iconColor&quot;: &quot;white&quot;,\n",
       "  &quot;icon&quot;: &quot;cutlery&quot;,\n",
       "  &quot;prefix&quot;: &quot;fa&quot;,\n",
       "  &quot;extraClasses&quot;: &quot;fa-rotate-0&quot;,\n",
       "}\n",
       "            );\n",
       "            marker_70286fc3a0b38a969fafc027d8f45597.setIcon(icon_7d13948a3d57301b5b288d93c080ffe5);\n",
       "        \n",
       "    \n",
       "        var popup_3f32b8ab383222a05ccd58d8b4357d91 = L.popup({\n",
       "  &quot;maxWidth&quot;: &quot;100%&quot;,\n",
       "});\n",
       "\n",
       "        \n",
       "            \n",
       "                var html_ad00c6b90c707526417fcbd0df28a3ae = $(`&lt;div id=&quot;html_ad00c6b90c707526417fcbd0df28a3ae&quot; style=&quot;width: 100.0%; height: 100.0%;&quot;&gt;(&quot;&lt;b style=&#x27;font-size: 18px; &#x27;&gt;Roxinanda&lt;/b&gt;&lt;br&gt;Direccion: esquina de Santa Catalina y calzada de 10 de Octubre&quot;, &quot;Especialidades: [&#x27;Hamburguesa&#x27;]&quot;)&lt;/div&gt;`)[0];\n",
       "                popup_3f32b8ab383222a05ccd58d8b4357d91.setContent(html_ad00c6b90c707526417fcbd0df28a3ae);\n",
       "            \n",
       "        \n",
       "\n",
       "        marker_70286fc3a0b38a969fafc027d8f45597.bindPopup(popup_3f32b8ab383222a05ccd58d8b4357d91)\n",
       "        ;\n",
       "\n",
       "        \n",
       "    \n",
       "    \n",
       "            var marker_1ca30c6df348d65596c0806b08b07eda = L.marker(\n",
       "                [23.134819322053957, -82.30638711918262],\n",
       "                {\n",
       "}\n",
       "            ).addTo(map_c1bd0692b3c890e2cab86875cb676aa0);\n",
       "        \n",
       "    \n",
       "            var icon_b95f7a3a6ff8d9e8c01ef284e06532be = L.AwesomeMarkers.icon(\n",
       "                {\n",
       "  &quot;markerColor&quot;: &quot;red&quot;,\n",
       "  &quot;iconColor&quot;: &quot;white&quot;,\n",
       "  &quot;icon&quot;: &quot;cutlery&quot;,\n",
       "  &quot;prefix&quot;: &quot;fa&quot;,\n",
       "  &quot;extraClasses&quot;: &quot;fa-rotate-0&quot;,\n",
       "}\n",
       "            );\n",
       "            marker_1ca30c6df348d65596c0806b08b07eda.setIcon(icon_b95f7a3a6ff8d9e8c01ef284e06532be);\n",
       "        \n",
       "    \n",
       "        var popup_05fd0bce7ef9c3773f820fe10b5e977e = L.popup({\n",
       "  &quot;maxWidth&quot;: &quot;100%&quot;,\n",
       "});\n",
       "\n",
       "        \n",
       "            \n",
       "                var html_0e7ace60f156c9d447e6be0ec59a81cf = $(`&lt;div id=&quot;html_0e7ace60f156c9d447e6be0ec59a81cf&quot; style=&quot;width: 100.0%; height: 100.0%;&quot;&gt;(&quot;&lt;b style=&#x27;font-size: 18px; &#x27;&gt;Ruta 66&lt;/b&gt;&lt;br&gt;Direccion: Entre tercera y primera&quot;, &quot;Especialidades: [&#x27;criolla&#x27;, &#x27;hamburguesas&#x27;, &#x27;pizzas&#x27;, &#x27;pastas&#x27;]&quot;)&lt;/div&gt;`)[0];\n",
       "                popup_05fd0bce7ef9c3773f820fe10b5e977e.setContent(html_0e7ace60f156c9d447e6be0ec59a81cf);\n",
       "            \n",
       "        \n",
       "\n",
       "        marker_1ca30c6df348d65596c0806b08b07eda.bindPopup(popup_05fd0bce7ef9c3773f820fe10b5e977e)\n",
       "        ;\n",
       "\n",
       "        \n",
       "    \n",
       "    \n",
       "            var marker_82f9eb8a2e2386976e10f73ddb546fce = L.marker(\n",
       "                [23.13411346121413, -82.37839877964456],\n",
       "                {\n",
       "}\n",
       "            ).addTo(map_c1bd0692b3c890e2cab86875cb676aa0);\n",
       "        \n",
       "    \n",
       "            var icon_164aaf15081011ce012e33787650d088 = L.AwesomeMarkers.icon(\n",
       "                {\n",
       "  &quot;markerColor&quot;: &quot;red&quot;,\n",
       "  &quot;iconColor&quot;: &quot;white&quot;,\n",
       "  &quot;icon&quot;: &quot;cutlery&quot;,\n",
       "  &quot;prefix&quot;: &quot;fa&quot;,\n",
       "  &quot;extraClasses&quot;: &quot;fa-rotate-0&quot;,\n",
       "}\n",
       "            );\n",
       "            marker_82f9eb8a2e2386976e10f73ddb546fce.setIcon(icon_164aaf15081011ce012e33787650d088);\n",
       "        \n",
       "    \n",
       "        var popup_b9dcde3738e8f5453cd53f576f3f033e = L.popup({\n",
       "  &quot;maxWidth&quot;: &quot;100%&quot;,\n",
       "});\n",
       "\n",
       "        \n",
       "            \n",
       "                var html_581d895216b9f1db9041ae70a0a197ba = $(`&lt;div id=&quot;html_581d895216b9f1db9041ae70a0a197ba&quot; style=&quot;width: 100.0%; height: 100.0%;&quot;&gt;(&quot;&lt;b style=&#x27;font-size: 18px; &#x27;&gt;Salchipizza&lt;/b&gt;&lt;br&gt;Direccion: Calle Infanta entre Zanja y Valle&quot;, &quot;Especialidades: [&#x27;cubana&#x27;]&quot;)&lt;/div&gt;`)[0];\n",
       "                popup_b9dcde3738e8f5453cd53f576f3f033e.setContent(html_581d895216b9f1db9041ae70a0a197ba);\n",
       "            \n",
       "        \n",
       "\n",
       "        marker_82f9eb8a2e2386976e10f73ddb546fce.bindPopup(popup_b9dcde3738e8f5453cd53f576f3f033e)\n",
       "        ;\n",
       "\n",
       "        \n",
       "    \n",
       "    \n",
       "            var marker_623c068243b05a5c80fc8039588c5127 = L.marker(\n",
       "                [23.13562239054984, -82.37745889737107],\n",
       "                {\n",
       "}\n",
       "            ).addTo(map_c1bd0692b3c890e2cab86875cb676aa0);\n",
       "        \n",
       "    \n",
       "            var icon_1bf27f79b8b37f832e8e18ebad5f7e87 = L.AwesomeMarkers.icon(\n",
       "                {\n",
       "  &quot;markerColor&quot;: &quot;red&quot;,\n",
       "  &quot;iconColor&quot;: &quot;white&quot;,\n",
       "  &quot;icon&quot;: &quot;cutlery&quot;,\n",
       "  &quot;prefix&quot;: &quot;fa&quot;,\n",
       "  &quot;extraClasses&quot;: &quot;fa-rotate-0&quot;,\n",
       "}\n",
       "            );\n",
       "            marker_623c068243b05a5c80fc8039588c5127.setIcon(icon_1bf27f79b8b37f832e8e18ebad5f7e87);\n",
       "        \n",
       "    \n",
       "        var popup_fb69aa0ae88186bcd47ac5ac22d27e46 = L.popup({\n",
       "  &quot;maxWidth&quot;: &quot;100%&quot;,\n",
       "});\n",
       "\n",
       "        \n",
       "            \n",
       "                var html_8d270312aa7c9edc45cbe7545a16d48e = $(`&lt;div id=&quot;html_8d270312aa7c9edc45cbe7545a16d48e&quot; style=&quot;width: 100.0%; height: 100.0%;&quot;&gt;(&quot;&lt;b style=&#x27;font-size: 18px; &#x27;&gt;San Rafael 1051&lt;/b&gt;&lt;br&gt;Direccion: San Fransico entre San Rafael y San Martin&quot;, &quot;Especialidades: [&#x27;americana&#x27;, &#x27;internacional&#x27;]&quot;)&lt;/div&gt;`)[0];\n",
       "                popup_fb69aa0ae88186bcd47ac5ac22d27e46.setContent(html_8d270312aa7c9edc45cbe7545a16d48e);\n",
       "            \n",
       "        \n",
       "\n",
       "        marker_623c068243b05a5c80fc8039588c5127.bindPopup(popup_fb69aa0ae88186bcd47ac5ac22d27e46)\n",
       "        ;\n",
       "\n",
       "        \n",
       "    \n",
       "    \n",
       "            var marker_416d869b76cff0013a83b3ebc036f8c3 = L.marker(\n",
       "                [23.117449358542444, -82.38458676119917],\n",
       "                {\n",
       "}\n",
       "            ).addTo(map_c1bd0692b3c890e2cab86875cb676aa0);\n",
       "        \n",
       "    \n",
       "            var icon_10485d3d1f2d16fae5e16f963d424cba = L.AwesomeMarkers.icon(\n",
       "                {\n",
       "  &quot;markerColor&quot;: &quot;red&quot;,\n",
       "  &quot;iconColor&quot;: &quot;white&quot;,\n",
       "  &quot;icon&quot;: &quot;cutlery&quot;,\n",
       "  &quot;prefix&quot;: &quot;fa&quot;,\n",
       "  &quot;extraClasses&quot;: &quot;fa-rotate-0&quot;,\n",
       "}\n",
       "            );\n",
       "            marker_416d869b76cff0013a83b3ebc036f8c3.setIcon(icon_10485d3d1f2d16fae5e16f963d424cba);\n",
       "        \n",
       "    \n",
       "        var popup_dd8ee61e770a0bf50d04069660b2b89d = L.popup({\n",
       "  &quot;maxWidth&quot;: &quot;100%&quot;,\n",
       "});\n",
       "\n",
       "        \n",
       "            \n",
       "                var html_8a2bc2207084da40dd8c6ea9506d574f = $(`&lt;div id=&quot;html_8a2bc2207084da40dd8c6ea9506d574f&quot; style=&quot;width: 100.0%; height: 100.0%;&quot;&gt;(&quot;&lt;b style=&#x27;font-size: 18px; &#x27;&gt;Shapuceros&lt;/b&gt;&lt;br&gt;Direccion: Calzada de Ayestarán entre San Pedro y Ayuntamineto&quot;, &quot;Especialidades: [&#x27;Hamburgusera&#x27;]&quot;)&lt;/div&gt;`)[0];\n",
       "                popup_dd8ee61e770a0bf50d04069660b2b89d.setContent(html_8a2bc2207084da40dd8c6ea9506d574f);\n",
       "            \n",
       "        \n",
       "\n",
       "        marker_416d869b76cff0013a83b3ebc036f8c3.bindPopup(popup_dd8ee61e770a0bf50d04069660b2b89d)\n",
       "        ;\n",
       "\n",
       "        \n",
       "    \n",
       "    \n",
       "            var marker_282ad66254d30423a48d21eae532f4ec = L.marker(\n",
       "                [23.138045288912124, -82.35708342337576],\n",
       "                {\n",
       "}\n",
       "            ).addTo(map_c1bd0692b3c890e2cab86875cb676aa0);\n",
       "        \n",
       "    \n",
       "            var icon_50b1d7cc59e053d9ad0f8ebf46d78639 = L.AwesomeMarkers.icon(\n",
       "                {\n",
       "  &quot;markerColor&quot;: &quot;red&quot;,\n",
       "  &quot;iconColor&quot;: &quot;white&quot;,\n",
       "  &quot;icon&quot;: &quot;cutlery&quot;,\n",
       "  &quot;prefix&quot;: &quot;fa&quot;,\n",
       "  &quot;extraClasses&quot;: &quot;fa-rotate-0&quot;,\n",
       "}\n",
       "            );\n",
       "            marker_282ad66254d30423a48d21eae532f4ec.setIcon(icon_50b1d7cc59e053d9ad0f8ebf46d78639);\n",
       "        \n",
       "    \n",
       "        var popup_8233876221cdf055541a48b14559d41e = L.popup({\n",
       "  &quot;maxWidth&quot;: &quot;100%&quot;,\n",
       "});\n",
       "\n",
       "        \n",
       "            \n",
       "                var html_219d3199ae1abdd8371556996906b062 = $(`&lt;div id=&quot;html_219d3199ae1abdd8371556996906b062&quot; style=&quot;width: 100.0%; height: 100.0%;&quot;&gt;(&quot;&lt;b style=&#x27;font-size: 18px; &#x27;&gt;Sibarita&lt;/b&gt;&lt;br&gt;Direccion: O&#x27;Reilly #528 entre Bernaza y Villegas&quot;, &quot;Especialidades: [&#x27;Comida Caribeña&#x27;, &#x27;Latina&#x27;, &#x27;Internacional&#x27;, &#x27;Mediterránea&#x27;, &#x27;Cubana&#x27;, &#x27;Centroamericana&#x27;]&quot;)&lt;/div&gt;`)[0];\n",
       "                popup_8233876221cdf055541a48b14559d41e.setContent(html_219d3199ae1abdd8371556996906b062);\n",
       "            \n",
       "        \n",
       "\n",
       "        marker_282ad66254d30423a48d21eae532f4ec.bindPopup(popup_8233876221cdf055541a48b14559d41e)\n",
       "        ;\n",
       "\n",
       "        \n",
       "    \n",
       "    \n",
       "            var marker_6fda91a5ae097578e34bd8e6195cb557 = L.marker(\n",
       "                [23.133637707331292, -82.39154731355289],\n",
       "                {\n",
       "}\n",
       "            ).addTo(map_c1bd0692b3c890e2cab86875cb676aa0);\n",
       "        \n",
       "    \n",
       "            var icon_c6179c7c79634ad60758878bbcdac182 = L.AwesomeMarkers.icon(\n",
       "                {\n",
       "  &quot;markerColor&quot;: &quot;red&quot;,\n",
       "  &quot;iconColor&quot;: &quot;white&quot;,\n",
       "  &quot;icon&quot;: &quot;cutlery&quot;,\n",
       "  &quot;prefix&quot;: &quot;fa&quot;,\n",
       "  &quot;extraClasses&quot;: &quot;fa-rotate-0&quot;,\n",
       "}\n",
       "            );\n",
       "            marker_6fda91a5ae097578e34bd8e6195cb557.setIcon(icon_c6179c7c79634ad60758878bbcdac182);\n",
       "        \n",
       "    \n",
       "        var popup_abcc90eb76b0a8f4f1882c3518fce8dd = L.popup({\n",
       "  &quot;maxWidth&quot;: &quot;100%&quot;,\n",
       "});\n",
       "\n",
       "        \n",
       "            \n",
       "                var html_b4f15657223f7eb980ff10b38fe628f3 = $(`&lt;div id=&quot;html_b4f15657223f7eb980ff10b38fe628f3&quot; style=&quot;width: 100.0%; height: 100.0%;&quot;&gt;(&quot;&lt;b style=&#x27;font-size: 18px; &#x27;&gt;Sonar contigo&lt;/b&gt;&lt;br&gt;Direccion: Esquina Ave 23 y Calle C&quot;, &quot;Especialidades: [&#x27;Desayunos&#x27;, &#x27;Cafes&#x27;]&quot;)&lt;/div&gt;`)[0];\n",
       "                popup_abcc90eb76b0a8f4f1882c3518fce8dd.setContent(html_b4f15657223f7eb980ff10b38fe628f3);\n",
       "            \n",
       "        \n",
       "\n",
       "        marker_6fda91a5ae097578e34bd8e6195cb557.bindPopup(popup_abcc90eb76b0a8f4f1882c3518fce8dd)\n",
       "        ;\n",
       "\n",
       "        \n",
       "    \n",
       "    \n",
       "            var marker_bbec907e7e3b4fbce485674b38a23e42 = L.marker(\n",
       "                [23.127430900373163, -82.3996309593316],\n",
       "                {\n",
       "}\n",
       "            ).addTo(map_c1bd0692b3c890e2cab86875cb676aa0);\n",
       "        \n",
       "    \n",
       "            var icon_a49e2bd1b65af737aa1eebaf35daa120 = L.AwesomeMarkers.icon(\n",
       "                {\n",
       "  &quot;markerColor&quot;: &quot;red&quot;,\n",
       "  &quot;iconColor&quot;: &quot;white&quot;,\n",
       "  &quot;icon&quot;: &quot;cutlery&quot;,\n",
       "  &quot;prefix&quot;: &quot;fa&quot;,\n",
       "  &quot;extraClasses&quot;: &quot;fa-rotate-0&quot;,\n",
       "}\n",
       "            );\n",
       "            marker_bbec907e7e3b4fbce485674b38a23e42.setIcon(icon_a49e2bd1b65af737aa1eebaf35daa120);\n",
       "        \n",
       "    \n",
       "        var popup_43b1d15adf95af8498591d02b6461b3f = L.popup({\n",
       "  &quot;maxWidth&quot;: &quot;100%&quot;,\n",
       "});\n",
       "\n",
       "        \n",
       "            \n",
       "                var html_1abd885d9917ad24bdb3ab5abf0af3e3 = $(`&lt;div id=&quot;html_1abd885d9917ad24bdb3ab5abf0af3e3&quot; style=&quot;width: 100.0%; height: 100.0%;&quot;&gt;(&quot;&lt;b style=&#x27;font-size: 18px; &#x27;&gt;Spot Bar&lt;/b&gt;&lt;br&gt;Direccion: 23 y 12, Vedado&quot;, &quot;Especialidades: [&#x27;Comida Mixta&#x27;]&quot;)&lt;/div&gt;`)[0];\n",
       "                popup_43b1d15adf95af8498591d02b6461b3f.setContent(html_1abd885d9917ad24bdb3ab5abf0af3e3);\n",
       "            \n",
       "        \n",
       "\n",
       "        marker_bbec907e7e3b4fbce485674b38a23e42.bindPopup(popup_43b1d15adf95af8498591d02b6461b3f)\n",
       "        ;\n",
       "\n",
       "        \n",
       "    \n",
       "    \n",
       "            var marker_23b54a13f6b4d9e7d214c1653b03c6b8 = L.marker(\n",
       "                [23.141094353520803, -82.35193028818678],\n",
       "                {\n",
       "}\n",
       "            ).addTo(map_c1bd0692b3c890e2cab86875cb676aa0);\n",
       "        \n",
       "    \n",
       "            var icon_eef16ae622a2c70c90f68aaaa0f2dbd2 = L.AwesomeMarkers.icon(\n",
       "                {\n",
       "  &quot;markerColor&quot;: &quot;red&quot;,\n",
       "  &quot;iconColor&quot;: &quot;white&quot;,\n",
       "  &quot;icon&quot;: &quot;cutlery&quot;,\n",
       "  &quot;prefix&quot;: &quot;fa&quot;,\n",
       "  &quot;extraClasses&quot;: &quot;fa-rotate-0&quot;,\n",
       "}\n",
       "            );\n",
       "            marker_23b54a13f6b4d9e7d214c1653b03c6b8.setIcon(icon_eef16ae622a2c70c90f68aaaa0f2dbd2);\n",
       "        \n",
       "    \n",
       "        var popup_7c117eee3fd04a8491d3b8e4fa874569 = L.popup({\n",
       "  &quot;maxWidth&quot;: &quot;100%&quot;,\n",
       "});\n",
       "\n",
       "        \n",
       "            \n",
       "                var html_788b23c535704e0f6a7578c7a6a214eb = $(`&lt;div id=&quot;html_788b23c535704e0f6a7578c7a6a214eb&quot; style=&quot;width: 100.0%; height: 100.0%;&quot;&gt;(&quot;&lt;b style=&#x27;font-size: 18px; &#x27;&gt;Star Cafe&lt;/b&gt;&lt;br&gt;Direccion: 216 Empedrado&quot;, &quot;Especialidades: [&#x27;Pizza&#x27;, &#x27;Internacional&#x27;, &#x27;Cubana&#x27;]&quot;)&lt;/div&gt;`)[0];\n",
       "                popup_7c117eee3fd04a8491d3b8e4fa874569.setContent(html_788b23c535704e0f6a7578c7a6a214eb);\n",
       "            \n",
       "        \n",
       "\n",
       "        marker_23b54a13f6b4d9e7d214c1653b03c6b8.bindPopup(popup_7c117eee3fd04a8491d3b8e4fa874569)\n",
       "        ;\n",
       "\n",
       "        \n",
       "    \n",
       "    \n",
       "            var marker_8127e49ca351f1a222ab5a9c5357e447 = L.marker(\n",
       "                [23.142676112791115, -82.39937586429151],\n",
       "                {\n",
       "}\n",
       "            ).addTo(map_c1bd0692b3c890e2cab86875cb676aa0);\n",
       "        \n",
       "    \n",
       "            var icon_5c5d3cb4113acfe04019995f45ccc420 = L.AwesomeMarkers.icon(\n",
       "                {\n",
       "  &quot;markerColor&quot;: &quot;red&quot;,\n",
       "  &quot;iconColor&quot;: &quot;white&quot;,\n",
       "  &quot;icon&quot;: &quot;cutlery&quot;,\n",
       "  &quot;prefix&quot;: &quot;fa&quot;,\n",
       "  &quot;extraClasses&quot;: &quot;fa-rotate-0&quot;,\n",
       "}\n",
       "            );\n",
       "            marker_8127e49ca351f1a222ab5a9c5357e447.setIcon(icon_5c5d3cb4113acfe04019995f45ccc420);\n",
       "        \n",
       "    \n",
       "        var popup_0052f3fc17ce91dfdf8be6a496f9a01f = L.popup({\n",
       "  &quot;maxWidth&quot;: &quot;100%&quot;,\n",
       "});\n",
       "\n",
       "        \n",
       "            \n",
       "                var html_7d223795309581b2b833795a5c79c9df = $(`&lt;div id=&quot;html_7d223795309581b2b833795a5c79c9df&quot; style=&quot;width: 100.0%; height: 100.0%;&quot;&gt;(&quot;&lt;b style=&#x27;font-size: 18px; &#x27;&gt;Tablazo&lt;/b&gt;&lt;br&gt;Direccion: Calle 1era entre C y D, Vedado.&quot;, &quot;Especialidades: [&#x27;Italiana&#x27;, &#x27;caribeña&#x27;, &#x27;latina&#x27;, &#x27;internacional&#x27;, &#x27;cubana&#x27;]&quot;)&lt;/div&gt;`)[0];\n",
       "                popup_0052f3fc17ce91dfdf8be6a496f9a01f.setContent(html_7d223795309581b2b833795a5c79c9df);\n",
       "            \n",
       "        \n",
       "\n",
       "        marker_8127e49ca351f1a222ab5a9c5357e447.bindPopup(popup_0052f3fc17ce91dfdf8be6a496f9a01f)\n",
       "        ;\n",
       "\n",
       "        \n",
       "    \n",
       "    \n",
       "            var marker_a56a507626acafef28d267952e0c9232 = L.marker(\n",
       "                [22.971547817920836, -82.3848668593548],\n",
       "                {\n",
       "}\n",
       "            ).addTo(map_c1bd0692b3c890e2cab86875cb676aa0);\n",
       "        \n",
       "    \n",
       "            var icon_f248f2cd02a9806c82cee9f47e18218f = L.AwesomeMarkers.icon(\n",
       "                {\n",
       "  &quot;markerColor&quot;: &quot;red&quot;,\n",
       "  &quot;iconColor&quot;: &quot;white&quot;,\n",
       "  &quot;icon&quot;: &quot;cutlery&quot;,\n",
       "  &quot;prefix&quot;: &quot;fa&quot;,\n",
       "  &quot;extraClasses&quot;: &quot;fa-rotate-0&quot;,\n",
       "}\n",
       "            );\n",
       "            marker_a56a507626acafef28d267952e0c9232.setIcon(icon_f248f2cd02a9806c82cee9f47e18218f);\n",
       "        \n",
       "    \n",
       "        var popup_99bcbc969f8f1ec2dfc9ede3186cb29d = L.popup({\n",
       "  &quot;maxWidth&quot;: &quot;100%&quot;,\n",
       "});\n",
       "\n",
       "        \n",
       "            \n",
       "                var html_91f114a913df5d07b28e2473eb5b7604 = $(`&lt;div id=&quot;html_91f114a913df5d07b28e2473eb5b7604&quot; style=&quot;width: 100.0%; height: 100.0%;&quot;&gt;(&quot;&lt;b style=&#x27;font-size: 18px; &#x27;&gt;Tanokura&lt;/b&gt;&lt;br&gt;Direccion: Calle 403 %Ave. Rancho Boyeros  Calle B, Santiago de las Vegas&quot;, &quot;Especialidades: [&#x27;Italiana&#x27;, &#x27;criolla&#x27;, &#x27;internacional&#x27;]&quot;)&lt;/div&gt;`)[0];\n",
       "                popup_99bcbc969f8f1ec2dfc9ede3186cb29d.setContent(html_91f114a913df5d07b28e2473eb5b7604);\n",
       "            \n",
       "        \n",
       "\n",
       "        marker_a56a507626acafef28d267952e0c9232.bindPopup(popup_99bcbc969f8f1ec2dfc9ede3186cb29d)\n",
       "        ;\n",
       "\n",
       "        \n",
       "    \n",
       "    \n",
       "            var marker_2904e11c41ae5e955c3fa6d57c5993cb = L.marker(\n",
       "                [23.135937842467282, -82.35497378290009],\n",
       "                {\n",
       "}\n",
       "            ).addTo(map_c1bd0692b3c890e2cab86875cb676aa0);\n",
       "        \n",
       "    \n",
       "            var icon_d720b64769e94a403fd6f30a8144604f = L.AwesomeMarkers.icon(\n",
       "                {\n",
       "  &quot;markerColor&quot;: &quot;red&quot;,\n",
       "  &quot;iconColor&quot;: &quot;white&quot;,\n",
       "  &quot;icon&quot;: &quot;cutlery&quot;,\n",
       "  &quot;prefix&quot;: &quot;fa&quot;,\n",
       "  &quot;extraClasses&quot;: &quot;fa-rotate-0&quot;,\n",
       "}\n",
       "            );\n",
       "            marker_2904e11c41ae5e955c3fa6d57c5993cb.setIcon(icon_d720b64769e94a403fd6f30a8144604f);\n",
       "        \n",
       "    \n",
       "        var popup_51c78ab854ad9ca29c87db1e9e547806 = L.popup({\n",
       "  &quot;maxWidth&quot;: &quot;100%&quot;,\n",
       "});\n",
       "\n",
       "        \n",
       "            \n",
       "                var html_e6bbfa0c1c1887d08bc344aedf0c3aee = $(`&lt;div id=&quot;html_e6bbfa0c1c1887d08bc344aedf0c3aee&quot; style=&quot;width: 100.0%; height: 100.0%;&quot;&gt;(&quot;&lt;b style=&#x27;font-size: 18px; &#x27;&gt;Teniente Rey 360&lt;/b&gt;&lt;br&gt;Direccion: Calle Teniente Rey #360 entre Aguacate y Villegas&quot;, &quot;Especialidades: [&#x27;Comida Caribeña&#x27;, &#x27;Latina&#x27;, &#x27;Marisco&#x27;, &#x27;Cubana&#x27;, &#x27;Sudamericana&#x27;, &#x27;Centroamericana&#x27;]&quot;)&lt;/div&gt;`)[0];\n",
       "                popup_51c78ab854ad9ca29c87db1e9e547806.setContent(html_e6bbfa0c1c1887d08bc344aedf0c3aee);\n",
       "            \n",
       "        \n",
       "\n",
       "        marker_2904e11c41ae5e955c3fa6d57c5993cb.bindPopup(popup_51c78ab854ad9ca29c87db1e9e547806)\n",
       "        ;\n",
       "\n",
       "        \n",
       "    \n",
       "    \n",
       "            var marker_3f33ed57c2c04848c33d12de99c316ab = L.marker(\n",
       "                [23.052187090195876, -82.38259188107308],\n",
       "                {\n",
       "}\n",
       "            ).addTo(map_c1bd0692b3c890e2cab86875cb676aa0);\n",
       "        \n",
       "    \n",
       "            var icon_f90b46515a6d091d725825c9e98e6cc0 = L.AwesomeMarkers.icon(\n",
       "                {\n",
       "  &quot;markerColor&quot;: &quot;red&quot;,\n",
       "  &quot;iconColor&quot;: &quot;white&quot;,\n",
       "  &quot;icon&quot;: &quot;cutlery&quot;,\n",
       "  &quot;prefix&quot;: &quot;fa&quot;,\n",
       "  &quot;extraClasses&quot;: &quot;fa-rotate-0&quot;,\n",
       "}\n",
       "            );\n",
       "            marker_3f33ed57c2c04848c33d12de99c316ab.setIcon(icon_f90b46515a6d091d725825c9e98e6cc0);\n",
       "        \n",
       "    \n",
       "        var popup_38f8524d0f09f9e182894eeae4efdfb5 = L.popup({\n",
       "  &quot;maxWidth&quot;: &quot;100%&quot;,\n",
       "});\n",
       "\n",
       "        \n",
       "            \n",
       "                var html_9056622fbb1edeb4079fad600a942d3b = $(`&lt;div id=&quot;html_9056622fbb1edeb4079fad600a942d3b&quot; style=&quot;width: 100.0%; height: 100.0%;&quot;&gt;(&quot;&lt;b style=&#x27;font-size: 18px; &#x27;&gt;The Place&lt;/b&gt;&lt;br&gt;Direccion: calle 100, pasando Aldabo&quot;, &quot;Especialidades: [&#x27;mixta&#x27;]&quot;)&lt;/div&gt;`)[0];\n",
       "                popup_38f8524d0f09f9e182894eeae4efdfb5.setContent(html_9056622fbb1edeb4079fad600a942d3b);\n",
       "            \n",
       "        \n",
       "\n",
       "        marker_3f33ed57c2c04848c33d12de99c316ab.bindPopup(popup_38f8524d0f09f9e182894eeae4efdfb5)\n",
       "        ;\n",
       "\n",
       "        \n",
       "    \n",
       "    \n",
       "            var marker_5f16b4f2824c6bb71dc6fe7817407ef0 = L.marker(\n",
       "                [23.13838390087665, -82.36063540385594],\n",
       "                {\n",
       "}\n",
       "            ).addTo(map_c1bd0692b3c890e2cab86875cb676aa0);\n",
       "        \n",
       "    \n",
       "            var icon_d54e36151e2c041fd947e68fad4610dc = L.AwesomeMarkers.icon(\n",
       "                {\n",
       "  &quot;markerColor&quot;: &quot;red&quot;,\n",
       "  &quot;iconColor&quot;: &quot;white&quot;,\n",
       "  &quot;icon&quot;: &quot;cutlery&quot;,\n",
       "  &quot;prefix&quot;: &quot;fa&quot;,\n",
       "  &quot;extraClasses&quot;: &quot;fa-rotate-0&quot;,\n",
       "}\n",
       "            );\n",
       "            marker_5f16b4f2824c6bb71dc6fe7817407ef0.setIcon(icon_d54e36151e2c041fd947e68fad4610dc);\n",
       "        \n",
       "    \n",
       "        var popup_88a71d369c0a89db83f8ae8780622d29 = L.popup({\n",
       "  &quot;maxWidth&quot;: &quot;100%&quot;,\n",
       "});\n",
       "\n",
       "        \n",
       "            \n",
       "                var html_f4e9a4cad47b463e186e150855ba2dfe = $(`&lt;div id=&quot;html_f4e9a4cad47b463e186e150855ba2dfe&quot; style=&quot;width: 100.0%; height: 100.0%;&quot;&gt;(&quot;&lt;b style=&#x27;font-size: 18px; &#x27;&gt;Tonyzz Bar&lt;/b&gt;&lt;br&gt;Direccion: Consulado &amp;, San Miguel, La Habana&quot;, &quot;Especialidades: [&#x27;italiana&#x27;, &#x27;americana&#x27;, &#x27;india&#x27;, &#x27;caribeña&#x27;, &#x27;asiática&#x27;, &#x27;cubana&#x27;, &#x27;ceilanesa&#x27;]&quot;)&lt;/div&gt;`)[0];\n",
       "                popup_88a71d369c0a89db83f8ae8780622d29.setContent(html_f4e9a4cad47b463e186e150855ba2dfe);\n",
       "            \n",
       "        \n",
       "\n",
       "        marker_5f16b4f2824c6bb71dc6fe7817407ef0.bindPopup(popup_88a71d369c0a89db83f8ae8780622d29)\n",
       "        ;\n",
       "\n",
       "        \n",
       "    \n",
       "    \n",
       "            var marker_1bad9e41bd9409a3600e6caeba4fcb9d = L.marker(\n",
       "                [23.135877861692762, -82.40428126252529],\n",
       "                {\n",
       "}\n",
       "            ).addTo(map_c1bd0692b3c890e2cab86875cb676aa0);\n",
       "        \n",
       "    \n",
       "            var icon_78f3ccbfb2cc0045b66259b906ba9623 = L.AwesomeMarkers.icon(\n",
       "                {\n",
       "  &quot;markerColor&quot;: &quot;red&quot;,\n",
       "  &quot;iconColor&quot;: &quot;white&quot;,\n",
       "  &quot;icon&quot;: &quot;cutlery&quot;,\n",
       "  &quot;prefix&quot;: &quot;fa&quot;,\n",
       "  &quot;extraClasses&quot;: &quot;fa-rotate-0&quot;,\n",
       "}\n",
       "            );\n",
       "            marker_1bad9e41bd9409a3600e6caeba4fcb9d.setIcon(icon_78f3ccbfb2cc0045b66259b906ba9623);\n",
       "        \n",
       "    \n",
       "        var popup_4da3415415d46b500e6091a57de4ec4d = L.popup({\n",
       "  &quot;maxWidth&quot;: &quot;100%&quot;,\n",
       "});\n",
       "\n",
       "        \n",
       "            \n",
       "                var html_8d7818bc3cce8640d6aa2913bb75d7fc = $(`&lt;div id=&quot;html_8d7818bc3cce8640d6aa2913bb75d7fc&quot; style=&quot;width: 100.0%; height: 100.0%;&quot;&gt;(&quot;&lt;b style=&#x27;font-size: 18px; &#x27;&gt;Toto e Pepino&lt;/b&gt;&lt;br&gt;Direccion: Calle 8 entre 5ta y Calzada, Vedado&quot;, &quot;Especialidades: [&#x27;Comida Italiana&#x27;, &#x27;Campania&#x27;]&quot;)&lt;/div&gt;`)[0];\n",
       "                popup_4da3415415d46b500e6091a57de4ec4d.setContent(html_8d7818bc3cce8640d6aa2913bb75d7fc);\n",
       "            \n",
       "        \n",
       "\n",
       "        marker_1bad9e41bd9409a3600e6caeba4fcb9d.bindPopup(popup_4da3415415d46b500e6091a57de4ec4d)\n",
       "        ;\n",
       "\n",
       "        \n",
       "    \n",
       "    \n",
       "            var marker_594c84b972096faef5bfe7f2ba872918 = L.marker(\n",
       "                [23.09472547391585, -82.42049115872929],\n",
       "                {\n",
       "}\n",
       "            ).addTo(map_c1bd0692b3c890e2cab86875cb676aa0);\n",
       "        \n",
       "    \n",
       "            var icon_5f9f21cade6f68626544844ba88732b3 = L.AwesomeMarkers.icon(\n",
       "                {\n",
       "  &quot;markerColor&quot;: &quot;red&quot;,\n",
       "  &quot;iconColor&quot;: &quot;white&quot;,\n",
       "  &quot;icon&quot;: &quot;cutlery&quot;,\n",
       "  &quot;prefix&quot;: &quot;fa&quot;,\n",
       "  &quot;extraClasses&quot;: &quot;fa-rotate-0&quot;,\n",
       "}\n",
       "            );\n",
       "            marker_594c84b972096faef5bfe7f2ba872918.setIcon(icon_5f9f21cade6f68626544844ba88732b3);\n",
       "        \n",
       "    \n",
       "        var popup_2de1e60ed7592504b18298d0215684aa = L.popup({\n",
       "  &quot;maxWidth&quot;: &quot;100%&quot;,\n",
       "});\n",
       "\n",
       "        \n",
       "            \n",
       "                var html_b95777601c5edb1e3f4da915d46fbfb2 = $(`&lt;div id=&quot;html_b95777601c5edb1e3f4da915d46fbfb2&quot; style=&quot;width: 100.0%; height: 100.0%;&quot;&gt;(&quot;&lt;b style=&#x27;font-size: 18px; &#x27;&gt;Tropikana&lt;/b&gt;&lt;br&gt;Direccion: Avenida 41, calle 72&quot;, &quot;Especialidades: [&#x27;internacional&#x27;, &#x27;italiana&#x27;, &#x27;cubana&#x27;]&quot;)&lt;/div&gt;`)[0];\n",
       "                popup_2de1e60ed7592504b18298d0215684aa.setContent(html_b95777601c5edb1e3f4da915d46fbfb2);\n",
       "            \n",
       "        \n",
       "\n",
       "        marker_594c84b972096faef5bfe7f2ba872918.bindPopup(popup_2de1e60ed7592504b18298d0215684aa)\n",
       "        ;\n",
       "\n",
       "        \n",
       "    \n",
       "    \n",
       "            var marker_2c58aa643b8a9bc8996a9959ef33ef4d = L.marker(\n",
       "                [23.139702313656233, -82.37592887167152],\n",
       "                {\n",
       "}\n",
       "            ).addTo(map_c1bd0692b3c890e2cab86875cb676aa0);\n",
       "        \n",
       "    \n",
       "            var icon_8911972ea804154b5332511e9b059f32 = L.AwesomeMarkers.icon(\n",
       "                {\n",
       "  &quot;markerColor&quot;: &quot;red&quot;,\n",
       "  &quot;iconColor&quot;: &quot;white&quot;,\n",
       "  &quot;icon&quot;: &quot;cutlery&quot;,\n",
       "  &quot;prefix&quot;: &quot;fa&quot;,\n",
       "  &quot;extraClasses&quot;: &quot;fa-rotate-0&quot;,\n",
       "}\n",
       "            );\n",
       "            marker_2c58aa643b8a9bc8996a9959ef33ef4d.setIcon(icon_8911972ea804154b5332511e9b059f32);\n",
       "        \n",
       "    \n",
       "        var popup_7b8b719fd4239c6da3c5868e1bb3e5bc = L.popup({\n",
       "  &quot;maxWidth&quot;: &quot;100%&quot;,\n",
       "});\n",
       "\n",
       "        \n",
       "            \n",
       "                var html_5ecc11c4680da1067bc7fa3bd1fe07ed = $(`&lt;div id=&quot;html_5ecc11c4680da1067bc7fa3bd1fe07ed&quot; style=&quot;width: 100.0%; height: 100.0%;&quot;&gt;(&quot;&lt;b style=&#x27;font-size: 18px; &#x27;&gt;Tu Tiempo&lt;/b&gt;&lt;br&gt;Direccion: Calle Hospital entre San Lazaro y Jovellar&quot;, &quot;Especialidades: [&#x27;mixta&#x27;]&quot;)&lt;/div&gt;`)[0];\n",
       "                popup_7b8b719fd4239c6da3c5868e1bb3e5bc.setContent(html_5ecc11c4680da1067bc7fa3bd1fe07ed);\n",
       "            \n",
       "        \n",
       "\n",
       "        marker_2c58aa643b8a9bc8996a9959ef33ef4d.bindPopup(popup_7b8b719fd4239c6da3c5868e1bb3e5bc)\n",
       "        ;\n",
       "\n",
       "        \n",
       "    \n",
       "    \n",
       "            var marker_3049892305b206a99e2f2f86768526d2 = L.marker(\n",
       "                [23.121664387894754, -82.29610398447532],\n",
       "                {\n",
       "}\n",
       "            ).addTo(map_c1bd0692b3c890e2cab86875cb676aa0);\n",
       "        \n",
       "    \n",
       "            var icon_9ed5006c49fff3768e93e7bfeb8a206b = L.AwesomeMarkers.icon(\n",
       "                {\n",
       "  &quot;markerColor&quot;: &quot;red&quot;,\n",
       "  &quot;iconColor&quot;: &quot;white&quot;,\n",
       "  &quot;icon&quot;: &quot;cutlery&quot;,\n",
       "  &quot;prefix&quot;: &quot;fa&quot;,\n",
       "  &quot;extraClasses&quot;: &quot;fa-rotate-0&quot;,\n",
       "}\n",
       "            );\n",
       "            marker_3049892305b206a99e2f2f86768526d2.setIcon(icon_9ed5006c49fff3768e93e7bfeb8a206b);\n",
       "        \n",
       "    \n",
       "        var popup_a25d8af60fcc76a4078ef134ca4af3bc = L.popup({\n",
       "  &quot;maxWidth&quot;: &quot;100%&quot;,\n",
       "});\n",
       "\n",
       "        \n",
       "            \n",
       "                var html_1a524a0094a0c419eb3122f90f07bc17 = $(`&lt;div id=&quot;html_1a524a0094a0c419eb3122f90f07bc17&quot; style=&quot;width: 100.0%; height: 100.0%;&quot;&gt;(&quot;&lt;b style=&#x27;font-size: 18px; &#x27;&gt;Vale &amp; Vane&lt;/b&gt;&lt;br&gt;Direccion: San Martin entre Corrales y Aparicion&quot;, &quot;Especialidades: [&#x27;italiana&#x27;, &#x27;criolla&#x27;]&quot;)&lt;/div&gt;`)[0];\n",
       "                popup_a25d8af60fcc76a4078ef134ca4af3bc.setContent(html_1a524a0094a0c419eb3122f90f07bc17);\n",
       "            \n",
       "        \n",
       "\n",
       "        marker_3049892305b206a99e2f2f86768526d2.bindPopup(popup_a25d8af60fcc76a4078ef134ca4af3bc)\n",
       "        ;\n",
       "\n",
       "        \n",
       "    \n",
       "    \n",
       "            var marker_20a953de5c59c31db23358730b87d809 = L.marker(\n",
       "                [23.131006442270195, -82.3984675744632],\n",
       "                {\n",
       "}\n",
       "            ).addTo(map_c1bd0692b3c890e2cab86875cb676aa0);\n",
       "        \n",
       "    \n",
       "            var icon_a6f6042919856eb4bc4d455f6a4ab88b = L.AwesomeMarkers.icon(\n",
       "                {\n",
       "  &quot;markerColor&quot;: &quot;red&quot;,\n",
       "  &quot;iconColor&quot;: &quot;white&quot;,\n",
       "  &quot;icon&quot;: &quot;cutlery&quot;,\n",
       "  &quot;prefix&quot;: &quot;fa&quot;,\n",
       "  &quot;extraClasses&quot;: &quot;fa-rotate-0&quot;,\n",
       "}\n",
       "            );\n",
       "            marker_20a953de5c59c31db23358730b87d809.setIcon(icon_a6f6042919856eb4bc4d455f6a4ab88b);\n",
       "        \n",
       "    \n",
       "        var popup_7c1e0dce571a265408f2e95766c9b083 = L.popup({\n",
       "  &quot;maxWidth&quot;: &quot;100%&quot;,\n",
       "});\n",
       "\n",
       "        \n",
       "            \n",
       "                var html_09a7b81c4ca9aa88f3b07e2d63744da9 = $(`&lt;div id=&quot;html_09a7b81c4ca9aa88f3b07e2d63744da9&quot; style=&quot;width: 100.0%; height: 100.0%;&quot;&gt;(&quot;&lt;b style=&#x27;font-size: 18px; &#x27;&gt;El Vampirito&lt;/b&gt;&lt;br&gt;Direccion: Calle 6 entre 19 y 21, Vedado&quot;, &quot;Especialidades: [&#x27;Pizza&#x27;, &#x27;Comida italiana&#x27;, &#x27;Sandwiches&#x27;]&quot;)&lt;/div&gt;`)[0];\n",
       "                popup_7c1e0dce571a265408f2e95766c9b083.setContent(html_09a7b81c4ca9aa88f3b07e2d63744da9);\n",
       "            \n",
       "        \n",
       "\n",
       "        marker_20a953de5c59c31db23358730b87d809.bindPopup(popup_7c1e0dce571a265408f2e95766c9b083)\n",
       "        ;\n",
       "\n",
       "        \n",
       "    \n",
       "    \n",
       "            var marker_8a0fe4116da8acdf9d0e8ca06b2880ff = L.marker(\n",
       "                [23.135928366721494, -82.35711687469271],\n",
       "                {\n",
       "}\n",
       "            ).addTo(map_c1bd0692b3c890e2cab86875cb676aa0);\n",
       "        \n",
       "    \n",
       "            var icon_65a814cece81c001c4fe67cf0825a5ee = L.AwesomeMarkers.icon(\n",
       "                {\n",
       "  &quot;markerColor&quot;: &quot;red&quot;,\n",
       "  &quot;iconColor&quot;: &quot;white&quot;,\n",
       "  &quot;icon&quot;: &quot;cutlery&quot;,\n",
       "  &quot;prefix&quot;: &quot;fa&quot;,\n",
       "  &quot;extraClasses&quot;: &quot;fa-rotate-0&quot;,\n",
       "}\n",
       "            );\n",
       "            marker_8a0fe4116da8acdf9d0e8ca06b2880ff.setIcon(icon_65a814cece81c001c4fe67cf0825a5ee);\n",
       "        \n",
       "    \n",
       "        var popup_404ecfe78d322e6c00f5225161b49761 = L.popup({\n",
       "  &quot;maxWidth&quot;: &quot;100%&quot;,\n",
       "});\n",
       "\n",
       "        \n",
       "            \n",
       "                var html_58332934fb7b3d473ca22e0c90be95f0 = $(`&lt;div id=&quot;html_58332934fb7b3d473ca22e0c90be95f0&quot; style=&quot;width: 100.0%; height: 100.0%;&quot;&gt;(&quot;&lt;b style=&#x27;font-size: 18px; &#x27;&gt;Venami&lt;/b&gt;&lt;br&gt;Direccion: Monserrate #435 e/ Teniente Rey y Lamparilla&quot;, &quot;Especialidades: [&#x27;Italiana&#x27;, &#x27;Pizza&#x27;, &#x27;Mediterranea&#x27;, &#x27;Europea&#x27;]&quot;)&lt;/div&gt;`)[0];\n",
       "                popup_404ecfe78d322e6c00f5225161b49761.setContent(html_58332934fb7b3d473ca22e0c90be95f0);\n",
       "            \n",
       "        \n",
       "\n",
       "        marker_8a0fe4116da8acdf9d0e8ca06b2880ff.bindPopup(popup_404ecfe78d322e6c00f5225161b49761)\n",
       "        ;\n",
       "\n",
       "        \n",
       "    \n",
       "    \n",
       "            var marker_5e2cd7440726e4fdaf9664ce3d4e2119 = L.marker(\n",
       "                [23.06514033812983, -82.39795431500336],\n",
       "                {\n",
       "}\n",
       "            ).addTo(map_c1bd0692b3c890e2cab86875cb676aa0);\n",
       "        \n",
       "    \n",
       "            var icon_2feb8a6336520909615dfc690f846412 = L.AwesomeMarkers.icon(\n",
       "                {\n",
       "  &quot;markerColor&quot;: &quot;red&quot;,\n",
       "  &quot;iconColor&quot;: &quot;white&quot;,\n",
       "  &quot;icon&quot;: &quot;cutlery&quot;,\n",
       "  &quot;prefix&quot;: &quot;fa&quot;,\n",
       "  &quot;extraClasses&quot;: &quot;fa-rotate-0&quot;,\n",
       "}\n",
       "            );\n",
       "            marker_5e2cd7440726e4fdaf9664ce3d4e2119.setIcon(icon_2feb8a6336520909615dfc690f846412);\n",
       "        \n",
       "    \n",
       "        var popup_f00fc91bc1ef9d6267557dce1e77b285 = L.popup({\n",
       "  &quot;maxWidth&quot;: &quot;100%&quot;,\n",
       "});\n",
       "\n",
       "        \n",
       "            \n",
       "                var html_4312aef43937e95c2a8b5836eac5faf2 = $(`&lt;div id=&quot;html_4312aef43937e95c2a8b5836eac5faf2&quot; style=&quot;width: 100.0%; height: 100.0%;&quot;&gt;(&quot;&lt;b style=&#x27;font-size: 18px; &#x27;&gt;VenaVento&lt;/b&gt;&lt;br&gt;Direccion: Calle 10, esq. Vento&quot;, &quot;Especialidades: [&#x27;cubana&#x27;, &#x27;internacional&#x27;]&quot;)&lt;/div&gt;`)[0];\n",
       "                popup_f00fc91bc1ef9d6267557dce1e77b285.setContent(html_4312aef43937e95c2a8b5836eac5faf2);\n",
       "            \n",
       "        \n",
       "\n",
       "        marker_5e2cd7440726e4fdaf9664ce3d4e2119.bindPopup(popup_f00fc91bc1ef9d6267557dce1e77b285)\n",
       "        ;\n",
       "\n",
       "        \n",
       "    \n",
       "    \n",
       "            var marker_864c98871f43f4c9803fe3ec7b1b11a0 = L.marker(\n",
       "                [22.973895524970906, -82.38392775915848],\n",
       "                {\n",
       "}\n",
       "            ).addTo(map_c1bd0692b3c890e2cab86875cb676aa0);\n",
       "        \n",
       "    \n",
       "            var icon_d8aa42a246c3985ecc28871971ae804a = L.AwesomeMarkers.icon(\n",
       "                {\n",
       "  &quot;markerColor&quot;: &quot;red&quot;,\n",
       "  &quot;iconColor&quot;: &quot;white&quot;,\n",
       "  &quot;icon&quot;: &quot;cutlery&quot;,\n",
       "  &quot;prefix&quot;: &quot;fa&quot;,\n",
       "  &quot;extraClasses&quot;: &quot;fa-rotate-0&quot;,\n",
       "}\n",
       "            );\n",
       "            marker_864c98871f43f4c9803fe3ec7b1b11a0.setIcon(icon_d8aa42a246c3985ecc28871971ae804a);\n",
       "        \n",
       "    \n",
       "        var popup_f1d0c078fda3fbc807a21b79da18066d = L.popup({\n",
       "  &quot;maxWidth&quot;: &quot;100%&quot;,\n",
       "});\n",
       "\n",
       "        \n",
       "            \n",
       "                var html_35be6e5386afa5a68319a66afa8cc78d = $(`&lt;div id=&quot;html_35be6e5386afa5a68319a66afa8cc78d&quot; style=&quot;width: 100.0%; height: 100.0%;&quot;&gt;(&quot;&lt;b style=&#x27;font-size: 18px; &#x27;&gt;Villanueva&lt;/b&gt;&lt;br&gt;Direccion: 182 # 39 511 e/ 395 y 397, Santiago de las Vegas&quot;, &quot;Especialidades: [&#x27;cubana&#x27;, &#x27;internacional&#x27;]&quot;)&lt;/div&gt;`)[0];\n",
       "                popup_f1d0c078fda3fbc807a21b79da18066d.setContent(html_35be6e5386afa5a68319a66afa8cc78d);\n",
       "            \n",
       "        \n",
       "\n",
       "        marker_864c98871f43f4c9803fe3ec7b1b11a0.bindPopup(popup_f1d0c078fda3fbc807a21b79da18066d)\n",
       "        ;\n",
       "\n",
       "        \n",
       "    \n",
       "    \n",
       "            var marker_0bf3f317c6e82e26b8d8081f0c545683 = L.marker(\n",
       "                [23.087246052907982, -82.3690334591559],\n",
       "                {\n",
       "}\n",
       "            ).addTo(map_c1bd0692b3c890e2cab86875cb676aa0);\n",
       "        \n",
       "    \n",
       "            var icon_986ef282cea2613fe22b62ef9a3f39ae = L.AwesomeMarkers.icon(\n",
       "                {\n",
       "  &quot;markerColor&quot;: &quot;red&quot;,\n",
       "  &quot;iconColor&quot;: &quot;white&quot;,\n",
       "  &quot;icon&quot;: &quot;cutlery&quot;,\n",
       "  &quot;prefix&quot;: &quot;fa&quot;,\n",
       "  &quot;extraClasses&quot;: &quot;fa-rotate-0&quot;,\n",
       "}\n",
       "            );\n",
       "            marker_0bf3f317c6e82e26b8d8081f0c545683.setIcon(icon_986ef282cea2613fe22b62ef9a3f39ae);\n",
       "        \n",
       "    \n",
       "        var popup_920a1a37e93db006bd21824f9bda657c = L.popup({\n",
       "  &quot;maxWidth&quot;: &quot;100%&quot;,\n",
       "});\n",
       "\n",
       "        \n",
       "            \n",
       "                var html_3812d12f797a868d123583c6877e452d = $(`&lt;div id=&quot;html_3812d12f797a868d123583c6877e452d&quot; style=&quot;width: 100.0%; height: 100.0%;&quot;&gt;(&quot;&lt;b style=&#x27;font-size: 18px; &#x27;&gt;Villa Hernandez&lt;/b&gt;&lt;br&gt;Direccion: Calle San Miguel, # 112 e/ Revolución y Gelabert, Sevillano&quot;, &quot;Especialidades: [&#x27;internacional&#x27;, &#x27;criolla&#x27;]&quot;)&lt;/div&gt;`)[0];\n",
       "                popup_920a1a37e93db006bd21824f9bda657c.setContent(html_3812d12f797a868d123583c6877e452d);\n",
       "            \n",
       "        \n",
       "\n",
       "        marker_0bf3f317c6e82e26b8d8081f0c545683.bindPopup(popup_920a1a37e93db006bd21824f9bda657c)\n",
       "        ;\n",
       "\n",
       "        \n",
       "    \n",
       "    \n",
       "            var marker_b9a281f895a343965722b3d11dd0b5ae = L.marker(\n",
       "                [23.14072849372818, -82.3845988],\n",
       "                {\n",
       "}\n",
       "            ).addTo(map_c1bd0692b3c890e2cab86875cb676aa0);\n",
       "        \n",
       "    \n",
       "            var icon_5cd31b331d9feba1ffd486a35e47978f = L.AwesomeMarkers.icon(\n",
       "                {\n",
       "  &quot;markerColor&quot;: &quot;red&quot;,\n",
       "  &quot;iconColor&quot;: &quot;white&quot;,\n",
       "  &quot;icon&quot;: &quot;cutlery&quot;,\n",
       "  &quot;prefix&quot;: &quot;fa&quot;,\n",
       "  &quot;extraClasses&quot;: &quot;fa-rotate-0&quot;,\n",
       "}\n",
       "            );\n",
       "            marker_b9a281f895a343965722b3d11dd0b5ae.setIcon(icon_5cd31b331d9feba1ffd486a35e47978f);\n",
       "        \n",
       "    \n",
       "        var popup_5dde60152c680ab4ba51c0c63624d55c = L.popup({\n",
       "  &quot;maxWidth&quot;: &quot;100%&quot;,\n",
       "});\n",
       "\n",
       "        \n",
       "            \n",
       "                var html_00fd1a54da25f433952ae12fd84862f2 = $(`&lt;div id=&quot;html_00fd1a54da25f433952ae12fd84862f2&quot; style=&quot;width: 100.0%; height: 100.0%;&quot;&gt;(&quot;&lt;b style=&#x27;font-size: 18px; &#x27;&gt;Vita Nuova&lt;/b&gt;&lt;br&gt;Direccion: Calle L esquina 21, Vedado&quot;, &quot;Especialidades: [&#x27;Comida Italiana&#x27;, &#x27;caribeña&#x27;, &#x27;internacional&#x27;, &#x27;cubana&#x27;]&quot;)&lt;/div&gt;`)[0];\n",
       "                popup_5dde60152c680ab4ba51c0c63624d55c.setContent(html_00fd1a54da25f433952ae12fd84862f2);\n",
       "            \n",
       "        \n",
       "\n",
       "        marker_b9a281f895a343965722b3d11dd0b5ae.bindPopup(popup_5dde60152c680ab4ba51c0c63624d55c)\n",
       "        ;\n",
       "\n",
       "        \n",
       "    \n",
       "    \n",
       "            var marker_ea574f263ec6c396a297cec0b387fc4a = L.marker(\n",
       "                [23.13336490258953, -82.39873911512949],\n",
       "                {\n",
       "}\n",
       "            ).addTo(map_c1bd0692b3c890e2cab86875cb676aa0);\n",
       "        \n",
       "    \n",
       "            var icon_93d024461c1c61acf85592daee93ba27 = L.AwesomeMarkers.icon(\n",
       "                {\n",
       "  &quot;markerColor&quot;: &quot;red&quot;,\n",
       "  &quot;iconColor&quot;: &quot;white&quot;,\n",
       "  &quot;icon&quot;: &quot;cutlery&quot;,\n",
       "  &quot;prefix&quot;: &quot;fa&quot;,\n",
       "  &quot;extraClasses&quot;: &quot;fa-rotate-0&quot;,\n",
       "}\n",
       "            );\n",
       "            marker_ea574f263ec6c396a297cec0b387fc4a.setIcon(icon_93d024461c1c61acf85592daee93ba27);\n",
       "        \n",
       "    \n",
       "        var popup_c74238eaea5ccb11062c075afa6ac626 = L.popup({\n",
       "  &quot;maxWidth&quot;: &quot;100%&quot;,\n",
       "});\n",
       "\n",
       "        \n",
       "            \n",
       "                var html_6a46e2faefe21c8347f209212c850bc9 = $(`&lt;div id=&quot;html_6a46e2faefe21c8347f209212c850bc9&quot; style=&quot;width: 100.0%; height: 100.0%;&quot;&gt;(&quot;&lt;b style=&#x27;font-size: 18px; &#x27;&gt;Wapa&lt;/b&gt;&lt;br&gt;Direccion: Calle 4 entre 15 y 17, Vedado&quot;, &quot;Especialidades: [&#x27;Cubana&#x27;, &#x27;Centroamericana&#x27;]&quot;)&lt;/div&gt;`)[0];\n",
       "                popup_c74238eaea5ccb11062c075afa6ac626.setContent(html_6a46e2faefe21c8347f209212c850bc9);\n",
       "            \n",
       "        \n",
       "\n",
       "        marker_ea574f263ec6c396a297cec0b387fc4a.bindPopup(popup_c74238eaea5ccb11062c075afa6ac626)\n",
       "        ;\n",
       "\n",
       "        \n",
       "    \n",
       "    \n",
       "            var marker_949be8f97d7f64a472871c0b3c65ef6f = L.marker(\n",
       "                [23.12975236724791, -82.35241985161278],\n",
       "                {\n",
       "}\n",
       "            ).addTo(map_c1bd0692b3c890e2cab86875cb676aa0);\n",
       "        \n",
       "    \n",
       "            var icon_520edbb3ff4270901798db1697454079 = L.AwesomeMarkers.icon(\n",
       "                {\n",
       "  &quot;markerColor&quot;: &quot;red&quot;,\n",
       "  &quot;iconColor&quot;: &quot;white&quot;,\n",
       "  &quot;icon&quot;: &quot;cutlery&quot;,\n",
       "  &quot;prefix&quot;: &quot;fa&quot;,\n",
       "  &quot;extraClasses&quot;: &quot;fa-rotate-0&quot;,\n",
       "}\n",
       "            );\n",
       "            marker_949be8f97d7f64a472871c0b3c65ef6f.setIcon(icon_520edbb3ff4270901798db1697454079);\n",
       "        \n",
       "    \n",
       "        var popup_b4ce332da564fc219bb70f119e04aea5 = L.popup({\n",
       "  &quot;maxWidth&quot;: &quot;100%&quot;,\n",
       "});\n",
       "\n",
       "        \n",
       "            \n",
       "                var html_408e9ebd243dea25162552c0fe22c774 = $(`&lt;div id=&quot;html_408e9ebd243dea25162552c0fe22c774&quot; style=&quot;width: 100.0%; height: 100.0%;&quot;&gt;(&quot;&lt;b style=&#x27;font-size: 18px; &#x27;&gt;Yarini&lt;/b&gt;&lt;br&gt;Direccion: Calle San Isidro #214 entre Picota y Compostela&quot;, &quot;Especialidades: [&#x27;Comida Internacional&#x27;, &#x27;Cubana&#x27;]&quot;)&lt;/div&gt;`)[0];\n",
       "                popup_b4ce332da564fc219bb70f119e04aea5.setContent(html_408e9ebd243dea25162552c0fe22c774);\n",
       "            \n",
       "        \n",
       "\n",
       "        marker_949be8f97d7f64a472871c0b3c65ef6f.bindPopup(popup_b4ce332da564fc219bb70f119e04aea5)\n",
       "        ;\n",
       "\n",
       "        \n",
       "    \n",
       "    \n",
       "            var marker_7ce2c89d2986ba08f9d7122aa4b0eb78 = L.marker(\n",
       "                [23.098978185190347, -82.33972403216933],\n",
       "                {\n",
       "}\n",
       "            ).addTo(map_c1bd0692b3c890e2cab86875cb676aa0);\n",
       "        \n",
       "    \n",
       "            var icon_642f898d71d3b3b878757d78dfcdb4b8 = L.AwesomeMarkers.icon(\n",
       "                {\n",
       "  &quot;markerColor&quot;: &quot;red&quot;,\n",
       "  &quot;iconColor&quot;: &quot;white&quot;,\n",
       "  &quot;icon&quot;: &quot;cutlery&quot;,\n",
       "  &quot;prefix&quot;: &quot;fa&quot;,\n",
       "  &quot;extraClasses&quot;: &quot;fa-rotate-0&quot;,\n",
       "}\n",
       "            );\n",
       "            marker_7ce2c89d2986ba08f9d7122aa4b0eb78.setIcon(icon_642f898d71d3b3b878757d78dfcdb4b8);\n",
       "        \n",
       "    \n",
       "        var popup_1cb9af238c7f32279145c9c11990e067 = L.popup({\n",
       "  &quot;maxWidth&quot;: &quot;100%&quot;,\n",
       "});\n",
       "\n",
       "        \n",
       "            \n",
       "                var html_9744401131ab3ecbe4754c1c3b37d8c2 = $(`&lt;div id=&quot;html_9744401131ab3ecbe4754c1c3b37d8c2&quot; style=&quot;width: 100.0%; height: 100.0%;&quot;&gt;(&quot;&lt;b style=&#x27;font-size: 18px; &#x27;&gt;Yesterday Havana&lt;/b&gt;&lt;br&gt;Direccion: Rita % Blanchy y Calzada de Guines&quot;, &quot;Especialidades: [&#x27;Comida Mixta&#x27;]&quot;)&lt;/div&gt;`)[0];\n",
       "                popup_1cb9af238c7f32279145c9c11990e067.setContent(html_9744401131ab3ecbe4754c1c3b37d8c2);\n",
       "            \n",
       "        \n",
       "\n",
       "        marker_7ce2c89d2986ba08f9d7122aa4b0eb78.bindPopup(popup_1cb9af238c7f32279145c9c11990e067)\n",
       "        ;\n",
       "\n",
       "        \n",
       "    \n",
       "    \n",
       "            var marker_495434079dfe2e265f2c6f6258834434 = L.marker(\n",
       "                [23.14231693189427, -82.39812833852959],\n",
       "                {\n",
       "}\n",
       "            ).addTo(map_c1bd0692b3c890e2cab86875cb676aa0);\n",
       "        \n",
       "    \n",
       "            var icon_ef296bc0cf3e9f9e76a07ee8b583242f = L.AwesomeMarkers.icon(\n",
       "                {\n",
       "  &quot;markerColor&quot;: &quot;red&quot;,\n",
       "  &quot;iconColor&quot;: &quot;white&quot;,\n",
       "  &quot;icon&quot;: &quot;cutlery&quot;,\n",
       "  &quot;prefix&quot;: &quot;fa&quot;,\n",
       "  &quot;extraClasses&quot;: &quot;fa-rotate-0&quot;,\n",
       "}\n",
       "            );\n",
       "            marker_495434079dfe2e265f2c6f6258834434.setIcon(icon_ef296bc0cf3e9f9e76a07ee8b583242f);\n",
       "        \n",
       "    \n",
       "        var popup_afdf0035350d2010a55cdb7800605bf8 = L.popup({\n",
       "  &quot;maxWidth&quot;: &quot;100%&quot;,\n",
       "});\n",
       "\n",
       "        \n",
       "            \n",
       "                var html_905a7c00efc93d08cd81e50f6b8aac40 = $(`&lt;div id=&quot;html_905a7c00efc93d08cd81e50f6b8aac40&quot; style=&quot;width: 100.0%; height: 100.0%;&quot;&gt;(&quot;&lt;b style=&#x27;font-size: 18px; &#x27;&gt;Yo invito&lt;/b&gt;&lt;br&gt;Direccion: Calle 3era, Esquina D, Vedado&quot;, &quot;Especialidades: [&#x27;Comida Cubana&#x27;, &#x27;criolla&#x27;]&quot;)&lt;/div&gt;`)[0];\n",
       "                popup_afdf0035350d2010a55cdb7800605bf8.setContent(html_905a7c00efc93d08cd81e50f6b8aac40);\n",
       "            \n",
       "        \n",
       "\n",
       "        marker_495434079dfe2e265f2c6f6258834434.bindPopup(popup_afdf0035350d2010a55cdb7800605bf8)\n",
       "        ;\n",
       "\n",
       "        \n",
       "    \n",
       "&lt;/script&gt;\n",
       "&lt;/html&gt;\" style=\"position:absolute;width:100%;height:100%;left:0;top:0;border:none !important;\" allowfullscreen webkitallowfullscreen mozallowfullscreen></iframe></div></div>"
      ],
      "text/plain": [
       "<folium.folium.Map at 0x174ecddde50>"
      ]
     },
     "metadata": {},
     "output_type": "display_data"
    }
   ],
   "source": [
    "\n",
    "#Mapa con los restaurantes ubicado :)\n",
    "mapa = fl.Map(location=[23.1, -82.4], zoom_start=11)\n",
    "\n",
    "lahabanamapa = {\"type\": \"FeatureCollection\", \"features\": [{\"geometry\": {\"type\": \"Polygon\", \"coordinates\": [[[-82.5403, 23.0517], [-82.5289, 23.0628], [-82.5239, 23.0735], [-82.509, 23.0829], [-82.5045, 23.0806], [-82.4981, 23.0844], [-82.5026, 23.0865], [-82.4957, 23.0937], [-82.4911, 23.0937], [-82.4894, 23.0897], [-82.4872, 23.0951], [-82.4835, 23.0947], [-82.4781, 23.0901], [-82.4783, 23.0949], [-82.4606, 23.0936], [-82.4609, 23.0976], [-82.4554, 23.0961], [-82.4535, 23.1017], [-82.4346, 23.1193], [-82.4152, 23.1334], [-82.4121, 23.1339], [-82.4119, 23.1305], [-82.4053, 23.1406], [-82.3912, 23.1478], [-82.3696, 23.1424], [-82.3579, 23.1468], [-82.3522, 23.145], [-82.345, 23.1353], [-82.3478, 23.1286], [-82.3577, 23.122], [-82.351, 23.1205], [-82.3448, 23.1266], [-82.3422, 23.1147], [-82.3343, 23.1123], [-82.3406, 23.1243], [-82.3359, 23.1273], [-82.3374, 23.1347], [-82.328, 23.1303], [-82.3281, 23.1382], [-82.3229, 23.1427], [-82.3446, 23.1424], [-82.3563, 23.1516], [-82.3244, 23.1664], [-82.3026, 23.1715], [-82.2944, 23.1688], [-82.2911, 23.1637], [-82.2892, 23.1702], [-82.2772, 23.1754], [-82.2442, 23.1786], [-82.2402, 23.1732], [-82.2393, 23.1783], [-82.228, 23.1806], [-82.214, 23.1785], [-82.2115, 23.1724], [-82.2121, 23.1785], [-82.2045, 23.1806], [-82.1518, 23.172], [-82.1258, 23.1744], [-82.1225, 23.1684], [-82.1161, 23.1715], [-82.1209, 23.1724], [-82.1185, 23.1737], [-82.098, 23.1729], [-82.0929, 23.1761], [-82.0925, 23.168], [-82.1016, 23.1666], [-82.1025, 23.1598], [-82.082, 23.1487], [-82.0799, 23.1245], [-82.0931, 23.1221], [-82.0861, 23.1055], [-82.1016, 23.0931], [-82.1015, 23.0847], [-82.1087, 23.0806], [-82.1058, 23.0767], [-82.1096, 23.0683], [-82.1011, 23.0555], [-82.1148, 23.0547], [-82.1445, 23.0685], [-82.15, 23.075], [-82.1562, 23.0744], [-82.1764, 23.0576], [-82.2231, 23.064], [-82.2256, 23.0165], [-82.1964, 22.9972], [-82.1979, 22.993], [-82.2115, 22.9944], [-82.2167, 22.9997], [-82.2283, 22.9804], [-82.2618, 22.9734], [-82.2475, 22.9564], [-82.2676, 22.9578], [-82.2798, 22.9519], [-82.2976, 22.9541], [-82.3009, 22.9627], [-82.3056, 22.9648], [-82.3132, 22.9649], [-82.3304, 22.9563], [-82.3648, 22.9667], [-82.3775, 22.9657], [-82.3759, 22.9558], [-82.3658, 22.9405], [-82.3868, 22.9337], [-82.4152, 22.9483], [-82.4287, 22.9466], [-82.4336, 22.9403], [-82.4458, 22.9471], [-82.4436, 22.9814], [-82.4482, 22.9851], [-82.4578, 22.9775], [-82.4661, 22.982], [-82.4672, 22.9783], [-82.4843, 22.9729], [-82.498, 22.9947], [-82.5012, 23.0095], [-82.5081, 23.0153], [-82.5066, 23.0211], [-82.4982, 23.0262], [-82.4949, 23.0323], [-82.4973, 23.0392], [-82.4917, 23.0411], [-82.4889, 23.0523], [-82.4921, 23.0736], [-82.4972, 23.0736], [-82.5021, 23.0687], [-82.5108, 23.0703], [-82.5329, 23.0523], [-82.5403, 23.0517]]]}, \"type\": \"Feature\", \"properties\": {\"province\": \"La Habana\", \"country\": \"Cuba\", \"region\": \"province\", \"country_domain\": \"cu\", \"province_id\": \"lha\", \"DPA_province_code\": \"23\"}}]}\n",
    "fl.GeoJson(lahabanamapa).add_to(mapa)\n",
    "for i, row in data2.iterrows():\n",
    "    coordenadas = [float(coord) for coord in row[\"location.coordinates\"].split(\", \")]\n",
    "    nombre = row[\"name\"]\n",
    "    direccion = row[\"location.address\"]\n",
    "    especializacion = row[\"specialized_food\"]\n",
    "   \n",
    "\n",
    "    fl.Marker(\n",
    "        location=coordenadas,\n",
    "        popup=(\n",
    "            f\"<b style='font-size: 18px; '>{nombre}</b><br>\"\n",
    "            f\"Direccion: {direccion}\",\n",
    "            f\"Especialidades: {especializacion}\",\n",
    "          ),\n",
    "          icon=fl.Icon(icon=\"cutlery\", prefix=\"fa\", color=\"red\")\n",
    "    ).add_to(mapa)\n",
    "display(mapa)\n",
    "\n",
    "#Fin... "
   ]
  },
  {
   "cell_type": "markdown",
   "metadata": {},
   "source": [
    "![5](terraza%20malecon.jpg)"
   ]
  }
 ],
 "metadata": {
  "kernelspec": {
   "display_name": "Python 3",
   "language": "python",
   "name": "python3"
  },
  "language_info": {
   "codemirror_mode": {
    "name": "ipython",
    "version": 3
   },
   "file_extension": ".py",
   "mimetype": "text/x-python",
   "name": "python",
   "nbconvert_exporter": "python",
   "pygments_lexer": "ipython3",
   "version": "3.11.7"
  }
 },
 "nbformat": 4,
 "nbformat_minor": 2
}
