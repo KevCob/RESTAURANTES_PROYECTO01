{
 "cells": [
  {
   "cell_type": "code",
   "execution_count": 4,
   "metadata": {},
   "outputs": [],
   "source": [
    "import pandas as pd\n",
    "import seaborn as sns\n",
    "import plotly as pt\n",
    "import plotly.express as px\n",
    "import plotly.graph_objects as go\n",
    "import matplotlib.pyplot as plt\n",
    "import plotly.io as pio\n",
    "import folium as fl\n",
    "import nbformat as nb\n",
    "import ipywidgets as wi\n",
    "from collections import Counter\n",
    "from IPython.display import display\n",
    "import Biblioteca_Proyecto as bp\n",
    "import os\n",
    "import json"
   ]
  },
  {
   "cell_type": "code",
   "execution_count": 5,
   "metadata": {},
   "outputs": [],
   "source": [
    "\n",
    "data_list = []\n",
    "\n",
    "for i in os.listdir(\"C:\\\\Users\\\\User\\\\OneDrive\\\\Escritorio\\\\RESTAURANTES_PROYECTO01\\\\Json_Data\"):\n",
    "    if i.endswith(\".json\"):\n",
    "        with open(os.path.join(\"C:\\\\Users\\\\User\\\\OneDrive\\\\Escritorio\\\\RESTAURANTES_PROYECTO01\\\\Json_Data\", i), \"r\", encoding=\"utf-8\") as file:\n",
    "            json_loaded = json.load(file)\n",
    "            data_list.append(json_loaded)\n",
    "\n",
    "data = pd.DataFrame(data_list)\n",
    "data2 = pd.json_normalize(data_list)"
   ]
  },
  {
   "cell_type": "markdown",
   "metadata": {},
   "source": [
    "Ya Alejandro lleva 3 años en los Estados Unidos y sus amigos le aconsejaron que lo mejor opción para ayudar a su familia en Cuba era poniéndoles un negocio, él estaba decidido a invertir en algo que no solo generara ingresos, sino que tambíen mejorara la calidad de vida de sus padres en La Habana. Muchos le sugirieron algunas de las opciones mas populares en Cuba, como revender productos Shein, sin embargo el tenía una visión diferente,  su objetivo era establecer un negocio autosuficiente, y sabiendo ya que no habia mujer en La Habana que cocinara mejor que su vieja, decidió que abrir un restaurante era la mejor opción para lograr su objetivo....\n",
    "Su madre Caridad, una ama de casa que dedicó toda su vida a su esposo, a su hijo y a la cocina, casi infarta al escuchar la noticia de que por finnnn le van a empezar a pagar por cocinar algo que llevaba toda la vida haciendo por amor y sin ningún tipo de lucro.\n",
    "\n",
    "Para que todo saliera bien, Alejandro sabía que necesitaba resalizar un análisis exhaustivo de la competencia, por lo que tomó una muestra de los restaurantes de toda La Habana...\n",
    "\n"
   ]
  },
  {
   "cell_type": "code",
   "execution_count": 6,
   "metadata": {},
   "outputs": [
    {
     "data": {
      "application/vnd.plotly.v1+json": {
       "config": {
        "plotlyServerURL": "https://plot.ly"
       },
       "data": [
        {
         "cells": {
          "align": "left",
          "fill": {
           "color": "lavender"
          },
          "values": [
           [
            "plaza de la revolucion",
            "habana vieja",
            "centro habana",
            "10 de octubre",
            "habana del este",
            "playa",
            "marianao",
            "cotorro",
            "arroyo naranjo",
            "cerro",
            "san miguel del padron",
            "boyeros",
            "la lisa",
            "guanabacoa",
            "regla"
           ],
           [
            35,
            29,
            20,
            12,
            11,
            11,
            10,
            10,
            10,
            10,
            9,
            7,
            6,
            5,
            3
           ]
          ]
         },
         "header": {
          "align": "left",
          "fill": {
           "color": "green"
          },
          "values": [
           "Municipio",
           "Cantidad de Restaurantes"
          ]
         },
         "type": "table"
        }
       ],
       "layout": {
        "template": {
         "data": {
          "bar": [
           {
            "error_x": {
             "color": "#2a3f5f"
            },
            "error_y": {
             "color": "#2a3f5f"
            },
            "marker": {
             "line": {
              "color": "#E5ECF6",
              "width": 0.5
             },
             "pattern": {
              "fillmode": "overlay",
              "size": 10,
              "solidity": 0.2
             }
            },
            "type": "bar"
           }
          ],
          "barpolar": [
           {
            "marker": {
             "line": {
              "color": "#E5ECF6",
              "width": 0.5
             },
             "pattern": {
              "fillmode": "overlay",
              "size": 10,
              "solidity": 0.2
             }
            },
            "type": "barpolar"
           }
          ],
          "carpet": [
           {
            "aaxis": {
             "endlinecolor": "#2a3f5f",
             "gridcolor": "white",
             "linecolor": "white",
             "minorgridcolor": "white",
             "startlinecolor": "#2a3f5f"
            },
            "baxis": {
             "endlinecolor": "#2a3f5f",
             "gridcolor": "white",
             "linecolor": "white",
             "minorgridcolor": "white",
             "startlinecolor": "#2a3f5f"
            },
            "type": "carpet"
           }
          ],
          "choropleth": [
           {
            "colorbar": {
             "outlinewidth": 0,
             "ticks": ""
            },
            "type": "choropleth"
           }
          ],
          "contour": [
           {
            "colorbar": {
             "outlinewidth": 0,
             "ticks": ""
            },
            "colorscale": [
             [
              0,
              "#0d0887"
             ],
             [
              0.1111111111111111,
              "#46039f"
             ],
             [
              0.2222222222222222,
              "#7201a8"
             ],
             [
              0.3333333333333333,
              "#9c179e"
             ],
             [
              0.4444444444444444,
              "#bd3786"
             ],
             [
              0.5555555555555556,
              "#d8576b"
             ],
             [
              0.6666666666666666,
              "#ed7953"
             ],
             [
              0.7777777777777778,
              "#fb9f3a"
             ],
             [
              0.8888888888888888,
              "#fdca26"
             ],
             [
              1,
              "#f0f921"
             ]
            ],
            "type": "contour"
           }
          ],
          "contourcarpet": [
           {
            "colorbar": {
             "outlinewidth": 0,
             "ticks": ""
            },
            "type": "contourcarpet"
           }
          ],
          "heatmap": [
           {
            "colorbar": {
             "outlinewidth": 0,
             "ticks": ""
            },
            "colorscale": [
             [
              0,
              "#0d0887"
             ],
             [
              0.1111111111111111,
              "#46039f"
             ],
             [
              0.2222222222222222,
              "#7201a8"
             ],
             [
              0.3333333333333333,
              "#9c179e"
             ],
             [
              0.4444444444444444,
              "#bd3786"
             ],
             [
              0.5555555555555556,
              "#d8576b"
             ],
             [
              0.6666666666666666,
              "#ed7953"
             ],
             [
              0.7777777777777778,
              "#fb9f3a"
             ],
             [
              0.8888888888888888,
              "#fdca26"
             ],
             [
              1,
              "#f0f921"
             ]
            ],
            "type": "heatmap"
           }
          ],
          "heatmapgl": [
           {
            "colorbar": {
             "outlinewidth": 0,
             "ticks": ""
            },
            "colorscale": [
             [
              0,
              "#0d0887"
             ],
             [
              0.1111111111111111,
              "#46039f"
             ],
             [
              0.2222222222222222,
              "#7201a8"
             ],
             [
              0.3333333333333333,
              "#9c179e"
             ],
             [
              0.4444444444444444,
              "#bd3786"
             ],
             [
              0.5555555555555556,
              "#d8576b"
             ],
             [
              0.6666666666666666,
              "#ed7953"
             ],
             [
              0.7777777777777778,
              "#fb9f3a"
             ],
             [
              0.8888888888888888,
              "#fdca26"
             ],
             [
              1,
              "#f0f921"
             ]
            ],
            "type": "heatmapgl"
           }
          ],
          "histogram": [
           {
            "marker": {
             "pattern": {
              "fillmode": "overlay",
              "size": 10,
              "solidity": 0.2
             }
            },
            "type": "histogram"
           }
          ],
          "histogram2d": [
           {
            "colorbar": {
             "outlinewidth": 0,
             "ticks": ""
            },
            "colorscale": [
             [
              0,
              "#0d0887"
             ],
             [
              0.1111111111111111,
              "#46039f"
             ],
             [
              0.2222222222222222,
              "#7201a8"
             ],
             [
              0.3333333333333333,
              "#9c179e"
             ],
             [
              0.4444444444444444,
              "#bd3786"
             ],
             [
              0.5555555555555556,
              "#d8576b"
             ],
             [
              0.6666666666666666,
              "#ed7953"
             ],
             [
              0.7777777777777778,
              "#fb9f3a"
             ],
             [
              0.8888888888888888,
              "#fdca26"
             ],
             [
              1,
              "#f0f921"
             ]
            ],
            "type": "histogram2d"
           }
          ],
          "histogram2dcontour": [
           {
            "colorbar": {
             "outlinewidth": 0,
             "ticks": ""
            },
            "colorscale": [
             [
              0,
              "#0d0887"
             ],
             [
              0.1111111111111111,
              "#46039f"
             ],
             [
              0.2222222222222222,
              "#7201a8"
             ],
             [
              0.3333333333333333,
              "#9c179e"
             ],
             [
              0.4444444444444444,
              "#bd3786"
             ],
             [
              0.5555555555555556,
              "#d8576b"
             ],
             [
              0.6666666666666666,
              "#ed7953"
             ],
             [
              0.7777777777777778,
              "#fb9f3a"
             ],
             [
              0.8888888888888888,
              "#fdca26"
             ],
             [
              1,
              "#f0f921"
             ]
            ],
            "type": "histogram2dcontour"
           }
          ],
          "mesh3d": [
           {
            "colorbar": {
             "outlinewidth": 0,
             "ticks": ""
            },
            "type": "mesh3d"
           }
          ],
          "parcoords": [
           {
            "line": {
             "colorbar": {
              "outlinewidth": 0,
              "ticks": ""
             }
            },
            "type": "parcoords"
           }
          ],
          "pie": [
           {
            "automargin": true,
            "type": "pie"
           }
          ],
          "scatter": [
           {
            "fillpattern": {
             "fillmode": "overlay",
             "size": 10,
             "solidity": 0.2
            },
            "type": "scatter"
           }
          ],
          "scatter3d": [
           {
            "line": {
             "colorbar": {
              "outlinewidth": 0,
              "ticks": ""
             }
            },
            "marker": {
             "colorbar": {
              "outlinewidth": 0,
              "ticks": ""
             }
            },
            "type": "scatter3d"
           }
          ],
          "scattercarpet": [
           {
            "marker": {
             "colorbar": {
              "outlinewidth": 0,
              "ticks": ""
             }
            },
            "type": "scattercarpet"
           }
          ],
          "scattergeo": [
           {
            "marker": {
             "colorbar": {
              "outlinewidth": 0,
              "ticks": ""
             }
            },
            "type": "scattergeo"
           }
          ],
          "scattergl": [
           {
            "marker": {
             "colorbar": {
              "outlinewidth": 0,
              "ticks": ""
             }
            },
            "type": "scattergl"
           }
          ],
          "scattermapbox": [
           {
            "marker": {
             "colorbar": {
              "outlinewidth": 0,
              "ticks": ""
             }
            },
            "type": "scattermapbox"
           }
          ],
          "scatterpolar": [
           {
            "marker": {
             "colorbar": {
              "outlinewidth": 0,
              "ticks": ""
             }
            },
            "type": "scatterpolar"
           }
          ],
          "scatterpolargl": [
           {
            "marker": {
             "colorbar": {
              "outlinewidth": 0,
              "ticks": ""
             }
            },
            "type": "scatterpolargl"
           }
          ],
          "scatterternary": [
           {
            "marker": {
             "colorbar": {
              "outlinewidth": 0,
              "ticks": ""
             }
            },
            "type": "scatterternary"
           }
          ],
          "surface": [
           {
            "colorbar": {
             "outlinewidth": 0,
             "ticks": ""
            },
            "colorscale": [
             [
              0,
              "#0d0887"
             ],
             [
              0.1111111111111111,
              "#46039f"
             ],
             [
              0.2222222222222222,
              "#7201a8"
             ],
             [
              0.3333333333333333,
              "#9c179e"
             ],
             [
              0.4444444444444444,
              "#bd3786"
             ],
             [
              0.5555555555555556,
              "#d8576b"
             ],
             [
              0.6666666666666666,
              "#ed7953"
             ],
             [
              0.7777777777777778,
              "#fb9f3a"
             ],
             [
              0.8888888888888888,
              "#fdca26"
             ],
             [
              1,
              "#f0f921"
             ]
            ],
            "type": "surface"
           }
          ],
          "table": [
           {
            "cells": {
             "fill": {
              "color": "#EBF0F8"
             },
             "line": {
              "color": "white"
             }
            },
            "header": {
             "fill": {
              "color": "#C8D4E3"
             },
             "line": {
              "color": "white"
             }
            },
            "type": "table"
           }
          ]
         },
         "layout": {
          "annotationdefaults": {
           "arrowcolor": "#2a3f5f",
           "arrowhead": 0,
           "arrowwidth": 1
          },
          "autotypenumbers": "strict",
          "coloraxis": {
           "colorbar": {
            "outlinewidth": 0,
            "ticks": ""
           }
          },
          "colorscale": {
           "diverging": [
            [
             0,
             "#8e0152"
            ],
            [
             0.1,
             "#c51b7d"
            ],
            [
             0.2,
             "#de77ae"
            ],
            [
             0.3,
             "#f1b6da"
            ],
            [
             0.4,
             "#fde0ef"
            ],
            [
             0.5,
             "#f7f7f7"
            ],
            [
             0.6,
             "#e6f5d0"
            ],
            [
             0.7,
             "#b8e186"
            ],
            [
             0.8,
             "#7fbc41"
            ],
            [
             0.9,
             "#4d9221"
            ],
            [
             1,
             "#276419"
            ]
           ],
           "sequential": [
            [
             0,
             "#0d0887"
            ],
            [
             0.1111111111111111,
             "#46039f"
            ],
            [
             0.2222222222222222,
             "#7201a8"
            ],
            [
             0.3333333333333333,
             "#9c179e"
            ],
            [
             0.4444444444444444,
             "#bd3786"
            ],
            [
             0.5555555555555556,
             "#d8576b"
            ],
            [
             0.6666666666666666,
             "#ed7953"
            ],
            [
             0.7777777777777778,
             "#fb9f3a"
            ],
            [
             0.8888888888888888,
             "#fdca26"
            ],
            [
             1,
             "#f0f921"
            ]
           ],
           "sequentialminus": [
            [
             0,
             "#0d0887"
            ],
            [
             0.1111111111111111,
             "#46039f"
            ],
            [
             0.2222222222222222,
             "#7201a8"
            ],
            [
             0.3333333333333333,
             "#9c179e"
            ],
            [
             0.4444444444444444,
             "#bd3786"
            ],
            [
             0.5555555555555556,
             "#d8576b"
            ],
            [
             0.6666666666666666,
             "#ed7953"
            ],
            [
             0.7777777777777778,
             "#fb9f3a"
            ],
            [
             0.8888888888888888,
             "#fdca26"
            ],
            [
             1,
             "#f0f921"
            ]
           ]
          },
          "colorway": [
           "#636efa",
           "#EF553B",
           "#00cc96",
           "#ab63fa",
           "#FFA15A",
           "#19d3f3",
           "#FF6692",
           "#B6E880",
           "#FF97FF",
           "#FECB52"
          ],
          "font": {
           "color": "#2a3f5f"
          },
          "geo": {
           "bgcolor": "white",
           "lakecolor": "white",
           "landcolor": "#E5ECF6",
           "showlakes": true,
           "showland": true,
           "subunitcolor": "white"
          },
          "hoverlabel": {
           "align": "left"
          },
          "hovermode": "closest",
          "mapbox": {
           "style": "light"
          },
          "paper_bgcolor": "white",
          "plot_bgcolor": "#E5ECF6",
          "polar": {
           "angularaxis": {
            "gridcolor": "white",
            "linecolor": "white",
            "ticks": ""
           },
           "bgcolor": "#E5ECF6",
           "radialaxis": {
            "gridcolor": "white",
            "linecolor": "white",
            "ticks": ""
           }
          },
          "scene": {
           "xaxis": {
            "backgroundcolor": "#E5ECF6",
            "gridcolor": "white",
            "gridwidth": 2,
            "linecolor": "white",
            "showbackground": true,
            "ticks": "",
            "zerolinecolor": "white"
           },
           "yaxis": {
            "backgroundcolor": "#E5ECF6",
            "gridcolor": "white",
            "gridwidth": 2,
            "linecolor": "white",
            "showbackground": true,
            "ticks": "",
            "zerolinecolor": "white"
           },
           "zaxis": {
            "backgroundcolor": "#E5ECF6",
            "gridcolor": "white",
            "gridwidth": 2,
            "linecolor": "white",
            "showbackground": true,
            "ticks": "",
            "zerolinecolor": "white"
           }
          },
          "shapedefaults": {
           "line": {
            "color": "#2a3f5f"
           }
          },
          "ternary": {
           "aaxis": {
            "gridcolor": "white",
            "linecolor": "white",
            "ticks": ""
           },
           "baxis": {
            "gridcolor": "white",
            "linecolor": "white",
            "ticks": ""
           },
           "bgcolor": "#E5ECF6",
           "caxis": {
            "gridcolor": "white",
            "linecolor": "white",
            "ticks": ""
           }
          },
          "title": {
           "x": 0.05
          },
          "xaxis": {
           "automargin": true,
           "gridcolor": "white",
           "linecolor": "white",
           "ticks": "",
           "title": {
            "standoff": 15
           },
           "zerolinecolor": "white",
           "zerolinewidth": 2
          },
          "yaxis": {
           "automargin": true,
           "gridcolor": "white",
           "linecolor": "white",
           "ticks": "",
           "title": {
            "standoff": 15
           },
           "zerolinecolor": "white",
           "zerolinewidth": 2
          }
         }
        },
        "title": {
         "text": "Cantidad de Restaurantes por Municipio"
        }
       }
      }
     },
     "metadata": {},
     "output_type": "display_data"
    },
    {
     "name": "stdout",
     "output_type": "stream",
     "text": [
      "Total de Restaurantes:  188\n"
     ]
    }
   ],
   "source": [
    "#Tabla con la cantidad de jsons que hay de cada municipio :)\n",
    "municipio = data2[\"location.municipe\"].str.lower().str.strip()\n",
    "\n",
    "restaurantes_municipio = municipio.value_counts().reset_index()\n",
    "restaurantes_municipio.columns = [\"municipio\", \"cantidad_restaurantes\"]\n",
    "\n",
    "\n",
    "fig = go.Figure(data=[go.Table(\n",
    "    header=dict(values=[\"Municipio\", \"Cantidad de Restaurantes\"],\n",
    "                fill_color=\"green\",\n",
    "                align=\"left\"),\n",
    "    cells=dict(values=[restaurantes_municipio[\"municipio\"], restaurantes_municipio[\"cantidad_restaurantes\"]],\n",
    "               fill_color=\"lavender\",\n",
    "               align=\"left\"))\n",
    "])\n",
    "\n",
    "\n",
    "fig.update_layout(title=\"Cantidad de Restaurantes por Municipio\")\n",
    "fig.show()\n",
    "\n",
    "total = restaurantes_municipio['cantidad_restaurantes'].sum()\n",
    "print(\"Total de Restaurantes: \",total)\n"
   ]
  },
  {
   "cell_type": "markdown",
   "metadata": {},
   "source": [
    "Lo primero era estudiar el mercado para conocer los precios de la competencia, él quería que sus precios estuvieran por debajo de una gran parte de los restaurantes de \"glamour\", que como le decía su madre: \"mijo ese lugar es solo para turistas\", porque siempre consideró los precios \"locos\" un abuso para el cubano de a pie y quería que su restaurante, aunque no tuviera mucho lujo, fuera algo absequible al menos para la mayoría."
   ]
  },
  {
   "cell_type": "code",
   "execution_count": 7,
   "metadata": {},
   "outputs": [
    {
     "data": {
      "application/vnd.jupyter.widget-view+json": {
       "model_id": "9c5bbe5d3bda4f61a8053c567cc5d8c2",
       "version_major": 2,
       "version_minor": 0
      },
      "text/plain": [
       "interactive(children=(Dropdown(description='Municipio:', options=('Regla', 'Marianao', 'Habana del Este', 'Hab…"
      ]
     },
     "metadata": {},
     "output_type": "display_data"
    },
    {
     "data": {
      "text/plain": [
       "<function __main__.mostrar_tabla(i)>"
      ]
     },
     "execution_count": 7,
     "metadata": {},
     "output_type": "execute_result"
    }
   ],
   "source": [
    "data2[\"menu_price\"] = data2.apply(bp.c_precio_medio, axis=1)\n",
    "\n",
    "data3 = data2.dropna(subset=[\"menu_price\"])\n",
    "\n",
    "data3 = data2.sort_values(by=[\"location.municipe\", \"menu_price\"], ascending=[True, True])\n",
    "\n",
    "municipios = data2[\"location.municipe\"].unique()\n",
    "info_municipio = {}\n",
    "for i in municipios:\n",
    "    info_municipio[i] = data3[data3[\"location.municipe\"] == i ]\n",
    "\n",
    "def mostrar_tabla(i):\n",
    "    display(info_municipio[i][[\"name\", \"menu_price\"]])\n",
    "\n",
    "selector_municipio = wi.Dropdown(options=municipios, description=\"Municipio:\")\n",
    "wi.interact(mostrar_tabla, i=selector_municipio)\n",
    "\n"
   ]
  },
  {
   "cell_type": "markdown",
   "metadata": {},
   "source": [
    "Después que quedó comprobado que la media de los precios de los diferentes citios iban desde los 400 cup en pequeños cafés, o cafeterias estatales, hasta 4000 cup en restaurantes más refiinados en el corazón del Vedado o en las históricas plazas de la Habana Vieja, decidió que el suyo tendría un media de 1000 cup ya conocía el dato de que el salario medio de los cubanos es de 4.648 cup según la Oficina Nacional de Estadística e Información (ONEI) y dado que el precio medio de su restaurante vendría siendo el 21.51% de del sueldo, no le parecía lo más correcto, pero no podía hacer nada más debido al aumento de los precios de los productos que necesitaría para elaborar su menú.\n",
    "\n",
    "\n",
    "\n"
   ]
  },
  {
   "cell_type": "markdown",
   "metadata": {},
   "source": [
    "\n"
   ]
  },
  {
   "cell_type": "markdown",
   "metadata": {},
   "source": [
    "Ay!!, mijo lo único que te va a pedir tu madre es que por favor no me pongas a preparar moderneses tu sabes que mi cocina es a la antigua y compra sazones naturales que para tí no es novedad el odio que le tengo a cocinar con polvitos de esos.\n",
    "\n",
    "-Alejandro: Tranquila vieja, aquí se cocina lo que tú digas y sabes que no hay cosa que nos guste más a nosotros que los platillos comunes, aqui no somos de caviar, ni de salmón, hasta el restaurante mas glamuroso de La Habana tiene que tener en su menú una oferta de ropa vieja y unas buenas croquetas."
   ]
  },
  {
   "cell_type": "code",
   "execution_count": 8,
   "metadata": {},
   "outputs": [
    {
     "data": {
      "application/vnd.plotly.v1+json": {
       "config": {
        "plotlyServerURL": "https://plot.ly"
       },
       "data": [
        {
         "marker": {
          "color": "red"
         },
         "name": "Entrantes",
         "type": "bar",
         "visible": true,
         "x": [
          "frituras de malanga",
          "croquetas",
          "papas fritas"
         ],
         "y": [
          40,
          36,
          34
         ]
        },
        {
         "marker": {
          "color": "blue"
         },
         "name": "Principales",
         "type": "bar",
         "visible": false,
         "x": [
          "ropa vieja",
          "bistec de cerdo",
          "vaca frita"
         ],
         "y": [
          38,
          25,
          20
         ]
        },
        {
         "marker": {
          "color": "green"
         },
         "name": "Pizzas",
         "type": "bar",
         "visible": false,
         "x": [
          "pizza napolitana",
          "pizza hawaiana",
          "pizza de queso"
         ],
         "y": [
          30,
          25,
          17
         ]
        },
        {
         "marker": {
          "color": "orange"
         },
         "name": "Postres",
         "type": "bar",
         "visible": false,
         "x": [
          "flan",
          "copa de helado",
          "copa lolita"
         ],
         "y": [
          17,
          15,
          13
         ]
        },
        {
         "marker": {
          "color": "purple"
         },
         "name": "Cocteles",
         "type": "bar",
         "visible": false,
         "x": [
          "cuba libre",
          "mojito",
          "pina colada"
         ],
         "y": [
          62,
          58,
          55
         ]
        }
       ],
       "layout": {
        "template": {
         "data": {
          "bar": [
           {
            "error_x": {
             "color": "#2a3f5f"
            },
            "error_y": {
             "color": "#2a3f5f"
            },
            "marker": {
             "line": {
              "color": "#E5ECF6",
              "width": 0.5
             },
             "pattern": {
              "fillmode": "overlay",
              "size": 10,
              "solidity": 0.2
             }
            },
            "type": "bar"
           }
          ],
          "barpolar": [
           {
            "marker": {
             "line": {
              "color": "#E5ECF6",
              "width": 0.5
             },
             "pattern": {
              "fillmode": "overlay",
              "size": 10,
              "solidity": 0.2
             }
            },
            "type": "barpolar"
           }
          ],
          "carpet": [
           {
            "aaxis": {
             "endlinecolor": "#2a3f5f",
             "gridcolor": "white",
             "linecolor": "white",
             "minorgridcolor": "white",
             "startlinecolor": "#2a3f5f"
            },
            "baxis": {
             "endlinecolor": "#2a3f5f",
             "gridcolor": "white",
             "linecolor": "white",
             "minorgridcolor": "white",
             "startlinecolor": "#2a3f5f"
            },
            "type": "carpet"
           }
          ],
          "choropleth": [
           {
            "colorbar": {
             "outlinewidth": 0,
             "ticks": ""
            },
            "type": "choropleth"
           }
          ],
          "contour": [
           {
            "colorbar": {
             "outlinewidth": 0,
             "ticks": ""
            },
            "colorscale": [
             [
              0,
              "#0d0887"
             ],
             [
              0.1111111111111111,
              "#46039f"
             ],
             [
              0.2222222222222222,
              "#7201a8"
             ],
             [
              0.3333333333333333,
              "#9c179e"
             ],
             [
              0.4444444444444444,
              "#bd3786"
             ],
             [
              0.5555555555555556,
              "#d8576b"
             ],
             [
              0.6666666666666666,
              "#ed7953"
             ],
             [
              0.7777777777777778,
              "#fb9f3a"
             ],
             [
              0.8888888888888888,
              "#fdca26"
             ],
             [
              1,
              "#f0f921"
             ]
            ],
            "type": "contour"
           }
          ],
          "contourcarpet": [
           {
            "colorbar": {
             "outlinewidth": 0,
             "ticks": ""
            },
            "type": "contourcarpet"
           }
          ],
          "heatmap": [
           {
            "colorbar": {
             "outlinewidth": 0,
             "ticks": ""
            },
            "colorscale": [
             [
              0,
              "#0d0887"
             ],
             [
              0.1111111111111111,
              "#46039f"
             ],
             [
              0.2222222222222222,
              "#7201a8"
             ],
             [
              0.3333333333333333,
              "#9c179e"
             ],
             [
              0.4444444444444444,
              "#bd3786"
             ],
             [
              0.5555555555555556,
              "#d8576b"
             ],
             [
              0.6666666666666666,
              "#ed7953"
             ],
             [
              0.7777777777777778,
              "#fb9f3a"
             ],
             [
              0.8888888888888888,
              "#fdca26"
             ],
             [
              1,
              "#f0f921"
             ]
            ],
            "type": "heatmap"
           }
          ],
          "heatmapgl": [
           {
            "colorbar": {
             "outlinewidth": 0,
             "ticks": ""
            },
            "colorscale": [
             [
              0,
              "#0d0887"
             ],
             [
              0.1111111111111111,
              "#46039f"
             ],
             [
              0.2222222222222222,
              "#7201a8"
             ],
             [
              0.3333333333333333,
              "#9c179e"
             ],
             [
              0.4444444444444444,
              "#bd3786"
             ],
             [
              0.5555555555555556,
              "#d8576b"
             ],
             [
              0.6666666666666666,
              "#ed7953"
             ],
             [
              0.7777777777777778,
              "#fb9f3a"
             ],
             [
              0.8888888888888888,
              "#fdca26"
             ],
             [
              1,
              "#f0f921"
             ]
            ],
            "type": "heatmapgl"
           }
          ],
          "histogram": [
           {
            "marker": {
             "pattern": {
              "fillmode": "overlay",
              "size": 10,
              "solidity": 0.2
             }
            },
            "type": "histogram"
           }
          ],
          "histogram2d": [
           {
            "colorbar": {
             "outlinewidth": 0,
             "ticks": ""
            },
            "colorscale": [
             [
              0,
              "#0d0887"
             ],
             [
              0.1111111111111111,
              "#46039f"
             ],
             [
              0.2222222222222222,
              "#7201a8"
             ],
             [
              0.3333333333333333,
              "#9c179e"
             ],
             [
              0.4444444444444444,
              "#bd3786"
             ],
             [
              0.5555555555555556,
              "#d8576b"
             ],
             [
              0.6666666666666666,
              "#ed7953"
             ],
             [
              0.7777777777777778,
              "#fb9f3a"
             ],
             [
              0.8888888888888888,
              "#fdca26"
             ],
             [
              1,
              "#f0f921"
             ]
            ],
            "type": "histogram2d"
           }
          ],
          "histogram2dcontour": [
           {
            "colorbar": {
             "outlinewidth": 0,
             "ticks": ""
            },
            "colorscale": [
             [
              0,
              "#0d0887"
             ],
             [
              0.1111111111111111,
              "#46039f"
             ],
             [
              0.2222222222222222,
              "#7201a8"
             ],
             [
              0.3333333333333333,
              "#9c179e"
             ],
             [
              0.4444444444444444,
              "#bd3786"
             ],
             [
              0.5555555555555556,
              "#d8576b"
             ],
             [
              0.6666666666666666,
              "#ed7953"
             ],
             [
              0.7777777777777778,
              "#fb9f3a"
             ],
             [
              0.8888888888888888,
              "#fdca26"
             ],
             [
              1,
              "#f0f921"
             ]
            ],
            "type": "histogram2dcontour"
           }
          ],
          "mesh3d": [
           {
            "colorbar": {
             "outlinewidth": 0,
             "ticks": ""
            },
            "type": "mesh3d"
           }
          ],
          "parcoords": [
           {
            "line": {
             "colorbar": {
              "outlinewidth": 0,
              "ticks": ""
             }
            },
            "type": "parcoords"
           }
          ],
          "pie": [
           {
            "automargin": true,
            "type": "pie"
           }
          ],
          "scatter": [
           {
            "fillpattern": {
             "fillmode": "overlay",
             "size": 10,
             "solidity": 0.2
            },
            "type": "scatter"
           }
          ],
          "scatter3d": [
           {
            "line": {
             "colorbar": {
              "outlinewidth": 0,
              "ticks": ""
             }
            },
            "marker": {
             "colorbar": {
              "outlinewidth": 0,
              "ticks": ""
             }
            },
            "type": "scatter3d"
           }
          ],
          "scattercarpet": [
           {
            "marker": {
             "colorbar": {
              "outlinewidth": 0,
              "ticks": ""
             }
            },
            "type": "scattercarpet"
           }
          ],
          "scattergeo": [
           {
            "marker": {
             "colorbar": {
              "outlinewidth": 0,
              "ticks": ""
             }
            },
            "type": "scattergeo"
           }
          ],
          "scattergl": [
           {
            "marker": {
             "colorbar": {
              "outlinewidth": 0,
              "ticks": ""
             }
            },
            "type": "scattergl"
           }
          ],
          "scattermapbox": [
           {
            "marker": {
             "colorbar": {
              "outlinewidth": 0,
              "ticks": ""
             }
            },
            "type": "scattermapbox"
           }
          ],
          "scatterpolar": [
           {
            "marker": {
             "colorbar": {
              "outlinewidth": 0,
              "ticks": ""
             }
            },
            "type": "scatterpolar"
           }
          ],
          "scatterpolargl": [
           {
            "marker": {
             "colorbar": {
              "outlinewidth": 0,
              "ticks": ""
             }
            },
            "type": "scatterpolargl"
           }
          ],
          "scatterternary": [
           {
            "marker": {
             "colorbar": {
              "outlinewidth": 0,
              "ticks": ""
             }
            },
            "type": "scatterternary"
           }
          ],
          "surface": [
           {
            "colorbar": {
             "outlinewidth": 0,
             "ticks": ""
            },
            "colorscale": [
             [
              0,
              "#0d0887"
             ],
             [
              0.1111111111111111,
              "#46039f"
             ],
             [
              0.2222222222222222,
              "#7201a8"
             ],
             [
              0.3333333333333333,
              "#9c179e"
             ],
             [
              0.4444444444444444,
              "#bd3786"
             ],
             [
              0.5555555555555556,
              "#d8576b"
             ],
             [
              0.6666666666666666,
              "#ed7953"
             ],
             [
              0.7777777777777778,
              "#fb9f3a"
             ],
             [
              0.8888888888888888,
              "#fdca26"
             ],
             [
              1,
              "#f0f921"
             ]
            ],
            "type": "surface"
           }
          ],
          "table": [
           {
            "cells": {
             "fill": {
              "color": "#EBF0F8"
             },
             "line": {
              "color": "white"
             }
            },
            "header": {
             "fill": {
              "color": "#C8D4E3"
             },
             "line": {
              "color": "white"
             }
            },
            "type": "table"
           }
          ]
         },
         "layout": {
          "annotationdefaults": {
           "arrowcolor": "#2a3f5f",
           "arrowhead": 0,
           "arrowwidth": 1
          },
          "autotypenumbers": "strict",
          "coloraxis": {
           "colorbar": {
            "outlinewidth": 0,
            "ticks": ""
           }
          },
          "colorscale": {
           "diverging": [
            [
             0,
             "#8e0152"
            ],
            [
             0.1,
             "#c51b7d"
            ],
            [
             0.2,
             "#de77ae"
            ],
            [
             0.3,
             "#f1b6da"
            ],
            [
             0.4,
             "#fde0ef"
            ],
            [
             0.5,
             "#f7f7f7"
            ],
            [
             0.6,
             "#e6f5d0"
            ],
            [
             0.7,
             "#b8e186"
            ],
            [
             0.8,
             "#7fbc41"
            ],
            [
             0.9,
             "#4d9221"
            ],
            [
             1,
             "#276419"
            ]
           ],
           "sequential": [
            [
             0,
             "#0d0887"
            ],
            [
             0.1111111111111111,
             "#46039f"
            ],
            [
             0.2222222222222222,
             "#7201a8"
            ],
            [
             0.3333333333333333,
             "#9c179e"
            ],
            [
             0.4444444444444444,
             "#bd3786"
            ],
            [
             0.5555555555555556,
             "#d8576b"
            ],
            [
             0.6666666666666666,
             "#ed7953"
            ],
            [
             0.7777777777777778,
             "#fb9f3a"
            ],
            [
             0.8888888888888888,
             "#fdca26"
            ],
            [
             1,
             "#f0f921"
            ]
           ],
           "sequentialminus": [
            [
             0,
             "#0d0887"
            ],
            [
             0.1111111111111111,
             "#46039f"
            ],
            [
             0.2222222222222222,
             "#7201a8"
            ],
            [
             0.3333333333333333,
             "#9c179e"
            ],
            [
             0.4444444444444444,
             "#bd3786"
            ],
            [
             0.5555555555555556,
             "#d8576b"
            ],
            [
             0.6666666666666666,
             "#ed7953"
            ],
            [
             0.7777777777777778,
             "#fb9f3a"
            ],
            [
             0.8888888888888888,
             "#fdca26"
            ],
            [
             1,
             "#f0f921"
            ]
           ]
          },
          "colorway": [
           "#636efa",
           "#EF553B",
           "#00cc96",
           "#ab63fa",
           "#FFA15A",
           "#19d3f3",
           "#FF6692",
           "#B6E880",
           "#FF97FF",
           "#FECB52"
          ],
          "font": {
           "color": "#2a3f5f"
          },
          "geo": {
           "bgcolor": "white",
           "lakecolor": "white",
           "landcolor": "#E5ECF6",
           "showlakes": true,
           "showland": true,
           "subunitcolor": "white"
          },
          "hoverlabel": {
           "align": "left"
          },
          "hovermode": "closest",
          "mapbox": {
           "style": "light"
          },
          "paper_bgcolor": "white",
          "plot_bgcolor": "#E5ECF6",
          "polar": {
           "angularaxis": {
            "gridcolor": "white",
            "linecolor": "white",
            "ticks": ""
           },
           "bgcolor": "#E5ECF6",
           "radialaxis": {
            "gridcolor": "white",
            "linecolor": "white",
            "ticks": ""
           }
          },
          "scene": {
           "xaxis": {
            "backgroundcolor": "#E5ECF6",
            "gridcolor": "white",
            "gridwidth": 2,
            "linecolor": "white",
            "showbackground": true,
            "ticks": "",
            "zerolinecolor": "white"
           },
           "yaxis": {
            "backgroundcolor": "#E5ECF6",
            "gridcolor": "white",
            "gridwidth": 2,
            "linecolor": "white",
            "showbackground": true,
            "ticks": "",
            "zerolinecolor": "white"
           },
           "zaxis": {
            "backgroundcolor": "#E5ECF6",
            "gridcolor": "white",
            "gridwidth": 2,
            "linecolor": "white",
            "showbackground": true,
            "ticks": "",
            "zerolinecolor": "white"
           }
          },
          "shapedefaults": {
           "line": {
            "color": "#2a3f5f"
           }
          },
          "ternary": {
           "aaxis": {
            "gridcolor": "white",
            "linecolor": "white",
            "ticks": ""
           },
           "baxis": {
            "gridcolor": "white",
            "linecolor": "white",
            "ticks": ""
           },
           "bgcolor": "#E5ECF6",
           "caxis": {
            "gridcolor": "white",
            "linecolor": "white",
            "ticks": ""
           }
          },
          "title": {
           "x": 0.05
          },
          "xaxis": {
           "automargin": true,
           "gridcolor": "white",
           "linecolor": "white",
           "ticks": "",
           "title": {
            "standoff": 15
           },
           "zerolinecolor": "white",
           "zerolinewidth": 2
          },
          "yaxis": {
           "automargin": true,
           "gridcolor": "white",
           "linecolor": "white",
           "ticks": "",
           "title": {
            "standoff": 15
           },
           "zerolinecolor": "white",
           "zerolinewidth": 2
          }
         }
        },
        "updatemenus": [
         {
          "buttons": [
           {
            "args": [
             {
              "visible": [
               true,
               false,
               false,
               false,
               false
              ]
             },
             {
              "title": "Entrantes mas comunes"
             }
            ],
            "label": "Entrantes",
            "method": "update"
           },
           {
            "args": [
             {
              "visible": [
               false,
               true,
               false,
               false,
               false
              ]
             },
             {
              "title": "Principales mas comunes"
             }
            ],
            "label": "Principales",
            "method": "update"
           },
           {
            "args": [
             {
              "visible": [
               false,
               false,
               true,
               false,
               false
              ]
             },
             {
              "title": "Pizzas mas comunes"
             }
            ],
            "label": "Pizzas",
            "method": "update"
           },
           {
            "args": [
             {
              "visible": [
               false,
               false,
               false,
               true,
               false
              ]
             },
             {
              "title": "Postres mas comunes"
             }
            ],
            "label": "Postres",
            "method": "update"
           },
           {
            "args": [
             {
              "visible": [
               false,
               false,
               false,
               false,
               true
              ]
             },
             {
              "title": "Cocteles mas comunes"
             }
            ],
            "label": "Cocteles",
            "method": "update"
           }
          ],
          "showactive": true,
          "type": "buttons"
         }
        ]
       }
      }
     },
     "metadata": {},
     "output_type": "display_data"
    }
   ],
   "source": [
    "#Grafico de barras que muestra cuales son los 3 (entrantes,principales,pizzas,postres,cocteles) mas comunes en los menu :)\n",
    "\n",
    "entrantes_nombres = []\n",
    "entrantes_comunes = []\n",
    "\n",
    "for i, row in data.iterrows():\n",
    "    menu = row[\"menu\"]\n",
    "    if isinstance(menu, dict) and \"starters\" in menu:  \n",
    "        for starter in menu[\"starters\"]:\n",
    "            nombre = starter.get(\"item_name\")\n",
    "            if nombre is not None: \n",
    "                nombre_igualado =bp.i_nombre(nombre)\n",
    "                entrantes_nombres.append(nombre_igualado)\n",
    "counter = Counter(entrantes_nombres)\n",
    "tres_mas_comunes = counter.most_common(3)\n",
    "for nombre, frecuencia in tres_mas_comunes:\n",
    "    entrantes_comunes.append((nombre, frecuencia))\n",
    "    \n",
    "\n",
    "principales_nombres = []\n",
    "principales_comunes = []\n",
    "\n",
    "for i, row in data.iterrows():\n",
    "    menu = row[\"menu\"]\n",
    "    if isinstance(menu, dict) and \"mains\" in menu:  \n",
    "        for starter in menu[\"mains\"]:\n",
    "            nombre = starter.get(\"item_name\")\n",
    "            if nombre is not None: \n",
    "                nombre_igualado = bp.i_nombre(nombre)\n",
    "                principales_nombres.append(nombre_igualado)\n",
    "counter = Counter(principales_nombres)\n",
    "tres_mas_comunes = counter.most_common(3)\n",
    "for nombre, frecuencia in tres_mas_comunes:\n",
    "    principales_comunes.append((nombre, frecuencia))\n",
    "\n",
    "pizza_nombres = []\n",
    "pizza_comunes = []\n",
    "\n",
    "for i, row in data.iterrows():\n",
    "    menu = row[\"menu\"]\n",
    "    if isinstance(menu, dict) and \"pizza\" in menu:  \n",
    "        for starter in menu[\"pizza\"]:\n",
    "            nombre = starter.get(\"item_name\")\n",
    "            if nombre is not None: \n",
    "                nombre_igualado = bp.i_nombre(nombre)\n",
    "                pizza_nombres.append(nombre_igualado)\n",
    "counter = Counter(pizza_nombres)\n",
    "tres_mas_comunes = counter.most_common(3)\n",
    "for nombre, frecuencia in tres_mas_comunes:\n",
    "    pizza_comunes.append((nombre, frecuencia))\n",
    "\n",
    "postres_nombres = []\n",
    "postres_comunes = []\n",
    "\n",
    "for i, row in data.iterrows():\n",
    "    menu = row[\"menu\"]\n",
    "    if isinstance(menu, dict) and \"desserts\" in menu:  \n",
    "        for starter in menu[\"desserts\"]:\n",
    "            nombre = starter.get(\"item_name\")\n",
    "            if nombre is not None: \n",
    "                nombre_igualado = bp.i_nombre(nombre)\n",
    "                postres_nombres.append(nombre_igualado)\n",
    "counter = Counter(postres_nombres)\n",
    "tres_mas_comunes = counter.most_common(3)\n",
    "for nombre, frecuencia in tres_mas_comunes:\n",
    "    postres_comunes.append((nombre, frecuencia))\n",
    "\n",
    "\n",
    "cocteles_nombres = []\n",
    "cocteles_comunes = []\n",
    "for i, row in data.iterrows():\n",
    "    menu = row[\"menu\"]\n",
    "    if isinstance(menu, dict) and \"cocktails\" in menu:  \n",
    "        for cocktail in menu[\"cocktails\"]:\n",
    "            nombre = cocktail.get(\"item_name\")\n",
    "            if nombre is not None: \n",
    "                nombre_igualado = bp.i_nombre(nombre)\n",
    "                cocteles_nombres.append(nombre_igualado)\n",
    "counter = Counter(cocteles_nombres)\n",
    "tres_mas_comunes = counter.most_common(3)\n",
    "for nombre, frecuencia in tres_mas_comunes:\n",
    "    cocteles_comunes.append((nombre, frecuencia))\n",
    "\n",
    "starters = entrantes_comunes\n",
    "mains = principales_comunes\n",
    "pizzas = pizza_comunes\n",
    "desserts = postres_comunes\n",
    "cocktails = cocteles_comunes\n",
    "\n",
    "grafico_starters = bp.c_grafico(starters, \"Entrantes\", \"red\")\n",
    "grafico_mains = bp.c_grafico(mains, \"Principales\", \"blue\")\n",
    "grafico_pizzas = bp.c_grafico(pizzas, \"Pizzas\",\"green\")\n",
    "grafico_desserts = bp.c_grafico(desserts, \"Postres\", \"orange\")\n",
    "grafico_cocktails = bp.c_grafico(cocktails, \"Cocteles\", \"purple\")\n",
    "\n",
    "\n",
    "fig = go.Figure()\n",
    "\n",
    "\n",
    "fig.add_traces([grafico_starters, grafico_mains, grafico_pizzas, grafico_desserts, grafico_cocktails])\n",
    "\n",
    "fig.update_traces(visible=False)\n",
    "fig.data[0].visible = True  \n",
    "\n",
    "\n",
    "buttons = [\n",
    "    dict(label=\"Entrantes\", method=\"update\", args=[{\"visible\": [True, False, False, False, False]}, {\"title\": \"Entrantes mas comunes\"}]),\n",
    "    dict(label=\"Principales\", method=\"update\", args=[{\"visible\": [False, True, False, False, False]}, {\"title\": \"Principales mas comunes\"}]),\n",
    "    dict(label=\"Pizzas\", method=\"update\", args=[{\"visible\": [False, False, True, False, False]}, {\"title\": \"Pizzas mas comunes\"}]),\n",
    "    dict(label=\"Postres\", method=\"update\", args=[{\"visible\": [False, False, False, True, False]}, {\"title\": \"Postres mas comunes\"}]),\n",
    "    dict(label=\"Cocteles\", method=\"update\", args=[{\"visible\": [False, False, False, False, True]}, {\"title\": \"Cocteles mas comunes\"}]),]\n",
    "   \n",
    "fig.update_layout(\n",
    "    updatemenus=[\n",
    "        dict(\n",
    "            type=\"buttons\",\n",
    "            showactive=True,\n",
    "            buttons=buttons,\n",
    "        )\n",
    "    ]\n",
    ")\n",
    "\n",
    "pio.show(fig)"
   ]
  },
  {
   "cell_type": "markdown",
   "metadata": {},
   "source": [
    "Necesitaría saber cuales son los productos más caros que tendría que comprar para ir haciéndome una idea de cual tendría que ser la inversion en materia prima.\n",
    "\n",
    "-Caridad: Hay alejandro ni que fueras bobo, aqui todos sabemos que los más caros son los marisco y la carne de res\n",
    "\n",
    "Pero para que las cosas salgan bien todo conlleva una investigación."
   ]
  },
  {
   "cell_type": "code",
   "execution_count": 15,
   "metadata": {},
   "outputs": [
    {
     "data": {
      "application/vnd.plotly.v1+json": {
       "config": {
        "plotlyServerURL": "https://plot.ly"
       },
       "data": [
        {
         "alignmentgroup": "True",
         "hovertemplate": "Nombre del Plato=%{x}<br>Precio ($)=%{y}<extra></extra>",
         "legendgroup": "",
         "marker": {
          "color": "#636efa",
          "pattern": {
           "shape": ""
          }
         },
         "name": "",
         "offsetgroup": "",
         "orientation": "v",
         "showlegend": false,
         "textposition": "auto",
         "type": "bar",
         "x": [
          "Solomillo de res a la pimienta",
          "Cazuela de mariscos",
          "Pargo entero al gusto",
          "Langosta Termidor",
          "Camaron al gusto"
         ],
         "xaxis": "x",
         "y": [
          4200,
          3750,
          3750,
          3200,
          2800
         ],
         "yaxis": "y"
        }
       ],
       "layout": {
        "barmode": "relative",
        "legend": {
         "tracegroupgap": 0
        },
        "template": {
         "data": {
          "bar": [
           {
            "error_x": {
             "color": "#2a3f5f"
            },
            "error_y": {
             "color": "#2a3f5f"
            },
            "marker": {
             "line": {
              "color": "#E5ECF6",
              "width": 0.5
             },
             "pattern": {
              "fillmode": "overlay",
              "size": 10,
              "solidity": 0.2
             }
            },
            "type": "bar"
           }
          ],
          "barpolar": [
           {
            "marker": {
             "line": {
              "color": "#E5ECF6",
              "width": 0.5
             },
             "pattern": {
              "fillmode": "overlay",
              "size": 10,
              "solidity": 0.2
             }
            },
            "type": "barpolar"
           }
          ],
          "carpet": [
           {
            "aaxis": {
             "endlinecolor": "#2a3f5f",
             "gridcolor": "white",
             "linecolor": "white",
             "minorgridcolor": "white",
             "startlinecolor": "#2a3f5f"
            },
            "baxis": {
             "endlinecolor": "#2a3f5f",
             "gridcolor": "white",
             "linecolor": "white",
             "minorgridcolor": "white",
             "startlinecolor": "#2a3f5f"
            },
            "type": "carpet"
           }
          ],
          "choropleth": [
           {
            "colorbar": {
             "outlinewidth": 0,
             "ticks": ""
            },
            "type": "choropleth"
           }
          ],
          "contour": [
           {
            "colorbar": {
             "outlinewidth": 0,
             "ticks": ""
            },
            "colorscale": [
             [
              0,
              "#0d0887"
             ],
             [
              0.1111111111111111,
              "#46039f"
             ],
             [
              0.2222222222222222,
              "#7201a8"
             ],
             [
              0.3333333333333333,
              "#9c179e"
             ],
             [
              0.4444444444444444,
              "#bd3786"
             ],
             [
              0.5555555555555556,
              "#d8576b"
             ],
             [
              0.6666666666666666,
              "#ed7953"
             ],
             [
              0.7777777777777778,
              "#fb9f3a"
             ],
             [
              0.8888888888888888,
              "#fdca26"
             ],
             [
              1,
              "#f0f921"
             ]
            ],
            "type": "contour"
           }
          ],
          "contourcarpet": [
           {
            "colorbar": {
             "outlinewidth": 0,
             "ticks": ""
            },
            "type": "contourcarpet"
           }
          ],
          "heatmap": [
           {
            "colorbar": {
             "outlinewidth": 0,
             "ticks": ""
            },
            "colorscale": [
             [
              0,
              "#0d0887"
             ],
             [
              0.1111111111111111,
              "#46039f"
             ],
             [
              0.2222222222222222,
              "#7201a8"
             ],
             [
              0.3333333333333333,
              "#9c179e"
             ],
             [
              0.4444444444444444,
              "#bd3786"
             ],
             [
              0.5555555555555556,
              "#d8576b"
             ],
             [
              0.6666666666666666,
              "#ed7953"
             ],
             [
              0.7777777777777778,
              "#fb9f3a"
             ],
             [
              0.8888888888888888,
              "#fdca26"
             ],
             [
              1,
              "#f0f921"
             ]
            ],
            "type": "heatmap"
           }
          ],
          "heatmapgl": [
           {
            "colorbar": {
             "outlinewidth": 0,
             "ticks": ""
            },
            "colorscale": [
             [
              0,
              "#0d0887"
             ],
             [
              0.1111111111111111,
              "#46039f"
             ],
             [
              0.2222222222222222,
              "#7201a8"
             ],
             [
              0.3333333333333333,
              "#9c179e"
             ],
             [
              0.4444444444444444,
              "#bd3786"
             ],
             [
              0.5555555555555556,
              "#d8576b"
             ],
             [
              0.6666666666666666,
              "#ed7953"
             ],
             [
              0.7777777777777778,
              "#fb9f3a"
             ],
             [
              0.8888888888888888,
              "#fdca26"
             ],
             [
              1,
              "#f0f921"
             ]
            ],
            "type": "heatmapgl"
           }
          ],
          "histogram": [
           {
            "marker": {
             "pattern": {
              "fillmode": "overlay",
              "size": 10,
              "solidity": 0.2
             }
            },
            "type": "histogram"
           }
          ],
          "histogram2d": [
           {
            "colorbar": {
             "outlinewidth": 0,
             "ticks": ""
            },
            "colorscale": [
             [
              0,
              "#0d0887"
             ],
             [
              0.1111111111111111,
              "#46039f"
             ],
             [
              0.2222222222222222,
              "#7201a8"
             ],
             [
              0.3333333333333333,
              "#9c179e"
             ],
             [
              0.4444444444444444,
              "#bd3786"
             ],
             [
              0.5555555555555556,
              "#d8576b"
             ],
             [
              0.6666666666666666,
              "#ed7953"
             ],
             [
              0.7777777777777778,
              "#fb9f3a"
             ],
             [
              0.8888888888888888,
              "#fdca26"
             ],
             [
              1,
              "#f0f921"
             ]
            ],
            "type": "histogram2d"
           }
          ],
          "histogram2dcontour": [
           {
            "colorbar": {
             "outlinewidth": 0,
             "ticks": ""
            },
            "colorscale": [
             [
              0,
              "#0d0887"
             ],
             [
              0.1111111111111111,
              "#46039f"
             ],
             [
              0.2222222222222222,
              "#7201a8"
             ],
             [
              0.3333333333333333,
              "#9c179e"
             ],
             [
              0.4444444444444444,
              "#bd3786"
             ],
             [
              0.5555555555555556,
              "#d8576b"
             ],
             [
              0.6666666666666666,
              "#ed7953"
             ],
             [
              0.7777777777777778,
              "#fb9f3a"
             ],
             [
              0.8888888888888888,
              "#fdca26"
             ],
             [
              1,
              "#f0f921"
             ]
            ],
            "type": "histogram2dcontour"
           }
          ],
          "mesh3d": [
           {
            "colorbar": {
             "outlinewidth": 0,
             "ticks": ""
            },
            "type": "mesh3d"
           }
          ],
          "parcoords": [
           {
            "line": {
             "colorbar": {
              "outlinewidth": 0,
              "ticks": ""
             }
            },
            "type": "parcoords"
           }
          ],
          "pie": [
           {
            "automargin": true,
            "type": "pie"
           }
          ],
          "scatter": [
           {
            "fillpattern": {
             "fillmode": "overlay",
             "size": 10,
             "solidity": 0.2
            },
            "type": "scatter"
           }
          ],
          "scatter3d": [
           {
            "line": {
             "colorbar": {
              "outlinewidth": 0,
              "ticks": ""
             }
            },
            "marker": {
             "colorbar": {
              "outlinewidth": 0,
              "ticks": ""
             }
            },
            "type": "scatter3d"
           }
          ],
          "scattercarpet": [
           {
            "marker": {
             "colorbar": {
              "outlinewidth": 0,
              "ticks": ""
             }
            },
            "type": "scattercarpet"
           }
          ],
          "scattergeo": [
           {
            "marker": {
             "colorbar": {
              "outlinewidth": 0,
              "ticks": ""
             }
            },
            "type": "scattergeo"
           }
          ],
          "scattergl": [
           {
            "marker": {
             "colorbar": {
              "outlinewidth": 0,
              "ticks": ""
             }
            },
            "type": "scattergl"
           }
          ],
          "scattermapbox": [
           {
            "marker": {
             "colorbar": {
              "outlinewidth": 0,
              "ticks": ""
             }
            },
            "type": "scattermapbox"
           }
          ],
          "scatterpolar": [
           {
            "marker": {
             "colorbar": {
              "outlinewidth": 0,
              "ticks": ""
             }
            },
            "type": "scatterpolar"
           }
          ],
          "scatterpolargl": [
           {
            "marker": {
             "colorbar": {
              "outlinewidth": 0,
              "ticks": ""
             }
            },
            "type": "scatterpolargl"
           }
          ],
          "scatterternary": [
           {
            "marker": {
             "colorbar": {
              "outlinewidth": 0,
              "ticks": ""
             }
            },
            "type": "scatterternary"
           }
          ],
          "surface": [
           {
            "colorbar": {
             "outlinewidth": 0,
             "ticks": ""
            },
            "colorscale": [
             [
              0,
              "#0d0887"
             ],
             [
              0.1111111111111111,
              "#46039f"
             ],
             [
              0.2222222222222222,
              "#7201a8"
             ],
             [
              0.3333333333333333,
              "#9c179e"
             ],
             [
              0.4444444444444444,
              "#bd3786"
             ],
             [
              0.5555555555555556,
              "#d8576b"
             ],
             [
              0.6666666666666666,
              "#ed7953"
             ],
             [
              0.7777777777777778,
              "#fb9f3a"
             ],
             [
              0.8888888888888888,
              "#fdca26"
             ],
             [
              1,
              "#f0f921"
             ]
            ],
            "type": "surface"
           }
          ],
          "table": [
           {
            "cells": {
             "fill": {
              "color": "#EBF0F8"
             },
             "line": {
              "color": "white"
             }
            },
            "header": {
             "fill": {
              "color": "#C8D4E3"
             },
             "line": {
              "color": "white"
             }
            },
            "type": "table"
           }
          ]
         },
         "layout": {
          "annotationdefaults": {
           "arrowcolor": "#2a3f5f",
           "arrowhead": 0,
           "arrowwidth": 1
          },
          "autotypenumbers": "strict",
          "coloraxis": {
           "colorbar": {
            "outlinewidth": 0,
            "ticks": ""
           }
          },
          "colorscale": {
           "diverging": [
            [
             0,
             "#8e0152"
            ],
            [
             0.1,
             "#c51b7d"
            ],
            [
             0.2,
             "#de77ae"
            ],
            [
             0.3,
             "#f1b6da"
            ],
            [
             0.4,
             "#fde0ef"
            ],
            [
             0.5,
             "#f7f7f7"
            ],
            [
             0.6,
             "#e6f5d0"
            ],
            [
             0.7,
             "#b8e186"
            ],
            [
             0.8,
             "#7fbc41"
            ],
            [
             0.9,
             "#4d9221"
            ],
            [
             1,
             "#276419"
            ]
           ],
           "sequential": [
            [
             0,
             "#0d0887"
            ],
            [
             0.1111111111111111,
             "#46039f"
            ],
            [
             0.2222222222222222,
             "#7201a8"
            ],
            [
             0.3333333333333333,
             "#9c179e"
            ],
            [
             0.4444444444444444,
             "#bd3786"
            ],
            [
             0.5555555555555556,
             "#d8576b"
            ],
            [
             0.6666666666666666,
             "#ed7953"
            ],
            [
             0.7777777777777778,
             "#fb9f3a"
            ],
            [
             0.8888888888888888,
             "#fdca26"
            ],
            [
             1,
             "#f0f921"
            ]
           ],
           "sequentialminus": [
            [
             0,
             "#0d0887"
            ],
            [
             0.1111111111111111,
             "#46039f"
            ],
            [
             0.2222222222222222,
             "#7201a8"
            ],
            [
             0.3333333333333333,
             "#9c179e"
            ],
            [
             0.4444444444444444,
             "#bd3786"
            ],
            [
             0.5555555555555556,
             "#d8576b"
            ],
            [
             0.6666666666666666,
             "#ed7953"
            ],
            [
             0.7777777777777778,
             "#fb9f3a"
            ],
            [
             0.8888888888888888,
             "#fdca26"
            ],
            [
             1,
             "#f0f921"
            ]
           ]
          },
          "colorway": [
           "#636efa",
           "#EF553B",
           "#00cc96",
           "#ab63fa",
           "#FFA15A",
           "#19d3f3",
           "#FF6692",
           "#B6E880",
           "#FF97FF",
           "#FECB52"
          ],
          "font": {
           "color": "#2a3f5f"
          },
          "geo": {
           "bgcolor": "white",
           "lakecolor": "white",
           "landcolor": "#E5ECF6",
           "showlakes": true,
           "showland": true,
           "subunitcolor": "white"
          },
          "hoverlabel": {
           "align": "left"
          },
          "hovermode": "closest",
          "mapbox": {
           "style": "light"
          },
          "paper_bgcolor": "white",
          "plot_bgcolor": "#E5ECF6",
          "polar": {
           "angularaxis": {
            "gridcolor": "white",
            "linecolor": "white",
            "ticks": ""
           },
           "bgcolor": "#E5ECF6",
           "radialaxis": {
            "gridcolor": "white",
            "linecolor": "white",
            "ticks": ""
           }
          },
          "scene": {
           "xaxis": {
            "backgroundcolor": "#E5ECF6",
            "gridcolor": "white",
            "gridwidth": 2,
            "linecolor": "white",
            "showbackground": true,
            "ticks": "",
            "zerolinecolor": "white"
           },
           "yaxis": {
            "backgroundcolor": "#E5ECF6",
            "gridcolor": "white",
            "gridwidth": 2,
            "linecolor": "white",
            "showbackground": true,
            "ticks": "",
            "zerolinecolor": "white"
           },
           "zaxis": {
            "backgroundcolor": "#E5ECF6",
            "gridcolor": "white",
            "gridwidth": 2,
            "linecolor": "white",
            "showbackground": true,
            "ticks": "",
            "zerolinecolor": "white"
           }
          },
          "shapedefaults": {
           "line": {
            "color": "#2a3f5f"
           }
          },
          "ternary": {
           "aaxis": {
            "gridcolor": "white",
            "linecolor": "white",
            "ticks": ""
           },
           "baxis": {
            "gridcolor": "white",
            "linecolor": "white",
            "ticks": ""
           },
           "bgcolor": "#E5ECF6",
           "caxis": {
            "gridcolor": "white",
            "linecolor": "white",
            "ticks": ""
           }
          },
          "title": {
           "x": 0.05
          },
          "xaxis": {
           "automargin": true,
           "gridcolor": "white",
           "linecolor": "white",
           "ticks": "",
           "title": {
            "standoff": 15
           },
           "zerolinecolor": "white",
           "zerolinewidth": 2
          },
          "yaxis": {
           "automargin": true,
           "gridcolor": "white",
           "linecolor": "white",
           "ticks": "",
           "title": {
            "standoff": 15
           },
           "zerolinecolor": "white",
           "zerolinewidth": 2
          }
         }
        },
        "title": {
         "text": "Cinco Platos Más Caros"
        },
        "xaxis": {
         "anchor": "y",
         "domain": [
          0,
          1
         ],
         "title": {
          "text": "Nombre del Plato"
         }
        },
        "yaxis": {
         "anchor": "x",
         "domain": [
          0,
          1
         ],
         "title": {
          "text": "Precio ($)"
         }
        }
       }
      }
     },
     "metadata": {},
     "output_type": "display_data"
    }
   ],
   "source": [
    "def obtener_precio(plato):\n",
    "    return plato[\"price\"]\n",
    "\n",
    "platos_principales = menu[\"mains\"]\n",
    "platos_principales_ordenados = sorted(platos_principales, key=obtener_precio, reverse=True)\n",
    "cinco_platos_caros = platos_principales_ordenados[:5]\n",
    "\n",
    "nombre = []\n",
    "precio = []\n",
    "\n",
    "for i in cinco_platos_caros:\n",
    "    precio.append(i[\"price\"])\n",
    "for i in cinco_platos_caros:\n",
    "    nombre.append(i[\"item_name\"])\n",
    "fig = px.bar(\n",
    "    x=nombre, \n",
    "    y=precio, \n",
    "    title=\"Cinco Platos Más Caros\", \n",
    "    labels={'x':'Nombre del Plato', 'y':'Precio ($)'})\n",
    "fig.show()"
   ]
  },
  {
   "cell_type": "markdown",
   "metadata": {},
   "source": [
    "Oye mami y el tema de los apagones como anda?\n",
    "\n",
    "-Caridad: Bueno mijo hasta ahora vamos por 2 caídas del SEN y a cada rato la quitan lo que poco tiempo\n",
    "\n",
    "Tú crees que valga la pena invertir dinero en una planta?"
   ]
  },
  {
   "cell_type": "markdown",
   "metadata": {},
   "source": [
    "Después de realizar la tarea observó que el 54.4% de los restaurantes que se encontraban en la muestra que había tomado para realizar la investigación poseían un generador eléctrico o al menos una alternativa para poder continuar con el trabajo en caso de cortes en el fluido eléctrico, por lo que determinó que invertir en una planta sería un buen respaldo para que el negocio no se viera afectado en caso de algún incoveniente con la electricidad "
   ]
  },
  {
   "cell_type": "code",
   "execution_count": 10,
   "metadata": {},
   "outputs": [
    {
     "name": "stdout",
     "output_type": "stream",
     "text": [
      "49.47\n"
     ]
    },
    {
     "data": {
      "application/vnd.plotly.v1+json": {
       "config": {
        "plotlyServerURL": "https://plot.ly"
       },
       "data": [
        {
         "domain": {
          "x": [
           0,
           1
          ],
          "y": [
           0,
           1
          ]
         },
         "hovertemplate": "label=%{label}<br>value=%{value}<extra></extra>",
         "labels": [
          "Con Generador",
          "Sin Generador"
         ],
         "legendgroup": "",
         "name": "",
         "showlegend": true,
         "type": "pie",
         "values": [
          50.53,
          49.47
         ]
        }
       ],
       "layout": {
        "legend": {
         "tracegroupgap": 0
        },
        "template": {
         "data": {
          "bar": [
           {
            "error_x": {
             "color": "#2a3f5f"
            },
            "error_y": {
             "color": "#2a3f5f"
            },
            "marker": {
             "line": {
              "color": "#E5ECF6",
              "width": 0.5
             },
             "pattern": {
              "fillmode": "overlay",
              "size": 10,
              "solidity": 0.2
             }
            },
            "type": "bar"
           }
          ],
          "barpolar": [
           {
            "marker": {
             "line": {
              "color": "#E5ECF6",
              "width": 0.5
             },
             "pattern": {
              "fillmode": "overlay",
              "size": 10,
              "solidity": 0.2
             }
            },
            "type": "barpolar"
           }
          ],
          "carpet": [
           {
            "aaxis": {
             "endlinecolor": "#2a3f5f",
             "gridcolor": "white",
             "linecolor": "white",
             "minorgridcolor": "white",
             "startlinecolor": "#2a3f5f"
            },
            "baxis": {
             "endlinecolor": "#2a3f5f",
             "gridcolor": "white",
             "linecolor": "white",
             "minorgridcolor": "white",
             "startlinecolor": "#2a3f5f"
            },
            "type": "carpet"
           }
          ],
          "choropleth": [
           {
            "colorbar": {
             "outlinewidth": 0,
             "ticks": ""
            },
            "type": "choropleth"
           }
          ],
          "contour": [
           {
            "colorbar": {
             "outlinewidth": 0,
             "ticks": ""
            },
            "colorscale": [
             [
              0,
              "#0d0887"
             ],
             [
              0.1111111111111111,
              "#46039f"
             ],
             [
              0.2222222222222222,
              "#7201a8"
             ],
             [
              0.3333333333333333,
              "#9c179e"
             ],
             [
              0.4444444444444444,
              "#bd3786"
             ],
             [
              0.5555555555555556,
              "#d8576b"
             ],
             [
              0.6666666666666666,
              "#ed7953"
             ],
             [
              0.7777777777777778,
              "#fb9f3a"
             ],
             [
              0.8888888888888888,
              "#fdca26"
             ],
             [
              1,
              "#f0f921"
             ]
            ],
            "type": "contour"
           }
          ],
          "contourcarpet": [
           {
            "colorbar": {
             "outlinewidth": 0,
             "ticks": ""
            },
            "type": "contourcarpet"
           }
          ],
          "heatmap": [
           {
            "colorbar": {
             "outlinewidth": 0,
             "ticks": ""
            },
            "colorscale": [
             [
              0,
              "#0d0887"
             ],
             [
              0.1111111111111111,
              "#46039f"
             ],
             [
              0.2222222222222222,
              "#7201a8"
             ],
             [
              0.3333333333333333,
              "#9c179e"
             ],
             [
              0.4444444444444444,
              "#bd3786"
             ],
             [
              0.5555555555555556,
              "#d8576b"
             ],
             [
              0.6666666666666666,
              "#ed7953"
             ],
             [
              0.7777777777777778,
              "#fb9f3a"
             ],
             [
              0.8888888888888888,
              "#fdca26"
             ],
             [
              1,
              "#f0f921"
             ]
            ],
            "type": "heatmap"
           }
          ],
          "heatmapgl": [
           {
            "colorbar": {
             "outlinewidth": 0,
             "ticks": ""
            },
            "colorscale": [
             [
              0,
              "#0d0887"
             ],
             [
              0.1111111111111111,
              "#46039f"
             ],
             [
              0.2222222222222222,
              "#7201a8"
             ],
             [
              0.3333333333333333,
              "#9c179e"
             ],
             [
              0.4444444444444444,
              "#bd3786"
             ],
             [
              0.5555555555555556,
              "#d8576b"
             ],
             [
              0.6666666666666666,
              "#ed7953"
             ],
             [
              0.7777777777777778,
              "#fb9f3a"
             ],
             [
              0.8888888888888888,
              "#fdca26"
             ],
             [
              1,
              "#f0f921"
             ]
            ],
            "type": "heatmapgl"
           }
          ],
          "histogram": [
           {
            "marker": {
             "pattern": {
              "fillmode": "overlay",
              "size": 10,
              "solidity": 0.2
             }
            },
            "type": "histogram"
           }
          ],
          "histogram2d": [
           {
            "colorbar": {
             "outlinewidth": 0,
             "ticks": ""
            },
            "colorscale": [
             [
              0,
              "#0d0887"
             ],
             [
              0.1111111111111111,
              "#46039f"
             ],
             [
              0.2222222222222222,
              "#7201a8"
             ],
             [
              0.3333333333333333,
              "#9c179e"
             ],
             [
              0.4444444444444444,
              "#bd3786"
             ],
             [
              0.5555555555555556,
              "#d8576b"
             ],
             [
              0.6666666666666666,
              "#ed7953"
             ],
             [
              0.7777777777777778,
              "#fb9f3a"
             ],
             [
              0.8888888888888888,
              "#fdca26"
             ],
             [
              1,
              "#f0f921"
             ]
            ],
            "type": "histogram2d"
           }
          ],
          "histogram2dcontour": [
           {
            "colorbar": {
             "outlinewidth": 0,
             "ticks": ""
            },
            "colorscale": [
             [
              0,
              "#0d0887"
             ],
             [
              0.1111111111111111,
              "#46039f"
             ],
             [
              0.2222222222222222,
              "#7201a8"
             ],
             [
              0.3333333333333333,
              "#9c179e"
             ],
             [
              0.4444444444444444,
              "#bd3786"
             ],
             [
              0.5555555555555556,
              "#d8576b"
             ],
             [
              0.6666666666666666,
              "#ed7953"
             ],
             [
              0.7777777777777778,
              "#fb9f3a"
             ],
             [
              0.8888888888888888,
              "#fdca26"
             ],
             [
              1,
              "#f0f921"
             ]
            ],
            "type": "histogram2dcontour"
           }
          ],
          "mesh3d": [
           {
            "colorbar": {
             "outlinewidth": 0,
             "ticks": ""
            },
            "type": "mesh3d"
           }
          ],
          "parcoords": [
           {
            "line": {
             "colorbar": {
              "outlinewidth": 0,
              "ticks": ""
             }
            },
            "type": "parcoords"
           }
          ],
          "pie": [
           {
            "automargin": true,
            "type": "pie"
           }
          ],
          "scatter": [
           {
            "fillpattern": {
             "fillmode": "overlay",
             "size": 10,
             "solidity": 0.2
            },
            "type": "scatter"
           }
          ],
          "scatter3d": [
           {
            "line": {
             "colorbar": {
              "outlinewidth": 0,
              "ticks": ""
             }
            },
            "marker": {
             "colorbar": {
              "outlinewidth": 0,
              "ticks": ""
             }
            },
            "type": "scatter3d"
           }
          ],
          "scattercarpet": [
           {
            "marker": {
             "colorbar": {
              "outlinewidth": 0,
              "ticks": ""
             }
            },
            "type": "scattercarpet"
           }
          ],
          "scattergeo": [
           {
            "marker": {
             "colorbar": {
              "outlinewidth": 0,
              "ticks": ""
             }
            },
            "type": "scattergeo"
           }
          ],
          "scattergl": [
           {
            "marker": {
             "colorbar": {
              "outlinewidth": 0,
              "ticks": ""
             }
            },
            "type": "scattergl"
           }
          ],
          "scattermapbox": [
           {
            "marker": {
             "colorbar": {
              "outlinewidth": 0,
              "ticks": ""
             }
            },
            "type": "scattermapbox"
           }
          ],
          "scatterpolar": [
           {
            "marker": {
             "colorbar": {
              "outlinewidth": 0,
              "ticks": ""
             }
            },
            "type": "scatterpolar"
           }
          ],
          "scatterpolargl": [
           {
            "marker": {
             "colorbar": {
              "outlinewidth": 0,
              "ticks": ""
             }
            },
            "type": "scatterpolargl"
           }
          ],
          "scatterternary": [
           {
            "marker": {
             "colorbar": {
              "outlinewidth": 0,
              "ticks": ""
             }
            },
            "type": "scatterternary"
           }
          ],
          "surface": [
           {
            "colorbar": {
             "outlinewidth": 0,
             "ticks": ""
            },
            "colorscale": [
             [
              0,
              "#0d0887"
             ],
             [
              0.1111111111111111,
              "#46039f"
             ],
             [
              0.2222222222222222,
              "#7201a8"
             ],
             [
              0.3333333333333333,
              "#9c179e"
             ],
             [
              0.4444444444444444,
              "#bd3786"
             ],
             [
              0.5555555555555556,
              "#d8576b"
             ],
             [
              0.6666666666666666,
              "#ed7953"
             ],
             [
              0.7777777777777778,
              "#fb9f3a"
             ],
             [
              0.8888888888888888,
              "#fdca26"
             ],
             [
              1,
              "#f0f921"
             ]
            ],
            "type": "surface"
           }
          ],
          "table": [
           {
            "cells": {
             "fill": {
              "color": "#EBF0F8"
             },
             "line": {
              "color": "white"
             }
            },
            "header": {
             "fill": {
              "color": "#C8D4E3"
             },
             "line": {
              "color": "white"
             }
            },
            "type": "table"
           }
          ]
         },
         "layout": {
          "annotationdefaults": {
           "arrowcolor": "#2a3f5f",
           "arrowhead": 0,
           "arrowwidth": 1
          },
          "autotypenumbers": "strict",
          "coloraxis": {
           "colorbar": {
            "outlinewidth": 0,
            "ticks": ""
           }
          },
          "colorscale": {
           "diverging": [
            [
             0,
             "#8e0152"
            ],
            [
             0.1,
             "#c51b7d"
            ],
            [
             0.2,
             "#de77ae"
            ],
            [
             0.3,
             "#f1b6da"
            ],
            [
             0.4,
             "#fde0ef"
            ],
            [
             0.5,
             "#f7f7f7"
            ],
            [
             0.6,
             "#e6f5d0"
            ],
            [
             0.7,
             "#b8e186"
            ],
            [
             0.8,
             "#7fbc41"
            ],
            [
             0.9,
             "#4d9221"
            ],
            [
             1,
             "#276419"
            ]
           ],
           "sequential": [
            [
             0,
             "#0d0887"
            ],
            [
             0.1111111111111111,
             "#46039f"
            ],
            [
             0.2222222222222222,
             "#7201a8"
            ],
            [
             0.3333333333333333,
             "#9c179e"
            ],
            [
             0.4444444444444444,
             "#bd3786"
            ],
            [
             0.5555555555555556,
             "#d8576b"
            ],
            [
             0.6666666666666666,
             "#ed7953"
            ],
            [
             0.7777777777777778,
             "#fb9f3a"
            ],
            [
             0.8888888888888888,
             "#fdca26"
            ],
            [
             1,
             "#f0f921"
            ]
           ],
           "sequentialminus": [
            [
             0,
             "#0d0887"
            ],
            [
             0.1111111111111111,
             "#46039f"
            ],
            [
             0.2222222222222222,
             "#7201a8"
            ],
            [
             0.3333333333333333,
             "#9c179e"
            ],
            [
             0.4444444444444444,
             "#bd3786"
            ],
            [
             0.5555555555555556,
             "#d8576b"
            ],
            [
             0.6666666666666666,
             "#ed7953"
            ],
            [
             0.7777777777777778,
             "#fb9f3a"
            ],
            [
             0.8888888888888888,
             "#fdca26"
            ],
            [
             1,
             "#f0f921"
            ]
           ]
          },
          "colorway": [
           "#636efa",
           "#EF553B",
           "#00cc96",
           "#ab63fa",
           "#FFA15A",
           "#19d3f3",
           "#FF6692",
           "#B6E880",
           "#FF97FF",
           "#FECB52"
          ],
          "font": {
           "color": "#2a3f5f"
          },
          "geo": {
           "bgcolor": "white",
           "lakecolor": "white",
           "landcolor": "#E5ECF6",
           "showlakes": true,
           "showland": true,
           "subunitcolor": "white"
          },
          "hoverlabel": {
           "align": "left"
          },
          "hovermode": "closest",
          "mapbox": {
           "style": "light"
          },
          "paper_bgcolor": "white",
          "plot_bgcolor": "#E5ECF6",
          "polar": {
           "angularaxis": {
            "gridcolor": "white",
            "linecolor": "white",
            "ticks": ""
           },
           "bgcolor": "#E5ECF6",
           "radialaxis": {
            "gridcolor": "white",
            "linecolor": "white",
            "ticks": ""
           }
          },
          "scene": {
           "xaxis": {
            "backgroundcolor": "#E5ECF6",
            "gridcolor": "white",
            "gridwidth": 2,
            "linecolor": "white",
            "showbackground": true,
            "ticks": "",
            "zerolinecolor": "white"
           },
           "yaxis": {
            "backgroundcolor": "#E5ECF6",
            "gridcolor": "white",
            "gridwidth": 2,
            "linecolor": "white",
            "showbackground": true,
            "ticks": "",
            "zerolinecolor": "white"
           },
           "zaxis": {
            "backgroundcolor": "#E5ECF6",
            "gridcolor": "white",
            "gridwidth": 2,
            "linecolor": "white",
            "showbackground": true,
            "ticks": "",
            "zerolinecolor": "white"
           }
          },
          "shapedefaults": {
           "line": {
            "color": "#2a3f5f"
           }
          },
          "ternary": {
           "aaxis": {
            "gridcolor": "white",
            "linecolor": "white",
            "ticks": ""
           },
           "baxis": {
            "gridcolor": "white",
            "linecolor": "white",
            "ticks": ""
           },
           "bgcolor": "#E5ECF6",
           "caxis": {
            "gridcolor": "white",
            "linecolor": "white",
            "ticks": ""
           }
          },
          "title": {
           "x": 0.05
          },
          "xaxis": {
           "automargin": true,
           "gridcolor": "white",
           "linecolor": "white",
           "ticks": "",
           "title": {
            "standoff": 15
           },
           "zerolinecolor": "white",
           "zerolinewidth": 2
          },
          "yaxis": {
           "automargin": true,
           "gridcolor": "white",
           "linecolor": "white",
           "ticks": "",
           "title": {
            "standoff": 15
           },
           "zerolinecolor": "white",
           "zerolinewidth": 2
          }
         }
        },
        "title": {
         "text": "Distribucion de Restaurantes con Generador Electrico"
        }
       }
      }
     },
     "metadata": {},
     "output_type": "display_data"
    }
   ],
   "source": [
    "#Grafico Pastel donde se muestra el porciento de restaurantes de la Habana que poseen P\n",
    "total_restaurantes = len(data2)\n",
    "total_plantas = data2[\"electric generator\"].sum()\n",
    "porciento_restaurantes_planta = round(bp.c_porciento(total_plantas, total_restaurantes),2)\n",
    "porciento_restaurantes_sin_planta = round(100 - porciento_restaurantes_planta, 2)\n",
    "print (porciento_restaurantes_sin_planta)\n",
    "\n",
    "fig = px.pie ( names=(\"Con Generador\", \"Sin Generador\"), \n",
    "              values=(porciento_restaurantes_planta, porciento_restaurantes_sin_planta),\n",
    "              title= \"Distribucion de Restaurantes con Generador Electrico\"\n",
    "\n",
    ")\n",
    "fig.show()\n"
   ]
  },
  {
   "cell_type": "markdown",
   "metadata": {},
   "source": [
    "En el año 2024, La Habana experimentó un aumento significativo en la inversión en hoteles y restaurantes según la Oficina Nacional de Estadística e Información (ONEI) de la Republica  de Cuba, la inversión en este sector aumentoó en un 112% anual, no es secreto para nadie porque se puede ver a simple vista que cada vez más en la Ciudad de La Habana, se inaguran nuevos establecimientos gastronómicos ya sean cafés o restaurantes, tanto privadas como estales, aumentando así la competencia entre los diferentes locales"
   ]
  },
  {
   "cell_type": "markdown",
   "metadata": {},
   "source": []
  },
  {
   "cell_type": "markdown",
   "metadata": {},
   "source": [
    "Después de leer esas cifras Alejandro preocupado decidió investigar en que municipio de La Habana los restaurantes tenían peor reseña en Google para asi determinar donde le convendria rentar el local, pensando que montar su negocio en un lugar donde la calificacion de los restaurantes no fuera la mejor, tendría menos competencia y llamaría la atención de los pobladores."
   ]
  },
  {
   "cell_type": "code",
   "execution_count": 17,
   "metadata": {},
   "outputs": [
    {
     "data": {
      "application/vnd.plotly.v1+json": {
       "config": {
        "plotlyServerURL": "https://plot.ly"
       },
       "data": [
        {
         "cells": {
          "align": "left",
          "fill": {
           "color": "lavender"
          },
          "values": [
           [
            "regla",
            "arroyo naranjo",
            "habana vieja",
            "marianao",
            "guanabacoa",
            "boyeros",
            "centro habana",
            "playa",
            "cotorro",
            "plaza de la revolucion",
            "habana del este",
            "10 de octubre",
            "cerro",
            "la lisa",
            "san miguel del padron"
           ],
           [
            4.93,
            4.61,
            4.56,
            4.52,
            4.5,
            4.45,
            4.36,
            4.32,
            4.28,
            4.26,
            4.14,
            4.05,
            3.94,
            3.78,
            3.25
           ]
          ]
         },
         "header": {
          "align": "left",
          "fill": {
           "color": "pink"
          },
          "values": [
           "municipio",
           "calificacion promedio"
          ]
         },
         "type": "table"
        }
       ],
       "layout": {
        "template": {
         "data": {
          "bar": [
           {
            "error_x": {
             "color": "#2a3f5f"
            },
            "error_y": {
             "color": "#2a3f5f"
            },
            "marker": {
             "line": {
              "color": "#E5ECF6",
              "width": 0.5
             },
             "pattern": {
              "fillmode": "overlay",
              "size": 10,
              "solidity": 0.2
             }
            },
            "type": "bar"
           }
          ],
          "barpolar": [
           {
            "marker": {
             "line": {
              "color": "#E5ECF6",
              "width": 0.5
             },
             "pattern": {
              "fillmode": "overlay",
              "size": 10,
              "solidity": 0.2
             }
            },
            "type": "barpolar"
           }
          ],
          "carpet": [
           {
            "aaxis": {
             "endlinecolor": "#2a3f5f",
             "gridcolor": "white",
             "linecolor": "white",
             "minorgridcolor": "white",
             "startlinecolor": "#2a3f5f"
            },
            "baxis": {
             "endlinecolor": "#2a3f5f",
             "gridcolor": "white",
             "linecolor": "white",
             "minorgridcolor": "white",
             "startlinecolor": "#2a3f5f"
            },
            "type": "carpet"
           }
          ],
          "choropleth": [
           {
            "colorbar": {
             "outlinewidth": 0,
             "ticks": ""
            },
            "type": "choropleth"
           }
          ],
          "contour": [
           {
            "colorbar": {
             "outlinewidth": 0,
             "ticks": ""
            },
            "colorscale": [
             [
              0,
              "#0d0887"
             ],
             [
              0.1111111111111111,
              "#46039f"
             ],
             [
              0.2222222222222222,
              "#7201a8"
             ],
             [
              0.3333333333333333,
              "#9c179e"
             ],
             [
              0.4444444444444444,
              "#bd3786"
             ],
             [
              0.5555555555555556,
              "#d8576b"
             ],
             [
              0.6666666666666666,
              "#ed7953"
             ],
             [
              0.7777777777777778,
              "#fb9f3a"
             ],
             [
              0.8888888888888888,
              "#fdca26"
             ],
             [
              1,
              "#f0f921"
             ]
            ],
            "type": "contour"
           }
          ],
          "contourcarpet": [
           {
            "colorbar": {
             "outlinewidth": 0,
             "ticks": ""
            },
            "type": "contourcarpet"
           }
          ],
          "heatmap": [
           {
            "colorbar": {
             "outlinewidth": 0,
             "ticks": ""
            },
            "colorscale": [
             [
              0,
              "#0d0887"
             ],
             [
              0.1111111111111111,
              "#46039f"
             ],
             [
              0.2222222222222222,
              "#7201a8"
             ],
             [
              0.3333333333333333,
              "#9c179e"
             ],
             [
              0.4444444444444444,
              "#bd3786"
             ],
             [
              0.5555555555555556,
              "#d8576b"
             ],
             [
              0.6666666666666666,
              "#ed7953"
             ],
             [
              0.7777777777777778,
              "#fb9f3a"
             ],
             [
              0.8888888888888888,
              "#fdca26"
             ],
             [
              1,
              "#f0f921"
             ]
            ],
            "type": "heatmap"
           }
          ],
          "heatmapgl": [
           {
            "colorbar": {
             "outlinewidth": 0,
             "ticks": ""
            },
            "colorscale": [
             [
              0,
              "#0d0887"
             ],
             [
              0.1111111111111111,
              "#46039f"
             ],
             [
              0.2222222222222222,
              "#7201a8"
             ],
             [
              0.3333333333333333,
              "#9c179e"
             ],
             [
              0.4444444444444444,
              "#bd3786"
             ],
             [
              0.5555555555555556,
              "#d8576b"
             ],
             [
              0.6666666666666666,
              "#ed7953"
             ],
             [
              0.7777777777777778,
              "#fb9f3a"
             ],
             [
              0.8888888888888888,
              "#fdca26"
             ],
             [
              1,
              "#f0f921"
             ]
            ],
            "type": "heatmapgl"
           }
          ],
          "histogram": [
           {
            "marker": {
             "pattern": {
              "fillmode": "overlay",
              "size": 10,
              "solidity": 0.2
             }
            },
            "type": "histogram"
           }
          ],
          "histogram2d": [
           {
            "colorbar": {
             "outlinewidth": 0,
             "ticks": ""
            },
            "colorscale": [
             [
              0,
              "#0d0887"
             ],
             [
              0.1111111111111111,
              "#46039f"
             ],
             [
              0.2222222222222222,
              "#7201a8"
             ],
             [
              0.3333333333333333,
              "#9c179e"
             ],
             [
              0.4444444444444444,
              "#bd3786"
             ],
             [
              0.5555555555555556,
              "#d8576b"
             ],
             [
              0.6666666666666666,
              "#ed7953"
             ],
             [
              0.7777777777777778,
              "#fb9f3a"
             ],
             [
              0.8888888888888888,
              "#fdca26"
             ],
             [
              1,
              "#f0f921"
             ]
            ],
            "type": "histogram2d"
           }
          ],
          "histogram2dcontour": [
           {
            "colorbar": {
             "outlinewidth": 0,
             "ticks": ""
            },
            "colorscale": [
             [
              0,
              "#0d0887"
             ],
             [
              0.1111111111111111,
              "#46039f"
             ],
             [
              0.2222222222222222,
              "#7201a8"
             ],
             [
              0.3333333333333333,
              "#9c179e"
             ],
             [
              0.4444444444444444,
              "#bd3786"
             ],
             [
              0.5555555555555556,
              "#d8576b"
             ],
             [
              0.6666666666666666,
              "#ed7953"
             ],
             [
              0.7777777777777778,
              "#fb9f3a"
             ],
             [
              0.8888888888888888,
              "#fdca26"
             ],
             [
              1,
              "#f0f921"
             ]
            ],
            "type": "histogram2dcontour"
           }
          ],
          "mesh3d": [
           {
            "colorbar": {
             "outlinewidth": 0,
             "ticks": ""
            },
            "type": "mesh3d"
           }
          ],
          "parcoords": [
           {
            "line": {
             "colorbar": {
              "outlinewidth": 0,
              "ticks": ""
             }
            },
            "type": "parcoords"
           }
          ],
          "pie": [
           {
            "automargin": true,
            "type": "pie"
           }
          ],
          "scatter": [
           {
            "fillpattern": {
             "fillmode": "overlay",
             "size": 10,
             "solidity": 0.2
            },
            "type": "scatter"
           }
          ],
          "scatter3d": [
           {
            "line": {
             "colorbar": {
              "outlinewidth": 0,
              "ticks": ""
             }
            },
            "marker": {
             "colorbar": {
              "outlinewidth": 0,
              "ticks": ""
             }
            },
            "type": "scatter3d"
           }
          ],
          "scattercarpet": [
           {
            "marker": {
             "colorbar": {
              "outlinewidth": 0,
              "ticks": ""
             }
            },
            "type": "scattercarpet"
           }
          ],
          "scattergeo": [
           {
            "marker": {
             "colorbar": {
              "outlinewidth": 0,
              "ticks": ""
             }
            },
            "type": "scattergeo"
           }
          ],
          "scattergl": [
           {
            "marker": {
             "colorbar": {
              "outlinewidth": 0,
              "ticks": ""
             }
            },
            "type": "scattergl"
           }
          ],
          "scattermapbox": [
           {
            "marker": {
             "colorbar": {
              "outlinewidth": 0,
              "ticks": ""
             }
            },
            "type": "scattermapbox"
           }
          ],
          "scatterpolar": [
           {
            "marker": {
             "colorbar": {
              "outlinewidth": 0,
              "ticks": ""
             }
            },
            "type": "scatterpolar"
           }
          ],
          "scatterpolargl": [
           {
            "marker": {
             "colorbar": {
              "outlinewidth": 0,
              "ticks": ""
             }
            },
            "type": "scatterpolargl"
           }
          ],
          "scatterternary": [
           {
            "marker": {
             "colorbar": {
              "outlinewidth": 0,
              "ticks": ""
             }
            },
            "type": "scatterternary"
           }
          ],
          "surface": [
           {
            "colorbar": {
             "outlinewidth": 0,
             "ticks": ""
            },
            "colorscale": [
             [
              0,
              "#0d0887"
             ],
             [
              0.1111111111111111,
              "#46039f"
             ],
             [
              0.2222222222222222,
              "#7201a8"
             ],
             [
              0.3333333333333333,
              "#9c179e"
             ],
             [
              0.4444444444444444,
              "#bd3786"
             ],
             [
              0.5555555555555556,
              "#d8576b"
             ],
             [
              0.6666666666666666,
              "#ed7953"
             ],
             [
              0.7777777777777778,
              "#fb9f3a"
             ],
             [
              0.8888888888888888,
              "#fdca26"
             ],
             [
              1,
              "#f0f921"
             ]
            ],
            "type": "surface"
           }
          ],
          "table": [
           {
            "cells": {
             "fill": {
              "color": "#EBF0F8"
             },
             "line": {
              "color": "white"
             }
            },
            "header": {
             "fill": {
              "color": "#C8D4E3"
             },
             "line": {
              "color": "white"
             }
            },
            "type": "table"
           }
          ]
         },
         "layout": {
          "annotationdefaults": {
           "arrowcolor": "#2a3f5f",
           "arrowhead": 0,
           "arrowwidth": 1
          },
          "autotypenumbers": "strict",
          "coloraxis": {
           "colorbar": {
            "outlinewidth": 0,
            "ticks": ""
           }
          },
          "colorscale": {
           "diverging": [
            [
             0,
             "#8e0152"
            ],
            [
             0.1,
             "#c51b7d"
            ],
            [
             0.2,
             "#de77ae"
            ],
            [
             0.3,
             "#f1b6da"
            ],
            [
             0.4,
             "#fde0ef"
            ],
            [
             0.5,
             "#f7f7f7"
            ],
            [
             0.6,
             "#e6f5d0"
            ],
            [
             0.7,
             "#b8e186"
            ],
            [
             0.8,
             "#7fbc41"
            ],
            [
             0.9,
             "#4d9221"
            ],
            [
             1,
             "#276419"
            ]
           ],
           "sequential": [
            [
             0,
             "#0d0887"
            ],
            [
             0.1111111111111111,
             "#46039f"
            ],
            [
             0.2222222222222222,
             "#7201a8"
            ],
            [
             0.3333333333333333,
             "#9c179e"
            ],
            [
             0.4444444444444444,
             "#bd3786"
            ],
            [
             0.5555555555555556,
             "#d8576b"
            ],
            [
             0.6666666666666666,
             "#ed7953"
            ],
            [
             0.7777777777777778,
             "#fb9f3a"
            ],
            [
             0.8888888888888888,
             "#fdca26"
            ],
            [
             1,
             "#f0f921"
            ]
           ],
           "sequentialminus": [
            [
             0,
             "#0d0887"
            ],
            [
             0.1111111111111111,
             "#46039f"
            ],
            [
             0.2222222222222222,
             "#7201a8"
            ],
            [
             0.3333333333333333,
             "#9c179e"
            ],
            [
             0.4444444444444444,
             "#bd3786"
            ],
            [
             0.5555555555555556,
             "#d8576b"
            ],
            [
             0.6666666666666666,
             "#ed7953"
            ],
            [
             0.7777777777777778,
             "#fb9f3a"
            ],
            [
             0.8888888888888888,
             "#fdca26"
            ],
            [
             1,
             "#f0f921"
            ]
           ]
          },
          "colorway": [
           "#636efa",
           "#EF553B",
           "#00cc96",
           "#ab63fa",
           "#FFA15A",
           "#19d3f3",
           "#FF6692",
           "#B6E880",
           "#FF97FF",
           "#FECB52"
          ],
          "font": {
           "color": "#2a3f5f"
          },
          "geo": {
           "bgcolor": "white",
           "lakecolor": "white",
           "landcolor": "#E5ECF6",
           "showlakes": true,
           "showland": true,
           "subunitcolor": "white"
          },
          "hoverlabel": {
           "align": "left"
          },
          "hovermode": "closest",
          "mapbox": {
           "style": "light"
          },
          "paper_bgcolor": "white",
          "plot_bgcolor": "#E5ECF6",
          "polar": {
           "angularaxis": {
            "gridcolor": "white",
            "linecolor": "white",
            "ticks": ""
           },
           "bgcolor": "#E5ECF6",
           "radialaxis": {
            "gridcolor": "white",
            "linecolor": "white",
            "ticks": ""
           }
          },
          "scene": {
           "xaxis": {
            "backgroundcolor": "#E5ECF6",
            "gridcolor": "white",
            "gridwidth": 2,
            "linecolor": "white",
            "showbackground": true,
            "ticks": "",
            "zerolinecolor": "white"
           },
           "yaxis": {
            "backgroundcolor": "#E5ECF6",
            "gridcolor": "white",
            "gridwidth": 2,
            "linecolor": "white",
            "showbackground": true,
            "ticks": "",
            "zerolinecolor": "white"
           },
           "zaxis": {
            "backgroundcolor": "#E5ECF6",
            "gridcolor": "white",
            "gridwidth": 2,
            "linecolor": "white",
            "showbackground": true,
            "ticks": "",
            "zerolinecolor": "white"
           }
          },
          "shapedefaults": {
           "line": {
            "color": "#2a3f5f"
           }
          },
          "ternary": {
           "aaxis": {
            "gridcolor": "white",
            "linecolor": "white",
            "ticks": ""
           },
           "baxis": {
            "gridcolor": "white",
            "linecolor": "white",
            "ticks": ""
           },
           "bgcolor": "#E5ECF6",
           "caxis": {
            "gridcolor": "white",
            "linecolor": "white",
            "ticks": ""
           }
          },
          "title": {
           "x": 0.05
          },
          "xaxis": {
           "automargin": true,
           "gridcolor": "white",
           "linecolor": "white",
           "ticks": "",
           "title": {
            "standoff": 15
           },
           "zerolinecolor": "white",
           "zerolinewidth": 2
          },
          "yaxis": {
           "automargin": true,
           "gridcolor": "white",
           "linecolor": "white",
           "ticks": "",
           "title": {
            "standoff": 15
           },
           "zerolinecolor": "white",
           "zerolinewidth": 2
          }
         }
        },
        "title": {
         "text": "Calificacion Promedio de Restaurantes por Municipio segun Google"
        }
       }
      }
     },
     "metadata": {},
     "output_type": "display_data"
    }
   ],
   "source": [
    "#Tabla donde da la clasificacion promedio de los restaurantes por municipio :)\n",
    "data2[\"location.municipe\"] = data2[\"location.municipe\"].str.strip().str.lower()\n",
    "\n",
    "calificacion_promedio_por_municipio = data2.groupby(\"location.municipe\")[\"qualification\"].mean().round(2)\n",
    "tabla_calificaciones = calificacion_promedio_por_municipio.reset_index()\n",
    "tabla_calificaciones.columns = [\"municipio\", \"calificacion promedio\"]\n",
    "tabla_calificaciones = tabla_calificaciones.sort_values(by=\"calificacion promedio\", ascending=False)\n",
    "\n",
    "fig = go.Figure(data=[go.Table(\n",
    "    header=dict(values=list(tabla_calificaciones.columns),\n",
    "                fill_color=\"pink\",\n",
    "                align=\"left\"),\n",
    "    cells=dict(values=[tabla_calificaciones.municipio, tabla_calificaciones[\"calificacion promedio\"]],\n",
    "               fill_color=\"lavender\",\n",
    "               align=\"left\"))\n",
    "])\n",
    "\n",
    "fig.update_layout(title=\"Calificacion Promedio de Restaurantes por Municipio segun Google\")\n",
    "fig.show()"
   ]
  },
  {
   "cell_type": "markdown",
   "metadata": {},
   "source": [
    "Alejandro, ayer me llamó tu primo para saber como estaba y le comenté lo que estabamos planeando\n",
    "\n",
    "-Mami!! las cosas que se cuentan nunca salen\n",
    "\n",
    "Hay chico tú no crees que si todo sale bien le podamos ofrecer un trabajito, él ahora se compró una moto eléctrica y pudiera hacer la mensajería del restaurante y esta sería otra entrada de ganacias además el dinero se queda en la familia\n",
    "\n",
    "-Bueno dejame calcular que tan común es tener el servicio de delivery en el municipio donde voy a montar el local no vaya a ser que no sea algo rentable y tenga más pérdida que ganancia\n"
   ]
  },
  {
   "cell_type": "code",
   "execution_count": 12,
   "metadata": {},
   "outputs": [
    {
     "data": {
      "application/vnd.plotly.v1+json": {
       "config": {
        "plotlyServerURL": "https://plot.ly"
       },
       "data": [
        {
         "domain": {
          "x": [
           0,
           1
          ],
          "y": [
           0,
           1
          ]
         },
         "hovertemplate": "label=%{label}<br>value=%{value}<extra></extra>",
         "labels": [
          "10 de octubre",
          "arroyo naranjo",
          "boyeros",
          "centro habana",
          "cerro",
          "cotorro",
          "guanabacoa",
          "habana del este",
          "habana vieja",
          "la lisa",
          "marianao",
          "playa",
          "plaza de la revolucion",
          "regla",
          "san miguel del padron"
         ],
         "legendgroup": "",
         "name": "",
         "showlegend": true,
         "textinfo": "percent+label",
         "type": "pie",
         "values": [
          13.698630136986301,
          2.73972602739726,
          4.10958904109589,
          9.58904109589041,
          6.8493150684931505,
          6.8493150684931505,
          4.10958904109589,
          6.8493150684931505,
          15.068493150684931,
          2.73972602739726,
          2.73972602739726,
          5.47945205479452,
          13.698630136986301,
          1.36986301369863,
          4.10958904109589
         ]
        }
       ],
       "layout": {
        "legend": {
         "tracegroupgap": 0
        },
        "template": {
         "data": {
          "bar": [
           {
            "error_x": {
             "color": "#2a3f5f"
            },
            "error_y": {
             "color": "#2a3f5f"
            },
            "marker": {
             "line": {
              "color": "#E5ECF6",
              "width": 0.5
             },
             "pattern": {
              "fillmode": "overlay",
              "size": 10,
              "solidity": 0.2
             }
            },
            "type": "bar"
           }
          ],
          "barpolar": [
           {
            "marker": {
             "line": {
              "color": "#E5ECF6",
              "width": 0.5
             },
             "pattern": {
              "fillmode": "overlay",
              "size": 10,
              "solidity": 0.2
             }
            },
            "type": "barpolar"
           }
          ],
          "carpet": [
           {
            "aaxis": {
             "endlinecolor": "#2a3f5f",
             "gridcolor": "white",
             "linecolor": "white",
             "minorgridcolor": "white",
             "startlinecolor": "#2a3f5f"
            },
            "baxis": {
             "endlinecolor": "#2a3f5f",
             "gridcolor": "white",
             "linecolor": "white",
             "minorgridcolor": "white",
             "startlinecolor": "#2a3f5f"
            },
            "type": "carpet"
           }
          ],
          "choropleth": [
           {
            "colorbar": {
             "outlinewidth": 0,
             "ticks": ""
            },
            "type": "choropleth"
           }
          ],
          "contour": [
           {
            "colorbar": {
             "outlinewidth": 0,
             "ticks": ""
            },
            "colorscale": [
             [
              0,
              "#0d0887"
             ],
             [
              0.1111111111111111,
              "#46039f"
             ],
             [
              0.2222222222222222,
              "#7201a8"
             ],
             [
              0.3333333333333333,
              "#9c179e"
             ],
             [
              0.4444444444444444,
              "#bd3786"
             ],
             [
              0.5555555555555556,
              "#d8576b"
             ],
             [
              0.6666666666666666,
              "#ed7953"
             ],
             [
              0.7777777777777778,
              "#fb9f3a"
             ],
             [
              0.8888888888888888,
              "#fdca26"
             ],
             [
              1,
              "#f0f921"
             ]
            ],
            "type": "contour"
           }
          ],
          "contourcarpet": [
           {
            "colorbar": {
             "outlinewidth": 0,
             "ticks": ""
            },
            "type": "contourcarpet"
           }
          ],
          "heatmap": [
           {
            "colorbar": {
             "outlinewidth": 0,
             "ticks": ""
            },
            "colorscale": [
             [
              0,
              "#0d0887"
             ],
             [
              0.1111111111111111,
              "#46039f"
             ],
             [
              0.2222222222222222,
              "#7201a8"
             ],
             [
              0.3333333333333333,
              "#9c179e"
             ],
             [
              0.4444444444444444,
              "#bd3786"
             ],
             [
              0.5555555555555556,
              "#d8576b"
             ],
             [
              0.6666666666666666,
              "#ed7953"
             ],
             [
              0.7777777777777778,
              "#fb9f3a"
             ],
             [
              0.8888888888888888,
              "#fdca26"
             ],
             [
              1,
              "#f0f921"
             ]
            ],
            "type": "heatmap"
           }
          ],
          "heatmapgl": [
           {
            "colorbar": {
             "outlinewidth": 0,
             "ticks": ""
            },
            "colorscale": [
             [
              0,
              "#0d0887"
             ],
             [
              0.1111111111111111,
              "#46039f"
             ],
             [
              0.2222222222222222,
              "#7201a8"
             ],
             [
              0.3333333333333333,
              "#9c179e"
             ],
             [
              0.4444444444444444,
              "#bd3786"
             ],
             [
              0.5555555555555556,
              "#d8576b"
             ],
             [
              0.6666666666666666,
              "#ed7953"
             ],
             [
              0.7777777777777778,
              "#fb9f3a"
             ],
             [
              0.8888888888888888,
              "#fdca26"
             ],
             [
              1,
              "#f0f921"
             ]
            ],
            "type": "heatmapgl"
           }
          ],
          "histogram": [
           {
            "marker": {
             "pattern": {
              "fillmode": "overlay",
              "size": 10,
              "solidity": 0.2
             }
            },
            "type": "histogram"
           }
          ],
          "histogram2d": [
           {
            "colorbar": {
             "outlinewidth": 0,
             "ticks": ""
            },
            "colorscale": [
             [
              0,
              "#0d0887"
             ],
             [
              0.1111111111111111,
              "#46039f"
             ],
             [
              0.2222222222222222,
              "#7201a8"
             ],
             [
              0.3333333333333333,
              "#9c179e"
             ],
             [
              0.4444444444444444,
              "#bd3786"
             ],
             [
              0.5555555555555556,
              "#d8576b"
             ],
             [
              0.6666666666666666,
              "#ed7953"
             ],
             [
              0.7777777777777778,
              "#fb9f3a"
             ],
             [
              0.8888888888888888,
              "#fdca26"
             ],
             [
              1,
              "#f0f921"
             ]
            ],
            "type": "histogram2d"
           }
          ],
          "histogram2dcontour": [
           {
            "colorbar": {
             "outlinewidth": 0,
             "ticks": ""
            },
            "colorscale": [
             [
              0,
              "#0d0887"
             ],
             [
              0.1111111111111111,
              "#46039f"
             ],
             [
              0.2222222222222222,
              "#7201a8"
             ],
             [
              0.3333333333333333,
              "#9c179e"
             ],
             [
              0.4444444444444444,
              "#bd3786"
             ],
             [
              0.5555555555555556,
              "#d8576b"
             ],
             [
              0.6666666666666666,
              "#ed7953"
             ],
             [
              0.7777777777777778,
              "#fb9f3a"
             ],
             [
              0.8888888888888888,
              "#fdca26"
             ],
             [
              1,
              "#f0f921"
             ]
            ],
            "type": "histogram2dcontour"
           }
          ],
          "mesh3d": [
           {
            "colorbar": {
             "outlinewidth": 0,
             "ticks": ""
            },
            "type": "mesh3d"
           }
          ],
          "parcoords": [
           {
            "line": {
             "colorbar": {
              "outlinewidth": 0,
              "ticks": ""
             }
            },
            "type": "parcoords"
           }
          ],
          "pie": [
           {
            "automargin": true,
            "type": "pie"
           }
          ],
          "scatter": [
           {
            "fillpattern": {
             "fillmode": "overlay",
             "size": 10,
             "solidity": 0.2
            },
            "type": "scatter"
           }
          ],
          "scatter3d": [
           {
            "line": {
             "colorbar": {
              "outlinewidth": 0,
              "ticks": ""
             }
            },
            "marker": {
             "colorbar": {
              "outlinewidth": 0,
              "ticks": ""
             }
            },
            "type": "scatter3d"
           }
          ],
          "scattercarpet": [
           {
            "marker": {
             "colorbar": {
              "outlinewidth": 0,
              "ticks": ""
             }
            },
            "type": "scattercarpet"
           }
          ],
          "scattergeo": [
           {
            "marker": {
             "colorbar": {
              "outlinewidth": 0,
              "ticks": ""
             }
            },
            "type": "scattergeo"
           }
          ],
          "scattergl": [
           {
            "marker": {
             "colorbar": {
              "outlinewidth": 0,
              "ticks": ""
             }
            },
            "type": "scattergl"
           }
          ],
          "scattermapbox": [
           {
            "marker": {
             "colorbar": {
              "outlinewidth": 0,
              "ticks": ""
             }
            },
            "type": "scattermapbox"
           }
          ],
          "scatterpolar": [
           {
            "marker": {
             "colorbar": {
              "outlinewidth": 0,
              "ticks": ""
             }
            },
            "type": "scatterpolar"
           }
          ],
          "scatterpolargl": [
           {
            "marker": {
             "colorbar": {
              "outlinewidth": 0,
              "ticks": ""
             }
            },
            "type": "scatterpolargl"
           }
          ],
          "scatterternary": [
           {
            "marker": {
             "colorbar": {
              "outlinewidth": 0,
              "ticks": ""
             }
            },
            "type": "scatterternary"
           }
          ],
          "surface": [
           {
            "colorbar": {
             "outlinewidth": 0,
             "ticks": ""
            },
            "colorscale": [
             [
              0,
              "#0d0887"
             ],
             [
              0.1111111111111111,
              "#46039f"
             ],
             [
              0.2222222222222222,
              "#7201a8"
             ],
             [
              0.3333333333333333,
              "#9c179e"
             ],
             [
              0.4444444444444444,
              "#bd3786"
             ],
             [
              0.5555555555555556,
              "#d8576b"
             ],
             [
              0.6666666666666666,
              "#ed7953"
             ],
             [
              0.7777777777777778,
              "#fb9f3a"
             ],
             [
              0.8888888888888888,
              "#fdca26"
             ],
             [
              1,
              "#f0f921"
             ]
            ],
            "type": "surface"
           }
          ],
          "table": [
           {
            "cells": {
             "fill": {
              "color": "#EBF0F8"
             },
             "line": {
              "color": "white"
             }
            },
            "header": {
             "fill": {
              "color": "#C8D4E3"
             },
             "line": {
              "color": "white"
             }
            },
            "type": "table"
           }
          ]
         },
         "layout": {
          "annotationdefaults": {
           "arrowcolor": "#2a3f5f",
           "arrowhead": 0,
           "arrowwidth": 1
          },
          "autotypenumbers": "strict",
          "coloraxis": {
           "colorbar": {
            "outlinewidth": 0,
            "ticks": ""
           }
          },
          "colorscale": {
           "diverging": [
            [
             0,
             "#8e0152"
            ],
            [
             0.1,
             "#c51b7d"
            ],
            [
             0.2,
             "#de77ae"
            ],
            [
             0.3,
             "#f1b6da"
            ],
            [
             0.4,
             "#fde0ef"
            ],
            [
             0.5,
             "#f7f7f7"
            ],
            [
             0.6,
             "#e6f5d0"
            ],
            [
             0.7,
             "#b8e186"
            ],
            [
             0.8,
             "#7fbc41"
            ],
            [
             0.9,
             "#4d9221"
            ],
            [
             1,
             "#276419"
            ]
           ],
           "sequential": [
            [
             0,
             "#0d0887"
            ],
            [
             0.1111111111111111,
             "#46039f"
            ],
            [
             0.2222222222222222,
             "#7201a8"
            ],
            [
             0.3333333333333333,
             "#9c179e"
            ],
            [
             0.4444444444444444,
             "#bd3786"
            ],
            [
             0.5555555555555556,
             "#d8576b"
            ],
            [
             0.6666666666666666,
             "#ed7953"
            ],
            [
             0.7777777777777778,
             "#fb9f3a"
            ],
            [
             0.8888888888888888,
             "#fdca26"
            ],
            [
             1,
             "#f0f921"
            ]
           ],
           "sequentialminus": [
            [
             0,
             "#0d0887"
            ],
            [
             0.1111111111111111,
             "#46039f"
            ],
            [
             0.2222222222222222,
             "#7201a8"
            ],
            [
             0.3333333333333333,
             "#9c179e"
            ],
            [
             0.4444444444444444,
             "#bd3786"
            ],
            [
             0.5555555555555556,
             "#d8576b"
            ],
            [
             0.6666666666666666,
             "#ed7953"
            ],
            [
             0.7777777777777778,
             "#fb9f3a"
            ],
            [
             0.8888888888888888,
             "#fdca26"
            ],
            [
             1,
             "#f0f921"
            ]
           ]
          },
          "colorway": [
           "#636efa",
           "#EF553B",
           "#00cc96",
           "#ab63fa",
           "#FFA15A",
           "#19d3f3",
           "#FF6692",
           "#B6E880",
           "#FF97FF",
           "#FECB52"
          ],
          "font": {
           "color": "#2a3f5f"
          },
          "geo": {
           "bgcolor": "white",
           "lakecolor": "white",
           "landcolor": "#E5ECF6",
           "showlakes": true,
           "showland": true,
           "subunitcolor": "white"
          },
          "hoverlabel": {
           "align": "left"
          },
          "hovermode": "closest",
          "mapbox": {
           "style": "light"
          },
          "paper_bgcolor": "white",
          "plot_bgcolor": "#E5ECF6",
          "polar": {
           "angularaxis": {
            "gridcolor": "white",
            "linecolor": "white",
            "ticks": ""
           },
           "bgcolor": "#E5ECF6",
           "radialaxis": {
            "gridcolor": "white",
            "linecolor": "white",
            "ticks": ""
           }
          },
          "scene": {
           "xaxis": {
            "backgroundcolor": "#E5ECF6",
            "gridcolor": "white",
            "gridwidth": 2,
            "linecolor": "white",
            "showbackground": true,
            "ticks": "",
            "zerolinecolor": "white"
           },
           "yaxis": {
            "backgroundcolor": "#E5ECF6",
            "gridcolor": "white",
            "gridwidth": 2,
            "linecolor": "white",
            "showbackground": true,
            "ticks": "",
            "zerolinecolor": "white"
           },
           "zaxis": {
            "backgroundcolor": "#E5ECF6",
            "gridcolor": "white",
            "gridwidth": 2,
            "linecolor": "white",
            "showbackground": true,
            "ticks": "",
            "zerolinecolor": "white"
           }
          },
          "shapedefaults": {
           "line": {
            "color": "#2a3f5f"
           }
          },
          "ternary": {
           "aaxis": {
            "gridcolor": "white",
            "linecolor": "white",
            "ticks": ""
           },
           "baxis": {
            "gridcolor": "white",
            "linecolor": "white",
            "ticks": ""
           },
           "bgcolor": "#E5ECF6",
           "caxis": {
            "gridcolor": "white",
            "linecolor": "white",
            "ticks": ""
           }
          },
          "title": {
           "x": 0.05
          },
          "xaxis": {
           "automargin": true,
           "gridcolor": "white",
           "linecolor": "white",
           "ticks": "",
           "title": {
            "standoff": 15
           },
           "zerolinecolor": "white",
           "zerolinewidth": 2
          },
          "yaxis": {
           "automargin": true,
           "gridcolor": "white",
           "linecolor": "white",
           "ticks": "",
           "title": {
            "standoff": 15
           },
           "zerolinecolor": "white",
           "zerolinewidth": 2
          }
         }
        },
        "title": {
         "text": "Porcentaje del Total de mensajeria por Municipio"
        }
       }
      }
     },
     "metadata": {},
     "output_type": "display_data"
    }
   ],
   "source": [
    "#Grafico de pastel sobre el porciento de mensajeria por municipio :)\n",
    "info_mensajeria = data2[data2[\"delivery\"].notna()]\n",
    "total_mensajeria = info_mensajeria[\"delivery\"].sum()\n",
    "mensajeria_por_municipio = info_mensajeria.groupby(\"location.municipe\")[\"delivery\"].sum()\n",
    "porciento_restaurantes_mensajeria = round(bp.c_porciento(mensajeria_por_municipio, total_mensajeria),2)\n",
    "\n",
    "mensajeria_info = []\n",
    "for i in porciento_restaurantes_mensajeria.index:\n",
    "    i = bp.i_nombre(i)\n",
    "    mensajeria_info.append(i)\n",
    "\n",
    "fig = px.pie(\n",
    "    names=porciento_restaurantes_mensajeria.index,\n",
    "    values=porciento_restaurantes_mensajeria.values,\n",
    "    title=\"Porcentaje del Total de mensajeria por Municipio\"\n",
    ")\n",
    "\n",
    "fig.update_traces(textinfo=\"percent+label\")\n",
    "fig.show()\n",
    "\n"
   ]
  },
  {
   "cell_type": "markdown",
   "metadata": {},
   "source": [
    "Tener un local que pueda rentar para la organización de eventos además de ser un restaurante puede ser una fuente luctrativa de ingresos por ello Alejandro antes de encontrar el lugar donde iba a poner su restaurante decidió investigar que capacidad media tienen los restaurantes que ofertan este servicio para buscar un local que cumpla con esas condiciones de espacios."
   ]
  },
  {
   "cell_type": "code",
   "execution_count": 13,
   "metadata": {},
   "outputs": [
    {
     "name": "stdout",
     "output_type": "stream",
     "text": [
      "50\n"
     ]
    },
    {
     "data": {
      "application/vnd.plotly.v1+json": {
       "config": {
        "plotlyServerURL": "https://plot.ly"
       },
       "data": [
        {
         "alignmentgroup": "True",
         "boxpoints": "all",
         "hovertemplate": "Capacidad Mediana de los Restaurantes=%{y}<extra></extra>",
         "legendgroup": "",
         "marker": {
          "color": "#636efa"
         },
         "name": "",
         "notched": false,
         "offsetgroup": "",
         "orientation": "v",
         "showlegend": false,
         "type": "box",
         "x0": " ",
         "xaxis": "x",
         "y": [
          30,
          80,
          36,
          70,
          30,
          40,
          12,
          200,
          25,
          40,
          60,
          50,
          70,
          20,
          50,
          30,
          20,
          45,
          50,
          35,
          40,
          28,
          60,
          50,
          70,
          36,
          60,
          38,
          60,
          50,
          50,
          60,
          30,
          65,
          20,
          50,
          12,
          30,
          50,
          20,
          93,
          120,
          50,
          50,
          70,
          40,
          50,
          20,
          16,
          20,
          30,
          20,
          45,
          30,
          38,
          36,
          50,
          50,
          60,
          150,
          35,
          50,
          180,
          80,
          24,
          32,
          40,
          30,
          54,
          60,
          20,
          40,
          40,
          55,
          24,
          50,
          40,
          28,
          34,
          55,
          100,
          20,
          35,
          null,
          40,
          40,
          60,
          30,
          120,
          30,
          30,
          60,
          70,
          35,
          60,
          20,
          40,
          80,
          null,
          40,
          40,
          50,
          42,
          30,
          40,
          100,
          12,
          30,
          40,
          null,
          40,
          28,
          50,
          45,
          25,
          50,
          30,
          25,
          35,
          40,
          44,
          40,
          60,
          30,
          50,
          36,
          20,
          40,
          70,
          45,
          40,
          35
         ],
         "y0": " ",
         "yaxis": "y"
        }
       ],
       "layout": {
        "boxmode": "group",
        "legend": {
         "tracegroupgap": 0
        },
        "template": {
         "data": {
          "bar": [
           {
            "error_x": {
             "color": "#2a3f5f"
            },
            "error_y": {
             "color": "#2a3f5f"
            },
            "marker": {
             "line": {
              "color": "#E5ECF6",
              "width": 0.5
             },
             "pattern": {
              "fillmode": "overlay",
              "size": 10,
              "solidity": 0.2
             }
            },
            "type": "bar"
           }
          ],
          "barpolar": [
           {
            "marker": {
             "line": {
              "color": "#E5ECF6",
              "width": 0.5
             },
             "pattern": {
              "fillmode": "overlay",
              "size": 10,
              "solidity": 0.2
             }
            },
            "type": "barpolar"
           }
          ],
          "carpet": [
           {
            "aaxis": {
             "endlinecolor": "#2a3f5f",
             "gridcolor": "white",
             "linecolor": "white",
             "minorgridcolor": "white",
             "startlinecolor": "#2a3f5f"
            },
            "baxis": {
             "endlinecolor": "#2a3f5f",
             "gridcolor": "white",
             "linecolor": "white",
             "minorgridcolor": "white",
             "startlinecolor": "#2a3f5f"
            },
            "type": "carpet"
           }
          ],
          "choropleth": [
           {
            "colorbar": {
             "outlinewidth": 0,
             "ticks": ""
            },
            "type": "choropleth"
           }
          ],
          "contour": [
           {
            "colorbar": {
             "outlinewidth": 0,
             "ticks": ""
            },
            "colorscale": [
             [
              0,
              "#0d0887"
             ],
             [
              0.1111111111111111,
              "#46039f"
             ],
             [
              0.2222222222222222,
              "#7201a8"
             ],
             [
              0.3333333333333333,
              "#9c179e"
             ],
             [
              0.4444444444444444,
              "#bd3786"
             ],
             [
              0.5555555555555556,
              "#d8576b"
             ],
             [
              0.6666666666666666,
              "#ed7953"
             ],
             [
              0.7777777777777778,
              "#fb9f3a"
             ],
             [
              0.8888888888888888,
              "#fdca26"
             ],
             [
              1,
              "#f0f921"
             ]
            ],
            "type": "contour"
           }
          ],
          "contourcarpet": [
           {
            "colorbar": {
             "outlinewidth": 0,
             "ticks": ""
            },
            "type": "contourcarpet"
           }
          ],
          "heatmap": [
           {
            "colorbar": {
             "outlinewidth": 0,
             "ticks": ""
            },
            "colorscale": [
             [
              0,
              "#0d0887"
             ],
             [
              0.1111111111111111,
              "#46039f"
             ],
             [
              0.2222222222222222,
              "#7201a8"
             ],
             [
              0.3333333333333333,
              "#9c179e"
             ],
             [
              0.4444444444444444,
              "#bd3786"
             ],
             [
              0.5555555555555556,
              "#d8576b"
             ],
             [
              0.6666666666666666,
              "#ed7953"
             ],
             [
              0.7777777777777778,
              "#fb9f3a"
             ],
             [
              0.8888888888888888,
              "#fdca26"
             ],
             [
              1,
              "#f0f921"
             ]
            ],
            "type": "heatmap"
           }
          ],
          "heatmapgl": [
           {
            "colorbar": {
             "outlinewidth": 0,
             "ticks": ""
            },
            "colorscale": [
             [
              0,
              "#0d0887"
             ],
             [
              0.1111111111111111,
              "#46039f"
             ],
             [
              0.2222222222222222,
              "#7201a8"
             ],
             [
              0.3333333333333333,
              "#9c179e"
             ],
             [
              0.4444444444444444,
              "#bd3786"
             ],
             [
              0.5555555555555556,
              "#d8576b"
             ],
             [
              0.6666666666666666,
              "#ed7953"
             ],
             [
              0.7777777777777778,
              "#fb9f3a"
             ],
             [
              0.8888888888888888,
              "#fdca26"
             ],
             [
              1,
              "#f0f921"
             ]
            ],
            "type": "heatmapgl"
           }
          ],
          "histogram": [
           {
            "marker": {
             "pattern": {
              "fillmode": "overlay",
              "size": 10,
              "solidity": 0.2
             }
            },
            "type": "histogram"
           }
          ],
          "histogram2d": [
           {
            "colorbar": {
             "outlinewidth": 0,
             "ticks": ""
            },
            "colorscale": [
             [
              0,
              "#0d0887"
             ],
             [
              0.1111111111111111,
              "#46039f"
             ],
             [
              0.2222222222222222,
              "#7201a8"
             ],
             [
              0.3333333333333333,
              "#9c179e"
             ],
             [
              0.4444444444444444,
              "#bd3786"
             ],
             [
              0.5555555555555556,
              "#d8576b"
             ],
             [
              0.6666666666666666,
              "#ed7953"
             ],
             [
              0.7777777777777778,
              "#fb9f3a"
             ],
             [
              0.8888888888888888,
              "#fdca26"
             ],
             [
              1,
              "#f0f921"
             ]
            ],
            "type": "histogram2d"
           }
          ],
          "histogram2dcontour": [
           {
            "colorbar": {
             "outlinewidth": 0,
             "ticks": ""
            },
            "colorscale": [
             [
              0,
              "#0d0887"
             ],
             [
              0.1111111111111111,
              "#46039f"
             ],
             [
              0.2222222222222222,
              "#7201a8"
             ],
             [
              0.3333333333333333,
              "#9c179e"
             ],
             [
              0.4444444444444444,
              "#bd3786"
             ],
             [
              0.5555555555555556,
              "#d8576b"
             ],
             [
              0.6666666666666666,
              "#ed7953"
             ],
             [
              0.7777777777777778,
              "#fb9f3a"
             ],
             [
              0.8888888888888888,
              "#fdca26"
             ],
             [
              1,
              "#f0f921"
             ]
            ],
            "type": "histogram2dcontour"
           }
          ],
          "mesh3d": [
           {
            "colorbar": {
             "outlinewidth": 0,
             "ticks": ""
            },
            "type": "mesh3d"
           }
          ],
          "parcoords": [
           {
            "line": {
             "colorbar": {
              "outlinewidth": 0,
              "ticks": ""
             }
            },
            "type": "parcoords"
           }
          ],
          "pie": [
           {
            "automargin": true,
            "type": "pie"
           }
          ],
          "scatter": [
           {
            "fillpattern": {
             "fillmode": "overlay",
             "size": 10,
             "solidity": 0.2
            },
            "type": "scatter"
           }
          ],
          "scatter3d": [
           {
            "line": {
             "colorbar": {
              "outlinewidth": 0,
              "ticks": ""
             }
            },
            "marker": {
             "colorbar": {
              "outlinewidth": 0,
              "ticks": ""
             }
            },
            "type": "scatter3d"
           }
          ],
          "scattercarpet": [
           {
            "marker": {
             "colorbar": {
              "outlinewidth": 0,
              "ticks": ""
             }
            },
            "type": "scattercarpet"
           }
          ],
          "scattergeo": [
           {
            "marker": {
             "colorbar": {
              "outlinewidth": 0,
              "ticks": ""
             }
            },
            "type": "scattergeo"
           }
          ],
          "scattergl": [
           {
            "marker": {
             "colorbar": {
              "outlinewidth": 0,
              "ticks": ""
             }
            },
            "type": "scattergl"
           }
          ],
          "scattermapbox": [
           {
            "marker": {
             "colorbar": {
              "outlinewidth": 0,
              "ticks": ""
             }
            },
            "type": "scattermapbox"
           }
          ],
          "scatterpolar": [
           {
            "marker": {
             "colorbar": {
              "outlinewidth": 0,
              "ticks": ""
             }
            },
            "type": "scatterpolar"
           }
          ],
          "scatterpolargl": [
           {
            "marker": {
             "colorbar": {
              "outlinewidth": 0,
              "ticks": ""
             }
            },
            "type": "scatterpolargl"
           }
          ],
          "scatterternary": [
           {
            "marker": {
             "colorbar": {
              "outlinewidth": 0,
              "ticks": ""
             }
            },
            "type": "scatterternary"
           }
          ],
          "surface": [
           {
            "colorbar": {
             "outlinewidth": 0,
             "ticks": ""
            },
            "colorscale": [
             [
              0,
              "#0d0887"
             ],
             [
              0.1111111111111111,
              "#46039f"
             ],
             [
              0.2222222222222222,
              "#7201a8"
             ],
             [
              0.3333333333333333,
              "#9c179e"
             ],
             [
              0.4444444444444444,
              "#bd3786"
             ],
             [
              0.5555555555555556,
              "#d8576b"
             ],
             [
              0.6666666666666666,
              "#ed7953"
             ],
             [
              0.7777777777777778,
              "#fb9f3a"
             ],
             [
              0.8888888888888888,
              "#fdca26"
             ],
             [
              1,
              "#f0f921"
             ]
            ],
            "type": "surface"
           }
          ],
          "table": [
           {
            "cells": {
             "fill": {
              "color": "#EBF0F8"
             },
             "line": {
              "color": "white"
             }
            },
            "header": {
             "fill": {
              "color": "#C8D4E3"
             },
             "line": {
              "color": "white"
             }
            },
            "type": "table"
           }
          ]
         },
         "layout": {
          "annotationdefaults": {
           "arrowcolor": "#2a3f5f",
           "arrowhead": 0,
           "arrowwidth": 1
          },
          "autotypenumbers": "strict",
          "coloraxis": {
           "colorbar": {
            "outlinewidth": 0,
            "ticks": ""
           }
          },
          "colorscale": {
           "diverging": [
            [
             0,
             "#8e0152"
            ],
            [
             0.1,
             "#c51b7d"
            ],
            [
             0.2,
             "#de77ae"
            ],
            [
             0.3,
             "#f1b6da"
            ],
            [
             0.4,
             "#fde0ef"
            ],
            [
             0.5,
             "#f7f7f7"
            ],
            [
             0.6,
             "#e6f5d0"
            ],
            [
             0.7,
             "#b8e186"
            ],
            [
             0.8,
             "#7fbc41"
            ],
            [
             0.9,
             "#4d9221"
            ],
            [
             1,
             "#276419"
            ]
           ],
           "sequential": [
            [
             0,
             "#0d0887"
            ],
            [
             0.1111111111111111,
             "#46039f"
            ],
            [
             0.2222222222222222,
             "#7201a8"
            ],
            [
             0.3333333333333333,
             "#9c179e"
            ],
            [
             0.4444444444444444,
             "#bd3786"
            ],
            [
             0.5555555555555556,
             "#d8576b"
            ],
            [
             0.6666666666666666,
             "#ed7953"
            ],
            [
             0.7777777777777778,
             "#fb9f3a"
            ],
            [
             0.8888888888888888,
             "#fdca26"
            ],
            [
             1,
             "#f0f921"
            ]
           ],
           "sequentialminus": [
            [
             0,
             "#0d0887"
            ],
            [
             0.1111111111111111,
             "#46039f"
            ],
            [
             0.2222222222222222,
             "#7201a8"
            ],
            [
             0.3333333333333333,
             "#9c179e"
            ],
            [
             0.4444444444444444,
             "#bd3786"
            ],
            [
             0.5555555555555556,
             "#d8576b"
            ],
            [
             0.6666666666666666,
             "#ed7953"
            ],
            [
             0.7777777777777778,
             "#fb9f3a"
            ],
            [
             0.8888888888888888,
             "#fdca26"
            ],
            [
             1,
             "#f0f921"
            ]
           ]
          },
          "colorway": [
           "#636efa",
           "#EF553B",
           "#00cc96",
           "#ab63fa",
           "#FFA15A",
           "#19d3f3",
           "#FF6692",
           "#B6E880",
           "#FF97FF",
           "#FECB52"
          ],
          "font": {
           "color": "#2a3f5f"
          },
          "geo": {
           "bgcolor": "white",
           "lakecolor": "white",
           "landcolor": "#E5ECF6",
           "showlakes": true,
           "showland": true,
           "subunitcolor": "white"
          },
          "hoverlabel": {
           "align": "left"
          },
          "hovermode": "closest",
          "mapbox": {
           "style": "light"
          },
          "paper_bgcolor": "white",
          "plot_bgcolor": "#E5ECF6",
          "polar": {
           "angularaxis": {
            "gridcolor": "white",
            "linecolor": "white",
            "ticks": ""
           },
           "bgcolor": "#E5ECF6",
           "radialaxis": {
            "gridcolor": "white",
            "linecolor": "white",
            "ticks": ""
           }
          },
          "scene": {
           "xaxis": {
            "backgroundcolor": "#E5ECF6",
            "gridcolor": "white",
            "gridwidth": 2,
            "linecolor": "white",
            "showbackground": true,
            "ticks": "",
            "zerolinecolor": "white"
           },
           "yaxis": {
            "backgroundcolor": "#E5ECF6",
            "gridcolor": "white",
            "gridwidth": 2,
            "linecolor": "white",
            "showbackground": true,
            "ticks": "",
            "zerolinecolor": "white"
           },
           "zaxis": {
            "backgroundcolor": "#E5ECF6",
            "gridcolor": "white",
            "gridwidth": 2,
            "linecolor": "white",
            "showbackground": true,
            "ticks": "",
            "zerolinecolor": "white"
           }
          },
          "shapedefaults": {
           "line": {
            "color": "#2a3f5f"
           }
          },
          "ternary": {
           "aaxis": {
            "gridcolor": "white",
            "linecolor": "white",
            "ticks": ""
           },
           "baxis": {
            "gridcolor": "white",
            "linecolor": "white",
            "ticks": ""
           },
           "bgcolor": "#E5ECF6",
           "caxis": {
            "gridcolor": "white",
            "linecolor": "white",
            "ticks": ""
           }
          },
          "title": {
           "x": 0.05
          },
          "xaxis": {
           "automargin": true,
           "gridcolor": "white",
           "linecolor": "white",
           "ticks": "",
           "title": {
            "standoff": 15
           },
           "zerolinecolor": "white",
           "zerolinewidth": 2
          },
          "yaxis": {
           "automargin": true,
           "gridcolor": "white",
           "linecolor": "white",
           "ticks": "",
           "title": {
            "standoff": 15
           },
           "zerolinecolor": "white",
           "zerolinewidth": 2
          }
         }
        },
        "title": {
         "text": "Distribución de la Capacidad de los Restaurantes con Reserva"
        },
        "xaxis": {
         "anchor": "y",
         "domain": [
          0,
          1
         ]
        },
        "yaxis": {
         "anchor": "x",
         "domain": [
          0,
          1
         ],
         "title": {
          "text": "Capacidad Mediana de los Restaurantes"
         }
        }
       }
      }
     },
     "metadata": {},
     "output_type": "display_data"
    }
   ],
   "source": [
    "#Grafica que muestra la capacidad mediana de los restaurantes que aceptan reservacion :)\n",
    "\n",
    "restaurantes_con_reserva = data2[data2[\"reservation\"] == True]\n",
    "capacidad_reserva= restaurantes_con_reserva[\"capacity\"]\n",
    "mediana_capacidad = round(bp.c_mediana(capacidad_reserva))\n",
    "print(mediana_capacidad)\n",
    "\n",
    "fig = px.box(\n",
    "    restaurantes_con_reserva,\n",
    "    y='capacity',\n",
    "    title='Distribución de la Capacidad de los Restaurantes con Reserva',\n",
    "    labels={'capacity': 'Capacidad Mediana de los Restaurantes'},\n",
    "    points=\"all\"\n",
    "    \n",
    ")\n",
    "\n",
    "fig.show()\n"
   ]
  },
  {
   "cell_type": "markdown",
   "metadata": {},
   "source": [
    "Tendríamos que agregar nuestra localización a un mapa en línea para facilitarle la úbicacion a todos los interesados "
   ]
  },
  {
   "cell_type": "code",
   "execution_count": 14,
   "metadata": {},
   "outputs": [
    {
     "data": {
      "text/html": [
       "<div style=\"width:100%;\"><div style=\"position:relative;width:100%;height:0;padding-bottom:60%;\"><span style=\"color:#565656\">Make this Notebook Trusted to load map: File -> Trust Notebook</span><iframe srcdoc=\"&lt;!DOCTYPE html&gt;\n",
       "&lt;html&gt;\n",
       "&lt;head&gt;\n",
       "    \n",
       "    &lt;meta http-equiv=&quot;content-type&quot; content=&quot;text/html; charset=UTF-8&quot; /&gt;\n",
       "    \n",
       "        &lt;script&gt;\n",
       "            L_NO_TOUCH = false;\n",
       "            L_DISABLE_3D = false;\n",
       "        &lt;/script&gt;\n",
       "    \n",
       "    &lt;style&gt;html, body {width: 100%;height: 100%;margin: 0;padding: 0;}&lt;/style&gt;\n",
       "    &lt;style&gt;#map {position:absolute;top:0;bottom:0;right:0;left:0;}&lt;/style&gt;\n",
       "    &lt;script src=&quot;https://cdn.jsdelivr.net/npm/leaflet@1.9.3/dist/leaflet.js&quot;&gt;&lt;/script&gt;\n",
       "    &lt;script src=&quot;https://code.jquery.com/jquery-3.7.1.min.js&quot;&gt;&lt;/script&gt;\n",
       "    &lt;script src=&quot;https://cdn.jsdelivr.net/npm/bootstrap@5.2.2/dist/js/bootstrap.bundle.min.js&quot;&gt;&lt;/script&gt;\n",
       "    &lt;script src=&quot;https://cdnjs.cloudflare.com/ajax/libs/Leaflet.awesome-markers/2.0.2/leaflet.awesome-markers.js&quot;&gt;&lt;/script&gt;\n",
       "    &lt;link rel=&quot;stylesheet&quot; href=&quot;https://cdn.jsdelivr.net/npm/leaflet@1.9.3/dist/leaflet.css&quot;/&gt;\n",
       "    &lt;link rel=&quot;stylesheet&quot; href=&quot;https://cdn.jsdelivr.net/npm/bootstrap@5.2.2/dist/css/bootstrap.min.css&quot;/&gt;\n",
       "    &lt;link rel=&quot;stylesheet&quot; href=&quot;https://netdna.bootstrapcdn.com/bootstrap/3.0.0/css/bootstrap-glyphicons.css&quot;/&gt;\n",
       "    &lt;link rel=&quot;stylesheet&quot; href=&quot;https://cdn.jsdelivr.net/npm/@fortawesome/fontawesome-free@6.2.0/css/all.min.css&quot;/&gt;\n",
       "    &lt;link rel=&quot;stylesheet&quot; href=&quot;https://cdnjs.cloudflare.com/ajax/libs/Leaflet.awesome-markers/2.0.2/leaflet.awesome-markers.css&quot;/&gt;\n",
       "    &lt;link rel=&quot;stylesheet&quot; href=&quot;https://cdn.jsdelivr.net/gh/python-visualization/folium/folium/templates/leaflet.awesome.rotate.min.css&quot;/&gt;\n",
       "    \n",
       "            &lt;meta name=&quot;viewport&quot; content=&quot;width=device-width,\n",
       "                initial-scale=1.0, maximum-scale=1.0, user-scalable=no&quot; /&gt;\n",
       "            &lt;style&gt;\n",
       "                #map_e4b9394eed1b90c36772b623ee0598e0 {\n",
       "                    position: relative;\n",
       "                    width: 100.0%;\n",
       "                    height: 100.0%;\n",
       "                    left: 0.0%;\n",
       "                    top: 0.0%;\n",
       "                }\n",
       "                .leaflet-container { font-size: 1rem; }\n",
       "            &lt;/style&gt;\n",
       "        \n",
       "&lt;/head&gt;\n",
       "&lt;body&gt;\n",
       "    \n",
       "    \n",
       "            &lt;div class=&quot;folium-map&quot; id=&quot;map_e4b9394eed1b90c36772b623ee0598e0&quot; &gt;&lt;/div&gt;\n",
       "        \n",
       "&lt;/body&gt;\n",
       "&lt;script&gt;\n",
       "    \n",
       "    \n",
       "            var map_e4b9394eed1b90c36772b623ee0598e0 = L.map(\n",
       "                &quot;map_e4b9394eed1b90c36772b623ee0598e0&quot;,\n",
       "                {\n",
       "                    center: [23.1, -82.4],\n",
       "                    crs: L.CRS.EPSG3857,\n",
       "                    ...{\n",
       "  &quot;zoom&quot;: 11,\n",
       "  &quot;zoomControl&quot;: true,\n",
       "  &quot;preferCanvas&quot;: false,\n",
       "}\n",
       "\n",
       "                }\n",
       "            );\n",
       "\n",
       "            \n",
       "\n",
       "        \n",
       "    \n",
       "            var tile_layer_10460bd252ee0b03f0a4555c38305f12 = L.tileLayer(\n",
       "                &quot;https://tile.openstreetmap.org/{z}/{x}/{y}.png&quot;,\n",
       "                {\n",
       "  &quot;minZoom&quot;: 0,\n",
       "  &quot;maxZoom&quot;: 19,\n",
       "  &quot;maxNativeZoom&quot;: 19,\n",
       "  &quot;noWrap&quot;: false,\n",
       "  &quot;attribution&quot;: &quot;\\u0026copy; \\u003ca href=\\&quot;https://www.openstreetmap.org/copyright\\&quot;\\u003eOpenStreetMap\\u003c/a\\u003e contributors&quot;,\n",
       "  &quot;subdomains&quot;: &quot;abc&quot;,\n",
       "  &quot;detectRetina&quot;: false,\n",
       "  &quot;tms&quot;: false,\n",
       "  &quot;opacity&quot;: 1,\n",
       "}\n",
       "\n",
       "            );\n",
       "        \n",
       "    \n",
       "            tile_layer_10460bd252ee0b03f0a4555c38305f12.addTo(map_e4b9394eed1b90c36772b623ee0598e0);\n",
       "        \n",
       "    \n",
       "\n",
       "        function geo_json_e9e0ca20485b78085b357f6488509857_onEachFeature(feature, layer) {\n",
       "            layer.on({\n",
       "            });\n",
       "        };\n",
       "        var geo_json_e9e0ca20485b78085b357f6488509857 = L.geoJson(null, {\n",
       "                onEachFeature: geo_json_e9e0ca20485b78085b357f6488509857_onEachFeature,\n",
       "            \n",
       "            ...{\n",
       "}\n",
       "        });\n",
       "\n",
       "        function geo_json_e9e0ca20485b78085b357f6488509857_add (data) {\n",
       "            geo_json_e9e0ca20485b78085b357f6488509857\n",
       "                .addData(data);\n",
       "        }\n",
       "            geo_json_e9e0ca20485b78085b357f6488509857_add({&quot;features&quot;: [{&quot;geometry&quot;: {&quot;coordinates&quot;: [[[-82.5403, 23.0517], [-82.5289, 23.0628], [-82.5239, 23.0735], [-82.509, 23.0829], [-82.5045, 23.0806], [-82.4981, 23.0844], [-82.5026, 23.0865], [-82.4957, 23.0937], [-82.4911, 23.0937], [-82.4894, 23.0897], [-82.4872, 23.0951], [-82.4835, 23.0947], [-82.4781, 23.0901], [-82.4783, 23.0949], [-82.4606, 23.0936], [-82.4609, 23.0976], [-82.4554, 23.0961], [-82.4535, 23.1017], [-82.4346, 23.1193], [-82.4152, 23.1334], [-82.4121, 23.1339], [-82.4119, 23.1305], [-82.4053, 23.1406], [-82.3912, 23.1478], [-82.3696, 23.1424], [-82.3579, 23.1468], [-82.3522, 23.145], [-82.345, 23.1353], [-82.3478, 23.1286], [-82.3577, 23.122], [-82.351, 23.1205], [-82.3448, 23.1266], [-82.3422, 23.1147], [-82.3343, 23.1123], [-82.3406, 23.1243], [-82.3359, 23.1273], [-82.3374, 23.1347], [-82.328, 23.1303], [-82.3281, 23.1382], [-82.3229, 23.1427], [-82.3446, 23.1424], [-82.3563, 23.1516], [-82.3244, 23.1664], [-82.3026, 23.1715], [-82.2944, 23.1688], [-82.2911, 23.1637], [-82.2892, 23.1702], [-82.2772, 23.1754], [-82.2442, 23.1786], [-82.2402, 23.1732], [-82.2393, 23.1783], [-82.228, 23.1806], [-82.214, 23.1785], [-82.2115, 23.1724], [-82.2121, 23.1785], [-82.2045, 23.1806], [-82.1518, 23.172], [-82.1258, 23.1744], [-82.1225, 23.1684], [-82.1161, 23.1715], [-82.1209, 23.1724], [-82.1185, 23.1737], [-82.098, 23.1729], [-82.0929, 23.1761], [-82.0925, 23.168], [-82.1016, 23.1666], [-82.1025, 23.1598], [-82.082, 23.1487], [-82.0799, 23.1245], [-82.0931, 23.1221], [-82.0861, 23.1055], [-82.1016, 23.0931], [-82.1015, 23.0847], [-82.1087, 23.0806], [-82.1058, 23.0767], [-82.1096, 23.0683], [-82.1011, 23.0555], [-82.1148, 23.0547], [-82.1445, 23.0685], [-82.15, 23.075], [-82.1562, 23.0744], [-82.1764, 23.0576], [-82.2231, 23.064], [-82.2256, 23.0165], [-82.1964, 22.9972], [-82.1979, 22.993], [-82.2115, 22.9944], [-82.2167, 22.9997], [-82.2283, 22.9804], [-82.2618, 22.9734], [-82.2475, 22.9564], [-82.2676, 22.9578], [-82.2798, 22.9519], [-82.2976, 22.9541], [-82.3009, 22.9627], [-82.3056, 22.9648], [-82.3132, 22.9649], [-82.3304, 22.9563], [-82.3648, 22.9667], [-82.3775, 22.9657], [-82.3759, 22.9558], [-82.3658, 22.9405], [-82.3868, 22.9337], [-82.4152, 22.9483], [-82.4287, 22.9466], [-82.4336, 22.9403], [-82.4458, 22.9471], [-82.4436, 22.9814], [-82.4482, 22.9851], [-82.4578, 22.9775], [-82.4661, 22.982], [-82.4672, 22.9783], [-82.4843, 22.9729], [-82.498, 22.9947], [-82.5012, 23.0095], [-82.5081, 23.0153], [-82.5066, 23.0211], [-82.4982, 23.0262], [-82.4949, 23.0323], [-82.4973, 23.0392], [-82.4917, 23.0411], [-82.4889, 23.0523], [-82.4921, 23.0736], [-82.4972, 23.0736], [-82.5021, 23.0687], [-82.5108, 23.0703], [-82.5329, 23.0523], [-82.5403, 23.0517]]], &quot;type&quot;: &quot;Polygon&quot;}, &quot;properties&quot;: {&quot;DPA_province_code&quot;: &quot;23&quot;, &quot;country&quot;: &quot;Cuba&quot;, &quot;country_domain&quot;: &quot;cu&quot;, &quot;province&quot;: &quot;La Habana&quot;, &quot;province_id&quot;: &quot;lha&quot;, &quot;region&quot;: &quot;province&quot;}, &quot;type&quot;: &quot;Feature&quot;}], &quot;type&quot;: &quot;FeatureCollection&quot;});\n",
       "        geo_json_e9e0ca20485b78085b357f6488509857.setStyle(function(feature) {return feature.properties.style;});\n",
       "\n",
       "        \n",
       "    \n",
       "            geo_json_e9e0ca20485b78085b357f6488509857.addTo(map_e4b9394eed1b90c36772b623ee0598e0);\n",
       "        \n",
       "    \n",
       "            var marker_6f2f410757575c2bcb3f3edbbb5f60d9 = L.marker(\n",
       "                [23.127994303036843, -82.33433402886767],\n",
       "                {\n",
       "}\n",
       "            ).addTo(map_e4b9394eed1b90c36772b623ee0598e0);\n",
       "        \n",
       "    \n",
       "            var icon_6df23d0f3dcc82d7dd0e649c9a52bac9 = L.AwesomeMarkers.icon(\n",
       "                {\n",
       "  &quot;markerColor&quot;: &quot;red&quot;,\n",
       "  &quot;iconColor&quot;: &quot;white&quot;,\n",
       "  &quot;icon&quot;: &quot;cutlery&quot;,\n",
       "  &quot;prefix&quot;: &quot;fa&quot;,\n",
       "  &quot;extraClasses&quot;: &quot;fa-rotate-0&quot;,\n",
       "}\n",
       "            );\n",
       "            marker_6f2f410757575c2bcb3f3edbbb5f60d9.setIcon(icon_6df23d0f3dcc82d7dd0e649c9a52bac9);\n",
       "        \n",
       "    \n",
       "        var popup_df9aeee64c8ff885debcddbe6c34c285 = L.popup({\n",
       "  &quot;maxWidth&quot;: &quot;100%&quot;,\n",
       "});\n",
       "\n",
       "        \n",
       "            \n",
       "                var html_578f26b9573ec51ae1e9dea0a7d9326d = $(`&lt;div id=&quot;html_578f26b9573ec51ae1e9dea0a7d9326d&quot; style=&quot;width: 100.0%; height: 100.0%;&quot;&gt;(&quot;&lt;b style=&#x27;font-size: 18px; &#x27;&gt;@2KFE&lt;/b&gt;&lt;br&gt;Direccion:  entre Martí y Maceo, Pereira&quot;, &quot;Especialidades: [&#x27;Internacional&#x27;, &#x27;Criolla&#x27;]&quot;)&lt;/div&gt;`)[0];\n",
       "                popup_df9aeee64c8ff885debcddbe6c34c285.setContent(html_578f26b9573ec51ae1e9dea0a7d9326d);\n",
       "            \n",
       "        \n",
       "\n",
       "        marker_6f2f410757575c2bcb3f3edbbb5f60d9.bindPopup(popup_df9aeee64c8ff885debcddbe6c34c285)\n",
       "        ;\n",
       "\n",
       "        \n",
       "    \n",
       "    \n",
       "            var marker_a61f8f91701db1276942999a574602f4 = L.marker(\n",
       "                [23.123441938216946, -82.32315460160667],\n",
       "                {\n",
       "}\n",
       "            ).addTo(map_e4b9394eed1b90c36772b623ee0598e0);\n",
       "        \n",
       "    \n",
       "            var icon_fca020e8f936da80dbc464ec1ad82e41 = L.AwesomeMarkers.icon(\n",
       "                {\n",
       "  &quot;markerColor&quot;: &quot;red&quot;,\n",
       "  &quot;iconColor&quot;: &quot;white&quot;,\n",
       "  &quot;icon&quot;: &quot;cutlery&quot;,\n",
       "  &quot;prefix&quot;: &quot;fa&quot;,\n",
       "  &quot;extraClasses&quot;: &quot;fa-rotate-0&quot;,\n",
       "}\n",
       "            );\n",
       "            marker_a61f8f91701db1276942999a574602f4.setIcon(icon_fca020e8f936da80dbc464ec1ad82e41);\n",
       "        \n",
       "    \n",
       "        var popup_01794920ef935dc639e2f99384b37d58 = L.popup({\n",
       "  &quot;maxWidth&quot;: &quot;100%&quot;,\n",
       "});\n",
       "\n",
       "        \n",
       "            \n",
       "                var html_55967ee9fb9e8cd7e5a08c4cafc6930c = $(`&lt;div id=&quot;html_55967ee9fb9e8cd7e5a08c4cafc6930c&quot; style=&quot;width: 100.0%; height: 100.0%;&quot;&gt;(&quot;&lt;b style=&#x27;font-size: 18px; &#x27;&gt;5ta Billar&lt;/b&gt;&lt;br&gt;Direccion: Av. Rotoria entre enlace y A&quot;, &quot;Especialidades: [&#x27;Internacional&#x27;]&quot;)&lt;/div&gt;`)[0];\n",
       "                popup_01794920ef935dc639e2f99384b37d58.setContent(html_55967ee9fb9e8cd7e5a08c4cafc6930c);\n",
       "            \n",
       "        \n",
       "\n",
       "        marker_a61f8f91701db1276942999a574602f4.bindPopup(popup_01794920ef935dc639e2f99384b37d58)\n",
       "        ;\n",
       "\n",
       "        \n",
       "    \n",
       "    \n",
       "            var marker_8c471c92d821ffd2cef7487eb2c7e78b = L.marker(\n",
       "                [23.088058099587446, -82.42179558984083],\n",
       "                {\n",
       "}\n",
       "            ).addTo(map_e4b9394eed1b90c36772b623ee0598e0);\n",
       "        \n",
       "    \n",
       "            var icon_a44f3433c4ef66a34e51c432cbea6bc3 = L.AwesomeMarkers.icon(\n",
       "                {\n",
       "  &quot;markerColor&quot;: &quot;red&quot;,\n",
       "  &quot;iconColor&quot;: &quot;white&quot;,\n",
       "  &quot;icon&quot;: &quot;cutlery&quot;,\n",
       "  &quot;prefix&quot;: &quot;fa&quot;,\n",
       "  &quot;extraClasses&quot;: &quot;fa-rotate-0&quot;,\n",
       "}\n",
       "            );\n",
       "            marker_8c471c92d821ffd2cef7487eb2c7e78b.setIcon(icon_a44f3433c4ef66a34e51c432cbea6bc3);\n",
       "        \n",
       "    \n",
       "        var popup_1f74408f688428de80836b93f7e779f7 = L.popup({\n",
       "  &quot;maxWidth&quot;: &quot;100%&quot;,\n",
       "});\n",
       "\n",
       "        \n",
       "            \n",
       "                var html_0588647d3a5bf377d0e0175146ba4eea = $(`&lt;div id=&quot;html_0588647d3a5bf377d0e0175146ba4eea&quot; style=&quot;width: 100.0%; height: 100.0%;&quot;&gt;(&quot;&lt;b style=&#x27;font-size: 18px; &#x27;&gt;700º&lt;/b&gt;&lt;br&gt;Direccion: avenida 41 esquina 86&quot;, &quot;Especialidades: [&#x27;Comida Mixta&#x27;]&quot;)&lt;/div&gt;`)[0];\n",
       "                popup_1f74408f688428de80836b93f7e779f7.setContent(html_0588647d3a5bf377d0e0175146ba4eea);\n",
       "            \n",
       "        \n",
       "\n",
       "        marker_8c471c92d821ffd2cef7487eb2c7e78b.bindPopup(popup_1f74408f688428de80836b93f7e779f7)\n",
       "        ;\n",
       "\n",
       "        \n",
       "    \n",
       "    \n",
       "            var marker_f7c1b20adbad225373a7b6d50cf0d18a = L.marker(\n",
       "                [23.161955819683246, -82.29436375935097],\n",
       "                {\n",
       "}\n",
       "            ).addTo(map_e4b9394eed1b90c36772b623ee0598e0);\n",
       "        \n",
       "    \n",
       "            var icon_c9b624bad11bb96439cc6d4463247ac1 = L.AwesomeMarkers.icon(\n",
       "                {\n",
       "  &quot;markerColor&quot;: &quot;red&quot;,\n",
       "  &quot;iconColor&quot;: &quot;white&quot;,\n",
       "  &quot;icon&quot;: &quot;cutlery&quot;,\n",
       "  &quot;prefix&quot;: &quot;fa&quot;,\n",
       "  &quot;extraClasses&quot;: &quot;fa-rotate-0&quot;,\n",
       "}\n",
       "            );\n",
       "            marker_f7c1b20adbad225373a7b6d50cf0d18a.setIcon(icon_c9b624bad11bb96439cc6d4463247ac1);\n",
       "        \n",
       "    \n",
       "        var popup_858fb58bfc5f03251bdf59924c96989a = L.popup({\n",
       "  &quot;maxWidth&quot;: &quot;100%&quot;,\n",
       "});\n",
       "\n",
       "        \n",
       "            \n",
       "                var html_46f87db57c6725523f0b044a1a02c383 = $(`&lt;div id=&quot;html_46f87db57c6725523f0b044a1a02c383&quot; style=&quot;width: 100.0%; height: 100.0%;&quot;&gt;(&quot;&lt;b style=&#x27;font-size: 18px; &#x27;&gt;Aires de Cojimar&lt;/b&gt;&lt;br&gt;Direccion: Pezuela #3e05 entre RUA y Espartero, Cojimar&quot;, &quot;Especialidades: [&#x27;Comida mixta&#x27;]&quot;)&lt;/div&gt;`)[0];\n",
       "                popup_858fb58bfc5f03251bdf59924c96989a.setContent(html_46f87db57c6725523f0b044a1a02c383);\n",
       "            \n",
       "        \n",
       "\n",
       "        marker_f7c1b20adbad225373a7b6d50cf0d18a.bindPopup(popup_858fb58bfc5f03251bdf59924c96989a)\n",
       "        ;\n",
       "\n",
       "        \n",
       "    \n",
       "    \n",
       "            var marker_492447757112fa674b2d9a940a0e6752 = L.marker(\n",
       "                [23.164158289847958, -82.3080389633564],\n",
       "                {\n",
       "}\n",
       "            ).addTo(map_e4b9394eed1b90c36772b623ee0598e0);\n",
       "        \n",
       "    \n",
       "            var icon_c71cecbec5df7f498fd348d9116854cc = L.AwesomeMarkers.icon(\n",
       "                {\n",
       "  &quot;markerColor&quot;: &quot;red&quot;,\n",
       "  &quot;iconColor&quot;: &quot;white&quot;,\n",
       "  &quot;icon&quot;: &quot;cutlery&quot;,\n",
       "  &quot;prefix&quot;: &quot;fa&quot;,\n",
       "  &quot;extraClasses&quot;: &quot;fa-rotate-0&quot;,\n",
       "}\n",
       "            );\n",
       "            marker_492447757112fa674b2d9a940a0e6752.setIcon(icon_c71cecbec5df7f498fd348d9116854cc);\n",
       "        \n",
       "    \n",
       "        var popup_2d567cb18f9b982121ee849103b3c2b6 = L.popup({\n",
       "  &quot;maxWidth&quot;: &quot;100%&quot;,\n",
       "});\n",
       "\n",
       "        \n",
       "            \n",
       "                var html_ac0403445217a423980e27b2d96bde8a = $(`&lt;div id=&quot;html_ac0403445217a423980e27b2d96bde8a&quot; style=&quot;width: 100.0%; height: 100.0%;&quot;&gt;(&quot;&lt;b style=&#x27;font-size: 18px; &#x27;&gt;Allegro&lt;/b&gt;&lt;br&gt;Direccion: Paseo de la Villa, Villa Panamericana&quot;, &quot;Especialidades: [&#x27;Comida italiana&#x27;]&quot;)&lt;/div&gt;`)[0];\n",
       "                popup_2d567cb18f9b982121ee849103b3c2b6.setContent(html_ac0403445217a423980e27b2d96bde8a);\n",
       "            \n",
       "        \n",
       "\n",
       "        marker_492447757112fa674b2d9a940a0e6752.bindPopup(popup_2d567cb18f9b982121ee849103b3c2b6)\n",
       "        ;\n",
       "\n",
       "        \n",
       "    \n",
       "    \n",
       "            var marker_33a0b7ba291b271489c5e44a41087cc7 = L.marker(\n",
       "                [23.155233076567885, -82.27082914585701],\n",
       "                {\n",
       "}\n",
       "            ).addTo(map_e4b9394eed1b90c36772b623ee0598e0);\n",
       "        \n",
       "    \n",
       "            var icon_affd353e5397077bacf39f4a7ab7a4a7 = L.AwesomeMarkers.icon(\n",
       "                {\n",
       "  &quot;markerColor&quot;: &quot;red&quot;,\n",
       "  &quot;iconColor&quot;: &quot;white&quot;,\n",
       "  &quot;icon&quot;: &quot;cutlery&quot;,\n",
       "  &quot;prefix&quot;: &quot;fa&quot;,\n",
       "  &quot;extraClasses&quot;: &quot;fa-rotate-0&quot;,\n",
       "}\n",
       "            );\n",
       "            marker_33a0b7ba291b271489c5e44a41087cc7.setIcon(icon_affd353e5397077bacf39f4a7ab7a4a7);\n",
       "        \n",
       "    \n",
       "        var popup_66d091d71d388a788968473ca22627cd = L.popup({\n",
       "  &quot;maxWidth&quot;: &quot;100%&quot;,\n",
       "});\n",
       "\n",
       "        \n",
       "            \n",
       "                var html_8031b1ca53e175126d4ad0aa0186b027 = $(`&lt;div id=&quot;html_8031b1ca53e175126d4ad0aa0186b027&quot; style=&quot;width: 100.0%; height: 100.0%;&quot;&gt;(&quot;&lt;b style=&#x27;font-size: 18px; &#x27;&gt;Al Campestre&lt;/b&gt;&lt;br&gt;Direccion: El Intermitente, Via  Blanca, Alamar&quot;, &quot;Especialidades: [&#x27;Comida mixta&#x27;]&quot;)&lt;/div&gt;`)[0];\n",
       "                popup_66d091d71d388a788968473ca22627cd.setContent(html_8031b1ca53e175126d4ad0aa0186b027);\n",
       "            \n",
       "        \n",
       "\n",
       "        marker_33a0b7ba291b271489c5e44a41087cc7.bindPopup(popup_66d091d71d388a788968473ca22627cd)\n",
       "        ;\n",
       "\n",
       "        \n",
       "    \n",
       "    \n",
       "            var marker_20893dad8c6458037319d0baa6dc83e2 = L.marker(\n",
       "                [23.141692369054233, -82.35521570333256],\n",
       "                {\n",
       "}\n",
       "            ).addTo(map_e4b9394eed1b90c36772b623ee0598e0);\n",
       "        \n",
       "    \n",
       "            var icon_581a9e0bf785a3aef5d89fd39392346e = L.AwesomeMarkers.icon(\n",
       "                {\n",
       "  &quot;markerColor&quot;: &quot;red&quot;,\n",
       "  &quot;iconColor&quot;: &quot;white&quot;,\n",
       "  &quot;icon&quot;: &quot;cutlery&quot;,\n",
       "  &quot;prefix&quot;: &quot;fa&quot;,\n",
       "  &quot;extraClasses&quot;: &quot;fa-rotate-0&quot;,\n",
       "}\n",
       "            );\n",
       "            marker_20893dad8c6458037319d0baa6dc83e2.setIcon(icon_581a9e0bf785a3aef5d89fd39392346e);\n",
       "        \n",
       "    \n",
       "        var popup_96f1346c524e77898ab568ef35944f52 = L.popup({\n",
       "  &quot;maxWidth&quot;: &quot;100%&quot;,\n",
       "});\n",
       "\n",
       "        \n",
       "            \n",
       "                var html_ed2f02fa22d533e640e50c9dfed821b7 = $(`&lt;div id=&quot;html_ed2f02fa22d533e640e50c9dfed821b7&quot; style=&quot;width: 100.0%; height: 100.0%;&quot;&gt;(&quot;&lt;b style=&#x27;font-size: 18px; &#x27;&gt;Antojos&lt;/b&gt;&lt;br&gt;Direccion: Callejón Espada entre Cuarteles y Chacon&quot;, &quot;Especialidades: [&#x27;Caribeña, Latina, Cubana, Centroamericana&#x27;]&quot;)&lt;/div&gt;`)[0];\n",
       "                popup_96f1346c524e77898ab568ef35944f52.setContent(html_ed2f02fa22d533e640e50c9dfed821b7);\n",
       "            \n",
       "        \n",
       "\n",
       "        marker_20893dad8c6458037319d0baa6dc83e2.bindPopup(popup_96f1346c524e77898ab568ef35944f52)\n",
       "        ;\n",
       "\n",
       "        \n",
       "    \n",
       "    \n",
       "            var marker_d1d074a4e8a0b415b3aa930e6195885e = L.marker(\n",
       "                [23.128711947642273, -82.39676637467788],\n",
       "                {\n",
       "}\n",
       "            ).addTo(map_e4b9394eed1b90c36772b623ee0598e0);\n",
       "        \n",
       "    \n",
       "            var icon_022798878012528538e01ac85137922b = L.AwesomeMarkers.icon(\n",
       "                {\n",
       "  &quot;markerColor&quot;: &quot;red&quot;,\n",
       "  &quot;iconColor&quot;: &quot;white&quot;,\n",
       "  &quot;icon&quot;: &quot;cutlery&quot;,\n",
       "  &quot;prefix&quot;: &quot;fa&quot;,\n",
       "  &quot;extraClasses&quot;: &quot;fa-rotate-0&quot;,\n",
       "}\n",
       "            );\n",
       "            marker_d1d074a4e8a0b415b3aa930e6195885e.setIcon(icon_022798878012528538e01ac85137922b);\n",
       "        \n",
       "    \n",
       "        var popup_4df612cf233842fea5d984a5cac895ee = L.popup({\n",
       "  &quot;maxWidth&quot;: &quot;100%&quot;,\n",
       "});\n",
       "\n",
       "        \n",
       "            \n",
       "                var html_4fc0c3b48fe71ad5ae1266a0562ff8f9 = $(`&lt;div id=&quot;html_4fc0c3b48fe71ad5ae1266a0562ff8f9&quot; style=&quot;width: 100.0%; height: 100.0%;&quot;&gt;(&quot;&lt;b style=&#x27;font-size: 18px; &#x27;&gt;Asia Cuba&lt;/b&gt;&lt;br&gt;Direccion:  Calle 6 ##562 entre 23 y 25, Vedado&quot;, &quot;Especialidades: [&#x27;Comida asiática&#x27;]&quot;)&lt;/div&gt;`)[0];\n",
       "                popup_4df612cf233842fea5d984a5cac895ee.setContent(html_4fc0c3b48fe71ad5ae1266a0562ff8f9);\n",
       "            \n",
       "        \n",
       "\n",
       "        marker_d1d074a4e8a0b415b3aa930e6195885e.bindPopup(popup_4df612cf233842fea5d984a5cac895ee)\n",
       "        ;\n",
       "\n",
       "        \n",
       "    \n",
       "    \n",
       "            var marker_ae83660464defeffcfa76cd167115ba2 = L.marker(\n",
       "                [23.075224743679176, -82.35820577444514],\n",
       "                {\n",
       "}\n",
       "            ).addTo(map_e4b9394eed1b90c36772b623ee0598e0);\n",
       "        \n",
       "    \n",
       "            var icon_f81d8c007dc38b55aef3e0789f4deaf6 = L.AwesomeMarkers.icon(\n",
       "                {\n",
       "  &quot;markerColor&quot;: &quot;red&quot;,\n",
       "  &quot;iconColor&quot;: &quot;white&quot;,\n",
       "  &quot;icon&quot;: &quot;cutlery&quot;,\n",
       "  &quot;prefix&quot;: &quot;fa&quot;,\n",
       "  &quot;extraClasses&quot;: &quot;fa-rotate-0&quot;,\n",
       "}\n",
       "            );\n",
       "            marker_ae83660464defeffcfa76cd167115ba2.setIcon(icon_f81d8c007dc38b55aef3e0789f4deaf6);\n",
       "        \n",
       "    \n",
       "        var popup_7b28ef6e5b55b0bbef2dfe141d1bd8f0 = L.popup({\n",
       "  &quot;maxWidth&quot;: &quot;100%&quot;,\n",
       "});\n",
       "\n",
       "        \n",
       "            \n",
       "                var html_c389ad18b446569030922e5e3a0f30bb = $(`&lt;div id=&quot;html_c389ad18b446569030922e5e3a0f30bb&quot; style=&quot;width: 100.0%; height: 100.0%;&quot;&gt;(&quot;&lt;b style=&#x27;font-size: 18px; &#x27;&gt;Atlanta&lt;/b&gt;&lt;br&gt;Direccion: Atlanta #9, entre Calzada de Porvenir y Calzada de 10 de octubre, La Palma&quot;, &quot;Especialidades: [&#x27;cubana&#x27;, &#x27;variada&#x27;]&quot;)&lt;/div&gt;`)[0];\n",
       "                popup_7b28ef6e5b55b0bbef2dfe141d1bd8f0.setContent(html_c389ad18b446569030922e5e3a0f30bb);\n",
       "            \n",
       "        \n",
       "\n",
       "        marker_ae83660464defeffcfa76cd167115ba2.bindPopup(popup_7b28ef6e5b55b0bbef2dfe141d1bd8f0)\n",
       "        ;\n",
       "\n",
       "        \n",
       "    \n",
       "    \n",
       "            var marker_9010f9e26b8bf782432f65e206a44014 = L.marker(\n",
       "                [23.10839233920283, -82.36557643771737],\n",
       "                {\n",
       "}\n",
       "            ).addTo(map_e4b9394eed1b90c36772b623ee0598e0);\n",
       "        \n",
       "    \n",
       "            var icon_cc05696a024a4183065a29cc1a1e63de = L.AwesomeMarkers.icon(\n",
       "                {\n",
       "  &quot;markerColor&quot;: &quot;red&quot;,\n",
       "  &quot;iconColor&quot;: &quot;white&quot;,\n",
       "  &quot;icon&quot;: &quot;cutlery&quot;,\n",
       "  &quot;prefix&quot;: &quot;fa&quot;,\n",
       "  &quot;extraClasses&quot;: &quot;fa-rotate-0&quot;,\n",
       "}\n",
       "            );\n",
       "            marker_9010f9e26b8bf782432f65e206a44014.setIcon(icon_cc05696a024a4183065a29cc1a1e63de);\n",
       "        \n",
       "    \n",
       "        var popup_9d1f2436ae86e7aab7af923af36aec29 = L.popup({\n",
       "  &quot;maxWidth&quot;: &quot;100%&quot;,\n",
       "});\n",
       "\n",
       "        \n",
       "            \n",
       "                var html_bbbf75605752c84b0d44be72ce0a1d0b = $(`&lt;div id=&quot;html_bbbf75605752c84b0d44be72ce0a1d0b&quot; style=&quot;width: 100.0%; height: 100.0%;&quot;&gt;(&quot;&lt;b style=&#x27;font-size: 18px; &#x27;&gt;Bar Pacto Secreto&lt;/b&gt;&lt;br&gt;Direccion: Calzada de 10 de Octubre #417 entre Calzada de Luyano y San Nicolas&quot;, &quot;Especialidades: [&#x27;cubana&#x27;, &#x27;comida rapida&#x27;]&quot;)&lt;/div&gt;`)[0];\n",
       "                popup_9d1f2436ae86e7aab7af923af36aec29.setContent(html_bbbf75605752c84b0d44be72ce0a1d0b);\n",
       "            \n",
       "        \n",
       "\n",
       "        marker_9010f9e26b8bf782432f65e206a44014.bindPopup(popup_9d1f2436ae86e7aab7af923af36aec29)\n",
       "        ;\n",
       "\n",
       "        \n",
       "    \n",
       "    \n",
       "            var marker_25b004774583d118817a7c7baf9dd8f9 = L.marker(\n",
       "                [23.096181443714617, -82.37469996655321],\n",
       "                {\n",
       "}\n",
       "            ).addTo(map_e4b9394eed1b90c36772b623ee0598e0);\n",
       "        \n",
       "    \n",
       "            var icon_12914ea14052ed418655fa6b6939f231 = L.AwesomeMarkers.icon(\n",
       "                {\n",
       "  &quot;markerColor&quot;: &quot;red&quot;,\n",
       "  &quot;iconColor&quot;: &quot;white&quot;,\n",
       "  &quot;icon&quot;: &quot;cutlery&quot;,\n",
       "  &quot;prefix&quot;: &quot;fa&quot;,\n",
       "  &quot;extraClasses&quot;: &quot;fa-rotate-0&quot;,\n",
       "}\n",
       "            );\n",
       "            marker_25b004774583d118817a7c7baf9dd8f9.setIcon(icon_12914ea14052ed418655fa6b6939f231);\n",
       "        \n",
       "    \n",
       "        var popup_0ea38ce79b963cf59a1e728fc131435f = L.popup({\n",
       "  &quot;maxWidth&quot;: &quot;100%&quot;,\n",
       "});\n",
       "\n",
       "        \n",
       "            \n",
       "                var html_975ee50f0ce2c927c6fb8bc2a78513cf = $(`&lt;div id=&quot;html_975ee50f0ce2c927c6fb8bc2a78513cf&quot; style=&quot;width: 100.0%; height: 100.0%;&quot;&gt;(&quot;&lt;b style=&#x27;font-size: 18px; &#x27;&gt;Bar Secret Garden&lt;/b&gt;&lt;br&gt;Direccion: Boutique VOYA Habana, #255, Calle Juan Delgado entre Santa Catalina y Milagros, Santos Suarez&quot;, &quot;Especialidades: [&#x27;Cocina mixta&#x27;]&quot;)&lt;/div&gt;`)[0];\n",
       "                popup_0ea38ce79b963cf59a1e728fc131435f.setContent(html_975ee50f0ce2c927c6fb8bc2a78513cf);\n",
       "            \n",
       "        \n",
       "\n",
       "        marker_25b004774583d118817a7c7baf9dd8f9.bindPopup(popup_0ea38ce79b963cf59a1e728fc131435f)\n",
       "        ;\n",
       "\n",
       "        \n",
       "    \n",
       "    \n",
       "            var marker_e911530bae98d061b354985c1d507547 = L.marker(\n",
       "                [23.08127313197817, -82.32409134565678],\n",
       "                {\n",
       "}\n",
       "            ).addTo(map_e4b9394eed1b90c36772b623ee0598e0);\n",
       "        \n",
       "    \n",
       "            var icon_6717fe0004327ac1f01fea00d7f9e008 = L.AwesomeMarkers.icon(\n",
       "                {\n",
       "  &quot;markerColor&quot;: &quot;red&quot;,\n",
       "  &quot;iconColor&quot;: &quot;white&quot;,\n",
       "  &quot;icon&quot;: &quot;cutlery&quot;,\n",
       "  &quot;prefix&quot;: &quot;fa&quot;,\n",
       "  &quot;extraClasses&quot;: &quot;fa-rotate-0&quot;,\n",
       "}\n",
       "            );\n",
       "            marker_e911530bae98d061b354985c1d507547.setIcon(icon_6717fe0004327ac1f01fea00d7f9e008);\n",
       "        \n",
       "    \n",
       "        var popup_dede8067148928175d9b6f5eb556f1e2 = L.popup({\n",
       "  &quot;maxWidth&quot;: &quot;100%&quot;,\n",
       "});\n",
       "\n",
       "        \n",
       "            \n",
       "                var html_9f7149e6b7f9e941c64f8859fc8aa97e = $(`&lt;div id=&quot;html_9f7149e6b7f9e941c64f8859fc8aa97e&quot; style=&quot;width: 100.0%; height: 100.0%;&quot;&gt;(&quot;&lt;b style=&#x27;font-size: 18px; &#x27;&gt;Bar Colina&lt;/b&gt;&lt;br&gt;Direccion: esquina b y calzada de guines reparto merceditas&quot;, &quot;Especialidades: [&#x27;italiana&#x27;]&quot;)&lt;/div&gt;`)[0];\n",
       "                popup_dede8067148928175d9b6f5eb556f1e2.setContent(html_9f7149e6b7f9e941c64f8859fc8aa97e);\n",
       "            \n",
       "        \n",
       "\n",
       "        marker_e911530bae98d061b354985c1d507547.bindPopup(popup_dede8067148928175d9b6f5eb556f1e2)\n",
       "        ;\n",
       "\n",
       "        \n",
       "    \n",
       "    \n",
       "            var marker_9e47e7a5d643752cad5480560d68bb2f = L.marker(\n",
       "                [23.140052255362068, -82.37802867469266],\n",
       "                {\n",
       "}\n",
       "            ).addTo(map_e4b9394eed1b90c36772b623ee0598e0);\n",
       "        \n",
       "    \n",
       "            var icon_48b09f467152f4bb6228ee00bb0d7b22 = L.AwesomeMarkers.icon(\n",
       "                {\n",
       "  &quot;markerColor&quot;: &quot;red&quot;,\n",
       "  &quot;iconColor&quot;: &quot;white&quot;,\n",
       "  &quot;icon&quot;: &quot;cutlery&quot;,\n",
       "  &quot;prefix&quot;: &quot;fa&quot;,\n",
       "  &quot;extraClasses&quot;: &quot;fa-rotate-0&quot;,\n",
       "}\n",
       "            );\n",
       "            marker_9e47e7a5d643752cad5480560d68bb2f.setIcon(icon_48b09f467152f4bb6228ee00bb0d7b22);\n",
       "        \n",
       "    \n",
       "        var popup_8320d4863e5e795be83e537d73a67060 = L.popup({\n",
       "  &quot;maxWidth&quot;: &quot;100%&quot;,\n",
       "});\n",
       "\n",
       "        \n",
       "            \n",
       "                var html_f37e877d1733760fcd01e5fb6d95b64e = $(`&lt;div id=&quot;html_f37e877d1733760fcd01e5fb6d95b64e&quot; style=&quot;width: 100.0%; height: 100.0%;&quot;&gt;(&quot;&lt;b style=&#x27;font-size: 18px; &#x27;&gt;Macarena&lt;/b&gt;&lt;br&gt;Direccion: Calle Vapor No.168 altos entre Espada y San Fransisco&quot;, &quot;Especialidades: [&#x27;Entrantes&#x27;, &#x27;Cockteles&#x27;]&quot;)&lt;/div&gt;`)[0];\n",
       "                popup_8320d4863e5e795be83e537d73a67060.setContent(html_f37e877d1733760fcd01e5fb6d95b64e);\n",
       "            \n",
       "        \n",
       "\n",
       "        marker_9e47e7a5d643752cad5480560d68bb2f.bindPopup(popup_8320d4863e5e795be83e537d73a67060)\n",
       "        ;\n",
       "\n",
       "        \n",
       "    \n",
       "    \n",
       "            var marker_49de6897d96a106a0c05050808b51c22 = L.marker(\n",
       "                [23.094616836132214, -82.4191641263218],\n",
       "                {\n",
       "}\n",
       "            ).addTo(map_e4b9394eed1b90c36772b623ee0598e0);\n",
       "        \n",
       "    \n",
       "            var icon_3a71807a8389274ee12fb2429d72fe6c = L.AwesomeMarkers.icon(\n",
       "                {\n",
       "  &quot;markerColor&quot;: &quot;red&quot;,\n",
       "  &quot;iconColor&quot;: &quot;white&quot;,\n",
       "  &quot;icon&quot;: &quot;cutlery&quot;,\n",
       "  &quot;prefix&quot;: &quot;fa&quot;,\n",
       "  &quot;extraClasses&quot;: &quot;fa-rotate-0&quot;,\n",
       "}\n",
       "            );\n",
       "            marker_49de6897d96a106a0c05050808b51c22.setIcon(icon_3a71807a8389274ee12fb2429d72fe6c);\n",
       "        \n",
       "    \n",
       "        var popup_696ba27b620e2fb3f176d2684c79d149 = L.popup({\n",
       "  &quot;maxWidth&quot;: &quot;100%&quot;,\n",
       "});\n",
       "\n",
       "        \n",
       "            \n",
       "                var html_c76fff03a562a7942ef79b3d278bbab6 = $(`&lt;div id=&quot;html_c76fff03a562a7942ef79b3d278bbab6&quot; style=&quot;width: 100.0%; height: 100.0%;&quot;&gt;(&quot;&lt;b style=&#x27;font-size: 18px; &#x27;&gt;Bar Tropicana&lt;/b&gt;&lt;br&gt;Direccion: 72A,Avenida 41&quot;, &#x27;Especialidades: [None]&#x27;)&lt;/div&gt;`)[0];\n",
       "                popup_696ba27b620e2fb3f176d2684c79d149.setContent(html_c76fff03a562a7942ef79b3d278bbab6);\n",
       "            \n",
       "        \n",
       "\n",
       "        marker_49de6897d96a106a0c05050808b51c22.bindPopup(popup_696ba27b620e2fb3f176d2684c79d149)\n",
       "        ;\n",
       "\n",
       "        \n",
       "    \n",
       "    \n",
       "            var marker_13efca44321d10e7559f3a532082787c = L.marker(\n",
       "                [23.165980531256245, -82.28267095911482],\n",
       "                {\n",
       "}\n",
       "            ).addTo(map_e4b9394eed1b90c36772b623ee0598e0);\n",
       "        \n",
       "    \n",
       "            var icon_6b8f5b0b9755fd937b1eec0ec929f038 = L.AwesomeMarkers.icon(\n",
       "                {\n",
       "  &quot;markerColor&quot;: &quot;red&quot;,\n",
       "  &quot;iconColor&quot;: &quot;white&quot;,\n",
       "  &quot;icon&quot;: &quot;cutlery&quot;,\n",
       "  &quot;prefix&quot;: &quot;fa&quot;,\n",
       "  &quot;extraClasses&quot;: &quot;fa-rotate-0&quot;,\n",
       "}\n",
       "            );\n",
       "            marker_13efca44321d10e7559f3a532082787c.setIcon(icon_6b8f5b0b9755fd937b1eec0ec929f038);\n",
       "        \n",
       "    \n",
       "        var popup_c4653102982a5d104dd13ea3ecfb1150 = L.popup({\n",
       "  &quot;maxWidth&quot;: &quot;100%&quot;,\n",
       "});\n",
       "\n",
       "        \n",
       "            \n",
       "                var html_cd3569d9c2e4add729d2452ee7fbee18 = $(`&lt;div id=&quot;html_cd3569d9c2e4add729d2452ee7fbee18&quot; style=&quot;width: 100.0%; height: 100.0%;&quot;&gt;(&quot;&lt;b style=&#x27;font-size: 18px; &#x27;&gt;Beer para creer&lt;/b&gt;&lt;br&gt;Direccion: Centro comercial Falcon, Alamar&quot;, &quot;Especialidades: [&#x27;Comida mixta&#x27;]&quot;)&lt;/div&gt;`)[0];\n",
       "                popup_c4653102982a5d104dd13ea3ecfb1150.setContent(html_cd3569d9c2e4add729d2452ee7fbee18);\n",
       "            \n",
       "        \n",
       "\n",
       "        marker_13efca44321d10e7559f3a532082787c.bindPopup(popup_c4653102982a5d104dd13ea3ecfb1150)\n",
       "        ;\n",
       "\n",
       "        \n",
       "    \n",
       "    \n",
       "            var marker_722cb1707ea852ea32528f1820d3c601 = L.marker(\n",
       "                [23.14134074581821, -82.40118351396043],\n",
       "                {\n",
       "}\n",
       "            ).addTo(map_e4b9394eed1b90c36772b623ee0598e0);\n",
       "        \n",
       "    \n",
       "            var icon_e84f92345927789f315cbc19169b286a = L.AwesomeMarkers.icon(\n",
       "                {\n",
       "  &quot;markerColor&quot;: &quot;red&quot;,\n",
       "  &quot;iconColor&quot;: &quot;white&quot;,\n",
       "  &quot;icon&quot;: &quot;cutlery&quot;,\n",
       "  &quot;prefix&quot;: &quot;fa&quot;,\n",
       "  &quot;extraClasses&quot;: &quot;fa-rotate-0&quot;,\n",
       "}\n",
       "            );\n",
       "            marker_722cb1707ea852ea32528f1820d3c601.setIcon(icon_e84f92345927789f315cbc19169b286a);\n",
       "        \n",
       "    \n",
       "        var popup_e8c9ad37bec6e497cc1a1ee1cf08a2aa = L.popup({\n",
       "  &quot;maxWidth&quot;: &quot;100%&quot;,\n",
       "});\n",
       "\n",
       "        \n",
       "            \n",
       "                var html_70ce46154008f0f457d5ab4d94bd4786 = $(`&lt;div id=&quot;html_70ce46154008f0f457d5ab4d94bd4786&quot; style=&quot;width: 100.0%; height: 100.0%;&quot;&gt;(&quot;&lt;b style=&#x27;font-size: 18px; &#x27;&gt;Beirut&lt;/b&gt;&lt;br&gt;Direccion: Calle 1ra entre A y B, Vedado&quot;, &quot;Especialidades: [&#x27;Comida libanesa&#x27;, &#x27;de oriente medio&#x27;]&quot;)&lt;/div&gt;`)[0];\n",
       "                popup_e8c9ad37bec6e497cc1a1ee1cf08a2aa.setContent(html_70ce46154008f0f457d5ab4d94bd4786);\n",
       "            \n",
       "        \n",
       "\n",
       "        marker_722cb1707ea852ea32528f1820d3c601.bindPopup(popup_e8c9ad37bec6e497cc1a1ee1cf08a2aa)\n",
       "        ;\n",
       "\n",
       "        \n",
       "    \n",
       "    \n",
       "            var marker_f2ce9affb89ff06197bc8769748863e4 = L.marker(\n",
       "                [23.122358280018755, -82.40455260333313],\n",
       "                {\n",
       "}\n",
       "            ).addTo(map_e4b9394eed1b90c36772b623ee0598e0);\n",
       "        \n",
       "    \n",
       "            var icon_20c95641f66056f9a3ff9c6185927191 = L.AwesomeMarkers.icon(\n",
       "                {\n",
       "  &quot;markerColor&quot;: &quot;red&quot;,\n",
       "  &quot;iconColor&quot;: &quot;white&quot;,\n",
       "  &quot;icon&quot;: &quot;cutlery&quot;,\n",
       "  &quot;prefix&quot;: &quot;fa&quot;,\n",
       "  &quot;extraClasses&quot;: &quot;fa-rotate-0&quot;,\n",
       "}\n",
       "            );\n",
       "            marker_f2ce9affb89ff06197bc8769748863e4.setIcon(icon_20c95641f66056f9a3ff9c6185927191);\n",
       "        \n",
       "    \n",
       "        var popup_f9494733a1c0a197acb8dff0d6c56806 = L.popup({\n",
       "  &quot;maxWidth&quot;: &quot;100%&quot;,\n",
       "});\n",
       "\n",
       "        \n",
       "            \n",
       "                var html_26175df585c65980e77f6af650ae6c43 = $(`&lt;div id=&quot;html_26175df585c65980e77f6af650ae6c43&quot; style=&quot;width: 100.0%; height: 100.0%;&quot;&gt;(&quot;&lt;b style=&#x27;font-size: 18px; &#x27;&gt;Bodegon del Asado&lt;/b&gt;&lt;br&gt;Direccion: Calle 24, No 418, e / 23 y 25, Vedado&quot;, &quot;Especialidades: [&#x27;Comida cubana&#x27;, &#x27;criolla&#x27;, &#x27;italiana&#x27;]&quot;)&lt;/div&gt;`)[0];\n",
       "                popup_f9494733a1c0a197acb8dff0d6c56806.setContent(html_26175df585c65980e77f6af650ae6c43);\n",
       "            \n",
       "        \n",
       "\n",
       "        marker_f2ce9affb89ff06197bc8769748863e4.bindPopup(popup_f9494733a1c0a197acb8dff0d6c56806)\n",
       "        ;\n",
       "\n",
       "        \n",
       "    \n",
       "    \n",
       "            var marker_7d1573b9ef4af71b24ac9e3af8e8c235 = L.marker(\n",
       "                [23.13336490258953, -82.39873911512949],\n",
       "                {\n",
       "}\n",
       "            ).addTo(map_e4b9394eed1b90c36772b623ee0598e0);\n",
       "        \n",
       "    \n",
       "            var icon_caf2f2b730af667b1e8b961d2d7cc728 = L.AwesomeMarkers.icon(\n",
       "                {\n",
       "  &quot;markerColor&quot;: &quot;red&quot;,\n",
       "  &quot;iconColor&quot;: &quot;white&quot;,\n",
       "  &quot;icon&quot;: &quot;cutlery&quot;,\n",
       "  &quot;prefix&quot;: &quot;fa&quot;,\n",
       "  &quot;extraClasses&quot;: &quot;fa-rotate-0&quot;,\n",
       "}\n",
       "            );\n",
       "            marker_7d1573b9ef4af71b24ac9e3af8e8c235.setIcon(icon_caf2f2b730af667b1e8b961d2d7cc728);\n",
       "        \n",
       "    \n",
       "        var popup_91c78bd532a25303e9107e77bd4d3b99 = L.popup({\n",
       "  &quot;maxWidth&quot;: &quot;100%&quot;,\n",
       "});\n",
       "\n",
       "        \n",
       "            \n",
       "                var html_166a314d5cceb326c2ee9218bee2dc6f = $(`&lt;div id=&quot;html_166a314d5cceb326c2ee9218bee2dc6f&quot; style=&quot;width: 100.0%; height: 100.0%;&quot;&gt;(&quot;&lt;b style=&#x27;font-size: 18px; &#x27;&gt;Bohio Mercadito&lt;/b&gt;&lt;br&gt;Direccion: calle 19 entre 12 y 10, Vedado&quot;, &quot;Especialidades: [&#x27;Bar&#x27;, &#x27;Americana&#x27;]&quot;)&lt;/div&gt;`)[0];\n",
       "                popup_91c78bd532a25303e9107e77bd4d3b99.setContent(html_166a314d5cceb326c2ee9218bee2dc6f);\n",
       "            \n",
       "        \n",
       "\n",
       "        marker_7d1573b9ef4af71b24ac9e3af8e8c235.bindPopup(popup_91c78bd532a25303e9107e77bd4d3b99)\n",
       "        ;\n",
       "\n",
       "        \n",
       "    \n",
       "    \n",
       "            var marker_42c60f1e76e087f7a7e88d2521e19326 = L.marker(\n",
       "                [23.137509028109648, -82.35967851702206],\n",
       "                {\n",
       "}\n",
       "            ).addTo(map_e4b9394eed1b90c36772b623ee0598e0);\n",
       "        \n",
       "    \n",
       "            var icon_d73d2a47068f5b8c3ea32949bd8d345b = L.AwesomeMarkers.icon(\n",
       "                {\n",
       "  &quot;markerColor&quot;: &quot;red&quot;,\n",
       "  &quot;iconColor&quot;: &quot;white&quot;,\n",
       "  &quot;icon&quot;: &quot;cutlery&quot;,\n",
       "  &quot;prefix&quot;: &quot;fa&quot;,\n",
       "  &quot;extraClasses&quot;: &quot;fa-rotate-0&quot;,\n",
       "}\n",
       "            );\n",
       "            marker_42c60f1e76e087f7a7e88d2521e19326.setIcon(icon_d73d2a47068f5b8c3ea32949bd8d345b);\n",
       "        \n",
       "    \n",
       "        var popup_1d93b3f61e3bfae42adeaede8d0f852d = L.popup({\n",
       "  &quot;maxWidth&quot;: &quot;100%&quot;,\n",
       "});\n",
       "\n",
       "        \n",
       "            \n",
       "                var html_11d785f23e000e5ca52d247f92f0ad70 = $(`&lt;div id=&quot;html_11d785f23e000e5ca52d247f92f0ad70&quot; style=&quot;width: 100.0%; height: 100.0%;&quot;&gt;(&quot;&lt;b style=&#x27;font-size: 18px; &#x27;&gt;Bone Ma 62&lt;/b&gt;&lt;br&gt;Direccion: Bulevar de San Rafael entre Prado y Consulado&quot;, &quot;Especialidades: [&#x27;Comida Cubana&#x27;]&quot;)&lt;/div&gt;`)[0];\n",
       "                popup_1d93b3f61e3bfae42adeaede8d0f852d.setContent(html_11d785f23e000e5ca52d247f92f0ad70);\n",
       "            \n",
       "        \n",
       "\n",
       "        marker_42c60f1e76e087f7a7e88d2521e19326.bindPopup(popup_1d93b3f61e3bfae42adeaede8d0f852d)\n",
       "        ;\n",
       "\n",
       "        \n",
       "    \n",
       "    \n",
       "            var marker_ad1e51605ceac030c0867cb8178cc64a = L.marker(\n",
       "                [23.120855356364203, -82.37256464585778],\n",
       "                {\n",
       "}\n",
       "            ).addTo(map_e4b9394eed1b90c36772b623ee0598e0);\n",
       "        \n",
       "    \n",
       "            var icon_a90acaf540d38f15e1730db0304699f8 = L.AwesomeMarkers.icon(\n",
       "                {\n",
       "  &quot;markerColor&quot;: &quot;red&quot;,\n",
       "  &quot;iconColor&quot;: &quot;white&quot;,\n",
       "  &quot;icon&quot;: &quot;cutlery&quot;,\n",
       "  &quot;prefix&quot;: &quot;fa&quot;,\n",
       "  &quot;extraClasses&quot;: &quot;fa-rotate-0&quot;,\n",
       "}\n",
       "            );\n",
       "            marker_ad1e51605ceac030c0867cb8178cc64a.setIcon(icon_a90acaf540d38f15e1730db0304699f8);\n",
       "        \n",
       "    \n",
       "        var popup_07a12d81423bb1c812d91cca57467ac9 = L.popup({\n",
       "  &quot;maxWidth&quot;: &quot;100%&quot;,\n",
       "});\n",
       "\n",
       "        \n",
       "            \n",
       "                var html_3df2a068f772669900dd83d8338834bf = $(`&lt;div id=&quot;html_3df2a068f772669900dd83d8338834bf&quot; style=&quot;width: 100.0%; height: 100.0%;&quot;&gt;(&quot;&lt;b style=&#x27;font-size: 18px; &#x27;&gt;Brutal Habana&lt;/b&gt;&lt;br&gt;Direccion: Infanta esquina Calle Universidad&quot;, &quot;Especialidades: [&#x27;Comida Americana&#x27;]&quot;)&lt;/div&gt;`)[0];\n",
       "                popup_07a12d81423bb1c812d91cca57467ac9.setContent(html_3df2a068f772669900dd83d8338834bf);\n",
       "            \n",
       "        \n",
       "\n",
       "        marker_ad1e51605ceac030c0867cb8178cc64a.bindPopup(popup_07a12d81423bb1c812d91cca57467ac9)\n",
       "        ;\n",
       "\n",
       "        \n",
       "    \n",
       "    \n",
       "            var marker_086185fb7829a26e37403647b2845f53 = L.marker(\n",
       "                [23.099237749002498, -82.33237415355453],\n",
       "                {\n",
       "}\n",
       "            ).addTo(map_e4b9394eed1b90c36772b623ee0598e0);\n",
       "        \n",
       "    \n",
       "            var icon_37179f84f3eb554557f94cd29d6c6273 = L.AwesomeMarkers.icon(\n",
       "                {\n",
       "  &quot;markerColor&quot;: &quot;red&quot;,\n",
       "  &quot;iconColor&quot;: &quot;white&quot;,\n",
       "  &quot;icon&quot;: &quot;cutlery&quot;,\n",
       "  &quot;prefix&quot;: &quot;fa&quot;,\n",
       "  &quot;extraClasses&quot;: &quot;fa-rotate-0&quot;,\n",
       "}\n",
       "            );\n",
       "            marker_086185fb7829a26e37403647b2845f53.setIcon(icon_37179f84f3eb554557f94cd29d6c6273);\n",
       "        \n",
       "    \n",
       "        var popup_638829e3e6838e5e96cad42a6686779d = L.popup({\n",
       "  &quot;maxWidth&quot;: &quot;100%&quot;,\n",
       "});\n",
       "\n",
       "        \n",
       "            \n",
       "                var html_d9fa8bbbd7482ffa0aef7cd60eea9cde = $(`&lt;div id=&quot;html_d9fa8bbbd7482ffa0aef7cd60eea9cde&quot; style=&quot;width: 100.0%; height: 100.0%;&quot;&gt;(&quot;&lt;b style=&#x27;font-size: 18px; &#x27;&gt;Buena Vibra&lt;/b&gt;&lt;br&gt;Direccion: Esquina Beltran y Vista Hermosa&quot;, &quot;Especialidades: [&#x27;internacional&#x27;, &#x27;criolla&#x27;, &#x27;italiana&#x27;]&quot;)&lt;/div&gt;`)[0];\n",
       "                popup_638829e3e6838e5e96cad42a6686779d.setContent(html_d9fa8bbbd7482ffa0aef7cd60eea9cde);\n",
       "            \n",
       "        \n",
       "\n",
       "        marker_086185fb7829a26e37403647b2845f53.bindPopup(popup_638829e3e6838e5e96cad42a6686779d)\n",
       "        ;\n",
       "\n",
       "        \n",
       "    \n",
       "    \n",
       "            var marker_4ddcfc75644e2272e0e58524e34a3f91 = L.marker(\n",
       "                [23.141585728087556, -82.35312284770457],\n",
       "                {\n",
       "}\n",
       "            ).addTo(map_e4b9394eed1b90c36772b623ee0598e0);\n",
       "        \n",
       "    \n",
       "            var icon_6e781b0aaa6a690e91dcf0b82814d59f = L.AwesomeMarkers.icon(\n",
       "                {\n",
       "  &quot;markerColor&quot;: &quot;red&quot;,\n",
       "  &quot;iconColor&quot;: &quot;white&quot;,\n",
       "  &quot;icon&quot;: &quot;cutlery&quot;,\n",
       "  &quot;prefix&quot;: &quot;fa&quot;,\n",
       "  &quot;extraClasses&quot;: &quot;fa-rotate-0&quot;,\n",
       "}\n",
       "            );\n",
       "            marker_4ddcfc75644e2272e0e58524e34a3f91.setIcon(icon_6e781b0aaa6a690e91dcf0b82814d59f);\n",
       "        \n",
       "    \n",
       "        var popup_43a5a4dcc74c8839e189ebd9f0f56476 = L.popup({\n",
       "  &quot;maxWidth&quot;: &quot;100%&quot;,\n",
       "});\n",
       "\n",
       "        \n",
       "            \n",
       "                var html_12946958ed5758b2866513576a39d024 = $(`&lt;div id=&quot;html_12946958ed5758b2866513576a39d024&quot; style=&quot;width: 100.0%; height: 100.0%;&quot;&gt;(&quot;&lt;b style=&#x27;font-size: 18px; &#x27;&gt;Buena Vista Curry Club&lt;/b&gt;&lt;br&gt;Direccion: Tejadillo #24 entre Cuba y San Ignacio&quot;, &quot;Especialidades: [&#x27;Indio&#x27;]&quot;)&lt;/div&gt;`)[0];\n",
       "                popup_43a5a4dcc74c8839e189ebd9f0f56476.setContent(html_12946958ed5758b2866513576a39d024);\n",
       "            \n",
       "        \n",
       "\n",
       "        marker_4ddcfc75644e2272e0e58524e34a3f91.bindPopup(popup_43a5a4dcc74c8839e189ebd9f0f56476)\n",
       "        ;\n",
       "\n",
       "        \n",
       "    \n",
       "    \n",
       "            var marker_f0da6fcfbbe3a66a34fb74edff615932 = L.marker(\n",
       "                [23.086090107291625, -82.42853148002152],\n",
       "                {\n",
       "}\n",
       "            ).addTo(map_e4b9394eed1b90c36772b623ee0598e0);\n",
       "        \n",
       "    \n",
       "            var icon_a9c7baeab6f90fa2545a01942bdb09d7 = L.AwesomeMarkers.icon(\n",
       "                {\n",
       "  &quot;markerColor&quot;: &quot;red&quot;,\n",
       "  &quot;iconColor&quot;: &quot;white&quot;,\n",
       "  &quot;icon&quot;: &quot;cutlery&quot;,\n",
       "  &quot;prefix&quot;: &quot;fa&quot;,\n",
       "  &quot;extraClasses&quot;: &quot;fa-rotate-0&quot;,\n",
       "}\n",
       "            );\n",
       "            marker_f0da6fcfbbe3a66a34fb74edff615932.setIcon(icon_a9c7baeab6f90fa2545a01942bdb09d7);\n",
       "        \n",
       "    \n",
       "        var popup_fc31db3f5f215faa7d704ed010117c5a = L.popup({\n",
       "  &quot;maxWidth&quot;: &quot;100%&quot;,\n",
       "});\n",
       "\n",
       "        \n",
       "            \n",
       "                var html_ab36404df809c2b752ebe0efad99d8df = $(`&lt;div id=&quot;html_ab36404df809c2b752ebe0efad99d8df&quot; style=&quot;width: 100.0%; height: 100.0%;&quot;&gt;(&quot;&lt;b style=&#x27;font-size: 18px; &#x27;&gt;Cafeteria obelisco&lt;/b&gt;&lt;br&gt;Direccion: Avenida 31&quot;, &quot;Especialidades: [&#x27;mixta&#x27;]&quot;)&lt;/div&gt;`)[0];\n",
       "                popup_fc31db3f5f215faa7d704ed010117c5a.setContent(html_ab36404df809c2b752ebe0efad99d8df);\n",
       "            \n",
       "        \n",
       "\n",
       "        marker_f0da6fcfbbe3a66a34fb74edff615932.bindPopup(popup_fc31db3f5f215faa7d704ed010117c5a)\n",
       "        ;\n",
       "\n",
       "        \n",
       "    \n",
       "    \n",
       "            var marker_24f4f1d29fbd299dca43d7be4b1e78fc = L.marker(\n",
       "                [23.052405448223777, -82.4605687],\n",
       "                {\n",
       "}\n",
       "            ).addTo(map_e4b9394eed1b90c36772b623ee0598e0);\n",
       "        \n",
       "    \n",
       "            var icon_bb2ed3a7ce996b46a30756d16e1da9e2 = L.AwesomeMarkers.icon(\n",
       "                {\n",
       "  &quot;markerColor&quot;: &quot;red&quot;,\n",
       "  &quot;iconColor&quot;: &quot;white&quot;,\n",
       "  &quot;icon&quot;: &quot;cutlery&quot;,\n",
       "  &quot;prefix&quot;: &quot;fa&quot;,\n",
       "  &quot;extraClasses&quot;: &quot;fa-rotate-0&quot;,\n",
       "}\n",
       "            );\n",
       "            marker_24f4f1d29fbd299dca43d7be4b1e78fc.setIcon(icon_bb2ed3a7ce996b46a30756d16e1da9e2);\n",
       "        \n",
       "    \n",
       "        var popup_cc7042fef01e1e079753d69a337f7397 = L.popup({\n",
       "  &quot;maxWidth&quot;: &quot;100%&quot;,\n",
       "});\n",
       "\n",
       "        \n",
       "            \n",
       "                var html_8866284507322c21e60c8478afd58eae = $(`&lt;div id=&quot;html_8866284507322c21e60c8478afd58eae&quot; style=&quot;width: 100.0%; height: 100.0%;&quot;&gt;(&quot;&lt;b style=&#x27;font-size: 18px; &#x27;&gt;Cafe Aroma&lt;/b&gt;&lt;br&gt;Direccion: Calle 244 No. 5106 e/ 51 y 61, San Agustín&quot;, &quot;Especialidades: [&#x27;Mixta&#x27;, &#x27;Cafes&#x27;]&quot;)&lt;/div&gt;`)[0];\n",
       "                popup_cc7042fef01e1e079753d69a337f7397.setContent(html_8866284507322c21e60c8478afd58eae);\n",
       "            \n",
       "        \n",
       "\n",
       "        marker_24f4f1d29fbd299dca43d7be4b1e78fc.bindPopup(popup_cc7042fef01e1e079753d69a337f7397)\n",
       "        ;\n",
       "\n",
       "        \n",
       "    \n",
       "    \n",
       "            var marker_d32c3f01393e3fb14d24d425c1f35e80 = L.marker(\n",
       "                [23.136496787602418, -82.36291657498259],\n",
       "                {\n",
       "}\n",
       "            ).addTo(map_e4b9394eed1b90c36772b623ee0598e0);\n",
       "        \n",
       "    \n",
       "            var icon_ec2bf9996f05a4dd597cb423fa637d65 = L.AwesomeMarkers.icon(\n",
       "                {\n",
       "  &quot;markerColor&quot;: &quot;red&quot;,\n",
       "  &quot;iconColor&quot;: &quot;white&quot;,\n",
       "  &quot;icon&quot;: &quot;cutlery&quot;,\n",
       "  &quot;prefix&quot;: &quot;fa&quot;,\n",
       "  &quot;extraClasses&quot;: &quot;fa-rotate-0&quot;,\n",
       "}\n",
       "            );\n",
       "            marker_d32c3f01393e3fb14d24d425c1f35e80.setIcon(icon_ec2bf9996f05a4dd597cb423fa637d65);\n",
       "        \n",
       "    \n",
       "        var popup_147e58474ae2357a8a48f3a306e4ef52 = L.popup({\n",
       "  &quot;maxWidth&quot;: &quot;100%&quot;,\n",
       "});\n",
       "\n",
       "        \n",
       "            \n",
       "                var html_578ee2442ff57345346c48352622e6b4 = $(`&lt;div id=&quot;html_578ee2442ff57345346c48352622e6b4&quot; style=&quot;width: 100.0%; height: 100.0%;&quot;&gt;(&quot;&lt;b style=&#x27;font-size: 18px; &#x27;&gt;Cafe Bulevar&lt;/b&gt;&lt;br&gt;Direccion: Blvd de San Rafael entre Aguila y Galeano&quot;, &quot;Especialidades: [&#x27;cubana&#x27;]&quot;)&lt;/div&gt;`)[0];\n",
       "                popup_147e58474ae2357a8a48f3a306e4ef52.setContent(html_578ee2442ff57345346c48352622e6b4);\n",
       "            \n",
       "        \n",
       "\n",
       "        marker_d32c3f01393e3fb14d24d425c1f35e80.bindPopup(popup_147e58474ae2357a8a48f3a306e4ef52)\n",
       "        ;\n",
       "\n",
       "        \n",
       "    \n",
       "    \n",
       "            var marker_24aeb514c1c819b71f3fa79b6d56c933 = L.marker(\n",
       "                [23.142000139754025, -82.35554376702197],\n",
       "                {\n",
       "}\n",
       "            ).addTo(map_e4b9394eed1b90c36772b623ee0598e0);\n",
       "        \n",
       "    \n",
       "            var icon_75c2cc4edd95f464a1f8368a1d90b5c0 = L.AwesomeMarkers.icon(\n",
       "                {\n",
       "  &quot;markerColor&quot;: &quot;red&quot;,\n",
       "  &quot;iconColor&quot;: &quot;white&quot;,\n",
       "  &quot;icon&quot;: &quot;cutlery&quot;,\n",
       "  &quot;prefix&quot;: &quot;fa&quot;,\n",
       "  &quot;extraClasses&quot;: &quot;fa-rotate-0&quot;,\n",
       "}\n",
       "            );\n",
       "            marker_24aeb514c1c819b71f3fa79b6d56c933.setIcon(icon_75c2cc4edd95f464a1f8368a1d90b5c0);\n",
       "        \n",
       "    \n",
       "        var popup_354c332ea5750048b59c66a6b9bc2256 = L.popup({\n",
       "  &quot;maxWidth&quot;: &quot;100%&quot;,\n",
       "});\n",
       "\n",
       "        \n",
       "            \n",
       "                var html_706c9cdb3683370ff7f606a76fbebc35 = $(`&lt;div id=&quot;html_706c9cdb3683370ff7f606a76fbebc35&quot; style=&quot;width: 100.0%; height: 100.0%;&quot;&gt;(&quot;&lt;b style=&#x27;font-size: 18px; &#x27;&gt;Cafe Del Angel&lt;/b&gt;&lt;br&gt;Direccion: Chacon #201 esquina Compostela&quot;, &quot;Especialidades: [&#x27;Cubana&#x27;, &#x27;internacional&#x27;, &#x27;italiana&#x27;]&quot;)&lt;/div&gt;`)[0];\n",
       "                popup_354c332ea5750048b59c66a6b9bc2256.setContent(html_706c9cdb3683370ff7f606a76fbebc35);\n",
       "            \n",
       "        \n",
       "\n",
       "        marker_24aeb514c1c819b71f3fa79b6d56c933.bindPopup(popup_354c332ea5750048b59c66a6b9bc2256)\n",
       "        ;\n",
       "\n",
       "        \n",
       "    \n",
       "    \n",
       "            var marker_c842e2bd39b65069bf85a59196bf3380 = L.marker(\n",
       "                [23.13903313751219, -82.40074075776106],\n",
       "                {\n",
       "}\n",
       "            ).addTo(map_e4b9394eed1b90c36772b623ee0598e0);\n",
       "        \n",
       "    \n",
       "            var icon_e7ecbc5f97a346a685823377b5c81547 = L.AwesomeMarkers.icon(\n",
       "                {\n",
       "  &quot;markerColor&quot;: &quot;red&quot;,\n",
       "  &quot;iconColor&quot;: &quot;white&quot;,\n",
       "  &quot;icon&quot;: &quot;cutlery&quot;,\n",
       "  &quot;prefix&quot;: &quot;fa&quot;,\n",
       "  &quot;extraClasses&quot;: &quot;fa-rotate-0&quot;,\n",
       "}\n",
       "            );\n",
       "            marker_c842e2bd39b65069bf85a59196bf3380.setIcon(icon_e7ecbc5f97a346a685823377b5c81547);\n",
       "        \n",
       "    \n",
       "        var popup_851c01bc16065cfa219489e35a5c3bcc = L.popup({\n",
       "  &quot;maxWidth&quot;: &quot;100%&quot;,\n",
       "});\n",
       "\n",
       "        \n",
       "            \n",
       "                var html_bba4cb30f104a906718be57ee11fcd90 = $(`&lt;div id=&quot;html_bba4cb30f104a906718be57ee11fcd90&quot; style=&quot;width: 100.0%; height: 100.0%;&quot;&gt;(&quot;&lt;b style=&#x27;font-size: 18px; &#x27;&gt;Cafe D la Esquina&lt;/b&gt;&lt;br&gt;Direccion: Paseo #101, esq. a 5ta., Vedado&quot;, &quot;Especialidades: [&#x27;Comida cubana&#x27;, &#x27;caribeña&#x27;, &#x27;americana&#x27;]&quot;)&lt;/div&gt;`)[0];\n",
       "                popup_851c01bc16065cfa219489e35a5c3bcc.setContent(html_bba4cb30f104a906718be57ee11fcd90);\n",
       "            \n",
       "        \n",
       "\n",
       "        marker_c842e2bd39b65069bf85a59196bf3380.bindPopup(popup_851c01bc16065cfa219489e35a5c3bcc)\n",
       "        ;\n",
       "\n",
       "        \n",
       "    \n",
       "    \n",
       "            var marker_a93a1dd6164d98b65d0ed70a82541f20 = L.marker(\n",
       "                [23.142976203835282, -82.35457077116467],\n",
       "                {\n",
       "}\n",
       "            ).addTo(map_e4b9394eed1b90c36772b623ee0598e0);\n",
       "        \n",
       "    \n",
       "            var icon_a30485c93d4235c79a156ddd41fa391f = L.AwesomeMarkers.icon(\n",
       "                {\n",
       "  &quot;markerColor&quot;: &quot;red&quot;,\n",
       "  &quot;iconColor&quot;: &quot;white&quot;,\n",
       "  &quot;icon&quot;: &quot;cutlery&quot;,\n",
       "  &quot;prefix&quot;: &quot;fa&quot;,\n",
       "  &quot;extraClasses&quot;: &quot;fa-rotate-0&quot;,\n",
       "}\n",
       "            );\n",
       "            marker_a93a1dd6164d98b65d0ed70a82541f20.setIcon(icon_a30485c93d4235c79a156ddd41fa391f);\n",
       "        \n",
       "    \n",
       "        var popup_8b28fa58317f03004b533b9279a3028b = L.popup({\n",
       "  &quot;maxWidth&quot;: &quot;100%&quot;,\n",
       "});\n",
       "\n",
       "        \n",
       "            \n",
       "                var html_83fc07a4393bc8c53213fb578d345d61 = $(`&lt;div id=&quot;html_83fc07a4393bc8c53213fb578d345d61&quot; style=&quot;width: 100.0%; height: 100.0%;&quot;&gt;(&quot;&lt;b style=&#x27;font-size: 18px; &#x27;&gt;Cafe Fortuna Joe&lt;/b&gt;&lt;br&gt;Direccion: Aguiar 64 e/ Peña Pobre y Cuarteles&quot;, &quot;Especialidades: [&#x27;Internacional&#x27;, &#x27;Cubana&#x27;]&quot;)&lt;/div&gt;`)[0];\n",
       "                popup_8b28fa58317f03004b533b9279a3028b.setContent(html_83fc07a4393bc8c53213fb578d345d61);\n",
       "            \n",
       "        \n",
       "\n",
       "        marker_a93a1dd6164d98b65d0ed70a82541f20.bindPopup(popup_8b28fa58317f03004b533b9279a3028b)\n",
       "        ;\n",
       "\n",
       "        \n",
       "    \n",
       "    \n",
       "            var marker_3bc29021c961e2b7c6d505fbdf3ddacd = L.marker(\n",
       "                [23.030074211657837, -82.40204237654218],\n",
       "                {\n",
       "}\n",
       "            ).addTo(map_e4b9394eed1b90c36772b623ee0598e0);\n",
       "        \n",
       "    \n",
       "            var icon_3d85f3cbb670ad6497a38359859bc734 = L.AwesomeMarkers.icon(\n",
       "                {\n",
       "  &quot;markerColor&quot;: &quot;red&quot;,\n",
       "  &quot;iconColor&quot;: &quot;white&quot;,\n",
       "  &quot;icon&quot;: &quot;cutlery&quot;,\n",
       "  &quot;prefix&quot;: &quot;fa&quot;,\n",
       "  &quot;extraClasses&quot;: &quot;fa-rotate-0&quot;,\n",
       "}\n",
       "            );\n",
       "            marker_3bc29021c961e2b7c6d505fbdf3ddacd.setIcon(icon_3d85f3cbb670ad6497a38359859bc734);\n",
       "        \n",
       "    \n",
       "        var popup_f11d9314d3fdb66a3467fd22459790b5 = L.popup({\n",
       "  &quot;maxWidth&quot;: &quot;100%&quot;,\n",
       "});\n",
       "\n",
       "        \n",
       "            \n",
       "                var html_116269821869e338a39008ccd2347a30 = $(`&lt;div id=&quot;html_116269821869e338a39008ccd2347a30&quot; style=&quot;width: 100.0%; height: 100.0%;&quot;&gt;(&quot;&lt;b style=&#x27;font-size: 18px; &#x27;&gt;Cafe Tilin&lt;/b&gt;&lt;br&gt;Direccion: Avenida Independencia Km 9 1/2, Fontanar&quot;, &quot;Especialidades: [&#x27;Comida cubana&#x27;, &#x27;internacional&#x27;]&quot;)&lt;/div&gt;`)[0];\n",
       "                popup_f11d9314d3fdb66a3467fd22459790b5.setContent(html_116269821869e338a39008ccd2347a30);\n",
       "            \n",
       "        \n",
       "\n",
       "        marker_3bc29021c961e2b7c6d505fbdf3ddacd.bindPopup(popup_f11d9314d3fdb66a3467fd22459790b5)\n",
       "        ;\n",
       "\n",
       "        \n",
       "    \n",
       "    \n",
       "            var marker_af5e68117964d7c1a7a9706118f022bf = L.marker(\n",
       "                [23.0717312546624, -82.3077958289789],\n",
       "                {\n",
       "}\n",
       "            ).addTo(map_e4b9394eed1b90c36772b623ee0598e0);\n",
       "        \n",
       "    \n",
       "            var icon_ded551fb05794f7e56db69dd6db544bc = L.AwesomeMarkers.icon(\n",
       "                {\n",
       "  &quot;markerColor&quot;: &quot;red&quot;,\n",
       "  &quot;iconColor&quot;: &quot;white&quot;,\n",
       "  &quot;icon&quot;: &quot;cutlery&quot;,\n",
       "  &quot;prefix&quot;: &quot;fa&quot;,\n",
       "  &quot;extraClasses&quot;: &quot;fa-rotate-0&quot;,\n",
       "}\n",
       "            );\n",
       "            marker_af5e68117964d7c1a7a9706118f022bf.setIcon(icon_ded551fb05794f7e56db69dd6db544bc);\n",
       "        \n",
       "    \n",
       "        var popup_7ed0c27965c267b2cd731cdc81f757ca = L.popup({\n",
       "  &quot;maxWidth&quot;: &quot;100%&quot;,\n",
       "});\n",
       "\n",
       "        \n",
       "            \n",
       "                var html_bb5d138770609d570556ae2cf78cb008 = $(`&lt;div id=&quot;html_bb5d138770609d570556ae2cf78cb008&quot; style=&quot;width: 100.0%; height: 100.0%;&quot;&gt;(&quot;&lt;b style=&#x27;font-size: 18px; &#x27;&gt;Café Toscano&lt;/b&gt;&lt;br&gt;Direccion: Calzada de Guines&quot;, &quot;Especialidades: [&#x27;criolla&#x27;, &#x27;italiana&#x27;]&quot;)&lt;/div&gt;`)[0];\n",
       "                popup_7ed0c27965c267b2cd731cdc81f757ca.setContent(html_bb5d138770609d570556ae2cf78cb008);\n",
       "            \n",
       "        \n",
       "\n",
       "        marker_af5e68117964d7c1a7a9706118f022bf.bindPopup(popup_7ed0c27965c267b2cd731cdc81f757ca)\n",
       "        ;\n",
       "\n",
       "        \n",
       "    \n",
       "    \n",
       "            var marker_c94a95d79bc58ddddf1eab5aa8f6819d = L.marker(\n",
       "                [23.10865762371607, -82.24742188465748],\n",
       "                {\n",
       "}\n",
       "            ).addTo(map_e4b9394eed1b90c36772b623ee0598e0);\n",
       "        \n",
       "    \n",
       "            var icon_deccab095ad52b8957d2a77efffa1f12 = L.AwesomeMarkers.icon(\n",
       "                {\n",
       "  &quot;markerColor&quot;: &quot;red&quot;,\n",
       "  &quot;iconColor&quot;: &quot;white&quot;,\n",
       "  &quot;icon&quot;: &quot;cutlery&quot;,\n",
       "  &quot;prefix&quot;: &quot;fa&quot;,\n",
       "  &quot;extraClasses&quot;: &quot;fa-rotate-0&quot;,\n",
       "}\n",
       "            );\n",
       "            marker_c94a95d79bc58ddddf1eab5aa8f6819d.setIcon(icon_deccab095ad52b8957d2a77efffa1f12);\n",
       "        \n",
       "    \n",
       "        var popup_2e169f2622eae60773278fcaa5f8b05e = L.popup({\n",
       "  &quot;maxWidth&quot;: &quot;100%&quot;,\n",
       "});\n",
       "\n",
       "        \n",
       "            \n",
       "                var html_3733a3fea0b3ec4ab026dacaf9b416f7 = $(`&lt;div id=&quot;html_3733a3fea0b3ec4ab026dacaf9b416f7&quot; style=&quot;width: 100.0%; height: 100.0%;&quot;&gt;(&quot;&lt;b style=&#x27;font-size: 18px; &#x27;&gt;Cafe Versalles&lt;/b&gt;&lt;br&gt;Direccion: Calle Marti No.101 entre Versalles y San Antonio&quot;, &quot;Especialidades: [&#x27;Comida Criolla&#x27;]&quot;)&lt;/div&gt;`)[0];\n",
       "                popup_2e169f2622eae60773278fcaa5f8b05e.setContent(html_3733a3fea0b3ec4ab026dacaf9b416f7);\n",
       "            \n",
       "        \n",
       "\n",
       "        marker_c94a95d79bc58ddddf1eab5aa8f6819d.bindPopup(popup_2e169f2622eae60773278fcaa5f8b05e)\n",
       "        ;\n",
       "\n",
       "        \n",
       "    \n",
       "    \n",
       "            var marker_b564cad5fe2c17bcf130362124d7bac5 = L.marker(\n",
       "                [23.117962514624928, -82.43294891647132],\n",
       "                {\n",
       "}\n",
       "            ).addTo(map_e4b9394eed1b90c36772b623ee0598e0);\n",
       "        \n",
       "    \n",
       "            var icon_8bde934ec1fe5de21de98bccc5852060 = L.AwesomeMarkers.icon(\n",
       "                {\n",
       "  &quot;markerColor&quot;: &quot;red&quot;,\n",
       "  &quot;iconColor&quot;: &quot;white&quot;,\n",
       "  &quot;icon&quot;: &quot;cutlery&quot;,\n",
       "  &quot;prefix&quot;: &quot;fa&quot;,\n",
       "  &quot;extraClasses&quot;: &quot;fa-rotate-0&quot;,\n",
       "}\n",
       "            );\n",
       "            marker_b564cad5fe2c17bcf130362124d7bac5.setIcon(icon_8bde934ec1fe5de21de98bccc5852060);\n",
       "        \n",
       "    \n",
       "        var popup_cc1dd54c208434fac1d910202260aece = L.popup({\n",
       "  &quot;maxWidth&quot;: &quot;100%&quot;,\n",
       "});\n",
       "\n",
       "        \n",
       "            \n",
       "                var html_90763cf368f06ae6c66d5f65c1bee059 = $(`&lt;div id=&quot;html_90763cf368f06ae6c66d5f65c1bee059&quot; style=&quot;width: 100.0%; height: 100.0%;&quot;&gt;(&quot;&lt;b style=&#x27;font-size: 18px; &#x27;&gt;Café Literario La Copa&lt;/b&gt;&lt;br&gt;Direccion:  1ra A entre 42 y 44&quot;, &quot;Especialidades: [&#x27;mixta&#x27;]&quot;)&lt;/div&gt;`)[0];\n",
       "                popup_cc1dd54c208434fac1d910202260aece.setContent(html_90763cf368f06ae6c66d5f65c1bee059);\n",
       "            \n",
       "        \n",
       "\n",
       "        marker_b564cad5fe2c17bcf130362124d7bac5.bindPopup(popup_cc1dd54c208434fac1d910202260aece)\n",
       "        ;\n",
       "\n",
       "        \n",
       "    \n",
       "    \n",
       "            var marker_9178ec656d16659ce98a8363d81a8355 = L.marker(\n",
       "                [23.07258141652537, -82.3570826358098],\n",
       "                {\n",
       "}\n",
       "            ).addTo(map_e4b9394eed1b90c36772b623ee0598e0);\n",
       "        \n",
       "    \n",
       "            var icon_647c23cfa555e91a6d94c1dd4227571f = L.AwesomeMarkers.icon(\n",
       "                {\n",
       "  &quot;markerColor&quot;: &quot;red&quot;,\n",
       "  &quot;iconColor&quot;: &quot;white&quot;,\n",
       "  &quot;icon&quot;: &quot;cutlery&quot;,\n",
       "  &quot;prefix&quot;: &quot;fa&quot;,\n",
       "  &quot;extraClasses&quot;: &quot;fa-rotate-0&quot;,\n",
       "}\n",
       "            );\n",
       "            marker_9178ec656d16659ce98a8363d81a8355.setIcon(icon_647c23cfa555e91a6d94c1dd4227571f);\n",
       "        \n",
       "    \n",
       "        var popup_f88c71756c56ede5bee12a522c84871c = L.popup({\n",
       "  &quot;maxWidth&quot;: &quot;100%&quot;,\n",
       "});\n",
       "\n",
       "        \n",
       "            \n",
       "                var html_e012427e586e1d029acc8d6f17842d71 = $(`&lt;div id=&quot;html_e012427e586e1d029acc8d6f17842d71&quot; style=&quot;width: 100.0%; height: 100.0%;&quot;&gt;(&quot;&lt;b style=&#x27;font-size: 18px; &#x27;&gt;Casa del Maiz&lt;/b&gt;&lt;br&gt;Direccion:  Calzada de Managua y San Agustin, Arroyo Naranjo&quot;, &quot;Especialidades: [&#x27;cubana&#x27;]&quot;)&lt;/div&gt;`)[0];\n",
       "                popup_f88c71756c56ede5bee12a522c84871c.setContent(html_e012427e586e1d029acc8d6f17842d71);\n",
       "            \n",
       "        \n",
       "\n",
       "        marker_9178ec656d16659ce98a8363d81a8355.bindPopup(popup_f88c71756c56ede5bee12a522c84871c)\n",
       "        ;\n",
       "\n",
       "        \n",
       "    \n",
       "    \n",
       "            var marker_0db6a01a341ae283545aefc4173fdd5a = L.marker(\n",
       "                [23.14057504472214, -82.35175624751082],\n",
       "                {\n",
       "}\n",
       "            ).addTo(map_e4b9394eed1b90c36772b623ee0598e0);\n",
       "        \n",
       "    \n",
       "            var icon_1bc2b41e98cc83477dd8f689fd22d12d = L.AwesomeMarkers.icon(\n",
       "                {\n",
       "  &quot;markerColor&quot;: &quot;red&quot;,\n",
       "  &quot;iconColor&quot;: &quot;white&quot;,\n",
       "  &quot;icon&quot;: &quot;cutlery&quot;,\n",
       "  &quot;prefix&quot;: &quot;fa&quot;,\n",
       "  &quot;extraClasses&quot;: &quot;fa-rotate-0&quot;,\n",
       "}\n",
       "            );\n",
       "            marker_0db6a01a341ae283545aefc4173fdd5a.setIcon(icon_1bc2b41e98cc83477dd8f689fd22d12d);\n",
       "        \n",
       "    \n",
       "        var popup_5ebc3cbb25106dbfa491fa3100ceac85 = L.popup({\n",
       "  &quot;maxWidth&quot;: &quot;100%&quot;,\n",
       "});\n",
       "\n",
       "        \n",
       "            \n",
       "                var html_190d1cefe780243de36901bd268ea247 = $(`&lt;div id=&quot;html_190d1cefe780243de36901bd268ea247&quot; style=&quot;width: 100.0%; height: 100.0%;&quot;&gt;(&quot;&lt;b style=&#x27;font-size: 18px; &#x27;&gt;Casa Roma 1860&lt;/b&gt;&lt;br&gt;Direccion: San Ignacio No 68 / O Reilly y Empedrado.Callejon del chorro&quot;, &quot;Especialidades: [&#x27;Criolla&#x27;]&quot;)&lt;/div&gt;`)[0];\n",
       "                popup_5ebc3cbb25106dbfa491fa3100ceac85.setContent(html_190d1cefe780243de36901bd268ea247);\n",
       "            \n",
       "        \n",
       "\n",
       "        marker_0db6a01a341ae283545aefc4173fdd5a.bindPopup(popup_5ebc3cbb25106dbfa491fa3100ceac85)\n",
       "        ;\n",
       "\n",
       "        \n",
       "    \n",
       "    \n",
       "            var marker_e2543b9d3ab6ac2fb5301b6fdca6f785 = L.marker(\n",
       "                [23.14287158318666, -82.39913605698585],\n",
       "                {\n",
       "}\n",
       "            ).addTo(map_e4b9394eed1b90c36772b623ee0598e0);\n",
       "        \n",
       "    \n",
       "            var icon_f18cf7f0763c18484ae71da751aa0027 = L.AwesomeMarkers.icon(\n",
       "                {\n",
       "  &quot;markerColor&quot;: &quot;red&quot;,\n",
       "  &quot;iconColor&quot;: &quot;white&quot;,\n",
       "  &quot;icon&quot;: &quot;cutlery&quot;,\n",
       "  &quot;prefix&quot;: &quot;fa&quot;,\n",
       "  &quot;extraClasses&quot;: &quot;fa-rotate-0&quot;,\n",
       "}\n",
       "            );\n",
       "            marker_e2543b9d3ab6ac2fb5301b6fdca6f785.setIcon(icon_f18cf7f0763c18484ae71da751aa0027);\n",
       "        \n",
       "    \n",
       "        var popup_0f0f21b00b58bfcce0e9a32dd3cdf8d4 = L.popup({\n",
       "  &quot;maxWidth&quot;: &quot;100%&quot;,\n",
       "});\n",
       "\n",
       "        \n",
       "            \n",
       "                var html_5233e777ae15d95deac1eda66685abbb = $(`&lt;div id=&quot;html_5233e777ae15d95deac1eda66685abbb&quot; style=&quot;width: 100.0%; height: 100.0%;&quot;&gt;(&quot;&lt;b style=&#x27;font-size: 18px; &#x27;&gt;Casa Mia&lt;/b&gt;&lt;br&gt;Direccion: Calle 1ra, No.103, entre C y D, Vedado&quot;, &quot;Especialidades: [&#x27;Comida Caribeña&#x27;, &#x27;latina&#x27;, &#x27;saludable&#x27;, &#x27;cubana&#x27;, &#x27;internacional&#x27;, &#x27;mariscos&#x27;]&quot;)&lt;/div&gt;`)[0];\n",
       "                popup_0f0f21b00b58bfcce0e9a32dd3cdf8d4.setContent(html_5233e777ae15d95deac1eda66685abbb);\n",
       "            \n",
       "        \n",
       "\n",
       "        marker_e2543b9d3ab6ac2fb5301b6fdca6f785.bindPopup(popup_0f0f21b00b58bfcce0e9a32dd3cdf8d4)\n",
       "        ;\n",
       "\n",
       "        \n",
       "    \n",
       "    \n",
       "            var marker_d9c5b87d874bdafb075d84ad62159051 = L.marker(\n",
       "                [23.140862822677907, -82.35652410537521],\n",
       "                {\n",
       "}\n",
       "            ).addTo(map_e4b9394eed1b90c36772b623ee0598e0);\n",
       "        \n",
       "    \n",
       "            var icon_e8f1a089d212094c7a094b241d15d97b = L.AwesomeMarkers.icon(\n",
       "                {\n",
       "  &quot;markerColor&quot;: &quot;red&quot;,\n",
       "  &quot;iconColor&quot;: &quot;white&quot;,\n",
       "  &quot;icon&quot;: &quot;cutlery&quot;,\n",
       "  &quot;prefix&quot;: &quot;fa&quot;,\n",
       "  &quot;extraClasses&quot;: &quot;fa-rotate-0&quot;,\n",
       "}\n",
       "            );\n",
       "            marker_d9c5b87d874bdafb075d84ad62159051.setIcon(icon_e8f1a089d212094c7a094b241d15d97b);\n",
       "        \n",
       "    \n",
       "        var popup_4f5d67e895a8e0e0d14a921c6aa8b912 = L.popup({\n",
       "  &quot;maxWidth&quot;: &quot;100%&quot;,\n",
       "});\n",
       "\n",
       "        \n",
       "            \n",
       "                var html_f8bad6194477bf6d6f45ce5b483bf2d5 = $(`&lt;div id=&quot;html_f8bad6194477bf6d6f45ce5b483bf2d5&quot; style=&quot;width: 100.0%; height: 100.0%;&quot;&gt;(&quot;&lt;b style=&#x27;font-size: 18px; &#x27;&gt;ChaChaChá&lt;/b&gt;&lt;br&gt;Direccion: Monserrate # 159 e/ Tejadillo y Chacón&quot;, &quot;Especialidades: [&#x27;Comida Internacional&#x27;, &#x27;Fusión&#x27;, &#x27;Cubana&#x27;]&quot;)&lt;/div&gt;`)[0];\n",
       "                popup_4f5d67e895a8e0e0d14a921c6aa8b912.setContent(html_f8bad6194477bf6d6f45ce5b483bf2d5);\n",
       "            \n",
       "        \n",
       "\n",
       "        marker_d9c5b87d874bdafb075d84ad62159051.bindPopup(popup_4f5d67e895a8e0e0d14a921c6aa8b912)\n",
       "        ;\n",
       "\n",
       "        \n",
       "    \n",
       "    \n",
       "            var marker_66ee6a32470bc6866812f1623a16ec81 = L.marker(\n",
       "                [23.1310792818174, -82.4048009798343],\n",
       "                {\n",
       "}\n",
       "            ).addTo(map_e4b9394eed1b90c36772b623ee0598e0);\n",
       "        \n",
       "    \n",
       "            var icon_b5e84219b6868f122903e6d9f2a5d2cd = L.AwesomeMarkers.icon(\n",
       "                {\n",
       "  &quot;markerColor&quot;: &quot;red&quot;,\n",
       "  &quot;iconColor&quot;: &quot;white&quot;,\n",
       "  &quot;icon&quot;: &quot;cutlery&quot;,\n",
       "  &quot;prefix&quot;: &quot;fa&quot;,\n",
       "  &quot;extraClasses&quot;: &quot;fa-rotate-0&quot;,\n",
       "}\n",
       "            );\n",
       "            marker_66ee6a32470bc6866812f1623a16ec81.setIcon(icon_b5e84219b6868f122903e6d9f2a5d2cd);\n",
       "        \n",
       "    \n",
       "        var popup_b148554a3c13a298b69b06215b765aa3 = L.popup({\n",
       "  &quot;maxWidth&quot;: &quot;100%&quot;,\n",
       "});\n",
       "\n",
       "        \n",
       "            \n",
       "                var html_33ff61c8ce268bc6ec837d8d6ff93ab7 = $(`&lt;div id=&quot;html_33ff61c8ce268bc6ec837d8d6ff93ab7&quot; style=&quot;width: 100.0%; height: 100.0%;&quot;&gt;(&quot;&lt;b style=&#x27;font-size: 18px; &#x27;&gt;Coco Blue&lt;/b&gt;&lt;br&gt;Direccion: entre 11 y 13 Vedado, 112 Calle 14&quot;, &quot;Especialidades: [&#x27;Caribeña&#x27;, &#x27;Bar&#x27;, &#x27;Café&#x27;, &#x27;Pub&#x27;, &#x27;Cubana&#x27;]&quot;)&lt;/div&gt;`)[0];\n",
       "                popup_b148554a3c13a298b69b06215b765aa3.setContent(html_33ff61c8ce268bc6ec837d8d6ff93ab7);\n",
       "            \n",
       "        \n",
       "\n",
       "        marker_66ee6a32470bc6866812f1623a16ec81.bindPopup(popup_b148554a3c13a298b69b06215b765aa3)\n",
       "        ;\n",
       "\n",
       "        \n",
       "    \n",
       "    \n",
       "            var marker_79e336d1e103cf6d0e42d442a46cc5c9 = L.marker(\n",
       "                [23.13713706188433, -82.36148787289606],\n",
       "                {\n",
       "}\n",
       "            ).addTo(map_e4b9394eed1b90c36772b623ee0598e0);\n",
       "        \n",
       "    \n",
       "            var icon_c1381299d5a7ced3f61fa9f41ab1b112 = L.AwesomeMarkers.icon(\n",
       "                {\n",
       "  &quot;markerColor&quot;: &quot;red&quot;,\n",
       "  &quot;iconColor&quot;: &quot;white&quot;,\n",
       "  &quot;icon&quot;: &quot;cutlery&quot;,\n",
       "  &quot;prefix&quot;: &quot;fa&quot;,\n",
       "  &quot;extraClasses&quot;: &quot;fa-rotate-0&quot;,\n",
       "}\n",
       "            );\n",
       "            marker_79e336d1e103cf6d0e42d442a46cc5c9.setIcon(icon_c1381299d5a7ced3f61fa9f41ab1b112);\n",
       "        \n",
       "    \n",
       "        var popup_de7058d639056d1457bd661c125851f5 = L.popup({\n",
       "  &quot;maxWidth&quot;: &quot;100%&quot;,\n",
       "});\n",
       "\n",
       "        \n",
       "            \n",
       "                var html_8a1c88e115c9632db90e2f53889c026c = $(`&lt;div id=&quot;html_8a1c88e115c9632db90e2f53889c026c&quot; style=&quot;width: 100.0%; height: 100.0%;&quot;&gt;(&quot;&lt;b style=&#x27;font-size: 18px; &#x27;&gt;Cohmar Cafe&lt;/b&gt;&lt;br&gt;Direccion: Boulevard de San Rafael, &amp; Amistad&quot;, &quot;Especialidades: [&#x27;criolla&#x27;, &#x27;internacional&#x27;, &#x27;cubana&#x27;]&quot;)&lt;/div&gt;`)[0];\n",
       "                popup_de7058d639056d1457bd661c125851f5.setContent(html_8a1c88e115c9632db90e2f53889c026c);\n",
       "            \n",
       "        \n",
       "\n",
       "        marker_79e336d1e103cf6d0e42d442a46cc5c9.bindPopup(popup_de7058d639056d1457bd661c125851f5)\n",
       "        ;\n",
       "\n",
       "        \n",
       "    \n",
       "    \n",
       "            var marker_a03a3d9ce60e8b23b69591c9bb44078d = L.marker(\n",
       "                [23.071073169539453, -82.43552727449875],\n",
       "                {\n",
       "}\n",
       "            ).addTo(map_e4b9394eed1b90c36772b623ee0598e0);\n",
       "        \n",
       "    \n",
       "            var icon_40d1a4df81520f80e7c2595a4416f41a = L.AwesomeMarkers.icon(\n",
       "                {\n",
       "  &quot;markerColor&quot;: &quot;red&quot;,\n",
       "  &quot;iconColor&quot;: &quot;white&quot;,\n",
       "  &quot;icon&quot;: &quot;cutlery&quot;,\n",
       "  &quot;prefix&quot;: &quot;fa&quot;,\n",
       "  &quot;extraClasses&quot;: &quot;fa-rotate-0&quot;,\n",
       "}\n",
       "            );\n",
       "            marker_a03a3d9ce60e8b23b69591c9bb44078d.setIcon(icon_40d1a4df81520f80e7c2595a4416f41a);\n",
       "        \n",
       "    \n",
       "        var popup_bdea5b836b1fad6181a4b932d85c6e9f = L.popup({\n",
       "  &quot;maxWidth&quot;: &quot;100%&quot;,\n",
       "});\n",
       "\n",
       "        \n",
       "            \n",
       "                var html_db7f58298d57bbb423a24eaa5a419bed = $(`&lt;div id=&quot;html_db7f58298d57bbb423a24eaa5a419bed&quot; style=&quot;width: 100.0%; height: 100.0%;&quot;&gt;(&quot;&lt;b style=&#x27;font-size: 18px; &#x27;&gt;Colesterol 5.1&lt;/b&gt;&lt;br&gt;Direccion: Avenida 51 entre 134 y 136&quot;, &quot;Especialidades: [&#x27;cubana&#x27;, &#x27;italiana&#x27;, &#x27;internacional&#x27;]&quot;)&lt;/div&gt;`)[0];\n",
       "                popup_bdea5b836b1fad6181a4b932d85c6e9f.setContent(html_db7f58298d57bbb423a24eaa5a419bed);\n",
       "            \n",
       "        \n",
       "\n",
       "        marker_a03a3d9ce60e8b23b69591c9bb44078d.bindPopup(popup_bdea5b836b1fad6181a4b932d85c6e9f)\n",
       "        ;\n",
       "\n",
       "        \n",
       "    \n",
       "    \n",
       "            var marker_fbb0f2859aa49583a9682fd0cf65d95f = L.marker(\n",
       "                [23.05213364329506, -82.33209177284725],\n",
       "                {\n",
       "}\n",
       "            ).addTo(map_e4b9394eed1b90c36772b623ee0598e0);\n",
       "        \n",
       "    \n",
       "            var icon_92bccb351c5490013068548eae5f2665 = L.AwesomeMarkers.icon(\n",
       "                {\n",
       "  &quot;markerColor&quot;: &quot;red&quot;,\n",
       "  &quot;iconColor&quot;: &quot;white&quot;,\n",
       "  &quot;icon&quot;: &quot;cutlery&quot;,\n",
       "  &quot;prefix&quot;: &quot;fa&quot;,\n",
       "  &quot;extraClasses&quot;: &quot;fa-rotate-0&quot;,\n",
       "}\n",
       "            );\n",
       "            marker_fbb0f2859aa49583a9682fd0cf65d95f.setIcon(icon_92bccb351c5490013068548eae5f2665);\n",
       "        \n",
       "    \n",
       "        var popup_d84a80741ee81922256e819b7b32cf1a = L.popup({\n",
       "  &quot;maxWidth&quot;: &quot;100%&quot;,\n",
       "});\n",
       "\n",
       "        \n",
       "            \n",
       "                var html_cb20d7f55bf76e865a9622bfc8ab872b = $(`&lt;div id=&quot;html_cb20d7f55bf76e865a9622bfc8ab872b&quot; style=&quot;width: 100.0%; height: 100.0%;&quot;&gt;(&quot;&lt;b style=&#x27;font-size: 18px; &#x27;&gt;Comida Criolla Ocho Vías&lt;/b&gt;&lt;br&gt;Direccion: Avenida 1er Anillo 3km despues de San Agustin&quot;, &quot;Especialidades: [&#x27;cubana&#x27;]&quot;)&lt;/div&gt;`)[0];\n",
       "                popup_d84a80741ee81922256e819b7b32cf1a.setContent(html_cb20d7f55bf76e865a9622bfc8ab872b);\n",
       "            \n",
       "        \n",
       "\n",
       "        marker_fbb0f2859aa49583a9682fd0cf65d95f.bindPopup(popup_d84a80741ee81922256e819b7b32cf1a)\n",
       "        ;\n",
       "\n",
       "        \n",
       "    \n",
       "    \n",
       "            var marker_6828fb4abce02e59baf92d4247bc7b5d = L.marker(\n",
       "                [23.08919134492609, -82.37611427712088],\n",
       "                {\n",
       "}\n",
       "            ).addTo(map_e4b9394eed1b90c36772b623ee0598e0);\n",
       "        \n",
       "    \n",
       "            var icon_402c47b80f3b9733be86f5e6db5f10f0 = L.AwesomeMarkers.icon(\n",
       "                {\n",
       "  &quot;markerColor&quot;: &quot;red&quot;,\n",
       "  &quot;iconColor&quot;: &quot;white&quot;,\n",
       "  &quot;icon&quot;: &quot;cutlery&quot;,\n",
       "  &quot;prefix&quot;: &quot;fa&quot;,\n",
       "  &quot;extraClasses&quot;: &quot;fa-rotate-0&quot;,\n",
       "}\n",
       "            );\n",
       "            marker_6828fb4abce02e59baf92d4247bc7b5d.setIcon(icon_402c47b80f3b9733be86f5e6db5f10f0);\n",
       "        \n",
       "    \n",
       "        var popup_5ad2dac15f1fdf5648bfa4e8335d81af = L.popup({\n",
       "  &quot;maxWidth&quot;: &quot;100%&quot;,\n",
       "});\n",
       "\n",
       "        \n",
       "            \n",
       "                var html_d2b9b8284b3ab30d9656b8aa0dd9c261 = $(`&lt;div id=&quot;html_d2b9b8284b3ab30d9656b8aa0dd9c261&quot; style=&quot;width: 100.0%; height: 100.0%;&quot;&gt;(&quot;&lt;b style=&#x27;font-size: 18px; &#x27;&gt;Crispy Chicken&lt;/b&gt;&lt;br&gt;Direccion: Avenida de Acosta y Juan Delgado, Víbora&quot;, &quot;Especialidades: [&#x27;criolla&#x27;, &#x27;cubana&#x27;, &#x27;internacional&#x27;]&quot;)&lt;/div&gt;`)[0];\n",
       "                popup_5ad2dac15f1fdf5648bfa4e8335d81af.setContent(html_d2b9b8284b3ab30d9656b8aa0dd9c261);\n",
       "            \n",
       "        \n",
       "\n",
       "        marker_6828fb4abce02e59baf92d4247bc7b5d.bindPopup(popup_5ad2dac15f1fdf5648bfa4e8335d81af)\n",
       "        ;\n",
       "\n",
       "        \n",
       "    \n",
       "    \n",
       "            var marker_9a3eca376401495ca90c83b8f76177dd = L.marker(\n",
       "                [23.046144807035024, -82.27016561299135],\n",
       "                {\n",
       "}\n",
       "            ).addTo(map_e4b9394eed1b90c36772b623ee0598e0);\n",
       "        \n",
       "    \n",
       "            var icon_9f2ec11046b01fdb2d255fcfafa62ad9 = L.AwesomeMarkers.icon(\n",
       "                {\n",
       "  &quot;markerColor&quot;: &quot;red&quot;,\n",
       "  &quot;iconColor&quot;: &quot;white&quot;,\n",
       "  &quot;icon&quot;: &quot;cutlery&quot;,\n",
       "  &quot;prefix&quot;: &quot;fa&quot;,\n",
       "  &quot;extraClasses&quot;: &quot;fa-rotate-0&quot;,\n",
       "}\n",
       "            );\n",
       "            marker_9a3eca376401495ca90c83b8f76177dd.setIcon(icon_9f2ec11046b01fdb2d255fcfafa62ad9);\n",
       "        \n",
       "    \n",
       "        var popup_e2a6ddbfeb018b7f771bde17953d639a = L.popup({\n",
       "  &quot;maxWidth&quot;: &quot;100%&quot;,\n",
       "});\n",
       "\n",
       "        \n",
       "            \n",
       "                var html_6dad133230ad5ce0661ffddf97659ae2 = $(`&lt;div id=&quot;html_6dad133230ad5ce0661ffddf97659ae2&quot; style=&quot;width: 100.0%; height: 100.0%;&quot;&gt;(&quot;&lt;b style=&#x27;font-size: 18px; &#x27;&gt;Crystal&lt;/b&gt;&lt;br&gt;Direccion: Avenida 101 entre 18 y 20 centro cotorro&quot;, &quot;Especialidades: [&#x27;Mixta, criolla&#x27;]&quot;)&lt;/div&gt;`)[0];\n",
       "                popup_e2a6ddbfeb018b7f771bde17953d639a.setContent(html_6dad133230ad5ce0661ffddf97659ae2);\n",
       "            \n",
       "        \n",
       "\n",
       "        marker_9a3eca376401495ca90c83b8f76177dd.bindPopup(popup_e2a6ddbfeb018b7f771bde17953d639a)\n",
       "        ;\n",
       "\n",
       "        \n",
       "    \n",
       "    \n",
       "            var marker_89006469ee8d7b4e8b7de613f313f6b8 = L.marker(\n",
       "                [23.13672770195526, -82.39997277634649],\n",
       "                {\n",
       "}\n",
       "            ).addTo(map_e4b9394eed1b90c36772b623ee0598e0);\n",
       "        \n",
       "    \n",
       "            var icon_8c23d75461a9060b13bdee6958b75f6d = L.AwesomeMarkers.icon(\n",
       "                {\n",
       "  &quot;markerColor&quot;: &quot;red&quot;,\n",
       "  &quot;iconColor&quot;: &quot;white&quot;,\n",
       "  &quot;icon&quot;: &quot;cutlery&quot;,\n",
       "  &quot;prefix&quot;: &quot;fa&quot;,\n",
       "  &quot;extraClasses&quot;: &quot;fa-rotate-0&quot;,\n",
       "}\n",
       "            );\n",
       "            marker_89006469ee8d7b4e8b7de613f313f6b8.setIcon(icon_8c23d75461a9060b13bdee6958b75f6d);\n",
       "        \n",
       "    \n",
       "        var popup_84b24414312e1324d35dadde96480a37 = L.popup({\n",
       "  &quot;maxWidth&quot;: &quot;100%&quot;,\n",
       "});\n",
       "\n",
       "        \n",
       "            \n",
       "                var html_c50b9ffa1366cd07ce42d879d56e1b1a = $(`&lt;div id=&quot;html_c50b9ffa1366cd07ce42d879d56e1b1a&quot; style=&quot;width: 100.0%; height: 100.0%;&quot;&gt;(&quot;&lt;b style=&#x27;font-size: 18px; &#x27;&gt;Decameron&lt;/b&gt;&lt;br&gt;Direccion: Calle LLnea entre Paseo y 2, Vedado&quot;, &quot;Especialidades: [&#x27;Comida caribeña&#x27;, &#x27;cubana&#x27;, &#x27;saludable&#x27;, &#x27;fusion&#x27;]&quot;)&lt;/div&gt;`)[0];\n",
       "                popup_84b24414312e1324d35dadde96480a37.setContent(html_c50b9ffa1366cd07ce42d879d56e1b1a);\n",
       "            \n",
       "        \n",
       "\n",
       "        marker_89006469ee8d7b4e8b7de613f313f6b8.bindPopup(popup_84b24414312e1324d35dadde96480a37)\n",
       "        ;\n",
       "\n",
       "        \n",
       "    \n",
       "    \n",
       "            var marker_877443fefd23cae18a548b9fa6c66713 = L.marker(\n",
       "                [23.139889002366708, -82.38110916178115],\n",
       "                {\n",
       "}\n",
       "            ).addTo(map_e4b9394eed1b90c36772b623ee0598e0);\n",
       "        \n",
       "    \n",
       "            var icon_1bf5110d4056d2ef62fc345f182fca82 = L.AwesomeMarkers.icon(\n",
       "                {\n",
       "  &quot;markerColor&quot;: &quot;red&quot;,\n",
       "  &quot;iconColor&quot;: &quot;white&quot;,\n",
       "  &quot;icon&quot;: &quot;cutlery&quot;,\n",
       "  &quot;prefix&quot;: &quot;fa&quot;,\n",
       "  &quot;extraClasses&quot;: &quot;fa-rotate-0&quot;,\n",
       "}\n",
       "            );\n",
       "            marker_877443fefd23cae18a548b9fa6c66713.setIcon(icon_1bf5110d4056d2ef62fc345f182fca82);\n",
       "        \n",
       "    \n",
       "        var popup_af5a305d5a2f5923d4a9ce2f13d6e0f3 = L.popup({\n",
       "  &quot;maxWidth&quot;: &quot;100%&quot;,\n",
       "});\n",
       "\n",
       "        \n",
       "            \n",
       "                var html_efb9bf21570e0f63146a390e6466e913 = $(`&lt;div id=&quot;html_efb9bf21570e0f63146a390e6466e913&quot; style=&quot;width: 100.0%; height: 100.0%;&quot;&gt;(&quot;&lt;b style=&#x27;font-size: 18px; &#x27;&gt;Distrito 25&lt;/b&gt;&lt;br&gt;Direccion: Calle 25 entre M y N, Vedado&quot;, &quot;Especialidades: [&#x27;Comida mexicana&#x27;]&quot;)&lt;/div&gt;`)[0];\n",
       "                popup_af5a305d5a2f5923d4a9ce2f13d6e0f3.setContent(html_efb9bf21570e0f63146a390e6466e913);\n",
       "            \n",
       "        \n",
       "\n",
       "        marker_877443fefd23cae18a548b9fa6c66713.bindPopup(popup_af5a305d5a2f5923d4a9ce2f13d6e0f3)\n",
       "        ;\n",
       "\n",
       "        \n",
       "    \n",
       "    \n",
       "            var marker_2b4cdeb4787456f72089004dacd3bd39 = L.marker(\n",
       "                [23.149840788441544, -82.3560208170218],\n",
       "                {\n",
       "}\n",
       "            ).addTo(map_e4b9394eed1b90c36772b623ee0598e0);\n",
       "        \n",
       "    \n",
       "            var icon_fca5f49fdc2f198df5e451307e6d69c4 = L.AwesomeMarkers.icon(\n",
       "                {\n",
       "  &quot;markerColor&quot;: &quot;red&quot;,\n",
       "  &quot;iconColor&quot;: &quot;white&quot;,\n",
       "  &quot;icon&quot;: &quot;cutlery&quot;,\n",
       "  &quot;prefix&quot;: &quot;fa&quot;,\n",
       "  &quot;extraClasses&quot;: &quot;fa-rotate-0&quot;,\n",
       "}\n",
       "            );\n",
       "            marker_2b4cdeb4787456f72089004dacd3bd39.setIcon(icon_fca5f49fdc2f198df5e451307e6d69c4);\n",
       "        \n",
       "    \n",
       "        var popup_814b1a700c95fc21ece92ec897257fe8 = L.popup({\n",
       "  &quot;maxWidth&quot;: &quot;100%&quot;,\n",
       "});\n",
       "\n",
       "        \n",
       "            \n",
       "                var html_6f0c329521e918925b06dc703a3f72ee = $(`&lt;div id=&quot;html_6f0c329521e918925b06dc703a3f72ee&quot; style=&quot;width: 100.0%; height: 100.0%;&quot;&gt;(&quot;&lt;b style=&#x27;font-size: 18px; &#x27;&gt;Los Doce Apostoles&lt;/b&gt;&lt;br&gt;Direccion: Complejo Morro Cabana,Via Monumental&quot;, &#x27;Especialidades: []&#x27;)&lt;/div&gt;`)[0];\n",
       "                popup_814b1a700c95fc21ece92ec897257fe8.setContent(html_6f0c329521e918925b06dc703a3f72ee);\n",
       "            \n",
       "        \n",
       "\n",
       "        marker_2b4cdeb4787456f72089004dacd3bd39.bindPopup(popup_814b1a700c95fc21ece92ec897257fe8)\n",
       "        ;\n",
       "\n",
       "        \n",
       "    \n",
       "    \n",
       "            var marker_8fe79c59c283b4a4488560202635242a = L.marker(\n",
       "                [23.07542277636338, -82.3589195783884],\n",
       "                {\n",
       "}\n",
       "            ).addTo(map_e4b9394eed1b90c36772b623ee0598e0);\n",
       "        \n",
       "    \n",
       "            var icon_e93db2ba884887270c9e751a3630f4de = L.AwesomeMarkers.icon(\n",
       "                {\n",
       "  &quot;markerColor&quot;: &quot;red&quot;,\n",
       "  &quot;iconColor&quot;: &quot;white&quot;,\n",
       "  &quot;icon&quot;: &quot;cutlery&quot;,\n",
       "  &quot;prefix&quot;: &quot;fa&quot;,\n",
       "  &quot;extraClasses&quot;: &quot;fa-rotate-0&quot;,\n",
       "}\n",
       "            );\n",
       "            marker_8fe79c59c283b4a4488560202635242a.setIcon(icon_e93db2ba884887270c9e751a3630f4de);\n",
       "        \n",
       "    \n",
       "        var popup_beb8d826f18b6d82633d2332a568f431 = L.popup({\n",
       "  &quot;maxWidth&quot;: &quot;100%&quot;,\n",
       "});\n",
       "\n",
       "        \n",
       "            \n",
       "                var html_ea5c9301413d19671d75c964a66f96f3 = $(`&lt;div id=&quot;html_ea5c9301413d19671d75c964a66f96f3&quot; style=&quot;width: 100.0%; height: 100.0%;&quot;&gt;(&quot;&lt;b style=&#x27;font-size: 18px; &#x27;&gt;Don Burguer&lt;/b&gt;&lt;br&gt;Direccion: Calzada de 10 de Octubre, entre  Aranguren y Santa Isabel, La Palma&quot;, &quot;Especialidades: [&#x27;cubana&#x27;]&quot;)&lt;/div&gt;`)[0];\n",
       "                popup_beb8d826f18b6d82633d2332a568f431.setContent(html_ea5c9301413d19671d75c964a66f96f3);\n",
       "            \n",
       "        \n",
       "\n",
       "        marker_8fe79c59c283b4a4488560202635242a.bindPopup(popup_beb8d826f18b6d82633d2332a568f431)\n",
       "        ;\n",
       "\n",
       "        \n",
       "    \n",
       "    \n",
       "            var marker_ad034dade87f0742bf66fdf70bd30357 = L.marker(\n",
       "                [23.077891178709717, -82.31931897477418],\n",
       "                {\n",
       "}\n",
       "            ).addTo(map_e4b9394eed1b90c36772b623ee0598e0);\n",
       "        \n",
       "    \n",
       "            var icon_8e0eeb8a0c062b57aaace1354728340e = L.AwesomeMarkers.icon(\n",
       "                {\n",
       "  &quot;markerColor&quot;: &quot;red&quot;,\n",
       "  &quot;iconColor&quot;: &quot;white&quot;,\n",
       "  &quot;icon&quot;: &quot;cutlery&quot;,\n",
       "  &quot;prefix&quot;: &quot;fa&quot;,\n",
       "  &quot;extraClasses&quot;: &quot;fa-rotate-0&quot;,\n",
       "}\n",
       "            );\n",
       "            marker_ad034dade87f0742bf66fdf70bd30357.setIcon(icon_8e0eeb8a0c062b57aaace1354728340e);\n",
       "        \n",
       "    \n",
       "        var popup_25e0d677e4bd5e20fc1dae907b40405d = L.popup({\n",
       "  &quot;maxWidth&quot;: &quot;100%&quot;,\n",
       "});\n",
       "\n",
       "        \n",
       "            \n",
       "                var html_784cfffa11e14ae8030b3c68697947f3 = $(`&lt;div id=&quot;html_784cfffa11e14ae8030b3c68697947f3&quot; style=&quot;width: 100.0%; height: 100.0%;&quot;&gt;(&quot;&lt;b style=&#x27;font-size: 18px; &#x27;&gt;Don Timbon&lt;/b&gt;&lt;br&gt;Direccion: cerca cjon. La Flora&quot;, &quot;Especialidades: [&#x27;italiana&#x27;]&quot;)&lt;/div&gt;`)[0];\n",
       "                popup_25e0d677e4bd5e20fc1dae907b40405d.setContent(html_784cfffa11e14ae8030b3c68697947f3);\n",
       "            \n",
       "        \n",
       "\n",
       "        marker_ad034dade87f0742bf66fdf70bd30357.bindPopup(popup_25e0d677e4bd5e20fc1dae907b40405d)\n",
       "        ;\n",
       "\n",
       "        \n",
       "    \n",
       "    \n",
       "            var marker_b214b7cad60307bb28863c216a45593b = L.marker(\n",
       "                [23.133178519943957, -82.3706256209112],\n",
       "                {\n",
       "}\n",
       "            ).addTo(map_e4b9394eed1b90c36772b623ee0598e0);\n",
       "        \n",
       "    \n",
       "            var icon_4f6d53438da40ee627ec80dac7d62f10 = L.AwesomeMarkers.icon(\n",
       "                {\n",
       "  &quot;markerColor&quot;: &quot;red&quot;,\n",
       "  &quot;iconColor&quot;: &quot;white&quot;,\n",
       "  &quot;icon&quot;: &quot;cutlery&quot;,\n",
       "  &quot;prefix&quot;: &quot;fa&quot;,\n",
       "  &quot;extraClasses&quot;: &quot;fa-rotate-0&quot;,\n",
       "}\n",
       "            );\n",
       "            marker_b214b7cad60307bb28863c216a45593b.setIcon(icon_4f6d53438da40ee627ec80dac7d62f10);\n",
       "        \n",
       "    \n",
       "        var popup_2fad1cc2b5a5baad075394100c84ca29 = L.popup({\n",
       "  &quot;maxWidth&quot;: &quot;100%&quot;,\n",
       "});\n",
       "\n",
       "        \n",
       "            \n",
       "                var html_e72a1c70763876591d9395116a2aa632 = $(`&lt;div id=&quot;html_e72a1c70763876591d9395116a2aa632&quot; style=&quot;width: 100.0%; height: 100.0%;&quot;&gt;(&quot;&lt;b style=&#x27;font-size: 18px; &#x27;&gt;Dona Alicia&lt;/b&gt;&lt;br&gt;Direccion:  Calle Reina esq, Padre Varela&quot;, &quot;Especialidades: [&#x27;Criolla&#x27;, &#x27;cubana&#x27;, &#x27;internacional&#x27;, &#x27;italiana&#x27;]&quot;)&lt;/div&gt;`)[0];\n",
       "                popup_2fad1cc2b5a5baad075394100c84ca29.setContent(html_e72a1c70763876591d9395116a2aa632);\n",
       "            \n",
       "        \n",
       "\n",
       "        marker_b214b7cad60307bb28863c216a45593b.bindPopup(popup_2fad1cc2b5a5baad075394100c84ca29)\n",
       "        ;\n",
       "\n",
       "        \n",
       "    \n",
       "    \n",
       "            var marker_16839833916c3924a1813c515b98cf7d = L.marker(\n",
       "                [23.064390060079617, -82.37574330537674],\n",
       "                {\n",
       "}\n",
       "            ).addTo(map_e4b9394eed1b90c36772b623ee0598e0);\n",
       "        \n",
       "    \n",
       "            var icon_87fbb3a1bf5a9d4442ab6a6f0d1e9505 = L.AwesomeMarkers.icon(\n",
       "                {\n",
       "  &quot;markerColor&quot;: &quot;red&quot;,\n",
       "  &quot;iconColor&quot;: &quot;white&quot;,\n",
       "  &quot;icon&quot;: &quot;cutlery&quot;,\n",
       "  &quot;prefix&quot;: &quot;fa&quot;,\n",
       "  &quot;extraClasses&quot;: &quot;fa-rotate-0&quot;,\n",
       "}\n",
       "            );\n",
       "            marker_16839833916c3924a1813c515b98cf7d.setIcon(icon_87fbb3a1bf5a9d4442ab6a6f0d1e9505);\n",
       "        \n",
       "    \n",
       "        var popup_f26fd16b81f0a5d53c5d4a36bd55c326 = L.popup({\n",
       "  &quot;maxWidth&quot;: &quot;100%&quot;,\n",
       "});\n",
       "\n",
       "        \n",
       "            \n",
       "                var html_a6a05399837cd18e53f03a9c4afa59a6 = $(`&lt;div id=&quot;html_a6a05399837cd18e53f03a9c4afa59a6&quot; style=&quot;width: 100.0%; height: 100.0%;&quot;&gt;(&quot;&lt;b style=&#x27;font-size: 18px; &#x27;&gt;Dona Almira&lt;/b&gt;&lt;br&gt;Direccion: Calle Finlay No.979 % Avenida de Los Pinos y Fernandez de Castro&quot;, &quot;Especialidades: [&#x27;cubana&#x27;]&quot;)&lt;/div&gt;`)[0];\n",
       "                popup_f26fd16b81f0a5d53c5d4a36bd55c326.setContent(html_a6a05399837cd18e53f03a9c4afa59a6);\n",
       "            \n",
       "        \n",
       "\n",
       "        marker_16839833916c3924a1813c515b98cf7d.bindPopup(popup_f26fd16b81f0a5d53c5d4a36bd55c326)\n",
       "        ;\n",
       "\n",
       "        \n",
       "    \n",
       "    \n",
       "            var marker_68cf8ed384d451ba623835b68a6f59e1 = L.marker(\n",
       "                [23.13720238720189, -82.37935390623745],\n",
       "                {\n",
       "}\n",
       "            ).addTo(map_e4b9394eed1b90c36772b623ee0598e0);\n",
       "        \n",
       "    \n",
       "            var icon_d8e1ebf944b3aa0a791a16a1e2c26904 = L.AwesomeMarkers.icon(\n",
       "                {\n",
       "  &quot;markerColor&quot;: &quot;red&quot;,\n",
       "  &quot;iconColor&quot;: &quot;white&quot;,\n",
       "  &quot;icon&quot;: &quot;cutlery&quot;,\n",
       "  &quot;prefix&quot;: &quot;fa&quot;,\n",
       "  &quot;extraClasses&quot;: &quot;fa-rotate-0&quot;,\n",
       "}\n",
       "            );\n",
       "            marker_68cf8ed384d451ba623835b68a6f59e1.setIcon(icon_d8e1ebf944b3aa0a791a16a1e2c26904);\n",
       "        \n",
       "    \n",
       "        var popup_de6f7af6cff30152e12056c14020c0c6 = L.popup({\n",
       "  &quot;maxWidth&quot;: &quot;100%&quot;,\n",
       "});\n",
       "\n",
       "        \n",
       "            \n",
       "                var html_28959e99f629a9ee77920d660a958b25 = $(`&lt;div id=&quot;html_28959e99f629a9ee77920d660a958b25&quot; style=&quot;width: 100.0%; height: 100.0%;&quot;&gt;(&quot;&lt;b style=&#x27;font-size: 18px; &#x27;&gt;Doña Lis Pizza&lt;/b&gt;&lt;br&gt;Direccion: 1169 A Neptuno&quot;, &quot;Especialidades: [&#x27;Pizzas&#x27;]&quot;)&lt;/div&gt;`)[0];\n",
       "                popup_de6f7af6cff30152e12056c14020c0c6.setContent(html_28959e99f629a9ee77920d660a958b25);\n",
       "            \n",
       "        \n",
       "\n",
       "        marker_68cf8ed384d451ba623835b68a6f59e1.bindPopup(popup_de6f7af6cff30152e12056c14020c0c6)\n",
       "        ;\n",
       "\n",
       "        \n",
       "    \n",
       "    \n",
       "            var marker_e7b1a51b94935621b65480da1f995db8 = L.marker(\n",
       "                [23.1026716054629, -82.34026837449797],\n",
       "                {\n",
       "}\n",
       "            ).addTo(map_e4b9394eed1b90c36772b623ee0598e0);\n",
       "        \n",
       "    \n",
       "            var icon_782581510970dca02c06d5c631bc06b3 = L.AwesomeMarkers.icon(\n",
       "                {\n",
       "  &quot;markerColor&quot;: &quot;red&quot;,\n",
       "  &quot;iconColor&quot;: &quot;white&quot;,\n",
       "  &quot;icon&quot;: &quot;cutlery&quot;,\n",
       "  &quot;prefix&quot;: &quot;fa&quot;,\n",
       "  &quot;extraClasses&quot;: &quot;fa-rotate-0&quot;,\n",
       "}\n",
       "            );\n",
       "            marker_e7b1a51b94935621b65480da1f995db8.setIcon(icon_782581510970dca02c06d5c631bc06b3);\n",
       "        \n",
       "    \n",
       "        var popup_578b74f79ad93651578b8871fdd2a0d7 = L.popup({\n",
       "  &quot;maxWidth&quot;: &quot;100%&quot;,\n",
       "});\n",
       "\n",
       "        \n",
       "            \n",
       "                var html_470a397984eff3a5612f0eeb5e9102b1 = $(`&lt;div id=&quot;html_470a397984eff3a5612f0eeb5e9102b1&quot; style=&quot;width: 100.0%; height: 100.0%;&quot;&gt;(&quot;&lt;b style=&#x27;font-size: 18px; &#x27;&gt;Don Balbino s&lt;/b&gt;&lt;br&gt;Direccion: Calzada San Miguel del Padrón entre 8va y B&quot;, &quot;Especialidades: [&#x27;criolla&#x27;, &#x27;tapas&#x27;]&quot;)&lt;/div&gt;`)[0];\n",
       "                popup_578b74f79ad93651578b8871fdd2a0d7.setContent(html_470a397984eff3a5612f0eeb5e9102b1);\n",
       "            \n",
       "        \n",
       "\n",
       "        marker_e7b1a51b94935621b65480da1f995db8.bindPopup(popup_578b74f79ad93651578b8871fdd2a0d7)\n",
       "        ;\n",
       "\n",
       "        \n",
       "    \n",
       "    \n",
       "            var marker_6d3a5aabc9f81ffbcc977882f6d38810 = L.marker(\n",
       "                [23.133855871057047, -82.37691017469287],\n",
       "                {\n",
       "}\n",
       "            ).addTo(map_e4b9394eed1b90c36772b623ee0598e0);\n",
       "        \n",
       "    \n",
       "            var icon_31c27d18e342bc2d2d1b3b8fc7ae3fcc = L.AwesomeMarkers.icon(\n",
       "                {\n",
       "  &quot;markerColor&quot;: &quot;red&quot;,\n",
       "  &quot;iconColor&quot;: &quot;white&quot;,\n",
       "  &quot;icon&quot;: &quot;cutlery&quot;,\n",
       "  &quot;prefix&quot;: &quot;fa&quot;,\n",
       "  &quot;extraClasses&quot;: &quot;fa-rotate-0&quot;,\n",
       "}\n",
       "            );\n",
       "            marker_6d3a5aabc9f81ffbcc977882f6d38810.setIcon(icon_31c27d18e342bc2d2d1b3b8fc7ae3fcc);\n",
       "        \n",
       "    \n",
       "        var popup_d68b72c4b5f9cc3b38c9c07df65ab7fc = L.popup({\n",
       "  &quot;maxWidth&quot;: &quot;100%&quot;,\n",
       "});\n",
       "\n",
       "        \n",
       "            \n",
       "                var html_cd999c3e717d0cea554b7e2df97df3ac = $(`&lt;div id=&quot;html_cd999c3e717d0cea554b7e2df97df3ac&quot; style=&quot;width: 100.0%; height: 100.0%;&quot;&gt;(&quot;&lt;b style=&#x27;font-size: 18px; &#x27;&gt;nan&lt;/b&gt;&lt;br&gt;Direccion: Zanja entre San Francisco y Espada&quot;, &quot;Especialidades: [&#x27;italiana&#x27;]&quot;)&lt;/div&gt;`)[0];\n",
       "                popup_d68b72c4b5f9cc3b38c9c07df65ab7fc.setContent(html_cd999c3e717d0cea554b7e2df97df3ac);\n",
       "            \n",
       "        \n",
       "\n",
       "        marker_6d3a5aabc9f81ffbcc977882f6d38810.bindPopup(popup_d68b72c4b5f9cc3b38c9c07df65ab7fc)\n",
       "        ;\n",
       "\n",
       "        \n",
       "    \n",
       "    \n",
       "            var marker_cea1e621c0328cf334c86ff446b491ca = L.marker(\n",
       "                [23.086352376882374, -82.36493068982392],\n",
       "                {\n",
       "}\n",
       "            ).addTo(map_e4b9394eed1b90c36772b623ee0598e0);\n",
       "        \n",
       "    \n",
       "            var icon_a6c0d739763d6389a834298446d72ff2 = L.AwesomeMarkers.icon(\n",
       "                {\n",
       "  &quot;markerColor&quot;: &quot;red&quot;,\n",
       "  &quot;iconColor&quot;: &quot;white&quot;,\n",
       "  &quot;icon&quot;: &quot;cutlery&quot;,\n",
       "  &quot;prefix&quot;: &quot;fa&quot;,\n",
       "  &quot;extraClasses&quot;: &quot;fa-rotate-0&quot;,\n",
       "}\n",
       "            );\n",
       "            marker_cea1e621c0328cf334c86ff446b491ca.setIcon(icon_a6c0d739763d6389a834298446d72ff2);\n",
       "        \n",
       "    \n",
       "        var popup_58450499f5b3ef38951b70e77fe9b928 = L.popup({\n",
       "  &quot;maxWidth&quot;: &quot;100%&quot;,\n",
       "});\n",
       "\n",
       "        \n",
       "            \n",
       "                var html_d9a2ed9bcf3cf0eed83c9972ae57b3c7 = $(`&lt;div id=&quot;html_d9a2ed9bcf3cf0eed83c9972ae57b3c7&quot; style=&quot;width: 100.0%; height: 100.0%;&quot;&gt;(&quot;&lt;b style=&#x27;font-size: 18px; &#x27;&gt;D&#x27;Mitu&lt;/b&gt;&lt;br&gt;Direccion: Calle 1ra #64 Altos entre Gertrudis y Lagueruela, La Víbora&quot;, &#x27;Especialidades: nan&#x27;)&lt;/div&gt;`)[0];\n",
       "                popup_58450499f5b3ef38951b70e77fe9b928.setContent(html_d9a2ed9bcf3cf0eed83c9972ae57b3c7);\n",
       "            \n",
       "        \n",
       "\n",
       "        marker_cea1e621c0328cf334c86ff446b491ca.bindPopup(popup_58450499f5b3ef38951b70e77fe9b928)\n",
       "        ;\n",
       "\n",
       "        \n",
       "    \n",
       "    \n",
       "            var marker_94b3bb4357d0694563f6c1e3d97d85f4 = L.marker(\n",
       "                [23.043056190451246, -82.26299304585932],\n",
       "                {\n",
       "}\n",
       "            ).addTo(map_e4b9394eed1b90c36772b623ee0598e0);\n",
       "        \n",
       "    \n",
       "            var icon_6cf02fca9d9a397a13ad70c230acab4e = L.AwesomeMarkers.icon(\n",
       "                {\n",
       "  &quot;markerColor&quot;: &quot;red&quot;,\n",
       "  &quot;iconColor&quot;: &quot;white&quot;,\n",
       "  &quot;icon&quot;: &quot;cutlery&quot;,\n",
       "  &quot;prefix&quot;: &quot;fa&quot;,\n",
       "  &quot;extraClasses&quot;: &quot;fa-rotate-0&quot;,\n",
       "}\n",
       "            );\n",
       "            marker_94b3bb4357d0694563f6c1e3d97d85f4.setIcon(icon_6cf02fca9d9a397a13ad70c230acab4e);\n",
       "        \n",
       "    \n",
       "        var popup_9760206f908d470b56cfead835041d3c = L.popup({\n",
       "  &quot;maxWidth&quot;: &quot;100%&quot;,\n",
       "});\n",
       "\n",
       "        \n",
       "            \n",
       "                var html_c09852a0544fe0a2c3d403228da38c7d = $(`&lt;div id=&quot;html_c09852a0544fe0a2c3d403228da38c7d&quot; style=&quot;width: 100.0%; height: 100.0%;&quot;&gt;(&quot;&lt;b style=&#x27;font-size: 18px; &#x27;&gt;El Bache&lt;/b&gt;&lt;br&gt;Direccion: Calle 30 entre 95 y 97,Las Brisas&quot;, &quot;Especialidades: [&#x27;italiana&#x27;]&quot;)&lt;/div&gt;`)[0];\n",
       "                popup_9760206f908d470b56cfead835041d3c.setContent(html_c09852a0544fe0a2c3d403228da38c7d);\n",
       "            \n",
       "        \n",
       "\n",
       "        marker_94b3bb4357d0694563f6c1e3d97d85f4.bindPopup(popup_9760206f908d470b56cfead835041d3c)\n",
       "        ;\n",
       "\n",
       "        \n",
       "    \n",
       "    \n",
       "            var marker_b1e4230dd3662f711a03188a49924eb7 = L.marker(\n",
       "                [23.13606132355121, -82.390171562352],\n",
       "                {\n",
       "}\n",
       "            ).addTo(map_e4b9394eed1b90c36772b623ee0598e0);\n",
       "        \n",
       "    \n",
       "            var icon_f22386e164e8df59948fdb205f4b615f = L.AwesomeMarkers.icon(\n",
       "                {\n",
       "  &quot;markerColor&quot;: &quot;red&quot;,\n",
       "  &quot;iconColor&quot;: &quot;white&quot;,\n",
       "  &quot;icon&quot;: &quot;cutlery&quot;,\n",
       "  &quot;prefix&quot;: &quot;fa&quot;,\n",
       "  &quot;extraClasses&quot;: &quot;fa-rotate-0&quot;,\n",
       "}\n",
       "            );\n",
       "            marker_b1e4230dd3662f711a03188a49924eb7.setIcon(icon_f22386e164e8df59948fdb205f4b615f);\n",
       "        \n",
       "    \n",
       "        var popup_6a6f78b5e9aa39c695b144fc533bc22e = L.popup({\n",
       "  &quot;maxWidth&quot;: &quot;100%&quot;,\n",
       "});\n",
       "\n",
       "        \n",
       "            \n",
       "                var html_5672ab85292eacc7fdf84a682be47973 = $(`&lt;div id=&quot;html_5672ab85292eacc7fdf84a682be47973&quot; style=&quot;width: 100.0%; height: 100.0%;&quot;&gt;(&quot;&lt;b style=&#x27;font-size: 18px; &#x27;&gt;El Balcón de Bruno y Pilar&lt;/b&gt;&lt;br&gt;Direccion: Calle 21 entre E y F, Vedado&quot;, &quot;Especialidades: [&#x27;comida cubana&#x27;, &#x27;latina&#x27;, &#x27;caribeña&#x27;]&quot;)&lt;/div&gt;`)[0];\n",
       "                popup_6a6f78b5e9aa39c695b144fc533bc22e.setContent(html_5672ab85292eacc7fdf84a682be47973);\n",
       "            \n",
       "        \n",
       "\n",
       "        marker_b1e4230dd3662f711a03188a49924eb7.bindPopup(popup_6a6f78b5e9aa39c695b144fc533bc22e)\n",
       "        ;\n",
       "\n",
       "        \n",
       "    \n",
       "    \n",
       "            var marker_5ce4d114d1b6622853ba5820e9c0cc23 = L.marker(\n",
       "                [23.13092126125738, -82.4081035552695],\n",
       "                {\n",
       "}\n",
       "            ).addTo(map_e4b9394eed1b90c36772b623ee0598e0);\n",
       "        \n",
       "    \n",
       "            var icon_7520b239e992b64befbb778f890504e3 = L.AwesomeMarkers.icon(\n",
       "                {\n",
       "  &quot;markerColor&quot;: &quot;red&quot;,\n",
       "  &quot;iconColor&quot;: &quot;white&quot;,\n",
       "  &quot;icon&quot;: &quot;cutlery&quot;,\n",
       "  &quot;prefix&quot;: &quot;fa&quot;,\n",
       "  &quot;extraClasses&quot;: &quot;fa-rotate-0&quot;,\n",
       "}\n",
       "            );\n",
       "            marker_5ce4d114d1b6622853ba5820e9c0cc23.setIcon(icon_7520b239e992b64befbb778f890504e3);\n",
       "        \n",
       "    \n",
       "        var popup_12dd38bd7ce49fbc3741c6ed5e5c7549 = L.popup({\n",
       "  &quot;maxWidth&quot;: &quot;100%&quot;,\n",
       "});\n",
       "\n",
       "        \n",
       "            \n",
       "                var html_6bb5d4da2afcbfd1ae88e7717b87fac6 = $(`&lt;div id=&quot;html_6bb5d4da2afcbfd1ae88e7717b87fac6&quot; style=&quot;width: 100.0%; height: 100.0%;&quot;&gt;(&quot;&lt;b style=&#x27;font-size: 18px; &#x27;&gt;El bejuco&lt;/b&gt;&lt;br&gt;Direccion: Calle Línea 1206 e/ 18 y 20, Vedado&quot;, &quot;Especialidades: [&#x27;Entrantes&#x27;]&quot;)&lt;/div&gt;`)[0];\n",
       "                popup_12dd38bd7ce49fbc3741c6ed5e5c7549.setContent(html_6bb5d4da2afcbfd1ae88e7717b87fac6);\n",
       "            \n",
       "        \n",
       "\n",
       "        marker_5ce4d114d1b6622853ba5820e9c0cc23.bindPopup(popup_12dd38bd7ce49fbc3741c6ed5e5c7549)\n",
       "        ;\n",
       "\n",
       "        \n",
       "    \n",
       "    \n",
       "            var marker_f6fc36842762e830887b376aca1f7710 = L.marker(\n",
       "                [23.138186063729933, -82.37857239003395],\n",
       "                {\n",
       "}\n",
       "            ).addTo(map_e4b9394eed1b90c36772b623ee0598e0);\n",
       "        \n",
       "    \n",
       "            var icon_6f3ed7eb338ae20b7311396c44c7f7b8 = L.AwesomeMarkers.icon(\n",
       "                {\n",
       "  &quot;markerColor&quot;: &quot;red&quot;,\n",
       "  &quot;iconColor&quot;: &quot;white&quot;,\n",
       "  &quot;icon&quot;: &quot;cutlery&quot;,\n",
       "  &quot;prefix&quot;: &quot;fa&quot;,\n",
       "  &quot;extraClasses&quot;: &quot;fa-rotate-0&quot;,\n",
       "}\n",
       "            );\n",
       "            marker_f6fc36842762e830887b376aca1f7710.setIcon(icon_6f3ed7eb338ae20b7311396c44c7f7b8);\n",
       "        \n",
       "    \n",
       "        var popup_05cd59ef626e799c56a503394cb8e988 = L.popup({\n",
       "  &quot;maxWidth&quot;: &quot;100%&quot;,\n",
       "});\n",
       "\n",
       "        \n",
       "            \n",
       "                var html_ee80c7c8ac4af07673df5b33762000c1 = $(`&lt;div id=&quot;html_ee80c7c8ac4af07673df5b33762000c1&quot; style=&quot;width: 100.0%; height: 100.0%;&quot;&gt;(&quot;&lt;b style=&#x27;font-size: 18px; &#x27;&gt;El Biki&lt;/b&gt;&lt;br&gt;Direccion: Infanta entre San Lazaro y Concordia&quot;, &quot;Especialidades: [&#x27;Cubana&#x27;, &#x27;Mixta&#x27;]&quot;)&lt;/div&gt;`)[0];\n",
       "                popup_05cd59ef626e799c56a503394cb8e988.setContent(html_ee80c7c8ac4af07673df5b33762000c1);\n",
       "            \n",
       "        \n",
       "\n",
       "        marker_f6fc36842762e830887b376aca1f7710.bindPopup(popup_05cd59ef626e799c56a503394cb8e988)\n",
       "        ;\n",
       "\n",
       "        \n",
       "    \n",
       "    \n",
       "            var marker_4ac23d4a2d35119ef1c94aa680f5c7d4 = L.marker(\n",
       "                [23.12735682638094, -82.40996375436582],\n",
       "                {\n",
       "}\n",
       "            ).addTo(map_e4b9394eed1b90c36772b623ee0598e0);\n",
       "        \n",
       "    \n",
       "            var icon_9cc74d8cb08ec4fae9389920bf5b05c9 = L.AwesomeMarkers.icon(\n",
       "                {\n",
       "  &quot;markerColor&quot;: &quot;red&quot;,\n",
       "  &quot;iconColor&quot;: &quot;white&quot;,\n",
       "  &quot;icon&quot;: &quot;cutlery&quot;,\n",
       "  &quot;prefix&quot;: &quot;fa&quot;,\n",
       "  &quot;extraClasses&quot;: &quot;fa-rotate-0&quot;,\n",
       "}\n",
       "            );\n",
       "            marker_4ac23d4a2d35119ef1c94aa680f5c7d4.setIcon(icon_9cc74d8cb08ec4fae9389920bf5b05c9);\n",
       "        \n",
       "    \n",
       "        var popup_15c708ac8b158c140169bf4555218bca = L.popup({\n",
       "  &quot;maxWidth&quot;: &quot;100%&quot;,\n",
       "});\n",
       "\n",
       "        \n",
       "            \n",
       "                var html_5418c82af8350c081e63af5858400400 = $(`&lt;div id=&quot;html_5418c82af8350c081e63af5858400400&quot; style=&quot;width: 100.0%; height: 100.0%;&quot;&gt;(&quot;&lt;b style=&#x27;font-size: 18px; &#x27;&gt;El cocinero&lt;/b&gt;&lt;br&gt;Direccion: Calle 26 #57 entre 11 y 13, Vedado&quot;, &quot;Especialidades: [&#x27;comida caribeña&#x27;, &#x27;latina&#x27;, &#x27;cubana&#x27;]&quot;)&lt;/div&gt;`)[0];\n",
       "                popup_15c708ac8b158c140169bf4555218bca.setContent(html_5418c82af8350c081e63af5858400400);\n",
       "            \n",
       "        \n",
       "\n",
       "        marker_4ac23d4a2d35119ef1c94aa680f5c7d4.bindPopup(popup_15c708ac8b158c140169bf4555218bca)\n",
       "        ;\n",
       "\n",
       "        \n",
       "    \n",
       "    \n",
       "            var marker_09dc0e1ac3cf2c4e02be23671986ab13 = L.marker(\n",
       "                [23.044405916184044, -82.24840719111886],\n",
       "                {\n",
       "}\n",
       "            ).addTo(map_e4b9394eed1b90c36772b623ee0598e0);\n",
       "        \n",
       "    \n",
       "            var icon_03ffcf582da1a9006e59a12e1db7bbd9 = L.AwesomeMarkers.icon(\n",
       "                {\n",
       "  &quot;markerColor&quot;: &quot;red&quot;,\n",
       "  &quot;iconColor&quot;: &quot;white&quot;,\n",
       "  &quot;icon&quot;: &quot;cutlery&quot;,\n",
       "  &quot;prefix&quot;: &quot;fa&quot;,\n",
       "  &quot;extraClasses&quot;: &quot;fa-rotate-0&quot;,\n",
       "}\n",
       "            );\n",
       "            marker_09dc0e1ac3cf2c4e02be23671986ab13.setIcon(icon_03ffcf582da1a9006e59a12e1db7bbd9);\n",
       "        \n",
       "    \n",
       "        var popup_a0c172cc477735be0a005e9ee0f7ea99 = L.popup({\n",
       "  &quot;maxWidth&quot;: &quot;100%&quot;,\n",
       "});\n",
       "\n",
       "        \n",
       "            \n",
       "                var html_14e29688587c97defe655dc51993224d = $(`&lt;div id=&quot;html_14e29688587c97defe655dc51993224d&quot; style=&quot;width: 100.0%; height: 100.0%;&quot;&gt;(&quot;&lt;b style=&#x27;font-size: 18px; &#x27;&gt;El Desafio&lt;/b&gt;&lt;br&gt;Direccion: calle 58 número 6712 % 67 y 69&quot;, &quot;Especialidades: [&#x27;cubana&#x27;]&quot;)&lt;/div&gt;`)[0];\n",
       "                popup_a0c172cc477735be0a005e9ee0f7ea99.setContent(html_14e29688587c97defe655dc51993224d);\n",
       "            \n",
       "        \n",
       "\n",
       "        marker_09dc0e1ac3cf2c4e02be23671986ab13.bindPopup(popup_a0c172cc477735be0a005e9ee0f7ea99)\n",
       "        ;\n",
       "\n",
       "        \n",
       "    \n",
       "    \n",
       "            var marker_a4a2fb06359485ebf7d12b5f6223b8b0 = L.marker(\n",
       "                [23.124197583024838, -82.40414784293249],\n",
       "                {\n",
       "}\n",
       "            ).addTo(map_e4b9394eed1b90c36772b623ee0598e0);\n",
       "        \n",
       "    \n",
       "            var icon_12313d5c15d85d7dae0a759aedee4f0f = L.AwesomeMarkers.icon(\n",
       "                {\n",
       "  &quot;markerColor&quot;: &quot;red&quot;,\n",
       "  &quot;iconColor&quot;: &quot;white&quot;,\n",
       "  &quot;icon&quot;: &quot;cutlery&quot;,\n",
       "  &quot;prefix&quot;: &quot;fa&quot;,\n",
       "  &quot;extraClasses&quot;: &quot;fa-rotate-0&quot;,\n",
       "}\n",
       "            );\n",
       "            marker_a4a2fb06359485ebf7d12b5f6223b8b0.setIcon(icon_12313d5c15d85d7dae0a759aedee4f0f);\n",
       "        \n",
       "    \n",
       "        var popup_032ceb766349ba06a19c8e5287f878ba = L.popup({\n",
       "  &quot;maxWidth&quot;: &quot;100%&quot;,\n",
       "});\n",
       "\n",
       "        \n",
       "            \n",
       "                var html_b36fbf99b744e0acbafefe592e1854b4 = $(`&lt;div id=&quot;html_b36fbf99b744e0acbafefe592e1854b4&quot; style=&quot;width: 100.0%; height: 100.0%;&quot;&gt;(&quot;&lt;b style=&#x27;font-size: 18px; &#x27;&gt;El Farallon&lt;/b&gt;&lt;br&gt;Direccion: Calle 22 #361, esq. 23, Vedado&quot;, &quot;Especialidades: [&#x27;comida cubana&#x27;, &#x27;caribeña&#x27;, &#x27;latina&#x27;, &#x27;italiana&#x27;]&quot;)&lt;/div&gt;`)[0];\n",
       "                popup_032ceb766349ba06a19c8e5287f878ba.setContent(html_b36fbf99b744e0acbafefe592e1854b4);\n",
       "            \n",
       "        \n",
       "\n",
       "        marker_a4a2fb06359485ebf7d12b5f6223b8b0.bindPopup(popup_032ceb766349ba06a19c8e5287f878ba)\n",
       "        ;\n",
       "\n",
       "        \n",
       "    \n",
       "    \n",
       "            var marker_78baa0eb4a637c5b1bb8a4409e900553 = L.marker(\n",
       "                [23.13993930039699, -82.39045883912888],\n",
       "                {\n",
       "}\n",
       "            ).addTo(map_e4b9394eed1b90c36772b623ee0598e0);\n",
       "        \n",
       "    \n",
       "            var icon_6bd5d0b95b1ceb0884a9f23bb27b1cea = L.AwesomeMarkers.icon(\n",
       "                {\n",
       "  &quot;markerColor&quot;: &quot;red&quot;,\n",
       "  &quot;iconColor&quot;: &quot;white&quot;,\n",
       "  &quot;icon&quot;: &quot;cutlery&quot;,\n",
       "  &quot;prefix&quot;: &quot;fa&quot;,\n",
       "  &quot;extraClasses&quot;: &quot;fa-rotate-0&quot;,\n",
       "}\n",
       "            );\n",
       "            marker_78baa0eb4a637c5b1bb8a4409e900553.setIcon(icon_6bd5d0b95b1ceb0884a9f23bb27b1cea);\n",
       "        \n",
       "    \n",
       "        var popup_8ed838a280d9611d944d190cfd6b4321 = L.popup({\n",
       "  &quot;maxWidth&quot;: &quot;100%&quot;,\n",
       "});\n",
       "\n",
       "        \n",
       "            \n",
       "                var html_52f2bd2424ec1bee670898a8195fbde0 = $(`&lt;div id=&quot;html_52f2bd2424ec1bee670898a8195fbde0&quot; style=&quot;width: 100.0%; height: 100.0%;&quot;&gt;(&quot;&lt;b style=&#x27;font-size: 18px; &#x27;&gt;El Idilio&lt;/b&gt;&lt;br&gt;Direccion: Calle G esquina 15, Vedado&quot;, &quot;Especialidades: [&#x27;comida cubana&#x27;, &#x27;mariscos&#x27;]&quot;)&lt;/div&gt;`)[0];\n",
       "                popup_8ed838a280d9611d944d190cfd6b4321.setContent(html_52f2bd2424ec1bee670898a8195fbde0);\n",
       "            \n",
       "        \n",
       "\n",
       "        marker_78baa0eb4a637c5b1bb8a4409e900553.bindPopup(popup_8ed838a280d9611d944d190cfd6b4321)\n",
       "        ;\n",
       "\n",
       "        \n",
       "    \n",
       "    \n",
       "            var marker_438bdf5e2069c225fd88229e09d603af = L.marker(\n",
       "                [23.13577030941659, -82.35714206462553],\n",
       "                {\n",
       "}\n",
       "            ).addTo(map_e4b9394eed1b90c36772b623ee0598e0);\n",
       "        \n",
       "    \n",
       "            var icon_79d19d70a7862867d0f14725b51fb4f9 = L.AwesomeMarkers.icon(\n",
       "                {\n",
       "  &quot;markerColor&quot;: &quot;red&quot;,\n",
       "  &quot;iconColor&quot;: &quot;white&quot;,\n",
       "  &quot;icon&quot;: &quot;cutlery&quot;,\n",
       "  &quot;prefix&quot;: &quot;fa&quot;,\n",
       "  &quot;extraClasses&quot;: &quot;fa-rotate-0&quot;,\n",
       "}\n",
       "            );\n",
       "            marker_438bdf5e2069c225fd88229e09d603af.setIcon(icon_79d19d70a7862867d0f14725b51fb4f9);\n",
       "        \n",
       "    \n",
       "        var popup_8ea675a113f4443fb50247d80acf9ba6 = L.popup({\n",
       "  &quot;maxWidth&quot;: &quot;100%&quot;,\n",
       "});\n",
       "\n",
       "        \n",
       "            \n",
       "                var html_5a707dfc73e8b096c48f7257b7ccba16 = $(`&lt;div id=&quot;html_5a707dfc73e8b096c48f7257b7ccba16&quot; style=&quot;width: 100.0%; height: 100.0%;&quot;&gt;(&quot;&lt;b style=&#x27;font-size: 18px; &#x27;&gt;El_Kilometro_Zero&lt;/b&gt;&lt;br&gt;Direccion: Monserrate #437 Esq Teniente Rey&quot;, &quot;Especialidades: [&#x27;criolla&#x27;]&quot;)&lt;/div&gt;`)[0];\n",
       "                popup_8ea675a113f4443fb50247d80acf9ba6.setContent(html_5a707dfc73e8b096c48f7257b7ccba16);\n",
       "            \n",
       "        \n",
       "\n",
       "        marker_438bdf5e2069c225fd88229e09d603af.bindPopup(popup_8ea675a113f4443fb50247d80acf9ba6)\n",
       "        ;\n",
       "\n",
       "        \n",
       "    \n",
       "    \n",
       "            var marker_90ebbacc5cd52f650aa7f2c8506e03c6 = L.marker(\n",
       "                [23.08621062775345, -82.46251984696866],\n",
       "                {\n",
       "}\n",
       "            ).addTo(map_e4b9394eed1b90c36772b623ee0598e0);\n",
       "        \n",
       "    \n",
       "            var icon_244b3ed2b0c7dd9730a5c07cd830e170 = L.AwesomeMarkers.icon(\n",
       "                {\n",
       "  &quot;markerColor&quot;: &quot;red&quot;,\n",
       "  &quot;iconColor&quot;: &quot;white&quot;,\n",
       "  &quot;icon&quot;: &quot;cutlery&quot;,\n",
       "  &quot;prefix&quot;: &quot;fa&quot;,\n",
       "  &quot;extraClasses&quot;: &quot;fa-rotate-0&quot;,\n",
       "}\n",
       "            );\n",
       "            marker_90ebbacc5cd52f650aa7f2c8506e03c6.setIcon(icon_244b3ed2b0c7dd9730a5c07cd830e170);\n",
       "        \n",
       "    \n",
       "        var popup_d842c6e2596bb2aaaf3a238d25abb62b = L.popup({\n",
       "  &quot;maxWidth&quot;: &quot;100%&quot;,\n",
       "});\n",
       "\n",
       "        \n",
       "            \n",
       "                var html_1be2888bfe818aeee7c8ee4f8e20bf6d = $(`&lt;div id=&quot;html_1be2888bfe818aeee7c8ee4f8e20bf6d&quot; style=&quot;width: 100.0%; height: 100.0%;&quot;&gt;(&quot;&lt;b style=&#x27;font-size: 18px; &#x27;&gt;El Palenque&lt;/b&gt;&lt;br&gt;Direccion: Calle 17 esquina a190&quot;, &quot;Especialidades: [&#x27;caribena&#x27;, &#x27;latina&#x27;, &#x27;internacional&#x27;, &#x27;cubana&#x27;]&quot;)&lt;/div&gt;`)[0];\n",
       "                popup_d842c6e2596bb2aaaf3a238d25abb62b.setContent(html_1be2888bfe818aeee7c8ee4f8e20bf6d);\n",
       "            \n",
       "        \n",
       "\n",
       "        marker_90ebbacc5cd52f650aa7f2c8506e03c6.bindPopup(popup_d842c6e2596bb2aaaf3a238d25abb62b)\n",
       "        ;\n",
       "\n",
       "        \n",
       "    \n",
       "    \n",
       "            var marker_2a2f5b0ad0d7bc6da4cb681076e9ec95 = L.marker(\n",
       "                [23.101843184677417, -82.34140821329014],\n",
       "                {\n",
       "}\n",
       "            ).addTo(map_e4b9394eed1b90c36772b623ee0598e0);\n",
       "        \n",
       "    \n",
       "            var icon_5e751bd386b8361026b730a91cafae93 = L.AwesomeMarkers.icon(\n",
       "                {\n",
       "  &quot;markerColor&quot;: &quot;red&quot;,\n",
       "  &quot;iconColor&quot;: &quot;white&quot;,\n",
       "  &quot;icon&quot;: &quot;cutlery&quot;,\n",
       "  &quot;prefix&quot;: &quot;fa&quot;,\n",
       "  &quot;extraClasses&quot;: &quot;fa-rotate-0&quot;,\n",
       "}\n",
       "            );\n",
       "            marker_2a2f5b0ad0d7bc6da4cb681076e9ec95.setIcon(icon_5e751bd386b8361026b730a91cafae93);\n",
       "        \n",
       "    \n",
       "        var popup_7651e27716625fef73cca702f8a95174 = L.popup({\n",
       "  &quot;maxWidth&quot;: &quot;100%&quot;,\n",
       "});\n",
       "\n",
       "        \n",
       "            \n",
       "                var html_d94f344d5b3cabec0ae08b9cad1c6bef = $(`&lt;div id=&quot;html_d94f344d5b3cabec0ae08b9cad1c6bef&quot; style=&quot;width: 100.0%; height: 100.0%;&quot;&gt;(&quot;&lt;b style=&#x27;font-size: 18px; &#x27;&gt;El Pecado&lt;/b&gt;&lt;br&gt;Direccion: Matos frente al parque de los Chivos&quot;, &quot;Especialidades: [&#x27;mixta&#x27;, &#x27;cuabana&#x27;]&quot;)&lt;/div&gt;`)[0];\n",
       "                popup_7651e27716625fef73cca702f8a95174.setContent(html_d94f344d5b3cabec0ae08b9cad1c6bef);\n",
       "            \n",
       "        \n",
       "\n",
       "        marker_2a2f5b0ad0d7bc6da4cb681076e9ec95.bindPopup(popup_7651e27716625fef73cca702f8a95174)\n",
       "        ;\n",
       "\n",
       "        \n",
       "    \n",
       "    \n",
       "            var marker_aebfa465bff46c9a074590a0172b66fa = L.marker(\n",
       "                [23.16199568264451, -82.29712225037608],\n",
       "                {\n",
       "}\n",
       "            ).addTo(map_e4b9394eed1b90c36772b623ee0598e0);\n",
       "        \n",
       "    \n",
       "            var icon_8b57af4bf7b484f94ead8d87f37926ea = L.AwesomeMarkers.icon(\n",
       "                {\n",
       "  &quot;markerColor&quot;: &quot;red&quot;,\n",
       "  &quot;iconColor&quot;: &quot;white&quot;,\n",
       "  &quot;icon&quot;: &quot;cutlery&quot;,\n",
       "  &quot;prefix&quot;: &quot;fa&quot;,\n",
       "  &quot;extraClasses&quot;: &quot;fa-rotate-0&quot;,\n",
       "}\n",
       "            );\n",
       "            marker_aebfa465bff46c9a074590a0172b66fa.setIcon(icon_8b57af4bf7b484f94ead8d87f37926ea);\n",
       "        \n",
       "    \n",
       "        var popup_4ee82715f14a91916c1408d8721050ca = L.popup({\n",
       "  &quot;maxWidth&quot;: &quot;100%&quot;,\n",
       "});\n",
       "\n",
       "        \n",
       "            \n",
       "                var html_2b7a6556bb59aec8d403cb19444f9c7e = $(`&lt;div id=&quot;html_2b7a6556bb59aec8d403cb19444f9c7e&quot; style=&quot;width: 100.0%; height: 100.0%;&quot;&gt;(&quot;&lt;b style=&#x27;font-size: 18px; &#x27;&gt;El Ajiaco&lt;/b&gt;&lt;br&gt;Direccion: Esquina de calle Los Pinos y Cuba, Cojimar&quot;, &quot;Especialidades: [&#x27;Criolla&#x27;]&quot;)&lt;/div&gt;`)[0];\n",
       "                popup_4ee82715f14a91916c1408d8721050ca.setContent(html_2b7a6556bb59aec8d403cb19444f9c7e);\n",
       "            \n",
       "        \n",
       "\n",
       "        marker_aebfa465bff46c9a074590a0172b66fa.bindPopup(popup_4ee82715f14a91916c1408d8721050ca)\n",
       "        ;\n",
       "\n",
       "        \n",
       "    \n",
       "    \n",
       "            var marker_173ac832dcfcc2c5b19e46ff5c452edf = L.marker(\n",
       "                [23.105902940435307, -82.38894680785327],\n",
       "                {\n",
       "}\n",
       "            ).addTo(map_e4b9394eed1b90c36772b623ee0598e0);\n",
       "        \n",
       "    \n",
       "            var icon_9bd1f50f160bb3e4567690a83608379c = L.AwesomeMarkers.icon(\n",
       "                {\n",
       "  &quot;markerColor&quot;: &quot;red&quot;,\n",
       "  &quot;iconColor&quot;: &quot;white&quot;,\n",
       "  &quot;icon&quot;: &quot;cutlery&quot;,\n",
       "  &quot;prefix&quot;: &quot;fa&quot;,\n",
       "  &quot;extraClasses&quot;: &quot;fa-rotate-0&quot;,\n",
       "}\n",
       "            );\n",
       "            marker_173ac832dcfcc2c5b19e46ff5c452edf.setIcon(icon_9bd1f50f160bb3e4567690a83608379c);\n",
       "        \n",
       "    \n",
       "        var popup_973a9b213fe9ce098475c53fbb14e379 = L.popup({\n",
       "  &quot;maxWidth&quot;: &quot;100%&quot;,\n",
       "});\n",
       "\n",
       "        \n",
       "            \n",
       "                var html_9e301d18bb8f6faa0fe14f63ce3f2fce = $(`&lt;div id=&quot;html_9e301d18bb8f6faa0fe14f63ce3f2fce&quot; style=&quot;width: 100.0%; height: 100.0%;&quot;&gt;(&quot;&lt;b style=&#x27;font-size: 18px; &#x27;&gt;El Batazo&lt;/b&gt;&lt;br&gt;Direccion: Primelles entre Santa Teresa y Daolz&quot;, &quot;Especialidades: [&#x27;italiana&#x27;]&quot;)&lt;/div&gt;`)[0];\n",
       "                popup_973a9b213fe9ce098475c53fbb14e379.setContent(html_9e301d18bb8f6faa0fe14f63ce3f2fce);\n",
       "            \n",
       "        \n",
       "\n",
       "        marker_173ac832dcfcc2c5b19e46ff5c452edf.bindPopup(popup_973a9b213fe9ce098475c53fbb14e379)\n",
       "        ;\n",
       "\n",
       "        \n",
       "    \n",
       "    \n",
       "            var marker_47ac4ec0e99c2d44638d275acb0b927a = L.marker(\n",
       "                [23.14135090318694, -82.37416801831066],\n",
       "                {\n",
       "}\n",
       "            ).addTo(map_e4b9394eed1b90c36772b623ee0598e0);\n",
       "        \n",
       "    \n",
       "            var icon_c10066efddc78faacb05a9d5d7ea1a55 = L.AwesomeMarkers.icon(\n",
       "                {\n",
       "  &quot;markerColor&quot;: &quot;red&quot;,\n",
       "  &quot;iconColor&quot;: &quot;white&quot;,\n",
       "  &quot;icon&quot;: &quot;cutlery&quot;,\n",
       "  &quot;prefix&quot;: &quot;fa&quot;,\n",
       "  &quot;extraClasses&quot;: &quot;fa-rotate-0&quot;,\n",
       "}\n",
       "            );\n",
       "            marker_47ac4ec0e99c2d44638d275acb0b927a.setIcon(icon_c10066efddc78faacb05a9d5d7ea1a55);\n",
       "        \n",
       "    \n",
       "        var popup_f763cd9875884c5d6ab56d9b4bf9d3a5 = L.popup({\n",
       "  &quot;maxWidth&quot;: &quot;100%&quot;,\n",
       "});\n",
       "\n",
       "        \n",
       "            \n",
       "                var html_85e12476660520365c01fa6e855aec40 = $(`&lt;div id=&quot;html_85e12476660520365c01fa6e855aec40&quot; style=&quot;width: 100.0%; height: 100.0%;&quot;&gt;(&quot;&lt;b style=&#x27;font-size: 18px; &#x27;&gt;El Bleko&lt;/b&gt;&lt;br&gt;Direccion: Vapor y Hornos, 63 e Marina, La Habana&quot;, &quot;Especialidades: [&#x27;caribeña&#x27;, &#x27;italiana&#x27;, &#x27;criolla&#x27;]&quot;)&lt;/div&gt;`)[0];\n",
       "                popup_f763cd9875884c5d6ab56d9b4bf9d3a5.setContent(html_85e12476660520365c01fa6e855aec40);\n",
       "            \n",
       "        \n",
       "\n",
       "        marker_47ac4ec0e99c2d44638d275acb0b927a.bindPopup(popup_f763cd9875884c5d6ab56d9b4bf9d3a5)\n",
       "        ;\n",
       "\n",
       "        \n",
       "    \n",
       "    \n",
       "            var marker_392be8c8fad6877a7d3ab0e5b596d18b = L.marker(\n",
       "                [23.136615265811344, -82.3550049035281],\n",
       "                {\n",
       "}\n",
       "            ).addTo(map_e4b9394eed1b90c36772b623ee0598e0);\n",
       "        \n",
       "    \n",
       "            var icon_6f92f66b7999b8e14df277d6f70fd312 = L.AwesomeMarkers.icon(\n",
       "                {\n",
       "  &quot;markerColor&quot;: &quot;red&quot;,\n",
       "  &quot;iconColor&quot;: &quot;white&quot;,\n",
       "  &quot;icon&quot;: &quot;cutlery&quot;,\n",
       "  &quot;prefix&quot;: &quot;fa&quot;,\n",
       "  &quot;extraClasses&quot;: &quot;fa-rotate-0&quot;,\n",
       "}\n",
       "            );\n",
       "            marker_392be8c8fad6877a7d3ab0e5b596d18b.setIcon(icon_6f92f66b7999b8e14df277d6f70fd312);\n",
       "        \n",
       "    \n",
       "        var popup_6e63fcae9365511011128d7cc5dba42f = L.popup({\n",
       "  &quot;maxWidth&quot;: &quot;100%&quot;,\n",
       "});\n",
       "\n",
       "        \n",
       "            \n",
       "                var html_5d3576bb038d9bdbb2150e75cac05a37 = $(`&lt;div id=&quot;html_5d3576bb038d9bdbb2150e75cac05a37&quot; style=&quot;width: 100.0%; height: 100.0%;&quot;&gt;(&quot;&lt;b style=&#x27;font-size: 18px; &#x27;&gt;El Cafe&lt;/b&gt;&lt;br&gt;Direccion: #358, Calle La Amargura&quot;, &quot;Especialidades: [&#x27;Comida mixta&#x27;]&quot;)&lt;/div&gt;`)[0];\n",
       "                popup_6e63fcae9365511011128d7cc5dba42f.setContent(html_5d3576bb038d9bdbb2150e75cac05a37);\n",
       "            \n",
       "        \n",
       "\n",
       "        marker_392be8c8fad6877a7d3ab0e5b596d18b.bindPopup(popup_6e63fcae9365511011128d7cc5dba42f)\n",
       "        ;\n",
       "\n",
       "        \n",
       "    \n",
       "    \n",
       "            var marker_5775dfb0c17e3a8040853b7094f55dab = L.marker(\n",
       "                [23.15787610279017, -82.27621448261955],\n",
       "                {\n",
       "}\n",
       "            ).addTo(map_e4b9394eed1b90c36772b623ee0598e0);\n",
       "        \n",
       "    \n",
       "            var icon_e7e4c6bda4b5aadb5d45771425e7e92e = L.AwesomeMarkers.icon(\n",
       "                {\n",
       "  &quot;markerColor&quot;: &quot;red&quot;,\n",
       "  &quot;iconColor&quot;: &quot;white&quot;,\n",
       "  &quot;icon&quot;: &quot;cutlery&quot;,\n",
       "  &quot;prefix&quot;: &quot;fa&quot;,\n",
       "  &quot;extraClasses&quot;: &quot;fa-rotate-0&quot;,\n",
       "}\n",
       "            );\n",
       "            marker_5775dfb0c17e3a8040853b7094f55dab.setIcon(icon_e7e4c6bda4b5aadb5d45771425e7e92e);\n",
       "        \n",
       "    \n",
       "        var popup_28d7aa7450cbf1ecac926cadb55fc569 = L.popup({\n",
       "  &quot;maxWidth&quot;: &quot;100%&quot;,\n",
       "});\n",
       "\n",
       "        \n",
       "            \n",
       "                var html_22b898d82bce3c50bace7397a62bacc9 = $(`&lt;div id=&quot;html_22b898d82bce3c50bace7397a62bacc9&quot; style=&quot;width: 100.0%; height: 100.0%;&quot;&gt;(&quot;&lt;b style=&#x27;font-size: 18px; &#x27;&gt;El Chanchullero&lt;/b&gt;&lt;br&gt;Direccion: #162D entre Calle 5G y Calle 162, zona 6, Alamar&quot;, &quot;Especialidades: [&#x27;Comida criolla&#x27;]&quot;)&lt;/div&gt;`)[0];\n",
       "                popup_28d7aa7450cbf1ecac926cadb55fc569.setContent(html_22b898d82bce3c50bace7397a62bacc9);\n",
       "            \n",
       "        \n",
       "\n",
       "        marker_5775dfb0c17e3a8040853b7094f55dab.bindPopup(popup_28d7aa7450cbf1ecac926cadb55fc569)\n",
       "        ;\n",
       "\n",
       "        \n",
       "    \n",
       "    \n",
       "            var marker_348244ba47445e492878388b8ec04c5a = L.marker(\n",
       "                [23.047476858961144, -82.25535277368648],\n",
       "                {\n",
       "}\n",
       "            ).addTo(map_e4b9394eed1b90c36772b623ee0598e0);\n",
       "        \n",
       "    \n",
       "            var icon_1bac77d58632e64797d8ff397f6abc2d = L.AwesomeMarkers.icon(\n",
       "                {\n",
       "  &quot;markerColor&quot;: &quot;red&quot;,\n",
       "  &quot;iconColor&quot;: &quot;white&quot;,\n",
       "  &quot;icon&quot;: &quot;cutlery&quot;,\n",
       "  &quot;prefix&quot;: &quot;fa&quot;,\n",
       "  &quot;extraClasses&quot;: &quot;fa-rotate-0&quot;,\n",
       "}\n",
       "            );\n",
       "            marker_348244ba47445e492878388b8ec04c5a.setIcon(icon_1bac77d58632e64797d8ff397f6abc2d);\n",
       "        \n",
       "    \n",
       "        var popup_ae4f7ee09e976d935f847e29803088e5 = L.popup({\n",
       "  &quot;maxWidth&quot;: &quot;100%&quot;,\n",
       "});\n",
       "\n",
       "        \n",
       "            \n",
       "                var html_b8a868accf7acc9ee37003c4662116c5 = $(`&lt;div id=&quot;html_b8a868accf7acc9ee37003c4662116c5&quot; style=&quot;width: 100.0%; height: 100.0%;&quot;&gt;(&quot;&lt;b style=&#x27;font-size: 18px; &#x27;&gt;El Cocal&lt;/b&gt;&lt;br&gt;Direccion: Lindero No 426A entre 38a y 44 roto modelo, Loteria&quot;, &quot;Especialidades: [&#x27;cubana&#x27;]&quot;)&lt;/div&gt;`)[0];\n",
       "                popup_ae4f7ee09e976d935f847e29803088e5.setContent(html_b8a868accf7acc9ee37003c4662116c5);\n",
       "            \n",
       "        \n",
       "\n",
       "        marker_348244ba47445e492878388b8ec04c5a.bindPopup(popup_ae4f7ee09e976d935f847e29803088e5)\n",
       "        ;\n",
       "\n",
       "        \n",
       "    \n",
       "    \n",
       "            var marker_3db17e23517b4b350a1f85c507d27a2c = L.marker(\n",
       "                [23.126407014136845, -82.30453202678505],\n",
       "                {\n",
       "}\n",
       "            ).addTo(map_e4b9394eed1b90c36772b623ee0598e0);\n",
       "        \n",
       "    \n",
       "            var icon_418f978de3c9f98eb6b368f8f35b3a22 = L.AwesomeMarkers.icon(\n",
       "                {\n",
       "  &quot;markerColor&quot;: &quot;red&quot;,\n",
       "  &quot;iconColor&quot;: &quot;white&quot;,\n",
       "  &quot;icon&quot;: &quot;cutlery&quot;,\n",
       "  &quot;prefix&quot;: &quot;fa&quot;,\n",
       "  &quot;extraClasses&quot;: &quot;fa-rotate-0&quot;,\n",
       "}\n",
       "            );\n",
       "            marker_3db17e23517b4b350a1f85c507d27a2c.setIcon(icon_418f978de3c9f98eb6b368f8f35b3a22);\n",
       "        \n",
       "    \n",
       "        var popup_6f6fb88ea964f313de838ab21fb31db3 = L.popup({\n",
       "  &quot;maxWidth&quot;: &quot;100%&quot;,\n",
       "});\n",
       "\n",
       "        \n",
       "            \n",
       "                var html_d677ccd8e1720dfdaad820521227512d = $(`&lt;div id=&quot;html_d677ccd8e1720dfdaad820521227512d&quot; style=&quot;width: 100.0%; height: 100.0%;&quot;&gt;(&quot;&lt;b style=&#x27;font-size: 18px; &#x27;&gt;El Faro&lt;/b&gt;&lt;br&gt;Direccion: Maximo Gomez y Pepe Antonio&quot;, &quot;Especialidades: [&#x27;Criolla&#x27;, &#x27;Pizzas&#x27;]&quot;)&lt;/div&gt;`)[0];\n",
       "                popup_6f6fb88ea964f313de838ab21fb31db3.setContent(html_d677ccd8e1720dfdaad820521227512d);\n",
       "            \n",
       "        \n",
       "\n",
       "        marker_3db17e23517b4b350a1f85c507d27a2c.bindPopup(popup_6f6fb88ea964f313de838ab21fb31db3)\n",
       "        ;\n",
       "\n",
       "        \n",
       "    \n",
       "    \n",
       "            var marker_981f177b363adb86ab7866b2401d704c = L.marker(\n",
       "                [23.124602415605764, -82.31935775223077],\n",
       "                {\n",
       "}\n",
       "            ).addTo(map_e4b9394eed1b90c36772b623ee0598e0);\n",
       "        \n",
       "    \n",
       "            var icon_a16b0eca2fd3815e53fb786eff96163a = L.AwesomeMarkers.icon(\n",
       "                {\n",
       "  &quot;markerColor&quot;: &quot;red&quot;,\n",
       "  &quot;iconColor&quot;: &quot;white&quot;,\n",
       "  &quot;icon&quot;: &quot;cutlery&quot;,\n",
       "  &quot;prefix&quot;: &quot;fa&quot;,\n",
       "  &quot;extraClasses&quot;: &quot;fa-rotate-0&quot;,\n",
       "}\n",
       "            );\n",
       "            marker_981f177b363adb86ab7866b2401d704c.setIcon(icon_a16b0eca2fd3815e53fb786eff96163a);\n",
       "        \n",
       "    \n",
       "        var popup_d6fd3a7cbb1c796e33b78d185483ad34 = L.popup({\n",
       "  &quot;maxWidth&quot;: &quot;100%&quot;,\n",
       "});\n",
       "\n",
       "        \n",
       "            \n",
       "                var html_8d8520ba30b177a464a4730fb0223c36 = $(`&lt;div id=&quot;html_8d8520ba30b177a464a4730fb0223c36&quot; style=&quot;width: 100.0%; height: 100.0%;&quot;&gt;(&quot;&lt;b style=&#x27;font-size: 18px; &#x27;&gt;El Pavo&lt;/b&gt;&lt;br&gt;Direccion: Esquina San Luis y Via Blanca&quot;, &quot;Especialidades: [&#x27;criolla&#x27;, &#x27;internacional&#x27;, &#x27;italiana&#x27;]&quot;)&lt;/div&gt;`)[0];\n",
       "                popup_d6fd3a7cbb1c796e33b78d185483ad34.setContent(html_8d8520ba30b177a464a4730fb0223c36);\n",
       "            \n",
       "        \n",
       "\n",
       "        marker_981f177b363adb86ab7866b2401d704c.bindPopup(popup_d6fd3a7cbb1c796e33b78d185483ad34)\n",
       "        ;\n",
       "\n",
       "        \n",
       "    \n",
       "    \n",
       "            var marker_9ea81644fea80044e3709104ce81ecde = L.marker(\n",
       "                [23.110676821769864, -82.39737767449778],\n",
       "                {\n",
       "}\n",
       "            ).addTo(map_e4b9394eed1b90c36772b623ee0598e0);\n",
       "        \n",
       "    \n",
       "            var icon_a61f735db765d3ded96a71c9023e3bfb = L.AwesomeMarkers.icon(\n",
       "                {\n",
       "  &quot;markerColor&quot;: &quot;red&quot;,\n",
       "  &quot;iconColor&quot;: &quot;white&quot;,\n",
       "  &quot;icon&quot;: &quot;cutlery&quot;,\n",
       "  &quot;prefix&quot;: &quot;fa&quot;,\n",
       "  &quot;extraClasses&quot;: &quot;fa-rotate-0&quot;,\n",
       "}\n",
       "            );\n",
       "            marker_9ea81644fea80044e3709104ce81ecde.setIcon(icon_a61f735db765d3ded96a71c9023e3bfb);\n",
       "        \n",
       "    \n",
       "        var popup_343db3aae4b457371ba1eb30e57eee18 = L.popup({\n",
       "  &quot;maxWidth&quot;: &quot;100%&quot;,\n",
       "});\n",
       "\n",
       "        \n",
       "            \n",
       "                var html_6361ce493ec7ee5d63d814b8af960b95 = $(`&lt;div id=&quot;html_6361ce493ec7ee5d63d814b8af960b95&quot; style=&quot;width: 100.0%; height: 100.0%;&quot;&gt;(&quot;&lt;b style=&#x27;font-size: 18px; &#x27;&gt;El Pelicano&lt;/b&gt;&lt;br&gt;Direccion: &quot;, &quot;Especialidades: [&#x27;cubana&#x27;]&quot;)&lt;/div&gt;`)[0];\n",
       "                popup_343db3aae4b457371ba1eb30e57eee18.setContent(html_6361ce493ec7ee5d63d814b8af960b95);\n",
       "            \n",
       "        \n",
       "\n",
       "        marker_9ea81644fea80044e3709104ce81ecde.bindPopup(popup_343db3aae4b457371ba1eb30e57eee18)\n",
       "        ;\n",
       "\n",
       "        \n",
       "    \n",
       "    \n",
       "            var marker_278c25829680d1df96b177cbfba0f5b5 = L.marker(\n",
       "                [23.133855118338467, -82.36151465263812],\n",
       "                {\n",
       "}\n",
       "            ).addTo(map_e4b9394eed1b90c36772b623ee0598e0);\n",
       "        \n",
       "    \n",
       "            var icon_6f38d4c01b790aed1108897779626910 = L.AwesomeMarkers.icon(\n",
       "                {\n",
       "  &quot;markerColor&quot;: &quot;red&quot;,\n",
       "  &quot;iconColor&quot;: &quot;white&quot;,\n",
       "  &quot;icon&quot;: &quot;cutlery&quot;,\n",
       "  &quot;prefix&quot;: &quot;fa&quot;,\n",
       "  &quot;extraClasses&quot;: &quot;fa-rotate-0&quot;,\n",
       "}\n",
       "            );\n",
       "            marker_278c25829680d1df96b177cbfba0f5b5.setIcon(icon_6f38d4c01b790aed1108897779626910);\n",
       "        \n",
       "    \n",
       "        var popup_16fe1ad891a4565fc924481f34609f64 = L.popup({\n",
       "  &quot;maxWidth&quot;: &quot;100%&quot;,\n",
       "});\n",
       "\n",
       "        \n",
       "            \n",
       "                var html_44d77767687613fadc4448a3cb8fc7c5 = $(`&lt;div id=&quot;html_44d77767687613fadc4448a3cb8fc7c5&quot; style=&quot;width: 100.0%; height: 100.0%;&quot;&gt;(&quot;&lt;b style=&#x27;font-size: 18px; &#x27;&gt;El portico&lt;/b&gt;&lt;br&gt;Direccion: Dragones entre Aguila y C.Amistad&quot;, &quot;Especialidades: [&#x27;cubana&#x27;]&quot;)&lt;/div&gt;`)[0];\n",
       "                popup_16fe1ad891a4565fc924481f34609f64.setContent(html_44d77767687613fadc4448a3cb8fc7c5);\n",
       "            \n",
       "        \n",
       "\n",
       "        marker_278c25829680d1df96b177cbfba0f5b5.bindPopup(popup_16fe1ad891a4565fc924481f34609f64)\n",
       "        ;\n",
       "\n",
       "        \n",
       "    \n",
       "    \n",
       "            var marker_e228e1f728fba79baf37674414b49d1d = L.marker(\n",
       "                [22.974102520824335, -82.39241663601986],\n",
       "                {\n",
       "}\n",
       "            ).addTo(map_e4b9394eed1b90c36772b623ee0598e0);\n",
       "        \n",
       "    \n",
       "            var icon_1a17ddc5f50cf252fb7a14215587a6b9 = L.AwesomeMarkers.icon(\n",
       "                {\n",
       "  &quot;markerColor&quot;: &quot;red&quot;,\n",
       "  &quot;iconColor&quot;: &quot;white&quot;,\n",
       "  &quot;icon&quot;: &quot;cutlery&quot;,\n",
       "  &quot;prefix&quot;: &quot;fa&quot;,\n",
       "  &quot;extraClasses&quot;: &quot;fa-rotate-0&quot;,\n",
       "}\n",
       "            );\n",
       "            marker_e228e1f728fba79baf37674414b49d1d.setIcon(icon_1a17ddc5f50cf252fb7a14215587a6b9);\n",
       "        \n",
       "    \n",
       "        var popup_91404b8dc7065a3973f88bc11c62a00f = L.popup({\n",
       "  &quot;maxWidth&quot;: &quot;100%&quot;,\n",
       "});\n",
       "\n",
       "        \n",
       "            \n",
       "                var html_6c6e7508b6cddad3f92668fd885f8007 = $(`&lt;div id=&quot;html_6c6e7508b6cddad3f92668fd885f8007&quot; style=&quot;width: 100.0%; height: 100.0%;&quot;&gt;(&quot;&lt;b style=&#x27;font-size: 18px; &#x27;&gt;Ranchon El Pinareño&lt;/b&gt;&lt;br&gt;Direccion: Calle 16 % Calle 9 &amp; Calle 7, Santiago de las Vegas&quot;, &quot;Especialidades: [&#x27;criollo&#x27;, &#x27;grille&#x27;]&quot;)&lt;/div&gt;`)[0];\n",
       "                popup_91404b8dc7065a3973f88bc11c62a00f.setContent(html_6c6e7508b6cddad3f92668fd885f8007);\n",
       "            \n",
       "        \n",
       "\n",
       "        marker_e228e1f728fba79baf37674414b49d1d.bindPopup(popup_91404b8dc7065a3973f88bc11c62a00f)\n",
       "        ;\n",
       "\n",
       "        \n",
       "    \n",
       "    \n",
       "            var marker_f969942e18104948ddd05e7ca98b95f9 = L.marker(\n",
       "                [23.121214170655744, -82.37433227456654],\n",
       "                {\n",
       "}\n",
       "            ).addTo(map_e4b9394eed1b90c36772b623ee0598e0);\n",
       "        \n",
       "    \n",
       "            var icon_f27fe130733f98454bee12a74f34e5da = L.AwesomeMarkers.icon(\n",
       "                {\n",
       "  &quot;markerColor&quot;: &quot;red&quot;,\n",
       "  &quot;iconColor&quot;: &quot;white&quot;,\n",
       "  &quot;icon&quot;: &quot;cutlery&quot;,\n",
       "  &quot;prefix&quot;: &quot;fa&quot;,\n",
       "  &quot;extraClasses&quot;: &quot;fa-rotate-0&quot;,\n",
       "}\n",
       "            );\n",
       "            marker_f969942e18104948ddd05e7ca98b95f9.setIcon(icon_f27fe130733f98454bee12a74f34e5da);\n",
       "        \n",
       "    \n",
       "        var popup_23d980b838c75c930224115d80f9abb0 = L.popup({\n",
       "  &quot;maxWidth&quot;: &quot;100%&quot;,\n",
       "});\n",
       "\n",
       "        \n",
       "            \n",
       "                var html_54afb172d2f82e7930ac0613fe98445e = $(`&lt;div id=&quot;html_54afb172d2f82e7930ac0613fe98445e&quot; style=&quot;width: 100.0%; height: 100.0%;&quot;&gt;(&quot;&lt;b style=&#x27;font-size: 18px; &#x27;&gt;El Rapido&lt;/b&gt;&lt;br&gt;Direccion: Cruz del Pader entre Pedrosa y Amenidad&quot;, &quot;Especialidades: [&#x27;italiano&#x27;, &#x27;sandwich&#x27;]&quot;)&lt;/div&gt;`)[0];\n",
       "                popup_23d980b838c75c930224115d80f9abb0.setContent(html_54afb172d2f82e7930ac0613fe98445e);\n",
       "            \n",
       "        \n",
       "\n",
       "        marker_f969942e18104948ddd05e7ca98b95f9.bindPopup(popup_23d980b838c75c930224115d80f9abb0)\n",
       "        ;\n",
       "\n",
       "        \n",
       "    \n",
       "    \n",
       "            var marker_7722dafd69c12901e8d5e002dce2d8b6 = L.marker(\n",
       "                [23.137849066647398, -82.355948790034],\n",
       "                {\n",
       "}\n",
       "            ).addTo(map_e4b9394eed1b90c36772b623ee0598e0);\n",
       "        \n",
       "    \n",
       "            var icon_a57a12c7199f84c96d98d2dac12d0f86 = L.AwesomeMarkers.icon(\n",
       "                {\n",
       "  &quot;markerColor&quot;: &quot;red&quot;,\n",
       "  &quot;iconColor&quot;: &quot;white&quot;,\n",
       "  &quot;icon&quot;: &quot;cutlery&quot;,\n",
       "  &quot;prefix&quot;: &quot;fa&quot;,\n",
       "  &quot;extraClasses&quot;: &quot;fa-rotate-0&quot;,\n",
       "}\n",
       "            );\n",
       "            marker_7722dafd69c12901e8d5e002dce2d8b6.setIcon(icon_a57a12c7199f84c96d98d2dac12d0f86);\n",
       "        \n",
       "    \n",
       "        var popup_5006127ad2d392f434eb3ddba230c601 = L.popup({\n",
       "  &quot;maxWidth&quot;: &quot;100%&quot;,\n",
       "});\n",
       "\n",
       "        \n",
       "            \n",
       "                var html_ccf41a72116c7267384bb2c1f8d3ac5e = $(`&lt;div id=&quot;html_ccf41a72116c7267384bb2c1f8d3ac5e&quot; style=&quot;width: 100.0%; height: 100.0%;&quot;&gt;(&quot;&lt;b style=&#x27;font-size: 18px; &#x27;&gt;El Rincon De Las Letras&lt;/b&gt;&lt;br&gt;Direccion: Calle Villegas #206 entre Obispo y Obrapia&quot;, &quot;Especialidades: [&#x27;Caribena&#x27;, &#x27;Cubana&#x27;]&quot;)&lt;/div&gt;`)[0];\n",
       "                popup_5006127ad2d392f434eb3ddba230c601.setContent(html_ccf41a72116c7267384bb2c1f8d3ac5e);\n",
       "            \n",
       "        \n",
       "\n",
       "        marker_7722dafd69c12901e8d5e002dce2d8b6.bindPopup(popup_5006127ad2d392f434eb3ddba230c601)\n",
       "        ;\n",
       "\n",
       "        \n",
       "    \n",
       "    \n",
       "            var marker_6ffed20a70e1065f8aa78538ef102257 = L.marker(\n",
       "                [22.97148510128245, -82.38594063725743],\n",
       "                {\n",
       "}\n",
       "            ).addTo(map_e4b9394eed1b90c36772b623ee0598e0);\n",
       "        \n",
       "    \n",
       "            var icon_0b5f5e66b40c3d52587efd98118ba00d = L.AwesomeMarkers.icon(\n",
       "                {\n",
       "  &quot;markerColor&quot;: &quot;red&quot;,\n",
       "  &quot;iconColor&quot;: &quot;white&quot;,\n",
       "  &quot;icon&quot;: &quot;cutlery&quot;,\n",
       "  &quot;prefix&quot;: &quot;fa&quot;,\n",
       "  &quot;extraClasses&quot;: &quot;fa-rotate-0&quot;,\n",
       "}\n",
       "            );\n",
       "            marker_6ffed20a70e1065f8aa78538ef102257.setIcon(icon_0b5f5e66b40c3d52587efd98118ba00d);\n",
       "        \n",
       "    \n",
       "        var popup_02f9f77543240a4769e66409372860b7 = L.popup({\n",
       "  &quot;maxWidth&quot;: &quot;100%&quot;,\n",
       "});\n",
       "\n",
       "        \n",
       "            \n",
       "                var html_8752eec9bd1a97c6affac77b5dbed578 = $(`&lt;div id=&quot;html_8752eec9bd1a97c6affac77b5dbed578&quot; style=&quot;width: 100.0%; height: 100.0%;&quot;&gt;(&quot;&lt;b style=&#x27;font-size: 18px; &#x27;&gt;El Sauce&lt;/b&gt;&lt;br&gt;Direccion: Calle 403 % 180 &amp; 184, Santiago de las Vegas&quot;, &quot;Especialidades: [&#x27;Pizza&#x27;]&quot;)&lt;/div&gt;`)[0];\n",
       "                popup_02f9f77543240a4769e66409372860b7.setContent(html_8752eec9bd1a97c6affac77b5dbed578);\n",
       "            \n",
       "        \n",
       "\n",
       "        marker_6ffed20a70e1065f8aa78538ef102257.bindPopup(popup_02f9f77543240a4769e66409372860b7)\n",
       "        ;\n",
       "\n",
       "        \n",
       "    \n",
       "    \n",
       "            var marker_8bc4132dc1079fbb81331c5e7a7915a0 = L.marker(\n",
       "                [23.124717648812492, -82.42132107449743],\n",
       "                {\n",
       "}\n",
       "            ).addTo(map_e4b9394eed1b90c36772b623ee0598e0);\n",
       "        \n",
       "    \n",
       "            var icon_1a432cfc846f8d9575456a01491a3282 = L.AwesomeMarkers.icon(\n",
       "                {\n",
       "  &quot;markerColor&quot;: &quot;red&quot;,\n",
       "  &quot;iconColor&quot;: &quot;white&quot;,\n",
       "  &quot;icon&quot;: &quot;cutlery&quot;,\n",
       "  &quot;prefix&quot;: &quot;fa&quot;,\n",
       "  &quot;extraClasses&quot;: &quot;fa-rotate-0&quot;,\n",
       "}\n",
       "            );\n",
       "            marker_8bc4132dc1079fbb81331c5e7a7915a0.setIcon(icon_1a432cfc846f8d9575456a01491a3282);\n",
       "        \n",
       "    \n",
       "        var popup_eb1e6880748e69fc5af870ae902208bd = L.popup({\n",
       "  &quot;maxWidth&quot;: &quot;100%&quot;,\n",
       "});\n",
       "\n",
       "        \n",
       "            \n",
       "                var html_08c86e6fc1ce8d2f9105fdec85833c13 = $(`&lt;div id=&quot;html_08c86e6fc1ce8d2f9105fdec85833c13&quot; style=&quot;width: 100.0%; height: 100.0%;&quot;&gt;(&quot;&lt;b style=&#x27;font-size: 18px; &#x27;&gt;El Tocororo&lt;/b&gt;&lt;br&gt;Direccion: Calle 18 entre 3ra y 5ta&quot;, &quot;Especialidades: [&#x27;criolla&#x27;, &#x27;caribena&#x27;, &#x27;latina&#x27;]&quot;)&lt;/div&gt;`)[0];\n",
       "                popup_eb1e6880748e69fc5af870ae902208bd.setContent(html_08c86e6fc1ce8d2f9105fdec85833c13);\n",
       "            \n",
       "        \n",
       "\n",
       "        marker_8bc4132dc1079fbb81331c5e7a7915a0.bindPopup(popup_eb1e6880748e69fc5af870ae902208bd)\n",
       "        ;\n",
       "\n",
       "        \n",
       "    \n",
       "    \n",
       "            var marker_2a04dbb8c9cc65f70e3d2c80db1054aa = L.marker(\n",
       "                [23.08014437636423, -82.32075326489488],\n",
       "                {\n",
       "}\n",
       "            ).addTo(map_e4b9394eed1b90c36772b623ee0598e0);\n",
       "        \n",
       "    \n",
       "            var icon_a2c68f0459105d39271aa6f6624182cb = L.AwesomeMarkers.icon(\n",
       "                {\n",
       "  &quot;markerColor&quot;: &quot;red&quot;,\n",
       "  &quot;iconColor&quot;: &quot;white&quot;,\n",
       "  &quot;icon&quot;: &quot;cutlery&quot;,\n",
       "  &quot;prefix&quot;: &quot;fa&quot;,\n",
       "  &quot;extraClasses&quot;: &quot;fa-rotate-0&quot;,\n",
       "}\n",
       "            );\n",
       "            marker_2a04dbb8c9cc65f70e3d2c80db1054aa.setIcon(icon_a2c68f0459105d39271aa6f6624182cb);\n",
       "        \n",
       "    \n",
       "        var popup_c87a39a444291ca008a966c8210244d2 = L.popup({\n",
       "  &quot;maxWidth&quot;: &quot;100%&quot;,\n",
       "});\n",
       "\n",
       "        \n",
       "            \n",
       "                var html_9a1eed8a7014cbe42e6b8df4a1707be4 = $(`&lt;div id=&quot;html_9a1eed8a7014cbe42e6b8df4a1707be4&quot; style=&quot;width: 100.0%; height: 100.0%;&quot;&gt;(&quot;&lt;b style=&#x27;font-size: 18px; &#x27;&gt;El Tráfico&lt;/b&gt;&lt;br&gt;Direccion: Calzada de Guines entre 90 y 94&quot;, &quot;Especialidades: [&#x27;italiana&#x27;, &#x27;criolla&#x27;]&quot;)&lt;/div&gt;`)[0];\n",
       "                popup_c87a39a444291ca008a966c8210244d2.setContent(html_9a1eed8a7014cbe42e6b8df4a1707be4);\n",
       "            \n",
       "        \n",
       "\n",
       "        marker_2a04dbb8c9cc65f70e3d2c80db1054aa.bindPopup(popup_c87a39a444291ca008a966c8210244d2)\n",
       "        ;\n",
       "\n",
       "        \n",
       "    \n",
       "    \n",
       "            var marker_3361aac073621855e0db9aadc76d5ede = L.marker(\n",
       "                [23.074424846570963, -82.3584506328705],\n",
       "                {\n",
       "}\n",
       "            ).addTo(map_e4b9394eed1b90c36772b623ee0598e0);\n",
       "        \n",
       "    \n",
       "            var icon_be7a00aed894ffc67f1048a8ae608273 = L.AwesomeMarkers.icon(\n",
       "                {\n",
       "  &quot;markerColor&quot;: &quot;red&quot;,\n",
       "  &quot;iconColor&quot;: &quot;white&quot;,\n",
       "  &quot;icon&quot;: &quot;cutlery&quot;,\n",
       "  &quot;prefix&quot;: &quot;fa&quot;,\n",
       "  &quot;extraClasses&quot;: &quot;fa-rotate-0&quot;,\n",
       "}\n",
       "            );\n",
       "            marker_3361aac073621855e0db9aadc76d5ede.setIcon(icon_be7a00aed894ffc67f1048a8ae608273);\n",
       "        \n",
       "    \n",
       "        var popup_f7a62261cd78c3b4da0a6b48e22af31f = L.popup({\n",
       "  &quot;maxWidth&quot;: &quot;100%&quot;,\n",
       "});\n",
       "\n",
       "        \n",
       "            \n",
       "                var html_e756df8c883348123f80b09b9d21ef5c = $(`&lt;div id=&quot;html_e756df8c883348123f80b09b9d21ef5c&quot; style=&quot;width: 100.0%; height: 100.0%;&quot;&gt;(&quot;&lt;b style=&#x27;font-size: 18px; &#x27;&gt;El Triangulo&lt;/b&gt;&lt;br&gt;Direccion: Esquina Calzada de 10 de octubre y Calzada de Porvenir, La Palma&quot;, &quot;Especialidades: [&#x27;cubana&#x27;]&quot;)&lt;/div&gt;`)[0];\n",
       "                popup_f7a62261cd78c3b4da0a6b48e22af31f.setContent(html_e756df8c883348123f80b09b9d21ef5c);\n",
       "            \n",
       "        \n",
       "\n",
       "        marker_3361aac073621855e0db9aadc76d5ede.bindPopup(popup_f7a62261cd78c3b4da0a6b48e22af31f)\n",
       "        ;\n",
       "\n",
       "        \n",
       "    \n",
       "    \n",
       "            var marker_a09e2a65a7b2235be73910b047b239bc = L.marker(\n",
       "                [23.00372199549759, -82.39586954958467],\n",
       "                {\n",
       "}\n",
       "            ).addTo(map_e4b9394eed1b90c36772b623ee0598e0);\n",
       "        \n",
       "    \n",
       "            var icon_3e793677349399962f1eea0d2e0dcf4d = L.AwesomeMarkers.icon(\n",
       "                {\n",
       "  &quot;markerColor&quot;: &quot;red&quot;,\n",
       "  &quot;iconColor&quot;: &quot;white&quot;,\n",
       "  &quot;icon&quot;: &quot;cutlery&quot;,\n",
       "  &quot;prefix&quot;: &quot;fa&quot;,\n",
       "  &quot;extraClasses&quot;: &quot;fa-rotate-0&quot;,\n",
       "}\n",
       "            );\n",
       "            marker_a09e2a65a7b2235be73910b047b239bc.setIcon(icon_3e793677349399962f1eea0d2e0dcf4d);\n",
       "        \n",
       "    \n",
       "        var popup_f48d5046c0f4a5ddeba55335e5e9c473 = L.popup({\n",
       "  &quot;maxWidth&quot;: &quot;100%&quot;,\n",
       "});\n",
       "\n",
       "        \n",
       "            \n",
       "                var html_0720a037e48c3fcdde4d4845ac0ef639 = $(`&lt;div id=&quot;html_0720a037e48c3fcdde4d4845ac0ef639&quot; style=&quot;width: 100.0%; height: 100.0%;&quot;&gt;(&quot;&lt;b style=&#x27;font-size: 18px; &#x27;&gt;Entabla2&lt;/b&gt;&lt;br&gt;Direccion: Carretera Terminal 2, Aeropuerto Internacional J. Marti, Calixto Sanchez&quot;, &quot;Especialidades: [&#x27;criolla&#x27;]&quot;)&lt;/div&gt;`)[0];\n",
       "                popup_f48d5046c0f4a5ddeba55335e5e9c473.setContent(html_0720a037e48c3fcdde4d4845ac0ef639);\n",
       "            \n",
       "        \n",
       "\n",
       "        marker_a09e2a65a7b2235be73910b047b239bc.bindPopup(popup_f48d5046c0f4a5ddeba55335e5e9c473)\n",
       "        ;\n",
       "\n",
       "        \n",
       "    \n",
       "    \n",
       "            var marker_b6d3da80179a475bab76ccafde23c1ce = L.marker(\n",
       "                [23.142395650866476, -82.39855515318168],\n",
       "                {\n",
       "}\n",
       "            ).addTo(map_e4b9394eed1b90c36772b623ee0598e0);\n",
       "        \n",
       "    \n",
       "            var icon_ab1f02fb4f8d68eecb58ee4ecf306d88 = L.AwesomeMarkers.icon(\n",
       "                {\n",
       "  &quot;markerColor&quot;: &quot;red&quot;,\n",
       "  &quot;iconColor&quot;: &quot;white&quot;,\n",
       "  &quot;icon&quot;: &quot;cutlery&quot;,\n",
       "  &quot;prefix&quot;: &quot;fa&quot;,\n",
       "  &quot;extraClasses&quot;: &quot;fa-rotate-0&quot;,\n",
       "}\n",
       "            );\n",
       "            marker_b6d3da80179a475bab76ccafde23c1ce.setIcon(icon_ab1f02fb4f8d68eecb58ee4ecf306d88);\n",
       "        \n",
       "    \n",
       "        var popup_bc26b76748e7920b8d64557f06d74f86 = L.popup({\n",
       "  &quot;maxWidth&quot;: &quot;100%&quot;,\n",
       "});\n",
       "\n",
       "        \n",
       "            \n",
       "                var html_01c32ba594442ce6b0a8f2621e02d31b = $(`&lt;div id=&quot;html_01c32ba594442ce6b0a8f2621e02d31b&quot; style=&quot;width: 100.0%; height: 100.0%;&quot;&gt;(&quot;&lt;b style=&#x27;font-size: 18px; &#x27;&gt;Esquina D-Fraile &lt;/b&gt;&lt;br&gt;Direccion: Calle D entre 1era y 3era, Vedado.&quot;, &quot;Especialidades: [&#x27;Comida Americana&#x27;, &#x27;caribeña&#x27;, &#x27;latina&#x27;, &#x27;criolla&#x27;, &#x27;internacional&#x27;]&quot;)&lt;/div&gt;`)[0];\n",
       "                popup_bc26b76748e7920b8d64557f06d74f86.setContent(html_01c32ba594442ce6b0a8f2621e02d31b);\n",
       "            \n",
       "        \n",
       "\n",
       "        marker_b6d3da80179a475bab76ccafde23c1ce.bindPopup(popup_bc26b76748e7920b8d64557f06d74f86)\n",
       "        ;\n",
       "\n",
       "        \n",
       "    \n",
       "    \n",
       "            var marker_e44a12ed2b40f8a90efa516bcad46f2f = L.marker(\n",
       "                [23.140776125926624, -82.3517849151747],\n",
       "                {\n",
       "}\n",
       "            ).addTo(map_e4b9394eed1b90c36772b623ee0598e0);\n",
       "        \n",
       "    \n",
       "            var icon_feaf494dadcb5c611f56062f1253b93b = L.AwesomeMarkers.icon(\n",
       "                {\n",
       "  &quot;markerColor&quot;: &quot;red&quot;,\n",
       "  &quot;iconColor&quot;: &quot;white&quot;,\n",
       "  &quot;icon&quot;: &quot;cutlery&quot;,\n",
       "  &quot;prefix&quot;: &quot;fa&quot;,\n",
       "  &quot;extraClasses&quot;: &quot;fa-rotate-0&quot;,\n",
       "}\n",
       "            );\n",
       "            marker_e44a12ed2b40f8a90efa516bcad46f2f.setIcon(icon_feaf494dadcb5c611f56062f1253b93b);\n",
       "        \n",
       "    \n",
       "        var popup_54d6b197d7bb9f997a03a291c9716dfa = L.popup({\n",
       "  &quot;maxWidth&quot;: &quot;100%&quot;,\n",
       "});\n",
       "\n",
       "        \n",
       "            \n",
       "                var html_efd0e9618808062d07edfbff0bb5b74f = $(`&lt;div id=&quot;html_efd0e9618808062d07edfbff0bb5b74f&quot; style=&quot;width: 100.0%; height: 100.0%;&quot;&gt;(&quot;&lt;b style=&#x27;font-size: 18px; &#x27;&gt;Esto No Es Un Cafe&lt;/b&gt;&lt;br&gt;Direccion: Calle Ignacio #58-A entre OReilly y Empedrado, Callejón del Chorro, Plaza de la Catedral&quot;, &quot;Especialidades: [&#x27;Mixta&#x27;]&quot;)&lt;/div&gt;`)[0];\n",
       "                popup_54d6b197d7bb9f997a03a291c9716dfa.setContent(html_efd0e9618808062d07edfbff0bb5b74f);\n",
       "            \n",
       "        \n",
       "\n",
       "        marker_e44a12ed2b40f8a90efa516bcad46f2f.bindPopup(popup_54d6b197d7bb9f997a03a291c9716dfa)\n",
       "        ;\n",
       "\n",
       "        \n",
       "    \n",
       "    \n",
       "            var marker_ba919e84e05bec768f304ab631a2b0e5 = L.marker(\n",
       "                [23.11995071306764, -82.41835419828072],\n",
       "                {\n",
       "}\n",
       "            ).addTo(map_e4b9394eed1b90c36772b623ee0598e0);\n",
       "        \n",
       "    \n",
       "            var icon_47a153b206dab3b413638d90d6cef872 = L.AwesomeMarkers.icon(\n",
       "                {\n",
       "  &quot;markerColor&quot;: &quot;red&quot;,\n",
       "  &quot;iconColor&quot;: &quot;white&quot;,\n",
       "  &quot;icon&quot;: &quot;cutlery&quot;,\n",
       "  &quot;prefix&quot;: &quot;fa&quot;,\n",
       "  &quot;extraClasses&quot;: &quot;fa-rotate-0&quot;,\n",
       "}\n",
       "            );\n",
       "            marker_ba919e84e05bec768f304ab631a2b0e5.setIcon(icon_47a153b206dab3b413638d90d6cef872);\n",
       "        \n",
       "    \n",
       "        var popup_bbf17972cd1845fafe4eabf2f8cc7f00 = L.popup({\n",
       "  &quot;maxWidth&quot;: &quot;100%&quot;,\n",
       "});\n",
       "\n",
       "        \n",
       "            \n",
       "                var html_90cf9f5b9a29828b0d88fc293ddd508f = $(`&lt;div id=&quot;html_90cf9f5b9a29828b0d88fc293ddd508f&quot; style=&quot;width: 100.0%; height: 100.0%;&quot;&gt;(&quot;&lt;b style=&#x27;font-size: 18px; &#x27;&gt;Fellini&lt;/b&gt;&lt;br&gt;Direccion: Calle 20 entre 9na y 7ma&quot;, &quot;Especialidades: [&#x27;cubana&#x27;, &#x27;internacional&#x27;]&quot;)&lt;/div&gt;`)[0];\n",
       "                popup_bbf17972cd1845fafe4eabf2f8cc7f00.setContent(html_90cf9f5b9a29828b0d88fc293ddd508f);\n",
       "            \n",
       "        \n",
       "\n",
       "        marker_ba919e84e05bec768f304ab631a2b0e5.bindPopup(popup_bbf17972cd1845fafe4eabf2f8cc7f00)\n",
       "        ;\n",
       "\n",
       "        \n",
       "    \n",
       "    \n",
       "            var marker_497c74d528fc9b4778b3e676607043a8 = L.marker(\n",
       "                [23.04594907869068, -82.37133353203541],\n",
       "                {\n",
       "}\n",
       "            ).addTo(map_e4b9394eed1b90c36772b623ee0598e0);\n",
       "        \n",
       "    \n",
       "            var icon_9a4bc52f6a6f685c9521c4070b627068 = L.AwesomeMarkers.icon(\n",
       "                {\n",
       "  &quot;markerColor&quot;: &quot;red&quot;,\n",
       "  &quot;iconColor&quot;: &quot;white&quot;,\n",
       "  &quot;icon&quot;: &quot;cutlery&quot;,\n",
       "  &quot;prefix&quot;: &quot;fa&quot;,\n",
       "  &quot;extraClasses&quot;: &quot;fa-rotate-0&quot;,\n",
       "}\n",
       "            );\n",
       "            marker_497c74d528fc9b4778b3e676607043a8.setIcon(icon_9a4bc52f6a6f685c9521c4070b627068);\n",
       "        \n",
       "    \n",
       "        var popup_69514c8e3848f4cfae14a72e0988fbbd = L.popup({\n",
       "  &quot;maxWidth&quot;: &quot;100%&quot;,\n",
       "});\n",
       "\n",
       "        \n",
       "            \n",
       "                var html_b6ea5c760ca91e79aeabaf49873f3941 = $(`&lt;div id=&quot;html_b6ea5c760ca91e79aeabaf49873f3941&quot; style=&quot;width: 100.0%; height: 100.0%;&quot;&gt;(&quot;&lt;b style=&#x27;font-size: 18px; &#x27;&gt;Fiesta Criolla&lt;/b&gt;&lt;br&gt;Direccion: Calle 100 #1003 (después del puente de calabazar), Arroyo Naranjo&quot;, &quot;Especialidades: [&#x27;cubana&#x27;]&quot;)&lt;/div&gt;`)[0];\n",
       "                popup_69514c8e3848f4cfae14a72e0988fbbd.setContent(html_b6ea5c760ca91e79aeabaf49873f3941);\n",
       "            \n",
       "        \n",
       "\n",
       "        marker_497c74d528fc9b4778b3e676607043a8.bindPopup(popup_69514c8e3848f4cfae14a72e0988fbbd)\n",
       "        ;\n",
       "\n",
       "        \n",
       "    \n",
       "    \n",
       "            var marker_5c57a04f3cfa02927d137c0e4e96c457 = L.marker(\n",
       "                [23.01940199162402, -82.4892786916919],\n",
       "                {\n",
       "}\n",
       "            ).addTo(map_e4b9394eed1b90c36772b623ee0598e0);\n",
       "        \n",
       "    \n",
       "            var icon_d9d99597e3a01827b8d886fbf7c13e59 = L.AwesomeMarkers.icon(\n",
       "                {\n",
       "  &quot;markerColor&quot;: &quot;red&quot;,\n",
       "  &quot;iconColor&quot;: &quot;white&quot;,\n",
       "  &quot;icon&quot;: &quot;cutlery&quot;,\n",
       "  &quot;prefix&quot;: &quot;fa&quot;,\n",
       "  &quot;extraClasses&quot;: &quot;fa-rotate-0&quot;,\n",
       "}\n",
       "            );\n",
       "            marker_5c57a04f3cfa02927d137c0e4e96c457.setIcon(icon_d9d99597e3a01827b8d886fbf7c13e59);\n",
       "        \n",
       "    \n",
       "        var popup_e990518e1f84e0cabf657f6789037ac1 = L.popup({\n",
       "  &quot;maxWidth&quot;: &quot;100%&quot;,\n",
       "});\n",
       "\n",
       "        \n",
       "            \n",
       "                var html_40df8e816dcc3d037e3e5b06ce8634a9 = $(`&lt;div id=&quot;html_40df8e816dcc3d037e3e5b06ce8634a9&quot; style=&quot;width: 100.0%; height: 100.0%;&quot;&gt;(&quot;&lt;b style=&#x27;font-size: 18px; &#x27;&gt;Finca La Pinta&lt;/b&gt;&lt;br&gt;Direccion:  Avenida 251 N.2409 entre 20 y 28&quot;, &quot;Especialidades: [&#x27;internacional&#x27;, &#x27;cubana&#x27;, &#x27;caribena&#x27;, &#x27;italiana&#x27;, &#x27;latina&#x27;]&quot;)&lt;/div&gt;`)[0];\n",
       "                popup_e990518e1f84e0cabf657f6789037ac1.setContent(html_40df8e816dcc3d037e3e5b06ce8634a9);\n",
       "            \n",
       "        \n",
       "\n",
       "        marker_5c57a04f3cfa02927d137c0e4e96c457.bindPopup(popup_e990518e1f84e0cabf657f6789037ac1)\n",
       "        ;\n",
       "\n",
       "        \n",
       "    \n",
       "    \n",
       "            var marker_0ffc9c1a6678a57a89ac32bcc181ce6b = L.marker(\n",
       "                [23.136041318926157, -82.36214978250345],\n",
       "                {\n",
       "}\n",
       "            ).addTo(map_e4b9394eed1b90c36772b623ee0598e0);\n",
       "        \n",
       "    \n",
       "            var icon_e1f68c751ec2a209c586615efbce62f4 = L.AwesomeMarkers.icon(\n",
       "                {\n",
       "  &quot;markerColor&quot;: &quot;red&quot;,\n",
       "  &quot;iconColor&quot;: &quot;white&quot;,\n",
       "  &quot;icon&quot;: &quot;cutlery&quot;,\n",
       "  &quot;prefix&quot;: &quot;fa&quot;,\n",
       "  &quot;extraClasses&quot;: &quot;fa-rotate-0&quot;,\n",
       "}\n",
       "            );\n",
       "            marker_0ffc9c1a6678a57a89ac32bcc181ce6b.setIcon(icon_e1f68c751ec2a209c586615efbce62f4);\n",
       "        \n",
       "    \n",
       "        var popup_f047196ee63e0564549e62ee7b88843a = L.popup({\n",
       "  &quot;maxWidth&quot;: &quot;100%&quot;,\n",
       "});\n",
       "\n",
       "        \n",
       "            \n",
       "                var html_e1293333e8e47da3ccb6caf397fb4234 = $(`&lt;div id=&quot;html_e1293333e8e47da3ccb6caf397fb4234&quot; style=&quot;width: 100.0%; height: 100.0%;&quot;&gt;(&quot;&lt;b style=&#x27;font-size: 18px; &#x27;&gt;Fin de Siglo&lt;/b&gt;&lt;br&gt;Direccion: Esquina Aguila y San Martin&quot;, &quot;Especialidades: [&#x27;Cubana&#x27;, &#x27;Italiana&#x27;]&quot;)&lt;/div&gt;`)[0];\n",
       "                popup_f047196ee63e0564549e62ee7b88843a.setContent(html_e1293333e8e47da3ccb6caf397fb4234);\n",
       "            \n",
       "        \n",
       "\n",
       "        marker_0ffc9c1a6678a57a89ac32bcc181ce6b.bindPopup(popup_f047196ee63e0564549e62ee7b88843a)\n",
       "        ;\n",
       "\n",
       "        \n",
       "    \n",
       "    \n",
       "            var marker_da34c647a9a8a56f7d6b8d22eee299df = L.marker(\n",
       "                [23.137505971829647, -82.35738137449714],\n",
       "                {\n",
       "}\n",
       "            ).addTo(map_e4b9394eed1b90c36772b623ee0598e0);\n",
       "        \n",
       "    \n",
       "            var icon_837cd405be27705589c71991c727deb7 = L.AwesomeMarkers.icon(\n",
       "                {\n",
       "  &quot;markerColor&quot;: &quot;red&quot;,\n",
       "  &quot;iconColor&quot;: &quot;white&quot;,\n",
       "  &quot;icon&quot;: &quot;cutlery&quot;,\n",
       "  &quot;prefix&quot;: &quot;fa&quot;,\n",
       "  &quot;extraClasses&quot;: &quot;fa-rotate-0&quot;,\n",
       "}\n",
       "            );\n",
       "            marker_da34c647a9a8a56f7d6b8d22eee299df.setIcon(icon_837cd405be27705589c71991c727deb7);\n",
       "        \n",
       "    \n",
       "        var popup_39ebe35e159fc10ba241a3f042f0db2f = L.popup({\n",
       "  &quot;maxWidth&quot;: &quot;100%&quot;,\n",
       "});\n",
       "\n",
       "        \n",
       "            \n",
       "                var html_0507c37dbedb812eaffc7fce6b71cd3d = $(`&lt;div id=&quot;html_0507c37dbedb812eaffc7fce6b71cd3d&quot; style=&quot;width: 100.0%; height: 100.0%;&quot;&gt;(&quot;&lt;b style=&#x27;font-size: 18px; &#x27;&gt;Floridita&lt;/b&gt;&lt;br&gt;Direccion: Obispo No 557 esquina Monserrate&quot;, &quot;Especialidades: [&#x27;Mariscos&#x27;]&quot;)&lt;/div&gt;`)[0];\n",
       "                popup_39ebe35e159fc10ba241a3f042f0db2f.setContent(html_0507c37dbedb812eaffc7fce6b71cd3d);\n",
       "            \n",
       "        \n",
       "\n",
       "        marker_da34c647a9a8a56f7d6b8d22eee299df.bindPopup(popup_39ebe35e159fc10ba241a3f042f0db2f)\n",
       "        ;\n",
       "\n",
       "        \n",
       "    \n",
       "    \n",
       "            var marker_3667a8a9855e2d9b3ded0b9aa1c9d812 = L.marker(\n",
       "                [23.140492623277456, -82.35174687469267],\n",
       "                {\n",
       "}\n",
       "            ).addTo(map_e4b9394eed1b90c36772b623ee0598e0);\n",
       "        \n",
       "    \n",
       "            var icon_427c4407ff776df08ded509593112364 = L.AwesomeMarkers.icon(\n",
       "                {\n",
       "  &quot;markerColor&quot;: &quot;red&quot;,\n",
       "  &quot;iconColor&quot;: &quot;white&quot;,\n",
       "  &quot;icon&quot;: &quot;cutlery&quot;,\n",
       "  &quot;prefix&quot;: &quot;fa&quot;,\n",
       "  &quot;extraClasses&quot;: &quot;fa-rotate-0&quot;,\n",
       "}\n",
       "            );\n",
       "            marker_3667a8a9855e2d9b3ded0b9aa1c9d812.setIcon(icon_427c4407ff776df08ded509593112364);\n",
       "        \n",
       "    \n",
       "        var popup_17fede1622e19f7b1031706a7e9aa376 = L.popup({\n",
       "  &quot;maxWidth&quot;: &quot;100%&quot;,\n",
       "});\n",
       "\n",
       "        \n",
       "            \n",
       "                var html_8b05e5171c0889acee7511998dcd3d18 = $(`&lt;div id=&quot;html_8b05e5171c0889acee7511998dcd3d18&quot; style=&quot;width: 100.0%; height: 100.0%;&quot;&gt;(&quot;&lt;b style=&#x27;font-size: 18px; &#x27;&gt;Fonda Al Pirata&lt;/b&gt;&lt;br&gt;Direccion: San Ignacio #76 e/ O&#x27;Reilly y Empedrado&quot;, &quot;Especialidades: [&#x27;Caribena&#x27;, &#x27;Cubana&#x27;]&quot;)&lt;/div&gt;`)[0];\n",
       "                popup_17fede1622e19f7b1031706a7e9aa376.setContent(html_8b05e5171c0889acee7511998dcd3d18);\n",
       "            \n",
       "        \n",
       "\n",
       "        marker_3667a8a9855e2d9b3ded0b9aa1c9d812.bindPopup(popup_17fede1622e19f7b1031706a7e9aa376)\n",
       "        ;\n",
       "\n",
       "        \n",
       "    \n",
       "    \n",
       "            var marker_d658c20ef62c4135d73f08aa773165dc = L.marker(\n",
       "                [23.108876604302726, -82.440550925563],\n",
       "                {\n",
       "}\n",
       "            ).addTo(map_e4b9394eed1b90c36772b623ee0598e0);\n",
       "        \n",
       "    \n",
       "            var icon_f7b178fcd783444004f3df14243a62eb = L.AwesomeMarkers.icon(\n",
       "                {\n",
       "  &quot;markerColor&quot;: &quot;red&quot;,\n",
       "  &quot;iconColor&quot;: &quot;white&quot;,\n",
       "  &quot;icon&quot;: &quot;cutlery&quot;,\n",
       "  &quot;prefix&quot;: &quot;fa&quot;,\n",
       "  &quot;extraClasses&quot;: &quot;fa-rotate-0&quot;,\n",
       "}\n",
       "            );\n",
       "            marker_d658c20ef62c4135d73f08aa773165dc.setIcon(icon_f7b178fcd783444004f3df14243a62eb);\n",
       "        \n",
       "    \n",
       "        var popup_abd47efc4231264bc8246304198e15d5 = L.popup({\n",
       "  &quot;maxWidth&quot;: &quot;100%&quot;,\n",
       "});\n",
       "\n",
       "        \n",
       "            \n",
       "                var html_965f8a2706ceb96b7b9af2895f760d30 = $(`&lt;div id=&quot;html_965f8a2706ceb96b7b9af2895f760d30&quot; style=&quot;width: 100.0%; height: 100.0%;&quot;&gt;(&quot;&lt;b style=&#x27;font-size: 18px; &#x27;&gt;FoodTruck Pelegrin&lt;/b&gt;&lt;br&gt;Direccion:  Miramar Trade Center, Centro de Negocios&quot;, &quot;Especialidades: [&#x27;cubana&#x27;, &#x27;internacional&#x27;]&quot;)&lt;/div&gt;`)[0];\n",
       "                popup_abd47efc4231264bc8246304198e15d5.setContent(html_965f8a2706ceb96b7b9af2895f760d30);\n",
       "            \n",
       "        \n",
       "\n",
       "        marker_d658c20ef62c4135d73f08aa773165dc.bindPopup(popup_abd47efc4231264bc8246304198e15d5)\n",
       "        ;\n",
       "\n",
       "        \n",
       "    \n",
       "    \n",
       "            var marker_028873dfe9ccaac23cd9e0e24291c715 = L.marker(\n",
       "                [23.108117348063423, -82.4341893999906],\n",
       "                {\n",
       "}\n",
       "            ).addTo(map_e4b9394eed1b90c36772b623ee0598e0);\n",
       "        \n",
       "    \n",
       "            var icon_4f16371061ec713c36488b8988b49382 = L.AwesomeMarkers.icon(\n",
       "                {\n",
       "  &quot;markerColor&quot;: &quot;red&quot;,\n",
       "  &quot;iconColor&quot;: &quot;white&quot;,\n",
       "  &quot;icon&quot;: &quot;cutlery&quot;,\n",
       "  &quot;prefix&quot;: &quot;fa&quot;,\n",
       "  &quot;extraClasses&quot;: &quot;fa-rotate-0&quot;,\n",
       "}\n",
       "            );\n",
       "            marker_028873dfe9ccaac23cd9e0e24291c715.setIcon(icon_4f16371061ec713c36488b8988b49382);\n",
       "        \n",
       "    \n",
       "        var popup_aaf1560455dfc70aafd545b293523307 = L.popup({\n",
       "  &quot;maxWidth&quot;: &quot;100%&quot;,\n",
       "});\n",
       "\n",
       "        \n",
       "            \n",
       "                var html_24f6c4a9da8bfb18ba72e69945980818 = $(`&lt;div id=&quot;html_24f6c4a9da8bfb18ba72e69945980818&quot; style=&quot;width: 100.0%; height: 100.0%;&quot;&gt;(&quot;&lt;b style=&#x27;font-size: 18px; &#x27;&gt;FoodMaster&lt;/b&gt;&lt;br&gt;Direccion: 7 A&quot;, &quot;Especialidades: [&#x27;Mexicana&#x27;, &#x27;Americana&#x27;, &#x27;Café&#x27;, &#x27;Internacional&#x27;, &#x27;Pizzas&#x27;]&quot;)&lt;/div&gt;`)[0];\n",
       "                popup_aaf1560455dfc70aafd545b293523307.setContent(html_24f6c4a9da8bfb18ba72e69945980818);\n",
       "            \n",
       "        \n",
       "\n",
       "        marker_028873dfe9ccaac23cd9e0e24291c715.bindPopup(popup_aaf1560455dfc70aafd545b293523307)\n",
       "        ;\n",
       "\n",
       "        \n",
       "    \n",
       "    \n",
       "            var marker_ed3f655c2b6c45bfc8597e43bd1ccb05 = L.marker(\n",
       "                [23.12209228452483, -82.40512312898908],\n",
       "                {\n",
       "}\n",
       "            ).addTo(map_e4b9394eed1b90c36772b623ee0598e0);\n",
       "        \n",
       "    \n",
       "            var icon_f27498e8df0d2bcb312c138ef648b26c = L.AwesomeMarkers.icon(\n",
       "                {\n",
       "  &quot;markerColor&quot;: &quot;red&quot;,\n",
       "  &quot;iconColor&quot;: &quot;white&quot;,\n",
       "  &quot;icon&quot;: &quot;cutlery&quot;,\n",
       "  &quot;prefix&quot;: &quot;fa&quot;,\n",
       "  &quot;extraClasses&quot;: &quot;fa-rotate-0&quot;,\n",
       "}\n",
       "            );\n",
       "            marker_ed3f655c2b6c45bfc8597e43bd1ccb05.setIcon(icon_f27498e8df0d2bcb312c138ef648b26c);\n",
       "        \n",
       "    \n",
       "        var popup_44550a15122af8a47dea6bd6f59d7859 = L.popup({\n",
       "  &quot;maxWidth&quot;: &quot;100%&quot;,\n",
       "});\n",
       "\n",
       "        \n",
       "            \n",
       "                var html_252a8003c0e15b9388a8e649b5a9675b = $(`&lt;div id=&quot;html_252a8003c0e15b9388a8e649b5a9675b&quot; style=&quot;width: 100.0%; height: 100.0%;&quot;&gt;(&quot;&lt;b style=&#x27;font-size: 18px; &#x27;&gt;Fumiyaki&lt;/b&gt;&lt;br&gt;Direccion: Ave 26, No 367 ,entre calle 23 y calle 25, Vedado&quot;, &quot;Especialidades: [&#x27;Comida japonesa&#x27;, &#x27;asiatica&#x27;, &#x27;sushi&#x27;, &#x27;cubana&#x27;]&quot;)&lt;/div&gt;`)[0];\n",
       "                popup_44550a15122af8a47dea6bd6f59d7859.setContent(html_252a8003c0e15b9388a8e649b5a9675b);\n",
       "            \n",
       "        \n",
       "\n",
       "        marker_ed3f655c2b6c45bfc8597e43bd1ccb05.bindPopup(popup_44550a15122af8a47dea6bd6f59d7859)\n",
       "        ;\n",
       "\n",
       "        \n",
       "    \n",
       "    \n",
       "            var marker_dc9ce286af0d9c4c61340748f160b382 = L.marker(\n",
       "                [23.135893503982505, -82.36265785250283],\n",
       "                {\n",
       "}\n",
       "            ).addTo(map_e4b9394eed1b90c36772b623ee0598e0);\n",
       "        \n",
       "    \n",
       "            var icon_5051a72cf11c188f2a9ebcc281c3d06d = L.AwesomeMarkers.icon(\n",
       "                {\n",
       "  &quot;markerColor&quot;: &quot;red&quot;,\n",
       "  &quot;iconColor&quot;: &quot;white&quot;,\n",
       "  &quot;icon&quot;: &quot;cutlery&quot;,\n",
       "  &quot;prefix&quot;: &quot;fa&quot;,\n",
       "  &quot;extraClasses&quot;: &quot;fa-rotate-0&quot;,\n",
       "}\n",
       "            );\n",
       "            marker_dc9ce286af0d9c4c61340748f160b382.setIcon(icon_5051a72cf11c188f2a9ebcc281c3d06d);\n",
       "        \n",
       "    \n",
       "        var popup_e2c33546a6b6ef6924ca49bf6bcee4cf = L.popup({\n",
       "  &quot;maxWidth&quot;: &quot;100%&quot;,\n",
       "});\n",
       "\n",
       "        \n",
       "            \n",
       "                var html_2915fe0fade795d0edaee01c854f5535 = $(`&lt;div id=&quot;html_2915fe0fade795d0edaee01c854f5535&quot; style=&quot;width: 100.0%; height: 100.0%;&quot;&gt;(&quot;&lt;b style=&#x27;font-size: 18px; &#x27;&gt;Galy Cafe&lt;/b&gt;&lt;br&gt;Direccion: San Martin entre Galeano y Aguila&quot;, &quot;Especialidades: [&#x27;caribeña&#x27;, &#x27;latina&#x27;, &#x27;internacional&#x27;, &#x27;cubana&#x27;]&quot;)&lt;/div&gt;`)[0];\n",
       "                popup_e2c33546a6b6ef6924ca49bf6bcee4cf.setContent(html_2915fe0fade795d0edaee01c854f5535);\n",
       "            \n",
       "        \n",
       "\n",
       "        marker_dc9ce286af0d9c4c61340748f160b382.bindPopup(popup_e2c33546a6b6ef6924ca49bf6bcee4cf)\n",
       "        ;\n",
       "\n",
       "        \n",
       "    \n",
       "    \n",
       "            var marker_20015395ef4667a2086e4b46cdfb0d87 = L.marker(\n",
       "                [23.14374457538385, -82.35553752883533],\n",
       "                {\n",
       "}\n",
       "            ).addTo(map_e4b9394eed1b90c36772b623ee0598e0);\n",
       "        \n",
       "    \n",
       "            var icon_d75031d9e0202a271e3abf3122b88e87 = L.AwesomeMarkers.icon(\n",
       "                {\n",
       "  &quot;markerColor&quot;: &quot;red&quot;,\n",
       "  &quot;iconColor&quot;: &quot;white&quot;,\n",
       "  &quot;icon&quot;: &quot;cutlery&quot;,\n",
       "  &quot;prefix&quot;: &quot;fa&quot;,\n",
       "  &quot;extraClasses&quot;: &quot;fa-rotate-0&quot;,\n",
       "}\n",
       "            );\n",
       "            marker_20015395ef4667a2086e4b46cdfb0d87.setIcon(icon_d75031d9e0202a271e3abf3122b88e87);\n",
       "        \n",
       "    \n",
       "        var popup_65585f1830bc6edb6a536061605b34af = L.popup({\n",
       "  &quot;maxWidth&quot;: &quot;100%&quot;,\n",
       "});\n",
       "\n",
       "        \n",
       "            \n",
       "                var html_319e34110b64802d2b759923da72fa23 = $(`&lt;div id=&quot;html_319e34110b64802d2b759923da72fa23&quot; style=&quot;width: 100.0%; height: 100.0%;&quot;&gt;(&quot;&lt;b style=&#x27;font-size: 18px; &#x27;&gt;Habana 5 Rooftop&lt;/b&gt;&lt;br&gt;Direccion: Calle Habana entre Pena Pobre y Av. Belgica&quot;, &quot;Especialidades: [&#x27;Internacional&#x27;, &#x27;cubana&#x27;]&quot;)&lt;/div&gt;`)[0];\n",
       "                popup_65585f1830bc6edb6a536061605b34af.setContent(html_319e34110b64802d2b759923da72fa23);\n",
       "            \n",
       "        \n",
       "\n",
       "        marker_20015395ef4667a2086e4b46cdfb0d87.bindPopup(popup_65585f1830bc6edb6a536061605b34af)\n",
       "        ;\n",
       "\n",
       "        \n",
       "    \n",
       "    \n",
       "            var marker_6c819c8a5394489290131d3b3a4ab65e = L.marker(\n",
       "                [23.142484323536937, -82.35509901886921],\n",
       "                {\n",
       "}\n",
       "            ).addTo(map_e4b9394eed1b90c36772b623ee0598e0);\n",
       "        \n",
       "    \n",
       "            var icon_92e3f105661972a1ea65acabd91b40b2 = L.AwesomeMarkers.icon(\n",
       "                {\n",
       "  &quot;markerColor&quot;: &quot;red&quot;,\n",
       "  &quot;iconColor&quot;: &quot;white&quot;,\n",
       "  &quot;icon&quot;: &quot;cutlery&quot;,\n",
       "  &quot;prefix&quot;: &quot;fa&quot;,\n",
       "  &quot;extraClasses&quot;: &quot;fa-rotate-0&quot;,\n",
       "}\n",
       "            );\n",
       "            marker_6c819c8a5394489290131d3b3a4ab65e.setIcon(icon_92e3f105661972a1ea65acabd91b40b2);\n",
       "        \n",
       "    \n",
       "        var popup_f4da847d30ceefbb7ee85eee0da14320 = L.popup({\n",
       "  &quot;maxWidth&quot;: &quot;100%&quot;,\n",
       "});\n",
       "\n",
       "        \n",
       "            \n",
       "                var html_74889b9cf26f470ae64bdb7b2ff4c97c = $(`&lt;div id=&quot;html_74889b9cf26f470ae64bdb7b2ff4c97c&quot; style=&quot;width: 100.0%; height: 100.0%;&quot;&gt;(&quot;&lt;b style=&#x27;font-size: 18px; &#x27;&gt;Habana 61&lt;/b&gt;&lt;br&gt;Direccion: Calle Habana #61 entre Peña Pobre y Cuarteles&quot;, &quot;Especialidades: [&#x27;Mixta&#x27;]&quot;)&lt;/div&gt;`)[0];\n",
       "                popup_f4da847d30ceefbb7ee85eee0da14320.setContent(html_74889b9cf26f470ae64bdb7b2ff4c97c);\n",
       "            \n",
       "        \n",
       "\n",
       "        marker_6c819c8a5394489290131d3b3a4ab65e.bindPopup(popup_f4da847d30ceefbb7ee85eee0da14320)\n",
       "        ;\n",
       "\n",
       "        \n",
       "    \n",
       "    \n",
       "            var marker_ae03349d228b4339dc15c08a454269b7 = L.marker(\n",
       "                [23.13923764561611, -82.3885387467372],\n",
       "                {\n",
       "}\n",
       "            ).addTo(map_e4b9394eed1b90c36772b623ee0598e0);\n",
       "        \n",
       "    \n",
       "            var icon_3c0d64783cba27a4007de108d82e9285 = L.AwesomeMarkers.icon(\n",
       "                {\n",
       "  &quot;markerColor&quot;: &quot;red&quot;,\n",
       "  &quot;iconColor&quot;: &quot;white&quot;,\n",
       "  &quot;icon&quot;: &quot;cutlery&quot;,\n",
       "  &quot;prefix&quot;: &quot;fa&quot;,\n",
       "  &quot;extraClasses&quot;: &quot;fa-rotate-0&quot;,\n",
       "}\n",
       "            );\n",
       "            marker_ae03349d228b4339dc15c08a454269b7.setIcon(icon_3c0d64783cba27a4007de108d82e9285);\n",
       "        \n",
       "    \n",
       "        var popup_2726149aea26617e1fdf2d6da8a5900a = L.popup({\n",
       "  &quot;maxWidth&quot;: &quot;100%&quot;,\n",
       "});\n",
       "\n",
       "        \n",
       "            \n",
       "                var html_2a2a896c26e6794c8133001dc9275376 = $(`&lt;div id=&quot;html_2a2a896c26e6794c8133001dc9275376&quot; style=&quot;width: 100.0%; height: 100.0%;&quot;&gt;(&quot;&lt;b style=&#x27;font-size: 18px; &#x27;&gt;Habana Blues&lt;/b&gt;&lt;br&gt;Direccion: Calle H no. 405 entre 17 y 19, Vedado&quot;, &quot;Especialidades: [&#x27;Comida caribeña&#x27;, &#x27;latina&#x27;, &#x27;criolla&#x27;, &#x27;cubana&#x27;]&quot;)&lt;/div&gt;`)[0];\n",
       "                popup_2726149aea26617e1fdf2d6da8a5900a.setContent(html_2a2a896c26e6794c8133001dc9275376);\n",
       "            \n",
       "        \n",
       "\n",
       "        marker_ae03349d228b4339dc15c08a454269b7.bindPopup(popup_2726149aea26617e1fdf2d6da8a5900a)\n",
       "        ;\n",
       "\n",
       "        \n",
       "    \n",
       "    \n",
       "            var marker_ab363786f725992ac965f44f12e2c0d1 = L.marker(\n",
       "                [23.137436298849373, -82.3563168151748],\n",
       "                {\n",
       "}\n",
       "            ).addTo(map_e4b9394eed1b90c36772b623ee0598e0);\n",
       "        \n",
       "    \n",
       "            var icon_fd17f08d5083dcfa2cb9bacbd4280174 = L.AwesomeMarkers.icon(\n",
       "                {\n",
       "  &quot;markerColor&quot;: &quot;red&quot;,\n",
       "  &quot;iconColor&quot;: &quot;white&quot;,\n",
       "  &quot;icon&quot;: &quot;cutlery&quot;,\n",
       "  &quot;prefix&quot;: &quot;fa&quot;,\n",
       "  &quot;extraClasses&quot;: &quot;fa-rotate-0&quot;,\n",
       "}\n",
       "            );\n",
       "            marker_ab363786f725992ac965f44f12e2c0d1.setIcon(icon_fd17f08d5083dcfa2cb9bacbd4280174);\n",
       "        \n",
       "    \n",
       "        var popup_3ee2ab0faaecda257b75b844d5d07fc1 = L.popup({\n",
       "  &quot;maxWidth&quot;: &quot;100%&quot;,\n",
       "});\n",
       "\n",
       "        \n",
       "            \n",
       "                var html_3a22e9eb4fe6eae25d1a05446866f577 = $(`&lt;div id=&quot;html_3a22e9eb4fe6eae25d1a05446866f577&quot; style=&quot;width: 100.0%; height: 100.0%;&quot;&gt;(&quot;&lt;b style=&#x27;font-size: 18px; &#x27;&gt;Habana Tokio&lt;/b&gt;&lt;br&gt;Direccion: Calle Obrapía entre Bernaza y Villegas&quot;, &quot;Especialidades: [&#x27;Japonesa&#x27;]&quot;)&lt;/div&gt;`)[0];\n",
       "                popup_3ee2ab0faaecda257b75b844d5d07fc1.setContent(html_3a22e9eb4fe6eae25d1a05446866f577);\n",
       "            \n",
       "        \n",
       "\n",
       "        marker_ab363786f725992ac965f44f12e2c0d1.bindPopup(popup_3ee2ab0faaecda257b75b844d5d07fc1)\n",
       "        ;\n",
       "\n",
       "        \n",
       "    \n",
       "    \n",
       "            var marker_74360ff7413c74014ea9c42816897aa9 = L.marker(\n",
       "                [23.131252647235588, -82.37457288968206],\n",
       "                {\n",
       "}\n",
       "            ).addTo(map_e4b9394eed1b90c36772b623ee0598e0);\n",
       "        \n",
       "    \n",
       "            var icon_250e1efd9516985943c6d4eff6a926bc = L.AwesomeMarkers.icon(\n",
       "                {\n",
       "  &quot;markerColor&quot;: &quot;red&quot;,\n",
       "  &quot;iconColor&quot;: &quot;white&quot;,\n",
       "  &quot;icon&quot;: &quot;cutlery&quot;,\n",
       "  &quot;prefix&quot;: &quot;fa&quot;,\n",
       "  &quot;extraClasses&quot;: &quot;fa-rotate-0&quot;,\n",
       "}\n",
       "            );\n",
       "            marker_74360ff7413c74014ea9c42816897aa9.setIcon(icon_250e1efd9516985943c6d4eff6a926bc);\n",
       "        \n",
       "    \n",
       "        var popup_8843a6e5055612f96cf87dc9be0ad363 = L.popup({\n",
       "  &quot;maxWidth&quot;: &quot;100%&quot;,\n",
       "});\n",
       "\n",
       "        \n",
       "            \n",
       "                var html_6b1fa274dabeb6ca3559f71b500d3658 = $(`&lt;div id=&quot;html_6b1fa274dabeb6ca3559f71b500d3658&quot; style=&quot;width: 100.0%; height: 100.0%;&quot;&gt;(&quot;&lt;b style=&#x27;font-size: 18px; &#x27;&gt;Hamburgo&lt;/b&gt;&lt;br&gt;Direccion: Carlos III entre Retiro y Arbol Seco&quot;, &quot;Especialidades: [&#x27;americana&#x27;]&quot;)&lt;/div&gt;`)[0];\n",
       "                popup_8843a6e5055612f96cf87dc9be0ad363.setContent(html_6b1fa274dabeb6ca3559f71b500d3658);\n",
       "            \n",
       "        \n",
       "\n",
       "        marker_74360ff7413c74014ea9c42816897aa9.bindPopup(popup_8843a6e5055612f96cf87dc9be0ad363)\n",
       "        ;\n",
       "\n",
       "        \n",
       "    \n",
       "    \n",
       "            var marker_0edf560689daa8b2a99bc6322bdb753a = L.marker(\n",
       "                [23.101888417856312, -82.43068882213893],\n",
       "                {\n",
       "}\n",
       "            ).addTo(map_e4b9394eed1b90c36772b623ee0598e0);\n",
       "        \n",
       "    \n",
       "            var icon_9bf7a9184bcce6a8bae9ce761b2a7167 = L.AwesomeMarkers.icon(\n",
       "                {\n",
       "  &quot;markerColor&quot;: &quot;red&quot;,\n",
       "  &quot;iconColor&quot;: &quot;white&quot;,\n",
       "  &quot;icon&quot;: &quot;cutlery&quot;,\n",
       "  &quot;prefix&quot;: &quot;fa&quot;,\n",
       "  &quot;extraClasses&quot;: &quot;fa-rotate-0&quot;,\n",
       "}\n",
       "            );\n",
       "            marker_0edf560689daa8b2a99bc6322bdb753a.setIcon(icon_9bf7a9184bcce6a8bae9ce761b2a7167);\n",
       "        \n",
       "    \n",
       "        var popup_1b64af4e74d185c970816a983dbd7e5f = L.popup({\n",
       "  &quot;maxWidth&quot;: &quot;100%&quot;,\n",
       "});\n",
       "\n",
       "        \n",
       "            \n",
       "                var html_e713d7eaf6de9b50030a5d2e44d5cc10 = $(`&lt;div id=&quot;html_e713d7eaf6de9b50030a5d2e44d5cc10&quot; style=&quot;width: 100.0%; height: 100.0%;&quot;&gt;(&quot;&lt;b style=&#x27;font-size: 18px; &#x27;&gt;Home Deli&lt;/b&gt;&lt;br&gt;Direccion: 19&quot;, &quot;Especialidades: [&#x27;italiana&#x27;]&quot;)&lt;/div&gt;`)[0];\n",
       "                popup_1b64af4e74d185c970816a983dbd7e5f.setContent(html_e713d7eaf6de9b50030a5d2e44d5cc10);\n",
       "            \n",
       "        \n",
       "\n",
       "        marker_0edf560689daa8b2a99bc6322bdb753a.bindPopup(popup_1b64af4e74d185c970816a983dbd7e5f)\n",
       "        ;\n",
       "\n",
       "        \n",
       "    \n",
       "    \n",
       "            var marker_a5082dfec9baf32860cf8074f9eac858 = L.marker(\n",
       "                [23.13499567642231, -82.37838807795364],\n",
       "                {\n",
       "}\n",
       "            ).addTo(map_e4b9394eed1b90c36772b623ee0598e0);\n",
       "        \n",
       "    \n",
       "            var icon_60e43b93e4419fe0428cfdd338e59ae2 = L.AwesomeMarkers.icon(\n",
       "                {\n",
       "  &quot;markerColor&quot;: &quot;red&quot;,\n",
       "  &quot;iconColor&quot;: &quot;white&quot;,\n",
       "  &quot;icon&quot;: &quot;cutlery&quot;,\n",
       "  &quot;prefix&quot;: &quot;fa&quot;,\n",
       "  &quot;extraClasses&quot;: &quot;fa-rotate-0&quot;,\n",
       "}\n",
       "            );\n",
       "            marker_a5082dfec9baf32860cf8074f9eac858.setIcon(icon_60e43b93e4419fe0428cfdd338e59ae2);\n",
       "        \n",
       "    \n",
       "        var popup_2f475b8cd0410dfbe3b45b9e96c9d1c2 = L.popup({\n",
       "  &quot;maxWidth&quot;: &quot;100%&quot;,\n",
       "});\n",
       "\n",
       "        \n",
       "            \n",
       "                var html_0f231174e4bf06d67bb6933a071fd710 = $(`&lt;div id=&quot;html_0f231174e4bf06d67bb6933a071fd710&quot; style=&quot;width: 100.0%; height: 100.0%;&quot;&gt;(&quot;&lt;b style=&#x27;font-size: 18px; &#x27;&gt;&lt;/b&gt;&lt;br&gt;Direccion: Infanta 560&quot;, &quot;Especialidades: [&#x27;italiana&#x27;]&quot;)&lt;/div&gt;`)[0];\n",
       "                popup_2f475b8cd0410dfbe3b45b9e96c9d1c2.setContent(html_0f231174e4bf06d67bb6933a071fd710);\n",
       "            \n",
       "        \n",
       "\n",
       "        marker_a5082dfec9baf32860cf8074f9eac858.bindPopup(popup_2f475b8cd0410dfbe3b45b9e96c9d1c2)\n",
       "        ;\n",
       "\n",
       "        \n",
       "    \n",
       "    \n",
       "            var marker_79a42805fca52bfc930e19d0af427e37 = L.marker(\n",
       "                [23.166623898573555, -82.27753889194905],\n",
       "                {\n",
       "}\n",
       "            ).addTo(map_e4b9394eed1b90c36772b623ee0598e0);\n",
       "        \n",
       "    \n",
       "            var icon_6c1b212c21a0554dcf812d5d3c783874 = L.AwesomeMarkers.icon(\n",
       "                {\n",
       "  &quot;markerColor&quot;: &quot;red&quot;,\n",
       "  &quot;iconColor&quot;: &quot;white&quot;,\n",
       "  &quot;icon&quot;: &quot;cutlery&quot;,\n",
       "  &quot;prefix&quot;: &quot;fa&quot;,\n",
       "  &quot;extraClasses&quot;: &quot;fa-rotate-0&quot;,\n",
       "}\n",
       "            );\n",
       "            marker_79a42805fca52bfc930e19d0af427e37.setIcon(icon_6c1b212c21a0554dcf812d5d3c783874);\n",
       "        \n",
       "    \n",
       "        var popup_d724c02e6656f9803f6d2c378c37b40b = L.popup({\n",
       "  &quot;maxWidth&quot;: &quot;100%&quot;,\n",
       "});\n",
       "\n",
       "        \n",
       "            \n",
       "                var html_2fde62437d2087a053174d64abc0121b = $(`&lt;div id=&quot;html_2fde62437d2087a053174d64abc0121b&quot; style=&quot;width: 100.0%; height: 100.0%;&quot;&gt;(&quot;&lt;b style=&#x27;font-size: 18px; &#x27;&gt;Jackfe&lt;/b&gt;&lt;br&gt;Direccion: Calle 164B, #3B01, Esquina 3ra B, Mercado de los Rusos, zona 1, Alamar&quot;, &quot;Especialidades: [&#x27;Comida mixta&#x27;]&quot;)&lt;/div&gt;`)[0];\n",
       "                popup_d724c02e6656f9803f6d2c378c37b40b.setContent(html_2fde62437d2087a053174d64abc0121b);\n",
       "            \n",
       "        \n",
       "\n",
       "        marker_79a42805fca52bfc930e19d0af427e37.bindPopup(popup_d724c02e6656f9803f6d2c378c37b40b)\n",
       "        ;\n",
       "\n",
       "        \n",
       "    \n",
       "    \n",
       "            var marker_0ea5ce33c6c35e21bdc0f5f4c558d246 = L.marker(\n",
       "                [23.140066946343797, -82.35321025582338],\n",
       "                {\n",
       "}\n",
       "            ).addTo(map_e4b9394eed1b90c36772b623ee0598e0);\n",
       "        \n",
       "    \n",
       "            var icon_25d70c51c829d0e234fec7d75cfa78fa = L.AwesomeMarkers.icon(\n",
       "                {\n",
       "  &quot;markerColor&quot;: &quot;red&quot;,\n",
       "  &quot;iconColor&quot;: &quot;white&quot;,\n",
       "  &quot;icon&quot;: &quot;cutlery&quot;,\n",
       "  &quot;prefix&quot;: &quot;fa&quot;,\n",
       "  &quot;extraClasses&quot;: &quot;fa-rotate-0&quot;,\n",
       "}\n",
       "            );\n",
       "            marker_0ea5ce33c6c35e21bdc0f5f4c558d246.setIcon(icon_25d70c51c829d0e234fec7d75cfa78fa);\n",
       "        \n",
       "    \n",
       "        var popup_c142e4029453d341967421b05563ba3c = L.popup({\n",
       "  &quot;maxWidth&quot;: &quot;100%&quot;,\n",
       "});\n",
       "\n",
       "        \n",
       "            \n",
       "                var html_b2f9e50ebee4c1f0f8bee183eae87a6d = $(`&lt;div id=&quot;html_b2f9e50ebee4c1f0f8bee183eae87a6d&quot; style=&quot;width: 100.0%; height: 100.0%;&quot;&gt;(&quot;&lt;b style=&#x27;font-size: 18px; &#x27;&gt;JAMA Asian Food&lt;/b&gt;&lt;br&gt;Direccion: Calle Aguiar No 251 B entre OReilly y Empedrado&quot;, &quot;Especialidades: [&#x27;Comida Japonesa&#x27;, &#x27;Sushi&#x27;, &#x27;Asiática&#x27;]&quot;)&lt;/div&gt;`)[0];\n",
       "                popup_c142e4029453d341967421b05563ba3c.setContent(html_b2f9e50ebee4c1f0f8bee183eae87a6d);\n",
       "            \n",
       "        \n",
       "\n",
       "        marker_0ea5ce33c6c35e21bdc0f5f4c558d246.bindPopup(popup_c142e4029453d341967421b05563ba3c)\n",
       "        ;\n",
       "\n",
       "        \n",
       "    \n",
       "    \n",
       "            var marker_51a95c61e3c2660ce6a6a98d8833e378 = L.marker(\n",
       "                [23.088147890970745, -82.37788683401902],\n",
       "                {\n",
       "}\n",
       "            ).addTo(map_e4b9394eed1b90c36772b623ee0598e0);\n",
       "        \n",
       "    \n",
       "            var icon_dcc331ec4b8ec63e8b481bd2bce5421a = L.AwesomeMarkers.icon(\n",
       "                {\n",
       "  &quot;markerColor&quot;: &quot;red&quot;,\n",
       "  &quot;iconColor&quot;: &quot;white&quot;,\n",
       "  &quot;icon&quot;: &quot;cutlery&quot;,\n",
       "  &quot;prefix&quot;: &quot;fa&quot;,\n",
       "  &quot;extraClasses&quot;: &quot;fa-rotate-0&quot;,\n",
       "}\n",
       "            );\n",
       "            marker_51a95c61e3c2660ce6a6a98d8833e378.setIcon(icon_dcc331ec4b8ec63e8b481bd2bce5421a);\n",
       "        \n",
       "    \n",
       "        var popup_f380c07fa7fbccae3a6c6471d6713f9d = L.popup({\n",
       "  &quot;maxWidth&quot;: &quot;100%&quot;,\n",
       "});\n",
       "\n",
       "        \n",
       "            \n",
       "                var html_f0c73172d18ca4fc016ddf1f01277f5e = $(`&lt;div id=&quot;html_f0c73172d18ca4fc016ddf1f01277f5e&quot; style=&quot;width: 100.0%; height: 100.0%;&quot;&gt;(&quot;&lt;b style=&#x27;font-size: 18px; &#x27;&gt;Joe&#x27;s Burguer&lt;/b&gt;&lt;br&gt;Direccion: Esquina Mayia Rodriguez y Aranguren&quot;, &quot;Especialidades: [&#x27;americana&#x27;, &#x27;internacional&#x27;]&quot;)&lt;/div&gt;`)[0];\n",
       "                popup_f380c07fa7fbccae3a6c6471d6713f9d.setContent(html_f0c73172d18ca4fc016ddf1f01277f5e);\n",
       "            \n",
       "        \n",
       "\n",
       "        marker_51a95c61e3c2660ce6a6a98d8833e378.bindPopup(popup_f380c07fa7fbccae3a6c6471d6713f9d)\n",
       "        ;\n",
       "\n",
       "        \n",
       "    \n",
       "    \n",
       "            var marker_e82c094350728f5d2ee74696c55274f1 = L.marker(\n",
       "                [23.12090996621169, -82.37354001445844],\n",
       "                {\n",
       "}\n",
       "            ).addTo(map_e4b9394eed1b90c36772b623ee0598e0);\n",
       "        \n",
       "    \n",
       "            var icon_82a35a2f98c9b83147eb97c0ce611f0e = L.AwesomeMarkers.icon(\n",
       "                {\n",
       "  &quot;markerColor&quot;: &quot;red&quot;,\n",
       "  &quot;iconColor&quot;: &quot;white&quot;,\n",
       "  &quot;icon&quot;: &quot;cutlery&quot;,\n",
       "  &quot;prefix&quot;: &quot;fa&quot;,\n",
       "  &quot;extraClasses&quot;: &quot;fa-rotate-0&quot;,\n",
       "}\n",
       "            );\n",
       "            marker_e82c094350728f5d2ee74696c55274f1.setIcon(icon_82a35a2f98c9b83147eb97c0ce611f0e);\n",
       "        \n",
       "    \n",
       "        var popup_9139ef9f1a44632dea201dc87f19b7bd = L.popup({\n",
       "  &quot;maxWidth&quot;: &quot;100%&quot;,\n",
       "});\n",
       "\n",
       "        \n",
       "            \n",
       "                var html_1c3e805d4699a3e0b252f13e96481d99 = $(`&lt;div id=&quot;html_1c3e805d4699a3e0b252f13e96481d99&quot; style=&quot;width: 100.0%; height: 100.0%;&quot;&gt;(&quot;&lt;b style=&#x27;font-size: 18px; &#x27;&gt;Jorgito&#x27;s Pizzas&lt;/b&gt;&lt;br&gt;Direccion: Pedroso entre Infanta y Cruz del Pader&quot;, &quot;Especialidades: [&#x27;italiana&#x27;]&quot;)&lt;/div&gt;`)[0];\n",
       "                popup_9139ef9f1a44632dea201dc87f19b7bd.setContent(html_1c3e805d4699a3e0b252f13e96481d99);\n",
       "            \n",
       "        \n",
       "\n",
       "        marker_e82c094350728f5d2ee74696c55274f1.bindPopup(popup_9139ef9f1a44632dea201dc87f19b7bd)\n",
       "        ;\n",
       "\n",
       "        \n",
       "    \n",
       "    \n",
       "            var marker_0230a34c28beb63dc09c940fcc23c5ac = L.marker(\n",
       "                [23.130003976381268, -82.41350459680528],\n",
       "                {\n",
       "}\n",
       "            ).addTo(map_e4b9394eed1b90c36772b623ee0598e0);\n",
       "        \n",
       "    \n",
       "            var icon_a6c2e30e74460c4a625f2d8c4d67d4b7 = L.AwesomeMarkers.icon(\n",
       "                {\n",
       "  &quot;markerColor&quot;: &quot;red&quot;,\n",
       "  &quot;iconColor&quot;: &quot;white&quot;,\n",
       "  &quot;icon&quot;: &quot;cutlery&quot;,\n",
       "  &quot;prefix&quot;: &quot;fa&quot;,\n",
       "  &quot;extraClasses&quot;: &quot;fa-rotate-0&quot;,\n",
       "}\n",
       "            );\n",
       "            marker_0230a34c28beb63dc09c940fcc23c5ac.setIcon(icon_a6c2e30e74460c4a625f2d8c4d67d4b7);\n",
       "        \n",
       "    \n",
       "        var popup_64a65cbfeb9903ce74df6e306ef66622 = L.popup({\n",
       "  &quot;maxWidth&quot;: &quot;100%&quot;,\n",
       "});\n",
       "\n",
       "        \n",
       "            \n",
       "                var html_90be5be0f5a00caa0e908521960bc22d = $(`&lt;div id=&quot;html_90be5be0f5a00caa0e908521960bc22d&quot; style=&quot;width: 100.0%; height: 100.0%;&quot;&gt;(&quot;&lt;b style=&#x27;font-size: 18px; &#x27;&gt;Jota Jota&lt;/b&gt;&lt;br&gt;Direccion: Calle 0 entre 3ra y 5ta&quot;, &quot;Especialidades: [&#x27;italiana&#x27;]&quot;)&lt;/div&gt;`)[0];\n",
       "                popup_64a65cbfeb9903ce74df6e306ef66622.setContent(html_90be5be0f5a00caa0e908521960bc22d);\n",
       "            \n",
       "        \n",
       "\n",
       "        marker_0230a34c28beb63dc09c940fcc23c5ac.bindPopup(popup_64a65cbfeb9903ce74df6e306ef66622)\n",
       "        ;\n",
       "\n",
       "        \n",
       "    \n",
       "    \n",
       "            var marker_f756a1457f779f2e8ce9e7168b9eab7b = L.marker(\n",
       "                [23.07212815069161, -82.46031809008416],\n",
       "                {\n",
       "}\n",
       "            ).addTo(map_e4b9394eed1b90c36772b623ee0598e0);\n",
       "        \n",
       "    \n",
       "            var icon_185de6aa20d82791634458fc2919aaa7 = L.AwesomeMarkers.icon(\n",
       "                {\n",
       "  &quot;markerColor&quot;: &quot;red&quot;,\n",
       "  &quot;iconColor&quot;: &quot;white&quot;,\n",
       "  &quot;icon&quot;: &quot;cutlery&quot;,\n",
       "  &quot;prefix&quot;: &quot;fa&quot;,\n",
       "  &quot;extraClasses&quot;: &quot;fa-rotate-0&quot;,\n",
       "}\n",
       "            );\n",
       "            marker_f756a1457f779f2e8ce9e7168b9eab7b.setIcon(icon_185de6aa20d82791634458fc2919aaa7);\n",
       "        \n",
       "    \n",
       "        var popup_77e536b575f026a16b1011c8487c23cf = L.popup({\n",
       "  &quot;maxWidth&quot;: &quot;100%&quot;,\n",
       "});\n",
       "\n",
       "        \n",
       "            \n",
       "                var html_e63008c1218d01a7065cb2f6f4b9ad50 = $(`&lt;div id=&quot;html_e63008c1218d01a7065cb2f6f4b9ad50&quot; style=&quot;width: 100.0%; height: 100.0%;&quot;&gt;(&quot;&lt;b style=&#x27;font-size: 18px; &#x27;&gt;Juanky&#x27;s Pan&lt;/b&gt;&lt;br&gt;Direccion: 23 A entre 202 y 212 Reparto la Coronela &quot;, &quot;Especialidades: [&#x27;sandwich&#x27;]&quot;)&lt;/div&gt;`)[0];\n",
       "                popup_77e536b575f026a16b1011c8487c23cf.setContent(html_e63008c1218d01a7065cb2f6f4b9ad50);\n",
       "            \n",
       "        \n",
       "\n",
       "        marker_f756a1457f779f2e8ce9e7168b9eab7b.bindPopup(popup_77e536b575f026a16b1011c8487c23cf)\n",
       "        ;\n",
       "\n",
       "        \n",
       "    \n",
       "    \n",
       "            var marker_7305015f257882671eb61ebb2cda9b4e = L.marker(\n",
       "                [23.139549087699173, -82.3756494611986],\n",
       "                {\n",
       "}\n",
       "            ).addTo(map_e4b9394eed1b90c36772b623ee0598e0);\n",
       "        \n",
       "    \n",
       "            var icon_bede6a888a0f197021692c39c8e75653 = L.AwesomeMarkers.icon(\n",
       "                {\n",
       "  &quot;markerColor&quot;: &quot;red&quot;,\n",
       "  &quot;iconColor&quot;: &quot;white&quot;,\n",
       "  &quot;icon&quot;: &quot;cutlery&quot;,\n",
       "  &quot;prefix&quot;: &quot;fa&quot;,\n",
       "  &quot;extraClasses&quot;: &quot;fa-rotate-0&quot;,\n",
       "}\n",
       "            );\n",
       "            marker_7305015f257882671eb61ebb2cda9b4e.setIcon(icon_bede6a888a0f197021692c39c8e75653);\n",
       "        \n",
       "    \n",
       "        var popup_523553dd0a7fbb71ec96057d87013a87 = L.popup({\n",
       "  &quot;maxWidth&quot;: &quot;100%&quot;,\n",
       "});\n",
       "\n",
       "        \n",
       "            \n",
       "                var html_0c5a83cce1cfbe91b81da090e8777024 = $(`&lt;div id=&quot;html_0c5a83cce1cfbe91b81da090e8777024&quot; style=&quot;width: 100.0%; height: 100.0%;&quot;&gt;(&quot;&lt;b style=&#x27;font-size: 18px; &#x27;&gt;Kasa Takos&lt;/b&gt;&lt;br&gt;Direccion: Hospital y Aramburu, 966 entre San Lazaro&quot;, &quot;Especialidades: [&#x27;Comida caribeña&#x27;, &#x27;mexicana&#x27;, &#x27;cubana&#x27;]&quot;)&lt;/div&gt;`)[0];\n",
       "                popup_523553dd0a7fbb71ec96057d87013a87.setContent(html_0c5a83cce1cfbe91b81da090e8777024);\n",
       "            \n",
       "        \n",
       "\n",
       "        marker_7305015f257882671eb61ebb2cda9b4e.bindPopup(popup_523553dd0a7fbb71ec96057d87013a87)\n",
       "        ;\n",
       "\n",
       "        \n",
       "    \n",
       "    \n",
       "            var marker_cd77a3e3a163d34c4459b3c4e980d2dc = L.marker(\n",
       "                [23.07982261108124, -82.32043410333418],\n",
       "                {\n",
       "}\n",
       "            ).addTo(map_e4b9394eed1b90c36772b623ee0598e0);\n",
       "        \n",
       "    \n",
       "            var icon_c42e10839536ec29f555caa9a0dc2b84 = L.AwesomeMarkers.icon(\n",
       "                {\n",
       "  &quot;markerColor&quot;: &quot;red&quot;,\n",
       "  &quot;iconColor&quot;: &quot;white&quot;,\n",
       "  &quot;icon&quot;: &quot;cutlery&quot;,\n",
       "  &quot;prefix&quot;: &quot;fa&quot;,\n",
       "  &quot;extraClasses&quot;: &quot;fa-rotate-0&quot;,\n",
       "}\n",
       "            );\n",
       "            marker_cd77a3e3a163d34c4459b3c4e980d2dc.setIcon(icon_c42e10839536ec29f555caa9a0dc2b84);\n",
       "        \n",
       "    \n",
       "        var popup_7d7ef7383705ded048eff152cecc8538 = L.popup({\n",
       "  &quot;maxWidth&quot;: &quot;100%&quot;,\n",
       "});\n",
       "\n",
       "        \n",
       "            \n",
       "                var html_2f0cb7329a7bc045ebb8ff475b0784b9 = $(`&lt;div id=&quot;html_2f0cb7329a7bc045ebb8ff475b0784b9&quot; style=&quot;width: 100.0%; height: 100.0%;&quot;&gt;(&quot;&lt;b style=&#x27;font-size: 18px; &#x27;&gt;KY-13&lt;/b&gt;&lt;br&gt;Direccion: Calzada de guines #45 e/ 13 y 23 AMP. San Matias&quot;, &quot;Especialidades: [&#x27;criolla&#x27;, &#x27;italiana&#x27;]&quot;)&lt;/div&gt;`)[0];\n",
       "                popup_7d7ef7383705ded048eff152cecc8538.setContent(html_2f0cb7329a7bc045ebb8ff475b0784b9);\n",
       "            \n",
       "        \n",
       "\n",
       "        marker_cd77a3e3a163d34c4459b3c4e980d2dc.bindPopup(popup_7d7ef7383705ded048eff152cecc8538)\n",
       "        ;\n",
       "\n",
       "        \n",
       "    \n",
       "    \n",
       "            var marker_634eeefb8ab6b9e969d938c8f83a8b96 = L.marker(\n",
       "                [23.14012116111188, -82.4018177339757],\n",
       "                {\n",
       "}\n",
       "            ).addTo(map_e4b9394eed1b90c36772b623ee0598e0);\n",
       "        \n",
       "    \n",
       "            var icon_b5f1143c9793408a744c76020763e9e5 = L.AwesomeMarkers.icon(\n",
       "                {\n",
       "  &quot;markerColor&quot;: &quot;red&quot;,\n",
       "  &quot;iconColor&quot;: &quot;white&quot;,\n",
       "  &quot;icon&quot;: &quot;cutlery&quot;,\n",
       "  &quot;prefix&quot;: &quot;fa&quot;,\n",
       "  &quot;extraClasses&quot;: &quot;fa-rotate-0&quot;,\n",
       "}\n",
       "            );\n",
       "            marker_634eeefb8ab6b9e969d938c8f83a8b96.setIcon(icon_b5f1143c9793408a744c76020763e9e5);\n",
       "        \n",
       "    \n",
       "        var popup_f67986eb8f89647e2043b12ad4019cd1 = L.popup({\n",
       "  &quot;maxWidth&quot;: &quot;100%&quot;,\n",
       "});\n",
       "\n",
       "        \n",
       "            \n",
       "                var html_9bb27e3738850affebec962e1e463c4d = $(`&lt;div id=&quot;html_9bb27e3738850affebec962e1e463c4d&quot; style=&quot;width: 100.0%; height: 100.0%;&quot;&gt;(&quot;&lt;b style=&#x27;font-size: 18px; &#x27;&gt;La Cocinita&lt;/b&gt;&lt;br&gt;Direccion: Paseo entre 1era y 3era, Vedado&quot;, &quot;Especialidades: [&#x27;Comida cubana&#x27;, &#x27;caribeña&#x27;, &#x27;latina&#x27;, &#x27;criolla&#x27;]&quot;)&lt;/div&gt;`)[0];\n",
       "                popup_f67986eb8f89647e2043b12ad4019cd1.setContent(html_9bb27e3738850affebec962e1e463c4d);\n",
       "            \n",
       "        \n",
       "\n",
       "        marker_634eeefb8ab6b9e969d938c8f83a8b96.bindPopup(popup_f67986eb8f89647e2043b12ad4019cd1)\n",
       "        ;\n",
       "\n",
       "        \n",
       "    \n",
       "    \n",
       "            var marker_fdb73889faa3001a73f8eaea8f193f5f = L.marker(\n",
       "                [23.04493541439918, -82.26869240537707],\n",
       "                {\n",
       "}\n",
       "            ).addTo(map_e4b9394eed1b90c36772b623ee0598e0);\n",
       "        \n",
       "    \n",
       "            var icon_418824ea38af7b1328a208c009dcb2b5 = L.AwesomeMarkers.icon(\n",
       "                {\n",
       "  &quot;markerColor&quot;: &quot;red&quot;,\n",
       "  &quot;iconColor&quot;: &quot;white&quot;,\n",
       "  &quot;icon&quot;: &quot;cutlery&quot;,\n",
       "  &quot;prefix&quot;: &quot;fa&quot;,\n",
       "  &quot;extraClasses&quot;: &quot;fa-rotate-0&quot;,\n",
       "}\n",
       "            );\n",
       "            marker_fdb73889faa3001a73f8eaea8f193f5f.setIcon(icon_418824ea38af7b1328a208c009dcb2b5);\n",
       "        \n",
       "    \n",
       "        var popup_1cdcd0e11232d25e48b86042947cbf88 = L.popup({\n",
       "  &quot;maxWidth&quot;: &quot;100%&quot;,\n",
       "});\n",
       "\n",
       "        \n",
       "            \n",
       "                var html_8b96fd73f244dd0e47268b0e88aed39f = $(`&lt;div id=&quot;html_8b96fd73f244dd0e47268b0e88aed39f&quot; style=&quot;width: 100.0%; height: 100.0%;&quot;&gt;(&quot;&lt;b style=&#x27;font-size: 18px; &#x27;&gt;La esquinita del Cotorro&lt;/b&gt;&lt;br&gt;Direccion: Avenida 71&quot;, &quot;Especialidades: [&#x27;hamburguesas&#x27;]&quot;)&lt;/div&gt;`)[0];\n",
       "                popup_1cdcd0e11232d25e48b86042947cbf88.setContent(html_8b96fd73f244dd0e47268b0e88aed39f);\n",
       "            \n",
       "        \n",
       "\n",
       "        marker_fdb73889faa3001a73f8eaea8f193f5f.bindPopup(popup_1cdcd0e11232d25e48b86042947cbf88)\n",
       "        ;\n",
       "\n",
       "        \n",
       "    \n",
       "    \n",
       "            var marker_3f27e01d6e58ed1368a458ce3cb2b6ed = L.marker(\n",
       "                [23.07120986898905, -82.46001932800391],\n",
       "                {\n",
       "}\n",
       "            ).addTo(map_e4b9394eed1b90c36772b623ee0598e0);\n",
       "        \n",
       "    \n",
       "            var icon_fb4bcbf3d8dde16682183696984d9001 = L.AwesomeMarkers.icon(\n",
       "                {\n",
       "  &quot;markerColor&quot;: &quot;red&quot;,\n",
       "  &quot;iconColor&quot;: &quot;white&quot;,\n",
       "  &quot;icon&quot;: &quot;cutlery&quot;,\n",
       "  &quot;prefix&quot;: &quot;fa&quot;,\n",
       "  &quot;extraClasses&quot;: &quot;fa-rotate-0&quot;,\n",
       "}\n",
       "            );\n",
       "            marker_3f27e01d6e58ed1368a458ce3cb2b6ed.setIcon(icon_fb4bcbf3d8dde16682183696984d9001);\n",
       "        \n",
       "    \n",
       "        var popup_08c7946d8edeaa9e28bfcdedefeeed2e = L.popup({\n",
       "  &quot;maxWidth&quot;: &quot;100%&quot;,\n",
       "});\n",
       "\n",
       "        \n",
       "            \n",
       "                var html_162923fa390ebb7b090eb1d3ed6db6bb = $(`&lt;div id=&quot;html_162923fa390ebb7b090eb1d3ed6db6bb&quot; style=&quot;width: 100.0%; height: 100.0%;&quot;&gt;(&quot;&lt;b style=&#x27;font-size: 18px; &#x27;&gt;La Mia Pizza&lt;/b&gt;&lt;br&gt;Direccion: 29 y 23A&quot;, &quot;Especialidades: [&#x27;italiana&#x27;]&quot;)&lt;/div&gt;`)[0];\n",
       "                popup_08c7946d8edeaa9e28bfcdedefeeed2e.setContent(html_162923fa390ebb7b090eb1d3ed6db6bb);\n",
       "            \n",
       "        \n",
       "\n",
       "        marker_3f27e01d6e58ed1368a458ce3cb2b6ed.bindPopup(popup_08c7946d8edeaa9e28bfcdedefeeed2e)\n",
       "        ;\n",
       "\n",
       "        \n",
       "    \n",
       "    \n",
       "            var marker_6ba829b821a076188bab0021b16ae55a = L.marker(\n",
       "                [23.025265299543545, -82.46372134720235],\n",
       "                {\n",
       "}\n",
       "            ).addTo(map_e4b9394eed1b90c36772b623ee0598e0);\n",
       "        \n",
       "    \n",
       "            var icon_d2ecb9f47f53fbe08524587524cf4b69 = L.AwesomeMarkers.icon(\n",
       "                {\n",
       "  &quot;markerColor&quot;: &quot;red&quot;,\n",
       "  &quot;iconColor&quot;: &quot;white&quot;,\n",
       "  &quot;icon&quot;: &quot;cutlery&quot;,\n",
       "  &quot;prefix&quot;: &quot;fa&quot;,\n",
       "  &quot;extraClasses&quot;: &quot;fa-rotate-0&quot;,\n",
       "}\n",
       "            );\n",
       "            marker_6ba829b821a076188bab0021b16ae55a.setIcon(icon_d2ecb9f47f53fbe08524587524cf4b69);\n",
       "        \n",
       "    \n",
       "        var popup_5ad086a58c4a60789785c29dd4570299 = L.popup({\n",
       "  &quot;maxWidth&quot;: &quot;100%&quot;,\n",
       "});\n",
       "\n",
       "        \n",
       "            \n",
       "                var html_18e62bb4dc8d24c1fcb5b86fb22136d3 = $(`&lt;div id=&quot;html_18e62bb4dc8d24c1fcb5b86fb22136d3&quot; style=&quot;width: 100.0%; height: 100.0%;&quot;&gt;(&quot;&lt;b style=&#x27;font-size: 18px; &#x27;&gt; La Novia&lt;/b&gt;&lt;br&gt;Direccion: Calle 51 entre 330 y 332 numero 33013, La novia del mediodia&quot;, &quot;Especialidades: [&#x27;Cubana&#x27;, &#x27;Italiana&#x27;, &#x27;criolla&#x27;]&quot;)&lt;/div&gt;`)[0];\n",
       "                popup_5ad086a58c4a60789785c29dd4570299.setContent(html_18e62bb4dc8d24c1fcb5b86fb22136d3);\n",
       "            \n",
       "        \n",
       "\n",
       "        marker_6ba829b821a076188bab0021b16ae55a.bindPopup(popup_5ad086a58c4a60789785c29dd4570299)\n",
       "        ;\n",
       "\n",
       "        \n",
       "    \n",
       "    \n",
       "            var marker_c77a1bced3ae3262cdb82373d9d8807c = L.marker(\n",
       "                [23.10168916405231, -82.3749154033336],\n",
       "                {\n",
       "}\n",
       "            ).addTo(map_e4b9394eed1b90c36772b623ee0598e0);\n",
       "        \n",
       "    \n",
       "            var icon_42fd6c97317f5c97bb36644afac0f5d8 = L.AwesomeMarkers.icon(\n",
       "                {\n",
       "  &quot;markerColor&quot;: &quot;red&quot;,\n",
       "  &quot;iconColor&quot;: &quot;white&quot;,\n",
       "  &quot;icon&quot;: &quot;cutlery&quot;,\n",
       "  &quot;prefix&quot;: &quot;fa&quot;,\n",
       "  &quot;extraClasses&quot;: &quot;fa-rotate-0&quot;,\n",
       "}\n",
       "            );\n",
       "            marker_c77a1bced3ae3262cdb82373d9d8807c.setIcon(icon_42fd6c97317f5c97bb36644afac0f5d8);\n",
       "        \n",
       "    \n",
       "        var popup_c87467e4ce03c915fc54900a5020d80c = L.popup({\n",
       "  &quot;maxWidth&quot;: &quot;100%&quot;,\n",
       "});\n",
       "\n",
       "        \n",
       "            \n",
       "                var html_0737e347933bf16d956e1010891352ed = $(`&lt;div id=&quot;html_0737e347933bf16d956e1010891352ed&quot; style=&quot;width: 100.0%; height: 100.0%;&quot;&gt;(&quot;&lt;b style=&#x27;font-size: 18px; &#x27;&gt;Lacret 559&lt;/b&gt;&lt;br&gt;Direccion: Gral. Lacret entre Avenida Mayia Rodriguez y Goicuria&quot;, &quot;Especialidades: [&#x27;mixta&#x27;]&quot;)&lt;/div&gt;`)[0];\n",
       "                popup_c87467e4ce03c915fc54900a5020d80c.setContent(html_0737e347933bf16d956e1010891352ed);\n",
       "            \n",
       "        \n",
       "\n",
       "        marker_c77a1bced3ae3262cdb82373d9d8807c.bindPopup(popup_c87467e4ce03c915fc54900a5020d80c)\n",
       "        ;\n",
       "\n",
       "        \n",
       "    \n",
       "    \n",
       "            var marker_3337d8cf7c7e502e87cb2327a1ee003c = L.marker(\n",
       "                [23.12193638525617, -82.37392744585779],\n",
       "                {\n",
       "}\n",
       "            ).addTo(map_e4b9394eed1b90c36772b623ee0598e0);\n",
       "        \n",
       "    \n",
       "            var icon_dbf4d5c4e5003b4f5ddb4718bb547f6f = L.AwesomeMarkers.icon(\n",
       "                {\n",
       "  &quot;markerColor&quot;: &quot;red&quot;,\n",
       "  &quot;iconColor&quot;: &quot;white&quot;,\n",
       "  &quot;icon&quot;: &quot;cutlery&quot;,\n",
       "  &quot;prefix&quot;: &quot;fa&quot;,\n",
       "  &quot;extraClasses&quot;: &quot;fa-rotate-0&quot;,\n",
       "}\n",
       "            );\n",
       "            marker_3337d8cf7c7e502e87cb2327a1ee003c.setIcon(icon_dbf4d5c4e5003b4f5ddb4718bb547f6f);\n",
       "        \n",
       "    \n",
       "        var popup_10c8ca96ecfed563a020609d5c379f03 = L.popup({\n",
       "  &quot;maxWidth&quot;: &quot;100%&quot;,\n",
       "});\n",
       "\n",
       "        \n",
       "            \n",
       "                var html_93bce5d0d9216b20691dcaa1b3c877b3 = $(`&lt;div id=&quot;html_93bce5d0d9216b20691dcaa1b3c877b3&quot; style=&quot;width: 100.0%; height: 100.0%;&quot;&gt;(&quot;&lt;b style=&#x27;font-size: 18px; &#x27;&gt;La Barrita Onbazar&lt;/b&gt;&lt;br&gt;Direccion: Amenidad entre Cruz del Pader e Infanta&quot;, &quot;Especialidades: [&#x27;italiana&#x27;]&quot;)&lt;/div&gt;`)[0];\n",
       "                popup_10c8ca96ecfed563a020609d5c379f03.setContent(html_93bce5d0d9216b20691dcaa1b3c877b3);\n",
       "            \n",
       "        \n",
       "\n",
       "        marker_3337d8cf7c7e502e87cb2327a1ee003c.bindPopup(popup_10c8ca96ecfed563a020609d5c379f03)\n",
       "        ;\n",
       "\n",
       "        \n",
       "    \n",
       "    \n",
       "            var marker_935dd5de817589974ae21c3f0d9bbac4 = L.marker(\n",
       "                [23.109190666229015, -82.38277310352859],\n",
       "                {\n",
       "}\n",
       "            ).addTo(map_e4b9394eed1b90c36772b623ee0598e0);\n",
       "        \n",
       "    \n",
       "            var icon_eda2ea7008cb552ffe960d3792dc1316 = L.AwesomeMarkers.icon(\n",
       "                {\n",
       "  &quot;markerColor&quot;: &quot;red&quot;,\n",
       "  &quot;iconColor&quot;: &quot;white&quot;,\n",
       "  &quot;icon&quot;: &quot;cutlery&quot;,\n",
       "  &quot;prefix&quot;: &quot;fa&quot;,\n",
       "  &quot;extraClasses&quot;: &quot;fa-rotate-0&quot;,\n",
       "}\n",
       "            );\n",
       "            marker_935dd5de817589974ae21c3f0d9bbac4.setIcon(icon_eda2ea7008cb552ffe960d3792dc1316);\n",
       "        \n",
       "    \n",
       "        var popup_6685e8546c42e295f3fb0b22e1b71acd = L.popup({\n",
       "  &quot;maxWidth&quot;: &quot;100%&quot;,\n",
       "});\n",
       "\n",
       "        \n",
       "            \n",
       "                var html_f1d3372e45d9844662ad0081642c03a9 = $(`&lt;div id=&quot;html_f1d3372e45d9844662ad0081642c03a9&quot; style=&quot;width: 100.0%; height: 100.0%;&quot;&gt;(&quot;&lt;b style=&#x27;font-size: 18px; &#x27;&gt;La Casona del Cerro&lt;/b&gt;&lt;br&gt;Direccion: Calzada del Cerro entre Alzobispo y Penon&quot;, &quot;Especialidades: [&#x27;Comida Criolla&#x27;]&quot;)&lt;/div&gt;`)[0];\n",
       "                popup_6685e8546c42e295f3fb0b22e1b71acd.setContent(html_f1d3372e45d9844662ad0081642c03a9);\n",
       "            \n",
       "        \n",
       "\n",
       "        marker_935dd5de817589974ae21c3f0d9bbac4.bindPopup(popup_6685e8546c42e295f3fb0b22e1b71acd)\n",
       "        ;\n",
       "\n",
       "        \n",
       "    \n",
       "    \n",
       "            var marker_c1663a75beb6a120f3fb094979f3916e = L.marker(\n",
       "                [23.104975882244233, -82.44258298436951],\n",
       "                {\n",
       "}\n",
       "            ).addTo(map_e4b9394eed1b90c36772b623ee0598e0);\n",
       "        \n",
       "    \n",
       "            var icon_07e3d9c7fb72235eab915dc1f66a404f = L.AwesomeMarkers.icon(\n",
       "                {\n",
       "  &quot;markerColor&quot;: &quot;red&quot;,\n",
       "  &quot;iconColor&quot;: &quot;white&quot;,\n",
       "  &quot;icon&quot;: &quot;cutlery&quot;,\n",
       "  &quot;prefix&quot;: &quot;fa&quot;,\n",
       "  &quot;extraClasses&quot;: &quot;fa-rotate-0&quot;,\n",
       "}\n",
       "            );\n",
       "            marker_c1663a75beb6a120f3fb094979f3916e.setIcon(icon_07e3d9c7fb72235eab915dc1f66a404f);\n",
       "        \n",
       "    \n",
       "        var popup_423e4fae372c1db7cc6e033a1abef534 = L.popup({\n",
       "  &quot;maxWidth&quot;: &quot;100%&quot;,\n",
       "});\n",
       "\n",
       "        \n",
       "            \n",
       "                var html_3dc5f8cb1516ee3980a130fa43be88ca = $(`&lt;div id=&quot;html_3dc5f8cb1516ee3980a130fa43be88ca&quot; style=&quot;width: 100.0%; height: 100.0%;&quot;&gt;(&quot;&lt;b style=&#x27;font-size: 18px; &#x27;&gt;La Catrina&lt;/b&gt;&lt;br&gt;Direccion: 503 84&quot;, &quot;Especialidades: [&#x27;mexicana&#x27;]&quot;)&lt;/div&gt;`)[0];\n",
       "                popup_423e4fae372c1db7cc6e033a1abef534.setContent(html_3dc5f8cb1516ee3980a130fa43be88ca);\n",
       "            \n",
       "        \n",
       "\n",
       "        marker_c1663a75beb6a120f3fb094979f3916e.bindPopup(popup_423e4fae372c1db7cc6e033a1abef534)\n",
       "        ;\n",
       "\n",
       "        \n",
       "    \n",
       "    \n",
       "            var marker_0d38f944501f10d3bc3534d19c80c8a7 = L.marker(\n",
       "                [23.148019759241123, -82.35245541091525],\n",
       "                {\n",
       "}\n",
       "            ).addTo(map_e4b9394eed1b90c36772b623ee0598e0);\n",
       "        \n",
       "    \n",
       "            var icon_5a9c0f754d32b46371c32a9a45044064 = L.AwesomeMarkers.icon(\n",
       "                {\n",
       "  &quot;markerColor&quot;: &quot;red&quot;,\n",
       "  &quot;iconColor&quot;: &quot;white&quot;,\n",
       "  &quot;icon&quot;: &quot;cutlery&quot;,\n",
       "  &quot;prefix&quot;: &quot;fa&quot;,\n",
       "  &quot;extraClasses&quot;: &quot;fa-rotate-0&quot;,\n",
       "}\n",
       "            );\n",
       "            marker_0d38f944501f10d3bc3534d19c80c8a7.setIcon(icon_5a9c0f754d32b46371c32a9a45044064);\n",
       "        \n",
       "    \n",
       "        var popup_7af7ab141e066a10e3e328d48f3dbb00 = L.popup({\n",
       "  &quot;maxWidth&quot;: &quot;100%&quot;,\n",
       "});\n",
       "\n",
       "        \n",
       "            \n",
       "                var html_e81919f249f1cf104b21db176ca849ef = $(`&lt;div id=&quot;html_e81919f249f1cf104b21db176ca849ef&quot; style=&quot;width: 100.0%; height: 100.0%;&quot;&gt;(&quot;&lt;b style=&#x27;font-size: 18px; &#x27;&gt;La Divina Pastora&lt;/b&gt;&lt;br&gt;Direccion: Complejo Morro Cabana, Via Monumental&quot;, &quot;Especialidades: [&#x27;Cubana&#x27;, &#x27;criolla&#x27;]&quot;)&lt;/div&gt;`)[0];\n",
       "                popup_7af7ab141e066a10e3e328d48f3dbb00.setContent(html_e81919f249f1cf104b21db176ca849ef);\n",
       "            \n",
       "        \n",
       "\n",
       "        marker_0d38f944501f10d3bc3534d19c80c8a7.bindPopup(popup_7af7ab141e066a10e3e328d48f3dbb00)\n",
       "        ;\n",
       "\n",
       "        \n",
       "    \n",
       "    \n",
       "            var marker_bb70ad80d47ea925c1835800833c3d93 = L.marker(\n",
       "                [23.140853253946666, -82.35265198633945],\n",
       "                {\n",
       "}\n",
       "            ).addTo(map_e4b9394eed1b90c36772b623ee0598e0);\n",
       "        \n",
       "    \n",
       "            var icon_5158acfc4e73bd940c2c420fd585dd1e = L.AwesomeMarkers.icon(\n",
       "                {\n",
       "  &quot;markerColor&quot;: &quot;red&quot;,\n",
       "  &quot;iconColor&quot;: &quot;white&quot;,\n",
       "  &quot;icon&quot;: &quot;cutlery&quot;,\n",
       "  &quot;prefix&quot;: &quot;fa&quot;,\n",
       "  &quot;extraClasses&quot;: &quot;fa-rotate-0&quot;,\n",
       "}\n",
       "            );\n",
       "            marker_bb70ad80d47ea925c1835800833c3d93.setIcon(icon_5158acfc4e73bd940c2c420fd585dd1e);\n",
       "        \n",
       "    \n",
       "        var popup_ad1a5745f9c990779b9b054bd88cf108 = L.popup({\n",
       "  &quot;maxWidth&quot;: &quot;100%&quot;,\n",
       "});\n",
       "\n",
       "        \n",
       "            \n",
       "                var html_e65f4829204f03a591971195c9ede5ea = $(`&lt;div id=&quot;html_e65f4829204f03a591971195c9ede5ea&quot; style=&quot;width: 100.0%; height: 100.0%;&quot;&gt;(&quot;&lt;b style=&#x27;font-size: 18px; &#x27;&gt;La Esquina de Cuba&lt;/b&gt;&lt;br&gt;Direccion: Esquina de Calle Cuba y Empedrado&quot;, &quot;Especialidades: [&#x27;Comida mixta&#x27;]&quot;)&lt;/div&gt;`)[0];\n",
       "                popup_ad1a5745f9c990779b9b054bd88cf108.setContent(html_e65f4829204f03a591971195c9ede5ea);\n",
       "            \n",
       "        \n",
       "\n",
       "        marker_bb70ad80d47ea925c1835800833c3d93.bindPopup(popup_ad1a5745f9c990779b9b054bd88cf108)\n",
       "        ;\n",
       "\n",
       "        \n",
       "    \n",
       "    \n",
       "            var marker_432c8dbe20641d7baa73d018d0aa5137 = L.marker(\n",
       "                [23.099899183973307, -82.37926905264563],\n",
       "                {\n",
       "}\n",
       "            ).addTo(map_e4b9394eed1b90c36772b623ee0598e0);\n",
       "        \n",
       "    \n",
       "            var icon_89c3c0f941bb5247a222bcd08ec66760 = L.AwesomeMarkers.icon(\n",
       "                {\n",
       "  &quot;markerColor&quot;: &quot;red&quot;,\n",
       "  &quot;iconColor&quot;: &quot;white&quot;,\n",
       "  &quot;icon&quot;: &quot;cutlery&quot;,\n",
       "  &quot;prefix&quot;: &quot;fa&quot;,\n",
       "  &quot;extraClasses&quot;: &quot;fa-rotate-0&quot;,\n",
       "}\n",
       "            );\n",
       "            marker_432c8dbe20641d7baa73d018d0aa5137.setIcon(icon_89c3c0f941bb5247a222bcd08ec66760);\n",
       "        \n",
       "    \n",
       "        var popup_d27d402c1e03e4e32c8173322109f482 = L.popup({\n",
       "  &quot;maxWidth&quot;: &quot;100%&quot;,\n",
       "});\n",
       "\n",
       "        \n",
       "            \n",
       "                var html_07aca6325d5237f3957be68799663b7f = $(`&lt;div id=&quot;html_07aca6325d5237f3957be68799663b7f&quot; style=&quot;width: 100.0%; height: 100.0%;&quot;&gt;(&quot;&lt;b style=&#x27;font-size: 18px; &#x27;&gt;La Esquinita&lt;/b&gt;&lt;br&gt;Direccion: Juan Lefont entre Libertad y Johnson, Santos Suárez&quot;, &quot;Especialidades: [&#x27;criolla&#x27;, &#x27;cubana&#x27;, &#x27;italiana&#x27;]&quot;)&lt;/div&gt;`)[0];\n",
       "                popup_d27d402c1e03e4e32c8173322109f482.setContent(html_07aca6325d5237f3957be68799663b7f);\n",
       "            \n",
       "        \n",
       "\n",
       "        marker_432c8dbe20641d7baa73d018d0aa5137.bindPopup(popup_d27d402c1e03e4e32c8173322109f482)\n",
       "        ;\n",
       "\n",
       "        \n",
       "    \n",
       "    \n",
       "            var marker_8bb78bf78c4889dfa8e3b05d2cf75794 = L.marker(\n",
       "                [23.131650837595345, -82.35778799003404],\n",
       "                {\n",
       "}\n",
       "            ).addTo(map_e4b9394eed1b90c36772b623ee0598e0);\n",
       "        \n",
       "    \n",
       "            var icon_0498fc8afb0b01c42c066fb20cec7307 = L.AwesomeMarkers.icon(\n",
       "                {\n",
       "  &quot;markerColor&quot;: &quot;red&quot;,\n",
       "  &quot;iconColor&quot;: &quot;white&quot;,\n",
       "  &quot;icon&quot;: &quot;cutlery&quot;,\n",
       "  &quot;prefix&quot;: &quot;fa&quot;,\n",
       "  &quot;extraClasses&quot;: &quot;fa-rotate-0&quot;,\n",
       "}\n",
       "            );\n",
       "            marker_8bb78bf78c4889dfa8e3b05d2cf75794.setIcon(icon_0498fc8afb0b01c42c066fb20cec7307);\n",
       "        \n",
       "    \n",
       "        var popup_2215d861e40934f9ae1b2004123f01f0 = L.popup({\n",
       "  &quot;maxWidth&quot;: &quot;100%&quot;,\n",
       "});\n",
       "\n",
       "        \n",
       "            \n",
       "                var html_975339b247b25cd997c486244cb5ef86 = $(`&lt;div id=&quot;html_975339b247b25cd997c486244cb5ef86&quot; style=&quot;width: 100.0%; height: 100.0%;&quot;&gt;(&quot;&lt;b style=&#x27;font-size: 18px; &#x27;&gt;La Hamburguesita&lt;/b&gt;&lt;br&gt;Direccion: Calle Cienfuegos entre Apodaca y Gloria&quot;, &quot;Especialidades: [&#x27;Americana&#x27;]&quot;)&lt;/div&gt;`)[0];\n",
       "                popup_2215d861e40934f9ae1b2004123f01f0.setContent(html_975339b247b25cd997c486244cb5ef86);\n",
       "            \n",
       "        \n",
       "\n",
       "        marker_8bb78bf78c4889dfa8e3b05d2cf75794.bindPopup(popup_2215d861e40934f9ae1b2004123f01f0)\n",
       "        ;\n",
       "\n",
       "        \n",
       "    \n",
       "    \n",
       "            var marker_3cd54b860296bebe834c1c764888e552 = L.marker(\n",
       "                [23.13558286521522, -82.36431708633963],\n",
       "                {\n",
       "}\n",
       "            ).addTo(map_e4b9394eed1b90c36772b623ee0598e0);\n",
       "        \n",
       "    \n",
       "            var icon_90022de04c61950ad9548885586525a4 = L.AwesomeMarkers.icon(\n",
       "                {\n",
       "  &quot;markerColor&quot;: &quot;red&quot;,\n",
       "  &quot;iconColor&quot;: &quot;white&quot;,\n",
       "  &quot;icon&quot;: &quot;cutlery&quot;,\n",
       "  &quot;prefix&quot;: &quot;fa&quot;,\n",
       "  &quot;extraClasses&quot;: &quot;fa-rotate-0&quot;,\n",
       "}\n",
       "            );\n",
       "            marker_3cd54b860296bebe834c1c764888e552.setIcon(icon_90022de04c61950ad9548885586525a4);\n",
       "        \n",
       "    \n",
       "        var popup_d83b21a17e6a7390abd5a71b4733339e = L.popup({\n",
       "  &quot;maxWidth&quot;: &quot;100%&quot;,\n",
       "});\n",
       "\n",
       "        \n",
       "            \n",
       "                var html_5d5def2cb4ad35f98c338079b0fc1e83 = $(`&lt;div id=&quot;html_5d5def2cb4ad35f98c338079b0fc1e83&quot; style=&quot;width: 100.0%; height: 100.0%;&quot;&gt;(&quot;&lt;b style=&#x27;font-size: 18px; &#x27;&gt;La Juliana&lt;/b&gt;&lt;br&gt;Direccion: 210 San Nicolas&quot;, &quot;Especialidades: [&#x27;Comida caribeña&#x27;, &#x27;latina&#x27;, &#x27;cubana&#x27;]&quot;)&lt;/div&gt;`)[0];\n",
       "                popup_d83b21a17e6a7390abd5a71b4733339e.setContent(html_5d5def2cb4ad35f98c338079b0fc1e83);\n",
       "            \n",
       "        \n",
       "\n",
       "        marker_3cd54b860296bebe834c1c764888e552.bindPopup(popup_d83b21a17e6a7390abd5a71b4733339e)\n",
       "        ;\n",
       "\n",
       "        \n",
       "    \n",
       "    \n",
       "            var marker_3c648ecc31eb2c51d8cdf0a5bf24fb61 = L.marker(\n",
       "                [23.121609415980522, -82.38347632186809],\n",
       "                {\n",
       "}\n",
       "            ).addTo(map_e4b9394eed1b90c36772b623ee0598e0);\n",
       "        \n",
       "    \n",
       "            var icon_71900f22508d6b38de91a7bc3b65fda6 = L.AwesomeMarkers.icon(\n",
       "                {\n",
       "  &quot;markerColor&quot;: &quot;red&quot;,\n",
       "  &quot;iconColor&quot;: &quot;white&quot;,\n",
       "  &quot;icon&quot;: &quot;cutlery&quot;,\n",
       "  &quot;prefix&quot;: &quot;fa&quot;,\n",
       "  &quot;extraClasses&quot;: &quot;fa-rotate-0&quot;,\n",
       "}\n",
       "            );\n",
       "            marker_3c648ecc31eb2c51d8cdf0a5bf24fb61.setIcon(icon_71900f22508d6b38de91a7bc3b65fda6);\n",
       "        \n",
       "    \n",
       "        var popup_fb5aba9c1815e0937dcd91e1c75d4108 = L.popup({\n",
       "  &quot;maxWidth&quot;: &quot;100%&quot;,\n",
       "});\n",
       "\n",
       "        \n",
       "            \n",
       "                var html_5b7613adc133524f7ab7eeb503c111b3 = $(`&lt;div id=&quot;html_5b7613adc133524f7ab7eeb503c111b3&quot; style=&quot;width: 100.0%; height: 100.0%;&quot;&gt;(&quot;&lt;b style=&#x27;font-size: 18px; &#x27;&gt;La Lola&lt;/b&gt;&lt;br&gt;Direccion: Calle Ayestaran entre San Pablo y Pedro Perez&quot;, &quot;Especialidades: [&#x27;italiana&#x27;]&quot;)&lt;/div&gt;`)[0];\n",
       "                popup_fb5aba9c1815e0937dcd91e1c75d4108.setContent(html_5b7613adc133524f7ab7eeb503c111b3);\n",
       "            \n",
       "        \n",
       "\n",
       "        marker_3c648ecc31eb2c51d8cdf0a5bf24fb61.bindPopup(popup_fb5aba9c1815e0937dcd91e1c75d4108)\n",
       "        ;\n",
       "\n",
       "        \n",
       "    \n",
       "    \n",
       "            var marker_989f890df55f5a4f700baef0ec1b179a = L.marker(\n",
       "                [23.124444713197114, -82.3275978168261],\n",
       "                {\n",
       "}\n",
       "            ).addTo(map_e4b9394eed1b90c36772b623ee0598e0);\n",
       "        \n",
       "    \n",
       "            var icon_605b82130c76870e2e1932d76a4c1240 = L.AwesomeMarkers.icon(\n",
       "                {\n",
       "  &quot;markerColor&quot;: &quot;red&quot;,\n",
       "  &quot;iconColor&quot;: &quot;white&quot;,\n",
       "  &quot;icon&quot;: &quot;cutlery&quot;,\n",
       "  &quot;prefix&quot;: &quot;fa&quot;,\n",
       "  &quot;extraClasses&quot;: &quot;fa-rotate-0&quot;,\n",
       "}\n",
       "            );\n",
       "            marker_989f890df55f5a4f700baef0ec1b179a.setIcon(icon_605b82130c76870e2e1932d76a4c1240);\n",
       "        \n",
       "    \n",
       "        var popup_babadd8bcd804855c67b7c138f24552b = L.popup({\n",
       "  &quot;maxWidth&quot;: &quot;100%&quot;,\n",
       "});\n",
       "\n",
       "        \n",
       "            \n",
       "                var html_e07a8e0aa0dae2ed2f9c14244eae1cd9 = $(`&lt;div id=&quot;html_e07a8e0aa0dae2ed2f9c14244eae1cd9&quot; style=&quot;width: 100.0%; height: 100.0%;&quot;&gt;(&quot;&lt;b style=&#x27;font-size: 18px; &#x27;&gt;La Nueva Guitarreta&lt;/b&gt;&lt;br&gt;Direccion: Loredo y 24 de febrero&quot;, &quot;Especialidades: [&#x27;internacional&#x27;]&quot;)&lt;/div&gt;`)[0];\n",
       "                popup_babadd8bcd804855c67b7c138f24552b.setContent(html_e07a8e0aa0dae2ed2f9c14244eae1cd9);\n",
       "            \n",
       "        \n",
       "\n",
       "        marker_989f890df55f5a4f700baef0ec1b179a.bindPopup(popup_babadd8bcd804855c67b7c138f24552b)\n",
       "        ;\n",
       "\n",
       "        \n",
       "    \n",
       "    \n",
       "            var marker_c317e0f749a5c5dcd8fa1bc85028e00c = L.marker(\n",
       "                [23.127100478844387, -82.39964090333302],\n",
       "                {\n",
       "}\n",
       "            ).addTo(map_e4b9394eed1b90c36772b623ee0598e0);\n",
       "        \n",
       "    \n",
       "            var icon_cf56b2063140cd9334ebd198ec92f9de = L.AwesomeMarkers.icon(\n",
       "                {\n",
       "  &quot;markerColor&quot;: &quot;red&quot;,\n",
       "  &quot;iconColor&quot;: &quot;white&quot;,\n",
       "  &quot;icon&quot;: &quot;cutlery&quot;,\n",
       "  &quot;prefix&quot;: &quot;fa&quot;,\n",
       "  &quot;extraClasses&quot;: &quot;fa-rotate-0&quot;,\n",
       "}\n",
       "            );\n",
       "            marker_c317e0f749a5c5dcd8fa1bc85028e00c.setIcon(icon_cf56b2063140cd9334ebd198ec92f9de);\n",
       "        \n",
       "    \n",
       "        var popup_52f08664ac99adebba98839684d35af6 = L.popup({\n",
       "  &quot;maxWidth&quot;: &quot;100%&quot;,\n",
       "});\n",
       "\n",
       "        \n",
       "            \n",
       "                var html_50ae905d047413271ee25d7a6e01d244 = $(`&lt;div id=&quot;html_50ae905d047413271ee25d7a6e01d244&quot; style=&quot;width: 100.0%; height: 100.0%;&quot;&gt;(&quot;&lt;b style=&#x27;font-size: 18px; &#x27;&gt;La Pelota&lt;/b&gt;&lt;br&gt;Direccion: Esquina 23 y 12, Vedado&quot;, &quot;Especialidades: [&#x27;criolla&#x27;, &#x27;cubana&#x27;]&quot;)&lt;/div&gt;`)[0];\n",
       "                popup_52f08664ac99adebba98839684d35af6.setContent(html_50ae905d047413271ee25d7a6e01d244);\n",
       "            \n",
       "        \n",
       "\n",
       "        marker_c317e0f749a5c5dcd8fa1bc85028e00c.bindPopup(popup_52f08664ac99adebba98839684d35af6)\n",
       "        ;\n",
       "\n",
       "        \n",
       "    \n",
       "    \n",
       "            var marker_310b97b623a888eaf707fca04721f73f = L.marker(\n",
       "                [23.105445368647896, -82.35839531190437],\n",
       "                {\n",
       "}\n",
       "            ).addTo(map_e4b9394eed1b90c36772b623ee0598e0);\n",
       "        \n",
       "    \n",
       "            var icon_e2ab9440818dee373bcc928b09482bad = L.AwesomeMarkers.icon(\n",
       "                {\n",
       "  &quot;markerColor&quot;: &quot;red&quot;,\n",
       "  &quot;iconColor&quot;: &quot;white&quot;,\n",
       "  &quot;icon&quot;: &quot;cutlery&quot;,\n",
       "  &quot;prefix&quot;: &quot;fa&quot;,\n",
       "  &quot;extraClasses&quot;: &quot;fa-rotate-0&quot;,\n",
       "}\n",
       "            );\n",
       "            marker_310b97b623a888eaf707fca04721f73f.setIcon(icon_e2ab9440818dee373bcc928b09482bad);\n",
       "        \n",
       "    \n",
       "        var popup_dae7c74d7d965872f6048e19ffe405df = L.popup({\n",
       "  &quot;maxWidth&quot;: &quot;100%&quot;,\n",
       "});\n",
       "\n",
       "        \n",
       "            \n",
       "                var html_8db768fe3b733a6b79b730ddfcf97900 = $(`&lt;div id=&quot;html_8db768fe3b733a6b79b730ddfcf97900&quot; style=&quot;width: 100.0%; height: 100.0%;&quot;&gt;(&quot;&lt;b style=&#x27;font-size: 18px; &#x27;&gt;La Ronda&lt;/b&gt;&lt;br&gt;Direccion: Callé Guasabacoa esquina Calzada de Luyanó&quot;, &quot;Especialidades: [&#x27;mixta&#x27;]&quot;)&lt;/div&gt;`)[0];\n",
       "                popup_dae7c74d7d965872f6048e19ffe405df.setContent(html_8db768fe3b733a6b79b730ddfcf97900);\n",
       "            \n",
       "        \n",
       "\n",
       "        marker_310b97b623a888eaf707fca04721f73f.bindPopup(popup_dae7c74d7d965872f6048e19ffe405df)\n",
       "        ;\n",
       "\n",
       "        \n",
       "    \n",
       "    \n",
       "            var marker_f80e8a8a23a67065e0d51ce43ea00a5f = L.marker(\n",
       "                [23.090815898809876, -82.37152132357363],\n",
       "                {\n",
       "}\n",
       "            ).addTo(map_e4b9394eed1b90c36772b623ee0598e0);\n",
       "        \n",
       "    \n",
       "            var icon_6fd375c96cea551f60211a5ecd5143c7 = L.AwesomeMarkers.icon(\n",
       "                {\n",
       "  &quot;markerColor&quot;: &quot;red&quot;,\n",
       "  &quot;iconColor&quot;: &quot;white&quot;,\n",
       "  &quot;icon&quot;: &quot;cutlery&quot;,\n",
       "  &quot;prefix&quot;: &quot;fa&quot;,\n",
       "  &quot;extraClasses&quot;: &quot;fa-rotate-0&quot;,\n",
       "}\n",
       "            );\n",
       "            marker_f80e8a8a23a67065e0d51ce43ea00a5f.setIcon(icon_6fd375c96cea551f60211a5ecd5143c7);\n",
       "        \n",
       "    \n",
       "        var popup_5f4f98139d41c1383283a3c5ea538def = L.popup({\n",
       "  &quot;maxWidth&quot;: &quot;100%&quot;,\n",
       "});\n",
       "\n",
       "        \n",
       "            \n",
       "                var html_ebd563f494c954a48c75fa6ea866702c = $(`&lt;div id=&quot;html_ebd563f494c954a48c75fa6ea866702c&quot; style=&quot;width: 100.0%; height: 100.0%;&quot;&gt;(&quot;&lt;b style=&#x27;font-size: 18px; &#x27;&gt;La Rosa De Ortega&lt;/b&gt;&lt;br&gt;Direccion: Patrocinio #252 esq. a Juan Bruno Zayas&quot;, &quot;Especialidades: [&#x27;cubana&#x27;, &#x27;criolla&#x27;, &#x27;internacional&#x27;, &#x27;italiana&#x27;]&quot;)&lt;/div&gt;`)[0];\n",
       "                popup_5f4f98139d41c1383283a3c5ea538def.setContent(html_ebd563f494c954a48c75fa6ea866702c);\n",
       "            \n",
       "        \n",
       "\n",
       "        marker_f80e8a8a23a67065e0d51ce43ea00a5f.bindPopup(popup_5f4f98139d41c1383283a3c5ea538def)\n",
       "        ;\n",
       "\n",
       "        \n",
       "    \n",
       "    \n",
       "            var marker_b3893672e369244168b7e774bb67edf5 = L.marker(\n",
       "                [23.16729576315332, -82.29561634288147],\n",
       "                {\n",
       "}\n",
       "            ).addTo(map_e4b9394eed1b90c36772b623ee0598e0);\n",
       "        \n",
       "    \n",
       "            var icon_6fadd362563d5bab93ff511744085a59 = L.AwesomeMarkers.icon(\n",
       "                {\n",
       "  &quot;markerColor&quot;: &quot;red&quot;,\n",
       "  &quot;iconColor&quot;: &quot;white&quot;,\n",
       "  &quot;icon&quot;: &quot;cutlery&quot;,\n",
       "  &quot;prefix&quot;: &quot;fa&quot;,\n",
       "  &quot;extraClasses&quot;: &quot;fa-rotate-0&quot;,\n",
       "}\n",
       "            );\n",
       "            marker_b3893672e369244168b7e774bb67edf5.setIcon(icon_6fadd362563d5bab93ff511744085a59);\n",
       "        \n",
       "    \n",
       "        var popup_71d2210875edc68b3fc698b312e4674e = L.popup({\n",
       "  &quot;maxWidth&quot;: &quot;100%&quot;,\n",
       "});\n",
       "\n",
       "        \n",
       "            \n",
       "                var html_7463c1529ebb6e7f495fdf737555bd4b = $(`&lt;div id=&quot;html_7463c1529ebb6e7f495fdf737555bd4b&quot; style=&quot;width: 100.0%; height: 100.0%;&quot;&gt;(&quot;&lt;b style=&#x27;font-size: 18px; &#x27;&gt;La ruta de Hemingway&lt;/b&gt;&lt;br&gt;Direccion: Calle Real entre Victoria y Marcos, Cojimar&quot;, &#x27;Especialidades: []&#x27;)&lt;/div&gt;`)[0];\n",
       "                popup_71d2210875edc68b3fc698b312e4674e.setContent(html_7463c1529ebb6e7f495fdf737555bd4b);\n",
       "            \n",
       "        \n",
       "\n",
       "        marker_b3893672e369244168b7e774bb67edf5.bindPopup(popup_71d2210875edc68b3fc698b312e4674e)\n",
       "        ;\n",
       "\n",
       "        \n",
       "    \n",
       "    \n",
       "            var marker_6563e1771deea9158dae2e07408402de = L.marker(\n",
       "                [23.139151699462953, -82.35008075935141],\n",
       "                {\n",
       "}\n",
       "            ).addTo(map_e4b9394eed1b90c36772b623ee0598e0);\n",
       "        \n",
       "    \n",
       "            var icon_2cb9ed0bcb560e8ebc2ac9dd66d0db28 = L.AwesomeMarkers.icon(\n",
       "                {\n",
       "  &quot;markerColor&quot;: &quot;red&quot;,\n",
       "  &quot;iconColor&quot;: &quot;white&quot;,\n",
       "  &quot;icon&quot;: &quot;cutlery&quot;,\n",
       "  &quot;prefix&quot;: &quot;fa&quot;,\n",
       "  &quot;extraClasses&quot;: &quot;fa-rotate-0&quot;,\n",
       "}\n",
       "            );\n",
       "            marker_6563e1771deea9158dae2e07408402de.setIcon(icon_2cb9ed0bcb560e8ebc2ac9dd66d0db28);\n",
       "        \n",
       "    \n",
       "        var popup_15253b7efcc947e451fe5064c68a665a = L.popup({\n",
       "  &quot;maxWidth&quot;: &quot;100%&quot;,\n",
       "});\n",
       "\n",
       "        \n",
       "            \n",
       "                var html_7e97cbdc1e20f2ef260acef15b11b2f2 = $(`&lt;div id=&quot;html_7e97cbdc1e20f2ef260acef15b11b2f2&quot; style=&quot;width: 100.0%; height: 100.0%;&quot;&gt;(&quot;&lt;b style=&#x27;font-size: 18px; &#x27;&gt;La Torre De Marfil&lt;/b&gt;&lt;br&gt;Direccion: Calle Mercaderes entre Obispo y Obrapia&quot;, &quot;Especialidades: [&#x27;China&#x27;, &#x27;Caribeña&#x27;, &#x27;Mediterránea&#x27;, &#x27;Cubana&#x27;]&quot;)&lt;/div&gt;`)[0];\n",
       "                popup_15253b7efcc947e451fe5064c68a665a.setContent(html_7e97cbdc1e20f2ef260acef15b11b2f2);\n",
       "            \n",
       "        \n",
       "\n",
       "        marker_6563e1771deea9158dae2e07408402de.bindPopup(popup_15253b7efcc947e451fe5064c68a665a)\n",
       "        ;\n",
       "\n",
       "        \n",
       "    \n",
       "    \n",
       "            var marker_30a8d5e5fccbf2fa4ac29da1c2def2da = L.marker(\n",
       "                [23.13552900516459, -82.3502524323634],\n",
       "                {\n",
       "}\n",
       "            ).addTo(map_e4b9394eed1b90c36772b623ee0598e0);\n",
       "        \n",
       "    \n",
       "            var icon_ece992bf2d7cc6e4d312173e24a8dec4 = L.AwesomeMarkers.icon(\n",
       "                {\n",
       "  &quot;markerColor&quot;: &quot;red&quot;,\n",
       "  &quot;iconColor&quot;: &quot;white&quot;,\n",
       "  &quot;icon&quot;: &quot;cutlery&quot;,\n",
       "  &quot;prefix&quot;: &quot;fa&quot;,\n",
       "  &quot;extraClasses&quot;: &quot;fa-rotate-0&quot;,\n",
       "}\n",
       "            );\n",
       "            marker_30a8d5e5fccbf2fa4ac29da1c2def2da.setIcon(icon_ece992bf2d7cc6e4d312173e24a8dec4);\n",
       "        \n",
       "    \n",
       "        var popup_2102ed4a5b3d5b9187f48f568e33567c = L.popup({\n",
       "  &quot;maxWidth&quot;: &quot;100%&quot;,\n",
       "});\n",
       "\n",
       "        \n",
       "            \n",
       "                var html_11669dc292ecf17789f6b687e7aa2d5e = $(`&lt;div id=&quot;html_11669dc292ecf17789f6b687e7aa2d5e&quot; style=&quot;width: 100.0%; height: 100.0%;&quot;&gt;(&quot;&lt;b style=&#x27;font-size: 18px; &#x27;&gt;La Vitrola&lt;/b&gt;&lt;br&gt;Direccion: Plaza Vieja entre Muralla y San Ignacio&quot;, &quot;Especialidades: [&#x27;Comida mixta&#x27;]&quot;)&lt;/div&gt;`)[0];\n",
       "                popup_2102ed4a5b3d5b9187f48f568e33567c.setContent(html_11669dc292ecf17789f6b687e7aa2d5e);\n",
       "            \n",
       "        \n",
       "\n",
       "        marker_30a8d5e5fccbf2fa4ac29da1c2def2da.bindPopup(popup_2102ed4a5b3d5b9187f48f568e33567c)\n",
       "        ;\n",
       "\n",
       "        \n",
       "    \n",
       "    \n",
       "            var marker_e5100822a6ea80bea254c67f6e0339dd = L.marker(\n",
       "                [23.081201100821605, -82.4216785238977],\n",
       "                {\n",
       "}\n",
       "            ).addTo(map_e4b9394eed1b90c36772b623ee0598e0);\n",
       "        \n",
       "    \n",
       "            var icon_c088d965b6f7a8e4a305a39241d86320 = L.AwesomeMarkers.icon(\n",
       "                {\n",
       "  &quot;markerColor&quot;: &quot;red&quot;,\n",
       "  &quot;iconColor&quot;: &quot;white&quot;,\n",
       "  &quot;icon&quot;: &quot;cutlery&quot;,\n",
       "  &quot;prefix&quot;: &quot;fa&quot;,\n",
       "  &quot;extraClasses&quot;: &quot;fa-rotate-0&quot;,\n",
       "}\n",
       "            );\n",
       "            marker_e5100822a6ea80bea254c67f6e0339dd.setIcon(icon_c088d965b6f7a8e4a305a39241d86320);\n",
       "        \n",
       "    \n",
       "        var popup_46164ab5751aa45c85c37ca9cd49e94b = L.popup({\n",
       "  &quot;maxWidth&quot;: &quot;100%&quot;,\n",
       "});\n",
       "\n",
       "        \n",
       "            \n",
       "                var html_01533a1e37b901f13bba86d84ce2abc3 = $(`&lt;div id=&quot;html_01533a1e37b901f13bba86d84ce2abc3&quot; style=&quot;width: 100.0%; height: 100.0%;&quot;&gt;(&quot;&lt;b style=&#x27;font-size: 18px; &#x27;&gt;La Yuya&lt;/b&gt;&lt;br&gt;Direccion: 100 Y 51&quot;, &quot;Especialidades: [&#x27;mixta&#x27;]&quot;)&lt;/div&gt;`)[0];\n",
       "                popup_46164ab5751aa45c85c37ca9cd49e94b.setContent(html_01533a1e37b901f13bba86d84ce2abc3);\n",
       "            \n",
       "        \n",
       "\n",
       "        marker_e5100822a6ea80bea254c67f6e0339dd.bindPopup(popup_46164ab5751aa45c85c37ca9cd49e94b)\n",
       "        ;\n",
       "\n",
       "        \n",
       "    \n",
       "    \n",
       "            var marker_af205dd5affa028575e1abb1a1c9c0ff = L.marker(\n",
       "                [23.119269806423606, -82.3720336019368],\n",
       "                {\n",
       "}\n",
       "            ).addTo(map_e4b9394eed1b90c36772b623ee0598e0);\n",
       "        \n",
       "    \n",
       "            var icon_e41fedede8b0394c77886ae555507ad1 = L.AwesomeMarkers.icon(\n",
       "                {\n",
       "  &quot;markerColor&quot;: &quot;red&quot;,\n",
       "  &quot;iconColor&quot;: &quot;white&quot;,\n",
       "  &quot;icon&quot;: &quot;cutlery&quot;,\n",
       "  &quot;prefix&quot;: &quot;fa&quot;,\n",
       "  &quot;extraClasses&quot;: &quot;fa-rotate-0&quot;,\n",
       "}\n",
       "            );\n",
       "            marker_af205dd5affa028575e1abb1a1c9c0ff.setIcon(icon_e41fedede8b0394c77886ae555507ad1);\n",
       "        \n",
       "    \n",
       "        var popup_568541dad5eeeef936fa13a1bf845aa2 = L.popup({\n",
       "  &quot;maxWidth&quot;: &quot;100%&quot;,\n",
       "});\n",
       "\n",
       "        \n",
       "            \n",
       "                var html_5fc322623bb58ace12f2bfc9a569a97e = $(`&lt;div id=&quot;html_5fc322623bb58ace12f2bfc9a569a97e&quot; style=&quot;width: 100.0%; height: 100.0%;&quot;&gt;(&quot;&lt;b style=&#x27;font-size: 18px; &#x27;&gt;Leyendhabana&lt;/b&gt;&lt;br&gt;Direccion: Calle Santa Rosa No. 217 e/ Infanta y Cruz del Padre&quot;, &quot;Especialidades: [&#x27;Comida Caribena&#x27;]&quot;)&lt;/div&gt;`)[0];\n",
       "                popup_568541dad5eeeef936fa13a1bf845aa2.setContent(html_5fc322623bb58ace12f2bfc9a569a97e);\n",
       "            \n",
       "        \n",
       "\n",
       "        marker_af205dd5affa028575e1abb1a1c9c0ff.bindPopup(popup_568541dad5eeeef936fa13a1bf845aa2)\n",
       "        ;\n",
       "\n",
       "        \n",
       "    \n",
       "    \n",
       "            var marker_ec42afdb099763e94d4b05ee534690a7 = L.marker(\n",
       "                [23.062581992389248, -82.36383374585894],\n",
       "                {\n",
       "}\n",
       "            ).addTo(map_e4b9394eed1b90c36772b623ee0598e0);\n",
       "        \n",
       "    \n",
       "            var icon_ab8b348b3e496ca4a340f5ed307897fe = L.AwesomeMarkers.icon(\n",
       "                {\n",
       "  &quot;markerColor&quot;: &quot;red&quot;,\n",
       "  &quot;iconColor&quot;: &quot;white&quot;,\n",
       "  &quot;icon&quot;: &quot;cutlery&quot;,\n",
       "  &quot;prefix&quot;: &quot;fa&quot;,\n",
       "  &quot;extraClasses&quot;: &quot;fa-rotate-0&quot;,\n",
       "}\n",
       "            );\n",
       "            marker_ec42afdb099763e94d4b05ee534690a7.setIcon(icon_ab8b348b3e496ca4a340f5ed307897fe);\n",
       "        \n",
       "    \n",
       "        var popup_db91c15910b8b5ae978b97fb6871ce0c = L.popup({\n",
       "  &quot;maxWidth&quot;: &quot;100%&quot;,\n",
       "});\n",
       "\n",
       "        \n",
       "            \n",
       "                var html_2bc1def9a9b2c6b1b96b9f14acac1a54 = $(`&lt;div id=&quot;html_2bc1def9a9b2c6b1b96b9f14acac1a54&quot; style=&quot;width: 100.0%; height: 100.0%;&quot;&gt;(&quot;&lt;b style=&#x27;font-size: 18px; &#x27;&gt;Los Atrevidos&lt;/b&gt;&lt;br&gt;Direccion: Calzada de Bejucal # 2639 e/ Estrella y Camilo Sierra&quot;, &quot;Especialidades: [&#x27;Italiana&#x27;]&quot;)&lt;/div&gt;`)[0];\n",
       "                popup_db91c15910b8b5ae978b97fb6871ce0c.setContent(html_2bc1def9a9b2c6b1b96b9f14acac1a54);\n",
       "            \n",
       "        \n",
       "\n",
       "        marker_ec42afdb099763e94d4b05ee534690a7.bindPopup(popup_db91c15910b8b5ae978b97fb6871ce0c)\n",
       "        ;\n",
       "\n",
       "        \n",
       "    \n",
       "    \n",
       "            var marker_15189bfb5f99596caeeb20b0c2b29f68 = L.marker(\n",
       "                [23.055831349044627, -82.33552695732365],\n",
       "                {\n",
       "}\n",
       "            ).addTo(map_e4b9394eed1b90c36772b623ee0598e0);\n",
       "        \n",
       "    \n",
       "            var icon_6927f5c04d99ac18ab82883f1e1a0be8 = L.AwesomeMarkers.icon(\n",
       "                {\n",
       "  &quot;markerColor&quot;: &quot;red&quot;,\n",
       "  &quot;iconColor&quot;: &quot;white&quot;,\n",
       "  &quot;icon&quot;: &quot;cutlery&quot;,\n",
       "  &quot;prefix&quot;: &quot;fa&quot;,\n",
       "  &quot;extraClasses&quot;: &quot;fa-rotate-0&quot;,\n",
       "}\n",
       "            );\n",
       "            marker_15189bfb5f99596caeeb20b0c2b29f68.setIcon(icon_6927f5c04d99ac18ab82883f1e1a0be8);\n",
       "        \n",
       "    \n",
       "        var popup_6581905b8d6e33d97a0566831a23d78f = L.popup({\n",
       "  &quot;maxWidth&quot;: &quot;100%&quot;,\n",
       "});\n",
       "\n",
       "        \n",
       "            \n",
       "                var html_80040d05101c16450af256c78540d628 = $(`&lt;div id=&quot;html_80040d05101c16450af256c78540d628&quot; style=&quot;width: 100.0%; height: 100.0%;&quot;&gt;(&quot;&lt;b style=&#x27;font-size: 18px; &#x27;&gt;Los caneyes&lt;/b&gt;&lt;br&gt;Direccion: Calle Martí y Gutierrez, Reparto Electrico&quot;, &quot;Especialidades: [&#x27;cubana&#x27;]&quot;)&lt;/div&gt;`)[0];\n",
       "                popup_6581905b8d6e33d97a0566831a23d78f.setContent(html_80040d05101c16450af256c78540d628);\n",
       "            \n",
       "        \n",
       "\n",
       "        marker_15189bfb5f99596caeeb20b0c2b29f68.bindPopup(popup_6581905b8d6e33d97a0566831a23d78f)\n",
       "        ;\n",
       "\n",
       "        \n",
       "    \n",
       "    \n",
       "            var marker_c19f14ccf8137be9852b8d411aba4d6b = L.marker(\n",
       "                [23.134728671881838, -82.35835687654],\n",
       "                {\n",
       "}\n",
       "            ).addTo(map_e4b9394eed1b90c36772b623ee0598e0);\n",
       "        \n",
       "    \n",
       "            var icon_bfdee21063782681126d2a4e17185bcd = L.AwesomeMarkers.icon(\n",
       "                {\n",
       "  &quot;markerColor&quot;: &quot;red&quot;,\n",
       "  &quot;iconColor&quot;: &quot;white&quot;,\n",
       "  &quot;icon&quot;: &quot;cutlery&quot;,\n",
       "  &quot;prefix&quot;: &quot;fa&quot;,\n",
       "  &quot;extraClasses&quot;: &quot;fa-rotate-0&quot;,\n",
       "}\n",
       "            );\n",
       "            marker_c19f14ccf8137be9852b8d411aba4d6b.setIcon(icon_bfdee21063782681126d2a4e17185bcd);\n",
       "        \n",
       "    \n",
       "        var popup_27121ee232b8868e0b3b5056f3b45328 = L.popup({\n",
       "  &quot;maxWidth&quot;: &quot;100%&quot;,\n",
       "});\n",
       "\n",
       "        \n",
       "            \n",
       "                var html_83e5e219e5cb4bb67cf141c3e7238047 = $(`&lt;div id=&quot;html_83e5e219e5cb4bb67cf141c3e7238047&quot; style=&quot;width: 100.0%; height: 100.0%;&quot;&gt;(&quot;&lt;b style=&#x27;font-size: 18px; &#x27;&gt;Los Nardos&lt;/b&gt;&lt;br&gt;Direccion: Paseo de Marti, frente al Capitolio&quot;, &quot;Especialidades: [&#x27;Comida mixta&#x27;]&quot;)&lt;/div&gt;`)[0];\n",
       "                popup_27121ee232b8868e0b3b5056f3b45328.setContent(html_83e5e219e5cb4bb67cf141c3e7238047);\n",
       "            \n",
       "        \n",
       "\n",
       "        marker_c19f14ccf8137be9852b8d411aba4d6b.bindPopup(popup_27121ee232b8868e0b3b5056f3b45328)\n",
       "        ;\n",
       "\n",
       "        \n",
       "    \n",
       "    \n",
       "            var marker_92af27e5203f6cd949826f64d54f71b3 = L.marker(\n",
       "                [23.084081730757468, -82.43599343396534],\n",
       "                {\n",
       "}\n",
       "            ).addTo(map_e4b9394eed1b90c36772b623ee0598e0);\n",
       "        \n",
       "    \n",
       "            var icon_59d95a93aa4c5899cac8865545efc7c8 = L.AwesomeMarkers.icon(\n",
       "                {\n",
       "  &quot;markerColor&quot;: &quot;red&quot;,\n",
       "  &quot;iconColor&quot;: &quot;white&quot;,\n",
       "  &quot;icon&quot;: &quot;cutlery&quot;,\n",
       "  &quot;prefix&quot;: &quot;fa&quot;,\n",
       "  &quot;extraClasses&quot;: &quot;fa-rotate-0&quot;,\n",
       "}\n",
       "            );\n",
       "            marker_92af27e5203f6cd949826f64d54f71b3.setIcon(icon_59d95a93aa4c5899cac8865545efc7c8);\n",
       "        \n",
       "    \n",
       "        var popup_eb22725a6c53df7b220d04d8c24df820 = L.popup({\n",
       "  &quot;maxWidth&quot;: &quot;100%&quot;,\n",
       "});\n",
       "\n",
       "        \n",
       "            \n",
       "                var html_6a5da1a24e9b74841841a9d09eddc262 = $(`&lt;div id=&quot;html_6a5da1a24e9b74841841a9d09eddc262&quot; style=&quot;width: 100.0%; height: 100.0%;&quot;&gt;(&quot;&lt;b style=&#x27;font-size: 18px; &#x27;&gt;Los taticos&lt;/b&gt;&lt;br&gt;Direccion: 27 y 27A&quot;, &quot;Especialidades: [&#x27;mixta&#x27;]&quot;)&lt;/div&gt;`)[0];\n",
       "                popup_eb22725a6c53df7b220d04d8c24df820.setContent(html_6a5da1a24e9b74841841a9d09eddc262);\n",
       "            \n",
       "        \n",
       "\n",
       "        marker_92af27e5203f6cd949826f64d54f71b3.bindPopup(popup_eb22725a6c53df7b220d04d8c24df820)\n",
       "        ;\n",
       "\n",
       "        \n",
       "    \n",
       "    \n",
       "            var marker_993b2bb8b33c56c929e6a97fa5ba74e3 = L.marker(\n",
       "                [23.141345644414816, -82.3553965539762],\n",
       "                {\n",
       "}\n",
       "            ).addTo(map_e4b9394eed1b90c36772b623ee0598e0);\n",
       "        \n",
       "    \n",
       "            var icon_acd51c1d2ddc6f5d71a1404ae82cb892 = L.AwesomeMarkers.icon(\n",
       "                {\n",
       "  &quot;markerColor&quot;: &quot;red&quot;,\n",
       "  &quot;iconColor&quot;: &quot;white&quot;,\n",
       "  &quot;icon&quot;: &quot;cutlery&quot;,\n",
       "  &quot;prefix&quot;: &quot;fa&quot;,\n",
       "  &quot;extraClasses&quot;: &quot;fa-rotate-0&quot;,\n",
       "}\n",
       "            );\n",
       "            marker_993b2bb8b33c56c929e6a97fa5ba74e3.setIcon(icon_acd51c1d2ddc6f5d71a1404ae82cb892);\n",
       "        \n",
       "    \n",
       "        var popup_40b0a865ae5417235a22150dfd0151b9 = L.popup({\n",
       "  &quot;maxWidth&quot;: &quot;100%&quot;,\n",
       "});\n",
       "\n",
       "        \n",
       "            \n",
       "                var html_9468fe99669af46aa61073fe9ea3f96f = $(`&lt;div id=&quot;html_9468fe99669af46aa61073fe9ea3f96f&quot; style=&quot;width: 100.0%; height: 100.0%;&quot;&gt;(&quot;&lt;b style=&#x27;font-size: 18px; &#x27;&gt;Lo de Monik&lt;/b&gt;&lt;br&gt;Direccion: &quot;, &quot;Especialidades: [&#x27;Internacional&#x27;, &#x27;cubana&#x27;]&quot;)&lt;/div&gt;`)[0];\n",
       "                popup_40b0a865ae5417235a22150dfd0151b9.setContent(html_9468fe99669af46aa61073fe9ea3f96f);\n",
       "            \n",
       "        \n",
       "\n",
       "        marker_993b2bb8b33c56c929e6a97fa5ba74e3.bindPopup(popup_40b0a865ae5417235a22150dfd0151b9)\n",
       "        ;\n",
       "\n",
       "        \n",
       "    \n",
       "    \n",
       "            var marker_a1c52005512bb63f4ab09e80c2f3f594 = L.marker(\n",
       "                [23.093303995429743, -82.36446379545066],\n",
       "                {\n",
       "}\n",
       "            ).addTo(map_e4b9394eed1b90c36772b623ee0598e0);\n",
       "        \n",
       "    \n",
       "            var icon_e0fb9e844215ad78e3bef222e1de7e4c = L.AwesomeMarkers.icon(\n",
       "                {\n",
       "  &quot;markerColor&quot;: &quot;red&quot;,\n",
       "  &quot;iconColor&quot;: &quot;white&quot;,\n",
       "  &quot;icon&quot;: &quot;cutlery&quot;,\n",
       "  &quot;prefix&quot;: &quot;fa&quot;,\n",
       "  &quot;extraClasses&quot;: &quot;fa-rotate-0&quot;,\n",
       "}\n",
       "            );\n",
       "            marker_a1c52005512bb63f4ab09e80c2f3f594.setIcon(icon_e0fb9e844215ad78e3bef222e1de7e4c);\n",
       "        \n",
       "    \n",
       "        var popup_4a3441713ba8f8804fa88abd9e5456c4 = L.popup({\n",
       "  &quot;maxWidth&quot;: &quot;100%&quot;,\n",
       "});\n",
       "\n",
       "        \n",
       "            \n",
       "                var html_e1a5e1d896225b658d9f67977d977f2e = $(`&lt;div id=&quot;html_e1a5e1d896225b658d9f67977d977f2e&quot; style=&quot;width: 100.0%; height: 100.0%;&quot;&gt;(&quot;&lt;b style=&#x27;font-size: 18px; &#x27;&gt;Luly Hamburguesas&lt;/b&gt;&lt;br&gt;Direccion: Calzada de Santa Catalina entre Calzada de Diez de Octubre y Parraga, Víbora&quot;, &quot;Especialidades: [&#x27;americana&#x27;]&quot;)&lt;/div&gt;`)[0];\n",
       "                popup_4a3441713ba8f8804fa88abd9e5456c4.setContent(html_e1a5e1d896225b658d9f67977d977f2e);\n",
       "            \n",
       "        \n",
       "\n",
       "        marker_a1c52005512bb63f4ab09e80c2f3f594.bindPopup(popup_4a3441713ba8f8804fa88abd9e5456c4)\n",
       "        ;\n",
       "\n",
       "        \n",
       "    \n",
       "    \n",
       "            var marker_88720a734f599c5bbb279794264d3a4b = L.marker(\n",
       "                [23.079340661045265, -82.36204303051731],\n",
       "                {\n",
       "}\n",
       "            ).addTo(map_e4b9394eed1b90c36772b623ee0598e0);\n",
       "        \n",
       "    \n",
       "            var icon_44a68e4baf3d40e321ef83d682321562 = L.AwesomeMarkers.icon(\n",
       "                {\n",
       "  &quot;markerColor&quot;: &quot;red&quot;,\n",
       "  &quot;iconColor&quot;: &quot;white&quot;,\n",
       "  &quot;icon&quot;: &quot;cutlery&quot;,\n",
       "  &quot;prefix&quot;: &quot;fa&quot;,\n",
       "  &quot;extraClasses&quot;: &quot;fa-rotate-0&quot;,\n",
       "}\n",
       "            );\n",
       "            marker_88720a734f599c5bbb279794264d3a4b.setIcon(icon_44a68e4baf3d40e321ef83d682321562);\n",
       "        \n",
       "    \n",
       "        var popup_e85562ac7a4250e41f9281d53f4930d7 = L.popup({\n",
       "  &quot;maxWidth&quot;: &quot;100%&quot;,\n",
       "});\n",
       "\n",
       "        \n",
       "            \n",
       "                var html_fb0d35162a8d14bb4f16bf32b22a7d87 = $(`&lt;div id=&quot;html_fb0d35162a8d14bb4f16bf32b22a7d87&quot; style=&quot;width: 100.0%; height: 100.0%;&quot;&gt;(&quot;&lt;b style=&#x27;font-size: 18px; &#x27;&gt;Magic&#x27;s Cream &amp; Burguer&lt;/b&gt;&lt;br&gt;Direccion: Calzada de 10 de Octubre, % Santa Amalia y Arnao&quot;, &quot;Especialidades: [&#x27;comida rapida&#x27;]&quot;)&lt;/div&gt;`)[0];\n",
       "                popup_e85562ac7a4250e41f9281d53f4930d7.setContent(html_fb0d35162a8d14bb4f16bf32b22a7d87);\n",
       "            \n",
       "        \n",
       "\n",
       "        marker_88720a734f599c5bbb279794264d3a4b.bindPopup(popup_e85562ac7a4250e41f9281d53f4930d7)\n",
       "        ;\n",
       "\n",
       "        \n",
       "    \n",
       "    \n",
       "            var marker_4601d1a90e5d06e1a01dbc2eefc34057 = L.marker(\n",
       "                [23.113806624432474, -82.43952352231993],\n",
       "                {\n",
       "}\n",
       "            ).addTo(map_e4b9394eed1b90c36772b623ee0598e0);\n",
       "        \n",
       "    \n",
       "            var icon_5fba2ee2dbd98ac4ef535e3857f393bf = L.AwesomeMarkers.icon(\n",
       "                {\n",
       "  &quot;markerColor&quot;: &quot;red&quot;,\n",
       "  &quot;iconColor&quot;: &quot;white&quot;,\n",
       "  &quot;icon&quot;: &quot;cutlery&quot;,\n",
       "  &quot;prefix&quot;: &quot;fa&quot;,\n",
       "  &quot;extraClasses&quot;: &quot;fa-rotate-0&quot;,\n",
       "}\n",
       "            );\n",
       "            marker_4601d1a90e5d06e1a01dbc2eefc34057.setIcon(icon_5fba2ee2dbd98ac4ef535e3857f393bf);\n",
       "        \n",
       "    \n",
       "        var popup_b941ed80a6a8fcd5eff22b8ead0cfce0 = L.popup({\n",
       "  &quot;maxWidth&quot;: &quot;100%&quot;,\n",
       "});\n",
       "\n",
       "        \n",
       "            \n",
       "                var html_2418d68ace0e9996c559f536f7f3b646 = $(`&lt;div id=&quot;html_2418d68ace0e9996c559f536f7f3b646&quot; style=&quot;width: 100.0%; height: 100.0%;&quot;&gt;(&quot;&lt;b style=&#x27;font-size: 18px; &#x27;&gt;Marina&lt;/b&gt;&lt;br&gt;Direccion: 1ra Avenida entre calle 70 y 68&quot;, &quot;Especialidades: [&#x27;cubana&#x27;, &#x27;internacional&#x27;]&quot;)&lt;/div&gt;`)[0];\n",
       "                popup_b941ed80a6a8fcd5eff22b8ead0cfce0.setContent(html_2418d68ace0e9996c559f536f7f3b646);\n",
       "            \n",
       "        \n",
       "\n",
       "        marker_4601d1a90e5d06e1a01dbc2eefc34057.bindPopup(popup_b941ed80a6a8fcd5eff22b8ead0cfce0)\n",
       "        ;\n",
       "\n",
       "        \n",
       "    \n",
       "    \n",
       "            var marker_9326526c9f8910a2981a4209df90a6e2 = L.marker(\n",
       "                [23.04788673152548, -82.26844826765596],\n",
       "                {\n",
       "}\n",
       "            ).addTo(map_e4b9394eed1b90c36772b623ee0598e0);\n",
       "        \n",
       "    \n",
       "            var icon_7254e6bf8804e5b626fdb681a46084b3 = L.AwesomeMarkers.icon(\n",
       "                {\n",
       "  &quot;markerColor&quot;: &quot;red&quot;,\n",
       "  &quot;iconColor&quot;: &quot;white&quot;,\n",
       "  &quot;icon&quot;: &quot;cutlery&quot;,\n",
       "  &quot;prefix&quot;: &quot;fa&quot;,\n",
       "  &quot;extraClasses&quot;: &quot;fa-rotate-0&quot;,\n",
       "}\n",
       "            );\n",
       "            marker_9326526c9f8910a2981a4209df90a6e2.setIcon(icon_7254e6bf8804e5b626fdb681a46084b3);\n",
       "        \n",
       "    \n",
       "        var popup_c9b7618fa6b7c9d46ed40616dafac26d = L.popup({\n",
       "  &quot;maxWidth&quot;: &quot;100%&quot;,\n",
       "});\n",
       "\n",
       "        \n",
       "            \n",
       "                var html_387354526b13de9906a0706689da9cc3 = $(`&lt;div id=&quot;html_387354526b13de9906a0706689da9cc3&quot; style=&quot;width: 100.0%; height: 100.0%;&quot;&gt;(&quot;&lt;b style=&#x27;font-size: 18px; &#x27;&gt;Martínez Club&lt;/b&gt;&lt;br&gt;Direccion: En la otra cuadra de la funeraria del cotorro&quot;, &quot;Especialidades: [&#x27;Italiana&#x27;]&quot;)&lt;/div&gt;`)[0];\n",
       "                popup_c9b7618fa6b7c9d46ed40616dafac26d.setContent(html_387354526b13de9906a0706689da9cc3);\n",
       "            \n",
       "        \n",
       "\n",
       "        marker_9326526c9f8910a2981a4209df90a6e2.bindPopup(popup_c9b7618fa6b7c9d46ed40616dafac26d)\n",
       "        ;\n",
       "\n",
       "        \n",
       "    \n",
       "    \n",
       "            var marker_fab8cf4553836cb3a25d78853959437e = L.marker(\n",
       "                [23.142254422422297, -82.39922933157261],\n",
       "                {\n",
       "}\n",
       "            ).addTo(map_e4b9394eed1b90c36772b623ee0598e0);\n",
       "        \n",
       "    \n",
       "            var icon_6645c698d99d30ff3951f5baac2e72ca = L.AwesomeMarkers.icon(\n",
       "                {\n",
       "  &quot;markerColor&quot;: &quot;red&quot;,\n",
       "  &quot;iconColor&quot;: &quot;white&quot;,\n",
       "  &quot;icon&quot;: &quot;cutlery&quot;,\n",
       "  &quot;prefix&quot;: &quot;fa&quot;,\n",
       "  &quot;extraClasses&quot;: &quot;fa-rotate-0&quot;,\n",
       "}\n",
       "            );\n",
       "            marker_fab8cf4553836cb3a25d78853959437e.setIcon(icon_6645c698d99d30ff3951f5baac2e72ca);\n",
       "        \n",
       "    \n",
       "        var popup_460ce550f029cf7476c09b443ea34854 = L.popup({\n",
       "  &quot;maxWidth&quot;: &quot;100%&quot;,\n",
       "});\n",
       "\n",
       "        \n",
       "            \n",
       "                var html_7f0ad8b6bb3048d6697506b8ee37eb87 = $(`&lt;div id=&quot;html_7f0ad8b6bb3048d6697506b8ee37eb87&quot; style=&quot;width: 100.0%; height: 100.0%;&quot;&gt;(&quot;&lt;b style=&#x27;font-size: 18px; &#x27;&gt;Mar adentro&lt;/b&gt;&lt;br&gt;Direccion: &quot;, &quot;Especialidades: [&#x27;Comida Mediterranea&#x27;, &#x27;fusion&#x27;, &#x27;cubana&#x27;]&quot;)&lt;/div&gt;`)[0];\n",
       "                popup_460ce550f029cf7476c09b443ea34854.setContent(html_7f0ad8b6bb3048d6697506b8ee37eb87);\n",
       "            \n",
       "        \n",
       "\n",
       "        marker_fab8cf4553836cb3a25d78853959437e.bindPopup(popup_460ce550f029cf7476c09b443ea34854)\n",
       "        ;\n",
       "\n",
       "        \n",
       "    \n",
       "    \n",
       "            var marker_8d278cd2fc611102765b42a4a1807ba7 = L.marker(\n",
       "                [23.051960561329945, -82.2757870610061],\n",
       "                {\n",
       "}\n",
       "            ).addTo(map_e4b9394eed1b90c36772b623ee0598e0);\n",
       "        \n",
       "    \n",
       "            var icon_cc47a10a7b91be40afc66695561e7d77 = L.AwesomeMarkers.icon(\n",
       "                {\n",
       "  &quot;markerColor&quot;: &quot;red&quot;,\n",
       "  &quot;iconColor&quot;: &quot;white&quot;,\n",
       "  &quot;icon&quot;: &quot;cutlery&quot;,\n",
       "  &quot;prefix&quot;: &quot;fa&quot;,\n",
       "  &quot;extraClasses&quot;: &quot;fa-rotate-0&quot;,\n",
       "}\n",
       "            );\n",
       "            marker_8d278cd2fc611102765b42a4a1807ba7.setIcon(icon_cc47a10a7b91be40afc66695561e7d77);\n",
       "        \n",
       "    \n",
       "        var popup_c3812388f728a0211f12efe60d3f1bc2 = L.popup({\n",
       "  &quot;maxWidth&quot;: &quot;100%&quot;,\n",
       "});\n",
       "\n",
       "        \n",
       "            \n",
       "                var html_f23bf32172822c8c4255f43681ae0553 = $(`&lt;div id=&quot;html_f23bf32172822c8c4255f43681ae0553&quot; style=&quot;width: 100.0%; height: 100.0%;&quot;&gt;(&quot;&lt;b style=&#x27;font-size: 18px; &#x27;&gt;Mc.Cesar&lt;/b&gt;&lt;br&gt;Direccion: calle primer entre 220 y 221&quot;, &quot;Especialidades: [&#x27;cubana&#x27;]&quot;)&lt;/div&gt;`)[0];\n",
       "                popup_c3812388f728a0211f12efe60d3f1bc2.setContent(html_f23bf32172822c8c4255f43681ae0553);\n",
       "            \n",
       "        \n",
       "\n",
       "        marker_8d278cd2fc611102765b42a4a1807ba7.bindPopup(popup_c3812388f728a0211f12efe60d3f1bc2)\n",
       "        ;\n",
       "\n",
       "        \n",
       "    \n",
       "    \n",
       "            var marker_3a584f2754b94e8689725476bb71fe24 = L.marker(\n",
       "                [23.13356833336648, -82.3680681381318],\n",
       "                {\n",
       "}\n",
       "            ).addTo(map_e4b9394eed1b90c36772b623ee0598e0);\n",
       "        \n",
       "    \n",
       "            var icon_6281347cdb9dd6bddb51da4ca64f619e = L.AwesomeMarkers.icon(\n",
       "                {\n",
       "  &quot;markerColor&quot;: &quot;red&quot;,\n",
       "  &quot;iconColor&quot;: &quot;white&quot;,\n",
       "  &quot;icon&quot;: &quot;cutlery&quot;,\n",
       "  &quot;prefix&quot;: &quot;fa&quot;,\n",
       "  &quot;extraClasses&quot;: &quot;fa-rotate-0&quot;,\n",
       "}\n",
       "            );\n",
       "            marker_3a584f2754b94e8689725476bb71fe24.setIcon(icon_6281347cdb9dd6bddb51da4ca64f619e);\n",
       "        \n",
       "    \n",
       "        var popup_9e630d702addc8e2df4d6b999eaa4807 = L.popup({\n",
       "  &quot;maxWidth&quot;: &quot;100%&quot;,\n",
       "});\n",
       "\n",
       "        \n",
       "            \n",
       "                var html_8c43ac14f87b4ae4a59c5ac0eb6727a6 = $(`&lt;div id=&quot;html_8c43ac14f87b4ae4a59c5ac0eb6727a6&quot; style=&quot;width: 100.0%; height: 100.0%;&quot;&gt;(&quot;&lt;b style=&#x27;font-size: 18px; &#x27;&gt;Mimosa&lt;/b&gt;&lt;br&gt;Direccion: Salud entre C.Cerrada del Paseo y Escobar&quot;, &quot;Especialidades: [&#x27;internacional&#x27;, &#x27;Italiana&#x27;, &#x27;Cubana&#x27;]&quot;)&lt;/div&gt;`)[0];\n",
       "                popup_9e630d702addc8e2df4d6b999eaa4807.setContent(html_8c43ac14f87b4ae4a59c5ac0eb6727a6);\n",
       "            \n",
       "        \n",
       "\n",
       "        marker_3a584f2754b94e8689725476bb71fe24.bindPopup(popup_9e630d702addc8e2df4d6b999eaa4807)\n",
       "        ;\n",
       "\n",
       "        \n",
       "    \n",
       "    \n",
       "            var marker_0e55a8655dccc1372538c8cf04c3b842 = L.marker(\n",
       "                [23.14556061167238, -82.35844252514089],\n",
       "                {\n",
       "}\n",
       "            ).addTo(map_e4b9394eed1b90c36772b623ee0598e0);\n",
       "        \n",
       "    \n",
       "            var icon_7483692759f0a6e84dadc898e4cf43f4 = L.AwesomeMarkers.icon(\n",
       "                {\n",
       "  &quot;markerColor&quot;: &quot;red&quot;,\n",
       "  &quot;iconColor&quot;: &quot;white&quot;,\n",
       "  &quot;icon&quot;: &quot;cutlery&quot;,\n",
       "  &quot;prefix&quot;: &quot;fa&quot;,\n",
       "  &quot;extraClasses&quot;: &quot;fa-rotate-0&quot;,\n",
       "}\n",
       "            );\n",
       "            marker_0e55a8655dccc1372538c8cf04c3b842.setIcon(icon_7483692759f0a6e84dadc898e4cf43f4);\n",
       "        \n",
       "    \n",
       "        var popup_2ba34c28b03e7470c6772feb62b83a54 = L.popup({\n",
       "  &quot;maxWidth&quot;: &quot;100%&quot;,\n",
       "});\n",
       "\n",
       "        \n",
       "            \n",
       "                var html_5bea46fe626ff725ab9b6367bedb3b37 = $(`&lt;div id=&quot;html_5bea46fe626ff725ab9b6367bedb3b37&quot; style=&quot;width: 100.0%; height: 100.0%;&quot;&gt;(&quot;&lt;b style=&#x27;font-size: 18px; &#x27;&gt;Mini Bar (Hotel Royalton Paseo Del Prado)&lt;/b&gt;&lt;br&gt;Direccion: Prado y Malecón&quot;, &quot;Especialidades: [&#x27;bar&#x27;]&quot;)&lt;/div&gt;`)[0];\n",
       "                popup_2ba34c28b03e7470c6772feb62b83a54.setContent(html_5bea46fe626ff725ab9b6367bedb3b37);\n",
       "            \n",
       "        \n",
       "\n",
       "        marker_0e55a8655dccc1372538c8cf04c3b842.bindPopup(popup_2ba34c28b03e7470c6772feb62b83a54)\n",
       "        ;\n",
       "\n",
       "        \n",
       "    \n",
       "    \n",
       "            var marker_ed5ad84cbd73b4aaf2eb7c0bf04769d0 = L.marker(\n",
       "                [23.08902142289598, -82.36049771816977],\n",
       "                {\n",
       "}\n",
       "            ).addTo(map_e4b9394eed1b90c36772b623ee0598e0);\n",
       "        \n",
       "    \n",
       "            var icon_ca86856b1842c3d2e3825f5cf8e3060d = L.AwesomeMarkers.icon(\n",
       "                {\n",
       "  &quot;markerColor&quot;: &quot;red&quot;,\n",
       "  &quot;iconColor&quot;: &quot;white&quot;,\n",
       "  &quot;icon&quot;: &quot;cutlery&quot;,\n",
       "  &quot;prefix&quot;: &quot;fa&quot;,\n",
       "  &quot;extraClasses&quot;: &quot;fa-rotate-0&quot;,\n",
       "}\n",
       "            );\n",
       "            marker_ed5ad84cbd73b4aaf2eb7c0bf04769d0.setIcon(icon_ca86856b1842c3d2e3825f5cf8e3060d);\n",
       "        \n",
       "    \n",
       "        var popup_08d7d36615f2a362f32ac4b93e11ce5c = L.popup({\n",
       "  &quot;maxWidth&quot;: &quot;100%&quot;,\n",
       "});\n",
       "\n",
       "        \n",
       "            \n",
       "                var html_f8c15f569b3e0d2bc14e6d8fe4536b08 = $(`&lt;div id=&quot;html_f8c15f569b3e0d2bc14e6d8fe4536b08&quot; style=&quot;width: 100.0%; height: 100.0%;&quot;&gt;(&quot;&lt;b style=&#x27;font-size: 18px; &#x27;&gt;Mirador de Acosta&lt;/b&gt;&lt;br&gt;Direccion: Esquina Vista Alegre Este y Avenida Acosta&quot;, &quot;Especialidades: [&#x27;latina&#x27;, &#x27;criolla&#x27;]&quot;)&lt;/div&gt;`)[0];\n",
       "                popup_08d7d36615f2a362f32ac4b93e11ce5c.setContent(html_f8c15f569b3e0d2bc14e6d8fe4536b08);\n",
       "            \n",
       "        \n",
       "\n",
       "        marker_ed5ad84cbd73b4aaf2eb7c0bf04769d0.bindPopup(popup_08d7d36615f2a362f32ac4b93e11ce5c)\n",
       "        ;\n",
       "\n",
       "        \n",
       "    \n",
       "    \n",
       "            var marker_ee8e4ac2bc3a94f0b89a44ac0a926fdb = L.marker(\n",
       "                [23.044193754619403, -82.2662082394822],\n",
       "                {\n",
       "}\n",
       "            ).addTo(map_e4b9394eed1b90c36772b623ee0598e0);\n",
       "        \n",
       "    \n",
       "            var icon_96bfdd1d5d527004b96ab93b4c089336 = L.AwesomeMarkers.icon(\n",
       "                {\n",
       "  &quot;markerColor&quot;: &quot;red&quot;,\n",
       "  &quot;iconColor&quot;: &quot;white&quot;,\n",
       "  &quot;icon&quot;: &quot;cutlery&quot;,\n",
       "  &quot;prefix&quot;: &quot;fa&quot;,\n",
       "  &quot;extraClasses&quot;: &quot;fa-rotate-0&quot;,\n",
       "}\n",
       "            );\n",
       "            marker_ee8e4ac2bc3a94f0b89a44ac0a926fdb.setIcon(icon_96bfdd1d5d527004b96ab93b4c089336);\n",
       "        \n",
       "    \n",
       "        var popup_16dba22cbd2cf05cf6dc8506e974f230 = L.popup({\n",
       "  &quot;maxWidth&quot;: &quot;100%&quot;,\n",
       "});\n",
       "\n",
       "        \n",
       "            \n",
       "                var html_54d2a495be83869d0564cd6df13126fa = $(`&lt;div id=&quot;html_54d2a495be83869d0564cd6df13126fa&quot; style=&quot;width: 100.0%; height: 100.0%;&quot;&gt;(&quot;&lt;b style=&#x27;font-size: 18px; &#x27;&gt;Mi terraza&lt;/b&gt;&lt;br&gt;Direccion: Calle 71 % 24 y 26, Las Brisas&quot;, &quot;Especialidades: [&#x27;Italiana&#x27;]&quot;)&lt;/div&gt;`)[0];\n",
       "                popup_16dba22cbd2cf05cf6dc8506e974f230.setContent(html_54d2a495be83869d0564cd6df13126fa);\n",
       "            \n",
       "        \n",
       "\n",
       "        marker_ee8e4ac2bc3a94f0b89a44ac0a926fdb.bindPopup(popup_16dba22cbd2cf05cf6dc8506e974f230)\n",
       "        ;\n",
       "\n",
       "        \n",
       "    \n",
       "    \n",
       "            var marker_da2cb4c6485e44595d0f5f71b5ddb11e = L.marker(\n",
       "                [23.089659137079668, -82.4212900861762],\n",
       "                {\n",
       "}\n",
       "            ).addTo(map_e4b9394eed1b90c36772b623ee0598e0);\n",
       "        \n",
       "    \n",
       "            var icon_54bc8f1587ef562ad0ada2712be02e55 = L.AwesomeMarkers.icon(\n",
       "                {\n",
       "  &quot;markerColor&quot;: &quot;red&quot;,\n",
       "  &quot;iconColor&quot;: &quot;white&quot;,\n",
       "  &quot;icon&quot;: &quot;cutlery&quot;,\n",
       "  &quot;prefix&quot;: &quot;fa&quot;,\n",
       "  &quot;extraClasses&quot;: &quot;fa-rotate-0&quot;,\n",
       "}\n",
       "            );\n",
       "            marker_da2cb4c6485e44595d0f5f71b5ddb11e.setIcon(icon_54bc8f1587ef562ad0ada2712be02e55);\n",
       "        \n",
       "    \n",
       "        var popup_b186d0e91c4ff2dcbf22c4b7b4b21176 = L.popup({\n",
       "  &quot;maxWidth&quot;: &quot;100%&quot;,\n",
       "});\n",
       "\n",
       "        \n",
       "            \n",
       "                var html_725586a8e57759114c9256de976ed4d8 = $(`&lt;div id=&quot;html_725586a8e57759114c9256de976ed4d8&quot; style=&quot;width: 100.0%; height: 100.0%;&quot;&gt;(&quot;&lt;b style=&#x27;font-size: 18px; &#x27;&gt;MM-Cafeteria&lt;/b&gt;&lt;br&gt;Direccion: Avenida 41 entre 82 y 84&quot;, &quot;Especialidades: [&#x27;cubana&#x27;, &#x27;italiana&#x27;]&quot;)&lt;/div&gt;`)[0];\n",
       "                popup_b186d0e91c4ff2dcbf22c4b7b4b21176.setContent(html_725586a8e57759114c9256de976ed4d8);\n",
       "            \n",
       "        \n",
       "\n",
       "        marker_da2cb4c6485e44595d0f5f71b5ddb11e.bindPopup(popup_b186d0e91c4ff2dcbf22c4b7b4b21176)\n",
       "        ;\n",
       "\n",
       "        \n",
       "    \n",
       "    \n",
       "            var marker_b298f342a1c46dae6410a17b456da4c1 = L.marker(\n",
       "                [23.113313570547763, -82.43955638650688],\n",
       "                {\n",
       "}\n",
       "            ).addTo(map_e4b9394eed1b90c36772b623ee0598e0);\n",
       "        \n",
       "    \n",
       "            var icon_ede78213d8c7f4035f153b1bc6229114 = L.AwesomeMarkers.icon(\n",
       "                {\n",
       "  &quot;markerColor&quot;: &quot;red&quot;,\n",
       "  &quot;iconColor&quot;: &quot;white&quot;,\n",
       "  &quot;icon&quot;: &quot;cutlery&quot;,\n",
       "  &quot;prefix&quot;: &quot;fa&quot;,\n",
       "  &quot;extraClasses&quot;: &quot;fa-rotate-0&quot;,\n",
       "}\n",
       "            );\n",
       "            marker_b298f342a1c46dae6410a17b456da4c1.setIcon(icon_ede78213d8c7f4035f153b1bc6229114);\n",
       "        \n",
       "    \n",
       "        var popup_de709e74726b2ad95b17636bc3dcd12a = L.popup({\n",
       "  &quot;maxWidth&quot;: &quot;100%&quot;,\n",
       "});\n",
       "\n",
       "        \n",
       "            \n",
       "                var html_b57ce052da69cab378c63111c4eb0242 = $(`&lt;div id=&quot;html_b57ce052da69cab378c63111c4eb0242&quot; style=&quot;width: 100.0%; height: 100.0%;&quot;&gt;(&quot;&lt;b style=&#x27;font-size: 18px; &#x27;&gt;Muelle 70&lt;/b&gt;&lt;br&gt;Direccion: 1ra Avenida entre calle 70 y 68&quot;, &quot;Especialidades: [&#x27;cubana&#x27;, &#x27;internacional&#x27;, &#x27;italiana&#x27;, &#x27;criolla&#x27;]&quot;)&lt;/div&gt;`)[0];\n",
       "                popup_de709e74726b2ad95b17636bc3dcd12a.setContent(html_b57ce052da69cab378c63111c4eb0242);\n",
       "            \n",
       "        \n",
       "\n",
       "        marker_b298f342a1c46dae6410a17b456da4c1.bindPopup(popup_de709e74726b2ad95b17636bc3dcd12a)\n",
       "        ;\n",
       "\n",
       "        \n",
       "    \n",
       "    \n",
       "            var marker_c870ba79b4fb387a1fe08007391953a8 = L.marker(\n",
       "                [23.138030572262426, -82.36420227071567],\n",
       "                {\n",
       "}\n",
       "            ).addTo(map_e4b9394eed1b90c36772b623ee0598e0);\n",
       "        \n",
       "    \n",
       "            var icon_25abcdffceeefe653d4a722923f17b1b = L.AwesomeMarkers.icon(\n",
       "                {\n",
       "  &quot;markerColor&quot;: &quot;red&quot;,\n",
       "  &quot;iconColor&quot;: &quot;white&quot;,\n",
       "  &quot;icon&quot;: &quot;cutlery&quot;,\n",
       "  &quot;prefix&quot;: &quot;fa&quot;,\n",
       "  &quot;extraClasses&quot;: &quot;fa-rotate-0&quot;,\n",
       "}\n",
       "            );\n",
       "            marker_c870ba79b4fb387a1fe08007391953a8.setIcon(icon_25abcdffceeefe653d4a722923f17b1b);\n",
       "        \n",
       "    \n",
       "        var popup_1655e86d18364c15ab86fd0551e978dd = L.popup({\n",
       "  &quot;maxWidth&quot;: &quot;100%&quot;,\n",
       "});\n",
       "\n",
       "        \n",
       "            \n",
       "                var html_e9dc14ec9024f53e45c517ef9e95c7a0 = $(`&lt;div id=&quot;html_e9dc14ec9024f53e45c517ef9e95c7a0&quot; style=&quot;width: 100.0%; height: 100.0%;&quot;&gt;(&quot;&lt;b style=&#x27;font-size: 18px; &#x27;&gt;Mundo Pizza&lt;/b&gt;&lt;br&gt;Direccion: C. San Nicolás 309 entre Neptuno y San Miguel&quot;, &quot;Especialidades: [&#x27;Internacional&#x27;, &#x27;Pizzas&#x27;]&quot;)&lt;/div&gt;`)[0];\n",
       "                popup_1655e86d18364c15ab86fd0551e978dd.setContent(html_e9dc14ec9024f53e45c517ef9e95c7a0);\n",
       "            \n",
       "        \n",
       "\n",
       "        marker_c870ba79b4fb387a1fe08007391953a8.bindPopup(popup_1655e86d18364c15ab86fd0551e978dd)\n",
       "        ;\n",
       "\n",
       "        \n",
       "    \n",
       "    \n",
       "            var marker_b277535825c668c889dc254f24f2622f = L.marker(\n",
       "                [23.140346357851502, -82.35253591702202],\n",
       "                {\n",
       "}\n",
       "            ).addTo(map_e4b9394eed1b90c36772b623ee0598e0);\n",
       "        \n",
       "    \n",
       "            var icon_67f106826d62a65374af8222138b1a69 = L.AwesomeMarkers.icon(\n",
       "                {\n",
       "  &quot;markerColor&quot;: &quot;red&quot;,\n",
       "  &quot;iconColor&quot;: &quot;white&quot;,\n",
       "  &quot;icon&quot;: &quot;cutlery&quot;,\n",
       "  &quot;prefix&quot;: &quot;fa&quot;,\n",
       "  &quot;extraClasses&quot;: &quot;fa-rotate-0&quot;,\n",
       "}\n",
       "            );\n",
       "            marker_b277535825c668c889dc254f24f2622f.setIcon(icon_67f106826d62a65374af8222138b1a69);\n",
       "        \n",
       "    \n",
       "        var popup_b56b8893413639e5c5ed997999d9a345 = L.popup({\n",
       "  &quot;maxWidth&quot;: &quot;100%&quot;,\n",
       "});\n",
       "\n",
       "        \n",
       "            \n",
       "                var html_ecfb2d62e7fee8305b90bd485fb2d539 = $(`&lt;div id=&quot;html_ecfb2d62e7fee8305b90bd485fb2d539&quot; style=&quot;width: 100.0%; height: 100.0%;&quot;&gt;(&quot;&lt;b style=&#x27;font-size: 18px; &#x27;&gt;Mythos&lt;/b&gt;&lt;br&gt;Direccion: Calle Cuba No. 211 entre Empedrado y O&#x27;Reilly&quot;, &quot;Especialidades: [&#x27;Griega&#x27;]&quot;)&lt;/div&gt;`)[0];\n",
       "                popup_b56b8893413639e5c5ed997999d9a345.setContent(html_ecfb2d62e7fee8305b90bd485fb2d539);\n",
       "            \n",
       "        \n",
       "\n",
       "        marker_b277535825c668c889dc254f24f2622f.bindPopup(popup_b56b8893413639e5c5ed997999d9a345)\n",
       "        ;\n",
       "\n",
       "        \n",
       "    \n",
       "    \n",
       "            var marker_e1ba6f88972740e5455f9d88130bd71b = L.marker(\n",
       "                [22.9752725188445, -82.38492436527059],\n",
       "                {\n",
       "}\n",
       "            ).addTo(map_e4b9394eed1b90c36772b623ee0598e0);\n",
       "        \n",
       "    \n",
       "            var icon_841cd005d7ffd75cf93f6ee2ca2e43a7 = L.AwesomeMarkers.icon(\n",
       "                {\n",
       "  &quot;markerColor&quot;: &quot;red&quot;,\n",
       "  &quot;iconColor&quot;: &quot;white&quot;,\n",
       "  &quot;icon&quot;: &quot;cutlery&quot;,\n",
       "  &quot;prefix&quot;: &quot;fa&quot;,\n",
       "  &quot;extraClasses&quot;: &quot;fa-rotate-0&quot;,\n",
       "}\n",
       "            );\n",
       "            marker_e1ba6f88972740e5455f9d88130bd71b.setIcon(icon_841cd005d7ffd75cf93f6ee2ca2e43a7);\n",
       "        \n",
       "    \n",
       "        var popup_3ccdb7913f08a2b85157251858fdab40 = L.popup({\n",
       "  &quot;maxWidth&quot;: &quot;100%&quot;,\n",
       "});\n",
       "\n",
       "        \n",
       "            \n",
       "                var html_bac508c4c7a138f6bfc14f5b3f176cde = $(`&lt;div id=&quot;html_bac508c4c7a138f6bfc14f5b3f176cde&quot; style=&quot;width: 100.0%; height: 100.0%;&quot;&gt;(&quot;&lt;b style=&#x27;font-size: 18px; &#x27;&gt;Nameless&lt;/b&gt;&lt;br&gt;Direccion: Avenida Rancho Boyeros % 407A &amp; 409, Santiago de las Vegas&quot;, &quot;Especialidades: [&#x27;italiana&#x27;, &#x27;criolla&#x27;, &#x27;cubana&#x27;]&quot;)&lt;/div&gt;`)[0];\n",
       "                popup_3ccdb7913f08a2b85157251858fdab40.setContent(html_bac508c4c7a138f6bfc14f5b3f176cde);\n",
       "            \n",
       "        \n",
       "\n",
       "        marker_e1ba6f88972740e5455f9d88130bd71b.bindPopup(popup_3ccdb7913f08a2b85157251858fdab40)\n",
       "        ;\n",
       "\n",
       "        \n",
       "    \n",
       "    \n",
       "            var marker_768aedc89dc03de28f1c46a45ab3a81e = L.marker(\n",
       "                [23.089238381444375, -82.35993723032014],\n",
       "                {\n",
       "}\n",
       "            ).addTo(map_e4b9394eed1b90c36772b623ee0598e0);\n",
       "        \n",
       "    \n",
       "            var icon_3a1ce225d4c6d270a78b329e3549a8fd = L.AwesomeMarkers.icon(\n",
       "                {\n",
       "  &quot;markerColor&quot;: &quot;red&quot;,\n",
       "  &quot;iconColor&quot;: &quot;white&quot;,\n",
       "  &quot;icon&quot;: &quot;cutlery&quot;,\n",
       "  &quot;prefix&quot;: &quot;fa&quot;,\n",
       "  &quot;extraClasses&quot;: &quot;fa-rotate-0&quot;,\n",
       "}\n",
       "            );\n",
       "            marker_768aedc89dc03de28f1c46a45ab3a81e.setIcon(icon_3a1ce225d4c6d270a78b329e3549a8fd);\n",
       "        \n",
       "    \n",
       "        var popup_84b2331d1a6e3f8f11aa07513463a369 = L.popup({\n",
       "  &quot;maxWidth&quot;: &quot;100%&quot;,\n",
       "});\n",
       "\n",
       "        \n",
       "            \n",
       "                var html_000774cb40a1d703a7fbf4c119fd6edc = $(`&lt;div id=&quot;html_000774cb40a1d703a7fbf4c119fd6edc&quot; style=&quot;width: 100.0%; height: 100.0%;&quot;&gt;(&quot;&lt;b style=&#x27;font-size: 18px; &#x27;&gt;Nel Paradiso&lt;/b&gt;&lt;br&gt;Direccion: Acosta #303 esquina Armas &quot;, &quot;Especialidades: [&#x27;Comida cubana&#x27;, &#x27;criolla&#x27;, &#x27;internacional&#x27;, &#x27;mariscos&#x27;]&quot;)&lt;/div&gt;`)[0];\n",
       "                popup_84b2331d1a6e3f8f11aa07513463a369.setContent(html_000774cb40a1d703a7fbf4c119fd6edc);\n",
       "            \n",
       "        \n",
       "\n",
       "        marker_768aedc89dc03de28f1c46a45ab3a81e.bindPopup(popup_84b2331d1a6e3f8f11aa07513463a369)\n",
       "        ;\n",
       "\n",
       "        \n",
       "    \n",
       "    \n",
       "            var marker_04ccfd58c320ce53c53dff7c6788872d = L.marker(\n",
       "                [23.043747220202967, -82.25328637835823],\n",
       "                {\n",
       "}\n",
       "            ).addTo(map_e4b9394eed1b90c36772b623ee0598e0);\n",
       "        \n",
       "    \n",
       "            var icon_dbdb29f18d6da90bf9597fa0e5e28b63 = L.AwesomeMarkers.icon(\n",
       "                {\n",
       "  &quot;markerColor&quot;: &quot;red&quot;,\n",
       "  &quot;iconColor&quot;: &quot;white&quot;,\n",
       "  &quot;icon&quot;: &quot;cutlery&quot;,\n",
       "  &quot;prefix&quot;: &quot;fa&quot;,\n",
       "  &quot;extraClasses&quot;: &quot;fa-rotate-0&quot;,\n",
       "}\n",
       "            );\n",
       "            marker_04ccfd58c320ce53c53dff7c6788872d.setIcon(icon_dbdb29f18d6da90bf9597fa0e5e28b63);\n",
       "        \n",
       "    \n",
       "        var popup_e21d751ae6687a7254e395b9ba133f17 = L.popup({\n",
       "  &quot;maxWidth&quot;: &quot;100%&quot;,\n",
       "});\n",
       "\n",
       "        \n",
       "            \n",
       "                var html_1fd26d4e053fb159887bfb1121b7123a = $(`&lt;div id=&quot;html_1fd26d4e053fb159887bfb1121b7123a&quot; style=&quot;width: 100.0%; height: 100.0%;&quot;&gt;(&quot;&lt;b style=&#x27;font-size: 18px; &#x27;&gt;Ole Ole&lt;/b&gt;&lt;br&gt;Direccion: 71 esquina 46 y 48, Loteria&quot;, &quot;Especialidades: [&#x27;Cubana&#x27;, &#x27;Italiana&#x27;, &#x27;Criolla&#x27;, &#x27;internacional&#x27;]&quot;)&lt;/div&gt;`)[0];\n",
       "                popup_e21d751ae6687a7254e395b9ba133f17.setContent(html_1fd26d4e053fb159887bfb1121b7123a);\n",
       "            \n",
       "        \n",
       "\n",
       "        marker_04ccfd58c320ce53c53dff7c6788872d.bindPopup(popup_e21d751ae6687a7254e395b9ba133f17)\n",
       "        ;\n",
       "\n",
       "        \n",
       "    \n",
       "    \n",
       "            var marker_a5de20ac80a79c4f35b1c4cb1bebc64c = L.marker(\n",
       "                [23.045754014037833, -82.27038368811118],\n",
       "                {\n",
       "}\n",
       "            ).addTo(map_e4b9394eed1b90c36772b623ee0598e0);\n",
       "        \n",
       "    \n",
       "            var icon_10275a84158cf8c02dd01ab89811ac29 = L.AwesomeMarkers.icon(\n",
       "                {\n",
       "  &quot;markerColor&quot;: &quot;red&quot;,\n",
       "  &quot;iconColor&quot;: &quot;white&quot;,\n",
       "  &quot;icon&quot;: &quot;cutlery&quot;,\n",
       "  &quot;prefix&quot;: &quot;fa&quot;,\n",
       "  &quot;extraClasses&quot;: &quot;fa-rotate-0&quot;,\n",
       "}\n",
       "            );\n",
       "            marker_a5de20ac80a79c4f35b1c4cb1bebc64c.setIcon(icon_10275a84158cf8c02dd01ab89811ac29);\n",
       "        \n",
       "    \n",
       "        var popup_045fa4eb3cc3e2898e7bd807d04df42c = L.popup({\n",
       "  &quot;maxWidth&quot;: &quot;100%&quot;,\n",
       "});\n",
       "\n",
       "        \n",
       "            \n",
       "                var html_e66a4303c7725013a3653706c457a22b = $(`&lt;div id=&quot;html_e66a4303c7725013a3653706c457a22b&quot; style=&quot;width: 100.0%; height: 100.0%;&quot;&gt;(&quot;&lt;b style=&#x27;font-size: 18px; &#x27;&gt;Pal&#x27;Karajo&lt;/b&gt;&lt;br&gt;Direccion: Avenida 101 Esquina 16 Centro&quot;, &quot;Especialidades: [&#x27;sandwich&#x27;]&quot;)&lt;/div&gt;`)[0];\n",
       "                popup_045fa4eb3cc3e2898e7bd807d04df42c.setContent(html_e66a4303c7725013a3653706c457a22b);\n",
       "            \n",
       "        \n",
       "\n",
       "        marker_a5de20ac80a79c4f35b1c4cb1bebc64c.bindPopup(popup_045fa4eb3cc3e2898e7bd807d04df42c)\n",
       "        ;\n",
       "\n",
       "        \n",
       "    \n",
       "    \n",
       "            var marker_3aa17be7c263aa5d3ad32980130a1a23 = L.marker(\n",
       "                [23.13691089950695, -82.36186773236341],\n",
       "                {\n",
       "}\n",
       "            ).addTo(map_e4b9394eed1b90c36772b623ee0598e0);\n",
       "        \n",
       "    \n",
       "            var icon_8b44dd8cbce107cf25b75a7e096525a2 = L.AwesomeMarkers.icon(\n",
       "                {\n",
       "  &quot;markerColor&quot;: &quot;red&quot;,\n",
       "  &quot;iconColor&quot;: &quot;white&quot;,\n",
       "  &quot;icon&quot;: &quot;cutlery&quot;,\n",
       "  &quot;prefix&quot;: &quot;fa&quot;,\n",
       "  &quot;extraClasses&quot;: &quot;fa-rotate-0&quot;,\n",
       "}\n",
       "            );\n",
       "            marker_3aa17be7c263aa5d3ad32980130a1a23.setIcon(icon_8b44dd8cbce107cf25b75a7e096525a2);\n",
       "        \n",
       "    \n",
       "        var popup_721ddff6e2d1129a4c111975a488ac38 = L.popup({\n",
       "  &quot;maxWidth&quot;: &quot;100%&quot;,\n",
       "});\n",
       "\n",
       "        \n",
       "            \n",
       "                var html_b46a4c4dacedc0c80f3ccb5b71d3742a = $(`&lt;div id=&quot;html_b46a4c4dacedc0c80f3ccb5b71d3742a&quot; style=&quot;width: 100.0%; height: 100.0%;&quot;&gt;(&quot;&lt;b style=&#x27;font-size: 18px; &#x27;&gt;Pedro&#x27;s Bar&lt;/b&gt;&lt;br&gt;Direccion: 209 Blvd. de San Rafael entre Aguila y Amistad&quot;, &quot;Especialidades: [&#x27;italiana&#x27;]&quot;)&lt;/div&gt;`)[0];\n",
       "                popup_721ddff6e2d1129a4c111975a488ac38.setContent(html_b46a4c4dacedc0c80f3ccb5b71d3742a);\n",
       "            \n",
       "        \n",
       "\n",
       "        marker_3aa17be7c263aa5d3ad32980130a1a23.bindPopup(popup_721ddff6e2d1129a4c111975a488ac38)\n",
       "        ;\n",
       "\n",
       "        \n",
       "    \n",
       "    \n",
       "            var marker_43c12554079caefc934550251a44f78e = L.marker(\n",
       "                [23.12356261631935, -82.30423505951029],\n",
       "                {\n",
       "}\n",
       "            ).addTo(map_e4b9394eed1b90c36772b623ee0598e0);\n",
       "        \n",
       "    \n",
       "            var icon_a7823724505324cafdb6c5ee576edce5 = L.AwesomeMarkers.icon(\n",
       "                {\n",
       "  &quot;markerColor&quot;: &quot;red&quot;,\n",
       "  &quot;iconColor&quot;: &quot;white&quot;,\n",
       "  &quot;icon&quot;: &quot;cutlery&quot;,\n",
       "  &quot;prefix&quot;: &quot;fa&quot;,\n",
       "  &quot;extraClasses&quot;: &quot;fa-rotate-0&quot;,\n",
       "}\n",
       "            );\n",
       "            marker_43c12554079caefc934550251a44f78e.setIcon(icon_a7823724505324cafdb6c5ee576edce5);\n",
       "        \n",
       "    \n",
       "        var popup_54ec464b65694a984c957c2f56de1341 = L.popup({\n",
       "  &quot;maxWidth&quot;: &quot;100%&quot;,\n",
       "});\n",
       "\n",
       "        \n",
       "            \n",
       "                var html_b01bd8b4bee2813cae4fceba5c200b05 = $(`&lt;div id=&quot;html_b01bd8b4bee2813cae4fceba5c200b05&quot; style=&quot;width: 100.0%; height: 100.0%;&quot;&gt;(&quot;&lt;b style=&#x27;font-size: 18px; &#x27;&gt;Pizzas Vip&lt;/b&gt;&lt;br&gt;Direccion: E Guiral entre Luz y Maceo&quot;, &quot;Especialidades: [&#x27;Pizzas&#x27;, &#x27;Pastas&#x27;]&quot;)&lt;/div&gt;`)[0];\n",
       "                popup_54ec464b65694a984c957c2f56de1341.setContent(html_b01bd8b4bee2813cae4fceba5c200b05);\n",
       "            \n",
       "        \n",
       "\n",
       "        marker_43c12554079caefc934550251a44f78e.bindPopup(popup_54ec464b65694a984c957c2f56de1341)\n",
       "        ;\n",
       "\n",
       "        \n",
       "    \n",
       "    \n",
       "            var marker_556ad5cb3a42a53d311dbe3a476bc216 = L.marker(\n",
       "                [23.139325457451932, -82.35937998794891],\n",
       "                {\n",
       "}\n",
       "            ).addTo(map_e4b9394eed1b90c36772b623ee0598e0);\n",
       "        \n",
       "    \n",
       "            var icon_03c4d0ecdfc676cf32d778e234c2b626 = L.AwesomeMarkers.icon(\n",
       "                {\n",
       "  &quot;markerColor&quot;: &quot;red&quot;,\n",
       "  &quot;iconColor&quot;: &quot;white&quot;,\n",
       "  &quot;icon&quot;: &quot;cutlery&quot;,\n",
       "  &quot;prefix&quot;: &quot;fa&quot;,\n",
       "  &quot;extraClasses&quot;: &quot;fa-rotate-0&quot;,\n",
       "}\n",
       "            );\n",
       "            marker_556ad5cb3a42a53d311dbe3a476bc216.setIcon(icon_03c4d0ecdfc676cf32d778e234c2b626);\n",
       "        \n",
       "    \n",
       "        var popup_3a72f16759ded8b870326c5d23bfa21f = L.popup({\n",
       "  &quot;maxWidth&quot;: &quot;100%&quot;,\n",
       "});\n",
       "\n",
       "        \n",
       "            \n",
       "                var html_da19eb0617d04c169168f7d7e7800582 = $(`&lt;div id=&quot;html_da19eb0617d04c169168f7d7e7800582&quot; style=&quot;width: 100.0%; height: 100.0%;&quot;&gt;(&quot;&lt;b style=&#x27;font-size: 18px; &#x27;&gt;Plan H&lt;/b&gt;&lt;br&gt;Direccion: 308 P de Marti Ánimas y Virtudes&quot;, &quot;Especialidades: [&#x27;Comida Asiática&#x27;, &#x27;Internacional&#x27;, &#x27;Tailandesa&#x27;]&quot;)&lt;/div&gt;`)[0];\n",
       "                popup_3a72f16759ded8b870326c5d23bfa21f.setContent(html_da19eb0617d04c169168f7d7e7800582);\n",
       "            \n",
       "        \n",
       "\n",
       "        marker_556ad5cb3a42a53d311dbe3a476bc216.bindPopup(popup_3a72f16759ded8b870326c5d23bfa21f)\n",
       "        ;\n",
       "\n",
       "        \n",
       "    \n",
       "    \n",
       "            var marker_c7e8578e34fe6059c843b49a0b72dfbf = L.marker(\n",
       "                [23.122083546215134, -82.30797703533594],\n",
       "                {\n",
       "}\n",
       "            ).addTo(map_e4b9394eed1b90c36772b623ee0598e0);\n",
       "        \n",
       "    \n",
       "            var icon_52224a104bd2c66680f98b6950a7fcb9 = L.AwesomeMarkers.icon(\n",
       "                {\n",
       "  &quot;markerColor&quot;: &quot;red&quot;,\n",
       "  &quot;iconColor&quot;: &quot;white&quot;,\n",
       "  &quot;icon&quot;: &quot;cutlery&quot;,\n",
       "  &quot;prefix&quot;: &quot;fa&quot;,\n",
       "  &quot;extraClasses&quot;: &quot;fa-rotate-0&quot;,\n",
       "}\n",
       "            );\n",
       "            marker_c7e8578e34fe6059c843b49a0b72dfbf.setIcon(icon_52224a104bd2c66680f98b6950a7fcb9);\n",
       "        \n",
       "    \n",
       "        var popup_bc2df6f10c09b6bb61875345893692d8 = L.popup({\n",
       "  &quot;maxWidth&quot;: &quot;100%&quot;,\n",
       "});\n",
       "\n",
       "        \n",
       "            \n",
       "                var html_c89f089d512b7aa238af32918c63a7a7 = $(`&lt;div id=&quot;html_c89f089d512b7aa238af32918c63a7a7&quot; style=&quot;width: 100.0%; height: 100.0%;&quot;&gt;(&quot;&lt;b style=&#x27;font-size: 18px; &#x27;&gt;Polo&lt;/b&gt;&lt;br&gt;Direccion: Calle Cruz Verde entre Independencia Este y Barreto Este&quot;, &quot;Especialidades: [&#x27;Comida Internacional&#x27;]&quot;)&lt;/div&gt;`)[0];\n",
       "                popup_bc2df6f10c09b6bb61875345893692d8.setContent(html_c89f089d512b7aa238af32918c63a7a7);\n",
       "            \n",
       "        \n",
       "\n",
       "        marker_c7e8578e34fe6059c843b49a0b72dfbf.bindPopup(popup_bc2df6f10c09b6bb61875345893692d8)\n",
       "        ;\n",
       "\n",
       "        \n",
       "    \n",
       "    \n",
       "            var marker_c9e9cb1eba7c555b5b4642ab73d160cc = L.marker(\n",
       "                [23.067659194580123, -82.4512542109271],\n",
       "                {\n",
       "}\n",
       "            ).addTo(map_e4b9394eed1b90c36772b623ee0598e0);\n",
       "        \n",
       "    \n",
       "            var icon_5dd3bb3a4d9297442aab9fa6bf4db5bd = L.AwesomeMarkers.icon(\n",
       "                {\n",
       "  &quot;markerColor&quot;: &quot;red&quot;,\n",
       "  &quot;iconColor&quot;: &quot;white&quot;,\n",
       "  &quot;icon&quot;: &quot;cutlery&quot;,\n",
       "  &quot;prefix&quot;: &quot;fa&quot;,\n",
       "  &quot;extraClasses&quot;: &quot;fa-rotate-0&quot;,\n",
       "}\n",
       "            );\n",
       "            marker_c9e9cb1eba7c555b5b4642ab73d160cc.setIcon(icon_5dd3bb3a4d9297442aab9fa6bf4db5bd);\n",
       "        \n",
       "    \n",
       "        var popup_8fc122052bf36f0b474e9a7f9f9ef539 = L.popup({\n",
       "  &quot;maxWidth&quot;: &quot;100%&quot;,\n",
       "});\n",
       "\n",
       "        \n",
       "            \n",
       "                var html_fa5d07ec4585c8bec8eac55ce6266850 = $(`&lt;div id=&quot;html_fa5d07ec4585c8bec8eac55ce6266850&quot; style=&quot;width: 100.0%; height: 100.0%;&quot;&gt;(&quot;&lt;b style=&#x27;font-size: 18px; &#x27;&gt;Ranchon Don Martin&lt;/b&gt;&lt;br&gt;Direccion: Calle 198 no.3733 entre 37 y 45&quot;, &quot;Especialidades: [&#x27;cubana&#x27;, &#x27;criolla&#x27;, &#x27;asado&#x27;]&quot;)&lt;/div&gt;`)[0];\n",
       "                popup_8fc122052bf36f0b474e9a7f9f9ef539.setContent(html_fa5d07ec4585c8bec8eac55ce6266850);\n",
       "            \n",
       "        \n",
       "\n",
       "        marker_c9e9cb1eba7c555b5b4642ab73d160cc.bindPopup(popup_8fc122052bf36f0b474e9a7f9f9ef539)\n",
       "        ;\n",
       "\n",
       "        \n",
       "    \n",
       "    \n",
       "            var marker_857bc22ad8c54086d1f27f478ea334ac = L.marker(\n",
       "                [23.08973578096908, -82.42166351867644],\n",
       "                {\n",
       "}\n",
       "            ).addTo(map_e4b9394eed1b90c36772b623ee0598e0);\n",
       "        \n",
       "    \n",
       "            var icon_f7b33a446b6dcc3d085ba74611cb8532 = L.AwesomeMarkers.icon(\n",
       "                {\n",
       "  &quot;markerColor&quot;: &quot;red&quot;,\n",
       "  &quot;iconColor&quot;: &quot;white&quot;,\n",
       "  &quot;icon&quot;: &quot;cutlery&quot;,\n",
       "  &quot;prefix&quot;: &quot;fa&quot;,\n",
       "  &quot;extraClasses&quot;: &quot;fa-rotate-0&quot;,\n",
       "}\n",
       "            );\n",
       "            marker_857bc22ad8c54086d1f27f478ea334ac.setIcon(icon_f7b33a446b6dcc3d085ba74611cb8532);\n",
       "        \n",
       "    \n",
       "        var popup_007e5c046e0fc9a693c8257adf497a51 = L.popup({\n",
       "  &quot;maxWidth&quot;: &quot;100%&quot;,\n",
       "});\n",
       "\n",
       "        \n",
       "            \n",
       "                var html_97e211e989df5428b5b40825a5e5adb3 = $(`&lt;div id=&quot;html_97e211e989df5428b5b40825a5e5adb3&quot; style=&quot;width: 100.0%; height: 100.0%;&quot;&gt;(&quot;&lt;b style=&#x27;font-size: 18px; &#x27;&gt;Ranchon de 41&lt;/b&gt;&lt;br&gt;Direccion: Avenida 41 y 84&quot;, &quot;Especialidades: [&#x27;mixta&#x27;]&quot;)&lt;/div&gt;`)[0];\n",
       "                popup_007e5c046e0fc9a693c8257adf497a51.setContent(html_97e211e989df5428b5b40825a5e5adb3);\n",
       "            \n",
       "        \n",
       "\n",
       "        marker_857bc22ad8c54086d1f27f478ea334ac.bindPopup(popup_007e5c046e0fc9a693c8257adf497a51)\n",
       "        ;\n",
       "\n",
       "        \n",
       "    \n",
       "    \n",
       "            var marker_ae9a624b9082996fa916ac366157a998 = L.marker(\n",
       "                [23.1593325543624, -82.28055542260424],\n",
       "                {\n",
       "}\n",
       "            ).addTo(map_e4b9394eed1b90c36772b623ee0598e0);\n",
       "        \n",
       "    \n",
       "            var icon_51d3ec5eb486fb287c512653871b152a = L.AwesomeMarkers.icon(\n",
       "                {\n",
       "  &quot;markerColor&quot;: &quot;red&quot;,\n",
       "  &quot;iconColor&quot;: &quot;white&quot;,\n",
       "  &quot;icon&quot;: &quot;cutlery&quot;,\n",
       "  &quot;prefix&quot;: &quot;fa&quot;,\n",
       "  &quot;extraClasses&quot;: &quot;fa-rotate-0&quot;,\n",
       "}\n",
       "            );\n",
       "            marker_ae9a624b9082996fa916ac366157a998.setIcon(icon_51d3ec5eb486fb287c512653871b152a);\n",
       "        \n",
       "    \n",
       "        var popup_f2b0dd4a2893f35029dddd35699a1198 = L.popup({\n",
       "  &quot;maxWidth&quot;: &quot;100%&quot;,\n",
       "});\n",
       "\n",
       "        \n",
       "            \n",
       "                var html_9a40c7c301257c91a74ed33b0b237d58 = $(`&lt;div id=&quot;html_9a40c7c301257c91a74ed33b0b237d58&quot; style=&quot;width: 100.0%; height: 100.0%;&quot;&gt;(&quot;&lt;b style=&#x27;font-size: 18px; &#x27;&gt;Ranchon Hanoi&lt;/b&gt;&lt;br&gt;Direccion: Parque Hanoi, zona 6, Alamar&quot;, &quot;Especialidades: [&#x27;Comida mixta&#x27;]&quot;)&lt;/div&gt;`)[0];\n",
       "                popup_f2b0dd4a2893f35029dddd35699a1198.setContent(html_9a40c7c301257c91a74ed33b0b237d58);\n",
       "            \n",
       "        \n",
       "\n",
       "        marker_ae9a624b9082996fa916ac366157a998.bindPopup(popup_f2b0dd4a2893f35029dddd35699a1198)\n",
       "        ;\n",
       "\n",
       "        \n",
       "    \n",
       "    \n",
       "            var marker_b492c7283f850b722ab9d85c3b85aa3e = L.marker(\n",
       "                [22.975899692812543, -82.3846842092052],\n",
       "                {\n",
       "}\n",
       "            ).addTo(map_e4b9394eed1b90c36772b623ee0598e0);\n",
       "        \n",
       "    \n",
       "            var icon_4621e6aabaed5b3c74191a41d1ee5a9d = L.AwesomeMarkers.icon(\n",
       "                {\n",
       "  &quot;markerColor&quot;: &quot;red&quot;,\n",
       "  &quot;iconColor&quot;: &quot;white&quot;,\n",
       "  &quot;icon&quot;: &quot;cutlery&quot;,\n",
       "  &quot;prefix&quot;: &quot;fa&quot;,\n",
       "  &quot;extraClasses&quot;: &quot;fa-rotate-0&quot;,\n",
       "}\n",
       "            );\n",
       "            marker_b492c7283f850b722ab9d85c3b85aa3e.setIcon(icon_4621e6aabaed5b3c74191a41d1ee5a9d);\n",
       "        \n",
       "    \n",
       "        var popup_8205ce77e47ca88886bae19012e7eeb5 = L.popup({\n",
       "  &quot;maxWidth&quot;: &quot;100%&quot;,\n",
       "});\n",
       "\n",
       "        \n",
       "            \n",
       "                var html_f8e24ed536a31306e7499ed22ef43533 = $(`&lt;div id=&quot;html_f8e24ed536a31306e7499ed22ef43533&quot; style=&quot;width: 100.0%; height: 100.0%;&quot;&gt;(&quot;&lt;b style=&#x27;font-size: 18px; &#x27;&gt;Ranchon Las Vegas&lt;/b&gt;&lt;br&gt;Direccion: Calle 409 % 182 &amp; Avenida Independencia, Santiago de las Vegas &quot;, &quot;Especialidades: [&#x27;Cubana&#x27;, &#x27;criolla&#x27;, &#x27;internacional&#x27;]&quot;)&lt;/div&gt;`)[0];\n",
       "                popup_8205ce77e47ca88886bae19012e7eeb5.setContent(html_f8e24ed536a31306e7499ed22ef43533);\n",
       "            \n",
       "        \n",
       "\n",
       "        marker_b492c7283f850b722ab9d85c3b85aa3e.bindPopup(popup_8205ce77e47ca88886bae19012e7eeb5)\n",
       "        ;\n",
       "\n",
       "        \n",
       "    \n",
       "    \n",
       "            var marker_b0d6a3f2cf4b0dd28028d81cae1097f2 = L.marker(\n",
       "                [23.143226340667947, -82.39569107139691],\n",
       "                {\n",
       "}\n",
       "            ).addTo(map_e4b9394eed1b90c36772b623ee0598e0);\n",
       "        \n",
       "    \n",
       "            var icon_11d06b77074ecf9148b833487d6aa771 = L.AwesomeMarkers.icon(\n",
       "                {\n",
       "  &quot;markerColor&quot;: &quot;red&quot;,\n",
       "  &quot;iconColor&quot;: &quot;white&quot;,\n",
       "  &quot;icon&quot;: &quot;cutlery&quot;,\n",
       "  &quot;prefix&quot;: &quot;fa&quot;,\n",
       "  &quot;extraClasses&quot;: &quot;fa-rotate-0&quot;,\n",
       "}\n",
       "            );\n",
       "            marker_b0d6a3f2cf4b0dd28028d81cae1097f2.setIcon(icon_11d06b77074ecf9148b833487d6aa771);\n",
       "        \n",
       "    \n",
       "        var popup_bc3ce07beaaa0a0806ef373f2aa2dff8 = L.popup({\n",
       "  &quot;maxWidth&quot;: &quot;100%&quot;,\n",
       "});\n",
       "\n",
       "        \n",
       "            \n",
       "                var html_9acc7a72e15e470ff2ea857fe284470a = $(`&lt;div id=&quot;html_9acc7a72e15e470ff2ea857fe284470a&quot; style=&quot;width: 100.0%; height: 100.0%;&quot;&gt;(&quot;&lt;b style=&#x27;font-size: 18px; &#x27;&gt;Razones y Motivos&lt;/b&gt;&lt;br&gt;Direccion: Calle F No.63 entre 3era y 5ta, Vedado&quot;, &quot;Especialidades: [&#x27;Comida Caribeña&#x27;, &#x27;Latina&#x27;, &#x27;Cubana&#x27;, &#x27;criolla&#x27;, &#x27;Sudamericana&#x27;, &#x27;Centroamericana&#x27;]&quot;)&lt;/div&gt;`)[0];\n",
       "                popup_bc3ce07beaaa0a0806ef373f2aa2dff8.setContent(html_9acc7a72e15e470ff2ea857fe284470a);\n",
       "            \n",
       "        \n",
       "\n",
       "        marker_b0d6a3f2cf4b0dd28028d81cae1097f2.bindPopup(popup_bc3ce07beaaa0a0806ef373f2aa2dff8)\n",
       "        ;\n",
       "\n",
       "        \n",
       "    \n",
       "    \n",
       "            var marker_bdfc19effc4aaf6999a050d06c2dc459 = L.marker(\n",
       "                [23.137547259787535, -82.36095379003397],\n",
       "                {\n",
       "}\n",
       "            ).addTo(map_e4b9394eed1b90c36772b623ee0598e0);\n",
       "        \n",
       "    \n",
       "            var icon_d0806d5e742034be37f34ae3463b28e7 = L.AwesomeMarkers.icon(\n",
       "                {\n",
       "  &quot;markerColor&quot;: &quot;red&quot;,\n",
       "  &quot;iconColor&quot;: &quot;white&quot;,\n",
       "  &quot;icon&quot;: &quot;cutlery&quot;,\n",
       "  &quot;prefix&quot;: &quot;fa&quot;,\n",
       "  &quot;extraClasses&quot;: &quot;fa-rotate-0&quot;,\n",
       "}\n",
       "            );\n",
       "            marker_bdfc19effc4aaf6999a050d06c2dc459.setIcon(icon_d0806d5e742034be37f34ae3463b28e7);\n",
       "        \n",
       "    \n",
       "        var popup_600b8a39d6d2e20a4449a49c9f1b4b8b = L.popup({\n",
       "  &quot;maxWidth&quot;: &quot;100%&quot;,\n",
       "});\n",
       "\n",
       "        \n",
       "            \n",
       "                var html_3f4d9b273b22fca0ce8c9769ef8387aa = $(`&lt;div id=&quot;html_3f4d9b273b22fca0ce8c9769ef8387aa&quot; style=&quot;width: 100.0%; height: 100.0%;&quot;&gt;(&quot;&lt;b style=&#x27;font-size: 18px; &#x27;&gt;Ricardon&lt;/b&gt;&lt;br&gt;Direccion: Industria entre San Miguel y Blvd de San Rafael&quot;, &quot;Especialidades: [&#x27;caribeña&#x27;, &#x27;latina&#x27;, &#x27;mediterránea&#x27;, &#x27;cubana&#x27;]&quot;)&lt;/div&gt;`)[0];\n",
       "                popup_600b8a39d6d2e20a4449a49c9f1b4b8b.setContent(html_3f4d9b273b22fca0ce8c9769ef8387aa);\n",
       "            \n",
       "        \n",
       "\n",
       "        marker_bdfc19effc4aaf6999a050d06c2dc459.bindPopup(popup_600b8a39d6d2e20a4449a49c9f1b4b8b)\n",
       "        ;\n",
       "\n",
       "        \n",
       "    \n",
       "    \n",
       "            var marker_7fceeff549db9f5955b36743db09548f = L.marker(\n",
       "                [23.126245278270186, -82.38010644455453],\n",
       "                {\n",
       "}\n",
       "            ).addTo(map_e4b9394eed1b90c36772b623ee0598e0);\n",
       "        \n",
       "    \n",
       "            var icon_0483761ccfdd297b39f62d7b6ce64ecd = L.AwesomeMarkers.icon(\n",
       "                {\n",
       "  &quot;markerColor&quot;: &quot;red&quot;,\n",
       "  &quot;iconColor&quot;: &quot;white&quot;,\n",
       "  &quot;icon&quot;: &quot;cutlery&quot;,\n",
       "  &quot;prefix&quot;: &quot;fa&quot;,\n",
       "  &quot;extraClasses&quot;: &quot;fa-rotate-0&quot;,\n",
       "}\n",
       "            );\n",
       "            marker_7fceeff549db9f5955b36743db09548f.setIcon(icon_0483761ccfdd297b39f62d7b6ce64ecd);\n",
       "        \n",
       "    \n",
       "        var popup_b39972a828c5146d3487a88e673f18f3 = L.popup({\n",
       "  &quot;maxWidth&quot;: &quot;100%&quot;,\n",
       "});\n",
       "\n",
       "        \n",
       "            \n",
       "                var html_d7f48a8345ac2e22d110b5a60df74792 = $(`&lt;div id=&quot;html_d7f48a8345ac2e22d110b5a60df74792&quot; style=&quot;width: 100.0%; height: 100.0%;&quot;&gt;(&quot;&lt;b style=&#x27;font-size: 18px; &#x27;&gt;Rico Rico&lt;/b&gt;&lt;br&gt;Direccion: Calle Ayestarán entre Perfecto Lacoste y Aranguren&quot;, &quot;Especialidades: [&#x27;italiana&#x27;]&quot;)&lt;/div&gt;`)[0];\n",
       "                popup_b39972a828c5146d3487a88e673f18f3.setContent(html_d7f48a8345ac2e22d110b5a60df74792);\n",
       "            \n",
       "        \n",
       "\n",
       "        marker_7fceeff549db9f5955b36743db09548f.bindPopup(popup_b39972a828c5146d3487a88e673f18f3)\n",
       "        ;\n",
       "\n",
       "        \n",
       "    \n",
       "    \n",
       "            var marker_9592be51bea5b5fe8e2423a8150987bf = L.marker(\n",
       "                [23.094673000199286, -82.41860913032004],\n",
       "                {\n",
       "}\n",
       "            ).addTo(map_e4b9394eed1b90c36772b623ee0598e0);\n",
       "        \n",
       "    \n",
       "            var icon_3b606817a3c17d3c8143173f83061e49 = L.AwesomeMarkers.icon(\n",
       "                {\n",
       "  &quot;markerColor&quot;: &quot;red&quot;,\n",
       "  &quot;iconColor&quot;: &quot;white&quot;,\n",
       "  &quot;icon&quot;: &quot;cutlery&quot;,\n",
       "  &quot;prefix&quot;: &quot;fa&quot;,\n",
       "  &quot;extraClasses&quot;: &quot;fa-rotate-0&quot;,\n",
       "}\n",
       "            );\n",
       "            marker_9592be51bea5b5fe8e2423a8150987bf.setIcon(icon_3b606817a3c17d3c8143173f83061e49);\n",
       "        \n",
       "    \n",
       "        var popup_1d2575d4a4f44a46173d5f6bf1342192 = L.popup({\n",
       "  &quot;maxWidth&quot;: &quot;100%&quot;,\n",
       "});\n",
       "\n",
       "        \n",
       "            \n",
       "                var html_6270b1415a0c0a29761cc233f9ac566f = $(`&lt;div id=&quot;html_6270b1415a0c0a29761cc233f9ac566f&quot; style=&quot;width: 100.0%; height: 100.0%;&quot;&gt;(&quot;&lt;b style=&#x27;font-size: 18px; &#x27;&gt;Restaurante Rodney (Tropicana)&lt;/b&gt;&lt;br&gt;Direccion: 72A,Avenida 41&quot;, &quot;Especialidades: [&#x27;cubana&#x27;, &#x27;internacional&#x27;, &#x27;criolla&#x27;]&quot;)&lt;/div&gt;`)[0];\n",
       "                popup_1d2575d4a4f44a46173d5f6bf1342192.setContent(html_6270b1415a0c0a29761cc233f9ac566f);\n",
       "            \n",
       "        \n",
       "\n",
       "        marker_9592be51bea5b5fe8e2423a8150987bf.bindPopup(popup_1d2575d4a4f44a46173d5f6bf1342192)\n",
       "        ;\n",
       "\n",
       "        \n",
       "    \n",
       "    \n",
       "            var marker_70c297911e5750d5cdcd1ede481d14fd = L.marker(\n",
       "                [23.13411346121413, -82.37839877964456],\n",
       "                {\n",
       "}\n",
       "            ).addTo(map_e4b9394eed1b90c36772b623ee0598e0);\n",
       "        \n",
       "    \n",
       "            var icon_fc8096f2454201874e1ec5d18b8536d6 = L.AwesomeMarkers.icon(\n",
       "                {\n",
       "  &quot;markerColor&quot;: &quot;red&quot;,\n",
       "  &quot;iconColor&quot;: &quot;white&quot;,\n",
       "  &quot;icon&quot;: &quot;cutlery&quot;,\n",
       "  &quot;prefix&quot;: &quot;fa&quot;,\n",
       "  &quot;extraClasses&quot;: &quot;fa-rotate-0&quot;,\n",
       "}\n",
       "            );\n",
       "            marker_70c297911e5750d5cdcd1ede481d14fd.setIcon(icon_fc8096f2454201874e1ec5d18b8536d6);\n",
       "        \n",
       "    \n",
       "        var popup_705704019b528fce762792acf70bf08e = L.popup({\n",
       "  &quot;maxWidth&quot;: &quot;100%&quot;,\n",
       "});\n",
       "\n",
       "        \n",
       "            \n",
       "                var html_515e59f1c3a68ba4fa871efae7559067 = $(`&lt;div id=&quot;html_515e59f1c3a68ba4fa871efae7559067&quot; style=&quot;width: 100.0%; height: 100.0%;&quot;&gt;(&quot;&lt;b style=&#x27;font-size: 18px; &#x27;&gt;Salchipizza&lt;/b&gt;&lt;br&gt;Direccion: Calle Infanta entre Zanja y Valle&quot;, &quot;Especialidades: [&#x27;cubana&#x27;]&quot;)&lt;/div&gt;`)[0];\n",
       "                popup_705704019b528fce762792acf70bf08e.setContent(html_515e59f1c3a68ba4fa871efae7559067);\n",
       "            \n",
       "        \n",
       "\n",
       "        marker_70c297911e5750d5cdcd1ede481d14fd.bindPopup(popup_705704019b528fce762792acf70bf08e)\n",
       "        ;\n",
       "\n",
       "        \n",
       "    \n",
       "    \n",
       "            var marker_84238cb836ee45998e1af3308defdc7d = L.marker(\n",
       "                [23.13562239054984, -82.37745889737107],\n",
       "                {\n",
       "}\n",
       "            ).addTo(map_e4b9394eed1b90c36772b623ee0598e0);\n",
       "        \n",
       "    \n",
       "            var icon_642d762c21ce2bc4a51948a2aa7a70d6 = L.AwesomeMarkers.icon(\n",
       "                {\n",
       "  &quot;markerColor&quot;: &quot;red&quot;,\n",
       "  &quot;iconColor&quot;: &quot;white&quot;,\n",
       "  &quot;icon&quot;: &quot;cutlery&quot;,\n",
       "  &quot;prefix&quot;: &quot;fa&quot;,\n",
       "  &quot;extraClasses&quot;: &quot;fa-rotate-0&quot;,\n",
       "}\n",
       "            );\n",
       "            marker_84238cb836ee45998e1af3308defdc7d.setIcon(icon_642d762c21ce2bc4a51948a2aa7a70d6);\n",
       "        \n",
       "    \n",
       "        var popup_5ad4bd0674a01453ab54d1b00500817c = L.popup({\n",
       "  &quot;maxWidth&quot;: &quot;100%&quot;,\n",
       "});\n",
       "\n",
       "        \n",
       "            \n",
       "                var html_0f590cbbca55dadbf34f21ab8fa053f7 = $(`&lt;div id=&quot;html_0f590cbbca55dadbf34f21ab8fa053f7&quot; style=&quot;width: 100.0%; height: 100.0%;&quot;&gt;(&quot;&lt;b style=&#x27;font-size: 18px; &#x27;&gt;San Rafael 1051&lt;/b&gt;&lt;br&gt;Direccion: San Fransico entre San Rafael y San Martin&quot;, &quot;Especialidades: [&#x27;americana&#x27;, &#x27;internacional&#x27;]&quot;)&lt;/div&gt;`)[0];\n",
       "                popup_5ad4bd0674a01453ab54d1b00500817c.setContent(html_0f590cbbca55dadbf34f21ab8fa053f7);\n",
       "            \n",
       "        \n",
       "\n",
       "        marker_84238cb836ee45998e1af3308defdc7d.bindPopup(popup_5ad4bd0674a01453ab54d1b00500817c)\n",
       "        ;\n",
       "\n",
       "        \n",
       "    \n",
       "    \n",
       "            var marker_a02085e218df81b94119be6fd027f2e1 = L.marker(\n",
       "                [23.117449358542444, -82.38458676119917],\n",
       "                {\n",
       "}\n",
       "            ).addTo(map_e4b9394eed1b90c36772b623ee0598e0);\n",
       "        \n",
       "    \n",
       "            var icon_1c3a19c9f268a3f949ebdd198aeb30b7 = L.AwesomeMarkers.icon(\n",
       "                {\n",
       "  &quot;markerColor&quot;: &quot;red&quot;,\n",
       "  &quot;iconColor&quot;: &quot;white&quot;,\n",
       "  &quot;icon&quot;: &quot;cutlery&quot;,\n",
       "  &quot;prefix&quot;: &quot;fa&quot;,\n",
       "  &quot;extraClasses&quot;: &quot;fa-rotate-0&quot;,\n",
       "}\n",
       "            );\n",
       "            marker_a02085e218df81b94119be6fd027f2e1.setIcon(icon_1c3a19c9f268a3f949ebdd198aeb30b7);\n",
       "        \n",
       "    \n",
       "        var popup_5469ef0408057bf32e4ef6cb07f59270 = L.popup({\n",
       "  &quot;maxWidth&quot;: &quot;100%&quot;,\n",
       "});\n",
       "\n",
       "        \n",
       "            \n",
       "                var html_9bb1ba9057291f658cce0ac480ace732 = $(`&lt;div id=&quot;html_9bb1ba9057291f658cce0ac480ace732&quot; style=&quot;width: 100.0%; height: 100.0%;&quot;&gt;(&quot;&lt;b style=&#x27;font-size: 18px; &#x27;&gt;Shapuceros&lt;/b&gt;&lt;br&gt;Direccion: Calzada de Ayestarán entre San Pedro y Ayuntamineto&quot;, &quot;Especialidades: [&#x27;Hamburgusera&#x27;]&quot;)&lt;/div&gt;`)[0];\n",
       "                popup_5469ef0408057bf32e4ef6cb07f59270.setContent(html_9bb1ba9057291f658cce0ac480ace732);\n",
       "            \n",
       "        \n",
       "\n",
       "        marker_a02085e218df81b94119be6fd027f2e1.bindPopup(popup_5469ef0408057bf32e4ef6cb07f59270)\n",
       "        ;\n",
       "\n",
       "        \n",
       "    \n",
       "    \n",
       "            var marker_96c89056895deef1ea935e758c8aa457 = L.marker(\n",
       "                [23.138045288912124, -82.35708342337576],\n",
       "                {\n",
       "}\n",
       "            ).addTo(map_e4b9394eed1b90c36772b623ee0598e0);\n",
       "        \n",
       "    \n",
       "            var icon_e72efb53d68d909369ba7d9bd3dbe316 = L.AwesomeMarkers.icon(\n",
       "                {\n",
       "  &quot;markerColor&quot;: &quot;red&quot;,\n",
       "  &quot;iconColor&quot;: &quot;white&quot;,\n",
       "  &quot;icon&quot;: &quot;cutlery&quot;,\n",
       "  &quot;prefix&quot;: &quot;fa&quot;,\n",
       "  &quot;extraClasses&quot;: &quot;fa-rotate-0&quot;,\n",
       "}\n",
       "            );\n",
       "            marker_96c89056895deef1ea935e758c8aa457.setIcon(icon_e72efb53d68d909369ba7d9bd3dbe316);\n",
       "        \n",
       "    \n",
       "        var popup_847c30e54236130a5692eb2fc36c2c66 = L.popup({\n",
       "  &quot;maxWidth&quot;: &quot;100%&quot;,\n",
       "});\n",
       "\n",
       "        \n",
       "            \n",
       "                var html_6b3dddb423675b8bbe77cbee681cd582 = $(`&lt;div id=&quot;html_6b3dddb423675b8bbe77cbee681cd582&quot; style=&quot;width: 100.0%; height: 100.0%;&quot;&gt;(&quot;&lt;b style=&#x27;font-size: 18px; &#x27;&gt;Sibarita&lt;/b&gt;&lt;br&gt;Direccion: O&#x27;Reilly #528 entre Bernaza y Villegas&quot;, &quot;Especialidades: [&#x27;Comida Caribeña&#x27;, &#x27;Latina&#x27;, &#x27;Internacional&#x27;, &#x27;Mediterránea&#x27;, &#x27;Cubana&#x27;, &#x27;Centroamericana&#x27;]&quot;)&lt;/div&gt;`)[0];\n",
       "                popup_847c30e54236130a5692eb2fc36c2c66.setContent(html_6b3dddb423675b8bbe77cbee681cd582);\n",
       "            \n",
       "        \n",
       "\n",
       "        marker_96c89056895deef1ea935e758c8aa457.bindPopup(popup_847c30e54236130a5692eb2fc36c2c66)\n",
       "        ;\n",
       "\n",
       "        \n",
       "    \n",
       "    \n",
       "            var marker_38c61b12f4793e97a34e8cad66ebd166 = L.marker(\n",
       "                [23.133637707331292, -82.39154731355289],\n",
       "                {\n",
       "}\n",
       "            ).addTo(map_e4b9394eed1b90c36772b623ee0598e0);\n",
       "        \n",
       "    \n",
       "            var icon_fb1f34348ab5475f3dd54b9cbb0615b5 = L.AwesomeMarkers.icon(\n",
       "                {\n",
       "  &quot;markerColor&quot;: &quot;red&quot;,\n",
       "  &quot;iconColor&quot;: &quot;white&quot;,\n",
       "  &quot;icon&quot;: &quot;cutlery&quot;,\n",
       "  &quot;prefix&quot;: &quot;fa&quot;,\n",
       "  &quot;extraClasses&quot;: &quot;fa-rotate-0&quot;,\n",
       "}\n",
       "            );\n",
       "            marker_38c61b12f4793e97a34e8cad66ebd166.setIcon(icon_fb1f34348ab5475f3dd54b9cbb0615b5);\n",
       "        \n",
       "    \n",
       "        var popup_99a2c507693b11dd7fff69cb9b6c0f60 = L.popup({\n",
       "  &quot;maxWidth&quot;: &quot;100%&quot;,\n",
       "});\n",
       "\n",
       "        \n",
       "            \n",
       "                var html_fa2425d4008ce675e7abf1030bd0fc8b = $(`&lt;div id=&quot;html_fa2425d4008ce675e7abf1030bd0fc8b&quot; style=&quot;width: 100.0%; height: 100.0%;&quot;&gt;(&quot;&lt;b style=&#x27;font-size: 18px; &#x27;&gt;Sonar contigo&lt;/b&gt;&lt;br&gt;Direccion: Esquina Ave 23 y Calle C&quot;, &quot;Especialidades: [&#x27;Desayunos&#x27;, &#x27;Cafes&#x27;]&quot;)&lt;/div&gt;`)[0];\n",
       "                popup_99a2c507693b11dd7fff69cb9b6c0f60.setContent(html_fa2425d4008ce675e7abf1030bd0fc8b);\n",
       "            \n",
       "        \n",
       "\n",
       "        marker_38c61b12f4793e97a34e8cad66ebd166.bindPopup(popup_99a2c507693b11dd7fff69cb9b6c0f60)\n",
       "        ;\n",
       "\n",
       "        \n",
       "    \n",
       "    \n",
       "            var marker_f2204bf977c3cb81e0db1b0e6e2f9e54 = L.marker(\n",
       "                [23.127430900373163, -82.3996309593316],\n",
       "                {\n",
       "}\n",
       "            ).addTo(map_e4b9394eed1b90c36772b623ee0598e0);\n",
       "        \n",
       "    \n",
       "            var icon_e34b589bc49e32c90c4484477607c97a = L.AwesomeMarkers.icon(\n",
       "                {\n",
       "  &quot;markerColor&quot;: &quot;red&quot;,\n",
       "  &quot;iconColor&quot;: &quot;white&quot;,\n",
       "  &quot;icon&quot;: &quot;cutlery&quot;,\n",
       "  &quot;prefix&quot;: &quot;fa&quot;,\n",
       "  &quot;extraClasses&quot;: &quot;fa-rotate-0&quot;,\n",
       "}\n",
       "            );\n",
       "            marker_f2204bf977c3cb81e0db1b0e6e2f9e54.setIcon(icon_e34b589bc49e32c90c4484477607c97a);\n",
       "        \n",
       "    \n",
       "        var popup_e8017895db76ea58e0d0a5ce6fd447a2 = L.popup({\n",
       "  &quot;maxWidth&quot;: &quot;100%&quot;,\n",
       "});\n",
       "\n",
       "        \n",
       "            \n",
       "                var html_719cb0049a7cb6b283750b1e26b67dff = $(`&lt;div id=&quot;html_719cb0049a7cb6b283750b1e26b67dff&quot; style=&quot;width: 100.0%; height: 100.0%;&quot;&gt;(&quot;&lt;b style=&#x27;font-size: 18px; &#x27;&gt;Spot Bar&lt;/b&gt;&lt;br&gt;Direccion: 23 y 12, Vedado&quot;, &quot;Especialidades: [&#x27;Comida Mixta&#x27;]&quot;)&lt;/div&gt;`)[0];\n",
       "                popup_e8017895db76ea58e0d0a5ce6fd447a2.setContent(html_719cb0049a7cb6b283750b1e26b67dff);\n",
       "            \n",
       "        \n",
       "\n",
       "        marker_f2204bf977c3cb81e0db1b0e6e2f9e54.bindPopup(popup_e8017895db76ea58e0d0a5ce6fd447a2)\n",
       "        ;\n",
       "\n",
       "        \n",
       "    \n",
       "    \n",
       "            var marker_9b928489ef4f93caa3802b26b8b66e09 = L.marker(\n",
       "                [23.141094353520803, -82.35193028818678],\n",
       "                {\n",
       "}\n",
       "            ).addTo(map_e4b9394eed1b90c36772b623ee0598e0);\n",
       "        \n",
       "    \n",
       "            var icon_d76c08a4bdc3edcf4c671c93e0d11e53 = L.AwesomeMarkers.icon(\n",
       "                {\n",
       "  &quot;markerColor&quot;: &quot;red&quot;,\n",
       "  &quot;iconColor&quot;: &quot;white&quot;,\n",
       "  &quot;icon&quot;: &quot;cutlery&quot;,\n",
       "  &quot;prefix&quot;: &quot;fa&quot;,\n",
       "  &quot;extraClasses&quot;: &quot;fa-rotate-0&quot;,\n",
       "}\n",
       "            );\n",
       "            marker_9b928489ef4f93caa3802b26b8b66e09.setIcon(icon_d76c08a4bdc3edcf4c671c93e0d11e53);\n",
       "        \n",
       "    \n",
       "        var popup_5331e6f7e0277b77772f4b9805d74687 = L.popup({\n",
       "  &quot;maxWidth&quot;: &quot;100%&quot;,\n",
       "});\n",
       "\n",
       "        \n",
       "            \n",
       "                var html_870e3efd114a3e259e7c7d78dfb74010 = $(`&lt;div id=&quot;html_870e3efd114a3e259e7c7d78dfb74010&quot; style=&quot;width: 100.0%; height: 100.0%;&quot;&gt;(&quot;&lt;b style=&#x27;font-size: 18px; &#x27;&gt;Star Cafe&lt;/b&gt;&lt;br&gt;Direccion: 216 Empedrado&quot;, &quot;Especialidades: [&#x27;Pizza&#x27;, &#x27;Internacional&#x27;, &#x27;Cubana&#x27;]&quot;)&lt;/div&gt;`)[0];\n",
       "                popup_5331e6f7e0277b77772f4b9805d74687.setContent(html_870e3efd114a3e259e7c7d78dfb74010);\n",
       "            \n",
       "        \n",
       "\n",
       "        marker_9b928489ef4f93caa3802b26b8b66e09.bindPopup(popup_5331e6f7e0277b77772f4b9805d74687)\n",
       "        ;\n",
       "\n",
       "        \n",
       "    \n",
       "    \n",
       "            var marker_e8a4fdfb48acf0ce85e69558f09a1253 = L.marker(\n",
       "                [23.142676112791115, -82.39937586429151],\n",
       "                {\n",
       "}\n",
       "            ).addTo(map_e4b9394eed1b90c36772b623ee0598e0);\n",
       "        \n",
       "    \n",
       "            var icon_141e2f102f499822b140dacb3f2c0783 = L.AwesomeMarkers.icon(\n",
       "                {\n",
       "  &quot;markerColor&quot;: &quot;red&quot;,\n",
       "  &quot;iconColor&quot;: &quot;white&quot;,\n",
       "  &quot;icon&quot;: &quot;cutlery&quot;,\n",
       "  &quot;prefix&quot;: &quot;fa&quot;,\n",
       "  &quot;extraClasses&quot;: &quot;fa-rotate-0&quot;,\n",
       "}\n",
       "            );\n",
       "            marker_e8a4fdfb48acf0ce85e69558f09a1253.setIcon(icon_141e2f102f499822b140dacb3f2c0783);\n",
       "        \n",
       "    \n",
       "        var popup_fa34ace8f66a29c9b46278e6c68da7b0 = L.popup({\n",
       "  &quot;maxWidth&quot;: &quot;100%&quot;,\n",
       "});\n",
       "\n",
       "        \n",
       "            \n",
       "                var html_d809f2d17284212e5d2ca321d5980b1f = $(`&lt;div id=&quot;html_d809f2d17284212e5d2ca321d5980b1f&quot; style=&quot;width: 100.0%; height: 100.0%;&quot;&gt;(&quot;&lt;b style=&#x27;font-size: 18px; &#x27;&gt;Tablazo&lt;/b&gt;&lt;br&gt;Direccion: Calle 1era entre C y D, Vedado.&quot;, &quot;Especialidades: [&#x27;Italiana&#x27;, &#x27;caribeña&#x27;, &#x27;latina&#x27;, &#x27;internacional&#x27;, &#x27;cubana&#x27;]&quot;)&lt;/div&gt;`)[0];\n",
       "                popup_fa34ace8f66a29c9b46278e6c68da7b0.setContent(html_d809f2d17284212e5d2ca321d5980b1f);\n",
       "            \n",
       "        \n",
       "\n",
       "        marker_e8a4fdfb48acf0ce85e69558f09a1253.bindPopup(popup_fa34ace8f66a29c9b46278e6c68da7b0)\n",
       "        ;\n",
       "\n",
       "        \n",
       "    \n",
       "    \n",
       "            var marker_accdb7f6df4684a29c4a2cc42462bb1c = L.marker(\n",
       "                [22.971547817920836, -82.3848668593548],\n",
       "                {\n",
       "}\n",
       "            ).addTo(map_e4b9394eed1b90c36772b623ee0598e0);\n",
       "        \n",
       "    \n",
       "            var icon_0b194938755bc611c626a4855605c347 = L.AwesomeMarkers.icon(\n",
       "                {\n",
       "  &quot;markerColor&quot;: &quot;red&quot;,\n",
       "  &quot;iconColor&quot;: &quot;white&quot;,\n",
       "  &quot;icon&quot;: &quot;cutlery&quot;,\n",
       "  &quot;prefix&quot;: &quot;fa&quot;,\n",
       "  &quot;extraClasses&quot;: &quot;fa-rotate-0&quot;,\n",
       "}\n",
       "            );\n",
       "            marker_accdb7f6df4684a29c4a2cc42462bb1c.setIcon(icon_0b194938755bc611c626a4855605c347);\n",
       "        \n",
       "    \n",
       "        var popup_e98a6b5537c1d962060c4caba8c75e5b = L.popup({\n",
       "  &quot;maxWidth&quot;: &quot;100%&quot;,\n",
       "});\n",
       "\n",
       "        \n",
       "            \n",
       "                var html_7481212780b8fb87bbb6db03ff7443e2 = $(`&lt;div id=&quot;html_7481212780b8fb87bbb6db03ff7443e2&quot; style=&quot;width: 100.0%; height: 100.0%;&quot;&gt;(&quot;&lt;b style=&#x27;font-size: 18px; &#x27;&gt;Tanokura&lt;/b&gt;&lt;br&gt;Direccion: Calle 403 %Ave. Rancho Boyeros  Calle B, Santiago de las Vegas&quot;, &quot;Especialidades: [&#x27;Italiana&#x27;, &#x27;criolla&#x27;, &#x27;internacional&#x27;]&quot;)&lt;/div&gt;`)[0];\n",
       "                popup_e98a6b5537c1d962060c4caba8c75e5b.setContent(html_7481212780b8fb87bbb6db03ff7443e2);\n",
       "            \n",
       "        \n",
       "\n",
       "        marker_accdb7f6df4684a29c4a2cc42462bb1c.bindPopup(popup_e98a6b5537c1d962060c4caba8c75e5b)\n",
       "        ;\n",
       "\n",
       "        \n",
       "    \n",
       "    \n",
       "            var marker_293a4383b82f03f95565f4ba3c6b02a3 = L.marker(\n",
       "                [23.135937842467282, -82.35497378290009],\n",
       "                {\n",
       "}\n",
       "            ).addTo(map_e4b9394eed1b90c36772b623ee0598e0);\n",
       "        \n",
       "    \n",
       "            var icon_9a979fb495f7358ea7a064bf124e9ef3 = L.AwesomeMarkers.icon(\n",
       "                {\n",
       "  &quot;markerColor&quot;: &quot;red&quot;,\n",
       "  &quot;iconColor&quot;: &quot;white&quot;,\n",
       "  &quot;icon&quot;: &quot;cutlery&quot;,\n",
       "  &quot;prefix&quot;: &quot;fa&quot;,\n",
       "  &quot;extraClasses&quot;: &quot;fa-rotate-0&quot;,\n",
       "}\n",
       "            );\n",
       "            marker_293a4383b82f03f95565f4ba3c6b02a3.setIcon(icon_9a979fb495f7358ea7a064bf124e9ef3);\n",
       "        \n",
       "    \n",
       "        var popup_711fbfd96133a198a2f42eff162fd1b6 = L.popup({\n",
       "  &quot;maxWidth&quot;: &quot;100%&quot;,\n",
       "});\n",
       "\n",
       "        \n",
       "            \n",
       "                var html_4ce44a175416d989354f9816402fc052 = $(`&lt;div id=&quot;html_4ce44a175416d989354f9816402fc052&quot; style=&quot;width: 100.0%; height: 100.0%;&quot;&gt;(&quot;&lt;b style=&#x27;font-size: 18px; &#x27;&gt;Teniente Rey 360&lt;/b&gt;&lt;br&gt;Direccion: Calle Teniente Rey #360 entre Aguacate y Villegas&quot;, &quot;Especialidades: [&#x27;Comida Caribeña&#x27;, &#x27;Latina&#x27;, &#x27;Marisco&#x27;, &#x27;Cubana&#x27;, &#x27;Sudamericana&#x27;, &#x27;Centroamericana&#x27;]&quot;)&lt;/div&gt;`)[0];\n",
       "                popup_711fbfd96133a198a2f42eff162fd1b6.setContent(html_4ce44a175416d989354f9816402fc052);\n",
       "            \n",
       "        \n",
       "\n",
       "        marker_293a4383b82f03f95565f4ba3c6b02a3.bindPopup(popup_711fbfd96133a198a2f42eff162fd1b6)\n",
       "        ;\n",
       "\n",
       "        \n",
       "    \n",
       "    \n",
       "            var marker_74c0eebacd030e7d45b9d829225663ee = L.marker(\n",
       "                [23.13838390087665, -82.36063540385594],\n",
       "                {\n",
       "}\n",
       "            ).addTo(map_e4b9394eed1b90c36772b623ee0598e0);\n",
       "        \n",
       "    \n",
       "            var icon_a474f8ad8430b36d01a59d59f0139fc1 = L.AwesomeMarkers.icon(\n",
       "                {\n",
       "  &quot;markerColor&quot;: &quot;red&quot;,\n",
       "  &quot;iconColor&quot;: &quot;white&quot;,\n",
       "  &quot;icon&quot;: &quot;cutlery&quot;,\n",
       "  &quot;prefix&quot;: &quot;fa&quot;,\n",
       "  &quot;extraClasses&quot;: &quot;fa-rotate-0&quot;,\n",
       "}\n",
       "            );\n",
       "            marker_74c0eebacd030e7d45b9d829225663ee.setIcon(icon_a474f8ad8430b36d01a59d59f0139fc1);\n",
       "        \n",
       "    \n",
       "        var popup_154579659dcfe26cb9e74a869900da94 = L.popup({\n",
       "  &quot;maxWidth&quot;: &quot;100%&quot;,\n",
       "});\n",
       "\n",
       "        \n",
       "            \n",
       "                var html_efed777cd51911aa8f116c033fe93a75 = $(`&lt;div id=&quot;html_efed777cd51911aa8f116c033fe93a75&quot; style=&quot;width: 100.0%; height: 100.0%;&quot;&gt;(&quot;&lt;b style=&#x27;font-size: 18px; &#x27;&gt;Tonyzz Bar&lt;/b&gt;&lt;br&gt;Direccion: Consulado &amp;, San Miguel, La Habana&quot;, &quot;Especialidades: [&#x27;italiana&#x27;, &#x27;americana&#x27;, &#x27;india&#x27;, &#x27;caribeña&#x27;, &#x27;asiática&#x27;, &#x27;cubana&#x27;, &#x27;ceilanesa&#x27;]&quot;)&lt;/div&gt;`)[0];\n",
       "                popup_154579659dcfe26cb9e74a869900da94.setContent(html_efed777cd51911aa8f116c033fe93a75);\n",
       "            \n",
       "        \n",
       "\n",
       "        marker_74c0eebacd030e7d45b9d829225663ee.bindPopup(popup_154579659dcfe26cb9e74a869900da94)\n",
       "        ;\n",
       "\n",
       "        \n",
       "    \n",
       "    \n",
       "            var marker_28aed627e358282d781b1d4bdf16b82d = L.marker(\n",
       "                [23.135877861692762, -82.40428126252529],\n",
       "                {\n",
       "}\n",
       "            ).addTo(map_e4b9394eed1b90c36772b623ee0598e0);\n",
       "        \n",
       "    \n",
       "            var icon_749ac6f87427e3939c9b0b0c1aa099d2 = L.AwesomeMarkers.icon(\n",
       "                {\n",
       "  &quot;markerColor&quot;: &quot;red&quot;,\n",
       "  &quot;iconColor&quot;: &quot;white&quot;,\n",
       "  &quot;icon&quot;: &quot;cutlery&quot;,\n",
       "  &quot;prefix&quot;: &quot;fa&quot;,\n",
       "  &quot;extraClasses&quot;: &quot;fa-rotate-0&quot;,\n",
       "}\n",
       "            );\n",
       "            marker_28aed627e358282d781b1d4bdf16b82d.setIcon(icon_749ac6f87427e3939c9b0b0c1aa099d2);\n",
       "        \n",
       "    \n",
       "        var popup_7c537223b98adfc682dd1fae557efdb1 = L.popup({\n",
       "  &quot;maxWidth&quot;: &quot;100%&quot;,\n",
       "});\n",
       "\n",
       "        \n",
       "            \n",
       "                var html_f0a39bac78bee6e79564dc980767e2e8 = $(`&lt;div id=&quot;html_f0a39bac78bee6e79564dc980767e2e8&quot; style=&quot;width: 100.0%; height: 100.0%;&quot;&gt;(&quot;&lt;b style=&#x27;font-size: 18px; &#x27;&gt;Toto e Pepino&lt;/b&gt;&lt;br&gt;Direccion: Calle 8 entre 5ta y Calzada, Vedado&quot;, &quot;Especialidades: [&#x27;Comida Italiana&#x27;, &#x27;Campania&#x27;]&quot;)&lt;/div&gt;`)[0];\n",
       "                popup_7c537223b98adfc682dd1fae557efdb1.setContent(html_f0a39bac78bee6e79564dc980767e2e8);\n",
       "            \n",
       "        \n",
       "\n",
       "        marker_28aed627e358282d781b1d4bdf16b82d.bindPopup(popup_7c537223b98adfc682dd1fae557efdb1)\n",
       "        ;\n",
       "\n",
       "        \n",
       "    \n",
       "    \n",
       "            var marker_f6a92f4bcc464129cdf6a6696259b792 = L.marker(\n",
       "                [23.09472547391585, -82.42049115872929],\n",
       "                {\n",
       "}\n",
       "            ).addTo(map_e4b9394eed1b90c36772b623ee0598e0);\n",
       "        \n",
       "    \n",
       "            var icon_3ba0c407cc9b506c7934287015889674 = L.AwesomeMarkers.icon(\n",
       "                {\n",
       "  &quot;markerColor&quot;: &quot;red&quot;,\n",
       "  &quot;iconColor&quot;: &quot;white&quot;,\n",
       "  &quot;icon&quot;: &quot;cutlery&quot;,\n",
       "  &quot;prefix&quot;: &quot;fa&quot;,\n",
       "  &quot;extraClasses&quot;: &quot;fa-rotate-0&quot;,\n",
       "}\n",
       "            );\n",
       "            marker_f6a92f4bcc464129cdf6a6696259b792.setIcon(icon_3ba0c407cc9b506c7934287015889674);\n",
       "        \n",
       "    \n",
       "        var popup_8bd3a7c8280100cc36859208164c9cbe = L.popup({\n",
       "  &quot;maxWidth&quot;: &quot;100%&quot;,\n",
       "});\n",
       "\n",
       "        \n",
       "            \n",
       "                var html_6a21bdabe5b7db1d2b263893be6c42c4 = $(`&lt;div id=&quot;html_6a21bdabe5b7db1d2b263893be6c42c4&quot; style=&quot;width: 100.0%; height: 100.0%;&quot;&gt;(&quot;&lt;b style=&#x27;font-size: 18px; &#x27;&gt;Tropikana&lt;/b&gt;&lt;br&gt;Direccion: Avenida 41, calle 72&quot;, &quot;Especialidades: [&#x27;internacional&#x27;, &#x27;italiana&#x27;, &#x27;cubana&#x27;]&quot;)&lt;/div&gt;`)[0];\n",
       "                popup_8bd3a7c8280100cc36859208164c9cbe.setContent(html_6a21bdabe5b7db1d2b263893be6c42c4);\n",
       "            \n",
       "        \n",
       "\n",
       "        marker_f6a92f4bcc464129cdf6a6696259b792.bindPopup(popup_8bd3a7c8280100cc36859208164c9cbe)\n",
       "        ;\n",
       "\n",
       "        \n",
       "    \n",
       "    \n",
       "            var marker_0e3626593f1dcc52376eec38ec0a7cd6 = L.marker(\n",
       "                [23.139702313656233, -82.37592887167152],\n",
       "                {\n",
       "}\n",
       "            ).addTo(map_e4b9394eed1b90c36772b623ee0598e0);\n",
       "        \n",
       "    \n",
       "            var icon_cc90d66245a999cde18e69cb53e6c56f = L.AwesomeMarkers.icon(\n",
       "                {\n",
       "  &quot;markerColor&quot;: &quot;red&quot;,\n",
       "  &quot;iconColor&quot;: &quot;white&quot;,\n",
       "  &quot;icon&quot;: &quot;cutlery&quot;,\n",
       "  &quot;prefix&quot;: &quot;fa&quot;,\n",
       "  &quot;extraClasses&quot;: &quot;fa-rotate-0&quot;,\n",
       "}\n",
       "            );\n",
       "            marker_0e3626593f1dcc52376eec38ec0a7cd6.setIcon(icon_cc90d66245a999cde18e69cb53e6c56f);\n",
       "        \n",
       "    \n",
       "        var popup_48323f38723bfebdd7089a9d73cd91b9 = L.popup({\n",
       "  &quot;maxWidth&quot;: &quot;100%&quot;,\n",
       "});\n",
       "\n",
       "        \n",
       "            \n",
       "                var html_074b3af223307d090ccab292788a904b = $(`&lt;div id=&quot;html_074b3af223307d090ccab292788a904b&quot; style=&quot;width: 100.0%; height: 100.0%;&quot;&gt;(&quot;&lt;b style=&#x27;font-size: 18px; &#x27;&gt;Tu Tiempo&lt;/b&gt;&lt;br&gt;Direccion: Calle Hospital entre San Lazaro y Jovellar&quot;, &quot;Especialidades: [&#x27;mixta&#x27;]&quot;)&lt;/div&gt;`)[0];\n",
       "                popup_48323f38723bfebdd7089a9d73cd91b9.setContent(html_074b3af223307d090ccab292788a904b);\n",
       "            \n",
       "        \n",
       "\n",
       "        marker_0e3626593f1dcc52376eec38ec0a7cd6.bindPopup(popup_48323f38723bfebdd7089a9d73cd91b9)\n",
       "        ;\n",
       "\n",
       "        \n",
       "    \n",
       "    \n",
       "            var marker_03b54c71ac85ae2496983618a92b0e91 = L.marker(\n",
       "                [23.131006442270195, -82.3984675744632],\n",
       "                {\n",
       "}\n",
       "            ).addTo(map_e4b9394eed1b90c36772b623ee0598e0);\n",
       "        \n",
       "    \n",
       "            var icon_07288a52853d3f178d8f6fda6632a796 = L.AwesomeMarkers.icon(\n",
       "                {\n",
       "  &quot;markerColor&quot;: &quot;red&quot;,\n",
       "  &quot;iconColor&quot;: &quot;white&quot;,\n",
       "  &quot;icon&quot;: &quot;cutlery&quot;,\n",
       "  &quot;prefix&quot;: &quot;fa&quot;,\n",
       "  &quot;extraClasses&quot;: &quot;fa-rotate-0&quot;,\n",
       "}\n",
       "            );\n",
       "            marker_03b54c71ac85ae2496983618a92b0e91.setIcon(icon_07288a52853d3f178d8f6fda6632a796);\n",
       "        \n",
       "    \n",
       "        var popup_d9a3570b95a46950b646ded21e74e274 = L.popup({\n",
       "  &quot;maxWidth&quot;: &quot;100%&quot;,\n",
       "});\n",
       "\n",
       "        \n",
       "            \n",
       "                var html_1bdc67d95b368256711055f5f5d615bd = $(`&lt;div id=&quot;html_1bdc67d95b368256711055f5f5d615bd&quot; style=&quot;width: 100.0%; height: 100.0%;&quot;&gt;(&quot;&lt;b style=&#x27;font-size: 18px; &#x27;&gt;El Vampirito&lt;/b&gt;&lt;br&gt;Direccion: Calle 6 entre 19 y 21, Vedado&quot;, &quot;Especialidades: [&#x27;Pizza&#x27;, &#x27;Comida italiana&#x27;, &#x27;Sandwiches&#x27;]&quot;)&lt;/div&gt;`)[0];\n",
       "                popup_d9a3570b95a46950b646ded21e74e274.setContent(html_1bdc67d95b368256711055f5f5d615bd);\n",
       "            \n",
       "        \n",
       "\n",
       "        marker_03b54c71ac85ae2496983618a92b0e91.bindPopup(popup_d9a3570b95a46950b646ded21e74e274)\n",
       "        ;\n",
       "\n",
       "        \n",
       "    \n",
       "    \n",
       "            var marker_a34eea3276eedbc185de9f4933485a2c = L.marker(\n",
       "                [23.135928366721494, -82.35711687469271],\n",
       "                {\n",
       "}\n",
       "            ).addTo(map_e4b9394eed1b90c36772b623ee0598e0);\n",
       "        \n",
       "    \n",
       "            var icon_39c75de615a12feff74a24e191342bd8 = L.AwesomeMarkers.icon(\n",
       "                {\n",
       "  &quot;markerColor&quot;: &quot;red&quot;,\n",
       "  &quot;iconColor&quot;: &quot;white&quot;,\n",
       "  &quot;icon&quot;: &quot;cutlery&quot;,\n",
       "  &quot;prefix&quot;: &quot;fa&quot;,\n",
       "  &quot;extraClasses&quot;: &quot;fa-rotate-0&quot;,\n",
       "}\n",
       "            );\n",
       "            marker_a34eea3276eedbc185de9f4933485a2c.setIcon(icon_39c75de615a12feff74a24e191342bd8);\n",
       "        \n",
       "    \n",
       "        var popup_7fd1ca895ce65ce0f7cc6e4ef0566f4f = L.popup({\n",
       "  &quot;maxWidth&quot;: &quot;100%&quot;,\n",
       "});\n",
       "\n",
       "        \n",
       "            \n",
       "                var html_f2286da23388ef2851c3c19a0626e3d2 = $(`&lt;div id=&quot;html_f2286da23388ef2851c3c19a0626e3d2&quot; style=&quot;width: 100.0%; height: 100.0%;&quot;&gt;(&quot;&lt;b style=&#x27;font-size: 18px; &#x27;&gt;Venami&lt;/b&gt;&lt;br&gt;Direccion: Monserrate #435 e/ Teniente Rey y Lamparilla&quot;, &quot;Especialidades: [&#x27;Italiana&#x27;, &#x27;Pizza&#x27;, &#x27;Mediterranea&#x27;, &#x27;Europea&#x27;]&quot;)&lt;/div&gt;`)[0];\n",
       "                popup_7fd1ca895ce65ce0f7cc6e4ef0566f4f.setContent(html_f2286da23388ef2851c3c19a0626e3d2);\n",
       "            \n",
       "        \n",
       "\n",
       "        marker_a34eea3276eedbc185de9f4933485a2c.bindPopup(popup_7fd1ca895ce65ce0f7cc6e4ef0566f4f)\n",
       "        ;\n",
       "\n",
       "        \n",
       "    \n",
       "    \n",
       "            var marker_351a97d37b1462395a8c7c7455b92987 = L.marker(\n",
       "                [23.14072849372818, -82.3845988],\n",
       "                {\n",
       "}\n",
       "            ).addTo(map_e4b9394eed1b90c36772b623ee0598e0);\n",
       "        \n",
       "    \n",
       "            var icon_1a1186a5cad8663bb76d3814f13e9e1c = L.AwesomeMarkers.icon(\n",
       "                {\n",
       "  &quot;markerColor&quot;: &quot;red&quot;,\n",
       "  &quot;iconColor&quot;: &quot;white&quot;,\n",
       "  &quot;icon&quot;: &quot;cutlery&quot;,\n",
       "  &quot;prefix&quot;: &quot;fa&quot;,\n",
       "  &quot;extraClasses&quot;: &quot;fa-rotate-0&quot;,\n",
       "}\n",
       "            );\n",
       "            marker_351a97d37b1462395a8c7c7455b92987.setIcon(icon_1a1186a5cad8663bb76d3814f13e9e1c);\n",
       "        \n",
       "    \n",
       "        var popup_23a54ab8f00c2eaef4c9d11d3cf3b564 = L.popup({\n",
       "  &quot;maxWidth&quot;: &quot;100%&quot;,\n",
       "});\n",
       "\n",
       "        \n",
       "            \n",
       "                var html_0920d5d94bbae131fe937b74c3b0a834 = $(`&lt;div id=&quot;html_0920d5d94bbae131fe937b74c3b0a834&quot; style=&quot;width: 100.0%; height: 100.0%;&quot;&gt;(&quot;&lt;b style=&#x27;font-size: 18px; &#x27;&gt;Vita Nuova&lt;/b&gt;&lt;br&gt;Direccion: Calle L esquina 21, Vedado&quot;, &quot;Especialidades: [&#x27;Comida Italiana&#x27;, &#x27;caribeña&#x27;, &#x27;internacional&#x27;, &#x27;cubana&#x27;]&quot;)&lt;/div&gt;`)[0];\n",
       "                popup_23a54ab8f00c2eaef4c9d11d3cf3b564.setContent(html_0920d5d94bbae131fe937b74c3b0a834);\n",
       "            \n",
       "        \n",
       "\n",
       "        marker_351a97d37b1462395a8c7c7455b92987.bindPopup(popup_23a54ab8f00c2eaef4c9d11d3cf3b564)\n",
       "        ;\n",
       "\n",
       "        \n",
       "    \n",
       "    \n",
       "            var marker_d7162c734d152c81f187b18376d5bd35 = L.marker(\n",
       "                [23.13336490258953, -82.39873911512949],\n",
       "                {\n",
       "}\n",
       "            ).addTo(map_e4b9394eed1b90c36772b623ee0598e0);\n",
       "        \n",
       "    \n",
       "            var icon_e1f9af02e0ebae156d0e3fd5c2328f3c = L.AwesomeMarkers.icon(\n",
       "                {\n",
       "  &quot;markerColor&quot;: &quot;red&quot;,\n",
       "  &quot;iconColor&quot;: &quot;white&quot;,\n",
       "  &quot;icon&quot;: &quot;cutlery&quot;,\n",
       "  &quot;prefix&quot;: &quot;fa&quot;,\n",
       "  &quot;extraClasses&quot;: &quot;fa-rotate-0&quot;,\n",
       "}\n",
       "            );\n",
       "            marker_d7162c734d152c81f187b18376d5bd35.setIcon(icon_e1f9af02e0ebae156d0e3fd5c2328f3c);\n",
       "        \n",
       "    \n",
       "        var popup_f90968b8fb22632a84250c8a8b2c9c73 = L.popup({\n",
       "  &quot;maxWidth&quot;: &quot;100%&quot;,\n",
       "});\n",
       "\n",
       "        \n",
       "            \n",
       "                var html_3fb2e848aefaed709b83d330cd64effe = $(`&lt;div id=&quot;html_3fb2e848aefaed709b83d330cd64effe&quot; style=&quot;width: 100.0%; height: 100.0%;&quot;&gt;(&quot;&lt;b style=&#x27;font-size: 18px; &#x27;&gt;Wapa&lt;/b&gt;&lt;br&gt;Direccion: Calle 4 entre 15 y 17, Vedado&quot;, &quot;Especialidades: [&#x27;Cubana&#x27;, &#x27;Centroamericana&#x27;]&quot;)&lt;/div&gt;`)[0];\n",
       "                popup_f90968b8fb22632a84250c8a8b2c9c73.setContent(html_3fb2e848aefaed709b83d330cd64effe);\n",
       "            \n",
       "        \n",
       "\n",
       "        marker_d7162c734d152c81f187b18376d5bd35.bindPopup(popup_f90968b8fb22632a84250c8a8b2c9c73)\n",
       "        ;\n",
       "\n",
       "        \n",
       "    \n",
       "    \n",
       "            var marker_a61c83bc7797efd4214568b4045a4c10 = L.marker(\n",
       "                [23.12975236724791, -82.35241985161278],\n",
       "                {\n",
       "}\n",
       "            ).addTo(map_e4b9394eed1b90c36772b623ee0598e0);\n",
       "        \n",
       "    \n",
       "            var icon_78cbb4cddb80edadfedf7ab4f3ef4dbc = L.AwesomeMarkers.icon(\n",
       "                {\n",
       "  &quot;markerColor&quot;: &quot;red&quot;,\n",
       "  &quot;iconColor&quot;: &quot;white&quot;,\n",
       "  &quot;icon&quot;: &quot;cutlery&quot;,\n",
       "  &quot;prefix&quot;: &quot;fa&quot;,\n",
       "  &quot;extraClasses&quot;: &quot;fa-rotate-0&quot;,\n",
       "}\n",
       "            );\n",
       "            marker_a61c83bc7797efd4214568b4045a4c10.setIcon(icon_78cbb4cddb80edadfedf7ab4f3ef4dbc);\n",
       "        \n",
       "    \n",
       "        var popup_e7b649ecfa23f183f15b73b49c7f197e = L.popup({\n",
       "  &quot;maxWidth&quot;: &quot;100%&quot;,\n",
       "});\n",
       "\n",
       "        \n",
       "            \n",
       "                var html_c377568ee84a4776c4970474f86ab308 = $(`&lt;div id=&quot;html_c377568ee84a4776c4970474f86ab308&quot; style=&quot;width: 100.0%; height: 100.0%;&quot;&gt;(&quot;&lt;b style=&#x27;font-size: 18px; &#x27;&gt;Yarini&lt;/b&gt;&lt;br&gt;Direccion: Calle San Isidro #214 entre Picota y Compostela&quot;, &quot;Especialidades: [&#x27;Comida Internacional&#x27;, &#x27;Cubana&#x27;]&quot;)&lt;/div&gt;`)[0];\n",
       "                popup_e7b649ecfa23f183f15b73b49c7f197e.setContent(html_c377568ee84a4776c4970474f86ab308);\n",
       "            \n",
       "        \n",
       "\n",
       "        marker_a61c83bc7797efd4214568b4045a4c10.bindPopup(popup_e7b649ecfa23f183f15b73b49c7f197e)\n",
       "        ;\n",
       "\n",
       "        \n",
       "    \n",
       "    \n",
       "            var marker_b35f4f96db7ba1a2a4a2ff6f6f76294a = L.marker(\n",
       "                [23.098978185190347, -82.33972403216933],\n",
       "                {\n",
       "}\n",
       "            ).addTo(map_e4b9394eed1b90c36772b623ee0598e0);\n",
       "        \n",
       "    \n",
       "            var icon_2642612c8d9b32f376f82614e07347df = L.AwesomeMarkers.icon(\n",
       "                {\n",
       "  &quot;markerColor&quot;: &quot;red&quot;,\n",
       "  &quot;iconColor&quot;: &quot;white&quot;,\n",
       "  &quot;icon&quot;: &quot;cutlery&quot;,\n",
       "  &quot;prefix&quot;: &quot;fa&quot;,\n",
       "  &quot;extraClasses&quot;: &quot;fa-rotate-0&quot;,\n",
       "}\n",
       "            );\n",
       "            marker_b35f4f96db7ba1a2a4a2ff6f6f76294a.setIcon(icon_2642612c8d9b32f376f82614e07347df);\n",
       "        \n",
       "    \n",
       "        var popup_be3429b29b6bf0a61aead7312fbfa6c5 = L.popup({\n",
       "  &quot;maxWidth&quot;: &quot;100%&quot;,\n",
       "});\n",
       "\n",
       "        \n",
       "            \n",
       "                var html_76169f807c13c2a3200eff1fed9034df = $(`&lt;div id=&quot;html_76169f807c13c2a3200eff1fed9034df&quot; style=&quot;width: 100.0%; height: 100.0%;&quot;&gt;(&quot;&lt;b style=&#x27;font-size: 18px; &#x27;&gt;Yesterday Havana&lt;/b&gt;&lt;br&gt;Direccion: Rita % Blanchy y Calzada de Guines&quot;, &quot;Especialidades: [&#x27;Comida Mixta&#x27;]&quot;)&lt;/div&gt;`)[0];\n",
       "                popup_be3429b29b6bf0a61aead7312fbfa6c5.setContent(html_76169f807c13c2a3200eff1fed9034df);\n",
       "            \n",
       "        \n",
       "\n",
       "        marker_b35f4f96db7ba1a2a4a2ff6f6f76294a.bindPopup(popup_be3429b29b6bf0a61aead7312fbfa6c5)\n",
       "        ;\n",
       "\n",
       "        \n",
       "    \n",
       "    \n",
       "            var marker_724d4e085a70e1229d5f1cba8133b71b = L.marker(\n",
       "                [23.14231693189427, -82.39812833852959],\n",
       "                {\n",
       "}\n",
       "            ).addTo(map_e4b9394eed1b90c36772b623ee0598e0);\n",
       "        \n",
       "    \n",
       "            var icon_9eb39266da9cd36dcc7342c666d2c6e6 = L.AwesomeMarkers.icon(\n",
       "                {\n",
       "  &quot;markerColor&quot;: &quot;red&quot;,\n",
       "  &quot;iconColor&quot;: &quot;white&quot;,\n",
       "  &quot;icon&quot;: &quot;cutlery&quot;,\n",
       "  &quot;prefix&quot;: &quot;fa&quot;,\n",
       "  &quot;extraClasses&quot;: &quot;fa-rotate-0&quot;,\n",
       "}\n",
       "            );\n",
       "            marker_724d4e085a70e1229d5f1cba8133b71b.setIcon(icon_9eb39266da9cd36dcc7342c666d2c6e6);\n",
       "        \n",
       "    \n",
       "        var popup_02dd044f307215b6196813e8ea85b040 = L.popup({\n",
       "  &quot;maxWidth&quot;: &quot;100%&quot;,\n",
       "});\n",
       "\n",
       "        \n",
       "            \n",
       "                var html_0b7b277f4d915f9262ee30577238cf3b = $(`&lt;div id=&quot;html_0b7b277f4d915f9262ee30577238cf3b&quot; style=&quot;width: 100.0%; height: 100.0%;&quot;&gt;(&quot;&lt;b style=&#x27;font-size: 18px; &#x27;&gt;Yo invito&lt;/b&gt;&lt;br&gt;Direccion: Calle 3era, Esquina D, Vedado&quot;, &quot;Especialidades: [&#x27;Comida Cubana&#x27;, &#x27;criolla&#x27;]&quot;)&lt;/div&gt;`)[0];\n",
       "                popup_02dd044f307215b6196813e8ea85b040.setContent(html_0b7b277f4d915f9262ee30577238cf3b);\n",
       "            \n",
       "        \n",
       "\n",
       "        marker_724d4e085a70e1229d5f1cba8133b71b.bindPopup(popup_02dd044f307215b6196813e8ea85b040)\n",
       "        ;\n",
       "\n",
       "        \n",
       "    \n",
       "&lt;/script&gt;\n",
       "&lt;/html&gt;\" style=\"position:absolute;width:100%;height:100%;left:0;top:0;border:none !important;\" allowfullscreen webkitallowfullscreen mozallowfullscreen></iframe></div></div>"
      ],
      "text/plain": [
       "<folium.folium.Map at 0x1ff3c7aac10>"
      ]
     },
     "metadata": {},
     "output_type": "display_data"
    }
   ],
   "source": [
    "\n",
    "#Mapa con los restaurantes ubicado :)\n",
    "mapa = fl.Map(location=[23.1, -82.4], zoom_start=11)\n",
    "\n",
    "lahabanamapa = {\"type\": \"FeatureCollection\", \"features\": [{\"geometry\": {\"type\": \"Polygon\", \"coordinates\": [[[-82.5403, 23.0517], [-82.5289, 23.0628], [-82.5239, 23.0735], [-82.509, 23.0829], [-82.5045, 23.0806], [-82.4981, 23.0844], [-82.5026, 23.0865], [-82.4957, 23.0937], [-82.4911, 23.0937], [-82.4894, 23.0897], [-82.4872, 23.0951], [-82.4835, 23.0947], [-82.4781, 23.0901], [-82.4783, 23.0949], [-82.4606, 23.0936], [-82.4609, 23.0976], [-82.4554, 23.0961], [-82.4535, 23.1017], [-82.4346, 23.1193], [-82.4152, 23.1334], [-82.4121, 23.1339], [-82.4119, 23.1305], [-82.4053, 23.1406], [-82.3912, 23.1478], [-82.3696, 23.1424], [-82.3579, 23.1468], [-82.3522, 23.145], [-82.345, 23.1353], [-82.3478, 23.1286], [-82.3577, 23.122], [-82.351, 23.1205], [-82.3448, 23.1266], [-82.3422, 23.1147], [-82.3343, 23.1123], [-82.3406, 23.1243], [-82.3359, 23.1273], [-82.3374, 23.1347], [-82.328, 23.1303], [-82.3281, 23.1382], [-82.3229, 23.1427], [-82.3446, 23.1424], [-82.3563, 23.1516], [-82.3244, 23.1664], [-82.3026, 23.1715], [-82.2944, 23.1688], [-82.2911, 23.1637], [-82.2892, 23.1702], [-82.2772, 23.1754], [-82.2442, 23.1786], [-82.2402, 23.1732], [-82.2393, 23.1783], [-82.228, 23.1806], [-82.214, 23.1785], [-82.2115, 23.1724], [-82.2121, 23.1785], [-82.2045, 23.1806], [-82.1518, 23.172], [-82.1258, 23.1744], [-82.1225, 23.1684], [-82.1161, 23.1715], [-82.1209, 23.1724], [-82.1185, 23.1737], [-82.098, 23.1729], [-82.0929, 23.1761], [-82.0925, 23.168], [-82.1016, 23.1666], [-82.1025, 23.1598], [-82.082, 23.1487], [-82.0799, 23.1245], [-82.0931, 23.1221], [-82.0861, 23.1055], [-82.1016, 23.0931], [-82.1015, 23.0847], [-82.1087, 23.0806], [-82.1058, 23.0767], [-82.1096, 23.0683], [-82.1011, 23.0555], [-82.1148, 23.0547], [-82.1445, 23.0685], [-82.15, 23.075], [-82.1562, 23.0744], [-82.1764, 23.0576], [-82.2231, 23.064], [-82.2256, 23.0165], [-82.1964, 22.9972], [-82.1979, 22.993], [-82.2115, 22.9944], [-82.2167, 22.9997], [-82.2283, 22.9804], [-82.2618, 22.9734], [-82.2475, 22.9564], [-82.2676, 22.9578], [-82.2798, 22.9519], [-82.2976, 22.9541], [-82.3009, 22.9627], [-82.3056, 22.9648], [-82.3132, 22.9649], [-82.3304, 22.9563], [-82.3648, 22.9667], [-82.3775, 22.9657], [-82.3759, 22.9558], [-82.3658, 22.9405], [-82.3868, 22.9337], [-82.4152, 22.9483], [-82.4287, 22.9466], [-82.4336, 22.9403], [-82.4458, 22.9471], [-82.4436, 22.9814], [-82.4482, 22.9851], [-82.4578, 22.9775], [-82.4661, 22.982], [-82.4672, 22.9783], [-82.4843, 22.9729], [-82.498, 22.9947], [-82.5012, 23.0095], [-82.5081, 23.0153], [-82.5066, 23.0211], [-82.4982, 23.0262], [-82.4949, 23.0323], [-82.4973, 23.0392], [-82.4917, 23.0411], [-82.4889, 23.0523], [-82.4921, 23.0736], [-82.4972, 23.0736], [-82.5021, 23.0687], [-82.5108, 23.0703], [-82.5329, 23.0523], [-82.5403, 23.0517]]]}, \"type\": \"Feature\", \"properties\": {\"province\": \"La Habana\", \"country\": \"Cuba\", \"region\": \"province\", \"country_domain\": \"cu\", \"province_id\": \"lha\", \"DPA_province_code\": \"23\"}}]}\n",
    "fl.GeoJson(lahabanamapa).add_to(mapa)\n",
    "for i, row in data2.iterrows():\n",
    "    coordenadas = [float(coord) for coord in row[\"location.coordinates\"].split(\", \")]\n",
    "    nombre = row[\"name\"]\n",
    "    direccion = row[\"location.address\"]\n",
    "    especializacion = row[\"specialized_food\"]\n",
    "   \n",
    "\n",
    "    fl.Marker(\n",
    "        location=coordenadas,\n",
    "        popup=(\n",
    "            f\"<b style='font-size: 18px; '>{nombre}</b><br>\"\n",
    "            f\"Direccion: {direccion}\",\n",
    "            f\"Especialidades: {especializacion}\",\n",
    "          ),\n",
    "          icon=fl.Icon(icon=\"cutlery\", prefix=\"fa\", color=\"red\")\n",
    "    ).add_to(mapa)\n",
    "display(mapa)\n",
    "\n"
   ]
  }
 ],
 "metadata": {
  "kernelspec": {
   "display_name": "Python 3",
   "language": "python",
   "name": "python3"
  },
  "language_info": {
   "codemirror_mode": {
    "name": "ipython",
    "version": 3
   },
   "file_extension": ".py",
   "mimetype": "text/x-python",
   "name": "python",
   "nbconvert_exporter": "python",
   "pygments_lexer": "ipython3",
   "version": "3.11.7"
  }
 },
 "nbformat": 4,
 "nbformat_minor": 2
}
