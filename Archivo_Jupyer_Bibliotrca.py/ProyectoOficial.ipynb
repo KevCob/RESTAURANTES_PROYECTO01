{
 "cells": [
  {
   "cell_type": "code",
   "execution_count": 1,
   "metadata": {},
   "outputs": [],
   "source": [
    "import pandas as pd\n",
    "import seaborn as sns\n",
    "import plotly as pt\n",
    "import plotly.express as px\n",
    "import plotly.graph_objects as go\n",
    "import matplotlib.pyplot as plt\n",
    "import plotly.io as pio\n",
    "import folium as fl\n",
    "import nbformat as nb\n",
    "import ipywidgets as wi\n",
    "from collections import Counter\n",
    "from IPython.display import display\n",
    "import Biblioteca_Proyecto as bp\n",
    "import os\n",
    "import json"
   ]
  },
  {
   "cell_type": "code",
   "execution_count": 2,
   "metadata": {},
   "outputs": [],
   "source": [
    "\n",
    "data_list = []\n",
    "\n",
    "for i in os.listdir(\"C:\\\\Users\\\\User\\\\OneDrive\\\\Escritorio\\\\RESTAURANTES_PROYECTO01\\\\Json_Data\"):\n",
    "    if i.endswith(\".json\"):\n",
    "        with open(os.path.join(\"C:\\\\Users\\\\User\\\\OneDrive\\\\Escritorio\\\\RESTAURANTES_PROYECTO01\\\\Json_Data\", i), \"r\", encoding=\"utf-8\") as file:\n",
    "            json_loaded = json.load(file)\n",
    "            data_list.append(json_loaded)\n",
    "\n",
    "data = pd.DataFrame(data_list)\n",
    "data2 = pd.json_normalize(data_list)"
   ]
  },
  {
   "cell_type": "markdown",
   "metadata": {},
   "source": [
    "Ya Alejandro lleva 3 años en los Estados Unidos y sus amigos le aconsejaron que lo mejor opción para ayudar a su familia en Cuba era poniéndoles un negocio, él estaba decidido a invertir en algo que no solo generara ingresos, sino que tambíen mejorara la calidad de vida de sus padres en La Habana. Muchos le sugirieron algunas de las opciones mas populares en Cuba, como revender productos Shein, sin embargo el tenía una visión diferente,  su objetivo era establecer un negocio autosuficiente, y sabiendo ya que no habia mujer en La Habana que cocinara mejor que su vieja, decidió que abrir un restaurante era la mejor opción para lograr su objetivo....\n",
    "Su madre Caridad, una ama de casa que dedicó toda su vida a su esposo, a su hijo y a la cocina, casi infarta al escuchar la noticia de que por finnnn le van a empezar a pagar por cocinar algo que llevaba toda la vida haciendo por amor y sin ningún tipo de lucro.\n",
    "\n",
    "Para que todo saliera bien, Alejandro sabía que necesitaba resalizar un análisis exhaustivo de la competencia, por lo que tomó una muestra de los restaurantes de toda La Habana...\n",
    "\n"
   ]
  },
  {
   "cell_type": "code",
   "execution_count": 3,
   "metadata": {},
   "outputs": [
    {
     "data": {
      "application/vnd.plotly.v1+json": {
       "config": {
        "plotlyServerURL": "https://plot.ly"
       },
       "data": [
        {
         "cells": {
          "align": "left",
          "fill": {
           "color": "lavender"
          },
          "values": [
           [
            "plaza de la revolucion",
            "habana vieja",
            "10 de octubre",
            "centro habana",
            "playa",
            "habana del este",
            "boyeros",
            "san miguel del padron",
            "guanabacoa",
            "marianao",
            "arroyo naranjo",
            "cotorro",
            "cerro",
            "la lisa",
            "regla"
           ],
           [
            35,
            30,
            30,
            20,
            11,
            11,
            11,
            10,
            10,
            10,
            10,
            10,
            10,
            9,
            4
           ]
          ]
         },
         "header": {
          "align": "left",
          "fill": {
           "color": "green"
          },
          "values": [
           "Municipio",
           "Cantidad de Restaurantes"
          ]
         },
         "type": "table"
        }
       ],
       "layout": {
        "template": {
         "data": {
          "bar": [
           {
            "error_x": {
             "color": "#2a3f5f"
            },
            "error_y": {
             "color": "#2a3f5f"
            },
            "marker": {
             "line": {
              "color": "#E5ECF6",
              "width": 0.5
             },
             "pattern": {
              "fillmode": "overlay",
              "size": 10,
              "solidity": 0.2
             }
            },
            "type": "bar"
           }
          ],
          "barpolar": [
           {
            "marker": {
             "line": {
              "color": "#E5ECF6",
              "width": 0.5
             },
             "pattern": {
              "fillmode": "overlay",
              "size": 10,
              "solidity": 0.2
             }
            },
            "type": "barpolar"
           }
          ],
          "carpet": [
           {
            "aaxis": {
             "endlinecolor": "#2a3f5f",
             "gridcolor": "white",
             "linecolor": "white",
             "minorgridcolor": "white",
             "startlinecolor": "#2a3f5f"
            },
            "baxis": {
             "endlinecolor": "#2a3f5f",
             "gridcolor": "white",
             "linecolor": "white",
             "minorgridcolor": "white",
             "startlinecolor": "#2a3f5f"
            },
            "type": "carpet"
           }
          ],
          "choropleth": [
           {
            "colorbar": {
             "outlinewidth": 0,
             "ticks": ""
            },
            "type": "choropleth"
           }
          ],
          "contour": [
           {
            "colorbar": {
             "outlinewidth": 0,
             "ticks": ""
            },
            "colorscale": [
             [
              0,
              "#0d0887"
             ],
             [
              0.1111111111111111,
              "#46039f"
             ],
             [
              0.2222222222222222,
              "#7201a8"
             ],
             [
              0.3333333333333333,
              "#9c179e"
             ],
             [
              0.4444444444444444,
              "#bd3786"
             ],
             [
              0.5555555555555556,
              "#d8576b"
             ],
             [
              0.6666666666666666,
              "#ed7953"
             ],
             [
              0.7777777777777778,
              "#fb9f3a"
             ],
             [
              0.8888888888888888,
              "#fdca26"
             ],
             [
              1,
              "#f0f921"
             ]
            ],
            "type": "contour"
           }
          ],
          "contourcarpet": [
           {
            "colorbar": {
             "outlinewidth": 0,
             "ticks": ""
            },
            "type": "contourcarpet"
           }
          ],
          "heatmap": [
           {
            "colorbar": {
             "outlinewidth": 0,
             "ticks": ""
            },
            "colorscale": [
             [
              0,
              "#0d0887"
             ],
             [
              0.1111111111111111,
              "#46039f"
             ],
             [
              0.2222222222222222,
              "#7201a8"
             ],
             [
              0.3333333333333333,
              "#9c179e"
             ],
             [
              0.4444444444444444,
              "#bd3786"
             ],
             [
              0.5555555555555556,
              "#d8576b"
             ],
             [
              0.6666666666666666,
              "#ed7953"
             ],
             [
              0.7777777777777778,
              "#fb9f3a"
             ],
             [
              0.8888888888888888,
              "#fdca26"
             ],
             [
              1,
              "#f0f921"
             ]
            ],
            "type": "heatmap"
           }
          ],
          "heatmapgl": [
           {
            "colorbar": {
             "outlinewidth": 0,
             "ticks": ""
            },
            "colorscale": [
             [
              0,
              "#0d0887"
             ],
             [
              0.1111111111111111,
              "#46039f"
             ],
             [
              0.2222222222222222,
              "#7201a8"
             ],
             [
              0.3333333333333333,
              "#9c179e"
             ],
             [
              0.4444444444444444,
              "#bd3786"
             ],
             [
              0.5555555555555556,
              "#d8576b"
             ],
             [
              0.6666666666666666,
              "#ed7953"
             ],
             [
              0.7777777777777778,
              "#fb9f3a"
             ],
             [
              0.8888888888888888,
              "#fdca26"
             ],
             [
              1,
              "#f0f921"
             ]
            ],
            "type": "heatmapgl"
           }
          ],
          "histogram": [
           {
            "marker": {
             "pattern": {
              "fillmode": "overlay",
              "size": 10,
              "solidity": 0.2
             }
            },
            "type": "histogram"
           }
          ],
          "histogram2d": [
           {
            "colorbar": {
             "outlinewidth": 0,
             "ticks": ""
            },
            "colorscale": [
             [
              0,
              "#0d0887"
             ],
             [
              0.1111111111111111,
              "#46039f"
             ],
             [
              0.2222222222222222,
              "#7201a8"
             ],
             [
              0.3333333333333333,
              "#9c179e"
             ],
             [
              0.4444444444444444,
              "#bd3786"
             ],
             [
              0.5555555555555556,
              "#d8576b"
             ],
             [
              0.6666666666666666,
              "#ed7953"
             ],
             [
              0.7777777777777778,
              "#fb9f3a"
             ],
             [
              0.8888888888888888,
              "#fdca26"
             ],
             [
              1,
              "#f0f921"
             ]
            ],
            "type": "histogram2d"
           }
          ],
          "histogram2dcontour": [
           {
            "colorbar": {
             "outlinewidth": 0,
             "ticks": ""
            },
            "colorscale": [
             [
              0,
              "#0d0887"
             ],
             [
              0.1111111111111111,
              "#46039f"
             ],
             [
              0.2222222222222222,
              "#7201a8"
             ],
             [
              0.3333333333333333,
              "#9c179e"
             ],
             [
              0.4444444444444444,
              "#bd3786"
             ],
             [
              0.5555555555555556,
              "#d8576b"
             ],
             [
              0.6666666666666666,
              "#ed7953"
             ],
             [
              0.7777777777777778,
              "#fb9f3a"
             ],
             [
              0.8888888888888888,
              "#fdca26"
             ],
             [
              1,
              "#f0f921"
             ]
            ],
            "type": "histogram2dcontour"
           }
          ],
          "mesh3d": [
           {
            "colorbar": {
             "outlinewidth": 0,
             "ticks": ""
            },
            "type": "mesh3d"
           }
          ],
          "parcoords": [
           {
            "line": {
             "colorbar": {
              "outlinewidth": 0,
              "ticks": ""
             }
            },
            "type": "parcoords"
           }
          ],
          "pie": [
           {
            "automargin": true,
            "type": "pie"
           }
          ],
          "scatter": [
           {
            "fillpattern": {
             "fillmode": "overlay",
             "size": 10,
             "solidity": 0.2
            },
            "type": "scatter"
           }
          ],
          "scatter3d": [
           {
            "line": {
             "colorbar": {
              "outlinewidth": 0,
              "ticks": ""
             }
            },
            "marker": {
             "colorbar": {
              "outlinewidth": 0,
              "ticks": ""
             }
            },
            "type": "scatter3d"
           }
          ],
          "scattercarpet": [
           {
            "marker": {
             "colorbar": {
              "outlinewidth": 0,
              "ticks": ""
             }
            },
            "type": "scattercarpet"
           }
          ],
          "scattergeo": [
           {
            "marker": {
             "colorbar": {
              "outlinewidth": 0,
              "ticks": ""
             }
            },
            "type": "scattergeo"
           }
          ],
          "scattergl": [
           {
            "marker": {
             "colorbar": {
              "outlinewidth": 0,
              "ticks": ""
             }
            },
            "type": "scattergl"
           }
          ],
          "scattermapbox": [
           {
            "marker": {
             "colorbar": {
              "outlinewidth": 0,
              "ticks": ""
             }
            },
            "type": "scattermapbox"
           }
          ],
          "scatterpolar": [
           {
            "marker": {
             "colorbar": {
              "outlinewidth": 0,
              "ticks": ""
             }
            },
            "type": "scatterpolar"
           }
          ],
          "scatterpolargl": [
           {
            "marker": {
             "colorbar": {
              "outlinewidth": 0,
              "ticks": ""
             }
            },
            "type": "scatterpolargl"
           }
          ],
          "scatterternary": [
           {
            "marker": {
             "colorbar": {
              "outlinewidth": 0,
              "ticks": ""
             }
            },
            "type": "scatterternary"
           }
          ],
          "surface": [
           {
            "colorbar": {
             "outlinewidth": 0,
             "ticks": ""
            },
            "colorscale": [
             [
              0,
              "#0d0887"
             ],
             [
              0.1111111111111111,
              "#46039f"
             ],
             [
              0.2222222222222222,
              "#7201a8"
             ],
             [
              0.3333333333333333,
              "#9c179e"
             ],
             [
              0.4444444444444444,
              "#bd3786"
             ],
             [
              0.5555555555555556,
              "#d8576b"
             ],
             [
              0.6666666666666666,
              "#ed7953"
             ],
             [
              0.7777777777777778,
              "#fb9f3a"
             ],
             [
              0.8888888888888888,
              "#fdca26"
             ],
             [
              1,
              "#f0f921"
             ]
            ],
            "type": "surface"
           }
          ],
          "table": [
           {
            "cells": {
             "fill": {
              "color": "#EBF0F8"
             },
             "line": {
              "color": "white"
             }
            },
            "header": {
             "fill": {
              "color": "#C8D4E3"
             },
             "line": {
              "color": "white"
             }
            },
            "type": "table"
           }
          ]
         },
         "layout": {
          "annotationdefaults": {
           "arrowcolor": "#2a3f5f",
           "arrowhead": 0,
           "arrowwidth": 1
          },
          "autotypenumbers": "strict",
          "coloraxis": {
           "colorbar": {
            "outlinewidth": 0,
            "ticks": ""
           }
          },
          "colorscale": {
           "diverging": [
            [
             0,
             "#8e0152"
            ],
            [
             0.1,
             "#c51b7d"
            ],
            [
             0.2,
             "#de77ae"
            ],
            [
             0.3,
             "#f1b6da"
            ],
            [
             0.4,
             "#fde0ef"
            ],
            [
             0.5,
             "#f7f7f7"
            ],
            [
             0.6,
             "#e6f5d0"
            ],
            [
             0.7,
             "#b8e186"
            ],
            [
             0.8,
             "#7fbc41"
            ],
            [
             0.9,
             "#4d9221"
            ],
            [
             1,
             "#276419"
            ]
           ],
           "sequential": [
            [
             0,
             "#0d0887"
            ],
            [
             0.1111111111111111,
             "#46039f"
            ],
            [
             0.2222222222222222,
             "#7201a8"
            ],
            [
             0.3333333333333333,
             "#9c179e"
            ],
            [
             0.4444444444444444,
             "#bd3786"
            ],
            [
             0.5555555555555556,
             "#d8576b"
            ],
            [
             0.6666666666666666,
             "#ed7953"
            ],
            [
             0.7777777777777778,
             "#fb9f3a"
            ],
            [
             0.8888888888888888,
             "#fdca26"
            ],
            [
             1,
             "#f0f921"
            ]
           ],
           "sequentialminus": [
            [
             0,
             "#0d0887"
            ],
            [
             0.1111111111111111,
             "#46039f"
            ],
            [
             0.2222222222222222,
             "#7201a8"
            ],
            [
             0.3333333333333333,
             "#9c179e"
            ],
            [
             0.4444444444444444,
             "#bd3786"
            ],
            [
             0.5555555555555556,
             "#d8576b"
            ],
            [
             0.6666666666666666,
             "#ed7953"
            ],
            [
             0.7777777777777778,
             "#fb9f3a"
            ],
            [
             0.8888888888888888,
             "#fdca26"
            ],
            [
             1,
             "#f0f921"
            ]
           ]
          },
          "colorway": [
           "#636efa",
           "#EF553B",
           "#00cc96",
           "#ab63fa",
           "#FFA15A",
           "#19d3f3",
           "#FF6692",
           "#B6E880",
           "#FF97FF",
           "#FECB52"
          ],
          "font": {
           "color": "#2a3f5f"
          },
          "geo": {
           "bgcolor": "white",
           "lakecolor": "white",
           "landcolor": "#E5ECF6",
           "showlakes": true,
           "showland": true,
           "subunitcolor": "white"
          },
          "hoverlabel": {
           "align": "left"
          },
          "hovermode": "closest",
          "mapbox": {
           "style": "light"
          },
          "paper_bgcolor": "white",
          "plot_bgcolor": "#E5ECF6",
          "polar": {
           "angularaxis": {
            "gridcolor": "white",
            "linecolor": "white",
            "ticks": ""
           },
           "bgcolor": "#E5ECF6",
           "radialaxis": {
            "gridcolor": "white",
            "linecolor": "white",
            "ticks": ""
           }
          },
          "scene": {
           "xaxis": {
            "backgroundcolor": "#E5ECF6",
            "gridcolor": "white",
            "gridwidth": 2,
            "linecolor": "white",
            "showbackground": true,
            "ticks": "",
            "zerolinecolor": "white"
           },
           "yaxis": {
            "backgroundcolor": "#E5ECF6",
            "gridcolor": "white",
            "gridwidth": 2,
            "linecolor": "white",
            "showbackground": true,
            "ticks": "",
            "zerolinecolor": "white"
           },
           "zaxis": {
            "backgroundcolor": "#E5ECF6",
            "gridcolor": "white",
            "gridwidth": 2,
            "linecolor": "white",
            "showbackground": true,
            "ticks": "",
            "zerolinecolor": "white"
           }
          },
          "shapedefaults": {
           "line": {
            "color": "#2a3f5f"
           }
          },
          "ternary": {
           "aaxis": {
            "gridcolor": "white",
            "linecolor": "white",
            "ticks": ""
           },
           "baxis": {
            "gridcolor": "white",
            "linecolor": "white",
            "ticks": ""
           },
           "bgcolor": "#E5ECF6",
           "caxis": {
            "gridcolor": "white",
            "linecolor": "white",
            "ticks": ""
           }
          },
          "title": {
           "x": 0.05
          },
          "xaxis": {
           "automargin": true,
           "gridcolor": "white",
           "linecolor": "white",
           "ticks": "",
           "title": {
            "standoff": 15
           },
           "zerolinecolor": "white",
           "zerolinewidth": 2
          },
          "yaxis": {
           "automargin": true,
           "gridcolor": "white",
           "linecolor": "white",
           "ticks": "",
           "title": {
            "standoff": 15
           },
           "zerolinecolor": "white",
           "zerolinewidth": 2
          }
         }
        },
        "title": {
         "text": "Cantidad de Restaurantes por Municipio"
        }
       }
      }
     },
     "metadata": {},
     "output_type": "display_data"
    },
    {
     "name": "stdout",
     "output_type": "stream",
     "text": [
      "Total de Restaurantes:  221\n"
     ]
    }
   ],
   "source": [
    "#Tabla con la cantidad de jsons que hay de cada municipio :)\n",
    "municipio = data2[\"location.municipe\"].str.lower().str.strip()\n",
    "\n",
    "restaurantes_municipio = municipio.value_counts().reset_index()\n",
    "restaurantes_municipio.columns = [\"municipio\", \"cantidad_restaurantes\"]\n",
    "\n",
    "\n",
    "fig = go.Figure(data=[go.Table(\n",
    "    header=dict(values=[\"Municipio\", \"Cantidad de Restaurantes\"],\n",
    "                fill_color=\"green\",\n",
    "                align=\"left\"),\n",
    "    cells=dict(values=[restaurantes_municipio[\"municipio\"], restaurantes_municipio[\"cantidad_restaurantes\"]],\n",
    "               fill_color=\"lavender\",\n",
    "               align=\"left\"))\n",
    "])\n",
    "\n",
    "\n",
    "fig.update_layout(title=\"Cantidad de Restaurantes por Municipio\")\n",
    "fig.show()\n",
    "\n",
    "total = restaurantes_municipio['cantidad_restaurantes'].sum()\n",
    "print(\"Total de Restaurantes: \",total)\n"
   ]
  },
  {
   "cell_type": "markdown",
   "metadata": {},
   "source": [
    "Lo primero era estudiar el mercado para conocer los precios de la competencia, él quería que sus precios estuvieran por debajo de una gran parte de los restaurantes de \"glamour\", que como le decía su madre: \"mijo ese lugar es solo para turistas\", porque siempre consideró los precios \"locos\" un abuso para el cubano de a pie y quería que su restaurante, aunque no tuviera mucho lujo, fuera algo absequible al menos para la mayoría."
   ]
  },
  {
   "cell_type": "code",
   "execution_count": 4,
   "metadata": {},
   "outputs": [
    {
     "data": {
      "application/vnd.jupyter.widget-view+json": {
       "model_id": "faa511962caa4437b97970d965c50446",
       "version_major": 2,
       "version_minor": 0
      },
      "text/plain": [
       "interactive(children=(Dropdown(description='Municipio:', options=('Regla', 'Marianao', 'Boyeros', 'Habana del …"
      ]
     },
     "metadata": {},
     "output_type": "display_data"
    },
    {
     "data": {
      "text/plain": [
       "<function __main__.mostrar_tabla(i)>"
      ]
     },
     "execution_count": 4,
     "metadata": {},
     "output_type": "execute_result"
    }
   ],
   "source": [
    "data2[\"menu_price\"] = data2.apply(bp.c_precio_medio, axis=1)\n",
    "\n",
    "data3 = data2.dropna(subset=[\"menu_price\"])\n",
    "\n",
    "data3 = data2.sort_values(by=[\"location.municipe\", \"menu_price\"], ascending=[True, True])\n",
    "\n",
    "municipios = data2[\"location.municipe\"].unique()\n",
    "info_municipio = {}\n",
    "for i in municipios:\n",
    "    info_municipio[i] = data3[data3[\"location.municipe\"] == i ]\n",
    "\n",
    "def mostrar_tabla(i):\n",
    "    display(info_municipio[i][[\"name\", \"menu_price\"]])\n",
    "\n",
    "selector_municipio = wi.Dropdown(options=municipios, description=\"Municipio:\")\n",
    "wi.interact(mostrar_tabla, i=selector_municipio)\n",
    "\n"
   ]
  },
  {
   "cell_type": "markdown",
   "metadata": {},
   "source": [
    "Después que quedó comprobado que la media de los precios de los diferentes citios iban desde los 400 cup en pequeños cafés, o cafeterias estatales, hasta 4000 cup en restaurantes más refiinados en el corazón del Vedado o en las históricas plazas de la Habana Vieja, decidió que el suyo tendría un media de 1000 cup ya conocía el dato de que el salario medio de los cubanos es de 4.648 cup según la Oficina Nacional de Estadística e Información (ONEI) y dado que el precio medio de su restaurante vendría siendo el 21.51% de del sueldo, no le parecía lo más correcto, pero no podía hacer nada más debido al aumento de los precios de los productos que necesitaría para elaborar su menú.\n",
    "\n",
    "\n",
    "\n"
   ]
  },
  {
   "cell_type": "markdown",
   "metadata": {},
   "source": [
    "\n"
   ]
  },
  {
   "cell_type": "markdown",
   "metadata": {},
   "source": [
    "Ay!!, mijo lo único que te va a pedir tu madre es que por favor no me pongas a preparar moderneses tu sabes que mi cocina es a la antigua y compra sazones naturales que para tí no es novedad el odio que le tengo a cocinar con polvitos de esos.\n",
    "\n",
    "-Alejandro: Tranquila vieja, aquí se cocina lo que tú digas y sabes que no hay cosa que nos guste más a nosotros que los platillos comunes, aqui no somos de caviar, ni de salmón, hasta el restaurante mas glamuroso de La Habana tiene que tener en su menú una oferta de ropa vieja y unas buenas croquetas."
   ]
  },
  {
   "cell_type": "code",
   "execution_count": 5,
   "metadata": {},
   "outputs": [
    {
     "data": {
      "application/vnd.plotly.v1+json": {
       "config": {
        "plotlyServerURL": "https://plot.ly"
       },
       "data": [
        {
         "marker": {
          "color": "red"
         },
         "name": "Entrantes",
         "type": "bar",
         "visible": true,
         "x": [
          "croquetas",
          "frituras de malanga",
          "papas fritas"
         ],
         "y": [
          43,
          43,
          37
         ]
        },
        {
         "marker": {
          "color": "blue"
         },
         "name": "Principales",
         "type": "bar",
         "visible": false,
         "x": [
          "ropa vieja",
          "bistec de cerdo",
          "vaca frita"
         ],
         "y": [
          47,
          30,
          29
         ]
        },
        {
         "marker": {
          "color": "green"
         },
         "name": "Pizzas",
         "type": "bar",
         "visible": false,
         "x": [
          "pizza napolitana",
          "pizza hawaiana",
          "pizza de jamon"
         ],
         "y": [
          38,
          30,
          19
         ]
        },
        {
         "marker": {
          "color": "orange"
         },
         "name": "Postres",
         "type": "bar",
         "visible": false,
         "x": [
          "flan",
          "copa de helado",
          "copa lolita"
         ],
         "y": [
          19,
          17,
          15
         ]
        },
        {
         "marker": {
          "color": "purple"
         },
         "name": "Cocteles",
         "type": "bar",
         "visible": false,
         "x": [
          "cuba libre",
          "mojito",
          "caipiroska"
         ],
         "y": [
          69,
          65,
          61
         ]
        }
       ],
       "layout": {
        "template": {
         "data": {
          "bar": [
           {
            "error_x": {
             "color": "#2a3f5f"
            },
            "error_y": {
             "color": "#2a3f5f"
            },
            "marker": {
             "line": {
              "color": "#E5ECF6",
              "width": 0.5
             },
             "pattern": {
              "fillmode": "overlay",
              "size": 10,
              "solidity": 0.2
             }
            },
            "type": "bar"
           }
          ],
          "barpolar": [
           {
            "marker": {
             "line": {
              "color": "#E5ECF6",
              "width": 0.5
             },
             "pattern": {
              "fillmode": "overlay",
              "size": 10,
              "solidity": 0.2
             }
            },
            "type": "barpolar"
           }
          ],
          "carpet": [
           {
            "aaxis": {
             "endlinecolor": "#2a3f5f",
             "gridcolor": "white",
             "linecolor": "white",
             "minorgridcolor": "white",
             "startlinecolor": "#2a3f5f"
            },
            "baxis": {
             "endlinecolor": "#2a3f5f",
             "gridcolor": "white",
             "linecolor": "white",
             "minorgridcolor": "white",
             "startlinecolor": "#2a3f5f"
            },
            "type": "carpet"
           }
          ],
          "choropleth": [
           {
            "colorbar": {
             "outlinewidth": 0,
             "ticks": ""
            },
            "type": "choropleth"
           }
          ],
          "contour": [
           {
            "colorbar": {
             "outlinewidth": 0,
             "ticks": ""
            },
            "colorscale": [
             [
              0,
              "#0d0887"
             ],
             [
              0.1111111111111111,
              "#46039f"
             ],
             [
              0.2222222222222222,
              "#7201a8"
             ],
             [
              0.3333333333333333,
              "#9c179e"
             ],
             [
              0.4444444444444444,
              "#bd3786"
             ],
             [
              0.5555555555555556,
              "#d8576b"
             ],
             [
              0.6666666666666666,
              "#ed7953"
             ],
             [
              0.7777777777777778,
              "#fb9f3a"
             ],
             [
              0.8888888888888888,
              "#fdca26"
             ],
             [
              1,
              "#f0f921"
             ]
            ],
            "type": "contour"
           }
          ],
          "contourcarpet": [
           {
            "colorbar": {
             "outlinewidth": 0,
             "ticks": ""
            },
            "type": "contourcarpet"
           }
          ],
          "heatmap": [
           {
            "colorbar": {
             "outlinewidth": 0,
             "ticks": ""
            },
            "colorscale": [
             [
              0,
              "#0d0887"
             ],
             [
              0.1111111111111111,
              "#46039f"
             ],
             [
              0.2222222222222222,
              "#7201a8"
             ],
             [
              0.3333333333333333,
              "#9c179e"
             ],
             [
              0.4444444444444444,
              "#bd3786"
             ],
             [
              0.5555555555555556,
              "#d8576b"
             ],
             [
              0.6666666666666666,
              "#ed7953"
             ],
             [
              0.7777777777777778,
              "#fb9f3a"
             ],
             [
              0.8888888888888888,
              "#fdca26"
             ],
             [
              1,
              "#f0f921"
             ]
            ],
            "type": "heatmap"
           }
          ],
          "heatmapgl": [
           {
            "colorbar": {
             "outlinewidth": 0,
             "ticks": ""
            },
            "colorscale": [
             [
              0,
              "#0d0887"
             ],
             [
              0.1111111111111111,
              "#46039f"
             ],
             [
              0.2222222222222222,
              "#7201a8"
             ],
             [
              0.3333333333333333,
              "#9c179e"
             ],
             [
              0.4444444444444444,
              "#bd3786"
             ],
             [
              0.5555555555555556,
              "#d8576b"
             ],
             [
              0.6666666666666666,
              "#ed7953"
             ],
             [
              0.7777777777777778,
              "#fb9f3a"
             ],
             [
              0.8888888888888888,
              "#fdca26"
             ],
             [
              1,
              "#f0f921"
             ]
            ],
            "type": "heatmapgl"
           }
          ],
          "histogram": [
           {
            "marker": {
             "pattern": {
              "fillmode": "overlay",
              "size": 10,
              "solidity": 0.2
             }
            },
            "type": "histogram"
           }
          ],
          "histogram2d": [
           {
            "colorbar": {
             "outlinewidth": 0,
             "ticks": ""
            },
            "colorscale": [
             [
              0,
              "#0d0887"
             ],
             [
              0.1111111111111111,
              "#46039f"
             ],
             [
              0.2222222222222222,
              "#7201a8"
             ],
             [
              0.3333333333333333,
              "#9c179e"
             ],
             [
              0.4444444444444444,
              "#bd3786"
             ],
             [
              0.5555555555555556,
              "#d8576b"
             ],
             [
              0.6666666666666666,
              "#ed7953"
             ],
             [
              0.7777777777777778,
              "#fb9f3a"
             ],
             [
              0.8888888888888888,
              "#fdca26"
             ],
             [
              1,
              "#f0f921"
             ]
            ],
            "type": "histogram2d"
           }
          ],
          "histogram2dcontour": [
           {
            "colorbar": {
             "outlinewidth": 0,
             "ticks": ""
            },
            "colorscale": [
             [
              0,
              "#0d0887"
             ],
             [
              0.1111111111111111,
              "#46039f"
             ],
             [
              0.2222222222222222,
              "#7201a8"
             ],
             [
              0.3333333333333333,
              "#9c179e"
             ],
             [
              0.4444444444444444,
              "#bd3786"
             ],
             [
              0.5555555555555556,
              "#d8576b"
             ],
             [
              0.6666666666666666,
              "#ed7953"
             ],
             [
              0.7777777777777778,
              "#fb9f3a"
             ],
             [
              0.8888888888888888,
              "#fdca26"
             ],
             [
              1,
              "#f0f921"
             ]
            ],
            "type": "histogram2dcontour"
           }
          ],
          "mesh3d": [
           {
            "colorbar": {
             "outlinewidth": 0,
             "ticks": ""
            },
            "type": "mesh3d"
           }
          ],
          "parcoords": [
           {
            "line": {
             "colorbar": {
              "outlinewidth": 0,
              "ticks": ""
             }
            },
            "type": "parcoords"
           }
          ],
          "pie": [
           {
            "automargin": true,
            "type": "pie"
           }
          ],
          "scatter": [
           {
            "fillpattern": {
             "fillmode": "overlay",
             "size": 10,
             "solidity": 0.2
            },
            "type": "scatter"
           }
          ],
          "scatter3d": [
           {
            "line": {
             "colorbar": {
              "outlinewidth": 0,
              "ticks": ""
             }
            },
            "marker": {
             "colorbar": {
              "outlinewidth": 0,
              "ticks": ""
             }
            },
            "type": "scatter3d"
           }
          ],
          "scattercarpet": [
           {
            "marker": {
             "colorbar": {
              "outlinewidth": 0,
              "ticks": ""
             }
            },
            "type": "scattercarpet"
           }
          ],
          "scattergeo": [
           {
            "marker": {
             "colorbar": {
              "outlinewidth": 0,
              "ticks": ""
             }
            },
            "type": "scattergeo"
           }
          ],
          "scattergl": [
           {
            "marker": {
             "colorbar": {
              "outlinewidth": 0,
              "ticks": ""
             }
            },
            "type": "scattergl"
           }
          ],
          "scattermapbox": [
           {
            "marker": {
             "colorbar": {
              "outlinewidth": 0,
              "ticks": ""
             }
            },
            "type": "scattermapbox"
           }
          ],
          "scatterpolar": [
           {
            "marker": {
             "colorbar": {
              "outlinewidth": 0,
              "ticks": ""
             }
            },
            "type": "scatterpolar"
           }
          ],
          "scatterpolargl": [
           {
            "marker": {
             "colorbar": {
              "outlinewidth": 0,
              "ticks": ""
             }
            },
            "type": "scatterpolargl"
           }
          ],
          "scatterternary": [
           {
            "marker": {
             "colorbar": {
              "outlinewidth": 0,
              "ticks": ""
             }
            },
            "type": "scatterternary"
           }
          ],
          "surface": [
           {
            "colorbar": {
             "outlinewidth": 0,
             "ticks": ""
            },
            "colorscale": [
             [
              0,
              "#0d0887"
             ],
             [
              0.1111111111111111,
              "#46039f"
             ],
             [
              0.2222222222222222,
              "#7201a8"
             ],
             [
              0.3333333333333333,
              "#9c179e"
             ],
             [
              0.4444444444444444,
              "#bd3786"
             ],
             [
              0.5555555555555556,
              "#d8576b"
             ],
             [
              0.6666666666666666,
              "#ed7953"
             ],
             [
              0.7777777777777778,
              "#fb9f3a"
             ],
             [
              0.8888888888888888,
              "#fdca26"
             ],
             [
              1,
              "#f0f921"
             ]
            ],
            "type": "surface"
           }
          ],
          "table": [
           {
            "cells": {
             "fill": {
              "color": "#EBF0F8"
             },
             "line": {
              "color": "white"
             }
            },
            "header": {
             "fill": {
              "color": "#C8D4E3"
             },
             "line": {
              "color": "white"
             }
            },
            "type": "table"
           }
          ]
         },
         "layout": {
          "annotationdefaults": {
           "arrowcolor": "#2a3f5f",
           "arrowhead": 0,
           "arrowwidth": 1
          },
          "autotypenumbers": "strict",
          "coloraxis": {
           "colorbar": {
            "outlinewidth": 0,
            "ticks": ""
           }
          },
          "colorscale": {
           "diverging": [
            [
             0,
             "#8e0152"
            ],
            [
             0.1,
             "#c51b7d"
            ],
            [
             0.2,
             "#de77ae"
            ],
            [
             0.3,
             "#f1b6da"
            ],
            [
             0.4,
             "#fde0ef"
            ],
            [
             0.5,
             "#f7f7f7"
            ],
            [
             0.6,
             "#e6f5d0"
            ],
            [
             0.7,
             "#b8e186"
            ],
            [
             0.8,
             "#7fbc41"
            ],
            [
             0.9,
             "#4d9221"
            ],
            [
             1,
             "#276419"
            ]
           ],
           "sequential": [
            [
             0,
             "#0d0887"
            ],
            [
             0.1111111111111111,
             "#46039f"
            ],
            [
             0.2222222222222222,
             "#7201a8"
            ],
            [
             0.3333333333333333,
             "#9c179e"
            ],
            [
             0.4444444444444444,
             "#bd3786"
            ],
            [
             0.5555555555555556,
             "#d8576b"
            ],
            [
             0.6666666666666666,
             "#ed7953"
            ],
            [
             0.7777777777777778,
             "#fb9f3a"
            ],
            [
             0.8888888888888888,
             "#fdca26"
            ],
            [
             1,
             "#f0f921"
            ]
           ],
           "sequentialminus": [
            [
             0,
             "#0d0887"
            ],
            [
             0.1111111111111111,
             "#46039f"
            ],
            [
             0.2222222222222222,
             "#7201a8"
            ],
            [
             0.3333333333333333,
             "#9c179e"
            ],
            [
             0.4444444444444444,
             "#bd3786"
            ],
            [
             0.5555555555555556,
             "#d8576b"
            ],
            [
             0.6666666666666666,
             "#ed7953"
            ],
            [
             0.7777777777777778,
             "#fb9f3a"
            ],
            [
             0.8888888888888888,
             "#fdca26"
            ],
            [
             1,
             "#f0f921"
            ]
           ]
          },
          "colorway": [
           "#636efa",
           "#EF553B",
           "#00cc96",
           "#ab63fa",
           "#FFA15A",
           "#19d3f3",
           "#FF6692",
           "#B6E880",
           "#FF97FF",
           "#FECB52"
          ],
          "font": {
           "color": "#2a3f5f"
          },
          "geo": {
           "bgcolor": "white",
           "lakecolor": "white",
           "landcolor": "#E5ECF6",
           "showlakes": true,
           "showland": true,
           "subunitcolor": "white"
          },
          "hoverlabel": {
           "align": "left"
          },
          "hovermode": "closest",
          "mapbox": {
           "style": "light"
          },
          "paper_bgcolor": "white",
          "plot_bgcolor": "#E5ECF6",
          "polar": {
           "angularaxis": {
            "gridcolor": "white",
            "linecolor": "white",
            "ticks": ""
           },
           "bgcolor": "#E5ECF6",
           "radialaxis": {
            "gridcolor": "white",
            "linecolor": "white",
            "ticks": ""
           }
          },
          "scene": {
           "xaxis": {
            "backgroundcolor": "#E5ECF6",
            "gridcolor": "white",
            "gridwidth": 2,
            "linecolor": "white",
            "showbackground": true,
            "ticks": "",
            "zerolinecolor": "white"
           },
           "yaxis": {
            "backgroundcolor": "#E5ECF6",
            "gridcolor": "white",
            "gridwidth": 2,
            "linecolor": "white",
            "showbackground": true,
            "ticks": "",
            "zerolinecolor": "white"
           },
           "zaxis": {
            "backgroundcolor": "#E5ECF6",
            "gridcolor": "white",
            "gridwidth": 2,
            "linecolor": "white",
            "showbackground": true,
            "ticks": "",
            "zerolinecolor": "white"
           }
          },
          "shapedefaults": {
           "line": {
            "color": "#2a3f5f"
           }
          },
          "ternary": {
           "aaxis": {
            "gridcolor": "white",
            "linecolor": "white",
            "ticks": ""
           },
           "baxis": {
            "gridcolor": "white",
            "linecolor": "white",
            "ticks": ""
           },
           "bgcolor": "#E5ECF6",
           "caxis": {
            "gridcolor": "white",
            "linecolor": "white",
            "ticks": ""
           }
          },
          "title": {
           "x": 0.05
          },
          "xaxis": {
           "automargin": true,
           "gridcolor": "white",
           "linecolor": "white",
           "ticks": "",
           "title": {
            "standoff": 15
           },
           "zerolinecolor": "white",
           "zerolinewidth": 2
          },
          "yaxis": {
           "automargin": true,
           "gridcolor": "white",
           "linecolor": "white",
           "ticks": "",
           "title": {
            "standoff": 15
           },
           "zerolinecolor": "white",
           "zerolinewidth": 2
          }
         }
        },
        "updatemenus": [
         {
          "buttons": [
           {
            "args": [
             {
              "visible": [
               true,
               false,
               false,
               false,
               false
              ]
             },
             {
              "title": "Entrantes mas comunes"
             }
            ],
            "label": "Entrantes",
            "method": "update"
           },
           {
            "args": [
             {
              "visible": [
               false,
               true,
               false,
               false,
               false
              ]
             },
             {
              "title": "Principales mas comunes"
             }
            ],
            "label": "Principales",
            "method": "update"
           },
           {
            "args": [
             {
              "visible": [
               false,
               false,
               true,
               false,
               false
              ]
             },
             {
              "title": "Pizzas mas comunes"
             }
            ],
            "label": "Pizzas",
            "method": "update"
           },
           {
            "args": [
             {
              "visible": [
               false,
               false,
               false,
               true,
               false
              ]
             },
             {
              "title": "Postres mas comunes"
             }
            ],
            "label": "Postres",
            "method": "update"
           },
           {
            "args": [
             {
              "visible": [
               false,
               false,
               false,
               false,
               true
              ]
             },
             {
              "title": "Cocteles mas comunes"
             }
            ],
            "label": "Cocteles",
            "method": "update"
           }
          ],
          "showactive": true,
          "type": "buttons"
         }
        ]
       }
      }
     },
     "metadata": {},
     "output_type": "display_data"
    }
   ],
   "source": [
    "#Grafico de barras que muestra cuales son los 3 (entrantes,principales,pizzas,postres,cocteles) mas comunes en los menu :)\n",
    "\n",
    "entrantes_nombres = []\n",
    "entrantes_comunes = []\n",
    "\n",
    "for i, row in data.iterrows():\n",
    "    menu = row[\"menu\"]\n",
    "    if isinstance(menu, dict) and \"starters\" in menu:  \n",
    "        for starter in menu[\"starters\"]:\n",
    "            nombre = starter.get(\"item_name\")\n",
    "            if nombre is not None: \n",
    "                nombre_igualado =bp.i_nombre(nombre)\n",
    "                entrantes_nombres.append(nombre_igualado)\n",
    "counter = Counter(entrantes_nombres)\n",
    "tres_mas_comunes = counter.most_common(3)\n",
    "for nombre, frecuencia in tres_mas_comunes:\n",
    "    entrantes_comunes.append((nombre, frecuencia))\n",
    "    \n",
    "\n",
    "principales_nombres = []\n",
    "principales_comunes = []\n",
    "\n",
    "for i, row in data.iterrows():\n",
    "    menu = row[\"menu\"]\n",
    "    if isinstance(menu, dict) and \"mains\" in menu:  \n",
    "        for starter in menu[\"mains\"]:\n",
    "            nombre = starter.get(\"item_name\")\n",
    "            if nombre is not None: \n",
    "                nombre_igualado = bp.i_nombre(nombre)\n",
    "                principales_nombres.append(nombre_igualado)\n",
    "counter = Counter(principales_nombres)\n",
    "tres_mas_comunes = counter.most_common(3)\n",
    "for nombre, frecuencia in tres_mas_comunes:\n",
    "    principales_comunes.append((nombre, frecuencia))\n",
    "\n",
    "pizza_nombres = []\n",
    "pizza_comunes = []\n",
    "\n",
    "for i, row in data.iterrows():\n",
    "    menu = row[\"menu\"]\n",
    "    if isinstance(menu, dict) and \"pizza\" in menu:  \n",
    "        for starter in menu[\"pizza\"]:\n",
    "            nombre = starter.get(\"item_name\")\n",
    "            if nombre is not None: \n",
    "                nombre_igualado = bp.i_nombre(nombre)\n",
    "                pizza_nombres.append(nombre_igualado)\n",
    "counter = Counter(pizza_nombres)\n",
    "tres_mas_comunes = counter.most_common(3)\n",
    "for nombre, frecuencia in tres_mas_comunes:\n",
    "    pizza_comunes.append((nombre, frecuencia))\n",
    "\n",
    "postres_nombres = []\n",
    "postres_comunes = []\n",
    "\n",
    "for i, row in data.iterrows():\n",
    "    menu = row[\"menu\"]\n",
    "    if isinstance(menu, dict) and \"desserts\" in menu:  \n",
    "        for starter in menu[\"desserts\"]:\n",
    "            nombre = starter.get(\"item_name\")\n",
    "            if nombre is not None: \n",
    "                nombre_igualado = bp.i_nombre(nombre)\n",
    "                postres_nombres.append(nombre_igualado)\n",
    "counter = Counter(postres_nombres)\n",
    "tres_mas_comunes = counter.most_common(3)\n",
    "for nombre, frecuencia in tres_mas_comunes:\n",
    "    postres_comunes.append((nombre, frecuencia))\n",
    "\n",
    "\n",
    "cocteles_nombres = []\n",
    "cocteles_comunes = []\n",
    "for i, row in data.iterrows():\n",
    "    menu = row[\"menu\"]\n",
    "    if isinstance(menu, dict) and \"cocktails\" in menu:  \n",
    "        for cocktail in menu[\"cocktails\"]:\n",
    "            nombre = cocktail.get(\"item_name\")\n",
    "            if nombre is not None: \n",
    "                nombre_igualado = bp.i_nombre(nombre)\n",
    "                cocteles_nombres.append(nombre_igualado)\n",
    "counter = Counter(cocteles_nombres)\n",
    "tres_mas_comunes = counter.most_common(3)\n",
    "for nombre, frecuencia in tres_mas_comunes:\n",
    "    cocteles_comunes.append((nombre, frecuencia))\n",
    "\n",
    "starters = entrantes_comunes\n",
    "mains = principales_comunes\n",
    "pizzas = pizza_comunes\n",
    "desserts = postres_comunes\n",
    "cocktails = cocteles_comunes\n",
    "\n",
    "grafico_starters = bp.c_grafico(starters, \"Entrantes\", \"red\")\n",
    "grafico_mains = bp.c_grafico(mains, \"Principales\", \"blue\")\n",
    "grafico_pizzas = bp.c_grafico(pizzas, \"Pizzas\",\"green\")\n",
    "grafico_desserts = bp.c_grafico(desserts, \"Postres\", \"orange\")\n",
    "grafico_cocktails = bp.c_grafico(cocktails, \"Cocteles\", \"purple\")\n",
    "\n",
    "\n",
    "fig = go.Figure()\n",
    "\n",
    "\n",
    "fig.add_traces([grafico_starters, grafico_mains, grafico_pizzas, grafico_desserts, grafico_cocktails])\n",
    "\n",
    "fig.update_traces(visible=False)\n",
    "fig.data[0].visible = True  \n",
    "\n",
    "\n",
    "buttons = [\n",
    "    dict(label=\"Entrantes\", method=\"update\", args=[{\"visible\": [True, False, False, False, False]}, {\"title\": \"Entrantes mas comunes\"}]),\n",
    "    dict(label=\"Principales\", method=\"update\", args=[{\"visible\": [False, True, False, False, False]}, {\"title\": \"Principales mas comunes\"}]),\n",
    "    dict(label=\"Pizzas\", method=\"update\", args=[{\"visible\": [False, False, True, False, False]}, {\"title\": \"Pizzas mas comunes\"}]),\n",
    "    dict(label=\"Postres\", method=\"update\", args=[{\"visible\": [False, False, False, True, False]}, {\"title\": \"Postres mas comunes\"}]),\n",
    "    dict(label=\"Cocteles\", method=\"update\", args=[{\"visible\": [False, False, False, False, True]}, {\"title\": \"Cocteles mas comunes\"}]),]\n",
    "   \n",
    "fig.update_layout(\n",
    "    updatemenus=[\n",
    "        dict(\n",
    "            type=\"buttons\",\n",
    "            showactive=True,\n",
    "            buttons=buttons,\n",
    "        )\n",
    "    ]\n",
    ")\n",
    "\n",
    "pio.show(fig)"
   ]
  },
  {
   "cell_type": "markdown",
   "metadata": {},
   "source": [
    "Necesitaría saber cuales son los productos más caros que tendría que comprar para ir haciéndome una idea de cual tendría que ser la inversion en materia prima.\n",
    "\n",
    "-Caridad: Hay alejandro ni que fueras bobo, aqui todos sabemos que los más caros son los marisco y la carne de res\n",
    "\n",
    "Pero para que las cosas salgan bien todo conlleva una investigación."
   ]
  },
  {
   "cell_type": "code",
   "execution_count": 6,
   "metadata": {},
   "outputs": [
    {
     "data": {
      "application/vnd.plotly.v1+json": {
       "config": {
        "plotlyServerURL": "https://plot.ly"
       },
       "data": [
        {
         "alignmentgroup": "True",
         "hovertemplate": "Nombre del Plato=%{x}<br>Precio ($)=%{y}<extra></extra>",
         "legendgroup": "",
         "marker": {
          "color": "#636efa",
          "pattern": {
           "shape": ""
          }
         },
         "name": "",
         "offsetgroup": "",
         "orientation": "v",
         "showlegend": false,
         "textposition": "auto",
         "type": "bar",
         "x": [
          "Solomillo de res a la pimienta",
          "Cazuela de mariscos",
          "Pargo entero al gusto",
          "Langosta Termidor",
          "Camaron al gusto"
         ],
         "xaxis": "x",
         "y": [
          4200,
          3750,
          3750,
          3200,
          2800
         ],
         "yaxis": "y"
        }
       ],
       "layout": {
        "barmode": "relative",
        "legend": {
         "tracegroupgap": 0
        },
        "template": {
         "data": {
          "bar": [
           {
            "error_x": {
             "color": "#2a3f5f"
            },
            "error_y": {
             "color": "#2a3f5f"
            },
            "marker": {
             "line": {
              "color": "#E5ECF6",
              "width": 0.5
             },
             "pattern": {
              "fillmode": "overlay",
              "size": 10,
              "solidity": 0.2
             }
            },
            "type": "bar"
           }
          ],
          "barpolar": [
           {
            "marker": {
             "line": {
              "color": "#E5ECF6",
              "width": 0.5
             },
             "pattern": {
              "fillmode": "overlay",
              "size": 10,
              "solidity": 0.2
             }
            },
            "type": "barpolar"
           }
          ],
          "carpet": [
           {
            "aaxis": {
             "endlinecolor": "#2a3f5f",
             "gridcolor": "white",
             "linecolor": "white",
             "minorgridcolor": "white",
             "startlinecolor": "#2a3f5f"
            },
            "baxis": {
             "endlinecolor": "#2a3f5f",
             "gridcolor": "white",
             "linecolor": "white",
             "minorgridcolor": "white",
             "startlinecolor": "#2a3f5f"
            },
            "type": "carpet"
           }
          ],
          "choropleth": [
           {
            "colorbar": {
             "outlinewidth": 0,
             "ticks": ""
            },
            "type": "choropleth"
           }
          ],
          "contour": [
           {
            "colorbar": {
             "outlinewidth": 0,
             "ticks": ""
            },
            "colorscale": [
             [
              0,
              "#0d0887"
             ],
             [
              0.1111111111111111,
              "#46039f"
             ],
             [
              0.2222222222222222,
              "#7201a8"
             ],
             [
              0.3333333333333333,
              "#9c179e"
             ],
             [
              0.4444444444444444,
              "#bd3786"
             ],
             [
              0.5555555555555556,
              "#d8576b"
             ],
             [
              0.6666666666666666,
              "#ed7953"
             ],
             [
              0.7777777777777778,
              "#fb9f3a"
             ],
             [
              0.8888888888888888,
              "#fdca26"
             ],
             [
              1,
              "#f0f921"
             ]
            ],
            "type": "contour"
           }
          ],
          "contourcarpet": [
           {
            "colorbar": {
             "outlinewidth": 0,
             "ticks": ""
            },
            "type": "contourcarpet"
           }
          ],
          "heatmap": [
           {
            "colorbar": {
             "outlinewidth": 0,
             "ticks": ""
            },
            "colorscale": [
             [
              0,
              "#0d0887"
             ],
             [
              0.1111111111111111,
              "#46039f"
             ],
             [
              0.2222222222222222,
              "#7201a8"
             ],
             [
              0.3333333333333333,
              "#9c179e"
             ],
             [
              0.4444444444444444,
              "#bd3786"
             ],
             [
              0.5555555555555556,
              "#d8576b"
             ],
             [
              0.6666666666666666,
              "#ed7953"
             ],
             [
              0.7777777777777778,
              "#fb9f3a"
             ],
             [
              0.8888888888888888,
              "#fdca26"
             ],
             [
              1,
              "#f0f921"
             ]
            ],
            "type": "heatmap"
           }
          ],
          "heatmapgl": [
           {
            "colorbar": {
             "outlinewidth": 0,
             "ticks": ""
            },
            "colorscale": [
             [
              0,
              "#0d0887"
             ],
             [
              0.1111111111111111,
              "#46039f"
             ],
             [
              0.2222222222222222,
              "#7201a8"
             ],
             [
              0.3333333333333333,
              "#9c179e"
             ],
             [
              0.4444444444444444,
              "#bd3786"
             ],
             [
              0.5555555555555556,
              "#d8576b"
             ],
             [
              0.6666666666666666,
              "#ed7953"
             ],
             [
              0.7777777777777778,
              "#fb9f3a"
             ],
             [
              0.8888888888888888,
              "#fdca26"
             ],
             [
              1,
              "#f0f921"
             ]
            ],
            "type": "heatmapgl"
           }
          ],
          "histogram": [
           {
            "marker": {
             "pattern": {
              "fillmode": "overlay",
              "size": 10,
              "solidity": 0.2
             }
            },
            "type": "histogram"
           }
          ],
          "histogram2d": [
           {
            "colorbar": {
             "outlinewidth": 0,
             "ticks": ""
            },
            "colorscale": [
             [
              0,
              "#0d0887"
             ],
             [
              0.1111111111111111,
              "#46039f"
             ],
             [
              0.2222222222222222,
              "#7201a8"
             ],
             [
              0.3333333333333333,
              "#9c179e"
             ],
             [
              0.4444444444444444,
              "#bd3786"
             ],
             [
              0.5555555555555556,
              "#d8576b"
             ],
             [
              0.6666666666666666,
              "#ed7953"
             ],
             [
              0.7777777777777778,
              "#fb9f3a"
             ],
             [
              0.8888888888888888,
              "#fdca26"
             ],
             [
              1,
              "#f0f921"
             ]
            ],
            "type": "histogram2d"
           }
          ],
          "histogram2dcontour": [
           {
            "colorbar": {
             "outlinewidth": 0,
             "ticks": ""
            },
            "colorscale": [
             [
              0,
              "#0d0887"
             ],
             [
              0.1111111111111111,
              "#46039f"
             ],
             [
              0.2222222222222222,
              "#7201a8"
             ],
             [
              0.3333333333333333,
              "#9c179e"
             ],
             [
              0.4444444444444444,
              "#bd3786"
             ],
             [
              0.5555555555555556,
              "#d8576b"
             ],
             [
              0.6666666666666666,
              "#ed7953"
             ],
             [
              0.7777777777777778,
              "#fb9f3a"
             ],
             [
              0.8888888888888888,
              "#fdca26"
             ],
             [
              1,
              "#f0f921"
             ]
            ],
            "type": "histogram2dcontour"
           }
          ],
          "mesh3d": [
           {
            "colorbar": {
             "outlinewidth": 0,
             "ticks": ""
            },
            "type": "mesh3d"
           }
          ],
          "parcoords": [
           {
            "line": {
             "colorbar": {
              "outlinewidth": 0,
              "ticks": ""
             }
            },
            "type": "parcoords"
           }
          ],
          "pie": [
           {
            "automargin": true,
            "type": "pie"
           }
          ],
          "scatter": [
           {
            "fillpattern": {
             "fillmode": "overlay",
             "size": 10,
             "solidity": 0.2
            },
            "type": "scatter"
           }
          ],
          "scatter3d": [
           {
            "line": {
             "colorbar": {
              "outlinewidth": 0,
              "ticks": ""
             }
            },
            "marker": {
             "colorbar": {
              "outlinewidth": 0,
              "ticks": ""
             }
            },
            "type": "scatter3d"
           }
          ],
          "scattercarpet": [
           {
            "marker": {
             "colorbar": {
              "outlinewidth": 0,
              "ticks": ""
             }
            },
            "type": "scattercarpet"
           }
          ],
          "scattergeo": [
           {
            "marker": {
             "colorbar": {
              "outlinewidth": 0,
              "ticks": ""
             }
            },
            "type": "scattergeo"
           }
          ],
          "scattergl": [
           {
            "marker": {
             "colorbar": {
              "outlinewidth": 0,
              "ticks": ""
             }
            },
            "type": "scattergl"
           }
          ],
          "scattermapbox": [
           {
            "marker": {
             "colorbar": {
              "outlinewidth": 0,
              "ticks": ""
             }
            },
            "type": "scattermapbox"
           }
          ],
          "scatterpolar": [
           {
            "marker": {
             "colorbar": {
              "outlinewidth": 0,
              "ticks": ""
             }
            },
            "type": "scatterpolar"
           }
          ],
          "scatterpolargl": [
           {
            "marker": {
             "colorbar": {
              "outlinewidth": 0,
              "ticks": ""
             }
            },
            "type": "scatterpolargl"
           }
          ],
          "scatterternary": [
           {
            "marker": {
             "colorbar": {
              "outlinewidth": 0,
              "ticks": ""
             }
            },
            "type": "scatterternary"
           }
          ],
          "surface": [
           {
            "colorbar": {
             "outlinewidth": 0,
             "ticks": ""
            },
            "colorscale": [
             [
              0,
              "#0d0887"
             ],
             [
              0.1111111111111111,
              "#46039f"
             ],
             [
              0.2222222222222222,
              "#7201a8"
             ],
             [
              0.3333333333333333,
              "#9c179e"
             ],
             [
              0.4444444444444444,
              "#bd3786"
             ],
             [
              0.5555555555555556,
              "#d8576b"
             ],
             [
              0.6666666666666666,
              "#ed7953"
             ],
             [
              0.7777777777777778,
              "#fb9f3a"
             ],
             [
              0.8888888888888888,
              "#fdca26"
             ],
             [
              1,
              "#f0f921"
             ]
            ],
            "type": "surface"
           }
          ],
          "table": [
           {
            "cells": {
             "fill": {
              "color": "#EBF0F8"
             },
             "line": {
              "color": "white"
             }
            },
            "header": {
             "fill": {
              "color": "#C8D4E3"
             },
             "line": {
              "color": "white"
             }
            },
            "type": "table"
           }
          ]
         },
         "layout": {
          "annotationdefaults": {
           "arrowcolor": "#2a3f5f",
           "arrowhead": 0,
           "arrowwidth": 1
          },
          "autotypenumbers": "strict",
          "coloraxis": {
           "colorbar": {
            "outlinewidth": 0,
            "ticks": ""
           }
          },
          "colorscale": {
           "diverging": [
            [
             0,
             "#8e0152"
            ],
            [
             0.1,
             "#c51b7d"
            ],
            [
             0.2,
             "#de77ae"
            ],
            [
             0.3,
             "#f1b6da"
            ],
            [
             0.4,
             "#fde0ef"
            ],
            [
             0.5,
             "#f7f7f7"
            ],
            [
             0.6,
             "#e6f5d0"
            ],
            [
             0.7,
             "#b8e186"
            ],
            [
             0.8,
             "#7fbc41"
            ],
            [
             0.9,
             "#4d9221"
            ],
            [
             1,
             "#276419"
            ]
           ],
           "sequential": [
            [
             0,
             "#0d0887"
            ],
            [
             0.1111111111111111,
             "#46039f"
            ],
            [
             0.2222222222222222,
             "#7201a8"
            ],
            [
             0.3333333333333333,
             "#9c179e"
            ],
            [
             0.4444444444444444,
             "#bd3786"
            ],
            [
             0.5555555555555556,
             "#d8576b"
            ],
            [
             0.6666666666666666,
             "#ed7953"
            ],
            [
             0.7777777777777778,
             "#fb9f3a"
            ],
            [
             0.8888888888888888,
             "#fdca26"
            ],
            [
             1,
             "#f0f921"
            ]
           ],
           "sequentialminus": [
            [
             0,
             "#0d0887"
            ],
            [
             0.1111111111111111,
             "#46039f"
            ],
            [
             0.2222222222222222,
             "#7201a8"
            ],
            [
             0.3333333333333333,
             "#9c179e"
            ],
            [
             0.4444444444444444,
             "#bd3786"
            ],
            [
             0.5555555555555556,
             "#d8576b"
            ],
            [
             0.6666666666666666,
             "#ed7953"
            ],
            [
             0.7777777777777778,
             "#fb9f3a"
            ],
            [
             0.8888888888888888,
             "#fdca26"
            ],
            [
             1,
             "#f0f921"
            ]
           ]
          },
          "colorway": [
           "#636efa",
           "#EF553B",
           "#00cc96",
           "#ab63fa",
           "#FFA15A",
           "#19d3f3",
           "#FF6692",
           "#B6E880",
           "#FF97FF",
           "#FECB52"
          ],
          "font": {
           "color": "#2a3f5f"
          },
          "geo": {
           "bgcolor": "white",
           "lakecolor": "white",
           "landcolor": "#E5ECF6",
           "showlakes": true,
           "showland": true,
           "subunitcolor": "white"
          },
          "hoverlabel": {
           "align": "left"
          },
          "hovermode": "closest",
          "mapbox": {
           "style": "light"
          },
          "paper_bgcolor": "white",
          "plot_bgcolor": "#E5ECF6",
          "polar": {
           "angularaxis": {
            "gridcolor": "white",
            "linecolor": "white",
            "ticks": ""
           },
           "bgcolor": "#E5ECF6",
           "radialaxis": {
            "gridcolor": "white",
            "linecolor": "white",
            "ticks": ""
           }
          },
          "scene": {
           "xaxis": {
            "backgroundcolor": "#E5ECF6",
            "gridcolor": "white",
            "gridwidth": 2,
            "linecolor": "white",
            "showbackground": true,
            "ticks": "",
            "zerolinecolor": "white"
           },
           "yaxis": {
            "backgroundcolor": "#E5ECF6",
            "gridcolor": "white",
            "gridwidth": 2,
            "linecolor": "white",
            "showbackground": true,
            "ticks": "",
            "zerolinecolor": "white"
           },
           "zaxis": {
            "backgroundcolor": "#E5ECF6",
            "gridcolor": "white",
            "gridwidth": 2,
            "linecolor": "white",
            "showbackground": true,
            "ticks": "",
            "zerolinecolor": "white"
           }
          },
          "shapedefaults": {
           "line": {
            "color": "#2a3f5f"
           }
          },
          "ternary": {
           "aaxis": {
            "gridcolor": "white",
            "linecolor": "white",
            "ticks": ""
           },
           "baxis": {
            "gridcolor": "white",
            "linecolor": "white",
            "ticks": ""
           },
           "bgcolor": "#E5ECF6",
           "caxis": {
            "gridcolor": "white",
            "linecolor": "white",
            "ticks": ""
           }
          },
          "title": {
           "x": 0.05
          },
          "xaxis": {
           "automargin": true,
           "gridcolor": "white",
           "linecolor": "white",
           "ticks": "",
           "title": {
            "standoff": 15
           },
           "zerolinecolor": "white",
           "zerolinewidth": 2
          },
          "yaxis": {
           "automargin": true,
           "gridcolor": "white",
           "linecolor": "white",
           "ticks": "",
           "title": {
            "standoff": 15
           },
           "zerolinecolor": "white",
           "zerolinewidth": 2
          }
         }
        },
        "title": {
         "text": "Cinco Platos Más Caros"
        },
        "xaxis": {
         "anchor": "y",
         "domain": [
          0,
          1
         ],
         "title": {
          "text": "Nombre del Plato"
         }
        },
        "yaxis": {
         "anchor": "x",
         "domain": [
          0,
          1
         ],
         "title": {
          "text": "Precio ($)"
         }
        }
       }
      }
     },
     "metadata": {},
     "output_type": "display_data"
    }
   ],
   "source": [
    "def obtener_precio(plato):\n",
    "    return plato[\"price\"]\n",
    "\n",
    "platos_principales = menu[\"mains\"]\n",
    "platos_principales_ordenados = sorted(platos_principales, key=obtener_precio, reverse=True)\n",
    "cinco_platos_caros = platos_principales_ordenados[:5]\n",
    "\n",
    "nombre = []\n",
    "precio = []\n",
    "\n",
    "for i in cinco_platos_caros:\n",
    "    precio.append(i[\"price\"])\n",
    "for i in cinco_platos_caros:\n",
    "    nombre.append(i[\"item_name\"])\n",
    "fig = px.bar(\n",
    "    x=nombre, \n",
    "    y=precio, \n",
    "    title=\"Cinco Platos Más Caros\", \n",
    "    labels={'x':'Nombre del Plato', 'y':'Precio ($)'})\n",
    "fig.show()"
   ]
  },
  {
   "cell_type": "markdown",
   "metadata": {},
   "source": [
    "Oye mami y el tema de los apagones como anda?\n",
    "\n",
    "-Caridad: Bueno mijo hasta ahora vamos por 2 caídas del SEN y a cada rato la quitan lo que poco tiempo\n",
    "\n",
    "Tú crees que valga la pena invertir dinero en una planta?"
   ]
  },
  {
   "cell_type": "markdown",
   "metadata": {},
   "source": [
    "Después de realizar la tarea observó que el X% de los restaurantes que se encontraban en la muestra que había tomado para realizar la investigación poseían un generador eléctrico o al menos una alternativa para poder continuar con el trabajo en caso de cortes en el fluido eléctrico, por lo que determinó que invertir en una planta sería un buen respaldo para que el negocio no se viera afectado en caso de algún incoveniente con la electricidad "
   ]
  },
  {
   "cell_type": "code",
   "execution_count": 7,
   "metadata": {},
   "outputs": [
    {
     "name": "stdout",
     "output_type": "stream",
     "text": [
      "48.87\n"
     ]
    },
    {
     "data": {
      "application/vnd.plotly.v1+json": {
       "config": {
        "plotlyServerURL": "https://plot.ly"
       },
       "data": [
        {
         "domain": {
          "x": [
           0,
           1
          ],
          "y": [
           0,
           1
          ]
         },
         "hovertemplate": "label=%{label}<br>value=%{value}<extra></extra>",
         "labels": [
          "Con Generador",
          "Sin Generador"
         ],
         "legendgroup": "",
         "name": "",
         "showlegend": true,
         "type": "pie",
         "values": [
          51.13,
          48.87
         ]
        }
       ],
       "layout": {
        "legend": {
         "tracegroupgap": 0
        },
        "template": {
         "data": {
          "bar": [
           {
            "error_x": {
             "color": "#2a3f5f"
            },
            "error_y": {
             "color": "#2a3f5f"
            },
            "marker": {
             "line": {
              "color": "#E5ECF6",
              "width": 0.5
             },
             "pattern": {
              "fillmode": "overlay",
              "size": 10,
              "solidity": 0.2
             }
            },
            "type": "bar"
           }
          ],
          "barpolar": [
           {
            "marker": {
             "line": {
              "color": "#E5ECF6",
              "width": 0.5
             },
             "pattern": {
              "fillmode": "overlay",
              "size": 10,
              "solidity": 0.2
             }
            },
            "type": "barpolar"
           }
          ],
          "carpet": [
           {
            "aaxis": {
             "endlinecolor": "#2a3f5f",
             "gridcolor": "white",
             "linecolor": "white",
             "minorgridcolor": "white",
             "startlinecolor": "#2a3f5f"
            },
            "baxis": {
             "endlinecolor": "#2a3f5f",
             "gridcolor": "white",
             "linecolor": "white",
             "minorgridcolor": "white",
             "startlinecolor": "#2a3f5f"
            },
            "type": "carpet"
           }
          ],
          "choropleth": [
           {
            "colorbar": {
             "outlinewidth": 0,
             "ticks": ""
            },
            "type": "choropleth"
           }
          ],
          "contour": [
           {
            "colorbar": {
             "outlinewidth": 0,
             "ticks": ""
            },
            "colorscale": [
             [
              0,
              "#0d0887"
             ],
             [
              0.1111111111111111,
              "#46039f"
             ],
             [
              0.2222222222222222,
              "#7201a8"
             ],
             [
              0.3333333333333333,
              "#9c179e"
             ],
             [
              0.4444444444444444,
              "#bd3786"
             ],
             [
              0.5555555555555556,
              "#d8576b"
             ],
             [
              0.6666666666666666,
              "#ed7953"
             ],
             [
              0.7777777777777778,
              "#fb9f3a"
             ],
             [
              0.8888888888888888,
              "#fdca26"
             ],
             [
              1,
              "#f0f921"
             ]
            ],
            "type": "contour"
           }
          ],
          "contourcarpet": [
           {
            "colorbar": {
             "outlinewidth": 0,
             "ticks": ""
            },
            "type": "contourcarpet"
           }
          ],
          "heatmap": [
           {
            "colorbar": {
             "outlinewidth": 0,
             "ticks": ""
            },
            "colorscale": [
             [
              0,
              "#0d0887"
             ],
             [
              0.1111111111111111,
              "#46039f"
             ],
             [
              0.2222222222222222,
              "#7201a8"
             ],
             [
              0.3333333333333333,
              "#9c179e"
             ],
             [
              0.4444444444444444,
              "#bd3786"
             ],
             [
              0.5555555555555556,
              "#d8576b"
             ],
             [
              0.6666666666666666,
              "#ed7953"
             ],
             [
              0.7777777777777778,
              "#fb9f3a"
             ],
             [
              0.8888888888888888,
              "#fdca26"
             ],
             [
              1,
              "#f0f921"
             ]
            ],
            "type": "heatmap"
           }
          ],
          "heatmapgl": [
           {
            "colorbar": {
             "outlinewidth": 0,
             "ticks": ""
            },
            "colorscale": [
             [
              0,
              "#0d0887"
             ],
             [
              0.1111111111111111,
              "#46039f"
             ],
             [
              0.2222222222222222,
              "#7201a8"
             ],
             [
              0.3333333333333333,
              "#9c179e"
             ],
             [
              0.4444444444444444,
              "#bd3786"
             ],
             [
              0.5555555555555556,
              "#d8576b"
             ],
             [
              0.6666666666666666,
              "#ed7953"
             ],
             [
              0.7777777777777778,
              "#fb9f3a"
             ],
             [
              0.8888888888888888,
              "#fdca26"
             ],
             [
              1,
              "#f0f921"
             ]
            ],
            "type": "heatmapgl"
           }
          ],
          "histogram": [
           {
            "marker": {
             "pattern": {
              "fillmode": "overlay",
              "size": 10,
              "solidity": 0.2
             }
            },
            "type": "histogram"
           }
          ],
          "histogram2d": [
           {
            "colorbar": {
             "outlinewidth": 0,
             "ticks": ""
            },
            "colorscale": [
             [
              0,
              "#0d0887"
             ],
             [
              0.1111111111111111,
              "#46039f"
             ],
             [
              0.2222222222222222,
              "#7201a8"
             ],
             [
              0.3333333333333333,
              "#9c179e"
             ],
             [
              0.4444444444444444,
              "#bd3786"
             ],
             [
              0.5555555555555556,
              "#d8576b"
             ],
             [
              0.6666666666666666,
              "#ed7953"
             ],
             [
              0.7777777777777778,
              "#fb9f3a"
             ],
             [
              0.8888888888888888,
              "#fdca26"
             ],
             [
              1,
              "#f0f921"
             ]
            ],
            "type": "histogram2d"
           }
          ],
          "histogram2dcontour": [
           {
            "colorbar": {
             "outlinewidth": 0,
             "ticks": ""
            },
            "colorscale": [
             [
              0,
              "#0d0887"
             ],
             [
              0.1111111111111111,
              "#46039f"
             ],
             [
              0.2222222222222222,
              "#7201a8"
             ],
             [
              0.3333333333333333,
              "#9c179e"
             ],
             [
              0.4444444444444444,
              "#bd3786"
             ],
             [
              0.5555555555555556,
              "#d8576b"
             ],
             [
              0.6666666666666666,
              "#ed7953"
             ],
             [
              0.7777777777777778,
              "#fb9f3a"
             ],
             [
              0.8888888888888888,
              "#fdca26"
             ],
             [
              1,
              "#f0f921"
             ]
            ],
            "type": "histogram2dcontour"
           }
          ],
          "mesh3d": [
           {
            "colorbar": {
             "outlinewidth": 0,
             "ticks": ""
            },
            "type": "mesh3d"
           }
          ],
          "parcoords": [
           {
            "line": {
             "colorbar": {
              "outlinewidth": 0,
              "ticks": ""
             }
            },
            "type": "parcoords"
           }
          ],
          "pie": [
           {
            "automargin": true,
            "type": "pie"
           }
          ],
          "scatter": [
           {
            "fillpattern": {
             "fillmode": "overlay",
             "size": 10,
             "solidity": 0.2
            },
            "type": "scatter"
           }
          ],
          "scatter3d": [
           {
            "line": {
             "colorbar": {
              "outlinewidth": 0,
              "ticks": ""
             }
            },
            "marker": {
             "colorbar": {
              "outlinewidth": 0,
              "ticks": ""
             }
            },
            "type": "scatter3d"
           }
          ],
          "scattercarpet": [
           {
            "marker": {
             "colorbar": {
              "outlinewidth": 0,
              "ticks": ""
             }
            },
            "type": "scattercarpet"
           }
          ],
          "scattergeo": [
           {
            "marker": {
             "colorbar": {
              "outlinewidth": 0,
              "ticks": ""
             }
            },
            "type": "scattergeo"
           }
          ],
          "scattergl": [
           {
            "marker": {
             "colorbar": {
              "outlinewidth": 0,
              "ticks": ""
             }
            },
            "type": "scattergl"
           }
          ],
          "scattermapbox": [
           {
            "marker": {
             "colorbar": {
              "outlinewidth": 0,
              "ticks": ""
             }
            },
            "type": "scattermapbox"
           }
          ],
          "scatterpolar": [
           {
            "marker": {
             "colorbar": {
              "outlinewidth": 0,
              "ticks": ""
             }
            },
            "type": "scatterpolar"
           }
          ],
          "scatterpolargl": [
           {
            "marker": {
             "colorbar": {
              "outlinewidth": 0,
              "ticks": ""
             }
            },
            "type": "scatterpolargl"
           }
          ],
          "scatterternary": [
           {
            "marker": {
             "colorbar": {
              "outlinewidth": 0,
              "ticks": ""
             }
            },
            "type": "scatterternary"
           }
          ],
          "surface": [
           {
            "colorbar": {
             "outlinewidth": 0,
             "ticks": ""
            },
            "colorscale": [
             [
              0,
              "#0d0887"
             ],
             [
              0.1111111111111111,
              "#46039f"
             ],
             [
              0.2222222222222222,
              "#7201a8"
             ],
             [
              0.3333333333333333,
              "#9c179e"
             ],
             [
              0.4444444444444444,
              "#bd3786"
             ],
             [
              0.5555555555555556,
              "#d8576b"
             ],
             [
              0.6666666666666666,
              "#ed7953"
             ],
             [
              0.7777777777777778,
              "#fb9f3a"
             ],
             [
              0.8888888888888888,
              "#fdca26"
             ],
             [
              1,
              "#f0f921"
             ]
            ],
            "type": "surface"
           }
          ],
          "table": [
           {
            "cells": {
             "fill": {
              "color": "#EBF0F8"
             },
             "line": {
              "color": "white"
             }
            },
            "header": {
             "fill": {
              "color": "#C8D4E3"
             },
             "line": {
              "color": "white"
             }
            },
            "type": "table"
           }
          ]
         },
         "layout": {
          "annotationdefaults": {
           "arrowcolor": "#2a3f5f",
           "arrowhead": 0,
           "arrowwidth": 1
          },
          "autotypenumbers": "strict",
          "coloraxis": {
           "colorbar": {
            "outlinewidth": 0,
            "ticks": ""
           }
          },
          "colorscale": {
           "diverging": [
            [
             0,
             "#8e0152"
            ],
            [
             0.1,
             "#c51b7d"
            ],
            [
             0.2,
             "#de77ae"
            ],
            [
             0.3,
             "#f1b6da"
            ],
            [
             0.4,
             "#fde0ef"
            ],
            [
             0.5,
             "#f7f7f7"
            ],
            [
             0.6,
             "#e6f5d0"
            ],
            [
             0.7,
             "#b8e186"
            ],
            [
             0.8,
             "#7fbc41"
            ],
            [
             0.9,
             "#4d9221"
            ],
            [
             1,
             "#276419"
            ]
           ],
           "sequential": [
            [
             0,
             "#0d0887"
            ],
            [
             0.1111111111111111,
             "#46039f"
            ],
            [
             0.2222222222222222,
             "#7201a8"
            ],
            [
             0.3333333333333333,
             "#9c179e"
            ],
            [
             0.4444444444444444,
             "#bd3786"
            ],
            [
             0.5555555555555556,
             "#d8576b"
            ],
            [
             0.6666666666666666,
             "#ed7953"
            ],
            [
             0.7777777777777778,
             "#fb9f3a"
            ],
            [
             0.8888888888888888,
             "#fdca26"
            ],
            [
             1,
             "#f0f921"
            ]
           ],
           "sequentialminus": [
            [
             0,
             "#0d0887"
            ],
            [
             0.1111111111111111,
             "#46039f"
            ],
            [
             0.2222222222222222,
             "#7201a8"
            ],
            [
             0.3333333333333333,
             "#9c179e"
            ],
            [
             0.4444444444444444,
             "#bd3786"
            ],
            [
             0.5555555555555556,
             "#d8576b"
            ],
            [
             0.6666666666666666,
             "#ed7953"
            ],
            [
             0.7777777777777778,
             "#fb9f3a"
            ],
            [
             0.8888888888888888,
             "#fdca26"
            ],
            [
             1,
             "#f0f921"
            ]
           ]
          },
          "colorway": [
           "#636efa",
           "#EF553B",
           "#00cc96",
           "#ab63fa",
           "#FFA15A",
           "#19d3f3",
           "#FF6692",
           "#B6E880",
           "#FF97FF",
           "#FECB52"
          ],
          "font": {
           "color": "#2a3f5f"
          },
          "geo": {
           "bgcolor": "white",
           "lakecolor": "white",
           "landcolor": "#E5ECF6",
           "showlakes": true,
           "showland": true,
           "subunitcolor": "white"
          },
          "hoverlabel": {
           "align": "left"
          },
          "hovermode": "closest",
          "mapbox": {
           "style": "light"
          },
          "paper_bgcolor": "white",
          "plot_bgcolor": "#E5ECF6",
          "polar": {
           "angularaxis": {
            "gridcolor": "white",
            "linecolor": "white",
            "ticks": ""
           },
           "bgcolor": "#E5ECF6",
           "radialaxis": {
            "gridcolor": "white",
            "linecolor": "white",
            "ticks": ""
           }
          },
          "scene": {
           "xaxis": {
            "backgroundcolor": "#E5ECF6",
            "gridcolor": "white",
            "gridwidth": 2,
            "linecolor": "white",
            "showbackground": true,
            "ticks": "",
            "zerolinecolor": "white"
           },
           "yaxis": {
            "backgroundcolor": "#E5ECF6",
            "gridcolor": "white",
            "gridwidth": 2,
            "linecolor": "white",
            "showbackground": true,
            "ticks": "",
            "zerolinecolor": "white"
           },
           "zaxis": {
            "backgroundcolor": "#E5ECF6",
            "gridcolor": "white",
            "gridwidth": 2,
            "linecolor": "white",
            "showbackground": true,
            "ticks": "",
            "zerolinecolor": "white"
           }
          },
          "shapedefaults": {
           "line": {
            "color": "#2a3f5f"
           }
          },
          "ternary": {
           "aaxis": {
            "gridcolor": "white",
            "linecolor": "white",
            "ticks": ""
           },
           "baxis": {
            "gridcolor": "white",
            "linecolor": "white",
            "ticks": ""
           },
           "bgcolor": "#E5ECF6",
           "caxis": {
            "gridcolor": "white",
            "linecolor": "white",
            "ticks": ""
           }
          },
          "title": {
           "x": 0.05
          },
          "xaxis": {
           "automargin": true,
           "gridcolor": "white",
           "linecolor": "white",
           "ticks": "",
           "title": {
            "standoff": 15
           },
           "zerolinecolor": "white",
           "zerolinewidth": 2
          },
          "yaxis": {
           "automargin": true,
           "gridcolor": "white",
           "linecolor": "white",
           "ticks": "",
           "title": {
            "standoff": 15
           },
           "zerolinecolor": "white",
           "zerolinewidth": 2
          }
         }
        },
        "title": {
         "text": "Distribucion de Restaurantes con Generador Electrico"
        }
       }
      }
     },
     "metadata": {},
     "output_type": "display_data"
    }
   ],
   "source": [
    "#Grafico Pastel donde se muestra el porciento de restaurantes de la Habana que poseen P\n",
    "total_restaurantes = len(data2)\n",
    "total_plantas = data2[\"electric generator\"].sum()\n",
    "porciento_restaurantes_planta = round(bp.c_porciento(total_plantas, total_restaurantes),2)\n",
    "porciento_restaurantes_sin_planta = round(100 - porciento_restaurantes_planta, 2)\n",
    "print (porciento_restaurantes_sin_planta)\n",
    "\n",
    "fig = px.pie ( names=(\"Con Generador\", \"Sin Generador\"), \n",
    "              values=(porciento_restaurantes_planta, porciento_restaurantes_sin_planta),\n",
    "              title= \"Distribucion de Restaurantes con Generador Electrico\"\n",
    "\n",
    ")\n",
    "fig.show()\n"
   ]
  },
  {
   "cell_type": "markdown",
   "metadata": {},
   "source": [
    "En el año 2024, La Habana experimentó un aumento significativo en la inversión en hoteles y restaurantes según la Oficina Nacional de Estadística e Información (ONEI) de la Republica  de Cuba, la inversión en este sector aumentoó en un 112% anual, no es secreto para nadie porque se puede ver a simple vista que cada vez más en la Ciudad de La Habana, se inaguran nuevos establecimientos gastronómicos ya sean cafés o restaurantes, tanto privadas como estales, aumentando así la competencia entre los diferentes locales"
   ]
  },
  {
   "cell_type": "markdown",
   "metadata": {},
   "source": []
  },
  {
   "cell_type": "markdown",
   "metadata": {},
   "source": [
    "Después de leer esas cifras Alejandro preocupado decidió investigar en que municipio de La Habana los restaurantes tenían peor reseña en Google para asi determinar donde le convendria rentar el local, pensando que montar su negocio en un lugar donde la calificacion de los restaurantes no fuera la mejor, tendría menos competencia y llamaría la atención de los pobladores."
   ]
  },
  {
   "cell_type": "code",
   "execution_count": 8,
   "metadata": {},
   "outputs": [
    {
     "data": {
      "application/vnd.plotly.v1+json": {
       "config": {
        "plotlyServerURL": "https://plot.ly"
       },
       "data": [
        {
         "cells": {
          "align": "left",
          "fill": {
           "color": "lavender"
          },
          "values": [
           [
            "regla",
            "arroyo naranjo",
            "marianao",
            "habana vieja",
            "guanabacoa",
            "centro habana",
            "playa",
            "cotorro",
            "plaza de la revolucion",
            "10 de octubre",
            "habana del este",
            "cerro",
            "boyeros",
            "la lisa",
            "san miguel del padron"
           ],
           [
            4.93,
            4.61,
            4.52,
            4.51,
            4.45,
            4.36,
            4.32,
            4.28,
            4.26,
            4.14,
            4.14,
            3.94,
            3.7,
            3.6,
            3.25
           ]
          ]
         },
         "header": {
          "align": "left",
          "fill": {
           "color": "pink"
          },
          "values": [
           "municipio",
           "calificacion promedio"
          ]
         },
         "type": "table"
        }
       ],
       "layout": {
        "template": {
         "data": {
          "bar": [
           {
            "error_x": {
             "color": "#2a3f5f"
            },
            "error_y": {
             "color": "#2a3f5f"
            },
            "marker": {
             "line": {
              "color": "#E5ECF6",
              "width": 0.5
             },
             "pattern": {
              "fillmode": "overlay",
              "size": 10,
              "solidity": 0.2
             }
            },
            "type": "bar"
           }
          ],
          "barpolar": [
           {
            "marker": {
             "line": {
              "color": "#E5ECF6",
              "width": 0.5
             },
             "pattern": {
              "fillmode": "overlay",
              "size": 10,
              "solidity": 0.2
             }
            },
            "type": "barpolar"
           }
          ],
          "carpet": [
           {
            "aaxis": {
             "endlinecolor": "#2a3f5f",
             "gridcolor": "white",
             "linecolor": "white",
             "minorgridcolor": "white",
             "startlinecolor": "#2a3f5f"
            },
            "baxis": {
             "endlinecolor": "#2a3f5f",
             "gridcolor": "white",
             "linecolor": "white",
             "minorgridcolor": "white",
             "startlinecolor": "#2a3f5f"
            },
            "type": "carpet"
           }
          ],
          "choropleth": [
           {
            "colorbar": {
             "outlinewidth": 0,
             "ticks": ""
            },
            "type": "choropleth"
           }
          ],
          "contour": [
           {
            "colorbar": {
             "outlinewidth": 0,
             "ticks": ""
            },
            "colorscale": [
             [
              0,
              "#0d0887"
             ],
             [
              0.1111111111111111,
              "#46039f"
             ],
             [
              0.2222222222222222,
              "#7201a8"
             ],
             [
              0.3333333333333333,
              "#9c179e"
             ],
             [
              0.4444444444444444,
              "#bd3786"
             ],
             [
              0.5555555555555556,
              "#d8576b"
             ],
             [
              0.6666666666666666,
              "#ed7953"
             ],
             [
              0.7777777777777778,
              "#fb9f3a"
             ],
             [
              0.8888888888888888,
              "#fdca26"
             ],
             [
              1,
              "#f0f921"
             ]
            ],
            "type": "contour"
           }
          ],
          "contourcarpet": [
           {
            "colorbar": {
             "outlinewidth": 0,
             "ticks": ""
            },
            "type": "contourcarpet"
           }
          ],
          "heatmap": [
           {
            "colorbar": {
             "outlinewidth": 0,
             "ticks": ""
            },
            "colorscale": [
             [
              0,
              "#0d0887"
             ],
             [
              0.1111111111111111,
              "#46039f"
             ],
             [
              0.2222222222222222,
              "#7201a8"
             ],
             [
              0.3333333333333333,
              "#9c179e"
             ],
             [
              0.4444444444444444,
              "#bd3786"
             ],
             [
              0.5555555555555556,
              "#d8576b"
             ],
             [
              0.6666666666666666,
              "#ed7953"
             ],
             [
              0.7777777777777778,
              "#fb9f3a"
             ],
             [
              0.8888888888888888,
              "#fdca26"
             ],
             [
              1,
              "#f0f921"
             ]
            ],
            "type": "heatmap"
           }
          ],
          "heatmapgl": [
           {
            "colorbar": {
             "outlinewidth": 0,
             "ticks": ""
            },
            "colorscale": [
             [
              0,
              "#0d0887"
             ],
             [
              0.1111111111111111,
              "#46039f"
             ],
             [
              0.2222222222222222,
              "#7201a8"
             ],
             [
              0.3333333333333333,
              "#9c179e"
             ],
             [
              0.4444444444444444,
              "#bd3786"
             ],
             [
              0.5555555555555556,
              "#d8576b"
             ],
             [
              0.6666666666666666,
              "#ed7953"
             ],
             [
              0.7777777777777778,
              "#fb9f3a"
             ],
             [
              0.8888888888888888,
              "#fdca26"
             ],
             [
              1,
              "#f0f921"
             ]
            ],
            "type": "heatmapgl"
           }
          ],
          "histogram": [
           {
            "marker": {
             "pattern": {
              "fillmode": "overlay",
              "size": 10,
              "solidity": 0.2
             }
            },
            "type": "histogram"
           }
          ],
          "histogram2d": [
           {
            "colorbar": {
             "outlinewidth": 0,
             "ticks": ""
            },
            "colorscale": [
             [
              0,
              "#0d0887"
             ],
             [
              0.1111111111111111,
              "#46039f"
             ],
             [
              0.2222222222222222,
              "#7201a8"
             ],
             [
              0.3333333333333333,
              "#9c179e"
             ],
             [
              0.4444444444444444,
              "#bd3786"
             ],
             [
              0.5555555555555556,
              "#d8576b"
             ],
             [
              0.6666666666666666,
              "#ed7953"
             ],
             [
              0.7777777777777778,
              "#fb9f3a"
             ],
             [
              0.8888888888888888,
              "#fdca26"
             ],
             [
              1,
              "#f0f921"
             ]
            ],
            "type": "histogram2d"
           }
          ],
          "histogram2dcontour": [
           {
            "colorbar": {
             "outlinewidth": 0,
             "ticks": ""
            },
            "colorscale": [
             [
              0,
              "#0d0887"
             ],
             [
              0.1111111111111111,
              "#46039f"
             ],
             [
              0.2222222222222222,
              "#7201a8"
             ],
             [
              0.3333333333333333,
              "#9c179e"
             ],
             [
              0.4444444444444444,
              "#bd3786"
             ],
             [
              0.5555555555555556,
              "#d8576b"
             ],
             [
              0.6666666666666666,
              "#ed7953"
             ],
             [
              0.7777777777777778,
              "#fb9f3a"
             ],
             [
              0.8888888888888888,
              "#fdca26"
             ],
             [
              1,
              "#f0f921"
             ]
            ],
            "type": "histogram2dcontour"
           }
          ],
          "mesh3d": [
           {
            "colorbar": {
             "outlinewidth": 0,
             "ticks": ""
            },
            "type": "mesh3d"
           }
          ],
          "parcoords": [
           {
            "line": {
             "colorbar": {
              "outlinewidth": 0,
              "ticks": ""
             }
            },
            "type": "parcoords"
           }
          ],
          "pie": [
           {
            "automargin": true,
            "type": "pie"
           }
          ],
          "scatter": [
           {
            "fillpattern": {
             "fillmode": "overlay",
             "size": 10,
             "solidity": 0.2
            },
            "type": "scatter"
           }
          ],
          "scatter3d": [
           {
            "line": {
             "colorbar": {
              "outlinewidth": 0,
              "ticks": ""
             }
            },
            "marker": {
             "colorbar": {
              "outlinewidth": 0,
              "ticks": ""
             }
            },
            "type": "scatter3d"
           }
          ],
          "scattercarpet": [
           {
            "marker": {
             "colorbar": {
              "outlinewidth": 0,
              "ticks": ""
             }
            },
            "type": "scattercarpet"
           }
          ],
          "scattergeo": [
           {
            "marker": {
             "colorbar": {
              "outlinewidth": 0,
              "ticks": ""
             }
            },
            "type": "scattergeo"
           }
          ],
          "scattergl": [
           {
            "marker": {
             "colorbar": {
              "outlinewidth": 0,
              "ticks": ""
             }
            },
            "type": "scattergl"
           }
          ],
          "scattermapbox": [
           {
            "marker": {
             "colorbar": {
              "outlinewidth": 0,
              "ticks": ""
             }
            },
            "type": "scattermapbox"
           }
          ],
          "scatterpolar": [
           {
            "marker": {
             "colorbar": {
              "outlinewidth": 0,
              "ticks": ""
             }
            },
            "type": "scatterpolar"
           }
          ],
          "scatterpolargl": [
           {
            "marker": {
             "colorbar": {
              "outlinewidth": 0,
              "ticks": ""
             }
            },
            "type": "scatterpolargl"
           }
          ],
          "scatterternary": [
           {
            "marker": {
             "colorbar": {
              "outlinewidth": 0,
              "ticks": ""
             }
            },
            "type": "scatterternary"
           }
          ],
          "surface": [
           {
            "colorbar": {
             "outlinewidth": 0,
             "ticks": ""
            },
            "colorscale": [
             [
              0,
              "#0d0887"
             ],
             [
              0.1111111111111111,
              "#46039f"
             ],
             [
              0.2222222222222222,
              "#7201a8"
             ],
             [
              0.3333333333333333,
              "#9c179e"
             ],
             [
              0.4444444444444444,
              "#bd3786"
             ],
             [
              0.5555555555555556,
              "#d8576b"
             ],
             [
              0.6666666666666666,
              "#ed7953"
             ],
             [
              0.7777777777777778,
              "#fb9f3a"
             ],
             [
              0.8888888888888888,
              "#fdca26"
             ],
             [
              1,
              "#f0f921"
             ]
            ],
            "type": "surface"
           }
          ],
          "table": [
           {
            "cells": {
             "fill": {
              "color": "#EBF0F8"
             },
             "line": {
              "color": "white"
             }
            },
            "header": {
             "fill": {
              "color": "#C8D4E3"
             },
             "line": {
              "color": "white"
             }
            },
            "type": "table"
           }
          ]
         },
         "layout": {
          "annotationdefaults": {
           "arrowcolor": "#2a3f5f",
           "arrowhead": 0,
           "arrowwidth": 1
          },
          "autotypenumbers": "strict",
          "coloraxis": {
           "colorbar": {
            "outlinewidth": 0,
            "ticks": ""
           }
          },
          "colorscale": {
           "diverging": [
            [
             0,
             "#8e0152"
            ],
            [
             0.1,
             "#c51b7d"
            ],
            [
             0.2,
             "#de77ae"
            ],
            [
             0.3,
             "#f1b6da"
            ],
            [
             0.4,
             "#fde0ef"
            ],
            [
             0.5,
             "#f7f7f7"
            ],
            [
             0.6,
             "#e6f5d0"
            ],
            [
             0.7,
             "#b8e186"
            ],
            [
             0.8,
             "#7fbc41"
            ],
            [
             0.9,
             "#4d9221"
            ],
            [
             1,
             "#276419"
            ]
           ],
           "sequential": [
            [
             0,
             "#0d0887"
            ],
            [
             0.1111111111111111,
             "#46039f"
            ],
            [
             0.2222222222222222,
             "#7201a8"
            ],
            [
             0.3333333333333333,
             "#9c179e"
            ],
            [
             0.4444444444444444,
             "#bd3786"
            ],
            [
             0.5555555555555556,
             "#d8576b"
            ],
            [
             0.6666666666666666,
             "#ed7953"
            ],
            [
             0.7777777777777778,
             "#fb9f3a"
            ],
            [
             0.8888888888888888,
             "#fdca26"
            ],
            [
             1,
             "#f0f921"
            ]
           ],
           "sequentialminus": [
            [
             0,
             "#0d0887"
            ],
            [
             0.1111111111111111,
             "#46039f"
            ],
            [
             0.2222222222222222,
             "#7201a8"
            ],
            [
             0.3333333333333333,
             "#9c179e"
            ],
            [
             0.4444444444444444,
             "#bd3786"
            ],
            [
             0.5555555555555556,
             "#d8576b"
            ],
            [
             0.6666666666666666,
             "#ed7953"
            ],
            [
             0.7777777777777778,
             "#fb9f3a"
            ],
            [
             0.8888888888888888,
             "#fdca26"
            ],
            [
             1,
             "#f0f921"
            ]
           ]
          },
          "colorway": [
           "#636efa",
           "#EF553B",
           "#00cc96",
           "#ab63fa",
           "#FFA15A",
           "#19d3f3",
           "#FF6692",
           "#B6E880",
           "#FF97FF",
           "#FECB52"
          ],
          "font": {
           "color": "#2a3f5f"
          },
          "geo": {
           "bgcolor": "white",
           "lakecolor": "white",
           "landcolor": "#E5ECF6",
           "showlakes": true,
           "showland": true,
           "subunitcolor": "white"
          },
          "hoverlabel": {
           "align": "left"
          },
          "hovermode": "closest",
          "mapbox": {
           "style": "light"
          },
          "paper_bgcolor": "white",
          "plot_bgcolor": "#E5ECF6",
          "polar": {
           "angularaxis": {
            "gridcolor": "white",
            "linecolor": "white",
            "ticks": ""
           },
           "bgcolor": "#E5ECF6",
           "radialaxis": {
            "gridcolor": "white",
            "linecolor": "white",
            "ticks": ""
           }
          },
          "scene": {
           "xaxis": {
            "backgroundcolor": "#E5ECF6",
            "gridcolor": "white",
            "gridwidth": 2,
            "linecolor": "white",
            "showbackground": true,
            "ticks": "",
            "zerolinecolor": "white"
           },
           "yaxis": {
            "backgroundcolor": "#E5ECF6",
            "gridcolor": "white",
            "gridwidth": 2,
            "linecolor": "white",
            "showbackground": true,
            "ticks": "",
            "zerolinecolor": "white"
           },
           "zaxis": {
            "backgroundcolor": "#E5ECF6",
            "gridcolor": "white",
            "gridwidth": 2,
            "linecolor": "white",
            "showbackground": true,
            "ticks": "",
            "zerolinecolor": "white"
           }
          },
          "shapedefaults": {
           "line": {
            "color": "#2a3f5f"
           }
          },
          "ternary": {
           "aaxis": {
            "gridcolor": "white",
            "linecolor": "white",
            "ticks": ""
           },
           "baxis": {
            "gridcolor": "white",
            "linecolor": "white",
            "ticks": ""
           },
           "bgcolor": "#E5ECF6",
           "caxis": {
            "gridcolor": "white",
            "linecolor": "white",
            "ticks": ""
           }
          },
          "title": {
           "x": 0.05
          },
          "xaxis": {
           "automargin": true,
           "gridcolor": "white",
           "linecolor": "white",
           "ticks": "",
           "title": {
            "standoff": 15
           },
           "zerolinecolor": "white",
           "zerolinewidth": 2
          },
          "yaxis": {
           "automargin": true,
           "gridcolor": "white",
           "linecolor": "white",
           "ticks": "",
           "title": {
            "standoff": 15
           },
           "zerolinecolor": "white",
           "zerolinewidth": 2
          }
         }
        },
        "title": {
         "text": "Calificacion Promedio de Restaurantes por Municipio segun Google"
        }
       }
      }
     },
     "metadata": {},
     "output_type": "display_data"
    }
   ],
   "source": [
    "#Tabla donde da la clasificacion promedio de los restaurantes por municipio :)\n",
    "data2[\"location.municipe\"] = data2[\"location.municipe\"].str.strip().str.lower()\n",
    "\n",
    "calificacion_promedio_por_municipio = data2.groupby(\"location.municipe\")[\"qualification\"].mean().round(2)\n",
    "tabla_calificaciones = calificacion_promedio_por_municipio.reset_index()\n",
    "tabla_calificaciones.columns = [\"municipio\", \"calificacion promedio\"]\n",
    "tabla_calificaciones = tabla_calificaciones.sort_values(by=\"calificacion promedio\", ascending=False)\n",
    "\n",
    "fig = go.Figure(data=[go.Table(\n",
    "    header=dict(values=list(tabla_calificaciones.columns),\n",
    "                fill_color=\"pink\",\n",
    "                align=\"left\"),\n",
    "    cells=dict(values=[tabla_calificaciones.municipio, tabla_calificaciones[\"calificacion promedio\"]],\n",
    "               fill_color=\"lavender\",\n",
    "               align=\"left\"))\n",
    "])\n",
    "\n",
    "fig.update_layout(title=\"Calificacion Promedio de Restaurantes por Municipio segun Google\")\n",
    "fig.show()"
   ]
  },
  {
   "cell_type": "markdown",
   "metadata": {},
   "source": [
    "Alejandro, ayer me llamó tu primo para saber como estaba y le comenté lo que estabamos planeando\n",
    "\n",
    "-Mami!! las cosas que se cuentan nunca salen\n",
    "\n",
    "Hay chico tú no crees que si todo sale bien le podamos ofrecer un trabajito, él ahora se compró una moto eléctrica y pudiera hacer la mensajería del restaurante y esta sería otra entrada de ganacias además el dinero se queda en la familia\n",
    "\n",
    "-Bueno dejame calcular que tan común es tener el servicio de delivery en el municipio donde voy a montar el local no vaya a ser que no sea algo rentable y tenga más pérdida que ganancia\n"
   ]
  },
  {
   "cell_type": "code",
   "execution_count": 9,
   "metadata": {},
   "outputs": [
    {
     "data": {
      "application/vnd.plotly.v1+json": {
       "config": {
        "plotlyServerURL": "https://plot.ly"
       },
       "data": [
        {
         "domain": {
          "x": [
           0,
           1
          ],
          "y": [
           0,
           1
          ]
         },
         "hovertemplate": "label=%{label}<br>value=%{value}<extra></extra>",
         "labels": [
          "10 de octubre",
          "arroyo naranjo",
          "boyeros",
          "centro habana",
          "cerro",
          "cotorro",
          "guanabacoa",
          "habana del este",
          "habana vieja",
          "la lisa",
          "marianao",
          "playa",
          "plaza de la revolucion",
          "regla",
          "san miguel del padron"
         ],
         "legendgroup": "",
         "name": "",
         "showlegend": true,
         "textinfo": "percent+label",
         "type": "pie",
         "values": [
          20.224719101123593,
          2.247191011235955,
          7.865168539325842,
          7.865168539325842,
          5.617977528089887,
          5.617977528089887,
          4.49438202247191,
          5.617977528089887,
          13.48314606741573,
          3.3707865168539324,
          2.247191011235955,
          4.49438202247191,
          11.235955056179774,
          1.1235955056179776,
          4.49438202247191
         ]
        }
       ],
       "layout": {
        "legend": {
         "tracegroupgap": 0
        },
        "template": {
         "data": {
          "bar": [
           {
            "error_x": {
             "color": "#2a3f5f"
            },
            "error_y": {
             "color": "#2a3f5f"
            },
            "marker": {
             "line": {
              "color": "#E5ECF6",
              "width": 0.5
             },
             "pattern": {
              "fillmode": "overlay",
              "size": 10,
              "solidity": 0.2
             }
            },
            "type": "bar"
           }
          ],
          "barpolar": [
           {
            "marker": {
             "line": {
              "color": "#E5ECF6",
              "width": 0.5
             },
             "pattern": {
              "fillmode": "overlay",
              "size": 10,
              "solidity": 0.2
             }
            },
            "type": "barpolar"
           }
          ],
          "carpet": [
           {
            "aaxis": {
             "endlinecolor": "#2a3f5f",
             "gridcolor": "white",
             "linecolor": "white",
             "minorgridcolor": "white",
             "startlinecolor": "#2a3f5f"
            },
            "baxis": {
             "endlinecolor": "#2a3f5f",
             "gridcolor": "white",
             "linecolor": "white",
             "minorgridcolor": "white",
             "startlinecolor": "#2a3f5f"
            },
            "type": "carpet"
           }
          ],
          "choropleth": [
           {
            "colorbar": {
             "outlinewidth": 0,
             "ticks": ""
            },
            "type": "choropleth"
           }
          ],
          "contour": [
           {
            "colorbar": {
             "outlinewidth": 0,
             "ticks": ""
            },
            "colorscale": [
             [
              0,
              "#0d0887"
             ],
             [
              0.1111111111111111,
              "#46039f"
             ],
             [
              0.2222222222222222,
              "#7201a8"
             ],
             [
              0.3333333333333333,
              "#9c179e"
             ],
             [
              0.4444444444444444,
              "#bd3786"
             ],
             [
              0.5555555555555556,
              "#d8576b"
             ],
             [
              0.6666666666666666,
              "#ed7953"
             ],
             [
              0.7777777777777778,
              "#fb9f3a"
             ],
             [
              0.8888888888888888,
              "#fdca26"
             ],
             [
              1,
              "#f0f921"
             ]
            ],
            "type": "contour"
           }
          ],
          "contourcarpet": [
           {
            "colorbar": {
             "outlinewidth": 0,
             "ticks": ""
            },
            "type": "contourcarpet"
           }
          ],
          "heatmap": [
           {
            "colorbar": {
             "outlinewidth": 0,
             "ticks": ""
            },
            "colorscale": [
             [
              0,
              "#0d0887"
             ],
             [
              0.1111111111111111,
              "#46039f"
             ],
             [
              0.2222222222222222,
              "#7201a8"
             ],
             [
              0.3333333333333333,
              "#9c179e"
             ],
             [
              0.4444444444444444,
              "#bd3786"
             ],
             [
              0.5555555555555556,
              "#d8576b"
             ],
             [
              0.6666666666666666,
              "#ed7953"
             ],
             [
              0.7777777777777778,
              "#fb9f3a"
             ],
             [
              0.8888888888888888,
              "#fdca26"
             ],
             [
              1,
              "#f0f921"
             ]
            ],
            "type": "heatmap"
           }
          ],
          "heatmapgl": [
           {
            "colorbar": {
             "outlinewidth": 0,
             "ticks": ""
            },
            "colorscale": [
             [
              0,
              "#0d0887"
             ],
             [
              0.1111111111111111,
              "#46039f"
             ],
             [
              0.2222222222222222,
              "#7201a8"
             ],
             [
              0.3333333333333333,
              "#9c179e"
             ],
             [
              0.4444444444444444,
              "#bd3786"
             ],
             [
              0.5555555555555556,
              "#d8576b"
             ],
             [
              0.6666666666666666,
              "#ed7953"
             ],
             [
              0.7777777777777778,
              "#fb9f3a"
             ],
             [
              0.8888888888888888,
              "#fdca26"
             ],
             [
              1,
              "#f0f921"
             ]
            ],
            "type": "heatmapgl"
           }
          ],
          "histogram": [
           {
            "marker": {
             "pattern": {
              "fillmode": "overlay",
              "size": 10,
              "solidity": 0.2
             }
            },
            "type": "histogram"
           }
          ],
          "histogram2d": [
           {
            "colorbar": {
             "outlinewidth": 0,
             "ticks": ""
            },
            "colorscale": [
             [
              0,
              "#0d0887"
             ],
             [
              0.1111111111111111,
              "#46039f"
             ],
             [
              0.2222222222222222,
              "#7201a8"
             ],
             [
              0.3333333333333333,
              "#9c179e"
             ],
             [
              0.4444444444444444,
              "#bd3786"
             ],
             [
              0.5555555555555556,
              "#d8576b"
             ],
             [
              0.6666666666666666,
              "#ed7953"
             ],
             [
              0.7777777777777778,
              "#fb9f3a"
             ],
             [
              0.8888888888888888,
              "#fdca26"
             ],
             [
              1,
              "#f0f921"
             ]
            ],
            "type": "histogram2d"
           }
          ],
          "histogram2dcontour": [
           {
            "colorbar": {
             "outlinewidth": 0,
             "ticks": ""
            },
            "colorscale": [
             [
              0,
              "#0d0887"
             ],
             [
              0.1111111111111111,
              "#46039f"
             ],
             [
              0.2222222222222222,
              "#7201a8"
             ],
             [
              0.3333333333333333,
              "#9c179e"
             ],
             [
              0.4444444444444444,
              "#bd3786"
             ],
             [
              0.5555555555555556,
              "#d8576b"
             ],
             [
              0.6666666666666666,
              "#ed7953"
             ],
             [
              0.7777777777777778,
              "#fb9f3a"
             ],
             [
              0.8888888888888888,
              "#fdca26"
             ],
             [
              1,
              "#f0f921"
             ]
            ],
            "type": "histogram2dcontour"
           }
          ],
          "mesh3d": [
           {
            "colorbar": {
             "outlinewidth": 0,
             "ticks": ""
            },
            "type": "mesh3d"
           }
          ],
          "parcoords": [
           {
            "line": {
             "colorbar": {
              "outlinewidth": 0,
              "ticks": ""
             }
            },
            "type": "parcoords"
           }
          ],
          "pie": [
           {
            "automargin": true,
            "type": "pie"
           }
          ],
          "scatter": [
           {
            "fillpattern": {
             "fillmode": "overlay",
             "size": 10,
             "solidity": 0.2
            },
            "type": "scatter"
           }
          ],
          "scatter3d": [
           {
            "line": {
             "colorbar": {
              "outlinewidth": 0,
              "ticks": ""
             }
            },
            "marker": {
             "colorbar": {
              "outlinewidth": 0,
              "ticks": ""
             }
            },
            "type": "scatter3d"
           }
          ],
          "scattercarpet": [
           {
            "marker": {
             "colorbar": {
              "outlinewidth": 0,
              "ticks": ""
             }
            },
            "type": "scattercarpet"
           }
          ],
          "scattergeo": [
           {
            "marker": {
             "colorbar": {
              "outlinewidth": 0,
              "ticks": ""
             }
            },
            "type": "scattergeo"
           }
          ],
          "scattergl": [
           {
            "marker": {
             "colorbar": {
              "outlinewidth": 0,
              "ticks": ""
             }
            },
            "type": "scattergl"
           }
          ],
          "scattermapbox": [
           {
            "marker": {
             "colorbar": {
              "outlinewidth": 0,
              "ticks": ""
             }
            },
            "type": "scattermapbox"
           }
          ],
          "scatterpolar": [
           {
            "marker": {
             "colorbar": {
              "outlinewidth": 0,
              "ticks": ""
             }
            },
            "type": "scatterpolar"
           }
          ],
          "scatterpolargl": [
           {
            "marker": {
             "colorbar": {
              "outlinewidth": 0,
              "ticks": ""
             }
            },
            "type": "scatterpolargl"
           }
          ],
          "scatterternary": [
           {
            "marker": {
             "colorbar": {
              "outlinewidth": 0,
              "ticks": ""
             }
            },
            "type": "scatterternary"
           }
          ],
          "surface": [
           {
            "colorbar": {
             "outlinewidth": 0,
             "ticks": ""
            },
            "colorscale": [
             [
              0,
              "#0d0887"
             ],
             [
              0.1111111111111111,
              "#46039f"
             ],
             [
              0.2222222222222222,
              "#7201a8"
             ],
             [
              0.3333333333333333,
              "#9c179e"
             ],
             [
              0.4444444444444444,
              "#bd3786"
             ],
             [
              0.5555555555555556,
              "#d8576b"
             ],
             [
              0.6666666666666666,
              "#ed7953"
             ],
             [
              0.7777777777777778,
              "#fb9f3a"
             ],
             [
              0.8888888888888888,
              "#fdca26"
             ],
             [
              1,
              "#f0f921"
             ]
            ],
            "type": "surface"
           }
          ],
          "table": [
           {
            "cells": {
             "fill": {
              "color": "#EBF0F8"
             },
             "line": {
              "color": "white"
             }
            },
            "header": {
             "fill": {
              "color": "#C8D4E3"
             },
             "line": {
              "color": "white"
             }
            },
            "type": "table"
           }
          ]
         },
         "layout": {
          "annotationdefaults": {
           "arrowcolor": "#2a3f5f",
           "arrowhead": 0,
           "arrowwidth": 1
          },
          "autotypenumbers": "strict",
          "coloraxis": {
           "colorbar": {
            "outlinewidth": 0,
            "ticks": ""
           }
          },
          "colorscale": {
           "diverging": [
            [
             0,
             "#8e0152"
            ],
            [
             0.1,
             "#c51b7d"
            ],
            [
             0.2,
             "#de77ae"
            ],
            [
             0.3,
             "#f1b6da"
            ],
            [
             0.4,
             "#fde0ef"
            ],
            [
             0.5,
             "#f7f7f7"
            ],
            [
             0.6,
             "#e6f5d0"
            ],
            [
             0.7,
             "#b8e186"
            ],
            [
             0.8,
             "#7fbc41"
            ],
            [
             0.9,
             "#4d9221"
            ],
            [
             1,
             "#276419"
            ]
           ],
           "sequential": [
            [
             0,
             "#0d0887"
            ],
            [
             0.1111111111111111,
             "#46039f"
            ],
            [
             0.2222222222222222,
             "#7201a8"
            ],
            [
             0.3333333333333333,
             "#9c179e"
            ],
            [
             0.4444444444444444,
             "#bd3786"
            ],
            [
             0.5555555555555556,
             "#d8576b"
            ],
            [
             0.6666666666666666,
             "#ed7953"
            ],
            [
             0.7777777777777778,
             "#fb9f3a"
            ],
            [
             0.8888888888888888,
             "#fdca26"
            ],
            [
             1,
             "#f0f921"
            ]
           ],
           "sequentialminus": [
            [
             0,
             "#0d0887"
            ],
            [
             0.1111111111111111,
             "#46039f"
            ],
            [
             0.2222222222222222,
             "#7201a8"
            ],
            [
             0.3333333333333333,
             "#9c179e"
            ],
            [
             0.4444444444444444,
             "#bd3786"
            ],
            [
             0.5555555555555556,
             "#d8576b"
            ],
            [
             0.6666666666666666,
             "#ed7953"
            ],
            [
             0.7777777777777778,
             "#fb9f3a"
            ],
            [
             0.8888888888888888,
             "#fdca26"
            ],
            [
             1,
             "#f0f921"
            ]
           ]
          },
          "colorway": [
           "#636efa",
           "#EF553B",
           "#00cc96",
           "#ab63fa",
           "#FFA15A",
           "#19d3f3",
           "#FF6692",
           "#B6E880",
           "#FF97FF",
           "#FECB52"
          ],
          "font": {
           "color": "#2a3f5f"
          },
          "geo": {
           "bgcolor": "white",
           "lakecolor": "white",
           "landcolor": "#E5ECF6",
           "showlakes": true,
           "showland": true,
           "subunitcolor": "white"
          },
          "hoverlabel": {
           "align": "left"
          },
          "hovermode": "closest",
          "mapbox": {
           "style": "light"
          },
          "paper_bgcolor": "white",
          "plot_bgcolor": "#E5ECF6",
          "polar": {
           "angularaxis": {
            "gridcolor": "white",
            "linecolor": "white",
            "ticks": ""
           },
           "bgcolor": "#E5ECF6",
           "radialaxis": {
            "gridcolor": "white",
            "linecolor": "white",
            "ticks": ""
           }
          },
          "scene": {
           "xaxis": {
            "backgroundcolor": "#E5ECF6",
            "gridcolor": "white",
            "gridwidth": 2,
            "linecolor": "white",
            "showbackground": true,
            "ticks": "",
            "zerolinecolor": "white"
           },
           "yaxis": {
            "backgroundcolor": "#E5ECF6",
            "gridcolor": "white",
            "gridwidth": 2,
            "linecolor": "white",
            "showbackground": true,
            "ticks": "",
            "zerolinecolor": "white"
           },
           "zaxis": {
            "backgroundcolor": "#E5ECF6",
            "gridcolor": "white",
            "gridwidth": 2,
            "linecolor": "white",
            "showbackground": true,
            "ticks": "",
            "zerolinecolor": "white"
           }
          },
          "shapedefaults": {
           "line": {
            "color": "#2a3f5f"
           }
          },
          "ternary": {
           "aaxis": {
            "gridcolor": "white",
            "linecolor": "white",
            "ticks": ""
           },
           "baxis": {
            "gridcolor": "white",
            "linecolor": "white",
            "ticks": ""
           },
           "bgcolor": "#E5ECF6",
           "caxis": {
            "gridcolor": "white",
            "linecolor": "white",
            "ticks": ""
           }
          },
          "title": {
           "x": 0.05
          },
          "xaxis": {
           "automargin": true,
           "gridcolor": "white",
           "linecolor": "white",
           "ticks": "",
           "title": {
            "standoff": 15
           },
           "zerolinecolor": "white",
           "zerolinewidth": 2
          },
          "yaxis": {
           "automargin": true,
           "gridcolor": "white",
           "linecolor": "white",
           "ticks": "",
           "title": {
            "standoff": 15
           },
           "zerolinecolor": "white",
           "zerolinewidth": 2
          }
         }
        },
        "title": {
         "text": "Porcentaje del Total de mensajeria por Municipio"
        }
       }
      }
     },
     "metadata": {},
     "output_type": "display_data"
    }
   ],
   "source": [
    "#Grafico de pastel sobre el porciento de mensajeria por municipio :)\n",
    "info_mensajeria = data2[data2[\"delivery\"].notna()]\n",
    "total_mensajeria = info_mensajeria[\"delivery\"].sum()\n",
    "mensajeria_por_municipio = info_mensajeria.groupby(\"location.municipe\")[\"delivery\"].sum()\n",
    "porciento_restaurantes_mensajeria = round(bp.c_porciento(mensajeria_por_municipio, total_mensajeria),2)\n",
    "\n",
    "mensajeria_info = []\n",
    "for i in porciento_restaurantes_mensajeria.index:\n",
    "    i = bp.i_nombre(i)\n",
    "    mensajeria_info.append(i)\n",
    "\n",
    "fig = px.pie(\n",
    "    names=porciento_restaurantes_mensajeria.index,\n",
    "    values=porciento_restaurantes_mensajeria.values,\n",
    "    title=\"Porcentaje del Total de mensajeria por Municipio\"\n",
    ")\n",
    "\n",
    "fig.update_traces(textinfo=\"percent+label\")\n",
    "fig.show()\n",
    "\n"
   ]
  },
  {
   "cell_type": "markdown",
   "metadata": {},
   "source": [
    "Tener un local que pueda rentar para la organización de eventos además de ser un restaurante puede ser una fuente luctrativa de ingresos por ello Alejandro antes de encontrar el lugar donde iba a poner su restaurante decidió investigar que capacidad media tienen los restaurantes que ofertan este servicio para buscar un local que cumpla con esas condiciones de espacios."
   ]
  },
  {
   "cell_type": "code",
   "execution_count": 10,
   "metadata": {},
   "outputs": [
    {
     "name": "stdout",
     "output_type": "stream",
     "text": [
      "50\n"
     ]
    },
    {
     "data": {
      "application/vnd.plotly.v1+json": {
       "config": {
        "plotlyServerURL": "https://plot.ly"
       },
       "data": [
        {
         "alignmentgroup": "True",
         "boxpoints": "all",
         "hovertemplate": "Capacidad Mediana de los Restaurantes=%{y}<extra></extra>",
         "legendgroup": "",
         "marker": {
          "color": "#636efa"
         },
         "name": "",
         "notched": false,
         "offsetgroup": "",
         "orientation": "v",
         "showlegend": false,
         "type": "box",
         "x0": " ",
         "xaxis": "x",
         "y": [
          30,
          80,
          28,
          36,
          70,
          60,
          30,
          40,
          40,
          12,
          200,
          25,
          40,
          60,
          50,
          70,
          50,
          20,
          50,
          30,
          20,
          45,
          50,
          35,
          40,
          50,
          28,
          60,
          50,
          70,
          36,
          60,
          38,
          60,
          50,
          50,
          20,
          60,
          30,
          65,
          20,
          50,
          30,
          12,
          30,
          50,
          20,
          93,
          120,
          50,
          50,
          70,
          30,
          40,
          50,
          20,
          16,
          20,
          30,
          20,
          45,
          30,
          38,
          36,
          50,
          50,
          60,
          150,
          35,
          50,
          180,
          80,
          24,
          32,
          40,
          30,
          54,
          60,
          20,
          40,
          40,
          55,
          24,
          70,
          50,
          70,
          40,
          40,
          28,
          36,
          34,
          55,
          100,
          20,
          35,
          null,
          40,
          40,
          60,
          30,
          120,
          30,
          30,
          60,
          70,
          35,
          60,
          20,
          40,
          40,
          80,
          null,
          40,
          40,
          50,
          42,
          30,
          40,
          100,
          12,
          50,
          30,
          50,
          40,
          null,
          40,
          28,
          50,
          45,
          25,
          50,
          30,
          25,
          35,
          40,
          44,
          40,
          60,
          30,
          60,
          50,
          36,
          20,
          40,
          50,
          40,
          70,
          45,
          40,
          35
         ],
         "y0": " ",
         "yaxis": "y"
        }
       ],
       "layout": {
        "boxmode": "group",
        "legend": {
         "tracegroupgap": 0
        },
        "template": {
         "data": {
          "bar": [
           {
            "error_x": {
             "color": "#2a3f5f"
            },
            "error_y": {
             "color": "#2a3f5f"
            },
            "marker": {
             "line": {
              "color": "#E5ECF6",
              "width": 0.5
             },
             "pattern": {
              "fillmode": "overlay",
              "size": 10,
              "solidity": 0.2
             }
            },
            "type": "bar"
           }
          ],
          "barpolar": [
           {
            "marker": {
             "line": {
              "color": "#E5ECF6",
              "width": 0.5
             },
             "pattern": {
              "fillmode": "overlay",
              "size": 10,
              "solidity": 0.2
             }
            },
            "type": "barpolar"
           }
          ],
          "carpet": [
           {
            "aaxis": {
             "endlinecolor": "#2a3f5f",
             "gridcolor": "white",
             "linecolor": "white",
             "minorgridcolor": "white",
             "startlinecolor": "#2a3f5f"
            },
            "baxis": {
             "endlinecolor": "#2a3f5f",
             "gridcolor": "white",
             "linecolor": "white",
             "minorgridcolor": "white",
             "startlinecolor": "#2a3f5f"
            },
            "type": "carpet"
           }
          ],
          "choropleth": [
           {
            "colorbar": {
             "outlinewidth": 0,
             "ticks": ""
            },
            "type": "choropleth"
           }
          ],
          "contour": [
           {
            "colorbar": {
             "outlinewidth": 0,
             "ticks": ""
            },
            "colorscale": [
             [
              0,
              "#0d0887"
             ],
             [
              0.1111111111111111,
              "#46039f"
             ],
             [
              0.2222222222222222,
              "#7201a8"
             ],
             [
              0.3333333333333333,
              "#9c179e"
             ],
             [
              0.4444444444444444,
              "#bd3786"
             ],
             [
              0.5555555555555556,
              "#d8576b"
             ],
             [
              0.6666666666666666,
              "#ed7953"
             ],
             [
              0.7777777777777778,
              "#fb9f3a"
             ],
             [
              0.8888888888888888,
              "#fdca26"
             ],
             [
              1,
              "#f0f921"
             ]
            ],
            "type": "contour"
           }
          ],
          "contourcarpet": [
           {
            "colorbar": {
             "outlinewidth": 0,
             "ticks": ""
            },
            "type": "contourcarpet"
           }
          ],
          "heatmap": [
           {
            "colorbar": {
             "outlinewidth": 0,
             "ticks": ""
            },
            "colorscale": [
             [
              0,
              "#0d0887"
             ],
             [
              0.1111111111111111,
              "#46039f"
             ],
             [
              0.2222222222222222,
              "#7201a8"
             ],
             [
              0.3333333333333333,
              "#9c179e"
             ],
             [
              0.4444444444444444,
              "#bd3786"
             ],
             [
              0.5555555555555556,
              "#d8576b"
             ],
             [
              0.6666666666666666,
              "#ed7953"
             ],
             [
              0.7777777777777778,
              "#fb9f3a"
             ],
             [
              0.8888888888888888,
              "#fdca26"
             ],
             [
              1,
              "#f0f921"
             ]
            ],
            "type": "heatmap"
           }
          ],
          "heatmapgl": [
           {
            "colorbar": {
             "outlinewidth": 0,
             "ticks": ""
            },
            "colorscale": [
             [
              0,
              "#0d0887"
             ],
             [
              0.1111111111111111,
              "#46039f"
             ],
             [
              0.2222222222222222,
              "#7201a8"
             ],
             [
              0.3333333333333333,
              "#9c179e"
             ],
             [
              0.4444444444444444,
              "#bd3786"
             ],
             [
              0.5555555555555556,
              "#d8576b"
             ],
             [
              0.6666666666666666,
              "#ed7953"
             ],
             [
              0.7777777777777778,
              "#fb9f3a"
             ],
             [
              0.8888888888888888,
              "#fdca26"
             ],
             [
              1,
              "#f0f921"
             ]
            ],
            "type": "heatmapgl"
           }
          ],
          "histogram": [
           {
            "marker": {
             "pattern": {
              "fillmode": "overlay",
              "size": 10,
              "solidity": 0.2
             }
            },
            "type": "histogram"
           }
          ],
          "histogram2d": [
           {
            "colorbar": {
             "outlinewidth": 0,
             "ticks": ""
            },
            "colorscale": [
             [
              0,
              "#0d0887"
             ],
             [
              0.1111111111111111,
              "#46039f"
             ],
             [
              0.2222222222222222,
              "#7201a8"
             ],
             [
              0.3333333333333333,
              "#9c179e"
             ],
             [
              0.4444444444444444,
              "#bd3786"
             ],
             [
              0.5555555555555556,
              "#d8576b"
             ],
             [
              0.6666666666666666,
              "#ed7953"
             ],
             [
              0.7777777777777778,
              "#fb9f3a"
             ],
             [
              0.8888888888888888,
              "#fdca26"
             ],
             [
              1,
              "#f0f921"
             ]
            ],
            "type": "histogram2d"
           }
          ],
          "histogram2dcontour": [
           {
            "colorbar": {
             "outlinewidth": 0,
             "ticks": ""
            },
            "colorscale": [
             [
              0,
              "#0d0887"
             ],
             [
              0.1111111111111111,
              "#46039f"
             ],
             [
              0.2222222222222222,
              "#7201a8"
             ],
             [
              0.3333333333333333,
              "#9c179e"
             ],
             [
              0.4444444444444444,
              "#bd3786"
             ],
             [
              0.5555555555555556,
              "#d8576b"
             ],
             [
              0.6666666666666666,
              "#ed7953"
             ],
             [
              0.7777777777777778,
              "#fb9f3a"
             ],
             [
              0.8888888888888888,
              "#fdca26"
             ],
             [
              1,
              "#f0f921"
             ]
            ],
            "type": "histogram2dcontour"
           }
          ],
          "mesh3d": [
           {
            "colorbar": {
             "outlinewidth": 0,
             "ticks": ""
            },
            "type": "mesh3d"
           }
          ],
          "parcoords": [
           {
            "line": {
             "colorbar": {
              "outlinewidth": 0,
              "ticks": ""
             }
            },
            "type": "parcoords"
           }
          ],
          "pie": [
           {
            "automargin": true,
            "type": "pie"
           }
          ],
          "scatter": [
           {
            "fillpattern": {
             "fillmode": "overlay",
             "size": 10,
             "solidity": 0.2
            },
            "type": "scatter"
           }
          ],
          "scatter3d": [
           {
            "line": {
             "colorbar": {
              "outlinewidth": 0,
              "ticks": ""
             }
            },
            "marker": {
             "colorbar": {
              "outlinewidth": 0,
              "ticks": ""
             }
            },
            "type": "scatter3d"
           }
          ],
          "scattercarpet": [
           {
            "marker": {
             "colorbar": {
              "outlinewidth": 0,
              "ticks": ""
             }
            },
            "type": "scattercarpet"
           }
          ],
          "scattergeo": [
           {
            "marker": {
             "colorbar": {
              "outlinewidth": 0,
              "ticks": ""
             }
            },
            "type": "scattergeo"
           }
          ],
          "scattergl": [
           {
            "marker": {
             "colorbar": {
              "outlinewidth": 0,
              "ticks": ""
             }
            },
            "type": "scattergl"
           }
          ],
          "scattermapbox": [
           {
            "marker": {
             "colorbar": {
              "outlinewidth": 0,
              "ticks": ""
             }
            },
            "type": "scattermapbox"
           }
          ],
          "scatterpolar": [
           {
            "marker": {
             "colorbar": {
              "outlinewidth": 0,
              "ticks": ""
             }
            },
            "type": "scatterpolar"
           }
          ],
          "scatterpolargl": [
           {
            "marker": {
             "colorbar": {
              "outlinewidth": 0,
              "ticks": ""
             }
            },
            "type": "scatterpolargl"
           }
          ],
          "scatterternary": [
           {
            "marker": {
             "colorbar": {
              "outlinewidth": 0,
              "ticks": ""
             }
            },
            "type": "scatterternary"
           }
          ],
          "surface": [
           {
            "colorbar": {
             "outlinewidth": 0,
             "ticks": ""
            },
            "colorscale": [
             [
              0,
              "#0d0887"
             ],
             [
              0.1111111111111111,
              "#46039f"
             ],
             [
              0.2222222222222222,
              "#7201a8"
             ],
             [
              0.3333333333333333,
              "#9c179e"
             ],
             [
              0.4444444444444444,
              "#bd3786"
             ],
             [
              0.5555555555555556,
              "#d8576b"
             ],
             [
              0.6666666666666666,
              "#ed7953"
             ],
             [
              0.7777777777777778,
              "#fb9f3a"
             ],
             [
              0.8888888888888888,
              "#fdca26"
             ],
             [
              1,
              "#f0f921"
             ]
            ],
            "type": "surface"
           }
          ],
          "table": [
           {
            "cells": {
             "fill": {
              "color": "#EBF0F8"
             },
             "line": {
              "color": "white"
             }
            },
            "header": {
             "fill": {
              "color": "#C8D4E3"
             },
             "line": {
              "color": "white"
             }
            },
            "type": "table"
           }
          ]
         },
         "layout": {
          "annotationdefaults": {
           "arrowcolor": "#2a3f5f",
           "arrowhead": 0,
           "arrowwidth": 1
          },
          "autotypenumbers": "strict",
          "coloraxis": {
           "colorbar": {
            "outlinewidth": 0,
            "ticks": ""
           }
          },
          "colorscale": {
           "diverging": [
            [
             0,
             "#8e0152"
            ],
            [
             0.1,
             "#c51b7d"
            ],
            [
             0.2,
             "#de77ae"
            ],
            [
             0.3,
             "#f1b6da"
            ],
            [
             0.4,
             "#fde0ef"
            ],
            [
             0.5,
             "#f7f7f7"
            ],
            [
             0.6,
             "#e6f5d0"
            ],
            [
             0.7,
             "#b8e186"
            ],
            [
             0.8,
             "#7fbc41"
            ],
            [
             0.9,
             "#4d9221"
            ],
            [
             1,
             "#276419"
            ]
           ],
           "sequential": [
            [
             0,
             "#0d0887"
            ],
            [
             0.1111111111111111,
             "#46039f"
            ],
            [
             0.2222222222222222,
             "#7201a8"
            ],
            [
             0.3333333333333333,
             "#9c179e"
            ],
            [
             0.4444444444444444,
             "#bd3786"
            ],
            [
             0.5555555555555556,
             "#d8576b"
            ],
            [
             0.6666666666666666,
             "#ed7953"
            ],
            [
             0.7777777777777778,
             "#fb9f3a"
            ],
            [
             0.8888888888888888,
             "#fdca26"
            ],
            [
             1,
             "#f0f921"
            ]
           ],
           "sequentialminus": [
            [
             0,
             "#0d0887"
            ],
            [
             0.1111111111111111,
             "#46039f"
            ],
            [
             0.2222222222222222,
             "#7201a8"
            ],
            [
             0.3333333333333333,
             "#9c179e"
            ],
            [
             0.4444444444444444,
             "#bd3786"
            ],
            [
             0.5555555555555556,
             "#d8576b"
            ],
            [
             0.6666666666666666,
             "#ed7953"
            ],
            [
             0.7777777777777778,
             "#fb9f3a"
            ],
            [
             0.8888888888888888,
             "#fdca26"
            ],
            [
             1,
             "#f0f921"
            ]
           ]
          },
          "colorway": [
           "#636efa",
           "#EF553B",
           "#00cc96",
           "#ab63fa",
           "#FFA15A",
           "#19d3f3",
           "#FF6692",
           "#B6E880",
           "#FF97FF",
           "#FECB52"
          ],
          "font": {
           "color": "#2a3f5f"
          },
          "geo": {
           "bgcolor": "white",
           "lakecolor": "white",
           "landcolor": "#E5ECF6",
           "showlakes": true,
           "showland": true,
           "subunitcolor": "white"
          },
          "hoverlabel": {
           "align": "left"
          },
          "hovermode": "closest",
          "mapbox": {
           "style": "light"
          },
          "paper_bgcolor": "white",
          "plot_bgcolor": "#E5ECF6",
          "polar": {
           "angularaxis": {
            "gridcolor": "white",
            "linecolor": "white",
            "ticks": ""
           },
           "bgcolor": "#E5ECF6",
           "radialaxis": {
            "gridcolor": "white",
            "linecolor": "white",
            "ticks": ""
           }
          },
          "scene": {
           "xaxis": {
            "backgroundcolor": "#E5ECF6",
            "gridcolor": "white",
            "gridwidth": 2,
            "linecolor": "white",
            "showbackground": true,
            "ticks": "",
            "zerolinecolor": "white"
           },
           "yaxis": {
            "backgroundcolor": "#E5ECF6",
            "gridcolor": "white",
            "gridwidth": 2,
            "linecolor": "white",
            "showbackground": true,
            "ticks": "",
            "zerolinecolor": "white"
           },
           "zaxis": {
            "backgroundcolor": "#E5ECF6",
            "gridcolor": "white",
            "gridwidth": 2,
            "linecolor": "white",
            "showbackground": true,
            "ticks": "",
            "zerolinecolor": "white"
           }
          },
          "shapedefaults": {
           "line": {
            "color": "#2a3f5f"
           }
          },
          "ternary": {
           "aaxis": {
            "gridcolor": "white",
            "linecolor": "white",
            "ticks": ""
           },
           "baxis": {
            "gridcolor": "white",
            "linecolor": "white",
            "ticks": ""
           },
           "bgcolor": "#E5ECF6",
           "caxis": {
            "gridcolor": "white",
            "linecolor": "white",
            "ticks": ""
           }
          },
          "title": {
           "x": 0.05
          },
          "xaxis": {
           "automargin": true,
           "gridcolor": "white",
           "linecolor": "white",
           "ticks": "",
           "title": {
            "standoff": 15
           },
           "zerolinecolor": "white",
           "zerolinewidth": 2
          },
          "yaxis": {
           "automargin": true,
           "gridcolor": "white",
           "linecolor": "white",
           "ticks": "",
           "title": {
            "standoff": 15
           },
           "zerolinecolor": "white",
           "zerolinewidth": 2
          }
         }
        },
        "title": {
         "text": "Distribución de la Capacidad de los Restaurantes con Reserva"
        },
        "xaxis": {
         "anchor": "y",
         "domain": [
          0,
          1
         ]
        },
        "yaxis": {
         "anchor": "x",
         "domain": [
          0,
          1
         ],
         "title": {
          "text": "Capacidad Mediana de los Restaurantes"
         }
        }
       }
      }
     },
     "metadata": {},
     "output_type": "display_data"
    }
   ],
   "source": [
    "#Grafica que muestra la capacidad mediana de los restaurantes que aceptan reservacion :)\n",
    "\n",
    "restaurantes_con_reserva = data2[data2[\"reservation\"] == True]\n",
    "capacidad_reserva= restaurantes_con_reserva[\"capacity\"]\n",
    "mediana_capacidad = round(bp.c_mediana(capacidad_reserva))\n",
    "print(mediana_capacidad)\n",
    "\n",
    "fig = px.box(\n",
    "    restaurantes_con_reserva,\n",
    "    y='capacity',\n",
    "    title='Distribución de la Capacidad de los Restaurantes con Reserva',\n",
    "    labels={'capacity': 'Capacidad Mediana de los Restaurantes'},\n",
    "    points=\"all\"\n",
    "    \n",
    ")\n",
    "\n",
    "fig.show()\n"
   ]
  },
  {
   "cell_type": "markdown",
   "metadata": {},
   "source": [
    "Tendríamos que agregar nuestra localización a un mapa en línea para facilitarle la úbicacion a todos los interesados "
   ]
  },
  {
   "cell_type": "code",
   "execution_count": 11,
   "metadata": {},
   "outputs": [
    {
     "data": {
      "text/html": [
       "<div style=\"width:100%;\"><div style=\"position:relative;width:100%;height:0;padding-bottom:60%;\"><span style=\"color:#565656\">Make this Notebook Trusted to load map: File -> Trust Notebook</span><iframe srcdoc=\"&lt;!DOCTYPE html&gt;\n",
       "&lt;html&gt;\n",
       "&lt;head&gt;\n",
       "    \n",
       "    &lt;meta http-equiv=&quot;content-type&quot; content=&quot;text/html; charset=UTF-8&quot; /&gt;\n",
       "    \n",
       "        &lt;script&gt;\n",
       "            L_NO_TOUCH = false;\n",
       "            L_DISABLE_3D = false;\n",
       "        &lt;/script&gt;\n",
       "    \n",
       "    &lt;style&gt;html, body {width: 100%;height: 100%;margin: 0;padding: 0;}&lt;/style&gt;\n",
       "    &lt;style&gt;#map {position:absolute;top:0;bottom:0;right:0;left:0;}&lt;/style&gt;\n",
       "    &lt;script src=&quot;https://cdn.jsdelivr.net/npm/leaflet@1.9.3/dist/leaflet.js&quot;&gt;&lt;/script&gt;\n",
       "    &lt;script src=&quot;https://code.jquery.com/jquery-3.7.1.min.js&quot;&gt;&lt;/script&gt;\n",
       "    &lt;script src=&quot;https://cdn.jsdelivr.net/npm/bootstrap@5.2.2/dist/js/bootstrap.bundle.min.js&quot;&gt;&lt;/script&gt;\n",
       "    &lt;script src=&quot;https://cdnjs.cloudflare.com/ajax/libs/Leaflet.awesome-markers/2.0.2/leaflet.awesome-markers.js&quot;&gt;&lt;/script&gt;\n",
       "    &lt;link rel=&quot;stylesheet&quot; href=&quot;https://cdn.jsdelivr.net/npm/leaflet@1.9.3/dist/leaflet.css&quot;/&gt;\n",
       "    &lt;link rel=&quot;stylesheet&quot; href=&quot;https://cdn.jsdelivr.net/npm/bootstrap@5.2.2/dist/css/bootstrap.min.css&quot;/&gt;\n",
       "    &lt;link rel=&quot;stylesheet&quot; href=&quot;https://netdna.bootstrapcdn.com/bootstrap/3.0.0/css/bootstrap-glyphicons.css&quot;/&gt;\n",
       "    &lt;link rel=&quot;stylesheet&quot; href=&quot;https://cdn.jsdelivr.net/npm/@fortawesome/fontawesome-free@6.2.0/css/all.min.css&quot;/&gt;\n",
       "    &lt;link rel=&quot;stylesheet&quot; href=&quot;https://cdnjs.cloudflare.com/ajax/libs/Leaflet.awesome-markers/2.0.2/leaflet.awesome-markers.css&quot;/&gt;\n",
       "    &lt;link rel=&quot;stylesheet&quot; href=&quot;https://cdn.jsdelivr.net/gh/python-visualization/folium/folium/templates/leaflet.awesome.rotate.min.css&quot;/&gt;\n",
       "    \n",
       "            &lt;meta name=&quot;viewport&quot; content=&quot;width=device-width,\n",
       "                initial-scale=1.0, maximum-scale=1.0, user-scalable=no&quot; /&gt;\n",
       "            &lt;style&gt;\n",
       "                #map_25b1f90f2fd0c40419c04f1962b5ebc6 {\n",
       "                    position: relative;\n",
       "                    width: 100.0%;\n",
       "                    height: 100.0%;\n",
       "                    left: 0.0%;\n",
       "                    top: 0.0%;\n",
       "                }\n",
       "                .leaflet-container { font-size: 1rem; }\n",
       "            &lt;/style&gt;\n",
       "        \n",
       "&lt;/head&gt;\n",
       "&lt;body&gt;\n",
       "    \n",
       "    \n",
       "            &lt;div class=&quot;folium-map&quot; id=&quot;map_25b1f90f2fd0c40419c04f1962b5ebc6&quot; &gt;&lt;/div&gt;\n",
       "        \n",
       "&lt;/body&gt;\n",
       "&lt;script&gt;\n",
       "    \n",
       "    \n",
       "            var map_25b1f90f2fd0c40419c04f1962b5ebc6 = L.map(\n",
       "                &quot;map_25b1f90f2fd0c40419c04f1962b5ebc6&quot;,\n",
       "                {\n",
       "                    center: [23.1, -82.4],\n",
       "                    crs: L.CRS.EPSG3857,\n",
       "                    ...{\n",
       "  &quot;zoom&quot;: 11,\n",
       "  &quot;zoomControl&quot;: true,\n",
       "  &quot;preferCanvas&quot;: false,\n",
       "}\n",
       "\n",
       "                }\n",
       "            );\n",
       "\n",
       "            \n",
       "\n",
       "        \n",
       "    \n",
       "            var tile_layer_22c5b85966117acbd01514ae9c06a53c = L.tileLayer(\n",
       "                &quot;https://tile.openstreetmap.org/{z}/{x}/{y}.png&quot;,\n",
       "                {\n",
       "  &quot;minZoom&quot;: 0,\n",
       "  &quot;maxZoom&quot;: 19,\n",
       "  &quot;maxNativeZoom&quot;: 19,\n",
       "  &quot;noWrap&quot;: false,\n",
       "  &quot;attribution&quot;: &quot;\\u0026copy; \\u003ca href=\\&quot;https://www.openstreetmap.org/copyright\\&quot;\\u003eOpenStreetMap\\u003c/a\\u003e contributors&quot;,\n",
       "  &quot;subdomains&quot;: &quot;abc&quot;,\n",
       "  &quot;detectRetina&quot;: false,\n",
       "  &quot;tms&quot;: false,\n",
       "  &quot;opacity&quot;: 1,\n",
       "}\n",
       "\n",
       "            );\n",
       "        \n",
       "    \n",
       "            tile_layer_22c5b85966117acbd01514ae9c06a53c.addTo(map_25b1f90f2fd0c40419c04f1962b5ebc6);\n",
       "        \n",
       "    \n",
       "\n",
       "        function geo_json_376fbba5718eab3ac9dbf7b01b5b6346_onEachFeature(feature, layer) {\n",
       "            layer.on({\n",
       "            });\n",
       "        };\n",
       "        var geo_json_376fbba5718eab3ac9dbf7b01b5b6346 = L.geoJson(null, {\n",
       "                onEachFeature: geo_json_376fbba5718eab3ac9dbf7b01b5b6346_onEachFeature,\n",
       "            \n",
       "            ...{\n",
       "}\n",
       "        });\n",
       "\n",
       "        function geo_json_376fbba5718eab3ac9dbf7b01b5b6346_add (data) {\n",
       "            geo_json_376fbba5718eab3ac9dbf7b01b5b6346\n",
       "                .addData(data);\n",
       "        }\n",
       "            geo_json_376fbba5718eab3ac9dbf7b01b5b6346_add({&quot;features&quot;: [{&quot;geometry&quot;: {&quot;coordinates&quot;: [[[-82.5403, 23.0517], [-82.5289, 23.0628], [-82.5239, 23.0735], [-82.509, 23.0829], [-82.5045, 23.0806], [-82.4981, 23.0844], [-82.5026, 23.0865], [-82.4957, 23.0937], [-82.4911, 23.0937], [-82.4894, 23.0897], [-82.4872, 23.0951], [-82.4835, 23.0947], [-82.4781, 23.0901], [-82.4783, 23.0949], [-82.4606, 23.0936], [-82.4609, 23.0976], [-82.4554, 23.0961], [-82.4535, 23.1017], [-82.4346, 23.1193], [-82.4152, 23.1334], [-82.4121, 23.1339], [-82.4119, 23.1305], [-82.4053, 23.1406], [-82.3912, 23.1478], [-82.3696, 23.1424], [-82.3579, 23.1468], [-82.3522, 23.145], [-82.345, 23.1353], [-82.3478, 23.1286], [-82.3577, 23.122], [-82.351, 23.1205], [-82.3448, 23.1266], [-82.3422, 23.1147], [-82.3343, 23.1123], [-82.3406, 23.1243], [-82.3359, 23.1273], [-82.3374, 23.1347], [-82.328, 23.1303], [-82.3281, 23.1382], [-82.3229, 23.1427], [-82.3446, 23.1424], [-82.3563, 23.1516], [-82.3244, 23.1664], [-82.3026, 23.1715], [-82.2944, 23.1688], [-82.2911, 23.1637], [-82.2892, 23.1702], [-82.2772, 23.1754], [-82.2442, 23.1786], [-82.2402, 23.1732], [-82.2393, 23.1783], [-82.228, 23.1806], [-82.214, 23.1785], [-82.2115, 23.1724], [-82.2121, 23.1785], [-82.2045, 23.1806], [-82.1518, 23.172], [-82.1258, 23.1744], [-82.1225, 23.1684], [-82.1161, 23.1715], [-82.1209, 23.1724], [-82.1185, 23.1737], [-82.098, 23.1729], [-82.0929, 23.1761], [-82.0925, 23.168], [-82.1016, 23.1666], [-82.1025, 23.1598], [-82.082, 23.1487], [-82.0799, 23.1245], [-82.0931, 23.1221], [-82.0861, 23.1055], [-82.1016, 23.0931], [-82.1015, 23.0847], [-82.1087, 23.0806], [-82.1058, 23.0767], [-82.1096, 23.0683], [-82.1011, 23.0555], [-82.1148, 23.0547], [-82.1445, 23.0685], [-82.15, 23.075], [-82.1562, 23.0744], [-82.1764, 23.0576], [-82.2231, 23.064], [-82.2256, 23.0165], [-82.1964, 22.9972], [-82.1979, 22.993], [-82.2115, 22.9944], [-82.2167, 22.9997], [-82.2283, 22.9804], [-82.2618, 22.9734], [-82.2475, 22.9564], [-82.2676, 22.9578], [-82.2798, 22.9519], [-82.2976, 22.9541], [-82.3009, 22.9627], [-82.3056, 22.9648], [-82.3132, 22.9649], [-82.3304, 22.9563], [-82.3648, 22.9667], [-82.3775, 22.9657], [-82.3759, 22.9558], [-82.3658, 22.9405], [-82.3868, 22.9337], [-82.4152, 22.9483], [-82.4287, 22.9466], [-82.4336, 22.9403], [-82.4458, 22.9471], [-82.4436, 22.9814], [-82.4482, 22.9851], [-82.4578, 22.9775], [-82.4661, 22.982], [-82.4672, 22.9783], [-82.4843, 22.9729], [-82.498, 22.9947], [-82.5012, 23.0095], [-82.5081, 23.0153], [-82.5066, 23.0211], [-82.4982, 23.0262], [-82.4949, 23.0323], [-82.4973, 23.0392], [-82.4917, 23.0411], [-82.4889, 23.0523], [-82.4921, 23.0736], [-82.4972, 23.0736], [-82.5021, 23.0687], [-82.5108, 23.0703], [-82.5329, 23.0523], [-82.5403, 23.0517]]], &quot;type&quot;: &quot;Polygon&quot;}, &quot;properties&quot;: {&quot;DPA_province_code&quot;: &quot;23&quot;, &quot;country&quot;: &quot;Cuba&quot;, &quot;country_domain&quot;: &quot;cu&quot;, &quot;province&quot;: &quot;La Habana&quot;, &quot;province_id&quot;: &quot;lha&quot;, &quot;region&quot;: &quot;province&quot;}, &quot;type&quot;: &quot;Feature&quot;}], &quot;type&quot;: &quot;FeatureCollection&quot;});\n",
       "        geo_json_376fbba5718eab3ac9dbf7b01b5b6346.setStyle(function(feature) {return feature.properties.style;});\n",
       "\n",
       "        \n",
       "    \n",
       "            geo_json_376fbba5718eab3ac9dbf7b01b5b6346.addTo(map_25b1f90f2fd0c40419c04f1962b5ebc6);\n",
       "        \n",
       "    \n",
       "            var marker_19e3247503607583f265fdbd00060de7 = L.marker(\n",
       "                [23.127994303036843, -82.33433402886767],\n",
       "                {\n",
       "}\n",
       "            ).addTo(map_25b1f90f2fd0c40419c04f1962b5ebc6);\n",
       "        \n",
       "    \n",
       "            var icon_271e60c2e7a3ddc2627afa80ac8f475f = L.AwesomeMarkers.icon(\n",
       "                {\n",
       "  &quot;markerColor&quot;: &quot;red&quot;,\n",
       "  &quot;iconColor&quot;: &quot;white&quot;,\n",
       "  &quot;icon&quot;: &quot;cutlery&quot;,\n",
       "  &quot;prefix&quot;: &quot;fa&quot;,\n",
       "  &quot;extraClasses&quot;: &quot;fa-rotate-0&quot;,\n",
       "}\n",
       "            );\n",
       "            marker_19e3247503607583f265fdbd00060de7.setIcon(icon_271e60c2e7a3ddc2627afa80ac8f475f);\n",
       "        \n",
       "    \n",
       "        var popup_c6c752bc167ba2278b24fa81224d23c3 = L.popup({\n",
       "  &quot;maxWidth&quot;: &quot;100%&quot;,\n",
       "});\n",
       "\n",
       "        \n",
       "            \n",
       "                var html_c647274118be700c9066459b3b29adb6 = $(`&lt;div id=&quot;html_c647274118be700c9066459b3b29adb6&quot; style=&quot;width: 100.0%; height: 100.0%;&quot;&gt;(&quot;&lt;b style=&#x27;font-size: 18px; &#x27;&gt;@2KFE&lt;/b&gt;&lt;br&gt;Direccion:  entre Martí y Maceo, Pereira&quot;, &quot;Especialidades: [&#x27;Internacional&#x27;, &#x27;Criolla&#x27;]&quot;)&lt;/div&gt;`)[0];\n",
       "                popup_c6c752bc167ba2278b24fa81224d23c3.setContent(html_c647274118be700c9066459b3b29adb6);\n",
       "            \n",
       "        \n",
       "\n",
       "        marker_19e3247503607583f265fdbd00060de7.bindPopup(popup_c6c752bc167ba2278b24fa81224d23c3)\n",
       "        ;\n",
       "\n",
       "        \n",
       "    \n",
       "    \n",
       "            var marker_fe659ca70e4b5a7c387cb7898149265d = L.marker(\n",
       "                [23.123441938216946, -82.32315460160667],\n",
       "                {\n",
       "}\n",
       "            ).addTo(map_25b1f90f2fd0c40419c04f1962b5ebc6);\n",
       "        \n",
       "    \n",
       "            var icon_07180fbabe106f119548aa4b5d6023c0 = L.AwesomeMarkers.icon(\n",
       "                {\n",
       "  &quot;markerColor&quot;: &quot;red&quot;,\n",
       "  &quot;iconColor&quot;: &quot;white&quot;,\n",
       "  &quot;icon&quot;: &quot;cutlery&quot;,\n",
       "  &quot;prefix&quot;: &quot;fa&quot;,\n",
       "  &quot;extraClasses&quot;: &quot;fa-rotate-0&quot;,\n",
       "}\n",
       "            );\n",
       "            marker_fe659ca70e4b5a7c387cb7898149265d.setIcon(icon_07180fbabe106f119548aa4b5d6023c0);\n",
       "        \n",
       "    \n",
       "        var popup_c1eaddb9ba4418c964abd2c24b5a6fa7 = L.popup({\n",
       "  &quot;maxWidth&quot;: &quot;100%&quot;,\n",
       "});\n",
       "\n",
       "        \n",
       "            \n",
       "                var html_bd0f49047e7825aad9a08c5e581082c4 = $(`&lt;div id=&quot;html_bd0f49047e7825aad9a08c5e581082c4&quot; style=&quot;width: 100.0%; height: 100.0%;&quot;&gt;(&quot;&lt;b style=&#x27;font-size: 18px; &#x27;&gt;5ta Billar&lt;/b&gt;&lt;br&gt;Direccion: Av. Rotoria entre enlace y A&quot;, &quot;Especialidades: [&#x27;Internacional&#x27;]&quot;)&lt;/div&gt;`)[0];\n",
       "                popup_c1eaddb9ba4418c964abd2c24b5a6fa7.setContent(html_bd0f49047e7825aad9a08c5e581082c4);\n",
       "            \n",
       "        \n",
       "\n",
       "        marker_fe659ca70e4b5a7c387cb7898149265d.bindPopup(popup_c1eaddb9ba4418c964abd2c24b5a6fa7)\n",
       "        ;\n",
       "\n",
       "        \n",
       "    \n",
       "    \n",
       "            var marker_6ffc47a7c0bffaf36e4b05df9a3eaa3f = L.marker(\n",
       "                [23.088058099587446, -82.42179558984083],\n",
       "                {\n",
       "}\n",
       "            ).addTo(map_25b1f90f2fd0c40419c04f1962b5ebc6);\n",
       "        \n",
       "    \n",
       "            var icon_34130cd8f408f8faa77401ff2a7615d5 = L.AwesomeMarkers.icon(\n",
       "                {\n",
       "  &quot;markerColor&quot;: &quot;red&quot;,\n",
       "  &quot;iconColor&quot;: &quot;white&quot;,\n",
       "  &quot;icon&quot;: &quot;cutlery&quot;,\n",
       "  &quot;prefix&quot;: &quot;fa&quot;,\n",
       "  &quot;extraClasses&quot;: &quot;fa-rotate-0&quot;,\n",
       "}\n",
       "            );\n",
       "            marker_6ffc47a7c0bffaf36e4b05df9a3eaa3f.setIcon(icon_34130cd8f408f8faa77401ff2a7615d5);\n",
       "        \n",
       "    \n",
       "        var popup_fcaf6d378b36175ab62970e98e9baebf = L.popup({\n",
       "  &quot;maxWidth&quot;: &quot;100%&quot;,\n",
       "});\n",
       "\n",
       "        \n",
       "            \n",
       "                var html_b9074d4b859d5405b6099f4c77bbc531 = $(`&lt;div id=&quot;html_b9074d4b859d5405b6099f4c77bbc531&quot; style=&quot;width: 100.0%; height: 100.0%;&quot;&gt;(&quot;&lt;b style=&#x27;font-size: 18px; &#x27;&gt;700º&lt;/b&gt;&lt;br&gt;Direccion: avenida 41 esquina 86&quot;, &quot;Especialidades: [&#x27;Comida Mixta&#x27;]&quot;)&lt;/div&gt;`)[0];\n",
       "                popup_fcaf6d378b36175ab62970e98e9baebf.setContent(html_b9074d4b859d5405b6099f4c77bbc531);\n",
       "            \n",
       "        \n",
       "\n",
       "        marker_6ffc47a7c0bffaf36e4b05df9a3eaa3f.bindPopup(popup_fcaf6d378b36175ab62970e98e9baebf)\n",
       "        ;\n",
       "\n",
       "        \n",
       "    \n",
       "    \n",
       "            var marker_66e758d42894b872a27ee7970b6b20d3 = L.marker(\n",
       "                [23.05774000743355, -82.38292623217035],\n",
       "                {\n",
       "}\n",
       "            ).addTo(map_25b1f90f2fd0c40419c04f1962b5ebc6);\n",
       "        \n",
       "    \n",
       "            var icon_5384c7cafa03d8108e7fe18956cfa28f = L.AwesomeMarkers.icon(\n",
       "                {\n",
       "  &quot;markerColor&quot;: &quot;red&quot;,\n",
       "  &quot;iconColor&quot;: &quot;white&quot;,\n",
       "  &quot;icon&quot;: &quot;cutlery&quot;,\n",
       "  &quot;prefix&quot;: &quot;fa&quot;,\n",
       "  &quot;extraClasses&quot;: &quot;fa-rotate-0&quot;,\n",
       "}\n",
       "            );\n",
       "            marker_66e758d42894b872a27ee7970b6b20d3.setIcon(icon_5384c7cafa03d8108e7fe18956cfa28f);\n",
       "        \n",
       "    \n",
       "        var popup_b7f02148da804f081e1914bbac51649b = L.popup({\n",
       "  &quot;maxWidth&quot;: &quot;100%&quot;,\n",
       "});\n",
       "\n",
       "        \n",
       "            \n",
       "                var html_69dcd6cdd97f5fd981ebe32b9cf27c18 = $(`&lt;div id=&quot;html_69dcd6cdd97f5fd981ebe32b9cf27c18&quot; style=&quot;width: 100.0%; height: 100.0%;&quot;&gt;(&quot;&lt;b style=&#x27;font-size: 18px; &#x27;&gt;Abuelo D&#x27;Oro&lt;/b&gt;&lt;br&gt;Direccion: Calzada Aldabo % 12 y 13, Aldabo&quot;, &quot;Especialidades: [&#x27;Cubana&#x27;, &#x27;Internacional&#x27;, &#x27;Italiana&#x27;]&quot;)&lt;/div&gt;`)[0];\n",
       "                popup_b7f02148da804f081e1914bbac51649b.setContent(html_69dcd6cdd97f5fd981ebe32b9cf27c18);\n",
       "            \n",
       "        \n",
       "\n",
       "        marker_66e758d42894b872a27ee7970b6b20d3.bindPopup(popup_b7f02148da804f081e1914bbac51649b)\n",
       "        ;\n",
       "\n",
       "        \n",
       "    \n",
       "    \n",
       "            var marker_cab6d6782d138e8fe2aa53ac0372c33c = L.marker(\n",
       "                [23.161955819683246, -82.29436375935097],\n",
       "                {\n",
       "}\n",
       "            ).addTo(map_25b1f90f2fd0c40419c04f1962b5ebc6);\n",
       "        \n",
       "    \n",
       "            var icon_93c37eb99928726a936e33b8e7ad912e = L.AwesomeMarkers.icon(\n",
       "                {\n",
       "  &quot;markerColor&quot;: &quot;red&quot;,\n",
       "  &quot;iconColor&quot;: &quot;white&quot;,\n",
       "  &quot;icon&quot;: &quot;cutlery&quot;,\n",
       "  &quot;prefix&quot;: &quot;fa&quot;,\n",
       "  &quot;extraClasses&quot;: &quot;fa-rotate-0&quot;,\n",
       "}\n",
       "            );\n",
       "            marker_cab6d6782d138e8fe2aa53ac0372c33c.setIcon(icon_93c37eb99928726a936e33b8e7ad912e);\n",
       "        \n",
       "    \n",
       "        var popup_093720ce56f50e4001207d1b584b799d = L.popup({\n",
       "  &quot;maxWidth&quot;: &quot;100%&quot;,\n",
       "});\n",
       "\n",
       "        \n",
       "            \n",
       "                var html_7cb8d1cf4a72b7418beec538ec522442 = $(`&lt;div id=&quot;html_7cb8d1cf4a72b7418beec538ec522442&quot; style=&quot;width: 100.0%; height: 100.0%;&quot;&gt;(&quot;&lt;b style=&#x27;font-size: 18px; &#x27;&gt;Aires de Cojimar&lt;/b&gt;&lt;br&gt;Direccion: Pezuela #3e05 entre RUA y Espartero, Cojimar&quot;, &quot;Especialidades: [&#x27;Comida mixta&#x27;]&quot;)&lt;/div&gt;`)[0];\n",
       "                popup_093720ce56f50e4001207d1b584b799d.setContent(html_7cb8d1cf4a72b7418beec538ec522442);\n",
       "            \n",
       "        \n",
       "\n",
       "        marker_cab6d6782d138e8fe2aa53ac0372c33c.bindPopup(popup_093720ce56f50e4001207d1b584b799d)\n",
       "        ;\n",
       "\n",
       "        \n",
       "    \n",
       "    \n",
       "            var marker_a45d3ce061b397d609eebb248b1718b1 = L.marker(\n",
       "                [23.164158289847958, -82.3080389633564],\n",
       "                {\n",
       "}\n",
       "            ).addTo(map_25b1f90f2fd0c40419c04f1962b5ebc6);\n",
       "        \n",
       "    \n",
       "            var icon_ce3e0644fae87bc5e1a4eed1f2e68474 = L.AwesomeMarkers.icon(\n",
       "                {\n",
       "  &quot;markerColor&quot;: &quot;red&quot;,\n",
       "  &quot;iconColor&quot;: &quot;white&quot;,\n",
       "  &quot;icon&quot;: &quot;cutlery&quot;,\n",
       "  &quot;prefix&quot;: &quot;fa&quot;,\n",
       "  &quot;extraClasses&quot;: &quot;fa-rotate-0&quot;,\n",
       "}\n",
       "            );\n",
       "            marker_a45d3ce061b397d609eebb248b1718b1.setIcon(icon_ce3e0644fae87bc5e1a4eed1f2e68474);\n",
       "        \n",
       "    \n",
       "        var popup_ce47990211135fe93696d3263d4cd36b = L.popup({\n",
       "  &quot;maxWidth&quot;: &quot;100%&quot;,\n",
       "});\n",
       "\n",
       "        \n",
       "            \n",
       "                var html_9622f9060051814fafcd27e5a8153393 = $(`&lt;div id=&quot;html_9622f9060051814fafcd27e5a8153393&quot; style=&quot;width: 100.0%; height: 100.0%;&quot;&gt;(&quot;&lt;b style=&#x27;font-size: 18px; &#x27;&gt;Allegro&lt;/b&gt;&lt;br&gt;Direccion: Paseo de la Villa, Villa Panamericana&quot;, &quot;Especialidades: [&#x27;Comida italiana&#x27;]&quot;)&lt;/div&gt;`)[0];\n",
       "                popup_ce47990211135fe93696d3263d4cd36b.setContent(html_9622f9060051814fafcd27e5a8153393);\n",
       "            \n",
       "        \n",
       "\n",
       "        marker_a45d3ce061b397d609eebb248b1718b1.bindPopup(popup_ce47990211135fe93696d3263d4cd36b)\n",
       "        ;\n",
       "\n",
       "        \n",
       "    \n",
       "    \n",
       "            var marker_a1177881f79c6214b9757e766906c5ea = L.marker(\n",
       "                [23.155233076567885, -82.27082914585701],\n",
       "                {\n",
       "}\n",
       "            ).addTo(map_25b1f90f2fd0c40419c04f1962b5ebc6);\n",
       "        \n",
       "    \n",
       "            var icon_8c7be85bd4a30e6bca22450e5362ff91 = L.AwesomeMarkers.icon(\n",
       "                {\n",
       "  &quot;markerColor&quot;: &quot;red&quot;,\n",
       "  &quot;iconColor&quot;: &quot;white&quot;,\n",
       "  &quot;icon&quot;: &quot;cutlery&quot;,\n",
       "  &quot;prefix&quot;: &quot;fa&quot;,\n",
       "  &quot;extraClasses&quot;: &quot;fa-rotate-0&quot;,\n",
       "}\n",
       "            );\n",
       "            marker_a1177881f79c6214b9757e766906c5ea.setIcon(icon_8c7be85bd4a30e6bca22450e5362ff91);\n",
       "        \n",
       "    \n",
       "        var popup_e05f89d200ccbbbffb4f069f7a46f9f1 = L.popup({\n",
       "  &quot;maxWidth&quot;: &quot;100%&quot;,\n",
       "});\n",
       "\n",
       "        \n",
       "            \n",
       "                var html_7f03139739d59d8cbca387305c509971 = $(`&lt;div id=&quot;html_7f03139739d59d8cbca387305c509971&quot; style=&quot;width: 100.0%; height: 100.0%;&quot;&gt;(&quot;&lt;b style=&#x27;font-size: 18px; &#x27;&gt;Al Campestre&lt;/b&gt;&lt;br&gt;Direccion: El Intermitente, Via  Blanca, Alamar&quot;, &quot;Especialidades: [&#x27;Comida mixta&#x27;]&quot;)&lt;/div&gt;`)[0];\n",
       "                popup_e05f89d200ccbbbffb4f069f7a46f9f1.setContent(html_7f03139739d59d8cbca387305c509971);\n",
       "            \n",
       "        \n",
       "\n",
       "        marker_a1177881f79c6214b9757e766906c5ea.bindPopup(popup_e05f89d200ccbbbffb4f069f7a46f9f1)\n",
       "        ;\n",
       "\n",
       "        \n",
       "    \n",
       "    \n",
       "            var marker_221907530e157ab366698b15096df84c = L.marker(\n",
       "                [23.098029367090493, -82.26549627264866],\n",
       "                {\n",
       "}\n",
       "            ).addTo(map_25b1f90f2fd0c40419c04f1962b5ebc6);\n",
       "        \n",
       "    \n",
       "            var icon_5ae959aede270deb310d664640b3b95c = L.AwesomeMarkers.icon(\n",
       "                {\n",
       "  &quot;markerColor&quot;: &quot;red&quot;,\n",
       "  &quot;iconColor&quot;: &quot;white&quot;,\n",
       "  &quot;icon&quot;: &quot;cutlery&quot;,\n",
       "  &quot;prefix&quot;: &quot;fa&quot;,\n",
       "  &quot;extraClasses&quot;: &quot;fa-rotate-0&quot;,\n",
       "}\n",
       "            );\n",
       "            marker_221907530e157ab366698b15096df84c.setIcon(icon_5ae959aede270deb310d664640b3b95c);\n",
       "        \n",
       "    \n",
       "        var popup_e26c911da4c8f42074e261962b44a27c = L.popup({\n",
       "  &quot;maxWidth&quot;: &quot;100%&quot;,\n",
       "});\n",
       "\n",
       "        \n",
       "            \n",
       "                var html_e9ff3afb10fcb8726b983d2b168bb5e8 = $(`&lt;div id=&quot;html_e9ff3afb10fcb8726b983d2b168bb5e8&quot; style=&quot;width: 100.0%; height: 100.0%;&quot;&gt;(&quot;&lt;b style=&#x27;font-size: 18px; &#x27;&gt;Anillo Habanero&lt;/b&gt;&lt;br&gt;Direccion: Primer Anillo de La Habana&quot;, &quot;Especialidades: [&#x27;criolla&#x27;, &#x27;pizzas&#x27;, &#x27;cócteles&#x27;, &#x27;pastas&#x27;]&quot;)&lt;/div&gt;`)[0];\n",
       "                popup_e26c911da4c8f42074e261962b44a27c.setContent(html_e9ff3afb10fcb8726b983d2b168bb5e8);\n",
       "            \n",
       "        \n",
       "\n",
       "        marker_221907530e157ab366698b15096df84c.bindPopup(popup_e26c911da4c8f42074e261962b44a27c)\n",
       "        ;\n",
       "\n",
       "        \n",
       "    \n",
       "    \n",
       "            var marker_f0c2c71cdbd84a5f1c070a1d68695fc2 = L.marker(\n",
       "                [23.141692369054233, -82.35521570333256],\n",
       "                {\n",
       "}\n",
       "            ).addTo(map_25b1f90f2fd0c40419c04f1962b5ebc6);\n",
       "        \n",
       "    \n",
       "            var icon_93dad03d1585437b54af758b07e9d67e = L.AwesomeMarkers.icon(\n",
       "                {\n",
       "  &quot;markerColor&quot;: &quot;red&quot;,\n",
       "  &quot;iconColor&quot;: &quot;white&quot;,\n",
       "  &quot;icon&quot;: &quot;cutlery&quot;,\n",
       "  &quot;prefix&quot;: &quot;fa&quot;,\n",
       "  &quot;extraClasses&quot;: &quot;fa-rotate-0&quot;,\n",
       "}\n",
       "            );\n",
       "            marker_f0c2c71cdbd84a5f1c070a1d68695fc2.setIcon(icon_93dad03d1585437b54af758b07e9d67e);\n",
       "        \n",
       "    \n",
       "        var popup_ba4129589a06b8e2ff26ad3ed0677589 = L.popup({\n",
       "  &quot;maxWidth&quot;: &quot;100%&quot;,\n",
       "});\n",
       "\n",
       "        \n",
       "            \n",
       "                var html_565813e8c9e714d38e0e8e360a08c7f7 = $(`&lt;div id=&quot;html_565813e8c9e714d38e0e8e360a08c7f7&quot; style=&quot;width: 100.0%; height: 100.0%;&quot;&gt;(&quot;&lt;b style=&#x27;font-size: 18px; &#x27;&gt;Antojos&lt;/b&gt;&lt;br&gt;Direccion: Callejón Espada entre Cuarteles y Chacon&quot;, &quot;Especialidades: [&#x27;Caribeña, Latina, Cubana, Centroamericana&#x27;]&quot;)&lt;/div&gt;`)[0];\n",
       "                popup_ba4129589a06b8e2ff26ad3ed0677589.setContent(html_565813e8c9e714d38e0e8e360a08c7f7);\n",
       "            \n",
       "        \n",
       "\n",
       "        marker_f0c2c71cdbd84a5f1c070a1d68695fc2.bindPopup(popup_ba4129589a06b8e2ff26ad3ed0677589)\n",
       "        ;\n",
       "\n",
       "        \n",
       "    \n",
       "    \n",
       "            var marker_1c2aaf5b877a07361a94ff87c840278c = L.marker(\n",
       "                [23.128711947642273, -82.39676637467788],\n",
       "                {\n",
       "}\n",
       "            ).addTo(map_25b1f90f2fd0c40419c04f1962b5ebc6);\n",
       "        \n",
       "    \n",
       "            var icon_126789b1480b87675b26649a398e18e7 = L.AwesomeMarkers.icon(\n",
       "                {\n",
       "  &quot;markerColor&quot;: &quot;red&quot;,\n",
       "  &quot;iconColor&quot;: &quot;white&quot;,\n",
       "  &quot;icon&quot;: &quot;cutlery&quot;,\n",
       "  &quot;prefix&quot;: &quot;fa&quot;,\n",
       "  &quot;extraClasses&quot;: &quot;fa-rotate-0&quot;,\n",
       "}\n",
       "            );\n",
       "            marker_1c2aaf5b877a07361a94ff87c840278c.setIcon(icon_126789b1480b87675b26649a398e18e7);\n",
       "        \n",
       "    \n",
       "        var popup_21a307fee6963ce95c52513caa702221 = L.popup({\n",
       "  &quot;maxWidth&quot;: &quot;100%&quot;,\n",
       "});\n",
       "\n",
       "        \n",
       "            \n",
       "                var html_261535258c71a428c5373a3b2928cdfd = $(`&lt;div id=&quot;html_261535258c71a428c5373a3b2928cdfd&quot; style=&quot;width: 100.0%; height: 100.0%;&quot;&gt;(&quot;&lt;b style=&#x27;font-size: 18px; &#x27;&gt;Asia Cuba&lt;/b&gt;&lt;br&gt;Direccion:  Calle 6 ##562 entre 23 y 25, Vedado&quot;, &quot;Especialidades: [&#x27;Comida asiática&#x27;]&quot;)&lt;/div&gt;`)[0];\n",
       "                popup_21a307fee6963ce95c52513caa702221.setContent(html_261535258c71a428c5373a3b2928cdfd);\n",
       "            \n",
       "        \n",
       "\n",
       "        marker_1c2aaf5b877a07361a94ff87c840278c.bindPopup(popup_21a307fee6963ce95c52513caa702221)\n",
       "        ;\n",
       "\n",
       "        \n",
       "    \n",
       "    \n",
       "            var marker_2459fbdec32c4b7ec79b70fe3a95a452 = L.marker(\n",
       "                [23.075224743679176, -82.35820577444514],\n",
       "                {\n",
       "}\n",
       "            ).addTo(map_25b1f90f2fd0c40419c04f1962b5ebc6);\n",
       "        \n",
       "    \n",
       "            var icon_fd3a404fde2fc84496c5ce94dc38f088 = L.AwesomeMarkers.icon(\n",
       "                {\n",
       "  &quot;markerColor&quot;: &quot;red&quot;,\n",
       "  &quot;iconColor&quot;: &quot;white&quot;,\n",
       "  &quot;icon&quot;: &quot;cutlery&quot;,\n",
       "  &quot;prefix&quot;: &quot;fa&quot;,\n",
       "  &quot;extraClasses&quot;: &quot;fa-rotate-0&quot;,\n",
       "}\n",
       "            );\n",
       "            marker_2459fbdec32c4b7ec79b70fe3a95a452.setIcon(icon_fd3a404fde2fc84496c5ce94dc38f088);\n",
       "        \n",
       "    \n",
       "        var popup_b33bd84eac1ab5469356288f10d13f0e = L.popup({\n",
       "  &quot;maxWidth&quot;: &quot;100%&quot;,\n",
       "});\n",
       "\n",
       "        \n",
       "            \n",
       "                var html_c055014da3630af429ecf21e35009f2b = $(`&lt;div id=&quot;html_c055014da3630af429ecf21e35009f2b&quot; style=&quot;width: 100.0%; height: 100.0%;&quot;&gt;(&quot;&lt;b style=&#x27;font-size: 18px; &#x27;&gt;Atlanta&lt;/b&gt;&lt;br&gt;Direccion: Atlanta #9, entre Calzada de Porvenir y Calzada de 10 de octubre, La Palma&quot;, &quot;Especialidades: [&#x27;cubana&#x27;, &#x27;variada&#x27;]&quot;)&lt;/div&gt;`)[0];\n",
       "                popup_b33bd84eac1ab5469356288f10d13f0e.setContent(html_c055014da3630af429ecf21e35009f2b);\n",
       "            \n",
       "        \n",
       "\n",
       "        marker_2459fbdec32c4b7ec79b70fe3a95a452.bindPopup(popup_b33bd84eac1ab5469356288f10d13f0e)\n",
       "        ;\n",
       "\n",
       "        \n",
       "    \n",
       "    \n",
       "            var marker_6742e542ba6a5e72cec4726f1d8b2603 = L.marker(\n",
       "                [23.088464573775177, -82.36604223216956],\n",
       "                {\n",
       "}\n",
       "            ).addTo(map_25b1f90f2fd0c40419c04f1962b5ebc6);\n",
       "        \n",
       "    \n",
       "            var icon_e96279ffd2b8268c949c0b225c276414 = L.AwesomeMarkers.icon(\n",
       "                {\n",
       "  &quot;markerColor&quot;: &quot;red&quot;,\n",
       "  &quot;iconColor&quot;: &quot;white&quot;,\n",
       "  &quot;icon&quot;: &quot;cutlery&quot;,\n",
       "  &quot;prefix&quot;: &quot;fa&quot;,\n",
       "  &quot;extraClasses&quot;: &quot;fa-rotate-0&quot;,\n",
       "}\n",
       "            );\n",
       "            marker_6742e542ba6a5e72cec4726f1d8b2603.setIcon(icon_e96279ffd2b8268c949c0b225c276414);\n",
       "        \n",
       "    \n",
       "        var popup_d4f9ecd7a77e3ab2c796a124b984bf7c = L.popup({\n",
       "  &quot;maxWidth&quot;: &quot;100%&quot;,\n",
       "});\n",
       "\n",
       "        \n",
       "            \n",
       "                var html_38bb8b0bb8ea6d8b2140629983186eec = $(`&lt;div id=&quot;html_38bb8b0bb8ea6d8b2140629983186eec&quot; style=&quot;width: 100.0%; height: 100.0%;&quot;&gt;(&quot;&lt;b style=&#x27;font-size: 18px; &#x27;&gt;Atraccion&lt;/b&gt;&lt;br&gt;Direccion: Calzada de Diez de Octubre % Acosta y O&#x27;Farril&quot;, &quot;Especialidades: [&#x27;internacional&#x27;, &#x27;cubana&#x27;]&quot;)&lt;/div&gt;`)[0];\n",
       "                popup_d4f9ecd7a77e3ab2c796a124b984bf7c.setContent(html_38bb8b0bb8ea6d8b2140629983186eec);\n",
       "            \n",
       "        \n",
       "\n",
       "        marker_6742e542ba6a5e72cec4726f1d8b2603.bindPopup(popup_d4f9ecd7a77e3ab2c796a124b984bf7c)\n",
       "        ;\n",
       "\n",
       "        \n",
       "    \n",
       "    \n",
       "            var marker_f67c9e754348f40adb622e1816463ff0 = L.marker(\n",
       "                [23.10839233920283, -82.36557643771737],\n",
       "                {\n",
       "}\n",
       "            ).addTo(map_25b1f90f2fd0c40419c04f1962b5ebc6);\n",
       "        \n",
       "    \n",
       "            var icon_1ae0bbcbc2def28695c5cb5ab462ba79 = L.AwesomeMarkers.icon(\n",
       "                {\n",
       "  &quot;markerColor&quot;: &quot;red&quot;,\n",
       "  &quot;iconColor&quot;: &quot;white&quot;,\n",
       "  &quot;icon&quot;: &quot;cutlery&quot;,\n",
       "  &quot;prefix&quot;: &quot;fa&quot;,\n",
       "  &quot;extraClasses&quot;: &quot;fa-rotate-0&quot;,\n",
       "}\n",
       "            );\n",
       "            marker_f67c9e754348f40adb622e1816463ff0.setIcon(icon_1ae0bbcbc2def28695c5cb5ab462ba79);\n",
       "        \n",
       "    \n",
       "        var popup_f30688d2b525519ad48f0e5fd413c8e2 = L.popup({\n",
       "  &quot;maxWidth&quot;: &quot;100%&quot;,\n",
       "});\n",
       "\n",
       "        \n",
       "            \n",
       "                var html_34399a4093e6fa28c7d5d9f288910a59 = $(`&lt;div id=&quot;html_34399a4093e6fa28c7d5d9f288910a59&quot; style=&quot;width: 100.0%; height: 100.0%;&quot;&gt;(&quot;&lt;b style=&#x27;font-size: 18px; &#x27;&gt;Bar Pacto Secreto&lt;/b&gt;&lt;br&gt;Direccion: Calzada de 10 de Octubre #417 entre Calzada de Luyano y San Nicolas&quot;, &quot;Especialidades: [&#x27;cubana&#x27;, &#x27;comida rapida&#x27;]&quot;)&lt;/div&gt;`)[0];\n",
       "                popup_f30688d2b525519ad48f0e5fd413c8e2.setContent(html_34399a4093e6fa28c7d5d9f288910a59);\n",
       "            \n",
       "        \n",
       "\n",
       "        marker_f67c9e754348f40adb622e1816463ff0.bindPopup(popup_f30688d2b525519ad48f0e5fd413c8e2)\n",
       "        ;\n",
       "\n",
       "        \n",
       "    \n",
       "    \n",
       "            var marker_437d13cffa3caf1eb4c50970bd0727db = L.marker(\n",
       "                [23.09621726454522, -82.37460170946824],\n",
       "                {\n",
       "}\n",
       "            ).addTo(map_25b1f90f2fd0c40419c04f1962b5ebc6);\n",
       "        \n",
       "    \n",
       "            var icon_9aab03dd7364fd9a5125ae72d5a8c223 = L.AwesomeMarkers.icon(\n",
       "                {\n",
       "  &quot;markerColor&quot;: &quot;red&quot;,\n",
       "  &quot;iconColor&quot;: &quot;white&quot;,\n",
       "  &quot;icon&quot;: &quot;cutlery&quot;,\n",
       "  &quot;prefix&quot;: &quot;fa&quot;,\n",
       "  &quot;extraClasses&quot;: &quot;fa-rotate-0&quot;,\n",
       "}\n",
       "            );\n",
       "            marker_437d13cffa3caf1eb4c50970bd0727db.setIcon(icon_9aab03dd7364fd9a5125ae72d5a8c223);\n",
       "        \n",
       "    \n",
       "        var popup_e1eff1b07fced749c4013f0c416201af = L.popup({\n",
       "  &quot;maxWidth&quot;: &quot;100%&quot;,\n",
       "});\n",
       "\n",
       "        \n",
       "            \n",
       "                var html_0eb9dfe5523584694cef5b42202b6c22 = $(`&lt;div id=&quot;html_0eb9dfe5523584694cef5b42202b6c22&quot; style=&quot;width: 100.0%; height: 100.0%;&quot;&gt;(&quot;&lt;b style=&#x27;font-size: 18px; &#x27;&gt;Bar Secret Garden&lt;/b&gt;&lt;br&gt;Direccion: Boutique VOYA Habana, #255, Calle Juan Delgado entre Santa Catalina y Milagros, Santos Suarez&quot;, &quot;Especialidades: [&#x27;Cocina mixta&#x27;]&quot;)&lt;/div&gt;`)[0];\n",
       "                popup_e1eff1b07fced749c4013f0c416201af.setContent(html_0eb9dfe5523584694cef5b42202b6c22);\n",
       "            \n",
       "        \n",
       "\n",
       "        marker_437d13cffa3caf1eb4c50970bd0727db.bindPopup(popup_e1eff1b07fced749c4013f0c416201af)\n",
       "        ;\n",
       "\n",
       "        \n",
       "    \n",
       "    \n",
       "            var marker_545ee56c1a1fe7ef54b06afd61f80816 = L.marker(\n",
       "                [23.08127313197817, -82.32409134565678],\n",
       "                {\n",
       "}\n",
       "            ).addTo(map_25b1f90f2fd0c40419c04f1962b5ebc6);\n",
       "        \n",
       "    \n",
       "            var icon_978d63e49666e3e651118be1d0e8f025 = L.AwesomeMarkers.icon(\n",
       "                {\n",
       "  &quot;markerColor&quot;: &quot;red&quot;,\n",
       "  &quot;iconColor&quot;: &quot;white&quot;,\n",
       "  &quot;icon&quot;: &quot;cutlery&quot;,\n",
       "  &quot;prefix&quot;: &quot;fa&quot;,\n",
       "  &quot;extraClasses&quot;: &quot;fa-rotate-0&quot;,\n",
       "}\n",
       "            );\n",
       "            marker_545ee56c1a1fe7ef54b06afd61f80816.setIcon(icon_978d63e49666e3e651118be1d0e8f025);\n",
       "        \n",
       "    \n",
       "        var popup_4edc4e3b9307eea1b70996f630843730 = L.popup({\n",
       "  &quot;maxWidth&quot;: &quot;100%&quot;,\n",
       "});\n",
       "\n",
       "        \n",
       "            \n",
       "                var html_45e97f96811e928bdde0c075eb24479a = $(`&lt;div id=&quot;html_45e97f96811e928bdde0c075eb24479a&quot; style=&quot;width: 100.0%; height: 100.0%;&quot;&gt;(&quot;&lt;b style=&#x27;font-size: 18px; &#x27;&gt;Bar Colina&lt;/b&gt;&lt;br&gt;Direccion: esquina b y calzada de guines reparto merceditas&quot;, &quot;Especialidades: [&#x27;italiana&#x27;]&quot;)&lt;/div&gt;`)[0];\n",
       "                popup_4edc4e3b9307eea1b70996f630843730.setContent(html_45e97f96811e928bdde0c075eb24479a);\n",
       "            \n",
       "        \n",
       "\n",
       "        marker_545ee56c1a1fe7ef54b06afd61f80816.bindPopup(popup_4edc4e3b9307eea1b70996f630843730)\n",
       "        ;\n",
       "\n",
       "        \n",
       "    \n",
       "    \n",
       "            var marker_23516d357624f7f09c092047f567c4b5 = L.marker(\n",
       "                [23.140052255362068, -82.37802867469266],\n",
       "                {\n",
       "}\n",
       "            ).addTo(map_25b1f90f2fd0c40419c04f1962b5ebc6);\n",
       "        \n",
       "    \n",
       "            var icon_d09d73320cb97b48d8a458ff6b635ff8 = L.AwesomeMarkers.icon(\n",
       "                {\n",
       "  &quot;markerColor&quot;: &quot;red&quot;,\n",
       "  &quot;iconColor&quot;: &quot;white&quot;,\n",
       "  &quot;icon&quot;: &quot;cutlery&quot;,\n",
       "  &quot;prefix&quot;: &quot;fa&quot;,\n",
       "  &quot;extraClasses&quot;: &quot;fa-rotate-0&quot;,\n",
       "}\n",
       "            );\n",
       "            marker_23516d357624f7f09c092047f567c4b5.setIcon(icon_d09d73320cb97b48d8a458ff6b635ff8);\n",
       "        \n",
       "    \n",
       "        var popup_c5ca47087cbda7870aedd08dab144ccb = L.popup({\n",
       "  &quot;maxWidth&quot;: &quot;100%&quot;,\n",
       "});\n",
       "\n",
       "        \n",
       "            \n",
       "                var html_c71a2f0d3bf89fd8a71a9a753c9a0842 = $(`&lt;div id=&quot;html_c71a2f0d3bf89fd8a71a9a753c9a0842&quot; style=&quot;width: 100.0%; height: 100.0%;&quot;&gt;(&quot;&lt;b style=&#x27;font-size: 18px; &#x27;&gt;Macarena&lt;/b&gt;&lt;br&gt;Direccion: Calle Vapor No.168 altos entre Espada y San Fransisco&quot;, &quot;Especialidades: [&#x27;Entrantes&#x27;, &#x27;Cockteles&#x27;]&quot;)&lt;/div&gt;`)[0];\n",
       "                popup_c5ca47087cbda7870aedd08dab144ccb.setContent(html_c71a2f0d3bf89fd8a71a9a753c9a0842);\n",
       "            \n",
       "        \n",
       "\n",
       "        marker_23516d357624f7f09c092047f567c4b5.bindPopup(popup_c5ca47087cbda7870aedd08dab144ccb)\n",
       "        ;\n",
       "\n",
       "        \n",
       "    \n",
       "    \n",
       "            var marker_7462493bd8d10d6ba44f0df52caaf340 = L.marker(\n",
       "                [23.094616836132214, -82.4191641263218],\n",
       "                {\n",
       "}\n",
       "            ).addTo(map_25b1f90f2fd0c40419c04f1962b5ebc6);\n",
       "        \n",
       "    \n",
       "            var icon_218ebf1fa50ad10803be3a2a6ed29409 = L.AwesomeMarkers.icon(\n",
       "                {\n",
       "  &quot;markerColor&quot;: &quot;red&quot;,\n",
       "  &quot;iconColor&quot;: &quot;white&quot;,\n",
       "  &quot;icon&quot;: &quot;cutlery&quot;,\n",
       "  &quot;prefix&quot;: &quot;fa&quot;,\n",
       "  &quot;extraClasses&quot;: &quot;fa-rotate-0&quot;,\n",
       "}\n",
       "            );\n",
       "            marker_7462493bd8d10d6ba44f0df52caaf340.setIcon(icon_218ebf1fa50ad10803be3a2a6ed29409);\n",
       "        \n",
       "    \n",
       "        var popup_8c7fdfc34e2bf7426dc4496ecb9dc1df = L.popup({\n",
       "  &quot;maxWidth&quot;: &quot;100%&quot;,\n",
       "});\n",
       "\n",
       "        \n",
       "            \n",
       "                var html_1c444b76f2a8a6a049b7da8da3bcbf36 = $(`&lt;div id=&quot;html_1c444b76f2a8a6a049b7da8da3bcbf36&quot; style=&quot;width: 100.0%; height: 100.0%;&quot;&gt;(&quot;&lt;b style=&#x27;font-size: 18px; &#x27;&gt;Bar Tropicana&lt;/b&gt;&lt;br&gt;Direccion: 72A,Avenida 41&quot;, &#x27;Especialidades: [None]&#x27;)&lt;/div&gt;`)[0];\n",
       "                popup_8c7fdfc34e2bf7426dc4496ecb9dc1df.setContent(html_1c444b76f2a8a6a049b7da8da3bcbf36);\n",
       "            \n",
       "        \n",
       "\n",
       "        marker_7462493bd8d10d6ba44f0df52caaf340.bindPopup(popup_8c7fdfc34e2bf7426dc4496ecb9dc1df)\n",
       "        ;\n",
       "\n",
       "        \n",
       "    \n",
       "    \n",
       "            var marker_98e4df3c5bbdeea239de2b5911dd40d5 = L.marker(\n",
       "                [23.165980531256245, -82.28267095911482],\n",
       "                {\n",
       "}\n",
       "            ).addTo(map_25b1f90f2fd0c40419c04f1962b5ebc6);\n",
       "        \n",
       "    \n",
       "            var icon_9f79248653f65c4dbb3340a1adc92e40 = L.AwesomeMarkers.icon(\n",
       "                {\n",
       "  &quot;markerColor&quot;: &quot;red&quot;,\n",
       "  &quot;iconColor&quot;: &quot;white&quot;,\n",
       "  &quot;icon&quot;: &quot;cutlery&quot;,\n",
       "  &quot;prefix&quot;: &quot;fa&quot;,\n",
       "  &quot;extraClasses&quot;: &quot;fa-rotate-0&quot;,\n",
       "}\n",
       "            );\n",
       "            marker_98e4df3c5bbdeea239de2b5911dd40d5.setIcon(icon_9f79248653f65c4dbb3340a1adc92e40);\n",
       "        \n",
       "    \n",
       "        var popup_a2a24ca232f2548f8bf7d3329ad3956b = L.popup({\n",
       "  &quot;maxWidth&quot;: &quot;100%&quot;,\n",
       "});\n",
       "\n",
       "        \n",
       "            \n",
       "                var html_8d8aae8b308cdb88c64daf7fcaa27a5b = $(`&lt;div id=&quot;html_8d8aae8b308cdb88c64daf7fcaa27a5b&quot; style=&quot;width: 100.0%; height: 100.0%;&quot;&gt;(&quot;&lt;b style=&#x27;font-size: 18px; &#x27;&gt;Beer para creer&lt;/b&gt;&lt;br&gt;Direccion: Centro comercial Falcon, Alamar&quot;, &quot;Especialidades: [&#x27;Comida mixta&#x27;]&quot;)&lt;/div&gt;`)[0];\n",
       "                popup_a2a24ca232f2548f8bf7d3329ad3956b.setContent(html_8d8aae8b308cdb88c64daf7fcaa27a5b);\n",
       "            \n",
       "        \n",
       "\n",
       "        marker_98e4df3c5bbdeea239de2b5911dd40d5.bindPopup(popup_a2a24ca232f2548f8bf7d3329ad3956b)\n",
       "        ;\n",
       "\n",
       "        \n",
       "    \n",
       "    \n",
       "            var marker_e526762d013135658b9996acd5c7b768 = L.marker(\n",
       "                [23.14134074581821, -82.40118351396043],\n",
       "                {\n",
       "}\n",
       "            ).addTo(map_25b1f90f2fd0c40419c04f1962b5ebc6);\n",
       "        \n",
       "    \n",
       "            var icon_5653c6cc0d7b65eed50134a92bb63a6a = L.AwesomeMarkers.icon(\n",
       "                {\n",
       "  &quot;markerColor&quot;: &quot;red&quot;,\n",
       "  &quot;iconColor&quot;: &quot;white&quot;,\n",
       "  &quot;icon&quot;: &quot;cutlery&quot;,\n",
       "  &quot;prefix&quot;: &quot;fa&quot;,\n",
       "  &quot;extraClasses&quot;: &quot;fa-rotate-0&quot;,\n",
       "}\n",
       "            );\n",
       "            marker_e526762d013135658b9996acd5c7b768.setIcon(icon_5653c6cc0d7b65eed50134a92bb63a6a);\n",
       "        \n",
       "    \n",
       "        var popup_ff2562417578b77fc333ad367de47e9f = L.popup({\n",
       "  &quot;maxWidth&quot;: &quot;100%&quot;,\n",
       "});\n",
       "\n",
       "        \n",
       "            \n",
       "                var html_684badd2fd34ce448bc12d62ffbebd4d = $(`&lt;div id=&quot;html_684badd2fd34ce448bc12d62ffbebd4d&quot; style=&quot;width: 100.0%; height: 100.0%;&quot;&gt;(&quot;&lt;b style=&#x27;font-size: 18px; &#x27;&gt;Beirut&lt;/b&gt;&lt;br&gt;Direccion: Calle 1ra entre A y B, Vedado&quot;, &quot;Especialidades: [&#x27;Comida libanesa&#x27;, &#x27;de oriente medio&#x27;]&quot;)&lt;/div&gt;`)[0];\n",
       "                popup_ff2562417578b77fc333ad367de47e9f.setContent(html_684badd2fd34ce448bc12d62ffbebd4d);\n",
       "            \n",
       "        \n",
       "\n",
       "        marker_e526762d013135658b9996acd5c7b768.bindPopup(popup_ff2562417578b77fc333ad367de47e9f)\n",
       "        ;\n",
       "\n",
       "        \n",
       "    \n",
       "    \n",
       "            var marker_1e68125be7505e5e2313307bf6670098 = L.marker(\n",
       "                [23.122358280018755, -82.40455260333313],\n",
       "                {\n",
       "}\n",
       "            ).addTo(map_25b1f90f2fd0c40419c04f1962b5ebc6);\n",
       "        \n",
       "    \n",
       "            var icon_a21997b4b7d1b3e35a4f5c00902fd26d = L.AwesomeMarkers.icon(\n",
       "                {\n",
       "  &quot;markerColor&quot;: &quot;red&quot;,\n",
       "  &quot;iconColor&quot;: &quot;white&quot;,\n",
       "  &quot;icon&quot;: &quot;cutlery&quot;,\n",
       "  &quot;prefix&quot;: &quot;fa&quot;,\n",
       "  &quot;extraClasses&quot;: &quot;fa-rotate-0&quot;,\n",
       "}\n",
       "            );\n",
       "            marker_1e68125be7505e5e2313307bf6670098.setIcon(icon_a21997b4b7d1b3e35a4f5c00902fd26d);\n",
       "        \n",
       "    \n",
       "        var popup_11a2ea052a91cd42bbe7d0d3057153a3 = L.popup({\n",
       "  &quot;maxWidth&quot;: &quot;100%&quot;,\n",
       "});\n",
       "\n",
       "        \n",
       "            \n",
       "                var html_650db801062aab15558bf8a6c5bce8c8 = $(`&lt;div id=&quot;html_650db801062aab15558bf8a6c5bce8c8&quot; style=&quot;width: 100.0%; height: 100.0%;&quot;&gt;(&quot;&lt;b style=&#x27;font-size: 18px; &#x27;&gt;Bodegon del Asado&lt;/b&gt;&lt;br&gt;Direccion: Calle 24, No 418, e / 23 y 25, Vedado&quot;, &quot;Especialidades: [&#x27;Comida cubana&#x27;, &#x27;criolla&#x27;, &#x27;italiana&#x27;]&quot;)&lt;/div&gt;`)[0];\n",
       "                popup_11a2ea052a91cd42bbe7d0d3057153a3.setContent(html_650db801062aab15558bf8a6c5bce8c8);\n",
       "            \n",
       "        \n",
       "\n",
       "        marker_1e68125be7505e5e2313307bf6670098.bindPopup(popup_11a2ea052a91cd42bbe7d0d3057153a3)\n",
       "        ;\n",
       "\n",
       "        \n",
       "    \n",
       "    \n",
       "            var marker_79c9fd30ac66fe2a62c9a872c72e9ee2 = L.marker(\n",
       "                [23.13336490258953, -82.39873911512949],\n",
       "                {\n",
       "}\n",
       "            ).addTo(map_25b1f90f2fd0c40419c04f1962b5ebc6);\n",
       "        \n",
       "    \n",
       "            var icon_003da9a740238d3ffdf298f5185efd53 = L.AwesomeMarkers.icon(\n",
       "                {\n",
       "  &quot;markerColor&quot;: &quot;red&quot;,\n",
       "  &quot;iconColor&quot;: &quot;white&quot;,\n",
       "  &quot;icon&quot;: &quot;cutlery&quot;,\n",
       "  &quot;prefix&quot;: &quot;fa&quot;,\n",
       "  &quot;extraClasses&quot;: &quot;fa-rotate-0&quot;,\n",
       "}\n",
       "            );\n",
       "            marker_79c9fd30ac66fe2a62c9a872c72e9ee2.setIcon(icon_003da9a740238d3ffdf298f5185efd53);\n",
       "        \n",
       "    \n",
       "        var popup_060c9f807f92f713abda6274880415d8 = L.popup({\n",
       "  &quot;maxWidth&quot;: &quot;100%&quot;,\n",
       "});\n",
       "\n",
       "        \n",
       "            \n",
       "                var html_199a8e2d5c6da6149bded4f40731e25a = $(`&lt;div id=&quot;html_199a8e2d5c6da6149bded4f40731e25a&quot; style=&quot;width: 100.0%; height: 100.0%;&quot;&gt;(&quot;&lt;b style=&#x27;font-size: 18px; &#x27;&gt;Bohio Mercadito&lt;/b&gt;&lt;br&gt;Direccion: calle 19 entre 12 y 10, Vedado&quot;, &quot;Especialidades: [&#x27;Bar&#x27;, &#x27;Americana&#x27;]&quot;)&lt;/div&gt;`)[0];\n",
       "                popup_060c9f807f92f713abda6274880415d8.setContent(html_199a8e2d5c6da6149bded4f40731e25a);\n",
       "            \n",
       "        \n",
       "\n",
       "        marker_79c9fd30ac66fe2a62c9a872c72e9ee2.bindPopup(popup_060c9f807f92f713abda6274880415d8)\n",
       "        ;\n",
       "\n",
       "        \n",
       "    \n",
       "    \n",
       "            var marker_dc1dc35ec2aa9d3039f1bd8255760996 = L.marker(\n",
       "                [23.137509028109648, -82.35967851702206],\n",
       "                {\n",
       "}\n",
       "            ).addTo(map_25b1f90f2fd0c40419c04f1962b5ebc6);\n",
       "        \n",
       "    \n",
       "            var icon_43d9114355f571b627cd84b96e2442c0 = L.AwesomeMarkers.icon(\n",
       "                {\n",
       "  &quot;markerColor&quot;: &quot;red&quot;,\n",
       "  &quot;iconColor&quot;: &quot;white&quot;,\n",
       "  &quot;icon&quot;: &quot;cutlery&quot;,\n",
       "  &quot;prefix&quot;: &quot;fa&quot;,\n",
       "  &quot;extraClasses&quot;: &quot;fa-rotate-0&quot;,\n",
       "}\n",
       "            );\n",
       "            marker_dc1dc35ec2aa9d3039f1bd8255760996.setIcon(icon_43d9114355f571b627cd84b96e2442c0);\n",
       "        \n",
       "    \n",
       "        var popup_a8030e6219230f5d9285c3ba984c9bf3 = L.popup({\n",
       "  &quot;maxWidth&quot;: &quot;100%&quot;,\n",
       "});\n",
       "\n",
       "        \n",
       "            \n",
       "                var html_e234bb4c758e512148386c74204d11cc = $(`&lt;div id=&quot;html_e234bb4c758e512148386c74204d11cc&quot; style=&quot;width: 100.0%; height: 100.0%;&quot;&gt;(&quot;&lt;b style=&#x27;font-size: 18px; &#x27;&gt;Bone Ma 62&lt;/b&gt;&lt;br&gt;Direccion: Bulevar de San Rafael entre Prado y Consulado&quot;, &quot;Especialidades: [&#x27;Comida Cubana&#x27;]&quot;)&lt;/div&gt;`)[0];\n",
       "                popup_a8030e6219230f5d9285c3ba984c9bf3.setContent(html_e234bb4c758e512148386c74204d11cc);\n",
       "            \n",
       "        \n",
       "\n",
       "        marker_dc1dc35ec2aa9d3039f1bd8255760996.bindPopup(popup_a8030e6219230f5d9285c3ba984c9bf3)\n",
       "        ;\n",
       "\n",
       "        \n",
       "    \n",
       "    \n",
       "            var marker_9c6a117dde69ea0ed99bf029799ed747 = L.marker(\n",
       "                [23.09615689834022, -82.37467472817552],\n",
       "                {\n",
       "}\n",
       "            ).addTo(map_25b1f90f2fd0c40419c04f1962b5ebc6);\n",
       "        \n",
       "    \n",
       "            var icon_1eb639f1d46e607676a441ac62518e6a = L.AwesomeMarkers.icon(\n",
       "                {\n",
       "  &quot;markerColor&quot;: &quot;red&quot;,\n",
       "  &quot;iconColor&quot;: &quot;white&quot;,\n",
       "  &quot;icon&quot;: &quot;cutlery&quot;,\n",
       "  &quot;prefix&quot;: &quot;fa&quot;,\n",
       "  &quot;extraClasses&quot;: &quot;fa-rotate-0&quot;,\n",
       "}\n",
       "            );\n",
       "            marker_9c6a117dde69ea0ed99bf029799ed747.setIcon(icon_1eb639f1d46e607676a441ac62518e6a);\n",
       "        \n",
       "    \n",
       "        var popup_35d9ec614ccdcb05eecd667c03e840b3 = L.popup({\n",
       "  &quot;maxWidth&quot;: &quot;100%&quot;,\n",
       "});\n",
       "\n",
       "        \n",
       "            \n",
       "                var html_0383f5a34cfaf064d12317e433a3cf11 = $(`&lt;div id=&quot;html_0383f5a34cfaf064d12317e433a3cf11&quot; style=&quot;width: 100.0%; height: 100.0%;&quot;&gt;(&quot;&lt;b style=&#x27;font-size: 18px; &#x27;&gt;Brasserie 255&lt;/b&gt;&lt;br&gt;Direccion: Calle Juan Delgado #255 entre Santa Catalina y Milagros, Santos Suárez&quot;, &quot;Especialidades: [&#x27;cubana&#x27;, &#x27;francesa&#x27;, &#x27;internacional&#x27;]&quot;)&lt;/div&gt;`)[0];\n",
       "                popup_35d9ec614ccdcb05eecd667c03e840b3.setContent(html_0383f5a34cfaf064d12317e433a3cf11);\n",
       "            \n",
       "        \n",
       "\n",
       "        marker_9c6a117dde69ea0ed99bf029799ed747.bindPopup(popup_35d9ec614ccdcb05eecd667c03e840b3)\n",
       "        ;\n",
       "\n",
       "        \n",
       "    \n",
       "    \n",
       "            var marker_ff6ed1d7ed61eafef32dac86efb62f91 = L.marker(\n",
       "                [23.120855356364203, -82.37256464585778],\n",
       "                {\n",
       "}\n",
       "            ).addTo(map_25b1f90f2fd0c40419c04f1962b5ebc6);\n",
       "        \n",
       "    \n",
       "            var icon_a91bfbb3abdfdce321c496a4cd3d4f16 = L.AwesomeMarkers.icon(\n",
       "                {\n",
       "  &quot;markerColor&quot;: &quot;red&quot;,\n",
       "  &quot;iconColor&quot;: &quot;white&quot;,\n",
       "  &quot;icon&quot;: &quot;cutlery&quot;,\n",
       "  &quot;prefix&quot;: &quot;fa&quot;,\n",
       "  &quot;extraClasses&quot;: &quot;fa-rotate-0&quot;,\n",
       "}\n",
       "            );\n",
       "            marker_ff6ed1d7ed61eafef32dac86efb62f91.setIcon(icon_a91bfbb3abdfdce321c496a4cd3d4f16);\n",
       "        \n",
       "    \n",
       "        var popup_da6341ab0e2f32e8284b3d028ca6caab = L.popup({\n",
       "  &quot;maxWidth&quot;: &quot;100%&quot;,\n",
       "});\n",
       "\n",
       "        \n",
       "            \n",
       "                var html_aa13eeee042a81f023896c928f93684c = $(`&lt;div id=&quot;html_aa13eeee042a81f023896c928f93684c&quot; style=&quot;width: 100.0%; height: 100.0%;&quot;&gt;(&quot;&lt;b style=&#x27;font-size: 18px; &#x27;&gt;Brutal Habana&lt;/b&gt;&lt;br&gt;Direccion: Infanta esquina Calle Universidad&quot;, &quot;Especialidades: [&#x27;Comida Americana&#x27;]&quot;)&lt;/div&gt;`)[0];\n",
       "                popup_da6341ab0e2f32e8284b3d028ca6caab.setContent(html_aa13eeee042a81f023896c928f93684c);\n",
       "            \n",
       "        \n",
       "\n",
       "        marker_ff6ed1d7ed61eafef32dac86efb62f91.bindPopup(popup_da6341ab0e2f32e8284b3d028ca6caab)\n",
       "        ;\n",
       "\n",
       "        \n",
       "    \n",
       "    \n",
       "            var marker_833000c1e817529e955c956cd5237df0 = L.marker(\n",
       "                [23.099237749002498, -82.33237415355453],\n",
       "                {\n",
       "}\n",
       "            ).addTo(map_25b1f90f2fd0c40419c04f1962b5ebc6);\n",
       "        \n",
       "    \n",
       "            var icon_25315702fc77c275dfd6792ea95ba967 = L.AwesomeMarkers.icon(\n",
       "                {\n",
       "  &quot;markerColor&quot;: &quot;red&quot;,\n",
       "  &quot;iconColor&quot;: &quot;white&quot;,\n",
       "  &quot;icon&quot;: &quot;cutlery&quot;,\n",
       "  &quot;prefix&quot;: &quot;fa&quot;,\n",
       "  &quot;extraClasses&quot;: &quot;fa-rotate-0&quot;,\n",
       "}\n",
       "            );\n",
       "            marker_833000c1e817529e955c956cd5237df0.setIcon(icon_25315702fc77c275dfd6792ea95ba967);\n",
       "        \n",
       "    \n",
       "        var popup_60e81a327299e5275900244239d49b1f = L.popup({\n",
       "  &quot;maxWidth&quot;: &quot;100%&quot;,\n",
       "});\n",
       "\n",
       "        \n",
       "            \n",
       "                var html_34469521599e185c7c2e019d16e73f4b = $(`&lt;div id=&quot;html_34469521599e185c7c2e019d16e73f4b&quot; style=&quot;width: 100.0%; height: 100.0%;&quot;&gt;(&quot;&lt;b style=&#x27;font-size: 18px; &#x27;&gt;Buena Vibra&lt;/b&gt;&lt;br&gt;Direccion: Esquina Beltran y Vista Hermosa&quot;, &quot;Especialidades: [&#x27;internacional&#x27;, &#x27;criolla&#x27;, &#x27;italiana&#x27;]&quot;)&lt;/div&gt;`)[0];\n",
       "                popup_60e81a327299e5275900244239d49b1f.setContent(html_34469521599e185c7c2e019d16e73f4b);\n",
       "            \n",
       "        \n",
       "\n",
       "        marker_833000c1e817529e955c956cd5237df0.bindPopup(popup_60e81a327299e5275900244239d49b1f)\n",
       "        ;\n",
       "\n",
       "        \n",
       "    \n",
       "    \n",
       "            var marker_eb484139ea44353fec25cbaf04cd4255 = L.marker(\n",
       "                [23.141585728087556, -82.35312284770457],\n",
       "                {\n",
       "}\n",
       "            ).addTo(map_25b1f90f2fd0c40419c04f1962b5ebc6);\n",
       "        \n",
       "    \n",
       "            var icon_1bdd85f74b1ad038d2ee343a7561f9bc = L.AwesomeMarkers.icon(\n",
       "                {\n",
       "  &quot;markerColor&quot;: &quot;red&quot;,\n",
       "  &quot;iconColor&quot;: &quot;white&quot;,\n",
       "  &quot;icon&quot;: &quot;cutlery&quot;,\n",
       "  &quot;prefix&quot;: &quot;fa&quot;,\n",
       "  &quot;extraClasses&quot;: &quot;fa-rotate-0&quot;,\n",
       "}\n",
       "            );\n",
       "            marker_eb484139ea44353fec25cbaf04cd4255.setIcon(icon_1bdd85f74b1ad038d2ee343a7561f9bc);\n",
       "        \n",
       "    \n",
       "        var popup_27f1e53466eba24f79f9f5ca862f2431 = L.popup({\n",
       "  &quot;maxWidth&quot;: &quot;100%&quot;,\n",
       "});\n",
       "\n",
       "        \n",
       "            \n",
       "                var html_e4d0898e1c2e64749ae624a2caec3171 = $(`&lt;div id=&quot;html_e4d0898e1c2e64749ae624a2caec3171&quot; style=&quot;width: 100.0%; height: 100.0%;&quot;&gt;(&quot;&lt;b style=&#x27;font-size: 18px; &#x27;&gt;Buena Vista Curry Club&lt;/b&gt;&lt;br&gt;Direccion: Tejadillo #24 entre Cuba y San Ignacio&quot;, &quot;Especialidades: [&#x27;Indio&#x27;]&quot;)&lt;/div&gt;`)[0];\n",
       "                popup_27f1e53466eba24f79f9f5ca862f2431.setContent(html_e4d0898e1c2e64749ae624a2caec3171);\n",
       "            \n",
       "        \n",
       "\n",
       "        marker_eb484139ea44353fec25cbaf04cd4255.bindPopup(popup_27f1e53466eba24f79f9f5ca862f2431)\n",
       "        ;\n",
       "\n",
       "        \n",
       "    \n",
       "    \n",
       "            var marker_c51f6dcf7e9b2ef63a4292495869c08e = L.marker(\n",
       "                [23.086090107291625, -82.42853148002152],\n",
       "                {\n",
       "}\n",
       "            ).addTo(map_25b1f90f2fd0c40419c04f1962b5ebc6);\n",
       "        \n",
       "    \n",
       "            var icon_98ba6af21d0e6a90242df201355bf4d1 = L.AwesomeMarkers.icon(\n",
       "                {\n",
       "  &quot;markerColor&quot;: &quot;red&quot;,\n",
       "  &quot;iconColor&quot;: &quot;white&quot;,\n",
       "  &quot;icon&quot;: &quot;cutlery&quot;,\n",
       "  &quot;prefix&quot;: &quot;fa&quot;,\n",
       "  &quot;extraClasses&quot;: &quot;fa-rotate-0&quot;,\n",
       "}\n",
       "            );\n",
       "            marker_c51f6dcf7e9b2ef63a4292495869c08e.setIcon(icon_98ba6af21d0e6a90242df201355bf4d1);\n",
       "        \n",
       "    \n",
       "        var popup_2bdc0c871549c430663d95e65aeb4580 = L.popup({\n",
       "  &quot;maxWidth&quot;: &quot;100%&quot;,\n",
       "});\n",
       "\n",
       "        \n",
       "            \n",
       "                var html_ab24fef93e9504ce78f136632c22f985 = $(`&lt;div id=&quot;html_ab24fef93e9504ce78f136632c22f985&quot; style=&quot;width: 100.0%; height: 100.0%;&quot;&gt;(&quot;&lt;b style=&#x27;font-size: 18px; &#x27;&gt;Cafeteria obelisco&lt;/b&gt;&lt;br&gt;Direccion: Avenida 31&quot;, &quot;Especialidades: [&#x27;mixta&#x27;]&quot;)&lt;/div&gt;`)[0];\n",
       "                popup_2bdc0c871549c430663d95e65aeb4580.setContent(html_ab24fef93e9504ce78f136632c22f985);\n",
       "            \n",
       "        \n",
       "\n",
       "        marker_c51f6dcf7e9b2ef63a4292495869c08e.bindPopup(popup_2bdc0c871549c430663d95e65aeb4580)\n",
       "        ;\n",
       "\n",
       "        \n",
       "    \n",
       "    \n",
       "            var marker_d783d1eff787f6578e8cc216a9eb80e8 = L.marker(\n",
       "                [23.052405448223777, -82.4605687],\n",
       "                {\n",
       "}\n",
       "            ).addTo(map_25b1f90f2fd0c40419c04f1962b5ebc6);\n",
       "        \n",
       "    \n",
       "            var icon_13bc0030700b19e732fcac61f67c0aee = L.AwesomeMarkers.icon(\n",
       "                {\n",
       "  &quot;markerColor&quot;: &quot;red&quot;,\n",
       "  &quot;iconColor&quot;: &quot;white&quot;,\n",
       "  &quot;icon&quot;: &quot;cutlery&quot;,\n",
       "  &quot;prefix&quot;: &quot;fa&quot;,\n",
       "  &quot;extraClasses&quot;: &quot;fa-rotate-0&quot;,\n",
       "}\n",
       "            );\n",
       "            marker_d783d1eff787f6578e8cc216a9eb80e8.setIcon(icon_13bc0030700b19e732fcac61f67c0aee);\n",
       "        \n",
       "    \n",
       "        var popup_52124a1c15229689be58b7dda953cd6a = L.popup({\n",
       "  &quot;maxWidth&quot;: &quot;100%&quot;,\n",
       "});\n",
       "\n",
       "        \n",
       "            \n",
       "                var html_3c08cf6165a1296cf9ebc14cf594beea = $(`&lt;div id=&quot;html_3c08cf6165a1296cf9ebc14cf594beea&quot; style=&quot;width: 100.0%; height: 100.0%;&quot;&gt;(&quot;&lt;b style=&#x27;font-size: 18px; &#x27;&gt;Cafe Aroma&lt;/b&gt;&lt;br&gt;Direccion: Calle 244 No. 5106 e/ 51 y 61, San Agustín&quot;, &quot;Especialidades: [&#x27;Mixta&#x27;, &#x27;Cafes&#x27;]&quot;)&lt;/div&gt;`)[0];\n",
       "                popup_52124a1c15229689be58b7dda953cd6a.setContent(html_3c08cf6165a1296cf9ebc14cf594beea);\n",
       "            \n",
       "        \n",
       "\n",
       "        marker_d783d1eff787f6578e8cc216a9eb80e8.bindPopup(popup_52124a1c15229689be58b7dda953cd6a)\n",
       "        ;\n",
       "\n",
       "        \n",
       "    \n",
       "    \n",
       "            var marker_5dd0d6be56d17ac8d5e5da48e4fd9fe6 = L.marker(\n",
       "                [23.136496787602418, -82.36291657498259],\n",
       "                {\n",
       "}\n",
       "            ).addTo(map_25b1f90f2fd0c40419c04f1962b5ebc6);\n",
       "        \n",
       "    \n",
       "            var icon_d79b6a7d644d72a48f9b2dd8e16632af = L.AwesomeMarkers.icon(\n",
       "                {\n",
       "  &quot;markerColor&quot;: &quot;red&quot;,\n",
       "  &quot;iconColor&quot;: &quot;white&quot;,\n",
       "  &quot;icon&quot;: &quot;cutlery&quot;,\n",
       "  &quot;prefix&quot;: &quot;fa&quot;,\n",
       "  &quot;extraClasses&quot;: &quot;fa-rotate-0&quot;,\n",
       "}\n",
       "            );\n",
       "            marker_5dd0d6be56d17ac8d5e5da48e4fd9fe6.setIcon(icon_d79b6a7d644d72a48f9b2dd8e16632af);\n",
       "        \n",
       "    \n",
       "        var popup_82c24c4bb71e1e594b56bfce7936d3fc = L.popup({\n",
       "  &quot;maxWidth&quot;: &quot;100%&quot;,\n",
       "});\n",
       "\n",
       "        \n",
       "            \n",
       "                var html_616c0270ab1205d04e5e8a072f6ac484 = $(`&lt;div id=&quot;html_616c0270ab1205d04e5e8a072f6ac484&quot; style=&quot;width: 100.0%; height: 100.0%;&quot;&gt;(&quot;&lt;b style=&#x27;font-size: 18px; &#x27;&gt;Cafe Bulevar&lt;/b&gt;&lt;br&gt;Direccion: Blvd de San Rafael entre Aguila y Galeano&quot;, &quot;Especialidades: [&#x27;cubana&#x27;]&quot;)&lt;/div&gt;`)[0];\n",
       "                popup_82c24c4bb71e1e594b56bfce7936d3fc.setContent(html_616c0270ab1205d04e5e8a072f6ac484);\n",
       "            \n",
       "        \n",
       "\n",
       "        marker_5dd0d6be56d17ac8d5e5da48e4fd9fe6.bindPopup(popup_82c24c4bb71e1e594b56bfce7936d3fc)\n",
       "        ;\n",
       "\n",
       "        \n",
       "    \n",
       "    \n",
       "            var marker_fac590bb3bd687c16c1c54dfc0271c03 = L.marker(\n",
       "                [23.142000139754025, -82.35554376702197],\n",
       "                {\n",
       "}\n",
       "            ).addTo(map_25b1f90f2fd0c40419c04f1962b5ebc6);\n",
       "        \n",
       "    \n",
       "            var icon_1ba55004a62e8a84757c83b80c7c8123 = L.AwesomeMarkers.icon(\n",
       "                {\n",
       "  &quot;markerColor&quot;: &quot;red&quot;,\n",
       "  &quot;iconColor&quot;: &quot;white&quot;,\n",
       "  &quot;icon&quot;: &quot;cutlery&quot;,\n",
       "  &quot;prefix&quot;: &quot;fa&quot;,\n",
       "  &quot;extraClasses&quot;: &quot;fa-rotate-0&quot;,\n",
       "}\n",
       "            );\n",
       "            marker_fac590bb3bd687c16c1c54dfc0271c03.setIcon(icon_1ba55004a62e8a84757c83b80c7c8123);\n",
       "        \n",
       "    \n",
       "        var popup_cea82f4f6a3e1a21f40a0150066df4a8 = L.popup({\n",
       "  &quot;maxWidth&quot;: &quot;100%&quot;,\n",
       "});\n",
       "\n",
       "        \n",
       "            \n",
       "                var html_a96d2acfa2b7233d9f7447f7ef77d367 = $(`&lt;div id=&quot;html_a96d2acfa2b7233d9f7447f7ef77d367&quot; style=&quot;width: 100.0%; height: 100.0%;&quot;&gt;(&quot;&lt;b style=&#x27;font-size: 18px; &#x27;&gt;Cafe Del Angel&lt;/b&gt;&lt;br&gt;Direccion: Chacon #201 esquina Compostela&quot;, &quot;Especialidades: [&#x27;Cubana&#x27;, &#x27;internacional&#x27;, &#x27;italiana&#x27;]&quot;)&lt;/div&gt;`)[0];\n",
       "                popup_cea82f4f6a3e1a21f40a0150066df4a8.setContent(html_a96d2acfa2b7233d9f7447f7ef77d367);\n",
       "            \n",
       "        \n",
       "\n",
       "        marker_fac590bb3bd687c16c1c54dfc0271c03.bindPopup(popup_cea82f4f6a3e1a21f40a0150066df4a8)\n",
       "        ;\n",
       "\n",
       "        \n",
       "    \n",
       "    \n",
       "            var marker_7602baf33a7c08fd808cbc0a93a3c38d = L.marker(\n",
       "                [23.13903313751219, -82.40074075776106],\n",
       "                {\n",
       "}\n",
       "            ).addTo(map_25b1f90f2fd0c40419c04f1962b5ebc6);\n",
       "        \n",
       "    \n",
       "            var icon_c3b28ac12dc65d8a6fa2d010eb56ce36 = L.AwesomeMarkers.icon(\n",
       "                {\n",
       "  &quot;markerColor&quot;: &quot;red&quot;,\n",
       "  &quot;iconColor&quot;: &quot;white&quot;,\n",
       "  &quot;icon&quot;: &quot;cutlery&quot;,\n",
       "  &quot;prefix&quot;: &quot;fa&quot;,\n",
       "  &quot;extraClasses&quot;: &quot;fa-rotate-0&quot;,\n",
       "}\n",
       "            );\n",
       "            marker_7602baf33a7c08fd808cbc0a93a3c38d.setIcon(icon_c3b28ac12dc65d8a6fa2d010eb56ce36);\n",
       "        \n",
       "    \n",
       "        var popup_af5ed2aaa5c2d954ad21453f490f10f8 = L.popup({\n",
       "  &quot;maxWidth&quot;: &quot;100%&quot;,\n",
       "});\n",
       "\n",
       "        \n",
       "            \n",
       "                var html_2922264d5cb8530cca6d5345b44f9581 = $(`&lt;div id=&quot;html_2922264d5cb8530cca6d5345b44f9581&quot; style=&quot;width: 100.0%; height: 100.0%;&quot;&gt;(&quot;&lt;b style=&#x27;font-size: 18px; &#x27;&gt;Cafe D la Esquina&lt;/b&gt;&lt;br&gt;Direccion: Paseo #101, esq. a 5ta., Vedado&quot;, &quot;Especialidades: [&#x27;Comida cubana&#x27;, &#x27;caribeña&#x27;, &#x27;americana&#x27;]&quot;)&lt;/div&gt;`)[0];\n",
       "                popup_af5ed2aaa5c2d954ad21453f490f10f8.setContent(html_2922264d5cb8530cca6d5345b44f9581);\n",
       "            \n",
       "        \n",
       "\n",
       "        marker_7602baf33a7c08fd808cbc0a93a3c38d.bindPopup(popup_af5ed2aaa5c2d954ad21453f490f10f8)\n",
       "        ;\n",
       "\n",
       "        \n",
       "    \n",
       "    \n",
       "            var marker_7bd0e07fdc9cb6e42c3e95254e8c3f64 = L.marker(\n",
       "                [23.142976203835282, -82.35457077116467],\n",
       "                {\n",
       "}\n",
       "            ).addTo(map_25b1f90f2fd0c40419c04f1962b5ebc6);\n",
       "        \n",
       "    \n",
       "            var icon_86ee3cbacd08c3b68742cbc78c00b6d7 = L.AwesomeMarkers.icon(\n",
       "                {\n",
       "  &quot;markerColor&quot;: &quot;red&quot;,\n",
       "  &quot;iconColor&quot;: &quot;white&quot;,\n",
       "  &quot;icon&quot;: &quot;cutlery&quot;,\n",
       "  &quot;prefix&quot;: &quot;fa&quot;,\n",
       "  &quot;extraClasses&quot;: &quot;fa-rotate-0&quot;,\n",
       "}\n",
       "            );\n",
       "            marker_7bd0e07fdc9cb6e42c3e95254e8c3f64.setIcon(icon_86ee3cbacd08c3b68742cbc78c00b6d7);\n",
       "        \n",
       "    \n",
       "        var popup_d0fd08e0b36e3e85986d6432f05e6da9 = L.popup({\n",
       "  &quot;maxWidth&quot;: &quot;100%&quot;,\n",
       "});\n",
       "\n",
       "        \n",
       "            \n",
       "                var html_2f8d9852ced75f548f898b4b1f11ee5c = $(`&lt;div id=&quot;html_2f8d9852ced75f548f898b4b1f11ee5c&quot; style=&quot;width: 100.0%; height: 100.0%;&quot;&gt;(&quot;&lt;b style=&#x27;font-size: 18px; &#x27;&gt;Cafe Fortuna Joe&lt;/b&gt;&lt;br&gt;Direccion: Aguiar 64 e/ Peña Pobre y Cuarteles&quot;, &quot;Especialidades: [&#x27;Internacional&#x27;, &#x27;Cubana&#x27;]&quot;)&lt;/div&gt;`)[0];\n",
       "                popup_d0fd08e0b36e3e85986d6432f05e6da9.setContent(html_2f8d9852ced75f548f898b4b1f11ee5c);\n",
       "            \n",
       "        \n",
       "\n",
       "        marker_7bd0e07fdc9cb6e42c3e95254e8c3f64.bindPopup(popup_d0fd08e0b36e3e85986d6432f05e6da9)\n",
       "        ;\n",
       "\n",
       "        \n",
       "    \n",
       "    \n",
       "            var marker_570a7d20e05be5d421f2eb47990ffdef = L.marker(\n",
       "                [23.030074211657837, -82.40204237654218],\n",
       "                {\n",
       "}\n",
       "            ).addTo(map_25b1f90f2fd0c40419c04f1962b5ebc6);\n",
       "        \n",
       "    \n",
       "            var icon_92a833693dece0e37624e112bc7804ce = L.AwesomeMarkers.icon(\n",
       "                {\n",
       "  &quot;markerColor&quot;: &quot;red&quot;,\n",
       "  &quot;iconColor&quot;: &quot;white&quot;,\n",
       "  &quot;icon&quot;: &quot;cutlery&quot;,\n",
       "  &quot;prefix&quot;: &quot;fa&quot;,\n",
       "  &quot;extraClasses&quot;: &quot;fa-rotate-0&quot;,\n",
       "}\n",
       "            );\n",
       "            marker_570a7d20e05be5d421f2eb47990ffdef.setIcon(icon_92a833693dece0e37624e112bc7804ce);\n",
       "        \n",
       "    \n",
       "        var popup_5418e817bafc24f19ced1a5641165b9a = L.popup({\n",
       "  &quot;maxWidth&quot;: &quot;100%&quot;,\n",
       "});\n",
       "\n",
       "        \n",
       "            \n",
       "                var html_66a2beef174d6fd993b2b755a06e73e2 = $(`&lt;div id=&quot;html_66a2beef174d6fd993b2b755a06e73e2&quot; style=&quot;width: 100.0%; height: 100.0%;&quot;&gt;(&quot;&lt;b style=&#x27;font-size: 18px; &#x27;&gt;Cafe Tilin&lt;/b&gt;&lt;br&gt;Direccion: Avenida Independencia Km 9 1/2, Fontanar&quot;, &quot;Especialidades: [&#x27;Comida cubana&#x27;, &#x27;internacional&#x27;]&quot;)&lt;/div&gt;`)[0];\n",
       "                popup_5418e817bafc24f19ced1a5641165b9a.setContent(html_66a2beef174d6fd993b2b755a06e73e2);\n",
       "            \n",
       "        \n",
       "\n",
       "        marker_570a7d20e05be5d421f2eb47990ffdef.bindPopup(popup_5418e817bafc24f19ced1a5641165b9a)\n",
       "        ;\n",
       "\n",
       "        \n",
       "    \n",
       "    \n",
       "            var marker_eb80df2ad74666488bc678dd09826814 = L.marker(\n",
       "                [23.0717312546624, -82.3077958289789],\n",
       "                {\n",
       "}\n",
       "            ).addTo(map_25b1f90f2fd0c40419c04f1962b5ebc6);\n",
       "        \n",
       "    \n",
       "            var icon_fa60b7686671d96cfd8721c6fb594607 = L.AwesomeMarkers.icon(\n",
       "                {\n",
       "  &quot;markerColor&quot;: &quot;red&quot;,\n",
       "  &quot;iconColor&quot;: &quot;white&quot;,\n",
       "  &quot;icon&quot;: &quot;cutlery&quot;,\n",
       "  &quot;prefix&quot;: &quot;fa&quot;,\n",
       "  &quot;extraClasses&quot;: &quot;fa-rotate-0&quot;,\n",
       "}\n",
       "            );\n",
       "            marker_eb80df2ad74666488bc678dd09826814.setIcon(icon_fa60b7686671d96cfd8721c6fb594607);\n",
       "        \n",
       "    \n",
       "        var popup_1e91ff3b35c10b6702edf0754bd4c22b = L.popup({\n",
       "  &quot;maxWidth&quot;: &quot;100%&quot;,\n",
       "});\n",
       "\n",
       "        \n",
       "            \n",
       "                var html_b0159c17b1bd983cf696f70e055d0f59 = $(`&lt;div id=&quot;html_b0159c17b1bd983cf696f70e055d0f59&quot; style=&quot;width: 100.0%; height: 100.0%;&quot;&gt;(&quot;&lt;b style=&#x27;font-size: 18px; &#x27;&gt;Café Toscano&lt;/b&gt;&lt;br&gt;Direccion: Calzada de Guines&quot;, &quot;Especialidades: [&#x27;criolla&#x27;, &#x27;italiana&#x27;]&quot;)&lt;/div&gt;`)[0];\n",
       "                popup_1e91ff3b35c10b6702edf0754bd4c22b.setContent(html_b0159c17b1bd983cf696f70e055d0f59);\n",
       "            \n",
       "        \n",
       "\n",
       "        marker_eb80df2ad74666488bc678dd09826814.bindPopup(popup_1e91ff3b35c10b6702edf0754bd4c22b)\n",
       "        ;\n",
       "\n",
       "        \n",
       "    \n",
       "    \n",
       "            var marker_ad704739548b412a706019acf79f0234 = L.marker(\n",
       "                [23.10865762371607, -82.24742188465748],\n",
       "                {\n",
       "}\n",
       "            ).addTo(map_25b1f90f2fd0c40419c04f1962b5ebc6);\n",
       "        \n",
       "    \n",
       "            var icon_c6b2158fd1c442c079cb1c060583cca6 = L.AwesomeMarkers.icon(\n",
       "                {\n",
       "  &quot;markerColor&quot;: &quot;red&quot;,\n",
       "  &quot;iconColor&quot;: &quot;white&quot;,\n",
       "  &quot;icon&quot;: &quot;cutlery&quot;,\n",
       "  &quot;prefix&quot;: &quot;fa&quot;,\n",
       "  &quot;extraClasses&quot;: &quot;fa-rotate-0&quot;,\n",
       "}\n",
       "            );\n",
       "            marker_ad704739548b412a706019acf79f0234.setIcon(icon_c6b2158fd1c442c079cb1c060583cca6);\n",
       "        \n",
       "    \n",
       "        var popup_2cba30e22fa4bbfe47f3f836adeb0eb2 = L.popup({\n",
       "  &quot;maxWidth&quot;: &quot;100%&quot;,\n",
       "});\n",
       "\n",
       "        \n",
       "            \n",
       "                var html_1c3eb39fed55438fbd98468654f7a097 = $(`&lt;div id=&quot;html_1c3eb39fed55438fbd98468654f7a097&quot; style=&quot;width: 100.0%; height: 100.0%;&quot;&gt;(&quot;&lt;b style=&#x27;font-size: 18px; &#x27;&gt;Cafe Versalles&lt;/b&gt;&lt;br&gt;Direccion: Calle Marti No.101 entre Versalles y San Antonio&quot;, &quot;Especialidades: [&#x27;Comida Criolla&#x27;]&quot;)&lt;/div&gt;`)[0];\n",
       "                popup_2cba30e22fa4bbfe47f3f836adeb0eb2.setContent(html_1c3eb39fed55438fbd98468654f7a097);\n",
       "            \n",
       "        \n",
       "\n",
       "        marker_ad704739548b412a706019acf79f0234.bindPopup(popup_2cba30e22fa4bbfe47f3f836adeb0eb2)\n",
       "        ;\n",
       "\n",
       "        \n",
       "    \n",
       "    \n",
       "            var marker_5e0645a6c9d03c0901ab50dd07f67cc6 = L.marker(\n",
       "                [23.117962514624928, -82.43294891647132],\n",
       "                {\n",
       "}\n",
       "            ).addTo(map_25b1f90f2fd0c40419c04f1962b5ebc6);\n",
       "        \n",
       "    \n",
       "            var icon_4b66f06fd4155d2d8d69559ac9cd5265 = L.AwesomeMarkers.icon(\n",
       "                {\n",
       "  &quot;markerColor&quot;: &quot;red&quot;,\n",
       "  &quot;iconColor&quot;: &quot;white&quot;,\n",
       "  &quot;icon&quot;: &quot;cutlery&quot;,\n",
       "  &quot;prefix&quot;: &quot;fa&quot;,\n",
       "  &quot;extraClasses&quot;: &quot;fa-rotate-0&quot;,\n",
       "}\n",
       "            );\n",
       "            marker_5e0645a6c9d03c0901ab50dd07f67cc6.setIcon(icon_4b66f06fd4155d2d8d69559ac9cd5265);\n",
       "        \n",
       "    \n",
       "        var popup_92b3c4b51dd204b33bbeed86d94dd2c9 = L.popup({\n",
       "  &quot;maxWidth&quot;: &quot;100%&quot;,\n",
       "});\n",
       "\n",
       "        \n",
       "            \n",
       "                var html_4661e11bfc9ca4a0745cddcdc21bca45 = $(`&lt;div id=&quot;html_4661e11bfc9ca4a0745cddcdc21bca45&quot; style=&quot;width: 100.0%; height: 100.0%;&quot;&gt;(&quot;&lt;b style=&#x27;font-size: 18px; &#x27;&gt;Café Literario La Copa&lt;/b&gt;&lt;br&gt;Direccion:  1ra A entre 42 y 44&quot;, &quot;Especialidades: [&#x27;mixta&#x27;]&quot;)&lt;/div&gt;`)[0];\n",
       "                popup_92b3c4b51dd204b33bbeed86d94dd2c9.setContent(html_4661e11bfc9ca4a0745cddcdc21bca45);\n",
       "            \n",
       "        \n",
       "\n",
       "        marker_5e0645a6c9d03c0901ab50dd07f67cc6.bindPopup(popup_92b3c4b51dd204b33bbeed86d94dd2c9)\n",
       "        ;\n",
       "\n",
       "        \n",
       "    \n",
       "    \n",
       "            var marker_088df9fd1400a0c79fa2b8ffc4662b6f = L.marker(\n",
       "                [23.07258141652537, -82.3570826358098],\n",
       "                {\n",
       "}\n",
       "            ).addTo(map_25b1f90f2fd0c40419c04f1962b5ebc6);\n",
       "        \n",
       "    \n",
       "            var icon_ff0066729489a9c0ea2b63436c735c01 = L.AwesomeMarkers.icon(\n",
       "                {\n",
       "  &quot;markerColor&quot;: &quot;red&quot;,\n",
       "  &quot;iconColor&quot;: &quot;white&quot;,\n",
       "  &quot;icon&quot;: &quot;cutlery&quot;,\n",
       "  &quot;prefix&quot;: &quot;fa&quot;,\n",
       "  &quot;extraClasses&quot;: &quot;fa-rotate-0&quot;,\n",
       "}\n",
       "            );\n",
       "            marker_088df9fd1400a0c79fa2b8ffc4662b6f.setIcon(icon_ff0066729489a9c0ea2b63436c735c01);\n",
       "        \n",
       "    \n",
       "        var popup_9e641a8071c91334ba634fca60ee98ea = L.popup({\n",
       "  &quot;maxWidth&quot;: &quot;100%&quot;,\n",
       "});\n",
       "\n",
       "        \n",
       "            \n",
       "                var html_4e44b6fbff13d9a4a842ac2e605626c0 = $(`&lt;div id=&quot;html_4e44b6fbff13d9a4a842ac2e605626c0&quot; style=&quot;width: 100.0%; height: 100.0%;&quot;&gt;(&quot;&lt;b style=&#x27;font-size: 18px; &#x27;&gt;Casa del Maiz&lt;/b&gt;&lt;br&gt;Direccion:  Calzada de Managua y San Agustin, Arroyo Naranjo&quot;, &quot;Especialidades: [&#x27;cubana&#x27;]&quot;)&lt;/div&gt;`)[0];\n",
       "                popup_9e641a8071c91334ba634fca60ee98ea.setContent(html_4e44b6fbff13d9a4a842ac2e605626c0);\n",
       "            \n",
       "        \n",
       "\n",
       "        marker_088df9fd1400a0c79fa2b8ffc4662b6f.bindPopup(popup_9e641a8071c91334ba634fca60ee98ea)\n",
       "        ;\n",
       "\n",
       "        \n",
       "    \n",
       "    \n",
       "            var marker_1826152f139f9ff42d7ed064a245dcdb = L.marker(\n",
       "                [23.094140100551975, -82.37774190333381],\n",
       "                {\n",
       "}\n",
       "            ).addTo(map_25b1f90f2fd0c40419c04f1962b5ebc6);\n",
       "        \n",
       "    \n",
       "            var icon_618165712825a10baff0ae996d8c97f9 = L.AwesomeMarkers.icon(\n",
       "                {\n",
       "  &quot;markerColor&quot;: &quot;red&quot;,\n",
       "  &quot;iconColor&quot;: &quot;white&quot;,\n",
       "  &quot;icon&quot;: &quot;cutlery&quot;,\n",
       "  &quot;prefix&quot;: &quot;fa&quot;,\n",
       "  &quot;extraClasses&quot;: &quot;fa-rotate-0&quot;,\n",
       "}\n",
       "            );\n",
       "            marker_1826152f139f9ff42d7ed064a245dcdb.setIcon(icon_618165712825a10baff0ae996d8c97f9);\n",
       "        \n",
       "    \n",
       "        var popup_ec4bd71b24b50de41ab36db5f2be3ee6 = L.popup({\n",
       "  &quot;maxWidth&quot;: &quot;100%&quot;,\n",
       "});\n",
       "\n",
       "        \n",
       "            \n",
       "                var html_4d5fd9e5e89313cb9ff6ed961a998d9a = $(`&lt;div id=&quot;html_4d5fd9e5e89313cb9ff6ed961a998d9a&quot; style=&quot;width: 100.0%; height: 100.0%;&quot;&gt;(&quot;&lt;b style=&#x27;font-size: 18px; &#x27;&gt;Casa Godo&lt;/b&gt;&lt;br&gt;Direccion: Ave. Mayia Rodriguez # 358 e/ San Mariano y Vista Alegre, El Monaco&quot;, &quot;Especialidades: [&#x27;cubana&#x27;, &#x27;internacional&#x27;]&quot;)&lt;/div&gt;`)[0];\n",
       "                popup_ec4bd71b24b50de41ab36db5f2be3ee6.setContent(html_4d5fd9e5e89313cb9ff6ed961a998d9a);\n",
       "            \n",
       "        \n",
       "\n",
       "        marker_1826152f139f9ff42d7ed064a245dcdb.bindPopup(popup_ec4bd71b24b50de41ab36db5f2be3ee6)\n",
       "        ;\n",
       "\n",
       "        \n",
       "    \n",
       "    \n",
       "            var marker_278b1eab5e66fafc01ad66b64e9882be = L.marker(\n",
       "                [23.14057504472214, -82.35175624751082],\n",
       "                {\n",
       "}\n",
       "            ).addTo(map_25b1f90f2fd0c40419c04f1962b5ebc6);\n",
       "        \n",
       "    \n",
       "            var icon_89836e5aa497d2bf060402fd06d09757 = L.AwesomeMarkers.icon(\n",
       "                {\n",
       "  &quot;markerColor&quot;: &quot;red&quot;,\n",
       "  &quot;iconColor&quot;: &quot;white&quot;,\n",
       "  &quot;icon&quot;: &quot;cutlery&quot;,\n",
       "  &quot;prefix&quot;: &quot;fa&quot;,\n",
       "  &quot;extraClasses&quot;: &quot;fa-rotate-0&quot;,\n",
       "}\n",
       "            );\n",
       "            marker_278b1eab5e66fafc01ad66b64e9882be.setIcon(icon_89836e5aa497d2bf060402fd06d09757);\n",
       "        \n",
       "    \n",
       "        var popup_8a3c99b3659738347ddb80bdd675e01b = L.popup({\n",
       "  &quot;maxWidth&quot;: &quot;100%&quot;,\n",
       "});\n",
       "\n",
       "        \n",
       "            \n",
       "                var html_f5832f275d984eee19d0288ee19ad20d = $(`&lt;div id=&quot;html_f5832f275d984eee19d0288ee19ad20d&quot; style=&quot;width: 100.0%; height: 100.0%;&quot;&gt;(&quot;&lt;b style=&#x27;font-size: 18px; &#x27;&gt;Casa Roma 1860&lt;/b&gt;&lt;br&gt;Direccion: San Ignacio No 68 / O Reilly y Empedrado.Callejon del chorro&quot;, &quot;Especialidades: [&#x27;Criolla&#x27;]&quot;)&lt;/div&gt;`)[0];\n",
       "                popup_8a3c99b3659738347ddb80bdd675e01b.setContent(html_f5832f275d984eee19d0288ee19ad20d);\n",
       "            \n",
       "        \n",
       "\n",
       "        marker_278b1eab5e66fafc01ad66b64e9882be.bindPopup(popup_8a3c99b3659738347ddb80bdd675e01b)\n",
       "        ;\n",
       "\n",
       "        \n",
       "    \n",
       "    \n",
       "            var marker_a8ca64466b63f2571e96dd12644f75ab = L.marker(\n",
       "                [23.14287158318666, -82.39913605698585],\n",
       "                {\n",
       "}\n",
       "            ).addTo(map_25b1f90f2fd0c40419c04f1962b5ebc6);\n",
       "        \n",
       "    \n",
       "            var icon_c42585305ae49a09a6bfb3a66966fcd0 = L.AwesomeMarkers.icon(\n",
       "                {\n",
       "  &quot;markerColor&quot;: &quot;red&quot;,\n",
       "  &quot;iconColor&quot;: &quot;white&quot;,\n",
       "  &quot;icon&quot;: &quot;cutlery&quot;,\n",
       "  &quot;prefix&quot;: &quot;fa&quot;,\n",
       "  &quot;extraClasses&quot;: &quot;fa-rotate-0&quot;,\n",
       "}\n",
       "            );\n",
       "            marker_a8ca64466b63f2571e96dd12644f75ab.setIcon(icon_c42585305ae49a09a6bfb3a66966fcd0);\n",
       "        \n",
       "    \n",
       "        var popup_ad211c2394e74e6a70388fcf3552fe47 = L.popup({\n",
       "  &quot;maxWidth&quot;: &quot;100%&quot;,\n",
       "});\n",
       "\n",
       "        \n",
       "            \n",
       "                var html_54bd44f63a02f7329e9cab5d66d1cb0a = $(`&lt;div id=&quot;html_54bd44f63a02f7329e9cab5d66d1cb0a&quot; style=&quot;width: 100.0%; height: 100.0%;&quot;&gt;(&quot;&lt;b style=&#x27;font-size: 18px; &#x27;&gt;Casa Mia&lt;/b&gt;&lt;br&gt;Direccion: Calle 1ra, No.103, entre C y D, Vedado&quot;, &quot;Especialidades: [&#x27;Comida Caribeña&#x27;, &#x27;latina&#x27;, &#x27;saludable&#x27;, &#x27;cubana&#x27;, &#x27;internacional&#x27;, &#x27;mariscos&#x27;]&quot;)&lt;/div&gt;`)[0];\n",
       "                popup_ad211c2394e74e6a70388fcf3552fe47.setContent(html_54bd44f63a02f7329e9cab5d66d1cb0a);\n",
       "            \n",
       "        \n",
       "\n",
       "        marker_a8ca64466b63f2571e96dd12644f75ab.bindPopup(popup_ad211c2394e74e6a70388fcf3552fe47)\n",
       "        ;\n",
       "\n",
       "        \n",
       "    \n",
       "    \n",
       "            var marker_525dcb7e45952d165ff0caa16a7d4a81 = L.marker(\n",
       "                [23.140862822677907, -82.35652410537521],\n",
       "                {\n",
       "}\n",
       "            ).addTo(map_25b1f90f2fd0c40419c04f1962b5ebc6);\n",
       "        \n",
       "    \n",
       "            var icon_23741f27c481d1584da1f87bc33fd017 = L.AwesomeMarkers.icon(\n",
       "                {\n",
       "  &quot;markerColor&quot;: &quot;red&quot;,\n",
       "  &quot;iconColor&quot;: &quot;white&quot;,\n",
       "  &quot;icon&quot;: &quot;cutlery&quot;,\n",
       "  &quot;prefix&quot;: &quot;fa&quot;,\n",
       "  &quot;extraClasses&quot;: &quot;fa-rotate-0&quot;,\n",
       "}\n",
       "            );\n",
       "            marker_525dcb7e45952d165ff0caa16a7d4a81.setIcon(icon_23741f27c481d1584da1f87bc33fd017);\n",
       "        \n",
       "    \n",
       "        var popup_7a377a2bbb305da686e7645471bc058d = L.popup({\n",
       "  &quot;maxWidth&quot;: &quot;100%&quot;,\n",
       "});\n",
       "\n",
       "        \n",
       "            \n",
       "                var html_87cb5227daf20561ad44b33867e7dd4c = $(`&lt;div id=&quot;html_87cb5227daf20561ad44b33867e7dd4c&quot; style=&quot;width: 100.0%; height: 100.0%;&quot;&gt;(&quot;&lt;b style=&#x27;font-size: 18px; &#x27;&gt;ChaChaChá&lt;/b&gt;&lt;br&gt;Direccion: Monserrate # 159 e/ Tejadillo y Chacón&quot;, &quot;Especialidades: [&#x27;Comida Internacional&#x27;, &#x27;Fusión&#x27;, &#x27;Cubana&#x27;]&quot;)&lt;/div&gt;`)[0];\n",
       "                popup_7a377a2bbb305da686e7645471bc058d.setContent(html_87cb5227daf20561ad44b33867e7dd4c);\n",
       "            \n",
       "        \n",
       "\n",
       "        marker_525dcb7e45952d165ff0caa16a7d4a81.bindPopup(popup_7a377a2bbb305da686e7645471bc058d)\n",
       "        ;\n",
       "\n",
       "        \n",
       "    \n",
       "    \n",
       "            var marker_37d2ba23e43d2e04d4f8d92cb672d37f = L.marker(\n",
       "                [23.1310792818174, -82.4048009798343],\n",
       "                {\n",
       "}\n",
       "            ).addTo(map_25b1f90f2fd0c40419c04f1962b5ebc6);\n",
       "        \n",
       "    \n",
       "            var icon_26e723339f2aef41f5e368d6ca838926 = L.AwesomeMarkers.icon(\n",
       "                {\n",
       "  &quot;markerColor&quot;: &quot;red&quot;,\n",
       "  &quot;iconColor&quot;: &quot;white&quot;,\n",
       "  &quot;icon&quot;: &quot;cutlery&quot;,\n",
       "  &quot;prefix&quot;: &quot;fa&quot;,\n",
       "  &quot;extraClasses&quot;: &quot;fa-rotate-0&quot;,\n",
       "}\n",
       "            );\n",
       "            marker_37d2ba23e43d2e04d4f8d92cb672d37f.setIcon(icon_26e723339f2aef41f5e368d6ca838926);\n",
       "        \n",
       "    \n",
       "        var popup_61da782940ad1828c09ee6da10aff9e2 = L.popup({\n",
       "  &quot;maxWidth&quot;: &quot;100%&quot;,\n",
       "});\n",
       "\n",
       "        \n",
       "            \n",
       "                var html_1e319135ccc2e9bc3ac3b6bedc1576ca = $(`&lt;div id=&quot;html_1e319135ccc2e9bc3ac3b6bedc1576ca&quot; style=&quot;width: 100.0%; height: 100.0%;&quot;&gt;(&quot;&lt;b style=&#x27;font-size: 18px; &#x27;&gt;Coco Blue&lt;/b&gt;&lt;br&gt;Direccion: entre 11 y 13 Vedado, 112 Calle 14&quot;, &quot;Especialidades: [&#x27;Caribeña&#x27;, &#x27;Bar&#x27;, &#x27;Café&#x27;, &#x27;Pub&#x27;, &#x27;Cubana&#x27;]&quot;)&lt;/div&gt;`)[0];\n",
       "                popup_61da782940ad1828c09ee6da10aff9e2.setContent(html_1e319135ccc2e9bc3ac3b6bedc1576ca);\n",
       "            \n",
       "        \n",
       "\n",
       "        marker_37d2ba23e43d2e04d4f8d92cb672d37f.bindPopup(popup_61da782940ad1828c09ee6da10aff9e2)\n",
       "        ;\n",
       "\n",
       "        \n",
       "    \n",
       "    \n",
       "            var marker_95f085965cf3feb0d95e4f4e7b920e75 = L.marker(\n",
       "                [23.13713706188433, -82.36148787289606],\n",
       "                {\n",
       "}\n",
       "            ).addTo(map_25b1f90f2fd0c40419c04f1962b5ebc6);\n",
       "        \n",
       "    \n",
       "            var icon_fb0deddaff5d0a068392b32fccf61c4d = L.AwesomeMarkers.icon(\n",
       "                {\n",
       "  &quot;markerColor&quot;: &quot;red&quot;,\n",
       "  &quot;iconColor&quot;: &quot;white&quot;,\n",
       "  &quot;icon&quot;: &quot;cutlery&quot;,\n",
       "  &quot;prefix&quot;: &quot;fa&quot;,\n",
       "  &quot;extraClasses&quot;: &quot;fa-rotate-0&quot;,\n",
       "}\n",
       "            );\n",
       "            marker_95f085965cf3feb0d95e4f4e7b920e75.setIcon(icon_fb0deddaff5d0a068392b32fccf61c4d);\n",
       "        \n",
       "    \n",
       "        var popup_8281c8a329320ec6e9ef7f2c1c09c692 = L.popup({\n",
       "  &quot;maxWidth&quot;: &quot;100%&quot;,\n",
       "});\n",
       "\n",
       "        \n",
       "            \n",
       "                var html_8723739cfb2636bf0c2d79f0bdf4a962 = $(`&lt;div id=&quot;html_8723739cfb2636bf0c2d79f0bdf4a962&quot; style=&quot;width: 100.0%; height: 100.0%;&quot;&gt;(&quot;&lt;b style=&#x27;font-size: 18px; &#x27;&gt;Cohmar Cafe&lt;/b&gt;&lt;br&gt;Direccion: Boulevard de San Rafael, &amp; Amistad&quot;, &quot;Especialidades: [&#x27;criolla&#x27;, &#x27;internacional&#x27;, &#x27;cubana&#x27;]&quot;)&lt;/div&gt;`)[0];\n",
       "                popup_8281c8a329320ec6e9ef7f2c1c09c692.setContent(html_8723739cfb2636bf0c2d79f0bdf4a962);\n",
       "            \n",
       "        \n",
       "\n",
       "        marker_95f085965cf3feb0d95e4f4e7b920e75.bindPopup(popup_8281c8a329320ec6e9ef7f2c1c09c692)\n",
       "        ;\n",
       "\n",
       "        \n",
       "    \n",
       "    \n",
       "            var marker_3ff78cf263f6eae22fae12dcc05e20b1 = L.marker(\n",
       "                [23.071073169539453, -82.43552727449875],\n",
       "                {\n",
       "}\n",
       "            ).addTo(map_25b1f90f2fd0c40419c04f1962b5ebc6);\n",
       "        \n",
       "    \n",
       "            var icon_4a2ebb8dfdb138ca69da23cf0063d78d = L.AwesomeMarkers.icon(\n",
       "                {\n",
       "  &quot;markerColor&quot;: &quot;red&quot;,\n",
       "  &quot;iconColor&quot;: &quot;white&quot;,\n",
       "  &quot;icon&quot;: &quot;cutlery&quot;,\n",
       "  &quot;prefix&quot;: &quot;fa&quot;,\n",
       "  &quot;extraClasses&quot;: &quot;fa-rotate-0&quot;,\n",
       "}\n",
       "            );\n",
       "            marker_3ff78cf263f6eae22fae12dcc05e20b1.setIcon(icon_4a2ebb8dfdb138ca69da23cf0063d78d);\n",
       "        \n",
       "    \n",
       "        var popup_eef944c846a58469897a8e2a8789ca40 = L.popup({\n",
       "  &quot;maxWidth&quot;: &quot;100%&quot;,\n",
       "});\n",
       "\n",
       "        \n",
       "            \n",
       "                var html_12c595b1d0e61d388b65af847885c5c0 = $(`&lt;div id=&quot;html_12c595b1d0e61d388b65af847885c5c0&quot; style=&quot;width: 100.0%; height: 100.0%;&quot;&gt;(&quot;&lt;b style=&#x27;font-size: 18px; &#x27;&gt;Colesterol 5.1&lt;/b&gt;&lt;br&gt;Direccion: Avenida 51 entre 134 y 136&quot;, &quot;Especialidades: [&#x27;cubana&#x27;, &#x27;italiana&#x27;, &#x27;internacional&#x27;]&quot;)&lt;/div&gt;`)[0];\n",
       "                popup_eef944c846a58469897a8e2a8789ca40.setContent(html_12c595b1d0e61d388b65af847885c5c0);\n",
       "            \n",
       "        \n",
       "\n",
       "        marker_3ff78cf263f6eae22fae12dcc05e20b1.bindPopup(popup_eef944c846a58469897a8e2a8789ca40)\n",
       "        ;\n",
       "\n",
       "        \n",
       "    \n",
       "    \n",
       "            var marker_7349f930ded6cf60b37c21d4aade1b42 = L.marker(\n",
       "                [23.05213364329506, -82.33209177284725],\n",
       "                {\n",
       "}\n",
       "            ).addTo(map_25b1f90f2fd0c40419c04f1962b5ebc6);\n",
       "        \n",
       "    \n",
       "            var icon_f1088c0ae8c496d227e91a24b2e75005 = L.AwesomeMarkers.icon(\n",
       "                {\n",
       "  &quot;markerColor&quot;: &quot;red&quot;,\n",
       "  &quot;iconColor&quot;: &quot;white&quot;,\n",
       "  &quot;icon&quot;: &quot;cutlery&quot;,\n",
       "  &quot;prefix&quot;: &quot;fa&quot;,\n",
       "  &quot;extraClasses&quot;: &quot;fa-rotate-0&quot;,\n",
       "}\n",
       "            );\n",
       "            marker_7349f930ded6cf60b37c21d4aade1b42.setIcon(icon_f1088c0ae8c496d227e91a24b2e75005);\n",
       "        \n",
       "    \n",
       "        var popup_f397e9fa53b8726454bcb1cd66005268 = L.popup({\n",
       "  &quot;maxWidth&quot;: &quot;100%&quot;,\n",
       "});\n",
       "\n",
       "        \n",
       "            \n",
       "                var html_bfff396d633f04ad1344f103292a3eb4 = $(`&lt;div id=&quot;html_bfff396d633f04ad1344f103292a3eb4&quot; style=&quot;width: 100.0%; height: 100.0%;&quot;&gt;(&quot;&lt;b style=&#x27;font-size: 18px; &#x27;&gt;Comida Criolla Ocho Vías&lt;/b&gt;&lt;br&gt;Direccion: Avenida 1er Anillo 3km despues de San Agustin&quot;, &quot;Especialidades: [&#x27;cubana&#x27;]&quot;)&lt;/div&gt;`)[0];\n",
       "                popup_f397e9fa53b8726454bcb1cd66005268.setContent(html_bfff396d633f04ad1344f103292a3eb4);\n",
       "            \n",
       "        \n",
       "\n",
       "        marker_7349f930ded6cf60b37c21d4aade1b42.bindPopup(popup_f397e9fa53b8726454bcb1cd66005268)\n",
       "        ;\n",
       "\n",
       "        \n",
       "    \n",
       "    \n",
       "            var marker_35056e86075e8b80c1d56fa1cd7edcbc = L.marker(\n",
       "                [23.08919134492609, -82.37611427712088],\n",
       "                {\n",
       "}\n",
       "            ).addTo(map_25b1f90f2fd0c40419c04f1962b5ebc6);\n",
       "        \n",
       "    \n",
       "            var icon_e9991e17dc8b3f237e76a3c1c317c31c = L.AwesomeMarkers.icon(\n",
       "                {\n",
       "  &quot;markerColor&quot;: &quot;red&quot;,\n",
       "  &quot;iconColor&quot;: &quot;white&quot;,\n",
       "  &quot;icon&quot;: &quot;cutlery&quot;,\n",
       "  &quot;prefix&quot;: &quot;fa&quot;,\n",
       "  &quot;extraClasses&quot;: &quot;fa-rotate-0&quot;,\n",
       "}\n",
       "            );\n",
       "            marker_35056e86075e8b80c1d56fa1cd7edcbc.setIcon(icon_e9991e17dc8b3f237e76a3c1c317c31c);\n",
       "        \n",
       "    \n",
       "        var popup_db76444c32fa6d5968e2dd5ccb085bf4 = L.popup({\n",
       "  &quot;maxWidth&quot;: &quot;100%&quot;,\n",
       "});\n",
       "\n",
       "        \n",
       "            \n",
       "                var html_42afc65d04df9f2bd870ac39402b6735 = $(`&lt;div id=&quot;html_42afc65d04df9f2bd870ac39402b6735&quot; style=&quot;width: 100.0%; height: 100.0%;&quot;&gt;(&quot;&lt;b style=&#x27;font-size: 18px; &#x27;&gt;Crispy Chicken&lt;/b&gt;&lt;br&gt;Direccion: Avenida de Acosta y Juan Delgado, Víbora&quot;, &quot;Especialidades: [&#x27;criolla&#x27;, &#x27;cubana&#x27;, &#x27;internacional&#x27;]&quot;)&lt;/div&gt;`)[0];\n",
       "                popup_db76444c32fa6d5968e2dd5ccb085bf4.setContent(html_42afc65d04df9f2bd870ac39402b6735);\n",
       "            \n",
       "        \n",
       "\n",
       "        marker_35056e86075e8b80c1d56fa1cd7edcbc.bindPopup(popup_db76444c32fa6d5968e2dd5ccb085bf4)\n",
       "        ;\n",
       "\n",
       "        \n",
       "    \n",
       "    \n",
       "            var marker_a4adc462fa69561fadf35a0f226306f1 = L.marker(\n",
       "                [23.046144807035024, -82.27016561299135],\n",
       "                {\n",
       "}\n",
       "            ).addTo(map_25b1f90f2fd0c40419c04f1962b5ebc6);\n",
       "        \n",
       "    \n",
       "            var icon_55f2641a3be6e2a972a7df6f868f6ef1 = L.AwesomeMarkers.icon(\n",
       "                {\n",
       "  &quot;markerColor&quot;: &quot;red&quot;,\n",
       "  &quot;iconColor&quot;: &quot;white&quot;,\n",
       "  &quot;icon&quot;: &quot;cutlery&quot;,\n",
       "  &quot;prefix&quot;: &quot;fa&quot;,\n",
       "  &quot;extraClasses&quot;: &quot;fa-rotate-0&quot;,\n",
       "}\n",
       "            );\n",
       "            marker_a4adc462fa69561fadf35a0f226306f1.setIcon(icon_55f2641a3be6e2a972a7df6f868f6ef1);\n",
       "        \n",
       "    \n",
       "        var popup_8ae12efb69086445b6b273c40fc252ff = L.popup({\n",
       "  &quot;maxWidth&quot;: &quot;100%&quot;,\n",
       "});\n",
       "\n",
       "        \n",
       "            \n",
       "                var html_f4378a75b60922f2082eddfa8537db0b = $(`&lt;div id=&quot;html_f4378a75b60922f2082eddfa8537db0b&quot; style=&quot;width: 100.0%; height: 100.0%;&quot;&gt;(&quot;&lt;b style=&#x27;font-size: 18px; &#x27;&gt;Crystal&lt;/b&gt;&lt;br&gt;Direccion: Avenida 101 entre 18 y 20 centro cotorro&quot;, &quot;Especialidades: [&#x27;Mixta, criolla&#x27;]&quot;)&lt;/div&gt;`)[0];\n",
       "                popup_8ae12efb69086445b6b273c40fc252ff.setContent(html_f4378a75b60922f2082eddfa8537db0b);\n",
       "            \n",
       "        \n",
       "\n",
       "        marker_a4adc462fa69561fadf35a0f226306f1.bindPopup(popup_8ae12efb69086445b6b273c40fc252ff)\n",
       "        ;\n",
       "\n",
       "        \n",
       "    \n",
       "    \n",
       "            var marker_884b6de24bbece496f156c949271a6c2 = L.marker(\n",
       "                [23.13672770195526, -82.39997277634649],\n",
       "                {\n",
       "}\n",
       "            ).addTo(map_25b1f90f2fd0c40419c04f1962b5ebc6);\n",
       "        \n",
       "    \n",
       "            var icon_2cdd77d4bbeac97304fa923ca8953d1b = L.AwesomeMarkers.icon(\n",
       "                {\n",
       "  &quot;markerColor&quot;: &quot;red&quot;,\n",
       "  &quot;iconColor&quot;: &quot;white&quot;,\n",
       "  &quot;icon&quot;: &quot;cutlery&quot;,\n",
       "  &quot;prefix&quot;: &quot;fa&quot;,\n",
       "  &quot;extraClasses&quot;: &quot;fa-rotate-0&quot;,\n",
       "}\n",
       "            );\n",
       "            marker_884b6de24bbece496f156c949271a6c2.setIcon(icon_2cdd77d4bbeac97304fa923ca8953d1b);\n",
       "        \n",
       "    \n",
       "        var popup_87ace6ef7fa1bcdeb933bff8c0f91f61 = L.popup({\n",
       "  &quot;maxWidth&quot;: &quot;100%&quot;,\n",
       "});\n",
       "\n",
       "        \n",
       "            \n",
       "                var html_718005da6eda269a794b36cd3ceaead8 = $(`&lt;div id=&quot;html_718005da6eda269a794b36cd3ceaead8&quot; style=&quot;width: 100.0%; height: 100.0%;&quot;&gt;(&quot;&lt;b style=&#x27;font-size: 18px; &#x27;&gt;Decameron&lt;/b&gt;&lt;br&gt;Direccion: Calle LLnea entre Paseo y 2, Vedado&quot;, &quot;Especialidades: [&#x27;Comida caribeña&#x27;, &#x27;cubana&#x27;, &#x27;saludable&#x27;, &#x27;fusion&#x27;]&quot;)&lt;/div&gt;`)[0];\n",
       "                popup_87ace6ef7fa1bcdeb933bff8c0f91f61.setContent(html_718005da6eda269a794b36cd3ceaead8);\n",
       "            \n",
       "        \n",
       "\n",
       "        marker_884b6de24bbece496f156c949271a6c2.bindPopup(popup_87ace6ef7fa1bcdeb933bff8c0f91f61)\n",
       "        ;\n",
       "\n",
       "        \n",
       "    \n",
       "    \n",
       "            var marker_33736f4de8424308b4ebb782a2eb1da8 = L.marker(\n",
       "                [23.139889002366708, -82.38110916178115],\n",
       "                {\n",
       "}\n",
       "            ).addTo(map_25b1f90f2fd0c40419c04f1962b5ebc6);\n",
       "        \n",
       "    \n",
       "            var icon_5a660b40dcaa3afcfcd0aaa4266b7ec4 = L.AwesomeMarkers.icon(\n",
       "                {\n",
       "  &quot;markerColor&quot;: &quot;red&quot;,\n",
       "  &quot;iconColor&quot;: &quot;white&quot;,\n",
       "  &quot;icon&quot;: &quot;cutlery&quot;,\n",
       "  &quot;prefix&quot;: &quot;fa&quot;,\n",
       "  &quot;extraClasses&quot;: &quot;fa-rotate-0&quot;,\n",
       "}\n",
       "            );\n",
       "            marker_33736f4de8424308b4ebb782a2eb1da8.setIcon(icon_5a660b40dcaa3afcfcd0aaa4266b7ec4);\n",
       "        \n",
       "    \n",
       "        var popup_7407e1e1a4d313aba67d49cffe139d61 = L.popup({\n",
       "  &quot;maxWidth&quot;: &quot;100%&quot;,\n",
       "});\n",
       "\n",
       "        \n",
       "            \n",
       "                var html_7e7ac1ef414a40b1b4bb65c57ad83fc1 = $(`&lt;div id=&quot;html_7e7ac1ef414a40b1b4bb65c57ad83fc1&quot; style=&quot;width: 100.0%; height: 100.0%;&quot;&gt;(&quot;&lt;b style=&#x27;font-size: 18px; &#x27;&gt;Distrito 25&lt;/b&gt;&lt;br&gt;Direccion: Calle 25 entre M y N, Vedado&quot;, &quot;Especialidades: [&#x27;Comida mexicana&#x27;]&quot;)&lt;/div&gt;`)[0];\n",
       "                popup_7407e1e1a4d313aba67d49cffe139d61.setContent(html_7e7ac1ef414a40b1b4bb65c57ad83fc1);\n",
       "            \n",
       "        \n",
       "\n",
       "        marker_33736f4de8424308b4ebb782a2eb1da8.bindPopup(popup_7407e1e1a4d313aba67d49cffe139d61)\n",
       "        ;\n",
       "\n",
       "        \n",
       "    \n",
       "    \n",
       "            var marker_5f68f90633f1da208a1cb692810e8bb2 = L.marker(\n",
       "                [23.098641623513977, -82.36221985109562],\n",
       "                {\n",
       "}\n",
       "            ).addTo(map_25b1f90f2fd0c40419c04f1962b5ebc6);\n",
       "        \n",
       "    \n",
       "            var icon_24671b41f4e7f3ccb376917e6aed67d8 = L.AwesomeMarkers.icon(\n",
       "                {\n",
       "  &quot;markerColor&quot;: &quot;red&quot;,\n",
       "  &quot;iconColor&quot;: &quot;white&quot;,\n",
       "  &quot;icon&quot;: &quot;cutlery&quot;,\n",
       "  &quot;prefix&quot;: &quot;fa&quot;,\n",
       "  &quot;extraClasses&quot;: &quot;fa-rotate-0&quot;,\n",
       "}\n",
       "            );\n",
       "            marker_5f68f90633f1da208a1cb692810e8bb2.setIcon(icon_24671b41f4e7f3ccb376917e6aed67d8);\n",
       "        \n",
       "    \n",
       "        var popup_aed8e5ac11c01dcf605dc3c5a2257786 = L.popup({\n",
       "  &quot;maxWidth&quot;: &quot;100%&quot;,\n",
       "});\n",
       "\n",
       "        \n",
       "            \n",
       "                var html_defb3fc5b3fa5723172acbf6968649f7 = $(`&lt;div id=&quot;html_defb3fc5b3fa5723172acbf6968649f7&quot; style=&quot;width: 100.0%; height: 100.0%;&quot;&gt;(&quot;&lt;b style=&#x27;font-size: 18px; &#x27;&gt;Diverxo&lt;/b&gt;&lt;br&gt;Direccion: Calzada de 10 de octubre #904 entre Luz Oeste y Lacret&quot;, &quot;Especialidades: [&#x27;cubana&#x27;]&quot;)&lt;/div&gt;`)[0];\n",
       "                popup_aed8e5ac11c01dcf605dc3c5a2257786.setContent(html_defb3fc5b3fa5723172acbf6968649f7);\n",
       "            \n",
       "        \n",
       "\n",
       "        marker_5f68f90633f1da208a1cb692810e8bb2.bindPopup(popup_aed8e5ac11c01dcf605dc3c5a2257786)\n",
       "        ;\n",
       "\n",
       "        \n",
       "    \n",
       "    \n",
       "            var marker_770bcb976f2ac920dc329cc519d6a8db = L.marker(\n",
       "                [23.149840788441544, -82.3560208170218],\n",
       "                {\n",
       "}\n",
       "            ).addTo(map_25b1f90f2fd0c40419c04f1962b5ebc6);\n",
       "        \n",
       "    \n",
       "            var icon_5f95ad6754a6fb4e0492e84f2189ebb8 = L.AwesomeMarkers.icon(\n",
       "                {\n",
       "  &quot;markerColor&quot;: &quot;red&quot;,\n",
       "  &quot;iconColor&quot;: &quot;white&quot;,\n",
       "  &quot;icon&quot;: &quot;cutlery&quot;,\n",
       "  &quot;prefix&quot;: &quot;fa&quot;,\n",
       "  &quot;extraClasses&quot;: &quot;fa-rotate-0&quot;,\n",
       "}\n",
       "            );\n",
       "            marker_770bcb976f2ac920dc329cc519d6a8db.setIcon(icon_5f95ad6754a6fb4e0492e84f2189ebb8);\n",
       "        \n",
       "    \n",
       "        var popup_eaa0f341cceaa1c4a7bd2be6cdb20788 = L.popup({\n",
       "  &quot;maxWidth&quot;: &quot;100%&quot;,\n",
       "});\n",
       "\n",
       "        \n",
       "            \n",
       "                var html_08aedb7428d525e987c26b8c955fdd3e = $(`&lt;div id=&quot;html_08aedb7428d525e987c26b8c955fdd3e&quot; style=&quot;width: 100.0%; height: 100.0%;&quot;&gt;(&quot;&lt;b style=&#x27;font-size: 18px; &#x27;&gt;Los Doce Apostoles&lt;/b&gt;&lt;br&gt;Direccion: Complejo Morro Cabana,Via Monumental&quot;, &#x27;Especialidades: []&#x27;)&lt;/div&gt;`)[0];\n",
       "                popup_eaa0f341cceaa1c4a7bd2be6cdb20788.setContent(html_08aedb7428d525e987c26b8c955fdd3e);\n",
       "            \n",
       "        \n",
       "\n",
       "        marker_770bcb976f2ac920dc329cc519d6a8db.bindPopup(popup_eaa0f341cceaa1c4a7bd2be6cdb20788)\n",
       "        ;\n",
       "\n",
       "        \n",
       "    \n",
       "    \n",
       "            var marker_51d3e3345d16a1047b6554449a7a18b6 = L.marker(\n",
       "                [23.07542277636338, -82.3589195783884],\n",
       "                {\n",
       "}\n",
       "            ).addTo(map_25b1f90f2fd0c40419c04f1962b5ebc6);\n",
       "        \n",
       "    \n",
       "            var icon_27725b39823a0f71643f212c2fac2ed5 = L.AwesomeMarkers.icon(\n",
       "                {\n",
       "  &quot;markerColor&quot;: &quot;red&quot;,\n",
       "  &quot;iconColor&quot;: &quot;white&quot;,\n",
       "  &quot;icon&quot;: &quot;cutlery&quot;,\n",
       "  &quot;prefix&quot;: &quot;fa&quot;,\n",
       "  &quot;extraClasses&quot;: &quot;fa-rotate-0&quot;,\n",
       "}\n",
       "            );\n",
       "            marker_51d3e3345d16a1047b6554449a7a18b6.setIcon(icon_27725b39823a0f71643f212c2fac2ed5);\n",
       "        \n",
       "    \n",
       "        var popup_4872b51a4bb041914029be5adad6958d = L.popup({\n",
       "  &quot;maxWidth&quot;: &quot;100%&quot;,\n",
       "});\n",
       "\n",
       "        \n",
       "            \n",
       "                var html_bfa7261315192e7e1cc632b7fee66db5 = $(`&lt;div id=&quot;html_bfa7261315192e7e1cc632b7fee66db5&quot; style=&quot;width: 100.0%; height: 100.0%;&quot;&gt;(&quot;&lt;b style=&#x27;font-size: 18px; &#x27;&gt;Don Burguer&lt;/b&gt;&lt;br&gt;Direccion: Calzada de 10 de Octubre, entre  Aranguren y Santa Isabel, La Palma&quot;, &quot;Especialidades: [&#x27;cubana&#x27;]&quot;)&lt;/div&gt;`)[0];\n",
       "                popup_4872b51a4bb041914029be5adad6958d.setContent(html_bfa7261315192e7e1cc632b7fee66db5);\n",
       "            \n",
       "        \n",
       "\n",
       "        marker_51d3e3345d16a1047b6554449a7a18b6.bindPopup(popup_4872b51a4bb041914029be5adad6958d)\n",
       "        ;\n",
       "\n",
       "        \n",
       "    \n",
       "    \n",
       "            var marker_f890cf543d8964dd5751aa2904b96291 = L.marker(\n",
       "                [23.077891178709717, -82.31931897477418],\n",
       "                {\n",
       "}\n",
       "            ).addTo(map_25b1f90f2fd0c40419c04f1962b5ebc6);\n",
       "        \n",
       "    \n",
       "            var icon_8345e65468545cb7ba9bc81da8ab2eca = L.AwesomeMarkers.icon(\n",
       "                {\n",
       "  &quot;markerColor&quot;: &quot;red&quot;,\n",
       "  &quot;iconColor&quot;: &quot;white&quot;,\n",
       "  &quot;icon&quot;: &quot;cutlery&quot;,\n",
       "  &quot;prefix&quot;: &quot;fa&quot;,\n",
       "  &quot;extraClasses&quot;: &quot;fa-rotate-0&quot;,\n",
       "}\n",
       "            );\n",
       "            marker_f890cf543d8964dd5751aa2904b96291.setIcon(icon_8345e65468545cb7ba9bc81da8ab2eca);\n",
       "        \n",
       "    \n",
       "        var popup_c7f72d1fcd66127e86c48358c1587279 = L.popup({\n",
       "  &quot;maxWidth&quot;: &quot;100%&quot;,\n",
       "});\n",
       "\n",
       "        \n",
       "            \n",
       "                var html_def7882c0181b1c88142b9c4dd776f5d = $(`&lt;div id=&quot;html_def7882c0181b1c88142b9c4dd776f5d&quot; style=&quot;width: 100.0%; height: 100.0%;&quot;&gt;(&quot;&lt;b style=&#x27;font-size: 18px; &#x27;&gt;Don Timbon&lt;/b&gt;&lt;br&gt;Direccion: cerca cjon. La Flora&quot;, &quot;Especialidades: [&#x27;italiana&#x27;]&quot;)&lt;/div&gt;`)[0];\n",
       "                popup_c7f72d1fcd66127e86c48358c1587279.setContent(html_def7882c0181b1c88142b9c4dd776f5d);\n",
       "            \n",
       "        \n",
       "\n",
       "        marker_f890cf543d8964dd5751aa2904b96291.bindPopup(popup_c7f72d1fcd66127e86c48358c1587279)\n",
       "        ;\n",
       "\n",
       "        \n",
       "    \n",
       "    \n",
       "            var marker_cd6dd9dc98cb94196b1c157931f1e7fc = L.marker(\n",
       "                [23.133178519943957, -82.3706256209112],\n",
       "                {\n",
       "}\n",
       "            ).addTo(map_25b1f90f2fd0c40419c04f1962b5ebc6);\n",
       "        \n",
       "    \n",
       "            var icon_71b5bff75ac71e49a5d65e70c617bb28 = L.AwesomeMarkers.icon(\n",
       "                {\n",
       "  &quot;markerColor&quot;: &quot;red&quot;,\n",
       "  &quot;iconColor&quot;: &quot;white&quot;,\n",
       "  &quot;icon&quot;: &quot;cutlery&quot;,\n",
       "  &quot;prefix&quot;: &quot;fa&quot;,\n",
       "  &quot;extraClasses&quot;: &quot;fa-rotate-0&quot;,\n",
       "}\n",
       "            );\n",
       "            marker_cd6dd9dc98cb94196b1c157931f1e7fc.setIcon(icon_71b5bff75ac71e49a5d65e70c617bb28);\n",
       "        \n",
       "    \n",
       "        var popup_35b04564ac7694c579f5572871eb58f5 = L.popup({\n",
       "  &quot;maxWidth&quot;: &quot;100%&quot;,\n",
       "});\n",
       "\n",
       "        \n",
       "            \n",
       "                var html_053c3c27f02c80830d503cef325321a4 = $(`&lt;div id=&quot;html_053c3c27f02c80830d503cef325321a4&quot; style=&quot;width: 100.0%; height: 100.0%;&quot;&gt;(&quot;&lt;b style=&#x27;font-size: 18px; &#x27;&gt;Dona Alicia&lt;/b&gt;&lt;br&gt;Direccion:  Calle Reina esq, Padre Varela&quot;, &quot;Especialidades: [&#x27;Criolla&#x27;, &#x27;cubana&#x27;, &#x27;internacional&#x27;, &#x27;italiana&#x27;]&quot;)&lt;/div&gt;`)[0];\n",
       "                popup_35b04564ac7694c579f5572871eb58f5.setContent(html_053c3c27f02c80830d503cef325321a4);\n",
       "            \n",
       "        \n",
       "\n",
       "        marker_cd6dd9dc98cb94196b1c157931f1e7fc.bindPopup(popup_35b04564ac7694c579f5572871eb58f5)\n",
       "        ;\n",
       "\n",
       "        \n",
       "    \n",
       "    \n",
       "            var marker_320a55f5f3c62d55d52065bdd74cf88c = L.marker(\n",
       "                [23.064390060079617, -82.37574330537674],\n",
       "                {\n",
       "}\n",
       "            ).addTo(map_25b1f90f2fd0c40419c04f1962b5ebc6);\n",
       "        \n",
       "    \n",
       "            var icon_d012aed6fd70f4fc1dd392d844ac20f0 = L.AwesomeMarkers.icon(\n",
       "                {\n",
       "  &quot;markerColor&quot;: &quot;red&quot;,\n",
       "  &quot;iconColor&quot;: &quot;white&quot;,\n",
       "  &quot;icon&quot;: &quot;cutlery&quot;,\n",
       "  &quot;prefix&quot;: &quot;fa&quot;,\n",
       "  &quot;extraClasses&quot;: &quot;fa-rotate-0&quot;,\n",
       "}\n",
       "            );\n",
       "            marker_320a55f5f3c62d55d52065bdd74cf88c.setIcon(icon_d012aed6fd70f4fc1dd392d844ac20f0);\n",
       "        \n",
       "    \n",
       "        var popup_69329b2f5234d014d8c1fbfeb64f0c5b = L.popup({\n",
       "  &quot;maxWidth&quot;: &quot;100%&quot;,\n",
       "});\n",
       "\n",
       "        \n",
       "            \n",
       "                var html_347c76cabf7659f3ea8f196d0b61285d = $(`&lt;div id=&quot;html_347c76cabf7659f3ea8f196d0b61285d&quot; style=&quot;width: 100.0%; height: 100.0%;&quot;&gt;(&quot;&lt;b style=&#x27;font-size: 18px; &#x27;&gt;Dona Almira&lt;/b&gt;&lt;br&gt;Direccion: Calle Finlay No.979 % Avenida de Los Pinos y Fernandez de Castro&quot;, &quot;Especialidades: [&#x27;cubana&#x27;]&quot;)&lt;/div&gt;`)[0];\n",
       "                popup_69329b2f5234d014d8c1fbfeb64f0c5b.setContent(html_347c76cabf7659f3ea8f196d0b61285d);\n",
       "            \n",
       "        \n",
       "\n",
       "        marker_320a55f5f3c62d55d52065bdd74cf88c.bindPopup(popup_69329b2f5234d014d8c1fbfeb64f0c5b)\n",
       "        ;\n",
       "\n",
       "        \n",
       "    \n",
       "    \n",
       "            var marker_1d0555e660e0735fa6a24528ac76fb14 = L.marker(\n",
       "                [23.13720238720189, -82.37935390623745],\n",
       "                {\n",
       "}\n",
       "            ).addTo(map_25b1f90f2fd0c40419c04f1962b5ebc6);\n",
       "        \n",
       "    \n",
       "            var icon_4cbc44564830ef7f9ddc93b54cfdd47f = L.AwesomeMarkers.icon(\n",
       "                {\n",
       "  &quot;markerColor&quot;: &quot;red&quot;,\n",
       "  &quot;iconColor&quot;: &quot;white&quot;,\n",
       "  &quot;icon&quot;: &quot;cutlery&quot;,\n",
       "  &quot;prefix&quot;: &quot;fa&quot;,\n",
       "  &quot;extraClasses&quot;: &quot;fa-rotate-0&quot;,\n",
       "}\n",
       "            );\n",
       "            marker_1d0555e660e0735fa6a24528ac76fb14.setIcon(icon_4cbc44564830ef7f9ddc93b54cfdd47f);\n",
       "        \n",
       "    \n",
       "        var popup_2de4162d23b773ba48ed4068dfb24b39 = L.popup({\n",
       "  &quot;maxWidth&quot;: &quot;100%&quot;,\n",
       "});\n",
       "\n",
       "        \n",
       "            \n",
       "                var html_6a0243b00c1db6542d699b42ba4d26ac = $(`&lt;div id=&quot;html_6a0243b00c1db6542d699b42ba4d26ac&quot; style=&quot;width: 100.0%; height: 100.0%;&quot;&gt;(&quot;&lt;b style=&#x27;font-size: 18px; &#x27;&gt;Doña Lis Pizza&lt;/b&gt;&lt;br&gt;Direccion: 1169 A Neptuno&quot;, &quot;Especialidades: [&#x27;Pizzas&#x27;]&quot;)&lt;/div&gt;`)[0];\n",
       "                popup_2de4162d23b773ba48ed4068dfb24b39.setContent(html_6a0243b00c1db6542d699b42ba4d26ac);\n",
       "            \n",
       "        \n",
       "\n",
       "        marker_1d0555e660e0735fa6a24528ac76fb14.bindPopup(popup_2de4162d23b773ba48ed4068dfb24b39)\n",
       "        ;\n",
       "\n",
       "        \n",
       "    \n",
       "    \n",
       "            var marker_cf4c5620febdfec402b1016fe0ea81d8 = L.marker(\n",
       "                [23.1026716054629, -82.34026837449797],\n",
       "                {\n",
       "}\n",
       "            ).addTo(map_25b1f90f2fd0c40419c04f1962b5ebc6);\n",
       "        \n",
       "    \n",
       "            var icon_9f2dda7a720cce02f5d0f92486062d05 = L.AwesomeMarkers.icon(\n",
       "                {\n",
       "  &quot;markerColor&quot;: &quot;red&quot;,\n",
       "  &quot;iconColor&quot;: &quot;white&quot;,\n",
       "  &quot;icon&quot;: &quot;cutlery&quot;,\n",
       "  &quot;prefix&quot;: &quot;fa&quot;,\n",
       "  &quot;extraClasses&quot;: &quot;fa-rotate-0&quot;,\n",
       "}\n",
       "            );\n",
       "            marker_cf4c5620febdfec402b1016fe0ea81d8.setIcon(icon_9f2dda7a720cce02f5d0f92486062d05);\n",
       "        \n",
       "    \n",
       "        var popup_c3b673cd2c7daff45e7ca0781ed18c67 = L.popup({\n",
       "  &quot;maxWidth&quot;: &quot;100%&quot;,\n",
       "});\n",
       "\n",
       "        \n",
       "            \n",
       "                var html_ea2001a4c1d552975ce54627e56c41e5 = $(`&lt;div id=&quot;html_ea2001a4c1d552975ce54627e56c41e5&quot; style=&quot;width: 100.0%; height: 100.0%;&quot;&gt;(&quot;&lt;b style=&#x27;font-size: 18px; &#x27;&gt;Don Balbino s&lt;/b&gt;&lt;br&gt;Direccion: Calzada San Miguel del Padrón entre 8va y B&quot;, &quot;Especialidades: [&#x27;criolla&#x27;, &#x27;tapas&#x27;]&quot;)&lt;/div&gt;`)[0];\n",
       "                popup_c3b673cd2c7daff45e7ca0781ed18c67.setContent(html_ea2001a4c1d552975ce54627e56c41e5);\n",
       "            \n",
       "        \n",
       "\n",
       "        marker_cf4c5620febdfec402b1016fe0ea81d8.bindPopup(popup_c3b673cd2c7daff45e7ca0781ed18c67)\n",
       "        ;\n",
       "\n",
       "        \n",
       "    \n",
       "    \n",
       "            var marker_3a4f253be857209ab423508ff69964fd = L.marker(\n",
       "                [23.101766474956417, -82.37161130333365],\n",
       "                {\n",
       "}\n",
       "            ).addTo(map_25b1f90f2fd0c40419c04f1962b5ebc6);\n",
       "        \n",
       "    \n",
       "            var icon_3cd3a2825ee763b7db6dc2146ddd679c = L.AwesomeMarkers.icon(\n",
       "                {\n",
       "  &quot;markerColor&quot;: &quot;red&quot;,\n",
       "  &quot;iconColor&quot;: &quot;white&quot;,\n",
       "  &quot;icon&quot;: &quot;cutlery&quot;,\n",
       "  &quot;prefix&quot;: &quot;fa&quot;,\n",
       "  &quot;extraClasses&quot;: &quot;fa-rotate-0&quot;,\n",
       "}\n",
       "            );\n",
       "            marker_3a4f253be857209ab423508ff69964fd.setIcon(icon_3cd3a2825ee763b7db6dc2146ddd679c);\n",
       "        \n",
       "    \n",
       "        var popup_4911b6aea574ddd19bf6f5ecc1f25acf = L.popup({\n",
       "  &quot;maxWidth&quot;: &quot;100%&quot;,\n",
       "});\n",
       "\n",
       "        \n",
       "            \n",
       "                var html_714c0621a31c8eeb8b9fb4b4644bfcef = $(`&lt;div id=&quot;html_714c0621a31c8eeb8b9fb4b4644bfcef&quot; style=&quot;width: 100.0%; height: 100.0%;&quot;&gt;(&quot;&lt;b style=&#x27;font-size: 18px; &#x27;&gt;Don Cuenca&lt;/b&gt;&lt;br&gt;Direccion: General Lee entre Destrampre y Figueroa, Santo Suarez&quot;, &quot;Especialidades: [&#x27;internacional&#x27;, &#x27;criolla&#x27;]&quot;)&lt;/div&gt;`)[0];\n",
       "                popup_4911b6aea574ddd19bf6f5ecc1f25acf.setContent(html_714c0621a31c8eeb8b9fb4b4644bfcef);\n",
       "            \n",
       "        \n",
       "\n",
       "        marker_3a4f253be857209ab423508ff69964fd.bindPopup(popup_4911b6aea574ddd19bf6f5ecc1f25acf)\n",
       "        ;\n",
       "\n",
       "        \n",
       "    \n",
       "    \n",
       "            var marker_2328e8f38a5b473cc99e3e6332a80f5d = L.marker(\n",
       "                [23.133855871057047, -82.37691017469287],\n",
       "                {\n",
       "}\n",
       "            ).addTo(map_25b1f90f2fd0c40419c04f1962b5ebc6);\n",
       "        \n",
       "    \n",
       "            var icon_49f8a5e06ab5cca8c4be4c92364f7cde = L.AwesomeMarkers.icon(\n",
       "                {\n",
       "  &quot;markerColor&quot;: &quot;red&quot;,\n",
       "  &quot;iconColor&quot;: &quot;white&quot;,\n",
       "  &quot;icon&quot;: &quot;cutlery&quot;,\n",
       "  &quot;prefix&quot;: &quot;fa&quot;,\n",
       "  &quot;extraClasses&quot;: &quot;fa-rotate-0&quot;,\n",
       "}\n",
       "            );\n",
       "            marker_2328e8f38a5b473cc99e3e6332a80f5d.setIcon(icon_49f8a5e06ab5cca8c4be4c92364f7cde);\n",
       "        \n",
       "    \n",
       "        var popup_fd2c0dd8742912d70b5426d3f03b9b08 = L.popup({\n",
       "  &quot;maxWidth&quot;: &quot;100%&quot;,\n",
       "});\n",
       "\n",
       "        \n",
       "            \n",
       "                var html_1c404c68fe700282ef5385e98488b2dc = $(`&lt;div id=&quot;html_1c404c68fe700282ef5385e98488b2dc&quot; style=&quot;width: 100.0%; height: 100.0%;&quot;&gt;(&quot;&lt;b style=&#x27;font-size: 18px; &#x27;&gt;nan&lt;/b&gt;&lt;br&gt;Direccion: Zanja entre San Francisco y Espada&quot;, &quot;Especialidades: [&#x27;italiana&#x27;]&quot;)&lt;/div&gt;`)[0];\n",
       "                popup_fd2c0dd8742912d70b5426d3f03b9b08.setContent(html_1c404c68fe700282ef5385e98488b2dc);\n",
       "            \n",
       "        \n",
       "\n",
       "        marker_2328e8f38a5b473cc99e3e6332a80f5d.bindPopup(popup_fd2c0dd8742912d70b5426d3f03b9b08)\n",
       "        ;\n",
       "\n",
       "        \n",
       "    \n",
       "    \n",
       "            var marker_bb5ab6b51335e3c0d4ac60c4d2e68eb6 = L.marker(\n",
       "                [23.086352376882374, -82.36493068982392],\n",
       "                {\n",
       "}\n",
       "            ).addTo(map_25b1f90f2fd0c40419c04f1962b5ebc6);\n",
       "        \n",
       "    \n",
       "            var icon_2b52cf4236977cfc0544693c8e345ff9 = L.AwesomeMarkers.icon(\n",
       "                {\n",
       "  &quot;markerColor&quot;: &quot;red&quot;,\n",
       "  &quot;iconColor&quot;: &quot;white&quot;,\n",
       "  &quot;icon&quot;: &quot;cutlery&quot;,\n",
       "  &quot;prefix&quot;: &quot;fa&quot;,\n",
       "  &quot;extraClasses&quot;: &quot;fa-rotate-0&quot;,\n",
       "}\n",
       "            );\n",
       "            marker_bb5ab6b51335e3c0d4ac60c4d2e68eb6.setIcon(icon_2b52cf4236977cfc0544693c8e345ff9);\n",
       "        \n",
       "    \n",
       "        var popup_5b6134abeafee7683836af3aa8c3c1ce = L.popup({\n",
       "  &quot;maxWidth&quot;: &quot;100%&quot;,\n",
       "});\n",
       "\n",
       "        \n",
       "            \n",
       "                var html_0905fe5dda70958f52e97ac7ccbb31be = $(`&lt;div id=&quot;html_0905fe5dda70958f52e97ac7ccbb31be&quot; style=&quot;width: 100.0%; height: 100.0%;&quot;&gt;(&quot;&lt;b style=&#x27;font-size: 18px; &#x27;&gt;D&#x27;Mitu&lt;/b&gt;&lt;br&gt;Direccion: Calle 1ra #64 Altos entre Gertrudis y Lagueruela, La Víbora&quot;, &#x27;Especialidades: nan&#x27;)&lt;/div&gt;`)[0];\n",
       "                popup_5b6134abeafee7683836af3aa8c3c1ce.setContent(html_0905fe5dda70958f52e97ac7ccbb31be);\n",
       "            \n",
       "        \n",
       "\n",
       "        marker_bb5ab6b51335e3c0d4ac60c4d2e68eb6.bindPopup(popup_5b6134abeafee7683836af3aa8c3c1ce)\n",
       "        ;\n",
       "\n",
       "        \n",
       "    \n",
       "    \n",
       "            var marker_3ab1aadf56fefd1a616673e617527f9f = L.marker(\n",
       "                [23.043056190451246, -82.26299304585932],\n",
       "                {\n",
       "}\n",
       "            ).addTo(map_25b1f90f2fd0c40419c04f1962b5ebc6);\n",
       "        \n",
       "    \n",
       "            var icon_1a893f3efec6e2c631303d30303a750b = L.AwesomeMarkers.icon(\n",
       "                {\n",
       "  &quot;markerColor&quot;: &quot;red&quot;,\n",
       "  &quot;iconColor&quot;: &quot;white&quot;,\n",
       "  &quot;icon&quot;: &quot;cutlery&quot;,\n",
       "  &quot;prefix&quot;: &quot;fa&quot;,\n",
       "  &quot;extraClasses&quot;: &quot;fa-rotate-0&quot;,\n",
       "}\n",
       "            );\n",
       "            marker_3ab1aadf56fefd1a616673e617527f9f.setIcon(icon_1a893f3efec6e2c631303d30303a750b);\n",
       "        \n",
       "    \n",
       "        var popup_6b98fd25ac1d1c6e2f362b7fa621a8d3 = L.popup({\n",
       "  &quot;maxWidth&quot;: &quot;100%&quot;,\n",
       "});\n",
       "\n",
       "        \n",
       "            \n",
       "                var html_a29074d5bc054d76267efacbd256f0ff = $(`&lt;div id=&quot;html_a29074d5bc054d76267efacbd256f0ff&quot; style=&quot;width: 100.0%; height: 100.0%;&quot;&gt;(&quot;&lt;b style=&#x27;font-size: 18px; &#x27;&gt;El Bache&lt;/b&gt;&lt;br&gt;Direccion: Calle 30 entre 95 y 97,Las Brisas&quot;, &quot;Especialidades: [&#x27;italiana&#x27;]&quot;)&lt;/div&gt;`)[0];\n",
       "                popup_6b98fd25ac1d1c6e2f362b7fa621a8d3.setContent(html_a29074d5bc054d76267efacbd256f0ff);\n",
       "            \n",
       "        \n",
       "\n",
       "        marker_3ab1aadf56fefd1a616673e617527f9f.bindPopup(popup_6b98fd25ac1d1c6e2f362b7fa621a8d3)\n",
       "        ;\n",
       "\n",
       "        \n",
       "    \n",
       "    \n",
       "            var marker_b0a1d3909d8b01fe25b2055644e02621 = L.marker(\n",
       "                [23.13606132355121, -82.390171562352],\n",
       "                {\n",
       "}\n",
       "            ).addTo(map_25b1f90f2fd0c40419c04f1962b5ebc6);\n",
       "        \n",
       "    \n",
       "            var icon_ec29433bba24f7378ba2f15a1af09418 = L.AwesomeMarkers.icon(\n",
       "                {\n",
       "  &quot;markerColor&quot;: &quot;red&quot;,\n",
       "  &quot;iconColor&quot;: &quot;white&quot;,\n",
       "  &quot;icon&quot;: &quot;cutlery&quot;,\n",
       "  &quot;prefix&quot;: &quot;fa&quot;,\n",
       "  &quot;extraClasses&quot;: &quot;fa-rotate-0&quot;,\n",
       "}\n",
       "            );\n",
       "            marker_b0a1d3909d8b01fe25b2055644e02621.setIcon(icon_ec29433bba24f7378ba2f15a1af09418);\n",
       "        \n",
       "    \n",
       "        var popup_f7ff0f6950f298b765743e8d096c27a1 = L.popup({\n",
       "  &quot;maxWidth&quot;: &quot;100%&quot;,\n",
       "});\n",
       "\n",
       "        \n",
       "            \n",
       "                var html_ad4cc209f546e31b50adb39be43bd9a7 = $(`&lt;div id=&quot;html_ad4cc209f546e31b50adb39be43bd9a7&quot; style=&quot;width: 100.0%; height: 100.0%;&quot;&gt;(&quot;&lt;b style=&#x27;font-size: 18px; &#x27;&gt;El Balcón de Bruno y Pilar&lt;/b&gt;&lt;br&gt;Direccion: Calle 21 entre E y F, Vedado&quot;, &quot;Especialidades: [&#x27;comida cubana&#x27;, &#x27;latina&#x27;, &#x27;caribeña&#x27;]&quot;)&lt;/div&gt;`)[0];\n",
       "                popup_f7ff0f6950f298b765743e8d096c27a1.setContent(html_ad4cc209f546e31b50adb39be43bd9a7);\n",
       "            \n",
       "        \n",
       "\n",
       "        marker_b0a1d3909d8b01fe25b2055644e02621.bindPopup(popup_f7ff0f6950f298b765743e8d096c27a1)\n",
       "        ;\n",
       "\n",
       "        \n",
       "    \n",
       "    \n",
       "            var marker_0443c5207728a4b78df863d5d7fba98f = L.marker(\n",
       "                [23.13092126125738, -82.4081035552695],\n",
       "                {\n",
       "}\n",
       "            ).addTo(map_25b1f90f2fd0c40419c04f1962b5ebc6);\n",
       "        \n",
       "    \n",
       "            var icon_6e74e1b4f59daea593b8d1eedfc5e9b0 = L.AwesomeMarkers.icon(\n",
       "                {\n",
       "  &quot;markerColor&quot;: &quot;red&quot;,\n",
       "  &quot;iconColor&quot;: &quot;white&quot;,\n",
       "  &quot;icon&quot;: &quot;cutlery&quot;,\n",
       "  &quot;prefix&quot;: &quot;fa&quot;,\n",
       "  &quot;extraClasses&quot;: &quot;fa-rotate-0&quot;,\n",
       "}\n",
       "            );\n",
       "            marker_0443c5207728a4b78df863d5d7fba98f.setIcon(icon_6e74e1b4f59daea593b8d1eedfc5e9b0);\n",
       "        \n",
       "    \n",
       "        var popup_a39cf73cfbc1d53e631eb276f038d7a1 = L.popup({\n",
       "  &quot;maxWidth&quot;: &quot;100%&quot;,\n",
       "});\n",
       "\n",
       "        \n",
       "            \n",
       "                var html_9bcca5f923010d6b47390c76068ba867 = $(`&lt;div id=&quot;html_9bcca5f923010d6b47390c76068ba867&quot; style=&quot;width: 100.0%; height: 100.0%;&quot;&gt;(&quot;&lt;b style=&#x27;font-size: 18px; &#x27;&gt;El bejuco&lt;/b&gt;&lt;br&gt;Direccion: Calle Línea 1206 e/ 18 y 20, Vedado&quot;, &quot;Especialidades: [&#x27;Entrantes&#x27;]&quot;)&lt;/div&gt;`)[0];\n",
       "                popup_a39cf73cfbc1d53e631eb276f038d7a1.setContent(html_9bcca5f923010d6b47390c76068ba867);\n",
       "            \n",
       "        \n",
       "\n",
       "        marker_0443c5207728a4b78df863d5d7fba98f.bindPopup(popup_a39cf73cfbc1d53e631eb276f038d7a1)\n",
       "        ;\n",
       "\n",
       "        \n",
       "    \n",
       "    \n",
       "            var marker_c2cc10b099706b63b9f002a15e41b13e = L.marker(\n",
       "                [23.138186063729933, -82.37857239003395],\n",
       "                {\n",
       "}\n",
       "            ).addTo(map_25b1f90f2fd0c40419c04f1962b5ebc6);\n",
       "        \n",
       "    \n",
       "            var icon_7eca5f2614c285c5fe90a22d17b2fbb7 = L.AwesomeMarkers.icon(\n",
       "                {\n",
       "  &quot;markerColor&quot;: &quot;red&quot;,\n",
       "  &quot;iconColor&quot;: &quot;white&quot;,\n",
       "  &quot;icon&quot;: &quot;cutlery&quot;,\n",
       "  &quot;prefix&quot;: &quot;fa&quot;,\n",
       "  &quot;extraClasses&quot;: &quot;fa-rotate-0&quot;,\n",
       "}\n",
       "            );\n",
       "            marker_c2cc10b099706b63b9f002a15e41b13e.setIcon(icon_7eca5f2614c285c5fe90a22d17b2fbb7);\n",
       "        \n",
       "    \n",
       "        var popup_ef507a72481793808b897b9268f6556e = L.popup({\n",
       "  &quot;maxWidth&quot;: &quot;100%&quot;,\n",
       "});\n",
       "\n",
       "        \n",
       "            \n",
       "                var html_9bba624bdd9dd1bf00c0a18e2836144d = $(`&lt;div id=&quot;html_9bba624bdd9dd1bf00c0a18e2836144d&quot; style=&quot;width: 100.0%; height: 100.0%;&quot;&gt;(&quot;&lt;b style=&#x27;font-size: 18px; &#x27;&gt;El Biki&lt;/b&gt;&lt;br&gt;Direccion: Infanta entre San Lazaro y Concordia&quot;, &quot;Especialidades: [&#x27;Cubana&#x27;, &#x27;Mixta&#x27;]&quot;)&lt;/div&gt;`)[0];\n",
       "                popup_ef507a72481793808b897b9268f6556e.setContent(html_9bba624bdd9dd1bf00c0a18e2836144d);\n",
       "            \n",
       "        \n",
       "\n",
       "        marker_c2cc10b099706b63b9f002a15e41b13e.bindPopup(popup_ef507a72481793808b897b9268f6556e)\n",
       "        ;\n",
       "\n",
       "        \n",
       "    \n",
       "    \n",
       "            var marker_08f3bffc11f05522a6e16a9f4de262ce = L.marker(\n",
       "                [23.12735682638094, -82.40996375436582],\n",
       "                {\n",
       "}\n",
       "            ).addTo(map_25b1f90f2fd0c40419c04f1962b5ebc6);\n",
       "        \n",
       "    \n",
       "            var icon_dc1f5493cb664f5608f4c8a977aa1dd8 = L.AwesomeMarkers.icon(\n",
       "                {\n",
       "  &quot;markerColor&quot;: &quot;red&quot;,\n",
       "  &quot;iconColor&quot;: &quot;white&quot;,\n",
       "  &quot;icon&quot;: &quot;cutlery&quot;,\n",
       "  &quot;prefix&quot;: &quot;fa&quot;,\n",
       "  &quot;extraClasses&quot;: &quot;fa-rotate-0&quot;,\n",
       "}\n",
       "            );\n",
       "            marker_08f3bffc11f05522a6e16a9f4de262ce.setIcon(icon_dc1f5493cb664f5608f4c8a977aa1dd8);\n",
       "        \n",
       "    \n",
       "        var popup_45c572695b7e75130e5b021f62854c41 = L.popup({\n",
       "  &quot;maxWidth&quot;: &quot;100%&quot;,\n",
       "});\n",
       "\n",
       "        \n",
       "            \n",
       "                var html_eec21a4f105a4ee08d07731437ee1406 = $(`&lt;div id=&quot;html_eec21a4f105a4ee08d07731437ee1406&quot; style=&quot;width: 100.0%; height: 100.0%;&quot;&gt;(&quot;&lt;b style=&#x27;font-size: 18px; &#x27;&gt;El cocinero&lt;/b&gt;&lt;br&gt;Direccion: Calle 26 #57 entre 11 y 13, Vedado&quot;, &quot;Especialidades: [&#x27;comida caribeña&#x27;, &#x27;latina&#x27;, &#x27;cubana&#x27;]&quot;)&lt;/div&gt;`)[0];\n",
       "                popup_45c572695b7e75130e5b021f62854c41.setContent(html_eec21a4f105a4ee08d07731437ee1406);\n",
       "            \n",
       "        \n",
       "\n",
       "        marker_08f3bffc11f05522a6e16a9f4de262ce.bindPopup(popup_45c572695b7e75130e5b021f62854c41)\n",
       "        ;\n",
       "\n",
       "        \n",
       "    \n",
       "    \n",
       "            var marker_ce8a55388df94e01813989f88ebc85c6 = L.marker(\n",
       "                [23.044405916184044, -82.24840719111886],\n",
       "                {\n",
       "}\n",
       "            ).addTo(map_25b1f90f2fd0c40419c04f1962b5ebc6);\n",
       "        \n",
       "    \n",
       "            var icon_123e53cb3d287b7f5043ab87058f4618 = L.AwesomeMarkers.icon(\n",
       "                {\n",
       "  &quot;markerColor&quot;: &quot;red&quot;,\n",
       "  &quot;iconColor&quot;: &quot;white&quot;,\n",
       "  &quot;icon&quot;: &quot;cutlery&quot;,\n",
       "  &quot;prefix&quot;: &quot;fa&quot;,\n",
       "  &quot;extraClasses&quot;: &quot;fa-rotate-0&quot;,\n",
       "}\n",
       "            );\n",
       "            marker_ce8a55388df94e01813989f88ebc85c6.setIcon(icon_123e53cb3d287b7f5043ab87058f4618);\n",
       "        \n",
       "    \n",
       "        var popup_ed213b426094e70c8076f5d3f82e7fad = L.popup({\n",
       "  &quot;maxWidth&quot;: &quot;100%&quot;,\n",
       "});\n",
       "\n",
       "        \n",
       "            \n",
       "                var html_cf4234889eb26e776e766e3ee219cfa7 = $(`&lt;div id=&quot;html_cf4234889eb26e776e766e3ee219cfa7&quot; style=&quot;width: 100.0%; height: 100.0%;&quot;&gt;(&quot;&lt;b style=&#x27;font-size: 18px; &#x27;&gt;El Desafio&lt;/b&gt;&lt;br&gt;Direccion: calle 58 número 6712 % 67 y 69&quot;, &quot;Especialidades: [&#x27;cubana&#x27;]&quot;)&lt;/div&gt;`)[0];\n",
       "                popup_ed213b426094e70c8076f5d3f82e7fad.setContent(html_cf4234889eb26e776e766e3ee219cfa7);\n",
       "            \n",
       "        \n",
       "\n",
       "        marker_ce8a55388df94e01813989f88ebc85c6.bindPopup(popup_ed213b426094e70c8076f5d3f82e7fad)\n",
       "        ;\n",
       "\n",
       "        \n",
       "    \n",
       "    \n",
       "            var marker_2cd0cc430fd561a5a63c1d64e96035ff = L.marker(\n",
       "                [23.124197583024838, -82.40414784293249],\n",
       "                {\n",
       "}\n",
       "            ).addTo(map_25b1f90f2fd0c40419c04f1962b5ebc6);\n",
       "        \n",
       "    \n",
       "            var icon_b365951e82ab8aef2ee391497120e94d = L.AwesomeMarkers.icon(\n",
       "                {\n",
       "  &quot;markerColor&quot;: &quot;red&quot;,\n",
       "  &quot;iconColor&quot;: &quot;white&quot;,\n",
       "  &quot;icon&quot;: &quot;cutlery&quot;,\n",
       "  &quot;prefix&quot;: &quot;fa&quot;,\n",
       "  &quot;extraClasses&quot;: &quot;fa-rotate-0&quot;,\n",
       "}\n",
       "            );\n",
       "            marker_2cd0cc430fd561a5a63c1d64e96035ff.setIcon(icon_b365951e82ab8aef2ee391497120e94d);\n",
       "        \n",
       "    \n",
       "        var popup_11a9bd1f010f312cba2f54cde29ef776 = L.popup({\n",
       "  &quot;maxWidth&quot;: &quot;100%&quot;,\n",
       "});\n",
       "\n",
       "        \n",
       "            \n",
       "                var html_398c7481437efaebe14791e9ab674913 = $(`&lt;div id=&quot;html_398c7481437efaebe14791e9ab674913&quot; style=&quot;width: 100.0%; height: 100.0%;&quot;&gt;(&quot;&lt;b style=&#x27;font-size: 18px; &#x27;&gt;El Farallon&lt;/b&gt;&lt;br&gt;Direccion: Calle 22 #361, esq. 23, Vedado&quot;, &quot;Especialidades: [&#x27;comida cubana&#x27;, &#x27;caribeña&#x27;, &#x27;latina&#x27;, &#x27;italiana&#x27;]&quot;)&lt;/div&gt;`)[0];\n",
       "                popup_11a9bd1f010f312cba2f54cde29ef776.setContent(html_398c7481437efaebe14791e9ab674913);\n",
       "            \n",
       "        \n",
       "\n",
       "        marker_2cd0cc430fd561a5a63c1d64e96035ff.bindPopup(popup_11a9bd1f010f312cba2f54cde29ef776)\n",
       "        ;\n",
       "\n",
       "        \n",
       "    \n",
       "    \n",
       "            var marker_839ab1029d17e50593158a7e3fb3d846 = L.marker(\n",
       "                [23.13993930039699, -82.39045883912888],\n",
       "                {\n",
       "}\n",
       "            ).addTo(map_25b1f90f2fd0c40419c04f1962b5ebc6);\n",
       "        \n",
       "    \n",
       "            var icon_a87fa0a8bbf8c6ebf85888792fa1f459 = L.AwesomeMarkers.icon(\n",
       "                {\n",
       "  &quot;markerColor&quot;: &quot;red&quot;,\n",
       "  &quot;iconColor&quot;: &quot;white&quot;,\n",
       "  &quot;icon&quot;: &quot;cutlery&quot;,\n",
       "  &quot;prefix&quot;: &quot;fa&quot;,\n",
       "  &quot;extraClasses&quot;: &quot;fa-rotate-0&quot;,\n",
       "}\n",
       "            );\n",
       "            marker_839ab1029d17e50593158a7e3fb3d846.setIcon(icon_a87fa0a8bbf8c6ebf85888792fa1f459);\n",
       "        \n",
       "    \n",
       "        var popup_1bdb1988b79b442b04e1e5d5dc158751 = L.popup({\n",
       "  &quot;maxWidth&quot;: &quot;100%&quot;,\n",
       "});\n",
       "\n",
       "        \n",
       "            \n",
       "                var html_62c45f5292bb7bfd96185e10f66de6ef = $(`&lt;div id=&quot;html_62c45f5292bb7bfd96185e10f66de6ef&quot; style=&quot;width: 100.0%; height: 100.0%;&quot;&gt;(&quot;&lt;b style=&#x27;font-size: 18px; &#x27;&gt;El Idilio&lt;/b&gt;&lt;br&gt;Direccion: Calle G esquina 15, Vedado&quot;, &quot;Especialidades: [&#x27;comida cubana&#x27;, &#x27;mariscos&#x27;]&quot;)&lt;/div&gt;`)[0];\n",
       "                popup_1bdb1988b79b442b04e1e5d5dc158751.setContent(html_62c45f5292bb7bfd96185e10f66de6ef);\n",
       "            \n",
       "        \n",
       "\n",
       "        marker_839ab1029d17e50593158a7e3fb3d846.bindPopup(popup_1bdb1988b79b442b04e1e5d5dc158751)\n",
       "        ;\n",
       "\n",
       "        \n",
       "    \n",
       "    \n",
       "            var marker_6e05d10f5439decf330ce1e009c1e7cc = L.marker(\n",
       "                [23.13577030941659, -82.35714206462553],\n",
       "                {\n",
       "}\n",
       "            ).addTo(map_25b1f90f2fd0c40419c04f1962b5ebc6);\n",
       "        \n",
       "    \n",
       "            var icon_521248a0beade9fdccbddf1129ead57e = L.AwesomeMarkers.icon(\n",
       "                {\n",
       "  &quot;markerColor&quot;: &quot;red&quot;,\n",
       "  &quot;iconColor&quot;: &quot;white&quot;,\n",
       "  &quot;icon&quot;: &quot;cutlery&quot;,\n",
       "  &quot;prefix&quot;: &quot;fa&quot;,\n",
       "  &quot;extraClasses&quot;: &quot;fa-rotate-0&quot;,\n",
       "}\n",
       "            );\n",
       "            marker_6e05d10f5439decf330ce1e009c1e7cc.setIcon(icon_521248a0beade9fdccbddf1129ead57e);\n",
       "        \n",
       "    \n",
       "        var popup_98553525a464f80961fa8533372c780a = L.popup({\n",
       "  &quot;maxWidth&quot;: &quot;100%&quot;,\n",
       "});\n",
       "\n",
       "        \n",
       "            \n",
       "                var html_6f61c482f38c94f71babf109255e1cdc = $(`&lt;div id=&quot;html_6f61c482f38c94f71babf109255e1cdc&quot; style=&quot;width: 100.0%; height: 100.0%;&quot;&gt;(&quot;&lt;b style=&#x27;font-size: 18px; &#x27;&gt;El_Kilometro_Zero&lt;/b&gt;&lt;br&gt;Direccion: Monserrate #437 Esq Teniente Rey&quot;, &quot;Especialidades: [&#x27;criolla&#x27;]&quot;)&lt;/div&gt;`)[0];\n",
       "                popup_98553525a464f80961fa8533372c780a.setContent(html_6f61c482f38c94f71babf109255e1cdc);\n",
       "            \n",
       "        \n",
       "\n",
       "        marker_6e05d10f5439decf330ce1e009c1e7cc.bindPopup(popup_98553525a464f80961fa8533372c780a)\n",
       "        ;\n",
       "\n",
       "        \n",
       "    \n",
       "    \n",
       "            var marker_febd4bee44787500138d498c27ef7667 = L.marker(\n",
       "                [23.130866904291352, -82.30698134006616],\n",
       "                {\n",
       "}\n",
       "            ).addTo(map_25b1f90f2fd0c40419c04f1962b5ebc6);\n",
       "        \n",
       "    \n",
       "            var icon_88002cfc902b1d7c340d85147dd5d7dd = L.AwesomeMarkers.icon(\n",
       "                {\n",
       "  &quot;markerColor&quot;: &quot;red&quot;,\n",
       "  &quot;iconColor&quot;: &quot;white&quot;,\n",
       "  &quot;icon&quot;: &quot;cutlery&quot;,\n",
       "  &quot;prefix&quot;: &quot;fa&quot;,\n",
       "  &quot;extraClasses&quot;: &quot;fa-rotate-0&quot;,\n",
       "}\n",
       "            );\n",
       "            marker_febd4bee44787500138d498c27ef7667.setIcon(icon_88002cfc902b1d7c340d85147dd5d7dd);\n",
       "        \n",
       "    \n",
       "        var popup_b8d5ed0b2229f7f633f0f5b128372670 = L.popup({\n",
       "  &quot;maxWidth&quot;: &quot;100%&quot;,\n",
       "});\n",
       "\n",
       "        \n",
       "            \n",
       "                var html_74fde0411779901b18877ae05390fc2b = $(`&lt;div id=&quot;html_74fde0411779901b18877ae05390fc2b&quot; style=&quot;width: 100.0%; height: 100.0%;&quot;&gt;(&quot;&lt;b style=&#x27;font-size: 18px; &#x27;&gt;El Mexicano&lt;/b&gt;&lt;br&gt;Direccion: Avenida Quinta&quot;, &quot;Especialidades: [&#x27;pizzas&#x27;, &#x27;pastas&#x27;]&quot;)&lt;/div&gt;`)[0];\n",
       "                popup_b8d5ed0b2229f7f633f0f5b128372670.setContent(html_74fde0411779901b18877ae05390fc2b);\n",
       "            \n",
       "        \n",
       "\n",
       "        marker_febd4bee44787500138d498c27ef7667.bindPopup(popup_b8d5ed0b2229f7f633f0f5b128372670)\n",
       "        ;\n",
       "\n",
       "        \n",
       "    \n",
       "    \n",
       "            var marker_d711f414646dc505a244f1d55f0688ce = L.marker(\n",
       "                [23.090152188614443, -82.37829626100522],\n",
       "                {\n",
       "}\n",
       "            ).addTo(map_25b1f90f2fd0c40419c04f1962b5ebc6);\n",
       "        \n",
       "    \n",
       "            var icon_95f6c7aaf583b1c87f31b2869ca02c62 = L.AwesomeMarkers.icon(\n",
       "                {\n",
       "  &quot;markerColor&quot;: &quot;red&quot;,\n",
       "  &quot;iconColor&quot;: &quot;white&quot;,\n",
       "  &quot;icon&quot;: &quot;cutlery&quot;,\n",
       "  &quot;prefix&quot;: &quot;fa&quot;,\n",
       "  &quot;extraClasses&quot;: &quot;fa-rotate-0&quot;,\n",
       "}\n",
       "            );\n",
       "            marker_d711f414646dc505a244f1d55f0688ce.setIcon(icon_95f6c7aaf583b1c87f31b2869ca02c62);\n",
       "        \n",
       "    \n",
       "        var popup_39e82719bbc5b886181fafce9443f7d9 = L.popup({\n",
       "  &quot;maxWidth&quot;: &quot;100%&quot;,\n",
       "});\n",
       "\n",
       "        \n",
       "            \n",
       "                var html_eeaa441b2498dd363b7def9e2b4411ea = $(`&lt;div id=&quot;html_eeaa441b2498dd363b7def9e2b4411ea&quot; style=&quot;width: 100.0%; height: 100.0%;&quot;&gt;(&quot;&lt;b style=&#x27;font-size: 18px; &#x27;&gt;El Monakeno&lt;/b&gt;&lt;br&gt;Direccion: Avenida Mayia Rodriguez entre Acosta y O&#x27;Farril&quot;, &quot;Especialidades: [&#x27;internacional&#x27;]&quot;)&lt;/div&gt;`)[0];\n",
       "                popup_39e82719bbc5b886181fafce9443f7d9.setContent(html_eeaa441b2498dd363b7def9e2b4411ea);\n",
       "            \n",
       "        \n",
       "\n",
       "        marker_d711f414646dc505a244f1d55f0688ce.bindPopup(popup_39e82719bbc5b886181fafce9443f7d9)\n",
       "        ;\n",
       "\n",
       "        \n",
       "    \n",
       "    \n",
       "            var marker_4a97f1a22131dea0b9df44d5415aab6d = L.marker(\n",
       "                [23.08621062775345, -82.46251984696866],\n",
       "                {\n",
       "}\n",
       "            ).addTo(map_25b1f90f2fd0c40419c04f1962b5ebc6);\n",
       "        \n",
       "    \n",
       "            var icon_6016784d1ebb713c70251345dca970e1 = L.AwesomeMarkers.icon(\n",
       "                {\n",
       "  &quot;markerColor&quot;: &quot;red&quot;,\n",
       "  &quot;iconColor&quot;: &quot;white&quot;,\n",
       "  &quot;icon&quot;: &quot;cutlery&quot;,\n",
       "  &quot;prefix&quot;: &quot;fa&quot;,\n",
       "  &quot;extraClasses&quot;: &quot;fa-rotate-0&quot;,\n",
       "}\n",
       "            );\n",
       "            marker_4a97f1a22131dea0b9df44d5415aab6d.setIcon(icon_6016784d1ebb713c70251345dca970e1);\n",
       "        \n",
       "    \n",
       "        var popup_6ffa37edb6495b85e69849bf7a8bc65c = L.popup({\n",
       "  &quot;maxWidth&quot;: &quot;100%&quot;,\n",
       "});\n",
       "\n",
       "        \n",
       "            \n",
       "                var html_7c92fa1ea35ff4bbe14632a23c7227b4 = $(`&lt;div id=&quot;html_7c92fa1ea35ff4bbe14632a23c7227b4&quot; style=&quot;width: 100.0%; height: 100.0%;&quot;&gt;(&quot;&lt;b style=&#x27;font-size: 18px; &#x27;&gt;El Palenque&lt;/b&gt;&lt;br&gt;Direccion: Calle 17 esquina a190&quot;, &quot;Especialidades: [&#x27;caribena&#x27;, &#x27;latina&#x27;, &#x27;internacional&#x27;, &#x27;cubana&#x27;]&quot;)&lt;/div&gt;`)[0];\n",
       "                popup_6ffa37edb6495b85e69849bf7a8bc65c.setContent(html_7c92fa1ea35ff4bbe14632a23c7227b4);\n",
       "            \n",
       "        \n",
       "\n",
       "        marker_4a97f1a22131dea0b9df44d5415aab6d.bindPopup(popup_6ffa37edb6495b85e69849bf7a8bc65c)\n",
       "        ;\n",
       "\n",
       "        \n",
       "    \n",
       "    \n",
       "            var marker_e3fa28dca55470b4f25d39397dbf523d = L.marker(\n",
       "                [23.101843184677417, -82.34140821329014],\n",
       "                {\n",
       "}\n",
       "            ).addTo(map_25b1f90f2fd0c40419c04f1962b5ebc6);\n",
       "        \n",
       "    \n",
       "            var icon_c1ff03fd6af79514c5d6b566f816eda2 = L.AwesomeMarkers.icon(\n",
       "                {\n",
       "  &quot;markerColor&quot;: &quot;red&quot;,\n",
       "  &quot;iconColor&quot;: &quot;white&quot;,\n",
       "  &quot;icon&quot;: &quot;cutlery&quot;,\n",
       "  &quot;prefix&quot;: &quot;fa&quot;,\n",
       "  &quot;extraClasses&quot;: &quot;fa-rotate-0&quot;,\n",
       "}\n",
       "            );\n",
       "            marker_e3fa28dca55470b4f25d39397dbf523d.setIcon(icon_c1ff03fd6af79514c5d6b566f816eda2);\n",
       "        \n",
       "    \n",
       "        var popup_c232f3871f790ac812549e9d1be6e622 = L.popup({\n",
       "  &quot;maxWidth&quot;: &quot;100%&quot;,\n",
       "});\n",
       "\n",
       "        \n",
       "            \n",
       "                var html_d9c96b1e6fc313a364f7d845a269f667 = $(`&lt;div id=&quot;html_d9c96b1e6fc313a364f7d845a269f667&quot; style=&quot;width: 100.0%; height: 100.0%;&quot;&gt;(&quot;&lt;b style=&#x27;font-size: 18px; &#x27;&gt;El Pecado&lt;/b&gt;&lt;br&gt;Direccion: Matos frente al parque de los Chivos&quot;, &quot;Especialidades: [&#x27;mixta&#x27;, &#x27;cuabana&#x27;]&quot;)&lt;/div&gt;`)[0];\n",
       "                popup_c232f3871f790ac812549e9d1be6e622.setContent(html_d9c96b1e6fc313a364f7d845a269f667);\n",
       "            \n",
       "        \n",
       "\n",
       "        marker_e3fa28dca55470b4f25d39397dbf523d.bindPopup(popup_c232f3871f790ac812549e9d1be6e622)\n",
       "        ;\n",
       "\n",
       "        \n",
       "    \n",
       "    \n",
       "            var marker_df9dd3ed25a82cdaf9d26b370196c0e5 = L.marker(\n",
       "                [23.05809340873481, -82.22647413651553],\n",
       "                {\n",
       "}\n",
       "            ).addTo(map_25b1f90f2fd0c40419c04f1962b5ebc6);\n",
       "        \n",
       "    \n",
       "            var icon_ae58806b2d81b262dd00dad24c46c361 = L.AwesomeMarkers.icon(\n",
       "                {\n",
       "  &quot;markerColor&quot;: &quot;red&quot;,\n",
       "  &quot;iconColor&quot;: &quot;white&quot;,\n",
       "  &quot;icon&quot;: &quot;cutlery&quot;,\n",
       "  &quot;prefix&quot;: &quot;fa&quot;,\n",
       "  &quot;extraClasses&quot;: &quot;fa-rotate-0&quot;,\n",
       "}\n",
       "            );\n",
       "            marker_df9dd3ed25a82cdaf9d26b370196c0e5.setIcon(icon_ae58806b2d81b262dd00dad24c46c361);\n",
       "        \n",
       "    \n",
       "        var popup_131e6691ffadfafc6c7ed797e472b912 = L.popup({\n",
       "  &quot;maxWidth&quot;: &quot;100%&quot;,\n",
       "});\n",
       "\n",
       "        \n",
       "            \n",
       "                var html_e2913938e6e4eb7dfaceee08c7fdedcc = $(`&lt;div id=&quot;html_e2913938e6e4eb7dfaceee08c7fdedcc&quot; style=&quot;width: 100.0%; height: 100.0%;&quot;&gt;(&quot;&lt;b style=&#x27;font-size: 18px; &#x27;&gt;El Pellizco&lt;/b&gt;&lt;br&gt;Direccion: Desconocida&quot;, &quot;Especialidades: [&#x27;criolla&#x27;]&quot;)&lt;/div&gt;`)[0];\n",
       "                popup_131e6691ffadfafc6c7ed797e472b912.setContent(html_e2913938e6e4eb7dfaceee08c7fdedcc);\n",
       "            \n",
       "        \n",
       "\n",
       "        marker_df9dd3ed25a82cdaf9d26b370196c0e5.bindPopup(popup_131e6691ffadfafc6c7ed797e472b912)\n",
       "        ;\n",
       "\n",
       "        \n",
       "    \n",
       "    \n",
       "            var marker_076d910adb9e48b2560fce4969b159b8 = L.marker(\n",
       "                [23.16199568264451, -82.29712225037608],\n",
       "                {\n",
       "}\n",
       "            ).addTo(map_25b1f90f2fd0c40419c04f1962b5ebc6);\n",
       "        \n",
       "    \n",
       "            var icon_9e10e85fdcf50d715c0c2b0edd02ab36 = L.AwesomeMarkers.icon(\n",
       "                {\n",
       "  &quot;markerColor&quot;: &quot;red&quot;,\n",
       "  &quot;iconColor&quot;: &quot;white&quot;,\n",
       "  &quot;icon&quot;: &quot;cutlery&quot;,\n",
       "  &quot;prefix&quot;: &quot;fa&quot;,\n",
       "  &quot;extraClasses&quot;: &quot;fa-rotate-0&quot;,\n",
       "}\n",
       "            );\n",
       "            marker_076d910adb9e48b2560fce4969b159b8.setIcon(icon_9e10e85fdcf50d715c0c2b0edd02ab36);\n",
       "        \n",
       "    \n",
       "        var popup_8047a4d741f3bca6cc0fd729e98ab705 = L.popup({\n",
       "  &quot;maxWidth&quot;: &quot;100%&quot;,\n",
       "});\n",
       "\n",
       "        \n",
       "            \n",
       "                var html_d4864373320a2ae703a6e68a64fe0fc7 = $(`&lt;div id=&quot;html_d4864373320a2ae703a6e68a64fe0fc7&quot; style=&quot;width: 100.0%; height: 100.0%;&quot;&gt;(&quot;&lt;b style=&#x27;font-size: 18px; &#x27;&gt;El Ajiaco&lt;/b&gt;&lt;br&gt;Direccion: Esquina de calle Los Pinos y Cuba, Cojimar&quot;, &quot;Especialidades: [&#x27;Criolla&#x27;]&quot;)&lt;/div&gt;`)[0];\n",
       "                popup_8047a4d741f3bca6cc0fd729e98ab705.setContent(html_d4864373320a2ae703a6e68a64fe0fc7);\n",
       "            \n",
       "        \n",
       "\n",
       "        marker_076d910adb9e48b2560fce4969b159b8.bindPopup(popup_8047a4d741f3bca6cc0fd729e98ab705)\n",
       "        ;\n",
       "\n",
       "        \n",
       "    \n",
       "    \n",
       "            var marker_40795725de0e2b97f1206b59408f7414 = L.marker(\n",
       "                [23.105902940435307, -82.38894680785327],\n",
       "                {\n",
       "}\n",
       "            ).addTo(map_25b1f90f2fd0c40419c04f1962b5ebc6);\n",
       "        \n",
       "    \n",
       "            var icon_794181a70c1c56e25d22029a11df7456 = L.AwesomeMarkers.icon(\n",
       "                {\n",
       "  &quot;markerColor&quot;: &quot;red&quot;,\n",
       "  &quot;iconColor&quot;: &quot;white&quot;,\n",
       "  &quot;icon&quot;: &quot;cutlery&quot;,\n",
       "  &quot;prefix&quot;: &quot;fa&quot;,\n",
       "  &quot;extraClasses&quot;: &quot;fa-rotate-0&quot;,\n",
       "}\n",
       "            );\n",
       "            marker_40795725de0e2b97f1206b59408f7414.setIcon(icon_794181a70c1c56e25d22029a11df7456);\n",
       "        \n",
       "    \n",
       "        var popup_36771000137e11bb3d198c3a91987131 = L.popup({\n",
       "  &quot;maxWidth&quot;: &quot;100%&quot;,\n",
       "});\n",
       "\n",
       "        \n",
       "            \n",
       "                var html_0f4c64866ba7f67d2c68c0d56c21794f = $(`&lt;div id=&quot;html_0f4c64866ba7f67d2c68c0d56c21794f&quot; style=&quot;width: 100.0%; height: 100.0%;&quot;&gt;(&quot;&lt;b style=&#x27;font-size: 18px; &#x27;&gt;El Batazo&lt;/b&gt;&lt;br&gt;Direccion: Primelles entre Santa Teresa y Daolz&quot;, &quot;Especialidades: [&#x27;italiana&#x27;]&quot;)&lt;/div&gt;`)[0];\n",
       "                popup_36771000137e11bb3d198c3a91987131.setContent(html_0f4c64866ba7f67d2c68c0d56c21794f);\n",
       "            \n",
       "        \n",
       "\n",
       "        marker_40795725de0e2b97f1206b59408f7414.bindPopup(popup_36771000137e11bb3d198c3a91987131)\n",
       "        ;\n",
       "\n",
       "        \n",
       "    \n",
       "    \n",
       "            var marker_ce43b54cd0c9a2bb543454a3faec8083 = L.marker(\n",
       "                [23.14135090318694, -82.37416801831066],\n",
       "                {\n",
       "}\n",
       "            ).addTo(map_25b1f90f2fd0c40419c04f1962b5ebc6);\n",
       "        \n",
       "    \n",
       "            var icon_c1ba543e3491a5f6bb298cf70fcc4e5d = L.AwesomeMarkers.icon(\n",
       "                {\n",
       "  &quot;markerColor&quot;: &quot;red&quot;,\n",
       "  &quot;iconColor&quot;: &quot;white&quot;,\n",
       "  &quot;icon&quot;: &quot;cutlery&quot;,\n",
       "  &quot;prefix&quot;: &quot;fa&quot;,\n",
       "  &quot;extraClasses&quot;: &quot;fa-rotate-0&quot;,\n",
       "}\n",
       "            );\n",
       "            marker_ce43b54cd0c9a2bb543454a3faec8083.setIcon(icon_c1ba543e3491a5f6bb298cf70fcc4e5d);\n",
       "        \n",
       "    \n",
       "        var popup_58c234f249c05e123baafa6e4e6c0968 = L.popup({\n",
       "  &quot;maxWidth&quot;: &quot;100%&quot;,\n",
       "});\n",
       "\n",
       "        \n",
       "            \n",
       "                var html_dc41733c3bb2de5068b764131fcba73c = $(`&lt;div id=&quot;html_dc41733c3bb2de5068b764131fcba73c&quot; style=&quot;width: 100.0%; height: 100.0%;&quot;&gt;(&quot;&lt;b style=&#x27;font-size: 18px; &#x27;&gt;El Bleko&lt;/b&gt;&lt;br&gt;Direccion: Vapor y Hornos, 63 e Marina, La Habana&quot;, &quot;Especialidades: [&#x27;caribeña&#x27;, &#x27;italiana&#x27;, &#x27;criolla&#x27;]&quot;)&lt;/div&gt;`)[0];\n",
       "                popup_58c234f249c05e123baafa6e4e6c0968.setContent(html_dc41733c3bb2de5068b764131fcba73c);\n",
       "            \n",
       "        \n",
       "\n",
       "        marker_ce43b54cd0c9a2bb543454a3faec8083.bindPopup(popup_58c234f249c05e123baafa6e4e6c0968)\n",
       "        ;\n",
       "\n",
       "        \n",
       "    \n",
       "    \n",
       "            var marker_093ac5da14b99b659af45b2306230980 = L.marker(\n",
       "                [23.136615265811344, -82.3550049035281],\n",
       "                {\n",
       "}\n",
       "            ).addTo(map_25b1f90f2fd0c40419c04f1962b5ebc6);\n",
       "        \n",
       "    \n",
       "            var icon_98fbb322d3a40ef331f7c0ba8cb22fce = L.AwesomeMarkers.icon(\n",
       "                {\n",
       "  &quot;markerColor&quot;: &quot;red&quot;,\n",
       "  &quot;iconColor&quot;: &quot;white&quot;,\n",
       "  &quot;icon&quot;: &quot;cutlery&quot;,\n",
       "  &quot;prefix&quot;: &quot;fa&quot;,\n",
       "  &quot;extraClasses&quot;: &quot;fa-rotate-0&quot;,\n",
       "}\n",
       "            );\n",
       "            marker_093ac5da14b99b659af45b2306230980.setIcon(icon_98fbb322d3a40ef331f7c0ba8cb22fce);\n",
       "        \n",
       "    \n",
       "        var popup_ea0afe3c531e2d1986019c9d4a9f69cc = L.popup({\n",
       "  &quot;maxWidth&quot;: &quot;100%&quot;,\n",
       "});\n",
       "\n",
       "        \n",
       "            \n",
       "                var html_342dd3580f7681fe6f93d1716447017a = $(`&lt;div id=&quot;html_342dd3580f7681fe6f93d1716447017a&quot; style=&quot;width: 100.0%; height: 100.0%;&quot;&gt;(&quot;&lt;b style=&#x27;font-size: 18px; &#x27;&gt;El Cafe&lt;/b&gt;&lt;br&gt;Direccion: #358, Calle La Amargura&quot;, &quot;Especialidades: [&#x27;Comida mixta&#x27;]&quot;)&lt;/div&gt;`)[0];\n",
       "                popup_ea0afe3c531e2d1986019c9d4a9f69cc.setContent(html_342dd3580f7681fe6f93d1716447017a);\n",
       "            \n",
       "        \n",
       "\n",
       "        marker_093ac5da14b99b659af45b2306230980.bindPopup(popup_ea0afe3c531e2d1986019c9d4a9f69cc)\n",
       "        ;\n",
       "\n",
       "        \n",
       "    \n",
       "    \n",
       "            var marker_31605dccf619c0e071710eac6e0fdbc7 = L.marker(\n",
       "                [23.15787610279017, -82.27621448261955],\n",
       "                {\n",
       "}\n",
       "            ).addTo(map_25b1f90f2fd0c40419c04f1962b5ebc6);\n",
       "        \n",
       "    \n",
       "            var icon_380c5d3710d1eef9ccab1418e17a72dc = L.AwesomeMarkers.icon(\n",
       "                {\n",
       "  &quot;markerColor&quot;: &quot;red&quot;,\n",
       "  &quot;iconColor&quot;: &quot;white&quot;,\n",
       "  &quot;icon&quot;: &quot;cutlery&quot;,\n",
       "  &quot;prefix&quot;: &quot;fa&quot;,\n",
       "  &quot;extraClasses&quot;: &quot;fa-rotate-0&quot;,\n",
       "}\n",
       "            );\n",
       "            marker_31605dccf619c0e071710eac6e0fdbc7.setIcon(icon_380c5d3710d1eef9ccab1418e17a72dc);\n",
       "        \n",
       "    \n",
       "        var popup_135b2ea9dc67f5e8906fe46be25323a9 = L.popup({\n",
       "  &quot;maxWidth&quot;: &quot;100%&quot;,\n",
       "});\n",
       "\n",
       "        \n",
       "            \n",
       "                var html_c919429d95e0b06825dee791b1f10a14 = $(`&lt;div id=&quot;html_c919429d95e0b06825dee791b1f10a14&quot; style=&quot;width: 100.0%; height: 100.0%;&quot;&gt;(&quot;&lt;b style=&#x27;font-size: 18px; &#x27;&gt;El Chanchullero&lt;/b&gt;&lt;br&gt;Direccion: #162D entre Calle 5G y Calle 162, zona 6, Alamar&quot;, &quot;Especialidades: [&#x27;Comida criolla&#x27;]&quot;)&lt;/div&gt;`)[0];\n",
       "                popup_135b2ea9dc67f5e8906fe46be25323a9.setContent(html_c919429d95e0b06825dee791b1f10a14);\n",
       "            \n",
       "        \n",
       "\n",
       "        marker_31605dccf619c0e071710eac6e0fdbc7.bindPopup(popup_135b2ea9dc67f5e8906fe46be25323a9)\n",
       "        ;\n",
       "\n",
       "        \n",
       "    \n",
       "    \n",
       "            var marker_8248ad8a3f10be3ae2276048c50a1892 = L.marker(\n",
       "                [23.047476858961144, -82.25535277368648],\n",
       "                {\n",
       "}\n",
       "            ).addTo(map_25b1f90f2fd0c40419c04f1962b5ebc6);\n",
       "        \n",
       "    \n",
       "            var icon_689bfe0d78777056fa1d0e85ca972cce = L.AwesomeMarkers.icon(\n",
       "                {\n",
       "  &quot;markerColor&quot;: &quot;red&quot;,\n",
       "  &quot;iconColor&quot;: &quot;white&quot;,\n",
       "  &quot;icon&quot;: &quot;cutlery&quot;,\n",
       "  &quot;prefix&quot;: &quot;fa&quot;,\n",
       "  &quot;extraClasses&quot;: &quot;fa-rotate-0&quot;,\n",
       "}\n",
       "            );\n",
       "            marker_8248ad8a3f10be3ae2276048c50a1892.setIcon(icon_689bfe0d78777056fa1d0e85ca972cce);\n",
       "        \n",
       "    \n",
       "        var popup_f1ea736c189221b3da0b59de5f0aca89 = L.popup({\n",
       "  &quot;maxWidth&quot;: &quot;100%&quot;,\n",
       "});\n",
       "\n",
       "        \n",
       "            \n",
       "                var html_d9855dec9e060b3d872209e9e2044bcb = $(`&lt;div id=&quot;html_d9855dec9e060b3d872209e9e2044bcb&quot; style=&quot;width: 100.0%; height: 100.0%;&quot;&gt;(&quot;&lt;b style=&#x27;font-size: 18px; &#x27;&gt;El Cocal&lt;/b&gt;&lt;br&gt;Direccion: Lindero No 426A entre 38a y 44 roto modelo, Loteria&quot;, &quot;Especialidades: [&#x27;cubana&#x27;]&quot;)&lt;/div&gt;`)[0];\n",
       "                popup_f1ea736c189221b3da0b59de5f0aca89.setContent(html_d9855dec9e060b3d872209e9e2044bcb);\n",
       "            \n",
       "        \n",
       "\n",
       "        marker_8248ad8a3f10be3ae2276048c50a1892.bindPopup(popup_f1ea736c189221b3da0b59de5f0aca89)\n",
       "        ;\n",
       "\n",
       "        \n",
       "    \n",
       "    \n",
       "            var marker_d101b73ce5669d2502dc127920ef6484 = L.marker(\n",
       "                [23.126407014136845, -82.30453202678505],\n",
       "                {\n",
       "}\n",
       "            ).addTo(map_25b1f90f2fd0c40419c04f1962b5ebc6);\n",
       "        \n",
       "    \n",
       "            var icon_8c4735140f811716fc9d56084d68a016 = L.AwesomeMarkers.icon(\n",
       "                {\n",
       "  &quot;markerColor&quot;: &quot;red&quot;,\n",
       "  &quot;iconColor&quot;: &quot;white&quot;,\n",
       "  &quot;icon&quot;: &quot;cutlery&quot;,\n",
       "  &quot;prefix&quot;: &quot;fa&quot;,\n",
       "  &quot;extraClasses&quot;: &quot;fa-rotate-0&quot;,\n",
       "}\n",
       "            );\n",
       "            marker_d101b73ce5669d2502dc127920ef6484.setIcon(icon_8c4735140f811716fc9d56084d68a016);\n",
       "        \n",
       "    \n",
       "        var popup_5a9a4a90121d1f524891616a02a5b690 = L.popup({\n",
       "  &quot;maxWidth&quot;: &quot;100%&quot;,\n",
       "});\n",
       "\n",
       "        \n",
       "            \n",
       "                var html_761b450c18e9cc218cd5828378ef1281 = $(`&lt;div id=&quot;html_761b450c18e9cc218cd5828378ef1281&quot; style=&quot;width: 100.0%; height: 100.0%;&quot;&gt;(&quot;&lt;b style=&#x27;font-size: 18px; &#x27;&gt;El Faro&lt;/b&gt;&lt;br&gt;Direccion: Maximo Gomez y Pepe Antonio&quot;, &quot;Especialidades: [&#x27;Criolla&#x27;, &#x27;Pizzas&#x27;]&quot;)&lt;/div&gt;`)[0];\n",
       "                popup_5a9a4a90121d1f524891616a02a5b690.setContent(html_761b450c18e9cc218cd5828378ef1281);\n",
       "            \n",
       "        \n",
       "\n",
       "        marker_d101b73ce5669d2502dc127920ef6484.bindPopup(popup_5a9a4a90121d1f524891616a02a5b690)\n",
       "        ;\n",
       "\n",
       "        \n",
       "    \n",
       "    \n",
       "            var marker_8863a027a39ba85a1e2a5682d58137dd = L.marker(\n",
       "                [23.124602415605764, -82.31935775223077],\n",
       "                {\n",
       "}\n",
       "            ).addTo(map_25b1f90f2fd0c40419c04f1962b5ebc6);\n",
       "        \n",
       "    \n",
       "            var icon_8235b144d33854ebf788337702d0ec06 = L.AwesomeMarkers.icon(\n",
       "                {\n",
       "  &quot;markerColor&quot;: &quot;red&quot;,\n",
       "  &quot;iconColor&quot;: &quot;white&quot;,\n",
       "  &quot;icon&quot;: &quot;cutlery&quot;,\n",
       "  &quot;prefix&quot;: &quot;fa&quot;,\n",
       "  &quot;extraClasses&quot;: &quot;fa-rotate-0&quot;,\n",
       "}\n",
       "            );\n",
       "            marker_8863a027a39ba85a1e2a5682d58137dd.setIcon(icon_8235b144d33854ebf788337702d0ec06);\n",
       "        \n",
       "    \n",
       "        var popup_b8287b1c1a9f2b80466154b391ef9b92 = L.popup({\n",
       "  &quot;maxWidth&quot;: &quot;100%&quot;,\n",
       "});\n",
       "\n",
       "        \n",
       "            \n",
       "                var html_7c33d0edbd493e3f7b6150afc524260d = $(`&lt;div id=&quot;html_7c33d0edbd493e3f7b6150afc524260d&quot; style=&quot;width: 100.0%; height: 100.0%;&quot;&gt;(&quot;&lt;b style=&#x27;font-size: 18px; &#x27;&gt;El Pavo&lt;/b&gt;&lt;br&gt;Direccion: Esquina San Luis y Via Blanca&quot;, &quot;Especialidades: [&#x27;criolla&#x27;, &#x27;internacional&#x27;, &#x27;italiana&#x27;]&quot;)&lt;/div&gt;`)[0];\n",
       "                popup_b8287b1c1a9f2b80466154b391ef9b92.setContent(html_7c33d0edbd493e3f7b6150afc524260d);\n",
       "            \n",
       "        \n",
       "\n",
       "        marker_8863a027a39ba85a1e2a5682d58137dd.bindPopup(popup_b8287b1c1a9f2b80466154b391ef9b92)\n",
       "        ;\n",
       "\n",
       "        \n",
       "    \n",
       "    \n",
       "            var marker_0d95ca7da394b0a71928d7e3aa9753cb = L.marker(\n",
       "                [23.110676821769864, -82.39737767449778],\n",
       "                {\n",
       "}\n",
       "            ).addTo(map_25b1f90f2fd0c40419c04f1962b5ebc6);\n",
       "        \n",
       "    \n",
       "            var icon_f234d023984df5a7b6befaeeafa5d060 = L.AwesomeMarkers.icon(\n",
       "                {\n",
       "  &quot;markerColor&quot;: &quot;red&quot;,\n",
       "  &quot;iconColor&quot;: &quot;white&quot;,\n",
       "  &quot;icon&quot;: &quot;cutlery&quot;,\n",
       "  &quot;prefix&quot;: &quot;fa&quot;,\n",
       "  &quot;extraClasses&quot;: &quot;fa-rotate-0&quot;,\n",
       "}\n",
       "            );\n",
       "            marker_0d95ca7da394b0a71928d7e3aa9753cb.setIcon(icon_f234d023984df5a7b6befaeeafa5d060);\n",
       "        \n",
       "    \n",
       "        var popup_ae75aa208b68c50306009090e1fa056d = L.popup({\n",
       "  &quot;maxWidth&quot;: &quot;100%&quot;,\n",
       "});\n",
       "\n",
       "        \n",
       "            \n",
       "                var html_0a3a8a41475f8b02c8ea257a12c119aa = $(`&lt;div id=&quot;html_0a3a8a41475f8b02c8ea257a12c119aa&quot; style=&quot;width: 100.0%; height: 100.0%;&quot;&gt;(&quot;&lt;b style=&#x27;font-size: 18px; &#x27;&gt;El Pelicano&lt;/b&gt;&lt;br&gt;Direccion: &quot;, &quot;Especialidades: [&#x27;cubana&#x27;]&quot;)&lt;/div&gt;`)[0];\n",
       "                popup_ae75aa208b68c50306009090e1fa056d.setContent(html_0a3a8a41475f8b02c8ea257a12c119aa);\n",
       "            \n",
       "        \n",
       "\n",
       "        marker_0d95ca7da394b0a71928d7e3aa9753cb.bindPopup(popup_ae75aa208b68c50306009090e1fa056d)\n",
       "        ;\n",
       "\n",
       "        \n",
       "    \n",
       "    \n",
       "            var marker_82e4d9ebd3b7822935c05963ff9bcdd9 = L.marker(\n",
       "                [23.133855118338467, -82.36151465263812],\n",
       "                {\n",
       "}\n",
       "            ).addTo(map_25b1f90f2fd0c40419c04f1962b5ebc6);\n",
       "        \n",
       "    \n",
       "            var icon_dc1703122b9039e9b903f51518c38062 = L.AwesomeMarkers.icon(\n",
       "                {\n",
       "  &quot;markerColor&quot;: &quot;red&quot;,\n",
       "  &quot;iconColor&quot;: &quot;white&quot;,\n",
       "  &quot;icon&quot;: &quot;cutlery&quot;,\n",
       "  &quot;prefix&quot;: &quot;fa&quot;,\n",
       "  &quot;extraClasses&quot;: &quot;fa-rotate-0&quot;,\n",
       "}\n",
       "            );\n",
       "            marker_82e4d9ebd3b7822935c05963ff9bcdd9.setIcon(icon_dc1703122b9039e9b903f51518c38062);\n",
       "        \n",
       "    \n",
       "        var popup_5ed36f9cacc373261fec1cc5985a61b8 = L.popup({\n",
       "  &quot;maxWidth&quot;: &quot;100%&quot;,\n",
       "});\n",
       "\n",
       "        \n",
       "            \n",
       "                var html_6ba0739785c58c0ad35d65f788c180f2 = $(`&lt;div id=&quot;html_6ba0739785c58c0ad35d65f788c180f2&quot; style=&quot;width: 100.0%; height: 100.0%;&quot;&gt;(&quot;&lt;b style=&#x27;font-size: 18px; &#x27;&gt;El portico&lt;/b&gt;&lt;br&gt;Direccion: Dragones entre Aguila y C.Amistad&quot;, &quot;Especialidades: [&#x27;cubana&#x27;]&quot;)&lt;/div&gt;`)[0];\n",
       "                popup_5ed36f9cacc373261fec1cc5985a61b8.setContent(html_6ba0739785c58c0ad35d65f788c180f2);\n",
       "            \n",
       "        \n",
       "\n",
       "        marker_82e4d9ebd3b7822935c05963ff9bcdd9.bindPopup(popup_5ed36f9cacc373261fec1cc5985a61b8)\n",
       "        ;\n",
       "\n",
       "        \n",
       "    \n",
       "    \n",
       "            var marker_fb8be1bd610cb27dee2ce4d03087608e = L.marker(\n",
       "                [22.974102520824335, -82.39241663601986],\n",
       "                {\n",
       "}\n",
       "            ).addTo(map_25b1f90f2fd0c40419c04f1962b5ebc6);\n",
       "        \n",
       "    \n",
       "            var icon_bc746242aa060f70bb3d5cde909f7454 = L.AwesomeMarkers.icon(\n",
       "                {\n",
       "  &quot;markerColor&quot;: &quot;red&quot;,\n",
       "  &quot;iconColor&quot;: &quot;white&quot;,\n",
       "  &quot;icon&quot;: &quot;cutlery&quot;,\n",
       "  &quot;prefix&quot;: &quot;fa&quot;,\n",
       "  &quot;extraClasses&quot;: &quot;fa-rotate-0&quot;,\n",
       "}\n",
       "            );\n",
       "            marker_fb8be1bd610cb27dee2ce4d03087608e.setIcon(icon_bc746242aa060f70bb3d5cde909f7454);\n",
       "        \n",
       "    \n",
       "        var popup_a74106cc302d3a726add84ec156c9057 = L.popup({\n",
       "  &quot;maxWidth&quot;: &quot;100%&quot;,\n",
       "});\n",
       "\n",
       "        \n",
       "            \n",
       "                var html_736b4b3082d62ebbd9fcf3241616581d = $(`&lt;div id=&quot;html_736b4b3082d62ebbd9fcf3241616581d&quot; style=&quot;width: 100.0%; height: 100.0%;&quot;&gt;(&quot;&lt;b style=&#x27;font-size: 18px; &#x27;&gt;Ranchon El Pinareño&lt;/b&gt;&lt;br&gt;Direccion: Calle 16 % Calle 9 &amp; Calle 7, Santiago de las Vegas&quot;, &quot;Especialidades: [&#x27;criollo&#x27;, &#x27;grille&#x27;]&quot;)&lt;/div&gt;`)[0];\n",
       "                popup_a74106cc302d3a726add84ec156c9057.setContent(html_736b4b3082d62ebbd9fcf3241616581d);\n",
       "            \n",
       "        \n",
       "\n",
       "        marker_fb8be1bd610cb27dee2ce4d03087608e.bindPopup(popup_a74106cc302d3a726add84ec156c9057)\n",
       "        ;\n",
       "\n",
       "        \n",
       "    \n",
       "    \n",
       "            var marker_328eeba6222179a2441ecde3943c6be5 = L.marker(\n",
       "                [23.121214170655744, -82.37433227456654],\n",
       "                {\n",
       "}\n",
       "            ).addTo(map_25b1f90f2fd0c40419c04f1962b5ebc6);\n",
       "        \n",
       "    \n",
       "            var icon_73d4914f4edf9b4c8da199a8275995e5 = L.AwesomeMarkers.icon(\n",
       "                {\n",
       "  &quot;markerColor&quot;: &quot;red&quot;,\n",
       "  &quot;iconColor&quot;: &quot;white&quot;,\n",
       "  &quot;icon&quot;: &quot;cutlery&quot;,\n",
       "  &quot;prefix&quot;: &quot;fa&quot;,\n",
       "  &quot;extraClasses&quot;: &quot;fa-rotate-0&quot;,\n",
       "}\n",
       "            );\n",
       "            marker_328eeba6222179a2441ecde3943c6be5.setIcon(icon_73d4914f4edf9b4c8da199a8275995e5);\n",
       "        \n",
       "    \n",
       "        var popup_049b35991bcb54e899d0886e85249e24 = L.popup({\n",
       "  &quot;maxWidth&quot;: &quot;100%&quot;,\n",
       "});\n",
       "\n",
       "        \n",
       "            \n",
       "                var html_f8b0bd182c57287ed87f820407e4beb2 = $(`&lt;div id=&quot;html_f8b0bd182c57287ed87f820407e4beb2&quot; style=&quot;width: 100.0%; height: 100.0%;&quot;&gt;(&quot;&lt;b style=&#x27;font-size: 18px; &#x27;&gt;El Rapido&lt;/b&gt;&lt;br&gt;Direccion: Cruz del Pader entre Pedrosa y Amenidad&quot;, &quot;Especialidades: [&#x27;italiano&#x27;, &#x27;sandwich&#x27;]&quot;)&lt;/div&gt;`)[0];\n",
       "                popup_049b35991bcb54e899d0886e85249e24.setContent(html_f8b0bd182c57287ed87f820407e4beb2);\n",
       "            \n",
       "        \n",
       "\n",
       "        marker_328eeba6222179a2441ecde3943c6be5.bindPopup(popup_049b35991bcb54e899d0886e85249e24)\n",
       "        ;\n",
       "\n",
       "        \n",
       "    \n",
       "    \n",
       "            var marker_bebb918455a658623fae1df284b70881 = L.marker(\n",
       "                [23.137849066647398, -82.355948790034],\n",
       "                {\n",
       "}\n",
       "            ).addTo(map_25b1f90f2fd0c40419c04f1962b5ebc6);\n",
       "        \n",
       "    \n",
       "            var icon_80b05b07abbd3dfb5345189e1a914a54 = L.AwesomeMarkers.icon(\n",
       "                {\n",
       "  &quot;markerColor&quot;: &quot;red&quot;,\n",
       "  &quot;iconColor&quot;: &quot;white&quot;,\n",
       "  &quot;icon&quot;: &quot;cutlery&quot;,\n",
       "  &quot;prefix&quot;: &quot;fa&quot;,\n",
       "  &quot;extraClasses&quot;: &quot;fa-rotate-0&quot;,\n",
       "}\n",
       "            );\n",
       "            marker_bebb918455a658623fae1df284b70881.setIcon(icon_80b05b07abbd3dfb5345189e1a914a54);\n",
       "        \n",
       "    \n",
       "        var popup_242decffeefb9068b7791539c902cbb6 = L.popup({\n",
       "  &quot;maxWidth&quot;: &quot;100%&quot;,\n",
       "});\n",
       "\n",
       "        \n",
       "            \n",
       "                var html_389eab479e706383cb59f3847fbccc99 = $(`&lt;div id=&quot;html_389eab479e706383cb59f3847fbccc99&quot; style=&quot;width: 100.0%; height: 100.0%;&quot;&gt;(&quot;&lt;b style=&#x27;font-size: 18px; &#x27;&gt;El Rincon De Las Letras&lt;/b&gt;&lt;br&gt;Direccion: Calle Villegas #206 entre Obispo y Obrapia&quot;, &quot;Especialidades: [&#x27;Caribena&#x27;, &#x27;Cubana&#x27;]&quot;)&lt;/div&gt;`)[0];\n",
       "                popup_242decffeefb9068b7791539c902cbb6.setContent(html_389eab479e706383cb59f3847fbccc99);\n",
       "            \n",
       "        \n",
       "\n",
       "        marker_bebb918455a658623fae1df284b70881.bindPopup(popup_242decffeefb9068b7791539c902cbb6)\n",
       "        ;\n",
       "\n",
       "        \n",
       "    \n",
       "    \n",
       "            var marker_4df3153ab5c863f4a311da8ab31009d2 = L.marker(\n",
       "                [22.97148510128245, -82.38594063725743],\n",
       "                {\n",
       "}\n",
       "            ).addTo(map_25b1f90f2fd0c40419c04f1962b5ebc6);\n",
       "        \n",
       "    \n",
       "            var icon_9daa3201f994ffec76dce874a8070261 = L.AwesomeMarkers.icon(\n",
       "                {\n",
       "  &quot;markerColor&quot;: &quot;red&quot;,\n",
       "  &quot;iconColor&quot;: &quot;white&quot;,\n",
       "  &quot;icon&quot;: &quot;cutlery&quot;,\n",
       "  &quot;prefix&quot;: &quot;fa&quot;,\n",
       "  &quot;extraClasses&quot;: &quot;fa-rotate-0&quot;,\n",
       "}\n",
       "            );\n",
       "            marker_4df3153ab5c863f4a311da8ab31009d2.setIcon(icon_9daa3201f994ffec76dce874a8070261);\n",
       "        \n",
       "    \n",
       "        var popup_b5cd786abfdd1e074c07b2be6e2812aa = L.popup({\n",
       "  &quot;maxWidth&quot;: &quot;100%&quot;,\n",
       "});\n",
       "\n",
       "        \n",
       "            \n",
       "                var html_5265851359a1db9adab1d87f781a66db = $(`&lt;div id=&quot;html_5265851359a1db9adab1d87f781a66db&quot; style=&quot;width: 100.0%; height: 100.0%;&quot;&gt;(&quot;&lt;b style=&#x27;font-size: 18px; &#x27;&gt;El Sauce&lt;/b&gt;&lt;br&gt;Direccion: Calle 403 % 180 &amp; 184, Santiago de las Vegas&quot;, &quot;Especialidades: [&#x27;Pizza&#x27;]&quot;)&lt;/div&gt;`)[0];\n",
       "                popup_b5cd786abfdd1e074c07b2be6e2812aa.setContent(html_5265851359a1db9adab1d87f781a66db);\n",
       "            \n",
       "        \n",
       "\n",
       "        marker_4df3153ab5c863f4a311da8ab31009d2.bindPopup(popup_b5cd786abfdd1e074c07b2be6e2812aa)\n",
       "        ;\n",
       "\n",
       "        \n",
       "    \n",
       "    \n",
       "            var marker_0884b3675f720cd1eb331eb1aaf4cad5 = L.marker(\n",
       "                [23.124717648812492, -82.42132107449743],\n",
       "                {\n",
       "}\n",
       "            ).addTo(map_25b1f90f2fd0c40419c04f1962b5ebc6);\n",
       "        \n",
       "    \n",
       "            var icon_2de9f004697d4651302d2a2fcc43ac96 = L.AwesomeMarkers.icon(\n",
       "                {\n",
       "  &quot;markerColor&quot;: &quot;red&quot;,\n",
       "  &quot;iconColor&quot;: &quot;white&quot;,\n",
       "  &quot;icon&quot;: &quot;cutlery&quot;,\n",
       "  &quot;prefix&quot;: &quot;fa&quot;,\n",
       "  &quot;extraClasses&quot;: &quot;fa-rotate-0&quot;,\n",
       "}\n",
       "            );\n",
       "            marker_0884b3675f720cd1eb331eb1aaf4cad5.setIcon(icon_2de9f004697d4651302d2a2fcc43ac96);\n",
       "        \n",
       "    \n",
       "        var popup_0d04aa0874f8a7ca37f3b355f86f9634 = L.popup({\n",
       "  &quot;maxWidth&quot;: &quot;100%&quot;,\n",
       "});\n",
       "\n",
       "        \n",
       "            \n",
       "                var html_fdf42f9aa84737032558060009dddcc2 = $(`&lt;div id=&quot;html_fdf42f9aa84737032558060009dddcc2&quot; style=&quot;width: 100.0%; height: 100.0%;&quot;&gt;(&quot;&lt;b style=&#x27;font-size: 18px; &#x27;&gt;El Tocororo&lt;/b&gt;&lt;br&gt;Direccion: Calle 18 entre 3ra y 5ta&quot;, &quot;Especialidades: [&#x27;criolla&#x27;, &#x27;caribena&#x27;, &#x27;latina&#x27;]&quot;)&lt;/div&gt;`)[0];\n",
       "                popup_0d04aa0874f8a7ca37f3b355f86f9634.setContent(html_fdf42f9aa84737032558060009dddcc2);\n",
       "            \n",
       "        \n",
       "\n",
       "        marker_0884b3675f720cd1eb331eb1aaf4cad5.bindPopup(popup_0d04aa0874f8a7ca37f3b355f86f9634)\n",
       "        ;\n",
       "\n",
       "        \n",
       "    \n",
       "    \n",
       "            var marker_9ce67a63d4052535c3db86ada0c7e35e = L.marker(\n",
       "                [23.08014437636423, -82.32075326489488],\n",
       "                {\n",
       "}\n",
       "            ).addTo(map_25b1f90f2fd0c40419c04f1962b5ebc6);\n",
       "        \n",
       "    \n",
       "            var icon_256e0dd6030ea266844d255d4b2b0633 = L.AwesomeMarkers.icon(\n",
       "                {\n",
       "  &quot;markerColor&quot;: &quot;red&quot;,\n",
       "  &quot;iconColor&quot;: &quot;white&quot;,\n",
       "  &quot;icon&quot;: &quot;cutlery&quot;,\n",
       "  &quot;prefix&quot;: &quot;fa&quot;,\n",
       "  &quot;extraClasses&quot;: &quot;fa-rotate-0&quot;,\n",
       "}\n",
       "            );\n",
       "            marker_9ce67a63d4052535c3db86ada0c7e35e.setIcon(icon_256e0dd6030ea266844d255d4b2b0633);\n",
       "        \n",
       "    \n",
       "        var popup_063859f0e3cf90f0b722016f2a76f5d0 = L.popup({\n",
       "  &quot;maxWidth&quot;: &quot;100%&quot;,\n",
       "});\n",
       "\n",
       "        \n",
       "            \n",
       "                var html_21af39f4872b4d7e8a311ce182a89f4d = $(`&lt;div id=&quot;html_21af39f4872b4d7e8a311ce182a89f4d&quot; style=&quot;width: 100.0%; height: 100.0%;&quot;&gt;(&quot;&lt;b style=&#x27;font-size: 18px; &#x27;&gt;El Tráfico&lt;/b&gt;&lt;br&gt;Direccion: Calzada de Guines entre 90 y 94&quot;, &quot;Especialidades: [&#x27;italiana&#x27;, &#x27;criolla&#x27;]&quot;)&lt;/div&gt;`)[0];\n",
       "                popup_063859f0e3cf90f0b722016f2a76f5d0.setContent(html_21af39f4872b4d7e8a311ce182a89f4d);\n",
       "            \n",
       "        \n",
       "\n",
       "        marker_9ce67a63d4052535c3db86ada0c7e35e.bindPopup(popup_063859f0e3cf90f0b722016f2a76f5d0)\n",
       "        ;\n",
       "\n",
       "        \n",
       "    \n",
       "    \n",
       "            var marker_9189b5df2c73ce193e31651bd5600d50 = L.marker(\n",
       "                [23.074424846570963, -82.3584506328705],\n",
       "                {\n",
       "}\n",
       "            ).addTo(map_25b1f90f2fd0c40419c04f1962b5ebc6);\n",
       "        \n",
       "    \n",
       "            var icon_3802cc3c5e3c4ed59f459f350b279681 = L.AwesomeMarkers.icon(\n",
       "                {\n",
       "  &quot;markerColor&quot;: &quot;red&quot;,\n",
       "  &quot;iconColor&quot;: &quot;white&quot;,\n",
       "  &quot;icon&quot;: &quot;cutlery&quot;,\n",
       "  &quot;prefix&quot;: &quot;fa&quot;,\n",
       "  &quot;extraClasses&quot;: &quot;fa-rotate-0&quot;,\n",
       "}\n",
       "            );\n",
       "            marker_9189b5df2c73ce193e31651bd5600d50.setIcon(icon_3802cc3c5e3c4ed59f459f350b279681);\n",
       "        \n",
       "    \n",
       "        var popup_2f64acba4c1284649c4a442c0c8b8a2a = L.popup({\n",
       "  &quot;maxWidth&quot;: &quot;100%&quot;,\n",
       "});\n",
       "\n",
       "        \n",
       "            \n",
       "                var html_0d502c1d0343bcdbe852325b81bb3844 = $(`&lt;div id=&quot;html_0d502c1d0343bcdbe852325b81bb3844&quot; style=&quot;width: 100.0%; height: 100.0%;&quot;&gt;(&quot;&lt;b style=&#x27;font-size: 18px; &#x27;&gt;El Triangulo&lt;/b&gt;&lt;br&gt;Direccion: Esquina Calzada de 10 de octubre y Calzada de Porvenir, La Palma&quot;, &quot;Especialidades: [&#x27;cubana&#x27;]&quot;)&lt;/div&gt;`)[0];\n",
       "                popup_2f64acba4c1284649c4a442c0c8b8a2a.setContent(html_0d502c1d0343bcdbe852325b81bb3844);\n",
       "            \n",
       "        \n",
       "\n",
       "        marker_9189b5df2c73ce193e31651bd5600d50.bindPopup(popup_2f64acba4c1284649c4a442c0c8b8a2a)\n",
       "        ;\n",
       "\n",
       "        \n",
       "    \n",
       "    \n",
       "            var marker_e9ae83c4e1c77c7478d692cd70384901 = L.marker(\n",
       "                [23.00372199549759, -82.39586954958467],\n",
       "                {\n",
       "}\n",
       "            ).addTo(map_25b1f90f2fd0c40419c04f1962b5ebc6);\n",
       "        \n",
       "    \n",
       "            var icon_77ac1e4ae333bbe8566f00428365f0f0 = L.AwesomeMarkers.icon(\n",
       "                {\n",
       "  &quot;markerColor&quot;: &quot;red&quot;,\n",
       "  &quot;iconColor&quot;: &quot;white&quot;,\n",
       "  &quot;icon&quot;: &quot;cutlery&quot;,\n",
       "  &quot;prefix&quot;: &quot;fa&quot;,\n",
       "  &quot;extraClasses&quot;: &quot;fa-rotate-0&quot;,\n",
       "}\n",
       "            );\n",
       "            marker_e9ae83c4e1c77c7478d692cd70384901.setIcon(icon_77ac1e4ae333bbe8566f00428365f0f0);\n",
       "        \n",
       "    \n",
       "        var popup_ea7ab25abfdf10748a70c5dde2c932eb = L.popup({\n",
       "  &quot;maxWidth&quot;: &quot;100%&quot;,\n",
       "});\n",
       "\n",
       "        \n",
       "            \n",
       "                var html_a4a25b963ba56a8c5e6dde3f7dd7cc6c = $(`&lt;div id=&quot;html_a4a25b963ba56a8c5e6dde3f7dd7cc6c&quot; style=&quot;width: 100.0%; height: 100.0%;&quot;&gt;(&quot;&lt;b style=&#x27;font-size: 18px; &#x27;&gt;Entabla2&lt;/b&gt;&lt;br&gt;Direccion: Carretera Terminal 2, Aeropuerto Internacional J. Marti, Calixto Sanchez&quot;, &quot;Especialidades: [&#x27;criolla&#x27;]&quot;)&lt;/div&gt;`)[0];\n",
       "                popup_ea7ab25abfdf10748a70c5dde2c932eb.setContent(html_a4a25b963ba56a8c5e6dde3f7dd7cc6c);\n",
       "            \n",
       "        \n",
       "\n",
       "        marker_e9ae83c4e1c77c7478d692cd70384901.bindPopup(popup_ea7ab25abfdf10748a70c5dde2c932eb)\n",
       "        ;\n",
       "\n",
       "        \n",
       "    \n",
       "    \n",
       "            var marker_4517bdd697cec604a71ec0be8ab45004 = L.marker(\n",
       "                [23.142395650866476, -82.39855515318168],\n",
       "                {\n",
       "}\n",
       "            ).addTo(map_25b1f90f2fd0c40419c04f1962b5ebc6);\n",
       "        \n",
       "    \n",
       "            var icon_e9cd25053fc449e8477f3d501e665c28 = L.AwesomeMarkers.icon(\n",
       "                {\n",
       "  &quot;markerColor&quot;: &quot;red&quot;,\n",
       "  &quot;iconColor&quot;: &quot;white&quot;,\n",
       "  &quot;icon&quot;: &quot;cutlery&quot;,\n",
       "  &quot;prefix&quot;: &quot;fa&quot;,\n",
       "  &quot;extraClasses&quot;: &quot;fa-rotate-0&quot;,\n",
       "}\n",
       "            );\n",
       "            marker_4517bdd697cec604a71ec0be8ab45004.setIcon(icon_e9cd25053fc449e8477f3d501e665c28);\n",
       "        \n",
       "    \n",
       "        var popup_d9e600afe34766515b9c6cfe203a3b68 = L.popup({\n",
       "  &quot;maxWidth&quot;: &quot;100%&quot;,\n",
       "});\n",
       "\n",
       "        \n",
       "            \n",
       "                var html_f67fccc08131fcdeb685d2a080eaf0c5 = $(`&lt;div id=&quot;html_f67fccc08131fcdeb685d2a080eaf0c5&quot; style=&quot;width: 100.0%; height: 100.0%;&quot;&gt;(&quot;&lt;b style=&#x27;font-size: 18px; &#x27;&gt;Esquina D-Fraile &lt;/b&gt;&lt;br&gt;Direccion: Calle D entre 1era y 3era, Vedado.&quot;, &quot;Especialidades: [&#x27;Comida Americana&#x27;, &#x27;caribeña&#x27;, &#x27;latina&#x27;, &#x27;criolla&#x27;, &#x27;internacional&#x27;]&quot;)&lt;/div&gt;`)[0];\n",
       "                popup_d9e600afe34766515b9c6cfe203a3b68.setContent(html_f67fccc08131fcdeb685d2a080eaf0c5);\n",
       "            \n",
       "        \n",
       "\n",
       "        marker_4517bdd697cec604a71ec0be8ab45004.bindPopup(popup_d9e600afe34766515b9c6cfe203a3b68)\n",
       "        ;\n",
       "\n",
       "        \n",
       "    \n",
       "    \n",
       "            var marker_c4616812bc3ce1f902fed0f7c9dd213a = L.marker(\n",
       "                [23.140776125926624, -82.3517849151747],\n",
       "                {\n",
       "}\n",
       "            ).addTo(map_25b1f90f2fd0c40419c04f1962b5ebc6);\n",
       "        \n",
       "    \n",
       "            var icon_cab66a0e18ee8773c74d183d1a0cb2e9 = L.AwesomeMarkers.icon(\n",
       "                {\n",
       "  &quot;markerColor&quot;: &quot;red&quot;,\n",
       "  &quot;iconColor&quot;: &quot;white&quot;,\n",
       "  &quot;icon&quot;: &quot;cutlery&quot;,\n",
       "  &quot;prefix&quot;: &quot;fa&quot;,\n",
       "  &quot;extraClasses&quot;: &quot;fa-rotate-0&quot;,\n",
       "}\n",
       "            );\n",
       "            marker_c4616812bc3ce1f902fed0f7c9dd213a.setIcon(icon_cab66a0e18ee8773c74d183d1a0cb2e9);\n",
       "        \n",
       "    \n",
       "        var popup_7b7098e8596f0379b3f170beca891878 = L.popup({\n",
       "  &quot;maxWidth&quot;: &quot;100%&quot;,\n",
       "});\n",
       "\n",
       "        \n",
       "            \n",
       "                var html_0ae0ab8f2649db05c73aa9683057da8e = $(`&lt;div id=&quot;html_0ae0ab8f2649db05c73aa9683057da8e&quot; style=&quot;width: 100.0%; height: 100.0%;&quot;&gt;(&quot;&lt;b style=&#x27;font-size: 18px; &#x27;&gt;Esto No Es Un Cafe&lt;/b&gt;&lt;br&gt;Direccion: Calle Ignacio #58-A entre OReilly y Empedrado, Callejón del Chorro, Plaza de la Catedral&quot;, &quot;Especialidades: [&#x27;Mixta&#x27;]&quot;)&lt;/div&gt;`)[0];\n",
       "                popup_7b7098e8596f0379b3f170beca891878.setContent(html_0ae0ab8f2649db05c73aa9683057da8e);\n",
       "            \n",
       "        \n",
       "\n",
       "        marker_c4616812bc3ce1f902fed0f7c9dd213a.bindPopup(popup_7b7098e8596f0379b3f170beca891878)\n",
       "        ;\n",
       "\n",
       "        \n",
       "    \n",
       "    \n",
       "            var marker_7c9c5e1ddee8356fdf7b188d1d3929a7 = L.marker(\n",
       "                [23.11995071306764, -82.41835419828072],\n",
       "                {\n",
       "}\n",
       "            ).addTo(map_25b1f90f2fd0c40419c04f1962b5ebc6);\n",
       "        \n",
       "    \n",
       "            var icon_cf0894d5a68df9c43269b383c71c99d6 = L.AwesomeMarkers.icon(\n",
       "                {\n",
       "  &quot;markerColor&quot;: &quot;red&quot;,\n",
       "  &quot;iconColor&quot;: &quot;white&quot;,\n",
       "  &quot;icon&quot;: &quot;cutlery&quot;,\n",
       "  &quot;prefix&quot;: &quot;fa&quot;,\n",
       "  &quot;extraClasses&quot;: &quot;fa-rotate-0&quot;,\n",
       "}\n",
       "            );\n",
       "            marker_7c9c5e1ddee8356fdf7b188d1d3929a7.setIcon(icon_cf0894d5a68df9c43269b383c71c99d6);\n",
       "        \n",
       "    \n",
       "        var popup_90c51d0421051a9521156a8311071492 = L.popup({\n",
       "  &quot;maxWidth&quot;: &quot;100%&quot;,\n",
       "});\n",
       "\n",
       "        \n",
       "            \n",
       "                var html_1c2bc62e4dfea90dca652a1fe072466f = $(`&lt;div id=&quot;html_1c2bc62e4dfea90dca652a1fe072466f&quot; style=&quot;width: 100.0%; height: 100.0%;&quot;&gt;(&quot;&lt;b style=&#x27;font-size: 18px; &#x27;&gt;Fellini&lt;/b&gt;&lt;br&gt;Direccion: Calle 20 entre 9na y 7ma&quot;, &quot;Especialidades: [&#x27;cubana&#x27;, &#x27;internacional&#x27;]&quot;)&lt;/div&gt;`)[0];\n",
       "                popup_90c51d0421051a9521156a8311071492.setContent(html_1c2bc62e4dfea90dca652a1fe072466f);\n",
       "            \n",
       "        \n",
       "\n",
       "        marker_7c9c5e1ddee8356fdf7b188d1d3929a7.bindPopup(popup_90c51d0421051a9521156a8311071492)\n",
       "        ;\n",
       "\n",
       "        \n",
       "    \n",
       "    \n",
       "            var marker_64fa66d33a22a9abe50bf5f966f682fe = L.marker(\n",
       "                [23.04594907869068, -82.37133353203541],\n",
       "                {\n",
       "}\n",
       "            ).addTo(map_25b1f90f2fd0c40419c04f1962b5ebc6);\n",
       "        \n",
       "    \n",
       "            var icon_1087c8b67bea10f4e37ef24dfac51834 = L.AwesomeMarkers.icon(\n",
       "                {\n",
       "  &quot;markerColor&quot;: &quot;red&quot;,\n",
       "  &quot;iconColor&quot;: &quot;white&quot;,\n",
       "  &quot;icon&quot;: &quot;cutlery&quot;,\n",
       "  &quot;prefix&quot;: &quot;fa&quot;,\n",
       "  &quot;extraClasses&quot;: &quot;fa-rotate-0&quot;,\n",
       "}\n",
       "            );\n",
       "            marker_64fa66d33a22a9abe50bf5f966f682fe.setIcon(icon_1087c8b67bea10f4e37ef24dfac51834);\n",
       "        \n",
       "    \n",
       "        var popup_df5f576f6de363e4af57b2b7d2378501 = L.popup({\n",
       "  &quot;maxWidth&quot;: &quot;100%&quot;,\n",
       "});\n",
       "\n",
       "        \n",
       "            \n",
       "                var html_9386e749a4dfe34c68405013abd2c324 = $(`&lt;div id=&quot;html_9386e749a4dfe34c68405013abd2c324&quot; style=&quot;width: 100.0%; height: 100.0%;&quot;&gt;(&quot;&lt;b style=&#x27;font-size: 18px; &#x27;&gt;Fiesta Criolla&lt;/b&gt;&lt;br&gt;Direccion: Calle 100 #1003 (después del puente de calabazar), Arroyo Naranjo&quot;, &quot;Especialidades: [&#x27;cubana&#x27;]&quot;)&lt;/div&gt;`)[0];\n",
       "                popup_df5f576f6de363e4af57b2b7d2378501.setContent(html_9386e749a4dfe34c68405013abd2c324);\n",
       "            \n",
       "        \n",
       "\n",
       "        marker_64fa66d33a22a9abe50bf5f966f682fe.bindPopup(popup_df5f576f6de363e4af57b2b7d2378501)\n",
       "        ;\n",
       "\n",
       "        \n",
       "    \n",
       "    \n",
       "            var marker_b12a814fe4e71dbfa1879b92744b8d1b = L.marker(\n",
       "                [23.01940199162402, -82.4892786916919],\n",
       "                {\n",
       "}\n",
       "            ).addTo(map_25b1f90f2fd0c40419c04f1962b5ebc6);\n",
       "        \n",
       "    \n",
       "            var icon_c5673eba0d807d43c26d2702fc2dad3f = L.AwesomeMarkers.icon(\n",
       "                {\n",
       "  &quot;markerColor&quot;: &quot;red&quot;,\n",
       "  &quot;iconColor&quot;: &quot;white&quot;,\n",
       "  &quot;icon&quot;: &quot;cutlery&quot;,\n",
       "  &quot;prefix&quot;: &quot;fa&quot;,\n",
       "  &quot;extraClasses&quot;: &quot;fa-rotate-0&quot;,\n",
       "}\n",
       "            );\n",
       "            marker_b12a814fe4e71dbfa1879b92744b8d1b.setIcon(icon_c5673eba0d807d43c26d2702fc2dad3f);\n",
       "        \n",
       "    \n",
       "        var popup_bca63a4175d2d96b2ffea998f083fb5f = L.popup({\n",
       "  &quot;maxWidth&quot;: &quot;100%&quot;,\n",
       "});\n",
       "\n",
       "        \n",
       "            \n",
       "                var html_23e77199595dd33c817f270a62753437 = $(`&lt;div id=&quot;html_23e77199595dd33c817f270a62753437&quot; style=&quot;width: 100.0%; height: 100.0%;&quot;&gt;(&quot;&lt;b style=&#x27;font-size: 18px; &#x27;&gt;Finca La Pinta&lt;/b&gt;&lt;br&gt;Direccion:  Avenida 251 N.2409 entre 20 y 28&quot;, &quot;Especialidades: [&#x27;internacional&#x27;, &#x27;cubana&#x27;, &#x27;caribena&#x27;, &#x27;italiana&#x27;, &#x27;latina&#x27;]&quot;)&lt;/div&gt;`)[0];\n",
       "                popup_bca63a4175d2d96b2ffea998f083fb5f.setContent(html_23e77199595dd33c817f270a62753437);\n",
       "            \n",
       "        \n",
       "\n",
       "        marker_b12a814fe4e71dbfa1879b92744b8d1b.bindPopup(popup_bca63a4175d2d96b2ffea998f083fb5f)\n",
       "        ;\n",
       "\n",
       "        \n",
       "    \n",
       "    \n",
       "            var marker_192d14a2b9e202b89084016683b484f7 = L.marker(\n",
       "                [23.136041318926157, -82.36214978250345],\n",
       "                {\n",
       "}\n",
       "            ).addTo(map_25b1f90f2fd0c40419c04f1962b5ebc6);\n",
       "        \n",
       "    \n",
       "            var icon_0a4ea465a2d397ae85e4fb7541d76a88 = L.AwesomeMarkers.icon(\n",
       "                {\n",
       "  &quot;markerColor&quot;: &quot;red&quot;,\n",
       "  &quot;iconColor&quot;: &quot;white&quot;,\n",
       "  &quot;icon&quot;: &quot;cutlery&quot;,\n",
       "  &quot;prefix&quot;: &quot;fa&quot;,\n",
       "  &quot;extraClasses&quot;: &quot;fa-rotate-0&quot;,\n",
       "}\n",
       "            );\n",
       "            marker_192d14a2b9e202b89084016683b484f7.setIcon(icon_0a4ea465a2d397ae85e4fb7541d76a88);\n",
       "        \n",
       "    \n",
       "        var popup_72c9b06ef67593f863743b2ccbcee6d9 = L.popup({\n",
       "  &quot;maxWidth&quot;: &quot;100%&quot;,\n",
       "});\n",
       "\n",
       "        \n",
       "            \n",
       "                var html_57bc7455bc89597074017d9c777f9587 = $(`&lt;div id=&quot;html_57bc7455bc89597074017d9c777f9587&quot; style=&quot;width: 100.0%; height: 100.0%;&quot;&gt;(&quot;&lt;b style=&#x27;font-size: 18px; &#x27;&gt;Fin de Siglo&lt;/b&gt;&lt;br&gt;Direccion: Esquina Aguila y San Martin&quot;, &quot;Especialidades: [&#x27;Cubana&#x27;, &#x27;Italiana&#x27;]&quot;)&lt;/div&gt;`)[0];\n",
       "                popup_72c9b06ef67593f863743b2ccbcee6d9.setContent(html_57bc7455bc89597074017d9c777f9587);\n",
       "            \n",
       "        \n",
       "\n",
       "        marker_192d14a2b9e202b89084016683b484f7.bindPopup(popup_72c9b06ef67593f863743b2ccbcee6d9)\n",
       "        ;\n",
       "\n",
       "        \n",
       "    \n",
       "    \n",
       "            var marker_551d24504897cf92562b07491464d86d = L.marker(\n",
       "                [23.137505971829647, -82.35738137449714],\n",
       "                {\n",
       "}\n",
       "            ).addTo(map_25b1f90f2fd0c40419c04f1962b5ebc6);\n",
       "        \n",
       "    \n",
       "            var icon_16786bdb631e043d0b9ae6a717d83f2b = L.AwesomeMarkers.icon(\n",
       "                {\n",
       "  &quot;markerColor&quot;: &quot;red&quot;,\n",
       "  &quot;iconColor&quot;: &quot;white&quot;,\n",
       "  &quot;icon&quot;: &quot;cutlery&quot;,\n",
       "  &quot;prefix&quot;: &quot;fa&quot;,\n",
       "  &quot;extraClasses&quot;: &quot;fa-rotate-0&quot;,\n",
       "}\n",
       "            );\n",
       "            marker_551d24504897cf92562b07491464d86d.setIcon(icon_16786bdb631e043d0b9ae6a717d83f2b);\n",
       "        \n",
       "    \n",
       "        var popup_4a215fc6c4df485ca8cad357ee398126 = L.popup({\n",
       "  &quot;maxWidth&quot;: &quot;100%&quot;,\n",
       "});\n",
       "\n",
       "        \n",
       "            \n",
       "                var html_c5440386b6e664e98832b19f11b9804f = $(`&lt;div id=&quot;html_c5440386b6e664e98832b19f11b9804f&quot; style=&quot;width: 100.0%; height: 100.0%;&quot;&gt;(&quot;&lt;b style=&#x27;font-size: 18px; &#x27;&gt;Floridita&lt;/b&gt;&lt;br&gt;Direccion: Obispo No 557 esquina Monserrate&quot;, &quot;Especialidades: [&#x27;Mariscos&#x27;]&quot;)&lt;/div&gt;`)[0];\n",
       "                popup_4a215fc6c4df485ca8cad357ee398126.setContent(html_c5440386b6e664e98832b19f11b9804f);\n",
       "            \n",
       "        \n",
       "\n",
       "        marker_551d24504897cf92562b07491464d86d.bindPopup(popup_4a215fc6c4df485ca8cad357ee398126)\n",
       "        ;\n",
       "\n",
       "        \n",
       "    \n",
       "    \n",
       "            var marker_a1dd020a99f957efbf8c210531469afe = L.marker(\n",
       "                [23.140492623277456, -82.35174687469267],\n",
       "                {\n",
       "}\n",
       "            ).addTo(map_25b1f90f2fd0c40419c04f1962b5ebc6);\n",
       "        \n",
       "    \n",
       "            var icon_7dfbb6c61799c775b710ff9838c1e85f = L.AwesomeMarkers.icon(\n",
       "                {\n",
       "  &quot;markerColor&quot;: &quot;red&quot;,\n",
       "  &quot;iconColor&quot;: &quot;white&quot;,\n",
       "  &quot;icon&quot;: &quot;cutlery&quot;,\n",
       "  &quot;prefix&quot;: &quot;fa&quot;,\n",
       "  &quot;extraClasses&quot;: &quot;fa-rotate-0&quot;,\n",
       "}\n",
       "            );\n",
       "            marker_a1dd020a99f957efbf8c210531469afe.setIcon(icon_7dfbb6c61799c775b710ff9838c1e85f);\n",
       "        \n",
       "    \n",
       "        var popup_4ae8e9a9da5fa68c938b68e9e33f09ac = L.popup({\n",
       "  &quot;maxWidth&quot;: &quot;100%&quot;,\n",
       "});\n",
       "\n",
       "        \n",
       "            \n",
       "                var html_fbf69130124c0791f443e8047f0c64f3 = $(`&lt;div id=&quot;html_fbf69130124c0791f443e8047f0c64f3&quot; style=&quot;width: 100.0%; height: 100.0%;&quot;&gt;(&quot;&lt;b style=&#x27;font-size: 18px; &#x27;&gt;Fonda Al Pirata&lt;/b&gt;&lt;br&gt;Direccion: San Ignacio #76 e/ O&#x27;Reilly y Empedrado&quot;, &quot;Especialidades: [&#x27;Caribena&#x27;, &#x27;Cubana&#x27;]&quot;)&lt;/div&gt;`)[0];\n",
       "                popup_4ae8e9a9da5fa68c938b68e9e33f09ac.setContent(html_fbf69130124c0791f443e8047f0c64f3);\n",
       "            \n",
       "        \n",
       "\n",
       "        marker_a1dd020a99f957efbf8c210531469afe.bindPopup(popup_4ae8e9a9da5fa68c938b68e9e33f09ac)\n",
       "        ;\n",
       "\n",
       "        \n",
       "    \n",
       "    \n",
       "            var marker_ee9d22ba536082f69a5c9e1041d5026e = L.marker(\n",
       "                [23.108876604302726, -82.440550925563],\n",
       "                {\n",
       "}\n",
       "            ).addTo(map_25b1f90f2fd0c40419c04f1962b5ebc6);\n",
       "        \n",
       "    \n",
       "            var icon_0ada772323cc0bb0a02ec896eca22163 = L.AwesomeMarkers.icon(\n",
       "                {\n",
       "  &quot;markerColor&quot;: &quot;red&quot;,\n",
       "  &quot;iconColor&quot;: &quot;white&quot;,\n",
       "  &quot;icon&quot;: &quot;cutlery&quot;,\n",
       "  &quot;prefix&quot;: &quot;fa&quot;,\n",
       "  &quot;extraClasses&quot;: &quot;fa-rotate-0&quot;,\n",
       "}\n",
       "            );\n",
       "            marker_ee9d22ba536082f69a5c9e1041d5026e.setIcon(icon_0ada772323cc0bb0a02ec896eca22163);\n",
       "        \n",
       "    \n",
       "        var popup_f2ad8a7586dc7717a33dba8d520c621f = L.popup({\n",
       "  &quot;maxWidth&quot;: &quot;100%&quot;,\n",
       "});\n",
       "\n",
       "        \n",
       "            \n",
       "                var html_5b209ccd4560cb254c3b7222b429db75 = $(`&lt;div id=&quot;html_5b209ccd4560cb254c3b7222b429db75&quot; style=&quot;width: 100.0%; height: 100.0%;&quot;&gt;(&quot;&lt;b style=&#x27;font-size: 18px; &#x27;&gt;FoodTruck Pelegrin&lt;/b&gt;&lt;br&gt;Direccion:  Miramar Trade Center, Centro de Negocios&quot;, &quot;Especialidades: [&#x27;cubana&#x27;, &#x27;internacional&#x27;]&quot;)&lt;/div&gt;`)[0];\n",
       "                popup_f2ad8a7586dc7717a33dba8d520c621f.setContent(html_5b209ccd4560cb254c3b7222b429db75);\n",
       "            \n",
       "        \n",
       "\n",
       "        marker_ee9d22ba536082f69a5c9e1041d5026e.bindPopup(popup_f2ad8a7586dc7717a33dba8d520c621f)\n",
       "        ;\n",
       "\n",
       "        \n",
       "    \n",
       "    \n",
       "            var marker_5e90c45bcf8f9e0c900dbf5d8d639649 = L.marker(\n",
       "                [23.108117348063423, -82.4341893999906],\n",
       "                {\n",
       "}\n",
       "            ).addTo(map_25b1f90f2fd0c40419c04f1962b5ebc6);\n",
       "        \n",
       "    \n",
       "            var icon_355f5e262a73362b0667172f1726fbba = L.AwesomeMarkers.icon(\n",
       "                {\n",
       "  &quot;markerColor&quot;: &quot;red&quot;,\n",
       "  &quot;iconColor&quot;: &quot;white&quot;,\n",
       "  &quot;icon&quot;: &quot;cutlery&quot;,\n",
       "  &quot;prefix&quot;: &quot;fa&quot;,\n",
       "  &quot;extraClasses&quot;: &quot;fa-rotate-0&quot;,\n",
       "}\n",
       "            );\n",
       "            marker_5e90c45bcf8f9e0c900dbf5d8d639649.setIcon(icon_355f5e262a73362b0667172f1726fbba);\n",
       "        \n",
       "    \n",
       "        var popup_63dc4eb1df434cddffe2107dfaa99027 = L.popup({\n",
       "  &quot;maxWidth&quot;: &quot;100%&quot;,\n",
       "});\n",
       "\n",
       "        \n",
       "            \n",
       "                var html_8a50e866abfc0713781836a3748c833f = $(`&lt;div id=&quot;html_8a50e866abfc0713781836a3748c833f&quot; style=&quot;width: 100.0%; height: 100.0%;&quot;&gt;(&quot;&lt;b style=&#x27;font-size: 18px; &#x27;&gt;FoodMaster&lt;/b&gt;&lt;br&gt;Direccion: 7 A&quot;, &quot;Especialidades: [&#x27;Mexicana&#x27;, &#x27;Americana&#x27;, &#x27;Café&#x27;, &#x27;Internacional&#x27;, &#x27;Pizzas&#x27;]&quot;)&lt;/div&gt;`)[0];\n",
       "                popup_63dc4eb1df434cddffe2107dfaa99027.setContent(html_8a50e866abfc0713781836a3748c833f);\n",
       "            \n",
       "        \n",
       "\n",
       "        marker_5e90c45bcf8f9e0c900dbf5d8d639649.bindPopup(popup_63dc4eb1df434cddffe2107dfaa99027)\n",
       "        ;\n",
       "\n",
       "        \n",
       "    \n",
       "    \n",
       "            var marker_68bc65c3e08ead7a44ae2315779915ad = L.marker(\n",
       "                [23.12209228452483, -82.40512312898908],\n",
       "                {\n",
       "}\n",
       "            ).addTo(map_25b1f90f2fd0c40419c04f1962b5ebc6);\n",
       "        \n",
       "    \n",
       "            var icon_237d754fc0da04d858ca069bf6590f62 = L.AwesomeMarkers.icon(\n",
       "                {\n",
       "  &quot;markerColor&quot;: &quot;red&quot;,\n",
       "  &quot;iconColor&quot;: &quot;white&quot;,\n",
       "  &quot;icon&quot;: &quot;cutlery&quot;,\n",
       "  &quot;prefix&quot;: &quot;fa&quot;,\n",
       "  &quot;extraClasses&quot;: &quot;fa-rotate-0&quot;,\n",
       "}\n",
       "            );\n",
       "            marker_68bc65c3e08ead7a44ae2315779915ad.setIcon(icon_237d754fc0da04d858ca069bf6590f62);\n",
       "        \n",
       "    \n",
       "        var popup_62864d7d4d4e4421cb155fe1a7090f95 = L.popup({\n",
       "  &quot;maxWidth&quot;: &quot;100%&quot;,\n",
       "});\n",
       "\n",
       "        \n",
       "            \n",
       "                var html_ee8c1a54c271eafa3a6e959032cb88a3 = $(`&lt;div id=&quot;html_ee8c1a54c271eafa3a6e959032cb88a3&quot; style=&quot;width: 100.0%; height: 100.0%;&quot;&gt;(&quot;&lt;b style=&#x27;font-size: 18px; &#x27;&gt;Fumiyaki&lt;/b&gt;&lt;br&gt;Direccion: Ave 26, No 367 ,entre calle 23 y calle 25, Vedado&quot;, &quot;Especialidades: [&#x27;Comida japonesa&#x27;, &#x27;asiatica&#x27;, &#x27;sushi&#x27;, &#x27;cubana&#x27;]&quot;)&lt;/div&gt;`)[0];\n",
       "                popup_62864d7d4d4e4421cb155fe1a7090f95.setContent(html_ee8c1a54c271eafa3a6e959032cb88a3);\n",
       "            \n",
       "        \n",
       "\n",
       "        marker_68bc65c3e08ead7a44ae2315779915ad.bindPopup(popup_62864d7d4d4e4421cb155fe1a7090f95)\n",
       "        ;\n",
       "\n",
       "        \n",
       "    \n",
       "    \n",
       "            var marker_b4f46a36c8a1f7e4f0456e1ab1d79679 = L.marker(\n",
       "                [23.135893503982505, -82.36265785250283],\n",
       "                {\n",
       "}\n",
       "            ).addTo(map_25b1f90f2fd0c40419c04f1962b5ebc6);\n",
       "        \n",
       "    \n",
       "            var icon_94052c23498c6846c582952f580d40b6 = L.AwesomeMarkers.icon(\n",
       "                {\n",
       "  &quot;markerColor&quot;: &quot;red&quot;,\n",
       "  &quot;iconColor&quot;: &quot;white&quot;,\n",
       "  &quot;icon&quot;: &quot;cutlery&quot;,\n",
       "  &quot;prefix&quot;: &quot;fa&quot;,\n",
       "  &quot;extraClasses&quot;: &quot;fa-rotate-0&quot;,\n",
       "}\n",
       "            );\n",
       "            marker_b4f46a36c8a1f7e4f0456e1ab1d79679.setIcon(icon_94052c23498c6846c582952f580d40b6);\n",
       "        \n",
       "    \n",
       "        var popup_3c492f5e68dbce60a3761b759cedd1ea = L.popup({\n",
       "  &quot;maxWidth&quot;: &quot;100%&quot;,\n",
       "});\n",
       "\n",
       "        \n",
       "            \n",
       "                var html_8d9b28e145cb56b0b6b56c4e50b1fad6 = $(`&lt;div id=&quot;html_8d9b28e145cb56b0b6b56c4e50b1fad6&quot; style=&quot;width: 100.0%; height: 100.0%;&quot;&gt;(&quot;&lt;b style=&#x27;font-size: 18px; &#x27;&gt;Galy Cafe&lt;/b&gt;&lt;br&gt;Direccion: San Martin entre Galeano y Aguila&quot;, &quot;Especialidades: [&#x27;caribeña&#x27;, &#x27;latina&#x27;, &#x27;internacional&#x27;, &#x27;cubana&#x27;]&quot;)&lt;/div&gt;`)[0];\n",
       "                popup_3c492f5e68dbce60a3761b759cedd1ea.setContent(html_8d9b28e145cb56b0b6b56c4e50b1fad6);\n",
       "            \n",
       "        \n",
       "\n",
       "        marker_b4f46a36c8a1f7e4f0456e1ab1d79679.bindPopup(popup_3c492f5e68dbce60a3761b759cedd1ea)\n",
       "        ;\n",
       "\n",
       "        \n",
       "    \n",
       "    \n",
       "            var marker_e8b28666244c04c37eb2cec60dea210f = L.marker(\n",
       "                [23.14374457538385, -82.35553752883533],\n",
       "                {\n",
       "}\n",
       "            ).addTo(map_25b1f90f2fd0c40419c04f1962b5ebc6);\n",
       "        \n",
       "    \n",
       "            var icon_e38ef802226c960d0b98e1f9633dd9c4 = L.AwesomeMarkers.icon(\n",
       "                {\n",
       "  &quot;markerColor&quot;: &quot;red&quot;,\n",
       "  &quot;iconColor&quot;: &quot;white&quot;,\n",
       "  &quot;icon&quot;: &quot;cutlery&quot;,\n",
       "  &quot;prefix&quot;: &quot;fa&quot;,\n",
       "  &quot;extraClasses&quot;: &quot;fa-rotate-0&quot;,\n",
       "}\n",
       "            );\n",
       "            marker_e8b28666244c04c37eb2cec60dea210f.setIcon(icon_e38ef802226c960d0b98e1f9633dd9c4);\n",
       "        \n",
       "    \n",
       "        var popup_474b8d62154c23d177beab2345341a92 = L.popup({\n",
       "  &quot;maxWidth&quot;: &quot;100%&quot;,\n",
       "});\n",
       "\n",
       "        \n",
       "            \n",
       "                var html_6b399a20b4fd03e1ab01a9e77e783ba3 = $(`&lt;div id=&quot;html_6b399a20b4fd03e1ab01a9e77e783ba3&quot; style=&quot;width: 100.0%; height: 100.0%;&quot;&gt;(&quot;&lt;b style=&#x27;font-size: 18px; &#x27;&gt;Habana 5 Rooftop&lt;/b&gt;&lt;br&gt;Direccion: Calle Habana entre Pena Pobre y Av. Belgica&quot;, &quot;Especialidades: [&#x27;Internacional&#x27;, &#x27;cubana&#x27;]&quot;)&lt;/div&gt;`)[0];\n",
       "                popup_474b8d62154c23d177beab2345341a92.setContent(html_6b399a20b4fd03e1ab01a9e77e783ba3);\n",
       "            \n",
       "        \n",
       "\n",
       "        marker_e8b28666244c04c37eb2cec60dea210f.bindPopup(popup_474b8d62154c23d177beab2345341a92)\n",
       "        ;\n",
       "\n",
       "        \n",
       "    \n",
       "    \n",
       "            var marker_d63544821ac88949e5185a05e7afcae0 = L.marker(\n",
       "                [23.142484323536937, -82.35509901886921],\n",
       "                {\n",
       "}\n",
       "            ).addTo(map_25b1f90f2fd0c40419c04f1962b5ebc6);\n",
       "        \n",
       "    \n",
       "            var icon_cb990dca6a64b20caadfa39245d96f4f = L.AwesomeMarkers.icon(\n",
       "                {\n",
       "  &quot;markerColor&quot;: &quot;red&quot;,\n",
       "  &quot;iconColor&quot;: &quot;white&quot;,\n",
       "  &quot;icon&quot;: &quot;cutlery&quot;,\n",
       "  &quot;prefix&quot;: &quot;fa&quot;,\n",
       "  &quot;extraClasses&quot;: &quot;fa-rotate-0&quot;,\n",
       "}\n",
       "            );\n",
       "            marker_d63544821ac88949e5185a05e7afcae0.setIcon(icon_cb990dca6a64b20caadfa39245d96f4f);\n",
       "        \n",
       "    \n",
       "        var popup_76ddaf6219a3d2c43704da39362824dc = L.popup({\n",
       "  &quot;maxWidth&quot;: &quot;100%&quot;,\n",
       "});\n",
       "\n",
       "        \n",
       "            \n",
       "                var html_01a7dea35281db90b642b952089ef0b7 = $(`&lt;div id=&quot;html_01a7dea35281db90b642b952089ef0b7&quot; style=&quot;width: 100.0%; height: 100.0%;&quot;&gt;(&quot;&lt;b style=&#x27;font-size: 18px; &#x27;&gt;Habana 61&lt;/b&gt;&lt;br&gt;Direccion: Calle Habana #61 entre Peña Pobre y Cuarteles&quot;, &quot;Especialidades: [&#x27;Mixta&#x27;]&quot;)&lt;/div&gt;`)[0];\n",
       "                popup_76ddaf6219a3d2c43704da39362824dc.setContent(html_01a7dea35281db90b642b952089ef0b7);\n",
       "            \n",
       "        \n",
       "\n",
       "        marker_d63544821ac88949e5185a05e7afcae0.bindPopup(popup_76ddaf6219a3d2c43704da39362824dc)\n",
       "        ;\n",
       "\n",
       "        \n",
       "    \n",
       "    \n",
       "            var marker_8552c21441d55801b574fd5dc894c3d2 = L.marker(\n",
       "                [23.13923764561611, -82.3885387467372],\n",
       "                {\n",
       "}\n",
       "            ).addTo(map_25b1f90f2fd0c40419c04f1962b5ebc6);\n",
       "        \n",
       "    \n",
       "            var icon_8e40bbd579070339f0d78ff5aac7d81f = L.AwesomeMarkers.icon(\n",
       "                {\n",
       "  &quot;markerColor&quot;: &quot;red&quot;,\n",
       "  &quot;iconColor&quot;: &quot;white&quot;,\n",
       "  &quot;icon&quot;: &quot;cutlery&quot;,\n",
       "  &quot;prefix&quot;: &quot;fa&quot;,\n",
       "  &quot;extraClasses&quot;: &quot;fa-rotate-0&quot;,\n",
       "}\n",
       "            );\n",
       "            marker_8552c21441d55801b574fd5dc894c3d2.setIcon(icon_8e40bbd579070339f0d78ff5aac7d81f);\n",
       "        \n",
       "    \n",
       "        var popup_5bf2f0afc83760579e452e46a8cbb063 = L.popup({\n",
       "  &quot;maxWidth&quot;: &quot;100%&quot;,\n",
       "});\n",
       "\n",
       "        \n",
       "            \n",
       "                var html_24ded4cfcb781c1cedb196cfac1419e3 = $(`&lt;div id=&quot;html_24ded4cfcb781c1cedb196cfac1419e3&quot; style=&quot;width: 100.0%; height: 100.0%;&quot;&gt;(&quot;&lt;b style=&#x27;font-size: 18px; &#x27;&gt;Habana Blues&lt;/b&gt;&lt;br&gt;Direccion: Calle H no. 405 entre 17 y 19, Vedado&quot;, &quot;Especialidades: [&#x27;Comida caribeña&#x27;, &#x27;latina&#x27;, &#x27;criolla&#x27;, &#x27;cubana&#x27;]&quot;)&lt;/div&gt;`)[0];\n",
       "                popup_5bf2f0afc83760579e452e46a8cbb063.setContent(html_24ded4cfcb781c1cedb196cfac1419e3);\n",
       "            \n",
       "        \n",
       "\n",
       "        marker_8552c21441d55801b574fd5dc894c3d2.bindPopup(popup_5bf2f0afc83760579e452e46a8cbb063)\n",
       "        ;\n",
       "\n",
       "        \n",
       "    \n",
       "    \n",
       "            var marker_eff172ef1d86e504b0b8a577b53c2ccb = L.marker(\n",
       "                [23.137436298849373, -82.3563168151748],\n",
       "                {\n",
       "}\n",
       "            ).addTo(map_25b1f90f2fd0c40419c04f1962b5ebc6);\n",
       "        \n",
       "    \n",
       "            var icon_727ae41f67ae60ccfea6fd5599190320 = L.AwesomeMarkers.icon(\n",
       "                {\n",
       "  &quot;markerColor&quot;: &quot;red&quot;,\n",
       "  &quot;iconColor&quot;: &quot;white&quot;,\n",
       "  &quot;icon&quot;: &quot;cutlery&quot;,\n",
       "  &quot;prefix&quot;: &quot;fa&quot;,\n",
       "  &quot;extraClasses&quot;: &quot;fa-rotate-0&quot;,\n",
       "}\n",
       "            );\n",
       "            marker_eff172ef1d86e504b0b8a577b53c2ccb.setIcon(icon_727ae41f67ae60ccfea6fd5599190320);\n",
       "        \n",
       "    \n",
       "        var popup_a8c14d56097e8c3ed0d653f06dad6bcb = L.popup({\n",
       "  &quot;maxWidth&quot;: &quot;100%&quot;,\n",
       "});\n",
       "\n",
       "        \n",
       "            \n",
       "                var html_9f4af053d754224316d79c36d8f3d12f = $(`&lt;div id=&quot;html_9f4af053d754224316d79c36d8f3d12f&quot; style=&quot;width: 100.0%; height: 100.0%;&quot;&gt;(&quot;&lt;b style=&#x27;font-size: 18px; &#x27;&gt;Habana Tokio&lt;/b&gt;&lt;br&gt;Direccion: Calle Obrapía entre Bernaza y Villegas&quot;, &quot;Especialidades: [&#x27;Japonesa&#x27;]&quot;)&lt;/div&gt;`)[0];\n",
       "                popup_a8c14d56097e8c3ed0d653f06dad6bcb.setContent(html_9f4af053d754224316d79c36d8f3d12f);\n",
       "            \n",
       "        \n",
       "\n",
       "        marker_eff172ef1d86e504b0b8a577b53c2ccb.bindPopup(popup_a8c14d56097e8c3ed0d653f06dad6bcb)\n",
       "        ;\n",
       "\n",
       "        \n",
       "    \n",
       "    \n",
       "            var marker_d1ee1dee38db8dd49c5edb80a6e6f8e8 = L.marker(\n",
       "                [23.131252647235588, -82.37457288968206],\n",
       "                {\n",
       "}\n",
       "            ).addTo(map_25b1f90f2fd0c40419c04f1962b5ebc6);\n",
       "        \n",
       "    \n",
       "            var icon_32609ef018ba55e2074256a969b686c5 = L.AwesomeMarkers.icon(\n",
       "                {\n",
       "  &quot;markerColor&quot;: &quot;red&quot;,\n",
       "  &quot;iconColor&quot;: &quot;white&quot;,\n",
       "  &quot;icon&quot;: &quot;cutlery&quot;,\n",
       "  &quot;prefix&quot;: &quot;fa&quot;,\n",
       "  &quot;extraClasses&quot;: &quot;fa-rotate-0&quot;,\n",
       "}\n",
       "            );\n",
       "            marker_d1ee1dee38db8dd49c5edb80a6e6f8e8.setIcon(icon_32609ef018ba55e2074256a969b686c5);\n",
       "        \n",
       "    \n",
       "        var popup_80e884f6369c95d245ba6033d0f92d8e = L.popup({\n",
       "  &quot;maxWidth&quot;: &quot;100%&quot;,\n",
       "});\n",
       "\n",
       "        \n",
       "            \n",
       "                var html_e3e8e08353c07e7886ce186184b12509 = $(`&lt;div id=&quot;html_e3e8e08353c07e7886ce186184b12509&quot; style=&quot;width: 100.0%; height: 100.0%;&quot;&gt;(&quot;&lt;b style=&#x27;font-size: 18px; &#x27;&gt;Hamburgo&lt;/b&gt;&lt;br&gt;Direccion: Carlos III entre Retiro y Arbol Seco&quot;, &quot;Especialidades: [&#x27;americana&#x27;]&quot;)&lt;/div&gt;`)[0];\n",
       "                popup_80e884f6369c95d245ba6033d0f92d8e.setContent(html_e3e8e08353c07e7886ce186184b12509);\n",
       "            \n",
       "        \n",
       "\n",
       "        marker_d1ee1dee38db8dd49c5edb80a6e6f8e8.bindPopup(popup_80e884f6369c95d245ba6033d0f92d8e)\n",
       "        ;\n",
       "\n",
       "        \n",
       "    \n",
       "    \n",
       "            var marker_afa09d1f626c74b572f2ce25d390fe94 = L.marker(\n",
       "                [23.0881096622714, -82.36848083672511],\n",
       "                {\n",
       "}\n",
       "            ).addTo(map_25b1f90f2fd0c40419c04f1962b5ebc6);\n",
       "        \n",
       "    \n",
       "            var icon_37fc7181e4d7825c5ec17aa1ab90e8e2 = L.AwesomeMarkers.icon(\n",
       "                {\n",
       "  &quot;markerColor&quot;: &quot;red&quot;,\n",
       "  &quot;iconColor&quot;: &quot;white&quot;,\n",
       "  &quot;icon&quot;: &quot;cutlery&quot;,\n",
       "  &quot;prefix&quot;: &quot;fa&quot;,\n",
       "  &quot;extraClasses&quot;: &quot;fa-rotate-0&quot;,\n",
       "}\n",
       "            );\n",
       "            marker_afa09d1f626c74b572f2ce25d390fe94.setIcon(icon_37fc7181e4d7825c5ec17aa1ab90e8e2);\n",
       "        \n",
       "    \n",
       "        var popup_56b5a464f73aca81996039894dd1f290 = L.popup({\n",
       "  &quot;maxWidth&quot;: &quot;100%&quot;,\n",
       "});\n",
       "\n",
       "        \n",
       "            \n",
       "                var html_7efb99c8de1675944a7d7bae1f0c4eff = $(`&lt;div id=&quot;html_7efb99c8de1675944a7d7bae1f0c4eff&quot; style=&quot;width: 100.0%; height: 100.0%;&quot;&gt;(&quot;&lt;b style=&#x27;font-size: 18px; &#x27;&gt;Heredia&lt;/b&gt;&lt;br&gt;Direccion: Calle Heredia % Avenida Acosta y O&#x27;Farril&quot;, &#x27;Especialidades: []&#x27;)&lt;/div&gt;`)[0];\n",
       "                popup_56b5a464f73aca81996039894dd1f290.setContent(html_7efb99c8de1675944a7d7bae1f0c4eff);\n",
       "            \n",
       "        \n",
       "\n",
       "        marker_afa09d1f626c74b572f2ce25d390fe94.bindPopup(popup_56b5a464f73aca81996039894dd1f290)\n",
       "        ;\n",
       "\n",
       "        \n",
       "    \n",
       "    \n",
       "            var marker_692e0b9052a0bc635eb15131bb462bbc = L.marker(\n",
       "                [23.101888417856312, -82.43068882213893],\n",
       "                {\n",
       "}\n",
       "            ).addTo(map_25b1f90f2fd0c40419c04f1962b5ebc6);\n",
       "        \n",
       "    \n",
       "            var icon_7f8c6a7d29ae8c542ba9ceeb55b38770 = L.AwesomeMarkers.icon(\n",
       "                {\n",
       "  &quot;markerColor&quot;: &quot;red&quot;,\n",
       "  &quot;iconColor&quot;: &quot;white&quot;,\n",
       "  &quot;icon&quot;: &quot;cutlery&quot;,\n",
       "  &quot;prefix&quot;: &quot;fa&quot;,\n",
       "  &quot;extraClasses&quot;: &quot;fa-rotate-0&quot;,\n",
       "}\n",
       "            );\n",
       "            marker_692e0b9052a0bc635eb15131bb462bbc.setIcon(icon_7f8c6a7d29ae8c542ba9ceeb55b38770);\n",
       "        \n",
       "    \n",
       "        var popup_230b9b490cd8009d029e2549c0b419e4 = L.popup({\n",
       "  &quot;maxWidth&quot;: &quot;100%&quot;,\n",
       "});\n",
       "\n",
       "        \n",
       "            \n",
       "                var html_34b57a312399df10b8c645a1ae2eccb9 = $(`&lt;div id=&quot;html_34b57a312399df10b8c645a1ae2eccb9&quot; style=&quot;width: 100.0%; height: 100.0%;&quot;&gt;(&quot;&lt;b style=&#x27;font-size: 18px; &#x27;&gt;Home Deli&lt;/b&gt;&lt;br&gt;Direccion: 19&quot;, &quot;Especialidades: [&#x27;italiana&#x27;]&quot;)&lt;/div&gt;`)[0];\n",
       "                popup_230b9b490cd8009d029e2549c0b419e4.setContent(html_34b57a312399df10b8c645a1ae2eccb9);\n",
       "            \n",
       "        \n",
       "\n",
       "        marker_692e0b9052a0bc635eb15131bb462bbc.bindPopup(popup_230b9b490cd8009d029e2549c0b419e4)\n",
       "        ;\n",
       "\n",
       "        \n",
       "    \n",
       "    \n",
       "            var marker_6a6ea6caca41348109a4446bf97468e9 = L.marker(\n",
       "                [23.13499567642231, -82.37838807795364],\n",
       "                {\n",
       "}\n",
       "            ).addTo(map_25b1f90f2fd0c40419c04f1962b5ebc6);\n",
       "        \n",
       "    \n",
       "            var icon_7a01399f8ccd0050822eab13710ba755 = L.AwesomeMarkers.icon(\n",
       "                {\n",
       "  &quot;markerColor&quot;: &quot;red&quot;,\n",
       "  &quot;iconColor&quot;: &quot;white&quot;,\n",
       "  &quot;icon&quot;: &quot;cutlery&quot;,\n",
       "  &quot;prefix&quot;: &quot;fa&quot;,\n",
       "  &quot;extraClasses&quot;: &quot;fa-rotate-0&quot;,\n",
       "}\n",
       "            );\n",
       "            marker_6a6ea6caca41348109a4446bf97468e9.setIcon(icon_7a01399f8ccd0050822eab13710ba755);\n",
       "        \n",
       "    \n",
       "        var popup_715f1c385c799c82a0a1dd8501c8b7dc = L.popup({\n",
       "  &quot;maxWidth&quot;: &quot;100%&quot;,\n",
       "});\n",
       "\n",
       "        \n",
       "            \n",
       "                var html_6086d1628503a9e76296911df9c12f2f = $(`&lt;div id=&quot;html_6086d1628503a9e76296911df9c12f2f&quot; style=&quot;width: 100.0%; height: 100.0%;&quot;&gt;(&quot;&lt;b style=&#x27;font-size: 18px; &#x27;&gt;&lt;/b&gt;&lt;br&gt;Direccion: Infanta 560&quot;, &quot;Especialidades: [&#x27;italiana&#x27;]&quot;)&lt;/div&gt;`)[0];\n",
       "                popup_715f1c385c799c82a0a1dd8501c8b7dc.setContent(html_6086d1628503a9e76296911df9c12f2f);\n",
       "            \n",
       "        \n",
       "\n",
       "        marker_6a6ea6caca41348109a4446bf97468e9.bindPopup(popup_715f1c385c799c82a0a1dd8501c8b7dc)\n",
       "        ;\n",
       "\n",
       "        \n",
       "    \n",
       "    \n",
       "            var marker_070e62711868a78bc6ef1e59a43c224b = L.marker(\n",
       "                [23.166623898573555, -82.27753889194905],\n",
       "                {\n",
       "}\n",
       "            ).addTo(map_25b1f90f2fd0c40419c04f1962b5ebc6);\n",
       "        \n",
       "    \n",
       "            var icon_9f532bc86b007e4f9eb1e30a06008cc2 = L.AwesomeMarkers.icon(\n",
       "                {\n",
       "  &quot;markerColor&quot;: &quot;red&quot;,\n",
       "  &quot;iconColor&quot;: &quot;white&quot;,\n",
       "  &quot;icon&quot;: &quot;cutlery&quot;,\n",
       "  &quot;prefix&quot;: &quot;fa&quot;,\n",
       "  &quot;extraClasses&quot;: &quot;fa-rotate-0&quot;,\n",
       "}\n",
       "            );\n",
       "            marker_070e62711868a78bc6ef1e59a43c224b.setIcon(icon_9f532bc86b007e4f9eb1e30a06008cc2);\n",
       "        \n",
       "    \n",
       "        var popup_b004a493fbfa79509c680cb583504932 = L.popup({\n",
       "  &quot;maxWidth&quot;: &quot;100%&quot;,\n",
       "});\n",
       "\n",
       "        \n",
       "            \n",
       "                var html_47a348a9f7f5412a364189745a57e409 = $(`&lt;div id=&quot;html_47a348a9f7f5412a364189745a57e409&quot; style=&quot;width: 100.0%; height: 100.0%;&quot;&gt;(&quot;&lt;b style=&#x27;font-size: 18px; &#x27;&gt;Jackfe&lt;/b&gt;&lt;br&gt;Direccion: Calle 164B, #3B01, Esquina 3ra B, Mercado de los Rusos, zona 1, Alamar&quot;, &quot;Especialidades: [&#x27;Comida mixta&#x27;]&quot;)&lt;/div&gt;`)[0];\n",
       "                popup_b004a493fbfa79509c680cb583504932.setContent(html_47a348a9f7f5412a364189745a57e409);\n",
       "            \n",
       "        \n",
       "\n",
       "        marker_070e62711868a78bc6ef1e59a43c224b.bindPopup(popup_b004a493fbfa79509c680cb583504932)\n",
       "        ;\n",
       "\n",
       "        \n",
       "    \n",
       "    \n",
       "            var marker_ccc06be49b5bd0c33d985f8fa39d758e = L.marker(\n",
       "                [23.140066946343797, -82.35321025582338],\n",
       "                {\n",
       "}\n",
       "            ).addTo(map_25b1f90f2fd0c40419c04f1962b5ebc6);\n",
       "        \n",
       "    \n",
       "            var icon_894ec20b8da4bcc08f8881acf705b144 = L.AwesomeMarkers.icon(\n",
       "                {\n",
       "  &quot;markerColor&quot;: &quot;red&quot;,\n",
       "  &quot;iconColor&quot;: &quot;white&quot;,\n",
       "  &quot;icon&quot;: &quot;cutlery&quot;,\n",
       "  &quot;prefix&quot;: &quot;fa&quot;,\n",
       "  &quot;extraClasses&quot;: &quot;fa-rotate-0&quot;,\n",
       "}\n",
       "            );\n",
       "            marker_ccc06be49b5bd0c33d985f8fa39d758e.setIcon(icon_894ec20b8da4bcc08f8881acf705b144);\n",
       "        \n",
       "    \n",
       "        var popup_f30ad1ccff99254a8f20b2ae296146a9 = L.popup({\n",
       "  &quot;maxWidth&quot;: &quot;100%&quot;,\n",
       "});\n",
       "\n",
       "        \n",
       "            \n",
       "                var html_1f20dd0c73fcc3abad29f0bfddd9a66d = $(`&lt;div id=&quot;html_1f20dd0c73fcc3abad29f0bfddd9a66d&quot; style=&quot;width: 100.0%; height: 100.0%;&quot;&gt;(&quot;&lt;b style=&#x27;font-size: 18px; &#x27;&gt;JAMA Asian Food&lt;/b&gt;&lt;br&gt;Direccion: Calle Aguiar No 251 B entre OReilly y Empedrado&quot;, &quot;Especialidades: [&#x27;Comida Japonesa&#x27;, &#x27;Sushi&#x27;, &#x27;Asiática&#x27;]&quot;)&lt;/div&gt;`)[0];\n",
       "                popup_f30ad1ccff99254a8f20b2ae296146a9.setContent(html_1f20dd0c73fcc3abad29f0bfddd9a66d);\n",
       "            \n",
       "        \n",
       "\n",
       "        marker_ccc06be49b5bd0c33d985f8fa39d758e.bindPopup(popup_f30ad1ccff99254a8f20b2ae296146a9)\n",
       "        ;\n",
       "\n",
       "        \n",
       "    \n",
       "    \n",
       "            var marker_6a67355f054e3ed1d81cbe04c6439228 = L.marker(\n",
       "                [23.088147890970745, -82.37788683401902],\n",
       "                {\n",
       "}\n",
       "            ).addTo(map_25b1f90f2fd0c40419c04f1962b5ebc6);\n",
       "        \n",
       "    \n",
       "            var icon_06a94c3b82ebc3e988a0cb70b526b012 = L.AwesomeMarkers.icon(\n",
       "                {\n",
       "  &quot;markerColor&quot;: &quot;red&quot;,\n",
       "  &quot;iconColor&quot;: &quot;white&quot;,\n",
       "  &quot;icon&quot;: &quot;cutlery&quot;,\n",
       "  &quot;prefix&quot;: &quot;fa&quot;,\n",
       "  &quot;extraClasses&quot;: &quot;fa-rotate-0&quot;,\n",
       "}\n",
       "            );\n",
       "            marker_6a67355f054e3ed1d81cbe04c6439228.setIcon(icon_06a94c3b82ebc3e988a0cb70b526b012);\n",
       "        \n",
       "    \n",
       "        var popup_9c8cfd2a30626f5aa809304332827981 = L.popup({\n",
       "  &quot;maxWidth&quot;: &quot;100%&quot;,\n",
       "});\n",
       "\n",
       "        \n",
       "            \n",
       "                var html_fba8a474f1ad87742d125cfc812f2fee = $(`&lt;div id=&quot;html_fba8a474f1ad87742d125cfc812f2fee&quot; style=&quot;width: 100.0%; height: 100.0%;&quot;&gt;(&quot;&lt;b style=&#x27;font-size: 18px; &#x27;&gt;Joe&#x27;s Burguer&lt;/b&gt;&lt;br&gt;Direccion: Esquina Mayia Rodriguez y Aranguren&quot;, &quot;Especialidades: [&#x27;americana&#x27;, &#x27;internacional&#x27;]&quot;)&lt;/div&gt;`)[0];\n",
       "                popup_9c8cfd2a30626f5aa809304332827981.setContent(html_fba8a474f1ad87742d125cfc812f2fee);\n",
       "            \n",
       "        \n",
       "\n",
       "        marker_6a67355f054e3ed1d81cbe04c6439228.bindPopup(popup_9c8cfd2a30626f5aa809304332827981)\n",
       "        ;\n",
       "\n",
       "        \n",
       "    \n",
       "    \n",
       "            var marker_74099988a9dc9a62a4df6a8e8169743e = L.marker(\n",
       "                [23.12090996621169, -82.37354001445844],\n",
       "                {\n",
       "}\n",
       "            ).addTo(map_25b1f90f2fd0c40419c04f1962b5ebc6);\n",
       "        \n",
       "    \n",
       "            var icon_2e69d58d84fdc8be66fb2cb19d9b99cf = L.AwesomeMarkers.icon(\n",
       "                {\n",
       "  &quot;markerColor&quot;: &quot;red&quot;,\n",
       "  &quot;iconColor&quot;: &quot;white&quot;,\n",
       "  &quot;icon&quot;: &quot;cutlery&quot;,\n",
       "  &quot;prefix&quot;: &quot;fa&quot;,\n",
       "  &quot;extraClasses&quot;: &quot;fa-rotate-0&quot;,\n",
       "}\n",
       "            );\n",
       "            marker_74099988a9dc9a62a4df6a8e8169743e.setIcon(icon_2e69d58d84fdc8be66fb2cb19d9b99cf);\n",
       "        \n",
       "    \n",
       "        var popup_0ea754ab6de566ad351e91a95a2ffc19 = L.popup({\n",
       "  &quot;maxWidth&quot;: &quot;100%&quot;,\n",
       "});\n",
       "\n",
       "        \n",
       "            \n",
       "                var html_1f485d291d8e2a3c57aaa01ec9ba659d = $(`&lt;div id=&quot;html_1f485d291d8e2a3c57aaa01ec9ba659d&quot; style=&quot;width: 100.0%; height: 100.0%;&quot;&gt;(&quot;&lt;b style=&#x27;font-size: 18px; &#x27;&gt;Jorgito&#x27;s Pizzas&lt;/b&gt;&lt;br&gt;Direccion: Pedroso entre Infanta y Cruz del Pader&quot;, &quot;Especialidades: [&#x27;italiana&#x27;]&quot;)&lt;/div&gt;`)[0];\n",
       "                popup_0ea754ab6de566ad351e91a95a2ffc19.setContent(html_1f485d291d8e2a3c57aaa01ec9ba659d);\n",
       "            \n",
       "        \n",
       "\n",
       "        marker_74099988a9dc9a62a4df6a8e8169743e.bindPopup(popup_0ea754ab6de566ad351e91a95a2ffc19)\n",
       "        ;\n",
       "\n",
       "        \n",
       "    \n",
       "    \n",
       "            var marker_fb85c203be72abf50f4804c5c4ff8f94 = L.marker(\n",
       "                [23.130003976381268, -82.41350459680528],\n",
       "                {\n",
       "}\n",
       "            ).addTo(map_25b1f90f2fd0c40419c04f1962b5ebc6);\n",
       "        \n",
       "    \n",
       "            var icon_6fd521607e30d2b8592c2dec918f5f52 = L.AwesomeMarkers.icon(\n",
       "                {\n",
       "  &quot;markerColor&quot;: &quot;red&quot;,\n",
       "  &quot;iconColor&quot;: &quot;white&quot;,\n",
       "  &quot;icon&quot;: &quot;cutlery&quot;,\n",
       "  &quot;prefix&quot;: &quot;fa&quot;,\n",
       "  &quot;extraClasses&quot;: &quot;fa-rotate-0&quot;,\n",
       "}\n",
       "            );\n",
       "            marker_fb85c203be72abf50f4804c5c4ff8f94.setIcon(icon_6fd521607e30d2b8592c2dec918f5f52);\n",
       "        \n",
       "    \n",
       "        var popup_cc3e5de16b5b0722af0a0d2aadc7bfba = L.popup({\n",
       "  &quot;maxWidth&quot;: &quot;100%&quot;,\n",
       "});\n",
       "\n",
       "        \n",
       "            \n",
       "                var html_59a8c6e051bba3527b0d787940d5eb79 = $(`&lt;div id=&quot;html_59a8c6e051bba3527b0d787940d5eb79&quot; style=&quot;width: 100.0%; height: 100.0%;&quot;&gt;(&quot;&lt;b style=&#x27;font-size: 18px; &#x27;&gt;Jota Jota&lt;/b&gt;&lt;br&gt;Direccion: Calle 0 entre 3ra y 5ta&quot;, &quot;Especialidades: [&#x27;italiana&#x27;]&quot;)&lt;/div&gt;`)[0];\n",
       "                popup_cc3e5de16b5b0722af0a0d2aadc7bfba.setContent(html_59a8c6e051bba3527b0d787940d5eb79);\n",
       "            \n",
       "        \n",
       "\n",
       "        marker_fb85c203be72abf50f4804c5c4ff8f94.bindPopup(popup_cc3e5de16b5b0722af0a0d2aadc7bfba)\n",
       "        ;\n",
       "\n",
       "        \n",
       "    \n",
       "    \n",
       "            var marker_6cb83c0ecd27e8a8175fe8fd84a637d8 = L.marker(\n",
       "                [23.07212815069161, -82.46031809008416],\n",
       "                {\n",
       "}\n",
       "            ).addTo(map_25b1f90f2fd0c40419c04f1962b5ebc6);\n",
       "        \n",
       "    \n",
       "            var icon_91d2497e785f231e04c255848d22c7c8 = L.AwesomeMarkers.icon(\n",
       "                {\n",
       "  &quot;markerColor&quot;: &quot;red&quot;,\n",
       "  &quot;iconColor&quot;: &quot;white&quot;,\n",
       "  &quot;icon&quot;: &quot;cutlery&quot;,\n",
       "  &quot;prefix&quot;: &quot;fa&quot;,\n",
       "  &quot;extraClasses&quot;: &quot;fa-rotate-0&quot;,\n",
       "}\n",
       "            );\n",
       "            marker_6cb83c0ecd27e8a8175fe8fd84a637d8.setIcon(icon_91d2497e785f231e04c255848d22c7c8);\n",
       "        \n",
       "    \n",
       "        var popup_f469a6258871f400cea9afc56674a19b = L.popup({\n",
       "  &quot;maxWidth&quot;: &quot;100%&quot;,\n",
       "});\n",
       "\n",
       "        \n",
       "            \n",
       "                var html_2d29c0f01b4cdfe9511aef1ea844c72e = $(`&lt;div id=&quot;html_2d29c0f01b4cdfe9511aef1ea844c72e&quot; style=&quot;width: 100.0%; height: 100.0%;&quot;&gt;(&quot;&lt;b style=&#x27;font-size: 18px; &#x27;&gt;Juanky&#x27;s Pan&lt;/b&gt;&lt;br&gt;Direccion: 23 A entre 202 y 212 Reparto la Coronela &quot;, &quot;Especialidades: [&#x27;sandwich&#x27;]&quot;)&lt;/div&gt;`)[0];\n",
       "                popup_f469a6258871f400cea9afc56674a19b.setContent(html_2d29c0f01b4cdfe9511aef1ea844c72e);\n",
       "            \n",
       "        \n",
       "\n",
       "        marker_6cb83c0ecd27e8a8175fe8fd84a637d8.bindPopup(popup_f469a6258871f400cea9afc56674a19b)\n",
       "        ;\n",
       "\n",
       "        \n",
       "    \n",
       "    \n",
       "            var marker_9a8e39a764cd1f4272443cfa3215cce6 = L.marker(\n",
       "                [23.095284182284068, -82.36305903151953],\n",
       "                {\n",
       "}\n",
       "            ).addTo(map_25b1f90f2fd0c40419c04f1962b5ebc6);\n",
       "        \n",
       "    \n",
       "            var icon_c459396a47a9910902db9424dada905c = L.AwesomeMarkers.icon(\n",
       "                {\n",
       "  &quot;markerColor&quot;: &quot;red&quot;,\n",
       "  &quot;iconColor&quot;: &quot;white&quot;,\n",
       "  &quot;icon&quot;: &quot;cutlery&quot;,\n",
       "  &quot;prefix&quot;: &quot;fa&quot;,\n",
       "  &quot;extraClasses&quot;: &quot;fa-rotate-0&quot;,\n",
       "}\n",
       "            );\n",
       "            marker_9a8e39a764cd1f4272443cfa3215cce6.setIcon(icon_c459396a47a9910902db9424dada905c);\n",
       "        \n",
       "    \n",
       "        var popup_631de67b87a87c1e777aa5a293e080f7 = L.popup({\n",
       "  &quot;maxWidth&quot;: &quot;100%&quot;,\n",
       "});\n",
       "\n",
       "        \n",
       "            \n",
       "                var html_69580b654c84470853852618758e87b3 = $(`&lt;div id=&quot;html_69580b654c84470853852618758e87b3&quot; style=&quot;width: 100.0%; height: 100.0%;&quot;&gt;(&quot;&lt;b style=&#x27;font-size: 18px; &#x27;&gt;Kafe DVD&lt;/b&gt;&lt;br&gt;Direccion: San Francisco entre 10 de Octubre y Delicias&quot;, &quot;Especialidades: [&#x27;criolla&#x27;]&quot;)&lt;/div&gt;`)[0];\n",
       "                popup_631de67b87a87c1e777aa5a293e080f7.setContent(html_69580b654c84470853852618758e87b3);\n",
       "            \n",
       "        \n",
       "\n",
       "        marker_9a8e39a764cd1f4272443cfa3215cce6.bindPopup(popup_631de67b87a87c1e777aa5a293e080f7)\n",
       "        ;\n",
       "\n",
       "        \n",
       "    \n",
       "    \n",
       "            var marker_e674bee2e32529eab03766582a7ca3f6 = L.marker(\n",
       "                [23.139549087699173, -82.3756494611986],\n",
       "                {\n",
       "}\n",
       "            ).addTo(map_25b1f90f2fd0c40419c04f1962b5ebc6);\n",
       "        \n",
       "    \n",
       "            var icon_ace49391218fd57bc70414b94d3cb291 = L.AwesomeMarkers.icon(\n",
       "                {\n",
       "  &quot;markerColor&quot;: &quot;red&quot;,\n",
       "  &quot;iconColor&quot;: &quot;white&quot;,\n",
       "  &quot;icon&quot;: &quot;cutlery&quot;,\n",
       "  &quot;prefix&quot;: &quot;fa&quot;,\n",
       "  &quot;extraClasses&quot;: &quot;fa-rotate-0&quot;,\n",
       "}\n",
       "            );\n",
       "            marker_e674bee2e32529eab03766582a7ca3f6.setIcon(icon_ace49391218fd57bc70414b94d3cb291);\n",
       "        \n",
       "    \n",
       "        var popup_3bbe4adb1d826f8dc612fad175f89d0d = L.popup({\n",
       "  &quot;maxWidth&quot;: &quot;100%&quot;,\n",
       "});\n",
       "\n",
       "        \n",
       "            \n",
       "                var html_d22208b924f2ae1ebfa0c1c1eb893afc = $(`&lt;div id=&quot;html_d22208b924f2ae1ebfa0c1c1eb893afc&quot; style=&quot;width: 100.0%; height: 100.0%;&quot;&gt;(&quot;&lt;b style=&#x27;font-size: 18px; &#x27;&gt;Kasa Takos&lt;/b&gt;&lt;br&gt;Direccion: Hospital y Aramburu, 966 entre San Lazaro&quot;, &quot;Especialidades: [&#x27;Comida caribeña&#x27;, &#x27;mexicana&#x27;, &#x27;cubana&#x27;]&quot;)&lt;/div&gt;`)[0];\n",
       "                popup_3bbe4adb1d826f8dc612fad175f89d0d.setContent(html_d22208b924f2ae1ebfa0c1c1eb893afc);\n",
       "            \n",
       "        \n",
       "\n",
       "        marker_e674bee2e32529eab03766582a7ca3f6.bindPopup(popup_3bbe4adb1d826f8dc612fad175f89d0d)\n",
       "        ;\n",
       "\n",
       "        \n",
       "    \n",
       "    \n",
       "            var marker_c01b7530fd558901e16e1180760e236e = L.marker(\n",
       "                [23.100196337428876, -82.36994932052565],\n",
       "                {\n",
       "}\n",
       "            ).addTo(map_25b1f90f2fd0c40419c04f1962b5ebc6);\n",
       "        \n",
       "    \n",
       "            var icon_de06aee4d93fd04a7211f5812ee08fd4 = L.AwesomeMarkers.icon(\n",
       "                {\n",
       "  &quot;markerColor&quot;: &quot;red&quot;,\n",
       "  &quot;iconColor&quot;: &quot;white&quot;,\n",
       "  &quot;icon&quot;: &quot;cutlery&quot;,\n",
       "  &quot;prefix&quot;: &quot;fa&quot;,\n",
       "  &quot;extraClasses&quot;: &quot;fa-rotate-0&quot;,\n",
       "}\n",
       "            );\n",
       "            marker_c01b7530fd558901e16e1180760e236e.setIcon(icon_de06aee4d93fd04a7211f5812ee08fd4);\n",
       "        \n",
       "    \n",
       "        var popup_d35ccc172cb721bc50ba1c33de1d568b = L.popup({\n",
       "  &quot;maxWidth&quot;: &quot;100%&quot;,\n",
       "});\n",
       "\n",
       "        \n",
       "            \n",
       "                var html_15b65f6114b996c6483d7318815d573d = $(`&lt;div id=&quot;html_15b65f6114b996c6483d7318815d573d&quot; style=&quot;width: 100.0%; height: 100.0%;&quot;&gt;(&quot;&lt;b style=&#x27;font-size: 18px; &#x27;&gt;Kimera&lt;/b&gt;&lt;br&gt;Direccion: #311, Calle Lacret entre Juan Bruno Zallas y Cortina, Santos Suarez&quot;, &quot;Especialidades: [&#x27;internaciona&#x27;, &#x27;cubana&#x27;, &#x27;italiana&#x27;]&quot;)&lt;/div&gt;`)[0];\n",
       "                popup_d35ccc172cb721bc50ba1c33de1d568b.setContent(html_15b65f6114b996c6483d7318815d573d);\n",
       "            \n",
       "        \n",
       "\n",
       "        marker_c01b7530fd558901e16e1180760e236e.bindPopup(popup_d35ccc172cb721bc50ba1c33de1d568b)\n",
       "        ;\n",
       "\n",
       "        \n",
       "    \n",
       "    \n",
       "            var marker_4ff922e56273c3098e8a96b7c6d743a3 = L.marker(\n",
       "                [23.07982261108124, -82.32043410333418],\n",
       "                {\n",
       "}\n",
       "            ).addTo(map_25b1f90f2fd0c40419c04f1962b5ebc6);\n",
       "        \n",
       "    \n",
       "            var icon_0c6d8458e9590297c77ddb86ac54544b = L.AwesomeMarkers.icon(\n",
       "                {\n",
       "  &quot;markerColor&quot;: &quot;red&quot;,\n",
       "  &quot;iconColor&quot;: &quot;white&quot;,\n",
       "  &quot;icon&quot;: &quot;cutlery&quot;,\n",
       "  &quot;prefix&quot;: &quot;fa&quot;,\n",
       "  &quot;extraClasses&quot;: &quot;fa-rotate-0&quot;,\n",
       "}\n",
       "            );\n",
       "            marker_4ff922e56273c3098e8a96b7c6d743a3.setIcon(icon_0c6d8458e9590297c77ddb86ac54544b);\n",
       "        \n",
       "    \n",
       "        var popup_949dde889878cc429ab06faac6189916 = L.popup({\n",
       "  &quot;maxWidth&quot;: &quot;100%&quot;,\n",
       "});\n",
       "\n",
       "        \n",
       "            \n",
       "                var html_d93c2f0c153ef76b0dd4cb9f80cc4fac = $(`&lt;div id=&quot;html_d93c2f0c153ef76b0dd4cb9f80cc4fac&quot; style=&quot;width: 100.0%; height: 100.0%;&quot;&gt;(&quot;&lt;b style=&#x27;font-size: 18px; &#x27;&gt;KY-13&lt;/b&gt;&lt;br&gt;Direccion: Calzada de guines #45 e/ 13 y 23 AMP. San Matias&quot;, &quot;Especialidades: [&#x27;criolla&#x27;, &#x27;italiana&#x27;]&quot;)&lt;/div&gt;`)[0];\n",
       "                popup_949dde889878cc429ab06faac6189916.setContent(html_d93c2f0c153ef76b0dd4cb9f80cc4fac);\n",
       "            \n",
       "        \n",
       "\n",
       "        marker_4ff922e56273c3098e8a96b7c6d743a3.bindPopup(popup_949dde889878cc429ab06faac6189916)\n",
       "        ;\n",
       "\n",
       "        \n",
       "    \n",
       "    \n",
       "            var marker_c75fd8888a04df78d957437afe383c3d = L.marker(\n",
       "                [23.06738029017932, -82.46823262236785],\n",
       "                {\n",
       "}\n",
       "            ).addTo(map_25b1f90f2fd0c40419c04f1962b5ebc6);\n",
       "        \n",
       "    \n",
       "            var icon_454c495ba8f8ecb2d720c67b7d63abf4 = L.AwesomeMarkers.icon(\n",
       "                {\n",
       "  &quot;markerColor&quot;: &quot;red&quot;,\n",
       "  &quot;iconColor&quot;: &quot;white&quot;,\n",
       "  &quot;icon&quot;: &quot;cutlery&quot;,\n",
       "  &quot;prefix&quot;: &quot;fa&quot;,\n",
       "  &quot;extraClasses&quot;: &quot;fa-rotate-0&quot;,\n",
       "}\n",
       "            );\n",
       "            marker_c75fd8888a04df78d957437afe383c3d.setIcon(icon_454c495ba8f8ecb2d720c67b7d63abf4);\n",
       "        \n",
       "    \n",
       "        var popup_a8d20c844978689b2306e66e2f039620 = L.popup({\n",
       "  &quot;maxWidth&quot;: &quot;100%&quot;,\n",
       "});\n",
       "\n",
       "        \n",
       "            \n",
       "                var html_dbf0a19336da94b6041ddccb68d930bd = $(`&lt;div id=&quot;html_dbf0a19336da94b6041ddccb68d930bd&quot; style=&quot;width: 100.0%; height: 100.0%;&quot;&gt;(&quot;&lt;b style=&#x27;font-size: 18px; &#x27;&gt;La Baliza&lt;/b&gt;&lt;br&gt;Direccion: Entre avenida 23 y 23 A&quot;, &quot;Especialidades: [&#x27;americana&#x27;, &#x27;italiana&#x27;]&quot;)&lt;/div&gt;`)[0];\n",
       "                popup_a8d20c844978689b2306e66e2f039620.setContent(html_dbf0a19336da94b6041ddccb68d930bd);\n",
       "            \n",
       "        \n",
       "\n",
       "        marker_c75fd8888a04df78d957437afe383c3d.bindPopup(popup_a8d20c844978689b2306e66e2f039620)\n",
       "        ;\n",
       "\n",
       "        \n",
       "    \n",
       "    \n",
       "            var marker_f443be1e53225f535902e89f97352922 = L.marker(\n",
       "                [23.14013425278987, -82.3482903668532],\n",
       "                {\n",
       "}\n",
       "            ).addTo(map_25b1f90f2fd0c40419c04f1962b5ebc6);\n",
       "        \n",
       "    \n",
       "            var icon_3333907071969c08aec7bad995aa970f = L.AwesomeMarkers.icon(\n",
       "                {\n",
       "  &quot;markerColor&quot;: &quot;red&quot;,\n",
       "  &quot;iconColor&quot;: &quot;white&quot;,\n",
       "  &quot;icon&quot;: &quot;cutlery&quot;,\n",
       "  &quot;prefix&quot;: &quot;fa&quot;,\n",
       "  &quot;extraClasses&quot;: &quot;fa-rotate-0&quot;,\n",
       "}\n",
       "            );\n",
       "            marker_f443be1e53225f535902e89f97352922.setIcon(icon_3333907071969c08aec7bad995aa970f);\n",
       "        \n",
       "    \n",
       "        var popup_d4cc0da45a02a4cf84c90e1d8f4c5ccf = L.popup({\n",
       "  &quot;maxWidth&quot;: &quot;100%&quot;,\n",
       "});\n",
       "\n",
       "        \n",
       "            \n",
       "                var html_92a21d0272476ac8ad1dc65efbdb5225 = $(`&lt;div id=&quot;html_92a21d0272476ac8ad1dc65efbdb5225&quot; style=&quot;width: 100.0%; height: 100.0%;&quot;&gt;(&quot;&lt;b style=&#x27;font-size: 18px; &#x27;&gt;La Barca&lt;/b&gt;&lt;br&gt;Direccion: Avenida del Puerto, esquina Obispo&quot;, &quot;Especialidades: [&#x27;Criolla&#x27;]&quot;)&lt;/div&gt;`)[0];\n",
       "                popup_d4cc0da45a02a4cf84c90e1d8f4c5ccf.setContent(html_92a21d0272476ac8ad1dc65efbdb5225);\n",
       "            \n",
       "        \n",
       "\n",
       "        marker_f443be1e53225f535902e89f97352922.bindPopup(popup_d4cc0da45a02a4cf84c90e1d8f4c5ccf)\n",
       "        ;\n",
       "\n",
       "        \n",
       "    \n",
       "    \n",
       "            var marker_e935fd7ae9c1d7792531100b2d8c87cb = L.marker(\n",
       "                [23.14012116111188, -82.4018177339757],\n",
       "                {\n",
       "}\n",
       "            ).addTo(map_25b1f90f2fd0c40419c04f1962b5ebc6);\n",
       "        \n",
       "    \n",
       "            var icon_97df709d794d5b89e6bf89bc2e69ad32 = L.AwesomeMarkers.icon(\n",
       "                {\n",
       "  &quot;markerColor&quot;: &quot;red&quot;,\n",
       "  &quot;iconColor&quot;: &quot;white&quot;,\n",
       "  &quot;icon&quot;: &quot;cutlery&quot;,\n",
       "  &quot;prefix&quot;: &quot;fa&quot;,\n",
       "  &quot;extraClasses&quot;: &quot;fa-rotate-0&quot;,\n",
       "}\n",
       "            );\n",
       "            marker_e935fd7ae9c1d7792531100b2d8c87cb.setIcon(icon_97df709d794d5b89e6bf89bc2e69ad32);\n",
       "        \n",
       "    \n",
       "        var popup_0ed42bbdb95c1a6521a20ef452cdcf1e = L.popup({\n",
       "  &quot;maxWidth&quot;: &quot;100%&quot;,\n",
       "});\n",
       "\n",
       "        \n",
       "            \n",
       "                var html_5768e744d36ab492830ec509189335ea = $(`&lt;div id=&quot;html_5768e744d36ab492830ec509189335ea&quot; style=&quot;width: 100.0%; height: 100.0%;&quot;&gt;(&quot;&lt;b style=&#x27;font-size: 18px; &#x27;&gt;La Cocinita&lt;/b&gt;&lt;br&gt;Direccion: Paseo entre 1era y 3era, Vedado&quot;, &quot;Especialidades: [&#x27;Comida cubana&#x27;, &#x27;caribeña&#x27;, &#x27;latina&#x27;, &#x27;criolla&#x27;]&quot;)&lt;/div&gt;`)[0];\n",
       "                popup_0ed42bbdb95c1a6521a20ef452cdcf1e.setContent(html_5768e744d36ab492830ec509189335ea);\n",
       "            \n",
       "        \n",
       "\n",
       "        marker_e935fd7ae9c1d7792531100b2d8c87cb.bindPopup(popup_0ed42bbdb95c1a6521a20ef452cdcf1e)\n",
       "        ;\n",
       "\n",
       "        \n",
       "    \n",
       "    \n",
       "            var marker_0c510fd09dcd535d4f7e7c3557da0a18 = L.marker(\n",
       "                [23.04493541439918, -82.26869240537707],\n",
       "                {\n",
       "}\n",
       "            ).addTo(map_25b1f90f2fd0c40419c04f1962b5ebc6);\n",
       "        \n",
       "    \n",
       "            var icon_0bb05a8dc1d895084fd120686fa8c407 = L.AwesomeMarkers.icon(\n",
       "                {\n",
       "  &quot;markerColor&quot;: &quot;red&quot;,\n",
       "  &quot;iconColor&quot;: &quot;white&quot;,\n",
       "  &quot;icon&quot;: &quot;cutlery&quot;,\n",
       "  &quot;prefix&quot;: &quot;fa&quot;,\n",
       "  &quot;extraClasses&quot;: &quot;fa-rotate-0&quot;,\n",
       "}\n",
       "            );\n",
       "            marker_0c510fd09dcd535d4f7e7c3557da0a18.setIcon(icon_0bb05a8dc1d895084fd120686fa8c407);\n",
       "        \n",
       "    \n",
       "        var popup_9a59c5b8a962669c6e688cac6f4f0fc2 = L.popup({\n",
       "  &quot;maxWidth&quot;: &quot;100%&quot;,\n",
       "});\n",
       "\n",
       "        \n",
       "            \n",
       "                var html_637a8031833bd57d44901b7b44bd41ba = $(`&lt;div id=&quot;html_637a8031833bd57d44901b7b44bd41ba&quot; style=&quot;width: 100.0%; height: 100.0%;&quot;&gt;(&quot;&lt;b style=&#x27;font-size: 18px; &#x27;&gt;La esquinita del Cotorro&lt;/b&gt;&lt;br&gt;Direccion: Avenida 71&quot;, &quot;Especialidades: [&#x27;hamburguesas&#x27;]&quot;)&lt;/div&gt;`)[0];\n",
       "                popup_9a59c5b8a962669c6e688cac6f4f0fc2.setContent(html_637a8031833bd57d44901b7b44bd41ba);\n",
       "            \n",
       "        \n",
       "\n",
       "        marker_0c510fd09dcd535d4f7e7c3557da0a18.bindPopup(popup_9a59c5b8a962669c6e688cac6f4f0fc2)\n",
       "        ;\n",
       "\n",
       "        \n",
       "    \n",
       "    \n",
       "            var marker_4caf32cfc201654f35a846f3fb128bcc = L.marker(\n",
       "                [23.105239302631222, -82.35788567449791],\n",
       "                {\n",
       "}\n",
       "            ).addTo(map_25b1f90f2fd0c40419c04f1962b5ebc6);\n",
       "        \n",
       "    \n",
       "            var icon_66fbfd94663d1492fa0b3b396f531f45 = L.AwesomeMarkers.icon(\n",
       "                {\n",
       "  &quot;markerColor&quot;: &quot;red&quot;,\n",
       "  &quot;iconColor&quot;: &quot;white&quot;,\n",
       "  &quot;icon&quot;: &quot;cutlery&quot;,\n",
       "  &quot;prefix&quot;: &quot;fa&quot;,\n",
       "  &quot;extraClasses&quot;: &quot;fa-rotate-0&quot;,\n",
       "}\n",
       "            );\n",
       "            marker_4caf32cfc201654f35a846f3fb128bcc.setIcon(icon_66fbfd94663d1492fa0b3b396f531f45);\n",
       "        \n",
       "    \n",
       "        var popup_9a3357ca16e03b0638132cccee0fbd7f = L.popup({\n",
       "  &quot;maxWidth&quot;: &quot;100%&quot;,\n",
       "});\n",
       "\n",
       "        \n",
       "            \n",
       "                var html_1eb2c3d815799ac022bca6fb6385a198 = $(`&lt;div id=&quot;html_1eb2c3d815799ac022bca6fb6385a198&quot; style=&quot;width: 100.0%; height: 100.0%;&quot;&gt;(&quot;&lt;b style=&#x27;font-size: 18px; &#x27;&gt;La Fela&lt;/b&gt;&lt;br&gt;Direccion: #4, Nuestra Senora de Regla entre Remedios y Calzada de Luyano&quot;, &quot;Especialidades: [&#x27;cubana&#x27;, &#x27;italiana&#x27;]&quot;)&lt;/div&gt;`)[0];\n",
       "                popup_9a3357ca16e03b0638132cccee0fbd7f.setContent(html_1eb2c3d815799ac022bca6fb6385a198);\n",
       "            \n",
       "        \n",
       "\n",
       "        marker_4caf32cfc201654f35a846f3fb128bcc.bindPopup(popup_9a3357ca16e03b0638132cccee0fbd7f)\n",
       "        ;\n",
       "\n",
       "        \n",
       "    \n",
       "    \n",
       "            var marker_69019784a250ba4d1a1f5d0f745e2225 = L.marker(\n",
       "                [23.088796529399392, -82.36067214699546],\n",
       "                {\n",
       "}\n",
       "            ).addTo(map_25b1f90f2fd0c40419c04f1962b5ebc6);\n",
       "        \n",
       "    \n",
       "            var icon_6757600171dbe93f3acf62993abb19f7 = L.AwesomeMarkers.icon(\n",
       "                {\n",
       "  &quot;markerColor&quot;: &quot;red&quot;,\n",
       "  &quot;iconColor&quot;: &quot;white&quot;,\n",
       "  &quot;icon&quot;: &quot;cutlery&quot;,\n",
       "  &quot;prefix&quot;: &quot;fa&quot;,\n",
       "  &quot;extraClasses&quot;: &quot;fa-rotate-0&quot;,\n",
       "}\n",
       "            );\n",
       "            marker_69019784a250ba4d1a1f5d0f745e2225.setIcon(icon_6757600171dbe93f3acf62993abb19f7);\n",
       "        \n",
       "    \n",
       "        var popup_98874c9d673676faf59fc19b4099e28e = L.popup({\n",
       "  &quot;maxWidth&quot;: &quot;100%&quot;,\n",
       "});\n",
       "\n",
       "        \n",
       "            \n",
       "                var html_b99257e2537f36a73e150b20c2266ccf = $(`&lt;div id=&quot;html_b99257e2537f36a73e150b20c2266ccf&quot; style=&quot;width: 100.0%; height: 100.0%;&quot;&gt;(&quot;&lt;b style=&#x27;font-size: 18px; &#x27;&gt;La Fuente&lt;/b&gt;&lt;br&gt;Direccion: Calle Acosta e/ 5ta y 6ta. Vista Alegre, Víbora&quot;, &quot;Especialidades: [&#x27;cubana&#x27;, &#x27;internacional&#x27;]&quot;)&lt;/div&gt;`)[0];\n",
       "                popup_98874c9d673676faf59fc19b4099e28e.setContent(html_b99257e2537f36a73e150b20c2266ccf);\n",
       "            \n",
       "        \n",
       "\n",
       "        marker_69019784a250ba4d1a1f5d0f745e2225.bindPopup(popup_98874c9d673676faf59fc19b4099e28e)\n",
       "        ;\n",
       "\n",
       "        \n",
       "    \n",
       "    \n",
       "            var marker_69a7c8df08a922b602624d4c066ef2b4 = L.marker(\n",
       "                [23.07120986898905, -82.46001932800391],\n",
       "                {\n",
       "}\n",
       "            ).addTo(map_25b1f90f2fd0c40419c04f1962b5ebc6);\n",
       "        \n",
       "    \n",
       "            var icon_2ce914f1d92cb9f660f0b7c680960031 = L.AwesomeMarkers.icon(\n",
       "                {\n",
       "  &quot;markerColor&quot;: &quot;red&quot;,\n",
       "  &quot;iconColor&quot;: &quot;white&quot;,\n",
       "  &quot;icon&quot;: &quot;cutlery&quot;,\n",
       "  &quot;prefix&quot;: &quot;fa&quot;,\n",
       "  &quot;extraClasses&quot;: &quot;fa-rotate-0&quot;,\n",
       "}\n",
       "            );\n",
       "            marker_69a7c8df08a922b602624d4c066ef2b4.setIcon(icon_2ce914f1d92cb9f660f0b7c680960031);\n",
       "        \n",
       "    \n",
       "        var popup_77026ad2a134d6401ef983be55b5441a = L.popup({\n",
       "  &quot;maxWidth&quot;: &quot;100%&quot;,\n",
       "});\n",
       "\n",
       "        \n",
       "            \n",
       "                var html_dd9979ccaf0fafa0629d3caa25c18b49 = $(`&lt;div id=&quot;html_dd9979ccaf0fafa0629d3caa25c18b49&quot; style=&quot;width: 100.0%; height: 100.0%;&quot;&gt;(&quot;&lt;b style=&#x27;font-size: 18px; &#x27;&gt;La Mia Pizza&lt;/b&gt;&lt;br&gt;Direccion: 29 y 23A&quot;, &quot;Especialidades: [&#x27;italiana&#x27;]&quot;)&lt;/div&gt;`)[0];\n",
       "                popup_77026ad2a134d6401ef983be55b5441a.setContent(html_dd9979ccaf0fafa0629d3caa25c18b49);\n",
       "            \n",
       "        \n",
       "\n",
       "        marker_69a7c8df08a922b602624d4c066ef2b4.bindPopup(popup_77026ad2a134d6401ef983be55b5441a)\n",
       "        ;\n",
       "\n",
       "        \n",
       "    \n",
       "    \n",
       "            var marker_4833614d395954ea5fb967390ab58f68 = L.marker(\n",
       "                [23.025265299543545, -82.46372134720235],\n",
       "                {\n",
       "}\n",
       "            ).addTo(map_25b1f90f2fd0c40419c04f1962b5ebc6);\n",
       "        \n",
       "    \n",
       "            var icon_9d47aa3d4fb834068a3cfb9aec84a20a = L.AwesomeMarkers.icon(\n",
       "                {\n",
       "  &quot;markerColor&quot;: &quot;red&quot;,\n",
       "  &quot;iconColor&quot;: &quot;white&quot;,\n",
       "  &quot;icon&quot;: &quot;cutlery&quot;,\n",
       "  &quot;prefix&quot;: &quot;fa&quot;,\n",
       "  &quot;extraClasses&quot;: &quot;fa-rotate-0&quot;,\n",
       "}\n",
       "            );\n",
       "            marker_4833614d395954ea5fb967390ab58f68.setIcon(icon_9d47aa3d4fb834068a3cfb9aec84a20a);\n",
       "        \n",
       "    \n",
       "        var popup_b81acd10ee0c41f54c98be1192be2d34 = L.popup({\n",
       "  &quot;maxWidth&quot;: &quot;100%&quot;,\n",
       "});\n",
       "\n",
       "        \n",
       "            \n",
       "                var html_d09467369183d710283089e10f6d9396 = $(`&lt;div id=&quot;html_d09467369183d710283089e10f6d9396&quot; style=&quot;width: 100.0%; height: 100.0%;&quot;&gt;(&quot;&lt;b style=&#x27;font-size: 18px; &#x27;&gt; La Novia&lt;/b&gt;&lt;br&gt;Direccion: Calle 51 entre 330 y 332 numero 33013, La novia del mediodia&quot;, &quot;Especialidades: [&#x27;Cubana&#x27;, &#x27;Italiana&#x27;, &#x27;criolla&#x27;]&quot;)&lt;/div&gt;`)[0];\n",
       "                popup_b81acd10ee0c41f54c98be1192be2d34.setContent(html_d09467369183d710283089e10f6d9396);\n",
       "            \n",
       "        \n",
       "\n",
       "        marker_4833614d395954ea5fb967390ab58f68.bindPopup(popup_b81acd10ee0c41f54c98be1192be2d34)\n",
       "        ;\n",
       "\n",
       "        \n",
       "    \n",
       "    \n",
       "            var marker_fcd7a346b86e4d09a0570f4a0624b311 = L.marker(\n",
       "                [23.090481747498764, -82.37664454717603],\n",
       "                {\n",
       "}\n",
       "            ).addTo(map_25b1f90f2fd0c40419c04f1962b5ebc6);\n",
       "        \n",
       "    \n",
       "            var icon_cb296e8a5d9e08febae507ad4550f0d9 = L.AwesomeMarkers.icon(\n",
       "                {\n",
       "  &quot;markerColor&quot;: &quot;red&quot;,\n",
       "  &quot;iconColor&quot;: &quot;white&quot;,\n",
       "  &quot;icon&quot;: &quot;cutlery&quot;,\n",
       "  &quot;prefix&quot;: &quot;fa&quot;,\n",
       "  &quot;extraClasses&quot;: &quot;fa-rotate-0&quot;,\n",
       "}\n",
       "            );\n",
       "            marker_fcd7a346b86e4d09a0570f4a0624b311.setIcon(icon_cb296e8a5d9e08febae507ad4550f0d9);\n",
       "        \n",
       "    \n",
       "        var popup_9580fe385806b540c74c97d412b32813 = L.popup({\n",
       "  &quot;maxWidth&quot;: &quot;100%&quot;,\n",
       "});\n",
       "\n",
       "        \n",
       "            \n",
       "                var html_b38a9186c639a862eca81d6f2e2bcd16 = $(`&lt;div id=&quot;html_b38a9186c639a862eca81d6f2e2bcd16&quot; style=&quot;width: 100.0%; height: 100.0%;&quot;&gt;(&quot;&lt;b style=&#x27;font-size: 18px; &#x27;&gt;La Patrona&lt;/b&gt;&lt;br&gt;Direccion: Calzada de Guines en San Francisco de Paula&quot;, &quot;Especialidades: [&#x27;misxta&#x27;]&quot;)&lt;/div&gt;`)[0];\n",
       "                popup_9580fe385806b540c74c97d412b32813.setContent(html_b38a9186c639a862eca81d6f2e2bcd16);\n",
       "            \n",
       "        \n",
       "\n",
       "        marker_fcd7a346b86e4d09a0570f4a0624b311.bindPopup(popup_9580fe385806b540c74c97d412b32813)\n",
       "        ;\n",
       "\n",
       "        \n",
       "    \n",
       "    \n",
       "            var marker_2baa9e3e56d1e1d6b9877d1aee3f5be6 = L.marker(\n",
       "                [23.10168916405231, -82.3749154033336],\n",
       "                {\n",
       "}\n",
       "            ).addTo(map_25b1f90f2fd0c40419c04f1962b5ebc6);\n",
       "        \n",
       "    \n",
       "            var icon_558db62bff934ae9dc40b59a41ebe60e = L.AwesomeMarkers.icon(\n",
       "                {\n",
       "  &quot;markerColor&quot;: &quot;red&quot;,\n",
       "  &quot;iconColor&quot;: &quot;white&quot;,\n",
       "  &quot;icon&quot;: &quot;cutlery&quot;,\n",
       "  &quot;prefix&quot;: &quot;fa&quot;,\n",
       "  &quot;extraClasses&quot;: &quot;fa-rotate-0&quot;,\n",
       "}\n",
       "            );\n",
       "            marker_2baa9e3e56d1e1d6b9877d1aee3f5be6.setIcon(icon_558db62bff934ae9dc40b59a41ebe60e);\n",
       "        \n",
       "    \n",
       "        var popup_70e4658fd6019688c67431512adf2c67 = L.popup({\n",
       "  &quot;maxWidth&quot;: &quot;100%&quot;,\n",
       "});\n",
       "\n",
       "        \n",
       "            \n",
       "                var html_e3c6c141acf3e7eaeb0c3133fc579141 = $(`&lt;div id=&quot;html_e3c6c141acf3e7eaeb0c3133fc579141&quot; style=&quot;width: 100.0%; height: 100.0%;&quot;&gt;(&quot;&lt;b style=&#x27;font-size: 18px; &#x27;&gt;Lacret 559&lt;/b&gt;&lt;br&gt;Direccion: Gral. Lacret entre Avenida Mayia Rodriguez y Goicuria&quot;, &quot;Especialidades: [&#x27;mixta&#x27;]&quot;)&lt;/div&gt;`)[0];\n",
       "                popup_70e4658fd6019688c67431512adf2c67.setContent(html_e3c6c141acf3e7eaeb0c3133fc579141);\n",
       "            \n",
       "        \n",
       "\n",
       "        marker_2baa9e3e56d1e1d6b9877d1aee3f5be6.bindPopup(popup_70e4658fd6019688c67431512adf2c67)\n",
       "        ;\n",
       "\n",
       "        \n",
       "    \n",
       "    \n",
       "            var marker_58f186f1381a0f2d17003ea672b8cb6c = L.marker(\n",
       "                [23.089446250644617, -82.37695227313037],\n",
       "                {\n",
       "}\n",
       "            ).addTo(map_25b1f90f2fd0c40419c04f1962b5ebc6);\n",
       "        \n",
       "    \n",
       "            var icon_e4d02cc1212c4917bae5a15506ae4869 = L.AwesomeMarkers.icon(\n",
       "                {\n",
       "  &quot;markerColor&quot;: &quot;red&quot;,\n",
       "  &quot;iconColor&quot;: &quot;white&quot;,\n",
       "  &quot;icon&quot;: &quot;cutlery&quot;,\n",
       "  &quot;prefix&quot;: &quot;fa&quot;,\n",
       "  &quot;extraClasses&quot;: &quot;fa-rotate-0&quot;,\n",
       "}\n",
       "            );\n",
       "            marker_58f186f1381a0f2d17003ea672b8cb6c.setIcon(icon_e4d02cc1212c4917bae5a15506ae4869);\n",
       "        \n",
       "    \n",
       "        var popup_2a00bcceaa9c3a0cf1dbe80bde408839 = L.popup({\n",
       "  &quot;maxWidth&quot;: &quot;100%&quot;,\n",
       "});\n",
       "\n",
       "        \n",
       "            \n",
       "                var html_b58c8ddb0935d30ff880eedfdae24524 = $(`&lt;div id=&quot;html_b58c8ddb0935d30ff880eedfdae24524&quot; style=&quot;width: 100.0%; height: 100.0%;&quot;&gt;(&quot;&lt;b style=&#x27;font-size: 18px; &#x27;&gt;Lateral&lt;/b&gt;&lt;br&gt;Direccion: Ave. Acosta #467, esq. Goicuría, Víbora&quot;, &quot;Especialidades: [&#x27;internacional&#x27;]&quot;)&lt;/div&gt;`)[0];\n",
       "                popup_2a00bcceaa9c3a0cf1dbe80bde408839.setContent(html_b58c8ddb0935d30ff880eedfdae24524);\n",
       "            \n",
       "        \n",
       "\n",
       "        marker_58f186f1381a0f2d17003ea672b8cb6c.bindPopup(popup_2a00bcceaa9c3a0cf1dbe80bde408839)\n",
       "        ;\n",
       "\n",
       "        \n",
       "    \n",
       "    \n",
       "            var marker_b76737a02a9946be316c1f59f23fe8ed = L.marker(\n",
       "                [23.12193638525617, -82.37392744585779],\n",
       "                {\n",
       "}\n",
       "            ).addTo(map_25b1f90f2fd0c40419c04f1962b5ebc6);\n",
       "        \n",
       "    \n",
       "            var icon_9a128ae28a4670961b9946265fb611ff = L.AwesomeMarkers.icon(\n",
       "                {\n",
       "  &quot;markerColor&quot;: &quot;red&quot;,\n",
       "  &quot;iconColor&quot;: &quot;white&quot;,\n",
       "  &quot;icon&quot;: &quot;cutlery&quot;,\n",
       "  &quot;prefix&quot;: &quot;fa&quot;,\n",
       "  &quot;extraClasses&quot;: &quot;fa-rotate-0&quot;,\n",
       "}\n",
       "            );\n",
       "            marker_b76737a02a9946be316c1f59f23fe8ed.setIcon(icon_9a128ae28a4670961b9946265fb611ff);\n",
       "        \n",
       "    \n",
       "        var popup_424dea2b6b82cd4b0df65145a20fa62d = L.popup({\n",
       "  &quot;maxWidth&quot;: &quot;100%&quot;,\n",
       "});\n",
       "\n",
       "        \n",
       "            \n",
       "                var html_f76196e628f03e067487a387843c15b0 = $(`&lt;div id=&quot;html_f76196e628f03e067487a387843c15b0&quot; style=&quot;width: 100.0%; height: 100.0%;&quot;&gt;(&quot;&lt;b style=&#x27;font-size: 18px; &#x27;&gt;La Barrita Onbazar&lt;/b&gt;&lt;br&gt;Direccion: Amenidad entre Cruz del Pader e Infanta&quot;, &quot;Especialidades: [&#x27;italiana&#x27;]&quot;)&lt;/div&gt;`)[0];\n",
       "                popup_424dea2b6b82cd4b0df65145a20fa62d.setContent(html_f76196e628f03e067487a387843c15b0);\n",
       "            \n",
       "        \n",
       "\n",
       "        marker_b76737a02a9946be316c1f59f23fe8ed.bindPopup(popup_424dea2b6b82cd4b0df65145a20fa62d)\n",
       "        ;\n",
       "\n",
       "        \n",
       "    \n",
       "    \n",
       "            var marker_616d046a42f4411aa6f5b5d0382dce08 = L.marker(\n",
       "                [23.109190666229015, -82.38277310352859],\n",
       "                {\n",
       "}\n",
       "            ).addTo(map_25b1f90f2fd0c40419c04f1962b5ebc6);\n",
       "        \n",
       "    \n",
       "            var icon_7eb8d639cfd3d3eb8434fbf785f67ea0 = L.AwesomeMarkers.icon(\n",
       "                {\n",
       "  &quot;markerColor&quot;: &quot;red&quot;,\n",
       "  &quot;iconColor&quot;: &quot;white&quot;,\n",
       "  &quot;icon&quot;: &quot;cutlery&quot;,\n",
       "  &quot;prefix&quot;: &quot;fa&quot;,\n",
       "  &quot;extraClasses&quot;: &quot;fa-rotate-0&quot;,\n",
       "}\n",
       "            );\n",
       "            marker_616d046a42f4411aa6f5b5d0382dce08.setIcon(icon_7eb8d639cfd3d3eb8434fbf785f67ea0);\n",
       "        \n",
       "    \n",
       "        var popup_7c1c976abe3a505720008a9ed6fc85e5 = L.popup({\n",
       "  &quot;maxWidth&quot;: &quot;100%&quot;,\n",
       "});\n",
       "\n",
       "        \n",
       "            \n",
       "                var html_de35fbb63d13cd02d5e4406ad0ccb697 = $(`&lt;div id=&quot;html_de35fbb63d13cd02d5e4406ad0ccb697&quot; style=&quot;width: 100.0%; height: 100.0%;&quot;&gt;(&quot;&lt;b style=&#x27;font-size: 18px; &#x27;&gt;La Casona del Cerro&lt;/b&gt;&lt;br&gt;Direccion: Calzada del Cerro entre Alzobispo y Penon&quot;, &quot;Especialidades: [&#x27;Comida Criolla&#x27;]&quot;)&lt;/div&gt;`)[0];\n",
       "                popup_7c1c976abe3a505720008a9ed6fc85e5.setContent(html_de35fbb63d13cd02d5e4406ad0ccb697);\n",
       "            \n",
       "        \n",
       "\n",
       "        marker_616d046a42f4411aa6f5b5d0382dce08.bindPopup(popup_7c1c976abe3a505720008a9ed6fc85e5)\n",
       "        ;\n",
       "\n",
       "        \n",
       "    \n",
       "    \n",
       "            var marker_3fe6d4633ebe3ce2af4c23e67895f2fb = L.marker(\n",
       "                [23.104975882244233, -82.44258298436951],\n",
       "                {\n",
       "}\n",
       "            ).addTo(map_25b1f90f2fd0c40419c04f1962b5ebc6);\n",
       "        \n",
       "    \n",
       "            var icon_583fc801d033d2c130857daf8ce80c87 = L.AwesomeMarkers.icon(\n",
       "                {\n",
       "  &quot;markerColor&quot;: &quot;red&quot;,\n",
       "  &quot;iconColor&quot;: &quot;white&quot;,\n",
       "  &quot;icon&quot;: &quot;cutlery&quot;,\n",
       "  &quot;prefix&quot;: &quot;fa&quot;,\n",
       "  &quot;extraClasses&quot;: &quot;fa-rotate-0&quot;,\n",
       "}\n",
       "            );\n",
       "            marker_3fe6d4633ebe3ce2af4c23e67895f2fb.setIcon(icon_583fc801d033d2c130857daf8ce80c87);\n",
       "        \n",
       "    \n",
       "        var popup_90a42ee9c5a6c11adfefeea8e1bef3cb = L.popup({\n",
       "  &quot;maxWidth&quot;: &quot;100%&quot;,\n",
       "});\n",
       "\n",
       "        \n",
       "            \n",
       "                var html_7d7d3b4ebd8c367a1900e8194133166a = $(`&lt;div id=&quot;html_7d7d3b4ebd8c367a1900e8194133166a&quot; style=&quot;width: 100.0%; height: 100.0%;&quot;&gt;(&quot;&lt;b style=&#x27;font-size: 18px; &#x27;&gt;La Catrina&lt;/b&gt;&lt;br&gt;Direccion: 503 84&quot;, &quot;Especialidades: [&#x27;mexicana&#x27;]&quot;)&lt;/div&gt;`)[0];\n",
       "                popup_90a42ee9c5a6c11adfefeea8e1bef3cb.setContent(html_7d7d3b4ebd8c367a1900e8194133166a);\n",
       "            \n",
       "        \n",
       "\n",
       "        marker_3fe6d4633ebe3ce2af4c23e67895f2fb.bindPopup(popup_90a42ee9c5a6c11adfefeea8e1bef3cb)\n",
       "        ;\n",
       "\n",
       "        \n",
       "    \n",
       "    \n",
       "            var marker_05b7b7d3d9a742543c8bdbd8818b6f68 = L.marker(\n",
       "                [23.148019759241123, -82.35245541091525],\n",
       "                {\n",
       "}\n",
       "            ).addTo(map_25b1f90f2fd0c40419c04f1962b5ebc6);\n",
       "        \n",
       "    \n",
       "            var icon_b9a58f8f9443db7e6504f76c0553bf2a = L.AwesomeMarkers.icon(\n",
       "                {\n",
       "  &quot;markerColor&quot;: &quot;red&quot;,\n",
       "  &quot;iconColor&quot;: &quot;white&quot;,\n",
       "  &quot;icon&quot;: &quot;cutlery&quot;,\n",
       "  &quot;prefix&quot;: &quot;fa&quot;,\n",
       "  &quot;extraClasses&quot;: &quot;fa-rotate-0&quot;,\n",
       "}\n",
       "            );\n",
       "            marker_05b7b7d3d9a742543c8bdbd8818b6f68.setIcon(icon_b9a58f8f9443db7e6504f76c0553bf2a);\n",
       "        \n",
       "    \n",
       "        var popup_d0dacb6cec0a9cbe97daf64128b5a55d = L.popup({\n",
       "  &quot;maxWidth&quot;: &quot;100%&quot;,\n",
       "});\n",
       "\n",
       "        \n",
       "            \n",
       "                var html_1ae86c3138ec4e0892ad7116d8f45914 = $(`&lt;div id=&quot;html_1ae86c3138ec4e0892ad7116d8f45914&quot; style=&quot;width: 100.0%; height: 100.0%;&quot;&gt;(&quot;&lt;b style=&#x27;font-size: 18px; &#x27;&gt;La Divina Pastora&lt;/b&gt;&lt;br&gt;Direccion: Complejo Morro Cabana, Via Monumental&quot;, &quot;Especialidades: [&#x27;Cubana&#x27;, &#x27;criolla&#x27;]&quot;)&lt;/div&gt;`)[0];\n",
       "                popup_d0dacb6cec0a9cbe97daf64128b5a55d.setContent(html_1ae86c3138ec4e0892ad7116d8f45914);\n",
       "            \n",
       "        \n",
       "\n",
       "        marker_05b7b7d3d9a742543c8bdbd8818b6f68.bindPopup(popup_d0dacb6cec0a9cbe97daf64128b5a55d)\n",
       "        ;\n",
       "\n",
       "        \n",
       "    \n",
       "    \n",
       "            var marker_040d5cf6c5e6e8d737d93f6e6726cfb5 = L.marker(\n",
       "                [23.140853253946666, -82.35265198633945],\n",
       "                {\n",
       "}\n",
       "            ).addTo(map_25b1f90f2fd0c40419c04f1962b5ebc6);\n",
       "        \n",
       "    \n",
       "            var icon_f4f7007ca754f728032a213bcff1f91d = L.AwesomeMarkers.icon(\n",
       "                {\n",
       "  &quot;markerColor&quot;: &quot;red&quot;,\n",
       "  &quot;iconColor&quot;: &quot;white&quot;,\n",
       "  &quot;icon&quot;: &quot;cutlery&quot;,\n",
       "  &quot;prefix&quot;: &quot;fa&quot;,\n",
       "  &quot;extraClasses&quot;: &quot;fa-rotate-0&quot;,\n",
       "}\n",
       "            );\n",
       "            marker_040d5cf6c5e6e8d737d93f6e6726cfb5.setIcon(icon_f4f7007ca754f728032a213bcff1f91d);\n",
       "        \n",
       "    \n",
       "        var popup_2222f2759622068866f641313b943641 = L.popup({\n",
       "  &quot;maxWidth&quot;: &quot;100%&quot;,\n",
       "});\n",
       "\n",
       "        \n",
       "            \n",
       "                var html_4fd1914838d2939a632f6e5fd596434d = $(`&lt;div id=&quot;html_4fd1914838d2939a632f6e5fd596434d&quot; style=&quot;width: 100.0%; height: 100.0%;&quot;&gt;(&quot;&lt;b style=&#x27;font-size: 18px; &#x27;&gt;La Esquina de Cuba&lt;/b&gt;&lt;br&gt;Direccion: Esquina de Calle Cuba y Empedrado&quot;, &quot;Especialidades: [&#x27;Comida mixta&#x27;]&quot;)&lt;/div&gt;`)[0];\n",
       "                popup_2222f2759622068866f641313b943641.setContent(html_4fd1914838d2939a632f6e5fd596434d);\n",
       "            \n",
       "        \n",
       "\n",
       "        marker_040d5cf6c5e6e8d737d93f6e6726cfb5.bindPopup(popup_2222f2759622068866f641313b943641)\n",
       "        ;\n",
       "\n",
       "        \n",
       "    \n",
       "    \n",
       "            var marker_d04c5b3ca361e4937d7eed3c99daf6fc = L.marker(\n",
       "                [23.099899183973307, -82.37926905264563],\n",
       "                {\n",
       "}\n",
       "            ).addTo(map_25b1f90f2fd0c40419c04f1962b5ebc6);\n",
       "        \n",
       "    \n",
       "            var icon_fdc2e767bd0b46dcd80513939a747efd = L.AwesomeMarkers.icon(\n",
       "                {\n",
       "  &quot;markerColor&quot;: &quot;red&quot;,\n",
       "  &quot;iconColor&quot;: &quot;white&quot;,\n",
       "  &quot;icon&quot;: &quot;cutlery&quot;,\n",
       "  &quot;prefix&quot;: &quot;fa&quot;,\n",
       "  &quot;extraClasses&quot;: &quot;fa-rotate-0&quot;,\n",
       "}\n",
       "            );\n",
       "            marker_d04c5b3ca361e4937d7eed3c99daf6fc.setIcon(icon_fdc2e767bd0b46dcd80513939a747efd);\n",
       "        \n",
       "    \n",
       "        var popup_df2ca718761cd9d555e4a0bae2f1850f = L.popup({\n",
       "  &quot;maxWidth&quot;: &quot;100%&quot;,\n",
       "});\n",
       "\n",
       "        \n",
       "            \n",
       "                var html_bdf5ca23a2093749ccac24615d907965 = $(`&lt;div id=&quot;html_bdf5ca23a2093749ccac24615d907965&quot; style=&quot;width: 100.0%; height: 100.0%;&quot;&gt;(&quot;&lt;b style=&#x27;font-size: 18px; &#x27;&gt;La Esquinita&lt;/b&gt;&lt;br&gt;Direccion: Juan Lefont entre Libertad y Johnson, Santos Suárez&quot;, &quot;Especialidades: [&#x27;criolla&#x27;, &#x27;cubana&#x27;, &#x27;italiana&#x27;]&quot;)&lt;/div&gt;`)[0];\n",
       "                popup_df2ca718761cd9d555e4a0bae2f1850f.setContent(html_bdf5ca23a2093749ccac24615d907965);\n",
       "            \n",
       "        \n",
       "\n",
       "        marker_d04c5b3ca361e4937d7eed3c99daf6fc.bindPopup(popup_df2ca718761cd9d555e4a0bae2f1850f)\n",
       "        ;\n",
       "\n",
       "        \n",
       "    \n",
       "    \n",
       "            var marker_eb678f7c2c3603ed854602407cb4b734 = L.marker(\n",
       "                [23.131650837595345, -82.35778799003404],\n",
       "                {\n",
       "}\n",
       "            ).addTo(map_25b1f90f2fd0c40419c04f1962b5ebc6);\n",
       "        \n",
       "    \n",
       "            var icon_4b4b78743ca05d4f6cecde19179af13f = L.AwesomeMarkers.icon(\n",
       "                {\n",
       "  &quot;markerColor&quot;: &quot;red&quot;,\n",
       "  &quot;iconColor&quot;: &quot;white&quot;,\n",
       "  &quot;icon&quot;: &quot;cutlery&quot;,\n",
       "  &quot;prefix&quot;: &quot;fa&quot;,\n",
       "  &quot;extraClasses&quot;: &quot;fa-rotate-0&quot;,\n",
       "}\n",
       "            );\n",
       "            marker_eb678f7c2c3603ed854602407cb4b734.setIcon(icon_4b4b78743ca05d4f6cecde19179af13f);\n",
       "        \n",
       "    \n",
       "        var popup_6cca5640694ccd2d328ef0dd6bf23cce = L.popup({\n",
       "  &quot;maxWidth&quot;: &quot;100%&quot;,\n",
       "});\n",
       "\n",
       "        \n",
       "            \n",
       "                var html_c640a3922c9c439cc98685f3ee68d560 = $(`&lt;div id=&quot;html_c640a3922c9c439cc98685f3ee68d560&quot; style=&quot;width: 100.0%; height: 100.0%;&quot;&gt;(&quot;&lt;b style=&#x27;font-size: 18px; &#x27;&gt;La Hamburguesita&lt;/b&gt;&lt;br&gt;Direccion: Calle Cienfuegos entre Apodaca y Gloria&quot;, &quot;Especialidades: [&#x27;Americana&#x27;]&quot;)&lt;/div&gt;`)[0];\n",
       "                popup_6cca5640694ccd2d328ef0dd6bf23cce.setContent(html_c640a3922c9c439cc98685f3ee68d560);\n",
       "            \n",
       "        \n",
       "\n",
       "        marker_eb678f7c2c3603ed854602407cb4b734.bindPopup(popup_6cca5640694ccd2d328ef0dd6bf23cce)\n",
       "        ;\n",
       "\n",
       "        \n",
       "    \n",
       "    \n",
       "            var marker_08774a3765045dd03b8c3bb89ff095fb = L.marker(\n",
       "                [23.13558286521522, -82.36431708633963],\n",
       "                {\n",
       "}\n",
       "            ).addTo(map_25b1f90f2fd0c40419c04f1962b5ebc6);\n",
       "        \n",
       "    \n",
       "            var icon_e8a18c87c74d2483dc9fd950ce7eaae2 = L.AwesomeMarkers.icon(\n",
       "                {\n",
       "  &quot;markerColor&quot;: &quot;red&quot;,\n",
       "  &quot;iconColor&quot;: &quot;white&quot;,\n",
       "  &quot;icon&quot;: &quot;cutlery&quot;,\n",
       "  &quot;prefix&quot;: &quot;fa&quot;,\n",
       "  &quot;extraClasses&quot;: &quot;fa-rotate-0&quot;,\n",
       "}\n",
       "            );\n",
       "            marker_08774a3765045dd03b8c3bb89ff095fb.setIcon(icon_e8a18c87c74d2483dc9fd950ce7eaae2);\n",
       "        \n",
       "    \n",
       "        var popup_27c7269482942a2290550c0a597d43f1 = L.popup({\n",
       "  &quot;maxWidth&quot;: &quot;100%&quot;,\n",
       "});\n",
       "\n",
       "        \n",
       "            \n",
       "                var html_74f0076e8f9c170317ec5cd8bfa5232a = $(`&lt;div id=&quot;html_74f0076e8f9c170317ec5cd8bfa5232a&quot; style=&quot;width: 100.0%; height: 100.0%;&quot;&gt;(&quot;&lt;b style=&#x27;font-size: 18px; &#x27;&gt;La Juliana&lt;/b&gt;&lt;br&gt;Direccion: 210 San Nicolas&quot;, &quot;Especialidades: [&#x27;Comida caribeña&#x27;, &#x27;latina&#x27;, &#x27;cubana&#x27;]&quot;)&lt;/div&gt;`)[0];\n",
       "                popup_27c7269482942a2290550c0a597d43f1.setContent(html_74f0076e8f9c170317ec5cd8bfa5232a);\n",
       "            \n",
       "        \n",
       "\n",
       "        marker_08774a3765045dd03b8c3bb89ff095fb.bindPopup(popup_27c7269482942a2290550c0a597d43f1)\n",
       "        ;\n",
       "\n",
       "        \n",
       "    \n",
       "    \n",
       "            var marker_317420fbac90324e9dd1f384a1cc9eb7 = L.marker(\n",
       "                [23.121609415980522, -82.38347632186809],\n",
       "                {\n",
       "}\n",
       "            ).addTo(map_25b1f90f2fd0c40419c04f1962b5ebc6);\n",
       "        \n",
       "    \n",
       "            var icon_c5679615b483235457acebdb648a4fa9 = L.AwesomeMarkers.icon(\n",
       "                {\n",
       "  &quot;markerColor&quot;: &quot;red&quot;,\n",
       "  &quot;iconColor&quot;: &quot;white&quot;,\n",
       "  &quot;icon&quot;: &quot;cutlery&quot;,\n",
       "  &quot;prefix&quot;: &quot;fa&quot;,\n",
       "  &quot;extraClasses&quot;: &quot;fa-rotate-0&quot;,\n",
       "}\n",
       "            );\n",
       "            marker_317420fbac90324e9dd1f384a1cc9eb7.setIcon(icon_c5679615b483235457acebdb648a4fa9);\n",
       "        \n",
       "    \n",
       "        var popup_97cb1872344c6e221c5bb6bab0c184f7 = L.popup({\n",
       "  &quot;maxWidth&quot;: &quot;100%&quot;,\n",
       "});\n",
       "\n",
       "        \n",
       "            \n",
       "                var html_190e466a9293bc1a0f3543b37a438422 = $(`&lt;div id=&quot;html_190e466a9293bc1a0f3543b37a438422&quot; style=&quot;width: 100.0%; height: 100.0%;&quot;&gt;(&quot;&lt;b style=&#x27;font-size: 18px; &#x27;&gt;La Lola&lt;/b&gt;&lt;br&gt;Direccion: Calle Ayestaran entre San Pablo y Pedro Perez&quot;, &quot;Especialidades: [&#x27;italiana&#x27;]&quot;)&lt;/div&gt;`)[0];\n",
       "                popup_97cb1872344c6e221c5bb6bab0c184f7.setContent(html_190e466a9293bc1a0f3543b37a438422);\n",
       "            \n",
       "        \n",
       "\n",
       "        marker_317420fbac90324e9dd1f384a1cc9eb7.bindPopup(popup_97cb1872344c6e221c5bb6bab0c184f7)\n",
       "        ;\n",
       "\n",
       "        \n",
       "    \n",
       "    \n",
       "            var marker_60e313c7fcafba8328b0b5c8b9dbad0c = L.marker(\n",
       "                [23.124444713197114, -82.3275978168261],\n",
       "                {\n",
       "}\n",
       "            ).addTo(map_25b1f90f2fd0c40419c04f1962b5ebc6);\n",
       "        \n",
       "    \n",
       "            var icon_ecde2229a5c47f74d7906d7e5d9573a4 = L.AwesomeMarkers.icon(\n",
       "                {\n",
       "  &quot;markerColor&quot;: &quot;red&quot;,\n",
       "  &quot;iconColor&quot;: &quot;white&quot;,\n",
       "  &quot;icon&quot;: &quot;cutlery&quot;,\n",
       "  &quot;prefix&quot;: &quot;fa&quot;,\n",
       "  &quot;extraClasses&quot;: &quot;fa-rotate-0&quot;,\n",
       "}\n",
       "            );\n",
       "            marker_60e313c7fcafba8328b0b5c8b9dbad0c.setIcon(icon_ecde2229a5c47f74d7906d7e5d9573a4);\n",
       "        \n",
       "    \n",
       "        var popup_7cef1470e8b2b5f035714679120f18c9 = L.popup({\n",
       "  &quot;maxWidth&quot;: &quot;100%&quot;,\n",
       "});\n",
       "\n",
       "        \n",
       "            \n",
       "                var html_49cbd5cfed825e4f5c70eeb51cea7a8c = $(`&lt;div id=&quot;html_49cbd5cfed825e4f5c70eeb51cea7a8c&quot; style=&quot;width: 100.0%; height: 100.0%;&quot;&gt;(&quot;&lt;b style=&#x27;font-size: 18px; &#x27;&gt;La Nueva Guitarreta&lt;/b&gt;&lt;br&gt;Direccion: Loredo y 24 de febrero&quot;, &quot;Especialidades: [&#x27;internacional&#x27;]&quot;)&lt;/div&gt;`)[0];\n",
       "                popup_7cef1470e8b2b5f035714679120f18c9.setContent(html_49cbd5cfed825e4f5c70eeb51cea7a8c);\n",
       "            \n",
       "        \n",
       "\n",
       "        marker_60e313c7fcafba8328b0b5c8b9dbad0c.bindPopup(popup_7cef1470e8b2b5f035714679120f18c9)\n",
       "        ;\n",
       "\n",
       "        \n",
       "    \n",
       "    \n",
       "            var marker_52c23b9af17e2964aee32160f5f2bd94 = L.marker(\n",
       "                [23.127100478844387, -82.39964090333302],\n",
       "                {\n",
       "}\n",
       "            ).addTo(map_25b1f90f2fd0c40419c04f1962b5ebc6);\n",
       "        \n",
       "    \n",
       "            var icon_0e2b786b51f20177ee4e7c9b8bfe6d47 = L.AwesomeMarkers.icon(\n",
       "                {\n",
       "  &quot;markerColor&quot;: &quot;red&quot;,\n",
       "  &quot;iconColor&quot;: &quot;white&quot;,\n",
       "  &quot;icon&quot;: &quot;cutlery&quot;,\n",
       "  &quot;prefix&quot;: &quot;fa&quot;,\n",
       "  &quot;extraClasses&quot;: &quot;fa-rotate-0&quot;,\n",
       "}\n",
       "            );\n",
       "            marker_52c23b9af17e2964aee32160f5f2bd94.setIcon(icon_0e2b786b51f20177ee4e7c9b8bfe6d47);\n",
       "        \n",
       "    \n",
       "        var popup_4856cbaecb0ded8b1217dfd78436f15d = L.popup({\n",
       "  &quot;maxWidth&quot;: &quot;100%&quot;,\n",
       "});\n",
       "\n",
       "        \n",
       "            \n",
       "                var html_54c5d15cf90a23bd76d8e5211ded851d = $(`&lt;div id=&quot;html_54c5d15cf90a23bd76d8e5211ded851d&quot; style=&quot;width: 100.0%; height: 100.0%;&quot;&gt;(&quot;&lt;b style=&#x27;font-size: 18px; &#x27;&gt;La Pelota&lt;/b&gt;&lt;br&gt;Direccion: Esquina 23 y 12, Vedado&quot;, &quot;Especialidades: [&#x27;criolla&#x27;, &#x27;cubana&#x27;]&quot;)&lt;/div&gt;`)[0];\n",
       "                popup_4856cbaecb0ded8b1217dfd78436f15d.setContent(html_54c5d15cf90a23bd76d8e5211ded851d);\n",
       "            \n",
       "        \n",
       "\n",
       "        marker_52c23b9af17e2964aee32160f5f2bd94.bindPopup(popup_4856cbaecb0ded8b1217dfd78436f15d)\n",
       "        ;\n",
       "\n",
       "        \n",
       "    \n",
       "    \n",
       "            var marker_42846c3a54d9037b611959690d2233cc = L.marker(\n",
       "                [23.105445368647896, -82.35839531190437],\n",
       "                {\n",
       "}\n",
       "            ).addTo(map_25b1f90f2fd0c40419c04f1962b5ebc6);\n",
       "        \n",
       "    \n",
       "            var icon_d5fd40750b040bac9531cb29f2ccfea5 = L.AwesomeMarkers.icon(\n",
       "                {\n",
       "  &quot;markerColor&quot;: &quot;red&quot;,\n",
       "  &quot;iconColor&quot;: &quot;white&quot;,\n",
       "  &quot;icon&quot;: &quot;cutlery&quot;,\n",
       "  &quot;prefix&quot;: &quot;fa&quot;,\n",
       "  &quot;extraClasses&quot;: &quot;fa-rotate-0&quot;,\n",
       "}\n",
       "            );\n",
       "            marker_42846c3a54d9037b611959690d2233cc.setIcon(icon_d5fd40750b040bac9531cb29f2ccfea5);\n",
       "        \n",
       "    \n",
       "        var popup_575a2098b306212a5d7f39c5cd529d67 = L.popup({\n",
       "  &quot;maxWidth&quot;: &quot;100%&quot;,\n",
       "});\n",
       "\n",
       "        \n",
       "            \n",
       "                var html_375876f78bb81617c2d71366bda03df7 = $(`&lt;div id=&quot;html_375876f78bb81617c2d71366bda03df7&quot; style=&quot;width: 100.0%; height: 100.0%;&quot;&gt;(&quot;&lt;b style=&#x27;font-size: 18px; &#x27;&gt;La Ronda&lt;/b&gt;&lt;br&gt;Direccion: Callé Guasabacoa esquina Calzada de Luyanó&quot;, &quot;Especialidades: [&#x27;mixta&#x27;]&quot;)&lt;/div&gt;`)[0];\n",
       "                popup_575a2098b306212a5d7f39c5cd529d67.setContent(html_375876f78bb81617c2d71366bda03df7);\n",
       "            \n",
       "        \n",
       "\n",
       "        marker_42846c3a54d9037b611959690d2233cc.bindPopup(popup_575a2098b306212a5d7f39c5cd529d67)\n",
       "        ;\n",
       "\n",
       "        \n",
       "    \n",
       "    \n",
       "            var marker_fd8f3ccc6fa9da8543ba8ba5a41aba12 = L.marker(\n",
       "                [23.090815898809876, -82.37152132357363],\n",
       "                {\n",
       "}\n",
       "            ).addTo(map_25b1f90f2fd0c40419c04f1962b5ebc6);\n",
       "        \n",
       "    \n",
       "            var icon_0e691b307403945e4b717243ae435dbc = L.AwesomeMarkers.icon(\n",
       "                {\n",
       "  &quot;markerColor&quot;: &quot;red&quot;,\n",
       "  &quot;iconColor&quot;: &quot;white&quot;,\n",
       "  &quot;icon&quot;: &quot;cutlery&quot;,\n",
       "  &quot;prefix&quot;: &quot;fa&quot;,\n",
       "  &quot;extraClasses&quot;: &quot;fa-rotate-0&quot;,\n",
       "}\n",
       "            );\n",
       "            marker_fd8f3ccc6fa9da8543ba8ba5a41aba12.setIcon(icon_0e691b307403945e4b717243ae435dbc);\n",
       "        \n",
       "    \n",
       "        var popup_ab88656000551632673d67aacc86da85 = L.popup({\n",
       "  &quot;maxWidth&quot;: &quot;100%&quot;,\n",
       "});\n",
       "\n",
       "        \n",
       "            \n",
       "                var html_534158bcc9b39d47f675affbe2ef414f = $(`&lt;div id=&quot;html_534158bcc9b39d47f675affbe2ef414f&quot; style=&quot;width: 100.0%; height: 100.0%;&quot;&gt;(&quot;&lt;b style=&#x27;font-size: 18px; &#x27;&gt;La Rosa De Ortega&lt;/b&gt;&lt;br&gt;Direccion: Patrocinio #252 esq. a Juan Bruno Zayas&quot;, &quot;Especialidades: [&#x27;cubana&#x27;, &#x27;criolla&#x27;, &#x27;internacional&#x27;, &#x27;italiana&#x27;]&quot;)&lt;/div&gt;`)[0];\n",
       "                popup_ab88656000551632673d67aacc86da85.setContent(html_534158bcc9b39d47f675affbe2ef414f);\n",
       "            \n",
       "        \n",
       "\n",
       "        marker_fd8f3ccc6fa9da8543ba8ba5a41aba12.bindPopup(popup_ab88656000551632673d67aacc86da85)\n",
       "        ;\n",
       "\n",
       "        \n",
       "    \n",
       "    \n",
       "            var marker_e670e0a3515b54eb805a91c13848efeb = L.marker(\n",
       "                [23.16729576315332, -82.29561634288147],\n",
       "                {\n",
       "}\n",
       "            ).addTo(map_25b1f90f2fd0c40419c04f1962b5ebc6);\n",
       "        \n",
       "    \n",
       "            var icon_8fb917202eb027729e125c132e197463 = L.AwesomeMarkers.icon(\n",
       "                {\n",
       "  &quot;markerColor&quot;: &quot;red&quot;,\n",
       "  &quot;iconColor&quot;: &quot;white&quot;,\n",
       "  &quot;icon&quot;: &quot;cutlery&quot;,\n",
       "  &quot;prefix&quot;: &quot;fa&quot;,\n",
       "  &quot;extraClasses&quot;: &quot;fa-rotate-0&quot;,\n",
       "}\n",
       "            );\n",
       "            marker_e670e0a3515b54eb805a91c13848efeb.setIcon(icon_8fb917202eb027729e125c132e197463);\n",
       "        \n",
       "    \n",
       "        var popup_fbed432913507dc4a8b8500255578d32 = L.popup({\n",
       "  &quot;maxWidth&quot;: &quot;100%&quot;,\n",
       "});\n",
       "\n",
       "        \n",
       "            \n",
       "                var html_e7dd214c35a38c96d79c267e1a75a917 = $(`&lt;div id=&quot;html_e7dd214c35a38c96d79c267e1a75a917&quot; style=&quot;width: 100.0%; height: 100.0%;&quot;&gt;(&quot;&lt;b style=&#x27;font-size: 18px; &#x27;&gt;La ruta de Hemingway&lt;/b&gt;&lt;br&gt;Direccion: Calle Real entre Victoria y Marcos, Cojimar&quot;, &#x27;Especialidades: []&#x27;)&lt;/div&gt;`)[0];\n",
       "                popup_fbed432913507dc4a8b8500255578d32.setContent(html_e7dd214c35a38c96d79c267e1a75a917);\n",
       "            \n",
       "        \n",
       "\n",
       "        marker_e670e0a3515b54eb805a91c13848efeb.bindPopup(popup_fbed432913507dc4a8b8500255578d32)\n",
       "        ;\n",
       "\n",
       "        \n",
       "    \n",
       "    \n",
       "            var marker_d03cc16924aedc4b5420602528e976c1 = L.marker(\n",
       "                [23.139151699462953, -82.35008075935141],\n",
       "                {\n",
       "}\n",
       "            ).addTo(map_25b1f90f2fd0c40419c04f1962b5ebc6);\n",
       "        \n",
       "    \n",
       "            var icon_d960912b0afaba108fdcff78925aa52c = L.AwesomeMarkers.icon(\n",
       "                {\n",
       "  &quot;markerColor&quot;: &quot;red&quot;,\n",
       "  &quot;iconColor&quot;: &quot;white&quot;,\n",
       "  &quot;icon&quot;: &quot;cutlery&quot;,\n",
       "  &quot;prefix&quot;: &quot;fa&quot;,\n",
       "  &quot;extraClasses&quot;: &quot;fa-rotate-0&quot;,\n",
       "}\n",
       "            );\n",
       "            marker_d03cc16924aedc4b5420602528e976c1.setIcon(icon_d960912b0afaba108fdcff78925aa52c);\n",
       "        \n",
       "    \n",
       "        var popup_654cba7d26ee6f5f6854a9e4e5ac82cf = L.popup({\n",
       "  &quot;maxWidth&quot;: &quot;100%&quot;,\n",
       "});\n",
       "\n",
       "        \n",
       "            \n",
       "                var html_e56f7d25565d8711561e658ba580f343 = $(`&lt;div id=&quot;html_e56f7d25565d8711561e658ba580f343&quot; style=&quot;width: 100.0%; height: 100.0%;&quot;&gt;(&quot;&lt;b style=&#x27;font-size: 18px; &#x27;&gt;La Torre De Marfil&lt;/b&gt;&lt;br&gt;Direccion: Calle Mercaderes entre Obispo y Obrapia&quot;, &quot;Especialidades: [&#x27;China&#x27;, &#x27;Caribeña&#x27;, &#x27;Mediterránea&#x27;, &#x27;Cubana&#x27;]&quot;)&lt;/div&gt;`)[0];\n",
       "                popup_654cba7d26ee6f5f6854a9e4e5ac82cf.setContent(html_e56f7d25565d8711561e658ba580f343);\n",
       "            \n",
       "        \n",
       "\n",
       "        marker_d03cc16924aedc4b5420602528e976c1.bindPopup(popup_654cba7d26ee6f5f6854a9e4e5ac82cf)\n",
       "        ;\n",
       "\n",
       "        \n",
       "    \n",
       "    \n",
       "            var marker_f769e94a9d6bccb2da14aeac622f127a = L.marker(\n",
       "                [23.13552900516459, -82.3502524323634],\n",
       "                {\n",
       "}\n",
       "            ).addTo(map_25b1f90f2fd0c40419c04f1962b5ebc6);\n",
       "        \n",
       "    \n",
       "            var icon_46993b67c0f5b5f306e073afab6fe769 = L.AwesomeMarkers.icon(\n",
       "                {\n",
       "  &quot;markerColor&quot;: &quot;red&quot;,\n",
       "  &quot;iconColor&quot;: &quot;white&quot;,\n",
       "  &quot;icon&quot;: &quot;cutlery&quot;,\n",
       "  &quot;prefix&quot;: &quot;fa&quot;,\n",
       "  &quot;extraClasses&quot;: &quot;fa-rotate-0&quot;,\n",
       "}\n",
       "            );\n",
       "            marker_f769e94a9d6bccb2da14aeac622f127a.setIcon(icon_46993b67c0f5b5f306e073afab6fe769);\n",
       "        \n",
       "    \n",
       "        var popup_a07185cb43ed0a7fad6b2b3f7226697e = L.popup({\n",
       "  &quot;maxWidth&quot;: &quot;100%&quot;,\n",
       "});\n",
       "\n",
       "        \n",
       "            \n",
       "                var html_4667075c28d3eadfa531d5cf8105e1b1 = $(`&lt;div id=&quot;html_4667075c28d3eadfa531d5cf8105e1b1&quot; style=&quot;width: 100.0%; height: 100.0%;&quot;&gt;(&quot;&lt;b style=&#x27;font-size: 18px; &#x27;&gt;La Vitrola&lt;/b&gt;&lt;br&gt;Direccion: Plaza Vieja entre Muralla y San Ignacio&quot;, &quot;Especialidades: [&#x27;Comida mixta&#x27;]&quot;)&lt;/div&gt;`)[0];\n",
       "                popup_a07185cb43ed0a7fad6b2b3f7226697e.setContent(html_4667075c28d3eadfa531d5cf8105e1b1);\n",
       "            \n",
       "        \n",
       "\n",
       "        marker_f769e94a9d6bccb2da14aeac622f127a.bindPopup(popup_a07185cb43ed0a7fad6b2b3f7226697e)\n",
       "        ;\n",
       "\n",
       "        \n",
       "    \n",
       "    \n",
       "            var marker_2d3d41e7b3005bb1a5213796ed507c48 = L.marker(\n",
       "                [23.081201100821605, -82.4216785238977],\n",
       "                {\n",
       "}\n",
       "            ).addTo(map_25b1f90f2fd0c40419c04f1962b5ebc6);\n",
       "        \n",
       "    \n",
       "            var icon_f1039cd8a25cb1cda7fcbdc38dc67af3 = L.AwesomeMarkers.icon(\n",
       "                {\n",
       "  &quot;markerColor&quot;: &quot;red&quot;,\n",
       "  &quot;iconColor&quot;: &quot;white&quot;,\n",
       "  &quot;icon&quot;: &quot;cutlery&quot;,\n",
       "  &quot;prefix&quot;: &quot;fa&quot;,\n",
       "  &quot;extraClasses&quot;: &quot;fa-rotate-0&quot;,\n",
       "}\n",
       "            );\n",
       "            marker_2d3d41e7b3005bb1a5213796ed507c48.setIcon(icon_f1039cd8a25cb1cda7fcbdc38dc67af3);\n",
       "        \n",
       "    \n",
       "        var popup_b83c93743ac58b864a3cfc9c56095e49 = L.popup({\n",
       "  &quot;maxWidth&quot;: &quot;100%&quot;,\n",
       "});\n",
       "\n",
       "        \n",
       "            \n",
       "                var html_426dccb32f22dd69548fc0d9f4d8edd9 = $(`&lt;div id=&quot;html_426dccb32f22dd69548fc0d9f4d8edd9&quot; style=&quot;width: 100.0%; height: 100.0%;&quot;&gt;(&quot;&lt;b style=&#x27;font-size: 18px; &#x27;&gt;La Yuya&lt;/b&gt;&lt;br&gt;Direccion: 100 Y 51&quot;, &quot;Especialidades: [&#x27;mixta&#x27;]&quot;)&lt;/div&gt;`)[0];\n",
       "                popup_b83c93743ac58b864a3cfc9c56095e49.setContent(html_426dccb32f22dd69548fc0d9f4d8edd9);\n",
       "            \n",
       "        \n",
       "\n",
       "        marker_2d3d41e7b3005bb1a5213796ed507c48.bindPopup(popup_b83c93743ac58b864a3cfc9c56095e49)\n",
       "        ;\n",
       "\n",
       "        \n",
       "    \n",
       "    \n",
       "            var marker_5c4be82f8ca410a2e9a06b8e570cb80b = L.marker(\n",
       "                [23.119269806423606, -82.3720336019368],\n",
       "                {\n",
       "}\n",
       "            ).addTo(map_25b1f90f2fd0c40419c04f1962b5ebc6);\n",
       "        \n",
       "    \n",
       "            var icon_54c1b9d24119502ca2526ca882b62845 = L.AwesomeMarkers.icon(\n",
       "                {\n",
       "  &quot;markerColor&quot;: &quot;red&quot;,\n",
       "  &quot;iconColor&quot;: &quot;white&quot;,\n",
       "  &quot;icon&quot;: &quot;cutlery&quot;,\n",
       "  &quot;prefix&quot;: &quot;fa&quot;,\n",
       "  &quot;extraClasses&quot;: &quot;fa-rotate-0&quot;,\n",
       "}\n",
       "            );\n",
       "            marker_5c4be82f8ca410a2e9a06b8e570cb80b.setIcon(icon_54c1b9d24119502ca2526ca882b62845);\n",
       "        \n",
       "    \n",
       "        var popup_112b83feb037bac3ed89e19957aa58e6 = L.popup({\n",
       "  &quot;maxWidth&quot;: &quot;100%&quot;,\n",
       "});\n",
       "\n",
       "        \n",
       "            \n",
       "                var html_960892eebb0ff7f64ad0248143de03dc = $(`&lt;div id=&quot;html_960892eebb0ff7f64ad0248143de03dc&quot; style=&quot;width: 100.0%; height: 100.0%;&quot;&gt;(&quot;&lt;b style=&#x27;font-size: 18px; &#x27;&gt;Leyendhabana&lt;/b&gt;&lt;br&gt;Direccion: Calle Santa Rosa No. 217 e/ Infanta y Cruz del Padre&quot;, &quot;Especialidades: [&#x27;Comida Caribena&#x27;]&quot;)&lt;/div&gt;`)[0];\n",
       "                popup_112b83feb037bac3ed89e19957aa58e6.setContent(html_960892eebb0ff7f64ad0248143de03dc);\n",
       "            \n",
       "        \n",
       "\n",
       "        marker_5c4be82f8ca410a2e9a06b8e570cb80b.bindPopup(popup_112b83feb037bac3ed89e19957aa58e6)\n",
       "        ;\n",
       "\n",
       "        \n",
       "    \n",
       "    \n",
       "            var marker_e107bf77d710ca239f674ad5d111d6ed = L.marker(\n",
       "                [23.070410939396403, -82.45756089679794],\n",
       "                {\n",
       "}\n",
       "            ).addTo(map_25b1f90f2fd0c40419c04f1962b5ebc6);\n",
       "        \n",
       "    \n",
       "            var icon_648870a27c718506079d30c224d95bf8 = L.AwesomeMarkers.icon(\n",
       "                {\n",
       "  &quot;markerColor&quot;: &quot;red&quot;,\n",
       "  &quot;iconColor&quot;: &quot;white&quot;,\n",
       "  &quot;icon&quot;: &quot;cutlery&quot;,\n",
       "  &quot;prefix&quot;: &quot;fa&quot;,\n",
       "  &quot;extraClasses&quot;: &quot;fa-rotate-0&quot;,\n",
       "}\n",
       "            );\n",
       "            marker_e107bf77d710ca239f674ad5d111d6ed.setIcon(icon_648870a27c718506079d30c224d95bf8);\n",
       "        \n",
       "    \n",
       "        var popup_2bac61751c3083522c9c6aacc48a3933 = L.popup({\n",
       "  &quot;maxWidth&quot;: &quot;100%&quot;,\n",
       "});\n",
       "\n",
       "        \n",
       "            \n",
       "                var html_5877abac9f9adc909191e14a0ef3207e = $(`&lt;div id=&quot;html_5877abac9f9adc909191e14a0ef3207e&quot; style=&quot;width: 100.0%; height: 100.0%;&quot;&gt;(&quot;&lt;b style=&#x27;font-size: 18px; &#x27;&gt;LKG&lt;/b&gt;&lt;br&gt;Direccion: Desconocida&quot;, &quot;Especialidades: [&#x27;caribeña&#x27;]&quot;)&lt;/div&gt;`)[0];\n",
       "                popup_2bac61751c3083522c9c6aacc48a3933.setContent(html_5877abac9f9adc909191e14a0ef3207e);\n",
       "            \n",
       "        \n",
       "\n",
       "        marker_e107bf77d710ca239f674ad5d111d6ed.bindPopup(popup_2bac61751c3083522c9c6aacc48a3933)\n",
       "        ;\n",
       "\n",
       "        \n",
       "    \n",
       "    \n",
       "            var marker_4a61a6444afabb3d73a57438eb76db47 = L.marker(\n",
       "                [23.062581992389248, -82.36383374585894],\n",
       "                {\n",
       "}\n",
       "            ).addTo(map_25b1f90f2fd0c40419c04f1962b5ebc6);\n",
       "        \n",
       "    \n",
       "            var icon_47232640827ee110f6b0e0c4da1f1077 = L.AwesomeMarkers.icon(\n",
       "                {\n",
       "  &quot;markerColor&quot;: &quot;red&quot;,\n",
       "  &quot;iconColor&quot;: &quot;white&quot;,\n",
       "  &quot;icon&quot;: &quot;cutlery&quot;,\n",
       "  &quot;prefix&quot;: &quot;fa&quot;,\n",
       "  &quot;extraClasses&quot;: &quot;fa-rotate-0&quot;,\n",
       "}\n",
       "            );\n",
       "            marker_4a61a6444afabb3d73a57438eb76db47.setIcon(icon_47232640827ee110f6b0e0c4da1f1077);\n",
       "        \n",
       "    \n",
       "        var popup_8fdcb35ede5aa8b3edfeb3bb6b2cf801 = L.popup({\n",
       "  &quot;maxWidth&quot;: &quot;100%&quot;,\n",
       "});\n",
       "\n",
       "        \n",
       "            \n",
       "                var html_f9b41f2bb8907aa7a8e82c9025ff24a4 = $(`&lt;div id=&quot;html_f9b41f2bb8907aa7a8e82c9025ff24a4&quot; style=&quot;width: 100.0%; height: 100.0%;&quot;&gt;(&quot;&lt;b style=&#x27;font-size: 18px; &#x27;&gt;Los Atrevidos&lt;/b&gt;&lt;br&gt;Direccion: Calzada de Bejucal # 2639 e/ Estrella y Camilo Sierra&quot;, &quot;Especialidades: [&#x27;Italiana&#x27;]&quot;)&lt;/div&gt;`)[0];\n",
       "                popup_8fdcb35ede5aa8b3edfeb3bb6b2cf801.setContent(html_f9b41f2bb8907aa7a8e82c9025ff24a4);\n",
       "            \n",
       "        \n",
       "\n",
       "        marker_4a61a6444afabb3d73a57438eb76db47.bindPopup(popup_8fdcb35ede5aa8b3edfeb3bb6b2cf801)\n",
       "        ;\n",
       "\n",
       "        \n",
       "    \n",
       "    \n",
       "            var marker_0b2951d7eb467b9559bc8c012457fb58 = L.marker(\n",
       "                [23.055831349044627, -82.33552695732365],\n",
       "                {\n",
       "}\n",
       "            ).addTo(map_25b1f90f2fd0c40419c04f1962b5ebc6);\n",
       "        \n",
       "    \n",
       "            var icon_23b593f9cc74d0d909f3e84429aa279d = L.AwesomeMarkers.icon(\n",
       "                {\n",
       "  &quot;markerColor&quot;: &quot;red&quot;,\n",
       "  &quot;iconColor&quot;: &quot;white&quot;,\n",
       "  &quot;icon&quot;: &quot;cutlery&quot;,\n",
       "  &quot;prefix&quot;: &quot;fa&quot;,\n",
       "  &quot;extraClasses&quot;: &quot;fa-rotate-0&quot;,\n",
       "}\n",
       "            );\n",
       "            marker_0b2951d7eb467b9559bc8c012457fb58.setIcon(icon_23b593f9cc74d0d909f3e84429aa279d);\n",
       "        \n",
       "    \n",
       "        var popup_f86d4b690358874a412b761a2d87c9c7 = L.popup({\n",
       "  &quot;maxWidth&quot;: &quot;100%&quot;,\n",
       "});\n",
       "\n",
       "        \n",
       "            \n",
       "                var html_13b74ba42adefdc35543afa0d4f1360b = $(`&lt;div id=&quot;html_13b74ba42adefdc35543afa0d4f1360b&quot; style=&quot;width: 100.0%; height: 100.0%;&quot;&gt;(&quot;&lt;b style=&#x27;font-size: 18px; &#x27;&gt;Los caneyes&lt;/b&gt;&lt;br&gt;Direccion: Calle Martí y Gutierrez, Reparto Electrico&quot;, &quot;Especialidades: [&#x27;cubana&#x27;]&quot;)&lt;/div&gt;`)[0];\n",
       "                popup_f86d4b690358874a412b761a2d87c9c7.setContent(html_13b74ba42adefdc35543afa0d4f1360b);\n",
       "            \n",
       "        \n",
       "\n",
       "        marker_0b2951d7eb467b9559bc8c012457fb58.bindPopup(popup_f86d4b690358874a412b761a2d87c9c7)\n",
       "        ;\n",
       "\n",
       "        \n",
       "    \n",
       "    \n",
       "            var marker_eba3ada5ca69afdb918effe5815d9856 = L.marker(\n",
       "                [23.134728671881838, -82.35835687654],\n",
       "                {\n",
       "}\n",
       "            ).addTo(map_25b1f90f2fd0c40419c04f1962b5ebc6);\n",
       "        \n",
       "    \n",
       "            var icon_12d6f9ef6b60548fc83a7c409f250291 = L.AwesomeMarkers.icon(\n",
       "                {\n",
       "  &quot;markerColor&quot;: &quot;red&quot;,\n",
       "  &quot;iconColor&quot;: &quot;white&quot;,\n",
       "  &quot;icon&quot;: &quot;cutlery&quot;,\n",
       "  &quot;prefix&quot;: &quot;fa&quot;,\n",
       "  &quot;extraClasses&quot;: &quot;fa-rotate-0&quot;,\n",
       "}\n",
       "            );\n",
       "            marker_eba3ada5ca69afdb918effe5815d9856.setIcon(icon_12d6f9ef6b60548fc83a7c409f250291);\n",
       "        \n",
       "    \n",
       "        var popup_ffffff3ada952c2414833a30f307ae72 = L.popup({\n",
       "  &quot;maxWidth&quot;: &quot;100%&quot;,\n",
       "});\n",
       "\n",
       "        \n",
       "            \n",
       "                var html_9baf3851cd6a9411da26b52d09269bb5 = $(`&lt;div id=&quot;html_9baf3851cd6a9411da26b52d09269bb5&quot; style=&quot;width: 100.0%; height: 100.0%;&quot;&gt;(&quot;&lt;b style=&#x27;font-size: 18px; &#x27;&gt;Los Nardos&lt;/b&gt;&lt;br&gt;Direccion: Paseo de Marti, frente al Capitolio&quot;, &quot;Especialidades: [&#x27;Comida mixta&#x27;]&quot;)&lt;/div&gt;`)[0];\n",
       "                popup_ffffff3ada952c2414833a30f307ae72.setContent(html_9baf3851cd6a9411da26b52d09269bb5);\n",
       "            \n",
       "        \n",
       "\n",
       "        marker_eba3ada5ca69afdb918effe5815d9856.bindPopup(popup_ffffff3ada952c2414833a30f307ae72)\n",
       "        ;\n",
       "\n",
       "        \n",
       "    \n",
       "    \n",
       "            var marker_408a7559ef9f388bdd551c2cf553d5c1 = L.marker(\n",
       "                [23.084081730757468, -82.43599343396534],\n",
       "                {\n",
       "}\n",
       "            ).addTo(map_25b1f90f2fd0c40419c04f1962b5ebc6);\n",
       "        \n",
       "    \n",
       "            var icon_3212ca2acd08b546c6701376a0e6bca9 = L.AwesomeMarkers.icon(\n",
       "                {\n",
       "  &quot;markerColor&quot;: &quot;red&quot;,\n",
       "  &quot;iconColor&quot;: &quot;white&quot;,\n",
       "  &quot;icon&quot;: &quot;cutlery&quot;,\n",
       "  &quot;prefix&quot;: &quot;fa&quot;,\n",
       "  &quot;extraClasses&quot;: &quot;fa-rotate-0&quot;,\n",
       "}\n",
       "            );\n",
       "            marker_408a7559ef9f388bdd551c2cf553d5c1.setIcon(icon_3212ca2acd08b546c6701376a0e6bca9);\n",
       "        \n",
       "    \n",
       "        var popup_5f6c0056864246c321ef219438e35683 = L.popup({\n",
       "  &quot;maxWidth&quot;: &quot;100%&quot;,\n",
       "});\n",
       "\n",
       "        \n",
       "            \n",
       "                var html_ae1da1ff7c492bc7a866e6921e5f5825 = $(`&lt;div id=&quot;html_ae1da1ff7c492bc7a866e6921e5f5825&quot; style=&quot;width: 100.0%; height: 100.0%;&quot;&gt;(&quot;&lt;b style=&#x27;font-size: 18px; &#x27;&gt;Los taticos&lt;/b&gt;&lt;br&gt;Direccion: 27 y 27A&quot;, &quot;Especialidades: [&#x27;mixta&#x27;]&quot;)&lt;/div&gt;`)[0];\n",
       "                popup_5f6c0056864246c321ef219438e35683.setContent(html_ae1da1ff7c492bc7a866e6921e5f5825);\n",
       "            \n",
       "        \n",
       "\n",
       "        marker_408a7559ef9f388bdd551c2cf553d5c1.bindPopup(popup_5f6c0056864246c321ef219438e35683)\n",
       "        ;\n",
       "\n",
       "        \n",
       "    \n",
       "    \n",
       "            var marker_0b00438d0bc39f2b05d3305c86377db1 = L.marker(\n",
       "                [23.141345644414816, -82.3553965539762],\n",
       "                {\n",
       "}\n",
       "            ).addTo(map_25b1f90f2fd0c40419c04f1962b5ebc6);\n",
       "        \n",
       "    \n",
       "            var icon_77e20ca5561a570add62395732f280f8 = L.AwesomeMarkers.icon(\n",
       "                {\n",
       "  &quot;markerColor&quot;: &quot;red&quot;,\n",
       "  &quot;iconColor&quot;: &quot;white&quot;,\n",
       "  &quot;icon&quot;: &quot;cutlery&quot;,\n",
       "  &quot;prefix&quot;: &quot;fa&quot;,\n",
       "  &quot;extraClasses&quot;: &quot;fa-rotate-0&quot;,\n",
       "}\n",
       "            );\n",
       "            marker_0b00438d0bc39f2b05d3305c86377db1.setIcon(icon_77e20ca5561a570add62395732f280f8);\n",
       "        \n",
       "    \n",
       "        var popup_c041ffa91bcae3a918c853ce6a9c42f9 = L.popup({\n",
       "  &quot;maxWidth&quot;: &quot;100%&quot;,\n",
       "});\n",
       "\n",
       "        \n",
       "            \n",
       "                var html_d2b8decca149ce08a7bcfb6f1a996534 = $(`&lt;div id=&quot;html_d2b8decca149ce08a7bcfb6f1a996534&quot; style=&quot;width: 100.0%; height: 100.0%;&quot;&gt;(&quot;&lt;b style=&#x27;font-size: 18px; &#x27;&gt;Lo de Monik&lt;/b&gt;&lt;br&gt;Direccion: &quot;, &quot;Especialidades: [&#x27;Internacional&#x27;, &#x27;cubana&#x27;]&quot;)&lt;/div&gt;`)[0];\n",
       "                popup_c041ffa91bcae3a918c853ce6a9c42f9.setContent(html_d2b8decca149ce08a7bcfb6f1a996534);\n",
       "            \n",
       "        \n",
       "\n",
       "        marker_0b00438d0bc39f2b05d3305c86377db1.bindPopup(popup_c041ffa91bcae3a918c853ce6a9c42f9)\n",
       "        ;\n",
       "\n",
       "        \n",
       "    \n",
       "    \n",
       "            var marker_084cb13aa17be8dbda6bc305b80bef36 = L.marker(\n",
       "                [23.093303995429743, -82.36446379545066],\n",
       "                {\n",
       "}\n",
       "            ).addTo(map_25b1f90f2fd0c40419c04f1962b5ebc6);\n",
       "        \n",
       "    \n",
       "            var icon_d2c770fd73e98cf116242ca2335fe8d6 = L.AwesomeMarkers.icon(\n",
       "                {\n",
       "  &quot;markerColor&quot;: &quot;red&quot;,\n",
       "  &quot;iconColor&quot;: &quot;white&quot;,\n",
       "  &quot;icon&quot;: &quot;cutlery&quot;,\n",
       "  &quot;prefix&quot;: &quot;fa&quot;,\n",
       "  &quot;extraClasses&quot;: &quot;fa-rotate-0&quot;,\n",
       "}\n",
       "            );\n",
       "            marker_084cb13aa17be8dbda6bc305b80bef36.setIcon(icon_d2c770fd73e98cf116242ca2335fe8d6);\n",
       "        \n",
       "    \n",
       "        var popup_b4ef43eb7f8f19ad75a698e0ff5a18ba = L.popup({\n",
       "  &quot;maxWidth&quot;: &quot;100%&quot;,\n",
       "});\n",
       "\n",
       "        \n",
       "            \n",
       "                var html_2b24554906ffbd8093d3186b1138a21c = $(`&lt;div id=&quot;html_2b24554906ffbd8093d3186b1138a21c&quot; style=&quot;width: 100.0%; height: 100.0%;&quot;&gt;(&quot;&lt;b style=&#x27;font-size: 18px; &#x27;&gt;Luly Hamburguesas&lt;/b&gt;&lt;br&gt;Direccion: Calzada de Santa Catalina entre Calzada de Diez de Octubre y Parraga, Víbora&quot;, &quot;Especialidades: [&#x27;americana&#x27;]&quot;)&lt;/div&gt;`)[0];\n",
       "                popup_b4ef43eb7f8f19ad75a698e0ff5a18ba.setContent(html_2b24554906ffbd8093d3186b1138a21c);\n",
       "            \n",
       "        \n",
       "\n",
       "        marker_084cb13aa17be8dbda6bc305b80bef36.bindPopup(popup_b4ef43eb7f8f19ad75a698e0ff5a18ba)\n",
       "        ;\n",
       "\n",
       "        \n",
       "    \n",
       "    \n",
       "            var marker_e101bcf34f552c9de05f70875ec3da19 = L.marker(\n",
       "                [23.079340661045265, -82.36204303051731],\n",
       "                {\n",
       "}\n",
       "            ).addTo(map_25b1f90f2fd0c40419c04f1962b5ebc6);\n",
       "        \n",
       "    \n",
       "            var icon_00264b0f285700f328d3aa3eda5c9d02 = L.AwesomeMarkers.icon(\n",
       "                {\n",
       "  &quot;markerColor&quot;: &quot;red&quot;,\n",
       "  &quot;iconColor&quot;: &quot;white&quot;,\n",
       "  &quot;icon&quot;: &quot;cutlery&quot;,\n",
       "  &quot;prefix&quot;: &quot;fa&quot;,\n",
       "  &quot;extraClasses&quot;: &quot;fa-rotate-0&quot;,\n",
       "}\n",
       "            );\n",
       "            marker_e101bcf34f552c9de05f70875ec3da19.setIcon(icon_00264b0f285700f328d3aa3eda5c9d02);\n",
       "        \n",
       "    \n",
       "        var popup_a91b9a70684661d17851ca193299988b = L.popup({\n",
       "  &quot;maxWidth&quot;: &quot;100%&quot;,\n",
       "});\n",
       "\n",
       "        \n",
       "            \n",
       "                var html_ad02b000046e50cafd75b39f9ab71b91 = $(`&lt;div id=&quot;html_ad02b000046e50cafd75b39f9ab71b91&quot; style=&quot;width: 100.0%; height: 100.0%;&quot;&gt;(&quot;&lt;b style=&#x27;font-size: 18px; &#x27;&gt;Magic&#x27;s Cream &amp; Burguer&lt;/b&gt;&lt;br&gt;Direccion: Calzada de 10 de Octubre, % Santa Amalia y Arnao&quot;, &quot;Especialidades: [&#x27;comida rapida&#x27;]&quot;)&lt;/div&gt;`)[0];\n",
       "                popup_a91b9a70684661d17851ca193299988b.setContent(html_ad02b000046e50cafd75b39f9ab71b91);\n",
       "            \n",
       "        \n",
       "\n",
       "        marker_e101bcf34f552c9de05f70875ec3da19.bindPopup(popup_a91b9a70684661d17851ca193299988b)\n",
       "        ;\n",
       "\n",
       "        \n",
       "    \n",
       "    \n",
       "            var marker_ff61383f3af1b351c735ad3a579511e2 = L.marker(\n",
       "                [23.113806624432474, -82.43952352231993],\n",
       "                {\n",
       "}\n",
       "            ).addTo(map_25b1f90f2fd0c40419c04f1962b5ebc6);\n",
       "        \n",
       "    \n",
       "            var icon_60753c77ad9fbb8de324f865358e22b7 = L.AwesomeMarkers.icon(\n",
       "                {\n",
       "  &quot;markerColor&quot;: &quot;red&quot;,\n",
       "  &quot;iconColor&quot;: &quot;white&quot;,\n",
       "  &quot;icon&quot;: &quot;cutlery&quot;,\n",
       "  &quot;prefix&quot;: &quot;fa&quot;,\n",
       "  &quot;extraClasses&quot;: &quot;fa-rotate-0&quot;,\n",
       "}\n",
       "            );\n",
       "            marker_ff61383f3af1b351c735ad3a579511e2.setIcon(icon_60753c77ad9fbb8de324f865358e22b7);\n",
       "        \n",
       "    \n",
       "        var popup_25821f468309ed19eece55b139778173 = L.popup({\n",
       "  &quot;maxWidth&quot;: &quot;100%&quot;,\n",
       "});\n",
       "\n",
       "        \n",
       "            \n",
       "                var html_56caa46ee484ead0fec23446d2ee0334 = $(`&lt;div id=&quot;html_56caa46ee484ead0fec23446d2ee0334&quot; style=&quot;width: 100.0%; height: 100.0%;&quot;&gt;(&quot;&lt;b style=&#x27;font-size: 18px; &#x27;&gt;Marina&lt;/b&gt;&lt;br&gt;Direccion: 1ra Avenida entre calle 70 y 68&quot;, &quot;Especialidades: [&#x27;cubana&#x27;, &#x27;internacional&#x27;]&quot;)&lt;/div&gt;`)[0];\n",
       "                popup_25821f468309ed19eece55b139778173.setContent(html_56caa46ee484ead0fec23446d2ee0334);\n",
       "            \n",
       "        \n",
       "\n",
       "        marker_ff61383f3af1b351c735ad3a579511e2.bindPopup(popup_25821f468309ed19eece55b139778173)\n",
       "        ;\n",
       "\n",
       "        \n",
       "    \n",
       "    \n",
       "            var marker_7558b1cce8b4b9b548486c69aada11a6 = L.marker(\n",
       "                [23.04788673152548, -82.26844826765596],\n",
       "                {\n",
       "}\n",
       "            ).addTo(map_25b1f90f2fd0c40419c04f1962b5ebc6);\n",
       "        \n",
       "    \n",
       "            var icon_6f807e78752badd483590aeae120eeff = L.AwesomeMarkers.icon(\n",
       "                {\n",
       "  &quot;markerColor&quot;: &quot;red&quot;,\n",
       "  &quot;iconColor&quot;: &quot;white&quot;,\n",
       "  &quot;icon&quot;: &quot;cutlery&quot;,\n",
       "  &quot;prefix&quot;: &quot;fa&quot;,\n",
       "  &quot;extraClasses&quot;: &quot;fa-rotate-0&quot;,\n",
       "}\n",
       "            );\n",
       "            marker_7558b1cce8b4b9b548486c69aada11a6.setIcon(icon_6f807e78752badd483590aeae120eeff);\n",
       "        \n",
       "    \n",
       "        var popup_d26bd8d484c4a95480789bbae5bf7d48 = L.popup({\n",
       "  &quot;maxWidth&quot;: &quot;100%&quot;,\n",
       "});\n",
       "\n",
       "        \n",
       "            \n",
       "                var html_f3aeb53b76eba3c6b351e98778dccbd6 = $(`&lt;div id=&quot;html_f3aeb53b76eba3c6b351e98778dccbd6&quot; style=&quot;width: 100.0%; height: 100.0%;&quot;&gt;(&quot;&lt;b style=&#x27;font-size: 18px; &#x27;&gt;Martínez Club&lt;/b&gt;&lt;br&gt;Direccion: En la otra cuadra de la funeraria del cotorro&quot;, &quot;Especialidades: [&#x27;Italiana&#x27;]&quot;)&lt;/div&gt;`)[0];\n",
       "                popup_d26bd8d484c4a95480789bbae5bf7d48.setContent(html_f3aeb53b76eba3c6b351e98778dccbd6);\n",
       "            \n",
       "        \n",
       "\n",
       "        marker_7558b1cce8b4b9b548486c69aada11a6.bindPopup(popup_d26bd8d484c4a95480789bbae5bf7d48)\n",
       "        ;\n",
       "\n",
       "        \n",
       "    \n",
       "    \n",
       "            var marker_9fd9e42af67f18ded5cd3dec5cdc2fcf = L.marker(\n",
       "                [23.142254422422297, -82.39922933157261],\n",
       "                {\n",
       "}\n",
       "            ).addTo(map_25b1f90f2fd0c40419c04f1962b5ebc6);\n",
       "        \n",
       "    \n",
       "            var icon_e1175d1661b51fd06893c083449e3009 = L.AwesomeMarkers.icon(\n",
       "                {\n",
       "  &quot;markerColor&quot;: &quot;red&quot;,\n",
       "  &quot;iconColor&quot;: &quot;white&quot;,\n",
       "  &quot;icon&quot;: &quot;cutlery&quot;,\n",
       "  &quot;prefix&quot;: &quot;fa&quot;,\n",
       "  &quot;extraClasses&quot;: &quot;fa-rotate-0&quot;,\n",
       "}\n",
       "            );\n",
       "            marker_9fd9e42af67f18ded5cd3dec5cdc2fcf.setIcon(icon_e1175d1661b51fd06893c083449e3009);\n",
       "        \n",
       "    \n",
       "        var popup_95e839cfc1ce8f92e06bc3b0e0bc6460 = L.popup({\n",
       "  &quot;maxWidth&quot;: &quot;100%&quot;,\n",
       "});\n",
       "\n",
       "        \n",
       "            \n",
       "                var html_6b965d5b252efeb663350d753b966e19 = $(`&lt;div id=&quot;html_6b965d5b252efeb663350d753b966e19&quot; style=&quot;width: 100.0%; height: 100.0%;&quot;&gt;(&quot;&lt;b style=&#x27;font-size: 18px; &#x27;&gt;Mar adentro&lt;/b&gt;&lt;br&gt;Direccion: &quot;, &quot;Especialidades: [&#x27;Comida Mediterranea&#x27;, &#x27;fusion&#x27;, &#x27;cubana&#x27;]&quot;)&lt;/div&gt;`)[0];\n",
       "                popup_95e839cfc1ce8f92e06bc3b0e0bc6460.setContent(html_6b965d5b252efeb663350d753b966e19);\n",
       "            \n",
       "        \n",
       "\n",
       "        marker_9fd9e42af67f18ded5cd3dec5cdc2fcf.bindPopup(popup_95e839cfc1ce8f92e06bc3b0e0bc6460)\n",
       "        ;\n",
       "\n",
       "        \n",
       "    \n",
       "    \n",
       "            var marker_968f17f7b528abfa312c31699e9f0b97 = L.marker(\n",
       "                [23.051960561329945, -82.2757870610061],\n",
       "                {\n",
       "}\n",
       "            ).addTo(map_25b1f90f2fd0c40419c04f1962b5ebc6);\n",
       "        \n",
       "    \n",
       "            var icon_da2ccb6b280e626d2f21e497385b17ed = L.AwesomeMarkers.icon(\n",
       "                {\n",
       "  &quot;markerColor&quot;: &quot;red&quot;,\n",
       "  &quot;iconColor&quot;: &quot;white&quot;,\n",
       "  &quot;icon&quot;: &quot;cutlery&quot;,\n",
       "  &quot;prefix&quot;: &quot;fa&quot;,\n",
       "  &quot;extraClasses&quot;: &quot;fa-rotate-0&quot;,\n",
       "}\n",
       "            );\n",
       "            marker_968f17f7b528abfa312c31699e9f0b97.setIcon(icon_da2ccb6b280e626d2f21e497385b17ed);\n",
       "        \n",
       "    \n",
       "        var popup_9434ff82da98af040d62dead44f801f7 = L.popup({\n",
       "  &quot;maxWidth&quot;: &quot;100%&quot;,\n",
       "});\n",
       "\n",
       "        \n",
       "            \n",
       "                var html_7a75d8a505a9700f0340b7e233041e25 = $(`&lt;div id=&quot;html_7a75d8a505a9700f0340b7e233041e25&quot; style=&quot;width: 100.0%; height: 100.0%;&quot;&gt;(&quot;&lt;b style=&#x27;font-size: 18px; &#x27;&gt;Mc.Cesar&lt;/b&gt;&lt;br&gt;Direccion: calle primer entre 220 y 221&quot;, &quot;Especialidades: [&#x27;cubana&#x27;]&quot;)&lt;/div&gt;`)[0];\n",
       "                popup_9434ff82da98af040d62dead44f801f7.setContent(html_7a75d8a505a9700f0340b7e233041e25);\n",
       "            \n",
       "        \n",
       "\n",
       "        marker_968f17f7b528abfa312c31699e9f0b97.bindPopup(popup_9434ff82da98af040d62dead44f801f7)\n",
       "        ;\n",
       "\n",
       "        \n",
       "    \n",
       "    \n",
       "            var marker_cf014751b2253090fa491af6e381a34d = L.marker(\n",
       "                [23.097475154324474, -82.3758757186763],\n",
       "                {\n",
       "}\n",
       "            ).addTo(map_25b1f90f2fd0c40419c04f1962b5ebc6);\n",
       "        \n",
       "    \n",
       "            var icon_410c96a85873ef11c404017a10d5b560 = L.AwesomeMarkers.icon(\n",
       "                {\n",
       "  &quot;markerColor&quot;: &quot;red&quot;,\n",
       "  &quot;iconColor&quot;: &quot;white&quot;,\n",
       "  &quot;icon&quot;: &quot;cutlery&quot;,\n",
       "  &quot;prefix&quot;: &quot;fa&quot;,\n",
       "  &quot;extraClasses&quot;: &quot;fa-rotate-0&quot;,\n",
       "}\n",
       "            );\n",
       "            marker_cf014751b2253090fa491af6e381a34d.setIcon(icon_410c96a85873ef11c404017a10d5b560);\n",
       "        \n",
       "    \n",
       "        var popup_7310f49c2ab2cc2439c26eb2dd884a81 = L.popup({\n",
       "  &quot;maxWidth&quot;: &quot;100%&quot;,\n",
       "});\n",
       "\n",
       "        \n",
       "            \n",
       "                var html_d95600780a92d34f2a4fcbf7cb99a867 = $(`&lt;div id=&quot;html_d95600780a92d34f2a4fcbf7cb99a867&quot; style=&quot;width: 100.0%; height: 100.0%;&quot;&gt;(&quot;&lt;b style=&#x27;font-size: 18px; &#x27;&gt;Melao&#x27;s&lt;/b&gt;&lt;br&gt;Direccion: Goicuría 229 e/ Milagros y Libertad. Santo Suárez&quot;, &#x27;Especialidades: []&#x27;)&lt;/div&gt;`)[0];\n",
       "                popup_7310f49c2ab2cc2439c26eb2dd884a81.setContent(html_d95600780a92d34f2a4fcbf7cb99a867);\n",
       "            \n",
       "        \n",
       "\n",
       "        marker_cf014751b2253090fa491af6e381a34d.bindPopup(popup_7310f49c2ab2cc2439c26eb2dd884a81)\n",
       "        ;\n",
       "\n",
       "        \n",
       "    \n",
       "    \n",
       "            var marker_cf39a81ce9bdbf0d45cb25b769bada8e = L.marker(\n",
       "                [23.13356833336648, -82.3680681381318],\n",
       "                {\n",
       "}\n",
       "            ).addTo(map_25b1f90f2fd0c40419c04f1962b5ebc6);\n",
       "        \n",
       "    \n",
       "            var icon_572f110abb4fb0766c6dc16849ced608 = L.AwesomeMarkers.icon(\n",
       "                {\n",
       "  &quot;markerColor&quot;: &quot;red&quot;,\n",
       "  &quot;iconColor&quot;: &quot;white&quot;,\n",
       "  &quot;icon&quot;: &quot;cutlery&quot;,\n",
       "  &quot;prefix&quot;: &quot;fa&quot;,\n",
       "  &quot;extraClasses&quot;: &quot;fa-rotate-0&quot;,\n",
       "}\n",
       "            );\n",
       "            marker_cf39a81ce9bdbf0d45cb25b769bada8e.setIcon(icon_572f110abb4fb0766c6dc16849ced608);\n",
       "        \n",
       "    \n",
       "        var popup_004230da2fd8a5e9d00b517c469bef02 = L.popup({\n",
       "  &quot;maxWidth&quot;: &quot;100%&quot;,\n",
       "});\n",
       "\n",
       "        \n",
       "            \n",
       "                var html_21202b16ec19d9eb901d5f952dfef237 = $(`&lt;div id=&quot;html_21202b16ec19d9eb901d5f952dfef237&quot; style=&quot;width: 100.0%; height: 100.0%;&quot;&gt;(&quot;&lt;b style=&#x27;font-size: 18px; &#x27;&gt;Mimosa&lt;/b&gt;&lt;br&gt;Direccion: Salud entre C.Cerrada del Paseo y Escobar&quot;, &quot;Especialidades: [&#x27;internacional&#x27;, &#x27;Italiana&#x27;, &#x27;Cubana&#x27;]&quot;)&lt;/div&gt;`)[0];\n",
       "                popup_004230da2fd8a5e9d00b517c469bef02.setContent(html_21202b16ec19d9eb901d5f952dfef237);\n",
       "            \n",
       "        \n",
       "\n",
       "        marker_cf39a81ce9bdbf0d45cb25b769bada8e.bindPopup(popup_004230da2fd8a5e9d00b517c469bef02)\n",
       "        ;\n",
       "\n",
       "        \n",
       "    \n",
       "    \n",
       "            var marker_9f38ff106e0e4a8ed3997ecafe84e6b6 = L.marker(\n",
       "                [23.14556061167238, -82.35844252514089],\n",
       "                {\n",
       "}\n",
       "            ).addTo(map_25b1f90f2fd0c40419c04f1962b5ebc6);\n",
       "        \n",
       "    \n",
       "            var icon_04e0aba9bfcd68a2dc5b8e3318ccab39 = L.AwesomeMarkers.icon(\n",
       "                {\n",
       "  &quot;markerColor&quot;: &quot;red&quot;,\n",
       "  &quot;iconColor&quot;: &quot;white&quot;,\n",
       "  &quot;icon&quot;: &quot;cutlery&quot;,\n",
       "  &quot;prefix&quot;: &quot;fa&quot;,\n",
       "  &quot;extraClasses&quot;: &quot;fa-rotate-0&quot;,\n",
       "}\n",
       "            );\n",
       "            marker_9f38ff106e0e4a8ed3997ecafe84e6b6.setIcon(icon_04e0aba9bfcd68a2dc5b8e3318ccab39);\n",
       "        \n",
       "    \n",
       "        var popup_aadd9f1adf97e944db529f5f76f86368 = L.popup({\n",
       "  &quot;maxWidth&quot;: &quot;100%&quot;,\n",
       "});\n",
       "\n",
       "        \n",
       "            \n",
       "                var html_8323a82986507dbbc164d4167635216e = $(`&lt;div id=&quot;html_8323a82986507dbbc164d4167635216e&quot; style=&quot;width: 100.0%; height: 100.0%;&quot;&gt;(&quot;&lt;b style=&#x27;font-size: 18px; &#x27;&gt;Mini Bar (Hotel Royalton Paseo Del Prado)&lt;/b&gt;&lt;br&gt;Direccion: Prado y Malecón&quot;, &quot;Especialidades: [&#x27;bar&#x27;]&quot;)&lt;/div&gt;`)[0];\n",
       "                popup_aadd9f1adf97e944db529f5f76f86368.setContent(html_8323a82986507dbbc164d4167635216e);\n",
       "            \n",
       "        \n",
       "\n",
       "        marker_9f38ff106e0e4a8ed3997ecafe84e6b6.bindPopup(popup_aadd9f1adf97e944db529f5f76f86368)\n",
       "        ;\n",
       "\n",
       "        \n",
       "    \n",
       "    \n",
       "            var marker_dfd8e247a506f23ba7be865d9548b1ed = L.marker(\n",
       "                [23.08902142289598, -82.36049771816977],\n",
       "                {\n",
       "}\n",
       "            ).addTo(map_25b1f90f2fd0c40419c04f1962b5ebc6);\n",
       "        \n",
       "    \n",
       "            var icon_c29f6472178e193f6fafb61380f812f2 = L.AwesomeMarkers.icon(\n",
       "                {\n",
       "  &quot;markerColor&quot;: &quot;red&quot;,\n",
       "  &quot;iconColor&quot;: &quot;white&quot;,\n",
       "  &quot;icon&quot;: &quot;cutlery&quot;,\n",
       "  &quot;prefix&quot;: &quot;fa&quot;,\n",
       "  &quot;extraClasses&quot;: &quot;fa-rotate-0&quot;,\n",
       "}\n",
       "            );\n",
       "            marker_dfd8e247a506f23ba7be865d9548b1ed.setIcon(icon_c29f6472178e193f6fafb61380f812f2);\n",
       "        \n",
       "    \n",
       "        var popup_cdcc868f98770b09bd3c2bcba49a49bd = L.popup({\n",
       "  &quot;maxWidth&quot;: &quot;100%&quot;,\n",
       "});\n",
       "\n",
       "        \n",
       "            \n",
       "                var html_93f81dbfe9b07091e511c1cb27c4265b = $(`&lt;div id=&quot;html_93f81dbfe9b07091e511c1cb27c4265b&quot; style=&quot;width: 100.0%; height: 100.0%;&quot;&gt;(&quot;&lt;b style=&#x27;font-size: 18px; &#x27;&gt;Mirador de Acosta&lt;/b&gt;&lt;br&gt;Direccion: Esquina Vista Alegre Este y Avenida Acosta&quot;, &quot;Especialidades: [&#x27;latina&#x27;, &#x27;criolla&#x27;]&quot;)&lt;/div&gt;`)[0];\n",
       "                popup_cdcc868f98770b09bd3c2bcba49a49bd.setContent(html_93f81dbfe9b07091e511c1cb27c4265b);\n",
       "            \n",
       "        \n",
       "\n",
       "        marker_dfd8e247a506f23ba7be865d9548b1ed.bindPopup(popup_cdcc868f98770b09bd3c2bcba49a49bd)\n",
       "        ;\n",
       "\n",
       "        \n",
       "    \n",
       "    \n",
       "            var marker_7e62837936b56c464259456a4aa4ea71 = L.marker(\n",
       "                [23.044193754619403, -82.2662082394822],\n",
       "                {\n",
       "}\n",
       "            ).addTo(map_25b1f90f2fd0c40419c04f1962b5ebc6);\n",
       "        \n",
       "    \n",
       "            var icon_2d4aec851a7a0b3ca2ea2ef75ed3331e = L.AwesomeMarkers.icon(\n",
       "                {\n",
       "  &quot;markerColor&quot;: &quot;red&quot;,\n",
       "  &quot;iconColor&quot;: &quot;white&quot;,\n",
       "  &quot;icon&quot;: &quot;cutlery&quot;,\n",
       "  &quot;prefix&quot;: &quot;fa&quot;,\n",
       "  &quot;extraClasses&quot;: &quot;fa-rotate-0&quot;,\n",
       "}\n",
       "            );\n",
       "            marker_7e62837936b56c464259456a4aa4ea71.setIcon(icon_2d4aec851a7a0b3ca2ea2ef75ed3331e);\n",
       "        \n",
       "    \n",
       "        var popup_4e47d6d6dd28b5ce4240ed258c3a550c = L.popup({\n",
       "  &quot;maxWidth&quot;: &quot;100%&quot;,\n",
       "});\n",
       "\n",
       "        \n",
       "            \n",
       "                var html_6e7a2c50675c04e362b11e176022cc39 = $(`&lt;div id=&quot;html_6e7a2c50675c04e362b11e176022cc39&quot; style=&quot;width: 100.0%; height: 100.0%;&quot;&gt;(&quot;&lt;b style=&#x27;font-size: 18px; &#x27;&gt;Mi terraza&lt;/b&gt;&lt;br&gt;Direccion: Calle 71 % 24 y 26, Las Brisas&quot;, &quot;Especialidades: [&#x27;Italiana&#x27;]&quot;)&lt;/div&gt;`)[0];\n",
       "                popup_4e47d6d6dd28b5ce4240ed258c3a550c.setContent(html_6e7a2c50675c04e362b11e176022cc39);\n",
       "            \n",
       "        \n",
       "\n",
       "        marker_7e62837936b56c464259456a4aa4ea71.bindPopup(popup_4e47d6d6dd28b5ce4240ed258c3a550c)\n",
       "        ;\n",
       "\n",
       "        \n",
       "    \n",
       "    \n",
       "            var marker_89f4847399b19c210f5140af491e2890 = L.marker(\n",
       "                [23.089659137079668, -82.4212900861762],\n",
       "                {\n",
       "}\n",
       "            ).addTo(map_25b1f90f2fd0c40419c04f1962b5ebc6);\n",
       "        \n",
       "    \n",
       "            var icon_09d1f43e9e141ad8fea28aee330e6de3 = L.AwesomeMarkers.icon(\n",
       "                {\n",
       "  &quot;markerColor&quot;: &quot;red&quot;,\n",
       "  &quot;iconColor&quot;: &quot;white&quot;,\n",
       "  &quot;icon&quot;: &quot;cutlery&quot;,\n",
       "  &quot;prefix&quot;: &quot;fa&quot;,\n",
       "  &quot;extraClasses&quot;: &quot;fa-rotate-0&quot;,\n",
       "}\n",
       "            );\n",
       "            marker_89f4847399b19c210f5140af491e2890.setIcon(icon_09d1f43e9e141ad8fea28aee330e6de3);\n",
       "        \n",
       "    \n",
       "        var popup_eae8d7dd1107c914f3d867d4fddb473a = L.popup({\n",
       "  &quot;maxWidth&quot;: &quot;100%&quot;,\n",
       "});\n",
       "\n",
       "        \n",
       "            \n",
       "                var html_3b60fb12214f3cc8905ef439ecfedb60 = $(`&lt;div id=&quot;html_3b60fb12214f3cc8905ef439ecfedb60&quot; style=&quot;width: 100.0%; height: 100.0%;&quot;&gt;(&quot;&lt;b style=&#x27;font-size: 18px; &#x27;&gt;MM-Cafeteria&lt;/b&gt;&lt;br&gt;Direccion: Avenida 41 entre 82 y 84&quot;, &quot;Especialidades: [&#x27;cubana&#x27;, &#x27;italiana&#x27;]&quot;)&lt;/div&gt;`)[0];\n",
       "                popup_eae8d7dd1107c914f3d867d4fddb473a.setContent(html_3b60fb12214f3cc8905ef439ecfedb60);\n",
       "            \n",
       "        \n",
       "\n",
       "        marker_89f4847399b19c210f5140af491e2890.bindPopup(popup_eae8d7dd1107c914f3d867d4fddb473a)\n",
       "        ;\n",
       "\n",
       "        \n",
       "    \n",
       "    \n",
       "            var marker_b65b024e7f90d6396a0a4fa5086f7359 = L.marker(\n",
       "                [23.113313570547763, -82.43955638650688],\n",
       "                {\n",
       "}\n",
       "            ).addTo(map_25b1f90f2fd0c40419c04f1962b5ebc6);\n",
       "        \n",
       "    \n",
       "            var icon_21e2142746473deab123b9a12e21469f = L.AwesomeMarkers.icon(\n",
       "                {\n",
       "  &quot;markerColor&quot;: &quot;red&quot;,\n",
       "  &quot;iconColor&quot;: &quot;white&quot;,\n",
       "  &quot;icon&quot;: &quot;cutlery&quot;,\n",
       "  &quot;prefix&quot;: &quot;fa&quot;,\n",
       "  &quot;extraClasses&quot;: &quot;fa-rotate-0&quot;,\n",
       "}\n",
       "            );\n",
       "            marker_b65b024e7f90d6396a0a4fa5086f7359.setIcon(icon_21e2142746473deab123b9a12e21469f);\n",
       "        \n",
       "    \n",
       "        var popup_3cf4972d8a682c5f0da06e98b8d50fab = L.popup({\n",
       "  &quot;maxWidth&quot;: &quot;100%&quot;,\n",
       "});\n",
       "\n",
       "        \n",
       "            \n",
       "                var html_ee4a5d6ba0172c6d429bbfbb8b4e5d59 = $(`&lt;div id=&quot;html_ee4a5d6ba0172c6d429bbfbb8b4e5d59&quot; style=&quot;width: 100.0%; height: 100.0%;&quot;&gt;(&quot;&lt;b style=&#x27;font-size: 18px; &#x27;&gt;Muelle 70&lt;/b&gt;&lt;br&gt;Direccion: 1ra Avenida entre calle 70 y 68&quot;, &quot;Especialidades: [&#x27;cubana&#x27;, &#x27;internacional&#x27;, &#x27;italiana&#x27;, &#x27;criolla&#x27;]&quot;)&lt;/div&gt;`)[0];\n",
       "                popup_3cf4972d8a682c5f0da06e98b8d50fab.setContent(html_ee4a5d6ba0172c6d429bbfbb8b4e5d59);\n",
       "            \n",
       "        \n",
       "\n",
       "        marker_b65b024e7f90d6396a0a4fa5086f7359.bindPopup(popup_3cf4972d8a682c5f0da06e98b8d50fab)\n",
       "        ;\n",
       "\n",
       "        \n",
       "    \n",
       "    \n",
       "            var marker_0d5bf66a84d0106d44c34e8fdf698c0e = L.marker(\n",
       "                [23.138030572262426, -82.36420227071567],\n",
       "                {\n",
       "}\n",
       "            ).addTo(map_25b1f90f2fd0c40419c04f1962b5ebc6);\n",
       "        \n",
       "    \n",
       "            var icon_1968582a1de04a34280de3fe737f0ec2 = L.AwesomeMarkers.icon(\n",
       "                {\n",
       "  &quot;markerColor&quot;: &quot;red&quot;,\n",
       "  &quot;iconColor&quot;: &quot;white&quot;,\n",
       "  &quot;icon&quot;: &quot;cutlery&quot;,\n",
       "  &quot;prefix&quot;: &quot;fa&quot;,\n",
       "  &quot;extraClasses&quot;: &quot;fa-rotate-0&quot;,\n",
       "}\n",
       "            );\n",
       "            marker_0d5bf66a84d0106d44c34e8fdf698c0e.setIcon(icon_1968582a1de04a34280de3fe737f0ec2);\n",
       "        \n",
       "    \n",
       "        var popup_b26c5cdf79a83f9912305081e75f414d = L.popup({\n",
       "  &quot;maxWidth&quot;: &quot;100%&quot;,\n",
       "});\n",
       "\n",
       "        \n",
       "            \n",
       "                var html_866cc698e405bc26e27f85858d6ba454 = $(`&lt;div id=&quot;html_866cc698e405bc26e27f85858d6ba454&quot; style=&quot;width: 100.0%; height: 100.0%;&quot;&gt;(&quot;&lt;b style=&#x27;font-size: 18px; &#x27;&gt;Mundo Pizza&lt;/b&gt;&lt;br&gt;Direccion: C. San Nicolás 309 entre Neptuno y San Miguel&quot;, &quot;Especialidades: [&#x27;Internacional&#x27;, &#x27;Pizzas&#x27;]&quot;)&lt;/div&gt;`)[0];\n",
       "                popup_b26c5cdf79a83f9912305081e75f414d.setContent(html_866cc698e405bc26e27f85858d6ba454);\n",
       "            \n",
       "        \n",
       "\n",
       "        marker_0d5bf66a84d0106d44c34e8fdf698c0e.bindPopup(popup_b26c5cdf79a83f9912305081e75f414d)\n",
       "        ;\n",
       "\n",
       "        \n",
       "    \n",
       "    \n",
       "            var marker_a7b33463620c85849d1d75dcfad5e996 = L.marker(\n",
       "                [23.140346357851502, -82.35253591702202],\n",
       "                {\n",
       "}\n",
       "            ).addTo(map_25b1f90f2fd0c40419c04f1962b5ebc6);\n",
       "        \n",
       "    \n",
       "            var icon_16e5e7f21b642d9aedfe4225e115e9d4 = L.AwesomeMarkers.icon(\n",
       "                {\n",
       "  &quot;markerColor&quot;: &quot;red&quot;,\n",
       "  &quot;iconColor&quot;: &quot;white&quot;,\n",
       "  &quot;icon&quot;: &quot;cutlery&quot;,\n",
       "  &quot;prefix&quot;: &quot;fa&quot;,\n",
       "  &quot;extraClasses&quot;: &quot;fa-rotate-0&quot;,\n",
       "}\n",
       "            );\n",
       "            marker_a7b33463620c85849d1d75dcfad5e996.setIcon(icon_16e5e7f21b642d9aedfe4225e115e9d4);\n",
       "        \n",
       "    \n",
       "        var popup_fb8a5d531b607f894080b01b842d0521 = L.popup({\n",
       "  &quot;maxWidth&quot;: &quot;100%&quot;,\n",
       "});\n",
       "\n",
       "        \n",
       "            \n",
       "                var html_9fab6476e151b37ebec52c8fa93cd6da = $(`&lt;div id=&quot;html_9fab6476e151b37ebec52c8fa93cd6da&quot; style=&quot;width: 100.0%; height: 100.0%;&quot;&gt;(&quot;&lt;b style=&#x27;font-size: 18px; &#x27;&gt;Mythos&lt;/b&gt;&lt;br&gt;Direccion: Calle Cuba No. 211 entre Empedrado y O&#x27;Reilly&quot;, &quot;Especialidades: [&#x27;Griega&#x27;]&quot;)&lt;/div&gt;`)[0];\n",
       "                popup_fb8a5d531b607f894080b01b842d0521.setContent(html_9fab6476e151b37ebec52c8fa93cd6da);\n",
       "            \n",
       "        \n",
       "\n",
       "        marker_a7b33463620c85849d1d75dcfad5e996.bindPopup(popup_fb8a5d531b607f894080b01b842d0521)\n",
       "        ;\n",
       "\n",
       "        \n",
       "    \n",
       "    \n",
       "            var marker_8cd120bacdd2b27d41334d87f53ad024 = L.marker(\n",
       "                [22.9752725188445, -82.38492436527059],\n",
       "                {\n",
       "}\n",
       "            ).addTo(map_25b1f90f2fd0c40419c04f1962b5ebc6);\n",
       "        \n",
       "    \n",
       "            var icon_70b814995f0153ad43ef633b4cd05ca5 = L.AwesomeMarkers.icon(\n",
       "                {\n",
       "  &quot;markerColor&quot;: &quot;red&quot;,\n",
       "  &quot;iconColor&quot;: &quot;white&quot;,\n",
       "  &quot;icon&quot;: &quot;cutlery&quot;,\n",
       "  &quot;prefix&quot;: &quot;fa&quot;,\n",
       "  &quot;extraClasses&quot;: &quot;fa-rotate-0&quot;,\n",
       "}\n",
       "            );\n",
       "            marker_8cd120bacdd2b27d41334d87f53ad024.setIcon(icon_70b814995f0153ad43ef633b4cd05ca5);\n",
       "        \n",
       "    \n",
       "        var popup_bc2bbeb9e53d907fe429ff65cfbf742f = L.popup({\n",
       "  &quot;maxWidth&quot;: &quot;100%&quot;,\n",
       "});\n",
       "\n",
       "        \n",
       "            \n",
       "                var html_57764a6edfade122957fb895d61b50dc = $(`&lt;div id=&quot;html_57764a6edfade122957fb895d61b50dc&quot; style=&quot;width: 100.0%; height: 100.0%;&quot;&gt;(&quot;&lt;b style=&#x27;font-size: 18px; &#x27;&gt;Nameless&lt;/b&gt;&lt;br&gt;Direccion: Avenida Rancho Boyeros % 407A &amp; 409, Santiago de las Vegas&quot;, &quot;Especialidades: [&#x27;italiana&#x27;, &#x27;criolla&#x27;, &#x27;cubana&#x27;]&quot;)&lt;/div&gt;`)[0];\n",
       "                popup_bc2bbeb9e53d907fe429ff65cfbf742f.setContent(html_57764a6edfade122957fb895d61b50dc);\n",
       "            \n",
       "        \n",
       "\n",
       "        marker_8cd120bacdd2b27d41334d87f53ad024.bindPopup(popup_bc2bbeb9e53d907fe429ff65cfbf742f)\n",
       "        ;\n",
       "\n",
       "        \n",
       "    \n",
       "    \n",
       "            var marker_592e8afed7b614847a52d7fa963ff7ac = L.marker(\n",
       "                [23.089238381444375, -82.35993723032014],\n",
       "                {\n",
       "}\n",
       "            ).addTo(map_25b1f90f2fd0c40419c04f1962b5ebc6);\n",
       "        \n",
       "    \n",
       "            var icon_476b2d172f10f5ac069bf8ab554b900a = L.AwesomeMarkers.icon(\n",
       "                {\n",
       "  &quot;markerColor&quot;: &quot;red&quot;,\n",
       "  &quot;iconColor&quot;: &quot;white&quot;,\n",
       "  &quot;icon&quot;: &quot;cutlery&quot;,\n",
       "  &quot;prefix&quot;: &quot;fa&quot;,\n",
       "  &quot;extraClasses&quot;: &quot;fa-rotate-0&quot;,\n",
       "}\n",
       "            );\n",
       "            marker_592e8afed7b614847a52d7fa963ff7ac.setIcon(icon_476b2d172f10f5ac069bf8ab554b900a);\n",
       "        \n",
       "    \n",
       "        var popup_e49bb859191f55e628691d2de458033b = L.popup({\n",
       "  &quot;maxWidth&quot;: &quot;100%&quot;,\n",
       "});\n",
       "\n",
       "        \n",
       "            \n",
       "                var html_039e73299b6119500e866b844721a87b = $(`&lt;div id=&quot;html_039e73299b6119500e866b844721a87b&quot; style=&quot;width: 100.0%; height: 100.0%;&quot;&gt;(&quot;&lt;b style=&#x27;font-size: 18px; &#x27;&gt;Nel Paradiso&lt;/b&gt;&lt;br&gt;Direccion: Acosta #303 esquina Armas &quot;, &quot;Especialidades: [&#x27;Comida cubana&#x27;, &#x27;criolla&#x27;, &#x27;internacional&#x27;, &#x27;mariscos&#x27;]&quot;)&lt;/div&gt;`)[0];\n",
       "                popup_e49bb859191f55e628691d2de458033b.setContent(html_039e73299b6119500e866b844721a87b);\n",
       "            \n",
       "        \n",
       "\n",
       "        marker_592e8afed7b614847a52d7fa963ff7ac.bindPopup(popup_e49bb859191f55e628691d2de458033b)\n",
       "        ;\n",
       "\n",
       "        \n",
       "    \n",
       "    \n",
       "            var marker_31ee642be5deac83ccf035f6016ca571 = L.marker(\n",
       "                [23.043747220202967, -82.25328637835823],\n",
       "                {\n",
       "}\n",
       "            ).addTo(map_25b1f90f2fd0c40419c04f1962b5ebc6);\n",
       "        \n",
       "    \n",
       "            var icon_ee10e9ec56dc9cb25ef8d1a0d1867696 = L.AwesomeMarkers.icon(\n",
       "                {\n",
       "  &quot;markerColor&quot;: &quot;red&quot;,\n",
       "  &quot;iconColor&quot;: &quot;white&quot;,\n",
       "  &quot;icon&quot;: &quot;cutlery&quot;,\n",
       "  &quot;prefix&quot;: &quot;fa&quot;,\n",
       "  &quot;extraClasses&quot;: &quot;fa-rotate-0&quot;,\n",
       "}\n",
       "            );\n",
       "            marker_31ee642be5deac83ccf035f6016ca571.setIcon(icon_ee10e9ec56dc9cb25ef8d1a0d1867696);\n",
       "        \n",
       "    \n",
       "        var popup_ea8ce21f65838f77e8091f3272e0aff7 = L.popup({\n",
       "  &quot;maxWidth&quot;: &quot;100%&quot;,\n",
       "});\n",
       "\n",
       "        \n",
       "            \n",
       "                var html_d8fb60ed6fb4c4032816cbee1a57f463 = $(`&lt;div id=&quot;html_d8fb60ed6fb4c4032816cbee1a57f463&quot; style=&quot;width: 100.0%; height: 100.0%;&quot;&gt;(&quot;&lt;b style=&#x27;font-size: 18px; &#x27;&gt;Ole Ole&lt;/b&gt;&lt;br&gt;Direccion: 71 esquina 46 y 48, Loteria&quot;, &quot;Especialidades: [&#x27;Cubana&#x27;, &#x27;Italiana&#x27;, &#x27;Criolla&#x27;, &#x27;internacional&#x27;]&quot;)&lt;/div&gt;`)[0];\n",
       "                popup_ea8ce21f65838f77e8091f3272e0aff7.setContent(html_d8fb60ed6fb4c4032816cbee1a57f463);\n",
       "            \n",
       "        \n",
       "\n",
       "        marker_31ee642be5deac83ccf035f6016ca571.bindPopup(popup_ea8ce21f65838f77e8091f3272e0aff7)\n",
       "        ;\n",
       "\n",
       "        \n",
       "    \n",
       "    \n",
       "            var marker_72f68de32a01f7674173795d648a22bd = L.marker(\n",
       "                [23.066165087925306, -82.45070559198918],\n",
       "                {\n",
       "}\n",
       "            ).addTo(map_25b1f90f2fd0c40419c04f1962b5ebc6);\n",
       "        \n",
       "    \n",
       "            var icon_716177652ce1cb83dc8eca95ab9b2d19 = L.AwesomeMarkers.icon(\n",
       "                {\n",
       "  &quot;markerColor&quot;: &quot;red&quot;,\n",
       "  &quot;iconColor&quot;: &quot;white&quot;,\n",
       "  &quot;icon&quot;: &quot;cutlery&quot;,\n",
       "  &quot;prefix&quot;: &quot;fa&quot;,\n",
       "  &quot;extraClasses&quot;: &quot;fa-rotate-0&quot;,\n",
       "}\n",
       "            );\n",
       "            marker_72f68de32a01f7674173795d648a22bd.setIcon(icon_716177652ce1cb83dc8eca95ab9b2d19);\n",
       "        \n",
       "    \n",
       "        var popup_c066425a3ad42a5cba5fb9f3272c061b = L.popup({\n",
       "  &quot;maxWidth&quot;: &quot;100%&quot;,\n",
       "});\n",
       "\n",
       "        \n",
       "            \n",
       "                var html_c953481905ed4563136f65bcc2371409 = $(`&lt;div id=&quot;html_c953481905ed4563136f65bcc2371409&quot; style=&quot;width: 100.0%; height: 100.0%;&quot;&gt;(&quot;&lt;b style=&#x27;font-size: 18px; &#x27;&gt;Pacomeralgo&lt;/b&gt;&lt;br&gt;Direccion: Desconocida&quot;, &quot;Especialidades: [&#x27;italiana&#x27;]&quot;)&lt;/div&gt;`)[0];\n",
       "                popup_c066425a3ad42a5cba5fb9f3272c061b.setContent(html_c953481905ed4563136f65bcc2371409);\n",
       "            \n",
       "        \n",
       "\n",
       "        marker_72f68de32a01f7674173795d648a22bd.bindPopup(popup_c066425a3ad42a5cba5fb9f3272c061b)\n",
       "        ;\n",
       "\n",
       "        \n",
       "    \n",
       "    \n",
       "            var marker_db8aaa20833eec387ee05f032f93d307 = L.marker(\n",
       "                [23.045754014037833, -82.27038368811118],\n",
       "                {\n",
       "}\n",
       "            ).addTo(map_25b1f90f2fd0c40419c04f1962b5ebc6);\n",
       "        \n",
       "    \n",
       "            var icon_1009c7901a6aba3d169666f82490eb96 = L.AwesomeMarkers.icon(\n",
       "                {\n",
       "  &quot;markerColor&quot;: &quot;red&quot;,\n",
       "  &quot;iconColor&quot;: &quot;white&quot;,\n",
       "  &quot;icon&quot;: &quot;cutlery&quot;,\n",
       "  &quot;prefix&quot;: &quot;fa&quot;,\n",
       "  &quot;extraClasses&quot;: &quot;fa-rotate-0&quot;,\n",
       "}\n",
       "            );\n",
       "            marker_db8aaa20833eec387ee05f032f93d307.setIcon(icon_1009c7901a6aba3d169666f82490eb96);\n",
       "        \n",
       "    \n",
       "        var popup_73d652225556b768ea54afbd74ac1b85 = L.popup({\n",
       "  &quot;maxWidth&quot;: &quot;100%&quot;,\n",
       "});\n",
       "\n",
       "        \n",
       "            \n",
       "                var html_37b1d97dbe4a2defb117809dddc60153 = $(`&lt;div id=&quot;html_37b1d97dbe4a2defb117809dddc60153&quot; style=&quot;width: 100.0%; height: 100.0%;&quot;&gt;(&quot;&lt;b style=&#x27;font-size: 18px; &#x27;&gt;Pal&#x27;Karajo&lt;/b&gt;&lt;br&gt;Direccion: Avenida 101 Esquina 16 Centro&quot;, &quot;Especialidades: [&#x27;sandwich&#x27;]&quot;)&lt;/div&gt;`)[0];\n",
       "                popup_73d652225556b768ea54afbd74ac1b85.setContent(html_37b1d97dbe4a2defb117809dddc60153);\n",
       "            \n",
       "        \n",
       "\n",
       "        marker_db8aaa20833eec387ee05f032f93d307.bindPopup(popup_73d652225556b768ea54afbd74ac1b85)\n",
       "        ;\n",
       "\n",
       "        \n",
       "    \n",
       "    \n",
       "            var marker_8c4f0b2a20e4888e9affbc5181a28fc9 = L.marker(\n",
       "                [23.089981911375197, -82.37383881867649],\n",
       "                {\n",
       "}\n",
       "            ).addTo(map_25b1f90f2fd0c40419c04f1962b5ebc6);\n",
       "        \n",
       "    \n",
       "            var icon_7a545e1f478801eaddf6f5c3cf858e09 = L.AwesomeMarkers.icon(\n",
       "                {\n",
       "  &quot;markerColor&quot;: &quot;red&quot;,\n",
       "  &quot;iconColor&quot;: &quot;white&quot;,\n",
       "  &quot;icon&quot;: &quot;cutlery&quot;,\n",
       "  &quot;prefix&quot;: &quot;fa&quot;,\n",
       "  &quot;extraClasses&quot;: &quot;fa-rotate-0&quot;,\n",
       "}\n",
       "            );\n",
       "            marker_8c4f0b2a20e4888e9affbc5181a28fc9.setIcon(icon_7a545e1f478801eaddf6f5c3cf858e09);\n",
       "        \n",
       "    \n",
       "        var popup_d81db4c6b781d6422d854734b9a8f550 = L.popup({\n",
       "  &quot;maxWidth&quot;: &quot;100%&quot;,\n",
       "});\n",
       "\n",
       "        \n",
       "            \n",
       "                var html_2792e29a50a91b116f0338df3dd1e520 = $(`&lt;div id=&quot;html_2792e29a50a91b116f0338df3dd1e520&quot; style=&quot;width: 100.0%; height: 100.0%;&quot;&gt;(&quot;&lt;b style=&#x27;font-size: 18px; &#x27;&gt;Parrandas Grill Bar&lt;/b&gt;&lt;br&gt;Direccion: #366, Calle O&#x27;Farril entre Destrampes y Figueroa&quot;, &quot;Especialidades: [&#x27;mixta&#x27;]&quot;)&lt;/div&gt;`)[0];\n",
       "                popup_d81db4c6b781d6422d854734b9a8f550.setContent(html_2792e29a50a91b116f0338df3dd1e520);\n",
       "            \n",
       "        \n",
       "\n",
       "        marker_8c4f0b2a20e4888e9affbc5181a28fc9.bindPopup(popup_d81db4c6b781d6422d854734b9a8f550)\n",
       "        ;\n",
       "\n",
       "        \n",
       "    \n",
       "    \n",
       "            var marker_8af289e959499355e9b2611f0e5c35c7 = L.marker(\n",
       "                [23.10461483018299, -82.37587401682666],\n",
       "                {\n",
       "}\n",
       "            ).addTo(map_25b1f90f2fd0c40419c04f1962b5ebc6);\n",
       "        \n",
       "    \n",
       "            var icon_f300fd68a602f29014ab4a1af1c9c749 = L.AwesomeMarkers.icon(\n",
       "                {\n",
       "  &quot;markerColor&quot;: &quot;red&quot;,\n",
       "  &quot;iconColor&quot;: &quot;white&quot;,\n",
       "  &quot;icon&quot;: &quot;cutlery&quot;,\n",
       "  &quot;prefix&quot;: &quot;fa&quot;,\n",
       "  &quot;extraClasses&quot;: &quot;fa-rotate-0&quot;,\n",
       "}\n",
       "            );\n",
       "            marker_8af289e959499355e9b2611f0e5c35c7.setIcon(icon_f300fd68a602f29014ab4a1af1c9c749);\n",
       "        \n",
       "    \n",
       "        var popup_5be97a46f2e773a53e27d4174386ea92 = L.popup({\n",
       "  &quot;maxWidth&quot;: &quot;100%&quot;,\n",
       "});\n",
       "\n",
       "        \n",
       "            \n",
       "                var html_2be293f1500de917bad26858c3976087 = $(`&lt;div id=&quot;html_2be293f1500de917bad26858c3976087&quot; style=&quot;width: 100.0%; height: 100.0%;&quot;&gt;(&quot;&lt;b style=&#x27;font-size: 18px; &#x27;&gt;Pasos Habaneros&lt;/b&gt;&lt;br&gt;Direccion: Calle Santos Suárez 464 e/ Gómez y Mendoza. Santos Suárez&quot;, &quot;Especialidades: [&#x27;internacional&#x27;, &#x27;helados&#x27;]&quot;)&lt;/div&gt;`)[0];\n",
       "                popup_5be97a46f2e773a53e27d4174386ea92.setContent(html_2be293f1500de917bad26858c3976087);\n",
       "            \n",
       "        \n",
       "\n",
       "        marker_8af289e959499355e9b2611f0e5c35c7.bindPopup(popup_5be97a46f2e773a53e27d4174386ea92)\n",
       "        ;\n",
       "\n",
       "        \n",
       "    \n",
       "    \n",
       "            var marker_3316af2c97e95a0964aae3280883bc11 = L.marker(\n",
       "                [23.13691089950695, -82.36186773236341],\n",
       "                {\n",
       "}\n",
       "            ).addTo(map_25b1f90f2fd0c40419c04f1962b5ebc6);\n",
       "        \n",
       "    \n",
       "            var icon_f2fa3bf36540a9ae34880a668ad6dd42 = L.AwesomeMarkers.icon(\n",
       "                {\n",
       "  &quot;markerColor&quot;: &quot;red&quot;,\n",
       "  &quot;iconColor&quot;: &quot;white&quot;,\n",
       "  &quot;icon&quot;: &quot;cutlery&quot;,\n",
       "  &quot;prefix&quot;: &quot;fa&quot;,\n",
       "  &quot;extraClasses&quot;: &quot;fa-rotate-0&quot;,\n",
       "}\n",
       "            );\n",
       "            marker_3316af2c97e95a0964aae3280883bc11.setIcon(icon_f2fa3bf36540a9ae34880a668ad6dd42);\n",
       "        \n",
       "    \n",
       "        var popup_dad1f9cf9583be77d6c669d62347666a = L.popup({\n",
       "  &quot;maxWidth&quot;: &quot;100%&quot;,\n",
       "});\n",
       "\n",
       "        \n",
       "            \n",
       "                var html_d8cf1a6f983d4d5d479e2a12a672a45a = $(`&lt;div id=&quot;html_d8cf1a6f983d4d5d479e2a12a672a45a&quot; style=&quot;width: 100.0%; height: 100.0%;&quot;&gt;(&quot;&lt;b style=&#x27;font-size: 18px; &#x27;&gt;Pedro&#x27;s Bar&lt;/b&gt;&lt;br&gt;Direccion: 209 Blvd. de San Rafael entre Aguila y Amistad&quot;, &quot;Especialidades: [&#x27;italiana&#x27;]&quot;)&lt;/div&gt;`)[0];\n",
       "                popup_dad1f9cf9583be77d6c669d62347666a.setContent(html_d8cf1a6f983d4d5d479e2a12a672a45a);\n",
       "            \n",
       "        \n",
       "\n",
       "        marker_3316af2c97e95a0964aae3280883bc11.bindPopup(popup_dad1f9cf9583be77d6c669d62347666a)\n",
       "        ;\n",
       "\n",
       "        \n",
       "    \n",
       "    \n",
       "            var marker_54b138f63ef0731b88095cc58afb8256 = L.marker(\n",
       "                [23.08152839668274, -82.34264074494948],\n",
       "                {\n",
       "}\n",
       "            ).addTo(map_25b1f90f2fd0c40419c04f1962b5ebc6);\n",
       "        \n",
       "    \n",
       "            var icon_2490fb92b903c5e2fc24bb63224ba2c7 = L.AwesomeMarkers.icon(\n",
       "                {\n",
       "  &quot;markerColor&quot;: &quot;red&quot;,\n",
       "  &quot;iconColor&quot;: &quot;white&quot;,\n",
       "  &quot;icon&quot;: &quot;cutlery&quot;,\n",
       "  &quot;prefix&quot;: &quot;fa&quot;,\n",
       "  &quot;extraClasses&quot;: &quot;fa-rotate-0&quot;,\n",
       "}\n",
       "            );\n",
       "            marker_54b138f63ef0731b88095cc58afb8256.setIcon(icon_2490fb92b903c5e2fc24bb63224ba2c7);\n",
       "        \n",
       "    \n",
       "        var popup_c45afee75bb21b2927f364203a64c891 = L.popup({\n",
       "  &quot;maxWidth&quot;: &quot;100%&quot;,\n",
       "});\n",
       "\n",
       "        \n",
       "            \n",
       "                var html_f156d9d1850a141cbb24250c69fbb956 = $(`&lt;div id=&quot;html_f156d9d1850a141cbb24250c69fbb956&quot; style=&quot;width: 100.0%; height: 100.0%;&quot;&gt;(&quot;&lt;b style=&#x27;font-size: 18px; &#x27;&gt;Perla Negra&lt;/b&gt;&lt;br&gt;Direccion: Milagros 114 e/ Heredia y Poey, Santos Suárez&quot;, &quot;Especialidades: [&#x27;cubana&#x27;, &#x27;italiana&#x27;]&quot;)&lt;/div&gt;`)[0];\n",
       "                popup_c45afee75bb21b2927f364203a64c891.setContent(html_f156d9d1850a141cbb24250c69fbb956);\n",
       "            \n",
       "        \n",
       "\n",
       "        marker_54b138f63ef0731b88095cc58afb8256.bindPopup(popup_c45afee75bb21b2927f364203a64c891)\n",
       "        ;\n",
       "\n",
       "        \n",
       "    \n",
       "    \n",
       "            var marker_65162fc7a76c43de32438cc1e983ca45 = L.marker(\n",
       "                [23.12356261631935, -82.30423505951029],\n",
       "                {\n",
       "}\n",
       "            ).addTo(map_25b1f90f2fd0c40419c04f1962b5ebc6);\n",
       "        \n",
       "    \n",
       "            var icon_6ed5259c704490e58a5281bc2ea59d22 = L.AwesomeMarkers.icon(\n",
       "                {\n",
       "  &quot;markerColor&quot;: &quot;red&quot;,\n",
       "  &quot;iconColor&quot;: &quot;white&quot;,\n",
       "  &quot;icon&quot;: &quot;cutlery&quot;,\n",
       "  &quot;prefix&quot;: &quot;fa&quot;,\n",
       "  &quot;extraClasses&quot;: &quot;fa-rotate-0&quot;,\n",
       "}\n",
       "            );\n",
       "            marker_65162fc7a76c43de32438cc1e983ca45.setIcon(icon_6ed5259c704490e58a5281bc2ea59d22);\n",
       "        \n",
       "    \n",
       "        var popup_733ba2a5a806930da24ac85529d99293 = L.popup({\n",
       "  &quot;maxWidth&quot;: &quot;100%&quot;,\n",
       "});\n",
       "\n",
       "        \n",
       "            \n",
       "                var html_65000a8778e3e678932f8f2e98fadb2b = $(`&lt;div id=&quot;html_65000a8778e3e678932f8f2e98fadb2b&quot; style=&quot;width: 100.0%; height: 100.0%;&quot;&gt;(&quot;&lt;b style=&#x27;font-size: 18px; &#x27;&gt;Pizzas Vip&lt;/b&gt;&lt;br&gt;Direccion: E Guiral entre Luz y Maceo&quot;, &quot;Especialidades: [&#x27;Pizzas&#x27;, &#x27;Pastas&#x27;]&quot;)&lt;/div&gt;`)[0];\n",
       "                popup_733ba2a5a806930da24ac85529d99293.setContent(html_65000a8778e3e678932f8f2e98fadb2b);\n",
       "            \n",
       "        \n",
       "\n",
       "        marker_65162fc7a76c43de32438cc1e983ca45.bindPopup(popup_733ba2a5a806930da24ac85529d99293)\n",
       "        ;\n",
       "\n",
       "        \n",
       "    \n",
       "    \n",
       "            var marker_abd3aab9aadab88fd4a06f3553c36a29 = L.marker(\n",
       "                [23.139325457451932, -82.35937998794891],\n",
       "                {\n",
       "}\n",
       "            ).addTo(map_25b1f90f2fd0c40419c04f1962b5ebc6);\n",
       "        \n",
       "    \n",
       "            var icon_64fff48baa3b2b226e197aac9e4ffef9 = L.AwesomeMarkers.icon(\n",
       "                {\n",
       "  &quot;markerColor&quot;: &quot;red&quot;,\n",
       "  &quot;iconColor&quot;: &quot;white&quot;,\n",
       "  &quot;icon&quot;: &quot;cutlery&quot;,\n",
       "  &quot;prefix&quot;: &quot;fa&quot;,\n",
       "  &quot;extraClasses&quot;: &quot;fa-rotate-0&quot;,\n",
       "}\n",
       "            );\n",
       "            marker_abd3aab9aadab88fd4a06f3553c36a29.setIcon(icon_64fff48baa3b2b226e197aac9e4ffef9);\n",
       "        \n",
       "    \n",
       "        var popup_2862867770c0321d2dd53c323ea84044 = L.popup({\n",
       "  &quot;maxWidth&quot;: &quot;100%&quot;,\n",
       "});\n",
       "\n",
       "        \n",
       "            \n",
       "                var html_f3c663de2321b1f71217a2c002a750f8 = $(`&lt;div id=&quot;html_f3c663de2321b1f71217a2c002a750f8&quot; style=&quot;width: 100.0%; height: 100.0%;&quot;&gt;(&quot;&lt;b style=&#x27;font-size: 18px; &#x27;&gt;Plan H&lt;/b&gt;&lt;br&gt;Direccion: 308 P de Marti Ánimas y Virtudes&quot;, &quot;Especialidades: [&#x27;Comida Asiática&#x27;, &#x27;Internacional&#x27;, &#x27;Tailandesa&#x27;]&quot;)&lt;/div&gt;`)[0];\n",
       "                popup_2862867770c0321d2dd53c323ea84044.setContent(html_f3c663de2321b1f71217a2c002a750f8);\n",
       "            \n",
       "        \n",
       "\n",
       "        marker_abd3aab9aadab88fd4a06f3553c36a29.bindPopup(popup_2862867770c0321d2dd53c323ea84044)\n",
       "        ;\n",
       "\n",
       "        \n",
       "    \n",
       "    \n",
       "            var marker_97c8978352c5f46c8be073c750f8ea07 = L.marker(\n",
       "                [23.122083546215134, -82.30797703533594],\n",
       "                {\n",
       "}\n",
       "            ).addTo(map_25b1f90f2fd0c40419c04f1962b5ebc6);\n",
       "        \n",
       "    \n",
       "            var icon_bd482ae131234b858c6451aa53de4a24 = L.AwesomeMarkers.icon(\n",
       "                {\n",
       "  &quot;markerColor&quot;: &quot;red&quot;,\n",
       "  &quot;iconColor&quot;: &quot;white&quot;,\n",
       "  &quot;icon&quot;: &quot;cutlery&quot;,\n",
       "  &quot;prefix&quot;: &quot;fa&quot;,\n",
       "  &quot;extraClasses&quot;: &quot;fa-rotate-0&quot;,\n",
       "}\n",
       "            );\n",
       "            marker_97c8978352c5f46c8be073c750f8ea07.setIcon(icon_bd482ae131234b858c6451aa53de4a24);\n",
       "        \n",
       "    \n",
       "        var popup_8d67afffe0df0e86416efa00a6cb91af = L.popup({\n",
       "  &quot;maxWidth&quot;: &quot;100%&quot;,\n",
       "});\n",
       "\n",
       "        \n",
       "            \n",
       "                var html_268888bb3e010d9d45e3d76eb5d21ac9 = $(`&lt;div id=&quot;html_268888bb3e010d9d45e3d76eb5d21ac9&quot; style=&quot;width: 100.0%; height: 100.0%;&quot;&gt;(&quot;&lt;b style=&#x27;font-size: 18px; &#x27;&gt;Polo&lt;/b&gt;&lt;br&gt;Direccion: Calle Cruz Verde entre Independencia Este y Barreto Este&quot;, &quot;Especialidades: [&#x27;Comida Internacional&#x27;]&quot;)&lt;/div&gt;`)[0];\n",
       "                popup_8d67afffe0df0e86416efa00a6cb91af.setContent(html_268888bb3e010d9d45e3d76eb5d21ac9);\n",
       "            \n",
       "        \n",
       "\n",
       "        marker_97c8978352c5f46c8be073c750f8ea07.bindPopup(popup_8d67afffe0df0e86416efa00a6cb91af)\n",
       "        ;\n",
       "\n",
       "        \n",
       "    \n",
       "    \n",
       "            var marker_7483ff1a1d03649332c6ba397a0afdf6 = L.marker(\n",
       "                [23.067659194580123, -82.4512542109271],\n",
       "                {\n",
       "}\n",
       "            ).addTo(map_25b1f90f2fd0c40419c04f1962b5ebc6);\n",
       "        \n",
       "    \n",
       "            var icon_8dad9770c4217437ac8491d27b017f29 = L.AwesomeMarkers.icon(\n",
       "                {\n",
       "  &quot;markerColor&quot;: &quot;red&quot;,\n",
       "  &quot;iconColor&quot;: &quot;white&quot;,\n",
       "  &quot;icon&quot;: &quot;cutlery&quot;,\n",
       "  &quot;prefix&quot;: &quot;fa&quot;,\n",
       "  &quot;extraClasses&quot;: &quot;fa-rotate-0&quot;,\n",
       "}\n",
       "            );\n",
       "            marker_7483ff1a1d03649332c6ba397a0afdf6.setIcon(icon_8dad9770c4217437ac8491d27b017f29);\n",
       "        \n",
       "    \n",
       "        var popup_d96d88c4de943a496b0f50188ef4be40 = L.popup({\n",
       "  &quot;maxWidth&quot;: &quot;100%&quot;,\n",
       "});\n",
       "\n",
       "        \n",
       "            \n",
       "                var html_c7ac75835fac686be30fdf29c441c4d0 = $(`&lt;div id=&quot;html_c7ac75835fac686be30fdf29c441c4d0&quot; style=&quot;width: 100.0%; height: 100.0%;&quot;&gt;(&quot;&lt;b style=&#x27;font-size: 18px; &#x27;&gt;Ranchon Don Martin&lt;/b&gt;&lt;br&gt;Direccion: Calle 198 no.3733 entre 37 y 45&quot;, &quot;Especialidades: [&#x27;cubana&#x27;, &#x27;criolla&#x27;, &#x27;asado&#x27;]&quot;)&lt;/div&gt;`)[0];\n",
       "                popup_d96d88c4de943a496b0f50188ef4be40.setContent(html_c7ac75835fac686be30fdf29c441c4d0);\n",
       "            \n",
       "        \n",
       "\n",
       "        marker_7483ff1a1d03649332c6ba397a0afdf6.bindPopup(popup_d96d88c4de943a496b0f50188ef4be40)\n",
       "        ;\n",
       "\n",
       "        \n",
       "    \n",
       "    \n",
       "            var marker_f41a4437f36e52df39e60587512847ad = L.marker(\n",
       "                [23.08973578096908, -82.42166351867644],\n",
       "                {\n",
       "}\n",
       "            ).addTo(map_25b1f90f2fd0c40419c04f1962b5ebc6);\n",
       "        \n",
       "    \n",
       "            var icon_62fcf68a7b3310dd4f0bba3981243e86 = L.AwesomeMarkers.icon(\n",
       "                {\n",
       "  &quot;markerColor&quot;: &quot;red&quot;,\n",
       "  &quot;iconColor&quot;: &quot;white&quot;,\n",
       "  &quot;icon&quot;: &quot;cutlery&quot;,\n",
       "  &quot;prefix&quot;: &quot;fa&quot;,\n",
       "  &quot;extraClasses&quot;: &quot;fa-rotate-0&quot;,\n",
       "}\n",
       "            );\n",
       "            marker_f41a4437f36e52df39e60587512847ad.setIcon(icon_62fcf68a7b3310dd4f0bba3981243e86);\n",
       "        \n",
       "    \n",
       "        var popup_600aeb2298203b876cbee090f044c1e5 = L.popup({\n",
       "  &quot;maxWidth&quot;: &quot;100%&quot;,\n",
       "});\n",
       "\n",
       "        \n",
       "            \n",
       "                var html_d5444249e3959910b15e8a8dbc478986 = $(`&lt;div id=&quot;html_d5444249e3959910b15e8a8dbc478986&quot; style=&quot;width: 100.0%; height: 100.0%;&quot;&gt;(&quot;&lt;b style=&#x27;font-size: 18px; &#x27;&gt;Ranchon de 41&lt;/b&gt;&lt;br&gt;Direccion: Avenida 41 y 84&quot;, &quot;Especialidades: [&#x27;mixta&#x27;]&quot;)&lt;/div&gt;`)[0];\n",
       "                popup_600aeb2298203b876cbee090f044c1e5.setContent(html_d5444249e3959910b15e8a8dbc478986);\n",
       "            \n",
       "        \n",
       "\n",
       "        marker_f41a4437f36e52df39e60587512847ad.bindPopup(popup_600aeb2298203b876cbee090f044c1e5)\n",
       "        ;\n",
       "\n",
       "        \n",
       "    \n",
       "    \n",
       "            var marker_bf25eb43153d9abc62f86e081b93340d = L.marker(\n",
       "                [23.1593325543624, -82.28055542260424],\n",
       "                {\n",
       "}\n",
       "            ).addTo(map_25b1f90f2fd0c40419c04f1962b5ebc6);\n",
       "        \n",
       "    \n",
       "            var icon_4dc0f09070aa67eaca86021f8e0858ea = L.AwesomeMarkers.icon(\n",
       "                {\n",
       "  &quot;markerColor&quot;: &quot;red&quot;,\n",
       "  &quot;iconColor&quot;: &quot;white&quot;,\n",
       "  &quot;icon&quot;: &quot;cutlery&quot;,\n",
       "  &quot;prefix&quot;: &quot;fa&quot;,\n",
       "  &quot;extraClasses&quot;: &quot;fa-rotate-0&quot;,\n",
       "}\n",
       "            );\n",
       "            marker_bf25eb43153d9abc62f86e081b93340d.setIcon(icon_4dc0f09070aa67eaca86021f8e0858ea);\n",
       "        \n",
       "    \n",
       "        var popup_ecbc900e7b32cd4d0e8ea325cac6c5be = L.popup({\n",
       "  &quot;maxWidth&quot;: &quot;100%&quot;,\n",
       "});\n",
       "\n",
       "        \n",
       "            \n",
       "                var html_1ee86aac8b12124eebef530338164599 = $(`&lt;div id=&quot;html_1ee86aac8b12124eebef530338164599&quot; style=&quot;width: 100.0%; height: 100.0%;&quot;&gt;(&quot;&lt;b style=&#x27;font-size: 18px; &#x27;&gt;Ranchon Hanoi&lt;/b&gt;&lt;br&gt;Direccion: Parque Hanoi, zona 6, Alamar&quot;, &quot;Especialidades: [&#x27;Comida mixta&#x27;]&quot;)&lt;/div&gt;`)[0];\n",
       "                popup_ecbc900e7b32cd4d0e8ea325cac6c5be.setContent(html_1ee86aac8b12124eebef530338164599);\n",
       "            \n",
       "        \n",
       "\n",
       "        marker_bf25eb43153d9abc62f86e081b93340d.bindPopup(popup_ecbc900e7b32cd4d0e8ea325cac6c5be)\n",
       "        ;\n",
       "\n",
       "        \n",
       "    \n",
       "    \n",
       "            var marker_6551e33a9a882484f0838a0c75389aaa = L.marker(\n",
       "                [22.975899692812543, -82.3846842092052],\n",
       "                {\n",
       "}\n",
       "            ).addTo(map_25b1f90f2fd0c40419c04f1962b5ebc6);\n",
       "        \n",
       "    \n",
       "            var icon_640c4679d113e6f64b4b3ca7778de73a = L.AwesomeMarkers.icon(\n",
       "                {\n",
       "  &quot;markerColor&quot;: &quot;red&quot;,\n",
       "  &quot;iconColor&quot;: &quot;white&quot;,\n",
       "  &quot;icon&quot;: &quot;cutlery&quot;,\n",
       "  &quot;prefix&quot;: &quot;fa&quot;,\n",
       "  &quot;extraClasses&quot;: &quot;fa-rotate-0&quot;,\n",
       "}\n",
       "            );\n",
       "            marker_6551e33a9a882484f0838a0c75389aaa.setIcon(icon_640c4679d113e6f64b4b3ca7778de73a);\n",
       "        \n",
       "    \n",
       "        var popup_83fc22ad19db71765e31f531dd47d1c6 = L.popup({\n",
       "  &quot;maxWidth&quot;: &quot;100%&quot;,\n",
       "});\n",
       "\n",
       "        \n",
       "            \n",
       "                var html_9faa50eff4029e53f3e0cb8c0bce34be = $(`&lt;div id=&quot;html_9faa50eff4029e53f3e0cb8c0bce34be&quot; style=&quot;width: 100.0%; height: 100.0%;&quot;&gt;(&quot;&lt;b style=&#x27;font-size: 18px; &#x27;&gt;Ranchon Las Vegas&lt;/b&gt;&lt;br&gt;Direccion: Calle 409 % 182 &amp; Avenida Independencia, Santiago de las Vegas &quot;, &quot;Especialidades: [&#x27;Cubana&#x27;, &#x27;criolla&#x27;, &#x27;internacional&#x27;]&quot;)&lt;/div&gt;`)[0];\n",
       "                popup_83fc22ad19db71765e31f531dd47d1c6.setContent(html_9faa50eff4029e53f3e0cb8c0bce34be);\n",
       "            \n",
       "        \n",
       "\n",
       "        marker_6551e33a9a882484f0838a0c75389aaa.bindPopup(popup_83fc22ad19db71765e31f531dd47d1c6)\n",
       "        ;\n",
       "\n",
       "        \n",
       "    \n",
       "    \n",
       "            var marker_a5e774927c179c18d9e422aa0cd2db05 = L.marker(\n",
       "                [23.143226340667947, -82.39569107139691],\n",
       "                {\n",
       "}\n",
       "            ).addTo(map_25b1f90f2fd0c40419c04f1962b5ebc6);\n",
       "        \n",
       "    \n",
       "            var icon_e5558fad4614a9412c92902a551a7605 = L.AwesomeMarkers.icon(\n",
       "                {\n",
       "  &quot;markerColor&quot;: &quot;red&quot;,\n",
       "  &quot;iconColor&quot;: &quot;white&quot;,\n",
       "  &quot;icon&quot;: &quot;cutlery&quot;,\n",
       "  &quot;prefix&quot;: &quot;fa&quot;,\n",
       "  &quot;extraClasses&quot;: &quot;fa-rotate-0&quot;,\n",
       "}\n",
       "            );\n",
       "            marker_a5e774927c179c18d9e422aa0cd2db05.setIcon(icon_e5558fad4614a9412c92902a551a7605);\n",
       "        \n",
       "    \n",
       "        var popup_7363d44dff055fcf212e1e80b647adf6 = L.popup({\n",
       "  &quot;maxWidth&quot;: &quot;100%&quot;,\n",
       "});\n",
       "\n",
       "        \n",
       "            \n",
       "                var html_c89593c8bac841be6763175f6d811dd6 = $(`&lt;div id=&quot;html_c89593c8bac841be6763175f6d811dd6&quot; style=&quot;width: 100.0%; height: 100.0%;&quot;&gt;(&quot;&lt;b style=&#x27;font-size: 18px; &#x27;&gt;Razones y Motivos&lt;/b&gt;&lt;br&gt;Direccion: Calle F No.63 entre 3era y 5ta, Vedado&quot;, &quot;Especialidades: [&#x27;Comida Caribeña&#x27;, &#x27;Latina&#x27;, &#x27;Cubana&#x27;, &#x27;criolla&#x27;, &#x27;Sudamericana&#x27;, &#x27;Centroamericana&#x27;]&quot;)&lt;/div&gt;`)[0];\n",
       "                popup_7363d44dff055fcf212e1e80b647adf6.setContent(html_c89593c8bac841be6763175f6d811dd6);\n",
       "            \n",
       "        \n",
       "\n",
       "        marker_a5e774927c179c18d9e422aa0cd2db05.bindPopup(popup_7363d44dff055fcf212e1e80b647adf6)\n",
       "        ;\n",
       "\n",
       "        \n",
       "    \n",
       "    \n",
       "            var marker_d62f8e5f7fedbc18a9e03f2caa26d7fb = L.marker(\n",
       "                [23.12552270613754, -82.33261449654044],\n",
       "                {\n",
       "}\n",
       "            ).addTo(map_25b1f90f2fd0c40419c04f1962b5ebc6);\n",
       "        \n",
       "    \n",
       "            var icon_9691902742a0cabb48092b9fc7039964 = L.AwesomeMarkers.icon(\n",
       "                {\n",
       "  &quot;markerColor&quot;: &quot;red&quot;,\n",
       "  &quot;iconColor&quot;: &quot;white&quot;,\n",
       "  &quot;icon&quot;: &quot;cutlery&quot;,\n",
       "  &quot;prefix&quot;: &quot;fa&quot;,\n",
       "  &quot;extraClasses&quot;: &quot;fa-rotate-0&quot;,\n",
       "}\n",
       "            );\n",
       "            marker_d62f8e5f7fedbc18a9e03f2caa26d7fb.setIcon(icon_9691902742a0cabb48092b9fc7039964);\n",
       "        \n",
       "    \n",
       "        var popup_2fd03318af565481bcabc4d940b65cec = L.popup({\n",
       "  &quot;maxWidth&quot;: &quot;100%&quot;,\n",
       "});\n",
       "\n",
       "        \n",
       "            \n",
       "                var html_3035e31f017d644afd97960458f3fef5 = $(`&lt;div id=&quot;html_3035e31f017d644afd97960458f3fef5&quot; style=&quot;width: 100.0%; height: 100.0%;&quot;&gt;(&quot;&lt;b style=&#x27;font-size: 18px; &#x27;&gt;Restaurante Lan&lt;/b&gt;&lt;br&gt;Direccion: Maceo entre Fresneda y Agramonte&quot;, &quot;Especialidades: [&#x27;criolla&#x27;, &#x27;italiana&#x27;]&quot;)&lt;/div&gt;`)[0];\n",
       "                popup_2fd03318af565481bcabc4d940b65cec.setContent(html_3035e31f017d644afd97960458f3fef5);\n",
       "            \n",
       "        \n",
       "\n",
       "        marker_d62f8e5f7fedbc18a9e03f2caa26d7fb.bindPopup(popup_2fd03318af565481bcabc4d940b65cec)\n",
       "        ;\n",
       "\n",
       "        \n",
       "    \n",
       "    \n",
       "            var marker_ae1c7a14c5a5e7f79acfd80a7d4645d1 = L.marker(\n",
       "                [23.137547259787535, -82.36095379003397],\n",
       "                {\n",
       "}\n",
       "            ).addTo(map_25b1f90f2fd0c40419c04f1962b5ebc6);\n",
       "        \n",
       "    \n",
       "            var icon_6e66ecb39d635c0438efea65745a9b5c = L.AwesomeMarkers.icon(\n",
       "                {\n",
       "  &quot;markerColor&quot;: &quot;red&quot;,\n",
       "  &quot;iconColor&quot;: &quot;white&quot;,\n",
       "  &quot;icon&quot;: &quot;cutlery&quot;,\n",
       "  &quot;prefix&quot;: &quot;fa&quot;,\n",
       "  &quot;extraClasses&quot;: &quot;fa-rotate-0&quot;,\n",
       "}\n",
       "            );\n",
       "            marker_ae1c7a14c5a5e7f79acfd80a7d4645d1.setIcon(icon_6e66ecb39d635c0438efea65745a9b5c);\n",
       "        \n",
       "    \n",
       "        var popup_6155ee26dbba547b5bfd22c0c8a6557c = L.popup({\n",
       "  &quot;maxWidth&quot;: &quot;100%&quot;,\n",
       "});\n",
       "\n",
       "        \n",
       "            \n",
       "                var html_21c3f6f2296e60cbb5effeb7c0e21fcb = $(`&lt;div id=&quot;html_21c3f6f2296e60cbb5effeb7c0e21fcb&quot; style=&quot;width: 100.0%; height: 100.0%;&quot;&gt;(&quot;&lt;b style=&#x27;font-size: 18px; &#x27;&gt;Ricardon&lt;/b&gt;&lt;br&gt;Direccion: Industria entre San Miguel y Blvd de San Rafael&quot;, &quot;Especialidades: [&#x27;caribeña&#x27;, &#x27;latina&#x27;, &#x27;mediterránea&#x27;, &#x27;cubana&#x27;]&quot;)&lt;/div&gt;`)[0];\n",
       "                popup_6155ee26dbba547b5bfd22c0c8a6557c.setContent(html_21c3f6f2296e60cbb5effeb7c0e21fcb);\n",
       "            \n",
       "        \n",
       "\n",
       "        marker_ae1c7a14c5a5e7f79acfd80a7d4645d1.bindPopup(popup_6155ee26dbba547b5bfd22c0c8a6557c)\n",
       "        ;\n",
       "\n",
       "        \n",
       "    \n",
       "    \n",
       "            var marker_bf6ba8a8a9da7c4be39d1052195e775e = L.marker(\n",
       "                [23.126245278270186, -82.38010644455453],\n",
       "                {\n",
       "}\n",
       "            ).addTo(map_25b1f90f2fd0c40419c04f1962b5ebc6);\n",
       "        \n",
       "    \n",
       "            var icon_17eeef894a3bf41e7fa7a2cd3aecd029 = L.AwesomeMarkers.icon(\n",
       "                {\n",
       "  &quot;markerColor&quot;: &quot;red&quot;,\n",
       "  &quot;iconColor&quot;: &quot;white&quot;,\n",
       "  &quot;icon&quot;: &quot;cutlery&quot;,\n",
       "  &quot;prefix&quot;: &quot;fa&quot;,\n",
       "  &quot;extraClasses&quot;: &quot;fa-rotate-0&quot;,\n",
       "}\n",
       "            );\n",
       "            marker_bf6ba8a8a9da7c4be39d1052195e775e.setIcon(icon_17eeef894a3bf41e7fa7a2cd3aecd029);\n",
       "        \n",
       "    \n",
       "        var popup_5505fb419cf4fbd0d2f961b1f72ebae3 = L.popup({\n",
       "  &quot;maxWidth&quot;: &quot;100%&quot;,\n",
       "});\n",
       "\n",
       "        \n",
       "            \n",
       "                var html_fe7ee790ffc108cbd6ef62372e75a4f3 = $(`&lt;div id=&quot;html_fe7ee790ffc108cbd6ef62372e75a4f3&quot; style=&quot;width: 100.0%; height: 100.0%;&quot;&gt;(&quot;&lt;b style=&#x27;font-size: 18px; &#x27;&gt;Rico Rico&lt;/b&gt;&lt;br&gt;Direccion: Calle Ayestarán entre Perfecto Lacoste y Aranguren&quot;, &quot;Especialidades: [&#x27;italiana&#x27;]&quot;)&lt;/div&gt;`)[0];\n",
       "                popup_5505fb419cf4fbd0d2f961b1f72ebae3.setContent(html_fe7ee790ffc108cbd6ef62372e75a4f3);\n",
       "            \n",
       "        \n",
       "\n",
       "        marker_bf6ba8a8a9da7c4be39d1052195e775e.bindPopup(popup_5505fb419cf4fbd0d2f961b1f72ebae3)\n",
       "        ;\n",
       "\n",
       "        \n",
       "    \n",
       "    \n",
       "            var marker_57362b617a05be7f4f20cb67df05b89f = L.marker(\n",
       "                [23.094673000199286, -82.41860913032004],\n",
       "                {\n",
       "}\n",
       "            ).addTo(map_25b1f90f2fd0c40419c04f1962b5ebc6);\n",
       "        \n",
       "    \n",
       "            var icon_e718df050eb99ab64138226e8b39df92 = L.AwesomeMarkers.icon(\n",
       "                {\n",
       "  &quot;markerColor&quot;: &quot;red&quot;,\n",
       "  &quot;iconColor&quot;: &quot;white&quot;,\n",
       "  &quot;icon&quot;: &quot;cutlery&quot;,\n",
       "  &quot;prefix&quot;: &quot;fa&quot;,\n",
       "  &quot;extraClasses&quot;: &quot;fa-rotate-0&quot;,\n",
       "}\n",
       "            );\n",
       "            marker_57362b617a05be7f4f20cb67df05b89f.setIcon(icon_e718df050eb99ab64138226e8b39df92);\n",
       "        \n",
       "    \n",
       "        var popup_f0b6a44902c94424a58b9308539240ee = L.popup({\n",
       "  &quot;maxWidth&quot;: &quot;100%&quot;,\n",
       "});\n",
       "\n",
       "        \n",
       "            \n",
       "                var html_5b8f53c648c10db3a2c95722c8eed65f = $(`&lt;div id=&quot;html_5b8f53c648c10db3a2c95722c8eed65f&quot; style=&quot;width: 100.0%; height: 100.0%;&quot;&gt;(&quot;&lt;b style=&#x27;font-size: 18px; &#x27;&gt;Restaurante Rodney (Tropicana)&lt;/b&gt;&lt;br&gt;Direccion: 72A,Avenida 41&quot;, &quot;Especialidades: [&#x27;cubana&#x27;, &#x27;internacional&#x27;, &#x27;criolla&#x27;]&quot;)&lt;/div&gt;`)[0];\n",
       "                popup_f0b6a44902c94424a58b9308539240ee.setContent(html_5b8f53c648c10db3a2c95722c8eed65f);\n",
       "            \n",
       "        \n",
       "\n",
       "        marker_57362b617a05be7f4f20cb67df05b89f.bindPopup(popup_f0b6a44902c94424a58b9308539240ee)\n",
       "        ;\n",
       "\n",
       "        \n",
       "    \n",
       "    \n",
       "            var marker_5632e6785477903f898a9d478223a560 = L.marker(\n",
       "                [23.093622177255977, -82.3641803168269],\n",
       "                {\n",
       "}\n",
       "            ).addTo(map_25b1f90f2fd0c40419c04f1962b5ebc6);\n",
       "        \n",
       "    \n",
       "            var icon_81e6306a02efa2a25f7b9b749b0ef6da = L.AwesomeMarkers.icon(\n",
       "                {\n",
       "  &quot;markerColor&quot;: &quot;red&quot;,\n",
       "  &quot;iconColor&quot;: &quot;white&quot;,\n",
       "  &quot;icon&quot;: &quot;cutlery&quot;,\n",
       "  &quot;prefix&quot;: &quot;fa&quot;,\n",
       "  &quot;extraClasses&quot;: &quot;fa-rotate-0&quot;,\n",
       "}\n",
       "            );\n",
       "            marker_5632e6785477903f898a9d478223a560.setIcon(icon_81e6306a02efa2a25f7b9b749b0ef6da);\n",
       "        \n",
       "    \n",
       "        var popup_a1b693efdcab2d2f5b4ff43b91120c6c = L.popup({\n",
       "  &quot;maxWidth&quot;: &quot;100%&quot;,\n",
       "});\n",
       "\n",
       "        \n",
       "            \n",
       "                var html_2c04ea8ffa3c9ff10d48def979b5e36c = $(`&lt;div id=&quot;html_2c04ea8ffa3c9ff10d48def979b5e36c&quot; style=&quot;width: 100.0%; height: 100.0%;&quot;&gt;(&quot;&lt;b style=&#x27;font-size: 18px; &#x27;&gt;Roxinanda&lt;/b&gt;&lt;br&gt;Direccion: esquina de Santa Catalina y calzada de 10 de Octubre&quot;, &quot;Especialidades: [&#x27;Hamburguesa&#x27;]&quot;)&lt;/div&gt;`)[0];\n",
       "                popup_a1b693efdcab2d2f5b4ff43b91120c6c.setContent(html_2c04ea8ffa3c9ff10d48def979b5e36c);\n",
       "            \n",
       "        \n",
       "\n",
       "        marker_5632e6785477903f898a9d478223a560.bindPopup(popup_a1b693efdcab2d2f5b4ff43b91120c6c)\n",
       "        ;\n",
       "\n",
       "        \n",
       "    \n",
       "    \n",
       "            var marker_a5a77ec14e38dfd74636a47dca09dc1c = L.marker(\n",
       "                [23.134819322053957, -82.30638711918262],\n",
       "                {\n",
       "}\n",
       "            ).addTo(map_25b1f90f2fd0c40419c04f1962b5ebc6);\n",
       "        \n",
       "    \n",
       "            var icon_fd46b8bdd769200efb706024cb2e24e1 = L.AwesomeMarkers.icon(\n",
       "                {\n",
       "  &quot;markerColor&quot;: &quot;red&quot;,\n",
       "  &quot;iconColor&quot;: &quot;white&quot;,\n",
       "  &quot;icon&quot;: &quot;cutlery&quot;,\n",
       "  &quot;prefix&quot;: &quot;fa&quot;,\n",
       "  &quot;extraClasses&quot;: &quot;fa-rotate-0&quot;,\n",
       "}\n",
       "            );\n",
       "            marker_a5a77ec14e38dfd74636a47dca09dc1c.setIcon(icon_fd46b8bdd769200efb706024cb2e24e1);\n",
       "        \n",
       "    \n",
       "        var popup_362da5f27720be6ad327887fe3696533 = L.popup({\n",
       "  &quot;maxWidth&quot;: &quot;100%&quot;,\n",
       "});\n",
       "\n",
       "        \n",
       "            \n",
       "                var html_b998f5693fae63f308c68aabd87353c1 = $(`&lt;div id=&quot;html_b998f5693fae63f308c68aabd87353c1&quot; style=&quot;width: 100.0%; height: 100.0%;&quot;&gt;(&quot;&lt;b style=&#x27;font-size: 18px; &#x27;&gt;Ruta 66&lt;/b&gt;&lt;br&gt;Direccion: Entre tercera y primera&quot;, &quot;Especialidades: [&#x27;criolla&#x27;, &#x27;hamburguesas&#x27;, &#x27;pizzas&#x27;, &#x27;pastas&#x27;]&quot;)&lt;/div&gt;`)[0];\n",
       "                popup_362da5f27720be6ad327887fe3696533.setContent(html_b998f5693fae63f308c68aabd87353c1);\n",
       "            \n",
       "        \n",
       "\n",
       "        marker_a5a77ec14e38dfd74636a47dca09dc1c.bindPopup(popup_362da5f27720be6ad327887fe3696533)\n",
       "        ;\n",
       "\n",
       "        \n",
       "    \n",
       "    \n",
       "            var marker_82491c55641276cb6ddf3aa7bee727f8 = L.marker(\n",
       "                [23.13411346121413, -82.37839877964456],\n",
       "                {\n",
       "}\n",
       "            ).addTo(map_25b1f90f2fd0c40419c04f1962b5ebc6);\n",
       "        \n",
       "    \n",
       "            var icon_a5ef6db51bf3b98fdf0869617daf1e4b = L.AwesomeMarkers.icon(\n",
       "                {\n",
       "  &quot;markerColor&quot;: &quot;red&quot;,\n",
       "  &quot;iconColor&quot;: &quot;white&quot;,\n",
       "  &quot;icon&quot;: &quot;cutlery&quot;,\n",
       "  &quot;prefix&quot;: &quot;fa&quot;,\n",
       "  &quot;extraClasses&quot;: &quot;fa-rotate-0&quot;,\n",
       "}\n",
       "            );\n",
       "            marker_82491c55641276cb6ddf3aa7bee727f8.setIcon(icon_a5ef6db51bf3b98fdf0869617daf1e4b);\n",
       "        \n",
       "    \n",
       "        var popup_353402ea0bddb2cc317e16eb58230116 = L.popup({\n",
       "  &quot;maxWidth&quot;: &quot;100%&quot;,\n",
       "});\n",
       "\n",
       "        \n",
       "            \n",
       "                var html_30045bf183a77865545b1f03268a207d = $(`&lt;div id=&quot;html_30045bf183a77865545b1f03268a207d&quot; style=&quot;width: 100.0%; height: 100.0%;&quot;&gt;(&quot;&lt;b style=&#x27;font-size: 18px; &#x27;&gt;Salchipizza&lt;/b&gt;&lt;br&gt;Direccion: Calle Infanta entre Zanja y Valle&quot;, &quot;Especialidades: [&#x27;cubana&#x27;]&quot;)&lt;/div&gt;`)[0];\n",
       "                popup_353402ea0bddb2cc317e16eb58230116.setContent(html_30045bf183a77865545b1f03268a207d);\n",
       "            \n",
       "        \n",
       "\n",
       "        marker_82491c55641276cb6ddf3aa7bee727f8.bindPopup(popup_353402ea0bddb2cc317e16eb58230116)\n",
       "        ;\n",
       "\n",
       "        \n",
       "    \n",
       "    \n",
       "            var marker_d7cd082b7574473c720ba79a47f96200 = L.marker(\n",
       "                [23.13562239054984, -82.37745889737107],\n",
       "                {\n",
       "}\n",
       "            ).addTo(map_25b1f90f2fd0c40419c04f1962b5ebc6);\n",
       "        \n",
       "    \n",
       "            var icon_a7fcb9c0c1979a438e01c7dda04fdfa0 = L.AwesomeMarkers.icon(\n",
       "                {\n",
       "  &quot;markerColor&quot;: &quot;red&quot;,\n",
       "  &quot;iconColor&quot;: &quot;white&quot;,\n",
       "  &quot;icon&quot;: &quot;cutlery&quot;,\n",
       "  &quot;prefix&quot;: &quot;fa&quot;,\n",
       "  &quot;extraClasses&quot;: &quot;fa-rotate-0&quot;,\n",
       "}\n",
       "            );\n",
       "            marker_d7cd082b7574473c720ba79a47f96200.setIcon(icon_a7fcb9c0c1979a438e01c7dda04fdfa0);\n",
       "        \n",
       "    \n",
       "        var popup_3d5c484855f78fec8c2878698f219841 = L.popup({\n",
       "  &quot;maxWidth&quot;: &quot;100%&quot;,\n",
       "});\n",
       "\n",
       "        \n",
       "            \n",
       "                var html_184ba061bc81b20ce6313137a3ba5a99 = $(`&lt;div id=&quot;html_184ba061bc81b20ce6313137a3ba5a99&quot; style=&quot;width: 100.0%; height: 100.0%;&quot;&gt;(&quot;&lt;b style=&#x27;font-size: 18px; &#x27;&gt;San Rafael 1051&lt;/b&gt;&lt;br&gt;Direccion: San Fransico entre San Rafael y San Martin&quot;, &quot;Especialidades: [&#x27;americana&#x27;, &#x27;internacional&#x27;]&quot;)&lt;/div&gt;`)[0];\n",
       "                popup_3d5c484855f78fec8c2878698f219841.setContent(html_184ba061bc81b20ce6313137a3ba5a99);\n",
       "            \n",
       "        \n",
       "\n",
       "        marker_d7cd082b7574473c720ba79a47f96200.bindPopup(popup_3d5c484855f78fec8c2878698f219841)\n",
       "        ;\n",
       "\n",
       "        \n",
       "    \n",
       "    \n",
       "            var marker_92159ed880b7008b48fa37630433e363 = L.marker(\n",
       "                [23.117449358542444, -82.38458676119917],\n",
       "                {\n",
       "}\n",
       "            ).addTo(map_25b1f90f2fd0c40419c04f1962b5ebc6);\n",
       "        \n",
       "    \n",
       "            var icon_f56db729803fb2ec033a2a791491f3b1 = L.AwesomeMarkers.icon(\n",
       "                {\n",
       "  &quot;markerColor&quot;: &quot;red&quot;,\n",
       "  &quot;iconColor&quot;: &quot;white&quot;,\n",
       "  &quot;icon&quot;: &quot;cutlery&quot;,\n",
       "  &quot;prefix&quot;: &quot;fa&quot;,\n",
       "  &quot;extraClasses&quot;: &quot;fa-rotate-0&quot;,\n",
       "}\n",
       "            );\n",
       "            marker_92159ed880b7008b48fa37630433e363.setIcon(icon_f56db729803fb2ec033a2a791491f3b1);\n",
       "        \n",
       "    \n",
       "        var popup_85595fd9187692e907a52da857ea467a = L.popup({\n",
       "  &quot;maxWidth&quot;: &quot;100%&quot;,\n",
       "});\n",
       "\n",
       "        \n",
       "            \n",
       "                var html_78c12fd0a08f326725aa2a48e36b99bd = $(`&lt;div id=&quot;html_78c12fd0a08f326725aa2a48e36b99bd&quot; style=&quot;width: 100.0%; height: 100.0%;&quot;&gt;(&quot;&lt;b style=&#x27;font-size: 18px; &#x27;&gt;Shapuceros&lt;/b&gt;&lt;br&gt;Direccion: Calzada de Ayestarán entre San Pedro y Ayuntamineto&quot;, &quot;Especialidades: [&#x27;Hamburgusera&#x27;]&quot;)&lt;/div&gt;`)[0];\n",
       "                popup_85595fd9187692e907a52da857ea467a.setContent(html_78c12fd0a08f326725aa2a48e36b99bd);\n",
       "            \n",
       "        \n",
       "\n",
       "        marker_92159ed880b7008b48fa37630433e363.bindPopup(popup_85595fd9187692e907a52da857ea467a)\n",
       "        ;\n",
       "\n",
       "        \n",
       "    \n",
       "    \n",
       "            var marker_b5a851bbc529a9deeadb1a9d22400236 = L.marker(\n",
       "                [23.138045288912124, -82.35708342337576],\n",
       "                {\n",
       "}\n",
       "            ).addTo(map_25b1f90f2fd0c40419c04f1962b5ebc6);\n",
       "        \n",
       "    \n",
       "            var icon_d3b0f4f519bd851550675ef5101c705e = L.AwesomeMarkers.icon(\n",
       "                {\n",
       "  &quot;markerColor&quot;: &quot;red&quot;,\n",
       "  &quot;iconColor&quot;: &quot;white&quot;,\n",
       "  &quot;icon&quot;: &quot;cutlery&quot;,\n",
       "  &quot;prefix&quot;: &quot;fa&quot;,\n",
       "  &quot;extraClasses&quot;: &quot;fa-rotate-0&quot;,\n",
       "}\n",
       "            );\n",
       "            marker_b5a851bbc529a9deeadb1a9d22400236.setIcon(icon_d3b0f4f519bd851550675ef5101c705e);\n",
       "        \n",
       "    \n",
       "        var popup_fc72e98458d46b74ac8818d907db18da = L.popup({\n",
       "  &quot;maxWidth&quot;: &quot;100%&quot;,\n",
       "});\n",
       "\n",
       "        \n",
       "            \n",
       "                var html_a34a949434ac294bb0f0c345ff514411 = $(`&lt;div id=&quot;html_a34a949434ac294bb0f0c345ff514411&quot; style=&quot;width: 100.0%; height: 100.0%;&quot;&gt;(&quot;&lt;b style=&#x27;font-size: 18px; &#x27;&gt;Sibarita&lt;/b&gt;&lt;br&gt;Direccion: O&#x27;Reilly #528 entre Bernaza y Villegas&quot;, &quot;Especialidades: [&#x27;Comida Caribeña&#x27;, &#x27;Latina&#x27;, &#x27;Internacional&#x27;, &#x27;Mediterránea&#x27;, &#x27;Cubana&#x27;, &#x27;Centroamericana&#x27;]&quot;)&lt;/div&gt;`)[0];\n",
       "                popup_fc72e98458d46b74ac8818d907db18da.setContent(html_a34a949434ac294bb0f0c345ff514411);\n",
       "            \n",
       "        \n",
       "\n",
       "        marker_b5a851bbc529a9deeadb1a9d22400236.bindPopup(popup_fc72e98458d46b74ac8818d907db18da)\n",
       "        ;\n",
       "\n",
       "        \n",
       "    \n",
       "    \n",
       "            var marker_98163efc69c77cc57594be2bdcf2054f = L.marker(\n",
       "                [23.133637707331292, -82.39154731355289],\n",
       "                {\n",
       "}\n",
       "            ).addTo(map_25b1f90f2fd0c40419c04f1962b5ebc6);\n",
       "        \n",
       "    \n",
       "            var icon_861f70acb7405fe18de2093c2821ba28 = L.AwesomeMarkers.icon(\n",
       "                {\n",
       "  &quot;markerColor&quot;: &quot;red&quot;,\n",
       "  &quot;iconColor&quot;: &quot;white&quot;,\n",
       "  &quot;icon&quot;: &quot;cutlery&quot;,\n",
       "  &quot;prefix&quot;: &quot;fa&quot;,\n",
       "  &quot;extraClasses&quot;: &quot;fa-rotate-0&quot;,\n",
       "}\n",
       "            );\n",
       "            marker_98163efc69c77cc57594be2bdcf2054f.setIcon(icon_861f70acb7405fe18de2093c2821ba28);\n",
       "        \n",
       "    \n",
       "        var popup_675874f2f598ac636f00c1b32f495a3b = L.popup({\n",
       "  &quot;maxWidth&quot;: &quot;100%&quot;,\n",
       "});\n",
       "\n",
       "        \n",
       "            \n",
       "                var html_4c74c2e2b4facb7be3acb97223ee73e9 = $(`&lt;div id=&quot;html_4c74c2e2b4facb7be3acb97223ee73e9&quot; style=&quot;width: 100.0%; height: 100.0%;&quot;&gt;(&quot;&lt;b style=&#x27;font-size: 18px; &#x27;&gt;Sonar contigo&lt;/b&gt;&lt;br&gt;Direccion: Esquina Ave 23 y Calle C&quot;, &quot;Especialidades: [&#x27;Desayunos&#x27;, &#x27;Cafes&#x27;]&quot;)&lt;/div&gt;`)[0];\n",
       "                popup_675874f2f598ac636f00c1b32f495a3b.setContent(html_4c74c2e2b4facb7be3acb97223ee73e9);\n",
       "            \n",
       "        \n",
       "\n",
       "        marker_98163efc69c77cc57594be2bdcf2054f.bindPopup(popup_675874f2f598ac636f00c1b32f495a3b)\n",
       "        ;\n",
       "\n",
       "        \n",
       "    \n",
       "    \n",
       "            var marker_50b26c4600c08532c3c51cc406fd563d = L.marker(\n",
       "                [23.127430900373163, -82.3996309593316],\n",
       "                {\n",
       "}\n",
       "            ).addTo(map_25b1f90f2fd0c40419c04f1962b5ebc6);\n",
       "        \n",
       "    \n",
       "            var icon_28854b0547dc07b8ef59dff16e50733e = L.AwesomeMarkers.icon(\n",
       "                {\n",
       "  &quot;markerColor&quot;: &quot;red&quot;,\n",
       "  &quot;iconColor&quot;: &quot;white&quot;,\n",
       "  &quot;icon&quot;: &quot;cutlery&quot;,\n",
       "  &quot;prefix&quot;: &quot;fa&quot;,\n",
       "  &quot;extraClasses&quot;: &quot;fa-rotate-0&quot;,\n",
       "}\n",
       "            );\n",
       "            marker_50b26c4600c08532c3c51cc406fd563d.setIcon(icon_28854b0547dc07b8ef59dff16e50733e);\n",
       "        \n",
       "    \n",
       "        var popup_0881de41e830484dde9621c9c8e2106c = L.popup({\n",
       "  &quot;maxWidth&quot;: &quot;100%&quot;,\n",
       "});\n",
       "\n",
       "        \n",
       "            \n",
       "                var html_e6c1832e5de72cd0420c26754f654e3e = $(`&lt;div id=&quot;html_e6c1832e5de72cd0420c26754f654e3e&quot; style=&quot;width: 100.0%; height: 100.0%;&quot;&gt;(&quot;&lt;b style=&#x27;font-size: 18px; &#x27;&gt;Spot Bar&lt;/b&gt;&lt;br&gt;Direccion: 23 y 12, Vedado&quot;, &quot;Especialidades: [&#x27;Comida Mixta&#x27;]&quot;)&lt;/div&gt;`)[0];\n",
       "                popup_0881de41e830484dde9621c9c8e2106c.setContent(html_e6c1832e5de72cd0420c26754f654e3e);\n",
       "            \n",
       "        \n",
       "\n",
       "        marker_50b26c4600c08532c3c51cc406fd563d.bindPopup(popup_0881de41e830484dde9621c9c8e2106c)\n",
       "        ;\n",
       "\n",
       "        \n",
       "    \n",
       "    \n",
       "            var marker_5638ca68bf439ffecc0a5ca5fde89873 = L.marker(\n",
       "                [23.141094353520803, -82.35193028818678],\n",
       "                {\n",
       "}\n",
       "            ).addTo(map_25b1f90f2fd0c40419c04f1962b5ebc6);\n",
       "        \n",
       "    \n",
       "            var icon_3b482884af64d351ef69ad07353d493f = L.AwesomeMarkers.icon(\n",
       "                {\n",
       "  &quot;markerColor&quot;: &quot;red&quot;,\n",
       "  &quot;iconColor&quot;: &quot;white&quot;,\n",
       "  &quot;icon&quot;: &quot;cutlery&quot;,\n",
       "  &quot;prefix&quot;: &quot;fa&quot;,\n",
       "  &quot;extraClasses&quot;: &quot;fa-rotate-0&quot;,\n",
       "}\n",
       "            );\n",
       "            marker_5638ca68bf439ffecc0a5ca5fde89873.setIcon(icon_3b482884af64d351ef69ad07353d493f);\n",
       "        \n",
       "    \n",
       "        var popup_6bdd703c1fb463eb12c92c5d283d1d17 = L.popup({\n",
       "  &quot;maxWidth&quot;: &quot;100%&quot;,\n",
       "});\n",
       "\n",
       "        \n",
       "            \n",
       "                var html_45c4eeb7284c4645accda1f06c9fdb59 = $(`&lt;div id=&quot;html_45c4eeb7284c4645accda1f06c9fdb59&quot; style=&quot;width: 100.0%; height: 100.0%;&quot;&gt;(&quot;&lt;b style=&#x27;font-size: 18px; &#x27;&gt;Star Cafe&lt;/b&gt;&lt;br&gt;Direccion: 216 Empedrado&quot;, &quot;Especialidades: [&#x27;Pizza&#x27;, &#x27;Internacional&#x27;, &#x27;Cubana&#x27;]&quot;)&lt;/div&gt;`)[0];\n",
       "                popup_6bdd703c1fb463eb12c92c5d283d1d17.setContent(html_45c4eeb7284c4645accda1f06c9fdb59);\n",
       "            \n",
       "        \n",
       "\n",
       "        marker_5638ca68bf439ffecc0a5ca5fde89873.bindPopup(popup_6bdd703c1fb463eb12c92c5d283d1d17)\n",
       "        ;\n",
       "\n",
       "        \n",
       "    \n",
       "    \n",
       "            var marker_c85b3b46b43d2f6070d5508ccc166d76 = L.marker(\n",
       "                [23.142676112791115, -82.39937586429151],\n",
       "                {\n",
       "}\n",
       "            ).addTo(map_25b1f90f2fd0c40419c04f1962b5ebc6);\n",
       "        \n",
       "    \n",
       "            var icon_6c4fe1b8857de3f6e1bff0e3830f49c1 = L.AwesomeMarkers.icon(\n",
       "                {\n",
       "  &quot;markerColor&quot;: &quot;red&quot;,\n",
       "  &quot;iconColor&quot;: &quot;white&quot;,\n",
       "  &quot;icon&quot;: &quot;cutlery&quot;,\n",
       "  &quot;prefix&quot;: &quot;fa&quot;,\n",
       "  &quot;extraClasses&quot;: &quot;fa-rotate-0&quot;,\n",
       "}\n",
       "            );\n",
       "            marker_c85b3b46b43d2f6070d5508ccc166d76.setIcon(icon_6c4fe1b8857de3f6e1bff0e3830f49c1);\n",
       "        \n",
       "    \n",
       "        var popup_7363c8220cb47eaf60e3e9922da8f406 = L.popup({\n",
       "  &quot;maxWidth&quot;: &quot;100%&quot;,\n",
       "});\n",
       "\n",
       "        \n",
       "            \n",
       "                var html_7166683660faa30b57e36a7e92276cfa = $(`&lt;div id=&quot;html_7166683660faa30b57e36a7e92276cfa&quot; style=&quot;width: 100.0%; height: 100.0%;&quot;&gt;(&quot;&lt;b style=&#x27;font-size: 18px; &#x27;&gt;Tablazo&lt;/b&gt;&lt;br&gt;Direccion: Calle 1era entre C y D, Vedado.&quot;, &quot;Especialidades: [&#x27;Italiana&#x27;, &#x27;caribeña&#x27;, &#x27;latina&#x27;, &#x27;internacional&#x27;, &#x27;cubana&#x27;]&quot;)&lt;/div&gt;`)[0];\n",
       "                popup_7363c8220cb47eaf60e3e9922da8f406.setContent(html_7166683660faa30b57e36a7e92276cfa);\n",
       "            \n",
       "        \n",
       "\n",
       "        marker_c85b3b46b43d2f6070d5508ccc166d76.bindPopup(popup_7363c8220cb47eaf60e3e9922da8f406)\n",
       "        ;\n",
       "\n",
       "        \n",
       "    \n",
       "    \n",
       "            var marker_dbbb9b7db5e6e05381c35e7d10a21512 = L.marker(\n",
       "                [22.971547817920836, -82.3848668593548],\n",
       "                {\n",
       "}\n",
       "            ).addTo(map_25b1f90f2fd0c40419c04f1962b5ebc6);\n",
       "        \n",
       "    \n",
       "            var icon_7a6cbc578ddb0c66027549130826ff82 = L.AwesomeMarkers.icon(\n",
       "                {\n",
       "  &quot;markerColor&quot;: &quot;red&quot;,\n",
       "  &quot;iconColor&quot;: &quot;white&quot;,\n",
       "  &quot;icon&quot;: &quot;cutlery&quot;,\n",
       "  &quot;prefix&quot;: &quot;fa&quot;,\n",
       "  &quot;extraClasses&quot;: &quot;fa-rotate-0&quot;,\n",
       "}\n",
       "            );\n",
       "            marker_dbbb9b7db5e6e05381c35e7d10a21512.setIcon(icon_7a6cbc578ddb0c66027549130826ff82);\n",
       "        \n",
       "    \n",
       "        var popup_273d88531d6ad6911d8b5ee3bd0ba38d = L.popup({\n",
       "  &quot;maxWidth&quot;: &quot;100%&quot;,\n",
       "});\n",
       "\n",
       "        \n",
       "            \n",
       "                var html_a76ec58e68b7ddd57847d62ece02c301 = $(`&lt;div id=&quot;html_a76ec58e68b7ddd57847d62ece02c301&quot; style=&quot;width: 100.0%; height: 100.0%;&quot;&gt;(&quot;&lt;b style=&#x27;font-size: 18px; &#x27;&gt;Tanokura&lt;/b&gt;&lt;br&gt;Direccion: Calle 403 %Ave. Rancho Boyeros  Calle B, Santiago de las Vegas&quot;, &quot;Especialidades: [&#x27;Italiana&#x27;, &#x27;criolla&#x27;, &#x27;internacional&#x27;]&quot;)&lt;/div&gt;`)[0];\n",
       "                popup_273d88531d6ad6911d8b5ee3bd0ba38d.setContent(html_a76ec58e68b7ddd57847d62ece02c301);\n",
       "            \n",
       "        \n",
       "\n",
       "        marker_dbbb9b7db5e6e05381c35e7d10a21512.bindPopup(popup_273d88531d6ad6911d8b5ee3bd0ba38d)\n",
       "        ;\n",
       "\n",
       "        \n",
       "    \n",
       "    \n",
       "            var marker_795da58e41ddbd5f8480e27d6e272a37 = L.marker(\n",
       "                [23.135937842467282, -82.35497378290009],\n",
       "                {\n",
       "}\n",
       "            ).addTo(map_25b1f90f2fd0c40419c04f1962b5ebc6);\n",
       "        \n",
       "    \n",
       "            var icon_3081b6e4d3741518a6834fe595923519 = L.AwesomeMarkers.icon(\n",
       "                {\n",
       "  &quot;markerColor&quot;: &quot;red&quot;,\n",
       "  &quot;iconColor&quot;: &quot;white&quot;,\n",
       "  &quot;icon&quot;: &quot;cutlery&quot;,\n",
       "  &quot;prefix&quot;: &quot;fa&quot;,\n",
       "  &quot;extraClasses&quot;: &quot;fa-rotate-0&quot;,\n",
       "}\n",
       "            );\n",
       "            marker_795da58e41ddbd5f8480e27d6e272a37.setIcon(icon_3081b6e4d3741518a6834fe595923519);\n",
       "        \n",
       "    \n",
       "        var popup_666ee353c6f8099ba9a8aa4b21aa2b62 = L.popup({\n",
       "  &quot;maxWidth&quot;: &quot;100%&quot;,\n",
       "});\n",
       "\n",
       "        \n",
       "            \n",
       "                var html_abd88586cb427d8ac7aa651a61480b8c = $(`&lt;div id=&quot;html_abd88586cb427d8ac7aa651a61480b8c&quot; style=&quot;width: 100.0%; height: 100.0%;&quot;&gt;(&quot;&lt;b style=&#x27;font-size: 18px; &#x27;&gt;Teniente Rey 360&lt;/b&gt;&lt;br&gt;Direccion: Calle Teniente Rey #360 entre Aguacate y Villegas&quot;, &quot;Especialidades: [&#x27;Comida Caribeña&#x27;, &#x27;Latina&#x27;, &#x27;Marisco&#x27;, &#x27;Cubana&#x27;, &#x27;Sudamericana&#x27;, &#x27;Centroamericana&#x27;]&quot;)&lt;/div&gt;`)[0];\n",
       "                popup_666ee353c6f8099ba9a8aa4b21aa2b62.setContent(html_abd88586cb427d8ac7aa651a61480b8c);\n",
       "            \n",
       "        \n",
       "\n",
       "        marker_795da58e41ddbd5f8480e27d6e272a37.bindPopup(popup_666ee353c6f8099ba9a8aa4b21aa2b62)\n",
       "        ;\n",
       "\n",
       "        \n",
       "    \n",
       "    \n",
       "            var marker_0103215945e19a59ea1326b76c01345b = L.marker(\n",
       "                [23.052187090195876, -82.38259188107308],\n",
       "                {\n",
       "}\n",
       "            ).addTo(map_25b1f90f2fd0c40419c04f1962b5ebc6);\n",
       "        \n",
       "    \n",
       "            var icon_91481ae5972f488a88c5218bf7068135 = L.AwesomeMarkers.icon(\n",
       "                {\n",
       "  &quot;markerColor&quot;: &quot;red&quot;,\n",
       "  &quot;iconColor&quot;: &quot;white&quot;,\n",
       "  &quot;icon&quot;: &quot;cutlery&quot;,\n",
       "  &quot;prefix&quot;: &quot;fa&quot;,\n",
       "  &quot;extraClasses&quot;: &quot;fa-rotate-0&quot;,\n",
       "}\n",
       "            );\n",
       "            marker_0103215945e19a59ea1326b76c01345b.setIcon(icon_91481ae5972f488a88c5218bf7068135);\n",
       "        \n",
       "    \n",
       "        var popup_709a57a9711994e5fd0bd45fe7dc06ca = L.popup({\n",
       "  &quot;maxWidth&quot;: &quot;100%&quot;,\n",
       "});\n",
       "\n",
       "        \n",
       "            \n",
       "                var html_15e2e76a4061193d8de7e590b8e490a4 = $(`&lt;div id=&quot;html_15e2e76a4061193d8de7e590b8e490a4&quot; style=&quot;width: 100.0%; height: 100.0%;&quot;&gt;(&quot;&lt;b style=&#x27;font-size: 18px; &#x27;&gt;The Place&lt;/b&gt;&lt;br&gt;Direccion: calle 100, pasando Aldabo&quot;, &quot;Especialidades: [&#x27;mixta&#x27;]&quot;)&lt;/div&gt;`)[0];\n",
       "                popup_709a57a9711994e5fd0bd45fe7dc06ca.setContent(html_15e2e76a4061193d8de7e590b8e490a4);\n",
       "            \n",
       "        \n",
       "\n",
       "        marker_0103215945e19a59ea1326b76c01345b.bindPopup(popup_709a57a9711994e5fd0bd45fe7dc06ca)\n",
       "        ;\n",
       "\n",
       "        \n",
       "    \n",
       "    \n",
       "            var marker_1784d7cc23dec94f62971b45351aafc2 = L.marker(\n",
       "                [23.13838390087665, -82.36063540385594],\n",
       "                {\n",
       "}\n",
       "            ).addTo(map_25b1f90f2fd0c40419c04f1962b5ebc6);\n",
       "        \n",
       "    \n",
       "            var icon_0f3601a10280fc96e0fe20726bde1167 = L.AwesomeMarkers.icon(\n",
       "                {\n",
       "  &quot;markerColor&quot;: &quot;red&quot;,\n",
       "  &quot;iconColor&quot;: &quot;white&quot;,\n",
       "  &quot;icon&quot;: &quot;cutlery&quot;,\n",
       "  &quot;prefix&quot;: &quot;fa&quot;,\n",
       "  &quot;extraClasses&quot;: &quot;fa-rotate-0&quot;,\n",
       "}\n",
       "            );\n",
       "            marker_1784d7cc23dec94f62971b45351aafc2.setIcon(icon_0f3601a10280fc96e0fe20726bde1167);\n",
       "        \n",
       "    \n",
       "        var popup_a040f73caf88ebe8525b76cccb104198 = L.popup({\n",
       "  &quot;maxWidth&quot;: &quot;100%&quot;,\n",
       "});\n",
       "\n",
       "        \n",
       "            \n",
       "                var html_9cfab68e8d5ca63816ca71da513a42b3 = $(`&lt;div id=&quot;html_9cfab68e8d5ca63816ca71da513a42b3&quot; style=&quot;width: 100.0%; height: 100.0%;&quot;&gt;(&quot;&lt;b style=&#x27;font-size: 18px; &#x27;&gt;Tonyzz Bar&lt;/b&gt;&lt;br&gt;Direccion: Consulado &amp;, San Miguel, La Habana&quot;, &quot;Especialidades: [&#x27;italiana&#x27;, &#x27;americana&#x27;, &#x27;india&#x27;, &#x27;caribeña&#x27;, &#x27;asiática&#x27;, &#x27;cubana&#x27;, &#x27;ceilanesa&#x27;]&quot;)&lt;/div&gt;`)[0];\n",
       "                popup_a040f73caf88ebe8525b76cccb104198.setContent(html_9cfab68e8d5ca63816ca71da513a42b3);\n",
       "            \n",
       "        \n",
       "\n",
       "        marker_1784d7cc23dec94f62971b45351aafc2.bindPopup(popup_a040f73caf88ebe8525b76cccb104198)\n",
       "        ;\n",
       "\n",
       "        \n",
       "    \n",
       "    \n",
       "            var marker_c739abe78b5f8a1749807653bcce2187 = L.marker(\n",
       "                [23.135877861692762, -82.40428126252529],\n",
       "                {\n",
       "}\n",
       "            ).addTo(map_25b1f90f2fd0c40419c04f1962b5ebc6);\n",
       "        \n",
       "    \n",
       "            var icon_d8c4847fd6f61f572411c51f905cf842 = L.AwesomeMarkers.icon(\n",
       "                {\n",
       "  &quot;markerColor&quot;: &quot;red&quot;,\n",
       "  &quot;iconColor&quot;: &quot;white&quot;,\n",
       "  &quot;icon&quot;: &quot;cutlery&quot;,\n",
       "  &quot;prefix&quot;: &quot;fa&quot;,\n",
       "  &quot;extraClasses&quot;: &quot;fa-rotate-0&quot;,\n",
       "}\n",
       "            );\n",
       "            marker_c739abe78b5f8a1749807653bcce2187.setIcon(icon_d8c4847fd6f61f572411c51f905cf842);\n",
       "        \n",
       "    \n",
       "        var popup_65327730c45ad7deb26bd79b12bfe430 = L.popup({\n",
       "  &quot;maxWidth&quot;: &quot;100%&quot;,\n",
       "});\n",
       "\n",
       "        \n",
       "            \n",
       "                var html_7e31f61bdb7d3f6d3867586b88d41391 = $(`&lt;div id=&quot;html_7e31f61bdb7d3f6d3867586b88d41391&quot; style=&quot;width: 100.0%; height: 100.0%;&quot;&gt;(&quot;&lt;b style=&#x27;font-size: 18px; &#x27;&gt;Toto e Pepino&lt;/b&gt;&lt;br&gt;Direccion: Calle 8 entre 5ta y Calzada, Vedado&quot;, &quot;Especialidades: [&#x27;Comida Italiana&#x27;, &#x27;Campania&#x27;]&quot;)&lt;/div&gt;`)[0];\n",
       "                popup_65327730c45ad7deb26bd79b12bfe430.setContent(html_7e31f61bdb7d3f6d3867586b88d41391);\n",
       "            \n",
       "        \n",
       "\n",
       "        marker_c739abe78b5f8a1749807653bcce2187.bindPopup(popup_65327730c45ad7deb26bd79b12bfe430)\n",
       "        ;\n",
       "\n",
       "        \n",
       "    \n",
       "    \n",
       "            var marker_e458159ca44d1434a9a661dc511e9467 = L.marker(\n",
       "                [23.09472547391585, -82.42049115872929],\n",
       "                {\n",
       "}\n",
       "            ).addTo(map_25b1f90f2fd0c40419c04f1962b5ebc6);\n",
       "        \n",
       "    \n",
       "            var icon_388051527ca521fdfdb6f33ef6b5b072 = L.AwesomeMarkers.icon(\n",
       "                {\n",
       "  &quot;markerColor&quot;: &quot;red&quot;,\n",
       "  &quot;iconColor&quot;: &quot;white&quot;,\n",
       "  &quot;icon&quot;: &quot;cutlery&quot;,\n",
       "  &quot;prefix&quot;: &quot;fa&quot;,\n",
       "  &quot;extraClasses&quot;: &quot;fa-rotate-0&quot;,\n",
       "}\n",
       "            );\n",
       "            marker_e458159ca44d1434a9a661dc511e9467.setIcon(icon_388051527ca521fdfdb6f33ef6b5b072);\n",
       "        \n",
       "    \n",
       "        var popup_4cf0b701b1c7f4a837f593241137e4c8 = L.popup({\n",
       "  &quot;maxWidth&quot;: &quot;100%&quot;,\n",
       "});\n",
       "\n",
       "        \n",
       "            \n",
       "                var html_8536a85518cd35fe43d0a0edcc867c08 = $(`&lt;div id=&quot;html_8536a85518cd35fe43d0a0edcc867c08&quot; style=&quot;width: 100.0%; height: 100.0%;&quot;&gt;(&quot;&lt;b style=&#x27;font-size: 18px; &#x27;&gt;Tropikana&lt;/b&gt;&lt;br&gt;Direccion: Avenida 41, calle 72&quot;, &quot;Especialidades: [&#x27;internacional&#x27;, &#x27;italiana&#x27;, &#x27;cubana&#x27;]&quot;)&lt;/div&gt;`)[0];\n",
       "                popup_4cf0b701b1c7f4a837f593241137e4c8.setContent(html_8536a85518cd35fe43d0a0edcc867c08);\n",
       "            \n",
       "        \n",
       "\n",
       "        marker_e458159ca44d1434a9a661dc511e9467.bindPopup(popup_4cf0b701b1c7f4a837f593241137e4c8)\n",
       "        ;\n",
       "\n",
       "        \n",
       "    \n",
       "    \n",
       "            var marker_ef0c62da372fe0349607e00c9076a7e6 = L.marker(\n",
       "                [23.139702313656233, -82.37592887167152],\n",
       "                {\n",
       "}\n",
       "            ).addTo(map_25b1f90f2fd0c40419c04f1962b5ebc6);\n",
       "        \n",
       "    \n",
       "            var icon_36c9f05c4756df49d3cebaf00e2035d3 = L.AwesomeMarkers.icon(\n",
       "                {\n",
       "  &quot;markerColor&quot;: &quot;red&quot;,\n",
       "  &quot;iconColor&quot;: &quot;white&quot;,\n",
       "  &quot;icon&quot;: &quot;cutlery&quot;,\n",
       "  &quot;prefix&quot;: &quot;fa&quot;,\n",
       "  &quot;extraClasses&quot;: &quot;fa-rotate-0&quot;,\n",
       "}\n",
       "            );\n",
       "            marker_ef0c62da372fe0349607e00c9076a7e6.setIcon(icon_36c9f05c4756df49d3cebaf00e2035d3);\n",
       "        \n",
       "    \n",
       "        var popup_849c05b486d3318d257659699bea9552 = L.popup({\n",
       "  &quot;maxWidth&quot;: &quot;100%&quot;,\n",
       "});\n",
       "\n",
       "        \n",
       "            \n",
       "                var html_e9d28ff8674b29c16944e145b483c9a8 = $(`&lt;div id=&quot;html_e9d28ff8674b29c16944e145b483c9a8&quot; style=&quot;width: 100.0%; height: 100.0%;&quot;&gt;(&quot;&lt;b style=&#x27;font-size: 18px; &#x27;&gt;Tu Tiempo&lt;/b&gt;&lt;br&gt;Direccion: Calle Hospital entre San Lazaro y Jovellar&quot;, &quot;Especialidades: [&#x27;mixta&#x27;]&quot;)&lt;/div&gt;`)[0];\n",
       "                popup_849c05b486d3318d257659699bea9552.setContent(html_e9d28ff8674b29c16944e145b483c9a8);\n",
       "            \n",
       "        \n",
       "\n",
       "        marker_ef0c62da372fe0349607e00c9076a7e6.bindPopup(popup_849c05b486d3318d257659699bea9552)\n",
       "        ;\n",
       "\n",
       "        \n",
       "    \n",
       "    \n",
       "            var marker_1fbe4ff11137e4ac8e528a1745968da0 = L.marker(\n",
       "                [23.121664387894754, -82.29610398447532],\n",
       "                {\n",
       "}\n",
       "            ).addTo(map_25b1f90f2fd0c40419c04f1962b5ebc6);\n",
       "        \n",
       "    \n",
       "            var icon_747bc3125a0ce0c228676ba588c7a345 = L.AwesomeMarkers.icon(\n",
       "                {\n",
       "  &quot;markerColor&quot;: &quot;red&quot;,\n",
       "  &quot;iconColor&quot;: &quot;white&quot;,\n",
       "  &quot;icon&quot;: &quot;cutlery&quot;,\n",
       "  &quot;prefix&quot;: &quot;fa&quot;,\n",
       "  &quot;extraClasses&quot;: &quot;fa-rotate-0&quot;,\n",
       "}\n",
       "            );\n",
       "            marker_1fbe4ff11137e4ac8e528a1745968da0.setIcon(icon_747bc3125a0ce0c228676ba588c7a345);\n",
       "        \n",
       "    \n",
       "        var popup_e341e7c8285d41152c62a23b149fc0a1 = L.popup({\n",
       "  &quot;maxWidth&quot;: &quot;100%&quot;,\n",
       "});\n",
       "\n",
       "        \n",
       "            \n",
       "                var html_de98d83380d5f2430bbaaca0ca00a337 = $(`&lt;div id=&quot;html_de98d83380d5f2430bbaaca0ca00a337&quot; style=&quot;width: 100.0%; height: 100.0%;&quot;&gt;(&quot;&lt;b style=&#x27;font-size: 18px; &#x27;&gt;Vale &amp; Vane&lt;/b&gt;&lt;br&gt;Direccion: San Martin entre Corrales y Aparicion&quot;, &quot;Especialidades: [&#x27;italiana&#x27;, &#x27;criolla&#x27;]&quot;)&lt;/div&gt;`)[0];\n",
       "                popup_e341e7c8285d41152c62a23b149fc0a1.setContent(html_de98d83380d5f2430bbaaca0ca00a337);\n",
       "            \n",
       "        \n",
       "\n",
       "        marker_1fbe4ff11137e4ac8e528a1745968da0.bindPopup(popup_e341e7c8285d41152c62a23b149fc0a1)\n",
       "        ;\n",
       "\n",
       "        \n",
       "    \n",
       "    \n",
       "            var marker_e28776e1150335e46c9540a84a524360 = L.marker(\n",
       "                [23.131006442270195, -82.3984675744632],\n",
       "                {\n",
       "}\n",
       "            ).addTo(map_25b1f90f2fd0c40419c04f1962b5ebc6);\n",
       "        \n",
       "    \n",
       "            var icon_7e4355061d734b08afa18b6f4ec5e293 = L.AwesomeMarkers.icon(\n",
       "                {\n",
       "  &quot;markerColor&quot;: &quot;red&quot;,\n",
       "  &quot;iconColor&quot;: &quot;white&quot;,\n",
       "  &quot;icon&quot;: &quot;cutlery&quot;,\n",
       "  &quot;prefix&quot;: &quot;fa&quot;,\n",
       "  &quot;extraClasses&quot;: &quot;fa-rotate-0&quot;,\n",
       "}\n",
       "            );\n",
       "            marker_e28776e1150335e46c9540a84a524360.setIcon(icon_7e4355061d734b08afa18b6f4ec5e293);\n",
       "        \n",
       "    \n",
       "        var popup_04d67775c820cb1dff66d637c409574c = L.popup({\n",
       "  &quot;maxWidth&quot;: &quot;100%&quot;,\n",
       "});\n",
       "\n",
       "        \n",
       "            \n",
       "                var html_3ebce906a7acd2a13c458ca40ef0f672 = $(`&lt;div id=&quot;html_3ebce906a7acd2a13c458ca40ef0f672&quot; style=&quot;width: 100.0%; height: 100.0%;&quot;&gt;(&quot;&lt;b style=&#x27;font-size: 18px; &#x27;&gt;El Vampirito&lt;/b&gt;&lt;br&gt;Direccion: Calle 6 entre 19 y 21, Vedado&quot;, &quot;Especialidades: [&#x27;Pizza&#x27;, &#x27;Comida italiana&#x27;, &#x27;Sandwiches&#x27;]&quot;)&lt;/div&gt;`)[0];\n",
       "                popup_04d67775c820cb1dff66d637c409574c.setContent(html_3ebce906a7acd2a13c458ca40ef0f672);\n",
       "            \n",
       "        \n",
       "\n",
       "        marker_e28776e1150335e46c9540a84a524360.bindPopup(popup_04d67775c820cb1dff66d637c409574c)\n",
       "        ;\n",
       "\n",
       "        \n",
       "    \n",
       "    \n",
       "            var marker_bbb677a2314df5eedf36971a3a74e77e = L.marker(\n",
       "                [23.135928366721494, -82.35711687469271],\n",
       "                {\n",
       "}\n",
       "            ).addTo(map_25b1f90f2fd0c40419c04f1962b5ebc6);\n",
       "        \n",
       "    \n",
       "            var icon_b4396d8cd17812163081379999aba76b = L.AwesomeMarkers.icon(\n",
       "                {\n",
       "  &quot;markerColor&quot;: &quot;red&quot;,\n",
       "  &quot;iconColor&quot;: &quot;white&quot;,\n",
       "  &quot;icon&quot;: &quot;cutlery&quot;,\n",
       "  &quot;prefix&quot;: &quot;fa&quot;,\n",
       "  &quot;extraClasses&quot;: &quot;fa-rotate-0&quot;,\n",
       "}\n",
       "            );\n",
       "            marker_bbb677a2314df5eedf36971a3a74e77e.setIcon(icon_b4396d8cd17812163081379999aba76b);\n",
       "        \n",
       "    \n",
       "        var popup_5076b3bc514106d767d65d5cc7e4577f = L.popup({\n",
       "  &quot;maxWidth&quot;: &quot;100%&quot;,\n",
       "});\n",
       "\n",
       "        \n",
       "            \n",
       "                var html_58ce4a7b4231ffee653ee4d97061d490 = $(`&lt;div id=&quot;html_58ce4a7b4231ffee653ee4d97061d490&quot; style=&quot;width: 100.0%; height: 100.0%;&quot;&gt;(&quot;&lt;b style=&#x27;font-size: 18px; &#x27;&gt;Venami&lt;/b&gt;&lt;br&gt;Direccion: Monserrate #435 e/ Teniente Rey y Lamparilla&quot;, &quot;Especialidades: [&#x27;Italiana&#x27;, &#x27;Pizza&#x27;, &#x27;Mediterranea&#x27;, &#x27;Europea&#x27;]&quot;)&lt;/div&gt;`)[0];\n",
       "                popup_5076b3bc514106d767d65d5cc7e4577f.setContent(html_58ce4a7b4231ffee653ee4d97061d490);\n",
       "            \n",
       "        \n",
       "\n",
       "        marker_bbb677a2314df5eedf36971a3a74e77e.bindPopup(popup_5076b3bc514106d767d65d5cc7e4577f)\n",
       "        ;\n",
       "\n",
       "        \n",
       "    \n",
       "    \n",
       "            var marker_61d7c431e433c3b5a34537a7ff174d8a = L.marker(\n",
       "                [23.06514033812983, -82.39795431500336],\n",
       "                {\n",
       "}\n",
       "            ).addTo(map_25b1f90f2fd0c40419c04f1962b5ebc6);\n",
       "        \n",
       "    \n",
       "            var icon_79a4d8644c4dab39fd05e1655889d364 = L.AwesomeMarkers.icon(\n",
       "                {\n",
       "  &quot;markerColor&quot;: &quot;red&quot;,\n",
       "  &quot;iconColor&quot;: &quot;white&quot;,\n",
       "  &quot;icon&quot;: &quot;cutlery&quot;,\n",
       "  &quot;prefix&quot;: &quot;fa&quot;,\n",
       "  &quot;extraClasses&quot;: &quot;fa-rotate-0&quot;,\n",
       "}\n",
       "            );\n",
       "            marker_61d7c431e433c3b5a34537a7ff174d8a.setIcon(icon_79a4d8644c4dab39fd05e1655889d364);\n",
       "        \n",
       "    \n",
       "        var popup_683dd08fe7101e86803d2f709a1f085f = L.popup({\n",
       "  &quot;maxWidth&quot;: &quot;100%&quot;,\n",
       "});\n",
       "\n",
       "        \n",
       "            \n",
       "                var html_5f1995033ce4ed47e333aecc6bca8169 = $(`&lt;div id=&quot;html_5f1995033ce4ed47e333aecc6bca8169&quot; style=&quot;width: 100.0%; height: 100.0%;&quot;&gt;(&quot;&lt;b style=&#x27;font-size: 18px; &#x27;&gt;VenaVento&lt;/b&gt;&lt;br&gt;Direccion: Calle 10, esq. Vento&quot;, &quot;Especialidades: [&#x27;cubana&#x27;, &#x27;internacional&#x27;]&quot;)&lt;/div&gt;`)[0];\n",
       "                popup_683dd08fe7101e86803d2f709a1f085f.setContent(html_5f1995033ce4ed47e333aecc6bca8169);\n",
       "            \n",
       "        \n",
       "\n",
       "        marker_61d7c431e433c3b5a34537a7ff174d8a.bindPopup(popup_683dd08fe7101e86803d2f709a1f085f)\n",
       "        ;\n",
       "\n",
       "        \n",
       "    \n",
       "    \n",
       "            var marker_84fa28f1cb7bb28a157322683f75498f = L.marker(\n",
       "                [22.973895524970906, -82.38392775915848],\n",
       "                {\n",
       "}\n",
       "            ).addTo(map_25b1f90f2fd0c40419c04f1962b5ebc6);\n",
       "        \n",
       "    \n",
       "            var icon_e0d738dc8a7eabbd7b5466d25969fdeb = L.AwesomeMarkers.icon(\n",
       "                {\n",
       "  &quot;markerColor&quot;: &quot;red&quot;,\n",
       "  &quot;iconColor&quot;: &quot;white&quot;,\n",
       "  &quot;icon&quot;: &quot;cutlery&quot;,\n",
       "  &quot;prefix&quot;: &quot;fa&quot;,\n",
       "  &quot;extraClasses&quot;: &quot;fa-rotate-0&quot;,\n",
       "}\n",
       "            );\n",
       "            marker_84fa28f1cb7bb28a157322683f75498f.setIcon(icon_e0d738dc8a7eabbd7b5466d25969fdeb);\n",
       "        \n",
       "    \n",
       "        var popup_3fe0bc1ea136fa686d64b612f5eab2f1 = L.popup({\n",
       "  &quot;maxWidth&quot;: &quot;100%&quot;,\n",
       "});\n",
       "\n",
       "        \n",
       "            \n",
       "                var html_80fc5801eec4732eab6f0303c75ba898 = $(`&lt;div id=&quot;html_80fc5801eec4732eab6f0303c75ba898&quot; style=&quot;width: 100.0%; height: 100.0%;&quot;&gt;(&quot;&lt;b style=&#x27;font-size: 18px; &#x27;&gt;Villanueva&lt;/b&gt;&lt;br&gt;Direccion: 182 # 39 511 e/ 395 y 397, Santiago de las Vegas&quot;, &quot;Especialidades: [&#x27;cubana&#x27;, &#x27;internacional&#x27;]&quot;)&lt;/div&gt;`)[0];\n",
       "                popup_3fe0bc1ea136fa686d64b612f5eab2f1.setContent(html_80fc5801eec4732eab6f0303c75ba898);\n",
       "            \n",
       "        \n",
       "\n",
       "        marker_84fa28f1cb7bb28a157322683f75498f.bindPopup(popup_3fe0bc1ea136fa686d64b612f5eab2f1)\n",
       "        ;\n",
       "\n",
       "        \n",
       "    \n",
       "    \n",
       "            var marker_1074b50a878b3ef02e421036b2f7f32f = L.marker(\n",
       "                [23.087246052907982, -82.3690334591559],\n",
       "                {\n",
       "}\n",
       "            ).addTo(map_25b1f90f2fd0c40419c04f1962b5ebc6);\n",
       "        \n",
       "    \n",
       "            var icon_5e2a6ca2acfe100703080934e4b988da = L.AwesomeMarkers.icon(\n",
       "                {\n",
       "  &quot;markerColor&quot;: &quot;red&quot;,\n",
       "  &quot;iconColor&quot;: &quot;white&quot;,\n",
       "  &quot;icon&quot;: &quot;cutlery&quot;,\n",
       "  &quot;prefix&quot;: &quot;fa&quot;,\n",
       "  &quot;extraClasses&quot;: &quot;fa-rotate-0&quot;,\n",
       "}\n",
       "            );\n",
       "            marker_1074b50a878b3ef02e421036b2f7f32f.setIcon(icon_5e2a6ca2acfe100703080934e4b988da);\n",
       "        \n",
       "    \n",
       "        var popup_083c304599c0fcad1e8645b37292a494 = L.popup({\n",
       "  &quot;maxWidth&quot;: &quot;100%&quot;,\n",
       "});\n",
       "\n",
       "        \n",
       "            \n",
       "                var html_1bdc41c11e6a1cb94d6bf8ae2be7275b = $(`&lt;div id=&quot;html_1bdc41c11e6a1cb94d6bf8ae2be7275b&quot; style=&quot;width: 100.0%; height: 100.0%;&quot;&gt;(&quot;&lt;b style=&#x27;font-size: 18px; &#x27;&gt;Villa Hernandez&lt;/b&gt;&lt;br&gt;Direccion: Calle San Miguel, # 112 e/ Revolución y Gelabert, Sevillano&quot;, &quot;Especialidades: [&#x27;internacional&#x27;, &#x27;criolla&#x27;]&quot;)&lt;/div&gt;`)[0];\n",
       "                popup_083c304599c0fcad1e8645b37292a494.setContent(html_1bdc41c11e6a1cb94d6bf8ae2be7275b);\n",
       "            \n",
       "        \n",
       "\n",
       "        marker_1074b50a878b3ef02e421036b2f7f32f.bindPopup(popup_083c304599c0fcad1e8645b37292a494)\n",
       "        ;\n",
       "\n",
       "        \n",
       "    \n",
       "    \n",
       "            var marker_b16350512d4302743d13379738e3ab21 = L.marker(\n",
       "                [23.14072849372818, -82.3845988],\n",
       "                {\n",
       "}\n",
       "            ).addTo(map_25b1f90f2fd0c40419c04f1962b5ebc6);\n",
       "        \n",
       "    \n",
       "            var icon_1380acaa90bb05525215763a585e3674 = L.AwesomeMarkers.icon(\n",
       "                {\n",
       "  &quot;markerColor&quot;: &quot;red&quot;,\n",
       "  &quot;iconColor&quot;: &quot;white&quot;,\n",
       "  &quot;icon&quot;: &quot;cutlery&quot;,\n",
       "  &quot;prefix&quot;: &quot;fa&quot;,\n",
       "  &quot;extraClasses&quot;: &quot;fa-rotate-0&quot;,\n",
       "}\n",
       "            );\n",
       "            marker_b16350512d4302743d13379738e3ab21.setIcon(icon_1380acaa90bb05525215763a585e3674);\n",
       "        \n",
       "    \n",
       "        var popup_1e7398db3193d6713e9d5813723a325a = L.popup({\n",
       "  &quot;maxWidth&quot;: &quot;100%&quot;,\n",
       "});\n",
       "\n",
       "        \n",
       "            \n",
       "                var html_1ff5cd14fd24b4e80af2c4d7c27f20d3 = $(`&lt;div id=&quot;html_1ff5cd14fd24b4e80af2c4d7c27f20d3&quot; style=&quot;width: 100.0%; height: 100.0%;&quot;&gt;(&quot;&lt;b style=&#x27;font-size: 18px; &#x27;&gt;Vita Nuova&lt;/b&gt;&lt;br&gt;Direccion: Calle L esquina 21, Vedado&quot;, &quot;Especialidades: [&#x27;Comida Italiana&#x27;, &#x27;caribeña&#x27;, &#x27;internacional&#x27;, &#x27;cubana&#x27;]&quot;)&lt;/div&gt;`)[0];\n",
       "                popup_1e7398db3193d6713e9d5813723a325a.setContent(html_1ff5cd14fd24b4e80af2c4d7c27f20d3);\n",
       "            \n",
       "        \n",
       "\n",
       "        marker_b16350512d4302743d13379738e3ab21.bindPopup(popup_1e7398db3193d6713e9d5813723a325a)\n",
       "        ;\n",
       "\n",
       "        \n",
       "    \n",
       "    \n",
       "            var marker_b5c526dff7815cc1b01e4f8c9c07e96c = L.marker(\n",
       "                [23.13336490258953, -82.39873911512949],\n",
       "                {\n",
       "}\n",
       "            ).addTo(map_25b1f90f2fd0c40419c04f1962b5ebc6);\n",
       "        \n",
       "    \n",
       "            var icon_a5100dff886cc293ecfc6ced39f26696 = L.AwesomeMarkers.icon(\n",
       "                {\n",
       "  &quot;markerColor&quot;: &quot;red&quot;,\n",
       "  &quot;iconColor&quot;: &quot;white&quot;,\n",
       "  &quot;icon&quot;: &quot;cutlery&quot;,\n",
       "  &quot;prefix&quot;: &quot;fa&quot;,\n",
       "  &quot;extraClasses&quot;: &quot;fa-rotate-0&quot;,\n",
       "}\n",
       "            );\n",
       "            marker_b5c526dff7815cc1b01e4f8c9c07e96c.setIcon(icon_a5100dff886cc293ecfc6ced39f26696);\n",
       "        \n",
       "    \n",
       "        var popup_aa69e6d9503671f0c7cc3fcace10983f = L.popup({\n",
       "  &quot;maxWidth&quot;: &quot;100%&quot;,\n",
       "});\n",
       "\n",
       "        \n",
       "            \n",
       "                var html_ac975aabdd73e615511b545589282572 = $(`&lt;div id=&quot;html_ac975aabdd73e615511b545589282572&quot; style=&quot;width: 100.0%; height: 100.0%;&quot;&gt;(&quot;&lt;b style=&#x27;font-size: 18px; &#x27;&gt;Wapa&lt;/b&gt;&lt;br&gt;Direccion: Calle 4 entre 15 y 17, Vedado&quot;, &quot;Especialidades: [&#x27;Cubana&#x27;, &#x27;Centroamericana&#x27;]&quot;)&lt;/div&gt;`)[0];\n",
       "                popup_aa69e6d9503671f0c7cc3fcace10983f.setContent(html_ac975aabdd73e615511b545589282572);\n",
       "            \n",
       "        \n",
       "\n",
       "        marker_b5c526dff7815cc1b01e4f8c9c07e96c.bindPopup(popup_aa69e6d9503671f0c7cc3fcace10983f)\n",
       "        ;\n",
       "\n",
       "        \n",
       "    \n",
       "    \n",
       "            var marker_be255cbd705eeb3a94e75e7de564285d = L.marker(\n",
       "                [23.12975236724791, -82.35241985161278],\n",
       "                {\n",
       "}\n",
       "            ).addTo(map_25b1f90f2fd0c40419c04f1962b5ebc6);\n",
       "        \n",
       "    \n",
       "            var icon_2ab6baaf4c584c6b0f299a2dc60f0a92 = L.AwesomeMarkers.icon(\n",
       "                {\n",
       "  &quot;markerColor&quot;: &quot;red&quot;,\n",
       "  &quot;iconColor&quot;: &quot;white&quot;,\n",
       "  &quot;icon&quot;: &quot;cutlery&quot;,\n",
       "  &quot;prefix&quot;: &quot;fa&quot;,\n",
       "  &quot;extraClasses&quot;: &quot;fa-rotate-0&quot;,\n",
       "}\n",
       "            );\n",
       "            marker_be255cbd705eeb3a94e75e7de564285d.setIcon(icon_2ab6baaf4c584c6b0f299a2dc60f0a92);\n",
       "        \n",
       "    \n",
       "        var popup_3a62dae873114c08bc41394333f9f678 = L.popup({\n",
       "  &quot;maxWidth&quot;: &quot;100%&quot;,\n",
       "});\n",
       "\n",
       "        \n",
       "            \n",
       "                var html_0f656c071ba7384e3a569c5d463d425a = $(`&lt;div id=&quot;html_0f656c071ba7384e3a569c5d463d425a&quot; style=&quot;width: 100.0%; height: 100.0%;&quot;&gt;(&quot;&lt;b style=&#x27;font-size: 18px; &#x27;&gt;Yarini&lt;/b&gt;&lt;br&gt;Direccion: Calle San Isidro #214 entre Picota y Compostela&quot;, &quot;Especialidades: [&#x27;Comida Internacional&#x27;, &#x27;Cubana&#x27;]&quot;)&lt;/div&gt;`)[0];\n",
       "                popup_3a62dae873114c08bc41394333f9f678.setContent(html_0f656c071ba7384e3a569c5d463d425a);\n",
       "            \n",
       "        \n",
       "\n",
       "        marker_be255cbd705eeb3a94e75e7de564285d.bindPopup(popup_3a62dae873114c08bc41394333f9f678)\n",
       "        ;\n",
       "\n",
       "        \n",
       "    \n",
       "    \n",
       "            var marker_5465cb7258ab6adc1054dafdcfd5e30a = L.marker(\n",
       "                [23.098978185190347, -82.33972403216933],\n",
       "                {\n",
       "}\n",
       "            ).addTo(map_25b1f90f2fd0c40419c04f1962b5ebc6);\n",
       "        \n",
       "    \n",
       "            var icon_54cbffb878a69367df04a8e220c579e7 = L.AwesomeMarkers.icon(\n",
       "                {\n",
       "  &quot;markerColor&quot;: &quot;red&quot;,\n",
       "  &quot;iconColor&quot;: &quot;white&quot;,\n",
       "  &quot;icon&quot;: &quot;cutlery&quot;,\n",
       "  &quot;prefix&quot;: &quot;fa&quot;,\n",
       "  &quot;extraClasses&quot;: &quot;fa-rotate-0&quot;,\n",
       "}\n",
       "            );\n",
       "            marker_5465cb7258ab6adc1054dafdcfd5e30a.setIcon(icon_54cbffb878a69367df04a8e220c579e7);\n",
       "        \n",
       "    \n",
       "        var popup_d2f6ac7ec088d9f28197087edf8351d0 = L.popup({\n",
       "  &quot;maxWidth&quot;: &quot;100%&quot;,\n",
       "});\n",
       "\n",
       "        \n",
       "            \n",
       "                var html_add0862ab126610a4b1b6e0747d9d54b = $(`&lt;div id=&quot;html_add0862ab126610a4b1b6e0747d9d54b&quot; style=&quot;width: 100.0%; height: 100.0%;&quot;&gt;(&quot;&lt;b style=&#x27;font-size: 18px; &#x27;&gt;Yesterday Havana&lt;/b&gt;&lt;br&gt;Direccion: Rita % Blanchy y Calzada de Guines&quot;, &quot;Especialidades: [&#x27;Comida Mixta&#x27;]&quot;)&lt;/div&gt;`)[0];\n",
       "                popup_d2f6ac7ec088d9f28197087edf8351d0.setContent(html_add0862ab126610a4b1b6e0747d9d54b);\n",
       "            \n",
       "        \n",
       "\n",
       "        marker_5465cb7258ab6adc1054dafdcfd5e30a.bindPopup(popup_d2f6ac7ec088d9f28197087edf8351d0)\n",
       "        ;\n",
       "\n",
       "        \n",
       "    \n",
       "    \n",
       "            var marker_10e692ea534c500979e8019b2d570366 = L.marker(\n",
       "                [23.14231693189427, -82.39812833852959],\n",
       "                {\n",
       "}\n",
       "            ).addTo(map_25b1f90f2fd0c40419c04f1962b5ebc6);\n",
       "        \n",
       "    \n",
       "            var icon_4ae278153fe2a2895505be4e53a5f308 = L.AwesomeMarkers.icon(\n",
       "                {\n",
       "  &quot;markerColor&quot;: &quot;red&quot;,\n",
       "  &quot;iconColor&quot;: &quot;white&quot;,\n",
       "  &quot;icon&quot;: &quot;cutlery&quot;,\n",
       "  &quot;prefix&quot;: &quot;fa&quot;,\n",
       "  &quot;extraClasses&quot;: &quot;fa-rotate-0&quot;,\n",
       "}\n",
       "            );\n",
       "            marker_10e692ea534c500979e8019b2d570366.setIcon(icon_4ae278153fe2a2895505be4e53a5f308);\n",
       "        \n",
       "    \n",
       "        var popup_d05755fc329d6565d5005580e53e2d37 = L.popup({\n",
       "  &quot;maxWidth&quot;: &quot;100%&quot;,\n",
       "});\n",
       "\n",
       "        \n",
       "            \n",
       "                var html_bd0e785641f5e8e348c74a25328d6fbf = $(`&lt;div id=&quot;html_bd0e785641f5e8e348c74a25328d6fbf&quot; style=&quot;width: 100.0%; height: 100.0%;&quot;&gt;(&quot;&lt;b style=&#x27;font-size: 18px; &#x27;&gt;Yo invito&lt;/b&gt;&lt;br&gt;Direccion: Calle 3era, Esquina D, Vedado&quot;, &quot;Especialidades: [&#x27;Comida Cubana&#x27;, &#x27;criolla&#x27;]&quot;)&lt;/div&gt;`)[0];\n",
       "                popup_d05755fc329d6565d5005580e53e2d37.setContent(html_bd0e785641f5e8e348c74a25328d6fbf);\n",
       "            \n",
       "        \n",
       "\n",
       "        marker_10e692ea534c500979e8019b2d570366.bindPopup(popup_d05755fc329d6565d5005580e53e2d37)\n",
       "        ;\n",
       "\n",
       "        \n",
       "    \n",
       "&lt;/script&gt;\n",
       "&lt;/html&gt;\" style=\"position:absolute;width:100%;height:100%;left:0;top:0;border:none !important;\" allowfullscreen webkitallowfullscreen mozallowfullscreen></iframe></div></div>"
      ],
      "text/plain": [
       "<folium.folium.Map at 0x1c67b782210>"
      ]
     },
     "metadata": {},
     "output_type": "display_data"
    }
   ],
   "source": [
    "\n",
    "#Mapa con los restaurantes ubicado :)\n",
    "mapa = fl.Map(location=[23.1, -82.4], zoom_start=11)\n",
    "\n",
    "lahabanamapa = {\"type\": \"FeatureCollection\", \"features\": [{\"geometry\": {\"type\": \"Polygon\", \"coordinates\": [[[-82.5403, 23.0517], [-82.5289, 23.0628], [-82.5239, 23.0735], [-82.509, 23.0829], [-82.5045, 23.0806], [-82.4981, 23.0844], [-82.5026, 23.0865], [-82.4957, 23.0937], [-82.4911, 23.0937], [-82.4894, 23.0897], [-82.4872, 23.0951], [-82.4835, 23.0947], [-82.4781, 23.0901], [-82.4783, 23.0949], [-82.4606, 23.0936], [-82.4609, 23.0976], [-82.4554, 23.0961], [-82.4535, 23.1017], [-82.4346, 23.1193], [-82.4152, 23.1334], [-82.4121, 23.1339], [-82.4119, 23.1305], [-82.4053, 23.1406], [-82.3912, 23.1478], [-82.3696, 23.1424], [-82.3579, 23.1468], [-82.3522, 23.145], [-82.345, 23.1353], [-82.3478, 23.1286], [-82.3577, 23.122], [-82.351, 23.1205], [-82.3448, 23.1266], [-82.3422, 23.1147], [-82.3343, 23.1123], [-82.3406, 23.1243], [-82.3359, 23.1273], [-82.3374, 23.1347], [-82.328, 23.1303], [-82.3281, 23.1382], [-82.3229, 23.1427], [-82.3446, 23.1424], [-82.3563, 23.1516], [-82.3244, 23.1664], [-82.3026, 23.1715], [-82.2944, 23.1688], [-82.2911, 23.1637], [-82.2892, 23.1702], [-82.2772, 23.1754], [-82.2442, 23.1786], [-82.2402, 23.1732], [-82.2393, 23.1783], [-82.228, 23.1806], [-82.214, 23.1785], [-82.2115, 23.1724], [-82.2121, 23.1785], [-82.2045, 23.1806], [-82.1518, 23.172], [-82.1258, 23.1744], [-82.1225, 23.1684], [-82.1161, 23.1715], [-82.1209, 23.1724], [-82.1185, 23.1737], [-82.098, 23.1729], [-82.0929, 23.1761], [-82.0925, 23.168], [-82.1016, 23.1666], [-82.1025, 23.1598], [-82.082, 23.1487], [-82.0799, 23.1245], [-82.0931, 23.1221], [-82.0861, 23.1055], [-82.1016, 23.0931], [-82.1015, 23.0847], [-82.1087, 23.0806], [-82.1058, 23.0767], [-82.1096, 23.0683], [-82.1011, 23.0555], [-82.1148, 23.0547], [-82.1445, 23.0685], [-82.15, 23.075], [-82.1562, 23.0744], [-82.1764, 23.0576], [-82.2231, 23.064], [-82.2256, 23.0165], [-82.1964, 22.9972], [-82.1979, 22.993], [-82.2115, 22.9944], [-82.2167, 22.9997], [-82.2283, 22.9804], [-82.2618, 22.9734], [-82.2475, 22.9564], [-82.2676, 22.9578], [-82.2798, 22.9519], [-82.2976, 22.9541], [-82.3009, 22.9627], [-82.3056, 22.9648], [-82.3132, 22.9649], [-82.3304, 22.9563], [-82.3648, 22.9667], [-82.3775, 22.9657], [-82.3759, 22.9558], [-82.3658, 22.9405], [-82.3868, 22.9337], [-82.4152, 22.9483], [-82.4287, 22.9466], [-82.4336, 22.9403], [-82.4458, 22.9471], [-82.4436, 22.9814], [-82.4482, 22.9851], [-82.4578, 22.9775], [-82.4661, 22.982], [-82.4672, 22.9783], [-82.4843, 22.9729], [-82.498, 22.9947], [-82.5012, 23.0095], [-82.5081, 23.0153], [-82.5066, 23.0211], [-82.4982, 23.0262], [-82.4949, 23.0323], [-82.4973, 23.0392], [-82.4917, 23.0411], [-82.4889, 23.0523], [-82.4921, 23.0736], [-82.4972, 23.0736], [-82.5021, 23.0687], [-82.5108, 23.0703], [-82.5329, 23.0523], [-82.5403, 23.0517]]]}, \"type\": \"Feature\", \"properties\": {\"province\": \"La Habana\", \"country\": \"Cuba\", \"region\": \"province\", \"country_domain\": \"cu\", \"province_id\": \"lha\", \"DPA_province_code\": \"23\"}}]}\n",
    "fl.GeoJson(lahabanamapa).add_to(mapa)\n",
    "for i, row in data2.iterrows():\n",
    "    coordenadas = [float(coord) for coord in row[\"location.coordinates\"].split(\", \")]\n",
    "    nombre = row[\"name\"]\n",
    "    direccion = row[\"location.address\"]\n",
    "    especializacion = row[\"specialized_food\"]\n",
    "   \n",
    "\n",
    "    fl.Marker(\n",
    "        location=coordenadas,\n",
    "        popup=(\n",
    "            f\"<b style='font-size: 18px; '>{nombre}</b><br>\"\n",
    "            f\"Direccion: {direccion}\",\n",
    "            f\"Especialidades: {especializacion}\",\n",
    "          ),\n",
    "          icon=fl.Icon(icon=\"cutlery\", prefix=\"fa\", color=\"red\")\n",
    "    ).add_to(mapa)\n",
    "display(mapa)\n",
    "\n"
   ]
  }
 ],
 "metadata": {
  "kernelspec": {
   "display_name": "Python 3",
   "language": "python",
   "name": "python3"
  },
  "language_info": {
   "codemirror_mode": {
    "name": "ipython",
    "version": 3
   },
   "file_extension": ".py",
   "mimetype": "text/x-python",
   "name": "python",
   "nbconvert_exporter": "python",
   "pygments_lexer": "ipython3",
   "version": "3.11.7"
  }
 },
 "nbformat": 4,
 "nbformat_minor": 2
}
